{
 "cells": [
  {
   "cell_type": "markdown",
   "metadata": {},
   "source": [
    "感知机（英语：Perceptron）是Frank Rosenblatt在1957年就职于Cornell航空实验室(Cornell Aeronautical Laboratory)时所发明的一种人工神经网络。它可以被视为一种最简单形式的前馈式人工神经网络，是一种二元线性分类器。它虽然简单，但是应用却非常广泛。本文将解释基本原理，并尝试用Spark+Python实现这个算法，使之能够分布方式执行。\n",
    "\n",
    "\n",
    "Remaining:\n",
    "1. Pocket-PLA 加上噪音\n",
    "2. Spark + Python\n",
    "3. 需要加上参考的文档。\n"
   ]
  },
  {
   "cell_type": "markdown",
   "metadata": {},
   "source": [
    "# 基本原理\n",
    "## 概念\n",
    "感知机学习的基本前提是数据是线性可分的，也就是两个类别的数据可以被一个超平面分开。\n",
    "\n",
    "![pla_1](https://raw.githubusercontent.com/xuxiangwen/python-book/master/resources/image/pla/pla_1.png)\n",
    "\n",
    "超平面的数学公式是 $$w\\cdot x + b$$\n",
    "空间任何一点是否处于平面某一边可以用公式来判断$$sign(w\\cdot x + b)$$\n",
    "可以这么理解这个公式，首先对超平面做一个坐标变化，把坐标原点变换到$$(0, 0, 0 ,-w_i/b , 0, 0)$$\n",
    "这样超平面公式变成$$w\\cdot x$$\n",
    "在这个变换后的空间里，对于某个向量，如果 $w\\cdot x$ 大于0，意味着这个向量和 $w$ 的夹角小于90度，也就是这个向量对应的点位于超平面上方，反之，如果 $w\\cdot x$ 小于0，意味着这个向量和 $w$ 的夹角小于90度, 也就是这个点位于超平面的下方。\n",
    "\n",
    "## 假设（Hypothesis）\n",
    "\n",
    "如上文所述，PLA的公式是：$$ h(X) = sign(w\\cdot x + b) $$\n",
    "如过每个 x 是一个 d 维向量。公式可以写成：$$ h(X) = sign(\\sum_{i=1}^d w_i*x_i + b)  $$\n",
    "对于上文中的超平面公式，如果我们让 $$ w_0=b , x_0=1$$\n",
    "\n",
    "公式变成：$$ h(X) = sign(\\sum_{i=0}^d w_i*x_i)  $$\n",
    "\n",
    "也就是：$$ h(X) = sign(w\\cdot x)  $$\n",
    "\n",
    "这里的公式和上节中的形式虽然相似，但意义不同，上节中对原始$x$做了一个坐标变换，而本节增加了一个维度。之所以这么做的原因是，对于$w$和$b$都是变量，所以上节中$w_i/b$可以是任意值的，无法进行计算。而在对原始$x$增加一个固定的值$1$后，能够把$w$求解出来。\n",
    "\n",
    "## PLA算法\n",
    "\n",
    "一直修正向量W，直到向量W满足所有数据为止。\n",
    "\n",
    "$for\\ t = 0, 1, ... $\n",
    "  \n",
    "$\\qquad 如果存在一个x满足$\n",
    "\n",
    "$\\qquad if\\ \\ sign(w\\cdot x) \\neq y $ \n",
    "\n",
    "$\\qquad \\qquad w_{t+1} = w_t + y\\cdot x$ \n",
    "\n",
    "$\\qquad else $\n",
    "\n",
    "$\\qquad \\qquad break$\n",
    "\n",
    "$w$的更新逻辑：\n",
    "![pla_2](https://github.com/xuxiangwen/python-book/raw/master/resources/image/pla/pla_2.png)\n"
   ]
  },
  {
   "cell_type": "markdown",
   "metadata": {},
   "source": [
    "## Pocket PLA\n",
    "上节的算法也称之为Naive PLA， Naive PLA的一大问题就是如果数据有杂音，不能完美的分类的话，算法就不会中止。所以对于有噪音的数据，我们只能期望找到错误最少的结果。然后这是一个NP Hard问题。 Pocket PLA一个贪心的近似算法。和Naive PLA算法类似。变顺序迭代为随机迭代，如果找出错误，则修正结果。在修正过程中，记录犯错误最少的向量。\n",
    "\n",
    "$ error_{min} = 1 $ \n",
    "\n",
    "$ w_{min} = 0  $  \n",
    "\n",
    "$for\\ t = 0, 1, ...,n $\n",
    "\n",
    "$\\qquad error_{t} = count(sign(w\\cdot x) \\neq y)/count(y) $ \n",
    "\n",
    "$\\qquad if\\ \\ error_{t} > 0 $ \n",
    "\n",
    "$\\qquad \\qquad if\\ \\ error_{t} < error_{min} $ \n",
    "\n",
    "$\\qquad \\qquad \\qquad error_{min} = error_{t} $\n",
    "\n",
    "$\\qquad \\qquad \\qquad w_{min} = w_t $\n",
    "\n",
    "$\\qquad \\qquad 使用任意一个错分类的点来更新w$\n",
    "\n",
    "$\\qquad \\qquad w_{t+1} = w_t + y\\cdot x$ \n",
    "\n",
    "$\\qquad else $\n",
    "\n",
    "$\\qquad \\qquad error_{min} = error_{t} $\n",
    "\n",
    "$\\qquad \\qquad w_{min} = w_t$\n",
    "\n",
    "$\\qquad \\qquad break$\n"
   ]
  },
  {
   "cell_type": "markdown",
   "metadata": {},
   "source": [
    "## w优化的本质\n",
    "\n",
    "以上算法描述中，每次只更新一个点，其实也可以更新所有的错误分类的点，或者若干个错误分类的点。本质上，PLA就是对以下函数求最小值的过程。\n",
    "$$L(w) = \\sum_{i=1}^n sign(w\\cdot t-y)$$\n",
    "而这个优化过程可以转化成下面公式\n",
    "$$w = w + \\alpha \\nabla F$$\n",
    "也就是\n",
    "$$w = w + \\alpha \\sum_{i=1}^k \\nabla sign(w\\cdot t-y)$$\n",
    "根据k的值不同，可以分为：\n",
    "* $k = n$：Batch Gradient Descent（批量梯度下降）\n",
    "* $k = 1$：Stochastic Gradient Descent（随机梯度下降）\n",
    "* $k > 1\\ and\\ k < n$：Mini-batch Gradient Descent（小批量梯度下降）"
   ]
  },
  {
   "cell_type": "markdown",
   "metadata": {},
   "source": [
    "# 算法实现\n",
    "## 基本实现"
   ]
  },
  {
   "cell_type": "markdown",
   "metadata": {},
   "source": [
    "Create own target function $f$ and data set $D$ to see\n",
    "how the Perceptron Learning Algorithm works. Take $d = 2$ so you can visualize the\n",
    "problem, and assume $X = [−1,1] × [−1,1]$ with uniform probability of picking each\n",
    "$x ∈ X$.\n",
    "\n",
    "In each run, choose a random line in the plane as your target function $f$ (do this by\n",
    "taking two random, uniformly distributed points in $[−1,1] × [−1,1]$ and taking the\n",
    "line passing through them), where one side of the line maps to +1 and the other maps\n",
    "to −1. Choose the inputs $x_n$ of the data set as random points (uniformly in $X$), and\n",
    "evaluate the target function on each $x_n$ to get the corresponding output $y_n$.\n",
    "\n",
    "Now, in each run, use the Perceptron Learning Algorithm to find $g$. Start the PLA\n",
    "with the weight vector w being all zeros (consider $sign(0) = 0$, so all points are initially misclassified), and at each iteration have the algorithm choose a point randomly\n",
    "from the set of misclassified points. We are interested in two quantities: the number\n",
    "of iterations that PLA takes to converge to $g$, and the disagreement between $f$ and\n",
    "$g$ which is $\\mathbb{P}[f(x) \\neq g(x)]$ (the probability that $f$ and $g$ will disagree on their classification of a random point). You can either calculate this probability exactly, or\n",
    "approximate it by generating a sufficiently large, separate set of points to estimate it.\n",
    "\n",
    "In order to get a reliable estimate for these two quantities, you should repeat the\n",
    "experiment for 1000 runs (each run as specified above) and take the average over\n",
    "these runs."
   ]
  },
  {
   "cell_type": "code",
   "execution_count": 1,
   "metadata": {},
   "outputs": [],
   "source": [
    "import math\n",
    "import matplotlib.pyplot as plt\n",
    "import matplotlib.animation as animation\n",
    "import numpy as np\n",
    "import pandas as pd\n",
    "%matplotlib inline"
   ]
  },
  {
   "cell_type": "markdown",
   "metadata": {},
   "source": [
    "### Base Functions"
   ]
  },
  {
   "cell_type": "code",
   "execution_count": 2,
   "metadata": {},
   "outputs": [],
   "source": [
    "\n",
    "def standard_weights(weights):\n",
    "    return weights/math.sqrt(np.sum(weights ** 2))\n",
    "\n",
    "\n",
    "def random_split(data, rate):\n",
    "    train_count = int(round(len(data) * rate))\n",
    "    train = data[0:train_count]\n",
    "    test = data[train_count:]\n",
    "    return train, test\n",
    "\n",
    "\n",
    "def get_numpy_data(data, features, output):\n",
    "    \"\"\"\n",
    "    convert pandas dataframe to numpy array\n",
    "    add 1 to feature_matrix\n",
    "    \"\"\"\n",
    "    feature_matrix = data.loc[:, features].as_matrix()\n",
    "    output_array = data.loc[:, output].as_matrix()\n",
    "    constant = np.ones((len(data), 1))\n",
    "    feature_matrix = np.hstack((constant, feature_matrix))\n",
    "    return feature_matrix, output_array\n",
    "\n",
    "\n",
    "def perceptron_output(feature_matrix, weights):\n",
    "    predictions = np.dot(feature_matrix, weights) > 0\n",
    "    return (predictions>0)*2-1\n",
    "\n",
    "\n",
    "def get_experiment_weights(d):\n",
    "    w = np.random.rand(d)\n",
    "    w /= math.sqrt(np.sum(w ** 2))\n",
    "    i = np.random.randint(0,d)\n",
    "    w0 = np.random.rand(1) * w[i]\n",
    "    weights = np.hstack((w0, w))\n",
    "    return standard_weights(weights)\n",
    "\n",
    "\n",
    "def get_experiment_dataframe(n, d, weight):\n",
    "    \"\"\"\n",
    "    get pandas get_experiment_dataframe\n",
    "    \"\"\"\n",
    "    x0 = np.ones((n,1))\n",
    "    x = np.random.rand(n, d)*2-1\n",
    "    x = np.hstack((x0, x))\n",
    "    y = perceptron_output(x, weight)\n",
    "    y.shape = (n, 1)\n",
    "    data = np.hstack((x, y))\n",
    "    df = pd.DataFrame(data[:,1:(d+2)])\n",
    "    df.columns = ['x'+str(i+1) for i in range(d)] + ['y']\n",
    "    return df\n",
    "\n",
    "\n",
    "def get_experiment_data(n, d):\n",
    "    \"\"\"\n",
    "    get pandas data and weights\n",
    "    \"\"\"\n",
    "    rate = 0.5\n",
    "    features = ['x' + str(i + 1) for i in range(d)]\n",
    "    output = 'y'\n",
    "    weights = get_experiment_weights(d)\n",
    "    data = get_experiment_dataframe(n, d, weights)\n",
    "    train, test = random_split(data, rate)\n",
    "    return train, test, features, output, weights\n"
   ]
  },
  {
   "cell_type": "markdown",
   "metadata": {},
   "source": [
    "### Perceptron"
   ]
  },
  {
   "cell_type": "code",
   "execution_count": 3,
   "metadata": {},
   "outputs": [],
   "source": [
    "\n",
    "def get_classification_accuracy(feature_matrix, weights, output):\n",
    "    predicts = perceptron_output(feature_matrix, weights)\n",
    "    return np.sum(output == predicts)/float(len(output))\n",
    "\n",
    "\n",
    "def update_weights(feature_matrix, output, weights, choose_first_error):\n",
    "    if np.all(weights == 0):\n",
    "        error_indexes = np.arange(len(feature_matrix))\n",
    "    else:\n",
    "        predictions = perceptron_output(feature_matrix, weights)\n",
    "        error_indexes = np.where(predictions != output)[0]\n",
    "    error_count = len(error_indexes)\n",
    "    if error_count == 0:\n",
    "        return weights, error_indexes, 0\n",
    "    if choose_first_error:\n",
    "        index = 0\n",
    "    else:\n",
    "        index = np.random.randint(error_count)\n",
    "    error_index = error_indexes[index]\n",
    "    return weights + feature_matrix[error_index]*output[error_index], error_indexes, error_index\n",
    "\n",
    "\n",
    "def pla(feature_matrix, output, weights_initial, step=False, choose_first_error=False):\n",
    "    weights = weights_initial\n",
    "    iteration = 0\n",
    "    while True:\n",
    "        iteration += 1\n",
    "        if step:\n",
    "            print('-------------------{0}-------------------'.format(iteration))\n",
    "        weights, error_indexes, error_index = update_weights(feature_matrix, output, weights, choose_first_error)\n",
    "        error_count = len(error_indexes)\n",
    "        if step:\n",
    "            print('weights = {0}, error_count = {1}'.format(weights, error_count))\n",
    "            print('error_index = {0}, error_vector = {1}, error_output = {2}'.format(\n",
    "                error_index, feature_matrix[error_index], output[error_index]))\n",
    "        if error_count == 0:\n",
    "            break\n",
    "    weights = standard_weights(weights)\n",
    "    return weights, iteration\n",
    "\n",
    "\n",
    "def get_y(x, weights):\n",
    "    y = -weights[0]/weights[2] - weights[1]*x/weights[2]\n",
    "    return y\n",
    "\n",
    "\n",
    "animation_iteration = 0\n",
    "animation_error_count = 0\n",
    "animation_weights = np.array([])\n",
    "\n",
    "\n",
    "def pla_animation(feature_matrix, output, weights, weights_initial, choose_first_error=False):\n",
    "    global animation_weights, animation_error_count, animation_iteration\n",
    "    animation_weights = weights_initial\n",
    "    animation_iteration = 0\n",
    "    animation_error_count = len(feature_matrix)\n",
    "\n",
    "    x = feature_matrix[:, 1]\n",
    "    y = feature_matrix[:, 2]\n",
    "    color = output\n",
    "\n",
    "    fig = plt.figure(figsize=(10, 10))\n",
    "    ax = plt.axes(xlim=(-4, 4), ylim=(-4, 4))\n",
    "    ax.grid(True)\n",
    "\n",
    "    line_x = np.array([-2, 2])\n",
    "    line_y = get_y(line_x, weights)\n",
    "    line = ax.plot(line_x, line_y, color='black', linewidth=2)\n",
    "    plt.annotate('', xy=weights[1:], xytext=(0, 0),\n",
    "                 arrowprops=dict(linewidth=2.0, color='black', arrowstyle=\"->\", connectionstyle=\"arc3\"))\n",
    "    plt.annotate(' origin weights = {0}'.format(weights), xy=(0, 0), xytext=(-3.8, 3.8))\n",
    "    scat = ax.scatter(x, y, s=50, c=color, alpha=.5)\n",
    "\n",
    "    def init():\n",
    "        return scat,\n",
    "\n",
    "    def animate(frame):\n",
    "        global animation_weights, animation_error_count, animation_iteration\n",
    "        if animation_error_count > 0:\n",
    "            animation_iteration += 1\n",
    "            anno_weights_prev = plt.annotate('', xy=animation_weights[1:], xytext=(0, 0),\n",
    "                                             arrowprops=dict(linewidth=2, color='blue', arrowstyle=\"->\",\n",
    "                                                             connectionstyle=\"arc3\"))\n",
    "            animation_weights, error_indexes, error_index = update_weights(feature_matrix, output, animation_weights,\n",
    "                                                                           choose_first_error=choose_first_error)\n",
    "            animation_error_count = len(error_indexes)\n",
    "            error_xy = (feature_matrix[error_index, 1], feature_matrix[error_index, 2])\n",
    "            anno_error = plt.annotate('', xy=error_xy, xytext=(0, 0),\n",
    "                                      arrowprops=dict(linewidth=2, color='red', arrowstyle=\"->\",\n",
    "                                                      connectionstyle=\"arc3\"))\n",
    "        weights_text = 'current weights = {0}'.format(standard_weights(animation_weights))\n",
    "        anno_current_weights = plt.annotate(weights_text, xy=(0, 0), xytext=(-3.8, 3.6))\n",
    "        title_text = 'iteration = {0}, error_count = {1}'.format(animation_iteration, animation_error_count)\n",
    "        anno_title = plt.annotate(title_text, xy=(0, 0), xytext=(-3.8, 3.4))\n",
    "        anno_weights = plt.annotate('', xy=animation_weights[1:], xytext=(0, 0),\n",
    "                                    arrowprops=dict(linewidth=2, color='green', arrowstyle=\"->\",\n",
    "                                                    connectionstyle=\"arc3\"))\n",
    "        if animation_error_count > 0:\n",
    "            return scat, anno_current_weights, anno_title, anno_error, anno_weights_prev, anno_weights,\n",
    "        else:\n",
    "            current_line_x = np.array([-3, 3])\n",
    "            y1 = get_y(-3, standard_weights(animation_weights))\n",
    "            y2 = get_y(3, standard_weights(animation_weights))\n",
    "            anno_line = plt.annotate('', xy=(-3, y1), xytext=(3, y2),\n",
    "                                        arrowprops=dict(linewidth=2, color='green', arrowstyle=\"-\"))\n",
    "            return scat, anno_line, anno_current_weights, anno_title, anno_weights,\n",
    "\n",
    "    anim = animation.FuncAnimation(fig, animate, init_func=init, frames=200, interval=1000, blit=True)\n",
    "    plt.show()\n"
   ]
  },
  {
   "cell_type": "markdown",
   "metadata": {},
   "source": [
    "### Perceptron Experiment"
   ]
  },
  {
   "cell_type": "code",
   "execution_count": 4,
   "metadata": {},
   "outputs": [],
   "source": [
    "def run_pla(time, n, d, step=False, choose_first_error=False):\n",
    "    train, test, features, output, weights = get_experiment_data(n, d)\n",
    "    weights_initial = np.zeros(d + 1)\n",
    "    train_features, train_output = get_numpy_data(train, features, output)\n",
    "    test_features, test_output = get_numpy_data(test, features, output)\n",
    "\n",
    "    if time == 1 or time % 100 == 0:\n",
    "        print('========================{0}========================='.format(time))\n",
    "    weights, iteration = pla(train_features, train_output, weights_initial, step=step,\n",
    "                             choose_first_error=choose_first_error)\n",
    "    train_accuracy = get_classification_accuracy(train_features, weights, train_output)\n",
    "    test_accuracy = get_classification_accuracy(test_features, weights, test_output)\n",
    "    if time == 1 or time % 100 == 0:\n",
    "        print('iteration={0}, train_accuracy={1}, test_accuracy={2} '.format(iteration, train_accuracy, test_accuracy))\n",
    "    return iteration, train_accuracy, test_accuracy\n",
    "\n",
    "\n",
    "def run_pla_animation(n, d, choose_first_error=False):\n",
    "    if d != 2:\n",
    "        print('d should be 2')\n",
    "        return\n",
    "    train, test, features, output, weights = get_experiment_data(n, d)\n",
    "    weights_initial = np.zeros(d + 1)\n",
    "    train_features, train_output = get_numpy_data(train, features, output)\n",
    "    pla_animation(train_features, train_output, weights, weights_initial, choose_first_error)\n",
    "\n",
    "\n",
    "def run_plas(times, n, d, choose_first_error=False):\n",
    "    results = np.transpose(np.array(zip(*[run_pla(i+1, n, d, choose_first_error=choose_first_error) for i in range(times)])))\n",
    "    info = pd.DataFrame(results)\n",
    "    info.columns = ['iteration', 'train_accuracy', 'test_accuracy']\n",
    "    return info\n",
    "\n",
    "\n",
    "def main():\n",
    "    times = 1000\n",
    "    n = 200\n",
    "    d = 2\n",
    "\n",
    "    info = run_plas(times, n, d, choose_first_error=False)\n",
    "    info1 = run_plas(times, n, d, choose_first_error=True)\n",
    "\n",
    "    print('\\n\\ntimes={0}, n={1}, d={2}, choose_first_error={3}'.format(times, n, d, False))\n",
    "    print(info.describe())\n",
    "    print('\\n\\ntimes={0}, n={1}, d={2}, choose_first_error={3}'.format(times, n, d, True))\n",
    "    print(info1.describe())\n",
    "\n",
    "\n",
    "def test_pla():\n",
    "    n = 20\n",
    "    d = 2\n",
    "    #run_pla(0, n, d, step=True)\n",
    "    run_pla_animation(n, d)"
   ]
  },
  {
   "cell_type": "markdown",
   "metadata": {},
   "source": [
    "### Question 1\n",
    "Take $N = 10$. How many iterations does it take on average for the PLA to\n",
    "converge for $N = 10$ training points? "
   ]
  },
  {
   "cell_type": "code",
   "execution_count": 5,
   "metadata": {},
   "outputs": [
    {
     "name": "stdout",
     "output_type": "stream",
     "text": [
      "========================1=========================\n",
      "iteration=3, train_accuracy=1.0, test_accuracy=0.9 \n",
      "========================100=========================\n",
      "iteration=10, train_accuracy=1.0, test_accuracy=0.8 \n",
      "========================200=========================\n",
      "iteration=9, train_accuracy=1.0, test_accuracy=1.0 \n",
      "========================300=========================\n",
      "iteration=14, train_accuracy=1.0, test_accuracy=0.7 \n",
      "========================400=========================\n",
      "iteration=2, train_accuracy=1.0, test_accuracy=0.9 \n",
      "========================500=========================\n",
      "iteration=9, train_accuracy=1.0, test_accuracy=1.0 \n",
      "========================600=========================\n",
      "iteration=3, train_accuracy=1.0, test_accuracy=0.9 \n",
      "========================700=========================\n",
      "iteration=5, train_accuracy=1.0, test_accuracy=0.8 \n",
      "========================800=========================\n",
      "iteration=7, train_accuracy=1.0, test_accuracy=0.7 \n",
      "========================900=========================\n",
      "iteration=14, train_accuracy=1.0, test_accuracy=0.8 \n",
      "========================1000=========================\n",
      "iteration=3, train_accuracy=1.0, test_accuracy=0.9 \n"
     ]
    },
    {
     "ename": "ValueError",
     "evalue": "Must pass 2-d input",
     "output_type": "error",
     "traceback": [
      "\u001b[0;31m---------------------------------------------------------------------------\u001b[0m",
      "\u001b[0;31mValueError\u001b[0m                                Traceback (most recent call last)",
      "\u001b[0;32m<ipython-input-5-ee2dec9a5f73>\u001b[0m in \u001b[0;36m<module>\u001b[0;34m()\u001b[0m\n\u001b[1;32m      2\u001b[0m \u001b[0mn\u001b[0m \u001b[0;34m=\u001b[0m \u001b[0;36m20\u001b[0m   \u001b[0;31m#the proportion of train and error is 1:1\u001b[0m\u001b[0;34m\u001b[0m\u001b[0m\n\u001b[1;32m      3\u001b[0m \u001b[0md\u001b[0m \u001b[0;34m=\u001b[0m \u001b[0;36m2\u001b[0m\u001b[0;34m\u001b[0m\u001b[0m\n\u001b[0;32m----> 4\u001b[0;31m \u001b[0minfo_10\u001b[0m \u001b[0;34m=\u001b[0m \u001b[0mrun_plas\u001b[0m\u001b[0;34m(\u001b[0m\u001b[0mtimes\u001b[0m\u001b[0;34m,\u001b[0m \u001b[0mn\u001b[0m\u001b[0;34m,\u001b[0m \u001b[0md\u001b[0m\u001b[0;34m,\u001b[0m \u001b[0mchoose_first_error\u001b[0m\u001b[0;34m=\u001b[0m\u001b[0;32mFalse\u001b[0m\u001b[0;34m)\u001b[0m\u001b[0;34m\u001b[0m\u001b[0m\n\u001b[0m",
      "\u001b[0;32m<ipython-input-4-8f725ac68cf1>\u001b[0m in \u001b[0;36mrun_plas\u001b[0;34m(times, n, d, choose_first_error)\u001b[0m\n\u001b[1;32m     28\u001b[0m \u001b[0;32mdef\u001b[0m \u001b[0mrun_plas\u001b[0m\u001b[0;34m(\u001b[0m\u001b[0mtimes\u001b[0m\u001b[0;34m,\u001b[0m \u001b[0mn\u001b[0m\u001b[0;34m,\u001b[0m \u001b[0md\u001b[0m\u001b[0;34m,\u001b[0m \u001b[0mchoose_first_error\u001b[0m\u001b[0;34m=\u001b[0m\u001b[0;32mFalse\u001b[0m\u001b[0;34m)\u001b[0m\u001b[0;34m:\u001b[0m\u001b[0;34m\u001b[0m\u001b[0m\n\u001b[1;32m     29\u001b[0m     \u001b[0mresults\u001b[0m \u001b[0;34m=\u001b[0m \u001b[0mnp\u001b[0m\u001b[0;34m.\u001b[0m\u001b[0mtranspose\u001b[0m\u001b[0;34m(\u001b[0m\u001b[0mnp\u001b[0m\u001b[0;34m.\u001b[0m\u001b[0marray\u001b[0m\u001b[0;34m(\u001b[0m\u001b[0mzip\u001b[0m\u001b[0;34m(\u001b[0m\u001b[0;34m*\u001b[0m\u001b[0;34m[\u001b[0m\u001b[0mrun_pla\u001b[0m\u001b[0;34m(\u001b[0m\u001b[0mi\u001b[0m\u001b[0;34m+\u001b[0m\u001b[0;36m1\u001b[0m\u001b[0;34m,\u001b[0m \u001b[0mn\u001b[0m\u001b[0;34m,\u001b[0m \u001b[0md\u001b[0m\u001b[0;34m,\u001b[0m \u001b[0mchoose_first_error\u001b[0m\u001b[0;34m=\u001b[0m\u001b[0mchoose_first_error\u001b[0m\u001b[0;34m)\u001b[0m \u001b[0;32mfor\u001b[0m \u001b[0mi\u001b[0m \u001b[0;32min\u001b[0m \u001b[0mrange\u001b[0m\u001b[0;34m(\u001b[0m\u001b[0mtimes\u001b[0m\u001b[0;34m)\u001b[0m\u001b[0;34m]\u001b[0m\u001b[0;34m)\u001b[0m\u001b[0;34m)\u001b[0m\u001b[0;34m)\u001b[0m\u001b[0;34m\u001b[0m\u001b[0m\n\u001b[0;32m---> 30\u001b[0;31m     \u001b[0minfo\u001b[0m \u001b[0;34m=\u001b[0m \u001b[0mpd\u001b[0m\u001b[0;34m.\u001b[0m\u001b[0mDataFrame\u001b[0m\u001b[0;34m(\u001b[0m\u001b[0mresults\u001b[0m\u001b[0;34m)\u001b[0m\u001b[0;34m\u001b[0m\u001b[0m\n\u001b[0m\u001b[1;32m     31\u001b[0m     \u001b[0minfo\u001b[0m\u001b[0;34m.\u001b[0m\u001b[0mcolumns\u001b[0m \u001b[0;34m=\u001b[0m \u001b[0;34m[\u001b[0m\u001b[0;34m'iteration'\u001b[0m\u001b[0;34m,\u001b[0m \u001b[0;34m'train_accuracy'\u001b[0m\u001b[0;34m,\u001b[0m \u001b[0;34m'test_accuracy'\u001b[0m\u001b[0;34m]\u001b[0m\u001b[0;34m\u001b[0m\u001b[0m\n\u001b[1;32m     32\u001b[0m     \u001b[0;32mreturn\u001b[0m \u001b[0minfo\u001b[0m\u001b[0;34m\u001b[0m\u001b[0m\n",
      "\u001b[0;32m/opt/conda/lib/python3.6/site-packages/pandas/core/frame.py\u001b[0m in \u001b[0;36m__init__\u001b[0;34m(self, data, index, columns, dtype, copy)\u001b[0m\n\u001b[1;32m    295\u001b[0m             \u001b[0;32melse\u001b[0m\u001b[0;34m:\u001b[0m\u001b[0;34m\u001b[0m\u001b[0m\n\u001b[1;32m    296\u001b[0m                 mgr = self._init_ndarray(data, index, columns, dtype=dtype,\n\u001b[0;32m--> 297\u001b[0;31m                                          copy=copy)\n\u001b[0m\u001b[1;32m    298\u001b[0m         \u001b[0;32melif\u001b[0m \u001b[0misinstance\u001b[0m\u001b[0;34m(\u001b[0m\u001b[0mdata\u001b[0m\u001b[0;34m,\u001b[0m \u001b[0;34m(\u001b[0m\u001b[0mlist\u001b[0m\u001b[0;34m,\u001b[0m \u001b[0mtypes\u001b[0m\u001b[0;34m.\u001b[0m\u001b[0mGeneratorType\u001b[0m\u001b[0;34m)\u001b[0m\u001b[0;34m)\u001b[0m\u001b[0;34m:\u001b[0m\u001b[0;34m\u001b[0m\u001b[0m\n\u001b[1;32m    299\u001b[0m             \u001b[0;32mif\u001b[0m \u001b[0misinstance\u001b[0m\u001b[0;34m(\u001b[0m\u001b[0mdata\u001b[0m\u001b[0;34m,\u001b[0m \u001b[0mtypes\u001b[0m\u001b[0;34m.\u001b[0m\u001b[0mGeneratorType\u001b[0m\u001b[0;34m)\u001b[0m\u001b[0;34m:\u001b[0m\u001b[0;34m\u001b[0m\u001b[0m\n",
      "\u001b[0;32m/opt/conda/lib/python3.6/site-packages/pandas/core/frame.py\u001b[0m in \u001b[0;36m_init_ndarray\u001b[0;34m(self, values, index, columns, dtype, copy)\u001b[0m\n\u001b[1;32m    452\u001b[0m         \u001b[0;31m# by definition an array here\u001b[0m\u001b[0;34m\u001b[0m\u001b[0;34m\u001b[0m\u001b[0m\n\u001b[1;32m    453\u001b[0m         \u001b[0;31m# the dtypes will be coerced to a single dtype\u001b[0m\u001b[0;34m\u001b[0m\u001b[0;34m\u001b[0m\u001b[0m\n\u001b[0;32m--> 454\u001b[0;31m         \u001b[0mvalues\u001b[0m \u001b[0;34m=\u001b[0m \u001b[0m_prep_ndarray\u001b[0m\u001b[0;34m(\u001b[0m\u001b[0mvalues\u001b[0m\u001b[0;34m,\u001b[0m \u001b[0mcopy\u001b[0m\u001b[0;34m=\u001b[0m\u001b[0mcopy\u001b[0m\u001b[0;34m)\u001b[0m\u001b[0;34m\u001b[0m\u001b[0m\n\u001b[0m\u001b[1;32m    455\u001b[0m \u001b[0;34m\u001b[0m\u001b[0m\n\u001b[1;32m    456\u001b[0m         \u001b[0;32mif\u001b[0m \u001b[0mdtype\u001b[0m \u001b[0;32mis\u001b[0m \u001b[0;32mnot\u001b[0m \u001b[0;32mNone\u001b[0m\u001b[0;34m:\u001b[0m\u001b[0;34m\u001b[0m\u001b[0m\n",
      "\u001b[0;32m/opt/conda/lib/python3.6/site-packages/pandas/core/frame.py\u001b[0m in \u001b[0;36m_prep_ndarray\u001b[0;34m(values, copy)\u001b[0m\n\u001b[1;32m   5490\u001b[0m         \u001b[0mvalues\u001b[0m \u001b[0;34m=\u001b[0m \u001b[0mvalues\u001b[0m\u001b[0;34m.\u001b[0m\u001b[0mreshape\u001b[0m\u001b[0;34m(\u001b[0m\u001b[0;34m(\u001b[0m\u001b[0mvalues\u001b[0m\u001b[0;34m.\u001b[0m\u001b[0mshape\u001b[0m\u001b[0;34m[\u001b[0m\u001b[0;36m0\u001b[0m\u001b[0;34m]\u001b[0m\u001b[0;34m,\u001b[0m \u001b[0;36m1\u001b[0m\u001b[0;34m)\u001b[0m\u001b[0;34m)\u001b[0m\u001b[0;34m\u001b[0m\u001b[0m\n\u001b[1;32m   5491\u001b[0m     \u001b[0;32melif\u001b[0m \u001b[0mvalues\u001b[0m\u001b[0;34m.\u001b[0m\u001b[0mndim\u001b[0m \u001b[0;34m!=\u001b[0m \u001b[0;36m2\u001b[0m\u001b[0;34m:\u001b[0m\u001b[0;34m\u001b[0m\u001b[0m\n\u001b[0;32m-> 5492\u001b[0;31m         \u001b[0;32mraise\u001b[0m \u001b[0mValueError\u001b[0m\u001b[0;34m(\u001b[0m\u001b[0;34m'Must pass 2-d input'\u001b[0m\u001b[0;34m)\u001b[0m\u001b[0;34m\u001b[0m\u001b[0m\n\u001b[0m\u001b[1;32m   5493\u001b[0m \u001b[0;34m\u001b[0m\u001b[0m\n\u001b[1;32m   5494\u001b[0m     \u001b[0;32mreturn\u001b[0m \u001b[0mvalues\u001b[0m\u001b[0;34m\u001b[0m\u001b[0m\n",
      "\u001b[0;31mValueError\u001b[0m: Must pass 2-d input"
     ]
    }
   ],
   "source": [
    "times = 1000\n",
    "n = 20   #the proportion of train and error is 1:1\n",
    "d = 2\n",
    "info_10 = run_plas(times, n, d, choose_first_error=False)"
   ]
  },
  {
   "cell_type": "code",
   "execution_count": null,
   "metadata": {},
   "outputs": [],
   "source": [
    "print('times={0}, n={1}, d={2}, choose_first_error={3}'.format(times, n, d, False))\n",
    "print(info_10.describe())"
   ]
  },
  {
   "cell_type": "markdown",
   "metadata": {},
   "source": [
    "### Question 2\n",
    "Take $N = 100$. How many iterations does it take on average for the PLA to\n",
    "converge for $N = 100$ training points? "
   ]
  },
  {
   "cell_type": "code",
   "execution_count": 9,
   "metadata": {},
   "outputs": [
    {
     "name": "stdout",
     "output_type": "stream",
     "text": [
      "========================1=========================\n",
      "iteration=64, train_accuracy=1.0, test_accuracy=0.96 \n",
      "========================100=========================\n",
      "iteration=39, train_accuracy=1.0, test_accuracy=0.99 \n",
      "========================200=========================\n",
      "iteration=16, train_accuracy=1.0, test_accuracy=0.99 \n",
      "========================300=========================\n",
      "iteration=4, train_accuracy=1.0, test_accuracy=0.99 \n",
      "========================400=========================\n",
      "iteration=662, train_accuracy=1.0, test_accuracy=0.99 \n",
      "========================500=========================\n",
      "iteration=1490, train_accuracy=1.0, test_accuracy=0.98 \n",
      "========================600=========================\n",
      "iteration=6, train_accuracy=1.0, test_accuracy=0.94 \n",
      "========================700=========================\n",
      "iteration=73, train_accuracy=1.0, test_accuracy=1.0 \n",
      "========================800=========================\n",
      "iteration=15, train_accuracy=1.0, test_accuracy=0.98 \n",
      "========================900=========================\n",
      "iteration=11, train_accuracy=1.0, test_accuracy=0.98 \n",
      "========================1000=========================\n",
      "iteration=69, train_accuracy=1.0, test_accuracy=0.98 \n"
     ]
    }
   ],
   "source": [
    "times = 1000\n",
    "n = 200   #the proportion of train and error is 1:1\n",
    "d = 2\n",
    "info_100 = run_plas(times, n, d, choose_first_error=False)"
   ]
  },
  {
   "cell_type": "code",
   "execution_count": 10,
   "metadata": {},
   "outputs": [
    {
     "name": "stdout",
     "output_type": "stream",
     "text": [
      "times=1000, n=200, d=2, choose_first_error=False\n",
      "          iteration  train_accuracy  test_accuracy\n",
      "count   1000.000000          1000.0    1000.000000\n",
      "mean     137.131000             1.0       0.986130\n",
      "std      534.365963             0.0       0.015974\n",
      "min        2.000000             1.0       0.870000\n",
      "25%       31.000000             1.0       0.980000\n",
      "50%       62.000000             1.0       0.990000\n",
      "75%      119.250000             1.0       1.000000\n",
      "max    14456.000000             1.0       1.000000\n"
     ]
    }
   ],
   "source": [
    "print('times={0}, n={1}, d={2}, choose_first_error={3}'.format(times, n, d, False))\n",
    "print(info_100.describe())"
   ]
  },
  {
   "cell_type": "markdown",
   "metadata": {},
   "source": [
    "当测试集的数量是10，测试准确度在90%左右，当测试集的数量是100，测试准确度在99%左右，这说明随着数据量的增加，测试集的准确度越来越高。简单的说，数据量越大，模型的准确度越高。但其深层次的原因在什么地方呢？"
   ]
  },
  {
   "cell_type": "markdown",
   "metadata": {},
   "source": [
    "### 可视化($d=2$)\n",
    "以下代码在ipython notebook中运行无法显示动画。不知道是何原因。"
   ]
  },
  {
   "cell_type": "code",
   "execution_count": 11,
   "metadata": {},
   "outputs": [
    {
     "data": {
      "image/png": "[encoded data removed]",
      "text/plain": [
       "<matplotlib.figure.Figure at 0x7f87956e9690>"
      ]
     },
     "metadata": {},
     "output_type": "display_data"
    }
   ],
   "source": [
    "n = 40\n",
    "d = 2\n",
    "run_pla_animation(n, d)"
   ]
  },
  {
   "cell_type": "markdown",
   "metadata": {
    "collapsed": true
   },
   "source": [
    "### 选择第一个分类错误的点\n",
    "在每次更新$w$的时候，选择的是随机的一个错误点，如果改成每次选择第一个分类错误的点，这样的话将会发生什么？"
   ]
  },
  {
   "cell_type": "code",
   "execution_count": 12,
   "metadata": {},
   "outputs": [
    {
     "name": "stdout",
     "output_type": "stream",
     "text": [
      "========================1=========================\n",
      "iteration=130, train_accuracy=1.0, test_accuracy=0.99 \n",
      "========================100=========================\n",
      "iteration=1191, train_accuracy=1.0, test_accuracy=0.99 \n",
      "========================200=========================\n",
      "iteration=96, train_accuracy=1.0, test_accuracy=0.98 \n",
      "========================300=========================\n",
      "iteration=158, train_accuracy=1.0, test_accuracy=1.0 \n",
      "========================400=========================\n",
      "iteration=526, train_accuracy=1.0, test_accuracy=1.0 \n",
      "========================500=========================\n",
      "iteration=134, train_accuracy=1.0, test_accuracy=0.99 \n",
      "========================600=========================\n",
      "iteration=78, train_accuracy=1.0, test_accuracy=1.0 \n",
      "========================700=========================\n",
      "iteration=21, train_accuracy=1.0, test_accuracy=1.0 \n",
      "========================800=========================\n",
      "iteration=71, train_accuracy=1.0, test_accuracy=0.99 \n",
      "========================900=========================\n",
      "iteration=51, train_accuracy=1.0, test_accuracy=0.98 \n",
      "========================1000=========================\n",
      "iteration=94, train_accuracy=1.0, test_accuracy=1.0 \n",
      "times=1000, n=200, d=2, choose_first_error=True\n",
      "         iteration  train_accuracy  test_accuracy\n",
      "count   1000.00000          1000.0    1000.000000\n",
      "mean     238.06600             1.0       0.986140\n",
      "std      954.78021             0.0       0.015249\n",
      "min        3.00000             1.0       0.910000\n",
      "25%       37.00000             1.0       0.980000\n",
      "50%       76.00000             1.0       0.990000\n",
      "75%      160.00000             1.0       1.000000\n",
      "max    16652.00000             1.0       1.000000\n"
     ]
    }
   ],
   "source": [
    "n = 200\n",
    "d = 2\n",
    "info_100_first = run_plas(times, n, d, choose_first_error=True)\n",
    "print('times={0}, n={1}, d={2}, choose_first_error={3}'.format(times, n, d, True))\n",
    "print(info_100_first.describe())"
   ]
  },
  {
   "cell_type": "markdown",
   "metadata": {
    "collapsed": true
   },
   "source": [
    "这时，算法收敛需要的迭代次数变成了200+，几乎是原来的两倍，而且标准方差是原来的2倍多，其真正原因是什么呢？"
   ]
  },
  {
   "cell_type": "markdown",
   "metadata": {
    "collapsed": true
   },
   "source": [
    "### 如何提高PLA的收敛速度"
   ]
  },
  {
   "cell_type": "markdown",
   "metadata": {
    "collapsed": true
   },
   "source": [
    "这里还有一个问题，迭代次数的标准方差特别大，至少是200+，而且其分布呈现明显的右偏（均值>中位数>众数）。有什么办法能够减少这个方差呢？如果这可以做到，则可以提高PLA的收敛速度。已知的一种方法是利用线性回归先找到一个比较近似的结果$w$，然后把它作为初始值代入到PLA算法中，这样能够大大减少迭代的次数，并减少方差。"
   ]
  },
  {
   "cell_type": "code",
   "execution_count": 13,
   "metadata": {},
   "outputs": [
    {
     "data": {
      "image/png": "[encoded data removed]",
      "text/plain": [
       "<matplotlib.figure.Figure at 0x7f8793014e10>"
      ]
     },
     "metadata": {},
     "output_type": "display_data"
    },
    {
     "name": "stdout",
     "output_type": "stream",
     "text": [
      "count     1000.000000\n",
      "mean       137.131000\n",
      "std        534.365963\n",
      "min          2.000000\n",
      "25%         31.000000\n",
      "50%         62.000000\n",
      "75%        119.250000\n",
      "max      14456.000000\n",
      "Name: iteration, dtype: float64\n"
     ]
    }
   ],
   "source": [
    "bins = np.arange(0., 300., 15.)\n",
    "plt.hist(np.array(info_100['iteration'].values), bins)\n",
    "plt.grid(True)\n",
    "plt.show()\n",
    "print(info_100['iteration'].describe())"
   ]
  },
  {
   "cell_type": "code",
   "execution_count": null,
   "metadata": {
    "collapsed": true
   },
   "outputs": [],
   "source": []
  },
  {
   "cell_type": "code",
   "execution_count": null,
   "metadata": {
    "collapsed": true
   },
   "outputs": [],
   "source": []
  },
  {
   "cell_type": "code",
   "execution_count": null,
   "metadata": {
    "collapsed": true
   },
   "outputs": [],
   "source": []
  }
 ],
 "metadata": {
  "anaconda-cloud": {},
  "kernelspec": {
   "display_name": "Python 3",
   "language": "python",
   "name": "python3"
  },
  "language_info": {
   "codemirror_mode": {
    "name": "ipython",
    "version": 3
   },
   "file_extension": ".py",
   "mimetype": "text/x-python",
   "name": "python",
   "nbconvert_exporter": "python",
   "pygments_lexer": "ipython3",
   "version": "3.5.2"
  }
 },
 "nbformat": 4,
 "nbformat_minor": 1
}
