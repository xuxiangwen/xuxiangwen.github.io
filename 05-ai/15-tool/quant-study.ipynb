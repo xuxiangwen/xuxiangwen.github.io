{
 "cells": [
  {
   "cell_type": "markdown",
   "metadata": {},
   "source": [
    "### Task"
   ]
  },
  {
   "cell_type": "markdown",
   "metadata": {},
   "source": [
    "### Idea\n",
    "\n",
    "2017-12-16\n",
    "\n",
    "* 通过分析公司的财务状况，判断公司是否有重大财务风险。能否用机器学习来做，看起来数据量不是非常大，而且能够发现有风险的公司，还有潜力的公司。\n",
    "* 如何发现那些不错的公司却不为人说关注。 "
   ]
  },
  {
   "cell_type": "markdown",
   "metadata": {},
   "source": [
    "### Good\n",
    "\n",
    "\n",
    " \n",
    "2017-12-17：\n",
    "        \n",
    "* $\\href {https://zhuanlan.zhihu.com/p/26179943} {史上最全Quant资源整理}$ 作者8个月前整理的，的确是一网打尽。      \n",
    "\n",
    " 下面这些事已做了简单注册和查看：\n",
    "* 数据获取\n",
    "    * $\\href {http://tushare.org/ } {Tushare} $ : Tushare是一个免费、开源的python财经数据接口包。非常不错的免费工具。github上也有开源代码https://github.com/waditu/tushare\n",
    "* 交易\n",
    "    * $\\href { https://github.com/shidenggui/easytrader } {easytrader} $ : 进行自动的程序化股票交易\n",
    "* 投资策略\n",
    "    * $\\href { https://bigquant.com/ } {bigquant} $ : 自定义策略，看上去高大上，里面能集成各种组件，甚至还有深度学习的各个处理，流程化的创建策略，这个工具看起来设计的格局比较大。\n",
    "    * $\\href { https://www.joinquant.com/?f=home&m=memu } {果仁网} $ : 自定义策略，当没法编程，主要是设定一些公式，里面有很多各方面的指标，应该也是非常实用的。里面还有很多网友设定的策略和指标，如果能写一个算法来综合这些指标，是否有用呢\n",
    "    * $\\href { https://www.joinquant.com/?f=home&m=memu } {优矿} $ : 自定义策略，可以编写jupyter notebook程序，里面还有很多学习的jupyter notebook。看起来比JointQuant好一些。\n",
    "    * $\\href { https://www.joinquant.com/?f=home&m=memu } {JointQuant聚宽} $ : 自定义策略，可以编写python程序"
   ]
  },
  {
   "cell_type": "markdown",
   "metadata": {},
   "source": []
  },
  {
   "cell_type": "markdown",
   "metadata": {},
   "source": []
  },
  {
   "cell_type": "markdown",
   "metadata": {},
   "source": [
    "\n"
   ]
  }
 ],
 "metadata": {
  "kernelspec": {
   "display_name": "Python 3",
   "language": "python",
   "name": "python3"
  },
  "language_info": {
   "codemirror_mode": {
    "name": "ipython",
    "version": 3
   },
   "file_extension": ".py",
   "mimetype": "text/x-python",
   "name": "python",
   "nbconvert_exporter": "python",
   "pygments_lexer": "ipython3",
   "version": "3.5.2"
  }
 },
 "nbformat": 4,
 "nbformat_minor": 2
}
