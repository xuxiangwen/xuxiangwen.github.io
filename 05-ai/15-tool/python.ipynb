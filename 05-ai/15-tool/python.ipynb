{
 "cells": [
  {
   "cell_type": "code",
   "execution_count": 22,
   "metadata": {},
   "outputs": [
    {
     "name": "stdout",
     "output_type": "stream",
     "text": [
      "3.5.2 (default, Nov 23 2017, 16:37:01) \n",
      "[GCC 5.4.0 20160609]\n",
      "sys.version_info(major=3, minor=5, micro=2, releaselevel='final', serial=0)\n"
     ]
    }
   ],
   "source": [
    "import sys  \n",
    "import logging\n",
    "logging.basicConfig(format='%(asctime)s: %(levelname)s: %(message)s')\n",
    "logging.root.setLevel(level=logging.INFO)\n",
    "# logging.basicConfig(format='')\n",
    "# logger = logging.getLogger('python')\n",
    "\n",
    "print(sys.version  )\n",
    "print(sys.version_info  )\n"
   ]
  },
  {
   "cell_type": "markdown",
   "metadata": {},
   "source": [
    "$e^{ \\frac days {half\\ life\\ days}}$\n",
    "    "
   ]
  },
  {
   "cell_type": "code",
   "execution_count": null,
   "metadata": {},
   "outputs": [],
   "source": [
    "### 2.41 "
   ]
  },
  {
   "cell_type": "markdown",
   "metadata": {},
   "source": [
    "### 2.40 装饰器 decorator\n",
    "\n",
    "python中装饰器其实就是一个参数为函数的函数，但利用编译器巧妙的工作实现装饰器的功能。这种实现方式也是函数化编程优势的一个很好体现，可以很方便的对已有代码进行一定的扩充，只需要在外面做一些标记，而不需要在原来的代码中进行改动，编译器在执行时会根据标记自动重写代码。\n",
    "\n",
    "#### 不带参数的decorator\n",
    "\n",
    "装饰器相当于，在原函数的外面包装了一层装饰器，真的非常巧妙。下面代码中，\n",
    "```\n",
    "test_f1 = decorator1(test_f1) \n",
    "```"
   ]
  },
  {
   "cell_type": "code",
   "execution_count": 2,
   "metadata": {},
   "outputs": [
    {
     "name": "stdout",
     "output_type": "stream",
     "text": [
      "pre action\n",
      "name1\n",
      "post action\n",
      "pre action\n",
      "name2\n",
      "post action\n"
     ]
    }
   ],
   "source": [
    "def decorator1(func):\n",
    "  def dec(*args):\n",
    "    print('pre action')\n",
    "    result = func(*args)\n",
    "    print('post action')\n",
    "    return result\n",
    "  return dec\n",
    " \n",
    " \n",
    "@decorator1\n",
    "def test_f1(name):\n",
    "  print(name)\n",
    "  return None\n",
    "\n",
    "\n",
    "test_f1('name1')\n",
    "test_f1('name2')"
   ]
  },
  {
   "cell_type": "markdown",
   "metadata": {},
   "source": [
    "#### 带参数的decorator\n",
    "\n",
    "下面代码中\n",
    "\n",
    "```\n",
    "test_f1 = wap(‘f1’)(test_f1)\n",
    "```"
   ]
  },
  {
   "cell_type": "code",
   "execution_count": 11,
   "metadata": {},
   "outputs": [
    {
     "name": "stdout",
     "output_type": "stream",
     "text": [
      "f1\n",
      "pre action\n",
      "name1\n",
      "post action\n",
      "f2\n",
      "pre action\n",
      "name2\n",
      "post action\n"
     ]
    }
   ],
   "source": [
    "def wap(name):\n",
    "    def decorator1(func):\n",
    "        def dec(*args):\n",
    "            print(name)\n",
    "            print('pre action')\n",
    "            result = func(*args)\n",
    "            print('post action')\n",
    "            return result\n",
    "        return dec\n",
    "    return decorator1\n",
    " \n",
    "@wap('f1')\n",
    "def test_f1(name):\n",
    "    print(name)\n",
    "    return None\n",
    " \n",
    "@wap('f2')\n",
    "def test_f2(name):\n",
    "    print(name)\n",
    "    return None\n",
    " \n",
    "test_f1('name1') #out: f1/pre action/name1/post action\n",
    "test_f2('name2') #out: f2/pre action/name2/post action"
   ]
  },
  {
   "cell_type": "markdown",
   "metadata": {},
   "source": [
    "#### 函数decorator的叠加\n",
    "\n",
    "下面代码中\n",
    "\n",
    "```\n",
    "test = decorator1(decorator2(test))\n",
    "```\n"
   ]
  },
  {
   "cell_type": "code",
   "execution_count": 23,
   "metadata": {},
   "outputs": [
    {
     "name": "stdout",
     "output_type": "stream",
     "text": [
      "d1 pre\n",
      "d2 pre\n",
      "test\n",
      "d2 post\n",
      "d1 post\n"
     ]
    }
   ],
   "source": [
    "def decorator1(func):\n",
    "    def dec(*args):\n",
    "        print('d1 pre')\n",
    "        result = func(*args)\n",
    "        print('d1 post')\n",
    "        return result\n",
    "    return dec\n",
    " \n",
    "def decorator2(func):\n",
    "    def dec(*args):\n",
    "        print('d2 pre')\n",
    "        result = func(*args)\n",
    "        print('d2 post')\n",
    "        return result\n",
    "    return dec\n",
    " \n",
    "@decorator1\n",
    "@decorator2\n",
    "def test(name):\n",
    "    print(name)\n",
    " \n",
    "test('test')\n"
   ]
  },
  {
   "cell_type": "markdown",
   "metadata": {},
   "source": [
    "#### 自己的例子\n",
    "\n",
    "在日志中，经常需要添加分隔符，这样便于能够快速清晰的分辨代码。以前的方式会照成很多重复代码。"
   ]
  },
  {
   "cell_type": "code",
   "execution_count": 31,
   "metadata": {},
   "outputs": [
    {
     "name": "stderr",
     "output_type": "stream",
     "text": [
      "2019-09-16 02:20:35,170: INFO: --------------------------------------------------\n",
      "2019-09-16 02:20:35,171: INFO: name1\n",
      "2019-09-16 02:20:35,171: INFO: ==================================================\n",
      "2019-09-16 02:20:35,172: INFO: name2\n",
      "2019-09-16 02:20:35,173: INFO: --------------------------------------------------\n"
     ]
    },
    {
     "name": "stdout",
     "output_type": "stream",
     "text": [
      "name2\n"
     ]
    },
    {
     "data": {
      "text/plain": [
       "'finish f1'"
      ]
     },
     "execution_count": 31,
     "metadata": {},
     "output_type": "execute_result"
    }
   ],
   "source": [
    "def line_separator(separator='-', length=50):\n",
    "    separators = separator*length\n",
    "    def decorator(func):\n",
    "        def dec(*args):\n",
    "            logging.info(separators)\n",
    "            result = func(*args)\n",
    "            return result\n",
    "        return dec\n",
    "    return decorator\n",
    "\n",
    " \n",
    "@line_separator('-')\n",
    "def test_f1(name):\n",
    "    logging.info(name)\n",
    "    return 'finish f1'\n",
    " \n",
    "@line_separator('=')\n",
    "def test_f2(name):\n",
    "    logging.info(name)\n",
    "    return 'finish f2'\n",
    "\n",
    "@line_separator()\n",
    "def test_f3(name):\n",
    "    print(name)\n",
    "    return 'finish f1'\n",
    "\n",
    "test_f1('name1') \n",
    "test_f2('name2') \n",
    "test_f3('name2') "
   ]
  },
  {
   "cell_type": "markdown",
   "metadata": {},
   "source": [
    "### 2.39 迭代器 Iterator"
   ]
  },
  {
   "cell_type": "code",
   "execution_count": 3,
   "metadata": {},
   "outputs": [
    {
     "name": "stdout",
     "output_type": "stream",
     "text": [
      "1\n",
      "2\n",
      "3\n",
      "4\n",
      "5\n",
      "6\n",
      "7\n",
      "8\n",
      "9\n",
      "10\n",
      "11\n",
      "12\n",
      "13\n",
      "14\n",
      "15\n",
      "16\n",
      "17\n",
      "18\n",
      "19\n",
      "20\n"
     ]
    }
   ],
   "source": [
    "class MyNumbers:\n",
    "  def __iter__(self):\n",
    "    self.a = 1\n",
    "    return self\n",
    "\n",
    "  def __next__(self):\n",
    "    if self.a <= 20:\n",
    "      x = self.a\n",
    "      self.a += 1\n",
    "      return x\n",
    "    else:\n",
    "      raise StopIteration\n",
    "\n",
    "myclass = MyNumbers()\n",
    "myiter = iter(myclass)\n",
    "\n",
    "for x in myiter:\n",
    "  print(x)"
   ]
  },
  {
   "cell_type": "code",
   "execution_count": 4,
   "metadata": {},
   "outputs": [
    {
     "name": "stdout",
     "output_type": "stream",
     "text": [
      "(0, 1)\n",
      "(0, 2)\n",
      "(0, 3)\n",
      "(0, 4)\n",
      "(0, 5)\n",
      "(1, 2)\n",
      "(1, 3)\n",
      "(1, 4)\n",
      "(1, 5)\n",
      "(2, 3)\n",
      "(2, 4)\n",
      "(2, 5)\n",
      "(3, 4)\n",
      "(3, 5)\n",
      "(4, 5)\n"
     ]
    }
   ],
   "source": [
    "class Triangle:\n",
    "    def __init__(self, n):\n",
    "        self.n = n\n",
    "    \n",
    "    def __iter__(self):\n",
    "        self.i = 0\n",
    "        self.j = self.i + 1\n",
    "        return self\n",
    "\n",
    "    def __next__(self):\n",
    "        if self.i+1 < self.n:\n",
    "            i = self.i\n",
    "            j = self.j             \n",
    "            if self.j+1 < self.n:\n",
    "                self.j = self.j + 1\n",
    "            else:\n",
    "                self.i = self.i + 1\n",
    "                self.j = self.i + 1\n",
    "            return i,j\n",
    "        else:\n",
    "            raise StopIteration\n",
    "            \n",
    "triangle = Triangle(6)\n",
    "iterator = iter(triangle)\n",
    "\n",
    "for x in iterator:\n",
    "    print(x)"
   ]
  },
  {
   "cell_type": "code",
   "execution_count": null,
   "metadata": {},
   "outputs": [],
   "source": []
  },
  {
   "cell_type": "markdown",
   "metadata": {},
   "source": [
    "### 2.38 logging\n",
    "\n",
    "三种logging定义的方式"
   ]
  },
  {
   "cell_type": "code",
   "execution_count": 3,
   "metadata": {},
   "outputs": [
    {
     "name": "stderr",
     "output_type": "stream",
     "text": [
      "2019-03-25 13:04:53,043 - simple_example - DEBUG - debug message\n",
      "2019-03-25 13:04:53,045 - simple_example - INFO - info message\n",
      "/usr/local/lib/python3.5/dist-packages/ipykernel_launcher.py:23: DeprecationWarning: The 'warn' method is deprecated, use 'warning' instead\n",
      "2019-03-25 13:04:53,051 - simple_example - WARNING - warn message\n",
      "2019-03-25 13:04:53,054 - simple_example - ERROR - error message\n",
      "2019-03-25 13:04:53,057 - simple_example - CRITICAL - critical message\n"
     ]
    }
   ],
   "source": [
    "import logging\n",
    "\n",
    "# create logger\n",
    "logger = logging.getLogger('simple_example')\n",
    "logger.setLevel(logging.DEBUG)\n",
    "\n",
    "# create console handler and set level to debug\n",
    "ch = logging.StreamHandler()\n",
    "ch.setLevel(logging.DEBUG)\n",
    "\n",
    "# create formatter\n",
    "formatter = logging.Formatter('%(asctime)s - %(name)s - %(levelname)s - %(message)s')\n",
    "\n",
    "# add formatter to ch\n",
    "ch.setFormatter(formatter)\n",
    "\n",
    "# add ch to logger\n",
    "logger.addHandler(ch)\n",
    "\n",
    "# 'application' code\n",
    "logger.debug('debug message')\n",
    "logger.info('info message')\n",
    "logger.warn('warn message')\n",
    "logger.error('error message')\n",
    "logger.critical('critical message')"
   ]
  },
  {
   "cell_type": "markdown",
   "metadata": {},
   "source": [
    "**fileConfig**"
   ]
  },
  {
   "cell_type": "code",
   "execution_count": 4,
   "metadata": {},
   "outputs": [
    {
     "name": "stdout",
     "output_type": "stream",
     "text": [
      "2019-03-25 13:14:45,096 - simpleExample - DEBUG - debug message\n",
      "2019-03-25 13:14:45,098 - simpleExample - INFO - info message\n",
      "2019-03-25 13:14:45,100 - simpleExample - WARNING - warn message\n",
      "2019-03-25 13:14:45,102 - simpleExample - ERROR - error message\n",
      "2019-03-25 13:14:45,103 - simpleExample - CRITICAL - critical message\n"
     ]
    },
    {
     "name": "stderr",
     "output_type": "stream",
     "text": [
      "/usr/local/lib/python3.5/dist-packages/ipykernel_launcher.py:12: DeprecationWarning: The 'warn' method is deprecated, use 'warning' instead\n",
      "  if sys.path[0] == '':\n"
     ]
    },
    {
     "name": "stdout",
     "output_type": "stream",
     "text": [
      "[loggers]\r\n",
      "keys=root,simpleExample\r\n",
      "\r\n",
      "[handlers]\r\n",
      "keys=consoleHandler\r\n",
      "\r\n",
      "[formatters]\r\n",
      "keys=simpleFormatter\r\n",
      "\r\n",
      "[logger_root]\r\n",
      "level=DEBUG\r\n",
      "handlers=consoleHandler\r\n",
      "\r\n",
      "[logger_simpleExample]\r\n",
      "level=DEBUG\r\n",
      "handlers=consoleHandler\r\n",
      "qualname=simpleExample\r\n",
      "propagate=0\r\n",
      "\r\n",
      "[handler_consoleHandler]\r\n",
      "class=StreamHandler\r\n",
      "level=DEBUG\r\n",
      "formatter=simpleFormatter\r\n",
      "args=(sys.stdout,)\r\n",
      "\r\n",
      "[formatter_simpleFormatter]\r\n",
      "format=%(asctime)s - %(name)s - %(levelname)s - %(message)s\r\n",
      "datefmt=\r\n"
     ]
    }
   ],
   "source": [
    "# 以下代码和上面的完全等效\n",
    "import logging\n",
    "import logging.config\n",
    "\n",
    "logging.config.fileConfig('logging.conf')\n",
    "\n",
    "# create logger\n",
    "logger = logging.getLogger('simpleExample')\n",
    "\n",
    "# 'application' code\n",
    "logger.debug('debug message')\n",
    "logger.info('info message')\n",
    "logger.warning('warn message')\n",
    "logger.error('error message')\n",
    "logger.critical('critical message')\n",
    "! cat logging.conf"
   ]
  },
  {
   "cell_type": "markdown",
   "metadata": {},
   "source": [
    "**dictConfig**"
   ]
  },
  {
   "cell_type": "code",
   "execution_count": 5,
   "metadata": {},
   "outputs": [
    {
     "name": "stdout",
     "output_type": "stream",
     "text": [
      "<class 'str'>\n",
      "2019-03-25 15:05:39,779 - simpleExample - DEBUG - debug message\n",
      "2019-03-25 15:05:39,780 - simpleExample - INFO - info message\n",
      "2019-03-25 15:05:39,781 - simpleExample - WARNING - warn message\n",
      "2019-03-25 15:05:39,783 - simpleExample - ERROR - error message\n",
      "2019-03-25 15:05:39,784 - simpleExample - CRITICAL - critical message\n",
      "version: 1\n",
      "formatters:\n",
      "  simple:\n",
      "    format: '%(asctime)s - %(name)s - %(levelname)s - %(message)s'\n",
      "handlers:\n",
      "  console:\n",
      "    class: logging.StreamHandler\n",
      "    level: DEBUG\n",
      "    formatter: simple\n",
      "    stream: ext://sys.stdout\n",
      "loggers:\n",
      "  simpleExample:\n",
      "    level: DEBUG\n",
      "    handlers: [console]\n",
      "    propagate: no\n",
      "root:\n",
      "  level: DEBUG\n",
      "  handlers: [console]\n"
     ]
    }
   ],
   "source": [
    "# 以下代码和上面的完全等效\n",
    "import logging\n",
    "import logging.config\n",
    "import yaml\n",
    "\n",
    "with open('logging.yaml', 'r') as f:\n",
    "    s = f.read()\n",
    "    print(type(s))\n",
    "    config = yaml.safe_load(s)\n",
    "\n",
    "logging.config.dictConfig(config)\n",
    "\n",
    "# create logger\n",
    "logger = logging.getLogger('simpleExample')\n",
    "\n",
    "# 'application' code\n",
    "logger.debug('debug message')\n",
    "logger.info('info message')\n",
    "logger.warning('warn message')\n",
    "logger.error('error message')\n",
    "logger.critical('critical message')\n",
    "! cat logging.yaml"
   ]
  },
  {
   "cell_type": "markdown",
   "metadata": {},
   "source": [
    "### 2.37 python logging性能比较【2019-03-14】\n",
    "\n",
    "参见\n",
    "- [python logging详解及自动添加上下文信息](https://www.cnblogs.com/xybaby/p/9197032.html)\n",
    "- [日志的艺术（The art of logging）](https://www.cnblogs.com/xybaby/p/7954610.html)\n",
    "\n",
    "以上这两篇文章写的非常好"
   ]
  },
  {
   "cell_type": "code",
   "execution_count": 1,
   "metadata": {},
   "outputs": [
    {
     "name": "stdout",
     "output_type": "stream",
     "text": [
      "cost 9.393593072891235\n"
     ]
    }
   ],
   "source": [
    "import time\n",
    "import logging\n",
    "\n",
    "def test_log():\n",
    "    logger = logging.getLogger('simple_example')\n",
    "    logger.setLevel(logging.DEBUG)\n",
    "\n",
    "    null = logging.NullHandler()\n",
    "    logger.addHandler(null)\n",
    "\n",
    "    begin = time.time()\n",
    "    for i in range(100000):\n",
    "        logger.debug('debug message')\n",
    "        logger.info('info message')\n",
    "        logger.warning('warn message')\n",
    "        logger.error('error message')\n",
    "        logger.critical('critical message')\n",
    "    print('cost', time.time() - begin)\n",
    "\n",
    "\n",
    "test_log()"
   ]
  },
  {
   "cell_type": "markdown",
   "metadata": {},
   "source": [
    "python logging模块的性能是较差的，不仅仅是Python语言的问题，更多的是logging模块的实现问题。\n",
    "\n",
    "应用程序的每一条日志都会生成一个LogRecord对象，然后Formatter将其转换成string。由于LogRecord不知道Formatter需要用到哪些属性，所以干脆计算出所有的属性（见图一），这是eager evaluation，lazy evaluation应该更适合。也许Formatter只用到了%(message)s 属性，即只需要对logger.debug的输入参数求值即可，但是LogRecord还是会去反复计算线程id、进程id、应用程序的调用信息（文件、函数、行号），这些都是很耗的操作。\n",
    "\n",
    "| What you don’t want to collect                | How to avoid collecting it                                                                                                                                                               |\n",
    "|-----------------------------------------------|------------------------------------------------------------------------------------------------------------------------------------------------------------------------------------------|\n",
    "| Information about where calls were made from. | Set logging._srcfile to None. This avoids calling sys._getframe(), which may help to speed up your code in environments like PyPy (which can’t speed up code that uses sys._getframe()). |\n",
    "| Threading information.                        | Set logging.logThreads to 0.                                                                                                                                                             |\n",
    "| Process information.                          | Set logging.logProcesses to 0.                                                                                                                                                           |"
   ]
  },
  {
   "cell_type": "code",
   "execution_count": 2,
   "metadata": {},
   "outputs": [
    {
     "name": "stdout",
     "output_type": "stream",
     "text": [
      "cost 8.8158860206604\n"
     ]
    }
   ],
   "source": [
    "logging.logThreads = False          #由于python中，多线程对性能的帮助，非常有限，所以一般程序用单线程，多进程的方式。\n",
    "\n",
    "test_log()"
   ]
  },
  {
   "cell_type": "markdown",
   "metadata": {},
   "source": [
    "logging为了线程安全，每个Handler都会持有一个互斥锁，每次写日志的时候都会获取锁，写完之后再释放锁。由于GIL的问题，多线程并不能给某些类型的python程序代码性能提升。\n",
    "\n",
    "因此，如果应用程序能保证是单线程，那么可以设置  logging.thread = None  来避免使用锁，简单测试过也会有15%左右性能提升（实测，好像只有5%）."
   ]
  },
  {
   "cell_type": "code",
   "execution_count": 3,
   "metadata": {},
   "outputs": [
    {
     "name": "stdout",
     "output_type": "stream",
     "text": [
      "cost 8.617079019546509\n"
     ]
    }
   ],
   "source": [
    "logging.logThreads = False          \n",
    "logging.logProcesses = False\n",
    "\n",
    "test_log()"
   ]
  },
  {
   "cell_type": "code",
   "execution_count": 4,
   "metadata": {},
   "outputs": [
    {
     "name": "stdout",
     "output_type": "stream",
     "text": [
      "cost 8.150125741958618\n"
     ]
    }
   ],
   "source": [
    "logging.logThreads = False          #由于python中，多线程对性能的帮助，非常有限，所以一般程序用单线程，多进程的方式。\n",
    "logging.logMultiprocessing = False\n",
    "logging.logProcesses = False\n",
    "\n",
    "test_log()"
   ]
  },
  {
   "cell_type": "code",
   "execution_count": 5,
   "metadata": {},
   "outputs": [
    {
     "name": "stdout",
     "output_type": "stream",
     "text": [
      "cost 6.804710388183594\n"
     ]
    }
   ],
   "source": [
    "logging._srcfile = None\n",
    "logging.logThreads = False          #由于python中，多线程对性能的帮助，非常有限，所以一般程序用单线程，多进程的方式。\n",
    "logging.logMultiprocessing = False\n",
    "logging.logProcesses = False\n",
    "\n",
    "test_log()"
   ]
  },
  {
   "cell_type": "markdown",
   "metadata": {},
   "source": [
    "### 2.36 \\r, \\n\n",
    "\n",
    "print会自动进行换行。\\r可以一般可以用于实现一些进度变化。"
   ]
  },
  {
   "cell_type": "code",
   "execution_count": 56,
   "metadata": {},
   "outputs": [
    {
     "name": "stdout",
     "output_type": "stream",
     "text": [
      "------------------------------\n",
      "0\n",
      "1\n",
      "2\n",
      "3\n",
      "4\n",
      "5\n",
      "6\n",
      "7\n",
      "8\n",
      "9\n",
      "------------------------------\n",
      "0\n",
      "\n",
      "1\n",
      "\n",
      "2\n",
      "\n",
      "3\n",
      "\n",
      "4\n",
      "\n",
      "5\n",
      "\n",
      "6\n",
      "\n",
      "7\n",
      "\n",
      "8\n",
      "\n",
      "9\n",
      "\n",
      "------------------------------\n",
      "0\n",
      "1\n",
      "2\n",
      "3\n",
      "4\n",
      "5\n",
      "6\n",
      "7\n",
      "8\n",
      "9\n"
     ]
    }
   ],
   "source": [
    "print('-'*30)\n",
    "for i in range(10):\n",
    "    print('{}\\r'.format(i))\n",
    "print('-'*30)    \n",
    "for i in range(10):\n",
    "    print('{}\\n'.format(i))        \n",
    "print('-'*30)    \n",
    "for i in range(10):   \n",
    "    sys.stdout.write('%d\\r' % (i))\n",
    "for i in range(10):   \n",
    "    sys.stdout.write('%d\\n' % (i))    "
   ]
  },
  {
   "cell_type": "markdown",
   "metadata": {},
   "source": [
    "### 2.35 集合的一一对应"
   ]
  },
  {
   "cell_type": "code",
   "execution_count": 44,
   "metadata": {},
   "outputs": [
    {
     "name": "stdout",
     "output_type": "stream",
     "text": [
      "a 1\n",
      "b 2\n",
      "c 3\n",
      "d 4\n"
     ]
    }
   ],
   "source": [
    "a = ['a', 'b', 'c', 'd']\n",
    "b = [1, 2, 3, 4 ]\n",
    "for i, j in zip(a, b):\n",
    "    print(i, j)"
   ]
  },
  {
   "cell_type": "markdown",
   "metadata": {},
   "source": [
    "### 2.34 python多线程\n",
    "\n",
    "[为什么有人说 Python 的多线程是鸡肋呢？](https://www.zhihu.com/question/23474039/answers/updated )\n",
    "\n",
    "CPU利用率并没有占满，大致相当于单核水平"
   ]
  },
  {
   "cell_type": "code",
   "execution_count": null,
   "metadata": {},
   "outputs": [],
   "source": [
    "#coding=utf-8\n",
    "from threading import Thread\n",
    "\n",
    "\n",
    "def loop():\n",
    "    while True:\n",
    "        pass\n",
    "\n",
    "if __name__ == '__main__':\n",
    "\n",
    "    for i in range(3):\n",
    "        t = Thread(target=loop)\n",
    "        t.start()\n",
    "    \n",
    "    i=0\n",
    "    while i<100:\n",
    "        sleep(1)\n",
    "        i=i+1\n",
    "        pass\n",
    "\n"
   ]
  },
  {
   "cell_type": "markdown",
   "metadata": {},
   "source": [
    "### 2.34 json 保存对象和加载对象"
   ]
  },
  {
   "cell_type": "code",
   "execution_count": 25,
   "metadata": {},
   "outputs": [
    {
     "name": "stdout",
     "output_type": "stream",
     "text": [
      "[\"你好\", {\"bar\": [\"baz\", null, 1.0, 2]}]\n",
      "['你好', {'bar': ['baz', None, 1.0, 2]}]\n",
      "[('你好', 1), ('中国', 2)]\n",
      "<class 'tuple'>\n",
      "[[\"你好\", 1], [\"中国\", 2]]\n",
      "[['你好', 1], ['中国', 2]]\n",
      "<class 'list'>\n",
      "<class 'str'> <class 'int'>\n"
     ]
    }
   ],
   "source": [
    "import json\n",
    "text = json.dumps(['你好', {'bar': ('baz', None, 1.0, 2)}], ensure_ascii=False)\n",
    "print(text)\n",
    "print(json.loads(text))\n",
    "\n",
    "obj = [('你好',1), ('中国',2)]\n",
    "print(obj)\n",
    "print(type(obj[0]))\n",
    "text = json.dumps(obj, ensure_ascii=False)\n",
    "print(text)\n",
    "new_obj = json.loads(text)\n",
    "print(new_obj)\n",
    "print(type(new_obj[0]))\n",
    "print(type(new_obj[0][0]), type(new_obj[0][1]))"
   ]
  },
  {
   "cell_type": "markdown",
   "metadata": {},
   "source": [
    "\n",
    "### 2.33 list去重\n"
   ]
  },
  {
   "cell_type": "code",
   "execution_count": 12,
   "metadata": {},
   "outputs": [
    {
     "name": "stdout",
     "output_type": "stream",
     "text": [
      "[[], 1, 4, 3, 3, 4, 2, 3, 4, 5, 6, 1]\n"
     ]
    },
    {
     "data": {
      "text/plain": [
       "[1, 4, 3, 2, 5, 6]"
      ]
     },
     "execution_count": 12,
     "metadata": {},
     "output_type": "execute_result"
    }
   ],
   "source": [
    "from functools import reduce\n",
    "ids = [1,4,3,3,4,2,3,4,5,6,1]\n",
    "func = lambda x,y:x if y in x else x + [y]\n",
    "print([[], ] + ids)\n",
    "reduce(func, [[], ] + ids)"
   ]
  },
  {
   "cell_type": "markdown",
   "metadata": {
    "collapsed": true
   },
   "source": [
    "### 2.32 trim函数——去除空格"
   ]
  },
  {
   "cell_type": "code",
   "execution_count": null,
   "metadata": {
    "collapsed": true
   },
   "outputs": [],
   "source": [
    "' Hello '.strip()"
   ]
  },
  {
   "cell_type": "markdown",
   "metadata": {},
   "source": [
    "### 2.31 函数极值"
   ]
  },
  {
   "cell_type": "code",
   "execution_count": 3,
   "metadata": {},
   "outputs": [
    {
     "name": "stdout",
     "output_type": "stream",
     "text": [
      "Optimization terminated successfully.\n",
      "         Current function value: 9.315586\n",
      "         Iterations: 15\n",
      "         Function evaluations: 30\n",
      "Optimization terminated successfully.\n",
      "         Current function value: -6.945823\n",
      "         Iterations: 26\n",
      "         Function evaluations: 52\n",
      "[3.83745117]\n",
      "[-1.3064375]\n",
      "-1.306440096615395\n"
     ]
    },
    {
     "data": {
      "image/png": "[encoded data removed]",
      "text/plain": [
       "<Figure size 432x288 with 1 Axes>"
      ]
     },
     "metadata": {
      "needs_background": "light"
     },
     "output_type": "display_data"
    }
   ],
   "source": [
    "import numpy as np\n",
    "from matplotlib import pyplot as plt\n",
    "from scipy.optimize import fmin,fminbound\n",
    "%matplotlib inline\n",
    "\n",
    "def f(x):\n",
    "    return x**2+10*np.sin(x)+1\n",
    "x=np.linspace(-10,10,num=500)\n",
    "min1=fmin(f,3) #求3附近的极小值\n",
    "min2=fmin(f,0) #求0附近的极小值\n",
    "min_global=fminbound(f,-10,10) #这个区域的最小值\n",
    "print(min1)\n",
    "print(min2)\n",
    "print(min_global)\n",
    "plt.plot(x,f(x))\n",
    "plt.show()"
   ]
  },
  {
   "cell_type": "code",
   "execution_count": 30,
   "metadata": {},
   "outputs": [
    {
     "name": "stdout",
     "output_type": "stream",
     "text": [
      "Optimization terminated successfully.\n",
      "         Current function value: -0.200000\n",
      "         Iterations: 19\n",
      "         Function evaluations: 38\n",
      "Optimization terminated successfully.\n",
      "         Current function value: -0.200000\n",
      "         Iterations: 20\n",
      "         Function evaluations: 40\n",
      "[0.20002441]\n",
      "[0.2]\n",
      "0.19999999999999996\n",
      "0.25\n"
     ]
    },
    {
     "data": {
      "image/png": "[encoded data removed]",
      "text/plain": [
       "<Figure size 432x288 with 1 Axes>"
      ]
     },
     "metadata": {
      "needs_background": "light"
     },
     "output_type": "display_data"
    }
   ],
   "source": [
    "\n",
    "def f(x):\n",
    "    return 5*x**2-2*x\n",
    "x=np.linspace(-2,2,num=500)\n",
    "min1=fmin(f,3) #求3附近的极小值\n",
    "min2=fmin(f,0) #求0附近的极小值\n",
    "min_global=fminbound(f,-2,2) #这个区域的最小值\n",
    "print(min1)\n",
    "print(min2)\n",
    "print(min_global)\n",
    "print(f(0.5))\n",
    "plt.plot(x,f(x))\n",
    "plt.show()"
   ]
  },
  {
   "cell_type": "markdown",
   "metadata": {},
   "source": [
    "求函数最大值：  $f(x,y)=2xy+2x-x^{2}-2y^{2}$\n",
    "\n",
    "带有约束条件：\n",
    "\n",
    "1. $2x-y=0$\n",
    "2. $y-1\\geqslant0$\n",
    "\n",
    "参考：\n",
    "\n",
    "- [利用 SciPy 求解一些简单的最优化问题](https://www.jianshu.com/p/d577374047fb)\n",
    "- [量化金融中常用的库 scipy](https://uqer.io/v3/community/share/54d83bb3f9f06c276f651a6e)：全面介绍，包含一些优化的方法"
   ]
  },
  {
   "cell_type": "code",
   "execution_count": 27,
   "metadata": {},
   "outputs": [
    {
     "name": "stdout",
     "output_type": "stream",
     "text": [
      "Optimization terminated successfully.    (Exit mode 0)\n",
      "            Current function value: 0.2500000000132587\n",
      "            Iterations: 2\n",
      "            Function evaluations: 2\n",
      "            Gradient evaluations: 2\n",
      "0.2500000000132587\n",
      "True\n",
      "[0.5 1. ]\n"
     ]
    }
   ],
   "source": [
    "import numpy as np\n",
    "from scipy.optimize import minimize\n",
    "\n",
    "# 目标函数\n",
    "def func(x):\n",
    "    return -1.0*(2*x[0]*x[1] + 2*x[0] - x[0]**2 - 2*x[1]**2)\n",
    "\n",
    "# 目标函数的导函数\n",
    "def func_deriv(x):\n",
    "    dfdx0 = -1.0*(-2*x[0] + 2*x[1] + 2)\n",
    "    dfdx1 = -1.0*(2*x[0] - 4*x[1])\n",
    "    return np.array([ dfdx0, dfdx1 ])\n",
    "\n",
    "cons = ({'type': 'eq',\n",
    "         'fun' : lambda x: np.array([2*x[0] - x[1]]),\n",
    "         'jac' : lambda x: np.array([2.0, -1.0])},\n",
    "        {'type': 'ineq',\n",
    "         'fun' : lambda x: np.array([x[1] - 1]),\n",
    "         'jac' : lambda x: np.array([0.0, 1.0])})\n",
    "\n",
    "res = minimize(func, [-10.0,10.0], jac=func_deriv, constraints=cons,\n",
    "               method='SLSQP', options={'disp': True})\n",
    "print(res.fun)\n",
    "print(res.success)\n",
    "print(res.x)"
   ]
  },
  {
   "cell_type": "markdown",
   "metadata": {},
   "source": []
  },
  {
   "cell_type": "code",
   "execution_count": 23,
   "metadata": {},
   "outputs": [
    {
     "name": "stdout",
     "output_type": "stream",
     "text": [
      "1.9658475635152017\n"
     ]
    },
    {
     "data": {
      "image/png": "[encoded data removed]",
      "text/plain": [
       "<Figure size 432x288 with 1 Axes>"
      ]
     },
     "metadata": {
      "needs_background": "light"
     },
     "output_type": "display_data"
    }
   ],
   "source": [
    "from matplotlib import pyplot as plt\n",
    "import numpy as np\n",
    "from mpl_toolkits.mplot3d import Axes3D\n",
    "\n",
    "def f(x, y):\n",
    "    return 2*x*y + 2*x - x*x - 2*y*y\n",
    "\n",
    "X=np.linspace(-10,10,num=50)\n",
    "Y=np.linspace(-10,10,num=50)\n",
    "\n",
    "fig = plt.figure()\n",
    "ax = Axes3D(fig)\n",
    "X, Y = np.meshgrid(X, Y)\n",
    "Z = f(X, Y)\n",
    "\n",
    "print(np.max(Z))\n",
    "\n",
    "# 具体函数方法可用 help(function) 查看，如：help(ax.plot_surface)\n",
    "ax.plot_surface(X, Y, Z, rstride=1, cstride=1, cmap='rainbow')\n",
    "plt.show()\n"
   ]
  },
  {
   "cell_type": "markdown",
   "metadata": {},
   "source": [
    "### 2.30 交换矩阵的两行\n",
    "\n",
    "下面是两种方法。"
   ]
  },
  {
   "cell_type": "code",
   "execution_count": 14,
   "metadata": {},
   "outputs": [
    {
     "name": "stdout",
     "output_type": "stream",
     "text": [
      "[[1 2 3]\n",
      " [2 3 4]]\n",
      "[[2 3 4]\n",
      " [1 2 3]]\n"
     ]
    }
   ],
   "source": [
    "import numpy as np\n",
    "\n",
    "a = np.array([[1,2,3],[2,3,4]])\n",
    "print(a)\n",
    "tmp = np.copy(a[0])\n",
    "a[0] = a[1]\n",
    "a[1] = tmp\n",
    "print(a)\n"
   ]
  },
  {
   "cell_type": "code",
   "execution_count": 13,
   "metadata": {},
   "outputs": [
    {
     "name": "stdout",
     "output_type": "stream",
     "text": [
      "[[1 2 3]\n",
      " [2 3 4]]\n",
      "[[2 3 4]\n",
      " [1 2 3]]\n"
     ]
    }
   ],
   "source": [
    "a = np.array([[1,2,3],[2,3,4]])\n",
    "print(a)\n",
    "a[[0,1], :] = a[[1,0], :]\n",
    "print(a)"
   ]
  },
  {
   "cell_type": "markdown",
   "metadata": {},
   "source": [
    "### 2.29 随机shuffle"
   ]
  },
  {
   "cell_type": "code",
   "execution_count": 1,
   "metadata": {},
   "outputs": [
    {
     "name": "stdout",
     "output_type": "stream",
     "text": [
      "[2 0 1 9 7 8 6 4 3 5]\n",
      "[8 6 2 9 7 1 0 4 5 3]\n",
      "[5 6 2 4 0 8 1 7 9 3]\n",
      "[8 2 5 6 3 1 0 7 4 9]\n",
      "[8 2 5 6 3 1 0 7 4 9]\n",
      "[8 2 5 6 3 1 0 7 4 9]\n"
     ]
    }
   ],
   "source": [
    "import numpy as np\n",
    "\n",
    "def random_indices(seed=None):\n",
    "    if seed is not None:\n",
    "        np.random.seed(seed=seed)\n",
    "    indices = np.arange(10)\n",
    "    np.random.shuffle(indices)\n",
    "    print(indices)\n",
    "\n",
    "random_indices() \n",
    "random_indices()\n",
    "random_indices()\n",
    "random_indices(10)\n",
    "random_indices(10)\n",
    "random_indices(10)"
   ]
  },
  {
   "cell_type": "markdown",
   "metadata": {},
   "source": [
    "### 2.28 获得一个临时文件名"
   ]
  },
  {
   "cell_type": "code",
   "execution_count": 16,
   "metadata": {},
   "outputs": [
    {
     "name": "stdout",
     "output_type": "stream",
     "text": [
      "80 /tmp/tmpxo5wypa6\n",
      "82 /root/tmp_yfcwvi7r_tf\n",
      "total 0\r\n",
      "-rw-------. 1 root root 0 Oct  8 02:49 hen10ol_onbtf\r\n",
      "-rw-------. 1 root root 0 Oct  8 02:51 hen4x1xd1ejtf\r\n",
      "-rw-------. 1 root root 0 Oct  8 02:49 henb91ag26stf\r\n",
      "-rw-------. 1 root root 0 Oct  8 07:24 tmp_7f7j2pzv_tf\r\n",
      "-rw-------. 1 root root 0 Oct  8 02:52 tmp_rtfg48u6_tf\r\n",
      "-rw-------. 1 root root 0 Oct  8 07:24 tmp_so9obdy2_tf\r\n",
      "-rw-------. 1 root root 0 Oct  8 07:24 tmp_yfcwvi7r_tf\r\n"
     ]
    }
   ],
   "source": [
    "import tempfile\n",
    "\n",
    "fd, filename = tempfile.mkstemp()   #返回的第一个是a file descriptor (integer)\n",
    "print(fd, filename)\n",
    "\n",
    "fd, filename =  tempfile.mkstemp(suffix='_tf', prefix='tmp_', dir='/root', text=False)\n",
    "#If 'text' is specified and true, the file is opened in text mode.  Else (the default) the file is opened in binary mode.  \n",
    "print(fd, filename)\n",
    "\n",
    "! ls -l /root"
   ]
  },
  {
   "cell_type": "markdown",
   "metadata": {},
   "source": [
    "### 2.27 遍历dictionary"
   ]
  },
  {
   "cell_type": "code",
   "execution_count": 27,
   "metadata": {},
   "outputs": [
    {
     "name": "stdout",
     "output_type": "stream",
     "text": [
      "dict[b]= banana\n",
      "dict[o]= orange\n",
      "dict[a]= apple\n",
      "----------------------------------------------------------------------------------------------------\n",
      "dict[b]= banana\n",
      "dict[o]= orange\n",
      "dict[a]= apple\n",
      "----------------------------------------------------------------------------------------------------\n",
      "b 2\n",
      "d 4\n",
      "c 3\n",
      "a 1\n",
      "{'b': 'banana', 'e': 3, 'o': 'orange', 'a': 'apple'}\n",
      "{'b': 'banana', 'e': 3, 'o': 'orange', 'f': 0, 'a': 'apple'}\n",
      "{'b': 'banana', 'e': 3, 'o': 'orange', 'f': 1, 'a': 'apple'}\n",
      "----------------------------------------------------------------------------------------------------\n",
      "Hello, World!\n",
      "abc\n"
     ]
    }
   ],
   "source": [
    "\n",
    "dict={\"a\":\"apple\",\"b\":\"banana\",\"o\":\"orange\"} \n",
    "\n",
    "for i in dict: \n",
    "    print(\"dict[%s]=\" % i,dict[i])\n",
    "    \n",
    "print('-'*100)    \n",
    "for k,v in dict.items(): \n",
    "    print(\"dict[%s]=\" % k,v)     \n",
    "\n",
    "print('-'*100)\n",
    "d = {'a': 1, 'c': 3, 'b': 2, 'd': 4}\n",
    " \n",
    "# d.viewitems()\n",
    "for k in d.keys():\n",
    "    print(k, d[k])\n",
    "\n",
    "# 查看dictory 的key是否存在\n",
    "dict['e'] =3 \n",
    "print(dict)\n",
    "if 'f' in dict:\n",
    "    dict['f'] =dict['f']+1\n",
    "else:\n",
    "    dict['f'] =0\n",
    "print(dict)\n",
    "if 'f' in dict:\n",
    "    dict['f'] =dict['f']+1\n",
    "else:\n",
    "    dict['f'] =0\n",
    "print(dict)\n",
    "\n",
    "print('-'*100) \n",
    "# 如果key不存在，返回默认值\n",
    "dictionary = {\"message\": \"Hello, World!\"}\n",
    "print(dictionary.get(\"message\", \"abc\"))  # Hello, World!\n",
    "print(dictionary.get(\"message1\", \"abc\"))  #abc"
   ]
  },
  {
   "cell_type": "markdown",
   "metadata": {},
   "source": [
    "### 2.27 创建目录，强制删除目录"
   ]
  },
  {
   "cell_type": "code",
   "execution_count": 68,
   "metadata": {
    "collapsed": true
   },
   "outputs": [],
   "source": [
    "import shutil\n",
    "import os\n",
    "\n",
    "temp_path = '/tmp/new_folder/abc/1234'\n",
    "# delete old temp path and recreate it.\n",
    "if os.path.exists(temp_path): shutil.rmtree(temp_path)\n",
    "os.makedirs(temp_path)  #奇怪，这个命令失效了\n",
    "                "
   ]
  },
  {
   "cell_type": "markdown",
   "metadata": {},
   "source": [
    "### 2.26 格式化日期，时间输出"
   ]
  },
  {
   "cell_type": "code",
   "execution_count": 1,
   "metadata": {},
   "outputs": [
    {
     "name": "stdout",
     "output_type": "stream",
     "text": [
      "time.struct_time(tm_year=2019, tm_mon=3, tm_mday=17, tm_hour=12, tm_min=55, tm_sec=15, tm_wday=6, tm_yday=76, tm_isdst=0)\n",
      "2019-03-17 12:55:15\n",
      "2019-03-17 12:55:15\n",
      "2019-03-17 12:55:15.836\n"
     ]
    }
   ],
   "source": [
    "import time\n",
    "print(time.localtime(time.time()))   #作用是格式化时间戳为本地的时间\n",
    "print(time.strftime('%Y-%m-%d %H:%M:%S',time.localtime(time.time()))) \n",
    "print(time.strftime('%Y-%m-%d %H:%M:%S',time.localtime(time.time()))) \n",
    "\n",
    "import datetime\n",
    "print(datetime.datetime.now().strftime('%Y-%m-%d %H:%M:%S.%f')[:-3])"
   ]
  },
  {
   "cell_type": "markdown",
   "metadata": {},
   "source": [
    "### 2.25 得到文件名\n",
    "\n"
   ]
  },
  {
   "cell_type": "code",
   "execution_count": 31,
   "metadata": {},
   "outputs": [
    {
     "name": "stdout",
     "output_type": "stream",
     "text": [
      "foobar.txt\n"
     ]
    }
   ],
   "source": [
    "import os\n",
    "inputFilepath = 'path/to/file/foobar.txt'\n",
    "filename_w_ext = os.path.basename(inputFilepath)\n",
    "print(filename_w_ext)\n",
    "filename, file_extension = os.path.splitext(filename_w_ext)\n",
    "#filename = foobar\n",
    "#file_extension = .txt\n",
    "\n",
    "path, filename = os.path.split(\"path/to/file/foobar.txt\")\n",
    "# path = path/to/file\n",
    "# filename = foobar.txt"
   ]
  },
  {
   "cell_type": "markdown",
   "metadata": {},
   "source": [
    "### 2.24 Python 多核并行计算\n",
    "\n",
    "[Python 多核并行计算](https://abcdabcd987.com/python-multiprocessing/)  \n",
    "[Python并行编程 中文版](https://python-parallel-programmning-cookbook.readthedocs.io/zh_CN/latest/index.html) 一本书，内容详实。"
   ]
  },
  {
   "cell_type": "code",
   "execution_count": 25,
   "metadata": {},
   "outputs": [
    {
     "name": "stdout",
     "output_type": "stream",
     "text": [
      "1553391463.8622286\n",
      "\n",
      "----------------------------------------------------------------------------------------------------\n",
      "0\t1\t4\t9\t16\t25\t36\t49\t64\t81\t100\t121\t144\t169\t196\t225\t256\t289\t324\t361\telasped time: 10.81 seconds\n",
      "\n",
      "----------------------------------------------------------------------------------------------------\n",
      "[0, 1, 4, 9, 16, 25, 36, 49, 64, 81, 100, 121, 144, 169, 196, 225, 256, 289, 324, 361]\n",
      "elasped time: 0.89 seconds\n",
      "\n",
      "----------------------------------------------------------------------------------------------------\n",
      "0\t1\t4\t9\t16\t25\t36\t49\t64\t81\t100\t121\t144\t169\t196\t225\t256\t289\t324\t361\t\n",
      "----------------------------------------------------------------------------------------------------\n",
      "0\t1\t4\t9\t16\t25\t36\t49\t289\t64\t81\t100\t121\t144\t196\t169\t225\t361\t256\t324\telasped time: 0.96 seconds\n"
     ]
    }
   ],
   "source": [
    "import multiprocessing\n",
    "import time\n",
    "import sys\n",
    "\n",
    "print( time.time())\n",
    "\n",
    "def f(x):\n",
    "    time.sleep(0.5)\n",
    "    return x * x\n",
    "\n",
    "pool = multiprocessing.Pool(processes=multiprocessing.cpu_count())\n",
    "xs = range(20)\n",
    "\n",
    "print('\\n'+ '-'*100)\n",
    "start_time = time.time()\n",
    "for x in xs:\n",
    "    print(f(x), end= \"\\t\")\n",
    "    # may be in any order\n",
    "print('elasped time: {:.2f} seconds'.format(time.time()-start_time))   \n",
    "\n",
    "# method 1: map\n",
    "print('\\n'+ '-'*100)\n",
    "start_time = time.time()\n",
    "print(pool.map(f, xs))  # prints [0, 1, 4, 9, 16]\n",
    "print('elasped time: {:.2f} seconds'.format(time.time()-start_time))   \n",
    "\n",
    "# method 2: imap\n",
    "print('\\n'+ '-'*100)\n",
    "for y in pool.imap(f, xs):\n",
    "    print(y, end= \"\\t\")            # 0, 1, 4, 9, 16, respectively\n",
    "\n",
    "# method 3: imap_unordered\n",
    "print('\\n'+ '-'*100)\n",
    "start_time = time.time()\n",
    "for y in pool.imap_unordered(f, xs):\n",
    "    print(y, end= \"\\t\")\n",
    "    # may be in any order\n",
    "print('elasped time: {:.2f} seconds'.format(time.time()-start_time))   \n"
   ]
  },
  {
   "cell_type": "code",
   "execution_count": 43,
   "metadata": {},
   "outputs": [
    {
     "name": "stdout",
     "output_type": "stream",
     "text": [
      "\n",
      "----------------------------------------------------------------------------------------------------\n",
      "1\tdone 1/20\n",
      "2\tdone 2/20\n",
      "3\tdone 3/20\n",
      "4\tdone 4/20\n",
      "5\tdone 5/20\n",
      "6\tdone 6/20\n",
      "7\tdone 7/20\n",
      "8\tdone 8/20\n",
      "9\tdone 9/20\n",
      "10\tdone 10/20\n",
      "11\tdone 11/20\n",
      "12\tdone 12/20\n",
      "13\tdone 13/20\n",
      "14\tdone 14/20\n",
      "15\tdone 15/20\n",
      "16\tdone 16/20\n",
      "17\tdone 17/20\n",
      "18\tdone 18/20\n",
      "19\tdone 19/20\n",
      "20\tdone 20/20\n",
      "elasped time: 10.07 seconds\n",
      "cnt=20\n",
      "\n",
      "----------------------------------------------------------------------------------------------------\n",
      "elasped time: 10.05 seconds\n",
      "cnt=20\n",
      "\n",
      "----------------------------------------------------------------------------------------------------\n",
      "elasped time: 12.04 seconds\n",
      "cnt=20\n"
     ]
    }
   ],
   "source": [
    "# 增加进度条\n",
    "pool = multiprocessing.Pool(processes=4)\n",
    "xs = range(20)\n",
    "\n",
    "def f(x):\n",
    "    time.sleep(2)\n",
    "    return x + 1\n",
    "\n",
    "# 比较 imap，imap_unordered和map的性能差别。 为何和代码中提示不同，imap反而更快。\n",
    "print('\\n'+ '-'*100)\n",
    "cnt = 0\n",
    "start_time = time.time()\n",
    "for y in pool.imap(f, xs):\n",
    "    cnt += 1\n",
    "    print(y, end= \"\\t\")\n",
    "    sys.stdout.write('done %d/%d\\n' % (cnt, len(xs)))\n",
    "\n",
    "print('elasped time: {:.2f} seconds'.format(time.time()-start_time)) \n",
    "print('cnt={}'.format(cnt))\n",
    "\n",
    "print('\\n'+ '-'*100)\n",
    "cnt = 0\n",
    "start_time = time.time()\n",
    "for y in pool.imap_unordered(f, xs):\n",
    "    cnt += 1\n",
    "    print(y, end= \"\\t\")\n",
    "    sys.stdout.write('done %d/%d\\r' % (cnt, len(xs)))\n",
    "\n",
    "print('elasped time: {:.2f} seconds'.format(time.time()-start_time)) \n",
    "print('cnt={}'.format(cnt))\n",
    "\n",
    "\n",
    "print('\\n'+ '-'*100)\n",
    "start_time = time.time()\n",
    "pool.map(f, xs)\n",
    "print('elasped time: {:.2f} seconds'.format(time.time()-start_time)) \n",
    "print('cnt={}'.format(cnt))\n"
   ]
  },
  {
   "cell_type": "code",
   "execution_count": 9,
   "metadata": {},
   "outputs": [
    {
     "name": "stdout",
     "output_type": "stream",
     "text": [
      "1553351004.1742532 3 (Time elapsed: 1s)\n",
      "1553351008.155019 7 (Time elapsed: 5s)\n",
      "1553351008.1760623 5 (Time elapsed: 5s)\n",
      "1553351013.3006668 3 (Time elapsed: 5s)\n",
      "1553351013.3164318 7 (Time elapsed: 5s)\n",
      "1553351013.3164928 5 (Time elapsed: 5s)\n"
     ]
    }
   ],
   "source": [
    "import multiprocessing\n",
    "import time\n",
    "\n",
    "def func(x):\n",
    "    time.sleep(x)\n",
    "    return x + 2\n",
    " \n",
    "p = multiprocessing.Pool()\n",
    "start = time.time()\n",
    "for x in p.imap(func, [1,5,3]):\n",
    "    print(\"{} {} (Time elapsed: {}s)\".format(time.time(), x, int(time.time() - start)))    \n",
    "    \n",
    "start = time.time()\n",
    "for x in p.map(func, [1,5,3]):\n",
    "    print(\"{} {} (Time elapsed: {}s)\".format(time.time(), x, int(time.time() - start)))    "
   ]
  },
  {
   "cell_type": "markdown",
   "metadata": {},
   "source": [
    "### 2.23 查询cpu个数"
   ]
  },
  {
   "cell_type": "code",
   "execution_count": null,
   "metadata": {
    "collapsed": true
   },
   "outputs": [],
   "source": [
    "import multiprocessing\n",
    "multiprocessing.cpu_count()"
   ]
  },
  {
   "cell_type": "markdown",
   "metadata": {},
   "source": [
    "### 2.22 Data streaming in Python: generators, iterators, iterables\n",
    "\n",
    "使用generator，iterable，可以使用stream的方式来读取数据。"
   ]
  },
  {
   "cell_type": "code",
   "execution_count": 30,
   "metadata": {},
   "outputs": [
    {
     "name": "stdout",
     "output_type": "stream",
     "text": [
      "starting\n",
      "333328333350000\n",
      "elasped time: 0.05 seconds\n",
      "starting\n",
      "333328333350000\n",
      "elasped time: 0.04 seconds\n"
     ]
    }
   ],
   "source": [
    "import time\n",
    "\n",
    "#时间统计计算\n",
    "def show_time(fun):\n",
    "    start_time = time.time()\n",
    "    print('starting')\n",
    "    print(fun())\n",
    "    print('elasped time: {:.2f} seconds'.format(time.time()-start_time))\n",
    "\n",
    "numbers = range(100000)\n",
    " \n",
    "# 以下两段代码速度差不多，但第二段，更加节省内存    \n",
    "# Example 1, list comprehension. No streaming.\n",
    "# First create an array of squares, then sum it.\n",
    "# Note the inner array is simply looped over: no random access, just iteration.\n",
    "# Wasteful, isn't it?\n",
    "show_time(lambda : sum([n**2 for n in numbers]))\n",
    "\n",
    "# Generator: square and sum one value after another\n",
    "# No extra array created = lazily evaluated stream of numbers!\n",
    "show_time(lambda : sum(n**2 for n in numbers))"
   ]
  },
  {
   "cell_type": "markdown",
   "metadata": {},
   "source": [
    "**Generators, iterators, iterables **\n",
    "\n",
    "generator一旦循环过一轮，就不能再用了。而iterable，可以反复循环。"
   ]
  },
  {
   "cell_type": "code",
   "execution_count": 31,
   "metadata": {},
   "outputs": [
    {
     "name": "stdout",
     "output_type": "stream",
     "text": [
      "baby!, let!, me!, iterate!, ya!, \n",
      "----------------------------------------------------------------------------------------------------\n",
      "baby!, let!, me!, iterate!, ya!, \n",
      "----------------------------------------------------------------------------------------------------\n",
      "baby!, let!, me!, iterate!, ya!, "
     ]
    }
   ],
   "source": [
    "generator = (word + '!' for word in 'baby let me iterate ya'.split())\n",
    "# The generator object is now created, ready to be iterated over.\n",
    "# No exclamation marks added yet at this point.\n",
    " \n",
    "for val in generator: # real processing happens here, during iteration\n",
    "    print(val, end=\", \")\n",
    "\n",
    "for val in generator:\n",
    "    print(val, end=\", \")\n",
    "# Nothing printed! No more data, generator stream already exhausted above\n",
    "\n",
    "class BeyonceIterable(object):\n",
    "    def __iter__(self):\n",
    "        \"\"\"\n",
    "        The iterable interface: return an iterator from __iter__().\n",
    " \n",
    "        Every generator is an iterator implicitly (but not vice versa!),\n",
    "        so implementing `__iter__` as a generator is the easiest way\n",
    "        to create streamed iterables.\n",
    " \n",
    "        \"\"\"\n",
    "        for word in 'baby let me iterate ya'.split():\n",
    "            yield word + '!'  # uses yield => __iter__ is a generator\n",
    "          \n",
    "        \n",
    "iterable = BeyonceIterable()\n",
    "\n",
    "print(\"\\n\"+\"-\"*100)\n",
    "for val in iterable:  # iterator created here\n",
    "    print(val, end=\", \")\n",
    "     \n",
    "print(\"\\n\"+\"-\"*100)        \n",
    "for val in iterable:  # another iterator created here\n",
    "    print(val, end=\", \")"
   ]
  },
  {
   "cell_type": "markdown",
   "metadata": {},
   "source": [
    "### 2.21 numpy array查找"
   ]
  },
  {
   "cell_type": "code",
   "execution_count": 5,
   "metadata": {},
   "outputs": [
    {
     "name": "stdout",
     "output_type": "stream",
     "text": [
      "[[0. 1. 2.]\n",
      " [3. 4. 5.]\n",
      " [6. 7. 8.]]\n"
     ]
    },
    {
     "data": {
      "text/plain": [
       "array([6., 7., 8.])"
      ]
     },
     "execution_count": 5,
     "metadata": {},
     "output_type": "execute_result"
    }
   ],
   "source": [
    "import numpy as np\n",
    "x = np.arange(9.).reshape(3, 3)\n",
    "print(x)\n",
    "x[x > 5 ]\n"
   ]
  },
  {
   "cell_type": "markdown",
   "metadata": {},
   "source": [
    "### 2.20 遍历array，遍历最后一个层       [2018-07-18]"
   ]
  },
  {
   "cell_type": "code",
   "execution_count": 248,
   "metadata": {},
   "outputs": [
    {
     "name": "stdout",
     "output_type": "stream",
     "text": [
      "(3,)\n",
      "--------------------------------------------------\n",
      "[1]\n",
      "--------------------------------------------------\n",
      "[2]\n",
      "--------------------------------------------------\n",
      "[3]\n",
      "==================================================\n",
      "[[1 2 3]\n",
      " [3 4 6]] (2, 3)\n",
      "--------------------------------------------------\n",
      "[1 2 3]\n",
      "--------------------------------------------------\n",
      "[3 4 6]\n",
      "==================================================\n",
      "[[[ 1  2  3]\n",
      "  [ 3  9  6]\n",
      "  [ 1  3  9]]\n",
      "\n",
      " [[ 2  3 10]\n",
      "  [ 4  8  6]\n",
      "  [ 2  6  7]]]\n",
      "==================================================\n",
      "--------------------------------------------------\n",
      "[[1 2 3]\n",
      " [3 9 6]\n",
      " [1 3 9]]\n",
      "--------------------------------------------------\n",
      "[[ 2  3 10]\n",
      " [ 4  8  6]\n",
      " [ 2  6  7]]\n",
      "==================================================\n",
      "[[3 9 6]\n",
      " [4 8 6]]\n",
      "(1, 0, 2)\n",
      "2\n",
      "[[ 1  2  3]\n",
      " [ 3  9  6]\n",
      " [ 1  3  9]\n",
      " [ 2  3 10]\n",
      " [ 4  8  6]\n",
      " [ 2  6  7]]\n",
      "[[[ 1  2  3]\n",
      "  [ 3  9  6]\n",
      "  [ 1  3  9]]\n",
      "\n",
      " [[ 2  3 10]\n",
      "  [ 4  8  6]\n",
      "  [ 2  6  7]]]\n",
      "(2,)\n"
     ]
    }
   ],
   "source": [
    "import numpy as np\n",
    "\n",
    "a = np.array([1, 2, 3]).reshape(3,1)\n",
    "print(a.reshape(3).shape )\n",
    "for item in a:\n",
    "    print('-'*50)\n",
    "    print(item)\n",
    "    \n",
    "print('='*50)  \n",
    "a = np.array([[1, 2, 3], [3, 4, 6]])\n",
    "print(a, a.shape)\n",
    "for item in a:\n",
    "    print('-'*50)\n",
    "    print(item)\n",
    "\n",
    "print('='*50)    \n",
    "a = np.array([[[1, 2, 3], [3, 9, 6], [1, 3, 9]], \n",
    "              [[2, 3, 10], [4, 8, 6],[2, 6, 7]]\n",
    "             ])\n",
    "print(a)\n",
    "print('='*50)  \n",
    "for item in a[:,:]:\n",
    "    print('-'*50)\n",
    "    print(item)\n",
    "    \n",
    "# 遍历最后一层\n",
    "print('='*50)  \n",
    "print(a[:,1])\n",
    "\n",
    "print(np.unravel_index(np.argmax(a, axis=None), a.shape))   #获取最大值的，在矩阵中的坐标。\n",
    "\n",
    "\n",
    "print(a.shape[-3])\n",
    "print(a.reshape(-1, 3))\n",
    "print(a.reshape((2, 3, 3)))\n",
    "print(a.shape[:-2])"
   ]
  },
  {
   "cell_type": "markdown",
   "metadata": {},
   "source": [
    "### 2.19 top 10 in numpy array"
   ]
  },
  {
   "cell_type": "code",
   "execution_count": 190,
   "metadata": {},
   "outputs": [
    {
     "data": {
      "text/plain": [
       "array([4, 3, 1])"
      ]
     },
     "execution_count": 190,
     "metadata": {},
     "output_type": "execute_result"
    }
   ],
   "source": [
    "import numpy as np\n",
    "arr = np.array([1, 3, 2, 4, 5])\n",
    "arr.argsort()[-3:][::-1]"
   ]
  },
  {
   "cell_type": "markdown",
   "metadata": {},
   "source": [
    "### 2.18 统计时间"
   ]
  },
  {
   "cell_type": "code",
   "execution_count": 167,
   "metadata": {},
   "outputs": [
    {
     "name": "stdout",
     "output_type": "stream",
     "text": [
      "elasped time: 3.00 seconds\n"
     ]
    }
   ],
   "source": [
    "import time\n",
    "start_time = time.time()\n",
    "time.sleep(3)\n",
    "print('elasped time: {:.2f} seconds'.format(time.time()-start_time))"
   ]
  },
  {
   "cell_type": "markdown",
   "metadata": {},
   "source": [
    "### 2.17 正则表达式 \n",
    "\n",
    "\n",
    "(?iLmsux)：  \n",
    "re.I,re.IGNORECASE\t不区分大小写的匹配  \n",
    "re.L,re.LOCALE\t\t根据所使用的本地语言环境通过\\w,\\W,\\b,\\B,\\s,\\S实现匹配  \n",
    "re.M,re.MULTILINE\t^和$分别匹配目标字符串中行的起始和结尾，而不是严格匹配整个字符串本身的起始和结尾。  \n",
    "re.S,re.DOTALL\t\t\".\"(点号)通常匹配除了\\n（换行符）之外的所有单个字符；该模式表示\".\"(点号)能够匹配全部字符。  \n",
    "re.U,re.UNICODE    unicode格式  \n",
    "re.X,re.VERBOSE\t\t通过反斜线转义，否则所有空格加上#(以及在该行中所有后续文字)都被忽略，除非在一个字符串中或者允许注释并且提高可读性。  \n",
    "\n",
    "\n",
    "[Python正则表达式指南](http://www.cnblogs.com/huxi/archive/2010/07/04/1771073.html)  \n",
    "[Python正则表达式](https://wizardforcel.gitbooks.io/w3school-python/content/25.html)"
   ]
  },
  {
   "cell_type": "code",
   "execution_count": 6,
   "metadata": {},
   "outputs": [
    {
     "name": "stdout",
     "output_type": "stream",
     "text": [
      "hello\n",
      "----------------------------------------\n",
      "m.string: hello world!\n",
      "m.re: re.compile('(\\\\w+) (\\\\w+)(?P<sign>.*)')\n",
      "m.pos: 0\n",
      "m.endpos: 12\n",
      "m.lastindex: 3\n",
      "m.lastgroup: sign\n",
      "m.span(): (0, 12)\n",
      "m.group(1,2): ('hello', 'world')\n",
      "m.groups(): ('hello', 'world', '!')\n",
      "m.groupdict(): {'sign': '!'}\n",
      "m.start(2): 6\n",
      "m.end(2): 11\n",
      "m.span(2): (6, 11)\n",
      "m.expand(r'\\2 \\1\\3'): world hello!\n",
      "----------------------------------------\n",
      "world\n",
      "----------------------------------------\n",
      "['one', 'two', 'three', 'four', '']\n",
      "you-are-beautiful\n",
      "you-are beautiful\n",
      "you pre beautiful\n",
      "you pre beautiful\n",
      "you are abc\n"
     ]
    }
   ],
   "source": [
    "import re\n",
    "\n",
    "pattern = re.compile(r'hello')\n",
    "match = pattern.match('hello world!')\n",
    "if match:\n",
    "    print(match.group())\n",
    "print(\"-\"*40)\n",
    "\n",
    "m = re.match(r'(\\w+) (\\w+)(?P<sign>.*)', 'hello world!')\n",
    " \n",
    "print(\"m.string:\", m.string)\n",
    "print(\"m.re:\", m.re)\n",
    "print(\"m.pos:\", m.pos)\n",
    "print(\"m.endpos:\", m.endpos)\n",
    "print(\"m.lastindex:\", m.lastindex)\n",
    "print(\"m.lastgroup:\", m.lastgroup)\n",
    "print(\"m.span():\", m.span())\n",
    " \n",
    "print(\"m.group(1,2):\", m.group(1, 2))\n",
    "print(\"m.groups():\", m.groups())\n",
    "print(\"m.groupdict():\", m.groupdict())\n",
    "print(\"m.start(2):\", m.start(2))\n",
    "print(\"m.end(2):\", m.end(2))\n",
    "print(\"m.span(2):\", m.span(2))\n",
    "print(r\"m.expand(r'\\2 \\1\\3'):\", m.expand(r'\\2 \\1\\3'))\n",
    "print(\"-\"*40)\n",
    "\n",
    "# 查找\n",
    "# 将正则表达式编译成Pattern对象 \n",
    "# re.match只匹配字符串的开始，如果字符串开始不符合正则表达式，则匹配失败，函数返回None；而re.search匹配整个字符串，直到找到一个匹配。\n",
    "pattern = re.compile(r'world') \n",
    "match = pattern.search('hello world!') \n",
    "if match: \n",
    "    print(match.group())    \n",
    "print(\"-\"*40)    \n",
    "\n",
    "# 拆分\n",
    "p = re.compile(r'\\d+')\n",
    "print(p.split('one1two2three3four4'))\n",
    "\n",
    "# 替换\n",
    "s = 'you are beautiful'\n",
    "a = re.sub(' ', '-', s, 3)\n",
    "print(a)\n",
    "a = re.sub(' ', '-', s, 1)\n",
    "print(a)\n",
    "a = re.sub('a', 'p', s, 1)\n",
    "print(a)\n",
    "p = re.compile('a')\n",
    "a = p.sub('p', s, 1)\n",
    "print(a)\n",
    "\n",
    "s = 'you are ${beautiful}'\n",
    "a = re.sub('\\${beautiful}', 'abc', s)\n",
    "print(a)"
   ]
  },
  {
   "cell_type": "code",
   "execution_count": 50,
   "metadata": {},
   "outputs": [
    {
     "name": "stdout",
     "output_type": "stream",
     "text": [
      "you are beautiful\n",
      " may be bye bye \n",
      " ok hello \n",
      " let me see\n",
      "----------------------------------------------------------------------------------------------------\n",
      "you are beautiful  may be bye bye   ok hello   let me see\n",
      "['you', 'are', 'beautiful', 'may', 'be', 'bye', 'bye', 'ok', 'hello', 'let', 'me', 'see']\n"
     ]
    }
   ],
   "source": [
    "s = 'you are beautiful\\n may be bye bye \\n ok hello \\n let me see'\n",
    "print(s)\n",
    "print('-'*100)\n",
    "print(re.sub('\\n', ' ', s))\n",
    "print(re.sub('\\n', ' ', s).split())"
   ]
  },
  {
   "cell_type": "code",
   "execution_count": 163,
   "metadata": {},
   "outputs": [
    {
     "name": "stdout",
     "output_type": "stream",
     "text": [
      "c# 2\n",
      "Delegate 11\n",
      "c++ 15\n",
      "is 18\n",
      "++ 21\n",
      "a 23\n",
      "j++ 27\n",
      "language 36\n",
      "c++ 40\n",
      "----------------------------------------\n"
     ]
    },
    {
     "data": {
      "text/plain": [
       "'c# Delegate c++ is ++ a j++ lge c++'"
      ]
     },
     "execution_count": 163,
     "metadata": {},
     "output_type": "execute_result"
    }
   ],
   "source": [
    "token_pattern=r\"(?u)\\b\\w+\\b\"\n",
    "token_pattern=r\"(?u)\\S+\"\n",
    "sentence = \"c# Delegate c++ is ++ a j++ language c++\"\n",
    "pattern = re.compile(token_pattern) \n",
    "\n",
    "start = 0\n",
    "while True:\n",
    "    match = pattern.search(sentence[start:]) \n",
    "    if match: \n",
    "        start = start + match.end()\n",
    "        print(match.group(), start)\n",
    "    else:\n",
    "        break\n",
    "        \n",
    "print('-'*40)\n",
    "stopword = 'language'\n",
    "pattern = r'\\b' + stopword + r'\\b'\n",
    "re.sub(pattern, 'lge', sentence)"
   ]
  },
  {
   "cell_type": "markdown",
   "metadata": {},
   "source": [
    "### 2.16 \\__future\\__ 的作用\n",
    "在python2中， 我们有时会引用如下代码，在python2的环境下，超前使用python3的函数。下面代码意味在, from之后的代码中，使用python3的print函数。\n",
    "\n",
    "from \\__future\\__ import print_function\n",
    "\n",
    "以下代码如果在python2中运行，第五行会报错。 而如果在python3中运行，第一行就会报错。"
   ]
  },
  {
   "cell_type": "code",
   "execution_count": 5,
   "metadata": {},
   "outputs": [
    {
     "ename": "SyntaxError",
     "evalue": "invalid syntax (<ipython-input-5-fc7350af78a0>, line 5)",
     "output_type": "error",
     "traceback": [
      "\u001b[0;36m  File \u001b[0;32m\"<ipython-input-5-fc7350af78a0>\"\u001b[0;36m, line \u001b[0;32m5\u001b[0m\n\u001b[0;31m    print 'you are good'\u001b[0m\n\u001b[0m                       ^\u001b[0m\n\u001b[0;31mSyntaxError\u001b[0m\u001b[0;31m:\u001b[0m invalid syntax\n"
     ]
    }
   ],
   "source": [
    "print 'you are good'\n",
    "\n",
    "from __future__ import print_function\n",
    "print('you are good')\n",
    "print 'you are good'"
   ]
  },
  {
   "cell_type": "markdown",
   "metadata": {},
   "source": [
    "### 2.15 中文字符处理\n",
    "\n",
    "[PYTHON-进阶-编码处理小结](http://wklken.me/posts/2013/08/31/python-extra-coding-intro.html)  \n",
    "[字符编码笔记：ASCII，Unicode 和 UTF-8](http://www.ruanyifeng.com/blog/2007/10/ascii_unicode_and_utf-8.html)\n",
    " \n",
    "在Python2中str采用的编码是utf-8，而在Python3中str采用的编码是unicode。\n",
    "\n",
    "\n",
    "在pythoh3中由于采用unicode作为默认的编码，所以处理起来简单的多。而在python2中要小心的多。主要的方案是："
   ]
  },
  {
   "cell_type": "code",
   "execution_count": 43,
   "metadata": {},
   "outputs": [
    {
     "name": "stdout",
     "output_type": "stream",
     "text": [
      "utf-8\n",
      "ascii\n",
      "(None, None)\n",
      "ANSI_X3.4-1968\n",
      "UTF-8\n"
     ]
    }
   ],
   "source": [
    "import locale, sys\n",
    "print(sys.getdefaultencoding())    #系统默认编码\n",
    "print(sys.getfilesystemencoding()) #文件系统编码\n",
    "print(locale.getdefaultlocale())   #系统当前编码\n",
    "print(sys.stdin.encoding)          #终端输入编码\n",
    "print(sys.stdout.encoding)         #终端输出编码"
   ]
  },
  {
   "cell_type": "markdown",
   "metadata": {},
   "source": [
    "而python2的输出如下：\n",
    "\n",
    "ascii  \n",
    "ANSI_X3.4-1968  \n",
    "(None, None)  \n",
    "None  \n",
    "UTF-8  "
   ]
  },
  {
   "cell_type": "code",
   "execution_count": 32,
   "metadata": {},
   "outputs": [
    {
     "name": "stdout",
     "output_type": "stream",
     "text": [
      "<class 'str'> 2\n",
      "中文\n",
      "-----------------------------------------------\n",
      "<class 'str'> 2\n",
      "中文\n",
      "-----------------------------------------------\n",
      "<class 'bytes'> 6\n",
      "b'\\xe4\\xb8\\xad\\xe6\\x96\\x87'\n",
      "-----------------------------------------------\n",
      "True\n",
      "True\n",
      "-----------------------------------------------\n",
      "b'\\xe4\\xb8\\xad\\xe6\\x96\\x87'\n",
      "-----------------------------------------------\n",
      "['中文', 'ab']\n"
     ]
    }
   ],
   "source": [
    "s = '中文'\n",
    "print(type(s), len(s))\n",
    "print(s)\n",
    "print('-----------------------------------------------')\n",
    "s = u'中文'\n",
    "print(type(s), len(s))\n",
    "print(s)\n",
    "print('-----------------------------------------------')\n",
    "s = u'中文'.encode('utf-8')\n",
    "print(type(s), len(s))\n",
    "print(s)\n",
    "print('-----------------------------------------------')\n",
    "# print(isinstance(u'中文', unicode))   #python2中可以运行\n",
    "# print(isinstance('中文', unicode))    #python2中可以运行\n",
    "print(isinstance(u'中文', str))\n",
    "print(isinstance('中文', str))\n",
    "print('-----------------------------------------------')\n",
    "# python2中，简单原则：不要对str使用encode，不要对unicode使用decode (事实上可以对str进行encode的，具体见最后，为了保证简单，不建议)\n",
    "print('中文'.encode('utf-8'))   #python2中会报错 \n",
    "# print(u'中文'.decode('utf-8'))  #python2。3中会报错 \n",
    "print('-----------------------------------------------')\n",
    "a = ['中文', 'ab']\n",
    "print(a)        #python2中，显示的是 ['\\xe4\\xb8\\xad\\xe6\\x96\\x87', 'ab']\n",
    "# print(str(a).decode('string_escape'))  # 仅仅python2中，用于显示中文数组， 显示为 ['中文', 'ab']"
   ]
  },
  {
   "cell_type": "markdown",
   "metadata": {},
   "source": [
    "### 2.15 遍历array的最后一个维度（轴）numpy iterate over last dimension"
   ]
  },
  {
   "cell_type": "code",
   "execution_count": 171,
   "metadata": {},
   "outputs": [
    {
     "name": "stdout",
     "output_type": "stream",
     "text": [
      "==================================================\n",
      "[[0.73044509]\n",
      " [0.27014759]\n",
      " [0.29294452]]\n",
      "---------------------------------------\n",
      "[0.73044509 0.27014759 0.29294452]\n",
      "==================================================\n",
      "[[0.89968995 0.35221895 0.54153394]\n",
      " [0.9759158  0.41950337 0.44051611]]\n",
      "---------------------------------------\n",
      "[0.89968995 0.9759158 ]\n",
      "---------------------------------------\n",
      "[0.35221895 0.41950337]\n",
      "---------------------------------------\n",
      "[0.54153394 0.44051611]\n",
      "==================================================\n",
      "[[[0.04080854 0.12562058 0.29570428 0.69206746]\n",
      "  [0.91077558 0.61572351 0.67470267 0.30838553]\n",
      "  [0.80293343 0.45650736 0.39065108 0.74033627]]\n",
      "\n",
      " [[0.24643143 0.49878296 0.27830775 0.17745726]\n",
      "  [0.59281915 0.54758264 0.90473864 0.83957742]\n",
      "  [0.1436602  0.35531362 0.80006292 0.43050577]]]\n",
      "---------------------------------------\n",
      "[[0.04080854 0.91077558 0.80293343]\n",
      " [0.24643143 0.59281915 0.1436602 ]]\n",
      "---------------------------------------\n",
      "[[0.12562058 0.61572351 0.45650736]\n",
      " [0.49878296 0.54758264 0.35531362]]\n",
      "---------------------------------------\n",
      "[[0.29570428 0.67470267 0.39065108]\n",
      " [0.27830775 0.90473864 0.80006292]]\n",
      "---------------------------------------\n",
      "[[0.69206746 0.30838553 0.74033627]\n",
      " [0.17745726 0.83957742 0.43050577]]\n",
      "==================================================\n",
      "---------------------------------------\n",
      "[[0.73044509]\n",
      " [0.27014759]\n",
      " [0.29294452]]\n",
      "==================================================\n",
      "---------------------------------------\n",
      "[[0.89968995 0.35221895 0.54153394]\n",
      " [0.9759158  0.41950337 0.44051611]]\n",
      "==================================================\n",
      "---------------------------------------\n",
      "[[0.04080854 0.12562058 0.29570428 0.69206746]\n",
      " [0.91077558 0.61572351 0.67470267 0.30838553]\n",
      " [0.80293343 0.45650736 0.39065108 0.74033627]]\n",
      "---------------------------------------\n",
      "[[0.24643143 0.49878296 0.27830775 0.17745726]\n",
      " [0.59281915 0.54758264 0.90473864 0.83957742]\n",
      " [0.1436602  0.35531362 0.80006292 0.43050577]]\n"
     ]
    }
   ],
   "source": [
    "import numpy \n",
    "\n",
    "def iterate(a):\n",
    "    print(\"==================================================\")\n",
    "    print(a)\n",
    "    for i in range(a.shape[-1]):\n",
    "        print(\"---------------------------------------\")\n",
    "        print(a[...,i])\n",
    "        \n",
    "a = np.random.rand(3).reshape((3, 1))\n",
    "b = np.random.rand(2, 3) \n",
    "c = np.random.rand(2, 3, 4) \n",
    "iterate(a)\n",
    "iterate(b)\n",
    "iterate(c)\n",
    "\n",
    "\n",
    "    "
   ]
  },
  {
   "cell_type": "code",
   "execution_count": 172,
   "metadata": {},
   "outputs": [
    {
     "name": "stdout",
     "output_type": "stream",
     "text": [
      "==================================================\n",
      "---------------------------------------\n",
      "[[0.73044509]\n",
      " [0.27014759]\n",
      " [0.29294452]]\n",
      "==================================================\n",
      "---------------------------------------\n",
      "[[0.89968995 0.35221895 0.54153394]\n",
      " [0.9759158  0.41950337 0.44051611]]\n",
      "==================================================\n",
      "---------------------------------------\n",
      "[[0.04080854 0.12562058 0.29570428 0.69206746]\n",
      " [0.91077558 0.61572351 0.67470267 0.30838553]\n",
      " [0.80293343 0.45650736 0.39065108 0.74033627]]\n",
      "---------------------------------------\n",
      "[[0.24643143 0.49878296 0.27830775 0.17745726]\n",
      " [0.59281915 0.54758264 0.90473864 0.83957742]\n",
      " [0.1436602  0.35531362 0.80006292 0.43050577]]\n"
     ]
    }
   ],
   "source": [
    "def last_row(a):\n",
    "    s = a.shape\n",
    "    if len(a.shape) == 2:\n",
    "        print(\"---------------------------------------\")\n",
    "        print(a)\n",
    "    else:\n",
    "        for i in range(a.shape[0]):\n",
    "            last_row(a[i])\n",
    "            \n",
    "\n",
    "print(\"==================================================\")\n",
    "last_row(a)\n",
    "print(\"==================================================\")\n",
    "last_row(b)\n",
    "print(\"==================================================\")\n",
    "last_row(c)    "
   ]
  },
  {
   "cell_type": "markdown",
   "metadata": {},
   "source": [
    "### 2.15 查看python对象内容"
   ]
  },
  {
   "cell_type": "code",
   "execution_count": 107,
   "metadata": {},
   "outputs": [
    {
     "name": "stderr",
     "output_type": "stream",
     "text": [
      "/usr/local/lib/python3.5/dist-packages/ipykernel_launcher.py:4: DeprecationWarning: inspect.getargspec() is deprecated, use inspect.signature() instead\n",
      "  after removing the cwd from sys.path.\n"
     ]
    },
    {
     "data": {
      "text/plain": [
       "<Signature (a, b, c='abc', d=True)>"
      ]
     },
     "execution_count": 107,
     "metadata": {},
     "output_type": "execute_result"
    }
   ],
   "source": [
    "import inspect\n",
    "def fun(a, b, c='abc', d=True):\n",
    "    pass\n",
    "inspect.getargspec(fun)\n",
    "inspect.signature(fun)"
   ]
  },
  {
   "cell_type": "markdown",
   "metadata": {},
   "source": [
    "### 2.14 dict and from collections import defaultdict"
   ]
  },
  {
   "cell_type": "code",
   "execution_count": 37,
   "metadata": {},
   "outputs": [
    {
     "name": "stdout",
     "output_type": "stream",
     "text": [
      "{'n': 9, 'c': 5, 's': 10, 'i': 7, 'l': 3, 'o': 8, 'e': 4, 't': 6}\n",
      "4\n",
      "999\n",
      "defaultdict(<function <lambda> at 0x7f461455cd08>, {})\n",
      "999\n"
     ]
    }
   ],
   "source": [
    "from collections import defaultdict\n",
    "word = 'collections'\n",
    "d = {character:i for i,character in enumerate(word)}\n",
    "\n",
    "print(d)\n",
    "print(d['e'])\n",
    "# print(d['z'])  # throw KeyError: 'z'\n",
    "print(d.get('z', 999))  \n",
    "\n",
    "d1 = defaultdict(lambda : 999)\n",
    "print(d1)\n",
    "print(d1['e'])"
   ]
  },
  {
   "cell_type": "markdown",
   "metadata": {},
   "source": [
    "### 2.13 同时获得list的value和index\n"
   ]
  },
  {
   "cell_type": "code",
   "execution_count": 6,
   "metadata": {},
   "outputs": [
    {
     "name": "stdout",
     "output_type": "stream",
     "text": [
      "{'l': 3, 'o': 8, 's': 10, 'e': 4, 'n': 9, 'i': 7, 'c': 5, 't': 6}\n",
      "{0: 'c', 1: 'o', 2: 'l', 3: 'l', 4: 'e', 5: 'c', 6: 't', 7: 'i', 8: 'o', 9: 'n', 10: 's'}\n"
     ]
    }
   ],
   "source": [
    "word = 'collections'\n",
    "print({character:i for i,character in enumerate(word)})\n",
    "print({i:character for i,character in enumerate(word)})"
   ]
  },
  {
   "cell_type": "markdown",
   "metadata": {},
   "source": [
    "### 2.12 collections模块的Counter类（计数器）"
   ]
  },
  {
   "cell_type": "code",
   "execution_count": 25,
   "metadata": {},
   "outputs": [
    {
     "name": "stdout",
     "output_type": "stream",
     "text": [
      "Counter({'a': 3, 'l': 2, 'g': 1, 'd': 1, 'h': 1})\n",
      "Counter({'do': 2, 'what': 1, 'you': 1, 'like': 1, 'to': 1})\n",
      "5\n",
      "----------------------------------------------------------------------------------------------------\n",
      "遍历Counter\n",
      "what 4\n",
      "do 2\n",
      "you 3\n",
      "like 4\n",
      "to 2\n",
      "what 1\n",
      "do 2\n",
      "you 1\n",
      "like 1\n",
      "to 1\n",
      "----------------------------------------------------------------------------------------------------\n",
      "可以支持float\n",
      "Counter({'red': 4.7, 'yellow': 4.1})\n",
      "Counter({'red': 9.4, 'yellow': 8.2})\n",
      "----------------------------------------------------------------------------------------------------\n",
      "遍历Counter的方法\n",
      "('red', 9.4)\n",
      "('yellow', 8.2)\n",
      "('red', 9.4)\n",
      "('yellow', 8.2)\n",
      "Counter()\n",
      "{'red': 0.9400000000000001, 'yellow': 0.82}\n"
     ]
    }
   ],
   "source": [
    "from collections import Counter\n",
    "c = Counter('gallahad')  # 从一个可iterable对象（list、tuple、dict、字符串等）创建\n",
    "print(c)\n",
    "c = Counter(['what', 'do', 'you', 'like', 'to', 'do'])  # 从一个可iterable对象（list、tuple、dict、字符串等）创建\n",
    "print(c)\n",
    "print(len(c))\n",
    "\n",
    "print('-'*100)  \n",
    "print(\"遍历Counter\")\n",
    "for i in c:\n",
    "    print(i, len(i))\n",
    "for word, cnt in c.items():\n",
    "    print(word, cnt)    \n",
    "     \n",
    "print('-'*100)        \n",
    "print(\"可以支持float\")\n",
    "c = Counter({'red': 3.2, 'yellow': 2})    \n",
    "c.update({'red':1.5, 'yellow':2.1})\n",
    "print(c)\n",
    "c.update(c)\n",
    "print(c)\n",
    "\n",
    "print('-'*100)    \n",
    "print('遍历Counter的方法')\n",
    "for i in c.items()  :\n",
    "    print(i)\n",
    "for i in dict(c).items()  :\n",
    "    print(i)    \n",
    "# print(list(c.elements()))\n",
    "print(Counter())\n",
    "freq = { key:value*0.1 for key, value in c.items()}\n",
    "print(freq)"
   ]
  },
  {
   "cell_type": "markdown",
   "metadata": {},
   "source": [
    "### 2.11 numpy array自带的迭代器"
   ]
  },
  {
   "cell_type": "code",
   "execution_count": null,
   "metadata": {
    "collapsed": true
   },
   "outputs": [],
   "source": [
    "np.array([2, 1, 3, 2, 0]).shape"
   ]
  },
  {
   "cell_type": "markdown",
   "metadata": {},
   "source": [
    "### 2.10 one_hot"
   ]
  },
  {
   "cell_type": "code",
   "execution_count": 6,
   "metadata": {},
   "outputs": [
    {
     "name": "stdout",
     "output_type": "stream",
     "text": [
      "[[0. 0. 1. 0.]\n",
      " [0. 1. 0. 0.]\n",
      " [0. 0. 0. 1.]\n",
      " [0. 0. 1. 0.]\n",
      " [1. 0. 0. 0.]\n",
      " [0. 0. 0. 1.]\n",
      " [0. 0. 1. 0.]]\n",
      "[[0. 0. 1. 0.]]\n"
     ]
    }
   ],
   "source": [
    "import numpy as np\n",
    "\n",
    "target_vector = np.array([2, 1, 3, 2, 0, 3, 2])\n",
    "one_hot = np.eye(4)[target_vector]\n",
    "print(one_hot)\n",
    "print(one_hot[0:1,])"
   ]
  },
  {
   "cell_type": "markdown",
   "metadata": {},
   "source": [
    "### 2.9 python \\__call__\n",
    "\n",
    "[Python中的\\__init__()和\\__call__()函数](https://blog.csdn.net/Yaokai_AssultMaster/article/details/70256621)\n",
    "\n",
    "\n",
    " \\__init__()  \n",
    "在Python中，__init__()函数的意义等同于类的构造器（同理，\\__del__()等同于类的析构函数）。因此，\\__init__()方法的作用是创建一个类的实例。\n",
    "\n",
    "\\__call__()  \n",
    "Python中的函数是一级对象。这意味着Python中的函数的引用可以作为输入传递到其他的函数/方法中，并在其中被执行。 \n",
    "而Python中类的实例（对象）可以被当做函数对待。也就是说，我们可以将它们作为输入传递到其他的函数/方法中并调用他们，正如我们调用一个正常的函数那样。而类中__call__()函数的意义正在于此。为了将一个类实例当做函数调用，我们需要在类中实现__call__()方法。也就是我们要在类中实现如下方法：def  \\__call__(self, *args)。这个方法接受一定数量的变量作为输入。 \n",
    "\n",
    "假设x是X类的一个实例。那么调用x.__call__(1,2)等同于调用x(1,2)。这个实例本身在这里相当于一个函数。"
   ]
  },
  {
   "cell_type": "code",
   "execution_count": 21,
   "metadata": {},
   "outputs": [
    {
     "name": "stdout",
     "output_type": "stream",
     "text": [
      "__init__ with （1, 2, 3）\n",
      "__call__ with （1, 2, 1, 2）\n"
     ]
    }
   ],
   "source": [
    "class X(object):\n",
    "    def __init__(self, a, b, range):\n",
    "        self.a = a\n",
    "        self.b = b\n",
    "        self.range = range\n",
    "        print('__init__ with （{}, {}, {}）'.format(self.a, self.b, self.range))\n",
    "        \n",
    "    def __call__(self, c, d):\n",
    "        print('__call__ with （{}, {}, {}, {}）'.format(self.a, self.b, c, d))\n",
    "        \n",
    "    def hello():\n",
    "        print(\"hello\")\n",
    "        \n",
    "    #如果uncomment下面的函数，会有如下报错   \n",
    "    #Exception ignored in: <bound method X.__del__ of <__main__.X object at 0x7f9a80b7ccf8>>\n",
    "    #TypeError: __del__() missing 3 required positional arguments: 'a', 'b', and 'range'\n",
    "#     def __del__(self, a, b, range):\n",
    "#         del self.a\n",
    "#         del self.b\n",
    "#         del self.range\n",
    "        \n",
    "X(1, 2, 3)(1, 2)\n",
    "# xInstance(1,2)        "
   ]
  },
  {
   "cell_type": "code",
   "execution_count": null,
   "metadata": {
    "collapsed": true
   },
   "outputs": [],
   "source": []
  },
  {
   "cell_type": "markdown",
   "metadata": {},
   "source": [
    "### 2.8 Python 变参"
   ]
  },
  {
   "cell_type": "code",
   "execution_count": 83,
   "metadata": {},
   "outputs": [
    {
     "name": "stdout",
     "output_type": "stream",
     "text": [
      "('ming', 'alice', 'tom', 'wilson', 'roy')\n"
     ]
    }
   ],
   "source": [
    "def save_ranking(*args):\n",
    "    print(args) \n",
    "save_ranking('ming', 'alice', 'tom', 'wilson', 'roy')\n",
    "# ['ming', 'alice', 'tom', 'wilson', 'roy']"
   ]
  },
  {
   "cell_type": "code",
   "execution_count": 85,
   "metadata": {},
   "outputs": [
    {
     "ename": "NameError",
     "evalue": "name 'second' is not defined",
     "output_type": "error",
     "traceback": [
      "\u001b[0;31m---------------------------------------------------------------------------\u001b[0m",
      "\u001b[0;31mNameError\u001b[0m                                 Traceback (most recent call last)",
      "\u001b[0;32m<ipython-input-85-3f9085315a9e>\u001b[0m in \u001b[0;36m<module>\u001b[0;34m()\u001b[0m\n\u001b[1;32m      1\u001b[0m \u001b[0;32mdef\u001b[0m \u001b[0msave_ranking\u001b[0m\u001b[0;34m(\u001b[0m\u001b[0;34m**\u001b[0m\u001b[0mkwargs\u001b[0m\u001b[0;34m)\u001b[0m\u001b[0;34m:\u001b[0m\u001b[0;34m\u001b[0m\u001b[0m\n\u001b[1;32m      2\u001b[0m     \u001b[0mprint\u001b[0m\u001b[0;34m(\u001b[0m\u001b[0mkwargs\u001b[0m\u001b[0;34m)\u001b[0m\u001b[0;34m\u001b[0m\u001b[0m\n\u001b[0;32m----> 3\u001b[0;31m \u001b[0mabc\u001b[0m \u001b[0;34m=\u001b[0m \u001b[0;34m{\u001b[0m\u001b[0msecond\u001b[0m\u001b[0;34m:\u001b[0m\u001b[0;34m'alice'\u001b[0m\u001b[0;34m,\u001b[0m \u001b[0mfourth\u001b[0m\u001b[0;34m:\u001b[0m\u001b[0;34m'wilson'\u001b[0m\u001b[0;34m,\u001b[0m \u001b[0mthird\u001b[0m\u001b[0;34m:\u001b[0m\u001b[0;34m'tom'\u001b[0m\u001b[0;34m}\u001b[0m\u001b[0;34m\u001b[0m\u001b[0m\n\u001b[0m\u001b[1;32m      4\u001b[0m \u001b[0msave_ranking\u001b[0m\u001b[0;34m(\u001b[0m\u001b[0mfirst\u001b[0m\u001b[0;34m=\u001b[0m\u001b[0;34m'ming'\u001b[0m\u001b[0;34m,\u001b[0m \u001b[0msecond\u001b[0m\u001b[0;34m=\u001b[0m\u001b[0;34m'alice'\u001b[0m\u001b[0;34m,\u001b[0m \u001b[0mfourth\u001b[0m\u001b[0;34m=\u001b[0m\u001b[0;34m'wilson'\u001b[0m\u001b[0;34m,\u001b[0m \u001b[0mthird\u001b[0m\u001b[0;34m=\u001b[0m\u001b[0;34m'tom'\u001b[0m\u001b[0;34m,\u001b[0m \u001b[0mabc\u001b[0m\u001b[0;34m=\u001b[0m\u001b[0;34m'123'\u001b[0m\u001b[0;34m)\u001b[0m\u001b[0;34m\u001b[0m\u001b[0m\n\u001b[1;32m      5\u001b[0m \u001b[0msave_ranking\u001b[0m\u001b[0;34m(\u001b[0m\u001b[0mabc\u001b[0m \u001b[0;34m)\u001b[0m\u001b[0;34m\u001b[0m\u001b[0m\n",
      "\u001b[0;31mNameError\u001b[0m: name 'second' is not defined"
     ]
    }
   ],
   "source": [
    "def save_ranking(**kwargs):\n",
    "    print(kwargs)\n",
    "# abc = {second:'alice', fourth:'wilson', third:'tom'}    \n",
    "save_ranking(first='ming', second='alice', fourth='wilson', third='tom', abc='123')\n",
    "save_ranking(abc )"
   ]
  },
  {
   "cell_type": "code",
   "execution_count": 54,
   "metadata": {},
   "outputs": [
    {
     "name": "stdout",
     "output_type": "stream",
     "text": [
      "('ming', 'alice', 'tom')\n",
      "{'fourth': 'wilson', 'fifth': 'roy'}\n"
     ]
    }
   ],
   "source": [
    "def save_ranking(*args, **kwargs):\n",
    "    print(args)     \n",
    "    print(kwargs)\n",
    "save_ranking('ming', 'alice', 'tom', fourth='wilson', fifth='roy')     # ('ming', 'alice', 'tom')\n",
    "# {'fourth': 'wilson', 'fifth': 'roy'}"
   ]
  },
  {
   "cell_type": "code",
   "execution_count": 56,
   "metadata": {},
   "outputs": [
    {
     "name": "stdout",
     "output_type": "stream",
     "text": [
      "30030\n",
      "[2, 3, 5, 7, 11, 13]\n"
     ]
    }
   ],
   "source": [
    "from functools import reduce\n",
    "\n",
    "primes = [2, 3, 5, 7, 11, 13]\n",
    "\n",
    "def product(*numbers):\n",
    "    p = reduce(lambda x, y: x * y, numbers)\n",
    "    return p \n",
    "\n",
    "print(product(*primes))\n",
    "# 30030\n",
    "\n",
    "print(product(primes))\n",
    "# [2, 3, 5, 7, 11, 13]"
   ]
  },
  {
   "cell_type": "markdown",
   "metadata": {},
   "source": [
    "如果传入list给带*号的参数，必须要也要加上*，这样python会对这个list进行unpacking.  \n",
    "Because the product() take the variable arguments, we need to unpack the our list data and pass it to that function. In this case, if we pass the primes as *primes, every elements of the primes list will be unpacked, then stored in list called numbers. If pass that list primes to the function without unpacking, the numbers will has only one primes list not all elements of primes."
   ]
  },
  {
   "cell_type": "code",
   "execution_count": 59,
   "metadata": {},
   "outputs": [
    {
     "name": "stdout",
     "output_type": "stream",
     "text": [
      "[1, 2, 3, 4, 5, 6]\n",
      "[1, 2, 3, 4, 5] 6\n",
      "1 [2, 3, 4, 5, 6]\n",
      "1 [2, 3, 4, 5] 6\n"
     ]
    }
   ],
   "source": [
    "numbers = [1, 2, 3, 4, 5, 6]\n",
    "\n",
    "# The left side of unpacking should be list or tuple.\n",
    "*a, = numbers\n",
    "# a = [1, 2, 3, 4, 5, 6]\n",
    "print(a)\n",
    "\n",
    "*a, b = numbers\n",
    "# a = [1, 2, 3, 4, 5]\n",
    "# b = 6\n",
    "print(a, b)\n",
    "\n",
    "a, *b, = numbers\n",
    "# a = 1 \n",
    "# b = [2, 3, 4, 5, 6]\n",
    "print(a, b)\n",
    "\n",
    "a, *b, c = numbers\n",
    "# a = 1\n",
    "# b = [2, 3, 4, 5]\n",
    "# c = \n",
    "print(a, b, c)"
   ]
  },
  {
   "cell_type": "markdown",
   "metadata": {},
   "source": [
    "### 2.7 得到x, y之间所有的组合（一般用于画图） "
   ]
  },
  {
   "cell_type": "code",
   "execution_count": 45,
   "metadata": {},
   "outputs": [
    {
     "name": "stdout",
     "output_type": "stream",
     "text": [
      "(100,)\n",
      "(100,)\n",
      "(10000,)\n",
      "(10000,)\n",
      "(10000, 2)\n"
     ]
    }
   ],
   "source": [
    "h = 0.1\n",
    "x_min, x_max = -5, 5\n",
    "y_min, y_max = -5, 5\n",
    "xx, yy = np.meshgrid(np.arange(x_min, x_max, h), np.arange(y_min, y_max, h))\n",
    "\n",
    "print(np.arange(x_min, x_max, h).shape)\n",
    "print(np.arange(x_min, x_max, h).shape)\n",
    "print(xx.ravel().shape)\n",
    "print(yy.ravel().shape)\n",
    "print(np.c_[xx.ravel(), yy.ravel()].shape)\n"
   ]
  },
  {
   "cell_type": "markdown",
   "metadata": {},
   "source": [
    "### 2.6 tqdm－显示进度条"
   ]
  },
  {
   "cell_type": "code",
   "execution_count": 1,
   "metadata": {},
   "outputs": [
    {
     "name": "stderr",
     "output_type": "stream",
     "text": [
      "Processing 99: 100%|██████████| 100/100 [00:10<00:00,  9.62it/s]\n",
      "100%|██████████| 100/100 [00:10<00:00,  9.84it/s]\n"
     ]
    }
   ],
   "source": [
    "# ! pip install tqdm --proxy http://web-proxy.rose.hp.com:8080\n",
    "\n",
    "from tqdm import tqdm\n",
    "import time\n",
    " \n",
    "pbar =  tqdm(range(100)) \n",
    "for i in pbar:\n",
    "    time.sleep(0.1)\n",
    "    pbar.set_description(\"Processing %s\" % i)\n",
    "\n",
    "for i in tqdm(range(100)):\n",
    "    time.sleep(0.1)\n",
    "\n"
   ]
  },
  {
   "cell_type": "code",
   "execution_count": 2,
   "metadata": {},
   "outputs": [
    {
     "name": "stderr",
     "output_type": "stream",
     "text": [
      "Processing 100: 100%|██████████| 100/100 [00:10<00:00,  9.61it/s]"
     ]
    }
   ],
   "source": [
    "pbar =  tqdm(total=100) \n",
    "for i in range(100):\n",
    "    time.sleep(0.1)\n",
    "    pbar.set_description(\"Processing %s\" % (i+1))\n",
    "    pbar.update(1)"
   ]
  },
  {
   "cell_type": "markdown",
   "metadata": {},
   "source": [
    "### 2.5 np.random.choice 根据一定概率，选择随机数\n",
    "\n",
    "[numpy random](https://docs.scipy.org/doc/numpy/reference/routines.random.html)"
   ]
  },
  {
   "cell_type": "code",
   "execution_count": 26,
   "metadata": {},
   "outputs": [
    {
     "name": "stdout",
     "output_type": "stream",
     "text": [
      "[2 2 2 0 3 3 3 2 3 3]\n",
      "(5, 1)\n",
      "0\n",
      "[1 1 1 1 0 1 3 4 2 1]\n"
     ]
    }
   ],
   "source": [
    "import numpy as np\n",
    "print(np.random.choice(5,  10, p=[0.1, 0, 0.3, 0.6, 0]))\n",
    "p = np.array([0.1, 0, 0.3, 0.6, 0]).reshape((1, 5)).T\n",
    "print(p.shape)\n",
    "print(np.random.choice(5,  p=p.ravel()))\n",
    "\n",
    "print(np.random.choice(5,  10))"
   ]
  },
  {
   "cell_type": "markdown",
   "metadata": {},
   "source": [
    "### 2.4 exlude one row from list(排除某一些行或列)"
   ]
  },
  {
   "cell_type": "code",
   "execution_count": 7,
   "metadata": {},
   "outputs": [
    {
     "name": "stdout",
     "output_type": "stream",
     "text": [
      "[array([[5, 3, 1, 4]]), array([[2, 2, 3, 4]]), array([[1, 0, 5, 2]]), array([[1, 0, 5, 2]]), array([[5, 5, 1, 1]])]\n"
     ]
    },
    {
     "data": {
      "text/plain": [
       "[array([[5, 3, 1, 4]]),\n",
       " array([[1, 0, 5, 2]]),\n",
       " array([[1, 0, 5, 2]]),\n",
       " array([[5, 5, 1, 1]])]"
      ]
     },
     "execution_count": 7,
     "metadata": {},
     "output_type": "execute_result"
    }
   ],
   "source": [
    "import numpy as np\n",
    "x = np.array([[5, 3, 1, 4], [2, 2, 3, 4],  [1, 0, 5, 2], [1, 0, 5, 2], [5, 5, 1,1]])\n",
    "y = np.array_split(x, 5)\n",
    "print(y)\n",
    "[elt for num, elt in enumerate(y) if not num == 1]"
   ]
  },
  {
   "cell_type": "markdown",
   "metadata": {},
   "source": [
    "### 2.3 exlude one row from narray(排除某一些行或列)"
   ]
  },
  {
   "cell_type": "code",
   "execution_count": 92,
   "metadata": {},
   "outputs": [
    {
     "name": "stdout",
     "output_type": "stream",
     "text": [
      "[[5 3 1 4]\n",
      " [2 2 3 4]\n",
      " [1 0 5 2]\n",
      " [5 5 1 1]]\n",
      "[[5 3 1 4]\n",
      " [1 0 5 2]\n",
      " [5 5 1 1]]\n",
      "[[5 1 4]\n",
      " [2 3 4]\n",
      " [1 5 2]\n",
      " [5 1 1]]\n"
     ]
    }
   ],
   "source": [
    "import numpy as np\n",
    "x = np.array([[5, 3, 1, 4], [2, 2, 3, 4],  [1, 0, 5, 2], [5, 5, 1,1]])\n",
    "print(x)\n",
    "#排除第二行\n",
    "print(x[np.arange(x.shape[0])!=1])\n",
    "#排除第二列\n",
    "print(x[:, np.arange(x.shape[1])!=1])"
   ]
  },
  {
   "cell_type": "markdown",
   "metadata": {},
   "source": [
    "### 2.2 unique（统计不同的值，并计算次数）"
   ]
  },
  {
   "cell_type": "code",
   "execution_count": 186,
   "metadata": {},
   "outputs": [
    {
     "name": "stdout",
     "output_type": "stream",
     "text": [
      "[[ 1  5]\n",
      " [ 2  3]\n",
      " [ 5  6]\n",
      " [25  1]]\n",
      "2\n"
     ]
    },
    {
     "data": {
      "text/plain": [
       "5"
      ]
     },
     "execution_count": 186,
     "metadata": {},
     "output_type": "execute_result"
    }
   ],
   "source": [
    "import numpy as np\n",
    "x = np.array([1,1,1,2,2,2,5,5, 25, 5, 5, 5, 5, 1,1])\n",
    "unique, counts = np.unique(x, return_counts=True)\n",
    "print(np.asarray((unique, counts)).T)\n",
    "\n",
    "#得到最大的label\n",
    "print(np.argmax(counts))\n",
    "unique[np.argmax(counts)]"
   ]
  },
  {
   "cell_type": "markdown",
   "metadata": {},
   "source": [
    "### 2.1 argsort（得到数据排序后的编号）"
   ]
  },
  {
   "cell_type": "code",
   "execution_count": 53,
   "metadata": {},
   "outputs": [
    {
     "data": {
      "text/plain": [
       "array([1, 3, 0, 2])"
      ]
     },
     "execution_count": 53,
     "metadata": {},
     "output_type": "execute_result"
    }
   ],
   "source": [
    "import numpy as np\n",
    "x = np.array([3,0,6,1])\n",
    "np.argsort(x)  "
   ]
  },
  {
   "cell_type": "code",
   "execution_count": 62,
   "metadata": {},
   "outputs": [
    {
     "data": {
      "text/plain": [
       "array([[5, 3, 1, 4],\n",
       "       [2, 2, 3, 4]])"
      ]
     },
     "execution_count": 62,
     "metadata": {},
     "output_type": "execute_result"
    }
   ],
   "source": [
    "x = np.array([[5, 3, 1, 4], [2, 2, 3, 4]])\n",
    "x"
   ]
  },
  {
   "cell_type": "code",
   "execution_count": 74,
   "metadata": {},
   "outputs": [
    {
     "data": {
      "text/plain": [
       "array([2, 1, 3, 0])"
      ]
     },
     "execution_count": 74,
     "metadata": {},
     "output_type": "execute_result"
    }
   ],
   "source": [
    "np.argsort(x[0,:])"
   ]
  },
  {
   "cell_type": "code",
   "execution_count": 63,
   "metadata": {},
   "outputs": [
    {
     "data": {
      "text/plain": [
       "array([[1, 1, 0, 0],\n",
       "       [0, 0, 1, 1]])"
      ]
     },
     "execution_count": 63,
     "metadata": {},
     "output_type": "execute_result"
    }
   ],
   "source": [
    "np.argsort(x, axis=0)"
   ]
  },
  {
   "cell_type": "code",
   "execution_count": 64,
   "metadata": {},
   "outputs": [
    {
     "data": {
      "text/plain": [
       "array([[2, 1, 3, 0],\n",
       "       [0, 1, 2, 3]])"
      ]
     },
     "execution_count": 64,
     "metadata": {},
     "output_type": "execute_result"
    }
   ],
   "source": [
    "np.argsort(x, axis=1)"
   ]
  },
  {
   "cell_type": "markdown",
   "metadata": {},
   "source": [
    "#### Sorting with keys: \n",
    "不是非常理解"
   ]
  },
  {
   "cell_type": "code",
   "execution_count": 38,
   "metadata": {},
   "outputs": [
    {
     "data": {
      "text/plain": [
       "array([(1, 0), (0, 1)],\n",
       "      dtype=[('x', '<i4'), ('y', '<i4')])"
      ]
     },
     "execution_count": 38,
     "metadata": {},
     "output_type": "execute_result"
    }
   ],
   "source": [
    "x = np.array([(1, 0), (0, 1)], dtype=[('x', '<i4'), ('y', '<i4')])\n",
    "x"
   ]
  },
  {
   "cell_type": "code",
   "execution_count": 27,
   "metadata": {},
   "outputs": [
    {
     "data": {
      "text/plain": [
       "array([1, 0])"
      ]
     },
     "execution_count": 27,
     "metadata": {},
     "output_type": "execute_result"
    }
   ],
   "source": [
    "np.argsort(x, order=('x','y'))"
   ]
  },
  {
   "cell_type": "code",
   "execution_count": 28,
   "metadata": {},
   "outputs": [
    {
     "data": {
      "text/plain": [
       "array([0, 1])"
      ]
     },
     "execution_count": 28,
     "metadata": {},
     "output_type": "execute_result"
    }
   ],
   "source": [
    "np.argsort(x, order=('y','x'))"
   ]
  },
  {
   "cell_type": "markdown",
   "metadata": {},
   "source": [
    "## 1 Python Numpy Tutorial\n",
    "http://cs231n.github.io/python-numpy-tutorial/"
   ]
  },
  {
   "cell_type": "markdown",
   "metadata": {},
   "source": [
    "#### # python的快速排序例子，不错"
   ]
  },
  {
   "cell_type": "code",
   "execution_count": 32,
   "metadata": {},
   "outputs": [
    {
     "name": "stdout",
     "output_type": "stream",
     "text": [
      "[1, 1, 2, 3, 6, 8, 10]\n"
     ]
    }
   ],
   "source": [
    "def quicksort(arr):\n",
    "    if len(arr) <= 1:\n",
    "        return arr\n",
    "    pivot = arr[len(arr) // 2]\n",
    "    left = [x for x in arr if x < pivot]\n",
    "    middle = [x for x in arr if x == pivot]\n",
    "    right = [x for x in arr if x > pivot]\n",
    "    return quicksort(left) + middle + quicksort(right)\n",
    "\n",
    "print(quicksort([3,6,8,10,1,2,1]))\n",
    "# Prints \"[1, 1, 2, 3, 6, 8, 10]\""
   ]
  },
  {
   "cell_type": "markdown",
   "metadata": {},
   "source": [
    "#### 字符串左右对齐的功能不错"
   ]
  },
  {
   "cell_type": "code",
   "execution_count": 34,
   "metadata": {},
   "outputs": [
    {
     "name": "stdout",
     "output_type": "stream",
     "text": [
      "Hello\n",
      "HELLO\n",
      "  hello\n",
      " hello \n",
      "he(ell)(ell)o\n",
      "world\n"
     ]
    }
   ],
   "source": [
    "s = \"hello\"\n",
    "print(s.capitalize())  # Capitalize a string; prints \"Hello\"\n",
    "print(s.upper())       # Convert a string to uppercase; prints \"HELLO\"\n",
    "print(s.rjust(7))      # Right-justify a string, padding with spaces; prints \"  hello\"\n",
    "print(s.center(7))     # Center a string, padding with spaces; prints \" hello \"\n",
    "print(s.replace('l', '(ell)'))  # Replace all instances of one substring with another;\n",
    "                                # prints \"he(ell)(ell)o\"\n",
    "print('  world '.strip())  # Strip leading and trailing whitespace; prints \"world\""
   ]
  },
  {
   "cell_type": "code",
   "execution_count": 35,
   "metadata": {},
   "outputs": [
    {
     "name": "stdout",
     "output_type": "stream",
     "text": [
      "#1: cat\n",
      "#2: dog\n",
      "#3: monkey\n"
     ]
    }
   ],
   "source": [
    "# 遍历\n",
    "# 希望访问list中每个element及其所在在index  \n",
    "animals = ['cat', 'dog', 'monkey']\n",
    "for idx, animal in enumerate(animals):\n",
    "    print('#%d: %s' % (idx + 1, animal))\n",
    "# Prints \"#1: cat\", \"#2: dog\", \"#3: monkey\", each on its own line"
   ]
  },
  {
   "cell_type": "code",
   "execution_count": 32,
   "metadata": {},
   "outputs": [
    {
     "name": "stdout",
     "output_type": "stream",
     "text": [
      "cute\n",
      "True\n",
      "wet\n",
      "N/A\n",
      "wet\n",
      "N/A\n",
      "{1: 3}\n"
     ]
    }
   ],
   "source": [
    "# dictionary\n",
    "d = {'cat': 'cute', 'dog': 'furry'}  # Create a new dictionary with some data\n",
    "print(d['cat'])       # Get an entry from a dictionary; prints \"cute\"\n",
    "print('cat' in d)     # Check if a dictionary has a given key; prints \"True\"\n",
    "d['fish'] = 'wet'     # Set an entry in a dictionary\n",
    "print(d['fish'])      # Prints \"wet\"\n",
    "# print(d['monkey'])  # KeyError: 'monkey' not a key of d\n",
    "print(d.get('monkey', 'N/A'))  # Get an element with a default; prints \"N/A\"\n",
    "print(d.get('fish', 'N/A'))    # Get an element with a default; prints \"wet\"\n",
    "del d['fish']         # Remove an element from a dictionary\n",
    "print(d.get('fish', 'N/A')) # \"fish\" is no longer a key; prints \"N/A\"\n",
    "d = {'person': 2, 'cat': 4, 'spider': 8}\n",
    "\n",
    "e = {}\n",
    "e[1]=3\n",
    "print(e)\n"
   ]
  },
  {
   "cell_type": "code",
   "execution_count": 39,
   "metadata": {},
   "outputs": [
    {
     "name": "stdout",
     "output_type": "stream",
     "text": [
      "A person has 2 legs\n",
      "A spider has 8 legs\n",
      "A cat has 4 legs\n",
      "A person has 2 legs\n",
      "A spider has 8 legs\n",
      "A cat has 4 legs\n",
      "{0: 0, 2: 4, 4: 16}\n"
     ]
    }
   ],
   "source": [
    "for animal in d:\n",
    "    legs = d[animal]\n",
    "    print('A %s has %d legs' % (animal, legs))\n",
    "# Prints \"A person has 2 legs\", \"A cat has 4 legs\", \"A spider has 8 legs\"\n",
    "d = {'person': 2, 'cat': 4, 'spider': 8}\n",
    "for animal, legs in d.items():\n",
    "    print('A %s has %d legs' % (animal, legs))\n",
    "    \n",
    "nums = [0, 1, 2, 3, 4]\n",
    "even_num_to_square = {x: x ** 2 for x in nums if x % 2 == 0}\n",
    "print(even_num_to_square)  # Prints \"{0: 0, 2: 4, 4: 16}\"    "
   ]
  },
  {
   "cell_type": "markdown",
   "metadata": {},
   "source": [
    "## SciPy\n",
    "Numpy provides a high-performance multidimensional array and basic tools to compute with and manipulate these arrays. SciPy builds on this, and provides a large number of functions that operate on numpy arrays and are useful for different types of scientific and engineering applications."
   ]
  },
  {
   "cell_type": "code",
   "execution_count": 51,
   "metadata": {},
   "outputs": [
    {
     "name": "stdout",
     "output_type": "stream",
     "text": [
      "uint8 (400, 248, 3)\n"
     ]
    },
    {
     "name": "stderr",
     "output_type": "stream",
     "text": [
      "/usr/local/lib/python3.5/dist-packages/skimage/transform/_warps.py:84: UserWarning: The default mode, 'constant', will be changed to 'reflect' in skimage 0.15.\n",
      "  warn(\"The default mode, 'constant', will be changed to 'reflect' in \"\n",
      "/usr/local/lib/python3.5/dist-packages/imageio/core/util.py:104: UserWarning: Conversion from float64 to uint8, range [0.0, 255.0]\n",
      "  'range [{2}, {3}]'.format(dtype_str, out_type.__name__, mi, ma))\n"
     ]
    }
   ],
   "source": [
    "# Image operations 图片操作： 读取，写入，变形\n",
    "# !pip install imageio  --proxy https://web-proxy.rose.hp.com:8080\n",
    "# !pip install  scikit-image  --proxy https://web-proxy.rose.hp.com:8080\n",
    "import imageio\n",
    "from skimage.transform import resize\n",
    "\n",
    "# Read an JPEG image into a numpy array\n",
    "img = imageio.imread('image/cat.jpg')\n",
    "print(img.dtype, img.shape)  # Prints \"uint8 (400, 248, 3)\"\n",
    "\n",
    "# We can tint the image by scaling each of the color channels\n",
    "# by a different scalar constant. The image has shape (400, 248, 3);\n",
    "# we multiply it by the array [1, 0.95, 0.9] of shape (3,);\n",
    "# numpy broadcasting means that this leaves the red channel unchanged,\n",
    "# and multiplies the green and blue channels by 0.95 and 0.9\n",
    "# respectively.\n",
    "img_tinted = img * [1, 0.95, 0.9]\n",
    "\n",
    "# Resize the tinted image to be 300 by 300 pixels.\n",
    "img_tinted = resize(img_tinted, (300, 300))\n",
    "\n",
    "# Write the tinted image back to disk\n",
    "imageio.imsave('image/cat_tinted.jpg', img_tinted)"
   ]
  },
  {
   "cell_type": "markdown",
   "metadata": {},
   "source": [
    "显示两个图片在一行，show mutiple images side by side\n",
    "<table>\n",
    "<tr>\n",
    "<td> ![cat](../../image/cat.jpg)  </td>\n",
    "<td> ![cat_tinted](../../image/cat_tinted.jpg) </td>\n",
    "</tr>\n",
    "</table>"
   ]
  },
  {
   "cell_type": "markdown",
   "metadata": {},
   "source": [
    "## 格式化输出numpy数组的小数显示"
   ]
  },
  {
   "cell_type": "code",
   "execution_count": 40,
   "metadata": {},
   "outputs": [
    {
     "name": "stdout",
     "output_type": "stream",
     "text": [
      "[0.05 0.00 0.95]\n",
      "[1.00 0.00 1.00]\n",
      "[0.60 0.03 0.37]\n"
     ]
    }
   ],
   "source": [
    "import numpy as np\n",
    "\n",
    "np.set_printoptions(formatter={'float': lambda x: \"{0:0.2f}\".format(x)})\n",
    "\n",
    "def softmax(Z):\n",
    "    E = np.exp(Z)\n",
    "    return E/np.sum(E, axis = 0, keepdims = True)\n",
    "\n",
    "def sigmoid(Z):\n",
    "    E = 1/np.exp(Z)\n",
    "    return 1.0 / (1.0 + E)\n",
    "\n",
    "print('{0}'.format(softmax([7, -7.5, 10])))\n",
    "print('{0}'.format(sigmoid([7, -7.5, 10])))\n",
    "print('{0}'.format(softmax([1,-2,0.5])))\n",
    "# print('{0}'.format(np.round(softmax([7, -7.5, 10])), decimals=5))\n",
    "# print('{0}'.format(np.round(sigmoid([7, -7.5, 10])), decimals=5))"
   ]
  },
  {
   "cell_type": "markdown",
   "metadata": {},
   "source": [
    "## np.linalg.norm \n",
    "\n",
    "https://docs.scipy.org/doc/numpy-1.13.0/reference/generated/numpy.linalg.norm.html"
   ]
  },
  {
   "cell_type": "code",
   "execution_count": 5,
   "metadata": {},
   "outputs": [
    {
     "name": "stdout",
     "output_type": "stream",
     "text": [
      "5.0\n",
      "5.0\n"
     ]
    }
   ],
   "source": [
    "import numpy as np\n",
    "x = np.array([3, 4])\n",
    "print(np.linalg.norm(x))\n",
    "print(np.sqrt(np.sum(np.square(x))))"
   ]
  },
  {
   "cell_type": "markdown",
   "metadata": {},
   "source": [
    "## 1. Juila, Cython and Numba\n",
    "\n",
    "https://www.ibm.com/developerworks/cn/opensource/os-make-python-faster-julia/index.html\n",
    "\n",
    "这篇文章比较了Juila的性能优势,如果Python采用Cython, Numba等方式编译，甚至能够得到更大的性能提高。"
   ]
  },
  {
   "cell_type": "code",
   "execution_count": 9,
   "metadata": {},
   "outputs": [
    {
     "name": "stdout",
     "output_type": "stream",
     "text": [
      "292 ms ± 32.9 ms per loop (mean ± std. dev. of 7 runs, 1 loop each)\n"
     ]
    }
   ],
   "source": [
    "import numpy as np\n",
    "\n",
    "def fib(n):\n",
    "    if n<2:\n",
    "        return n\n",
    "    return fib(n-1)+fib(n-2)\n",
    "%timeit fib(30)    #%timeit  统计时间的代码"
   ]
  },
  {
   "cell_type": "markdown",
   "metadata": {},
   "source": [
    "### 1.1 使用 Cython 编译\n",
    "\n",
    "不知道为何无法运行成功"
   ]
  },
  {
   "cell_type": "code",
   "execution_count": 3,
   "metadata": {},
   "outputs": [
    {
     "name": "stdout",
     "output_type": "stream",
     "text": [
      "Collecting Cython\n",
      "  Downloading Cython-0.27.3-cp35-cp35m-manylinux1_x86_64.whl (3.0MB)\n",
      "\u001b[K    100% |################################| 3.0MB 84kB/s eta 0:00:01\n",
      "\u001b[?25hInstalling collected packages: Cython\n",
      "Successfully installed Cython-0.27.3\n"
     ]
    }
   ],
   "source": [
    "# 使用 Cython 编译\n",
    "!pip install Cython #--proxy http://web-proxy.rose.hp.com:8080\n",
    "\n",
    "%load_ext Cython"
   ]
  },
  {
   "cell_type": "raw",
   "metadata": {},
   "source": [
    "%%cython\n",
    "\n",
    "#编译会报错\n",
    "def fib_cython(n):\n",
    "    if n<2:\n",
    "        return n\n",
    "    return fib_cython(n-1)+fib_cython(n-2)\n",
    "%timeit fib_cython(30)"
   ]
  },
  {
   "cell_type": "raw",
   "metadata": {},
   "source": [
    "%%cython\n",
    "\n",
    "#编译会报错\n",
    "cpdef long fib_cython(long n):\n",
    "    if n<2:\n",
    "        return n\n",
    "    return fib_cython(n-1)+fib_cython(n-2)\n",
    "%timeit fib_cython(30)"
   ]
  },
  {
   "cell_type": "markdown",
   "metadata": {},
   "source": [
    "### 缓存计算\n",
    "我们在保留 Python 任意精度的情况下能做得更好。fib 函数重复执行同一种计算许多次。例如，fib(20) 将调用 fib(19) 和 fib(18)。fib(19) 将调用 fib(18) 和 fib(17)。结果 fib(18) 被调用了两次。简单分析表明，fib(17) 将被调用 3 次，fib(16) 将被调用 5 次，等等。"
   ]
  },
  {
   "cell_type": "code",
   "execution_count": 1,
   "metadata": {},
   "outputs": [
    {
     "name": "stdout",
     "output_type": "stream",
     "text": [
      "112 ns ± 0.0392 ns per loop (mean ± std. dev. of 7 runs, 10000000 loops each)\n"
     ]
    },
    {
     "data": {
      "text/plain": [
       "1"
      ]
     },
     "execution_count": 1,
     "metadata": {},
     "output_type": "execute_result"
    }
   ],
   "source": [
    "from functools import lru_cache as cache\n",
    "@cache(maxsize=None)\n",
    "def fib_cache(n):\n",
    "    if n<2:\n",
    "        return n\n",
    "    return fib_cache(n-1)+fib_cache(n-2)\n",
    "\n",
    "%timeit fib_cache(30)"
   ]
  },
  {
   "cell_type": "code",
   "execution_count": 4,
   "metadata": {},
   "outputs": [
    {
     "name": "stdout",
     "output_type": "stream",
     "text": [
      "比最初的 Python 代码快约2654.5454545454545倍！\n"
     ]
    },
    {
     "data": {
      "text/plain": [
       "9"
      ]
     },
     "execution_count": 4,
     "metadata": {},
     "output_type": "execute_result"
    }
   ],
   "source": [
    "print(\"比最初的 Python 代码快约{}倍！\".format(292/(110/1000)))"
   ]
  },
  {
   "cell_type": "markdown",
   "metadata": {},
   "source": [
    "### 1.3 使用 Numba 编译\n",
    "\n",
    "让我们使用另一个名为 Numba 的工具。它是针对部分 Python 版本的一个即时 (jit) 编译器。它不是对所有 Python 版本都适用，但在适用的情况下，它会带来奇迹。"
   ]
  },
  {
   "cell_type": "code",
   "execution_count": null,
   "metadata": {
    "collapsed": true
   },
   "outputs": [],
   "source": [
    "!pip install numba #--proxy http://web-proxy.rose.hp.com:8080"
   ]
  },
  {
   "cell_type": "code",
   "execution_count": 15,
   "metadata": {},
   "outputs": [
    {
     "name": "stdout",
     "output_type": "stream",
     "text": [
      "89.7 ns ± 0.806 ns per loop (mean ± std. dev. of 7 runs, 10000000 loops each)\n"
     ]
    }
   ],
   "source": [
    "from numba import jit\n",
    "\n",
    "@jit\n",
    "def fib_seq_numba(n):\n",
    "    if n < 2:\n",
    "        return n\n",
    "    (a,b) = (1,0)\n",
    "    for i in range(n-1):\n",
    "        (a,b) = (a+b,a)\n",
    "    return a\n",
    "\n",
    "%timeit fib_cache(30)"
   ]
  },
  {
   "cell_type": "code",
   "execution_count": 16,
   "metadata": {},
   "outputs": [
    {
     "name": "stdout",
     "output_type": "stream",
     "text": [
      "比最初的 Python 代码快约3255.295429208473倍！\n"
     ]
    }
   ],
   "source": [
    "print(\"比最初的 Python 代码快约{}倍！\".format(292/(89.7/1000)))"
   ]
  },
  {
   "cell_type": "markdown",
   "metadata": {},
   "source": [
    "## Older"
   ]
  },
  {
   "cell_type": "code",
   "execution_count": 2,
   "metadata": {},
   "outputs": [
    {
     "data": {
      "text/plain": [
       "array([[ 0.65,  0.28,  0.07],\n",
       "       [ 0.15,  0.67,  0.18],\n",
       "       [ 0.12,  0.36,  0.52]])"
      ]
     },
     "execution_count": 2,
     "metadata": {},
     "output_type": "execute_result"
    }
   ],
   "source": [
    "import numpy as np\n",
    "a = np.array([[0.65, 0.28, 0.07], [0.15, 0.67, 0.18], [0.12, 0.36, 0.52]])\n"
   ]
  },
  {
   "cell_type": "code",
   "execution_count": 20,
   "metadata": {},
   "outputs": [
    {
     "name": "stdout",
     "output_type": "stream",
     "text": [
      "[[ True False False]\n",
      " [False  True False]\n",
      " [False  True  True]]\n",
      "4\n"
     ]
    }
   ],
   "source": [
    "print(a > 0.3)\n",
    "print(np.sum(a>0.3))"
   ]
  },
  {
   "cell_type": "code",
   "execution_count": 185,
   "metadata": {},
   "outputs": [
    {
     "name": "stdout",
     "output_type": "stream",
     "text": [
      "[[[ 1  2  3  4]\n",
      "  [ 3  4  5  6]\n",
      "  [ 6  7  8  9]]\n",
      "\n",
      " [[10 11 12 13]\n",
      "  [13 14 15 16]\n",
      "  [16 17 18 19]]]\n",
      "[[ 1  2  3  4  3  4  5  6  6  7  8  9]\n",
      " [10 11 12 13 13 14 15 16 16 17 18 19]]\n",
      "[[ 1  2]\n",
      " [ 3  4]\n",
      " [ 3  4]\n",
      " [ 5  6]\n",
      " [ 6  7]\n",
      " [ 8  9]\n",
      " [10 11]\n",
      " [12 13]\n",
      " [13 14]\n",
      " [15 16]\n",
      " [16 17]\n",
      " [18 19]]\n"
     ]
    },
    {
     "data": {
      "text/plain": [
       "array([[ 0.47724303,  0.2330421 , -0.5425071 ,  1.22917272],\n",
       "       [-1.14369937,  1.43442646, -0.45713602,  0.30298751]])"
      ]
     },
     "execution_count": 185,
     "metadata": {},
     "output_type": "execute_result"
    }
   ],
   "source": [
    "a = np.array(\n",
    "    [[[1, 2, 3, 4], [3, 4, 5, 6], [6, 7, 8, 9]],\n",
    "     [[10, 11, 12, 13], [13, 14, 15, 16], [16, 17, 18, 19]]\n",
    "    ]\n",
    "    )\n",
    "print(a)\n",
    "print(a.reshape(a.shape[0], -1))\n",
    "print(a.reshape(-1, a.shape[0]))\n",
    "1.0/2*0.1\n",
    "np.random.randn(2,4)"
   ]
  },
  {
   "cell_type": "code",
   "execution_count": 54,
   "metadata": {},
   "outputs": [
    {
     "name": "stdout",
     "output_type": "stream",
     "text": [
      "[[-0.31099082 -0.67392571  0.39563365]\n",
      " [-0.13360166  1.22020581  0.01565342]\n",
      " [ 0.36337367  0.37657246  0.14133009]\n",
      " [-0.59835471  0.25862004 -0.90435436]]\n",
      "[[-0.58928289]\n",
      " [ 1.10225757]\n",
      " [ 0.88127622]\n",
      " [-1.24408903]]\n",
      "[-0.58928289  1.10225757  0.88127622 -1.24408903]\n",
      "(3,)\n"
     ]
    },
    {
     "data": {
      "text/plain": [
       "array([-0.31099082, -0.13360166,  0.36337367, -0.59835471])"
      ]
     },
     "execution_count": 54,
     "metadata": {},
     "output_type": "execute_result"
    }
   ],
   "source": [
    "import numpy as np\n",
    "A = np.random.randn(4,3)\n",
    "B = np.sum(A, axis = 1, keepdims = True)\n",
    "print(A)\n",
    "print(B)\n",
    "print(np.sum(A, axis = 1, keepdims = False))\n",
    "print(np.sum(A, axis = 0, keepdims = False).shape)\n"
   ]
  },
  {
   "cell_type": "code",
   "execution_count": 24,
   "metadata": {},
   "outputs": [
    {
     "data": {
      "text/plain": [
       "array([[-1.36696524, -2.18569818, -0.80807384, -0.19325955],\n",
       "       [-0.35207206,  0.32133859,  1.13348941, -1.09325212],\n",
       "       [-0.00439771, -1.25861296, -0.02412861,  0.61763061]])"
      ]
     },
     "execution_count": 24,
     "metadata": {},
     "output_type": "execute_result"
    }
   ],
   "source": [
    "A.reshape((3, -1))"
   ]
  },
  {
   "cell_type": "code",
   "execution_count": 25,
   "metadata": {},
   "outputs": [
    {
     "data": {
      "text/plain": [
       "array([[-1.36696524, -2.18569818, -0.80807384, -0.19325955],\n",
       "       [-0.35207206,  0.32133859,  1.13348941, -1.09325212],\n",
       "       [-0.00439771, -1.25861296, -0.02412861,  0.61763061]])"
      ]
     },
     "execution_count": 25,
     "metadata": {},
     "output_type": "execute_result"
    }
   ],
   "source": [
    "A.reshape(3, -1)"
   ]
  },
  {
   "cell_type": "code",
   "execution_count": 160,
   "metadata": {},
   "outputs": [
    {
     "name": "stdout",
     "output_type": "stream",
     "text": [
      "2\n",
      "[0 1]\n"
     ]
    }
   ],
   "source": [
    "a = [1, 2]\n",
    "print(len(a))\n",
    "print(np.int32(np.array(a)>1))"
   ]
  },
  {
   "cell_type": "code",
   "execution_count": 215,
   "metadata": {},
   "outputs": [
    {
     "name": "stdout",
     "output_type": "stream",
     "text": [
      "6\n",
      "1\n",
      "[[1 2 2]\n",
      " [4 5 6]]\n",
      "[4 5 6]\n",
      "[2 6]\n",
      "----------------------------\n",
      "[[1 4 2 5]\n",
      " [4 2 9 4]\n",
      " [4 2 7 2]]\n",
      "(3, 4)\n",
      "----------------------------\n",
      "(1, 2)\n",
      "[1 0 1 0]\n",
      "(4,)\n",
      "----------------------------\n",
      "12\n"
     ]
    }
   ],
   "source": [
    "a = np.array([[1,2,2],[4,5,6]])\n",
    "print(a.max()) #获取整个矩阵的最大值 结果： 6\n",
    "print(a.min()) #结果：1\n",
    "\n",
    "# 可以指定关键字参数axis来获得行最大（小）值或列最大（小）值\n",
    "# axis=0 行方向最大（小）值，即获得每列的最大（小）值\n",
    "# axis=1 列方向最大（小）值，即获得每行的最大（小）值\n",
    "# 例如\n",
    "print(a)\n",
    "print(a.max(axis=0))\n",
    "# 结果为 [4 5 6]\n",
    "\n",
    "print(a.max(axis=1))\n",
    "# 结果为 [3 6]\n",
    "\n",
    "# 要想获得最大最小值元素所在的位置，可以通过argmax函数来获得\n",
    "print('----------------------------')\n",
    "a = np.array([[1,4,2, 5],[4,2,9, 4],[4,2, 7, 2]])\n",
    "print(a)\n",
    "print(a.shape)\n",
    "print('----------------------------')\n",
    "print(np.unravel_index(np.argmax(a, axis=None), a.shape))\n",
    "print(a.argmax(axis=0))\n",
    "print(a.argmax(axis=0).shape)\n",
    "print('----------------------------')\n",
    "print(a.size)"
   ]
  },
  {
   "cell_type": "code",
   "execution_count": 28,
   "metadata": {},
   "outputs": [
    {
     "data": {
      "text/plain": [
       "array([[1, 2, 2],\n",
       "       [4, 5, 6]])"
      ]
     },
     "execution_count": 28,
     "metadata": {},
     "output_type": "execute_result"
    }
   ],
   "source": [
    "np.copy(a)"
   ]
  },
  {
   "cell_type": "code",
   "execution_count": 29,
   "metadata": {},
   "outputs": [
    {
     "name": "stdout",
     "output_type": "stream",
     "text": [
      "Animal run at 6.32455532034\n",
      "Animal run at 0\n",
      "<class 'numpy.float64'>\n",
      "<class 'numpy.ndarray'>\n",
      "<class 'numpy.ndarray'>\n"
     ]
    }
   ],
   "source": [
    "# 测试对象继承\n",
    "class Animal(object):\n",
    "    def get_speed(self):\n",
    "        return 0\n",
    "        \n",
    "    def run(self):\n",
    "        print(\"Animal run at \"+ str(self.get_speed()))   \n",
    "        \n",
    "class Cat(Animal):\n",
    "    def get_speed(self):  \n",
    "        return np.sqrt(np.array(40))\n",
    "              \n",
    "cat = Cat()         \n",
    "cat.run()\n",
    "lion = Animal()         \n",
    "lion.run()\n",
    "print(type(np.sqrt(32)))\n",
    "print(type(np.sqrt([40,45])))\n",
    "print(type(np.array([40,45])))"
   ]
  },
  {
   "cell_type": "code",
   "execution_count": 10,
   "metadata": {},
   "outputs": [
    {
     "name": "stdout",
     "output_type": "stream",
     "text": [
      "a=3, b=2\n"
     ]
    }
   ],
   "source": [
    "a = 1\n",
    "if a is None:\n",
    "    print(\"i am none\")\n",
    "    \n",
    "a =3 \n",
    "b =a\n",
    "b= 2\n",
    "print(\"a={}, b={}\".format(a, b))"
   ]
  },
  {
   "cell_type": "code",
   "execution_count": 31,
   "metadata": {},
   "outputs": [
    {
     "name": "stdout",
     "output_type": "stream",
     "text": [
      "[[-0.64995837]\n",
      " [-0.10506766]\n",
      " [ 0.97168085]\n",
      " [-0.84717388]]\n"
     ]
    },
    {
     "data": {
      "text/plain": [
       "array([-0.10506766])"
      ]
     },
     "execution_count": 31,
     "metadata": {},
     "output_type": "execute_result"
    }
   ],
   "source": [
    "A = np.random.randn(4,1)\n",
    "print(A)\n",
    "A[1]"
   ]
  },
  {
   "cell_type": "code",
   "execution_count": 32,
   "metadata": {},
   "outputs": [
    {
     "name": "stdout",
     "output_type": "stream",
     "text": [
      "[[-1.65119275 -1.55271157 -0.38546726]\n",
      " [ 1.91550113  1.36525706  0.3589059 ]\n",
      " [ 1.62917173  0.37161111  1.45797612]\n",
      " [-1.7638759  -0.66725509  0.7857922 ]]\n",
      "[ 1.62917173  0.37161111  1.45797612]\n",
      "[[-1.65119275 -1.55271157]\n",
      " [ 1.91550113  1.36525706]]\n",
      "[-0.38546726  0.3589059   1.45797612  0.7857922 ]\n",
      "[[-0.38546726]\n",
      " [ 0.3589059 ]\n",
      " [ 1.45797612]\n",
      " [ 0.7857922 ]]\n",
      "[[ -1.65119275  -1.55271157  -0.38546726]\n",
      " [  1.91550113   1.36525706   0.3589059 ]\n",
      " [  1.62917173   0.37161111  10.        ]\n",
      " [ -1.7638759   -0.66725509   0.7857922 ]]\n",
      "(1, 1)\n",
      "(1, 2)\n",
      "A [[ -1.65119275  -1.55271157  -0.38546726]\n",
      " [  4.           1.36525706   0.3589059 ]\n",
      " [  1.62917173   0.37161111  10.        ]\n",
      " [ -1.7638759   -0.66725509   0.7857922 ]]\n",
      "A[:,:-1] [[-1.65119275 -1.55271157]\n",
      " [ 4.          1.36525706]\n",
      " [ 1.62917173  0.37161111]\n",
      " [-1.7638759  -0.66725509]]\n",
      "A[:,-1:] [[ -0.38546726]\n",
      " [  0.3589059 ]\n",
      " [ 10.        ]\n",
      " [  0.7857922 ]]\n"
     ]
    }
   ],
   "source": [
    "A = np.random.randn(4,3)\n",
    "print(A)\n",
    "print(A[2,:])\n",
    "print(A[:2, :-1])\n",
    "print(A[0:,2])\n",
    "print(A[:,2:3])\n",
    "A[2, 2] = 10\n",
    "print(A)\n",
    "print(A[1:2,1:2].shape)\n",
    "print(A[1:2,1:].shape)\n",
    "\n",
    "A.flat[3]=4\n",
    "print(\"A\", A)\n",
    "\n",
    "print(\"A[:,:-1]\", A[:,:-1])\n",
    "print(\"A[:,-1:]\", A[:,-1:])"
   ]
  },
  {
   "cell_type": "code",
   "execution_count": 33,
   "metadata": {},
   "outputs": [
    {
     "data": {
      "text/plain": [
       "array([ 4, 17,  8,  2, 18, 12,  0, 15,  1,  7, 10,  3, 11,  5, 14,  9,  6,\n",
       "       19, 16, 13])"
      ]
     },
     "execution_count": 33,
     "metadata": {},
     "output_type": "execute_result"
    }
   ],
   "source": [
    "np.random.permutation(20)"
   ]
  },
  {
   "cell_type": "code",
   "execution_count": 34,
   "metadata": {},
   "outputs": [
    {
     "name": "stdout",
     "output_type": "stream",
     "text": [
      "0\n",
      "1\n",
      "2\n",
      "3\n",
      "4\n",
      "5\n",
      "6\n",
      "7\n",
      "8\n",
      "9\n",
      "9\n"
     ]
    }
   ],
   "source": [
    "for i in range(10):\n",
    "    print(i)\n",
    "print(i)    "
   ]
  },
  {
   "cell_type": "code",
   "execution_count": 35,
   "metadata": {},
   "outputs": [
    {
     "name": "stdout",
     "output_type": "stream",
     "text": [
      "[[-0.45433472  0.38371429 -1.34311892 -0.11534776  0.67886362]]\n",
      "(1, 2)\n",
      "(1, 2)\n"
     ]
    }
   ],
   "source": [
    "A = np.random.randn(1,5)\n",
    "print(A)\n",
    "print(A[:, 3:5].shape)\n",
    "print(A[:, 3:].shape)"
   ]
  },
  {
   "cell_type": "markdown",
   "metadata": {},
   "source": [
    "### numpy.ravel() vs numpy.flatten()"
   ]
  },
  {
   "cell_type": "markdown",
   "metadata": {},
   "source": [
    "#### 相同"
   ]
  },
  {
   "cell_type": "code",
   "execution_count": 41,
   "metadata": {},
   "outputs": [
    {
     "name": "stdout",
     "output_type": "stream",
     "text": [
      "[[1 2]\n",
      " [3 4]]\n",
      "[1 2 3 4]\n",
      "[1 2 3 4]\n",
      "[1 3 2 4]\n",
      "[1 3 2 4]\n",
      "[1 2 3 4]\n",
      "[1 3 2 4]\n",
      "(2, 2)\n"
     ]
    }
   ],
   "source": [
    "x = np.array([[1, 2], [3, 4]])\n",
    "print(x)\n",
    "print(x.flatten())\n",
    "print(x.ravel())\n",
    "\n",
    "#  两者默认均是行序优先\n",
    "print(x.flatten('F'))\n",
    "print(x.ravel('F'))\n",
    "\n",
    "print(x.reshape(-1))\n",
    "print(x.T.reshape(-1))\n",
    "print(x.shape)"
   ]
  },
  {
   "cell_type": "markdown",
   "metadata": {},
   "source": [
    "#### 区别"
   ]
  },
  {
   "cell_type": "code",
   "execution_count": 42,
   "metadata": {},
   "outputs": [
    {
     "name": "stdout",
     "output_type": "stream",
     "text": [
      "[[1 2]\n",
      " [3 4]]\n",
      "[[  1 100]\n",
      " [  3   4]]\n",
      "1 100\n",
      "-----------------------\n",
      "[[0.5]\n",
      " [1. ]\n",
      " [0.5]\n",
      " [1. ]\n",
      " [1. ]]\n",
      "-----------------------\n",
      "[[0.88148813 0.45920457 0.60319014 0.21819803 0.39798897]\n",
      " [0.82190451 0.9326201  0.09190508 0.271112   0.48453687]\n",
      " [0.96177029 0.63892388 0.9141109  0.33819249 0.59958339]]\n",
      "-----------------------\n",
      "[[0.57431529]]\n",
      "[[0.51201397]\n",
      " [0.52041571]\n",
      " [0.69051619]]\n",
      "[[0.22223528]\n",
      " [0.31870643]\n",
      " [0.2274361 ]]\n",
      "[[ 0.36947416 -0.0528094   0.09117617 -0.29381594 -0.114025  ]\n",
      " [ 0.3014888   0.41220439 -0.42851063 -0.24930372 -0.03587884]\n",
      " [ 0.2712541  -0.05159231  0.22359471 -0.3523237  -0.0909328 ]]\n",
      "[[ 1.66253607 -0.23762832  0.41026867 -1.32209408 -0.51308234]\n",
      " [ 0.94597652  1.29336701 -1.34453085 -0.78223623 -0.11257645]\n",
      " [ 1.19266067 -0.22684309  0.98311001 -1.54911068 -0.3998169 ]]\n"
     ]
    }
   ],
   "source": [
    "x = np.array([[1, 2], [3, 4]])\n",
    "x.flatten()[1] = 100     # flatten：返回的是拷贝\n",
    "print(x)\n",
    "x.ravel()[1] = 100\n",
    "print(x)\n",
    "print(x.min(), x.max())\n",
    "\n",
    "\n",
    "x = np.random.rand(3, 5)\n",
    "print(x)\n",
    "print(\"-----------------------\")\n",
    "print(np.mean(x, keepdims=True))\n",
    "print(np.mean(x, axis=1, keepdims=True))\n",
    "print(np.std(x, axis=1, keepdims=True))\n",
    "print((x - np.mean(x, axis=1, keepdims=True)))\n",
    "print((x - np.mean(x, axis=1, keepdims=True))/np.std(x, axis=1, keepdims=True))"
   ]
  },
  {
   "cell_type": "code",
   "execution_count": 169,
   "metadata": {},
   "outputs": [
    {
     "data": {
      "text/plain": [
       "array([ 0.  ,  0.05,  0.1 ,  0.15,  0.2 ,  0.25,  0.3 ,  0.35,  0.4 ,\n",
       "        0.45,  0.5 ,  0.55,  0.6 ,  0.65,  0.7 ,  0.75,  0.8 ,  0.85,\n",
       "        0.9 ,  0.95,  1.  ])"
      ]
     },
     "execution_count": 169,
     "metadata": {},
     "output_type": "execute_result"
    }
   ],
   "source": [
    "x = np.array([1])\n",
    "x\n",
    "np.arange(0,1,0.01)\n",
    "np.linspace(0, 1, num=21)"
   ]
  },
  {
   "cell_type": "markdown",
   "metadata": {},
   "source": []
  },
  {
   "cell_type": "code",
   "execution_count": 67,
   "metadata": {},
   "outputs": [
    {
     "name": "stdout",
     "output_type": "stream",
     "text": [
      "[[[ 0  1  2  3]\n",
      "  [ 4  5  6  7]\n",
      "  [ 8  9 10 11]]\n",
      "\n",
      " [[12 13 14 15]\n",
      "  [16 17 18 19]\n",
      "  [20 21 22 23]]]\n",
      "[[ 0  1  2]\n",
      " [ 3  4  5]\n",
      " [ 6  7  8]\n",
      " [ 9 10 11]\n",
      " [12 13 14]\n",
      " [15 16 17]\n",
      " [18 19 20]\n",
      " [21 22 23]]\n"
     ]
    },
    {
     "data": {
      "text/plain": [
       "array([ 6,  7,  8,  9, 10, 11, 12, 13, 14, 15, 16, 17, 18, 19, 20, 21, 22,\n",
       "       23])"
      ]
     },
     "execution_count": 67,
     "metadata": {},
     "output_type": "execute_result"
    }
   ],
   "source": [
    "x = np.arange(24).reshape((2,3,4))\n",
    "print(x)\n",
    "y = x.reshape(-1, 3)\n",
    "print(y)\n",
    "y[y>5]"
   ]
  },
  {
   "cell_type": "markdown",
   "metadata": {},
   "source": [
    "### 协方差矩阵和相关系数矩阵"
   ]
  },
  {
   "cell_type": "code",
   "execution_count": 108,
   "metadata": {},
   "outputs": [
    {
     "name": "stdout",
     "output_type": "stream",
     "text": [
      "[[0 1 2]\n",
      " [2 1 0]]\n",
      "[[ 1. -1.]\n",
      " [-1.  1.]]\n",
      "[[ 1. -1.]\n",
      " [-1.  1.]]\n",
      "[[ 1. -1.]\n",
      " [-1.  1.]]\n",
      "[[ 1. -1.]\n",
      " [-1.  1.]]\n"
     ]
    }
   ],
   "source": [
    "def my_cov(x):\n",
    "    x1 = x - np.mean(x, axis = 1, keepdims = True)\n",
    "    return np.dot(x1, x1.T)/(x.shape[1]-1)\n",
    "\n",
    "def my_corrcoef(x):\n",
    "    x1 = x - np.mean(x, axis = 1, keepdims = True)\n",
    "    x2 = np.sqrt(np.sum(np.power(x1, 2), axis = 1, keepdims = True))\n",
    "    x = x1/x2\n",
    "    return np.dot(x, x.T)\n",
    "\n",
    "x = np.array([[0, 2], [1, 1], [2, 0]]).T \n",
    "print(x)\n",
    "print(np.cov(x))\n",
    "print(my_cov(x))\n",
    "print(np.corrcoef(x))\n",
    "print(my_corrcoef(x))"
   ]
  },
  {
   "cell_type": "code",
   "execution_count": 109,
   "metadata": {},
   "outputs": [
    {
     "name": "stdout",
     "output_type": "stream",
     "text": [
      "[[-2.1  -1.    4.3 ]\n",
      " [ 3.    1.1   0.12]]\n",
      "[[ 11.71        -4.286     ]\n",
      " [ -4.286        2.14413333]]\n",
      "[[ 11.71        -4.286     ]\n",
      " [ -4.286        2.14413333]]\n",
      "[[ 11.71        -4.286     ]\n",
      " [ -4.286        2.14413333]]\n",
      "[[ 1.         -0.85535781]\n",
      " [-0.85535781  1.        ]]\n",
      "[[ 1.         -0.85535781]\n",
      " [-0.85535781  1.        ]]\n"
     ]
    }
   ],
   "source": [
    "x = [-2.1, -1,  4.3]  \n",
    "y = [3,  1.1,  0.12]  \n",
    "X = np.vstack((x,y))  \n",
    "print(X)\n",
    "print(np.cov(X))\n",
    "print(np.cov(x, y))\n",
    "print(my_cov(X))\n",
    "print(np.corrcoef(X))\n",
    "print(my_corrcoef(X))"
   ]
  },
  {
   "cell_type": "markdown",
   "metadata": {},
   "source": [
    "### np.pad \n",
    "常用语卷积神经网络中，填充边界\n",
    "\n",
    "https://docs.scipy.org/doc/numpy-1.13.0/reference/generated/numpy.pad.html"
   ]
  },
  {
   "cell_type": "code",
   "execution_count": 126,
   "metadata": {},
   "outputs": [
    {
     "name": "stdout",
     "output_type": "stream",
     "text": [
      "[[[1 1 2 2 3 4]\n",
      "  [1 1 2 2 3 4]\n",
      "  [1 1 2 2 3 4]]\n",
      "\n",
      " [[0 1 2 3 4 5]\n",
      "  [0 1 2 3 4 5]\n",
      "  [0 1 2 3 4 5]]\n",
      "\n",
      " [[1 1 2 2 3 4]\n",
      "  [1 1 2 2 3 4]\n",
      "  [1 1 2 2 3 4]]]\n",
      "constant:  \n",
      "[[[0 0 0 0 0 0 0 0 0 0]\n",
      "  [0 0 1 1 2 2 3 4 0 0]\n",
      "  [0 0 1 1 2 2 3 4 0 0]\n",
      "  [0 0 1 1 2 2 3 4 0 0]\n",
      "  [0 0 0 0 0 0 0 0 0 0]]\n",
      "\n",
      " [[0 0 0 0 0 0 0 0 0 0]\n",
      "  [0 0 0 1 2 3 4 5 0 0]\n",
      "  [0 0 0 1 2 3 4 5 0 0]\n",
      "  [0 0 0 1 2 3 4 5 0 0]\n",
      "  [0 0 0 0 0 0 0 0 0 0]]\n",
      "\n",
      " [[0 0 0 0 0 0 0 0 0 0]\n",
      "  [0 0 1 1 2 2 3 4 0 0]\n",
      "  [0 0 1 1 2 2 3 4 0 0]\n",
      "  [0 0 1 1 2 2 3 4 0 0]\n",
      "  [0 0 0 0 0 0 0 0 0 0]]]\n",
      "edge:  \n",
      "[[[1 1 1 1 2 2 3 4 4 4]\n",
      "  [1 1 1 1 2 2 3 4 4 4]\n",
      "  [1 1 1 1 2 2 3 4 4 4]\n",
      "  [1 1 1 1 2 2 3 4 4 4]\n",
      "  [1 1 1 1 2 2 3 4 4 4]]\n",
      "\n",
      " [[0 0 0 1 2 3 4 5 5 5]\n",
      "  [0 0 0 1 2 3 4 5 5 5]\n",
      "  [0 0 0 1 2 3 4 5 5 5]\n",
      "  [0 0 0 1 2 3 4 5 5 5]\n",
      "  [0 0 0 1 2 3 4 5 5 5]]\n",
      "\n",
      " [[1 1 1 1 2 2 3 4 4 4]\n",
      "  [1 1 1 1 2 2 3 4 4 4]\n",
      "  [1 1 1 1 2 2 3 4 4 4]\n",
      "  [1 1 1 1 2 2 3 4 4 4]\n",
      "  [1 1 1 1 2 2 3 4 4 4]]]\n",
      "linear_ramp:  \n",
      "[[[0 0 0 0 0 0 0 0 0 0]\n",
      "  [0 0 1 1 2 2 3 4 2 0]\n",
      "  [0 0 1 1 2 2 3 4 2 0]\n",
      "  [0 0 1 1 2 2 3 4 2 0]\n",
      "  [0 0 0 0 0 0 0 0 0 0]]\n",
      "\n",
      " [[0 0 0 0 0 0 0 0 0 0]\n",
      "  [0 0 0 1 2 3 4 5 2 0]\n",
      "  [0 0 0 1 2 3 4 5 2 0]\n",
      "  [0 0 0 1 2 3 4 5 2 0]\n",
      "  [0 0 0 0 0 0 0 0 0 0]]\n",
      "\n",
      " [[0 0 0 0 0 0 0 0 0 0]\n",
      "  [0 0 1 1 2 2 3 4 2 0]\n",
      "  [0 0 1 1 2 2 3 4 2 0]\n",
      "  [0 0 1 1 2 2 3 4 2 0]\n",
      "  [0 0 0 0 0 0 0 0 0 0]]]\n"
     ]
    }
   ],
   "source": [
    "import numpy as np\n",
    "arr3D = np.array([[[1, 1, 2, 2, 3, 4], [1, 1, 2, 2, 3, 4], [1, 1, 2, 2, 3, 4]], \n",
    "                  [[0, 1, 2, 3, 4, 5], [0, 1, 2, 3, 4, 5], [0, 1, 2, 3, 4, 5]], \n",
    "                  [[1, 1, 2, 2, 3, 4], [1, 1, 2, 2, 3, 4], [1, 1, 2, 2, 3, 4]]])\n",
    "print(arr3D)\n",
    "print('constant:  \\n' + str(np.pad(arr3D, ((0, 0), (1, 1), (2, 2)), 'constant')))\n",
    "print('edge:  \\n' + str(np.pad(arr3D, ((0, 0), (1, 1), (2, 2)), 'edge')))\n",
    "print('linear_ramp:  \\n' + str(np.pad(arr3D, ((0, 0), (1, 1), (2, 2)), 'linear_ramp')))\n",
    "  "
   ]
  },
  {
   "cell_type": "code",
   "execution_count": 127,
   "metadata": {},
   "outputs": [
    {
     "name": "stdout",
     "output_type": "stream",
     "text": [
      "maximum:  \n",
      "[[[4 4 1 1 2 2 3 4 4 4]\n",
      "  [4 4 1 1 2 2 3 4 4 4]\n",
      "  [4 4 1 1 2 2 3 4 4 4]\n",
      "  [4 4 1 1 2 2 3 4 4 4]\n",
      "  [4 4 1 1 2 2 3 4 4 4]]\n",
      "\n",
      " [[5 5 0 1 2 3 4 5 5 5]\n",
      "  [5 5 0 1 2 3 4 5 5 5]\n",
      "  [5 5 0 1 2 3 4 5 5 5]\n",
      "  [5 5 0 1 2 3 4 5 5 5]\n",
      "  [5 5 0 1 2 3 4 5 5 5]]\n",
      "\n",
      " [[4 4 1 1 2 2 3 4 4 4]\n",
      "  [4 4 1 1 2 2 3 4 4 4]\n",
      "  [4 4 1 1 2 2 3 4 4 4]\n",
      "  [4 4 1 1 2 2 3 4 4 4]\n",
      "  [4 4 1 1 2 2 3 4 4 4]]]\n",
      "mean:  \n",
      "[[[2 2 1 1 2 2 3 4 2 2]\n",
      "  [2 2 1 1 2 2 3 4 2 2]\n",
      "  [2 2 1 1 2 2 3 4 2 2]\n",
      "  [2 2 1 1 2 2 3 4 2 2]\n",
      "  [2 2 1 1 2 2 3 4 2 2]]\n",
      "\n",
      " [[2 2 0 1 2 3 4 5 2 2]\n",
      "  [2 2 0 1 2 3 4 5 2 2]\n",
      "  [2 2 0 1 2 3 4 5 2 2]\n",
      "  [2 2 0 1 2 3 4 5 2 2]\n",
      "  [2 2 0 1 2 3 4 5 2 2]]\n",
      "\n",
      " [[2 2 1 1 2 2 3 4 2 2]\n",
      "  [2 2 1 1 2 2 3 4 2 2]\n",
      "  [2 2 1 1 2 2 3 4 2 2]\n",
      "  [2 2 1 1 2 2 3 4 2 2]\n",
      "  [2 2 1 1 2 2 3 4 2 2]]]\n",
      "median:  \n",
      "[[[2 2 1 1 2 2 3 4 2 2]\n",
      "  [2 2 1 1 2 2 3 4 2 2]\n",
      "  [2 2 1 1 2 2 3 4 2 2]\n",
      "  [2 2 1 1 2 2 3 4 2 2]\n",
      "  [2 2 1 1 2 2 3 4 2 2]]\n",
      "\n",
      " [[2 2 0 1 2 3 4 5 2 2]\n",
      "  [2 2 0 1 2 3 4 5 2 2]\n",
      "  [2 2 0 1 2 3 4 5 2 2]\n",
      "  [2 2 0 1 2 3 4 5 2 2]\n",
      "  [2 2 0 1 2 3 4 5 2 2]]\n",
      "\n",
      " [[2 2 1 1 2 2 3 4 2 2]\n",
      "  [2 2 1 1 2 2 3 4 2 2]\n",
      "  [2 2 1 1 2 2 3 4 2 2]\n",
      "  [2 2 1 1 2 2 3 4 2 2]\n",
      "  [2 2 1 1 2 2 3 4 2 2]]]\n",
      "minimum:  \n",
      "[[[1 1 1 1 2 2 3 4 1 1]\n",
      "  [1 1 1 1 2 2 3 4 1 1]\n",
      "  [1 1 1 1 2 2 3 4 1 1]\n",
      "  [1 1 1 1 2 2 3 4 1 1]\n",
      "  [1 1 1 1 2 2 3 4 1 1]]\n",
      "\n",
      " [[0 0 0 1 2 3 4 5 0 0]\n",
      "  [0 0 0 1 2 3 4 5 0 0]\n",
      "  [0 0 0 1 2 3 4 5 0 0]\n",
      "  [0 0 0 1 2 3 4 5 0 0]\n",
      "  [0 0 0 1 2 3 4 5 0 0]]\n",
      "\n",
      " [[1 1 1 1 2 2 3 4 1 1]\n",
      "  [1 1 1 1 2 2 3 4 1 1]\n",
      "  [1 1 1 1 2 2 3 4 1 1]\n",
      "  [1 1 1 1 2 2 3 4 1 1]\n",
      "  [1 1 1 1 2 2 3 4 1 1]]]\n"
     ]
    }
   ],
   "source": [
    "print('maximum:  \\n' + str(np.pad(arr3D, ((0, 0), (1, 1), (2, 2)), 'maximum')))\n",
    "print('mean:  \\n' + str(np.pad(arr3D, ((0, 0), (1, 1), (2, 2)), 'mean')))\n",
    "print('median:  \\n' + str(np.pad(arr3D, ((0, 0), (1, 1), (2, 2)), 'median')))\n",
    "print('minimum:  \\n' + str(np.pad(arr3D, ((0, 0), (1, 1), (2, 2)), 'minimum')))\n"
   ]
  },
  {
   "cell_type": "code",
   "execution_count": null,
   "metadata": {
    "collapsed": true
   },
   "outputs": [],
   "source": [
    "print('reflect:  \\n' + str(np.pad(arr3D, ((0, 0), (1, 1), (2, 2)), 'reflect')))\n",
    "print('symmetric:  \\n' + str(np.pad(arr3D, ((0, 0), (1, 1), (2, 2)), 'symmetric')))\n",
    "print('wrap:  \\n' + str(np.pad(arr3D, ((0, 0), (1, 1), (2, 2)), 'wrap')))  "
   ]
  },
  {
   "cell_type": "code",
   "execution_count": 128,
   "metadata": {},
   "outputs": [
    {
     "data": {
      "text/plain": [
       "1.0"
      ]
     },
     "execution_count": 128,
     "metadata": {},
     "output_type": "execute_result"
    }
   ],
   "source": [
    "np.floor(1.1)"
   ]
  },
  {
   "cell_type": "markdown",
   "metadata": {},
   "source": [
    "### ‘翻转’180， 先左右翻转，然后上下翻转"
   ]
  },
  {
   "cell_type": "code",
   "execution_count": 138,
   "metadata": {},
   "outputs": [
    {
     "name": "stdout",
     "output_type": "stream",
     "text": [
      "[[ 0  1  2  3  4]\n",
      " [ 5  6  7  8  9]\n",
      " [10 11 12 13 14]\n",
      " [15 16 17 18 19]\n",
      " [20 21 22 23 24]]\n",
      "---------------------------------------------------\n",
      "[[20 21 22 23 24]\n",
      " [15 16 17 18 19]\n",
      " [10 11 12 13 14]\n",
      " [ 5  6  7  8  9]\n",
      " [ 0  1  2  3  4]]\n",
      "---------------------------------------------------\n",
      "[[ 4  9 14 19 24]\n",
      " [ 3  8 13 18 23]\n",
      " [ 2  7 12 17 22]\n",
      " [ 1  6 11 16 21]\n",
      " [ 0  5 10 15 20]]\n",
      "---------------------------------------------------\n",
      "[[24 19 14  9  4]\n",
      " [23 18 13  8  3]\n",
      " [22 17 12  7  2]\n",
      " [21 16 11  6  1]\n",
      " [20 15 10  5  0]]\n"
     ]
    }
   ],
   "source": [
    "import numpy as np\n",
    "a = np.arange(25).reshape((5, 5))\n",
    "print(a)\n",
    "print(\"---------------------------------------------------\")\n",
    "print(a[::-1])    #左右翻转\n",
    "print(\"---------------------------------------------------\")\n",
    "print(a.T[::-1])   #上下翻转\n",
    "print(\"---------------------------------------------------\")\n",
    "print(a[::-1].T[::-1])   #左右翻转后上下翻转\n"
   ]
  },
  {
   "cell_type": "code",
   "execution_count": 162,
   "metadata": {},
   "outputs": [
    {
     "data": {
      "text/plain": [
       "0.7272729256197896"
      ]
     },
     "execution_count": 162,
     "metadata": {},
     "output_type": "execute_result"
    }
   ],
   "source": [
    " 2*0.8*0.666667 /(0.8+0.666667)"
   ]
  },
  {
   "cell_type": "markdown",
   "metadata": {},
   "source": [
    "### 加载文件"
   ]
  },
  {
   "cell_type": "code",
   "execution_count": 12,
   "metadata": {},
   "outputs": [
    {
     "name": "stdout",
     "output_type": "stream",
     "text": [
      "(200, 2)\n"
     ]
    },
    {
     "data": {
      "text/plain": [
       "array([[ 0.067732,  3.176513],\n",
       "       [ 0.42781 ,  3.816464],\n",
       "       [ 0.995731,  4.550095],\n",
       "       [ 0.738336,  4.256571],\n",
       "       [ 0.981083,  4.560815],\n",
       "       [ 0.526171,  3.929515],\n",
       "       [ 0.378887,  3.52617 ],\n",
       "       [ 0.033859,  3.156393],\n",
       "       [ 0.132791,  3.110301],\n",
       "       [ 0.138306,  3.149813],\n",
       "       [ 0.247809,  3.476346],\n",
       "       [ 0.64827 ,  4.119688],\n",
       "       [ 0.731209,  4.282233],\n",
       "       [ 0.236833,  3.486582],\n",
       "       [ 0.969788,  4.655492],\n",
       "       [ 0.607492,  3.965162],\n",
       "       [ 0.358622,  3.5149  ],\n",
       "       [ 0.147846,  3.125947],\n",
       "       [ 0.63782 ,  4.094115],\n",
       "       [ 0.230372,  3.476039],\n",
       "       [ 0.070237,  3.21061 ],\n",
       "       [ 0.067154,  3.190612],\n",
       "       [ 0.925577,  4.631504],\n",
       "       [ 0.717733,  4.29589 ],\n",
       "       [ 0.015371,  3.085028],\n",
       "       [ 0.33507 ,  3.44808 ],\n",
       "       [ 0.040486,  3.16744 ],\n",
       "       [ 0.212575,  3.364266],\n",
       "       [ 0.617218,  3.993482],\n",
       "       [ 0.541196,  3.891471],\n",
       "       [ 0.045353,  3.143259],\n",
       "       [ 0.126762,  3.114204],\n",
       "       [ 0.556486,  3.851484],\n",
       "       [ 0.901144,  4.621899],\n",
       "       [ 0.958476,  4.580768],\n",
       "       [ 0.274561,  3.620992],\n",
       "       [ 0.394396,  3.580501],\n",
       "       [ 0.87248 ,  4.618706],\n",
       "       [ 0.409932,  3.676867],\n",
       "       [ 0.908969,  4.641845],\n",
       "       [ 0.166819,  3.175939],\n",
       "       [ 0.665016,  4.26498 ],\n",
       "       [ 0.263727,  3.558448],\n",
       "       [ 0.231214,  3.436632],\n",
       "       [ 0.552928,  3.831052],\n",
       "       [ 0.047744,  3.182853],\n",
       "       [ 0.365746,  3.498906],\n",
       "       [ 0.495002,  3.946833],\n",
       "       [ 0.493466,  3.900583],\n",
       "       [ 0.792101,  4.238522],\n",
       "       [ 0.76966 ,  4.23308 ],\n",
       "       [ 0.251821,  3.521557],\n",
       "       [ 0.181951,  3.203344],\n",
       "       [ 0.808177,  4.278105],\n",
       "       [ 0.334116,  3.555705],\n",
       "       [ 0.33863 ,  3.502661],\n",
       "       [ 0.452584,  3.859776],\n",
       "       [ 0.69477 ,  4.275956],\n",
       "       [ 0.590902,  3.916191],\n",
       "       [ 0.307928,  3.587961],\n",
       "       [ 0.148364,  3.183004],\n",
       "       [ 0.70218 ,  4.225236],\n",
       "       [ 0.721544,  4.231083],\n",
       "       [ 0.666886,  4.240544],\n",
       "       [ 0.124931,  3.222372],\n",
       "       [ 0.618286,  4.021445],\n",
       "       [ 0.381086,  3.567479],\n",
       "       [ 0.385643,  3.56258 ],\n",
       "       [ 0.777175,  4.262059],\n",
       "       [ 0.116089,  3.208813],\n",
       "       [ 0.115487,  3.169825],\n",
       "       [ 0.66351 ,  4.193949],\n",
       "       [ 0.254884,  3.491678],\n",
       "       [ 0.993888,  4.533306],\n",
       "       [ 0.295434,  3.550108],\n",
       "       [ 0.952523,  4.636427],\n",
       "       [ 0.307047,  3.557078],\n",
       "       [ 0.277261,  3.552874],\n",
       "       [ 0.279101,  3.494159],\n",
       "       [ 0.175724,  3.206828],\n",
       "       [ 0.156383,  3.195266],\n",
       "       [ 0.733165,  4.221292],\n",
       "       [ 0.848142,  4.413372],\n",
       "       [ 0.771184,  4.184347],\n",
       "       [ 0.429492,  3.742878],\n",
       "       [ 0.162176,  3.201878],\n",
       "       [ 0.917064,  4.648964],\n",
       "       [ 0.315044,  3.510117],\n",
       "       [ 0.201473,  3.274434],\n",
       "       [ 0.297038,  3.579622],\n",
       "       [ 0.336647,  3.489244],\n",
       "       [ 0.666109,  4.237386],\n",
       "       [ 0.583888,  3.913749],\n",
       "       [ 0.085031,  3.22899 ],\n",
       "       [ 0.687006,  4.286286],\n",
       "       [ 0.949655,  4.628614],\n",
       "       [ 0.189912,  3.239536],\n",
       "       [ 0.844027,  4.457997],\n",
       "       [ 0.333288,  3.513384],\n",
       "       [ 0.427035,  3.729674],\n",
       "       [ 0.466369,  3.834274],\n",
       "       [ 0.550659,  3.811155],\n",
       "       [ 0.278213,  3.598316],\n",
       "       [ 0.918769,  4.692514],\n",
       "       [ 0.886555,  4.604859],\n",
       "       [ 0.569488,  3.864912],\n",
       "       [ 0.066379,  3.184236],\n",
       "       [ 0.335751,  3.500796],\n",
       "       [ 0.426863,  3.743365],\n",
       "       [ 0.395746,  3.622905],\n",
       "       [ 0.694221,  4.310796],\n",
       "       [ 0.27276 ,  3.583357],\n",
       "       [ 0.503495,  3.901852],\n",
       "       [ 0.067119,  3.233521],\n",
       "       [ 0.038326,  3.105266],\n",
       "       [ 0.599122,  3.865544],\n",
       "       [ 0.947054,  4.628625],\n",
       "       [ 0.671279,  4.231213],\n",
       "       [ 0.434811,  3.791149],\n",
       "       [ 0.509381,  3.968271],\n",
       "       [ 0.749442,  4.25391 ],\n",
       "       [ 0.058014,  3.19471 ],\n",
       "       [ 0.482978,  3.996503],\n",
       "       [ 0.466776,  3.904358],\n",
       "       [ 0.357767,  3.503976],\n",
       "       [ 0.949123,  4.557545],\n",
       "       [ 0.41732 ,  3.699876],\n",
       "       [ 0.920461,  4.613614],\n",
       "       [ 0.156433,  3.140401],\n",
       "       [ 0.656662,  4.206717],\n",
       "       [ 0.616418,  3.969524],\n",
       "       [ 0.853428,  4.476096],\n",
       "       [ 0.133295,  3.136528],\n",
       "       [ 0.693007,  4.279071],\n",
       "       [ 0.178449,  3.200603],\n",
       "       [ 0.199526,  3.299012],\n",
       "       [ 0.073224,  3.209873],\n",
       "       [ 0.286515,  3.632942],\n",
       "       [ 0.182026,  3.248361],\n",
       "       [ 0.621523,  3.995783],\n",
       "       [ 0.344584,  3.563262],\n",
       "       [ 0.398556,  3.649712],\n",
       "       [ 0.480369,  3.951845],\n",
       "       [ 0.15335 ,  3.145031],\n",
       "       [ 0.171846,  3.181577],\n",
       "       [ 0.867082,  4.637087],\n",
       "       [ 0.223855,  3.404964],\n",
       "       [ 0.528301,  3.873188],\n",
       "       [ 0.890192,  4.633648],\n",
       "       [ 0.106352,  3.154768],\n",
       "       [ 0.917886,  4.623637],\n",
       "       [ 0.014855,  3.078132],\n",
       "       [ 0.567682,  3.913596],\n",
       "       [ 0.068854,  3.221817],\n",
       "       [ 0.603535,  3.938071],\n",
       "       [ 0.53205 ,  3.880822],\n",
       "       [ 0.651362,  4.176436],\n",
       "       [ 0.901225,  4.648161],\n",
       "       [ 0.204337,  3.332312],\n",
       "       [ 0.696081,  4.240614],\n",
       "       [ 0.963924,  4.532224],\n",
       "       [ 0.98139 ,  4.557105],\n",
       "       [ 0.987911,  4.610072],\n",
       "       [ 0.990947,  4.636569],\n",
       "       [ 0.736021,  4.229813],\n",
       "       [ 0.253574,  3.50086 ],\n",
       "       [ 0.674722,  4.245514],\n",
       "       [ 0.939368,  4.605182],\n",
       "       [ 0.235419,  3.45434 ],\n",
       "       [ 0.110521,  3.180775],\n",
       "       [ 0.218023,  3.38082 ],\n",
       "       [ 0.869778,  4.56502 ],\n",
       "       [ 0.19683 ,  3.279973],\n",
       "       [ 0.958178,  4.554241],\n",
       "       [ 0.972673,  4.63352 ],\n",
       "       [ 0.745797,  4.281037],\n",
       "       [ 0.445674,  3.844426],\n",
       "       [ 0.470557,  3.891601],\n",
       "       [ 0.549236,  3.849728],\n",
       "       [ 0.335691,  3.492215],\n",
       "       [ 0.884739,  4.592374],\n",
       "       [ 0.918916,  4.632025],\n",
       "       [ 0.441815,  3.75675 ],\n",
       "       [ 0.116598,  3.133555],\n",
       "       [ 0.359274,  3.567919],\n",
       "       [ 0.814811,  4.363382],\n",
       "       [ 0.387125,  3.560165],\n",
       "       [ 0.982243,  4.564305],\n",
       "       [ 0.78088 ,  4.215055],\n",
       "       [ 0.652565,  4.174999],\n",
       "       [ 0.87003 ,  4.58664 ],\n",
       "       [ 0.604755,  3.960008],\n",
       "       [ 0.255212,  3.529963],\n",
       "       [ 0.730546,  4.213412],\n",
       "       [ 0.493829,  3.908685],\n",
       "       [ 0.257017,  3.585821],\n",
       "       [ 0.833735,  4.374394],\n",
       "       [ 0.070095,  3.213817],\n",
       "       [ 0.52707 ,  3.952681],\n",
       "       [ 0.116163,  3.129283]])"
      ]
     },
     "execution_count": 12,
     "metadata": {},
     "output_type": "execute_result"
    }
   ],
   "source": [
    "import numpy as np\n",
    "data = np.loadtxt(\"./data/sin_line.txt\", delimiter=\"\\t\")\n",
    "print(data.shape)\n",
    "data"
   ]
  },
  {
   "cell_type": "markdown",
   "metadata": {},
   "source": [
    "### 张量(tensor) broadcasting"
   ]
  },
  {
   "cell_type": "code",
   "execution_count": 23,
   "metadata": {},
   "outputs": [
    {
     "name": "stdout",
     "output_type": "stream",
     "text": [
      "(2, 2, 3, 1) (2, 2, 3, 4) (2, 2, 3, 4)\n",
      "[[[[-0.1204414 ]\n",
      "   [ 0.05477318]\n",
      "   [ 1.55013489]]\n",
      "\n",
      "  [[ 1.65185281]\n",
      "   [ 0.86930207]\n",
      "   [-0.37684728]]]\n",
      "\n",
      "\n",
      " [[[ 1.21888968]\n",
      "   [ 1.35501029]\n",
      "   [-1.49031411]]\n",
      "\n",
      "  [[-0.92154106]\n",
      "   [ 0.71248538]\n",
      "   [ 1.86770353]]]]\n",
      "[[[[-2.0531236  -0.6910499  -0.94944975  0.90386899]\n",
      "   [-0.83826804  0.72562675  0.22247822 -0.55030069]\n",
      "   [-1.36358515 -0.08862487  0.38823841  0.25681631]]\n",
      "\n",
      "  [[-3.2108792   0.9353094  -0.71008985 -1.58287425]\n",
      "   [-0.5065701   2.33938561  0.68468899 -0.91488986]\n",
      "   [-1.29845777 -0.77506561  0.0786534  -1.14892817]]]\n",
      "\n",
      "\n",
      " [[[-0.9593349  -0.35185835 -0.51313543 -1.25194292]\n",
      "   [ 0.53740241 -1.55213255  0.13814627 -0.70471397]\n",
      "   [-0.13741889  0.15619856 -1.332687   -0.95535398]]\n",
      "\n",
      "  [[-2.80885418 -0.64668042  1.1388053   0.34641153]\n",
      "   [ 0.10714146 -0.69329845  0.53316471 -0.78036284]\n",
      "   [ 0.78489394 -1.3286155  -0.31824311  2.56722342]]]]\n",
      "------------------------------------------------------------------------\n",
      "[[[[ 0.24728108  0.08323102  0.11435306 -0.10886325]\n",
      "   [-0.0459146   0.03974488  0.01218584 -0.03014172]\n",
      "   [-2.11374092 -0.1373805   0.6018219   0.39809992]]\n",
      "\n",
      "  [[-5.30389985  1.54499346 -1.17296392 -2.61467529]\n",
      "   [-0.44036244  2.03363275  0.59520156 -0.79531565]\n",
      "   [ 0.48932027  0.29208136 -0.02964032  0.43297045]]]\n",
      "\n",
      "\n",
      " [[[-1.16932341 -0.42887651 -0.62545548 -1.52598031]\n",
      "   [ 0.7281858  -2.10315557  0.18718961 -0.95489468]\n",
      "   [ 0.20479731 -0.23278492  1.98612225  1.42377752]]\n",
      "\n",
      "  [[ 2.58847447  0.59594256 -1.04945585 -0.31923245]\n",
      "   [ 0.07633673 -0.49396501  0.37987206 -0.55599711]\n",
      "   [ 1.46594919 -2.48145986 -0.59438378  4.79481224]]]]\n",
      "------------------------------------------------------------------------\n",
      "(2, 2, 3)\n",
      "[[[0 1 2]\n",
      "  [1 1 0]]\n",
      "\n",
      " [[1 0 2]\n",
      "  [0 2 3]]]\n",
      "[[[ 0.24728108  0.03974488  0.6018219 ]\n",
      "  [ 1.54499346  2.03363275  0.48932027]]\n",
      "\n",
      " [[-0.42887651  0.7281858   1.98612225]\n",
      "  [ 2.58847447  0.37987206  4.79481224]]]\n"
     ]
    }
   ],
   "source": [
    "a = np.random.randn(2, 2, 3, 1)\n",
    "b = np.random.randn(2, 2, 3, 4)\n",
    "c = a * b # shape of c will be (19*19, 5, 80\n",
    "print(a.shape, b.shape, c.shape)\n",
    "print(a)\n",
    "print(b)\n",
    "print(\"------------------------------------------------------------------------\")\n",
    "print(c)\n",
    "print(\"------------------------------------------------------------------------\")\n",
    "print(np.argmax(c, axis=-1).shape)\n",
    "print(np.argmax(c, axis=-1))\n",
    "print(np.max(c, axis=-1))"
   ]
  },
  {
   "cell_type": "code",
   "execution_count": null,
   "metadata": {
    "collapsed": true,
    "scrolled": true
   },
   "outputs": [],
   "source": []
  },
  {
   "cell_type": "code",
   "execution_count": null,
   "metadata": {
    "collapsed": true
   },
   "outputs": [],
   "source": []
  }
 ],
 "metadata": {
  "kernelspec": {
   "display_name": "Python 3",
   "language": "python",
   "name": "python3"
  },
  "language_info": {
   "codemirror_mode": {
    "name": "ipython",
    "version": 3
   },
   "file_extension": ".py",
   "mimetype": "text/x-python",
   "name": "python",
   "nbconvert_exporter": "python",
   "pygments_lexer": "ipython3",
   "version": "3.5.2"
  }
 },
 "nbformat": 4,
 "nbformat_minor": 1
}
