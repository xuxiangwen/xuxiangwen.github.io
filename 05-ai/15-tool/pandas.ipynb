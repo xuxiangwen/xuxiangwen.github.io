{
 "cells": [
  {
   "cell_type": "code",
   "execution_count": 3,
   "metadata": {},
   "outputs": [
    {
     "name": "stdout",
     "output_type": "stream",
     "text": [
      "0.23.4\n"
     ]
    }
   ],
   "source": [
    "import pandas as pd\n",
    "import numpy as np\n",
    "\n",
    "print(pd.__version__)\n",
    "pd.set_option('display.width', 120)"
   ]
  },
  {
   "cell_type": "code",
   "execution_count": 4,
   "metadata": {},
   "outputs": [
    {
     "data": {
      "text/plain": [
       "{'a': 1, 'b': 2}"
      ]
     },
     "execution_count": 4,
     "metadata": {},
     "output_type": "execute_result"
    }
   ],
   "source": [
    "a = {'a':1, 'b': 2}\n",
    "a"
   ]
  },
  {
   "cell_type": "code",
   "execution_count": 5,
   "metadata": {},
   "outputs": [
    {
     "name": "stdout",
     "output_type": "stream",
     "text": [
      "   A  B  C\n",
      "1  1  2  3\n",
      "2  4  5  6\n",
      "<class 'pandas.core.frame.DataFrame'>\n",
      "Int64Index: 2 entries, 1 to 2\n",
      "Data columns (total 3 columns):\n",
      "A    2 non-null int64\n",
      "B    2 non-null int64\n",
      "C    2 non-null int64\n",
      "dtypes: int64(3)\n",
      "memory usage: 64.0 bytes\n",
      "None\n",
      "--------------------------------------------------\n",
      "A    5\n",
      "B    7\n",
      "C    9\n",
      "dtype: int64\n",
      "--------------------------------------------------\n",
      "<class 'pandas.core.frame.DataFrame'>\n",
      "Int64Index: 2 entries, 1 to 2\n",
      "Data columns (total 3 columns):\n",
      "A    2 non-null int64\n",
      "B    2 non-null int64\n",
      "C    0 non-null float64\n",
      "dtypes: float64(1), int64(2)\n",
      "memory usage: 64.0 bytes\n",
      "None\n",
      "   A  B   C\n",
      "1  1  2 NaN\n",
      "2  4  5 NaN\n",
      "--------------------------------------------------\n",
      "A    5.0\n",
      "B    7.0\n",
      "C    0.0\n",
      "dtype: float64\n",
      "0.0\n"
     ]
    }
   ],
   "source": [
    "df = pd.DataFrame([[1, 2, 3], [4, 5, 6]], index=[1, 2], columns=['A', 'B', 'C'])\n",
    "print(df)\n",
    "print(df.info())\n",
    "print('-'*50)\n",
    "print(df.sum())\n",
    "print('-'*50)\n",
    "df['C'] = np.NaN\n",
    "print(df.info())\n",
    "print(df)\n",
    "print('-'*50)\n",
    "print(df.sum())\n",
    "print(df.sum()[2])"
   ]
  },
  {
   "cell_type": "code",
   "execution_count": 4,
   "metadata": {},
   "outputs": [
    {
     "data": {
      "text/html": [
       "<div>\n",
       "<style scoped>\n",
       "    .dataframe tbody tr th:only-of-type {\n",
       "        vertical-align: middle;\n",
       "    }\n",
       "\n",
       "    .dataframe tbody tr th {\n",
       "        vertical-align: top;\n",
       "    }\n",
       "\n",
       "    .dataframe thead th {\n",
       "        text-align: right;\n",
       "    }\n",
       "</style>\n",
       "<table border=\"1\" class=\"dataframe\">\n",
       "  <thead>\n",
       "    <tr style=\"text-align: right;\">\n",
       "      <th></th>\n",
       "      <th>A</th>\n",
       "      <th>B</th>\n",
       "      <th>C</th>\n",
       "    </tr>\n",
       "  </thead>\n",
       "  <tbody>\n",
       "    <tr>\n",
       "      <th>1</th>\n",
       "      <td>1</td>\n",
       "      <td>2</td>\n",
       "      <td>NaN</td>\n",
       "    </tr>\n",
       "    <tr>\n",
       "      <th>2</th>\n",
       "      <td>4</td>\n",
       "      <td>5</td>\n",
       "      <td>NaN</td>\n",
       "    </tr>\n",
       "  </tbody>\n",
       "</table>\n",
       "</div>"
      ],
      "text/plain": [
       "   A  B   C\n",
       "1  1  2 NaN\n",
       "2  4  5 NaN"
      ]
     },
     "execution_count": 4,
     "metadata": {},
     "output_type": "execute_result"
    }
   ],
   "source": [
    "df[['A', 'B', 'C']]"
   ]
  },
  {
   "cell_type": "markdown",
   "metadata": {},
   "source": [
    "### 2.8 标签数字化factorize【2018-11-20】\n",
    "factorize函数可以将Series中的标称型数据映射称为一组数字，相同的标称型映射为相同的数字。factorize函数的返回值是一个tuple（元组），元组中包含两个元素。第一个元素是一个array，其中的元素是标称型元素映射为的数字；第二个元素是Index类型，其中的元素是所有标称型元素，没有重复。"
   ]
  },
  {
   "cell_type": "code",
   "execution_count": 8,
   "metadata": {},
   "outputs": [
    {
     "name": "stdout",
     "output_type": "stream",
     "text": [
      "   id raw_grade\n",
      "0   1         a\n",
      "1   2         b\n",
      "2   3         b\n",
      "3   4         a\n",
      "4   5         a\n",
      "5   6         e\n",
      "6   3         c\n",
      "7   2         a\n",
      "   id raw_grade raw_grade1\n",
      "0   1         a        \"a\"\n",
      "1   2         b        \"b\"\n",
      "2   3         b        \"b\"\n",
      "3   4         a        \"a\"\n",
      "4   5         a        \"a\"\n",
      "5   6         e        \"e\"\n",
      "6   3         c        \"c\"\n",
      "7   2         a        \"a\"\n",
      "(array([0, 1, 1, 0, 0, 2, 3, 0]), Index(['a', 'b', 'e', 'c'], dtype='object'))\n",
      "Index(['a', 'b', 'e', 'c'], dtype='object')\n",
      "[0 1 1 0 0 2 3 0]\n",
      "<class 'tuple'>\n"
     ]
    }
   ],
   "source": [
    "import numpy as np\n",
    "import pandas as pd\n",
    "df = pd.DataFrame({\"id\":[1,2,3,4,5,6,3,2], \"raw_grade\":['a', 'b', 'b', 'a', 'a', 'e','c','a']})\n",
    "\n",
    "print(df)\n",
    "df['raw_grade1'] = \"\\\"\" + df['raw_grade'] +\"\\\"\"\n",
    "print(df)\n",
    "\n",
    "\n",
    "x = pd.factorize(df.raw_grade)\n",
    "\n",
    "print(x)\n",
    "\n",
    "# array中的元素其实是df.raw_grade的对应位置元素在Index中的下标。\n",
    "# 例如array第一个元素是0，表示df.raw_grade的第一个元素为Index的第0个元素。\n",
    "\n",
    "print(x[1])\n",
    "print(x[0])\n",
    "print(type(x))"
   ]
  },
  {
   "cell_type": "markdown",
   "metadata": {},
   "source": [
    "### 2.7 计算列不同值的组合次数\n",
    "\n",
    "这个功能主要用户判断数据中，是否是规则产生的。详见[EDA_video2](http://aa00:18888/notebooks/eipi10/python-book/arsenal/notebook/course/competitive-data-science/week2/EDA_video2.ipynb#Test)。"
   ]
  },
  {
   "cell_type": "code",
   "execution_count": null,
   "metadata": {
    "collapsed": true
   },
   "outputs": [],
   "source": [
    "import itertools\n",
    "\n",
    "df = pd.DataFrame({'A' : ['foo', 'bar', 'foo', 'bar',\n",
    "                            'foo', 'bar', 'foo', 'foo'],\n",
    "                   'B' : ['one', 'one', 'two', 'three',\n",
    "                           'two', 'two', 'one', 'three'],\n",
    "                   'C' : np.random.randn(8),\n",
    "                   'D' : np.random.randn(8)})\n",
    "\n",
    "print(df)\n",
    "\n",
    "print(df.nunique())\n",
    "print(df.nunique().values)\n",
    "\n",
    "df_nunique = df.nunique()\n",
    "\n",
    "# This function looks for a combination of elements \n",
    "# with product of 639360 \n",
    "def find_prod(df_nunique):\n",
    "    data = df_nunique.values\n",
    "    # combinations of not more than 5 features\n",
    "    for n in range(1, 5):\n",
    "        # iterate through all combinations\n",
    "        print(\"-\"*50)\n",
    "        for c in itertools.combinations(range(len(data)), n):\n",
    "            print(c)\n",
    "            print(data[list(c)].prod() )\n",
    "            if data[list(c)].prod() == 639360:\n",
    "                print(df_nunique.index[c])\n",
    "                return\n",
    "    print('Nothing found')\n",
    "\n",
    "    \n",
    "find_prod(df_nunique)"
   ]
  },
  {
   "cell_type": "markdown",
   "metadata": {},
   "source": [
    "### 2.6 增删改查"
   ]
  },
  {
   "cell_type": "code",
   "execution_count": 3,
   "metadata": {},
   "outputs": [
    {
     "name": "stdout",
     "output_type": "stream",
     "text": [
      "        one       two     three four   five  timestamp\n",
      "a  2.111403 -0.941788 -1.801720  bar   True 2012-01-01\n",
      "b  1.290057  0.734102 -0.316261  bar   True 2012-01-01\n",
      "c -1.187267  1.747081 -0.637003  bar  False 2012-01-01\n",
      "e  0.648783  1.671994  1.063604  bar   True 2012-01-01\n",
      "f  1.568361  0.710185 -0.143269  bar   True 2012-01-01\n",
      "h  1.017379 -0.105334 -0.591184  bar   True 2012-01-01\n",
      "<class 'pandas.core.frame.DataFrame'>\n",
      "Index: 6 entries, a to h\n",
      "Data columns (total 6 columns):\n",
      "one          6 non-null float64\n",
      "two          6 non-null float64\n",
      "three        6 non-null float64\n",
      "four         6 non-null object\n",
      "five         6 non-null bool\n",
      "timestamp    6 non-null datetime64[ns]\n",
      "dtypes: bool(1), datetime64[ns](1), float64(3), object(1)\n",
      "memory usage: 294.0+ bytes\n",
      "None\n",
      "--------------------------------------------------增加--------------------------------------------------\n",
      "           one       two     three four      five  timestamp\n",
      "a     2.111403 -0.941788  -1.80172  bar  1.000000 2012-01-01\n",
      "b     1.290057  0.734102 -0.316261  bar  1.000000 2012-01-01\n",
      "c    -1.187267  1.747081 -0.637003  bar  0.000000 2012-01-01\n",
      "e     0.648783  1.671994    1.0636  bar  1.000000 2012-01-01\n",
      "f     1.568361  0.710185 -0.143269  bar  1.000000 2012-01-01\n",
      "h     1.017379 -0.105334 -0.591184  bar  1.000000 2012-01-01\n",
      "mean  0.908119  0.636040                 0.833333        NaT\n",
      "           one       two     three four      five  timestamp  one_delta\n",
      "a     2.111403 -0.941788  -1.80172  bar  1.000000 2012-01-01   0.000000\n",
      "b     1.290057  0.734102 -0.316261  bar  1.000000 2012-01-01   0.821346\n",
      "c    -1.187267  1.747081 -0.637003  bar  0.000000 2012-01-01   3.298670\n",
      "e     0.648783  1.671994    1.0636  bar  1.000000 2012-01-01   1.462620\n",
      "f     1.568361  0.710185 -0.143269  bar  1.000000 2012-01-01   0.543042\n",
      "h     1.017379 -0.105334 -0.591184  bar  1.000000 2012-01-01   1.094024\n",
      "mean  0.908119  0.636040                 0.833333        NaT   1.203284\n",
      "--------------------------------------------------删除--------------------------------------------------\n",
      "        one       two     three four  five  timestamp  one_delta\n",
      "c -1.187267  1.747081 -0.637003  bar   0.0 2012-01-01   3.298670\n",
      "e  0.648783  1.671994    1.0636  bar   1.0 2012-01-01   1.462620\n",
      "f  1.568361  0.710185 -0.143269  bar   1.0 2012-01-01   0.543042\n",
      "h  1.017379 -0.105334 -0.591184  bar   1.0 2012-01-01   1.094024\n",
      "        one       two     three four  five  timestamp\n",
      "c -1.187267  1.747081 -0.637003  bar   0.0 2012-01-01\n",
      "e  0.648783  1.671994    1.0636  bar   1.0 2012-01-01\n",
      "f  1.568361  0.710185 -0.143269  bar   1.0 2012-01-01\n",
      "h  1.017379 -0.105334 -0.591184  bar   1.0 2012-01-01\n",
      "--------------------------------------------------修改--------------------------------------------------\n",
      "   one       two     three four  five  timestamp\n",
      "c   -1  1.747081 -0.637003  bar   0.0 2012-01-01\n",
      "e    1  1.671994  1.063604  bar   1.0 2012-01-01\n",
      "f    2  0.710185 -0.143269  bar   1.0 2012-01-01\n",
      "h    1 -0.105334 -0.591184  bar   1.0 2012-01-01\n",
      "--------------------------------------------------查询--------------------------------------------------\n",
      "   one       two     three four  five  timestamp\n",
      "c   -1  1.747081 -0.637003  bar   0.0 2012-01-01\n",
      "e    1  1.671994  1.063604  bar   1.0 2012-01-01\n",
      "f    2  0.710185 -0.143269  bar   1.0 2012-01-01\n",
      "Empty DataFrame\n",
      "Columns: [one, two, three, four, five, timestamp]\n",
      "Index: []\n",
      "--------------------------------------------------查询--------------------------------------------------\n",
      "Empty DataFrame\n",
      "Columns: [one, two, three, four, five, timestamp]\n",
      "Index: []\n",
      "one                 3\n",
      "two           4.02393\n",
      "three       -0.307852\n",
      "four     barbarbarbar\n",
      "five                3\n",
      "dtype: object\n"
     ]
    }
   ],
   "source": [
    "import pandas as pd\n",
    "import numpy as np\n",
    "\n",
    "df = pd.DataFrame(np.random.randn(6, 3), index=['a', 'b', 'c', 'e', 'f', 'h'],\n",
    "                  columns=['one', 'two', 'three'])\n",
    "\n",
    "df['four'] = 'bar'\n",
    "df['five'] = df['one'] > 0\n",
    "df['timestamp'] = pd.Timestamp('20120101')\n",
    "print(df)\n",
    "print(df.info())\n",
    "\n",
    "print('-'*50 + '增加' + '-'*50)\n",
    "# pandas在修改值的时候，要避免copy动作产生，目前看采用loc是非常不错的。\n",
    "df.loc['mean'] = df.mean() #增加行\n",
    "df.loc['mean', ['four','three']]=' '  \n",
    "print(df)\n",
    "\n",
    "df['one_delta'] = df['one'].max() - df['one']   #增加列\n",
    "print(df)\n",
    "\n",
    "\n",
    "print('-'*50 + '删除' + '-'*50)\n",
    "df.drop(['a','b'], inplace=True)  #删除行\n",
    "df.drop(['mean'], inplace=True)  #删除最后一行\n",
    "print(df)\n",
    "df.drop(['one_delta'], axis=1, inplace=True)  #删除列\n",
    "print(df)\n",
    "\n",
    "\n",
    "print('-'*50 + '修改' + '-'*50)\n",
    "df.fillna(df.mean(), inplace=True)\n",
    "df[\"one\"] = df[\"one\"].apply(lambda item: round(item))\n",
    "print(df)\n",
    "\n",
    "\n",
    "print('-'*50 + '查询' + '-'*50)\n",
    "print(df[df['two']>=0.5])\n",
    "print(df[df['four'].isna()])\n",
    "print('-'*50 + '查询' + '-'*50)\n",
    "print(df[df['timestamp'].isna()])\n",
    "\n",
    "print(df.sum())"
   ]
  },
  {
   "cell_type": "markdown",
   "metadata": {},
   "source": [
    "### 2.5 处理缺失数据\n",
    "\n",
    "https://pandas.pydata.org/pandas-docs/stable/missing_data.html 里面有更加丰富，全面的资料。下面的代码示例只是很小一部分"
   ]
  },
  {
   "cell_type": "code",
   "execution_count": 5,
   "metadata": {},
   "outputs": [
    {
     "name": "stdout",
     "output_type": "stream",
     "text": [
      "        one       two     three four   five  timestamp\n",
      "a -0.676062 -1.514324 -0.862825  bar  False 2012-01-01\n",
      "c  0.889878  0.905449 -1.040287  bar   True 2012-01-01\n",
      "e  0.474818  0.310874 -0.596196  bar   True 2012-01-01\n",
      "f -0.491763  1.033591  0.780044  bar  False 2012-01-01\n",
      "h  2.472784  0.342702 -1.204926  bar   True 2012-01-01\n",
      "--------------------------------------------------\n",
      "        one       two     three four   five  timestamp\n",
      "a -0.676062 -1.514324 -0.862825  bar  False 2012-01-01\n",
      "b       NaN       NaN       NaN  NaN    NaN        NaT\n",
      "c  0.889878  0.905449 -1.040287  bar   True 2012-01-01\n",
      "d       NaN       NaN       NaN  NaN    NaN        NaT\n",
      "e  0.474818  0.310874 -0.596196  bar   True 2012-01-01\n",
      "f -0.491763  1.033591  0.780044  bar  False 2012-01-01\n",
      "g       NaN       NaN       NaN  NaN    NaN        NaT\n",
      "h  2.472784  0.342702 -1.204926  bar   True 2012-01-01\n",
      "--------------------------------------------------\n",
      "   one  two  three four five timestamp\n",
      "b  NaN  NaN    NaN  NaN  NaN       NaT\n",
      "d  NaN  NaN    NaN  NaN  NaN       NaT\n",
      "g  NaN  NaN    NaN  NaN  NaN       NaT\n"
     ]
    }
   ],
   "source": [
    "df = pd.DataFrame(np.random.randn(5, 3), index=['a', 'c', 'e', 'f', 'h'],\n",
    "                  columns=['one', 'two', 'three'])\n",
    "\n",
    "df['four'] = 'bar'\n",
    "df['five'] = df['one'] > 0\n",
    "df['timestamp'] = pd.Timestamp('20120101')\n",
    "print(df)\n",
    "\n",
    "\n",
    "#reindex 创建一个适应新索引的新data frame。如果所以不存在的话就会引入缺失值NaN。\n",
    "print('-'*50)\n",
    "df2 = df.reindex(['a', 'b', 'c', 'd', 'e', 'f', 'g', 'h']) \n",
    "print(df2)\n",
    "\n",
    "print('-'*50)\n",
    "print(df2[df2.isnull().any(axis=1)])  #得到包含确实值的行"
   ]
  },
  {
   "cell_type": "code",
   "execution_count": 17,
   "metadata": {},
   "outputs": [
    {
     "ename": "NameError",
     "evalue": "name 'df2' is not defined",
     "output_type": "error",
     "traceback": [
      "\u001b[0;31m---------------------------------------------------------------------------\u001b[0m",
      "\u001b[0;31mNameError\u001b[0m                                 Traceback (most recent call last)",
      "\u001b[0;32m<ipython-input-17-66821447223a>\u001b[0m in \u001b[0;36m<module>\u001b[0;34m()\u001b[0m\n\u001b[0;32m----> 1\u001b[0;31m \u001b[0mmean_df\u001b[0m \u001b[0;34m=\u001b[0m \u001b[0mdf2\u001b[0m\u001b[0;34m.\u001b[0m\u001b[0mmean\u001b[0m\u001b[0;34m(\u001b[0m\u001b[0;34m)\u001b[0m\u001b[0;34m\u001b[0m\u001b[0m\n\u001b[0m\u001b[1;32m      2\u001b[0m \u001b[0mprint\u001b[0m\u001b[0;34m(\u001b[0m\u001b[0mmean_df\u001b[0m\u001b[0;34m)\u001b[0m\u001b[0;34m\u001b[0m\u001b[0m\n\u001b[1;32m      3\u001b[0m \u001b[0mprint\u001b[0m\u001b[0;34m(\u001b[0m\u001b[0mmean_df\u001b[0m\u001b[0;34m.\u001b[0m\u001b[0mindex\u001b[0m\u001b[0;34m)\u001b[0m\u001b[0;34m\u001b[0m\u001b[0m\n\u001b[1;32m      4\u001b[0m \u001b[0mprint\u001b[0m\u001b[0;34m(\u001b[0m\u001b[0mtype\u001b[0m\u001b[0;34m(\u001b[0m\u001b[0mmean_df\u001b[0m\u001b[0;34m)\u001b[0m\u001b[0;34m)\u001b[0m\u001b[0;34m\u001b[0m\u001b[0m\n\u001b[1;32m      5\u001b[0m \u001b[0mprint\u001b[0m\u001b[0;34m(\u001b[0m\u001b[0mlen\u001b[0m\u001b[0;34m(\u001b[0m\u001b[0mmean_df\u001b[0m\u001b[0;34m)\u001b[0m\u001b[0;34m)\u001b[0m\u001b[0;34m\u001b[0m\u001b[0m\n",
      "\u001b[0;31mNameError\u001b[0m: name 'df2' is not defined"
     ]
    }
   ],
   "source": [
    "mean_df = df2.mean()\n",
    "print(mean_df)\n",
    "print(mean_df.index)\n",
    "print(type(mean_df))\n",
    "print(len(mean_df))"
   ]
  },
  {
   "cell_type": "code",
   "execution_count": 17,
   "metadata": {},
   "outputs": [
    {
     "name": "stdout",
     "output_type": "stream",
     "text": [
      "--------------------------------------------------\n",
      "a    False\n",
      "b     True\n",
      "c    False\n",
      "d     True\n",
      "e    False\n",
      "f    False\n",
      "g     True\n",
      "h    False\n",
      "Name: one, dtype: bool\n",
      "True\n",
      "--------------------------------------------------\n",
      "a    False\n",
      "b     True\n",
      "c    False\n",
      "d     True\n",
      "e    False\n",
      "f    False\n",
      "g     True\n",
      "h    False\n",
      "Name: four, dtype: bool\n",
      "--------------------------------------------------\n",
      "a     True\n",
      "b    False\n",
      "c     True\n",
      "d    False\n",
      "e     True\n",
      "f     True\n",
      "g    False\n",
      "h     True\n",
      "Name: four, dtype: bool\n",
      "--------------------------------------------------\n",
      "     one    two  three   four   five  timestamp\n",
      "a  False  False  False  False  False      False\n",
      "b   True   True   True   True   True       True\n",
      "c  False  False  False  False  False      False\n",
      "d   True   True   True   True   True       True\n",
      "e  False  False  False  False  False      False\n",
      "f  False  False  False  False  False      False\n",
      "g   True   True   True   True   True       True\n",
      "h  False  False  False  False  False      False\n",
      "--------------------------------------------------\n",
      "     one    two  three   four   five  timestamp\n",
      "a   True   True   True   True   True       True\n",
      "b  False  False  False  False  False      False\n",
      "c   True   True   True   True   True       True\n",
      "d  False  False  False  False  False      False\n",
      "e   True   True   True   True   True       True\n",
      "f   True   True   True   True   True       True\n",
      "g  False  False  False  False  False      False\n",
      "h   True   True   True   True   True       True\n",
      "--------------------------------------------------\n",
      "True\n",
      "False\n",
      "--------------------------------------------------\n",
      "        one       two     three four   five  timestamp\n",
      "a -0.676062 -1.514324 -0.862825  bar  False 2012-01-01\n",
      "b       NaN       NaN       NaN  NaN    NaN        NaT\n",
      "c  0.889878  0.905449 -1.040287  bar   True 2012-01-01\n",
      "d       NaN       NaN       NaN  NaN    NaN        NaT\n",
      "e  0.474818  0.310874 -0.596196  bar   True 2012-01-01\n",
      "f -0.491763  1.033591  0.780044  bar  False 2012-01-01\n",
      "g       NaN       NaN       NaN  NaN    NaN        NaT\n",
      "h  2.472784  0.342702 -1.204926  bar   True 2012-01-01\n"
     ]
    }
   ],
   "source": [
    "print('-'*50)\n",
    "print(pd.isna(df2['one']))  # 如果报错，请检查pandas版本，这个函数是比较新的。\n",
    "print(pd.isna(df2['one'][1])) \n",
    "\n",
    "print('-'*50)\n",
    "print(df2['four'].isna())\n",
    "\n",
    "print('-'*50)\n",
    "print(df2['four'].notna())\n",
    "\n",
    "print('-'*50)\n",
    "print(df2.isna())\n",
    "\n",
    "print('-'*50)\n",
    "print(df2.notna())\n",
    "\n",
    "print('-'*50)\n",
    "print(None == None)\n",
    "print(np.nan == np.nan)  #注意np.nan != np.nan,  np.nan不等于任何值\n",
    "\n",
    "print('-'*50)\n",
    "df2['one'] == np.nan\n",
    "print(df2)"
   ]
  },
  {
   "cell_type": "code",
   "execution_count": 8,
   "metadata": {},
   "outputs": [
    {
     "name": "stdout",
     "output_type": "stream",
     "text": [
      "        one       two     three four   five  timestamp\n",
      "a -0.676062 -1.514324 -0.862825  bar  False 2012-01-01\n",
      "b       NaN       NaN       NaN  NaN    NaN        NaT\n",
      "c  0.889878  0.905449 -1.040287  bar   True 2012-01-01\n",
      "d       NaN       NaN       NaN  NaN    NaN        NaT\n",
      "e  0.474818  0.310874 -0.596196  bar   True 2012-01-01\n",
      "f -0.491763  1.033591  0.780044  bar  False 2012-01-01\n",
      "g       NaN       NaN       NaN  NaN    NaN        NaT\n",
      "h  2.472784  0.342702 -1.204926  bar   True 2012-01-01\n",
      "--------------------------------------------------data series填充缺失值--------------------------------------------------\n",
      "        one       two     three four   five  timestamp\n",
      "a -0.676062 -1.514324 -0.862825  bar  False 2012-01-01\n",
      "b  0.533931  0.215658 -0.584838  NaN    0.6        NaT\n",
      "c  0.889878  0.905449 -1.040287  bar   True 2012-01-01\n",
      "d  0.533931  0.215658 -0.584838  NaN    0.6        NaT\n",
      "e  0.474818  0.310874 -0.596196  bar   True 2012-01-01\n",
      "f -0.491763  1.033591  0.780044  bar  False 2012-01-01\n",
      "g  0.533931  0.215658 -0.584838  NaN    0.6        NaT\n",
      "h  2.472784  0.342702 -1.204926  bar   True 2012-01-01\n",
      "        one       two     three four   five  timestamp\n",
      "a -0.676062 -1.514324 -0.862825  bar  False 2012-01-01\n",
      "b -0.676062 -1.514324 -0.862825  bar  False 2012-01-01\n",
      "c  0.889878  0.905449 -1.040287  bar   True 2012-01-01\n",
      "d -0.676062 -1.514324 -0.862825  bar  False 2012-01-01\n",
      "e  0.474818  0.310874 -0.596196  bar   True 2012-01-01\n",
      "f -0.491763  1.033591  0.780044  bar  False 2012-01-01\n",
      "g -0.676062 -1.514324 -0.862825  bar  False 2012-01-01\n",
      "h  2.472784  0.342702 -1.204926  bar   True 2012-01-01\n",
      "--------------------------------------------------data frame填充缺失值--------------------------------------------------\n",
      "        one       two\n",
      "c  0.475808 -0.834133\n",
      "d -1.024222  0.470121\n",
      "e -0.315816 -0.081820\n",
      "f -0.889041  0.561975\n",
      "g  1.488731  0.684853\n",
      "h  1.013267 -0.029532\n",
      "a -0.141384 -0.432881\n",
      "b -0.909778 -1.627871\n",
      "        one       two     three four   five            timestamp\n",
      "a -0.676062 -1.514324 -0.862825  bar  False  2012-01-01 00:00:00\n",
      "b -0.909778 -1.627871       NaN  NaN    NaN                  NaN\n",
      "c  0.889878  0.905449 -1.040287  bar   True  2012-01-01 00:00:00\n",
      "d -1.024222  0.470121       NaN  NaN    NaN                  NaN\n",
      "e  0.474818  0.310874 -0.596196  bar   True  2012-01-01 00:00:00\n",
      "f -0.491763  1.033591  0.780044  bar  False  2012-01-01 00:00:00\n",
      "g  1.488731  0.684853       NaN  NaN    NaN                  NaN\n",
      "h  2.472784  0.342702 -1.204926  bar   True  2012-01-01 00:00:00\n"
     ]
    }
   ],
   "source": [
    "\n",
    "print(df2)\n",
    "\n",
    "print('-'*50 + 'data series填充缺失值' + '-'*50)\n",
    "\n",
    "# 使用data series中的index的值来匹配data frame的列， 采用这样的方式来填充缺失值\n",
    "print(df2.fillna(df2.mean()))\n",
    "print(df2.fillna(df2.iloc[0]))\n",
    "\n",
    "print('-'*50 + 'data frame填充缺失值' + '-'*50)\n",
    "# 使用data frame替换时候，是基于index + column来共同定位的, 所以index, column的顺序没有关系， 应该来说，这种设计是非常不错的。\n",
    "df3 = pd.DataFrame(np.random.randn(8, 2), index=['c', 'd', 'e', 'f', 'g', 'h', 'a', 'b'],\n",
    "                  columns=['one', 'two'])\n",
    "\n",
    "print(df3)\n",
    "print(df2.fillna(df3))"
   ]
  },
  {
   "cell_type": "markdown",
   "metadata": {},
   "source": [
    "### 2.4 操作技巧"
   ]
  },
  {
   "cell_type": "markdown",
   "metadata": {},
   "source": [
    "http://aa00:18888/notebooks/eipi10/python-book/arsenal/notebook/tool/PandasBasics.ipynb\n",
    "        \n",
    "里面有非常不错的padas的数据操作技巧。 notebook来自于老俄的课程，不得不说，真是好。"
   ]
  },
  {
   "cell_type": "markdown",
   "metadata": {},
   "source": [
    "### 2.3 统计频次"
   ]
  },
  {
   "cell_type": "code",
   "execution_count": 13,
   "metadata": {},
   "outputs": [
    {
     "data": {
      "text/html": [
       "<div>\n",
       "<style scoped>\n",
       "    .dataframe tbody tr th:only-of-type {\n",
       "        vertical-align: middle;\n",
       "    }\n",
       "\n",
       "    .dataframe tbody tr th {\n",
       "        vertical-align: top;\n",
       "    }\n",
       "\n",
       "    .dataframe thead th {\n",
       "        text-align: right;\n",
       "    }\n",
       "</style>\n",
       "<table border=\"1\" class=\"dataframe\">\n",
       "  <thead>\n",
       "    <tr style=\"text-align: right;\">\n",
       "      <th></th>\n",
       "      <th>A</th>\n",
       "      <th>B</th>\n",
       "      <th>C</th>\n",
       "      <th>D</th>\n",
       "    </tr>\n",
       "  </thead>\n",
       "  <tbody>\n",
       "    <tr>\n",
       "      <th>0</th>\n",
       "      <td>foo</td>\n",
       "      <td>one</td>\n",
       "      <td>-0.500214</td>\n",
       "      <td>0.702822</td>\n",
       "    </tr>\n",
       "    <tr>\n",
       "      <th>1</th>\n",
       "      <td>bar</td>\n",
       "      <td>one</td>\n",
       "      <td>-1.823724</td>\n",
       "      <td>-1.084585</td>\n",
       "    </tr>\n",
       "    <tr>\n",
       "      <th>2</th>\n",
       "      <td>foo</td>\n",
       "      <td>two</td>\n",
       "      <td>-1.372475</td>\n",
       "      <td>-0.654163</td>\n",
       "    </tr>\n",
       "    <tr>\n",
       "      <th>3</th>\n",
       "      <td>bar</td>\n",
       "      <td>three</td>\n",
       "      <td>-2.545491</td>\n",
       "      <td>2.072283</td>\n",
       "    </tr>\n",
       "    <tr>\n",
       "      <th>4</th>\n",
       "      <td>foo</td>\n",
       "      <td>two</td>\n",
       "      <td>-0.927207</td>\n",
       "      <td>-0.390232</td>\n",
       "    </tr>\n",
       "    <tr>\n",
       "      <th>5</th>\n",
       "      <td>bar</td>\n",
       "      <td>two</td>\n",
       "      <td>1.175563</td>\n",
       "      <td>0.251455</td>\n",
       "    </tr>\n",
       "    <tr>\n",
       "      <th>6</th>\n",
       "      <td>foo</td>\n",
       "      <td>one</td>\n",
       "      <td>1.013403</td>\n",
       "      <td>1.743179</td>\n",
       "    </tr>\n",
       "    <tr>\n",
       "      <th>7</th>\n",
       "      <td>foo</td>\n",
       "      <td>three</td>\n",
       "      <td>-1.250701</td>\n",
       "      <td>1.915337</td>\n",
       "    </tr>\n",
       "  </tbody>\n",
       "</table>\n",
       "</div>"
      ],
      "text/plain": [
       "     A      B         C         D\n",
       "0  foo    one -0.500214  0.702822\n",
       "1  bar    one -1.823724 -1.084585\n",
       "2  foo    two -1.372475 -0.654163\n",
       "3  bar  three -2.545491  2.072283\n",
       "4  foo    two -0.927207 -0.390232\n",
       "5  bar    two  1.175563  0.251455\n",
       "6  foo    one  1.013403  1.743179\n",
       "7  foo  three -1.250701  1.915337"
      ]
     },
     "execution_count": 13,
     "metadata": {},
     "output_type": "execute_result"
    }
   ],
   "source": [
    "df = pd.DataFrame({'A' : ['foo', 'bar', 'foo', 'bar',\n",
    "                            'foo', 'bar', 'foo', 'foo'],\n",
    "                   'B' : ['one', 'one', 'two', 'three',\n",
    "                           'two', 'two', 'one', 'three'],\n",
    "                   'C' : np.random.randn(8),\n",
    "                   'D' : np.random.randn(8)})\n",
    "\n",
    "\n",
    "\n",
    "df\n",
    "\n"
   ]
  },
  {
   "cell_type": "code",
   "execution_count": 16,
   "metadata": {},
   "outputs": [
    {
     "name": "stdout",
     "output_type": "stream",
     "text": [
      "<class 'pandas.core.frame.DataFrame'>\n",
      "RangeIndex: 8 entries, 0 to 7\n",
      "Data columns (total 4 columns):\n",
      "A    8 non-null object\n",
      "B    8 non-null object\n",
      "C    8 non-null float64\n",
      "D    8 non-null float64\n",
      "dtypes: float64(2), object(2)\n",
      "memory usage: 336.0+ bytes\n",
      "None\n",
      "A        foobarfoobarfoobarfoofoo\n",
      "B    oneonetwothreetwotwoonethree\n",
      "C                        -6.23085\n",
      "D                          4.5561\n",
      "dtype: object\n",
      "-6.230845839829183\n",
      "foobarfoobarfoobarfoofoo\n"
     ]
    }
   ],
   "source": [
    "print(df.info())\n",
    "print(df.sum())\n",
    "print(df.sum()['C'])\n",
    "print(df.sum()[0])"
   ]
  },
  {
   "cell_type": "code",
   "execution_count": 10,
   "metadata": {},
   "outputs": [
    {
     "name": "stdout",
     "output_type": "stream",
     "text": [
      "<class 'pandas.core.series.Series'>\n",
      "foo    5\n",
      "bar    3\n",
      "Name: A, dtype: int64\n",
      "<class 'pandas.core.series.Series'>\n",
      "A\n",
      "bar    3\n",
      "foo    5\n",
      "dtype: int64\n",
      "<class 'pandas.core.frame.DataFrame'>\n",
      "     B  C  D\n",
      "A           \n",
      "bar  3  3  3\n",
      "foo  5  5  5\n"
     ]
    }
   ],
   "source": [
    "print(type(df['A'].value_counts()))\n",
    "print(df['A'].value_counts())\n",
    "print(type(df.groupby('A').size()))\n",
    "print(df.groupby('A').size())\n",
    "print(type(df.groupby('A').count()))\n",
    "print(df.groupby('A').count())"
   ]
  },
  {
   "cell_type": "markdown",
   "metadata": {},
   "source": [
    "### 2.2 groupby\n",
    "\n",
    "https://www.shanelynn.ie/summarising-aggregation-and-grouping-data-in-python-pandas/"
   ]
  },
  {
   "cell_type": "code",
   "execution_count": 6,
   "metadata": {},
   "outputs": [
    {
     "data": {
      "text/html": [
       "<div>\n",
       "<style scoped>\n",
       "    .dataframe tbody tr th:only-of-type {\n",
       "        vertical-align: middle;\n",
       "    }\n",
       "\n",
       "    .dataframe tbody tr th {\n",
       "        vertical-align: top;\n",
       "    }\n",
       "\n",
       "    .dataframe thead th {\n",
       "        text-align: right;\n",
       "    }\n",
       "</style>\n",
       "<table border=\"1\" class=\"dataframe\">\n",
       "  <thead>\n",
       "    <tr style=\"text-align: right;\">\n",
       "      <th></th>\n",
       "      <th>A</th>\n",
       "      <th>B</th>\n",
       "      <th>C</th>\n",
       "      <th>D</th>\n",
       "    </tr>\n",
       "  </thead>\n",
       "  <tbody>\n",
       "    <tr>\n",
       "      <th>0</th>\n",
       "      <td>foo</td>\n",
       "      <td>one</td>\n",
       "      <td>-1.077211</td>\n",
       "      <td>-0.075428</td>\n",
       "    </tr>\n",
       "    <tr>\n",
       "      <th>1</th>\n",
       "      <td>bar</td>\n",
       "      <td>one</td>\n",
       "      <td>0.459426</td>\n",
       "      <td>-0.017499</td>\n",
       "    </tr>\n",
       "    <tr>\n",
       "      <th>2</th>\n",
       "      <td>foo</td>\n",
       "      <td>two</td>\n",
       "      <td>1.159034</td>\n",
       "      <td>1.136771</td>\n",
       "    </tr>\n",
       "    <tr>\n",
       "      <th>3</th>\n",
       "      <td>bar</td>\n",
       "      <td>three</td>\n",
       "      <td>-0.424541</td>\n",
       "      <td>1.726109</td>\n",
       "    </tr>\n",
       "    <tr>\n",
       "      <th>4</th>\n",
       "      <td>foo</td>\n",
       "      <td>two</td>\n",
       "      <td>-0.989454</td>\n",
       "      <td>-1.304752</td>\n",
       "    </tr>\n",
       "    <tr>\n",
       "      <th>5</th>\n",
       "      <td>bar</td>\n",
       "      <td>two</td>\n",
       "      <td>0.469958</td>\n",
       "      <td>-1.275065</td>\n",
       "    </tr>\n",
       "    <tr>\n",
       "      <th>6</th>\n",
       "      <td>foo</td>\n",
       "      <td>one</td>\n",
       "      <td>-2.081804</td>\n",
       "      <td>0.631090</td>\n",
       "    </tr>\n",
       "    <tr>\n",
       "      <th>7</th>\n",
       "      <td>foo</td>\n",
       "      <td>three</td>\n",
       "      <td>-0.733903</td>\n",
       "      <td>-0.092958</td>\n",
       "    </tr>\n",
       "  </tbody>\n",
       "</table>\n",
       "</div>"
      ],
      "text/plain": [
       "     A      B         C         D\n",
       "0  foo    one -1.077211 -0.075428\n",
       "1  bar    one  0.459426 -0.017499\n",
       "2  foo    two  1.159034  1.136771\n",
       "3  bar  three -0.424541  1.726109\n",
       "4  foo    two -0.989454 -1.304752\n",
       "5  bar    two  0.469958 -1.275065\n",
       "6  foo    one -2.081804  0.631090\n",
       "7  foo  three -0.733903 -0.092958"
      ]
     },
     "execution_count": 6,
     "metadata": {},
     "output_type": "execute_result"
    }
   ],
   "source": [
    "df = pd.DataFrame({'A' : ['foo', 'bar', 'foo', 'bar',\n",
    "                            'foo', 'bar', 'foo', 'foo'],\n",
    "                   'B' : ['one', 'one', 'two', 'three',\n",
    "                           'two', 'two', 'one', 'three'],\n",
    "                   'C' : np.random.randn(8),\n",
    "                   'D' : np.random.randn(8)})\n",
    "df"
   ]
  },
  {
   "cell_type": "code",
   "execution_count": 7,
   "metadata": {},
   "outputs": [
    {
     "name": "stdout",
     "output_type": "stream",
     "text": [
      "3\n"
     ]
    },
    {
     "data": {
      "text/plain": [
       "A         bar\n",
       "B       three\n",
       "C   -0.424541\n",
       "D     1.72611\n",
       "Name: 3, dtype: object"
      ]
     },
     "execution_count": 7,
     "metadata": {},
     "output_type": "execute_result"
    }
   ],
   "source": [
    "B_len = df['B'].apply(lambda a: len(a))\n",
    "print(B_len.idxmax())\n",
    "df.iloc[B_len.idxmax()]"
   ]
  },
  {
   "cell_type": "markdown",
   "metadata": {},
   "source": [
    "**遍历groupby**"
   ]
  },
  {
   "cell_type": "code",
   "execution_count": 13,
   "metadata": {},
   "outputs": [
    {
     "name": "stdout",
     "output_type": "stream",
     "text": [
      "<class 'pandas.core.frame.DataFrame'>\n",
      "<class 'pandas.core.groupby.groupby.DataFrameGroupBy'>\n",
      "----------------------------------------bar----------------------------------------\n",
      "     A      B         C         D\n",
      "1  bar    one  0.459426 -0.017499\n",
      "3  bar  three -0.424541  1.726109\n",
      "5  bar    two  0.469958 -1.275065\n",
      "<class 'pandas.core.frame.DataFrame'>\n",
      "----------------------------------------foo----------------------------------------\n",
      "     A      B         C         D\n",
      "0  foo    one -1.077211 -0.075428\n",
      "2  foo    two  1.159034  1.136771\n",
      "4  foo    two -0.989454 -1.304752\n",
      "6  foo    one -2.081804  0.631090\n",
      "7  foo  three -0.733903 -0.092958\n",
      "<class 'pandas.core.frame.DataFrame'>\n"
     ]
    }
   ],
   "source": [
    "print(type(df))\n",
    "print(type(df.groupby(['A'])))\n",
    "df_group = df.groupby(['A'])\n",
    "for name, group in df_group:\n",
    "    print('-'*40+name+'-'*40)\n",
    "    print(group)\n",
    "    print(type(group))\n"
   ]
  },
  {
   "cell_type": "markdown",
   "metadata": {},
   "source": [
    "**得到具体的一个group**"
   ]
  },
  {
   "cell_type": "code",
   "execution_count": 14,
   "metadata": {},
   "outputs": [
    {
     "name": "stdout",
     "output_type": "stream",
     "text": [
      "     A    B         C         D\n",
      "2  foo  two -0.128611 -1.219711\n",
      "4  foo  two -1.662345 -0.552653\n"
     ]
    }
   ],
   "source": [
    "groups = df.groupby(['A', 'B'])\n",
    "print(groups.get_group(('foo', 'two')))"
   ]
  },
  {
   "cell_type": "markdown",
   "metadata": {},
   "source": [
    "**聚合计算**"
   ]
  },
  {
   "cell_type": "code",
   "execution_count": 15,
   "metadata": {},
   "outputs": [
    {
     "name": "stdout",
     "output_type": "stream",
     "text": [
      "A\n",
      "bar   -1.926199\n",
      "foo   -3.199418\n",
      "Name: C, dtype: float64\n",
      "            C         D\n",
      "A                      \n",
      "bar -1.926199  1.810868\n",
      "foo -3.199418 -0.458674\n",
      "            C  D\n",
      "A               \n",
      "bar -1.926199  3\n",
      "foo -3.199418  5\n",
      "<class 'pandas.core.frame.DataFrame'>\n",
      "Index(['bar', 'foo'], dtype='object', name='A')\n",
      "MultiIndex(levels=[['C', 'D'], ['first', 'max', 'min', 'nunique', 'sum']],\n",
      "           codes=[[0, 0, 0, 1, 1, 1], [2, 1, 4, 2, 0, 3]])\n"
     ]
    },
    {
     "data": {
      "text/html": [
       "<div>\n",
       "<style scoped>\n",
       "    .dataframe tbody tr th:only-of-type {\n",
       "        vertical-align: middle;\n",
       "    }\n",
       "\n",
       "    .dataframe tbody tr th {\n",
       "        vertical-align: top;\n",
       "    }\n",
       "\n",
       "    .dataframe thead tr th {\n",
       "        text-align: left;\n",
       "    }\n",
       "\n",
       "    .dataframe thead tr:last-of-type th {\n",
       "        text-align: right;\n",
       "    }\n",
       "</style>\n",
       "<table border=\"1\" class=\"dataframe\">\n",
       "  <thead>\n",
       "    <tr>\n",
       "      <th></th>\n",
       "      <th colspan=\"3\" halign=\"left\">C</th>\n",
       "      <th colspan=\"3\" halign=\"left\">D</th>\n",
       "    </tr>\n",
       "    <tr>\n",
       "      <th></th>\n",
       "      <th>min</th>\n",
       "      <th>max</th>\n",
       "      <th>sum</th>\n",
       "      <th>min</th>\n",
       "      <th>first</th>\n",
       "      <th>nunique</th>\n",
       "    </tr>\n",
       "    <tr>\n",
       "      <th>A</th>\n",
       "      <th></th>\n",
       "      <th></th>\n",
       "      <th></th>\n",
       "      <th></th>\n",
       "      <th></th>\n",
       "      <th></th>\n",
       "    </tr>\n",
       "  </thead>\n",
       "  <tbody>\n",
       "    <tr>\n",
       "      <th>bar</th>\n",
       "      <td>-0.726170</td>\n",
       "      <td>-0.539588</td>\n",
       "      <td>-1.926199</td>\n",
       "      <td>0.248580</td>\n",
       "      <td>1.045371</td>\n",
       "      <td>3</td>\n",
       "    </tr>\n",
       "    <tr>\n",
       "      <th>foo</th>\n",
       "      <td>-1.662345</td>\n",
       "      <td>0.501704</td>\n",
       "      <td>-3.199418</td>\n",
       "      <td>-1.219711</td>\n",
       "      <td>-0.333859</td>\n",
       "      <td>5</td>\n",
       "    </tr>\n",
       "  </tbody>\n",
       "</table>\n",
       "</div>"
      ],
      "text/plain": [
       "            C                             D                  \n",
       "          min       max       sum       min     first nunique\n",
       "A                                                            \n",
       "bar -0.726170 -0.539588 -1.926199  0.248580  1.045371       3\n",
       "foo -1.662345  0.501704 -3.199418 -1.219711 -0.333859       5"
      ]
     },
     "execution_count": 15,
     "metadata": {},
     "output_type": "execute_result"
    }
   ],
   "source": [
    "print(df.groupby('A')['C'].sum())\n",
    "print(df.groupby('A')[['C', 'D']].sum())\n",
    "\n",
    "print(df.groupby('A').agg({'C':sum, 'D':'count' }))\n",
    "\n",
    "df1 =df.groupby('A').agg({'C':[min, max, sum], 'D':[min, 'first', 'nunique'] })\n",
    "print(type(df1))\n",
    "print(df1.index)\n",
    "print(df1.columns)\n",
    "df1"
   ]
  },
  {
   "cell_type": "markdown",
   "metadata": {},
   "source": [
    "**自定义聚合方法**"
   ]
  },
  {
   "cell_type": "code",
   "execution_count": 152,
   "metadata": {},
   "outputs": [
    {
     "name": "stdout",
     "output_type": "stream",
     "text": [
      "<class 'pandas.core.frame.DataFrame'>\n"
     ]
    },
    {
     "data": {
      "text/html": [
       "<div>\n",
       "<style scoped>\n",
       "    .dataframe tbody tr th:only-of-type {\n",
       "        vertical-align: middle;\n",
       "    }\n",
       "\n",
       "    .dataframe tbody tr th {\n",
       "        vertical-align: top;\n",
       "    }\n",
       "\n",
       "    .dataframe thead th {\n",
       "        text-align: right;\n",
       "    }\n",
       "</style>\n",
       "<table border=\"1\" class=\"dataframe\">\n",
       "  <thead>\n",
       "    <tr style=\"text-align: right;\">\n",
       "      <th></th>\n",
       "      <th>C</th>\n",
       "      <th>CD</th>\n",
       "    </tr>\n",
       "    <tr>\n",
       "      <th>A</th>\n",
       "      <th></th>\n",
       "      <th></th>\n",
       "    </tr>\n",
       "  </thead>\n",
       "  <tbody>\n",
       "    <tr>\n",
       "      <th>bar</th>\n",
       "      <td>0.441190</td>\n",
       "      <td>0.590002</td>\n",
       "    </tr>\n",
       "    <tr>\n",
       "      <th>foo</th>\n",
       "      <td>0.961747</td>\n",
       "      <td>1.332086</td>\n",
       "    </tr>\n",
       "  </tbody>\n",
       "</table>\n",
       "</div>"
      ],
      "text/plain": [
       "            C        CD\n",
       "A                      \n",
       "bar  0.441190  0.590002\n",
       "foo  0.961747  1.332086"
      ]
     },
     "execution_count": 152,
     "metadata": {},
     "output_type": "execute_result"
    }
   ],
   "source": [
    "# \n",
    "def func(group):\n",
    "    sum_ = group.C.sum()\n",
    "    es = (group.C * group.D).sum()\n",
    "    return pd.Series([sum_, es], index=['C', 'CD'])\n",
    "\n",
    "df1 = df.groupby('A').apply(func)\n",
    "print(type(df1))\n",
    "df1"
   ]
  },
  {
   "cell_type": "code",
   "execution_count": 150,
   "metadata": {},
   "outputs": [
    {
     "data": {
      "text/html": [
       "<div>\n",
       "<style scoped>\n",
       "    .dataframe tbody tr th:only-of-type {\n",
       "        vertical-align: middle;\n",
       "    }\n",
       "\n",
       "    .dataframe tbody tr th {\n",
       "        vertical-align: top;\n",
       "    }\n",
       "\n",
       "    .dataframe thead th {\n",
       "        text-align: right;\n",
       "    }\n",
       "</style>\n",
       "<table border=\"1\" class=\"dataframe\">\n",
       "  <thead>\n",
       "    <tr style=\"text-align: right;\">\n",
       "      <th></th>\n",
       "      <th>C</th>\n",
       "      <th>CD</th>\n",
       "    </tr>\n",
       "    <tr>\n",
       "      <th>A</th>\n",
       "      <th></th>\n",
       "      <th></th>\n",
       "    </tr>\n",
       "  </thead>\n",
       "  <tbody>\n",
       "    <tr>\n",
       "      <th>bar</th>\n",
       "      <td>0.441190</td>\n",
       "      <td>0.590002</td>\n",
       "    </tr>\n",
       "    <tr>\n",
       "      <th>foo</th>\n",
       "      <td>0.961747</td>\n",
       "      <td>1.332086</td>\n",
       "    </tr>\n",
       "  </tbody>\n",
       "</table>\n",
       "</div>"
      ],
      "text/plain": [
       "            C        CD\n",
       "A                      \n",
       "bar  0.441190  0.590002\n",
       "foo  0.961747  1.332086"
      ]
     },
     "execution_count": 150,
     "metadata": {},
     "output_type": "execute_result"
    }
   ],
   "source": [
    "df1 = df.groupby('A').apply(lambda group: pd.Series([group.C.sum(), (group.C * group.D).sum()], index=['C', 'CD']))\n",
    "df1"
   ]
  },
  {
   "cell_type": "markdown",
   "metadata": {},
   "source": [
    "### 2.1  时间间隔datediff"
   ]
  },
  {
   "cell_type": "code",
   "execution_count": 2,
   "metadata": {},
   "outputs": [
    {
     "name": "stdout",
     "output_type": "stream",
     "text": [
      "     A                   B    C                   D                   E    F  \\\n",
      "0  1.0 2013-01-02 12:12:12  1.0 2013-01-01 13:13:13 2013-01-01 11:11:11  foo   \n",
      "1  1.0 2013-01-02 12:12:12  1.0 2013-01-01 13:13:13 2013-01-01 11:11:11  foo   \n",
      "2  1.0 2013-01-02 12:12:12  1.0 2013-01-01 13:13:13 2013-01-01 11:11:11  foo   \n",
      "3  1.0 2013-01-02 12:12:12  1.0 2013-01-01 13:13:13 2013-01-01 11:11:11  foo   \n",
      "\n",
      "   G  \n",
      "0  0  \n",
      "1  0  \n",
      "2  0  \n",
      "3  0  \n",
      "A           float64\n",
      "B    datetime64[ns]\n",
      "C           float32\n",
      "D    datetime64[ns]\n",
      "E    datetime64[ns]\n",
      "F            object\n",
      "G             int64\n",
      "dtype: object\n",
      "2013-01-02 12:12:12 2013-01-01 13:13:13 2013-01-01 11:11:11\n",
      "0 days 22:58:59 1 days 01:01:01\n"
     ]
    }
   ],
   "source": [
    "import pandas as pd\n",
    "\n",
    "df = pd.DataFrame({ 'A' : 1.,\n",
    "                      'B' : pd.Timestamp('2013-01-02 12:12:12'),\n",
    "                     'C' : pd.Series(1,index=list(range(4)),dtype='float32'),\n",
    "                     'D' : pd.Timestamp('2013-01-01 13:13:13'),\n",
    "                     'E' : pd.Timestamp('2013-01-01 11:11:11'),\n",
    "                     'F' : 'foo' })\n",
    "df['G'] = 0\n",
    "print(df)\n",
    "print(df.dtypes)\n",
    "print(df.iloc[0][\"B\"], df.iloc[0][\"D\"], df.iloc[0][\"E\"])\n",
    "print(df.iloc[0][\"B\"] - df.iloc[0][\"D\"], df.iloc[0][\"B\"] - df.iloc[0][\"E\"])\n",
    "\n"
   ]
  },
  {
   "cell_type": "markdown",
   "metadata": {},
   "source": [
    "# 10 Minutes to pandas"
   ]
  },
  {
   "cell_type": "markdown",
   "metadata": {},
   "source": [
    "http://pandas.pydata.org/pandas-docs/stable/index.html"
   ]
  },
  {
   "cell_type": "code",
   "execution_count": 3,
   "metadata": {
    "collapsed": true
   },
   "outputs": [],
   "source": [
    "import pandas as pd\n",
    "import numpy as np\n",
    "import matplotlib.pyplot as plt"
   ]
  },
  {
   "cell_type": "markdown",
   "metadata": {},
   "source": [
    "## Object Creation"
   ]
  },
  {
   "cell_type": "code",
   "execution_count": 4,
   "metadata": {},
   "outputs": [
    {
     "data": {
      "text/plain": [
       "0    1.0\n",
       "1    3.0\n",
       "2    5.0\n",
       "3    NaN\n",
       "4    6.0\n",
       "5    8.0\n",
       "dtype: float64"
      ]
     },
     "execution_count": 4,
     "metadata": {},
     "output_type": "execute_result"
    }
   ],
   "source": [
    "s = pd.Series([1,3,5,np.nan,6,8])\n",
    "s"
   ]
  },
  {
   "cell_type": "code",
   "execution_count": 5,
   "metadata": {},
   "outputs": [
    {
     "data": {
      "text/plain": [
       "DatetimeIndex(['2013-01-01', '2013-01-02', '2013-01-03', '2013-01-04',\n",
       "               '2013-01-05', '2013-01-06'],\n",
       "              dtype='datetime64[ns]', freq='D')"
      ]
     },
     "execution_count": 5,
     "metadata": {},
     "output_type": "execute_result"
    }
   ],
   "source": [
    "dates = pd.date_range('20130101', periods=6)\n",
    "dates"
   ]
  },
  {
   "cell_type": "code",
   "execution_count": 6,
   "metadata": {},
   "outputs": [
    {
     "name": "stdout",
     "output_type": "stream",
     "text": [
      "    x1  x2\n",
      "0  1.0   2\n",
      "(1, 2)\n",
      "<class 'numpy.ndarray'>\n"
     ]
    },
    {
     "name": "stderr",
     "output_type": "stream",
     "text": [
      "/usr/local/lib/python3.5/dist-packages/ipykernel_launcher.py:3: FutureWarning: Method .as_matrix will be removed in a future version. Use .values instead.\n",
      "  This is separate from the ipykernel package so we can avoid doing imports until\n",
      "/usr/local/lib/python3.5/dist-packages/ipykernel_launcher.py:4: FutureWarning: Method .as_matrix will be removed in a future version. Use .values instead.\n",
      "  after removing the cwd from sys.path.\n"
     ]
    }
   ],
   "source": [
    "a = pd.DataFrame({ 'x1' : [1.], 'x2':[2]})\n",
    "print(a)\n",
    "print(a.as_matrix().shape)\n",
    "print(type(a.as_matrix()))"
   ]
  },
  {
   "cell_type": "code",
   "execution_count": 18,
   "metadata": {},
   "outputs": [
    {
     "name": "stdout",
     "output_type": "stream",
     "text": [
      "   A  B  C\n",
      "1  1  2  3\n",
      "2  4  5  6\n",
      "   A  B  C\n",
      "a  1  2  3\n",
      "b  4  5  6\n",
      "0\n",
      "['A', 'B', 'C', 'D']\n"
     ]
    },
    {
     "ename": "NameError",
     "evalue": "name 'dates' is not defined",
     "output_type": "error",
     "traceback": [
      "\u001b[0;31m---------------------------------------------------------------------------\u001b[0m",
      "\u001b[0;31mNameError\u001b[0m                                 Traceback (most recent call last)",
      "\u001b[0;32m<ipython-input-18-90c932c237fe>\u001b[0m in \u001b[0;36m<module>\u001b[0;34m()\u001b[0m\n\u001b[1;32m      6\u001b[0m \u001b[0;34m\u001b[0m\u001b[0m\n\u001b[1;32m      7\u001b[0m \u001b[0mprint\u001b[0m\u001b[0;34m(\u001b[0m\u001b[0mlist\u001b[0m\u001b[0;34m(\u001b[0m\u001b[0;34m'ABCD'\u001b[0m\u001b[0;34m)\u001b[0m\u001b[0;34m)\u001b[0m\u001b[0;34m\u001b[0m\u001b[0m\n\u001b[0;32m----> 8\u001b[0;31m \u001b[0mdf\u001b[0m \u001b[0;34m=\u001b[0m \u001b[0mpd\u001b[0m\u001b[0;34m.\u001b[0m\u001b[0mDataFrame\u001b[0m\u001b[0;34m(\u001b[0m\u001b[0mnp\u001b[0m\u001b[0;34m.\u001b[0m\u001b[0mrandom\u001b[0m\u001b[0;34m.\u001b[0m\u001b[0mrandn\u001b[0m\u001b[0;34m(\u001b[0m\u001b[0;36m6\u001b[0m\u001b[0;34m,\u001b[0m\u001b[0;36m4\u001b[0m\u001b[0;34m)\u001b[0m\u001b[0;34m,\u001b[0m \u001b[0mindex\u001b[0m\u001b[0;34m=\u001b[0m\u001b[0mdates\u001b[0m\u001b[0;34m,\u001b[0m \u001b[0mcolumns\u001b[0m\u001b[0;34m=\u001b[0m\u001b[0mlist\u001b[0m\u001b[0;34m(\u001b[0m\u001b[0;34m'ABCD'\u001b[0m\u001b[0;34m)\u001b[0m\u001b[0;34m)\u001b[0m\u001b[0;34m\u001b[0m\u001b[0m\n\u001b[0m\u001b[1;32m      9\u001b[0m \u001b[0;31m# df.apply()\u001b[0m\u001b[0;34m\u001b[0m\u001b[0;34m\u001b[0m\u001b[0m\n\u001b[1;32m     10\u001b[0m \u001b[0mprint\u001b[0m\u001b[0;34m(\u001b[0m\u001b[0mdf\u001b[0m\u001b[0;34m)\u001b[0m\u001b[0;34m\u001b[0m\u001b[0m\n",
      "\u001b[0;31mNameError\u001b[0m: name 'dates' is not defined"
     ]
    }
   ],
   "source": [
    "df = pd.DataFrame([[1, 2, 3], [4, 5, 6]], index=[1, 2], columns=['A', 'B', 'C'])\n",
    "print(df)\n",
    "df.index = ['a', 'b']  #设置行号\n",
    "print(df)\n",
    "print(list(df.index).index('a'))\n",
    "\n",
    "print(list('ABCD'))\n",
    "df = pd.DataFrame(np.random.randn(6,4), index=dates, columns=list('ABCD'))\n",
    "# df.apply()\n",
    "print(df)\n"
   ]
  },
  {
   "cell_type": "code",
   "execution_count": 8,
   "metadata": {},
   "outputs": [
    {
     "data": {
      "text/html": [
       "<div>\n",
       "<style scoped>\n",
       "    .dataframe tbody tr th:only-of-type {\n",
       "        vertical-align: middle;\n",
       "    }\n",
       "\n",
       "    .dataframe tbody tr th {\n",
       "        vertical-align: top;\n",
       "    }\n",
       "\n",
       "    .dataframe thead th {\n",
       "        text-align: right;\n",
       "    }\n",
       "</style>\n",
       "<table border=\"1\" class=\"dataframe\">\n",
       "  <thead>\n",
       "    <tr style=\"text-align: right;\">\n",
       "      <th></th>\n",
       "      <th>A</th>\n",
       "      <th>B</th>\n",
       "      <th>C</th>\n",
       "      <th>D</th>\n",
       "      <th>E</th>\n",
       "      <th>F</th>\n",
       "    </tr>\n",
       "  </thead>\n",
       "  <tbody>\n",
       "    <tr>\n",
       "      <th>0</th>\n",
       "      <td>1.0</td>\n",
       "      <td>2013-01-02</td>\n",
       "      <td>1.0</td>\n",
       "      <td>3</td>\n",
       "      <td>test</td>\n",
       "      <td>foo</td>\n",
       "    </tr>\n",
       "    <tr>\n",
       "      <th>1</th>\n",
       "      <td>1.0</td>\n",
       "      <td>2013-01-02</td>\n",
       "      <td>1.0</td>\n",
       "      <td>3</td>\n",
       "      <td>train</td>\n",
       "      <td>foo</td>\n",
       "    </tr>\n",
       "    <tr>\n",
       "      <th>2</th>\n",
       "      <td>1.0</td>\n",
       "      <td>2013-01-02</td>\n",
       "      <td>1.0</td>\n",
       "      <td>3</td>\n",
       "      <td>test</td>\n",
       "      <td>foo</td>\n",
       "    </tr>\n",
       "    <tr>\n",
       "      <th>3</th>\n",
       "      <td>1.0</td>\n",
       "      <td>2013-01-02</td>\n",
       "      <td>1.0</td>\n",
       "      <td>3</td>\n",
       "      <td>train</td>\n",
       "      <td>foo</td>\n",
       "    </tr>\n",
       "  </tbody>\n",
       "</table>\n",
       "</div>"
      ],
      "text/plain": [
       "     A          B    C  D      E    F\n",
       "0  1.0 2013-01-02  1.0  3   test  foo\n",
       "1  1.0 2013-01-02  1.0  3  train  foo\n",
       "2  1.0 2013-01-02  1.0  3   test  foo\n",
       "3  1.0 2013-01-02  1.0  3  train  foo"
      ]
     },
     "execution_count": 8,
     "metadata": {},
     "output_type": "execute_result"
    }
   ],
   "source": [
    "df2 = pd.DataFrame({ 'A' : 1.,\n",
    "                      'B' : pd.Timestamp('20130102'),\n",
    "                     'C' : pd.Series(1,index=list(range(4)),dtype='float32'),\n",
    "                     'D' : np.array([3] * 4,dtype='int32'),\n",
    "                    'E' : pd.Categorical([\"test\",\"train\",\"test\",\"train\"]),\n",
    "                     'F' : 'foo' })\n",
    "df2"
   ]
  },
  {
   "cell_type": "code",
   "execution_count": 9,
   "metadata": {},
   "outputs": [
    {
     "data": {
      "text/plain": [
       "A           float64\n",
       "B    datetime64[ns]\n",
       "C           float32\n",
       "D             int32\n",
       "E          category\n",
       "F            object\n",
       "dtype: object"
      ]
     },
     "execution_count": 9,
     "metadata": {},
     "output_type": "execute_result"
    }
   ],
   "source": [
    "df2.dtypes"
   ]
  },
  {
   "cell_type": "markdown",
   "metadata": {},
   "source": [
    "If you’re using IPython, tab completion for column names (as well as public attributes) is automatically enabled. Here’s a subset of the attributes that will be completed:"
   ]
  },
  {
   "cell_type": "code",
   "execution_count": 10,
   "metadata": {
    "collapsed": true
   },
   "outputs": [],
   "source": [
    "# df2.<TAB>"
   ]
  },
  {
   "cell_type": "markdown",
   "metadata": {},
   "source": [
    "## Viewing Data"
   ]
  },
  {
   "cell_type": "code",
   "execution_count": 11,
   "metadata": {},
   "outputs": [
    {
     "name": "stdout",
     "output_type": "stream",
     "text": [
      "                   A         B         C         D\n",
      "2013-01-01 -1.160214 -0.637687  0.415407 -1.126719\n",
      "2013-01-02  1.397264  1.000028  0.185049  0.100107\n",
      "2013-01-03 -0.871407  1.186527  0.011804  0.798646\n",
      "2013-01-04 -0.321607 -0.840502  0.470652  0.326258\n",
      "2013-01-05  0.029710 -1.381047  0.672769  1.305278\n",
      "2013-01-06 -0.743113  0.202577  1.644859  1.400864\n",
      "----------------------------------------------------------------------------------------------------\n",
      "Empty DataFrame\n",
      "Columns: [A, B, C, D]\n",
      "Index: []\n",
      "0\n"
     ]
    }
   ],
   "source": [
    "df.head()\n",
    "print(df)\n",
    "print('-'*100)\n",
    "print(df[df['A']==2.0])\n",
    "print(len(df[df['A']==2.0]))"
   ]
  },
  {
   "cell_type": "code",
   "execution_count": 12,
   "metadata": {},
   "outputs": [
    {
     "data": {
      "text/html": [
       "<div>\n",
       "<style scoped>\n",
       "    .dataframe tbody tr th:only-of-type {\n",
       "        vertical-align: middle;\n",
       "    }\n",
       "\n",
       "    .dataframe tbody tr th {\n",
       "        vertical-align: top;\n",
       "    }\n",
       "\n",
       "    .dataframe thead th {\n",
       "        text-align: right;\n",
       "    }\n",
       "</style>\n",
       "<table border=\"1\" class=\"dataframe\">\n",
       "  <thead>\n",
       "    <tr style=\"text-align: right;\">\n",
       "      <th></th>\n",
       "      <th>A</th>\n",
       "      <th>B</th>\n",
       "      <th>C</th>\n",
       "      <th>D</th>\n",
       "    </tr>\n",
       "  </thead>\n",
       "  <tbody>\n",
       "    <tr>\n",
       "      <th>2013-01-04</th>\n",
       "      <td>-0.321607</td>\n",
       "      <td>-0.840502</td>\n",
       "      <td>0.470652</td>\n",
       "      <td>0.326258</td>\n",
       "    </tr>\n",
       "    <tr>\n",
       "      <th>2013-01-05</th>\n",
       "      <td>0.029710</td>\n",
       "      <td>-1.381047</td>\n",
       "      <td>0.672769</td>\n",
       "      <td>1.305278</td>\n",
       "    </tr>\n",
       "    <tr>\n",
       "      <th>2013-01-06</th>\n",
       "      <td>-0.743113</td>\n",
       "      <td>0.202577</td>\n",
       "      <td>1.644859</td>\n",
       "      <td>1.400864</td>\n",
       "    </tr>\n",
       "  </tbody>\n",
       "</table>\n",
       "</div>"
      ],
      "text/plain": [
       "                   A         B         C         D\n",
       "2013-01-04 -0.321607 -0.840502  0.470652  0.326258\n",
       "2013-01-05  0.029710 -1.381047  0.672769  1.305278\n",
       "2013-01-06 -0.743113  0.202577  1.644859  1.400864"
      ]
     },
     "execution_count": 12,
     "metadata": {},
     "output_type": "execute_result"
    }
   ],
   "source": [
    "df.tail(3)"
   ]
  },
  {
   "cell_type": "code",
   "execution_count": 16,
   "metadata": {},
   "outputs": [
    {
     "data": {
      "text/plain": [
       "DatetimeIndex(['2013-01-01', '2013-01-02', '2013-01-03', '2013-01-04',\n",
       "               '2013-01-05', '2013-01-06'],\n",
       "              dtype='datetime64[ns]', freq='D')"
      ]
     },
     "execution_count": 16,
     "metadata": {},
     "output_type": "execute_result"
    }
   ],
   "source": [
    "df.index"
   ]
  },
  {
   "cell_type": "code",
   "execution_count": 17,
   "metadata": {},
   "outputs": [
    {
     "data": {
      "text/plain": [
       "Index(['A', 'B', 'C', 'D'], dtype='object')"
      ]
     },
     "execution_count": 17,
     "metadata": {},
     "output_type": "execute_result"
    }
   ],
   "source": [
    "df.columns"
   ]
  },
  {
   "cell_type": "code",
   "execution_count": 18,
   "metadata": {},
   "outputs": [
    {
     "data": {
      "text/plain": [
       "array([[-1.16021397, -0.63768698,  0.41540734, -1.1267195 ],\n",
       "       [ 1.39726407,  1.00002797,  0.18504863,  0.10010738],\n",
       "       [-0.8714073 ,  1.18652694,  0.01180417,  0.79864568],\n",
       "       [-0.32160668, -0.84050175,  0.47065199,  0.32625822],\n",
       "       [ 0.02970967, -1.38104714,  0.67276898,  1.30527787],\n",
       "       [-0.74311348,  0.20257684,  1.64485851,  1.40086382]])"
      ]
     },
     "execution_count": 18,
     "metadata": {},
     "output_type": "execute_result"
    }
   ],
   "source": [
    "df.values"
   ]
  },
  {
   "cell_type": "code",
   "execution_count": 19,
   "metadata": {},
   "outputs": [
    {
     "data": {
      "text/html": [
       "<div>\n",
       "<style scoped>\n",
       "    .dataframe tbody tr th:only-of-type {\n",
       "        vertical-align: middle;\n",
       "    }\n",
       "\n",
       "    .dataframe tbody tr th {\n",
       "        vertical-align: top;\n",
       "    }\n",
       "\n",
       "    .dataframe thead th {\n",
       "        text-align: right;\n",
       "    }\n",
       "</style>\n",
       "<table border=\"1\" class=\"dataframe\">\n",
       "  <thead>\n",
       "    <tr style=\"text-align: right;\">\n",
       "      <th></th>\n",
       "      <th>A</th>\n",
       "      <th>B</th>\n",
       "      <th>C</th>\n",
       "      <th>D</th>\n",
       "    </tr>\n",
       "  </thead>\n",
       "  <tbody>\n",
       "    <tr>\n",
       "      <th>count</th>\n",
       "      <td>6.000000</td>\n",
       "      <td>6.000000</td>\n",
       "      <td>6.000000</td>\n",
       "      <td>6.000000</td>\n",
       "    </tr>\n",
       "    <tr>\n",
       "      <th>mean</th>\n",
       "      <td>-0.278228</td>\n",
       "      <td>-0.078351</td>\n",
       "      <td>0.566757</td>\n",
       "      <td>0.467406</td>\n",
       "    </tr>\n",
       "    <tr>\n",
       "      <th>std</th>\n",
       "      <td>0.921939</td>\n",
       "      <td>1.042352</td>\n",
       "      <td>0.576083</td>\n",
       "      <td>0.935859</td>\n",
       "    </tr>\n",
       "    <tr>\n",
       "      <th>min</th>\n",
       "      <td>-1.160214</td>\n",
       "      <td>-1.381047</td>\n",
       "      <td>0.011804</td>\n",
       "      <td>-1.126719</td>\n",
       "    </tr>\n",
       "    <tr>\n",
       "      <th>25%</th>\n",
       "      <td>-0.839334</td>\n",
       "      <td>-0.789798</td>\n",
       "      <td>0.242638</td>\n",
       "      <td>0.156645</td>\n",
       "    </tr>\n",
       "    <tr>\n",
       "      <th>50%</th>\n",
       "      <td>-0.532360</td>\n",
       "      <td>-0.217555</td>\n",
       "      <td>0.443030</td>\n",
       "      <td>0.562452</td>\n",
       "    </tr>\n",
       "    <tr>\n",
       "      <th>75%</th>\n",
       "      <td>-0.058119</td>\n",
       "      <td>0.800665</td>\n",
       "      <td>0.622240</td>\n",
       "      <td>1.178620</td>\n",
       "    </tr>\n",
       "    <tr>\n",
       "      <th>max</th>\n",
       "      <td>1.397264</td>\n",
       "      <td>1.186527</td>\n",
       "      <td>1.644859</td>\n",
       "      <td>1.400864</td>\n",
       "    </tr>\n",
       "  </tbody>\n",
       "</table>\n",
       "</div>"
      ],
      "text/plain": [
       "              A         B         C         D\n",
       "count  6.000000  6.000000  6.000000  6.000000\n",
       "mean  -0.278228 -0.078351  0.566757  0.467406\n",
       "std    0.921939  1.042352  0.576083  0.935859\n",
       "min   -1.160214 -1.381047  0.011804 -1.126719\n",
       "25%   -0.839334 -0.789798  0.242638  0.156645\n",
       "50%   -0.532360 -0.217555  0.443030  0.562452\n",
       "75%   -0.058119  0.800665  0.622240  1.178620\n",
       "max    1.397264  1.186527  1.644859  1.400864"
      ]
     },
     "execution_count": 19,
     "metadata": {},
     "output_type": "execute_result"
    }
   ],
   "source": [
    "df.describe()"
   ]
  },
  {
   "cell_type": "code",
   "execution_count": 20,
   "metadata": {},
   "outputs": [
    {
     "data": {
      "text/html": [
       "<div>\n",
       "<style scoped>\n",
       "    .dataframe tbody tr th:only-of-type {\n",
       "        vertical-align: middle;\n",
       "    }\n",
       "\n",
       "    .dataframe tbody tr th {\n",
       "        vertical-align: top;\n",
       "    }\n",
       "\n",
       "    .dataframe thead th {\n",
       "        text-align: right;\n",
       "    }\n",
       "</style>\n",
       "<table border=\"1\" class=\"dataframe\">\n",
       "  <thead>\n",
       "    <tr style=\"text-align: right;\">\n",
       "      <th></th>\n",
       "      <th>2013-01-01 00:00:00</th>\n",
       "      <th>2013-01-02 00:00:00</th>\n",
       "      <th>2013-01-03 00:00:00</th>\n",
       "      <th>2013-01-04 00:00:00</th>\n",
       "      <th>2013-01-05 00:00:00</th>\n",
       "      <th>2013-01-06 00:00:00</th>\n",
       "    </tr>\n",
       "  </thead>\n",
       "  <tbody>\n",
       "    <tr>\n",
       "      <th>A</th>\n",
       "      <td>-1.160214</td>\n",
       "      <td>1.397264</td>\n",
       "      <td>-0.871407</td>\n",
       "      <td>-0.321607</td>\n",
       "      <td>0.029710</td>\n",
       "      <td>-0.743113</td>\n",
       "    </tr>\n",
       "    <tr>\n",
       "      <th>B</th>\n",
       "      <td>-0.637687</td>\n",
       "      <td>1.000028</td>\n",
       "      <td>1.186527</td>\n",
       "      <td>-0.840502</td>\n",
       "      <td>-1.381047</td>\n",
       "      <td>0.202577</td>\n",
       "    </tr>\n",
       "    <tr>\n",
       "      <th>C</th>\n",
       "      <td>0.415407</td>\n",
       "      <td>0.185049</td>\n",
       "      <td>0.011804</td>\n",
       "      <td>0.470652</td>\n",
       "      <td>0.672769</td>\n",
       "      <td>1.644859</td>\n",
       "    </tr>\n",
       "    <tr>\n",
       "      <th>D</th>\n",
       "      <td>-1.126719</td>\n",
       "      <td>0.100107</td>\n",
       "      <td>0.798646</td>\n",
       "      <td>0.326258</td>\n",
       "      <td>1.305278</td>\n",
       "      <td>1.400864</td>\n",
       "    </tr>\n",
       "  </tbody>\n",
       "</table>\n",
       "</div>"
      ],
      "text/plain": [
       "   2013-01-01  2013-01-02  2013-01-03  2013-01-04  2013-01-05  2013-01-06\n",
       "A   -1.160214    1.397264   -0.871407   -0.321607    0.029710   -0.743113\n",
       "B   -0.637687    1.000028    1.186527   -0.840502   -1.381047    0.202577\n",
       "C    0.415407    0.185049    0.011804    0.470652    0.672769    1.644859\n",
       "D   -1.126719    0.100107    0.798646    0.326258    1.305278    1.400864"
      ]
     },
     "execution_count": 20,
     "metadata": {},
     "output_type": "execute_result"
    }
   ],
   "source": [
    "df.T"
   ]
  },
  {
   "cell_type": "code",
   "execution_count": 7,
   "metadata": {},
   "outputs": [
    {
     "data": {
      "text/html": [
       "<div>\n",
       "<style scoped>\n",
       "    .dataframe tbody tr th:only-of-type {\n",
       "        vertical-align: middle;\n",
       "    }\n",
       "\n",
       "    .dataframe tbody tr th {\n",
       "        vertical-align: top;\n",
       "    }\n",
       "\n",
       "    .dataframe thead th {\n",
       "        text-align: right;\n",
       "    }\n",
       "</style>\n",
       "<table border=\"1\" class=\"dataframe\">\n",
       "  <thead>\n",
       "    <tr style=\"text-align: right;\">\n",
       "      <th></th>\n",
       "      <th>C</th>\n",
       "      <th>B</th>\n",
       "      <th>A</th>\n",
       "    </tr>\n",
       "  </thead>\n",
       "  <tbody>\n",
       "    <tr>\n",
       "      <th>1</th>\n",
       "      <td>NaN</td>\n",
       "      <td>2</td>\n",
       "      <td>1</td>\n",
       "    </tr>\n",
       "    <tr>\n",
       "      <th>2</th>\n",
       "      <td>NaN</td>\n",
       "      <td>5</td>\n",
       "      <td>4</td>\n",
       "    </tr>\n",
       "  </tbody>\n",
       "</table>\n",
       "</div>"
      ],
      "text/plain": [
       "    C  B  A\n",
       "1 NaN  2  1\n",
       "2 NaN  5  4"
      ]
     },
     "execution_count": 7,
     "metadata": {},
     "output_type": "execute_result"
    }
   ],
   "source": [
    "df.sort_index(axis=1, ascending=False)"
   ]
  },
  {
   "cell_type": "code",
   "execution_count": 6,
   "metadata": {},
   "outputs": [
    {
     "data": {
      "text/html": [
       "<div>\n",
       "<style scoped>\n",
       "    .dataframe tbody tr th:only-of-type {\n",
       "        vertical-align: middle;\n",
       "    }\n",
       "\n",
       "    .dataframe tbody tr th {\n",
       "        vertical-align: top;\n",
       "    }\n",
       "\n",
       "    .dataframe thead th {\n",
       "        text-align: right;\n",
       "    }\n",
       "</style>\n",
       "<table border=\"1\" class=\"dataframe\">\n",
       "  <thead>\n",
       "    <tr style=\"text-align: right;\">\n",
       "      <th></th>\n",
       "      <th>A</th>\n",
       "      <th>B</th>\n",
       "      <th>C</th>\n",
       "    </tr>\n",
       "  </thead>\n",
       "  <tbody>\n",
       "    <tr>\n",
       "      <th>1</th>\n",
       "      <td>1</td>\n",
       "      <td>2</td>\n",
       "      <td>NaN</td>\n",
       "    </tr>\n",
       "    <tr>\n",
       "      <th>2</th>\n",
       "      <td>4</td>\n",
       "      <td>5</td>\n",
       "      <td>NaN</td>\n",
       "    </tr>\n",
       "  </tbody>\n",
       "</table>\n",
       "</div>"
      ],
      "text/plain": [
       "   A  B   C\n",
       "1  1  2 NaN\n",
       "2  4  5 NaN"
      ]
     },
     "execution_count": 6,
     "metadata": {},
     "output_type": "execute_result"
    }
   ],
   "source": [
    "df.sort_values(by='B')"
   ]
  },
  {
   "cell_type": "markdown",
   "metadata": {},
   "source": [
    "## Selection"
   ]
  },
  {
   "cell_type": "code",
   "execution_count": 23,
   "metadata": {},
   "outputs": [
    {
     "data": {
      "text/plain": [
       "2013-01-01   -1.160214\n",
       "2013-01-02    1.397264\n",
       "2013-01-03   -0.871407\n",
       "2013-01-04   -0.321607\n",
       "2013-01-05    0.029710\n",
       "2013-01-06   -0.743113\n",
       "Freq: D, Name: A, dtype: float64"
      ]
     },
     "execution_count": 23,
     "metadata": {},
     "output_type": "execute_result"
    }
   ],
   "source": [
    "df['A']"
   ]
  },
  {
   "cell_type": "code",
   "execution_count": 24,
   "metadata": {},
   "outputs": [
    {
     "data": {
      "text/plain": [
       "2013-01-01   -1.160214\n",
       "Freq: D, Name: A, dtype: float64"
      ]
     },
     "execution_count": 24,
     "metadata": {},
     "output_type": "execute_result"
    }
   ],
   "source": [
    "df[0:1][\"A\"]"
   ]
  },
  {
   "cell_type": "code",
   "execution_count": 25,
   "metadata": {},
   "outputs": [
    {
     "name": "stdout",
     "output_type": "stream",
     "text": [
      "                   A         B         C         D\n",
      "2013-01-01 -1.160214 -0.637687  0.415407 -1.126719\n",
      "2013-01-02  1.397264  1.000028  0.185049  0.100107\n",
      "2013-01-03 -0.871407  1.186527  0.011804  0.798646\n",
      "2013-01-04 -0.321607 -0.840502  0.470652  0.326258\n",
      "2013-01-05  0.029710 -1.381047  0.672769  1.305278\n",
      "2013-01-06 -0.743113  0.202577  1.644859  1.400864\n",
      "A   -0.743113\n",
      "B    0.202577\n",
      "C    1.644859\n",
      "D    1.400864\n",
      "Name: 2013-01-06 00:00:00, dtype: float64\n"
     ]
    }
   ],
   "source": [
    "print(df)\n",
    "print(df.iloc[-1])"
   ]
  },
  {
   "cell_type": "code",
   "execution_count": 26,
   "metadata": {},
   "outputs": [
    {
     "data": {
      "text/html": [
       "<div>\n",
       "<style scoped>\n",
       "    .dataframe tbody tr th:only-of-type {\n",
       "        vertical-align: middle;\n",
       "    }\n",
       "\n",
       "    .dataframe tbody tr th {\n",
       "        vertical-align: top;\n",
       "    }\n",
       "\n",
       "    .dataframe thead th {\n",
       "        text-align: right;\n",
       "    }\n",
       "</style>\n",
       "<table border=\"1\" class=\"dataframe\">\n",
       "  <thead>\n",
       "    <tr style=\"text-align: right;\">\n",
       "      <th></th>\n",
       "      <th>A</th>\n",
       "      <th>B</th>\n",
       "      <th>C</th>\n",
       "      <th>D</th>\n",
       "    </tr>\n",
       "  </thead>\n",
       "  <tbody>\n",
       "    <tr>\n",
       "      <th>2013-01-02</th>\n",
       "      <td>1.397264</td>\n",
       "      <td>1.000028</td>\n",
       "      <td>0.185049</td>\n",
       "      <td>0.100107</td>\n",
       "    </tr>\n",
       "    <tr>\n",
       "      <th>2013-01-03</th>\n",
       "      <td>-0.871407</td>\n",
       "      <td>1.186527</td>\n",
       "      <td>0.011804</td>\n",
       "      <td>0.798646</td>\n",
       "    </tr>\n",
       "    <tr>\n",
       "      <th>2013-01-04</th>\n",
       "      <td>-0.321607</td>\n",
       "      <td>-0.840502</td>\n",
       "      <td>0.470652</td>\n",
       "      <td>0.326258</td>\n",
       "    </tr>\n",
       "  </tbody>\n",
       "</table>\n",
       "</div>"
      ],
      "text/plain": [
       "                   A         B         C         D\n",
       "2013-01-02  1.397264  1.000028  0.185049  0.100107\n",
       "2013-01-03 -0.871407  1.186527  0.011804  0.798646\n",
       "2013-01-04 -0.321607 -0.840502  0.470652  0.326258"
      ]
     },
     "execution_count": 26,
     "metadata": {},
     "output_type": "execute_result"
    }
   ],
   "source": [
    "df['20130102':'20130104']"
   ]
  },
  {
   "cell_type": "markdown",
   "metadata": {},
   "source": [
    "## Selection by Label"
   ]
  },
  {
   "cell_type": "code",
   "execution_count": 27,
   "metadata": {},
   "outputs": [
    {
     "data": {
      "text/html": [
       "<div>\n",
       "<style scoped>\n",
       "    .dataframe tbody tr th:only-of-type {\n",
       "        vertical-align: middle;\n",
       "    }\n",
       "\n",
       "    .dataframe tbody tr th {\n",
       "        vertical-align: top;\n",
       "    }\n",
       "\n",
       "    .dataframe thead th {\n",
       "        text-align: right;\n",
       "    }\n",
       "</style>\n",
       "<table border=\"1\" class=\"dataframe\">\n",
       "  <thead>\n",
       "    <tr style=\"text-align: right;\">\n",
       "      <th></th>\n",
       "      <th>A</th>\n",
       "      <th>B</th>\n",
       "      <th>C</th>\n",
       "      <th>D</th>\n",
       "    </tr>\n",
       "  </thead>\n",
       "  <tbody>\n",
       "    <tr>\n",
       "      <th>2013-01-01</th>\n",
       "      <td>-1.160214</td>\n",
       "      <td>-0.637687</td>\n",
       "      <td>0.415407</td>\n",
       "      <td>-1.126719</td>\n",
       "    </tr>\n",
       "    <tr>\n",
       "      <th>2013-01-02</th>\n",
       "      <td>1.397264</td>\n",
       "      <td>1.000028</td>\n",
       "      <td>0.185049</td>\n",
       "      <td>0.100107</td>\n",
       "    </tr>\n",
       "  </tbody>\n",
       "</table>\n",
       "</div>"
      ],
      "text/plain": [
       "                   A         B         C         D\n",
       "2013-01-01 -1.160214 -0.637687  0.415407 -1.126719\n",
       "2013-01-02  1.397264  1.000028  0.185049  0.100107"
      ]
     },
     "execution_count": 27,
     "metadata": {},
     "output_type": "execute_result"
    }
   ],
   "source": [
    "df.loc[dates[0:2]]"
   ]
  },
  {
   "cell_type": "code",
   "execution_count": 28,
   "metadata": {},
   "outputs": [
    {
     "data": {
      "text/html": [
       "<div>\n",
       "<style scoped>\n",
       "    .dataframe tbody tr th:only-of-type {\n",
       "        vertical-align: middle;\n",
       "    }\n",
       "\n",
       "    .dataframe tbody tr th {\n",
       "        vertical-align: top;\n",
       "    }\n",
       "\n",
       "    .dataframe thead th {\n",
       "        text-align: right;\n",
       "    }\n",
       "</style>\n",
       "<table border=\"1\" class=\"dataframe\">\n",
       "  <thead>\n",
       "    <tr style=\"text-align: right;\">\n",
       "      <th></th>\n",
       "      <th>A</th>\n",
       "      <th>B</th>\n",
       "    </tr>\n",
       "  </thead>\n",
       "  <tbody>\n",
       "    <tr>\n",
       "      <th>2013-01-01</th>\n",
       "      <td>-1.160214</td>\n",
       "      <td>-0.637687</td>\n",
       "    </tr>\n",
       "    <tr>\n",
       "      <th>2013-01-02</th>\n",
       "      <td>1.397264</td>\n",
       "      <td>1.000028</td>\n",
       "    </tr>\n",
       "    <tr>\n",
       "      <th>2013-01-03</th>\n",
       "      <td>-0.871407</td>\n",
       "      <td>1.186527</td>\n",
       "    </tr>\n",
       "    <tr>\n",
       "      <th>2013-01-04</th>\n",
       "      <td>-0.321607</td>\n",
       "      <td>-0.840502</td>\n",
       "    </tr>\n",
       "    <tr>\n",
       "      <th>2013-01-05</th>\n",
       "      <td>0.029710</td>\n",
       "      <td>-1.381047</td>\n",
       "    </tr>\n",
       "    <tr>\n",
       "      <th>2013-01-06</th>\n",
       "      <td>-0.743113</td>\n",
       "      <td>0.202577</td>\n",
       "    </tr>\n",
       "  </tbody>\n",
       "</table>\n",
       "</div>"
      ],
      "text/plain": [
       "                   A         B\n",
       "2013-01-01 -1.160214 -0.637687\n",
       "2013-01-02  1.397264  1.000028\n",
       "2013-01-03 -0.871407  1.186527\n",
       "2013-01-04 -0.321607 -0.840502\n",
       "2013-01-05  0.029710 -1.381047\n",
       "2013-01-06 -0.743113  0.202577"
      ]
     },
     "execution_count": 28,
     "metadata": {},
     "output_type": "execute_result"
    }
   ],
   "source": [
    "df.loc[:,['A','B']]"
   ]
  },
  {
   "cell_type": "code",
   "execution_count": 29,
   "metadata": {},
   "outputs": [
    {
     "data": {
      "text/html": [
       "<div>\n",
       "<style scoped>\n",
       "    .dataframe tbody tr th:only-of-type {\n",
       "        vertical-align: middle;\n",
       "    }\n",
       "\n",
       "    .dataframe tbody tr th {\n",
       "        vertical-align: top;\n",
       "    }\n",
       "\n",
       "    .dataframe thead th {\n",
       "        text-align: right;\n",
       "    }\n",
       "</style>\n",
       "<table border=\"1\" class=\"dataframe\">\n",
       "  <thead>\n",
       "    <tr style=\"text-align: right;\">\n",
       "      <th></th>\n",
       "      <th>A</th>\n",
       "      <th>B</th>\n",
       "    </tr>\n",
       "  </thead>\n",
       "  <tbody>\n",
       "    <tr>\n",
       "      <th>2013-01-02</th>\n",
       "      <td>1.397264</td>\n",
       "      <td>1.000028</td>\n",
       "    </tr>\n",
       "    <tr>\n",
       "      <th>2013-01-03</th>\n",
       "      <td>-0.871407</td>\n",
       "      <td>1.186527</td>\n",
       "    </tr>\n",
       "    <tr>\n",
       "      <th>2013-01-04</th>\n",
       "      <td>-0.321607</td>\n",
       "      <td>-0.840502</td>\n",
       "    </tr>\n",
       "  </tbody>\n",
       "</table>\n",
       "</div>"
      ],
      "text/plain": [
       "                   A         B\n",
       "2013-01-02  1.397264  1.000028\n",
       "2013-01-03 -0.871407  1.186527\n",
       "2013-01-04 -0.321607 -0.840502"
      ]
     },
     "execution_count": 29,
     "metadata": {},
     "output_type": "execute_result"
    }
   ],
   "source": [
    "df.loc['20130102':'20130104',['A','B']]"
   ]
  },
  {
   "cell_type": "code",
   "execution_count": 30,
   "metadata": {},
   "outputs": [
    {
     "data": {
      "text/plain": [
       "A    1.397264\n",
       "B    1.000028\n",
       "Name: 2013-01-02 00:00:00, dtype: float64"
      ]
     },
     "execution_count": 30,
     "metadata": {},
     "output_type": "execute_result"
    }
   ],
   "source": [
    "df.loc['20130102',['A','B']]"
   ]
  },
  {
   "cell_type": "code",
   "execution_count": 31,
   "metadata": {},
   "outputs": [
    {
     "data": {
      "text/plain": [
       "-1.1602139709911796"
      ]
     },
     "execution_count": 31,
     "metadata": {},
     "output_type": "execute_result"
    }
   ],
   "source": [
    "df.loc[dates[0],'A']"
   ]
  },
  {
   "cell_type": "code",
   "execution_count": 32,
   "metadata": {},
   "outputs": [
    {
     "data": {
      "text/plain": [
       "-1.1602139709911796"
      ]
     },
     "execution_count": 32,
     "metadata": {},
     "output_type": "execute_result"
    }
   ],
   "source": [
    "df.at[dates[0],'A']"
   ]
  },
  {
   "cell_type": "markdown",
   "metadata": {},
   "source": [
    "## Selection by Position"
   ]
  },
  {
   "cell_type": "code",
   "execution_count": 33,
   "metadata": {},
   "outputs": [
    {
     "data": {
      "text/plain": [
       "A   -0.321607\n",
       "B   -0.840502\n",
       "C    0.470652\n",
       "D    0.326258\n",
       "Name: 2013-01-04 00:00:00, dtype: float64"
      ]
     },
     "execution_count": 33,
     "metadata": {},
     "output_type": "execute_result"
    }
   ],
   "source": [
    "df.iloc[3]"
   ]
  },
  {
   "cell_type": "code",
   "execution_count": 34,
   "metadata": {},
   "outputs": [
    {
     "data": {
      "text/html": [
       "<div>\n",
       "<style scoped>\n",
       "    .dataframe tbody tr th:only-of-type {\n",
       "        vertical-align: middle;\n",
       "    }\n",
       "\n",
       "    .dataframe tbody tr th {\n",
       "        vertical-align: top;\n",
       "    }\n",
       "\n",
       "    .dataframe thead th {\n",
       "        text-align: right;\n",
       "    }\n",
       "</style>\n",
       "<table border=\"1\" class=\"dataframe\">\n",
       "  <thead>\n",
       "    <tr style=\"text-align: right;\">\n",
       "      <th></th>\n",
       "      <th>A</th>\n",
       "      <th>B</th>\n",
       "    </tr>\n",
       "  </thead>\n",
       "  <tbody>\n",
       "    <tr>\n",
       "      <th>2013-01-04</th>\n",
       "      <td>-0.321607</td>\n",
       "      <td>-0.840502</td>\n",
       "    </tr>\n",
       "    <tr>\n",
       "      <th>2013-01-05</th>\n",
       "      <td>0.029710</td>\n",
       "      <td>-1.381047</td>\n",
       "    </tr>\n",
       "  </tbody>\n",
       "</table>\n",
       "</div>"
      ],
      "text/plain": [
       "                   A         B\n",
       "2013-01-04 -0.321607 -0.840502\n",
       "2013-01-05  0.029710 -1.381047"
      ]
     },
     "execution_count": 34,
     "metadata": {},
     "output_type": "execute_result"
    }
   ],
   "source": [
    "df.iloc[3:5,0:2]"
   ]
  },
  {
   "cell_type": "code",
   "execution_count": 35,
   "metadata": {},
   "outputs": [
    {
     "data": {
      "text/html": [
       "<div>\n",
       "<style scoped>\n",
       "    .dataframe tbody tr th:only-of-type {\n",
       "        vertical-align: middle;\n",
       "    }\n",
       "\n",
       "    .dataframe tbody tr th {\n",
       "        vertical-align: top;\n",
       "    }\n",
       "\n",
       "    .dataframe thead th {\n",
       "        text-align: right;\n",
       "    }\n",
       "</style>\n",
       "<table border=\"1\" class=\"dataframe\">\n",
       "  <thead>\n",
       "    <tr style=\"text-align: right;\">\n",
       "      <th></th>\n",
       "      <th>A</th>\n",
       "      <th>C</th>\n",
       "    </tr>\n",
       "  </thead>\n",
       "  <tbody>\n",
       "    <tr>\n",
       "      <th>2013-01-02</th>\n",
       "      <td>1.397264</td>\n",
       "      <td>0.185049</td>\n",
       "    </tr>\n",
       "    <tr>\n",
       "      <th>2013-01-03</th>\n",
       "      <td>-0.871407</td>\n",
       "      <td>0.011804</td>\n",
       "    </tr>\n",
       "    <tr>\n",
       "      <th>2013-01-05</th>\n",
       "      <td>0.029710</td>\n",
       "      <td>0.672769</td>\n",
       "    </tr>\n",
       "  </tbody>\n",
       "</table>\n",
       "</div>"
      ],
      "text/plain": [
       "                   A         C\n",
       "2013-01-02  1.397264  0.185049\n",
       "2013-01-03 -0.871407  0.011804\n",
       "2013-01-05  0.029710  0.672769"
      ]
     },
     "execution_count": 35,
     "metadata": {},
     "output_type": "execute_result"
    }
   ],
   "source": [
    "df.iloc[[1,2,4],[0,2]]"
   ]
  },
  {
   "cell_type": "code",
   "execution_count": 36,
   "metadata": {},
   "outputs": [
    {
     "data": {
      "text/html": [
       "<div>\n",
       "<style scoped>\n",
       "    .dataframe tbody tr th:only-of-type {\n",
       "        vertical-align: middle;\n",
       "    }\n",
       "\n",
       "    .dataframe tbody tr th {\n",
       "        vertical-align: top;\n",
       "    }\n",
       "\n",
       "    .dataframe thead th {\n",
       "        text-align: right;\n",
       "    }\n",
       "</style>\n",
       "<table border=\"1\" class=\"dataframe\">\n",
       "  <thead>\n",
       "    <tr style=\"text-align: right;\">\n",
       "      <th></th>\n",
       "      <th>A</th>\n",
       "      <th>B</th>\n",
       "      <th>C</th>\n",
       "      <th>D</th>\n",
       "    </tr>\n",
       "  </thead>\n",
       "  <tbody>\n",
       "    <tr>\n",
       "      <th>2013-01-02</th>\n",
       "      <td>1.397264</td>\n",
       "      <td>1.000028</td>\n",
       "      <td>0.185049</td>\n",
       "      <td>0.100107</td>\n",
       "    </tr>\n",
       "    <tr>\n",
       "      <th>2013-01-03</th>\n",
       "      <td>-0.871407</td>\n",
       "      <td>1.186527</td>\n",
       "      <td>0.011804</td>\n",
       "      <td>0.798646</td>\n",
       "    </tr>\n",
       "  </tbody>\n",
       "</table>\n",
       "</div>"
      ],
      "text/plain": [
       "                   A         B         C         D\n",
       "2013-01-02  1.397264  1.000028  0.185049  0.100107\n",
       "2013-01-03 -0.871407  1.186527  0.011804  0.798646"
      ]
     },
     "execution_count": 36,
     "metadata": {},
     "output_type": "execute_result"
    }
   ],
   "source": [
    "df.iloc[1:3,:]"
   ]
  },
  {
   "cell_type": "code",
   "execution_count": 37,
   "metadata": {},
   "outputs": [
    {
     "data": {
      "text/plain": [
       "1.0000279695576237"
      ]
     },
     "execution_count": 37,
     "metadata": {},
     "output_type": "execute_result"
    }
   ],
   "source": [
    "df.iloc[1,1]"
   ]
  },
  {
   "cell_type": "markdown",
   "metadata": {},
   "source": [
    "For getting fast access to a scalar (equiv to the prior method)"
   ]
  },
  {
   "cell_type": "code",
   "execution_count": 38,
   "metadata": {},
   "outputs": [
    {
     "data": {
      "text/plain": [
       "1.0000279695576237"
      ]
     },
     "execution_count": 38,
     "metadata": {},
     "output_type": "execute_result"
    }
   ],
   "source": [
    "df.iat[1,1]"
   ]
  },
  {
   "cell_type": "markdown",
   "metadata": {},
   "source": [
    "## Boolean Indexing"
   ]
  },
  {
   "cell_type": "code",
   "execution_count": 39,
   "metadata": {},
   "outputs": [
    {
     "data": {
      "text/html": [
       "<div>\n",
       "<style scoped>\n",
       "    .dataframe tbody tr th:only-of-type {\n",
       "        vertical-align: middle;\n",
       "    }\n",
       "\n",
       "    .dataframe tbody tr th {\n",
       "        vertical-align: top;\n",
       "    }\n",
       "\n",
       "    .dataframe thead th {\n",
       "        text-align: right;\n",
       "    }\n",
       "</style>\n",
       "<table border=\"1\" class=\"dataframe\">\n",
       "  <thead>\n",
       "    <tr style=\"text-align: right;\">\n",
       "      <th></th>\n",
       "      <th>A</th>\n",
       "      <th>B</th>\n",
       "      <th>C</th>\n",
       "      <th>D</th>\n",
       "    </tr>\n",
       "  </thead>\n",
       "  <tbody>\n",
       "    <tr>\n",
       "      <th>2013-01-02</th>\n",
       "      <td>1.397264</td>\n",
       "      <td>1.000028</td>\n",
       "      <td>0.185049</td>\n",
       "      <td>0.100107</td>\n",
       "    </tr>\n",
       "    <tr>\n",
       "      <th>2013-01-05</th>\n",
       "      <td>0.029710</td>\n",
       "      <td>-1.381047</td>\n",
       "      <td>0.672769</td>\n",
       "      <td>1.305278</td>\n",
       "    </tr>\n",
       "  </tbody>\n",
       "</table>\n",
       "</div>"
      ],
      "text/plain": [
       "                   A         B         C         D\n",
       "2013-01-02  1.397264  1.000028  0.185049  0.100107\n",
       "2013-01-05  0.029710 -1.381047  0.672769  1.305278"
      ]
     },
     "execution_count": 39,
     "metadata": {},
     "output_type": "execute_result"
    }
   ],
   "source": [
    "df[df.A > 0]"
   ]
  },
  {
   "cell_type": "code",
   "execution_count": 40,
   "metadata": {},
   "outputs": [
    {
     "data": {
      "text/html": [
       "<div>\n",
       "<style scoped>\n",
       "    .dataframe tbody tr th:only-of-type {\n",
       "        vertical-align: middle;\n",
       "    }\n",
       "\n",
       "    .dataframe tbody tr th {\n",
       "        vertical-align: top;\n",
       "    }\n",
       "\n",
       "    .dataframe thead th {\n",
       "        text-align: right;\n",
       "    }\n",
       "</style>\n",
       "<table border=\"1\" class=\"dataframe\">\n",
       "  <thead>\n",
       "    <tr style=\"text-align: right;\">\n",
       "      <th></th>\n",
       "      <th>A</th>\n",
       "      <th>B</th>\n",
       "      <th>C</th>\n",
       "      <th>D</th>\n",
       "    </tr>\n",
       "  </thead>\n",
       "  <tbody>\n",
       "    <tr>\n",
       "      <th>2013-01-01</th>\n",
       "      <td>NaN</td>\n",
       "      <td>NaN</td>\n",
       "      <td>0.415407</td>\n",
       "      <td>NaN</td>\n",
       "    </tr>\n",
       "    <tr>\n",
       "      <th>2013-01-02</th>\n",
       "      <td>1.397264</td>\n",
       "      <td>1.000028</td>\n",
       "      <td>0.185049</td>\n",
       "      <td>0.100107</td>\n",
       "    </tr>\n",
       "    <tr>\n",
       "      <th>2013-01-03</th>\n",
       "      <td>NaN</td>\n",
       "      <td>1.186527</td>\n",
       "      <td>0.011804</td>\n",
       "      <td>0.798646</td>\n",
       "    </tr>\n",
       "    <tr>\n",
       "      <th>2013-01-04</th>\n",
       "      <td>NaN</td>\n",
       "      <td>NaN</td>\n",
       "      <td>0.470652</td>\n",
       "      <td>0.326258</td>\n",
       "    </tr>\n",
       "    <tr>\n",
       "      <th>2013-01-05</th>\n",
       "      <td>0.029710</td>\n",
       "      <td>NaN</td>\n",
       "      <td>0.672769</td>\n",
       "      <td>1.305278</td>\n",
       "    </tr>\n",
       "    <tr>\n",
       "      <th>2013-01-06</th>\n",
       "      <td>NaN</td>\n",
       "      <td>0.202577</td>\n",
       "      <td>1.644859</td>\n",
       "      <td>1.400864</td>\n",
       "    </tr>\n",
       "  </tbody>\n",
       "</table>\n",
       "</div>"
      ],
      "text/plain": [
       "                   A         B         C         D\n",
       "2013-01-01       NaN       NaN  0.415407       NaN\n",
       "2013-01-02  1.397264  1.000028  0.185049  0.100107\n",
       "2013-01-03       NaN  1.186527  0.011804  0.798646\n",
       "2013-01-04       NaN       NaN  0.470652  0.326258\n",
       "2013-01-05  0.029710       NaN  0.672769  1.305278\n",
       "2013-01-06       NaN  0.202577  1.644859  1.400864"
      ]
     },
     "execution_count": 40,
     "metadata": {},
     "output_type": "execute_result"
    }
   ],
   "source": [
    "df[df > 0]"
   ]
  },
  {
   "cell_type": "code",
   "execution_count": 41,
   "metadata": {
    "collapsed": true
   },
   "outputs": [],
   "source": [
    "df2 = df.copy()"
   ]
  },
  {
   "cell_type": "code",
   "execution_count": 42,
   "metadata": {},
   "outputs": [
    {
     "data": {
      "text/html": [
       "<div>\n",
       "<style scoped>\n",
       "    .dataframe tbody tr th:only-of-type {\n",
       "        vertical-align: middle;\n",
       "    }\n",
       "\n",
       "    .dataframe tbody tr th {\n",
       "        vertical-align: top;\n",
       "    }\n",
       "\n",
       "    .dataframe thead th {\n",
       "        text-align: right;\n",
       "    }\n",
       "</style>\n",
       "<table border=\"1\" class=\"dataframe\">\n",
       "  <thead>\n",
       "    <tr style=\"text-align: right;\">\n",
       "      <th></th>\n",
       "      <th>A</th>\n",
       "      <th>B</th>\n",
       "      <th>C</th>\n",
       "      <th>D</th>\n",
       "      <th>E</th>\n",
       "    </tr>\n",
       "  </thead>\n",
       "  <tbody>\n",
       "    <tr>\n",
       "      <th>2013-01-01</th>\n",
       "      <td>-1.160214</td>\n",
       "      <td>-0.637687</td>\n",
       "      <td>0.415407</td>\n",
       "      <td>-1.126719</td>\n",
       "      <td>one</td>\n",
       "    </tr>\n",
       "    <tr>\n",
       "      <th>2013-01-02</th>\n",
       "      <td>1.397264</td>\n",
       "      <td>1.000028</td>\n",
       "      <td>0.185049</td>\n",
       "      <td>0.100107</td>\n",
       "      <td>one</td>\n",
       "    </tr>\n",
       "    <tr>\n",
       "      <th>2013-01-03</th>\n",
       "      <td>-0.871407</td>\n",
       "      <td>1.186527</td>\n",
       "      <td>0.011804</td>\n",
       "      <td>0.798646</td>\n",
       "      <td>two</td>\n",
       "    </tr>\n",
       "    <tr>\n",
       "      <th>2013-01-04</th>\n",
       "      <td>-0.321607</td>\n",
       "      <td>-0.840502</td>\n",
       "      <td>0.470652</td>\n",
       "      <td>0.326258</td>\n",
       "      <td>three</td>\n",
       "    </tr>\n",
       "    <tr>\n",
       "      <th>2013-01-05</th>\n",
       "      <td>0.029710</td>\n",
       "      <td>-1.381047</td>\n",
       "      <td>0.672769</td>\n",
       "      <td>1.305278</td>\n",
       "      <td>four</td>\n",
       "    </tr>\n",
       "    <tr>\n",
       "      <th>2013-01-06</th>\n",
       "      <td>-0.743113</td>\n",
       "      <td>0.202577</td>\n",
       "      <td>1.644859</td>\n",
       "      <td>1.400864</td>\n",
       "      <td>three</td>\n",
       "    </tr>\n",
       "  </tbody>\n",
       "</table>\n",
       "</div>"
      ],
      "text/plain": [
       "                   A         B         C         D      E\n",
       "2013-01-01 -1.160214 -0.637687  0.415407 -1.126719    one\n",
       "2013-01-02  1.397264  1.000028  0.185049  0.100107    one\n",
       "2013-01-03 -0.871407  1.186527  0.011804  0.798646    two\n",
       "2013-01-04 -0.321607 -0.840502  0.470652  0.326258  three\n",
       "2013-01-05  0.029710 -1.381047  0.672769  1.305278   four\n",
       "2013-01-06 -0.743113  0.202577  1.644859  1.400864  three"
      ]
     },
     "execution_count": 42,
     "metadata": {},
     "output_type": "execute_result"
    }
   ],
   "source": [
    "df2['E'] = ['one', 'one','two','three','four','three']\n",
    "df2"
   ]
  },
  {
   "cell_type": "code",
   "execution_count": 43,
   "metadata": {},
   "outputs": [
    {
     "data": {
      "text/html": [
       "<div>\n",
       "<style scoped>\n",
       "    .dataframe tbody tr th:only-of-type {\n",
       "        vertical-align: middle;\n",
       "    }\n",
       "\n",
       "    .dataframe tbody tr th {\n",
       "        vertical-align: top;\n",
       "    }\n",
       "\n",
       "    .dataframe thead th {\n",
       "        text-align: right;\n",
       "    }\n",
       "</style>\n",
       "<table border=\"1\" class=\"dataframe\">\n",
       "  <thead>\n",
       "    <tr style=\"text-align: right;\">\n",
       "      <th></th>\n",
       "      <th>A</th>\n",
       "      <th>B</th>\n",
       "      <th>C</th>\n",
       "      <th>D</th>\n",
       "      <th>E</th>\n",
       "    </tr>\n",
       "  </thead>\n",
       "  <tbody>\n",
       "    <tr>\n",
       "      <th>2013-01-03</th>\n",
       "      <td>-0.871407</td>\n",
       "      <td>1.186527</td>\n",
       "      <td>0.011804</td>\n",
       "      <td>0.798646</td>\n",
       "      <td>two</td>\n",
       "    </tr>\n",
       "    <tr>\n",
       "      <th>2013-01-05</th>\n",
       "      <td>0.029710</td>\n",
       "      <td>-1.381047</td>\n",
       "      <td>0.672769</td>\n",
       "      <td>1.305278</td>\n",
       "      <td>four</td>\n",
       "    </tr>\n",
       "  </tbody>\n",
       "</table>\n",
       "</div>"
      ],
      "text/plain": [
       "                   A         B         C         D     E\n",
       "2013-01-03 -0.871407  1.186527  0.011804  0.798646   two\n",
       "2013-01-05  0.029710 -1.381047  0.672769  1.305278  four"
      ]
     },
     "execution_count": 43,
     "metadata": {},
     "output_type": "execute_result"
    }
   ],
   "source": [
    "df2[df2['E'].isin(['two','four'])]"
   ]
  },
  {
   "cell_type": "markdown",
   "metadata": {},
   "source": [
    "## Setting"
   ]
  },
  {
   "cell_type": "code",
   "execution_count": 44,
   "metadata": {},
   "outputs": [
    {
     "data": {
      "text/plain": [
       "2013-01-02    1\n",
       "2013-01-03    2\n",
       "2013-01-04    3\n",
       "2013-01-05    4\n",
       "2013-01-06    5\n",
       "2013-01-07    6\n",
       "Freq: D, dtype: int64"
      ]
     },
     "execution_count": 44,
     "metadata": {},
     "output_type": "execute_result"
    }
   ],
   "source": [
    "s1 = pd.Series([1,2,3,4,5,6], index=pd.date_range('20130102', periods=6))\n",
    "s1"
   ]
  },
  {
   "cell_type": "code",
   "execution_count": 45,
   "metadata": {
    "collapsed": true
   },
   "outputs": [],
   "source": [
    "#Setting values by label\n",
    "df.at[dates[0],'A'] = 0"
   ]
  },
  {
   "cell_type": "code",
   "execution_count": 46,
   "metadata": {
    "collapsed": true
   },
   "outputs": [],
   "source": [
    "#Setting values by position\n",
    "df.iat[0,1] = 0"
   ]
  },
  {
   "cell_type": "code",
   "execution_count": 47,
   "metadata": {
    "collapsed": true
   },
   "outputs": [],
   "source": [
    "df.loc[:,'D'] = np.array([5] * len(df))"
   ]
  },
  {
   "cell_type": "code",
   "execution_count": 48,
   "metadata": {},
   "outputs": [
    {
     "data": {
      "text/html": [
       "<div>\n",
       "<style scoped>\n",
       "    .dataframe tbody tr th:only-of-type {\n",
       "        vertical-align: middle;\n",
       "    }\n",
       "\n",
       "    .dataframe tbody tr th {\n",
       "        vertical-align: top;\n",
       "    }\n",
       "\n",
       "    .dataframe thead th {\n",
       "        text-align: right;\n",
       "    }\n",
       "</style>\n",
       "<table border=\"1\" class=\"dataframe\">\n",
       "  <thead>\n",
       "    <tr style=\"text-align: right;\">\n",
       "      <th></th>\n",
       "      <th>A</th>\n",
       "      <th>B</th>\n",
       "      <th>C</th>\n",
       "      <th>D</th>\n",
       "    </tr>\n",
       "  </thead>\n",
       "  <tbody>\n",
       "    <tr>\n",
       "      <th>2013-01-01</th>\n",
       "      <td>0.000000</td>\n",
       "      <td>0.000000</td>\n",
       "      <td>0.415407</td>\n",
       "      <td>5</td>\n",
       "    </tr>\n",
       "    <tr>\n",
       "      <th>2013-01-02</th>\n",
       "      <td>1.397264</td>\n",
       "      <td>1.000028</td>\n",
       "      <td>0.185049</td>\n",
       "      <td>5</td>\n",
       "    </tr>\n",
       "    <tr>\n",
       "      <th>2013-01-03</th>\n",
       "      <td>-0.871407</td>\n",
       "      <td>1.186527</td>\n",
       "      <td>0.011804</td>\n",
       "      <td>5</td>\n",
       "    </tr>\n",
       "    <tr>\n",
       "      <th>2013-01-04</th>\n",
       "      <td>-0.321607</td>\n",
       "      <td>-0.840502</td>\n",
       "      <td>0.470652</td>\n",
       "      <td>5</td>\n",
       "    </tr>\n",
       "    <tr>\n",
       "      <th>2013-01-05</th>\n",
       "      <td>0.029710</td>\n",
       "      <td>-1.381047</td>\n",
       "      <td>0.672769</td>\n",
       "      <td>5</td>\n",
       "    </tr>\n",
       "    <tr>\n",
       "      <th>2013-01-06</th>\n",
       "      <td>-0.743113</td>\n",
       "      <td>0.202577</td>\n",
       "      <td>1.644859</td>\n",
       "      <td>5</td>\n",
       "    </tr>\n",
       "  </tbody>\n",
       "</table>\n",
       "</div>"
      ],
      "text/plain": [
       "                   A         B         C  D\n",
       "2013-01-01  0.000000  0.000000  0.415407  5\n",
       "2013-01-02  1.397264  1.000028  0.185049  5\n",
       "2013-01-03 -0.871407  1.186527  0.011804  5\n",
       "2013-01-04 -0.321607 -0.840502  0.470652  5\n",
       "2013-01-05  0.029710 -1.381047  0.672769  5\n",
       "2013-01-06 -0.743113  0.202577  1.644859  5"
      ]
     },
     "execution_count": 48,
     "metadata": {},
     "output_type": "execute_result"
    }
   ],
   "source": [
    "df"
   ]
  },
  {
   "cell_type": "code",
   "execution_count": 49,
   "metadata": {},
   "outputs": [
    {
     "data": {
      "text/html": [
       "<div>\n",
       "<style scoped>\n",
       "    .dataframe tbody tr th:only-of-type {\n",
       "        vertical-align: middle;\n",
       "    }\n",
       "\n",
       "    .dataframe tbody tr th {\n",
       "        vertical-align: top;\n",
       "    }\n",
       "\n",
       "    .dataframe thead th {\n",
       "        text-align: right;\n",
       "    }\n",
       "</style>\n",
       "<table border=\"1\" class=\"dataframe\">\n",
       "  <thead>\n",
       "    <tr style=\"text-align: right;\">\n",
       "      <th></th>\n",
       "      <th>A</th>\n",
       "      <th>B</th>\n",
       "      <th>C</th>\n",
       "      <th>D</th>\n",
       "    </tr>\n",
       "  </thead>\n",
       "  <tbody>\n",
       "    <tr>\n",
       "      <th>2013-01-01</th>\n",
       "      <td>0.000000</td>\n",
       "      <td>0.000000</td>\n",
       "      <td>-0.415407</td>\n",
       "      <td>-5</td>\n",
       "    </tr>\n",
       "    <tr>\n",
       "      <th>2013-01-02</th>\n",
       "      <td>-1.397264</td>\n",
       "      <td>-1.000028</td>\n",
       "      <td>-0.185049</td>\n",
       "      <td>-5</td>\n",
       "    </tr>\n",
       "    <tr>\n",
       "      <th>2013-01-03</th>\n",
       "      <td>-0.871407</td>\n",
       "      <td>-1.186527</td>\n",
       "      <td>-0.011804</td>\n",
       "      <td>-5</td>\n",
       "    </tr>\n",
       "    <tr>\n",
       "      <th>2013-01-04</th>\n",
       "      <td>-0.321607</td>\n",
       "      <td>-0.840502</td>\n",
       "      <td>-0.470652</td>\n",
       "      <td>-5</td>\n",
       "    </tr>\n",
       "    <tr>\n",
       "      <th>2013-01-05</th>\n",
       "      <td>-0.029710</td>\n",
       "      <td>-1.381047</td>\n",
       "      <td>-0.672769</td>\n",
       "      <td>-5</td>\n",
       "    </tr>\n",
       "    <tr>\n",
       "      <th>2013-01-06</th>\n",
       "      <td>-0.743113</td>\n",
       "      <td>-0.202577</td>\n",
       "      <td>-1.644859</td>\n",
       "      <td>-5</td>\n",
       "    </tr>\n",
       "  </tbody>\n",
       "</table>\n",
       "</div>"
      ],
      "text/plain": [
       "                   A         B         C  D\n",
       "2013-01-01  0.000000  0.000000 -0.415407 -5\n",
       "2013-01-02 -1.397264 -1.000028 -0.185049 -5\n",
       "2013-01-03 -0.871407 -1.186527 -0.011804 -5\n",
       "2013-01-04 -0.321607 -0.840502 -0.470652 -5\n",
       "2013-01-05 -0.029710 -1.381047 -0.672769 -5\n",
       "2013-01-06 -0.743113 -0.202577 -1.644859 -5"
      ]
     },
     "execution_count": 49,
     "metadata": {},
     "output_type": "execute_result"
    }
   ],
   "source": [
    "#A where operation with setting.\n",
    "df2 = df.copy()\n",
    "df2[df2 > 0] = -df2\n",
    "df2"
   ]
  },
  {
   "cell_type": "markdown",
   "metadata": {},
   "source": [
    "## Missing Data"
   ]
  },
  {
   "cell_type": "code",
   "execution_count": 50,
   "metadata": {},
   "outputs": [
    {
     "data": {
      "text/html": [
       "<div>\n",
       "<style scoped>\n",
       "    .dataframe tbody tr th:only-of-type {\n",
       "        vertical-align: middle;\n",
       "    }\n",
       "\n",
       "    .dataframe tbody tr th {\n",
       "        vertical-align: top;\n",
       "    }\n",
       "\n",
       "    .dataframe thead th {\n",
       "        text-align: right;\n",
       "    }\n",
       "</style>\n",
       "<table border=\"1\" class=\"dataframe\">\n",
       "  <thead>\n",
       "    <tr style=\"text-align: right;\">\n",
       "      <th></th>\n",
       "      <th>A</th>\n",
       "      <th>B</th>\n",
       "      <th>C</th>\n",
       "      <th>D</th>\n",
       "      <th>E</th>\n",
       "    </tr>\n",
       "  </thead>\n",
       "  <tbody>\n",
       "    <tr>\n",
       "      <th>2013-01-01</th>\n",
       "      <td>0.000000</td>\n",
       "      <td>0.000000</td>\n",
       "      <td>0.415407</td>\n",
       "      <td>5</td>\n",
       "      <td>NaN</td>\n",
       "    </tr>\n",
       "    <tr>\n",
       "      <th>2013-01-02</th>\n",
       "      <td>1.397264</td>\n",
       "      <td>1.000028</td>\n",
       "      <td>0.185049</td>\n",
       "      <td>5</td>\n",
       "      <td>NaN</td>\n",
       "    </tr>\n",
       "    <tr>\n",
       "      <th>2013-01-03</th>\n",
       "      <td>-0.871407</td>\n",
       "      <td>1.186527</td>\n",
       "      <td>0.011804</td>\n",
       "      <td>5</td>\n",
       "      <td>NaN</td>\n",
       "    </tr>\n",
       "    <tr>\n",
       "      <th>2013-01-04</th>\n",
       "      <td>-0.321607</td>\n",
       "      <td>-0.840502</td>\n",
       "      <td>0.470652</td>\n",
       "      <td>5</td>\n",
       "      <td>NaN</td>\n",
       "    </tr>\n",
       "  </tbody>\n",
       "</table>\n",
       "</div>"
      ],
      "text/plain": [
       "                   A         B         C  D   E\n",
       "2013-01-01  0.000000  0.000000  0.415407  5 NaN\n",
       "2013-01-02  1.397264  1.000028  0.185049  5 NaN\n",
       "2013-01-03 -0.871407  1.186527  0.011804  5 NaN\n",
       "2013-01-04 -0.321607 -0.840502  0.470652  5 NaN"
      ]
     },
     "execution_count": 50,
     "metadata": {},
     "output_type": "execute_result"
    }
   ],
   "source": [
    "df1 = df.reindex(index=dates[0:4], columns=list(df.columns) + ['E'])\n",
    "df1"
   ]
  },
  {
   "cell_type": "code",
   "execution_count": 51,
   "metadata": {},
   "outputs": [
    {
     "name": "stdout",
     "output_type": "stream",
     "text": [
      "                   C         C         C\n",
      "2013-01-01  0.415407  0.415407  0.415407\n",
      "2013-01-02  0.185049  0.185049  0.185049\n",
      "2013-01-03  0.011804  0.011804  0.011804\n",
      "2013-01-04  0.470652  0.470652  0.470652\n"
     ]
    },
    {
     "data": {
      "text/html": [
       "<div>\n",
       "<style scoped>\n",
       "    .dataframe tbody tr th:only-of-type {\n",
       "        vertical-align: middle;\n",
       "    }\n",
       "\n",
       "    .dataframe tbody tr th {\n",
       "        vertical-align: top;\n",
       "    }\n",
       "\n",
       "    .dataframe thead th {\n",
       "        text-align: right;\n",
       "    }\n",
       "</style>\n",
       "<table border=\"1\" class=\"dataframe\">\n",
       "  <thead>\n",
       "    <tr style=\"text-align: right;\">\n",
       "      <th></th>\n",
       "      <th>A</th>\n",
       "      <th>B</th>\n",
       "      <th>C</th>\n",
       "      <th>D</th>\n",
       "      <th>E</th>\n",
       "    </tr>\n",
       "  </thead>\n",
       "  <tbody>\n",
       "    <tr>\n",
       "      <th>2013-01-01</th>\n",
       "      <td>0.000000</td>\n",
       "      <td>0.000000</td>\n",
       "      <td>0.415407</td>\n",
       "      <td>5</td>\n",
       "      <td>1.0</td>\n",
       "    </tr>\n",
       "    <tr>\n",
       "      <th>2013-01-02</th>\n",
       "      <td>1.397264</td>\n",
       "      <td>1.000028</td>\n",
       "      <td>0.185049</td>\n",
       "      <td>5</td>\n",
       "      <td>1.0</td>\n",
       "    </tr>\n",
       "    <tr>\n",
       "      <th>2013-01-03</th>\n",
       "      <td>-0.871407</td>\n",
       "      <td>1.186527</td>\n",
       "      <td>0.011804</td>\n",
       "      <td>5</td>\n",
       "      <td>NaN</td>\n",
       "    </tr>\n",
       "    <tr>\n",
       "      <th>2013-01-04</th>\n",
       "      <td>-0.321607</td>\n",
       "      <td>-0.840502</td>\n",
       "      <td>0.470652</td>\n",
       "      <td>5</td>\n",
       "      <td>NaN</td>\n",
       "    </tr>\n",
       "  </tbody>\n",
       "</table>\n",
       "</div>"
      ],
      "text/plain": [
       "                   A         B         C  D    E\n",
       "2013-01-01  0.000000  0.000000  0.415407  5  1.0\n",
       "2013-01-02  1.397264  1.000028  0.185049  5  1.0\n",
       "2013-01-03 -0.871407  1.186527  0.011804  5  NaN\n",
       "2013-01-04 -0.321607 -0.840502  0.470652  5  NaN"
      ]
     },
     "execution_count": 51,
     "metadata": {},
     "output_type": "execute_result"
    }
   ],
   "source": [
    "df1.loc[dates[0]:dates[1],'E'] = 1\n",
    "print(df1.iloc[:, [2,2,2]])\n",
    "df1"
   ]
  },
  {
   "cell_type": "code",
   "execution_count": 52,
   "metadata": {},
   "outputs": [
    {
     "data": {
      "text/html": [
       "<div>\n",
       "<style scoped>\n",
       "    .dataframe tbody tr th:only-of-type {\n",
       "        vertical-align: middle;\n",
       "    }\n",
       "\n",
       "    .dataframe tbody tr th {\n",
       "        vertical-align: top;\n",
       "    }\n",
       "\n",
       "    .dataframe thead th {\n",
       "        text-align: right;\n",
       "    }\n",
       "</style>\n",
       "<table border=\"1\" class=\"dataframe\">\n",
       "  <thead>\n",
       "    <tr style=\"text-align: right;\">\n",
       "      <th></th>\n",
       "      <th>A</th>\n",
       "      <th>B</th>\n",
       "      <th>C</th>\n",
       "      <th>D</th>\n",
       "      <th>E</th>\n",
       "    </tr>\n",
       "  </thead>\n",
       "  <tbody>\n",
       "    <tr>\n",
       "      <th>2013-01-01</th>\n",
       "      <td>0.000000</td>\n",
       "      <td>0.000000</td>\n",
       "      <td>0.415407</td>\n",
       "      <td>5</td>\n",
       "      <td>1.0</td>\n",
       "    </tr>\n",
       "    <tr>\n",
       "      <th>2013-01-02</th>\n",
       "      <td>1.397264</td>\n",
       "      <td>1.000028</td>\n",
       "      <td>0.185049</td>\n",
       "      <td>5</td>\n",
       "      <td>1.0</td>\n",
       "    </tr>\n",
       "  </tbody>\n",
       "</table>\n",
       "</div>"
      ],
      "text/plain": [
       "                   A         B         C  D    E\n",
       "2013-01-01  0.000000  0.000000  0.415407  5  1.0\n",
       "2013-01-02  1.397264  1.000028  0.185049  5  1.0"
      ]
     },
     "execution_count": 52,
     "metadata": {},
     "output_type": "execute_result"
    }
   ],
   "source": [
    "#To drop any rows that have missing data.\n",
    "df1.dropna(how='any')"
   ]
  },
  {
   "cell_type": "code",
   "execution_count": 53,
   "metadata": {},
   "outputs": [
    {
     "data": {
      "text/html": [
       "<div>\n",
       "<style scoped>\n",
       "    .dataframe tbody tr th:only-of-type {\n",
       "        vertical-align: middle;\n",
       "    }\n",
       "\n",
       "    .dataframe tbody tr th {\n",
       "        vertical-align: top;\n",
       "    }\n",
       "\n",
       "    .dataframe thead th {\n",
       "        text-align: right;\n",
       "    }\n",
       "</style>\n",
       "<table border=\"1\" class=\"dataframe\">\n",
       "  <thead>\n",
       "    <tr style=\"text-align: right;\">\n",
       "      <th></th>\n",
       "      <th>A</th>\n",
       "      <th>B</th>\n",
       "      <th>C</th>\n",
       "      <th>D</th>\n",
       "      <th>E</th>\n",
       "    </tr>\n",
       "  </thead>\n",
       "  <tbody>\n",
       "    <tr>\n",
       "      <th>2013-01-01</th>\n",
       "      <td>0.000000</td>\n",
       "      <td>0.000000</td>\n",
       "      <td>0.415407</td>\n",
       "      <td>5</td>\n",
       "      <td>1.0</td>\n",
       "    </tr>\n",
       "    <tr>\n",
       "      <th>2013-01-02</th>\n",
       "      <td>1.397264</td>\n",
       "      <td>1.000028</td>\n",
       "      <td>0.185049</td>\n",
       "      <td>5</td>\n",
       "      <td>1.0</td>\n",
       "    </tr>\n",
       "    <tr>\n",
       "      <th>2013-01-03</th>\n",
       "      <td>-0.871407</td>\n",
       "      <td>1.186527</td>\n",
       "      <td>0.011804</td>\n",
       "      <td>5</td>\n",
       "      <td>NaN</td>\n",
       "    </tr>\n",
       "    <tr>\n",
       "      <th>2013-01-04</th>\n",
       "      <td>-0.321607</td>\n",
       "      <td>-0.840502</td>\n",
       "      <td>0.470652</td>\n",
       "      <td>5</td>\n",
       "      <td>NaN</td>\n",
       "    </tr>\n",
       "  </tbody>\n",
       "</table>\n",
       "</div>"
      ],
      "text/plain": [
       "                   A         B         C  D    E\n",
       "2013-01-01  0.000000  0.000000  0.415407  5  1.0\n",
       "2013-01-02  1.397264  1.000028  0.185049  5  1.0\n",
       "2013-01-03 -0.871407  1.186527  0.011804  5  NaN\n",
       "2013-01-04 -0.321607 -0.840502  0.470652  5  NaN"
      ]
     },
     "execution_count": 53,
     "metadata": {},
     "output_type": "execute_result"
    }
   ],
   "source": [
    "df1"
   ]
  },
  {
   "cell_type": "code",
   "execution_count": 54,
   "metadata": {},
   "outputs": [
    {
     "data": {
      "text/html": [
       "<div>\n",
       "<style scoped>\n",
       "    .dataframe tbody tr th:only-of-type {\n",
       "        vertical-align: middle;\n",
       "    }\n",
       "\n",
       "    .dataframe tbody tr th {\n",
       "        vertical-align: top;\n",
       "    }\n",
       "\n",
       "    .dataframe thead th {\n",
       "        text-align: right;\n",
       "    }\n",
       "</style>\n",
       "<table border=\"1\" class=\"dataframe\">\n",
       "  <thead>\n",
       "    <tr style=\"text-align: right;\">\n",
       "      <th></th>\n",
       "      <th>A</th>\n",
       "      <th>B</th>\n",
       "      <th>C</th>\n",
       "      <th>D</th>\n",
       "      <th>E</th>\n",
       "    </tr>\n",
       "  </thead>\n",
       "  <tbody>\n",
       "    <tr>\n",
       "      <th>2013-01-01</th>\n",
       "      <td>0.000000</td>\n",
       "      <td>0.000000</td>\n",
       "      <td>0.415407</td>\n",
       "      <td>5</td>\n",
       "      <td>1.0</td>\n",
       "    </tr>\n",
       "    <tr>\n",
       "      <th>2013-01-02</th>\n",
       "      <td>1.397264</td>\n",
       "      <td>1.000028</td>\n",
       "      <td>0.185049</td>\n",
       "      <td>5</td>\n",
       "      <td>1.0</td>\n",
       "    </tr>\n",
       "    <tr>\n",
       "      <th>2013-01-03</th>\n",
       "      <td>-0.871407</td>\n",
       "      <td>1.186527</td>\n",
       "      <td>0.011804</td>\n",
       "      <td>5</td>\n",
       "      <td>5.0</td>\n",
       "    </tr>\n",
       "    <tr>\n",
       "      <th>2013-01-04</th>\n",
       "      <td>-0.321607</td>\n",
       "      <td>-0.840502</td>\n",
       "      <td>0.470652</td>\n",
       "      <td>5</td>\n",
       "      <td>5.0</td>\n",
       "    </tr>\n",
       "  </tbody>\n",
       "</table>\n",
       "</div>"
      ],
      "text/plain": [
       "                   A         B         C  D    E\n",
       "2013-01-01  0.000000  0.000000  0.415407  5  1.0\n",
       "2013-01-02  1.397264  1.000028  0.185049  5  1.0\n",
       "2013-01-03 -0.871407  1.186527  0.011804  5  5.0\n",
       "2013-01-04 -0.321607 -0.840502  0.470652  5  5.0"
      ]
     },
     "execution_count": 54,
     "metadata": {},
     "output_type": "execute_result"
    }
   ],
   "source": [
    "#Filling missing data\n",
    "df1.fillna(value=5)"
   ]
  },
  {
   "cell_type": "code",
   "execution_count": 56,
   "metadata": {},
   "outputs": [
    {
     "data": {
      "text/html": [
       "<div>\n",
       "<style scoped>\n",
       "    .dataframe tbody tr th:only-of-type {\n",
       "        vertical-align: middle;\n",
       "    }\n",
       "\n",
       "    .dataframe tbody tr th {\n",
       "        vertical-align: top;\n",
       "    }\n",
       "\n",
       "    .dataframe thead th {\n",
       "        text-align: right;\n",
       "    }\n",
       "</style>\n",
       "<table border=\"1\" class=\"dataframe\">\n",
       "  <thead>\n",
       "    <tr style=\"text-align: right;\">\n",
       "      <th></th>\n",
       "      <th>A</th>\n",
       "      <th>B</th>\n",
       "      <th>C</th>\n",
       "      <th>D</th>\n",
       "      <th>E</th>\n",
       "    </tr>\n",
       "  </thead>\n",
       "  <tbody>\n",
       "    <tr>\n",
       "      <th>2013-01-01</th>\n",
       "      <td>False</td>\n",
       "      <td>False</td>\n",
       "      <td>False</td>\n",
       "      <td>False</td>\n",
       "      <td>False</td>\n",
       "    </tr>\n",
       "    <tr>\n",
       "      <th>2013-01-02</th>\n",
       "      <td>False</td>\n",
       "      <td>False</td>\n",
       "      <td>False</td>\n",
       "      <td>False</td>\n",
       "      <td>False</td>\n",
       "    </tr>\n",
       "    <tr>\n",
       "      <th>2013-01-03</th>\n",
       "      <td>False</td>\n",
       "      <td>False</td>\n",
       "      <td>False</td>\n",
       "      <td>False</td>\n",
       "      <td>True</td>\n",
       "    </tr>\n",
       "    <tr>\n",
       "      <th>2013-01-04</th>\n",
       "      <td>False</td>\n",
       "      <td>False</td>\n",
       "      <td>False</td>\n",
       "      <td>False</td>\n",
       "      <td>True</td>\n",
       "    </tr>\n",
       "  </tbody>\n",
       "</table>\n",
       "</div>"
      ],
      "text/plain": [
       "                A      B      C      D      E\n",
       "2013-01-01  False  False  False  False  False\n",
       "2013-01-02  False  False  False  False  False\n",
       "2013-01-03  False  False  False  False   True\n",
       "2013-01-04  False  False  False  False   True"
      ]
     },
     "execution_count": 56,
     "metadata": {},
     "output_type": "execute_result"
    }
   ],
   "source": [
    "pd.isnull(df1)"
   ]
  },
  {
   "cell_type": "markdown",
   "metadata": {},
   "source": [
    "## Operations"
   ]
  },
  {
   "cell_type": "markdown",
   "metadata": {},
   "source": [
    "### Stats"
   ]
  },
  {
   "cell_type": "code",
   "execution_count": 61,
   "metadata": {},
   "outputs": [
    {
     "name": "stdout",
     "output_type": "stream",
     "text": [
      "                   A         B         C  D\n",
      "2013-01-01  0.000000  0.000000  0.415407  5\n",
      "2013-01-02  1.397264  1.000028  0.185049  5\n",
      "2013-01-03 -0.871407  1.186527  0.011804  5\n",
      "2013-01-04 -0.321607 -0.840502  0.470652  5\n",
      "2013-01-05  0.029710 -1.381047  0.672769  5\n",
      "2013-01-06 -0.743113  0.202577  1.644859  5\n",
      "<class 'pandas.core.series.Series'>\n"
     ]
    },
    {
     "data": {
      "text/plain": [
       "A   -0.084859\n",
       "B    0.027930\n",
       "C    0.566757\n",
       "D    5.000000\n",
       "dtype: float64"
      ]
     },
     "execution_count": 61,
     "metadata": {},
     "output_type": "execute_result"
    }
   ],
   "source": [
    "print(df)\n",
    "print(type(df.mean()))\n",
    "df.mean()"
   ]
  },
  {
   "cell_type": "code",
   "execution_count": 65,
   "metadata": {},
   "outputs": [
    {
     "name": "stdout",
     "output_type": "stream",
     "text": [
      "2013-01-01    1.353852\n",
      "2013-01-02    1.895585\n",
      "2013-01-03    1.331731\n",
      "2013-01-04    1.077136\n",
      "2013-01-05    1.080358\n",
      "2013-01-06    1.526080\n",
      "Freq: D, dtype: float64\n",
      "A   -0.084859\n",
      "B    0.027930\n",
      "C    0.566757\n",
      "D    5.000000\n",
      "dtype: float64\n"
     ]
    }
   ],
   "source": [
    "# 求该\n",
    "print(df.mean(1))  # 每行的平均值\n",
    "print(df.mean(0))  # 每列的平均值"
   ]
  },
  {
   "cell_type": "code",
   "execution_count": 69,
   "metadata": {},
   "outputs": [
    {
     "name": "stdout",
     "output_type": "stream",
     "text": [
      "2013-01-01    1.0\n",
      "2013-01-02    3.0\n",
      "2013-01-03    5.0\n",
      "2013-01-04    NaN\n",
      "2013-01-05    6.0\n",
      "2013-01-06    8.0\n",
      "Freq: D, dtype: float64\n",
      "(6,)\n"
     ]
    },
    {
     "data": {
      "text/plain": [
       "2013-01-01    NaN\n",
       "2013-01-02    NaN\n",
       "2013-01-03    1.0\n",
       "2013-01-04    3.0\n",
       "2013-01-05    5.0\n",
       "2013-01-06    NaN\n",
       "Freq: D, dtype: float64"
      ]
     },
     "execution_count": 69,
     "metadata": {},
     "output_type": "execute_result"
    }
   ],
   "source": [
    "s = pd.Series([1,3,5,np.nan,6,8], index=dates)\n",
    "print(s)\n",
    "print(s.shape)\n",
    "s = pd.Series([1,3,5,np.nan,6,8], index=dates).shift(2)  #数据移动\n",
    "s"
   ]
  },
  {
   "cell_type": "code",
   "execution_count": 70,
   "metadata": {},
   "outputs": [
    {
     "data": {
      "text/html": [
       "<div>\n",
       "<style scoped>\n",
       "    .dataframe tbody tr th:only-of-type {\n",
       "        vertical-align: middle;\n",
       "    }\n",
       "\n",
       "    .dataframe tbody tr th {\n",
       "        vertical-align: top;\n",
       "    }\n",
       "\n",
       "    .dataframe thead th {\n",
       "        text-align: right;\n",
       "    }\n",
       "</style>\n",
       "<table border=\"1\" class=\"dataframe\">\n",
       "  <thead>\n",
       "    <tr style=\"text-align: right;\">\n",
       "      <th></th>\n",
       "      <th>A</th>\n",
       "      <th>B</th>\n",
       "      <th>C</th>\n",
       "      <th>D</th>\n",
       "    </tr>\n",
       "  </thead>\n",
       "  <tbody>\n",
       "    <tr>\n",
       "      <th>2013-01-01</th>\n",
       "      <td>NaN</td>\n",
       "      <td>NaN</td>\n",
       "      <td>NaN</td>\n",
       "      <td>NaN</td>\n",
       "    </tr>\n",
       "    <tr>\n",
       "      <th>2013-01-02</th>\n",
       "      <td>NaN</td>\n",
       "      <td>NaN</td>\n",
       "      <td>NaN</td>\n",
       "      <td>NaN</td>\n",
       "    </tr>\n",
       "    <tr>\n",
       "      <th>2013-01-03</th>\n",
       "      <td>-1.871407</td>\n",
       "      <td>0.186527</td>\n",
       "      <td>-0.988196</td>\n",
       "      <td>4.0</td>\n",
       "    </tr>\n",
       "    <tr>\n",
       "      <th>2013-01-04</th>\n",
       "      <td>-3.321607</td>\n",
       "      <td>-3.840502</td>\n",
       "      <td>-2.529348</td>\n",
       "      <td>2.0</td>\n",
       "    </tr>\n",
       "    <tr>\n",
       "      <th>2013-01-05</th>\n",
       "      <td>-4.970290</td>\n",
       "      <td>-6.381047</td>\n",
       "      <td>-4.327231</td>\n",
       "      <td>0.0</td>\n",
       "    </tr>\n",
       "    <tr>\n",
       "      <th>2013-01-06</th>\n",
       "      <td>NaN</td>\n",
       "      <td>NaN</td>\n",
       "      <td>NaN</td>\n",
       "      <td>NaN</td>\n",
       "    </tr>\n",
       "  </tbody>\n",
       "</table>\n",
       "</div>"
      ],
      "text/plain": [
       "                   A         B         C    D\n",
       "2013-01-01       NaN       NaN       NaN  NaN\n",
       "2013-01-02       NaN       NaN       NaN  NaN\n",
       "2013-01-03 -1.871407  0.186527 -0.988196  4.0\n",
       "2013-01-04 -3.321607 -3.840502 -2.529348  2.0\n",
       "2013-01-05 -4.970290 -6.381047 -4.327231  0.0\n",
       "2013-01-06       NaN       NaN       NaN  NaN"
      ]
     },
     "execution_count": 70,
     "metadata": {},
     "output_type": "execute_result"
    }
   ],
   "source": [
    "df.sub(s, axis='index')"
   ]
  },
  {
   "cell_type": "code",
   "execution_count": 71,
   "metadata": {},
   "outputs": [
    {
     "data": {
      "text/html": [
       "<div>\n",
       "<style scoped>\n",
       "    .dataframe tbody tr th:only-of-type {\n",
       "        vertical-align: middle;\n",
       "    }\n",
       "\n",
       "    .dataframe tbody tr th {\n",
       "        vertical-align: top;\n",
       "    }\n",
       "\n",
       "    .dataframe thead th {\n",
       "        text-align: right;\n",
       "    }\n",
       "</style>\n",
       "<table border=\"1\" class=\"dataframe\">\n",
       "  <thead>\n",
       "    <tr style=\"text-align: right;\">\n",
       "      <th></th>\n",
       "      <th>A</th>\n",
       "      <th>B</th>\n",
       "      <th>C</th>\n",
       "      <th>D</th>\n",
       "    </tr>\n",
       "  </thead>\n",
       "  <tbody>\n",
       "    <tr>\n",
       "      <th>2013-01-01</th>\n",
       "      <td>0.000000</td>\n",
       "      <td>0.000000</td>\n",
       "      <td>0.415407</td>\n",
       "      <td>5</td>\n",
       "    </tr>\n",
       "    <tr>\n",
       "      <th>2013-01-02</th>\n",
       "      <td>1.397264</td>\n",
       "      <td>1.000028</td>\n",
       "      <td>0.185049</td>\n",
       "      <td>5</td>\n",
       "    </tr>\n",
       "    <tr>\n",
       "      <th>2013-01-03</th>\n",
       "      <td>-0.871407</td>\n",
       "      <td>1.186527</td>\n",
       "      <td>0.011804</td>\n",
       "      <td>5</td>\n",
       "    </tr>\n",
       "    <tr>\n",
       "      <th>2013-01-04</th>\n",
       "      <td>-0.321607</td>\n",
       "      <td>-0.840502</td>\n",
       "      <td>0.470652</td>\n",
       "      <td>5</td>\n",
       "    </tr>\n",
       "    <tr>\n",
       "      <th>2013-01-05</th>\n",
       "      <td>0.029710</td>\n",
       "      <td>-1.381047</td>\n",
       "      <td>0.672769</td>\n",
       "      <td>5</td>\n",
       "    </tr>\n",
       "    <tr>\n",
       "      <th>2013-01-06</th>\n",
       "      <td>-0.743113</td>\n",
       "      <td>0.202577</td>\n",
       "      <td>1.644859</td>\n",
       "      <td>5</td>\n",
       "    </tr>\n",
       "  </tbody>\n",
       "</table>\n",
       "</div>"
      ],
      "text/plain": [
       "                   A         B         C  D\n",
       "2013-01-01  0.000000  0.000000  0.415407  5\n",
       "2013-01-02  1.397264  1.000028  0.185049  5\n",
       "2013-01-03 -0.871407  1.186527  0.011804  5\n",
       "2013-01-04 -0.321607 -0.840502  0.470652  5\n",
       "2013-01-05  0.029710 -1.381047  0.672769  5\n",
       "2013-01-06 -0.743113  0.202577  1.644859  5"
      ]
     },
     "execution_count": 71,
     "metadata": {},
     "output_type": "execute_result"
    }
   ],
   "source": [
    "df "
   ]
  },
  {
   "cell_type": "code",
   "execution_count": 72,
   "metadata": {},
   "outputs": [
    {
     "data": {
      "text/plain": [
       "2013-01-01    NaN\n",
       "2013-01-02    NaN\n",
       "2013-01-03    1.0\n",
       "2013-01-04    3.0\n",
       "2013-01-05    5.0\n",
       "2013-01-06    NaN\n",
       "Freq: D, dtype: float64"
      ]
     },
     "execution_count": 72,
     "metadata": {},
     "output_type": "execute_result"
    }
   ],
   "source": [
    "s"
   ]
  },
  {
   "cell_type": "markdown",
   "metadata": {},
   "source": [
    "### Apply"
   ]
  },
  {
   "cell_type": "code",
   "execution_count": 73,
   "metadata": {},
   "outputs": [
    {
     "data": {
      "text/html": [
       "<div>\n",
       "<style scoped>\n",
       "    .dataframe tbody tr th:only-of-type {\n",
       "        vertical-align: middle;\n",
       "    }\n",
       "\n",
       "    .dataframe tbody tr th {\n",
       "        vertical-align: top;\n",
       "    }\n",
       "\n",
       "    .dataframe thead th {\n",
       "        text-align: right;\n",
       "    }\n",
       "</style>\n",
       "<table border=\"1\" class=\"dataframe\">\n",
       "  <thead>\n",
       "    <tr style=\"text-align: right;\">\n",
       "      <th></th>\n",
       "      <th>A</th>\n",
       "      <th>B</th>\n",
       "      <th>C</th>\n",
       "      <th>D</th>\n",
       "    </tr>\n",
       "  </thead>\n",
       "  <tbody>\n",
       "    <tr>\n",
       "      <th>2013-01-01</th>\n",
       "      <td>0.000000</td>\n",
       "      <td>0.000000</td>\n",
       "      <td>0.415407</td>\n",
       "      <td>5</td>\n",
       "    </tr>\n",
       "    <tr>\n",
       "      <th>2013-01-02</th>\n",
       "      <td>1.397264</td>\n",
       "      <td>1.000028</td>\n",
       "      <td>0.600456</td>\n",
       "      <td>10</td>\n",
       "    </tr>\n",
       "    <tr>\n",
       "      <th>2013-01-03</th>\n",
       "      <td>0.525857</td>\n",
       "      <td>2.186555</td>\n",
       "      <td>0.612260</td>\n",
       "      <td>15</td>\n",
       "    </tr>\n",
       "    <tr>\n",
       "      <th>2013-01-04</th>\n",
       "      <td>0.204250</td>\n",
       "      <td>1.346053</td>\n",
       "      <td>1.082912</td>\n",
       "      <td>20</td>\n",
       "    </tr>\n",
       "    <tr>\n",
       "      <th>2013-01-05</th>\n",
       "      <td>0.233960</td>\n",
       "      <td>-0.034994</td>\n",
       "      <td>1.755681</td>\n",
       "      <td>25</td>\n",
       "    </tr>\n",
       "    <tr>\n",
       "      <th>2013-01-06</th>\n",
       "      <td>-0.509154</td>\n",
       "      <td>0.167583</td>\n",
       "      <td>3.400540</td>\n",
       "      <td>30</td>\n",
       "    </tr>\n",
       "  </tbody>\n",
       "</table>\n",
       "</div>"
      ],
      "text/plain": [
       "                   A         B         C   D\n",
       "2013-01-01  0.000000  0.000000  0.415407   5\n",
       "2013-01-02  1.397264  1.000028  0.600456  10\n",
       "2013-01-03  0.525857  2.186555  0.612260  15\n",
       "2013-01-04  0.204250  1.346053  1.082912  20\n",
       "2013-01-05  0.233960 -0.034994  1.755681  25\n",
       "2013-01-06 -0.509154  0.167583  3.400540  30"
      ]
     },
     "execution_count": 73,
     "metadata": {},
     "output_type": "execute_result"
    }
   ],
   "source": [
    "df.apply(np.cumsum)"
   ]
  },
  {
   "cell_type": "code",
   "execution_count": 74,
   "metadata": {},
   "outputs": [
    {
     "data": {
      "text/plain": [
       "A    <class 'pandas.core.series.Series'>\n",
       "B    <class 'pandas.core.series.Series'>\n",
       "C    <class 'pandas.core.series.Series'>\n",
       "D    <class 'pandas.core.series.Series'>\n",
       "dtype: object"
      ]
     },
     "execution_count": 74,
     "metadata": {},
     "output_type": "execute_result"
    }
   ],
   "source": [
    "df.apply(lambda x: str(type(x)))"
   ]
  },
  {
   "cell_type": "code",
   "execution_count": 75,
   "metadata": {},
   "outputs": [
    {
     "data": {
      "text/plain": [
       "A    2.268671\n",
       "B    2.567574\n",
       "C    1.633054\n",
       "D    0.000000\n",
       "dtype: float64"
      ]
     },
     "execution_count": 75,
     "metadata": {},
     "output_type": "execute_result"
    }
   ],
   "source": [
    "df.apply(lambda x: x.max() - x.min())"
   ]
  },
  {
   "cell_type": "markdown",
   "metadata": {},
   "source": [
    "### Histogramming"
   ]
  },
  {
   "cell_type": "code",
   "execution_count": 76,
   "metadata": {},
   "outputs": [
    {
     "data": {
      "text/plain": [
       "0    4\n",
       "1    0\n",
       "2    0\n",
       "3    4\n",
       "4    6\n",
       "5    3\n",
       "6    1\n",
       "7    1\n",
       "8    5\n",
       "9    0\n",
       "dtype: int64"
      ]
     },
     "execution_count": 76,
     "metadata": {},
     "output_type": "execute_result"
    }
   ],
   "source": [
    "s = pd.Series(np.random.randint(0, 7, size=10))\n",
    "s"
   ]
  },
  {
   "cell_type": "code",
   "execution_count": 77,
   "metadata": {},
   "outputs": [
    {
     "data": {
      "text/plain": [
       "0    3\n",
       "4    2\n",
       "1    2\n",
       "6    1\n",
       "5    1\n",
       "3    1\n",
       "dtype: int64"
      ]
     },
     "execution_count": 77,
     "metadata": {},
     "output_type": "execute_result"
    }
   ],
   "source": [
    "s.value_counts()  # 计算频次"
   ]
  },
  {
   "cell_type": "markdown",
   "metadata": {},
   "source": [
    "### String Methods"
   ]
  },
  {
   "cell_type": "code",
   "execution_count": 78,
   "metadata": {},
   "outputs": [
    {
     "data": {
      "text/plain": [
       "0       a\n",
       "1       b\n",
       "2       c\n",
       "3    aaba\n",
       "4    baca\n",
       "5     NaN\n",
       "6    caba\n",
       "7     dog\n",
       "8     cat\n",
       "dtype: object"
      ]
     },
     "execution_count": 78,
     "metadata": {},
     "output_type": "execute_result"
    }
   ],
   "source": [
    "s = pd.Series(['A', 'B', 'C', 'Aaba', 'Baca', np.nan, 'CABA', 'dog', 'cat'])\n",
    "s.str.lower()"
   ]
  },
  {
   "cell_type": "markdown",
   "metadata": {},
   "source": [
    "## Merge"
   ]
  },
  {
   "cell_type": "markdown",
   "metadata": {},
   "source": [
    "### Concat 合并数据"
   ]
  },
  {
   "cell_type": "code",
   "execution_count": 3,
   "metadata": {},
   "outputs": [
    {
     "data": {
      "text/html": [
       "<div>\n",
       "<style scoped>\n",
       "    .dataframe tbody tr th:only-of-type {\n",
       "        vertical-align: middle;\n",
       "    }\n",
       "\n",
       "    .dataframe tbody tr th {\n",
       "        vertical-align: top;\n",
       "    }\n",
       "\n",
       "    .dataframe thead th {\n",
       "        text-align: right;\n",
       "    }\n",
       "</style>\n",
       "<table border=\"1\" class=\"dataframe\">\n",
       "  <thead>\n",
       "    <tr style=\"text-align: right;\">\n",
       "      <th></th>\n",
       "      <th>0</th>\n",
       "      <th>1</th>\n",
       "      <th>2</th>\n",
       "      <th>3</th>\n",
       "    </tr>\n",
       "  </thead>\n",
       "  <tbody>\n",
       "    <tr>\n",
       "      <th>0</th>\n",
       "      <td>-0.057542</td>\n",
       "      <td>0.218164</td>\n",
       "      <td>-0.961403</td>\n",
       "      <td>0.780600</td>\n",
       "    </tr>\n",
       "    <tr>\n",
       "      <th>1</th>\n",
       "      <td>-0.404925</td>\n",
       "      <td>-0.564577</td>\n",
       "      <td>0.579408</td>\n",
       "      <td>1.699255</td>\n",
       "    </tr>\n",
       "    <tr>\n",
       "      <th>2</th>\n",
       "      <td>1.187993</td>\n",
       "      <td>0.130491</td>\n",
       "      <td>-0.623220</td>\n",
       "      <td>0.349340</td>\n",
       "    </tr>\n",
       "    <tr>\n",
       "      <th>3</th>\n",
       "      <td>-0.593520</td>\n",
       "      <td>0.122102</td>\n",
       "      <td>0.374641</td>\n",
       "      <td>-0.222968</td>\n",
       "    </tr>\n",
       "    <tr>\n",
       "      <th>4</th>\n",
       "      <td>0.921645</td>\n",
       "      <td>1.196678</td>\n",
       "      <td>0.032267</td>\n",
       "      <td>1.957434</td>\n",
       "    </tr>\n",
       "    <tr>\n",
       "      <th>5</th>\n",
       "      <td>1.743422</td>\n",
       "      <td>0.179392</td>\n",
       "      <td>-1.667689</td>\n",
       "      <td>-0.421503</td>\n",
       "    </tr>\n",
       "    <tr>\n",
       "      <th>6</th>\n",
       "      <td>-0.176087</td>\n",
       "      <td>1.418845</td>\n",
       "      <td>0.449433</td>\n",
       "      <td>0.757881</td>\n",
       "    </tr>\n",
       "    <tr>\n",
       "      <th>7</th>\n",
       "      <td>0.445430</td>\n",
       "      <td>0.150340</td>\n",
       "      <td>-0.681575</td>\n",
       "      <td>-1.640208</td>\n",
       "    </tr>\n",
       "    <tr>\n",
       "      <th>8</th>\n",
       "      <td>0.337374</td>\n",
       "      <td>-0.292876</td>\n",
       "      <td>-1.477250</td>\n",
       "      <td>0.691040</td>\n",
       "    </tr>\n",
       "    <tr>\n",
       "      <th>9</th>\n",
       "      <td>0.597822</td>\n",
       "      <td>1.747850</td>\n",
       "      <td>-0.942669</td>\n",
       "      <td>-0.944174</td>\n",
       "    </tr>\n",
       "  </tbody>\n",
       "</table>\n",
       "</div>"
      ],
      "text/plain": [
       "          0         1         2         3\n",
       "0 -0.057542  0.218164 -0.961403  0.780600\n",
       "1 -0.404925 -0.564577  0.579408  1.699255\n",
       "2  1.187993  0.130491 -0.623220  0.349340\n",
       "3 -0.593520  0.122102  0.374641 -0.222968\n",
       "4  0.921645  1.196678  0.032267  1.957434\n",
       "5  1.743422  0.179392 -1.667689 -0.421503\n",
       "6 -0.176087  1.418845  0.449433  0.757881\n",
       "7  0.445430  0.150340 -0.681575 -1.640208\n",
       "8  0.337374 -0.292876 -1.477250  0.691040\n",
       "9  0.597822  1.747850 -0.942669 -0.944174"
      ]
     },
     "execution_count": 3,
     "metadata": {},
     "output_type": "execute_result"
    }
   ],
   "source": [
    "df = pd.DataFrame(np.random.randn(10, 4))\n",
    "df"
   ]
  },
  {
   "cell_type": "code",
   "execution_count": 4,
   "metadata": {},
   "outputs": [
    {
     "name": "stdout",
     "output_type": "stream",
     "text": [
      "[          0         1         2         3\n",
      "0 -0.057542  0.218164 -0.961403  0.780600\n",
      "1 -0.404925 -0.564577  0.579408  1.699255\n",
      "2  1.187993  0.130491 -0.623220  0.349340,           0         1         2         3\n",
      "2  1.187993  0.130491 -0.623220  0.349340\n",
      "3 -0.593520  0.122102  0.374641 -0.222968\n",
      "4  0.921645  1.196678  0.032267  1.957434\n",
      "5  1.743422  0.179392 -1.667689 -0.421503\n",
      "6 -0.176087  1.418845  0.449433  0.757881,           0         1         2         3\n",
      "6 -0.176087  1.418845  0.449433  0.757881\n",
      "7  0.445430  0.150340 -0.681575 -1.640208\n",
      "8  0.337374 -0.292876 -1.477250  0.691040\n",
      "9  0.597822  1.747850 -0.942669 -0.944174]\n"
     ]
    },
    {
     "data": {
      "text/html": [
       "<div>\n",
       "<style scoped>\n",
       "    .dataframe tbody tr th:only-of-type {\n",
       "        vertical-align: middle;\n",
       "    }\n",
       "\n",
       "    .dataframe tbody tr th {\n",
       "        vertical-align: top;\n",
       "    }\n",
       "\n",
       "    .dataframe thead th {\n",
       "        text-align: right;\n",
       "    }\n",
       "</style>\n",
       "<table border=\"1\" class=\"dataframe\">\n",
       "  <thead>\n",
       "    <tr style=\"text-align: right;\">\n",
       "      <th></th>\n",
       "      <th>0</th>\n",
       "      <th>1</th>\n",
       "      <th>2</th>\n",
       "      <th>3</th>\n",
       "    </tr>\n",
       "  </thead>\n",
       "  <tbody>\n",
       "    <tr>\n",
       "      <th>0</th>\n",
       "      <td>-0.057542</td>\n",
       "      <td>0.218164</td>\n",
       "      <td>-0.961403</td>\n",
       "      <td>0.780600</td>\n",
       "    </tr>\n",
       "    <tr>\n",
       "      <th>1</th>\n",
       "      <td>-0.404925</td>\n",
       "      <td>-0.564577</td>\n",
       "      <td>0.579408</td>\n",
       "      <td>1.699255</td>\n",
       "    </tr>\n",
       "    <tr>\n",
       "      <th>2</th>\n",
       "      <td>1.187993</td>\n",
       "      <td>0.130491</td>\n",
       "      <td>-0.623220</td>\n",
       "      <td>0.349340</td>\n",
       "    </tr>\n",
       "    <tr>\n",
       "      <th>2</th>\n",
       "      <td>1.187993</td>\n",
       "      <td>0.130491</td>\n",
       "      <td>-0.623220</td>\n",
       "      <td>0.349340</td>\n",
       "    </tr>\n",
       "    <tr>\n",
       "      <th>3</th>\n",
       "      <td>-0.593520</td>\n",
       "      <td>0.122102</td>\n",
       "      <td>0.374641</td>\n",
       "      <td>-0.222968</td>\n",
       "    </tr>\n",
       "    <tr>\n",
       "      <th>4</th>\n",
       "      <td>0.921645</td>\n",
       "      <td>1.196678</td>\n",
       "      <td>0.032267</td>\n",
       "      <td>1.957434</td>\n",
       "    </tr>\n",
       "    <tr>\n",
       "      <th>5</th>\n",
       "      <td>1.743422</td>\n",
       "      <td>0.179392</td>\n",
       "      <td>-1.667689</td>\n",
       "      <td>-0.421503</td>\n",
       "    </tr>\n",
       "    <tr>\n",
       "      <th>6</th>\n",
       "      <td>-0.176087</td>\n",
       "      <td>1.418845</td>\n",
       "      <td>0.449433</td>\n",
       "      <td>0.757881</td>\n",
       "    </tr>\n",
       "    <tr>\n",
       "      <th>6</th>\n",
       "      <td>-0.176087</td>\n",
       "      <td>1.418845</td>\n",
       "      <td>0.449433</td>\n",
       "      <td>0.757881</td>\n",
       "    </tr>\n",
       "    <tr>\n",
       "      <th>7</th>\n",
       "      <td>0.445430</td>\n",
       "      <td>0.150340</td>\n",
       "      <td>-0.681575</td>\n",
       "      <td>-1.640208</td>\n",
       "    </tr>\n",
       "    <tr>\n",
       "      <th>8</th>\n",
       "      <td>0.337374</td>\n",
       "      <td>-0.292876</td>\n",
       "      <td>-1.477250</td>\n",
       "      <td>0.691040</td>\n",
       "    </tr>\n",
       "    <tr>\n",
       "      <th>9</th>\n",
       "      <td>0.597822</td>\n",
       "      <td>1.747850</td>\n",
       "      <td>-0.942669</td>\n",
       "      <td>-0.944174</td>\n",
       "    </tr>\n",
       "  </tbody>\n",
       "</table>\n",
       "</div>"
      ],
      "text/plain": [
       "          0         1         2         3\n",
       "0 -0.057542  0.218164 -0.961403  0.780600\n",
       "1 -0.404925 -0.564577  0.579408  1.699255\n",
       "2  1.187993  0.130491 -0.623220  0.349340\n",
       "2  1.187993  0.130491 -0.623220  0.349340\n",
       "3 -0.593520  0.122102  0.374641 -0.222968\n",
       "4  0.921645  1.196678  0.032267  1.957434\n",
       "5  1.743422  0.179392 -1.667689 -0.421503\n",
       "6 -0.176087  1.418845  0.449433  0.757881\n",
       "6 -0.176087  1.418845  0.449433  0.757881\n",
       "7  0.445430  0.150340 -0.681575 -1.640208\n",
       "8  0.337374 -0.292876 -1.477250  0.691040\n",
       "9  0.597822  1.747850 -0.942669 -0.944174"
      ]
     },
     "execution_count": 4,
     "metadata": {},
     "output_type": "execute_result"
    }
   ],
   "source": [
    "pieces = [df[:3], df[2:7], df[6:]]\n",
    "print(pieces)\n",
    "pd.concat(pieces)"
   ]
  },
  {
   "cell_type": "markdown",
   "metadata": {},
   "source": [
    "### Join 连接"
   ]
  },
  {
   "cell_type": "code",
   "execution_count": 162,
   "metadata": {},
   "outputs": [
    {
     "name": "stdout",
     "output_type": "stream",
     "text": [
      "   key  lval\n",
      "0  foo     1\n",
      "1  foo     2\n",
      "   key  rval\n",
      "0  foo     4\n",
      "1  foo     5\n"
     ]
    },
    {
     "data": {
      "text/html": [
       "<div>\n",
       "<style scoped>\n",
       "    .dataframe tbody tr th:only-of-type {\n",
       "        vertical-align: middle;\n",
       "    }\n",
       "\n",
       "    .dataframe tbody tr th {\n",
       "        vertical-align: top;\n",
       "    }\n",
       "\n",
       "    .dataframe thead th {\n",
       "        text-align: right;\n",
       "    }\n",
       "</style>\n",
       "<table border=\"1\" class=\"dataframe\">\n",
       "  <thead>\n",
       "    <tr style=\"text-align: right;\">\n",
       "      <th></th>\n",
       "      <th>key</th>\n",
       "      <th>lval</th>\n",
       "      <th>rval</th>\n",
       "    </tr>\n",
       "  </thead>\n",
       "  <tbody>\n",
       "    <tr>\n",
       "      <th>0</th>\n",
       "      <td>foo</td>\n",
       "      <td>1</td>\n",
       "      <td>4</td>\n",
       "    </tr>\n",
       "    <tr>\n",
       "      <th>1</th>\n",
       "      <td>foo</td>\n",
       "      <td>1</td>\n",
       "      <td>5</td>\n",
       "    </tr>\n",
       "    <tr>\n",
       "      <th>2</th>\n",
       "      <td>foo</td>\n",
       "      <td>2</td>\n",
       "      <td>4</td>\n",
       "    </tr>\n",
       "    <tr>\n",
       "      <th>3</th>\n",
       "      <td>foo</td>\n",
       "      <td>2</td>\n",
       "      <td>5</td>\n",
       "    </tr>\n",
       "  </tbody>\n",
       "</table>\n",
       "</div>"
      ],
      "text/plain": [
       "   key  lval  rval\n",
       "0  foo     1     4\n",
       "1  foo     1     5\n",
       "2  foo     2     4\n",
       "3  foo     2     5"
      ]
     },
     "execution_count": 162,
     "metadata": {},
     "output_type": "execute_result"
    }
   ],
   "source": [
    "left = pd.DataFrame({'key': ['foo', 'foo'], 'lval': [1, 2]})\n",
    "right = pd.DataFrame({'key': ['foo', 'foo'], 'rval': [4, 5]})\n",
    "print(left)\n",
    "print(right)\n",
    "pd.merge(left, right, on='key')"
   ]
  },
  {
   "cell_type": "code",
   "execution_count": 82,
   "metadata": {},
   "outputs": [
    {
     "name": "stdout",
     "output_type": "stream",
     "text": [
      "   key  lval\n",
      "0  foo     1\n",
      "1  bar     2\n",
      "   key  rval\n",
      "0  foo     4\n",
      "1  bar     5\n"
     ]
    },
    {
     "data": {
      "text/html": [
       "<div>\n",
       "<style scoped>\n",
       "    .dataframe tbody tr th:only-of-type {\n",
       "        vertical-align: middle;\n",
       "    }\n",
       "\n",
       "    .dataframe tbody tr th {\n",
       "        vertical-align: top;\n",
       "    }\n",
       "\n",
       "    .dataframe thead th {\n",
       "        text-align: right;\n",
       "    }\n",
       "</style>\n",
       "<table border=\"1\" class=\"dataframe\">\n",
       "  <thead>\n",
       "    <tr style=\"text-align: right;\">\n",
       "      <th></th>\n",
       "      <th>key</th>\n",
       "      <th>lval</th>\n",
       "      <th>rval</th>\n",
       "    </tr>\n",
       "  </thead>\n",
       "  <tbody>\n",
       "    <tr>\n",
       "      <th>0</th>\n",
       "      <td>foo</td>\n",
       "      <td>1</td>\n",
       "      <td>4</td>\n",
       "    </tr>\n",
       "    <tr>\n",
       "      <th>1</th>\n",
       "      <td>bar</td>\n",
       "      <td>2</td>\n",
       "      <td>5</td>\n",
       "    </tr>\n",
       "  </tbody>\n",
       "</table>\n",
       "</div>"
      ],
      "text/plain": [
       "   key  lval  rval\n",
       "0  foo     1     4\n",
       "1  bar     2     5"
      ]
     },
     "execution_count": 82,
     "metadata": {},
     "output_type": "execute_result"
    }
   ],
   "source": [
    "left = pd.DataFrame({'key': ['foo', 'bar'], 'lval': [1, 2]})\n",
    "right = pd.DataFrame({'key': ['foo', 'bar'], 'rval': [4, 5]})\n",
    "print(left)\n",
    "print(right)\n",
    "pd.merge(left, right, on='key')"
   ]
  },
  {
   "cell_type": "markdown",
   "metadata": {},
   "source": [
    "### Apend 添加数据"
   ]
  },
  {
   "cell_type": "code",
   "execution_count": 83,
   "metadata": {},
   "outputs": [
    {
     "data": {
      "text/html": [
       "<div>\n",
       "<style scoped>\n",
       "    .dataframe tbody tr th:only-of-type {\n",
       "        vertical-align: middle;\n",
       "    }\n",
       "\n",
       "    .dataframe tbody tr th {\n",
       "        vertical-align: top;\n",
       "    }\n",
       "\n",
       "    .dataframe thead th {\n",
       "        text-align: right;\n",
       "    }\n",
       "</style>\n",
       "<table border=\"1\" class=\"dataframe\">\n",
       "  <thead>\n",
       "    <tr style=\"text-align: right;\">\n",
       "      <th></th>\n",
       "      <th>A</th>\n",
       "      <th>B</th>\n",
       "      <th>C</th>\n",
       "      <th>D</th>\n",
       "    </tr>\n",
       "  </thead>\n",
       "  <tbody>\n",
       "    <tr>\n",
       "      <th>0</th>\n",
       "      <td>-1.938695</td>\n",
       "      <td>0.029579</td>\n",
       "      <td>-0.122794</td>\n",
       "      <td>0.904539</td>\n",
       "    </tr>\n",
       "    <tr>\n",
       "      <th>1</th>\n",
       "      <td>1.622765</td>\n",
       "      <td>-1.747342</td>\n",
       "      <td>-0.052888</td>\n",
       "      <td>0.897253</td>\n",
       "    </tr>\n",
       "    <tr>\n",
       "      <th>2</th>\n",
       "      <td>1.643466</td>\n",
       "      <td>-1.207022</td>\n",
       "      <td>1.198152</td>\n",
       "      <td>0.864040</td>\n",
       "    </tr>\n",
       "    <tr>\n",
       "      <th>3</th>\n",
       "      <td>-0.806050</td>\n",
       "      <td>-1.275563</td>\n",
       "      <td>-0.178765</td>\n",
       "      <td>-0.587709</td>\n",
       "    </tr>\n",
       "    <tr>\n",
       "      <th>4</th>\n",
       "      <td>0.130334</td>\n",
       "      <td>1.256908</td>\n",
       "      <td>-0.845443</td>\n",
       "      <td>0.553788</td>\n",
       "    </tr>\n",
       "    <tr>\n",
       "      <th>5</th>\n",
       "      <td>0.092226</td>\n",
       "      <td>-0.173608</td>\n",
       "      <td>-1.188679</td>\n",
       "      <td>1.723141</td>\n",
       "    </tr>\n",
       "    <tr>\n",
       "      <th>6</th>\n",
       "      <td>0.055252</td>\n",
       "      <td>1.296135</td>\n",
       "      <td>0.320795</td>\n",
       "      <td>0.458646</td>\n",
       "    </tr>\n",
       "    <tr>\n",
       "      <th>7</th>\n",
       "      <td>0.069269</td>\n",
       "      <td>0.788946</td>\n",
       "      <td>1.422112</td>\n",
       "      <td>-1.496705</td>\n",
       "    </tr>\n",
       "  </tbody>\n",
       "</table>\n",
       "</div>"
      ],
      "text/plain": [
       "          A         B         C         D\n",
       "0 -1.938695  0.029579 -0.122794  0.904539\n",
       "1  1.622765 -1.747342 -0.052888  0.897253\n",
       "2  1.643466 -1.207022  1.198152  0.864040\n",
       "3 -0.806050 -1.275563 -0.178765 -0.587709\n",
       "4  0.130334  1.256908 -0.845443  0.553788\n",
       "5  0.092226 -0.173608 -1.188679  1.723141\n",
       "6  0.055252  1.296135  0.320795  0.458646\n",
       "7  0.069269  0.788946  1.422112 -1.496705"
      ]
     },
     "execution_count": 83,
     "metadata": {},
     "output_type": "execute_result"
    }
   ],
   "source": [
    "df = pd.DataFrame(np.random.randn(8, 4), columns=['A','B','C','D'])\n",
    "df"
   ]
  },
  {
   "cell_type": "code",
   "execution_count": 86,
   "metadata": {},
   "outputs": [
    {
     "name": "stdout",
     "output_type": "stream",
     "text": [
      "<class 'pandas.core.series.Series'>\n"
     ]
    },
    {
     "data": {
      "text/plain": [
       "A   -0.806050\n",
       "B   -1.275563\n",
       "C   -0.178765\n",
       "D   -0.587709\n",
       "Name: 3, dtype: float64"
      ]
     },
     "execution_count": 86,
     "metadata": {},
     "output_type": "execute_result"
    }
   ],
   "source": [
    "s = df.iloc[3]\n",
    "print(type(s))\n",
    "s"
   ]
  },
  {
   "cell_type": "code",
   "execution_count": 85,
   "metadata": {},
   "outputs": [
    {
     "data": {
      "text/html": [
       "<div>\n",
       "<style scoped>\n",
       "    .dataframe tbody tr th:only-of-type {\n",
       "        vertical-align: middle;\n",
       "    }\n",
       "\n",
       "    .dataframe tbody tr th {\n",
       "        vertical-align: top;\n",
       "    }\n",
       "\n",
       "    .dataframe thead th {\n",
       "        text-align: right;\n",
       "    }\n",
       "</style>\n",
       "<table border=\"1\" class=\"dataframe\">\n",
       "  <thead>\n",
       "    <tr style=\"text-align: right;\">\n",
       "      <th></th>\n",
       "      <th>A</th>\n",
       "      <th>B</th>\n",
       "      <th>C</th>\n",
       "      <th>D</th>\n",
       "    </tr>\n",
       "  </thead>\n",
       "  <tbody>\n",
       "    <tr>\n",
       "      <th>0</th>\n",
       "      <td>-1.938695</td>\n",
       "      <td>0.029579</td>\n",
       "      <td>-0.122794</td>\n",
       "      <td>0.904539</td>\n",
       "    </tr>\n",
       "    <tr>\n",
       "      <th>1</th>\n",
       "      <td>1.622765</td>\n",
       "      <td>-1.747342</td>\n",
       "      <td>-0.052888</td>\n",
       "      <td>0.897253</td>\n",
       "    </tr>\n",
       "    <tr>\n",
       "      <th>2</th>\n",
       "      <td>1.643466</td>\n",
       "      <td>-1.207022</td>\n",
       "      <td>1.198152</td>\n",
       "      <td>0.864040</td>\n",
       "    </tr>\n",
       "    <tr>\n",
       "      <th>3</th>\n",
       "      <td>-0.806050</td>\n",
       "      <td>-1.275563</td>\n",
       "      <td>-0.178765</td>\n",
       "      <td>-0.587709</td>\n",
       "    </tr>\n",
       "    <tr>\n",
       "      <th>4</th>\n",
       "      <td>0.130334</td>\n",
       "      <td>1.256908</td>\n",
       "      <td>-0.845443</td>\n",
       "      <td>0.553788</td>\n",
       "    </tr>\n",
       "    <tr>\n",
       "      <th>5</th>\n",
       "      <td>0.092226</td>\n",
       "      <td>-0.173608</td>\n",
       "      <td>-1.188679</td>\n",
       "      <td>1.723141</td>\n",
       "    </tr>\n",
       "    <tr>\n",
       "      <th>6</th>\n",
       "      <td>0.055252</td>\n",
       "      <td>1.296135</td>\n",
       "      <td>0.320795</td>\n",
       "      <td>0.458646</td>\n",
       "    </tr>\n",
       "    <tr>\n",
       "      <th>7</th>\n",
       "      <td>0.069269</td>\n",
       "      <td>0.788946</td>\n",
       "      <td>1.422112</td>\n",
       "      <td>-1.496705</td>\n",
       "    </tr>\n",
       "    <tr>\n",
       "      <th>8</th>\n",
       "      <td>-0.806050</td>\n",
       "      <td>-1.275563</td>\n",
       "      <td>-0.178765</td>\n",
       "      <td>-0.587709</td>\n",
       "    </tr>\n",
       "  </tbody>\n",
       "</table>\n",
       "</div>"
      ],
      "text/plain": [
       "          A         B         C         D\n",
       "0 -1.938695  0.029579 -0.122794  0.904539\n",
       "1  1.622765 -1.747342 -0.052888  0.897253\n",
       "2  1.643466 -1.207022  1.198152  0.864040\n",
       "3 -0.806050 -1.275563 -0.178765 -0.587709\n",
       "4  0.130334  1.256908 -0.845443  0.553788\n",
       "5  0.092226 -0.173608 -1.188679  1.723141\n",
       "6  0.055252  1.296135  0.320795  0.458646\n",
       "7  0.069269  0.788946  1.422112 -1.496705\n",
       "8 -0.806050 -1.275563 -0.178765 -0.587709"
      ]
     },
     "execution_count": 85,
     "metadata": {},
     "output_type": "execute_result"
    }
   ],
   "source": [
    "df.append(s, ignore_index=True)"
   ]
  },
  {
   "cell_type": "markdown",
   "metadata": {},
   "source": [
    "## Reshaping"
   ]
  },
  {
   "cell_type": "code",
   "execution_count": 91,
   "metadata": {},
   "outputs": [
    {
     "data": {
      "text/plain": [
       "[('bar', 'one'),\n",
       " ('bar', 'two'),\n",
       " ('baz', 'one'),\n",
       " ('baz', 'two'),\n",
       " ('foo', 'one'),\n",
       " ('foo', 'two'),\n",
       " ('qux', 'one'),\n",
       " ('qux', 'two')]"
      ]
     },
     "execution_count": 91,
     "metadata": {},
     "output_type": "execute_result"
    }
   ],
   "source": [
    "tuples = list(zip(*[['bar', 'bar', 'baz', 'baz',\n",
    "                    'foo', 'foo', 'qux', 'qux'],\n",
    "                  ['one', 'two', 'one', 'two',\n",
    "                   'one', 'two', 'one', 'two']]))\n",
    "tuples"
   ]
  },
  {
   "cell_type": "code",
   "execution_count": 92,
   "metadata": {},
   "outputs": [
    {
     "data": {
      "text/plain": [
       "<zip at 0x7f2aa2a41b88>"
      ]
     },
     "execution_count": 92,
     "metadata": {},
     "output_type": "execute_result"
    }
   ],
   "source": [
    "zip(*[['bar', 'bar', 'baz', 'baz',\n",
    "                    'foo', 'foo', 'qux', 'qux'],\n",
    "                  ['one', 'two', 'one', 'two',\n",
    "                   'one', 'two', 'one', 'two']])\n"
   ]
  },
  {
   "cell_type": "code",
   "execution_count": 93,
   "metadata": {},
   "outputs": [
    {
     "data": {
      "text/plain": [
       "MultiIndex(levels=[['bar', 'baz', 'foo', 'qux'], ['one', 'two']],\n",
       "           labels=[[0, 0, 1, 1, 2, 2, 3, 3], [0, 1, 0, 1, 0, 1, 0, 1]],\n",
       "           names=['first', 'second'])"
      ]
     },
     "execution_count": 93,
     "metadata": {},
     "output_type": "execute_result"
    }
   ],
   "source": [
    "index = pd.MultiIndex.from_tuples(tuples, names=['first', 'second'])\n",
    "index"
   ]
  },
  {
   "cell_type": "code",
   "execution_count": 94,
   "metadata": {},
   "outputs": [
    {
     "data": {
      "text/html": [
       "<div>\n",
       "<style scoped>\n",
       "    .dataframe tbody tr th:only-of-type {\n",
       "        vertical-align: middle;\n",
       "    }\n",
       "\n",
       "    .dataframe tbody tr th {\n",
       "        vertical-align: top;\n",
       "    }\n",
       "\n",
       "    .dataframe thead th {\n",
       "        text-align: right;\n",
       "    }\n",
       "</style>\n",
       "<table border=\"1\" class=\"dataframe\">\n",
       "  <thead>\n",
       "    <tr style=\"text-align: right;\">\n",
       "      <th></th>\n",
       "      <th></th>\n",
       "      <th>A</th>\n",
       "      <th>B</th>\n",
       "    </tr>\n",
       "    <tr>\n",
       "      <th>first</th>\n",
       "      <th>second</th>\n",
       "      <th></th>\n",
       "      <th></th>\n",
       "    </tr>\n",
       "  </thead>\n",
       "  <tbody>\n",
       "    <tr>\n",
       "      <th rowspan=\"2\" valign=\"top\">bar</th>\n",
       "      <th>one</th>\n",
       "      <td>0.662204</td>\n",
       "      <td>-0.699341</td>\n",
       "    </tr>\n",
       "    <tr>\n",
       "      <th>two</th>\n",
       "      <td>-1.265394</td>\n",
       "      <td>-1.103553</td>\n",
       "    </tr>\n",
       "    <tr>\n",
       "      <th rowspan=\"2\" valign=\"top\">baz</th>\n",
       "      <th>one</th>\n",
       "      <td>0.031541</td>\n",
       "      <td>0.167991</td>\n",
       "    </tr>\n",
       "    <tr>\n",
       "      <th>two</th>\n",
       "      <td>1.108204</td>\n",
       "      <td>0.069486</td>\n",
       "    </tr>\n",
       "    <tr>\n",
       "      <th rowspan=\"2\" valign=\"top\">foo</th>\n",
       "      <th>one</th>\n",
       "      <td>-0.055547</td>\n",
       "      <td>0.802550</td>\n",
       "    </tr>\n",
       "    <tr>\n",
       "      <th>two</th>\n",
       "      <td>0.525529</td>\n",
       "      <td>-0.583152</td>\n",
       "    </tr>\n",
       "    <tr>\n",
       "      <th rowspan=\"2\" valign=\"top\">qux</th>\n",
       "      <th>one</th>\n",
       "      <td>-1.563154</td>\n",
       "      <td>-0.459766</td>\n",
       "    </tr>\n",
       "    <tr>\n",
       "      <th>two</th>\n",
       "      <td>-0.382456</td>\n",
       "      <td>-0.756039</td>\n",
       "    </tr>\n",
       "  </tbody>\n",
       "</table>\n",
       "</div>"
      ],
      "text/plain": [
       "                     A         B\n",
       "first second                    \n",
       "bar   one     0.662204 -0.699341\n",
       "      two    -1.265394 -1.103553\n",
       "baz   one     0.031541  0.167991\n",
       "      two     1.108204  0.069486\n",
       "foo   one    -0.055547  0.802550\n",
       "      two     0.525529 -0.583152\n",
       "qux   one    -1.563154 -0.459766\n",
       "      two    -0.382456 -0.756039"
      ]
     },
     "execution_count": 94,
     "metadata": {},
     "output_type": "execute_result"
    }
   ],
   "source": [
    "df = pd.DataFrame(np.random.randn(8, 2), index=index, columns=['A', 'B'])\n",
    "df "
   ]
  },
  {
   "cell_type": "code",
   "execution_count": 95,
   "metadata": {},
   "outputs": [
    {
     "data": {
      "text/html": [
       "<div>\n",
       "<style scoped>\n",
       "    .dataframe tbody tr th:only-of-type {\n",
       "        vertical-align: middle;\n",
       "    }\n",
       "\n",
       "    .dataframe tbody tr th {\n",
       "        vertical-align: top;\n",
       "    }\n",
       "\n",
       "    .dataframe thead th {\n",
       "        text-align: right;\n",
       "    }\n",
       "</style>\n",
       "<table border=\"1\" class=\"dataframe\">\n",
       "  <thead>\n",
       "    <tr style=\"text-align: right;\">\n",
       "      <th></th>\n",
       "      <th></th>\n",
       "      <th>A</th>\n",
       "      <th>B</th>\n",
       "    </tr>\n",
       "    <tr>\n",
       "      <th>first</th>\n",
       "      <th>second</th>\n",
       "      <th></th>\n",
       "      <th></th>\n",
       "    </tr>\n",
       "  </thead>\n",
       "  <tbody>\n",
       "    <tr>\n",
       "      <th rowspan=\"2\" valign=\"top\">bar</th>\n",
       "      <th>one</th>\n",
       "      <td>0.662204</td>\n",
       "      <td>-0.699341</td>\n",
       "    </tr>\n",
       "    <tr>\n",
       "      <th>two</th>\n",
       "      <td>-1.265394</td>\n",
       "      <td>-1.103553</td>\n",
       "    </tr>\n",
       "    <tr>\n",
       "      <th rowspan=\"2\" valign=\"top\">baz</th>\n",
       "      <th>one</th>\n",
       "      <td>0.031541</td>\n",
       "      <td>0.167991</td>\n",
       "    </tr>\n",
       "    <tr>\n",
       "      <th>two</th>\n",
       "      <td>1.108204</td>\n",
       "      <td>0.069486</td>\n",
       "    </tr>\n",
       "  </tbody>\n",
       "</table>\n",
       "</div>"
      ],
      "text/plain": [
       "                     A         B\n",
       "first second                    \n",
       "bar   one     0.662204 -0.699341\n",
       "      two    -1.265394 -1.103553\n",
       "baz   one     0.031541  0.167991\n",
       "      two     1.108204  0.069486"
      ]
     },
     "execution_count": 95,
     "metadata": {},
     "output_type": "execute_result"
    }
   ],
   "source": [
    "df2 = df[:4]\n",
    "df2"
   ]
  },
  {
   "cell_type": "code",
   "execution_count": 96,
   "metadata": {},
   "outputs": [
    {
     "data": {
      "text/plain": [
       "first  second   \n",
       "bar    one     A    0.662204\n",
       "               B   -0.699341\n",
       "       two     A   -1.265394\n",
       "               B   -1.103553\n",
       "baz    one     A    0.031541\n",
       "               B    0.167991\n",
       "       two     A    1.108204\n",
       "               B    0.069486\n",
       "dtype: float64"
      ]
     },
     "execution_count": 96,
     "metadata": {},
     "output_type": "execute_result"
    }
   ],
   "source": [
    "stacked = df2.stack()\n",
    "stacked"
   ]
  },
  {
   "cell_type": "code",
   "execution_count": 139,
   "metadata": {},
   "outputs": [
    {
     "data": {
      "text/html": [
       "<div>\n",
       "<table border=\"1\" class=\"dataframe\">\n",
       "  <thead>\n",
       "    <tr style=\"text-align: right;\">\n",
       "      <th></th>\n",
       "      <th></th>\n",
       "      <th>A</th>\n",
       "      <th>B</th>\n",
       "    </tr>\n",
       "    <tr>\n",
       "      <th>first</th>\n",
       "      <th>second</th>\n",
       "      <th></th>\n",
       "      <th></th>\n",
       "    </tr>\n",
       "  </thead>\n",
       "  <tbody>\n",
       "    <tr>\n",
       "      <th rowspan=\"2\" valign=\"top\">bar</th>\n",
       "      <th>one</th>\n",
       "      <td>0.365465</td>\n",
       "      <td>-0.281002</td>\n",
       "    </tr>\n",
       "    <tr>\n",
       "      <th>two</th>\n",
       "      <td>0.372559</td>\n",
       "      <td>0.115596</td>\n",
       "    </tr>\n",
       "    <tr>\n",
       "      <th rowspan=\"2\" valign=\"top\">baz</th>\n",
       "      <th>one</th>\n",
       "      <td>-0.112886</td>\n",
       "      <td>-0.614715</td>\n",
       "    </tr>\n",
       "    <tr>\n",
       "      <th>two</th>\n",
       "      <td>-1.163068</td>\n",
       "      <td>-0.285206</td>\n",
       "    </tr>\n",
       "  </tbody>\n",
       "</table>\n",
       "</div>"
      ],
      "text/plain": [
       "                     A         B\n",
       "first second                    \n",
       "bar   one     0.365465 -0.281002\n",
       "      two     0.372559  0.115596\n",
       "baz   one    -0.112886 -0.614715\n",
       "      two    -1.163068 -0.285206"
      ]
     },
     "execution_count": 139,
     "metadata": {},
     "output_type": "execute_result"
    }
   ],
   "source": [
    "stacked.unstack()"
   ]
  },
  {
   "cell_type": "code",
   "execution_count": 140,
   "metadata": {},
   "outputs": [
    {
     "data": {
      "text/html": [
       "<div>\n",
       "<table border=\"1\" class=\"dataframe\">\n",
       "  <thead>\n",
       "    <tr style=\"text-align: right;\">\n",
       "      <th></th>\n",
       "      <th>second</th>\n",
       "      <th>one</th>\n",
       "      <th>two</th>\n",
       "    </tr>\n",
       "    <tr>\n",
       "      <th>first</th>\n",
       "      <th></th>\n",
       "      <th></th>\n",
       "      <th></th>\n",
       "    </tr>\n",
       "  </thead>\n",
       "  <tbody>\n",
       "    <tr>\n",
       "      <th rowspan=\"2\" valign=\"top\">bar</th>\n",
       "      <th>A</th>\n",
       "      <td>0.365465</td>\n",
       "      <td>0.372559</td>\n",
       "    </tr>\n",
       "    <tr>\n",
       "      <th>B</th>\n",
       "      <td>-0.281002</td>\n",
       "      <td>0.115596</td>\n",
       "    </tr>\n",
       "    <tr>\n",
       "      <th rowspan=\"2\" valign=\"top\">baz</th>\n",
       "      <th>A</th>\n",
       "      <td>-0.112886</td>\n",
       "      <td>-1.163068</td>\n",
       "    </tr>\n",
       "    <tr>\n",
       "      <th>B</th>\n",
       "      <td>-0.614715</td>\n",
       "      <td>-0.285206</td>\n",
       "    </tr>\n",
       "  </tbody>\n",
       "</table>\n",
       "</div>"
      ],
      "text/plain": [
       "second        one       two\n",
       "first                      \n",
       "bar   A  0.365465  0.372559\n",
       "      B -0.281002  0.115596\n",
       "baz   A -0.112886 -1.163068\n",
       "      B -0.614715 -0.285206"
      ]
     },
     "execution_count": 140,
     "metadata": {},
     "output_type": "execute_result"
    }
   ],
   "source": [
    "stacked.unstack(1)"
   ]
  },
  {
   "cell_type": "markdown",
   "metadata": {},
   "source": [
    "### Pivot Tables"
   ]
  },
  {
   "cell_type": "code",
   "execution_count": 142,
   "metadata": {},
   "outputs": [
    {
     "data": {
      "text/html": [
       "<div>\n",
       "<table border=\"1\" class=\"dataframe\">\n",
       "  <thead>\n",
       "    <tr style=\"text-align: right;\">\n",
       "      <th></th>\n",
       "      <th>A</th>\n",
       "      <th>B</th>\n",
       "      <th>C</th>\n",
       "      <th>D</th>\n",
       "      <th>E</th>\n",
       "    </tr>\n",
       "  </thead>\n",
       "  <tbody>\n",
       "    <tr>\n",
       "      <th>0</th>\n",
       "      <td>one</td>\n",
       "      <td>A</td>\n",
       "      <td>foo</td>\n",
       "      <td>0.338325</td>\n",
       "      <td>0.170924</td>\n",
       "    </tr>\n",
       "    <tr>\n",
       "      <th>1</th>\n",
       "      <td>one</td>\n",
       "      <td>B</td>\n",
       "      <td>foo</td>\n",
       "      <td>-0.954263</td>\n",
       "      <td>1.199131</td>\n",
       "    </tr>\n",
       "    <tr>\n",
       "      <th>2</th>\n",
       "      <td>two</td>\n",
       "      <td>C</td>\n",
       "      <td>foo</td>\n",
       "      <td>0.524632</td>\n",
       "      <td>1.053874</td>\n",
       "    </tr>\n",
       "    <tr>\n",
       "      <th>3</th>\n",
       "      <td>three</td>\n",
       "      <td>A</td>\n",
       "      <td>bar</td>\n",
       "      <td>-0.203127</td>\n",
       "      <td>-0.604228</td>\n",
       "    </tr>\n",
       "    <tr>\n",
       "      <th>4</th>\n",
       "      <td>one</td>\n",
       "      <td>B</td>\n",
       "      <td>bar</td>\n",
       "      <td>-0.096628</td>\n",
       "      <td>-0.533568</td>\n",
       "    </tr>\n",
       "    <tr>\n",
       "      <th>5</th>\n",
       "      <td>one</td>\n",
       "      <td>C</td>\n",
       "      <td>bar</td>\n",
       "      <td>1.388521</td>\n",
       "      <td>0.311719</td>\n",
       "    </tr>\n",
       "    <tr>\n",
       "      <th>6</th>\n",
       "      <td>two</td>\n",
       "      <td>A</td>\n",
       "      <td>foo</td>\n",
       "      <td>0.944607</td>\n",
       "      <td>2.852945</td>\n",
       "    </tr>\n",
       "    <tr>\n",
       "      <th>7</th>\n",
       "      <td>three</td>\n",
       "      <td>B</td>\n",
       "      <td>foo</td>\n",
       "      <td>-1.728685</td>\n",
       "      <td>-0.465455</td>\n",
       "    </tr>\n",
       "    <tr>\n",
       "      <th>8</th>\n",
       "      <td>one</td>\n",
       "      <td>C</td>\n",
       "      <td>foo</td>\n",
       "      <td>0.167229</td>\n",
       "      <td>1.362380</td>\n",
       "    </tr>\n",
       "    <tr>\n",
       "      <th>9</th>\n",
       "      <td>one</td>\n",
       "      <td>A</td>\n",
       "      <td>bar</td>\n",
       "      <td>0.019099</td>\n",
       "      <td>-0.536344</td>\n",
       "    </tr>\n",
       "    <tr>\n",
       "      <th>10</th>\n",
       "      <td>two</td>\n",
       "      <td>B</td>\n",
       "      <td>bar</td>\n",
       "      <td>-0.175980</td>\n",
       "      <td>-1.207083</td>\n",
       "    </tr>\n",
       "    <tr>\n",
       "      <th>11</th>\n",
       "      <td>three</td>\n",
       "      <td>C</td>\n",
       "      <td>bar</td>\n",
       "      <td>-2.909208</td>\n",
       "      <td>1.379324</td>\n",
       "    </tr>\n",
       "  </tbody>\n",
       "</table>\n",
       "</div>"
      ],
      "text/plain": [
       "        A  B    C         D         E\n",
       "0     one  A  foo  0.338325  0.170924\n",
       "1     one  B  foo -0.954263  1.199131\n",
       "2     two  C  foo  0.524632  1.053874\n",
       "3   three  A  bar -0.203127 -0.604228\n",
       "4     one  B  bar -0.096628 -0.533568\n",
       "5     one  C  bar  1.388521  0.311719\n",
       "6     two  A  foo  0.944607  2.852945\n",
       "7   three  B  foo -1.728685 -0.465455\n",
       "8     one  C  foo  0.167229  1.362380\n",
       "9     one  A  bar  0.019099 -0.536344\n",
       "10    two  B  bar -0.175980 -1.207083\n",
       "11  three  C  bar -2.909208  1.379324"
      ]
     },
     "execution_count": 142,
     "metadata": {},
     "output_type": "execute_result"
    }
   ],
   "source": [
    "df = pd.DataFrame({'A' : ['one', 'one', 'two', 'three'] * 3,\n",
    "                      'B' : ['A', 'B', 'C'] * 4,\n",
    "                     'C' : ['foo', 'foo', 'foo', 'bar', 'bar', 'bar'] * 2,\n",
    "                    'D' : np.random.randn(12),\n",
    "                     'E' : np.random.randn(12)})\n",
    "df"
   ]
  },
  {
   "cell_type": "code",
   "execution_count": 143,
   "metadata": {},
   "outputs": [
    {
     "data": {
      "text/html": [
       "<div>\n",
       "<table border=\"1\" class=\"dataframe\">\n",
       "  <thead>\n",
       "    <tr style=\"text-align: right;\">\n",
       "      <th></th>\n",
       "      <th>C</th>\n",
       "      <th>bar</th>\n",
       "      <th>foo</th>\n",
       "    </tr>\n",
       "    <tr>\n",
       "      <th>A</th>\n",
       "      <th>B</th>\n",
       "      <th></th>\n",
       "      <th></th>\n",
       "    </tr>\n",
       "  </thead>\n",
       "  <tbody>\n",
       "    <tr>\n",
       "      <th rowspan=\"3\" valign=\"top\">one</th>\n",
       "      <th>A</th>\n",
       "      <td>0.019099</td>\n",
       "      <td>0.338325</td>\n",
       "    </tr>\n",
       "    <tr>\n",
       "      <th>B</th>\n",
       "      <td>-0.096628</td>\n",
       "      <td>-0.954263</td>\n",
       "    </tr>\n",
       "    <tr>\n",
       "      <th>C</th>\n",
       "      <td>1.388521</td>\n",
       "      <td>0.167229</td>\n",
       "    </tr>\n",
       "    <tr>\n",
       "      <th rowspan=\"3\" valign=\"top\">three</th>\n",
       "      <th>A</th>\n",
       "      <td>-0.203127</td>\n",
       "      <td>NaN</td>\n",
       "    </tr>\n",
       "    <tr>\n",
       "      <th>B</th>\n",
       "      <td>NaN</td>\n",
       "      <td>-1.728685</td>\n",
       "    </tr>\n",
       "    <tr>\n",
       "      <th>C</th>\n",
       "      <td>-2.909208</td>\n",
       "      <td>NaN</td>\n",
       "    </tr>\n",
       "    <tr>\n",
       "      <th rowspan=\"3\" valign=\"top\">two</th>\n",
       "      <th>A</th>\n",
       "      <td>NaN</td>\n",
       "      <td>0.944607</td>\n",
       "    </tr>\n",
       "    <tr>\n",
       "      <th>B</th>\n",
       "      <td>-0.175980</td>\n",
       "      <td>NaN</td>\n",
       "    </tr>\n",
       "    <tr>\n",
       "      <th>C</th>\n",
       "      <td>NaN</td>\n",
       "      <td>0.524632</td>\n",
       "    </tr>\n",
       "  </tbody>\n",
       "</table>\n",
       "</div>"
      ],
      "text/plain": [
       "C             bar       foo\n",
       "A     B                    \n",
       "one   A  0.019099  0.338325\n",
       "      B -0.096628 -0.954263\n",
       "      C  1.388521  0.167229\n",
       "three A -0.203127       NaN\n",
       "      B       NaN -1.728685\n",
       "      C -2.909208       NaN\n",
       "two   A       NaN  0.944607\n",
       "      B -0.175980       NaN\n",
       "      C       NaN  0.524632"
      ]
     },
     "execution_count": 143,
     "metadata": {},
     "output_type": "execute_result"
    }
   ],
   "source": [
    "pd.pivot_table(df, values='D', index=['A', 'B'], columns=['C'])"
   ]
  },
  {
   "cell_type": "markdown",
   "metadata": {},
   "source": [
    "## Time Series"
   ]
  },
  {
   "cell_type": "code",
   "execution_count": 147,
   "metadata": {},
   "outputs": [
    {
     "data": {
      "text/plain": [
       "240.01"
      ]
     },
     "execution_count": 147,
     "metadata": {},
     "output_type": "execute_result"
    }
   ],
   "source": [
    "rng = pd.date_range('1/1/2012', periods=100, freq='S')\n",
    "ts = pd.Series(np.random.randint(0, 500, len(rng)), index=rng)\n",
    "ts.resample('5Min').sum()"
   ]
  },
  {
   "cell_type": "code",
   "execution_count": 148,
   "metadata": {},
   "outputs": [
    {
     "data": {
      "text/plain": [
       "2012-03-06   -1.160519\n",
       "2012-03-07   -1.306513\n",
       "2012-03-08    0.275214\n",
       "2012-03-09   -1.062201\n",
       "2012-03-10   -1.637720\n",
       "Freq: D, dtype: float64"
      ]
     },
     "execution_count": 148,
     "metadata": {},
     "output_type": "execute_result"
    }
   ],
   "source": [
    "rng = pd.date_range('3/6/2012 00:00', periods=5, freq='D')\n",
    "ts = pd.Series(np.random.randn(len(rng)), rng)\n",
    "ts"
   ]
  },
  {
   "cell_type": "code",
   "execution_count": 149,
   "metadata": {},
   "outputs": [
    {
     "data": {
      "text/plain": [
       "2012-03-06 00:00:00+00:00   -1.160519\n",
       "2012-03-07 00:00:00+00:00   -1.306513\n",
       "2012-03-08 00:00:00+00:00    0.275214\n",
       "2012-03-09 00:00:00+00:00   -1.062201\n",
       "2012-03-10 00:00:00+00:00   -1.637720\n",
       "Freq: D, dtype: float64"
      ]
     },
     "execution_count": 149,
     "metadata": {},
     "output_type": "execute_result"
    }
   ],
   "source": [
    "ts_utc = ts.tz_localize('UTC')\n",
    "ts_utc"
   ]
  },
  {
   "cell_type": "code",
   "execution_count": 151,
   "metadata": {},
   "outputs": [
    {
     "data": {
      "text/plain": [
       "2012-03-06 00:00:00+00:00   -1.160519\n",
       "2012-03-07 00:00:00+00:00   -1.306513\n",
       "2012-03-08 00:00:00+00:00    0.275214\n",
       "2012-03-09 00:00:00+00:00   -1.062201\n",
       "2012-03-10 00:00:00+00:00   -1.637720\n",
       "Freq: D, dtype: float64"
      ]
     },
     "execution_count": 151,
     "metadata": {},
     "output_type": "execute_result"
    }
   ],
   "source": [
    "ts_utc.tz_convert('US/Eastern')\n",
    "ts_utc"
   ]
  },
  {
   "cell_type": "code",
   "execution_count": 152,
   "metadata": {},
   "outputs": [
    {
     "data": {
      "text/plain": [
       "2012-01-31    1.756279\n",
       "2012-02-29   -0.084709\n",
       "2012-03-31    0.888509\n",
       "2012-04-30    0.506253\n",
       "2012-05-31    0.745735\n",
       "Freq: M, dtype: float64"
      ]
     },
     "execution_count": 152,
     "metadata": {},
     "output_type": "execute_result"
    }
   ],
   "source": [
    "rng = pd.date_range('1/1/2012', periods=5, freq='M')\n",
    "ts = pd.Series(np.random.randn(len(rng)), index=rng)\n",
    "ts"
   ]
  },
  {
   "cell_type": "code",
   "execution_count": 153,
   "metadata": {},
   "outputs": [
    {
     "data": {
      "text/plain": [
       "2012-01    1.756279\n",
       "2012-02   -0.084709\n",
       "2012-03    0.888509\n",
       "2012-04    0.506253\n",
       "2012-05    0.745735\n",
       "Freq: M, dtype: float64"
      ]
     },
     "execution_count": 153,
     "metadata": {},
     "output_type": "execute_result"
    }
   ],
   "source": [
    "ps = ts.to_period()\n",
    "ps"
   ]
  },
  {
   "cell_type": "code",
   "execution_count": 154,
   "metadata": {},
   "outputs": [
    {
     "data": {
      "text/plain": [
       "2012-01    1.756279\n",
       "2012-02   -0.084709\n",
       "2012-03    0.888509\n",
       "2012-04    0.506253\n",
       "2012-05    0.745735\n",
       "Freq: M, dtype: float64"
      ]
     },
     "execution_count": 154,
     "metadata": {},
     "output_type": "execute_result"
    }
   ],
   "source": [
    "ps.to_timestamp()\n",
    "ps"
   ]
  },
  {
   "cell_type": "code",
   "execution_count": 155,
   "metadata": {},
   "outputs": [
    {
     "data": {
      "text/plain": [
       "1990-03-01 09:00   -1.357079\n",
       "1990-06-01 09:00    0.592307\n",
       "1990-09-01 09:00   -0.529103\n",
       "1990-12-01 09:00    0.256763\n",
       "1991-03-01 09:00   -0.897671\n",
       "Freq: H, dtype: float64"
      ]
     },
     "execution_count": 155,
     "metadata": {},
     "output_type": "execute_result"
    }
   ],
   "source": [
    "prng = pd.period_range('1990Q1', '2000Q4', freq='Q-NOV')\n",
    "ts = pd.Series(np.random.randn(len(prng)), prng)\n",
    "ts.index = (prng.asfreq('M', 'e') + 1).asfreq('H', 's') + 9\n",
    "ts.head()"
   ]
  },
  {
   "cell_type": "markdown",
   "metadata": {},
   "source": [
    "## Categoricals"
   ]
  },
  {
   "cell_type": "code",
   "execution_count": 157,
   "metadata": {},
   "outputs": [
    {
     "data": {
      "text/html": [
       "<div>\n",
       "<table border=\"1\" class=\"dataframe\">\n",
       "  <thead>\n",
       "    <tr style=\"text-align: right;\">\n",
       "      <th></th>\n",
       "      <th>id</th>\n",
       "      <th>raw_grade</th>\n",
       "    </tr>\n",
       "  </thead>\n",
       "  <tbody>\n",
       "    <tr>\n",
       "      <th>0</th>\n",
       "      <td>1</td>\n",
       "      <td>a</td>\n",
       "    </tr>\n",
       "    <tr>\n",
       "      <th>1</th>\n",
       "      <td>2</td>\n",
       "      <td>b</td>\n",
       "    </tr>\n",
       "    <tr>\n",
       "      <th>2</th>\n",
       "      <td>3</td>\n",
       "      <td>b</td>\n",
       "    </tr>\n",
       "    <tr>\n",
       "      <th>3</th>\n",
       "      <td>4</td>\n",
       "      <td>a</td>\n",
       "    </tr>\n",
       "    <tr>\n",
       "      <th>4</th>\n",
       "      <td>5</td>\n",
       "      <td>a</td>\n",
       "    </tr>\n",
       "    <tr>\n",
       "      <th>5</th>\n",
       "      <td>6</td>\n",
       "      <td>e</td>\n",
       "    </tr>\n",
       "  </tbody>\n",
       "</table>\n",
       "</div>"
      ],
      "text/plain": [
       "   id raw_grade\n",
       "0   1         a\n",
       "1   2         b\n",
       "2   3         b\n",
       "3   4         a\n",
       "4   5         a\n",
       "5   6         e"
      ]
     },
     "execution_count": 157,
     "metadata": {},
     "output_type": "execute_result"
    }
   ],
   "source": [
    "df = pd.DataFrame({\"id\":[1,2,3,4,5,6], \"raw_grade\":['a', 'b', 'b', 'a', 'a', 'e']})\n",
    "df"
   ]
  },
  {
   "cell_type": "code",
   "execution_count": 158,
   "metadata": {},
   "outputs": [
    {
     "data": {
      "text/plain": [
       "0    a\n",
       "1    b\n",
       "2    b\n",
       "3    a\n",
       "4    a\n",
       "5    e\n",
       "Name: grade, dtype: category\n",
       "Categories (3, object): [a, b, e]"
      ]
     },
     "execution_count": 158,
     "metadata": {},
     "output_type": "execute_result"
    }
   ],
   "source": [
    "df[\"grade\"] = df[\"raw_grade\"].astype(\"category\")\n",
    "df[\"grade\"]"
   ]
  },
  {
   "cell_type": "code",
   "execution_count": 163,
   "metadata": {},
   "outputs": [
    {
     "data": {
      "text/html": [
       "<div>\n",
       "<table border=\"1\" class=\"dataframe\">\n",
       "  <thead>\n",
       "    <tr style=\"text-align: right;\">\n",
       "      <th></th>\n",
       "      <th>id</th>\n",
       "      <th>raw_grade</th>\n",
       "      <th>grade</th>\n",
       "    </tr>\n",
       "  </thead>\n",
       "  <tbody>\n",
       "    <tr>\n",
       "      <th>0</th>\n",
       "      <td>1</td>\n",
       "      <td>a</td>\n",
       "      <td>very good</td>\n",
       "    </tr>\n",
       "    <tr>\n",
       "      <th>1</th>\n",
       "      <td>2</td>\n",
       "      <td>b</td>\n",
       "      <td>good</td>\n",
       "    </tr>\n",
       "    <tr>\n",
       "      <th>2</th>\n",
       "      <td>3</td>\n",
       "      <td>b</td>\n",
       "      <td>good</td>\n",
       "    </tr>\n",
       "    <tr>\n",
       "      <th>3</th>\n",
       "      <td>4</td>\n",
       "      <td>a</td>\n",
       "      <td>very good</td>\n",
       "    </tr>\n",
       "    <tr>\n",
       "      <th>4</th>\n",
       "      <td>5</td>\n",
       "      <td>a</td>\n",
       "      <td>very good</td>\n",
       "    </tr>\n",
       "    <tr>\n",
       "      <th>5</th>\n",
       "      <td>6</td>\n",
       "      <td>e</td>\n",
       "      <td>very bad</td>\n",
       "    </tr>\n",
       "  </tbody>\n",
       "</table>\n",
       "</div>"
      ],
      "text/plain": [
       "   id raw_grade      grade\n",
       "0   1         a  very good\n",
       "1   2         b       good\n",
       "2   3         b       good\n",
       "3   4         a  very good\n",
       "4   5         a  very good\n",
       "5   6         e   very bad"
      ]
     },
     "execution_count": 163,
     "metadata": {},
     "output_type": "execute_result"
    }
   ],
   "source": [
    "df"
   ]
  },
  {
   "cell_type": "code",
   "execution_count": 160,
   "metadata": {
    "collapsed": true
   },
   "outputs": [],
   "source": [
    "df[\"grade\"].cat.categories = [\"very good\", \"good\", \"very bad\"]"
   ]
  },
  {
   "cell_type": "code",
   "execution_count": 162,
   "metadata": {
    "collapsed": true
   },
   "outputs": [],
   "source": [
    "df[\"grade\"] = df[\"grade\"].cat.set_categories([\"very bad\", \"bad\", \"medium\", \"good\", \"very good\"])"
   ]
  },
  {
   "cell_type": "code",
   "execution_count": 88,
   "metadata": {
    "collapsed": true
   },
   "outputs": [],
   "source": [
    "# df.sort_values(by=\"grade\")"
   ]
  },
  {
   "cell_type": "markdown",
   "metadata": {},
   "source": [
    "## Plotting"
   ]
  },
  {
   "cell_type": "code",
   "execution_count": 97,
   "metadata": {},
   "outputs": [
    {
     "data": {
      "text/plain": [
       "<matplotlib.axes._subplots.AxesSubplot at 0x7f2aa29e9da0>"
      ]
     },
     "execution_count": 97,
     "metadata": {},
     "output_type": "execute_result"
    },
    {
     "data": {
      "image/png": "[encoded data removed]",
      "text/plain": [
       "<Figure size 432x288 with 1 Axes>"
      ]
     },
     "metadata": {
      "needs_background": "light"
     },
     "output_type": "display_data"
    }
   ],
   "source": [
    "ts = pd.Series(np.random.randn(1000), index=pd.date_range('1/1/2000', periods=1000))\n",
    "ts = ts.cumsum()\n",
    "ts.plot()"
   ]
  },
  {
   "cell_type": "code",
   "execution_count": 98,
   "metadata": {},
   "outputs": [
    {
     "data": {
      "text/html": [
       "<div>\n",
       "<style scoped>\n",
       "    .dataframe tbody tr th:only-of-type {\n",
       "        vertical-align: middle;\n",
       "    }\n",
       "\n",
       "    .dataframe tbody tr th {\n",
       "        vertical-align: top;\n",
       "    }\n",
       "\n",
       "    .dataframe thead th {\n",
       "        text-align: right;\n",
       "    }\n",
       "</style>\n",
       "<table border=\"1\" class=\"dataframe\">\n",
       "  <thead>\n",
       "    <tr style=\"text-align: right;\">\n",
       "      <th></th>\n",
       "      <th>A</th>\n",
       "      <th>B</th>\n",
       "      <th>C</th>\n",
       "      <th>D</th>\n",
       "    </tr>\n",
       "  </thead>\n",
       "  <tbody>\n",
       "    <tr>\n",
       "      <th>2000-01-01</th>\n",
       "      <td>-0.259975</td>\n",
       "      <td>0.903775</td>\n",
       "      <td>0.551689</td>\n",
       "      <td>-0.933876</td>\n",
       "    </tr>\n",
       "    <tr>\n",
       "      <th>2000-01-02</th>\n",
       "      <td>-1.568794</td>\n",
       "      <td>1.350933</td>\n",
       "      <td>-0.637468</td>\n",
       "      <td>-0.337829</td>\n",
       "    </tr>\n",
       "    <tr>\n",
       "      <th>2000-01-03</th>\n",
       "      <td>-2.335433</td>\n",
       "      <td>2.175153</td>\n",
       "      <td>1.594338</td>\n",
       "      <td>0.511299</td>\n",
       "    </tr>\n",
       "    <tr>\n",
       "      <th>2000-01-04</th>\n",
       "      <td>-3.814074</td>\n",
       "      <td>0.402492</td>\n",
       "      <td>0.940510</td>\n",
       "      <td>1.114738</td>\n",
       "    </tr>\n",
       "    <tr>\n",
       "      <th>2000-01-05</th>\n",
       "      <td>-3.387966</td>\n",
       "      <td>0.054125</td>\n",
       "      <td>2.551000</td>\n",
       "      <td>-0.082197</td>\n",
       "    </tr>\n",
       "    <tr>\n",
       "      <th>2000-01-06</th>\n",
       "      <td>-2.375883</td>\n",
       "      <td>-0.349873</td>\n",
       "      <td>1.126705</td>\n",
       "      <td>-2.030056</td>\n",
       "    </tr>\n",
       "    <tr>\n",
       "      <th>2000-01-07</th>\n",
       "      <td>-2.277851</td>\n",
       "      <td>-0.747596</td>\n",
       "      <td>2.446444</td>\n",
       "      <td>-1.735464</td>\n",
       "    </tr>\n",
       "    <tr>\n",
       "      <th>2000-01-08</th>\n",
       "      <td>-2.196354</td>\n",
       "      <td>-0.205400</td>\n",
       "      <td>2.166646</td>\n",
       "      <td>-3.684573</td>\n",
       "    </tr>\n",
       "    <tr>\n",
       "      <th>2000-01-09</th>\n",
       "      <td>-2.354734</td>\n",
       "      <td>-0.095928</td>\n",
       "      <td>2.191545</td>\n",
       "      <td>-3.247364</td>\n",
       "    </tr>\n",
       "    <tr>\n",
       "      <th>2000-01-10</th>\n",
       "      <td>-2.139255</td>\n",
       "      <td>2.271983</td>\n",
       "      <td>3.337886</td>\n",
       "      <td>-3.228287</td>\n",
       "    </tr>\n",
       "    <tr>\n",
       "      <th>2000-01-11</th>\n",
       "      <td>-1.450314</td>\n",
       "      <td>2.321296</td>\n",
       "      <td>3.183123</td>\n",
       "      <td>-2.445252</td>\n",
       "    </tr>\n",
       "    <tr>\n",
       "      <th>2000-01-12</th>\n",
       "      <td>-2.199783</td>\n",
       "      <td>1.417609</td>\n",
       "      <td>2.850160</td>\n",
       "      <td>-3.068438</td>\n",
       "    </tr>\n",
       "    <tr>\n",
       "      <th>2000-01-13</th>\n",
       "      <td>-3.763738</td>\n",
       "      <td>0.780935</td>\n",
       "      <td>3.574504</td>\n",
       "      <td>-4.612289</td>\n",
       "    </tr>\n",
       "    <tr>\n",
       "      <th>2000-01-14</th>\n",
       "      <td>-4.807330</td>\n",
       "      <td>0.332797</td>\n",
       "      <td>3.874526</td>\n",
       "      <td>-3.204412</td>\n",
       "    </tr>\n",
       "    <tr>\n",
       "      <th>2000-01-15</th>\n",
       "      <td>-4.565579</td>\n",
       "      <td>0.435627</td>\n",
       "      <td>2.809602</td>\n",
       "      <td>-3.709987</td>\n",
       "    </tr>\n",
       "    <tr>\n",
       "      <th>2000-01-16</th>\n",
       "      <td>-4.270337</td>\n",
       "      <td>-0.561608</td>\n",
       "      <td>2.310165</td>\n",
       "      <td>-4.425879</td>\n",
       "    </tr>\n",
       "    <tr>\n",
       "      <th>2000-01-17</th>\n",
       "      <td>-3.777516</td>\n",
       "      <td>-0.456312</td>\n",
       "      <td>5.130410</td>\n",
       "      <td>-3.724467</td>\n",
       "    </tr>\n",
       "    <tr>\n",
       "      <th>2000-01-18</th>\n",
       "      <td>-4.611387</td>\n",
       "      <td>-1.499481</td>\n",
       "      <td>4.905154</td>\n",
       "      <td>-3.133542</td>\n",
       "    </tr>\n",
       "    <tr>\n",
       "      <th>2000-01-19</th>\n",
       "      <td>-6.774557</td>\n",
       "      <td>-2.388634</td>\n",
       "      <td>4.569958</td>\n",
       "      <td>-1.565141</td>\n",
       "    </tr>\n",
       "    <tr>\n",
       "      <th>2000-01-20</th>\n",
       "      <td>-5.644582</td>\n",
       "      <td>-2.547993</td>\n",
       "      <td>6.311386</td>\n",
       "      <td>-3.114118</td>\n",
       "    </tr>\n",
       "    <tr>\n",
       "      <th>2000-01-21</th>\n",
       "      <td>-4.773709</td>\n",
       "      <td>-1.595827</td>\n",
       "      <td>6.955819</td>\n",
       "      <td>-2.925945</td>\n",
       "    </tr>\n",
       "    <tr>\n",
       "      <th>2000-01-22</th>\n",
       "      <td>-4.312765</td>\n",
       "      <td>-1.968877</td>\n",
       "      <td>8.287622</td>\n",
       "      <td>-3.719044</td>\n",
       "    </tr>\n",
       "    <tr>\n",
       "      <th>2000-01-23</th>\n",
       "      <td>-4.391860</td>\n",
       "      <td>-1.946506</td>\n",
       "      <td>9.126583</td>\n",
       "      <td>-5.578565</td>\n",
       "    </tr>\n",
       "    <tr>\n",
       "      <th>2000-01-24</th>\n",
       "      <td>-3.985862</td>\n",
       "      <td>-2.686370</td>\n",
       "      <td>9.735706</td>\n",
       "      <td>-4.905370</td>\n",
       "    </tr>\n",
       "    <tr>\n",
       "      <th>2000-01-25</th>\n",
       "      <td>-3.937002</td>\n",
       "      <td>-0.614780</td>\n",
       "      <td>9.872419</td>\n",
       "      <td>-7.978627</td>\n",
       "    </tr>\n",
       "    <tr>\n",
       "      <th>2000-01-26</th>\n",
       "      <td>-5.555989</td>\n",
       "      <td>-1.683267</td>\n",
       "      <td>8.230660</td>\n",
       "      <td>-6.491815</td>\n",
       "    </tr>\n",
       "    <tr>\n",
       "      <th>2000-01-27</th>\n",
       "      <td>-6.341526</td>\n",
       "      <td>-1.810328</td>\n",
       "      <td>8.652585</td>\n",
       "      <td>-7.766046</td>\n",
       "    </tr>\n",
       "    <tr>\n",
       "      <th>2000-01-28</th>\n",
       "      <td>-6.709430</td>\n",
       "      <td>-1.420640</td>\n",
       "      <td>8.159437</td>\n",
       "      <td>-7.463666</td>\n",
       "    </tr>\n",
       "    <tr>\n",
       "      <th>2000-01-29</th>\n",
       "      <td>-7.027707</td>\n",
       "      <td>-1.304094</td>\n",
       "      <td>8.611487</td>\n",
       "      <td>-7.115003</td>\n",
       "    </tr>\n",
       "    <tr>\n",
       "      <th>2000-01-30</th>\n",
       "      <td>-5.917411</td>\n",
       "      <td>-2.081826</td>\n",
       "      <td>9.713483</td>\n",
       "      <td>-6.333012</td>\n",
       "    </tr>\n",
       "    <tr>\n",
       "      <th>...</th>\n",
       "      <td>...</td>\n",
       "      <td>...</td>\n",
       "      <td>...</td>\n",
       "      <td>...</td>\n",
       "    </tr>\n",
       "    <tr>\n",
       "      <th>2002-08-28</th>\n",
       "      <td>0.771001</td>\n",
       "      <td>4.988153</td>\n",
       "      <td>17.571689</td>\n",
       "      <td>-8.743279</td>\n",
       "    </tr>\n",
       "    <tr>\n",
       "      <th>2002-08-29</th>\n",
       "      <td>0.844188</td>\n",
       "      <td>3.479715</td>\n",
       "      <td>17.010435</td>\n",
       "      <td>-8.190873</td>\n",
       "    </tr>\n",
       "    <tr>\n",
       "      <th>2002-08-30</th>\n",
       "      <td>-0.769449</td>\n",
       "      <td>3.783328</td>\n",
       "      <td>16.545638</td>\n",
       "      <td>-9.180172</td>\n",
       "    </tr>\n",
       "    <tr>\n",
       "      <th>2002-08-31</th>\n",
       "      <td>0.048145</td>\n",
       "      <td>3.163602</td>\n",
       "      <td>14.760765</td>\n",
       "      <td>-10.108193</td>\n",
       "    </tr>\n",
       "    <tr>\n",
       "      <th>2002-09-01</th>\n",
       "      <td>-0.289083</td>\n",
       "      <td>3.570940</td>\n",
       "      <td>15.971474</td>\n",
       "      <td>-8.688269</td>\n",
       "    </tr>\n",
       "    <tr>\n",
       "      <th>2002-09-02</th>\n",
       "      <td>-1.978687</td>\n",
       "      <td>3.566982</td>\n",
       "      <td>16.034548</td>\n",
       "      <td>-9.443435</td>\n",
       "    </tr>\n",
       "    <tr>\n",
       "      <th>2002-09-03</th>\n",
       "      <td>-0.783339</td>\n",
       "      <td>3.438387</td>\n",
       "      <td>16.342824</td>\n",
       "      <td>-9.199027</td>\n",
       "    </tr>\n",
       "    <tr>\n",
       "      <th>2002-09-04</th>\n",
       "      <td>-2.463876</td>\n",
       "      <td>1.214088</td>\n",
       "      <td>17.072236</td>\n",
       "      <td>-8.608466</td>\n",
       "    </tr>\n",
       "    <tr>\n",
       "      <th>2002-09-05</th>\n",
       "      <td>-2.129899</td>\n",
       "      <td>1.640557</td>\n",
       "      <td>16.655168</td>\n",
       "      <td>-8.784841</td>\n",
       "    </tr>\n",
       "    <tr>\n",
       "      <th>2002-09-06</th>\n",
       "      <td>-1.405086</td>\n",
       "      <td>3.796710</td>\n",
       "      <td>16.719198</td>\n",
       "      <td>-9.503159</td>\n",
       "    </tr>\n",
       "    <tr>\n",
       "      <th>2002-09-07</th>\n",
       "      <td>-0.111828</td>\n",
       "      <td>1.871862</td>\n",
       "      <td>16.523707</td>\n",
       "      <td>-9.762045</td>\n",
       "    </tr>\n",
       "    <tr>\n",
       "      <th>2002-09-08</th>\n",
       "      <td>-0.016029</td>\n",
       "      <td>0.711293</td>\n",
       "      <td>18.016882</td>\n",
       "      <td>-10.266837</td>\n",
       "    </tr>\n",
       "    <tr>\n",
       "      <th>2002-09-09</th>\n",
       "      <td>-0.659497</td>\n",
       "      <td>0.935458</td>\n",
       "      <td>19.267763</td>\n",
       "      <td>-12.465674</td>\n",
       "    </tr>\n",
       "    <tr>\n",
       "      <th>2002-09-10</th>\n",
       "      <td>-1.495224</td>\n",
       "      <td>0.573938</td>\n",
       "      <td>19.347539</td>\n",
       "      <td>-13.573794</td>\n",
       "    </tr>\n",
       "    <tr>\n",
       "      <th>2002-09-11</th>\n",
       "      <td>-1.452010</td>\n",
       "      <td>-0.375318</td>\n",
       "      <td>18.125689</td>\n",
       "      <td>-13.562654</td>\n",
       "    </tr>\n",
       "    <tr>\n",
       "      <th>2002-09-12</th>\n",
       "      <td>-1.078770</td>\n",
       "      <td>0.563663</td>\n",
       "      <td>18.518933</td>\n",
       "      <td>-14.546567</td>\n",
       "    </tr>\n",
       "    <tr>\n",
       "      <th>2002-09-13</th>\n",
       "      <td>-1.697353</td>\n",
       "      <td>1.212176</td>\n",
       "      <td>18.967843</td>\n",
       "      <td>-14.974043</td>\n",
       "    </tr>\n",
       "    <tr>\n",
       "      <th>2002-09-14</th>\n",
       "      <td>-1.345970</td>\n",
       "      <td>1.394363</td>\n",
       "      <td>18.894292</td>\n",
       "      <td>-14.202187</td>\n",
       "    </tr>\n",
       "    <tr>\n",
       "      <th>2002-09-15</th>\n",
       "      <td>-2.960265</td>\n",
       "      <td>0.845468</td>\n",
       "      <td>19.234980</td>\n",
       "      <td>-16.107476</td>\n",
       "    </tr>\n",
       "    <tr>\n",
       "      <th>2002-09-16</th>\n",
       "      <td>-1.490836</td>\n",
       "      <td>-0.136698</td>\n",
       "      <td>20.612974</td>\n",
       "      <td>-15.306366</td>\n",
       "    </tr>\n",
       "    <tr>\n",
       "      <th>2002-09-17</th>\n",
       "      <td>-1.233757</td>\n",
       "      <td>0.262323</td>\n",
       "      <td>20.481335</td>\n",
       "      <td>-15.884591</td>\n",
       "    </tr>\n",
       "    <tr>\n",
       "      <th>2002-09-18</th>\n",
       "      <td>-2.897553</td>\n",
       "      <td>-0.083342</td>\n",
       "      <td>21.503703</td>\n",
       "      <td>-16.087732</td>\n",
       "    </tr>\n",
       "    <tr>\n",
       "      <th>2002-09-19</th>\n",
       "      <td>-2.200995</td>\n",
       "      <td>1.713379</td>\n",
       "      <td>22.342127</td>\n",
       "      <td>-17.735287</td>\n",
       "    </tr>\n",
       "    <tr>\n",
       "      <th>2002-09-20</th>\n",
       "      <td>-0.786433</td>\n",
       "      <td>2.126514</td>\n",
       "      <td>20.623003</td>\n",
       "      <td>-17.212385</td>\n",
       "    </tr>\n",
       "    <tr>\n",
       "      <th>2002-09-21</th>\n",
       "      <td>-1.721071</td>\n",
       "      <td>1.075092</td>\n",
       "      <td>19.862628</td>\n",
       "      <td>-17.443601</td>\n",
       "    </tr>\n",
       "    <tr>\n",
       "      <th>2002-09-22</th>\n",
       "      <td>-0.580080</td>\n",
       "      <td>2.035934</td>\n",
       "      <td>22.414173</td>\n",
       "      <td>-16.246566</td>\n",
       "    </tr>\n",
       "    <tr>\n",
       "      <th>2002-09-23</th>\n",
       "      <td>-0.491388</td>\n",
       "      <td>2.482096</td>\n",
       "      <td>21.459122</td>\n",
       "      <td>-18.443736</td>\n",
       "    </tr>\n",
       "    <tr>\n",
       "      <th>2002-09-24</th>\n",
       "      <td>0.391468</td>\n",
       "      <td>2.486056</td>\n",
       "      <td>21.803786</td>\n",
       "      <td>-20.283844</td>\n",
       "    </tr>\n",
       "    <tr>\n",
       "      <th>2002-09-25</th>\n",
       "      <td>1.170254</td>\n",
       "      <td>2.217701</td>\n",
       "      <td>21.000375</td>\n",
       "      <td>-21.132040</td>\n",
       "    </tr>\n",
       "    <tr>\n",
       "      <th>2002-09-26</th>\n",
       "      <td>-0.023913</td>\n",
       "      <td>1.992378</td>\n",
       "      <td>22.687831</td>\n",
       "      <td>-20.525557</td>\n",
       "    </tr>\n",
       "  </tbody>\n",
       "</table>\n",
       "<p>1000 rows × 4 columns</p>\n",
       "</div>"
      ],
      "text/plain": [
       "                   A         B          C          D\n",
       "2000-01-01 -0.259975  0.903775   0.551689  -0.933876\n",
       "2000-01-02 -1.568794  1.350933  -0.637468  -0.337829\n",
       "2000-01-03 -2.335433  2.175153   1.594338   0.511299\n",
       "2000-01-04 -3.814074  0.402492   0.940510   1.114738\n",
       "2000-01-05 -3.387966  0.054125   2.551000  -0.082197\n",
       "2000-01-06 -2.375883 -0.349873   1.126705  -2.030056\n",
       "2000-01-07 -2.277851 -0.747596   2.446444  -1.735464\n",
       "2000-01-08 -2.196354 -0.205400   2.166646  -3.684573\n",
       "2000-01-09 -2.354734 -0.095928   2.191545  -3.247364\n",
       "2000-01-10 -2.139255  2.271983   3.337886  -3.228287\n",
       "2000-01-11 -1.450314  2.321296   3.183123  -2.445252\n",
       "2000-01-12 -2.199783  1.417609   2.850160  -3.068438\n",
       "2000-01-13 -3.763738  0.780935   3.574504  -4.612289\n",
       "2000-01-14 -4.807330  0.332797   3.874526  -3.204412\n",
       "2000-01-15 -4.565579  0.435627   2.809602  -3.709987\n",
       "2000-01-16 -4.270337 -0.561608   2.310165  -4.425879\n",
       "2000-01-17 -3.777516 -0.456312   5.130410  -3.724467\n",
       "2000-01-18 -4.611387 -1.499481   4.905154  -3.133542\n",
       "2000-01-19 -6.774557 -2.388634   4.569958  -1.565141\n",
       "2000-01-20 -5.644582 -2.547993   6.311386  -3.114118\n",
       "2000-01-21 -4.773709 -1.595827   6.955819  -2.925945\n",
       "2000-01-22 -4.312765 -1.968877   8.287622  -3.719044\n",
       "2000-01-23 -4.391860 -1.946506   9.126583  -5.578565\n",
       "2000-01-24 -3.985862 -2.686370   9.735706  -4.905370\n",
       "2000-01-25 -3.937002 -0.614780   9.872419  -7.978627\n",
       "2000-01-26 -5.555989 -1.683267   8.230660  -6.491815\n",
       "2000-01-27 -6.341526 -1.810328   8.652585  -7.766046\n",
       "2000-01-28 -6.709430 -1.420640   8.159437  -7.463666\n",
       "2000-01-29 -7.027707 -1.304094   8.611487  -7.115003\n",
       "2000-01-30 -5.917411 -2.081826   9.713483  -6.333012\n",
       "...              ...       ...        ...        ...\n",
       "2002-08-28  0.771001  4.988153  17.571689  -8.743279\n",
       "2002-08-29  0.844188  3.479715  17.010435  -8.190873\n",
       "2002-08-30 -0.769449  3.783328  16.545638  -9.180172\n",
       "2002-08-31  0.048145  3.163602  14.760765 -10.108193\n",
       "2002-09-01 -0.289083  3.570940  15.971474  -8.688269\n",
       "2002-09-02 -1.978687  3.566982  16.034548  -9.443435\n",
       "2002-09-03 -0.783339  3.438387  16.342824  -9.199027\n",
       "2002-09-04 -2.463876  1.214088  17.072236  -8.608466\n",
       "2002-09-05 -2.129899  1.640557  16.655168  -8.784841\n",
       "2002-09-06 -1.405086  3.796710  16.719198  -9.503159\n",
       "2002-09-07 -0.111828  1.871862  16.523707  -9.762045\n",
       "2002-09-08 -0.016029  0.711293  18.016882 -10.266837\n",
       "2002-09-09 -0.659497  0.935458  19.267763 -12.465674\n",
       "2002-09-10 -1.495224  0.573938  19.347539 -13.573794\n",
       "2002-09-11 -1.452010 -0.375318  18.125689 -13.562654\n",
       "2002-09-12 -1.078770  0.563663  18.518933 -14.546567\n",
       "2002-09-13 -1.697353  1.212176  18.967843 -14.974043\n",
       "2002-09-14 -1.345970  1.394363  18.894292 -14.202187\n",
       "2002-09-15 -2.960265  0.845468  19.234980 -16.107476\n",
       "2002-09-16 -1.490836 -0.136698  20.612974 -15.306366\n",
       "2002-09-17 -1.233757  0.262323  20.481335 -15.884591\n",
       "2002-09-18 -2.897553 -0.083342  21.503703 -16.087732\n",
       "2002-09-19 -2.200995  1.713379  22.342127 -17.735287\n",
       "2002-09-20 -0.786433  2.126514  20.623003 -17.212385\n",
       "2002-09-21 -1.721071  1.075092  19.862628 -17.443601\n",
       "2002-09-22 -0.580080  2.035934  22.414173 -16.246566\n",
       "2002-09-23 -0.491388  2.482096  21.459122 -18.443736\n",
       "2002-09-24  0.391468  2.486056  21.803786 -20.283844\n",
       "2002-09-25  1.170254  2.217701  21.000375 -21.132040\n",
       "2002-09-26 -0.023913  1.992378  22.687831 -20.525557\n",
       "\n",
       "[1000 rows x 4 columns]"
      ]
     },
     "execution_count": 98,
     "metadata": {},
     "output_type": "execute_result"
    }
   ],
   "source": [
    "df = pd.DataFrame(np.random.randn(1000, 4), index=ts.index,\n",
    "                   columns=['A', 'B', 'C', 'D'])\n",
    "df = df.cumsum()\n",
    "df"
   ]
  },
  {
   "cell_type": "code",
   "execution_count": 99,
   "metadata": {},
   "outputs": [
    {
     "data": {
      "text/plain": [
       "<matplotlib.legend.Legend at 0x7f2aa094f9e8>"
      ]
     },
     "execution_count": 99,
     "metadata": {},
     "output_type": "execute_result"
    },
    {
     "data": {
      "text/plain": [
       "<Figure size 432x288 with 0 Axes>"
      ]
     },
     "metadata": {},
     "output_type": "display_data"
    },
    {
     "data": {
      "image/png": "[encoded data removed]",
      "text/plain": [
       "<Figure size 432x288 with 1 Axes>"
      ]
     },
     "metadata": {
      "needs_background": "light"
     },
     "output_type": "display_data"
    }
   ],
   "source": [
    "plt.figure(); df.plot(); plt.legend(loc='best')"
   ]
  },
  {
   "cell_type": "markdown",
   "metadata": {},
   "source": [
    "## Getting Data In/Out"
   ]
  },
  {
   "cell_type": "markdown",
   "metadata": {},
   "source": [
    "### 保存，加载CSV "
   ]
  },
  {
   "cell_type": "code",
   "execution_count": 2,
   "metadata": {},
   "outputs": [
    {
     "ename": "NameError",
     "evalue": "name 'pd' is not defined",
     "output_type": "error",
     "traceback": [
      "\u001b[0;31m\u001b[0m",
      "\u001b[0;31mNameError\u001b[0mTraceback (most recent call last)",
      "\u001b[0;32m<ipython-input-2-647073424d7b>\u001b[0m in \u001b[0;36m<module>\u001b[0;34m\u001b[0m\n\u001b[1;32m      1\u001b[0m \u001b[0;32mimport\u001b[0m \u001b[0mjson\u001b[0m\u001b[0;34m\u001b[0m\u001b[0m\n\u001b[0;32m----> 2\u001b[0;31m df = pd.DataFrame(np.random.randn(20, 4), \n\u001b[0m\u001b[1;32m      3\u001b[0m                    columns=['A', 'B', 'C', 'D'])\n",
      "\u001b[0;31mNameError\u001b[0m: name 'pd' is not defined"
     ]
    }
   ],
   "source": [
    "import json \n",
    "df = pd.DataFrame(np.random.randn(20, 4), \n",
    "                   columns=['A', 'B', 'C', 'D'])"
   ]
  },
  {
   "cell_type": "code",
   "execution_count": 31,
   "metadata": {},
   "outputs": [],
   "source": [
    "df['C'] =  [json.dumps({\"c\":1, \"d\":2})  for _, row  in df.iterrows()]\n",
    "df['D'] =  [json.dumps({\"a\":1, \"b\":2})  for _, row  in df.iterrows()]\n",
    "df.to_csv('foo.csv')"
   ]
  },
  {
   "cell_type": "code",
   "execution_count": 1,
   "metadata": {},
   "outputs": [
    {
     "ename": "NameError",
     "evalue": "name 'pd' is not defined",
     "output_type": "error",
     "traceback": [
      "\u001b[0;31m\u001b[0m",
      "\u001b[0;31mNameError\u001b[0mTraceback (most recent call last)",
      "\u001b[0;32m<ipython-input-1-f032544ead58>\u001b[0m in \u001b[0;36m<module>\u001b[0;34m\u001b[0m\n\u001b[1;32m      1\u001b[0m \u001b[0;31m# df1 = pd.read_csv('foo.csv', header=None, names=['c1', 'c2', 'c3', 'c4', 'c5'],\u001b[0m\u001b[0;34m\u001b[0m\u001b[0;34m\u001b[0m\u001b[0m\n\u001b[1;32m      2\u001b[0m \u001b[0;31m#                   dtype=[np.float32, np.float32, np.float32, np.float32, np.float32] )\u001b[0m\u001b[0;34m\u001b[0m\u001b[0;34m\u001b[0m\u001b[0m\n\u001b[0;32m----> 3\u001b[0;31m df1 = pd.read_csv('foo.csv', header=0,  names=['c0', 'c1', 'c2', 'c3', 'c4'], \n\u001b[0m\u001b[1;32m      4\u001b[0m                   dtype={ 'c2':np.float32}, parse_dates=[0] )\n\u001b[1;32m      5\u001b[0m \u001b[0mdf1\u001b[0m\u001b[0;34m[\u001b[0m\u001b[0;34m'c5'\u001b[0m\u001b[0;34m]\u001b[0m \u001b[0;34m=\u001b[0m \u001b[0mdf1\u001b[0m\u001b[0;34m[\u001b[0m\u001b[0;34m'c3'\u001b[0m\u001b[0;34m]\u001b[0m  \u001b[0;34m+\u001b[0m \u001b[0mdf1\u001b[0m\u001b[0;34m[\u001b[0m\u001b[0;34m'c4'\u001b[0m\u001b[0;34m]\u001b[0m\u001b[0;34m\u001b[0m\u001b[0m\n",
      "\u001b[0;31mNameError\u001b[0m: name 'pd' is not defined"
     ]
    }
   ],
   "source": [
    "# df1 = pd.read_csv('foo.csv', header=None, names=['c1', 'c2', 'c3', 'c4', 'c5'], \n",
    "#                   dtype=[np.float32, np.float32, np.float32, np.float32, np.float32] )\n",
    "df1 = pd.read_csv('foo.csv', header=0,  names=['c0', 'c1', 'c2', 'c3', 'c4'], \n",
    "                  dtype={ 'c2':np.float32}, parse_dates=[0] )\n",
    "df1['c5'] = df1['c3']  + df1['c4'] \n",
    "print(df1.dtypes)\n",
    "print(df1)\n",
    "print(type(df1.iloc[2]))\n",
    "print(str(df1.iloc[2]['c0']))\n",
    "print(df1[df1['c1']>=0])\n",
    "print(df1[0:10])\n",
    "print(df1.sort_values(by='c1'))\n",
    "print(df1['c0'][0])\n",
    "\n"
   ]
  },
  {
   "cell_type": "markdown",
   "metadata": {},
   "source": [
    "### HDF5"
   ]
  },
  {
   "cell_type": "code",
   "execution_count": 102,
   "metadata": {},
   "outputs": [
    {
     "ename": "ImportError",
     "evalue": "HDFStore requires PyTables, \"No module named 'tables'\" problem importing",
     "output_type": "error",
     "traceback": [
      "\u001b[0;31m\u001b[0m",
      "\u001b[0;31mImportError\u001b[0mTraceback (most recent call last)",
      "\u001b[0;32m/usr/local/lib/python3.5/dist-packages/pandas/io/pytables.py\u001b[0m in \u001b[0;36m__init__\u001b[0;34m(self, path, mode, complevel, complib, fletcher32, **kwargs)\u001b[0m\n\u001b[1;32m    468\u001b[0m         \u001b[0;32mtry\u001b[0m\u001b[0;34m:\u001b[0m\u001b[0;34m\u001b[0m\u001b[0m\n\u001b[0;32m--> 469\u001b[0;31m             \u001b[0;32mimport\u001b[0m \u001b[0mtables\u001b[0m  \u001b[0;31m# noqa\u001b[0m\u001b[0;34m\u001b[0m\u001b[0m\n\u001b[0m\u001b[1;32m    470\u001b[0m         \u001b[0;32mexcept\u001b[0m \u001b[0mImportError\u001b[0m \u001b[0;32mas\u001b[0m \u001b[0mex\u001b[0m\u001b[0;34m:\u001b[0m  \u001b[0;31m# pragma: no cover\u001b[0m\u001b[0;34m\u001b[0m\u001b[0m\n",
      "\u001b[0;31mImportError\u001b[0m: No module named 'tables'",
      "\nDuring handling of the above exception, another exception occurred:\n",
      "\u001b[0;31mImportError\u001b[0mTraceback (most recent call last)",
      "\u001b[0;32m<ipython-input-102-2030282e689d>\u001b[0m in \u001b[0;36m<module>\u001b[0;34m()\u001b[0m\n\u001b[0;32m----> 1\u001b[0;31m \u001b[0mdf\u001b[0m\u001b[0;34m.\u001b[0m\u001b[0mto_hdf\u001b[0m\u001b[0;34m(\u001b[0m\u001b[0;34m'foo.h5'\u001b[0m\u001b[0;34m,\u001b[0m\u001b[0;34m'df'\u001b[0m\u001b[0;34m)\u001b[0m\u001b[0;34m\u001b[0m\u001b[0m\n\u001b[0m",
      "\u001b[0;32m/usr/local/lib/python3.5/dist-packages/pandas/core/generic.py\u001b[0m in \u001b[0;36mto_hdf\u001b[0;34m(self, path_or_buf, key, **kwargs)\u001b[0m\n\u001b[1;32m   1994\u001b[0m         \"\"\"\n\u001b[1;32m   1995\u001b[0m         \u001b[0;32mfrom\u001b[0m \u001b[0mpandas\u001b[0m\u001b[0;34m.\u001b[0m\u001b[0mio\u001b[0m \u001b[0;32mimport\u001b[0m \u001b[0mpytables\u001b[0m\u001b[0;34m\u001b[0m\u001b[0m\n\u001b[0;32m-> 1996\u001b[0;31m         \u001b[0;32mreturn\u001b[0m \u001b[0mpytables\u001b[0m\u001b[0;34m.\u001b[0m\u001b[0mto_hdf\u001b[0m\u001b[0;34m(\u001b[0m\u001b[0mpath_or_buf\u001b[0m\u001b[0;34m,\u001b[0m \u001b[0mkey\u001b[0m\u001b[0;34m,\u001b[0m \u001b[0mself\u001b[0m\u001b[0;34m,\u001b[0m \u001b[0;34m**\u001b[0m\u001b[0mkwargs\u001b[0m\u001b[0;34m)\u001b[0m\u001b[0;34m\u001b[0m\u001b[0m\n\u001b[0m\u001b[1;32m   1997\u001b[0m \u001b[0;34m\u001b[0m\u001b[0m\n\u001b[1;32m   1998\u001b[0m     \u001b[0;32mdef\u001b[0m \u001b[0mto_msgpack\u001b[0m\u001b[0;34m(\u001b[0m\u001b[0mself\u001b[0m\u001b[0;34m,\u001b[0m \u001b[0mpath_or_buf\u001b[0m\u001b[0;34m=\u001b[0m\u001b[0;32mNone\u001b[0m\u001b[0;34m,\u001b[0m \u001b[0mencoding\u001b[0m\u001b[0;34m=\u001b[0m\u001b[0;34m'utf-8'\u001b[0m\u001b[0;34m,\u001b[0m \u001b[0;34m**\u001b[0m\u001b[0mkwargs\u001b[0m\u001b[0;34m)\u001b[0m\u001b[0;34m:\u001b[0m\u001b[0;34m\u001b[0m\u001b[0m\n",
      "\u001b[0;32m/usr/local/lib/python3.5/dist-packages/pandas/io/pytables.py\u001b[0m in \u001b[0;36mto_hdf\u001b[0;34m(path_or_buf, key, value, mode, complevel, complib, append, **kwargs)\u001b[0m\n\u001b[1;32m    276\u001b[0m     \u001b[0;32mif\u001b[0m \u001b[0misinstance\u001b[0m\u001b[0;34m(\u001b[0m\u001b[0mpath_or_buf\u001b[0m\u001b[0;34m,\u001b[0m \u001b[0mstring_types\u001b[0m\u001b[0;34m)\u001b[0m\u001b[0;34m:\u001b[0m\u001b[0;34m\u001b[0m\u001b[0m\n\u001b[1;32m    277\u001b[0m         with HDFStore(path_or_buf, mode=mode, complevel=complevel,\n\u001b[0;32m--> 278\u001b[0;31m                       complib=complib) as store:\n\u001b[0m\u001b[1;32m    279\u001b[0m             \u001b[0mf\u001b[0m\u001b[0;34m(\u001b[0m\u001b[0mstore\u001b[0m\u001b[0;34m)\u001b[0m\u001b[0;34m\u001b[0m\u001b[0m\n\u001b[1;32m    280\u001b[0m     \u001b[0;32melse\u001b[0m\u001b[0;34m:\u001b[0m\u001b[0;34m\u001b[0m\u001b[0m\n",
      "\u001b[0;32m/usr/local/lib/python3.5/dist-packages/pandas/io/pytables.py\u001b[0m in \u001b[0;36m__init__\u001b[0;34m(self, path, mode, complevel, complib, fletcher32, **kwargs)\u001b[0m\n\u001b[1;32m    470\u001b[0m         \u001b[0;32mexcept\u001b[0m \u001b[0mImportError\u001b[0m \u001b[0;32mas\u001b[0m \u001b[0mex\u001b[0m\u001b[0;34m:\u001b[0m  \u001b[0;31m# pragma: no cover\u001b[0m\u001b[0;34m\u001b[0m\u001b[0m\n\u001b[1;32m    471\u001b[0m             raise ImportError('HDFStore requires PyTables, \"{ex}\" problem '\n\u001b[0;32m--> 472\u001b[0;31m                               'importing'.format(ex=str(ex)))\n\u001b[0m\u001b[1;32m    473\u001b[0m \u001b[0;34m\u001b[0m\u001b[0m\n\u001b[1;32m    474\u001b[0m         \u001b[0;32mif\u001b[0m \u001b[0mcomplib\u001b[0m \u001b[0;32mis\u001b[0m \u001b[0;32mnot\u001b[0m \u001b[0;32mNone\u001b[0m \u001b[0;32mand\u001b[0m \u001b[0mcomplib\u001b[0m \u001b[0;32mnot\u001b[0m \u001b[0;32min\u001b[0m \u001b[0mtables\u001b[0m\u001b[0;34m.\u001b[0m\u001b[0mfilters\u001b[0m\u001b[0;34m.\u001b[0m\u001b[0mall_complibs\u001b[0m\u001b[0;34m:\u001b[0m\u001b[0;34m\u001b[0m\u001b[0m\n",
      "\u001b[0;31mImportError\u001b[0m: HDFStore requires PyTables, \"No module named 'tables'\" problem importing"
     ]
    }
   ],
   "source": [
    "# df.to_hdf('foo.h5','df')"
   ]
  },
  {
   "cell_type": "code",
   "execution_count": 103,
   "metadata": {},
   "outputs": [
    {
     "ename": "FileNotFoundError",
     "evalue": "File foo.h5 does not exist",
     "output_type": "error",
     "traceback": [
      "\u001b[0;31m\u001b[0m",
      "\u001b[0;31mFileNotFoundError\u001b[0mTraceback (most recent call last)",
      "\u001b[0;32m<ipython-input-103-4242b2e6e2a5>\u001b[0m in \u001b[0;36m<module>\u001b[0;34m()\u001b[0m\n\u001b[0;32m----> 1\u001b[0;31m \u001b[0mpd\u001b[0m\u001b[0;34m.\u001b[0m\u001b[0mread_hdf\u001b[0m\u001b[0;34m(\u001b[0m\u001b[0;34m'foo.h5'\u001b[0m\u001b[0;34m,\u001b[0m\u001b[0;34m'df'\u001b[0m\u001b[0;34m)\u001b[0m\u001b[0;34m\u001b[0m\u001b[0m\n\u001b[0m",
      "\u001b[0;32m/usr/local/lib/python3.5/dist-packages/pandas/io/pytables.py\u001b[0m in \u001b[0;36mread_hdf\u001b[0;34m(path_or_buf, key, mode, **kwargs)\u001b[0m\n\u001b[1;32m    369\u001b[0m         \u001b[0;32mif\u001b[0m \u001b[0;32mnot\u001b[0m \u001b[0mexists\u001b[0m\u001b[0;34m:\u001b[0m\u001b[0;34m\u001b[0m\u001b[0m\n\u001b[1;32m    370\u001b[0m             raise compat.FileNotFoundError(\n\u001b[0;32m--> 371\u001b[0;31m                 'File %s does not exist' % path_or_buf)\n\u001b[0m\u001b[1;32m    372\u001b[0m \u001b[0;34m\u001b[0m\u001b[0m\n\u001b[1;32m    373\u001b[0m         \u001b[0mstore\u001b[0m \u001b[0;34m=\u001b[0m \u001b[0mHDFStore\u001b[0m\u001b[0;34m(\u001b[0m\u001b[0mpath_or_buf\u001b[0m\u001b[0;34m,\u001b[0m \u001b[0mmode\u001b[0m\u001b[0;34m=\u001b[0m\u001b[0mmode\u001b[0m\u001b[0;34m,\u001b[0m \u001b[0;34m**\u001b[0m\u001b[0mkwargs\u001b[0m\u001b[0;34m)\u001b[0m\u001b[0;34m\u001b[0m\u001b[0m\n",
      "\u001b[0;31mFileNotFoundError\u001b[0m: File foo.h5 does not exist"
     ]
    }
   ],
   "source": [
    "# pd.read_hdf('foo.h5','df')"
   ]
  },
  {
   "cell_type": "markdown",
   "metadata": {},
   "source": [
    "### Excel"
   ]
  },
  {
   "cell_type": "code",
   "execution_count": 106,
   "metadata": {
    "collapsed": true
   },
   "outputs": [],
   "source": [
    "# df.to_excel('foo.xlsx', sheet_name='Sheet1')"
   ]
  },
  {
   "cell_type": "code",
   "execution_count": 174,
   "metadata": {},
   "outputs": [
    {
     "data": {
      "text/html": [
       "<div>\n",
       "<table border=\"1\" class=\"dataframe\">\n",
       "  <thead>\n",
       "    <tr style=\"text-align: right;\">\n",
       "      <th></th>\n",
       "      <th>A</th>\n",
       "      <th>B</th>\n",
       "      <th>C</th>\n",
       "      <th>D</th>\n",
       "    </tr>\n",
       "  </thead>\n",
       "  <tbody>\n",
       "    <tr>\n",
       "      <th>2000-01-01</th>\n",
       "      <td>-0.204873</td>\n",
       "      <td>-0.443147</td>\n",
       "      <td>-0.518975</td>\n",
       "      <td>-1.214664</td>\n",
       "    </tr>\n",
       "    <tr>\n",
       "      <th>2000-01-02</th>\n",
       "      <td>0.675436</td>\n",
       "      <td>-1.143658</td>\n",
       "      <td>-0.740632</td>\n",
       "      <td>-3.399537</td>\n",
       "    </tr>\n",
       "    <tr>\n",
       "      <th>2000-01-03</th>\n",
       "      <td>-0.127722</td>\n",
       "      <td>-1.125861</td>\n",
       "      <td>0.867365</td>\n",
       "      <td>-3.798964</td>\n",
       "    </tr>\n",
       "    <tr>\n",
       "      <th>2000-01-04</th>\n",
       "      <td>-0.655194</td>\n",
       "      <td>-1.923052</td>\n",
       "      <td>-0.901300</td>\n",
       "      <td>-3.171210</td>\n",
       "    </tr>\n",
       "    <tr>\n",
       "      <th>2000-01-05</th>\n",
       "      <td>-0.759355</td>\n",
       "      <td>-1.889169</td>\n",
       "      <td>-1.995941</td>\n",
       "      <td>-2.149461</td>\n",
       "    </tr>\n",
       "    <tr>\n",
       "      <th>2000-01-06</th>\n",
       "      <td>-0.690598</td>\n",
       "      <td>-2.453272</td>\n",
       "      <td>-2.224453</td>\n",
       "      <td>-2.063111</td>\n",
       "    </tr>\n",
       "    <tr>\n",
       "      <th>2000-01-07</th>\n",
       "      <td>-0.199228</td>\n",
       "      <td>-2.037557</td>\n",
       "      <td>-2.982341</td>\n",
       "      <td>-0.916614</td>\n",
       "    </tr>\n",
       "    <tr>\n",
       "      <th>2000-01-08</th>\n",
       "      <td>0.956145</td>\n",
       "      <td>-2.172049</td>\n",
       "      <td>-1.761830</td>\n",
       "      <td>-1.091753</td>\n",
       "    </tr>\n",
       "    <tr>\n",
       "      <th>2000-01-09</th>\n",
       "      <td>1.514409</td>\n",
       "      <td>-2.024822</td>\n",
       "      <td>-1.542133</td>\n",
       "      <td>-4.103804</td>\n",
       "    </tr>\n",
       "    <tr>\n",
       "      <th>2000-01-10</th>\n",
       "      <td>0.313650</td>\n",
       "      <td>-2.696800</td>\n",
       "      <td>-2.312119</td>\n",
       "      <td>-2.968018</td>\n",
       "    </tr>\n",
       "    <tr>\n",
       "      <th>2000-01-11</th>\n",
       "      <td>-0.744860</td>\n",
       "      <td>-2.773521</td>\n",
       "      <td>-3.549433</td>\n",
       "      <td>-0.939108</td>\n",
       "    </tr>\n",
       "    <tr>\n",
       "      <th>2000-01-12</th>\n",
       "      <td>0.341847</td>\n",
       "      <td>-5.034597</td>\n",
       "      <td>-4.216243</td>\n",
       "      <td>-1.070928</td>\n",
       "    </tr>\n",
       "    <tr>\n",
       "      <th>2000-01-13</th>\n",
       "      <td>0.191458</td>\n",
       "      <td>-5.504645</td>\n",
       "      <td>-4.718715</td>\n",
       "      <td>-0.849422</td>\n",
       "    </tr>\n",
       "    <tr>\n",
       "      <th>2000-01-14</th>\n",
       "      <td>0.565320</td>\n",
       "      <td>-5.812642</td>\n",
       "      <td>-4.365497</td>\n",
       "      <td>-0.171456</td>\n",
       "    </tr>\n",
       "    <tr>\n",
       "      <th>2000-01-15</th>\n",
       "      <td>0.758848</td>\n",
       "      <td>-6.027327</td>\n",
       "      <td>-3.935634</td>\n",
       "      <td>-1.530990</td>\n",
       "    </tr>\n",
       "    <tr>\n",
       "      <th>2000-01-16</th>\n",
       "      <td>0.426668</td>\n",
       "      <td>-5.368192</td>\n",
       "      <td>-4.487375</td>\n",
       "      <td>-3.361429</td>\n",
       "    </tr>\n",
       "    <tr>\n",
       "      <th>2000-01-17</th>\n",
       "      <td>0.475978</td>\n",
       "      <td>-6.116357</td>\n",
       "      <td>-5.001435</td>\n",
       "      <td>-4.084428</td>\n",
       "    </tr>\n",
       "    <tr>\n",
       "      <th>2000-01-18</th>\n",
       "      <td>-0.249533</td>\n",
       "      <td>-6.553209</td>\n",
       "      <td>-3.030315</td>\n",
       "      <td>-2.869355</td>\n",
       "    </tr>\n",
       "    <tr>\n",
       "      <th>2000-01-19</th>\n",
       "      <td>-0.622493</td>\n",
       "      <td>-4.734226</td>\n",
       "      <td>-4.016361</td>\n",
       "      <td>-3.222218</td>\n",
       "    </tr>\n",
       "    <tr>\n",
       "      <th>2000-01-20</th>\n",
       "      <td>-0.486854</td>\n",
       "      <td>-4.000133</td>\n",
       "      <td>-4.156196</td>\n",
       "      <td>-2.611768</td>\n",
       "    </tr>\n",
       "    <tr>\n",
       "      <th>2000-01-21</th>\n",
       "      <td>1.520128</td>\n",
       "      <td>-4.462717</td>\n",
       "      <td>-4.308389</td>\n",
       "      <td>-0.384371</td>\n",
       "    </tr>\n",
       "    <tr>\n",
       "      <th>2000-01-22</th>\n",
       "      <td>0.568382</td>\n",
       "      <td>-3.769529</td>\n",
       "      <td>-4.255957</td>\n",
       "      <td>1.729023</td>\n",
       "    </tr>\n",
       "    <tr>\n",
       "      <th>2000-01-23</th>\n",
       "      <td>1.097926</td>\n",
       "      <td>-5.416144</td>\n",
       "      <td>-5.071835</td>\n",
       "      <td>1.445882</td>\n",
       "    </tr>\n",
       "    <tr>\n",
       "      <th>2000-01-24</th>\n",
       "      <td>-0.397122</td>\n",
       "      <td>-5.993915</td>\n",
       "      <td>-4.505197</td>\n",
       "      <td>0.890319</td>\n",
       "    </tr>\n",
       "    <tr>\n",
       "      <th>2000-01-25</th>\n",
       "      <td>-0.835458</td>\n",
       "      <td>-6.726152</td>\n",
       "      <td>-4.405870</td>\n",
       "      <td>0.966164</td>\n",
       "    </tr>\n",
       "    <tr>\n",
       "      <th>2000-01-26</th>\n",
       "      <td>-1.452340</td>\n",
       "      <td>-7.427890</td>\n",
       "      <td>-3.556563</td>\n",
       "      <td>2.484346</td>\n",
       "    </tr>\n",
       "    <tr>\n",
       "      <th>2000-01-27</th>\n",
       "      <td>-2.245784</td>\n",
       "      <td>-8.045845</td>\n",
       "      <td>-2.324277</td>\n",
       "      <td>1.616806</td>\n",
       "    </tr>\n",
       "    <tr>\n",
       "      <th>2000-01-28</th>\n",
       "      <td>-2.227547</td>\n",
       "      <td>-6.693880</td>\n",
       "      <td>-4.236389</td>\n",
       "      <td>2.407988</td>\n",
       "    </tr>\n",
       "    <tr>\n",
       "      <th>2000-01-29</th>\n",
       "      <td>-1.443931</td>\n",
       "      <td>-8.433682</td>\n",
       "      <td>-6.151108</td>\n",
       "      <td>0.551819</td>\n",
       "    </tr>\n",
       "    <tr>\n",
       "      <th>2000-01-30</th>\n",
       "      <td>-1.972713</td>\n",
       "      <td>-9.295418</td>\n",
       "      <td>-7.309782</td>\n",
       "      <td>0.785173</td>\n",
       "    </tr>\n",
       "    <tr>\n",
       "      <th>...</th>\n",
       "      <td>...</td>\n",
       "      <td>...</td>\n",
       "      <td>...</td>\n",
       "      <td>...</td>\n",
       "    </tr>\n",
       "    <tr>\n",
       "      <th>2002-08-28</th>\n",
       "      <td>2.170873</td>\n",
       "      <td>-26.951118</td>\n",
       "      <td>3.429299</td>\n",
       "      <td>-19.627543</td>\n",
       "    </tr>\n",
       "    <tr>\n",
       "      <th>2002-08-29</th>\n",
       "      <td>2.955963</td>\n",
       "      <td>-26.156923</td>\n",
       "      <td>3.986055</td>\n",
       "      <td>-19.085311</td>\n",
       "    </tr>\n",
       "    <tr>\n",
       "      <th>2002-08-30</th>\n",
       "      <td>1.225814</td>\n",
       "      <td>-26.450437</td>\n",
       "      <td>5.246973</td>\n",
       "      <td>-20.219476</td>\n",
       "    </tr>\n",
       "    <tr>\n",
       "      <th>2002-08-31</th>\n",
       "      <td>0.534064</td>\n",
       "      <td>-26.016073</td>\n",
       "      <td>5.146801</td>\n",
       "      <td>-19.906862</td>\n",
       "    </tr>\n",
       "    <tr>\n",
       "      <th>2002-09-01</th>\n",
       "      <td>1.179260</td>\n",
       "      <td>-25.149596</td>\n",
       "      <td>5.036361</td>\n",
       "      <td>-20.568359</td>\n",
       "    </tr>\n",
       "    <tr>\n",
       "      <th>2002-09-02</th>\n",
       "      <td>0.796042</td>\n",
       "      <td>-25.306095</td>\n",
       "      <td>4.665748</td>\n",
       "      <td>-21.469309</td>\n",
       "    </tr>\n",
       "    <tr>\n",
       "      <th>2002-09-03</th>\n",
       "      <td>0.927517</td>\n",
       "      <td>-25.218110</td>\n",
       "      <td>5.280367</td>\n",
       "      <td>-21.422252</td>\n",
       "    </tr>\n",
       "    <tr>\n",
       "      <th>2002-09-04</th>\n",
       "      <td>1.045310</td>\n",
       "      <td>-25.596244</td>\n",
       "      <td>4.702075</td>\n",
       "      <td>-21.256863</td>\n",
       "    </tr>\n",
       "    <tr>\n",
       "      <th>2002-09-05</th>\n",
       "      <td>0.360009</td>\n",
       "      <td>-25.598745</td>\n",
       "      <td>4.689109</td>\n",
       "      <td>-20.164312</td>\n",
       "    </tr>\n",
       "    <tr>\n",
       "      <th>2002-09-06</th>\n",
       "      <td>0.641094</td>\n",
       "      <td>-24.178188</td>\n",
       "      <td>5.217440</td>\n",
       "      <td>-18.817389</td>\n",
       "    </tr>\n",
       "    <tr>\n",
       "      <th>2002-09-07</th>\n",
       "      <td>-0.406126</td>\n",
       "      <td>-23.663854</td>\n",
       "      <td>4.211616</td>\n",
       "      <td>-19.596964</td>\n",
       "    </tr>\n",
       "    <tr>\n",
       "      <th>2002-09-08</th>\n",
       "      <td>0.586927</td>\n",
       "      <td>-22.223459</td>\n",
       "      <td>2.832201</td>\n",
       "      <td>-19.568995</td>\n",
       "    </tr>\n",
       "    <tr>\n",
       "      <th>2002-09-09</th>\n",
       "      <td>1.967013</td>\n",
       "      <td>-21.326796</td>\n",
       "      <td>4.764591</td>\n",
       "      <td>-19.101974</td>\n",
       "    </tr>\n",
       "    <tr>\n",
       "      <th>2002-09-10</th>\n",
       "      <td>1.180794</td>\n",
       "      <td>-21.598577</td>\n",
       "      <td>5.451238</td>\n",
       "      <td>-20.477241</td>\n",
       "    </tr>\n",
       "    <tr>\n",
       "      <th>2002-09-11</th>\n",
       "      <td>0.653095</td>\n",
       "      <td>-20.826541</td>\n",
       "      <td>6.603295</td>\n",
       "      <td>-21.673994</td>\n",
       "    </tr>\n",
       "    <tr>\n",
       "      <th>2002-09-12</th>\n",
       "      <td>0.704326</td>\n",
       "      <td>-21.415751</td>\n",
       "      <td>6.500844</td>\n",
       "      <td>-20.182541</td>\n",
       "    </tr>\n",
       "    <tr>\n",
       "      <th>2002-09-13</th>\n",
       "      <td>0.714420</td>\n",
       "      <td>-21.252897</td>\n",
       "      <td>6.082800</td>\n",
       "      <td>-19.539258</td>\n",
       "    </tr>\n",
       "    <tr>\n",
       "      <th>2002-09-14</th>\n",
       "      <td>-0.271711</td>\n",
       "      <td>-21.300298</td>\n",
       "      <td>6.728993</td>\n",
       "      <td>-18.595448</td>\n",
       "    </tr>\n",
       "    <tr>\n",
       "      <th>2002-09-15</th>\n",
       "      <td>-1.728588</td>\n",
       "      <td>-20.960596</td>\n",
       "      <td>7.743240</td>\n",
       "      <td>-18.891897</td>\n",
       "    </tr>\n",
       "    <tr>\n",
       "      <th>2002-09-16</th>\n",
       "      <td>-1.950754</td>\n",
       "      <td>-21.807585</td>\n",
       "      <td>7.649027</td>\n",
       "      <td>-19.948661</td>\n",
       "    </tr>\n",
       "    <tr>\n",
       "      <th>2002-09-17</th>\n",
       "      <td>-2.385345</td>\n",
       "      <td>-22.056272</td>\n",
       "      <td>7.601062</td>\n",
       "      <td>-22.192357</td>\n",
       "    </tr>\n",
       "    <tr>\n",
       "      <th>2002-09-18</th>\n",
       "      <td>-2.315522</td>\n",
       "      <td>-23.038959</td>\n",
       "      <td>8.532718</td>\n",
       "      <td>-23.545097</td>\n",
       "    </tr>\n",
       "    <tr>\n",
       "      <th>2002-09-19</th>\n",
       "      <td>-2.456416</td>\n",
       "      <td>-22.294595</td>\n",
       "      <td>6.629900</td>\n",
       "      <td>-24.468288</td>\n",
       "    </tr>\n",
       "    <tr>\n",
       "      <th>2002-09-20</th>\n",
       "      <td>-3.776107</td>\n",
       "      <td>-23.306752</td>\n",
       "      <td>6.431820</td>\n",
       "      <td>-25.095960</td>\n",
       "    </tr>\n",
       "    <tr>\n",
       "      <th>2002-09-21</th>\n",
       "      <td>-3.931109</td>\n",
       "      <td>-21.312685</td>\n",
       "      <td>7.468655</td>\n",
       "      <td>-24.164154</td>\n",
       "    </tr>\n",
       "    <tr>\n",
       "      <th>2002-09-22</th>\n",
       "      <td>-3.048378</td>\n",
       "      <td>-21.577627</td>\n",
       "      <td>8.026865</td>\n",
       "      <td>-24.202830</td>\n",
       "    </tr>\n",
       "    <tr>\n",
       "      <th>2002-09-23</th>\n",
       "      <td>-2.116885</td>\n",
       "      <td>-20.124837</td>\n",
       "      <td>8.708849</td>\n",
       "      <td>-22.930034</td>\n",
       "    </tr>\n",
       "    <tr>\n",
       "      <th>2002-09-24</th>\n",
       "      <td>-1.932299</td>\n",
       "      <td>-19.927177</td>\n",
       "      <td>8.484902</td>\n",
       "      <td>-22.228104</td>\n",
       "    </tr>\n",
       "    <tr>\n",
       "      <th>2002-09-25</th>\n",
       "      <td>-0.542073</td>\n",
       "      <td>-20.292588</td>\n",
       "      <td>8.416624</td>\n",
       "      <td>-22.208084</td>\n",
       "    </tr>\n",
       "    <tr>\n",
       "      <th>2002-09-26</th>\n",
       "      <td>0.095675</td>\n",
       "      <td>-21.629996</td>\n",
       "      <td>7.203132</td>\n",
       "      <td>-22.691906</td>\n",
       "    </tr>\n",
       "  </tbody>\n",
       "</table>\n",
       "<p>1000 rows × 4 columns</p>\n",
       "</div>"
      ],
      "text/plain": [
       "                   A          B         C          D\n",
       "2000-01-01 -0.204873  -0.443147 -0.518975  -1.214664\n",
       "2000-01-02  0.675436  -1.143658 -0.740632  -3.399537\n",
       "2000-01-03 -0.127722  -1.125861  0.867365  -3.798964\n",
       "2000-01-04 -0.655194  -1.923052 -0.901300  -3.171210\n",
       "2000-01-05 -0.759355  -1.889169 -1.995941  -2.149461\n",
       "2000-01-06 -0.690598  -2.453272 -2.224453  -2.063111\n",
       "2000-01-07 -0.199228  -2.037557 -2.982341  -0.916614\n",
       "2000-01-08  0.956145  -2.172049 -1.761830  -1.091753\n",
       "2000-01-09  1.514409  -2.024822 -1.542133  -4.103804\n",
       "2000-01-10  0.313650  -2.696800 -2.312119  -2.968018\n",
       "2000-01-11 -0.744860  -2.773521 -3.549433  -0.939108\n",
       "2000-01-12  0.341847  -5.034597 -4.216243  -1.070928\n",
       "2000-01-13  0.191458  -5.504645 -4.718715  -0.849422\n",
       "2000-01-14  0.565320  -5.812642 -4.365497  -0.171456\n",
       "2000-01-15  0.758848  -6.027327 -3.935634  -1.530990\n",
       "2000-01-16  0.426668  -5.368192 -4.487375  -3.361429\n",
       "2000-01-17  0.475978  -6.116357 -5.001435  -4.084428\n",
       "2000-01-18 -0.249533  -6.553209 -3.030315  -2.869355\n",
       "2000-01-19 -0.622493  -4.734226 -4.016361  -3.222218\n",
       "2000-01-20 -0.486854  -4.000133 -4.156196  -2.611768\n",
       "2000-01-21  1.520128  -4.462717 -4.308389  -0.384371\n",
       "2000-01-22  0.568382  -3.769529 -4.255957   1.729023\n",
       "2000-01-23  1.097926  -5.416144 -5.071835   1.445882\n",
       "2000-01-24 -0.397122  -5.993915 -4.505197   0.890319\n",
       "2000-01-25 -0.835458  -6.726152 -4.405870   0.966164\n",
       "2000-01-26 -1.452340  -7.427890 -3.556563   2.484346\n",
       "2000-01-27 -2.245784  -8.045845 -2.324277   1.616806\n",
       "2000-01-28 -2.227547  -6.693880 -4.236389   2.407988\n",
       "2000-01-29 -1.443931  -8.433682 -6.151108   0.551819\n",
       "2000-01-30 -1.972713  -9.295418 -7.309782   0.785173\n",
       "...              ...        ...       ...        ...\n",
       "2002-08-28  2.170873 -26.951118  3.429299 -19.627543\n",
       "2002-08-29  2.955963 -26.156923  3.986055 -19.085311\n",
       "2002-08-30  1.225814 -26.450437  5.246973 -20.219476\n",
       "2002-08-31  0.534064 -26.016073  5.146801 -19.906862\n",
       "2002-09-01  1.179260 -25.149596  5.036361 -20.568359\n",
       "2002-09-02  0.796042 -25.306095  4.665748 -21.469309\n",
       "2002-09-03  0.927517 -25.218110  5.280367 -21.422252\n",
       "2002-09-04  1.045310 -25.596244  4.702075 -21.256863\n",
       "2002-09-05  0.360009 -25.598745  4.689109 -20.164312\n",
       "2002-09-06  0.641094 -24.178188  5.217440 -18.817389\n",
       "2002-09-07 -0.406126 -23.663854  4.211616 -19.596964\n",
       "2002-09-08  0.586927 -22.223459  2.832201 -19.568995\n",
       "2002-09-09  1.967013 -21.326796  4.764591 -19.101974\n",
       "2002-09-10  1.180794 -21.598577  5.451238 -20.477241\n",
       "2002-09-11  0.653095 -20.826541  6.603295 -21.673994\n",
       "2002-09-12  0.704326 -21.415751  6.500844 -20.182541\n",
       "2002-09-13  0.714420 -21.252897  6.082800 -19.539258\n",
       "2002-09-14 -0.271711 -21.300298  6.728993 -18.595448\n",
       "2002-09-15 -1.728588 -20.960596  7.743240 -18.891897\n",
       "2002-09-16 -1.950754 -21.807585  7.649027 -19.948661\n",
       "2002-09-17 -2.385345 -22.056272  7.601062 -22.192357\n",
       "2002-09-18 -2.315522 -23.038959  8.532718 -23.545097\n",
       "2002-09-19 -2.456416 -22.294595  6.629900 -24.468288\n",
       "2002-09-20 -3.776107 -23.306752  6.431820 -25.095960\n",
       "2002-09-21 -3.931109 -21.312685  7.468655 -24.164154\n",
       "2002-09-22 -3.048378 -21.577627  8.026865 -24.202830\n",
       "2002-09-23 -2.116885 -20.124837  8.708849 -22.930034\n",
       "2002-09-24 -1.932299 -19.927177  8.484902 -22.228104\n",
       "2002-09-25 -0.542073 -20.292588  8.416624 -22.208084\n",
       "2002-09-26  0.095675 -21.629996  7.203132 -22.691906\n",
       "\n",
       "[1000 rows x 4 columns]"
      ]
     },
     "execution_count": 174,
     "metadata": {},
     "output_type": "execute_result"
    }
   ],
   "source": [
    "pd.read_excel('foo.xlsx', 'Sheet1', index_col=None, na_values=['NA'])"
   ]
  },
  {
   "cell_type": "code",
   "execution_count": 104,
   "metadata": {},
   "outputs": [
    {
     "ename": "FileNotFoundError",
     "evalue": "File b'VerticaMonitor.csv' does not exist",
     "output_type": "error",
     "traceback": [
      "\u001b[0;31m\u001b[0m",
      "\u001b[0;31mFileNotFoundError\u001b[0mTraceback (most recent call last)",
      "\u001b[0;32m<ipython-input-104-ea3aa8ee543f>\u001b[0m in \u001b[0;36m<module>\u001b[0;34m()\u001b[0m\n\u001b[1;32m      2\u001b[0m \u001b[0;32mimport\u001b[0m \u001b[0mmatplotlib\u001b[0m\u001b[0;34m.\u001b[0m\u001b[0mpyplot\u001b[0m \u001b[0;32mas\u001b[0m \u001b[0mplt\u001b[0m\u001b[0;34m\u001b[0m\u001b[0m\n\u001b[1;32m      3\u001b[0m \u001b[0mget_ipython\u001b[0m\u001b[0;34m(\u001b[0m\u001b[0;34m)\u001b[0m\u001b[0;34m.\u001b[0m\u001b[0mrun_line_magic\u001b[0m\u001b[0;34m(\u001b[0m\u001b[0;34m'matplotlib'\u001b[0m\u001b[0;34m,\u001b[0m \u001b[0;34m'inline'\u001b[0m\u001b[0;34m)\u001b[0m\u001b[0;34m\u001b[0m\u001b[0m\n\u001b[0;32m----> 4\u001b[0;31m \u001b[0mdf\u001b[0m \u001b[0;34m=\u001b[0m \u001b[0mpd\u001b[0m\u001b[0;34m.\u001b[0m\u001b[0mread_csv\u001b[0m\u001b[0;34m(\u001b[0m\u001b[0;34m'VerticaMonitor.csv'\u001b[0m\u001b[0;34m)\u001b[0m\u001b[0;34m\u001b[0m\u001b[0m\n\u001b[0m\u001b[1;32m      5\u001b[0m \u001b[0mdf\u001b[0m\u001b[0;34m.\u001b[0m\u001b[0mhead\u001b[0m\u001b[0;34m(\u001b[0m\u001b[0;34m)\u001b[0m\u001b[0;34m\u001b[0m\u001b[0m\n\u001b[1;32m      6\u001b[0m \u001b[0;34m\u001b[0m\u001b[0m\n",
      "\u001b[0;32m/usr/local/lib/python3.5/dist-packages/pandas/io/parsers.py\u001b[0m in \u001b[0;36mparser_f\u001b[0;34m(filepath_or_buffer, sep, delimiter, header, names, index_col, usecols, squeeze, prefix, mangle_dupe_cols, dtype, engine, converters, true_values, false_values, skipinitialspace, skiprows, nrows, na_values, keep_default_na, na_filter, verbose, skip_blank_lines, parse_dates, infer_datetime_format, keep_date_col, date_parser, dayfirst, iterator, chunksize, compression, thousands, decimal, lineterminator, quotechar, quoting, escapechar, comment, encoding, dialect, tupleize_cols, error_bad_lines, warn_bad_lines, skipfooter, doublequote, delim_whitespace, low_memory, memory_map, float_precision)\u001b[0m\n\u001b[1;32m    676\u001b[0m                     skip_blank_lines=skip_blank_lines)\n\u001b[1;32m    677\u001b[0m \u001b[0;34m\u001b[0m\u001b[0m\n\u001b[0;32m--> 678\u001b[0;31m         \u001b[0;32mreturn\u001b[0m \u001b[0m_read\u001b[0m\u001b[0;34m(\u001b[0m\u001b[0mfilepath_or_buffer\u001b[0m\u001b[0;34m,\u001b[0m \u001b[0mkwds\u001b[0m\u001b[0;34m)\u001b[0m\u001b[0;34m\u001b[0m\u001b[0m\n\u001b[0m\u001b[1;32m    679\u001b[0m \u001b[0;34m\u001b[0m\u001b[0m\n\u001b[1;32m    680\u001b[0m     \u001b[0mparser_f\u001b[0m\u001b[0;34m.\u001b[0m\u001b[0m__name__\u001b[0m \u001b[0;34m=\u001b[0m \u001b[0mname\u001b[0m\u001b[0;34m\u001b[0m\u001b[0m\n",
      "\u001b[0;32m/usr/local/lib/python3.5/dist-packages/pandas/io/parsers.py\u001b[0m in \u001b[0;36m_read\u001b[0;34m(filepath_or_buffer, kwds)\u001b[0m\n\u001b[1;32m    438\u001b[0m \u001b[0;34m\u001b[0m\u001b[0m\n\u001b[1;32m    439\u001b[0m     \u001b[0;31m# Create the parser.\u001b[0m\u001b[0;34m\u001b[0m\u001b[0;34m\u001b[0m\u001b[0m\n\u001b[0;32m--> 440\u001b[0;31m     \u001b[0mparser\u001b[0m \u001b[0;34m=\u001b[0m \u001b[0mTextFileReader\u001b[0m\u001b[0;34m(\u001b[0m\u001b[0mfilepath_or_buffer\u001b[0m\u001b[0;34m,\u001b[0m \u001b[0;34m**\u001b[0m\u001b[0mkwds\u001b[0m\u001b[0;34m)\u001b[0m\u001b[0;34m\u001b[0m\u001b[0m\n\u001b[0m\u001b[1;32m    441\u001b[0m \u001b[0;34m\u001b[0m\u001b[0m\n\u001b[1;32m    442\u001b[0m     \u001b[0;32mif\u001b[0m \u001b[0mchunksize\u001b[0m \u001b[0;32mor\u001b[0m \u001b[0miterator\u001b[0m\u001b[0;34m:\u001b[0m\u001b[0;34m\u001b[0m\u001b[0m\n",
      "\u001b[0;32m/usr/local/lib/python3.5/dist-packages/pandas/io/parsers.py\u001b[0m in \u001b[0;36m__init__\u001b[0;34m(self, f, engine, **kwds)\u001b[0m\n\u001b[1;32m    785\u001b[0m             \u001b[0mself\u001b[0m\u001b[0;34m.\u001b[0m\u001b[0moptions\u001b[0m\u001b[0;34m[\u001b[0m\u001b[0;34m'has_index_names'\u001b[0m\u001b[0;34m]\u001b[0m \u001b[0;34m=\u001b[0m \u001b[0mkwds\u001b[0m\u001b[0;34m[\u001b[0m\u001b[0;34m'has_index_names'\u001b[0m\u001b[0;34m]\u001b[0m\u001b[0;34m\u001b[0m\u001b[0m\n\u001b[1;32m    786\u001b[0m \u001b[0;34m\u001b[0m\u001b[0m\n\u001b[0;32m--> 787\u001b[0;31m         \u001b[0mself\u001b[0m\u001b[0;34m.\u001b[0m\u001b[0m_make_engine\u001b[0m\u001b[0;34m(\u001b[0m\u001b[0mself\u001b[0m\u001b[0;34m.\u001b[0m\u001b[0mengine\u001b[0m\u001b[0;34m)\u001b[0m\u001b[0;34m\u001b[0m\u001b[0m\n\u001b[0m\u001b[1;32m    788\u001b[0m \u001b[0;34m\u001b[0m\u001b[0m\n\u001b[1;32m    789\u001b[0m     \u001b[0;32mdef\u001b[0m \u001b[0mclose\u001b[0m\u001b[0;34m(\u001b[0m\u001b[0mself\u001b[0m\u001b[0;34m)\u001b[0m\u001b[0;34m:\u001b[0m\u001b[0;34m\u001b[0m\u001b[0m\n",
      "\u001b[0;32m/usr/local/lib/python3.5/dist-packages/pandas/io/parsers.py\u001b[0m in \u001b[0;36m_make_engine\u001b[0;34m(self, engine)\u001b[0m\n\u001b[1;32m   1012\u001b[0m     \u001b[0;32mdef\u001b[0m \u001b[0m_make_engine\u001b[0m\u001b[0;34m(\u001b[0m\u001b[0mself\u001b[0m\u001b[0;34m,\u001b[0m \u001b[0mengine\u001b[0m\u001b[0;34m=\u001b[0m\u001b[0;34m'c'\u001b[0m\u001b[0;34m)\u001b[0m\u001b[0;34m:\u001b[0m\u001b[0;34m\u001b[0m\u001b[0m\n\u001b[1;32m   1013\u001b[0m         \u001b[0;32mif\u001b[0m \u001b[0mengine\u001b[0m \u001b[0;34m==\u001b[0m \u001b[0;34m'c'\u001b[0m\u001b[0;34m:\u001b[0m\u001b[0;34m\u001b[0m\u001b[0m\n\u001b[0;32m-> 1014\u001b[0;31m             \u001b[0mself\u001b[0m\u001b[0;34m.\u001b[0m\u001b[0m_engine\u001b[0m \u001b[0;34m=\u001b[0m \u001b[0mCParserWrapper\u001b[0m\u001b[0;34m(\u001b[0m\u001b[0mself\u001b[0m\u001b[0;34m.\u001b[0m\u001b[0mf\u001b[0m\u001b[0;34m,\u001b[0m \u001b[0;34m**\u001b[0m\u001b[0mself\u001b[0m\u001b[0;34m.\u001b[0m\u001b[0moptions\u001b[0m\u001b[0;34m)\u001b[0m\u001b[0;34m\u001b[0m\u001b[0m\n\u001b[0m\u001b[1;32m   1015\u001b[0m         \u001b[0;32melse\u001b[0m\u001b[0;34m:\u001b[0m\u001b[0;34m\u001b[0m\u001b[0m\n\u001b[1;32m   1016\u001b[0m             \u001b[0;32mif\u001b[0m \u001b[0mengine\u001b[0m \u001b[0;34m==\u001b[0m \u001b[0;34m'python'\u001b[0m\u001b[0;34m:\u001b[0m\u001b[0;34m\u001b[0m\u001b[0m\n",
      "\u001b[0;32m/usr/local/lib/python3.5/dist-packages/pandas/io/parsers.py\u001b[0m in \u001b[0;36m__init__\u001b[0;34m(self, src, **kwds)\u001b[0m\n\u001b[1;32m   1706\u001b[0m         \u001b[0mkwds\u001b[0m\u001b[0;34m[\u001b[0m\u001b[0;34m'usecols'\u001b[0m\u001b[0;34m]\u001b[0m \u001b[0;34m=\u001b[0m \u001b[0mself\u001b[0m\u001b[0;34m.\u001b[0m\u001b[0musecols\u001b[0m\u001b[0;34m\u001b[0m\u001b[0m\n\u001b[1;32m   1707\u001b[0m \u001b[0;34m\u001b[0m\u001b[0m\n\u001b[0;32m-> 1708\u001b[0;31m         \u001b[0mself\u001b[0m\u001b[0;34m.\u001b[0m\u001b[0m_reader\u001b[0m \u001b[0;34m=\u001b[0m \u001b[0mparsers\u001b[0m\u001b[0;34m.\u001b[0m\u001b[0mTextReader\u001b[0m\u001b[0;34m(\u001b[0m\u001b[0msrc\u001b[0m\u001b[0;34m,\u001b[0m \u001b[0;34m**\u001b[0m\u001b[0mkwds\u001b[0m\u001b[0;34m)\u001b[0m\u001b[0;34m\u001b[0m\u001b[0m\n\u001b[0m\u001b[1;32m   1709\u001b[0m \u001b[0;34m\u001b[0m\u001b[0m\n\u001b[1;32m   1710\u001b[0m         \u001b[0mpassed_names\u001b[0m \u001b[0;34m=\u001b[0m \u001b[0mself\u001b[0m\u001b[0;34m.\u001b[0m\u001b[0mnames\u001b[0m \u001b[0;32mis\u001b[0m \u001b[0;32mNone\u001b[0m\u001b[0;34m\u001b[0m\u001b[0m\n",
      "\u001b[0;32mpandas/_libs/parsers.pyx\u001b[0m in \u001b[0;36mpandas._libs.parsers.TextReader.__cinit__\u001b[0;34m()\u001b[0m\n",
      "\u001b[0;32mpandas/_libs/parsers.pyx\u001b[0m in \u001b[0;36mpandas._libs.parsers.TextReader._setup_parser_source\u001b[0;34m()\u001b[0m\n",
      "\u001b[0;31mFileNotFoundError\u001b[0m: File b'VerticaMonitor.csv' does not exist"
     ]
    }
   ],
   "source": [
    "import pandas as pd\n",
    "import matplotlib.pyplot as plt\n",
    "%matplotlib inline\n",
    "df = pd.read_csv('VerticaMonitor.csv')\n",
    "df.head()\n",
    "\n",
    "plt.grid(True)\n",
    "\n",
    "\n",
    "data1 = df[df['Environment']=='CacheReadOnly']['Duration_Time']\n",
    "data2 = df[df['Environment']=='DEV-AVG']['Duration_Time']\n",
    "data3 = df[df['Environment']=='ITG-AVG']['Duration_Time']\n",
    "data4 = df[df['Environment']=='PROD-AVG']['Duration_Time']\n",
    "data = [data1, data2, data3, data4]\n",
    "plt.boxplot(data)\n",
    "plt.show()\n",
    "data1.describe()\n",
    "\n",
    "df1 = pd.DataFrame({'CacheReadOnly':data1.describe(), 'DEV-AVG':data2.describe(), 'ITG-AVG':data3.describe(), 'PROD-AVG':data4.describe()})\n",
    "df1"
   ]
  },
  {
   "cell_type": "code",
   "execution_count": 44,
   "metadata": {},
   "outputs": [
    {
     "data": {
      "text/plain": [
       "array([    0.,   500.,  1000.,  1500.,  2000.,  2500.,  3000.,  3500.,\n",
       "        4000.,  4500.,  5000.,  5500.,  6000.,  6500.,  7000.,  7500.,\n",
       "        8000.])"
      ]
     },
     "execution_count": 44,
     "metadata": {},
     "output_type": "execute_result"
    }
   ],
   "source": [
    "\n",
    "import numpy as np\n",
    "np.linspace(0, 8000, 17, endpoint=True)"
   ]
  },
  {
   "cell_type": "code",
   "execution_count": 12,
   "metadata": {
    "collapsed": true
   },
   "outputs": [],
   "source": [
    "in_data = pd.read_table('C:/eipi10/python-book/learning-from-data/data/in.dta.txt', header=None, names = ['x1', 'x2', 'label'],  delim_whitespace=True)\n",
    "def get_transform_data(data):\n",
    "    data['x3'] = data['x1'] * data['x1']\n",
    "    data['x4'] = data['x2'] * data['x2']\n",
    "    data['x5'] = data['x1'] * data['x2']\n",
    "    data['x6'] = abs(data['x1'] - data['x2'])\n",
    "    data['x7'] = abs(data['x1'] + data['x2'])\n",
    "    return data"
   ]
  },
  {
   "cell_type": "code",
   "execution_count": 14,
   "metadata": {},
   "outputs": [
    {
     "data": {
      "text/html": [
       "<div>\n",
       "<table border=\"1\" class=\"dataframe\">\n",
       "  <thead>\n",
       "    <tr style=\"text-align: right;\">\n",
       "      <th></th>\n",
       "      <th>x1</th>\n",
       "      <th>x2</th>\n",
       "      <th>label</th>\n",
       "      <th>x3</th>\n",
       "      <th>x4</th>\n",
       "      <th>x5</th>\n",
       "      <th>x6</th>\n",
       "      <th>x7</th>\n",
       "    </tr>\n",
       "  </thead>\n",
       "  <tbody>\n",
       "    <tr>\n",
       "      <th>0</th>\n",
       "      <td>-0.779470</td>\n",
       "      <td>0.838221</td>\n",
       "      <td>1</td>\n",
       "      <td>0.607574</td>\n",
       "      <td>0.702615</td>\n",
       "      <td>-0.653369</td>\n",
       "      <td>1.617692</td>\n",
       "      <td>0.058751</td>\n",
       "    </tr>\n",
       "    <tr>\n",
       "      <th>1</th>\n",
       "      <td>0.155635</td>\n",
       "      <td>0.895377</td>\n",
       "      <td>1</td>\n",
       "      <td>0.024222</td>\n",
       "      <td>0.801701</td>\n",
       "      <td>0.139352</td>\n",
       "      <td>0.739743</td>\n",
       "      <td>1.051012</td>\n",
       "    </tr>\n",
       "    <tr>\n",
       "      <th>2</th>\n",
       "      <td>-0.059908</td>\n",
       "      <td>-0.717780</td>\n",
       "      <td>1</td>\n",
       "      <td>0.003589</td>\n",
       "      <td>0.515208</td>\n",
       "      <td>0.043001</td>\n",
       "      <td>0.657872</td>\n",
       "      <td>0.777688</td>\n",
       "    </tr>\n",
       "    <tr>\n",
       "      <th>3</th>\n",
       "      <td>0.207596</td>\n",
       "      <td>0.758933</td>\n",
       "      <td>1</td>\n",
       "      <td>0.043096</td>\n",
       "      <td>0.575980</td>\n",
       "      <td>0.157552</td>\n",
       "      <td>0.551337</td>\n",
       "      <td>0.966530</td>\n",
       "    </tr>\n",
       "    <tr>\n",
       "      <th>4</th>\n",
       "      <td>-0.195983</td>\n",
       "      <td>-0.375487</td>\n",
       "      <td>-1</td>\n",
       "      <td>0.038409</td>\n",
       "      <td>0.140991</td>\n",
       "      <td>0.073589</td>\n",
       "      <td>0.179504</td>\n",
       "      <td>0.571470</td>\n",
       "    </tr>\n",
       "    <tr>\n",
       "      <th>5</th>\n",
       "      <td>0.588489</td>\n",
       "      <td>-0.842554</td>\n",
       "      <td>1</td>\n",
       "      <td>0.346320</td>\n",
       "      <td>0.709897</td>\n",
       "      <td>-0.495834</td>\n",
       "      <td>1.431043</td>\n",
       "      <td>0.254064</td>\n",
       "    </tr>\n",
       "    <tr>\n",
       "      <th>6</th>\n",
       "      <td>0.007199</td>\n",
       "      <td>-0.548316</td>\n",
       "      <td>-1</td>\n",
       "      <td>0.000052</td>\n",
       "      <td>0.300651</td>\n",
       "      <td>-0.003947</td>\n",
       "      <td>0.555515</td>\n",
       "      <td>0.541118</td>\n",
       "    </tr>\n",
       "    <tr>\n",
       "      <th>7</th>\n",
       "      <td>0.738839</td>\n",
       "      <td>-0.603394</td>\n",
       "      <td>1</td>\n",
       "      <td>0.545882</td>\n",
       "      <td>0.364084</td>\n",
       "      <td>-0.445811</td>\n",
       "      <td>1.342232</td>\n",
       "      <td>0.135445</td>\n",
       "    </tr>\n",
       "    <tr>\n",
       "      <th>8</th>\n",
       "      <td>0.704648</td>\n",
       "      <td>-0.020420</td>\n",
       "      <td>1</td>\n",
       "      <td>0.496529</td>\n",
       "      <td>0.000417</td>\n",
       "      <td>-0.014389</td>\n",
       "      <td>0.725068</td>\n",
       "      <td>0.684228</td>\n",
       "    </tr>\n",
       "    <tr>\n",
       "      <th>9</th>\n",
       "      <td>0.969927</td>\n",
       "      <td>0.641371</td>\n",
       "      <td>-1</td>\n",
       "      <td>0.940758</td>\n",
       "      <td>0.411357</td>\n",
       "      <td>0.622083</td>\n",
       "      <td>0.328555</td>\n",
       "      <td>1.611298</td>\n",
       "    </tr>\n",
       "    <tr>\n",
       "      <th>10</th>\n",
       "      <td>0.435431</td>\n",
       "      <td>0.744773</td>\n",
       "      <td>-1</td>\n",
       "      <td>0.189600</td>\n",
       "      <td>0.554686</td>\n",
       "      <td>0.324297</td>\n",
       "      <td>0.309342</td>\n",
       "      <td>1.180204</td>\n",
       "    </tr>\n",
       "    <tr>\n",
       "      <th>11</th>\n",
       "      <td>-0.844258</td>\n",
       "      <td>0.742354</td>\n",
       "      <td>1</td>\n",
       "      <td>0.712772</td>\n",
       "      <td>0.551090</td>\n",
       "      <td>-0.626739</td>\n",
       "      <td>1.586612</td>\n",
       "      <td>0.101904</td>\n",
       "    </tr>\n",
       "    <tr>\n",
       "      <th>12</th>\n",
       "      <td>0.591425</td>\n",
       "      <td>-0.546021</td>\n",
       "      <td>1</td>\n",
       "      <td>0.349783</td>\n",
       "      <td>0.298139</td>\n",
       "      <td>-0.322930</td>\n",
       "      <td>1.137446</td>\n",
       "      <td>0.045404</td>\n",
       "    </tr>\n",
       "    <tr>\n",
       "      <th>13</th>\n",
       "      <td>-0.069093</td>\n",
       "      <td>0.037660</td>\n",
       "      <td>-1</td>\n",
       "      <td>0.004774</td>\n",
       "      <td>0.001418</td>\n",
       "      <td>-0.002602</td>\n",
       "      <td>0.106753</td>\n",
       "      <td>0.031433</td>\n",
       "    </tr>\n",
       "    <tr>\n",
       "      <th>14</th>\n",
       "      <td>-0.951549</td>\n",
       "      <td>-0.733055</td>\n",
       "      <td>-1</td>\n",
       "      <td>0.905445</td>\n",
       "      <td>0.537370</td>\n",
       "      <td>0.697538</td>\n",
       "      <td>0.218494</td>\n",
       "      <td>1.684604</td>\n",
       "    </tr>\n",
       "    <tr>\n",
       "      <th>15</th>\n",
       "      <td>-0.129881</td>\n",
       "      <td>0.756761</td>\n",
       "      <td>1</td>\n",
       "      <td>0.016869</td>\n",
       "      <td>0.572687</td>\n",
       "      <td>-0.098289</td>\n",
       "      <td>0.886642</td>\n",
       "      <td>0.626880</td>\n",
       "    </tr>\n",
       "    <tr>\n",
       "      <th>16</th>\n",
       "      <td>-0.495346</td>\n",
       "      <td>-0.566279</td>\n",
       "      <td>-1</td>\n",
       "      <td>0.245368</td>\n",
       "      <td>0.320672</td>\n",
       "      <td>0.280504</td>\n",
       "      <td>0.070933</td>\n",
       "      <td>1.061626</td>\n",
       "    </tr>\n",
       "    <tr>\n",
       "      <th>17</th>\n",
       "      <td>-0.903994</td>\n",
       "      <td>0.509221</td>\n",
       "      <td>1</td>\n",
       "      <td>0.817205</td>\n",
       "      <td>0.259307</td>\n",
       "      <td>-0.460333</td>\n",
       "      <td>1.413216</td>\n",
       "      <td>0.394773</td>\n",
       "    </tr>\n",
       "    <tr>\n",
       "      <th>18</th>\n",
       "      <td>0.292351</td>\n",
       "      <td>0.160890</td>\n",
       "      <td>-1</td>\n",
       "      <td>0.085469</td>\n",
       "      <td>0.025886</td>\n",
       "      <td>0.047036</td>\n",
       "      <td>0.131461</td>\n",
       "      <td>0.453241</td>\n",
       "    </tr>\n",
       "    <tr>\n",
       "      <th>19</th>\n",
       "      <td>0.647986</td>\n",
       "      <td>-0.779338</td>\n",
       "      <td>1</td>\n",
       "      <td>0.419885</td>\n",
       "      <td>0.607367</td>\n",
       "      <td>-0.505000</td>\n",
       "      <td>1.427323</td>\n",
       "      <td>0.131352</td>\n",
       "    </tr>\n",
       "    <tr>\n",
       "      <th>20</th>\n",
       "      <td>0.375956</td>\n",
       "      <td>0.078203</td>\n",
       "      <td>-1</td>\n",
       "      <td>0.141343</td>\n",
       "      <td>0.006116</td>\n",
       "      <td>0.029401</td>\n",
       "      <td>0.297753</td>\n",
       "      <td>0.454159</td>\n",
       "    </tr>\n",
       "    <tr>\n",
       "      <th>21</th>\n",
       "      <td>0.245890</td>\n",
       "      <td>0.004515</td>\n",
       "      <td>-1</td>\n",
       "      <td>0.060462</td>\n",
       "      <td>0.000020</td>\n",
       "      <td>0.001110</td>\n",
       "      <td>0.241375</td>\n",
       "      <td>0.250405</td>\n",
       "    </tr>\n",
       "    <tr>\n",
       "      <th>22</th>\n",
       "      <td>-0.457192</td>\n",
       "      <td>0.423905</td>\n",
       "      <td>1</td>\n",
       "      <td>0.209024</td>\n",
       "      <td>0.179695</td>\n",
       "      <td>-0.193806</td>\n",
       "      <td>0.881096</td>\n",
       "      <td>0.033287</td>\n",
       "    </tr>\n",
       "    <tr>\n",
       "      <th>23</th>\n",
       "      <td>-0.441279</td>\n",
       "      <td>0.705719</td>\n",
       "      <td>1</td>\n",
       "      <td>0.194727</td>\n",
       "      <td>0.498039</td>\n",
       "      <td>-0.311419</td>\n",
       "      <td>1.146998</td>\n",
       "      <td>0.264440</td>\n",
       "    </tr>\n",
       "    <tr>\n",
       "      <th>24</th>\n",
       "      <td>0.507447</td>\n",
       "      <td>0.758726</td>\n",
       "      <td>-1</td>\n",
       "      <td>0.257502</td>\n",
       "      <td>0.575665</td>\n",
       "      <td>0.385013</td>\n",
       "      <td>0.251279</td>\n",
       "      <td>1.266173</td>\n",
       "    </tr>\n",
       "    <tr>\n",
       "      <th>25</th>\n",
       "      <td>-0.132584</td>\n",
       "      <td>-0.581788</td>\n",
       "      <td>-1</td>\n",
       "      <td>0.017578</td>\n",
       "      <td>0.338478</td>\n",
       "      <td>0.077136</td>\n",
       "      <td>0.449205</td>\n",
       "      <td>0.714372</td>\n",
       "    </tr>\n",
       "    <tr>\n",
       "      <th>26</th>\n",
       "      <td>-0.447491</td>\n",
       "      <td>0.195764</td>\n",
       "      <td>1</td>\n",
       "      <td>0.200248</td>\n",
       "      <td>0.038323</td>\n",
       "      <td>-0.087602</td>\n",
       "      <td>0.643254</td>\n",
       "      <td>0.251727</td>\n",
       "    </tr>\n",
       "    <tr>\n",
       "      <th>27</th>\n",
       "      <td>0.816582</td>\n",
       "      <td>-0.454492</td>\n",
       "      <td>1</td>\n",
       "      <td>0.666806</td>\n",
       "      <td>0.206563</td>\n",
       "      <td>-0.371130</td>\n",
       "      <td>1.271074</td>\n",
       "      <td>0.362090</td>\n",
       "    </tr>\n",
       "    <tr>\n",
       "      <th>28</th>\n",
       "      <td>-0.944224</td>\n",
       "      <td>0.882734</td>\n",
       "      <td>1</td>\n",
       "      <td>0.891559</td>\n",
       "      <td>0.779220</td>\n",
       "      <td>-0.833499</td>\n",
       "      <td>1.826958</td>\n",
       "      <td>0.061490</td>\n",
       "    </tr>\n",
       "    <tr>\n",
       "      <th>29</th>\n",
       "      <td>0.462655</td>\n",
       "      <td>0.355836</td>\n",
       "      <td>-1</td>\n",
       "      <td>0.214050</td>\n",
       "      <td>0.126619</td>\n",
       "      <td>0.164629</td>\n",
       "      <td>0.106819</td>\n",
       "      <td>0.818491</td>\n",
       "    </tr>\n",
       "    <tr>\n",
       "      <th>30</th>\n",
       "      <td>0.883116</td>\n",
       "      <td>-0.199300</td>\n",
       "      <td>1</td>\n",
       "      <td>0.779895</td>\n",
       "      <td>0.039721</td>\n",
       "      <td>-0.176005</td>\n",
       "      <td>1.082417</td>\n",
       "      <td>0.683816</td>\n",
       "    </tr>\n",
       "    <tr>\n",
       "      <th>31</th>\n",
       "      <td>1.001605</td>\n",
       "      <td>0.525755</td>\n",
       "      <td>-1</td>\n",
       "      <td>1.003213</td>\n",
       "      <td>0.276418</td>\n",
       "      <td>0.526599</td>\n",
       "      <td>0.475850</td>\n",
       "      <td>1.527360</td>\n",
       "    </tr>\n",
       "    <tr>\n",
       "      <th>32</th>\n",
       "      <td>0.603701</td>\n",
       "      <td>-0.545537</td>\n",
       "      <td>1</td>\n",
       "      <td>0.364455</td>\n",
       "      <td>0.297611</td>\n",
       "      <td>-0.329341</td>\n",
       "      <td>1.149238</td>\n",
       "      <td>0.058164</td>\n",
       "    </tr>\n",
       "    <tr>\n",
       "      <th>33</th>\n",
       "      <td>-0.148588</td>\n",
       "      <td>-0.213084</td>\n",
       "      <td>-1</td>\n",
       "      <td>0.022078</td>\n",
       "      <td>0.045405</td>\n",
       "      <td>0.031662</td>\n",
       "      <td>0.064496</td>\n",
       "      <td>0.361671</td>\n",
       "    </tr>\n",
       "    <tr>\n",
       "      <th>34</th>\n",
       "      <td>0.011652</td>\n",
       "      <td>0.889239</td>\n",
       "      <td>1</td>\n",
       "      <td>0.000136</td>\n",
       "      <td>0.790747</td>\n",
       "      <td>0.010362</td>\n",
       "      <td>0.877587</td>\n",
       "      <td>0.900891</td>\n",
       "    </tr>\n",
       "  </tbody>\n",
       "</table>\n",
       "</div>"
      ],
      "text/plain": [
       "          x1        x2  label        x3        x4        x5        x6  \\\n",
       "0  -0.779470  0.838221      1  0.607574  0.702615 -0.653369  1.617692   \n",
       "1   0.155635  0.895377      1  0.024222  0.801701  0.139352  0.739743   \n",
       "2  -0.059908 -0.717780      1  0.003589  0.515208  0.043001  0.657872   \n",
       "3   0.207596  0.758933      1  0.043096  0.575980  0.157552  0.551337   \n",
       "4  -0.195983 -0.375487     -1  0.038409  0.140991  0.073589  0.179504   \n",
       "5   0.588489 -0.842554      1  0.346320  0.709897 -0.495834  1.431043   \n",
       "6   0.007199 -0.548316     -1  0.000052  0.300651 -0.003947  0.555515   \n",
       "7   0.738839 -0.603394      1  0.545882  0.364084 -0.445811  1.342232   \n",
       "8   0.704648 -0.020420      1  0.496529  0.000417 -0.014389  0.725068   \n",
       "9   0.969927  0.641371     -1  0.940758  0.411357  0.622083  0.328555   \n",
       "10  0.435431  0.744773     -1  0.189600  0.554686  0.324297  0.309342   \n",
       "11 -0.844258  0.742354      1  0.712772  0.551090 -0.626739  1.586612   \n",
       "12  0.591425 -0.546021      1  0.349783  0.298139 -0.322930  1.137446   \n",
       "13 -0.069093  0.037660     -1  0.004774  0.001418 -0.002602  0.106753   \n",
       "14 -0.951549 -0.733055     -1  0.905445  0.537370  0.697538  0.218494   \n",
       "15 -0.129881  0.756761      1  0.016869  0.572687 -0.098289  0.886642   \n",
       "16 -0.495346 -0.566279     -1  0.245368  0.320672  0.280504  0.070933   \n",
       "17 -0.903994  0.509221      1  0.817205  0.259307 -0.460333  1.413216   \n",
       "18  0.292351  0.160890     -1  0.085469  0.025886  0.047036  0.131461   \n",
       "19  0.647986 -0.779338      1  0.419885  0.607367 -0.505000  1.427323   \n",
       "20  0.375956  0.078203     -1  0.141343  0.006116  0.029401  0.297753   \n",
       "21  0.245890  0.004515     -1  0.060462  0.000020  0.001110  0.241375   \n",
       "22 -0.457192  0.423905      1  0.209024  0.179695 -0.193806  0.881096   \n",
       "23 -0.441279  0.705719      1  0.194727  0.498039 -0.311419  1.146998   \n",
       "24  0.507447  0.758726     -1  0.257502  0.575665  0.385013  0.251279   \n",
       "25 -0.132584 -0.581788     -1  0.017578  0.338478  0.077136  0.449205   \n",
       "26 -0.447491  0.195764      1  0.200248  0.038323 -0.087602  0.643254   \n",
       "27  0.816582 -0.454492      1  0.666806  0.206563 -0.371130  1.271074   \n",
       "28 -0.944224  0.882734      1  0.891559  0.779220 -0.833499  1.826958   \n",
       "29  0.462655  0.355836     -1  0.214050  0.126619  0.164629  0.106819   \n",
       "30  0.883116 -0.199300      1  0.779895  0.039721 -0.176005  1.082417   \n",
       "31  1.001605  0.525755     -1  1.003213  0.276418  0.526599  0.475850   \n",
       "32  0.603701 -0.545537      1  0.364455  0.297611 -0.329341  1.149238   \n",
       "33 -0.148588 -0.213084     -1  0.022078  0.045405  0.031662  0.064496   \n",
       "34  0.011652  0.889239      1  0.000136  0.790747  0.010362  0.877587   \n",
       "\n",
       "          x7  \n",
       "0   0.058751  \n",
       "1   1.051012  \n",
       "2   0.777688  \n",
       "3   0.966530  \n",
       "4   0.571470  \n",
       "5   0.254064  \n",
       "6   0.541118  \n",
       "7   0.135445  \n",
       "8   0.684228  \n",
       "9   1.611298  \n",
       "10  1.180204  \n",
       "11  0.101904  \n",
       "12  0.045404  \n",
       "13  0.031433  \n",
       "14  1.684604  \n",
       "15  0.626880  \n",
       "16  1.061626  \n",
       "17  0.394773  \n",
       "18  0.453241  \n",
       "19  0.131352  \n",
       "20  0.454159  \n",
       "21  0.250405  \n",
       "22  0.033287  \n",
       "23  0.264440  \n",
       "24  1.266173  \n",
       "25  0.714372  \n",
       "26  0.251727  \n",
       "27  0.362090  \n",
       "28  0.061490  \n",
       "29  0.818491  \n",
       "30  0.683816  \n",
       "31  1.527360  \n",
       "32  0.058164  \n",
       "33  0.361671  \n",
       "34  0.900891  "
      ]
     },
     "execution_count": 14,
     "metadata": {},
     "output_type": "execute_result"
    }
   ],
   "source": [
    "get_transform_data(in_data)"
   ]
  },
  {
   "cell_type": "code",
   "execution_count": 10,
   "metadata": {},
   "outputs": [
    {
     "data": {
      "text/html": [
       "<div>\n",
       "<table border=\"1\" class=\"dataframe\">\n",
       "  <thead>\n",
       "    <tr style=\"text-align: right;\">\n",
       "      <th></th>\n",
       "      <th>x1</th>\n",
       "      <th>x2</th>\n",
       "      <th>label</th>\n",
       "      <th>x3</th>\n",
       "    </tr>\n",
       "  </thead>\n",
       "  <tbody>\n",
       "    <tr>\n",
       "      <th>0</th>\n",
       "      <td>-0.779470</td>\n",
       "      <td>0.838221</td>\n",
       "      <td>1</td>\n",
       "      <td>0.607574</td>\n",
       "    </tr>\n",
       "    <tr>\n",
       "      <th>1</th>\n",
       "      <td>0.155635</td>\n",
       "      <td>0.895377</td>\n",
       "      <td>1</td>\n",
       "      <td>0.024222</td>\n",
       "    </tr>\n",
       "    <tr>\n",
       "      <th>2</th>\n",
       "      <td>-0.059908</td>\n",
       "      <td>-0.717780</td>\n",
       "      <td>1</td>\n",
       "      <td>0.003589</td>\n",
       "    </tr>\n",
       "    <tr>\n",
       "      <th>3</th>\n",
       "      <td>0.207596</td>\n",
       "      <td>0.758933</td>\n",
       "      <td>1</td>\n",
       "      <td>0.043096</td>\n",
       "    </tr>\n",
       "    <tr>\n",
       "      <th>4</th>\n",
       "      <td>-0.195983</td>\n",
       "      <td>-0.375487</td>\n",
       "      <td>-1</td>\n",
       "      <td>0.038409</td>\n",
       "    </tr>\n",
       "    <tr>\n",
       "      <th>5</th>\n",
       "      <td>0.588489</td>\n",
       "      <td>-0.842554</td>\n",
       "      <td>1</td>\n",
       "      <td>0.346320</td>\n",
       "    </tr>\n",
       "    <tr>\n",
       "      <th>6</th>\n",
       "      <td>0.007199</td>\n",
       "      <td>-0.548316</td>\n",
       "      <td>-1</td>\n",
       "      <td>0.000052</td>\n",
       "    </tr>\n",
       "    <tr>\n",
       "      <th>7</th>\n",
       "      <td>0.738839</td>\n",
       "      <td>-0.603394</td>\n",
       "      <td>1</td>\n",
       "      <td>0.545882</td>\n",
       "    </tr>\n",
       "    <tr>\n",
       "      <th>8</th>\n",
       "      <td>0.704648</td>\n",
       "      <td>-0.020420</td>\n",
       "      <td>1</td>\n",
       "      <td>0.496529</td>\n",
       "    </tr>\n",
       "    <tr>\n",
       "      <th>9</th>\n",
       "      <td>0.969927</td>\n",
       "      <td>0.641371</td>\n",
       "      <td>-1</td>\n",
       "      <td>0.940758</td>\n",
       "    </tr>\n",
       "    <tr>\n",
       "      <th>10</th>\n",
       "      <td>0.435431</td>\n",
       "      <td>0.744773</td>\n",
       "      <td>-1</td>\n",
       "      <td>0.189600</td>\n",
       "    </tr>\n",
       "    <tr>\n",
       "      <th>11</th>\n",
       "      <td>-0.844258</td>\n",
       "      <td>0.742354</td>\n",
       "      <td>1</td>\n",
       "      <td>0.712772</td>\n",
       "    </tr>\n",
       "    <tr>\n",
       "      <th>12</th>\n",
       "      <td>0.591425</td>\n",
       "      <td>-0.546021</td>\n",
       "      <td>1</td>\n",
       "      <td>0.349783</td>\n",
       "    </tr>\n",
       "    <tr>\n",
       "      <th>13</th>\n",
       "      <td>-0.069093</td>\n",
       "      <td>0.037660</td>\n",
       "      <td>-1</td>\n",
       "      <td>0.004774</td>\n",
       "    </tr>\n",
       "    <tr>\n",
       "      <th>14</th>\n",
       "      <td>-0.951549</td>\n",
       "      <td>-0.733055</td>\n",
       "      <td>-1</td>\n",
       "      <td>0.905445</td>\n",
       "    </tr>\n",
       "    <tr>\n",
       "      <th>15</th>\n",
       "      <td>-0.129881</td>\n",
       "      <td>0.756761</td>\n",
       "      <td>1</td>\n",
       "      <td>0.016869</td>\n",
       "    </tr>\n",
       "    <tr>\n",
       "      <th>16</th>\n",
       "      <td>-0.495346</td>\n",
       "      <td>-0.566279</td>\n",
       "      <td>-1</td>\n",
       "      <td>0.245368</td>\n",
       "    </tr>\n",
       "    <tr>\n",
       "      <th>17</th>\n",
       "      <td>-0.903994</td>\n",
       "      <td>0.509221</td>\n",
       "      <td>1</td>\n",
       "      <td>0.817205</td>\n",
       "    </tr>\n",
       "    <tr>\n",
       "      <th>18</th>\n",
       "      <td>0.292351</td>\n",
       "      <td>0.160890</td>\n",
       "      <td>-1</td>\n",
       "      <td>0.085469</td>\n",
       "    </tr>\n",
       "    <tr>\n",
       "      <th>19</th>\n",
       "      <td>0.647986</td>\n",
       "      <td>-0.779338</td>\n",
       "      <td>1</td>\n",
       "      <td>0.419885</td>\n",
       "    </tr>\n",
       "    <tr>\n",
       "      <th>20</th>\n",
       "      <td>0.375956</td>\n",
       "      <td>0.078203</td>\n",
       "      <td>-1</td>\n",
       "      <td>0.141343</td>\n",
       "    </tr>\n",
       "    <tr>\n",
       "      <th>21</th>\n",
       "      <td>0.245890</td>\n",
       "      <td>0.004515</td>\n",
       "      <td>-1</td>\n",
       "      <td>0.060462</td>\n",
       "    </tr>\n",
       "    <tr>\n",
       "      <th>22</th>\n",
       "      <td>-0.457192</td>\n",
       "      <td>0.423905</td>\n",
       "      <td>1</td>\n",
       "      <td>0.209024</td>\n",
       "    </tr>\n",
       "    <tr>\n",
       "      <th>23</th>\n",
       "      <td>-0.441279</td>\n",
       "      <td>0.705719</td>\n",
       "      <td>1</td>\n",
       "      <td>0.194727</td>\n",
       "    </tr>\n",
       "    <tr>\n",
       "      <th>24</th>\n",
       "      <td>0.507447</td>\n",
       "      <td>0.758726</td>\n",
       "      <td>-1</td>\n",
       "      <td>0.257502</td>\n",
       "    </tr>\n",
       "    <tr>\n",
       "      <th>25</th>\n",
       "      <td>-0.132584</td>\n",
       "      <td>-0.581788</td>\n",
       "      <td>-1</td>\n",
       "      <td>0.017578</td>\n",
       "    </tr>\n",
       "    <tr>\n",
       "      <th>26</th>\n",
       "      <td>-0.447491</td>\n",
       "      <td>0.195764</td>\n",
       "      <td>1</td>\n",
       "      <td>0.200248</td>\n",
       "    </tr>\n",
       "    <tr>\n",
       "      <th>27</th>\n",
       "      <td>0.816582</td>\n",
       "      <td>-0.454492</td>\n",
       "      <td>1</td>\n",
       "      <td>0.666806</td>\n",
       "    </tr>\n",
       "    <tr>\n",
       "      <th>28</th>\n",
       "      <td>-0.944224</td>\n",
       "      <td>0.882734</td>\n",
       "      <td>1</td>\n",
       "      <td>0.891559</td>\n",
       "    </tr>\n",
       "    <tr>\n",
       "      <th>29</th>\n",
       "      <td>0.462655</td>\n",
       "      <td>0.355836</td>\n",
       "      <td>-1</td>\n",
       "      <td>0.214050</td>\n",
       "    </tr>\n",
       "    <tr>\n",
       "      <th>30</th>\n",
       "      <td>0.883116</td>\n",
       "      <td>-0.199300</td>\n",
       "      <td>1</td>\n",
       "      <td>0.779895</td>\n",
       "    </tr>\n",
       "    <tr>\n",
       "      <th>31</th>\n",
       "      <td>1.001605</td>\n",
       "      <td>0.525755</td>\n",
       "      <td>-1</td>\n",
       "      <td>1.003213</td>\n",
       "    </tr>\n",
       "    <tr>\n",
       "      <th>32</th>\n",
       "      <td>0.603701</td>\n",
       "      <td>-0.545537</td>\n",
       "      <td>1</td>\n",
       "      <td>0.364455</td>\n",
       "    </tr>\n",
       "    <tr>\n",
       "      <th>33</th>\n",
       "      <td>-0.148588</td>\n",
       "      <td>-0.213084</td>\n",
       "      <td>-1</td>\n",
       "      <td>0.022078</td>\n",
       "    </tr>\n",
       "    <tr>\n",
       "      <th>34</th>\n",
       "      <td>0.011652</td>\n",
       "      <td>0.889239</td>\n",
       "      <td>1</td>\n",
       "      <td>0.000136</td>\n",
       "    </tr>\n",
       "  </tbody>\n",
       "</table>\n",
       "</div>"
      ],
      "text/plain": [
       "          x1        x2  label        x3\n",
       "0  -0.779470  0.838221      1  0.607574\n",
       "1   0.155635  0.895377      1  0.024222\n",
       "2  -0.059908 -0.717780      1  0.003589\n",
       "3   0.207596  0.758933      1  0.043096\n",
       "4  -0.195983 -0.375487     -1  0.038409\n",
       "5   0.588489 -0.842554      1  0.346320\n",
       "6   0.007199 -0.548316     -1  0.000052\n",
       "7   0.738839 -0.603394      1  0.545882\n",
       "8   0.704648 -0.020420      1  0.496529\n",
       "9   0.969927  0.641371     -1  0.940758\n",
       "10  0.435431  0.744773     -1  0.189600\n",
       "11 -0.844258  0.742354      1  0.712772\n",
       "12  0.591425 -0.546021      1  0.349783\n",
       "13 -0.069093  0.037660     -1  0.004774\n",
       "14 -0.951549 -0.733055     -1  0.905445\n",
       "15 -0.129881  0.756761      1  0.016869\n",
       "16 -0.495346 -0.566279     -1  0.245368\n",
       "17 -0.903994  0.509221      1  0.817205\n",
       "18  0.292351  0.160890     -1  0.085469\n",
       "19  0.647986 -0.779338      1  0.419885\n",
       "20  0.375956  0.078203     -1  0.141343\n",
       "21  0.245890  0.004515     -1  0.060462\n",
       "22 -0.457192  0.423905      1  0.209024\n",
       "23 -0.441279  0.705719      1  0.194727\n",
       "24  0.507447  0.758726     -1  0.257502\n",
       "25 -0.132584 -0.581788     -1  0.017578\n",
       "26 -0.447491  0.195764      1  0.200248\n",
       "27  0.816582 -0.454492      1  0.666806\n",
       "28 -0.944224  0.882734      1  0.891559\n",
       "29  0.462655  0.355836     -1  0.214050\n",
       "30  0.883116 -0.199300      1  0.779895\n",
       "31  1.001605  0.525755     -1  1.003213\n",
       "32  0.603701 -0.545537      1  0.364455\n",
       "33 -0.148588 -0.213084     -1  0.022078\n",
       "34  0.011652  0.889239      1  0.000136"
      ]
     },
     "execution_count": 10,
     "metadata": {},
     "output_type": "execute_result"
    }
   ],
   "source": [
    "in_data"
   ]
  }
 ],
 "metadata": {
  "kernelspec": {
   "display_name": "Python 3",
   "language": "python",
   "name": "python3"
  },
  "language_info": {
   "codemirror_mode": {
    "name": "ipython",
    "version": 3
   },
   "file_extension": ".py",
   "mimetype": "text/x-python",
   "name": "python",
   "nbconvert_exporter": "python",
   "pygments_lexer": "ipython3",
   "version": "3.5.2"
  }
 },
 "nbformat": 4,
 "nbformat_minor": 1
}
