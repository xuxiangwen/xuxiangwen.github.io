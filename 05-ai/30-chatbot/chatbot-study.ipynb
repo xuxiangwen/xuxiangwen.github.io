{
 "cells": [
  {
   "cell_type": "markdown",
   "metadata": {},
   "source": [
    "参考\n",
    "- $\\href {https://github.com/warmheartli/ChatBotCourse} {自己动手做聊天机器人教程} $"
   ]
  },
  {
   "cell_type": "markdown",
   "metadata": {},
   "source": [
    "## 1. chatbot介绍\n",
    "### 分类\n",
    "\n",
    "- 查找\n",
    "- 发现\n",
    "\n",
    "\n",
    "- 基于知识库\n",
    "- 基于检索\n",
    "\n",
    "\n",
    "- 基于规则（Rule-Based）  \n",
    "固定的匹配\n",
    "关键词\n",
    "知识体系\n",
    "- 基于数据（Generatic）\n",
    "\n",
    "\n",
    "- app（冰箱，电视）\n",
    "- 硬件"
   ]
  },
  {
   "cell_type": "markdown",
   "metadata": {},
   "source": [
    "### Challenge"
   ]
  },
  {
   "cell_type": "markdown",
   "metadata": {},
   "source": [
    "- 判断意图\n",
    "- 统一的语言风格： 回答问题的风格要统一，不能有精神分裂。\n",
    "- 多样性： 千篇一律的回答\n",
    "- "
   ]
  },
  {
   "cell_type": "markdown",
   "metadata": {},
   "source": [
    "### 工业应用"
   ]
  },
  {
   "cell_type": "markdown",
   "metadata": {},
   "source": [
    "- 语音助手  \n",
    "siri： 被动式  \n",
    "google now： 主动式    \n",
    "- 餐饮服务（订餐）\n",
    "- 医疗（前台初诊）\n",
    "- 新闻 \n",
    "- 财经助手   \n",
    "查询金融信息\n",
    "- 健身  \n",
    "可以全AI，比较安全\n"
   ]
  },
  {
   "cell_type": "markdown",
   "metadata": {},
   "source": [
    "## 2. 文本预处理\n",
    "### 2.1 NLTK\n",
    "#if use docker   \n",
    "docker ps   \n",
    "docker exec -it 0cfd9a62e7a1 bash \n",
    "\n",
    "#### 2.11 安装NLTK\n",
    "pip install -U nltk --proxy  http://web-proxy.rose.hp.com:8080  \n",
    "pip install -U numpy --proxy  http://web-proxy.rose.hp.com:8080  \n",
    "python  \n",
    "import nltk  #test\n",
    "\n",
    "#### 2.12 下载数据 \n",
    "python  \n",
    "import nltk  \n",
    "nltk.set_proxy('http://web-proxy.rose.hp.com:8080', ('USERNAME', 'PASSWORD'))  \n",
    "nltk.download()\n",
    "#下载: book, brown\n",
    "\n",
    "#### 2.13 基本功能"
   ]
  },
  {
   "cell_type": "code",
   "execution_count": 1,
   "metadata": {},
   "outputs": [
    {
     "data": {
      "text/plain": [
       "['The', 'Fulton', 'County', 'Grand', 'Jury', 'said', ...]"
      ]
     },
     "execution_count": 1,
     "metadata": {},
     "output_type": "execute_result"
    }
   ],
   "source": [
    "import nltk\n",
    "from nltk.corpus import brown\n",
    "brown.words()"
   ]
  },
  {
   "cell_type": "code",
   "execution_count": 2,
   "metadata": {},
   "outputs": [
    {
     "data": {
      "text/plain": [
       "['adventure',\n",
       " 'belles_lettres',\n",
       " 'editorial',\n",
       " 'fiction',\n",
       " 'government',\n",
       " 'hobbies',\n",
       " 'humor',\n",
       " 'learned',\n",
       " 'lore',\n",
       " 'mystery',\n",
       " 'news',\n",
       " 'religion',\n",
       " 'reviews',\n",
       " 'romance',\n",
       " 'science_fiction']"
      ]
     },
     "execution_count": 2,
     "metadata": {},
     "output_type": "execute_result"
    }
   ],
   "source": [
    "brown.categories()"
   ]
  },
  {
   "cell_type": "code",
   "execution_count": 3,
   "metadata": {},
   "outputs": [
    {
     "data": {
      "text/plain": [
       "57340"
      ]
     },
     "execution_count": 3,
     "metadata": {},
     "output_type": "execute_result"
    }
   ],
   "source": [
    "len(brown.sents())"
   ]
  },
  {
   "cell_type": "code",
   "execution_count": 4,
   "metadata": {},
   "outputs": [
    {
     "data": {
      "text/plain": [
       "1161192"
      ]
     },
     "execution_count": 4,
     "metadata": {},
     "output_type": "execute_result"
    }
   ],
   "source": [
    "len(brown.words())"
   ]
  },
  {
   "cell_type": "code",
   "execution_count": 5,
   "metadata": {},
   "outputs": [
    {
     "name": "stdout",
     "output_type": "stream",
     "text": [
      "*** Introductory Examples for the NLTK Book ***\n",
      "Loading text1, ..., text9 and sent1, ..., sent9\n",
      "Type the name of the text or sentence to view it.\n",
      "Type: 'texts()' or 'sents()' to list the materials.\n",
      "text1: Moby Dick by Herman Melville 1851\n",
      "text2: Sense and Sensibility by Jane Austen 1811\n",
      "text3: The Book of Genesis\n",
      "text4: Inaugural Address Corpus\n",
      "text5: Chat Corpus\n",
      "text6: Monty Python and the Holy Grail\n",
      "text7: Wall Street Journal\n",
      "text8: Personals Corpus\n",
      "text9: The Man Who Was Thursday by G . K . Chesterton 1908\n"
     ]
    }
   ],
   "source": [
    "from nltk.book import *\n",
    "#text*都是一个一个的书籍节点"
   ]
  },
  {
   "cell_type": "code",
   "execution_count": 6,
   "metadata": {},
   "outputs": [
    {
     "name": "stdout",
     "output_type": "stream",
     "text": [
      "Displaying 20 of 20 matches:\n",
      "s of the sea , appeared . Among the former , one was of a most monstrous size \n",
      "ce , borrowed from the chaplain ' s former sea - farings . Between the marble \n",
      "s him with a fresh lance , when the former one has been badly twisted , or elb\n",
      " , though smaller than those of the former order , nevertheless retain a propo\n",
      "fficial is still retained , but his former dignity is sadly abridged . At pres\n",
      " tested reality of his might had in former legendary times thrown its shadow b\n",
      "g associated with the experience of former perils ; for what knows he , this N\n",
      "ns and places in which , on various former voyages of various ships , sperm wh\n",
      ". So that though Moby Dick had in a former year been seen , for example , on w\n",
      "ed by the defection of seven of his former associates , and stung by the mocki\n",
      "no part in the mutiny , he told the former that he had a good mind to flog the\n",
      " so for ever got the start of their former captain , had he been at all minded\n",
      " head is cut off whole , but in the former the lips and tongue are separately \n",
      "nd the right . While the ear of the former has an external opening , that of t\n",
      "in small detached companies , as in former times , are now frequently met with\n",
      "ence on the coast of Greenland , in former times , of a Dutch village called S\n",
      "x months before he wheeled out of a former equinox at Aries ! From storm to st\n",
      "Sperm Whale , for example , that in former years ( the latter part of the last\n",
      "les no longer haunt many grounds in former years abounding with them , hence t\n",
      "ering was but the direct issue of a former woe ; and he too plainly seemed to \n",
      "------------------------------------------------------------\n",
      "whale boat sea world captain way head time other man crew pequod line\n",
      "deck body fishery air side water voyage\n",
      "------------------------------------------------------------\n"
     ]
    },
    {
     "data": {
      "image/png": "[encoded data removed]",
      "text/plain": [
       "<matplotlib.figure.Figure at 0x7f8cb70692b0>"
      ]
     },
     "metadata": {},
     "output_type": "display_data"
    }
   ],
   "source": [
    "text1.concordance(\"former\")  #会显示20个包含former的语句上下文\n",
    "print('------------------------------------------------------------')\n",
    "text1.similar(\"ship\")     #搜索相关词\n",
    "print('------------------------------------------------------------')\n",
    "# 查看某个词在文章里出现的位置\n",
    "text4.dispersion_plot([\"citizens\", \"democracy\", \"freedom\", \"duties\", \"America\"]) "
   ]
  },
  {
   "cell_type": "code",
   "execution_count": 27,
   "metadata": {},
   "outputs": [
    {
     "name": "stdout",
     "output_type": "stream",
     "text": [
      "260819\n",
      "9754\n",
      "1403\n",
      "['Herman', 'Melville', ']', 'ETYMOLOGY', 'Late', 'Consumptive', 'School', 'threadbare', 'lexicons', 'mockingly']\n",
      "Sperm Whale; Moby Dick; White Whale; old man; Captain Ahab; sperm\n",
      "whale; Right Whale; Captain Peleg; New Bedford; Cape Horn; cried Ahab;\n",
      "years ago; lower jaw; never mind; Father Mapple; cried Stubb; chief\n",
      "mate; white whale; ivory leg; one hand\n",
      "None\n"
     ]
    },
    {
     "data": {
      "image/png": "[encoded data removed]",
      "text/plain": [
       "<matplotlib.figure.Figure at 0x7f8c9f428160>"
      ]
     },
     "metadata": {},
     "output_type": "display_data"
    }
   ],
   "source": [
    "##### 词统计\n",
    "#print(set(text1)) #：返回文本的所有词集合\n",
    "print(len(text1)) #：返回总字数\n",
    "print(len(set(text4))) #：返回文本总词数\n",
    "print(text4.count(\"is\")) #：返回“is”这个词出现的总次数\n",
    "\n",
    "#好像缺加载什么东西\n",
    "fdist1 = nltk.FreqDist(text1)\n",
    "print(fdist1.hapaxes()[0:10]) #：返回只出现一次的词\n",
    "print(text1.collocations()) #：频繁的双联词(bigrams)一个搭配是异乎寻常的经常在一起出现的词序列例子\n",
    "fdist1 = FreqDist(text1)    #：统计文章的词频并按从大到小排序存到一个列表里\n",
    "fdist1.plot(50, cumulative=True) #：统计词频，并输出累计图像"
   ]
  },
  {
   "cell_type": "markdown",
   "metadata": {},
   "source": [
    "### 2.2 NLTK语料库\n",
    "\n",
    "from nltk.corpus import webtext：网络文本语料库，网络和聊天文本  \n",
    "from nltk.corpus import brown：布朗语料库，按照文本分类好的500个不同来源的文本  \n",
    "from nltk.corpus import reuters：路透社语料库，1万多个新闻文档  \n",
    "from nltk.corpus import inaugural：就职演说语料库，55个总统的演说  \n",
    "\n",
    "nltk.corpus.gutenberg就是gutenberg语料库的阅读器.\n",
    "\n",
    "语料库的通用接口:     \n",
    "fileids()：返回语料库中的文件   \n",
    "categories()：返回语料库中的分类  \n",
    "raw()：返回语料库的原始内容  \n",
    "words()：返回语料库中的词汇  \n",
    "sents()：返回语料库句子  \n",
    "abspath()：指定文件在磁盘上的位置  \n",
    "open()：打开语料库的文件流  \n",
    "\n",
    "词汇列表语料库：nltk.corpus.words.words()，所有英文单词，这个可以用来识别语法错误  \n",
    "停用词语料库：nltk.corpus.stopwords.words，用来识别那些最频繁出现的没有意义的词  \n",
    "发音词典：nltk.corpus.cmudict.dict()，用来输出每个英文单词的发音  \n",
    "比较词表：nltk.corpus.swadesh，多种语言核心200多个词的对照，可以作为语言翻译的基础  \n",
    "同义词集：WordNet，面向语义的英语词典，由同义词集组成，并组织成一个网络   "
   ]
  },
  {
   "cell_type": "code",
   "execution_count": 9,
   "metadata": {},
   "outputs": [
    {
     "name": "stdout",
     "output_type": "stream",
     "text": [
      "['austen-emma.txt', 'austen-persuasion.txt', 'austen-sense.txt', 'bible-kjv.txt', 'blake-poems.txt', 'bryant-stories.txt', 'burgess-busterbrown.txt', 'carroll-alice.txt', 'chesterton-ball.txt', 'chesterton-brown.txt', 'chesterton-thursday.txt', 'edgeworth-parents.txt', 'melville-moby_dick.txt', 'milton-paradise.txt', 'shakespeare-caesar.txt', 'shakespeare-hamlet.txt', 'shakespeare-macbeth.txt', 'whitman-leaves.txt']\n",
      "------------------------------------------------------------\n",
      "['[', 'The', 'Wisdom', 'of', 'Father', 'Brown', 'by', ...]\n",
      "------------------------------------------------------------\n",
      "[['[', 'The', 'Wisdom', 'of', 'Father', 'Brown', 'by', 'G', '.', 'K', '.', 'Chesterton', '1914', ']'], ['I', '.'], ...]\n"
     ]
    }
   ],
   "source": [
    "print(nltk.corpus.gutenberg.fileids())  #返回Gutenberg语料库的文件标识符\n",
    "print('------------------------------------------------------------')\n",
    "#print(nltk.corpus.gutenberg.raw('chesterton-brown.txt'))   #：输出chesterton-brown.txt文章的原始内容\n",
    "print(nltk.corpus.gutenberg.words('chesterton-brown.txt')) #：输出chesterton-brown.txt文章的单词列表\n",
    "print('------------------------------------------------------------')\n",
    "print(nltk.corpus.gutenberg.sents('chesterton-brown.txt')) #：输出chesterton-brown.txt文章的句子列表"
   ]
  },
  {
   "cell_type": "markdown",
   "metadata": {},
   "source": [
    "##### 加载自己的语料库\n"
   ]
  },
  {
   "cell_type": "code",
   "execution_count": 10,
   "metadata": {},
   "outputs": [
    {
     "name": "stdout",
     "output_type": "stream",
     "text": [
      "['ObjectExample.py', '__init__.py', 'model.py', 'neural_network.py', 'planar_utils.py', 'regression_model.py', 'utils.py']\n",
      "------------------------------------------------------------\n",
      "['class', 'Parent', ':', 'parentAttr', '=', '100', ...]\n"
     ]
    }
   ],
   "source": [
    "from nltk.corpus import PlaintextCorpusReader\n",
    "wordlists = PlaintextCorpusReader('eipi10/ml', '.*\\.py')\n",
    "print(wordlists.fileids())\n",
    "print('------------------------------------------------------------')\n",
    "print(wordlists.words())"
   ]
  },
  {
   "cell_type": "markdown",
   "metadata": {},
   "source": [
    "##### 条件分布概率\n"
   ]
  },
  {
   "cell_type": "code",
   "execution_count": 11,
   "metadata": {},
   "outputs": [
    {
     "name": "stdout",
     "output_type": "stream",
     "text": [
      "['adventure', 'belles_lettres', 'editorial', 'fiction', 'government', 'hobbies', 'humor', 'learned', 'lore', 'mystery', 'news', 'religion', 'reviews', 'romance', 'science_fiction']\n"
     ]
    },
    {
     "data": {
      "image/png": "[encoded data removed]",
      "text/plain": [
       "<matplotlib.figure.Figure at 0x7f8caadae400>"
      ]
     },
     "metadata": {},
     "output_type": "display_data"
    }
   ],
   "source": [
    "import sys\n",
    "from nltk.corpus import brown\n",
    "\n",
    "# 链表推导式，genre是brown语料库里的所有类别列表，word是这个类别中的词汇列表\n",
    "# (genre, word)就是类别加词汇对\n",
    "genre_word = [(genre, word)\n",
    "        for genre in brown.categories()\n",
    "        for word in brown.words(categories=genre)\n",
    "        ]\n",
    "print(brown.categories())\n",
    "# 创建条件频率分布\n",
    "cfd = nltk.ConditionalFreqDist(genre_word)\n",
    "\n",
    "# 指定条件和样本作图\n",
    "cfd.plot(conditions=['news','adventure'], \n",
    "         samples=[u'stock', u'sunbonnet', u'Elevated', u'narcotic', u'four', \n",
    "                  u'woods', u'railing', u'Until', u'aggression', u'marching', \n",
    "                  u'looking', u'eligible', u'electricity', u'$25-a-plate', \n",
    "                  u'consulate', u'Casey', u'all-county', u'Belgians', \n",
    "                  u'Western', u'1959-60', u'Duhagon', u'sinking', \n",
    "                  u'1,119', u'co-operation', u'Famed', u'regional', \n",
    "                  u'Charitable', u'appropriation', u'yellow', u'uncertain', \n",
    "                  u'Heights', u'bringing', u'prize', u'Loen', u'Publique', \n",
    "                  u'wooden', u'Loeb', u'963', u'specialties', u'Sands', \n",
    "                  u'succession', u'Paul', u'Phyfe'])"
   ]
  },
  {
   "cell_type": "code",
   "execution_count": 12,
   "metadata": {},
   "outputs": [
    {
     "name": "stdout",
     "output_type": "stream",
     "text": [
      "the\n",
      "land\n",
      "of\n",
      "the\n",
      "land\n",
      "of\n",
      "the\n",
      "land\n",
      "of\n",
      "the\n"
     ]
    }
   ],
   "source": [
    "# 循环10次，从cfdist中取当前单词最大概率的连词,并打印出来\n",
    "def generate_model(cfdist, word, num=10):\n",
    "    for i in range(num):\n",
    "        print(word)\n",
    "        word = cfdist[word].max()\n",
    "\n",
    "# 加载语料库\n",
    "text = nltk.corpus.genesis.words('english-kjv.txt')\n",
    "\n",
    "# 生成双连词\n",
    "bigrams = nltk.bigrams(text)\n",
    "\n",
    "# 生成条件频率分布\n",
    "cfd = nltk.ConditionalFreqDist(bigrams)\n",
    "\n",
    "# 以the开头，生成随机串\n",
    "generate_model(cfd, 'the')"
   ]
  },
  {
   "cell_type": "markdown",
   "metadata": {},
   "source": [
    "### 2.3 词性标注\n",
    "#### 英文词干提取器"
   ]
  },
  {
   "cell_type": "code",
   "execution_count": 13,
   "metadata": {},
   "outputs": [
    {
     "name": "stdout",
     "output_type": "stream",
     "text": [
      "lie\n",
      "book\n",
      "box\n",
      "fix\n"
     ]
    }
   ],
   "source": [
    "porter = nltk.PorterStemmer()\n",
    "print(porter.stem('lying'))\n",
    "print(porter.stem('books'))\n",
    "print(porter.stem('boxes'))\n",
    "print(porter.stem('fixed'))"
   ]
  },
  {
   "cell_type": "markdown",
   "metadata": {},
   "source": [
    "#### 词性标注器\n",
    "\n",
    "其中CC是连接词，RB是副词，IN是介词，NN是名次，JJ是形容词"
   ]
  },
  {
   "cell_type": "code",
   "execution_count": 14,
   "metadata": {},
   "outputs": [
    {
     "name": "stdout",
     "output_type": "stream",
     "text": [
      "['And', 'now', 'for', 'something', 'completely', 'different']\n",
      "[('And', 'CC'), ('now', 'RB'), ('for', 'IN'), ('something', 'NN'), ('completely', 'RB'), ('different', 'JJ')]\n",
      "[('i', 'NN'), ('love', 'VBP'), ('you', 'PRP')]\n",
      "[('love', 'NN'), ('and', 'CC'), ('hate', 'NN')]\n"
     ]
    }
   ],
   "source": [
    "text = nltk.word_tokenize(\"And now for something completely different\")\n",
    "print(text)\n",
    "print(nltk.pos_tag(text))\n",
    "print(nltk.pos_tag(['i','love','you']))     #这是love是动词\n",
    "print(nltk.pos_tag(['love','and','hate']))  #这是love是名词"
   ]
  },
  {
   "cell_type": "code",
   "execution_count": 15,
   "metadata": {},
   "outputs": [
    {
     "name": "stdout",
     "output_type": "stream",
     "text": [
      "('fly', 'NN')\n",
      "[('我', 'NN'), ('是', 'IN'), ('一个', 'AT'), ('大', 'JJ'), ('傻×', 'NN')]\n"
     ]
    }
   ],
   "source": [
    "#自己标注一批语料库\n",
    "#这里的nltk.tag.str2tuple可以把fly/NN这种字符串转成一个二元组\n",
    "tagged_token = nltk.tag.str2tuple('fly/NN') \n",
    "print(tagged_token)\n",
    "\n",
    "sent = '我/NN 是/IN 一个/AT 大/JJ 傻×/NN'\n",
    "print([nltk.tag.str2tuple(t) for t in sent.split()])"
   ]
  },
  {
   "cell_type": "code",
   "execution_count": 16,
   "metadata": {},
   "outputs": [
    {
     "data": {
      "text/plain": [
       "[('The', 'AT'), ('Fulton', 'NP-TL'), ...]"
      ]
     },
     "execution_count": 16,
     "metadata": {},
     "output_type": "execute_result"
    }
   ],
   "source": [
    "#看一下布朗语料库中的标注\n",
    "nltk.corpus.brown.tagged_words()"
   ]
  },
  {
   "cell_type": "markdown",
   "metadata": {},
   "source": [
    "##### 词性自动标注\n",
    "面对一片新的语料库(比如我们从未处理过中文，只有一批批的中文语料，现在让我们做词性自动标注), 几种标注方法:\n",
    "- 默认标注器  \n",
    "不管什么词，都标注为频率最高的一种词性。比如经过分析，所有中文语料里的词是名次的概率是13%最大，那么我们的默认标注器就全部标注为名次。\n",
    "- 正则表达式标注器  \n",
    "满足特定正则表达式的认为是某种词性，比如凡是带“们”的都认为是代词(PRO)。正则表达式标注器通RegexpTagge实现，\n",
    "- 查询标注器 \n",
    "找出最频繁的n个词以及它的词性，然后用这个信息去查找语料库，匹配的就标记上，剩余的词使用默认标注器(回退)。这一般使用一元标注的方式. 二元标注和多元标注：一元标注指的是只考虑当前这个词，不考虑上下文。二元标注器指的是考虑它前面的词的标注，用法只需要把上面的UnigramTagger换成BigramTagger。同理三元标注换成TrigramTagger\n",
    "- 组合标注器  \n",
    "为了提高精度和覆盖率，我们对多种标注器组合，比如组合二元标注器、一元标注器和默认标注器。"
   ]
  },
  {
   "cell_type": "code",
   "execution_count": 17,
   "metadata": {},
   "outputs": [
    {
     "name": "stdout",
     "output_type": "stream",
     "text": [
      "[('我', 'NN'), ('累', 'NN'), ('个', 'NN'), ('去', 'NN')]\n",
      "[('我们', 'PRO'), ('累', None), ('个', None), ('去', None), ('你们', 'PRO'), ('和', None), ('他们', 'PRO'), ('啊', None)]\n",
      "[('我', 'PRO'), ('你', None), ('小兔', 'NN')]\n",
      "[('我们', 'PRO'), ('累', 'NN'), ('个', 'NN'), ('去', 'NN'), ('你们', 'PRO'), ('和', 'NN'), ('他们', 'NN'), ('啊', 'NN')]\n"
     ]
    }
   ],
   "source": [
    "# 默认标注器\n",
    "default_tagger = nltk.DefaultTagger('NN')\n",
    "raw = '我 累 个 去'\n",
    "tokens = nltk.word_tokenize(raw)\n",
    "tags = default_tagger.tag(tokens)\n",
    "print(tags)\n",
    "\n",
    "# 正则表达式标注器\n",
    "pattern = [(r'.*们$','PRO')]\n",
    "tagger = nltk.RegexpTagger(pattern)   #没有匹配的词的词性是None\n",
    "print(tagger.tag(nltk.word_tokenize('我们 累 个 去 你们 和 他们 啊')))\n",
    "\n",
    "# 查询标注器\n",
    "tagged_sents = [[(u'我', u'PRO'), (u'我们', u'PRO'),(u'你们', u'PRO'), (u'小兔', u'NN')]]\n",
    "unigram_tagger = nltk.UnigramTagger(tagged_sents)\n",
    "sents = [[u'我', u'你', u'小兔']]\n",
    "tags = unigram_tagger.tag(sents[0])\n",
    "print(tags)\n",
    "\n",
    "# 组合标注器\n",
    "t0 = nltk.DefaultTagger('NN')\n",
    "t1 = nltk.UnigramTagger(tagged_sents, backoff=t0) \n",
    "# t2 = nltk.BigramTagger(train_sents, backoff=t1) \n",
    "tags = t1.tag(nltk.word_tokenize('我们 累 个 去 你们 和 他们 啊'))\n",
    "print(tags)"
   ]
  },
  {
   "cell_type": "markdown",
   "metadata": {},
   "source": [
    "##### 标注器的存储和加载"
   ]
  },
  {
   "cell_type": "code",
   "execution_count": 18,
   "metadata": {},
   "outputs": [
    {
     "name": "stdout",
     "output_type": "stream",
     "text": [
      "[('我们', 'PRO'), ('累', 'NN'), ('个', 'NN'), ('去', 'NN'), ('你们', 'PRO'), ('和', 'NN'), ('他们', 'NN'), ('啊', 'NN')]\n"
     ]
    }
   ],
   "source": [
    "\n",
    "from _pickle import dump, load\n",
    "output = open('t1.pkl', 'wb')\n",
    "dump(t1, output, -1)\n",
    "output.close()\n",
    "\n",
    "input = open('t1.pkl', 'rb') \n",
    "tagger = load(input) \n",
    "input.close() \n",
    "tags = t1.tag(nltk.word_tokenize('我们 累 个 去 你们 和 他们 啊'))\n",
    "print(tags)"
   ]
  },
  {
   "cell_type": "markdown",
   "metadata": {},
   "source": [
    "#####  中文词性标注\n",
    "\n",
    "几大中文的NLP工具\n",
    "\n",
    "-  哈工大的LTP(语言技术平台)：它可以做中文分词、词性标注、命名实体识别、依存句法分析、语义角色标注等丰富、 高效、精准的自然语言处理技术\n",
    "\n",
    "- 博森科技了： 除了做中文分词、词性标注、命名实体识别、依存文法之外还可以做情感分析、关键词提取、新闻分类、语义联想、时间转换、新闻摘要等，但因为是商业化的公司，除了分词和词性标注免费之外全都收费\n",
    "\n",
    "- jieba分词： 这个开源小工具分词和词性标注做的挺不错的，但是其他方面还欠缺一下，如果只是中文分词的需求完全可以满足\n",
    "\n",
    "- 中科院张华平博士的NLPIR汉语分词系统： 能支持关键词提取\n",
    "\n",
    "pip install -U pynlpir --proxy http://web-proxy.rose.hp.com:8080"
   ]
  },
  {
   "cell_type": "code",
   "execution_count": 51,
   "metadata": {},
   "outputs": [
    {
     "ename": "RuntimeError",
     "evalue": "NLPIR function 'NLPIR_Init' failed.",
     "output_type": "error",
     "traceback": [
      "\u001b[0;31m---------------------------------------------------------------------------\u001b[0m",
      "\u001b[0;31mRuntimeError\u001b[0m                              Traceback (most recent call last)",
      "\u001b[0;32m<ipython-input-51-8cb06166f8e5>\u001b[0m in \u001b[0;36m<module>\u001b[0;34m()\u001b[0m\n\u001b[1;32m      1\u001b[0m \u001b[0;32mimport\u001b[0m \u001b[0mpynlpir\u001b[0m\u001b[0;34m\u001b[0m\u001b[0m\n\u001b[1;32m      2\u001b[0m \u001b[0;34m\u001b[0m\u001b[0m\n\u001b[0;32m----> 3\u001b[0;31m \u001b[0mpynlpir\u001b[0m\u001b[0;34m.\u001b[0m\u001b[0mopen\u001b[0m\u001b[0;34m(\u001b[0m\u001b[0;34m)\u001b[0m\u001b[0;34m\u001b[0m\u001b[0m\n\u001b[0m\u001b[1;32m      4\u001b[0m \u001b[0ms\u001b[0m \u001b[0;34m=\u001b[0m \u001b[0;34m'聊天机器人到底该怎么做呢？'\u001b[0m\u001b[0;34m\u001b[0m\u001b[0m\n\u001b[1;32m      5\u001b[0m \u001b[0msegments\u001b[0m \u001b[0;34m=\u001b[0m \u001b[0mpynlpir\u001b[0m\u001b[0;34m.\u001b[0m\u001b[0msegment\u001b[0m\u001b[0;34m(\u001b[0m\u001b[0ms\u001b[0m\u001b[0;34m)\u001b[0m\u001b[0;34m\u001b[0m\u001b[0m\n",
      "\u001b[0;32m/opt/conda/lib/python3.6/site-packages/pynlpir/__init__.py\u001b[0m in \u001b[0;36mopen\u001b[0;34m(data_dir, encoding, encoding_errors, license_code)\u001b[0m\n\u001b[1;32m    106\u001b[0m     \u001b[0;32mif\u001b[0m \u001b[0;32mnot\u001b[0m \u001b[0mnlpir\u001b[0m\u001b[0;34m.\u001b[0m\u001b[0mInit\u001b[0m\u001b[0;34m(\u001b[0m\u001b[0mdata_dir\u001b[0m\u001b[0;34m,\u001b[0m \u001b[0mencoding_constant\u001b[0m\u001b[0;34m,\u001b[0m \u001b[0mlicense_code\u001b[0m\u001b[0;34m)\u001b[0m\u001b[0;34m:\u001b[0m\u001b[0;34m\u001b[0m\u001b[0m\n\u001b[1;32m    107\u001b[0m         \u001b[0m_attempt_to_raise_license_error\u001b[0m\u001b[0;34m(\u001b[0m\u001b[0mdata_dir\u001b[0m\u001b[0;34m)\u001b[0m\u001b[0;34m\u001b[0m\u001b[0m\n\u001b[0;32m--> 108\u001b[0;31m         \u001b[0;32mraise\u001b[0m \u001b[0mRuntimeError\u001b[0m\u001b[0;34m(\u001b[0m\u001b[0;34m\"NLPIR function 'NLPIR_Init' failed.\"\u001b[0m\u001b[0;34m)\u001b[0m\u001b[0;34m\u001b[0m\u001b[0m\n\u001b[0m\u001b[1;32m    109\u001b[0m     \u001b[0;32melse\u001b[0m\u001b[0;34m:\u001b[0m\u001b[0;34m\u001b[0m\u001b[0m\n\u001b[1;32m    110\u001b[0m         \u001b[0mlogger\u001b[0m\u001b[0;34m.\u001b[0m\u001b[0mdebug\u001b[0m\u001b[0;34m(\u001b[0m\u001b[0;34m\"NLPIR API initialized.\"\u001b[0m\u001b[0;34m)\u001b[0m\u001b[0;34m\u001b[0m\u001b[0m\n",
      "\u001b[0;31mRuntimeError\u001b[0m: NLPIR function 'NLPIR_Init' failed."
     ]
    }
   ],
   "source": [
    "    #不能运行\n",
    "# import pynlpir\n",
    "\n",
    "# pynlpir.open()\n",
    "# s = '聊天机器人到底该怎么做呢？'\n",
    "# segments = pynlpir.segment(s)\n",
    "# for segment in segments:\n",
    "#     print(segment[0], '\\t', segment[1])\n",
    "\n",
    "\n",
    "# key_words = pynlpir.get_key_words(s, weighted=True)\n",
    "# for key_word in key_words:\n",
    "#     print key_word[0], '\\t', key_word[1]\n",
    "\n",
    "# s = '海洋是如何形成的'\n",
    "# segments = pynlpir.segment(s, pos_names='all')\n",
    "\n",
    "# pynlpir.close()"
   ]
  },
  {
   "cell_type": "markdown",
   "metadata": {},
   "source": [
    "## 3.  文档分类\n",
    "\n",
    "可以采用贝叶斯分类器"
   ]
  },
  {
   "cell_type": "code",
   "execution_count": 40,
   "metadata": {},
   "outputs": [],
   "source": [
    "from nltk.corpus import movie_reviews\n",
    "all_words = nltk.FreqDist(w.lower() for w in movie_reviews.words())\n",
    "word_features = list(all_words.keys())[:2000]\n",
    "def document_features(document): \n",
    "    for word in word_features: \n",
    "        features['contains(%s)' % word] = (word in document_words) \n",
    "    return features "
   ]
  },
  {
   "cell_type": "code",
   "execution_count": 41,
   "metadata": {},
   "outputs": [],
   "source": [
    "# featuresets = [(document_features(d), c) for (d,c) in documents]\n",
    "# classifier = nltk.NaiveBayesClassifier.train(featuresets)\n",
    "# classifier.classify(document_features(d))\n",
    "# classifier.show_most_informative_features(5)"
   ]
  },
  {
   "cell_type": "markdown",
   "metadata": {},
   "source": [
    "## 4. 语法分析和文法分析\n",
    "\n",
    "人脑在理解一句话的时候也暗暗地在做着由非结构化到结构化的工作。\n",
    "\n",
    "比如说：“我下午要和小明在公司讨论一个技术问题”。这是一片非结构化的词语拼成的一句话，但是这里面有很多隐含信息：\n",
    "\n",
    "1）小明是一个实体\n",
    "\n",
    "2）参与者有两个：我和小明\n",
    "\n",
    "3）地点设定是：公司\n",
    "\n",
    "4）要做的事情是：讨论\n",
    "\n",
    "5）讨论的内容是：问题\n",
    "\n",
    "6）这个问题是一个技术问题\n",
    "\n",
    "7）公司是一个地点\n",
    "\n",
    "8）讨论是一种行为\n",
    "\n",
    "9）我和小明有某种关系\n",
    "\n",
    "10）下午是一个时间"
   ]
  },
  {
   "cell_type": "markdown",
   "metadata": {},
   "source": [
    "### 分块\n",
    "\n",
    "分块就是根据句子中的词和词性，按照某种规则组合在一起形成一个个分块，每个分块代表一个实体。常见的实体包括：组织、人员、地点、日期、时间等\n",
    "\n",
    "以上面的例子为例，首先我们做名词短语分块（NP-chunking），比如：技术问题。名词短语分块通过词性标记和一些规则就可以识别出来，也可以通过机器学习的方法识别\n",
    "\n",
    "除了名词短语分块还有很多其他分块：介词短语（PP，比如：以我……）、动词短语（VP，比如：打人）、句子（S，我是人）\n",
    "\n",
    "### 语法分析\n",
    "\n",
    "可以采用IOB标记，I(inside，内部)、O(outside，外部)、B(begin, 开始)，一个块的开始标记为B，块内的标识符序列标注为I，所有其他标识符标注为O\n",
    "\n",
    "也可以用树结构来存储分块，用树结构可以解决IOB无法标注的另一类分块，那就是多级分块。多级分块就是一句话可以有多重分块方法，比如：我以我的最高权利惩罚你。这里面“最高权利”、“我的最高权利”、“以我的最高权利”是不同类型分块形成一种多级分块，这是无法通过IOB标记的，但是用树结构可以。这也叫做级联分块。具体树结构举个例子：\n",
    "\n",
    "$\n",
    "(S   \\\\\n",
    "\\ \\ \\ \\    (NP\\ 小明) \\\\\n",
    "\\ \\ \\ \\     (VP \\\\\n",
    "\\ \\ \\ \\ \\ \\ \\ \\        (V\\ 追赶)  \\\\\n",
    "\\ \\ \\ \\ \\ \\ \\ \\        (NP \\\\\n",
    "\\ \\ \\ \\ \\ \\ \\ \\ \\ \\ \\ \\             (Det\\ 一只)  \\\\\n",
    "\\ \\ \\ \\ \\ \\ \\ \\ \\ \\ \\ \\             (N \\ 兔子)))) \\\\\n",
    "$\n",
    "\n",
    "这里面的N表示名词，Det表示限定词，NP表示名词短语，V表示动词，VP表示动词短语，S表示句子. 这种句子分析方法叫做语法分析"
   ]
  },
  {
   "cell_type": "code",
   "execution_count": 31,
   "metadata": {},
   "outputs": [
    {
     "name": "stdout",
     "output_type": "stream",
     "text": [
      "(S\n",
      "  (PP Over/IN)\n",
      "  (NP a/DT cup/NN)\n",
      "  (PP of/IN)\n",
      "  (NP coffee/NN)\n",
      "  ,/,\n",
      "  (NP Mr./NNP Stone/NNP)\n",
      "  (VP told/VBD)\n",
      "  (NP his/PRP$ story/NN)\n",
      "  ./.)\n"
     ]
    }
   ],
   "source": [
    "from nltk.corpus import conll2000\n",
    "print(conll2000.chunked_sents('train.txt')[99])"
   ]
  },
  {
   "cell_type": "markdown",
   "metadata": {},
   "source": [
    "### 文法分析\n",
    "因为句子可以无限组合无限扩展，所以单纯用语法分析来完成自然语言处理这件事情是不可能的，所以出现了文法分析\n",
    "\n",
    "文法是一个潜在的无限的句子集合的一个紧凑的特性，它是通过一组形式化模型来表示的，文法可以覆盖所有结构的句子，对一个句子做文法分析，就是把句子往文法模型上靠，如果同时符合多种文法，那就是有歧义的句子\n",
    "\n",
    "最重要的结论：文法结构范围相当广泛，无法用规则类的方法来处理，只有利用基于特征的方法才能处理\n",
    "\n",
    "文法特征举例：单词最后一个字母、词性标签、文法类别、正字拼写、指示物、关系、施事角色、受事角色\n",
    "\n",
    "#### 文法特征结构\n",
    "因为文法特征是一种kv，所以特征结构的存储形式是字典\n",
    "\n",
    "不是什么样的句子都能提取出每一个文法特征的，需要满足一定的条件，这需要通过一系列的检查手段来达到，包括：句法协议（比如this dog就是对的，而these dog就是错的）、属性和约束、术语\n",
    "\n",
    "#### 特征结构的处理"
   ]
  },
  {
   "cell_type": "code",
   "execution_count": 32,
   "metadata": {},
   "outputs": [
    {
     "name": "stdout",
     "output_type": "stream",
     "text": [
      "[ NUM   = 'sg'   ]\n",
      "[ TENSE = 'past' ]\n",
      "[ AGR = [ NUM   = 'sg'   ] ]\n",
      "[       [ TENSE = 'past' ] ]\n",
      "[                          ]\n",
      "[ POS = 'N'                ]\n"
     ]
    }
   ],
   "source": [
    "fs1 = nltk.FeatStruct(TENSE='past', NUM='sg')\n",
    "print(fs1)\n",
    "fs2 = nltk.FeatStruct(POS='N', AGR=fs1)\n",
    "print(fs2)"
   ]
  },
  {
   "cell_type": "markdown",
   "metadata": {},
   "source": [
    "在nltk的库里已经有了一些产生式文法描述可以直接使用，位置在：\n",
    "\n",
    "ls ~/nltk_data/grammars/book_grammars\n",
    "\n",
    "我们看其中最简单的一个sql0.fcfg，这是一个查找国家城市的sql语句的文法：\n",
    "\n",
    "% start S\n",
    "\n",
    "S[SEM=(?np + WHERE + ?vp)] -> NP[SEM=?np] VP[SEM=?vp]\n",
    "\n",
    "VP[SEM=(?v + ?pp)] -> IV[SEM=?v] PP[SEM=?pp]\n",
    "VP[SEM=(?v + ?ap)] -> IV[SEM=?v] AP[SEM=?ap]\n",
    "NP[SEM=(?det + ?n)] -> Det[SEM=?det] N[SEM=?n]\n",
    "PP[SEM=(?p + ?np)] -> P[SEM=?p] NP[SEM=?np]\n",
    "AP[SEM=?pp] -> A[SEM=?a] PP[SEM=?pp]\n",
    "\n",
    "NP[SEM='Country=\"greece\"'] -> 'Greece'\n",
    "NP[SEM='Country=\"china\"'] -> 'China'\n",
    "\n",
    "Det[SEM='SELECT'] -> 'Which' | 'What'\n",
    "\n",
    "N[SEM='City FROM city_table'] -> 'cities'\n",
    "\n",
    "IV[SEM=''] -> 'are'\n",
    "A[SEM=''] -> 'located'\n",
    "P[SEM=''] -> 'in'"
   ]
  },
  {
   "cell_type": "code",
   "execution_count": 36,
   "metadata": {},
   "outputs": [
    {
     "name": "stdout",
     "output_type": "stream",
     "text": [
      "(S[SEM=(SELECT, City FROM city_table, WHERE, , , Country=\"china\")]\n",
      "  (NP[SEM=(SELECT, City FROM city_table)]\n",
      "    (Det[SEM='SELECT'] What)\n",
      "    (N[SEM='City FROM city_table'] cities))\n",
      "  (VP[SEM=(, , Country=\"china\")]\n",
      "    (IV[SEM=''] are)\n",
      "    (AP[SEM=(, Country=\"china\")]\n",
      "      (A[SEM=''] located)\n",
      "      (PP[SEM=(, Country=\"china\")]\n",
      "        (P[SEM=''] in)\n",
      "        (NP[SEM='Country=\"china\"'] China)))))\n"
     ]
    }
   ],
   "source": [
    "import nltk\n",
    "from nltk import load_parser\n",
    "cp = load_parser('grammars/book_grammars/sql0.fcfg')\n",
    "query = 'What cities are located in China'\n",
    "tokens = query.split()\n",
    "for tree in cp.parse(tokens):\n",
    "    print(tree)"
   ]
  },
  {
   "cell_type": "markdown",
   "metadata": {},
   "source": [
    "## 5. 聊天机器人"
   ]
  },
  {
   "cell_type": "markdown",
   "metadata": {},
   "source": [
    "三大模块：\n",
    "\n",
    "- 提问处理模块\n",
    "    - 查询关键词生成\n",
    "    - 答案类型确定\n",
    "    - 句法和语义分析。\n",
    "- 检索模块\n",
    "- 答案抽取模块\n",
    "\n",
    "关键技术：\n",
    "\n",
    "- 海量文本知识表示：网络文本资源获取、机器学习方法、大规模语义计算和推理、知识表示体系、知识库构建；\n",
    "\n",
    "- 问句解析：中文分词、词性标注、实体标注、概念类别标注、句法分析、语义分析、逻辑结构标注、指代消解、关联关系标注、问句分类（简单问句还是复杂问句、实体型还是段落型还是篇章级问题）、答案类别确定；\n",
    "\n",
    "- 答案生成与过滤：候选答案抽取、关系推演（并列关系还是递进关系还是因果关系）、吻合程度判断、噪声过滤"
   ]
  },
  {
   "cell_type": "markdown",
   "metadata": {},
   "source": [
    "技术分类： \n",
    "\n",
    "- 基于检索的技术： 简单易实现，无法从句法关系和语义关系给出答案，也就是搞不定推理问题\n",
    "- 基于模式匹配的技术：把问题往已经梳理好的几种模式上去靠，这种做推理简单，但是模式我们涵盖不全\n",
    "- 基于自然语言理解的技术：把浅层分析加上句法分析、语义分析都融入进来做的补充和改进\n",
    "- 基于统计翻译模型的技术：把问句里的疑问词留出来，然后和候选答案资料做配对，能对齐了就是答案\n",
    "\n"
   ]
  },
  {
   "cell_type": "code",
   "execution_count": null,
   "metadata": {},
   "outputs": [],
   "source": []
  },
  {
   "cell_type": "code",
   "execution_count": null,
   "metadata": {},
   "outputs": [],
   "source": []
  },
  {
   "cell_type": "code",
   "execution_count": null,
   "metadata": {},
   "outputs": [],
   "source": []
  },
  {
   "cell_type": "code",
   "execution_count": null,
   "metadata": {},
   "outputs": [],
   "source": []
  },
  {
   "cell_type": "code",
   "execution_count": null,
   "metadata": {},
   "outputs": [],
   "source": []
  },
  {
   "cell_type": "markdown",
   "metadata": {},
   "source": [
    "### 中文分词\n",
    "#### jieba\n",
    "\n",
    "pip install -U jieba --proxy http://web-proxy.rose.hp.com:8080"
   ]
  },
  {
   "cell_type": "code",
   "execution_count": 19,
   "metadata": {},
   "outputs": [
    {
     "name": "stdout",
     "output_type": "stream",
     "text": [
      "Full Mode:我/ 来到/ 北京/ 清华/ 清华大学/ 华大/ 大学\n",
      "Full Mode:我/ 来到/ 北京/ 清华大学\n",
      "他/ 来到/ 了/ 网易/ 杭研/ 大厦\n",
      "小明/ 硕士/ 毕业/ 于/ 中国/ 科学/ 学院/ 科学院/ 中国科学院/ 计算/ 计算所/ ，/ 后/ 在/ 日本/ 京都/ 大学/ 日本京都大学/ 深造\n"
     ]
    }
   ],
   "source": [
    "import jieba\n",
    "seg_list = jieba.cut(\"我来到北京清华大学\", cut_all=True)\n",
    "print(\"Full Mode:\" + \"/ \".join(seg_list))\n",
    "seg_list = jieba.cut(\"我来到北京清华大学\", cut_all=False)\n",
    "print(\"Extract Mode:\" + \"/ \".join(seg_list))\n",
    "seg_list = jieba.cut(\"他来到了网易杭研大厦\")   #默认是精确模式\n",
    "print(\"/ \".join(seg_list))\n",
    "seg_list = jieba.cut_for_search(\"小明硕士毕业于中国科学院计算所，后在日本京都大学深造\"                               )\n",
    "print(\"/ \".join(seg_list)) #搜索引擎模式，范围最大，一般和全模式结果基本相同。"
   ]
  },
  {
   "cell_type": "markdown",
   "metadata": {},
   "source": [
    "- 采用正则表达式去掉一些特殊的词\n",
    "    - 比如网上的表情符号，@某人，网易，邮箱等。\n",
    "- 词形归一化  \n",
    "    纷繁复杂的词形\n",
    "        - 时态\n",
    "        - 单复数\n",
    "        - 衍生词 nation => national => nationalize\n",
    "    - Stemming(词干提取)\n",
    "        - walking = walk\n",
    "        - walked = walk\n",
    "    - Lemmatization(词性归一)\n",
    "        - went, gone = go\n",
    "        - are, is - be\n",
    "    - POS(Part Of Speech) Tag  \n",
    "- Stopwords(虚词表)    \n",
    "    - THE， HE"
   ]
  },
  {
   "cell_type": "markdown",
   "metadata": {},
   "source": [
    "<img align=\"left\" src=\"image/text_processing.png\">\n"
   ]
  },
  {
   "cell_type": "markdown",
   "metadata": {},
   "source": [
    "###  Word2Vec\n",
    "- onehot\n",
    "- 找到最近词曲线的频次\n",
    "- CBow\n",
    "- Skip-Gram"
   ]
  },
  {
   "cell_type": "markdown",
   "metadata": {},
   "source": [
    "### SVD\n",
    "\n",
    "奇异值分解用于降维"
   ]
  },
  {
   "cell_type": "markdown",
   "metadata": {},
   "source": [
    "### TF-IDF\n",
    "\n",
    "- TF-IDF 公式\n",
    "- TF-IDF 优点和缺点"
   ]
  },
  {
   "cell_type": "markdown",
   "metadata": {},
   "source": [
    "### Auto-Encoder\n",
    "\n",
    "用于压缩输入的数据。早期应用深度学习思维的思想，目前效果已经一般了。"
   ]
  },
  {
   "cell_type": "markdown",
   "metadata": {},
   "source": [
    "词意理解：中国队大胜美国队；中国队大败美国队。“胜”、“败”一对反义词，却表达同样的意思：中国赢了，美国输了。这需要机器能够自动分析出谁胜谁负\n",
    "\n",
    "自动生成语言：自动生成语言基于语言的自动理解，不理解就无法自动生成\n",
    "\n",
    "机器翻译：现在机器翻译已经很多了，但是还很难达到最佳，比如我们把中文翻译成英文，再翻译成中文，再翻译成英文，来回10轮，发现和最初差别还是非常大的。\n",
    "\n",
    "人机对话：这也是我们想做到的最终目标，这里有一个叫做“图灵测试”的方式，也就是在5分钟之内回答提出问题的30%即通过，能通过则认为有智能了。\n",
    "\n",
    "自然语言处理分两派，一派是基于规则的，也就是完全从语法句法等出发，按照语言的规则来分析和处理，这在上个世纪经历了很多年的试验宣告失败，因为规则太多太多，而且很多语言都不按套路出牌，想象你追赶你的影子，你跑的快他跑的更快，你永远都追不上它。另一派是基于统计的，也就是收集大量的语料数据，通过统计学习的方式来理解语言，这在当代越来越受重视而且已经成为趋势，因为随着硬件技术的发展，大数据存储和计算已经不是问题，无论有什么样的规则，语言都是有统计规律的，当然基于统计也存在缺陷，那就是“小概率事件总是不会发生的”导致总有一些问题解决不了。"
   ]
  },
  {
   "cell_type": "markdown",
   "metadata": {},
   "source": []
  },
  {
   "cell_type": "markdown",
   "metadata": {},
   "source": []
  },
  {
   "cell_type": "markdown",
   "metadata": {},
   "source": []
  },
  {
   "cell_type": "markdown",
   "metadata": {},
   "source": []
  },
  {
   "cell_type": "markdown",
   "metadata": {},
   "source": []
  }
 ],
 "metadata": {
  "kernelspec": {
   "display_name": "Python 3",
   "language": "python",
   "name": "python3"
  },
  "language_info": {
   "codemirror_mode": {
    "name": "ipython",
    "version": 3
   },
   "file_extension": ".py",
   "mimetype": "text/x-python",
   "name": "python",
   "nbconvert_exporter": "python",
   "pygments_lexer": "ipython3",
   "version": "3.5.2"
  }
 },
 "nbformat": 4,
 "nbformat_minor": 2
}
