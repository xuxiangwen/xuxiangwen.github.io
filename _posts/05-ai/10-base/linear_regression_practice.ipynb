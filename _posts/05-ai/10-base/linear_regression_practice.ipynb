{
 "cells": [
  {
   "cell_type": "code",
   "execution_count": 1,
   "metadata": {},
   "outputs": [],
   "source": [
    "from importlib import reload\n",
    "import matplotlib.pyplot as plt\n",
    "import numpy as np\n",
    "import eipi10.ml.linear_model as lm\n",
    "from eipi10.ml.planar_utils import *\n",
    "from eipi10.ml.utils import *\n",
    "from eipi10.ml.predictor import *\n",
    "\n",
    "reload(lm)\n",
    "%matplotlib inline"
   ]
  },
  {
   "cell_type": "code",
   "execution_count": 2,
   "metadata": {},
   "outputs": [],
   "source": [
    "learning_rate = 1\n",
    "\n",
    "epoch_times = 2000\n",
    "print_num_epoch = 100\n",
    "keep_cost_num_epoch = 100\n",
    "\n",
    "level = logging.INFO\n",
    "# level = logging.DEBUG\n",
    "if level == logging.DEBUG:\n",
    "    epoch_times = 150\n",
    "    print_num_epoch = 1\n",
    "    keep_cost_num_epoch = 1\n",
    "logger.setLevel(level=level)"
   ]
  },
  {
   "cell_type": "markdown",
   "metadata": {},
   "source": [
    "# One Variable Data"
   ]
  },
  {
   "cell_type": "code",
   "execution_count": 3,
   "metadata": {},
   "outputs": [
    {
     "name": "stderr",
     "output_type": "stream",
     "text": [
      "INFO: Cost after epoch 0: 32.0727338775\n"
     ]
    },
    {
     "name": "stdout",
     "output_type": "stream",
     "text": [
      "(1, 97)\n",
      "(1, 97)\n"
     ]
    },
    {
     "name": "stderr",
     "output_type": "stream",
     "text": [
      "INFO: Cost after epoch 100: 5.4799755805\n",
      "INFO: Cost after epoch 200: 5.1761529629\n",
      "INFO: Cost after epoch 300: 4.9643620462\n",
      "INFO: Cost after epoch 400: 4.8167252680\n",
      "INFO: Cost after epoch 500: 4.7138095311\n",
      "INFO: Cost after epoch 600: 4.6420682683\n",
      "INFO: Cost after epoch 700: 4.5920583384\n",
      "INFO: Cost after epoch 800: 4.5571970466\n",
      "INFO: Cost after epoch 900: 4.5328956797\n",
      "INFO: Cost after epoch 1000: 4.5159555031\n",
      "INFO: Cost after epoch 1100: 4.5041467195\n",
      "INFO: Cost after epoch 1200: 4.4959149654\n",
      "INFO: Cost after epoch 1300: 4.4901767134\n",
      "INFO: Cost after epoch 1400: 4.4861766502\n",
      "INFO: Final Cost after epoch 1500: 4.4833882566\n"
     ]
    },
    {
     "name": "stdout",
     "output_type": "stream",
     "text": [
      "cost=4.483388256587726\n",
      "w=[[ 1.16636235]]\n",
      "b=[[-3.63029144]]\n",
      "equation.W=[[ 1.19303364]]\n",
      "equation.b=[[-3.89578088]]\n"
     ]
    }
   ],
   "source": [
    "train_X_orig, train_Y_orig = load_flat_dataset(\"data/ex1data1.txt\")\n",
    "\n",
    "\n",
    "train_X = train_X_orig\n",
    "train_Y = train_Y_orig\n",
    "print(train_X.shape)\n",
    "print(train_Y.shape)\n",
    "model = lm.LinearRegression(num_features=train_X.shape[0],\n",
    "                            optimizer=GradientOptimizer(0.01),\n",
    "                            iterator=NumberIterator(1500))\n",
    "model.fit(train_X, train_Y, print_cost=True, print_num_epoch=100)\n",
    "print(\"cost={}\".format(model.cost))\n",
    "print(\"w={}\".format(model.W))\n",
    "print(\"b={}\".format(model.b))\n",
    "\n",
    "W, b = lm.LinearRegression.normal_equation(train_X, train_Y)\n",
    "print('equation.W={}'.format(W))\n",
    "print('equation.b={}'.format(b))\n"
   ]
  },
  {
   "cell_type": "code",
   "execution_count": 4,
   "metadata": {},
   "outputs": [
    {
     "data": {
      "image/png": "[encoded data removed]",
      "text/plain": [
       "<matplotlib.figure.Figure at 0x7efbf122d080>"
      ]
     },
     "metadata": {},
     "output_type": "display_data"
    }
   ],
   "source": [
    "predictor = Predictor(model)\n",
    "predictor.plot_regression_curve(train_X, train_Y)"
   ]
  },
  {
   "cell_type": "code",
   "execution_count": 7,
   "metadata": {},
   "outputs": [
    {
     "name": "stdout",
     "output_type": "stream",
     "text": [
      "(75, 1) (75,) (25, 1) (25,) 27.478050549563925 5\n"
     ]
    },
    {
     "data": {
      "image/png": "[encoded data removed]",
      "text/plain": [
       "<matplotlib.figure.Figure at 0x7efbed865cc0>"
      ]
     },
     "metadata": {},
     "output_type": "display_data"
    },
    {
     "name": "stdout",
     "output_type": "stream",
     "text": [
      "(1, 75) (1, 75) (1, 25) (1, 25) 27.478050549563925 5\n"
     ]
    }
   ],
   "source": [
    "train_X_orig, train_Y_orig, test_X_orig, test_Y_orig, w, b = load_regression_dataset_coef(n_samples=100, noise=10, bias=10)\n",
    "print(train_X_orig.shape, train_Y_orig.shape, test_X_orig.shape, test_Y_orig.shape, w, b)\n",
    "\n",
    "plt.scatter(train_X_orig, train_Y_orig)\n",
    "plt.show()\n",
    "\n",
    "train_X = train_X_orig.T\n",
    "train_Y = train_Y_orig.reshape(train_Y_orig.shape[0], 1).T\n",
    "test_X = test_X_orig.T\n",
    "test_Y = test_Y_orig.reshape(test_Y_orig.shape[0], 1).T\n",
    "\n",
    "print(train_X.shape, train_Y.shape, test_X.shape, test_Y.shape, w, b)"
   ]
  },
  {
   "cell_type": "code",
   "execution_count": 8,
   "metadata": {},
   "outputs": [
    {
     "name": "stderr",
     "output_type": "stream",
     "text": [
      "INFO: Cost after epoch 0: 539.4940294539\n",
      "INFO: Cost after epoch 100: 43.0489108017\n",
      "INFO: Cost after epoch 200: 43.0489108017\n",
      "INFO: Cost after epoch 300: 43.0489108017\n",
      "INFO: Cost after epoch 400: 43.0489108017\n",
      "INFO: Cost after epoch 500: 43.0489108017\n",
      "INFO: Cost after epoch 600: 43.0489108017\n",
      "INFO: Cost after epoch 700: 43.0489108017\n",
      "INFO: Cost after epoch 800: 43.0489108017\n",
      "INFO: Cost after epoch 900: 43.0489108017\n",
      "INFO: Cost after epoch 1000: 43.0489108017\n",
      "INFO: Cost after epoch 1100: 43.0489108017\n",
      "INFO: Cost after epoch 1200: 43.0489108017\n",
      "INFO: Cost after epoch 1300: 43.0489108017\n",
      "INFO: Cost after epoch 1400: 43.0489108017\n",
      "INFO: Cost after epoch 1500: 43.0489108017\n",
      "INFO: Cost after epoch 1600: 43.0489108017\n",
      "INFO: Cost after epoch 1700: 43.0489108017\n",
      "INFO: Cost after epoch 1800: 43.0489108017\n",
      "INFO: Cost after epoch 1900: 43.0489108017\n",
      "INFO: Final Cost after epoch 2000: 43.0489108017\n"
     ]
    },
    {
     "data": {
      "image/png": "[encoded data removed]",
      "text/plain": [
       "<matplotlib.figure.Figure at 0x7efbed8123c8>"
      ]
     },
     "metadata": {},
     "output_type": "display_data"
    },
    {
     "name": "stdout",
     "output_type": "stream",
     "text": [
      "[[ 28.21157788]] [[ 14.5423416]]\n",
      "equation.W=[[ 28.21157788]]\n",
      "equation.b=[[ 14.5423416]]\n"
     ]
    }
   ],
   "source": [
    "reload(lm)\n",
    "model = lm.LinearRegression(num_features=train_X.shape[0], \n",
    "                            regularizer=Regularizer(), iterator=NumberIterator(epoch_times), \n",
    "                            optimizer=GradientOptimizer(learning_rate), initializer=WeightInitializer(),\n",
    "                            keep_cost_num_epoch=keep_cost_num_epoch)\n",
    "\n",
    "model.fit(train_X, train_Y, print_cost=True, print_num_epoch=print_num_epoch)   \n",
    "\n",
    "model.plot_costs()\n",
    "print(model.W, model.b)\n",
    "\n",
    "W, b = lm.LinearRegression.normal_equation(train_X, train_Y)\n",
    "print('equation.W={}'.format(W))\n",
    "print('equation.b={}'.format(b))"
   ]
  },
  {
   "cell_type": "code",
   "execution_count": 9,
   "metadata": {},
   "outputs": [
    {
     "data": {
      "image/png": "[encoded data removed]",
      "text/plain": [
       "<matplotlib.figure.Figure at 0x7efbf122d518>"
      ]
     },
     "metadata": {},
     "output_type": "display_data"
    }
   ],
   "source": [
    "predictor = Predictor(model)\n",
    "predictor.plot_regression_curve(train_X, train_Y)"
   ]
  },
  {
   "cell_type": "code",
   "execution_count": null,
   "metadata": {},
   "outputs": [],
   "source": []
  }
 ],
 "metadata": {
  "kernelspec": {
   "display_name": "Python 3",
   "language": "python",
   "name": "python3"
  },
  "language_info": {
   "codemirror_mode": {
    "name": "ipython",
    "version": 3
   },
   "file_extension": ".py",
   "mimetype": "text/x-python",
   "name": "python",
   "nbconvert_exporter": "python",
   "pygments_lexer": "ipython3",
   "version": "3.5.2"
  }
 },
 "nbformat": 4,
 "nbformat_minor": 1
}
