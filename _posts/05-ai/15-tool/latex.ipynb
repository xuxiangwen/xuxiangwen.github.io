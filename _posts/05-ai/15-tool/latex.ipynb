{
 "cells": [
  {
   "cell_type": "markdown",
   "metadata": {},
   "source": [
    "Markdown备忘录  https://github.com/adam-p/markdown-here/wiki/Markdown-Cheatsheet 真的非常不错\n",
    "\n",
    "MarkDown https://sourceforge.net/p/ipython/discussion/markdown_syntax\n",
    "\n",
    "Math IM   http://mathim.com/static/chatprimer.html\n",
    "\n",
    "LaTeX数学公式   http://blog.163.com/goldman2000@126/blog/static/167296895201221242646561/\n",
    "\n",
    "LaTeX/Mathematics https://en.wikibooks.org/wiki/LaTeX/Mathematics\n",
    "\n",
    "LaTeX中导数、极限、求和、积分 http://blog.csdn.net/foreverdengwei/article/details/7665035\n",
    "\n",
    "LaTeX大括号公式和一般括号总结 https://blog.csdn.net/miao0967020148/article/details/78712811 \n",
    "\n",
    "Markdown Cheatsheet https://github.com/adam-p/markdown-here/wiki/Markdown-Cheatsheet\n",
    " "
   ]
  },
  {
   "cell_type": "markdown",
   "metadata": {},
   "source": [
    "\n",
    "\n",
    "$\\approx$ : \\approx 约等于\n",
    "\n",
    "$\\lvert \\rvert$ : \\lvert  \\rvert 竖线\n",
    "\n",
    "$\\hat{A}$  : \\hat {A}\n",
    "\n",
    "$X \\in R^{n \\times m}$ : \\inX R^{n \\times m}  属于\n",
    "\n",
    "$  u^\\mathrm{T} $  :  u^\\mathrm{T}\n",
    "\n",
    "$\\mathrm{d}u $  :  \\mathrm{d}u \n",
    "\n",
    "$\\frac 1 m $  :  \\frac 1 m \n",
    "\n",
    "$\\frac{\\mathrm{d}u^\\mathrm{T}}{\\mathrm{d}u} $  :  \\frac {\\mathrm{d}u^\\mathrm{T}} {\\mathrm{d}u} \n",
    "\n",
    "$\\nabla{w} $  : \\nabla{w}\n",
    "\n",
    "$\\frac {\\partial f(w)} {\\partial w_i}$ : \\frac {\\partial f(w)} {\\partial w_i}\n",
    "\n",
    "$\\prod\\limits_i^m$ : \\prod\\limits_i^m \n",
    "\n",
    "$\\sum\\limits_i^m$ : \\sum\\limits_i^m \n",
    "\n",
    "$\\lVert {w} \\rVert _{2} = w^\\mathrm{T}w$: \\lVert {w} \\rVert _{2} = w^\\mathrm{T}w\n",
    "\n",
    "$\\hat{y}$  = \\hat{y}\n",
    "\n",
    "**等号对齐**  \n",
    "$\\begin{align}\n",
    "y &= x + 5 \\\\\n",
    "&= 3 + 5 \\\\\n",
    "&= 8\n",
    "\\end{align}$ \n",
    "\n",
    "\n",
    "**数学大括号**  \n",
    "$ BP = \\begin{equation}  \n",
    "\\left\\{  \n",
    "\\begin{array}{lcl}  \n",
    " 1        &  & if\\ c>r \\\\  \n",
    " e^{(1-r/c)} &  & if\\ c<=r  \n",
    "\\end{array}  \n",
    "\\right.  \n",
    "\\end{equation}   $  \n",
    "\n",
    "$\\left( \\frac{a}{b} \\right)$：   \\left( \\frac{a}{b} \\right)\n",
    "\n",
    "**集合操作**    \n",
    "$\\cap$  :  \\cap 交集  \n",
    "$\\cup$  :  \\cup 并集   \n",
    "$\\in$  : \\in 属于   \n",
    "$\\notin$  : \\notin 不属于  \n",
    "$\\subset$  : \\subset 被真包含  \n",
    "$\\subseteq $  : \\subseteq 被包含  \n",
    "$\\supset$  : \\subset 真包含  \n",
    "$\\supseteq $  : \\subseteq 包含  \n",
    "$\\mid$ : \\mid    \n",
    "$\\mathbb{R}$  : \\mathbb{R} 实数     \n",
    "$\\mathbb{Z}$  : \\mathbb{Z} 实数      \n",
    "$\\mathbb{N}$  : \\mathbb{N} 实数 "
   ]
  },
  {
   "cell_type": "markdown",
   "metadata": {},
   "source": [
    " 多级列表\n",
    " \n",
    " - a\n",
    "     - a1\n",
    "     - a2\n",
    "         - a21\n",
    " - b        \n",
    " \n"
   ]
  },
  {
   "cell_type": "markdown",
   "metadata": {},
   "source": [
    "显示代码块(code block)\n",
    "```javascript\n",
    "console.log(\"Hello World\")\n",
    "```"
   ]
  },
  {
   "cell_type": "markdown",
   "metadata": {},
   "source": [
    "并集和交集\n",
    "$L_C = L_A \\cap (L_B \\cup L_C)$ : L_C = L_A \\cap (L_B \\cup L_C)   "
   ]
  },
  {
   "cell_type": "markdown",
   "metadata": {},
   "source": [
    "$$E=mc^2\\tag{1}$$\n",
    "\n",
    "[(1)](http://aa00:18888/notebooks/eipi10/python-book/arsenal/notebook/tool/latex.ipynb#mjx-eq-1)\n",
    "\n"
   ]
  },
  {
   "cell_type": "markdown",
   "metadata": {
    "collapsed": true
   },
   "source": [
    "并排显示两个图片：\n"
   ]
  },
  {
   "cell_type": "markdown",
   "metadata": {},
   "source": [
    "[Copy Table in Excel and Paste as a Markdown Table](https://thisdavej.com/copy-table-in-excel-and-paste-as-a-markdown-table/)"
   ]
  }
 ],
 "metadata": {
  "kernelspec": {
   "display_name": "Python 3",
   "language": "python",
   "name": "python3"
  },
  "language_info": {
   "codemirror_mode": {
    "name": "ipython",
    "version": 3
   },
   "file_extension": ".py",
   "mimetype": "text/x-python",
   "name": "python",
   "nbconvert_exporter": "python",
   "pygments_lexer": "ipython3",
   "version": "3.5.2"
  }
 },
 "nbformat": 4,
 "nbformat_minor": 1
}
