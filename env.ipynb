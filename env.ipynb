{
 "cells": [
  {
   "cell_type": "markdown",
   "metadata": {},
   "source": [
    "## 1.1 安装\n",
    "\n",
    "**history**\n",
    "\n",
    "- 【2018-09-25】"
   ]
  },
  {
   "cell_type": "markdown",
   "metadata": {},
   "source": [
    "```shell\n",
    "## 环境\n",
    "# 安装pip on ubuntu\n",
    "http_proxy='http://web-proxy.rose.hp.com:8080 ' apt-get install -y  python3-pip\n",
    "\n",
    "# 安装fontconfig on ubuntu\n",
    "http_proxy='http://web-proxy.rose.hp.com:8080 ' apt-get install -y fontconfig\n",
    "\n",
    "# update pip    \n",
    "!pip install --upgrade pip --proxy http://web-proxy.rose.hp.com:8080   \n",
    "\n",
    "### Python3   Port :18888\n",
    "#### nlp\n",
    "!pip install nltk --proxy http://web-proxy.rose.hp.com:8080  \n",
    "\n",
    "#### PyTorch \n",
    "!pip install torch torchvision --proxy http://web-proxy.rose.hp.com:8080        \n",
    "!pip install --upgrade gensim --proxy http://web-proxy.rose.hp.com:8080     \n",
    "!pip install --upgrade scikit-image --proxy http://web-proxy.rose.hp.com:8080     \n",
    "        \n",
    "#以后安装方式，还是要参考官方文档\n",
    "\n",
    "#### python 可视化\n",
    "!pip install --upgrade seaborn --proxy http://web-proxy.rose.hp.com:8080  \n",
    "!pip install --upgrade plotly --proxy http://web-proxy.rose.hp.com:8080 \n",
    "\n",
    "#### rasa\n",
    "!pip install --upgrade incremental --proxy http://web-proxy.rose.hp.com:8080   \n",
    "!pip install --upgrade twisted --proxy http://web-proxy.rose.hp.com:8080    \n",
    "!pip install -U rasa_nlu --proxy http://web-proxy.rose.hp.com:8080  \n",
    "!pip install -U rasa_core --proxy http://web-proxy.rose.hp.com:8080  \n",
    "\n",
    "#### mysql: read data from database\n",
    "!pip install -U pymysql --proxy http://web-proxy.rose.hp.com:8080      \n",
    "\n",
    "#### mysql: write data to database\n",
    "!http_proxy='http://web-proxy.rose.hp.com:8080 ' apt install -y libmysqlclient-dev  # for ubuntu\n",
    "#!pip install -U mysqlclient --proxy http://web-proxy.rose.hp.com:8080   \n",
    "!pip install -U sqlalchemy --proxy http://web-proxy.rose.hp.com:8080 \n",
    "!pip install -U mysql-connector --proxy http://web-proxy.rose.hp.com:8080 \n",
    "\n",
    "#### redshift : read data from database\n",
    "!pip install -U psycopg2-binary --proxy http://web-proxy.rose.hp.com:8080 \n",
    "\n",
    "\n",
    "#### gensim\n",
    "!pip install --upgrade gensim --proxy http://web-proxy.rose.hp.com:8080 \n",
    "#  Without Cython, you’ll only be able to use one core because of the GIL (and word2vec training will be miserably slow).\n",
    "!pip install --upgrade  Cython --install-option=\"--no-cython-compile\"   --proxy http://web-proxy.rose.hp.com:8080    \n",
    "\n",
    "#### nlp\n",
    "!pip install --upgrade jieba --proxy http://web-proxy.rose.hp.com:8080  \n",
    "!pip install --upgrade wordcloud --proxy http://web-proxy.rose.hp.com:8080  \n",
    "\n",
    "###  Python2   Port :48888\n",
    "#### Ali NLP 比赛\n",
    "!pip install --upgrade jieba==0.39 --proxy http://web-proxy.rose.hp.com:8080  \n",
    "!pip install --upgrade keras==2.1.6 --proxy http://web-proxy.rose.hp.com:8080  \n",
    "!pip install --upgrade sklearn==0.19.1 --proxy http://web-proxy.rose.hp.com:8080   \n",
    "!pip install --upgrade gensim==3.4.0 --proxy http://web-proxy.rose.hp.com:8080  \n",
    "!pip install --upgrade pytorch==0.4.0 --proxy http://web-proxy.rose.hp.com:8080  \n",
    "\n",
    "### 安装aws client\n",
    "!pip install --upgrade awscli --user --proxy http://web-proxy.rose.hp.com:8080 \n",
    "\n",
    "```"
   ]
  },
  {
   "cell_type": "code",
   "execution_count": 12,
   "metadata": {},
   "outputs": [
    {
     "name": "stdout",
     "output_type": "stream",
     "text": [
      "Collecting wordcloud\n",
      "\u001b[?25l  Downloading https://files.pythonhosted.org/packages/5e/b7/c16286efa3d442d6983b3842f982502c00306c1a4c719c41fb00d6017c77/wordcloud-1.5.0-cp35-cp35m-manylinux1_x86_64.whl (357kB)\n",
      "\u001b[K    100% |################################| 358kB 535kB/s ta 0:00:01\n",
      "\u001b[?25hRequirement already satisfied, skipping upgrade: numpy>=1.6.1 in /usr/local/lib/python3.5/dist-packages (from wordcloud) (1.15.4)\n",
      "Requirement already satisfied, skipping upgrade: pillow in /usr/local/lib/python3.5/dist-packages (from wordcloud) (5.3.0)\n",
      "Installing collected packages: wordcloud\n",
      "Successfully installed wordcloud-1.5.0\n",
      "\u001b[33mYou are using pip version 18.1, however version 19.0.2 is available.\n",
      "You should consider upgrading via the 'pip install --upgrade pip' command.\u001b[0m\n"
     ]
    }
   ],
   "source": [
    "!pip install --upgrade wordcloud --proxy http://web-proxy.rose.hp.com:8080"
   ]
  },
  {
   "cell_type": "code",
   "execution_count": 11,
   "metadata": {},
   "outputs": [
    {
     "name": "stderr",
     "output_type": "stream",
     "text": [
      "Using TensorFlow backend.\n"
     ]
    },
    {
     "ename": "ImportError",
     "evalue": "No module named 'torch'",
     "output_type": "error",
     "traceback": [
      "\u001b[0;31m---------------------------------------------------------------------------\u001b[0m",
      "\u001b[0;31mImportError\u001b[0m                               Traceback (most recent call last)",
      "\u001b[0;32m<ipython-input-11-3220e153c764>\u001b[0m in \u001b[0;36m<module>\u001b[0;34m\u001b[0m\n\u001b[1;32m      4\u001b[0m \u001b[0;32mimport\u001b[0m \u001b[0msklearn\u001b[0m\u001b[0;34m\u001b[0m\u001b[0m\n\u001b[1;32m      5\u001b[0m \u001b[0;32mimport\u001b[0m \u001b[0mkeras\u001b[0m\u001b[0;34m\u001b[0m\u001b[0m\n\u001b[0;32m----> 6\u001b[0;31m \u001b[0;32mimport\u001b[0m \u001b[0mtorch\u001b[0m\u001b[0;34m\u001b[0m\u001b[0m\n\u001b[0m\u001b[1;32m      7\u001b[0m \u001b[0;32mimport\u001b[0m \u001b[0mnltk\u001b[0m\u001b[0;34m\u001b[0m\u001b[0m\n\u001b[1;32m      8\u001b[0m \u001b[0;32mimport\u001b[0m \u001b[0mgensim\u001b[0m\u001b[0;34m\u001b[0m\u001b[0m\n",
      "\u001b[0;31mImportError\u001b[0m: No module named 'torch'"
     ]
    }
   ],
   "source": [
    "import tensorflow as tf\n",
    "import pandas as pd\n",
    "import numpy as np\n",
    "import sklearn \n",
    "import keras\n",
    "import torch\n",
    "import nltk\n",
    "import gensim\n",
    "\n",
    "print('tf.__version__', tf.__version__)\n",
    "print('keras.__version__', keras.__version__)\n",
    "print('pd.__version__', pd.__version__)\n",
    "print('np.__version__', np.__version__)\n",
    "print('sklearn.__version__', sklearn.__version__)\n",
    "print('torch.__version__', torch.__version__)\n",
    "print('nltk.__version__', nltk.__version__)\n",
    "print('gensim.__version__', gensim.__version__)\n"
   ]
  },
  {
   "cell_type": "markdown",
   "metadata": {},
   "source": [
    "## 1.2  git忽略设置（.gitignore）\n",
    "\n",
    "**history**\n",
    "\n",
    "- 【2018-09-25】"
   ]
  },
  {
   "cell_type": "markdown",
   "metadata": {},
   "source": [
    "```shell\n",
    "cat >  .gitignore << EOF     #linux多行输出到文本\n",
    ".ipynb_checkpoints\n",
    ".idea\n",
    ".env/*cd\n",
    "*.pyc\n",
    "*.swp\n",
    "data\n",
    "model\n",
    "EOF\n",
    "\n",
    "chmod 664 .gitignore\n",
    "cat  .gitignore\n",
    "```"
   ]
  },
  {
   "cell_type": "markdown",
   "metadata": {},
   "source": [
    "## 1.3  notebook通用开始代码\n",
    "\n",
    "**history**\n",
    "\n",
    "- 【2018-09-25】\n",
    "- 【2018-10-10】增加keras gpu内存限制"
   ]
  },
  {
   "cell_type": "raw",
   "metadata": {},
   "source": [
    "**first**\n",
    "```python\n",
    "import sys\n",
    "import logging\n",
    "\n",
    "\n",
    "base_path = '/notebooks/eipi10/python-book/arsenal'\n",
    "sys.path.append(base_path)\n",
    "current_path = '.'\n",
    "current_data_path = current_path + \"/data\"\n",
    "current_model_path = current_path + \"/model\"\n",
    "\n",
    "\n",
    "logging.basicConfig(format='%(asctime)s: %(levelname)s: %(message)s')\n",
    "logging.root.setLevel(level=logging.INFO)\n",
    "\n",
    "import collections\n",
    "import math\n",
    "import matplotlib.pyplot as plt\n",
    "import numpy as np\n",
    "import os\n",
    "import pandas as pd\n",
    "import re\n",
    "import time\n",
    "\n",
    "\n",
    "from pprint import pprint\n",
    "from eipi10.ml2.utils import *\n",
    "\n",
    "pd.set_option('display.width', 1000)\n",
    "os.environ[\"https_proxy\"] = \"http://web-proxy.rose.hp.com:8080\"\n",
    "os.environ[\"http_proxy\"] = \"http://web-proxy.rose.hp.com:8080\"\n",
    "\n",
    "%matplotlib inline\n",
    "\n",
    "# 代码自动重新加载\n",
    "%load_ext autoreload\n",
    "%autoreload 2\n",
    "\n",
    "#当module有新的方法的时候，需要运行下面方法。\n",
    "# %reload_ext autoreload \n",
    "```"
   ]
  },
  {
   "cell_type": "markdown",
   "metadata": {},
   "source": [
    "keras限定gpu的占用内存\n",
    "```python\n",
    "import tensorflow as tf\n",
    "from keras.backend.tensorflow_backend import set_session\n",
    "config = tf.ConfigProto()\n",
    "config.gpu_options.per_process_gpu_memory_fraction = 0.3\n",
    "set_session(tf.Session(config=config))\n",
    "```"
   ]
  }
 ],
 "metadata": {
  "kernelspec": {
   "display_name": "Python 3",
   "language": "python",
   "name": "python3"
  },
  "language_info": {
   "codemirror_mode": {
    "name": "ipython",
    "version": 3
   },
   "file_extension": ".py",
   "mimetype": "text/x-python",
   "name": "python",
   "nbconvert_exporter": "python",
   "pygments_lexer": "ipython3",
   "version": "3.5.2"
  }
 },
 "nbformat": 4,
 "nbformat_minor": 2
}
