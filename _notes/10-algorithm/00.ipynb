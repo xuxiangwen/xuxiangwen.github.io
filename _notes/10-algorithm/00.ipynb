{
 "cells": [
  {
   "cell_type": "code",
   "execution_count": null,
   "metadata": {},
   "outputs": [],
   "source": [
    "二分查找"
   ]
  },
  {
   "cell_type": "code",
   "execution_count": 12,
   "metadata": {},
   "outputs": [
    {
     "data": {
      "text/plain": [
       "range(3, 5)"
      ]
     },
     "execution_count": 12,
     "metadata": {},
     "output_type": "execute_result"
    }
   ],
   "source": [
    "\n",
    "a=range(10)\n",
    "a[3:5]"
   ]
  },
  {
   "cell_type": "code",
   "execution_count": 131,
   "metadata": {},
   "outputs": [],
   "source": [
    "def search_recursive(lis, item):\n",
    "    def _search_recursive(lis, low, high, item):\n",
    "        if low>=high: \n",
    "            return low if lis[low]==item else None\n",
    "        mid = (low + high)//2 \n",
    "        guess = lis[mid]\n",
    "        if guess==item:\n",
    "            return mid\n",
    "        elif guess<item:\n",
    "            return _search_recursive(lis, mid+1, high, item)        \n",
    "        else:\n",
    "            return _search_recursive(lis, low, mid-1, item) \n",
    "    \n",
    "    return _search_recursive(lis, 0, len(lis)-1, item)\n",
    "\n",
    "\n",
    "list = [1, 3, 5, 7, 9, 11, 13, 15]\n",
    "assert search_recursive(list, 5)==2\n",
    "assert search_recursive(list, 16) is None\n",
    "assert search_recursive(list, 0) is None\n",
    "assert search_recursive(list, 8) is None"
   ]
  },
  {
   "cell_type": "code",
   "execution_count": 133,
   "metadata": {},
   "outputs": [],
   "source": [
    "def search_recursive(lis, item):\n",
    "    def _search_recursive(lis, low, high, item):\n",
    "        if low>=high: \n",
    "            return low if lis[low]==item else None\n",
    "        mid = (low + high)//2 \n",
    "        guess = lis[mid]\n",
    "        if guess==item:\n",
    "            return _search_recursive(lis, low, mid, item)\n",
    "        elif guess<item:\n",
    "            return _search_recursive(lis, mid+1, high, item)        \n",
    "        else:\n",
    "            return _search_recursive(lis, low, mid-1, item) \n",
    "    \n",
    "    return _search_recursive(lis, 0, len(lis)-1, item)\n",
    "\n",
    "\n",
    "list = [1, 3, 5, 5, 5, 7, 9, 11, 13, 15]\n",
    "assert search_recursive(list, 5)==2\n",
    "assert search_recursive(list, 16) is None\n",
    "assert search_recursive(list, 0) is None\n",
    "assert search_recursive(list, 8) is None"
   ]
  },
  {
   "cell_type": "code",
   "execution_count": 134,
   "metadata": {},
   "outputs": [],
   "source": [
    "def search_iterative(lis, item):\n",
    "    low = 0\n",
    "    high = len(lis)-1\n",
    "    \n",
    "    while low<high:\n",
    "        mid = (low + high)//2 \n",
    "        guess = lis[mid]  \n",
    "        if guess==item:\n",
    "            high = mid\n",
    "        elif guess<item:\n",
    "            low = mid + 1       \n",
    "        else:\n",
    "            high = mid - 1\n",
    "    if lis[low] != item: return None\n",
    "    return low;\n",
    "\n",
    "\n",
    "list = [1, 3, 5, 5, 5, 7, 9, 11, 13, 15]\n",
    "assert search_iterative(list, 5)==2\n",
    "assert search_iterative(list, 16) is None\n",
    "assert search_iterative(list, 0) is None\n",
    "assert search_iterative(list, 8) is None"
   ]
  },
  {
   "cell_type": "code",
   "execution_count": null,
   "metadata": {},
   "outputs": [],
   "source": []
  },
  {
   "cell_type": "code",
   "execution_count": 136,
   "metadata": {},
   "outputs": [
    {
     "name": "stderr",
     "output_type": "stream",
     "text": [
      "test_execution_time_at_begin (__main__.TestBinarySearch) ... ok\n",
      "test_execution_time_at_end (__main__.TestBinarySearch) ... "
     ]
    },
    {
     "name": "stdout",
     "output_type": "stream",
     "text": [
      "查询位于list头部的数\n",
      "  Iterative Binary Search 0.000023 seconds\n",
      "  Recursive Binary Search 0.000021 seconds\n",
      "  Linear Search 0.000006 seconds\n",
      "  Linear Search Time:Binary Search Time = 1:4\n"
     ]
    },
    {
     "name": "stderr",
     "output_type": "stream",
     "text": [
      "ok\n",
      "test_search (__main__.TestBinarySearch) ... ok\n",
      "test_search_dupliate (__main__.TestBinarySearch) ... ok\n",
      "test_search_nonexist (__main__.TestBinarySearch) ... "
     ]
    },
    {
     "name": "stdout",
     "output_type": "stream",
     "text": [
      "查询位于list尾部的数\n",
      "  Iterative Binary Search 0.000018 seconds\n",
      "  Recursive Binary Search 0.000022 seconds\n",
      "  Linear Search 0.014168 seconds\n",
      "  Linear Search Time:Binary Search Time = 772:1\n",
      "list with dupldiate number: [20, 39, 42, 45, 57, 57, 57, 59, 79, 98, 101, 104, 116, 128, 131, 144, 154]\n"
     ]
    },
    {
     "name": "stderr",
     "output_type": "stream",
     "text": [
      "ok\n",
      "\n",
      "----------------------------------------------------------------------\n",
      "Ran 5 tests in 4.153s\n",
      "\n",
      "OK\n"
     ]
    },
    {
     "data": {
      "text/plain": [
       "<unittest.main.TestProgram at 0x7f4e6c1916a0>"
      ]
     },
     "execution_count": 136,
     "metadata": {},
     "output_type": "execute_result"
    }
   ],
   "source": [
    "import random\n",
    "import time\n",
    "import unittest\n",
    "\n",
    "\n",
    "def generate_list(n, first=None, max_dis=20, min_dis=2, seed=1031):\n",
    "    '''产生一个有序的list。其相邻数的间隔至少是2.'''\n",
    "    random.seed(seed)\n",
    "    if first is None:\n",
    "        list = [random.randint(2, max_dis)]\n",
    "    else:\n",
    "        list = [first]\n",
    "    for i in range(n-1):\n",
    "        list.append(list[i]+random.randint(2, max_dis))\n",
    "    return list\n",
    "        \n",
    "\n",
    "class TestBinarySearch(unittest.TestCase):\n",
    "    \n",
    "    def should_find(self, list, index, search):\n",
    "        self.assertEqual(index, search(list, list[index]))     \n",
    "        \n",
    "    def should_no_find(self, list, item, search):\n",
    "        self.assertEqual(None, search(list, item))         \n",
    "        \n",
    "    def get_search_time(self, list, index, search=None):\n",
    "        start_time = time.time()\n",
    "        if search is not None:\n",
    "            search_index = search(list, list[index]) \n",
    "        else: \n",
    "            search_index = list.index(list[index])\n",
    "        self.assertEqual(index, search_index)  \n",
    "        execution_time = time.time() - start_time\n",
    "        return execution_time\n",
    "\n",
    "\n",
    "    def test_search(self):\n",
    "        list = generate_list(10)\n",
    "        \n",
    "        self.should_find(list, 3, search_iterative)\n",
    "        self.should_find(list, 3, search_recursive)\n",
    "        \n",
    "        self.should_find(list, 8, search_iterative)\n",
    "        self.should_find(list, 8, search_recursive) \n",
    "        \n",
    "        list = generate_list(100)\n",
    "\n",
    "        self.should_find(list, 10, search_iterative)\n",
    "        self.should_find(list, 10, search_recursive)        \n",
    "        \n",
    "        self.should_find(list, 90, search_iterative)\n",
    "        self.should_find(list, 90, search_recursive)          \n",
    "         \n",
    "\n",
    "    def test_search_nonexist(self):\n",
    "        list = generate_list(10)\n",
    "        \n",
    "        # 测试list构建时，数之间的间隔至少是2，所以下面这些数是找不到的\n",
    "        self.should_no_find(list, list[3]+1, search_iterative)\n",
    "        self.should_no_find(list, list[3]+1, search_recursive)\n",
    "        \n",
    "        self.should_no_find(list, list[8]+1, search_iterative)\n",
    "        self.should_no_find(list, list[8]+1, search_recursive)   \n",
    "        \n",
    "        list = generate_list(100)\n",
    "\n",
    "        self.should_no_find(list, list[10]+1, search_iterative)\n",
    "        self.should_no_find(list, list[10]+1, search_recursive)        \n",
    "        \n",
    "        self.should_no_find(list, list[90]+1, search_iterative)\n",
    "        self.should_no_find(list, list[90]+1, search_recursive)\n",
    "        \n",
    "    def test_search_dupliate(self):\n",
    "        list = generate_list(5) \n",
    "        duplidate = list[-1]\n",
    "        index = len(list)-1\n",
    "        list = list + [duplidate]*2 + generate_list(10, first=duplidate+2)\n",
    "        print('list with dupldiate number: {}'.format(list))\n",
    "        \n",
    "        self.should_find(list, index, search_iterative)\n",
    "        self.should_find(list, index, search_recursive)        \n",
    "\n",
    "        \n",
    "    def test_execution_time_at_end(self):\n",
    "        list = generate_list(1000000)\n",
    "        iterative_time = self.get_search_time(list, len(list)-100, search_iterative) \n",
    "        recursive_time = self.get_search_time(list, len(list)-100, search_recursive) \n",
    "        linear_time = self.get_search_time(list, len(list)-100)\n",
    "               \n",
    "\n",
    "        print(\"查询位于list尾部的数\")\n",
    "        print(\"  Iterative Binary Search %f seconds\" % (iterative_time))\n",
    "        print(\"  Recursive Binary Search %f seconds\" % (recursive_time))  \n",
    "        print(\"  Linear Search %f seconds\" % (linear_time))  \n",
    "        print(\"  Linear Search Time:Binary Search Time = %d:1\" % (round(linear_time/iterative_time)))  \n",
    "        \n",
    "        self.assertTrue(linear_time > iterative_time)\n",
    "        self.assertTrue(linear_time > recursive_time)\n",
    "        \n",
    "\n",
    "    def test_execution_time_at_begin(self):\n",
    "        list = generate_list(1000000)\n",
    "        iterative_time = self.get_search_time(list, 100, search_iterative) \n",
    "        recursive_time = self.get_search_time(list, 100, search_recursive) \n",
    "        linear_time = self.get_search_time(list, 100)\n",
    "       \n",
    "\n",
    "        print(\"查询位于list头部的数\")\n",
    "        print(\"  Iterative Binary Search %f seconds\" % (iterative_time))\n",
    "        print(\"  Recursive Binary Search %f seconds\" % (recursive_time))  \n",
    "        print(\"  Linear Search %f seconds\" % (linear_time))    \n",
    "        print(\"  Linear Search Time:Binary Search Time = 1:%d\" % (round(iterative_time/linear_time))) \n",
    "        \n",
    "        self.assertTrue(linear_time < iterative_time)\n",
    "        self.assertTrue(linear_time < recursive_time)\n",
    "\n",
    "        \n",
    "unittest.main(argv=[''], verbosity=2, exit=False)  "
   ]
  },
  {
   "cell_type": "code",
   "execution_count": 182,
   "metadata": {},
   "outputs": [
    {
     "name": "stdout",
     "output_type": "stream",
     "text": [
      "search_iterative : 5.08 seconds\n",
      "search_recursive : 9.70 seconds\n"
     ]
    }
   ],
   "source": [
    "import timeit\n",
    "\n",
    "lst_1000000 = generate_list(1000000)\n",
    "item = lst_1000000[-228]\n",
    "\n",
    "def run_iterative():\n",
    "    return search_iterative(lst_1000000, item) \n",
    "    \n",
    "def run_recursive():\n",
    "    return search_recursive(lst_1000000, item)  \n",
    "\n",
    "assert run_iterative()==run_recursive()\n",
    "\n",
    "t1 = timeit.Timer(\"run_iterative()\", setup=\"from __main__ import run_iterative\")\n",
    "t2 = timeit.Timer(\"run_recursive()\", setup=\"from __main__ import run_recursive\")\n",
    "\n",
    "print(\"search_iterative : {:0.2f} seconds\".format(t1.timeit(number=1000000)))  \n",
    "print(\"search_recursive : {:0.2f} seconds\".format(t2.timeit(number=1000000))) "
   ]
  },
  {
   "cell_type": "code",
   "execution_count": 183,
   "metadata": {},
   "outputs": [],
   "source": [
    "from bisect import bisect\n",
    "\n",
    "def search_bisect(lst, x):\n",
    "    i = bisect_left(lst, x)\n",
    "    if i != len(lst) and lst[i] == x:\n",
    "        return i\n",
    "    return None\n",
    "    \n",
    "list = [1, 3, 5, 5, 5, 7, 9, 11, 13, 15]\n",
    "assert search_bisect(list, 5)==2\n",
    "assert search_bisect(list, 16) is None\n",
    "assert search_bisect(list, 0) is None\n",
    "assert search_bisect(list, 8) is None"
   ]
  },
  {
   "cell_type": "code",
   "execution_count": 184,
   "metadata": {},
   "outputs": [
    {
     "name": "stdout",
     "output_type": "stream",
     "text": [
      "search_iterative : 5.14 seconds\n",
      "search_recursive : 8.73 seconds\n",
      "search_bisect : 0.85 seconds\n"
     ]
    }
   ],
   "source": [
    "def run_bisect():\n",
    "    return search_bisect(lst_1000000, item)  \n",
    "    \n",
    "assert run_bisect()==run_recursive()\n",
    "\n",
    "t3 = timeit.Timer(\"run_bisect()\", setup=\"from __main__ import run_bisect\")\n",
    "\n",
    "print(\"search_iterative : {:0.2f} seconds\".format(t1.timeit(number=1000000)))  \n",
    "print(\"search_recursive : {:0.2f} seconds\".format(t2.timeit(number=1000000))) \n",
    "print(\"search_bisect : {:0.2f} seconds\".format(t3.timeit(number=1000000))) "
   ]
  },
  {
   "cell_type": "code",
   "execution_count": 181,
   "metadata": {},
   "outputs": [],
   "source": [
    "def search_iterative(lis, item):\n",
    "    low = 0\n",
    "    high = len(lis)\n",
    "    \n",
    "    while low<high:\n",
    "        mid = (low + high)//2 \n",
    "        if lis[mid]<item:\n",
    "            low = mid + 1       \n",
    "        else:\n",
    "            high = mid\n",
    "    if low != len(lis) and lis[low] == item:\n",
    "        return low\n",
    "    return None;\n",
    "\n",
    "list = [1, 3, 5, 5, 5, 7, 9, 11, 13, 15]\n",
    "assert search_iterative(list, 5)==2\n",
    "assert search_iterative(list, 16) is None\n",
    "assert search_iterative(list, 0) is None\n",
    "assert search_iterative(list, 8) is None"
   ]
  },
  {
   "cell_type": "code",
   "execution_count": null,
   "metadata": {},
   "outputs": [],
   "source": []
  }
 ],
 "metadata": {
  "kernelspec": {
   "display_name": "Python 3",
   "language": "python",
   "name": "python3"
  },
  "language_info": {
   "codemirror_mode": {
    "name": "ipython",
    "version": 3
   },
   "file_extension": ".py",
   "mimetype": "text/x-python",
   "name": "python",
   "nbconvert_exporter": "python",
   "pygments_lexer": "ipython3",
   "version": "3.6.9"
  }
 },
 "nbformat": 4,
 "nbformat_minor": 2
}
