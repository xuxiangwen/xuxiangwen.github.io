{
 "cells": [
  {
   "cell_type": "code",
   "execution_count": 1,
   "metadata": {
    "ExecuteTime": {
     "end_time": "2021-07-05T08:45:26.362000Z",
     "start_time": "2021-07-05T08:45:22.374042Z"
    }
   },
   "outputs": [
    {
     "data": {
      "application/javascript": [
       "\n",
       "console.log('Starting front end url_querystring_target comm target');\n",
       "const comm = Jupyter.notebook.kernel.comm_manager.new_comm('url_querystring_target', {'init': 1});\n",
       "comm.send({'ipyparams_browser_url': window.location.href});\n",
       "console.log('Sent window.location.href on url_querystring_target comm target');\n",
       "\n",
       "comm.on_msg(function(msg) {\n",
       "    console.log(msg.content.data);\n",
       "});\n"
      ],
      "text/plain": [
       "<IPython.core.display.Javascript object>"
      ]
     },
     "metadata": {},
     "output_type": "display_data"
    },
    {
     "name": "stderr",
     "output_type": "stream",
     "text": [
      "2021-07-05 08:45:26,327: INFO: deployment = dev\n",
      "2021-07-05 08:45:26,329: INFO: dataset_name = snps_18510_c8\n",
      "2021-07-05 08:45:26,330: INFO: working_path = /tf/eipi10/jian-xu3/snps-classification\n"
     ]
    }
   ],
   "source": [
    "import csv\n",
    "import ipyparams\n",
    "import matplotlib.pyplot as plt\n",
    "import nltk\n",
    "import numpy as np\n",
    "import os\n",
    "import pandas as pd\n",
    "import random\n",
    "import re\n",
    "import shutil\n",
    "import string  \n",
    "import sys\n",
    "import tensorflow as tf\n",
    "import tensorflow_hub as hub\n",
    "\n",
    "from collections import Counter\n",
    "# from google_trans_new import google_translator\n",
    "from joblib import Parallel, delayed\n",
    "from nltk.corpus import stopwords\n",
    "from scipy import stats\n",
    "from sklearn.feature_extraction import text\n",
    "from sklearn.feature_selection import SelectKBest, f_classif\n",
    "from sklearn.utils.class_weight import compute_class_weight\n",
    "from sklearn.metrics import classification_report\n",
    "from sklearn.model_selection import train_test_split\n",
    "from tensorflow.keras import Model, models, layers, regularizers, preprocessing, datasets, metrics, losses, optimizers\n",
    "from tensorflow.keras.layers.experimental.preprocessing import TextVectorization\n",
    "from tensorboard.plugins.hparams import api as hp \n",
    "\n",
    "base_path = os.path.abspath('/tf/eipi10/jian-xu3/snps-classification')\n",
    "sys.path.append(base_path)\n",
    "\n",
    "import snps \n",
    "\n",
    "from snps.core import text_predictor \n",
    "from snps.core import util \n",
    "from snps.utils import data\n",
    "from snps.core.text_classification import lr_schedule\n",
    "from snps.core.text_classification import plot_distribution, plot_length_distribution, plot_frequency_distribution\n",
    "from snps.core.text_classification import Params, TextClassificationHelper\n",
    "from snps.core.text_classification import SimpleTextDatasets, SequenceTextDatasets, RawTextDatasets,TransferTextDatasets"
   ]
  },
  {
   "cell_type": "code",
   "execution_count": null,
   "metadata": {},
   "outputs": [],
   "source": []
  },
  {
   "cell_type": "code",
   "execution_count": 2,
   "metadata": {
    "ExecuteTime": {
     "end_time": "2021-07-05T08:45:26.583909Z",
     "start_time": "2021-07-05T08:45:26.364475Z"
    }
   },
   "outputs": [
    {
     "data": {
      "text/html": [
       "<div>\n",
       "<style scoped>\n",
       "    .dataframe tbody tr th:only-of-type {\n",
       "        vertical-align: middle;\n",
       "    }\n",
       "\n",
       "    .dataframe tbody tr th {\n",
       "        vertical-align: top;\n",
       "    }\n",
       "\n",
       "    .dataframe thead th {\n",
       "        text-align: right;\n",
       "    }\n",
       "</style>\n",
       "<table border=\"1\" class=\"dataframe\">\n",
       "  <thead>\n",
       "    <tr style=\"text-align: right;\">\n",
       "      <th></th>\n",
       "      <th>path</th>\n",
       "      <th>pid</th>\n",
       "      <th>memory</th>\n",
       "      <th>cpu</th>\n",
       "      <th>num_threads</th>\n",
       "    </tr>\n",
       "  </thead>\n",
       "  <tbody>\n",
       "    <tr>\n",
       "      <th>1</th>\n",
       "      <td>eipi10/xuxiangwen.github.io/_notes/00.ipynb</td>\n",
       "      <td>47</td>\n",
       "      <td>0.377</td>\n",
       "      <td>0.0</td>\n",
       "      <td>8</td>\n",
       "    </tr>\n",
       "  </tbody>\n",
       "</table>\n",
       "</div>"
      ],
      "text/plain": [
       "                                          path  pid  memory  cpu  num_threads\n",
       "1  eipi10/xuxiangwen.github.io/_notes/00.ipynb   47   0.377  0.0            8"
      ]
     },
     "metadata": {},
     "output_type": "display_data"
    }
   ],
   "source": [
    "#!/usr/bin/env python3\n",
    "\n",
    "import json\n",
    "import os\n",
    "import os.path\n",
    "import posixpath\n",
    "import subprocess\n",
    "import pandas as pd\n",
    "import psutil\n",
    "import requests\n",
    "from IPython.display import display\n",
    "\n",
    "\n",
    "def show_notebooks_table(host, port):\n",
    "    \"\"\"Show table with info about running jupyter notebooks.\n",
    "\n",
    "    Args:\n",
    "        host: host of the jupyter server.\n",
    "        port: port of the jupyter server.\n",
    "\n",
    "    Returns:\n",
    "        DataFrame with rows corresponding to running notebooks and following columns:\n",
    "            * index: notebook kernel id.\n",
    "            * path: path to notebook file.\n",
    "            * pid: pid of the notebook process.\n",
    "            * memory: notebook memory consumption in percentage.\n",
    "    \"\"\"\n",
    "    pd.set_option('display.max_colwidth', 300)\n",
    "    \n",
    "    notebooks = get_running_notebooks(host, port)\n",
    "    prefix = long_substr([notebook['path'] for notebook in notebooks])\n",
    "    df = pd.DataFrame(notebooks)\n",
    "    df = df.set_index('kernel_id')\n",
    "    df.index.name = prefix\n",
    "    df.path = df.path.apply(lambda x: x[len(prefix):])\n",
    "    df['pid'] = df.apply(lambda row: get_process_id(row.name), axis=1)\n",
    "    # same notebook can be run in multiple processes\n",
    "    df = expand_column(df, 'pid')\n",
    "    df['memory'] = df.pid.apply(memory_usage_psutil)\n",
    "    df['cpu'] = df.pid.apply(cpu_usage_psutil)\n",
    "    df['num_threads'] = df.pid.apply(num_threads_psutil)    \n",
    "    df = df.sort_values('memory', ascending=False)\n",
    "    df.index = range(1, len(df)+1)\n",
    "    return df\n",
    "\n",
    "\n",
    "def get_running_notebooks(host, port, password='xxw'):\n",
    "    \"\"\"\n",
    "    Get kernel ids and paths of the running notebooks.\n",
    "\n",
    "    Args:\n",
    "        host: host at which the notebook server is listening. E.g. 'localhost'.\n",
    "        port: port at which the notebook server is listening. E.g. 8888.\n",
    "            \n",
    "    Returns:\n",
    "        list of dicts {kernel_id: notebook kernel id, path: path to notebook file}.\n",
    "    \"\"\"\n",
    "        \n",
    "    BASE_URL = 'http://{0}:{1}/'.format(host, port)\n",
    "        \n",
    "    # Get the cookie data\n",
    "    s = requests.Session()\n",
    "    url = BASE_URL + 'login?next=%2F'\n",
    "    resp = s.get(url)\n",
    "    xsrf_cookie = resp.cookies['_xsrf']\n",
    "\n",
    "    # Login with the password\n",
    "    params = {'_xsrf': xsrf_cookie, 'password': password}\n",
    "    res = s.post(url, data=params)\n",
    "\n",
    "    # Find which kernel corresponds to which notebook\n",
    "    # by querying the notebook server api for sessions\n",
    "    url = posixpath.join(BASE_URL, 'api', 'sessions')\n",
    "    ret = s.get(url)\n",
    "    #print('Status code:', ret.status_code)\n",
    "\n",
    "    # Get the notebook list\n",
    "    res = json.loads(ret.text)\n",
    "    notebooks = [{'kernel_id': notebook['kernel']['id'],\n",
    "                  'path': notebook['notebook']['path']} for notebook in res]\n",
    "    return notebooks\n",
    "\n",
    "\n",
    "def get_process_id(name):\n",
    "    \"\"\"Return process ids found by (partial) name or regex.\n",
    "\n",
    "    Source: https://stackoverflow.com/a/44712205/304209.\n",
    "    >>> get_process_id('kthreadd')\n",
    "    [2]\n",
    "    >>> get_process_id('watchdog')\n",
    "    [10, 11, 16, 21, 26, 31, 36, 41, 46, 51, 56, 61]  # ymmv\n",
    "    >>> get_process_id('non-existent process')\n",
    "    []\n",
    "    \"\"\"\n",
    "    child = subprocess.Popen(['pgrep', '-f', name], stdout=subprocess.PIPE, shell=False)\n",
    "    response = child.communicate()[0]\n",
    "    return [int(pid) for pid in response.split()]\n",
    "\n",
    "\n",
    "def memory_usage_psutil(pid=None):\n",
    "    \"\"\"Get memory usage percentage by current process or by process specified by id, like in top.\n",
    "\n",
    "    Source: https://stackoverflow.com/a/30014612/304209.\n",
    "\n",
    "    Args:\n",
    "        pid: pid of the process to analyze. If None, analyze the current process.\n",
    "\n",
    "    Returns:\n",
    "        memory usage of the process, in percentage like in top, values in [0, 100].\n",
    "    \"\"\"\n",
    "    if pid is None:\n",
    "        pid = os.getpid()\n",
    "    process = psutil.Process(pid)\n",
    "    return round(process.memory_percent(),3)\n",
    "\n",
    "def cpu_usage_psutil(pid=None):\n",
    "    \"\"\"Get cpu usage percentage by current process or by process specified by id, like in top.\n",
    "\n",
    "    Source: https://stackoverflow.com/a/30014612/304209.\n",
    "\n",
    "    Args:\n",
    "        pid: pid of the process to analyze. If None, analyze the current process.\n",
    "\n",
    "    Returns:\n",
    "        cpu usage of the process, in percentage like in top, values in [0, 100].\n",
    "    \"\"\"\n",
    "    if pid is None:\n",
    "        pid = os.getpid()\n",
    "    process = psutil.Process(pid)\n",
    "    return round(process.cpu_percent(),3)\n",
    "\n",
    "\n",
    "def num_threads_psutil(pid=None):\n",
    "    \"\"\"Get num_threads by current process or by process specified by id, like in top.\n",
    "\n",
    "    Source: https://stackoverflow.com/a/30014612/304209.\n",
    "\n",
    "    Args:\n",
    "        pid: pid of the process to analyze. If None, analyze the current process.\n",
    "\n",
    "    Returns:\n",
    "        num_threads of the process\n",
    "    \"\"\"\n",
    "    if pid is None:\n",
    "        pid = os.getpid()\n",
    "    process = psutil.Process(pid)\n",
    "    return process.num_threads()\n",
    "\n",
    "\n",
    "def long_substr(strings):\n",
    "    \"\"\"Find longest common substring in a list of strings.\n",
    "\n",
    "    Source: https://stackoverflow.com/a/2894073/304209.\n",
    "\n",
    "    Args:\n",
    "        strings: list of strings.\n",
    "\n",
    "    Returns:\n",
    "        longest substring which is found in all of the strings.\n",
    "    \"\"\"\n",
    "    substr = ''\n",
    "    if len(strings) > 1 and len(strings[0]) > 0:\n",
    "        for i in range(len(strings[0])):\n",
    "            for j in range(len(strings[0])-i+1):\n",
    "                if j > len(substr) and all(strings[0][i:i+j] in x for x in strings):\n",
    "                    substr = strings[0][i:i+j]\n",
    "    return substr\n",
    "\n",
    "\n",
    "def expand_column(dataframe, column):\n",
    "    \"\"\"Transform iterable column values into multiple rows.\n",
    "\n",
    "    Source: https://stackoverflow.com/a/27266225/304209.\n",
    "\n",
    "    Args:\n",
    "        dataframe: DataFrame to process.\n",
    "        column: name of the column to expand.\n",
    "\n",
    "    Returns:\n",
    "        copy of the DataFrame with the following updates:\n",
    "            * for rows where column contains only 1 value, keep them as is.\n",
    "            * for rows where column contains a list of values, transform them\n",
    "                into multiple rows, each of which contains one value from the list in column.\n",
    "    \"\"\"\n",
    "    tmp_df = dataframe.apply(\n",
    "        lambda row: pd.Series(row[column]), axis=1).stack().reset_index(level=1, drop=True)\n",
    "    tmp_df.name = column\n",
    "    return dataframe.drop(column, axis=1).join(tmp_df)\n",
    "\n",
    "df = show_notebooks_table('15.15.166.35', 18888)\n",
    "display(df)"
   ]
  },
  {
   "cell_type": "code",
   "execution_count": 3,
   "metadata": {
    "ExecuteTime": {
     "end_time": "2021-07-05T08:45:26.590781Z",
     "start_time": "2021-07-05T08:45:26.586654Z"
    }
   },
   "outputs": [
    {
     "name": "stdout",
     "output_type": "stream",
     "text": [
      "8\n"
     ]
    }
   ],
   "source": [
    "import ast\n",
    "import types\n",
    "import astunparse\n",
    "\n",
    "func_def = \\\n",
    "\"\"\"\n",
    "def add(x, y):\n",
    "    return x + y\n",
    "print(add(3, 5))\n",
    "\"\"\"\n",
    "\n",
    "cm = compile(func_def, '<string>', 'exec')\n",
    "assert(isinstance(cm, types.CodeType))\n",
    "\n",
    "exec(cm)"
   ]
  },
  {
   "cell_type": "code",
   "execution_count": 4,
   "metadata": {
    "ExecuteTime": {
     "end_time": "2021-07-05T08:45:26.600523Z",
     "start_time": "2021-07-05T08:45:26.593073Z"
    }
   },
   "outputs": [
    {
     "name": "stdout",
     "output_type": "stream",
     "text": [
      "Module(body=[\n",
      "  FunctionDef(\n",
      "    name='add',\n",
      "    args=arguments(\n",
      "      args=[\n",
      "        arg(\n",
      "          arg='x',\n",
      "          annotation=None),\n",
      "        arg(\n",
      "          arg='y',\n",
      "          annotation=None)],\n",
      "      vararg=None,\n",
      "      kwonlyargs=[],\n",
      "      kw_defaults=[],\n",
      "      kwarg=None,\n",
      "      defaults=[]),\n",
      "    body=[Return(value=BinOp(\n",
      "      left=Name(\n",
      "        id='x',\n",
      "        ctx=Load()),\n",
      "      op=Add(),\n",
      "      right=Name(\n",
      "        id='y',\n",
      "        ctx=Load())))],\n",
      "    decorator_list=[],\n",
      "    returns=None),\n",
      "  Expr(value=Call(\n",
      "    func=Name(\n",
      "      id='print',\n",
      "      ctx=Load()),\n",
      "    args=[Call(\n",
      "      func=Name(\n",
      "        id='add',\n",
      "        ctx=Load()),\n",
      "      args=[\n",
      "        Num(n=3),\n",
      "        Num(n=5)],\n",
      "      keywords=[])],\n",
      "    keywords=[]))])\n",
      "--------------------------------------------------\n",
      "\n",
      "\n",
      "def add(x, y):\n",
      "    return (x + y)\n",
      "print(add(3, 5))\n",
      "\n"
     ]
    }
   ],
   "source": [
    "# 生成AST\n",
    "r_node = ast.parse(func_def)\n",
    "# 也可调用ast.dump(r_node)，但它不能进行缩进输出\n",
    "ast_output = astunparse.dump(r_node)  \n",
    "print(ast_output)\n",
    "\n",
    "# 从AST得到源代码\n",
    "print('-'*50)\n",
    "print(astunparse.unparse(r_node))"
   ]
  },
  {
   "cell_type": "code",
   "execution_count": 5,
   "metadata": {
    "ExecuteTime": {
     "end_time": "2021-07-05T08:45:27.017517Z",
     "start_time": "2021-07-05T08:45:26.602648Z"
    }
   },
   "outputs": [
    {
     "name": "stdout",
     "output_type": "stream",
     "text": [
      "Function Name:add\n"
     ]
    },
    {
     "ename": "AttributeError",
     "evalue": "module 'ast' has no attribute 'print'",
     "output_type": "error",
     "traceback": [
      "\u001b[0;31m\u001b[0m",
      "\u001b[0;31mAttributeError\u001b[0mTraceback (most recent call last)",
      "\u001b[0;32m<ipython-input-5-8b8b43d27792>\u001b[0m in \u001b[0;36m<module>\u001b[0;34m\u001b[0m\n\u001b[1;32m     19\u001b[0m \u001b[0mr_node\u001b[0m \u001b[0;34m=\u001b[0m \u001b[0mast\u001b[0m\u001b[0;34m.\u001b[0m\u001b[0mparse\u001b[0m\u001b[0;34m(\u001b[0m\u001b[0mfunc_def\u001b[0m\u001b[0;34m)\u001b[0m\u001b[0;34m\u001b[0m\u001b[0;34m\u001b[0m\u001b[0m\n\u001b[1;32m     20\u001b[0m \u001b[0mvisitor\u001b[0m \u001b[0;34m=\u001b[0m \u001b[0mCodeVisitor\u001b[0m\u001b[0;34m(\u001b[0m\u001b[0;34m)\u001b[0m\u001b[0;34m\u001b[0m\u001b[0;34m\u001b[0m\u001b[0m\n\u001b[0;32m---> 21\u001b[0;31m \u001b[0mvisitor\u001b[0m\u001b[0;34m.\u001b[0m\u001b[0mvisit\u001b[0m\u001b[0;34m(\u001b[0m\u001b[0mr_node\u001b[0m\u001b[0;34m)\u001b[0m\u001b[0;34m\u001b[0m\u001b[0;34m\u001b[0m\u001b[0m\n\u001b[0m\u001b[1;32m     22\u001b[0m \u001b[0;34m\u001b[0m\u001b[0m\n\u001b[1;32m     23\u001b[0m \u001b[0mprint\u001b[0m\u001b[0;34m(\u001b[0m\u001b[0mastunparse\u001b[0m\u001b[0;34m.\u001b[0m\u001b[0munparse\u001b[0m\u001b[0;34m(\u001b[0m\u001b[0mr_node\u001b[0m\u001b[0;34m)\u001b[0m\u001b[0;34m)\u001b[0m\u001b[0;34m\u001b[0m\u001b[0;34m\u001b[0m\u001b[0m\n",
      "\u001b[0;32m/usr/lib/python3.6/ast.py\u001b[0m in \u001b[0;36mvisit\u001b[0;34m(self, node)\u001b[0m\n\u001b[1;32m    251\u001b[0m         \u001b[0mmethod\u001b[0m \u001b[0;34m=\u001b[0m \u001b[0;34m'visit_'\u001b[0m \u001b[0;34m+\u001b[0m \u001b[0mnode\u001b[0m\u001b[0;34m.\u001b[0m\u001b[0m__class__\u001b[0m\u001b[0;34m.\u001b[0m\u001b[0m__name__\u001b[0m\u001b[0;34m\u001b[0m\u001b[0;34m\u001b[0m\u001b[0m\n\u001b[1;32m    252\u001b[0m         \u001b[0mvisitor\u001b[0m \u001b[0;34m=\u001b[0m \u001b[0mgetattr\u001b[0m\u001b[0;34m(\u001b[0m\u001b[0mself\u001b[0m\u001b[0;34m,\u001b[0m \u001b[0mmethod\u001b[0m\u001b[0;34m,\u001b[0m \u001b[0mself\u001b[0m\u001b[0;34m.\u001b[0m\u001b[0mgeneric_visit\u001b[0m\u001b[0;34m)\u001b[0m\u001b[0;34m\u001b[0m\u001b[0;34m\u001b[0m\u001b[0m\n\u001b[0;32m--> 253\u001b[0;31m         \u001b[0;32mreturn\u001b[0m \u001b[0mvisitor\u001b[0m\u001b[0;34m(\u001b[0m\u001b[0mnode\u001b[0m\u001b[0;34m)\u001b[0m\u001b[0;34m\u001b[0m\u001b[0;34m\u001b[0m\u001b[0m\n\u001b[0m\u001b[1;32m    254\u001b[0m \u001b[0;34m\u001b[0m\u001b[0m\n\u001b[1;32m    255\u001b[0m     \u001b[0;32mdef\u001b[0m \u001b[0mgeneric_visit\u001b[0m\u001b[0;34m(\u001b[0m\u001b[0mself\u001b[0m\u001b[0;34m,\u001b[0m \u001b[0mnode\u001b[0m\u001b[0;34m)\u001b[0m\u001b[0;34m:\u001b[0m\u001b[0;34m\u001b[0m\u001b[0;34m\u001b[0m\u001b[0m\n",
      "\u001b[0;32m/usr/lib/python3.6/ast.py\u001b[0m in \u001b[0;36mgeneric_visit\u001b[0;34m(self, node)\u001b[0m\n\u001b[1;32m    259\u001b[0m                 \u001b[0;32mfor\u001b[0m \u001b[0mitem\u001b[0m \u001b[0;32min\u001b[0m \u001b[0mvalue\u001b[0m\u001b[0;34m:\u001b[0m\u001b[0;34m\u001b[0m\u001b[0;34m\u001b[0m\u001b[0m\n\u001b[1;32m    260\u001b[0m                     \u001b[0;32mif\u001b[0m \u001b[0misinstance\u001b[0m\u001b[0;34m(\u001b[0m\u001b[0mitem\u001b[0m\u001b[0;34m,\u001b[0m \u001b[0mAST\u001b[0m\u001b[0;34m)\u001b[0m\u001b[0;34m:\u001b[0m\u001b[0;34m\u001b[0m\u001b[0;34m\u001b[0m\u001b[0m\n\u001b[0;32m--> 261\u001b[0;31m                         \u001b[0mself\u001b[0m\u001b[0;34m.\u001b[0m\u001b[0mvisit\u001b[0m\u001b[0;34m(\u001b[0m\u001b[0mitem\u001b[0m\u001b[0;34m)\u001b[0m\u001b[0;34m\u001b[0m\u001b[0;34m\u001b[0m\u001b[0m\n\u001b[0m\u001b[1;32m    262\u001b[0m             \u001b[0;32melif\u001b[0m \u001b[0misinstance\u001b[0m\u001b[0;34m(\u001b[0m\u001b[0mvalue\u001b[0m\u001b[0;34m,\u001b[0m \u001b[0mAST\u001b[0m\u001b[0;34m)\u001b[0m\u001b[0;34m:\u001b[0m\u001b[0;34m\u001b[0m\u001b[0;34m\u001b[0m\u001b[0m\n\u001b[1;32m    263\u001b[0m                 \u001b[0mself\u001b[0m\u001b[0;34m.\u001b[0m\u001b[0mvisit\u001b[0m\u001b[0;34m(\u001b[0m\u001b[0mvalue\u001b[0m\u001b[0;34m)\u001b[0m\u001b[0;34m\u001b[0m\u001b[0;34m\u001b[0m\u001b[0m\n",
      "\u001b[0;32m/usr/lib/python3.6/ast.py\u001b[0m in \u001b[0;36mvisit\u001b[0;34m(self, node)\u001b[0m\n\u001b[1;32m    251\u001b[0m         \u001b[0mmethod\u001b[0m \u001b[0;34m=\u001b[0m \u001b[0;34m'visit_'\u001b[0m \u001b[0;34m+\u001b[0m \u001b[0mnode\u001b[0m\u001b[0;34m.\u001b[0m\u001b[0m__class__\u001b[0m\u001b[0;34m.\u001b[0m\u001b[0m__name__\u001b[0m\u001b[0;34m\u001b[0m\u001b[0;34m\u001b[0m\u001b[0m\n\u001b[1;32m    252\u001b[0m         \u001b[0mvisitor\u001b[0m \u001b[0;34m=\u001b[0m \u001b[0mgetattr\u001b[0m\u001b[0;34m(\u001b[0m\u001b[0mself\u001b[0m\u001b[0;34m,\u001b[0m \u001b[0mmethod\u001b[0m\u001b[0;34m,\u001b[0m \u001b[0mself\u001b[0m\u001b[0;34m.\u001b[0m\u001b[0mgeneric_visit\u001b[0m\u001b[0;34m)\u001b[0m\u001b[0;34m\u001b[0m\u001b[0;34m\u001b[0m\u001b[0m\n\u001b[0;32m--> 253\u001b[0;31m         \u001b[0;32mreturn\u001b[0m \u001b[0mvisitor\u001b[0m\u001b[0;34m(\u001b[0m\u001b[0mnode\u001b[0m\u001b[0;34m)\u001b[0m\u001b[0;34m\u001b[0m\u001b[0;34m\u001b[0m\u001b[0m\n\u001b[0m\u001b[1;32m    254\u001b[0m \u001b[0;34m\u001b[0m\u001b[0m\n\u001b[1;32m    255\u001b[0m     \u001b[0;32mdef\u001b[0m \u001b[0mgeneric_visit\u001b[0m\u001b[0;34m(\u001b[0m\u001b[0mself\u001b[0m\u001b[0;34m,\u001b[0m \u001b[0mnode\u001b[0m\u001b[0;34m)\u001b[0m\u001b[0;34m:\u001b[0m\u001b[0;34m\u001b[0m\u001b[0;34m\u001b[0m\u001b[0m\n",
      "\u001b[0;32m<ipython-input-5-8b8b43d27792>\u001b[0m in \u001b[0;36mvisit_FunctionDef\u001b[0;34m(self, node)\u001b[0m\n\u001b[1;32m      8\u001b[0m         \u001b[0mprint\u001b[0m\u001b[0;34m(\u001b[0m\u001b[0;34m'Function Name:%s'\u001b[0m\u001b[0;34m%\u001b[0m \u001b[0mnode\u001b[0m\u001b[0;34m.\u001b[0m\u001b[0mname\u001b[0m\u001b[0;34m)\u001b[0m\u001b[0;34m\u001b[0m\u001b[0;34m\u001b[0m\u001b[0m\n\u001b[1;32m      9\u001b[0m         \u001b[0mself\u001b[0m\u001b[0;34m.\u001b[0m\u001b[0mgeneric_visit\u001b[0m\u001b[0;34m(\u001b[0m\u001b[0mnode\u001b[0m\u001b[0;34m)\u001b[0m\u001b[0;34m\u001b[0m\u001b[0;34m\u001b[0m\u001b[0m\n\u001b[0;32m---> 10\u001b[0;31m         func_log_stmt = ast.print(\n\u001b[0m\u001b[1;32m     11\u001b[0m             \u001b[0mdest\u001b[0m \u001b[0;34m=\u001b[0m \u001b[0;32mNone\u001b[0m\u001b[0;34m,\u001b[0m\u001b[0;34m\u001b[0m\u001b[0;34m\u001b[0m\u001b[0m\n\u001b[1;32m     12\u001b[0m             \u001b[0mvalues\u001b[0m \u001b[0;34m=\u001b[0m \u001b[0;34m[\u001b[0m\u001b[0mast\u001b[0m\u001b[0;34m.\u001b[0m\u001b[0mStr\u001b[0m\u001b[0;34m(\u001b[0m\u001b[0ms\u001b[0m \u001b[0;34m=\u001b[0m \u001b[0;34m'calling func: %s'\u001b[0m \u001b[0;34m%\u001b[0m \u001b[0mnode\u001b[0m\u001b[0;34m.\u001b[0m\u001b[0mname\u001b[0m\u001b[0;34m,\u001b[0m \u001b[0mlineno\u001b[0m \u001b[0;34m=\u001b[0m \u001b[0;36m0\u001b[0m\u001b[0;34m,\u001b[0m \u001b[0mcol_offset\u001b[0m \u001b[0;34m=\u001b[0m \u001b[0;36m0\u001b[0m\u001b[0;34m)\u001b[0m\u001b[0;34m]\u001b[0m\u001b[0;34m,\u001b[0m\u001b[0;34m\u001b[0m\u001b[0;34m\u001b[0m\u001b[0m\n",
      "\u001b[0;31mAttributeError\u001b[0m: module 'ast' has no attribute 'print'"
     ]
    }
   ],
   "source": [
    "class CodeVisitor(ast.NodeVisitor):\n",
    "    def visit_BinOp(self, node):\n",
    "        if isinstance(node.op, ast.Add):\n",
    "            node.op = ast.Sub()\n",
    "        self.generic_visit(node)\n",
    "\n",
    "    def visit_FunctionDef(self, node):\n",
    "        print('Function Name:%s'% node.name)\n",
    "        self.generic_visit(node)\n",
    "        func_log_stmt = ast.print(\n",
    "            dest = None,\n",
    "            values = [ast.Str(s = 'calling func: %s' % node.name, lineno = 0, col_offset = 0)],\n",
    "            nl = True,\n",
    "            lineno = 0,\n",
    "            col_offset = 0,\n",
    "        )\n",
    "        node.body.insert(0, func_log_stmt)\n",
    "\n",
    "r_node = ast.parse(func_def)\n",
    "visitor = CodeVisitor()\n",
    "visitor.visit(r_node)\n",
    "\n",
    "print(astunparse.unparse(r_node))\n",
    "exec(compile(r_node, '<string>', 'exec'))"
   ]
  },
  {
   "cell_type": "code",
   "execution_count": null,
   "metadata": {
    "ExecuteTime": {
     "end_time": "2021-07-05T08:45:27.021085Z",
     "start_time": "2021-07-05T08:45:22.403Z"
    }
   },
   "outputs": [],
   "source": [
    "!pip install -U ast\n"
   ]
  },
  {
   "cell_type": "code",
   "execution_count": null,
   "metadata": {
    "ExecuteTime": {
     "end_time": "2021-07-05T08:45:27.022525Z",
     "start_time": "2021-07-05T08:45:22.406Z"
    }
   },
   "outputs": [],
   "source": [
    "dir(ast)"
   ]
  },
  {
   "cell_type": "code",
   "execution_count": null,
   "metadata": {
    "ExecuteTime": {
     "end_time": "2021-07-05T08:45:27.024026Z",
     "start_time": "2021-07-05T08:45:22.407Z"
    }
   },
   "outputs": [],
   "source": [
    "import collections, re\n",
    "pairs = collections.defaultdict(int)\n",
    "pairs['\\u2581 3', '4']=5\n",
    "pairs['4', '5']=3\n",
    "pairs"
   ]
  },
  {
   "cell_type": "code",
   "execution_count": null,
   "metadata": {
    "ExecuteTime": {
     "end_time": "2021-07-05T08:45:27.025540Z",
     "start_time": "2021-07-05T08:45:22.410Z"
    }
   },
   "outputs": [],
   "source": [
    "def merge_vocab(pair):\n",
    "    v_out = {}\n",
    "    bigram = re.escape(' '.join(pair))\n",
    "    p = re.compile(r'(?<!\\S)' + bigram + r'(?!\\S)')\n",
    "\n",
    "    w_out = p.sub(''.join(pair), word)\n",
    "    return w_out\n",
    "\n",
    "bigrams = [re.escape(' '.join(pair)) for pair in pairs]\n",
    "print(f'bigrams={bigrams}')\n",
    "ps = [re.compile(r'(?<!\\S)' + bigram + r'(?!\\S)') for bigram in bigrams] \n",
    "print(f'ps={ps}')"
   ]
  },
  {
   "cell_type": "code",
   "execution_count": null,
   "metadata": {},
   "outputs": [],
   "source": []
  },
  {
   "cell_type": "code",
   "execution_count": null,
   "metadata": {
    "ExecuteTime": {
     "end_time": "2021-07-05T08:45:27.027084Z",
     "start_time": "2021-07-05T08:45:22.411Z"
    }
   },
   "outputs": [],
   "source": [
    "pair = list(pairs.keys())[0]\n",
    "bigram = re.escape(' '.join(pair))\n",
    "p = re.compile(r'(?<!\\S)' + bigram + r'(?!\\S)')\n",
    "print(p)\n",
    "word=r'3\\\\ 4'\n",
    "p.sub(''.join(pair), word)"
   ]
  },
  {
   "cell_type": "code",
   "execution_count": null,
   "metadata": {
    "ExecuteTime": {
     "end_time": "2021-07-05T08:45:27.028635Z",
     "start_time": "2021-07-05T08:45:22.413Z"
    }
   },
   "outputs": [],
   "source": [
    "''.join(pair)"
   ]
  },
  {
   "cell_type": "code",
   "execution_count": null,
   "metadata": {
    "ExecuteTime": {
     "end_time": "2021-07-05T08:45:27.030053Z",
     "start_time": "2021-07-05T08:45:22.414Z"
    }
   },
   "outputs": [],
   "source": [
    "word='3\\\\ 4'\n",
    "word "
   ]
  },
  {
   "cell_type": "code",
   "execution_count": null,
   "metadata": {
    "ExecuteTime": {
     "end_time": "2021-07-05T08:45:27.031467Z",
     "start_time": "2021-07-05T08:45:22.415Z"
    }
   },
   "outputs": [],
   "source": [
    "word='3\\\\ 4'\n",
    "word"
   ]
  },
  {
   "cell_type": "code",
   "execution_count": null,
   "metadata": {},
   "outputs": [],
   "source": []
  },
  {
   "cell_type": "code",
   "execution_count": null,
   "metadata": {
    "ExecuteTime": {
     "end_time": "2021-07-05T08:45:27.032880Z",
     "start_time": "2021-07-05T08:45:22.417Z"
    }
   },
   "outputs": [],
   "source": [
    "def sub(pair, word):\n",
    "    '''在word中替换pair为pair去空格'''\n",
    "    print(f'word = {word}')\n",
    "    bigram = re.escape(' '.join(pair))\n",
    "\n",
    "    # 匹配，前后都为空的pair\n",
    "    # (?<!\\S)\t匹配前面不是非空的位置，即匹配前面是空\n",
    "    # (?!\\S)\t匹配后面跟的不是非空的位置，即匹配后面是空      \n",
    "    pattern = re.compile(r'(?<!\\S)' + bigram + r'(?!\\S)')\n",
    "    print(f'pattern = {pattern}')\n",
    "    new_word = pattern.sub(''.join(pair), word)\n",
    "    print(f'new_word = {new_word}') \n",
    "\n",
    "word = 'b c ab c b c c bd b c'\n",
    "\n",
    "pair = ('b', 'c')\n",
    "# 从结果可以看到，第一个,第三个，第五个b c被替换成了bc\n",
    "sub(pair, word)"
   ]
  },
  {
   "cell_type": "code",
   "execution_count": null,
   "metadata": {
    "ExecuteTime": {
     "end_time": "2021-07-05T08:45:27.034300Z",
     "start_time": "2021-07-05T08:45:22.420Z"
    }
   },
   "outputs": [],
   "source": [
    "\n",
    "# word = re.escape('\\u2581abcd') \n",
    "# print(word)\n"
   ]
  },
  {
   "cell_type": "code",
   "execution_count": null,
   "metadata": {
    "ExecuteTime": {
     "end_time": "2021-07-05T08:45:27.035698Z",
     "start_time": "2021-07-05T08:45:22.421Z"
    }
   },
   "outputs": [],
   "source": [
    "import re\n",
    "\n",
    "pattern = '\\S'\n",
    "string = ' 344-Hello--World!'\n",
    "result = re.search(pattern, string)\n",
    "print(result)\n",
    "print(result.group())"
   ]
  },
  {
   "cell_type": "code",
   "execution_count": null,
   "metadata": {
    "ExecuteTime": {
     "end_time": "2021-07-05T08:45:27.037089Z",
     "start_time": "2021-07-05T08:45:22.422Z"
    }
   },
   "outputs": [],
   "source": [
    "pattern = '[a-z]+'\n",
    "string = '-----2344-HELLO--WORLD!'\n",
    "result = re.search(pattern, string)\n",
    "print(result)"
   ]
  },
  {
   "cell_type": "code",
   "execution_count": null,
   "metadata": {
    "ExecuteTime": {
     "end_time": "2021-07-05T08:45:27.038610Z",
     "start_time": "2021-07-05T08:45:22.424Z"
    }
   },
   "outputs": [],
   "source": [
    "pair = ('4', '5')\n",
    "bigram = re.escape(' '.join(pair))\n",
    "p = re.compile(bigram)\n",
    "print(p)\n",
    "word = re.escape('1234 567') \n",
    "print(word)\n",
    "print(''.join(pair))\n",
    "print(p.sub(''.join(pair), word))"
   ]
  },
  {
   "cell_type": "code",
   "execution_count": null,
   "metadata": {
    "ExecuteTime": {
     "end_time": "2021-07-05T08:45:27.040069Z",
     "start_time": "2021-07-05T08:45:22.425Z"
    }
   },
   "outputs": [],
   "source": [
    "import numpy as np\n",
    "\n",
    "x1 = np.array([0.2, 0.3, 0.1, 0.4])\n",
    "scores = np.array([2, 3, 4, -1])\n",
    "order = scores.argsort()[::-1] \n",
    "print(order)\n",
    "i = order[0]\n",
    "np.maximum(x1[i], x1[order[1:]])"
   ]
  },
  {
   "cell_type": "code",
   "execution_count": null,
   "metadata": {
    "ExecuteTime": {
     "end_time": "2021-07-05T08:45:27.041801Z",
     "start_time": "2021-07-05T08:45:22.426Z"
    },
    "code_folding": []
   },
   "outputs": [],
   "source": [
    "def py_cpu_nms(dets, thresh):\n",
    "    \"\"\"\n",
    "    dets是shape为 Nx5 的ndarray,如:\n",
    "    dets = np.array([[5,5,20,20,0.7],\n",
    "                     [0,0,10,10,0.3]])\n",
    "    \n",
    "    \"\"\"\n",
    "    x1 = dets[:, 0] #所有的x1\n",
    "    y1 = dets[:, 1] #所有的y1\n",
    "    x2 = dets[:, 2] #所有的x2\n",
    "    y2 = dets[:, 3] #所有的y2\n",
    "    scores = dets[:, 4] #所有的得分\n",
    "\n",
    "    areas = (x2 - x1 + 1) * (y2 - y1 + 1) #所有框的面积\n",
    "    order = scores.argsort()[::-1] #面积排序\n",
    "\n",
    "    keep = [] #\n",
    "    while order.size > 0:\n",
    "        i = order[0]\n",
    "        keep.append(i)\n",
    "        xx1 = np.maximum(x1[i], x1[order[1:]])\n",
    "        yy1 = np.maximum(y1[i], y1[order[1:]])\n",
    "        xx2 = np.minimum(x2[i], x2[order[1:]])\n",
    "        yy2 = np.minimum(y2[i], y2[order[1:]])\n",
    "        \n",
    "        print(x1[order[1:]])\n",
    "        print(xx1,yy1,xx2,yy2)\n",
    "\n",
    "        w = np.maximum(0.0, xx2 - xx1 + 1)\n",
    "        h = np.maximum(0.0, yy2 - yy1 + 1)\n",
    "        inter = w * h\n",
    "\n",
    "        ovr = inter / (areas[i] + areas[order[1:]] - inter)\n",
    "\n",
    "        inds = np.where(ovr <= thresh)[0]\n",
    "        order = order[inds + 1]\n",
    "\n",
    "    return keep"
   ]
  },
  {
   "cell_type": "code",
   "execution_count": null,
   "metadata": {
    "ExecuteTime": {
     "end_time": "2021-07-05T08:45:27.043348Z",
     "start_time": "2021-07-05T08:45:22.427Z"
    }
   },
   "outputs": [],
   "source": [
    "import numpy as np\n"
   ]
  },
  {
   "cell_type": "code",
   "execution_count": null,
   "metadata": {
    "ExecuteTime": {
     "end_time": "2021-07-05T08:45:27.044809Z",
     "start_time": "2021-07-05T08:45:22.428Z"
    }
   },
   "outputs": [],
   "source": [
    "a =1\n"
   ]
  },
  {
   "cell_type": "code",
   "execution_count": null,
   "metadata": {
    "ExecuteTime": {
     "end_time": "2021-07-05T08:45:27.046320Z",
     "start_time": "2021-07-05T08:45:22.430Z"
    }
   },
   "outputs": [],
   "source": [
    "!pip install  jupyter_contrib_nbextensions\n",
    "!pip install jupyter_nbextensions_configurator"
   ]
  },
  {
   "cell_type": "code",
   "execution_count": null,
   "metadata": {
    "ExecuteTime": {
     "end_time": "2021-07-05T08:45:27.047827Z",
     "start_time": "2021-07-05T08:45:22.433Z"
    }
   },
   "outputs": [],
   "source": [
    "!jupyter contrib nbextension install --user \n",
    "!jupyter nbextensions_configurator enable --user"
   ]
  },
  {
   "cell_type": "code",
   "execution_count": null,
   "metadata": {
    "ExecuteTime": {
     "end_time": "2021-07-05T08:45:27.049309Z",
     "start_time": "2021-07-05T08:45:22.434Z"
    }
   },
   "outputs": [],
   "source": [
    "1"
   ]
  },
  {
   "cell_type": "code",
   "execution_count": null,
   "metadata": {
    "ExecuteTime": {
     "end_time": "2021-07-05T08:45:27.050712Z",
     "start_time": "2021-07-05T08:45:22.435Z"
    }
   },
   "outputs": [],
   "source": [
    "a=1"
   ]
  },
  {
   "cell_type": "code",
   "execution_count": null,
   "metadata": {
    "ExecuteTime": {
     "end_time": "2021-07-05T08:45:27.052294Z",
     "start_time": "2021-07-05T08:45:22.437Z"
    }
   },
   "outputs": [],
   "source": [
    "import numpy as np"
   ]
  },
  {
   "cell_type": "code",
   "execution_count": null,
   "metadata": {
    "ExecuteTime": {
     "end_time": "2021-07-05T08:45:27.053695Z",
     "start_time": "2021-07-05T08:45:22.439Z"
    }
   },
   "outputs": [],
   "source": [
    "np.testing."
   ]
  },
  {
   "cell_type": "code",
   "execution_count": 6,
   "metadata": {
    "ExecuteTime": {
     "end_time": "2021-07-06T08:59:44.568952Z",
     "start_time": "2021-07-06T08:59:44.562463Z"
    }
   },
   "outputs": [
    {
     "data": {
      "text/plain": [
       "2042040"
      ]
     },
     "execution_count": 6,
     "metadata": {},
     "output_type": "execute_result"
    }
   ],
   "source": [
    "561*728*5"
   ]
  },
  {
   "cell_type": "code",
   "execution_count": 7,
   "metadata": {
    "ExecuteTime": {
     "end_time": "2021-07-09T01:47:54.989138Z",
     "start_time": "2021-07-09T01:47:54.975609Z"
    }
   },
   "outputs": [
    {
     "name": "stdout",
     "output_type": "stream",
     "text": [
      "汪汪叫\n",
      "汪汪叫\n",
      "神一样的叫唤...\n"
     ]
    }
   ],
   "source": [
    "\n",
    "class Dog:\n",
    " \n",
    "    def bark(self):\n",
    "        print(\"汪汪叫\")\n",
    " \n",
    "# 子类  继承\n",
    "class XiaoTianQuan(Dog):\n",
    " \n",
    "    def fly(self):\n",
    "        print(\"我会飞\")\n",
    " \n",
    "    # 可以重写父类中的同名方法\n",
    "    def bark(self):\n",
    " \n",
    "        # super().父类方法名 调用父类中的方法 (第一种方式)(推荐)\n",
    "        super().bark()\n",
    " \n",
    "        # 父类名.方法(self) 调用父类中的方法 (第二种方式,python2.x)(不推荐,父类名修改后,此处也得改)\n",
    "        Dog.bark(self)\n",
    " \n",
    "        # 注意：如果使用子类名调用方法，可能会出现递归调用 -- 死循环！\n",
    "        # XiaoTianQuan.bark(self)  # 会产生死循环\n",
    " \n",
    "        # 针对子类特有的需求，进行扩展\n",
    "        print(\"神一样的叫唤...\")\n",
    " \n",
    " \n",
    "xtq = XiaoTianQuan()\n",
    "xtq.bark()\n"
   ]
  },
  {
   "cell_type": "code",
   "execution_count": 14,
   "metadata": {
    "ExecuteTime": {
     "end_time": "2021-07-12T08:42:53.191722Z",
     "start_time": "2021-07-12T08:42:53.169975Z"
    }
   },
   "outputs": [
    {
     "ename": "NameError",
     "evalue": "name 'x' is not defined",
     "output_type": "error",
     "traceback": [
      "\u001b[0;31m\u001b[0m",
      "\u001b[0;31mNameError\u001b[0mTraceback (most recent call last)",
      "\u001b[0;32m<ipython-input-14-835a6f7471a0>\u001b[0m in \u001b[0;36m<module>\u001b[0;34m\u001b[0m\n\u001b[0;32m----> 1\u001b[0;31m \u001b[0ma\u001b[0m \u001b[0;34m=\u001b[0m \u001b[0;32mlambda\u001b[0m \u001b[0mx\u001b[0m\u001b[0;34m,\u001b[0m \u001b[0my\u001b[0m\u001b[0;34m:\u001b[0m \u001b[0mx\u001b[0m\u001b[0;34m+\u001b[0m\u001b[0my\u001b[0m\u001b[0;34m,\u001b[0m \u001b[0mx\u001b[0m\u001b[0;34m-\u001b[0m\u001b[0my\u001b[0m\u001b[0;34m\u001b[0m\u001b[0;34m\u001b[0m\u001b[0m\n\u001b[0m",
      "\u001b[0;31mNameError\u001b[0m: name 'x' is not defined"
     ]
    }
   ],
   "source": [
    "a = lambda x, y: x+y, x-y"
   ]
  },
  {
   "cell_type": "code",
   "execution_count": 13,
   "metadata": {
    "ExecuteTime": {
     "end_time": "2021-07-12T08:42:46.289246Z",
     "start_time": "2021-07-12T08:42:46.282387Z"
    }
   },
   "outputs": [
    {
     "data": {
      "text/plain": [
       "(5, -1)"
      ]
     },
     "execution_count": 13,
     "metadata": {},
     "output_type": "execute_result"
    }
   ],
   "source": [
    "a(2, 3)"
   ]
  },
  {
   "cell_type": "code",
   "execution_count": 16,
   "metadata": {
    "ExecuteTime": {
     "end_time": "2021-07-13T07:37:43.299150Z",
     "start_time": "2021-07-13T07:37:43.291767Z"
    }
   },
   "outputs": [],
   "source": [
    "r= np.array([[1, 2, 3], [3, 4, 2], [0, 0, 0]])"
   ]
  },
  {
   "cell_type": "code",
   "execution_count": 18,
   "metadata": {
    "ExecuteTime": {
     "end_time": "2021-07-13T07:37:52.262629Z",
     "start_time": "2021-07-13T07:37:52.254435Z"
    }
   },
   "outputs": [
    {
     "data": {
      "text/plain": [
       "array([[0, 0, 0]])"
      ]
     },
     "execution_count": 18,
     "metadata": {},
     "output_type": "execute_result"
    }
   ],
   "source": [
    "r[np.all(r == 0, axis=1)]"
   ]
  },
  {
   "cell_type": "code",
   "execution_count": 19,
   "metadata": {
    "ExecuteTime": {
     "end_time": "2021-07-13T07:37:54.996094Z",
     "start_time": "2021-07-13T07:37:54.987513Z"
    }
   },
   "outputs": [
    {
     "data": {
      "text/plain": [
       "array([[1, 2, 3],\n",
       "       [3, 4, 2]])"
      ]
     },
     "execution_count": 19,
     "metadata": {},
     "output_type": "execute_result"
    }
   ],
   "source": [
    "r[~np.all(r == 0, axis=1)]"
   ]
  },
  {
   "cell_type": "code",
   "execution_count": 2,
   "metadata": {
    "ExecuteTime": {
     "end_time": "2021-07-15T09:40:30.201516Z",
     "start_time": "2021-07-15T09:40:29.238993Z"
    }
   },
   "outputs": [
    {
     "name": "stdout",
     "output_type": "stream",
     "text": [
      "/tf/eipi10/xuxiangwen.github.io/_notes\r\n"
     ]
    }
   ],
   "source": [
    "!pwd"
   ]
  },
  {
   "cell_type": "code",
   "execution_count": 9,
   "metadata": {
    "ExecuteTime": {
     "end_time": "2021-07-15T09:42:47.565472Z",
     "start_time": "2021-07-15T09:42:47.556295Z"
    }
   },
   "outputs": [
    {
     "data": {
      "text/plain": [
       "'_notes'"
      ]
     },
     "execution_count": 9,
     "metadata": {},
     "output_type": "execute_result"
    }
   ],
   "source": [
    "import os\n",
    "dataset_path='/tf/eipi10/xuxiangwen.github.io/_notes/'\n"
   ]
  },
  {
   "cell_type": "code",
   "execution_count": 17,
   "metadata": {
    "ExecuteTime": {
     "end_time": "2021-07-17T01:40:46.069562Z",
     "start_time": "2021-07-17T01:40:46.065305Z"
    }
   },
   "outputs": [],
   "source": [
    "def f2(a, b=2, c=3):\n",
    "    return a + b + c"
   ]
  },
  {
   "cell_type": "code",
   "execution_count": 29,
   "metadata": {
    "ExecuteTime": {
     "end_time": "2021-07-17T07:25:12.017398Z",
     "start_time": "2021-07-17T07:25:12.013448Z"
    }
   },
   "outputs": [
    {
     "data": {
      "text/plain": [
       "['2']"
      ]
     },
     "execution_count": 29,
     "metadata": {},
     "output_type": "execute_result"
    }
   ],
   "source": [
    "a = ['1', '2', '3']\n",
    "a[1:2]"
   ]
  },
  {
   "cell_type": "code",
   "execution_count": null,
   "metadata": {},
   "outputs": [],
   "source": [
    "class TextReader:\n",
    "    \"\"\"Print and number lines in a text file.\"\"\"\n",
    "\n",
    "    def __init__(self, filename):\n",
    "        self.filename = filename\n",
    "        self.file = open(filename)\n",
    "        self.lineno = 0\n",
    "\n",
    "    def readline(self):\n",
    "        self.lineno += 1\n",
    "        line = self.file.readline()\n",
    "        if not line:\n",
    "            return None\n",
    "        if line.endswith('\\n'):\n",
    "            line = line[:-1]\n",
    "        return \"%i: %s\" % (self.lineno, line)\n",
    "\n",
    "    def __getstate__(self):\n",
    "        # Copy the object's state from self.__dict__ which contains\n",
    "        # all our instance attributes. Always use the dict.copy()\n",
    "        # method to avoid modifying the original state.\n",
    "        state = self.__dict__.copy()\n",
    "        # Remove the unpicklable entries.\n",
    "        del state['file']\n",
    "        return state\n",
    "\n",
    "    def __setstate__(self, state):\n",
    "        # Restore instance attributes (i.e., filename and lineno).\n",
    "        self.__dict__.update(state)\n",
    "        # Restore the previously opened file's state. To do so, we need to\n",
    "        # reopen it and read from it until the line count is restored.\n",
    "        file = open(self.filename)\n",
    "        for _ in range(self.lineno):\n",
    "            file.readline()\n",
    "        # Finally, save the file.\n",
    "        self.file = file\n",
    "        \n",
    "reader = TextReader(\"hello.txt\")\n",
    "print(reader.readline())\n",
    "print(reader.readline())\n",
    "s = pickle.dumps(reader)\n",
    "#print(s)\n",
    "new_reader = pickle.loads(s)\n",
    "print(new_reader.readline())"
   ]
  },
  {
   "cell_type": "code",
   "execution_count": 30,
   "metadata": {
    "ExecuteTime": {
     "end_time": "2021-07-17T09:25:09.034163Z",
     "start_time": "2021-07-17T09:25:08.228278Z"
    }
   },
   "outputs": [
    {
     "name": "stdout",
     "output_type": "stream",
     "text": [
      "/tf/eipi10/xuxiangwen.github.io/_notes\r\n"
     ]
    }
   ],
   "source": [
    "!pwd"
   ]
  },
  {
   "cell_type": "code",
   "execution_count": 31,
   "metadata": {
    "ExecuteTime": {
     "end_time": "2021-07-17T09:25:20.079646Z",
     "start_time": "2021-07-17T09:25:20.072645Z"
    }
   },
   "outputs": [
    {
     "data": {
      "text/plain": [
       "'/tf/eipi10/xuxiangwen.github.io'"
      ]
     },
     "execution_count": 31,
     "metadata": {},
     "output_type": "execute_result"
    }
   ],
   "source": [
    "import os\n",
    "os.path.dirname('/tf/eipi10/xuxiangwen.github.io/_notes')"
   ]
  },
  {
   "cell_type": "code",
   "execution_count": 43,
   "metadata": {
    "ExecuteTime": {
     "end_time": "2021-07-19T09:32:46.304267Z",
     "start_time": "2021-07-19T09:32:46.293444Z"
    }
   },
   "outputs": [
    {
     "data": {
      "text/plain": [
       "{'a': 3, 'b': 2, 'e': 2}"
      ]
     },
     "execution_count": 43,
     "metadata": {},
     "output_type": "execute_result"
    }
   ],
   "source": [
    "a = {'a':1, 'b':2}\n",
    "class B:\n",
    "    def __init__(self):\n",
    "        self.c = {'e':2, 'a':3}\n",
    "\n",
    "dict(a, **B().c)"
   ]
  },
  {
   "cell_type": "code",
   "execution_count": 42,
   "metadata": {
    "ExecuteTime": {
     "end_time": "2021-07-19T09:31:52.618661Z",
     "start_time": "2021-07-19T09:31:52.610656Z"
    }
   },
   "outputs": [
    {
     "ename": "AttributeError",
     "evalue": "'dict' object has no attribute 'c'",
     "output_type": "error",
     "traceback": [
      "\u001b[0;31m\u001b[0m",
      "\u001b[0;31mAttributeError\u001b[0mTraceback (most recent call last)",
      "\u001b[0;32m<ipython-input-42-4592cda7d891>\u001b[0m in \u001b[0;36m<module>\u001b[0;34m\u001b[0m\n\u001b[0;32m----> 1\u001b[0;31m \u001b[0mb\u001b[0m\u001b[0;34m.\u001b[0m\u001b[0mc\u001b[0m\u001b[0;34m\u001b[0m\u001b[0;34m\u001b[0m\u001b[0m\n\u001b[0m",
      "\u001b[0;31mAttributeError\u001b[0m: 'dict' object has no attribute 'c'"
     ]
    }
   ],
   "source": [
    "b.c"
   ]
  },
  {
   "cell_type": "code",
   "execution_count": 2,
   "metadata": {
    "ExecuteTime": {
     "end_time": "2021-08-10T03:34:56.826730Z",
     "start_time": "2021-08-10T03:34:56.819961Z"
    }
   },
   "outputs": [
    {
     "data": {
      "text/plain": [
       "1875.0"
      ]
     },
     "execution_count": 2,
     "metadata": {},
     "output_type": "execute_result"
    }
   ],
   "source": [
    "60000/32"
   ]
  },
  {
   "cell_type": "code",
   "execution_count": null,
   "metadata": {},
   "outputs": [],
   "source": []
  }
 ],
 "metadata": {
  "kernelspec": {
   "display_name": "Python 3",
   "language": "python",
   "name": "python3"
  },
  "language_info": {
   "codemirror_mode": {
    "name": "ipython",
    "version": 3
   },
   "file_extension": ".py",
   "mimetype": "text/x-python",
   "name": "python",
   "nbconvert_exporter": "python",
   "pygments_lexer": "ipython3",
   "version": "3.6.9"
  },
  "toc": {
   "base_numbering": 1,
   "nav_menu": {
    "height": "154px",
    "width": "230px"
   },
   "number_sections": true,
   "sideBar": true,
   "skip_h1_title": false,
   "title_cell": "Table of Contents",
   "title_sidebar": "Contents",
   "toc_cell": false,
   "toc_position": {
    "height": "calc(100% - 180px)",
    "left": "10px",
    "top": "150px",
    "width": "165px"
   },
   "toc_section_display": true,
   "toc_window_display": false
  }
 },
 "nbformat": 4,
 "nbformat_minor": 2
}
