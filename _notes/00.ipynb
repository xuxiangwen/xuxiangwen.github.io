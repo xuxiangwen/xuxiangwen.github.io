{
 "cells": [
  {
   "cell_type": "code",
   "execution_count": 1,
   "metadata": {},
   "outputs": [
    {
     "name": "stderr",
     "output_type": "stream",
     "text": [
      "2020-10-23 03:26:06,406: INFO: deployment = local_wechat\n",
      "2020-10-23 03:26:06,407: INFO: base_path = /home/grid/eipi10/qbz95/qbz95\n",
      "2020-10-23 03:26:06,407: INFO: data_path = /home/grid/eipi10/qbz95/data\n",
      "2020-10-23 03:26:06,812: INFO: deployment = jupyter\n",
      "2020-10-23 03:26:06,813: INFO: base_path = /tf/eipi10/qbz95/qbz95\n",
      "2020-10-23 03:26:06,813: INFO: data_path = /tf/eipi10/qbz95/data\n"
     ]
    }
   ],
   "source": [
    "import sys\n",
    "\n",
    "base_path = '/tf/eipi10/qbz95'\n",
    "sys.path.append(base_path)\n",
    "\n",
    "from qbz95 import config\n",
    "import pandas as pd\n",
    "config = config.get_config('jupyter')\n",
    "pd.set_option('display.width', 1000)\n",
    "\n",
    "%matplotlib inline\n",
    "\n",
    "# 代码自动重新加载\n",
    "%load_ext autoreload\n",
    "%autoreload 2\n",
    "\n",
    "# #当module有新的方法的时候，需要运行下面方法。\n",
    "# %reload_ext autoreload\n"
   ]
  },
  {
   "cell_type": "markdown",
   "metadata": {},
   "source": [
    "## 比赛\n",
    "\n",
    "- 千言：多技能对话 https://www.datafountain.cn/competitions/470/datasets4\n",
    "- 千言数据集：文本相似度 https://aistudio.baidu.com/aistudio/competition/detail/45/1\n",
    "- 房产行业聊天问答匹配 https://www.datafountain.cn/competitions/474/datasets\n",
    "- 百度大脑。新手专享https://aistudio.baidu.com/aistudio/newbie\n",
    "\n",
    "## 面试\n",
    "\n",
    "- leecode\n",
    "- 牛客网\n",
    "\n",
    "## 其它\n",
    "\n",
    "- 这个machine guide非常棒 https://developers.google.com/machine-learning/guides\n",
    "- 这个网站好像不错 https://www.yuque.com/zy19970/vo3yim/seytxm 语雀 https://www.yuque.com/dashboard\n",
    "- 采用keras调优以下fashion minist的一些其它模型。"
   ]
  },
  {
   "cell_type": "code",
   "execution_count": 6,
   "metadata": {},
   "outputs": [
    {
     "name": "stderr",
     "output_type": "stream",
     "text": [
      "2020-11-04 03:59:04,066: INFO: https://ai.stanford.edu/~amaas/data/sentiment/aclImdb_v1.tar.gz\n",
      "2020-11-04 03:59:24,682: INFO: Successfully downloaded aclImdb_v1.tar.gz 84125825 bytes.\n",
      "2020-11-04 03:59:24,684: INFO: extract aclImdb_v1.tar.gz to ./data/lmrd/aclImdb\n"
     ]
    }
   ],
   "source": [
    "import gzip\n",
    "import logging\n",
    "import os\n",
    "import tarfile\n",
    "import six.moves.urllib as urllib\n",
    "\n",
    "logging.basicConfig(format='%(asctime)s: %(levelname)s: %(message)s')\n",
    "logging.root.setLevel(level=logging.INFO)\n",
    "\n",
    "def lmrd_download_and_extract(target_path, source_url='https://ai.stanford.edu/~amaas/data/sentiment/', http_proxy=None):\n",
    "    if http_proxy is not None:\n",
    "        proxy_handler = urllib.request.ProxyHandler({'http': http_proxy, 'https': http_proxy})\n",
    "        opener = urllib.request.build_opener(proxy_handler)\n",
    "    else:\n",
    "        opener = urllib.request.build_opener()\n",
    "\n",
    "    urllib.request.install_opener(opener)\n",
    "\n",
    "    def maybe_download(file_name):\n",
    "        if not os.path.exists(target_path):\n",
    "            os.mkdir(target_path)\n",
    "        file_path = os.path.join(target_path, file_name)\n",
    "        if not os.path.exists(file_path):\n",
    "            source_file_url = os.path.join(source_url, file_name)\n",
    "            logging.info(source_file_url)\n",
    "            filepath, _ = urllib.request.urlretrieve(source_file_url, file_path)\n",
    "            statinfo = os.stat(filepath)\n",
    "            logging.info('Successfully downloaded {} {} bytes.'.format(file_name, statinfo.st_size))\n",
    "        return file_path\n",
    "\n",
    "    tar_gz_file = 'aclImdb_v1.tar.gz'\n",
    "    data_path= maybe_download(tar_gz_file)\n",
    "    \n",
    "    # extract the tar.gz file\n",
    "    extract_path = os.path.join(target_path, \"aclImdb\")\n",
    "    logging.info(\"extract {} to {}\".format(tar_gz_file, extract_path))\n",
    "    with tarfile.open(data_path, 'r:gz') as tar:        \n",
    "        tar.extractall(path=target_path)\n",
    "    return extract_path\n",
    "\n",
    "local_path = os.path.join('.', 'data/lmrd')\n",
    "data_path = lmrd_download_and_extract(local_path)"
   ]
  },
  {
   "cell_type": "code",
   "execution_count": 22,
   "metadata": {},
   "outputs": [
    {
     "name": "stdout",
     "output_type": "stream",
     "text": [
      "------------------------------./data/lmrd/aclImdb/train/pos/127_7.txt------------------------------\n",
      "Zentropa has much in common with The Third Man, another noir-like film set among the rubble of postwar Europe. Like TTM, there is much inventive camera work. There is an innocent American who gets emotionally involved with a woman he doesn't really understand, and whose naivety is all the more striking in contrast with the natives.<br /><br />But I'd have to say that The Third Man has a more well-crafted storyline. Zentropa is a bit disjointed in this respect. Perhaps this is intentional: it is presented as a dream/nightmare, and making it too coherent would spoil the effect. <br /><br />This movie is unrelentingly grim--\"noir\" in more than one sense; one never sees the sun shine. Grim, but intriguing, and frightening.\n",
      "------------------------------./data/lmrd/aclImdb/train/pos/126_10.txt------------------------------\n",
      "Zentropa is the most original movie I've seen in years. If you like unique thrillers that are influenced by film noir, then this is just the right cure for all of those Hollywood summer blockbusters clogging the theaters these days. Von Trier's follow-ups like Breaking the Waves have gotten more acclaim, but this is really his best work. It is flashy without being distracting and offers the perfect combination of suspense and dark humor. It's too bad he decided handheld cameras were the wave of the future. It's hard to say who talked him away from the style he exhibits here, but it's everyone's loss that he went into his heavily theoretical dogma direction instead.\n",
      "------------------------------./data/lmrd/aclImdb/train/pos/125_7.txt------------------------------\n",
      "Lars Von Trier is never backward in trying out new techniques. Some of them are very original while others are best forgotten.<br /><br />He depicts postwar Germany as a nightmarish train journey. With so many cities lying in ruins, Leo Kessler a young American of German descent feels obliged to help in their restoration. It is not a simple task as he quickly finds out.<br /><br />His uncle finds him a job as a night conductor on the Zentropa Railway Line. His job is to attend to the needs of the passengers. When the shoes are polished a chalk mark is made on the soles. A terrible argument ensues when a passenger's shoes are not chalked despite the fact they have been polished. There are many allusions to the German fanaticism of adherence to such stupid details.<br /><br />The railway jou ...\n"
     ]
    }
   ],
   "source": [
    "train_dir = os.path.join(data_path, 'train/pos')\n",
    "pos_files = os.listdir(train_dir)\n",
    "for file_name in pos_files[0:3]:    \n",
    "    file_path = os.path.join(train_dir, file_name)\n",
    "    print('-'*30 + file_path + '-'*30 )\n",
    "    with open(file_path) as f:\n",
    "        comment = f.read() \n",
    "        print(comment if len(comment)<=800 else comment[0:800]+' ...')     "
   ]
  },
  {
   "cell_type": "code",
   "execution_count": 23,
   "metadata": {},
   "outputs": [
    {
     "name": "stdout",
     "output_type": "stream",
     "text": [
      "------------------------------./data/lmrd/aclImdb/train/neg/127_4.txt------------------------------\n",
      "I rented I AM CURIOUS-YELLOW from my video store because of all the controversy that surrounded it when it was first released in 1967. I also heard that at first it was seized by U.S. customs if it ever tried to enter this country, therefore being a fan of films considered \"controversial\" I really had to see this for myself.<br /><br />The plot is centered around a young Swedish drama student named Lena who wants to learn everything she can about life. In particular she wants to focus her attentions to making some sort of documentary on what the average Swede thought about certain political issues such as the Vietnam War and race issues in the United States. In between asking politicians and ordinary denizens of Stockholm about their opinions on politics, she has sex with her drama teacher ...\n",
      "------------------------------./data/lmrd/aclImdb/train/neg/126_1.txt------------------------------\n",
      "\"I Am Curious: Yellow\" is a risible and pretentious steaming pile. It doesn't matter what one's political views are because this film can hardly be taken seriously on any level. As for the claim that frontal male nudity is an automatic NC-17, that isn't true. I've seen R-rated films with male nudity. Granted, they only offer some fleeting views, but where are the R-rated films with gaping vulvas and flapping labia? Nowhere, because they don't exist. The same goes for those crappy cable shows: schlongs swinging in the breeze but not a clitoris in sight. And those pretentious indie movies like The Brown Bunny, in which we're treated to the site of Vincent Gallo's throbbing johnson, but not a trace of pink visible on Chloe Sevigny. Before crying (or implying) \"double-standard\" in matters of n ...\n",
      "------------------------------./data/lmrd/aclImdb/train/neg/125_1.txt------------------------------\n",
      "If only to avoid making this type of film in the future. This film is interesting as an experiment but tells no cogent story.<br /><br />One might feel virtuous for sitting thru it because it touches on so many IMPORTANT issues but it does so without any discernable motive. The viewer comes away with no new perspectives (unless one comes up with one while one's mind wanders, as it will invariably do during this pointless film).<br /><br />One might better spend one's time staring out a window at a tree growing.<br /><br />\n"
     ]
    }
   ],
   "source": [
    "train_dir = os.path.join(data_path, 'train/neg')\n",
    "pos_files = os.listdir(train_dir)\n",
    "for file_name in pos_files[0:3]:    \n",
    "    file_path = os.path.join(train_dir, file_name)\n",
    "    print('-'*30 + file_path + '-'*30 )\n",
    "    with open(file_path) as f:\n",
    "        comment = f.read() \n",
    "        print(comment if len(comment)<=800 else comment[0:800]+' ...')    "
   ]
  },
  {
   "cell_type": "code",
   "execution_count": null,
   "metadata": {},
   "outputs": [],
   "source": []
  }
 ],
 "metadata": {
  "kernelspec": {
   "display_name": "Python 3",
   "language": "python",
   "name": "python3"
  },
  "language_info": {
   "codemirror_mode": {
    "name": "ipython",
    "version": 3
   },
   "file_extension": ".py",
   "mimetype": "text/x-python",
   "name": "python",
   "nbconvert_exporter": "python",
   "pygments_lexer": "ipython3",
   "version": "3.6.9"
  }
 },
 "nbformat": 4,
 "nbformat_minor": 2
}
