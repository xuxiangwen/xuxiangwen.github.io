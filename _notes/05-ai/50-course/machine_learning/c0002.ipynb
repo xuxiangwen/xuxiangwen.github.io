{
 "cells": [
  {
   "cell_type": "code",
   "execution_count": 1,
   "metadata": {},
   "outputs": [],
   "source": [
    "import matplotlib.pyplot as plt\n",
    "%matplotlib inline"
   ]
  },
  {
   "cell_type": "markdown",
   "metadata": {},
   "source": [
    "### 创建向量"
   ]
  },
  {
   "cell_type": "code",
   "execution_count": 3,
   "metadata": {},
   "outputs": [
    {
     "name": "stdout",
     "output_type": "stream",
     "text": [
      "[2 1]\n"
     ]
    }
   ],
   "source": [
    "import numpy as np\n",
    "\n",
    "a = np.array([2, 1])\n",
    "print(a)"
   ]
  },
  {
   "cell_type": "markdown",
   "metadata": {},
   "source": [
    "### 向量加法"
   ]
  },
  {
   "cell_type": "code",
   "execution_count": 4,
   "metadata": {},
   "outputs": [
    {
     "name": "stdout",
     "output_type": "stream",
     "text": [
      "[3 3]\n"
     ]
    }
   ],
   "source": [
    "import numpy as np\n",
    "\n",
    "a = np.array([2, 1])\n",
    "b = np.array([1, 2])\n",
    "c = a + b\n",
    "print(c)\n"
   ]
  },
  {
   "cell_type": "markdown",
   "metadata": {},
   "source": [
    "### 向量大小"
   ]
  },
  {
   "cell_type": "code",
   "execution_count": 5,
   "metadata": {},
   "outputs": [
    {
     "name": "stdout",
     "output_type": "stream",
     "text": [
      "the length of a is 5.0\n"
     ]
    }
   ],
   "source": [
    "import numpy as np\n",
    "\n",
    "a = np.array([3, 4])\n",
    "length = np.linalg.norm(a)\n",
    "print('the length of a is {}'.format(length))\n"
   ]
  },
  {
   "cell_type": "markdown",
   "metadata": {},
   "source": [
    "### 向量转置"
   ]
  },
  {
   "cell_type": "code",
   "execution_count": 6,
   "metadata": {},
   "outputs": [
    {
     "name": "stdout",
     "output_type": "stream",
     "text": [
      "[3 4]\n",
      "[3 4]\n"
     ]
    }
   ],
   "source": [
    "import numpy as np\n",
    "\n",
    "a = np.array([3, 4])\n",
    "print(a)\n",
    "print(a.T)\n"
   ]
  },
  {
   "cell_type": "markdown",
   "metadata": {},
   "source": [
    "上面结果显示，在python的numpy包中，并不区分行向量和列向量，从名称上也可以看出，它是数组（Array）。"
   ]
  },
  {
   "cell_type": "markdown",
   "metadata": {},
   "source": [
    "### 矩阵加法"
   ]
  },
  {
   "cell_type": "code",
   "execution_count": 3,
   "metadata": {},
   "outputs": [
    {
     "name": "stdout",
     "output_type": "stream",
     "text": [
      "a = \n",
      "[[ 1  0  2]\n",
      " [-1  3  1]]\n",
      "\n",
      "b = \n",
      "[[3 1 1]\n",
      " [2 1 0]]\n",
      "\n",
      "c = \n",
      "[[4 1 3]\n",
      " [1 4 1]]\n",
      "\n",
      "d = \n",
      "[[ 3  0  2]\n",
      " [-2  3  0]]\n",
      "\n"
     ]
    }
   ],
   "source": [
    "import numpy as np\n",
    "\n",
    "a = np.array([[1, 0, 2], [-1, 3, 1]])\n",
    "b = np.array([[3, 1, 1], [2, 1, 0]])\n",
    "c = a + b\n",
    "d = a * b\n",
    "print('a = \\n{}\\n'.format(a))\n",
    "print('b = \\n{}\\n'.format(b))\n",
    "print('c = \\n{}\\n'.format(c))\n",
    "print('d = \\n{}\\n'.format(d))"
   ]
  },
  {
   "cell_type": "markdown",
   "metadata": {},
   "source": [
    "### 矩阵乘法"
   ]
  },
  {
   "cell_type": "code",
   "execution_count": 25,
   "metadata": {},
   "outputs": [
    {
     "name": "stdout",
     "output_type": "stream",
     "text": [
      "a = \n",
      "[[ 1  0  2]\n",
      " [-1  3  1]]\n",
      "\n",
      "b = \n",
      "[[3 1]\n",
      " [2 1]\n",
      " [1 0]]\n",
      "\n",
      "c = \n",
      "[[5 1]\n",
      " [4 2]]\n",
      "\n",
      "c1 = \n",
      "[[5 1]\n",
      " [4 2]]\n",
      "\n"
     ]
    }
   ],
   "source": [
    "import numpy as np\n",
    "\n",
    "a = np.array([[1, 0, 2], [-1, 3, 1]])\n",
    "b = np.array([[3, 1], [2, 1], [1, 0]])\n",
    "c = a.dot(b)\n",
    "c1 = a @ b\n",
    "print('a = \\n{}\\n'.format(a))\n",
    "print('b = \\n{}\\n'.format(b))\n",
    "print('c = \\n{}\\n'.format(c))\n",
    "print('c1 = \\n{}\\n'.format(c1))"
   ]
  },
  {
   "cell_type": "markdown",
   "metadata": {},
   "source": [
    "### 哈达玛积"
   ]
  },
  {
   "cell_type": "code",
   "execution_count": 16,
   "metadata": {},
   "outputs": [
    {
     "name": "stdout",
     "output_type": "stream",
     "text": [
      "a = \n",
      "[[ 2  1  0]\n",
      " [-1  2  3]]\n",
      "\n",
      "b = \n",
      "[[3 2 1]\n",
      " [1 2 3]]\n",
      "\n",
      "c = \n",
      "[[ 6  2  0]\n",
      " [-1  4  9]]\n",
      "\n"
     ]
    }
   ],
   "source": [
    "import numpy as np\n",
    "\n",
    "a = np.array([[2, 1, 0], [-1, 2, 3]])\n",
    "b = np.array([[3, 2, 1], [1, 2, 3]])\n",
    "c = a * b\n",
    "print('a = \\n{}\\n'.format(a))\n",
    "print('b = \\n{}\\n'.format(b))\n",
    "print('c = \\n{}\\n'.format(c))"
   ]
  },
  {
   "cell_type": "markdown",
   "metadata": {},
   "source": [
    "### Broadcasting"
   ]
  },
  {
   "cell_type": "code",
   "execution_count": 19,
   "metadata": {},
   "outputs": [
    {
     "name": "stdout",
     "output_type": "stream",
     "text": [
      "a = \n",
      "[[ 2  1  0]\n",
      " [-1  2  3]]\n",
      "\n",
      "b = \n",
      "[3 2 1]\n",
      "\n",
      "c = \n",
      "[[5 3 1]\n",
      " [2 4 4]]\n",
      "\n"
     ]
    }
   ],
   "source": [
    "import numpy as np\n",
    "\n",
    "a = np.array([[2, 1, 0], [-1, 2, 3]])\n",
    "b = np.array([3, 2, 1])\n",
    "c = a + b\n",
    "print('a = \\n{}\\n'.format(a))\n",
    "print('b = \\n{}\\n'.format(b))\n",
    "print('c = \\n{}\\n'.format(c))"
   ]
  },
  {
   "cell_type": "code",
   "execution_count": 26,
   "metadata": {},
   "outputs": [
    {
     "name": "stdout",
     "output_type": "stream",
     "text": [
      "a = \n",
      "[[ 2  1  0]\n",
      " [-1  2  3]]\n",
      "\n",
      "b = \n",
      "[3 2 1]\n",
      "\n",
      "c = \n",
      "[[ 6  2  0]\n",
      " [-3  4  3]]\n",
      "\n"
     ]
    }
   ],
   "source": [
    "a = np.array([[2, 1, 0], [-1, 2, 3]])\n",
    "b = np.array([3, 2, 1])\n",
    "c = a  * b\n",
    "print('a = \\n{}\\n'.format(a))\n",
    "print('b = \\n{}\\n'.format(b))\n",
    "print('c = \\n{}\\n'.format(c))"
   ]
  },
  {
   "cell_type": "markdown",
   "metadata": {},
   "source": [
    "### 矩阵转置"
   ]
  },
  {
   "cell_type": "code",
   "execution_count": 23,
   "metadata": {},
   "outputs": [
    {
     "name": "stdout",
     "output_type": "stream",
     "text": [
      "[[ 2  1  0]\n",
      " [-1  2  3]]\n",
      "[[ 2 -1]\n",
      " [ 1  2]\n",
      " [ 0  3]]\n"
     ]
    }
   ],
   "source": [
    "import numpy as np\n",
    "\n",
    "a = np.array([[2, 1, 0], [-1, 2, 3]])\n",
    "print(a)\n",
    "print(a.T)"
   ]
  },
  {
   "cell_type": "markdown",
   "metadata": {},
   "source": [
    "### 向量内积"
   ]
  },
  {
   "cell_type": "code",
   "execution_count": 24,
   "metadata": {},
   "outputs": [
    {
     "name": "stdout",
     "output_type": "stream",
     "text": [
      "18\n",
      "18\n"
     ]
    }
   ],
   "source": [
    "import numpy as np\n",
    "a = np.array([2, 3])\n",
    "b = np.array([3, 4])\n",
    "print(a.dot(b))  \n",
    "print(a @ b)  "
   ]
  },
  {
   "cell_type": "markdown",
   "metadata": {},
   "source": [
    "### 两个垂直向量的内积"
   ]
  },
  {
   "cell_type": "code",
   "execution_count": 6,
   "metadata": {},
   "outputs": [
    {
     "name": "stdout",
     "output_type": "stream",
     "text": [
      "vector a is perpendicular to vector b, dot product of them is 0.0\n"
     ]
    },
    {
     "data": {
      "image/png": "[encoded data removed]",
      "text/plain": [
       "<Figure size 432x288 with 1 Axes>"
      ]
     },
     "metadata": {
      "needs_background": "light"
     },
     "output_type": "display_data"
    }
   ],
   "source": [
    "import numpy as np\n",
    "import math\n",
    "import matplotlib.pyplot as plt\n",
    "\n",
    "\n",
    "a = np.array([1/2, math.sqrt(3)/2])\n",
    "b = np.array([-math.sqrt(3)/2, 1/2])\n",
    "\n",
    "print('vector a is perpendicular to vector b, dot product of them is {}'.format(a.dot(b)))\n",
    "A = np.vstack((a, b)).T\n",
    "\n",
    "\n",
    "plt.axis('scaled')\n",
    "plt.xlim([-1, 1])\n",
    "plt.ylim([0, 1])\n",
    "plt.xticks(np.arange(-1, 1, 0.5))\n",
    "plt.yticks(np.arange(0, 1, 0.5))\n",
    "plt.grid(linestyle='-.')\n",
    "\n",
    "plt.quiver([0], [0], A[0,:], A[1,:], angles='xy', scale_units='xy',  scale=1)\n",
    "plt.text(*A[:,0], 'a',size=24)\n",
    "plt.text(*A[:,1], 'b',size=24)\n",
    "\n",
    "plt.show()"
   ]
  },
  {
   "cell_type": "markdown",
   "metadata": {},
   "source": [
    "### 旋转"
   ]
  },
  {
   "cell_type": "code",
   "execution_count": 17,
   "metadata": {},
   "outputs": [
    {
     "data": {
      "image/png": "[encoded data removed]",
      "text/plain": [
       "<Figure size 432x288 with 1 Axes>"
      ]
     },
     "metadata": {
      "needs_background": "light"
     },
     "output_type": "display_data"
    }
   ],
   "source": [
    "import numpy as np\n",
    "import math\n",
    "import matplotlib.pyplot as plt\n",
    "\n",
    "\n",
    "def rotate(theta, alpha):\n",
    "    A = np.array([[math.cos(theta), -math.sin(theta)],\n",
    "                  [math.sin(theta), math.cos(theta)]])\n",
    "    beta = A.dot(alpha)\n",
    "    return beta, A\n",
    "\n",
    "\n",
    "theta = 30/180*math.pi\n",
    "alpha = np.array([math.sqrt(2)/2, math.sqrt(2)/2])\n",
    "beta, A  = rotate(theta, alpha)\n",
    "\n",
    "\n",
    "plt.axis('scaled')\n",
    "plt.xlim([-1, 1])\n",
    "plt.ylim([0, 1])\n",
    "plt.xticks(np.arange(-1, 1, 0.5))\n",
    "plt.yticks(np.arange(0, 1, 0.5))\n",
    "plt.grid(linestyle='-.')\n",
    "\n",
    "plt.quiver([0], [0], A[0,:], A[1,:], angles='xy', scale_units='xy',  scale=1)\n",
    "plt.text(*A[:,0], '$a_1$', size=12)\n",
    "plt.text(*A[:,1], '$a_2$', size=12)\n",
    "\n",
    "plt.quiver([0], [0], alpha[0], alpha[1], angles='xy', scale_units='xy',  scale=1, color='b')\n",
    "plt.quiver([0], [0], beta[0], beta[1], angles='xy', scale_units='xy',  scale=1, color='g')\n",
    "plt.text(*alpha, '$\\\\alpha$', size=12)\n",
    "plt.text(*beta, '$\\\\beta$', size=12)\n",
    "\n",
    "plt.show()\n",
    "    "
   ]
  },
  {
   "cell_type": "markdown",
   "metadata": {},
   "source": [
    "### 缩放"
   ]
  },
  {
   "cell_type": "code",
   "execution_count": 18,
   "metadata": {},
   "outputs": [
    {
     "data": {
      "image/png": "[encoded data removed]",
      "text/plain": [
       "<Figure size 432x288 with 1 Axes>"
      ]
     },
     "metadata": {
      "needs_background": "light"
     },
     "output_type": "display_data"
    }
   ],
   "source": [
    "import numpy as np\n",
    "import math\n",
    "import matplotlib.pyplot as pltscale\n",
    "\n",
    "\n",
    "def scale(s, alpha):\n",
    "    A = np.diag(s)\n",
    "    beta = A.dot(alpha)\n",
    "    return beta, A\n",
    "\n",
    "def circle(center, radius):\n",
    "    angles = np.linspace(0, 2*math.pi, num=40)\n",
    "    x0, y0 = center\n",
    "    x = [x0 + math.cos(angle) for angle in angles ]\n",
    "    y = [y0 + math.sin(angle) for angle in angles ]\n",
    "    return x, y\n",
    "\n",
    "x, y = circle([1, 1], 1)\n",
    "alpha = np.array([x, y])  \n",
    "\n",
    "# x scale 2 times. y scale 0.5 times.\n",
    "beta, A = scale([2, 0.5], alpha)\n",
    "new_x = beta[0,:]\n",
    "new_y = beta[1,:]\n",
    "plt.plot(x, y,color=\"blue\", linewidth=2)\n",
    "plt.plot(new_x, new_y,color=\"green\", linewidth=2)\n",
    "\n",
    "\n",
    "plt.axis('scaled')\n",
    "plt.xlim([-0.2, 4.2])\n",
    "plt.ylim([-0.2, 2.2])\n",
    "plt.xticks(np.arange(0, 4, 1))\n",
    "plt.yticks(np.arange(0, 2, 1))\n",
    "plt.grid(linestyle='-.')\n",
    "\n",
    "plt.quiver([0], [0], A[0,:], A[1,:], angles='xy', scale_units='xy',  scale=1)\n",
    "plt.text(*A[:,0], '$a_1$', size=12)\n",
    "plt.text(*A[:,1], '$a_2$', size=12)\n",
    "\n",
    "plt.show()"
   ]
  },
  {
   "cell_type": "markdown",
   "metadata": {},
   "source": [
    "### 缩放+旋转"
   ]
  },
  {
   "cell_type": "code",
   "execution_count": 19,
   "metadata": {},
   "outputs": [
    {
     "name": "stdout",
     "output_type": "stream",
     "text": [
      "[[ 1.73205081 -0.25      ]\n",
      " [ 1.          0.4330127 ]]\n"
     ]
    },
    {
     "data": {
      "image/png": "[encoded data removed]",
      "text/plain": [
       "<Figure size 432x288 with 1 Axes>"
      ]
     },
     "metadata": {
      "needs_background": "light"
     },
     "output_type": "display_data"
    }
   ],
   "source": [
    "import numpy as np\n",
    "import math\n",
    "import matplotlib.pyplot as pltscale\n",
    "\n",
    "\n",
    "def rotate(theta, alpha):\n",
    "    A = np.array([[math.cos(theta), -math.sin(theta)],\n",
    "                  [math.sin(theta), math.cos(theta)]])\n",
    "    beta = A.dot(alpha)\n",
    "    return beta, A\n",
    "\n",
    "def scale(s, alpha):\n",
    "    A = np.diag(s)\n",
    "    beta = A.dot(alpha)\n",
    "    return beta, A\n",
    "\n",
    "def circle(center, radius):\n",
    "    angles = np.linspace(0, 2*math.pi, num=40)\n",
    "    x0, y0 = center\n",
    "    x = [x0 + math.cos(angle) for angle in angles ]\n",
    "    y = [y0 + math.sin(angle) for angle in angles ]\n",
    "    return x, y\n",
    "\n",
    "x, y = circle([1, 1], 1)\n",
    "alpha = np.array([x, y])  \n",
    "\n",
    "# x scale 2 times. y scale 0.5 times.\n",
    "beta1, A1 = scale([2, 0.5], alpha)\n",
    "theta = 30/180*math.pi\n",
    "beta2, A2  = rotate(theta, beta1)\n",
    "\n",
    "A = A2.dot(A1)\n",
    "print(A)\n",
    "\n",
    "plt.plot(x, y,color=\"blue\", linewidth=2)\n",
    "new_x = beta1[0,:]\n",
    "new_y = beta1[1,:]\n",
    "plt.plot(new_x, new_y,color=\"green\", linewidth=2)\n",
    "new_x = beta2[0,:]\n",
    "new_y = beta2[1,:]\n",
    "plt.plot(new_x, new_y,color=\"red\", linewidth=2)\n",
    "\n",
    "\n",
    "plt.axis('scaled')\n",
    "plt.xlim([-0.5, 4.2])\n",
    "plt.ylim([-0.2, 2.8])\n",
    "plt.xticks(np.arange(0, 4.2, 1))\n",
    "plt.yticks(np.arange(0, 3, 1))\n",
    "plt.grid(linestyle='-.')\n",
    "\n",
    "plt.quiver([0], [0], A[0,:], A[1,:], angles='xy', scale_units='xy',  scale=1)\n",
    "plt.text(*A[:,0], '$a_1$', size=12)\n",
    "plt.text(*A[:,1], '$a_2$', size=12)\n",
    "\n",
    "plt.show()"
   ]
  },
  {
   "cell_type": "markdown",
   "metadata": {},
   "source": [
    "###  正交化\n",
    "orthogonalization"
   ]
  },
  {
   "cell_type": "code",
   "execution_count": 20,
   "metadata": {},
   "outputs": [
    {
     "name": "stdout",
     "output_type": "stream",
     "text": [
      "正交矩阵：\n",
      " [[ 0.83205029 -0.5547002 ]\n",
      " [ 0.5547002   0.83205029]]\n",
      "--------------------------------------------------\n",
      "矩阵(列向量互相垂直)：\n",
      " [[ 3.         -1.07692308]\n",
      " [ 2.          1.61538462]]\n"
     ]
    }
   ],
   "source": [
    "import numpy as np\n",
    "\n",
    "def orthogonal(V):\n",
    "    row, col = V.shape\n",
    "    b = V[:, 0]\n",
    "    a = b/np.linalg.norm(b)\n",
    "    B = b.reshape(row, 1)\n",
    "    A = a.reshape(row, 1)  \n",
    "    for i in range(1, col):\n",
    "        v = V[:, i]\n",
    "        b = v\n",
    "        for a in A.T:\n",
    "            b = b - v.dot(a)*a\n",
    "        a_new = b/np.linalg.norm(b)\n",
    "        B = np.column_stack((B, b))   # 矩阵合并向量\n",
    "        A = np.column_stack((A, a_new))\n",
    "    return A, B\n",
    "        \n",
    "V = np.array([[3, 1],\n",
    "              [2, 3]])\n",
    "A, B = orthogonal(V)\n",
    "\n",
    "print('正交矩阵：\\n', A)\n",
    "print('-'*50)\n",
    "print('矩阵(列向量互相垂直)：\\n', B)"
   ]
  },
  {
   "cell_type": "markdown",
   "metadata": {},
   "source": [
    "### 求解线性方程组"
   ]
  },
  {
   "cell_type": "code",
   "execution_count": 21,
   "metadata": {},
   "outputs": [
    {
     "name": "stdout",
     "output_type": "stream",
     "text": [
      "A = \n",
      "[[1 2]\n",
      " [0 1]\n",
      " [2 3]]\n",
      "\n",
      "y = \n",
      "[5 3 8]\n",
      "\n",
      "x = \n",
      "[-0.33333333  2.83333333]\n",
      "\n",
      "x_1 = \n",
      "[-0.33333333  2.83333333]\n",
      "\n"
     ]
    }
   ],
   "source": [
    "import numpy as np\n",
    "\n",
    "A = np.array([[1, 2],\n",
    "              [0, 1],\n",
    "              [2, 3]])\n",
    "  \n",
    "y = np.array([5, 3, 8])\n",
    "\n",
    "              \n",
    "print('A = \\n{}\\n'.format(A))                \n",
    "print('y = \\n{}\\n'.format(y))  \n",
    "\n",
    "x = np.linalg.inv(A.T.dot(A)).dot(A.T).dot(y)\n",
    "print('x = \\n{}\\n'.format(x))\n",
    "\n",
    "x_1 = np.linalg.pinv(A).dot(y)\n",
    "print('x_1 = \\n{}\\n'.format(x_1))\n",
    "\n",
    "np.testing.assert_array_almost_equal(x, x_1)"
   ]
  },
  {
   "cell_type": "markdown",
   "metadata": {},
   "source": [
    "上面代码中`np.linalg.pinv(A).dot(y)`，是求解[伪逆矩阵(pseudoinverse matrix)](https://baike.baidu.com/item/%E4%BC%AA%E9%80%86%E7%9F%A9%E9%98%B5/7397859)的函数，即$\\mathbf {(A^{T}A)^{-1}A^{T}}$。"
   ]
  },
  {
   "cell_type": "markdown",
   "metadata": {},
   "source": [
    "### 特征值和特征向量"
   ]
  },
  {
   "cell_type": "code",
   "execution_count": 22,
   "metadata": {},
   "outputs": [
    {
     "name": "stdout",
     "output_type": "stream",
     "text": [
      "A = \n",
      "[[3 1]\n",
      " [2 2]]\n",
      "eigenvalue = [4. 1.]\n",
      "eigenvector = \n",
      "[[ 0.70710678 -0.4472136 ]\n",
      " [ 0.70710678  0.89442719]]\n"
     ]
    },
    {
     "data": {
      "image/png": "[encoded data removed]",
      "text/plain": [
       "<Figure size 432x288 with 1 Axes>"
      ]
     },
     "metadata": {
      "needs_background": "light"
     },
     "output_type": "display_data"
    }
   ],
   "source": [
    "import numpy as np\n",
    "import math\n",
    "import matplotlib.pyplot as plt\n",
    "\n",
    "A = np.array([[3, 1], \n",
    "              [2, 2]])\n",
    "eigenvalue, eigenvector = np.linalg.eig(A)\n",
    "print('A = \\n{}'.format(A))\n",
    "print('eigenvalue = {}'.format(eigenvalue))\n",
    "print('eigenvector = \\n{}'.format(eigenvector))\n",
    "\n",
    "\n",
    "plt.axis('scaled')\n",
    "plt.xlim([-1.2, 4.2])\n",
    "plt.ylim([-0.2, 3.2])\n",
    "plt.xticks(np.arange(-1, 4.2, 1))\n",
    "plt.yticks(np.arange(0, 3.2, 1))\n",
    "plt.grid(linestyle='-.')\n",
    "\n",
    "plt.quiver([0], [0], A[0,:], A[1,:], angles='xy', scale_units='xy',  color='b', scale=1)\n",
    "plt.text(*A[:,0], '$a_1$', size=12)\n",
    "plt.text(*A[:,1], '$a_2$', size=12)\n",
    "\n",
    "V = eigenvector\n",
    "plt.quiver([0], [0], V[0,:], V[1,:], angles='xy', scale_units='xy', color='g', scale=1)\n",
    "plt.text(*V[:,0], '$v_1$', size=12)\n",
    "plt.text(*V[:,1], '$v_2$', size=12)\n",
    "\n",
    "np.testing.assert_array_almost_equal(A, V @ np.diag(eigenvalue) @ np.linalg.inv(V))\n",
    "\n",
    "plt.show()"
   ]
  },
  {
   "cell_type": "markdown",
   "metadata": {},
   "source": [
    "上图中，$ \\begin{bmatrix} \\mathbf {a_1} & \\mathbf {a_2} \\end{bmatrix}$ 所代表的线性变换可以看成是$ \\begin{bmatrix} \\mathbf {v_1} & \\mathbf {v_2} \\end{bmatrix}$ 向量空间中的$ \\begin{bmatrix} 4 & 0 \\\\ 0 & 1 \\end{bmatrix}$。"
   ]
  },
  {
   "cell_type": "markdown",
   "metadata": {},
   "source": [
    "### 对称矩阵的特征向量"
   ]
  },
  {
   "cell_type": "code",
   "execution_count": 23,
   "metadata": {},
   "outputs": [
    {
     "name": "stdout",
     "output_type": "stream",
     "text": [
      "A = \n",
      "[[3 1]\n",
      " [1 2]]\n",
      "eigenvalue = [3.61803399 1.38196601]\n",
      "eigenvector = \n",
      "[[ 0.85065081 -0.52573111]\n",
      " [ 0.52573111  0.85065081]]\n"
     ]
    },
    {
     "data": {
      "image/png": "[encoded data removed]",
      "text/plain": [
       "<Figure size 432x288 with 1 Axes>"
      ]
     },
     "metadata": {
      "needs_background": "light"
     },
     "output_type": "display_data"
    }
   ],
   "source": [
    "import numpy as np\n",
    "import math\n",
    "import matplotlib.pyplot as plt\n",
    "\n",
    "A = np.array([[3, 1], \n",
    "              [1, 2]])\n",
    "eigenvalue, eigenvector = np.linalg.eig(A)\n",
    "print('A = \\n{}'.format(A))\n",
    "print('eigenvalue = {}'.format(eigenvalue))\n",
    "print('eigenvector = \\n{}'.format(eigenvector))\n",
    "\n",
    "\n",
    "plt.axis('scaled')\n",
    "plt.xlim([-1.2, 4.2])\n",
    "plt.ylim([-0.2, 3.2])\n",
    "plt.xticks(np.arange(-1, 4.2, 1))\n",
    "plt.yticks(np.arange(0, 3.2, 1))\n",
    "plt.grid(linestyle='-.')\n",
    "\n",
    "plt.quiver([0], [0], A[0,:], A[1,:], angles='xy', scale_units='xy',  color='b', scale=1)\n",
    "plt.text(*A[:,0], '$a_1$', size=12)\n",
    "plt.text(*A[:,1], '$a_2$', size=12)\n",
    "\n",
    "V = eigenvector\n",
    "plt.quiver([0], [0], V[0,:], V[1,:], angles='xy', scale_units='xy', color='g', scale=1)\n",
    "plt.text(*V[:,0], '$v_1$', size=12)\n",
    "plt.text(*V[:,1], '$v_2$', size=12)\n",
    "\n",
    "np.testing.assert_array_almost_equal(A, V @ np.diag(eigenvalue) @ np.linalg.inv(V))\n",
    "\n",
    "plt.show()"
   ]
  },
  {
   "cell_type": "markdown",
   "metadata": {},
   "source": [
    "上图中$\\mathbf {v_1}$，$\\mathbf {v_2}$相互垂直，构成正交矩阵。"
   ]
  },
  {
   "cell_type": "markdown",
   "metadata": {},
   "source": [
    "### PCA原理\n",
    "\n",
    "使用协方差矩阵来获取正交坐标系。"
   ]
  },
  {
   "cell_type": "code",
   "execution_count": 24,
   "metadata": {
    "scrolled": false
   },
   "outputs": [
    {
     "name": "stdout",
     "output_type": "stream",
     "text": [
      "A = \n",
      "[[ 1.73205081 -0.25      ]\n",
      " [ 1.          0.4330127 ]]\n",
      "--------------------------------------------------\n",
      "eigenvalue = [35.0897057   1.79639115]\n",
      "eigenvector = \n",
      "[[ 0.872333  -0.4889122]\n",
      " [ 0.4889122  0.872333 ]]\n"
     ]
    },
    {
     "data": {
      "image/png": "[encoded data removed]",
      "text/plain": [
       "<Figure size 432x288 with 1 Axes>"
      ]
     },
     "metadata": {
      "needs_background": "light"
     },
     "output_type": "display_data"
    }
   ],
   "source": [
    "import numpy as np\n",
    "import math\n",
    "import matplotlib.pyplot as pltscale\n",
    "import random\n",
    "\n",
    "\n",
    "def rotate(theta, alpha):\n",
    "    A = np.array([[math.cos(theta), -math.sin(theta)],\n",
    "                  [math.sin(theta), math.cos(theta)]])\n",
    "    beta = A.dot(alpha)\n",
    "    return beta, A\n",
    "\n",
    "def scale(s, alpha):\n",
    "    A = np.diag(s)\n",
    "    beta = A.dot(alpha)\n",
    "    return beta, A\n",
    "\n",
    "def circle(center, radius):\n",
    "    angles = np.linspace(0, 2*math.pi, num=100)\n",
    "    x0, y0 = center\n",
    "    x = [x0 + math.cos(angle)*random.random() for angle in angles ]\n",
    "    y = [y0 + math.sin(angle)*random.random() for angle in angles ]\n",
    "    return x, y\n",
    "\n",
    "# 1. 构造数据100个点。这些点来自于一个圆里的点，经过伸缩，旋转，最后变成了变成了一个椭圆里的点。\n",
    "x, y = circle([1, 1], 1)\n",
    "alpha = np.array([x, y])  \n",
    "\n",
    "# x scale 2 times. y scale 0.5 times.\n",
    "beta1, A1 = scale([2, 0.5], alpha)\n",
    "theta = 30/180*math.pi\n",
    "beta2, A2  = rotate(theta, beta1)\n",
    "\n",
    "A = A2.dot(A1)\n",
    "print('A = \\n{}'.format(A))\n",
    "\n",
    "# plt.scatter(x, y,color=\"red\", alpha=0.5, s=10)\n",
    "new_x = beta1[0,:]\n",
    "new_y = beta1[1,:]\n",
    "# plt.scatter(new_x, new_y,color=\"green\", alpha=0.5, s=10)\n",
    "new_x = beta2[0,:]\n",
    "new_y = beta2[1,:]\n",
    "plt.scatter(new_x, new_y,color=\"blue\", alpha=0.5, s=5)\n",
    "\n",
    "plt.axis('scaled')\n",
    "plt.xlim([-0.5, 4.2])\n",
    "plt.ylim([-0.2, 2.8])\n",
    "plt.xticks(np.arange(0, 4.2, 1))\n",
    "plt.yticks(np.arange(0, 3, 1))\n",
    "plt.grid(linestyle='-.')\n",
    "\n",
    "\n",
    "# 2. 求取数据点协方差矩阵的特征向量\n",
    "X = beta2.T\n",
    "row, col = alpha.shape\n",
    "X_new = X - np.mean(X, axis=0)\n",
    "cov = 1/row*(X_new).T @ X_new\n",
    "eigenvalue, eigenvector = np.linalg.eig(cov)\n",
    "\n",
    "print('-'*50)\n",
    "print('eigenvalue = {}'.format(eigenvalue))\n",
    "print('eigenvector = \\n{}'.format(eigenvector))\n",
    "center = np.mean(X, axis=0)\n",
    "B = eigenvector \n",
    "\n",
    "plt.quiver(center[0], center[1], B[0,:], B[1,:], angles='xy', scale_units='xy',  scale=1)\n",
    "plt.text(*B[:,0]+center, '$v_1$', size=12, color='g')\n",
    "plt.text(*B[:,1]+center, '$v_2$', size=12, color='g')\n",
    "\n",
    "plt.show()"
   ]
  },
  {
   "cell_type": "markdown",
   "metadata": {},
   "source": [
    "可以看到特征矩阵等于$\\mathbf A$的列向量单位化的。"
   ]
  },
  {
   "cell_type": "markdown",
   "metadata": {},
   "source": [
    "### PCA+MNIST手写数字识别\n",
    "\n",
    "#### 数据"
   ]
  },
  {
   "cell_type": "code",
   "execution_count": 34,
   "metadata": {},
   "outputs": [
    {
     "name": "stderr",
     "output_type": "stream",
     "text": [
      "2019-11-29 02:16:10,199: INFO: deployment = jupyter\n",
      "2019-11-29 02:16:10,201: INFO: base_path = /tf/eipi10/qbz95/qbz95\n",
      "2019-11-29 02:16:10,202: INFO: data_path = /tf/eipi10/qbz95/data\n",
      "2019-11-29 02:16:10,246: INFO: Already downloaded train-images-idx3-ubyte.gz on /tf/eipi10/qbz95/data\n",
      "2019-11-29 02:16:10,248: INFO: Already downloaded train-labels-idx1-ubyte.gz on /tf/eipi10/qbz95/data\n",
      "2019-11-29 02:16:10,249: INFO: Already downloaded t10k-images-idx3-ubyte.gz on /tf/eipi10/qbz95/data\n",
      "2019-11-29 02:16:10,250: INFO: Already downloaded t10k-labels-idx1-ubyte.gz on /tf/eipi10/qbz95/data\n"
     ]
    }
   ],
   "source": [
    "import sys\n",
    "\n",
    "base_path = '/tf/eipi10/qbz95'\n",
    "sys.path.append(base_path)\n",
    "\n",
    "from qbz95.config import config\n",
    "from qbz95.ml3.utils.data.datasets import MNIST\n",
    "\n",
    "train_data_path, train_label_path, test_data_path, test_label_path = MNIST.download(config.data_path())\n"
   ]
  },
  {
   "cell_type": "code",
   "execution_count": 35,
   "metadata": {},
   "outputs": [
    {
     "ename": "ModuleNotFoundError",
     "evalue": "No module named 'sklearn'",
     "output_type": "error",
     "traceback": [
      "\u001b[0;31m\u001b[0m",
      "\u001b[0;31mModuleNotFoundError\u001b[0mTraceback (most recent call last)",
      "\u001b[0;32m<ipython-input-35-0db4c10d4645>\u001b[0m in \u001b[0;36m<module>\u001b[0;34m\u001b[0m\n\u001b[0;32m----> 1\u001b[0;31m \u001b[0;32mfrom\u001b[0m \u001b[0msklearn\u001b[0m \u001b[0;32mimport\u001b[0m \u001b[0mdatasets\u001b[0m\u001b[0;34m\u001b[0m\u001b[0;34m\u001b[0m\u001b[0m\n\u001b[0m\u001b[1;32m      2\u001b[0m \u001b[0;34m\u001b[0m\u001b[0m\n\u001b[1;32m      3\u001b[0m \u001b[0;31m# 加载 `digits` 数据集\u001b[0m\u001b[0;34m\u001b[0m\u001b[0;34m\u001b[0m\u001b[0;34m\u001b[0m\u001b[0m\n\u001b[1;32m      4\u001b[0m \u001b[0mdigits\u001b[0m \u001b[0;34m=\u001b[0m \u001b[0mdatasets\u001b[0m\u001b[0;34m.\u001b[0m\u001b[0mload_digits\u001b[0m\u001b[0;34m(\u001b[0m\u001b[0;34m)\u001b[0m\u001b[0;34m\u001b[0m\u001b[0;34m\u001b[0m\u001b[0m\n\u001b[1;32m      5\u001b[0m \u001b[0;34m\u001b[0m\u001b[0m\n",
      "\u001b[0;31mModuleNotFoundError\u001b[0m: No module named 'sklearn'"
     ]
    }
   ],
   "source": [
    "from sklearn import datasets\n",
    "\n",
    "# 加载 `digits` 数据集\n",
    "digits = datasets.load_digits()\n",
    "\n",
    "\n",
    "# 打印 `digits` 数据 \n",
    "dir(digits)"
   ]
  },
  {
   "cell_type": "code",
   "execution_count": 41,
   "metadata": {},
   "outputs": [],
   "source": [
    "from __future__ import print_function, division\n",
    "import os\n",
    "import torch\n",
    "import pandas as pd\n",
    "from skimage import io, transform\n",
    "import numpy as np\n",
    "import matplotlib.pyplot as plt\n",
    "from torch.utils.data import Dataset, DataLoader\n",
    "from torchvision import transforms, utils\n",
    "\n",
    "# Ignore warnings\n",
    "import warnings\n",
    "warnings.filterwarnings(\"ignore\")\n",
    "\n",
    "plt.ion()   # interactive mode"
   ]
  },
  {
   "cell_type": "code",
   "execution_count": 43,
   "metadata": {},
   "outputs": [
    {
     "data": {
      "text/plain": [
       "array([[4.09594570e-316, 4.17085080e-316, 2.12199579e-314],\n",
       "       [3.99164860e+151, 2.39988652e+262, 5.53034777e+228],\n",
       "       [4.90099482e+252, 5.99918171e-310, 3.95252517e-322]])"
      ]
     },
     "execution_count": 43,
     "metadata": {},
     "output_type": "execute_result"
    }
   ],
   "source": [
    "np.empty([3,3])"
   ]
  },
  {
   "cell_type": "code",
   "execution_count": null,
   "metadata": {},
   "outputs": [],
   "source": []
  }
 ],
 "metadata": {
  "kernelspec": {
   "display_name": "Python 3",
   "language": "python",
   "name": "python3"
  },
  "language_info": {
   "codemirror_mode": {
    "name": "ipython",
    "version": 3
   },
   "file_extension": ".py",
   "mimetype": "text/x-python",
   "name": "python",
   "nbconvert_exporter": "python",
   "pygments_lexer": "ipython3",
   "version": "3.6.8"
  }
 },
 "nbformat": 4,
 "nbformat_minor": 2
}
