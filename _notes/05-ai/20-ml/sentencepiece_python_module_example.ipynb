{
 "cells": [
  {
   "cell_type": "markdown",
   "metadata": {
    "colab_type": "text",
    "id": "view-in-github"
   },
   "source": [
    "<a href=\"https://colab.research.google.com/github/google/sentencepiece/blob/master/python/sentencepiece_python_module_example.ipynb\" target=\"_parent\"><img src=\"https://colab.research.google.com/assets/colab-badge.svg\" alt=\"Open In Colab\"/></a>"
   ]
  },
  {
   "cell_type": "markdown",
   "metadata": {
    "colab_type": "text",
    "id": "T9BDzLVkUFT4"
   },
   "source": [
    "# Sentencepiece python module\n",
    "\n",
    "\n",
    "This notebook describes comprehensive examples of sentencepiece Python module. \n",
    "Since Python module calls C++ API through SWIG,  this document is also useful for developing C++ client."
   ]
  },
  {
   "cell_type": "markdown",
   "metadata": {
    "colab_type": "text",
    "id": "kIgXb6P2Yg6g"
   },
   "source": [
    "## Install and data preparation\n",
    "\n",
    "We use the small training data (botchan.txt) in this example. \n",
    "([Botchan](https://en.wikipedia.org/wiki/Botchan) is a novel written by Natsume Sōseki in 1906.  The sample is English-translated one.)"
   ]
  },
  {
   "cell_type": "code",
   "execution_count": 0,
   "metadata": {
    "colab": {
     "base_uri": "https://localhost:8080/",
     "height": 240
    },
    "colab_type": "code",
    "id": "SUcAbKnRVAv6",
    "outputId": "d9710f00-25e7-4fe2-d3fb-a24ab974a18f"
   },
   "outputs": [
    {
     "name": "stdout",
     "output_type": "stream",
     "text": [
      "Requirement already satisfied: sentencepiece in /usr/local/lib/python3.6/dist-packages (0.1.81)\n",
      "--2019-03-27 21:17:13--  https://raw.githubusercontent.com/google/sentencepiece/master/data/botchan.txt\n",
      "Resolving raw.githubusercontent.com (raw.githubusercontent.com)... 151.101.0.133, 151.101.64.133, 151.101.128.133, ...\n",
      "Connecting to raw.githubusercontent.com (raw.githubusercontent.com)|151.101.0.133|:443... connected.\n",
      "HTTP request sent, awaiting response... 200 OK\n",
      "Length: 278779 (272K) [text/plain]\n",
      "Saving to: ‘botchan.txt.1’\n",
      "\n",
      "botchan.txt.1       100%[===================>] 272.25K  --.-KB/s    in 0.05s   \n",
      "\n",
      "2019-03-27 21:17:13 (5.50 MB/s) - ‘botchan.txt.1’ saved [278779/278779]\n",
      "\n"
     ]
    }
   ],
   "source": [
    "!pip install sentencepiece\n",
    "!wget https://raw.githubusercontent.com/google/sentencepiece/master/data/botchan.txt"
   ]
  },
  {
   "cell_type": "markdown",
   "metadata": {
    "colab_type": "text",
    "id": "-k5KbVgiYae-"
   },
   "source": [
    "## Basic  end-to-end example\n",
    "\n"
   ]
  },
  {
   "cell_type": "code",
   "execution_count": 2,
   "metadata": {
    "ExecuteTime": {
     "end_time": "2021-08-16T05:50:16.255195Z",
     "start_time": "2021-08-16T05:50:15.886602Z"
    },
    "cellView": "code",
    "colab": {
     "base_uri": "https://localhost:8080/",
     "height": 91
    },
    "colab_type": "code",
    "id": "ee9W6wGnVteW",
    "outputId": "c8cbe6d9-d052-4e6f-b5ab-270445a84f93"
   },
   "outputs": [
    {
     "name": "stdout",
     "output_type": "stream",
     "text": [
      "['▁This', '▁is', '▁a', '▁t', 'est']\n",
      "[212, 32, 10, 587, 446]\n",
      "This is a test\n",
      "okn  k star\n"
     ]
    }
   ],
   "source": [
    "import sentencepiece as spm\n",
    "\n",
    "# 从botchan.txt中进行训练，产生m.model和m.vocab连个文件。m.vocab是一个引用（reference），在词切分中没有使用。\n",
    "spm.SentencePieceTrainer.train('--input=botchan.txt --model_prefix=m --vocab_size=2000')\n",
    "\n",
    "# 加载模型\n",
    "sp = spm.SentencePieceProcessor()\n",
    "sp.load('m.model')\n",
    "\n",
    "# encode: text => id\n",
    "print(sp.encode_as_pieces('This is a test'))\n",
    "print(sp.encode_as_ids('This is a test'))\n",
    "\n",
    "# decode: id => text\n",
    "print(sp.decode_pieces(['▁This', '▁is', '▁a', '▁t', 'est']))\n",
    "print(sp.decode_ids([209, 31, 9, 375, 586]))"
   ]
  },
  {
   "cell_type": "code",
   "execution_count": 3,
   "metadata": {
    "ExecuteTime": {
     "end_time": "2021-08-16T05:50:27.507584Z",
     "start_time": "2021-08-16T05:50:27.502259Z"
    },
    "colab": {
     "base_uri": "https://localhost:8080/",
     "height": 147
    },
    "colab_type": "code",
    "id": "4vHnQbBOltZo",
    "outputId": "9bb1ecaf-2883-494c-e34b-5616efac126a"
   },
   "outputs": [
    {
     "name": "stdout",
     "output_type": "stream",
     "text": [
      "2000\n",
      "ok\n",
      "212\n",
      "0\n",
      "<unk> False\n",
      "<s> True\n",
      "</s> True\n"
     ]
    }
   ],
   "source": [
    "# 返回词表的大小\n",
    "print(sp.get_piece_size())\n",
    "\n",
    "# id <=> piece conversion\n",
    "print(sp.id_to_piece(209))\n",
    "print(sp.piece_to_id('▁This'))\n",
    "\n",
    "# 返回 0 for unknown tokens\n",
    "print(sp.piece_to_id('__MUST_BE_UNKNOWN__'))\n",
    "\n",
    "# 默认定义\n",
    "# 0: 表示 unknown tokens\n",
    "# 1: <s> 单词开始\n",
    "# 2: </s> 单词结束\n",
    "for id in range(3):\n",
    "  print(sp.id_to_piece(id), sp.is_control(id))"
   ]
  },
  {
   "cell_type": "markdown",
   "metadata": {
    "colab_type": "text",
    "id": "MRv6EeC2Y2PE"
   },
   "source": [
    "## Loads model from byte stream\n",
    "\n",
    "Sentencepiece's model file is just a serialized [protocol buffer](https://developers.google.com/protocol-buffers/). We can instantiate sentencepiece processor from byte object with **load_from_serialized_proto** method."
   ]
  },
  {
   "cell_type": "code",
   "execution_count": 4,
   "metadata": {
    "ExecuteTime": {
     "end_time": "2021-08-16T05:50:56.269061Z",
     "start_time": "2021-08-16T05:50:54.457085Z"
    },
    "colab": {
     "base_uri": "https://localhost:8080/",
     "height": 36
    },
    "colab_type": "code",
    "id": "0Bdi9SuxYAud",
    "outputId": "b1566541-288e-4aa3-9c75-e494d0ab276a"
   },
   "outputs": [
    {
     "name": "stdout",
     "output_type": "stream",
     "text": [
      "['▁this', '▁is', '▁a', '▁t', 'est']\n"
     ]
    }
   ],
   "source": [
    "import tensorflow as tf\n",
    "\n",
    "# Assumes that m.model is stored in non-Posix file system.\n",
    "serialized_model_proto = tf.io.gfile.GFile('m.model', 'rb').read()\n",
    "\n",
    "sp = spm.SentencePieceProcessor()\n",
    "sp.load_from_serialized_proto(serialized_model_proto)\n",
    "\n",
    "print(sp.encode_as_pieces('this is a test'))"
   ]
  },
  {
   "cell_type": "markdown",
   "metadata": {
    "colab_type": "text",
    "id": "imfPyYlVZmxz"
   },
   "source": [
    "## User defined and control symbols\n",
    "\n",
    "We can define special tokens (symbols) to tweak the DNN behavior through the tokens.   Typical examples are  [BERT](https://arxiv.org/abs/1810.04805)'s special symbols., e.g., [SEP] and [CLS].\n",
    "\n",
    "由两种特别字符：\n",
    "\n",
    "- 用户定义字符 **user defined symbols**: Always treated as one token in any context. These symbols can appear in the input sentence. \n",
    "- 控制字符 **control symbol**:  We only reserve ids for these tokens. Even if these tokens appear in the input text, they are not handled as one token. User needs to insert ids explicitly after encoding.\n",
    "\n",
    "For experimental purpose, user defined symbols are easier to use since user can change the behavior just by modifying the input text. However,  we want to use control symbols in the production setting in order to avoid users from tweaking the behavior by feeding these special symbols in their input text."
   ]
  },
  {
   "cell_type": "code",
   "execution_count": 5,
   "metadata": {
    "ExecuteTime": {
     "end_time": "2021-08-16T05:51:36.023454Z",
     "start_time": "2021-08-16T05:51:35.645644Z"
    },
    "colab": {
     "base_uri": "https://localhost:8080/",
     "height": 110
    },
    "colab_type": "code",
    "id": "dngckiPMcWbA",
    "outputId": "e52883b1-6452-4a90-8802-945c9ac9d5b5"
   },
   "outputs": [
    {
     "name": "stdout",
     "output_type": "stream",
     "text": [
      "['▁this', '▁is', '▁a', '▁t', 'est', '<sep>', '▁he', 'll', 'o', '▁world', '<cls>']\n",
      "3\n",
      "4\n",
      "3= <sep>\n",
      "4= <cls>\n"
     ]
    }
   ],
   "source": [
    "## 用户自定义两个字符<sep>,<cls>\n",
    "spm.SentencePieceTrainer.train('--input=botchan.txt --model_prefix=m_user --user_defined_symbols=<sep>,<cls> --vocab_size=2000')\n",
    "\n",
    "sp_user = spm.SentencePieceProcessor()\n",
    "sp_user.load('m_user.model')\n",
    "\n",
    "# ids are reserved in both mode.\n",
    "# <unk>=0, <s>=1, </s>=2, <sep>=3, <cls>=4\n",
    "# user defined symbols allow these symbol to apper in the text.\n",
    "print(sp_user.encode_as_pieces('this is a test<sep> hello world<cls>'))\n",
    "print(sp_user.piece_to_id('<sep>'))  # 3\n",
    "print(sp_user.piece_to_id('<cls>'))  # 4\n",
    "print('3=', sp_user.decode_ids([3]))  # decoded to <sep>\n",
    "print('4=', sp_user.decode_ids([4]))  # decoded to <cls>"
   ]
  },
  {
   "cell_type": "code",
   "execution_count": 6,
   "metadata": {
    "ExecuteTime": {
     "end_time": "2021-07-02T08:20:12.031320Z",
     "start_time": "2021-07-02T08:20:11.631067Z"
    },
    "colab": {
     "base_uri": "https://localhost:8080/",
     "height": 110
    },
    "colab_type": "code",
    "id": "5awRJ0y1oYm-",
    "outputId": "a5fa1ef9-ee5f-4f7d-b6bd-b611979b7350"
   },
   "outputs": [
    {
     "name": "stdout",
     "output_type": "stream",
     "text": [
      "['▁this', '▁is', '▁a', '▁t', 'est', '<', 'se', 'p', '>', '▁he', 'll', 'o', '▁world', '<', 'c', 'l', 's', '>']\n",
      "3\n",
      "4\n",
      "3= \n",
      "4= \n"
     ]
    }
   ],
   "source": [
    "## 控制字符\n",
    "spm.SentencePieceTrainer.train('--input=botchan.txt --model_prefix=m_ctrl --control_symbols=<sep>,<cls> --vocab_size=2000')\n",
    "\n",
    "sp_ctrl = spm.SentencePieceProcessor()\n",
    "sp_ctrl.load('m_ctrl.model')\n",
    "\n",
    "# control symbols just reserve ids.\n",
    "print(sp_ctrl.encode_as_pieces('this is a test<sep> hello world<cls>'))\n",
    "print(sp_ctrl.piece_to_id('<sep>'))  # 3\n",
    "print(sp_ctrl.piece_to_id('<cls>'))  # 4\n",
    "print('3=', sp_ctrl.decode_ids([3]))  # decoded to empty\n",
    "print('4=', sp_ctrl.decode_ids([4]))  # decoded to empty"
   ]
  },
  {
   "cell_type": "markdown",
   "metadata": {
    "colab_type": "text",
    "id": "8ppZck91s0rq"
   },
   "source": [
    " BOS/EOS (&lt;s&gt;, &lt;/s&gt;) are defined as control symbols, but we can define them as user defined symbols."
   ]
  },
  {
   "cell_type": "code",
   "execution_count": 6,
   "metadata": {
    "ExecuteTime": {
     "end_time": "2021-08-16T05:51:52.078918Z",
     "start_time": "2021-08-16T05:51:51.700994Z"
    },
    "colab": {
     "base_uri": "https://localhost:8080/",
     "height": 54
    },
    "colab_type": "code",
    "id": "PQoZ8paVhcEL",
    "outputId": "c17d2ae2-17cd-4875-997c-fe66dba23dde"
   },
   "outputs": [
    {
     "name": "stdout",
     "output_type": "stream",
     "text": [
      "['▁', '<', 's', '>', '▁he', 'll', 'o', '</', 's', '>']\n",
      "['▁', '<s>', '▁he', 'll', 'o', '</s>']\n"
     ]
    }
   ],
   "source": [
    "spm.SentencePieceTrainer.train('--input=botchan.txt --model_prefix=m_bos_as_user --user_defined_symbols=<s>,</s> --vocab_size=2000')\n",
    "\n",
    "sp = spm.SentencePieceProcessor()\n",
    "sp.load('m.model')\n",
    "print(sp.encode_as_pieces('<s> hello</s>'))   # <s>,</s> are segmented. (default behavior)\n",
    "\n",
    "sp = spm.SentencePieceProcessor()\n",
    "sp.load('m_bos_as_user.model')\n",
    "print(sp.encode_as_pieces('<s> hello</s>'))   # <s>,</s> are handled as one token."
   ]
  },
  {
   "cell_type": "markdown",
   "metadata": {
    "colab_type": "text",
    "id": "RZ2GjO5Tmjk9"
   },
   "source": [
    "## Manipulating BOS/EOS/EOS/PAD symbols\n",
    "\n",
    "BOS, EOS, UNK, and PAD ids can be obtained with **bos_id()**, **eos_id()**,  **unk_id()**, and **pad_id()** methods. We can explicitly insert these ids as follows."
   ]
  },
  {
   "cell_type": "code",
   "execution_count": 7,
   "metadata": {
    "ExecuteTime": {
     "end_time": "2021-08-16T05:52:09.918425Z",
     "start_time": "2021-08-16T05:52:09.548144Z"
    },
    "colab": {
     "base_uri": "https://localhost:8080/",
     "height": 128
    },
    "colab_type": "code",
    "id": "UtFQqK3tmp7G",
    "outputId": "03e82bec-be40-4574-ab62-c66cdc3f28a6"
   },
   "outputs": [
    {
     "name": "stdout",
     "output_type": "stream",
     "text": [
      "bos= 1\n",
      "eos= 2\n",
      "unk= 0\n",
      "pad= -1\n",
      "[9, 1827, 1040]\n",
      "[1, 9, 1827, 1040, 2]\n"
     ]
    }
   ],
   "source": [
    "spm.SentencePieceTrainer.train('--input=botchan.txt --model_prefix=m --vocab_size=2000')\n",
    "\n",
    "sp = spm.SentencePieceProcessor()\n",
    "sp.load('m.model')\n",
    "\n",
    "print('bos=', sp.bos_id())\n",
    "print('eos=', sp.eos_id())\n",
    "print('unk=', sp.unk_id())\n",
    "print('pad=', sp.pad_id())  # disabled by default\n",
    "\n",
    "\n",
    "print(sp.encode_as_ids('Hello world'))\n",
    "\n",
    "# Prepend or append bos/eos ids.\n",
    "print([sp.bos_id()] + sp.encode_as_ids('Hello world') + [sp.eos_id()])"
   ]
  },
  {
   "cell_type": "markdown",
   "metadata": {
    "colab_type": "text",
    "id": "2CLaMlHUh4Dk"
   },
   "source": [
    "## Changing the vocab id and surface representation of UNK/BOS/EOS/PAD symbols\n",
    "\n",
    "默认定义\n",
    "By default, UNK/BOS/EOS/PAD tokens and their ids are defined as follows:\n",
    "\n",
    "|token|UNK|BOS|EOS|PAD|\n",
    "---|---\n",
    "|surface|&lt;unk&gt;|&lt;s&gt;|&lt;/s&gt;|&lt;pad&gt;|\n",
    "|id|0|1|2|undefined (-1)|\n",
    "\n",
    "可以通过下面的命令，修改这个定义顺序。\n",
    "\n",
    "We can change these mappings with **--{unk|bos|eos|pad}_id** and **--{unk|bos|eos|pad}_piece** flags."
   ]
  },
  {
   "cell_type": "code",
   "execution_count": 21,
   "metadata": {
    "ExecuteTime": {
     "end_time": "2021-07-02T08:33:29.234841Z",
     "start_time": "2021-07-02T08:33:28.045036Z"
    },
    "colab": {
     "base_uri": "https://localhost:8080/",
     "height": 91
    },
    "colab_type": "code",
    "id": "PKn1f3eih_We",
    "outputId": "a9349dd9-0cd7-49d7-8ed3-5b35658b3116"
   },
   "outputs": [
    {
     "name": "stdout",
     "output_type": "stream",
     "text": [
      " ⁇  <unk> False\n",
      " <s> True\n",
      " </s> True\n",
      ", , False\n",
      "--------------------------------------------------\n",
      " [PAD] True\n",
      " ⁇  [UNK] False\n",
      " [BOS] True\n",
      " [EOS] True\n",
      "--------------------------------------------------\n",
      " ⁇  [UNK] False\n",
      " [BOS] True\n",
      " [EOS] True\n",
      ", , False\n"
     ]
    }
   ],
   "source": [
    "spm.SentencePieceTrainer.train('--input=botchan.txt --vocab_size=2000 --model_prefix=m ')\n",
    "sp = spm.SentencePieceProcessor()\n",
    "sp.load('m.model')\n",
    "\n",
    "\n",
    "for id in range(4):\n",
    "    print(sp.decode_ids([id]), sp.id_to_piece(id), sp.is_control(id))\n",
    "    \n",
    "print('-'*50)\n",
    "spm.SentencePieceTrainer.train('--input=botchan.txt --vocab_size=2000 --model_prefix=m --pad_id=0 --unk_id=1 --bos_id=2 --eos_id=3 --pad_piece=[PAD] --unk_piece=[UNK] --bos_piece=[BOS] --eos_piece=[EOS]')\n",
    "sp = spm.SentencePieceProcessor()\n",
    "sp.load('m.model')\n",
    "\n",
    "\n",
    "for id in range(4):\n",
    "    print(sp.decode_ids([id]), sp.id_to_piece(id), sp.is_control(id))\n",
    "    \n",
    "    \n",
    "print('-'*50)\n",
    "spm.SentencePieceTrainer.train('--input=botchan.txt --vocab_size=2000 --model_prefix=m  --pad_piece=[PAD] --unk_piece=[UNK] --bos_piece=[BOS] --eos_piece=[EOS]')\n",
    "sp = spm.SentencePieceProcessor()\n",
    "sp.load('m.model')\n",
    "\n",
    "\n",
    "for id in range(4):\n",
    "    print(sp.decode_ids([id]), sp.id_to_piece(id), sp.is_control(id))    "
   ]
  },
  {
   "cell_type": "markdown",
   "metadata": {
    "colab_type": "text",
    "id": "jPVnkpQstMOw"
   },
   "source": [
    "When -1 is set,  this special symbol is disabled. UNK must not be undefined."
   ]
  },
  {
   "cell_type": "code",
   "execution_count": 16,
   "metadata": {
    "ExecuteTime": {
     "end_time": "2021-07-02T08:30:03.481523Z",
     "start_time": "2021-07-02T08:30:03.055556Z"
    },
    "colab": {
     "base_uri": "https://localhost:8080/",
     "height": 73
    },
    "colab_type": "code",
    "id": "59jHBemKlU8b",
    "outputId": "893ce083-7a31-468c-a49c-33d4ba962014"
   },
   "outputs": [
    {
     "name": "stdout",
     "output_type": "stream",
     "text": [
      "0\n",
      "0\n",
      "0\n"
     ]
    }
   ],
   "source": [
    "# Disable BOS/EOS\n",
    "spm.SentencePieceTrainer.train('--input=botchan.txt --vocab_size=2000 --model_prefix=m --bos_id=-1 --eos_id=-1')\n",
    "sp = spm.SentencePieceProcessor()\n",
    "sp.load('m.model')\n",
    "\n",
    "# <s>, </s> are UNK.\n",
    "print(sp.unk_id())\n",
    "print(sp.piece_to_id('<s>'))\n",
    "print(sp.piece_to_id('</s>'))"
   ]
  },
  {
   "cell_type": "markdown",
   "metadata": {
    "colab_type": "text",
    "id": "frGQ-lhkU03z"
   },
   "source": [
    "UNK id is decoded into U+2047\t(⁇) by default.  We can change UNK surface with **--unk_surface=&lt;STR&gt;** flag."
   ]
  },
  {
   "cell_type": "code",
   "execution_count": 17,
   "metadata": {
    "ExecuteTime": {
     "end_time": "2021-07-02T08:30:47.107933Z",
     "start_time": "2021-07-02T08:30:46.308745Z"
    },
    "colab": {
     "base_uri": "https://localhost:8080/",
     "height": 54
    },
    "colab_type": "code",
    "id": "S34JDUUAVe41",
    "outputId": "25b0349b-4ddd-40f3-a7fb-1f4810b645c2"
   },
   "outputs": [
    {
     "name": "stdout",
     "output_type": "stream",
     "text": [
      " ⁇ \n",
      "__UNKNOWN__\n"
     ]
    }
   ],
   "source": [
    "spm.SentencePieceTrainer.train('--input=botchan.txt --vocab_size=2000 --model_prefix=m')\n",
    "sp = spm.SentencePieceProcessor()\n",
    "sp.load('m.model')\n",
    "print(sp.decode_ids([sp.unk_id()]))   # default is U+2047\n",
    "\n",
    "spm.SentencePieceTrainer.train('--input=botchan.txt --vocab_size=2000 --model_prefix=m --unk_surface=__UNKNOWN__')\n",
    "sp = spm.SentencePieceProcessor()\n",
    "sp.load('m.model')\n",
    "print(sp.decode_ids([sp.unk_id()])) "
   ]
  },
  {
   "cell_type": "markdown",
   "metadata": {
    "colab_type": "text",
    "id": "5vDXA3Q6kjCS"
   },
   "source": [
    "## Sampling and nbest segmentation for subword regularization\n",
    "\n",
    "When **--model_type=unigram** (default) is used,  we can perform sampling and n-best segmentation for data augmentation. See subword regularization paper [[kudo18]](https://www.google.com/search?q=subword+regularization&rlz=1CAASUL_enJP841&oq=subword+regu&aqs=chrome.0.69i59j69i61j69i57j69i61l2j0.1571j0j7&sourceid=chrome&ie=UTF-8) for more detail."
   ]
  },
  {
   "cell_type": "code",
   "execution_count": 22,
   "metadata": {
    "ExecuteTime": {
     "end_time": "2021-07-02T08:34:04.068495Z",
     "start_time": "2021-07-02T08:34:03.675558Z"
    },
    "colab": {
     "base_uri": "https://localhost:8080/",
     "height": 388
    },
    "colab_type": "code",
    "id": "nSQp93qflZO3",
    "outputId": "d5b45b62-2789-4879-b80b-f441e8b594af"
   },
   "outputs": [
    {
     "name": "stdout",
     "output_type": "stream",
     "text": [
      "['▁', 'he', 'll', 'o', '▁', 'wo', 'r', 'ld']\n",
      "['▁', 'he', 'll', 'o', '▁', 'wo', 'r', 'ld']\n",
      "['▁he', 'l', 'l', 'o', '▁wor', 'ld']\n",
      "['▁he', 'll', 'o', '▁w', 'o', 'r', 'l', 'd']\n",
      "['▁he', 'll', 'o', '▁wor', 'l', 'd']\n",
      "['▁', 'h', 'e', 'll', 'o', '▁w', 'o', 'r', 'l', 'd']\n",
      "['▁he', 'll', 'o', '▁', 'w', 'or', 'ld']\n",
      "['▁', 'h', 'el', 'l', 'o', '▁wor', 'ld']\n",
      "['▁', 'he', 'll', 'o', '▁wor', 'ld']\n",
      "['▁he', 'll', 'o', '▁wor', 'l', 'd']\n",
      "[29, 134, 44, 1386, 58, 25]\n",
      "[9, 117, 20, 58, 58, 44, 9, 89, 44, 47, 58, 25]\n",
      "[9, 117, 20, 134, 44, 1040]\n",
      "[29, 134, 44, 1386, 632]\n",
      "[29, 58, 58, 44, 1386, 632]\n",
      "[29, 58, 58, 44, 204, 114, 58, 25]\n",
      "[29, 58, 58, 44, 1386, 632]\n",
      "[9, 787, 134, 44, 9, 89, 44, 47, 632]\n",
      "[29, 134, 44, 204, 114, 632]\n",
      "[9, 787, 134, 44, 9, 1169, 47, 58, 25]\n"
     ]
    }
   ],
   "source": [
    "spm.SentencePieceTrainer.train('--input=botchan.txt --model_prefix=m --vocab_size=2000')\n",
    "\n",
    "# Can obtain different segmentations per request.\n",
    "# There are two hyperparamenters for sampling (nbest_size and inverse temperature). see the paper [kudo18] for detail.\n",
    "for n in range(10):\n",
    "  print(sp.sample_encode_as_pieces('hello world', -1, 0.1))\n",
    "  \n",
    "for n in range(10):\n",
    "  print(sp.sample_encode_as_ids('hello world', -1, 0.1))"
   ]
  },
  {
   "cell_type": "code",
   "execution_count": 23,
   "metadata": {
    "ExecuteTime": {
     "end_time": "2021-07-02T08:34:29.400948Z",
     "start_time": "2021-07-02T08:34:29.396535Z"
    },
    "colab": {
     "base_uri": "https://localhost:8080/",
     "height": 74
    },
    "colab_type": "code",
    "id": "9V1snUZdlb_v",
    "outputId": "bae2ca99-aca3-4013-c240-53b09a0bb684"
   },
   "outputs": [
    {
     "name": "stdout",
     "output_type": "stream",
     "text": [
      "[['▁he', 'll', 'o', '▁world'], ['▁he', 'l', 'l', 'o', '▁world'], ['▁', 'he', 'll', 'o', '▁world'], ['▁he', 'll', 'o', '▁wor', 'ld'], ['▁', 'h', 'e', 'll', 'o', '▁world'], ['▁he', 'll', 'o', '▁wor', 'l', 'd'], ['▁', 'h', 'el', 'l', 'o', '▁world'], ['▁', 'he', 'l', 'l', 'o', '▁world'], ['▁he', 'll', 'o', '▁w', 'or', 'ld'], ['▁he', 'l', 'l', 'o', '▁wor', 'ld']]\n",
      "[[29, 134, 44, 1040], [29, 58, 58, 44, 1040], [9, 787, 134, 44, 1040], [29, 134, 44, 1386, 632], [9, 117, 20, 134, 44, 1040], [29, 134, 44, 1386, 58, 25], [9, 117, 383, 58, 44, 1040], [9, 787, 58, 58, 44, 1040], [29, 134, 44, 204, 114, 632], [29, 58, 58, 44, 1386, 632]]\n"
     ]
    }
   ],
   "source": [
    "# get 10 best\n",
    "print(sp.nbest_encode_as_pieces('hello world', 10))\n",
    "print(sp.nbest_encode_as_ids('hello world', 10))"
   ]
  },
  {
   "cell_type": "markdown",
   "metadata": {
    "colab_type": "text",
    "id": "cH6cxuVNcDKh"
   },
   "source": [
    "## BPE (Byte pair encoding) model\n",
    "\n",
    "Sentencepiece supports BPE (byte-pair-encoding) for subword segmentation with **--model_type=bpe** flag.   We do not find empirical differences in translation quality between BPE and unigram model, but unigram model can perform sampling and n-best segmentation. See subword regularization paper [[kudo18]](https://www.google.com/search?q=subword+regularization&rlz=1CAASUL_enJP841&oq=subword+regu&aqs=chrome.0.69i59j69i61j69i57j69i61l2j0.1571j0j7&sourceid=chrome&ie=UTF-8) for more detail."
   ]
  },
  {
   "cell_type": "code",
   "execution_count": 24,
   "metadata": {
    "ExecuteTime": {
     "end_time": "2021-07-02T08:36:58.501482Z",
     "start_time": "2021-07-02T08:36:58.260190Z"
    },
    "colab": {
     "base_uri": "https://localhost:8080/",
     "height": 73
    },
    "colab_type": "code",
    "id": "MNQxuX4Mc0KY",
    "outputId": "a6ed3e99-46c3-4c5e-dc8e-80394e17e363"
   },
   "outputs": [
    {
     "name": "stdout",
     "output_type": "stream",
     "text": [
      "*** BPE ***\n",
      "['▁this', 'is', 'at', 'est', 'he', 'llow', 'or', 'ld']\n",
      "[]\n"
     ]
    }
   ],
   "source": [
    "spm.SentencePieceTrainer.train('--input=botchan.txt --model_prefix=m_bpe --vocab_size=2000 --model_type=bpe')\n",
    "sp_bpe = spm.SentencePieceProcessor()\n",
    "sp_bpe.load('m_bpe.model')\n",
    "\n",
    "print('*** BPE ***')\n",
    "print(sp_bpe.encode_as_pieces('thisisatesthelloworld'))\n",
    "print(sp_bpe.nbest_encode_as_pieces('hello world', 5))  # returns an empty list."
   ]
  },
  {
   "cell_type": "code",
   "execution_count": 25,
   "metadata": {
    "ExecuteTime": {
     "end_time": "2021-07-02T08:37:15.333754Z",
     "start_time": "2021-07-02T08:37:14.941469Z"
    },
    "colab": {
     "base_uri": "https://localhost:8080/",
     "height": 93
    },
    "colab_type": "code",
    "id": "EZrj1zCkvK8v",
    "outputId": "8d5421d9-9b89-440d-c91a-f03c081947d9"
   },
   "outputs": [
    {
     "name": "stdout",
     "output_type": "stream",
     "text": [
      "*** Unigram ***\n",
      "['▁this', 'is', 'ate', 's', 'the', 'llow', 'or', 'ld']\n",
      "[['▁this', 'is', 'ate', 's', 'the', 'llow', 'or', 'ld'], ['▁this', 'is', 'at', 'es', 'the', 'llow', 'or', 'ld'], ['▁this', 'is', 'ate', 's', 'the', 'llow', 'or', 'l', 'd'], ['▁this', 'i', 's', 'ate', 's', 'the', 'llow', 'or', 'ld'], ['▁this', 'is', 'ate', 'st', 'he', 'llow', 'or', 'ld']]\n"
     ]
    }
   ],
   "source": [
    "spm.SentencePieceTrainer.train('--input=botchan.txt --model_prefix=m_unigram --vocab_size=2000 --model_type=unigram')\n",
    "sp_unigram = spm.SentencePieceProcessor()\n",
    "sp_unigram.load('m_unigram.model')\n",
    "\n",
    "print('*** Unigram ***')\n",
    "print(sp_unigram.encode_as_pieces('thisisatesthelloworld'))\n",
    "print(sp_unigram.nbest_encode_as_pieces('thisisatesthelloworld', 5))"
   ]
  },
  {
   "cell_type": "markdown",
   "metadata": {
    "colab_type": "text",
    "id": "yJXHCoAHoZWg"
   },
   "source": [
    "## Character and word model\n",
    "\n",
    "Sentencepiece supports character and word segmentation with **--model_type=char** and **--model_type=character** flags.\n",
    "\n",
    "In `word` segmentation, sentencepiece just segments tokens with whitespaces, so the input text must be pre-tokenized.\n",
    "We can apply different segmentation algorithm transparently without changing pre/post processors."
   ]
  },
  {
   "cell_type": "code",
   "execution_count": 28,
   "metadata": {
    "ExecuteTime": {
     "end_time": "2021-07-02T08:38:19.746041Z",
     "start_time": "2021-07-02T08:38:19.705022Z"
    },
    "colab": {
     "base_uri": "https://localhost:8080/",
     "height": 54
    },
    "colab_type": "code",
    "id": "pOAOmQGQpBhg",
    "outputId": "0bcfa075-4231-4299-e117-c4d02dae0872"
   },
   "outputs": [
    {
     "name": "stdout",
     "output_type": "stream",
     "text": [
      "['▁', 't', 'h', 'i', 's', '▁', 'i', 's', '▁', 'a', '▁', 't', 'e', 's', 't', '.']\n",
      "[3, 5, 10, 9, 11, 3, 9, 11, 3, 7, 3, 5, 4, 11, 5, 23]\n",
      " ⁇  [UNK] False\n",
      " [BOS] True\n",
      " [EOS] True\n",
      ", , False\n"
     ]
    }
   ],
   "source": [
    "spm.SentencePieceTrainer.train('--input=botchan.txt --model_prefix=m_char --model_type=char --vocab_size=400')\n",
    "\n",
    "sp_char = spm.SentencePieceProcessor()\n",
    "sp_char.load('m_char.model')\n",
    "\n",
    "print(sp_char.encode_as_pieces('this is a test.'))\n",
    "print(sp_char.encode_as_ids('this is a test.'))\n",
    "\n",
    "for id in range(4):\n",
    "    print(sp.decode_ids([id]), sp.id_to_piece(id), sp.is_control(id))    "
   ]
  },
  {
   "cell_type": "code",
   "execution_count": 29,
   "metadata": {
    "ExecuteTime": {
     "end_time": "2021-07-02T08:38:34.564327Z",
     "start_time": "2021-07-02T08:38:34.501291Z"
    },
    "colab": {
     "base_uri": "https://localhost:8080/",
     "height": 54
    },
    "colab_type": "code",
    "id": "uzBiPAm4ljor",
    "outputId": "299083c5-e453-4a4b-86eb-c1abd0aa34e3"
   },
   "outputs": [
    {
     "name": "stdout",
     "output_type": "stream",
     "text": [
      "['▁this', '▁is', '▁a', '▁test.']\n",
      "[31, 17, 8, 0]\n",
      " ⁇  [UNK] False\n",
      " [BOS] True\n",
      " [EOS] True\n",
      ", , False\n"
     ]
    }
   ],
   "source": [
    "spm.SentencePieceTrainer.train('--input=botchan.txt --model_prefix=m_word --model_type=word --vocab_size=2000')\n",
    "\n",
    "sp_word = spm.SentencePieceProcessor()\n",
    "sp_word.load('m_word.model')\n",
    "\n",
    "print(sp_word.encode_as_pieces('this is a test.'))  # '.' will not be one token.\n",
    "print(sp_word.encode_as_ids('this is a test.'))\n",
    "\n",
    "for id in range(4):\n",
    "    print(sp.decode_ids([id]), sp.id_to_piece(id), sp.is_control(id))    "
   ]
  },
  {
   "cell_type": "markdown",
   "metadata": {
    "colab_type": "text",
    "id": "UZvkFnw9pt-D"
   },
   "source": [
    "## Text normalization\n",
    "\n",
    "Sentencepiece provides the following general pre-defined normalization rules. We can change the normalizer with **--normaliation_rule_name=&lt;NAME&gt;** flag.\n",
    "\n",
    "- **nmt_nfkc**: NFKC normalization with some additional normalization around spaces. (default)\n",
    "- **nfkc: original**: NFKC normalization.\n",
    "- **nmt_nfkc_cf**: nmt_nfkc + Unicode case folding (mostly lower casing)\n",
    "- **nfkc_cf**: nfkc + Unicode case folding.\n",
    "- **identity**: no normalization\n",
    "\n"
   ]
  },
  {
   "cell_type": "code",
   "execution_count": 30,
   "metadata": {
    "ExecuteTime": {
     "end_time": "2021-07-02T08:39:01.493308Z",
     "start_time": "2021-07-02T08:39:01.090515Z"
    },
    "colab": {
     "base_uri": "https://localhost:8080/",
     "height": 36
    },
    "colab_type": "code",
    "id": "jSJiwIeBqFcO",
    "outputId": "c35ec700-dbb9-4601-9d00-6c04a5eef147"
   },
   "outputs": [
    {
     "name": "stdout",
     "output_type": "stream",
     "text": [
      "['▁', 'hello', '▁world', '.']\n"
     ]
    }
   ],
   "source": [
    "import sentencepiece as spm\n",
    "\n",
    "# NFKC normalization and lower casing.\n",
    "spm.SentencePieceTrainer.train('--input=botchan.txt --model_prefix=m --vocab_size=2000 --normalization_rule_name=nfkc_cf')\n",
    "\n",
    "sp = spm.SentencePieceProcessor()\n",
    "sp.load('m.model')\n",
    "print(sp.encode_as_pieces('ＨＥＬＬＯ　ＷＯＲＬＤ.'))  # lower casing and normalization"
   ]
  },
  {
   "cell_type": "markdown",
   "metadata": {
    "colab_type": "text",
    "id": "Fp1QiTjprER4"
   },
   "source": [
    "The normalization is performed with user-defined string-to-string mappings and leftmost longest matching.\n",
    "We can also define the custom normalization rules as TSV file. The TSV files for pre-defined normalziation rules can be found in the data directory ([sample](https://raw.githubusercontent.com/google/sentencepiece/master/data/nfkc.tsv)). The normalization rule is compiled into FST and embedded in the model file. We don't need to specify the normalization configuration in the segmentation phase.\n",
    "\n",
    "Here's the example of custom normalization. The TSV file is fed with **--normalization_rule_tsv=&lt;FILE&gt;** flag."
   ]
  },
  {
   "cell_type": "code",
   "execution_count": 0,
   "metadata": {
    "colab": {
     "base_uri": "https://localhost:8080/",
     "height": 110
    },
    "colab_type": "code",
    "id": "xHM5aGYTrfXg",
    "outputId": "b9652d0d-6e03-486b-fe69-710153e4c906"
   },
   "outputs": [
    {
     "name": "stdout",
     "output_type": "stream",
     "text": [
      "U+49 U+27 U+6d\tU+49 U+20 U+61 U+6d\n",
      "U+64 U+6f U+6e U+27 U+74\tU+64 U+6f U+20 U+6e U+6f U+74\n",
      "\n",
      "['▁I', '▁am', '▁bu', 's', 'y']\n",
      "['▁I', '▁do', '▁not', '▁know', '▁it', '.']\n"
     ]
    }
   ],
   "source": [
    "def tocode(s):                                                                               \n",
    "    out = []                                                                                 \n",
    "    for c in s:                                                                              \n",
    "        out.append(str(hex(ord(c))).replace('0x', 'U+'))                                     \n",
    "    return ' '.join(out)          \n",
    "\n",
    "# TSV format:  source Unicode code points <tab> target code points\n",
    "# normalize \"don't => do not,  I'm => I am\"\n",
    "with open('normalization_rule.tsv', 'w') as f:\n",
    "  f.write(tocode(\"I'm\") + '\\t' + tocode(\"I am\") + '\\n')\n",
    "  f.write(tocode(\"don't\") + '\\t' + tocode(\"do not\") + '\\n')\n",
    "\n",
    "print(open('normalization_rule.tsv', 'r').read())\n",
    "\n",
    "spm.SentencePieceTrainer.train('--input=botchan.txt --model_prefix=m --vocab_size=2000 --normalization_rule_tsv=normalization_rule.tsv')\n",
    "\n",
    "sp = spm.SentencePieceProcessor()\n",
    "# m.model embeds the normalization rule compiled into an FST.\n",
    "sp.load('m.model')\n",
    "print(sp.encode_as_pieces(\"I'm busy\"))  # normalzied to `I am busy'\n",
    "print(sp.encode_as_pieces(\"I don't know it.\"))  # normalized to 'I do not know it.'\n"
   ]
  },
  {
   "cell_type": "markdown",
   "metadata": {
    "colab_type": "text",
    "id": "YdSx1bizvSbH"
   },
   "source": [
    "## Randomizing training data\n",
    "\n",
    "Sentencepiece loads all the lines of training data into memory to train the model.  However, larger training data increases the training time and memory usage, though they are liner to the training data. When **--input_sentence_size=&lt;SIZE&gt;** is specified,  Sentencepiece randomly samples &lt;SIZE&gt; lines from the whole training data.   **--shuffle_input_sentence=false** disables the random shuffle and takes the first &lt;SIZE&gt; lines."
   ]
  },
  {
   "cell_type": "code",
   "execution_count": 0,
   "metadata": {
    "colab": {
     "base_uri": "https://localhost:8080/",
     "height": 36
    },
    "colab_type": "code",
    "id": "FZ089HOXwppS",
    "outputId": "607ec114-f443-44e1-ce88-002b5e6deb36"
   },
   "outputs": [
    {
     "data": {
      "text/plain": [
       "['▁this', '▁is', '▁a', '▁t', 'est', '.']"
      ]
     },
     "execution_count": 35,
     "metadata": {
      "tags": []
     },
     "output_type": "execute_result"
    }
   ],
   "source": [
    "spm.SentencePieceTrainer.train('--input=botchan.txt --model_prefix=m --vocab_size=2000 --input_sentence_size=1000')\n",
    "\n",
    "sp = spm.SentencePieceProcessor()\n",
    "sp.load('m.model')\n",
    "\n",
    "sp.encode_as_pieces('this is a test.')"
   ]
  },
  {
   "cell_type": "markdown",
   "metadata": {
    "colab_type": "text",
    "id": "07FMNoCmglil"
   },
   "source": [
    "## Vocabulary restriction\n",
    "\n",
    "We can encode the text only using the tokens spececified with **set_vocabulary** method.  The background of this feature is described in [subword-nmt page](https://github.com/rsennrich/subword-nmt#best-practice-advice-for-byte-pair-encoding-in-nmt)."
   ]
  },
  {
   "cell_type": "code",
   "execution_count": 0,
   "metadata": {
    "colab": {
     "base_uri": "https://localhost:8080/",
     "height": 73
    },
    "colab_type": "code",
    "id": "H2soU1eZhdH_",
    "outputId": "b1e725d4-a80b-4741-ef1f-1ef0cd3d2665"
   },
   "outputs": [
    {
     "name": "stdout",
     "output_type": "stream",
     "text": [
      "['▁this', '▁is', '▁a', '▁t', 'est', '.']\n",
      "['▁', 't', 'h', 'i', 's', '▁', 'i', 's', '▁a', '▁', 't', 'e', 's', 't', '.']\n",
      "['▁this', '▁is', '▁a', '▁t', 'est', '.']\n"
     ]
    }
   ],
   "source": [
    "spm.SentencePieceTrainer.train('--input=botchan.txt --model_prefix=m --vocab_size=2000')\n",
    "\n",
    "sp = spm.SentencePieceProcessor()\n",
    "sp.load('m.model')\n",
    "\n",
    "print(sp.encode_as_pieces('this is a test.'))\n",
    "\n",
    "# Gets all tokens as Python list.\n",
    "vocabs = [sp.id_to_piece(id) for id in range(sp.get_piece_size())]\n",
    "\n",
    "# Aggregates the frequency of each token in the training data.\n",
    "freq = {}\n",
    "with open('botchan.txt', 'r') as f:\n",
    "    for line in f:\n",
    "        line = line.rstrip()\n",
    "        for piece in sp.encode_as_pieces(line):\n",
    "            freq.setdefault(piece, 0)\n",
    "            freq[piece] += 1\n",
    "            \n",
    "# only uses the token appearing more than 1000 times in the training data.\n",
    "vocabs = list(filter(lambda x : x in freq and freq[x] > 1000, vocabs))\n",
    "sp.set_vocabulary(vocabs)\n",
    "print(sp.encode_as_pieces('this is a test.'))\n",
    "\n",
    "# reset the restriction\n",
    "sp.reset_vocabulary()\n",
    "print(sp.encode_as_pieces('this is a test.'))"
   ]
  },
  {
   "cell_type": "markdown",
   "metadata": {
    "colab_type": "text",
    "id": "z8rQLqCTHk40"
   },
   "source": [
    "## Extracting crossing-words pieces\n",
    "\n",
    "Sentencepieces does not extract pieces crossing multiple words (here the `word` means the space delimited tokens). The piece will never contain the whitespace marker (_) in the middle.\n",
    "\n",
    "**--split_by_whtespace=false** disables this restriction and allows to extract pieces crossing multiple words.  In CJK (Chinese/Japanese/Korean), this flag will not affect the final segmentation results so much as  words are not tokenized with whitespaces in CJK."
   ]
  },
  {
   "cell_type": "code",
   "execution_count": 0,
   "metadata": {
    "colab": {
     "base_uri": "https://localhost:8080/",
     "height": 147
    },
    "colab_type": "code",
    "id": "Lf5Fs_pPIKif",
    "outputId": "fc1cff92-bb97-4ab9-c52a-8e3c47d1d88f"
   },
   "outputs": [
    {
     "name": "stdout",
     "output_type": "stream",
     "text": [
      "ed▁to\n",
      "s▁of\n",
      "ing▁the\n",
      "s▁and\n",
      "ed▁by\n",
      "ed▁the\n",
      "ed▁me\n"
     ]
    }
   ],
   "source": [
    "import re\n",
    "\n",
    "spm.SentencePieceTrainer.train('--input=botchan.txt --model_prefix=m --vocab_size=2000 --split_by_whitespace=false')\n",
    "\n",
    "sp = spm.SentencePieceProcessor()\n",
    "sp.load('m.model')\n",
    "\n",
    "# Gets all tokens as Python list.\n",
    "vocabs = [sp.id_to_piece(id) for id in range(sp.get_piece_size())]\n",
    "\n",
    "for piece in vocabs[0:500]:\n",
    "    if re.match('\\w+▁\\w+', piece):\n",
    "        print(piece)"
   ]
  },
  {
   "cell_type": "markdown",
   "metadata": {
    "colab_type": "text",
    "id": "WWjA7yOX1Rlg"
   },
   "source": [
    "## Training sentencepiece model from the word list with frequency\n",
    "\n",
    "We can train the sentencepiece model from the pair of &lt;word, frequency&gt;. First, you make a TSV file where the first column is the word and the second column is the frequency. Then, feed this TSV file with **--input_format=tsv** flag. Note that when feeding TSV as training data, we implicitly assume that **--split_by_whtespace=true**."
   ]
  },
  {
   "cell_type": "code",
   "execution_count": 31,
   "metadata": {
    "ExecuteTime": {
     "end_time": "2021-07-02T08:46:02.650824Z",
     "start_time": "2021-07-02T08:46:02.303757Z"
    },
    "colab": {
     "base_uri": "https://localhost:8080/",
     "height": 36
    },
    "colab_type": "code",
    "id": "T7F349Sd2Bzg",
    "outputId": "3453d1f2-2614-4258-ed7d-5a2e230b29ec"
   },
   "outputs": [
    {
     "name": "stdout",
     "output_type": "stream",
     "text": [
      "['▁this', '▁is', '▁a', '▁t', 'est', '.']\n"
     ]
    }
   ],
   "source": [
    "freq={}\n",
    "with open('botchan.txt', 'r') as f:\n",
    "  for line in f:\n",
    "    line = line.rstrip()\n",
    "    for piece in line.split():\n",
    "      freq.setdefault(piece, 0)\n",
    "      freq[piece] += 1\n",
    "            \n",
    "with open('word_freq_list.tsv', 'w') as f:\n",
    "  for k, v in freq.items():\n",
    "    f.write('%s\\t%d\\n' % (k, v))\n",
    "  \n",
    "\n",
    "import sentencepiece as spm\n",
    "\n",
    "spm.SentencePieceTrainer.train('--input=word_freq_list.tsv --input_format=tsv --model_prefix=m --vocab_size=2000')\n",
    "sp = spm.SentencePieceProcessor()\n",
    "sp.load('m.model')\n",
    "\n",
    "print(sp.encode_as_pieces('this is a test.'))"
   ]
  },
  {
   "cell_type": "markdown",
   "metadata": {
    "colab_type": "text",
    "id": "fiWMoTpA-pHx"
   },
   "source": [
    "## Getting byte offsets of tokens\n",
    "\n",
    "Sentencepiece keeps track of byte offset (span) of each token, which is useful for highlighting the token on top of unnormalized text.\n",
    "\n",
    "We first need to install protobuf module and sentencepiece_pb2.py as the byte offsets and all other meta data for segementation are encoded in protocol buffer.\n",
    "**encode_as_serialized_proto** method resturns serialized SentencePieceText proto. You can get the deserialized object by calling ParseFromString method.\n",
    "\n",
    "The definition of SentencePieceText proto is found [here](https://github.com/google/sentencepiece/blob/3be3f2e11e2bb923c579c6be5e7335809341587f/src/sentencepiece.proto#L23).\n"
   ]
  },
  {
   "cell_type": "code",
   "execution_count": 0,
   "metadata": {
    "colab": {
     "base_uri": "https://localhost:8080/",
     "height": 277
    },
    "colab_type": "code",
    "id": "JTYrvL6KkmVK",
    "outputId": "1459a127-7aed-4296-f8e6-0c5e76c6c3d6"
   },
   "outputs": [
    {
     "name": "stdout",
     "output_type": "stream",
     "text": [
      "Requirement already satisfied: protobuf in /usr/local/lib/python3.6/dist-packages (3.7.0)\n",
      "Requirement already satisfied: six>=1.9 in /usr/local/lib/python3.6/dist-packages (from protobuf) (1.11.0)\n",
      "Requirement already satisfied: setuptools in /usr/local/lib/python3.6/dist-packages (from protobuf) (40.8.0)\n",
      "--2019-03-27 21:42:35--  https://raw.githubusercontent.com/google/sentencepiece/master/python/sentencepiece_pb2.py\n",
      "Resolving raw.githubusercontent.com (raw.githubusercontent.com)... 151.101.0.133, 151.101.64.133, 151.101.128.133, ...\n",
      "Connecting to raw.githubusercontent.com (raw.githubusercontent.com)|151.101.0.133|:443... connected.\n",
      "HTTP request sent, awaiting response... 200 OK\n",
      "Length: 7382 (7.2K) [text/plain]\n",
      "Saving to: ‘sentencepiece_pb2.py.1’\n",
      "\n",
      "sentencepiece_pb2.p 100%[===================>]   7.21K  --.-KB/s    in 0s      \n",
      "\n",
      "2019-03-27 21:42:35 (52.3 MB/s) - ‘sentencepiece_pb2.py.1’ saved [7382/7382]\n",
      "\n"
     ]
    }
   ],
   "source": [
    "!pip install protobuf\n",
    "!wget https://raw.githubusercontent.com/google/sentencepiece/master/python/sentencepiece_pb2.py"
   ]
  },
  {
   "cell_type": "code",
   "execution_count": 0,
   "metadata": {
    "colab": {
     "base_uri": "https://localhost:8080/",
     "height": 463
    },
    "colab_type": "code",
    "id": "KdRy9sEvk7zw",
    "outputId": "80b1a4e5-8cbb-46bc-9549-e24444328f79"
   },
   "outputs": [
    {
     "name": "stdout",
     "output_type": "stream",
     "text": [
      "text: \"\\357\\275\\210\\357\\275\\205\\357\\275\\214\\357\\275\\214\\357\\275\\217\"\n",
      "pieces {\n",
      "  piece: \"\\342\\226\\201he\"\n",
      "  id: 28\n",
      "  surface: \"\\357\\275\\210\\357\\275\\205\"\n",
      "  begin: 0\n",
      "  end: 6\n",
      "}\n",
      "pieces {\n",
      "  piece: \"ll\"\n",
      "  id: 98\n",
      "  surface: \"\\357\\275\\214\\357\\275\\214\"\n",
      "  begin: 6\n",
      "  end: 12\n",
      "}\n",
      "pieces {\n",
      "  piece: \"o\"\n",
      "  id: 38\n",
      "  surface: \"\\357\\275\\217\"\n",
      "  begin: 12\n",
      "  end: 15\n",
      "}\n",
      "\n"
     ]
    },
    {
     "data": {
      "text/plain": [
       "489"
      ]
     },
     "execution_count": 50,
     "metadata": {
      "tags": []
     },
     "output_type": "execute_result"
    }
   ],
   "source": [
    "import sentencepiece_pb2\n",
    "import sentencepiece as spm\n",
    "\n",
    "spm.SentencePieceTrainer.train('--input=botchan.txt --model_prefix=m --vocab_size=2000')\n",
    "\n",
    "sp = spm.SentencePieceProcessor()\n",
    "sp.load('m.model')\n",
    "\n",
    "# One best result\n",
    "spt = sentencepiece_pb2.SentencePieceText()\n",
    "spt.ParseFromString(sp.encode_as_serialized_proto('ｈｅｌｌｏ')) # Full width hello\n",
    "\n",
    "# begin/end (offsets) are pointing to the original input.\n",
    "print(spt)\n",
    "\n",
    "# Nbest results\n",
    "nspt = sentencepiece_pb2.NBestSentencePieceText()\n",
    "nspt.ParseFromString(sp.nbest_encode_as_serialized_proto('ｈｅｌｌｏ', 5))\n",
    "# print(nspt)"
   ]
  }
 ],
 "metadata": {
  "colab": {
   "collapsed_sections": [],
   "include_colab_link": true,
   "name": "Sentencepiece python module example",
   "provenance": [],
   "version": "0.3.2"
  },
  "kernelspec": {
   "display_name": "Python 3",
   "language": "python",
   "name": "python3"
  },
  "language_info": {
   "codemirror_mode": {
    "name": "ipython",
    "version": 3
   },
   "file_extension": ".py",
   "mimetype": "text/x-python",
   "name": "python",
   "nbconvert_exporter": "python",
   "pygments_lexer": "ipython3",
   "version": "3.6.9"
  },
  "toc": {
   "base_numbering": 1,
   "nav_menu": {},
   "number_sections": true,
   "sideBar": true,
   "skip_h1_title": false,
   "title_cell": "Table of Contents",
   "title_sidebar": "Contents",
   "toc_cell": false,
   "toc_position": {},
   "toc_section_display": true,
   "toc_window_display": false
  }
 },
 "nbformat": 4,
 "nbformat_minor": 1
}
