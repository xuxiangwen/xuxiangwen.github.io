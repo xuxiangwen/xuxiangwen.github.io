{
 "cells": [
  {
   "cell_type": "markdown",
   "metadata": {},
   "source": [
    "---\n",
    "title: 特征选择：方差分析\n",
    "categories: statistics\n",
    "date: 2020-12-30\n",
    "---\n",
    "\n",
    "在统计学里，方差分析（Analysis of Variance, ANOVA）一般用于检测不同组之间是否有显著性差异，它是由英国著名的统计学家是[Ronald Aylmer Fisher](https://baike.baidu.com/item/%E8%B4%B9%E5%B8%8C%E5%B0%94/8763421)首先提出。本文将会描述方差分析及其理论基础，然后描述机器学习中如何使用方差分析进行特征筛选。\n",
    "\n",
    "![image-20201230101311660](images/image-20201230101311660.png)\n",
    "\n",
    "## 方差分析\n",
    "\n",
    "方差分析的理论基础是F分布，让我们首先来看一看。\n",
    "\n",
    " 设$X\\sim \\chi^2(m),Y\\sim\\chi^2(n)$, 且$X, Y$相互独立，可以计算随机变量：\n",
    "$$\n",
    "Z=\\frac{X/m}{Y/n}\n",
    "$$\n",
    "则，随机变量$Z$服从第一自由度为$m$、第二自由度为$n$的$F$分布，记$Z \\sim F(m,n)$。其概率密度图如下。\n",
    "\n",
    "![image-20201230113437584](images/image-20201230113437584.png)\n",
    "\n",
    "有了F分布的理论，下面我们来看看它和方差分析是怎么建立关系的。\n",
    "\n",
    "我们知道，在科学研究和商业分析中，经常要比较若干个因素对业务指标的影响。比如，为了比较药物A,B,C对治疗某疾病的疗效，将实验对象分成三组，分别记录服用三种药物的治疗效果，得到三组样本：\n",
    "$$\n",
    "y_{11},y_{12}, \\dots,y_{1n_1}  \\\\\n",
    "y_{21},y_{22}, \\dots,y_{2n_2}  \\\\\n",
    "y_{31},y_{32}, \\dots,y_{3n_3}\n",
    "$$\n",
    "通过这些数据，希望回答：这三种药物对治疗该疾病有没有显著差异。首先我们假设这三种药物没有任何差异，也就说它们来自一个相同的正态分布。三组药物实验，可以看成从这个正态分布中分别做三组抽样。这样无疑满足了如下条件。\n",
    "\n",
    "- 每个样本来自同一个正太分布。\n",
    "- 三组样本的方差相同。\n",
    "\n",
    "上诉条件满足了F分布的条件，由此可以构造如下统计量。明显可以看到，当​MSR​越小，F值越小，这表示这些样本更加可能来自于同一分布。\n",
    "\n",
    "| 来源  | 自由度 | 平方和                                                   | 均方和             | F值                                 |\n",
    "| ----- | ------ | -------------------------------------------------------- | ------------------ | ------------------------------------ |\n",
    "| 因子 | $ r −1$ | $$SSR$$ | $MSR=\\frac {SSR} {r-1}$ | $\\frac {MSR} {MSE}$ |\n",
    "| 误差  | $n−r$ | $SSE$   | $MSE=\\frac {SSE} {n-r}$ |  |\n",
    "| 总和  | $n−1$  | $SST$                                                   | $MST=\\frac {SST} {n-1}$ |                                      |\n",
    "\n",
    "- SSR（Sum of Squares Regression）：回归平方和，也称组件平方和。\n",
    "  $$\n",
    "  SSR = \\sum_{i=1}^r n_i(\\bar y_{i\\cdot} -\\bar y)^2\n",
    "  $$\n",
    "\n",
    "  - $r$：总共由$r$组样本。\n",
    "  - $n_i$ ：第$i$组的样本个数。\n",
    "  - $\\bar y_{i\\cdot}$ ：第$i$组的平均值\n",
    "  - $\\bar y$： 总体平均值。\n",
    "\n",
    "- SSE（Sum of Squares Error）：残差平方和，也称组内平方和。\n",
    "  $$\n",
    "  SSE= \\sum_{i=1}^r\\sum_{j=1}^{n_i}(y_{ij}-\\bar y_{i\\cdot} )^2\n",
    "  $$\n",
    "\n",
    "  - $y_{ij}$：第$i$组的第$j$个样本值\n",
    "\n",
    "- SST（Sum of Squares Total）：离差平方和，也称总平方和。\n",
    "  $$\n",
    "  SST = \\sum_{i=1}^r\\sum_{j=1}^{n_i}(y_{ij}-\\bar y )^2\n",
    "  $$\n",
    "  不难证明如下公式。\n",
    "  $$\n",
    "  SST = SSR + SSE\n",
    "  $$\n",
    "\n",
    "- $R^2 $ ：当组间差异越大，说明不同组对样本的影响越大。可以用这个指标来衡量变量的关系强度。\n",
    "  $$\n",
    "  R^2 = \\frac {SSR} {SST}\n",
    "  $$\n",
    "\n",
    "在机器学习分类任务，可以运用方差分析来筛选特征，以二分类（Positive和Negative）为例，可以把某一个特征的值分成两组，一组是Positive，一组是Negative，由此可以采用方差分析的方法。\n",
    "\n",
    "## 实例分析\n",
    "\n",
    "数据是来自于[1994年美国的人口普查数据](https://www.kaggle.com/uciml/adult-census-income?select=adult.csv)，其包含了人们的年龄，工作类型，教育，婚姻，人种，性别，每周工作时长，国家，收入等信息。我们的目标是根据这些信息预测收入（income），在建模之前，需要剔除找出那些和收入无关的特征。\n",
    "\n",
    "### 数据\n",
    "\n",
    "引入要使用的包。"
   ]
  },
  {
   "cell_type": "code",
   "execution_count": 3,
   "metadata": {
    "ExecuteTime": {
     "end_time": "2021-03-31T08:05:03.798556Z",
     "start_time": "2021-03-31T08:05:03.709750Z"
    }
   },
   "outputs": [],
   "source": [
    "import logging\n",
    "import os\n",
    "import matplotlib.pyplot as plt\n",
    "import numpy as np\n",
    "import pandas as pd\n",
    "import shutil\n",
    "import six.moves.urllib as urllib\n",
    "import zipfile\n",
    "\n",
    "from IPython.display import display\n",
    "from PIL import Image\n",
    "from scipy import stats\n",
    "from sklearn.feature_selection import SelectKBest, f_classif  \n",
    "from sklearn.preprocessing import LabelBinarizer\n",
    "from sklearn.utils.extmath import safe_sparse_dot\n",
    "from sklearn.utils import check_array\n",
    "from statsmodels.stats.anova import anova_lm\n",
    "from statsmodels.formula.api import ols\n",
    "\n",
    "logging.basicConfig(format='%(asctime)s: %(levelname)s: %(message)s')\n",
    "logging.root.setLevel(level=logging.INFO)\n",
    "\n",
    "np.set_printoptions(suppress=True)"
   ]
  },
  {
   "cell_type": "markdown",
   "metadata": {},
   "source": [
    "下载并加载数据。"
   ]
  },
  {
   "cell_type": "code",
   "execution_count": 4,
   "metadata": {
    "ExecuteTime": {
     "end_time": "2021-03-31T08:05:19.112595Z",
     "start_time": "2021-03-31T08:05:07.069595Z"
    }
   },
   "outputs": [
    {
     "name": "stderr",
     "output_type": "stream",
     "text": [
      "2021-03-31 16:05:07,082: INFO: http://archive.ics.uci.edu/ml/machine-learning-databases/adult/adult.data\n",
      "2021-03-31 16:05:18,734: INFO: Successfully downloaded adult.data 3974305 bytes.\n"
     ]
    },
    {
     "data": {
      "text/html": [
       "<div>\n",
       "<style scoped>\n",
       "    .dataframe tbody tr th:only-of-type {\n",
       "        vertical-align: middle;\n",
       "    }\n",
       "\n",
       "    .dataframe tbody tr th {\n",
       "        vertical-align: top;\n",
       "    }\n",
       "\n",
       "    .dataframe thead th {\n",
       "        text-align: right;\n",
       "    }\n",
       "</style>\n",
       "<table border=\"1\" class=\"dataframe\">\n",
       "  <thead>\n",
       "    <tr style=\"text-align: right;\">\n",
       "      <th></th>\n",
       "      <th>age</th>\n",
       "      <th>workclass</th>\n",
       "      <th>fnlwg</th>\n",
       "      <th>education</th>\n",
       "      <th>education-num</th>\n",
       "      <th>marital-status</th>\n",
       "      <th>occupation</th>\n",
       "      <th>relationship</th>\n",
       "      <th>race</th>\n",
       "      <th>sex</th>\n",
       "      <th>capital-gain</th>\n",
       "      <th>capital-loss</th>\n",
       "      <th>hours-per-week</th>\n",
       "      <th>native-country</th>\n",
       "      <th>income</th>\n",
       "    </tr>\n",
       "  </thead>\n",
       "  <tbody>\n",
       "    <tr>\n",
       "      <th>0</th>\n",
       "      <td>39</td>\n",
       "      <td>State-gov</td>\n",
       "      <td>77516</td>\n",
       "      <td>Bachelors</td>\n",
       "      <td>13</td>\n",
       "      <td>Never-married</td>\n",
       "      <td>Adm-clerical</td>\n",
       "      <td>Not-in-family</td>\n",
       "      <td>White</td>\n",
       "      <td>Male</td>\n",
       "      <td>2174</td>\n",
       "      <td>0</td>\n",
       "      <td>40</td>\n",
       "      <td>United-States</td>\n",
       "      <td>&lt;=50K</td>\n",
       "    </tr>\n",
       "    <tr>\n",
       "      <th>1</th>\n",
       "      <td>50</td>\n",
       "      <td>Self-emp-not-inc</td>\n",
       "      <td>83311</td>\n",
       "      <td>Bachelors</td>\n",
       "      <td>13</td>\n",
       "      <td>Married-civ-spouse</td>\n",
       "      <td>Exec-managerial</td>\n",
       "      <td>Husband</td>\n",
       "      <td>White</td>\n",
       "      <td>Male</td>\n",
       "      <td>0</td>\n",
       "      <td>0</td>\n",
       "      <td>13</td>\n",
       "      <td>United-States</td>\n",
       "      <td>&lt;=50K</td>\n",
       "    </tr>\n",
       "    <tr>\n",
       "      <th>2</th>\n",
       "      <td>38</td>\n",
       "      <td>Private</td>\n",
       "      <td>215646</td>\n",
       "      <td>HS-grad</td>\n",
       "      <td>9</td>\n",
       "      <td>Divorced</td>\n",
       "      <td>Handlers-cleaners</td>\n",
       "      <td>Not-in-family</td>\n",
       "      <td>White</td>\n",
       "      <td>Male</td>\n",
       "      <td>0</td>\n",
       "      <td>0</td>\n",
       "      <td>40</td>\n",
       "      <td>United-States</td>\n",
       "      <td>&lt;=50K</td>\n",
       "    </tr>\n",
       "    <tr>\n",
       "      <th>3</th>\n",
       "      <td>53</td>\n",
       "      <td>Private</td>\n",
       "      <td>234721</td>\n",
       "      <td>11th</td>\n",
       "      <td>7</td>\n",
       "      <td>Married-civ-spouse</td>\n",
       "      <td>Handlers-cleaners</td>\n",
       "      <td>Husband</td>\n",
       "      <td>Black</td>\n",
       "      <td>Male</td>\n",
       "      <td>0</td>\n",
       "      <td>0</td>\n",
       "      <td>40</td>\n",
       "      <td>United-States</td>\n",
       "      <td>&lt;=50K</td>\n",
       "    </tr>\n",
       "    <tr>\n",
       "      <th>4</th>\n",
       "      <td>28</td>\n",
       "      <td>Private</td>\n",
       "      <td>338409</td>\n",
       "      <td>Bachelors</td>\n",
       "      <td>13</td>\n",
       "      <td>Married-civ-spouse</td>\n",
       "      <td>Prof-specialty</td>\n",
       "      <td>Wife</td>\n",
       "      <td>Black</td>\n",
       "      <td>Female</td>\n",
       "      <td>0</td>\n",
       "      <td>0</td>\n",
       "      <td>40</td>\n",
       "      <td>Cuba</td>\n",
       "      <td>&lt;=50K</td>\n",
       "    </tr>\n",
       "  </tbody>\n",
       "</table>\n",
       "</div>"
      ],
      "text/plain": [
       "   age         workclass   fnlwg  education  education-num  \\\n",
       "0   39         State-gov   77516  Bachelors             13   \n",
       "1   50  Self-emp-not-inc   83311  Bachelors             13   \n",
       "2   38           Private  215646    HS-grad              9   \n",
       "3   53           Private  234721       11th              7   \n",
       "4   28           Private  338409  Bachelors             13   \n",
       "\n",
       "       marital-status         occupation   relationship   race     sex  \\\n",
       "0       Never-married       Adm-clerical  Not-in-family  White    Male   \n",
       "1  Married-civ-spouse    Exec-managerial        Husband  White    Male   \n",
       "2            Divorced  Handlers-cleaners  Not-in-family  White    Male   \n",
       "3  Married-civ-spouse  Handlers-cleaners        Husband  Black    Male   \n",
       "4  Married-civ-spouse     Prof-specialty           Wife  Black  Female   \n",
       "\n",
       "   capital-gain  capital-loss  hours-per-week native-country income  \n",
       "0          2174             0              40  United-States  <=50K  \n",
       "1             0             0              13  United-States  <=50K  \n",
       "2             0             0              40  United-States  <=50K  \n",
       "3             0             0              40  United-States  <=50K  \n",
       "4             0             0              40           Cuba  <=50K  "
      ]
     },
     "execution_count": 4,
     "metadata": {},
     "output_type": "execute_result"
    }
   ],
   "source": [
    "def aduit_census_download(target_path, source_url=\"http://archive.ics.uci.edu/ml/machine-learning-databases/adult\", http_proxy=None):\n",
    "    if http_proxy is not None:\n",
    "        proxy_handler = urllib.request.ProxyHandler({'http': http_proxy, 'https': http_proxy})\n",
    "        opener = urllib.request.build_opener(proxy_handler)\n",
    "    else:\n",
    "        opener = urllib.request.build_opener()\n",
    "\n",
    "    urllib.request.install_opener(opener)\n",
    "\n",
    "    def maybe_download(file_name):\n",
    "        if not os.path.exists(target_path):\n",
    "            os.makedirs(target_path)\n",
    "        file_path = os.path.join(target_path, file_name)\n",
    "        if not os.path.exists(file_path):\n",
    "            source_file_url = os.path.join(source_url, file_name)\n",
    "            logging.info(source_file_url)\n",
    "            filepath, _ = urllib.request.urlretrieve(source_file_url, file_path)\n",
    "            statinfo = os.stat(filepath)\n",
    "            logging.info('Successfully downloaded {} {} bytes.'.format(file_name, statinfo.st_size))\n",
    "        return file_path\n",
    "    \n",
    "    csv_file = 'adult.data'\n",
    "    data_path= maybe_download(csv_file)\n",
    "    \n",
    "    extract_path = os.path.join(target_path, csv_file)\n",
    "    return extract_path\n",
    "\n",
    "local_path = os.path.join('.', 'data/adult_census')\n",
    "data_path = aduit_census_download(local_path)\n",
    "\n",
    "cols = ['age', 'workclass', 'fnlwg', 'education', 'education-num', \n",
    "       'marital-status','occupation','relationship', 'race','sex',\n",
    "       'capital-gain', 'capital-loss', 'hours-per-week', 'native-country', 'income']\n",
    "df_census = pd.read_csv(data_path, names=cols, sep=', ', engine='python')\n",
    "df_census.head(5)"
   ]
  },
  {
   "cell_type": "markdown",
   "metadata": {},
   "source": [
    "![image-20201230142618554](images/image-20201230142618554.png)\n",
    "\n",
    "收入有两个值，一个是`<=50K`，一个是`>50K`。"
   ]
  },
  {
   "cell_type": "code",
   "execution_count": 5,
   "metadata": {
    "ExecuteTime": {
     "end_time": "2021-03-31T08:05:19.120832Z",
     "start_time": "2021-03-31T08:05:19.115109Z"
    }
   },
   "outputs": [
    {
     "data": {
      "text/plain": [
       "['<=50K', '>50K']"
      ]
     },
     "execution_count": 5,
     "metadata": {},
     "output_type": "execute_result"
    }
   ],
   "source": [
    "list(df_census.income.unique())"
   ]
  },
  {
   "cell_type": "markdown",
   "metadata": {},
   "source": [
    "![image-20201230150113588](images/image-20201230150113588.png)\n",
    "\n",
    "### 连续特征选取\n",
    "\n",
    "根据前面的定义，可知方差分析的方法只适用于选择连续特征。下面使用[sklearn.feature_selection.SelectKBest](https://scikit-learn.org/stable/modules/generated/sklearn.feature_selection.SelectKBest.html)对这些特征进行特征选取。其中最后一列是随机数，我们希望采用方差分析的方法剔除这个列。"
   ]
  },
  {
   "cell_type": "code",
   "execution_count": 6,
   "metadata": {
    "ExecuteTime": {
     "end_time": "2021-03-31T08:05:19.170229Z",
     "start_time": "2021-03-31T08:05:19.123577Z"
    }
   },
   "outputs": [
    {
     "name": "stdout",
     "output_type": "stream",
     "text": [
      "------------------------- X -------------------------\n",
      "[[    39  77516     13   2174      0     40      0]\n",
      " [    50  83311     13      0      0     13      7]\n",
      " [    38 215646      9      0      0     40      5]\n",
      " [    53 234721      7      0      0     40      9]\n",
      " [    28 338409     13      0      0     40      3]] (32561, 7)\n",
      "------------------------- X_selected -------------------------\n",
      "[[39 13 40]\n",
      " [50 13 13]\n",
      " [38  9 40]\n",
      " [53  7 40]\n",
      " [28 13 40]] (32561, 3)\n",
      "------------------------- KBest scores -------------------------\n",
      "KBest scores= [1887.    3. 4120. 1709.  755. 1813.    2.]\n",
      "KBest pvalues= [0.     0.0877 0.     0.     0.     0.     0.2198]\n"
     ]
    }
   ],
   "source": [
    "# 添加一个随机数列，下面将验证这个列的卡方统计值\n",
    "np.random.seed(1229)\n",
    "df_census['random'] = np.random.randint(0, 10, (len(df_census),1))\n",
    "\n",
    "continuous_columns = ['age', 'fnlwg', 'education-num', 'capital-gain', \n",
    "                      'capital-loss', 'hours-per-week', 'random']\n",
    "\n",
    "X = df_census[continuous_columns].to_numpy()\n",
    "y = df_census[['income']].to_numpy().ravel()\n",
    "\n",
    "print('-'*25, 'X', '-'*25)\n",
    "print(X[0:5], X.shape)\n",
    "\n",
    "print('-'*25, 'X_selected', '-'*25)\n",
    "select_kbest = SelectKBest(f_classif, k=3)\n",
    "X_selected = select_kbest.fit_transform(X, y)\n",
    "\n",
    "print(X_selected[0:5], X_selected.shape)\n",
    "\n",
    "print('-'*25, 'KBest scores', '-'*25)\n",
    "print('KBest scores=', np.round(select_kbest.scores_, 0))\n",
    "print('KBest pvalues=', np.round(select_kbest.pvalues_, 4)) "
   ]
  },
  {
   "cell_type": "markdown",
   "metadata": {},
   "source": [
    "![image-20201230144039809](images/image-20201230144039809.png)\n",
    "\n",
    "上面的结果可以看到，`fnlwg`列和最后一列（随机列）的F统计量最小，而且p值超过0.05，这样我们可以接受这两列和收入之间的关系是独立的，也就是说，可以剔除这两列。上面代码中函数`f_classif`实现了方差分析的功能，为了验证，我们可以手工计算一遍。"
   ]
  },
  {
   "cell_type": "code",
   "execution_count": 7,
   "metadata": {
    "ExecuteTime": {
     "end_time": "2021-03-31T08:05:19.318364Z",
     "start_time": "2021-03-31T08:05:19.173038Z"
    }
   },
   "outputs": [
    {
     "name": "stdout",
     "output_type": "stream",
     "text": [
      "[(1886.7073137161203, 1, 32560, 1.1102230246251565e-16), (2.9155935856443214, 1, 32560, 0.08773666108297618), (4120.095779707474, 1, 32560, 1.1102230246251565e-16), (1709.1500637437975, 1, 32560, 1.1102230246251565e-16), (754.8304515515131, 1, 32560, 1.1102230246251565e-16), (1813.386282216147, 1, 32560, 1.1102230246251565e-16), (1.5056046325401369, 1, 32560, 0.21981987970702077)]\n",
      "------------------------- scores -------------------------\n",
      "scores= [1887.0, 3.0, 4120.0, 1709.0, 755.0, 1813.0, 2.0]\n",
      "p_values= [0.0, 0.0877, 0.0, 0.0, 0.0, 0.0, 0.2198]\n"
     ]
    }
   ],
   "source": [
    "def split(X, y):\n",
    "            \n",
    "    # 根据y对X进行分组    \n",
    "    index = y.argsort()\n",
    "    X = X[index]\n",
    "    y = y[index]\n",
    "            \n",
    "    groups = np.split(X, np.unique(y, return_index=True)[1][1:])     \n",
    "    return groups\n",
    "        \n",
    "def anova_score(groups, significant=0.05):   \n",
    "    def square_of_sums(a, axis=0):\n",
    "        s = np.sum(a, axis=0)\n",
    "        return s.astype(float) * s\n",
    "\n",
    "    def sum_of_squares(a, axis=0):\n",
    "        return np.sum(a*a, axis=axis)     \n",
    "    \n",
    "    sse = np.sum([sum_of_squares(g) - square_of_sums(g)/len(g) for g in groups])\n",
    "    a = np.concatenate(groups)\n",
    "    n = len(a)\n",
    "    l = len(groups)\n",
    "    s = np.sum(a)\n",
    "    sst = sum_of_squares(a) - square_of_sums(a)/n\n",
    "    ssa = sst - sse\n",
    "    mse = sse/(n-l)\n",
    "    msa = ssa/(l-1)\n",
    "    f = msa/mse\n",
    "    p_value = 1-stats.f.cdf(f, l-1, n-l)\n",
    "    return f, l-1, n-1, p_value\n",
    "       \n",
    "scores = [ anova_score(split(X[:,j], y)) for j in range(X.shape[1])] \n",
    "print(scores)\n",
    "print('-'*25, 'scores', '-'*25)\n",
    "print('scores=', [round(f, 0) for f, _, _, _ in scores])\n",
    "print('p_values=', [round(p_value, 4) for _, _, _, p_value in scores]) "
   ]
  },
  {
   "cell_type": "markdown",
   "metadata": {},
   "source": [
    "![image-20201230144141445](images/image-20201230144141445.png)\n",
    "\n",
    "可以看到scores和p_values和SelectKBest的结果完全相同。除了上面两种方法，我们还可以采用[statsmodels.stats.anova.anova_lm](https://www.statsmodels.org/stable/generated/statsmodels.stats.anova.anova_lm.html)实现相同的效果。"
   ]
  },
  {
   "cell_type": "code",
   "execution_count": 8,
   "metadata": {
    "ExecuteTime": {
     "end_time": "2021-03-31T08:05:20.833127Z",
     "start_time": "2021-03-31T08:05:19.321061Z"
    }
   },
   "outputs": [
    {
     "name": "stdout",
     "output_type": "stream",
     "text": [
      "------------------------- age~C(income) -------------------------\n"
     ]
    },
    {
     "data": {
      "text/html": [
       "<div>\n",
       "<style scoped>\n",
       "    .dataframe tbody tr th:only-of-type {\n",
       "        vertical-align: middle;\n",
       "    }\n",
       "\n",
       "    .dataframe tbody tr th {\n",
       "        vertical-align: top;\n",
       "    }\n",
       "\n",
       "    .dataframe thead th {\n",
       "        text-align: right;\n",
       "    }\n",
       "</style>\n",
       "<table border=\"1\" class=\"dataframe\">\n",
       "  <thead>\n",
       "    <tr style=\"text-align: right;\">\n",
       "      <th></th>\n",
       "      <th>df</th>\n",
       "      <th>sum_sq</th>\n",
       "      <th>mean_sq</th>\n",
       "      <th>F</th>\n",
       "      <th>PR(&gt;F)</th>\n",
       "    </tr>\n",
       "  </thead>\n",
       "  <tbody>\n",
       "    <tr>\n",
       "      <th>C(income)</th>\n",
       "      <td>1.0</td>\n",
       "      <td>3.318258e+05</td>\n",
       "      <td>331825.767179</td>\n",
       "      <td>1886.707314</td>\n",
       "      <td>0.0</td>\n",
       "    </tr>\n",
       "    <tr>\n",
       "      <th>Residual</th>\n",
       "      <td>32559.0</td>\n",
       "      <td>5.726333e+06</td>\n",
       "      <td>175.875593</td>\n",
       "      <td>NaN</td>\n",
       "      <td>NaN</td>\n",
       "    </tr>\n",
       "  </tbody>\n",
       "</table>\n",
       "</div>"
      ],
      "text/plain": [
       "                df        sum_sq        mean_sq            F  PR(>F)\n",
       "C(income)      1.0  3.318258e+05  331825.767179  1886.707314     0.0\n",
       "Residual   32559.0  5.726333e+06     175.875593          NaN     NaN"
      ]
     },
     "metadata": {},
     "output_type": "display_data"
    },
    {
     "name": "stdout",
     "output_type": "stream",
     "text": [
      "------------------------- fnlwg~C(income) -------------------------\n"
     ]
    },
    {
     "data": {
      "text/html": [
       "<div>\n",
       "<style scoped>\n",
       "    .dataframe tbody tr th:only-of-type {\n",
       "        vertical-align: middle;\n",
       "    }\n",
       "\n",
       "    .dataframe tbody tr th {\n",
       "        vertical-align: top;\n",
       "    }\n",
       "\n",
       "    .dataframe thead th {\n",
       "        text-align: right;\n",
       "    }\n",
       "</style>\n",
       "<table border=\"1\" class=\"dataframe\">\n",
       "  <thead>\n",
       "    <tr style=\"text-align: right;\">\n",
       "      <th></th>\n",
       "      <th>df</th>\n",
       "      <th>sum_sq</th>\n",
       "      <th>mean_sq</th>\n",
       "      <th>F</th>\n",
       "      <th>PR(&gt;F)</th>\n",
       "    </tr>\n",
       "  </thead>\n",
       "  <tbody>\n",
       "    <tr>\n",
       "      <th>C(income)</th>\n",
       "      <td>1.0</td>\n",
       "      <td>3.248013e+10</td>\n",
       "      <td>3.248013e+10</td>\n",
       "      <td>2.915594</td>\n",
       "      <td>0.087737</td>\n",
       "    </tr>\n",
       "    <tr>\n",
       "      <th>Residual</th>\n",
       "      <td>32559.0</td>\n",
       "      <td>3.627119e+14</td>\n",
       "      <td>1.114014e+10</td>\n",
       "      <td>NaN</td>\n",
       "      <td>NaN</td>\n",
       "    </tr>\n",
       "  </tbody>\n",
       "</table>\n",
       "</div>"
      ],
      "text/plain": [
       "                df        sum_sq       mean_sq         F    PR(>F)\n",
       "C(income)      1.0  3.248013e+10  3.248013e+10  2.915594  0.087737\n",
       "Residual   32559.0  3.627119e+14  1.114014e+10       NaN       NaN"
      ]
     },
     "metadata": {},
     "output_type": "display_data"
    },
    {
     "name": "stdout",
     "output_type": "stream",
     "text": [
      "------------------------- education_num~C(income) -------------------------\n"
     ]
    },
    {
     "data": {
      "text/html": [
       "<div>\n",
       "<style scoped>\n",
       "    .dataframe tbody tr th:only-of-type {\n",
       "        vertical-align: middle;\n",
       "    }\n",
       "\n",
       "    .dataframe tbody tr th {\n",
       "        vertical-align: top;\n",
       "    }\n",
       "\n",
       "    .dataframe thead th {\n",
       "        text-align: right;\n",
       "    }\n",
       "</style>\n",
       "<table border=\"1\" class=\"dataframe\">\n",
       "  <thead>\n",
       "    <tr style=\"text-align: right;\">\n",
       "      <th></th>\n",
       "      <th>df</th>\n",
       "      <th>sum_sq</th>\n",
       "      <th>mean_sq</th>\n",
       "      <th>F</th>\n",
       "      <th>PR(&gt;F)</th>\n",
       "    </tr>\n",
       "  </thead>\n",
       "  <tbody>\n",
       "    <tr>\n",
       "      <th>C(income)</th>\n",
       "      <td>1.0</td>\n",
       "      <td>24207.962897</td>\n",
       "      <td>24207.962897</td>\n",
       "      <td>4120.09578</td>\n",
       "      <td>0.0</td>\n",
       "    </tr>\n",
       "    <tr>\n",
       "      <th>Residual</th>\n",
       "      <td>32559.0</td>\n",
       "      <td>191303.092476</td>\n",
       "      <td>5.875583</td>\n",
       "      <td>NaN</td>\n",
       "      <td>NaN</td>\n",
       "    </tr>\n",
       "  </tbody>\n",
       "</table>\n",
       "</div>"
      ],
      "text/plain": [
       "                df         sum_sq       mean_sq           F  PR(>F)\n",
       "C(income)      1.0   24207.962897  24207.962897  4120.09578     0.0\n",
       "Residual   32559.0  191303.092476      5.875583         NaN     NaN"
      ]
     },
     "metadata": {},
     "output_type": "display_data"
    },
    {
     "name": "stdout",
     "output_type": "stream",
     "text": [
      "------------------------- capital_gain~C(income) -------------------------\n"
     ]
    },
    {
     "data": {
      "text/html": [
       "<div>\n",
       "<style scoped>\n",
       "    .dataframe tbody tr th:only-of-type {\n",
       "        vertical-align: middle;\n",
       "    }\n",
       "\n",
       "    .dataframe tbody tr th {\n",
       "        vertical-align: top;\n",
       "    }\n",
       "\n",
       "    .dataframe thead th {\n",
       "        text-align: right;\n",
       "    }\n",
       "</style>\n",
       "<table border=\"1\" class=\"dataframe\">\n",
       "  <thead>\n",
       "    <tr style=\"text-align: right;\">\n",
       "      <th></th>\n",
       "      <th>df</th>\n",
       "      <th>sum_sq</th>\n",
       "      <th>mean_sq</th>\n",
       "      <th>F</th>\n",
       "      <th>PR(&gt;F)</th>\n",
       "    </tr>\n",
       "  </thead>\n",
       "  <tbody>\n",
       "    <tr>\n",
       "      <th>C(income)</th>\n",
       "      <td>1.0</td>\n",
       "      <td>8.857462e+10</td>\n",
       "      <td>8.857462e+10</td>\n",
       "      <td>1709.150064</td>\n",
       "      <td>0.0</td>\n",
       "    </tr>\n",
       "    <tr>\n",
       "      <th>Residual</th>\n",
       "      <td>32559.0</td>\n",
       "      <td>1.687330e+12</td>\n",
       "      <td>5.182378e+07</td>\n",
       "      <td>NaN</td>\n",
       "      <td>NaN</td>\n",
       "    </tr>\n",
       "  </tbody>\n",
       "</table>\n",
       "</div>"
      ],
      "text/plain": [
       "                df        sum_sq       mean_sq            F  PR(>F)\n",
       "C(income)      1.0  8.857462e+10  8.857462e+10  1709.150064     0.0\n",
       "Residual   32559.0  1.687330e+12  5.182378e+07          NaN     NaN"
      ]
     },
     "metadata": {},
     "output_type": "display_data"
    },
    {
     "name": "stdout",
     "output_type": "stream",
     "text": [
      "------------------------- capital_loss~C(income) -------------------------\n"
     ]
    },
    {
     "data": {
      "text/html": [
       "<div>\n",
       "<style scoped>\n",
       "    .dataframe tbody tr th:only-of-type {\n",
       "        vertical-align: middle;\n",
       "    }\n",
       "\n",
       "    .dataframe tbody tr th {\n",
       "        vertical-align: top;\n",
       "    }\n",
       "\n",
       "    .dataframe thead th {\n",
       "        text-align: right;\n",
       "    }\n",
       "</style>\n",
       "<table border=\"1\" class=\"dataframe\">\n",
       "  <thead>\n",
       "    <tr style=\"text-align: right;\">\n",
       "      <th></th>\n",
       "      <th>df</th>\n",
       "      <th>sum_sq</th>\n",
       "      <th>mean_sq</th>\n",
       "      <th>F</th>\n",
       "      <th>PR(&gt;F)</th>\n",
       "    </tr>\n",
       "  </thead>\n",
       "  <tbody>\n",
       "    <tr>\n",
       "      <th>C(income)</th>\n",
       "      <td>1.0</td>\n",
       "      <td>1.197936e+08</td>\n",
       "      <td>1.197936e+08</td>\n",
       "      <td>754.830452</td>\n",
       "      <td>2.686547e-164</td>\n",
       "    </tr>\n",
       "    <tr>\n",
       "      <th>Residual</th>\n",
       "      <td>32559.0</td>\n",
       "      <td>5.167200e+09</td>\n",
       "      <td>1.587026e+05</td>\n",
       "      <td>NaN</td>\n",
       "      <td>NaN</td>\n",
       "    </tr>\n",
       "  </tbody>\n",
       "</table>\n",
       "</div>"
      ],
      "text/plain": [
       "                df        sum_sq       mean_sq           F         PR(>F)\n",
       "C(income)      1.0  1.197936e+08  1.197936e+08  754.830452  2.686547e-164\n",
       "Residual   32559.0  5.167200e+09  1.587026e+05         NaN            NaN"
      ]
     },
     "metadata": {},
     "output_type": "display_data"
    },
    {
     "name": "stdout",
     "output_type": "stream",
     "text": [
      "------------------------- hours_per_week~C(income) -------------------------\n"
     ]
    },
    {
     "data": {
      "text/html": [
       "<div>\n",
       "<style scoped>\n",
       "    .dataframe tbody tr th:only-of-type {\n",
       "        vertical-align: middle;\n",
       "    }\n",
       "\n",
       "    .dataframe tbody tr th {\n",
       "        vertical-align: top;\n",
       "    }\n",
       "\n",
       "    .dataframe thead th {\n",
       "        text-align: right;\n",
       "    }\n",
       "</style>\n",
       "<table border=\"1\" class=\"dataframe\">\n",
       "  <thead>\n",
       "    <tr style=\"text-align: right;\">\n",
       "      <th></th>\n",
       "      <th>df</th>\n",
       "      <th>sum_sq</th>\n",
       "      <th>mean_sq</th>\n",
       "      <th>F</th>\n",
       "      <th>PR(&gt;F)</th>\n",
       "    </tr>\n",
       "  </thead>\n",
       "  <tbody>\n",
       "    <tr>\n",
       "      <th>C(income)</th>\n",
       "      <td>1.0</td>\n",
       "      <td>2.618895e+05</td>\n",
       "      <td>261889.502853</td>\n",
       "      <td>1813.386282</td>\n",
       "      <td>0.0</td>\n",
       "    </tr>\n",
       "    <tr>\n",
       "      <th>Residual</th>\n",
       "      <td>32559.0</td>\n",
       "      <td>4.702175e+06</td>\n",
       "      <td>144.420141</td>\n",
       "      <td>NaN</td>\n",
       "      <td>NaN</td>\n",
       "    </tr>\n",
       "  </tbody>\n",
       "</table>\n",
       "</div>"
      ],
      "text/plain": [
       "                df        sum_sq        mean_sq            F  PR(>F)\n",
       "C(income)      1.0  2.618895e+05  261889.502853  1813.386282     0.0\n",
       "Residual   32559.0  4.702175e+06     144.420141          NaN     NaN"
      ]
     },
     "metadata": {},
     "output_type": "display_data"
    },
    {
     "name": "stdout",
     "output_type": "stream",
     "text": [
      "------------------------- random~C(income) -------------------------\n"
     ]
    },
    {
     "data": {
      "text/html": [
       "<div>\n",
       "<style scoped>\n",
       "    .dataframe tbody tr th:only-of-type {\n",
       "        vertical-align: middle;\n",
       "    }\n",
       "\n",
       "    .dataframe tbody tr th {\n",
       "        vertical-align: top;\n",
       "    }\n",
       "\n",
       "    .dataframe thead th {\n",
       "        text-align: right;\n",
       "    }\n",
       "</style>\n",
       "<table border=\"1\" class=\"dataframe\">\n",
       "  <thead>\n",
       "    <tr style=\"text-align: right;\">\n",
       "      <th></th>\n",
       "      <th>df</th>\n",
       "      <th>sum_sq</th>\n",
       "      <th>mean_sq</th>\n",
       "      <th>F</th>\n",
       "      <th>PR(&gt;F)</th>\n",
       "    </tr>\n",
       "  </thead>\n",
       "  <tbody>\n",
       "    <tr>\n",
       "      <th>C(income)</th>\n",
       "      <td>1.0</td>\n",
       "      <td>12.316628</td>\n",
       "      <td>12.316628</td>\n",
       "      <td>1.505605</td>\n",
       "      <td>0.21982</td>\n",
       "    </tr>\n",
       "    <tr>\n",
       "      <th>Residual</th>\n",
       "      <td>32559.0</td>\n",
       "      <td>266349.525883</td>\n",
       "      <td>8.180519</td>\n",
       "      <td>NaN</td>\n",
       "      <td>NaN</td>\n",
       "    </tr>\n",
       "  </tbody>\n",
       "</table>\n",
       "</div>"
      ],
      "text/plain": [
       "                df         sum_sq    mean_sq         F   PR(>F)\n",
       "C(income)      1.0      12.316628  12.316628  1.505605  0.21982\n",
       "Residual   32559.0  266349.525883   8.180519       NaN      NaN"
      ]
     },
     "metadata": {},
     "output_type": "display_data"
    }
   ],
   "source": [
    "df_census.columns = [name.replace('-', '_') for name in df_census.columns]\n",
    "continuous_columns = [name.replace('-', '_') for name in continuous_columns]\n",
    "\n",
    "for column in continuous_columns:\n",
    "    formula = '{}~C(income)'.format(column)\n",
    "    print('-'*25, formula, '-'*25)\n",
    "    lm = ols('{}~C(income)'.format(column) , data=df_census).fit()\n",
    "    display(anova_lm(lm))"
   ]
  },
  {
   "cell_type": "markdown",
   "metadata": {},
   "source": [
    "![image-20201230160907946](images/image-20201230160907946.png)\n",
    "\n",
    "![image-20201230160926087](images/image-20201230160926087.png)\n",
    "\n",
    "## 参考\n",
    "\n",
    "- [方差分析](https://wh136.github.io/anova/anova.pdf)\n",
    "- [如何理解方差分析和F分布？](https://blog.csdn.net/ccnt_2012/article/details/109815989)\n",
    "- [如何理解t检验、t分布、t值？](https://www.matongxue.com/madocs/580/)\n",
    "- [数理统计讲义](https://bookdown.org/hezhijian/book/)\n",
    "- [scipy.stats.f_oneway](https://docs.scipy.org/doc/scipy/reference/generated/scipy.stats.f_oneway.html)\n",
    "- [统计学原理实验教程（Python）](https://github.com/SharkFin-top/Statistics_Python_Codes/)\n",
    "\n",
    "## 历史\n",
    "\n",
    "- 2020-12-30：初始版本。"
   ]
  },
  {
   "cell_type": "code",
   "execution_count": 75,
   "metadata": {
    "ExecuteTime": {
     "end_time": "2021-03-31T08:48:06.577372Z",
     "start_time": "2021-03-31T08:48:06.563452Z"
    }
   },
   "outputs": [],
   "source": [
    "class MultiSelectKBest(object):\n",
    "    def __init__(self, score_func=f_classif, k=10):\n",
    "        super().__init__()\n",
    "        self.score_func = score_func\n",
    "        self.k = k\n",
    "        self.pvalues_ = None\n",
    "        self.scores_ = None\n",
    "\n",
    "    def fit(self, X, y):\n",
    "        scores = []\n",
    "        pvalues = []\n",
    "        for j in range(y.shape[1]):\n",
    "            selector = SelectKBest(self.score_func, k='all')\n",
    "            selector.fit(X, y[:, j])\n",
    "            scores.append(list(selector.scores_))\n",
    "            if selector.pvalues_ is not None:\n",
    "                pvalues.append(list(selector.pvalues_))\n",
    "\n",
    "        self.scores_ = np.mean(scores, axis=0)\n",
    "        if len(pvalues) > 0:\n",
    "            self.pvalues_ = np.mean(pvalues, axis=0)\n",
    "        else:\n",
    "            self.pvalues_ = None\n",
    "\n",
    "        return self\n",
    "        \n",
    "    def transform(self, X):\n",
    "        if self.k=='all':\n",
    "            return X\n",
    "        scores = self.scores_\n",
    "        indexes = np.argsort(scores, kind=\"mergesort\")[-self.k:]\n",
    "        indexes.sort()\n",
    "        return X[:, indexes]\n",
    "        \n",
    "    def fit_transform(self, X, y):\n",
    "        self.fit(X, y)\n",
    "        return self.transform(X)"
   ]
  },
  {
   "cell_type": "code",
   "execution_count": 79,
   "metadata": {
    "ExecuteTime": {
     "end_time": "2021-03-31T08:50:03.589295Z",
     "start_time": "2021-03-31T08:50:03.583404Z"
    }
   },
   "outputs": [
    {
     "data": {
      "text/plain": [
       "array([['<=50K', 'Male'],\n",
       "       ['<=50K', 'Male'],\n",
       "       ['<=50K', 'Male'],\n",
       "       ...,\n",
       "       ['<=50K', 'Female'],\n",
       "       ['<=50K', 'Male'],\n",
       "       ['>50K', 'Female']], dtype=object)"
      ]
     },
     "execution_count": 79,
     "metadata": {},
     "output_type": "execute_result"
    }
   ],
   "source": [
    "new_y = df_census[['income', 'sex']].to_numpy()\n",
    "new_y"
   ]
  },
  {
   "cell_type": "code",
   "execution_count": 81,
   "metadata": {
    "ExecuteTime": {
     "end_time": "2021-03-31T08:50:16.311893Z",
     "start_time": "2021-03-31T08:50:16.257172Z"
    }
   },
   "outputs": [
    {
     "name": "stdout",
     "output_type": "stream",
     "text": [
      "[1072.83820875   13.20956613 2062.50320439  892.92648914  411.28804903\n",
      " 1810.22300183    0.77943825]\n",
      "[0.         0.04386896 0.0133494  0.         0.         0.\n",
      " 0.51864305]\n",
      "[[39 13 40]\n",
      " [50 13 13]\n",
      " [38  9 40]\n",
      " [53  7 40]\n",
      " [28 13 40]]\n"
     ]
    }
   ],
   "source": [
    "select_kbest = MultiSelectKBest(f_classif, k=3)\n",
    "X_selected = select_kbest.fit_transform(X, new_y)\n",
    "print(select_kbest.scores_)\n",
    "print(select_kbest.pvalues_)\n",
    "print(X_selected[0:5])"
   ]
  },
  {
   "cell_type": "code",
   "execution_count": 87,
   "metadata": {
    "ExecuteTime": {
     "end_time": "2021-03-31T08:52:33.857683Z",
     "start_time": "2021-03-31T08:52:33.851044Z"
    }
   },
   "outputs": [
    {
     "data": {
      "text/plain": [
       "array([1886.70731372,    2.91559359, 4120.09577971, 1709.15006374,\n",
       "        754.83045155, 1813.38628222,    1.50560463])"
      ]
     },
     "execution_count": 87,
     "metadata": {},
     "output_type": "execute_result"
    }
   ],
   "source": [
    "select_kbest1.scores_ "
   ]
  },
  {
   "cell_type": "code",
   "execution_count": 88,
   "metadata": {
    "ExecuteTime": {
     "end_time": "2021-03-31T08:52:41.408249Z",
     "start_time": "2021-03-31T08:52:41.403569Z"
    }
   },
   "outputs": [
    {
     "data": {
      "text/plain": [
       "array([ 258.96910378,   23.50353867,    4.91062908,   76.70291454,\n",
       "         67.74564651, 1807.05972145,    0.05327186])"
      ]
     },
     "execution_count": 88,
     "metadata": {},
     "output_type": "execute_result"
    }
   ],
   "source": [
    "select_kbest2.scores_ "
   ]
  },
  {
   "cell_type": "code",
   "execution_count": 90,
   "metadata": {
    "ExecuteTime": {
     "end_time": "2021-03-31T08:53:00.834636Z",
     "start_time": "2021-03-31T08:53:00.829029Z"
    }
   },
   "outputs": [
    {
     "data": {
      "text/plain": [
       "array([1072.83820875,   13.20956613, 2062.50320439,  892.92648914,\n",
       "        411.28804903, 1810.22300183,    0.77943825])"
      ]
     },
     "execution_count": 90,
     "metadata": {},
     "output_type": "execute_result"
    }
   ],
   "source": [
    "(select_kbest1.scores_  + select_kbest2.scores_ )/2 "
   ]
  },
  {
   "cell_type": "code",
   "execution_count": 84,
   "metadata": {
    "ExecuteTime": {
     "end_time": "2021-03-31T08:51:43.537179Z",
     "start_time": "2021-03-31T08:51:43.501950Z"
    }
   },
   "outputs": [
    {
     "name": "stdout",
     "output_type": "stream",
     "text": [
      "[1886.70731372    2.91559359 4120.09577971 1709.15006374  754.83045155\n",
      " 1813.38628222    1.50560463]\n",
      "[0.         0.08773666 0.         0.         0.         0.\n",
      " 0.21981988]\n",
      "[[39 13 40]\n",
      " [50 13 13]\n",
      " [38  9 40]\n",
      " [53  7 40]\n",
      " [28 13 40]]\n"
     ]
    }
   ],
   "source": [
    "select_kbest1 = SelectKBest(f_classif, k=3)\n",
    "y1 = df_census[['income']].to_numpy().ravel()\n",
    "X_selected = select_kbest1.fit_transform(X, y1)\n",
    "print(select_kbest1.scores_)\n",
    "print(select_kbest1.pvalues_)\n",
    "print(X_selected[0:5])"
   ]
  },
  {
   "cell_type": "code",
   "execution_count": 86,
   "metadata": {
    "ExecuteTime": {
     "end_time": "2021-03-31T08:51:55.090194Z",
     "start_time": "2021-03-31T08:51:55.057258Z"
    }
   },
   "outputs": [
    {
     "name": "stdout",
     "output_type": "stream",
     "text": [
      "[ 258.96910378   23.50353867    4.91062908   76.70291454   67.74564651\n",
      " 1807.05972145    0.05327186]\n",
      "[0.         0.00000125 0.02669881 0.         0.         0.\n",
      " 0.81746621]\n",
      "[[  39 2174   40]\n",
      " [  50    0   13]\n",
      " [  38    0   40]\n",
      " [  53    0   40]\n",
      " [  28    0   40]]\n"
     ]
    }
   ],
   "source": [
    "select_kbest2 = SelectKBest(f_classif, k=3)\n",
    "y1 = df_census[['sex']].to_numpy().ravel()\n",
    "X_selected = select_kbest2.fit_transform(X, y1)\n",
    "print(select_kbest2.scores_)\n",
    "print(select_kbest2.pvalues_)\n",
    "print(X_selected[0:5])"
   ]
  },
  {
   "cell_type": "code",
   "execution_count": 64,
   "metadata": {
    "ExecuteTime": {
     "end_time": "2021-03-31T08:43:21.940727Z",
     "start_time": "2021-03-31T08:43:21.936480Z"
    },
    "scrolled": false
   },
   "outputs": [
    {
     "name": "stdout",
     "output_type": "stream",
     "text": [
      "[[   39 77516    13  2174     0    40     0]]\n",
      "[[39 13 40]\n",
      " [50 13 13]\n",
      " [38  9 40]\n",
      " [53  7 40]\n",
      " [28 13 40]]\n"
     ]
    }
   ],
   "source": [
    "print(X[0:1])\n",
    "print(X_selected[0:5])"
   ]
  },
  {
   "cell_type": "code",
   "execution_count": 23,
   "metadata": {
    "ExecuteTime": {
     "end_time": "2021-03-31T08:14:36.632528Z",
     "start_time": "2021-03-31T08:14:36.627005Z"
    }
   },
   "outputs": [
    {
     "data": {
      "text/plain": [
       "array(['<=50K', '<=50K', '<=50K', ..., '<=50K', '<=50K', '>50K'],\n",
       "      dtype=object)"
      ]
     },
     "execution_count": 23,
     "metadata": {},
     "output_type": "execute_result"
    }
   ],
   "source": [
    "y"
   ]
  },
  {
   "cell_type": "code",
   "execution_count": null,
   "metadata": {},
   "outputs": [],
   "source": []
  }
 ],
 "metadata": {
  "kernelspec": {
   "display_name": "Python 3",
   "language": "python",
   "name": "python3"
  },
  "language_info": {
   "codemirror_mode": {
    "name": "ipython",
    "version": 3
   },
   "file_extension": ".py",
   "mimetype": "text/x-python",
   "name": "python",
   "nbconvert_exporter": "python",
   "pygments_lexer": "ipython3",
   "version": "3.6.9"
  },
  "toc": {
   "base_numbering": 1,
   "nav_menu": {},
   "number_sections": true,
   "sideBar": true,
   "skip_h1_title": false,
   "title_cell": "Table of Contents",
   "title_sidebar": "Contents",
   "toc_cell": false,
   "toc_position": {},
   "toc_section_display": true,
   "toc_window_display": false
  }
 },
 "nbformat": 4,
 "nbformat_minor": 4
}
