{
 "cells": [
  {
   "cell_type": "markdown",
   "metadata": {
    "deletable": false,
    "editable": false,
    "nbgrader": {
     "cell_type": "markdown",
     "checksum": "4f046aa616adb1b5cff666e8a39e2da6",
     "grade": false,
     "grade_id": "cell-41f41eebcd73cca6",
     "locked": true,
     "schema_version": 3,
     "solution": false,
     "task": false
    },
    "slideshow": {
     "slide_type": ""
    },
    "tags": []
   },
   "source": [
    "# Assignment: Policy Evaluation in Cliff Walking Environment\n",
    "\n",
    "Welcome to the Course 2 Module 2 Programming Assignment! In this assignment, you will implement one of the fundamental sample and bootstrapping based model free reinforcement learning agents for prediction. This is namely one that uses one-step temporal difference learning, also known as TD(0). The task is to design an agent for policy evaluation in the Cliff Walking environment. Recall that policy evaluation is the prediction problem where the goal is to accurately estimate the values of states given some policy.\n",
    "\n",
    "### Learning Objectives\n",
    "- Implement parts of the Cliff Walking environment, to get experience specifying MDPs [Section 1].\n",
    "- Implement an agent that uses bootstrapping and, particularly, TD(0) [Section 2].\n",
    "- Apply TD(0) to estimate value functions for different policies, i.e., run policy evaluation experiments [Section 3]."
   ]
  },
  {
   "cell_type": "markdown",
   "metadata": {
    "deletable": false,
    "editable": false,
    "nbgrader": {
     "cell_type": "markdown",
     "checksum": "b116f0285911fc08ee56b1e0f30f0001",
     "grade": false,
     "grade_id": "cell-be83ec3ee232897b",
     "locked": true,
     "schema_version": 3,
     "solution": false,
     "task": false
    }
   },
   "source": [
    "## The Cliff Walking Environment\n",
    "\n",
    "The Cliff Walking environment is a gridworld with a discrete state space and discrete action space. The agent starts at grid cell S. The agent can move (deterministically) to the four neighboring cells by taking actions Up, Down, Left or Right. Trying to move out of the boundary results in staying in the same location. So, for example, trying to move left when at a cell on the leftmost column results in no movement at all and the agent remains in the same location. The agent receives -1 reward per step in most states, and -100 reward when falling off of the cliff. This is an episodic task; termination occurs when the agent reaches the goal grid cell G. Falling off of the cliff results in resetting to the start state, without termination.\n",
    "\n",
    "The diagram below showcases the description above and also illustrates two of the policies we will be evaluating.\n",
    "\n",
    "<img src=\"cliffwalk.png\" style=\"height:400px\">"
   ]
  },
  {
   "cell_type": "markdown",
   "metadata": {
    "deletable": false,
    "editable": false,
    "nbgrader": {
     "cell_type": "markdown",
     "checksum": "3d66ea9338a76a07ea21c1d22c0202db",
     "grade": false,
     "grade_id": "cell-a57c99064bb8efe6",
     "locked": true,
     "schema_version": 3,
     "solution": false,
     "task": false
    }
   },
   "source": [
    "## Packages.\n",
    "\n",
    "We import the following libraries that are required for this assignment. We shall be using the following libraries:\n",
    "1. jdc: Jupyter magic that allows defining classes over multiple jupyter notebook cells.\n",
    "2. numpy: the fundamental package for scientific computing with Python.\n",
    "3. matplotlib: the library for plotting graphs in Python.\n",
    "4. RL-Glue: the library for reinforcement learning experiments.\n",
    "5. BaseEnvironment, BaseAgent: the base classes from which we will inherit when creating the environment and agent classes in order for them to support the RL-Glue framework.\n",
    "6. Manager: the file allowing for visualization and testing.\n",
    "7. itertools.product: the function that can be used easily to compute permutations.\n",
    "8. tqdm.tqdm: Provides progress bars for visualizing the status of loops.\n",
    "\n",
    "**Please do not import other libraries** this will break the autograder.\n",
    "\n",
    "**NOTE: For this notebook, there is no need to make any calls to methods of random number generators. Spurious or missing calls to random number generators may affect your results.**"
   ]
  },
  {
   "cell_type": "code",
   "execution_count": null,
   "metadata": {
    "deletable": false,
    "editable": false,
    "nbgrader": {
     "cell_type": "code",
     "checksum": "961301eba64117ca89220f6130255741",
     "grade": false,
     "grade_id": "cell-880b4e1ed6e705b9",
     "locked": true,
     "schema_version": 3,
     "solution": false,
     "task": false
    }
   },
   "outputs": [],
   "source": [
    "# Do not modify this cell!\n",
    "\n",
    "import jdc\n",
    "import numpy as np\n",
    "from rl_glue import RLGlue\n",
    "from Agent import BaseAgent \n",
    "from Environment import BaseEnvironment  \n",
    "from manager import Manager\n",
    "from itertools import product\n",
    "from tqdm import tqdm"
   ]
  },
  {
   "cell_type": "markdown",
   "metadata": {
    "deletable": false,
    "editable": false,
    "nbgrader": {
     "cell_type": "markdown",
     "checksum": "25ea26e935a037c9cc5305c35f72e365",
     "grade": false,
     "grade_id": "cell-3c437cccaf36fbde",
     "locked": true,
     "schema_version": 3,
     "solution": false,
     "task": false
    }
   },
   "source": [
    "## Section 1. Environment\n",
    "\n",
    "In the first part of this assignment, you will get to see how the Cliff Walking environment is implemented. You will also get to implement parts of it to aid your understanding of the environment and more generally how MDPs are specified. In particular, you will implement the logic for:\n",
    " 1. Converting 2-dimensional coordinates to a single index for the state,\n",
    " 2. One of the actions (action up), and,\n",
    " 3. Reward and termination.\n",
    " \n",
    "Given below is an annotated diagram of the environment with more details that may help in completing the tasks of this part of the assignment. Note that we will be creating a more general environment where the height and width positions can be variable but the start, goal and cliff grid cells have the same relative positions (bottom left, bottom right and the cells between the start and goal grid cells respectively).\n",
    "\n",
    "<img src=\"cliffwalk-annotated.png\" style=\"height:400px\">\n",
    "\n",
    "Once you have gone through the code and begun implementing solutions, it may be a good idea to come back here and see if you can convince yourself that the diagram above is an accurate representation of the code given and the code you have written."
   ]
  },
  {
   "cell_type": "code",
   "execution_count": null,
   "metadata": {
    "deletable": false,
    "editable": false,
    "nbgrader": {
     "cell_type": "code",
     "checksum": "70a921fedaf47f9cd58bcc38dfff2079",
     "grade": false,
     "grade_id": "cell-61ab5d6bc73499aa",
     "locked": true,
     "schema_version": 3,
     "solution": false,
     "task": false
    }
   },
   "outputs": [],
   "source": [
    "# ---------------\n",
    "# Discussion Cell\n",
    "# ---------------\n",
    "\n",
    "# Create empty CliffWalkEnvironment class.\n",
    "# These methods will be filled in later cells.\n",
    "class CliffWalkEnvironment(BaseEnvironment):\n",
    "    def env_init(self, env_info={}):\n",
    "        raise NotImplementedError\n",
    "\n",
    "    def env_start(self):\n",
    "        raise NotImplementedError\n",
    "\n",
    "    def env_step(self, action):\n",
    "        raise NotImplementedError\n",
    "\n",
    "    def env_cleanup(self):\n",
    "        raise NotImplementedError\n",
    "    \n",
    "    # helper method\n",
    "    def state(self, loc):\n",
    "        raise NotImplementedError"
   ]
  },
  {
   "cell_type": "markdown",
   "metadata": {
    "deletable": false,
    "editable": false,
    "nbgrader": {
     "cell_type": "markdown",
     "checksum": "cdb4802e028fdadfc490acae83c28e4f",
     "grade": false,
     "grade_id": "cell-787bae36a5a76fc1",
     "locked": true,
     "schema_version": 3,
     "solution": false,
     "task": false
    }
   },
   "source": [
    "## env_init()\n",
    "\n",
    "The first function we add to the environment is the initialization function which is called once when an environment object is created. In this function, the grid dimensions and special locations (start and goal locations and the cliff locations) are stored for easy use later."
   ]
  },
  {
   "cell_type": "code",
   "execution_count": null,
   "metadata": {
    "deletable": false,
    "editable": false,
    "nbgrader": {
     "cell_type": "code",
     "checksum": "9628a884b34ab00f14b560fa3eddc294",
     "grade": false,
     "grade_id": "cell-e15c46384ae349b7",
     "locked": true,
     "schema_version": 3,
     "solution": false,
     "task": false
    }
   },
   "outputs": [],
   "source": [
    "%%add_to CliffWalkEnvironment\n",
    "\n",
    "# ---------------\n",
    "# Discussion Cell\n",
    "# ---------------\n",
    "\n",
    "def env_init(self, env_info={}):\n",
    "        \"\"\"Setup for the environment called when the experiment first starts.\n",
    "        Note:\n",
    "            Initialize a tuple with the reward, first state, boolean\n",
    "            indicating if it's terminal.\n",
    "        \"\"\"\n",
    "        \n",
    "        # Note, we can setup the following variables later, in env_start() as it is equivalent. \n",
    "        # Code is left here to adhere to the note above, but these variables are initialized once more\n",
    "        # in env_start() [See the env_start() function below.]\n",
    "        \n",
    "        reward = None\n",
    "        state = None # See Aside\n",
    "        termination = None\n",
    "        self.reward_state_term = (reward, state, termination)\n",
    "        \n",
    "        # AN ASIDE: Observation is a general term used in the RL-Glue files that can be interachangeably \n",
    "        # used with the term \"state\" for our purposes and for this assignment in particular. \n",
    "        # A difference arises in the use of the terms when we have what is called Partial Observability where \n",
    "        # the environment may return states that may not fully represent all the information needed to \n",
    "        # predict values or make decisions (i.e., the environment is non-Markovian.)\n",
    "        \n",
    "        # Set the default height to 4 and width to 12 (as in the diagram given above)\n",
    "        self.grid_h = env_info.get(\"grid_height\", 4) \n",
    "        self.grid_w = env_info.get(\"grid_width\", 12)\n",
    "        \n",
    "        # Now, we can define a frame of reference. Let positive x be towards the direction down and \n",
    "        # positive y be towards the direction right (following the row-major NumPy convention.)\n",
    "        # Then, keeping with the usual convention that arrays are 0-indexed, max x is then grid_h - 1 \n",
    "        # and max y is then grid_w - 1. So, we have:\n",
    "        # Starting location of agent is the bottom-left corner, (max x, min y). \n",
    "        self.start_loc = (self.grid_h - 1, 0)\n",
    "        # Goal location is the bottom-right corner. (max x, max y).\n",
    "        self.goal_loc = (self.grid_h - 1, self.grid_w - 1)\n",
    "        \n",
    "        # The cliff will contain all the cells between the start_loc and goal_loc.\n",
    "        self.cliff = [(self.grid_h - 1, i) for i in range(1, (self.grid_w - 1))]\n",
    "        \n",
    "        # Take a look at the annotated environment diagram given in the above Jupyter Notebook cell to \n",
    "        # verify that your understanding of the above code is correct for the default case, i.e., where \n",
    "        # height = 4 and width = 12."
   ]
  },
  {
   "cell_type": "markdown",
   "metadata": {
    "deletable": false,
    "editable": false,
    "nbgrader": {
     "cell_type": "markdown",
     "checksum": "900b8b4c3bbad22ecd0d96c4961ed441",
     "grade": false,
     "grade_id": "cell-788513ad1e5a7993",
     "locked": true,
     "schema_version": 3,
     "solution": false,
     "task": false
    }
   },
   "source": [
    "## *Implement* state()\n",
    "    \n",
    "The agent location can be described as a two-tuple or coordinate (x, y) describing the agentâ€™s position. \n",
    "However, we can convert the (x, y) tuple into a single index and provide agents with just this integer.\n",
    "One reason for this choice is that the spatial aspect of the problem is secondary and there is no need \n",
    "for the agent to know about the exact dimensions of the environment. \n",
    "From the agentâ€™s viewpoint, it is just perceiving some states, accessing their corresponding values \n",
    "in a table, and updating them. Both the coordinate (x, y) state representation and the converted coordinate representation are thus equivalent in this sense.\n",
    "\n",
    "Given a grid cell location, the state() function should return the state; a single index corresponding to the location in the grid.\n",
    "\n",
    "\n",
    "```\n",
    "Example: Suppose grid_h is 2 and grid_w is 2. Then, we can write the grid cell two-tuple or coordinate\n",
    "states as follows (following the usual 0-index convention):\n",
    "|(0, 0) (0, 1)| |0 1|\n",
    "|(1, 0) (1, 1)| |2 3|\n",
    "Assuming row-major order as NumPy does,  we can flatten the latter to get a vector [0 1 2 3].\n",
    "So, if loc = (0, 0) we return 0. While, for loc = (1, 1) we return 3.\n",
    "```"
   ]
  },
  {
   "cell_type": "code",
   "execution_count": null,
   "metadata": {
    "deletable": false,
    "nbgrader": {
     "cell_type": "code",
     "checksum": "d8812eea241d83eb6a6e102019b543e4",
     "grade": false,
     "grade_id": "cell-41a1c253613aa0b0",
     "locked": false,
     "schema_version": 3,
     "solution": true,
     "task": false
    }
   },
   "outputs": [],
   "source": [
    "%%add_to CliffWalkEnvironment\n",
    "\n",
    "# -----------\n",
    "# Graded Cell\n",
    "# -----------\n",
    "\n",
    "# Modify the return statement of this function to return a correct single index as \n",
    "# the state (see the logic for this in the previous cell.)\n",
    "def state(self, loc):\n",
    "    # your code here\n",
    "    "
   ]
  },
  {
   "cell_type": "code",
   "execution_count": null,
   "metadata": {},
   "outputs": [],
   "source": [
    "# --------------\n",
    "# Debugging Cell\n",
    "# --------------\n",
    "# Feel free to make any changes to this cell to debug your code\n",
    "\n",
    "env = CliffWalkEnvironment()\n",
    "env.env_init({ \"grid_height\": 4, \"grid_width\": 12 })\n",
    "\n",
    "coords = [(0, 0), (0, 11), (1, 5), (3, 0), (3, 9), (3, 11)]\n",
    "correct_outputs = [0, 11, 17, 36, 45, 47]\n",
    "\n",
    "got = [env.state(s) for s in coords]\n",
    "assert got == correct_outputs"
   ]
  },
  {
   "cell_type": "code",
   "execution_count": null,
   "metadata": {
    "deletable": false,
    "editable": false,
    "nbgrader": {
     "cell_type": "code",
     "checksum": "f405849cc734485507aaaf0a6c3de361",
     "grade": true,
     "grade_id": "cell-af9c8dc2ad3b0918",
     "locked": true,
     "points": 5,
     "schema_version": 3,
     "solution": false,
     "task": false
    }
   },
   "outputs": [],
   "source": [
    "# -----------\n",
    "# Tested Cell\n",
    "# -----------\n",
    "# The contents of the cell will be tested by the autograder.\n",
    "# If they do not pass here, they will not pass there.\n",
    "\n",
    "np.random.seed(0)\n",
    "\n",
    "env = CliffWalkEnvironment()\n",
    "for n in range(100):\n",
    "    # make a gridworld of random size and shape\n",
    "    height = np.random.randint(2, 100)\n",
    "    width = np.random.randint(2, 100)\n",
    "    env.env_init({ \"grid_height\": height, \"grid_width\": width })\n",
    "    \n",
    "    # generate some random coordinates within the grid\n",
    "    idx_h = np.random.randint(height)\n",
    "    idx_w = np.random.randint(width)\n",
    "    \n",
    "    # check that the state index is correct\n",
    "    state = env.state((idx_h, idx_w))\n",
    "    correct_state = width * idx_h + idx_w\n",
    "    \n",
    "    assert state == correct_state"
   ]
  },
  {
   "cell_type": "markdown",
   "metadata": {
    "deletable": false,
    "editable": false,
    "nbgrader": {
     "cell_type": "markdown",
     "checksum": "6b02e570dfc9a3f91deb8844fec71cb6",
     "grade": false,
     "grade_id": "cell-afaec4ef9dad3e8c",
     "locked": true,
     "schema_version": 3,
     "solution": false,
     "task": false
    }
   },
   "source": [
    "## env_start()\n",
    "\n",
    "In env_start(), we initialize the agent location to be the start location and return the state corresponding to it as the first state for the agent to act upon. Additionally, we also set the reward and termination terms to be 0 and False respectively as they are consistent with the notion that there is no reward nor termination before the first action is even taken."
   ]
  },
  {
   "cell_type": "code",
   "execution_count": null,
   "metadata": {
    "deletable": false,
    "editable": false,
    "nbgrader": {
     "cell_type": "code",
     "checksum": "9d9555e6777c4238253214ee338d1120",
     "grade": false,
     "grade_id": "cell-d4a47fc700dc1702",
     "locked": true,
     "schema_version": 3,
     "solution": false,
     "task": false
    }
   },
   "outputs": [],
   "source": [
    "%%add_to CliffWalkEnvironment\n",
    "\n",
    "# ---------------\n",
    "# Discussion Cell\n",
    "# ---------------\n",
    "\n",
    "def env_start(self):\n",
    "    \"\"\"The first method called when the episode starts, called before the\n",
    "    agent starts.\n",
    "\n",
    "    Returns:\n",
    "        The first state from the environment.\n",
    "    \"\"\"\n",
    "    reward = 0\n",
    "    # agent_loc will hold the current location of the agent\n",
    "    self.agent_loc = self.start_loc\n",
    "    # state is the one dimensional state representation of the agent location.\n",
    "    state = self.state(self.agent_loc)\n",
    "    termination = False\n",
    "    self.reward_state_term = (reward, state, termination)\n",
    "\n",
    "    return self.reward_state_term[1]"
   ]
  },
  {
   "cell_type": "markdown",
   "metadata": {
    "deletable": false,
    "editable": false,
    "nbgrader": {
     "cell_type": "markdown",
     "checksum": "59d7de251b98b0d5cf643c8f997ea120",
     "grade": false,
     "grade_id": "cell-97e8a586d4c74c95",
     "locked": true,
     "schema_version": 3,
     "solution": false,
     "task": false
    }
   },
   "source": [
    "## *Implement* env_step()\n",
    "\n",
    "Once an action is taken by the agent, the environment must provide a new state, reward and termination signal. \n",
    "\n",
    "In the Cliff Walking environment, agents move around using a 4-cell neighborhood called the Von Neumann neighborhood (https://en.wikipedia.org/wiki/Von_Neumann_neighborhood). Thus, the agent has 4 available actions at each state. Three of the actions have been implemented for you and your first task is to implement the logic for the fourth action (Action UP).\n",
    "\n",
    "Your second task for this function is to implement the reward logic. Look over the environment description given earlier in this notebook if you need a refresher for how the reward signal is defined."
   ]
  },
  {
   "cell_type": "code",
   "execution_count": null,
   "metadata": {
    "deletable": false,
    "nbgrader": {
     "cell_type": "code",
     "checksum": "93c59f644f0a24823d6fd512465b83b8",
     "grade": false,
     "grade_id": "cell-47a55053538ed113",
     "locked": false,
     "schema_version": 3,
     "solution": true,
     "task": false
    }
   },
   "outputs": [],
   "source": [
    "%%add_to CliffWalkEnvironment\n",
    "\n",
    "# -----------\n",
    "# Graded Cell\n",
    "# -----------\n",
    "\n",
    "def isInBounds(x, y, width, height):\n",
    "    # your code here\n",
    "    \n",
    "\n",
    "# Fill in the code for action UP and implement the logic for reward and termination.\n",
    "def env_step(self, action):\n",
    "    \"\"\"A step taken by the environment.\n",
    "\n",
    "    Args:\n",
    "        action: The action taken by the agent\n",
    "\n",
    "    Returns:\n",
    "        (float, state, Boolean): a tuple of the reward, state,\n",
    "            and boolean indicating if it's terminal.\n",
    "    \"\"\"\n",
    "    \n",
    "    x, y = self.agent_loc\n",
    "\n",
    "    # UP\n",
    "    if action == 0:\n",
    "        # Hint: Look at the code given for the other actions and think about the logic in them.\n",
    "        # your code here\n",
    "        \n",
    "        \n",
    "    # LEFT\n",
    "    elif action == 1:\n",
    "        y = y - 1\n",
    "        \n",
    "    # DOWN\n",
    "    elif action == 2:\n",
    "        x = x + 1\n",
    "        \n",
    "    # RIGHT\n",
    "    elif action == 3:\n",
    "        y = y + 1\n",
    "        \n",
    "    # Uh-oh\n",
    "    else: \n",
    "        raise Exception(str(action) + \" not in recognized actions [0: Up, 1: Left, 2: Down, 3: Right]!\")\n",
    "\n",
    "    # if the action takes the agent out-of-bounds\n",
    "    # then the agent stays in the same state\n",
    "    if not isInBounds(x, y, self.grid_w, self.grid_h):\n",
    "        x, y = self.agent_loc\n",
    "        \n",
    "    # assign the new location to the environment object\n",
    "    self.agent_loc = (x, y)\n",
    "    \n",
    "    # by default, assume -1 reward per step and that we did not terminate\n",
    "    reward = -1\n",
    "    terminal = False\n",
    "    \n",
    "    # assign the reward and terminal variables \n",
    "    # - if the agent falls off the cliff (don't forget to reset agent location!)\n",
    "    # - if the agent reaches the goal state\n",
    "    # your code here\n",
    "    \n",
    "    \n",
    "    self.reward_state_term = (reward, self.state(self.agent_loc), terminal)\n",
    "    return self.reward_state_term"
   ]
  },
  {
   "cell_type": "code",
   "execution_count": null,
   "metadata": {},
   "outputs": [],
   "source": [
    "# --------------\n",
    "# Debugging Cell\n",
    "# --------------\n",
    "# Feel free to make any changes to this cell to debug your code\n",
    "\n",
    "def test_action_up():\n",
    "    env = CliffWalkEnvironment()\n",
    "    env.env_init({\"grid_height\": 4, \"grid_width\": 12})\n",
    "    env.agent_loc = (0, 0)\n",
    "    env.env_step(0)\n",
    "    assert(env.agent_loc == (0, 0))\n",
    "    \n",
    "    env.agent_loc = (1, 0)\n",
    "    env.env_step(0)\n",
    "    assert(env.agent_loc == (0, 0))\n",
    "    \n",
    "def test_reward():\n",
    "    env = CliffWalkEnvironment()\n",
    "    env.env_init({\"grid_height\": 4, \"grid_width\": 12})\n",
    "    env.agent_loc = (0, 0)\n",
    "    reward_state_term = env.env_step(0)\n",
    "    assert(reward_state_term[0] == -1 and reward_state_term[1] == env.state((0, 0)) and\n",
    "           reward_state_term[2] == False)\n",
    "    \n",
    "    env.agent_loc = (3, 1)\n",
    "    reward_state_term = env.env_step(2)\n",
    "    assert(reward_state_term[0] == -100 and reward_state_term[1] == env.state((3, 0)) and\n",
    "           reward_state_term[2] == False)\n",
    "    \n",
    "    env.agent_loc = (2, 11)\n",
    "    reward_state_term = env.env_step(2)\n",
    "    assert(reward_state_term[0] == -1 and reward_state_term[1] == env.state((3, 11)) and\n",
    "           reward_state_term[2] == True)\n",
    "    \n",
    "test_action_up()\n",
    "test_reward()"
   ]
  },
  {
   "cell_type": "code",
   "execution_count": null,
   "metadata": {
    "deletable": false,
    "editable": false,
    "nbgrader": {
     "cell_type": "code",
     "checksum": "930e2f004e7f5bc157d4ade45c186185",
     "grade": true,
     "grade_id": "cell-cc53e967d108b33c",
     "locked": true,
     "points": 5,
     "schema_version": 3,
     "solution": false,
     "task": false
    }
   },
   "outputs": [],
   "source": [
    "# -----------\n",
    "# Tested Cell\n",
    "# -----------\n",
    "# The contents of the cell will be tested by the autograder.\n",
    "# If they do not pass here, they will not pass there.\n",
    "np.random.seed(0)\n",
    "\n",
    "env = CliffWalkEnvironment()\n",
    "for n in range(100):\n",
    "    # create a cliff world of random size\n",
    "    height = np.random.randint(2, 100)\n",
    "    width = np.random.randint(2, 100)\n",
    "    env.env_init({\"grid_height\": height, \"grid_width\": width})\n",
    "    \n",
    "    # start the agent in a random location\n",
    "    idx_h = 0 if np.random.random() < 0.5 else np.random.randint(height)\n",
    "    idx_w = np.random.randint(width)\n",
    "    env.agent_loc = (idx_h, idx_w)\n",
    "    \n",
    "    env.env_step(0)\n",
    "    assert(env.agent_loc == (0 if idx_h == 0 else idx_h - 1, idx_w))"
   ]
  },
  {
   "cell_type": "code",
   "execution_count": null,
   "metadata": {
    "deletable": false,
    "editable": false,
    "nbgrader": {
     "cell_type": "code",
     "checksum": "085778d845e6e8259013f384c9c71fc7",
     "grade": true,
     "grade_id": "cell-a883fea60cb72354",
     "locked": true,
     "points": 10,
     "schema_version": 3,
     "solution": false,
     "task": false
    }
   },
   "outputs": [],
   "source": [
    "# -----------\n",
    "# Tested Cell\n",
    "# -----------\n",
    "# The contents of the cell will be tested by the autograder.\n",
    "# If they do not pass here, they will not pass there.\n",
    "np.random.seed(0)\n",
    "\n",
    "env = CliffWalkEnvironment()\n",
    "for n in range(100):\n",
    "    # create a cliff world of random size\n",
    "    height = np.random.randint(4, 10)\n",
    "    width = np.random.randint(4, 10)\n",
    "    env.env_init({\"grid_height\": height, \"grid_width\": width})\n",
    "    env.env_start()\n",
    "    \n",
    "    # start the agent near the cliff\n",
    "    idx_h = height - 2\n",
    "    idx_w = np.random.randint(1, width - 2)\n",
    "    env.agent_loc = (idx_h, idx_w)\n",
    "    \n",
    "    r, sp, term = env.env_step(2)\n",
    "    assert(r == -100 and sp == (height - 1) * width and term == False)\n",
    "\n",
    "for n in range(100):\n",
    "    # create a cliff world of random size\n",
    "    height = np.random.randint(4, 10)\n",
    "    width = np.random.randint(4, 10)\n",
    "    env.env_init({\"grid_height\": height, \"grid_width\": width})\n",
    "    env.env_start()\n",
    "    \n",
    "    # start the agent near the goal\n",
    "    idx_h = height - 2\n",
    "    idx_w = width - 1\n",
    "    env.agent_loc = (idx_h, idx_w)\n",
    "    \n",
    "    r, sp, term = env.env_step(2)\n",
    "    assert(r == -1 and sp == (height - 1) * width + (width - 1) and term == True)\n",
    "\n",
    "for n in range(100):\n",
    "    # create a cliff world of random size\n",
    "    height = np.random.randint(4, 10)\n",
    "    width = np.random.randint(4, 10)\n",
    "    env.env_init({\"grid_height\": height, \"grid_width\": width})\n",
    "    env.env_start()\n",
    "    \n",
    "    # start the agent in a random location\n",
    "    idx_h = np.random.randint(0, height - 3)\n",
    "    idx_w = np.random.randint(0, width - 1)\n",
    "    env.agent_loc = (idx_h, idx_w)\n",
    "    \n",
    "    r, sp, term = env.env_step(2)\n",
    "    assert(r == -1 and term == False)"
   ]
  },
  {
   "cell_type": "markdown",
   "metadata": {
    "deletable": false,
    "editable": false,
    "nbgrader": {
     "cell_type": "markdown",
     "checksum": "75a723b12d51aa479c9820a827f78105",
     "grade": false,
     "grade_id": "cell-097d028e4c6b9ff2",
     "locked": true,
     "schema_version": 3,
     "solution": false,
     "task": false
    }
   },
   "source": [
    "## env_cleanup()\n",
    "\n",
    "There is not much cleanup to do for the Cliff Walking environment. Here, we simply reset the agent location to be the start location in this function."
   ]
  },
  {
   "cell_type": "code",
   "execution_count": null,
   "metadata": {
    "deletable": false,
    "editable": false,
    "nbgrader": {
     "cell_type": "code",
     "checksum": "2239673e0e1e0ce4adb6f2d4a6a703e3",
     "grade": false,
     "grade_id": "cell-d5ff562d7edc277d",
     "locked": true,
     "schema_version": 3,
     "solution": false,
     "task": false
    }
   },
   "outputs": [],
   "source": [
    "%%add_to CliffWalkEnvironment\n",
    "\n",
    "# ---------------\n",
    "# Discussion Cell\n",
    "# ---------------\n",
    "\n",
    "def env_cleanup(self):\n",
    "    \"\"\"Cleanup done after the environment ends\"\"\"\n",
    "    self.agent_loc = self.start_loc"
   ]
  },
  {
   "cell_type": "markdown",
   "metadata": {
    "deletable": false,
    "editable": false,
    "nbgrader": {
     "cell_type": "markdown",
     "checksum": "3143490bb273c21183bb0c2397ed4b53",
     "grade": false,
     "grade_id": "cell-fc714f9c0311d966",
     "locked": true,
     "schema_version": 3,
     "solution": false,
     "task": false
    }
   },
   "source": [
    "## Section 2. Agent\n",
    "\n",
    "In this second part of the assignment, you will be implementing the key updates for Temporal Difference Learning. There are two cases to consider depending on whether an action leads to a terminal state or not."
   ]
  },
  {
   "cell_type": "code",
   "execution_count": null,
   "metadata": {
    "deletable": false,
    "editable": false,
    "nbgrader": {
     "cell_type": "code",
     "checksum": "2ecf4ec36550b6e56088c40cb4c6cf63",
     "grade": false,
     "grade_id": "cell-8dcd58cfaa9b1391",
     "locked": true,
     "schema_version": 3,
     "solution": false,
     "task": false
    }
   },
   "outputs": [],
   "source": [
    "# ---------------\n",
    "# Discussion Cell\n",
    "# ---------------\n",
    "\n",
    "# Create empty TDAgent class.\n",
    "# These methods will be filled in later cells.\n",
    "\n",
    "class TDAgent(BaseAgent):\n",
    "    def agent_init(self, agent_info={}):\n",
    "        raise NotImplementedError\n",
    "        \n",
    "    def agent_start(self, state):\n",
    "        raise NotImplementedError\n",
    "\n",
    "    def agent_step(self, reward, state):\n",
    "        raise NotImplementedError\n",
    "\n",
    "    def agent_end(self, reward):\n",
    "        raise NotImplementedError\n",
    "\n",
    "    def agent_cleanup(self):        \n",
    "        raise NotImplementedError\n",
    "        \n",
    "    def agent_message(self, message):\n",
    "        raise NotImplementedError"
   ]
  },
  {
   "cell_type": "markdown",
   "metadata": {
    "deletable": false,
    "editable": false,
    "nbgrader": {
     "cell_type": "markdown",
     "checksum": "6ad6054dcb773c2b268b93cb01194d61",
     "grade": false,
     "grade_id": "cell-fb86d23d3049ba9a",
     "locked": true,
     "schema_version": 3,
     "solution": false,
     "task": false
    }
   },
   "source": [
    "## agent_init()\n",
    "\n",
    "As we did with the environment, we first initialize the agent once when a TDAgent object is created. In this function, we create a random number generator, seeded with the seed provided in the agent_info dictionary to get reproducible results. We also set the policy, discount and step size based on the agent_info dictionary. Finally, with a convention that the policy is always specified as a mapping from states to actions and so is an array of size (# States, # Actions), we initialize a values array of shape (# States,) to zeros."
   ]
  },
  {
   "cell_type": "code",
   "execution_count": null,
   "metadata": {
    "deletable": false,
    "editable": false,
    "nbgrader": {
     "cell_type": "code",
     "checksum": "7b2bd8f7421b260e24fb2ffea9831ee3",
     "grade": false,
     "grade_id": "cell-7e6fb425c17b2222",
     "locked": true,
     "schema_version": 3,
     "solution": false,
     "task": false
    }
   },
   "outputs": [],
   "source": [
    "%%add_to TDAgent\n",
    "\n",
    "# ---------------\n",
    "# Discussion Cell\n",
    "# ---------------\n",
    "\n",
    "def agent_init(self, agent_info={}):\n",
    "    \"\"\"Setup for the agent called when the experiment first starts.\"\"\"\n",
    "\n",
    "    # Create a random number generator with the provided seed to seed the agent for reproducibility.\n",
    "    self.rand_generator = np.random.RandomState(agent_info.get(\"seed\"))\n",
    "\n",
    "    # Policy will be given, recall that the goal is to accurately estimate its corresponding value function. \n",
    "    self.policy = agent_info.get(\"policy\")\n",
    "    # Discount factor (gamma) to use in the updates.\n",
    "    self.discount = agent_info.get(\"discount\")\n",
    "    # The learning rate or step size parameter (alpha) to use in updates.\n",
    "    self.step_size = agent_info.get(\"step_size\")\n",
    "\n",
    "    # Initialize an array of zeros that will hold the values.\n",
    "    # Recall that the policy can be represented as a (# States, # Actions) array. With the \n",
    "    # assumption that this is the case, we can use the first dimension of the policy to\n",
    "    # initialize the array for values.\n",
    "    self.values = np.zeros((self.policy.shape[0],))"
   ]
  },
  {
   "cell_type": "markdown",
   "metadata": {
    "deletable": false,
    "editable": false,
    "nbgrader": {
     "cell_type": "markdown",
     "checksum": "10f2140cd14944a73134fd6b27355332",
     "grade": false,
     "grade_id": "cell-6d3d7cea2ae55708",
     "locked": true,
     "schema_version": 3,
     "solution": false,
     "task": false
    }
   },
   "source": [
    "# agent_start()\n",
    "\n",
    "In agent_start(), we choose an action based on the initial state and policy we are evaluating. We also cache the state so that we can later update its value when we perform a Temporal Difference update. Finally, we return the action chosen so that the RL loop can continue and the environment can execute this action."
   ]
  },
  {
   "cell_type": "code",
   "execution_count": null,
   "metadata": {
    "deletable": false,
    "editable": false,
    "nbgrader": {
     "cell_type": "code",
     "checksum": "6f2f7c78f1156b50a122f009d908a1f3",
     "grade": false,
     "grade_id": "cell-b7179e38fe75348d",
     "locked": true,
     "schema_version": 3,
     "solution": false,
     "task": false
    }
   },
   "outputs": [],
   "source": [
    "%%add_to TDAgent\n",
    "\n",
    "# ---------------\n",
    "# Discussion Cell\n",
    "# ---------------\n",
    "\n",
    "def agent_start(self, state):\n",
    "    \"\"\"The first method called when the episode starts, called after\n",
    "    the environment starts.\n",
    "    Args:\n",
    "        state (Numpy array): the state from the environment's env_start function.\n",
    "    Returns:\n",
    "        The first action the agent takes.\n",
    "    \"\"\"\n",
    "    # The policy can be represented as a (# States, # Actions) array. So, we can use \n",
    "    # the second dimension here when choosing an action.\n",
    "    action = self.rand_generator.choice(range(self.policy.shape[1]), p=self.policy[state])\n",
    "    self.last_state = state\n",
    "    return action"
   ]
  },
  {
   "cell_type": "markdown",
   "metadata": {
    "deletable": false,
    "editable": false,
    "nbgrader": {
     "cell_type": "markdown",
     "checksum": "0a30618c839091f6b549cbdecdf64542",
     "grade": false,
     "grade_id": "cell-70200563dea310fa",
     "locked": true,
     "schema_version": 3,
     "solution": false,
     "task": false
    }
   },
   "source": [
    "## *Implement* agent_step()\n",
    "\n",
    "In agent_step(), the agent must:\n",
    "\n",
    "- Perform an update to improve the value estimate of the previously visited state, and\n",
    "- Act based on the state provided by the environment.\n",
    "\n",
    "The latter of the two steps above has been implemented for you. Implement the former. Note that, unlike later in agent_end(), the episode has not yet ended in agent_step(). in other words, the previously observed state was not a terminal state."
   ]
  },
  {
   "cell_type": "code",
   "execution_count": null,
   "metadata": {
    "deletable": false,
    "nbgrader": {
     "cell_type": "code",
     "checksum": "bc6bb81efeca49f2fbbe857b53c911c1",
     "grade": false,
     "grade_id": "cell-54079abb73dd10b4",
     "locked": false,
     "schema_version": 3,
     "solution": true,
     "task": false
    }
   },
   "outputs": [],
   "source": [
    "%%add_to TDAgent\n",
    "\n",
    "# -----------\n",
    "# Graded Cell\n",
    "# -----------\n",
    "\n",
    "def agent_step(self, reward, state):\n",
    "    \"\"\"A step taken by the agent.\n",
    "    Args:\n",
    "        reward (float): the reward received for taking the last action taken\n",
    "        state (Numpy array): the state from the\n",
    "            environment's step after the last action, i.e., where the agent ended up after the\n",
    "            last action\n",
    "    Returns:\n",
    "        The action the agent is taking.\n",
    "    \"\"\"\n",
    "    \n",
    "    # Hint: We should perform an update with the last state given that we now have the reward and\n",
    "    # next state. We break this into two steps. Recall for example that the Monte-Carlo update \n",
    "    # had the form: V[S_t] = V[S_t] + alpha * (target - V[S_t]), where the target was the return, G_t.\n",
    "    \n",
    "    # your code here\n",
    "    \n",
    "\n",
    "    # Having updated the value for the last state, we now act based on the current \n",
    "    # state, and set the last state to be current one as we will next be making an \n",
    "    # update with it when agent_step is called next once the action we return from this function \n",
    "    # is executed in the environment.\n",
    "\n",
    "    action = self.rand_generator.choice(range(self.policy.shape[1]), p=self.policy[state])\n",
    "    self.last_state = state\n",
    "\n",
    "    return action"
   ]
  },
  {
   "cell_type": "markdown",
   "metadata": {
    "deletable": false,
    "editable": false,
    "nbgrader": {
     "cell_type": "markdown",
     "checksum": "489573a07301536614c0c3a68d74f0b1",
     "grade": false,
     "grade_id": "cell-b66d9ed60950f928",
     "locked": true,
     "schema_version": 3,
     "solution": false,
     "task": false
    }
   },
   "source": [
    "## *Implement* agent_end() \n",
    "\n",
    "Implement the TD update for the case where an action leads to a terminal state."
   ]
  },
  {
   "cell_type": "code",
   "execution_count": null,
   "metadata": {
    "deletable": false,
    "nbgrader": {
     "cell_type": "code",
     "checksum": "21b0563eedd718ae37cc451cfe50423a",
     "grade": false,
     "grade_id": "cell-f47463c94223a7fa",
     "locked": false,
     "schema_version": 3,
     "solution": true,
     "task": false
    }
   },
   "outputs": [],
   "source": [
    "%%add_to TDAgent\n",
    "\n",
    "# -----------\n",
    "# Graded Cell\n",
    "# -----------\n",
    "\n",
    "def agent_end(self, reward):\n",
    "    \"\"\"Run when the agent terminates.\n",
    "    Args:\n",
    "        reward (float): the reward the agent received for entering the terminal state.\n",
    "    \"\"\"\n",
    "    \n",
    "    # Hint: Here too, we should perform an update with the last state given that we now have the \n",
    "    # reward. Note that in this case, the action led to termination. Once more, we break this into \n",
    "    # two steps, computing the target and the update itself that uses the target and the \n",
    "    # current value estimate for the state whose value we are updating.\n",
    "    \n",
    "    # your code here\n",
    "    "
   ]
  },
  {
   "cell_type": "markdown",
   "metadata": {
    "deletable": false,
    "editable": false,
    "nbgrader": {
     "cell_type": "markdown",
     "checksum": "0c53e1942168f1f625116dcf4445852a",
     "grade": false,
     "grade_id": "cell-29b13c18d6b94737",
     "locked": true,
     "schema_version": 3,
     "solution": false,
     "task": false
    }
   },
   "source": [
    "## agent_cleanup()\n",
    "\n",
    "In cleanup, we simply reset the last state to be None to ensure that we are not storing any states past an episode."
   ]
  },
  {
   "cell_type": "code",
   "execution_count": null,
   "metadata": {
    "deletable": false,
    "editable": false,
    "nbgrader": {
     "cell_type": "code",
     "checksum": "5ddea78d8e68fcbc0210e88d35eb84dd",
     "grade": false,
     "grade_id": "cell-35c6057f39236706",
     "locked": true,
     "schema_version": 3,
     "solution": false,
     "task": false
    }
   },
   "outputs": [],
   "source": [
    "%%add_to TDAgent\n",
    "\n",
    "# ---------------\n",
    "# Discussion Cell\n",
    "# ---------------\n",
    "\n",
    "def agent_cleanup(self):\n",
    "    \"\"\"Cleanup done after the agent ends.\"\"\"\n",
    "    self.last_state = None"
   ]
  },
  {
   "cell_type": "markdown",
   "metadata": {
    "deletable": false,
    "editable": false,
    "nbgrader": {
     "cell_type": "markdown",
     "checksum": "0b976f8ba3941c94436c3e56b440a600",
     "grade": false,
     "grade_id": "cell-ea675d282349503b",
     "locked": true,
     "schema_version": 3,
     "solution": false,
     "task": false
    }
   },
   "source": [
    "## agent_message()\n",
    "\n",
    "agent_message() can generally be used to get different kinds of information about an RLGlue agent in the interaction loop of RLGlue. Here, we conditonally check for a message matching \"get_values\" and use it to retrieve the values table the agent has been updating over time."
   ]
  },
  {
   "cell_type": "code",
   "execution_count": null,
   "metadata": {
    "deletable": false,
    "editable": false,
    "nbgrader": {
     "cell_type": "code",
     "checksum": "661f3a352859f22e5581f2953a6738ec",
     "grade": false,
     "grade_id": "cell-8bac91a36a2cab6f",
     "locked": true,
     "schema_version": 3,
     "solution": false,
     "task": false
    }
   },
   "outputs": [],
   "source": [
    "%%add_to TDAgent\n",
    "\n",
    "# ---------------\n",
    "# Discussion Cell\n",
    "# ---------------\n",
    "\n",
    "def agent_message(self, message):\n",
    "    \"\"\"A function used to pass information from the agent to the experiment.\n",
    "    Args:\n",
    "        message: The message passed to the agent.\n",
    "    Returns:\n",
    "        The response (or answer) to the message.\n",
    "    \"\"\"\n",
    "    if message == \"get_values\":\n",
    "        return self.values\n",
    "    else:\n",
    "        raise Exception(\"TDAgent.agent_message(): Message not understood!\")"
   ]
  },
  {
   "cell_type": "code",
   "execution_count": null,
   "metadata": {},
   "outputs": [],
   "source": [
    "# --------------\n",
    "# Debugging Cell\n",
    "# --------------\n",
    "# Feel free to make any changes to this cell to debug your code\n",
    "\n",
    "# The following test checks that the TD check works for a case where the transition \n",
    "# garners reward -1 and does not lead to a terminal state. This is in a simple two state setting \n",
    "# where there is only one action. The first state's current value estimate is 0 while the second is 1.\n",
    "# Note the discount and step size if you are debugging this test.\n",
    "agent = TDAgent()\n",
    "policy_list = np.array([[1.], [1.]])\n",
    "agent.agent_init({\"policy\": np.array(policy_list), \"discount\": 0.99, \"step_size\": 0.1})\n",
    "agent.values = np.array([0., 1.])\n",
    "agent.agent_start(0)\n",
    "\n",
    "reward = -1\n",
    "next_state = 1\n",
    "agent.agent_step(reward, next_state)\n",
    "\n",
    "assert(np.isclose(agent.values[0], -0.001) and np.isclose(agent.values[1], 1.))\n",
    "\n",
    "# The following test checks that the TD check works for a case where the transition \n",
    "# garners reward -100 and lead to a terminal state. This is in a simple one state setting \n",
    "# where there is only one action. The state's current value estimate is 0.\n",
    "# Note the discount and step size if you are debugging this test.\n",
    "agent = TDAgent()\n",
    "policy_list = np.array([[1.]])\n",
    "agent.agent_init({\"policy\": np.array(policy_list), \"discount\": 0.99, \"step_size\": 0.1})\n",
    "agent.values = np.array([0.])\n",
    "agent.agent_start(0)\n",
    "\n",
    "reward = -100\n",
    "next_state = 0\n",
    "agent.agent_end(reward)\n",
    "\n",
    "assert(np.isclose(agent.values[0], -10))"
   ]
  },
  {
   "cell_type": "code",
   "execution_count": null,
   "metadata": {
    "deletable": false,
    "editable": false,
    "nbgrader": {
     "cell_type": "code",
     "checksum": "6afbe1c030cc5d88088b8baf8055d3a5",
     "grade": true,
     "grade_id": "cell-63cd42d5248e7e84",
     "locked": true,
     "points": 20,
     "schema_version": 3,
     "solution": false,
     "task": false
    }
   },
   "outputs": [],
   "source": [
    "# -----------\n",
    "# Tested Cell\n",
    "# -----------\n",
    "# The contents of the cell will be tested by the autograder.\n",
    "# If they do not pass here, they will not pass there.\n",
    "\n",
    "agent = TDAgent()\n",
    "policy_list = [np.random.dirichlet(np.ones(10), size=1).squeeze() for _ in range(100)]\n",
    "\n",
    "for n in range(100):\n",
    "    gamma = np.random.random()\n",
    "    alpha = np.random.random()\n",
    "    agent.agent_init({\"policy\": np.array(policy_list), \"discount\": gamma, \"step_size\": alpha})\n",
    "    agent.values = np.random.randn(*agent.values.shape)\n",
    "    state = np.random.randint(100)\n",
    "    agent.agent_start(state)\n",
    "    \n",
    "    for _ in range(100):\n",
    "        prev_agent_vals = agent.values.copy()\n",
    "        reward = np.random.random()\n",
    "        if np.random.random() > 0.1:\n",
    "            next_state = np.random.randint(100)\n",
    "            agent.agent_step(reward, next_state)\n",
    "            prev_agent_vals[state] = prev_agent_vals[state] + alpha * (reward + gamma * prev_agent_vals[next_state] - prev_agent_vals[state])\n",
    "            assert(np.allclose(prev_agent_vals, agent.values))\n",
    "            state = next_state\n",
    "        else:\n",
    "            agent.agent_end(reward)\n",
    "            prev_agent_vals[state] = prev_agent_vals[state] + alpha * (reward - prev_agent_vals[state])\n",
    "            assert(np.allclose(prev_agent_vals, agent.values))\n",
    "            break"
   ]
  },
  {
   "cell_type": "markdown",
   "metadata": {
    "deletable": false,
    "editable": false,
    "nbgrader": {
     "cell_type": "markdown",
     "checksum": "e4813fc1b7e51343c87bd7ae96d6a199",
     "grade": false,
     "grade_id": "cell-957429a27572ea22",
     "locked": true,
     "schema_version": 3,
     "solution": false,
     "task": false
    }
   },
   "source": [
    "## Section 3. Policy Evaluation Experiments\n",
    "\n",
    "Finally, in this last part of the assignment, you will get to see the TD policy evaluation algorithm in action by looking at the estimated values, the per state value error and after the experiment is complete, the Mean Squared Value Error curve vs. episode number, summarizing how the value error changed over time.\n",
    "\n",
    "The code below runs one run of an experiment given env_info and agent_info dictionaries. A \"manager\" object is created for visualizations and is used in part for the autograder. By default, the run will be for 5000 episodes. The true_values_file is specified to compare the learned value function with the values stored in the true_values_file. Plotting of the learned value  function occurs by default after every 100 episodes. In addition, when true_values_file is specified, the value error per state and the root mean square value error will also be plotted."
   ]
  },
  {
   "cell_type": "code",
   "execution_count": null,
   "metadata": {
    "deletable": false,
    "editable": false,
    "nbgrader": {
     "cell_type": "code",
     "checksum": "7dd158868b6da83ed2d8af5393fa19e7",
     "grade": false,
     "grade_id": "cell-aa30396771314085",
     "locked": true,
     "schema_version": 3,
     "solution": false,
     "task": false
    }
   },
   "outputs": [],
   "source": [
    "%matplotlib notebook\n",
    "\n",
    "# ---------------\n",
    "# Discussion Cell\n",
    "# ---------------\n",
    "\n",
    "def run_experiment(env_info, agent_info,num_episodes=5000, experiment_name=None, plot_freq=100, true_values_file=None, value_error_threshold=1e-8):\n",
    "    env = CliffWalkEnvironment\n",
    "    agent = TDAgent\n",
    "    rl_glue = RLGlue(env, agent)\n",
    "\n",
    "    rl_glue.rl_init(agent_info, env_info)\n",
    "\n",
    "    manager = Manager(env_info, agent_info, true_values_file=true_values_file, experiment_name=experiment_name)\n",
    "    for episode in range(1, num_episodes + 1):\n",
    "        rl_glue.rl_episode(0) # no step limit\n",
    "        if episode % plot_freq == 0:\n",
    "            values = rl_glue.agent.agent_message(\"get_values\")\n",
    "            manager.visualize(values, episode)\n",
    "\n",
    "    values = rl_glue.agent.agent_message(\"get_values\")\n",
    "    return values"
   ]
  },
  {
   "cell_type": "markdown",
   "metadata": {
    "deletable": false,
    "editable": false,
    "nbgrader": {
     "cell_type": "markdown",
     "checksum": "e726e3aa91859d231913a83be7b376f6",
     "grade": false,
     "grade_id": "cell-f8a8ad5275cc7e7f",
     "locked": true,
     "schema_version": 3,
     "solution": false,
     "task": false
    }
   },
   "source": [
    "The cell below just runs a policy evaluation experiment with the determinstic optimal policy that strides just above the cliff. You should observe that the per state value error and RMSVE curve asymptotically go towards 0. The arrows in the four directions denote the probabilities of taking each action. This experiment is ungraded but should serve as a good test for the later experiments. The true values file provided for this experiment may help with debugging as well."
   ]
  },
  {
   "cell_type": "code",
   "execution_count": null,
   "metadata": {
    "deletable": false,
    "editable": false,
    "nbgrader": {
     "cell_type": "code",
     "checksum": "c9935c904c8dac62540410b7dc0eb740",
     "grade": false,
     "grade_id": "cell-2a4f093ff50135b8",
     "locked": true,
     "schema_version": 3,
     "solution": false,
     "task": false
    }
   },
   "outputs": [],
   "source": [
    "# ---------------\n",
    "# Discussion Cell\n",
    "# ---------------\n",
    "\n",
    "env_info = {\"grid_height\": 4, \"grid_width\": 12, \"seed\": 0}\n",
    "agent_info = {\"discount\": 1, \"step_size\": 0.01, \"seed\": 0}\n",
    "\n",
    "# The Optimal Policy that strides just along the cliff\n",
    "policy = np.ones(shape=(env_info['grid_width'] * env_info['grid_height'], 4)) * 0.25\n",
    "policy[36] = [1, 0, 0, 0]\n",
    "for i in range(24, 35):\n",
    "    policy[i] = [0, 0, 0, 1]\n",
    "policy[35] = [0, 0, 1, 0]\n",
    "\n",
    "agent_info.update({\"policy\": policy})\n",
    "\n",
    "true_values_file = \"optimal_policy_value_fn.npy\"\n",
    "_ = run_experiment(env_info, agent_info, num_episodes=5000, experiment_name=\"Policy Evaluation on Optimal Policy\",\n",
    "                   plot_freq=500, true_values_file=true_values_file)"
   ]
  },
  {
   "cell_type": "code",
   "execution_count": null,
   "metadata": {
    "deletable": false,
    "nbgrader": {
     "cell_type": "code",
     "checksum": "d288407bc4dd094efc56faebad142e5f",
     "grade": false,
     "grade_id": "cell-41ea2c684571e6e8",
     "locked": false,
     "schema_version": 3,
     "solution": true,
     "task": false
    }
   },
   "outputs": [],
   "source": [
    "# -----------\n",
    "# Graded Cell\n",
    "# -----------\n",
    "\n",
    "# The Safe Policy\n",
    "# Hint: Fill in the array below (as done in the previous cell) based on the safe policy illustration \n",
    "# in the environment diagram. This is the policy that strides as far as possible away from the cliff. \n",
    "# We call it a \"safe\" policy because if the environment has any stochasticity, this policy would do a good job in \n",
    "# keeping the agent from falling into the cliff (in contrast to the optimal policy shown before). \n",
    "\n",
    "# build a uniform random policy\n",
    "policy = np.ones(shape=(env_info['grid_width'] * env_info['grid_height'], 4)) * 0.25\n",
    "\n",
    "# build an example environment\n",
    "env = CliffWalkEnvironment()\n",
    "env.env_init(env_info)\n",
    "\n",
    "# modify the uniform random policy\n",
    "# your code here\n"
   ]
  },
  {
   "cell_type": "code",
   "execution_count": null,
   "metadata": {
    "deletable": false,
    "editable": false,
    "nbgrader": {
     "cell_type": "code",
     "checksum": "7d6c1c46ebd8a20c291b6c485601a7da",
     "grade": true,
     "grade_id": "cell-747a2fdf30624260",
     "locked": true,
     "points": 10,
     "schema_version": 3,
     "solution": false,
     "task": false
    }
   },
   "outputs": [],
   "source": [
    "# -----------\n",
    "# Tested Cell\n",
    "# -----------\n",
    "# The contents of the cell will be tested by the autograder.\n",
    "# If they do not pass here, they will not pass there.\n",
    "\n",
    "width = env_info['grid_width']\n",
    "height = env_info['grid_height']\n",
    "\n",
    "# left side of space\n",
    "for x in range(1, height):\n",
    "    s = env.state((x, 0))\n",
    "    \n",
    "    # go up\n",
    "    assert np.all(policy[s] == [1, 0, 0, 0])\n",
    "\n",
    "# top of space\n",
    "for y in range(width - 1):\n",
    "    s = env.state((0, y))\n",
    "\n",
    "    # go right\n",
    "    assert np.all(policy[s] == [0, 0, 0, 1])\n",
    "    \n",
    "# right side of space\n",
    "for x in range(height - 1):\n",
    "    s = env.state((x, width - 1))\n",
    "    \n",
    "    # go down\n",
    "    assert np.all(policy[s] == [0, 0, 1, 0])"
   ]
  },
  {
   "cell_type": "code",
   "execution_count": null,
   "metadata": {
    "deletable": false,
    "editable": false,
    "nbgrader": {
     "cell_type": "code",
     "checksum": "f61945e3fa9693a71c67308e390831f2",
     "grade": false,
     "grade_id": "cell-4cff4aa8310f733e",
     "locked": true,
     "schema_version": 3,
     "solution": false,
     "task": false
    }
   },
   "outputs": [],
   "source": [
    "# ---------------\n",
    "# Discussion Cell\n",
    "# ---------------\n",
    "\n",
    "agent_info.update({\"policy\": policy})\n",
    "v = run_experiment(env_info, agent_info, experiment_name=\"Policy Evaluation On Safe Policy\", num_episodes=5000, plot_freq=500)"
   ]
  },
  {
   "cell_type": "code",
   "execution_count": null,
   "metadata": {
    "deletable": false,
    "editable": false,
    "nbgrader": {
     "cell_type": "code",
     "checksum": "fa33604922343541caab97a67b3d0b97",
     "grade": false,
     "grade_id": "cell-e1cf8e11c672a07e",
     "locked": true,
     "schema_version": 3,
     "solution": false,
     "task": false
    }
   },
   "outputs": [],
   "source": [
    "# ---------------\n",
    "# Discussion Cell\n",
    "# ---------------\n",
    "\n",
    "# A Near Optimal Stochastic Policy\n",
    "# Now, we try a stochastic policy that deviates a little from the optimal policy seen above. \n",
    "# This means we can get different results due to randomness.\n",
    "# We will thus average the value function estimates we get over multiple runs. \n",
    "# This can take some time, upto about 5 minutes from previous testing. \n",
    "# NOTE: The autograder will compare . Re-run this cell upon making any changes.\n",
    "\n",
    "env_info = {\"grid_height\": 4, \"grid_width\": 12}\n",
    "agent_info = {\"discount\": 1, \"step_size\": 0.01}\n",
    "\n",
    "policy = np.ones(shape=(env_info['grid_width'] * env_info['grid_height'], 4)) * 0.25\n",
    "policy[36] = [0.9, 0.1/3., 0.1/3., 0.1/3.]\n",
    "for i in range(24, 35):\n",
    "    policy[i] = [0.1/3., 0.1/3., 0.1/3., 0.9]\n",
    "policy[35] = [0.1/3., 0.1/3., 0.9, 0.1/3.]\n",
    "agent_info.update({\"policy\": policy})\n",
    "agent_info.update({\"step_size\": 0.01})"
   ]
  },
  {
   "cell_type": "code",
   "execution_count": null,
   "metadata": {
    "deletable": false,
    "editable": false,
    "nbgrader": {
     "cell_type": "code",
     "checksum": "b3888898a45dcda0c5420f24132be6d4",
     "grade": false,
     "grade_id": "cell-6038bf336a6d7fd2",
     "locked": true,
     "schema_version": 3,
     "solution": false,
     "task": false
    }
   },
   "outputs": [],
   "source": [
    "# ---------------\n",
    "# Discussion Cell\n",
    "# ---------------\n",
    "env_info['seed'] = 0\n",
    "agent_info['seed'] = 0\n",
    "v = run_experiment(env_info, agent_info,\n",
    "               experiment_name=\"Policy Evaluation On Optimal Policy\",\n",
    "               num_episodes=5000, plot_freq=100)"
   ]
  },
  {
   "cell_type": "markdown",
   "metadata": {
    "deletable": false,
    "editable": false,
    "nbgrader": {
     "cell_type": "markdown",
     "checksum": "fd6c272cda343e1a77596b771469ecc6",
     "grade": false,
     "grade_id": "cell-15c20060eb691e3d",
     "locked": true,
     "schema_version": 3,
     "solution": false,
     "task": false
    }
   },
   "source": [
    "## Wrapping Up\n",
    "Congratulations, you have completed assignment 2! In this assignment, we investigated a very useful concept for sample-based online learning: temporal difference. We particularly looked at the prediction problem where the goal is to find the value function corresponding to a given policy. In the next assignment, by learning the action-value function instead of the state-value function, you will get to see how temporal difference learning can be used in control as well."
   ]
  }
 ],
 "metadata": {
  "coursera": {
   "course_slug": "sample-based-learning-methods",
   "graded_item_id": "P4k5f",
   "launcher_item_id": "OwIbv"
  },
  "kernelspec": {
   "display_name": "Python 3 (ipykernel)",
   "language": "python",
   "name": "python3"
  },
  "language_info": {
   "codemirror_mode": {
    "name": "ipython",
    "version": 3
   },
   "file_extension": ".py",
   "mimetype": "text/x-python",
   "name": "python",
   "nbconvert_exporter": "python",
   "pygments_lexer": "ipython3",
   "version": "3.8.18"
  }
 },
 "nbformat": 4,
 "nbformat_minor": 4
}
