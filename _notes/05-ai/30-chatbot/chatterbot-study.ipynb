{
 "cells": [
  {
   "cell_type": "markdown",
   "metadata": {},
   "source": [
    "# 参考\n",
    "\n",
    "- chatterbot文档 http://chatterbot.readthedocs.io/en/stable/ \n",
    "- 微信公号DIY：一小时搭建微信聊天机器人 http://blog.gusibi.com/post/wechat-chatbot-step-by-step/\n",
    "\n",
    "\n",
    "# Process flow diagram\n",
    "<img src=\"http://chatterbot.readthedocs.io/en/stable/_images/chatterbot-process-flow.svg\">"
   ]
  },
  {
   "cell_type": "code",
   "execution_count": 2,
   "metadata": {},
   "outputs": [],
   "source": [
    "def start_chat(bot, times=5):\n",
    "    i = 0\n",
    "    while i<times:        \n",
    "        try:\n",
    "            bot_input = bot.get_response(None)\n",
    "            print(\"-------------------------------\")\n",
    "\n",
    "        # Press ctrl-c or ctrl-d on the keyboard to exit\n",
    "        except (KeyboardInterrupt, EOFError, SystemExit):\n",
    "            break\n",
    "        i = i + 1    "
   ]
  },
  {
   "cell_type": "markdown",
   "metadata": {},
   "source": [
    "# Examples\n",
    "## Simple Example"
   ]
  },
  {
   "cell_type": "code",
   "execution_count": 7,
   "metadata": {},
   "outputs": [
    {
     "name": "stdout",
     "output_type": "stream",
     "text": [
      "List Trainer: [####################] 100%\n",
      "I'm doing great.\n"
     ]
    }
   ],
   "source": [
    "from chatterbot import ChatBot\n",
    "from chatterbot.trainers import ListTrainer\n",
    "\n",
    "\n",
    "bot = ChatBot(\"Ron Obvious\")\n",
    "conversation = [\n",
    "    \"Hello\",\n",
    "    \"Hi there!\",\n",
    "    \"How are you doing?\",\n",
    "    \"I'm doing great.\",\n",
    "    \"That is good to hear\",\n",
    "    \"Thank you.\",\n",
    "    \"You're welcome.\"\n",
    "]\n",
    "\n",
    "bot.set_trainer(ListTrainer)\n",
    "bot.train(conversation)\n",
    "\n",
    "response = bot.get_response(\"Good morning!\")\n",
    "print(response)"
   ]
  },
  {
   "cell_type": "code",
   "execution_count": 17,
   "metadata": {},
   "outputs": [
    {
     "name": "stdout",
     "output_type": "stream",
     "text": [
      "List Trainer: [####################] 100%"
     ]
    },
    {
     "name": "stderr",
     "output_type": "stream",
     "text": [
      "INFO:chatterbot.adapters:Recieved input statement: I would like to book a flight.\n",
      "INFO:chatterbot.adapters:\"I would like to book a flight.\" is a known statement\n",
      "INFO:chatterbot.adapters:Using \"I would like to book a flight.\" as a close match to \"Sure, I'd to book a flight to Iceland.\"\n",
      "INFO:chatterbot.adapters:Selecting response from 1 optimal responses.\n",
      "INFO:chatterbot.response_selection:Selecting first response from list of 1 options.\n",
      "INFO:chatterbot.adapters:Response selected. Using \"Your flight has been booked.\"\n",
      "INFO:chatterbot.adapters:BestMatch selected \"Your flight has been booked.\" as a response with a confidence of 0.59\n",
      "INFO:chatterbot.adapters:NoKnowledgeAdapter selected \"I would like to book a flight.\" as a response with a confidence of 0\n",
      "INFO:chatterbot.adapters:Recieved input statement: how are you.\n",
      "INFO:chatterbot.adapters:\"how are you.\" is a known statement\n",
      "INFO:chatterbot.adapters:Using \"how are you.\" as a close match to \"How are you doing?\"\n",
      "INFO:chatterbot.adapters:Selecting response from 1 optimal responses.\n",
      "INFO:chatterbot.response_selection:Selecting first response from list of 1 options.\n",
      "INFO:chatterbot.adapters:Response selected. Using \"I'm doing great.\"\n",
      "INFO:chatterbot.adapters:BestMatch selected \"I'm doing great.\" as a response with a confidence of 0.73\n",
      "INFO:chatterbot.adapters:NoKnowledgeAdapter selected \"how are you.\" as a response with a confidence of 0\n",
      "INFO:chatterbot.chatterbot:Adding \"how are you.\" as a response to \"Your flight has been booked.\"\n"
     ]
    },
    {
     "name": "stdout",
     "output_type": "stream",
     "text": [
      "\n",
      "Your flight has been booked.\n",
      "I'm doing great.\n"
     ]
    }
   ],
   "source": [
    "# -*- coding: utf-8 -*-\n",
    "from chatterbot import ChatBot\n",
    "\n",
    "# Create a new chat bot named Charlie\n",
    "chatbot = ChatBot(\n",
    "    'Charlie',\n",
    "    trainer='chatterbot.trainers.ListTrainer'\n",
    ")\n",
    "\n",
    "chatbot.train([\n",
    "    \"Hi, can I help you?\",\n",
    "    \"Sure, I'd to book a flight to Iceland.\",\n",
    "    \"Your flight has been booked.\"\n",
    "])\n",
    "\n",
    "# Get a response to the input text 'How are you?'\n",
    "response = chatbot.get_response('I would like to book a flight.')\n",
    "print(response)\n",
    "# Get a response to the input text 'How are you?'\n",
    "response = chatbot.get_response('how are you.')\n",
    "print(response)\n"
   ]
  },
  {
   "cell_type": "markdown",
   "metadata": {},
   "source": [
    "## Read only mode \n",
    "\n",
    "If you want to disable this learning feature after your bot has been trained, you can set read_only=True as a parameter when initializing the bot."
   ]
  },
  {
   "cell_type": "code",
   "execution_count": null,
   "metadata": {},
   "outputs": [],
   "source": [
    "bot = ChatBot(\"Johnny Five\", read_only=True)"
   ]
  },
  {
   "cell_type": "markdown",
   "metadata": {},
   "source": [
    "## Terminal Example"
   ]
  },
  {
   "cell_type": "code",
   "execution_count": 3,
   "metadata": {},
   "outputs": [
    {
     "name": "stdout",
     "output_type": "stream",
     "text": [
      "Type something to begin...\n",
      "go\n",
      "let's all\n",
      "-------------------------------\n",
      "go\n",
      "let's all\n",
      "-------------------------------\n",
      "hello\n",
      "who are you\n",
      "-------------------------------\n",
      "what time\n",
      "The current time is 06:35 AM\n",
      "-------------------------------\n",
      "go \n",
      "what time\n",
      "-------------------------------\n"
     ]
    }
   ],
   "source": [
    "# -*- coding: utf-8 -*-\n",
    "from chatterbot import ChatBot\n",
    "\n",
    "\n",
    "# Uncomment the following lines to enable verbose logging\n",
    "# import logging\n",
    "# logging.basicConfig(level=logging.INFO)\n",
    "\n",
    "# Create a new instance of a ChatBot\n",
    "bot = ChatBot(\n",
    "    \"Terminal\",\n",
    "    storage_adapter=\"chatterbot.storage.SQLStorageAdapter\",\n",
    "    logic_adapters=[\n",
    "        \"chatterbot.logic.MathematicalEvaluation\",\n",
    "        \"chatterbot.logic.TimeLogicAdapter\",\n",
    "        \"chatterbot.logic.BestMatch\"\n",
    "    ],\n",
    "    input_adapter=\"chatterbot.input.TerminalAdapter\",\n",
    "    output_adapter=\"chatterbot.output.TerminalAdapter\",\n",
    "    database=\"../database.db\"\n",
    ")\n",
    "\n",
    "print(\"Type something to begin...\")\n",
    "\n",
    "start_chat(bot)        "
   ]
  },
  {
   "cell_type": "markdown",
   "metadata": {},
   "source": [
    "## 中文例子"
   ]
  },
  {
   "cell_type": "code",
   "execution_count": 4,
   "metadata": {},
   "outputs": [
    {
     "name": "stdout",
     "output_type": "stream",
     "text": [
      "conversations.yml Training: [####################] 100%\n",
      "greetings.yml Training: [####################] 100%\n",
      "trivia.yml Training: [####################] 100%\n"
     ]
    }
   ],
   "source": [
    "from chatterbot import ChatBot  # import ChatBot\n",
    "\n",
    "bot = ChatBot('Momo', trainer='chatterbot.trainers.ChatterBotCorpusTrainer')\n",
    "bot.train(\"chatterbot.corpus.chinese\")"
   ]
  },
  {
   "cell_type": "code",
   "execution_count": 5,
   "metadata": {},
   "outputs": [
    {
     "name": "stdout",
     "output_type": "stream",
     "text": [
      "你好\n",
      "没什么.\n",
      "优美胜于丑陋.\n",
      "我是个程序员\n",
      "我经常使用 Python, Java 和 C++ .\n",
      "谁? 谁只是代表了一个人罢了\n",
      "理查德·尼克松\n"
     ]
    }
   ],
   "source": [
    "print(bot.get_response('你好'))\n",
    "print(bot.get_response('怎么了'))\n",
    "print(bot.get_response('你知道它的所有内容吗?'))\n",
    "print(bot.get_response('你是一个程序员吗?'))\n",
    "print(bot.get_response('你使用什么语言呢？'))\n",
    "print(bot.get_response('你是谁'))\n",
    "print(bot.get_response('谁是美国第37届总统?'))"
   ]
  },
  {
   "cell_type": "markdown",
   "metadata": {},
   "source": [
    "## Using MongoDB"
   ]
  },
  {
   "cell_type": "code",
   "execution_count": null,
   "metadata": {},
   "outputs": [],
   "source": [
    "# -*- coding: utf-8 -*-\n",
    "from chatterbot import ChatBot\n",
    "\n",
    "\n",
    "# Uncomment the following lines to enable verbose logging\n",
    "# import logging\n",
    "# logging.basicConfig(level=logging.INFO)\n",
    "\n",
    "database_uri = \"mongodb://172.17.0.1:27017\"\n",
    "# Create a new ChatBot instance\n",
    "bot = ChatBot(\n",
    "    'Terminal',\n",
    "    storage_adapter='chatterbot.storage.MongoDatabaseAdapter',\n",
    "    logic_adapters=[\n",
    "        'chatterbot.logic.BestMatch'\n",
    "    ],\n",
    "    filters=[\n",
    "        'chatterbot.filters.RepetitiveResponseFilter'\n",
    "    ],\n",
    "    input_adapter='chatterbot.input.TerminalAdapter',\n",
    "    output_adapter='chatterbot.output.TerminalAdapter',\n",
    "    database='chatterbot-database',\n",
    "    database_uri=database_uri\n",
    ")\n",
    "\n",
    "print('Type something to begin...')\n",
    "\n"
   ]
  },
  {
   "cell_type": "markdown",
   "metadata": {},
   "source": [
    "## Low confidence response example"
   ]
  },
  {
   "cell_type": "code",
   "execution_count": 11,
   "metadata": {},
   "outputs": [
    {
     "name": "stdout",
     "output_type": "stream",
     "text": [
      "List Trainer: [####################] 100%"
     ]
    },
    {
     "name": "stderr",
     "output_type": "stream",
     "text": [
      "INFO:chatterbot.adapters:Recieved input statement: How do I make an omelette?\n",
      "INFO:chatterbot.adapters:\"How do I make an omelette?\" is a known statement\n",
      "INFO:chatterbot.adapters:Using \"How do I make an omelette?\" as a close match to \"No, I have not\"\n",
      "INFO:chatterbot.adapters:Selecting response from 1 optimal responses.\n",
      "INFO:chatterbot.response_selection:Selecting first response from list of 1 options.\n",
      "INFO:chatterbot.adapters:Response selected. Using \"This should help get you started: http://chatterbot.rtfd.org/en/latest/quickstart.html\"\n",
      "INFO:chatterbot.adapters:BestMatch selected \"This should help get you started: http://chatterbot.rtfd.org/en/latest/quickstart.html\" as a response with a confidence of 0.5\n"
     ]
    },
    {
     "name": "stdout",
     "output_type": "stream",
     "text": [
      "\r\n"
     ]
    },
    {
     "name": "stderr",
     "output_type": "stream",
     "text": [
      "INFO:chatterbot.adapters:LowConfidenceAdapter selected \"I am sorry, but I do not understand.\" as a response with a confidence of 1\n",
      "INFO:chatterbot.adapters:NoKnowledgeAdapter selected \"How do I make an omelette?\" as a response with a confidence of 0\n"
     ]
    },
    {
     "name": "stdout",
     "output_type": "stream",
     "text": [
      "I am sorry, but I do not understand.\n"
     ]
    }
   ],
   "source": [
    "# -*- coding: utf-8 -*-\n",
    "from chatterbot import ChatBot\n",
    "\n",
    "\n",
    "# Create a new instance of a ChatBot\n",
    "bot = ChatBot(\n",
    "    'Default Response Example Bot',\n",
    "    storage_adapter='chatterbot.storage.SQLStorageAdapter',\n",
    "    logic_adapters=[\n",
    "        {\n",
    "            'import_path': 'chatterbot.logic.BestMatch'\n",
    "        },\n",
    "        {\n",
    "            'import_path': 'chatterbot.logic.LowConfidenceAdapter',\n",
    "            'threshold': 0.65,\n",
    "            'default_response': 'I am sorry, but I do not understand.'\n",
    "        }\n",
    "    ],\n",
    "    trainer='chatterbot.trainers.ListTrainer'\n",
    ")\n",
    "\n",
    "# Train the chat bot with a few responses\n",
    "bot.train([\n",
    "    'How can I help you?',\n",
    "    'I want to create a chat bot',\n",
    "    'Have you read the documentation?',\n",
    "    'No, I have not',\n",
    "    'This should help get you started: http://chatterbot.rtfd.org/en/latest/quickstart.html'\n",
    "])\n",
    "\n",
    "# Get a response for some unexpected input\n",
    "response = bot.get_response('How do I make an omelette?')\n",
    "print(response)"
   ]
  },
  {
   "cell_type": "markdown",
   "metadata": {},
   "source": [
    "## Specific response example"
   ]
  },
  {
   "cell_type": "code",
   "execution_count": 12,
   "metadata": {},
   "outputs": [
    {
     "name": "stderr",
     "output_type": "stream",
     "text": [
      "INFO:chatterbot.adapters:Recieved input statement: Help me!\n",
      "INFO:chatterbot.adapters:\"Help me!\" is a known statement\n",
      "INFO:chatterbot.adapters:Using \"Help me!\" as a close match to \"Hi there!\"\n",
      "INFO:chatterbot.adapters:Selecting response from 1 optimal responses.\n",
      "INFO:chatterbot.response_selection:Selecting first response from list of 1 options.\n",
      "INFO:chatterbot.adapters:Response selected. Using \"How are you doing?\"\n",
      "INFO:chatterbot.adapters:BestMatch selected \"How are you doing?\" as a response with a confidence of 0.47\n",
      "INFO:chatterbot.adapters:SpecificResponseAdapter selected \"Ok, here is a link: http://chatterbot.rtfd.org/en/latest/quickstart.html\" as a response with a confidence of 1\n",
      "INFO:chatterbot.adapters:NoKnowledgeAdapter selected \"Help me!\" as a response with a confidence of 0\n"
     ]
    },
    {
     "name": "stdout",
     "output_type": "stream",
     "text": [
      "Ok, here is a link: http://chatterbot.rtfd.org/en/latest/quickstart.html\n"
     ]
    }
   ],
   "source": [
    "# -*- coding: utf-8 -*-\n",
    "from chatterbot import ChatBot\n",
    "\n",
    "\n",
    "# Create a new instance of a ChatBot\n",
    "bot = ChatBot(\n",
    "    'Exact Response Example Bot',\n",
    "    storage_adapter='chatterbot.storage.SQLStorageAdapter',\n",
    "    logic_adapters=[\n",
    "        {\n",
    "            'import_path': 'chatterbot.logic.BestMatch'\n",
    "        },\n",
    "        {\n",
    "            'import_path': 'chatterbot.logic.SpecificResponseAdapter',\n",
    "            'input_text': 'Help me!',\n",
    "            'output_text': 'Ok, here is a link: http://chatterbot.rtfd.org/en/latest/quickstart.html'\n",
    "        }\n",
    "    ],\n",
    "    trainer='chatterbot.trainers.ListTrainer'\n",
    ")\n",
    "\n",
    "# Get a response given the specific input\n",
    "response = bot.get_response('Help me!')\n",
    "print(response)"
   ]
  },
  {
   "cell_type": "markdown",
   "metadata": {},
   "source": [
    "# Logic Adapters\n",
    "## Selecting a response from multiple logic adapters\n",
    "### Response selection "
   ]
  },
  {
   "cell_type": "code",
   "execution_count": null,
   "metadata": {},
   "outputs": [],
   "source": []
  },
  {
   "cell_type": "code",
   "execution_count": null,
   "metadata": {},
   "outputs": [],
   "source": []
  },
  {
   "cell_type": "code",
   "execution_count": null,
   "metadata": {},
   "outputs": [],
   "source": []
  },
  {
   "cell_type": "code",
   "execution_count": null,
   "metadata": {},
   "outputs": [],
   "source": []
  },
  {
   "cell_type": "code",
   "execution_count": null,
   "metadata": {},
   "outputs": [],
   "source": []
  }
 ],
 "metadata": {
  "kernelspec": {
   "display_name": "Python 3",
   "language": "python",
   "name": "python3"
  },
  "language_info": {
   "codemirror_mode": {
    "name": "ipython",
    "version": 3
   },
   "file_extension": ".py",
   "mimetype": "text/x-python",
   "name": "python",
   "nbconvert_exporter": "python",
   "pygments_lexer": "ipython3",
   "version": "3.5.2"
  }
 },
 "nbformat": 4,
 "nbformat_minor": 2
}
