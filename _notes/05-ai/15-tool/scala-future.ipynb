{
 "cells": [
  {
   "cell_type": "code",
   "execution_count": 22,
   "metadata": {
    "collapsed": true
   },
   "outputs": [],
   "source": [
    "import scala.concurrent.ExecutionContext.Implicits.global\n",
    "import scala.concurrent.Future\n",
    "import scala.collection.mutable.ArrayBuffer\n",
    "import scala.util.{Failure, Success}"
   ]
  },
  {
   "cell_type": "code",
   "execution_count": 14,
   "metadata": {
    "collapsed": true
   },
   "outputs": [],
   "source": [
    "val future = Future {\n",
    "  \"My \" + \"First \" + \"Future.\"\n",
    "}\n",
    " \n",
    "// Print the result\n",
    "future onSuccess {\n",
    "  case _  => println _\n",
    "}\n"
   ]
  },
  {
   "cell_type": "code",
   "execution_count": 20,
   "metadata": {
    "collapsed": false
   },
   "outputs": [
    {
     "name": "stdout",
     "output_type": "stream",
     "text": [
      "1: ArrayBuffer()\n",
      "3: ArrayBuffer(Hello future!, Hello future!)\n",
      "4: ArrayBuffer(Hello future!, Hello future!)\n"
     ]
    }
   ],
   "source": [
    "val s = \"Hello\"\n",
    "val f: Future[String] = Future(s + \" future!\")\n",
    "val a = new ArrayBuffer[String]()\n",
    "println(\"1: \" + a)\n",
    "val k = f.onComplete{msg =>\n",
    "  println(\"2.1: \" + msg.get)\n",
    "  a += msg.get\n",
    "}\n",
    "val k = f.onComplete{msg =>\n",
    "  println(\"2.2: \" + msg.get)\n",
    "  a += msg.get\n",
    "}\n",
    "println(\"3: \"+a)\n",
    "Thread.sleep(100)\n",
    "println(\"4: \"+a)"
   ]
  },
  {
   "cell_type": "code",
   "execution_count": 25,
   "metadata": {
    "collapsed": false
   },
   "outputs": [
    {
     "name": "stdout",
     "output_type": "stream",
     "text": [
      "true\n",
      "true\n"
     ]
    }
   ],
   "source": [
    "val f: Future[List[Int]] = Future {\n",
    "  val i = scala.util.Random.nextInt(10)\n",
    "  if (i<=1) throw new Exception(\"get 0\")\n",
    "  List(scala.util.Random.nextInt(10), scala.util.Random.nextInt(10), scala.util.Random.nextInt(10))\n",
    "}\n",
    "f onComplete {\n",
    "  case Success(posts) => for (post <- posts) println(post)\n",
    "  case Failure(e) => println(\"An error has occured: \" + e.getMessage)\n",
    "}\n",
    "println(f.isCompleted)\n",
    "Thread.sleep(1000)\n",
    "println(f.isCompleted)"
   ]
  }
 ],
 "metadata": {
  "kernelspec": {
   "display_name": "Apache Toree - Scala",
   "language": "scala",
   "name": "apache_toree_scala"
  },
  "language_info": {
   "file_extension": ".scala",
   "name": "scala",
   "version": "2.11.8"
  }
 },
 "nbformat": 4,
 "nbformat_minor": 2
}
