{
 "cells": [
  {
   "cell_type": "markdown",
   "metadata": {},
   "source": [
    "**IMDb**（Internet Movie Datebase ）是全球最大的互联网影视数据库，而[Large Movie Review Dataset](https://ai.stanford.edu/~amaas/data/sentiment/) 是一个根据IMDB上电影评论而建立的数据集。它由斯坦福大学于 2011 年发布。\n",
    "\n",
    "![image-20201226152702981](images/image-20201226152702981.png)\n",
    "\n",
    "## 获取数据\n",
    "\n",
    "首先引入需要的包。"
   ]
  },
  {
   "cell_type": "code",
   "execution_count": 1,
   "metadata": {
    "ExecuteTime": {
     "end_time": "2021-09-27T05:39:42.913498Z",
     "start_time": "2021-09-27T05:39:37.778485Z"
    }
   },
   "outputs": [
    {
     "data": {
      "application/javascript": [
       "\n",
       "console.log('Starting front end url_querystring_target comm target');\n",
       "const comm = Jupyter.notebook.kernel.comm_manager.new_comm('url_querystring_target', {'init': 1});\n",
       "comm.send({'ipyparams_browser_url': window.location.href});\n",
       "console.log('Sent window.location.href on url_querystring_target comm target');\n",
       "\n",
       "comm.on_msg(function(msg) {\n",
       "    console.log(msg.content.data);\n",
       "});\n"
      ],
      "text/plain": [
       "<IPython.core.display.Javascript object>"
      ]
     },
     "metadata": {},
     "output_type": "display_data"
    },
    {
     "name": "stderr",
     "output_type": "stream",
     "text": [
      "[nltk_data] Downloading package stopwords to /root/nltk_data...\n",
      "[nltk_data]   Package stopwords is already up-to-date!\n"
     ]
    }
   ],
   "source": [
    "import csv\n",
    "import ipyparams\n",
    "import logging\n",
    "import matplotlib.pyplot as plt\n",
    "import nltk\n",
    "import numpy as np\n",
    "import os\n",
    "import pandas as pd\n",
    "import random\n",
    "import re\n",
    "import shutil\n",
    "import string  \n",
    "import sys\n",
    "import tensorflow as tf\n",
    "import tensorflow_hub as hub\n",
    "\n",
    "from collections import Counter\n",
    "from joblib import Parallel, delayed\n",
    "from nltk.corpus import stopwords\n",
    "from scipy import stats\n",
    "from sklearn import feature_extraction, feature_selection\n",
    "from sklearn.utils.class_weight import compute_class_weight\n",
    "from sklearn.metrics import classification_report\n",
    "from sklearn.model_selection import train_test_split\n",
    "from tensorflow.keras import Model, models, layers, regularizers, preprocessing, datasets, metrics, losses, optimizers\n",
    "from tensorflow.keras.layers.experimental.preprocessing import TextVectorization\n",
    "from tensorboard.plugins.hparams import api as hp \n",
    "\n",
    "base_path = os.path.abspath('/tf/eipi10/jian-xu3/qbz95')\n",
    "sys.path.append(base_path)\n",
    "\n",
    "import qbz95\n",
    "from qbz95 import tf as qtf\n",
    "\n",
    "pd.set_option('display.max_colwidth', None)\n",
    "# 设置GPU内存自动扩增\n",
    "qtf.utils.set_gpu_memory_growth()\n",
    "nltk.download('stopwords')\n",
    "\n",
    "# auto load the changes of referenced codes\n",
    "%load_ext autoreload\n",
    "%autoreload 2\n",
    "\n",
    "# ebablbe auto-completion\n",
    "%config Completer.use_jedi = False"
   ]
  },
  {
   "cell_type": "code",
   "execution_count": 2,
   "metadata": {
    "ExecuteTime": {
     "end_time": "2021-09-27T05:39:43.037173Z",
     "start_time": "2021-09-27T05:39:42.916253Z"
    }
   },
   "outputs": [],
   "source": [
    "# 当module有新的方法的时候，需要运行下面方法。\n",
    "%reload_ext autoreload"
   ]
  },
  {
   "cell_type": "markdown",
   "metadata": {},
   "source": [
    "初始化参数。"
   ]
  },
  {
   "cell_type": "code",
   "execution_count": 3,
   "metadata": {
    "ExecuteTime": {
     "end_time": "2021-09-27T05:39:43.282354Z",
     "start_time": "2021-09-27T05:39:43.040165Z"
    }
   },
   "outputs": [],
   "source": [
    "def lr_schedule(epoch, lr):\n",
    "    \"\"\"config the strategy of reducing learning rate\"\"\"\n",
    "    lr_times = [(0, 1), (60, 1e-1), (90, 1e-2), (105, 1e-3), (120, 0.5e-3)]\n",
    "    \n",
    "    base_lr = 1e-3\n",
    "    new_lr = base_lr\n",
    "    for border_epoch, times in lr_times:\n",
    "        if epoch>=border_epoch: \n",
    "            new_lr = base_lr*times\n",
    "    if abs(lr - new_lr)>1e-7:\n",
    "        if new_lr > lr > 0.1*new_lr - 1e-7:\n",
    "            print('Epoch %05d: Still keep learning rate %s instead of %s' % \n",
    "                  (epoch + 1, round(lr, 7), round(new_lr, 7))) \n",
    "            return lr   \n",
    "        print('Epoch %05d: LearningRateScheduler reducing learning rate to %s from %s.' % \n",
    "              (epoch + 1, round(new_lr, 7), round(lr, 7)))\n",
    "    return new_lr\n",
    "\n",
    "\n",
    "\n",
    "output_path = os.path.abspath('./output')\n",
    "data_name = 'imdb'\n",
    "data_path = os.path.join(output_path, data_name)\n",
    "program_path = os.path.join(data_path, qbz95.utils.get_notebook_name().split('.')[0])\n",
    "word_vectors_path = '/tf/eipi10/xuxiangwen.github.io/_notes/05-ai/54-tensorflow/models/word_vectors'\n",
    "classes = ['Negative', 'Positive']\n",
    "\n",
    "params = {\n",
    "    'data_name': data_name,\n",
    "    'data_path': data_path,\n",
    "    'program_name': qbz95.utils.get_notebook_name(),\n",
    "    'program_path': program_path,\n",
    "    'classes': classes,\n",
    "    'word_vectors_path': word_vectors_path,\n",
    "    'sample_perecent': 1,    \n",
    "    'text_columns': 'snps_sa_comments',\n",
    "    'validation_percent': 0.0,  \n",
    "    'use_stop_words': True,    \n",
    "    'stop_words':stopwords.words('english'),\n",
    "    'batch_size': 32,    \n",
    "    'max_features': 20000,\n",
    "    'sequence_length': 500,    \n",
    "    'epochs': 3,    \n",
    "    'learning_rate':0.001,\n",
    "    'clip_value':None,\n",
    "    'dropout':0.1,\n",
    "    'metrics':['accuracy'], \n",
    "    'loss': losses.SparseCategoricalCrossentropy(from_logits=True),\n",
    "    'restore_best_checkpoint':True,\n",
    "    'use_savedmodel':True,\n",
    "    'use_bias_initializer':True,\n",
    "    'use_class_weight':False,\n",
    "    'class_weight': [1.0, 1.0],\n",
    "    'callbacks': {\n",
    "        'ModelCheckpoint': {\n",
    "            'enabled': True,\n",
    "            'monitor': 'val_accuracy',               \n",
    "        },\n",
    "        'EarlyStopping': {\n",
    "            'enabled': True,\n",
    "            'patience': 40,   \n",
    "            'monitor': 'val_accuracy',            \n",
    "        },\n",
    "        'ReduceLROnPlateau': {\n",
    "            'enabled': True,\n",
    "            'monitor': 'val_loss',\n",
    "            'patience': 15,\n",
    "            'factor': np.sqrt(0.1),            \n",
    "        },\n",
    "        'LearningRateScheduler': {\n",
    "            'enabled': True,\n",
    "            'schedule': lr_schedule,            \n",
    "        }             \n",
    "    },\n",
    "    'model_params':{\n",
    "        'mlp':{'dropout':0.6, 'layer_count':1, 'units':256, 'epochs':15},\n",
    "        'rnn':{'dropout':0.4, 'embedding_dim':200, 'units':200, 'epochs':5},\n",
    "        'embedding':{'dropout':0.4, 'embedding_dim':200, 'epochs':15},\n",
    "        'sepcnn':{'dropout':0.4, 'epochs': 10, 'batch_size':128},\n",
    "        'tl':{'dropout':0.4, 'trainable':True, 'layer_count':1, 'unit':64, 'epochs': 10},\n",
    "        'pg':{'dropout':0.4, 'embedding_dim':300, 'units':80, 'epochs':20, 'learning_rate':0.0005},  \n",
    "    },\n",
    "    'embedding_paths':{\n",
    "        'cc_en_300':os.path.join(word_vectors_path, 'snps', 'cc.en.300.vec'),\n",
    "        'fasttext_crawl_300d_2M':os.path.join(word_vectors_path, 'fasttext-crawl-300d-2M.vec'),\n",
    "        'glove_twitter_27B_200d':os.path.join(word_vectors_path, 'glove.twitter.27B.200d.txt')\n",
    "    },\n",
    "    'keras_layper_paths':{\n",
    "    },\n",
    "    'model_resutls':{\n",
    "        'show_top_n':20,\n",
    "        'show_exclude_columns':qtf.classification.ModelResults.exclude_columns1\n",
    "    }\n",
    "}\n",
    "\n",
    "params = qtf.classification.Params(params)\n",
    "model_results=qtf.classification.ProgramModelResults(params.program_path)\n",
    "# model_results.clear()"
   ]
  },
  {
   "cell_type": "markdown",
   "metadata": {},
   "source": [
    "### 下载数据\n",
    "\n",
    "开始下载数据。"
   ]
  },
  {
   "cell_type": "code",
   "execution_count": 4,
   "metadata": {
    "ExecuteTime": {
     "end_time": "2021-09-27T05:39:43.347387Z",
     "start_time": "2021-09-27T05:39:43.285142Z"
    }
   },
   "outputs": [],
   "source": [
    "dataset_dir =  os.path.join(os.path.expanduser('~'), '.keras/datasets/aclImdb') \n",
    "if not os.path.exists(dataset_dir):\n",
    "    url = \"https://ai.stanford.edu/~amaas/data/sentiment/aclImdb_v1.tar.gz\"\n",
    "    dataset = tf.keras.utils.get_file(\"aclImdb_v1.tar.gz\", url, untar=True)\n",
    "    dataset_dir = os.path.join(os.path.dirname(dataset), 'aclImdb')\n",
    "    print(dataset_dir)"
   ]
  },
  {
   "cell_type": "markdown",
   "metadata": {},
   "source": [
    "![image-20201217095446441](images/image-20201217095446441.png)\n",
    "\n",
    "下面是压缩文件解开后的目录结构。\n",
    "\n",
    "![image-20201104115404253](images/image-20201104115404253.png)\n",
    "\n",
    "其中train和test目录包含了实际的文本数据，详细说明见[IMDB](https://eipi10.cn/others/2020/10/22/dataset/#imdb---large-movie-review-dataset)。\n",
    "\n",
    "### 查看数据\n",
    "\n",
    "下面看一看实际的数据是啥样的。"
   ]
  },
  {
   "cell_type": "code",
   "execution_count": 5,
   "metadata": {
    "ExecuteTime": {
     "end_time": "2021-09-27T05:39:43.527197Z",
     "start_time": "2021-09-27T05:39:43.349851Z"
    }
   },
   "outputs": [
    {
     "name": "stdout",
     "output_type": "stream",
     "text": [
      "train dataset: 12500 positive reviews, 12500 negative reviews\n",
      "test dataset: 12500 positive reviews, 12500 negative reviews\n"
     ]
    }
   ],
   "source": [
    "def get_files(base_dir):\n",
    "    pos_dir = os.path.join(base_dir, 'pos')\n",
    "    pos_files = os.listdir(pos_dir)\n",
    "    pos_files = [os.path.join(pos_dir, file_name) for file_name in pos_files]\n",
    "    \n",
    "    neg_dir = os.path.join(base_dir, 'neg')\n",
    "    neg_files = os.listdir(neg_dir)\n",
    "    neg_files = [os.path.join(neg_dir, file_name) for file_name in neg_files]    \n",
    "\n",
    "    return pos_files, neg_files\n",
    "\n",
    "train_pos_files, train_neg_files = get_files(os.path.join(dataset_dir, 'train'))\n",
    "test_pos_files, test_files = get_files(os.path.join(dataset_dir, 'test'))\n",
    "    \n",
    "print('train dataset: {} positive reviews, {} negative reviews'.format(len(train_pos_files), len(train_neg_files)))\n",
    "print('test dataset: {} positive reviews, {} negative reviews'.format(len(test_pos_files), len(test_files)))"
   ]
  },
  {
   "cell_type": "markdown",
   "metadata": {},
   "source": [
    "![image-20201217115036617](images/image-20201217115036617.png)\n",
    "\n",
    "首先看一看正面的评论。"
   ]
  },
  {
   "cell_type": "code",
   "execution_count": 6,
   "metadata": {
    "ExecuteTime": {
     "end_time": "2021-09-27T05:39:43.600002Z",
     "start_time": "2021-09-27T05:39:43.529606Z"
    }
   },
   "outputs": [
    {
     "name": "stdout",
     "output_type": "stream",
     "text": [
      "------------------------------/root/.keras/datasets/aclImdb/train/pos/127_7.txt------------------------------\n",
      "Zentropa has much in common with The Third Man, another noir-like film set among the rubble of postwar Europe. Like TTM, there is much inventive camera work. There is an innocent American who gets emotionally involved with a woman he doesn't really understand, and whose naivety is all the more striking in contrast with the natives.<br /><br />But I'd have to say that The Third Man has a more well-crafted storyline. Zentropa is a bit disjointed in this respect. Perhaps this is intentional: it is presented as a dream/nightmare, and making it too coherent would spoil the effect. <br /><br />This movie is unrelentingly grim--\"noir\" in more than one sense; one never sees the sun shine. Grim, but intriguing, and frightening.\n",
      "------------------------------/root/.keras/datasets/aclImdb/train/pos/126_10.txt------------------------------\n",
      "Zentropa is the most original movie I've seen in years. If you like unique thrillers that are influenced by film noir, then this is just the right cure for all of those Hollywood summer blockbusters clogging the theaters these days. Von Trier's follow-ups like Breaking the Waves have gotten more acclaim, but this is really his best work. It is flashy without being distracting and offers the perfect combination of suspense and dark humor. It's too bad he decided handheld cameras were the wave of the future. It's hard to say who talked him away from the style he exhibits here, but it's everyone's loss that he went into his heavily theoretical dogma direction instead.\n",
      "------------------------------/root/.keras/datasets/aclImdb/train/pos/125_7.txt------------------------------\n",
      "Lars Von Trier is never backward in trying out new techniques. Some of them are very original while others are best forgotten.<br /><br />He depicts postwar Germany as a nightmarish train journey. With so many cities lying in ruins, Leo Kessler a young American of German descent feels obliged to help in their restoration. It is not a simple task as he quickly finds out.<br /><br />His uncle finds him a job as a night conductor on the Zentropa Railway Line. His job is to attend to the needs of the passengers. When the shoes are polished a chalk mark is made on the soles. A terrible argument ensues when a passenger's shoes are not chalked despite the fact they have been polished. There are many allusions to the German fanaticism of adherence to such stupid details.<br /><br />The railway jou ...\n"
     ]
    }
   ],
   "source": [
    "for file_path in train_pos_files[0:3]:    \n",
    "    print('-'*30 + file_path + '-'*30 )\n",
    "    with open(file_path) as f:\n",
    "        comment = f.read() \n",
    "        print(comment if len(comment)<=800 else comment[0:800]+' ...') "
   ]
  },
  {
   "cell_type": "markdown",
   "metadata": {},
   "source": [
    "![image-20201217111649607](images/image-20201217111649607.png)\n",
    "\n",
    "然后看一看负面的评论。"
   ]
  },
  {
   "cell_type": "code",
   "execution_count": 7,
   "metadata": {
    "ExecuteTime": {
     "end_time": "2021-09-27T05:39:43.664465Z",
     "start_time": "2021-09-27T05:39:43.602319Z"
    }
   },
   "outputs": [
    {
     "name": "stdout",
     "output_type": "stream",
     "text": [
      "------------------------------/root/.keras/datasets/aclImdb/train/neg/127_4.txt------------------------------\n",
      "I rented I AM CURIOUS-YELLOW from my video store because of all the controversy that surrounded it when it was first released in 1967. I also heard that at first it was seized by U.S. customs if it ever tried to enter this country, therefore being a fan of films considered \"controversial\" I really had to see this for myself.<br /><br />The plot is centered around a young Swedish drama student named Lena who wants to learn everything she can about life. In particular she wants to focus her attentions to making some sort of documentary on what the average Swede thought about certain political issues such as the Vietnam War and race issues in the United States. In between asking politicians and ordinary denizens of Stockholm about their opinions on politics, she has sex with her drama teacher ...\n",
      "------------------------------/root/.keras/datasets/aclImdb/train/neg/126_1.txt------------------------------\n",
      "\"I Am Curious: Yellow\" is a risible and pretentious steaming pile. It doesn't matter what one's political views are because this film can hardly be taken seriously on any level. As for the claim that frontal male nudity is an automatic NC-17, that isn't true. I've seen R-rated films with male nudity. Granted, they only offer some fleeting views, but where are the R-rated films with gaping vulvas and flapping labia? Nowhere, because they don't exist. The same goes for those crappy cable shows: schlongs swinging in the breeze but not a clitoris in sight. And those pretentious indie movies like The Brown Bunny, in which we're treated to the site of Vincent Gallo's throbbing johnson, but not a trace of pink visible on Chloe Sevigny. Before crying (or implying) \"double-standard\" in matters of n ...\n",
      "------------------------------/root/.keras/datasets/aclImdb/train/neg/125_1.txt------------------------------\n",
      "If only to avoid making this type of film in the future. This film is interesting as an experiment but tells no cogent story.<br /><br />One might feel virtuous for sitting thru it because it touches on so many IMPORTANT issues but it does so without any discernable motive. The viewer comes away with no new perspectives (unless one comes up with one while one's mind wanders, as it will invariably do during this pointless film).<br /><br />One might better spend one's time staring out a window at a tree growing.<br /><br />\n"
     ]
    }
   ],
   "source": [
    "for file_path in train_neg_files[0:3]:    \n",
    "    print('-'*30 + file_path + '-'*30 )\n",
    "    with open(file_path) as f:\n",
    "        comment = f.read() \n",
    "        print(comment if len(comment)<=800 else comment[0:800]+' ...')"
   ]
  },
  {
   "cell_type": "markdown",
   "metadata": {},
   "source": [
    "![image-20201217100213645](images/image-20201217100213645.png)\n",
    "\n",
    "## 探索数据\n",
    "\n",
    "接下来，对把数据加载进内存，进行深入一些的探索。\n",
    "\n",
    "### 基本信息"
   ]
  },
  {
   "cell_type": "code",
   "execution_count": 8,
   "metadata": {
    "ExecuteTime": {
     "end_time": "2021-09-27T05:39:55.403096Z",
     "start_time": "2021-09-27T05:39:43.669973Z"
    }
   },
   "outputs": [
    {
     "name": "stdout",
     "output_type": "stream",
     "text": [
      "train_texts.length=25000, train_labels.shape=(25000,)\n",
      "test_texts.length=25000, test_labels.shape=(25000,)\n"
     ]
    }
   ],
   "source": [
    "def get_samples(texts, labels, rate):\n",
    "    indexs = np.arange(len(texts))\n",
    "    sample_indexs, _, sample_labels, _ = train_test_split(indexs, labels,                                                          \n",
    "                                                          test_size=1-rate,\n",
    "                                                          random_state=12)\n",
    "    sample_texts = [texts[index] for index in sample_indexs]\n",
    "    return sample_texts, sample_labels    \n",
    "\n",
    "def load_imdb_sentiment_analysis_dataset(imdb_data_path, seed=123):\n",
    "    \"\"\"Loads the IMDb movie reviews sentiment analysis dataset.\n",
    "\n",
    "    # Arguments\n",
    "        data_path: string, path to the data directory.\n",
    "        seed: int, seed for randomizer.\n",
    "\n",
    "    # Returns\n",
    "        A tuple of training and validation data.\n",
    "        Number of training samples: 25000\n",
    "        Number of test samples: 25000\n",
    "        Number of categories: 2 (0 - negative, 1 - positive)\n",
    "\n",
    "    # References\n",
    "        Mass et al., http://www.aclweb.org/anthology/P11-1015\n",
    "\n",
    "        Download and uncompress archive from:\n",
    "        http://ai.stanford.edu/~amaas/data/sentiment/aclImdb_v1.tar.gz\n",
    "    \"\"\"\n",
    "\n",
    "    # Load the training data\n",
    "    train_texts = []\n",
    "    train_labels = []\n",
    "    for category in ['pos', 'neg']:\n",
    "        train_path = os.path.join(imdb_data_path, 'train', category)\n",
    "        for fname in sorted(os.listdir(train_path)):\n",
    "            if fname.endswith('.txt'):\n",
    "                with open(os.path.join(train_path, fname)) as f:\n",
    "                    train_texts.append(f.read())\n",
    "                train_labels.append(0 if category == 'neg' else 1)\n",
    "\n",
    "    # Load the validation data.\n",
    "    test_texts = []\n",
    "    test_labels = []\n",
    "    for category in ['pos', 'neg']:\n",
    "        test_path = os.path.join(imdb_data_path, 'test', category)\n",
    "        for fname in sorted(os.listdir(test_path)):\n",
    "            if fname.endswith('.txt'):\n",
    "                with open(os.path.join(test_path, fname)) as f:\n",
    "                    test_texts.append(f.read())\n",
    "                test_labels.append(0 if category == 'neg' else 1)\n",
    "\n",
    "    # Shuffle the training data and labels.\n",
    "    random.seed(seed)\n",
    "    random.shuffle(train_texts)\n",
    "    random.seed(seed)\n",
    "    random.shuffle(train_labels)\n",
    "\n",
    "    return ((train_texts, np.array(train_labels)),\n",
    "            (test_texts, np.array(test_labels)))\n",
    "\n",
    "(train_texts, train_labels), (test_texts, test_labels) = load_imdb_sentiment_analysis_dataset(dataset_dir)\n",
    "\n",
    "if params.sample_perecent<1:\n",
    "    train_texts, train_labels = get_samples(train_texts, train_labels, rate=params.sample_perecent)\n",
    "    test_texts, test_labels = get_samples(test_texts, test_labels, rate=params.sample_perecent)\n",
    "\n",
    "print('train_texts.length={}, train_labels.shape={}'.format(len(train_texts), train_labels.shape))\n",
    "print('test_texts.length={}, test_labels.shape={}'.format(len(test_texts), test_labels.shape))"
   ]
  },
  {
   "cell_type": "markdown",
   "metadata": {},
   "source": [
    "![image-20201217122349480](images/image-20201217122349480.png)\n",
    "\n",
    "### 类别分布\n",
    "\n",
    "下面看看类别的分布。可以看到数据分为Positive和Negative两类，数据分布完全均匀。"
   ]
  },
  {
   "cell_type": "code",
   "execution_count": 9,
   "metadata": {
    "ExecuteTime": {
     "end_time": "2021-09-27T05:39:55.760623Z",
     "start_time": "2021-09-27T05:39:55.406191Z"
    }
   },
   "outputs": [
    {
     "data": {
      "image/png": "[encoded data removed]",
      "text/plain": [
       "<Figure size 576x288 with 2 Axes>"
      ]
     },
     "metadata": {
      "needs_background": "light"
     },
     "output_type": "display_data"
    }
   ],
   "source": [
    "qtf.utils.plot_distribution(train_labels, test_labels, params.classes)"
   ]
  },
  {
   "cell_type": "markdown",
   "metadata": {},
   "source": [
    "\n",
    "\n",
    "### 文本长度分布\n",
    "\n",
    "分析训练集和测试集的文本长度分布是否相似。"
   ]
  },
  {
   "cell_type": "code",
   "execution_count": 10,
   "metadata": {
    "ExecuteTime": {
     "end_time": "2021-09-27T05:39:57.522141Z",
     "start_time": "2021-09-27T05:39:55.763147Z"
    }
   },
   "outputs": [
    {
     "data": {
      "image/png": "[encoded data removed]",
      "text/plain": [
       "<Figure size 864x288 with 2 Axes>"
      ]
     },
     "metadata": {
      "needs_background": "light"
     },
     "output_type": "display_data"
    },
    {
     "name": "stdout",
     "output_type": "stream",
     "text": [
      "train：mean=233.79 variance=30181.96\n",
      "test：mean=228.53 variance=28520.56\n"
     ]
    }
   ],
   "source": [
    "train_text_lengths = [len(s.split()) for s in train_texts]\n",
    "test_text_lengths = [len(s.split()) for s in test_texts]\n",
    "qtf.utils.plot_length_distribution(train_text_lengths, test_text_lengths)\n",
    "\n",
    "print('train：mean={:0.2f} variance={:0.2f}'.format(np.mean(train_text_lengths), \n",
    "                                                    np.var(train_text_lengths)))\n",
    "print('test：mean={:0.2f} variance={:0.2f}'.format(np.mean(test_text_lengths), \n",
    "                                                   np.var(test_text_lengths)))"
   ]
  },
  {
   "cell_type": "markdown",
   "metadata": {},
   "source": [
    "\n",
    "通过图形，中位数，均值和方差的比较，可以认为训练集和测试集文本长度的分布是非常相似的。下面用卡方检验来比较训练集和测试集是否有显著差异。"
   ]
  },
  {
   "cell_type": "code",
   "execution_count": 11,
   "metadata": {
    "ExecuteTime": {
     "end_time": "2021-09-27T05:39:57.758363Z",
     "start_time": "2021-09-27T05:39:57.524388Z"
    }
   },
   "outputs": [
    {
     "name": "stdout",
     "output_type": "stream",
     "text": [
      "------------------------- Observed -------------------------\n"
     ]
    },
    {
     "data": {
      "text/html": [
       "<div>\n",
       "<style scoped>\n",
       "    .dataframe tbody tr th:only-of-type {\n",
       "        vertical-align: middle;\n",
       "    }\n",
       "\n",
       "    .dataframe tbody tr th {\n",
       "        vertical-align: top;\n",
       "    }\n",
       "\n",
       "    .dataframe thead th {\n",
       "        text-align: right;\n",
       "    }\n",
       "</style>\n",
       "<table border=\"1\" class=\"dataframe\">\n",
       "  <thead>\n",
       "    <tr style=\"text-align: right;\">\n",
       "      <th></th>\n",
       "      <th>0-99</th>\n",
       "      <th>100-199</th>\n",
       "      <th>200-299</th>\n",
       "      <th>300-399</th>\n",
       "      <th>400-499</th>\n",
       "      <th>500-599</th>\n",
       "      <th>600-699</th>\n",
       "      <th>700-799</th>\n",
       "      <th>800+</th>\n",
       "      <th>合计</th>\n",
       "    </tr>\n",
       "    <tr>\n",
       "      <th></th>\n",
       "      <th></th>\n",
       "      <th></th>\n",
       "      <th></th>\n",
       "      <th></th>\n",
       "      <th></th>\n",
       "      <th></th>\n",
       "      <th></th>\n",
       "      <th></th>\n",
       "      <th></th>\n",
       "      <th></th>\n",
       "    </tr>\n",
       "  </thead>\n",
       "  <tbody>\n",
       "    <tr>\n",
       "      <th>test</th>\n",
       "      <td>3091</td>\n",
       "      <td>11744</td>\n",
       "      <td>4697</td>\n",
       "      <td>2321</td>\n",
       "      <td>1251</td>\n",
       "      <td>752</td>\n",
       "      <td>434</td>\n",
       "      <td>289</td>\n",
       "      <td>421</td>\n",
       "      <td>25000</td>\n",
       "    </tr>\n",
       "    <tr>\n",
       "      <th>train</th>\n",
       "      <td>2926</td>\n",
       "      <td>11654</td>\n",
       "      <td>4665</td>\n",
       "      <td>2385</td>\n",
       "      <td>1340</td>\n",
       "      <td>786</td>\n",
       "      <td>464</td>\n",
       "      <td>307</td>\n",
       "      <td>473</td>\n",
       "      <td>25000</td>\n",
       "    </tr>\n",
       "    <tr>\n",
       "      <th>合计</th>\n",
       "      <td>6017</td>\n",
       "      <td>23398</td>\n",
       "      <td>9362</td>\n",
       "      <td>4706</td>\n",
       "      <td>2591</td>\n",
       "      <td>1538</td>\n",
       "      <td>898</td>\n",
       "      <td>596</td>\n",
       "      <td>894</td>\n",
       "      <td>50000</td>\n",
       "    </tr>\n",
       "  </tbody>\n",
       "</table>\n",
       "</div>"
      ],
      "text/plain": [
       "       0-99  100-199  200-299  300-399  400-499  500-599  600-699  700-799  \\\n",
       "                                                                             \n",
       "test   3091    11744     4697     2321     1251      752      434      289   \n",
       "train  2926    11654     4665     2385     1340      786      464      307   \n",
       "合计     6017    23398     9362     4706     2591     1538      898      596   \n",
       "\n",
       "       800+     合计  \n",
       "                    \n",
       "test    421  25000  \n",
       "train   473  25000  \n",
       "合计      894  50000  "
      ]
     },
     "metadata": {},
     "output_type": "display_data"
    },
    {
     "name": "stdout",
     "output_type": "stream",
     "text": [
      "------------------------- Expected -------------------------\n"
     ]
    },
    {
     "data": {
      "text/html": [
       "<div>\n",
       "<style scoped>\n",
       "    .dataframe tbody tr th:only-of-type {\n",
       "        vertical-align: middle;\n",
       "    }\n",
       "\n",
       "    .dataframe tbody tr th {\n",
       "        vertical-align: top;\n",
       "    }\n",
       "\n",
       "    .dataframe thead th {\n",
       "        text-align: right;\n",
       "    }\n",
       "</style>\n",
       "<table border=\"1\" class=\"dataframe\">\n",
       "  <thead>\n",
       "    <tr style=\"text-align: right;\">\n",
       "      <th></th>\n",
       "      <th>0-99</th>\n",
       "      <th>100-199</th>\n",
       "      <th>200-299</th>\n",
       "      <th>300-399</th>\n",
       "      <th>400-499</th>\n",
       "      <th>500-599</th>\n",
       "      <th>600-699</th>\n",
       "      <th>700-799</th>\n",
       "      <th>800+</th>\n",
       "      <th>合计</th>\n",
       "    </tr>\n",
       "    <tr>\n",
       "      <th></th>\n",
       "      <th></th>\n",
       "      <th></th>\n",
       "      <th></th>\n",
       "      <th></th>\n",
       "      <th></th>\n",
       "      <th></th>\n",
       "      <th></th>\n",
       "      <th></th>\n",
       "      <th></th>\n",
       "      <th></th>\n",
       "    </tr>\n",
       "  </thead>\n",
       "  <tbody>\n",
       "    <tr>\n",
       "      <th>test</th>\n",
       "      <td>3008.5</td>\n",
       "      <td>11699.0</td>\n",
       "      <td>4681.0</td>\n",
       "      <td>2353.0</td>\n",
       "      <td>1295.5</td>\n",
       "      <td>769.0</td>\n",
       "      <td>449.0</td>\n",
       "      <td>298.0</td>\n",
       "      <td>447.0</td>\n",
       "      <td>25000.0</td>\n",
       "    </tr>\n",
       "    <tr>\n",
       "      <th>train</th>\n",
       "      <td>3008.5</td>\n",
       "      <td>11699.0</td>\n",
       "      <td>4681.0</td>\n",
       "      <td>2353.0</td>\n",
       "      <td>1295.5</td>\n",
       "      <td>769.0</td>\n",
       "      <td>449.0</td>\n",
       "      <td>298.0</td>\n",
       "      <td>447.0</td>\n",
       "      <td>25000.0</td>\n",
       "    </tr>\n",
       "    <tr>\n",
       "      <th>合计</th>\n",
       "      <td>6017.0</td>\n",
       "      <td>23398.0</td>\n",
       "      <td>9362.0</td>\n",
       "      <td>4706.0</td>\n",
       "      <td>2591.0</td>\n",
       "      <td>1538.0</td>\n",
       "      <td>898.0</td>\n",
       "      <td>596.0</td>\n",
       "      <td>894.0</td>\n",
       "      <td>50000.0</td>\n",
       "    </tr>\n",
       "  </tbody>\n",
       "</table>\n",
       "</div>"
      ],
      "text/plain": [
       "         0-99  100-199  200-299  300-399  400-499  500-599  600-699  700-799  \\\n",
       "                                                                               \n",
       "test   3008.5  11699.0   4681.0   2353.0   1295.5    769.0    449.0    298.0   \n",
       "train  3008.5  11699.0   4681.0   2353.0   1295.5    769.0    449.0    298.0   \n",
       "合计     6017.0  23398.0   9362.0   4706.0   2591.0   1538.0    898.0    596.0   \n",
       "\n",
       "        800+       合计  \n",
       "                       \n",
       "test   447.0  25000.0  \n",
       "train  447.0  25000.0  \n",
       "合计     894.0  50000.0  "
      ]
     },
     "metadata": {},
     "output_type": "display_data"
    }
   ],
   "source": [
    "def process_length(lengths):\n",
    "    cut_points = [0,99,199,299,399,499,599,699,799,10000]\n",
    "    labels = [\"0-99\",\"100-199\",\"200-299\",\"300-399\",\"400-499\",\"500-599\", \"600-699\",\"700-799\",\"800+\"]\n",
    "    return pd.cut(lengths, cut_points, labels=labels)\n",
    "\n",
    "def get_observed(df, column1, column2):\n",
    "    df_observed = pd.crosstab(\n",
    "        df[column1],\n",
    "        df[column2]\n",
    "    )    \n",
    "    return df_observed\n",
    "    \n",
    "def get_expected(df_observed):\n",
    "    observed = df_observed.to_numpy()\n",
    "    reduce_row = observed.sum(axis=0, keepdims=True)/observed.sum()\n",
    "    reduce_col = observed.sum(axis=1, keepdims=True)\n",
    "\n",
    "    expected = reduce_col.dot(reduce_row)\n",
    "    df_expected = pd.DataFrame(expected, index=df_observed.index, columns=df_observed.columns)\n",
    "    return df_expected\n",
    "  \n",
    "def show_sum(df):\n",
    "    df.columns =  df.columns.tolist()  \n",
    "    df = df.reset_index()\n",
    "    s = df.melt(df.columns[0], var_name=' ')\n",
    "    ct = pd.crosstab(index=s[df.columns[0]], columns=s.iloc[:,1], values=s.value, \n",
    "                     aggfunc='sum', margins=True, margins_name='合计',\n",
    "                     rownames=[''], \n",
    "               ) \n",
    "    display(ct)\n",
    "    \n",
    "length = train_text_lengths + test_text_lengths\n",
    "dataset = ['train']*len(train_text_lengths) + ['test']*len(test_text_lengths)\n",
    "\n",
    "df_length = pd.DataFrame({\"dataset\":dataset, \"length\":length})\n",
    "df_length['len'] = process_length(length)\n",
    "df_observed = get_observed(df_length, 'dataset', 'len')\n",
    "# display(df_length)\n",
    "\n",
    "print('-'*25, 'Observed', '-'*25)\n",
    "show_sum(df_observed)\n",
    "\n",
    "print('-'*25, 'Expected', '-'*25)\n",
    "df_expected = get_expected(df_observed)\n",
    "show_sum(df_expected)"
   ]
  },
  {
   "cell_type": "markdown",
   "metadata": {},
   "source": [
    "![image-20210101174143400](images/image-20210101174143400.png)\n",
    "\n",
    "然后进行卡方检验。可以看到p_value>0.05，所以接受原假设——数据集来源和文本长度是独立的，也就是说接受训练集和测试集是是相似的分布。"
   ]
  },
  {
   "cell_type": "code",
   "execution_count": 12,
   "metadata": {
    "ExecuteTime": {
     "end_time": "2021-09-27T05:39:57.809746Z",
     "start_time": "2021-09-27T05:39:57.760479Z"
    }
   },
   "outputs": [
    {
     "name": "stdout",
     "output_type": "stream",
     "text": [
      "chi_squared_stat = 14.229826210223425\n",
      "critical_value = 15.50731305586545\n",
      "p_value = 0.07596828551367163\n"
     ]
    }
   ],
   "source": [
    "observed = df_observed.to_numpy()\n",
    "expected = df_expected.to_numpy()\n",
    "\n",
    "chi_squared_stat = ((observed-expected)**2/expected).sum()\n",
    "print('chi_squared_stat =', chi_squared_stat)\n",
    "\n",
    "df = np.prod(np.array(observed.shape) - 1)\n",
    "critical_value  = stats.chi2.ppf(q=0.95, df=df)  #0.95:置信水平, df:自由度\n",
    "print('critical_value =', critical_value)        #临界值:拒绝域的边界, 当卡方值大于临界值，则原假设不成立，备择假设成立\n",
    "\n",
    "p_value = 1 - stats.chi2.cdf(x=chi_squared_stat, df=df)\n",
    "print('p_value =', p_value)"
   ]
  },
  {
   "cell_type": "markdown",
   "metadata": {},
   "source": [
    "\n",
    "### 词频分布\n",
    "\n",
    "分析训练集和测试集的词频分布是否相似。下面代码中，去除了一些stopwords。"
   ]
  },
  {
   "cell_type": "code",
   "execution_count": 13,
   "metadata": {
    "ExecuteTime": {
     "end_time": "2021-09-27T05:40:08.920540Z",
     "start_time": "2021-09-27T05:39:57.812103Z"
    }
   },
   "outputs": [
    {
     "data": {
      "image/png": "[encoded data removed]",
      "text/plain": [
       "<Figure size 1152x864 with 2 Axes>"
      ]
     },
     "metadata": {
      "needs_background": "light"
     },
     "output_type": "display_data"
    }
   ],
   "source": [
    "qtf.utils.plot_frequency_distribution(train_texts, test_texts) "
   ]
  },
  {
   "cell_type": "code",
   "execution_count": 14,
   "metadata": {
    "ExecuteTime": {
     "end_time": "2021-09-27T05:40:11.741601Z",
     "start_time": "2021-09-27T05:40:08.922711Z"
    }
   },
   "outputs": [
    {
     "name": "stdout",
     "output_type": "stream",
     "text": [
      "Number of Vocabulary: 438729\n",
      "Number of Vocabulary: 23078\n"
     ]
    }
   ],
   "source": [
    "word_counter = Counter()\n",
    "for s in train_texts:\n",
    "    word_counter.update(s.split())\n",
    "for s in test_texts:\n",
    "    word_counter.update(s.split())   \n",
    "\n",
    "print('Number of Vocabulary: {}'.format(len(word_counter)))\n",
    "\n",
    "for word in list(word_counter):\n",
    "    if word_counter[word]<25: word_counter.pop(word)\n",
    "        \n",
    "print('Number of Vocabulary: {}'.format(len(word_counter)))"
   ]
  },
  {
   "cell_type": "markdown",
   "metadata": {},
   "source": [
    "![image-20201217142728260](images/image-20201217142728260.png)\n",
    "\n",
    "上面可以看到词频大于等于100次的词汇有7706个。\n",
    "\n",
    "## 准备数据\n",
    "\n",
    "不同的模型需要准备不同的数据，所以徐要确定一下要构建哪种模型。\n",
    "\n",
    "### 模型选择\n",
    "\n",
    "下图是google在两年前提出一个选择流程图。\n",
    "\n",
    "![image-20201217135347743](images/image-20201217135347743.png)\n",
    "\n",
    "1. Calculate the number of samples/number of words per sample ratio.\n",
    "2. If this ratio is less than 1500, tokenize the text as n-grams and use a simple multi-layer perceptron (MLP) model to classify them (left branch in the flowchart below):\n",
    "   a. Split the samples into word n-grams; convert the n-grams into vectors.\n",
    "     b. Score the importance of the vectors and then select the top 20K using the scores.\n",
    "   c. Build an MLP model.\n",
    "3. If the ratio is greater than 1500, tokenize the text as sequences and use a sepCNN model to classify them (right branch in the flowchart below):\n",
    "   a. Split the samples into words; select the top 20K words based on their frequency.\n",
    "   b. Convert the samples into word sequence vectors.\n",
    "   c. If the original number of samples/number of words per sample ratio is less   than 15K, using a fine-tuned pre-trained embedding with the sepCNN  model will likely provide the best results.\n",
    "4. Measure the model performance with different hyperparameter values to find\n",
    "   the best model configuration for the dataset."
   ]
  },
  {
   "cell_type": "code",
   "execution_count": 15,
   "metadata": {
    "ExecuteTime": {
     "end_time": "2021-09-27T05:40:11.794652Z",
     "start_time": "2021-09-27T05:40:11.743722Z"
    }
   },
   "outputs": [
    {
     "name": "stdout",
     "output_type": "stream",
     "text": [
      "[the number of samples]/[number of words per sample] = 143.7\n"
     ]
    }
   ],
   "source": [
    "length_median = np.median(train_text_lengths)\n",
    "train_number = len(train_texts)\n",
    "print (\"[the number of samples]/[number of words per sample] = {:0.1f}\".format(train_number/length_median))"
   ]
  },
  {
   "cell_type": "markdown",
   "metadata": {},
   "source": [
    "可以看到这个比例大大小于15k，所以我们从N-gram模型开始，但是同时我们也会为Sequence模型准备数据。数据准备有如下几个过程。\n",
    "1. Standardization \n",
    "   \n",
    "   文本标准化操作，去除一些不合规范的字符或单词等。比如：去除拼音和HTML标记\n",
    "   \n",
    "   \n",
    "2. Tokenization\n",
    "\n",
    "   把文本字符串拆分成Token。对于英文最常见的拆分方式是根据空格拆分\n",
    "   \n",
    "   \n",
    "3. Vectorization\n",
    "\n",
    "   把Token转化为向量。\n",
    "   \n",
    "\n",
    "接下来，我们将分别为N-gram模型和Sequence模型准备数据。\n",
    "\n",
    "### N-gram + Preprocess\n",
    "\n",
    "在N-gram模型中，Tokenization一般使用unigrams + bigrams的方式把文本转成Token，而Vectorization过程，一般先统计Token的BOW（Bag of Words，词袋模型），然后采用tf-idf在对词频进行平衡。"
   ]
  },
  {
   "cell_type": "code",
   "execution_count": 17,
   "metadata": {
    "ExecuteTime": {
     "end_time": "2021-09-27T05:41:24.891911Z",
     "start_time": "2021-09-27T05:40:45.749330Z"
    }
   },
   "outputs": [],
   "source": [
    "stop_words = params.stop_words if params.use_stop_words else None\n",
    "generator = qtf.classification.NgramGenerator('ngram_preproess', standardize=qtf.text.standardize_text1,\n",
    "                                    texts=train_texts, labels=train_labels, max_feature=params.max_features, \n",
    "                                    stop_words=stop_words)\n",
    "ngram_datasets1 = qtf.classification.Datasets(train_texts, train_labels, test_texts, test_labels, \n",
    "                                              generator=generator, batch_size=params.batch_size)"
   ]
  },
  {
   "cell_type": "code",
   "execution_count": 18,
   "metadata": {
    "ExecuteTime": {
     "end_time": "2021-09-27T05:41:25.102209Z",
     "start_time": "2021-09-27T05:41:24.894309Z"
    }
   },
   "outputs": [
    {
     "name": "stdout",
     "output_type": "stream",
     "text": [
      "<class 'tensorflow.python.framework.sparse_tensor.SparseTensor'>\n",
      "(32, 20000) (32,)\n",
      "---------------------------------------- Positive ----------------------------------------\n",
      "True (20000,)\n",
      "---------------------------------------- Negative ----------------------------------------\n",
      "True (20000,)\n",
      "---------------------------------------- Positive ----------------------------------------\n",
      "True (20000,)\n",
      "---------------------------------------- Negative ----------------------------------------\n",
      "True (20000,)\n",
      "---------------------------------------- Negative ----------------------------------------\n",
      "True (20000,)\n"
     ]
    }
   ],
   "source": [
    "data, labels = iter(ngram_datasets1.train_dataset).next()\n",
    "print(type(data))\n",
    "print(data.shape, labels.shape)\n",
    "\n",
    "for i, (item, label) in enumerate(zip(tf.sparse.to_dense(data), labels)):\n",
    "    if i>=5: break\n",
    "    print('-'*40, params.classes[label], '-'*40)\n",
    "    print(np.any(item.numpy()>0), item.shape)"
   ]
  },
  {
   "cell_type": "markdown",
   "metadata": {},
   "source": [
    "### Sequence + Preprocess"
   ]
  },
  {
   "cell_type": "code",
   "execution_count": 19,
   "metadata": {
    "ExecuteTime": {
     "end_time": "2021-09-27T05:41:50.803912Z",
     "start_time": "2021-09-27T05:41:25.104890Z"
    }
   },
   "outputs": [],
   "source": [
    "generator = qtf.classification.SequenceGenerator('sequence_prepross', standardize=qtf.text.standardize_text1, \n",
    "                                       texts=train_texts, max_features=params.max_features, \n",
    "                                       max_sequence_length=params.sequence_length)\n",
    "sequence_datasets1 = qtf.classification.Datasets(train_texts, train_labels, test_texts, test_labels, \n",
    "                                                 generator=generator, batch_size=params.batch_size) "
   ]
  },
  {
   "cell_type": "code",
   "execution_count": 20,
   "metadata": {
    "ExecuteTime": {
     "end_time": "2021-09-27T05:41:50.981432Z",
     "start_time": "2021-09-27T05:41:50.806293Z"
    }
   },
   "outputs": [
    {
     "name": "stdout",
     "output_type": "stream",
     "text": [
      "(32, 500) (32,)\n",
      "---------------------------------------- Positive ----------------------------------------\n",
      "[    0     0     0     0     0     0     0     0     0     0     0     0\n",
      "     0     0     0     0     0     0     0     0     0     0     0     0\n",
      "     0     0     0     0     0     0     0     0     0     0     0     0\n",
      "     0     0     0     0     0     0     0     0     0     0     0     0\n",
      "     0     0     0     0     0     0     0     0     0     0     0     0\n",
      "     0     0     0     0     0     0     0     0     0     0     0     0\n",
      "     0     0     0     0     0     0     0     0     0     0     0     0\n",
      "     0     0     0     0     0     0     0     0     0     0     0     0\n",
      "     0     0     0     0     0     0     0     0     0     0     0     0\n",
      "     0     0     0     0     0     0     0     0     0     0     0     0\n",
      "     0     0     0     0     0     0     0     0     0     0     0     0\n",
      "     0     0     0     0     0     0     0     0     0     0     0     0\n",
      "     0     0     0     0     0     0     0     0     0     0     0     0\n",
      "     0     0     0     0     0     0     0     0     0     0     0     0\n",
      "     0     0     0     0     0     0     0     0     0     0     0     0\n",
      "     0     0     0     0     0     0     0    12   895    14  6865     6\n",
      "    82   767    13    20     3    21    12   223   938    14    10     8\n",
      "    32     6    61  2580     2    12   574     7    42    10   130    98\n",
      "    96     4   660     7    42    10   130    77  6865     6   106     2\n",
      "     9     9    91   136     3    12   107    14    82   116   200     1\n",
      "    68   104  1065     3    79    42   150     7     1   682     3    65\n",
      "  2119     8   269     7   897     3     4    11    13    20    36  1872\n",
      "    65  2119     4     5  3561  1235     2     9     9    12    85   239\n",
      "    14  8167     4  2137    74    25    43   122   348    11    13    20\n",
      "     3    36   589 11058     3   994 11058     3     4   300 11058   186\n",
      "     2     9     9     1   289  1563     6    13    20     8    17    78\n",
      "     3     1   707    28   184  3923     4  2491    35   210     4    10\n",
      "    55    31   269     7   264    14   137   707    74    97    18     5\n",
      "    20    47   112  1623 19416    39    55   949  3492     2     2     2\n",
      "    21 11297    14     1  1223     6     1   225  2983     3   253   137\n",
      "   112  3644  1914    77   124   108    14    28  1834    18     1   434\n",
      "   682     6   687     2     9     9     1  2253  1563    16    17    78\n",
      "     2   936     4  2443   166   171   636    11  5840  1235     3   120\n",
      "    17    11   318  1131    36   171   247    42     3    78    17    36\n",
      "    64   274    10     3    33    33    33     9     9    60     1   227\n",
      "    11    13    20     8     3     1   582   262     2    43    41    79\n",
      "    12   100   138    47    13    22     3  1059    12   121    10     2\n",
      "    21    13     8    32     6   151   106    12  2024    63   152     4\n",
      " 17470    12   123    12   416    10    56     3    41    12    55   382\n",
      "   139    82   767    45    46   107    96  5840  1043     7   318  1131\n",
      "    66    12    85   121    37     1   101     2     9     9    80   192\n",
      "    19   132    84  1321    33    33    33    33] (500,)\n",
      "---------------------------------------- Positive ----------------------------------------\n",
      "[10246  2974     4     1   842   291     7   616     1   337     2   360\n",
      "     1   101    27   883     5   243    39    27   753     7   196  3783\n",
      "     7     3     4  2160   309     7    30     5   316   625    19     2\n",
      "    57    11   468     8     5    39     8  9240     3  6464   105    37\n",
      "  5736     2    58     1   112   408   879   402     7   402     3    27\n",
      "  1318    29   539    25    44  5818     3     4  1048    57     8    37\n",
      "     5   921    25    44  5818     2  2861     7   138     3     1   921\n",
      "     8    26     5    54  1866     2    51  4641     8     5   958    18\n",
      "   687     3     5   958   201   198    54     4   442     3    17    10\n",
      "   146    31     3    21    85   201    54     4    54   403     2     9\n",
      "     9     1   220    18    75     6    13    22   850   147    86    77\n",
      "    51    12   205    10    64     2    12   375    11   524    10    64\n",
      "   340    31     5  6095   213   433    22    19  2531     3    45     5\n",
      "   195    22    19  6085   442     4  4652  2299     1  1187     6    66\n",
      "    64    31   114    11 14804     4 14573     2    12    16   193  3998\n",
      "    11     1   122   596   101     2     1    68    10   460     7    75\n",
      "     8    38  1211     6     5    59   172   848   302     3     4    10\n",
      "   297   403    50    17   144     3  8124     1  1974   213  2682 11110\n",
      "   142    19     5    90  1089     3    38   467  1280     3     4     5\n",
      "   433    66   169    23  4658     7   107   247    77    46   859    11\n",
      "   595     2   113   142    28  4384    19 14452   409   201   112   108\n",
      "     1  1187     6    66    83   116    31   114    11     5   339    22\n",
      "     2    10   453     5  2125  2201   565    66   306   132  2862   246\n",
      "     2     9     9     1    22   169   357     6    53 16397  1353     4\n",
      "  3842  7559     7   113    90  3557   111     6   261   489     3    21\n",
      "  2811     7    10     5     4  4664   118     2    19    90   117     3\n",
      "    90   227     3     4  1508  1331   142     3    96     5   223   110\n",
      "    11    61   272     2     9     9    14   115   300     3    10   127\n",
      "   355     1 13264    14    10     8    26    18   296     2    96    26\n",
      "   695  3398   195     3    96    26  4733     7     1  1656   213     2\n",
      "    96     5   195   433   302  1402    81   803     2    10    49    59\n",
      "    79     7   138     4   306     1    65     7    88    41     3  1526\n",
      "    11     1   402     6     1  4010  3173     2    42   848   297     3\n",
      "     1 11179   201     1   108    55   234    18   113   233   163    36\n",
      "   216   295    18     5  1644   248  2909   958   140     2    48    23\n",
      "    55   349   144     5   157     3    13     8     5   959     2    48\n",
      "   132   321     6     5    54    22     8  1170  1507    19   119   118\n",
      "     4  4681   976     3    98    23    55   680   110   147   322     2\n",
      "     9     9   444     3    13    22     7    75     8     5   926     4\n",
      "   467    32     3    66   906    23 14449     4  5090     2    10    49\n",
      "    54   480     3    54   117     3     4    54   454     2    10     8\n",
      "    34    11    34     5 11806    90    22     2] (500,)\n",
      "---------------------------------------- Negative ----------------------------------------\n",
      "[    0     0     0     0     0     0     0     0     0     0     0     0\n",
      "     0     0     0     0     0     0     0     0     0     0     0     0\n",
      "     0     0     0     0     0     0     0     0     0     0     0     0\n",
      "     0     0     0     0     0     0     0     0     0     0     0     0\n",
      "     0     0     0     0     0     0     0     0     0     0     0     0\n",
      "     0     0     0     0     0     0     0     0     0     0     0     0\n",
      "     0     0     0     0     0     0     0     0     0     0     0     0\n",
      "     0     0     0     0     0     0     0     0     0     0     0     0\n",
      "     0     0     0     0     0     0     0     0     0     0     0     0\n",
      "     0     0     0     0     0     0     0     0     0     0     0     0\n",
      "     0     0     0     0     0     0     0     0     0     0     0     0\n",
      "     0     0     0     0     0     0     0     0     0     0     0     0\n",
      "     0     0     0     0     0     0     0     0     0     0     0     0\n",
      "     0     0     0     0     0     0     0     0     0     0     0     0\n",
      "     0     0     0     0     0     0     0     0     0     0     0     0\n",
      "     0     0     0     0     0     0     0     0     0     0     0     0\n",
      "     0     0     0     0     0     0     0     0     0     0     0     0\n",
      "     0     0     0     0     0     0     0     0     0     0     0     0\n",
      "     0     0     0     0     0     0     0     0     0     0     0     0\n",
      "     0     0     0     0     0     0     0     0     0     0     0     0\n",
      "     0     0     0     0     0     0     0     0     0     0     0     0\n",
      "     0     0     0     0     0     0     0     0     0     0     0     0\n",
      "     0     0     0     0     0     0     0     0     0     0     0     0\n",
      "     0     0     0     0     0     0     0     0     0     0     0     0\n",
      "     0     0     0     0     0     0     0     0     0     0     0     0\n",
      "     0     0     0     0     0     0     0     0     0     0     0     0\n",
      "     0     0     0     0     0     0     0     0     0     0     0     0\n",
      "     0     0     0     0     0     0     0     0     0     0     0     0\n",
      "     0     0     0     0     0     0     0     0     0     0     0     0\n",
      "     0     0     0     0     0     0     0     0     0     0     0     0\n",
      "     0     0     0     0     0     0     0     0     0     0     0     0\n",
      "     0     0     0     0     0     0     0     0     0     0     0     0\n",
      "     0     0     0     0     0     0     0     0     0     0     0     0\n",
      "     0     0     0     0     0     0     0     0     0     0     0     0\n",
      "     0     0     0     0     0     0     0     0     0     0     0     0\n",
      "     0     0     0     0     0     0     0     0     0     0     0     0\n",
      "     0     0     0     0     0     0     0     0     0     0     0     0\n",
      "     0     0     0   602     3  5721   215    19     5  2084  3145   771\n",
      "  4265    17     5  9128     3  8090 15763    39   211    49    29   101\n",
      "    19     1  1766     2     5   653    25  4265  7574     3     4     3\n",
      "    60   435     3     5    22    14   189     7    30    81    97  4289\n",
      "     7  4662     1  4142     6    96   330     2] (500,)\n",
      "---------------------------------------- Positive ----------------------------------------\n",
      "[    0     0     0     0     0     0     0     0     0     0     0     0\n",
      "     0     0     0     0     0     0     0     0     0     0     0     0\n",
      "     0     0     0     0     0     0     0     0     0     0     0     0\n",
      "     0     0     0     0     0     0     0     0     0     0     0     0\n",
      "     0     0     0     0     0     0     0     0     0     0     0     0\n",
      "     0     0     0     0     0     0     0     0     0     0     0     0\n",
      "     0     0     0     0     0     0     0     0     0     0     0     0\n",
      "     0     0     0     0     0     0     0     0     0     0     0     0\n",
      "     0     0     0     0     0     0     0     0     0     0     0     0\n",
      "     0     0     0     0     0     0     0     0     0     0     0     0\n",
      "     0     0     0     0     0     0     0     0     0     0     0     0\n",
      "     0     0     0     0     0     0     0     0     0     0     0     0\n",
      "     0     0     0     0     0     0     0     0     0     0     0     0\n",
      "     0     0     0     0     0     0     0     0     0     0     0     0\n",
      "     0     0     0     0     0     0     0     0     0     0     0     0\n",
      "     0     0     0     0     0     0     0     0     0     0     0     0\n",
      "     0     0     0     0     0     0     0     0     0     0     0     0\n",
      "     0     0     0     0     0     0     0     0     0     0     0     0\n",
      "     0     0     0     0     0     0     0     0     0     0     0     0\n",
      "     0     0     0     0     0     0     0     0     0     0     0     0\n",
      "     0     0     0     0     0     0     0     0     0     0     0     0\n",
      "     0     0     0     0     0     0     0     0     0     0     0     0\n",
      "     0     0     0     0     0     0     0     0     0     0     0     0\n",
      "     0     0     0     0     0     0     0     0     0     0     0     0\n",
      "     0     0     0     0     0     0     0     0     0     0     0     0\n",
      "     0     0     0     0     0     0     0     0     0     0     0     0\n",
      "     0     0     0     0     0     0     0     0     0     0     0     0\n",
      "     0     0     0     0     0     0     0     0     0     0     0     0\n",
      "     0     0     0     0     0     0     0     0     0     0     0     0\n",
      "     0     0     0     0     0     0    13     8     5    22    14    16\n",
      "    59    78   228     2    12    72   546  1864   830   141    10    16\n",
      "    11   364     4    30    81  1032    18    96   768    33  7229     7\n",
      "     1   160     4    34     1   159     2     1   675   182   504  3189\n",
      " 16268    51    57   870     7   196    13     7     1   417     2    17\n",
      "   296   322   129  1572     3     1  1517  4048     6     1    22     8\n",
      "  4246     2  8194  4839   123    38   467   293    19    44   109     3\n",
      "   115    57    72    26   228     5   177     6   168    58    13    22\n",
      "    16    97     2    57    49   184     1   609  1410     6    44     2\n",
      "    12    16  2608    35    44   237     2    12   334   495     1    22\n",
      "     3 11218    61  1189    11   124     4 18828     3     4   242     5\n",
      "   130   399    18    10    33     5    90   724  1771   726     1    22\n",
      "     2   768    10    41    34    55   349    33] (500,)\n",
      "---------------------------------------- Positive ----------------------------------------\n",
      "[ 1768    11     5 16534  1873  1778     7     5   119   426    11   355\n",
      "     6     5  4165 19923  8330     2    43    28    82    39   423    19\n",
      "     1  1413     4  3384   682    19     5 16424     6   438     4  1733\n",
      "     7 10854   254   259     3     4    43    28   151  2844     7  1556\n",
      "    10    37  2590 10425     4  3319    34    70   276    35     1  6763\n",
      "     6   151    39   355    10     7   145    50    11   433     2   139\n",
      "    10     8    63     7  2074     7 11733   149     1  1491     4   170\n",
      "   151    14  1781    29  3381     8  1793    35    91     3    17     8\n",
      "   139    13   131     3   114    11  2090    17    38  8024    19     5\n",
      "   307   317     4   644   346     3     8   154   572    11     5  7692\n",
      "     3  1925     5   512     3   174  1324     7  1324    11   642     7\n",
      "    18     1  9802     2    17    27   544     3   155     3    27   244\n",
      "     6  5083    87     1   293     2     9     9  1159    15  2607    17\n",
      "  2074     8     5   209     4  1288    32     3 14238    19   378     6\n",
      "  7514     4  1174  4949     2    17     5   131    19     1   786     7\n",
      "   333     3    27   306    29   293   600     3  6308   136    82     4\n",
      "  7608   151    27  2160    28  1655     7     1  2416     2    48    14\n",
      "   786    27   223  7513     4   102   251     6    99     3    27   223\n",
      "    88    10     2    35   178  1570     3   155     3    23    71     1\n",
      "  2207    11    29   507     3     1  1413  2145   246    35    29  1340\n",
      "     3   651   254  1570   914    29  1875     3    32    17     5  5902\n",
      "     6  3159     3    26    67    18   151    27   481     7   333     3\n",
      "    21    18   309    17    78     2    10     8    38   237     4    12\n",
      "    67   635  1159    64    88    56  3288    42    13   304     6    29\n",
      "  2594   213  1433     3    89     3   141    36    28   251     3    13\n",
      "   230     8   103    54    18    99     2     1   131   130  1152    38\n",
      "   792   163    27     8   228    45    10    83    31     5   224    11\n",
      "    61   342     2     9     9     1   354     6     1   182     8  4135\n",
      "   620     1  2043     2  2095 15056    17     1  1980  6451     8 19297\n",
      " 18358    19     5  1758     6   124     2    29  3509  1773     4  2572\n",
      "    11  1816   265   620   463     3   704    25     1  1657   115 16187\n",
      "    35     3  1222    11     5  7123  2145    29  3344     3    45    35\n",
      "     1  3568    11     1  1435     3   387    18    34    39    83  1588\n",
      "     2     3    17     1  5121   424     3     8   754     3   766     1\n",
      "   269  5908    40     7  1695     7   334  8941    37     1  9332     6\n",
      "     5  2985     3  3407    44   217     7   408    31  2251     2     4\n",
      "  6950  3414  3037    17     1   284   909   188   243     3  3698     4\n",
      "  1877    37  4566  1492  2615     3    34    21   344    63    25   572\n",
      "   124     7   170   121     4  2555     2    10     8     1  2792     6\n",
      "  1159    15  2074    14  1952    44   507   179     7    31     5   243\n",
      "     3     5 18724   857  1605    14    55    46   423   207  1055     6\n",
      "  1477    51   259    83    31    44   234     2] (500,)\n"
     ]
    }
   ],
   "source": [
    "data, labels = iter(sequence_datasets1.train_dataset).next()\n",
    "print(data.shape, labels.shape)\n",
    "\n",
    "for i, (item, label) in enumerate(zip(data, labels)):\n",
    "    if i>=5: break\n",
    "    print('-'*40, params.classes[label], '-'*40)\n",
    "    print(item.numpy(), item.shape)"
   ]
  },
  {
   "cell_type": "markdown",
   "metadata": {},
   "source": [
    "### N-gram + Process"
   ]
  },
  {
   "cell_type": "code",
   "execution_count": 21,
   "metadata": {
    "ExecuteTime": {
     "end_time": "2021-09-27T05:42:25.915799Z",
     "start_time": "2021-09-27T05:41:50.984057Z"
    }
   },
   "outputs": [],
   "source": [
    "generator = qtf.classification.LayerGenerator.get_ngram_layer(name='ngram_map', standardize=qtf.text.standardize_tf_text1, \n",
    "                                                        texts=train_texts, max_features=params.max_features)\n",
    "ngram_datasets2 = qtf.classification.Datasets(train_texts, train_labels, test_texts, test_labels, \n",
    "                                              generator=generator, batch_size=params.batch_size)"
   ]
  },
  {
   "cell_type": "code",
   "execution_count": 22,
   "metadata": {
    "ExecuteTime": {
     "end_time": "2021-09-27T05:42:26.139447Z",
     "start_time": "2021-09-27T05:42:25.918057Z"
    }
   },
   "outputs": [
    {
     "name": "stdout",
     "output_type": "stream",
     "text": [
      "(32, 20000) (32,)\n",
      "---------------------------------------- Negative ----------------------------------------\n",
      "[318.94598   0.        0.      ...   0.        0.        0.     ] (20000,)\n",
      "---------------------------------------- Negative ----------------------------------------\n",
      "[414.62976   11.854322   2.841696 ...   0.         0.         0.      ] (20000,)\n",
      "---------------------------------------- Positive ----------------------------------------\n",
      "[191.36758     0.6973131   2.131272  ...   0.          0.\n",
      "   0.       ] (20000,)\n",
      "---------------------------------------- Negative ----------------------------------------\n",
      "[744.2073    11.157009   6.393816 ...   0.         0.         0.      ] (20000,)\n",
      "---------------------------------------- Positive ----------------------------------------\n",
      "[738.89154     7.6704435   4.262544  ...   0.          0.\n",
      "   0.       ] (20000,)\n"
     ]
    }
   ],
   "source": [
    "data, labels = iter(ngram_datasets2.train_dataset).next()\n",
    "print(data.shape, labels.shape)\n",
    "\n",
    "for i, (item, label) in enumerate(zip(data, labels)):\n",
    "    if i>=5: break\n",
    "    print('-'*40, params.classes[label], '-'*40)\n",
    "    print(item.numpy(), item.shape)"
   ]
  },
  {
   "cell_type": "markdown",
   "metadata": {},
   "source": [
    "### Sequence + Process"
   ]
  },
  {
   "cell_type": "markdown",
   "metadata": {},
   "source": [
    "![Embedding Layer](images/EmbeddingLayer.png)\n",
    "\n",
    "如上图所示，和N-gram模型不同，Sequence模型并不统计词频，它保持了文本的原始顺序，把其中的每个词汇单独变成一个One-hot向量，然后采用Word embedding的方式生成更加有意义的词向量，最后输出到RNN，CNN等模型中。"
   ]
  },
  {
   "cell_type": "code",
   "execution_count": 23,
   "metadata": {
    "ExecuteTime": {
     "end_time": "2021-09-27T05:42:47.892739Z",
     "start_time": "2021-09-27T05:42:26.141590Z"
    }
   },
   "outputs": [],
   "source": [
    "generator = qtf.classification.LayerGenerator.get_sequence_layer(name='sequence_map', \n",
    "                                                       standardize=qtf.text.standardize_tf_text1, \n",
    "                                                       texts=train_texts, \n",
    "                                                       max_features=params.max_features,\n",
    "                                                       max_sequence_length=params.sequence_length)\n",
    "sequence_datasets2 = qtf.classification.Datasets(train_texts, train_labels, test_texts, test_labels,   \n",
    "                                                 generator=generator, batch_size=params.batch_size)"
   ]
  },
  {
   "cell_type": "code",
   "execution_count": 24,
   "metadata": {
    "ExecuteTime": {
     "end_time": "2021-09-27T05:42:48.068708Z",
     "start_time": "2021-09-27T05:42:47.896888Z"
    }
   },
   "outputs": [
    {
     "name": "stdout",
     "output_type": "stream",
     "text": [
      "(32, 500) (32,)\n",
      "---------------------------------------- Positive ----------------------------------------\n",
      "[   11    29     6   366    35  1006    22    88    11   370   615    12\n",
      "    19     9    15  3229    62    10 15157   187     2   318     4   439\n",
      "     5  1869    38  3458    15  3872    18    72     3    58   241   439\n",
      "    10     4  7638   998     5    36  1554  4000    10 15157    52    30\n",
      "     4   222  1718     3    91    78   754 17709  3078  2657     3   106\n",
      "   229    13   261    24     2   673    11    69   253    12    19   963\n",
      "     5     4     1  1110  7674    10     4     1     3   204   242   161\n",
      "     9    15     4  2421     9     7   180   840     2   118   245    19\n",
      "   124    70  1052     2   365   108  2389   148    12    19     3  2761\n",
      "    40  3124    70   290     9    39   110   206    10   190    13    70\n",
      "    61   501   462     2   673    24    92   504    43  6998   188    17\n",
      "     4    53   379  5317   926     9     7     4   284  1460     2   892\n",
      "    79   212  4546     3     2  1811   230  1376    46    22    68    12\n",
      "    19    17   856    10     4   384  1110  2032     9    22   368    23\n",
      "  2522     9     0     0     0     0     0     0     0     0     0     0\n",
      "     0     0     0     0     0     0     0     0     0     0     0     0\n",
      "     0     0     0     0     0     0     0     0     0     0     0     0\n",
      "     0     0     0     0     0     0     0     0     0     0     0     0\n",
      "     0     0     0     0     0     0     0     0     0     0     0     0\n",
      "     0     0     0     0     0     0     0     0     0     0     0     0\n",
      "     0     0     0     0     0     0     0     0     0     0     0     0\n",
      "     0     0     0     0     0     0     0     0     0     0     0     0\n",
      "     0     0     0     0     0     0     0     0     0     0     0     0\n",
      "     0     0     0     0     0     0     0     0     0     0     0     0\n",
      "     0     0     0     0     0     0     0     0     0     0     0     0\n",
      "     0     0     0     0     0     0     0     0     0     0     0     0\n",
      "     0     0     0     0     0     0     0     0     0     0     0     0\n",
      "     0     0     0     0     0     0     0     0     0     0     0     0\n",
      "     0     0     0     0     0     0     0     0     0     0     0     0\n",
      "     0     0     0     0     0     0     0     0     0     0     0     0\n",
      "     0     0     0     0     0     0     0     0     0     0     0     0\n",
      "     0     0     0     0     0     0     0     0     0     0     0     0\n",
      "     0     0     0     0     0     0     0     0     0     0     0     0\n",
      "     0     0     0     0     0     0     0     0     0     0     0     0\n",
      "     0     0     0     0     0     0     0     0     0     0     0     0\n",
      "     0     0     0     0     0     0     0     0     0     0     0     0\n",
      "     0     0     0     0     0     0     0     0     0     0     0     0\n",
      "     0     0     0     0     0     0     0     0     0     0     0     0\n",
      "     0     0     0     0     0     0     0     0     0     0     0     0\n",
      "     0     0     0     0     0     0     0     0     0     0     0     0\n",
      "     0     0     0     0     0     0     0     0     0     0     0     0\n",
      "     0     0     0     0     0     0     0     0] (500,)\n",
      "---------------------------------------- Negative ----------------------------------------\n",
      "[  137     9    14   389     6   134    88     2   202    79 10035    11\n",
      "    52   134    13     2  1751    15   327    73    11   201     9    61\n",
      "    30    41     7   129   948    17     2   202   189     5   258    54\n",
      "    11    87   215  7198    11   201     9    69   948    99    20    15\n",
      "  5790   655    58  7690   684    72  4089   368    23    30    16    80\n",
      "    16  7198   189     8     8    16    17     2  8330     5     2  1751\n",
      "     8     8     2  1751    69    50    51   969     3    51  1270    11\n",
      "   411     2  2798     2   121    14   622   882    71   218    18     2\n",
      "  3682     5  4516     3     4  3412   732   602   992 14584     7   314\n",
      "    10     2   214     5  1623     8     8   116     9  1519   349    17\n",
      "    72    15  2204    13     2    65  3591     2   235     5   936    48\n",
      "    24     4  1754  1126     2   114     5     2   374   399    15    53\n",
      "     4  4018  1959    65    18     2  1270     5  4516     3    87  1568\n",
      "   909   827  1469  2790     3  6376    71    22     6  5415    48     2\n",
      "  2007     6    12   111     2    87   935   827  1915     2   114    61\n",
      "    30   265     6 17870   197     2 13079     5  4089 13240    43 10613\n",
      "     2  1304   114   158    23  4460    43    84  1288     6     2  1754\n",
      "   732     5     2   202     8     8     2   114     5 12202     2    87\n",
      "  1915    61    29    77  1754   193   203     2   209   300     5  4260\n",
      "  2007     6     2     1     5  4516    34    97    29    77     2    65\n",
      "    76     4   115    53  4325     3  4386    45     9   444    17     4\n",
      "   252   121    13   281   174    61    98   177   103    98   177   235\n",
      "     2  2232     5     2  1895     3   111    24     2  2006   300     5\n",
      "  3959   177    18     4  2168     3     4 12150     5 14944    41    15\n",
      "    96    99    75 14944     8     8    70    69     2   528    53    13\n",
      "  1648    71     2     1    10    36  2933   395   161   341    24     2\n",
      "  3907    16  3554     6 15199    83     4  2204  1786  2445  1001     2\n",
      "     1  6100    24   257 13974   300     5   177  1480    95    13  2098\n",
      "    97    29    77   236    53  5623     3   236    53 19233    44    88\n",
      "    84   108   140   266  9313  6246    90    23    44  3077    45     9\n",
      "   121     9     8     8    11    69     6   103     5     9    53    16\n",
      "  1959    18    36     1  1011     3  1716  2073    16  3554     6     2\n",
      "    87  2396  3117    83     2  1786    11   460     6    68   143  5862\n",
      "     3     1     2   202  4810     6    29     4   161  1083    20    39\n",
      "   236    11   731    23   109    12   161    86  1083     8     8    11\n",
      "    79  5582    18     1     2  5090    13     2   202    47   948    41\n",
      "    27    50   218   104 14584     7   375     1    47   948     2   436\n",
      "   732     7     2    91   218   232    70    87   215  3757    10     4\n",
      "   179   159  8575    46    64   677   643    52    84  1288     6    12\n",
      "  1754     3   375   732    70    79    29     4   121    63    79   956\n",
      "   161  5617     8     8    22  1295    36  7394    83     2   981    51\n",
      "  2009  9433  8234     8     8     6     2  1130] (500,)\n",
      "---------------------------------------- Negative ----------------------------------------\n",
      "[  227 12882    14   838  2161    21    25  7717     2  6108  5785   242\n",
      "     7     4  1267   209   696  1893    18  5410  4395     3  4408   443\n",
      "     5 12882    14   920  1992    79   237   762  7891    16    75    16\n",
      "    11   119    18    92  1255     3   489 12882  9903  1580 13262   293\n",
      "  2906     4     1 10033    48     6 12776  1032    24     2  3825   751\n",
      "  3159 17638     4  3515 11471  1483  7555    20   300   208 18771    18\n",
      "     4   363     5    82  6271    31     5    63     7  5075    38  3652\n",
      "  4187     1    37  1383    89     3   177     2   299     4   590     5\n",
      "   784  9004   454     2    21    32     5    63   448   555  2243     2\n",
      "   325   216     5    12   908     5     4    19     7     2   222    10\n",
      "     2  3680   116     2   404   208   675   188    10  5162     5     4\n",
      "  3515   320     1  5604   285     6 18970    14 15431     1    32    10\n",
      "    32  7891     7     4  2962   164    25   358   372    20   236    38\n",
      " 12882    14   118    13    61   129    30  5258  2005    46    12    21\n",
      "    15     4   395 10489  6991     9    61    30     1   219   343  3834\n",
      "     0     0     0     0     0     0     0     0     0     0     0     0\n",
      "     0     0     0     0     0     0     0     0     0     0     0     0\n",
      "     0     0     0     0     0     0     0     0     0     0     0     0\n",
      "     0     0     0     0     0     0     0     0     0     0     0     0\n",
      "     0     0     0     0     0     0     0     0     0     0     0     0\n",
      "     0     0     0     0     0     0     0     0     0     0     0     0\n",
      "     0     0     0     0     0     0     0     0     0     0     0     0\n",
      "     0     0     0     0     0     0     0     0     0     0     0     0\n",
      "     0     0     0     0     0     0     0     0     0     0     0     0\n",
      "     0     0     0     0     0     0     0     0     0     0     0     0\n",
      "     0     0     0     0     0     0     0     0     0     0     0     0\n",
      "     0     0     0     0     0     0     0     0     0     0     0     0\n",
      "     0     0     0     0     0     0     0     0     0     0     0     0\n",
      "     0     0     0     0     0     0     0     0     0     0     0     0\n",
      "     0     0     0     0     0     0     0     0     0     0     0     0\n",
      "     0     0     0     0     0     0     0     0     0     0     0     0\n",
      "     0     0     0     0     0     0     0     0     0     0     0     0\n",
      "     0     0     0     0     0     0     0     0     0     0     0     0\n",
      "     0     0     0     0     0     0     0     0     0     0     0     0\n",
      "     0     0     0     0     0     0     0     0     0     0     0     0\n",
      "     0     0     0     0     0     0     0     0     0     0     0     0\n",
      "     0     0     0     0     0     0     0     0     0     0     0     0\n",
      "     0     0     0     0     0     0     0     0     0     0     0     0\n",
      "     0     0     0     0     0     0     0     0     0     0     0     0\n",
      "     0     0     0     0     0     0     0     0     0     0     0     0\n",
      "     0     0     0     0     0     0     0     0     0     0     0     0\n",
      "     0     0     0     0     0     0     0     0] (500,)\n",
      "---------------------------------------- Positive ----------------------------------------\n",
      "[   51  2009  1480    12    21     6    57   106     9    14    25   244\n",
      "   614    24  2146    43   283    11   215    24   763    10     2   389\n",
      "    14    15  2090   193     6  1236     9  2787   315     1    14 16713\n",
      "  1992     3     9   129    47    50 15246   373    13  2612    18    72\n",
      "    17  3700   154     8     8    59   275     6  3170     1    14  1789\n",
      "   758   125    16     4     1   156   506   101     2 18263   990     5\n",
      "   701   753  1374   662  1922    47    77   296     6    29  1263     2\n",
      "   477   421   750    16   118    16   591     3     9   427   280    10\n",
      "     2  4531     3  6243    13    97    29   339    50     1    20     9\n",
      "    14    81     4   878  4877    17     9    14    62     2    32    56\n",
      "  1540 17941     5   523    14  1158  2260  1399  3803   854  2544     3\n",
      "    53     8     8   136    68    12    21     9    15   237     4  1577\n",
      " 17988    10    50   138     2     1   910  9258    10     2     1 16625\n",
      "  3732   324    14   135    18 18183    10     2   508    79  1236    22\n",
      "     4   115   132  2920    20     9    14     2    87   353     5     4\n",
      "   682    11  1802    23  4620    10    21   159     3     2  5652     3\n",
      "  2004   353     5   972   436    41    27   237   387    11   144     1\n",
      "     8     8   167    17     4   321   834     5     4   184  6893  1533\n",
      "    10    31     5    42    87   107     4  1605   578     1     1  1794\n",
      "  3697  1444    48     5    28     1     1  6221     3     1    17     4\n",
      "     1   252  6221   633 19127   269     3     4   221   173     5  1522\n",
      "   322   383   514     8     8   150   100  1965   197  1193     1   230\n",
      "   398   633 19127     3     4   773   105    10 11627     3     2   108\n",
      "     1     8     8     9   208     4   453    24  3732   324    22   234\n",
      "    68   136     0     0     0     0     0     0     0     0     0     0\n",
      "     0     0     0     0     0     0     0     0     0     0     0     0\n",
      "     0     0     0     0     0     0     0     0     0     0     0     0\n",
      "     0     0     0     0     0     0     0     0     0     0     0     0\n",
      "     0     0     0     0     0     0     0     0     0     0     0     0\n",
      "     0     0     0     0     0     0     0     0     0     0     0     0\n",
      "     0     0     0     0     0     0     0     0     0     0     0     0\n",
      "     0     0     0     0     0     0     0     0     0     0     0     0\n",
      "     0     0     0     0     0     0     0     0     0     0     0     0\n",
      "     0     0     0     0     0     0     0     0     0     0     0     0\n",
      "     0     0     0     0     0     0     0     0     0     0     0     0\n",
      "     0     0     0     0     0     0     0     0     0     0     0     0\n",
      "     0     0     0     0     0     0     0     0     0     0     0     0\n",
      "     0     0     0     0     0     0     0     0     0     0     0     0\n",
      "     0     0     0     0     0     0     0     0     0     0     0     0\n",
      "     0     0     0     0     0     0     0     0     0     0     0     0\n",
      "     0     0     0     0     0     0     0     0     0     0     0     0\n",
      "     0     0     0     0     0     0     0     0] (500,)\n",
      "---------------------------------------- Negative ----------------------------------------\n",
      "[   41    27   892    10    12    21    13     7    17   246   465  1694\n",
      "     7     4   657     3    26   339     6    30   162   159    26   837\n",
      "    26    15     4   609   269   189    49  8713    72    39    75    45\n",
      "    12    21     7    88  5129  2122    32     5     2   104    27    82\n",
      "    73     2   288   108   795  1310     7     4  3592    11   376   133\n",
      "   390   494  4674    27    45    16     1    16    22    52    76    22\n",
      "    44   106     3   103   127   133  4674   142    30  9088  5255     2\n",
      "   315  3211  4566     7   965    16     4  2795     3     1 10145     9\n",
      "    93    72   572    46    12    21    15    93    35   843     1   444\n",
      "   246    10     2   131    34    32   212   291    16    31    20    11\n",
      "    44   119    25   345     2  1155     6    76    41     0     0     0\n",
      "     0     0     0     0     0     0     0     0     0     0     0     0\n",
      "     0     0     0     0     0     0     0     0     0     0     0     0\n",
      "     0     0     0     0     0     0     0     0     0     0     0     0\n",
      "     0     0     0     0     0     0     0     0     0     0     0     0\n",
      "     0     0     0     0     0     0     0     0     0     0     0     0\n",
      "     0     0     0     0     0     0     0     0     0     0     0     0\n",
      "     0     0     0     0     0     0     0     0     0     0     0     0\n",
      "     0     0     0     0     0     0     0     0     0     0     0     0\n",
      "     0     0     0     0     0     0     0     0     0     0     0     0\n",
      "     0     0     0     0     0     0     0     0     0     0     0     0\n",
      "     0     0     0     0     0     0     0     0     0     0     0     0\n",
      "     0     0     0     0     0     0     0     0     0     0     0     0\n",
      "     0     0     0     0     0     0     0     0     0     0     0     0\n",
      "     0     0     0     0     0     0     0     0     0     0     0     0\n",
      "     0     0     0     0     0     0     0     0     0     0     0     0\n",
      "     0     0     0     0     0     0     0     0     0     0     0     0\n",
      "     0     0     0     0     0     0     0     0     0     0     0     0\n",
      "     0     0     0     0     0     0     0     0     0     0     0     0\n",
      "     0     0     0     0     0     0     0     0     0     0     0     0\n",
      "     0     0     0     0     0     0     0     0     0     0     0     0\n",
      "     0     0     0     0     0     0     0     0     0     0     0     0\n",
      "     0     0     0     0     0     0     0     0     0     0     0     0\n",
      "     0     0     0     0     0     0     0     0     0     0     0     0\n",
      "     0     0     0     0     0     0     0     0     0     0     0     0\n",
      "     0     0     0     0     0     0     0     0     0     0     0     0\n",
      "     0     0     0     0     0     0     0     0     0     0     0     0\n",
      "     0     0     0     0     0     0     0     0     0     0     0     0\n",
      "     0     0     0     0     0     0     0     0     0     0     0     0\n",
      "     0     0     0     0     0     0     0     0     0     0     0     0\n",
      "     0     0     0     0     0     0     0     0     0     0     0     0\n",
      "     0     0     0     0     0     0     0     0] (500,)\n"
     ]
    }
   ],
   "source": [
    "data, labels = iter(sequence_datasets2.train_dataset).next()\n",
    "print(data.shape, labels.shape)\n",
    "\n",
    "for i, (item, label) in enumerate(zip(data, labels)):\n",
    "    if i>=5: break\n",
    "    print('-'*40, params.classes[label], '-'*40)\n",
    "    print(item.numpy(), item.shape)"
   ]
  },
  {
   "cell_type": "code",
   "execution_count": 25,
   "metadata": {
    "ExecuteTime": {
     "end_time": "2021-09-27T05:44:07.920998Z",
     "start_time": "2021-09-27T05:42:48.071883Z"
    }
   },
   "outputs": [
    {
     "name": "stderr",
     "output_type": "stream",
     "text": [
      "2021-09-27 05:42:48,152: INFO: --------------------------------------------------------------------------------\n",
      "2021-09-27 05:44:07,519: INFO: Loaded 1000000 word vectors. the vector size is 300\n",
      "2021-09-27 05:44:07,561: INFO: embedding_matrix.shape: (20000, 300)\n",
      "2021-09-27 05:44:07,562: INFO: match count: 18895\n",
      "2021-09-27 05:44:07,562: INFO: missing word count: 1105\n"
     ]
    }
   ],
   "source": [
    "vocabulary = generator.layer.get_vocabulary()\n",
    "\n",
    "embedding_files = [params.embedding_paths.fasttext_crawl_300d_2M]\n",
    "embedding_matrix_fasttext = qtf.text.load_embedding_matrix(embedding_files,\n",
    "                                                           vocabulary=vocabulary,\n",
    "                                                           max_features=params.max_features,\n",
    "                                                           max_length=1000000,\n",
    "                                                           ignore_rows=0\n",
    "                                                           )"
   ]
  },
  {
   "cell_type": "markdown",
   "metadata": {},
   "source": [
    "\n",
    "\n",
    "##  模型\n",
    "\n",
    "### MLP"
   ]
  },
  {
   "cell_type": "markdown",
   "metadata": {
    "ExecuteTime": {
     "end_time": "2021-07-21T05:59:42.239566Z",
     "start_time": "2021-07-21T05:59:42.136721Z"
    }
   },
   "source": [
    "#### mp1"
   ]
  },
  {
   "cell_type": "code",
   "execution_count": 27,
   "metadata": {
    "ExecuteTime": {
     "end_time": "2021-09-27T05:46:57.041250Z",
     "start_time": "2021-09-27T05:44:38.202553Z"
    },
    "scrolled": false
   },
   "outputs": [
    {
     "name": "stderr",
     "output_type": "stream",
     "text": [
      "2021-09-27 05:44:38,265: INFO: model_params.mlp1.dropout=0.6\n",
      "2021-09-27 05:44:38,266: INFO: model_params.mlp1.layer_count=1\n",
      "2021-09-27 05:44:38,267: INFO: model_params.mlp1.units=256\n",
      "2021-09-27 05:44:38,325: INFO: output_bias=[-0.69314718 -0.69314718]\n",
      "2021-09-27 05:44:38,336: INFO: learning_rate=0.001\n",
      "2021-09-27 05:44:38,337: INFO: model_params.mlp1.clip_value=None\n",
      "2021-09-27 05:44:38,357: INFO: checkpoint_path=/tf/eipi10/xuxiangwen.github.io/_notes/05-ai/54-tensorflow/text_classification/output/imdb/imdb_0721_p100/mlp1\n",
      "2021-09-27 05:44:38,360: INFO: model_params.mlp1.epochs=15\n",
      "2021-09-27 05:44:38,361: INFO: use ModelCheckpoint(filepath=/tf/eipi10/xuxiangwen.github.io/_notes/05-ai/54-tensorflow/text_classification/output/imdb/imdb_0721_p100/mlp1, monitor=val_accuracy)\n",
      "2021-09-27 05:44:38,361: INFO: use EarlyStopping(monitor=val_accuracy, patience=40)\n",
      "2021-09-27 05:44:38,362: INFO: use ReduceLROnPlateau(monitor=val_loss, factor=0.31622776601683794, patience=15)\n",
      "2021-09-27 05:44:38,363: INFO: use LearningRateScheduler()\n",
      "2021-09-27 05:44:38,363: INFO: steps_per_epoch=None\n",
      "2021-09-27 05:44:38,364: INFO: start training\n",
      "2021-09-27 05:44:38,364: INFO: use_class_weight=False\n"
     ]
    },
    {
     "name": "stdout",
     "output_type": "stream",
     "text": [
      "SparseTensorSpec(TensorShape([32, 20000]), tf.float32)\n",
      "Model: \"mlp1\"\n",
      "_________________________________________________________________\n",
      "Layer (type)                 Output Shape              Param #   \n",
      "=================================================================\n",
      "input_1 (InputLayer)         [(None, 20000)]           0         \n",
      "_________________________________________________________________\n",
      "lambda (Lambda)              (None, 20000)             0         \n",
      "_________________________________________________________________\n",
      "dropout (Dropout)            (None, 20000)             0         \n",
      "_________________________________________________________________\n",
      "dense (Dense)                (None, 256)               5120256   \n",
      "_________________________________________________________________\n",
      "dropout_1 (Dropout)          (None, 256)               0         \n",
      "_________________________________________________________________\n",
      "dense_1 (Dense)              (None, 2)                 514       \n",
      "=================================================================\n",
      "Total params: 5,120,770\n",
      "Trainable params: 5,120,770\n",
      "Non-trainable params: 0\n",
      "_________________________________________________________________\n",
      "Epoch 1/15\n",
      "781/781 [==============================] - 5s 5ms/step - loss: 0.3964 - accuracy: 0.8288 - val_loss: 0.2767 - val_accuracy: 0.8891\n",
      "INFO:tensorflow:Assets written to: /tf/eipi10/xuxiangwen.github.io/_notes/05-ai/54-tensorflow/text_classification/output/imdb/imdb_0721_p100/mlp1/assets\n"
     ]
    },
    {
     "name": "stderr",
     "output_type": "stream",
     "text": [
      "2021-09-27 05:44:43,926: INFO: Assets written to: /tf/eipi10/xuxiangwen.github.io/_notes/05-ai/54-tensorflow/text_classification/output/imdb/imdb_0721_p100/mlp1/assets\n"
     ]
    },
    {
     "name": "stdout",
     "output_type": "stream",
     "text": [
      "Epoch 2/15\n",
      "781/781 [==============================] - 4s 5ms/step - loss: 0.2586 - accuracy: 0.8905 - val_loss: 0.2753 - val_accuracy: 0.8865\n",
      "Epoch 3/15\n",
      "781/781 [==============================] - 4s 5ms/step - loss: 0.2267 - accuracy: 0.9048 - val_loss: 0.2891 - val_accuracy: 0.8803\n",
      "Epoch 4/15\n",
      "781/781 [==============================] - 4s 5ms/step - loss: 0.2096 - accuracy: 0.9120 - val_loss: 0.2843 - val_accuracy: 0.8857\n",
      "Epoch 5/15\n",
      "781/781 [==============================] - 4s 5ms/step - loss: 0.1962 - accuracy: 0.9197 - val_loss: 0.2923 - val_accuracy: 0.8807\n",
      "Epoch 6/15\n",
      "781/781 [==============================] - 4s 5ms/step - loss: 0.1895 - accuracy: 0.9214 - val_loss: 0.2940 - val_accuracy: 0.8806\n",
      "Epoch 7/15\n",
      "781/781 [==============================] - 4s 5ms/step - loss: 0.1790 - accuracy: 0.9250 - val_loss: 0.3024 - val_accuracy: 0.8790\n",
      "Epoch 8/15\n",
      "781/781 [==============================] - 4s 5ms/step - loss: 0.1736 - accuracy: 0.9275 - val_loss: 0.2994 - val_accuracy: 0.8812\n",
      "Epoch 9/15\n",
      "781/781 [==============================] - 4s 5ms/step - loss: 0.1700 - accuracy: 0.9286 - val_loss: 0.3092 - val_accuracy: 0.8799\n",
      "Epoch 10/15\n",
      "781/781 [==============================] - 4s 5ms/step - loss: 0.1638 - accuracy: 0.9328 - val_loss: 0.3089 - val_accuracy: 0.8789\n",
      "Epoch 11/15\n",
      "781/781 [==============================] - 4s 5ms/step - loss: 0.1602 - accuracy: 0.9336 - val_loss: 0.3188 - val_accuracy: 0.8782\n",
      "Epoch 12/15\n",
      "781/781 [==============================] - 4s 5ms/step - loss: 0.1559 - accuracy: 0.9348 - val_loss: 0.3231 - val_accuracy: 0.8772\n",
      "Epoch 13/15\n",
      "781/781 [==============================] - 4s 5ms/step - loss: 0.1557 - accuracy: 0.9338 - val_loss: 0.3192 - val_accuracy: 0.8782\n",
      "Epoch 14/15\n",
      "781/781 [==============================] - 4s 5ms/step - loss: 0.1481 - accuracy: 0.9377 - val_loss: 0.3271 - val_accuracy: 0.8784\n",
      "Epoch 15/15\n",
      "781/781 [==============================] - 4s 5ms/step - loss: 0.1462 - accuracy: 0.9396 - val_loss: 0.3325 - val_accuracy: 0.8780\n"
     ]
    },
    {
     "name": "stderr",
     "output_type": "stream",
     "text": [
      "2021-09-27 05:45:37,883: INFO: finish training [elapsed time: 59.52 seconds]\n"
     ]
    },
    {
     "data": {
      "image/png": "[encoded data removed]",
      "text/plain": [
       "<Figure size 1152x360 with 2 Axes>"
      ]
     },
     "metadata": {
      "needs_background": "light"
     },
     "output_type": "display_data"
    },
    {
     "name": "stderr",
     "output_type": "stream",
     "text": [
      "2021-09-27 05:45:38,329: INFO: loading model from /tf/eipi10/xuxiangwen.github.io/_notes/05-ai/54-tensorflow/text_classification/output/imdb/imdb_0721_p100/mlp1\n"
     ]
    },
    {
     "name": "stdout",
     "output_type": "stream",
     "text": [
      "load best checkpoint from /tf/eipi10/xuxiangwen.github.io/_notes/05-ai/54-tensorflow/text_classification/output/imdb/imdb_0721_p100/mlp1\n",
      "----------------------------------------evaluate----------------------------------------\n",
      "predictions.shape=(25000, 2)\n",
      "labels.shape=(25000,)\n"
     ]
    },
    {
     "name": "stderr",
     "output_type": "stream",
     "text": [
      "2021-09-27 05:46:30,182: INFO: test loss:0.2767\n",
      "2021-09-27 05:46:30,182: INFO: test accuracy:0.8891\n",
      "2021-09-27 05:46:30,184: INFO: save model results into /tf/eipi10/xuxiangwen.github.io/_notes/05-ai/54-tensorflow/text_classification/output/imdb/imdb_0721_p100/results.json\n",
      "2021-09-27 05:46:30,186: INFO: save json to /tf/eipi10/xuxiangwen.github.io/_notes/05-ai/54-tensorflow/text_classification/output/imdb/imdb_0721_p100/results.json\n",
      "2021-09-27 05:46:30,187: INFO: saving generator to /tf/eipi10/xuxiangwen.github.io/_notes/05-ai/54-tensorflow/text_classification/output/imdb/imdb_0721_p100/ngram_preproess.generator\n"
     ]
    },
    {
     "name": "stdout",
     "output_type": "stream",
     "text": [
      "predictions.shape=(25000, 2)\n",
      "labels.shape=(25000,)\n",
      "----------------------------------------save model results and generator----------------------------------------\n"
     ]
    },
    {
     "name": "stderr",
     "output_type": "stream",
     "text": [
      "2021-09-27 05:46:30,768: INFO: save object to /tf/eipi10/xuxiangwen.github.io/_notes/05-ai/54-tensorflow/text_classification/output/imdb/imdb_0721_p100/ngram_preproess.generator\n"
     ]
    },
    {
     "name": "stdout",
     "output_type": "stream",
     "text": [
      "----------------------------------------confusion matrix----------------------------------------\n"
     ]
    },
    {
     "data": {
      "image/png": "[encoded data removed]",
      "text/plain": [
       "<Figure size 360x288 with 2 Axes>"
      ]
     },
     "metadata": {
      "needs_background": "light"
     },
     "output_type": "display_data"
    },
    {
     "name": "stdout",
     "output_type": "stream",
     "text": [
      "----------------------------------------sample analysis----------------------------------------\n",
      "<class 'list'>\n",
      "----------------------------------------1. Negative----------------------------------------\n",
      "Actor turned director Bill Paxton follows up his promising debut, the Gothic-horror \"Frailty\", with this family friendly sports drama about the 1913 U.S. Open where a young American caddy rises from his humble background to play against his Bristish idol in what was dubbed as \"The Greatest Game Ever Played.\" I'm no fan of golf, and these scrappy underdog sports flicks are a dime a dozen (most recently done to grand effect with \"Miracle\" and \"Cinderella Man\"), but some how this film was enthralling all the same.<br /><br />The film starts with some creative opening credits (imagine a Disneyfied version of the animated opening credits of HBO's \"Carnivale\" and \"Rome\"), but lumbers along slowly for its first by-the-numbers hour. Once the action moves to the U.S. Open things pick up very well. Paxton does a nice job and shows a knack for effective directorial flourishes (I loved the rain-soaked montage of the action on day two of the open) that propel the plot further or add some unexpected psychological depth to the proceedings. There's some compelling character development when the British Harry Vardon is haunted by images of the aristocrats in black suits and top hats who destroyed his family cottage as a child to make way for a golf course. He also does a good job of visually depicting what goes on in the players' heads under pressure. Golf, a painfully boring sport, is brought vividly alive here. Credit should also be given the set designers and costume department for creating an engaging period-piece atmosphere of London and Boston at the beginning of the twentieth century.<br /><br />You know how this is going to end not only because it's based on a true story but also because films in this genre follow the same template over and over, but Paxton puts on a better than average show and perhaps indicates more talent behind the camera than he ever had in front of it. Despite the formulaic nature, this is a nice and easy film to root for that deserves to find an audience.\n"
     ]
    },
    {
     "data": {
      "image/png": "[encoded data removed]",
      "text/plain": [
       "<Figure size 201.6x158.4 with 1 Axes>"
      ]
     },
     "metadata": {
      "needs_background": "light"
     },
     "output_type": "display_data"
    },
    {
     "name": "stdout",
     "output_type": "stream",
     "text": [
      "----------------------------------------2. Negative----------------------------------------\n",
      "I went and saw this movie last night after being coaxed to by a few friends of mine. I'll admit that I was reluctant to see it because from what I knew of Ashton Kutcher he was only able to do comedy. I was wrong. Kutcher played the character of Jake Fischer very well, and Kevin Costner played Ben Randall with such professionalism. The sign of a good movie is that it can toy with our emotions. This one did exactly that. The entire theater (which was sold out) was overcome by laughter during the first half of the movie, and were moved to tears during the second half. While exiting the theater I not only saw many women in tears, but many full grown men as well, trying desperately not to let anyone see them crying. This movie was great, and I suggest that you go see it before you judge.\n"
     ]
    },
    {
     "data": {
      "image/png": "[encoded data removed]",
      "text/plain": [
       "<Figure size 201.6x158.4 with 1 Axes>"
      ]
     },
     "metadata": {
      "needs_background": "light"
     },
     "output_type": "display_data"
    },
    {
     "name": "stdout",
     "output_type": "stream",
     "text": [
      "----------------------------------------3. Positive----------------------------------------\n",
      "I went and saw this movie last night after being coaxed to by a few friends of mine. I'll admit that I was reluctant to see it because from what I knew of Ashton Kutcher he was only able to do comedy. I was wrong. Kutcher played the character of Jake Fischer very well, and Kevin Costner played Ben Randall with such professionalism. The sign of a good movie is that it can toy with our emotions. This one did exactly that. The entire theater (which was sold out) was overcome by laughter during the first half of the movie, and were moved to tears during the second half. While exiting the theater I not only saw many women in tears, but many full grown men as well, trying desperately not to let anyone see them crying. This movie was great, and I suggest that you go see it before you judge.\n"
     ]
    },
    {
     "data": {
      "image/png": "[encoded data removed]",
      "text/plain": [
       "<Figure size 201.6x158.4 with 1 Axes>"
      ]
     },
     "metadata": {
      "needs_background": "light"
     },
     "output_type": "display_data"
    },
    {
     "name": "stdout",
     "output_type": "stream",
     "text": [
      "----------------------------------------4. Positive----------------------------------------\n",
      "I went and saw this movie last night after being coaxed to by a few friends of mine. I'll admit that I was reluctant to see it because from what I knew of Ashton Kutcher he was only able to do comedy. I was wrong. Kutcher played the character of Jake Fischer very well, and Kevin Costner played Ben Randall with such professionalism. The sign of a good movie is that it can toy with our emotions. This one did exactly that. The entire theater (which was sold out) was overcome by laughter during the first half of the movie, and were moved to tears during the second half. While exiting the theater I not only saw many women in tears, but many full grown men as well, trying desperately not to let anyone see them crying. This movie was great, and I suggest that you go see it before you judge.\n"
     ]
    },
    {
     "data": {
      "image/png": "[encoded data removed]",
      "text/plain": [
       "<Figure size 201.6x158.4 with 1 Axes>"
      ]
     },
     "metadata": {
      "needs_background": "light"
     },
     "output_type": "display_data"
    },
    {
     "name": "stdout",
     "output_type": "stream",
     "text": [
      "----------------------------------------5. Negative----------------------------------------\n",
      "I went and saw this movie last night after being coaxed to by a few friends of mine. I'll admit that I was reluctant to see it because from what I knew of Ashton Kutcher he was only able to do comedy. I was wrong. Kutcher played the character of Jake Fischer very well, and Kevin Costner played Ben Randall with such professionalism. The sign of a good movie is that it can toy with our emotions. This one did exactly that. The entire theater (which was sold out) was overcome by laughter during the first half of the movie, and were moved to tears during the second half. While exiting the theater I not only saw many women in tears, but many full grown men as well, trying desperately not to let anyone see them crying. This movie was great, and I suggest that you go see it before you judge.\n"
     ]
    },
    {
     "data": {
      "image/png": "[encoded data removed]",
      "text/plain": [
       "<Figure size 201.6x158.4 with 1 Axes>"
      ]
     },
     "metadata": {
      "needs_background": "light"
     },
     "output_type": "display_data"
    },
    {
     "name": "stdout",
     "output_type": "stream",
     "text": [
      "----------------------------------------models----------------------------------------\n"
     ]
    },
    {
     "data": {
      "text/html": [
       "<div>\n",
       "<style scoped>\n",
       "    .dataframe tbody tr th:only-of-type {\n",
       "        vertical-align: middle;\n",
       "    }\n",
       "\n",
       "    .dataframe tbody tr th {\n",
       "        vertical-align: top;\n",
       "    }\n",
       "\n",
       "    .dataframe thead th {\n",
       "        text-align: right;\n",
       "    }\n",
       "</style>\n",
       "<table border=\"1\" class=\"dataframe\">\n",
       "  <thead>\n",
       "    <tr style=\"text-align: right;\">\n",
       "      <th></th>\n",
       "      <th>model_name</th>\n",
       "      <th>program_name</th>\n",
       "      <th>weight_number</th>\n",
       "      <th>train_time</th>\n",
       "      <th>create_time</th>\n",
       "      <th>train_loss</th>\n",
       "      <th>test_loss</th>\n",
       "      <th>train_accuracy</th>\n",
       "      <th>test_accuracy</th>\n",
       "      <th>train_auc</th>\n",
       "      <th>test_auc</th>\n",
       "    </tr>\n",
       "  </thead>\n",
       "  <tbody>\n",
       "    <tr>\n",
       "      <th>1</th>\n",
       "      <td>mlp1</td>\n",
       "      <td>imdb_0721_p100.ipynb</td>\n",
       "      <td>5120770</td>\n",
       "      <td>59.5</td>\n",
       "      <td>2021-09-27 05:46</td>\n",
       "      <td>0.1828</td>\n",
       "      <td>0.2767</td>\n",
       "      <td>0.9383</td>\n",
       "      <td>0.8891</td>\n",
       "      <td>0.9847</td>\n",
       "      <td>0.9555</td>\n",
       "    </tr>\n",
       "  </tbody>\n",
       "</table>\n",
       "</div>"
      ],
      "text/plain": [
       "  model_name          program_name  weight_number  train_time  \\\n",
       "1       mlp1  imdb_0721_p100.ipynb        5120770        59.5   \n",
       "\n",
       "        create_time  train_loss  test_loss  train_accuracy  test_accuracy  \\\n",
       "1  2021-09-27 05:46      0.1828     0.2767          0.9383         0.8891   \n",
       "\n",
       "   train_auc  test_auc  \n",
       "1     0.9847    0.9555  "
      ]
     },
     "metadata": {},
     "output_type": "display_data"
    }
   ],
   "source": [
    "helper = qtf.classification.Classification(params, datasets=ngram_datasets1, model_results=model_results)\n",
    "model = qtf.classification.text_models.mlp1(helper, name='mlp1')\n",
    "model.summary()\n",
    "history = helper.train(model)\n",
    "helper.model_summary(model, history, show_sample_analysis=True)"
   ]
  },
  {
   "cell_type": "markdown",
   "metadata": {},
   "source": [
    "#### mlp2"
   ]
  },
  {
   "cell_type": "code",
   "execution_count": null,
   "metadata": {
    "ExecuteTime": {
     "end_time": "2021-09-27T05:44:08.039593Z",
     "start_time": "2021-09-27T05:41:23.907Z"
    },
    "scrolled": false
   },
   "outputs": [],
   "source": [
    "helper = qtf.classification.Classification(params, datasets=ngram_datasets2, model_results=model_results)\n",
    "model = qtf.classification.models.mlp1(helper, name='mlp2')\n",
    "model.summary()\n",
    "history = helper.train(model)\n",
    "helper.model_summary(model, history=history)"
   ]
  },
  {
   "cell_type": "markdown",
   "metadata": {},
   "source": [
    "### Embedding"
   ]
  },
  {
   "cell_type": "markdown",
   "metadata": {},
   "source": [
    "#### embedding1"
   ]
  },
  {
   "cell_type": "code",
   "execution_count": null,
   "metadata": {
    "ExecuteTime": {
     "end_time": "2021-09-27T05:44:08.041446Z",
     "start_time": "2021-09-27T05:41:25.771Z"
    },
    "scrolled": false
   },
   "outputs": [],
   "source": [
    "helper = qtf.classification.Classification(params, model_results=model_results, datasets=sequence_datasets1)\n",
    "model = qtf.classification.models.embedding1(helper, name='embedding1')\n",
    "model.summary()\n",
    "history = helper.train(model)\n",
    "helper.model_summary(model, history=history)"
   ]
  },
  {
   "cell_type": "markdown",
   "metadata": {},
   "source": [
    "#### embedding2"
   ]
  },
  {
   "cell_type": "code",
   "execution_count": null,
   "metadata": {
    "ExecuteTime": {
     "end_time": "2021-09-27T05:44:08.043606Z",
     "start_time": "2021-09-27T05:41:26.775Z"
    },
    "scrolled": false
   },
   "outputs": [],
   "source": [
    "helper = qtf.classification.Classification(params, model_results=model_results, datasets=sequence_datasets2)\n",
    "model = qtf.classification.models.embedding1(helper, name='embedding2')\n",
    "model.summary()\n",
    "history = helper.train(model)\n",
    "helper.model_summary(model, history=history)"
   ]
  },
  {
   "cell_type": "markdown",
   "metadata": {
    "ExecuteTime": {
     "end_time": "2021-07-21T05:25:08.308844Z",
     "start_time": "2021-07-21T05:25:08.202844Z"
    }
   },
   "source": [
    "### sepCNN"
   ]
  },
  {
   "cell_type": "markdown",
   "metadata": {},
   "source": [
    "#### sepcnn"
   ]
  },
  {
   "cell_type": "code",
   "execution_count": null,
   "metadata": {
    "ExecuteTime": {
     "end_time": "2021-09-27T05:40:12.384147Z",
     "start_time": "2021-09-27T05:39:38.109Z"
    },
    "scrolled": false
   },
   "outputs": [],
   "source": [
    "helper = qtf.classification.Classification(params, model_results=model_results, datasets=sequence_datasets2)\n",
    "model = qtf.classification.models.sepcnn1(helper, name='sepcnn', blocks=1)\n",
    "# when bolcks=2, the model can't converg\n",
    "model.summary()\n",
    "history = helper.train(model)\n",
    "helper.model_summary(model, history=history)"
   ]
  },
  {
   "cell_type": "markdown",
   "metadata": {
    "ExecuteTime": {
     "end_time": "2021-07-21T05:59:42.134388Z",
     "start_time": "2021-07-21T05:59:42.033806Z"
    }
   },
   "source": [
    "#### sepcnn_fasttext"
   ]
  },
  {
   "cell_type": "code",
   "execution_count": null,
   "metadata": {
    "ExecuteTime": {
     "end_time": "2021-09-27T05:40:12.385479Z",
     "start_time": "2021-09-27T05:39:38.116Z"
    },
    "scrolled": false
   },
   "outputs": [],
   "source": [
    "helper = qtf.classification.Classification(params, model_results=model_results, datasets=sequence_datasets2)\n",
    "model = qtf.classification.models.sepcnn1(helper, name='sepcnn_ft', blocks=1, \n",
    "                   embedding_matrix=embedding_matrix_fasttext,\n",
    "                   is_embedding_trainable=False)\n",
    "model.summary()\n",
    "history = helper.train(model)\n",
    "helper.model_summary(model, history=history)"
   ]
  },
  {
   "cell_type": "markdown",
   "metadata": {},
   "source": [
    "### LSTM"
   ]
  },
  {
   "cell_type": "markdown",
   "metadata": {},
   "source": [
    "#### rnn_lstm"
   ]
  },
  {
   "cell_type": "code",
   "execution_count": null,
   "metadata": {
    "ExecuteTime": {
     "end_time": "2021-09-27T05:40:12.386888Z",
     "start_time": "2021-09-27T05:39:38.392Z"
    },
    "scrolled": false
   },
   "outputs": [],
   "source": [
    "helper = qtf.classification.Classification(params, model_results=model_results, datasets=sequence_datasets2)\n",
    "model = qtf.classification.models.lstm1(helper, name='rnn_lstm')\n",
    "model.summary()\n",
    "history = helper.train(model)\n",
    "helper.model_summary(model, history=history)"
   ]
  },
  {
   "cell_type": "markdown",
   "metadata": {},
   "source": [
    "#### rnn_lstm_fasttext"
   ]
  },
  {
   "cell_type": "code",
   "execution_count": null,
   "metadata": {
    "ExecuteTime": {
     "end_time": "2021-09-27T05:40:12.388224Z",
     "start_time": "2021-09-27T05:39:38.524Z"
    },
    "scrolled": false
   },
   "outputs": [],
   "source": [
    "helper = qtf.classification.Classification(params, model_results=model_results, datasets=sequence_datasets2)\n",
    "model = qtf.classification.models.lstm1(helper, name='rnn_lstm_ft',\n",
    "                 embedding_matrix=embedding_matrix_fasttext,\n",
    "                 is_embedding_trainable=False,\n",
    "                 mask_zero=False)\n",
    "model.summary()\n",
    "history = helper.train(model)\n",
    "helper.model_summary(model, history=history)"
   ]
  },
  {
   "cell_type": "markdown",
   "metadata": {},
   "source": [
    "### Pooled GRU "
   ]
  },
  {
   "cell_type": "markdown",
   "metadata": {},
   "source": [
    "#### pg_default"
   ]
  },
  {
   "cell_type": "code",
   "execution_count": null,
   "metadata": {
    "ExecuteTime": {
     "end_time": "2021-09-27T05:40:12.389668Z",
     "start_time": "2021-09-27T05:39:38.680Z"
    },
    "scrolled": false
   },
   "outputs": [],
   "source": [
    "helper = qtf.classification.Classification(params, model_results=model_results, datasets=sequence_datasets2)\n",
    "model = qtf.classification.models.pooled_gru1(helper, name='pg_default')\n",
    "model.summary()\n",
    "history = helper.train(model)\n",
    "helper.model_summary(model, history=history)"
   ]
  },
  {
   "cell_type": "markdown",
   "metadata": {},
   "source": [
    "#### pg_fasttext"
   ]
  },
  {
   "cell_type": "code",
   "execution_count": null,
   "metadata": {
    "ExecuteTime": {
     "end_time": "2021-09-27T05:40:12.391028Z",
     "start_time": "2021-09-27T05:39:38.745Z"
    },
    "scrolled": false
   },
   "outputs": [],
   "source": [
    "helper = qtf.classification.Classification(params, model_results=model_results, datasets=sequence_datasets2)\n",
    "model = qtf.classification.models.pooled_gru1(helper, name='pg_ft', \n",
    "                       embedding_matrix=embedding_matrix_fasttext, \n",
    "                       is_embedding_trainable=False)\n",
    "model.summary()\n",
    "history = helper.train(model)\n",
    "helper.model_summary(model, history=history)"
   ]
  },
  {
   "cell_type": "markdown",
   "metadata": {},
   "source": [
    "## 评估"
   ]
  },
  {
   "cell_type": "markdown",
   "metadata": {
    "ExecuteTime": {
     "end_time": "2021-07-21T07:04:19.365239Z",
     "start_time": "2021-07-21T07:04:19.280940Z"
    }
   },
   "source": [
    "### 最佳模型"
   ]
  },
  {
   "cell_type": "code",
   "execution_count": null,
   "metadata": {
    "ExecuteTime": {
     "end_time": "2021-09-27T05:40:12.392398Z",
     "start_time": "2021-09-27T05:39:38.750Z"
    }
   },
   "outputs": [],
   "source": [
    "data_model_results = qtf.classification.DataModelResults(params.data_path) \n",
    "data_model_results.show(10)"
   ]
  },
  {
   "cell_type": "code",
   "execution_count": null,
   "metadata": {
    "ExecuteTime": {
     "end_time": "2021-09-27T05:40:12.393714Z",
     "start_time": "2021-09-27T05:39:38.753Z"
    }
   },
   "outputs": [],
   "source": [
    "predictors = qtf.classification.Predictor.get_top_n_predictors(5, data_model_results)\n",
    "\n",
    "best_predictor = predictors[0]\n",
    "best_predictor.model.compile(optimizer=optimizers.Adam(learning_rate=params.learning_rate),\n",
    "                        loss=losses.SparseCategoricalCrossentropy(from_logits=True),\n",
    "                        metrics=['accuracy', 'mae'])\n",
    "\n",
    "qtf.utils.plot_model_structure(best_predictor.model)"
   ]
  },
  {
   "cell_type": "code",
   "execution_count": null,
   "metadata": {
    "ExecuteTime": {
     "end_time": "2021-09-27T05:40:12.395211Z",
     "start_time": "2021-09-27T05:39:38.757Z"
    },
    "scrolled": false
   },
   "outputs": [],
   "source": [
    "qtf.utils.plot_sample_text_analysis(predictors, test_texts, test_labels,\n",
    "                                    sample_count=5, show_error_sample=False) "
   ]
  },
  {
   "cell_type": "code",
   "execution_count": null,
   "metadata": {
    "ExecuteTime": {
     "end_time": "2021-09-27T05:40:12.396586Z",
     "start_time": "2021-09-27T05:39:38.761Z"
    },
    "scrolled": false
   },
   "outputs": [],
   "source": [
    "qtf.utils.plot_sample_text_analysis(predictors, test_texts, test_labels,\n",
    "                                    sample_count=5, show_error_sample=True) "
   ]
  },
  {
   "cell_type": "markdown",
   "metadata": {},
   "source": [
    "### 评估"
   ]
  },
  {
   "cell_type": "code",
   "execution_count": null,
   "metadata": {
    "ExecuteTime": {
     "end_time": "2021-09-27T05:40:12.397997Z",
     "start_time": "2021-09-27T05:39:38.767Z"
    }
   },
   "outputs": [],
   "source": [
    "results = best_predictor.evaluate(test_texts, test_labels)\n",
    "print(results)\n",
    "\n",
    "predictions = best_predictor.predict(test_texts)\n",
    "print(predictions.shape)"
   ]
  },
  {
   "cell_type": "code",
   "execution_count": null,
   "metadata": {
    "ExecuteTime": {
     "end_time": "2021-09-27T05:40:12.399457Z",
     "start_time": "2021-09-27T05:39:38.769Z"
    }
   },
   "outputs": [],
   "source": [
    "top1_predictions = best_predictor.predict_top_k(test_texts, test_labels, top_k=1)\n",
    "top1_scores = qtf.utils.score(test_labels, top1_predictions, params.classes)\n",
    "display(top1_scores)\n",
    "print('-'*100)\n",
    "print(classification_report(test_labels, top1_predictions, digits=4, target_names=params.classes))"
   ]
  },
  {
   "cell_type": "code",
   "execution_count": null,
   "metadata": {
    "ExecuteTime": {
     "end_time": "2021-09-27T05:40:12.400780Z",
     "start_time": "2021-09-27T05:39:38.771Z"
    }
   },
   "outputs": [],
   "source": [
    "qtf.utils.plot_confusion_matrix(test_labels, top1_predictions, params.classes)\n"
   ]
  },
  {
   "cell_type": "markdown",
   "metadata": {},
   "source": [
    "## 参考\n",
    "\n",
    "- [Text classification Guide](https://developers.google.com/machine-learning/guides/text-classification)"
   ]
  }
 ],
 "metadata": {
  "kernelspec": {
   "display_name": "Python 3",
   "language": "python",
   "name": "python3"
  },
  "language_info": {
   "codemirror_mode": {
    "name": "ipython",
    "version": 3
   },
   "file_extension": ".py",
   "mimetype": "text/x-python",
   "name": "python",
   "nbconvert_exporter": "python",
   "pygments_lexer": "ipython3",
   "version": "3.6.9"
  },
  "toc": {
   "base_numbering": 1,
   "nav_menu": {},
   "number_sections": true,
   "sideBar": true,
   "skip_h1_title": false,
   "title_cell": "Table of Contents",
   "title_sidebar": "Contents",
   "toc_cell": false,
   "toc_position": {
    "height": "calc(100% - 180px)",
    "left": "10px",
    "top": "150px",
    "width": "291.156px"
   },
   "toc_section_display": true,
   "toc_window_display": true
  }
 },
 "nbformat": 4,
 "nbformat_minor": 4
}
