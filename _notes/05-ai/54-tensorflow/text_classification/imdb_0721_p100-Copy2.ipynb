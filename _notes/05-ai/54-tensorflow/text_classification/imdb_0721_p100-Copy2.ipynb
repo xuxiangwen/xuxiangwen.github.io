{
 "cells": [
  {
   "cell_type": "markdown",
   "metadata": {},
   "source": [
    "**IMDb**（Internet Movie Datebase ）是全球最大的互联网影视数据库，而[Large Movie Review Dataset](https://ai.stanford.edu/~amaas/data/sentiment/) 是一个根据IMDB上电影评论而建立的数据集。它由斯坦福大学于 2011 年发布。\n",
    "\n",
    "![image-20201226152702981](images/image-20201226152702981.png)\n",
    "\n",
    "## 获取数据\n",
    "\n",
    "首先引入需要的包。"
   ]
  },
  {
   "cell_type": "code",
   "execution_count": 16,
   "metadata": {
    "ExecuteTime": {
     "end_time": "2021-12-06T01:18:06.319456Z",
     "start_time": "2021-12-06T01:18:06.215906Z"
    }
   },
   "outputs": [
    {
     "name": "stdout",
     "output_type": "stream",
     "text": [
      "The autoreload extension is already loaded. To reload it, use:\n",
      "  %reload_ext autoreload\n"
     ]
    },
    {
     "name": "stderr",
     "output_type": "stream",
     "text": [
      "[nltk_data] Downloading package stopwords to /root/nltk_data...\n",
      "[nltk_data]   Package stopwords is already up-to-date!\n"
     ]
    }
   ],
   "source": [
    "import csv\n",
    "import ipyparams\n",
    "import logging\n",
    "import matplotlib.pyplot as plt\n",
    "import nltk\n",
    "import numpy as np\n",
    "import os\n",
    "import pandas as pd\n",
    "import random\n",
    "import re\n",
    "import shutil\n",
    "import string  \n",
    "import sys\n",
    "import tensorflow as tf\n",
    "import tensorflow_hub as hub\n",
    "\n",
    "from collections import Counter\n",
    "from joblib import Parallel, delayed\n",
    "from nltk.corpus import stopwords\n",
    "from scipy import stats\n",
    "from sklearn import feature_extraction, feature_selection\n",
    "from sklearn.utils.class_weight import compute_class_weight\n",
    "from sklearn.metrics import classification_report\n",
    "from sklearn.model_selection import train_test_split\n",
    "from tensorflow.keras import Model, models, layers, regularizers, preprocessing, datasets, metrics, losses, optimizers\n",
    "from tensorflow.keras.layers.experimental.preprocessing import TextVectorization\n",
    "from tensorboard.plugins.hparams import api as hp \n",
    "\n",
    "base_path = os.path.abspath('/tf/eipi10/jian-xu3/qbz95')\n",
    "sys.path.append(base_path)\n",
    "\n",
    "import qbz95\n",
    "from qbz95 import tf as qtf\n",
    "from qbz95 import utils as qutils\n",
    "\n",
    "pd.set_option('display.max_colwidth', None)\n",
    "# 设置GPU内存自动扩增\n",
    "qtf.utils.set_gpu_memory_growth()\n",
    "nltk.download('stopwords')\n",
    "\n",
    "# auto load the changes of referenced codes\n",
    "%load_ext autoreload\n",
    "%autoreload 2\n",
    "\n",
    "# ebablbe auto-completion\n",
    "%config Completer.use_jedi = False"
   ]
  },
  {
   "cell_type": "code",
   "execution_count": 2,
   "metadata": {
    "ExecuteTime": {
     "end_time": "2021-12-06T01:08:01.880404Z",
     "start_time": "2021-12-06T01:08:01.768332Z"
    }
   },
   "outputs": [],
   "source": [
    "# 当module有新的方法的时候，需要运行下面方法。\n",
    "%reload_ext autoreload"
   ]
  },
  {
   "cell_type": "markdown",
   "metadata": {},
   "source": [
    "初始化参数。"
   ]
  },
  {
   "cell_type": "code",
   "execution_count": 3,
   "metadata": {
    "ExecuteTime": {
     "end_time": "2021-12-06T01:08:02.104796Z",
     "start_time": "2021-12-06T01:08:01.882958Z"
    }
   },
   "outputs": [
    {
     "name": "stderr",
     "output_type": "stream",
     "text": [
      "2021-12-06 01:08:02,101: INFO: load model results from /tf/eipi10/xuxiangwen.github.io/_notes/05-ai/54-tensorflow/text_classification/output/imdb/imdb_0721_p100/results.json\n"
     ]
    }
   ],
   "source": [
    "def lr_schedule(epoch, lr):\n",
    "    \"\"\"config the strategy of reducing learning rate\"\"\"\n",
    "    lr_times = [(0, 1), (60, 1e-1), (90, 1e-2), (105, 1e-3), (120, 0.5e-3)]\n",
    "    \n",
    "    base_lr = 1e-3\n",
    "    new_lr = base_lr\n",
    "    for border_epoch, times in lr_times:\n",
    "        if epoch>=border_epoch: \n",
    "            new_lr = base_lr*times\n",
    "    if abs(lr - new_lr)>1e-7:\n",
    "        if new_lr > lr > 0.1*new_lr - 1e-7:\n",
    "            print('Epoch %05d: Still keep learning rate %s instead of %s' % \n",
    "                  (epoch + 1, round(lr, 7), round(new_lr, 7))) \n",
    "            return lr   \n",
    "        print('Epoch %05d: LearningRateScheduler reducing learning rate to %s from %s.' % \n",
    "              (epoch + 1, round(new_lr, 7), round(lr, 7)))\n",
    "    return new_lr\n",
    "\n",
    "\n",
    "\n",
    "output_path = os.path.abspath('./output')\n",
    "data_name = 'imdb'\n",
    "data_path = os.path.join(output_path, data_name)\n",
    "program_path = os.path.join(data_path, qbz95.utils.get_notebook_name().split('.')[0])\n",
    "word_vectors_path = '/tf/eipi10/xuxiangwen.github.io/_notes/05-ai/54-tensorflow/models/word_vectors'\n",
    "classes = ['Negative', 'Positive']\n",
    "\n",
    "params = {\n",
    "    'data_name': data_name,\n",
    "    'data_path': data_path,\n",
    "    'program_name': qbz95.utils.get_notebook_name(),\n",
    "    'program_path': program_path,\n",
    "    'classes': classes,\n",
    "    'word_vectors_path': word_vectors_path,\n",
    "    'sample_perecent': 1,    \n",
    "    'text_columns': 'snps_sa_comments',\n",
    "    'validation_percent': 0.0,  \n",
    "    'use_stop_words': True,    \n",
    "    'stop_words':stopwords.words('english'),\n",
    "    'batch_size': 32,    \n",
    "    'max_features': 20000,\n",
    "    'sequence_length': 500,    \n",
    "    'epochs': 3,    \n",
    "    'learning_rate':0.001,\n",
    "    'clip_value':None,\n",
    "    'dropout':0.1,\n",
    "    'metrics':['accuracy'], \n",
    "    'loss': losses.SparseCategoricalCrossentropy(from_logits=True),\n",
    "    'restore_best_checkpoint':True,\n",
    "    'use_savedmodel':True,\n",
    "    'use_bias_initializer':True,\n",
    "    'use_class_weight':False,\n",
    "    'class_weight': [1.0, 1.0],\n",
    "    'callbacks': {\n",
    "        'ModelCheckpoint': {\n",
    "            'enabled': True,\n",
    "            'monitor': 'val_accuracy',               \n",
    "        },\n",
    "        'EarlyStopping': {\n",
    "            'enabled': True,\n",
    "            'patience': 40,   \n",
    "            'monitor': 'val_accuracy',            \n",
    "        },\n",
    "        'ReduceLROnPlateau': {\n",
    "            'enabled': True,\n",
    "            'monitor': 'val_loss',\n",
    "            'patience': 15,\n",
    "            'factor': np.sqrt(0.1),            \n",
    "        },\n",
    "        'LearningRateScheduler': {\n",
    "            'enabled': True,\n",
    "            'schedule': lr_schedule,            \n",
    "            \n",
    "        }             \n",
    "    },\n",
    "    'model_params':{\n",
    "        'mlp':{'dropout':0.6, 'layer_count':1, 'units':256, 'epochs':15},\n",
    "        'rnn':{'dropout':0.4, 'embedding_dim':200, 'units':200, 'epochs':5},\n",
    "        'embedding':{'dropout':0.4, 'embedding_dim':200, 'epochs':15},\n",
    "        'sepcnn':{'dropout':0.4, 'epochs': 10, 'batch_size':128},\n",
    "        'tl':{'dropout':0.4, 'trainable':True, 'layer_count':1, 'unit':64, 'epochs': 10},\n",
    "        'pg':{'dropout':0.4, 'embedding_dim':300, 'units':80, 'epochs':20, 'learning_rate':0.0005},  \n",
    "    },\n",
    "    'embedding_paths':{\n",
    "        'cc_en_300':os.path.join(word_vectors_path, 'snps', 'cc.en.300.vec'),\n",
    "        'fasttext_crawl_300d_2M':os.path.join(word_vectors_path, 'fasttext-crawl-300d-2M.vec'),\n",
    "        'glove_twitter_27B_200d':os.path.join(word_vectors_path, 'glove.twitter.27B.200d.txt')\n",
    "    },\n",
    "    'keras_layper_paths':{\n",
    "    },\n",
    "    'model_resutls':{\n",
    "        'show_top_n':20,\n",
    "        'show_exclude_columns':qtf.classification.ModelResults.exclude_columns1\n",
    "    }\n",
    "}\n",
    "\n",
    "params = qtf.classification.Params(params)\n",
    "model_results=qtf.classification.ProgramModelResults(params.program_path)\n",
    "model_results.clear()"
   ]
  },
  {
   "cell_type": "markdown",
   "metadata": {},
   "source": [
    "### 下载数据\n",
    "\n",
    "开始下载数据。"
   ]
  },
  {
   "cell_type": "code",
   "execution_count": 4,
   "metadata": {
    "ExecuteTime": {
     "end_time": "2021-12-06T01:08:02.161809Z",
     "start_time": "2021-12-06T01:08:02.107035Z"
    }
   },
   "outputs": [],
   "source": [
    "dataset_dir =  os.path.join(os.path.expanduser('~'), '.keras/datasets/aclImdb') \n",
    "if not os.path.exists(dataset_dir):\n",
    "    url = \"https://ai.stanford.edu/~amaas/data/sentiment/aclImdb_v1.tar.gz\"\n",
    "    dataset = tf.keras.utils.get_file(\"aclImdb_v1.tar.gz\", url, untar=True)\n",
    "    dataset_dir = os.path.join(os.path.dirname(dataset), 'aclImdb')\n",
    "    print(dataset_dir)"
   ]
  },
  {
   "cell_type": "markdown",
   "metadata": {},
   "source": [
    "![image-20201217095446441](images/image-20201217095446441.png)\n",
    "\n",
    "下面是压缩文件解开后的目录结构。\n",
    "\n",
    "![image-20201104115404253](images/image-20201104115404253.png)\n",
    "\n",
    "其中train和test目录包含了实际的文本数据，详细说明见[IMDB](https://eipi10.cn/others/2020/10/22/dataset/#imdb---large-movie-review-dataset)。\n",
    "\n",
    "### 查看数据\n",
    "\n",
    "下面看一看实际的数据是啥样的。"
   ]
  },
  {
   "cell_type": "code",
   "execution_count": 5,
   "metadata": {
    "ExecuteTime": {
     "end_time": "2021-12-06T01:08:02.295935Z",
     "start_time": "2021-12-06T01:08:02.163976Z"
    }
   },
   "outputs": [
    {
     "name": "stdout",
     "output_type": "stream",
     "text": [
      "train dataset: 12500 positive reviews, 12500 negative reviews\n",
      "test dataset: 12500 positive reviews, 12500 negative reviews\n"
     ]
    }
   ],
   "source": [
    "def get_files(base_dir):\n",
    "    pos_dir = os.path.join(base_dir, 'pos')\n",
    "    pos_files = os.listdir(pos_dir)\n",
    "    pos_files = [os.path.join(pos_dir, file_name) for file_name in pos_files]\n",
    "    \n",
    "    neg_dir = os.path.join(base_dir, 'neg')\n",
    "    neg_files = os.listdir(neg_dir)\n",
    "    neg_files = [os.path.join(neg_dir, file_name) for file_name in neg_files]    \n",
    "\n",
    "    return pos_files, neg_files\n",
    "\n",
    "train_pos_files, train_neg_files = get_files(os.path.join(dataset_dir, 'train'))\n",
    "test_pos_files, test_files = get_files(os.path.join(dataset_dir, 'test'))\n",
    "    \n",
    "print('train dataset: {} positive reviews, {} negative reviews'.format(len(train_pos_files), len(train_neg_files)))\n",
    "print('test dataset: {} positive reviews, {} negative reviews'.format(len(test_pos_files), len(test_files)))"
   ]
  },
  {
   "cell_type": "markdown",
   "metadata": {},
   "source": [
    "![image-20201217115036617](images/image-20201217115036617.png)\n",
    "\n",
    "首先看一看正面的评论。"
   ]
  },
  {
   "cell_type": "code",
   "execution_count": 6,
   "metadata": {
    "ExecuteTime": {
     "end_time": "2021-12-06T01:08:02.353911Z",
     "start_time": "2021-12-06T01:08:02.297849Z"
    }
   },
   "outputs": [
    {
     "name": "stdout",
     "output_type": "stream",
     "text": [
      "------------------------------/root/.keras/datasets/aclImdb/train/pos/127_7.txt------------------------------\n",
      "Zentropa has much in common with The Third Man, another noir-like film set among the rubble of postwar Europe. Like TTM, there is much inventive camera work. There is an innocent American who gets emotionally involved with a woman he doesn't really understand, and whose naivety is all the more striking in contrast with the natives.<br /><br />But I'd have to say that The Third Man has a more well-crafted storyline. Zentropa is a bit disjointed in this respect. Perhaps this is intentional: it is presented as a dream/nightmare, and making it too coherent would spoil the effect. <br /><br />This movie is unrelentingly grim--\"noir\" in more than one sense; one never sees the sun shine. Grim, but intriguing, and frightening.\n",
      "------------------------------/root/.keras/datasets/aclImdb/train/pos/126_10.txt------------------------------\n",
      "Zentropa is the most original movie I've seen in years. If you like unique thrillers that are influenced by film noir, then this is just the right cure for all of those Hollywood summer blockbusters clogging the theaters these days. Von Trier's follow-ups like Breaking the Waves have gotten more acclaim, but this is really his best work. It is flashy without being distracting and offers the perfect combination of suspense and dark humor. It's too bad he decided handheld cameras were the wave of the future. It's hard to say who talked him away from the style he exhibits here, but it's everyone's loss that he went into his heavily theoretical dogma direction instead.\n",
      "------------------------------/root/.keras/datasets/aclImdb/train/pos/125_7.txt------------------------------\n",
      "Lars Von Trier is never backward in trying out new techniques. Some of them are very original while others are best forgotten.<br /><br />He depicts postwar Germany as a nightmarish train journey. With so many cities lying in ruins, Leo Kessler a young American of German descent feels obliged to help in their restoration. It is not a simple task as he quickly finds out.<br /><br />His uncle finds him a job as a night conductor on the Zentropa Railway Line. His job is to attend to the needs of the passengers. When the shoes are polished a chalk mark is made on the soles. A terrible argument ensues when a passenger's shoes are not chalked despite the fact they have been polished. There are many allusions to the German fanaticism of adherence to such stupid details.<br /><br />The railway jou ...\n"
     ]
    }
   ],
   "source": [
    "for file_path in train_pos_files[0:3]:    \n",
    "    print('-'*30 + file_path + '-'*30 )\n",
    "    with open(file_path) as f:\n",
    "        comment = f.read() \n",
    "        print(comment if len(comment)<=800 else comment[0:800]+' ...') "
   ]
  },
  {
   "cell_type": "markdown",
   "metadata": {},
   "source": [
    "![image-20201217111649607](images/image-20201217111649607.png)\n",
    "\n",
    "然后看一看负面的评论。"
   ]
  },
  {
   "cell_type": "code",
   "execution_count": 7,
   "metadata": {
    "ExecuteTime": {
     "end_time": "2021-12-06T01:08:02.409234Z",
     "start_time": "2021-12-06T01:08:02.355822Z"
    }
   },
   "outputs": [
    {
     "name": "stdout",
     "output_type": "stream",
     "text": [
      "------------------------------/root/.keras/datasets/aclImdb/train/neg/127_4.txt------------------------------\n",
      "I rented I AM CURIOUS-YELLOW from my video store because of all the controversy that surrounded it when it was first released in 1967. I also heard that at first it was seized by U.S. customs if it ever tried to enter this country, therefore being a fan of films considered \"controversial\" I really had to see this for myself.<br /><br />The plot is centered around a young Swedish drama student named Lena who wants to learn everything she can about life. In particular she wants to focus her attentions to making some sort of documentary on what the average Swede thought about certain political issues such as the Vietnam War and race issues in the United States. In between asking politicians and ordinary denizens of Stockholm about their opinions on politics, she has sex with her drama teacher ...\n",
      "------------------------------/root/.keras/datasets/aclImdb/train/neg/126_1.txt------------------------------\n",
      "\"I Am Curious: Yellow\" is a risible and pretentious steaming pile. It doesn't matter what one's political views are because this film can hardly be taken seriously on any level. As for the claim that frontal male nudity is an automatic NC-17, that isn't true. I've seen R-rated films with male nudity. Granted, they only offer some fleeting views, but where are the R-rated films with gaping vulvas and flapping labia? Nowhere, because they don't exist. The same goes for those crappy cable shows: schlongs swinging in the breeze but not a clitoris in sight. And those pretentious indie movies like The Brown Bunny, in which we're treated to the site of Vincent Gallo's throbbing johnson, but not a trace of pink visible on Chloe Sevigny. Before crying (or implying) \"double-standard\" in matters of n ...\n",
      "------------------------------/root/.keras/datasets/aclImdb/train/neg/125_1.txt------------------------------\n",
      "If only to avoid making this type of film in the future. This film is interesting as an experiment but tells no cogent story.<br /><br />One might feel virtuous for sitting thru it because it touches on so many IMPORTANT issues but it does so without any discernable motive. The viewer comes away with no new perspectives (unless one comes up with one while one's mind wanders, as it will invariably do during this pointless film).<br /><br />One might better spend one's time staring out a window at a tree growing.<br /><br />\n"
     ]
    }
   ],
   "source": [
    "for file_path in train_neg_files[0:3]:    \n",
    "    print('-'*30 + file_path + '-'*30 )\n",
    "    with open(file_path) as f:\n",
    "        comment = f.read() \n",
    "        print(comment if len(comment)<=800 else comment[0:800]+' ...')"
   ]
  },
  {
   "cell_type": "markdown",
   "metadata": {},
   "source": [
    "![image-20201217100213645](images/image-20201217100213645.png)\n",
    "\n",
    "## 探索数据\n",
    "\n",
    "接下来，对把数据加载进内存，进行深入一些的探索。\n",
    "\n",
    "### 基本信息"
   ]
  },
  {
   "cell_type": "code",
   "execution_count": 8,
   "metadata": {
    "ExecuteTime": {
     "end_time": "2021-12-06T01:08:05.798744Z",
     "start_time": "2021-12-06T01:08:02.412281Z"
    }
   },
   "outputs": [
    {
     "name": "stdout",
     "output_type": "stream",
     "text": [
      "train_texts.length=25000, train_labels.shape=(25000,)\n",
      "test_texts.length=25000, test_labels.shape=(25000,)\n"
     ]
    }
   ],
   "source": [
    "def get_samples(texts, labels, rate):\n",
    "    indexs = np.arange(len(texts))\n",
    "    sample_indexs, _, sample_labels, _ = train_test_split(indexs, labels,                                                          \n",
    "                                                          test_size=1-rate,\n",
    "                                                          random_state=12)\n",
    "    sample_texts = [texts[index] for index in sample_indexs]\n",
    "    return sample_texts, sample_labels    \n",
    "\n",
    "def load_imdb_sentiment_analysis_dataset(imdb_data_path, seed=123):\n",
    "    \"\"\"Loads the IMDb movie reviews sentiment analysis dataset.\n",
    "\n",
    "    # Arguments\n",
    "        data_path: string, path to the data directory.\n",
    "        seed: int, seed for randomizer.\n",
    "\n",
    "    # Returns\n",
    "        A tuple of training and validation data.\n",
    "        Number of training samples: 25000\n",
    "        Number of test samples: 25000\n",
    "        Number of categories: 2 (0 - negative, 1 - positive)\n",
    "\n",
    "    # References\n",
    "        Mass et al., http://www.aclweb.org/anthology/P11-1015\n",
    "\n",
    "        Download and uncompress archive from:\n",
    "        http://ai.stanford.edu/~amaas/data/sentiment/aclImdb_v1.tar.gz\n",
    "    \"\"\"\n",
    "\n",
    "    # Load the training data\n",
    "    train_texts = []\n",
    "    train_labels = []\n",
    "    for category in ['pos', 'neg']:\n",
    "        train_path = os.path.join(imdb_data_path, 'train', category)\n",
    "        for fname in sorted(os.listdir(train_path)):\n",
    "            if fname.endswith('.txt'):\n",
    "                with open(os.path.join(train_path, fname)) as f:\n",
    "                    train_texts.append(f.read())\n",
    "                train_labels.append(0 if category == 'neg' else 1)\n",
    "\n",
    "    # Load the validation data.\n",
    "    test_texts = []\n",
    "    test_labels = []\n",
    "    for category in ['pos', 'neg']:\n",
    "        test_path = os.path.join(imdb_data_path, 'test', category)\n",
    "        for fname in sorted(os.listdir(test_path)):\n",
    "            if fname.endswith('.txt'):\n",
    "                with open(os.path.join(test_path, fname)) as f:\n",
    "                    test_texts.append(f.read())\n",
    "                test_labels.append(0 if category == 'neg' else 1)\n",
    "\n",
    "    # Shuffle the training data and labels.\n",
    "    random.seed(seed)\n",
    "    random.shuffle(train_texts)\n",
    "    random.seed(seed)\n",
    "    random.shuffle(train_labels)\n",
    "\n",
    "    return ((train_texts, np.array(train_labels)),\n",
    "            (test_texts, np.array(test_labels)))\n",
    "\n",
    "(train_texts, train_labels), (test_texts, test_labels) = load_imdb_sentiment_analysis_dataset(dataset_dir)\n",
    "\n",
    "if params.sample_perecent<1:\n",
    "    train_texts, train_labels = get_samples(train_texts, train_labels, rate=params.sample_perecent)\n",
    "    test_texts, test_labels = get_samples(test_texts, test_labels, rate=params.sample_perecent)\n",
    "\n",
    "print('train_texts.length={}, train_labels.shape={}'.format(len(train_texts), train_labels.shape))\n",
    "print('test_texts.length={}, test_labels.shape={}'.format(len(test_texts), test_labels.shape))"
   ]
  },
  {
   "cell_type": "markdown",
   "metadata": {},
   "source": [
    "![image-20201217122349480](images/image-20201217122349480.png)\n",
    "\n",
    "### 类别分布\n",
    "\n",
    "下面看看类别的分布。可以看到数据分为Positive和Negative两类，数据分布完全均匀。"
   ]
  },
  {
   "cell_type": "code",
   "execution_count": 9,
   "metadata": {
    "ExecuteTime": {
     "end_time": "2021-12-06T01:08:06.125411Z",
     "start_time": "2021-12-06T01:08:05.801105Z"
    }
   },
   "outputs": [
    {
     "data": {
      "image/png": "[encoded data removed]",
      "text/plain": [
       "<Figure size 800x400 with 2 Axes>"
      ]
     },
     "metadata": {},
     "output_type": "display_data"
    }
   ],
   "source": [
    "qtf.utils.plot_distribution(train_labels, test_labels, params.classes)"
   ]
  },
  {
   "cell_type": "markdown",
   "metadata": {},
   "source": [
    "\n",
    "\n",
    "### 文本长度分布\n",
    "\n",
    "分析训练集和测试集的文本长度分布是否相似。"
   ]
  },
  {
   "cell_type": "code",
   "execution_count": 10,
   "metadata": {
    "ExecuteTime": {
     "end_time": "2021-12-06T01:08:07.553718Z",
     "start_time": "2021-12-06T01:08:06.127415Z"
    }
   },
   "outputs": [
    {
     "data": {
      "image/png": "[encoded data removed]",
      "text/plain": [
       "<Figure size 1200x400 with 2 Axes>"
      ]
     },
     "metadata": {},
     "output_type": "display_data"
    },
    {
     "name": "stdout",
     "output_type": "stream",
     "text": [
      "train：mean=233.79 variance=30181.96\n",
      "test：mean=228.53 variance=28520.56\n"
     ]
    }
   ],
   "source": [
    "train_text_lengths = [len(s.split()) for s in train_texts]\n",
    "test_text_lengths = [len(s.split()) for s in test_texts]\n",
    "qtf.utils.plot_length_distribution(train_text_lengths, test_text_lengths)\n",
    "\n",
    "print('train：mean={:0.2f} variance={:0.2f}'.format(np.mean(train_text_lengths), \n",
    "                                                    np.var(train_text_lengths)))\n",
    "print('test：mean={:0.2f} variance={:0.2f}'.format(np.mean(test_text_lengths), \n",
    "                                                   np.var(test_text_lengths)))"
   ]
  },
  {
   "cell_type": "markdown",
   "metadata": {},
   "source": [
    "\n",
    "通过图形，中位数，均值和方差的比较，可以认为训练集和测试集文本长度的分布是非常相似的。下面用卡方检验来比较训练集和测试集是否有显著差异。"
   ]
  },
  {
   "cell_type": "code",
   "execution_count": 11,
   "metadata": {
    "ExecuteTime": {
     "end_time": "2021-12-06T01:08:07.752472Z",
     "start_time": "2021-12-06T01:08:07.555766Z"
    }
   },
   "outputs": [
    {
     "name": "stdout",
     "output_type": "stream",
     "text": [
      "------------------------- Observed -------------------------\n"
     ]
    },
    {
     "data": {
      "text/html": [
       "<div>\n",
       "<style scoped>\n",
       "    .dataframe tbody tr th:only-of-type {\n",
       "        vertical-align: middle;\n",
       "    }\n",
       "\n",
       "    .dataframe tbody tr th {\n",
       "        vertical-align: top;\n",
       "    }\n",
       "\n",
       "    .dataframe thead th {\n",
       "        text-align: right;\n",
       "    }\n",
       "</style>\n",
       "<table border=\"1\" class=\"dataframe\">\n",
       "  <thead>\n",
       "    <tr style=\"text-align: right;\">\n",
       "      <th></th>\n",
       "      <th>0-99</th>\n",
       "      <th>100-199</th>\n",
       "      <th>200-299</th>\n",
       "      <th>300-399</th>\n",
       "      <th>400-499</th>\n",
       "      <th>500-599</th>\n",
       "      <th>600-699</th>\n",
       "      <th>700-799</th>\n",
       "      <th>800+</th>\n",
       "      <th>合计</th>\n",
       "    </tr>\n",
       "    <tr>\n",
       "      <th></th>\n",
       "      <th></th>\n",
       "      <th></th>\n",
       "      <th></th>\n",
       "      <th></th>\n",
       "      <th></th>\n",
       "      <th></th>\n",
       "      <th></th>\n",
       "      <th></th>\n",
       "      <th></th>\n",
       "      <th></th>\n",
       "    </tr>\n",
       "  </thead>\n",
       "  <tbody>\n",
       "    <tr>\n",
       "      <th>test</th>\n",
       "      <td>3091</td>\n",
       "      <td>11744</td>\n",
       "      <td>4697</td>\n",
       "      <td>2321</td>\n",
       "      <td>1251</td>\n",
       "      <td>752</td>\n",
       "      <td>434</td>\n",
       "      <td>289</td>\n",
       "      <td>421</td>\n",
       "      <td>25000</td>\n",
       "    </tr>\n",
       "    <tr>\n",
       "      <th>train</th>\n",
       "      <td>2926</td>\n",
       "      <td>11654</td>\n",
       "      <td>4665</td>\n",
       "      <td>2385</td>\n",
       "      <td>1340</td>\n",
       "      <td>786</td>\n",
       "      <td>464</td>\n",
       "      <td>307</td>\n",
       "      <td>473</td>\n",
       "      <td>25000</td>\n",
       "    </tr>\n",
       "    <tr>\n",
       "      <th>合计</th>\n",
       "      <td>6017</td>\n",
       "      <td>23398</td>\n",
       "      <td>9362</td>\n",
       "      <td>4706</td>\n",
       "      <td>2591</td>\n",
       "      <td>1538</td>\n",
       "      <td>898</td>\n",
       "      <td>596</td>\n",
       "      <td>894</td>\n",
       "      <td>50000</td>\n",
       "    </tr>\n",
       "  </tbody>\n",
       "</table>\n",
       "</div>"
      ],
      "text/plain": [
       "       0-99  100-199  200-299  300-399  400-499  500-599  600-699  700-799  \\\n",
       "                                                                             \n",
       "test   3091    11744     4697     2321     1251      752      434      289   \n",
       "train  2926    11654     4665     2385     1340      786      464      307   \n",
       "合计     6017    23398     9362     4706     2591     1538      898      596   \n",
       "\n",
       "       800+     合计  \n",
       "                    \n",
       "test    421  25000  \n",
       "train   473  25000  \n",
       "合计      894  50000  "
      ]
     },
     "metadata": {},
     "output_type": "display_data"
    },
    {
     "name": "stdout",
     "output_type": "stream",
     "text": [
      "------------------------- Expected -------------------------\n"
     ]
    },
    {
     "data": {
      "text/html": [
       "<div>\n",
       "<style scoped>\n",
       "    .dataframe tbody tr th:only-of-type {\n",
       "        vertical-align: middle;\n",
       "    }\n",
       "\n",
       "    .dataframe tbody tr th {\n",
       "        vertical-align: top;\n",
       "    }\n",
       "\n",
       "    .dataframe thead th {\n",
       "        text-align: right;\n",
       "    }\n",
       "</style>\n",
       "<table border=\"1\" class=\"dataframe\">\n",
       "  <thead>\n",
       "    <tr style=\"text-align: right;\">\n",
       "      <th></th>\n",
       "      <th>0-99</th>\n",
       "      <th>100-199</th>\n",
       "      <th>200-299</th>\n",
       "      <th>300-399</th>\n",
       "      <th>400-499</th>\n",
       "      <th>500-599</th>\n",
       "      <th>600-699</th>\n",
       "      <th>700-799</th>\n",
       "      <th>800+</th>\n",
       "      <th>合计</th>\n",
       "    </tr>\n",
       "    <tr>\n",
       "      <th></th>\n",
       "      <th></th>\n",
       "      <th></th>\n",
       "      <th></th>\n",
       "      <th></th>\n",
       "      <th></th>\n",
       "      <th></th>\n",
       "      <th></th>\n",
       "      <th></th>\n",
       "      <th></th>\n",
       "      <th></th>\n",
       "    </tr>\n",
       "  </thead>\n",
       "  <tbody>\n",
       "    <tr>\n",
       "      <th>test</th>\n",
       "      <td>3008.5</td>\n",
       "      <td>11699.0</td>\n",
       "      <td>4681.0</td>\n",
       "      <td>2353.0</td>\n",
       "      <td>1295.5</td>\n",
       "      <td>769.0</td>\n",
       "      <td>449.0</td>\n",
       "      <td>298.0</td>\n",
       "      <td>447.0</td>\n",
       "      <td>25000.0</td>\n",
       "    </tr>\n",
       "    <tr>\n",
       "      <th>train</th>\n",
       "      <td>3008.5</td>\n",
       "      <td>11699.0</td>\n",
       "      <td>4681.0</td>\n",
       "      <td>2353.0</td>\n",
       "      <td>1295.5</td>\n",
       "      <td>769.0</td>\n",
       "      <td>449.0</td>\n",
       "      <td>298.0</td>\n",
       "      <td>447.0</td>\n",
       "      <td>25000.0</td>\n",
       "    </tr>\n",
       "    <tr>\n",
       "      <th>合计</th>\n",
       "      <td>6017.0</td>\n",
       "      <td>23398.0</td>\n",
       "      <td>9362.0</td>\n",
       "      <td>4706.0</td>\n",
       "      <td>2591.0</td>\n",
       "      <td>1538.0</td>\n",
       "      <td>898.0</td>\n",
       "      <td>596.0</td>\n",
       "      <td>894.0</td>\n",
       "      <td>50000.0</td>\n",
       "    </tr>\n",
       "  </tbody>\n",
       "</table>\n",
       "</div>"
      ],
      "text/plain": [
       "         0-99  100-199  200-299  300-399  400-499  500-599  600-699  700-799  \\\n",
       "                                                                               \n",
       "test   3008.5  11699.0   4681.0   2353.0   1295.5    769.0    449.0    298.0   \n",
       "train  3008.5  11699.0   4681.0   2353.0   1295.5    769.0    449.0    298.0   \n",
       "合计     6017.0  23398.0   9362.0   4706.0   2591.0   1538.0    898.0    596.0   \n",
       "\n",
       "        800+       合计  \n",
       "                       \n",
       "test   447.0  25000.0  \n",
       "train  447.0  25000.0  \n",
       "合计     894.0  50000.0  "
      ]
     },
     "metadata": {},
     "output_type": "display_data"
    }
   ],
   "source": [
    "def process_length(lengths):\n",
    "    cut_points = [0,99,199,299,399,499,599,699,799,10000]\n",
    "    labels = [\"0-99\",\"100-199\",\"200-299\",\"300-399\",\"400-499\",\"500-599\", \"600-699\",\"700-799\",\"800+\"]\n",
    "    return pd.cut(lengths, cut_points, labels=labels)\n",
    "\n",
    "def get_observed(df, column1, column2):\n",
    "    df_observed = pd.crosstab(\n",
    "        df[column1],\n",
    "        df[column2]\n",
    "    )    \n",
    "    return df_observed\n",
    "    \n",
    "def get_expected(df_observed):\n",
    "    observed = df_observed.to_numpy()\n",
    "    reduce_row = observed.sum(axis=0, keepdims=True)/observed.sum()\n",
    "    reduce_col = observed.sum(axis=1, keepdims=True)\n",
    "\n",
    "    expected = reduce_col.dot(reduce_row)\n",
    "    df_expected = pd.DataFrame(expected, index=df_observed.index, columns=df_observed.columns)\n",
    "    return df_expected\n",
    "  \n",
    "def show_sum(df):\n",
    "    df.columns =  df.columns.tolist()  \n",
    "    df = df.reset_index()\n",
    "    s = df.melt(df.columns[0], var_name=' ')\n",
    "    ct = pd.crosstab(index=s[df.columns[0]], columns=s.iloc[:,1], values=s.value, \n",
    "                     aggfunc='sum', margins=True, margins_name='合计',\n",
    "                     rownames=[''], \n",
    "               ) \n",
    "    display(ct)\n",
    "    \n",
    "length = train_text_lengths + test_text_lengths\n",
    "dataset = ['train']*len(train_text_lengths) + ['test']*len(test_text_lengths)\n",
    "\n",
    "df_length = pd.DataFrame({\"dataset\":dataset, \"length\":length})\n",
    "df_length['len'] = process_length(length)\n",
    "df_observed = get_observed(df_length, 'dataset', 'len')\n",
    "# display(df_length)\n",
    "\n",
    "print('-'*25, 'Observed', '-'*25)\n",
    "show_sum(df_observed)\n",
    "\n",
    "print('-'*25, 'Expected', '-'*25)\n",
    "df_expected = get_expected(df_observed)\n",
    "show_sum(df_expected)"
   ]
  },
  {
   "cell_type": "markdown",
   "metadata": {},
   "source": [
    "![image-20210101174143400](images/image-20210101174143400.png)\n",
    "\n",
    "然后进行卡方检验。可以看到p_value>0.05，所以接受原假设——数据集来源和文本长度是独立的，也就是说接受训练集和测试集是是相似的分布。"
   ]
  },
  {
   "cell_type": "code",
   "execution_count": 12,
   "metadata": {
    "ExecuteTime": {
     "end_time": "2021-12-06T01:08:07.814067Z",
     "start_time": "2021-12-06T01:08:07.754537Z"
    }
   },
   "outputs": [
    {
     "name": "stdout",
     "output_type": "stream",
     "text": [
      "chi_squared_stat = 14.229826210223425\n",
      "critical_value = 15.50731305586545\n",
      "p_value = 0.07596828551367163\n"
     ]
    }
   ],
   "source": [
    "observed = df_observed.to_numpy()\n",
    "expected = df_expected.to_numpy()\n",
    "\n",
    "chi_squared_stat = ((observed-expected)**2/expected).sum()\n",
    "print('chi_squared_stat =', chi_squared_stat)\n",
    "\n",
    "df = np.prod(np.array(observed.shape) - 1)\n",
    "critical_value  = stats.chi2.ppf(q=0.95, df=df)  #0.95:置信水平, df:自由度\n",
    "print('critical_value =', critical_value)        #临界值:拒绝域的边界, 当卡方值大于临界值，则原假设不成立，备择假设成立\n",
    "\n",
    "p_value = 1 - stats.chi2.cdf(x=chi_squared_stat, df=df)\n",
    "print('p_value =', p_value)"
   ]
  },
  {
   "cell_type": "markdown",
   "metadata": {},
   "source": [
    "\n",
    "### 词频分布\n",
    "\n",
    "分析训练集和测试集的词频分布是否相似。下面代码中，去除了一些stopwords。"
   ]
  },
  {
   "cell_type": "code",
   "execution_count": 13,
   "metadata": {
    "ExecuteTime": {
     "end_time": "2021-12-06T01:08:18.098224Z",
     "start_time": "2021-12-06T01:08:07.816123Z"
    }
   },
   "outputs": [
    {
     "name": "stderr",
     "output_type": "stream",
     "text": [
      "/usr/local/lib/python3.8/dist-packages/sklearn/utils/deprecation.py:87: FutureWarning: Function get_feature_names is deprecated; get_feature_names is deprecated in 1.0 and will be removed in 1.2. Please use get_feature_names_out instead.\n",
      "  warnings.warn(msg, category=FutureWarning)\n"
     ]
    },
    {
     "data": {
      "image/png": "[encoded data removed]",
      "text/plain": [
       "<Figure size 1600x1200 with 2 Axes>"
      ]
     },
     "metadata": {},
     "output_type": "display_data"
    }
   ],
   "source": [
    "qtf.utils.plot_frequency_distribution(train_texts, test_texts) "
   ]
  },
  {
   "cell_type": "code",
   "execution_count": 14,
   "metadata": {
    "ExecuteTime": {
     "end_time": "2021-12-06T01:08:20.762746Z",
     "start_time": "2021-12-06T01:08:18.100338Z"
    }
   },
   "outputs": [
    {
     "name": "stdout",
     "output_type": "stream",
     "text": [
      "Number of Vocabulary: 438729\n",
      "Number of Vocabulary: 23078\n"
     ]
    }
   ],
   "source": [
    "word_counter = Counter()\n",
    "for s in train_texts:\n",
    "    word_counter.update(s.split())\n",
    "for s in test_texts:\n",
    "    word_counter.update(s.split())   \n",
    "\n",
    "print('Number of Vocabulary: {}'.format(len(word_counter)))\n",
    "\n",
    "for word in list(word_counter):\n",
    "    if word_counter[word]<25: word_counter.pop(word)\n",
    "        \n",
    "print('Number of Vocabulary: {}'.format(len(word_counter)))"
   ]
  },
  {
   "cell_type": "markdown",
   "metadata": {},
   "source": [
    "![image-20201217142728260](images/image-20201217142728260.png)\n",
    "\n",
    "上面可以看到词频大于等于100次的词汇有7706个。\n",
    "\n",
    "## 准备数据\n",
    "\n",
    "不同的模型需要准备不同的数据，所以徐要确定一下要构建哪种模型。\n",
    "\n",
    "### 模型选择\n",
    "\n",
    "下图是google在两年前提出一个选择流程图。\n",
    "\n",
    "![image-20201217135347743](images/image-20201217135347743.png)\n",
    "\n",
    "1. Calculate the number of samples/number of words per sample ratio.\n",
    "2. If this ratio is less than 1500, tokenize the text as n-grams and use a simple multi-layer perceptron (MLP) model to classify them (left branch in the flowchart below):\n",
    "   a. Split the samples into word n-grams; convert the n-grams into vectors.\n",
    "     b. Score the importance of the vectors and then select the top 20K using the scores.\n",
    "   c. Build an MLP model.\n",
    "3. If the ratio is greater than 1500, tokenize the text as sequences and use a sepCNN model to classify them (right branch in the flowchart below):\n",
    "   a. Split the samples into words; select the top 20K words based on their frequency.\n",
    "   b. Convert the samples into word sequence vectors.\n",
    "   c. If the original number of samples/number of words per sample ratio is less   than 15K, using a fine-tuned pre-trained embedding with the sepCNN  model will likely provide the best results.\n",
    "4. Measure the model performance with different hyperparameter values to find\n",
    "   the best model configuration for the dataset."
   ]
  },
  {
   "cell_type": "code",
   "execution_count": 15,
   "metadata": {
    "ExecuteTime": {
     "end_time": "2021-12-05T08:34:43.667334Z",
     "start_time": "2021-12-05T08:34:43.607449Z"
    }
   },
   "outputs": [
    {
     "name": "stdout",
     "output_type": "stream",
     "text": [
      "[the number of samples]/[number of words per sample] = 143.7\n"
     ]
    }
   ],
   "source": [
    "length_median = np.median(train_text_lengths)\n",
    "train_number = len(train_texts)\n",
    "print (\"[the number of samples]/[number of words per sample] = {:0.1f}\".format(train_number/length_median))"
   ]
  },
  {
   "cell_type": "markdown",
   "metadata": {},
   "source": [
    "可以看到这个比例大大小于15k，所以我们从N-gram模型开始，但是同时我们也会为Sequence模型准备数据。数据准备有如下几个过程。\n",
    "1. Standardization \n",
    "   \n",
    "   文本标准化操作，去除一些不合规范的字符或单词等。比如：去除拼音和HTML标记\n",
    "   \n",
    "   \n",
    "2. Tokenization\n",
    "\n",
    "   把文本字符串拆分成Token。对于英文最常见的拆分方式是根据空格拆分\n",
    "   \n",
    "   \n",
    "3. Vectorization\n",
    "\n",
    "   把Token转化为向量。\n",
    "   \n",
    "\n",
    "接下来，我们将分别为N-gram模型和Sequence模型准备数据。\n",
    "\n",
    "### N-gram + Preprocess\n",
    "\n",
    "在N-gram模型中，Tokenization一般使用unigrams + bigrams的方式把文本转成Token，而Vectorization过程，一般先统计Token的BOW（Bag of Words，词袋模型），然后采用tf-idf在对词频进行平衡。"
   ]
  },
  {
   "cell_type": "code",
   "execution_count": 17,
   "metadata": {
    "ExecuteTime": {
     "end_time": "2021-12-05T08:36:26.005465Z",
     "start_time": "2021-12-05T08:35:48.362272Z"
    }
   },
   "outputs": [
    {
     "name": "stderr",
     "output_type": "stream",
     "text": [
      "2021-12-05 08:36:14.845305: I tensorflow/core/common_runtime/gpu/gpu_device.cc:1510] Created device /job:localhost/replica:0/task:0/device:GPU:0 with 6816 MB memory:  -> device: 0, name: GeForce GTX 1070 Ti, pci bus id: 0000:05:00.0, compute capability: 6.1\n"
     ]
    }
   ],
   "source": [
    "stop_words = params.stop_words if params.use_stop_words else None\n",
    "generator = qtf.classification.NgramGenerator('ngram_preproess', standardize=qtf.text.standardize_text1,\n",
    "                                    texts=train_texts, labels=train_labels, max_feature=params.max_features, \n",
    "                                    stop_words=stop_words)\n",
    "ngram_datasets1 = qtf.classification.Datasets(train_texts, train_labels, test_texts, test_labels, \n",
    "                                              generator=generator, batch_size=params.batch_size)"
   ]
  },
  {
   "cell_type": "code",
   "execution_count": 18,
   "metadata": {
    "ExecuteTime": {
     "end_time": "2021-12-05T08:36:26.205245Z",
     "start_time": "2021-12-05T08:36:26.007614Z"
    }
   },
   "outputs": [
    {
     "name": "stdout",
     "output_type": "stream",
     "text": [
      "<class 'tensorflow.python.framework.sparse_tensor.SparseTensor'>\n",
      "(32, 20000) (32,)\n",
      "---------------------------------------- Positive ----------------------------------------\n",
      "True (20000,)\n",
      "---------------------------------------- Negative ----------------------------------------\n",
      "True (20000,)\n",
      "---------------------------------------- Positive ----------------------------------------\n",
      "True (20000,)\n",
      "---------------------------------------- Negative ----------------------------------------\n",
      "True (20000,)\n",
      "---------------------------------------- Negative ----------------------------------------\n",
      "True (20000,)\n"
     ]
    },
    {
     "name": "stderr",
     "output_type": "stream",
     "text": [
      "2021-12-05 08:36:26.075917: I tensorflow/compiler/mlir/mlir_graph_optimization_pass.cc:185] None of the MLIR Optimization Passes are enabled (registered 2)\n",
      "2021-12-05 08:36:26.188125: W tensorflow/core/kernels/data/cache_dataset_ops.cc:768] The calling iterator did not fully read the dataset being cached. In order to avoid unexpected truncation of the dataset, the partially cached contents of the dataset  will be discarded. This can happen if you have an input pipeline similar to `dataset.cache().take(k).repeat()`. You should use `dataset.take(k).cache().repeat()` instead.\n"
     ]
    }
   ],
   "source": [
    "data, labels = iter(ngram_datasets1.train_dataset).next()\n",
    "print(type(data))\n",
    "print(data.shape, labels.shape)\n",
    "\n",
    "for i, (item, label) in enumerate(zip(tf.sparse.to_dense(data), labels)):\n",
    "    if i>=5: break\n",
    "    print('-'*40, params.classes[label], '-'*40)\n",
    "    print(np.any(item.numpy()>0), item.shape)"
   ]
  },
  {
   "cell_type": "markdown",
   "metadata": {},
   "source": [
    "### Sequence + Preprocess"
   ]
  },
  {
   "cell_type": "code",
   "execution_count": 19,
   "metadata": {
    "ExecuteTime": {
     "end_time": "2021-12-05T08:36:50.472828Z",
     "start_time": "2021-12-05T08:36:26.207014Z"
    }
   },
   "outputs": [],
   "source": [
    "generator = qtf.classification.SequenceGenerator('sequence_prepross', standardize=qtf.text.standardize_text1, \n",
    "                                       texts=train_texts, max_features=params.max_features, \n",
    "                                       max_sequence_length=params.sequence_length)\n",
    "sequence_datasets1 = qtf.classification.Datasets(train_texts, train_labels, test_texts, test_labels, \n",
    "                                                 generator=generator, batch_size=params.batch_size) "
   ]
  },
  {
   "cell_type": "code",
   "execution_count": 20,
   "metadata": {
    "ExecuteTime": {
     "end_time": "2021-12-05T08:36:50.664116Z",
     "start_time": "2021-12-05T08:36:50.475311Z"
    }
   },
   "outputs": [
    {
     "name": "stdout",
     "output_type": "stream",
     "text": [
      "(32, 500) (32,)\n",
      "---------------------------------------- Positive ----------------------------------------\n",
      "[    0     0     0     0     0     0     0     0     0     0     0     0\n",
      "     0     0     0     0     0     0     0     0     0     0     0     0\n",
      "     0     0     0     0     0     0     0     0     0     0     0     0\n",
      "     0     0     0     0     0     0     0     0     0     0     0     0\n",
      "     0     0     0     0     0     0     0     0     0     0     0     0\n",
      "     0     0     0     0     0     0     0     0     0     0     0     0\n",
      "     0     0     0     0     0     0     0     0     0     0     0     0\n",
      "     0     0     0     0     0     0     0     0     0     0     0     0\n",
      "     0     0     0     0     0     0     0     0     0     0     0     0\n",
      "     0     0     0     0     0     0     0     0     0     0     0     0\n",
      "     0     0     0     0     0     0     0     0     0     0     0     0\n",
      "     0     0     0     0     0     0     0     0     0     0     0     0\n",
      "     0     0     0     0     0     0     0     0     0     0     0     0\n",
      "     0     0     0     0     0     0     0     0     0     0     0     0\n",
      "     0     0     0     0     0     0     0     0     0     0     0     0\n",
      "     0     0     0     0     0     0     0     0     0     0     0     0\n",
      "     0     0     0     0     0     0     0     0     0     0     0     0\n",
      "     0     0     0     0     0     0     0     0     0     0     0     0\n",
      "     0     0     0     0     0     0     0     0     0     0     0     0\n",
      "     0     0     0     0     0     0     0     0     0     0     0     0\n",
      "     0     0     0     0     0     0     0     0     0     0     0     0\n",
      "     0     0     0     0     0     0     0     0     0     0     0     0\n",
      "     0     0     0     0     0     0     0     0     0     0     0     0\n",
      "     0     0     0     0     0     0     0     0     0     0     0     0\n",
      "     0     0     0     0     0     0     0     0     0     0     0     0\n",
      "     0     0     0     0     0     0     0     0     0     0     0     0\n",
      "     0     0     0     0     0     0     0     0     0     0     0     0\n",
      "     0     0     0     0     0     0     0     0     0     0     0     0\n",
      "     0     0     0     0     0     0     0     0     0     0     0     0\n",
      "     0     0     0     0     0     0     0     0     0     0     0     0\n",
      "     0     0     0     0     0     0     0     0     0     0    12   416\n",
      "    13    20   436     6  1520    75     6    61  1311     2    10     8\n",
      "    59  2196    23    55    71    10    19   217     2    59  1748   228\n",
      "     2   670    28   588   103     2    12   107     1   563   160     8\n",
      "    90     2     1    20   285    92  9858  3688  4411    65     2    36\n",
      "    30  4472    35   270  5420     6   124     4  1468    11    70   124\n",
      "     1    22  1253  4541   184     5   173  5420    11  4615    11     1\n",
      "   175    68     2    53     6     1  3169    28   184    54     2     1\n",
      "    20  4541  1269   405  1371    59  1748    26    19   134 15421     2\n",
      "    85   285   401     8   105    34    26    41   401     2   285    59\n",
      "  1748     1  6802     6  6822  1311    58    10     8   165     2     1\n",
      "    20     8    59    78   425     4   527     2] (500,)\n",
      "---------------------------------------- Negative ----------------------------------------\n",
      "[    0     0     0     0     0     0     0     0     0     0     0     0\n",
      "     0     0     0     0     0     0     0     0     0     0     0     0\n",
      "     0     0     0     0     0     0     0     0     0     0     0     0\n",
      "     0     0     0     0     0     0     0     0     0     0     0     0\n",
      "     0     0     0     0     0     0     0     0     0     0     0     0\n",
      "     0     0     0     0     0     0     0     0     0     0     0     0\n",
      "     0     0     0     0     0     0     0     0     0     0     0     0\n",
      "     0     0     0     0     0     0     0     0     0     0     0     0\n",
      "     0     0     0     0     0     0     0     0     0     0     0     0\n",
      "     0     0     0     0     0     0     0     0     0     0     0     0\n",
      "     0     0     0     0     0     0     0     0     0     0     0     0\n",
      "     0     0     0     0     0     0     0     0     0     0     0     0\n",
      "     0     0     0     0     0     0     0     0     0     0     0     0\n",
      "     0     0     0     0     0     0     0     0     0     0     0     0\n",
      "     0     0     0     0     0     0     0     0     0     0     0     0\n",
      "     0     0     0     0     0     0     0     0     0     0     0     0\n",
      "     0     0     0     0     0   244     6   269     7   264    14     1\n",
      "    20    40    13   272   100  3056    11 17857    96  8428    33     1\n",
      "   118     8    41  2170     4  1258     2     2     2  1808    19  7654\n",
      "     5  5766     6  3351    25     5   396   493     7  3971    44  1413\n",
      "    33    98    73    30     1  1962     6    35   224  1538     4   277\n",
      "    56    82   577   559    11    51     8     5   826  2513     2   370\n",
      "    73    30     5   317    39  1523    11     1  1928     6     5  9565\n",
      "  1319   267    40   115 13285   660     7    59  3554  4672   134     1\n",
      " 11188     2     5    59  3854     4   424     3  6510     3 15601     4\n",
      "  4971    37     5  4175  2247   581     6   358    33   739     1   939\n",
      "    40    38  1053   136     1  5042     6  1195 13684     3   123    26\n",
      "   333     1    68   260    10   199    30  1616     1    22  1347   427\n",
      "     2     1    59   307  4372  1458  9935     1  8834   123    26   305\n",
      "     7 13028  1744    38  1053   396   197     7   355  8576     4   144\n",
      "     5   396  9565  2387     2  2323  5161   905    12    88    69    42\n",
      "     8  2084  1611    11    13    20     4    44 11875   430  3162    11\n",
      "   162  2007     2    85    43     8   325    62  1139    35    34   201\n",
      "    44     4   340     6     1   912   801     2    12  1508  5039     1\n",
      "   272    40    66    13    16   606    21   123   327    10    34     2\n",
      "     1    20    12   802  4270   150     4  2571     7     3    72     7\n",
      "   547  1867    14 12484   227   190   103    79     2   874    23    42\n",
      "    38  1258    68     3  1603   117     3     5  4099     6  1752 14356\n",
      "  9647    61  1976     8     7  1722    13    32     2   450     4   277\n",
      "     5   396  2774     3    21   566    24     5  2826   320    30     5\n",
      "   124  6396    25     5   396   493    25     5   396  2054    52     1\n",
      "   122   176     6    13    20     8     1  1353] (500,)\n",
      "---------------------------------------- Negative ----------------------------------------\n",
      "[    0     0     0     0     0     0     0     0     0     0     0     0\n",
      "     0     0     0     0     0     0     0     0     0     0     0     0\n",
      "     0     0     0     0     0     0     0     0     0     0     0     0\n",
      "     0     0     0     0     0     0     0     0     0     0     0     0\n",
      "     0     0     0     0     0     0     0     0     0     0     0     0\n",
      "     0     0     0     0     0     0     0     0     0     0     0     0\n",
      "     0     0     0     0     0     0     0     0     0     0     0     0\n",
      "     0     0     0     0     0     0     0     0     0     0     0     0\n",
      "     0     0     0     0     0     0     0     0     0     0     0     0\n",
      "     0     0     0     0     0     0     0     0     0     0     0     0\n",
      "     0     0     0     0     0     0     0     0     0     0     0     0\n",
      "     0     0     0     0     0     0     0     0     0     0     0     0\n",
      "     0     0     0     0     0     0     0     0     0     0     0     0\n",
      "     0     0     0     0     0     0     0     0     0     0     0     0\n",
      "     0     0     0     0     0     0     0     0     0     0     0     0\n",
      "     0     0     0     0     0     0     0     0     0     0     0     0\n",
      "     0     0     0     0     0     0     0     0     0     0     0     0\n",
      "     0     0     0     0     0     0     0     0     0     0     0     0\n",
      "     0     0     0     0     0     0     0     0     0     0     0     0\n",
      "     0     0     0     0     0     0     0     0     0     0     0     0\n",
      "     0     0     0     0     0     0     0     0     0     0     0     0\n",
      "     0     0     0     0     0     0     0     0     0     0     0     0\n",
      "     0     0     0     0     0     0     0     0     0     0     0     0\n",
      "     0     0     0     0     0     0     0     0     0     0     0     0\n",
      "     0     0     0     0     0     0     0     0     0     0     0     0\n",
      "     0     0     0     0     0     0     0     0     0     0     0     0\n",
      "     0     0     0     0     0     0     0     0     0     0     0     0\n",
      "     0     0     0     0     0     0     0     0     0     0     0     0\n",
      "     0     0     0     0     0    17   528     4    61    86   363    28\n",
      "   203   448     6  1177   195    73   419    24  4815   386    50     5\n",
      "    20    14  4180   198     6     1 10232    73    74  5708    33   193\n",
      "    18     5    20    19     5  2841   136  1097     6  1782  1894  1586\n",
      "    13     8     5  5943    33     1   249    22    12    30   128   114\n",
      "    21   290     5   171    18     5   472    48    23    28   497     7\n",
      "   859   149    10    33     9     9     1   117     8   377     1   308\n",
      "     2     2     2    78    12   100    88   130    25    61  5907    11\n",
      "   194    96    41    84    36    67  2544     7   274   102    63    25\n",
      "     1  1085  1529     4   312    50  3292     3   933   508     2    62\n",
      "    68   365     3   888  2090    14   102    62   282     4   384   229\n",
      "    33     9     9    23  3052    61  4819    33    40    32  1333    23\n",
      "  3052    61 13146    16     1  3549    40     1   405    39   589    42\n",
      "  1566  9118    40  6506  7756    19  1852    33] (500,)\n",
      "---------------------------------------- Positive ----------------------------------------\n",
      "[    0     0     0     0     0     0     0     0     0     0     0     0\n",
      "     0     0     0     0     0     0     0     0     0     0     0     0\n",
      "     0     0     0     0     0     0     0     0     0     0     0     0\n",
      "     0     0     0     0     0     0     0     0     0     0     0     0\n",
      "     0     0     0     0     0     0     0     0     0     0     0     0\n",
      "     0     0     0     0     0     0     0     0     0     0     0     0\n",
      "     0     0     0     0     0     0     0     0     0     0     0     0\n",
      "     0     0     0     0     0     0     0     0     0     0     0     0\n",
      "     0     0     0     0     0     0     0     0     0     0     0     0\n",
      "     0     0     0     0     0     0     0     0     0     0     0     0\n",
      "     0     0     0     0     0     0     0     0     0     0     0     0\n",
      "     0     0     0     0     0     0     0     0     0     0     0     0\n",
      "     0     0     0     0     0     0     0     0     0     0     0     0\n",
      "     0     0     0     0     0     0     0     0     0     0     0     0\n",
      "     0     0     0     0     0     0     0     0     0     0     0     0\n",
      "     0     0     0     0     0     0     0     0     0     0     0     0\n",
      "     0     0     0     0     0     0     0     0     0     0     0     0\n",
      "     0     0     0     0     0     0     0     0     0     0     0     0\n",
      "     0     0     0     0     0     0     0     0     0     0     0     0\n",
      "     0     0     0     0     0     0     0     0     0     0     0     0\n",
      "     0     0     0     0     0     0     0     0     0     0     0     0\n",
      "     0     0     0     0     0     0     0     0    48    23    74   810\n",
      "    63    25     5 11968     6    23   238   382    14    23  3641   355\n",
      "     5  1914     4   130  4437     2    78     3    11     1   183     6\n",
      "     1   621   131     3   132   713    83    31     2    18    11    13\n",
      "   492   125     3  4746  6003    18  2089     3     4     1  2033  4765\n",
      "    76    70    59   452     2     9     9    12   447    13    22     2\n",
      "    10    16   144     5  2108    25     1 11147  5092    14    73   110\n",
      "    25     5  2878  2777     2    10   214    24    32     6  8740    15\n",
      "   122   348     3    21    25     1   225    10     8     5    59    54\n",
      "    22     2     1  4927   321    14   678 10333    83    32   259    31\n",
      "     1   153     6     1  1119     8    59   838     3     4     8    59\n",
      "    78   966    11    13    22     2     6   263    43    28     1   624\n",
      "  8094  3173     3    61  1591     8    58    27     8    47     7    31\n",
      "    87     1     3     1  3095  1593   104   234   691    52  8094   544\n",
      "  1196     3    12   238    31   150    21     1  3095 11677    67    11\n",
      "     5 17091     4     1  4627     2    12   200    13    22     5    18\n",
      "  2031  2758     2    12   223    30   294    10    45    56   210     2\n",
      "     1    67    22   940    40     1   827   269   206    14    12   294\n",
      "    13   395    33    33     9     9    11   351     3    88    26    18\n",
      "     5   889   107    14    23   204     1    24     2  1977     2    76\n",
      "    10  6244    23     2     2     2     2     2] (500,)\n",
      "---------------------------------------- Positive ----------------------------------------\n",
      "[    0     0     0     0     0     0     0     0     0     0     0     0\n",
      "     0     0     0     0     0     0     0     0     0     0     0     0\n",
      "     0     0     0     0     0     0     0     0     0     0     0     0\n",
      "     0     0     0     0     0     0     0     0     0     0     0     0\n",
      "     0     0     0     0     0     0     0     0     0     0     0     0\n",
      "     0     0     0     0     0     0     0     0     0     0     0     0\n",
      "     0     0     0     0     0     0     0     0     0     0     0     0\n",
      "     0     0     0     0     0     0     0     0     0     0     0     0\n",
      "     0     0     0     0     0     0     0     0     0     0     0     0\n",
      "     0     0     0     0     0     0     0     0     0     0     0     0\n",
      "     0     0     0     0     0     0     0     0     0     0     0     0\n",
      "     0     0     0     0     0     0     0     0     0     0     0     0\n",
      "     0     0     0     0     0     0     0     0     0     0     0     0\n",
      "     0     0     0     0     0     0     0     0     0     0     0     0\n",
      "     0     0     0     0     0     0     0     0     0     0     0     0\n",
      "     0     0     0     0     0     0     0     0     0     0     0     0\n",
      "     0     0     0     0     0     0     0     0     0     0     0     0\n",
      "     0     0     0     0     0     0     0     0     0     0     0     0\n",
      "     0     0     0     0     0     0     0     0     0     0     0     0\n",
      "     0     0     0     0     0     0     0     0     0     0     0     0\n",
      "     0     0     0     0     0     0     0     0     0     0     0     0\n",
      "     0     0     0     0     0     0     0     0     0     0     0     0\n",
      "     0     0     0     0     0     0     0     0     0     0     0     0\n",
      "     0     0     0     0     0     0     0     0     0     0     0     0\n",
      "     0     0     0     0     0     0     0     0     0     0     0     0\n",
      "     0     0     0     0     0     0     0     0     0     0    15     2\n",
      " 16548    16    11  2807     6   364    21    14    97    93     1  2842\n",
      "   365  1293     2    21    39  1104    13  1673     3   803    26    11\n",
      "  9196    21    11  2542    15  2041   120    30    97   136    19    34\n",
      "     6     1     6     1  1926  3595     3     1     3     1   683    35\n",
      "     3     1  2016     6     3   508     2     1  1345  1689  4277    55\n",
      "     4   223    31  5961     2    51    15  9784     8     1   567     6\n",
      "    38   792    18   122   227     3   260   277     1  1739   161    24\n",
      "  1407   144    35     1    65     2     5   690   737    16   255    11\n",
      "   960   577 14595     3  4173     4  1031     3     2   516    33    32\n",
      "     6     1  1966  1357     6     1   364    16     1  4100 11010    15\n",
      "  3807     2    38   273   387 11010   718  3283   163     4   105     1\n",
      "   958   142     2    11     1  2320   768    29   142    74   647     3\n",
      "  3193  1993     2 11010    15  3807     2   301    36    74  1872     4\n",
      "  9875     5  1963     6 11010    15  6297  4773     7   953 17419    15\n",
      "   856     2  5604     3    13    59  3366     4    68    16    37     5\n",
      "    90  2970    39   309  1737     1   683     2] (500,)\n"
     ]
    },
    {
     "name": "stderr",
     "output_type": "stream",
     "text": [
      "2021-12-05 08:36:50.634955: W tensorflow/core/kernels/data/cache_dataset_ops.cc:768] The calling iterator did not fully read the dataset being cached. In order to avoid unexpected truncation of the dataset, the partially cached contents of the dataset  will be discarded. This can happen if you have an input pipeline similar to `dataset.cache().take(k).repeat()`. You should use `dataset.take(k).cache().repeat()` instead.\n"
     ]
    }
   ],
   "source": [
    "data, labels = iter(sequence_datasets1.train_dataset).next()\n",
    "print(data.shape, labels.shape)\n",
    "\n",
    "for i, (item, label) in enumerate(zip(data, labels)):\n",
    "    if i>=5: break\n",
    "    print('-'*40, params.classes[label], '-'*40)\n",
    "    print(item.numpy(), item.shape)"
   ]
  },
  {
   "cell_type": "markdown",
   "metadata": {},
   "source": [
    "### N-gram + Process"
   ]
  },
  {
   "cell_type": "code",
   "execution_count": 21,
   "metadata": {
    "ExecuteTime": {
     "end_time": "2021-12-05T08:42:06.822392Z",
     "start_time": "2021-12-05T08:36:50.666821Z"
    }
   },
   "outputs": [],
   "source": [
    "generator = qtf.classification.LayerGenerator.get_ngram_layer(name='ngram_map', standardize=qtf.text.standardize_tf_text1, \n",
    "                                                        texts=train_texts[0:1000], max_features=params.max_features)\n",
    "ngram_datasets2 = qtf.classification.Datasets(train_texts, train_labels, test_texts, test_labels, \n",
    "                                              generator=generator, batch_size=params.batch_size)"
   ]
  },
  {
   "cell_type": "code",
   "execution_count": 22,
   "metadata": {
    "ExecuteTime": {
     "end_time": "2021-12-05T08:42:06.991960Z",
     "start_time": "2021-12-05T08:42:06.824774Z"
    }
   },
   "outputs": [
    {
     "name": "stdout",
     "output_type": "stream",
     "text": [
      "(32, 20000) (32,)\n",
      "---------------------------------------- Negative ----------------------------------------\n",
      "[856.3619      7.3904395  40.915157  ...   0.          0.\n",
      "   0.       ] (20000,)\n",
      "---------------------------------------- Negative ----------------------------------------\n",
      "[789.6324    14.780879  26.036919 ...   0.         0.         0.      ] (20000,)\n",
      "---------------------------------------- Positive ----------------------------------------\n",
      "[989.82086   22.171318  33.47604  ...   0.         0.         0.      ] (20000,)\n",
      "---------------------------------------- Negative ----------------------------------------\n",
      "[1623.7511     55.428295   26.036919 ...    0.          0.\n",
      "    0.      ] (20000,)\n",
      "---------------------------------------- Negative ----------------------------------------\n",
      "[600.5655    29.561758  22.31736  ...   0.         0.         0.      ] (20000,)\n"
     ]
    },
    {
     "name": "stderr",
     "output_type": "stream",
     "text": [
      "2021-12-05 08:42:06.971796: W tensorflow/core/kernels/data/cache_dataset_ops.cc:768] The calling iterator did not fully read the dataset being cached. In order to avoid unexpected truncation of the dataset, the partially cached contents of the dataset  will be discarded. This can happen if you have an input pipeline similar to `dataset.cache().take(k).repeat()`. You should use `dataset.take(k).cache().repeat()` instead.\n"
     ]
    }
   ],
   "source": [
    "data, labels = iter(ngram_datasets2.train_dataset).next()\n",
    "print(data.shape, labels.shape)\n",
    "\n",
    "for i, (item, label) in enumerate(zip(data, labels)):\n",
    "    if i>=5: break\n",
    "    print('-'*40, params.classes[label], '-'*40)\n",
    "    print(item.numpy(), item.shape)"
   ]
  },
  {
   "cell_type": "markdown",
   "metadata": {},
   "source": [
    "### Sequence + Process"
   ]
  },
  {
   "cell_type": "markdown",
   "metadata": {},
   "source": [
    "![Embedding Layer](images/EmbeddingLayer.png)\n",
    "\n",
    "如上图所示，和N-gram模型不同，Sequence模型并不统计词频，它保持了文本的原始顺序，把其中的每个词汇单独变成一个One-hot向量，然后采用Word embedding的方式生成更加有意义的词向量，最后输出到RNN，CNN等模型中。"
   ]
  },
  {
   "cell_type": "code",
   "execution_count": 23,
   "metadata": {
    "ExecuteTime": {
     "end_time": "2021-12-05T08:42:07.058298Z",
     "start_time": "2021-12-05T08:42:06.993560Z"
    },
    "scrolled": false
   },
   "outputs": [],
   "source": [
    "ngrams = (1, 2)\n",
    "output_mode = 'tf-idf'\n",
    "max_sequence_length = None\n",
    "data = train_texts[0:1000]\n",
    "\n",
    "layer = TextVectorization(\n",
    "            max_tokens=params.max_features, standardize=qtf.text.standardize_tf_text1,\n",
    "            split='whitespace', ngrams=ngrams, output_mode=output_mode,\n",
    "            output_sequence_length=max_sequence_length, pad_to_max_tokens=False,\n",
    "            vocabulary=None\n",
    "        )\n",
    "\n"
   ]
  },
  {
   "cell_type": "code",
   "execution_count": 24,
   "metadata": {
    "ExecuteTime": {
     "end_time": "2021-12-05T08:42:11.005569Z",
     "start_time": "2021-12-05T08:42:07.060182Z"
    }
   },
   "outputs": [],
   "source": [
    "generator = qtf.classification.LayerGenerator.get_sequence_layer(name='sequence_map', \n",
    "                                                       standardize=qtf.text.standardize_tf_text1, \n",
    "                                                       texts=train_texts[0:1000], \n",
    "                                                       max_features=params.max_features,\n",
    "                                                       max_sequence_length=params.sequence_length)\n",
    "sequence_datasets2 = qtf.classification.Datasets(train_texts, train_labels, test_texts, test_labels,   \n",
    "                                                 generator=generator, batch_size=params.batch_size)"
   ]
  },
  {
   "cell_type": "code",
   "execution_count": 25,
   "metadata": {
    "ExecuteTime": {
     "end_time": "2021-12-05T08:42:11.163086Z",
     "start_time": "2021-12-05T08:42:11.007334Z"
    }
   },
   "outputs": [
    {
     "name": "stdout",
     "output_type": "stream",
     "text": [
      "(32, 500) (32,)\n",
      "---------------------------------------- Negative ----------------------------------------\n",
      "[   11     2   771  1936     7     2     1   170     4  2232     5     1\n",
      "  1684  4211     2  2884   129     4     1    35     6  7122   421   182\n",
      "     4     6   361  1196     3    13     3   649     5     2  1168     7\n",
      "  2232    16  5071   580    30  1264    11     2   180     1     3   679\n",
      "     9     6   242  1047   708     4   229     2   532     5   361   259\n",
      "     9     6   195   306  1915     5  1561    17    12    18    11     1\n",
      "  1473     3    13   175     2   457     2 11401    18  1758  2072    24\n",
      "     1    16  8579    17     6  1188     5    29   478    17  4449  6582\n",
      "     3     2   468    11     2   773    23    18     6   195    58  3535\n",
      "     5     1     4    66  2279     6    74    42    14   138     3    89\n",
      "     4     2  3297   924    26    17  3969   122     4  1238     2  2308\n",
      "  1447     7     2  2884   129     1     1   190    26    17   528    46\n",
      "   139     9  1002     7   532    22    27   338    17  3306    14    67\n",
      "     3    35     2    98     4  9671    19     2  4497   651   390    17\n",
      "    12   282    82  2108  2465  8068     3     2   471     1   170     9\n",
      "     2  1766  5275     7   100     1     4    41   903     5   463   702\n",
      "    43     1  8959   110    11   327     3     2    83    31     9     6\n",
      "     1   345     4     2   326     9     6     1     7   532     5   554\n",
      "     5     2   366    56   735    32  4477     3     6     3   440 19152\n",
      "  1532    17  2232     4    60   147   695     1  1037    29   111     6\n",
      "   195   138    11     1  1473     3     0     0     0     0     0     0\n",
      "     0     0     0     0     0     0     0     0     0     0     0     0\n",
      "     0     0     0     0     0     0     0     0     0     0     0     0\n",
      "     0     0     0     0     0     0     0     0     0     0     0     0\n",
      "     0     0     0     0     0     0     0     0     0     0     0     0\n",
      "     0     0     0     0     0     0     0     0     0     0     0     0\n",
      "     0     0     0     0     0     0     0     0     0     0     0     0\n",
      "     0     0     0     0     0     0     0     0     0     0     0     0\n",
      "     0     0     0     0     0     0     0     0     0     0     0     0\n",
      "     0     0     0     0     0     0     0     0     0     0     0     0\n",
      "     0     0     0     0     0     0     0     0     0     0     0     0\n",
      "     0     0     0     0     0     0     0     0     0     0     0     0\n",
      "     0     0     0     0     0     0     0     0     0     0     0     0\n",
      "     0     0     0     0     0     0     0     0     0     0     0     0\n",
      "     0     0     0     0     0     0     0     0     0     0     0     0\n",
      "     0     0     0     0     0     0     0     0     0     0     0     0\n",
      "     0     0     0     0     0     0     0     0     0     0     0     0\n",
      "     0     0     0     0     0     0     0     0     0     0     0     0\n",
      "     0     0     0     0     0     0     0     0     0     0     0     0\n",
      "     0     0     0     0     0     0     0     0     0     0     0     0\n",
      "     0     0     0     0     0     0     0     0     0     0     0     0\n",
      "     0     0     0     0     0     0     0     0] (500,)\n",
      "---------------------------------------- Positive ----------------------------------------\n",
      "[   13   234 10273    25     4    46    28    50   965    11    12     3\n",
      "    22     8   303    12   128     4    13   175  2013     1    24  8982\n",
      "    13   114     3    12    18  1759    12    18     2   217   874     4\n",
      "    22    17    13    71     4    12   253    26     1     3    22   302\n",
      "    98     4    13    33    12     3    13   225    12    18    55     3\n",
      "    13   508     8    71    14  1903    94     7     2    90   293     4\n",
      "  2064     1    13   153   690    68    31    24     2   660  1759     2\n",
      "     1   257    12     9   275     7   424   420     4   374   221   321\n",
      "     8   109    14    23    70    32   331  5538     3   129     4    53\n",
      "     6    55   293     3    10    10     2    74    12    48     6  5110\n",
      "  2830   731    17   894  2064     1    41  6609     8    33     1   597\n",
      "     2  2013     1     3    52    25   100    26   120    53  2013     1\n",
      "    28    47  1091    26   118     2  2605    19    14     5    14     9\n",
      "     2    83   691    25    33   304     4    13   378    26    60   136\n",
      "    53    34    28     3    13   608    12    70    32     6   181   723\n",
      "     7    68    31   619    53    12    18     3    30   630  5767     4\n",
      "    43    30  8673     6   383    41    28    89  2304     4  3408     5\n",
      "  3048  2591   261     1     5     1     1    17    88    17     6     1\n",
      "    15   239    35     2   388     7   393  1123     1  6106     3    30\n",
      "    49     6   812    41   378    26    60   335   278    45   388    94\n",
      "    62    16    40  3411     4    17    62   249     3    43    34  1903\n",
      "   894   551    45  3411   248     3   268   437    51   576     4    22\n",
      "   104    12   453     8    31   181   470     3     6   470    15  2248\n",
      "    50  8322     4  1767     5  9674     3    10    10    46    18    50\n",
      "   133   127    11    12  2687     5     1     4    17    88    17     1\n",
      "     4    76    27    31     7   106     3    46    76    50   144    34\n",
      "   105   146   226   138     5     2   480   105   146    92     6   126\n",
      "   138    17    88     3    50     7     2   480    18   178    55     3\n",
      "     2   724    34   315    19     2   401     5     2   143   169     2\n",
      "   821    18     6    55   830  1023     4    15    16    63   538     3\n",
      "     2   497   141    11     2   143   105   146    92     6   126  1461\n",
      "     5     6   126    58   930     4    22    53    56    25    93    54\n",
      "    31    58   766    24  2687  1947     4    30   291     6  5566     4\n",
      "  7439  5110   129     3    10    10    13   120    14     9     6   691\n",
      "     4    22    13   313     8   109     6     1   854     1     4    31\n",
      "     7     2  2033     1     1     9    27     6 13976     3  1504     8\n",
      "    14  2395     4    62    49    92   127   229     3     8    73     4\n",
      "     5  3467     8   336     4    62     9    88   731    17  6629  7515\n",
      "    16  1007   116   591    11   206     2  1127   644    37   102     3\n",
      "    22    55   691     3    10    10   257    13   114    12    16    31\n",
      "     7     2  1373   107    13   146   118     5    12    16    69    55\n",
      "    66     9   152    13   493    12   379   850] (500,)\n",
      "---------------------------------------- Negative ----------------------------------------\n",
      "[   57   880    99    23     4     2   199   554   144    28   755     3\n",
      "    10    10   232    19     2  1447     7  5161     5  3958   232    19\n",
      "     2   165  2166  1482     7     2  3959     7     2  1653 15280     3\n",
      "     0     0     0     0     0     0     0     0     0     0     0     0\n",
      "     0     0     0     0     0     0     0     0     0     0     0     0\n",
      "     0     0     0     0     0     0     0     0     0     0     0     0\n",
      "     0     0     0     0     0     0     0     0     0     0     0     0\n",
      "     0     0     0     0     0     0     0     0     0     0     0     0\n",
      "     0     0     0     0     0     0     0     0     0     0     0     0\n",
      "     0     0     0     0     0     0     0     0     0     0     0     0\n",
      "     0     0     0     0     0     0     0     0     0     0     0     0\n",
      "     0     0     0     0     0     0     0     0     0     0     0     0\n",
      "     0     0     0     0     0     0     0     0     0     0     0     0\n",
      "     0     0     0     0     0     0     0     0     0     0     0     0\n",
      "     0     0     0     0     0     0     0     0     0     0     0     0\n",
      "     0     0     0     0     0     0     0     0     0     0     0     0\n",
      "     0     0     0     0     0     0     0     0     0     0     0     0\n",
      "     0     0     0     0     0     0     0     0     0     0     0     0\n",
      "     0     0     0     0     0     0     0     0     0     0     0     0\n",
      "     0     0     0     0     0     0     0     0     0     0     0     0\n",
      "     0     0     0     0     0     0     0     0     0     0     0     0\n",
      "     0     0     0     0     0     0     0     0     0     0     0     0\n",
      "     0     0     0     0     0     0     0     0     0     0     0     0\n",
      "     0     0     0     0     0     0     0     0     0     0     0     0\n",
      "     0     0     0     0     0     0     0     0     0     0     0     0\n",
      "     0     0     0     0     0     0     0     0     0     0     0     0\n",
      "     0     0     0     0     0     0     0     0     0     0     0     0\n",
      "     0     0     0     0     0     0     0     0     0     0     0     0\n",
      "     0     0     0     0     0     0     0     0     0     0     0     0\n",
      "     0     0     0     0     0     0     0     0     0     0     0     0\n",
      "     0     0     0     0     0     0     0     0     0     0     0     0\n",
      "     0     0     0     0     0     0     0     0     0     0     0     0\n",
      "     0     0     0     0     0     0     0     0     0     0     0     0\n",
      "     0     0     0     0     0     0     0     0     0     0     0     0\n",
      "     0     0     0     0     0     0     0     0     0     0     0     0\n",
      "     0     0     0     0     0     0     0     0     0     0     0     0\n",
      "     0     0     0     0     0     0     0     0     0     0     0     0\n",
      "     0     0     0     0     0     0     0     0     0     0     0     0\n",
      "     0     0     0     0     0     0     0     0     0     0     0     0\n",
      "     0     0     0     0     0     0     0     0     0     0     0     0\n",
      "     0     0     0     0     0     0     0     0     0     0     0     0\n",
      "     0     0     0     0     0     0     0     0] (500,)\n",
      "---------------------------------------- Positive ----------------------------------------\n",
      "[   14  4394  1105  4174   327 17638  1049   186  3191   886    75    63\n",
      "   110     3     2 15297 12913     4     2   123 17090 18663  2294     5\n",
      "     2  5469  2216  1626     6     1  6479    17     2    74     1     3\n",
      "     2  1108   112    36   287  1044     4    63  5469     4    63 18663\n",
      "  2294     4   252    31     7    65 13700    43  7927     5    88   731\n",
      "     3    59     6  1911  6161   565    24     2 18663    78    28  1174\n",
      "    24     6     1     7 10383     3    36     2    67     2  9739     7\n",
      "  1602  1804     9    61    44   946   555  1269    35     2     1     7\n",
      "     2  1599     3   729  6204     9 16831    81   911   557     3    30\n",
      "  2201    73     7   499 17760  5469    13   131    27   448    59    13\n",
      "    18    38 15297 12914     3    10    10     1     1     5     2  1118\n",
      "  1942    81     1    19    14    88 11960   822    23     3     2   127\n",
      "     1     4     2   144  2570     4    12   137    32  6926  1973   240\n",
      "   135    27   287     8    33    92   344     2   209  1888     3     0\n",
      "     0     0     0     0     0     0     0     0     0     0     0     0\n",
      "     0     0     0     0     0     0     0     0     0     0     0     0\n",
      "     0     0     0     0     0     0     0     0     0     0     0     0\n",
      "     0     0     0     0     0     0     0     0     0     0     0     0\n",
      "     0     0     0     0     0     0     0     0     0     0     0     0\n",
      "     0     0     0     0     0     0     0     0     0     0     0     0\n",
      "     0     0     0     0     0     0     0     0     0     0     0     0\n",
      "     0     0     0     0     0     0     0     0     0     0     0     0\n",
      "     0     0     0     0     0     0     0     0     0     0     0     0\n",
      "     0     0     0     0     0     0     0     0     0     0     0     0\n",
      "     0     0     0     0     0     0     0     0     0     0     0     0\n",
      "     0     0     0     0     0     0     0     0     0     0     0     0\n",
      "     0     0     0     0     0     0     0     0     0     0     0     0\n",
      "     0     0     0     0     0     0     0     0     0     0     0     0\n",
      "     0     0     0     0     0     0     0     0     0     0     0     0\n",
      "     0     0     0     0     0     0     0     0     0     0     0     0\n",
      "     0     0     0     0     0     0     0     0     0     0     0     0\n",
      "     0     0     0     0     0     0     0     0     0     0     0     0\n",
      "     0     0     0     0     0     0     0     0     0     0     0     0\n",
      "     0     0     0     0     0     0     0     0     0     0     0     0\n",
      "     0     0     0     0     0     0     0     0     0     0     0     0\n",
      "     0     0     0     0     0     0     0     0     0     0     0     0\n",
      "     0     0     0     0     0     0     0     0     0     0     0     0\n",
      "     0     0     0     0     0     0     0     0     0     0     0     0\n",
      "     0     0     0     0     0     0     0     0     0     0     0     0\n",
      "     0     0     0     0     0     0     0     0     0     0     0     0\n",
      "     0     0     0     0     0     0     0     0     0     0     0     0\n",
      "     0     0     0     0     0     0     0     0] (500,)\n",
      "---------------------------------------- Negative ----------------------------------------\n",
      "[   31     7     2   260   102    13   146   140   118     3   127    18\n",
      "   404     4   206    19     2   394     5     2  2341     3    82     8\n",
      "    36   112  1171    68     4   126    47    27   221  1327     3     2\n",
      "  1465    18   404     4     5    46    76   101   121   865 10484    48\n",
      "     2    67     7     2   272     2    23    18   317    11     2  1736\n",
      "   141   119    34    44    79    65  3639  2524     4    46    16   644\n",
      "     2  2397     5  3144    11     2  3103    24    65  3639     4     1\n",
      "     5  8183    11     2  3103  5482     4     2   366     7     2   394\n",
      "    11     2 17723    59    12    16   430     8    11     2  3103    39\n",
      "     2  1736  2825     4     5     2  1012     4 19063     4     5     1\n",
      "    39   300    22    27    11     2  3103   374   128    65  3639     3\n",
      "     2   113   127    11     2    21    18   231    40     2  2397     4\n",
      "     1   257     4    46    16     6 11771     7   111    59     2 12929\n",
      "     1   640    15   151     9    59   103   921     4    12 19048   282\n",
      "     1    49  1264     4    30   139  1304   134    12    56   139    32\n",
      "   502     1     4     5   134     2  2438  1405     1    29 12929     1\n",
      "     4   104    12   282     2 12929   171     4     5   104    30   433\n",
      "  1940     3    13   456    12    16    27   167     8    32   527     4\n",
      "   229    12    16    38  1775    21     4    22    12   139   105    32\n",
      "   138     3    27   331   166     4  1921     4    60    19   394     3\n",
      "   251    17    88   108   145    55     4    42     2  3427   732    47\n",
      "  3257    74    52    25   188   167     8    71   262    25   258   333\n",
      "     3     0     0     0     0     0     0     0     0     0     0     0\n",
      "     0     0     0     0     0     0     0     0     0     0     0     0\n",
      "     0     0     0     0     0     0     0     0     0     0     0     0\n",
      "     0     0     0     0     0     0     0     0     0     0     0     0\n",
      "     0     0     0     0     0     0     0     0     0     0     0     0\n",
      "     0     0     0     0     0     0     0     0     0     0     0     0\n",
      "     0     0     0     0     0     0     0     0     0     0     0     0\n",
      "     0     0     0     0     0     0     0     0     0     0     0     0\n",
      "     0     0     0     0     0     0     0     0     0     0     0     0\n",
      "     0     0     0     0     0     0     0     0     0     0     0     0\n",
      "     0     0     0     0     0     0     0     0     0     0     0     0\n",
      "     0     0     0     0     0     0     0     0     0     0     0     0\n",
      "     0     0     0     0     0     0     0     0     0     0     0     0\n",
      "     0     0     0     0     0     0     0     0     0     0     0     0\n",
      "     0     0     0     0     0     0     0     0     0     0     0     0\n",
      "     0     0     0     0     0     0     0     0     0     0     0     0\n",
      "     0     0     0     0     0     0     0     0     0     0     0     0\n",
      "     0     0     0     0     0     0     0     0     0     0     0     0\n",
      "     0     0     0     0     0     0     0     0     0     0     0     0\n",
      "     0     0     0     0     0     0     0     0] (500,)\n"
     ]
    },
    {
     "name": "stderr",
     "output_type": "stream",
     "text": [
      "2021-12-05 08:42:11.140862: W tensorflow/core/kernels/data/cache_dataset_ops.cc:768] The calling iterator did not fully read the dataset being cached. In order to avoid unexpected truncation of the dataset, the partially cached contents of the dataset  will be discarded. This can happen if you have an input pipeline similar to `dataset.cache().take(k).repeat()`. You should use `dataset.take(k).cache().repeat()` instead.\n"
     ]
    }
   ],
   "source": [
    "data, labels = iter(sequence_datasets2.train_dataset).next()\n",
    "print(data.shape, labels.shape)\n",
    "\n",
    "for i, (item, label) in enumerate(zip(data, labels)):\n",
    "    if i>=5: break\n",
    "    print('-'*40, params.classes[label], '-'*40)\n",
    "    print(item.numpy(), item.shape)"
   ]
  },
  {
   "cell_type": "code",
   "execution_count": 26,
   "metadata": {
    "ExecuteTime": {
     "end_time": "2021-12-05T08:43:13.023992Z",
     "start_time": "2021-12-05T08:42:11.166995Z"
    }
   },
   "outputs": [
    {
     "name": "stderr",
     "output_type": "stream",
     "text": [
      "2021-12-05 08:42:11,255: INFO: --------------------------------------------------------------------------------\n",
      "2021-12-05 08:43:12,596: INFO: Loaded 1000000 word vectors. the vector size is 300\n",
      "2021-12-05 08:43:12,636: INFO: embedding_matrix.shape: (19776, 300)\n",
      "2021-12-05 08:43:12,637: INFO: match count: 17746\n",
      "2021-12-05 08:43:12,637: INFO: missing word count: 2030\n"
     ]
    }
   ],
   "source": [
    "vocabulary = generator.layer.get_vocabulary()\n",
    "\n",
    "embedding_files = [params.embedding_paths.fasttext_crawl_300d_2M]\n",
    "embedding_matrix_fasttext = qtf.text.load_embedding_matrix(embedding_files,\n",
    "                                                           vocabulary=vocabulary,\n",
    "                                                           max_features=params.max_features,\n",
    "                                                           max_length=1000000,\n",
    "                                                           ignore_rows=0\n",
    "                                                           )"
   ]
  },
  {
   "cell_type": "markdown",
   "metadata": {},
   "source": [
    "\n",
    "\n",
    "##  模型\n",
    "\n",
    "### MLP"
   ]
  },
  {
   "cell_type": "markdown",
   "metadata": {
    "ExecuteTime": {
     "end_time": "2021-07-21T05:59:42.239566Z",
     "start_time": "2021-07-21T05:59:42.136721Z"
    }
   },
   "source": [
    "#### mp1"
   ]
  },
  {
   "cell_type": "code",
   "execution_count": 27,
   "metadata": {
    "ExecuteTime": {
     "end_time": "2021-12-05T08:44:35.170250Z",
     "start_time": "2021-12-05T08:43:13.029040Z"
    },
    "scrolled": false
   },
   "outputs": [
    {
     "name": "stderr",
     "output_type": "stream",
     "text": [
      "2021-12-05 08:43:13,084: INFO: model_params.mlp1.dropout=0.6\n",
      "2021-12-05 08:43:13,084: INFO: model_params.mlp1.layer_count=1\n",
      "2021-12-05 08:43:13,085: INFO: model_params.mlp1.units=256\n",
      "2021-12-05 08:43:13,127: INFO: output_bias=[-0.69314718 -0.69314718]\n",
      "2021-12-05 08:43:13,134: INFO: learning_rate=0.001\n",
      "2021-12-05 08:43:13,135: INFO: model_params.mlp1.clip_value=None\n",
      "2021-12-05 08:43:13,144: INFO: checkpoint_path=/tf/eipi10/xuxiangwen.github.io/_notes/05-ai/54-tensorflow/text_classification/output/imdb/imdb_0721_p100/mlp1\n",
      "2021-12-05 08:43:13,146: INFO: use ModelCheckpoint(filepath=/tf/eipi10/xuxiangwen.github.io/_notes/05-ai/54-tensorflow/text_classification/output/imdb/imdb_0721_p100/mlp1, monitor=val_accuracy)\n",
      "2021-12-05 08:43:13,147: INFO: use EarlyStopping(monitor=val_accuracy, patience=40)\n",
      "2021-12-05 08:43:13,147: INFO: use ReduceLROnPlateau(monitor=val_loss, factor=0.31622776601683794, patience=15)\n",
      "2021-12-05 08:43:13,148: INFO: use LearningRateScheduler()\n",
      "2021-12-05 08:43:13,148: INFO: steps_per_epoch=None\n",
      "2021-12-05 08:43:13,149: INFO: start training\n",
      "2021-12-05 08:43:13,150: INFO: use_class_weight=False\n"
     ]
    },
    {
     "name": "stdout",
     "output_type": "stream",
     "text": [
      "SparseTensorSpec(TensorShape([32, 20000]), tf.float32)\n",
      "Model: \"mlp1\"\n",
      "_________________________________________________________________\n",
      "Layer (type)                 Output Shape              Param #   \n",
      "=================================================================\n",
      "input_1 (InputLayer)         [(None, 20000)]           0         \n",
      "_________________________________________________________________\n",
      "lambda (Lambda)              (None, 20000)             0         \n",
      "_________________________________________________________________\n",
      "dropout (Dropout)            (None, 20000)             0         \n",
      "_________________________________________________________________\n",
      "dense (Dense)                (None, 256)               5120256   \n",
      "_________________________________________________________________\n",
      "dropout_1 (Dropout)          (None, 256)               0         \n",
      "_________________________________________________________________\n",
      "dense_1 (Dense)              (None, 2)                 514       \n",
      "=================================================================\n",
      "Total params: 5,120,770\n",
      "Trainable params: 5,120,770\n",
      "Non-trainable params: 0\n",
      "_________________________________________________________________\n",
      "Epoch 1/2\n",
      "781/781 [==============================] - 4s 4ms/step - loss: 0.3895 - accuracy: 0.8333 - val_loss: 0.2754 - val_accuracy: 0.8875\n"
     ]
    },
    {
     "name": "stderr",
     "output_type": "stream",
     "text": [
      "2021-12-05 08:43:17.570433: W tensorflow/python/util/util.cc:348] Sets are not currently considered sequences, but this may change in the future, so consider avoiding using them.\n"
     ]
    },
    {
     "name": "stdout",
     "output_type": "stream",
     "text": [
      "INFO:tensorflow:Assets written to: /tf/eipi10/xuxiangwen.github.io/_notes/05-ai/54-tensorflow/text_classification/output/imdb/imdb_0721_p100/mlp1/assets\n"
     ]
    },
    {
     "name": "stderr",
     "output_type": "stream",
     "text": [
      "2021-12-05 08:43:18,179: INFO: Assets written to: /tf/eipi10/xuxiangwen.github.io/_notes/05-ai/54-tensorflow/text_classification/output/imdb/imdb_0721_p100/mlp1/assets\n"
     ]
    },
    {
     "name": "stdout",
     "output_type": "stream",
     "text": [
      "Epoch 2/2\n",
      "781/781 [==============================] - 3s 4ms/step - loss: 0.2601 - accuracy: 0.8914 - val_loss: 0.2678 - val_accuracy: 0.8917\n",
      "INFO:tensorflow:Assets written to: /tf/eipi10/xuxiangwen.github.io/_notes/05-ai/54-tensorflow/text_classification/output/imdb/imdb_0721_p100/mlp1/assets\n"
     ]
    },
    {
     "name": "stderr",
     "output_type": "stream",
     "text": [
      "2021-12-05 08:43:22,615: INFO: Assets written to: /tf/eipi10/xuxiangwen.github.io/_notes/05-ai/54-tensorflow/text_classification/output/imdb/imdb_0721_p100/mlp1/assets\n",
      "2021-12-05 08:43:22,641: INFO: finish training [elapsed time: 9.49 seconds]\n"
     ]
    },
    {
     "data": {
      "image/png": "[encoded data removed]",
      "text/plain": [
       "<Figure size 1152x360 with 2 Axes>"
      ]
     },
     "metadata": {
      "needs_background": "light"
     },
     "output_type": "display_data"
    },
    {
     "name": "stderr",
     "output_type": "stream",
     "text": [
      "2021-12-05 08:43:22,911: INFO: loading model from /tf/eipi10/xuxiangwen.github.io/_notes/05-ai/54-tensorflow/text_classification/output/imdb/imdb_0721_p100/mlp1\n"
     ]
    },
    {
     "name": "stdout",
     "output_type": "stream",
     "text": [
      "load best checkpoint from /tf/eipi10/xuxiangwen.github.io/_notes/05-ai/54-tensorflow/text_classification/output/imdb/imdb_0721_p100/mlp1\n",
      "----------------------------------------evaluate----------------------------------------\n",
      "y_score.shape=(25000, 2)\n",
      "y_true.shape=(25000, 2)\n",
      "len(y_true.shape)=2\n"
     ]
    },
    {
     "name": "stderr",
     "output_type": "stream",
     "text": [
      "2021-12-05 08:44:10,866: INFO: test loss:0.2678\n",
      "2021-12-05 08:44:10,866: INFO: test accuracy:0.8917\n",
      "2021-12-05 08:44:10,867: INFO: save model results into /tf/eipi10/xuxiangwen.github.io/_notes/05-ai/54-tensorflow/text_classification/output/imdb/imdb_0721_p100/results.json\n",
      "2021-12-05 08:44:10,868: INFO: save json to /tf/eipi10/xuxiangwen.github.io/_notes/05-ai/54-tensorflow/text_classification/output/imdb/imdb_0721_p100/results.json\n",
      "2021-12-05 08:44:10,869: INFO: saving generator to /tf/eipi10/xuxiangwen.github.io/_notes/05-ai/54-tensorflow/text_classification/output/imdb/imdb_0721_p100/ngram_preproess.generator\n"
     ]
    },
    {
     "name": "stdout",
     "output_type": "stream",
     "text": [
      "y_score.shape=(25000, 2)\n",
      "y_true.shape=(25000, 2)\n",
      "len(y_true.shape)=2\n",
      "----------------------------------------save model results and generator----------------------------------------\n"
     ]
    },
    {
     "name": "stderr",
     "output_type": "stream",
     "text": [
      "2021-12-05 08:44:11,457: INFO: save object to /tf/eipi10/xuxiangwen.github.io/_notes/05-ai/54-tensorflow/text_classification/output/imdb/imdb_0721_p100/ngram_preproess.generator\n"
     ]
    },
    {
     "name": "stdout",
     "output_type": "stream",
     "text": [
      "----------------------------------------confusion matrix----------------------------------------\n"
     ]
    },
    {
     "data": {
      "image/png": "[encoded data removed]",
      "text/plain": [
       "<Figure size 360x288 with 2 Axes>"
      ]
     },
     "metadata": {
      "needs_background": "light"
     },
     "output_type": "display_data"
    },
    {
     "name": "stdout",
     "output_type": "stream",
     "text": [
      "----------------------------------------sample analysis----------------------------------------\n",
      "<class 'list'>\n",
      "----------------------------------------1. Negative----------------------------------------\n",
      "I went and saw this movie last night after being coaxed to by a few friends of mine. I'll admit that I was reluctant to see it because from what I knew of Ashton Kutcher he was only able to do comedy. I was wrong. Kutcher played the character of Jake Fischer very well, and Kevin Costner played Ben Randall with such professionalism. The sign of a good movie is that it can toy with our emotions. This one did exactly that. The entire theater (which was sold out) was overcome by laughter during the first half of the movie, and were moved to tears during the second half. While exiting the theater I not only saw many women in tears, but many full grown men as well, trying desperately not to let anyone see them crying. This movie was great, and I suggest that you go see it before you judge.\n"
     ]
    },
    {
     "data": {
      "image/png": "[encoded data removed]",
      "text/plain": [
       "<Figure size 201.6x158.4 with 1 Axes>"
      ]
     },
     "metadata": {
      "needs_background": "light"
     },
     "output_type": "display_data"
    },
    {
     "name": "stdout",
     "output_type": "stream",
     "text": [
      "----------------------------------------2. Positive----------------------------------------\n",
      "I went and saw this movie last night after being coaxed to by a few friends of mine. I'll admit that I was reluctant to see it because from what I knew of Ashton Kutcher he was only able to do comedy. I was wrong. Kutcher played the character of Jake Fischer very well, and Kevin Costner played Ben Randall with such professionalism. The sign of a good movie is that it can toy with our emotions. This one did exactly that. The entire theater (which was sold out) was overcome by laughter during the first half of the movie, and were moved to tears during the second half. While exiting the theater I not only saw many women in tears, but many full grown men as well, trying desperately not to let anyone see them crying. This movie was great, and I suggest that you go see it before you judge.\n"
     ]
    },
    {
     "data": {
      "image/png": "[encoded data removed]",
      "text/plain": [
       "<Figure size 201.6x158.4 with 1 Axes>"
      ]
     },
     "metadata": {
      "needs_background": "light"
     },
     "output_type": "display_data"
    },
    {
     "name": "stdout",
     "output_type": "stream",
     "text": [
      "----------------------------------------3. Positive----------------------------------------\n",
      "I went and saw this movie last night after being coaxed to by a few friends of mine. I'll admit that I was reluctant to see it because from what I knew of Ashton Kutcher he was only able to do comedy. I was wrong. Kutcher played the character of Jake Fischer very well, and Kevin Costner played Ben Randall with such professionalism. The sign of a good movie is that it can toy with our emotions. This one did exactly that. The entire theater (which was sold out) was overcome by laughter during the first half of the movie, and were moved to tears during the second half. While exiting the theater I not only saw many women in tears, but many full grown men as well, trying desperately not to let anyone see them crying. This movie was great, and I suggest that you go see it before you judge.\n"
     ]
    },
    {
     "data": {
      "image/png": "[encoded data removed]",
      "text/plain": [
       "<Figure size 201.6x158.4 with 1 Axes>"
      ]
     },
     "metadata": {
      "needs_background": "light"
     },
     "output_type": "display_data"
    },
    {
     "name": "stdout",
     "output_type": "stream",
     "text": [
      "----------------------------------------4. Positive----------------------------------------\n",
      "I went and saw this movie last night after being coaxed to by a few friends of mine. I'll admit that I was reluctant to see it because from what I knew of Ashton Kutcher he was only able to do comedy. I was wrong. Kutcher played the character of Jake Fischer very well, and Kevin Costner played Ben Randall with such professionalism. The sign of a good movie is that it can toy with our emotions. This one did exactly that. The entire theater (which was sold out) was overcome by laughter during the first half of the movie, and were moved to tears during the second half. While exiting the theater I not only saw many women in tears, but many full grown men as well, trying desperately not to let anyone see them crying. This movie was great, and I suggest that you go see it before you judge.\n"
     ]
    },
    {
     "data": {
      "image/png": "[encoded data removed]",
      "text/plain": [
       "<Figure size 201.6x158.4 with 1 Axes>"
      ]
     },
     "metadata": {
      "needs_background": "light"
     },
     "output_type": "display_data"
    },
    {
     "name": "stdout",
     "output_type": "stream",
     "text": [
      "----------------------------------------5. Positive----------------------------------------\n",
      "I went and saw this movie last night after being coaxed to by a few friends of mine. I'll admit that I was reluctant to see it because from what I knew of Ashton Kutcher he was only able to do comedy. I was wrong. Kutcher played the character of Jake Fischer very well, and Kevin Costner played Ben Randall with such professionalism. The sign of a good movie is that it can toy with our emotions. This one did exactly that. The entire theater (which was sold out) was overcome by laughter during the first half of the movie, and were moved to tears during the second half. While exiting the theater I not only saw many women in tears, but many full grown men as well, trying desperately not to let anyone see them crying. This movie was great, and I suggest that you go see it before you judge.\n"
     ]
    },
    {
     "data": {
      "image/png": "[encoded data removed]",
      "text/plain": [
       "<Figure size 201.6x158.4 with 1 Axes>"
      ]
     },
     "metadata": {
      "needs_background": "light"
     },
     "output_type": "display_data"
    },
    {
     "name": "stdout",
     "output_type": "stream",
     "text": [
      "----------------------------------------models----------------------------------------\n"
     ]
    },
    {
     "data": {
      "text/html": [
       "<div>\n",
       "<style scoped>\n",
       "    .dataframe tbody tr th:only-of-type {\n",
       "        vertical-align: middle;\n",
       "    }\n",
       "\n",
       "    .dataframe tbody tr th {\n",
       "        vertical-align: top;\n",
       "    }\n",
       "\n",
       "    .dataframe thead th {\n",
       "        text-align: right;\n",
       "    }\n",
       "</style>\n",
       "<table border=\"1\" class=\"dataframe\">\n",
       "  <thead>\n",
       "    <tr style=\"text-align: right;\">\n",
       "      <th></th>\n",
       "      <th>model_name</th>\n",
       "      <th>program_name</th>\n",
       "      <th>weight_number</th>\n",
       "      <th>train_time</th>\n",
       "      <th>create_time</th>\n",
       "      <th>train_loss</th>\n",
       "      <th>test_loss</th>\n",
       "      <th>train_accuracy</th>\n",
       "      <th>test_accuracy</th>\n",
       "      <th>train_auc</th>\n",
       "      <th>test_auc</th>\n",
       "    </tr>\n",
       "  </thead>\n",
       "  <tbody>\n",
       "    <tr>\n",
       "      <th>1</th>\n",
       "      <td>mlp1</td>\n",
       "      <td>imdb_0721_p100.ipynb</td>\n",
       "      <td>5120770</td>\n",
       "      <td>9.5</td>\n",
       "      <td>2021-12-05 08:44</td>\n",
       "      <td>0.134</td>\n",
       "      <td>0.2678</td>\n",
       "      <td>0.9556</td>\n",
       "      <td>0.8917</td>\n",
       "      <td>0.9915</td>\n",
       "      <td>0.9564</td>\n",
       "    </tr>\n",
       "  </tbody>\n",
       "</table>\n",
       "</div>"
      ],
      "text/plain": [
       "  model_name          program_name  weight_number  train_time  \\\n",
       "1       mlp1  imdb_0721_p100.ipynb        5120770         9.5   \n",
       "\n",
       "        create_time  train_loss  test_loss  train_accuracy  test_accuracy  \\\n",
       "1  2021-12-05 08:44       0.134     0.2678          0.9556         0.8917   \n",
       "\n",
       "   train_auc  test_auc  \n",
       "1     0.9915    0.9564  "
      ]
     },
     "metadata": {},
     "output_type": "display_data"
    }
   ],
   "source": [
    "helper = qtf.classification.Classification(params, datasets=ngram_datasets1, model_results=model_results)\n",
    "model = qtf.classification.text_models.mlp1(helper, name='mlp1')\n",
    "model.summary()\n",
    "history = helper.train(model, epochs=2)\n",
    "helper.model_summary(model, history, show_sample_analysis=True)"
   ]
  },
  {
   "cell_type": "markdown",
   "metadata": {},
   "source": [
    "#### mlp2"
   ]
  },
  {
   "cell_type": "code",
   "execution_count": 28,
   "metadata": {
    "ExecuteTime": {
     "end_time": "2021-12-05T08:46:28.796490Z",
     "start_time": "2021-12-05T08:44:35.171966Z"
    },
    "scrolled": false
   },
   "outputs": [
    {
     "name": "stderr",
     "output_type": "stream",
     "text": [
      "2021-12-05 08:44:35,229: INFO: model_params.mlp2.dropout=0.6\n",
      "2021-12-05 08:44:35,230: INFO: model_params.mlp2.layer_count=1\n",
      "2021-12-05 08:44:35,231: INFO: model_params.mlp2.units=256\n",
      "2021-12-05 08:44:35,249: INFO: output_bias=[-0.69314718 -0.69314718]\n",
      "2021-12-05 08:44:35,256: INFO: learning_rate=0.001\n",
      "2021-12-05 08:44:35,257: INFO: model_params.mlp2.clip_value=None\n",
      "2021-12-05 08:44:35,262: INFO: checkpoint_path=/tf/eipi10/xuxiangwen.github.io/_notes/05-ai/54-tensorflow/text_classification/output/imdb/imdb_0721_p100/mlp2\n",
      "2021-12-05 08:44:35,264: INFO: use ModelCheckpoint(filepath=/tf/eipi10/xuxiangwen.github.io/_notes/05-ai/54-tensorflow/text_classification/output/imdb/imdb_0721_p100/mlp2, monitor=val_accuracy)\n",
      "2021-12-05 08:44:35,265: INFO: use EarlyStopping(monitor=val_accuracy, patience=40)\n",
      "2021-12-05 08:44:35,265: INFO: use ReduceLROnPlateau(monitor=val_loss, factor=0.31622776601683794, patience=15)\n",
      "2021-12-05 08:44:35,266: INFO: use LearningRateScheduler()\n",
      "2021-12-05 08:44:35,266: INFO: steps_per_epoch=None\n",
      "2021-12-05 08:44:35,267: INFO: start training\n",
      "2021-12-05 08:44:35,267: INFO: use_class_weight=False\n"
     ]
    },
    {
     "name": "stdout",
     "output_type": "stream",
     "text": [
      "TensorSpec(shape=(32, 20000), dtype=tf.float32, name=None)\n",
      "Model: \"mlp2\"\n",
      "_________________________________________________________________\n",
      "Layer (type)                 Output Shape              Param #   \n",
      "=================================================================\n",
      "input_2 (InputLayer)         [(None, 20000)]           0         \n",
      "_________________________________________________________________\n",
      "dropout_2 (Dropout)          (None, 20000)             0         \n",
      "_________________________________________________________________\n",
      "dense_2 (Dense)              (None, 256)               5120256   \n",
      "_________________________________________________________________\n",
      "dropout_3 (Dropout)          (None, 256)               0         \n",
      "_________________________________________________________________\n",
      "dense_3 (Dense)              (None, 2)                 514       \n",
      "=================================================================\n",
      "Total params: 5,120,770\n",
      "Trainable params: 5,120,770\n",
      "Non-trainable params: 0\n",
      "_________________________________________________________________\n",
      "Epoch 1/2\n",
      "781/781 [==============================] - 28s 35ms/step - loss: 1.5194 - accuracy: 0.7367 - val_loss: 0.4526 - val_accuracy: 0.8690\n",
      "INFO:tensorflow:Assets written to: /tf/eipi10/xuxiangwen.github.io/_notes/05-ai/54-tensorflow/text_classification/output/imdb/imdb_0721_p100/mlp2/assets\n"
     ]
    },
    {
     "name": "stderr",
     "output_type": "stream",
     "text": [
      "2021-12-05 08:45:03,716: INFO: Assets written to: /tf/eipi10/xuxiangwen.github.io/_notes/05-ai/54-tensorflow/text_classification/output/imdb/imdb_0721_p100/mlp2/assets\n"
     ]
    },
    {
     "name": "stdout",
     "output_type": "stream",
     "text": [
      "Epoch 2/2\n",
      "781/781 [==============================] - 3s 4ms/step - loss: 0.4451 - accuracy: 0.8097 - val_loss: 0.3454 - val_accuracy: 0.8847\n",
      "INFO:tensorflow:Assets written to: /tf/eipi10/xuxiangwen.github.io/_notes/05-ai/54-tensorflow/text_classification/output/imdb/imdb_0721_p100/mlp2/assets\n"
     ]
    },
    {
     "name": "stderr",
     "output_type": "stream",
     "text": [
      "2021-12-05 08:45:07,776: INFO: Assets written to: /tf/eipi10/xuxiangwen.github.io/_notes/05-ai/54-tensorflow/text_classification/output/imdb/imdb_0721_p100/mlp2/assets\n",
      "2021-12-05 08:45:07,802: INFO: finish training [elapsed time: 32.53 seconds]\n"
     ]
    },
    {
     "data": {
      "image/png": "[encoded data removed]",
      "text/plain": [
       "<Figure size 1152x360 with 2 Axes>"
      ]
     },
     "metadata": {
      "needs_background": "light"
     },
     "output_type": "display_data"
    },
    {
     "name": "stderr",
     "output_type": "stream",
     "text": [
      "2021-12-05 08:45:08,062: INFO: loading model from /tf/eipi10/xuxiangwen.github.io/_notes/05-ai/54-tensorflow/text_classification/output/imdb/imdb_0721_p100/mlp2\n"
     ]
    },
    {
     "name": "stdout",
     "output_type": "stream",
     "text": [
      "load best checkpoint from /tf/eipi10/xuxiangwen.github.io/_notes/05-ai/54-tensorflow/text_classification/output/imdb/imdb_0721_p100/mlp2\n",
      "----------------------------------------evaluate----------------------------------------\n",
      "y_score.shape=(25000, 2)\n",
      "y_true.shape=(25000, 2)\n",
      "len(y_true.shape)=2\n"
     ]
    },
    {
     "name": "stderr",
     "output_type": "stream",
     "text": [
      "2021-12-05 08:46:02,584: INFO: test loss:0.3454\n",
      "2021-12-05 08:46:02,584: INFO: test accuracy:0.8847\n",
      "2021-12-05 08:46:02,585: INFO: save model results into /tf/eipi10/xuxiangwen.github.io/_notes/05-ai/54-tensorflow/text_classification/output/imdb/imdb_0721_p100/results.json\n",
      "2021-12-05 08:46:02,586: INFO: save json to /tf/eipi10/xuxiangwen.github.io/_notes/05-ai/54-tensorflow/text_classification/output/imdb/imdb_0721_p100/results.json\n",
      "2021-12-05 08:46:02,587: INFO: saving generator to /tf/eipi10/xuxiangwen.github.io/_notes/05-ai/54-tensorflow/text_classification/output/imdb/imdb_0721_p100/ngram_map.generator\n",
      "2021-12-05 08:46:02,631: INFO: save object to /tf/eipi10/xuxiangwen.github.io/_notes/05-ai/54-tensorflow/text_classification/output/imdb/imdb_0721_p100/ngram_map.pkl\n",
      "2021-12-05 08:46:02,633: INFO: save object to /tf/eipi10/xuxiangwen.github.io/_notes/05-ai/54-tensorflow/text_classification/output/imdb/imdb_0721_p100/ngram_map.generator\n",
      "2021-12-05 08:46:02,633: INFO: loading model from /tf/eipi10/xuxiangwen.github.io/_notes/05-ai/54-tensorflow/text_classification/output/imdb/imdb_0721_p100/mlp1\n"
     ]
    },
    {
     "name": "stdout",
     "output_type": "stream",
     "text": [
      "y_score.shape=(25000, 2)\n",
      "y_true.shape=(25000, 2)\n",
      "len(y_true.shape)=2\n",
      "----------------------------------------save model results and generator----------------------------------------\n",
      "----------------------------------------confusion matrix----------------------------------------\n"
     ]
    },
    {
     "name": "stderr",
     "output_type": "stream",
     "text": [
      "2021-12-05 08:46:03,001: INFO: loading generator from /tf/eipi10/xuxiangwen.github.io/_notes/05-ai/54-tensorflow/text_classification/output/imdb/imdb_0721_p100/ngram_preproess.generator\n"
     ]
    },
    {
     "data": {
      "image/png": "[encoded data removed]",
      "text/plain": [
       "<Figure size 1008x288 with 4 Axes>"
      ]
     },
     "metadata": {
      "needs_background": "light"
     },
     "output_type": "display_data"
    },
    {
     "name": "stdout",
     "output_type": "stream",
     "text": [
      "----------------------------------------models----------------------------------------\n"
     ]
    },
    {
     "data": {
      "text/html": [
       "<div>\n",
       "<style scoped>\n",
       "    .dataframe tbody tr th:only-of-type {\n",
       "        vertical-align: middle;\n",
       "    }\n",
       "\n",
       "    .dataframe tbody tr th {\n",
       "        vertical-align: top;\n",
       "    }\n",
       "\n",
       "    .dataframe thead th {\n",
       "        text-align: right;\n",
       "    }\n",
       "</style>\n",
       "<table border=\"1\" class=\"dataframe\">\n",
       "  <thead>\n",
       "    <tr style=\"text-align: right;\">\n",
       "      <th></th>\n",
       "      <th>model_name</th>\n",
       "      <th>program_name</th>\n",
       "      <th>weight_number</th>\n",
       "      <th>train_time</th>\n",
       "      <th>create_time</th>\n",
       "      <th>train_loss</th>\n",
       "      <th>test_loss</th>\n",
       "      <th>train_accuracy</th>\n",
       "      <th>test_accuracy</th>\n",
       "      <th>train_auc</th>\n",
       "      <th>test_auc</th>\n",
       "    </tr>\n",
       "  </thead>\n",
       "  <tbody>\n",
       "    <tr>\n",
       "      <th>1</th>\n",
       "      <td>mlp1</td>\n",
       "      <td>imdb_0721_p100.ipynb</td>\n",
       "      <td>5120770</td>\n",
       "      <td>9.5</td>\n",
       "      <td>2021-12-05 08:44</td>\n",
       "      <td>0.1340</td>\n",
       "      <td>0.2678</td>\n",
       "      <td>0.9556</td>\n",
       "      <td>0.8917</td>\n",
       "      <td>0.9915</td>\n",
       "      <td>0.9564</td>\n",
       "    </tr>\n",
       "    <tr>\n",
       "      <th>2</th>\n",
       "      <td>mlp2</td>\n",
       "      <td>imdb_0721_p100.ipynb</td>\n",
       "      <td>5120770</td>\n",
       "      <td>32.5</td>\n",
       "      <td>2021-12-05 08:46</td>\n",
       "      <td>0.2888</td>\n",
       "      <td>0.3454</td>\n",
       "      <td>0.9196</td>\n",
       "      <td>0.8847</td>\n",
       "      <td>0.9754</td>\n",
       "      <td>0.9504</td>\n",
       "    </tr>\n",
       "  </tbody>\n",
       "</table>\n",
       "</div>"
      ],
      "text/plain": [
       "  model_name          program_name  weight_number  train_time  \\\n",
       "1       mlp1  imdb_0721_p100.ipynb        5120770         9.5   \n",
       "2       mlp2  imdb_0721_p100.ipynb        5120770        32.5   \n",
       "\n",
       "        create_time  train_loss  test_loss  train_accuracy  test_accuracy  \\\n",
       "1  2021-12-05 08:44      0.1340     0.2678          0.9556         0.8917   \n",
       "2  2021-12-05 08:46      0.2888     0.3454          0.9196         0.8847   \n",
       "\n",
       "   train_auc  test_auc  \n",
       "1     0.9915    0.9564  \n",
       "2     0.9754    0.9504  "
      ]
     },
     "metadata": {},
     "output_type": "display_data"
    }
   ],
   "source": [
    "helper = qtf.classification.Classification(params, datasets=ngram_datasets2, model_results=model_results)\n",
    "model = qtf.classification.text_models.mlp1(helper, name='mlp2')\n",
    "model.summary()\n",
    "history = helper.train(model, epochs=2)\n",
    "helper.model_summary(model, history=history)"
   ]
  },
  {
   "cell_type": "markdown",
   "metadata": {},
   "source": [
    "### Embedding"
   ]
  },
  {
   "cell_type": "markdown",
   "metadata": {},
   "source": [
    "#### embedding1"
   ]
  },
  {
   "cell_type": "code",
   "execution_count": 29,
   "metadata": {
    "ExecuteTime": {
     "end_time": "2021-12-05T08:46:28.867866Z",
     "start_time": "2021-12-05T08:46:28.798800Z"
    },
    "scrolled": false
   },
   "outputs": [
    {
     "ename": "AttributeError",
     "evalue": "module 'qbz95.tf.classification' has no attribute 'models'",
     "output_type": "error",
     "traceback": [
      "\u001b[0;31m---------------------------------------------------------------------------\u001b[0m",
      "\u001b[0;31mAttributeError\u001b[0m                            Traceback (most recent call last)",
      "\u001b[0;32m/tmp/ipykernel_170/1382085468.py\u001b[0m in \u001b[0;36m<module>\u001b[0;34m\u001b[0m\n\u001b[1;32m      1\u001b[0m \u001b[0mhelper\u001b[0m \u001b[0;34m=\u001b[0m \u001b[0mqtf\u001b[0m\u001b[0;34m.\u001b[0m\u001b[0mclassification\u001b[0m\u001b[0;34m.\u001b[0m\u001b[0mClassification\u001b[0m\u001b[0;34m(\u001b[0m\u001b[0mparams\u001b[0m\u001b[0;34m,\u001b[0m \u001b[0mmodel_results\u001b[0m\u001b[0;34m=\u001b[0m\u001b[0mmodel_results\u001b[0m\u001b[0;34m,\u001b[0m \u001b[0mdatasets\u001b[0m\u001b[0;34m=\u001b[0m\u001b[0msequence_datasets1\u001b[0m\u001b[0;34m)\u001b[0m\u001b[0;34m\u001b[0m\u001b[0;34m\u001b[0m\u001b[0m\n\u001b[0;32m----> 2\u001b[0;31m \u001b[0mmodel\u001b[0m \u001b[0;34m=\u001b[0m \u001b[0mqtf\u001b[0m\u001b[0;34m.\u001b[0m\u001b[0mclassification\u001b[0m\u001b[0;34m.\u001b[0m\u001b[0mmodels\u001b[0m\u001b[0;34m.\u001b[0m\u001b[0membedding1\u001b[0m\u001b[0;34m(\u001b[0m\u001b[0mhelper\u001b[0m\u001b[0;34m,\u001b[0m \u001b[0mname\u001b[0m\u001b[0;34m=\u001b[0m\u001b[0;34m'embedding1'\u001b[0m\u001b[0;34m)\u001b[0m\u001b[0;34m\u001b[0m\u001b[0;34m\u001b[0m\u001b[0m\n\u001b[0m\u001b[1;32m      3\u001b[0m \u001b[0mmodel\u001b[0m\u001b[0;34m.\u001b[0m\u001b[0msummary\u001b[0m\u001b[0;34m(\u001b[0m\u001b[0;34m)\u001b[0m\u001b[0;34m\u001b[0m\u001b[0;34m\u001b[0m\u001b[0m\n\u001b[1;32m      4\u001b[0m \u001b[0mhistory\u001b[0m \u001b[0;34m=\u001b[0m \u001b[0mhelper\u001b[0m\u001b[0;34m.\u001b[0m\u001b[0mtrain\u001b[0m\u001b[0;34m(\u001b[0m\u001b[0mmodel\u001b[0m\u001b[0;34m)\u001b[0m\u001b[0;34m\u001b[0m\u001b[0;34m\u001b[0m\u001b[0m\n\u001b[1;32m      5\u001b[0m \u001b[0mhelper\u001b[0m\u001b[0;34m.\u001b[0m\u001b[0mmodel_summary\u001b[0m\u001b[0;34m(\u001b[0m\u001b[0mmodel\u001b[0m\u001b[0;34m,\u001b[0m \u001b[0mhistory\u001b[0m\u001b[0;34m=\u001b[0m\u001b[0mhistory\u001b[0m\u001b[0;34m)\u001b[0m\u001b[0;34m\u001b[0m\u001b[0;34m\u001b[0m\u001b[0m\n",
      "\u001b[0;31mAttributeError\u001b[0m: module 'qbz95.tf.classification' has no attribute 'models'"
     ]
    }
   ],
   "source": [
    "helper = qtf.classification.Classification(params, model_results=model_results, datasets=sequence_datasets1)\n",
    "model = qtf.classification.models.embedding1(helper, name='embedding1')\n",
    "model.summary()\n",
    "history = helper.train(model)\n",
    "helper.model_summary(model, history=history)"
   ]
  },
  {
   "cell_type": "markdown",
   "metadata": {},
   "source": [
    "#### embedding2"
   ]
  },
  {
   "cell_type": "code",
   "execution_count": null,
   "metadata": {
    "ExecuteTime": {
     "end_time": "2021-12-05T08:46:28.870027Z",
     "start_time": "2021-12-05T08:46:28.869996Z"
    },
    "scrolled": false
   },
   "outputs": [],
   "source": [
    "helper = qtf.classification.Classification(params, model_results=model_results, datasets=sequence_datasets2)\n",
    "model = qtf.classification.models.embedding1(helper, name='embedding2')\n",
    "model.summary()\n",
    "history = helper.train(model)\n",
    "helper.model_summary(model, history=history)"
   ]
  },
  {
   "cell_type": "markdown",
   "metadata": {
    "ExecuteTime": {
     "end_time": "2021-07-21T05:25:08.308844Z",
     "start_time": "2021-07-21T05:25:08.202844Z"
    }
   },
   "source": [
    "### sepCNN"
   ]
  },
  {
   "cell_type": "markdown",
   "metadata": {},
   "source": [
    "#### sepcnn"
   ]
  },
  {
   "cell_type": "code",
   "execution_count": null,
   "metadata": {
    "ExecuteTime": {
     "end_time": "2021-12-05T08:46:28.871497Z",
     "start_time": "2021-12-05T08:46:28.871478Z"
    },
    "scrolled": false
   },
   "outputs": [],
   "source": [
    "# helper = qtf.classification.Classification(params, model_results=model_results, datasets=sequence_datasets2)\n",
    "# model = qtf.classification.models.sepcnn1(helper, name='sepcnn', blocks=1)\n",
    "# # when bolcks=2, the model can't converg\n",
    "# model.summary()\n",
    "# history = helper.train(model)\n",
    "# helper.model_summary(model, history=history)"
   ]
  },
  {
   "cell_type": "markdown",
   "metadata": {
    "ExecuteTime": {
     "end_time": "2021-07-21T05:59:42.134388Z",
     "start_time": "2021-07-21T05:59:42.033806Z"
    }
   },
   "source": [
    "#### sepcnn_fasttext"
   ]
  },
  {
   "cell_type": "code",
   "execution_count": null,
   "metadata": {
    "ExecuteTime": {
     "end_time": "2021-12-05T08:46:28.872852Z",
     "start_time": "2021-12-05T08:46:28.872834Z"
    },
    "scrolled": false
   },
   "outputs": [],
   "source": [
    "# helper = qtf.classification.Classification(params, model_results=model_results, datasets=sequence_datasets2)\n",
    "# model = qtf.classification.models.sepcnn1(helper, name='sepcnn_ft', blocks=1, \n",
    "#                    embedding_matrix=embedding_matrix_fasttext,\n",
    "#                    is_embedding_trainable=False)\n",
    "# model.summary()\n",
    "# history = helper.train(model)\n",
    "# helper.model_summary(model, history=history)"
   ]
  },
  {
   "cell_type": "markdown",
   "metadata": {},
   "source": [
    "### LSTM"
   ]
  },
  {
   "cell_type": "markdown",
   "metadata": {},
   "source": [
    "#### rnn_lstm"
   ]
  },
  {
   "cell_type": "code",
   "execution_count": null,
   "metadata": {
    "ExecuteTime": {
     "end_time": "2021-12-05T08:46:28.874173Z",
     "start_time": "2021-12-05T08:46:28.874155Z"
    },
    "scrolled": false
   },
   "outputs": [],
   "source": [
    "helper = qtf.classification.Classification(params, model_results=model_results, datasets=sequence_datasets2)\n",
    "model = qtf.classification.models.lstm1(helper, name='rnn_lstm')\n",
    "model.summary()\n",
    "history = helper.train(model)\n",
    "helper.model_summary(model, history=history)"
   ]
  },
  {
   "cell_type": "markdown",
   "metadata": {},
   "source": [
    "#### rnn_lstm_fasttext"
   ]
  },
  {
   "cell_type": "code",
   "execution_count": null,
   "metadata": {
    "ExecuteTime": {
     "end_time": "2021-12-05T08:46:28.875529Z",
     "start_time": "2021-12-05T08:46:28.875511Z"
    },
    "scrolled": false
   },
   "outputs": [],
   "source": [
    "helper = qtf.classification.Classification(params, model_results=model_results, datasets=sequence_datasets2)\n",
    "model = qtf.classification.models.lstm1(helper, name='rnn_lstm_ft',\n",
    "                 embedding_matrix=embedding_matrix_fasttext,\n",
    "                 is_embedding_trainable=False,\n",
    "                 mask_zero=False)\n",
    "model.summary()\n",
    "history = helper.train(model)\n",
    "helper.model_summary(model, history=history)"
   ]
  },
  {
   "cell_type": "markdown",
   "metadata": {},
   "source": [
    "### Pooled GRU "
   ]
  },
  {
   "cell_type": "markdown",
   "metadata": {},
   "source": [
    "#### pg_default"
   ]
  },
  {
   "cell_type": "code",
   "execution_count": 31,
   "metadata": {
    "ExecuteTime": {
     "end_time": "2021-12-05T08:49:07.048463Z",
     "start_time": "2021-12-05T08:47:00.929433Z"
    },
    "scrolled": false
   },
   "outputs": [
    {
     "name": "stderr",
     "output_type": "stream",
     "text": [
      "2021-12-05 08:47:01,034: INFO: model_params.pg_default.dropout=0.4\n",
      "2021-12-05 08:47:01,035: INFO: model_params.pg_default.learning_rate=0.0005\n",
      "2021-12-05 08:47:01,036: INFO: model_params.pg_default.clip_value=None\n",
      "2021-12-05 08:47:01,036: INFO: batch_size=32\n",
      "2021-12-05 08:47:01,037: INFO: max_features=20000\n",
      "2021-12-05 08:47:01,038: INFO: model_params.pg_default.embedding_dim=300\n",
      "2021-12-05 08:47:01,502: INFO: output_bias=[-0.69314718 -0.69314718]\n",
      "2021-12-05 08:47:01,510: INFO: model_params.pg_default.clip_value=None\n",
      "2021-12-05 08:47:01,515: INFO: checkpoint_path=/tf/eipi10/xuxiangwen.github.io/_notes/05-ai/54-tensorflow/text_classification/output/imdb/imdb_0721_p100/pg_default\n",
      "2021-12-05 08:47:01,517: INFO: use ModelCheckpoint(filepath=/tf/eipi10/xuxiangwen.github.io/_notes/05-ai/54-tensorflow/text_classification/output/imdb/imdb_0721_p100/pg_default, monitor=val_accuracy)\n",
      "2021-12-05 08:47:01,518: INFO: use EarlyStopping(monitor=val_accuracy, patience=40)\n",
      "2021-12-05 08:47:01,519: INFO: use ReduceLROnPlateau(monitor=val_loss, factor=0.31622776601683794, patience=15)\n",
      "2021-12-05 08:47:01,519: INFO: use LearningRateScheduler()\n",
      "2021-12-05 08:47:01,520: INFO: steps_per_epoch=None\n",
      "2021-12-05 08:47:01,520: INFO: start training\n",
      "2021-12-05 08:47:01,521: INFO: use_class_weight=False\n"
     ]
    },
    {
     "name": "stdout",
     "output_type": "stream",
     "text": [
      "Model: \"pg_default\"\n",
      "__________________________________________________________________________________________________\n",
      "Layer (type)                    Output Shape         Param #     Connected to                     \n",
      "==================================================================================================\n",
      "input_3 (InputLayer)            [(None, 500)]        0                                            \n",
      "__________________________________________________________________________________________________\n",
      "embedding (Embedding)           (None, 500, 300)     6000000     input_3[0][0]                    \n",
      "__________________________________________________________________________________________________\n",
      "spatial_dropout1d (SpatialDropo (None, 500, 300)     0           embedding[0][0]                  \n",
      "__________________________________________________________________________________________________\n",
      "bidirectional (Bidirectional)   (None, 500, 160)     183360      spatial_dropout1d[0][0]          \n",
      "__________________________________________________________________________________________________\n",
      "global_average_pooling1d (Globa (None, 160)          0           bidirectional[0][0]              \n",
      "__________________________________________________________________________________________________\n",
      "global_max_pooling1d (GlobalMax (None, 160)          0           bidirectional[0][0]              \n",
      "__________________________________________________________________________________________________\n",
      "concatenate (Concatenate)       (None, 320)          0           global_average_pooling1d[0][0]   \n",
      "                                                                 global_max_pooling1d[0][0]       \n",
      "__________________________________________________________________________________________________\n",
      "dense_4 (Dense)                 (None, 2)            642         concatenate[0][0]                \n",
      "==================================================================================================\n",
      "Total params: 6,184,002\n",
      "Trainable params: 6,184,002\n",
      "Non-trainable params: 0\n",
      "__________________________________________________________________________________________________\n",
      "Epoch 00001: Still keep learning rate 0.0005 instead of 0.001\n"
     ]
    },
    {
     "name": "stderr",
     "output_type": "stream",
     "text": [
      "2021-12-05 08:47:04.113483: I tensorflow/stream_executor/cuda/cuda_dnn.cc:369] Loaded cuDNN version 8100\n"
     ]
    },
    {
     "name": "stdout",
     "output_type": "stream",
     "text": [
      "781/781 [==============================] - 39s 47ms/step - loss: 0.4175 - accuracy: 0.8062 - val_loss: 0.2971 - val_accuracy: 0.8755\n"
     ]
    },
    {
     "name": "stderr",
     "output_type": "stream",
     "text": [
      "2021-12-05 08:47:50,159: WARNING: Found untraced functions such as gru_cell_1_layer_call_fn, gru_cell_1_layer_call_and_return_conditional_losses, gru_cell_2_layer_call_fn, gru_cell_2_layer_call_and_return_conditional_losses, gru_cell_1_layer_call_fn while saving (showing 5 of 10). These functions will not be directly callable after loading.\n"
     ]
    },
    {
     "name": "stdout",
     "output_type": "stream",
     "text": [
      "INFO:tensorflow:Assets written to: /tf/eipi10/xuxiangwen.github.io/_notes/05-ai/54-tensorflow/text_classification/output/imdb/imdb_0721_p100/pg_default/assets\n"
     ]
    },
    {
     "name": "stderr",
     "output_type": "stream",
     "text": [
      "2021-12-05 08:47:52,130: INFO: Assets written to: /tf/eipi10/xuxiangwen.github.io/_notes/05-ai/54-tensorflow/text_classification/output/imdb/imdb_0721_p100/pg_default/assets\n",
      "2021-12-05 08:47:52,459: INFO: finish training [elapsed time: 50.94 seconds]\n"
     ]
    },
    {
     "data": {
      "image/png": "[encoded data removed]",
      "text/plain": [
       "<Figure size 1152x360 with 2 Axes>"
      ]
     },
     "metadata": {
      "needs_background": "light"
     },
     "output_type": "display_data"
    },
    {
     "name": "stderr",
     "output_type": "stream",
     "text": [
      "2021-12-05 08:47:52,722: INFO: loading model from /tf/eipi10/xuxiangwen.github.io/_notes/05-ai/54-tensorflow/text_classification/output/imdb/imdb_0721_p100/pg_default\n"
     ]
    },
    {
     "name": "stdout",
     "output_type": "stream",
     "text": [
      "load best checkpoint from /tf/eipi10/xuxiangwen.github.io/_notes/05-ai/54-tensorflow/text_classification/output/imdb/imdb_0721_p100/pg_default\n",
      "----------------------------------------evaluate----------------------------------------\n"
     ]
    },
    {
     "name": "stderr",
     "output_type": "stream",
     "text": [
      "2021-12-05 08:48:44,123: INFO: test loss:0.2971\n",
      "2021-12-05 08:48:44,124: INFO: test accuracy:0.8755\n",
      "2021-12-05 08:48:44,126: INFO: save model results into /tf/eipi10/xuxiangwen.github.io/_notes/05-ai/54-tensorflow/text_classification/output/imdb/imdb_0721_p100/results.json\n",
      "2021-12-05 08:48:44,127: INFO: save json to /tf/eipi10/xuxiangwen.github.io/_notes/05-ai/54-tensorflow/text_classification/output/imdb/imdb_0721_p100/results.json\n",
      "2021-12-05 08:48:44,127: INFO: saving generator to /tf/eipi10/xuxiangwen.github.io/_notes/05-ai/54-tensorflow/text_classification/output/imdb/imdb_0721_p100/sequence_map.generator\n",
      "2021-12-05 08:48:44,170: INFO: save object to /tf/eipi10/xuxiangwen.github.io/_notes/05-ai/54-tensorflow/text_classification/output/imdb/imdb_0721_p100/sequence_map.pkl\n",
      "2021-12-05 08:48:44,172: INFO: save object to /tf/eipi10/xuxiangwen.github.io/_notes/05-ai/54-tensorflow/text_classification/output/imdb/imdb_0721_p100/sequence_map.generator\n",
      "2021-12-05 08:48:44,172: INFO: loading model from /tf/eipi10/xuxiangwen.github.io/_notes/05-ai/54-tensorflow/text_classification/output/imdb/imdb_0721_p100/mlp1\n"
     ]
    },
    {
     "name": "stdout",
     "output_type": "stream",
     "text": [
      "----------------------------------------save model results and generator----------------------------------------\n",
      "----------------------------------------confusion matrix----------------------------------------\n"
     ]
    },
    {
     "name": "stderr",
     "output_type": "stream",
     "text": [
      "2021-12-05 08:48:44,501: INFO: loading generator from /tf/eipi10/xuxiangwen.github.io/_notes/05-ai/54-tensorflow/text_classification/output/imdb/imdb_0721_p100/ngram_preproess.generator\n"
     ]
    },
    {
     "data": {
      "image/png": "[encoded data removed]",
      "text/plain": [
       "<Figure size 1008x288 with 4 Axes>"
      ]
     },
     "metadata": {
      "needs_background": "light"
     },
     "output_type": "display_data"
    },
    {
     "name": "stdout",
     "output_type": "stream",
     "text": [
      "----------------------------------------models----------------------------------------\n"
     ]
    },
    {
     "data": {
      "text/html": [
       "<div>\n",
       "<style scoped>\n",
       "    .dataframe tbody tr th:only-of-type {\n",
       "        vertical-align: middle;\n",
       "    }\n",
       "\n",
       "    .dataframe tbody tr th {\n",
       "        vertical-align: top;\n",
       "    }\n",
       "\n",
       "    .dataframe thead th {\n",
       "        text-align: right;\n",
       "    }\n",
       "</style>\n",
       "<table border=\"1\" class=\"dataframe\">\n",
       "  <thead>\n",
       "    <tr style=\"text-align: right;\">\n",
       "      <th></th>\n",
       "      <th>model_name</th>\n",
       "      <th>program_name</th>\n",
       "      <th>weight_number</th>\n",
       "      <th>train_time</th>\n",
       "      <th>create_time</th>\n",
       "      <th>train_loss</th>\n",
       "      <th>test_loss</th>\n",
       "      <th>train_accuracy</th>\n",
       "      <th>test_accuracy</th>\n",
       "      <th>train_auc</th>\n",
       "      <th>test_auc</th>\n",
       "    </tr>\n",
       "  </thead>\n",
       "  <tbody>\n",
       "    <tr>\n",
       "      <th>1</th>\n",
       "      <td>mlp1</td>\n",
       "      <td>imdb_0721_p100.ipynb</td>\n",
       "      <td>5120770</td>\n",
       "      <td>9.5</td>\n",
       "      <td>2021-12-05 08:44</td>\n",
       "      <td>0.1340</td>\n",
       "      <td>0.2678</td>\n",
       "      <td>0.9556</td>\n",
       "      <td>0.8917</td>\n",
       "      <td>0.9915</td>\n",
       "      <td>0.9564</td>\n",
       "    </tr>\n",
       "    <tr>\n",
       "      <th>2</th>\n",
       "      <td>mlp2</td>\n",
       "      <td>imdb_0721_p100.ipynb</td>\n",
       "      <td>5120770</td>\n",
       "      <td>32.5</td>\n",
       "      <td>2021-12-05 08:46</td>\n",
       "      <td>0.2888</td>\n",
       "      <td>0.3454</td>\n",
       "      <td>0.9196</td>\n",
       "      <td>0.8847</td>\n",
       "      <td>0.9754</td>\n",
       "      <td>0.9504</td>\n",
       "    </tr>\n",
       "    <tr>\n",
       "      <th>3</th>\n",
       "      <td>pg_default</td>\n",
       "      <td>imdb_0721_p100.ipynb</td>\n",
       "      <td>6184002</td>\n",
       "      <td>50.9</td>\n",
       "      <td>2021-12-05 08:48</td>\n",
       "      <td>0.2285</td>\n",
       "      <td>0.2971</td>\n",
       "      <td>0.9208</td>\n",
       "      <td>0.8755</td>\n",
       "      <td>0.9741</td>\n",
       "      <td>0.9507</td>\n",
       "    </tr>\n",
       "  </tbody>\n",
       "</table>\n",
       "</div>"
      ],
      "text/plain": [
       "   model_name          program_name  weight_number  train_time  \\\n",
       "1        mlp1  imdb_0721_p100.ipynb        5120770         9.5   \n",
       "2        mlp2  imdb_0721_p100.ipynb        5120770        32.5   \n",
       "3  pg_default  imdb_0721_p100.ipynb        6184002        50.9   \n",
       "\n",
       "        create_time  train_loss  test_loss  train_accuracy  test_accuracy  \\\n",
       "1  2021-12-05 08:44      0.1340     0.2678          0.9556         0.8917   \n",
       "2  2021-12-05 08:46      0.2888     0.3454          0.9196         0.8847   \n",
       "3  2021-12-05 08:48      0.2285     0.2971          0.9208         0.8755   \n",
       "\n",
       "   train_auc  test_auc  \n",
       "1     0.9915    0.9564  \n",
       "2     0.9754    0.9504  \n",
       "3     0.9741    0.9507  "
      ]
     },
     "metadata": {},
     "output_type": "display_data"
    }
   ],
   "source": [
    "helper = qtf.classification.Classification(params, model_results=model_results, datasets=sequence_datasets2)\n",
    "model = qtf.classification.text_models.pooled_gru1(helper, name='pg_default')\n",
    "model.summary()\n",
    "history = helper.train(model, epochs=1) \n",
    "helper.model_summary(model, history=history)"
   ]
  },
  {
   "cell_type": "markdown",
   "metadata": {},
   "source": [
    "#### pg_fasttext"
   ]
  },
  {
   "cell_type": "code",
   "execution_count": null,
   "metadata": {
    "ExecuteTime": {
     "end_time": "2021-12-05T08:46:28.878536Z",
     "start_time": "2021-12-05T08:46:28.878517Z"
    },
    "scrolled": false
   },
   "outputs": [],
   "source": [
    "helper = qtf.classification.Classification(params, model_results=model_results, datasets=sequence_datasets2)\n",
    "model = qtf.classification.text_models.pooled_gru1(helper, name='pg_ft', \n",
    "                       embedding_matrix=embedding_matrix_fasttext, \n",
    "                       is_embedding_trainable=False)\n",
    "model.summary()\n",
    "history = helper.train(model, epochs=2)\n",
    "helper.model_summary(model, history=history)"
   ]
  },
  {
   "cell_type": "markdown",
   "metadata": {},
   "source": [
    "## 评估"
   ]
  },
  {
   "cell_type": "markdown",
   "metadata": {
    "ExecuteTime": {
     "end_time": "2021-07-21T07:04:19.365239Z",
     "start_time": "2021-07-21T07:04:19.280940Z"
    }
   },
   "source": [
    "### 最佳模型"
   ]
  },
  {
   "cell_type": "code",
   "execution_count": 32,
   "metadata": {
    "ExecuteTime": {
     "end_time": "2021-12-05T08:55:24.223718Z",
     "start_time": "2021-12-05T08:55:24.138344Z"
    }
   },
   "outputs": [
    {
     "name": "stderr",
     "output_type": "stream",
     "text": [
      "2021-12-05 08:55:24,207: INFO: getting results for /tf/eipi10/xuxiangwen.github.io/_notes/05-ai/54-tensorflow/text_classification/output/imdb\n",
      "2021-12-05 08:55:24,209: INFO: load model results from /tf/eipi10/xuxiangwen.github.io/_notes/05-ai/54-tensorflow/text_classification/output/imdb/imdb_0721_p100/results.json\n"
     ]
    },
    {
     "data": {
      "text/html": [
       "<div>\n",
       "<style scoped>\n",
       "    .dataframe tbody tr th:only-of-type {\n",
       "        vertical-align: middle;\n",
       "    }\n",
       "\n",
       "    .dataframe tbody tr th {\n",
       "        vertical-align: top;\n",
       "    }\n",
       "\n",
       "    .dataframe thead th {\n",
       "        text-align: right;\n",
       "    }\n",
       "</style>\n",
       "<table border=\"1\" class=\"dataframe\">\n",
       "  <thead>\n",
       "    <tr style=\"text-align: right;\">\n",
       "      <th></th>\n",
       "      <th>program_name</th>\n",
       "      <th>model_name</th>\n",
       "      <th>create_time</th>\n",
       "      <th>test_loss</th>\n",
       "      <th>test_accuracy</th>\n",
       "    </tr>\n",
       "  </thead>\n",
       "  <tbody>\n",
       "    <tr>\n",
       "      <th>1</th>\n",
       "      <td>imdb_0721_p100.ipynb</td>\n",
       "      <td>mlp1</td>\n",
       "      <td>2021-12-05 08:44</td>\n",
       "      <td>0.2678</td>\n",
       "      <td>0.8917</td>\n",
       "    </tr>\n",
       "    <tr>\n",
       "      <th>2</th>\n",
       "      <td>imdb_0721_p100.ipynb</td>\n",
       "      <td>mlp2</td>\n",
       "      <td>2021-12-05 08:46</td>\n",
       "      <td>0.3454</td>\n",
       "      <td>0.8847</td>\n",
       "    </tr>\n",
       "    <tr>\n",
       "      <th>3</th>\n",
       "      <td>imdb_0721_p100.ipynb</td>\n",
       "      <td>pg_default</td>\n",
       "      <td>2021-12-05 08:48</td>\n",
       "      <td>0.2971</td>\n",
       "      <td>0.8755</td>\n",
       "    </tr>\n",
       "  </tbody>\n",
       "</table>\n",
       "</div>"
      ],
      "text/plain": [
       "           program_name  model_name       create_time  test_loss  \\\n",
       "1  imdb_0721_p100.ipynb        mlp1  2021-12-05 08:44     0.2678   \n",
       "2  imdb_0721_p100.ipynb        mlp2  2021-12-05 08:46     0.3454   \n",
       "3  imdb_0721_p100.ipynb  pg_default  2021-12-05 08:48     0.2971   \n",
       "\n",
       "   test_accuracy  \n",
       "1         0.8917  \n",
       "2         0.8847  \n",
       "3         0.8755  "
      ]
     },
     "metadata": {},
     "output_type": "display_data"
    }
   ],
   "source": [
    "data_model_results = qtf.classification.DataModelResults(params.data_path) \n",
    "data_model_results.show(10, columns=['program_name', 'model_name', 'create_time', 'test_loss', 'test_accuracy'])"
   ]
  },
  {
   "cell_type": "code",
   "execution_count": 22,
   "metadata": {
    "ExecuteTime": {
     "end_time": "2021-12-06T01:31:03.035768Z",
     "start_time": "2021-12-06T01:30:50.458233Z"
    },
    "scrolled": false
   },
   "outputs": [
    {
     "name": "stderr",
     "output_type": "stream",
     "text": [
      "2021-12-06 01:31:00,265: INFO: save object to ./output/imdb_0721_p100/my.pkl\n"
     ]
    },
    {
     "name": "stdout",
     "output_type": "stream",
     "text": [
      "<PrefetchDataset shapes: (None, 20000), types: tf.float32>\n",
      "(32, 20000)\n",
      "<PrefetchDataset shapes: (None, 20000), types: tf.float32>\n",
      "(32, 20000)\n",
      "==================================================\n",
      "<PrefetchDataset shapes: (None, 20000), types: tf.float32>\n",
      "(32, 20000)\n",
      "WARNING:tensorflow:Compiled the loaded model, but the compiled metrics have yet to be built. `model.compile_metrics` will be empty until you train or evaluate the model.\n"
     ]
    },
    {
     "name": "stderr",
     "output_type": "stream",
     "text": [
      "2021-12-06 01:31:01,344: WARNING: Compiled the loaded model, but the compiled metrics have yet to be built. `model.compile_metrics` will be empty until you train or evaluate the model.\n"
     ]
    },
    {
     "name": "stdout",
     "output_type": "stream",
     "text": [
      "INFO:tensorflow:Assets written to: ./output/imdb_0721_p100/my.layer/assets\n"
     ]
    },
    {
     "name": "stderr",
     "output_type": "stream",
     "text": [
      "2021-12-06 01:31:02,096: INFO: Assets written to: ./output/imdb_0721_p100/my.layer/assets\n"
     ]
    },
    {
     "name": "stdout",
     "output_type": "stream",
     "text": [
      "WARNING:tensorflow:No training configuration found in save file, so the model was *not* compiled. Compile it manually.\n"
     ]
    },
    {
     "name": "stderr",
     "output_type": "stream",
     "text": [
      "2021-12-06 01:31:02,504: WARNING: No training configuration found in save file, so the model was *not* compiled. Compile it manually.\n"
     ]
    },
    {
     "name": "stdout",
     "output_type": "stream",
     "text": [
      "<PrefetchDataset shapes: (None, 20000), types: tf.float32>\n",
      "(32, 20000)\n"
     ]
    }
   ],
   "source": [
    "# from qbz95.tf.classification import save_layer, load_layer, get_ngram_layer, get_sequence_layer\n",
    "\n",
    "def save_layer(layer, layer_path):\n",
    "    if layer_path.endswith('pkl'):\n",
    "        obj = {'config': layer.get_config(),\n",
    "               'weights': layer.get_weights()}\n",
    "        qutils.pickle.ObjectPickle.save(layer_path, obj)\n",
    "    else:\n",
    "        model = tf.keras.models.Sequential()\n",
    "        model.add(tf.keras.layers.Input(shape=(1,), dtype=tf.string))\n",
    "        model.add(layer)\n",
    "        model.save(layer_path, save_format=\"tf\")\n",
    "\n",
    "\n",
    "def load_layer(layer_path):\n",
    "    if layer_path.endswith('pkl'):\n",
    "        obj = qutils.pickle.ObjectPickle.load(layer_path)\n",
    "        layer = tf.keras.layers.TextVectorization.from_config(obj['config'])\n",
    "        layer.set_weights(obj['weights'])\n",
    "    else:\n",
    "        model = tf.keras.models.load_model(layer_path)\n",
    "        layer = model.layers[0]\n",
    "    return layer\n",
    "\n",
    "\n",
    "def get_ngram_layer(standardize, texts, max_features):\n",
    "    ngrams = (1, 2)\n",
    "    output_mode = 'tf-idf'\n",
    "    max_sequence_length = None\n",
    "    return get_tv(standardize, texts, max_features,\n",
    "                  ngrams=ngrams, output_mode=output_mode,\n",
    "                  max_sequence_length=max_sequence_length)\n",
    "\n",
    "\n",
    "def get_sequence_layer(standardize, texts, max_features, max_sequence_length):\n",
    "    ngrams = None\n",
    "    output_mode = 'int'\n",
    "    return get_tv(standardize, texts, max_features,\n",
    "                  ngrams=ngrams, output_mode=output_mode,\n",
    "                  max_sequence_length=max_sequence_length)\n",
    "\n",
    "def test(generator, layer=None):\n",
    "#     dataset = generator(train_texts, labels=None, batch_size=32)\n",
    "    dataset = get_dataset(layer, train_texts, labels=None, batch_size=32)\n",
    "    data = iter(dataset).next()\n",
    "    print(dataset)\n",
    "    print(data.shape)    \n",
    "    return data\n",
    "\n",
    "def map_fun(layer):\n",
    "    def map_(text):\n",
    "        text = tf.expand_dims(text, axis=-1)\n",
    "        return layer(text)[0]\n",
    "    return map_\n",
    "\n",
    "def get_ngram_layer(standardize, texts, max_features):\n",
    "    ngrams = (1, 2)\n",
    "    output_mode = 'tf-idf'\n",
    "    max_sequence_length = None\n",
    "    return get_tv(standardize, texts, max_features,\n",
    "                  ngrams=ngrams, output_mode=output_mode,\n",
    "                  max_sequence_length=max_sequence_length)\n",
    "\n",
    "\n",
    "def get_sequence_layer(standardize, texts, max_features, max_sequence_length):\n",
    "    ngrams = None\n",
    "    output_mode = 'int'\n",
    "    return get_tv(standardize, texts, max_features,\n",
    "                  ngrams=ngrams, output_mode=output_mode,\n",
    "                  max_sequence_length=max_sequence_length)\n",
    "\n",
    "\n",
    "def get_tv(standardize, texts, max_features,\n",
    "           ngrams, output_mode, max_sequence_length):\n",
    "    layer = tf.keras.layers.TextVectorization(\n",
    "        max_tokens=max_features, standardize=standardize,\n",
    "        split='whitespace', ngrams=ngrams, output_mode=output_mode,\n",
    "        output_sequence_length=max_sequence_length, pad_to_max_tokens=False,\n",
    "        vocabulary=None\n",
    "    )\n",
    "    text_dataset = tf.data.Dataset.from_tensor_slices(texts)\n",
    "    layer.adapt(text_dataset)\n",
    "    return layer\n",
    "\n",
    "def get_dataset(layer, data, labels, use_shuffle=False, batch_size=None, drop_remainder=False, use_cache=True):\n",
    "    def map_(text):\n",
    "        text = tf.expand_dims(text, axis=-1)\n",
    "        return layer(text)[0]\n",
    "    \n",
    "    dataset = tf.data.Dataset.from_tensor_slices((data,))\n",
    "    dataset = dataset.map(lambda x: map_(x))\n",
    "    dataset = dataset.batch(batch_size, drop_remainder=drop_remainder)\n",
    "    dataset = dataset.cache().prefetch(buffer_size=tf.data.AUTOTUNE) \n",
    "    \n",
    "#     if labels is None:\n",
    "#         dataset = tf.data.Dataset.from_tensor_slices((data,))\n",
    "#     else:\n",
    "#         dataset = tf.data.Dataset.from_tensor_slices((data, labels))\n",
    "#     if use_shuffle and labels is not None:\n",
    "#         dataset = dataset.shuffle(len(labels), reshuffle_each_iteration=True)\n",
    "\n",
    "#     if labels is None:\n",
    "#         dataset = dataset.map(lambda x: map_(x))\n",
    "#     else:\n",
    "#         dataset = dataset.map(lambda x, y: (map_(x), y))\n",
    "\n",
    "#     if batch_size is not None:\n",
    "#         dataset = dataset.batch(batch_size, drop_remainder=drop_remainder)\n",
    "#     if use_cache:\n",
    "#         dataset = dataset.cache().prefetch(buffer_size=tf.data.AUTOTUNE)  \n",
    "    return dataset\n",
    "    \n",
    "# generator = qtf.classification.LayerGenerator.get_ngram_layer(name='ngram_map', \n",
    "#                                                               standardize=qtf.text.standardize_tf_text1, \n",
    "#                                                               texts=train_texts[0:1000], \n",
    "#                                                               max_features=params.max_features)\n",
    "layer = get_ngram_layer(standardize=qtf.text.standardize_tf_text1, \n",
    "                                           texts=train_texts[0:1000], \n",
    "                                           max_features=params.max_features)\n",
    "layer_save_format='.pkl'\n",
    "data1 = test(generator, layer)\n",
    "# generator_path = './output/imdb_0721_p100/my.generator'\n",
    "# generator.before_pickle(generator_path)\n",
    "# generator.after_pickle(generator_path)\n",
    "\n",
    "layer_path= './output/imdb_0721_p100/my' + layer_save_format\n",
    "save_layer(layer, layer_path)\n",
    "layer = load_layer(layer_path)\n",
    "\n",
    "data2 = test(generator, layer)\n",
    "np.testing.assert_allclose(data1, data2)\n",
    "\n",
    "\n",
    "print(\"=\"*50)\n",
    "layer_save_format='.layer'\n",
    "data1 = test(generator, layer)\n",
    "# generator_path = './output/imdb_0721_p100/my.generator'\n",
    "# generator.before_pickle(generator_path)\n",
    "# generator.after_pickle(generator_path)\n",
    "\n",
    "layer_path= './output/imdb_0721_p100/my' + layer_save_format\n",
    "save_layer(layer, layer_path)\n",
    "layer = load_layer(layer_path)\n",
    "\n",
    "data2 = test(generator, layer)\n",
    "np.testing.assert_allclose(data1, data2)"
   ]
  },
  {
   "cell_type": "code",
   "execution_count": 21,
   "metadata": {
    "ExecuteTime": {
     "end_time": "2021-12-06T01:28:52.962095Z",
     "start_time": "2021-12-06T01:28:46.160541Z"
    },
    "scrolled": false
   },
   "outputs": [
    {
     "name": "stderr",
     "output_type": "stream",
     "text": [
      "2021-12-06 01:28:52,480: INFO: save object to ./output/imdb_0721_p100/my.pkl\n"
     ]
    },
    {
     "name": "stdout",
     "output_type": "stream",
     "text": [
      "<PrefetchDataset shapes: (None, 500), types: tf.int64>\n",
      "(32, 500)\n"
     ]
    },
    {
     "ename": "InvalidArgumentError",
     "evalue": "Cannot add tensor to the batch: number of elements does not match. Shapes are: [tensor]: [151], [batch]: [420] [Op:IteratorGetNext]",
     "output_type": "error",
     "traceback": [
      "\u001b[0;31m\u001b[0m",
      "\u001b[0;31mInvalidArgumentError\u001b[0mTraceback (most recent call last)",
      "\u001b[0;32m<ipython-input-21-21745374a7f3>\u001b[0m in \u001b[0;36m<module>\u001b[0;34m\u001b[0m\n\u001b[1;32m     18\u001b[0m \u001b[0mlayer\u001b[0m \u001b[0;34m=\u001b[0m \u001b[0mload_layer\u001b[0m\u001b[0;34m(\u001b[0m\u001b[0mlayer_path\u001b[0m\u001b[0;34m)\u001b[0m\u001b[0;34m\u001b[0m\u001b[0;34m\u001b[0m\u001b[0m\n\u001b[1;32m     19\u001b[0m \u001b[0;34m\u001b[0m\u001b[0m\n\u001b[0;32m---> 20\u001b[0;31m \u001b[0mdata2\u001b[0m \u001b[0;34m=\u001b[0m \u001b[0mtest\u001b[0m\u001b[0;34m(\u001b[0m\u001b[0mgenerator\u001b[0m\u001b[0;34m,\u001b[0m \u001b[0mlayer\u001b[0m\u001b[0;34m)\u001b[0m\u001b[0;34m\u001b[0m\u001b[0;34m\u001b[0m\u001b[0m\n\u001b[0m\u001b[1;32m     21\u001b[0m \u001b[0mnp\u001b[0m\u001b[0;34m.\u001b[0m\u001b[0mtesting\u001b[0m\u001b[0;34m.\u001b[0m\u001b[0massert_allclose\u001b[0m\u001b[0;34m(\u001b[0m\u001b[0mdata1\u001b[0m\u001b[0;34m,\u001b[0m \u001b[0mdata2\u001b[0m\u001b[0;34m)\u001b[0m\u001b[0;34m\u001b[0m\u001b[0;34m\u001b[0m\u001b[0m\n\u001b[1;32m     22\u001b[0m \u001b[0;34m\u001b[0m\u001b[0m\n",
      "\u001b[0;32m<ipython-input-20-952092259191>\u001b[0m in \u001b[0;36mtest\u001b[0;34m(generator, layer)\u001b[0m\n\u001b[1;32m     43\u001b[0m \u001b[0;31m#     dataset = generator(train_texts, labels=None, batch_size=32)\u001b[0m\u001b[0;34m\u001b[0m\u001b[0;34m\u001b[0m\u001b[0;34m\u001b[0m\u001b[0m\n\u001b[1;32m     44\u001b[0m     \u001b[0mdataset\u001b[0m \u001b[0;34m=\u001b[0m \u001b[0mget_dataset\u001b[0m\u001b[0;34m(\u001b[0m\u001b[0mlayer\u001b[0m\u001b[0;34m,\u001b[0m \u001b[0mtrain_texts\u001b[0m\u001b[0;34m,\u001b[0m \u001b[0mlabels\u001b[0m\u001b[0;34m=\u001b[0m\u001b[0;32mNone\u001b[0m\u001b[0;34m,\u001b[0m \u001b[0mbatch_size\u001b[0m\u001b[0;34m=\u001b[0m\u001b[0;36m32\u001b[0m\u001b[0;34m)\u001b[0m\u001b[0;34m\u001b[0m\u001b[0;34m\u001b[0m\u001b[0m\n\u001b[0;32m---> 45\u001b[0;31m     \u001b[0mdata\u001b[0m \u001b[0;34m=\u001b[0m \u001b[0miter\u001b[0m\u001b[0;34m(\u001b[0m\u001b[0mdataset\u001b[0m\u001b[0;34m)\u001b[0m\u001b[0;34m.\u001b[0m\u001b[0mnext\u001b[0m\u001b[0;34m(\u001b[0m\u001b[0;34m)\u001b[0m\u001b[0;34m\u001b[0m\u001b[0;34m\u001b[0m\u001b[0m\n\u001b[0m\u001b[1;32m     46\u001b[0m     \u001b[0mprint\u001b[0m\u001b[0;34m(\u001b[0m\u001b[0mdataset\u001b[0m\u001b[0;34m)\u001b[0m\u001b[0;34m\u001b[0m\u001b[0;34m\u001b[0m\u001b[0m\n\u001b[1;32m     47\u001b[0m     \u001b[0mprint\u001b[0m\u001b[0;34m(\u001b[0m\u001b[0mdata\u001b[0m\u001b[0;34m.\u001b[0m\u001b[0mshape\u001b[0m\u001b[0;34m)\u001b[0m\u001b[0;34m\u001b[0m\u001b[0;34m\u001b[0m\u001b[0m\n",
      "\u001b[0;32m/usr/local/lib/python3.8/dist-packages/tensorflow/python/data/ops/iterator_ops.py\u001b[0m in \u001b[0;36mnext\u001b[0;34m(self)\u001b[0m\n\u001b[1;32m    759\u001b[0m \u001b[0;34m\u001b[0m\u001b[0m\n\u001b[1;32m    760\u001b[0m   \u001b[0;32mdef\u001b[0m \u001b[0mnext\u001b[0m\u001b[0;34m(\u001b[0m\u001b[0mself\u001b[0m\u001b[0;34m)\u001b[0m\u001b[0;34m:\u001b[0m  \u001b[0;31m# For Python 2 compatibility\u001b[0m\u001b[0;34m\u001b[0m\u001b[0;34m\u001b[0m\u001b[0m\n\u001b[0;32m--> 761\u001b[0;31m     \u001b[0;32mreturn\u001b[0m \u001b[0mself\u001b[0m\u001b[0;34m.\u001b[0m\u001b[0m__next__\u001b[0m\u001b[0;34m(\u001b[0m\u001b[0;34m)\u001b[0m\u001b[0;34m\u001b[0m\u001b[0;34m\u001b[0m\u001b[0m\n\u001b[0m\u001b[1;32m    762\u001b[0m \u001b[0;34m\u001b[0m\u001b[0m\n\u001b[1;32m    763\u001b[0m   \u001b[0;32mdef\u001b[0m \u001b[0m_next_internal\u001b[0m\u001b[0;34m(\u001b[0m\u001b[0mself\u001b[0m\u001b[0;34m)\u001b[0m\u001b[0;34m:\u001b[0m\u001b[0;34m\u001b[0m\u001b[0;34m\u001b[0m\u001b[0m\n",
      "\u001b[0;32m/usr/local/lib/python3.8/dist-packages/tensorflow/python/data/ops/iterator_ops.py\u001b[0m in \u001b[0;36m__next__\u001b[0;34m(self)\u001b[0m\n\u001b[1;32m    798\u001b[0m   \u001b[0;32mdef\u001b[0m \u001b[0m__next__\u001b[0m\u001b[0;34m(\u001b[0m\u001b[0mself\u001b[0m\u001b[0;34m)\u001b[0m\u001b[0;34m:\u001b[0m\u001b[0;34m\u001b[0m\u001b[0;34m\u001b[0m\u001b[0m\n\u001b[1;32m    799\u001b[0m     \u001b[0;32mtry\u001b[0m\u001b[0;34m:\u001b[0m\u001b[0;34m\u001b[0m\u001b[0;34m\u001b[0m\u001b[0m\n\u001b[0;32m--> 800\u001b[0;31m       \u001b[0;32mreturn\u001b[0m \u001b[0mself\u001b[0m\u001b[0;34m.\u001b[0m\u001b[0m_next_internal\u001b[0m\u001b[0;34m(\u001b[0m\u001b[0;34m)\u001b[0m\u001b[0;34m\u001b[0m\u001b[0;34m\u001b[0m\u001b[0m\n\u001b[0m\u001b[1;32m    801\u001b[0m     \u001b[0;32mexcept\u001b[0m \u001b[0merrors\u001b[0m\u001b[0;34m.\u001b[0m\u001b[0mOutOfRangeError\u001b[0m\u001b[0;34m:\u001b[0m\u001b[0;34m\u001b[0m\u001b[0;34m\u001b[0m\u001b[0m\n\u001b[1;32m    802\u001b[0m       \u001b[0;32mraise\u001b[0m \u001b[0mStopIteration\u001b[0m\u001b[0;34m\u001b[0m\u001b[0;34m\u001b[0m\u001b[0m\n",
      "\u001b[0;32m/usr/local/lib/python3.8/dist-packages/tensorflow/python/data/ops/iterator_ops.py\u001b[0m in \u001b[0;36m_next_internal\u001b[0;34m(self)\u001b[0m\n\u001b[1;32m    781\u001b[0m     \u001b[0;31m# to communicate that there is no more data to iterate over.\u001b[0m\u001b[0;34m\u001b[0m\u001b[0;34m\u001b[0m\u001b[0;34m\u001b[0m\u001b[0m\n\u001b[1;32m    782\u001b[0m     \u001b[0;32mwith\u001b[0m \u001b[0mcontext\u001b[0m\u001b[0;34m.\u001b[0m\u001b[0mexecution_mode\u001b[0m\u001b[0;34m(\u001b[0m\u001b[0mcontext\u001b[0m\u001b[0;34m.\u001b[0m\u001b[0mSYNC\u001b[0m\u001b[0;34m)\u001b[0m\u001b[0;34m:\u001b[0m\u001b[0;34m\u001b[0m\u001b[0;34m\u001b[0m\u001b[0m\n\u001b[0;32m--> 783\u001b[0;31m       ret = gen_dataset_ops.iterator_get_next(\n\u001b[0m\u001b[1;32m    784\u001b[0m           \u001b[0mself\u001b[0m\u001b[0;34m.\u001b[0m\u001b[0m_iterator_resource\u001b[0m\u001b[0;34m,\u001b[0m\u001b[0;34m\u001b[0m\u001b[0;34m\u001b[0m\u001b[0m\n\u001b[1;32m    785\u001b[0m           \u001b[0moutput_types\u001b[0m\u001b[0;34m=\u001b[0m\u001b[0mself\u001b[0m\u001b[0;34m.\u001b[0m\u001b[0m_flat_output_types\u001b[0m\u001b[0;34m,\u001b[0m\u001b[0;34m\u001b[0m\u001b[0;34m\u001b[0m\u001b[0m\n",
      "\u001b[0;32m/usr/local/lib/python3.8/dist-packages/tensorflow/python/ops/gen_dataset_ops.py\u001b[0m in \u001b[0;36miterator_get_next\u001b[0;34m(iterator, output_types, output_shapes, name)\u001b[0m\n\u001b[1;32m   2843\u001b[0m       \u001b[0;32mreturn\u001b[0m \u001b[0m_result\u001b[0m\u001b[0;34m\u001b[0m\u001b[0;34m\u001b[0m\u001b[0m\n\u001b[1;32m   2844\u001b[0m     \u001b[0;32mexcept\u001b[0m \u001b[0m_core\u001b[0m\u001b[0;34m.\u001b[0m\u001b[0m_NotOkStatusException\u001b[0m \u001b[0;32mas\u001b[0m \u001b[0me\u001b[0m\u001b[0;34m:\u001b[0m\u001b[0;34m\u001b[0m\u001b[0;34m\u001b[0m\u001b[0m\n\u001b[0;32m-> 2845\u001b[0;31m       \u001b[0m_ops\u001b[0m\u001b[0;34m.\u001b[0m\u001b[0mraise_from_not_ok_status\u001b[0m\u001b[0;34m(\u001b[0m\u001b[0me\u001b[0m\u001b[0;34m,\u001b[0m \u001b[0mname\u001b[0m\u001b[0;34m)\u001b[0m\u001b[0;34m\u001b[0m\u001b[0;34m\u001b[0m\u001b[0m\n\u001b[0m\u001b[1;32m   2846\u001b[0m     \u001b[0;32mexcept\u001b[0m \u001b[0m_core\u001b[0m\u001b[0;34m.\u001b[0m\u001b[0m_FallbackException\u001b[0m\u001b[0;34m:\u001b[0m\u001b[0;34m\u001b[0m\u001b[0;34m\u001b[0m\u001b[0m\n\u001b[1;32m   2847\u001b[0m       \u001b[0;32mpass\u001b[0m\u001b[0;34m\u001b[0m\u001b[0;34m\u001b[0m\u001b[0m\n",
      "\u001b[0;32m/usr/local/lib/python3.8/dist-packages/tensorflow/python/framework/ops.py\u001b[0m in \u001b[0;36mraise_from_not_ok_status\u001b[0;34m(e, name)\u001b[0m\n\u001b[1;32m   7105\u001b[0m \u001b[0;32mdef\u001b[0m \u001b[0mraise_from_not_ok_status\u001b[0m\u001b[0;34m(\u001b[0m\u001b[0me\u001b[0m\u001b[0;34m,\u001b[0m \u001b[0mname\u001b[0m\u001b[0;34m)\u001b[0m\u001b[0;34m:\u001b[0m\u001b[0;34m\u001b[0m\u001b[0;34m\u001b[0m\u001b[0m\n\u001b[1;32m   7106\u001b[0m   \u001b[0me\u001b[0m\u001b[0;34m.\u001b[0m\u001b[0mmessage\u001b[0m \u001b[0;34m+=\u001b[0m \u001b[0;34m(\u001b[0m\u001b[0;34m\" name: \"\u001b[0m \u001b[0;34m+\u001b[0m \u001b[0mname\u001b[0m \u001b[0;32mif\u001b[0m \u001b[0mname\u001b[0m \u001b[0;32mis\u001b[0m \u001b[0;32mnot\u001b[0m \u001b[0;32mNone\u001b[0m \u001b[0;32melse\u001b[0m \u001b[0;34m\"\"\u001b[0m\u001b[0;34m)\u001b[0m\u001b[0;34m\u001b[0m\u001b[0;34m\u001b[0m\u001b[0m\n\u001b[0;32m-> 7107\u001b[0;31m   \u001b[0;32mraise\u001b[0m \u001b[0mcore\u001b[0m\u001b[0;34m.\u001b[0m\u001b[0m_status_to_exception\u001b[0m\u001b[0;34m(\u001b[0m\u001b[0me\u001b[0m\u001b[0;34m)\u001b[0m \u001b[0;32mfrom\u001b[0m \u001b[0;32mNone\u001b[0m  \u001b[0;31m# pylint: disable=protected-access\u001b[0m\u001b[0;34m\u001b[0m\u001b[0;34m\u001b[0m\u001b[0m\n\u001b[0m\u001b[1;32m   7108\u001b[0m \u001b[0;34m\u001b[0m\u001b[0m\n\u001b[1;32m   7109\u001b[0m \u001b[0;34m\u001b[0m\u001b[0m\n",
      "\u001b[0;31mInvalidArgumentError\u001b[0m: Cannot add tensor to the batch: number of elements does not match. Shapes are: [tensor]: [151], [batch]: [420] [Op:IteratorGetNext]"
     ]
    }
   ],
   "source": [
    "# generator = qtf.classification.LayerGenerator.get_sequence_layer(name='sequence_map', \n",
    "#                                                                  standardize=qtf.text.standardize_tf_text1, \n",
    "#                                                                  texts=train_texts[0:1000], \n",
    "#                                                                  max_features=params.max_features,\n",
    "#                                                                  max_sequence_length=params.sequence_length)\n",
    "layer = get_sequence_layer(standardize=qtf.text.standardize_tf_text1, \n",
    "                                              texts=train_texts[0:1000], \n",
    "                                              max_features=params.max_features,\n",
    "                                              max_sequence_length=params.sequence_length)\n",
    "generator.layer_save_format='.pkl'\n",
    "data1 = test(generator, layer)\n",
    "# generator_path = './output/imdb_0721_p100/my.generator'\n",
    "# generator.before_pickle(generator_path)\n",
    "# generator.after_pickle(generator_path)\n",
    "\n",
    "layer_path= './output/imdb_0721_p100/my' + generator.layer_save_format\n",
    "save_layer(layer, layer_path)\n",
    "layer = load_layer(layer_path)\n",
    "\n",
    "data2 = test(generator, layer)\n",
    "np.testing.assert_allclose(data1, data2)\n",
    "\n",
    "\n",
    "print(\"=\"*50)\n",
    "generator.layer_save_format='.layer'\n",
    "data1 = test(generator, layer)\n",
    "# generator_path = './output/imdb_0721_p100/my.generator'\n",
    "# generator.before_pickle(generator_path)\n",
    "# generator.after_pickle(generator_path)\n",
    "\n",
    "layer_path= './output/imdb_0721_p100/my' + generator.layer_save_format\n",
    "save_layer(layer, layer_path)\n",
    "layer = load_layer(layer_path)\n",
    "\n",
    "data2 = test(generator, layer)\n",
    "np.testing.assert_allclose(data1, data2)"
   ]
  },
  {
   "cell_type": "code",
   "execution_count": null,
   "metadata": {
    "ExecuteTime": {
     "end_time": "2021-12-05T08:46:28.886718Z",
     "start_time": "2021-12-05T08:46:28.886699Z"
    },
    "scrolled": false
   },
   "outputs": [],
   "source": [
    "predictors = qtf.classification.Predictor.get_top_n_predictors(5, data_model_results)\n",
    "helper = qtf.classification.Classification(params, model_results=model_results, datasets=sequence_datasets2)\n",
    "print(len(helper.datasets.train_data), len(helper.datasets.train_labels))\n",
    "print(helper.datasets.train_data[0:2])\n",
    "print(helper.datasets.train_labels[0:2])\n",
    "\n",
    "predictor = predictors[0]\n",
    "train_result = predictor.evaluate(helper.datasets.train_data, helper.datasets.train_labels)\n",
    "train_result"
   ]
  },
  {
   "cell_type": "code",
   "execution_count": null,
   "metadata": {
    "ExecuteTime": {
     "end_time": "2021-12-05T08:46:28.887941Z",
     "start_time": "2021-12-05T08:46:28.887922Z"
    },
    "code_folding": [],
    "scrolled": false
   },
   "outputs": [],
   "source": [
    "for predictor in predictors:\n",
    "    print('-'*50)\n",
    "#     print(predictor.model.summary())\n",
    "    try:\n",
    "        train_result = predictor.evaluate(helper.datasets.train_data, self.datasets.train_labels)\n",
    "#         print(predictor.predict(train_texts[1:3]))\n",
    "    except Exception as e:\n",
    "        print(e)"
   ]
  },
  {
   "cell_type": "code",
   "execution_count": null,
   "metadata": {
    "ExecuteTime": {
     "end_time": "2021-12-05T08:46:28.889311Z",
     "start_time": "2021-12-05T08:46:28.889292Z"
    },
    "scrolled": false
   },
   "outputs": [],
   "source": [
    "\n",
    "\n",
    "best_predictor = predictors[0]\n",
    "best_predictor.model.compile(optimizer=optimizers.Adam(learning_rate=params.learning_rate),\n",
    "                        loss=losses.SparseCategoricalCrossentropy(from_logits=True),\n",
    "                        metrics=['accuracy', 'mae'])\n",
    "\n",
    "qtf.utils.plot_model_structure(best_predictor.model)"
   ]
  },
  {
   "cell_type": "code",
   "execution_count": null,
   "metadata": {
    "ExecuteTime": {
     "end_time": "2021-12-05T08:46:28.890595Z",
     "start_time": "2021-12-05T08:46:28.890576Z"
    }
   },
   "outputs": [],
   "source": [
    "predictor = predictors[0]\n",
    "predictor.generator.layer(train_texts[0:128]).shape"
   ]
  },
  {
   "cell_type": "code",
   "execution_count": null,
   "metadata": {
    "ExecuteTime": {
     "end_time": "2021-12-05T08:46:28.891841Z",
     "start_time": "2021-12-05T08:46:28.891822Z"
    },
    "scrolled": false
   },
   "outputs": [],
   "source": [
    "qtf.utils.plot_sample_text_analysis(predictors, test_texts, test_labels,\n",
    "                                    sample_count=5, show_error_sample=False) "
   ]
  },
  {
   "cell_type": "code",
   "execution_count": null,
   "metadata": {
    "ExecuteTime": {
     "end_time": "2021-12-05T08:46:28.893068Z",
     "start_time": "2021-12-05T08:46:28.893050Z"
    },
    "scrolled": false
   },
   "outputs": [],
   "source": [
    "qtf.utils.plot_sample_text_analysis(predictors, test_texts, test_labels,\n",
    "                                    sample_count=5, show_error_sample=True) "
   ]
  },
  {
   "cell_type": "markdown",
   "metadata": {},
   "source": [
    "### 评估"
   ]
  },
  {
   "cell_type": "code",
   "execution_count": null,
   "metadata": {
    "ExecuteTime": {
     "end_time": "2021-12-05T08:46:28.894460Z",
     "start_time": "2021-12-05T08:46:28.894441Z"
    },
    "scrolled": false
   },
   "outputs": [],
   "source": [
    "results = best_predictor.evaluate(test_texts, test_labels)\n",
    "print(results)\n",
    "\n",
    "predictions = best_predictor.predict(test_texts)\n",
    "print(predictions.shape)"
   ]
  },
  {
   "cell_type": "code",
   "execution_count": null,
   "metadata": {
    "ExecuteTime": {
     "end_time": "2021-12-05T08:46:28.895915Z",
     "start_time": "2021-12-05T08:46:28.895896Z"
    }
   },
   "outputs": [],
   "source": [
    "top1_predictions = best_predictor.predict_top_k(test_texts, test_labels, top_k=1)\n",
    "top1_scores = qtf.utils.score(test_labels, top1_predictions, params.classes)\n",
    "display(top1_scores)\n",
    "print('-'*100)\n",
    "print(classification_report(test_labels, top1_predictions, digits=4, target_names=params.classes))"
   ]
  },
  {
   "cell_type": "code",
   "execution_count": null,
   "metadata": {
    "ExecuteTime": {
     "end_time": "2021-12-05T08:46:28.897268Z",
     "start_time": "2021-12-05T08:46:28.897250Z"
    }
   },
   "outputs": [],
   "source": [
    "qtf.utils.plot_confusion_matrix(test_labels, top1_predictions, params.classes)\n"
   ]
  },
  {
   "cell_type": "markdown",
   "metadata": {},
   "source": [
    "## 参考\n",
    "\n",
    "- [Text classification Guide](https://developers.google.com/machine-learning/guides/text-classification)"
   ]
  }
 ],
 "metadata": {
  "kernelspec": {
   "display_name": "Python 3",
   "language": "python",
   "name": "python3"
  },
  "language_info": {
   "codemirror_mode": {
    "name": "ipython",
    "version": 3
   },
   "file_extension": ".py",
   "mimetype": "text/x-python",
   "name": "python",
   "nbconvert_exporter": "python",
   "pygments_lexer": "ipython3",
   "version": "3.8.10"
  },
  "toc": {
   "base_numbering": 1,
   "nav_menu": {},
   "number_sections": true,
   "sideBar": true,
   "skip_h1_title": false,
   "title_cell": "Table of Contents",
   "title_sidebar": "Contents",
   "toc_cell": false,
   "toc_position": {
    "height": "calc(100% - 180px)",
    "left": "10px",
    "top": "150px",
    "width": "291.141px"
   },
   "toc_section_display": true,
   "toc_window_display": true
  }
 },
 "nbformat": 4,
 "nbformat_minor": 4
}
