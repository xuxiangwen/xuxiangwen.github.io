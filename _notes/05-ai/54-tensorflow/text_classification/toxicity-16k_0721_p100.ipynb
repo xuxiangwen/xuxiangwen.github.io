{
 "cells": [
  {
   "cell_type": "markdown",
   "metadata": {},
   "source": [
    "[Toxic Comment Classification Challenge](https://www.kaggle.com/c/jigsaw-toxic-comment-classification-challenge/overview)\n",
    "\n",
    "toxicity的类型有：\n",
    "\n",
    "- toxic\n",
    "- severe_toxic\n",
    "- obscene\n",
    "- threat\n",
    "- insult\n",
    "- identity_hate\n",
    "\n",
    "一个评论可以属于0到多个标签。\n",
    "\n",
    "![image-20201226152702981](images/image-20201226152702981.png)\n",
    "\n",
    "\n",
    "\n",
    "## 获取数据\n",
    "\n",
    "首先引入需要的包。"
   ]
  },
  {
   "cell_type": "code",
   "execution_count": 34,
   "metadata": {
    "ExecuteTime": {
     "end_time": "2021-07-24T23:03:05.058597Z",
     "start_time": "2021-07-24T23:03:04.955522Z"
    }
   },
   "outputs": [
    {
     "name": "stdout",
     "output_type": "stream",
     "text": [
      "The autoreload extension is already loaded. To reload it, use:\n",
      "  %reload_ext autoreload\n"
     ]
    },
    {
     "name": "stderr",
     "output_type": "stream",
     "text": [
      "[nltk_data] Downloading package stopwords to /root/nltk_data...\n",
      "[nltk_data]   Package stopwords is already up-to-date!\n"
     ]
    }
   ],
   "source": [
    "import csv\n",
    "import ipyparams\n",
    "import logging\n",
    "import matplotlib.pyplot as plt\n",
    "import nltk\n",
    "import numpy as np\n",
    "import os\n",
    "import pandas as pd\n",
    "import random\n",
    "import re\n",
    "import shutil\n",
    "import string  \n",
    "import sys\n",
    "import tensorflow as tf\n",
    "import tensorflow_hub as hub\n",
    "\n",
    "from collections import Counter\n",
    "from joblib import Parallel, delayed\n",
    "from nltk.corpus import stopwords\n",
    "from scipy import stats\n",
    "from sklearn import feature_extraction, feature_selection\n",
    "from sklearn.utils.class_weight import compute_class_weight\n",
    "from sklearn.metrics import classification_report\n",
    "from sklearn.model_selection import train_test_split\n",
    "from tensorflow.keras import Model, models, layers, regularizers, preprocessing, datasets, metrics, losses, optimizers\n",
    "from tensorflow.keras.layers.experimental.preprocessing import TextVectorization\n",
    "from tensorboard.plugins.hparams import api as hp \n",
    "\n",
    "base_path = os.path.abspath('/tf/eipi10/qbz95')\n",
    "sys.path.append(base_path)\n",
    "\n",
    "import qbz95\n",
    "from qbz95 import tf as qtf\n",
    "\n",
    "pd.set_option('display.max_colwidth', None)\n",
    "# 设置GPU内存自动扩增\n",
    "qtf.utils.set_gpu_memory_growth()\n",
    "nltk.download('stopwords')\n",
    "\n",
    "# auto load the changes of referenced codes\n",
    "%load_ext autoreload\n",
    "%autoreload 2\n",
    "\n",
    "# ebablbe auto-completion\n",
    "%config Completer.use_jedi = False"
   ]
  },
  {
   "cell_type": "code",
   "execution_count": 2,
   "metadata": {
    "ExecuteTime": {
     "end_time": "2021-07-24T22:39:09.014292Z",
     "start_time": "2021-07-24T22:39:08.894820Z"
    }
   },
   "outputs": [],
   "source": [
    "# 当module有新的方法的时候，需要运行下面方法。\n",
    "%reload_ext autoreload"
   ]
  },
  {
   "cell_type": "markdown",
   "metadata": {},
   "source": [
    "初始化参数。"
   ]
  },
  {
   "cell_type": "code",
   "execution_count": 37,
   "metadata": {
    "ExecuteTime": {
     "end_time": "2021-07-24T23:06:06.129332Z",
     "start_time": "2021-07-24T23:06:05.916530Z"
    }
   },
   "outputs": [],
   "source": [
    "def lr_schedule(epoch, lr):\n",
    "    \"\"\"config the strategy of reducing learning rate\"\"\"\n",
    "    lr_times = [(0, 1), (60, 1e-1), (90, 1e-2), (105, 1e-3), (120, 0.5e-3)]\n",
    "    \n",
    "    base_lr = 1e-3\n",
    "    new_lr = base_lr\n",
    "    for border_epoch, times in lr_times:\n",
    "        if epoch>=border_epoch: \n",
    "            new_lr = base_lr*times\n",
    "    if abs(lr - new_lr)>1e-7:\n",
    "        if new_lr > lr > 0.1*new_lr - 1e-7:\n",
    "            print('Epoch %05d: Still keep learning rate %s instead of %s' % \n",
    "                  (epoch + 1, round(lr, 7), round(new_lr, 7))) \n",
    "            return lr   \n",
    "        print('Epoch %05d: LearningRateScheduler reducing learning rate to %s from %s.' % \n",
    "              (epoch + 1, round(new_lr, 7), round(lr, 7)))\n",
    "    return new_lr\n",
    "\n",
    "\n",
    "\n",
    "output_path = os.path.abspath('./output')\n",
    "data_name = 'toxicity-16k'\n",
    "data_path = os.path.join(output_path, data_name)\n",
    "program_path = os.path.join(data_path, qbz95.utils.get_notebook_name().split('.')[0])\n",
    "word_vectors_path = '/tf/eipi10/xuxiangwen.github.io/_notes/05-ai/54-tensorflow/models/word_vectors'\n",
    "classes = ['toxic', 'severe_toxic', 'obscene', 'threat', 'insult', 'identity_hate']\n",
    "\n",
    "params = {\n",
    "    'data_name': data_name,\n",
    "    'data_path': data_path,\n",
    "    'program_name': qbz95.utils.get_notebook_name(),\n",
    "    'program_path': program_path,\n",
    "    'classes': classes,\n",
    "    'word_vectors_path': word_vectors_path,\n",
    "    'sample_perecent': 1,    \n",
    "    'text_columns': 'snps_sa_comments',\n",
    "    'validation_percent': 0.0,  \n",
    "    'use_stop_words': True,    \n",
    "    'stop_words':stopwords.words('english'),\n",
    "    'batch_size': 32,    \n",
    "    'max_features': 30000,\n",
    "    'sequence_length': 100,    \n",
    "    'epochs': 3,    \n",
    "    'learning_rate':0.001,\n",
    "    'clip_value':None,\n",
    "    'dropout':0.1,\n",
    "    'metrics':[metrics.BinaryAccuracy(), metrics.AUC(name='auc', multi_label=True)], \n",
    "    'loss': losses.BinaryCrossentropy(from_logits=False),\n",
    "    'restore_best_checkpoint':True,\n",
    "    'use_savedmodel':True,\n",
    "    'use_bias_initializer':True,\n",
    "    'use_class_weight':False,\n",
    "    'class_weight': [1.0, 1.0],\n",
    "    'callbacks': {\n",
    "        'ModelCheckpoint': {\n",
    "            'enabled': True,\n",
    "            'monitor': 'val_binary_accuracy',               \n",
    "        },\n",
    "        'EarlyStopping': {\n",
    "            'enabled': True,\n",
    "            'patience': 40,   \n",
    "            'monitor': 'val_binary_accuracy',            \n",
    "        },\n",
    "        'ReduceLROnPlateau': {\n",
    "            'enabled': True,\n",
    "            'monitor': 'val_loss',\n",
    "            'patience': 15,\n",
    "            'factor': np.sqrt(0.1),            \n",
    "        },\n",
    "        'LearningRateScheduler': {\n",
    "            'enabled': True,\n",
    "            'schedule': lr_schedule,            \n",
    "        }             \n",
    "    },\n",
    "    'model_params':{\n",
    "        'mlp':{'dropout':0.6, 'layer_count':1, 'units':256, 'epochs':5},\n",
    "        'rnn':{'dropout':0.4, 'embedding_dim':200, 'units':200, 'epochs':3},\n",
    "        'embedding':{'dropout':0.4, 'embedding_dim':200, 'epochs':3},\n",
    "        'sepcnn':{'dropout':0.4, 'epochs': 3, 'batch_size':128},\n",
    "        'tl':{'dropout':0.4, 'trainable':True, 'layer_count':1, 'unit':64, 'epochs': 5},\n",
    "        'pg':{'dropout':0.4, 'embedding_dim':300, 'units':80, 'epochs':6, 'learning_rate':0.0005},  \n",
    "    },\n",
    "    'embedding_paths':{\n",
    "        'cc_en_300':os.path.join(word_vectors_path, 'snps', 'cc.en.300.vec'),\n",
    "        'fasttext_crawl_300d_2M':os.path.join(word_vectors_path, 'fasttext-crawl-300d-2M.vec'),\n",
    "        'glove_twitter_27B_200d':os.path.join(word_vectors_path, 'glove.twitter.27B.200d.txt')\n",
    "    },\n",
    "    'keras_layper_paths':{\n",
    "    },\n",
    "    'model_resutls':{\n",
    "        'show_top_n':20,\n",
    "        'show_exclude_columns':qtf.classification.ModelResults.exclude_columns1\n",
    "    }\n",
    "}\n",
    "\n",
    "params = qtf.classification.Params(params)\n",
    "model_results=qtf.classification.ProgramModelResults(params.program_path)\n",
    "# model_results.clear()"
   ]
  },
  {
   "cell_type": "markdown",
   "metadata": {},
   "source": [
    "### 加载数据\n",
    "\n",
    "开始加载数据。数据下载自https://www.kaggle.com/c/jigsaw-toxic-comment-classification-challenge/data 。其中有三个文件，分别是：\n",
    "\n",
    "- train.csv：  训练数据，包含文本和标签\n",
    "- test.csv： 测试数据，只包含文本\n",
    "- test_labels.csv：测试数据标签，只包含文本标签"
   ]
  },
  {
   "cell_type": "code",
   "execution_count": 4,
   "metadata": {
    "ExecuteTime": {
     "end_time": "2021-07-24T22:39:11.348590Z",
     "start_time": "2021-07-24T22:39:09.816217Z"
    }
   },
   "outputs": [
    {
     "name": "stdout",
     "output_type": "stream",
     "text": [
      "----------------------------------------------------------------------------------------------------\n",
      "df_train= 159571\n",
      "----------------------------------------------------------------------------------------------------\n",
      "df_test_data 153164\n",
      "----------------------------------------------------------------------------------------------------\n",
      "df_test_labels 153164\n"
     ]
    }
   ],
   "source": [
    "df_train = pd.read_csv('../data/jigsaw-toxic-comment-classification-challenge/train.csv')\n",
    "df_test_data = pd.read_csv('../data/jigsaw-toxic-comment-classification-challenge/test.csv')\n",
    "df_test_labels = pd.read_csv('../data/jigsaw-toxic-comment-classification-challenge/test_labels.csv')\n",
    "\n",
    "print('-'*100) \n",
    "print('df_train=', len(df_train))\n",
    "print('-'*100) \n",
    "print('df_test_data', len(df_test_data))\n",
    "print('-'*100) \n",
    "print('df_test_labels', len(df_test_labels))"
   ]
  },
  {
   "cell_type": "code",
   "execution_count": 5,
   "metadata": {
    "ExecuteTime": {
     "end_time": "2021-07-24T22:39:11.504957Z",
     "start_time": "2021-07-24T22:39:11.351023Z"
    }
   },
   "outputs": [
    {
     "name": "stdout",
     "output_type": "stream",
     "text": [
      "----------------------------------------------------------------------------------------------------\n",
      "<class 'pandas.core.frame.DataFrame'>\n",
      "RangeIndex: 159571 entries, 0 to 159570\n",
      "Data columns (total 8 columns):\n",
      " #   Column         Non-Null Count   Dtype \n",
      "---  ------         --------------   ----- \n",
      " 0   id             159571 non-null  object\n",
      " 1   comment_text   159571 non-null  object\n",
      " 2   toxic          159571 non-null  int64 \n",
      " 3   severe_toxic   159571 non-null  int64 \n",
      " 4   obscene        159571 non-null  int64 \n",
      " 5   threat         159571 non-null  int64 \n",
      " 6   insult         159571 non-null  int64 \n",
      " 7   identity_hate  159571 non-null  int64 \n",
      "dtypes: int64(6), object(2)\n",
      "memory usage: 9.7+ MB\n",
      "None\n",
      "----------------------------------------------------------------------------------------------------\n",
      "<class 'pandas.core.frame.DataFrame'>\n",
      "RangeIndex: 153164 entries, 0 to 153163\n",
      "Data columns (total 2 columns):\n",
      " #   Column        Non-Null Count   Dtype \n",
      "---  ------        --------------   ----- \n",
      " 0   id            153164 non-null  object\n",
      " 1   comment_text  153164 non-null  object\n",
      "dtypes: object(2)\n",
      "memory usage: 2.3+ MB\n",
      "None\n",
      "----------------------------------------------------------------------------------------------------\n",
      "<class 'pandas.core.frame.DataFrame'>\n",
      "RangeIndex: 153164 entries, 0 to 153163\n",
      "Data columns (total 7 columns):\n",
      " #   Column         Non-Null Count   Dtype \n",
      "---  ------         --------------   ----- \n",
      " 0   id             153164 non-null  object\n",
      " 1   toxic          153164 non-null  int64 \n",
      " 2   severe_toxic   153164 non-null  int64 \n",
      " 3   obscene        153164 non-null  int64 \n",
      " 4   threat         153164 non-null  int64 \n",
      " 5   insult         153164 non-null  int64 \n",
      " 6   identity_hate  153164 non-null  int64 \n",
      "dtypes: int64(6), object(1)\n",
      "memory usage: 8.2+ MB\n",
      "None\n"
     ]
    }
   ],
   "source": [
    "print('-'*100) \n",
    "print(df_train.info())\n",
    "print('-'*100) \n",
    "print(df_test_data.info())\n",
    "print('-'*100) \n",
    "print(df_test_labels.info())"
   ]
  },
  {
   "cell_type": "code",
   "execution_count": 6,
   "metadata": {
    "ExecuteTime": {
     "end_time": "2021-07-24T22:39:11.596705Z",
     "start_time": "2021-07-24T22:39:11.507328Z"
    }
   },
   "outputs": [
    {
     "data": {
      "text/html": [
       "<div>\n",
       "<style scoped>\n",
       "    .dataframe tbody tr th:only-of-type {\n",
       "        vertical-align: middle;\n",
       "    }\n",
       "\n",
       "    .dataframe tbody tr th {\n",
       "        vertical-align: top;\n",
       "    }\n",
       "\n",
       "    .dataframe thead th {\n",
       "        text-align: right;\n",
       "    }\n",
       "</style>\n",
       "<table border=\"1\" class=\"dataframe\">\n",
       "  <thead>\n",
       "    <tr style=\"text-align: right;\">\n",
       "      <th></th>\n",
       "      <th>id</th>\n",
       "      <th>comment_text</th>\n",
       "      <th>toxic</th>\n",
       "      <th>severe_toxic</th>\n",
       "      <th>obscene</th>\n",
       "      <th>threat</th>\n",
       "      <th>insult</th>\n",
       "      <th>identity_hate</th>\n",
       "    </tr>\n",
       "  </thead>\n",
       "  <tbody>\n",
       "    <tr>\n",
       "      <th>0</th>\n",
       "      <td>0000997932d777bf</td>\n",
       "      <td>Explanation\\nWhy the edits made under my username Hardcore Metallica Fan were reverted? They weren't vandalisms, just closure on some GAs after I voted at New York Dolls FAC. And please don't remove the template from the talk page since I'm retired now.89.205.38.27</td>\n",
       "      <td>0</td>\n",
       "      <td>0</td>\n",
       "      <td>0</td>\n",
       "      <td>0</td>\n",
       "      <td>0</td>\n",
       "      <td>0</td>\n",
       "    </tr>\n",
       "    <tr>\n",
       "      <th>1</th>\n",
       "      <td>000103f0d9cfb60f</td>\n",
       "      <td>D'aww! He matches this background colour I'm seemingly stuck with. Thanks.  (talk) 21:51, January 11, 2016 (UTC)</td>\n",
       "      <td>0</td>\n",
       "      <td>0</td>\n",
       "      <td>0</td>\n",
       "      <td>0</td>\n",
       "      <td>0</td>\n",
       "      <td>0</td>\n",
       "    </tr>\n",
       "    <tr>\n",
       "      <th>2</th>\n",
       "      <td>000113f07ec002fd</td>\n",
       "      <td>Hey man, I'm really not trying to edit war. It's just that this guy is constantly removing relevant information and talking to me through edits instead of my talk page. He seems to care more about the formatting than the actual info.</td>\n",
       "      <td>0</td>\n",
       "      <td>0</td>\n",
       "      <td>0</td>\n",
       "      <td>0</td>\n",
       "      <td>0</td>\n",
       "      <td>0</td>\n",
       "    </tr>\n",
       "    <tr>\n",
       "      <th>3</th>\n",
       "      <td>0001b41b1c6bb37e</td>\n",
       "      <td>\"\\nMore\\nI can't make any real suggestions on improvement - I wondered if the section statistics should be later on, or a subsection of \"\"types of accidents\"\"  -I think the references may need tidying so that they are all in the exact same format ie date format etc. I can do that later on, if no-one else does first - if you have any preferences for formatting style on references or want to do it yourself please let me know.\\n\\nThere appears to be a backlog on articles for review so I guess there may be a delay until a reviewer turns up. It's listed in the relevant form eg Wikipedia:Good_article_nominations#Transport  \"</td>\n",
       "      <td>0</td>\n",
       "      <td>0</td>\n",
       "      <td>0</td>\n",
       "      <td>0</td>\n",
       "      <td>0</td>\n",
       "      <td>0</td>\n",
       "    </tr>\n",
       "    <tr>\n",
       "      <th>4</th>\n",
       "      <td>0001d958c54c6e35</td>\n",
       "      <td>You, sir, are my hero. Any chance you remember what page that's on?</td>\n",
       "      <td>0</td>\n",
       "      <td>0</td>\n",
       "      <td>0</td>\n",
       "      <td>0</td>\n",
       "      <td>0</td>\n",
       "      <td>0</td>\n",
       "    </tr>\n",
       "  </tbody>\n",
       "</table>\n",
       "</div>"
      ],
      "text/plain": [
       "                 id  \\\n",
       "0  0000997932d777bf   \n",
       "1  000103f0d9cfb60f   \n",
       "2  000113f07ec002fd   \n",
       "3  0001b41b1c6bb37e   \n",
       "4  0001d958c54c6e35   \n",
       "\n",
       "                                                                                                                                                                                                                                                                                                                                                                                                                                                                                                                                                                                                                                         comment_text  \\\n",
       "0                                                                                                                                                                                                                                                                                                                                                                           Explanation\\nWhy the edits made under my username Hardcore Metallica Fan were reverted? They weren't vandalisms, just closure on some GAs after I voted at New York Dolls FAC. And please don't remove the template from the talk page since I'm retired now.89.205.38.27   \n",
       "1                                                                                                                                                                                                                                                                                                                                                                                                                                                                                                                                    D'aww! He matches this background colour I'm seemingly stuck with. Thanks.  (talk) 21:51, January 11, 2016 (UTC)   \n",
       "2                                                                                                                                                                                                                                                                                                                                                                                                           Hey man, I'm really not trying to edit war. It's just that this guy is constantly removing relevant information and talking to me through edits instead of my talk page. He seems to care more about the formatting than the actual info.   \n",
       "3  \"\\nMore\\nI can't make any real suggestions on improvement - I wondered if the section statistics should be later on, or a subsection of \"\"types of accidents\"\"  -I think the references may need tidying so that they are all in the exact same format ie date format etc. I can do that later on, if no-one else does first - if you have any preferences for formatting style on references or want to do it yourself please let me know.\\n\\nThere appears to be a backlog on articles for review so I guess there may be a delay until a reviewer turns up. It's listed in the relevant form eg Wikipedia:Good_article_nominations#Transport  \"   \n",
       "4                                                                                                                                                                                                                                                                                                                                                                                                                                                                                                                                                                                 You, sir, are my hero. Any chance you remember what page that's on?   \n",
       "\n",
       "   toxic  severe_toxic  obscene  threat  insult  identity_hate  \n",
       "0      0             0        0       0       0              0  \n",
       "1      0             0        0       0       0              0  \n",
       "2      0             0        0       0       0              0  \n",
       "3      0             0        0       0       0              0  \n",
       "4      0             0        0       0       0              0  "
      ]
     },
     "metadata": {},
     "output_type": "display_data"
    },
    {
     "data": {
      "text/html": [
       "<div>\n",
       "<style scoped>\n",
       "    .dataframe tbody tr th:only-of-type {\n",
       "        vertical-align: middle;\n",
       "    }\n",
       "\n",
       "    .dataframe tbody tr th {\n",
       "        vertical-align: top;\n",
       "    }\n",
       "\n",
       "    .dataframe thead th {\n",
       "        text-align: right;\n",
       "    }\n",
       "</style>\n",
       "<table border=\"1\" class=\"dataframe\">\n",
       "  <thead>\n",
       "    <tr style=\"text-align: right;\">\n",
       "      <th></th>\n",
       "      <th>id</th>\n",
       "      <th>comment_text</th>\n",
       "    </tr>\n",
       "  </thead>\n",
       "  <tbody>\n",
       "    <tr>\n",
       "      <th>0</th>\n",
       "      <td>00001cee341fdb12</td>\n",
       "      <td>Yo bitch Ja Rule is more succesful then you'll ever be whats up with you and hating you sad mofuckas...i should bitch slap ur pethedic white faces and get you to kiss my ass you guys sicken me. Ja rule is about pride in da music man. dont diss that shit on him. and nothin is wrong bein like tupac he was a brother too...fuckin white boys get things right next time.,</td>\n",
       "    </tr>\n",
       "    <tr>\n",
       "      <th>1</th>\n",
       "      <td>0000247867823ef7</td>\n",
       "      <td>== From RfC == \\n\\n The title is fine as it is, IMO.</td>\n",
       "    </tr>\n",
       "    <tr>\n",
       "      <th>2</th>\n",
       "      <td>00013b17ad220c46</td>\n",
       "      <td>\" \\n\\n == Sources == \\n\\n * Zawe Ashton on Lapland —  /  \"</td>\n",
       "    </tr>\n",
       "    <tr>\n",
       "      <th>3</th>\n",
       "      <td>00017563c3f7919a</td>\n",
       "      <td>:If you have a look back at the source, the information I updated was the correct form. I can only guess the source hadn't updated. I shall update the information once again but thank you for your message.</td>\n",
       "    </tr>\n",
       "    <tr>\n",
       "      <th>4</th>\n",
       "      <td>00017695ad8997eb</td>\n",
       "      <td>I don't anonymously edit articles at all.</td>\n",
       "    </tr>\n",
       "  </tbody>\n",
       "</table>\n",
       "</div>"
      ],
      "text/plain": [
       "                 id  \\\n",
       "0  00001cee341fdb12   \n",
       "1  0000247867823ef7   \n",
       "2  00013b17ad220c46   \n",
       "3  00017563c3f7919a   \n",
       "4  00017695ad8997eb   \n",
       "\n",
       "                                                                                                                                                                                                                                                                                                                                                                      comment_text  \n",
       "0  Yo bitch Ja Rule is more succesful then you'll ever be whats up with you and hating you sad mofuckas...i should bitch slap ur pethedic white faces and get you to kiss my ass you guys sicken me. Ja rule is about pride in da music man. dont diss that shit on him. and nothin is wrong bein like tupac he was a brother too...fuckin white boys get things right next time.,  \n",
       "1                                                                                                                                                                                                                                                                                                                             == From RfC == \\n\\n The title is fine as it is, IMO.  \n",
       "2                                                                                                                                                                                                                                                                                                                       \" \\n\\n == Sources == \\n\\n * Zawe Ashton on Lapland —  /  \"  \n",
       "3                                                                                                                                                                    :If you have a look back at the source, the information I updated was the correct form. I can only guess the source hadn't updated. I shall update the information once again but thank you for your message.  \n",
       "4                                                                                                                                                                                                                                                                                                                                        I don't anonymously edit articles at all.  "
      ]
     },
     "metadata": {},
     "output_type": "display_data"
    },
    {
     "data": {
      "text/html": [
       "<div>\n",
       "<style scoped>\n",
       "    .dataframe tbody tr th:only-of-type {\n",
       "        vertical-align: middle;\n",
       "    }\n",
       "\n",
       "    .dataframe tbody tr th {\n",
       "        vertical-align: top;\n",
       "    }\n",
       "\n",
       "    .dataframe thead th {\n",
       "        text-align: right;\n",
       "    }\n",
       "</style>\n",
       "<table border=\"1\" class=\"dataframe\">\n",
       "  <thead>\n",
       "    <tr style=\"text-align: right;\">\n",
       "      <th></th>\n",
       "      <th>id</th>\n",
       "      <th>toxic</th>\n",
       "      <th>severe_toxic</th>\n",
       "      <th>obscene</th>\n",
       "      <th>threat</th>\n",
       "      <th>insult</th>\n",
       "      <th>identity_hate</th>\n",
       "    </tr>\n",
       "  </thead>\n",
       "  <tbody>\n",
       "    <tr>\n",
       "      <th>0</th>\n",
       "      <td>00001cee341fdb12</td>\n",
       "      <td>-1</td>\n",
       "      <td>-1</td>\n",
       "      <td>-1</td>\n",
       "      <td>-1</td>\n",
       "      <td>-1</td>\n",
       "      <td>-1</td>\n",
       "    </tr>\n",
       "    <tr>\n",
       "      <th>1</th>\n",
       "      <td>0000247867823ef7</td>\n",
       "      <td>-1</td>\n",
       "      <td>-1</td>\n",
       "      <td>-1</td>\n",
       "      <td>-1</td>\n",
       "      <td>-1</td>\n",
       "      <td>-1</td>\n",
       "    </tr>\n",
       "    <tr>\n",
       "      <th>2</th>\n",
       "      <td>00013b17ad220c46</td>\n",
       "      <td>-1</td>\n",
       "      <td>-1</td>\n",
       "      <td>-1</td>\n",
       "      <td>-1</td>\n",
       "      <td>-1</td>\n",
       "      <td>-1</td>\n",
       "    </tr>\n",
       "    <tr>\n",
       "      <th>3</th>\n",
       "      <td>00017563c3f7919a</td>\n",
       "      <td>-1</td>\n",
       "      <td>-1</td>\n",
       "      <td>-1</td>\n",
       "      <td>-1</td>\n",
       "      <td>-1</td>\n",
       "      <td>-1</td>\n",
       "    </tr>\n",
       "    <tr>\n",
       "      <th>4</th>\n",
       "      <td>00017695ad8997eb</td>\n",
       "      <td>-1</td>\n",
       "      <td>-1</td>\n",
       "      <td>-1</td>\n",
       "      <td>-1</td>\n",
       "      <td>-1</td>\n",
       "      <td>-1</td>\n",
       "    </tr>\n",
       "  </tbody>\n",
       "</table>\n",
       "</div>"
      ],
      "text/plain": [
       "                 id  toxic  severe_toxic  obscene  threat  insult  \\\n",
       "0  00001cee341fdb12     -1            -1       -1      -1      -1   \n",
       "1  0000247867823ef7     -1            -1       -1      -1      -1   \n",
       "2  00013b17ad220c46     -1            -1       -1      -1      -1   \n",
       "3  00017563c3f7919a     -1            -1       -1      -1      -1   \n",
       "4  00017695ad8997eb     -1            -1       -1      -1      -1   \n",
       "\n",
       "   identity_hate  \n",
       "0             -1  \n",
       "1             -1  \n",
       "2             -1  \n",
       "3             -1  \n",
       "4             -1  "
      ]
     },
     "metadata": {},
     "output_type": "display_data"
    }
   ],
   "source": [
    "display(df_train.head())\n",
    "display(df_test_data.head())\n",
    "display(df_test_labels.head())"
   ]
  },
  {
   "cell_type": "code",
   "execution_count": 7,
   "metadata": {
    "ExecuteTime": {
     "end_time": "2021-07-24T22:39:11.765895Z",
     "start_time": "2021-07-24T22:39:11.599089Z"
    }
   },
   "outputs": [
    {
     "name": "stdout",
     "output_type": "stream",
     "text": [
      "df_test= 153164\n",
      "----------------------------------------------------------------------------------------------------\n"
     ]
    },
    {
     "data": {
      "text/html": [
       "<div>\n",
       "<style scoped>\n",
       "    .dataframe tbody tr th:only-of-type {\n",
       "        vertical-align: middle;\n",
       "    }\n",
       "\n",
       "    .dataframe tbody tr th {\n",
       "        vertical-align: top;\n",
       "    }\n",
       "\n",
       "    .dataframe thead th {\n",
       "        text-align: right;\n",
       "    }\n",
       "</style>\n",
       "<table border=\"1\" class=\"dataframe\">\n",
       "  <thead>\n",
       "    <tr style=\"text-align: right;\">\n",
       "      <th></th>\n",
       "      <th>id</th>\n",
       "      <th>comment_text</th>\n",
       "      <th>toxic</th>\n",
       "      <th>severe_toxic</th>\n",
       "      <th>obscene</th>\n",
       "      <th>threat</th>\n",
       "      <th>insult</th>\n",
       "      <th>identity_hate</th>\n",
       "    </tr>\n",
       "  </thead>\n",
       "  <tbody>\n",
       "    <tr>\n",
       "      <th>29878</th>\n",
       "      <td>31bb63698b6d951e</td>\n",
       "      <td>\" \\n\\n == The Other 48 Days == \\n\\n There was no \"\"flashback\"\" in this episode.  The only argument that there was a flashback would be because the other episodes had reached a certain point in time, and this covered a time period already covered in previous episodes.  However, if you were to use that argument, you would have to count Locke and Kate's entire plotline in \"\"Adrift\"\" as a \"\"Flashback\"\" because it ends at the same point as \"\"Man of Science, Man of Faith\"\".   \"</td>\n",
       "      <td>0</td>\n",
       "      <td>0</td>\n",
       "      <td>0</td>\n",
       "      <td>0</td>\n",
       "      <td>0</td>\n",
       "      <td>0</td>\n",
       "    </tr>\n",
       "    <tr>\n",
       "      <th>57422</th>\n",
       "      <td>5f891066eacf112a</td>\n",
       "      <td>\" \\n ::: ~slips out of semi-retirement to tell you Congrats!~  //  \"</td>\n",
       "      <td>0</td>\n",
       "      <td>0</td>\n",
       "      <td>0</td>\n",
       "      <td>0</td>\n",
       "      <td>0</td>\n",
       "      <td>0</td>\n",
       "    </tr>\n",
       "    <tr>\n",
       "      <th>101485</th>\n",
       "      <td>a961e9a95f338902</td>\n",
       "      <td>\" \\n\\n ==Copyright problem: Polo in India== \\n Hello, and welcome to Wikipedia! We welcome and appreciate your contributions, such as Polo in India, but we regretfully cannot accept copyrighted text or images borrowed from either web sites or printed material. This article appears to contain material copied from http://www.isrj.net/June/2011/Research_Paper_Problems_and_Prospects_of_Indian_Sports.html, and therefore to constitute a violation of Wikipedia's copyright policies. The copyrighted text has been or will soon be deleted. While we appreciate contributions, we must require all contributors to understand and comply with our copyright policy. Wikipedia takes copyright violations very seriously, and persistent violators are liable to be blocked from editing.  \\n\\n If you believe that the article is not a copyright violation, or if you have permission from the copyright holder to release the content freely under license allowed by Wikipedia, then you should do one of the following: \\n\\n :*If you have permission from the author to release the text under the Creative Commons Attribution-ShareAlike License (CC-BY-SA), leave a message explaining the details at Talk:Polo in India and send an email with confirmation of permission to \"\"permissions-en (at) wikimedia (dot) org\"\". Make sure you quote the exact page name, Polo in India, in your email. See Wikipedia:Requesting copyright permission for instructions. \\n :*If a note on the original website states that re-use is permitted \"\"under the Creative Commons Attribution-ShareAlike License (CC-BY-SA), version 3.0, or that the material is released into the public domain leave a note at Talk:Polo in India with a link to where we can find that note.  \\n :*If you own the copyright to the material: send an e-mail from an address associated with the original publication to permissions-en(at)wikimedia(dot)org or a postal message to the Wikimedia Foundation permitting re-use under the Creative Commons Attribution-ShareAlike License and GNU Free Documentation License, and note that you have done so on Talk:Polo in India. See Wikipedia:Donating copyrighted materials for instructions. \\n It may also be necessary for the text be modified to have an encyclopedic tone and to follow Wikipedia article layout. For more information on Wikipedia's policies, see Wikipedia's policies and guidelines.  \\n\\n If you would like to begin working on a new version of the article you may do so at [ this temporary page]. Leave a note at Talk:Polo in India saying you have done so and an administrator will move the new article into place once the issue is resolved.  \\n Thank you, and please feel welcome to continue contributing to Wikipedia. Happy editing!   \"</td>\n",
       "      <td>0</td>\n",
       "      <td>0</td>\n",
       "      <td>0</td>\n",
       "      <td>0</td>\n",
       "      <td>0</td>\n",
       "      <td>0</td>\n",
       "    </tr>\n",
       "    <tr>\n",
       "      <th>79854</th>\n",
       "      <td>85453aac4b8677e1</td>\n",
       "      <td>\" \\n :You can use a \"\"user subpage\"\" to save articles, if they are in such a state that you don't want to save it as a new version of the article yet. So if you're working on Phantom Falls and discover that you have to stop but don't want to save it, copy the text and edit  instead. Save that, come back later, and copy the text again back to a new edit on Phantom Falls. (And you can request speedy-deletion of your user subpage when you're done with it with a  tag.    \"</td>\n",
       "      <td>-1</td>\n",
       "      <td>-1</td>\n",
       "      <td>-1</td>\n",
       "      <td>-1</td>\n",
       "      <td>-1</td>\n",
       "      <td>-1</td>\n",
       "    </tr>\n",
       "    <tr>\n",
       "      <th>117537</th>\n",
       "      <td>c432374981aec24a</td>\n",
       "      <td>Can someone provide a short synopsis of Exile's Gate - story for the Article</td>\n",
       "      <td>0</td>\n",
       "      <td>0</td>\n",
       "      <td>0</td>\n",
       "      <td>0</td>\n",
       "      <td>0</td>\n",
       "      <td>0</td>\n",
       "    </tr>\n",
       "  </tbody>\n",
       "</table>\n",
       "</div>"
      ],
      "text/plain": [
       "                      id  \\\n",
       "29878   31bb63698b6d951e   \n",
       "57422   5f891066eacf112a   \n",
       "101485  a961e9a95f338902   \n",
       "79854   85453aac4b8677e1   \n",
       "117537  c432374981aec24a   \n",
       "\n",
       "                                                                                                                                                                                                                                                                                                                                                                                                                                                                                                                                                                                                                                                                                                                                                                                                                                                                                                                                                                                                                                                                                                                                                                                                                                                                                                                                                                                                                                                                                                                                                                                                                                                                                                                                                                                                                                                                                                                                                                                                                                                                                                                                                                                                                                                                                                                                                                                                                                                                                                                                                                                                                                                                                                                                                                                                                            comment_text  \\\n",
       "29878                                                                                                                                                                                                                                                                                                                                                                                                                                                                                                                                                                                                                                                                                                                                                                                                                                                                                                                                                                                                                                                                                                                                                                                                                                                                                                                                                                                                                                                                                                                                                                                                                                                                                                                                                                                                                                                                                                                                                                                                                                                                                                                                                                                                                                                                                                                                       \" \\n\\n == The Other 48 Days == \\n\\n There was no \"\"flashback\"\" in this episode.  The only argument that there was a flashback would be because the other episodes had reached a certain point in time, and this covered a time period already covered in previous episodes.  However, if you were to use that argument, you would have to count Locke and Kate's entire plotline in \"\"Adrift\"\" as a \"\"Flashback\"\" because it ends at the same point as \"\"Man of Science, Man of Faith\"\".   \"   \n",
       "57422                                                                                                                                                                                                                                                                                                                                                                                                                                                                                                                                                                                                                                                                                                                                                                                                                                                                                                                                                                                                                                                                                                                                                                                                                                                                                                                                                                                                                                                                                                                                                                                                                                                                                                                                                                                                                                                                                                                                                                                                                                                                                                                                                                                                                                                                                                                                                                                                                                                                                                                                                                                                                                                                                                                                                               \" \\n ::: ~slips out of semi-retirement to tell you Congrats!~  //  \"   \n",
       "101485  \" \\n\\n ==Copyright problem: Polo in India== \\n Hello, and welcome to Wikipedia! We welcome and appreciate your contributions, such as Polo in India, but we regretfully cannot accept copyrighted text or images borrowed from either web sites or printed material. This article appears to contain material copied from http://www.isrj.net/June/2011/Research_Paper_Problems_and_Prospects_of_Indian_Sports.html, and therefore to constitute a violation of Wikipedia's copyright policies. The copyrighted text has been or will soon be deleted. While we appreciate contributions, we must require all contributors to understand and comply with our copyright policy. Wikipedia takes copyright violations very seriously, and persistent violators are liable to be blocked from editing.  \\n\\n If you believe that the article is not a copyright violation, or if you have permission from the copyright holder to release the content freely under license allowed by Wikipedia, then you should do one of the following: \\n\\n :*If you have permission from the author to release the text under the Creative Commons Attribution-ShareAlike License (CC-BY-SA), leave a message explaining the details at Talk:Polo in India and send an email with confirmation of permission to \"\"permissions-en (at) wikimedia (dot) org\"\". Make sure you quote the exact page name, Polo in India, in your email. See Wikipedia:Requesting copyright permission for instructions. \\n :*If a note on the original website states that re-use is permitted \"\"under the Creative Commons Attribution-ShareAlike License (CC-BY-SA), version 3.0, or that the material is released into the public domain leave a note at Talk:Polo in India with a link to where we can find that note.  \\n :*If you own the copyright to the material: send an e-mail from an address associated with the original publication to permissions-en(at)wikimedia(dot)org or a postal message to the Wikimedia Foundation permitting re-use under the Creative Commons Attribution-ShareAlike License and GNU Free Documentation License, and note that you have done so on Talk:Polo in India. See Wikipedia:Donating copyrighted materials for instructions. \\n It may also be necessary for the text be modified to have an encyclopedic tone and to follow Wikipedia article layout. For more information on Wikipedia's policies, see Wikipedia's policies and guidelines.  \\n\\n If you would like to begin working on a new version of the article you may do so at [ this temporary page]. Leave a note at Talk:Polo in India saying you have done so and an administrator will move the new article into place once the issue is resolved.  \\n Thank you, and please feel welcome to continue contributing to Wikipedia. Happy editing!   \"   \n",
       "79854                                                                                                                                                                                                                                                                                                                                                                                                                                                                                                                                                                                                                                                                                                                                                                                                                                                                                                                                                                                                                                                                                                                                                                                                                                                                                                                                                                                                                                                                                                                                                                                                                                                                                                                                                                                                                                                                                                                                                                                                                                                                                                                                                                                                                                                                                                                                          \" \\n :You can use a \"\"user subpage\"\" to save articles, if they are in such a state that you don't want to save it as a new version of the article yet. So if you're working on Phantom Falls and discover that you have to stop but don't want to save it, copy the text and edit  instead. Save that, come back later, and copy the text again back to a new edit on Phantom Falls. (And you can request speedy-deletion of your user subpage when you're done with it with a  tag.    \"   \n",
       "117537                                                                                                                                                                                                                                                                                                                                                                                                                                                                                                                                                                                                                                                                                                                                                                                                                                                                                                                                                                                                                                                                                                                                                                                                                                                                                                                                                                                                                                                                                                                                                                                                                                                                                                                                                                                                                                                                                                                                                                                                                                                                                                                                                                                                                                                                                                                                                                                                                                                                                                                                                                                                                                                                                                                                                      Can someone provide a short synopsis of Exile's Gate - story for the Article   \n",
       "\n",
       "        toxic  severe_toxic  obscene  threat  insult  identity_hate  \n",
       "29878       0             0        0       0       0              0  \n",
       "57422       0             0        0       0       0              0  \n",
       "101485      0             0        0       0       0              0  \n",
       "79854      -1            -1       -1      -1      -1             -1  \n",
       "117537      0             0        0       0       0              0  "
      ]
     },
     "metadata": {},
     "output_type": "display_data"
    }
   ],
   "source": [
    "df_test = df_test_data.join(df_test_labels.set_index('id'), on='id')\n",
    "print('df_test=', len(df_test))\n",
    "print('-'*100) \n",
    "display(df_test.sample(5))"
   ]
  },
  {
   "cell_type": "code",
   "execution_count": 8,
   "metadata": {
    "ExecuteTime": {
     "end_time": "2021-07-24T22:39:11.859921Z",
     "start_time": "2021-07-24T22:39:11.768239Z"
    }
   },
   "outputs": [
    {
     "name": "stdout",
     "output_type": "stream",
     "text": [
      "df_test= 63978\n",
      "----------------------------------------------------------------------------------------------------\n"
     ]
    },
    {
     "data": {
      "text/html": [
       "<div>\n",
       "<style scoped>\n",
       "    .dataframe tbody tr th:only-of-type {\n",
       "        vertical-align: middle;\n",
       "    }\n",
       "\n",
       "    .dataframe tbody tr th {\n",
       "        vertical-align: top;\n",
       "    }\n",
       "\n",
       "    .dataframe thead th {\n",
       "        text-align: right;\n",
       "    }\n",
       "</style>\n",
       "<table border=\"1\" class=\"dataframe\">\n",
       "  <thead>\n",
       "    <tr style=\"text-align: right;\">\n",
       "      <th></th>\n",
       "      <th>id</th>\n",
       "      <th>comment_text</th>\n",
       "      <th>toxic</th>\n",
       "      <th>severe_toxic</th>\n",
       "      <th>obscene</th>\n",
       "      <th>threat</th>\n",
       "      <th>insult</th>\n",
       "      <th>identity_hate</th>\n",
       "    </tr>\n",
       "  </thead>\n",
       "  <tbody>\n",
       "    <tr>\n",
       "      <th>115112</th>\n",
       "      <td>c01f5253de54dfc3</td>\n",
       "      <td>::I hate this.</td>\n",
       "      <td>0</td>\n",
       "      <td>0</td>\n",
       "      <td>0</td>\n",
       "      <td>0</td>\n",
       "      <td>0</td>\n",
       "      <td>0</td>\n",
       "    </tr>\n",
       "    <tr>\n",
       "      <th>76340</th>\n",
       "      <td>7f4ed164d1b0665e</td>\n",
       "      <td>\" \\n\\n ==Gradient== \\n\\n The article contains the following... \\n Maximum Steepness: 64% \\n ...where does 64% come from? \\n The official site says... \\n \"\"When finished, the track measured 201 ft long, with a vertical rise of 111ft. This gave the railway an incline of 33°, the steepest in England.\"\" \\n The sign at the top of the railway in Bridgnorth also says 33°; I've also checked the maths and I get 33.5°\"</td>\n",
       "      <td>0</td>\n",
       "      <td>0</td>\n",
       "      <td>0</td>\n",
       "      <td>0</td>\n",
       "      <td>0</td>\n",
       "      <td>0</td>\n",
       "    </tr>\n",
       "    <tr>\n",
       "      <th>3908</th>\n",
       "      <td>06aebc0d0264bd24</td>\n",
       "      <td>== Fuck off == \\n\\n SLAG OFF.</td>\n",
       "      <td>1</td>\n",
       "      <td>0</td>\n",
       "      <td>1</td>\n",
       "      <td>0</td>\n",
       "      <td>0</td>\n",
       "      <td>0</td>\n",
       "    </tr>\n",
       "    <tr>\n",
       "      <th>68897</th>\n",
       "      <td>72aecf5a63b0b461</td>\n",
       "      <td>\" \\n\\n == Reputation of the US government is in your hands only (USA.GOV) == \\n\\n COPY OF NOTIFICATION FOR JIMBO WALES (WIKIPEDIA) \\n\\n Being with common sense in the head (we hope), you get now this notification. If you are agree, that this page http://my.mail.ru/community/beatleshigher80/5D41A96A3912D33.html must contain Gestapo with the US government (in the one place), you can make rollback and nothing do. If you respect your government, you must delete the page http://en.wikipedia.org/wiki/Wikipedia:WikiProject_Spam/Local/epetitions.direct.gov.uk with slander and insult against the Monarchy. You have no respecting to the UK government - all of us already understood (but this fact not has meaning). Currently you can select: the US government together with the Gestapo will travel around the world, and will be placed on the official websites of the UN (branches - including). Reminder: all of this can be the only stupid tale, but in the one case only: deletion of the page http://en.wikipedia.org/wiki/Wikipedia:WikiProject_Spam/Local/epetitions.direct.gov.uk with slanders in relation of the UK government and its citizens. This notification was saved already, and your government can get all information even now (in any moment). Social networks and other millions of methods - including (a large number of state agencies can get this also). Main thing: any method of rollback of this notification - only your responsibility (rollback from the side of your stupid admins creates the obligation - you must delete such vandalism via rollback in relation of them). You can delete this message in the only one case: when you deleted page with insult in relation of the Monarchy. Your government can be in order only after this action. Friendship with the Gestapo will be finished. -   .\"</td>\n",
       "      <td>0</td>\n",
       "      <td>0</td>\n",
       "      <td>0</td>\n",
       "      <td>0</td>\n",
       "      <td>0</td>\n",
       "      <td>0</td>\n",
       "    </tr>\n",
       "    <tr>\n",
       "      <th>51691</th>\n",
       "      <td>55c9960218348af9</td>\n",
       "      <td>These rules include:</td>\n",
       "      <td>0</td>\n",
       "      <td>0</td>\n",
       "      <td>0</td>\n",
       "      <td>0</td>\n",
       "      <td>0</td>\n",
       "      <td>0</td>\n",
       "    </tr>\n",
       "  </tbody>\n",
       "</table>\n",
       "</div>"
      ],
      "text/plain": [
       "                      id  \\\n",
       "115112  c01f5253de54dfc3   \n",
       "76340   7f4ed164d1b0665e   \n",
       "3908    06aebc0d0264bd24   \n",
       "68897   72aecf5a63b0b461   \n",
       "51691   55c9960218348af9   \n",
       "\n",
       "                                                                                                                                                                                                                                                                                                                                                                                                                                                                                                                                                                                                                                                                                                                                                                                                                                                                                                                                                                                                                                                                                                                                                                                                                                                                                                                                                                                                                                                                                                                                                                                                                                                                                                                                                                                                                                                                    comment_text  \\\n",
       "115112                                                                                                                                                                                                                                                                                                                                                                                                                                                                                                                                                                                                                                                                                                                                                                                                                                                                                                                                                                                                                                                                                                                                                                                                                                                                                                                                                                                                                                                                                                                                                                                                                                                                                                                                                                                                                                                            ::I hate this.   \n",
       "76340                                                                                                                                                                                                                                                                                                                                                                                                                                                                                                                                                                                                                                                                                                                                                                                                                                                                                                                                                                                                                                                                                                                                                                                                                                                                                                                                                                                                                                               \" \\n\\n ==Gradient== \\n\\n The article contains the following... \\n Maximum Steepness: 64% \\n ...where does 64% come from? \\n The official site says... \\n \"\"When finished, the track measured 201 ft long, with a vertical rise of 111ft. This gave the railway an incline of 33°, the steepest in England.\"\" \\n The sign at the top of the railway in Bridgnorth also says 33°; I've also checked the maths and I get 33.5°\"   \n",
       "3908                                                                                                                                                                                                                                                                                                                                                                                                                                                                                                                                                                                                                                                                                                                                                                                                                                                                                                                                                                                                                                                                                                                                                                                                                                                                                                                                                                                                                                                                                                                                                                                                                                                                                                                                                                                                                                               == Fuck off == \\n\\n SLAG OFF.   \n",
       "68897   \" \\n\\n == Reputation of the US government is in your hands only (USA.GOV) == \\n\\n COPY OF NOTIFICATION FOR JIMBO WALES (WIKIPEDIA) \\n\\n Being with common sense in the head (we hope), you get now this notification. If you are agree, that this page http://my.mail.ru/community/beatleshigher80/5D41A96A3912D33.html must contain Gestapo with the US government (in the one place), you can make rollback and nothing do. If you respect your government, you must delete the page http://en.wikipedia.org/wiki/Wikipedia:WikiProject_Spam/Local/epetitions.direct.gov.uk with slander and insult against the Monarchy. You have no respecting to the UK government - all of us already understood (but this fact not has meaning). Currently you can select: the US government together with the Gestapo will travel around the world, and will be placed on the official websites of the UN (branches - including). Reminder: all of this can be the only stupid tale, but in the one case only: deletion of the page http://en.wikipedia.org/wiki/Wikipedia:WikiProject_Spam/Local/epetitions.direct.gov.uk with slanders in relation of the UK government and its citizens. This notification was saved already, and your government can get all information even now (in any moment). Social networks and other millions of methods - including (a large number of state agencies can get this also). Main thing: any method of rollback of this notification - only your responsibility (rollback from the side of your stupid admins creates the obligation - you must delete such vandalism via rollback in relation of them). You can delete this message in the only one case: when you deleted page with insult in relation of the Monarchy. Your government can be in order only after this action. Friendship with the Gestapo will be finished. -   .\"   \n",
       "51691                                                                                                                                                                                                                                                                                                                                                                                                                                                                                                                                                                                                                                                                                                                                                                                                                                                                                                                                                                                                                                                                                                                                                                                                                                                                                                                                                                                                                                                                                                                                                                                                                                                                                                                                                                                                                                                       These rules include:   \n",
       "\n",
       "        toxic  severe_toxic  obscene  threat  insult  identity_hate  \n",
       "115112      0             0        0       0       0              0  \n",
       "76340       0             0        0       0       0              0  \n",
       "3908        1             0        1       0       0              0  \n",
       "68897       0             0        0       0       0              0  \n",
       "51691       0             0        0       0       0              0  "
      ]
     },
     "metadata": {},
     "output_type": "display_data"
    }
   ],
   "source": [
    "# 移除全部是-1的行\n",
    "df_test = df_test.loc[df_test[params.classes].max(axis=1)>=0]\n",
    "\n",
    "print('df_test=', len(df_test))\n",
    "print('-'*100) \n",
    "display(df_test.sample(5))"
   ]
  },
  {
   "cell_type": "markdown",
   "metadata": {},
   "source": [
    "看了一些kaggle上别人的模型，看上去他们那时候的数据集时直接把训练数据拆分的。"
   ]
  },
  {
   "cell_type": "code",
   "execution_count": 9,
   "metadata": {
    "ExecuteTime": {
     "end_time": "2021-07-24T22:39:11.955956Z",
     "start_time": "2021-07-24T22:39:11.864135Z"
    }
   },
   "outputs": [],
   "source": [
    "df_train, df_test = train_test_split(df_train, test_size=0.05, random_state=233)"
   ]
  },
  {
   "cell_type": "code",
   "execution_count": 10,
   "metadata": {
    "ExecuteTime": {
     "end_time": "2021-07-24T22:39:12.047242Z",
     "start_time": "2021-07-24T22:39:11.959253Z"
    }
   },
   "outputs": [
    {
     "name": "stdout",
     "output_type": "stream",
     "text": [
      "----------------------------------------------------------------------------------------------------\n",
      "df_train= 151592\n",
      "----------------------------------------------------------------------------------------------------\n",
      "df_test 7979\n"
     ]
    },
    {
     "data": {
      "text/html": [
       "<div>\n",
       "<style scoped>\n",
       "    .dataframe tbody tr th:only-of-type {\n",
       "        vertical-align: middle;\n",
       "    }\n",
       "\n",
       "    .dataframe tbody tr th {\n",
       "        vertical-align: top;\n",
       "    }\n",
       "\n",
       "    .dataframe thead th {\n",
       "        text-align: right;\n",
       "    }\n",
       "</style>\n",
       "<table border=\"1\" class=\"dataframe\">\n",
       "  <thead>\n",
       "    <tr style=\"text-align: right;\">\n",
       "      <th></th>\n",
       "      <th>id</th>\n",
       "      <th>comment_text</th>\n",
       "      <th>toxic</th>\n",
       "      <th>severe_toxic</th>\n",
       "      <th>obscene</th>\n",
       "      <th>threat</th>\n",
       "      <th>insult</th>\n",
       "      <th>identity_hate</th>\n",
       "    </tr>\n",
       "  </thead>\n",
       "  <tbody>\n",
       "    <tr>\n",
       "      <th>112537</th>\n",
       "      <td>5a0d2abb47a2a3e4</td>\n",
       "      <td>I'm not sure why one AFD equals consensus but alright whatever.</td>\n",
       "      <td>0</td>\n",
       "      <td>0</td>\n",
       "      <td>0</td>\n",
       "      <td>0</td>\n",
       "      <td>0</td>\n",
       "      <td>0</td>\n",
       "    </tr>\n",
       "    <tr>\n",
       "      <th>34561</th>\n",
       "      <td>5c4838b8e656f2c9</td>\n",
       "      <td>Lead \\n\\nThe last sentence of the third paragraph is quite long and complex grammatically. Perhaps it could be rewritten or broken into multiple sentence to aid readability.</td>\n",
       "      <td>0</td>\n",
       "      <td>0</td>\n",
       "      <td>0</td>\n",
       "      <td>0</td>\n",
       "      <td>0</td>\n",
       "      <td>0</td>\n",
       "    </tr>\n",
       "    <tr>\n",
       "      <th>16251</th>\n",
       "      <td>2ad8e9812c53baaa</td>\n",
       "      <td>Wikipedia:WikiProject_Hertfordshire \\n\\nhope you like the front page for the project, I updated it, made it a yellow style.</td>\n",
       "      <td>0</td>\n",
       "      <td>0</td>\n",
       "      <td>0</td>\n",
       "      <td>0</td>\n",
       "      <td>0</td>\n",
       "      <td>0</td>\n",
       "    </tr>\n",
       "    <tr>\n",
       "      <th>77214</th>\n",
       "      <td>cecec0fcbd682390</td>\n",
       "      <td>I vote that your a fucking asshole with a stick up your ass, and you somehow are retarted enough to believe or like this shit, or you somehow believe its acceptable for people to believe it, fucking idiot, your are a total waste of life!!!</td>\n",
       "      <td>1</td>\n",
       "      <td>0</td>\n",
       "      <td>1</td>\n",
       "      <td>0</td>\n",
       "      <td>1</td>\n",
       "      <td>0</td>\n",
       "    </tr>\n",
       "    <tr>\n",
       "      <th>138261</th>\n",
       "      <td>e3dab04f1cbdf1f9</td>\n",
       "      <td>(second level warning) &gt;</td>\n",
       "      <td>0</td>\n",
       "      <td>0</td>\n",
       "      <td>0</td>\n",
       "      <td>0</td>\n",
       "      <td>0</td>\n",
       "      <td>0</td>\n",
       "    </tr>\n",
       "  </tbody>\n",
       "</table>\n",
       "</div>"
      ],
      "text/plain": [
       "                      id  \\\n",
       "112537  5a0d2abb47a2a3e4   \n",
       "34561   5c4838b8e656f2c9   \n",
       "16251   2ad8e9812c53baaa   \n",
       "77214   cecec0fcbd682390   \n",
       "138261  e3dab04f1cbdf1f9   \n",
       "\n",
       "                                                                                                                                                                                                                                           comment_text  \\\n",
       "112537                                                                                                                                                                                  I'm not sure why one AFD equals consensus but alright whatever.   \n",
       "34561                                                                     Lead \\n\\nThe last sentence of the third paragraph is quite long and complex grammatically. Perhaps it could be rewritten or broken into multiple sentence to aid readability.   \n",
       "16251                                                                                                                       Wikipedia:WikiProject_Hertfordshire \\n\\nhope you like the front page for the project, I updated it, made it a yellow style.   \n",
       "77214   I vote that your a fucking asshole with a stick up your ass, and you somehow are retarted enough to believe or like this shit, or you somehow believe its acceptable for people to believe it, fucking idiot, your are a total waste of life!!!   \n",
       "138261                                                                                                                                                                                                                         (second level warning) >   \n",
       "\n",
       "        toxic  severe_toxic  obscene  threat  insult  identity_hate  \n",
       "112537      0             0        0       0       0              0  \n",
       "34561       0             0        0       0       0              0  \n",
       "16251       0             0        0       0       0              0  \n",
       "77214       1             0        1       0       1              0  \n",
       "138261      0             0        0       0       0              0  "
      ]
     },
     "metadata": {},
     "output_type": "display_data"
    },
    {
     "data": {
      "text/html": [
       "<div>\n",
       "<style scoped>\n",
       "    .dataframe tbody tr th:only-of-type {\n",
       "        vertical-align: middle;\n",
       "    }\n",
       "\n",
       "    .dataframe tbody tr th {\n",
       "        vertical-align: top;\n",
       "    }\n",
       "\n",
       "    .dataframe thead th {\n",
       "        text-align: right;\n",
       "    }\n",
       "</style>\n",
       "<table border=\"1\" class=\"dataframe\">\n",
       "  <thead>\n",
       "    <tr style=\"text-align: right;\">\n",
       "      <th></th>\n",
       "      <th>id</th>\n",
       "      <th>comment_text</th>\n",
       "      <th>toxic</th>\n",
       "      <th>severe_toxic</th>\n",
       "      <th>obscene</th>\n",
       "      <th>threat</th>\n",
       "      <th>insult</th>\n",
       "      <th>identity_hate</th>\n",
       "    </tr>\n",
       "  </thead>\n",
       "  <tbody>\n",
       "    <tr>\n",
       "      <th>4882</th>\n",
       "      <td>0cec1f1b06ba256b</td>\n",
       "      <td>If you are interested in contributing more to kayaking or canoeing related articles you may want to join WikiProject Kayaking.</td>\n",
       "      <td>0</td>\n",
       "      <td>0</td>\n",
       "      <td>0</td>\n",
       "      <td>0</td>\n",
       "      <td>0</td>\n",
       "      <td>0</td>\n",
       "    </tr>\n",
       "    <tr>\n",
       "      <th>121455</th>\n",
       "      <td>89d2d0c904ad3c90</td>\n",
       "      <td>Half of 26 are what I hope seeing \\n\\nBetter solutions could be Crab walks sideways, Chimpanzee eats bugs, crow thieves, Fox prowls, ect.</td>\n",
       "      <td>0</td>\n",
       "      <td>0</td>\n",
       "      <td>0</td>\n",
       "      <td>0</td>\n",
       "      <td>0</td>\n",
       "      <td>0</td>\n",
       "    </tr>\n",
       "    <tr>\n",
       "      <th>110489</th>\n",
       "      <td>4f20d08d4be00f32</td>\n",
       "      <td>\"\\n\\nThen all is well. Just don't forget \"\"Jones\"\", when you abandon ship.   \"</td>\n",
       "      <td>0</td>\n",
       "      <td>0</td>\n",
       "      <td>0</td>\n",
       "      <td>0</td>\n",
       "      <td>0</td>\n",
       "      <td>0</td>\n",
       "    </tr>\n",
       "    <tr>\n",
       "      <th>124347</th>\n",
       "      <td>992f2ebe1c30a785</td>\n",
       "      <td>Getting angry above about it doesn't change the undeniable fact that it needs to go to the main subject.  You've also broken WP:3RR.  And I hate musicals, especially the one with the singing nuns.</td>\n",
       "      <td>0</td>\n",
       "      <td>0</td>\n",
       "      <td>0</td>\n",
       "      <td>0</td>\n",
       "      <td>0</td>\n",
       "      <td>0</td>\n",
       "    </tr>\n",
       "    <tr>\n",
       "      <th>138290</th>\n",
       "      <td>e3f1e68c5b137052</td>\n",
       "      <td>I'm simply saying that that's a comic COVER.  It's public.  It's a widely known thing, like the cover of a novel.  If DC wants the reader to know when they see it on the newsstand, then it's not a spoiler.</td>\n",
       "      <td>0</td>\n",
       "      <td>0</td>\n",
       "      <td>0</td>\n",
       "      <td>0</td>\n",
       "      <td>0</td>\n",
       "      <td>0</td>\n",
       "    </tr>\n",
       "  </tbody>\n",
       "</table>\n",
       "</div>"
      ],
      "text/plain": [
       "                      id  \\\n",
       "4882    0cec1f1b06ba256b   \n",
       "121455  89d2d0c904ad3c90   \n",
       "110489  4f20d08d4be00f32   \n",
       "124347  992f2ebe1c30a785   \n",
       "138290  e3f1e68c5b137052   \n",
       "\n",
       "                                                                                                                                                                                                         comment_text  \\\n",
       "4882                                                                                   If you are interested in contributing more to kayaking or canoeing related articles you may want to join WikiProject Kayaking.   \n",
       "121455                                                                      Half of 26 are what I hope seeing \\n\\nBetter solutions could be Crab walks sideways, Chimpanzee eats bugs, crow thieves, Fox prowls, ect.   \n",
       "110489                                                                                                                                 \"\\n\\nThen all is well. Just don't forget \"\"Jones\"\", when you abandon ship.   \"   \n",
       "124347           Getting angry above about it doesn't change the undeniable fact that it needs to go to the main subject.  You've also broken WP:3RR.  And I hate musicals, especially the one with the singing nuns.   \n",
       "138290  I'm simply saying that that's a comic COVER.  It's public.  It's a widely known thing, like the cover of a novel.  If DC wants the reader to know when they see it on the newsstand, then it's not a spoiler.   \n",
       "\n",
       "        toxic  severe_toxic  obscene  threat  insult  identity_hate  \n",
       "4882        0             0        0       0       0              0  \n",
       "121455      0             0        0       0       0              0  \n",
       "110489      0             0        0       0       0              0  \n",
       "124347      0             0        0       0       0              0  \n",
       "138290      0             0        0       0       0              0  "
      ]
     },
     "metadata": {},
     "output_type": "display_data"
    }
   ],
   "source": [
    "print('-'*100) \n",
    "print('df_train=', len(df_train))\n",
    "print('-'*100) \n",
    "print('df_test', len(df_test))\n",
    "display(df_train.sample(5))\n",
    "display(df_test.sample(5))"
   ]
  },
  {
   "cell_type": "markdown",
   "metadata": {},
   "source": [
    "\n",
    "\n",
    "### 查看数据\n",
    "\n",
    "下面看一看实际的数据是啥样的。"
   ]
  },
  {
   "cell_type": "code",
   "execution_count": 11,
   "metadata": {
    "ExecuteTime": {
     "end_time": "2021-07-24T22:39:12.170108Z",
     "start_time": "2021-07-24T22:39:12.049521Z"
    }
   },
   "outputs": [
    {
     "name": "stdout",
     "output_type": "stream",
     "text": [
      "----------------------------------------------------------------------------------------------------\n"
     ]
    },
    {
     "data": {
      "text/html": [
       "<div>\n",
       "<style scoped>\n",
       "    .dataframe tbody tr th:only-of-type {\n",
       "        vertical-align: middle;\n",
       "    }\n",
       "\n",
       "    .dataframe tbody tr th {\n",
       "        vertical-align: top;\n",
       "    }\n",
       "\n",
       "    .dataframe thead th {\n",
       "        text-align: right;\n",
       "    }\n",
       "</style>\n",
       "<table border=\"1\" class=\"dataframe\">\n",
       "  <thead>\n",
       "    <tr style=\"text-align: right;\">\n",
       "      <th></th>\n",
       "      <th>toxic</th>\n",
       "      <th>severe_toxic</th>\n",
       "      <th>obscene</th>\n",
       "      <th>threat</th>\n",
       "      <th>insult</th>\n",
       "      <th>identity_hate</th>\n",
       "    </tr>\n",
       "  </thead>\n",
       "  <tbody>\n",
       "    <tr>\n",
       "      <th>32759</th>\n",
       "      <td>0</td>\n",
       "      <td>0</td>\n",
       "      <td>0</td>\n",
       "      <td>0</td>\n",
       "      <td>0</td>\n",
       "      <td>0</td>\n",
       "    </tr>\n",
       "  </tbody>\n",
       "</table>\n",
       "</div>"
      ],
      "text/plain": [
       "      toxic severe_toxic obscene threat insult identity_hate\n",
       "32759     0            0       0      0      0             0"
      ]
     },
     "metadata": {},
     "output_type": "display_data"
    },
    {
     "name": "stdout",
     "output_type": "stream",
     "text": [
      "Do as you wish, at the templates.\n",
      "----------------------------------------------------------------------------------------------------\n"
     ]
    },
    {
     "data": {
      "text/html": [
       "<div>\n",
       "<style scoped>\n",
       "    .dataframe tbody tr th:only-of-type {\n",
       "        vertical-align: middle;\n",
       "    }\n",
       "\n",
       "    .dataframe tbody tr th {\n",
       "        vertical-align: top;\n",
       "    }\n",
       "\n",
       "    .dataframe thead th {\n",
       "        text-align: right;\n",
       "    }\n",
       "</style>\n",
       "<table border=\"1\" class=\"dataframe\">\n",
       "  <thead>\n",
       "    <tr style=\"text-align: right;\">\n",
       "      <th></th>\n",
       "      <th>toxic</th>\n",
       "      <th>severe_toxic</th>\n",
       "      <th>obscene</th>\n",
       "      <th>threat</th>\n",
       "      <th>insult</th>\n",
       "      <th>identity_hate</th>\n",
       "    </tr>\n",
       "  </thead>\n",
       "  <tbody>\n",
       "    <tr>\n",
       "      <th>64958</th>\n",
       "      <td>0</td>\n",
       "      <td>0</td>\n",
       "      <td>0</td>\n",
       "      <td>0</td>\n",
       "      <td>0</td>\n",
       "      <td>0</td>\n",
       "    </tr>\n",
       "  </tbody>\n",
       "</table>\n",
       "</div>"
      ],
      "text/plain": [
       "      toxic severe_toxic obscene threat insult identity_hate\n",
       "64958     0            0       0      0      0             0"
      ]
     },
     "metadata": {},
     "output_type": "display_data"
    },
    {
     "name": "stdout",
     "output_type": "stream",
     "text": [
      "\"\n",
      "\n",
      "Re:Obould Many Arrows\n",
      "I can back it up. If you go to the R A Salvatore home page there is a sample chapter of the new book, The Orc King. It names the Obould in that book as Obould the 6th. It also clearly states that the book is set a century after. Thank You for your concern. Drizzt mo \"\n",
      "----------------------------------------------------------------------------------------------------\n"
     ]
    },
    {
     "data": {
      "text/html": [
       "<div>\n",
       "<style scoped>\n",
       "    .dataframe tbody tr th:only-of-type {\n",
       "        vertical-align: middle;\n",
       "    }\n",
       "\n",
       "    .dataframe tbody tr th {\n",
       "        vertical-align: top;\n",
       "    }\n",
       "\n",
       "    .dataframe thead th {\n",
       "        text-align: right;\n",
       "    }\n",
       "</style>\n",
       "<table border=\"1\" class=\"dataframe\">\n",
       "  <thead>\n",
       "    <tr style=\"text-align: right;\">\n",
       "      <th></th>\n",
       "      <th>toxic</th>\n",
       "      <th>severe_toxic</th>\n",
       "      <th>obscene</th>\n",
       "      <th>threat</th>\n",
       "      <th>insult</th>\n",
       "      <th>identity_hate</th>\n",
       "    </tr>\n",
       "  </thead>\n",
       "  <tbody>\n",
       "    <tr>\n",
       "      <th>99724</th>\n",
       "      <td>0</td>\n",
       "      <td>0</td>\n",
       "      <td>0</td>\n",
       "      <td>0</td>\n",
       "      <td>0</td>\n",
       "      <td>0</td>\n",
       "    </tr>\n",
       "  </tbody>\n",
       "</table>\n",
       "</div>"
      ],
      "text/plain": [
       "      toxic severe_toxic obscene threat insult identity_hate\n",
       "99724     0            0       0      0      0             0"
      ]
     },
     "metadata": {},
     "output_type": "display_data"
    },
    {
     "name": "stdout",
     "output_type": "stream",
     "text": [
      "Jehochman, you appear to be working under the misunderstanding that just because an article is listed on the main page it can't be tagged for problems. That's ass-backward. It's wrong. It's not based on any policy I can think of (indeed, that would be against policy). Please don't dispense this misinformation with this tone of faux-authority as it is clear you're out of your element when it comes to content policies. And seriously, edit warring by an admin is bad enough by itself.\n",
      "----------------------------------------------------------------------------------------------------\n"
     ]
    },
    {
     "data": {
      "text/html": [
       "<div>\n",
       "<style scoped>\n",
       "    .dataframe tbody tr th:only-of-type {\n",
       "        vertical-align: middle;\n",
       "    }\n",
       "\n",
       "    .dataframe tbody tr th {\n",
       "        vertical-align: top;\n",
       "    }\n",
       "\n",
       "    .dataframe thead th {\n",
       "        text-align: right;\n",
       "    }\n",
       "</style>\n",
       "<table border=\"1\" class=\"dataframe\">\n",
       "  <thead>\n",
       "    <tr style=\"text-align: right;\">\n",
       "      <th></th>\n",
       "      <th>toxic</th>\n",
       "      <th>severe_toxic</th>\n",
       "      <th>obscene</th>\n",
       "      <th>threat</th>\n",
       "      <th>insult</th>\n",
       "      <th>identity_hate</th>\n",
       "    </tr>\n",
       "  </thead>\n",
       "  <tbody>\n",
       "    <tr>\n",
       "      <th>33200</th>\n",
       "      <td>1</td>\n",
       "      <td>0</td>\n",
       "      <td>1</td>\n",
       "      <td>0</td>\n",
       "      <td>1</td>\n",
       "      <td>1</td>\n",
       "    </tr>\n",
       "  </tbody>\n",
       "</table>\n",
       "</div>"
      ],
      "text/plain": [
       "      toxic severe_toxic obscene threat insult identity_hate\n",
       "33200     1            0       1      0      1             1"
      ]
     },
     "metadata": {},
     "output_type": "display_data"
    },
    {
     "name": "stdout",
     "output_type": "stream",
     "text": [
      "What?? \n",
      "\n",
      "Go lick a pig you arab muslim peice of scum.\n",
      "----------------------------------------------------------------------------------------------------\n"
     ]
    },
    {
     "data": {
      "text/html": [
       "<div>\n",
       "<style scoped>\n",
       "    .dataframe tbody tr th:only-of-type {\n",
       "        vertical-align: middle;\n",
       "    }\n",
       "\n",
       "    .dataframe tbody tr th {\n",
       "        vertical-align: top;\n",
       "    }\n",
       "\n",
       "    .dataframe thead th {\n",
       "        text-align: right;\n",
       "    }\n",
       "</style>\n",
       "<table border=\"1\" class=\"dataframe\">\n",
       "  <thead>\n",
       "    <tr style=\"text-align: right;\">\n",
       "      <th></th>\n",
       "      <th>toxic</th>\n",
       "      <th>severe_toxic</th>\n",
       "      <th>obscene</th>\n",
       "      <th>threat</th>\n",
       "      <th>insult</th>\n",
       "      <th>identity_hate</th>\n",
       "    </tr>\n",
       "  </thead>\n",
       "  <tbody>\n",
       "    <tr>\n",
       "      <th>139029</th>\n",
       "      <td>0</td>\n",
       "      <td>0</td>\n",
       "      <td>0</td>\n",
       "      <td>0</td>\n",
       "      <td>0</td>\n",
       "      <td>0</td>\n",
       "    </tr>\n",
       "  </tbody>\n",
       "</table>\n",
       "</div>"
      ],
      "text/plain": [
       "       toxic severe_toxic obscene threat insult identity_hate\n",
       "139029     0            0       0      0      0             0"
      ]
     },
     "metadata": {},
     "output_type": "display_data"
    },
    {
     "name": "stdout",
     "output_type": "stream",
     "text": [
      "Iron Man\n",
      "Hi, Horkana. Always good to see your name on an edit!\n",
      "\n",
      "My concern is that runtimes are notoriously difficult to pin down  it's one of the banes of my existence in my capacity as a film critic. If WP:FILM doesn't require a cite for runtime, I'm perfectly cool with that, of course. It's just that in practical terms, I've found that for almost every film, different sources given different runtimes, and so it'd be good to know where a particular number came from. You have more experience in film-article editing, so I'll follow your lead  whatever you think best. Keep up the great editing!\n"
     ]
    }
   ],
   "source": [
    "for i, row in df_train.sample(5).iterrows():\n",
    "    print('-'*100) \n",
    "    display(row.to_frame().T[params.classes]) \n",
    "    print(row[\"comment_text\"]) "
   ]
  },
  {
   "cell_type": "markdown",
   "metadata": {},
   "source": [
    "\n",
    "\n",
    "## 探索数据\n",
    "\n",
    "接下来，对把数据加载进内存，进行深入一些的探索。\n",
    "\n",
    "### 基本信息"
   ]
  },
  {
   "cell_type": "code",
   "execution_count": 12,
   "metadata": {
    "ExecuteTime": {
     "end_time": "2021-07-24T22:39:12.277986Z",
     "start_time": "2021-07-24T22:39:12.172822Z"
    }
   },
   "outputs": [
    {
     "name": "stdout",
     "output_type": "stream",
     "text": [
      "train_texts.length=151592, train_labels.shape=(151592, 6)\n",
      "test_texts.length=7979, test_labels.shape=(7979, 6)\n"
     ]
    }
   ],
   "source": [
    "def get_samples(texts, labels, rate):\n",
    "    indexs = np.arange(len(texts))\n",
    "    sample_indexs, _, sample_labels, _ = train_test_split(indexs, labels,                                                          \n",
    "                                                          test_size=1-rate,\n",
    "                                                          random_state=12)\n",
    "    sample_texts = [texts[index] for index in sample_indexs]\n",
    "    return sample_texts, sample_labels    \n",
    "\n",
    "def load_toxicity(df, classes=params.classes):\n",
    "    \n",
    "    texts = list(df['comment_text'])\n",
    "    labels = df[classes].to_numpy()\n",
    "\n",
    "    return texts, labels\n",
    "\n",
    "train_texts, train_labels = load_toxicity(df_train)\n",
    "test_texts, test_labels = load_toxicity(df_test)\n",
    "\n",
    "\n",
    "if params.sample_perecent<1:\n",
    "    train_texts, train_labels = get_samples(train_texts, train_labels, rate=params.sample_perecent)\n",
    "    test_texts, test_labels = get_samples(test_texts, test_labels, rate=params.sample_perecent)\n",
    "\n",
    "print('train_texts.length={}, train_labels.shape={}'.format(len(train_texts), train_labels.shape))\n",
    "print('test_texts.length={}, test_labels.shape={}'.format(len(test_texts), test_labels.shape))"
   ]
  },
  {
   "cell_type": "code",
   "execution_count": 13,
   "metadata": {
    "ExecuteTime": {
     "end_time": "2021-07-24T22:39:12.343365Z",
     "start_time": "2021-07-24T22:39:12.280400Z"
    }
   },
   "outputs": [
    {
     "data": {
      "text/plain": [
       "\"Misplaced article\\nI noticed that you began to write an article at Portal:Contents.\\nI have undone your edit there, because that page is one of the encyclopedia's main index pages. It is not a good place to submit content for the encyclopedia.\\nI suggest that you look at Wikipedia:Your first article and perhaps try again using the Article wizard.\""
      ]
     },
     "execution_count": 13,
     "metadata": {},
     "output_type": "execute_result"
    }
   ],
   "source": [
    "test_texts[0]"
   ]
  },
  {
   "cell_type": "markdown",
   "metadata": {},
   "source": [
    "### 类别分布\n",
    "\n",
    "下面看看类别的分布。可以看到数据分为Positive和Negative两类，数据分布完全均匀。"
   ]
  },
  {
   "cell_type": "code",
   "execution_count": 14,
   "metadata": {
    "ExecuteTime": {
     "end_time": "2021-07-24T22:39:13.368437Z",
     "start_time": "2021-07-24T22:39:12.345574Z"
    }
   },
   "outputs": [
    {
     "data": {
      "image/png": "[encoded data removed]",
      "text/plain": [
       "<Figure size 1152x288 with 2 Axes>"
      ]
     },
     "metadata": {
      "needs_background": "light"
     },
     "output_type": "display_data"
    }
   ],
   "source": [
    "qtf.utils.plot_distribution(train_labels, test_labels, params.classes)"
   ]
  },
  {
   "cell_type": "markdown",
   "metadata": {},
   "source": [
    "\n",
    "\n",
    "### 文本长度分布\n",
    "\n",
    "分析训练集和测试集的文本长度分布是否相似。"
   ]
  },
  {
   "cell_type": "code",
   "execution_count": 15,
   "metadata": {
    "ExecuteTime": {
     "end_time": "2021-07-24T22:39:16.242304Z",
     "start_time": "2021-07-24T22:39:13.370847Z"
    }
   },
   "outputs": [
    {
     "data": {
      "image/png": "[encoded data removed]",
      "text/plain": [
       "<Figure size 864x288 with 2 Axes>"
      ]
     },
     "metadata": {
      "needs_background": "light"
     },
     "output_type": "display_data"
    },
    {
     "name": "stdout",
     "output_type": "stream",
     "text": [
      "train：mean=67.36 variance=9872.86\n",
      "test：mean=65.68 variance=9346.42\n"
     ]
    }
   ],
   "source": [
    "train_text_lengths = [len(s.split()) for s in train_texts]\n",
    "test_text_lengths = [len(s.split()) for s in test_texts]\n",
    "qtf.utils.plot_length_distribution(train_text_lengths, test_text_lengths)\n",
    "\n",
    "print('train：mean={:0.2f} variance={:0.2f}'.format(np.mean(train_text_lengths), \n",
    "                                                    np.var(train_text_lengths)))\n",
    "print('test：mean={:0.2f} variance={:0.2f}'.format(np.mean(test_text_lengths), \n",
    "                                                   np.var(test_text_lengths)))"
   ]
  },
  {
   "cell_type": "markdown",
   "metadata": {},
   "source": [
    "\n",
    "通过图形，中位数，均值和方差的比较，可以认为训练集和测试集文本长度的分布是非常相似的。下面用卡方检验来比较训练集和测试集是否有显著差异。"
   ]
  },
  {
   "cell_type": "code",
   "execution_count": 16,
   "metadata": {
    "ExecuteTime": {
     "end_time": "2021-07-24T22:39:16.563245Z",
     "start_time": "2021-07-24T22:39:16.244769Z"
    }
   },
   "outputs": [
    {
     "name": "stdout",
     "output_type": "stream",
     "text": [
      "------------------------- Observed -------------------------\n"
     ]
    },
    {
     "data": {
      "text/html": [
       "<div>\n",
       "<style scoped>\n",
       "    .dataframe tbody tr th:only-of-type {\n",
       "        vertical-align: middle;\n",
       "    }\n",
       "\n",
       "    .dataframe tbody tr th {\n",
       "        vertical-align: top;\n",
       "    }\n",
       "\n",
       "    .dataframe thead th {\n",
       "        text-align: right;\n",
       "    }\n",
       "</style>\n",
       "<table border=\"1\" class=\"dataframe\">\n",
       "  <thead>\n",
       "    <tr style=\"text-align: right;\">\n",
       "      <th></th>\n",
       "      <th>0-99</th>\n",
       "      <th>100-199</th>\n",
       "      <th>200-299</th>\n",
       "      <th>300-399</th>\n",
       "      <th>400-499</th>\n",
       "      <th>500-599</th>\n",
       "      <th>600-699</th>\n",
       "      <th>700-799</th>\n",
       "      <th>800+</th>\n",
       "      <th>合计</th>\n",
       "    </tr>\n",
       "    <tr>\n",
       "      <th></th>\n",
       "      <th></th>\n",
       "      <th></th>\n",
       "      <th></th>\n",
       "      <th></th>\n",
       "      <th></th>\n",
       "      <th></th>\n",
       "      <th></th>\n",
       "      <th></th>\n",
       "      <th></th>\n",
       "      <th></th>\n",
       "    </tr>\n",
       "  </thead>\n",
       "  <tbody>\n",
       "    <tr>\n",
       "      <th>test</th>\n",
       "      <td>6609</td>\n",
       "      <td>872</td>\n",
       "      <td>283</td>\n",
       "      <td>76</td>\n",
       "      <td>42</td>\n",
       "      <td>33</td>\n",
       "      <td>29</td>\n",
       "      <td>19</td>\n",
       "      <td>16</td>\n",
       "      <td>7979</td>\n",
       "    </tr>\n",
       "    <tr>\n",
       "      <th>train</th>\n",
       "      <td>124400</td>\n",
       "      <td>17522</td>\n",
       "      <td>5032</td>\n",
       "      <td>1770</td>\n",
       "      <td>897</td>\n",
       "      <td>624</td>\n",
       "      <td>558</td>\n",
       "      <td>481</td>\n",
       "      <td>308</td>\n",
       "      <td>151592</td>\n",
       "    </tr>\n",
       "    <tr>\n",
       "      <th>合计</th>\n",
       "      <td>131009</td>\n",
       "      <td>18394</td>\n",
       "      <td>5315</td>\n",
       "      <td>1846</td>\n",
       "      <td>939</td>\n",
       "      <td>657</td>\n",
       "      <td>587</td>\n",
       "      <td>500</td>\n",
       "      <td>324</td>\n",
       "      <td>159571</td>\n",
       "    </tr>\n",
       "  </tbody>\n",
       "</table>\n",
       "</div>"
      ],
      "text/plain": [
       "         0-99  100-199  200-299  300-399  400-499  500-599  600-699  700-799  \\\n",
       "                                                                               \n",
       "test     6609      872      283       76       42       33       29       19   \n",
       "train  124400    17522     5032     1770      897      624      558      481   \n",
       "合计     131009    18394     5315     1846      939      657      587      500   \n",
       "\n",
       "       800+      合计  \n",
       "                     \n",
       "test     16    7979  \n",
       "train   308  151592  \n",
       "合计      324  159571  "
      ]
     },
     "metadata": {},
     "output_type": "display_data"
    },
    {
     "name": "stdout",
     "output_type": "stream",
     "text": [
      "------------------------- Expected -------------------------\n"
     ]
    },
    {
     "data": {
      "text/html": [
       "<div>\n",
       "<style scoped>\n",
       "    .dataframe tbody tr th:only-of-type {\n",
       "        vertical-align: middle;\n",
       "    }\n",
       "\n",
       "    .dataframe tbody tr th {\n",
       "        vertical-align: top;\n",
       "    }\n",
       "\n",
       "    .dataframe thead th {\n",
       "        text-align: right;\n",
       "    }\n",
       "</style>\n",
       "<table border=\"1\" class=\"dataframe\">\n",
       "  <thead>\n",
       "    <tr style=\"text-align: right;\">\n",
       "      <th></th>\n",
       "      <th>0-99</th>\n",
       "      <th>100-199</th>\n",
       "      <th>200-299</th>\n",
       "      <th>300-399</th>\n",
       "      <th>400-499</th>\n",
       "      <th>500-599</th>\n",
       "      <th>600-699</th>\n",
       "      <th>700-799</th>\n",
       "      <th>800+</th>\n",
       "      <th>合计</th>\n",
       "    </tr>\n",
       "    <tr>\n",
       "      <th></th>\n",
       "      <th></th>\n",
       "      <th></th>\n",
       "      <th></th>\n",
       "      <th></th>\n",
       "      <th></th>\n",
       "      <th></th>\n",
       "      <th></th>\n",
       "      <th></th>\n",
       "      <th></th>\n",
       "      <th></th>\n",
       "    </tr>\n",
       "  </thead>\n",
       "  <tbody>\n",
       "    <tr>\n",
       "      <th>test</th>\n",
       "      <td>6550.819453</td>\n",
       "      <td>919.751872</td>\n",
       "      <td>265.764989</td>\n",
       "      <td>92.305206</td>\n",
       "      <td>46.952648</td>\n",
       "      <td>32.851853</td>\n",
       "      <td>29.351655</td>\n",
       "      <td>25.00141</td>\n",
       "      <td>16.200914</td>\n",
       "      <td>7979.0</td>\n",
       "    </tr>\n",
       "    <tr>\n",
       "      <th>train</th>\n",
       "      <td>124458.180547</td>\n",
       "      <td>17474.248128</td>\n",
       "      <td>5049.235011</td>\n",
       "      <td>1753.694794</td>\n",
       "      <td>892.047352</td>\n",
       "      <td>624.148147</td>\n",
       "      <td>557.648345</td>\n",
       "      <td>474.99859</td>\n",
       "      <td>307.799086</td>\n",
       "      <td>151592.0</td>\n",
       "    </tr>\n",
       "    <tr>\n",
       "      <th>合计</th>\n",
       "      <td>131009.000000</td>\n",
       "      <td>18394.000000</td>\n",
       "      <td>5315.000000</td>\n",
       "      <td>1846.000000</td>\n",
       "      <td>939.000000</td>\n",
       "      <td>657.000000</td>\n",
       "      <td>587.000000</td>\n",
       "      <td>500.00000</td>\n",
       "      <td>324.000000</td>\n",
       "      <td>159571.0</td>\n",
       "    </tr>\n",
       "  </tbody>\n",
       "</table>\n",
       "</div>"
      ],
      "text/plain": [
       "                0-99       100-199      200-299      300-399     400-499  \\\n",
       "                                                                           \n",
       "test     6550.819453    919.751872   265.764989    92.305206   46.952648   \n",
       "train  124458.180547  17474.248128  5049.235011  1753.694794  892.047352   \n",
       "合计     131009.000000  18394.000000  5315.000000  1846.000000  939.000000   \n",
       "\n",
       "          500-599     600-699    700-799        800+        合计  \n",
       "                                                                \n",
       "test    32.851853   29.351655   25.00141   16.200914    7979.0  \n",
       "train  624.148147  557.648345  474.99859  307.799086  151592.0  \n",
       "合计     657.000000  587.000000  500.00000  324.000000  159571.0  "
      ]
     },
     "metadata": {},
     "output_type": "display_data"
    }
   ],
   "source": [
    "def process_length(lengths):\n",
    "    cut_points = [0,99,199,299,399,499,599,699,799,10000]\n",
    "    labels = [\"0-99\",\"100-199\",\"200-299\",\"300-399\",\"400-499\",\"500-599\", \"600-699\",\"700-799\",\"800+\"]\n",
    "    return pd.cut(lengths, cut_points, labels=labels)\n",
    "\n",
    "def get_observed(df, column1, column2):\n",
    "    df_observed = pd.crosstab(\n",
    "        df[column1],\n",
    "        df[column2]\n",
    "    )    \n",
    "    return df_observed\n",
    "    \n",
    "def get_expected(df_observed):\n",
    "    observed = df_observed.to_numpy()\n",
    "    reduce_row = observed.sum(axis=0, keepdims=True)/observed.sum()\n",
    "    reduce_col = observed.sum(axis=1, keepdims=True)\n",
    "\n",
    "    expected = reduce_col.dot(reduce_row)\n",
    "    df_expected = pd.DataFrame(expected, index=df_observed.index, columns=df_observed.columns)\n",
    "    return df_expected\n",
    "  \n",
    "def show_sum(df):\n",
    "    df.columns =  df.columns.tolist()  \n",
    "    df = df.reset_index()\n",
    "    s = df.melt(df.columns[0], var_name=' ')\n",
    "    ct = pd.crosstab(index=s[df.columns[0]], columns=s.iloc[:,1], values=s.value, \n",
    "                     aggfunc='sum', margins=True, margins_name='合计',\n",
    "                     rownames=[''], \n",
    "               ) \n",
    "    display(ct)\n",
    "    \n",
    "length = train_text_lengths + test_text_lengths\n",
    "dataset = ['train']*len(train_text_lengths) + ['test']*len(test_text_lengths)\n",
    "\n",
    "df_length = pd.DataFrame({\"dataset\":dataset, \"length\":length})\n",
    "df_length['len'] = process_length(length)\n",
    "df_observed = get_observed(df_length, 'dataset', 'len')\n",
    "# display(df_length)\n",
    "\n",
    "print('-'*25, 'Observed', '-'*25)\n",
    "show_sum(df_observed)\n",
    "\n",
    "print('-'*25, 'Expected', '-'*25)\n",
    "df_expected = get_expected(df_observed)\n",
    "show_sum(df_expected)"
   ]
  },
  {
   "cell_type": "markdown",
   "metadata": {},
   "source": [
    "![image-20210101174143400](images/image-20210101174143400.png)\n",
    "\n",
    "然后进行卡方检验。可以看到p_value>0.05，所以接受原假设——数据集来源和文本长度是独立的，也就是说接受训练集和测试集是是相似的分布。"
   ]
  },
  {
   "cell_type": "code",
   "execution_count": 17,
   "metadata": {
    "ExecuteTime": {
     "end_time": "2021-07-24T22:39:16.633106Z",
     "start_time": "2021-07-24T22:39:16.565705Z"
    }
   },
   "outputs": [
    {
     "name": "stdout",
     "output_type": "stream",
     "text": [
      "chi_squared_stat = 9.436054249482249\n",
      "critical_value = 15.50731305586545\n",
      "p_value = 0.3068556587694957\n"
     ]
    }
   ],
   "source": [
    "observed = df_observed.to_numpy()\n",
    "expected = df_expected.to_numpy()\n",
    "\n",
    "chi_squared_stat = ((observed-expected)**2/expected).sum()\n",
    "print('chi_squared_stat =', chi_squared_stat)\n",
    "\n",
    "df = np.prod(np.array(observed.shape) - 1)\n",
    "critical_value  = stats.chi2.ppf(q=0.95, df=df)  #0.95:置信水平, df:自由度\n",
    "print('critical_value =', critical_value)        #临界值:拒绝域的边界, 当卡方值大于临界值，则原假设不成立，备择假设成立\n",
    "\n",
    "p_value = 1 - stats.chi2.cdf(x=chi_squared_stat, df=df)\n",
    "print('p_value =', p_value)"
   ]
  },
  {
   "cell_type": "markdown",
   "metadata": {},
   "source": [
    "\n",
    "### 词频分布\n",
    "\n",
    "分析训练集和测试集的词频分布是否相似。下面代码中，去除了一些stopwords。"
   ]
  },
  {
   "cell_type": "code",
   "execution_count": 18,
   "metadata": {
    "ExecuteTime": {
     "end_time": "2021-07-24T22:39:31.579732Z",
     "start_time": "2021-07-24T22:39:16.635712Z"
    }
   },
   "outputs": [
    {
     "data": {
      "image/png": "[encoded data removed]",
      "text/plain": [
       "<Figure size 1152x864 with 2 Axes>"
      ]
     },
     "metadata": {
      "needs_background": "light"
     },
     "output_type": "display_data"
    }
   ],
   "source": [
    "qtf.utils.plot_frequency_distribution(train_texts, test_texts) "
   ]
  },
  {
   "cell_type": "code",
   "execution_count": 19,
   "metadata": {
    "ExecuteTime": {
     "end_time": "2021-07-24T22:39:35.374852Z",
     "start_time": "2021-07-24T22:39:31.582227Z"
    }
   },
   "outputs": [
    {
     "name": "stdout",
     "output_type": "stream",
     "text": [
      "Number of Vocabulary: 532299\n",
      "Number of Vocabulary: 19973\n"
     ]
    }
   ],
   "source": [
    "word_counter = Counter()\n",
    "for s in train_texts:\n",
    "    word_counter.update(s.split())\n",
    "for s in test_texts:\n",
    "    word_counter.update(s.split())   \n",
    "\n",
    "print('Number of Vocabulary: {}'.format(len(word_counter)))\n",
    "\n",
    "for word in list(word_counter):\n",
    "    if word_counter[word]<25: word_counter.pop(word)\n",
    "        \n",
    "print('Number of Vocabulary: {}'.format(len(word_counter)))"
   ]
  },
  {
   "cell_type": "markdown",
   "metadata": {},
   "source": [
    "\n",
    "\n",
    "## 准备数据\n",
    "\n",
    "不同的模型需要准备不同的数据，所以徐要确定一下要构建哪种模型。\n",
    "\n",
    "### 模型选择\n",
    "\n",
    "下图是google在两年前提出一个选择流程图。\n",
    "\n",
    "![image-20201217135347743](images/image-20201217135347743.png)\n",
    "\n",
    "1. Calculate the number of samples/number of words per sample ratio.\n",
    "2. If this ratio is less than 1500, tokenize the text as n-grams and use a simple multi-layer perceptron (MLP) model to classify them (left branch in the flowchart below):\n",
    "   a. Split the samples into word n-grams; convert the n-grams into vectors.\n",
    "     b. Score the importance of the vectors and then select the top 20K using the scores.\n",
    "   c. Build an MLP model.\n",
    "3. If the ratio is greater than 1500, tokenize the text as sequences and use a sepCNN model to classify them (right branch in the flowchart below):\n",
    "   a. Split the samples into words; select the top 20K words based on their frequency.\n",
    "   b. Convert the samples into word sequence vectors.\n",
    "   c. If the original number of samples/number of words per sample ratio is less   than 15K, using a fine-tuned pre-trained embedding with the sepCNN  model will likely provide the best results.\n",
    "4. Measure the model performance with different hyperparameter values to find\n",
    "   the best model configuration for the dataset."
   ]
  },
  {
   "cell_type": "code",
   "execution_count": 20,
   "metadata": {
    "ExecuteTime": {
     "end_time": "2021-07-24T22:39:35.453391Z",
     "start_time": "2021-07-24T22:39:35.377287Z"
    }
   },
   "outputs": [
    {
     "name": "stdout",
     "output_type": "stream",
     "text": [
      "[the number of samples]/[number of words per sample] = 4210.9\n"
     ]
    }
   ],
   "source": [
    "length_median = np.median(train_text_lengths)\n",
    "train_number = len(train_texts)\n",
    "print (\"[the number of samples]/[number of words per sample] = {:0.1f}\".format(train_number/length_median))"
   ]
  },
  {
   "cell_type": "markdown",
   "metadata": {},
   "source": [
    "可以看到这个比例大大小于15k，所以我们从N-gram模型开始，但是同时我们也会为Sequence模型准备数据。数据准备有如下几个过程。\n",
    "1. Standardization \n",
    "   \n",
    "   文本标准化操作，去除一些不合规范的字符或单词等。比如：去除拼音和HTML标记\n",
    "   \n",
    "   \n",
    "2. Tokenization\n",
    "\n",
    "   把文本字符串拆分成Token。对于英文最常见的拆分方式是根据空格拆分\n",
    "   \n",
    "   \n",
    "3. Vectorization\n",
    "\n",
    "   把Token转化为向量。\n",
    "   \n",
    "\n",
    "接下来，我们将分别为N-gram模型和Sequence模型准备数据。\n",
    "\n",
    "### N-gram + Preprocess\n",
    "\n",
    "在N-gram模型中，Tokenization一般使用unigrams + bigrams的方式把文本转成Token，而Vectorization过程，一般先统计Token的BOW（Bag of Words，词袋模型），然后采用tf-idf在对词频进行平衡。"
   ]
  },
  {
   "cell_type": "code",
   "execution_count": 21,
   "metadata": {
    "ExecuteTime": {
     "end_time": "2021-07-24T22:40:31.159355Z",
     "start_time": "2021-07-24T22:39:35.455716Z"
    }
   },
   "outputs": [],
   "source": [
    "stop_words = params.stop_words if params.use_stop_words else None\n",
    "generator = qtf.text.NgramGenerator('ngram_preproess', standardize=qtf.text.standardize_text1,\n",
    "                                    texts=train_texts, labels=train_labels, max_feature=params.max_features, \n",
    "                                    stop_words=stop_words)\n",
    "ngram_datasets1 = qtf.classification.Datasets(train_texts, train_labels, test_texts, test_labels, \n",
    "                                              generator=generator, batch_size=params.batch_size)"
   ]
  },
  {
   "cell_type": "code",
   "execution_count": 22,
   "metadata": {
    "ExecuteTime": {
     "end_time": "2021-07-24T22:40:31.209210Z",
     "start_time": "2021-07-24T22:40:31.161513Z"
    }
   },
   "outputs": [
    {
     "data": {
      "text/plain": [
       "562985"
      ]
     },
     "execution_count": 22,
     "metadata": {},
     "output_type": "execute_result"
    }
   ],
   "source": [
    "len(generator.vectorizer.vocabulary_)"
   ]
  },
  {
   "cell_type": "code",
   "execution_count": 23,
   "metadata": {
    "ExecuteTime": {
     "end_time": "2021-07-24T22:40:32.106577Z",
     "start_time": "2021-07-24T22:40:31.211242Z"
    }
   },
   "outputs": [
    {
     "name": "stdout",
     "output_type": "stream",
     "text": [
      "<class 'tensorflow.python.framework.sparse_tensor.SparseTensor'>\n",
      "(32, 30000) (32, 6)\n",
      "---------------------------------------- toxic, obscene, insult ----------------------------------------\n",
      "True (30000,)\n",
      "----------------------------------------  ----------------------------------------\n",
      "True (30000,)\n",
      "----------------------------------------  ----------------------------------------\n",
      "True (30000,)\n",
      "----------------------------------------  ----------------------------------------\n",
      "True (30000,)\n",
      "----------------------------------------  ----------------------------------------\n",
      "True (30000,)\n"
     ]
    }
   ],
   "source": [
    "data, labels = iter(ngram_datasets1.train_dataset).next()\n",
    "print(type(data))\n",
    "print(data.shape, labels.shape)\n",
    "\n",
    "for i, (item, label) in enumerate(zip(tf.sparse.to_dense(data), labels)):\n",
    "    if i>=5: break\n",
    "    label_ = ', '.join([params.classes[i] for i, l in enumerate(label) if l>0])\n",
    "    print('-'*40, label_, '-'*40)\n",
    "    print(np.any(item.numpy()>0), item.shape)"
   ]
  },
  {
   "cell_type": "markdown",
   "metadata": {},
   "source": [
    "### Sequence + Preprocess"
   ]
  },
  {
   "cell_type": "code",
   "execution_count": 24,
   "metadata": {
    "ExecuteTime": {
     "end_time": "2021-07-24T22:41:08.126855Z",
     "start_time": "2021-07-24T22:40:32.108724Z"
    }
   },
   "outputs": [],
   "source": [
    "generator = qtf.text.SequenceGenerator('sequence_prepross', standardize=qtf.text.standardize_text1, \n",
    "                                       texts=train_texts, max_features=params.max_features, \n",
    "                                       max_sequence_length=params.sequence_length)\n",
    "sequence_datasets1 = qtf.classification.Datasets(train_texts, train_labels, test_texts, test_labels, \n",
    "                                                 generator=generator, batch_size=params.batch_size) "
   ]
  },
  {
   "cell_type": "code",
   "execution_count": 25,
   "metadata": {
    "ExecuteTime": {
     "end_time": "2021-07-24T22:41:08.545669Z",
     "start_time": "2021-07-24T22:41:08.128988Z"
    }
   },
   "outputs": [
    {
     "name": "stdout",
     "output_type": "stream",
     "text": [
      "(32, 100) (32, 6)\n",
      "----------------------------------------  ----------------------------------------\n",
      "[   0    0    0    0    0    0    0    0    0    0    0    0    0    0\n",
      "    0    0    0    0    0    0    0    0    0    0    0    0    0    0\n",
      "    0    0    0    0    0    0    0    0    0    0    0    0    0    0\n",
      "    0    0    0    0    0    0    0    0    0    0    0    0    0    0\n",
      "    0    0    0    0    0    0    0    0    0    0    0    0    0    0\n",
      "    0    0    0    0    0    0    0    0    0    0    0    5  172  266\n",
      " 2694   41   82  757    8  161   33    3   32   11   23   58   43    1\n",
      "    1    1] (100,)\n",
      "----------------------------------------  ----------------------------------------\n",
      "[   0    0    0    0    0    0    0    0    0    0    0    0    0    0\n",
      "    0    0    0    0    0    0    0    0    0    0    0    0    0    0\n",
      "    0    0    0    0 2738  323  218   25  134    4    2 2509   92  104\n",
      "    3    5  606   25 1016    6    2  994 1698 1983  257 1064    7 2376\n",
      " 5145    1    1    1  132    1    2  123 4019   36 3101    6  655   11\n",
      "   92  540   13 2738  323 4543    1    2  425   72 1606  106  597  496\n",
      "  107 4293   23  843   11   28 2628  380   42   40   19 1989    3   17\n",
      " 4078    1] (100,)\n",
      "----------------------------------------  ----------------------------------------\n",
      "[  869    38  1074  3898     3    31    38  4775     1    17    48  1399\n",
      "  5013  3843    37   919 13401   310 17953     1    17    48   919  1090\n",
      "    13  5013 15619   919  2417    40   200    19   648   889    20 16245\n",
      "     1   109  1544   276     2  1832    31     2   295    24     2   295\n",
      "  8786  8812    30   267    13  1539  1544     3    32     2  8812    30\n",
      "    17     1 15894 26317     5    75    17   195     2  3907   919    13\n",
      "  1544    51    19    36   465   119     1    32     5    39    74    67\n",
      "  2073     7  3664    10   644     7    28  5678    89 13937     7  9414\n",
      "   110 11574    12     1] (100,)\n",
      "----------------------------------------  ----------------------------------------\n",
      "[    0     0     0     0     0     0     0     0     0     0     0     0\n",
      "     0     0     0     0     0     0     0     0     0     0     0     0\n",
      "     0     0     0     0     0     0     0     0     0     0     0     0\n",
      "     0     0     0     0     0     0     0     0     0     0     0     0\n",
      "     0     0     0     0     0     0     0     0     0     0     0     0\n",
      "     0     0     0     0     0     0     0     0     0     0     0     0\n",
      "     0     0     0     0     0     0     0     0     0     0     0     0\n",
      "     0     0     0     0     0  1665   382   344    24    10    47 14427\n",
      "    15    11    57    24] (100,)\n",
      "----------------------------------------  ----------------------------------------\n",
      "[   0    0    0    0    0    0    0    0    0    0    0    0    0    0\n",
      "    0    0    0    0    0    0    0    0    0    0    0    0    0    0\n",
      "    0    0    0    0    0    0    0    0    0    0    0    0    0    0\n",
      "    0    0    0    0    0    0    0    0    0    0    0    0    0    0\n",
      "    0    0    0    0    0    0    0    0    0    0    0    0    0    0\n",
      "    0    0    0    0    0    0    0    0    0    0    0    0    0    0\n",
      "    0    0    0    0    0 1061  185  138    8   12   10  106 5301   44\n",
      " 5734    3] (100,)\n"
     ]
    }
   ],
   "source": [
    "data, labels = iter(sequence_datasets1.train_dataset).next()\n",
    "print(data.shape, labels.shape)\n",
    "\n",
    "for i, (item, label) in enumerate(zip(data, labels)):\n",
    "    if i>=5: break\n",
    "    label_ = ', '.join([params.classes[i] for i, l in enumerate(label) if l>0])\n",
    "    print('-'*40, label_, '-'*40)\n",
    "    print(item.numpy(), item.shape)"
   ]
  },
  {
   "cell_type": "markdown",
   "metadata": {},
   "source": [
    "### N-gram + Process"
   ]
  },
  {
   "cell_type": "code",
   "execution_count": 26,
   "metadata": {
    "ExecuteTime": {
     "end_time": "2021-07-24T22:43:12.715153Z",
     "start_time": "2021-07-24T22:41:08.547794Z"
    }
   },
   "outputs": [],
   "source": [
    "generator = qtf.text.LayerGenerator.get_ngram_layer(name='ngram_map', standardize=qtf.text.standardize_tf_text1, \n",
    "                                                        texts=train_texts, max_features=params.max_features)\n",
    "ngram_datasets2 = qtf.classification.Datasets(train_texts, train_labels, test_texts, test_labels, \n",
    "                                              generator=generator, batch_size=params.batch_size)"
   ]
  },
  {
   "cell_type": "code",
   "execution_count": 27,
   "metadata": {
    "ExecuteTime": {
     "end_time": "2021-07-24T22:43:13.194746Z",
     "start_time": "2021-07-24T22:43:12.719745Z"
    }
   },
   "outputs": [
    {
     "name": "stdout",
     "output_type": "stream",
     "text": [
      "(32, 30000) (32, 6)\n",
      "----------------------------------------  ----------------------------------------\n",
      "[696.52155   10.052714   0.       ...   0.         0.         0.      ] (30000,)\n",
      "----------------------------------------  ----------------------------------------\n",
      "[170.5767      1.8277663   0.        ...   0.          0.\n",
      "   0.       ] (30000,)\n",
      "----------------------------------------  ----------------------------------------\n",
      "[355.36813     3.6555326   2.9680228 ...   0.          0.\n",
      "   0.       ] (30000,)\n",
      "----------------------------------------  ----------------------------------------\n",
      "[2253.034      13.708247   29.68023  ...    0.          0.\n",
      "    0.      ] (30000,)\n",
      "----------------------------------------  ----------------------------------------\n",
      "[49.75154  0.       0.      ...  0.       0.       0.     ] (30000,)\n"
     ]
    }
   ],
   "source": [
    "data, labels = iter(ngram_datasets2.train_dataset).next()\n",
    "print(data.shape, labels.shape)\n",
    "\n",
    "for i, (item, label) in enumerate(zip(data, labels)):\n",
    "    if i>=5: break\n",
    "    label_ = ', '.join([params.classes[i] for i, l in enumerate(label) if l>0])\n",
    "    print('-'*40, label_, '-'*40)\n",
    "    print(item.numpy(), item.shape)"
   ]
  },
  {
   "cell_type": "markdown",
   "metadata": {},
   "source": [
    "### Sequence + Process"
   ]
  },
  {
   "cell_type": "markdown",
   "metadata": {},
   "source": [
    "![Embedding Layer](images/EmbeddingLayer.png)\n",
    "\n",
    "如上图所示，和N-gram模型不同，Sequence模型并不统计词频，它保持了文本的原始顺序，把其中的每个词汇单独变成一个One-hot向量，然后采用Word embedding的方式生成更加有意义的词向量，最后输出到RNN，CNN等模型中。"
   ]
  },
  {
   "cell_type": "code",
   "execution_count": 28,
   "metadata": {
    "ExecuteTime": {
     "end_time": "2021-07-24T22:44:50.459921Z",
     "start_time": "2021-07-24T22:43:13.196963Z"
    }
   },
   "outputs": [],
   "source": [
    "generator = qtf.text.LayerGenerator.get_sequence_layer(name='sequence_map', \n",
    "                                                       standardize=qtf.text.standardize_tf_text1, \n",
    "                                                       texts=train_texts, \n",
    "                                                       max_features=params.max_features,\n",
    "                                                       max_sequence_length=params.sequence_length)\n",
    "sequence_datasets2 = qtf.classification.Datasets(train_texts, train_labels, test_texts, test_labels,   \n",
    "                                                 generator=generator, batch_size=params.batch_size)"
   ]
  },
  {
   "cell_type": "code",
   "execution_count": 33,
   "metadata": {
    "ExecuteTime": {
     "end_time": "2021-07-24T22:52:15.621697Z",
     "start_time": "2021-07-24T22:52:14.993720Z"
    }
   },
   "outputs": [
    {
     "name": "stdout",
     "output_type": "stream",
     "text": [
      "(32, 100) (32, 6)\n",
      "----------------------------------------  ----------------------------------------\n",
      "tf.Tensor([0 0 0 0 0 0], shape=(6,), dtype=int64)\n",
      "[5334 4595  604   21 1103  365   72   11   21    5 1103 2783   11   21\n",
      "    8  323   13   64 1729    3  167   93 1297    3   14   32   25   49\n",
      "   42 1367    2 1646    5    1   20   33  960 1306 1171    3   14   32\n",
      "    0    0    0    0    0    0    0    0    0    0    0    0    0    0\n",
      "    0    0    0    0    0    0    0    0    0    0    0    0    0    0\n",
      "    0    0    0    0    0    0    0    0    0    0    0    0    0    0\n",
      "    0    0    0    0    0    0    0    0    0    0    0    0    0    0\n",
      "    0    0] (100,)\n",
      "----------------------------------------  ----------------------------------------\n",
      "tf.Tensor([0 0 0 0 0 0], shape=(6,), dtype=int64)\n",
      "[   76   493    98    13     2   991     1   136  1179     4    60   531\n",
      "    84     2    76   899    61 13504     6    47   270     3    12   555\n",
      "    45     2   143    11    21   549    13    40     3    67    10    15\n",
      "   209    11   394   131 13528    34   222     8  1112    21   571    60\n",
      "   340     2   853    98  2037   181     0     0     0     0     0     0\n",
      "     0     0     0     0     0     0     0     0     0     0     0     0\n",
      "     0     0     0     0     0     0     0     0     0     0     0     0\n",
      "     0     0     0     0     0     0     0     0     0     0     0     0\n",
      "     0     0     0     0] (100,)\n",
      "----------------------------------------  ----------------------------------------\n",
      "tf.Tensor([0 0 0 0 0 0], shape=(6,), dtype=int64)\n",
      "[ 2042  1473  2342     9    54    18   264    18    58    64  1578   484\n",
      "   121   444     2  8014    12   164    11    27  4804     6     9   159\n",
      "   863  2200    35  1029  8014 27713    22   149    39    11    92   100\n",
      "     3   269    61  1578   113   190     9     8   100    53     0     0\n",
      "     0     0     0     0     0     0     0     0     0     0     0     0\n",
      "     0     0     0     0     0     0     0     0     0     0     0     0\n",
      "     0     0     0     0     0     0     0     0     0     0     0     0\n",
      "     0     0     0     0     0     0     0     0     0     0     0     0\n",
      "     0     0     0     0] (100,)\n",
      "----------------------------------------  ----------------------------------------\n",
      "tf.Tensor([0 0 0 0 0 0], shape=(6,), dtype=int64)\n",
      "[2876    5    2 2230 3985   11   21  361    7   20  760   12   22  125\n",
      "    5    2 2230 3985   26  310    7    6  162   64  337  760  184    4\n",
      "  609    7   19  195    8  100  730    5 1382 3184  141   38 3561  100\n",
      "  730    0    0    0    0    0    0    0    0    0    0    0    0    0\n",
      "    0    0    0    0    0    0    0    0    0    0    0    0    0    0\n",
      "    0    0    0    0    0    0    0    0    0    0    0    0    0    0\n",
      "    0    0    0    0    0    0    0    0    0    0    0    0    0    0\n",
      "    0    0] (100,)\n",
      "----------------------------------------  ----------------------------------------\n",
      "tf.Tensor([0 0 0 0 0 0], shape=(6,), dtype=int64)\n",
      "[  177  1114   529     3    19   185   339 13676 21915    11    21    59\n",
      "  4710     1   233   117  1104     1  4252    10    49   107    33  3000\n",
      "    35 12412  6458     8   436    56    49   107  6200     5 14641     4\n",
      "   104  3052     1   384   185    53     5   117  2490     1     3   465\n",
      "     2     2 12897 14147     1    12    69 28251  2272     6  1131     2\n",
      "  5217    12    69   309    18   419     1  2260     6    51    46   311\n",
      "     3   965     4   812    10     1   106   293     0     0     0     0\n",
      "     0     0     0     0     0     0     0     0     0     0     0     0\n",
      "     0     0     0     0] (100,)\n"
     ]
    }
   ],
   "source": [
    "data, labels = iter(sequence_datasets2.train_dataset).next()\n",
    "print(data.shape, labels.shape)\n",
    "\n",
    "for i, (item, label) in enumerate(zip(data, labels)):\n",
    "    if i>=5: break\n",
    "    label_ = ', '.join([params.classes[i] for i, l in enumerate(label) if l>0])\n",
    "    print('-'*40, label_, '-'*40)\n",
    "    print(label)\n",
    "    print(item.numpy(), item.shape)"
   ]
  },
  {
   "cell_type": "code",
   "execution_count": 30,
   "metadata": {
    "ExecuteTime": {
     "end_time": "2021-07-24T22:45:53.434751Z",
     "start_time": "2021-07-24T22:44:50.862336Z"
    }
   },
   "outputs": [
    {
     "name": "stderr",
     "output_type": "stream",
     "text": [
      "2021-07-24 22:44:51,006: INFO: --------------------------------------------------------------------------------\n",
      "2021-07-24 22:45:53,026: INFO: Loaded 1000000 word vectors. the vector size is 300\n",
      "2021-07-24 22:45:53,080: INFO: embedding_matrix.shape: (30000, 300)\n",
      "2021-07-24 22:45:53,081: INFO: match count: 26924\n",
      "2021-07-24 22:45:53,082: INFO: missing word count: 3076\n"
     ]
    }
   ],
   "source": [
    "vocabulary = generator.layer.get_vocabulary()\n",
    "\n",
    "embedding_files = [params.embedding_paths.fasttext_crawl_300d_2M]\n",
    "embedding_matrix_fasttext = qtf.text.load_embedding_matrix(embedding_files,\n",
    "                                                           vocabulary=vocabulary,\n",
    "                                                           max_features=params.max_features,\n",
    "                                                           max_length=1000000,\n",
    "                                                           ignore_rows=0\n",
    "                                                           )"
   ]
  },
  {
   "cell_type": "markdown",
   "metadata": {},
   "source": [
    "上面结果可以看到，"
   ]
  },
  {
   "cell_type": "markdown",
   "metadata": {},
   "source": [
    "\n",
    "\n",
    "##  模型\n",
    "\n",
    "### MLP"
   ]
  },
  {
   "cell_type": "markdown",
   "metadata": {
    "ExecuteTime": {
     "end_time": "2021-07-21T05:59:42.239566Z",
     "start_time": "2021-07-21T05:59:42.136721Z"
    }
   },
   "source": [
    "#### mp1"
   ]
  },
  {
   "cell_type": "code",
   "execution_count": 40,
   "metadata": {
    "ExecuteTime": {
     "end_time": "2021-07-24T23:19:51.879050Z",
     "start_time": "2021-07-24T23:17:15.997964Z"
    },
    "scrolled": false
   },
   "outputs": [
    {
     "name": "stderr",
     "output_type": "stream",
     "text": [
      "2021-07-24 23:17:16,114: INFO: model_params.mlp1.dropout=0.6\n",
      "2021-07-24 23:17:16,115: INFO: model_params.mlp1.layer_count=1\n",
      "2021-07-24 23:17:16,116: INFO: model_params.mlp1.units=256\n",
      "2021-07-24 23:17:16,170: INFO: output_bias=[-0.83046516 -3.09185542 -1.42323626 -4.31073893 -1.49321114 -3.22567087]\n",
      "2021-07-24 23:17:16,178: INFO: learning_rate=0.001\n",
      "2021-07-24 23:17:16,179: INFO: model_params.mlp1.clip_value=None\n",
      "2021-07-24 23:17:16,185: INFO: checkpoint_path=/tf/eipi10/xuxiangwen.github.io/_notes/05-ai/54-tensorflow/text_classification/output/toxicity-16k/toxicity-16k_0721_p100/mlp1\n",
      "2021-07-24 23:17:16,188: INFO: model_params.mlp1.epochs=5\n",
      "2021-07-24 23:17:16,189: INFO: use ModelCheckpoint(filepath=/tf/eipi10/xuxiangwen.github.io/_notes/05-ai/54-tensorflow/text_classification/output/toxicity-16k/toxicity-16k_0721_p100/mlp1, monitor=val_binary_accuracy)\n",
      "2021-07-24 23:17:16,190: INFO: use EarlyStopping(monitor=val_binary_accuracy, patience=40)\n",
      "2021-07-24 23:17:16,190: INFO: use ReduceLROnPlateau(monitor=val_loss, factor=0.31622776601683794, patience=15)\n",
      "2021-07-24 23:17:16,191: INFO: use LearningRateScheduler()\n",
      "2021-07-24 23:17:16,192: INFO: start training\n",
      "2021-07-24 23:17:16,192: INFO: use_class_weight=False\n"
     ]
    },
    {
     "name": "stdout",
     "output_type": "stream",
     "text": [
      "SparseTensorSpec(TensorShape([32, 30000]), tf.float32)\n",
      "Model: \"mlp1\"\n",
      "_________________________________________________________________\n",
      "Layer (type)                 Output Shape              Param #   \n",
      "=================================================================\n",
      "input_6 (InputLayer)         [(None, 30000)]           0         \n",
      "_________________________________________________________________\n",
      "lambda_4 (Lambda)            (None, 30000)             0         \n",
      "_________________________________________________________________\n",
      "dropout_8 (Dropout)          (None, 30000)             0         \n",
      "_________________________________________________________________\n",
      "dense_9 (Dense)              (None, 256)               7680256   \n",
      "_________________________________________________________________\n",
      "dropout_9 (Dropout)          (None, 256)               0         \n",
      "_________________________________________________________________\n",
      "dense_10 (Dense)             (None, 6)                 1542      \n",
      "=================================================================\n",
      "Total params: 7,681,798\n",
      "Trainable params: 7,681,798\n",
      "Non-trainable params: 0\n",
      "_________________________________________________________________\n",
      "Epoch 1/5\n",
      "4737/4737 [==============================] - 22s 4ms/step - loss: 0.0960 - binary_accuracy: 0.9713 - auc: 0.8649 - val_loss: 0.0739 - val_binary_accuracy: 0.9754 - val_auc: 0.9350\n",
      "INFO:tensorflow:Assets written to: /tf/eipi10/xuxiangwen.github.io/_notes/05-ai/54-tensorflow/text_classification/output/toxicity-16k/toxicity-16k_0721_p100/mlp1/assets\n"
     ]
    },
    {
     "name": "stderr",
     "output_type": "stream",
     "text": [
      "2021-07-24 23:17:39,385: INFO: Assets written to: /tf/eipi10/xuxiangwen.github.io/_notes/05-ai/54-tensorflow/text_classification/output/toxicity-16k/toxicity-16k_0721_p100/mlp1/assets\n"
     ]
    },
    {
     "name": "stdout",
     "output_type": "stream",
     "text": [
      "Epoch 2/5\n",
      "4737/4737 [==============================] - 21s 4ms/step - loss: 0.0836 - binary_accuracy: 0.9740 - auc: 0.8991 - val_loss: 0.0691 - val_binary_accuracy: 0.9767 - val_auc: 0.9464\n",
      "INFO:tensorflow:Assets written to: /tf/eipi10/xuxiangwen.github.io/_notes/05-ai/54-tensorflow/text_classification/output/toxicity-16k/toxicity-16k_0721_p100/mlp1/assets\n"
     ]
    },
    {
     "name": "stderr",
     "output_type": "stream",
     "text": [
      "2021-07-24 23:18:01,356: INFO: Assets written to: /tf/eipi10/xuxiangwen.github.io/_notes/05-ai/54-tensorflow/text_classification/output/toxicity-16k/toxicity-16k_0721_p100/mlp1/assets\n"
     ]
    },
    {
     "name": "stdout",
     "output_type": "stream",
     "text": [
      "Epoch 3/5\n",
      "4737/4737 [==============================] - 21s 4ms/step - loss: 0.0796 - binary_accuracy: 0.9752 - auc: 0.9110 - val_loss: 0.0674 - val_binary_accuracy: 0.9767 - val_auc: 0.9558\n",
      "Epoch 4/5\n",
      "4737/4737 [==============================] - 21s 4ms/step - loss: 0.0779 - binary_accuracy: 0.9758 - auc: 0.9163 - val_loss: 0.0668 - val_binary_accuracy: 0.9771 - val_auc: 0.9546\n",
      "INFO:tensorflow:Assets written to: /tf/eipi10/xuxiangwen.github.io/_notes/05-ai/54-tensorflow/text_classification/output/toxicity-16k/toxicity-16k_0721_p100/mlp1/assets\n"
     ]
    },
    {
     "name": "stderr",
     "output_type": "stream",
     "text": [
      "2021-07-24 23:18:44,481: INFO: Assets written to: /tf/eipi10/xuxiangwen.github.io/_notes/05-ai/54-tensorflow/text_classification/output/toxicity-16k/toxicity-16k_0721_p100/mlp1/assets\n"
     ]
    },
    {
     "name": "stdout",
     "output_type": "stream",
     "text": [
      "Epoch 5/5\n",
      "4737/4737 [==============================] - 21s 4ms/step - loss: 0.0767 - binary_accuracy: 0.9762 - auc: 0.9180 - val_loss: 0.0666 - val_binary_accuracy: 0.9769 - val_auc: 0.9543\n"
     ]
    },
    {
     "name": "stderr",
     "output_type": "stream",
     "text": [
      "2021-07-24 23:19:06,081: INFO: finish training [elapsed time: 109.89 seconds]\n"
     ]
    },
    {
     "data": {
      "image/png": "[encoded data removed]",
      "text/plain": [
       "<Figure size 1152x360 with 2 Axes>"
      ]
     },
     "metadata": {
      "needs_background": "light"
     },
     "output_type": "display_data"
    },
    {
     "name": "stderr",
     "output_type": "stream",
     "text": [
      "2021-07-24 23:19:06,411: INFO: loading model from /tf/eipi10/xuxiangwen.github.io/_notes/05-ai/54-tensorflow/text_classification/output/toxicity-16k/toxicity-16k_0721_p100/mlp1\n"
     ]
    },
    {
     "name": "stdout",
     "output_type": "stream",
     "text": [
      "load best checkpoint from /tf/eipi10/xuxiangwen.github.io/_notes/05-ai/54-tensorflow/text_classification/output/toxicity-16k/toxicity-16k_0721_p100/mlp1\n",
      "----------------------------------------evaluate----------------------------------------\n"
     ]
    },
    {
     "name": "stderr",
     "output_type": "stream",
     "text": [
      "2021-07-24 23:19:50,996: INFO: test loss:0.0668\n",
      "2021-07-24 23:19:50,997: INFO: test binary_accuracy:0.9771\n",
      "2021-07-24 23:19:50,998: INFO: test auc:0.4722\n",
      "2021-07-24 23:19:50,999: INFO: save model results into /tf/eipi10/xuxiangwen.github.io/_notes/05-ai/54-tensorflow/text_classification/output/toxicity-16k/toxicity-16k_0721_p100/results.json\n",
      "2021-07-24 23:19:51,000: INFO: save json to /tf/eipi10/xuxiangwen.github.io/_notes/05-ai/54-tensorflow/text_classification/output/toxicity-16k/toxicity-16k_0721_p100/results.json\n",
      "2021-07-24 23:19:51,001: INFO: saving generator to /tf/eipi10/xuxiangwen.github.io/_notes/05-ai/54-tensorflow/text_classification/output/toxicity-16k/toxicity-16k_0721_p100/ngram_preproess.generator\n"
     ]
    },
    {
     "name": "stdout",
     "output_type": "stream",
     "text": [
      "----------------------------------------save model results and generator----------------------------------------\n"
     ]
    },
    {
     "name": "stderr",
     "output_type": "stream",
     "text": [
      "2021-07-24 23:19:51,862: INFO: save object to /tf/eipi10/xuxiangwen.github.io/_notes/05-ai/54-tensorflow/text_classification/output/toxicity-16k/toxicity-16k_0721_p100/ngram_preproess.generator\n"
     ]
    },
    {
     "name": "stdout",
     "output_type": "stream",
     "text": [
      "----------------------------------------models----------------------------------------\n"
     ]
    },
    {
     "data": {
      "text/html": [
       "<div>\n",
       "<style scoped>\n",
       "    .dataframe tbody tr th:only-of-type {\n",
       "        vertical-align: middle;\n",
       "    }\n",
       "\n",
       "    .dataframe tbody tr th {\n",
       "        vertical-align: top;\n",
       "    }\n",
       "\n",
       "    .dataframe thead th {\n",
       "        text-align: right;\n",
       "    }\n",
       "</style>\n",
       "<table border=\"1\" class=\"dataframe\">\n",
       "  <thead>\n",
       "    <tr style=\"text-align: right;\">\n",
       "      <th></th>\n",
       "      <th>model_name</th>\n",
       "      <th>weight_number</th>\n",
       "      <th>train_time</th>\n",
       "      <th>train_loss</th>\n",
       "      <th>test_loss</th>\n",
       "      <th>train_binary_accuracy</th>\n",
       "      <th>test_binary_accuracy</th>\n",
       "      <th>train_auc</th>\n",
       "      <th>test_auc</th>\n",
       "    </tr>\n",
       "  </thead>\n",
       "  <tbody>\n",
       "    <tr>\n",
       "      <th>1</th>\n",
       "      <td>mlp1</td>\n",
       "      <td>7681798</td>\n",
       "      <td>109.4</td>\n",
       "      <td>0.0543</td>\n",
       "      <td>0.0668</td>\n",
       "      <td>0.9811</td>\n",
       "      <td>0.9771</td>\n",
       "      <td>0.5034</td>\n",
       "      <td>0.4722</td>\n",
       "    </tr>\n",
       "  </tbody>\n",
       "</table>\n",
       "</div>"
      ],
      "text/plain": [
       "  model_name  weight_number  train_time  train_loss  test_loss  \\\n",
       "1       mlp1        7681798       109.4      0.0543     0.0668   \n",
       "\n",
       "   train_binary_accuracy  test_binary_accuracy  train_auc  test_auc  \n",
       "1                 0.9811                0.9771     0.5034    0.4722  "
      ]
     },
     "metadata": {},
     "output_type": "display_data"
    }
   ],
   "source": [
    "helper = qtf.classification.Classification(params, datasets=ngram_datasets1, model_results=model_results)\n",
    "model = qtf.classification.models.mlp1(helper, name='mlp1', last_activation='sigmoid')\n",
    "model.summary()\n",
    "history = helper.train(model)\n",
    "helper.model_summary(model, history, show_sample_analysis=True)"
   ]
  },
  {
   "cell_type": "markdown",
   "metadata": {},
   "source": [
    "#### mlp2"
   ]
  },
  {
   "cell_type": "code",
   "execution_count": 41,
   "metadata": {
    "ExecuteTime": {
     "end_time": "2021-07-24T23:24:07.176327Z",
     "start_time": "2021-07-24T23:19:51.881510Z"
    },
    "scrolled": false
   },
   "outputs": [
    {
     "name": "stderr",
     "output_type": "stream",
     "text": [
      "2021-07-24 23:19:51,969: INFO: model_params.mlp2.dropout=0.6\n",
      "2021-07-24 23:19:51,970: INFO: model_params.mlp2.layer_count=1\n",
      "2021-07-24 23:19:51,970: INFO: model_params.mlp2.units=256\n",
      "2021-07-24 23:19:51,990: INFO: output_bias=[-0.83046516 -3.09185542 -1.42323626 -4.31073893 -1.49321114 -3.22567087]\n",
      "2021-07-24 23:19:51,997: INFO: learning_rate=0.001\n",
      "2021-07-24 23:19:51,998: INFO: model_params.mlp2.clip_value=None\n",
      "2021-07-24 23:19:52,003: INFO: checkpoint_path=/tf/eipi10/xuxiangwen.github.io/_notes/05-ai/54-tensorflow/text_classification/output/toxicity-16k/toxicity-16k_0721_p100/mlp2\n",
      "2021-07-24 23:19:52,005: INFO: model_params.mlp2.epochs=5\n",
      "2021-07-24 23:19:52,005: INFO: use ModelCheckpoint(filepath=/tf/eipi10/xuxiangwen.github.io/_notes/05-ai/54-tensorflow/text_classification/output/toxicity-16k/toxicity-16k_0721_p100/mlp2, monitor=val_binary_accuracy)\n",
      "2021-07-24 23:19:52,006: INFO: use EarlyStopping(monitor=val_binary_accuracy, patience=40)\n",
      "2021-07-24 23:19:52,007: INFO: use ReduceLROnPlateau(monitor=val_loss, factor=0.31622776601683794, patience=15)\n",
      "2021-07-24 23:19:52,007: INFO: use LearningRateScheduler()\n",
      "2021-07-24 23:19:52,008: INFO: start training\n",
      "2021-07-24 23:19:52,009: INFO: use_class_weight=False\n"
     ]
    },
    {
     "name": "stdout",
     "output_type": "stream",
     "text": [
      "TensorSpec(shape=(32, 30000), dtype=tf.float32, name=None)\n",
      "Model: \"mlp2\"\n",
      "_________________________________________________________________\n",
      "Layer (type)                 Output Shape              Param #   \n",
      "=================================================================\n",
      "input_7 (InputLayer)         [(None, 30000)]           0         \n",
      "_________________________________________________________________\n",
      "dropout_10 (Dropout)         (None, 30000)             0         \n",
      "_________________________________________________________________\n",
      "dense_11 (Dense)             (None, 256)               7680256   \n",
      "_________________________________________________________________\n",
      "dropout_11 (Dropout)         (None, 256)               0         \n",
      "_________________________________________________________________\n",
      "dense_12 (Dense)             (None, 6)                 1542      \n",
      "=================================================================\n",
      "Total params: 7,681,798\n",
      "Trainable params: 7,681,798\n",
      "Non-trainable params: 0\n",
      "_________________________________________________________________\n",
      "Epoch 1/5\n",
      "4737/4737 [==============================] - 82s 17ms/step - loss: 0.1678 - binary_accuracy: 0.9696 - auc: 0.8183 - val_loss: 0.1195 - val_binary_accuracy: 0.9676 - val_auc: 0.9208\n",
      "INFO:tensorflow:Assets written to: /tf/eipi10/xuxiangwen.github.io/_notes/05-ai/54-tensorflow/text_classification/output/toxicity-16k/toxicity-16k_0721_p100/mlp2/assets\n"
     ]
    },
    {
     "name": "stderr",
     "output_type": "stream",
     "text": [
      "2021-07-24 23:21:14,862: INFO: Assets written to: /tf/eipi10/xuxiangwen.github.io/_notes/05-ai/54-tensorflow/text_classification/output/toxicity-16k/toxicity-16k_0721_p100/mlp2/assets\n"
     ]
    },
    {
     "name": "stdout",
     "output_type": "stream",
     "text": [
      "Epoch 2/5\n",
      "4737/4737 [==============================] - 20s 4ms/step - loss: 0.1518 - binary_accuracy: 0.9715 - auc: 0.8471 - val_loss: 0.1135 - val_binary_accuracy: 0.9712 - val_auc: 0.9181\n",
      "INFO:tensorflow:Assets written to: /tf/eipi10/xuxiangwen.github.io/_notes/05-ai/54-tensorflow/text_classification/output/toxicity-16k/toxicity-16k_0721_p100/mlp2/assets\n"
     ]
    },
    {
     "name": "stderr",
     "output_type": "stream",
     "text": [
      "2021-07-24 23:21:35,142: INFO: Assets written to: /tf/eipi10/xuxiangwen.github.io/_notes/05-ai/54-tensorflow/text_classification/output/toxicity-16k/toxicity-16k_0721_p100/mlp2/assets\n"
     ]
    },
    {
     "name": "stdout",
     "output_type": "stream",
     "text": [
      "Epoch 3/5\n",
      "4737/4737 [==============================] - 20s 4ms/step - loss: 0.1519 - binary_accuracy: 0.9723 - auc: 0.8468 - val_loss: 0.1252 - val_binary_accuracy: 0.9708 - val_auc: 0.9240\n",
      "Epoch 4/5\n",
      "4737/4737 [==============================] - 20s 4ms/step - loss: 0.1586 - binary_accuracy: 0.9723 - auc: 0.8495 - val_loss: 0.1231 - val_binary_accuracy: 0.9716 - val_auc: 0.9313\n",
      "INFO:tensorflow:Assets written to: /tf/eipi10/xuxiangwen.github.io/_notes/05-ai/54-tensorflow/text_classification/output/toxicity-16k/toxicity-16k_0721_p100/mlp2/assets\n"
     ]
    },
    {
     "name": "stderr",
     "output_type": "stream",
     "text": [
      "2021-07-24 23:22:15,156: INFO: Assets written to: /tf/eipi10/xuxiangwen.github.io/_notes/05-ai/54-tensorflow/text_classification/output/toxicity-16k/toxicity-16k_0721_p100/mlp2/assets\n"
     ]
    },
    {
     "name": "stdout",
     "output_type": "stream",
     "text": [
      "Epoch 5/5\n",
      "4737/4737 [==============================] - 20s 4ms/step - loss: 0.1608 - binary_accuracy: 0.9725 - auc: 0.8466 - val_loss: 0.1137 - val_binary_accuracy: 0.9707 - val_auc: 0.9118\n"
     ]
    },
    {
     "name": "stderr",
     "output_type": "stream",
     "text": [
      "2021-07-24 23:22:35,273: INFO: finish training [elapsed time: 163.27 seconds]\n"
     ]
    },
    {
     "data": {
      "image/png": "[encoded data removed]",
      "text/plain": [
       "<Figure size 1152x360 with 2 Axes>"
      ]
     },
     "metadata": {
      "needs_background": "light"
     },
     "output_type": "display_data"
    },
    {
     "name": "stderr",
     "output_type": "stream",
     "text": [
      "2021-07-24 23:22:35,598: INFO: loading model from /tf/eipi10/xuxiangwen.github.io/_notes/05-ai/54-tensorflow/text_classification/output/toxicity-16k/toxicity-16k_0721_p100/mlp2\n"
     ]
    },
    {
     "name": "stdout",
     "output_type": "stream",
     "text": [
      "load best checkpoint from /tf/eipi10/xuxiangwen.github.io/_notes/05-ai/54-tensorflow/text_classification/output/toxicity-16k/toxicity-16k_0721_p100/mlp2\n",
      "----------------------------------------evaluate----------------------------------------\n"
     ]
    },
    {
     "name": "stderr",
     "output_type": "stream",
     "text": [
      "2021-07-24 23:24:06,328: INFO: test loss:0.0897\n",
      "2021-07-24 23:24:06,330: INFO: test binary_accuracy:0.9716\n",
      "2021-07-24 23:24:06,330: INFO: test auc:0.5058\n",
      "2021-07-24 23:24:06,332: INFO: save model results into /tf/eipi10/xuxiangwen.github.io/_notes/05-ai/54-tensorflow/text_classification/output/toxicity-16k/toxicity-16k_0721_p100/results.json\n",
      "2021-07-24 23:24:06,334: INFO: save json to /tf/eipi10/xuxiangwen.github.io/_notes/05-ai/54-tensorflow/text_classification/output/toxicity-16k/toxicity-16k_0721_p100/results.json\n",
      "2021-07-24 23:24:06,335: INFO: saving generator to /tf/eipi10/xuxiangwen.github.io/_notes/05-ai/54-tensorflow/text_classification/output/toxicity-16k/toxicity-16k_0721_p100/ngram_map.generator\n"
     ]
    },
    {
     "name": "stdout",
     "output_type": "stream",
     "text": [
      "----------------------------------------save model results and generator----------------------------------------\n",
      "WARNING:tensorflow:Please add `keras.layers.InputLayer` instead of `keras.Input` to Sequential model. `keras.Input` is intended to be used by Functional model.\n"
     ]
    },
    {
     "name": "stderr",
     "output_type": "stream",
     "text": [
      "2021-07-24 23:24:06,340: WARNING: Please add `keras.layers.InputLayer` instead of `keras.Input` to Sequential model. `keras.Input` is intended to be used by Functional model.\n"
     ]
    },
    {
     "name": "stdout",
     "output_type": "stream",
     "text": [
      "WARNING:tensorflow:Compiled the loaded model, but the compiled metrics have yet to be built. `model.compile_metrics` will be empty until you train or evaluate the model.\n"
     ]
    },
    {
     "name": "stderr",
     "output_type": "stream",
     "text": [
      "2021-07-24 23:24:06,379: WARNING: Compiled the loaded model, but the compiled metrics have yet to be built. `model.compile_metrics` will be empty until you train or evaluate the model.\n"
     ]
    },
    {
     "name": "stdout",
     "output_type": "stream",
     "text": [
      "INFO:tensorflow:Assets written to: /tf/eipi10/xuxiangwen.github.io/_notes/05-ai/54-tensorflow/text_classification/output/toxicity-16k/toxicity-16k_0721_p100/ngram_map.layer/assets\n"
     ]
    },
    {
     "name": "stderr",
     "output_type": "stream",
     "text": [
      "2021-07-24 23:24:07,137: INFO: Assets written to: /tf/eipi10/xuxiangwen.github.io/_notes/05-ai/54-tensorflow/text_classification/output/toxicity-16k/toxicity-16k_0721_p100/ngram_map.layer/assets\n",
      "2021-07-24 23:24:07,159: INFO: save object to /tf/eipi10/xuxiangwen.github.io/_notes/05-ai/54-tensorflow/text_classification/output/toxicity-16k/toxicity-16k_0721_p100/ngram_map.generator\n"
     ]
    },
    {
     "name": "stdout",
     "output_type": "stream",
     "text": [
      "----------------------------------------models----------------------------------------\n"
     ]
    },
    {
     "data": {
      "text/html": [
       "<div>\n",
       "<style scoped>\n",
       "    .dataframe tbody tr th:only-of-type {\n",
       "        vertical-align: middle;\n",
       "    }\n",
       "\n",
       "    .dataframe tbody tr th {\n",
       "        vertical-align: top;\n",
       "    }\n",
       "\n",
       "    .dataframe thead th {\n",
       "        text-align: right;\n",
       "    }\n",
       "</style>\n",
       "<table border=\"1\" class=\"dataframe\">\n",
       "  <thead>\n",
       "    <tr style=\"text-align: right;\">\n",
       "      <th></th>\n",
       "      <th>model_name</th>\n",
       "      <th>weight_number</th>\n",
       "      <th>train_time</th>\n",
       "      <th>train_loss</th>\n",
       "      <th>test_loss</th>\n",
       "      <th>train_binary_accuracy</th>\n",
       "      <th>test_binary_accuracy</th>\n",
       "      <th>train_auc</th>\n",
       "      <th>test_auc</th>\n",
       "    </tr>\n",
       "  </thead>\n",
       "  <tbody>\n",
       "    <tr>\n",
       "      <th>1</th>\n",
       "      <td>mlp1</td>\n",
       "      <td>7681798</td>\n",
       "      <td>109.4</td>\n",
       "      <td>0.0543</td>\n",
       "      <td>0.0668</td>\n",
       "      <td>0.9811</td>\n",
       "      <td>0.9771</td>\n",
       "      <td>0.5034</td>\n",
       "      <td>0.4722</td>\n",
       "    </tr>\n",
       "    <tr>\n",
       "      <th>2</th>\n",
       "      <td>mlp2</td>\n",
       "      <td>7681798</td>\n",
       "      <td>162.8</td>\n",
       "      <td>0.0746</td>\n",
       "      <td>0.0897</td>\n",
       "      <td>0.9753</td>\n",
       "      <td>0.9716</td>\n",
       "      <td>0.5004</td>\n",
       "      <td>0.5058</td>\n",
       "    </tr>\n",
       "  </tbody>\n",
       "</table>\n",
       "</div>"
      ],
      "text/plain": [
       "  model_name  weight_number  train_time  train_loss  test_loss  \\\n",
       "1       mlp1        7681798       109.4      0.0543     0.0668   \n",
       "2       mlp2        7681798       162.8      0.0746     0.0897   \n",
       "\n",
       "   train_binary_accuracy  test_binary_accuracy  train_auc  test_auc  \n",
       "1                 0.9811                0.9771     0.5034    0.4722  \n",
       "2                 0.9753                0.9716     0.5004    0.5058  "
      ]
     },
     "metadata": {},
     "output_type": "display_data"
    }
   ],
   "source": [
    "helper = qtf.classification.Classification(params, datasets=ngram_datasets2, model_results=model_results)\n",
    "model = qtf.classification.models.mlp1(helper, name='mlp2', last_activation='sigmoid')\n",
    "model.summary()\n",
    "history = helper.train(model)\n",
    "helper.model_summary(model, history=history)"
   ]
  },
  {
   "cell_type": "code",
   "execution_count": 42,
   "metadata": {
    "ExecuteTime": {
     "end_time": "2021-07-24T23:25:27.656982Z",
     "start_time": "2021-07-24T23:24:07.179153Z"
    },
    "scrolled": false
   },
   "outputs": [
    {
     "name": "stderr",
     "output_type": "stream",
     "text": [
      "2021-07-24 23:24:07,289: INFO: loading model from /tf/eipi10/xuxiangwen.github.io/_notes/05-ai/54-tensorflow/text_classification/output/toxicity-16k/toxicity-16k_0721_p100/mlp2\n"
     ]
    },
    {
     "name": "stdout",
     "output_type": "stream",
     "text": [
      "load best checkpoint from /tf/eipi10/xuxiangwen.github.io/_notes/05-ai/54-tensorflow/text_classification/output/toxicity-16k/toxicity-16k_0721_p100/mlp2\n",
      "----------------------------------------evaluate----------------------------------------\n"
     ]
    },
    {
     "name": "stderr",
     "output_type": "stream",
     "text": [
      "2021-07-24 23:25:26,992: INFO: test loss:0.0897\n",
      "2021-07-24 23:25:26,993: INFO: test binary_accuracy:0.9716\n",
      "2021-07-24 23:25:26,994: INFO: test auc:0.5058\n",
      "2021-07-24 23:25:26,995: INFO: save model results into /tf/eipi10/xuxiangwen.github.io/_notes/05-ai/54-tensorflow/text_classification/output/toxicity-16k/toxicity-16k_0721_p100/results.json\n",
      "2021-07-24 23:25:26,997: INFO: save json to /tf/eipi10/xuxiangwen.github.io/_notes/05-ai/54-tensorflow/text_classification/output/toxicity-16k/toxicity-16k_0721_p100/results.json\n",
      "2021-07-24 23:25:26,997: INFO: saving generator to /tf/eipi10/xuxiangwen.github.io/_notes/05-ai/54-tensorflow/text_classification/output/toxicity-16k/toxicity-16k_0721_p100/ngram_map.generator\n"
     ]
    },
    {
     "name": "stdout",
     "output_type": "stream",
     "text": [
      "----------------------------------------save model results and generator----------------------------------------\n",
      "WARNING:tensorflow:Please add `keras.layers.InputLayer` instead of `keras.Input` to Sequential model. `keras.Input` is intended to be used by Functional model.\n"
     ]
    },
    {
     "name": "stderr",
     "output_type": "stream",
     "text": [
      "2021-07-24 23:25:27,001: WARNING: Please add `keras.layers.InputLayer` instead of `keras.Input` to Sequential model. `keras.Input` is intended to be used by Functional model.\n"
     ]
    },
    {
     "name": "stdout",
     "output_type": "stream",
     "text": [
      "WARNING:tensorflow:Compiled the loaded model, but the compiled metrics have yet to be built. `model.compile_metrics` will be empty until you train or evaluate the model.\n"
     ]
    },
    {
     "name": "stderr",
     "output_type": "stream",
     "text": [
      "2021-07-24 23:25:27,042: WARNING: Compiled the loaded model, but the compiled metrics have yet to be built. `model.compile_metrics` will be empty until you train or evaluate the model.\n"
     ]
    },
    {
     "name": "stdout",
     "output_type": "stream",
     "text": [
      "INFO:tensorflow:Assets written to: /tf/eipi10/xuxiangwen.github.io/_notes/05-ai/54-tensorflow/text_classification/output/toxicity-16k/toxicity-16k_0721_p100/ngram_map.layer/assets\n"
     ]
    },
    {
     "name": "stderr",
     "output_type": "stream",
     "text": [
      "2021-07-24 23:25:27,616: INFO: Assets written to: /tf/eipi10/xuxiangwen.github.io/_notes/05-ai/54-tensorflow/text_classification/output/toxicity-16k/toxicity-16k_0721_p100/ngram_map.layer/assets\n",
      "2021-07-24 23:25:27,639: INFO: save object to /tf/eipi10/xuxiangwen.github.io/_notes/05-ai/54-tensorflow/text_classification/output/toxicity-16k/toxicity-16k_0721_p100/ngram_map.generator\n"
     ]
    },
    {
     "name": "stdout",
     "output_type": "stream",
     "text": [
      "----------------------------------------models----------------------------------------\n"
     ]
    },
    {
     "data": {
      "text/html": [
       "<div>\n",
       "<style scoped>\n",
       "    .dataframe tbody tr th:only-of-type {\n",
       "        vertical-align: middle;\n",
       "    }\n",
       "\n",
       "    .dataframe tbody tr th {\n",
       "        vertical-align: top;\n",
       "    }\n",
       "\n",
       "    .dataframe thead th {\n",
       "        text-align: right;\n",
       "    }\n",
       "</style>\n",
       "<table border=\"1\" class=\"dataframe\">\n",
       "  <thead>\n",
       "    <tr style=\"text-align: right;\">\n",
       "      <th></th>\n",
       "      <th>model_name</th>\n",
       "      <th>weight_number</th>\n",
       "      <th>train_time</th>\n",
       "      <th>train_loss</th>\n",
       "      <th>test_loss</th>\n",
       "      <th>train_binary_accuracy</th>\n",
       "      <th>test_binary_accuracy</th>\n",
       "      <th>train_auc</th>\n",
       "      <th>test_auc</th>\n",
       "    </tr>\n",
       "  </thead>\n",
       "  <tbody>\n",
       "    <tr>\n",
       "      <th>1</th>\n",
       "      <td>mlp1</td>\n",
       "      <td>7681798</td>\n",
       "      <td>109.4</td>\n",
       "      <td>0.0543</td>\n",
       "      <td>0.0668</td>\n",
       "      <td>0.9811</td>\n",
       "      <td>0.9771</td>\n",
       "      <td>0.5034</td>\n",
       "      <td>0.4722</td>\n",
       "    </tr>\n",
       "    <tr>\n",
       "      <th>2</th>\n",
       "      <td>mlp2</td>\n",
       "      <td>7681798</td>\n",
       "      <td>162.8</td>\n",
       "      <td>0.0746</td>\n",
       "      <td>0.0897</td>\n",
       "      <td>0.9753</td>\n",
       "      <td>0.9716</td>\n",
       "      <td>0.5004</td>\n",
       "      <td>0.5058</td>\n",
       "    </tr>\n",
       "  </tbody>\n",
       "</table>\n",
       "</div>"
      ],
      "text/plain": [
       "  model_name  weight_number  train_time  train_loss  test_loss  \\\n",
       "1       mlp1        7681798       109.4      0.0543     0.0668   \n",
       "2       mlp2        7681798       162.8      0.0746     0.0897   \n",
       "\n",
       "   train_binary_accuracy  test_binary_accuracy  train_auc  test_auc  \n",
       "1                 0.9811                0.9771     0.5034    0.4722  \n",
       "2                 0.9753                0.9716     0.5004    0.5058  "
      ]
     },
     "metadata": {},
     "output_type": "display_data"
    }
   ],
   "source": [
    "helper.model_summary(model, history, show_sample_analysis=True)"
   ]
  },
  {
   "cell_type": "markdown",
   "metadata": {},
   "source": [
    "### Embedding"
   ]
  },
  {
   "cell_type": "markdown",
   "metadata": {},
   "source": [
    "#### embedding"
   ]
  },
  {
   "cell_type": "code",
   "execution_count": 43,
   "metadata": {
    "ExecuteTime": {
     "end_time": "2021-07-24T23:32:52.396902Z",
     "start_time": "2021-07-24T23:25:27.659518Z"
    },
    "scrolled": false
   },
   "outputs": [
    {
     "name": "stderr",
     "output_type": "stream",
     "text": [
      "2021-07-24 23:25:27,754: INFO: model_params.embedding.dropout=0.4\n",
      "2021-07-24 23:25:27,755: INFO: model_params.embedding.embedding_dim=200\n",
      "2021-07-24 23:25:27,791: INFO: output_bias=[-0.83046516 -3.09185542 -1.42323626 -4.31073893 -1.49321114 -3.22567087]\n",
      "2021-07-24 23:25:27,800: INFO: learning_rate=0.001\n",
      "2021-07-24 23:25:27,800: INFO: model_params.embedding.clip_value=None\n",
      "2021-07-24 23:25:27,807: INFO: checkpoint_path=/tf/eipi10/xuxiangwen.github.io/_notes/05-ai/54-tensorflow/text_classification/output/toxicity-16k/toxicity-16k_0721_p100/embedding\n",
      "2021-07-24 23:25:27,810: INFO: model_params.embedding.epochs=3\n",
      "2021-07-24 23:25:27,810: INFO: use ModelCheckpoint(filepath=/tf/eipi10/xuxiangwen.github.io/_notes/05-ai/54-tensorflow/text_classification/output/toxicity-16k/toxicity-16k_0721_p100/embedding, monitor=val_binary_accuracy)\n",
      "2021-07-24 23:25:27,811: INFO: use EarlyStopping(monitor=val_binary_accuracy, patience=40)\n",
      "2021-07-24 23:25:27,812: INFO: use ReduceLROnPlateau(monitor=val_loss, factor=0.31622776601683794, patience=15)\n",
      "2021-07-24 23:25:27,813: INFO: use LearningRateScheduler()\n",
      "2021-07-24 23:25:27,813: INFO: start training\n",
      "2021-07-24 23:25:27,814: INFO: use_class_weight=False\n"
     ]
    },
    {
     "name": "stdout",
     "output_type": "stream",
     "text": [
      "TensorSpec(shape=(32, 100), dtype=tf.int64, name=None)\n",
      "Model: \"embedding\"\n",
      "__________________________________________________________________________________________________\n",
      "Layer (type)                    Output Shape         Param #     Connected to                     \n",
      "==================================================================================================\n",
      "input_10 (InputLayer)           [(None, 100)]        0                                            \n",
      "__________________________________________________________________________________________________\n",
      "embedding_1 (Embedding)         (None, 100, 200)     6000000     input_10[0][0]                   \n",
      "__________________________________________________________________________________________________\n",
      "global_average_pooling1d_1 (Glo (None, 200)          0           embedding_1[0][0]                \n",
      "__________________________________________________________________________________________________\n",
      "global_max_pooling1d_1 (GlobalM (None, 200)          0           embedding_1[0][0]                \n",
      "__________________________________________________________________________________________________\n",
      "concatenate_1 (Concatenate)     (None, 400)          0           global_average_pooling1d_1[0][0] \n",
      "                                                                 global_max_pooling1d_1[0][0]     \n",
      "__________________________________________________________________________________________________\n",
      "dense_13 (Dense)                (None, 6)            2406        concatenate_1[0][0]              \n",
      "==================================================================================================\n",
      "Total params: 6,002,406\n",
      "Trainable params: 6,002,406\n",
      "Non-trainable params: 0\n",
      "__________________________________________________________________________________________________\n",
      "Epoch 1/3\n",
      "4737/4737 [==============================] - 130s 27ms/step - loss: 0.0630 - binary_accuracy: 0.9783 - auc: 0.9458 - val_loss: 0.0517 - val_binary_accuracy: 0.9815 - val_auc: 0.9703\n",
      "INFO:tensorflow:Assets written to: /tf/eipi10/xuxiangwen.github.io/_notes/05-ai/54-tensorflow/text_classification/output/toxicity-16k/toxicity-16k_0721_p100/embedding/assets\n"
     ]
    },
    {
     "name": "stderr",
     "output_type": "stream",
     "text": [
      "2021-07-24 23:27:38,267: INFO: Assets written to: /tf/eipi10/xuxiangwen.github.io/_notes/05-ai/54-tensorflow/text_classification/output/toxicity-16k/toxicity-16k_0721_p100/embedding/assets\n"
     ]
    },
    {
     "name": "stdout",
     "output_type": "stream",
     "text": [
      "Epoch 2/3\n",
      "4737/4737 [==============================] - 128s 27ms/step - loss: 0.0423 - binary_accuracy: 0.9840 - auc: 0.9805 - val_loss: 0.0482 - val_binary_accuracy: 0.9820 - val_auc: 0.9757\n",
      "INFO:tensorflow:Assets written to: /tf/eipi10/xuxiangwen.github.io/_notes/05-ai/54-tensorflow/text_classification/output/toxicity-16k/toxicity-16k_0721_p100/embedding/assets\n"
     ]
    },
    {
     "name": "stderr",
     "output_type": "stream",
     "text": [
      "2021-07-24 23:29:47,445: INFO: Assets written to: /tf/eipi10/xuxiangwen.github.io/_notes/05-ai/54-tensorflow/text_classification/output/toxicity-16k/toxicity-16k_0721_p100/embedding/assets\n"
     ]
    },
    {
     "name": "stdout",
     "output_type": "stream",
     "text": [
      "Epoch 3/3\n",
      "4737/4737 [==============================] - 128s 27ms/step - loss: 0.0359 - binary_accuracy: 0.9861 - auc: 0.9874 - val_loss: 0.0485 - val_binary_accuracy: 0.9820 - val_auc: 0.9732\n",
      "INFO:tensorflow:Assets written to: /tf/eipi10/xuxiangwen.github.io/_notes/05-ai/54-tensorflow/text_classification/output/toxicity-16k/toxicity-16k_0721_p100/embedding/assets\n"
     ]
    },
    {
     "name": "stderr",
     "output_type": "stream",
     "text": [
      "2021-07-24 23:31:56,217: INFO: Assets written to: /tf/eipi10/xuxiangwen.github.io/_notes/05-ai/54-tensorflow/text_classification/output/toxicity-16k/toxicity-16k_0721_p100/embedding/assets\n",
      "2021-07-24 23:31:56,748: INFO: finish training [elapsed time: 388.93 seconds]\n"
     ]
    },
    {
     "data": {
      "image/png": "[encoded data removed]",
      "text/plain": [
       "<Figure size 1152x360 with 2 Axes>"
      ]
     },
     "metadata": {
      "needs_background": "light"
     },
     "output_type": "display_data"
    },
    {
     "name": "stderr",
     "output_type": "stream",
     "text": [
      "2021-07-24 23:31:57,185: INFO: loading model from /tf/eipi10/xuxiangwen.github.io/_notes/05-ai/54-tensorflow/text_classification/output/toxicity-16k/toxicity-16k_0721_p100/embedding\n"
     ]
    },
    {
     "name": "stdout",
     "output_type": "stream",
     "text": [
      "load best checkpoint from /tf/eipi10/xuxiangwen.github.io/_notes/05-ai/54-tensorflow/text_classification/output/toxicity-16k/toxicity-16k_0721_p100/embedding\n",
      "----------------------------------------evaluate----------------------------------------\n"
     ]
    },
    {
     "name": "stderr",
     "output_type": "stream",
     "text": [
      "2021-07-24 23:32:51,756: INFO: test loss:0.0485\n",
      "2021-07-24 23:32:51,757: INFO: test binary_accuracy:0.9820\n",
      "2021-07-24 23:32:51,757: INFO: test auc:0.5907\n",
      "2021-07-24 23:32:51,759: INFO: save model results into /tf/eipi10/xuxiangwen.github.io/_notes/05-ai/54-tensorflow/text_classification/output/toxicity-16k/toxicity-16k_0721_p100/results.json\n",
      "2021-07-24 23:32:51,760: INFO: save json to /tf/eipi10/xuxiangwen.github.io/_notes/05-ai/54-tensorflow/text_classification/output/toxicity-16k/toxicity-16k_0721_p100/results.json\n",
      "2021-07-24 23:32:51,761: INFO: saving generator to /tf/eipi10/xuxiangwen.github.io/_notes/05-ai/54-tensorflow/text_classification/output/toxicity-16k/toxicity-16k_0721_p100/sequence_map.generator\n"
     ]
    },
    {
     "name": "stdout",
     "output_type": "stream",
     "text": [
      "----------------------------------------save model results and generator----------------------------------------\n",
      "WARNING:tensorflow:Please add `keras.layers.InputLayer` instead of `keras.Input` to Sequential model. `keras.Input` is intended to be used by Functional model.\n"
     ]
    },
    {
     "name": "stderr",
     "output_type": "stream",
     "text": [
      "2021-07-24 23:32:51,765: WARNING: Please add `keras.layers.InputLayer` instead of `keras.Input` to Sequential model. `keras.Input` is intended to be used by Functional model.\n"
     ]
    },
    {
     "name": "stdout",
     "output_type": "stream",
     "text": [
      "WARNING:tensorflow:Compiled the loaded model, but the compiled metrics have yet to be built. `model.compile_metrics` will be empty until you train or evaluate the model.\n"
     ]
    },
    {
     "name": "stderr",
     "output_type": "stream",
     "text": [
      "2021-07-24 23:32:51,806: WARNING: Compiled the loaded model, but the compiled metrics have yet to be built. `model.compile_metrics` will be empty until you train or evaluate the model.\n"
     ]
    },
    {
     "name": "stdout",
     "output_type": "stream",
     "text": [
      "INFO:tensorflow:Assets written to: /tf/eipi10/xuxiangwen.github.io/_notes/05-ai/54-tensorflow/text_classification/output/toxicity-16k/toxicity-16k_0721_p100/sequence_map.layer/assets\n"
     ]
    },
    {
     "name": "stderr",
     "output_type": "stream",
     "text": [
      "2021-07-24 23:32:52,354: INFO: Assets written to: /tf/eipi10/xuxiangwen.github.io/_notes/05-ai/54-tensorflow/text_classification/output/toxicity-16k/toxicity-16k_0721_p100/sequence_map.layer/assets\n",
      "2021-07-24 23:32:52,378: INFO: save object to /tf/eipi10/xuxiangwen.github.io/_notes/05-ai/54-tensorflow/text_classification/output/toxicity-16k/toxicity-16k_0721_p100/sequence_map.generator\n"
     ]
    },
    {
     "name": "stdout",
     "output_type": "stream",
     "text": [
      "----------------------------------------models----------------------------------------\n"
     ]
    },
    {
     "data": {
      "text/html": [
       "<div>\n",
       "<style scoped>\n",
       "    .dataframe tbody tr th:only-of-type {\n",
       "        vertical-align: middle;\n",
       "    }\n",
       "\n",
       "    .dataframe tbody tr th {\n",
       "        vertical-align: top;\n",
       "    }\n",
       "\n",
       "    .dataframe thead th {\n",
       "        text-align: right;\n",
       "    }\n",
       "</style>\n",
       "<table border=\"1\" class=\"dataframe\">\n",
       "  <thead>\n",
       "    <tr style=\"text-align: right;\">\n",
       "      <th></th>\n",
       "      <th>model_name</th>\n",
       "      <th>weight_number</th>\n",
       "      <th>train_time</th>\n",
       "      <th>train_loss</th>\n",
       "      <th>test_loss</th>\n",
       "      <th>train_binary_accuracy</th>\n",
       "      <th>test_binary_accuracy</th>\n",
       "      <th>train_auc</th>\n",
       "      <th>test_auc</th>\n",
       "    </tr>\n",
       "  </thead>\n",
       "  <tbody>\n",
       "    <tr>\n",
       "      <th>1</th>\n",
       "      <td>embedding</td>\n",
       "      <td>6002406</td>\n",
       "      <td>388.4</td>\n",
       "      <td>0.0294</td>\n",
       "      <td>0.0485</td>\n",
       "      <td>0.9888</td>\n",
       "      <td>0.9820</td>\n",
       "      <td>0.6447</td>\n",
       "      <td>0.5907</td>\n",
       "    </tr>\n",
       "    <tr>\n",
       "      <th>2</th>\n",
       "      <td>mlp1</td>\n",
       "      <td>7681798</td>\n",
       "      <td>109.4</td>\n",
       "      <td>0.0543</td>\n",
       "      <td>0.0668</td>\n",
       "      <td>0.9811</td>\n",
       "      <td>0.9771</td>\n",
       "      <td>0.5034</td>\n",
       "      <td>0.4722</td>\n",
       "    </tr>\n",
       "    <tr>\n",
       "      <th>3</th>\n",
       "      <td>mlp2</td>\n",
       "      <td>7681798</td>\n",
       "      <td>162.8</td>\n",
       "      <td>0.0746</td>\n",
       "      <td>0.0897</td>\n",
       "      <td>0.9753</td>\n",
       "      <td>0.9716</td>\n",
       "      <td>0.5004</td>\n",
       "      <td>0.5058</td>\n",
       "    </tr>\n",
       "  </tbody>\n",
       "</table>\n",
       "</div>"
      ],
      "text/plain": [
       "  model_name  weight_number  train_time  train_loss  test_loss  \\\n",
       "1  embedding        6002406       388.4      0.0294     0.0485   \n",
       "2       mlp1        7681798       109.4      0.0543     0.0668   \n",
       "3       mlp2        7681798       162.8      0.0746     0.0897   \n",
       "\n",
       "   train_binary_accuracy  test_binary_accuracy  train_auc  test_auc  \n",
       "1                 0.9888                0.9820     0.6447    0.5907  \n",
       "2                 0.9811                0.9771     0.5034    0.4722  \n",
       "3                 0.9753                0.9716     0.5004    0.5058  "
      ]
     },
     "metadata": {},
     "output_type": "display_data"
    }
   ],
   "source": [
    "# helper = qtf.classification.Classification(params, model_results=model_results, datasets=sequence_datasets1)\n",
    "helper = qtf.classification.Classification(params, model_results=model_results, datasets=sequence_datasets2)\n",
    "model = qtf.classification.models.embedding1(helper, name='embedding', last_activation='sigmoid')\n",
    "model.summary()\n",
    "history = helper.train(model)\n",
    "helper.model_summary(model, history=history)"
   ]
  },
  {
   "cell_type": "markdown",
   "metadata": {},
   "source": [
    "#### embedding_ft"
   ]
  },
  {
   "cell_type": "code",
   "execution_count": 44,
   "metadata": {
    "ExecuteTime": {
     "end_time": "2021-07-24T23:32:53.806441Z",
     "start_time": "2021-07-24T23:32:52.399153Z"
    },
    "scrolled": false
   },
   "outputs": [
    {
     "name": "stderr",
     "output_type": "stream",
     "text": [
      "2021-07-24 23:32:52,483: INFO: model_params.embedding_ft.dropout=0.4\n",
      "2021-07-24 23:32:52,484: INFO: model_params.embedding_ft.embedding_dim=200\n",
      "2021-07-24 23:32:52,528: INFO: output_bias=[-0.83046516 -3.09185542 -1.42323626 -4.31073893 -1.49321114 -3.22567087]\n",
      "2021-07-24 23:32:52,536: INFO: learning_rate=0.001\n",
      "2021-07-24 23:32:52,536: INFO: model_params.embedding_ft.clip_value=None\n",
      "2021-07-24 23:32:52,542: INFO: checkpoint_path=/tf/eipi10/xuxiangwen.github.io/_notes/05-ai/54-tensorflow/text_classification/output/toxicity-16k/toxicity-16k_0721_p100/embedding_ft\n",
      "2021-07-24 23:32:52,544: INFO: model_params.embedding_ft.epochs=3\n",
      "2021-07-24 23:32:52,545: INFO: use ModelCheckpoint(filepath=/tf/eipi10/xuxiangwen.github.io/_notes/05-ai/54-tensorflow/text_classification/output/toxicity-16k/toxicity-16k_0721_p100/embedding_ft, monitor=val_binary_accuracy)\n",
      "2021-07-24 23:32:52,545: INFO: use EarlyStopping(monitor=val_binary_accuracy, patience=40)\n",
      "2021-07-24 23:32:52,546: INFO: use ReduceLROnPlateau(monitor=val_loss, factor=0.31622776601683794, patience=15)\n",
      "2021-07-24 23:32:52,546: INFO: use LearningRateScheduler()\n",
      "2021-07-24 23:32:52,547: INFO: start training\n",
      "2021-07-24 23:32:52,548: INFO: use_class_weight=False\n"
     ]
    },
    {
     "name": "stdout",
     "output_type": "stream",
     "text": [
      "TensorSpec(shape=(32, 100), dtype=tf.int64, name=None)\n",
      "30000 300\n",
      "Model: \"embedding_ft\"\n",
      "__________________________________________________________________________________________________\n",
      "Layer (type)                    Output Shape         Param #     Connected to                     \n",
      "==================================================================================================\n",
      "input_12 (InputLayer)           [(None, 100)]        0                                            \n",
      "__________________________________________________________________________________________________\n",
      "embedding_2 (Embedding)         (None, 100, 300)     9000000     input_12[0][0]                   \n",
      "__________________________________________________________________________________________________\n",
      "global_average_pooling1d_2 (Glo (None, 300)          0           embedding_2[0][0]                \n",
      "__________________________________________________________________________________________________\n",
      "global_max_pooling1d_2 (GlobalM (None, 300)          0           embedding_2[0][0]                \n",
      "__________________________________________________________________________________________________\n",
      "concatenate_2 (Concatenate)     (None, 600)          0           global_average_pooling1d_2[0][0] \n",
      "                                                                 global_max_pooling1d_2[0][0]     \n",
      "__________________________________________________________________________________________________\n",
      "dense_14 (Dense)                (None, 6)            3606        concatenate_2[0][0]              \n",
      "==================================================================================================\n",
      "Total params: 9,003,606\n",
      "Trainable params: 3,606\n",
      "Non-trainable params: 9,000,000\n",
      "__________________________________________________________________________________________________\n",
      "Epoch 1/3\n"
     ]
    },
    {
     "name": "stderr",
     "output_type": "stream",
     "text": [
      "2021-07-24 23:32:53,757: INFO: finish training [elapsed time: 1.21 seconds]\n"
     ]
    },
    {
     "ename": "InvalidArgumentError",
     "evalue": "2 root error(s) found.\n  (0) Invalid argument:  assertion failed: [predictions must be >= 0] [Condition x >= y did not hold element-wise:] [x (embedding_ft/dense_14/BiasAdd:0) = ] [[-0.795425594 -3.39343834 -1.53131676...]...] [y (Cast_8/x:0) = ] [0]\n\t [[{{node assert_greater_equal/Assert/AssertGuard/else/_1/assert_greater_equal/Assert/AssertGuard/Assert}}]]\n\t [[assert_less_equal/Assert/AssertGuard/pivot_f/_13/_33]]\n  (1) Invalid argument:  assertion failed: [predictions must be >= 0] [Condition x >= y did not hold element-wise:] [x (embedding_ft/dense_14/BiasAdd:0) = ] [[-0.795425594 -3.39343834 -1.53131676...]...] [y (Cast_8/x:0) = ] [0]\n\t [[{{node assert_greater_equal/Assert/AssertGuard/else/_1/assert_greater_equal/Assert/AssertGuard/Assert}}]]\n0 successful operations.\n0 derived errors ignored. [Op:__inference_train_function_3308363]\n\nFunction call stack:\ntrain_function -> train_function\n",
     "output_type": "error",
     "traceback": [
      "\u001b[0;31m\u001b[0m",
      "\u001b[0;31mInvalidArgumentError\u001b[0mTraceback (most recent call last)",
      "\u001b[0;32m<ipython-input-44-e0c2a73b107f>\u001b[0m in \u001b[0;36m<module>\u001b[0;34m\u001b[0m\n\u001b[1;32m      4\u001b[0m                                              is_embedding_trainable=False)\n\u001b[1;32m      5\u001b[0m \u001b[0mmodel\u001b[0m\u001b[0;34m.\u001b[0m\u001b[0msummary\u001b[0m\u001b[0;34m(\u001b[0m\u001b[0;34m)\u001b[0m\u001b[0;34m\u001b[0m\u001b[0;34m\u001b[0m\u001b[0m\n\u001b[0;32m----> 6\u001b[0;31m \u001b[0mhistory\u001b[0m \u001b[0;34m=\u001b[0m \u001b[0mhelper\u001b[0m\u001b[0;34m.\u001b[0m\u001b[0mtrain\u001b[0m\u001b[0;34m(\u001b[0m\u001b[0mmodel\u001b[0m\u001b[0;34m)\u001b[0m\u001b[0;34m\u001b[0m\u001b[0;34m\u001b[0m\u001b[0m\n\u001b[0m\u001b[1;32m      7\u001b[0m \u001b[0mhelper\u001b[0m\u001b[0;34m.\u001b[0m\u001b[0mmodel_summary\u001b[0m\u001b[0;34m(\u001b[0m\u001b[0mmodel\u001b[0m\u001b[0;34m,\u001b[0m \u001b[0mhistory\u001b[0m\u001b[0;34m=\u001b[0m\u001b[0mhistory\u001b[0m\u001b[0;34m)\u001b[0m\u001b[0;34m\u001b[0m\u001b[0;34m\u001b[0m\u001b[0m\n",
      "\u001b[0;32m/tf/eipi10/qbz95/qbz95/tf/classification/classification.py\u001b[0m in \u001b[0;36mtrain\u001b[0;34m(self, model, epochs, callbacks, verbose)\u001b[0m\n\u001b[1;32m     86\u001b[0m                                 \u001b[0mepochs\u001b[0m\u001b[0;34m=\u001b[0m\u001b[0mepochs\u001b[0m\u001b[0;34m,\u001b[0m \u001b[0mverbose\u001b[0m\u001b[0;34m=\u001b[0m\u001b[0mverbose\u001b[0m\u001b[0;34m,\u001b[0m\u001b[0;34m\u001b[0m\u001b[0;34m\u001b[0m\u001b[0m\n\u001b[1;32m     87\u001b[0m                                 \u001b[0mclass_weight\u001b[0m\u001b[0;34m=\u001b[0m\u001b[0mclass_weight\u001b[0m\u001b[0;34m,\u001b[0m\u001b[0;34m\u001b[0m\u001b[0;34m\u001b[0m\u001b[0m\n\u001b[0;32m---> 88\u001b[0;31m                                 callbacks=callbacks)\n\u001b[0m\u001b[1;32m     89\u001b[0m             \u001b[0mhistory\u001b[0m\u001b[0;34m.\u001b[0m\u001b[0mtrain_time\u001b[0m \u001b[0;34m=\u001b[0m \u001b[0mt\u001b[0m\u001b[0;34m.\u001b[0m\u001b[0melapsed_time\u001b[0m\u001b[0;34m(\u001b[0m\u001b[0;34m)\u001b[0m\u001b[0;34m\u001b[0m\u001b[0;34m\u001b[0m\u001b[0m\n\u001b[1;32m     90\u001b[0m         \u001b[0mutils\u001b[0m\u001b[0;34m.\u001b[0m\u001b[0mplot_history\u001b[0m\u001b[0;34m(\u001b[0m\u001b[0mhistory\u001b[0m\u001b[0;34m,\u001b[0m \u001b[0mkey_metric_name\u001b[0m\u001b[0;34m=\u001b[0m\u001b[0mself\u001b[0m\u001b[0;34m.\u001b[0m\u001b[0mparams\u001b[0m\u001b[0;34m.\u001b[0m\u001b[0mget_default_metric_name\u001b[0m\u001b[0;34m(\u001b[0m\u001b[0;34m)\u001b[0m\u001b[0;34m)\u001b[0m\u001b[0;34m\u001b[0m\u001b[0;34m\u001b[0m\u001b[0m\n",
      "\u001b[0;32m/usr/local/lib/python3.6/dist-packages/tensorflow/python/keras/engine/training.py\u001b[0m in \u001b[0;36mfit\u001b[0;34m(self, x, y, batch_size, epochs, verbose, callbacks, validation_split, validation_data, shuffle, class_weight, sample_weight, initial_epoch, steps_per_epoch, validation_steps, validation_batch_size, validation_freq, max_queue_size, workers, use_multiprocessing)\u001b[0m\n\u001b[1;32m   1181\u001b[0m                 _r=1):\n\u001b[1;32m   1182\u001b[0m               \u001b[0mcallbacks\u001b[0m\u001b[0;34m.\u001b[0m\u001b[0mon_train_batch_begin\u001b[0m\u001b[0;34m(\u001b[0m\u001b[0mstep\u001b[0m\u001b[0;34m)\u001b[0m\u001b[0;34m\u001b[0m\u001b[0;34m\u001b[0m\u001b[0m\n\u001b[0;32m-> 1183\u001b[0;31m               \u001b[0mtmp_logs\u001b[0m \u001b[0;34m=\u001b[0m \u001b[0mself\u001b[0m\u001b[0;34m.\u001b[0m\u001b[0mtrain_function\u001b[0m\u001b[0;34m(\u001b[0m\u001b[0miterator\u001b[0m\u001b[0;34m)\u001b[0m\u001b[0;34m\u001b[0m\u001b[0;34m\u001b[0m\u001b[0m\n\u001b[0m\u001b[1;32m   1184\u001b[0m               \u001b[0;32mif\u001b[0m \u001b[0mdata_handler\u001b[0m\u001b[0;34m.\u001b[0m\u001b[0mshould_sync\u001b[0m\u001b[0;34m:\u001b[0m\u001b[0;34m\u001b[0m\u001b[0;34m\u001b[0m\u001b[0m\n\u001b[1;32m   1185\u001b[0m                 \u001b[0mcontext\u001b[0m\u001b[0;34m.\u001b[0m\u001b[0masync_wait\u001b[0m\u001b[0;34m(\u001b[0m\u001b[0;34m)\u001b[0m\u001b[0;34m\u001b[0m\u001b[0;34m\u001b[0m\u001b[0m\n",
      "\u001b[0;32m/usr/local/lib/python3.6/dist-packages/tensorflow/python/eager/def_function.py\u001b[0m in \u001b[0;36m__call__\u001b[0;34m(self, *args, **kwds)\u001b[0m\n\u001b[1;32m    887\u001b[0m \u001b[0;34m\u001b[0m\u001b[0m\n\u001b[1;32m    888\u001b[0m       \u001b[0;32mwith\u001b[0m \u001b[0mOptionalXlaContext\u001b[0m\u001b[0;34m(\u001b[0m\u001b[0mself\u001b[0m\u001b[0;34m.\u001b[0m\u001b[0m_jit_compile\u001b[0m\u001b[0;34m)\u001b[0m\u001b[0;34m:\u001b[0m\u001b[0;34m\u001b[0m\u001b[0;34m\u001b[0m\u001b[0m\n\u001b[0;32m--> 889\u001b[0;31m         \u001b[0mresult\u001b[0m \u001b[0;34m=\u001b[0m \u001b[0mself\u001b[0m\u001b[0;34m.\u001b[0m\u001b[0m_call\u001b[0m\u001b[0;34m(\u001b[0m\u001b[0;34m*\u001b[0m\u001b[0margs\u001b[0m\u001b[0;34m,\u001b[0m \u001b[0;34m**\u001b[0m\u001b[0mkwds\u001b[0m\u001b[0;34m)\u001b[0m\u001b[0;34m\u001b[0m\u001b[0;34m\u001b[0m\u001b[0m\n\u001b[0m\u001b[1;32m    890\u001b[0m \u001b[0;34m\u001b[0m\u001b[0m\n\u001b[1;32m    891\u001b[0m       \u001b[0mnew_tracing_count\u001b[0m \u001b[0;34m=\u001b[0m \u001b[0mself\u001b[0m\u001b[0;34m.\u001b[0m\u001b[0mexperimental_get_tracing_count\u001b[0m\u001b[0;34m(\u001b[0m\u001b[0;34m)\u001b[0m\u001b[0;34m\u001b[0m\u001b[0;34m\u001b[0m\u001b[0m\n",
      "\u001b[0;32m/usr/local/lib/python3.6/dist-packages/tensorflow/python/eager/def_function.py\u001b[0m in \u001b[0;36m_call\u001b[0;34m(self, *args, **kwds)\u001b[0m\n\u001b[1;32m    948\u001b[0m         \u001b[0;31m# Lifting succeeded, so variables are initialized and we can run the\u001b[0m\u001b[0;34m\u001b[0m\u001b[0;34m\u001b[0m\u001b[0;34m\u001b[0m\u001b[0m\n\u001b[1;32m    949\u001b[0m         \u001b[0;31m# stateless function.\u001b[0m\u001b[0;34m\u001b[0m\u001b[0;34m\u001b[0m\u001b[0;34m\u001b[0m\u001b[0m\n\u001b[0;32m--> 950\u001b[0;31m         \u001b[0;32mreturn\u001b[0m \u001b[0mself\u001b[0m\u001b[0;34m.\u001b[0m\u001b[0m_stateless_fn\u001b[0m\u001b[0;34m(\u001b[0m\u001b[0;34m*\u001b[0m\u001b[0margs\u001b[0m\u001b[0;34m,\u001b[0m \u001b[0;34m**\u001b[0m\u001b[0mkwds\u001b[0m\u001b[0;34m)\u001b[0m\u001b[0;34m\u001b[0m\u001b[0;34m\u001b[0m\u001b[0m\n\u001b[0m\u001b[1;32m    951\u001b[0m     \u001b[0;32melse\u001b[0m\u001b[0;34m:\u001b[0m\u001b[0;34m\u001b[0m\u001b[0;34m\u001b[0m\u001b[0m\n\u001b[1;32m    952\u001b[0m       \u001b[0m_\u001b[0m\u001b[0;34m,\u001b[0m \u001b[0m_\u001b[0m\u001b[0;34m,\u001b[0m \u001b[0m_\u001b[0m\u001b[0;34m,\u001b[0m \u001b[0mfiltered_flat_args\u001b[0m \u001b[0;34m=\u001b[0m\u001b[0;31m \u001b[0m\u001b[0;31m\\\u001b[0m\u001b[0;34m\u001b[0m\u001b[0;34m\u001b[0m\u001b[0m\n",
      "\u001b[0;32m/usr/local/lib/python3.6/dist-packages/tensorflow/python/eager/function.py\u001b[0m in \u001b[0;36m__call__\u001b[0;34m(self, *args, **kwargs)\u001b[0m\n\u001b[1;32m   3022\u001b[0m        filtered_flat_args) = self._maybe_define_function(args, kwargs)\n\u001b[1;32m   3023\u001b[0m     return graph_function._call_flat(\n\u001b[0;32m-> 3024\u001b[0;31m         filtered_flat_args, captured_inputs=graph_function.captured_inputs)  # pylint: disable=protected-access\n\u001b[0m\u001b[1;32m   3025\u001b[0m \u001b[0;34m\u001b[0m\u001b[0m\n\u001b[1;32m   3026\u001b[0m   \u001b[0;34m@\u001b[0m\u001b[0mproperty\u001b[0m\u001b[0;34m\u001b[0m\u001b[0;34m\u001b[0m\u001b[0m\n",
      "\u001b[0;32m/usr/local/lib/python3.6/dist-packages/tensorflow/python/eager/function.py\u001b[0m in \u001b[0;36m_call_flat\u001b[0;34m(self, args, captured_inputs, cancellation_manager)\u001b[0m\n\u001b[1;32m   1959\u001b[0m       \u001b[0;31m# No tape is watching; skip to running the function.\u001b[0m\u001b[0;34m\u001b[0m\u001b[0;34m\u001b[0m\u001b[0;34m\u001b[0m\u001b[0m\n\u001b[1;32m   1960\u001b[0m       return self._build_call_outputs(self._inference_function.call(\n\u001b[0;32m-> 1961\u001b[0;31m           ctx, args, cancellation_manager=cancellation_manager))\n\u001b[0m\u001b[1;32m   1962\u001b[0m     forward_backward = self._select_forward_and_backward_functions(\n\u001b[1;32m   1963\u001b[0m         \u001b[0margs\u001b[0m\u001b[0;34m,\u001b[0m\u001b[0;34m\u001b[0m\u001b[0;34m\u001b[0m\u001b[0m\n",
      "\u001b[0;32m/usr/local/lib/python3.6/dist-packages/tensorflow/python/eager/function.py\u001b[0m in \u001b[0;36mcall\u001b[0;34m(self, ctx, args, cancellation_manager)\u001b[0m\n\u001b[1;32m    594\u001b[0m               \u001b[0minputs\u001b[0m\u001b[0;34m=\u001b[0m\u001b[0margs\u001b[0m\u001b[0;34m,\u001b[0m\u001b[0;34m\u001b[0m\u001b[0;34m\u001b[0m\u001b[0m\n\u001b[1;32m    595\u001b[0m               \u001b[0mattrs\u001b[0m\u001b[0;34m=\u001b[0m\u001b[0mattrs\u001b[0m\u001b[0;34m,\u001b[0m\u001b[0;34m\u001b[0m\u001b[0;34m\u001b[0m\u001b[0m\n\u001b[0;32m--> 596\u001b[0;31m               ctx=ctx)\n\u001b[0m\u001b[1;32m    597\u001b[0m         \u001b[0;32melse\u001b[0m\u001b[0;34m:\u001b[0m\u001b[0;34m\u001b[0m\u001b[0;34m\u001b[0m\u001b[0m\n\u001b[1;32m    598\u001b[0m           outputs = execute.execute_with_cancellation(\n",
      "\u001b[0;32m/usr/local/lib/python3.6/dist-packages/tensorflow/python/eager/execute.py\u001b[0m in \u001b[0;36mquick_execute\u001b[0;34m(op_name, num_outputs, inputs, attrs, ctx, name)\u001b[0m\n\u001b[1;32m     58\u001b[0m     \u001b[0mctx\u001b[0m\u001b[0;34m.\u001b[0m\u001b[0mensure_initialized\u001b[0m\u001b[0;34m(\u001b[0m\u001b[0;34m)\u001b[0m\u001b[0;34m\u001b[0m\u001b[0;34m\u001b[0m\u001b[0m\n\u001b[1;32m     59\u001b[0m     tensors = pywrap_tfe.TFE_Py_Execute(ctx._handle, device_name, op_name,\n\u001b[0;32m---> 60\u001b[0;31m                                         inputs, attrs, num_outputs)\n\u001b[0m\u001b[1;32m     61\u001b[0m   \u001b[0;32mexcept\u001b[0m \u001b[0mcore\u001b[0m\u001b[0;34m.\u001b[0m\u001b[0m_NotOkStatusException\u001b[0m \u001b[0;32mas\u001b[0m \u001b[0me\u001b[0m\u001b[0;34m:\u001b[0m\u001b[0;34m\u001b[0m\u001b[0;34m\u001b[0m\u001b[0m\n\u001b[1;32m     62\u001b[0m     \u001b[0;32mif\u001b[0m \u001b[0mname\u001b[0m \u001b[0;32mis\u001b[0m \u001b[0;32mnot\u001b[0m \u001b[0;32mNone\u001b[0m\u001b[0;34m:\u001b[0m\u001b[0;34m\u001b[0m\u001b[0;34m\u001b[0m\u001b[0m\n",
      "\u001b[0;31mInvalidArgumentError\u001b[0m: 2 root error(s) found.\n  (0) Invalid argument:  assertion failed: [predictions must be >= 0] [Condition x >= y did not hold element-wise:] [x (embedding_ft/dense_14/BiasAdd:0) = ] [[-0.795425594 -3.39343834 -1.53131676...]...] [y (Cast_8/x:0) = ] [0]\n\t [[{{node assert_greater_equal/Assert/AssertGuard/else/_1/assert_greater_equal/Assert/AssertGuard/Assert}}]]\n\t [[assert_less_equal/Assert/AssertGuard/pivot_f/_13/_33]]\n  (1) Invalid argument:  assertion failed: [predictions must be >= 0] [Condition x >= y did not hold element-wise:] [x (embedding_ft/dense_14/BiasAdd:0) = ] [[-0.795425594 -3.39343834 -1.53131676...]...] [y (Cast_8/x:0) = ] [0]\n\t [[{{node assert_greater_equal/Assert/AssertGuard/else/_1/assert_greater_equal/Assert/AssertGuard/Assert}}]]\n0 successful operations.\n0 derived errors ignored. [Op:__inference_train_function_3308363]\n\nFunction call stack:\ntrain_function -> train_function\n"
     ]
    }
   ],
   "source": [
    "helper = qtf.classification.Classification(params, model_results=model_results, datasets=sequence_datasets2)\n",
    "model = qtf.classification.models.embedding1(helper, name='embedding_ft',\n",
    "                                             embedding_matrix=embedding_matrix_fasttext,\n",
    "                                             is_embedding_trainable=False)\n",
    "model.summary()\n",
    "history = helper.train(model)\n",
    "helper.model_summary(model, history=history)"
   ]
  },
  {
   "cell_type": "markdown",
   "metadata": {
    "ExecuteTime": {
     "end_time": "2021-07-21T05:25:08.308844Z",
     "start_time": "2021-07-21T05:25:08.202844Z"
    }
   },
   "source": [
    "### sepCNN"
   ]
  },
  {
   "cell_type": "markdown",
   "metadata": {},
   "source": [
    "#### sepcnn"
   ]
  },
  {
   "cell_type": "code",
   "execution_count": null,
   "metadata": {
    "ExecuteTime": {
     "end_time": "2021-07-24T23:32:53.810336Z",
     "start_time": "2021-07-24T23:17:15.904Z"
    },
    "scrolled": false
   },
   "outputs": [],
   "source": [
    "helper = qtf.classification.Classification(params, model_results=model_results, datasets=sequence_datasets2)\n",
    "model = qtf.classification.models.sepcnn1(helper, name='sepcnn', blocks=1, last_activation='sigmoid')\n",
    "# when bolcks=2, the model can't converg\n",
    "model.summary()\n",
    "history = helper.train(model)\n",
    "helper.model_summary(model, history=history)"
   ]
  },
  {
   "cell_type": "markdown",
   "metadata": {
    "ExecuteTime": {
     "end_time": "2021-07-21T05:59:42.134388Z",
     "start_time": "2021-07-21T05:59:42.033806Z"
    }
   },
   "source": [
    "#### sepcnn_ft"
   ]
  },
  {
   "cell_type": "code",
   "execution_count": null,
   "metadata": {
    "ExecuteTime": {
     "end_time": "2021-07-24T23:32:53.812413Z",
     "start_time": "2021-07-24T23:17:15.907Z"
    },
    "scrolled": false
   },
   "outputs": [],
   "source": [
    "helper = qtf.classification.Classification(params, model_results=model_results, datasets=sequence_datasets2)\n",
    "model = qtf.classification.models.sepcnn1(helper, name='sepcnn_ft', blocks=1,\n",
    "                                          embedding_matrix=embedding_matrix_fasttext,\n",
    "                                          is_embedding_trainable=False, last_activation='sigmoid')\n",
    "model.summary()\n",
    "history = helper.train(model)\n",
    "helper.model_summary(model, history=history)"
   ]
  },
  {
   "cell_type": "markdown",
   "metadata": {},
   "source": [
    "### LSTM"
   ]
  },
  {
   "cell_type": "markdown",
   "metadata": {},
   "source": [
    "#### rnn_lstm"
   ]
  },
  {
   "cell_type": "code",
   "execution_count": null,
   "metadata": {
    "ExecuteTime": {
     "end_time": "2021-07-24T23:32:53.814670Z",
     "start_time": "2021-07-24T23:17:15.911Z"
    },
    "scrolled": false
   },
   "outputs": [],
   "source": [
    "helper = qtf.classification.Classification(params, model_results=model_results, datasets=sequence_datasets2)\n",
    "model = qtf.classification.models.lstm1(helper, name='rnn_lstm', last_activation='sigmoid')\n",
    "model.summary()\n",
    "history = helper.train(model)\n",
    "helper.model_summary(model, history=history)"
   ]
  },
  {
   "cell_type": "markdown",
   "metadata": {},
   "source": [
    "#### rnn_lstm_ft"
   ]
  },
  {
   "cell_type": "code",
   "execution_count": null,
   "metadata": {
    "ExecuteTime": {
     "end_time": "2021-07-24T23:32:53.816687Z",
     "start_time": "2021-07-24T23:17:15.915Z"
    },
    "scrolled": false
   },
   "outputs": [],
   "source": [
    "helper = qtf.classification.Classification(params, model_results=model_results, datasets=sequence_datasets2)\n",
    "model = qtf.classification.models.lstm1(helper, name='rnn_lstm_ft',\n",
    "                                        embedding_matrix=embedding_matrix_fasttext,\n",
    "                                        is_embedding_trainable=False,\n",
    "                                        mask_zero=False, \n",
    "                                        last_activation='sigmoid'))\n",
    "model.summary()\n",
    "history = helper.train(model)\n",
    "helper.model_summary(model, history=history)"
   ]
  },
  {
   "cell_type": "markdown",
   "metadata": {},
   "source": [
    "### Pooled GRU "
   ]
  },
  {
   "cell_type": "markdown",
   "metadata": {},
   "source": [
    "#### pg_default"
   ]
  },
  {
   "cell_type": "code",
   "execution_count": null,
   "metadata": {
    "ExecuteTime": {
     "end_time": "2021-07-24T23:32:53.818317Z",
     "start_time": "2021-07-24T23:17:15.918Z"
    },
    "scrolled": false
   },
   "outputs": [],
   "source": [
    "helper = qtf.classification.Classification(params, model_results=model_results, datasets=sequence_datasets2)\n",
    "model = qtf.classification.models.pooled_gru1(helper, name='pg_default', last_activation='sigmoid')\n",
    "model.summary()\n",
    "history = helper.train(model)\n",
    "helper.model_summary(model, history=history)"
   ]
  },
  {
   "cell_type": "markdown",
   "metadata": {},
   "source": [
    "#### pg_ft"
   ]
  },
  {
   "cell_type": "code",
   "execution_count": null,
   "metadata": {
    "ExecuteTime": {
     "end_time": "2021-07-24T23:32:53.820025Z",
     "start_time": "2021-07-24T23:17:15.921Z"
    },
    "scrolled": false
   },
   "outputs": [],
   "source": [
    "helper = qtf.classification.Classification(params, model_results=model_results, datasets=sequence_datasets2)\n",
    "model = qtf.classification.models.pooled_gru1(helper, name='pg_ft', \n",
    "                                              embedding_matrix=embedding_matrix_fasttext, \n",
    "                                              is_embedding_trainable=False,\n",
    "                                              last_activation='sigmoid')\n",
    "model.summary()\n",
    "history = helper.train(model)\n",
    "helper.model_summary(model, history=history)"
   ]
  },
  {
   "cell_type": "markdown",
   "metadata": {},
   "source": [
    "## 评估"
   ]
  },
  {
   "cell_type": "markdown",
   "metadata": {
    "ExecuteTime": {
     "end_time": "2021-07-21T07:04:19.365239Z",
     "start_time": "2021-07-21T07:04:19.280940Z"
    }
   },
   "source": [
    "### 最佳模型"
   ]
  },
  {
   "cell_type": "code",
   "execution_count": null,
   "metadata": {
    "ExecuteTime": {
     "end_time": "2021-07-24T23:32:53.821726Z",
     "start_time": "2021-07-24T23:17:15.925Z"
    }
   },
   "outputs": [],
   "source": [
    "data_model_results = qtf.classification.DataModelResults(params.data_path) \n",
    "data_model_results.show(10)"
   ]
  },
  {
   "cell_type": "code",
   "execution_count": null,
   "metadata": {
    "ExecuteTime": {
     "end_time": "2021-07-24T23:32:53.823400Z",
     "start_time": "2021-07-24T23:17:15.928Z"
    }
   },
   "outputs": [],
   "source": [
    "\n",
    "predictors = qtf.classification.Predictor.get_top_n_predictors(5, data_model_results)\n",
    "\n",
    "best_predictor = predictors[0]\n",
    "best_predictor.model.compile(optimizer=optimizers.Adam(learning_rate=params.learning_rate),\n",
    "                        loss=losses.SparseCategoricalCrossentropy(from_logits=True),\n",
    "                        metrics=['accuracy', 'mae'])\n",
    "\n",
    "qtf.utils.plot_model_structure(best_predictor.model)"
   ]
  },
  {
   "cell_type": "code",
   "execution_count": null,
   "metadata": {
    "ExecuteTime": {
     "end_time": "2021-07-24T23:32:53.825010Z",
     "start_time": "2021-07-24T23:17:15.931Z"
    },
    "scrolled": false
   },
   "outputs": [],
   "source": [
    "qtf.utils.plot_sample_text_analysis(predictors, test_texts, test_labels,\n",
    "                                    sample_count=5, show_error_sample=False) "
   ]
  },
  {
   "cell_type": "code",
   "execution_count": null,
   "metadata": {
    "ExecuteTime": {
     "end_time": "2021-07-24T23:32:53.826720Z",
     "start_time": "2021-07-24T23:17:15.937Z"
    },
    "scrolled": false
   },
   "outputs": [],
   "source": [
    "qtf.utils.plot_sample_text_analysis(predictors, test_texts, test_labels,\n",
    "                                    sample_count=5, show_error_sample=True) "
   ]
  },
  {
   "cell_type": "markdown",
   "metadata": {},
   "source": [
    "### 评估"
   ]
  },
  {
   "cell_type": "code",
   "execution_count": null,
   "metadata": {
    "ExecuteTime": {
     "end_time": "2021-07-24T23:32:53.828480Z",
     "start_time": "2021-07-24T23:17:15.940Z"
    }
   },
   "outputs": [],
   "source": [
    "results = best_predictor.evaluate(test_texts, test_labels)\n",
    "print(results)\n",
    "\n",
    "predictions = best_predictor.predict(test_texts)\n",
    "print(predictions.shape)"
   ]
  },
  {
   "cell_type": "code",
   "execution_count": null,
   "metadata": {
    "ExecuteTime": {
     "end_time": "2021-07-24T23:32:53.830048Z",
     "start_time": "2021-07-24T23:17:15.943Z"
    }
   },
   "outputs": [],
   "source": [
    "top1_predictions = best_predictor.predict_top_k(test_texts, test_labels, top_k=1)\n",
    "top1_scores = qtf.utils.score(test_labels, top1_predictions, params.classes)\n",
    "display(top1_scores)\n",
    "print('-'*100)\n",
    "print(classification_report(test_labels, top1_predictions, digits=4, target_names=params.classes))"
   ]
  },
  {
   "cell_type": "code",
   "execution_count": null,
   "metadata": {
    "ExecuteTime": {
     "end_time": "2021-07-24T23:32:53.831766Z",
     "start_time": "2021-07-24T23:17:15.945Z"
    }
   },
   "outputs": [],
   "source": [
    "qtf.utils.plot_confusion_matrix(test_labels, top1_predictions, params.classes)\n"
   ]
  },
  {
   "cell_type": "markdown",
   "metadata": {},
   "source": [
    "## 参考\n",
    "\n",
    "- [Text classification Guide](https://developers.google.com/machine-learning/guides/text-classification)"
   ]
  }
 ],
 "metadata": {
  "kernelspec": {
   "display_name": "Python 3",
   "language": "python",
   "name": "python3"
  },
  "language_info": {
   "codemirror_mode": {
    "name": "ipython",
    "version": 3
   },
   "file_extension": ".py",
   "mimetype": "text/x-python",
   "name": "python",
   "nbconvert_exporter": "python",
   "pygments_lexer": "ipython3",
   "version": "3.6.9"
  },
  "toc": {
   "base_numbering": 1,
   "nav_menu": {},
   "number_sections": true,
   "sideBar": true,
   "skip_h1_title": false,
   "title_cell": "Table of Contents",
   "title_sidebar": "Contents",
   "toc_cell": false,
   "toc_position": {
    "height": "calc(100% - 180px)",
    "left": "10px",
    "top": "150px",
    "width": "291.165px"
   },
   "toc_section_display": true,
   "toc_window_display": true
  }
 },
 "nbformat": 4,
 "nbformat_minor": 4
}
