{
 "cells": [
  {
   "cell_type": "markdown",
   "metadata": {},
   "source": [
    "---\n",
    "title: Callback\n",
    "categories: deep-learning\n",
    "date: 2020-11-09\n",
    "---\n",
    "\n",
    "本文将介绍Tensorflow中的Callback。它是一个非常有用的工具，用于自定义train，evaluate和predict中的行为。\n",
    "\n",
    "## Callback的方法\n",
    "\n",
    "实现Callback很简单，主要有两步：\n",
    "\n",
    "- 创建一个新的类，这个类继承`tf.keras.callbacks.Callback`。\n",
    "\n",
    "- 根据需求，重载`tf.keras.callbacks.Callback`中的如下方法。\n",
    "  - `on_(train|test|predict)_begin(self, logs=None)`\n",
    "  - `on_(train|test|predict)_end(self, logs=None)`\n",
    "  - `on_(train|test|predict)_batch_begin(self, batch, logs=None)`\n",
    "  - `on_(train|test|predict)_batch_end(self, batch, logs=None)`\n",
    "  - `on_epoch_begin(self, epoch, logs=None)`\n",
    "  - `on_epoch_end(self, epoch, logs=None)`\n",
    "\n",
    "  以上所有`begin`结尾方法，其logs是一个空的list。而end结尾的方法，其logs大多是有内容的，详见后文。\n",
    "\n",
    "完成了前两步准备后，在模型训练，评估或预测时，把Callback类传入，则上面的那些方法将会被调用。其调用的具体的规则如下。\n",
    "\n",
    "- `tf.keras.Model.fit()`\n",
    "\n",
    "  Callback中方法调用顺序的伪代码如下。\n",
    "\n",
    "  ~~~python\n",
    "  on_train_begin(self, logs=None)\n",
    "  for epoch in epoches:\n",
    "      on_epoch_begin(self, epoch, logs=None)\n",
    "      for batch in train_batches:\n",
    "          on_train_batch_begin(self, batch, logs=None)\n",
    "          on_train_batch_end(self, batch, logs=None)     # logs.keys = [loss, ...]        \n",
    "      on_test_begin(self, logs=None)\n",
    "      for batch in test_batches:\n",
    "          on_test_batch_begin(self, batch, logs=None)\n",
    "          on_test_batch_end(self, batch, logs=None)     # logs.keys = [loss, ...]\n",
    "      on_test_end(self, logs=None)    # logs.keys = [loss, ...]    \n",
    "      on_epoch_end(self, epoch, logs=None)    # logs.keys = [loss, val_loss, ...]\n",
    "  on_train_end(self, logs=None)    # logs.keys = [loss, val_loss, ...]\n",
    "  ~~~\n",
    "\n",
    "- `tf.keras.Model.evaluate()`\n",
    "\n",
    "  Callback中方法调用顺序的伪代码如下。\n",
    "\n",
    "  ~~~python\n",
    "  on_test_begin(self, logs=None)\n",
    "  for batch in test_batches:\n",
    "      on_test_batch_begin(self, batch, logs=None)            \n",
    "      on_test_batch_end(self, batch, logs=None)       # logs.keys = [loss, ...] \n",
    "  on_test_end(self, logs=None)    # logs.keys = [loss, val_loss, ...]\n",
    "  ~~~\n",
    "\n",
    "- `tf.keras.Model.predict()`\n",
    "\n",
    "  Callback中方法调用顺序的伪代码如下。\n",
    "\n",
    "  ~~~python\n",
    "  on_predict_begin(self, logs=None)\n",
    "  for batch in test_batches:\n",
    "      on_predict_batch_begin(self, batch, logs=None)    \n",
    "      on_predict_batch_end(self, batch, logs=None)    # logs = [outputs, ...] \n",
    "  on_predict_end(self, logs=None)\n",
    "  ~~~\n",
    "\n",
    "## Callback实践\n",
    "\n",
    "### 调用顺序\n",
    "\n",
    "下面的代码展示了Callback中方法的调用顺序。首先创建模型和加载数据。"
   ]
  },
  {
   "cell_type": "code",
   "execution_count": 149,
   "metadata": {
    "ExecuteTime": {
     "end_time": "2020-12-31T01:29:56.616978Z",
     "start_time": "2020-12-31T01:29:56.602124Z"
    }
   },
   "outputs": [],
   "source": [
    "import matplotlib.pyplot as plt\n",
    "import numpy as np\n",
    "import os\n",
    "import tensorflow as tf\n",
    "from pprint import pprint\n",
    "from tensorflow import keras\n",
    "\n",
    "gpus = tf.config.experimental.list_physical_devices(device_type='GPU')\n",
    "tf.config.experimental.set_virtual_device_configuration(\n",
    "    gpus[0],\n",
    "    [tf.config.experimental.VirtualDeviceConfiguration(memory_limit=1024)]\n",
    ")\n",
    "\n",
    "def get_model():\n",
    "    model = keras.models.Sequential()\n",
    "    model.add(keras.layers.Flatten(input_shape=(28, 28)))\n",
    "    model.add(keras.layers.Dense(128, activation='relu'))\n",
    "    model.add(keras.layers.Dropout(0.2))\n",
    "    model.add(keras.layers.Dense(10))    \n",
    "    model.compile(\n",
    "        optimizer=keras.optimizers.RMSprop(learning_rate=0.1),\n",
    "        loss=keras.losses.SparseCategoricalCrossentropy(from_logits=True),\n",
    "        metrics=[\"accuracy\"],\n",
    "    )\n",
    "    return model\n",
    "\n",
    "def get_mnist():\n",
    "    (x_train, y_train), (x_test, y_test) = tf.keras.datasets.fashion_mnist.load_data()\n",
    "    x_train = x_train.astype(\"float32\") / 255.0\n",
    "    x_test = x_test.astype(\"float32\") / 255.0\n",
    "    return x_train, y_train, x_test, y_test\n"
   ]
  },
  {
   "cell_type": "markdown",
   "metadata": {},
   "source": [
    "然后自定义Callback类。"
   ]
  },
  {
   "cell_type": "code",
   "execution_count": 70,
   "metadata": {
    "ExecuteTime": {
     "end_time": "2020-12-30T14:52:14.743608Z",
     "start_time": "2020-12-30T14:52:14.725865Z"
    }
   },
   "outputs": [],
   "source": [
    "class CustomCallback(keras.callbacks.Callback):\n",
    "    def on_train_begin(self, logs=None):\n",
    "        keys = list(logs.keys())\n",
    "        print(\"Starting training; got log keys: {}\".format(keys))        \n",
    "\n",
    "    def on_train_end(self, logs=None):\n",
    "        keys = list(logs.keys())\n",
    "        print(\"Stop training; got log keys: {}\".format(keys))\n",
    "\n",
    "    def on_epoch_begin(self, epoch, logs=None):\n",
    "        keys = list(logs.keys())\n",
    "        print(\"Start epoch {} of training; got log keys: {}\".format(epoch, keys))\n",
    "\n",
    "    def on_epoch_end(self, epoch, logs=None):\n",
    "        keys = list(logs.keys())\n",
    "        print(\"End epoch {} of training; got log keys: {}\".format(epoch, keys))\n",
    "\n",
    "    def on_test_begin(self, logs=None):\n",
    "        keys = list(logs.keys())\n",
    "        print(\"Start testing; got log keys: {}\".format(keys))\n",
    "\n",
    "    def on_test_end(self, logs=None):\n",
    "        keys = list(logs.keys())\n",
    "        print(\"Stop testing; got log keys: {}\".format(keys))\n",
    "\n",
    "    def on_predict_begin(self, logs=None):\n",
    "        keys = list(logs.keys())\n",
    "        print(\"Start predicting; got log keys: {}\".format(keys))\n",
    "\n",
    "    def on_predict_end(self, logs=None):\n",
    "        keys = list(logs.keys())\n",
    "        print(\"Stop predicting; got log keys: {}\".format(keys))\n",
    "\n",
    "    def on_train_batch_begin(self, batch, logs=None):\n",
    "        keys = list(logs.keys())\n",
    "        print(\"    Training: start of batch {}; got log keys: {}\".format(batch, keys))\n",
    "\n",
    "    def on_train_batch_end(self, batch, logs=None):\n",
    "        keys = list(logs.keys())\n",
    "        print(\"    Training: end of batch {}; got log keys: {}\".format(batch, keys))\n",
    "\n",
    "    def on_test_batch_begin(self, batch, logs=None):\n",
    "        keys = list(logs.keys())\n",
    "        print(\"    Evaluating: start of batch {}; got log keys: {}\".format(batch, keys))\n",
    "\n",
    "    def on_test_batch_end(self, batch, logs=None):\n",
    "        keys = list(logs.keys())\n",
    "        print(\"    Evaluating: end of batch {}; got log keys: {}\".format(batch, keys))\n",
    "\n",
    "    def on_predict_batch_begin(self, batch, logs=None):\n",
    "        keys = list(logs.keys())\n",
    "        print(\"    Predicting: start of batch {}; got log keys: {}\".format(batch, keys))\n",
    "\n",
    "    def on_predict_batch_end(self, batch, logs=None):\n",
    "        keys = list(logs.keys())\n",
    "        print(\"    Predicting: end of batch {}; got log keys: {}\".format(batch, keys))\n"
   ]
  },
  {
   "cell_type": "markdown",
   "metadata": {},
   "source": [
    "下面来进行模型训练，评估和预测。"
   ]
  },
  {
   "cell_type": "code",
   "execution_count": 71,
   "metadata": {
    "ExecuteTime": {
     "end_time": "2020-12-30T14:52:17.877962Z",
     "start_time": "2020-12-30T14:52:16.475044Z"
    }
   },
   "outputs": [
    {
     "name": "stdout",
     "output_type": "stream",
     "text": [
      "Starting training; got log keys: []\n",
      "Start epoch 0 of training; got log keys: []\n",
      "    Training: start of batch 0; got log keys: []\n",
      "    Training: end of batch 0; got log keys: ['loss', 'accuracy']\n",
      "    Training: start of batch 1; got log keys: []\n",
      "    Training: end of batch 1; got log keys: ['loss', 'accuracy']\n",
      "Start testing; got log keys: []\n",
      "    Evaluating: start of batch 0; got log keys: []\n",
      "    Evaluating: end of batch 0; got log keys: ['loss', 'accuracy']\n",
      "    Evaluating: start of batch 1; got log keys: []\n",
      "    Evaluating: end of batch 1; got log keys: ['loss', 'accuracy']\n",
      "Stop testing; got log keys: ['loss', 'accuracy']\n",
      "End epoch 0 of training; got log keys: ['loss', 'accuracy', 'val_loss', 'val_accuracy']\n",
      "Stop training; got log keys: ['loss', 'accuracy', 'val_loss', 'val_accuracy']\n",
      "----------------------------------------------------------------------------------------------------\n",
      "Start testing; got log keys: []\n",
      "    Evaluating: start of batch 0; got log keys: []\n",
      "    Evaluating: end of batch 0; got log keys: ['loss', 'accuracy']\n",
      "    Evaluating: start of batch 1; got log keys: []\n",
      "    Evaluating: end of batch 1; got log keys: ['loss', 'accuracy']\n",
      "Stop testing; got log keys: ['loss', 'accuracy']\n",
      "----------------------------------------------------------------------------------------------------\n",
      "Start predicting; got log keys: []\n",
      "    Predicting: start of batch 0; got log keys: []\n",
      "    Predicting: end of batch 0; got log keys: ['outputs']\n",
      "    Predicting: start of batch 1; got log keys: []\n",
      "    Predicting: end of batch 1; got log keys: ['outputs']\n",
      "Stop predicting; got log keys: []\n"
     ]
    }
   ],
   "source": [
    "x_train, y_train, x_test, y_test = get_mnist()\n",
    "x_train = x_train[:1024]\n",
    "y_train = y_train[:1024]\n",
    "x_test = x_test[:512]\n",
    "y_test = y_test[:512]\n",
    "\n",
    "model = get_model()\n",
    "model.fit(\n",
    "    x_train,\n",
    "    y_train,\n",
    "    batch_size=256,\n",
    "    epochs=1,\n",
    "    verbose=0,\n",
    "    validation_split=0.5,\n",
    "    callbacks=[CustomCallback()],\n",
    ")\n",
    "\n",
    "print('-'*100)\n",
    "res = model.evaluate(\n",
    "    x_test, y_test, batch_size=256, verbose=0, callbacks=[CustomCallback()]\n",
    ")\n",
    "\n",
    "print('-'*100)\n",
    "res = model.predict(x_test, batch_size=256, callbacks=[CustomCallback()])"
   ]
  },
  {
   "cell_type": "markdown",
   "metadata": {},
   "source": [
    "![image-20201108175730619](images/image-20201108175730619.png)\n",
    "\n",
    "### Early Stopping\n",
    "\n",
    "在模型训练时，为了减少过拟合，往往会采用Early Stopping的技术。它会比较某一个metrics（最常用的是`val_loss`）是否在持续在降低，如果连续几个epochs都没有降低，将会中止训练，而且往往会把参数恢复到之前metrics最低时候的参数。\n",
    "\n",
    "下面自定义的类实现了Early Stopping的逻辑。下面代码中，当设置`self.model.stop_training = True`后，训练将会退出。"
   ]
  },
  {
   "cell_type": "code",
   "execution_count": 72,
   "metadata": {
    "ExecuteTime": {
     "end_time": "2020-12-30T14:52:24.653878Z",
     "start_time": "2020-12-30T14:52:23.269342Z"
    }
   },
   "outputs": [
    {
     "name": "stdout",
     "output_type": "stream",
     "text": [
      "Restoring model weights from the end of the best epoch 25.\n",
      "Epoch 00030: early stopping\n"
     ]
    }
   ],
   "source": [
    "class MyEarlyStopping(keras.callbacks.Callback):\n",
    "    \"\"\"Stop training when the loss is at its min, i.e. the loss stops decreasing.\n",
    "\n",
    "  Arguments:\n",
    "      patience: Number of epochs to wait after min has been hit. After this\n",
    "      number of no improvement, training stops.\n",
    "  \"\"\"\n",
    "\n",
    "    def __init__(self, patience=0):\n",
    "        super(MyEarlyStopping, self).__init__()\n",
    "        self.patience = patience\n",
    "        self.best_weights = None\n",
    "        self.best_epoch = -1\n",
    "\n",
    "    def on_train_begin(self, logs=None):\n",
    "        self.wait = 0\n",
    "        self.stopped_epoch = 0\n",
    "        self.best = np.Inf\n",
    "\n",
    "    def on_epoch_end(self, epoch, logs=None):\n",
    "        current = logs.get(\"val_loss\")\n",
    "        if np.less(current, self.best):\n",
    "            self.best = current\n",
    "            self.best_epoch = epoch\n",
    "            self.wait = 0\n",
    "            self.best_weights = self.model.get_weights()\n",
    "        else:\n",
    "            self.wait += 1\n",
    "            if self.wait >= self.patience:\n",
    "                self.stopped_epoch = epoch\n",
    "                self.model.stop_training = True\n",
    "                print(\"Restoring model weights from the end of the best epoch {}.\".format(self.best_epoch+1))\n",
    "                self.model.set_weights(self.best_weights)\n",
    "\n",
    "    def on_train_end(self, logs=None):\n",
    "        if self.stopped_epoch > 0:\n",
    "            print(\"Epoch %05d: early stopping\" % (self.stopped_epoch + 1))\n",
    "            \n",
    "model = get_model()\n",
    "history = model.fit(\n",
    "    x_train,\n",
    "    y_train,\n",
    "    batch_size=256,\n",
    "    epochs=30,\n",
    "    verbose=0,\n",
    "    validation_split=0.5,\n",
    "    callbacks=[MyEarlyStopping(patience=5)],    \n",
    ")"
   ]
  },
  {
   "cell_type": "markdown",
   "metadata": {},
   "source": [
    "![image-20201109022827577](images/image-20201109022827577.png)\n",
    "\n",
    "下面来显示训练过程中的val_loss趋势。"
   ]
  },
  {
   "cell_type": "code",
   "execution_count": 15,
   "metadata": {
    "ExecuteTime": {
     "end_time": "2020-12-30T12:18:34.263030Z",
     "start_time": "2020-12-30T12:18:33.982592Z"
    }
   },
   "outputs": [
    {
     "data": {
      "image/png": "[encoded data removed]",
      "text/plain": [
       "<Figure size 576x288 with 1 Axes>"
      ]
     },
     "metadata": {
      "needs_background": "light"
     },
     "output_type": "display_data"
    }
   ],
   "source": [
    "def plot_history(history, metrics_name='accuracy'):\n",
    "    plt.figure(figsize=(8, 4))\n",
    "    # 忽略前面几个epoch\n",
    "    start_epoch = 5    \n",
    "    metrics = history.history[metrics_name][start_epoch-1:]\n",
    "    val_metrics = history.history['val_' + metrics_name][start_epoch-1:]\n",
    "    epochs = [start_epoch + i for i in range(len(metrics))]\n",
    "    lowest = np.argmin(val_metrics)\n",
    "    \n",
    "    plt.plot(epochs, metrics, label=metrics_name)\n",
    "    plt.plot(epochs, val_metrics, label = 'val_' + metrics_name)\n",
    "    plt.plot(lowest+start_epoch, val_metrics[lowest], 'ro')\n",
    "    plt.xlabel('epoch')\n",
    "    plt.ylabel(metrics_name)\n",
    "    plt.xticks(epochs)\n",
    "    plt.legend(loc='upper right')\n",
    "    plt.show()\n",
    "\n",
    "plot_history(history, metrics_name='loss')"
   ]
  },
  {
   "cell_type": "markdown",
   "metadata": {},
   "source": [
    "![image-20201109023043836](images/image-20201109023043836.png)\n",
    "\n",
    "上图中第15 epoch，val_loss获得最低的值，接下来五轮epoch，val_loss无法获得更低的值，所以训练退出。\n",
    "\n",
    "TensorFlow在tf.keras.callbacks.EarlyStopping类中也实现的Early Stopping功能，其逻辑和上面的实现基本相同。"
   ]
  },
  {
   "cell_type": "code",
   "execution_count": 16,
   "metadata": {
    "ExecuteTime": {
     "end_time": "2020-12-30T12:18:34.270882Z",
     "start_time": "2020-12-30T12:18:34.265676Z"
    },
    "attributes": {
     "classes": [
      "py"
     ],
     "id": ""
    }
   },
   "outputs": [
    {
     "data": {
      "text/plain": [
       "<tensorflow.python.keras.callbacks.EarlyStopping at 0x7fbabd66a710>"
      ]
     },
     "execution_count": 16,
     "metadata": {},
     "output_type": "execute_result"
    }
   ],
   "source": [
    "tf.keras.callbacks.EarlyStopping(\n",
    "    monitor='val_loss', \n",
    "    min_delta=0, \n",
    "    patience=0, \n",
    "    verbose=0, \n",
    "    mode='auto',\n",
    "    baseline=None, \n",
    "    restore_best_weights=False\n",
    ")"
   ]
  },
  {
   "cell_type": "markdown",
   "metadata": {},
   "source": [
    "如果调用`keras.callbacks.EarlyStopping`，效果完全一样。"
   ]
  },
  {
   "cell_type": "code",
   "execution_count": 17,
   "metadata": {
    "ExecuteTime": {
     "end_time": "2020-12-30T12:18:36.600396Z",
     "start_time": "2020-12-30T12:18:34.968199Z"
    }
   },
   "outputs": [
    {
     "data": {
      "image/png": "[encoded data removed]",
      "text/plain": [
       "<Figure size 576x288 with 1 Axes>"
      ]
     },
     "metadata": {
      "needs_background": "light"
     },
     "output_type": "display_data"
    }
   ],
   "source": [
    "model = get_model()\n",
    "history = model.fit(\n",
    "    x_train,\n",
    "    y_train,\n",
    "    batch_size=256,\n",
    "    epochs=30,\n",
    "    verbose=0,\n",
    "    validation_split=0.5,\n",
    "    callbacks=[keras.callbacks.EarlyStopping(monitor='val_loss', patience=5)],    \n",
    ")\n",
    "plot_history(history, metrics_name='loss')"
   ]
  },
  {
   "cell_type": "markdown",
   "metadata": {},
   "source": [
    "![image-20201109024441079](images/image-20201109024441079.png)\n",
    "\n",
    "### Save Checkpoints\n",
    "\n",
    "在训练模型的时候，有时候需要要保存中间的一些结果，采用tf.keras.callbacks.ModelCheckpoint可以很容易做到这一点。下面是创建ModelCheckpoint的一些参数。\n",
    "\n",
    "| Arguments         | 描述                                                         |\n",
    "| :---------------- | ------------------------------------------------------------ |\n",
    "| filepath          | 模型保存的文件路径。可以添加一些变量，比如：`weights.{epoch:02d}-{val_loss:.2f}.hdf5` |\n",
    "| monitor           | 监控的metrics，仅当`save_best_only=True`时发挥作用。默认是val_loss。 |\n",
    "| verbose           | verbosity mode, 0 or 1.                                      |\n",
    "| save_best_only    | 如果`save_best_only=True`, 仅仅当monitor的metrics获得最佳性能后才会保存模型 |\n",
    "| mode              | 根据monitor的metrics的最优来决定是否保存模型。仅当`save_best_only=True`时发挥作用，有三个值：auto, min, max。默认为auto。 |\n",
    "| save_weights_only | 是否仅仅保存模型weights，默认False                           |\n",
    "| save_freq         | 保存的频次，可以设置`'epoch'`或者 integer. 当设置 `'epoch'`,则每个epoch都会保存模型。当设置为整数，表示每训练`save_freq`个batch，模型会保存一次。 默认是`'epoch'`。 |\n",
    "\n",
    "需要注意的有两点：\n",
    "\n",
    "- 当`save_best_only=True`时，避免设置`save_freq`的值，这是因为monitor监控的一般是val_loss, val_accuaracy等，它们是validation数据集上的metrics，`save_freq`会在on_train_batch_end实现触发模型保存的动作，但这个事件里，logs参数并没有validation数据集上的metrics。\n",
    "\n",
    "- 在版本Tensor Flow 2.3.1中，在ModelCheckpoint的filepath参数中，不支持batch作为参数，这应该是个bug，因为这样的需求很常见。在早期的2.0.0版本中，反而支持，让人困惑。\n",
    "\n",
    "下面来看具体代码实现，首先安装所需要的包。"
   ]
  },
  {
   "cell_type": "code",
   "execution_count": 18,
   "metadata": {
    "ExecuteTime": {
     "end_time": "2020-12-30T12:18:39.784668Z",
     "start_time": "2020-12-30T12:18:36.603825Z"
    }
   },
   "outputs": [
    {
     "name": "stdout",
     "output_type": "stream",
     "text": [
      "\u001b[33mWARNING: You are using pip version 20.3; however, version 20.3.3 is available.\r\n",
      "You should consider upgrading via the '/usr/bin/python3 -m pip install --upgrade pip' command.\u001b[0m\r\n"
     ]
    }
   ],
   "source": [
    "!pip install -q pyyaml h5py  # Required to save models in HDF5 format"
   ]
  },
  {
   "cell_type": "markdown",
   "metadata": {},
   "source": [
    "然后创建callback，它将在每个epoch保存一次模型参数，代码如下。"
   ]
  },
  {
   "cell_type": "code",
   "execution_count": 73,
   "metadata": {
    "ExecuteTime": {
     "end_time": "2020-12-30T14:52:53.507979Z",
     "start_time": "2020-12-30T14:52:52.567972Z"
    }
   },
   "outputs": [
    {
     "name": "stdout",
     "output_type": "stream",
     "text": [
      "Epoch 1/5\n",
      "1/8 [==>...........................] - ETA: 0s - loss: 2.4357 - accuracy: 0.1250\n",
      "Epoch 00001: saving model to ./checkpoints/weights.01-20.73.h5\n",
      "8/8 [==============================] - 0s 22ms/step - loss: 2871.6755 - accuracy: 0.2207 - val_loss: 20.7311 - val_accuracy: 0.3105\n",
      "Epoch 2/5\n",
      "1/8 [==>...........................] - ETA: 0s - loss: 21.2779 - accuracy: 0.3750\n",
      "Epoch 00002: saving model to ./checkpoints/weights.02-5.44.h5\n",
      "8/8 [==============================] - 0s 6ms/step - loss: 8.6661 - accuracy: 0.3203 - val_loss: 5.4362 - val_accuracy: 0.3906\n",
      "Epoch 3/5\n",
      "1/8 [==>...........................] - ETA: 0s - loss: 3.9809 - accuracy: 0.3906\n",
      "Epoch 00003: saving model to ./checkpoints/weights.03-6.05.h5\n",
      "8/8 [==============================] - 0s 6ms/step - loss: 3.9042 - accuracy: 0.3145 - val_loss: 6.0466 - val_accuracy: 0.3203\n",
      "Epoch 4/5\n",
      "1/8 [==>...........................] - ETA: 0s - loss: 5.3774 - accuracy: 0.2344\n",
      "Epoch 00004: saving model to ./checkpoints/weights.04-3.34.h5\n",
      "8/8 [==============================] - 0s 6ms/step - loss: 3.5053 - accuracy: 0.2891 - val_loss: 3.3441 - val_accuracy: 0.2637\n",
      "Epoch 5/5\n",
      "1/8 [==>...........................] - ETA: 0s - loss: 1.8673 - accuracy: 0.3281\n",
      "Epoch 00005: saving model to ./checkpoints/weights.05-2.64.h5\n",
      "8/8 [==============================] - 0s 6ms/step - loss: 2.1096 - accuracy: 0.2871 - val_loss: 2.6434 - val_accuracy: 0.2715\n",
      "['weights.01-20.73.h5',\n",
      " 'weights.02-5.44.h5',\n",
      " 'weights.03-6.05.h5',\n",
      " 'weights.04-3.34.h5',\n",
      " 'weights.05-2.64.h5']\n"
     ]
    }
   ],
   "source": [
    "import shutil\n",
    "\n",
    "checkpoint_dir = \"./checkpoints\"\n",
    "if os.path.exists(checkpoint_dir):\n",
    "    shutil.rmtree(checkpoint_dir)\n",
    "os.makedirs(checkpoint_dir)\n",
    "\n",
    "checkpoint_path = os.path.join(checkpoint_dir, \"weights.{epoch:02d}-{val_loss:.2f}.h5\")\n",
    "cp_callback = tf.keras.callbacks.ModelCheckpoint(filepath=checkpoint_path,\n",
    "                                                 save_weights_only=True,\n",
    "                                                 verbose=1)\n",
    "model = get_model()\n",
    "model.fit(\n",
    "    x_train,\n",
    "    y_train,\n",
    "    batch_size=64,\n",
    "    epochs=5,\n",
    "    validation_split=0.5,\n",
    "    callbacks=[cp_callback])\n",
    "\n",
    "pprint(os.listdir(checkpoint_dir))"
   ]
  },
  {
   "cell_type": "markdown",
   "metadata": {},
   "source": [
    "![image-20201111174325438](images/image-20201111174325438.png)\n",
    "\n",
    "上面生成了5个[HDF5](https://zhuanlan.zhihu.com/p/104145585)格式的参数文件。下面是加载模型参数的代码。"
   ]
  },
  {
   "cell_type": "code",
   "execution_count": 20,
   "metadata": {
    "ExecuteTime": {
     "end_time": "2020-12-30T12:19:02.800671Z",
     "start_time": "2020-12-30T12:19:02.464183Z"
    }
   },
   "outputs": [
    {
     "name": "stdout",
     "output_type": "stream",
     "text": [
      "test loss is 2.372, test accuracy is 0.094\n",
      "test loss is 1.517, test accuracy is 0.496\n"
     ]
    }
   ],
   "source": [
    "model = get_model()\n",
    "loss, accuracy = model.evaluate(x_test, y_test, batch_size=256, verbose=0)\n",
    "print('test loss is {:.3f}, test accuracy is {:.3f}'.format(loss, accuracy))\n",
    "\n",
    "model.load_weights(os.path.join(checkpoint_dir, os.listdir(checkpoint_dir)[-1]))\n",
    "loss, accuracy = model.evaluate(x_test, y_test, batch_size=256, verbose=0)\n",
    "print('test loss is {:.3f}, test accuracy is {:.3f}'.format(loss, accuracy))"
   ]
  },
  {
   "cell_type": "markdown",
   "metadata": {},
   "source": [
    "![image-20201111174445703](images/image-20201111174445703.png)\n",
    "\n",
    "## 参考\n",
    "\n",
    "- [Writing your own callbacks](https://www.tensorflow.org/guide/keras/custom_callback)\n",
    "- [Additional callbacks](https://nbviewer.jupyter.org/github/xuxiangwen/xuxiangwen.github.io/blob/master/_notes/05-ai/54-tensorflow/tutorial/additional_callbacks.ipynb)\n",
    "- [Save and load models](https://www.tensorflow.org/tutorials/keras/save_and_load)\n",
    "\n",
    "## 历史\n",
    "\n",
    "- 2020-11-09：初始 版本\n",
    "- 2020-11-10：增加Save Checkpoints"
   ]
  },
  {
   "cell_type": "code",
   "execution_count": 25,
   "metadata": {
    "ExecuteTime": {
     "end_time": "2020-12-30T12:26:35.178521Z",
     "start_time": "2020-12-30T12:26:33.812762Z"
    }
   },
   "outputs": [
    {
     "name": "stdout",
     "output_type": "stream",
     "text": [
      "Epoch 1/15\n",
      "8/8 [==============================] - 0s 21ms/step - loss: 160.3456 - accuracy: 0.2109 - val_loss: 4.2003 - val_accuracy: 0.4238\n",
      "Epoch 2/15\n",
      "8/8 [==============================] - 0s 6ms/step - loss: 2.3418 - accuracy: 0.4355 - val_loss: 1.6185 - val_accuracy: 0.4629\n",
      "Epoch 3/15\n",
      "8/8 [==============================] - 0s 5ms/step - loss: 1.5762 - accuracy: 0.4453 - val_loss: 1.4528 - val_accuracy: 0.4590\n",
      "Epoch 4/15\n",
      "8/8 [==============================] - 0s 5ms/step - loss: 1.5315 - accuracy: 0.4297 - val_loss: 1.3233 - val_accuracy: 0.5176\n",
      "Epoch 5/15\n",
      "8/8 [==============================] - 0s 5ms/step - loss: 1.8130 - accuracy: 0.3965 - val_loss: 2.1257 - val_accuracy: 0.4434\n",
      "Epoch 6/15\n",
      "8/8 [==============================] - 0s 5ms/step - loss: 2.2209 - accuracy: 0.4121 - val_loss: 2.0719 - val_accuracy: 0.4023\n",
      "Epoch 7/15\n",
      "1/8 [==>...........................] - ETA: 0s - loss: 1.4605 - accuracy: 0.4688\n",
      "Epoch 00007: ReduceLROnPlateau reducing learning rate to 0.05000000074505806.\n",
      "8/8 [==============================] - 0s 5ms/step - loss: 1.8642 - accuracy: 0.3359 - val_loss: 2.0011 - val_accuracy: 0.4180\n",
      "Epoch 8/15\n",
      "8/8 [==============================] - 0s 6ms/step - loss: 2.0680 - accuracy: 0.3594 - val_loss: 1.6045 - val_accuracy: 0.4668\n",
      "Epoch 9/15\n",
      "8/8 [==============================] - 0s 6ms/step - loss: 2.1464 - accuracy: 0.4082 - val_loss: 1.6552 - val_accuracy: 0.4180\n",
      "Epoch 10/15\n",
      "1/8 [==>...........................] - ETA: 0s - loss: 1.4165 - accuracy: 0.4531\n",
      "Epoch 00010: ReduceLROnPlateau reducing learning rate to 0.02500000037252903.\n",
      "8/8 [==============================] - 0s 6ms/step - loss: 1.4953 - accuracy: 0.4199 - val_loss: 1.5880 - val_accuracy: 0.4746\n",
      "Epoch 11/15\n",
      "8/8 [==============================] - 0s 5ms/step - loss: 1.3786 - accuracy: 0.4375 - val_loss: 1.4192 - val_accuracy: 0.5000\n",
      "Epoch 12/15\n",
      "8/8 [==============================] - 0s 6ms/step - loss: 1.2729 - accuracy: 0.4902 - val_loss: 1.3504 - val_accuracy: 0.5352\n",
      "Epoch 13/15\n",
      "8/8 [==============================] - 0s 5ms/step - loss: 1.2894 - accuracy: 0.4902 - val_loss: 1.2971 - val_accuracy: 0.5098\n",
      "Epoch 14/15\n",
      "8/8 [==============================] - 0s 5ms/step - loss: 1.2830 - accuracy: 0.4785 - val_loss: 1.2334 - val_accuracy: 0.5566\n",
      "Epoch 15/15\n",
      "8/8 [==============================] - 0s 5ms/step - loss: 1.2156 - accuracy: 0.4824 - val_loss: 1.2228 - val_accuracy: 0.5430\n"
     ]
    },
    {
     "data": {
      "text/plain": [
       "<tensorflow.python.keras.callbacks.History at 0x7fba18044b70>"
      ]
     },
     "execution_count": 25,
     "metadata": {},
     "output_type": "execute_result"
    }
   ],
   "source": [
    "reduce_lr = tf.keras.callbacks.ReduceLROnPlateau(monitor='val_loss', factor=0.5, min_lr=1e-5, \n",
    "                                                 patience=3, verbose=True) \n",
    "    \n",
    "model = get_model()\n",
    "model.fit(\n",
    "    x_train,\n",
    "    y_train,\n",
    "    batch_size=64,\n",
    "    epochs=15,\n",
    "    validation_split=0.5,\n",
    "    callbacks=[reduce_lr])"
   ]
  },
  {
   "cell_type": "code",
   "execution_count": 155,
   "metadata": {
    "ExecuteTime": {
     "end_time": "2020-12-31T01:37:26.697973Z",
     "start_time": "2020-12-31T01:37:25.344702Z"
    }
   },
   "outputs": [
    {
     "name": "stdout",
     "output_type": "stream",
     "text": [
      "Epoch 1/15\n",
      "8/8 [==============================] - 0s 22ms/step - loss: 279.7803 - accuracy: 0.2363 - val_loss: 14.3825 - val_accuracy: 0.4668\n",
      "Epoch 2/15\n",
      "8/8 [==============================] - 0s 5ms/step - loss: 7.2464 - accuracy: 0.5059 - val_loss: 2.0011 - val_accuracy: 0.6230\n",
      "Epoch 3/15\n",
      "8/8 [==============================] - 0s 5ms/step - loss: 1.6149 - accuracy: 0.5801 - val_loss: 8.6136 - val_accuracy: 0.3359\n",
      "Epoch 4/15\n",
      "8/8 [==============================] - 0s 5ms/step - loss: 3.6705 - accuracy: 0.5293 - val_loss: 1.3637 - val_accuracy: 0.6094\n",
      "Epoch 5/15\n",
      "8/8 [==============================] - 0s 5ms/step - loss: 1.2523 - accuracy: 0.5781 - val_loss: 1.6235 - val_accuracy: 0.5703\n",
      "Epoch 00006: LearningRateScheduler reducing learning rate to 0.010000000000000002 from 0.10000000149011612.\n",
      "Epoch 6/15\n",
      "8/8 [==============================] - 0s 5ms/step - loss: 1.2256 - accuracy: 0.6211 - val_loss: 0.9330 - val_accuracy: 0.6621\n",
      "Epoch 7/15\n",
      "8/8 [==============================] - 0s 5ms/step - loss: 0.9426 - accuracy: 0.6270 - val_loss: 0.8988 - val_accuracy: 0.6777\n",
      "Epoch 8/15\n",
      "8/8 [==============================] - 0s 5ms/step - loss: 0.8246 - accuracy: 0.6660 - val_loss: 0.8575 - val_accuracy: 0.6953\n",
      "Epoch 9/15\n",
      "8/8 [==============================] - 0s 5ms/step - loss: 0.7957 - accuracy: 0.6895 - val_loss: 0.8421 - val_accuracy: 0.7285\n",
      "Epoch 10/15\n",
      "8/8 [==============================] - 0s 5ms/step - loss: 0.8394 - accuracy: 0.6387 - val_loss: 0.8056 - val_accuracy: 0.7148\n",
      "Epoch 00011: LearningRateScheduler reducing learning rate to 0.001 from 0.009999999776482582.\n",
      "Epoch 11/15\n",
      "8/8 [==============================] - 0s 5ms/step - loss: 0.7421 - accuracy: 0.7188 - val_loss: 0.8020 - val_accuracy: 0.7129\n",
      "Epoch 12/15\n",
      "8/8 [==============================] - 0s 5ms/step - loss: 0.7009 - accuracy: 0.7227 - val_loss: 0.7938 - val_accuracy: 0.7168\n",
      "Epoch 13/15\n",
      "8/8 [==============================] - 0s 5ms/step - loss: 0.6924 - accuracy: 0.7129 - val_loss: 0.7958 - val_accuracy: 0.7266\n",
      "Epoch 14/15\n",
      "8/8 [==============================] - 0s 5ms/step - loss: 0.6423 - accuracy: 0.7363 - val_loss: 0.7924 - val_accuracy: 0.7324\n",
      "Epoch 15/15\n",
      "8/8 [==============================] - 0s 5ms/step - loss: 0.6512 - accuracy: 0.7305 - val_loss: 0.7786 - val_accuracy: 0.7461\n"
     ]
    },
    {
     "data": {
      "text/plain": [
       "<tensorflow.python.keras.callbacks.History at 0x7fb8d0fe9e80>"
      ]
     },
     "execution_count": 155,
     "metadata": {},
     "output_type": "execute_result"
    }
   ],
   "source": [
    "def lr_schedule(epoch, lr):\n",
    "    lr_times = [(0, 1.0), (5, 1e-1), (10, 1e-2)]\n",
    "    \n",
    "    base_lr = 1e-1\n",
    "    new_lr = base_lr\n",
    "    for border_epoch, times in lr_times:\n",
    "        if epoch>=border_epoch: \n",
    "            new_lr = base_lr*times\n",
    "    if abs(lr - new_lr)>1e-7:\n",
    "        print('Epoch %05d: LearningRateScheduler reducing learning rate to %s from %s.' % (epoch + 1, new_lr, lr))\n",
    "    return new_lr\n",
    "\n",
    "learning_rate_scheduler = tf.keras.callbacks.LearningRateScheduler(lr_schedule, verbose=False)\n",
    "\n",
    "model = get_model()\n",
    "model.fit(\n",
    "    x_train,\n",
    "    y_train,\n",
    "    batch_size=64,\n",
    "    epochs=15,\n",
    "    validation_split=0.5,\n",
    "    callbacks=[learning_rate_scheduler])"
   ]
  },
  {
   "cell_type": "code",
   "execution_count": 160,
   "metadata": {
    "ExecuteTime": {
     "end_time": "2020-12-31T01:46:54.218210Z",
     "start_time": "2020-12-31T01:46:52.799661Z"
    },
    "scrolled": false
   },
   "outputs": [
    {
     "name": "stdout",
     "output_type": "stream",
     "text": [
      "Epoch 1/15\n",
      "8/8 [==============================] - 0s 21ms/step - loss: 219.7346 - accuracy: 0.1699 - val_loss: 54.3401 - val_accuracy: 0.3281\n",
      "Epoch 2/15\n",
      "8/8 [==============================] - 0s 6ms/step - loss: 16.6931 - accuracy: 0.4707 - val_loss: 2.3640 - val_accuracy: 0.5820\n",
      "Epoch 3/15\n",
      "8/8 [==============================] - 0s 6ms/step - loss: 1.7357 - accuracy: 0.5195 - val_loss: 1.4159 - val_accuracy: 0.5977\n",
      "Epoch 4/15\n",
      "8/8 [==============================] - 0s 6ms/step - loss: 1.4353 - accuracy: 0.5254 - val_loss: 1.2305 - val_accuracy: 0.6230\n",
      "Epoch 5/15\n",
      "8/8 [==============================] - 0s 6ms/step - loss: 1.1956 - accuracy: 0.5703 - val_loss: 1.1906 - val_accuracy: 0.6309\n",
      "Epoch 00006: LearningRateScheduler reducing learning rate to 0.01 from 0.1.\n",
      "Epoch 6/15\n",
      "8/8 [==============================] - 0s 5ms/step - loss: 1.0025 - accuracy: 0.6191 - val_loss: 1.0433 - val_accuracy: 0.6562\n",
      "Epoch 7/15\n",
      "8/8 [==============================] - 0s 5ms/step - loss: 0.9112 - accuracy: 0.6152 - val_loss: 1.0215 - val_accuracy: 0.6660\n",
      "Epoch 8/15\n",
      "8/8 [==============================] - 0s 6ms/step - loss: 0.8953 - accuracy: 0.6348 - val_loss: 1.0118 - val_accuracy: 0.6621\n",
      "Epoch 9/15\n",
      "8/8 [==============================] - 0s 5ms/step - loss: 0.8289 - accuracy: 0.6621 - val_loss: 0.9435 - val_accuracy: 0.6914\n",
      "Epoch 10/15\n",
      "8/8 [==============================] - 0s 5ms/step - loss: 0.8428 - accuracy: 0.6582 - val_loss: 0.9793 - val_accuracy: 0.6562\n",
      "Epoch 00011: LearningRateScheduler reducing learning rate to 0.001 from 0.01.\n",
      "Epoch 11/15\n",
      "1/8 [==>...........................] - ETA: 0s - loss: 0.7512 - accuracy: 0.6250\n",
      "Epoch 00011: ReduceLROnPlateau reducing learning rate to 0.00010000000474974513.\n",
      "8/8 [==============================] - 0s 6ms/step - loss: 0.7880 - accuracy: 0.6641 - val_loss: 0.9627 - val_accuracy: 0.6738\n",
      "Epoch 00012: Still keep learning rate 0.0001 instead of 0.001\n",
      "Epoch 12/15\n",
      "8/8 [==============================] - 0s 6ms/step - loss: 0.7847 - accuracy: 0.6621 - val_loss: 0.9622 - val_accuracy: 0.6738\n",
      "Epoch 00013: Still keep learning rate 0.0001 instead of 0.001\n",
      "Epoch 13/15\n",
      "1/8 [==>...........................] - ETA: 0s - loss: 0.9637 - accuracy: 0.5312\n",
      "Epoch 00013: ReduceLROnPlateau reducing learning rate to 1.0000000474974514e-05.\n",
      "8/8 [==============================] - 0s 6ms/step - loss: 0.8136 - accuracy: 0.6562 - val_loss: 0.9608 - val_accuracy: 0.6738\n",
      "Epoch 00014: LearningRateScheduler reducing learning rate to 0.001 from 1e-05.\n",
      "Epoch 14/15\n",
      "8/8 [==============================] - 0s 5ms/step - loss: 0.7619 - accuracy: 0.6699 - val_loss: 0.9614 - val_accuracy: 0.6641\n",
      "Epoch 15/15\n",
      "1/8 [==>...........................] - ETA: 0s - loss: 0.6595 - accuracy: 0.6875\n",
      "Epoch 00015: ReduceLROnPlateau reducing learning rate to 0.00010000000474974513.\n",
      "8/8 [==============================] - 0s 6ms/step - loss: 0.7866 - accuracy: 0.6797 - val_loss: 0.9469 - val_accuracy: 0.6719\n"
     ]
    },
    {
     "data": {
      "text/plain": [
       "<tensorflow.python.keras.callbacks.History at 0x7fb8a47e9d30>"
      ]
     },
     "execution_count": 160,
     "metadata": {},
     "output_type": "execute_result"
    }
   ],
   "source": [
    "def lr_schedule(epoch, lr):\n",
    "    lr_times = [(0, 1.0), (5, 1e-1), (10, 1e-2)]\n",
    "    \n",
    "    base_lr = 1e-1\n",
    "    new_lr = base_lr\n",
    "    for border_epoch, times in lr_times:\n",
    "        if epoch>=border_epoch: \n",
    "            new_lr = base_lr*times\n",
    "    if abs(lr - new_lr)>1e-7:\n",
    "        # 如果lr比new_lr小，但是又大于0.1倍的new_lr，继续使用lr\n",
    "        if lr < new_lr and lr > 0.1*new_lr-(1e-7):\n",
    "            print('Epoch %05d: Still keep learning rate %s instead of %s' % \n",
    "                  (epoch + 1, round(lr, 7), round(new_lr, 7))) \n",
    "            return lr   \n",
    "        print('Epoch %05d: LearningRateScheduler reducing learning rate to %s from %s.' % \n",
    "              (epoch + 1, round(new_lr, 7), round(lr, 7)))\n",
    "    return new_lr\n",
    "\n",
    "learning_rate_scheduler = tf.keras.callbacks.LearningRateScheduler(lr_schedule, verbose=False)\n",
    "reduce_lr = tf.keras.callbacks.ReduceLROnPlateau(monitor='val_loss', factor=0.1, min_lr=1e-7, \n",
    "                                                 patience=2, verbose=True) \n",
    "    \n",
    "model = get_model()\n",
    "model.fit(\n",
    "    x_train,\n",
    "    y_train,\n",
    "    batch_size=64,\n",
    "    epochs=15,\n",
    "    validation_split=0.5,\n",
    "    callbacks=[reduce_lr, learning_rate_scheduler])"
   ]
  },
  {
   "cell_type": "code",
   "execution_count": null,
   "metadata": {},
   "outputs": [],
   "source": [
    "learning_rate_scheduler = tf.keras.callbacks.LearningRateScheduler(self.lr_schedule, verbose=False)"
   ]
  },
  {
   "cell_type": "code",
   "execution_count": null,
   "metadata": {},
   "outputs": [],
   "source": []
  }
 ],
 "metadata": {
  "kernelspec": {
   "display_name": "Python 3",
   "language": "python",
   "name": "python3"
  },
  "language_info": {
   "codemirror_mode": {
    "name": "ipython",
    "version": 3
   },
   "file_extension": ".py",
   "mimetype": "text/x-python",
   "name": "python",
   "nbconvert_exporter": "python",
   "pygments_lexer": "ipython3",
   "version": "3.6.9"
  },
  "toc": {
   "base_numbering": 1,
   "nav_menu": {},
   "number_sections": true,
   "sideBar": true,
   "skip_h1_title": false,
   "title_cell": "Table of Contents",
   "title_sidebar": "Contents",
   "toc_cell": false,
   "toc_position": {},
   "toc_section_display": true,
   "toc_window_display": false
  }
 },
 "nbformat": 4,
 "nbformat_minor": 4
}
