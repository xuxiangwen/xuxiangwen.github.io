{
 "cells": [
  {
   "cell_type": "markdown",
   "metadata": {},
   "source": [
    "---\n",
    "title: Callback\n",
    "categories: deep-learning\n",
    "date: 2020-11-09\n",
    "---\n",
    "\n",
    "本文将介绍Tensorflow中的Callback。它是一个非常有用的工具，用于自定义train，evaluate和predict中的行为。\n",
    "\n",
    "## Callback的方法\n",
    "\n",
    "实现Callback很简单，主要有两步：\n",
    "\n",
    "- 创建一个新的类，这个类继承`tf.keras.callbacks.Callback`。\n",
    "\n",
    "- 根据需求，重载`tf.keras.callbacks.Callback`中的如下方法。\n",
    "  - `on_(train|test|predict)_begin(self, logs=None)`\n",
    "  - `on_(train|test|predict)_end(self, logs=None)`\n",
    "  - `on_(train|test|predict)_batch_begin(self, batch, logs=None)`\n",
    "  - `on_(train|test|predict)_batch_end(self, batch, logs=None)`\n",
    "  - `on_epoch_begin(self, epoch, logs=None)`\n",
    "  - `on_epoch_end(self, epoch, logs=None)`\n",
    "\n",
    "  以上所有`begin`结尾方法，其logs是一个空的list。而end结尾的方法，其logs大多是有内容的，详见后文。\n",
    "\n",
    "完成了前两步准备后，在模型训练，评估或预测时，把Callback类传入，则上面的那些方法将会被调用。其调用的具体的规则如下。\n",
    "\n",
    "- `tf.keras.Model.fit()`\n",
    "\n",
    "  Callback中方法调用顺序的伪代码如下。\n",
    "\n",
    "  ~~~python\n",
    "  on_train_begin(self, logs=None)\n",
    "  for epoch in epoches:\n",
    "  \ton_epoch_begin(self, epoch, logs=None)\n",
    "      for batch in train_batches:\n",
    "          on_train_batch_begin(self, batch, logs=None)\n",
    "          on_train_batch_end(self, batch, logs=None) \t# logs.keys = [loss, ...]        \n",
    "      on_test_begin(self, logs=None)\n",
    "      for batch in test_batches:\n",
    "          on_test_batch_begin(self, batch, logs=None)\n",
    "          on_test_batch_end(self, batch, logs=None)\t # logs.keys = [loss, ...]\n",
    "      on_test_end(self, logs=None)\t# logs.keys = [loss, ...]    \n",
    "      on_epoch_end(self, epoch, logs=None)\t# logs.keys = [loss, val_loss, ...]\n",
    "  on_train_end(self, logs=None)\t# logs.keys = [loss, val_loss, ...]\n",
    "  ~~~\n",
    "\n",
    "- `tf.keras.Model.evaluate()`\n",
    "\n",
    "  Callback中方法调用顺序的伪代码如下。\n",
    "\n",
    "  ~~~python\n",
    "  on_test_begin(self, logs=None)\n",
    "  for batch in test_batches:\n",
    "  \ton_test_batch_begin(self, batch, logs=None)\t\t\t\n",
    "      on_test_batch_end(self, batch, logs=None)   \t# logs.keys = [loss, ...] \n",
    "  on_test_end(self, logs=None)\t# logs.keys = [loss, val_loss, ...]\n",
    "  ~~~\n",
    "\n",
    "- `tf.keras.Model.predict()`\n",
    "\n",
    "  Callback中方法调用顺序的伪代码如下。\n",
    "\n",
    "  ~~~python\n",
    "  on_predict_begin(self, logs=None)\n",
    "  for batch in test_batches:\n",
    "  \ton_predict_batch_begin(self, batch, logs=None)\t\n",
    "  \ton_predict_batch_end(self, batch, logs=None)\t# logs = [outputs, ...] \n",
    "  on_predict_end(self, logs=None)\n",
    "  ~~~\n",
    "\n",
    "## Callback实践\n",
    "\n",
    "### 调用顺序\n",
    "\n",
    "下面的代码展示了Callback中方法的调用顺序。首先创建模型和加载数据。"
   ]
  },
  {
   "cell_type": "code",
   "execution_count": 4,
   "metadata": {},
   "outputs": [],
   "source": [
    "import matplotlib.pyplot as plt\n",
    "import numpy as np\n",
    "import os\n",
    "import tensorflow as tf\n",
    "from tensorflow import keras\n",
    "\n",
    "gpus = tf.config.experimental.list_physical_devices(device_type='GPU')\n",
    "tf.config.experimental.set_virtual_device_configuration(\n",
    "    gpus[0],\n",
    "    [tf.config.experimental.VirtualDeviceConfiguration(memory_limit=1024)]\n",
    ")\n",
    "\n",
    "def get_model():\n",
    "    model = keras.models.Sequential()\n",
    "    model.add(keras.layers.Flatten(input_shape=(28, 28)))\n",
    "    model.add(keras.layers.Dense(128, activation='relu'))\n",
    "    model.add(keras.layers.Dropout(0.2))\n",
    "    model.add(keras.layers.Dense(10))    \n",
    "    model.compile(\n",
    "        optimizer=keras.optimizers.RMSprop(learning_rate=0.1),\n",
    "        loss=keras.losses.SparseCategoricalCrossentropy(from_logits=True),\n",
    "        metrics=[tf.metrics.SparseCategoricalAccuracy()],\n",
    "    )\n",
    "    return model\n",
    "\n",
    "def get_mnist():\n",
    "    (x_train, y_train), (x_test, y_test) = tf.keras.datasets.fashion_mnist.load_data()\n",
    "    x_train = x_train.astype(\"float32\") / 255.0\n",
    "    x_test = x_test.astype(\"float32\") / 255.0\n",
    "    return x_train, y_train, x_test, y_test\n"
   ]
  },
  {
   "cell_type": "markdown",
   "metadata": {},
   "source": [
    "然后自定义Callback类。"
   ]
  },
  {
   "cell_type": "code",
   "execution_count": 5,
   "metadata": {},
   "outputs": [],
   "source": [
    "class CustomCallback(keras.callbacks.Callback):\n",
    "    def on_train_begin(self, logs=None):\n",
    "        keys = list(logs.keys())\n",
    "        print(\"Starting training; got log keys: {}\".format(keys))\n",
    "\n",
    "    def on_train_end(self, logs=None):\n",
    "        keys = list(logs.keys())\n",
    "        print(\"Stop training; got log keys: {}\".format(keys))\n",
    "\n",
    "    def on_epoch_begin(self, epoch, logs=None):\n",
    "        keys = list(logs.keys())\n",
    "        print(\"Start epoch {} of training; got log keys: {}\".format(epoch, keys))\n",
    "\n",
    "    def on_epoch_end(self, epoch, logs=None):\n",
    "        keys = list(logs.keys())\n",
    "        print(\"End epoch {} of training; got log keys: {}\".format(epoch, keys))\n",
    "\n",
    "    def on_test_begin(self, logs=None):\n",
    "        keys = list(logs.keys())\n",
    "        print(\"Start testing; got log keys: {}\".format(keys))\n",
    "\n",
    "    def on_test_end(self, logs=None):\n",
    "        keys = list(logs.keys())\n",
    "        print(\"Stop testing; got log keys: {}\".format(keys))\n",
    "\n",
    "    def on_predict_begin(self, logs=None):\n",
    "        keys = list(logs.keys())\n",
    "        print(\"Start predicting; got log keys: {}\".format(keys))\n",
    "\n",
    "    def on_predict_end(self, logs=None):\n",
    "        keys = list(logs.keys())\n",
    "        print(\"Stop predicting; got log keys: {}\".format(keys))\n",
    "\n",
    "    def on_train_batch_begin(self, batch, logs=None):\n",
    "        keys = list(logs.keys())\n",
    "        print(\"    Training: start of batch {}; got log keys: {}\".format(batch, keys))\n",
    "\n",
    "    def on_train_batch_end(self, batch, logs=None):\n",
    "        keys = list(logs.keys())\n",
    "        print(\"    Training: end of batch {}; got log keys: {}\".format(batch, keys))\n",
    "\n",
    "    def on_test_batch_begin(self, batch, logs=None):\n",
    "        keys = list(logs.keys())\n",
    "        print(\"    Evaluating: start of batch {}; got log keys: {}\".format(batch, keys))\n",
    "\n",
    "    def on_test_batch_end(self, batch, logs=None):\n",
    "        keys = list(logs.keys())\n",
    "        print(\"    Evaluating: end of batch {}; got log keys: {}\".format(batch, keys))\n",
    "\n",
    "    def on_predict_batch_begin(self, batch, logs=None):\n",
    "        keys = list(logs.keys())\n",
    "        print(\"    Predicting: start of batch {}; got log keys: {}\".format(batch, keys))\n",
    "\n",
    "    def on_predict_batch_end(self, batch, logs=None):\n",
    "        keys = list(logs.keys())\n",
    "        print(\"    Predicting: end of batch {}; got log keys: {}\".format(batch, keys))\n"
   ]
  },
  {
   "cell_type": "markdown",
   "metadata": {},
   "source": [
    "下面来进行模型训练，评估和预测。"
   ]
  },
  {
   "cell_type": "code",
   "execution_count": 6,
   "metadata": {},
   "outputs": [
    {
     "name": "stdout",
     "output_type": "stream",
     "text": [
      "Starting training; got log keys: []\n",
      "Start epoch 0 of training; got log keys: []\n",
      "    Training: start of batch 0; got log keys: []\n",
      "    Training: end of batch 0; got log keys: ['loss', 'sparse_categorical_accuracy']\n",
      "    Training: start of batch 1; got log keys: []\n",
      "    Training: end of batch 1; got log keys: ['loss', 'sparse_categorical_accuracy']\n",
      "Start testing; got log keys: []\n",
      "    Evaluating: start of batch 0; got log keys: []\n",
      "    Evaluating: end of batch 0; got log keys: ['loss', 'sparse_categorical_accuracy']\n",
      "    Evaluating: start of batch 1; got log keys: []\n",
      "    Evaluating: end of batch 1; got log keys: ['loss', 'sparse_categorical_accuracy']\n",
      "Stop testing; got log keys: ['loss', 'sparse_categorical_accuracy']\n",
      "End epoch 0 of training; got log keys: ['loss', 'sparse_categorical_accuracy', 'val_loss', 'val_sparse_categorical_accuracy']\n",
      "Stop training; got log keys: ['loss', 'sparse_categorical_accuracy', 'val_loss', 'val_sparse_categorical_accuracy']\n",
      "----------------------------------------------------------------------------------------------------\n",
      "Start testing; got log keys: []\n",
      "    Evaluating: start of batch 0; got log keys: []\n",
      "    Evaluating: end of batch 0; got log keys: ['loss', 'sparse_categorical_accuracy']\n",
      "    Evaluating: start of batch 1; got log keys: []\n",
      "    Evaluating: end of batch 1; got log keys: ['loss', 'sparse_categorical_accuracy']\n",
      "Stop testing; got log keys: ['loss', 'sparse_categorical_accuracy']\n",
      "----------------------------------------------------------------------------------------------------\n",
      "Start predicting; got log keys: []\n",
      "    Predicting: start of batch 0; got log keys: []\n",
      "    Predicting: end of batch 0; got log keys: ['outputs']\n",
      "    Predicting: start of batch 1; got log keys: []\n",
      "    Predicting: end of batch 1; got log keys: ['outputs']\n",
      "Stop predicting; got log keys: []\n"
     ]
    }
   ],
   "source": [
    "x_train, y_train, x_test, y_test = get_mnist()\n",
    "x_train = x_train[:1024]\n",
    "y_train = y_train[:1024]\n",
    "x_test = x_test[:512]\n",
    "y_test = y_test[:512]\n",
    "\n",
    "model = get_model()\n",
    "model.fit(\n",
    "    x_train,\n",
    "    y_train,\n",
    "    batch_size=256,\n",
    "    epochs=1,\n",
    "    verbose=0,\n",
    "    validation_split=0.5,\n",
    "    callbacks=[CustomCallback()],\n",
    ")\n",
    "\n",
    "print('-'*100)\n",
    "res = model.evaluate(\n",
    "    x_test, y_test, batch_size=256, verbose=0, callbacks=[CustomCallback()]\n",
    ")\n",
    "\n",
    "print('-'*100)\n",
    "res = model.predict(x_test, batch_size=256, callbacks=[CustomCallback()])"
   ]
  },
  {
   "cell_type": "markdown",
   "metadata": {},
   "source": [
    "![image-20201108175730619](images/image-20201108175730619.png)\n",
    "\n",
    "### Early Stopping\n",
    "\n",
    "在模型训练时，为了减少过拟合，往往会采用Early Stopping的技术。它会比较某一个metrics（最常用的是`val_loss`）是否在持续在降低，如果连续几个epochs都没有降低，将会中止训练，而且往往会把参数恢复到之前metrics最低时候的参数。\n",
    "\n",
    "下面自定义的类实现了Early Stopping的逻辑。下面代码中，当设置`self.model.stop_training = True`后，训练将会退出。"
   ]
  },
  {
   "cell_type": "code",
   "execution_count": 7,
   "metadata": {},
   "outputs": [
    {
     "name": "stdout",
     "output_type": "stream",
     "text": [
      "Restoring model weights from the end of the best epoch 12.\n",
      "Epoch 00017: early stopping\n"
     ]
    }
   ],
   "source": [
    "class MyEarlyStopping(keras.callbacks.Callback):\n",
    "    \"\"\"Stop training when the loss is at its min, i.e. the loss stops decreasing.\n",
    "\n",
    "  Arguments:\n",
    "      patience: Number of epochs to wait after min has been hit. After this\n",
    "      number of no improvement, training stops.\n",
    "  \"\"\"\n",
    "\n",
    "    def __init__(self, patience=0):\n",
    "        super(MyEarlyStopping, self).__init__()\n",
    "        self.patience = patience\n",
    "        self.best_weights = None\n",
    "        self.best_epoch = -1\n",
    "\n",
    "    def on_train_begin(self, logs=None):\n",
    "        self.wait = 0\n",
    "        self.stopped_epoch = 0\n",
    "        self.best = np.Inf\n",
    "\n",
    "    def on_epoch_end(self, epoch, logs=None):\n",
    "        current = logs.get(\"val_loss\")\n",
    "        if np.less(current, self.best):\n",
    "            self.best = current\n",
    "            self.best_epoch = epoch\n",
    "            self.wait = 0\n",
    "            self.best_weights = self.model.get_weights()\n",
    "        else:\n",
    "            self.wait += 1\n",
    "            if self.wait >= self.patience:\n",
    "                self.stopped_epoch = epoch\n",
    "                self.model.stop_training = True\n",
    "                print(\"Restoring model weights from the end of the best epoch {}.\".format(self.best_epoch+1))\n",
    "                self.model.set_weights(self.best_weights)\n",
    "\n",
    "    def on_train_end(self, logs=None):\n",
    "        if self.stopped_epoch > 0:\n",
    "            print(\"Epoch %05d: early stopping\" % (self.stopped_epoch + 1))\n",
    "            \n",
    "model = get_model()\n",
    "history = model.fit(\n",
    "    x_train,\n",
    "    y_train,\n",
    "    batch_size=256,\n",
    "    epochs=30,\n",
    "    verbose=0,\n",
    "    validation_split=0.5,\n",
    "    callbacks=[MyEarlyStopping(patience=5)],    \n",
    ")"
   ]
  },
  {
   "cell_type": "markdown",
   "metadata": {},
   "source": [
    "![image-20201109022827577](images/image-20201109022827577.png)\n",
    "\n",
    "下面来显示训练过程中的val_loss趋势。"
   ]
  },
  {
   "cell_type": "code",
   "execution_count": 8,
   "metadata": {},
   "outputs": [
    {
     "data": {
      "image/png": "[encoded data removed]",
      "text/plain": [
       "<Figure size 576x288 with 1 Axes>"
      ]
     },
     "metadata": {
      "needs_background": "light"
     },
     "output_type": "display_data"
    }
   ],
   "source": [
    "def plot_history(history, metrics_name='accuracy'):\n",
    "    plt.figure(figsize=(8, 4))\n",
    "    # 忽略前面几个epoch\n",
    "    start_epoch = 5    \n",
    "    metrics = history.history[metrics_name][start_epoch-1:]\n",
    "    val_metrics = history.history['val_' + metrics_name][start_epoch-1:]\n",
    "    epochs = [start_epoch + i for i in range(len(metrics))]\n",
    "    lowest = np.argmin(val_metrics)\n",
    "    \n",
    "    plt.plot(epochs, metrics, label=metrics_name)\n",
    "    plt.plot(epochs, val_metrics, label = 'val_' + metrics_name)\n",
    "    plt.plot(lowest+start_epoch, val_metrics[lowest], 'ro')\n",
    "    plt.xlabel('epoch')\n",
    "    plt.ylabel(metrics_name)\n",
    "    plt.xticks(epochs)\n",
    "    plt.legend(loc='upper right')\n",
    "    plt.show()\n",
    "\n",
    "plot_history(history, metrics_name='loss')"
   ]
  },
  {
   "cell_type": "markdown",
   "metadata": {},
   "source": [
    "![image-20201109023043836](images/image-20201109023043836.png)\n",
    "\n",
    "上图中第15 epoch，val_loss获得最低的值，接下来五轮epoch，val_loss无法获得更低的值，所以训练退出。\n",
    "\n",
    "TensorFlow在tf.keras.callbacks.EarlyStopping类中也实现的Early Stopping功能，其逻辑和上面的实现基本相同。"
   ]
  },
  {
   "cell_type": "code",
   "execution_count": 9,
   "metadata": {
    "attributes": {
     "classes": [
      "py"
     ],
     "id": ""
    }
   },
   "outputs": [
    {
     "data": {
      "text/plain": [
       "<tensorflow.python.keras.callbacks.EarlyStopping at 0x7f19dc270748>"
      ]
     },
     "execution_count": 9,
     "metadata": {},
     "output_type": "execute_result"
    }
   ],
   "source": [
    "tf.keras.callbacks.EarlyStopping(\n",
    "    monitor='val_loss', \n",
    "    min_delta=0, \n",
    "    patience=0, \n",
    "    verbose=0, \n",
    "    mode='auto',\n",
    "    baseline=None, \n",
    "    restore_best_weights=False\n",
    ")"
   ]
  },
  {
   "cell_type": "markdown",
   "metadata": {},
   "source": [
    "如果调用`keras.callbacks.EarlyStopping`，效果完全一样。"
   ]
  },
  {
   "cell_type": "code",
   "execution_count": 10,
   "metadata": {},
   "outputs": [
    {
     "data": {
      "image/png": "[encoded data removed]",
      "text/plain": [
       "<Figure size 576x288 with 1 Axes>"
      ]
     },
     "metadata": {
      "needs_background": "light"
     },
     "output_type": "display_data"
    },
    {
     "data": {
      "text/plain": [
       "<function print>"
      ]
     },
     "execution_count": 10,
     "metadata": {},
     "output_type": "execute_result"
    }
   ],
   "source": [
    "model = get_model()\n",
    "history = model.fit(\n",
    "    x_train,\n",
    "    y_train,\n",
    "    batch_size=256,\n",
    "    epochs=30,\n",
    "    verbose=0,\n",
    "    validation_split=0.5,\n",
    "    callbacks=[keras.callbacks.EarlyStopping(monitor='val_loss', patience=5)],    \n",
    ")\n",
    "plot_history(history, metrics_name='loss')\n",
    "print"
   ]
  },
  {
   "cell_type": "code",
   "execution_count": 11,
   "metadata": {},
   "outputs": [
    {
     "name": "stdout",
     "output_type": "stream",
     "text": [
      "Epoch 1/5\n",
      "1/8 [==>...........................] - ETA: 0s - loss: 2.7903 - sparse_categorical_accuracy: 0.0781\n",
      "Epoch 00001: saving model to ./checkpoints/weights.01\n",
      "8/8 [==============================] - 0s 23ms/step - loss: 179.1061 - sparse_categorical_accuracy: 0.2148 - val_loss: 4.2788 - val_sparse_categorical_accuracy: 0.3535\n",
      "Epoch 2/5\n",
      "1/8 [==>...........................] - ETA: 0s - loss: 5.2831 - sparse_categorical_accuracy: 0.2812\n",
      "Epoch 00002: saving model to ./checkpoints/weights.02\n",
      "8/8 [==============================] - 0s 27ms/step - loss: 3.0167 - sparse_categorical_accuracy: 0.3438 - val_loss: 1.7733 - val_sparse_categorical_accuracy: 0.4707\n",
      "Epoch 3/5\n",
      "1/8 [==>...........................] - ETA: 0s - loss: 1.5715 - sparse_categorical_accuracy: 0.4219\n",
      "Epoch 00003: saving model to ./checkpoints/weights.03\n",
      "8/8 [==============================] - 0s 7ms/step - loss: 1.5895 - sparse_categorical_accuracy: 0.4453 - val_loss: 1.5995 - val_sparse_categorical_accuracy: 0.5234\n",
      "Epoch 4/5\n",
      "1/8 [==>...........................] - ETA: 0s - loss: 1.6437 - sparse_categorical_accuracy: 0.4688\n",
      "Epoch 00004: saving model to ./checkpoints/weights.04\n",
      "8/8 [==============================] - 0s 7ms/step - loss: 1.6116 - sparse_categorical_accuracy: 0.4297 - val_loss: 1.5798 - val_sparse_categorical_accuracy: 0.4258\n",
      "Epoch 5/5\n",
      "1/8 [==>...........................] - ETA: 0s - loss: 1.5304 - sparse_categorical_accuracy: 0.3750\n",
      "Epoch 00005: saving model to ./checkpoints/weights.05\n",
      "8/8 [==============================] - 0s 8ms/step - loss: 1.7200 - sparse_categorical_accuracy: 0.4180 - val_loss: 1.6092 - val_sparse_categorical_accuracy: 0.4570\n",
      "['weights.01.data-00000-of-00001', 'weights.01.index', 'checkpoint', 'weights.02.data-00000-of-00001', 'weights.02.index', 'weights.03.data-00000-of-00001', 'weights.03.index', 'weights.04.data-00000-of-00001', 'weights.04.index', 'weights.05.data-00000-of-00001', 'weights.05.index']\n"
     ]
    }
   ],
   "source": [
    "import shutil\n",
    "\n",
    "checkpoint_dir = \"./checkpoints\"\n",
    "if os.path.exists(checkpoint_dir):\n",
    "    shutil.rmtree(checkpoint_dir)\n",
    "os.makedirs(checkpoint_dir)\n",
    "\n",
    "checkpoint_path = os.path.join(checkpoint_dir, \"weights.{epoch:02d}\")\n",
    "\n",
    "cp_callback = tf.keras.callbacks.ModelCheckpoint(filepath=checkpoint_path,\n",
    "                                                 save_weights_only=True,\n",
    "                                                 verbose=1)\n",
    "model = get_model()\n",
    "model.fit(\n",
    "    x_train,\n",
    "    y_train,\n",
    "    batch_size=64,\n",
    "    epochs=5,\n",
    "    validation_split=0.5,\n",
    "    callbacks=[cp_callback])\n",
    "\n",
    "print(os.listdir(checkpoint_dir))"
   ]
  },
  {
   "cell_type": "code",
   "execution_count": 12,
   "metadata": {},
   "outputs": [
    {
     "data": {
      "text/plain": [
       "['weights.01.data-00000-of-00001',\n",
       " 'weights.01.index',\n",
       " 'checkpoint',\n",
       " 'weights.02.data-00000-of-00001',\n",
       " 'weights.02.index',\n",
       " 'weights.03.data-00000-of-00001',\n",
       " 'weights.03.index',\n",
       " 'weights.04.data-00000-of-00001',\n",
       " 'weights.04.index',\n",
       " 'weights.05.data-00000-of-00001',\n",
       " 'weights.05.index']"
      ]
     },
     "execution_count": 12,
     "metadata": {},
     "output_type": "execute_result"
    }
   ],
   "source": [
    "os.listdir(checkpoint_dir)"
   ]
  },
  {
   "cell_type": "markdown",
   "metadata": {},
   "source": [
    "![image-20201109024441079](images/image-20201109024441079.png)\n",
    "\n",
    "## 参考\n",
    "\n",
    "- [Writing your own callbacks](https://www.tensorflow.org/guide/keras/custom_callback)\n",
    "- [Additional callbacks](https://nbviewer.jupyter.org/github/xuxiangwen/xuxiangwen.github.io/blob/master/_notes/05-ai/54-tensorflow/tutorial/additional_callbacks.ipynb)"
   ]
  },
  {
   "cell_type": "code",
   "execution_count": 13,
   "metadata": {},
   "outputs": [
    {
     "name": "stdout",
     "output_type": "stream",
     "text": [
      "test loss is 2.388, test accuracy is 0.051\n",
      "test loss is 2.509, test accuracy is 0.125\n"
     ]
    }
   ],
   "source": [
    "model = get_model()\n",
    "loss, accuracy = model.evaluate(x_test, y_test, batch_size=256, verbose=0)\n",
    "print('test loss is {:.3f}, test accuracy is {:.3f}'.format(loss, accuracy))\n",
    "\n",
    "model.load_weights(os.path.join(checkpoint_dir, os.listdir(checkpoint_dir)[-1]))\n",
    "loss, accuracy = model.evaluate(x_test, y_test, batch_size=256, verbose=0)\n",
    "print('test loss is {:.3f}, test accuracy is {:.3f}'.format(loss, accuracy))"
   ]
  },
  {
   "cell_type": "code",
   "execution_count": 11,
   "metadata": {},
   "outputs": [
    {
     "name": "stdout",
     "output_type": "stream",
     "text": [
      "total 412\n",
      "-rw-r--r--. 1 root root 421408 Nov 12 05:11 weights.h5\n",
      "--------------------------------------------------\n",
      "[2.5088930130004883, 0.125]\n"
     ]
    }
   ],
   "source": [
    "# 保存参数\n",
    "checkpoint_dir = \"./checkpoints/h5_weights\"\n",
    "checkpoint_path = os.path.join(checkpoint_dir, \"weights.h5\")\n",
    "if not os.path.exists(checkpoint_dir):  os.makedirs(checkpoint_dir)\n",
    "model.save_weights(checkpoint_path)\n",
    "! ls -l {checkpoint_dir}\n",
    "\n",
    "# 加载参数\n",
    "print('-'*50)\n",
    "model = get_model() \n",
    "model.load_weights(checkpoint_path)\n",
    "result = model.evaluate(x_test, y_test, batch_size=256, verbose=0)\n",
    "print(result)"
   ]
  },
  {
   "cell_type": "code",
   "execution_count": null,
   "metadata": {},
   "outputs": [],
   "source": [
    "checkpoint_dir = \"./checkpoints/tf\"\n",
    "if not os.path.exists(checkpoint_dir):  os.makedirs(checkpoint_dir)\n",
    "model.save_weights(os.path.join(checkpoint_dir, \"weights\"))\n",
    "! ls -l {checkpoint_dir}\n",
    "\n",
    "model = get_model()\n",
    "model.load_weights(os.path.join(checkpoint_dir, \"weights.h5\"))\n",
    "loss, accuracy = model.evaluate(x_test, y_test, batch_size=256, verbose=0)\n",
    "print('test loss is {:.3f}, test accuracy is {:.3f}'.format(loss, accuracy))"
   ]
  },
  {
   "cell_type": "code",
   "execution_count": 34,
   "metadata": {},
   "outputs": [
    {
     "name": "stdout",
     "output_type": "stream",
     "text": [
      "total 820\r\n",
      "-rw-r--r--. 1 root root 839176 Nov 12 05:02 weights.h5\r\n"
     ]
    }
   ],
   "source": [
    "checkpoint_dir = \"./checkpoints/h5\"\n",
    "if not os.path.exists(checkpoint_dir):  os.makedirs(checkpoint_dir)\n",
    "model.save(os.path.join(checkpoint_dir, \"weights.h5\"))\n",
    "! ls -l {checkpoint_dir}\n",
    "\n",
    "model.load_weights(\"./checkpoints/h5/weights.h5\")\n",
    "loss, accuracy = model.evaluate(x_test, y_test, batch_size=256, verbose=0)\n",
    "print('test loss is {:.3f}, test accuracy is {:.3f}'.format(loss, accuracy))\n",
    "\n",
    "model.load_weights(\"./checkpoints_tf/model_weights\")"
   ]
  },
  {
   "cell_type": "code",
   "execution_count": null,
   "metadata": {},
   "outputs": [],
   "source": []
  },
  {
   "cell_type": "code",
   "execution_count": 1,
   "metadata": {},
   "outputs": [
    {
     "name": "stdout",
     "output_type": "stream",
     "text": [
      "-------------------------Before Training-------------------------\n",
      "loss is 2.422, accuracy is 0.055\n",
      "-------------------------After Training-------------------------\n",
      "loss is 0.967, accuracy is 0.670\n"
     ]
    }
   ],
   "source": [
    "import os\n",
    "import tensorflow as tf\n",
    "from tensorflow import keras\n",
    "\n",
    "gpus = tf.config.experimental.list_physical_devices(device_type='GPU')\n",
    "tf.config.experimental.set_virtual_device_configuration(\n",
    "  gpus[0],\n",
    "  [tf.config.experimental.VirtualDeviceConfiguration(memory_limit=1024)]\n",
    ")\n",
    "\n",
    "def get_model():\n",
    "    model = keras.models.Sequential()\n",
    "    model.add(keras.layers.Flatten(input_shape=(28, 28)))\n",
    "    model.add(keras.layers.Dense(128, activation='relu'))\n",
    "    model.add(keras.layers.Dropout(0.2))\n",
    "    model.add(keras.layers.Dense(10))    \n",
    "    model.compile(\n",
    "      optimizer=keras.optimizers.RMSprop(learning_rate=0.1),\n",
    "      loss=keras.losses.SparseCategoricalCrossentropy(from_logits=True),\n",
    "      metrics=[\"accuracy\"],\n",
    "    )\n",
    "    return model\n",
    "\n",
    "def get_mnist():\n",
    "    (x_train, y_train), (x_test, y_test) = tf.keras.datasets.fashion_mnist.load_data()\n",
    "    x_train = x_train.astype(\"float32\") / 255.0\n",
    "    x_test = x_test.astype(\"float32\") / 255.0\n",
    "    x_train = x_train[:1024]\n",
    "    y_train = y_train[:1024]\n",
    "    x_test = x_test[:512]\n",
    "    y_test = y_test[:512]    \n",
    "    return x_train, y_train, x_test, y_test\n",
    "\n",
    "def evaulate(model, x, y):\n",
    "    loss, accuracy = model.evaluate(x, y, batch_size=256, verbose=0)\n",
    "    print('loss is {:.3f}, accuracy is {:.3f}'.format(loss, accuracy))\n",
    "\n",
    "x_train, y_train, x_test, y_test = get_mnist()\n",
    "\n",
    "model = get_model()\n",
    "print('-'*25 + 'Before Training' + '-'*25)\n",
    "evaulate(model, x_test, y_test)\n",
    "\n",
    "model.fit(\n",
    "    x_train,\n",
    "    y_train,\n",
    "    batch_size=256,\n",
    "    epochs=10,\n",
    "    verbose=False,\n",
    "    validation_split=0.5,\n",
    ")\n",
    "\n",
    "print('-'*25 + 'After Training' + '-'*25)\n",
    "evaulate(model, x_test, y_test)"
   ]
  },
  {
   "cell_type": "code",
   "execution_count": 2,
   "metadata": {},
   "outputs": [
    {
     "name": "stdout",
     "output_type": "stream",
     "text": [
      "total 412\n",
      "-rw-r--r--. 1 root root 421408 Nov 13 02:48 weights.h5\n",
      "--------------------------------------------------\n",
      "loss is 1.497, accuracy is 0.457\n"
     ]
    }
   ],
   "source": [
    "# 保存参数\n",
    "checkpoint_dir = \"./checkpoints/h5_weights\"\n",
    "checkpoint_path = os.path.join(checkpoint_dir, \"weights.h5\")\n",
    "if not os.path.exists(checkpoint_dir):  os.makedirs(checkpoint_dir)\n",
    "model.save_weights(checkpoint_path)\n",
    "! ls -l {checkpoint_dir}\n",
    "\n",
    "# 加载参数\n",
    "print('-'*50)\n",
    "model = get_model() \n",
    "model.load_weights(os.path.join(checkpoint_path))\n",
    "evaulate(model, x_test, y_test)"
   ]
  },
  {
   "cell_type": "code",
   "execution_count": 6,
   "metadata": {},
   "outputs": [
    {
     "name": "stdout",
     "output_type": "stream",
     "text": [
      "total 408\n",
      "-rw-r--r--. 1 root root     71 Nov 12 16:03 checkpoint\n",
      "-rw-r--r--. 1 root root 407621 Nov 12 16:03 weights.data-00000-of-00001\n",
      "-rw-r--r--. 1 root root    401 Nov 12 16:03 weights.index\n",
      "--------------------------------------------------\n",
      "WARNING:tensorflow:5 out of the last 11 calls to <function Model.make_test_function.<locals>.test_function at 0x7fe2dac358c8> triggered tf.function retracing. Tracing is expensive and the excessive number of tracings could be due to (1) creating @tf.function repeatedly in a loop, (2) passing tensors with different shapes, (3) passing Python objects instead of tensors. For (1), please define your @tf.function outside of the loop. For (2), @tf.function has experimental_relax_shapes=True option that relaxes argument shapes that can avoid unnecessary retracing. For (3), please refer to https://www.tensorflow.org/tutorials/customization/performance#python_or_tensor_args and https://www.tensorflow.org/api_docs/python/tf/function for  more details.\n",
      "loss is 0.928, accuracy is 0.689\n"
     ]
    }
   ],
   "source": [
    "# 保存参数\n",
    "checkpoint_dir = \"./checkpoints/tf_weights\"\n",
    "checkpoint_path = os.path.join(checkpoint_dir, \"weights\")\n",
    "if not os.path.exists(checkpoint_dir):  os.makedirs(checkpoint_dir)\n",
    "model.save_weights(checkpoint_path)\n",
    "! ls -l {checkpoint_dir}\n",
    "\n",
    "# 加载参数\n",
    "print('-'*50)\n",
    "model = get_model()  # 创建模型\n",
    "model.load_weights(checkpoint_path)\n",
    "evaulate(model, x_test, y_test)"
   ]
  },
  {
   "cell_type": "code",
   "execution_count": 7,
   "metadata": {},
   "outputs": [
    {
     "name": "stdout",
     "output_type": "stream",
     "text": [
      "total 416\n",
      "-rw-r--r--. 1 root root 422800 Nov 12 16:03 weights.h5\n",
      "loss is 0.928, accuracy is 0.689\n",
      "--------------------------------------------------\n",
      "WARNING:tensorflow:5 out of the last 13 calls to <function Model.make_test_function.<locals>.test_function at 0x7fe2dabb90d0> triggered tf.function retracing. Tracing is expensive and the excessive number of tracings could be due to (1) creating @tf.function repeatedly in a loop, (2) passing tensors with different shapes, (3) passing Python objects instead of tensors. For (1), please define your @tf.function outside of the loop. For (2), @tf.function has experimental_relax_shapes=True option that relaxes argument shapes that can avoid unnecessary retracing. For (3), please refer to https://www.tensorflow.org/tutorials/customization/performance#python_or_tensor_args and https://www.tensorflow.org/api_docs/python/tf/function for  more details.\n",
      "loss is 0.928, accuracy is 0.092\n"
     ]
    }
   ],
   "source": [
    "\n",
    "# 保存参数\n",
    "checkpoint_dir = \"./checkpoints/h5_model\"\n",
    "checkpoint_path = os.path.join(checkpoint_dir, \"weights.h5\")\n",
    "if not os.path.exists(checkpoint_dir):  os.makedirs(checkpoint_dir)\n",
    "model.save(checkpoint_path)\n",
    "! ls -l {checkpoint_dir}\n",
    "evaulate(model, x_test, y_test)\n",
    "\n",
    "# 加载参数\n",
    "print('-'*50) \n",
    "model = tf.keras.models.load_model(checkpoint_path)\n",
    "evaulate(model, x_test, y_test)"
   ]
  },
  {
   "cell_type": "code",
   "execution_count": 3,
   "metadata": {},
   "outputs": [
    {
     "name": "stdout",
     "output_type": "stream",
     "text": [
      "INFO:tensorflow:Assets written to: ./checkpoints/tf_model/weights/assets\n",
      "loss is 0.967, accuracy is 0.109\n",
      "total 0\n",
      "drwxr-xr-x. 4 root root 59 Nov 13 02:50 weights\n",
      "--------------------------------------------------\n",
      "loss is 0.967, accuracy is 0.109\n"
     ]
    }
   ],
   "source": [
    "# 保存参数\n",
    "checkpoint_dir = \"./checkpoints/tf_model\"\n",
    "checkpoint_path = os.path.join(checkpoint_dir, \"weights\")\n",
    "if not os.path.exists(checkpoint_dir):  os.makedirs(checkpoint_dir)\n",
    "model.save(checkpoint_path)\n",
    "evaulate(model, x_test, y_test)\n",
    "! ls -l {checkpoint_dir}\n",
    "\n",
    "# 加载参数\n",
    "print('-'*50)\n",
    "model = get_model()  # 创建模型\n",
    "model = tf.keras.models.load_model(checkpoint_path)\n",
    "evaulate(model, x_test, y_test)"
   ]
  },
  {
   "cell_type": "code",
   "execution_count": null,
   "metadata": {},
   "outputs": [],
   "source": []
  },
  {
   "cell_type": "code",
   "execution_count": 3,
   "metadata": {},
   "outputs": [
    {
     "name": "stdout",
     "output_type": "stream",
     "text": [
      "{'layers': [{'class_name': 'InputLayer',\n",
      "             'config': {'batch_input_shape': (None, 32),\n",
      "                        'dtype': 'float32',\n",
      "                        'name': 'input_3',\n",
      "                        'ragged': False,\n",
      "                        'sparse': False}},\n",
      "            {'class_name': 'Dense',\n",
      "             'config': {'activation': 'linear',\n",
      "                        'activity_regularizer': None,\n",
      "                        'bias_constraint': None,\n",
      "                        'bias_initializer': {'class_name': 'Zeros',\n",
      "                                             'config': {}},\n",
      "                        'bias_regularizer': None,\n",
      "                        'dtype': 'float32',\n",
      "                        'kernel_constraint': None,\n",
      "                        'kernel_initializer': {'class_name': 'GlorotUniform',\n",
      "                                               'config': {'seed': None}},\n",
      "                        'kernel_regularizer': None,\n",
      "                        'name': 'dense_2',\n",
      "                        'trainable': True,\n",
      "                        'units': 1,\n",
      "                        'use_bias': True}}],\n",
      " 'name': 'sequential_1'}\n",
      "Same config: True\n"
     ]
    }
   ],
   "source": [
    "import json\n",
    "from tensorflow import keras\n",
    "from pprint import pprint\n",
    "\n",
    "seq_model = keras.Sequential([keras.Input((32,)), keras.layers.Dense(1)])\n",
    "config = seq_model.get_config()\n",
    "pprint(config)\n",
    "\n",
    "new_model = keras.Sequential.from_config(config)\n",
    "print('Same config:', seq_model.get_config() == new_model.get_config())"
   ]
  },
  {
   "cell_type": "code",
   "execution_count": 4,
   "metadata": {},
   "outputs": [
    {
     "name": "stdout",
     "output_type": "stream",
     "text": [
      "{'input_layers': [['input_4', 0, 0]],\n",
      " 'layers': [{'class_name': 'InputLayer',\n",
      "             'config': {'batch_input_shape': (None, 32),\n",
      "                        'dtype': 'float32',\n",
      "                        'name': 'input_4',\n",
      "                        'ragged': False,\n",
      "                        'sparse': False},\n",
      "             'inbound_nodes': [],\n",
      "             'name': 'input_4'},\n",
      "            {'class_name': 'Dense',\n",
      "             'config': {'activation': 'linear',\n",
      "                        'activity_regularizer': None,\n",
      "                        'bias_constraint': None,\n",
      "                        'bias_initializer': {'class_name': 'Zeros',\n",
      "                                             'config': {}},\n",
      "                        'bias_regularizer': None,\n",
      "                        'dtype': 'float32',\n",
      "                        'kernel_constraint': None,\n",
      "                        'kernel_initializer': {'class_name': 'GlorotUniform',\n",
      "                                               'config': {'seed': None}},\n",
      "                        'kernel_regularizer': None,\n",
      "                        'name': 'dense_3',\n",
      "                        'trainable': True,\n",
      "                        'units': 1,\n",
      "                        'use_bias': True},\n",
      "             'inbound_nodes': [[['input_4', 0, 0, {}]]],\n",
      "             'name': 'dense_3'}],\n",
      " 'name': 'functional_3',\n",
      " 'output_layers': [['dense_3', 0, 0]]}\n",
      "Same config: True\n"
     ]
    }
   ],
   "source": [
    "inputs = keras.Input((32,))\n",
    "outputs = keras.layers.Dense(1)(inputs)\n",
    "fun_model = keras.Model(inputs, outputs)\n",
    "config = fun_model.get_config()\n",
    "pprint(config)\n",
    "\n",
    "model_same_config = keras.Model.from_config(config)\n",
    "print('Same config:', fun_model.get_config() == model_same_config.get_config())"
   ]
  },
  {
   "cell_type": "code",
   "execution_count": 23,
   "metadata": {},
   "outputs": [
    {
     "name": "stdout",
     "output_type": "stream",
     "text": [
      "Same config: True\n"
     ]
    }
   ],
   "source": []
  },
  {
   "cell_type": "code",
   "execution_count": 21,
   "metadata": {},
   "outputs": [],
   "source": [
    "json_string = model.to_json()\n",
    "with open('config.json', 'w') as f:\n",
    "    json.dump(json_string, f)\n",
    "\n",
    "del json_string\n",
    "with open('config.json', 'r') as f:\n",
    "    json_string = json.load(f)\n",
    "    \n",
    "del model_same_config    \n",
    "model_same_config = tf.keras.models.model_from_json(json_string)\n",
    "\n",
    "print('Same config:', model.get_config() == model_same_config.get_config())"
   ]
  },
  {
   "cell_type": "code",
   "execution_count": 7,
   "metadata": {},
   "outputs": [
    {
     "name": "stdout",
     "output_type": "stream",
     "text": [
      "Same config: True\n"
     ]
    }
   ],
   "source": [
    "import json\n",
    "\n",
    "json_file = 'seq_config.json'\n",
    "model = seq_model\n",
    "\n",
    "json_string = model.to_json()\n",
    "with open(json_file, 'w') as f:\n",
    "    json.dump(json_string, f)\n",
    "\n",
    "with open(json_file, 'r') as f:\n",
    "    json_string = json.load(f)\n",
    "    \n",
    "new_model = keras.models.model_from_json(json_string)\n",
    "print('Same config:', model.get_config() == new_model.get_config())"
   ]
  },
  {
   "cell_type": "code",
   "execution_count": 10,
   "metadata": {},
   "outputs": [
    {
     "name": "stdout",
     "output_type": "stream",
     "text": [
      "Same config: True\n",
      "Same config: True\n"
     ]
    }
   ],
   "source": [
    "import json\n",
    "\n",
    "def save_load_checking(json_file, model):\n",
    "    json_string = model.to_json()\n",
    "    with open(json_file, 'w') as f:\n",
    "        json.dump(json_string, f)\n",
    "\n",
    "    with open(json_file, 'r') as f:\n",
    "        json_string = json.load(f)\n",
    "\n",
    "    new_model = keras.models.model_from_json(json_string)\n",
    "    print('Same config:', model.get_config() == new_model.get_config())\n",
    "    \n",
    "    \n",
    "save_load_checking('seq_config.json', seq_model)\n",
    "save_load_checking('fun_config.json', fun_model)"
   ]
  },
  {
   "cell_type": "code",
   "execution_count": null,
   "metadata": {},
   "outputs": [],
   "source": []
  }
 ],
 "metadata": {
  "kernelspec": {
   "display_name": "Python 3",
   "language": "python",
   "name": "python3"
  },
  "language_info": {
   "codemirror_mode": {
    "name": "ipython",
    "version": 3
   },
   "file_extension": ".py",
   "mimetype": "text/x-python",
   "name": "python",
   "nbconvert_exporter": "python",
   "pygments_lexer": "ipython3",
   "version": "3.6.9"
  }
 },
 "nbformat": 4,
 "nbformat_minor": 4
}
