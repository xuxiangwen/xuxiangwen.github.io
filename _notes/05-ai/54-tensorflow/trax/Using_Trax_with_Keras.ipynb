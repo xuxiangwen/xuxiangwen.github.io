{
 "cells": [
  {
   "cell_type": "markdown",
   "metadata": {
    "id": "7yuytuIllsv1"
   },
   "source": [
    "# Using Trax with TensorFlow NumPy and Keras\n",
    "\n",
    "This notebook ([run it in colab](https://colab.research.google.com/github/google/trax/blob/master/trax/tf_numpy_and_keras.ipynb)) shows how you can run [Trax](https://trax-ml.readthedocs.io/en/latest/) directly with [TensorFlow NumPy](https://www.tensorflow.org/api_docs/python/tf/experimental/numpy). You will also see how to use Trax layers and models inside [Keras](https://keras.io/) so you can use Trax in production, e.g., with [TensorFlow.js](https://www.tensorflow.org/js/) or [TensorFlow Serving](https://www.tensorflow.org/tfx/guide/serving).\n",
    "\n",
    "  1. **Trax with TensorFlow NumPy**: use Trax with [TensorFlow NumPy](https://www.tensorflow.org/api_docs/python/tf/experimental/numpy) without any code changes\n",
    "  1. **Convert Trax to Keras**: how to get a [Keras](https://keras.io/) layer for your Trax model and use it\n",
    "  1. **Exporting Trax Models for Deployment**: how to export Trax models to [TensorFlow SavedModel](https://www.tensorflow.org/guide/saved_model)\n",
    "  \n"
   ]
  },
  {
   "cell_type": "markdown",
   "metadata": {
    "id": "-LQ89rFFsEdk"
   },
   "source": [
    "## 1. Trax with TensorFlow NumPy\n",
    "\n",
    "In Trax, all computations rely on accelerated math operations happening in the `fastmath` module. This module can use different backends for acceleration. One of them is [TensorFlow NumPy](https://www.tensorflow.org/api_docs/python/tf/experimental/numpy) which uses [TensorFlow 2](https://www.tensorflow.org/) to accelerate the computations.\n",
    "\n",
    "The backend can be set using a call to `trax.fastmath.set_backend` as you'll see below. Currently available backends are `jax` (default), `tensorflow-numpy` and `numpy` (for debugging). The `tensorflow-numpy` backend uses [TensorFlow Numpy](https://www.tensorflow.org/api_docs/python/tf/experimental/numpy) for executing `fastmath` functions on TensorFlow, while the `jax` backend calls [JAX](https://github.com/google/jax) which lowers to TensorFlow XLA.\n",
    "\n",
    "You may see that `tensorflow-numpy` and `jax` backends show different speed and memory characteristics. You may also see different error messages when debugging since it might expose you to the internals of the backends. However for the most part, users can choose a backend and not worry about the internal details of these backends.\n",
    "\n",
    "Let's train the sentiment analysis model from the [Trax intro](https://colab.research.google.com/github/google/trax/blob/master/trax/intro.ipynb) using TensorFlow NumPy to see how it works."
   ]
  },
  {
   "cell_type": "markdown",
   "metadata": {
    "id": "BIl27504La0G"
   },
   "source": [
    "**General Setup**\n",
    "\n",
    "Execute the following few cells (once) before running any of the code samples."
   ]
  },
  {
   "cell_type": "code",
   "execution_count": null,
   "metadata": {
    "cellView": "form",
    "id": "oILRLCWN_16u"
   },
   "outputs": [],
   "source": [
    "#@title\n",
    "# Copyright 2020 Google LLC.\n",
    "\n",
    "# Licensed under the Apache License, Version 2.0 (the \"License\");\n",
    "# you may not use this file except in compliance with the License.\n",
    "# You may obtain a copy of the License at\n",
    "\n",
    "# https://www.apache.org/licenses/LICENSE-2.0\n",
    "\n",
    "# Unless required by applicable law or agreed to in writing, software\n",
    "# distributed under the License is distributed on an \"AS IS\" BASIS,\n",
    "# WITHOUT WARRANTIES OR CONDITIONS OF ANY KIND, either express or implied.\n",
    "# See the License for the specific language governing permissions and\n",
    "# limitations under the License.\n",
    "\n",
    "\n"
   ]
  },
  {
   "cell_type": "code",
   "execution_count": 1,
   "metadata": {
    "ExecuteTime": {
     "end_time": "2021-06-04T01:02:34.418250Z",
     "start_time": "2021-06-04T01:01:40.609648Z"
    },
    "cellView": "both",
    "id": "vlGjGoGMTt-D",
    "outputId": "279a980e-1e71-4080-9587-d89aeb17ebc6"
   },
   "outputs": [],
   "source": [
    "# Install and import Trax\n",
    "# !pip install -q -U git+https://github.com/google/trax@master\n",
    "\n",
    "import os\n",
    "import numpy as np\n",
    "import trax"
   ]
  },
  {
   "cell_type": "markdown",
   "metadata": {
    "id": "O_3JcfZaT5oP"
   },
   "source": [
    "Here is how you can set the fastmath backend to `tensorflow-numpy` and verify that it's been set."
   ]
  },
  {
   "cell_type": "code",
   "execution_count": 2,
   "metadata": {
    "ExecuteTime": {
     "end_time": "2021-06-04T01:02:34.424273Z",
     "start_time": "2021-06-04T01:02:34.420704Z"
    },
    "id": "djTiSLcaNFGa",
    "outputId": "bac38e28-d1e5-41bd-9054-d85913fc2900"
   },
   "outputs": [
    {
     "name": "stdout",
     "output_type": "stream",
     "text": [
      "tensorflow-numpy\n"
     ]
    }
   ],
   "source": [
    "# Use the tensorflow-numpy backend.\n",
    "trax.fastmath.set_backend('tensorflow-numpy')\n",
    "print(trax.fastmath.backend_name())"
   ]
  },
  {
   "cell_type": "code",
   "execution_count": 3,
   "metadata": {
    "ExecuteTime": {
     "end_time": "2021-06-04T01:02:38.318233Z",
     "start_time": "2021-06-04T01:02:34.426614Z"
    },
    "id": "AV5wrgjZ10yU",
    "outputId": "6385fbe2-5a8e-415c-8851-b5bef099e02f"
   },
   "outputs": [
    {
     "name": "stderr",
     "output_type": "stream",
     "text": [
      "/usr/local/lib/python3.6/dist-packages/jax/lib/xla_bridge.py:304: UserWarning: jax.host_id has been renamed to jax.process_index. This alias will eventually be removed; please update your code.\n",
      "  \"jax.host_id has been renamed to jax.process_index. This alias \"\n",
      "WARNING:absl:No GPU/TPU found, falling back to CPU. (Set TF_CPP_MIN_LOG_LEVEL=0 and rerun for more info.)\n",
      "/usr/local/lib/python3.6/dist-packages/jax/lib/xla_bridge.py:317: UserWarning: jax.host_count has been renamed to jax.process_count. This alias will eventually be removed; please update your code.\n",
      "  \"jax.host_count has been renamed to jax.process_count. This alias \"\n"
     ]
    },
    {
     "name": "stdout",
     "output_type": "stream",
     "text": [
      "batch shapes = [(8, 2048), (8,), (8,)]\n"
     ]
    }
   ],
   "source": [
    "# Create data streams.\n",
    "train_stream = trax.data.TFDS('imdb_reviews', keys=('text', 'label'), train=True)()\n",
    "eval_stream = trax.data.TFDS('imdb_reviews', keys=('text', 'label'), train=False)()\n",
    "\n",
    "data_pipeline = trax.data.Serial(\n",
    "    trax.data.Tokenize(vocab_file='en_8k.subword', keys=[0]),\n",
    "    trax.data.Shuffle(),\n",
    "    trax.data.FilterByLength(max_length=2048, length_keys=[0]),\n",
    "    trax.data.BucketByLength(boundaries=[  32, 128, 512, 2048],\n",
    "                             batch_sizes=[512, 128,  32,    8, 1],\n",
    "                             length_keys=[0]),\n",
    "    trax.data.AddLossWeights()\n",
    "  )\n",
    "train_batches_stream = data_pipeline(train_stream)\n",
    "eval_batches_stream = data_pipeline(eval_stream)\n",
    "\n",
    "# Print example shapes.\n",
    "example_batch = next(train_batches_stream)\n",
    "print(f'batch shapes = {[x.shape for x in example_batch]}')"
   ]
  },
  {
   "cell_type": "code",
   "execution_count": 4,
   "metadata": {
    "ExecuteTime": {
     "end_time": "2021-06-04T01:02:38.325578Z",
     "start_time": "2021-06-04T01:02:38.320585Z"
    },
    "id": "WoSz5plIyXOU",
    "outputId": "aa1db911-96fb-430b-8360-1a6e3f764cee"
   },
   "outputs": [
    {
     "name": "stdout",
     "output_type": "stream",
     "text": [
      "Serial[\n",
      "  Embedding_8192_256\n",
      "  Mean\n",
      "  Dense_2\n",
      "]\n"
     ]
    }
   ],
   "source": [
    "# Create the model.\n",
    "from trax import layers as tl\n",
    "\n",
    "model = tl.Serial(\n",
    "    tl.Embedding(vocab_size=8192, d_feature=256),\n",
    "    tl.Mean(axis=1),  # Average on axis 1 (length of sentence).\n",
    "    tl.Dense(2),      # Classify 2 classes.\n",
    ")\n",
    "\n",
    "# You can print model structure.\n",
    "print(model)"
   ]
  },
  {
   "cell_type": "code",
   "execution_count": 5,
   "metadata": {
    "ExecuteTime": {
     "end_time": "2021-06-04T01:04:37.989624Z",
     "start_time": "2021-06-04T01:02:38.328020Z"
    },
    "id": "d6bIKUO-3Cw8",
    "outputId": "ba4199f4-cc31-459e-b46c-d14ec2f4ef68"
   },
   "outputs": [
    {
     "name": "stdout",
     "output_type": "stream",
     "text": [
      "WARNING:tensorflow:From /usr/local/lib/python3.6/dist-packages/trax/tf_numpy/extensions/extensions.py:336: calling function (from tensorflow.python.eager.def_function) with experimental_compile is deprecated and will be removed in a future version.\n",
      "Instructions for updating:\n",
      "experimental_compile is deprecated, use jit_compile instead\n"
     ]
    },
    {
     "name": "stderr",
     "output_type": "stream",
     "text": [
      "WARNING:tensorflow:From /usr/local/lib/python3.6/dist-packages/trax/tf_numpy/extensions/extensions.py:336: calling function (from tensorflow.python.eager.def_function) with experimental_compile is deprecated and will be removed in a future version.\n",
      "Instructions for updating:\n",
      "experimental_compile is deprecated, use jit_compile instead\n"
     ]
    },
    {
     "name": "stdout",
     "output_type": "stream",
     "text": [
      "\n",
      "Step   2500: Ran 500 train steps in 30.78 secs\n",
      "Step   2500: train WeightedCategoryCrossEntropy |  0.25669774\n",
      "Step   2500: eval  WeightedCategoryCrossEntropy |  0.39717945\n",
      "Step   2500: eval      WeightedCategoryAccuracy |  0.85312500\n",
      "\n",
      "Step   3000: Ran 500 train steps in 27.79 secs\n",
      "Step   3000: train WeightedCategoryCrossEntropy |  0.27776551\n",
      "Step   3000: eval  WeightedCategoryCrossEntropy |  0.40949240\n",
      "Step   3000: eval      WeightedCategoryAccuracy |  0.85625000\n",
      "\n",
      "Step   3500: Ran 500 train steps in 27.54 secs\n",
      "Step   3500: train WeightedCategoryCrossEntropy |  0.28098157\n",
      "Step   3500: eval  WeightedCategoryCrossEntropy |  0.50752029\n",
      "Step   3500: eval      WeightedCategoryAccuracy |  0.80312500\n",
      "\n",
      "Step   4000: Ran 500 train steps in 27.49 secs\n",
      "Step   4000: train WeightedCategoryCrossEntropy |  0.23231760\n",
      "Step   4000: eval  WeightedCategoryCrossEntropy |  0.37754647\n",
      "Step   4000: eval      WeightedCategoryAccuracy |  0.89062500\n"
     ]
    }
   ],
   "source": [
    "# Train the model.\n",
    "from trax.supervised import training\n",
    "\n",
    "# Training task.\n",
    "train_task = training.TrainTask(\n",
    "    labeled_data=train_batches_stream,\n",
    "    loss_layer=tl.WeightedCategoryCrossEntropy(),\n",
    "    optimizer=trax.optimizers.Adam(0.01),\n",
    "    n_steps_per_checkpoint=500,\n",
    ")\n",
    "\n",
    "# Evaluaton task.\n",
    "eval_task = training.EvalTask(\n",
    "    labeled_data=eval_batches_stream,\n",
    "    metrics=[tl.WeightedCategoryCrossEntropy(), tl.WeightedCategoryAccuracy()],\n",
    "    n_eval_batches=20  # For less variance in eval numbers.\n",
    ")\n",
    "\n",
    "# Training loop saves checkpoints to output_dir.\n",
    "output_dir = os.path.expanduser('~/output_dir/')\n",
    "training_loop = training.Loop(model,\n",
    "                              train_task,\n",
    "                              eval_tasks=[eval_task],\n",
    "                              output_dir=output_dir)\n",
    "\n",
    "# Run 2000 steps (batches).\n",
    "training_loop.run(2000)"
   ]
  },
  {
   "cell_type": "code",
   "execution_count": 6,
   "metadata": {
    "ExecuteTime": {
     "end_time": "2021-06-04T01:04:39.758609Z",
     "start_time": "2021-06-04T01:04:37.991751Z"
    },
    "id": "yuPu37Lp7GST",
    "outputId": "b95f944d-b5e8-44c6-829c-25c0b0b08f38"
   },
   "outputs": [
    {
     "name": "stdout",
     "output_type": "stream",
     "text": [
      "example input_str: The movie started very well..so far Isabelle's exorcism could be believed....but later, gosh!!! I didn't know if it was a horror movie, a drama one or a Must Not See one! The possessed creature attacking the sheriff had no connection at all with the movie....the make up!! well it looked pretty real at beginning, but at the end, last part of movie, the make up (especially teeth and eyes) was very exaggerated. If you want a good \"EXorcism\" movie watch \"The Exorcism of Emily Rose\".<br /><br />Together with \"Hard Candy\" (Totally boring, pathetic plot and ending), these two movies are the worst I've seen from Lionsgate!! But well the movie company has given horror movie fans excellent films, but with this one, you will wish you never rent it!! Exorcism movie fans, just stay with two \"The Exorcist\" and \"Emily Rose's Exorcism\"<pad><pad><pad><pad><pad><pad><pad><pad><pad><pad><pad><pad><pad><pad><pad><pad><pad><pad><pad><pad><pad><pad><pad><pad><pad><pad><pad><pad><pad><pad><pad><pad><pad><pad><pad><pad><pad><pad><pad><pad><pad><pad><pad><pad><pad><pad><pad><pad><pad><pad><pad><pad><pad><pad><pad><pad><pad><pad><pad><pad><pad><pad><pad><pad><pad><pad><pad><pad><pad><pad><pad><pad><pad><pad><pad><pad><pad><pad><pad><pad><pad><pad><pad><pad><pad><pad><pad><pad><pad><pad><pad><pad><pad><pad><pad><pad><pad><pad><pad><pad><pad><pad><pad><pad><pad><pad><pad><pad><pad><pad><pad><pad><pad><pad><pad><pad><pad><pad><pad><pad><pad><pad><pad><pad><pad><pad><pad><pad><pad><pad><pad><pad><pad><pad><pad><pad><pad><pad><pad><pad><pad><pad><pad><pad><pad><pad><pad><pad><pad><pad><pad><pad><pad><pad><pad><pad><pad><pad><pad><pad><pad><pad><pad><pad><pad><pad><pad><pad><pad><pad><pad><pad><pad><pad><pad><pad><pad><pad><pad><pad><pad><pad><pad><pad><pad><pad><pad><pad><pad><pad><pad><pad><pad><pad><pad><pad><pad><pad><pad><pad><pad><pad><pad><pad><pad><pad><pad><pad><pad><pad><pad><pad><pad><pad><pad><pad><pad><pad><pad><pad><pad>\n",
      "Model returned sentiment activations: [[-0.36613145  0.36048293]]\n"
     ]
    }
   ],
   "source": [
    "# Run on an example.\n",
    "example_input = next(eval_batches_stream)[0][0]\n",
    "example_input_str = trax.data.detokenize(example_input, vocab_file='en_8k.subword')\n",
    "print(f'example input_str: {example_input_str}')\n",
    "sentiment_activations = model(example_input[None, :])  # Add batch dimension.\n",
    "print(f'Model returned sentiment activations: {np.asarray(sentiment_activations)}')"
   ]
  },
  {
   "cell_type": "markdown",
   "metadata": {
    "id": "8wgfJyhdihfR"
   },
   "source": [
    "## 2. Convert Trax to Keras\n",
    "\n",
    "Thanks to [TensorFlow NumPy](https://www.tensorflow.org/api_docs/python/tf/experimental/numpy) you can convert the model you just trained into a [Keras](https://keras.io/) layer using `trax.AsKeras`. This allows you to:\n",
    "\n",
    "* use Trax layers inside Keras models\n",
    "* run Trax models with existing Keras input pipelines\n",
    "* export Trax models to [TensorFlow SavedModel](https://www.tensorflow.org/guide/saved_model)\n",
    "\n",
    "When creating  a Keras layer from a Trax one, the Keras layer weights will get initialized to the ones the Trax layer had at the moment of creation. In this way, you can create Keras layers from pre-trained Trax models and save them as SavedModel as shown below."
   ]
  },
  {
   "cell_type": "code",
   "execution_count": 7,
   "metadata": {
    "ExecuteTime": {
     "end_time": "2021-06-04T01:08:58.045288Z",
     "start_time": "2021-06-04T01:08:58.009206Z"
    },
    "id": "bxSLRyjftuxH",
    "outputId": "6ec7180b-ff85-47e4-bba2-3634df913ad4"
   },
   "outputs": [
    {
     "name": "stdout",
     "output_type": "stream",
     "text": [
      "<trax.trax2keras.AsKeras object at 0x7f5a1442fbe0>\n",
      "Keras returned sentiment activations: [[-0.36613145  0.36048293]]\n"
     ]
    }
   ],
   "source": [
    "# Convert the model into a Keras layer, use the weights from model.\n",
    "keras_layer = trax.AsKeras(model)\n",
    "print(keras_layer)\n",
    "\n",
    "# Run the Keras layer to verify it returns the same result.\n",
    "sentiment_activations = keras_layer(example_input[None, :])\n",
    "print(f'Keras returned sentiment activations: {np.asarray(sentiment_activations)}')"
   ]
  },
  {
   "cell_type": "code",
   "execution_count": 8,
   "metadata": {
    "ExecuteTime": {
     "end_time": "2021-06-04T01:09:46.867215Z",
     "start_time": "2021-06-04T01:09:41.936369Z"
    },
    "id": "r8C-FoFGxGE1",
    "outputId": "0edfd1fa-2677-494a-f03f-2cc87324e88c",
    "scrolled": true
   },
   "outputs": [
    {
     "name": "stdout",
     "output_type": "stream",
     "text": [
      "WARNING:tensorflow:AutoGraph could not transform <bound method AssertShape.forward of > and will run it as-is.\n",
      "Please report this to the TensorFlow team. When filing the bug, set the verbosity to 10 (on Linux, `export AUTOGRAPH_VERBOSITY=10`) and attach the full output.\n",
      "Cause: \n",
      "To silence this warning, decorate the function with @tf.autograph.experimental.do_not_convert\n"
     ]
    },
    {
     "name": "stderr",
     "output_type": "stream",
     "text": [
      "WARNING:tensorflow:AutoGraph could not transform <bound method AssertShape.forward of > and will run it as-is.\n",
      "Please report this to the TensorFlow team. When filing the bug, set the verbosity to 10 (on Linux, `export AUTOGRAPH_VERBOSITY=10`) and attach the full output.\n",
      "Cause: \n",
      "To silence this warning, decorate the function with @tf.autograph.experimental.do_not_convert\n"
     ]
    },
    {
     "name": "stdout",
     "output_type": "stream",
     "text": [
      "WARNING: AutoGraph could not transform <bound method AssertShape.forward of > and will run it as-is.\n",
      "Please report this to the TensorFlow team. When filing the bug, set the verbosity to 10 (on Linux, `export AUTOGRAPH_VERBOSITY=10`) and attach the full output.\n",
      "Cause: \n",
      "To silence this warning, decorate the function with @tf.autograph.experimental.do_not_convert\n",
      "<tensorflow.python.keras.engine.functional.Functional object at 0x7f5a1709fe10>\n",
      "Keras returned sentiment activations: [[-0.36613145  0.36048293]]\n"
     ]
    }
   ],
   "source": [
    "import tensorflow as tf\n",
    "\n",
    "# Create a full Keras  model using the layer from Trax.\n",
    "inputs = tf.keras.Input(shape=(None,), dtype='int32')\n",
    "hidden = keras_layer(inputs) \n",
    "# You can add other Keras layers here operating on hidden.\n",
    "outputs = hidden\n",
    "keras_model = tf.keras.Model(inputs=inputs, outputs=outputs)\n",
    "print(keras_model)\n",
    "\n",
    "# Run the Keras model to verify it returns the same result.\n",
    "sentiment_activations = keras_model(example_input[None, :])\n",
    "print(f'Keras returned sentiment activations: {np.asarray(sentiment_activations)}')"
   ]
  },
  {
   "cell_type": "markdown",
   "metadata": {
    "id": "EQH1bvXwy5fE"
   },
   "source": [
    "## 3. Exporting Trax Models for Deployment\n",
    "\n",
    "You can export the Keras model to disk as [TensorFlow SavedModel](https://www.tensorflow.org/guide/saved_model). It's as simple as calling `keras_model.save` and allows you to use models with TF tools [TensorFlow.js](https://www.tensorflow.org/js/), [TensorFlow Serving](https://www.tensorflow.org/tfx/guide/serving) and [TensorFlow Lite](https://www.tensorflow.org/lite)."
   ]
  },
  {
   "cell_type": "code",
   "execution_count": 9,
   "metadata": {
    "ExecuteTime": {
     "end_time": "2021-06-04T01:10:59.524864Z",
     "start_time": "2021-06-04T01:10:57.666666Z"
    },
    "id": "nQIJrOUgxRfK",
    "outputId": "62c028a5-da9e-40b1-d223-aa5f45b6a2aa"
   },
   "outputs": [
    {
     "name": "stdout",
     "output_type": "stream",
     "text": [
      "WARNING:tensorflow:Compiled the loaded model, but the compiled metrics have yet to be built. `model.compile_metrics` will be empty until you train or evaluate the model.\n"
     ]
    },
    {
     "name": "stderr",
     "output_type": "stream",
     "text": [
      "WARNING:tensorflow:Compiled the loaded model, but the compiled metrics have yet to be built. `model.compile_metrics` will be empty until you train or evaluate the model.\n"
     ]
    },
    {
     "name": "stdout",
     "output_type": "stream",
     "text": [
      "INFO:tensorflow:Assets written to: /root/output_dir/model_checkpoint/assets\n"
     ]
    },
    {
     "name": "stderr",
     "output_type": "stream",
     "text": [
      "INFO:tensorflow:Assets written to: /root/output_dir/model_checkpoint/assets\n"
     ]
    },
    {
     "name": "stdout",
     "output_type": "stream",
     "text": [
      "WARNING:tensorflow:No training configuration found in save file, so the model was *not* compiled. Compile it manually.\n"
     ]
    },
    {
     "name": "stderr",
     "output_type": "stream",
     "text": [
      "WARNING:tensorflow:No training configuration found in save file, so the model was *not* compiled. Compile it manually.\n"
     ]
    },
    {
     "name": "stdout",
     "output_type": "stream",
     "text": [
      "Keras returned sentiment activations: [[-0.36613145  0.36048293]]\n"
     ]
    }
   ],
   "source": [
    "# Save the Keras model to output_dir.\n",
    "model_file = os.path.join(output_dir, \"model_checkpoint\")\n",
    "keras_model.save(model_file)\n",
    "\n",
    "# Load the model from SavedModel.\n",
    "loaded_model = tf.keras.models.load_model(model_file)\n",
    "\n",
    "# Run the loaded model to verify it returns the same result.\n",
    "sentiment_activations = loaded_model(example_input[None, :])\n",
    "print(f'Keras returned sentiment activations: {np.asarray(sentiment_activations)}')"
   ]
  },
  {
   "cell_type": "code",
   "execution_count": null,
   "metadata": {},
   "outputs": [],
   "source": []
  }
 ],
 "metadata": {
  "accelerator": "GPU",
  "colab": {
   "collapsed_sections": [],
   "name": "Using Trax with Keras",
   "provenance": []
  },
  "kernelspec": {
   "display_name": "Python 3",
   "language": "python",
   "name": "python3"
  },
  "language_info": {
   "codemirror_mode": {
    "name": "ipython",
    "version": 3
   },
   "file_extension": ".py",
   "mimetype": "text/x-python",
   "name": "python",
   "nbconvert_exporter": "python",
   "pygments_lexer": "ipython3",
   "version": "3.6.9"
  },
  "toc": {
   "base_numbering": 1,
   "nav_menu": {},
   "number_sections": true,
   "sideBar": true,
   "skip_h1_title": false,
   "title_cell": "Table of Contents",
   "title_sidebar": "Contents",
   "toc_cell": false,
   "toc_position": {},
   "toc_section_display": true,
   "toc_window_display": false
  }
 },
 "nbformat": 4,
 "nbformat_minor": 1
}
