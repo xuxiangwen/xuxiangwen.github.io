{
 "cells": [
  {
   "cell_type": "markdown",
   "metadata": {},
   "source": [
    "本文将详细描述模型保存过程的使用。\n",
    "\n",
    "## 保存参数\n",
    "有两种格式：\n",
    "\n",
    "- [HDF5](https://zhuanlan.zhihu.com/p/104145585)格式：保存成一个文件\n",
    "- TensorFlow格式\n",
    "\n",
    "### HDF5格式\n",
    "\n",
    " 首先训练模型。\n",
    "\n",
    "\n",
    "![image-20201112175426582](images/image-20201112175426582.png)\n",
    "\n",
    "然后保存模型参数，然后加载回来。"
   ]
  },
  {
   "cell_type": "code",
   "execution_count": 1,
   "metadata": {},
   "outputs": [
    {
     "name": "stdout",
     "output_type": "stream",
     "text": [
      "-------------------------Before Training-------------------------\n",
      "loss is 2.492, accuracy is 0.012\n",
      "-------------------------After Training-------------------------\n",
      "loss is 0.797, accuracy is 0.723\n"
     ]
    }
   ],
   "source": [
    "import os\n",
    "import tensorflow as tf\n",
    "from tensorflow import keras\n",
    "\n",
    "gpus = tf.config.experimental.list_physical_devices(device_type='GPU')\n",
    "tf.config.experimental.set_memory_growth(device=gpus[0], enable=True)\n",
    "tf.config.experimental.set_virtual_device_configuration(\n",
    "  gpus[0],\n",
    "  [tf.config.experimental.VirtualDeviceConfiguration(memory_limit=1024)]\n",
    ")\n",
    "\n",
    "def get_model():\n",
    "    model = keras.models.Sequential()\n",
    "    model.add(keras.layers.Flatten(input_shape=(28, 28)))\n",
    "    model.add(keras.layers.Dense(128, activation='relu'))\n",
    "    model.add(keras.layers.Dropout(0.2))\n",
    "    model.add(keras.layers.Dense(10))    \n",
    "    model.compile(\n",
    "      optimizer='adam',\n",
    "      loss=keras.losses.SparseCategoricalCrossentropy(from_logits=True),\n",
    "      metrics=[tf.metrics.SparseCategoricalAccuracy()],\n",
    "      # metrics=['accuracy'], 当采用这种方式时，load_model时，accuracy计算错误。\n",
    "    )\n",
    "    return model\n",
    "\n",
    "def get_mnist():\n",
    "    (x_train, y_train), (x_test, y_test) = tf.keras.datasets.fashion_mnist.load_data()\n",
    "    x_train = x_train.astype(\"float32\") / 255.0\n",
    "    x_test = x_test.astype(\"float32\") / 255.0\n",
    "    x_train = x_train[:1024]\n",
    "    y_train = y_train[:1024]\n",
    "    x_test = x_test[:512]\n",
    "    y_test = y_test[:512]    \n",
    "    return x_train, y_train, x_test, y_test\n",
    "\n",
    "def evaulate(model, x, y):\n",
    "    loss, accuracy = model.evaluate(x, y, batch_size=256, verbose=0)\n",
    "    print('loss is {:.3f}, accuracy is {:.3f}'.format(loss, accuracy))\n",
    "\n",
    "x_train, y_train, x_test, y_test = get_mnist()\n",
    "\n",
    "model = get_model()\n",
    "print('-'*25 + 'Before Training' + '-'*25)\n",
    "evaulate(model, x_test, y_test)\n",
    "\n",
    "model.fit(\n",
    "    x_train,\n",
    "    y_train,\n",
    "    batch_size=256,\n",
    "    epochs=10,\n",
    "    verbose=False,\n",
    "    validation_split=0.5,\n",
    ")\n",
    "\n",
    "print('-'*25 + 'After Training' + '-'*25)\n",
    "evaulate(model, x_test, y_test)"
   ]
  },
  {
   "cell_type": "code",
   "execution_count": 2,
   "metadata": {},
   "outputs": [
    {
     "name": "stdout",
     "output_type": "stream",
     "text": [
      "total 412\n",
      "-rw-r--r--. 1 root root 421408 Nov 16 10:14 weights.h5\n",
      "--------------------------------------------------\n",
      "loss is 0.797, accuracy is 0.723\n"
     ]
    }
   ],
   "source": [
    "# 保存参数\n",
    "checkpoint_dir = \"./checkpoints/h5_weights\"\n",
    "checkpoint_path = os.path.join(checkpoint_dir, \"weights.h5\")\n",
    "if not os.path.exists(checkpoint_dir):  os.makedirs(checkpoint_dir)\n",
    "model.save_weights(checkpoint_path)\n",
    "! ls -l {checkpoint_dir}\n",
    "\n",
    "# 加载参数\n",
    "print('-'*50)\n",
    "model = get_model() \n",
    "model.load_weights(checkpoint_path)\n",
    "evaulate(model, x_test, y_test)"
   ]
  },
  {
   "cell_type": "markdown",
   "metadata": {},
   "source": [
    "![image-20201112175611860](images/image-20201112175611860.png)\n",
    "\n",
    "### SavedModel格式\n",
    "\n",
    "同样也是保存模型参数，然后加载回来。"
   ]
  },
  {
   "cell_type": "code",
   "execution_count": 51,
   "metadata": {},
   "outputs": [
    {
     "name": "stdout",
     "output_type": "stream",
     "text": [
      "total 408\n",
      "-rw-r--r--. 1 root root     71 Nov 16 09:35 checkpoint\n",
      "-rw-r--r--. 1 root root 407625 Nov 16 09:35 weights.data-00000-of-00001\n",
      "-rw-r--r--. 1 root root    401 Nov 16 09:35 weights.index\n",
      "--------------------------------------------------\n",
      "loss is 0.805, accuracy is 0.725\n"
     ]
    }
   ],
   "source": [
    "# 保存参数\n",
    "checkpoint_dir = \"./checkpoints/tf_weights\"\n",
    "checkpoint_path = os.path.join(checkpoint_dir, \"weights\")\n",
    "if not os.path.exists(checkpoint_dir):  os.makedirs(checkpoint_dir)\n",
    "model.save_weights(checkpoint_path)\n",
    "! ls -l {checkpoint_dir}\n",
    "\n",
    "# 加载参数\n",
    "print('-'*50)\n",
    "model = get_model()  # 创建模型\n",
    "model.load_weights(checkpoint_path)\n",
    "evaulate(model, x_test, y_test)"
   ]
  },
  {
   "cell_type": "markdown",
   "metadata": {},
   "source": [
    "![image-20201112175705517](images/image-20201112175705517.png)\n",
    "\n",
    "上面的代码生成了三个文件：\n",
    "\n",
    "- checkpoint：模型保存的路径。其内容如下。\n",
    "\n",
    "  ~~~~shell\n",
    "  model_checkpoint_path: \"weights\"\n",
    "  all_model_checkpoint_paths: \"weights\"\n",
    "  ~~~~\n",
    "\n",
    "- weights.index：参数的索引文件。如果在分布式情况下，参数可能会从不同的分区（shards）得到。\n",
    "\n",
    "- weights.data-00000-of-00001：参数文件。如果有多个分区，将会有多个文件。\n",
    "\n",
    "## 保存整个模型\n",
    "\n",
    "总体思路保存参数基本相同。也有两种格式：\n",
    "\n",
    "- [HDF5](https://zhuanlan.zhihu.com/p/104145585)格式：保存成一个文件\n",
    "- TensorFlow格式\n",
    "\n",
    "### HDF5格式"
   ]
  },
  {
   "cell_type": "code",
   "execution_count": 41,
   "metadata": {},
   "outputs": [
    {
     "name": "stdout",
     "output_type": "stream",
     "text": [
      "ls: cannot access './checkpoints/h5_model': No such file or directory\r\n"
     ]
    }
   ],
   "source": [
    "! rm -rf  ./checkpoints/h5_model\n",
    "! ls -lh ./checkpoints/h5_model"
   ]
  },
  {
   "cell_type": "code",
   "execution_count": 52,
   "metadata": {},
   "outputs": [
    {
     "name": "stdout",
     "output_type": "stream",
     "text": [
      "total 416\n",
      "-rw-r--r--. 1 root root 422808 Nov 16 09:36 weights.h5\n",
      "loss is 0.805, accuracy is 0.725\n",
      "--------------------------------------------------\n",
      "loss is 0.805, accuracy is 0.725\n"
     ]
    }
   ],
   "source": [
    "# 保存参数\n",
    "checkpoint_dir = \"./checkpoints/h5_model\"\n",
    "checkpoint_path = os.path.join(checkpoint_dir, \"weights.h5\")\n",
    "if not os.path.exists(checkpoint_dir):  os.makedirs(checkpoint_dir)\n",
    "model.save(checkpoint_path)\n",
    "! ls -l {checkpoint_dir}\n",
    "evaulate(model, x_test, y_test)\n",
    "\n",
    "# 加载参数\n",
    "print('-'*50) \n",
    "model = tf.keras.models.load_model(checkpoint_path)\n",
    "evaulate(model, x_test, y_test)"
   ]
  },
  {
   "cell_type": "code",
   "execution_count": 43,
   "metadata": {},
   "outputs": [
    {
     "name": "stdout",
     "output_type": "stream",
     "text": [
      "-rw-r--r--. 1 root root 422808 Nov 16 08:54 ./checkpoints/h5_model/weights.h5\r\n"
     ]
    }
   ],
   "source": [
    "! ls -l {checkpoint_path}"
   ]
  },
  {
   "cell_type": "markdown",
   "metadata": {},
   "source": [
    "### SavedModel格式"
   ]
  },
  {
   "cell_type": "code",
   "execution_count": 54,
   "metadata": {},
   "outputs": [
    {
     "name": "stdout",
     "output_type": "stream",
     "text": [
      "INFO:tensorflow:Assets written to: ./checkpoints/tf_model/weights/assets\n",
      "loss is 0.805, accuracy is 0.725\n",
      "--------------------------------------------------\n",
      "./checkpoints/tf_model/weights\n",
      "    variables\n",
      "        variables.data-00000-of-00001\n",
      "        variables.index\n",
      "    assets\n",
      "    saved_model.pb\n",
      "--------------------------------------------------\n",
      "loss is 0.805, accuracy is 0.725\n"
     ]
    }
   ],
   "source": [
    "def tree(path, intent=\"\"):  \n",
    "    if len(intent)>0:\n",
    "        print(intent + os.path.basename(path))\n",
    "    else:\n",
    "        print(intent + path)\n",
    "    if os.path.isdir(path):\n",
    "        for child in os.listdir(path):  \n",
    "            child_path = os.path.join(path, child) \n",
    "            tree(child_path, intent + \"    \")\n",
    "            \n",
    "\n",
    "# 保存参数\n",
    "checkpoint_dir = \"./checkpoints/tf_model\"\n",
    "checkpoint_path = os.path.join(checkpoint_dir, \"weights\")\n",
    "if not os.path.exists(checkpoint_dir):  os.makedirs(checkpoint_dir)\n",
    "model.save(checkpoint_path)\n",
    "evaulate(model, x_test, y_test)\n",
    "print('-'*50)\n",
    "tree(checkpoint_path)\n",
    "\n",
    "# 加载参数\n",
    "print('-'*50)\n",
    "model = get_model()  # 创建模型\n",
    "model = tf.keras.models.load_model(checkpoint_path)\n",
    "evaulate(model, x_test, y_test)"
   ]
  },
  {
   "cell_type": "code",
   "execution_count": 46,
   "metadata": {},
   "outputs": [
    {
     "name": "stdout",
     "output_type": "stream",
     "text": [
      "total 0\r\n"
     ]
    }
   ],
   "source": [
    "! ls -l {checkpoint_path}/assets"
   ]
  },
  {
   "cell_type": "code",
   "execution_count": 47,
   "metadata": {},
   "outputs": [
    {
     "name": "stdout",
     "output_type": "stream",
     "text": [
      "total 408\r\n",
      "-rw-r--r--. 1 root root 409700 Nov 16 08:54 variables.data-00000-of-00001\r\n",
      "-rw-r--r--. 1 root root    623 Nov 16 08:54 variables.index\r\n"
     ]
    }
   ],
   "source": [
    "! ls -l {checkpoint_path}/variables"
   ]
  },
  {
   "cell_type": "code",
   "execution_count": 48,
   "metadata": {},
   "outputs": [
    {
     "name": "stdout",
     "output_type": "stream",
     "text": [
      "./checkpoints/tf_model/weights\n",
      "    variables\n",
      "        variables.data-00000-of-00001\n",
      "        variables.index\n",
      "    assets\n",
      "    saved_model.pb\n"
     ]
    }
   ],
   "source": [
    "import os \n",
    "\n",
    "def tree(path, intent=\"\"):  \n",
    "    if len(intent)>0:\n",
    "        print(intent + os.path.basename(path))\n",
    "    else:\n",
    "        print(intent + path)\n",
    "    if os.path.isdir(path):\n",
    "        for child in os.listdir(path):  \n",
    "            child_path = os.path.join(path, child) \n",
    "            tree(child_path, intent + \"    \")\n",
    "            \n",
    "\n",
    "tree(checkpoint_path)"
   ]
  },
  {
   "cell_type": "markdown",
   "metadata": {},
   "source": [
    "## Save Checkpoints\n",
    "\n",
    "## 保存自定义对象\n",
    "\n",
    "\n",
    "\n",
    "## 参考\n",
    "\n",
    "- [Save and load models](https://www.tensorflow.org/tutorials/keras/save_and_load#what_are_these_files)\n",
    "- [Using the SavedModel format](https://www.tensorflow.org/guide/saved_model)\n",
    "- [Making new Layers and Models via subclassing](https://www.tensorflow.org/guide/keras/custom_layers_and_models)"
   ]
  },
  {
   "cell_type": "code",
   "execution_count": 4,
   "metadata": {},
   "outputs": [
    {
     "name": "stdout",
     "output_type": "stream",
     "text": [
      "12\n"
     ]
    }
   ],
   "source": [
    "def add(a, b=3):\n",
    "    print(a + b)\n",
    "\n",
    "add(9)"
   ]
  },
  {
   "cell_type": "code",
   "execution_count": 12,
   "metadata": {},
   "outputs": [
    {
     "name": "stdout",
     "output_type": "stream",
     "text": [
      "<class 'dict'> {'a1': 3, 'a2': 4}\n",
      "<class 'tuple'> (3, 4)\n",
      "<class 'list'> [3, 4]\n"
     ]
    }
   ],
   "source": [
    "a = {'a1':3, 'a2':4}\n",
    "b = (3, 4)\n",
    "c = [3, 4]\n",
    "\n",
    "print(type(a), a)\n",
    "print(type(b), b)\n",
    "print(type(c), c)"
   ]
  },
  {
   "cell_type": "code",
   "execution_count": 64,
   "metadata": {},
   "outputs": [
    {
     "name": "stdout",
     "output_type": "stream",
     "text": [
      "==================================================\n",
      "a <class 'int'> 1\n",
      "b <class 'int'> 11\n",
      "args <class 'tuple'> (12, 13)\n",
      "==================================================\n",
      "a <class 'int'> 1\n",
      "b <class 'int'> 11\n",
      "args <class 'tuple'> (12, 13)\n",
      "==================================================\n",
      "a <class 'int'> 1\n",
      "b <class 'int'> 11\n",
      "args <class 'tuple'> (12, 13, 14, 15)\n"
     ]
    }
   ],
   "source": [
    "def add(a, b=3, *args):\n",
    "    print('='*50)\n",
    "    print('a', type(a), a)\n",
    "    print('b', type(a), b)\n",
    "    print('args', type(args), args)  \n",
    "        \n",
    "\n",
    "add(1, 11, 12, 13)\n",
    "\n",
    "lst = [11, 12, 13]\n",
    "add(1, *lst)        # 注意11被分给了b，这种情况下缺省参数失去了意义\n",
    "add(1, *lst, 14, 15)  \n",
    "\n",
    "#add(1, b=4, *lst)  # 会报错： add() got multiple values for argument 'b'"
   ]
  },
  {
   "cell_type": "code",
   "execution_count": 65,
   "metadata": {},
   "outputs": [
    {
     "name": "stdout",
     "output_type": "stream",
     "text": [
      "==================================================\n",
      "a <class 'int'> 1\n",
      "b <class 'int'> 3\n",
      "kwargs <class 'dict'> {'c': 21, 'd': 22, 'e': 23}\n",
      "==================================================\n",
      "a <class 'int'> 1\n",
      "b <class 'int'> 4\n",
      "kwargs <class 'dict'> {'c': 21, 'd': 22, 'e': 23}\n",
      "==================================================\n",
      "a <class 'int'> 1\n",
      "b <class 'int'> 4\n",
      "kwargs <class 'dict'> {'c': 21, 'd': 22, 'e': 23}\n",
      "==================================================\n",
      "a <class 'int'> 1\n",
      "b <class 'int'> 3\n",
      "kwargs <class 'dict'> {'c': 21, 'd': 22, 'e': 23}\n",
      "==================================================\n",
      "a <class 'int'> 1\n",
      "b <class 'int'> 4\n",
      "kwargs <class 'dict'> {'c': 21, 'd': 22, 'e': 23}\n",
      "==================================================\n",
      "a <class 'int'> 1\n",
      "b <class 'int'> 3\n",
      "kwargs <class 'dict'> {'c': 21, 'd': 22, 'e': 23, 'f': 4}\n",
      "==================================================\n",
      "a <class 'int'> 1\n",
      "b <class 'int'> 3\n",
      "kwargs <class 'dict'> {'f': 4, 'c': 21, 'd': 22, 'e': 23}\n",
      "==================================================\n",
      "a <class 'int'> 1\n",
      "b <class 'int'> 4\n",
      "kwargs <class 'dict'> {'f': 4, 'c': 21, 'd': 22, 'e': 23, 'g': 4}\n"
     ]
    }
   ],
   "source": [
    "def add(a, b=3, **kwargs):\n",
    "    print('='*50)\n",
    "    print('a', type(a), a)\n",
    "    print('b', type(a), b)\n",
    "    print('kwargs', type(kwargs), kwargs)  \n",
    "\n",
    "\n",
    "add(1, c=21, d=22, e=23)\n",
    "add(1, 4, **dct)\n",
    "add(1, b=4, **dct)\n",
    "add(1, **dct)\n",
    "add(1, **dct, b=4)\n",
    "add(1, **dct, f=4)\n",
    "add(1, f=4, **dct)\n",
    "add(1, f=4, **dct, b=4, g=4)"
   ]
  },
  {
   "cell_type": "code",
   "execution_count": null,
   "metadata": {},
   "outputs": [],
   "source": []
  }
 ],
 "metadata": {
  "kernelspec": {
   "display_name": "Python 3",
   "language": "python",
   "name": "python3"
  }
 },
 "nbformat": 4,
 "nbformat_minor": 4
}
