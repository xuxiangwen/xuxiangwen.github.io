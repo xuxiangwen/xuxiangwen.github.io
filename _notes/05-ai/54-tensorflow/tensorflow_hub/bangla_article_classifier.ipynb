{
 "cells": [
  {
   "cell_type": "markdown",
   "metadata": {
    "colab_type": "text",
    "id": "IDdZSPcLtKx4"
   },
   "source": [
    "##### Copyright 2019 The TensorFlow Hub Authors.\n",
    "\n",
    "Licensed under the Apache License, Version 2.0 (the \"License\");"
   ]
  },
  {
   "cell_type": "code",
   "execution_count": 1,
   "metadata": {
    "colab": {},
    "colab_type": "code",
    "execution": {
     "iopub.execute_input": "2020-11-24T16:36:02.854705Z",
     "iopub.status.busy": "2020-11-24T16:36:02.854012Z",
     "iopub.status.idle": "2020-11-24T16:36:02.856552Z",
     "shell.execute_reply": "2020-11-24T16:36:02.855950Z"
    },
    "id": "-g5By3P4tavy"
   },
   "outputs": [],
   "source": [
    "# Copyright 2019 The TensorFlow Hub Authors. All Rights Reserved.\n",
    "#\n",
    "# Licensed under the Apache License, Version 2.0 (the \"License\");\n",
    "# you may not use this file except in compliance with the License.\n",
    "# You may obtain a copy of the License at\n",
    "#\n",
    "#     http://www.apache.org/licenses/LICENSE-2.0\n",
    "#\n",
    "# Unless required by applicable law or agreed to in writing, software\n",
    "# distributed under the License is distributed on an \"AS IS\" BASIS, \n",
    "# WITHOUT WARRANTIES OR CONDITIONS OF ANY KIND, either express or implied.\n",
    "# See the License for the specific language governing permissions and\n",
    "# limitations under the License.\n",
    "# =============================================================================="
   ]
  },
  {
   "cell_type": "markdown",
   "metadata": {
    "colab_type": "text",
    "id": "vpaLrN0mteAS"
   },
   "source": [
    "# Bangla Article Classification With TF-Hub"
   ]
  },
  {
   "cell_type": "markdown",
   "metadata": {
    "colab_type": "text",
    "id": "MfBg1C5NB3X0"
   },
   "source": [
    "<table class=\"tfo-notebook-buttons\" align=\"left\">\n",
    "  <td>\n",
    "    <a target=\"_blank\" href=\"https://www.tensorflow.org/hub/tutorials/bangla_article_classifier\"><img src=\"https://www.tensorflow.org/images/tf_logo_32px.png\" />View on TensorFlow.org</a>\n",
    "  </td>\n",
    "  <td>\n",
    "    <a target=\"_blank\" href=\"https://colab.research.google.com/github/tensorflow/hub/blob/master/examples/colab/bangla_article_classifier.ipynb\"><img src=\"https://www.tensorflow.org/images/colab_logo_32px.png\" />Run in Google Colab</a>\n",
    "  </td>\n",
    "  <td>\n",
    "    <a target=\"_blank\" href=\"https://github.com/tensorflow/hub/blob/master/examples/colab/bangla_article_classifier.ipynb\"><img src=\"https://www.tensorflow.org/images/GitHub-Mark-32px.png\" />View on GitHub</a>\n",
    "  </td>\n",
    "  <td>\n",
    "    <a href=\"https://storage.googleapis.com/tensorflow_docs/hub/examples/colab/bangla_article_classifier.ipynb\"><img src=\"https://www.tensorflow.org/images/download_logo_32px.png\" />Download notebook</a>\n",
    "  </td>\n",
    "</table>"
   ]
  },
  {
   "cell_type": "markdown",
   "metadata": {
    "colab_type": "text",
    "id": "GhN2WtIrBQ4y"
   },
   "source": [
    "Caution: In addition to installing python packages with pip, this notebook uses\n",
    "`sudo apt install` to install system packages: `unzip`.\n",
    "\n",
    "This colab is a demonstration of using [Tensorflow Hub](https://www.tensorflow.org/hub/) for text classification in non-English/local languages. Here we choose [Bangla](https://en.wikipedia.org/wiki/Bengali_language) as the local language and use pretrained word embeddings to solve a multiclass classification task where we classify Bangla news articles in 5 categories.  The pretrained embeddings for Bangla comes from [fastText](https://fasttext.cc/docs/en/crawl-vectors.html) which is a library by Facebook with released pretrained word vectors for 157 languages. \n",
    "\n",
    "We'll use TF-Hub's pretrained embedding exporter for converting the word embeddings to a text embedding module first and then use the module to train a classifier with [tf.keras](https://www.tensorflow.org/api_docs/python/tf/keras), Tensorflow's high level user friendly API to build deep learning models.  Even if we are using fastText embeddings here, it's possible to export any other embeddings pretrained from other tasks and quickly get results with Tensorflow hub. "
   ]
  },
  {
   "cell_type": "markdown",
   "metadata": {
    "colab_type": "text",
    "id": "Q4DN769E2O_R"
   },
   "source": [
    "## Setup"
   ]
  },
  {
   "cell_type": "code",
   "execution_count": 9,
   "metadata": {
    "ExecuteTime": {
     "end_time": "2021-02-03T08:21:57.426928Z",
     "start_time": "2021-02-03T08:21:54.754850Z"
    },
    "colab": {},
    "colab_type": "code",
    "execution": {
     "iopub.execute_input": "2020-11-24T16:36:02.861242Z",
     "iopub.status.busy": "2020-11-24T16:36:02.860501Z",
     "iopub.status.idle": "2020-11-24T16:36:05.124496Z",
     "shell.execute_reply": "2020-11-24T16:36:05.123956Z"
    },
    "id": "9Vt-StAAZguA"
   },
   "outputs": [],
   "source": [
    "%%bash\n",
    "# https://github.com/pypa/setuptools/issues/1694#issuecomment-466010982\n",
    "pip install -q gdown --no-use-pep517\n",
    "mkdir  -p ./data"
   ]
  },
  {
   "cell_type": "code",
   "execution_count": 3,
   "metadata": {
    "ExecuteTime": {
     "end_time": "2021-02-03T08:05:11.356357Z",
     "start_time": "2021-02-03T08:05:09.732361Z"
    },
    "colab": {},
    "colab_type": "code",
    "execution": {
     "iopub.execute_input": "2020-11-24T16:36:05.130429Z",
     "iopub.status.busy": "2020-11-24T16:36:05.128520Z",
     "iopub.status.idle": "2020-11-24T16:36:05.583395Z",
     "shell.execute_reply": "2020-11-24T16:36:05.583870Z"
    },
    "id": "WcBA19FlDPZO"
   },
   "outputs": [
    {
     "name": "stdout",
     "output_type": "stream",
     "text": [
      "Reading package lists...\n",
      "Building dependency tree...\n",
      "Reading state information...\n",
      "unzip is already the newest version (6.0-21ubuntu1).\n",
      "0 upgraded, 0 newly installed, 0 to remove and 30 not upgraded.\n"
     ]
    }
   ],
   "source": [
    "%%bash\n",
    "apt-get install -y unzip"
   ]
  },
  {
   "cell_type": "code",
   "execution_count": 4,
   "metadata": {
    "ExecuteTime": {
     "end_time": "2021-02-03T08:05:59.689431Z",
     "start_time": "2021-02-03T08:05:56.732301Z"
    },
    "colab": {},
    "colab_type": "code",
    "execution": {
     "iopub.execute_input": "2020-11-24T16:36:05.588860Z",
     "iopub.status.busy": "2020-11-24T16:36:05.588242Z",
     "iopub.status.idle": "2020-11-24T16:36:11.878674Z",
     "shell.execute_reply": "2020-11-24T16:36:11.878077Z"
    },
    "id": "zSeyZMq-BYsu"
   },
   "outputs": [],
   "source": [
    "import os\n",
    "\n",
    "import tensorflow as tf\n",
    "import tensorflow_hub as hub\n",
    "\n",
    "import gdown\n",
    "import numpy as np\n",
    "from sklearn.metrics import classification_report\n",
    "import matplotlib.pyplot as plt\n",
    "import seaborn as sns\n",
    "\n",
    "physical_devices = tf.config.experimental.list_physical_devices('GPU')\n",
    "for device in physical_devices:\n",
    "    tf.config.experimental.set_memory_growth(device, True)"
   ]
  },
  {
   "cell_type": "markdown",
   "metadata": {
    "colab_type": "text",
    "id": "9FB7gLU4F54l"
   },
   "source": [
    "# Dataset\n",
    "\n",
    "We will use [BARD](https://www.researchgate.net/publication/328214545_BARD_Bangla_Article_Classification_Using_a_New_Comprehensive_Dataset) (Bangla Article Dataset) which has around 3,76,226 articles collected from different Bangla news portals and labelled with 5 categories : economy, state, international, sports and entertainment. We download the file from Google Drive this ([bit.ly/BARD_DATASET](bit.ly/BARD_DATASET)) link is referring to from [this](https://github.com/tanvirfahim15/BARD-Bangla-Article-Classifier) GitHub repository.\n"
   ]
  },
  {
   "cell_type": "code",
   "execution_count": 5,
   "metadata": {
    "ExecuteTime": {
     "end_time": "2021-02-03T08:07:51.869897Z",
     "start_time": "2021-02-03T08:06:17.117150Z"
    },
    "colab": {},
    "colab_type": "code",
    "execution": {
     "iopub.execute_input": "2020-11-24T16:36:11.885684Z",
     "iopub.status.busy": "2020-11-24T16:36:11.883064Z",
     "iopub.status.idle": "2020-11-24T16:36:24.213965Z",
     "shell.execute_reply": "2020-11-24T16:36:24.214404Z"
    },
    "id": "zdQrL_rwa-1K"
   },
   "outputs": [
    {
     "data": {
      "text/plain": [
       "'bard.zip'"
      ]
     },
     "execution_count": 5,
     "metadata": {},
     "output_type": "execute_result"
    }
   ],
   "source": [
    "gdown.download(\n",
    "    url='https://drive.google.com/uc?id=1Ag0jd21oRwJhVFIBohmX_ogeojVtapLy',\n",
    "    output='data/bard.zip',\n",
    "    quiet=True\n",
    ")"
   ]
  },
  {
   "cell_type": "code",
   "execution_count": 17,
   "metadata": {
    "ExecuteTime": {
     "end_time": "2021-02-03T08:41:13.499492Z",
     "start_time": "2021-02-03T08:40:24.517674Z"
    },
    "colab": {},
    "colab_type": "code",
    "execution": {
     "iopub.execute_input": "2020-11-24T16:36:24.218695Z",
     "iopub.status.busy": "2020-11-24T16:36:24.218083Z",
     "iopub.status.idle": "2020-11-24T16:36:49.493709Z",
     "shell.execute_reply": "2020-11-24T16:36:49.493056Z"
    },
    "id": "P2YW4GGa9Y5o"
   },
   "outputs": [],
   "source": [
    "%%bash\n",
    "unzip -qo data/bard.zip -d data/bard1"
   ]
  },
  {
   "cell_type": "markdown",
   "metadata": {
    "colab_type": "text",
    "id": "js75OARBF_B8"
   },
   "source": [
    "# Export pretrained word vectors to TF-Hub module"
   ]
  },
  {
   "cell_type": "markdown",
   "metadata": {
    "colab_type": "text",
    "id": "-uAicYA6vLsf"
   },
   "source": [
    "TF-Hub provides some handy scripts for converting word embeddings to TF-hub text embedding modules [here](https://github.com/tensorflow/hub/tree/master/examples/text_embeddings_v2). To make the module for Bangla or any other languages we simply have to download the word embedding .txt or .vec file to the same directory as export_v2.py and run the script.\n",
    "\n",
    "\n",
    "The exporter reads the embedding vectors and exports it to a Tensorflow [SavedModel](https://www.tensorflow.org/beta/guide/saved_model). A SavedModel contains a complete TensorFlow program including weights and graph. TF-Hub can load the SavedModel as a [module](https://www.tensorflow.org/hub/api_docs/python/hub/Module) which we will use to build the model for text classification. Since we are using tf.keras to build the model we will use [hub.KerasLayer](https://www.tensorflow.org/hub/api_docs/python/hub/KerasLayer) which provides a wrapper for a hub module to use as a Keras Layer.\n",
    "\n",
    "First we will get our word embeddings from fastText and embedding exporter from TF-Hub [repo](https://github.com/tensorflow/hub).\n"
   ]
  },
  {
   "cell_type": "code",
   "execution_count": 10,
   "metadata": {
    "ExecuteTime": {
     "end_time": "2021-02-03T08:26:20.177026Z",
     "start_time": "2021-02-03T08:25:58.860069Z"
    },
    "colab": {},
    "colab_type": "code",
    "execution": {
     "iopub.execute_input": "2020-11-24T16:36:49.505379Z",
     "iopub.status.busy": "2020-11-24T16:36:49.504571Z",
     "iopub.status.idle": "2020-11-24T16:38:16.138837Z",
     "shell.execute_reply": "2020-11-24T16:38:16.139319Z"
    },
    "id": "5DY5Ze6pO1G5"
   },
   "outputs": [],
   "source": [
    "%%bash\n",
    "mkdir  -p ./model/bangla_article_classifier\n",
    "curl -o ./model/bangla_article_classifier/cc.bn.300.vec.gz -O https://dl.fbaipublicfiles.com/fasttext/vectors-crawl/cc.bn.300.vec.gz -o bangla_article_classifier\n",
    "curl -o ./model/bangla_article_classifier/export_v2.py -O https://raw.githubusercontent.com/tensorflow/hub/master/examples/text_embeddings_v2/export_v2.py \n",
    "gunzip -qf ./model/bangla_article_classifier/cc.bn.300.vec.gz --k"
   ]
  },
  {
   "cell_type": "markdown",
   "metadata": {
    "colab_type": "text",
    "id": "PAzdNZaHmdl1"
   },
   "source": [
    "Then we will run the exporter script on our embedding file. Since fastText embeddings has a header line and are pretty large(around 3.3 GB for bangla after converting to a module) we ignore the first line and export only the first 100, 000 tokens to the text embedding module."
   ]
  },
  {
   "cell_type": "code",
   "execution_count": 11,
   "metadata": {
    "ExecuteTime": {
     "end_time": "2021-02-03T08:32:01.832454Z",
     "start_time": "2021-02-03T08:31:42.541711Z"
    },
    "colab": {},
    "colab_type": "code",
    "execution": {
     "iopub.execute_input": "2020-11-24T16:38:16.149557Z",
     "iopub.status.busy": "2020-11-24T16:38:16.144250Z",
     "iopub.status.idle": "2020-11-24T16:38:34.803601Z",
     "shell.execute_reply": "2020-11-24T16:38:34.803065Z"
    },
    "id": "Tkv5acr_Q9UU",
    "scrolled": false
   },
   "outputs": [
    {
     "name": "stderr",
     "output_type": "stream",
     "text": [
      "2021-02-03 08:31:43.177926: I tensorflow/stream_executor/platform/default/dso_loader.cc:48] Successfully opened dynamic library libcudart.so.10.1\n",
      "2021-02-03 08:31:59.797318: I tensorflow/stream_executor/platform/default/dso_loader.cc:48] Successfully opened dynamic library libcuda.so.1\n",
      "2021-02-03 08:31:59.801943: I tensorflow/core/common_runtime/gpu/gpu_device.cc:1716] Found device 0 with properties: \n",
      "pciBusID: 0000:05:00.0 name: GeForce GTX 1070 Ti computeCapability: 6.1\n",
      "coreClock: 1.683GHz coreCount: 19 deviceMemorySize: 7.93GiB deviceMemoryBandwidth: 238.66GiB/s\n",
      "2021-02-03 08:31:59.801974: I tensorflow/stream_executor/platform/default/dso_loader.cc:48] Successfully opened dynamic library libcudart.so.10.1\n",
      "2021-02-03 08:31:59.803766: I tensorflow/stream_executor/platform/default/dso_loader.cc:48] Successfully opened dynamic library libcublas.so.10\n",
      "2021-02-03 08:31:59.805372: I tensorflow/stream_executor/platform/default/dso_loader.cc:48] Successfully opened dynamic library libcufft.so.10\n",
      "2021-02-03 08:31:59.805674: I tensorflow/stream_executor/platform/default/dso_loader.cc:48] Successfully opened dynamic library libcurand.so.10\n",
      "2021-02-03 08:31:59.807681: I tensorflow/stream_executor/platform/default/dso_loader.cc:48] Successfully opened dynamic library libcusolver.so.10\n",
      "2021-02-03 08:31:59.808608: I tensorflow/stream_executor/platform/default/dso_loader.cc:48] Successfully opened dynamic library libcusparse.so.10\n",
      "2021-02-03 08:31:59.812636: I tensorflow/stream_executor/platform/default/dso_loader.cc:48] Successfully opened dynamic library libcudnn.so.7\n",
      "2021-02-03 08:31:59.813819: I tensorflow/core/common_runtime/gpu/gpu_device.cc:1858] Adding visible gpu devices: 0\n",
      "2021-02-03 08:31:59.821570: I tensorflow/core/platform/profile_utils/cpu_utils.cc:104] CPU Frequency: 2793140000 Hz\n",
      "2021-02-03 08:31:59.822453: I tensorflow/compiler/xla/service/service.cc:168] XLA service 0x11141200 initialized for platform Host (this does not guarantee that XLA will be used). Devices:\n",
      "2021-02-03 08:31:59.822474: I tensorflow/compiler/xla/service/service.cc:176]   StreamExecutor device (0): Host, Default Version\n",
      "2021-02-03 08:31:59.917269: I tensorflow/compiler/xla/service/service.cc:168] XLA service 0x111ace10 initialized for platform CUDA (this does not guarantee that XLA will be used). Devices:\n",
      "2021-02-03 08:31:59.917304: I tensorflow/compiler/xla/service/service.cc:176]   StreamExecutor device (0): GeForce GTX 1070 Ti, Compute Capability 6.1\n",
      "2021-02-03 08:31:59.917987: I tensorflow/core/common_runtime/gpu/gpu_device.cc:1716] Found device 0 with properties: \n",
      "pciBusID: 0000:05:00.0 name: GeForce GTX 1070 Ti computeCapability: 6.1\n",
      "coreClock: 1.683GHz coreCount: 19 deviceMemorySize: 7.93GiB deviceMemoryBandwidth: 238.66GiB/s\n",
      "2021-02-03 08:31:59.918039: I tensorflow/stream_executor/platform/default/dso_loader.cc:48] Successfully opened dynamic library libcudart.so.10.1\n",
      "2021-02-03 08:31:59.918080: I tensorflow/stream_executor/platform/default/dso_loader.cc:48] Successfully opened dynamic library libcublas.so.10\n",
      "2021-02-03 08:31:59.918122: I tensorflow/stream_executor/platform/default/dso_loader.cc:48] Successfully opened dynamic library libcufft.so.10\n",
      "2021-02-03 08:31:59.918151: I tensorflow/stream_executor/platform/default/dso_loader.cc:48] Successfully opened dynamic library libcurand.so.10\n",
      "2021-02-03 08:31:59.918178: I tensorflow/stream_executor/platform/default/dso_loader.cc:48] Successfully opened dynamic library libcusolver.so.10\n",
      "2021-02-03 08:31:59.918205: I tensorflow/stream_executor/platform/default/dso_loader.cc:48] Successfully opened dynamic library libcusparse.so.10\n",
      "2021-02-03 08:31:59.918232: I tensorflow/stream_executor/platform/default/dso_loader.cc:48] Successfully opened dynamic library libcudnn.so.7\n",
      "2021-02-03 08:31:59.919133: I tensorflow/core/common_runtime/gpu/gpu_device.cc:1858] Adding visible gpu devices: 0\n",
      "2021-02-03 08:31:59.919172: I tensorflow/stream_executor/platform/default/dso_loader.cc:48] Successfully opened dynamic library libcudart.so.10.1\n",
      "2021-02-03 08:32:00.303804: I tensorflow/core/common_runtime/gpu/gpu_device.cc:1257] Device interconnect StreamExecutor with strength 1 edge matrix:\n",
      "2021-02-03 08:32:00.303849: I tensorflow/core/common_runtime/gpu/gpu_device.cc:1263]      0 \n",
      "2021-02-03 08:32:00.303862: I tensorflow/core/common_runtime/gpu/gpu_device.cc:1276] 0:   N \n",
      "2021-02-03 08:32:00.304919: I tensorflow/core/common_runtime/gpu/gpu_device.cc:1402] Created TensorFlow device (/job:localhost/replica:0/task:0/device:GPU:0 with 5233 MB memory) -> physical GPU (device: 0, name: GeForce GTX 1070 Ti, pci bus id: 0000:05:00.0, compute capability: 6.1)\n",
      "INFO:tensorflow:Assets written to: text_module/assets\n",
      "I0203 08:32:01.382906 140156887123776 builder_impl.py:775] Assets written to: text_module/assets\n"
     ]
    }
   ],
   "source": [
    "%%bash\n",
    "cd ./model/bangla_article_classifier\n",
    "python export_v2.py --embedding_file=cc.bn.300.vec --export_path=text_module --num_lines_to_ignore=1 --num_lines_to_use=100000"
   ]
  },
  {
   "cell_type": "code",
   "execution_count": 13,
   "metadata": {
    "ExecuteTime": {
     "end_time": "2021-02-03T08:34:18.124792Z",
     "start_time": "2021-02-03T08:34:16.725454Z"
    },
    "colab": {},
    "colab_type": "code",
    "execution": {
     "iopub.execute_input": "2020-11-24T16:38:34.808692Z",
     "iopub.status.busy": "2020-11-24T16:38:34.807987Z",
     "iopub.status.idle": "2020-11-24T16:38:37.050478Z",
     "shell.execute_reply": "2020-11-24T16:38:37.050952Z"
    },
    "id": "k9WEpmedF_3_"
   },
   "outputs": [],
   "source": [
    "module_path = \"./model/bangla_article_classifier/text_module\"\n",
    "embedding_layer = hub.KerasLayer(module_path, trainable=False)"
   ]
  },
  {
   "cell_type": "markdown",
   "metadata": {
    "colab_type": "text",
    "id": "fQHbmS_D4YIo"
   },
   "source": [
    "The text embedding module takes a batch of sentences in a 1D tensor of strings as input and outputs the embedding vectors of shape (batch_size, embedding_dim) corresponding to the sentences. It preprocesses the input by splitting on spaces. Word embeddings are combined to sentence embeddings with the `sqrtn` combiner(See [here](https://www.tensorflow.org/api_docs/python/tf/nn/embedding_lookup_sparse)). For demonstration we pass a list of Bangla words as input and get the corresponding embedding vectors."
   ]
  },
  {
   "cell_type": "code",
   "execution_count": 14,
   "metadata": {
    "ExecuteTime": {
     "end_time": "2021-02-03T08:34:54.919680Z",
     "start_time": "2021-02-03T08:34:54.807606Z"
    },
    "colab": {},
    "colab_type": "code",
    "execution": {
     "iopub.execute_input": "2020-11-24T16:38:37.057631Z",
     "iopub.status.busy": "2020-11-24T16:38:37.056670Z",
     "iopub.status.idle": "2020-11-24T16:38:37.115165Z",
     "shell.execute_reply": "2020-11-24T16:38:37.114619Z"
    },
    "id": "Z1MBnaBUihWn"
   },
   "outputs": [
    {
     "data": {
      "text/plain": [
       "<tf.Tensor: shape=(5, 300), dtype=float64, numpy=\n",
       "array([[ 0.0462, -0.0355,  0.0129, ...,  0.0025, -0.0966,  0.0216],\n",
       "       [-0.0631, -0.0051,  0.085 , ...,  0.0249, -0.0149,  0.0203],\n",
       "       [ 0.1371, -0.069 , -0.1176, ...,  0.029 ,  0.0508, -0.026 ],\n",
       "       [ 0.0532, -0.0465, -0.0504, ...,  0.02  , -0.0023,  0.0011],\n",
       "       [ 0.0908, -0.0404, -0.0536, ..., -0.0275,  0.0528,  0.0253]])>"
      ]
     },
     "execution_count": 14,
     "metadata": {},
     "output_type": "execute_result"
    }
   ],
   "source": [
    "embedding_layer(['বাস', 'বসবাস', 'ট্রেন', 'যাত্রী', 'ট্রাক']) "
   ]
  },
  {
   "cell_type": "markdown",
   "metadata": {
    "colab_type": "text",
    "id": "4KY8LiFOHmcd"
   },
   "source": [
    "# Convert to Tensorflow Dataset \n"
   ]
  },
  {
   "cell_type": "markdown",
   "metadata": {
    "colab_type": "text",
    "id": "pNguCDNe6bvz"
   },
   "source": [
    "Since the dataset is really large instead of loading the entire dataset in memory we will use a generator to yield samples in run-time in batches using [Tensorflow Dataset](https://www.tensorflow.org/api_docs/python/tf/data/Dataset) functionalities.  The dataset is also very imbalanced, so before using the generator we will shuffle the dataset. \n"
   ]
  },
  {
   "cell_type": "code",
   "execution_count": 19,
   "metadata": {
    "ExecuteTime": {
     "end_time": "2021-02-03T08:47:52.717384Z",
     "start_time": "2021-02-03T08:47:52.206203Z"
    },
    "colab": {},
    "colab_type": "code",
    "execution": {
     "iopub.execute_input": "2020-11-24T16:38:37.121799Z",
     "iopub.status.busy": "2020-11-24T16:38:37.121103Z",
     "iopub.status.idle": "2020-11-24T16:38:37.723765Z",
     "shell.execute_reply": "2020-11-24T16:38:37.724225Z"
    },
    "id": "bYv6LqlEChO1"
   },
   "outputs": [],
   "source": [
    "dir_names = ['economy', 'sports', 'entertainment', 'state', 'international']\n",
    "\n",
    "file_paths = []\n",
    "labels = []\n",
    "for i, dir in enumerate(dir_names):\n",
    "    dir = os.path.join('data/bard', dir)\n",
    "    file_names = [\"/\".join([dir, name]) for name in os.listdir(dir)]\n",
    "    file_paths += file_names\n",
    "    labels += [i] * len(os.listdir(dir))\n",
    "  \n",
    "np.random.seed(42)\n",
    "permutation = np.random.permutation(len(file_paths))\n",
    "\n",
    "file_paths = np.array(file_paths)[permutation]\n",
    "labels = np.array(labels)[permutation]"
   ]
  },
  {
   "cell_type": "markdown",
   "metadata": {
    "colab_type": "text",
    "id": "8b-UtAP5TL-W"
   },
   "source": [
    "We can check the distribution of labels in the training and validation examples after shuffling."
   ]
  },
  {
   "cell_type": "code",
   "execution_count": 21,
   "metadata": {
    "ExecuteTime": {
     "end_time": "2021-02-03T08:48:22.009915Z",
     "start_time": "2021-02-03T08:48:22.006766Z"
    },
    "colab": {},
    "colab_type": "code",
    "execution": {
     "iopub.execute_input": "2020-11-24T16:38:37.728876Z",
     "iopub.status.busy": "2020-11-24T16:38:37.728129Z",
     "iopub.status.idle": "2020-11-24T16:38:37.729889Z",
     "shell.execute_reply": "2020-11-24T16:38:37.730279Z"
    },
    "id": "mimhWVSzzAmS"
   },
   "outputs": [],
   "source": [
    "train_frac = 0.8\n",
    "train_size = int(len(file_paths) * train_frac)"
   ]
  },
  {
   "cell_type": "code",
   "execution_count": 22,
   "metadata": {
    "ExecuteTime": {
     "end_time": "2021-02-03T08:48:23.498603Z",
     "start_time": "2021-02-03T08:48:23.010737Z"
    },
    "colab": {},
    "colab_type": "code",
    "execution": {
     "iopub.execute_input": "2020-11-24T16:38:37.752854Z",
     "iopub.status.busy": "2020-11-24T16:38:37.750318Z",
     "iopub.status.idle": "2020-11-24T16:38:38.041971Z",
     "shell.execute_reply": "2020-11-24T16:38:38.042412Z"
    },
    "id": "4BNXFrkotAYu"
   },
   "outputs": [
    {
     "data": {
      "image/png": "[encoded data removed]",
      "text/plain": [
       "<Figure size 432x288 with 2 Axes>"
      ]
     },
     "metadata": {
      "needs_background": "light"
     },
     "output_type": "display_data"
    }
   ],
   "source": [
    "# plot training vs validation distribution\n",
    "plt.subplot(1, 2, 1)\n",
    "plt.hist(labels[0:train_size])\n",
    "plt.title(\"Train labels\")\n",
    "plt.subplot(1, 2, 2)\n",
    "plt.hist(labels[train_size:])\n",
    "plt.title(\"Validation labels\")\n",
    "plt.tight_layout()"
   ]
  },
  {
   "cell_type": "markdown",
   "metadata": {
    "colab_type": "text",
    "id": "RVbHb2I3TUNA"
   },
   "source": [
    "To create a [Dataset](https://www.tensorflow.org/api_docs/python/tf/data/Dataset) using generator we first write a generator function which reads each of the articles from file_paths and the labels from the label array, and yields one training example at each step. We pass this generator function to the [tf.data.Dataset.from_generator](https://www.tensorflow.org/api_docs/python/tf/data/Dataset#from_generator) method and specify the output types. Each training example is a tuple containing an article of tf.string data type and one-hot encoded label. We split the dataset with a train-validation split of 80-20 using the [`skip`](https://www.tensorflow.org/api_docs/python/tf/data/Dataset#skip) and [`take`](https://www.tensorflow.org/api_docs/python/tf/data/Dataset#take) method."
   ]
  },
  {
   "cell_type": "code",
   "execution_count": 23,
   "metadata": {
    "ExecuteTime": {
     "end_time": "2021-02-03T08:49:52.357745Z",
     "start_time": "2021-02-03T08:49:52.354138Z"
    },
    "colab": {},
    "colab_type": "code",
    "execution": {
     "iopub.execute_input": "2020-11-24T16:38:38.046936Z",
     "iopub.status.busy": "2020-11-24T16:38:38.046273Z",
     "iopub.status.idle": "2020-11-24T16:38:38.048503Z",
     "shell.execute_reply": "2020-11-24T16:38:38.047906Z"
    },
    "id": "eZRGTzEhUi7Q"
   },
   "outputs": [],
   "source": [
    "def load_file(path, label):\n",
    "    return tf.io.read_file(path), label"
   ]
  },
  {
   "cell_type": "code",
   "execution_count": 26,
   "metadata": {
    "ExecuteTime": {
     "end_time": "2021-02-03T08:50:15.456797Z",
     "start_time": "2021-02-03T08:50:15.448831Z"
    },
    "colab": {},
    "colab_type": "code",
    "execution": {
     "iopub.execute_input": "2020-11-24T16:38:38.054369Z",
     "iopub.status.busy": "2020-11-24T16:38:38.053741Z",
     "iopub.status.idle": "2020-11-24T16:38:38.056038Z",
     "shell.execute_reply": "2020-11-24T16:38:38.055551Z"
    },
    "id": "2g4nRflB7fbF"
   },
   "outputs": [],
   "source": [
    "def make_datasets(train_size):\n",
    "    batch_size = 256\n",
    "\n",
    "    train_files = file_paths[:train_size]\n",
    "    train_labels = labels[:train_size]\n",
    "    train_ds = tf.data.Dataset.from_tensor_slices((train_files, train_labels))\n",
    "    train_ds = train_ds.map(load_file).shuffle(5000)\n",
    "    train_ds = train_ds.batch(batch_size).prefetch(tf.data.experimental.AUTOTUNE)\n",
    "\n",
    "    test_files = file_paths[train_size:]\n",
    "    test_labels = labels[train_size:]\n",
    "    test_ds = tf.data.Dataset.from_tensor_slices((test_files, test_labels))\n",
    "    test_ds = test_ds.map(load_file)\n",
    "    test_ds = test_ds.batch(batch_size).prefetch(tf.data.experimental.AUTOTUNE)\n",
    "\n",
    "\n",
    "    return train_ds, test_ds"
   ]
  },
  {
   "cell_type": "code",
   "execution_count": 27,
   "metadata": {
    "ExecuteTime": {
     "end_time": "2021-02-03T08:50:18.099922Z",
     "start_time": "2021-02-03T08:50:17.936460Z"
    },
    "colab": {},
    "colab_type": "code",
    "execution": {
     "iopub.execute_input": "2020-11-24T16:38:38.117241Z",
     "iopub.status.busy": "2020-11-24T16:38:38.116004Z",
     "iopub.status.idle": "2020-11-24T16:38:38.169668Z",
     "shell.execute_reply": "2020-11-24T16:38:38.170183Z"
    },
    "id": "8PuuN6el8tv9"
   },
   "outputs": [],
   "source": [
    "train_data, validation_data = make_datasets(train_size)"
   ]
  },
  {
   "cell_type": "code",
   "execution_count": 60,
   "metadata": {
    "ExecuteTime": {
     "end_time": "2021-02-03T09:45:41.391744Z",
     "start_time": "2021-02-03T09:45:41.021941Z"
    }
   },
   "outputs": [
    {
     "name": "stdout",
     "output_type": "stream",
     "text": [
      "<class 'tensorflow.python.framework.ops.EagerTensor'>\n"
     ]
    }
   ],
   "source": [
    "text, label = iter(train_data).next()\n",
    "print(type(text[0]))\n"
   ]
  },
  {
   "cell_type": "markdown",
   "metadata": {
    "colab_type": "text",
    "id": "MrdZI6FqPJNP"
   },
   "source": [
    "# Model Training and Evaluation"
   ]
  },
  {
   "cell_type": "markdown",
   "metadata": {
    "colab_type": "text",
    "id": "jgr7YScGVS58"
   },
   "source": [
    "Since we have already added a wrapper around our module to use it as any other layer in keras we can create a small [Sequential](https://www.tensorflow.org/api_docs/python/tf/keras/Sequential) model which is a linear stack of layers. We can add our text embedding module with `model.add` just like any other layer. We compile the model by specifying the loss and optimizer and train it for 10 epochs. `tf.keras` API can handle tensorflow datasets as input, so we can pass a Dataset instance to the fit method for model training. Since we are using a generator function, tf.data will handle generating the samples, batching them and feeding them to the model."
   ]
  },
  {
   "cell_type": "markdown",
   "metadata": {
    "colab_type": "text",
    "id": "WhCqbDK2uUV5"
   },
   "source": [
    "## Model"
   ]
  },
  {
   "cell_type": "code",
   "execution_count": 28,
   "metadata": {
    "ExecuteTime": {
     "end_time": "2021-02-03T08:50:37.196259Z",
     "start_time": "2021-02-03T08:50:37.190194Z"
    },
    "colab": {},
    "colab_type": "code",
    "execution": {
     "iopub.execute_input": "2020-11-24T16:38:38.176784Z",
     "iopub.status.busy": "2020-11-24T16:38:38.176152Z",
     "iopub.status.idle": "2020-11-24T16:38:38.178246Z",
     "shell.execute_reply": "2020-11-24T16:38:38.177788Z"
    },
    "id": "nHUw807XPPM9"
   },
   "outputs": [],
   "source": [
    "def create_model():\n",
    "    model = tf.keras.Sequential([\n",
    "        tf.keras.layers.Input(shape=[], dtype=tf.string),\n",
    "        embedding_layer,\n",
    "        tf.keras.layers.Dense(64, activation=\"relu\"),\n",
    "        tf.keras.layers.Dense(16, activation=\"relu\"),\n",
    "        tf.keras.layers.Dense(5),\n",
    "    ])\n",
    "    model.compile(loss=tf.losses.SparseCategoricalCrossentropy(from_logits=True),\n",
    "                  optimizer=\"adam\", metrics=['accuracy'])\n",
    "    return model"
   ]
  },
  {
   "cell_type": "code",
   "execution_count": 29,
   "metadata": {
    "ExecuteTime": {
     "end_time": "2021-02-03T08:50:44.571811Z",
     "start_time": "2021-02-03T08:50:43.697006Z"
    },
    "colab": {},
    "colab_type": "code",
    "execution": {
     "iopub.execute_input": "2020-11-24T16:38:38.192230Z",
     "iopub.status.busy": "2020-11-24T16:38:38.191517Z",
     "iopub.status.idle": "2020-11-24T16:38:38.571633Z",
     "shell.execute_reply": "2020-11-24T16:38:38.572072Z"
    },
    "id": "5J4EXJUmPVNG",
    "scrolled": true
   },
   "outputs": [
    {
     "name": "stdout",
     "output_type": "stream",
     "text": [
      "WARNING:tensorflow:Layer dense is casting an input tensor from dtype float64 to the layer's dtype of float32, which is new behavior in TensorFlow 2.  The layer has dtype float32 because its dtype defaults to floatx.\n",
      "\n",
      "If you intended to run this layer in float32, you can safely ignore this warning. If in doubt, this warning is likely only an issue if you are porting a TensorFlow 1.X model to TensorFlow 2.\n",
      "\n",
      "To change all layers to have dtype float64 by default, call `tf.keras.backend.set_floatx('float64')`. To change just this layer, pass dtype='float64' to the layer constructor. If you are the author of this layer, you can disable autocasting by passing autocast=False to the base Layer constructor.\n",
      "\n"
     ]
    }
   ],
   "source": [
    "model = create_model()\n",
    "# Create earlystopping callback\n",
    "early_stopping_callback = tf.keras.callbacks.EarlyStopping(monitor='val_loss', min_delta=0, patience=3)"
   ]
  },
  {
   "cell_type": "code",
   "execution_count": 61,
   "metadata": {
    "ExecuteTime": {
     "end_time": "2021-02-03T12:25:38.237543Z",
     "start_time": "2021-02-03T12:25:38.231830Z"
    }
   },
   "outputs": [
    {
     "name": "stdout",
     "output_type": "stream",
     "text": [
      "Model: \"sequential\"\n",
      "_________________________________________________________________\n",
      "Layer (type)                 Output Shape              Param #   \n",
      "=================================================================\n",
      "keras_layer (KerasLayer)     (None, 300)               30000300  \n",
      "_________________________________________________________________\n",
      "dense (Dense)                (None, 64)                19264     \n",
      "_________________________________________________________________\n",
      "dense_1 (Dense)              (None, 16)                1040      \n",
      "_________________________________________________________________\n",
      "dense_2 (Dense)              (None, 5)                 85        \n",
      "=================================================================\n",
      "Total params: 30,020,689\n",
      "Trainable params: 20,389\n",
      "Non-trainable params: 30,000,300\n",
      "_________________________________________________________________\n"
     ]
    }
   ],
   "source": [
    "model.summary()"
   ]
  },
  {
   "cell_type": "markdown",
   "metadata": {
    "colab_type": "text",
    "id": "ZZ7XJLg2u2No"
   },
   "source": [
    "## Training"
   ]
  },
  {
   "cell_type": "code",
   "execution_count": 30,
   "metadata": {
    "ExecuteTime": {
     "end_time": "2021-02-03T08:55:24.910308Z",
     "start_time": "2021-02-03T08:50:49.448358Z"
    },
    "colab": {},
    "colab_type": "code",
    "execution": {
     "iopub.execute_input": "2020-11-24T16:38:38.576762Z",
     "iopub.status.busy": "2020-11-24T16:38:38.576072Z",
     "iopub.status.idle": "2020-11-24T16:42:57.590414Z",
     "shell.execute_reply": "2020-11-24T16:42:57.590833Z"
    },
    "id": "OoBkN2tAaXWD"
   },
   "outputs": [
    {
     "name": "stdout",
     "output_type": "stream",
     "text": [
      "Epoch 1/5\n",
      "1176/1176 [==============================] - 55s 47ms/step - loss: 0.2419 - accuracy: 0.9206 - val_loss: 0.1526 - val_accuracy: 0.9482\n",
      "Epoch 2/5\n",
      "1176/1176 [==============================] - 55s 46ms/step - loss: 0.1450 - accuracy: 0.9493 - val_loss: 0.1346 - val_accuracy: 0.9524\n",
      "Epoch 3/5\n",
      "1176/1176 [==============================] - 54s 46ms/step - loss: 0.1307 - accuracy: 0.9529 - val_loss: 0.1240 - val_accuracy: 0.9560\n",
      "Epoch 4/5\n",
      "1176/1176 [==============================] - 54s 46ms/step - loss: 0.1226 - accuracy: 0.9555 - val_loss: 0.1200 - val_accuracy: 0.9567\n",
      "Epoch 5/5\n",
      "1176/1176 [==============================] - 54s 46ms/step - loss: 0.1170 - accuracy: 0.9572 - val_loss: 0.1156 - val_accuracy: 0.9584\n"
     ]
    }
   ],
   "source": [
    "\n",
    "history = model.fit(train_data, \n",
    "                    validation_data=validation_data, \n",
    "                    epochs=5, \n",
    "                    callbacks=[early_stopping_callback])"
   ]
  },
  {
   "cell_type": "markdown",
   "metadata": {
    "colab_type": "text",
    "id": "XoDk8otmMoT7"
   },
   "source": [
    "## Evaluation"
   ]
  },
  {
   "cell_type": "markdown",
   "metadata": {
    "colab_type": "text",
    "id": "G5ZRKGOsXEh4"
   },
   "source": [
    "We can visualize the accuracy and loss curves for training and validation data using the `history` object returned by the `fit` method which contains the loss and accuracy value for each epoch."
   ]
  },
  {
   "cell_type": "code",
   "execution_count": 32,
   "metadata": {
    "ExecuteTime": {
     "end_time": "2021-02-03T09:00:06.247541Z",
     "start_time": "2021-02-03T09:00:05.725401Z"
    },
    "colab": {},
    "colab_type": "code",
    "execution": {
     "iopub.execute_input": "2020-11-24T16:42:57.609680Z",
     "iopub.status.busy": "2020-11-24T16:42:57.608666Z",
     "iopub.status.idle": "2020-11-24T16:42:57.866511Z",
     "shell.execute_reply": "2020-11-24T16:42:57.866933Z"
    },
    "id": "V6tOnByIOeGn"
   },
   "outputs": [
    {
     "data": {
      "image/png": "[encoded data removed]",
      "text/plain": [
       "<Figure size 432x288 with 1 Axes>"
      ]
     },
     "metadata": {
      "needs_background": "light"
     },
     "output_type": "display_data"
    },
    {
     "data": {
      "image/png": "[encoded data removed]",
      "text/plain": [
       "<Figure size 432x288 with 1 Axes>"
      ]
     },
     "metadata": {
      "needs_background": "light"
     },
     "output_type": "display_data"
    }
   ],
   "source": [
    "# Plot training & validation accuracy values\n",
    "plt.plot(history.history['accuracy'])\n",
    "plt.plot(history.history['val_accuracy'])\n",
    "plt.title('Model accuracy')\n",
    "plt.ylabel('Accuracy')\n",
    "plt.xlabel('Epoch')\n",
    "plt.legend(['Train', 'Test'], loc='upper left')\n",
    "plt.show()\n",
    "\n",
    "# Plot training & validation loss values\n",
    "plt.plot(history.history['loss'])\n",
    "plt.plot(history.history['val_loss'])\n",
    "plt.title('Model loss')\n",
    "plt.ylabel('Loss')\n",
    "plt.xlabel('Epoch')\n",
    "plt.legend(['Train', 'Test'], loc='upper left')\n",
    "plt.show()"
   ]
  },
  {
   "cell_type": "markdown",
   "metadata": {
    "colab_type": "text",
    "id": "D54IXLqcG8Cq"
   },
   "source": [
    "## Prediction\n",
    "\n",
    "We can get the predictions for the validation data and check the confusion matrix to see the model's performance for each of the 5 classes. As `predict` method returns us the n-d array for probabilities for each class which we convert to class labels using `np.argmax`."
   ]
  },
  {
   "cell_type": "code",
   "execution_count": 33,
   "metadata": {
    "ExecuteTime": {
     "end_time": "2021-02-03T09:00:20.996089Z",
     "start_time": "2021-02-03T09:00:10.358196Z"
    },
    "colab": {},
    "colab_type": "code",
    "execution": {
     "iopub.execute_input": "2020-11-24T16:42:57.871415Z",
     "iopub.status.busy": "2020-11-24T16:42:57.870694Z",
     "iopub.status.idle": "2020-11-24T16:43:07.806080Z",
     "shell.execute_reply": "2020-11-24T16:43:07.805539Z"
    },
    "id": "dptEywzZJk4l"
   },
   "outputs": [],
   "source": [
    "y_pred = model.predict(validation_data)"
   ]
  },
  {
   "cell_type": "code",
   "execution_count": 34,
   "metadata": {
    "ExecuteTime": {
     "end_time": "2021-02-03T09:00:27.190886Z",
     "start_time": "2021-02-03T09:00:27.186523Z"
    },
    "colab": {},
    "colab_type": "code",
    "execution": {
     "iopub.execute_input": "2020-11-24T16:43:07.810300Z",
     "iopub.status.busy": "2020-11-24T16:43:07.809446Z",
     "iopub.status.idle": "2020-11-24T16:43:07.812225Z",
     "shell.execute_reply": "2020-11-24T16:43:07.812668Z"
    },
    "id": "7Dzeml6Pk0ub"
   },
   "outputs": [],
   "source": [
    "y_pred = np.argmax(y_pred, axis=1)"
   ]
  },
  {
   "cell_type": "code",
   "execution_count": 48,
   "metadata": {
    "ExecuteTime": {
     "end_time": "2021-02-03T09:42:34.656036Z",
     "start_time": "2021-02-03T09:42:34.327721Z"
    },
    "colab": {},
    "colab_type": "code",
    "execution": {
     "iopub.execute_input": "2020-11-24T16:43:07.817484Z",
     "iopub.status.busy": "2020-11-24T16:43:07.816904Z",
     "iopub.status.idle": "2020-11-24T16:43:07.820741Z",
     "shell.execute_reply": "2020-11-24T16:43:07.821123Z"
    },
    "id": "T4M3Lzg8jHcB"
   },
   "outputs": [
    {
     "name": "stdout",
     "output_type": "stream",
     "text": [
      "\n",
      "১৯৫৬ সালে মুক্তি পায় প্রথম বাংলা সবাক চলচ্চিত্র মুখ ও মুখোশ। সেই থেকে হিসাব করলে ঢাকাই ছবির বয়স এখন\n",
      "True Class:  data\n",
      "Predicted Class:  state\n",
      "[[ -2.649796  -10.74634     5.7262025   2.6421487  -5.549014 ]]\n",
      "[2]\n",
      "entertainment\n",
      "\n",
      "শরীয়তপুরের জাজিরা ও মাদারীপুর সদরে দুজন খুন হয়েছেন। গতকাল বুধবার তাঁদের লাশ উদ্ধার করা হয়।জাজিরায় ন\n",
      "True Class:  data\n",
      "Predicted Class:  state\n",
      "[[-5.418692  -9.705528  -5.0251884  7.6198287 -3.4777963]]\n",
      "[3]\n",
      "state\n",
      "\n",
      "প্রায় সব দলই ব্রাজিল বিশ্বকাপ মিশনে বিমান ধরতে শুরু করেছে। ক্যামেরুন দলেরও কথা ছিল আজ উড়ানে চেপে \n",
      "True Class:  data\n",
      "Predicted Class:  state\n",
      "[[-5.5171413  4.7657537 -2.7359385 -4.6173625 -2.181414 ]]\n",
      "[1]\n",
      "sports\n",
      "\n",
      "চাঁদপুরের মেঘনা নদীতে এমভি হেকমত নামের একটি তেলবাহী ট্যাংকারের ধাক্কায় এমভি চিতলমারী নামের ক্লিংকার\n",
      "True Class:  data\n",
      "Predicted Class:  entertainment\n",
      "[[-0.7766659 -8.105987  -7.0528946  4.316033  -5.3722806]]\n",
      "[3]\n",
      "state\n",
      "\n",
      "বেসরকারি উন্নয়ন সহযোগী সংস্থা অ্যাসোসিয়েশন অব ডেভেলপমেন্ট এজেন্সিজ ইন বাংলাদেশের (এডাব) রাজবাড়ী জেল\n",
      "True Class:  data\n",
      "Predicted Class:  state\n",
      "[[-0.2633681 -5.3306723 -4.7711973  3.0985641 -5.159971 ]]\n",
      "[3]\n",
      "state\n"
     ]
    }
   ],
   "source": [
    "samples = file_paths[0:5]\n",
    "for i, sample in enumerate(samples):\n",
    "    f = open(sample)\n",
    "    text = f.read()\n",
    "    print(text[0:100])\n",
    "    print(\"True Class: \", sample.split(\"/\")[0])\n",
    "    print(\"Predicted Class: \", dir_names[y_pred[i]])\n",
    "    f.close()\n",
    "\n",
    "    predict = model.predict([text])\n",
    "    print(predict)\n",
    "    predict = np.argmax(predict, axis=1)\n",
    "    print(predict)\n",
    "    print(dir_names[predict[0]])"
   ]
  },
  {
   "cell_type": "markdown",
   "metadata": {
    "colab_type": "text",
    "id": "PlDTIpMBu6h-"
   },
   "source": [
    "## Compare Performance\n",
    "\n",
    "Now we can take the correct labels for the validation data from `labels`  and compare it with our predictions to get the [classification_report](http://scikit-learn.org/stable/modules/generated/sklearn.metrics.classification_report.html). "
   ]
  },
  {
   "cell_type": "code",
   "execution_count": 36,
   "metadata": {
    "ExecuteTime": {
     "end_time": "2021-02-03T09:00:35.381881Z",
     "start_time": "2021-02-03T09:00:35.377989Z"
    },
    "colab": {},
    "colab_type": "code",
    "execution": {
     "iopub.execute_input": "2020-11-24T16:43:07.824531Z",
     "iopub.status.busy": "2020-11-24T16:43:07.823980Z",
     "iopub.status.idle": "2020-11-24T16:43:07.826336Z",
     "shell.execute_reply": "2020-11-24T16:43:07.825847Z"
    },
    "id": "mqrERUCS1Xn7"
   },
   "outputs": [],
   "source": [
    "y_true = np.array(labels[train_size:])"
   ]
  },
  {
   "cell_type": "code",
   "execution_count": 38,
   "metadata": {
    "ExecuteTime": {
     "end_time": "2021-02-03T09:00:43.568020Z",
     "start_time": "2021-02-03T09:00:43.448285Z"
    },
    "colab": {},
    "colab_type": "code",
    "execution": {
     "iopub.execute_input": "2020-11-24T16:43:07.829938Z",
     "iopub.status.busy": "2020-11-24T16:43:07.829389Z",
     "iopub.status.idle": "2020-11-24T16:43:07.943196Z",
     "shell.execute_reply": "2020-11-24T16:43:07.943611Z"
    },
    "id": "NX5w-NuTKuVP"
   },
   "outputs": [
    {
     "name": "stdout",
     "output_type": "stream",
     "text": [
      "               precision    recall  f1-score   support\n",
      "\n",
      "      economy       0.79      0.83      0.81      3897\n",
      "       sports       0.98      0.99      0.98     10204\n",
      "entertainment       0.92      0.94      0.93      6256\n",
      "        state       0.98      0.97      0.97     48512\n",
      "international       0.93      0.92      0.93      6377\n",
      "\n",
      "     accuracy                           0.96     75246\n",
      "    macro avg       0.92      0.93      0.93     75246\n",
      " weighted avg       0.96      0.96      0.96     75246\n",
      "\n"
     ]
    }
   ],
   "source": [
    "print(classification_report(y_true, y_pred, target_names=dir_names))"
   ]
  },
  {
   "cell_type": "markdown",
   "metadata": {
    "colab_type": "text",
    "id": "p5e9m3bV6oXK"
   },
   "source": [
    "We can also compare our model's performance with the published results obtained in the original [paper](https://www.researchgate.net/publication/328214545_BARD_Bangla_Article_Classification_Using_a_New_Comprehensive_Dataset) who report a 0.96 precision .The original authors described many preprocessing steps done on the dataset like dropping punctuations and digits, removing top 25 most frequest stop words. As we can see in the classification_report, we also gain a 0.96 precision and accuracy after training only 5 epochs without any preprocessing! \n",
    "\n",
    "In this example when we created the Keras layer from our embedding module we set `trainable=False`, which means the embedding weights will not be updated during training. Try setting it to True to reach 97% accuracy with this dataset with only 2 epochs. "
   ]
  }
 ],
 "metadata": {
  "colab": {
   "collapsed_sections": [
    "IDdZSPcLtKx4"
   ],
   "name": "Bangla article classifier.ipynb",
   "private_outputs": true,
   "provenance": [],
   "toc_visible": true
  },
  "kernelspec": {
   "display_name": "Python 3",
   "language": "python",
   "name": "python3"
  },
  "language_info": {
   "codemirror_mode": {
    "name": "ipython",
    "version": 3
   },
   "file_extension": ".py",
   "mimetype": "text/x-python",
   "name": "python",
   "nbconvert_exporter": "python",
   "pygments_lexer": "ipython3",
   "version": "3.6.9"
  },
  "toc": {
   "base_numbering": 1,
   "nav_menu": {},
   "number_sections": true,
   "sideBar": true,
   "skip_h1_title": false,
   "title_cell": "Table of Contents",
   "title_sidebar": "Contents",
   "toc_cell": false,
   "toc_position": {},
   "toc_section_display": true,
   "toc_window_display": true
  }
 },
 "nbformat": 4,
 "nbformat_minor": 1
}
