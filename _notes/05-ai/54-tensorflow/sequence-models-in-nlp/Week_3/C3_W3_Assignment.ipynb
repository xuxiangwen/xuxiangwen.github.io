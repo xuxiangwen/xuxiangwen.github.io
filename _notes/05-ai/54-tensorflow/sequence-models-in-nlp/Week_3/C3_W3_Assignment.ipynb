{
 "cells": [
  {
   "cell_type": "markdown",
   "metadata": {
    "colab_type": "text",
    "id": "C7oVbe_pLr3C"
   },
   "source": [
    "# Assignment 3 - Named Entity Recognition (NER)\n",
    "\n",
    "Welcome to the third programming assignment of Course 3. In this assignment, you will learn to build more complicated models with Trax. By completing this assignment, you will be able to: \n",
    "\n",
    "- Design the architecture of a neural network, train it, and test it. \n",
    "- Process features and represents them\n",
    "- Understand word padding\n",
    "- Implement LSTMs\n",
    "- Test with your own sentence\n",
    "\n",
    "## Outline\n",
    "- [Introduction](#0)\n",
    "- [Part 1:  Exploring the data](#1)\n",
    "    - [1.1  Importing the Data](#1.1)\n",
    "    - [1.2  Data generator](#1.2)\n",
    "\t\t- [Exercise 01](#ex01)\n",
    "- [Part 2:  Building the model](#2)\n",
    "\t- [Exercise 02](#ex02)\n",
    "- [Part 3:  Train the Model ](#3)\n",
    "\t- [Exercise 03](#ex03)\n",
    "- [Part 4:  Compute Accuracy](#4)\n",
    "\t- [Exercise 04](#ex04)\n",
    "- [Part 5:  Testing with your own sentence](#5)\n"
   ]
  },
  {
   "cell_type": "markdown",
   "metadata": {
    "colab_type": "text",
    "id": "ftT-5-yynCtl"
   },
   "source": [
    "<a name=\"0\"></a>\n",
    "# Introduction\n",
    "\n",
    "We first start by defining named entity recognition (NER). NER is a subtask of information extraction that locates and classifies named entities in a text. The named entities could be organizations, persons, locations, times, etc. \n",
    "\n",
    "For example:\n",
    "\n",
    "<img src = 'ner.png' width=\"width\" height=\"height\" style=\"width:600px;height:150px;\"/>\n",
    "\n",
    "Is labeled as follows: \n",
    "\n",
    "- French: geopolitical entity\n",
    "- Morocco: geographic entity \n",
    "- Christmas: time indicator\n",
    "\n",
    "Everything else that is labeled with an `O` is not considered to be a named entity. In this assignment, you will train a named entity recognition system that could be trained in a few seconds (on a GPU) and will get around 75% accuracy. Then, you will load in the exact version of your model, which was trained for a longer period of time. You could then evaluate the trained version of your model to get 96% accuracy! Finally, you will be able to test your named entity recognition system with your own sentence."
   ]
  },
  {
   "cell_type": "code",
   "execution_count": 13,
   "metadata": {
    "ExecuteTime": {
     "end_time": "2021-08-17T14:39:30.148246Z",
     "start_time": "2021-08-17T14:39:30.135205Z"
    },
    "colab": {
     "base_uri": "https://localhost:8080/",
     "height": 459
    },
    "colab_type": "code",
    "id": "JEY_jlQQR9SP",
    "outputId": "825f37fd-cf03-483a-a6b1-3d70da6f70f1",
    "scrolled": true
   },
   "outputs": [],
   "source": [
    "#!pip -q install trax==1.3.1\n",
    "\n",
    "import trax \n",
    "from trax import layers as tl\n",
    "import os \n",
    "import numpy as np\n",
    "import pandas as pd\n",
    "\n",
    "\n",
    "from utils import get_params, get_vocab\n",
    "import random as rnd\n",
    "\n",
    "# set random seeds to make this notebook easier to replicate\n",
    "# trax.supervised.trainer_lib.init_random_number_generators(33)\n",
    "\n",
    "# ebablbe auto-completion\n",
    "%config Completer.use_jedi = False\n"
   ]
  },
  {
   "cell_type": "markdown",
   "metadata": {
    "colab_type": "text",
    "id": "_PpjG5MuLr3F"
   },
   "source": [
    "<a name=\"1\"></a>\n",
    "# Part 1:  Exploring the data\n",
    "\n",
    "We will be using a dataset from Kaggle, which we will preprocess for you. The original data consists of four columns, the sentence number, the word, the part of speech of the word, and the tags.  A few tags you might expect to see are: \n",
    "\n",
    "* geo: geographical entity\n",
    "* org: organization\n",
    "* per: person \n",
    "* gpe: geopolitical entity\n",
    "* tim: time indicator\n",
    "* art: artifact\n",
    "* eve: event\n",
    "* nat: natural phenomenon\n",
    "* O: filler word\n"
   ]
  },
  {
   "cell_type": "code",
   "execution_count": 4,
   "metadata": {
    "ExecuteTime": {
     "end_time": "2021-08-17T13:54:40.024842Z",
     "start_time": "2021-08-17T13:54:39.524320Z"
    },
    "colab": {
     "base_uri": "https://localhost:8080/",
     "height": 170
    },
    "colab_type": "code",
    "id": "-Jur1JnXnCtr",
    "outputId": "88584ab6-0a15-489b-db5b-eb474e129c4f",
    "scrolled": true
   },
   "outputs": [
    {
     "name": "stdout",
     "output_type": "stream",
     "text": [
      "SENTENCE: Thousands of demonstrators have marched through London to protest the war in Iraq and demand the withdrawal of British troops from that country .\n",
      "\n",
      "SENTENCE LABEL: O O O O O O B-geo O O O O O B-geo O O O O O B-gpe O O O O O\n",
      "\n",
      "ORIGINAL DATA:\n",
      "     Sentence #           Word  POS Tag\n",
      "0  Sentence: 1      Thousands  NNS   O\n",
      "1          NaN             of   IN   O\n",
      "2          NaN  demonstrators  NNS   O\n",
      "3          NaN           have  VBP   O\n",
      "4          NaN        marched  VBN   O\n"
     ]
    }
   ],
   "source": [
    "# display original kaggle data\n",
    "data = pd.read_csv(\"data/ner_dataset.csv\", encoding = \"ISO-8859-1\") \n",
    "train_sents = open('data/small/train/sentences.txt', 'r').readline()\n",
    "train_labels = open('data/small/train/labels.txt', 'r').readline()\n",
    "print('SENTENCE:', train_sents)\n",
    "print('SENTENCE LABEL:', train_labels)\n",
    "print('ORIGINAL DATA:\\n', data.head(5))\n",
    "del(data, train_sents, train_labels)"
   ]
  },
  {
   "cell_type": "markdown",
   "metadata": {
    "colab_type": "text",
    "id": "xoH6yBWVfzTb"
   },
   "source": [
    "<a name=\"1.1\"></a>\n",
    "## 1.1  Importing the Data\n",
    "\n",
    "In this part, we will import the preprocessed data and explore it."
   ]
  },
  {
   "cell_type": "code",
   "execution_count": 5,
   "metadata": {
    "ExecuteTime": {
     "end_time": "2021-08-17T13:55:09.223318Z",
     "start_time": "2021-08-17T13:55:08.597565Z"
    },
    "colab": {},
    "colab_type": "code",
    "id": "UauHjIKHWC0N",
    "scrolled": true
   },
   "outputs": [],
   "source": [
    "vocab, tag_map = get_vocab('data/large/words.txt', 'data/large/tags.txt')\n",
    "t_sentences, t_labels, t_size = get_params(vocab, tag_map, 'data/large/train/sentences.txt', 'data/large/train/labels.txt')\n",
    "v_sentences, v_labels, v_size = get_params(vocab, tag_map, 'data/large/val/sentences.txt', 'data/large/val/labels.txt')\n",
    "test_sentences, test_labels, test_size = get_params(vocab, tag_map, 'data/large/test/sentences.txt', 'data/large/test/labels.txt')"
   ]
  },
  {
   "cell_type": "code",
   "execution_count": 9,
   "metadata": {
    "ExecuteTime": {
     "end_time": "2021-08-17T13:56:05.647645Z",
     "start_time": "2021-08-17T13:56:05.644148Z"
    }
   },
   "outputs": [
    {
     "name": "stdout",
     "output_type": "stream",
     "text": [
      "35181 <class 'dict'>\n",
      "{'O': 0, 'B-geo': 1, 'B-gpe': 2, 'B-per': 3, 'I-geo': 4, 'B-org': 5, 'I-org': 6, 'B-tim': 7, 'B-art': 8, 'I-art': 9, 'I-per': 10, 'I-gpe': 11, 'I-tim': 12, 'B-nat': 13, 'B-eve': 14, 'I-eve': 15, 'I-nat': 16} <class 'dict'>\n"
     ]
    }
   ],
   "source": [
    "print(len(vocab), type(vocab))\n",
    "print(tag_map, type(tag_map))"
   ]
  },
  {
   "cell_type": "markdown",
   "metadata": {
    "colab_type": "text",
    "id": "mcQi6EmWnCty"
   },
   "source": [
    "`vocab` is a dictionary that translates a word string to a unique number. Given a sentence, you can represent it as an array of numbers translating with this dictionary. The dictionary contains a `<PAD>` token. \n",
    "\n",
    "When training an LSTM using batches, all your input sentences must be the same size. To accomplish this, you set the length of your sentences to a certain number and add the generic `<PAD>` token to fill all the empty spaces. "
   ]
  },
  {
   "cell_type": "code",
   "execution_count": 10,
   "metadata": {
    "ExecuteTime": {
     "end_time": "2021-08-17T13:56:22.239127Z",
     "start_time": "2021-08-17T13:56:22.235532Z"
    },
    "colab": {
     "base_uri": "https://localhost:8080/",
     "height": 51
    },
    "colab_type": "code",
    "id": "sm2P8y7zNgdU",
    "outputId": "1f1d077a-7c57-42df-fb67-48dd00da39ca",
    "scrolled": true
   },
   "outputs": [
    {
     "name": "stdout",
     "output_type": "stream",
     "text": [
      "vocab[\"the\"]: 9\n",
      "padded token: 35180\n"
     ]
    }
   ],
   "source": [
    "# vocab translates from a word to a unique number\n",
    "print('vocab[\"the\"]:', vocab[\"the\"])\n",
    "# Pad token\n",
    "print('padded token:', vocab['<PAD>'])"
   ]
  },
  {
   "cell_type": "markdown",
   "metadata": {
    "colab_type": "text",
    "id": "IY6BTBjunCt1"
   },
   "source": [
    "The tag_map corresponds to one of the possible tags a word can have. Run the cell below to see the possible classes you will be predicting. The prepositions in the tags mean:\n",
    "* I: Token is inside an entity.\n",
    "* B: Token begins an entity."
   ]
  },
  {
   "cell_type": "code",
   "execution_count": 11,
   "metadata": {
    "ExecuteTime": {
     "end_time": "2021-08-17T13:57:18.932430Z",
     "start_time": "2021-08-17T13:57:18.929282Z"
    },
    "colab": {
     "base_uri": "https://localhost:8080/",
     "height": 54
    },
    "colab_type": "code",
    "id": "ZzMamaPcQXWP",
    "outputId": "4f04364c-a88c-4e77-f8bb-9bfcb422d5e9",
    "scrolled": true
   },
   "outputs": [
    {
     "name": "stdout",
     "output_type": "stream",
     "text": [
      "{'O': 0, 'B-geo': 1, 'B-gpe': 2, 'B-per': 3, 'I-geo': 4, 'B-org': 5, 'I-org': 6, 'B-tim': 7, 'B-art': 8, 'I-art': 9, 'I-per': 10, 'I-gpe': 11, 'I-tim': 12, 'B-nat': 13, 'B-eve': 14, 'I-eve': 15, 'I-nat': 16}\n"
     ]
    }
   ],
   "source": [
    "print(tag_map)"
   ]
  },
  {
   "cell_type": "markdown",
   "metadata": {
    "colab_type": "text",
    "id": "3F1sUP_MnCt5"
   },
   "source": [
    "So the coding scheme that tags the entities is a minimal one where B- indicates the first token in a multi-token entity, and I- indicates one in the middle of a multi-token entity. If you had the sentence \n",
    "\n",
    "**\"Sharon flew to Miami on Friday\"**\n",
    "\n",
    "the outputs would look like:\n",
    "\n",
    "```\n",
    "Sharon B-per\n",
    "flew   O\n",
    "to     O\n",
    "Miami  B-geo\n",
    "on     O\n",
    "Friday B-tim\n",
    "```\n",
    "\n",
    "your tags would reflect three tokens beginning with B-, since there are no multi-token entities in the sequence. But if you added Sharon's last name to the sentence: \n",
    "\n",
    "**\"Sharon Floyd flew to Miami on Friday\"**\n",
    "\n",
    "```\n",
    "Sharon B-per\n",
    "Floyd  I-per\n",
    "flew   O\n",
    "to     O\n",
    "Miami  B-geo\n",
    "on     O\n",
    "Friday B-tim\n",
    "```\n",
    "\n",
    "then your tags would change to show first \"Sharon\" as B-per, and \"Floyd\" as I-per, where I- indicates an inner token in a multi-token sequence."
   ]
  },
  {
   "cell_type": "code",
   "execution_count": 12,
   "metadata": {
    "ExecuteTime": {
     "end_time": "2021-08-17T13:58:03.449315Z",
     "start_time": "2021-08-17T13:58:03.443927Z"
    },
    "colab": {
     "base_uri": "https://localhost:8080/",
     "height": 136
    },
    "colab_type": "code",
    "id": "xM9B_Rwxd01i",
    "outputId": "db098ed6-4351-41f7-cfdb-e45dd3798ebf",
    "scrolled": true
   },
   "outputs": [
    {
     "name": "stdout",
     "output_type": "stream",
     "text": [
      "The number of outputs is tag_map 17\n",
      "Num of vocabulary words: 35181\n",
      "The vocab size is 35181\n",
      "The training size is 33570\n",
      "The validation size is 7194\n",
      "An example of the first sentence is [0, 1, 2, 3, 4, 5, 6, 7, 8, 9, 10, 11, 12, 13, 14, 9, 15, 1, 16, 17, 18, 19, 20, 21]\n",
      "An example of its corresponding label is [0, 0, 0, 0, 0, 0, 1, 0, 0, 0, 0, 0, 1, 0, 0, 0, 0, 0, 2, 0, 0, 0, 0, 0]\n"
     ]
    }
   ],
   "source": [
    "# Exploring information about the data\n",
    "print('The number of outputs is tag_map', len(tag_map))\n",
    "# The number of vocabulary tokens (including <PAD>)\n",
    "g_vocab_size = len(vocab)\n",
    "print(f\"Num of vocabulary words: {g_vocab_size}\")\n",
    "print('The vocab size is', len(vocab))\n",
    "print('The training size is', t_size)\n",
    "print('The validation size is', v_size)\n",
    "print('An example of the first sentence is', t_sentences[0])\n",
    "print('An example of its corresponding label is', t_labels[0])"
   ]
  },
  {
   "cell_type": "markdown",
   "metadata": {
    "colab_type": "text",
    "id": "IPd5a-4_nCt8"
   },
   "source": [
    "So you can see that we have already encoded each sentence into a tensor by converting it into a number. We also have 16 possible classes, as shown in the tag map.\n",
    "\n",
    "\n",
    "<a name=\"1.2\"></a>\n",
    "## 1.2  Data generator\n",
    "\n",
    "In python, a generator is a function that behaves like an iterator. It will return the next item. Here is a [link](https://wiki.python.org/moin/Generators) to review python generators. \n",
    "\n",
    "In many AI applications it is very useful to have a data generator. You will now implement a data generator for our NER application.\n",
    "\n",
    "<a name=\"ex01\"></a>\n",
    "### Exercise 01\n",
    "\n",
    "**Instructions:** Implement a data generator function that takes in `batch_size, x, y, pad, shuffle` where x is a large list of sentences, and y is a list of the tags associated with those sentences and pad is a pad value. Return a subset of those inputs in a tuple of two arrays `(X,Y)`. Each is an array of dimension (`batch_size, max_len`), where `max_len` is the length of the longest sentence *in that batch*. You will pad the X and Y examples with the pad argument. If `shuffle=True`, the data will be traversed in a random form.\n",
    "\n",
    "**Details:**\n",
    "\n",
    "This code as an outer loop  \n",
    "```\n",
    "while True:  \n",
    "...  \n",
    "yield((X,Y))  \n",
    "```\n",
    "\n",
    "Which runs continuously in the fashion of generators, pausing when yielding the next values. We will generate a batch_size output on each pass of this loop.    \n",
    "\n",
    "It has two inner loops. \n",
    "1. The first stores in temporal lists the data samples to be included in the next batch, and finds the maximum length of the sentences contained in it. By adjusting the length to include only the size of the longest sentence in each batch, overall computation is reduced. \n",
    "\n",
    "2. The second loop moves those inputs from the temporal list into NumPy arrays pre-filled with pad values.\n",
    "\n",
    "There are three slightly out of the ordinary features. \n",
    "1. The first is the use of the NumPy `full` function to fill the NumPy arrays with a pad value. See [full function documentation](https://numpy.org/doc/1.18/reference/generated/numpy.full.html).\n",
    "\n",
    "2. The second is tracking the current location in the incoming lists of sentences. Generators variables hold their values between invocations, so we create an `index` variable, initialize to zero, and increment by one for each sample included in a batch. However, we do not use the `index` to access the positions of the list of sentences directly. Instead, we use it to select one index from a list of indexes. In this way, we can change the order in which we traverse our original list, keeping untouched our original list.  \n",
    "\n",
    "3. The third also relates to wrapping. Because `batch_size` and the length of the input lists are not aligned, gathering a batch_size group of inputs may involve wrapping back to the beginning of the input loop. In our approach, it is just enough to reset the `index` to 0. We can re-shuffle the list of indexes to produce different batches each time."
   ]
  },
  {
   "cell_type": "code",
   "execution_count": 16,
   "metadata": {
    "ExecuteTime": {
     "end_time": "2021-08-17T14:55:20.930313Z",
     "start_time": "2021-08-17T14:55:20.925720Z"
    }
   },
   "outputs": [
    {
     "data": {
      "text/plain": [
       "array([[35180, 35180],\n",
       "       [35180, 35180]])"
      ]
     },
     "execution_count": 16,
     "metadata": {},
     "output_type": "execute_result"
    }
   ],
   "source": [
    "np.full((2, 2), vocab['<PAD>'])"
   ]
  },
  {
   "cell_type": "code",
   "execution_count": 17,
   "metadata": {
    "ExecuteTime": {
     "end_time": "2021-08-17T14:59:40.270157Z",
     "start_time": "2021-08-17T14:59:40.257234Z"
    },
    "colab": {},
    "colab_type": "code",
    "id": "tP7zQC8knCt_",
    "scrolled": true
   },
   "outputs": [],
   "source": [
    "# UNQ_C1 (UNIQUE CELL IDENTIFIER, DO NOT EDIT)\n",
    "# GRADED FUNCTION: data_generator\n",
    "def data_generator(batch_size, x, y, pad, shuffle=False, verbose=False):\n",
    "    '''\n",
    "      Input: \n",
    "        batch_size - integer describing the batch size\n",
    "        x - list containing sentences where words are represented as integers\n",
    "        y - list containing tags associated with the sentences\n",
    "        shuffle - Shuffle the data order\n",
    "        pad - an integer representing a pad character\n",
    "        verbose - Print information during runtime\n",
    "      Output:\n",
    "        a tuple containing 2 elements:\n",
    "        X - np.ndarray of dim (batch_size, max_len) of padded sentences\n",
    "        Y - np.ndarray of dim (batch_size, max_len) of tags associated with the sentences in X\n",
    "    '''\n",
    "    \n",
    "    # count the number of lines in data_lines\n",
    "    num_lines = len(x)\n",
    "    \n",
    "    # create an array with the indexes of data_lines that can be shuffled\n",
    "    lines_index = [*range(num_lines)]\n",
    "    \n",
    "    # shuffle the indexes if shuffle is set to True\n",
    "    if shuffle:\n",
    "        rnd.shuffle(lines_index)\n",
    "    \n",
    "    index = 0 # tracks current location in x, y\n",
    "    while True:\n",
    "        buffer_x = [0] * batch_size # Temporal array to store the raw x data for this batch\n",
    "        buffer_y = [0] * batch_size # Temporal array to store the raw y data for this batch\n",
    "                \n",
    "  ### START CODE HERE (Replace instances of 'None' with your code) ###\n",
    "        \n",
    "        # Copy into the temporal buffers the sentences in x[index : index + batch_size] \n",
    "        # along with their corresponding labels y[index : index + batch_size]\n",
    "        # Find maximum length of sentences in x[index : index + batch_size] for this batch. \n",
    "        # Reset the index if we reach the end of the data set, and shuffle the indexes if needed.\n",
    "        max_len = 0\n",
    "        for i in range(batch_size):\n",
    "             # if the index is greater than or equal to the number of lines in x\n",
    "            if index >= num_lines:\n",
    "                # then reset the index to 0\n",
    "                index = 0\n",
    "                # re-shuffle the indexes if shuffle is set to True\n",
    "                if shuffle:\n",
    "                    rnd.shuffle(lines_index)\n",
    "            \n",
    "            # The current position is obtained using `lines_index[index]`\n",
    "            # Store the x value at the current position into the buffer_x\n",
    "            buffer_x[i] = x[lines_index[index]]\n",
    "            \n",
    "            # Store the y value at the current position into the buffer_y\n",
    "            buffer_y[i] = y[lines_index[index]]\n",
    "            \n",
    "            lenx = len(buffer_x[i])    #length of current x[]\n",
    "            if lenx > max_len:\n",
    "                max_len = lenx                   #max_len tracks longest x[]\n",
    "            \n",
    "            # increment index by one\n",
    "            index += 1\n",
    "\n",
    "\n",
    "        # create X,Y, NumPy arrays of size (batch_size, max_len) 'full' of pad value\n",
    "        X = np.full((batch_size, max_len), pad)\n",
    "        Y = np.full((batch_size, max_len), pad)\n",
    "\n",
    "        # copy values from lists to NumPy arrays. Use the buffered values\n",
    "        for i in range(batch_size):\n",
    "            # get the example (sentence as a tensor)\n",
    "            # in `buffer_x` at the `i` index\n",
    "            x_i = buffer_x[i]\n",
    "            \n",
    "            # similarly, get the example's labels\n",
    "            # in `buffer_y` at the `i` index\n",
    "            y_i = buffer_y[i]\n",
    "            \n",
    "            # Walk through each word in x_i\n",
    "            for j in range(len(x_i)):\n",
    "                # store the word in x_i at position j into X\n",
    "                X[i, j] = x_i[j]\n",
    "                \n",
    "                # store the label in y_i at position j into Y\n",
    "                Y[i, j] = y_i[j]\n",
    "\n",
    "    ### END CODE HERE ###\n",
    "        if verbose: print(\"index=\", index)\n",
    "        yield((X,Y))"
   ]
  },
  {
   "cell_type": "code",
   "execution_count": 19,
   "metadata": {
    "ExecuteTime": {
     "end_time": "2021-08-17T14:59:59.034971Z",
     "start_time": "2021-08-17T14:59:59.028291Z"
    },
    "colab": {
     "base_uri": "https://localhost:8080/",
     "height": 170
    },
    "colab_type": "code",
    "id": "s3fwE3PMhOW4",
    "outputId": "12022225-1498-4acb-c0c8-cd02b71c091d",
    "scrolled": true
   },
   "outputs": [
    {
     "name": "stdout",
     "output_type": "stream",
     "text": [
      "index= 5\n",
      "index= 2\n",
      "(5, 30) (5, 30) (5, 30) (5, 30)\n",
      "[    0     1     2     3     4     5     6     7     8     9    10    11\n",
      "    12    13    14     9    15     1    16    17    18    19    20    21\n",
      " 35180 35180 35180 35180 35180 35180] \n",
      " [    0     0     0     0     0     0     1     0     0     0     0     0\n",
      "     1     0     0     0     0     0     2     0     0     0     0     0\n",
      " 35180 35180 35180 35180 35180 35180]\n"
     ]
    }
   ],
   "source": [
    "batch_size = 5\n",
    "mini_sentences = t_sentences[0: 8]\n",
    "mini_labels = t_labels[0: 8]\n",
    "dg = data_generator(batch_size, mini_sentences, mini_labels, vocab[\"<PAD>\"], shuffle=False, verbose=True)\n",
    "X1, Y1 = next(dg)\n",
    "X2, Y2 = next(dg)\n",
    "print(Y1.shape, X1.shape, Y2.shape, X2.shape)\n",
    "print(X1[0][:], \"\\n\", Y1[0][:])"
   ]
  },
  {
   "cell_type": "markdown",
   "metadata": {
    "colab_type": "text",
    "id": "W-qWOhFunCuH"
   },
   "source": [
    "**Expected output:**   \n",
    "```\n",
    "index= 5\n",
    "index= 2\n",
    "(5, 30) (5, 30) (5, 30) (5, 30)\n",
    "[    0     1     2     3     4     5     6     7     8     9    10    11\n",
    "    12    13    14     9    15     1    16    17    18    19    20    21\n",
    " 35180 35180 35180 35180 35180 35180] \n",
    " [    0     0     0     0     0     0     1     0     0     0     0     0\n",
    "     1     0     0     0     0     0     2     0     0     0     0     0\n",
    " 35180 35180 35180 35180 35180 35180]  \n",
    "```"
   ]
  },
  {
   "cell_type": "markdown",
   "metadata": {
    "colab_type": "text",
    "id": "4SWxKhkVLr3P"
   },
   "source": [
    "<a name=\"2\"></a>\n",
    "# Part 2:  Building the model\n",
    "\n",
    "You will now implement the model. You will be using Google's TensorFlow. Your model will be able to distinguish the following:\n",
    "<table>\n",
    "    <tr>\n",
    "        <td>\n",
    "<img src = 'ner1.png' width=\"width\" height=\"height\" style=\"width:500px;height:150px;\"/>\n",
    "        </td>\n",
    "    </tr>\n",
    "</table>\n",
    "\n",
    "The model architecture will be as follows: \n",
    "\n",
    "<img src = 'ner2.png' width=\"width\" height=\"height\" style=\"width:600px;height:250px;\"/>\n",
    "\n",
    "Concretely: \n",
    "\n",
    "* Use the input tensors you built in your data generator\n",
    "* Feed it into an Embedding layer, to produce more semantic entries\n",
    "* Feed it into an LSTM layer\n",
    "* Run the output through a linear layer\n",
    "* Run the result through a log softmax layer to get the predicted class for each word.\n",
    "\n",
    "Good news! We won't make you implement the LSTM unit drawn above. However, we will ask you to build the model. \n",
    "\n",
    "<a name=\"ex02\"></a>\n",
    "### Exercise 02\n",
    "\n",
    "**Instructions:** Implement the initialization step and the forward function of your Named Entity Recognition system.  \n",
    "Please utilize help function e.g. `help(tl.Dense)` for more information on a layer\n",
    "   \n",
    "- [tl.Serial](https://github.com/google/trax/blob/1372b903bb66b0daccee19fd0b1fdf44f659330b/trax/layers/combinators.py#L26): Combinator that applies layers serially (by function composition).\n",
    "    - You can pass in the layers as arguments to `Serial`, separated by commas. \n",
    "    - For example: `tl.Serial(tl.Embeddings(...), tl.Mean(...), tl.Dense(...), tl.LogSoftmax(...))` \n",
    "\n",
    "\n",
    "-  [tl.Embedding](https://github.com/google/trax/blob/1372b903bb66b0daccee19fd0b1fdf44f659330b/trax/layers/core.py#L113): Initializes the embedding. In this case it is the dimension of the model by the size of the vocabulary. \n",
    "    - `tl.Embedding(vocab_size, d_feature)`.\n",
    "    - `vocab_size` is the number of unique words in the given vocabulary.\n",
    "    - `d_feature` is the number of elements in the word embedding (some choices for a word embedding size range from 150 to 300, for example).\n",
    "    \n",
    "\n",
    "-  [tl.LSTM](https://github.com/google/trax/blob/1372b903bb66b0daccee19fd0b1fdf44f659330b/trax/layers/rnn.py#L87):`Trax` LSTM layer of size d_model. \n",
    "    - `LSTM(n_units)` Builds an LSTM layer of n_cells.\n",
    "\n",
    "\n",
    "\n",
    "-  [tl.Dense](https://github.com/google/trax/blob/1372b903bb66b0daccee19fd0b1fdf44f659330b/trax/layers/core.py#L28):  A dense layer.\n",
    "    - `tl.Dense(n_units)`: The parameter `n_units` is the number of units chosen for this dense layer.  \n",
    "\n",
    "\n",
    "- [tl.LogSoftmax](https://github.com/google/trax/blob/1372b903bb66b0daccee19fd0b1fdf44f659330b/trax/layers/core.py#L242): Log of the output probabilities.\n",
    "    - Here, you don't need to set any parameters for `LogSoftMax()`.\n",
    " \n",
    "\n",
    "**Online documentation**\n",
    "\n",
    "- [tl.Serial](https://trax-ml.readthedocs.io/en/latest/trax.layers.html#module-trax.layers.combinators)\n",
    "\n",
    "- [tl.Embedding](https://trax-ml.readthedocs.io/en/latest/trax.layers.html#trax.layers.core.Embedding)\n",
    "\n",
    "-  [tl.LSTM](https://trax-ml.readthedocs.io/en/latest/trax.layers.html#trax.layers.rnn.LSTM)\n",
    "\n",
    "-  [tl.Dense](https://trax-ml.readthedocs.io/en/latest/trax.layers.html#trax.layers.core.Dense)\n",
    "\n",
    "- [tl.LogSoftmax](https://trax-ml.readthedocs.io/en/latest/trax.layers.html#trax.layers.core.LogSoftmax)    "
   ]
  },
  {
   "cell_type": "code",
   "execution_count": 22,
   "metadata": {
    "ExecuteTime": {
     "end_time": "2021-08-17T15:04:14.579932Z",
     "start_time": "2021-08-17T15:04:14.575489Z"
    },
    "colab": {},
    "colab_type": "code",
    "id": "vL5u72u8Lr3Q",
    "scrolled": true
   },
   "outputs": [],
   "source": [
    "# UNQ_C2 (UNIQUE CELL IDENTIFIER, DO NOT EDIT)\n",
    "# GRADED FUNCTION: NER\n",
    "def NER(vocab_size=35181, d_model=50, tags=tag_map):\n",
    "    '''\n",
    "      Input: \n",
    "        vocab_size - integer containing the size of the vocabulary\n",
    "        d_model - integer describing the embedding size\n",
    "      Output:\n",
    "        model - a trax serial model\n",
    "    '''\n",
    "    ### START CODE HERE (Replace instances of 'None' with your code) ###\n",
    "    model = tl.Serial(\n",
    "      tl.Embedding(vocab_size=vocab_size, d_feature=d_model), # Embedding layer\n",
    "      tl.LSTM(n_units=d_model), # LSTM layer \n",
    "      tl.Dense(len(tag_map)), # Dense layer with len(tags) units\n",
    "      tl.LogSoftmax()  # LogSoftmax layer\n",
    "      )\n",
    "      ### END CODE HERE ###\n",
    "    return model"
   ]
  },
  {
   "cell_type": "code",
   "execution_count": 23,
   "metadata": {
    "ExecuteTime": {
     "end_time": "2021-08-17T15:04:16.503843Z",
     "start_time": "2021-08-17T15:04:16.499690Z"
    },
    "colab": {
     "base_uri": "https://localhost:8080/",
     "height": 119
    },
    "colab_type": "code",
    "id": "BrGdYpPvLr3U",
    "outputId": "3a3e721c-8e63-40ac-f8fa-e500f0abdad5",
    "scrolled": true
   },
   "outputs": [
    {
     "name": "stdout",
     "output_type": "stream",
     "text": [
      "Serial[\n",
      "  Embedding_35181_50\n",
      "  LSTM_50\n",
      "  Dense_17\n",
      "  LogSoftmax\n",
      "]\n"
     ]
    }
   ],
   "source": [
    "# initializing your model\n",
    "model = NER()\n",
    "# display your model\n",
    "print(model)"
   ]
  },
  {
   "cell_type": "markdown",
   "metadata": {
    "colab_type": "text",
    "id": "p636VCSanCuS"
   },
   "source": [
    "**Expected output:**  \n",
    "```\n",
    "Serial[\n",
    "  Embedding_35181_50\n",
    "  LSTM_50\n",
    "  Dense_17\n",
    "  LogSoftmax\n",
    "]\n",
    "```  \n"
   ]
  },
  {
   "cell_type": "markdown",
   "metadata": {
    "colab_type": "text",
    "id": "4LkjXxxhLr3Z"
   },
   "source": [
    "<a name=\"3\"></a>\n",
    "# Part 3:  Train the Model \n",
    "\n",
    "This section will train your model.\n",
    "\n",
    "Before you start, you need to create the data generators for training and validation data. It is important that you mask padding in the loss weights of your data, which can be done using the `id_to_mask` argument of `trax.supervised.inputs.add_loss_weights`."
   ]
  },
  {
   "cell_type": "code",
   "execution_count": 25,
   "metadata": {
    "ExecuteTime": {
     "end_time": "2021-08-17T15:06:57.713204Z",
     "start_time": "2021-08-17T15:06:57.708112Z"
    },
    "colab": {},
    "colab_type": "code",
    "id": "lPBR1YrRmEAH",
    "scrolled": true
   },
   "outputs": [],
   "source": [
    "from trax.supervised import training\n",
    "\n",
    "rnd.seed(33)\n",
    "\n",
    "batch_size = 64\n",
    "\n",
    "\n",
    "\n",
    "# Create training data, mask pad id=35180 for training.\n",
    "train_generator = trax.data.inputs.add_loss_weights(\n",
    "    data_generator(batch_size, t_sentences, t_labels, vocab['<PAD>'], True),\n",
    "    id_to_mask=vocab['<PAD>'])\n",
    "\n",
    "# Create validation data, mask pad id=35180 for training.\n",
    "eval_generator = trax.data.inputs.add_loss_weights(\n",
    "    data_generator(batch_size, v_sentences, v_labels, vocab['<PAD>'], True),\n",
    "    id_to_mask=vocab['<PAD>'])"
   ]
  },
  {
   "cell_type": "markdown",
   "metadata": {
    "colab_type": "text",
    "id": "-SdkBrFVnCuV"
   },
   "source": [
    "<a name='3.1'></a>\n",
    "### 3.1 Training the model\n",
    "\n",
    "You will now write a function that takes in your model and trains it.\n",
    "\n",
    "As you've seen in the previous assignments, you will first create the [TrainTask](https://trax-ml.readthedocs.io/en/stable/trax.supervised.html#trax.supervised.training.TrainTask) and [EvalTask](https://trax-ml.readthedocs.io/en/stable/trax.supervised.html#trax.supervised.training.EvalTask) using your data generator. Then you will use the `training.Loop` to train your model.\n",
    "\n",
    "<a name=\"ex03\"></a>\n",
    "### Exercise 03\n",
    "\n",
    "**Instructions:** Implement the `train_model` program below to train the neural network above. Here is a list of things you should do: \n",
    "- Create the trainer object by calling [`trax.supervised.training.Loop`](https://trax-ml.readthedocs.io/en/latest/trax.supervised.html#trax.supervised.training.Loop) and pass in the following:\n",
    "\n",
    "    - model = [NER](#ex02)\n",
    "    - [training task](https://trax-ml.readthedocs.io/en/latest/trax.supervised.html#trax.supervised.training.TrainTask) that uses the train data generator defined in the cell above\n",
    "        - loss_layer = [tl.CrossEntropyLoss()](https://github.com/google/trax/blob/22765bb18608d376d8cd660f9865760e4ff489cd/trax/layers/metrics.py#L71)\n",
    "        - optimizer = [trax.optimizers.Adam(0.01)](https://github.com/google/trax/blob/03cb32995e83fc1455b0c8d1c81a14e894d0b7e3/trax/optimizers/adam.py#L23)\n",
    "    - [evaluation task](https://trax-ml.readthedocs.io/en/latest/trax.supervised.html#trax.supervised.training.EvalTask) that uses the validation data generator defined in the cell above\n",
    "        - metrics for `EvalTask`: `tl.CrossEntropyLoss()` and `tl.Accuracy()`\n",
    "        - in `EvalTask` set `n_eval_batches=10` for better evaluation accuracy\n",
    "    - output_dir = output_dir\n",
    "\n",
    "You'll be using a [cross entropy loss](https://trax-ml.readthedocs.io/en/latest/trax.layers.html#trax.layers.metrics.CrossEntropyLoss), with an [Adam optimizer](https://trax-ml.readthedocs.io/en/latest/trax.optimizers.html#trax.optimizers.adam.Adam). Please read the [trax](https://trax-ml.readthedocs.io/en/latest/trax.html) documentation to get a full understanding. The [trax GitHub](https://github.com/google/trax) also contains some useful information and a link to a colab notebook."
   ]
  },
  {
   "cell_type": "code",
   "execution_count": 33,
   "metadata": {
    "ExecuteTime": {
     "end_time": "2021-08-17T15:12:10.219212Z",
     "start_time": "2021-08-17T15:12:10.213079Z"
    },
    "colab": {},
    "colab_type": "code",
    "id": "WV27PerULr3a",
    "scrolled": true
   },
   "outputs": [],
   "source": [
    "# UNQ_C3 (UNIQUE CELL IDENTIFIER, DO NOT EDIT)\n",
    "# GRADED FUNCTION: train_model\n",
    "def train_model(NER, train_generator, eval_generator, train_steps=1, output_dir='model'):\n",
    "    '''\n",
    "    Input: \n",
    "        NER - the model you are building\n",
    "        train_generator - The data generator for training examples\n",
    "        eval_generator - The data generator for validation examples,\n",
    "        train_steps - number of training steps\n",
    "        output_dir - folder to save your model\n",
    "    Output:\n",
    "        training_loop - a trax supervised training Loop\n",
    "    '''\n",
    "    ### START CODE HERE (Replace instances of 'None' with your code) ###\n",
    "    train_task = training.TrainTask(\n",
    "      train_generator, # A train data generator\n",
    "      loss_layer = tl.CrossEntropyLoss(), # A cross-entropy loss function\n",
    "      optimizer = trax.optimizers.Adam(0.01) ,  # The adam optimizer\n",
    "    )\n",
    "\n",
    "    eval_task = training.EvalTask(\n",
    "      labeled_data = eval_generator, # A labeled data generator\n",
    "      metrics = [tl.CrossEntropyLoss(), tl.Accuracy()], # Evaluate with cross-entropy loss and accuracy\n",
    "      n_eval_batches = 10 # Number of batches to use on each evaluation\n",
    "    )\n",
    "\n",
    "    training_loop = training.Loop(\n",
    "        NER, # A model to train\n",
    "        train_task, # A train task\n",
    "        eval_tasks = eval_task, # The evaluation task\n",
    "        output_dir = output_dir) # The output directory\n",
    "\n",
    "    # Train with train_steps\n",
    "    training_loop.run(n_steps = train_steps)\n",
    "    ### END CODE HERE ###\n",
    "    return training_loop"
   ]
  },
  {
   "cell_type": "markdown",
   "metadata": {
    "colab_type": "text",
    "id": "4tIc4nuonCue"
   },
   "source": [
    "On your local machine, you can run this training for 1000 train_steps and get your own model. This training takes about 5 to 10 minutes to run."
   ]
  },
  {
   "cell_type": "code",
   "execution_count": 34,
   "metadata": {
    "ExecuteTime": {
     "end_time": "2021-08-17T15:13:57.765148Z",
     "start_time": "2021-08-17T15:12:11.806480Z"
    },
    "colab": {
     "base_uri": "https://localhost:8080/",
     "height": 578
    },
    "colab_type": "code",
    "id": "VU-j8hs-nCue",
    "outputId": "fbbbda7d-b6dd-42e4-a4c6-58c0a6e349b6"
   },
   "outputs": [
    {
     "name": "stderr",
     "output_type": "stream",
     "text": [
      "/usr/local/lib/python3.6/dist-packages/jax/lib/xla_bridge.py:356: UserWarning: jax.host_id has been renamed to jax.process_index. This alias will eventually be removed; please update your code.\n",
      "  \"jax.host_id has been renamed to jax.process_index. This alias \"\n",
      "/usr/local/lib/python3.6/dist-packages/jax/lib/xla_bridge.py:369: UserWarning: jax.host_count has been renamed to jax.process_count. This alias will eventually be removed; please update your code.\n",
      "  \"jax.host_count has been renamed to jax.process_count. This alias \"\n"
     ]
    },
    {
     "name": "stdout",
     "output_type": "stream",
     "text": [
      "\n",
      "Step      1: Total number of trainable weights: 1780117\n",
      "Step      1: Ran 1 train steps in 4.04 secs\n",
      "Step      1: train CrossEntropyLoss |  2.57448459\n",
      "Step      1: eval  CrossEntropyLoss |  1.77989727\n",
      "Step      1: eval          Accuracy |  0.80496628\n",
      "\n",
      "Step    100: Ran 99 train steps in 82.75 secs\n",
      "Step    100: train CrossEntropyLoss |  0.50096601\n",
      "Step    100: eval  CrossEntropyLoss |  0.23384026\n",
      "Step    100: eval          Accuracy |  0.93665046\n"
     ]
    }
   ],
   "source": [
    "train_steps = 100            # In coursera we can only train 100 steps\n",
    "!rm -f 'model/model.pkl.gz'  # Remove old model.pkl if it exists\n",
    "\n",
    "# Train the model\n",
    "training_loop = train_model(NER(), train_generator, eval_generator, train_steps)"
   ]
  },
  {
   "cell_type": "markdown",
   "metadata": {
    "colab_type": "text",
    "id": "p1QvV66ZLr3i"
   },
   "source": [
    "**Expected output (Approximately)**\n",
    "\n",
    "```\n",
    "...\n",
    "Step      1: train CrossEntropyLoss |  2.94375849\n",
    "Step      1: eval  CrossEntropyLoss |  1.93172036\n",
    "Step      1: eval          Accuracy |  0.78727312\n",
    "Step    100: train CrossEntropyLoss |  0.57727730\n",
    "Step    100: eval  CrossEntropyLoss |  0.36356260\n",
    "Step    100: eval          Accuracy |  0.90943187\n",
    "...\n",
    "```\n",
    "This value may change between executions, but it must be around 90% of accuracy on train and validations sets, after 100 training steps."
   ]
  },
  {
   "cell_type": "markdown",
   "metadata": {
    "colab_type": "text",
    "id": "lQTurbC0nCuh"
   },
   "source": [
    "We have trained the model longer, and we give you such a trained model. In that way, we ensure you can continue with the rest of the assignment even if you had some troubles up to here, and also we are sure that everybody will get the same outputs for the last example. However, you are free to try your model, as well. "
   ]
  },
  {
   "cell_type": "code",
   "execution_count": 36,
   "metadata": {
    "ExecuteTime": {
     "end_time": "2021-08-18T00:09:23.248802Z",
     "start_time": "2021-08-18T00:09:22.788285Z"
    },
    "colab": {},
    "colab_type": "code",
    "id": "ecIG67nenCui",
    "scrolled": true
   },
   "outputs": [
    {
     "data": {
      "text/plain": [
       "((array([[ 0.07978522,  0.3412864 ,  0.31026018, ..., -0.1102574 ,\n",
       "          -0.35223648, -0.09805461],\n",
       "         [ 0.05368185,  0.02412175, -0.09873044, ..., -0.1384925 ,\n",
       "           0.28563568,  0.3531495 ],\n",
       "         [ 0.34919462,  0.10001582,  0.18734947, ..., -0.21231867,\n",
       "          -0.19288176,  0.06753299],\n",
       "         ...,\n",
       "         [ 0.16914634, -0.19801483,  0.17675354, ..., -0.05489998,\n",
       "           0.19501124,  0.04028885],\n",
       "         [ 0.16717573, -0.11685929,  0.06654345, ...,  0.20529766,\n",
       "          -0.18109733, -0.14259572],\n",
       "         [-0.06235038,  0.08442363,  0.239195  , ..., -0.06267677,\n",
       "          -0.05130641, -0.2044939 ]], dtype=float32),\n",
       "  (((), ((), ())),\n",
       "   ((array([[-0.17894517, -0.19837776,  0.11036244, ..., -0.2444847 ,\n",
       "             -0.36353973,  0.6382818 ],\n",
       "            [-0.22177859, -0.04188257,  0.17000234, ...,  0.12392657,\n",
       "             -0.03388992,  0.33880746],\n",
       "            [-0.38989636,  0.20846896, -0.22029789, ...,  0.27614808,\n",
       "             -0.41473365,  0.42804646],\n",
       "            ...,\n",
       "            [ 0.07867222,  0.01291479,  0.08053172, ..., -0.04877586,\n",
       "              0.01867277,  0.0031506 ],\n",
       "            [-0.01351506,  0.01387361, -0.02004538, ...,  0.19449823,\n",
       "             -0.10678342,  0.16391523],\n",
       "            [ 0.16451412,  0.16020404,  0.13658619, ..., -0.03110712,\n",
       "             -0.04209117,  0.06610876]], dtype=float32),\n",
       "     array([0.9362911 , 1.1793107 , 0.9995921 , 1.1145978 , 1.1329066 ,\n",
       "            1.1247604 , 1.0780951 , 0.98039615, 1.4112403 , 1.1480167 ,\n",
       "            1.0356815 , 1.0788068 , 1.168362  , 1.1313876 , 1.1130534 ,\n",
       "            0.9542096 , 1.0482587 , 1.0024893 , 1.1387095 , 1.0993514 ,\n",
       "            1.140009  , 1.0063336 , 1.0690606 , 1.2650481 , 1.0767462 ,\n",
       "            1.0777781 , 1.0142606 , 1.3111379 , 0.94714963, 1.3222169 ,\n",
       "            0.9517809 , 1.200088  , 1.1032733 , 0.95290077, 1.056602  ,\n",
       "            1.0857426 , 1.1281292 , 1.010116  , 1.0402837 , 1.0809327 ,\n",
       "            0.95765924, 0.9335232 , 1.0005891 , 0.99697673, 0.95746106,\n",
       "            1.118094  , 1.1206797 , 1.2761424 , 0.9928615 , 1.138799  ,\n",
       "            0.8569527 , 1.1823734 , 0.9335644 , 1.0983385 , 1.0762072 ,\n",
       "            1.1256284 , 1.0642993 , 0.7583254 , 1.3659401 , 1.0767528 ,\n",
       "            0.93182445, 1.0729983 , 1.1632462 , 1.1126952 , 1.0803044 ,\n",
       "            0.88913596, 0.7853066 , 0.70363605, 1.1404551 , 1.0884191 ,\n",
       "            1.1271273 , 0.8265904 , 1.0247151 , 1.1885284 , 1.0682446 ,\n",
       "            1.066761  , 0.6195293 , 1.3180739 , 0.78513014, 1.3084432 ,\n",
       "            0.74355483, 1.2285165 , 1.0888189 , 0.8176316 , 0.8810886 ,\n",
       "            0.8743539 , 1.1119199 , 0.71434337, 1.0160382 , 0.83220476,\n",
       "            0.85916954, 0.9371974 , 0.92049   , 0.68243635, 0.84736043,\n",
       "            1.1162162 , 1.084898  , 1.2094032 , 0.96523756, 1.1112403 ,\n",
       "            0.92336786, 1.0802352 , 0.8914018 , 1.1016468 , 1.0607858 ,\n",
       "            1.0724021 , 1.0640172 , 0.93954766, 1.0392269 , 1.0540111 ,\n",
       "            0.92296463, 1.0786515 , 1.0688496 , 1.0625246 , 0.93974894,\n",
       "            0.9873095 , 0.88714916, 0.8762184 , 1.0734192 , 1.0641522 ,\n",
       "            1.0740126 , 0.9077343 , 1.0642731 , 1.0331594 , 1.0751942 ,\n",
       "            1.0671544 , 0.93305814, 1.0636578 , 0.9262604 , 1.0214906 ,\n",
       "            0.92293584, 1.0789406 , 1.062354  , 0.8709586 , 0.96321833,\n",
       "            1.0128473 , 1.0836989 , 0.95766336, 0.88545984, 0.9679114 ,\n",
       "            0.99538606, 0.9314841 , 0.9126407 , 0.97983557, 0.9010151 ,\n",
       "            1.0686437 , 1.0818684 , 1.1212914 , 0.9254825 , 1.0630614 ,\n",
       "            0.945365  , 1.0733489 , 0.97734815, 1.0324286 , 0.94340914,\n",
       "            1.0252995 , 1.014286  , 0.985807  , 0.95091206, 0.8967193 ,\n",
       "            0.9603421 , 0.90780586, 1.0482932 , 1.0033857 , 1.0463963 ,\n",
       "            0.9927193 , 0.9560556 , 0.9551607 , 0.9745687 , 0.974615  ,\n",
       "            1.0586588 , 0.9699791 , 1.0035985 , 1.0065581 , 0.9689088 ,\n",
       "            0.9978052 , 0.9656616 , 1.0462922 , 0.9638898 , 1.0797865 ,\n",
       "            0.9225542 , 1.0489683 , 1.0373629 , 0.95396465, 1.0622249 ,\n",
       "            1.028044  , 1.1151165 , 0.9341218 , 0.9931066 , 0.9850655 ,\n",
       "            1.0358297 , 0.91476536, 1.020475  , 1.0147661 , 0.9618539 ,\n",
       "            1.0285147 , 1.0785602 , 1.0842931 , 0.9652214 , 1.0036185 ],\n",
       "           dtype=float32)),),\n",
       "   ()),\n",
       "  (array([[-1.69523999e-01, -6.20284736e-01,  3.33257437e-01,\n",
       "           -1.50186032e-01, -3.20693135e-01, -3.54317307e-01,\n",
       "            1.50790378e-01,  6.74375221e-02,  9.84248966e-02,\n",
       "           -3.69387940e-02,  1.79754272e-01, -1.97882891e-01,\n",
       "           -2.05773652e-01, -3.56311142e-03, -2.37870626e-02,\n",
       "           -8.62741470e-02,  1.26028880e-01],\n",
       "          [ 2.51556456e-01,  2.64268041e-01, -2.39857674e-01,\n",
       "            6.39258549e-02, -1.11353897e-01,  2.19859734e-01,\n",
       "            1.17659271e-02,  3.82068455e-02, -3.33945632e-01,\n",
       "           -3.20588887e-01,  2.13814721e-01, -3.19446355e-01,\n",
       "           -2.44321540e-01, -3.48218113e-01,  4.78457101e-03,\n",
       "           -3.21199000e-02, -3.86394531e-01],\n",
       "          [-2.37230793e-01, -2.37307092e-03,  3.04232180e-01,\n",
       "            1.33882388e-01,  7.97783807e-02,  1.08050279e-01,\n",
       "            5.40630370e-02,  3.42485756e-02, -3.40254873e-01,\n",
       "           -1.47155583e-01,  1.56276762e-01,  1.01683386e-01,\n",
       "            1.79028839e-01,  1.18377388e-01, -1.65040970e-01,\n",
       "           -2.58984882e-02, -4.09969717e-01],\n",
       "          [ 1.43924765e-02, -2.74163306e-01, -4.75979298e-01,\n",
       "            1.90038860e-01, -2.79237568e-01, -1.35725856e-01,\n",
       "            3.75856519e-01, -2.54829049e-01, -6.50747344e-02,\n",
       "           -1.83644295e-01, -7.32119903e-02,  2.80677266e-02,\n",
       "           -4.24412899e-02, -3.14183652e-01, -3.96174520e-01,\n",
       "           -5.52199632e-02, -2.33915836e-01],\n",
       "          [ 1.57873124e-01,  1.49413645e-01, -4.00849193e-01,\n",
       "            3.81927282e-01, -2.14634299e-01, -2.51664042e-01,\n",
       "            1.98386550e-01,  3.92692357e-01, -3.52832973e-01,\n",
       "            5.20462729e-02, -2.48636842e-01, -4.67409879e-01,\n",
       "            1.07724249e-01, -3.27899635e-01, -4.16767418e-01,\n",
       "           -3.71169392e-03, -6.79883584e-02],\n",
       "          [ 3.84322494e-01, -3.81185055e-01, -3.19888115e-01,\n",
       "            9.74375457e-02, -1.99197069e-01, -7.17133284e-02,\n",
       "           -1.87804595e-01, -2.63100006e-02, -2.77307153e-01,\n",
       "           -5.29977195e-02,  3.54073137e-01, -1.40014678e-01,\n",
       "            2.56584287e-01,  3.97702213e-03, -2.80385017e-01,\n",
       "            7.46932402e-02, -2.99602151e-01],\n",
       "          [ 2.22093642e-01, -7.84006417e-02, -2.36697525e-01,\n",
       "           -1.48151249e-01, -1.63694575e-01, -1.99643046e-01,\n",
       "            3.03187698e-01,  3.41160186e-02, -3.10396761e-01,\n",
       "           -3.70562561e-02, -1.51192814e-01, -4.15994167e-01,\n",
       "           -2.29291886e-01,  3.35307000e-03,  9.19154659e-03,\n",
       "           -3.60582247e-02, -1.60793751e-01],\n",
       "          [-8.79396349e-02,  9.21590030e-01, -3.81044120e-01,\n",
       "           -3.73294383e-01,  2.33624652e-02, -3.49396259e-01,\n",
       "            1.65500239e-01,  3.45462650e-01,  8.31352621e-02,\n",
       "           -2.08081871e-01, -8.64606142e-01, -2.09129155e-01,\n",
       "           -1.13818366e-02, -3.38635266e-01,  1.26351556e-02,\n",
       "           -1.17907546e-01,  1.19825311e-01],\n",
       "          [ 5.49596474e-02,  3.86452764e-01,  4.35820937e-01,\n",
       "           -8.40892200e-04, -3.61964822e-01,  1.65063590e-01,\n",
       "           -3.37339729e-01, -5.83409220e-02, -1.47722989e-01,\n",
       "           -2.80764867e-02, -3.49499673e-01, -1.24899127e-01,\n",
       "           -3.26421589e-01, -5.43162040e-03, -2.72559941e-01,\n",
       "           -4.52501595e-01,  5.71459047e-02],\n",
       "          [-1.64191164e-02,  1.38384297e-01, -1.16893105e-01,\n",
       "            6.75922185e-02, -1.33163348e-01,  3.87490749e-01,\n",
       "           -3.86109808e-03,  2.71630883e-01, -1.35825068e-01,\n",
       "           -2.25649744e-01, -3.12957734e-01, -3.15375805e-01,\n",
       "           -2.58004010e-01, -3.52754831e-01, -1.63619250e-01,\n",
       "           -2.16144085e-01, -4.55120236e-01],\n",
       "          [-5.48102260e-02,  3.17431360e-01,  1.22293206e-02,\n",
       "            3.76025379e-01, -1.48437351e-01,  1.41883507e-01,\n",
       "           -8.60666484e-02,  1.15337849e-01,  5.47677390e-02,\n",
       "           -2.65466183e-01,  1.70881912e-01,  4.46711890e-02,\n",
       "           -2.80772150e-01,  1.21848024e-01, -4.03533995e-01,\n",
       "           -2.21278489e-01, -3.16108733e-01],\n",
       "          [ 3.61976951e-01, -1.92142591e-01, -3.79851103e-01,\n",
       "            3.25988978e-03,  1.96921200e-01, -4.11540568e-01,\n",
       "           -6.93932846e-02,  2.37409294e-01, -1.32774919e-01,\n",
       "            1.12476423e-01, -1.91111207e-01,  1.30407274e-01,\n",
       "            8.11056718e-02, -1.69648409e-01,  5.55864088e-02,\n",
       "           -1.58472508e-02, -2.34537259e-01],\n",
       "          [ 3.34912777e-01,  1.18098572e-01, -3.20723504e-01,\n",
       "            2.63817489e-01, -2.13537049e-02, -3.15431267e-01,\n",
       "           -1.92265213e-01, -3.85052174e-01, -2.40672246e-01,\n",
       "           -1.87839106e-01,  2.86734939e-01,  1.99005241e-03,\n",
       "           -2.48751253e-01, -2.82635778e-01,  7.05065802e-02,\n",
       "           -2.75333136e-01, -4.37529624e-01],\n",
       "          [ 3.39683175e-01, -4.03211206e-01,  2.07367446e-02,\n",
       "            1.17052328e-02, -3.20938975e-01, -1.40594319e-01,\n",
       "           -7.64960796e-02, -1.25114858e-01,  8.64053965e-02,\n",
       "           -2.55761772e-01, -6.92445263e-02, -1.80914044e-01,\n",
       "            2.29386315e-01, -1.55066669e-01, -2.47614413e-01,\n",
       "           -2.40182653e-01,  6.66791350e-02],\n",
       "          [ 2.62029558e-01,  1.71360523e-01, -1.66676566e-01,\n",
       "           -1.34246662e-01, -3.24006379e-01,  2.44861737e-01,\n",
       "           -2.89201230e-01,  1.71989426e-01, -2.60019183e-01,\n",
       "           -4.26232181e-02, -1.85895905e-01, -2.89375901e-01,\n",
       "            1.44011572e-01, -3.35527033e-01, -2.50442684e-01,\n",
       "           -2.75434434e-01, -2.18800515e-01],\n",
       "          [-1.42825738e-01, -2.22152263e-01, -2.73003399e-01,\n",
       "           -1.66461423e-01,  2.53889441e-01, -2.23293841e-01,\n",
       "            3.82298589e-01,  1.76459318e-04, -2.42607132e-01,\n",
       "            1.12826519e-01,  8.34471285e-01, -1.35706916e-01,\n",
       "           -1.51605412e-01, -7.26818219e-02, -3.24367315e-01,\n",
       "           -1.15597837e-01, -1.42319366e-01],\n",
       "          [-3.92759554e-02,  6.36062920e-01,  1.53304443e-01,\n",
       "            6.84314594e-02, -3.49627137e-01,  2.01869562e-01,\n",
       "           -6.21906936e-01, -3.93885851e-01, -2.54135221e-01,\n",
       "            6.30698949e-02, -5.76313317e-01, -2.05646843e-01,\n",
       "            5.70312552e-02, -6.81024976e-03, -3.89618665e-01,\n",
       "           -9.16958153e-02, -2.60065734e-01],\n",
       "          [-1.64153829e-01,  8.12052429e-01,  2.42836624e-01,\n",
       "           -2.94398874e-01,  3.04760374e-02,  1.79371864e-01,\n",
       "           -3.93555790e-01, -5.65425813e-01, -2.94021606e-01,\n",
       "            1.82344854e-01, -6.51046157e-01, -2.24730730e-01,\n",
       "           -2.21748352e-01,  3.79360653e-02, -1.66031301e-01,\n",
       "            3.03714443e-02, -1.41511410e-01],\n",
       "          [ 3.09056789e-01, -1.61722198e-01, -1.10689618e-01,\n",
       "           -9.55245569e-02, -2.09553719e-01, -6.22380301e-02,\n",
       "           -1.76681399e-01,  1.90556161e-02, -1.28454804e-01,\n",
       "            7.18951151e-02, -1.87154233e-01, -3.54042579e-03,\n",
       "           -3.17464709e-01, -3.72436285e-01, -1.42732663e-02,\n",
       "           -2.87856162e-01, -6.25905916e-02],\n",
       "          [ 3.32519561e-01, -1.40547425e-01,  1.08173363e-01,\n",
       "           -7.06720799e-02,  6.18562102e-02, -3.49739552e-01,\n",
       "           -1.34148240e-01,  4.35130410e-02, -1.17644764e-01,\n",
       "           -2.20173329e-01,  7.91061670e-02,  1.20575041e-01,\n",
       "            1.27512515e-01,  9.96332467e-02, -2.48893932e-01,\n",
       "            8.78004283e-02,  3.65047827e-02],\n",
       "          [ 1.70142159e-01, -1.19092613e-01,  1.92533210e-01,\n",
       "           -2.72692233e-01,  1.81338772e-01,  2.72507846e-01,\n",
       "           -2.19870687e-01, -3.00090343e-01,  7.83687234e-02,\n",
       "           -1.94499508e-01, -5.51831501e-04, -1.59337893e-01,\n",
       "           -1.63159683e-01, -3.79568972e-02, -1.12642922e-01,\n",
       "           -3.95150304e-01, -4.65745002e-01],\n",
       "          [-1.63429249e-02, -7.73819923e-01,  3.00204366e-01,\n",
       "           -2.22432405e-01,  1.05045170e-01,  2.04787225e-01,\n",
       "           -6.66647911e-01,  3.07735115e-01,  9.54473799e-04,\n",
       "            3.73571776e-02, -4.88223553e-01,  1.21368937e-01,\n",
       "            2.26323292e-01, -3.69253725e-01, -2.97484636e-01,\n",
       "            1.12336949e-01, -3.32078367e-01],\n",
       "          [ 3.73009741e-01, -4.06908661e-01, -2.13414133e-01,\n",
       "           -2.05614805e-01,  1.63791284e-01, -3.66319329e-01,\n",
       "           -2.07100570e-01, -1.13238558e-01,  1.61744460e-01,\n",
       "           -8.57165679e-02,  9.45206732e-02, -9.17049348e-02,\n",
       "            2.03067333e-01, -2.24202991e-01, -1.49363741e-01,\n",
       "            9.89080220e-03, -2.05337200e-02],\n",
       "          [ 3.93538177e-02,  2.08533127e-02, -2.95460463e-01,\n",
       "            4.28282350e-01, -2.04978734e-01,  3.56244981e-01,\n",
       "           -1.89445972e-01, -1.86134741e-01, -4.14042771e-01,\n",
       "           -3.24472368e-01,  3.15901905e-01, -1.67757690e-01,\n",
       "            1.21122673e-01,  1.40751496e-01, -2.45378479e-01,\n",
       "           -3.42459455e-02,  2.23767888e-02],\n",
       "          [ 2.83773690e-01,  3.62292863e-02,  1.38352275e-01,\n",
       "           -3.12686235e-01,  2.78577749e-02, -2.89381027e-01,\n",
       "           -8.22854415e-02, -1.72104269e-01, -3.76946740e-02,\n",
       "           -5.50833195e-02, -1.00202136e-01, -3.12266856e-01,\n",
       "            4.69167568e-02,  1.10955060e-01, -3.57073396e-01,\n",
       "           -3.46788287e-01, -6.20898716e-02],\n",
       "          [ 3.48894030e-01, -4.97027844e-01,  7.00360816e-03,\n",
       "           -3.34906280e-01,  5.22447228e-02, -1.71875790e-01,\n",
       "           -2.82993987e-02, -1.81209385e-01, -2.13199422e-01,\n",
       "            1.24137208e-01, -1.73666894e-01, -1.57500103e-01,\n",
       "           -8.27448219e-02, -1.91331849e-01, -9.20729770e-04,\n",
       "            3.21517177e-02, -3.48188162e-01],\n",
       "          [ 1.76536739e-01,  3.73360127e-01, -3.65245312e-01,\n",
       "           -1.98728859e-01, -1.42382443e-01, -1.03009716e-01,\n",
       "            1.47962391e-01, -2.05315933e-01, -1.31380260e-01,\n",
       "            1.45702109e-01, -1.78014729e-02,  1.02566704e-01,\n",
       "           -8.35321695e-02,  1.94145039e-01,  5.34825251e-02,\n",
       "           -3.23400468e-01, -1.09501548e-01],\n",
       "          [ 1.99004501e-01,  1.89963773e-01,  1.78392082e-01,\n",
       "            9.35079828e-02, -1.68725148e-01,  2.54178375e-01,\n",
       "           -5.82245439e-02,  2.08643839e-01, -1.95075333e-01,\n",
       "           -2.42716968e-01, -2.44302452e-01, -2.59778112e-01,\n",
       "            1.44550830e-01, -3.91767442e-01, -1.05851755e-01,\n",
       "           -7.55064785e-02,  9.62149203e-02],\n",
       "          [-9.89697129e-02, -4.41177040e-01, -1.04895890e-01,\n",
       "           -1.38933748e-01, -6.80654272e-02, -1.59366041e-01,\n",
       "           -3.58980030e-01, -2.54102886e-01,  1.90353170e-01,\n",
       "           -3.76567394e-02, -3.60401511e-01, -1.58779874e-01,\n",
       "           -4.18160468e-01, -2.22543627e-01, -4.70498279e-02,\n",
       "           -6.74266294e-02,  3.90825495e-02],\n",
       "          [ 1.44416749e-01,  4.23585773e-02,  2.61931807e-01,\n",
       "            9.83985513e-02,  7.11195916e-02,  2.12591529e-01,\n",
       "           -3.09555024e-01, -2.13901937e-01, -2.06531689e-01,\n",
       "           -4.14260536e-01, -1.94265410e-01, -2.16275394e-01,\n",
       "           -9.94713679e-02, -3.65193158e-01, -4.11080629e-01,\n",
       "           -4.52747077e-01, -3.97506326e-01],\n",
       "          [ 1.06874272e-01, -2.51930267e-01, -4.12077934e-01,\n",
       "           -3.00467223e-01,  5.70781715e-02,  1.26495630e-01,\n",
       "           -1.95348665e-01, -1.64318621e-01, -7.32936934e-02,\n",
       "            9.10395011e-02,  3.41899991e-02, -1.39317915e-01,\n",
       "           -1.15302771e-01, -2.81916291e-01,  7.79174939e-02,\n",
       "           -1.29382893e-01,  1.20795034e-01],\n",
       "          [ 2.92636812e-01, -1.64897159e-01, -3.69011275e-02,\n",
       "            2.09725067e-01,  1.33918792e-01,  9.68271047e-02,\n",
       "            9.54103470e-02, -3.91887687e-02, -1.38795733e-01,\n",
       "            1.34668872e-01,  1.19839713e-01, -2.84550577e-01,\n",
       "           -2.44834408e-01, -3.51376891e-01, -3.61828536e-01,\n",
       "            2.86991764e-02, -3.89054030e-01],\n",
       "          [ 3.78434360e-01,  2.76894420e-01, -7.20186979e-02,\n",
       "           -9.35070440e-02, -3.42795968e-01,  1.71643481e-01,\n",
       "            7.88643863e-03,  1.77914456e-01, -1.38654098e-01,\n",
       "           -2.48228684e-01, -1.06941901e-01, -2.95370430e-01,\n",
       "            1.23182848e-01, -1.98157921e-01, -2.15018243e-01,\n",
       "           -3.89974415e-01, -6.93799034e-02],\n",
       "          [-1.65701002e-01, -7.33473182e-01,  3.84130597e-01,\n",
       "           -4.19207871e-01, -1.72762930e-01, -6.35127664e-01,\n",
       "            1.15357175e-01,  2.89491326e-01,  9.28953961e-02,\n",
       "           -3.37233692e-01, -1.08109610e-02,  1.02020398e-01,\n",
       "            2.48499691e-01, -1.48635998e-01, -3.91181707e-01,\n",
       "           -1.42204493e-01, -2.18146518e-01],\n",
       "          [ 2.58279266e-03, -1.39341429e-01, -2.30934680e-01,\n",
       "            2.08650991e-01, -4.95114744e-01, -1.81216970e-01,\n",
       "           -4.14866269e-01, -2.68331528e-01, -3.21757555e-01,\n",
       "           -3.01990688e-01,  2.97737479e-01, -2.88732827e-01,\n",
       "           -3.02466661e-01, -2.27730628e-02, -1.05272077e-01,\n",
       "            1.05714872e-01,  1.00142092e-01],\n",
       "          [ 5.60867786e-02,  4.01183628e-02,  1.19625956e-01,\n",
       "           -5.58405416e-03, -4.33615625e-01,  3.82433653e-01,\n",
       "           -4.11647290e-01, -2.59025961e-01, -1.59010157e-01,\n",
       "            1.23844460e-01, -2.65644222e-01,  1.45403221e-01,\n",
       "           -4.68151748e-01, -1.98352233e-01, -2.62507081e-01,\n",
       "           -2.06183717e-01, -2.32641414e-01],\n",
       "          [ 2.58785427e-01,  2.19201654e-01,  2.84682751e-01,\n",
       "           -1.86471716e-01,  1.58695027e-01,  2.68054843e-01,\n",
       "            2.70505071e-01, -1.18523166e-01, -1.23151988e-01,\n",
       "           -2.65942365e-01,  1.35915518e-01, -2.69695312e-01,\n",
       "            2.33467489e-01,  8.06363486e-03,  2.61039790e-02,\n",
       "           -1.46534055e-01, -1.39119267e-01],\n",
       "          [ 7.43128434e-02, -2.29839742e-01, -4.61056620e-01,\n",
       "           -1.78092122e-02, -4.74507064e-01,  1.66172802e-01,\n",
       "            1.18111201e-01, -3.99321765e-01, -1.35086045e-01,\n",
       "            1.33154154e-01,  3.42590315e-03, -1.93470448e-01,\n",
       "           -3.30866762e-02,  2.08420694e-01, -2.78114915e-01,\n",
       "           -2.94878334e-01,  6.80083334e-02],\n",
       "          [ 8.44470784e-02, -3.36572766e-01,  1.11439452e-02,\n",
       "           -6.59252480e-02, -2.25722209e-01,  1.30617514e-01,\n",
       "            1.11603169e-02, -3.82252336e-01,  5.29061258e-02,\n",
       "            8.81198328e-03, -4.87758726e-01, -1.43491402e-01,\n",
       "           -2.23734945e-01, -1.71441421e-01,  7.82967508e-02,\n",
       "            7.47164637e-02, -2.70955414e-01],\n",
       "          [-3.24455276e-02,  4.05778028e-02,  2.69637048e-01,\n",
       "            2.67700791e-01,  1.11840300e-01, -2.41228044e-01,\n",
       "           -3.84544402e-01,  3.09613436e-01, -3.92675251e-01,\n",
       "            2.40182579e-02,  4.70779508e-01, -1.64942205e-01,\n",
       "           -3.33164513e-01, -2.77990967e-01,  9.49028954e-02,\n",
       "            3.58161405e-02, -1.20403923e-01],\n",
       "          [ 2.17484266e-01, -3.90628129e-01, -5.98464571e-02,\n",
       "           -2.29009628e-01,  2.19898745e-02, -6.93581300e-03,\n",
       "            7.27850720e-02,  2.53155768e-01,  8.77104923e-02,\n",
       "            4.45620343e-02, -3.79785389e-01, -1.27718791e-01,\n",
       "            5.95633127e-02, -2.05372155e-01, -2.49034598e-01,\n",
       "           -2.67055362e-01, -1.43464357e-01],\n",
       "          [-1.49776265e-01,  4.90229577e-01, -1.02214627e-01,\n",
       "            2.01666042e-01, -2.28937328e-01,  1.20528489e-01,\n",
       "           -1.41727269e-01,  2.72573143e-01, -8.14062208e-02,\n",
       "            1.02020673e-01,  1.69199735e-01,  7.38057718e-02,\n",
       "            2.31476918e-01, -3.97961766e-01, -4.09690231e-01,\n",
       "           -3.35562706e-01,  1.24173068e-01],\n",
       "          [-9.60412063e-03, -6.69901431e-01,  5.24906695e-01,\n",
       "           -1.73800096e-01,  1.54868156e-01, -3.22331756e-01,\n",
       "            4.65981156e-01, -8.95790875e-01, -1.80055171e-01,\n",
       "            1.37494937e-01,  3.12889516e-01,  2.24312842e-01,\n",
       "           -4.97434109e-01,  5.61363734e-02, -1.75997913e-01,\n",
       "           -3.00751358e-01, -3.16999644e-01],\n",
       "          [ 3.74226384e-02, -2.88097590e-01, -1.21707931e-01,\n",
       "           -1.14173621e-01, -1.58706740e-01, -2.57586092e-01,\n",
       "           -9.10462290e-02, -8.61586034e-02,  1.15735061e-01,\n",
       "           -2.65693963e-01, -3.01774710e-01, -1.85209155e-01,\n",
       "           -2.86617190e-01,  1.32805705e-01,  1.68308914e-01,\n",
       "            1.61254972e-01, -2.80587703e-01],\n",
       "          [-3.48496102e-02, -6.81126118e-02, -4.64815199e-01,\n",
       "            1.88248277e-01, -4.05951351e-01, -3.12046617e-01,\n",
       "           -5.24353981e-01, -6.46526396e-01, -2.93178469e-01,\n",
       "            1.12971738e-01,  2.55758643e-01, -3.36526096e-01,\n",
       "           -4.71917652e-02,  4.19403724e-02,  4.91974950e-02,\n",
       "           -9.57313552e-03,  5.24081476e-03],\n",
       "          [ 4.01422173e-01,  1.01920627e-02, -2.94377506e-01,\n",
       "           -1.45377040e-01,  1.22974096e-02, -3.77131701e-01,\n",
       "            1.05850644e-01, -3.56341422e-01, -4.19156075e-01,\n",
       "           -2.69375205e-01,  1.65768325e-01, -1.72381639e-01,\n",
       "           -1.93073511e-01, -2.00731292e-01,  1.26388341e-01,\n",
       "           -3.14915597e-01, -3.43756676e-01],\n",
       "          [ 2.93555409e-01,  1.38443276e-01, -2.55274117e-01,\n",
       "            2.64626682e-01,  1.27698123e-01,  2.36992449e-01,\n",
       "            3.42118442e-01, -6.29412979e-02, -2.80234843e-01,\n",
       "           -2.12029014e-02, -5.86947985e-02, -2.77548552e-01,\n",
       "            9.11833420e-02, -3.56622338e-01, -2.33675539e-01,\n",
       "           -2.66664177e-01, -4.62062582e-02],\n",
       "          [ 1.71960771e-01,  8.32958370e-02, -3.58919948e-01,\n",
       "            1.13441288e-01,  2.13401616e-01,  1.77248046e-01,\n",
       "            3.58926415e-01, -4.07374382e-01,  2.37230770e-02,\n",
       "            5.69353625e-02, -8.51034820e-02, -3.64744008e-01,\n",
       "           -3.33855271e-01,  8.64125267e-02, -4.31611598e-01,\n",
       "           -3.83290559e-01, -1.69744924e-01],\n",
       "          [-2.11305887e-01, -2.37287395e-02,  2.94147432e-01,\n",
       "            3.39090407e-01,  2.64135331e-01,  5.43058157e-01,\n",
       "            2.85544507e-02,  1.40291780e-01, -3.43520045e-01,\n",
       "            6.02380186e-02,  2.50988036e-01, -5.06226383e-02,\n",
       "           -2.75659472e-01, -4.02684450e-01, -2.17348516e-01,\n",
       "           -2.97870934e-01, -4.51283872e-01],\n",
       "          [ 3.24880928e-01, -2.14388907e-01,  1.63944378e-01,\n",
       "            8.09615403e-02, -9.42963548e-03, -2.16145635e-01,\n",
       "           -2.93680489e-01,  3.14268097e-02, -1.13529257e-01,\n",
       "            2.87562516e-02,  1.30841181e-01, -3.87902528e-01,\n",
       "            4.89925593e-02,  8.71826261e-02, -8.47120136e-02,\n",
       "           -3.09965491e-01, -2.16675237e-01]], dtype=float32),\n",
       "   array([ 0.09169856, -0.04405512,  0.05298669,  0.06473065, -0.04795603,\n",
       "           0.07210673, -0.06816078, -0.02666427, -0.16871423, -0.13540365,\n",
       "          -0.10320494, -0.22695766, -0.04524657, -0.16355689, -0.15458731,\n",
       "          -0.18274988, -0.20883451], dtype=float32)),\n",
       "  ()),\n",
       " ((), (((), ((), ())), ((), ()), ()), (), ()))"
      ]
     },
     "execution_count": 36,
     "metadata": {},
     "output_type": "execute_result"
    }
   ],
   "source": [
    "# loading in a pretrained model..\n",
    "model = NER()\n",
    "model.init(trax.shapes.ShapeDtype((1, 1), dtype=np.int32))\n",
    "\n",
    "# Load the pretrained model\n",
    "model.init_from_file('model/model.pkl.gz', weights_only=True)"
   ]
  },
  {
   "cell_type": "markdown",
   "metadata": {
    "colab_type": "text",
    "id": "c4r-gXOZLr3j"
   },
   "source": [
    "<a name=\"4\"></a>\n",
    "# Part 4:  Compute Accuracy\n",
    "\n",
    "You will now evaluate in the test set. Previously, you have seen the accuracy on the training set and the validation (noted as eval) set. You will now evaluate on your test set. To get a good evaluation, you will need to create a mask to avoid counting the padding tokens when computing the accuracy. \n",
    "\n",
    "<a name=\"ex04\"></a>\n",
    "### Exercise 04\n",
    "\n",
    "**Instructions:** Write a program that takes in your model and uses it to evaluate on the test set. You should be able to get an accuracy of 95%.  \n"
   ]
  },
  {
   "cell_type": "markdown",
   "metadata": {
    "colab_type": "text",
    "id": "AmIvd_GXnCuk"
   },
   "source": [
    "\n",
    "<details>    \n",
    "<summary>\n",
    "    <font size=\"3\" color=\"darkgreen\"><b>More Detailed Instructions </b></font>\n",
    "</summary>\n",
    "\n",
    "* *Step 1*: model(sentences) will give you the predicted output. \n",
    "\n",
    "* *Step 2*: Prediction will produce an output with an added dimension. For each sentence, for each word, there will be a vector of probabilities for each tag type. For each sentence,word, you need to pick the maximum valued tag. This will require `np.argmax` and careful use of the `axis` argument.\n",
    "* *Step 3*: Create a mask to prevent counting pad characters. It has the same dimension as output. An example below on matrix comparison provides a hint.\n",
    "* *Step 4*: Compute the accuracy metric by comparing your outputs against your test labels. Take the sum of that and divide by the total number of **unpadded** tokens. Use your mask value to mask the padded tokens. Return the accuracy. \n",
    "</detail>"
   ]
  },
  {
   "cell_type": "code",
   "execution_count": 37,
   "metadata": {
    "ExecuteTime": {
     "end_time": "2021-08-18T00:09:41.788249Z",
     "start_time": "2021-08-18T00:09:41.783846Z"
    },
    "colab": {
     "base_uri": "https://localhost:8080/",
     "height": 34
    },
    "colab_type": "code",
    "id": "qaSy_NywnCul",
    "outputId": "7ceb7d3f-6948-48e0-afd9-003bfe0d0a70",
    "scrolled": true
   },
   "outputs": [
    {
     "data": {
      "text/plain": [
       "array([False,  True, False, False])"
      ]
     },
     "execution_count": 37,
     "metadata": {},
     "output_type": "execute_result"
    }
   ],
   "source": [
    "#Example of a comparision on a matrix \n",
    "a = np.array([1, 2, 3, 4])\n",
    "a == 2"
   ]
  },
  {
   "cell_type": "code",
   "execution_count": 38,
   "metadata": {
    "ExecuteTime": {
     "end_time": "2021-08-18T00:09:44.607028Z",
     "start_time": "2021-08-18T00:09:44.542260Z"
    },
    "colab": {
     "base_uri": "https://localhost:8080/",
     "height": 34
    },
    "colab_type": "code",
    "id": "3H0Kx1rnnCun",
    "outputId": "cf3789c6-374e-402b-e833-8a2e5c5d8d33",
    "scrolled": true
   },
   "outputs": [
    {
     "name": "stdout",
     "output_type": "stream",
     "text": [
      "input shapes (7194, 70) (7194, 70)\n"
     ]
    }
   ],
   "source": [
    "# create the evaluation inputs\n",
    "x, y = next(data_generator(len(test_sentences), test_sentences, test_labels, vocab['<PAD>']))\n",
    "print(\"input shapes\", x.shape, y.shape)"
   ]
  },
  {
   "cell_type": "code",
   "execution_count": 39,
   "metadata": {
    "ExecuteTime": {
     "end_time": "2021-08-18T00:09:48.527221Z",
     "start_time": "2021-08-18T00:09:45.966394Z"
    },
    "colab": {
     "base_uri": "https://localhost:8080/",
     "height": 51
    },
    "colab_type": "code",
    "id": "rh16zSTonCuq",
    "outputId": "26aaa4e9-b34b-4c0a-99e4-35c0af52470b"
   },
   "outputs": [
    {
     "name": "stdout",
     "output_type": "stream",
     "text": [
      "<class 'jaxlib.xla_extension.DeviceArray'>\n",
      "tmp_pred has shape: (7194, 70, 17)\n"
     ]
    }
   ],
   "source": [
    "# sample prediction\n",
    "tmp_pred = model(x)\n",
    "print(type(tmp_pred))\n",
    "print(f\"tmp_pred has shape: {tmp_pred.shape}\")"
   ]
  },
  {
   "cell_type": "markdown",
   "metadata": {
    "colab_type": "text",
    "id": "78l5MTSBnCut"
   },
   "source": [
    "Note that the model's prediction has 3 axes: \n",
    "- the number of examples\n",
    "- the number of words in each example (padded to be as long as the longest sentence in the batch)\n",
    "- the number of possible targets (the 17 named entity tags)."
   ]
  },
  {
   "cell_type": "code",
   "execution_count": 40,
   "metadata": {
    "ExecuteTime": {
     "end_time": "2021-08-18T00:12:08.016301Z",
     "start_time": "2021-08-18T00:12:08.011209Z"
    },
    "colab": {},
    "colab_type": "code",
    "id": "8ek59ro9nCut"
   },
   "outputs": [],
   "source": [
    "# UNQ_C4 (UNIQUE CELL IDENTIFIER, DO NOT EDIT)\n",
    "# GRADED FUNCTION: evaluate_prediction\n",
    "def evaluate_prediction(pred, labels, pad):\n",
    "    \"\"\"\n",
    "    Inputs:\n",
    "        pred: prediction array with shape \n",
    "            (num examples, max sentence length in batch, num of classes)\n",
    "        labels: array of size (batch_size, seq_len)\n",
    "        pad: integer representing pad character\n",
    "    Outputs:\n",
    "        accuracy: float\n",
    "    \"\"\"\n",
    "    ### START CODE HERE (Replace instances of 'None' with your code) ###\n",
    "## step 1 ##\n",
    "    outputs = np.argmax(pred, axis=2)\n",
    "    print(\"outputs shape:\", outputs.shape)\n",
    "\n",
    "## step 2 ##\n",
    "    mask = labels != pad\n",
    "    print(\"mask shape:\", mask.shape, \"mask[0][20:30]:\", mask[0][20:30])\n",
    "## step 3 ##\n",
    "    accuracy = np.sum(outputs == labels) / float(np.sum(mask))\n",
    "    ### END CODE HERE ###\n",
    "    return accuracy\n"
   ]
  },
  {
   "cell_type": "code",
   "execution_count": 41,
   "metadata": {
    "ExecuteTime": {
     "end_time": "2021-08-18T00:12:09.871170Z",
     "start_time": "2021-08-18T00:12:08.905086Z"
    },
    "colab": {
     "base_uri": "https://localhost:8080/",
     "height": 68
    },
    "colab_type": "code",
    "id": "yCWFwt3m1sgL",
    "outputId": "701d6b4d-b9b6-41f7-80b3-d0c043880704",
    "scrolled": true
   },
   "outputs": [
    {
     "name": "stdout",
     "output_type": "stream",
     "text": [
      "outputs shape: (7194, 70)\n",
      "mask shape: (7194, 70) mask[0][20:30]: [ True  True  True False False False False False False False]\n",
      "accuracy:  0.937248\n"
     ]
    }
   ],
   "source": [
    "accuracy = evaluate_prediction(model(x), y, vocab['<PAD>'])\n",
    "print(\"accuracy: \", accuracy)"
   ]
  },
  {
   "cell_type": "markdown",
   "metadata": {
    "colab_type": "text",
    "id": "NcTJupqo5RcP"
   },
   "source": [
    "**Expected output (Approximately)**   \n",
    "```\n",
    "outputs shape: (7194, 70)\n",
    "mask shape: (7194, 70) mask[0][20:30]: [ True  True  True False False False False False False False]\n",
    "accuracy:  0.9543761281155191\n",
    "```\n"
   ]
  },
  {
   "cell_type": "markdown",
   "metadata": {
    "colab_type": "text",
    "id": "b2FEleAFLr3r"
   },
   "source": [
    "<a name=\"5\"></a>\n",
    "# Part 5:  Testing with your own sentence\n"
   ]
  },
  {
   "cell_type": "markdown",
   "metadata": {
    "colab_type": "text",
    "id": "EOeTPAx_Lr3t"
   },
   "source": [
    "Below, you can test it out with your own sentence! "
   ]
  },
  {
   "cell_type": "code",
   "execution_count": 42,
   "metadata": {
    "ExecuteTime": {
     "end_time": "2021-08-18T00:12:39.204260Z",
     "start_time": "2021-08-18T00:12:39.197572Z"
    },
    "colab": {},
    "colab_type": "code",
    "id": "0K4SyB20cHRf",
    "scrolled": true
   },
   "outputs": [],
   "source": [
    "# This is the function you will be using to test your own sentence.\n",
    "def predict(sentence, model, vocab, tag_map):\n",
    "    s = [vocab[token] if token in vocab else vocab['UNK'] for token in sentence.split(' ')]\n",
    "    batch_data = np.ones((1, len(s)))\n",
    "    batch_data[0][:] = s\n",
    "    sentence = np.array(batch_data).astype(int)\n",
    "    output = model(sentence)\n",
    "    outputs = np.argmax(output, axis=2)\n",
    "    labels = list(tag_map.keys())\n",
    "    pred = []\n",
    "    for i in range(len(outputs[0])):\n",
    "        idx = outputs[0][i] \n",
    "        pred_label = labels[idx]\n",
    "        pred.append(pred_label)\n",
    "    return pred"
   ]
  },
  {
   "cell_type": "code",
   "execution_count": 43,
   "metadata": {
    "ExecuteTime": {
     "end_time": "2021-08-18T00:12:43.517753Z",
     "start_time": "2021-08-18T00:12:41.071153Z"
    },
    "colab": {
     "base_uri": "https://localhost:8080/",
     "height": 170
    },
    "colab_type": "code",
    "id": "vLZCHoiULr3u",
    "outputId": "fab815fd-0472-4eaf-968a-abff1f5cfff5",
    "scrolled": true
   },
   "outputs": [
    {
     "name": "stdout",
     "output_type": "stream",
     "text": [
      "Peter B-per\n",
      "White B-org\n",
      "House I-org\n",
      "director I-org\n",
      "Sunday B-tim\n",
      "morning B-tim\n",
      "White B-org\n",
      "House I-org\n"
     ]
    }
   ],
   "source": [
    "# Try the output for the introduction example\n",
    "#sentence = \"Many French citizens are goin to visit Morocco for summer\"\n",
    "#sentence = \"Sharon Floyd flew to Miami last Friday\"\n",
    "\n",
    "# New york times news:\n",
    "sentence = \"Peter Navarro, the White House director of trade and manufacturing policy of U.S, said in an interview on Sunday morning that the White House was working to prepare for the possibility of a second wave of the coronavirus in the fall, though he said it wouldn’t necessarily come\"\n",
    "s = [vocab[token] if token in vocab else vocab['UNK'] for token in sentence.split(' ')]\n",
    "predictions = predict(sentence, model, vocab, tag_map)\n",
    "for x,y in zip(sentence.split(' '), predictions):\n",
    "    if y != 'O':\n",
    "        print(x,y)"
   ]
  },
  {
   "cell_type": "markdown",
   "metadata": {
    "colab_type": "text",
    "id": "NHYbSnYKnCu6"
   },
   "source": [
    "** Expected Results **\n",
    "\n",
    "```\n",
    "Peter B-per\n",
    "Navarro, I-per\n",
    "White B-org\n",
    "House I-org\n",
    "Sunday B-tim\n",
    "morning I-tim\n",
    "White B-org\n",
    "House I-org\n",
    "coronavirus B-tim\n",
    "fall, B-tim\n",
    "```"
   ]
  }
 ],
 "metadata": {
  "accelerator": "GPU",
  "colab": {
   "collapsed_sections": [],
   "name": "C3_W3_Assignment_Solution.ipynb",
   "provenance": [],
   "toc_visible": true
  },
  "coursera": {
   "schema_names": [
    "NLPC3-3A"
   ]
  },
  "kernelspec": {
   "display_name": "Python 3",
   "language": "python",
   "name": "python3"
  },
  "language_info": {
   "codemirror_mode": {
    "name": "ipython",
    "version": 3
   },
   "file_extension": ".py",
   "mimetype": "text/x-python",
   "name": "python",
   "nbconvert_exporter": "python",
   "pygments_lexer": "ipython3",
   "version": "3.6.9"
  },
  "toc": {
   "base_numbering": 1,
   "nav_menu": {},
   "number_sections": true,
   "sideBar": true,
   "skip_h1_title": false,
   "title_cell": "Table of Contents",
   "title_sidebar": "Contents",
   "toc_cell": false,
   "toc_position": {},
   "toc_section_display": true,
   "toc_window_display": true
  }
 },
 "nbformat": 4,
 "nbformat_minor": 1
}
