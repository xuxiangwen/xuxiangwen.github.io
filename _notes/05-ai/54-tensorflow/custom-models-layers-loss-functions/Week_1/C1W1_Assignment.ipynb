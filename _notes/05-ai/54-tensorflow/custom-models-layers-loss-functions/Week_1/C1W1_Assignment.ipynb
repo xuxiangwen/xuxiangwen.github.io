{
 "cells": [
  {
   "cell_type": "markdown",
   "metadata": {
    "colab_type": "text",
    "id": "ZL_6GK8qX35J"
   },
   "source": [
    "\n",
    "\n",
    "# Week 1: Multiple Output Models using the Keras Functional API\n",
    "\n",
    "Welcome to the first programming assignment of the course! Your task will be to use the Keras functional API to train a model to predict two outputs. For this lab, you will use the **[Wine Quality Dataset](https://archive.ics.uci.edu/ml/datasets/Wine+Quality)** from the **UCI machine learning repository**. It has separate datasets for red wine and white wine.\n",
    "\n",
    "Normally, the wines are classified into one of the quality ratings specified in the attributes. In this exercise, you will combine the two datasets to predict the wine quality and whether the wine is red or white solely from the attributes. \n",
    "\n",
    "You will model wine quality estimations as a regression problem and wine type detection as a binary classification problem.\n",
    "\n",
    "#### Please complete sections that are marked **(TODO)**"
   ]
  },
  {
   "cell_type": "markdown",
   "metadata": {
    "colab_type": "text",
    "id": "obdcD6urYBY9"
   },
   "source": [
    "## Imports"
   ]
  },
  {
   "cell_type": "code",
   "execution_count": 1,
   "metadata": {
    "ExecuteTime": {
     "end_time": "2021-07-01T03:30:43.200761Z",
     "start_time": "2021-07-01T03:30:40.235220Z"
    },
    "colab": {},
    "colab_type": "code",
    "id": "t8N3pcTQ5oQI"
   },
   "outputs": [],
   "source": [
    "import tensorflow as tf\n",
    "from tensorflow.keras.models import Model\n",
    "from tensorflow.keras.layers import Dense, Input\n",
    "\n",
    "import numpy as np\n",
    "import matplotlib.pyplot as plt\n",
    "import pandas as pd\n",
    "from sklearn.model_selection import train_test_split\n",
    "from sklearn.metrics import confusion_matrix\n",
    "import itertools\n",
    "\n",
    "import utils\n",
    "\n",
    "# auto load the changes of referenced codes\n",
    "%load_ext autoreload\n",
    "%autoreload 2"
   ]
  },
  {
   "cell_type": "code",
   "execution_count": 2,
   "metadata": {
    "ExecuteTime": {
     "end_time": "2021-07-01T03:30:43.283065Z",
     "start_time": "2021-07-01T03:30:43.203476Z"
    }
   },
   "outputs": [],
   "source": [
    "# if new methods are created in referenced codes, run the following code.\n",
    "%reload_ext autoreload"
   ]
  },
  {
   "cell_type": "code",
   "execution_count": 3,
   "metadata": {
    "ExecuteTime": {
     "end_time": "2021-07-01T03:30:43.345965Z",
     "start_time": "2021-07-01T03:30:43.285560Z"
    }
   },
   "outputs": [],
   "source": [
    "physical_devices = tf.config.experimental.list_physical_devices('GPU')\n",
    "for device in physical_devices:\n",
    "    tf.config.experimental.set_memory_growth(device, True)"
   ]
  },
  {
   "cell_type": "markdown",
   "metadata": {
    "colab_type": "text",
    "id": "gQMERzWQYpgm"
   },
   "source": [
    "## Load Dataset\n",
    "\n",
    "\n",
    "You will now download the dataset from the [UCI Machine Learning Repository](https://archive.ics.uci.edu/ml/index.php). \n",
    "\n",
    "### Pre-process the white wine dataset (TODO)\n",
    "You will add a new column named `is_red` in your dataframe to indicate if the wine is white or red. \n",
    "- In the white wine dataset, you will fill the column `is_red` with  zeros (0)."
   ]
  },
  {
   "cell_type": "code",
   "execution_count": 4,
   "metadata": {
    "ExecuteTime": {
     "end_time": "2021-07-01T03:30:44.775101Z",
     "start_time": "2021-07-01T03:30:43.348481Z"
    },
    "colab": {},
    "colab_type": "code",
    "deletable": false,
    "id": "2qYAjKXCd4RH",
    "nbgrader": {
     "cell_type": "code",
     "checksum": "cb9f284ba6255170fe04a309a407d72d",
     "grade": false,
     "grade_id": "cell-e5bfa0f152d9a21f",
     "locked": false,
     "schema_version": 3,
     "solution": true,
     "task": false
    }
   },
   "outputs": [],
   "source": [
    "# Please uncomment all lines in this cell and replace those marked with `# YOUR CODE HERE`.\n",
    "# You can select all lines in this code cell with Ctrl+A (Windows/Linux) or Cmd+A (Mac), then press Ctrl+/ (Windows/Linux) or Cmd+/ (Mac) to uncomment.\n",
    "\n",
    "\n",
    "\n",
    "# URL of the white wine dataset\n",
    "URL = 'http://archive.ics.uci.edu/ml/machine-learning-databases/wine-quality/winequality-white.csv'\n",
    "\n",
    "# load the dataset from the URL\n",
    "white_df = pd.read_csv(URL, sep=\";\")\n",
    "\n",
    "# fill the `is_red` column with zeros.\n",
    "white_df[\"is_red\"] = 0\n",
    "\n",
    "# keep only the first of duplicate items\n",
    "white_df = white_df.drop_duplicates(keep='first')\n"
   ]
  },
  {
   "cell_type": "code",
   "execution_count": 5,
   "metadata": {
    "ExecuteTime": {
     "end_time": "2021-07-01T03:30:44.866789Z",
     "start_time": "2021-07-01T03:30:44.777490Z"
    }
   },
   "outputs": [
    {
     "data": {
      "text/html": [
       "<div>\n",
       "<style scoped>\n",
       "    .dataframe tbody tr th:only-of-type {\n",
       "        vertical-align: middle;\n",
       "    }\n",
       "\n",
       "    .dataframe tbody tr th {\n",
       "        vertical-align: top;\n",
       "    }\n",
       "\n",
       "    .dataframe thead th {\n",
       "        text-align: right;\n",
       "    }\n",
       "</style>\n",
       "<table border=\"1\" class=\"dataframe\">\n",
       "  <thead>\n",
       "    <tr style=\"text-align: right;\">\n",
       "      <th></th>\n",
       "      <th>fixed acidity</th>\n",
       "      <th>volatile acidity</th>\n",
       "      <th>citric acid</th>\n",
       "      <th>residual sugar</th>\n",
       "      <th>chlorides</th>\n",
       "      <th>free sulfur dioxide</th>\n",
       "      <th>total sulfur dioxide</th>\n",
       "      <th>density</th>\n",
       "      <th>pH</th>\n",
       "      <th>sulphates</th>\n",
       "      <th>alcohol</th>\n",
       "      <th>quality</th>\n",
       "      <th>is_red</th>\n",
       "    </tr>\n",
       "  </thead>\n",
       "  <tbody>\n",
       "    <tr>\n",
       "      <th>0</th>\n",
       "      <td>7.0</td>\n",
       "      <td>0.27</td>\n",
       "      <td>0.36</td>\n",
       "      <td>20.7</td>\n",
       "      <td>0.045</td>\n",
       "      <td>45.0</td>\n",
       "      <td>170.0</td>\n",
       "      <td>1.00100</td>\n",
       "      <td>3.00</td>\n",
       "      <td>0.45</td>\n",
       "      <td>8.8</td>\n",
       "      <td>6</td>\n",
       "      <td>0</td>\n",
       "    </tr>\n",
       "    <tr>\n",
       "      <th>1</th>\n",
       "      <td>6.3</td>\n",
       "      <td>0.30</td>\n",
       "      <td>0.34</td>\n",
       "      <td>1.6</td>\n",
       "      <td>0.049</td>\n",
       "      <td>14.0</td>\n",
       "      <td>132.0</td>\n",
       "      <td>0.99400</td>\n",
       "      <td>3.30</td>\n",
       "      <td>0.49</td>\n",
       "      <td>9.5</td>\n",
       "      <td>6</td>\n",
       "      <td>0</td>\n",
       "    </tr>\n",
       "    <tr>\n",
       "      <th>2</th>\n",
       "      <td>8.1</td>\n",
       "      <td>0.28</td>\n",
       "      <td>0.40</td>\n",
       "      <td>6.9</td>\n",
       "      <td>0.050</td>\n",
       "      <td>30.0</td>\n",
       "      <td>97.0</td>\n",
       "      <td>0.99510</td>\n",
       "      <td>3.26</td>\n",
       "      <td>0.44</td>\n",
       "      <td>10.1</td>\n",
       "      <td>6</td>\n",
       "      <td>0</td>\n",
       "    </tr>\n",
       "    <tr>\n",
       "      <th>3</th>\n",
       "      <td>7.2</td>\n",
       "      <td>0.23</td>\n",
       "      <td>0.32</td>\n",
       "      <td>8.5</td>\n",
       "      <td>0.058</td>\n",
       "      <td>47.0</td>\n",
       "      <td>186.0</td>\n",
       "      <td>0.99560</td>\n",
       "      <td>3.19</td>\n",
       "      <td>0.40</td>\n",
       "      <td>9.9</td>\n",
       "      <td>6</td>\n",
       "      <td>0</td>\n",
       "    </tr>\n",
       "    <tr>\n",
       "      <th>6</th>\n",
       "      <td>6.2</td>\n",
       "      <td>0.32</td>\n",
       "      <td>0.16</td>\n",
       "      <td>7.0</td>\n",
       "      <td>0.045</td>\n",
       "      <td>30.0</td>\n",
       "      <td>136.0</td>\n",
       "      <td>0.99490</td>\n",
       "      <td>3.18</td>\n",
       "      <td>0.47</td>\n",
       "      <td>9.6</td>\n",
       "      <td>6</td>\n",
       "      <td>0</td>\n",
       "    </tr>\n",
       "    <tr>\n",
       "      <th>...</th>\n",
       "      <td>...</td>\n",
       "      <td>...</td>\n",
       "      <td>...</td>\n",
       "      <td>...</td>\n",
       "      <td>...</td>\n",
       "      <td>...</td>\n",
       "      <td>...</td>\n",
       "      <td>...</td>\n",
       "      <td>...</td>\n",
       "      <td>...</td>\n",
       "      <td>...</td>\n",
       "      <td>...</td>\n",
       "      <td>...</td>\n",
       "    </tr>\n",
       "    <tr>\n",
       "      <th>4893</th>\n",
       "      <td>6.2</td>\n",
       "      <td>0.21</td>\n",
       "      <td>0.29</td>\n",
       "      <td>1.6</td>\n",
       "      <td>0.039</td>\n",
       "      <td>24.0</td>\n",
       "      <td>92.0</td>\n",
       "      <td>0.99114</td>\n",
       "      <td>3.27</td>\n",
       "      <td>0.50</td>\n",
       "      <td>11.2</td>\n",
       "      <td>6</td>\n",
       "      <td>0</td>\n",
       "    </tr>\n",
       "    <tr>\n",
       "      <th>4894</th>\n",
       "      <td>6.6</td>\n",
       "      <td>0.32</td>\n",
       "      <td>0.36</td>\n",
       "      <td>8.0</td>\n",
       "      <td>0.047</td>\n",
       "      <td>57.0</td>\n",
       "      <td>168.0</td>\n",
       "      <td>0.99490</td>\n",
       "      <td>3.15</td>\n",
       "      <td>0.46</td>\n",
       "      <td>9.6</td>\n",
       "      <td>5</td>\n",
       "      <td>0</td>\n",
       "    </tr>\n",
       "    <tr>\n",
       "      <th>4895</th>\n",
       "      <td>6.5</td>\n",
       "      <td>0.24</td>\n",
       "      <td>0.19</td>\n",
       "      <td>1.2</td>\n",
       "      <td>0.041</td>\n",
       "      <td>30.0</td>\n",
       "      <td>111.0</td>\n",
       "      <td>0.99254</td>\n",
       "      <td>2.99</td>\n",
       "      <td>0.46</td>\n",
       "      <td>9.4</td>\n",
       "      <td>6</td>\n",
       "      <td>0</td>\n",
       "    </tr>\n",
       "    <tr>\n",
       "      <th>4896</th>\n",
       "      <td>5.5</td>\n",
       "      <td>0.29</td>\n",
       "      <td>0.30</td>\n",
       "      <td>1.1</td>\n",
       "      <td>0.022</td>\n",
       "      <td>20.0</td>\n",
       "      <td>110.0</td>\n",
       "      <td>0.98869</td>\n",
       "      <td>3.34</td>\n",
       "      <td>0.38</td>\n",
       "      <td>12.8</td>\n",
       "      <td>7</td>\n",
       "      <td>0</td>\n",
       "    </tr>\n",
       "    <tr>\n",
       "      <th>4897</th>\n",
       "      <td>6.0</td>\n",
       "      <td>0.21</td>\n",
       "      <td>0.38</td>\n",
       "      <td>0.8</td>\n",
       "      <td>0.020</td>\n",
       "      <td>22.0</td>\n",
       "      <td>98.0</td>\n",
       "      <td>0.98941</td>\n",
       "      <td>3.26</td>\n",
       "      <td>0.32</td>\n",
       "      <td>11.8</td>\n",
       "      <td>6</td>\n",
       "      <td>0</td>\n",
       "    </tr>\n",
       "  </tbody>\n",
       "</table>\n",
       "<p>3961 rows × 13 columns</p>\n",
       "</div>"
      ],
      "text/plain": [
       "      fixed acidity  volatile acidity  citric acid  residual sugar  chlorides  \\\n",
       "0               7.0              0.27         0.36            20.7      0.045   \n",
       "1               6.3              0.30         0.34             1.6      0.049   \n",
       "2               8.1              0.28         0.40             6.9      0.050   \n",
       "3               7.2              0.23         0.32             8.5      0.058   \n",
       "6               6.2              0.32         0.16             7.0      0.045   \n",
       "...             ...               ...          ...             ...        ...   \n",
       "4893            6.2              0.21         0.29             1.6      0.039   \n",
       "4894            6.6              0.32         0.36             8.0      0.047   \n",
       "4895            6.5              0.24         0.19             1.2      0.041   \n",
       "4896            5.5              0.29         0.30             1.1      0.022   \n",
       "4897            6.0              0.21         0.38             0.8      0.020   \n",
       "\n",
       "      free sulfur dioxide  total sulfur dioxide  density    pH  sulphates  \\\n",
       "0                    45.0                 170.0  1.00100  3.00       0.45   \n",
       "1                    14.0                 132.0  0.99400  3.30       0.49   \n",
       "2                    30.0                  97.0  0.99510  3.26       0.44   \n",
       "3                    47.0                 186.0  0.99560  3.19       0.40   \n",
       "6                    30.0                 136.0  0.99490  3.18       0.47   \n",
       "...                   ...                   ...      ...   ...        ...   \n",
       "4893                 24.0                  92.0  0.99114  3.27       0.50   \n",
       "4894                 57.0                 168.0  0.99490  3.15       0.46   \n",
       "4895                 30.0                 111.0  0.99254  2.99       0.46   \n",
       "4896                 20.0                 110.0  0.98869  3.34       0.38   \n",
       "4897                 22.0                  98.0  0.98941  3.26       0.32   \n",
       "\n",
       "      alcohol  quality  is_red  \n",
       "0         8.8        6       0  \n",
       "1         9.5        6       0  \n",
       "2        10.1        6       0  \n",
       "3         9.9        6       0  \n",
       "6         9.6        6       0  \n",
       "...       ...      ...     ...  \n",
       "4893     11.2        6       0  \n",
       "4894      9.6        5       0  \n",
       "4895      9.4        6       0  \n",
       "4896     12.8        7       0  \n",
       "4897     11.8        6       0  \n",
       "\n",
       "[3961 rows x 13 columns]"
      ]
     },
     "execution_count": 5,
     "metadata": {},
     "output_type": "execute_result"
    }
   ],
   "source": [
    "white_df"
   ]
  },
  {
   "cell_type": "code",
   "execution_count": 6,
   "metadata": {
    "ExecuteTime": {
     "end_time": "2021-07-01T03:30:44.923562Z",
     "start_time": "2021-07-01T03:30:44.869019Z"
    },
    "deletable": false,
    "editable": false,
    "nbgrader": {
     "cell_type": "code",
     "checksum": "defe38d6ec58fd31cd67b89e46c4373f",
     "grade": true,
     "grade_id": "cell-30575e713b55fc51",
     "locked": true,
     "points": 1,
     "schema_version": 3,
     "solution": false,
     "task": false
    }
   },
   "outputs": [
    {
     "name": "stdout",
     "output_type": "stream",
     "text": [
      "\u001b[92m All public tests passed\n"
     ]
    }
   ],
   "source": [
    "# You can click `File -> Open` in the menu above and open the `utils.py` file \n",
    "# in case you want to inspect the unit tests being used for each graded function.\n",
    "\n",
    "utils.test_white_df(white_df)\n"
   ]
  },
  {
   "cell_type": "code",
   "execution_count": 7,
   "metadata": {
    "ExecuteTime": {
     "end_time": "2021-07-01T03:30:44.977600Z",
     "start_time": "2021-07-01T03:30:44.925738Z"
    },
    "colab": {},
    "colab_type": "code",
    "id": "OQHK0ohBQRCk"
   },
   "outputs": [
    {
     "name": "stdout",
     "output_type": "stream",
     "text": [
      "8.8\n",
      "9.1\n"
     ]
    }
   ],
   "source": [
    "print(white_df.alcohol[0])\n",
    "print(white_df.alcohol[100])\n",
    "\n",
    "# EXPECTED OUTPUT\n",
    "# 8.8\n",
    "# 9.1"
   ]
  },
  {
   "cell_type": "markdown",
   "metadata": {},
   "source": [
    "### Pre-process the red wine dataset (TODO)\n",
    "- In the red wine dataset, you will fill in the column `is_red` with ones (1)."
   ]
  },
  {
   "cell_type": "code",
   "execution_count": 8,
   "metadata": {
    "ExecuteTime": {
     "end_time": "2021-07-01T03:30:46.080605Z",
     "start_time": "2021-07-01T03:30:44.981450Z"
    },
    "colab": {},
    "colab_type": "code",
    "deletable": false,
    "id": "8y3QxKwBed8v",
    "nbgrader": {
     "cell_type": "code",
     "checksum": "be72275f78e2c2d0038dde9aa63f8d4f",
     "grade": false,
     "grade_id": "cell-e47a40f306593274",
     "locked": false,
     "schema_version": 3,
     "solution": true,
     "task": false
    }
   },
   "outputs": [],
   "source": [
    "# Please uncomment all lines in this cell and replace those marked with `# YOUR CODE HERE`.\n",
    "# You can select all lines in this code cell with Ctrl+A (Windows/Linux) or Cmd+A (Mac), then press Ctrl+/ (Windows/Linux) or Cmd+/ (Mac) to uncomment.\n",
    "\n",
    "\n",
    "\n",
    "# URL of the red wine dataset\n",
    "URL = 'http://archive.ics.uci.edu/ml/machine-learning-databases/wine-quality/winequality-red.csv'\n",
    "\n",
    "# load the dataset from the URL\n",
    "red_df = pd.read_csv(URL, sep=\";\")\n",
    "\n",
    "# fill the `is_red` column with ones.\n",
    "red_df[\"is_red\"] = 1\n",
    "\n",
    "# keep only the first of duplicate items\n",
    "red_df = red_df.drop_duplicates(keep='first')\n"
   ]
  },
  {
   "cell_type": "code",
   "execution_count": 9,
   "metadata": {
    "ExecuteTime": {
     "end_time": "2021-07-01T03:30:46.139711Z",
     "start_time": "2021-07-01T03:30:46.083678Z"
    },
    "deletable": false,
    "editable": false,
    "nbgrader": {
     "cell_type": "code",
     "checksum": "d8e0c91b0fd668b63ba74a8f2f958b59",
     "grade": true,
     "grade_id": "cell-2a75937adcc0c25b",
     "locked": true,
     "points": 1,
     "schema_version": 3,
     "solution": false,
     "task": false
    }
   },
   "outputs": [
    {
     "name": "stdout",
     "output_type": "stream",
     "text": [
      "\u001b[92m All public tests passed\n"
     ]
    }
   ],
   "source": [
    "utils.test_red_df(red_df)\n"
   ]
  },
  {
   "cell_type": "code",
   "execution_count": 10,
   "metadata": {
    "ExecuteTime": {
     "end_time": "2021-07-01T03:30:46.198635Z",
     "start_time": "2021-07-01T03:30:46.142103Z"
    },
    "colab": {},
    "colab_type": "code",
    "id": "zsB3LUzNQpo_"
   },
   "outputs": [
    {
     "name": "stdout",
     "output_type": "stream",
     "text": [
      "9.4\n",
      "10.2\n"
     ]
    }
   ],
   "source": [
    "print(red_df.alcohol[0])\n",
    "print(red_df.alcohol[100])\n",
    "\n",
    "# EXPECTED OUTPUT\n",
    "# 9.4\n",
    "# 10.2"
   ]
  },
  {
   "cell_type": "markdown",
   "metadata": {
    "colab_type": "text",
    "id": "2G8B-NYuM6-f"
   },
   "source": [
    "### Concatenate the datasets\n",
    "\n",
    "Next, concatenate the red and white wine dataframes."
   ]
  },
  {
   "cell_type": "code",
   "execution_count": 11,
   "metadata": {
    "ExecuteTime": {
     "end_time": "2021-07-01T03:30:46.254680Z",
     "start_time": "2021-07-01T03:30:46.200977Z"
    },
    "colab": {},
    "colab_type": "code",
    "id": "YpQrOjJbfN3m"
   },
   "outputs": [],
   "source": [
    "df = pd.concat([red_df, white_df], ignore_index=True)"
   ]
  },
  {
   "cell_type": "code",
   "execution_count": 12,
   "metadata": {
    "ExecuteTime": {
     "end_time": "2021-07-01T03:30:46.309579Z",
     "start_time": "2021-07-01T03:30:46.256910Z"
    },
    "colab": {},
    "colab_type": "code",
    "id": "Se2dTmThQyjb"
   },
   "outputs": [
    {
     "name": "stdout",
     "output_type": "stream",
     "text": [
      "9.4\n",
      "9.5\n"
     ]
    }
   ],
   "source": [
    "print(df.alcohol[0])\n",
    "print(df.alcohol[100])\n",
    "\n",
    "# EXPECTED OUTPUT\n",
    "# 9.4\n",
    "# 9.5"
   ]
  },
  {
   "cell_type": "code",
   "execution_count": 13,
   "metadata": {
    "ExecuteTime": {
     "end_time": "2021-07-01T03:30:46.361655Z",
     "start_time": "2021-07-01T03:30:46.311842Z"
    },
    "colab": {},
    "colab_type": "code",
    "id": "wx6y3rPpQv4k"
   },
   "outputs": [],
   "source": [
    "# NOTE: In a real-world scenario, you should shuffle the data.\n",
    "# YOU ARE NOT going to do that here because we want to test\n",
    "# with deterministic data. But if you want the code to do it,\n",
    "# it's in the commented line below:\n",
    "\n",
    "#df = df.iloc[np.random.permutation(len(df))]"
   ]
  },
  {
   "cell_type": "markdown",
   "metadata": {
    "colab_type": "text",
    "id": "-EqIcbg5M_n1"
   },
   "source": [
    "This will chart the quality of the wines."
   ]
  },
  {
   "cell_type": "code",
   "execution_count": 14,
   "metadata": {
    "ExecuteTime": {
     "end_time": "2021-07-01T03:30:46.648429Z",
     "start_time": "2021-07-01T03:30:46.363883Z"
    },
    "colab": {},
    "colab_type": "code",
    "id": "IsvK0-Sgy17C"
   },
   "outputs": [
    {
     "data": {
      "image/png": "[encoded data removed]",
      "text/plain": [
       "<Figure size 432x288 with 1 Axes>"
      ]
     },
     "metadata": {
      "needs_background": "light"
     },
     "output_type": "display_data"
    }
   ],
   "source": [
    "df['quality'].hist(bins=20);"
   ]
  },
  {
   "cell_type": "markdown",
   "metadata": {
    "colab_type": "text",
    "id": "Nut1rmYLzf-p"
   },
   "source": [
    "### Imbalanced data (TODO)\n",
    "You can see from the plot above that the wine quality dataset is imbalanced. \n",
    "- Since there are very few observations with quality equal to 3, 4, 8 and 9, you can drop these observations from your dataset. \n",
    "- You can do this by removing data belonging to all classes except those > 4 and < 8."
   ]
  },
  {
   "cell_type": "code",
   "execution_count": 15,
   "metadata": {
    "ExecuteTime": {
     "end_time": "2021-07-01T03:30:46.708746Z",
     "start_time": "2021-07-01T03:30:46.650818Z"
    },
    "colab": {},
    "colab_type": "code",
    "deletable": false,
    "id": "doH9_-gnf3sz",
    "nbgrader": {
     "cell_type": "code",
     "checksum": "d9ba9fc3a3ca02ccc567be33652b80fe",
     "grade": false,
     "grade_id": "cell-6a3e9db696f6827b",
     "locked": false,
     "schema_version": 3,
     "solution": true,
     "task": false
    }
   },
   "outputs": [],
   "source": [
    "# Please uncomment all lines in this cell and replace those marked with `# YOUR CODE HERE`.\n",
    "# You can select all lines in this code cell with Ctrl+A (Windows/Linux) or Cmd+A (Mac), then press Ctrl+/ (Windows/Linux) or Cmd+/ (Mac) to uncomment.\n",
    "\n",
    "\n",
    "\n",
    "# get data with wine quality greater than 4 and less than 8\n",
    "df = df[(df['quality'] > 4) & (df['quality'] < 8 )]\n",
    "\n",
    "# reset index and drop the old one\n",
    "df = df.reset_index(drop=True)"
   ]
  },
  {
   "cell_type": "code",
   "execution_count": 16,
   "metadata": {
    "ExecuteTime": {
     "end_time": "2021-07-01T03:30:46.761459Z",
     "start_time": "2021-07-01T03:30:46.711072Z"
    },
    "deletable": false,
    "editable": false,
    "nbgrader": {
     "cell_type": "code",
     "checksum": "281e1d86a4803560ed5892cd7eda4c01",
     "grade": true,
     "grade_id": "cell-aed3da719d4682c7",
     "locked": true,
     "points": 1,
     "schema_version": 3,
     "solution": false,
     "task": false
    }
   },
   "outputs": [
    {
     "name": "stdout",
     "output_type": "stream",
     "text": [
      "\u001b[92m All public tests passed\n"
     ]
    }
   ],
   "source": [
    "utils.test_df_drop(df)\n",
    "\n"
   ]
  },
  {
   "cell_type": "code",
   "execution_count": 17,
   "metadata": {
    "ExecuteTime": {
     "end_time": "2021-07-01T03:30:46.812713Z",
     "start_time": "2021-07-01T03:30:46.763645Z"
    },
    "colab": {},
    "colab_type": "code",
    "id": "xNR1iAlMRPXO"
   },
   "outputs": [
    {
     "name": "stdout",
     "output_type": "stream",
     "text": [
      "9.4\n",
      "10.9\n"
     ]
    }
   ],
   "source": [
    "print(df.alcohol[0])\n",
    "print(df.alcohol[100])\n",
    "\n",
    "# EXPECTED OUTPUT\n",
    "# 9.4\n",
    "# 10.9"
   ]
  },
  {
   "cell_type": "markdown",
   "metadata": {
    "colab_type": "text",
    "id": "cwhuRpnVRTzG"
   },
   "source": [
    "You can plot again to see the new range of data and quality"
   ]
  },
  {
   "cell_type": "code",
   "execution_count": 18,
   "metadata": {
    "ExecuteTime": {
     "end_time": "2021-07-01T03:30:47.101565Z",
     "start_time": "2021-07-01T03:30:46.814891Z"
    },
    "colab": {},
    "colab_type": "code",
    "id": "857ygzZiLgGg"
   },
   "outputs": [
    {
     "data": {
      "image/png": "[encoded data removed]",
      "text/plain": [
       "<Figure size 432x288 with 1 Axes>"
      ]
     },
     "metadata": {
      "needs_background": "light"
     },
     "output_type": "display_data"
    }
   ],
   "source": [
    "df['quality'].hist(bins=20);"
   ]
  },
  {
   "cell_type": "markdown",
   "metadata": {
    "colab_type": "text",
    "id": "n3k0vqSsp84t"
   },
   "source": [
    "### Train Test Split (TODO)\n",
    "\n",
    "Next, you can split the datasets into training, test and validation datasets.\n",
    "- The data frame should be split 80:20 into `train` and `test` sets.\n",
    "- The resulting `train` should then be split 80:20 into `train` and `val` sets.\n",
    "- The `train_test_split` parameter `test_size` takes a float value that ranges between 0. and 1, and represents the proportion of the dataset that is allocated to the test set.  The rest of the data is allocated to the training set."
   ]
  },
  {
   "cell_type": "code",
   "execution_count": 19,
   "metadata": {
    "ExecuteTime": {
     "end_time": "2021-07-01T03:30:47.163388Z",
     "start_time": "2021-07-01T03:30:47.103881Z"
    },
    "colab": {},
    "colab_type": "code",
    "deletable": false,
    "id": "PAVIf2-fgRVY",
    "nbgrader": {
     "cell_type": "code",
     "checksum": "7f5738f4fb51d65adc9a8acbdf2b9970",
     "grade": false,
     "grade_id": "cell-91946cadf745206b",
     "locked": false,
     "schema_version": 3,
     "solution": true,
     "task": false
    }
   },
   "outputs": [],
   "source": [
    "# Please uncomment all lines in this cell and replace those marked with `# YOUR CODE HERE`.\n",
    "# You can select all lines in this code cell with Ctrl+A (Windows/Linux) or Cmd+A (Mac), then press Ctrl+/ (Windows/Linux) or Cmd+/ (Mac) to uncomment.\n",
    "\n",
    "\n",
    "\n",
    "# Please do not change the random_state parameter. This is needed for grading.\n",
    "\n",
    "# split df into 80:20 train and test sets\n",
    "train, test = train_test_split(df, test_size=0.2, random_state = 1)\n",
    "                               \n",
    "# split train into 80:20 train and val sets\n",
    "train, val = train_test_split(train, test_size=0.2, random_state = 1)"
   ]
  },
  {
   "cell_type": "code",
   "execution_count": 20,
   "metadata": {
    "ExecuteTime": {
     "end_time": "2021-07-01T03:30:47.220441Z",
     "start_time": "2021-07-01T03:30:47.165743Z"
    },
    "colab": {},
    "colab_type": "code",
    "deletable": false,
    "editable": false,
    "id": "57h9LcEzRWpk",
    "nbgrader": {
     "cell_type": "code",
     "checksum": "42adbe9e66efac7c7a5f8cd73ac92f22",
     "grade": true,
     "grade_id": "cell-64b8b38cd0b965f6",
     "locked": true,
     "points": 1,
     "schema_version": 3,
     "solution": false,
     "task": false
    }
   },
   "outputs": [
    {
     "name": "stdout",
     "output_type": "stream",
     "text": [
      "\u001b[92m All public tests passed\n"
     ]
    }
   ],
   "source": [
    "utils.test_data_sizes(train.size, test.size, val.size)\n",
    "\n"
   ]
  },
  {
   "cell_type": "markdown",
   "metadata": {
    "colab_type": "text",
    "id": "RwTNu4KFqG-K"
   },
   "source": [
    "Here's where you can explore the training stats. You can pop the labels 'is_red' and 'quality' from the data as these will be used as the labels\n"
   ]
  },
  {
   "cell_type": "code",
   "execution_count": 21,
   "metadata": {
    "ExecuteTime": {
     "end_time": "2021-07-01T03:30:47.327530Z",
     "start_time": "2021-07-01T03:30:47.222726Z"
    },
    "colab": {},
    "colab_type": "code",
    "id": "Y_afyhhHM6WQ"
   },
   "outputs": [],
   "source": [
    "train_stats = train.describe()\n",
    "train_stats.pop('is_red')\n",
    "train_stats.pop('quality')\n",
    "train_stats = train_stats.transpose()"
   ]
  },
  {
   "cell_type": "markdown",
   "metadata": {
    "colab_type": "text",
    "id": "ahvbYm4fNqSt"
   },
   "source": [
    "Explore the training stats!"
   ]
  },
  {
   "cell_type": "code",
   "execution_count": 22,
   "metadata": {
    "ExecuteTime": {
     "end_time": "2021-07-01T03:30:47.397182Z",
     "start_time": "2021-07-01T03:30:47.329922Z"
    },
    "colab": {},
    "colab_type": "code",
    "id": "n_gAtPjZ0otF"
   },
   "outputs": [
    {
     "data": {
      "text/html": [
       "<div>\n",
       "<style scoped>\n",
       "    .dataframe tbody tr th:only-of-type {\n",
       "        vertical-align: middle;\n",
       "    }\n",
       "\n",
       "    .dataframe tbody tr th {\n",
       "        vertical-align: top;\n",
       "    }\n",
       "\n",
       "    .dataframe thead th {\n",
       "        text-align: right;\n",
       "    }\n",
       "</style>\n",
       "<table border=\"1\" class=\"dataframe\">\n",
       "  <thead>\n",
       "    <tr style=\"text-align: right;\">\n",
       "      <th></th>\n",
       "      <th>count</th>\n",
       "      <th>mean</th>\n",
       "      <th>std</th>\n",
       "      <th>min</th>\n",
       "      <th>25%</th>\n",
       "      <th>50%</th>\n",
       "      <th>75%</th>\n",
       "      <th>max</th>\n",
       "    </tr>\n",
       "  </thead>\n",
       "  <tbody>\n",
       "    <tr>\n",
       "      <th>fixed acidity</th>\n",
       "      <td>3155.0</td>\n",
       "      <td>7.221616</td>\n",
       "      <td>1.325297</td>\n",
       "      <td>3.80000</td>\n",
       "      <td>6.40000</td>\n",
       "      <td>7.00000</td>\n",
       "      <td>7.7000</td>\n",
       "      <td>15.60000</td>\n",
       "    </tr>\n",
       "    <tr>\n",
       "      <th>volatile acidity</th>\n",
       "      <td>3155.0</td>\n",
       "      <td>0.338929</td>\n",
       "      <td>0.162476</td>\n",
       "      <td>0.08000</td>\n",
       "      <td>0.23000</td>\n",
       "      <td>0.29000</td>\n",
       "      <td>0.4000</td>\n",
       "      <td>1.24000</td>\n",
       "    </tr>\n",
       "    <tr>\n",
       "      <th>citric acid</th>\n",
       "      <td>3155.0</td>\n",
       "      <td>0.321569</td>\n",
       "      <td>0.147970</td>\n",
       "      <td>0.00000</td>\n",
       "      <td>0.25000</td>\n",
       "      <td>0.31000</td>\n",
       "      <td>0.4000</td>\n",
       "      <td>1.66000</td>\n",
       "    </tr>\n",
       "    <tr>\n",
       "      <th>residual sugar</th>\n",
       "      <td>3155.0</td>\n",
       "      <td>5.155911</td>\n",
       "      <td>4.639632</td>\n",
       "      <td>0.60000</td>\n",
       "      <td>1.80000</td>\n",
       "      <td>2.80000</td>\n",
       "      <td>7.6500</td>\n",
       "      <td>65.80000</td>\n",
       "    </tr>\n",
       "    <tr>\n",
       "      <th>chlorides</th>\n",
       "      <td>3155.0</td>\n",
       "      <td>0.056976</td>\n",
       "      <td>0.036802</td>\n",
       "      <td>0.01200</td>\n",
       "      <td>0.03800</td>\n",
       "      <td>0.04700</td>\n",
       "      <td>0.0660</td>\n",
       "      <td>0.61100</td>\n",
       "    </tr>\n",
       "    <tr>\n",
       "      <th>free sulfur dioxide</th>\n",
       "      <td>3155.0</td>\n",
       "      <td>30.388590</td>\n",
       "      <td>17.236784</td>\n",
       "      <td>1.00000</td>\n",
       "      <td>17.00000</td>\n",
       "      <td>28.00000</td>\n",
       "      <td>41.0000</td>\n",
       "      <td>131.00000</td>\n",
       "    </tr>\n",
       "    <tr>\n",
       "      <th>total sulfur dioxide</th>\n",
       "      <td>3155.0</td>\n",
       "      <td>115.062282</td>\n",
       "      <td>56.706617</td>\n",
       "      <td>6.00000</td>\n",
       "      <td>75.00000</td>\n",
       "      <td>117.00000</td>\n",
       "      <td>156.0000</td>\n",
       "      <td>344.00000</td>\n",
       "    </tr>\n",
       "    <tr>\n",
       "      <th>density</th>\n",
       "      <td>3155.0</td>\n",
       "      <td>0.994633</td>\n",
       "      <td>0.003005</td>\n",
       "      <td>0.98711</td>\n",
       "      <td>0.99232</td>\n",
       "      <td>0.99481</td>\n",
       "      <td>0.9968</td>\n",
       "      <td>1.03898</td>\n",
       "    </tr>\n",
       "    <tr>\n",
       "      <th>pH</th>\n",
       "      <td>3155.0</td>\n",
       "      <td>3.223201</td>\n",
       "      <td>0.161272</td>\n",
       "      <td>2.72000</td>\n",
       "      <td>3.11000</td>\n",
       "      <td>3.21000</td>\n",
       "      <td>3.3300</td>\n",
       "      <td>4.01000</td>\n",
       "    </tr>\n",
       "    <tr>\n",
       "      <th>sulphates</th>\n",
       "      <td>3155.0</td>\n",
       "      <td>0.534051</td>\n",
       "      <td>0.149149</td>\n",
       "      <td>0.22000</td>\n",
       "      <td>0.43000</td>\n",
       "      <td>0.51000</td>\n",
       "      <td>0.6000</td>\n",
       "      <td>1.95000</td>\n",
       "    </tr>\n",
       "    <tr>\n",
       "      <th>alcohol</th>\n",
       "      <td>3155.0</td>\n",
       "      <td>10.504466</td>\n",
       "      <td>1.154654</td>\n",
       "      <td>8.50000</td>\n",
       "      <td>9.50000</td>\n",
       "      <td>10.30000</td>\n",
       "      <td>11.3000</td>\n",
       "      <td>14.00000</td>\n",
       "    </tr>\n",
       "  </tbody>\n",
       "</table>\n",
       "</div>"
      ],
      "text/plain": [
       "                       count        mean        std      min       25%  \\\n",
       "fixed acidity         3155.0    7.221616   1.325297  3.80000   6.40000   \n",
       "volatile acidity      3155.0    0.338929   0.162476  0.08000   0.23000   \n",
       "citric acid           3155.0    0.321569   0.147970  0.00000   0.25000   \n",
       "residual sugar        3155.0    5.155911   4.639632  0.60000   1.80000   \n",
       "chlorides             3155.0    0.056976   0.036802  0.01200   0.03800   \n",
       "free sulfur dioxide   3155.0   30.388590  17.236784  1.00000  17.00000   \n",
       "total sulfur dioxide  3155.0  115.062282  56.706617  6.00000  75.00000   \n",
       "density               3155.0    0.994633   0.003005  0.98711   0.99232   \n",
       "pH                    3155.0    3.223201   0.161272  2.72000   3.11000   \n",
       "sulphates             3155.0    0.534051   0.149149  0.22000   0.43000   \n",
       "alcohol               3155.0   10.504466   1.154654  8.50000   9.50000   \n",
       "\n",
       "                            50%       75%        max  \n",
       "fixed acidity           7.00000    7.7000   15.60000  \n",
       "volatile acidity        0.29000    0.4000    1.24000  \n",
       "citric acid             0.31000    0.4000    1.66000  \n",
       "residual sugar          2.80000    7.6500   65.80000  \n",
       "chlorides               0.04700    0.0660    0.61100  \n",
       "free sulfur dioxide    28.00000   41.0000  131.00000  \n",
       "total sulfur dioxide  117.00000  156.0000  344.00000  \n",
       "density                 0.99481    0.9968    1.03898  \n",
       "pH                      3.21000    3.3300    4.01000  \n",
       "sulphates               0.51000    0.6000    1.95000  \n",
       "alcohol                10.30000   11.3000   14.00000  "
      ]
     },
     "execution_count": 22,
     "metadata": {},
     "output_type": "execute_result"
    }
   ],
   "source": [
    "train_stats"
   ]
  },
  {
   "cell_type": "markdown",
   "metadata": {
    "colab_type": "text",
    "id": "bGPvt9jir_HC"
   },
   "source": [
    "### Get the labels (TODO)\n",
    "\n",
    "The features and labels are currently in the same dataframe.\n",
    "- You will want to store the label columns `is_red` and `quality` separately from the feature columns.  \n",
    "- The following function, `format_output`, gets these two columns from the dataframe (it's given to you).\n",
    "- `format_output` also formats the data into numpy arrays. \n",
    "- Please use the `format_output` and apply it to the `train`, `val` and `test` sets to get dataframes for the labels."
   ]
  },
  {
   "cell_type": "code",
   "execution_count": 23,
   "metadata": {
    "ExecuteTime": {
     "end_time": "2021-07-01T03:30:47.454108Z",
     "start_time": "2021-07-01T03:30:47.402794Z"
    },
    "colab": {},
    "colab_type": "code",
    "id": "Z_fs14XQqZVP"
   },
   "outputs": [],
   "source": [
    "def format_output(data):\n",
    "    is_red = data.pop('is_red')\n",
    "    is_red = np.array(is_red)\n",
    "    quality = data.pop('quality')\n",
    "    quality = np.array(quality)\n",
    "    return (quality, is_red)"
   ]
  },
  {
   "cell_type": "code",
   "execution_count": 24,
   "metadata": {
    "ExecuteTime": {
     "end_time": "2021-07-01T03:30:47.508221Z",
     "start_time": "2021-07-01T03:30:47.457163Z"
    },
    "colab": {},
    "colab_type": "code",
    "deletable": false,
    "id": "8L3ZZe1fQicm",
    "nbgrader": {
     "cell_type": "code",
     "checksum": "7a86809e54895a816434c48dc903f55d",
     "grade": false,
     "grade_id": "cell-5c30fa2c2a354b0f",
     "locked": false,
     "schema_version": 3,
     "solution": true,
     "task": false
    }
   },
   "outputs": [],
   "source": [
    "# Please uncomment all lines in this cell and replace those marked with `# YOUR CODE HERE`.\n",
    "# You can select all lines in this code cell with Ctrl+A (Windows/Linux) or Cmd+A (Mac), then press Ctrl+/ (Windows/Linux) or Cmd+/ (Mac) to uncomment.\n",
    "\n",
    "\n",
    "\n",
    "# format the output of the train set\n",
    "train_Y = format_output(train)\n",
    "\n",
    "# format the output of the val set\n",
    "val_Y = format_output(val)\n",
    "    \n",
    "# format the output of the test set\n",
    "test_Y = format_output(test)"
   ]
  },
  {
   "cell_type": "code",
   "execution_count": 25,
   "metadata": {
    "ExecuteTime": {
     "end_time": "2021-07-01T03:30:47.564062Z",
     "start_time": "2021-07-01T03:30:47.510435Z"
    },
    "deletable": false,
    "editable": false,
    "nbgrader": {
     "cell_type": "code",
     "checksum": "359cabbafaed14ec9bbc1e57a7b6f32c",
     "grade": true,
     "grade_id": "cell-4977d8befb80f56b",
     "locked": true,
     "points": 1,
     "schema_version": 3,
     "solution": false,
     "task": false
    }
   },
   "outputs": [
    {
     "name": "stdout",
     "output_type": "stream",
     "text": [
      "\u001b[92m All public tests passed\n"
     ]
    }
   ],
   "source": [
    "utils.test_format_output(df, train_Y, val_Y, test_Y)"
   ]
  },
  {
   "cell_type": "markdown",
   "metadata": {},
   "source": [
    "Notice that after you get the labels, the `train`, `val` and `test` dataframes no longer contain the label columns, and contain just the feature columns.\n",
    "- This is because you used `.pop` in the `format_output` function."
   ]
  },
  {
   "cell_type": "code",
   "execution_count": 26,
   "metadata": {
    "ExecuteTime": {
     "end_time": "2021-07-01T03:30:47.631433Z",
     "start_time": "2021-07-01T03:30:47.566334Z"
    }
   },
   "outputs": [
    {
     "data": {
      "text/html": [
       "<div>\n",
       "<style scoped>\n",
       "    .dataframe tbody tr th:only-of-type {\n",
       "        vertical-align: middle;\n",
       "    }\n",
       "\n",
       "    .dataframe tbody tr th {\n",
       "        vertical-align: top;\n",
       "    }\n",
       "\n",
       "    .dataframe thead th {\n",
       "        text-align: right;\n",
       "    }\n",
       "</style>\n",
       "<table border=\"1\" class=\"dataframe\">\n",
       "  <thead>\n",
       "    <tr style=\"text-align: right;\">\n",
       "      <th></th>\n",
       "      <th>fixed acidity</th>\n",
       "      <th>volatile acidity</th>\n",
       "      <th>citric acid</th>\n",
       "      <th>residual sugar</th>\n",
       "      <th>chlorides</th>\n",
       "      <th>free sulfur dioxide</th>\n",
       "      <th>total sulfur dioxide</th>\n",
       "      <th>density</th>\n",
       "      <th>pH</th>\n",
       "      <th>sulphates</th>\n",
       "      <th>alcohol</th>\n",
       "    </tr>\n",
       "  </thead>\n",
       "  <tbody>\n",
       "    <tr>\n",
       "      <th>225</th>\n",
       "      <td>7.5</td>\n",
       "      <td>0.65</td>\n",
       "      <td>0.18</td>\n",
       "      <td>7.0</td>\n",
       "      <td>0.088</td>\n",
       "      <td>27.0</td>\n",
       "      <td>94.0</td>\n",
       "      <td>0.99915</td>\n",
       "      <td>3.38</td>\n",
       "      <td>0.77</td>\n",
       "      <td>9.4</td>\n",
       "    </tr>\n",
       "    <tr>\n",
       "      <th>3557</th>\n",
       "      <td>6.3</td>\n",
       "      <td>0.27</td>\n",
       "      <td>0.29</td>\n",
       "      <td>12.2</td>\n",
       "      <td>0.044</td>\n",
       "      <td>59.0</td>\n",
       "      <td>196.0</td>\n",
       "      <td>0.99782</td>\n",
       "      <td>3.14</td>\n",
       "      <td>0.40</td>\n",
       "      <td>8.8</td>\n",
       "    </tr>\n",
       "    <tr>\n",
       "      <th>3825</th>\n",
       "      <td>8.8</td>\n",
       "      <td>0.27</td>\n",
       "      <td>0.25</td>\n",
       "      <td>5.0</td>\n",
       "      <td>0.024</td>\n",
       "      <td>52.0</td>\n",
       "      <td>99.0</td>\n",
       "      <td>0.99250</td>\n",
       "      <td>2.87</td>\n",
       "      <td>0.49</td>\n",
       "      <td>11.4</td>\n",
       "    </tr>\n",
       "    <tr>\n",
       "      <th>1740</th>\n",
       "      <td>6.4</td>\n",
       "      <td>0.45</td>\n",
       "      <td>0.07</td>\n",
       "      <td>1.1</td>\n",
       "      <td>0.030</td>\n",
       "      <td>10.0</td>\n",
       "      <td>131.0</td>\n",
       "      <td>0.99050</td>\n",
       "      <td>2.97</td>\n",
       "      <td>0.28</td>\n",
       "      <td>10.8</td>\n",
       "    </tr>\n",
       "    <tr>\n",
       "      <th>1221</th>\n",
       "      <td>7.2</td>\n",
       "      <td>0.53</td>\n",
       "      <td>0.13</td>\n",
       "      <td>2.0</td>\n",
       "      <td>0.058</td>\n",
       "      <td>18.0</td>\n",
       "      <td>22.0</td>\n",
       "      <td>0.99573</td>\n",
       "      <td>3.21</td>\n",
       "      <td>0.68</td>\n",
       "      <td>9.9</td>\n",
       "    </tr>\n",
       "  </tbody>\n",
       "</table>\n",
       "</div>"
      ],
      "text/plain": [
       "      fixed acidity  volatile acidity  citric acid  residual sugar  chlorides  \\\n",
       "225             7.5              0.65         0.18             7.0      0.088   \n",
       "3557            6.3              0.27         0.29            12.2      0.044   \n",
       "3825            8.8              0.27         0.25             5.0      0.024   \n",
       "1740            6.4              0.45         0.07             1.1      0.030   \n",
       "1221            7.2              0.53         0.13             2.0      0.058   \n",
       "\n",
       "      free sulfur dioxide  total sulfur dioxide  density    pH  sulphates  \\\n",
       "225                  27.0                  94.0  0.99915  3.38       0.77   \n",
       "3557                 59.0                 196.0  0.99782  3.14       0.40   \n",
       "3825                 52.0                  99.0  0.99250  2.87       0.49   \n",
       "1740                 10.0                 131.0  0.99050  2.97       0.28   \n",
       "1221                 18.0                  22.0  0.99573  3.21       0.68   \n",
       "\n",
       "      alcohol  \n",
       "225       9.4  \n",
       "3557      8.8  \n",
       "3825     11.4  \n",
       "1740     10.8  \n",
       "1221      9.9  "
      ]
     },
     "execution_count": 26,
     "metadata": {},
     "output_type": "execute_result"
    }
   ],
   "source": [
    "train.head()"
   ]
  },
  {
   "cell_type": "markdown",
   "metadata": {
    "colab_type": "text",
    "id": "hEdbrruAsN1D"
   },
   "source": [
    "### Normalize the data (TODO)\n",
    "\n",
    "Next, you can normalize the data, x, using the formula:\n",
    "$$x_{norm} = \\frac{x - \\mu}{\\sigma}$$\n",
    "- The `norm` function is defined for you.\n",
    "- Please apply the `norm` function to normalize the dataframes that contains the feature columns of `train`, `val` and `test` sets."
   ]
  },
  {
   "cell_type": "code",
   "execution_count": 27,
   "metadata": {
    "ExecuteTime": {
     "end_time": "2021-07-01T03:30:47.687003Z",
     "start_time": "2021-07-01T03:30:47.633673Z"
    },
    "colab": {},
    "colab_type": "code",
    "id": "WWiZPAHCLjUs"
   },
   "outputs": [],
   "source": [
    "def norm(x):\n",
    "    return (x - train_stats['mean']) / train_stats['std']"
   ]
  },
  {
   "cell_type": "code",
   "execution_count": 28,
   "metadata": {
    "ExecuteTime": {
     "end_time": "2021-07-01T03:30:47.743155Z",
     "start_time": "2021-07-01T03:30:47.689536Z"
    },
    "colab": {},
    "colab_type": "code",
    "deletable": false,
    "id": "JEaOi2I2Lk69",
    "nbgrader": {
     "cell_type": "code",
     "checksum": "6bc0cdcb563d192f271067aa3373ff32",
     "grade": false,
     "grade_id": "cell-d8416d975c371095",
     "locked": false,
     "schema_version": 3,
     "solution": true,
     "task": false
    }
   },
   "outputs": [],
   "source": [
    "# Please uncomment all lines in this cell and replace those marked with `# YOUR CODE HERE`.\n",
    "# You can select all lines in this code cell with Ctrl+A (Windows/Linux) or Cmd+A (Mac), then press Ctrl+/ (Windows/Linux) or Cmd+/ (Mac) to uncomment.\n",
    "\n",
    "\n",
    "\n",
    "# normalize the train set\n",
    "norm_train_X = norm(train)\n",
    "    \n",
    "# normalize the val set\n",
    "norm_val_X = norm(val)\n",
    "    \n",
    "# normalize the test set\n",
    "norm_test_X = norm(test)"
   ]
  },
  {
   "cell_type": "code",
   "execution_count": 29,
   "metadata": {
    "ExecuteTime": {
     "end_time": "2021-07-01T03:30:47.798742Z",
     "start_time": "2021-07-01T03:30:47.745543Z"
    },
    "deletable": false,
    "editable": false,
    "nbgrader": {
     "cell_type": "code",
     "checksum": "4f567db45bf40191601780379cc100b8",
     "grade": true,
     "grade_id": "cell-97fad979d157529b",
     "locked": true,
     "points": 1,
     "schema_version": 3,
     "solution": false,
     "task": false
    }
   },
   "outputs": [
    {
     "name": "stdout",
     "output_type": "stream",
     "text": [
      "\u001b[92m All public tests passed\n"
     ]
    }
   ],
   "source": [
    "utils.test_norm(norm_train_X, norm_val_X, norm_test_X, train, val, test)\n"
   ]
  },
  {
   "cell_type": "markdown",
   "metadata": {
    "colab_type": "text",
    "id": "hzykDwQhsaPO"
   },
   "source": [
    "## Define the Model (TODO)\n",
    "\n",
    "Define the model using the functional API. The base model will be 2 `Dense` layers of 128 neurons each, and have the `'relu'` activation.\n",
    "- Check out the documentation for [tf.keras.layers.Dense](https://www.tensorflow.org/api_docs/python/tf/keras/layers/Dense)"
   ]
  },
  {
   "cell_type": "code",
   "execution_count": 30,
   "metadata": {
    "ExecuteTime": {
     "end_time": "2021-07-01T03:30:47.854330Z",
     "start_time": "2021-07-01T03:30:47.801053Z"
    },
    "colab": {},
    "colab_type": "code",
    "deletable": false,
    "id": "Rhcns3oTFkM6",
    "nbgrader": {
     "cell_type": "code",
     "checksum": "74b031247e569526552bf13a034a1c07",
     "grade": false,
     "grade_id": "cell-73fceedad1fe351c",
     "locked": false,
     "schema_version": 3,
     "solution": true,
     "task": false
    }
   },
   "outputs": [],
   "source": [
    "# Please uncomment all lines in this cell and replace those marked with `# YOUR CODE HERE`.\n",
    "# You can select all lines in this code cell with Ctrl+A (Windows/Linux) or Cmd+A (Mac), then press Ctrl+/ (Windows/Linux) or Cmd+/ (Mac) to uncomment.\n",
    "\n",
    "\n",
    "\n",
    "def base_model(inputs):\n",
    "    \n",
    "    # connect a Dense layer with 128 neurons and a relu activation\n",
    "    x = tf.keras.layers.Dense(128, activation= tf.nn.relu)(inputs)\n",
    "    \n",
    "    # connect another Dense layer with 128 neurons and a relu activation\n",
    "    x = tf.keras.layers.Dense(128, activation= tf.nn.relu)(x)\n",
    "    return x\n",
    "  "
   ]
  },
  {
   "cell_type": "code",
   "execution_count": 31,
   "metadata": {
    "ExecuteTime": {
     "end_time": "2021-07-01T03:30:48.580540Z",
     "start_time": "2021-07-01T03:30:47.856597Z"
    },
    "deletable": false,
    "editable": false,
    "nbgrader": {
     "cell_type": "code",
     "checksum": "9255924b3def80f679616e4c851a43e1",
     "grade": true,
     "grade_id": "cell-54f742a133353d75",
     "locked": true,
     "points": 1,
     "schema_version": 3,
     "solution": false,
     "task": false
    }
   },
   "outputs": [
    {
     "name": "stdout",
     "output_type": "stream",
     "text": [
      "\u001b[92m All public tests passed\n"
     ]
    }
   ],
   "source": [
    "utils.test_base_model(base_model)"
   ]
  },
  {
   "cell_type": "markdown",
   "metadata": {
    "colab_type": "text",
    "id": "xem_fcVws6Kz"
   },
   "source": [
    "# Define output layers of the model (TODO)\n",
    "\n",
    "You will add output layers to the base model. \n",
    "- The model will need two outputs.\n",
    "\n",
    "One output layer will predict wine quality, which is a numeric value.\n",
    "- Define a `Dense` layer with 1 neuron.\n",
    "- Since this is a regression output, the activation can be left as its default value `None`.\n",
    "\n",
    "The other output layer will predict the wine type, which is either red `1` or not red `0` (white).\n",
    "- Define a `Dense` layer with 1 neuron.\n",
    "- Since there are two possible categories, you can use a sigmoid activation for binary classification.\n",
    "\n",
    "Define the `Model`\n",
    "- Define the `Model` object, and set the following parameters:\n",
    "  - `inputs`: pass in the inputs to the model as a list.\n",
    "  - `outputs`: pass in a list of the outputs that you just defined: wine quality, then wine type.\n",
    "  - **Note**: please list the wine quality before wine type in the outputs, as this will affect the calculated loss if you choose the other order."
   ]
  },
  {
   "cell_type": "code",
   "execution_count": 32,
   "metadata": {
    "ExecuteTime": {
     "end_time": "2021-07-01T03:30:48.639696Z",
     "start_time": "2021-07-01T03:30:48.583050Z"
    },
    "colab": {},
    "colab_type": "code",
    "deletable": false,
    "id": "n5UGF8PMVLPt",
    "nbgrader": {
     "cell_type": "code",
     "checksum": "76d35b90d20cdcbb22986cd8211057de",
     "grade": false,
     "grade_id": "cell-19e285f482f021fb",
     "locked": false,
     "schema_version": 3,
     "solution": true,
     "task": false
    }
   },
   "outputs": [],
   "source": [
    "# Please uncomment all lines in this cell and replace those marked with `# YOUR CODE HERE`.\n",
    "# You can select all lines in this code cell with Ctrl+A (Windows/Linux) or Cmd+A (Mac), then press Ctrl+/ (Windows/Linux) or Cmd+/ (Mac) to uncomment.\n",
    "\n",
    "\n",
    "\n",
    "def final_model(inputs):\n",
    "    \n",
    "    # get the base model\n",
    "    x = base_model(inputs)\n",
    "\n",
    "    # connect the output Dense layer for regression\n",
    "    wine_quality = Dense(units='1', name='wine_quality')(x)\n",
    "\n",
    "    # connect the output Dense layer for classification. this will use a sigmoid activation.\n",
    "    wine_type = Dense(units='1', activation='sigmoid', name='wine_type')(x)\n",
    "\n",
    "    # define the model using the input and output layers\n",
    "    model = Model(inputs=inputs, outputs=[wine_quality, wine_type])\n",
    "\n",
    "    return model"
   ]
  },
  {
   "cell_type": "code",
   "execution_count": 34,
   "metadata": {
    "ExecuteTime": {
     "end_time": "2021-07-01T03:31:31.448852Z",
     "start_time": "2021-07-01T03:31:31.335646Z"
    },
    "deletable": false,
    "editable": false,
    "nbgrader": {
     "cell_type": "code",
     "checksum": "89cbf89d8ab5e2e59ecf7f63f517520a",
     "grade": true,
     "grade_id": "cell-40d050f855c817d1",
     "locked": true,
     "points": 1,
     "schema_version": 3,
     "solution": false,
     "task": false
    }
   },
   "outputs": [
    {
     "name": "stdout",
     "output_type": "stream",
     "text": [
      "\u001b[92m All public tests passed\n"
     ]
    }
   ],
   "source": [
    "utils.test_final_model(final_model)"
   ]
  },
  {
   "cell_type": "markdown",
   "metadata": {
    "colab_type": "text",
    "id": "5R0BMTsltZyu"
   },
   "source": [
    "## Compiling the Model\n",
    "\n",
    "Next, compile the model. When setting the loss parameter of `model.compile`, you're setting the loss for each of the two outputs (wine quality and wine type).\n",
    "\n",
    "To set more than one loss, use a dictionary of key-value pairs.\n",
    "- You can look at the docs for the losses [here](https://www.tensorflow.org/api_docs/python/tf/keras/losses#functions).\n",
    "    - **Note**: For the desired spelling, please look at the \"Functions\" section of the documentation and not the \"classes\" section on that same page.\n",
    "- wine_type: Since you will be performing binary classification on wine type, you should use the binary crossentropy loss function for it.  Please pass this in as a string.  \n",
    "  - **Hint**, this should be all lowercase.  In the documentation, you'll see this under the \"Functions\" section, not the \"Classes\" section.\n",
    "- wine_quality: since this is a regression output, use the mean squared error.  Please pass it in as a string, all lowercase.\n",
    "  - **Hint**: You may notice that there are two aliases for mean squared error.  Please use the shorter name.\n",
    "\n",
    "\n",
    "You will also set the metric for each of the two outputs.  Again, to set metrics for two or more outputs, use a dictionary with key value pairs.\n",
    "- The metrics documentation is linked [here](https://www.tensorflow.org/api_docs/python/tf/keras/metrics).\n",
    "- For the wine type, please set it to accuracy as a string, all lowercase.\n",
    "- For wine quality, please use the root mean squared error.  Instead of a string, you'll set it to an instance of the class [RootMeanSquaredError](https://www.tensorflow.org/api_docs/python/tf/keras/metrics/RootMeanSquaredError), which belongs to the tf.keras.metrics module.\n",
    "\n",
    "**Note**: If you see the error message \n",
    ">Exception: wine quality loss function is incorrect.\n",
    "\n",
    "- Please also check your other losses and metrics, as the error may be caused by the other three key-value pairs and not the wine quality loss."
   ]
  },
  {
   "cell_type": "code",
   "execution_count": 37,
   "metadata": {
    "ExecuteTime": {
     "end_time": "2021-07-01T03:33:47.919056Z",
     "start_time": "2021-07-01T03:33:47.789063Z"
    },
    "colab": {},
    "colab_type": "code",
    "deletable": false,
    "id": "LK11duUbUjmh",
    "nbgrader": {
     "cell_type": "code",
     "checksum": "22f45067ca69eb2ccadb43874dbcc27b",
     "grade": false,
     "grade_id": "cell-81afdc4dcca51d5e",
     "locked": false,
     "schema_version": 3,
     "solution": true,
     "task": false
    }
   },
   "outputs": [],
   "source": [
    "# Please uncomment all lines in this cell and replace those marked with `# YOUR CODE HERE`.\n",
    "# You can select all lines in this code cell with Ctrl+A (Windows/Linux) or Cmd+A (Mac), then press Ctrl+/ (Windows/Linux) or Cmd+/ (Mac) to uncomment.\n",
    "\n",
    "\n",
    "\n",
    "inputs = tf.keras.layers.Input(shape=(11,))\n",
    "rms = tf.keras.optimizers.RMSprop(learning_rate=0.0001)\n",
    "model = final_model(inputs)\n",
    "\n",
    "model.compile(optimizer=rms, \n",
    "              loss = {'wine_type' : 'binary_crossentropy',\n",
    "                      'wine_quality' : 'mean_squared_error'\n",
    "                     },\n",
    "              metrics = {'wine_type' : 'accuracy',\n",
    "                         'wine_quality': tf.keras.metrics.RootMeanSquaredError()\n",
    "                       }\n",
    "             )\n"
   ]
  },
  {
   "cell_type": "code",
   "execution_count": 54,
   "metadata": {
    "ExecuteTime": {
     "end_time": "2021-07-01T03:52:25.258480Z",
     "start_time": "2021-07-01T03:52:25.073934Z"
    }
   },
   "outputs": [
    {
     "data": {
      "image/jpeg": "[encoded data removed]",
      "text/plain": [
       "<IPython.core.display.Image object>"
      ]
     },
     "execution_count": 54,
     "metadata": {},
     "output_type": "execute_result"
    }
   ],
   "source": [
    "tf.keras.utils.plot_model(model, 'wine_quality.jpg', show_shapes=True)"
   ]
  },
  {
   "cell_type": "code",
   "execution_count": 41,
   "metadata": {
    "ExecuteTime": {
     "end_time": "2021-07-01T03:37:31.326964Z",
     "start_time": "2021-07-01T03:37:31.280331Z"
    }
   },
   "outputs": [
    {
     "data": {
      "text/plain": [
       "{'wine_type': 'binary_crossentropy', 'wine_quality': 'mean_squared_error'}"
      ]
     },
     "execution_count": 41,
     "metadata": {},
     "output_type": "execute_result"
    }
   ],
   "source": [
    "model.loss"
   ]
  },
  {
   "cell_type": "code",
   "execution_count": 38,
   "metadata": {
    "ExecuteTime": {
     "end_time": "2021-07-01T03:33:49.308680Z",
     "start_time": "2021-07-01T03:33:49.240863Z"
    },
    "deletable": false,
    "editable": false,
    "nbgrader": {
     "cell_type": "code",
     "checksum": "88e02238ea5e456ff65e835cc8158054",
     "grade": true,
     "grade_id": "cell-2eeeba02391c4632",
     "locked": true,
     "points": 1,
     "schema_version": 3,
     "solution": false,
     "task": false
    }
   },
   "outputs": [
    {
     "ename": "IndexError",
     "evalue": "list index out of range",
     "output_type": "error",
     "traceback": [
      "\u001b[0;31m\u001b[0m",
      "\u001b[0;31mIndexError\u001b[0mTraceback (most recent call last)",
      "\u001b[0;32m<ipython-input-38-9a25711e305e>\u001b[0m in \u001b[0;36m<module>\u001b[0;34m\u001b[0m\n\u001b[0;32m----> 1\u001b[0;31m \u001b[0mutils\u001b[0m\u001b[0;34m.\u001b[0m\u001b[0mtest_model_compile\u001b[0m\u001b[0;34m(\u001b[0m\u001b[0mmodel\u001b[0m\u001b[0;34m)\u001b[0m\u001b[0;34m\u001b[0m\u001b[0;34m\u001b[0m\u001b[0m\n\u001b[0m",
      "\u001b[0;32m/tf/eipi10/xuxiangwen.github.io/_notes/05-ai/54-tensorflow/custom-models-layers-loss-functions/Week_1/utils.py\u001b[0m in \u001b[0;36mtest_model_compile\u001b[0;34m(model)\u001b[0m\n\u001b[1;32m    290\u001b[0m         {\n\u001b[1;32m    291\u001b[0m             \u001b[0;34m\"name\"\u001b[0m\u001b[0;34m:\u001b[0m \u001b[0;34m\"metrics_0_check\"\u001b[0m\u001b[0;34m,\u001b[0m\u001b[0;34m\u001b[0m\u001b[0;34m\u001b[0m\u001b[0m\n\u001b[0;32m--> 292\u001b[0;31m             \u001b[0;34m\"result\"\u001b[0m\u001b[0;34m:\u001b[0m \u001b[0mtype\u001b[0m\u001b[0;34m(\u001b[0m\u001b[0mmodel\u001b[0m\u001b[0;34m.\u001b[0m\u001b[0mmetrics\u001b[0m\u001b[0;34m[\u001b[0m\u001b[0;36m0\u001b[0m\u001b[0;34m]\u001b[0m\u001b[0;34m)\u001b[0m\u001b[0;34m,\u001b[0m\u001b[0;34m\u001b[0m\u001b[0;34m\u001b[0m\u001b[0m\n\u001b[0m\u001b[1;32m    293\u001b[0m             \u001b[0;34m\"expected\"\u001b[0m\u001b[0;34m:\u001b[0m \u001b[0mtf\u001b[0m\u001b[0;34m.\u001b[0m\u001b[0mkeras\u001b[0m\u001b[0;34m.\u001b[0m\u001b[0mmetrics\u001b[0m\u001b[0;34m.\u001b[0m\u001b[0mRootMeanSquaredError\u001b[0m\u001b[0;34m,\u001b[0m\u001b[0;34m\u001b[0m\u001b[0;34m\u001b[0m\u001b[0m\n\u001b[1;32m    294\u001b[0m             \u001b[0;34m\"error_message\"\u001b[0m\u001b[0;34m:\u001b[0m \u001b[0;34m'wine quality metrics is incorrect. Please check implementation.'\u001b[0m\u001b[0;34m\u001b[0m\u001b[0;34m\u001b[0m\u001b[0m\n",
      "\u001b[0;31mIndexError\u001b[0m: list index out of range"
     ]
    }
   ],
   "source": [
    "utils.test_model_compile(model)"
   ]
  },
  {
   "cell_type": "markdown",
   "metadata": {
    "colab_type": "text",
    "id": "90MpAMpWuKm-"
   },
   "source": [
    "## Training the Model\n",
    "\n",
    "Fit the model to the training inputs and outputs. \n",
    "- Check the documentation for [model.fit](https://www.tensorflow.org/api_docs/python/tf/keras/Model#fit).\n",
    "- Remember to use the normalized training set as inputs. \n",
    "- For the validation data, please use the normalized validation set."
   ]
  },
  {
   "cell_type": "code",
   "execution_count": 40,
   "metadata": {
    "ExecuteTime": {
     "end_time": "2021-07-01T03:37:31.266967Z",
     "start_time": "2021-07-01T03:36:07.129249Z"
    },
    "colab": {},
    "colab_type": "code",
    "deletable": false,
    "id": "_eiZkle4XwiY",
    "nbgrader": {
     "cell_type": "code",
     "checksum": "2ca7664be03bfd6fd3651ae44d17b793",
     "grade": false,
     "grade_id": "cell-0bb56262896f6680",
     "locked": false,
     "schema_version": 3,
     "solution": true,
     "task": false
    }
   },
   "outputs": [
    {
     "name": "stdout",
     "output_type": "stream",
     "text": [
      "Epoch 1/180\n",
      "99/99 [==============================] - 2s 7ms/step - loss: 24.1661 - wine_quality_loss: 23.4254 - wine_type_loss: 0.7407 - wine_quality_root_mean_squared_error: 4.8400 - wine_type_accuracy: 0.3705 - val_loss: 17.0192 - val_wine_quality_loss: 16.2994 - val_wine_type_loss: 0.7198 - val_wine_quality_root_mean_squared_error: 4.0373 - val_wine_type_accuracy: 0.4740\n",
      "Epoch 2/180\n",
      "99/99 [==============================] - 0s 5ms/step - loss: 11.0577 - wine_quality_loss: 10.3757 - wine_type_loss: 0.6820 - wine_quality_root_mean_squared_error: 3.2211 - wine_type_accuracy: 0.5616 - val_loss: 6.3554 - val_wine_quality_loss: 5.7102 - val_wine_type_loss: 0.6451 - val_wine_quality_root_mean_squared_error: 2.3896 - val_wine_type_accuracy: 0.6515\n",
      "Epoch 3/180\n",
      "99/99 [==============================] - 0s 5ms/step - loss: 4.4880 - wine_quality_loss: 3.9045 - wine_type_loss: 0.5835 - wine_quality_root_mean_squared_error: 1.9760 - wine_type_accuracy: 0.7648 - val_loss: 3.2010 - val_wine_quality_loss: 2.6733 - val_wine_type_loss: 0.5277 - val_wine_quality_root_mean_squared_error: 1.6350 - val_wine_type_accuracy: 0.7820\n",
      "Epoch 4/180\n",
      "99/99 [==============================] - 0s 5ms/step - loss: 2.9133 - wine_quality_loss: 2.4508 - wine_type_loss: 0.4626 - wine_quality_root_mean_squared_error: 1.5655 - wine_type_accuracy: 0.8105 - val_loss: 2.4862 - val_wine_quality_loss: 2.0741 - val_wine_type_loss: 0.4121 - val_wine_quality_root_mean_squared_error: 1.4402 - val_wine_type_accuracy: 0.8352\n",
      "Epoch 5/180\n",
      "99/99 [==============================] - 0s 5ms/step - loss: 2.3355 - wine_quality_loss: 1.9763 - wine_type_loss: 0.3592 - wine_quality_root_mean_squared_error: 1.4058 - wine_type_accuracy: 0.8859 - val_loss: 2.1034 - val_wine_quality_loss: 1.7799 - val_wine_type_loss: 0.3236 - val_wine_quality_root_mean_squared_error: 1.3341 - val_wine_type_accuracy: 0.9151\n",
      "Epoch 6/180\n",
      "99/99 [==============================] - 0s 5ms/step - loss: 1.9948 - wine_quality_loss: 1.7156 - wine_type_loss: 0.2793 - wine_quality_root_mean_squared_error: 1.3098 - wine_type_accuracy: 0.9388 - val_loss: 1.8403 - val_wine_quality_loss: 1.5888 - val_wine_type_loss: 0.2515 - val_wine_quality_root_mean_squared_error: 1.2605 - val_wine_type_accuracy: 0.9645\n",
      "Epoch 7/180\n",
      "99/99 [==============================] - 0s 5ms/step - loss: 1.7504 - wine_quality_loss: 1.5334 - wine_type_loss: 0.2170 - wine_quality_root_mean_squared_error: 1.2383 - wine_type_accuracy: 0.9645 - val_loss: 1.6362 - val_wine_quality_loss: 1.4408 - val_wine_type_loss: 0.1954 - val_wine_quality_root_mean_squared_error: 1.2003 - val_wine_type_accuracy: 0.9810\n",
      "Epoch 8/180\n",
      "99/99 [==============================] - 0s 5ms/step - loss: 1.5794 - wine_quality_loss: 1.4096 - wine_type_loss: 0.1698 - wine_quality_root_mean_squared_error: 1.1873 - wine_type_accuracy: 0.9775 - val_loss: 1.4711 - val_wine_quality_loss: 1.3177 - val_wine_type_loss: 0.1535 - val_wine_quality_root_mean_squared_error: 1.1479 - val_wine_type_accuracy: 0.9861\n",
      "Epoch 9/180\n",
      "99/99 [==============================] - 0s 5ms/step - loss: 1.4174 - wine_quality_loss: 1.2835 - wine_type_loss: 0.1339 - wine_quality_root_mean_squared_error: 1.1329 - wine_type_accuracy: 0.9838 - val_loss: 1.3541 - val_wine_quality_loss: 1.2311 - val_wine_type_loss: 0.1230 - val_wine_quality_root_mean_squared_error: 1.1096 - val_wine_type_accuracy: 0.9848\n",
      "Epoch 10/180\n",
      "99/99 [==============================] - 0s 5ms/step - loss: 1.3024 - wine_quality_loss: 1.1925 - wine_type_loss: 0.1099 - wine_quality_root_mean_squared_error: 1.0920 - wine_type_accuracy: 0.9883 - val_loss: 1.2360 - val_wine_quality_loss: 1.1338 - val_wine_type_loss: 0.1022 - val_wine_quality_root_mean_squared_error: 1.0648 - val_wine_type_accuracy: 0.9848\n",
      "Epoch 11/180\n",
      "99/99 [==============================] - 0s 5ms/step - loss: 1.2000 - wine_quality_loss: 1.1071 - wine_type_loss: 0.0929 - wine_quality_root_mean_squared_error: 1.0522 - wine_type_accuracy: 0.9895 - val_loss: 1.1337 - val_wine_quality_loss: 1.0465 - val_wine_type_loss: 0.0872 - val_wine_quality_root_mean_squared_error: 1.0230 - val_wine_type_accuracy: 0.9886\n",
      "Epoch 12/180\n",
      "99/99 [==============================] - 0s 5ms/step - loss: 1.1143 - wine_quality_loss: 1.0342 - wine_type_loss: 0.0801 - wine_quality_root_mean_squared_error: 1.0170 - wine_type_accuracy: 0.9892 - val_loss: 1.0704 - val_wine_quality_loss: 0.9945 - val_wine_type_loss: 0.0759 - val_wine_quality_root_mean_squared_error: 0.9973 - val_wine_type_accuracy: 0.9911\n",
      "Epoch 13/180\n",
      "99/99 [==============================] - 0s 5ms/step - loss: 1.0347 - wine_quality_loss: 0.9640 - wine_type_loss: 0.0707 - wine_quality_root_mean_squared_error: 0.9818 - wine_type_accuracy: 0.9902 - val_loss: 0.9889 - val_wine_quality_loss: 0.9215 - val_wine_type_loss: 0.0674 - val_wine_quality_root_mean_squared_error: 0.9600 - val_wine_type_accuracy: 0.9911\n",
      "Epoch 14/180\n",
      "99/99 [==============================] - 0s 5ms/step - loss: 0.9673 - wine_quality_loss: 0.9039 - wine_type_loss: 0.0634 - wine_quality_root_mean_squared_error: 0.9507 - wine_type_accuracy: 0.9911 - val_loss: 0.9234 - val_wine_quality_loss: 0.8624 - val_wine_type_loss: 0.0610 - val_wine_quality_root_mean_squared_error: 0.9287 - val_wine_type_accuracy: 0.9924\n",
      "Epoch 15/180\n",
      "99/99 [==============================] - 0s 5ms/step - loss: 0.9063 - wine_quality_loss: 0.8484 - wine_type_loss: 0.0579 - wine_quality_root_mean_squared_error: 0.9211 - wine_type_accuracy: 0.9911 - val_loss: 0.8730 - val_wine_quality_loss: 0.8169 - val_wine_type_loss: 0.0561 - val_wine_quality_root_mean_squared_error: 0.9039 - val_wine_type_accuracy: 0.9924\n",
      "Epoch 16/180\n",
      "99/99 [==============================] - 0s 5ms/step - loss: 0.8552 - wine_quality_loss: 0.8016 - wine_type_loss: 0.0536 - wine_quality_root_mean_squared_error: 0.8953 - wine_type_accuracy: 0.9914 - val_loss: 0.8136 - val_wine_quality_loss: 0.7612 - val_wine_type_loss: 0.0524 - val_wine_quality_root_mean_squared_error: 0.8724 - val_wine_type_accuracy: 0.9924\n",
      "Epoch 17/180\n",
      "99/99 [==============================] - 0s 5ms/step - loss: 0.8040 - wine_quality_loss: 0.7538 - wine_type_loss: 0.0502 - wine_quality_root_mean_squared_error: 0.8682 - wine_type_accuracy: 0.9914 - val_loss: 0.7794 - val_wine_quality_loss: 0.7299 - val_wine_type_loss: 0.0495 - val_wine_quality_root_mean_squared_error: 0.8543 - val_wine_type_accuracy: 0.9924\n",
      "Epoch 18/180\n",
      "99/99 [==============================] - 0s 5ms/step - loss: 0.7581 - wine_quality_loss: 0.7107 - wine_type_loss: 0.0474 - wine_quality_root_mean_squared_error: 0.8430 - wine_type_accuracy: 0.9918 - val_loss: 0.7404 - val_wine_quality_loss: 0.6934 - val_wine_type_loss: 0.0469 - val_wine_quality_root_mean_squared_error: 0.8327 - val_wine_type_accuracy: 0.9937\n",
      "Epoch 19/180\n",
      "99/99 [==============================] - 0s 5ms/step - loss: 0.7169 - wine_quality_loss: 0.6719 - wine_type_loss: 0.0450 - wine_quality_root_mean_squared_error: 0.8197 - wine_type_accuracy: 0.9924 - val_loss: 0.6932 - val_wine_quality_loss: 0.6484 - val_wine_type_loss: 0.0448 - val_wine_quality_root_mean_squared_error: 0.8052 - val_wine_type_accuracy: 0.9937\n",
      "Epoch 20/180\n",
      "99/99 [==============================] - 0s 5ms/step - loss: 0.6785 - wine_quality_loss: 0.6355 - wine_type_loss: 0.0430 - wine_quality_root_mean_squared_error: 0.7972 - wine_type_accuracy: 0.9927 - val_loss: 0.6507 - val_wine_quality_loss: 0.6075 - val_wine_type_loss: 0.0432 - val_wine_quality_root_mean_squared_error: 0.7794 - val_wine_type_accuracy: 0.9937\n",
      "Epoch 21/180\n",
      "99/99 [==============================] - 0s 5ms/step - loss: 0.6418 - wine_quality_loss: 0.6006 - wine_type_loss: 0.0411 - wine_quality_root_mean_squared_error: 0.7750 - wine_type_accuracy: 0.9927 - val_loss: 0.6273 - val_wine_quality_loss: 0.5855 - val_wine_type_loss: 0.0418 - val_wine_quality_root_mean_squared_error: 0.7652 - val_wine_type_accuracy: 0.9937\n",
      "Epoch 22/180\n",
      "99/99 [==============================] - 0s 5ms/step - loss: 0.6112 - wine_quality_loss: 0.5714 - wine_type_loss: 0.0398 - wine_quality_root_mean_squared_error: 0.7559 - wine_type_accuracy: 0.9927 - val_loss: 0.5897 - val_wine_quality_loss: 0.5491 - val_wine_type_loss: 0.0406 - val_wine_quality_root_mean_squared_error: 0.7410 - val_wine_type_accuracy: 0.9937\n"
     ]
    },
    {
     "name": "stdout",
     "output_type": "stream",
     "text": [
      "Epoch 23/180\n",
      "99/99 [==============================] - 0s 5ms/step - loss: 0.5852 - wine_quality_loss: 0.5467 - wine_type_loss: 0.0385 - wine_quality_root_mean_squared_error: 0.7394 - wine_type_accuracy: 0.9930 - val_loss: 0.5625 - val_wine_quality_loss: 0.5231 - val_wine_type_loss: 0.0393 - val_wine_quality_root_mean_squared_error: 0.7233 - val_wine_type_accuracy: 0.9937\n",
      "Epoch 24/180\n",
      "99/99 [==============================] - 0s 5ms/step - loss: 0.5594 - wine_quality_loss: 0.5220 - wine_type_loss: 0.0374 - wine_quality_root_mean_squared_error: 0.7225 - wine_type_accuracy: 0.9930 - val_loss: 0.5419 - val_wine_quality_loss: 0.5034 - val_wine_type_loss: 0.0385 - val_wine_quality_root_mean_squared_error: 0.7095 - val_wine_type_accuracy: 0.9937\n",
      "Epoch 25/180\n",
      "99/99 [==============================] - 0s 5ms/step - loss: 0.5372 - wine_quality_loss: 0.5007 - wine_type_loss: 0.0365 - wine_quality_root_mean_squared_error: 0.7076 - wine_type_accuracy: 0.9933 - val_loss: 0.5168 - val_wine_quality_loss: 0.4792 - val_wine_type_loss: 0.0376 - val_wine_quality_root_mean_squared_error: 0.6923 - val_wine_type_accuracy: 0.9949\n",
      "Epoch 26/180\n",
      "99/99 [==============================] - 0s 5ms/step - loss: 0.5157 - wine_quality_loss: 0.4801 - wine_type_loss: 0.0356 - wine_quality_root_mean_squared_error: 0.6929 - wine_type_accuracy: 0.9937 - val_loss: 0.5014 - val_wine_quality_loss: 0.4645 - val_wine_type_loss: 0.0369 - val_wine_quality_root_mean_squared_error: 0.6815 - val_wine_type_accuracy: 0.9937\n",
      "Epoch 27/180\n",
      "99/99 [==============================] - 0s 5ms/step - loss: 0.4967 - wine_quality_loss: 0.4618 - wine_type_loss: 0.0349 - wine_quality_root_mean_squared_error: 0.6796 - wine_type_accuracy: 0.9937 - val_loss: 0.4825 - val_wine_quality_loss: 0.4460 - val_wine_type_loss: 0.0364 - val_wine_quality_root_mean_squared_error: 0.6679 - val_wine_type_accuracy: 0.9924\n",
      "Epoch 28/180\n",
      "99/99 [==============================] - 0s 5ms/step - loss: 0.4821 - wine_quality_loss: 0.4479 - wine_type_loss: 0.0342 - wine_quality_root_mean_squared_error: 0.6692 - wine_type_accuracy: 0.9933 - val_loss: 0.4693 - val_wine_quality_loss: 0.4334 - val_wine_type_loss: 0.0359 - val_wine_quality_root_mean_squared_error: 0.6583 - val_wine_type_accuracy: 0.9937\n",
      "Epoch 29/180\n",
      "99/99 [==============================] - 0s 5ms/step - loss: 0.4666 - wine_quality_loss: 0.4331 - wine_type_loss: 0.0335 - wine_quality_root_mean_squared_error: 0.6581 - wine_type_accuracy: 0.9940 - val_loss: 0.4547 - val_wine_quality_loss: 0.4192 - val_wine_type_loss: 0.0354 - val_wine_quality_root_mean_squared_error: 0.6475 - val_wine_type_accuracy: 0.9937\n",
      "Epoch 30/180\n",
      "99/99 [==============================] - 0s 5ms/step - loss: 0.4535 - wine_quality_loss: 0.4205 - wine_type_loss: 0.0330 - wine_quality_root_mean_squared_error: 0.6485 - wine_type_accuracy: 0.9937 - val_loss: 0.4432 - val_wine_quality_loss: 0.4082 - val_wine_type_loss: 0.0350 - val_wine_quality_root_mean_squared_error: 0.6389 - val_wine_type_accuracy: 0.9937\n",
      "Epoch 31/180\n",
      "99/99 [==============================] - 0s 5ms/step - loss: 0.4406 - wine_quality_loss: 0.4081 - wine_type_loss: 0.0325 - wine_quality_root_mean_squared_error: 0.6388 - wine_type_accuracy: 0.9943 - val_loss: 0.4312 - val_wine_quality_loss: 0.3966 - val_wine_type_loss: 0.0346 - val_wine_quality_root_mean_squared_error: 0.6297 - val_wine_type_accuracy: 0.9937\n",
      "Epoch 32/180\n",
      "99/99 [==============================] - 0s 5ms/step - loss: 0.4305 - wine_quality_loss: 0.3985 - wine_type_loss: 0.0320 - wine_quality_root_mean_squared_error: 0.6313 - wine_type_accuracy: 0.9940 - val_loss: 0.4173 - val_wine_quality_loss: 0.3830 - val_wine_type_loss: 0.0343 - val_wine_quality_root_mean_squared_error: 0.6188 - val_wine_type_accuracy: 0.9937\n",
      "Epoch 33/180\n",
      "99/99 [==============================] - 0s 5ms/step - loss: 0.4215 - wine_quality_loss: 0.3900 - wine_type_loss: 0.0315 - wine_quality_root_mean_squared_error: 0.6245 - wine_type_accuracy: 0.9943 - val_loss: 0.4218 - val_wine_quality_loss: 0.3879 - val_wine_type_loss: 0.0340 - val_wine_quality_root_mean_squared_error: 0.6228 - val_wine_type_accuracy: 0.9937\n",
      "Epoch 34/180\n",
      "99/99 [==============================] - 0s 5ms/step - loss: 0.4116 - wine_quality_loss: 0.3805 - wine_type_loss: 0.0311 - wine_quality_root_mean_squared_error: 0.6168 - wine_type_accuracy: 0.9946 - val_loss: 0.4019 - val_wine_quality_loss: 0.3682 - val_wine_type_loss: 0.0337 - val_wine_quality_root_mean_squared_error: 0.6068 - val_wine_type_accuracy: 0.9937\n",
      "Epoch 35/180\n",
      "99/99 [==============================] - 0s 5ms/step - loss: 0.4041 - wine_quality_loss: 0.3733 - wine_type_loss: 0.0308 - wine_quality_root_mean_squared_error: 0.6109 - wine_type_accuracy: 0.9946 - val_loss: 0.4003 - val_wine_quality_loss: 0.3669 - val_wine_type_loss: 0.0334 - val_wine_quality_root_mean_squared_error: 0.6057 - val_wine_type_accuracy: 0.9937\n",
      "Epoch 36/180\n",
      "99/99 [==============================] - 0s 5ms/step - loss: 0.3996 - wine_quality_loss: 0.3691 - wine_type_loss: 0.0305 - wine_quality_root_mean_squared_error: 0.6075 - wine_type_accuracy: 0.9946 - val_loss: 0.3962 - val_wine_quality_loss: 0.3630 - val_wine_type_loss: 0.0332 - val_wine_quality_root_mean_squared_error: 0.6025 - val_wine_type_accuracy: 0.9949\n",
      "Epoch 37/180\n",
      "99/99 [==============================] - 0s 5ms/step - loss: 0.3941 - wine_quality_loss: 0.3640 - wine_type_loss: 0.0301 - wine_quality_root_mean_squared_error: 0.6033 - wine_type_accuracy: 0.9946 - val_loss: 0.3845 - val_wine_quality_loss: 0.3516 - val_wine_type_loss: 0.0330 - val_wine_quality_root_mean_squared_error: 0.5929 - val_wine_type_accuracy: 0.9937\n",
      "Epoch 38/180\n",
      "99/99 [==============================] - 0s 5ms/step - loss: 0.3884 - wine_quality_loss: 0.3585 - wine_type_loss: 0.0298 - wine_quality_root_mean_squared_error: 0.5988 - wine_type_accuracy: 0.9949 - val_loss: 0.3814 - val_wine_quality_loss: 0.3485 - val_wine_type_loss: 0.0329 - val_wine_quality_root_mean_squared_error: 0.5903 - val_wine_type_accuracy: 0.9949\n",
      "Epoch 39/180\n",
      "99/99 [==============================] - 0s 5ms/step - loss: 0.3823 - wine_quality_loss: 0.3527 - wine_type_loss: 0.0295 - wine_quality_root_mean_squared_error: 0.5939 - wine_type_accuracy: 0.9946 - val_loss: 0.3816 - val_wine_quality_loss: 0.3487 - val_wine_type_loss: 0.0329 - val_wine_quality_root_mean_squared_error: 0.5905 - val_wine_type_accuracy: 0.9949\n",
      "Epoch 40/180\n",
      "99/99 [==============================] - 0s 5ms/step - loss: 0.3784 - wine_quality_loss: 0.3491 - wine_type_loss: 0.0292 - wine_quality_root_mean_squared_error: 0.5909 - wine_type_accuracy: 0.9952 - val_loss: 0.3762 - val_wine_quality_loss: 0.3434 - val_wine_type_loss: 0.0327 - val_wine_quality_root_mean_squared_error: 0.5860 - val_wine_type_accuracy: 0.9949\n",
      "Epoch 41/180\n",
      "99/99 [==============================] - 0s 5ms/step - loss: 0.3751 - wine_quality_loss: 0.3462 - wine_type_loss: 0.0289 - wine_quality_root_mean_squared_error: 0.5884 - wine_type_accuracy: 0.9949 - val_loss: 0.3804 - val_wine_quality_loss: 0.3480 - val_wine_type_loss: 0.0324 - val_wine_quality_root_mean_squared_error: 0.5899 - val_wine_type_accuracy: 0.9949\n",
      "Epoch 42/180\n",
      "99/99 [==============================] - 0s 5ms/step - loss: 0.3705 - wine_quality_loss: 0.3418 - wine_type_loss: 0.0287 - wine_quality_root_mean_squared_error: 0.5846 - wine_type_accuracy: 0.9956 - val_loss: 0.3702 - val_wine_quality_loss: 0.3378 - val_wine_type_loss: 0.0324 - val_wine_quality_root_mean_squared_error: 0.5812 - val_wine_type_accuracy: 0.9949\n",
      "Epoch 43/180\n",
      "99/99 [==============================] - 0s 5ms/step - loss: 0.3662 - wine_quality_loss: 0.3378 - wine_type_loss: 0.0284 - wine_quality_root_mean_squared_error: 0.5812 - wine_type_accuracy: 0.9952 - val_loss: 0.3821 - val_wine_quality_loss: 0.3499 - val_wine_type_loss: 0.0322 - val_wine_quality_root_mean_squared_error: 0.5915 - val_wine_type_accuracy: 0.9949\n",
      "Epoch 44/180\n",
      "99/99 [==============================] - 0s 5ms/step - loss: 0.3630 - wine_quality_loss: 0.3347 - wine_type_loss: 0.0282 - wine_quality_root_mean_squared_error: 0.5786 - wine_type_accuracy: 0.9956 - val_loss: 0.3690 - val_wine_quality_loss: 0.3369 - val_wine_type_loss: 0.0321 - val_wine_quality_root_mean_squared_error: 0.5805 - val_wine_type_accuracy: 0.9949\n"
     ]
    },
    {
     "name": "stdout",
     "output_type": "stream",
     "text": [
      "Epoch 45/180\n",
      "99/99 [==============================] - 0s 5ms/step - loss: 0.3617 - wine_quality_loss: 0.3337 - wine_type_loss: 0.0280 - wine_quality_root_mean_squared_error: 0.5777 - wine_type_accuracy: 0.9956 - val_loss: 0.3647 - val_wine_quality_loss: 0.3327 - val_wine_type_loss: 0.0321 - val_wine_quality_root_mean_squared_error: 0.5768 - val_wine_type_accuracy: 0.9949\n",
      "Epoch 46/180\n",
      "99/99 [==============================] - 0s 5ms/step - loss: 0.3583 - wine_quality_loss: 0.3306 - wine_type_loss: 0.0277 - wine_quality_root_mean_squared_error: 0.5750 - wine_type_accuracy: 0.9956 - val_loss: 0.3720 - val_wine_quality_loss: 0.3399 - val_wine_type_loss: 0.0321 - val_wine_quality_root_mean_squared_error: 0.5830 - val_wine_type_accuracy: 0.9949\n",
      "Epoch 47/180\n",
      "99/99 [==============================] - 0s 5ms/step - loss: 0.3560 - wine_quality_loss: 0.3285 - wine_type_loss: 0.0275 - wine_quality_root_mean_squared_error: 0.5732 - wine_type_accuracy: 0.9956 - val_loss: 0.3661 - val_wine_quality_loss: 0.3342 - val_wine_type_loss: 0.0319 - val_wine_quality_root_mean_squared_error: 0.5781 - val_wine_type_accuracy: 0.9949\n",
      "Epoch 48/180\n",
      "99/99 [==============================] - 0s 5ms/step - loss: 0.3539 - wine_quality_loss: 0.3267 - wine_type_loss: 0.0273 - wine_quality_root_mean_squared_error: 0.5716 - wine_type_accuracy: 0.9956 - val_loss: 0.3585 - val_wine_quality_loss: 0.3266 - val_wine_type_loss: 0.0320 - val_wine_quality_root_mean_squared_error: 0.5715 - val_wine_type_accuracy: 0.9949\n",
      "Epoch 49/180\n",
      "99/99 [==============================] - 0s 5ms/step - loss: 0.3513 - wine_quality_loss: 0.3241 - wine_type_loss: 0.0272 - wine_quality_root_mean_squared_error: 0.5693 - wine_type_accuracy: 0.9956 - val_loss: 0.3554 - val_wine_quality_loss: 0.3237 - val_wine_type_loss: 0.0318 - val_wine_quality_root_mean_squared_error: 0.5689 - val_wine_type_accuracy: 0.9949\n",
      "Epoch 50/180\n",
      "99/99 [==============================] - 0s 5ms/step - loss: 0.3498 - wine_quality_loss: 0.3229 - wine_type_loss: 0.0269 - wine_quality_root_mean_squared_error: 0.5682 - wine_type_accuracy: 0.9956 - val_loss: 0.3541 - val_wine_quality_loss: 0.3223 - val_wine_type_loss: 0.0318 - val_wine_quality_root_mean_squared_error: 0.5677 - val_wine_type_accuracy: 0.9949\n",
      "Epoch 51/180\n",
      "99/99 [==============================] - 0s 5ms/step - loss: 0.3472 - wine_quality_loss: 0.3205 - wine_type_loss: 0.0267 - wine_quality_root_mean_squared_error: 0.5662 - wine_type_accuracy: 0.9956 - val_loss: 0.3520 - val_wine_quality_loss: 0.3203 - val_wine_type_loss: 0.0317 - val_wine_quality_root_mean_squared_error: 0.5660 - val_wine_type_accuracy: 0.9949\n",
      "Epoch 52/180\n",
      "99/99 [==============================] - 0s 5ms/step - loss: 0.3454 - wine_quality_loss: 0.3189 - wine_type_loss: 0.0265 - wine_quality_root_mean_squared_error: 0.5647 - wine_type_accuracy: 0.9956 - val_loss: 0.3561 - val_wine_quality_loss: 0.3244 - val_wine_type_loss: 0.0317 - val_wine_quality_root_mean_squared_error: 0.5695 - val_wine_type_accuracy: 0.9949\n",
      "Epoch 53/180\n",
      "99/99 [==============================] - 0s 5ms/step - loss: 0.3434 - wine_quality_loss: 0.3170 - wine_type_loss: 0.0264 - wine_quality_root_mean_squared_error: 0.5630 - wine_type_accuracy: 0.9959 - val_loss: 0.3536 - val_wine_quality_loss: 0.3220 - val_wine_type_loss: 0.0316 - val_wine_quality_root_mean_squared_error: 0.5675 - val_wine_type_accuracy: 0.9949\n",
      "Epoch 54/180\n",
      "99/99 [==============================] - 0s 5ms/step - loss: 0.3413 - wine_quality_loss: 0.3151 - wine_type_loss: 0.0262 - wine_quality_root_mean_squared_error: 0.5613 - wine_type_accuracy: 0.9959 - val_loss: 0.3533 - val_wine_quality_loss: 0.3219 - val_wine_type_loss: 0.0314 - val_wine_quality_root_mean_squared_error: 0.5674 - val_wine_type_accuracy: 0.9949\n",
      "Epoch 55/180\n",
      "99/99 [==============================] - 0s 5ms/step - loss: 0.3398 - wine_quality_loss: 0.3138 - wine_type_loss: 0.0260 - wine_quality_root_mean_squared_error: 0.5602 - wine_type_accuracy: 0.9959 - val_loss: 0.3526 - val_wine_quality_loss: 0.3213 - val_wine_type_loss: 0.0313 - val_wine_quality_root_mean_squared_error: 0.5668 - val_wine_type_accuracy: 0.9949\n",
      "Epoch 56/180\n",
      "99/99 [==============================] - 0s 5ms/step - loss: 0.3390 - wine_quality_loss: 0.3132 - wine_type_loss: 0.0258 - wine_quality_root_mean_squared_error: 0.5596 - wine_type_accuracy: 0.9959 - val_loss: 0.3487 - val_wine_quality_loss: 0.3173 - val_wine_type_loss: 0.0313 - val_wine_quality_root_mean_squared_error: 0.5633 - val_wine_type_accuracy: 0.9949\n",
      "Epoch 57/180\n",
      "99/99 [==============================] - 0s 5ms/step - loss: 0.3373 - wine_quality_loss: 0.3116 - wine_type_loss: 0.0257 - wine_quality_root_mean_squared_error: 0.5582 - wine_type_accuracy: 0.9959 - val_loss: 0.3539 - val_wine_quality_loss: 0.3226 - val_wine_type_loss: 0.0313 - val_wine_quality_root_mean_squared_error: 0.5680 - val_wine_type_accuracy: 0.9949\n",
      "Epoch 58/180\n",
      "99/99 [==============================] - 0s 5ms/step - loss: 0.3366 - wine_quality_loss: 0.3111 - wine_type_loss: 0.0255 - wine_quality_root_mean_squared_error: 0.5578 - wine_type_accuracy: 0.9959 - val_loss: 0.3467 - val_wine_quality_loss: 0.3155 - val_wine_type_loss: 0.0312 - val_wine_quality_root_mean_squared_error: 0.5617 - val_wine_type_accuracy: 0.9949\n",
      "Epoch 59/180\n",
      "99/99 [==============================] - 0s 5ms/step - loss: 0.3346 - wine_quality_loss: 0.3092 - wine_type_loss: 0.0254 - wine_quality_root_mean_squared_error: 0.5561 - wine_type_accuracy: 0.9959 - val_loss: 0.3476 - val_wine_quality_loss: 0.3164 - val_wine_type_loss: 0.0312 - val_wine_quality_root_mean_squared_error: 0.5625 - val_wine_type_accuracy: 0.9949\n",
      "Epoch 60/180\n",
      "99/99 [==============================] - 0s 5ms/step - loss: 0.3332 - wine_quality_loss: 0.3080 - wine_type_loss: 0.0252 - wine_quality_root_mean_squared_error: 0.5550 - wine_type_accuracy: 0.9959 - val_loss: 0.3492 - val_wine_quality_loss: 0.3180 - val_wine_type_loss: 0.0312 - val_wine_quality_root_mean_squared_error: 0.5639 - val_wine_type_accuracy: 0.9949\n",
      "Epoch 61/180\n",
      "99/99 [==============================] - 0s 5ms/step - loss: 0.3314 - wine_quality_loss: 0.3062 - wine_type_loss: 0.0251 - wine_quality_root_mean_squared_error: 0.5534 - wine_type_accuracy: 0.9959 - val_loss: 0.3552 - val_wine_quality_loss: 0.3241 - val_wine_type_loss: 0.0311 - val_wine_quality_root_mean_squared_error: 0.5693 - val_wine_type_accuracy: 0.9949\n",
      "Epoch 62/180\n",
      "99/99 [==============================] - 0s 5ms/step - loss: 0.3305 - wine_quality_loss: 0.3056 - wine_type_loss: 0.0250 - wine_quality_root_mean_squared_error: 0.5528 - wine_type_accuracy: 0.9959 - val_loss: 0.3448 - val_wine_quality_loss: 0.3138 - val_wine_type_loss: 0.0310 - val_wine_quality_root_mean_squared_error: 0.5602 - val_wine_type_accuracy: 0.9949\n",
      "Epoch 63/180\n",
      "99/99 [==============================] - 0s 5ms/step - loss: 0.3298 - wine_quality_loss: 0.3049 - wine_type_loss: 0.0249 - wine_quality_root_mean_squared_error: 0.5522 - wine_type_accuracy: 0.9959 - val_loss: 0.3433 - val_wine_quality_loss: 0.3125 - val_wine_type_loss: 0.0308 - val_wine_quality_root_mean_squared_error: 0.5590 - val_wine_type_accuracy: 0.9949\n",
      "Epoch 64/180\n",
      "99/99 [==============================] - 0s 5ms/step - loss: 0.3281 - wine_quality_loss: 0.3034 - wine_type_loss: 0.0247 - wine_quality_root_mean_squared_error: 0.5508 - wine_type_accuracy: 0.9959 - val_loss: 0.3455 - val_wine_quality_loss: 0.3148 - val_wine_type_loss: 0.0307 - val_wine_quality_root_mean_squared_error: 0.5611 - val_wine_type_accuracy: 0.9949\n",
      "Epoch 65/180\n",
      "99/99 [==============================] - 0s 5ms/step - loss: 0.3276 - wine_quality_loss: 0.3031 - wine_type_loss: 0.0246 - wine_quality_root_mean_squared_error: 0.5505 - wine_type_accuracy: 0.9959 - val_loss: 0.3446 - val_wine_quality_loss: 0.3140 - val_wine_type_loss: 0.0306 - val_wine_quality_root_mean_squared_error: 0.5603 - val_wine_type_accuracy: 0.9949\n",
      "Epoch 66/180\n",
      "99/99 [==============================] - 0s 5ms/step - loss: 0.3264 - wine_quality_loss: 0.3020 - wine_type_loss: 0.0244 - wine_quality_root_mean_squared_error: 0.5496 - wine_type_accuracy: 0.9959 - val_loss: 0.3511 - val_wine_quality_loss: 0.3205 - val_wine_type_loss: 0.0306 - val_wine_quality_root_mean_squared_error: 0.5661 - val_wine_type_accuracy: 0.9949\n"
     ]
    },
    {
     "name": "stdout",
     "output_type": "stream",
     "text": [
      "Epoch 67/180\n",
      "99/99 [==============================] - 0s 5ms/step - loss: 0.3259 - wine_quality_loss: 0.3017 - wine_type_loss: 0.0243 - wine_quality_root_mean_squared_error: 0.5492 - wine_type_accuracy: 0.9959 - val_loss: 0.3487 - val_wine_quality_loss: 0.3181 - val_wine_type_loss: 0.0306 - val_wine_quality_root_mean_squared_error: 0.5640 - val_wine_type_accuracy: 0.9949\n",
      "Epoch 68/180\n",
      "99/99 [==============================] - 0s 5ms/step - loss: 0.3236 - wine_quality_loss: 0.2994 - wine_type_loss: 0.0241 - wine_quality_root_mean_squared_error: 0.5472 - wine_type_accuracy: 0.9959 - val_loss: 0.3486 - val_wine_quality_loss: 0.3181 - val_wine_type_loss: 0.0306 - val_wine_quality_root_mean_squared_error: 0.5640 - val_wine_type_accuracy: 0.9949\n",
      "Epoch 69/180\n",
      "99/99 [==============================] - 0s 5ms/step - loss: 0.3240 - wine_quality_loss: 0.3000 - wine_type_loss: 0.0240 - wine_quality_root_mean_squared_error: 0.5478 - wine_type_accuracy: 0.9959 - val_loss: 0.3472 - val_wine_quality_loss: 0.3169 - val_wine_type_loss: 0.0303 - val_wine_quality_root_mean_squared_error: 0.5629 - val_wine_type_accuracy: 0.9949\n",
      "Epoch 70/180\n",
      "99/99 [==============================] - 0s 5ms/step - loss: 0.3226 - wine_quality_loss: 0.2988 - wine_type_loss: 0.0238 - wine_quality_root_mean_squared_error: 0.5467 - wine_type_accuracy: 0.9959 - val_loss: 0.3426 - val_wine_quality_loss: 0.3123 - val_wine_type_loss: 0.0303 - val_wine_quality_root_mean_squared_error: 0.5588 - val_wine_type_accuracy: 0.9949\n",
      "Epoch 71/180\n",
      "99/99 [==============================] - 0s 5ms/step - loss: 0.3219 - wine_quality_loss: 0.2981 - wine_type_loss: 0.0238 - wine_quality_root_mean_squared_error: 0.5460 - wine_type_accuracy: 0.9959 - val_loss: 0.3405 - val_wine_quality_loss: 0.3103 - val_wine_type_loss: 0.0302 - val_wine_quality_root_mean_squared_error: 0.5570 - val_wine_type_accuracy: 0.9949\n",
      "Epoch 72/180\n",
      "99/99 [==============================] - 0s 5ms/step - loss: 0.3207 - wine_quality_loss: 0.2971 - wine_type_loss: 0.0236 - wine_quality_root_mean_squared_error: 0.5451 - wine_type_accuracy: 0.9962 - val_loss: 0.3454 - val_wine_quality_loss: 0.3152 - val_wine_type_loss: 0.0302 - val_wine_quality_root_mean_squared_error: 0.5614 - val_wine_type_accuracy: 0.9949\n",
      "Epoch 73/180\n",
      "99/99 [==============================] - 0s 5ms/step - loss: 0.3205 - wine_quality_loss: 0.2970 - wine_type_loss: 0.0235 - wine_quality_root_mean_squared_error: 0.5450 - wine_type_accuracy: 0.9962 - val_loss: 0.3421 - val_wine_quality_loss: 0.3118 - val_wine_type_loss: 0.0302 - val_wine_quality_root_mean_squared_error: 0.5584 - val_wine_type_accuracy: 0.9949\n",
      "Epoch 74/180\n",
      "99/99 [==============================] - 0s 5ms/step - loss: 0.3187 - wine_quality_loss: 0.2953 - wine_type_loss: 0.0234 - wine_quality_root_mean_squared_error: 0.5434 - wine_type_accuracy: 0.9959 - val_loss: 0.3414 - val_wine_quality_loss: 0.3113 - val_wine_type_loss: 0.0301 - val_wine_quality_root_mean_squared_error: 0.5579 - val_wine_type_accuracy: 0.9949\n",
      "Epoch 75/180\n",
      "99/99 [==============================] - 0s 5ms/step - loss: 0.3175 - wine_quality_loss: 0.2942 - wine_type_loss: 0.0233 - wine_quality_root_mean_squared_error: 0.5424 - wine_type_accuracy: 0.9962 - val_loss: 0.3399 - val_wine_quality_loss: 0.3099 - val_wine_type_loss: 0.0301 - val_wine_quality_root_mean_squared_error: 0.5567 - val_wine_type_accuracy: 0.9949\n",
      "Epoch 76/180\n",
      "99/99 [==============================] - 0s 5ms/step - loss: 0.3178 - wine_quality_loss: 0.2947 - wine_type_loss: 0.0232 - wine_quality_root_mean_squared_error: 0.5428 - wine_type_accuracy: 0.9962 - val_loss: 0.3493 - val_wine_quality_loss: 0.3193 - val_wine_type_loss: 0.0300 - val_wine_quality_root_mean_squared_error: 0.5651 - val_wine_type_accuracy: 0.9949\n",
      "Epoch 77/180\n",
      "99/99 [==============================] - 0s 5ms/step - loss: 0.3171 - wine_quality_loss: 0.2941 - wine_type_loss: 0.0231 - wine_quality_root_mean_squared_error: 0.5423 - wine_type_accuracy: 0.9959 - val_loss: 0.3454 - val_wine_quality_loss: 0.3154 - val_wine_type_loss: 0.0300 - val_wine_quality_root_mean_squared_error: 0.5616 - val_wine_type_accuracy: 0.9949\n",
      "Epoch 78/180\n",
      "99/99 [==============================] - 0s 5ms/step - loss: 0.3147 - wine_quality_loss: 0.2917 - wine_type_loss: 0.0229 - wine_quality_root_mean_squared_error: 0.5401 - wine_type_accuracy: 0.9962 - val_loss: 0.3482 - val_wine_quality_loss: 0.3183 - val_wine_type_loss: 0.0299 - val_wine_quality_root_mean_squared_error: 0.5642 - val_wine_type_accuracy: 0.9949\n",
      "Epoch 79/180\n",
      "99/99 [==============================] - 0s 5ms/step - loss: 0.3153 - wine_quality_loss: 0.2925 - wine_type_loss: 0.0228 - wine_quality_root_mean_squared_error: 0.5408 - wine_type_accuracy: 0.9962 - val_loss: 0.3418 - val_wine_quality_loss: 0.3120 - val_wine_type_loss: 0.0298 - val_wine_quality_root_mean_squared_error: 0.5586 - val_wine_type_accuracy: 0.9949\n",
      "Epoch 80/180\n",
      "99/99 [==============================] - 0s 5ms/step - loss: 0.3137 - wine_quality_loss: 0.2910 - wine_type_loss: 0.0227 - wine_quality_root_mean_squared_error: 0.5395 - wine_type_accuracy: 0.9962 - val_loss: 0.3425 - val_wine_quality_loss: 0.3127 - val_wine_type_loss: 0.0297 - val_wine_quality_root_mean_squared_error: 0.5592 - val_wine_type_accuracy: 0.9949\n",
      "Epoch 81/180\n",
      "99/99 [==============================] - 0s 5ms/step - loss: 0.3133 - wine_quality_loss: 0.2907 - wine_type_loss: 0.0226 - wine_quality_root_mean_squared_error: 0.5392 - wine_type_accuracy: 0.9962 - val_loss: 0.3440 - val_wine_quality_loss: 0.3144 - val_wine_type_loss: 0.0296 - val_wine_quality_root_mean_squared_error: 0.5607 - val_wine_type_accuracy: 0.9949\n",
      "Epoch 82/180\n",
      "99/99 [==============================] - 0s 5ms/step - loss: 0.3125 - wine_quality_loss: 0.2901 - wine_type_loss: 0.0225 - wine_quality_root_mean_squared_error: 0.5386 - wine_type_accuracy: 0.9962 - val_loss: 0.3482 - val_wine_quality_loss: 0.3187 - val_wine_type_loss: 0.0295 - val_wine_quality_root_mean_squared_error: 0.5645 - val_wine_type_accuracy: 0.9949\n",
      "Epoch 83/180\n",
      "99/99 [==============================] - 0s 5ms/step - loss: 0.3121 - wine_quality_loss: 0.2897 - wine_type_loss: 0.0224 - wine_quality_root_mean_squared_error: 0.5382 - wine_type_accuracy: 0.9962 - val_loss: 0.3452 - val_wine_quality_loss: 0.3157 - val_wine_type_loss: 0.0295 - val_wine_quality_root_mean_squared_error: 0.5619 - val_wine_type_accuracy: 0.9949\n",
      "Epoch 84/180\n",
      "99/99 [==============================] - 0s 5ms/step - loss: 0.3122 - wine_quality_loss: 0.2899 - wine_type_loss: 0.0223 - wine_quality_root_mean_squared_error: 0.5385 - wine_type_accuracy: 0.9962 - val_loss: 0.3414 - val_wine_quality_loss: 0.3119 - val_wine_type_loss: 0.0295 - val_wine_quality_root_mean_squared_error: 0.5585 - val_wine_type_accuracy: 0.9949\n",
      "Epoch 85/180\n",
      "99/99 [==============================] - 0s 5ms/step - loss: 0.3110 - wine_quality_loss: 0.2889 - wine_type_loss: 0.0222 - wine_quality_root_mean_squared_error: 0.5374 - wine_type_accuracy: 0.9962 - val_loss: 0.3424 - val_wine_quality_loss: 0.3130 - val_wine_type_loss: 0.0294 - val_wine_quality_root_mean_squared_error: 0.5594 - val_wine_type_accuracy: 0.9949\n",
      "Epoch 86/180\n",
      "99/99 [==============================] - 0s 5ms/step - loss: 0.3100 - wine_quality_loss: 0.2880 - wine_type_loss: 0.0221 - wine_quality_root_mean_squared_error: 0.5366 - wine_type_accuracy: 0.9962 - val_loss: 0.3411 - val_wine_quality_loss: 0.3118 - val_wine_type_loss: 0.0293 - val_wine_quality_root_mean_squared_error: 0.5584 - val_wine_type_accuracy: 0.9949\n",
      "Epoch 87/180\n",
      "99/99 [==============================] - 0s 5ms/step - loss: 0.3098 - wine_quality_loss: 0.2878 - wine_type_loss: 0.0220 - wine_quality_root_mean_squared_error: 0.5365 - wine_type_accuracy: 0.9962 - val_loss: 0.3395 - val_wine_quality_loss: 0.3102 - val_wine_type_loss: 0.0293 - val_wine_quality_root_mean_squared_error: 0.5570 - val_wine_type_accuracy: 0.9949\n",
      "Epoch 88/180\n",
      "99/99 [==============================] - 0s 5ms/step - loss: 0.3091 - wine_quality_loss: 0.2873 - wine_type_loss: 0.0219 - wine_quality_root_mean_squared_error: 0.5360 - wine_type_accuracy: 0.9962 - val_loss: 0.3469 - val_wine_quality_loss: 0.3177 - val_wine_type_loss: 0.0292 - val_wine_quality_root_mean_squared_error: 0.5636 - val_wine_type_accuracy: 0.9949\n"
     ]
    },
    {
     "name": "stdout",
     "output_type": "stream",
     "text": [
      "Epoch 89/180\n",
      "99/99 [==============================] - 0s 5ms/step - loss: 0.3086 - wine_quality_loss: 0.2869 - wine_type_loss: 0.0218 - wine_quality_root_mean_squared_error: 0.5356 - wine_type_accuracy: 0.9962 - val_loss: 0.3353 - val_wine_quality_loss: 0.3062 - val_wine_type_loss: 0.0291 - val_wine_quality_root_mean_squared_error: 0.5533 - val_wine_type_accuracy: 0.9949\n",
      "Epoch 90/180\n",
      "99/99 [==============================] - 0s 5ms/step - loss: 0.3079 - wine_quality_loss: 0.2862 - wine_type_loss: 0.0217 - wine_quality_root_mean_squared_error: 0.5350 - wine_type_accuracy: 0.9965 - val_loss: 0.3365 - val_wine_quality_loss: 0.3074 - val_wine_type_loss: 0.0291 - val_wine_quality_root_mean_squared_error: 0.5544 - val_wine_type_accuracy: 0.9949\n",
      "Epoch 91/180\n",
      "99/99 [==============================] - 0s 5ms/step - loss: 0.3062 - wine_quality_loss: 0.2847 - wine_type_loss: 0.0215 - wine_quality_root_mean_squared_error: 0.5336 - wine_type_accuracy: 0.9962 - val_loss: 0.3364 - val_wine_quality_loss: 0.3072 - val_wine_type_loss: 0.0292 - val_wine_quality_root_mean_squared_error: 0.5543 - val_wine_type_accuracy: 0.9949\n",
      "Epoch 92/180\n",
      "99/99 [==============================] - 0s 5ms/step - loss: 0.3063 - wine_quality_loss: 0.2848 - wine_type_loss: 0.0215 - wine_quality_root_mean_squared_error: 0.5337 - wine_type_accuracy: 0.9965 - val_loss: 0.3385 - val_wine_quality_loss: 0.3094 - val_wine_type_loss: 0.0290 - val_wine_quality_root_mean_squared_error: 0.5563 - val_wine_type_accuracy: 0.9949\n",
      "Epoch 93/180\n",
      "99/99 [==============================] - 0s 5ms/step - loss: 0.3055 - wine_quality_loss: 0.2842 - wine_type_loss: 0.0213 - wine_quality_root_mean_squared_error: 0.5331 - wine_type_accuracy: 0.9965 - val_loss: 0.3381 - val_wine_quality_loss: 0.3090 - val_wine_type_loss: 0.0291 - val_wine_quality_root_mean_squared_error: 0.5559 - val_wine_type_accuracy: 0.9949\n",
      "Epoch 94/180\n",
      "99/99 [==============================] - 0s 5ms/step - loss: 0.3056 - wine_quality_loss: 0.2843 - wine_type_loss: 0.0213 - wine_quality_root_mean_squared_error: 0.5332 - wine_type_accuracy: 0.9965 - val_loss: 0.3409 - val_wine_quality_loss: 0.3120 - val_wine_type_loss: 0.0289 - val_wine_quality_root_mean_squared_error: 0.5586 - val_wine_type_accuracy: 0.9949\n",
      "Epoch 95/180\n",
      "99/99 [==============================] - 0s 5ms/step - loss: 0.3040 - wine_quality_loss: 0.2828 - wine_type_loss: 0.0212 - wine_quality_root_mean_squared_error: 0.5318 - wine_type_accuracy: 0.9965 - val_loss: 0.3443 - val_wine_quality_loss: 0.3153 - val_wine_type_loss: 0.0290 - val_wine_quality_root_mean_squared_error: 0.5615 - val_wine_type_accuracy: 0.9949\n",
      "Epoch 96/180\n",
      "99/99 [==============================] - 0s 5ms/step - loss: 0.3030 - wine_quality_loss: 0.2819 - wine_type_loss: 0.0211 - wine_quality_root_mean_squared_error: 0.5310 - wine_type_accuracy: 0.9965 - val_loss: 0.3371 - val_wine_quality_loss: 0.3083 - val_wine_type_loss: 0.0288 - val_wine_quality_root_mean_squared_error: 0.5553 - val_wine_type_accuracy: 0.9949\n",
      "Epoch 97/180\n",
      "99/99 [==============================] - 0s 5ms/step - loss: 0.3027 - wine_quality_loss: 0.2817 - wine_type_loss: 0.0210 - wine_quality_root_mean_squared_error: 0.5308 - wine_type_accuracy: 0.9965 - val_loss: 0.3408 - val_wine_quality_loss: 0.3120 - val_wine_type_loss: 0.0288 - val_wine_quality_root_mean_squared_error: 0.5585 - val_wine_type_accuracy: 0.9949\n",
      "Epoch 98/180\n",
      "99/99 [==============================] - 0s 5ms/step - loss: 0.3027 - wine_quality_loss: 0.2818 - wine_type_loss: 0.0209 - wine_quality_root_mean_squared_error: 0.5309 - wine_type_accuracy: 0.9965 - val_loss: 0.3451 - val_wine_quality_loss: 0.3163 - val_wine_type_loss: 0.0288 - val_wine_quality_root_mean_squared_error: 0.5624 - val_wine_type_accuracy: 0.9949\n",
      "Epoch 99/180\n",
      "99/99 [==============================] - 0s 5ms/step - loss: 0.3023 - wine_quality_loss: 0.2816 - wine_type_loss: 0.0208 - wine_quality_root_mean_squared_error: 0.5306 - wine_type_accuracy: 0.9965 - val_loss: 0.3398 - val_wine_quality_loss: 0.3110 - val_wine_type_loss: 0.0288 - val_wine_quality_root_mean_squared_error: 0.5577 - val_wine_type_accuracy: 0.9949\n",
      "Epoch 100/180\n",
      "99/99 [==============================] - 0s 5ms/step - loss: 0.3005 - wine_quality_loss: 0.2797 - wine_type_loss: 0.0207 - wine_quality_root_mean_squared_error: 0.5289 - wine_type_accuracy: 0.9965 - val_loss: 0.3397 - val_wine_quality_loss: 0.3110 - val_wine_type_loss: 0.0287 - val_wine_quality_root_mean_squared_error: 0.5577 - val_wine_type_accuracy: 0.9949\n",
      "Epoch 101/180\n",
      "99/99 [==============================] - 0s 5ms/step - loss: 0.3016 - wine_quality_loss: 0.2809 - wine_type_loss: 0.0206 - wine_quality_root_mean_squared_error: 0.5300 - wine_type_accuracy: 0.9965 - val_loss: 0.3367 - val_wine_quality_loss: 0.3081 - val_wine_type_loss: 0.0287 - val_wine_quality_root_mean_squared_error: 0.5550 - val_wine_type_accuracy: 0.9949\n",
      "Epoch 102/180\n",
      "99/99 [==============================] - 0s 5ms/step - loss: 0.3006 - wine_quality_loss: 0.2801 - wine_type_loss: 0.0205 - wine_quality_root_mean_squared_error: 0.5293 - wine_type_accuracy: 0.9965 - val_loss: 0.3372 - val_wine_quality_loss: 0.3085 - val_wine_type_loss: 0.0287 - val_wine_quality_root_mean_squared_error: 0.5554 - val_wine_type_accuracy: 0.9949\n",
      "Epoch 103/180\n",
      "99/99 [==============================] - 0s 5ms/step - loss: 0.2989 - wine_quality_loss: 0.2784 - wine_type_loss: 0.0205 - wine_quality_root_mean_squared_error: 0.5277 - wine_type_accuracy: 0.9965 - val_loss: 0.3435 - val_wine_quality_loss: 0.3148 - val_wine_type_loss: 0.0287 - val_wine_quality_root_mean_squared_error: 0.5611 - val_wine_type_accuracy: 0.9949\n",
      "Epoch 104/180\n",
      "99/99 [==============================] - 0s 5ms/step - loss: 0.2988 - wine_quality_loss: 0.2784 - wine_type_loss: 0.0204 - wine_quality_root_mean_squared_error: 0.5276 - wine_type_accuracy: 0.9965 - val_loss: 0.3419 - val_wine_quality_loss: 0.3134 - val_wine_type_loss: 0.0285 - val_wine_quality_root_mean_squared_error: 0.5598 - val_wine_type_accuracy: 0.9949\n",
      "Epoch 105/180\n",
      "99/99 [==============================] - 0s 5ms/step - loss: 0.2986 - wine_quality_loss: 0.2783 - wine_type_loss: 0.0203 - wine_quality_root_mean_squared_error: 0.5275 - wine_type_accuracy: 0.9965 - val_loss: 0.3361 - val_wine_quality_loss: 0.3076 - val_wine_type_loss: 0.0285 - val_wine_quality_root_mean_squared_error: 0.5546 - val_wine_type_accuracy: 0.9949\n",
      "Epoch 106/180\n",
      "99/99 [==============================] - 0s 5ms/step - loss: 0.2983 - wine_quality_loss: 0.2781 - wine_type_loss: 0.0202 - wine_quality_root_mean_squared_error: 0.5274 - wine_type_accuracy: 0.9965 - val_loss: 0.3363 - val_wine_quality_loss: 0.3078 - val_wine_type_loss: 0.0285 - val_wine_quality_root_mean_squared_error: 0.5548 - val_wine_type_accuracy: 0.9949\n",
      "Epoch 107/180\n",
      "99/99 [==============================] - 0s 5ms/step - loss: 0.2979 - wine_quality_loss: 0.2777 - wine_type_loss: 0.0201 - wine_quality_root_mean_squared_error: 0.5270 - wine_type_accuracy: 0.9965 - val_loss: 0.3412 - val_wine_quality_loss: 0.3127 - val_wine_type_loss: 0.0285 - val_wine_quality_root_mean_squared_error: 0.5592 - val_wine_type_accuracy: 0.9949\n",
      "Epoch 108/180\n",
      "99/99 [==============================] - 0s 5ms/step - loss: 0.2966 - wine_quality_loss: 0.2766 - wine_type_loss: 0.0201 - wine_quality_root_mean_squared_error: 0.5259 - wine_type_accuracy: 0.9965 - val_loss: 0.3449 - val_wine_quality_loss: 0.3164 - val_wine_type_loss: 0.0284 - val_wine_quality_root_mean_squared_error: 0.5625 - val_wine_type_accuracy: 0.9949\n",
      "Epoch 109/180\n",
      "99/99 [==============================] - 0s 5ms/step - loss: 0.2954 - wine_quality_loss: 0.2755 - wine_type_loss: 0.0199 - wine_quality_root_mean_squared_error: 0.5249 - wine_type_accuracy: 0.9965 - val_loss: 0.3375 - val_wine_quality_loss: 0.3090 - val_wine_type_loss: 0.0285 - val_wine_quality_root_mean_squared_error: 0.5559 - val_wine_type_accuracy: 0.9949\n",
      "Epoch 110/180\n",
      "99/99 [==============================] - 0s 5ms/step - loss: 0.2942 - wine_quality_loss: 0.2743 - wine_type_loss: 0.0199 - wine_quality_root_mean_squared_error: 0.5238 - wine_type_accuracy: 0.9965 - val_loss: 0.3455 - val_wine_quality_loss: 0.3172 - val_wine_type_loss: 0.0284 - val_wine_quality_root_mean_squared_error: 0.5632 - val_wine_type_accuracy: 0.9949\n"
     ]
    },
    {
     "name": "stdout",
     "output_type": "stream",
     "text": [
      "Epoch 111/180\n",
      "99/99 [==============================] - 0s 5ms/step - loss: 0.2957 - wine_quality_loss: 0.2759 - wine_type_loss: 0.0198 - wine_quality_root_mean_squared_error: 0.5252 - wine_type_accuracy: 0.9965 - val_loss: 0.3369 - val_wine_quality_loss: 0.3085 - val_wine_type_loss: 0.0283 - val_wine_quality_root_mean_squared_error: 0.5555 - val_wine_type_accuracy: 0.9949\n",
      "Epoch 112/180\n",
      "99/99 [==============================] - 0s 5ms/step - loss: 0.2947 - wine_quality_loss: 0.2750 - wine_type_loss: 0.0197 - wine_quality_root_mean_squared_error: 0.5244 - wine_type_accuracy: 0.9965 - val_loss: 0.3356 - val_wine_quality_loss: 0.3073 - val_wine_type_loss: 0.0283 - val_wine_quality_root_mean_squared_error: 0.5544 - val_wine_type_accuracy: 0.9949\n",
      "Epoch 113/180\n",
      "99/99 [==============================] - 0s 5ms/step - loss: 0.2931 - wine_quality_loss: 0.2734 - wine_type_loss: 0.0197 - wine_quality_root_mean_squared_error: 0.5229 - wine_type_accuracy: 0.9968 - val_loss: 0.3378 - val_wine_quality_loss: 0.3097 - val_wine_type_loss: 0.0282 - val_wine_quality_root_mean_squared_error: 0.5565 - val_wine_type_accuracy: 0.9949\n",
      "Epoch 114/180\n",
      "99/99 [==============================] - 0s 5ms/step - loss: 0.2932 - wine_quality_loss: 0.2736 - wine_type_loss: 0.0196 - wine_quality_root_mean_squared_error: 0.5231 - wine_type_accuracy: 0.9965 - val_loss: 0.3340 - val_wine_quality_loss: 0.3058 - val_wine_type_loss: 0.0282 - val_wine_quality_root_mean_squared_error: 0.5530 - val_wine_type_accuracy: 0.9949\n",
      "Epoch 115/180\n",
      "99/99 [==============================] - 0s 5ms/step - loss: 0.2923 - wine_quality_loss: 0.2727 - wine_type_loss: 0.0195 - wine_quality_root_mean_squared_error: 0.5222 - wine_type_accuracy: 0.9965 - val_loss: 0.3355 - val_wine_quality_loss: 0.3074 - val_wine_type_loss: 0.0281 - val_wine_quality_root_mean_squared_error: 0.5544 - val_wine_type_accuracy: 0.9949\n",
      "Epoch 116/180\n",
      "99/99 [==============================] - 0s 5ms/step - loss: 0.2923 - wine_quality_loss: 0.2729 - wine_type_loss: 0.0194 - wine_quality_root_mean_squared_error: 0.5224 - wine_type_accuracy: 0.9968 - val_loss: 0.3418 - val_wine_quality_loss: 0.3137 - val_wine_type_loss: 0.0281 - val_wine_quality_root_mean_squared_error: 0.5600 - val_wine_type_accuracy: 0.9949\n",
      "Epoch 117/180\n",
      "99/99 [==============================] - 0s 5ms/step - loss: 0.2919 - wine_quality_loss: 0.2725 - wine_type_loss: 0.0194 - wine_quality_root_mean_squared_error: 0.5220 - wine_type_accuracy: 0.9965 - val_loss: 0.3380 - val_wine_quality_loss: 0.3099 - val_wine_type_loss: 0.0281 - val_wine_quality_root_mean_squared_error: 0.5567 - val_wine_type_accuracy: 0.9949\n",
      "Epoch 118/180\n",
      "99/99 [==============================] - 0s 5ms/step - loss: 0.2914 - wine_quality_loss: 0.2721 - wine_type_loss: 0.0193 - wine_quality_root_mean_squared_error: 0.5216 - wine_type_accuracy: 0.9965 - val_loss: 0.3377 - val_wine_quality_loss: 0.3098 - val_wine_type_loss: 0.0280 - val_wine_quality_root_mean_squared_error: 0.5566 - val_wine_type_accuracy: 0.9949\n",
      "Epoch 119/180\n",
      "99/99 [==============================] - 0s 5ms/step - loss: 0.2917 - wine_quality_loss: 0.2725 - wine_type_loss: 0.0192 - wine_quality_root_mean_squared_error: 0.5220 - wine_type_accuracy: 0.9965 - val_loss: 0.3402 - val_wine_quality_loss: 0.3121 - val_wine_type_loss: 0.0280 - val_wine_quality_root_mean_squared_error: 0.5587 - val_wine_type_accuracy: 0.9949\n",
      "Epoch 120/180\n",
      "99/99 [==============================] - 0s 5ms/step - loss: 0.2911 - wine_quality_loss: 0.2720 - wine_type_loss: 0.0191 - wine_quality_root_mean_squared_error: 0.5216 - wine_type_accuracy: 0.9965 - val_loss: 0.3389 - val_wine_quality_loss: 0.3110 - val_wine_type_loss: 0.0279 - val_wine_quality_root_mean_squared_error: 0.5577 - val_wine_type_accuracy: 0.9949\n",
      "Epoch 121/180\n",
      "99/99 [==============================] - 0s 5ms/step - loss: 0.2907 - wine_quality_loss: 0.2717 - wine_type_loss: 0.0190 - wine_quality_root_mean_squared_error: 0.5212 - wine_type_accuracy: 0.9965 - val_loss: 0.3384 - val_wine_quality_loss: 0.3105 - val_wine_type_loss: 0.0279 - val_wine_quality_root_mean_squared_error: 0.5572 - val_wine_type_accuracy: 0.9949\n",
      "Epoch 122/180\n",
      "99/99 [==============================] - 0s 5ms/step - loss: 0.2897 - wine_quality_loss: 0.2708 - wine_type_loss: 0.0190 - wine_quality_root_mean_squared_error: 0.5204 - wine_type_accuracy: 0.9965 - val_loss: 0.3343 - val_wine_quality_loss: 0.3064 - val_wine_type_loss: 0.0278 - val_wine_quality_root_mean_squared_error: 0.5535 - val_wine_type_accuracy: 0.9949\n",
      "Epoch 123/180\n",
      "99/99 [==============================] - 0s 5ms/step - loss: 0.2894 - wine_quality_loss: 0.2705 - wine_type_loss: 0.0189 - wine_quality_root_mean_squared_error: 0.5201 - wine_type_accuracy: 0.9965 - val_loss: 0.3352 - val_wine_quality_loss: 0.3074 - val_wine_type_loss: 0.0278 - val_wine_quality_root_mean_squared_error: 0.5544 - val_wine_type_accuracy: 0.9949\n",
      "Epoch 124/180\n",
      "99/99 [==============================] - 0s 5ms/step - loss: 0.2883 - wine_quality_loss: 0.2695 - wine_type_loss: 0.0188 - wine_quality_root_mean_squared_error: 0.5191 - wine_type_accuracy: 0.9965 - val_loss: 0.3367 - val_wine_quality_loss: 0.3089 - val_wine_type_loss: 0.0278 - val_wine_quality_root_mean_squared_error: 0.5558 - val_wine_type_accuracy: 0.9949\n",
      "Epoch 125/180\n",
      "99/99 [==============================] - 0s 5ms/step - loss: 0.2883 - wine_quality_loss: 0.2695 - wine_type_loss: 0.0188 - wine_quality_root_mean_squared_error: 0.5191 - wine_type_accuracy: 0.9968 - val_loss: 0.3377 - val_wine_quality_loss: 0.3100 - val_wine_type_loss: 0.0278 - val_wine_quality_root_mean_squared_error: 0.5567 - val_wine_type_accuracy: 0.9949\n",
      "Epoch 126/180\n",
      "99/99 [==============================] - 0s 5ms/step - loss: 0.2890 - wine_quality_loss: 0.2703 - wine_type_loss: 0.0186 - wine_quality_root_mean_squared_error: 0.5199 - wine_type_accuracy: 0.9968 - val_loss: 0.3374 - val_wine_quality_loss: 0.3095 - val_wine_type_loss: 0.0278 - val_wine_quality_root_mean_squared_error: 0.5564 - val_wine_type_accuracy: 0.9949\n",
      "Epoch 127/180\n",
      "99/99 [==============================] - 0s 5ms/step - loss: 0.2870 - wine_quality_loss: 0.2684 - wine_type_loss: 0.0186 - wine_quality_root_mean_squared_error: 0.5180 - wine_type_accuracy: 0.9968 - val_loss: 0.3384 - val_wine_quality_loss: 0.3107 - val_wine_type_loss: 0.0277 - val_wine_quality_root_mean_squared_error: 0.5574 - val_wine_type_accuracy: 0.9949\n",
      "Epoch 128/180\n",
      "99/99 [==============================] - 0s 5ms/step - loss: 0.2865 - wine_quality_loss: 0.2680 - wine_type_loss: 0.0185 - wine_quality_root_mean_squared_error: 0.5177 - wine_type_accuracy: 0.9965 - val_loss: 0.3416 - val_wine_quality_loss: 0.3139 - val_wine_type_loss: 0.0277 - val_wine_quality_root_mean_squared_error: 0.5603 - val_wine_type_accuracy: 0.9949\n",
      "Epoch 129/180\n",
      "99/99 [==============================] - 0s 5ms/step - loss: 0.2864 - wine_quality_loss: 0.2680 - wine_type_loss: 0.0185 - wine_quality_root_mean_squared_error: 0.5177 - wine_type_accuracy: 0.9968 - val_loss: 0.3395 - val_wine_quality_loss: 0.3119 - val_wine_type_loss: 0.0276 - val_wine_quality_root_mean_squared_error: 0.5585 - val_wine_type_accuracy: 0.9949\n",
      "Epoch 130/180\n",
      "99/99 [==============================] - 0s 5ms/step - loss: 0.2859 - wine_quality_loss: 0.2675 - wine_type_loss: 0.0184 - wine_quality_root_mean_squared_error: 0.5172 - wine_type_accuracy: 0.9968 - val_loss: 0.3354 - val_wine_quality_loss: 0.3078 - val_wine_type_loss: 0.0276 - val_wine_quality_root_mean_squared_error: 0.5548 - val_wine_type_accuracy: 0.9949\n",
      "Epoch 131/180\n",
      "99/99 [==============================] - 0s 5ms/step - loss: 0.2857 - wine_quality_loss: 0.2674 - wine_type_loss: 0.0183 - wine_quality_root_mean_squared_error: 0.5171 - wine_type_accuracy: 0.9968 - val_loss: 0.3367 - val_wine_quality_loss: 0.3090 - val_wine_type_loss: 0.0277 - val_wine_quality_root_mean_squared_error: 0.5558 - val_wine_type_accuracy: 0.9949\n",
      "Epoch 132/180\n",
      "99/99 [==============================] - 0s 5ms/step - loss: 0.2852 - wine_quality_loss: 0.2669 - wine_type_loss: 0.0183 - wine_quality_root_mean_squared_error: 0.5166 - wine_type_accuracy: 0.9965 - val_loss: 0.3367 - val_wine_quality_loss: 0.3089 - val_wine_type_loss: 0.0277 - val_wine_quality_root_mean_squared_error: 0.5558 - val_wine_type_accuracy: 0.9949\n"
     ]
    },
    {
     "name": "stdout",
     "output_type": "stream",
     "text": [
      "Epoch 133/180\n",
      "99/99 [==============================] - 0s 5ms/step - loss: 0.2853 - wine_quality_loss: 0.2670 - wine_type_loss: 0.0182 - wine_quality_root_mean_squared_error: 0.5168 - wine_type_accuracy: 0.9968 - val_loss: 0.3496 - val_wine_quality_loss: 0.3218 - val_wine_type_loss: 0.0277 - val_wine_quality_root_mean_squared_error: 0.5673 - val_wine_type_accuracy: 0.9949\n",
      "Epoch 134/180\n",
      "99/99 [==============================] - 0s 5ms/step - loss: 0.2836 - wine_quality_loss: 0.2653 - wine_type_loss: 0.0182 - wine_quality_root_mean_squared_error: 0.5151 - wine_type_accuracy: 0.9965 - val_loss: 0.3439 - val_wine_quality_loss: 0.3161 - val_wine_type_loss: 0.0278 - val_wine_quality_root_mean_squared_error: 0.5623 - val_wine_type_accuracy: 0.9949\n",
      "Epoch 135/180\n",
      "99/99 [==============================] - 0s 5ms/step - loss: 0.2846 - wine_quality_loss: 0.2665 - wine_type_loss: 0.0181 - wine_quality_root_mean_squared_error: 0.5162 - wine_type_accuracy: 0.9968 - val_loss: 0.3363 - val_wine_quality_loss: 0.3086 - val_wine_type_loss: 0.0276 - val_wine_quality_root_mean_squared_error: 0.5555 - val_wine_type_accuracy: 0.9949\n",
      "Epoch 136/180\n",
      "99/99 [==============================] - 0s 5ms/step - loss: 0.2840 - wine_quality_loss: 0.2659 - wine_type_loss: 0.0181 - wine_quality_root_mean_squared_error: 0.5156 - wine_type_accuracy: 0.9965 - val_loss: 0.3375 - val_wine_quality_loss: 0.3099 - val_wine_type_loss: 0.0276 - val_wine_quality_root_mean_squared_error: 0.5567 - val_wine_type_accuracy: 0.9949\n",
      "Epoch 137/180\n",
      "99/99 [==============================] - 0s 5ms/step - loss: 0.2829 - wine_quality_loss: 0.2650 - wine_type_loss: 0.0180 - wine_quality_root_mean_squared_error: 0.5148 - wine_type_accuracy: 0.9968 - val_loss: 0.3384 - val_wine_quality_loss: 0.3108 - val_wine_type_loss: 0.0276 - val_wine_quality_root_mean_squared_error: 0.5575 - val_wine_type_accuracy: 0.9949\n",
      "Epoch 138/180\n",
      "99/99 [==============================] - 0s 5ms/step - loss: 0.2829 - wine_quality_loss: 0.2651 - wine_type_loss: 0.0179 - wine_quality_root_mean_squared_error: 0.5148 - wine_type_accuracy: 0.9968 - val_loss: 0.3398 - val_wine_quality_loss: 0.3123 - val_wine_type_loss: 0.0275 - val_wine_quality_root_mean_squared_error: 0.5589 - val_wine_type_accuracy: 0.9949\n",
      "Epoch 139/180\n",
      "99/99 [==============================] - 0s 5ms/step - loss: 0.2822 - wine_quality_loss: 0.2644 - wine_type_loss: 0.0178 - wine_quality_root_mean_squared_error: 0.5142 - wine_type_accuracy: 0.9965 - val_loss: 0.3340 - val_wine_quality_loss: 0.3065 - val_wine_type_loss: 0.0275 - val_wine_quality_root_mean_squared_error: 0.5537 - val_wine_type_accuracy: 0.9949\n",
      "Epoch 140/180\n",
      "99/99 [==============================] - 0s 5ms/step - loss: 0.2826 - wine_quality_loss: 0.2649 - wine_type_loss: 0.0178 - wine_quality_root_mean_squared_error: 0.5146 - wine_type_accuracy: 0.9968 - val_loss: 0.3346 - val_wine_quality_loss: 0.3071 - val_wine_type_loss: 0.0274 - val_wine_quality_root_mean_squared_error: 0.5542 - val_wine_type_accuracy: 0.9949\n",
      "Epoch 141/180\n",
      "99/99 [==============================] - 0s 5ms/step - loss: 0.2814 - wine_quality_loss: 0.2638 - wine_type_loss: 0.0176 - wine_quality_root_mean_squared_error: 0.5136 - wine_type_accuracy: 0.9968 - val_loss: 0.3369 - val_wine_quality_loss: 0.3094 - val_wine_type_loss: 0.0275 - val_wine_quality_root_mean_squared_error: 0.5563 - val_wine_type_accuracy: 0.9949\n",
      "Epoch 142/180\n",
      "99/99 [==============================] - 0s 5ms/step - loss: 0.2817 - wine_quality_loss: 0.2640 - wine_type_loss: 0.0176 - wine_quality_root_mean_squared_error: 0.5139 - wine_type_accuracy: 0.9968 - val_loss: 0.3346 - val_wine_quality_loss: 0.3071 - val_wine_type_loss: 0.0274 - val_wine_quality_root_mean_squared_error: 0.5542 - val_wine_type_accuracy: 0.9949\n",
      "Epoch 143/180\n",
      "99/99 [==============================] - 0s 5ms/step - loss: 0.2814 - wine_quality_loss: 0.2639 - wine_type_loss: 0.0175 - wine_quality_root_mean_squared_error: 0.5137 - wine_type_accuracy: 0.9968 - val_loss: 0.3382 - val_wine_quality_loss: 0.3108 - val_wine_type_loss: 0.0274 - val_wine_quality_root_mean_squared_error: 0.5575 - val_wine_type_accuracy: 0.9949\n",
      "Epoch 144/180\n",
      "99/99 [==============================] - 0s 5ms/step - loss: 0.2797 - wine_quality_loss: 0.2622 - wine_type_loss: 0.0175 - wine_quality_root_mean_squared_error: 0.5121 - wine_type_accuracy: 0.9968 - val_loss: 0.3366 - val_wine_quality_loss: 0.3091 - val_wine_type_loss: 0.0274 - val_wine_quality_root_mean_squared_error: 0.5560 - val_wine_type_accuracy: 0.9949\n",
      "Epoch 145/180\n",
      "99/99 [==============================] - 0s 5ms/step - loss: 0.2797 - wine_quality_loss: 0.2623 - wine_type_loss: 0.0174 - wine_quality_root_mean_squared_error: 0.5122 - wine_type_accuracy: 0.9968 - val_loss: 0.3474 - val_wine_quality_loss: 0.3200 - val_wine_type_loss: 0.0274 - val_wine_quality_root_mean_squared_error: 0.5657 - val_wine_type_accuracy: 0.9949\n",
      "Epoch 146/180\n",
      "99/99 [==============================] - 0s 5ms/step - loss: 0.2796 - wine_quality_loss: 0.2622 - wine_type_loss: 0.0174 - wine_quality_root_mean_squared_error: 0.5121 - wine_type_accuracy: 0.9968 - val_loss: 0.3375 - val_wine_quality_loss: 0.3102 - val_wine_type_loss: 0.0274 - val_wine_quality_root_mean_squared_error: 0.5569 - val_wine_type_accuracy: 0.9949\n",
      "Epoch 147/180\n",
      "99/99 [==============================] - 0s 5ms/step - loss: 0.2788 - wine_quality_loss: 0.2614 - wine_type_loss: 0.0174 - wine_quality_root_mean_squared_error: 0.5113 - wine_type_accuracy: 0.9968 - val_loss: 0.3379 - val_wine_quality_loss: 0.3105 - val_wine_type_loss: 0.0274 - val_wine_quality_root_mean_squared_error: 0.5572 - val_wine_type_accuracy: 0.9949\n",
      "Epoch 148/180\n",
      "99/99 [==============================] - 0s 5ms/step - loss: 0.2787 - wine_quality_loss: 0.2614 - wine_type_loss: 0.0173 - wine_quality_root_mean_squared_error: 0.5113 - wine_type_accuracy: 0.9968 - val_loss: 0.3432 - val_wine_quality_loss: 0.3158 - val_wine_type_loss: 0.0274 - val_wine_quality_root_mean_squared_error: 0.5620 - val_wine_type_accuracy: 0.9949\n",
      "Epoch 149/180\n",
      "99/99 [==============================] - 0s 5ms/step - loss: 0.2791 - wine_quality_loss: 0.2618 - wine_type_loss: 0.0173 - wine_quality_root_mean_squared_error: 0.5117 - wine_type_accuracy: 0.9968 - val_loss: 0.3496 - val_wine_quality_loss: 0.3222 - val_wine_type_loss: 0.0274 - val_wine_quality_root_mean_squared_error: 0.5676 - val_wine_type_accuracy: 0.9949\n",
      "Epoch 150/180\n",
      "99/99 [==============================] - 0s 5ms/step - loss: 0.2779 - wine_quality_loss: 0.2608 - wine_type_loss: 0.0171 - wine_quality_root_mean_squared_error: 0.5107 - wine_type_accuracy: 0.9968 - val_loss: 0.3364 - val_wine_quality_loss: 0.3091 - val_wine_type_loss: 0.0273 - val_wine_quality_root_mean_squared_error: 0.5560 - val_wine_type_accuracy: 0.9949\n",
      "Epoch 151/180\n",
      "99/99 [==============================] - 0s 5ms/step - loss: 0.2761 - wine_quality_loss: 0.2590 - wine_type_loss: 0.0172 - wine_quality_root_mean_squared_error: 0.5089 - wine_type_accuracy: 0.9968 - val_loss: 0.3408 - val_wine_quality_loss: 0.3136 - val_wine_type_loss: 0.0272 - val_wine_quality_root_mean_squared_error: 0.5600 - val_wine_type_accuracy: 0.9949\n",
      "Epoch 152/180\n",
      "99/99 [==============================] - 0s 4ms/step - loss: 0.2770 - wine_quality_loss: 0.2600 - wine_type_loss: 0.0170 - wine_quality_root_mean_squared_error: 0.5099 - wine_type_accuracy: 0.9968 - val_loss: 0.3395 - val_wine_quality_loss: 0.3121 - val_wine_type_loss: 0.0273 - val_wine_quality_root_mean_squared_error: 0.5587 - val_wine_type_accuracy: 0.9949\n",
      "Epoch 153/180\n",
      "99/99 [==============================] - 0s 5ms/step - loss: 0.2773 - wine_quality_loss: 0.2603 - wine_type_loss: 0.0170 - wine_quality_root_mean_squared_error: 0.5102 - wine_type_accuracy: 0.9968 - val_loss: 0.3482 - val_wine_quality_loss: 0.3208 - val_wine_type_loss: 0.0273 - val_wine_quality_root_mean_squared_error: 0.5664 - val_wine_type_accuracy: 0.9949\n",
      "Epoch 154/180\n",
      "99/99 [==============================] - 0s 5ms/step - loss: 0.2772 - wine_quality_loss: 0.2603 - wine_type_loss: 0.0169 - wine_quality_root_mean_squared_error: 0.5101 - wine_type_accuracy: 0.9968 - val_loss: 0.3336 - val_wine_quality_loss: 0.3063 - val_wine_type_loss: 0.0273 - val_wine_quality_root_mean_squared_error: 0.5535 - val_wine_type_accuracy: 0.9949\n"
     ]
    },
    {
     "name": "stdout",
     "output_type": "stream",
     "text": [
      "Epoch 155/180\n",
      "99/99 [==============================] - 0s 5ms/step - loss: 0.2762 - wine_quality_loss: 0.2593 - wine_type_loss: 0.0169 - wine_quality_root_mean_squared_error: 0.5092 - wine_type_accuracy: 0.9968 - val_loss: 0.3363 - val_wine_quality_loss: 0.3091 - val_wine_type_loss: 0.0272 - val_wine_quality_root_mean_squared_error: 0.5560 - val_wine_type_accuracy: 0.9949\n",
      "Epoch 156/180\n",
      "99/99 [==============================] - 0s 5ms/step - loss: 0.2758 - wine_quality_loss: 0.2590 - wine_type_loss: 0.0168 - wine_quality_root_mean_squared_error: 0.5090 - wine_type_accuracy: 0.9971 - val_loss: 0.3379 - val_wine_quality_loss: 0.3106 - val_wine_type_loss: 0.0273 - val_wine_quality_root_mean_squared_error: 0.5573 - val_wine_type_accuracy: 0.9949\n",
      "Epoch 157/180\n",
      "99/99 [==============================] - 0s 5ms/step - loss: 0.2745 - wine_quality_loss: 0.2578 - wine_type_loss: 0.0167 - wine_quality_root_mean_squared_error: 0.5077 - wine_type_accuracy: 0.9971 - val_loss: 0.3394 - val_wine_quality_loss: 0.3122 - val_wine_type_loss: 0.0272 - val_wine_quality_root_mean_squared_error: 0.5587 - val_wine_type_accuracy: 0.9949\n",
      "Epoch 158/180\n",
      "99/99 [==============================] - 0s 5ms/step - loss: 0.2746 - wine_quality_loss: 0.2579 - wine_type_loss: 0.0167 - wine_quality_root_mean_squared_error: 0.5079 - wine_type_accuracy: 0.9968 - val_loss: 0.3358 - val_wine_quality_loss: 0.3086 - val_wine_type_loss: 0.0272 - val_wine_quality_root_mean_squared_error: 0.5555 - val_wine_type_accuracy: 0.9949\n",
      "Epoch 159/180\n",
      "99/99 [==============================] - 0s 5ms/step - loss: 0.2749 - wine_quality_loss: 0.2583 - wine_type_loss: 0.0166 - wine_quality_root_mean_squared_error: 0.5083 - wine_type_accuracy: 0.9968 - val_loss: 0.3354 - val_wine_quality_loss: 0.3081 - val_wine_type_loss: 0.0273 - val_wine_quality_root_mean_squared_error: 0.5551 - val_wine_type_accuracy: 0.9949\n",
      "Epoch 160/180\n",
      "99/99 [==============================] - 0s 5ms/step - loss: 0.2738 - wine_quality_loss: 0.2573 - wine_type_loss: 0.0165 - wine_quality_root_mean_squared_error: 0.5072 - wine_type_accuracy: 0.9971 - val_loss: 0.3361 - val_wine_quality_loss: 0.3090 - val_wine_type_loss: 0.0271 - val_wine_quality_root_mean_squared_error: 0.5558 - val_wine_type_accuracy: 0.9949\n",
      "Epoch 161/180\n",
      "99/99 [==============================] - 0s 5ms/step - loss: 0.2749 - wine_quality_loss: 0.2584 - wine_type_loss: 0.0165 - wine_quality_root_mean_squared_error: 0.5084 - wine_type_accuracy: 0.9971 - val_loss: 0.3372 - val_wine_quality_loss: 0.3100 - val_wine_type_loss: 0.0272 - val_wine_quality_root_mean_squared_error: 0.5568 - val_wine_type_accuracy: 0.9949\n",
      "Epoch 162/180\n",
      "99/99 [==============================] - 0s 5ms/step - loss: 0.2740 - wine_quality_loss: 0.2576 - wine_type_loss: 0.0165 - wine_quality_root_mean_squared_error: 0.5075 - wine_type_accuracy: 0.9968 - val_loss: 0.3415 - val_wine_quality_loss: 0.3143 - val_wine_type_loss: 0.0272 - val_wine_quality_root_mean_squared_error: 0.5607 - val_wine_type_accuracy: 0.9949\n",
      "Epoch 163/180\n",
      "99/99 [==============================] - 0s 5ms/step - loss: 0.2737 - wine_quality_loss: 0.2574 - wine_type_loss: 0.0164 - wine_quality_root_mean_squared_error: 0.5073 - wine_type_accuracy: 0.9971 - val_loss: 0.3412 - val_wine_quality_loss: 0.3141 - val_wine_type_loss: 0.0271 - val_wine_quality_root_mean_squared_error: 0.5604 - val_wine_type_accuracy: 0.9949\n",
      "Epoch 164/180\n",
      "99/99 [==============================] - 0s 5ms/step - loss: 0.2728 - wine_quality_loss: 0.2565 - wine_type_loss: 0.0163 - wine_quality_root_mean_squared_error: 0.5065 - wine_type_accuracy: 0.9971 - val_loss: 0.3364 - val_wine_quality_loss: 0.3093 - val_wine_type_loss: 0.0272 - val_wine_quality_root_mean_squared_error: 0.5561 - val_wine_type_accuracy: 0.9949\n",
      "Epoch 165/180\n",
      "99/99 [==============================] - 0s 5ms/step - loss: 0.2712 - wine_quality_loss: 0.2550 - wine_type_loss: 0.0162 - wine_quality_root_mean_squared_error: 0.5050 - wine_type_accuracy: 0.9968 - val_loss: 0.3496 - val_wine_quality_loss: 0.3225 - val_wine_type_loss: 0.0271 - val_wine_quality_root_mean_squared_error: 0.5679 - val_wine_type_accuracy: 0.9949\n",
      "Epoch 166/180\n",
      "99/99 [==============================] - 0s 5ms/step - loss: 0.2723 - wine_quality_loss: 0.2560 - wine_type_loss: 0.0163 - wine_quality_root_mean_squared_error: 0.5060 - wine_type_accuracy: 0.9971 - val_loss: 0.3497 - val_wine_quality_loss: 0.3226 - val_wine_type_loss: 0.0271 - val_wine_quality_root_mean_squared_error: 0.5680 - val_wine_type_accuracy: 0.9949\n",
      "Epoch 167/180\n",
      "99/99 [==============================] - 0s 5ms/step - loss: 0.2714 - wine_quality_loss: 0.2553 - wine_type_loss: 0.0162 - wine_quality_root_mean_squared_error: 0.5053 - wine_type_accuracy: 0.9971 - val_loss: 0.3482 - val_wine_quality_loss: 0.3212 - val_wine_type_loss: 0.0270 - val_wine_quality_root_mean_squared_error: 0.5667 - val_wine_type_accuracy: 0.9949\n",
      "Epoch 168/180\n",
      "99/99 [==============================] - 0s 5ms/step - loss: 0.2711 - wine_quality_loss: 0.2550 - wine_type_loss: 0.0161 - wine_quality_root_mean_squared_error: 0.5050 - wine_type_accuracy: 0.9971 - val_loss: 0.3461 - val_wine_quality_loss: 0.3190 - val_wine_type_loss: 0.0271 - val_wine_quality_root_mean_squared_error: 0.5648 - val_wine_type_accuracy: 0.9949\n",
      "Epoch 169/180\n",
      "99/99 [==============================] - 0s 5ms/step - loss: 0.2712 - wine_quality_loss: 0.2551 - wine_type_loss: 0.0160 - wine_quality_root_mean_squared_error: 0.5051 - wine_type_accuracy: 0.9971 - val_loss: 0.3371 - val_wine_quality_loss: 0.3100 - val_wine_type_loss: 0.0271 - val_wine_quality_root_mean_squared_error: 0.5568 - val_wine_type_accuracy: 0.9949\n",
      "Epoch 170/180\n",
      "99/99 [==============================] - 0s 5ms/step - loss: 0.2706 - wine_quality_loss: 0.2546 - wine_type_loss: 0.0160 - wine_quality_root_mean_squared_error: 0.5045 - wine_type_accuracy: 0.9971 - val_loss: 0.3371 - val_wine_quality_loss: 0.3101 - val_wine_type_loss: 0.0271 - val_wine_quality_root_mean_squared_error: 0.5568 - val_wine_type_accuracy: 0.9949\n",
      "Epoch 171/180\n",
      "99/99 [==============================] - 0s 5ms/step - loss: 0.2714 - wine_quality_loss: 0.2555 - wine_type_loss: 0.0159 - wine_quality_root_mean_squared_error: 0.5054 - wine_type_accuracy: 0.9971 - val_loss: 0.3408 - val_wine_quality_loss: 0.3138 - val_wine_type_loss: 0.0270 - val_wine_quality_root_mean_squared_error: 0.5601 - val_wine_type_accuracy: 0.9949\n",
      "Epoch 172/180\n",
      "99/99 [==============================] - 0s 5ms/step - loss: 0.2704 - wine_quality_loss: 0.2546 - wine_type_loss: 0.0158 - wine_quality_root_mean_squared_error: 0.5045 - wine_type_accuracy: 0.9971 - val_loss: 0.3398 - val_wine_quality_loss: 0.3127 - val_wine_type_loss: 0.0271 - val_wine_quality_root_mean_squared_error: 0.5592 - val_wine_type_accuracy: 0.9949\n",
      "Epoch 173/180\n",
      "99/99 [==============================] - 0s 5ms/step - loss: 0.2695 - wine_quality_loss: 0.2536 - wine_type_loss: 0.0159 - wine_quality_root_mean_squared_error: 0.5036 - wine_type_accuracy: 0.9971 - val_loss: 0.3473 - val_wine_quality_loss: 0.3202 - val_wine_type_loss: 0.0271 - val_wine_quality_root_mean_squared_error: 0.5659 - val_wine_type_accuracy: 0.9949\n",
      "Epoch 174/180\n",
      "99/99 [==============================] - 0s 5ms/step - loss: 0.2707 - wine_quality_loss: 0.2549 - wine_type_loss: 0.0158 - wine_quality_root_mean_squared_error: 0.5049 - wine_type_accuracy: 0.9971 - val_loss: 0.3401 - val_wine_quality_loss: 0.3130 - val_wine_type_loss: 0.0271 - val_wine_quality_root_mean_squared_error: 0.5595 - val_wine_type_accuracy: 0.9949\n",
      "Epoch 175/180\n",
      "99/99 [==============================] - 0s 5ms/step - loss: 0.2699 - wine_quality_loss: 0.2542 - wine_type_loss: 0.0157 - wine_quality_root_mean_squared_error: 0.5042 - wine_type_accuracy: 0.9971 - val_loss: 0.3364 - val_wine_quality_loss: 0.3094 - val_wine_type_loss: 0.0270 - val_wine_quality_root_mean_squared_error: 0.5562 - val_wine_type_accuracy: 0.9949\n",
      "Epoch 176/180\n",
      "99/99 [==============================] - 0s 5ms/step - loss: 0.2687 - wine_quality_loss: 0.2530 - wine_type_loss: 0.0157 - wine_quality_root_mean_squared_error: 0.5030 - wine_type_accuracy: 0.9971 - val_loss: 0.3394 - val_wine_quality_loss: 0.3124 - val_wine_type_loss: 0.0270 - val_wine_quality_root_mean_squared_error: 0.5589 - val_wine_type_accuracy: 0.9949\n"
     ]
    },
    {
     "name": "stdout",
     "output_type": "stream",
     "text": [
      "Epoch 177/180\n",
      "99/99 [==============================] - 0s 5ms/step - loss: 0.2688 - wine_quality_loss: 0.2531 - wine_type_loss: 0.0156 - wine_quality_root_mean_squared_error: 0.5031 - wine_type_accuracy: 0.9971 - val_loss: 0.3392 - val_wine_quality_loss: 0.3122 - val_wine_type_loss: 0.0270 - val_wine_quality_root_mean_squared_error: 0.5587 - val_wine_type_accuracy: 0.9937\n",
      "Epoch 178/180\n",
      "99/99 [==============================] - 0s 5ms/step - loss: 0.2682 - wine_quality_loss: 0.2527 - wine_type_loss: 0.0156 - wine_quality_root_mean_squared_error: 0.5026 - wine_type_accuracy: 0.9971 - val_loss: 0.3505 - val_wine_quality_loss: 0.3235 - val_wine_type_loss: 0.0270 - val_wine_quality_root_mean_squared_error: 0.5687 - val_wine_type_accuracy: 0.9937\n",
      "Epoch 179/180\n",
      "99/99 [==============================] - 0s 5ms/step - loss: 0.2682 - wine_quality_loss: 0.2527 - wine_type_loss: 0.0155 - wine_quality_root_mean_squared_error: 0.5027 - wine_type_accuracy: 0.9971 - val_loss: 0.3407 - val_wine_quality_loss: 0.3137 - val_wine_type_loss: 0.0269 - val_wine_quality_root_mean_squared_error: 0.5601 - val_wine_type_accuracy: 0.9937\n",
      "Epoch 180/180\n",
      "99/99 [==============================] - 0s 5ms/step - loss: 0.2684 - wine_quality_loss: 0.2529 - wine_type_loss: 0.0155 - wine_quality_root_mean_squared_error: 0.5029 - wine_type_accuracy: 0.9971 - val_loss: 0.3373 - val_wine_quality_loss: 0.3104 - val_wine_type_loss: 0.0270 - val_wine_quality_root_mean_squared_error: 0.5571 - val_wine_type_accuracy: 0.9949\n"
     ]
    }
   ],
   "source": [
    "## Please uncomment all lines in this cell and replace those marked with `# YOUR CODE HERE`.\n",
    "## You can select all lines in this code cell with Ctrl+A (Windows/Linux) or Cmd+A (Mac), then press Ctrl+/ (Windows/Linux) or Cmd+/ (Mac) to uncomment.\n",
    "\n",
    "\n",
    "\n",
    "history = model.fit(norm_train_X, train_Y,\n",
    "                    epochs = 180, validation_data=(norm_val_X, val_Y))"
   ]
  },
  {
   "cell_type": "code",
   "execution_count": 42,
   "metadata": {
    "ExecuteTime": {
     "end_time": "2021-07-01T03:37:31.378386Z",
     "start_time": "2021-07-01T03:37:31.329348Z"
    },
    "deletable": false,
    "editable": false,
    "nbgrader": {
     "cell_type": "code",
     "checksum": "fadad8896eda9c8c2115970724b15508",
     "grade": true,
     "grade_id": "cell-eb4d5b41bef8f0ab",
     "locked": true,
     "points": 1,
     "schema_version": 3,
     "solution": false,
     "task": false
    }
   },
   "outputs": [
    {
     "ename": "KeyError",
     "evalue": "'samples'",
     "output_type": "error",
     "traceback": [
      "\u001b[0;31m\u001b[0m",
      "\u001b[0;31mKeyError\u001b[0mTraceback (most recent call last)",
      "\u001b[0;32m<ipython-input-42-bb2fa200c0ad>\u001b[0m in \u001b[0;36m<module>\u001b[0;34m\u001b[0m\n\u001b[0;32m----> 1\u001b[0;31m \u001b[0mutils\u001b[0m\u001b[0;34m.\u001b[0m\u001b[0mtest_history\u001b[0m\u001b[0;34m(\u001b[0m\u001b[0mhistory\u001b[0m\u001b[0;34m)\u001b[0m\u001b[0;34m\u001b[0m\u001b[0;34m\u001b[0m\u001b[0m\n\u001b[0m",
      "\u001b[0;32m/tf/eipi10/xuxiangwen.github.io/_notes/05-ai/54-tensorflow/custom-models-layers-loss-functions/Week_1/utils.py\u001b[0m in \u001b[0;36mtest_history\u001b[0;34m(history)\u001b[0m\n\u001b[1;32m    334\u001b[0m         {\n\u001b[1;32m    335\u001b[0m             \u001b[0;34m\"name\"\u001b[0m\u001b[0;34m:\u001b[0m \u001b[0;34m\"params_samples_check\"\u001b[0m\u001b[0;34m,\u001b[0m\u001b[0;34m\u001b[0m\u001b[0;34m\u001b[0m\u001b[0m\n\u001b[0;32m--> 336\u001b[0;31m             \u001b[0;34m\"result\"\u001b[0m\u001b[0;34m:\u001b[0m \u001b[0mvars_history\u001b[0m\u001b[0;34m[\u001b[0m\u001b[0;34m'params'\u001b[0m\u001b[0;34m]\u001b[0m\u001b[0;34m[\u001b[0m\u001b[0;34m'samples'\u001b[0m\u001b[0;34m]\u001b[0m\u001b[0;34m,\u001b[0m\u001b[0;34m\u001b[0m\u001b[0;34m\u001b[0m\u001b[0m\n\u001b[0m\u001b[1;32m    337\u001b[0m             \u001b[0;34m\"expected\"\u001b[0m\u001b[0;34m:\u001b[0m \u001b[0;36m3155\u001b[0m\u001b[0;34m,\u001b[0m\u001b[0;34m\u001b[0m\u001b[0;34m\u001b[0m\u001b[0m\n\u001b[1;32m    338\u001b[0m             \u001b[0;34m\"error_message\"\u001b[0m\u001b[0;34m:\u001b[0m \u001b[0;34m'Training samples is incorrect. Please check arguments to model.fit().'\u001b[0m\u001b[0;34m\u001b[0m\u001b[0;34m\u001b[0m\u001b[0m\n",
      "\u001b[0;31mKeyError\u001b[0m: 'samples'"
     ]
    }
   ],
   "source": [
    "utils.test_history(history)"
   ]
  },
  {
   "cell_type": "code",
   "execution_count": 43,
   "metadata": {
    "ExecuteTime": {
     "end_time": "2021-07-01T03:48:19.129750Z",
     "start_time": "2021-07-01T03:48:18.915639Z"
    },
    "colab": {},
    "colab_type": "code",
    "id": "CubF2J2gSf6q"
   },
   "outputs": [
    {
     "name": "stdout",
     "output_type": "stream",
     "text": [
      "25/25 [==============================] - 0s 3ms/step - loss: 0.3373 - wine_quality_loss: 0.3104 - wine_type_loss: 0.0270 - wine_quality_root_mean_squared_error: 0.5571 - wine_type_accuracy: 0.9949\n",
      "\n",
      "loss: 0.33731135725975037\n",
      "wine_quality_loss: 0.31035879254341125\n",
      "wine_type_loss: 0.026952583342790604\n",
      "wine_quality_rmse: 0.5570985674858093\n",
      "wine_type_accuracy: 0.9949302673339844\n"
     ]
    }
   ],
   "source": [
    "# Gather the training metrics\n",
    "loss, wine_quality_loss, wine_type_loss, wine_quality_rmse, wine_type_accuracy = model.evaluate(x=norm_val_X, y=val_Y)\n",
    "\n",
    "print()\n",
    "print(f'loss: {loss}')\n",
    "print(f'wine_quality_loss: {wine_quality_loss}')\n",
    "print(f'wine_type_loss: {wine_type_loss}')\n",
    "print(f'wine_quality_rmse: {wine_quality_rmse}')\n",
    "print(f'wine_type_accuracy: {wine_type_accuracy}')\n",
    "\n",
    "# EXPECTED VALUES\n",
    "# ~ 0.30 - 0.38\n",
    "# ~ 0.30 - 0.38\n",
    "# ~ 0.018 - 0.030\n",
    "# ~ 0.50 - 0.62\n",
    "# ~ 0.97 - 1.0\n",
    "\n",
    "# Example:\n",
    "#0.3657050132751465\n",
    "#0.3463745415210724\n",
    "#0.019330406561493874\n",
    "#0.5885359048843384\n",
    "#0.9974651336669922"
   ]
  },
  {
   "cell_type": "markdown",
   "metadata": {
    "colab_type": "text",
    "id": "gPtTGAP4usnm"
   },
   "source": [
    "## Analyze the Model Performance\n",
    "\n",
    "Note that the model has two outputs. The output at index 0 is quality and index 1 is wine type\n",
    "\n",
    "So, round the quality predictions to the nearest integer."
   ]
  },
  {
   "cell_type": "code",
   "execution_count": 44,
   "metadata": {
    "ExecuteTime": {
     "end_time": "2021-07-01T03:48:36.774583Z",
     "start_time": "2021-07-01T03:48:36.546239Z"
    },
    "colab": {},
    "colab_type": "code",
    "id": "tBq9PEeAaW-Y"
   },
   "outputs": [],
   "source": [
    "predictions = model.predict(norm_test_X)\n",
    "quality_pred = predictions[0]\n",
    "type_pred = predictions[1]"
   ]
  },
  {
   "cell_type": "code",
   "execution_count": 45,
   "metadata": {
    "ExecuteTime": {
     "end_time": "2021-07-01T03:48:37.242220Z",
     "start_time": "2021-07-01T03:48:37.185718Z"
    },
    "colab": {},
    "colab_type": "code",
    "id": "YLhgTR4xTIxj"
   },
   "outputs": [
    {
     "name": "stdout",
     "output_type": "stream",
     "text": [
      "[5.7168293]\n"
     ]
    }
   ],
   "source": [
    "print(quality_pred[0])\n",
    "\n",
    "# EXPECTED OUTPUT\n",
    "# 5.6 - 6.0"
   ]
  },
  {
   "cell_type": "code",
   "execution_count": 46,
   "metadata": {
    "ExecuteTime": {
     "end_time": "2021-07-01T03:48:44.523710Z",
     "start_time": "2021-07-01T03:48:44.467382Z"
    },
    "colab": {},
    "colab_type": "code",
    "id": "MPi-eYfGTUXi"
   },
   "outputs": [
    {
     "name": "stdout",
     "output_type": "stream",
     "text": [
      "[5.608085e-05]\n",
      "[0.9999988]\n"
     ]
    }
   ],
   "source": [
    "print(type_pred[0])\n",
    "print(type_pred[944])\n",
    "\n",
    "# EXPECTED OUTPUT\n",
    "# A number close to zero\n",
    "# A number close to or equal to 1"
   ]
  },
  {
   "cell_type": "markdown",
   "metadata": {
    "colab_type": "text",
    "id": "Kohk-9C6vt_s"
   },
   "source": [
    "### Plot Utilities\n",
    "\n",
    "We define a few utilities to visualize the model performance."
   ]
  },
  {
   "cell_type": "code",
   "execution_count": 47,
   "metadata": {
    "ExecuteTime": {
     "end_time": "2021-07-01T03:48:48.140564Z",
     "start_time": "2021-07-01T03:48:48.081590Z"
    },
    "colab": {},
    "colab_type": "code",
    "id": "62gEOFUhn6aQ"
   },
   "outputs": [],
   "source": [
    "def plot_metrics(metric_name, title, ylim=5):\n",
    "    plt.title(title)\n",
    "    plt.ylim(0,ylim)\n",
    "    plt.plot(history.history[metric_name],color='blue',label=metric_name)\n",
    "    plt.plot(history.history['val_' + metric_name],color='green',label='val_' + metric_name)\n"
   ]
  },
  {
   "cell_type": "code",
   "execution_count": 48,
   "metadata": {
    "ExecuteTime": {
     "end_time": "2021-07-01T03:48:48.859677Z",
     "start_time": "2021-07-01T03:48:48.801883Z"
    },
    "colab": {},
    "colab_type": "code",
    "id": "6rfgSx7uz5dj"
   },
   "outputs": [],
   "source": [
    "def plot_confusion_matrix(y_true, y_pred, title='', labels=[0,1]):\n",
    "    cm = confusion_matrix(y_true, y_pred)\n",
    "    fig = plt.figure()\n",
    "    ax = fig.add_subplot(111)\n",
    "    cax = ax.matshow(cm)\n",
    "    plt.title('Confusion matrix of the classifier')\n",
    "    fig.colorbar(cax)\n",
    "    ax.set_xticklabels([''] + labels)\n",
    "    ax.set_yticklabels([''] + labels)\n",
    "    plt.xlabel('Predicted')\n",
    "    plt.ylabel('True')\n",
    "    fmt = 'd'\n",
    "    thresh = cm.max() / 2.\n",
    "    for i, j in itertools.product(range(cm.shape[0]), range(cm.shape[1])):\n",
    "          plt.text(j, i, format(cm[i, j], fmt),\n",
    "                  horizontalalignment=\"center\",\n",
    "                  color=\"black\" if cm[i, j] > thresh else \"white\")\n",
    "    plt.show()"
   ]
  },
  {
   "cell_type": "code",
   "execution_count": 49,
   "metadata": {
    "ExecuteTime": {
     "end_time": "2021-07-01T03:48:49.735366Z",
     "start_time": "2021-07-01T03:48:49.677992Z"
    },
    "colab": {},
    "colab_type": "code",
    "id": "dfVLIqi017Vf"
   },
   "outputs": [],
   "source": [
    "def plot_diff(y_true, y_pred, title = '' ):\n",
    "    plt.scatter(y_true, y_pred)\n",
    "    plt.title(title)\n",
    "    plt.xlabel('True Values')\n",
    "    plt.ylabel('Predictions')\n",
    "    plt.axis('equal')\n",
    "    plt.axis('square')\n",
    "    plt.plot([-100, 100], [-100, 100])\n",
    "    return plt"
   ]
  },
  {
   "cell_type": "markdown",
   "metadata": {
    "colab_type": "text",
    "id": "8sd1jdFbwE0I"
   },
   "source": [
    "### Plots for Metrics"
   ]
  },
  {
   "cell_type": "code",
   "execution_count": 50,
   "metadata": {
    "ExecuteTime": {
     "end_time": "2021-07-01T03:48:52.288582Z",
     "start_time": "2021-07-01T03:48:52.022681Z"
    },
    "colab": {},
    "colab_type": "code",
    "id": "f3MwZ5J1pOfj"
   },
   "outputs": [
    {
     "data": {
      "image/png": "[encoded data removed]",
      "text/plain": [
       "<Figure size 432x288 with 1 Axes>"
      ]
     },
     "metadata": {
      "needs_background": "light"
     },
     "output_type": "display_data"
    }
   ],
   "source": [
    "plot_metrics('wine_quality_root_mean_squared_error', 'RMSE', ylim=2)"
   ]
  },
  {
   "cell_type": "code",
   "execution_count": 51,
   "metadata": {
    "ExecuteTime": {
     "end_time": "2021-07-01T03:48:53.413289Z",
     "start_time": "2021-07-01T03:48:53.146692Z"
    },
    "colab": {},
    "colab_type": "code",
    "id": "QIAxEezCppnd"
   },
   "outputs": [
    {
     "data": {
      "image/png": "[encoded data removed]",
      "text/plain": [
       "<Figure size 432x288 with 1 Axes>"
      ]
     },
     "metadata": {
      "needs_background": "light"
     },
     "output_type": "display_data"
    }
   ],
   "source": [
    "plot_metrics('wine_type_loss', 'Wine Type Loss', ylim=0.2)"
   ]
  },
  {
   "cell_type": "markdown",
   "metadata": {
    "colab_type": "text",
    "id": "uYV9AOAMwI9p"
   },
   "source": [
    "### Plots for Confusion Matrix\n",
    "\n",
    "Plot the confusion matrices for wine type. You can see that the model performs well for prediction of wine type from the confusion matrix and the loss metrics."
   ]
  },
  {
   "cell_type": "code",
   "execution_count": 52,
   "metadata": {
    "ExecuteTime": {
     "end_time": "2021-07-01T03:48:56.714085Z",
     "start_time": "2021-07-01T03:48:56.228567Z"
    },
    "colab": {},
    "colab_type": "code",
    "id": "C3hvTYxIaf3n"
   },
   "outputs": [
    {
     "name": "stderr",
     "output_type": "stream",
     "text": [
      "/usr/local/lib/python3.6/dist-packages/ipykernel_launcher.py:8: UserWarning: FixedFormatter should only be used together with FixedLocator\n",
      "  \n",
      "/usr/local/lib/python3.6/dist-packages/ipykernel_launcher.py:9: UserWarning: FixedFormatter should only be used together with FixedLocator\n",
      "  if __name__ == '__main__':\n"
     ]
    },
    {
     "data": {
      "image/png": "[encoded data removed]",
      "text/plain": [
       "<Figure size 432x288 with 2 Axes>"
      ]
     },
     "metadata": {
      "needs_background": "light"
     },
     "output_type": "display_data"
    }
   ],
   "source": [
    "plot_confusion_matrix(test_Y[1], np.round(type_pred), title='Wine Type', labels = [0, 1])"
   ]
  },
  {
   "cell_type": "code",
   "execution_count": 53,
   "metadata": {
    "ExecuteTime": {
     "end_time": "2021-07-01T03:48:58.255914Z",
     "start_time": "2021-07-01T03:48:57.991224Z"
    },
    "colab": {},
    "colab_type": "code",
    "id": "GW91ym8P2I5y"
   },
   "outputs": [
    {
     "data": {
      "image/png": "[encoded data removed]",
      "text/plain": [
       "<Figure size 432x288 with 1 Axes>"
      ]
     },
     "metadata": {
      "needs_background": "light"
     },
     "output_type": "display_data"
    }
   ],
   "source": [
    "scatter_plot = plot_diff(test_Y[0], quality_pred, title='Type')"
   ]
  },
  {
   "cell_type": "code",
   "execution_count": null,
   "metadata": {},
   "outputs": [],
   "source": []
  },
  {
   "cell_type": "code",
   "execution_count": null,
   "metadata": {},
   "outputs": [],
   "source": []
  }
 ],
 "metadata": {
  "colab": {
   "include_colab_link": true,
   "name": "exercise-answer.ipynb",
   "provenance": []
  },
  "kernelspec": {
   "display_name": "Python 3",
   "language": "python",
   "name": "python3"
  },
  "language_info": {
   "codemirror_mode": {
    "name": "ipython",
    "version": 3
   },
   "file_extension": ".py",
   "mimetype": "text/x-python",
   "name": "python",
   "nbconvert_exporter": "python",
   "pygments_lexer": "ipython3",
   "version": "3.6.9"
  },
  "toc": {
   "base_numbering": 1,
   "nav_menu": {},
   "number_sections": true,
   "sideBar": true,
   "skip_h1_title": false,
   "title_cell": "Table of Contents",
   "title_sidebar": "Contents",
   "toc_cell": false,
   "toc_position": {},
   "toc_section_display": true,
   "toc_window_display": true
  }
 },
 "nbformat": 4,
 "nbformat_minor": 4
}
