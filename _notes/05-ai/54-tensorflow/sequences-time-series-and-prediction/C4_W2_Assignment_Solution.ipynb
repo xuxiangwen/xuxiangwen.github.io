{
 "cells": [
  {
   "cell_type": "code",
   "execution_count": 1,
   "metadata": {
    "ExecuteTime": {
     "end_time": "2021-12-30T11:04:09.085827Z",
     "start_time": "2021-12-30T11:04:09.083175Z"
    },
    "id": "zX4Kg8DUTKWO"
   },
   "outputs": [],
   "source": [
    "#@title Licensed under the Apache License, Version 2.0 (the \"License\");\n",
    "# you may not use this file except in compliance with the License.\n",
    "# You may obtain a copy of the License at\n",
    "#\n",
    "# https://www.apache.org/licenses/LICENSE-2.0\n",
    "#\n",
    "# Unless required by applicable law or agreed to in writing, software\n",
    "# distributed under the License is distributed on an \"AS IS\" BASIS,\n",
    "# WITHOUT WARRANTIES OR CONDITIONS OF ANY KIND, either express or implied.\n",
    "# See the License for the specific language governing permissions and\n",
    "# limitations under the License."
   ]
  },
  {
   "cell_type": "markdown",
   "metadata": {
    "id": "0FUk0HdMcU6a"
   },
   "source": [
    "**Note:** This notebook can run using TensorFlow 2.5.0"
   ]
  },
  {
   "cell_type": "code",
   "execution_count": 2,
   "metadata": {
    "ExecuteTime": {
     "end_time": "2021-12-30T11:04:09.854714Z",
     "start_time": "2021-12-30T11:04:09.852140Z"
    },
    "cellView": "both",
    "id": "D1J15Vh_1Jih"
   },
   "outputs": [],
   "source": [
    "#!pip install tensorflow==2.5.0"
   ]
  },
  {
   "cell_type": "code",
   "execution_count": 3,
   "metadata": {
    "ExecuteTime": {
     "end_time": "2021-12-30T11:04:13.225343Z",
     "start_time": "2021-12-30T11:04:10.177635Z"
    },
    "id": "BOjujz601HcS"
   },
   "outputs": [
    {
     "name": "stdout",
     "output_type": "stream",
     "text": [
      "2.7.0\n"
     ]
    }
   ],
   "source": [
    "import tensorflow as tf\n",
    "import numpy as np\n",
    "import matplotlib.pyplot as plt\n",
    "print(tf.__version__)"
   ]
  },
  {
   "cell_type": "code",
   "execution_count": 4,
   "metadata": {
    "ExecuteTime": {
     "end_time": "2021-12-30T11:04:18.031830Z",
     "start_time": "2021-12-30T11:04:13.227697Z"
    },
    "id": "Zswl7jRtGzkk"
   },
   "outputs": [
    {
     "name": "stdout",
     "output_type": "stream",
     "text": [
      "Downloading...\n",
      "From: https://drive.google.com/uc?id=1sDzcLKVZBQWeEYT101bEWCltlaFPjiIN\n",
      "To: /tf/eipi10/xuxiangwen.github.io/_notes/05-ai/54-tensorflow/sequences-time-series-and-prediction/C4_W2_Assignment_Image.png\n",
      "100%|███████████████████████████████████████| 18.5k/18.5k [00:00<00:00, 276kB/s]\n",
      "Expected:\n"
     ]
    },
    {
     "data": {
      "image/png": "[encoded data removed]",
      "text/plain": [
       "<PIL.PngImagePlugin.PngImageFile image mode=RGBA size=391x262 at 0x7F20385F2B80>"
      ]
     },
     "metadata": {},
     "output_type": "display_data"
    },
    {
     "name": "stdout",
     "output_type": "stream",
     "text": [
      "Your output:\n"
     ]
    }
   ],
   "source": [
    "def plot_series(time, series, format=\"-\", start=0, end=None):\n",
    "    plt.plot(time[start:end], series[start:end], format)\n",
    "    plt.xlabel(\"Time\")\n",
    "    plt.ylabel(\"Value\")\n",
    "    plt.grid(False)\n",
    "\n",
    "def trend(time, slope=0):\n",
    "    return slope * time\n",
    "\n",
    "def seasonal_pattern(season_time):\n",
    "    \"\"\"Just an arbitrary pattern, you can change it if you wish\"\"\"\n",
    "    return np.where(season_time < 0.1,\n",
    "                    np.cos(season_time * 6 * np.pi), # YOUR CODE HERE # * np.pi),\n",
    "                    2 / np.exp(9 * season_time)) #YOUR CODE HERE# / np.exp(#YOUR CODE HERE# * season_time))\n",
    "\n",
    "def seasonality(time, period, amplitude=1, phase=0):\n",
    "    \"\"\"Repeats the same pattern at each period\"\"\"\n",
    "    season_time = ((time + phase) % period) / period\n",
    "    return amplitude * seasonal_pattern(season_time)\n",
    "\n",
    "def noise(time, noise_level=1, seed=None):\n",
    "    rnd = np.random.RandomState(seed)\n",
    "    return rnd.randn(len(time)) * noise_level\n",
    "\n",
    "time = np.arange(10 * 365 + 1, dtype=\"float32\")\n",
    "baseline = 10 # YOUR CODE HERE #\n",
    "series = trend(time, 0.1)# YOUR CODE HERE#)    \n",
    "baseline = 10\n",
    "amplitude = 40\n",
    "slope = 0.005 # YOUR CODE HERE#\n",
    "noise_level = 3 # YOUR CODE HERE#\n",
    "\n",
    "# Create the series\n",
    "series = baseline + trend(time, slope) + seasonality(time, period=365, amplitude=amplitude)\n",
    "# Update with noise\n",
    "series += noise(time, noise_level, seed=51)\n",
    "\n",
    "split_time = 3000\n",
    "time_train = time[:split_time]\n",
    "x_train = series[:split_time]\n",
    "time_valid = time[split_time:]\n",
    "x_valid = series[split_time:]\n",
    "\n",
    "window_size = 20\n",
    "batch_size = 32\n",
    "shuffle_buffer_size = 1000\n",
    "\n",
    "# # # # # expected output\n",
    "!gdown --id 1sDzcLKVZBQWeEYT101bEWCltlaFPjiIN\n",
    "print(\"Expected:\")\n",
    "from IPython.display import display\n",
    "from PIL import Image\n",
    "path='./C4_W2_Assignment_Image.png'\n",
    "display(Image.open(path))\n",
    "# # # # #\n",
    "\n",
    "### your output\n",
    "print(\"Your output:\")\n",
    "plot_series(time, series)"
   ]
  },
  {
   "cell_type": "code",
   "execution_count": 7,
   "metadata": {
    "ExecuteTime": {
     "end_time": "2021-12-30T11:04:40.204607Z",
     "start_time": "2021-12-30T11:04:40.199980Z"
    },
    "id": "4sTTIOCbyShY"
   },
   "outputs": [],
   "source": [
    "def windowed_dataset(series, window_size, batch_size, shuffle_buffer):\n",
    "  dataset = tf.data.Dataset.from_tensor_slices(series)\n",
    "  dataset = dataset.window(window_size + 1, shift=1, drop_remainder=True)\n",
    "  dataset = dataset.flat_map(lambda window: window.batch(window_size + 1))\n",
    "  dataset = dataset.shuffle(shuffle_buffer).map(lambda window: (window[:-1], window[-1]))\n",
    "  dataset = dataset.batch(batch_size).prefetch(1)\n",
    "  return dataset"
   ]
  },
  {
   "cell_type": "code",
   "execution_count": 8,
   "metadata": {
    "ExecuteTime": {
     "end_time": "2021-12-30T11:05:36.719395Z",
     "start_time": "2021-12-30T11:04:40.968363Z"
    },
    "id": "TW-vT7eLYAdb"
   },
   "outputs": [
    {
     "name": "stdout",
     "output_type": "stream",
     "text": [
      "Epoch 1/100\n",
      "94/94 [==============================] - 1s 6ms/step - loss: 152.2622 - val_loss: 40.1980\n",
      "Epoch 2/100\n",
      "94/94 [==============================] - 0s 4ms/step - loss: 55.3732 - val_loss: 34.9885\n",
      "Epoch 3/100\n",
      "94/94 [==============================] - 1s 4ms/step - loss: 47.0105 - val_loss: 30.9336\n",
      "Epoch 4/100\n",
      "94/94 [==============================] - 0s 4ms/step - loss: 41.3936 - val_loss: 28.4722\n",
      "Epoch 5/100\n",
      "94/94 [==============================] - ETA: 0s - loss: 38.11 - 1s 4ms/step - loss: 37.6114 - val_loss: 27.0477\n",
      "Epoch 6/100\n",
      "94/94 [==============================] - 0s 4ms/step - loss: 35.1405 - val_loss: 25.9703\n",
      "Epoch 7/100\n",
      "94/94 [==============================] - 1s 4ms/step - loss: 33.2807 - val_loss: 25.1357\n",
      "Epoch 8/100\n",
      "94/94 [==============================] - 0s 4ms/step - loss: 31.7767 - val_loss: 24.5549\n",
      "Epoch 9/100\n",
      "94/94 [==============================] - 0s 4ms/step - loss: 30.8464 - val_loss: 24.3435\n",
      "Epoch 10/100\n",
      "94/94 [==============================] - 0s 4ms/step - loss: 29.9574 - val_loss: 24.2440\n",
      "Epoch 11/100\n",
      "94/94 [==============================] - 1s 4ms/step - loss: 29.2271 - val_loss: 23.5271\n",
      "Epoch 12/100\n",
      "94/94 [==============================] - 0s 4ms/step - loss: 28.8019 - val_loss: 23.8874\n",
      "Epoch 13/100\n",
      "94/94 [==============================] - 0s 4ms/step - loss: 28.2816 - val_loss: 23.3142\n",
      "Epoch 14/100\n",
      "94/94 [==============================] - 0s 4ms/step - loss: 27.8695 - val_loss: 23.9699\n",
      "Epoch 15/100\n",
      "94/94 [==============================] - 0s 4ms/step - loss: 27.4541 - val_loss: 22.8176\n",
      "Epoch 16/100\n",
      "94/94 [==============================] - 0s 4ms/step - loss: 27.2996 - val_loss: 22.6876\n",
      "Epoch 17/100\n",
      "94/94 [==============================] - 1s 5ms/step - loss: 27.0006 - val_loss: 23.9286\n",
      "Epoch 18/100\n",
      "94/94 [==============================] - 0s 4ms/step - loss: 26.8060 - val_loss: 22.4929\n",
      "Epoch 19/100\n",
      "94/94 [==============================] - 0s 4ms/step - loss: 26.6611 - val_loss: 22.4031\n",
      "Epoch 20/100\n",
      "94/94 [==============================] - 0s 4ms/step - loss: 26.4302 - val_loss: 22.6385\n",
      "Epoch 21/100\n",
      "94/94 [==============================] - 0s 4ms/step - loss: 26.1925 - val_loss: 22.5239\n",
      "Epoch 22/100\n",
      "94/94 [==============================] - 0s 4ms/step - loss: 26.2808 - val_loss: 22.6329\n",
      "Epoch 23/100\n",
      "94/94 [==============================] - 0s 4ms/step - loss: 25.9459 - val_loss: 22.2057\n",
      "Epoch 24/100\n",
      "94/94 [==============================] - 0s 4ms/step - loss: 25.7825 - val_loss: 22.0430\n",
      "Epoch 25/100\n",
      "94/94 [==============================] - 0s 4ms/step - loss: 25.7971 - val_loss: 22.3084\n",
      "Epoch 26/100\n",
      "94/94 [==============================] - 0s 4ms/step - loss: 25.6006 - val_loss: 22.2212\n",
      "Epoch 27/100\n",
      "94/94 [==============================] - 1s 5ms/step - loss: 25.4592 - val_loss: 22.1636\n",
      "Epoch 28/100\n",
      "94/94 [==============================] - 1s 4ms/step - loss: 25.2964 - val_loss: 22.3669\n",
      "Epoch 29/100\n",
      "94/94 [==============================] - 1s 5ms/step - loss: 25.2262 - val_loss: 21.7204\n",
      "Epoch 30/100\n",
      "94/94 [==============================] - 1s 5ms/step - loss: 25.1919 - val_loss: 21.6590\n",
      "Epoch 31/100\n",
      "94/94 [==============================] - 1s 5ms/step - loss: 25.0969 - val_loss: 22.4000\n",
      "Epoch 32/100\n",
      "94/94 [==============================] - 1s 5ms/step - loss: 24.9279 - val_loss: 21.5334\n",
      "Epoch 33/100\n",
      "94/94 [==============================] - 1s 5ms/step - loss: 25.0012 - val_loss: 21.4747\n",
      "Epoch 34/100\n",
      "94/94 [==============================] - 1s 5ms/step - loss: 24.7238 - val_loss: 21.3474\n",
      "Epoch 35/100\n",
      "94/94 [==============================] - 1s 5ms/step - loss: 24.6962 - val_loss: 21.3116\n",
      "Epoch 36/100\n",
      "94/94 [==============================] - 1s 5ms/step - loss: 25.1432 - val_loss: 22.3516\n",
      "Epoch 37/100\n",
      "94/94 [==============================] - 1s 4ms/step - loss: 24.4990 - val_loss: 21.4868\n",
      "Epoch 38/100\n",
      "94/94 [==============================] - 1s 5ms/step - loss: 24.4519 - val_loss: 21.2003\n",
      "Epoch 39/100\n",
      "94/94 [==============================] - 1s 5ms/step - loss: 24.5367 - val_loss: 21.2554\n",
      "Epoch 40/100\n",
      "94/94 [==============================] - 1s 5ms/step - loss: 24.3620 - val_loss: 21.1598\n",
      "Epoch 41/100\n",
      "94/94 [==============================] - 1s 5ms/step - loss: 24.3378 - val_loss: 21.2765\n",
      "Epoch 42/100\n",
      "94/94 [==============================] - 1s 5ms/step - loss: 24.1779 - val_loss: 21.2945\n",
      "Epoch 43/100\n",
      "94/94 [==============================] - 1s 5ms/step - loss: 24.2386 - val_loss: 21.2140\n",
      "Epoch 44/100\n",
      "94/94 [==============================] - 1s 5ms/step - loss: 24.2197 - val_loss: 21.2169\n",
      "Epoch 45/100\n",
      "94/94 [==============================] - 1s 5ms/step - loss: 24.0755 - val_loss: 21.0833\n",
      "Epoch 46/100\n",
      "94/94 [==============================] - 1s 5ms/step - loss: 24.0711 - val_loss: 21.3253\n",
      "Epoch 47/100\n",
      "94/94 [==============================] - 1s 5ms/step - loss: 23.9446 - val_loss: 21.0983\n",
      "Epoch 48/100\n",
      "94/94 [==============================] - 1s 5ms/step - loss: 24.0583 - val_loss: 21.1966\n",
      "Epoch 49/100\n",
      "94/94 [==============================] - 1s 5ms/step - loss: 23.9505 - val_loss: 21.1668\n",
      "Epoch 50/100\n",
      "94/94 [==============================] - 1s 5ms/step - loss: 23.9216 - val_loss: 21.2367\n",
      "Epoch 51/100\n",
      "94/94 [==============================] - 1s 5ms/step - loss: 23.8600 - val_loss: 21.0092\n",
      "Epoch 52/100\n",
      "94/94 [==============================] - 1s 5ms/step - loss: 23.8277 - val_loss: 21.2612\n",
      "Epoch 53/100\n",
      "94/94 [==============================] - 1s 4ms/step - loss: 23.7347 - val_loss: 21.0809\n",
      "Epoch 54/100\n",
      "94/94 [==============================] - 1s 5ms/step - loss: 23.7314 - val_loss: 21.2460\n",
      "Epoch 55/100\n",
      "94/94 [==============================] - 1s 5ms/step - loss: 23.7137 - val_loss: 21.1894\n",
      "Epoch 56/100\n",
      "94/94 [==============================] - 1s 5ms/step - loss: 23.6977 - val_loss: 21.1605\n",
      "Epoch 57/100\n",
      "94/94 [==============================] - 1s 5ms/step - loss: 23.7056 - val_loss: 20.9503\n",
      "Epoch 58/100\n",
      "94/94 [==============================] - 1s 5ms/step - loss: 23.5898 - val_loss: 20.9618\n",
      "Epoch 59/100\n",
      "94/94 [==============================] - 1s 5ms/step - loss: 23.5543 - val_loss: 21.4507\n",
      "Epoch 60/100\n",
      "94/94 [==============================] - 1s 5ms/step - loss: 23.5607 - val_loss: 20.9887\n",
      "Epoch 61/100\n",
      "94/94 [==============================] - 1s 5ms/step - loss: 23.5337 - val_loss: 21.0404\n",
      "Epoch 62/100\n",
      "94/94 [==============================] - 1s 4ms/step - loss: 23.4783 - val_loss: 20.9521\n",
      "Epoch 63/100\n",
      "94/94 [==============================] - 1s 5ms/step - loss: 23.5100 - val_loss: 20.9029\n",
      "Epoch 64/100\n",
      "94/94 [==============================] - 1s 5ms/step - loss: 23.4797 - val_loss: 21.1804\n",
      "Epoch 65/100\n",
      "94/94 [==============================] - 1s 5ms/step - loss: 23.4166 - val_loss: 20.8888\n",
      "Epoch 66/100\n",
      "94/94 [==============================] - 1s 5ms/step - loss: 23.4102 - val_loss: 20.8864\n",
      "Epoch 67/100\n",
      "94/94 [==============================] - 1s 5ms/step - loss: 23.3668 - val_loss: 20.9312\n",
      "Epoch 68/100\n",
      "94/94 [==============================] - 1s 5ms/step - loss: 23.4457 - val_loss: 20.8724\n",
      "Epoch 69/100\n",
      "94/94 [==============================] - 1s 5ms/step - loss: 23.3908 - val_loss: 20.8782\n",
      "Epoch 70/100\n",
      "94/94 [==============================] - 1s 5ms/step - loss: 23.3500 - val_loss: 21.2357\n",
      "Epoch 71/100\n",
      "94/94 [==============================] - 1s 5ms/step - loss: 23.2939 - val_loss: 21.2026\n",
      "Epoch 72/100\n",
      "94/94 [==============================] - 1s 5ms/step - loss: 23.3136 - val_loss: 20.8690\n",
      "Epoch 73/100\n",
      "94/94 [==============================] - 1s 5ms/step - loss: 23.2282 - val_loss: 21.0502\n",
      "Epoch 74/100\n",
      "94/94 [==============================] - 1s 5ms/step - loss: 23.2553 - val_loss: 21.5057\n",
      "Epoch 75/100\n",
      "94/94 [==============================] - 1s 5ms/step - loss: 23.1869 - val_loss: 20.9023\n",
      "Epoch 76/100\n",
      "94/94 [==============================] - 1s 5ms/step - loss: 23.3433 - val_loss: 21.0993\n",
      "Epoch 77/100\n",
      "94/94 [==============================] - 1s 5ms/step - loss: 23.1787 - val_loss: 20.8421\n",
      "Epoch 78/100\n",
      "94/94 [==============================] - 1s 5ms/step - loss: 23.2102 - val_loss: 20.9155\n",
      "Epoch 79/100\n",
      "94/94 [==============================] - 1s 5ms/step - loss: 23.1053 - val_loss: 20.8243\n",
      "Epoch 80/100\n",
      "94/94 [==============================] - 1s 5ms/step - loss: 23.1417 - val_loss: 20.9222\n",
      "Epoch 81/100\n"
     ]
    },
    {
     "name": "stdout",
     "output_type": "stream",
     "text": [
      "94/94 [==============================] - 1s 5ms/step - loss: 23.1089 - val_loss: 20.8008\n",
      "Epoch 82/100\n",
      "94/94 [==============================] - 1s 5ms/step - loss: 23.1385 - val_loss: 21.1104\n",
      "Epoch 83/100\n",
      "94/94 [==============================] - 1s 5ms/step - loss: 23.1112 - val_loss: 21.3031\n",
      "Epoch 84/100\n",
      "94/94 [==============================] - 1s 4ms/step - loss: 23.0304 - val_loss: 21.0607\n",
      "Epoch 85/100\n",
      "94/94 [==============================] - 1s 5ms/step - loss: 23.0758 - val_loss: 20.9151\n",
      "Epoch 86/100\n",
      "94/94 [==============================] - 1s 5ms/step - loss: 23.1263 - val_loss: 21.0424\n",
      "Epoch 87/100\n",
      "94/94 [==============================] - 1s 5ms/step - loss: 22.9536 - val_loss: 20.7654\n",
      "Epoch 88/100\n",
      "94/94 [==============================] - 1s 5ms/step - loss: 23.1017 - val_loss: 20.7942\n",
      "Epoch 89/100\n",
      "94/94 [==============================] - 1s 5ms/step - loss: 22.9804 - val_loss: 20.7605\n",
      "Epoch 90/100\n",
      "94/94 [==============================] - 1s 5ms/step - loss: 23.0439 - val_loss: 21.0158\n",
      "Epoch 91/100\n",
      "94/94 [==============================] - 1s 5ms/step - loss: 23.1940 - val_loss: 21.0676\n",
      "Epoch 92/100\n",
      "94/94 [==============================] - 1s 5ms/step - loss: 22.9867 - val_loss: 20.8897\n",
      "Epoch 93/100\n",
      "94/94 [==============================] - 1s 5ms/step - loss: 22.9115 - val_loss: 21.4244\n",
      "Epoch 94/100\n",
      "94/94 [==============================] - 1s 4ms/step - loss: 22.8855 - val_loss: 20.7099\n",
      "Epoch 95/100\n",
      "94/94 [==============================] - 1s 5ms/step - loss: 22.9788 - val_loss: 20.7186\n",
      "Epoch 96/100\n",
      "94/94 [==============================] - 1s 5ms/step - loss: 22.8799 - val_loss: 20.7737\n",
      "Epoch 97/100\n",
      "94/94 [==============================] - 1s 5ms/step - loss: 22.9602 - val_loss: 21.1308\n",
      "Epoch 98/100\n",
      "94/94 [==============================] - 1s 5ms/step - loss: 22.8397 - val_loss: 20.9405\n",
      "Epoch 99/100\n",
      "94/94 [==============================] - 1s 5ms/step - loss: 22.8937 - val_loss: 21.3951\n",
      "Epoch 100/100\n",
      "94/94 [==============================] - 1s 4ms/step - loss: 22.8725 - val_loss: 20.9360\n"
     ]
    },
    {
     "data": {
      "text/plain": [
       "<keras.callbacks.History at 0x7f1f60469670>"
      ]
     },
     "execution_count": 8,
     "metadata": {},
     "output_type": "execute_result"
    }
   ],
   "source": [
    "dataset = windowed_dataset(x_train, window_size, batch_size, shuffle_buffer_size)\n",
    "val_dataset = windowed_dataset(x_valid, window_size, batch_size, shuffle_buffer_size)\n",
    "\n",
    "model = tf.keras.models.Sequential([\n",
    "    tf.keras.layers.Dense(100, input_shape=[window_size], activation=\"relu\"), # YOUR CODE HERE #),\n",
    "    tf.keras.layers.Dense(10, activation=\"relu\"), # YOUR CODE HERE #, activation=\"relu\"), \n",
    "    tf.keras.layers.Dense(1)\n",
    "])\n",
    "\n",
    "model.compile(loss=\"mse\", optimizer=tf.keras.optimizers.SGD(learning_rate=1e-6, momentum=0.9))# YOUR CODE HERE #, optimizer=# YOUR CODE HERE#))\n",
    "model.fit(dataset,epochs=100, validation_data = val_dataset) \n"
   ]
  },
  {
   "cell_type": "code",
   "execution_count": 9,
   "metadata": {
    "ExecuteTime": {
     "end_time": "2021-12-30T11:08:36.829513Z",
     "start_time": "2021-12-30T11:05:36.721619Z"
    },
    "id": "efhco2rYyIFF"
   },
   "outputs": [],
   "source": [
    "forecast = []\n",
    "for time in range(len(series) - window_size):\n",
    "  forecast.append(model.predict(series[time:time + window_size][np.newaxis]))\n",
    "\n",
    "forecast = forecast[split_time-window_size:]\n",
    "results = np.array(forecast)[:, 0, 0]\n",
    "\n",
    "\n",
    "plt.figure(figsize=(10, 6))\n",
    "\n",
    "plot_series(time_valid, x_valid)\n",
    "plot_series(time_valid, results)"
   ]
  },
  {
   "cell_type": "code",
   "execution_count": 10,
   "metadata": {
    "ExecuteTime": {
     "end_time": "2021-12-30T11:08:36.839969Z",
     "start_time": "2021-12-30T11:08:36.832761Z"
    },
    "id": "-kT6j186YO6K"
   },
   "outputs": [
    {
     "data": {
      "text/plain": [
       "3.0841866"
      ]
     },
     "execution_count": 10,
     "metadata": {},
     "output_type": "execute_result"
    }
   ],
   "source": [
    "tf.keras.metrics.mean_absolute_error(x_valid, results).numpy()\n",
    "# EXPECTED OUTPUT\n",
    "# A Value less than 3"
   ]
  },
  {
   "cell_type": "code",
   "execution_count": null,
   "metadata": {},
   "outputs": [],
   "source": []
  },
  {
   "cell_type": "code",
   "execution_count": null,
   "metadata": {},
   "outputs": [],
   "source": []
  },
  {
   "cell_type": "code",
   "execution_count": null,
   "metadata": {},
   "outputs": [],
   "source": []
  }
 ],
 "metadata": {
  "accelerator": "GPU",
  "colab": {
   "collapsed_sections": [],
   "name": "C4_W2_Assignment_Solution.ipynb",
   "provenance": [],
   "toc_visible": true
  },
  "kernelspec": {
   "display_name": "Python 3",
   "language": "python",
   "name": "python3"
  },
  "language_info": {
   "codemirror_mode": {
    "name": "ipython",
    "version": 3
   },
   "file_extension": ".py",
   "mimetype": "text/x-python",
   "name": "python",
   "nbconvert_exporter": "python",
   "pygments_lexer": "ipython3",
   "version": "3.8.10"
  },
  "toc": {
   "base_numbering": 1,
   "nav_menu": {},
   "number_sections": true,
   "sideBar": true,
   "skip_h1_title": false,
   "title_cell": "Table of Contents",
   "title_sidebar": "Contents",
   "toc_cell": false,
   "toc_position": {},
   "toc_section_display": true,
   "toc_window_display": false
  }
 },
 "nbformat": 4,
 "nbformat_minor": 1
}
