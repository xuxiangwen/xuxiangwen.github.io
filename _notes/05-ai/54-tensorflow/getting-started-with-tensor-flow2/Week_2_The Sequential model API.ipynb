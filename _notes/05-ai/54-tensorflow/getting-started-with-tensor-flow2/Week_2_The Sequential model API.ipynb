{
 "cells": [
  {
   "cell_type": "code",
   "execution_count": 1,
   "metadata": {
    "colab": {
     "base_uri": "https://localhost:8080/"
    },
    "id": "irSHzM912xQA",
    "outputId": "f86bb6ea-311b-4a08-f491-9d6288b79233"
   },
   "outputs": [
    {
     "name": "stdout",
     "output_type": "stream",
     "text": [
      "2.4.1\n"
     ]
    }
   ],
   "source": [
    "import tensorflow as tf\n",
    "print(tf.__version__)"
   ]
  },
  {
   "cell_type": "markdown",
   "metadata": {
    "id": "9c6YpFwF2xQI"
   },
   "source": [
    "# The Sequential model API"
   ]
  },
  {
   "cell_type": "markdown",
   "metadata": {
    "id": "gH9lRlJe2xQL"
   },
   "source": [
    " ## Coding tutorials\n",
    " #### [1. Building a Sequential model](#coding_tutorial_1)\n",
    " #### [2. Convolutional and pooling layers](#coding_tutorial_2)\n",
    " #### [3. The compile method](#coding_tutorial_3)\n",
    " #### [4. The fit method](#coding_tutorial_4)\n",
    " #### [5. The evaluate and predict methods](#coding_tutorial_5)"
   ]
  },
  {
   "cell_type": "markdown",
   "metadata": {
    "id": "NwXkghkK2xQM"
   },
   "source": [
    "***\n",
    "<a id=\"coding_tutorial_1\"></a>\n",
    "## Building a Sequential model"
   ]
  },
  {
   "cell_type": "code",
   "execution_count": 2,
   "metadata": {
    "id": "nEGtod6p2xQM"
   },
   "outputs": [],
   "source": [
    "from tensorflow.keras.models import Sequential\n",
    "from tensorflow.keras.layers import Dense, Flatten, Softmax"
   ]
  },
  {
   "cell_type": "markdown",
   "metadata": {
    "id": "qs8mIkcK2xQN"
   },
   "source": [
    "#### Build a feedforward neural network model"
   ]
  },
  {
   "cell_type": "code",
   "execution_count": 3,
   "metadata": {
    "id": "YqnleMlm2xQN"
   },
   "outputs": [],
   "source": [
    "# Build the Sequential feedforward neural network model\n",
    "\n",
    "\n",
    "model = Sequential([\n",
    "    Flatten(input_shape=(28,28)),\n",
    "    Dense(16),\n",
    "    Softmax()\n",
    "])"
   ]
  },
  {
   "cell_type": "code",
   "execution_count": 4,
   "metadata": {
    "colab": {
     "base_uri": "https://localhost:8080/"
    },
    "id": "yW0bHuOl2xQO",
    "outputId": "b69d13d3-ca0d-4b1e-d96c-7968bad07b14"
   },
   "outputs": [
    {
     "name": "stdout",
     "output_type": "stream",
     "text": [
      "Model: \"sequential\"\n",
      "_________________________________________________________________\n",
      "Layer (type)                 Output Shape              Param #   \n",
      "=================================================================\n",
      "flatten (Flatten)            (None, 784)               0         \n",
      "_________________________________________________________________\n",
      "dense (Dense)                (None, 16)                12560     \n",
      "_________________________________________________________________\n",
      "softmax (Softmax)            (None, 16)                0         \n",
      "=================================================================\n",
      "Total params: 12,560\n",
      "Trainable params: 12,560\n",
      "Non-trainable params: 0\n",
      "_________________________________________________________________\n"
     ]
    }
   ],
   "source": [
    "# Print the model summary\n",
    "\n",
    "model.summary()"
   ]
  },
  {
   "cell_type": "markdown",
   "metadata": {
    "id": "2F04SnaN2xQO"
   },
   "source": [
    "***\n",
    "<a id=\"coding_tutorial_2\"></a>\n",
    "## Convolutional and pooling layers"
   ]
  },
  {
   "cell_type": "code",
   "execution_count": 5,
   "metadata": {
    "id": "S2WBXnpE2xQP"
   },
   "outputs": [],
   "source": [
    "from tensorflow.keras.models import Sequential\n",
    "from tensorflow.keras.layers import Dense, Flatten, Conv2D, MaxPooling2D"
   ]
  },
  {
   "cell_type": "markdown",
   "metadata": {
    "id": "vuckvxrD2xQQ"
   },
   "source": [
    "#### Build a convolutional neural network model"
   ]
  },
  {
   "cell_type": "code",
   "execution_count": 6,
   "metadata": {
    "colab": {
     "base_uri": "https://localhost:8080/"
    },
    "id": "p4NOBUgr2xQR",
    "outputId": "da6ac7ef-cfe3-4643-cf8b-90281c9fc0bd"
   },
   "outputs": [
    {
     "name": "stdout",
     "output_type": "stream",
     "text": [
      "Model: \"sequential_1\"\n",
      "_________________________________________________________________\n",
      "Layer (type)                 Output Shape              Param #   \n",
      "=================================================================\n",
      "conv2d (Conv2D)              (None, 24, 24, 32)        832       \n",
      "_________________________________________________________________\n",
      "max_pooling2d (MaxPooling2D) (None, 12, 12, 32)        0         \n",
      "_________________________________________________________________\n",
      "conv2d_1 (Conv2D)            (None, 8, 8, 64)          51264     \n",
      "_________________________________________________________________\n",
      "max_pooling2d_1 (MaxPooling2 (None, 4, 4, 64)          0         \n",
      "_________________________________________________________________\n",
      "flatten_1 (Flatten)          (None, 1024)              0         \n",
      "_________________________________________________________________\n",
      "dense_1 (Dense)              (None, 100)               102500    \n",
      "_________________________________________________________________\n",
      "dense_2 (Dense)              (None, 10)                1010      \n",
      "=================================================================\n",
      "Total params: 155,606\n",
      "Trainable params: 155,606\n",
      "Non-trainable params: 0\n",
      "_________________________________________________________________\n"
     ]
    }
   ],
   "source": [
    "# Build the Sequential convolutional neural network model\n",
    "\n",
    "model = Sequential()\n",
    "model.add(Conv2D(32,(5,5),strides=(1,1),input_shape=(28,28,1),padding='valid',activation='relu',kernel_initializer='uniform'))\n",
    "model.add(MaxPooling2D(pool_size=(2,2)))\n",
    "model.add(Conv2D(64,(5,5),strides=(1,1),padding='valid',activation='relu',kernel_initializer='uniform'))\n",
    "model.add(MaxPooling2D(pool_size=(2,2)))\n",
    "model.add(Flatten())\n",
    "model.add(Dense(100,activation='relu'))\n",
    "model.add(Dense(10,activation='softmax'))\n",
    "model.summary()"
   ]
  },
  {
   "cell_type": "code",
   "execution_count": 7,
   "metadata": {
    "colab": {
     "base_uri": "https://localhost:8080/"
    },
    "id": "52csEvvy2xQR",
    "outputId": "939a7b46-bc0a-4143-bec0-3acb503e6d5c"
   },
   "outputs": [
    {
     "name": "stdout",
     "output_type": "stream",
     "text": [
      "Model: \"sequential_1\"\n",
      "_________________________________________________________________\n",
      "Layer (type)                 Output Shape              Param #   \n",
      "=================================================================\n",
      "conv2d (Conv2D)              (None, 24, 24, 32)        832       \n",
      "_________________________________________________________________\n",
      "max_pooling2d (MaxPooling2D) (None, 12, 12, 32)        0         \n",
      "_________________________________________________________________\n",
      "conv2d_1 (Conv2D)            (None, 8, 8, 64)          51264     \n",
      "_________________________________________________________________\n",
      "max_pooling2d_1 (MaxPooling2 (None, 4, 4, 64)          0         \n",
      "_________________________________________________________________\n",
      "flatten_1 (Flatten)          (None, 1024)              0         \n",
      "_________________________________________________________________\n",
      "dense_1 (Dense)              (None, 100)               102500    \n",
      "_________________________________________________________________\n",
      "dense_2 (Dense)              (None, 10)                1010      \n",
      "=================================================================\n",
      "Total params: 155,606\n",
      "Trainable params: 155,606\n",
      "Non-trainable params: 0\n",
      "_________________________________________________________________\n"
     ]
    }
   ],
   "source": [
    "# Print the model summary\n",
    "\n",
    "model.summary()"
   ]
  },
  {
   "cell_type": "markdown",
   "metadata": {
    "id": "823FL8442xQS"
   },
   "source": [
    "***\n",
    "<a id=\"coding_tutorial_3\"></a>\n",
    "## The compile method"
   ]
  },
  {
   "cell_type": "markdown",
   "metadata": {
    "id": "t1rUslIV2xQS"
   },
   "source": [
    "#### Compile the model"
   ]
  },
  {
   "cell_type": "code",
   "execution_count": 8,
   "metadata": {
    "id": "NAUVk5fi2xQS"
   },
   "outputs": [],
   "source": [
    "# Define the model optimizer, loss function and metrics\n",
    "\n",
    "model.compile(optimizer='adam',\n",
    "              loss=tf.keras.losses.SparseCategoricalCrossentropy(from_logits=True),\n",
    "              metrics=['accuracy','mae'])"
   ]
  },
  {
   "cell_type": "code",
   "execution_count": 9,
   "metadata": {
    "colab": {
     "base_uri": "https://localhost:8080/"
    },
    "id": "azLUmglS2xQT",
    "outputId": "5101e45f-eac9-40c7-b4c4-282e364e76c8"
   },
   "outputs": [
    {
     "name": "stdout",
     "output_type": "stream",
     "text": [
      "Model: \"sequential_1\"\n",
      "_________________________________________________________________\n",
      "Layer (type)                 Output Shape              Param #   \n",
      "=================================================================\n",
      "conv2d (Conv2D)              (None, 24, 24, 32)        832       \n",
      "_________________________________________________________________\n",
      "max_pooling2d (MaxPooling2D) (None, 12, 12, 32)        0         \n",
      "_________________________________________________________________\n",
      "conv2d_1 (Conv2D)            (None, 8, 8, 64)          51264     \n",
      "_________________________________________________________________\n",
      "max_pooling2d_1 (MaxPooling2 (None, 4, 4, 64)          0         \n",
      "_________________________________________________________________\n",
      "flatten_1 (Flatten)          (None, 1024)              0         \n",
      "_________________________________________________________________\n",
      "dense_1 (Dense)              (None, 100)               102500    \n",
      "_________________________________________________________________\n",
      "dense_2 (Dense)              (None, 10)                1010      \n",
      "=================================================================\n",
      "Total params: 155,606\n",
      "Trainable params: 155,606\n",
      "Non-trainable params: 0\n",
      "_________________________________________________________________\n"
     ]
    }
   ],
   "source": [
    "# Print the resulting model attributes\n",
    "\n",
    "model.summary()"
   ]
  },
  {
   "cell_type": "markdown",
   "metadata": {
    "id": "ibPfjPov2xQT"
   },
   "source": [
    "***\n",
    "<a id=\"coding_tutorial_4\"></a>\n",
    "## The fit method"
   ]
  },
  {
   "cell_type": "code",
   "execution_count": 10,
   "metadata": {
    "id": "EjLqsZOS2xQT"
   },
   "outputs": [],
   "source": [
    "from tensorflow.keras.preprocessing import image\n",
    "import matplotlib.pyplot as plt\n",
    "import numpy as np\n",
    "import pandas as pd"
   ]
  },
  {
   "cell_type": "markdown",
   "metadata": {
    "id": "gfx9w8pD2xQU"
   },
   "source": [
    "#### Load the data"
   ]
  },
  {
   "cell_type": "code",
   "execution_count": 28,
   "metadata": {
    "id": "gdMumzaR2xQU"
   },
   "outputs": [],
   "source": [
    "# Load the Fashion-MNIST dataset\n",
    "\n",
    "fashion_mnist_data = tf.keras.datasets.fashion_mnist\n",
    "(train_images, train_labels), (test_images, test_labels) = fashion_mnist_data.load_data()"
   ]
  },
  {
   "cell_type": "code",
   "execution_count": 29,
   "metadata": {
    "colab": {
     "base_uri": "https://localhost:8080/"
    },
    "id": "Hea1KKZ-2xQU",
    "outputId": "73221b33-ed0b-477e-a2be-fa8fc0bb692c"
   },
   "outputs": [
    {
     "data": {
      "text/plain": [
       "(60000, 28, 28)"
      ]
     },
     "execution_count": 29,
     "metadata": {
      "tags": []
     },
     "output_type": "execute_result"
    }
   ],
   "source": [
    "# Print the shape of the training data\n",
    "\n",
    "train_images.shape"
   ]
  },
  {
   "cell_type": "code",
   "execution_count": 30,
   "metadata": {
    "id": "H0KdvayR2xQU"
   },
   "outputs": [],
   "source": [
    "# Define the labels\n",
    "\n",
    "labels = [\n",
    "    'T-shirt/top',\n",
    "    'Trouser',\n",
    "    'Pullover',\n",
    "    'Dress',\n",
    "    'Coat',\n",
    "    'Sandal',\n",
    "    'Shirt',\n",
    "    'Sneaker',\n",
    "    'Bag',\n",
    "    'Ankle boot'\n",
    "]"
   ]
  },
  {
   "cell_type": "code",
   "execution_count": 31,
   "metadata": {
    "id": "roNoEI6Z2xQV"
   },
   "outputs": [],
   "source": [
    "# Rescale the image values so that they lie in between 0 and 1.\n",
    "\n",
    "train_images = train_images/255.0\n",
    "test_images = test_images/255.0"
   ]
  },
  {
   "cell_type": "code",
   "execution_count": 32,
   "metadata": {
    "colab": {
     "base_uri": "https://localhost:8080/",
     "height": 141
    },
    "id": "0vHb06cN2xQV",
    "outputId": "81779b3f-1578-43e5-a9d1-24d9cdf46495"
   },
   "outputs": [
    {
     "data": {
      "image/png": "[encoded data removed]",
      "text/plain": [
       "<Figure size 720x144 with 5 Axes>"
      ]
     },
     "metadata": {
      "tags": []
     },
     "output_type": "display_data"
    }
   ],
   "source": [
    "# Display one of the images\n",
    "\n",
    "import matplotlib.pyplot as plt\n",
    "%matplotlib inline  \n",
    "\n",
    "plt.figure(figsize=(10,2))\n",
    "for i in range(5):\n",
    "    plt.subplot(1,5,i+1)\n",
    "    plt.xticks([])\n",
    "    plt.yticks([])\n",
    "    plt.grid(False)\n",
    "    plt.imshow(train_images[i], cmap='gray', interpolation='none')\n",
    "    # The CIFAR labels happen to be arrays, \n",
    "    # which is why you need the extra index\n",
    "    plt.xlabel(train_labels[i])\n",
    "plt.show()"
   ]
  },
  {
   "cell_type": "markdown",
   "metadata": {
    "id": "EbPPCxRl2xQV"
   },
   "source": [
    "#### Fit the model"
   ]
  },
  {
   "cell_type": "code",
   "execution_count": 33,
   "metadata": {
    "colab": {
     "base_uri": "https://localhost:8080/"
    },
    "id": "Jlda-e192xQV",
    "outputId": "4a26eda3-9d89-456d-8cc3-c5d654f5e64d"
   },
   "outputs": [
    {
     "name": "stdout",
     "output_type": "stream",
     "text": [
      "Epoch 1/10\n",
      "1875/1875 [==============================] - 64s 34ms/step - loss: 0.2644 - accuracy: 0.9044 - mae: 4.4200 - val_loss: 0.2849 - val_accuracy: 0.8958 - val_mae: 4.4200\n",
      "Epoch 2/10\n",
      "1875/1875 [==============================] - 63s 34ms/step - loss: 0.2339 - accuracy: 0.9144 - mae: 4.4200 - val_loss: 0.2709 - val_accuracy: 0.8999 - val_mae: 4.4200\n",
      "Epoch 3/10\n",
      "1875/1875 [==============================] - 63s 33ms/step - loss: 0.2105 - accuracy: 0.9221 - mae: 4.4200 - val_loss: 0.2722 - val_accuracy: 0.8999 - val_mae: 4.4200\n",
      "Epoch 4/10\n",
      "1875/1875 [==============================] - 63s 33ms/step - loss: 0.1866 - accuracy: 0.9308 - mae: 4.4200 - val_loss: 0.2562 - val_accuracy: 0.9079 - val_mae: 4.4200\n",
      "Epoch 5/10\n",
      "1875/1875 [==============================] - 63s 34ms/step - loss: 0.1703 - accuracy: 0.9362 - mae: 4.4200 - val_loss: 0.2516 - val_accuracy: 0.9142 - val_mae: 4.4200\n",
      "Epoch 6/10\n",
      "1875/1875 [==============================] - 62s 33ms/step - loss: 0.1539 - accuracy: 0.9418 - mae: 4.4200 - val_loss: 0.2706 - val_accuracy: 0.9058 - val_mae: 4.4200\n",
      "Epoch 7/10\n",
      "1875/1875 [==============================] - 63s 34ms/step - loss: 0.1392 - accuracy: 0.9472 - mae: 4.4200 - val_loss: 0.3133 - val_accuracy: 0.9010 - val_mae: 4.4200\n",
      "Epoch 8/10\n",
      "1875/1875 [==============================] - 63s 33ms/step - loss: 0.1260 - accuracy: 0.9533 - mae: 4.4200 - val_loss: 0.3702 - val_accuracy: 0.9003 - val_mae: 4.4200\n",
      "Epoch 9/10\n",
      "1875/1875 [==============================] - 63s 33ms/step - loss: 0.1143 - accuracy: 0.9567 - mae: 4.4200 - val_loss: 0.3095 - val_accuracy: 0.9062 - val_mae: 4.4200\n",
      "Epoch 10/10\n",
      "1875/1875 [==============================] - 63s 33ms/step - loss: 0.1034 - accuracy: 0.9611 - mae: 4.4200 - val_loss: 0.3110 - val_accuracy: 0.9104 - val_mae: 4.4200\n"
     ]
    }
   ],
   "source": [
    "# Fit the model\n",
    "\n",
    "## 增加一个维度，更好的方式是np.expand_dims\n",
    "train_images = train_images.reshape(train_images.shape + (1,))\n",
    "test_images = test_images.reshape(test_images.shape + (1,))\n",
    "\n",
    "history = model.fit(train_images, train_labels, epochs=10, batch_size=32,\n",
    "                    validation_data=(test_images, test_labels))"
   ]
  },
  {
   "cell_type": "markdown",
   "metadata": {
    "id": "CCGfXbdm2xQW"
   },
   "source": [
    "#### Plot training history"
   ]
  },
  {
   "cell_type": "code",
   "execution_count": 34,
   "metadata": {
    "colab": {
     "base_uri": "https://localhost:8080/",
     "height": 1000
    },
    "id": "2AslK06M2xQW",
    "outputId": "f67f2049-3ce5-4730-db81-cad6eebc1fa4"
   },
   "outputs": [
    {
     "name": "stdout",
     "output_type": "stream",
     "text": [
      "<tensorflow.python.keras.callbacks.History object at 0x7f601eb17290>\n",
      "dict_keys(['loss', 'accuracy', 'mae', 'val_loss', 'val_accuracy', 'val_mae'])\n",
      "{'accuracy': [0.9043999910354614,\n",
      "              0.9144166707992554,\n",
      "              0.9220666885375977,\n",
      "              0.9308333396911621,\n",
      "              0.9361833333969116,\n",
      "              0.9418333172798157,\n",
      "              0.9472000002861023,\n",
      "              0.95333331823349,\n",
      "              0.9567166566848755,\n",
      "              0.9610666632652283],\n",
      " 'loss': [0.26435843110084534,\n",
      "          0.23389005661010742,\n",
      "          0.21050703525543213,\n",
      "          0.18663066625595093,\n",
      "          0.17033131420612335,\n",
      "          0.15389621257781982,\n",
      "          0.139186829328537,\n",
      "          0.1259523332118988,\n",
      "          0.11434324085712433,\n",
      "          0.10340795665979385],\n",
      " 'mae': [4.420008659362793,\n",
      "         4.420006275177002,\n",
      "         4.4200053215026855,\n",
      "         4.4200119972229,\n",
      "         4.4200119972229,\n",
      "         4.420011043548584,\n",
      "         4.420008182525635,\n",
      "         4.420010566711426,\n",
      "         4.420003414154053,\n",
      "         4.420006275177002],\n",
      " 'val_accuracy': [0.895799994468689,\n",
      "                  0.8999000191688538,\n",
      "                  0.8999000191688538,\n",
      "                  0.9078999757766724,\n",
      "                  0.9142000079154968,\n",
      "                  0.9057999849319458,\n",
      "                  0.9010000228881836,\n",
      "                  0.9003000259399414,\n",
      "                  0.9061999917030334,\n",
      "                  0.9103999733924866],\n",
      " 'val_loss': [0.28486523032188416,\n",
      "              0.2709232568740845,\n",
      "              0.27218347787857056,\n",
      "              0.25624725222587585,\n",
      "              0.25156253576278687,\n",
      "              0.2705875635147095,\n",
      "              0.3133004903793335,\n",
      "              0.3702026307582855,\n",
      "              0.3094777464866638,\n",
      "              0.3110472559928894],\n",
      " 'val_mae': [4.419997215270996,\n",
      "             4.419997215270996,\n",
      "             4.419997215270996,\n",
      "             4.419997215270996,\n",
      "             4.419997215270996,\n",
      "             4.419997215270996,\n",
      "             4.419997215270996,\n",
      "             4.419997215270996,\n",
      "             4.419997215270996,\n",
      "             4.419997215270996]}\n"
     ]
    },
    {
     "data": {
      "text/html": [
       "<div>\n",
       "<style scoped>\n",
       "    .dataframe tbody tr th:only-of-type {\n",
       "        vertical-align: middle;\n",
       "    }\n",
       "\n",
       "    .dataframe tbody tr th {\n",
       "        vertical-align: top;\n",
       "    }\n",
       "\n",
       "    .dataframe thead th {\n",
       "        text-align: right;\n",
       "    }\n",
       "</style>\n",
       "<table border=\"1\" class=\"dataframe\">\n",
       "  <thead>\n",
       "    <tr style=\"text-align: right;\">\n",
       "      <th></th>\n",
       "      <th>loss</th>\n",
       "      <th>accuracy</th>\n",
       "      <th>mae</th>\n",
       "      <th>val_loss</th>\n",
       "      <th>val_accuracy</th>\n",
       "      <th>val_mae</th>\n",
       "    </tr>\n",
       "  </thead>\n",
       "  <tbody>\n",
       "    <tr>\n",
       "      <th>0</th>\n",
       "      <td>0.264358</td>\n",
       "      <td>0.904400</td>\n",
       "      <td>4.420009</td>\n",
       "      <td>0.284865</td>\n",
       "      <td>0.8958</td>\n",
       "      <td>4.419997</td>\n",
       "    </tr>\n",
       "    <tr>\n",
       "      <th>1</th>\n",
       "      <td>0.233890</td>\n",
       "      <td>0.914417</td>\n",
       "      <td>4.420006</td>\n",
       "      <td>0.270923</td>\n",
       "      <td>0.8999</td>\n",
       "      <td>4.419997</td>\n",
       "    </tr>\n",
       "    <tr>\n",
       "      <th>2</th>\n",
       "      <td>0.210507</td>\n",
       "      <td>0.922067</td>\n",
       "      <td>4.420005</td>\n",
       "      <td>0.272183</td>\n",
       "      <td>0.8999</td>\n",
       "      <td>4.419997</td>\n",
       "    </tr>\n",
       "    <tr>\n",
       "      <th>3</th>\n",
       "      <td>0.186631</td>\n",
       "      <td>0.930833</td>\n",
       "      <td>4.420012</td>\n",
       "      <td>0.256247</td>\n",
       "      <td>0.9079</td>\n",
       "      <td>4.419997</td>\n",
       "    </tr>\n",
       "    <tr>\n",
       "      <th>4</th>\n",
       "      <td>0.170331</td>\n",
       "      <td>0.936183</td>\n",
       "      <td>4.420012</td>\n",
       "      <td>0.251563</td>\n",
       "      <td>0.9142</td>\n",
       "      <td>4.419997</td>\n",
       "    </tr>\n",
       "    <tr>\n",
       "      <th>5</th>\n",
       "      <td>0.153896</td>\n",
       "      <td>0.941833</td>\n",
       "      <td>4.420011</td>\n",
       "      <td>0.270588</td>\n",
       "      <td>0.9058</td>\n",
       "      <td>4.419997</td>\n",
       "    </tr>\n",
       "    <tr>\n",
       "      <th>6</th>\n",
       "      <td>0.139187</td>\n",
       "      <td>0.947200</td>\n",
       "      <td>4.420008</td>\n",
       "      <td>0.313300</td>\n",
       "      <td>0.9010</td>\n",
       "      <td>4.419997</td>\n",
       "    </tr>\n",
       "    <tr>\n",
       "      <th>7</th>\n",
       "      <td>0.125952</td>\n",
       "      <td>0.953333</td>\n",
       "      <td>4.420011</td>\n",
       "      <td>0.370203</td>\n",
       "      <td>0.9003</td>\n",
       "      <td>4.419997</td>\n",
       "    </tr>\n",
       "    <tr>\n",
       "      <th>8</th>\n",
       "      <td>0.114343</td>\n",
       "      <td>0.956717</td>\n",
       "      <td>4.420003</td>\n",
       "      <td>0.309478</td>\n",
       "      <td>0.9062</td>\n",
       "      <td>4.419997</td>\n",
       "    </tr>\n",
       "    <tr>\n",
       "      <th>9</th>\n",
       "      <td>0.103408</td>\n",
       "      <td>0.961067</td>\n",
       "      <td>4.420006</td>\n",
       "      <td>0.311047</td>\n",
       "      <td>0.9104</td>\n",
       "      <td>4.419997</td>\n",
       "    </tr>\n",
       "  </tbody>\n",
       "</table>\n",
       "</div>"
      ],
      "text/plain": [
       "       loss  accuracy       mae  val_loss  val_accuracy   val_mae\n",
       "0  0.264358  0.904400  4.420009  0.284865        0.8958  4.419997\n",
       "1  0.233890  0.914417  4.420006  0.270923        0.8999  4.419997\n",
       "2  0.210507  0.922067  4.420005  0.272183        0.8999  4.419997\n",
       "3  0.186631  0.930833  4.420012  0.256247        0.9079  4.419997\n",
       "4  0.170331  0.936183  4.420012  0.251563        0.9142  4.419997\n",
       "5  0.153896  0.941833  4.420011  0.270588        0.9058  4.419997\n",
       "6  0.139187  0.947200  4.420008  0.313300        0.9010  4.419997\n",
       "7  0.125952  0.953333  4.420011  0.370203        0.9003  4.419997\n",
       "8  0.114343  0.956717  4.420003  0.309478        0.9062  4.419997\n",
       "9  0.103408  0.961067  4.420006  0.311047        0.9104  4.419997"
      ]
     },
     "execution_count": 34,
     "metadata": {
      "tags": []
     },
     "output_type": "execute_result"
    }
   ],
   "source": [
    "# Load the history into a pandas Dataframe\n",
    "\n",
    "from pprint import pprint\n",
    "import pandas as pd \n",
    "# Load the history into a pandas Dataframe\n",
    "df_history = pd.DataFrame(history.history)\n",
    "\n",
    "print(history)\n",
    "print(history.history.keys())\n",
    "pprint(history.history)\n",
    "\n",
    "df_history"
   ]
  },
  {
   "cell_type": "code",
   "execution_count": 35,
   "metadata": {
    "colab": {
     "base_uri": "https://localhost:8080/",
     "height": 283
    },
    "id": "1iMSGqek2xQW",
    "outputId": "5b1e1954-52b9-48eb-c698-59fcde347785"
   },
   "outputs": [
    {
     "data": {
      "image/png": "[encoded data removed]",
      "text/plain": [
       "<Figure size 432x288 with 1 Axes>"
      ]
     },
     "metadata": {
      "needs_background": "light",
      "tags": []
     },
     "output_type": "display_data"
    }
   ],
   "source": [
    "# Make a plot for the loss\n",
    "\n",
    "plt.plot(history.history['loss'], label='loss')\n",
    "plt.plot(history.history['val_loss'], label = 'val_loss')\n",
    "plt.xlabel('Epoch')\n",
    "plt.ylabel('Loss')\n",
    "plt.ylim([0, 2])\n",
    "plt.legend(loc='lower right')\n",
    "plt.show()"
   ]
  },
  {
   "cell_type": "code",
   "execution_count": 36,
   "metadata": {
    "colab": {
     "base_uri": "https://localhost:8080/",
     "height": 283
    },
    "id": "eAir0SsR2xQX",
    "outputId": "5771d653-99ab-4d5c-c585-4f1c60d051a2"
   },
   "outputs": [
    {
     "data": {
      "image/png": "[encoded data removed]",
      "text/plain": [
       "<Figure size 432x288 with 1 Axes>"
      ]
     },
     "metadata": {
      "needs_background": "light",
      "tags": []
     },
     "output_type": "display_data"
    }
   ],
   "source": [
    "# Make a plot for the accuracy\n",
    "\n",
    "plt.plot(history.history['accuracy'], label='accuracy')\n",
    "plt.plot(history.history['val_accuracy'], label = 'val_accuracy')\n",
    "plt.xlabel('Epoch')\n",
    "plt.ylabel('Accuracy')\n",
    "plt.ylim([0.5, 1])\n",
    "plt.legend(loc='lower right')\n",
    "plt.show()"
   ]
  },
  {
   "cell_type": "code",
   "execution_count": 37,
   "metadata": {
    "colab": {
     "base_uri": "https://localhost:8080/",
     "height": 283
    },
    "id": "hxm_8kNP2xQX",
    "outputId": "d4343940-96f3-4f6f-dbf5-69b7b899c10c"
   },
   "outputs": [
    {
     "data": {
      "image/png": "[encoded data removed]",
      "text/plain": [
       "<Figure size 432x288 with 1 Axes>"
      ]
     },
     "metadata": {
      "needs_background": "light",
      "tags": []
     },
     "output_type": "display_data"
    }
   ],
   "source": [
    "# Make a plot for the additional metric\n",
    "\n",
    "plt.plot(history.history['mae'], label='mae')\n",
    "plt.plot(history.history['val_mae'], label = 'val_mae')\n",
    "plt.xlabel('Epoch')\n",
    "plt.ylabel('MAE')\n",
    "plt.ylim([0.5, 1])\n",
    "plt.legend(loc='lower right')\n",
    "plt.show()"
   ]
  },
  {
   "cell_type": "markdown",
   "metadata": {
    "id": "tK7UDdZ52xQX"
   },
   "source": [
    "***\n",
    "<a id=\"coding_tutorial_5\"></a>\n",
    "## The evaluate and predict methods"
   ]
  },
  {
   "cell_type": "code",
   "execution_count": 38,
   "metadata": {
    "id": "MI6fOvRb2xQY"
   },
   "outputs": [],
   "source": [
    "import matplotlib.pyplot as plt\n",
    "import numpy as np"
   ]
  },
  {
   "cell_type": "markdown",
   "metadata": {
    "id": "TcBLfahv2xQY"
   },
   "source": [
    "#### Evaluate the model on the test set"
   ]
  },
  {
   "cell_type": "code",
   "execution_count": 40,
   "metadata": {
    "colab": {
     "base_uri": "https://localhost:8080/"
    },
    "id": "cX7TYk8u2xQY",
    "outputId": "d5dbc79a-5c20-4a28-f502-525aa5894f7a"
   },
   "outputs": [
    {
     "name": "stdout",
     "output_type": "stream",
     "text": [
      "1875/1875 - 19s - loss: 0.0793 - accuracy: 0.9704 - mae: 4.4200\n",
      "313/313 - 3s - loss: 0.3110 - accuracy: 0.9104 - mae: 4.4200\n",
      "Train Accuracy: 97.0%, Test Accuracy: 91.0%\n",
      "Train Loss: 0.1%, Test Loss: 0.3%\n",
      "Train MAE: 4.4%, Test MAE: 4.4%\n"
     ]
    }
   ],
   "source": [
    "# Evaluate the model\n",
    "\n",
    "train_loss, train_acc, train_mae = model.evaluate(train_images,  train_labels, verbose=2)\n",
    "test_loss, test_acc, test_mae  = model.evaluate(test_images,  test_labels, verbose=2)\n",
    "print('Train Accuracy: {:0.1f}%, Test Accuracy: {:0.1f}%'.format(100 * train_acc, 100*test_acc)) \n",
    "print('Train Loss: {:0.1f}%, Test Loss: {:0.1f}%'.format(train_loss, test_loss)) \n",
    "print('Train MAE: {:0.1f}%, Test MAE: {:0.1f}%'.format(train_mae, test_mae)) "
   ]
  },
  {
   "cell_type": "markdown",
   "metadata": {
    "id": "dMjaaKCV2xQY"
   },
   "source": [
    "#### Make predictions from the model"
   ]
  },
  {
   "cell_type": "code",
   "execution_count": 42,
   "metadata": {
    "colab": {
     "base_uri": "https://localhost:8080/",
     "height": 282
    },
    "id": "jfrS6_8j2xQY",
    "outputId": "b2a2bd8e-76e8-4308-ab53-ae2a908fec1c"
   },
   "outputs": [
    {
     "data": {
      "image/png": "[encoded data removed]",
      "text/plain": [
       "<Figure size 432x288 with 1 Axes>"
      ]
     },
     "metadata": {
      "needs_background": "light",
      "tags": []
     },
     "output_type": "display_data"
    },
    {
     "name": "stdout",
     "output_type": "stream",
     "text": [
      "Label: Coat\n"
     ]
    }
   ],
   "source": [
    "# Choose a random test image\n",
    "\n",
    "random_inx = np.random.choice(test_images.shape[0])\n",
    "\n",
    "test_image = np.squeeze(test_images[random_inx])\n",
    "plt.imshow(test_image)\n",
    "plt.show()\n",
    "print(f\"Label: {labels[test_labels[random_inx]]}\")"
   ]
  },
  {
   "cell_type": "code",
   "execution_count": 43,
   "metadata": {
    "colab": {
     "base_uri": "https://localhost:8080/"
    },
    "id": "ChlQJATJ2xQY",
    "outputId": "bb79fab5-5dd4-40c0-f2e4-8536eeb7db39"
   },
   "outputs": [
    {
     "name": "stdout",
     "output_type": "stream",
     "text": [
      "['Coat']\n"
     ]
    }
   ],
   "source": [
    "# Get the model predictions\n",
    "\n",
    "predictions = model(np.array([test_images[random_inx]]), training=False)\n",
    "predictions = np.argmax(predictions, 1)\n",
    "predict_labels = [labels[prediction] for prediction in predictions] \n",
    "print(predict_labels)"
   ]
  },
  {
   "cell_type": "code",
   "execution_count": null,
   "metadata": {
    "id": "BxLe4LVq5ce5"
   },
   "outputs": [],
   "source": []
  }
 ],
 "metadata": {
  "colab": {
   "name": "Coding Tutorial.ipynb",
   "provenance": []
  },
  "kernelspec": {
   "display_name": "Python 3",
   "language": "python",
   "name": "python3"
  },
  "language_info": {
   "codemirror_mode": {
    "name": "ipython",
    "version": 3
   },
   "file_extension": ".py",
   "mimetype": "text/x-python",
   "name": "python",
   "nbconvert_exporter": "python",
   "pygments_lexer": "ipython3",
   "version": "3.6.9"
  },
  "toc": {
   "base_numbering": 1,
   "nav_menu": {},
   "number_sections": true,
   "sideBar": true,
   "skip_h1_title": false,
   "title_cell": "Table of Contents",
   "title_sidebar": "Contents",
   "toc_cell": false,
   "toc_position": {},
   "toc_section_display": true,
   "toc_window_display": false
  }
 },
 "nbformat": 4,
 "nbformat_minor": 1
}
