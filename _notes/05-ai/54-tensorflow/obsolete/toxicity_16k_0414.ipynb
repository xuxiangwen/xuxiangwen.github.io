{
 "cells": [
  {
   "cell_type": "markdown",
   "metadata": {},
   "source": [
    "[Toxic Comment Classification Challenge](https://www.kaggle.com/c/jigsaw-toxic-comment-classification-challenge/overview)\n",
    "\n",
    "toxicity的类型有：\n",
    "\n",
    "- toxic\n",
    "- severe_toxic\n",
    "- obscene\n",
    "- threat\n",
    "- insult\n",
    "- identity_hate\n",
    "\n",
    "一个评论可以属于0到多个标签。\n",
    "\n",
    "![image-20201226152702981](images/image-20201226152702981.png)\n",
    "\n",
    "\n",
    "## 获取数据\n",
    "\n",
    "首先引入需要的包。"
   ]
  },
  {
   "cell_type": "code",
   "execution_count": 1,
   "metadata": {
    "ExecuteTime": {
     "end_time": "2021-04-15T00:17:50.579823Z",
     "start_time": "2021-04-15T00:17:47.689057Z"
    }
   },
   "outputs": [],
   "source": [
    "import matplotlib.pyplot as plt\n",
    "import nltk\n",
    "import numpy as np\n",
    "import os\n",
    "import pandas as pd\n",
    "import random\n",
    "import re\n",
    "import shutil\n",
    "import string  \n",
    "import sys\n",
    "import tensorflow as tf\n",
    "\n",
    "from collections import Counter\n",
    "from nltk.corpus import stopwords\n",
    "from scipy import stats\n",
    "from sklearn.feature_extraction import text\n",
    "from sklearn.feature_selection import SelectKBest, f_classif\n",
    "from sklearn.model_selection import train_test_split\n",
    "from sklearn.metrics import roc_auc_score\n",
    "from tensorflow.keras import Model, models, layers, regularizers, preprocessing, datasets, metrics, losses, optimizers\n",
    "from tensorflow.keras.layers.experimental.preprocessing import TextVectorization\n",
    "\n",
    "\n",
    "base_path = '/tf/eipi10/xuxiangwen.github.io/_notes/05-ai/54-tensorflow/code'\n",
    "sys.path.append(base_path)\n",
    "\n",
    "import util\n",
    "from text_classification import lr_schedule\n",
    "from text_classification import plot_distribution, plot_length_distribution, plot_frequency_distribution\n",
    "from text_classification import Params, TextClassificationHelper\n",
    "from text_classification import SimpleTextDatasets, SequenceTextDatasets, RawTextDatasets,TransferTextDatasets\n",
    "\n",
    "# 代码自动重新加载\n",
    "%load_ext autoreload\n",
    "%autoreload 2"
   ]
  },
  {
   "cell_type": "code",
   "execution_count": 2,
   "metadata": {
    "ExecuteTime": {
     "end_time": "2021-04-15T00:17:50.674231Z",
     "start_time": "2021-04-15T00:17:50.582193Z"
    }
   },
   "outputs": [],
   "source": [
    "# 当module有新的方法的时候，需要运行下面方法。\n",
    "%reload_ext autoreload"
   ]
  },
  {
   "cell_type": "markdown",
   "metadata": {},
   "source": [
    "设置GPU最大内存。"
   ]
  },
  {
   "cell_type": "code",
   "execution_count": 3,
   "metadata": {
    "ExecuteTime": {
     "end_time": "2021-04-15T00:17:50.739314Z",
     "start_time": "2021-04-15T00:17:50.676798Z"
    }
   },
   "outputs": [],
   "source": [
    "util.set_gpu_memory_growth()\n",
    "model_results={}"
   ]
  },
  {
   "cell_type": "markdown",
   "metadata": {},
   "source": [
    "初始化参数。"
   ]
  },
  {
   "cell_type": "code",
   "execution_count": 59,
   "metadata": {
    "ExecuteTime": {
     "end_time": "2021-04-15T00:51:16.487923Z",
     "start_time": "2021-04-15T00:51:16.356702Z"
    }
   },
   "outputs": [
    {
     "name": "stderr",
     "output_type": "stream",
     "text": [
      "[nltk_data] Downloading package stopwords to /root/nltk_data...\n",
      "[nltk_data]   Package stopwords is already up-to-date!\n"
     ]
    }
   ],
   "source": [
    "def lr_schedule(epoch, lr):\n",
    "    lr_times = [(0, 1), (60, 1e-1), (90, 1e-2), (105, 1e-3), (120, 0.5e-3)]\n",
    "    \n",
    "    base_lr = 1e-3\n",
    "    new_lr = base_lr\n",
    "    for border_epoch, times in lr_times:\n",
    "        if epoch>=border_epoch: \n",
    "            new_lr = base_lr*times\n",
    "    if abs(lr - new_lr)>1e-7:\n",
    "        # ??lr?new_lr???????0.1??new_lr?????lr\n",
    "        if new_lr > lr > 0.1*new_lr - 1e-7:\n",
    "            print('Epoch %05d: Still keep learning rate %s instead of %s' % \n",
    "                  (epoch + 1, round(lr, 7), round(new_lr, 7))) \n",
    "            return lr   \n",
    "        print('Epoch %05d: LearningRateScheduler reducing learning rate to %s from %s.' % \n",
    "              (epoch + 1, round(new_lr, 7), round(lr, 7)))\n",
    "    return new_lr\n",
    "\n",
    "nltk.download('stopwords')\n",
    "\n",
    "dataset_name = 'tox_{}_c6'.format(util.get_notebook_name().split('_')[1])\n",
    "dataset_path = '/tf/eipi10/xuxiangwen.github.io/_notes/05-ai/54-tensorflow/models/{}'.format(dataset_name)\n",
    "word_vectors_path = '/tf/eipi10/xuxiangwen.github.io/_notes/05-ai/54-tensorflow/models/word_vectors'\n",
    "\n",
    "params = {\n",
    "    'dataset_name': dataset_name,\n",
    "    'program_name': util.get_notebook_name(),\n",
    "    'dataset_path': dataset_path,\n",
    "    'sample_perecent': 1,    \n",
    "    'text_column': '',    \n",
    "    'classes': ['toxic', 'severe_toxic', 'obscene', 'threat', 'insult', 'identity_hate'],\n",
    "    'validation_percent': 0.0,    \n",
    "    'stop_words':stopwords.words('english'),\n",
    "    'use_stop_words': True,    \n",
    "    'batch_size': 32,    \n",
    "    'max_features': 30000,\n",
    "    'sequence_length': 100,    \n",
    "    'epochs': 3,    \n",
    "    'learning_rate':0.001,\n",
    "    'clip_value':1.0,\n",
    "    'dropout':0.1,\n",
    "    'metrics':[metrics.BinaryAccuracy(), metrics.AUC(name='auc', multi_label=True)], \n",
    "    'loss': losses.BinaryCrossentropy(from_logits=False),\n",
    "    'restore_best_checkpoint':True,\n",
    "    'use_savedmodel':True,\n",
    "    'callbacks': {\n",
    "        'ModelCheckpoint': {\n",
    "            'enabled': True,\n",
    "            'monitor': 'val_binary_accuracy',               \n",
    "        },\n",
    "        'EarlyStopping': {\n",
    "            'enabled': True,\n",
    "            'patience': 40,   \n",
    "            'monitor': 'val_binary_accuracy',            \n",
    "        },\n",
    "        'ReduceLROnPlateau': {\n",
    "            'enabled': True,\n",
    "            'monitor': 'val_loss',\n",
    "            'patience': 15,\n",
    "            'factor': np.sqrt(0.1),            \n",
    "        },\n",
    "        'LearningRateScheduler': {\n",
    "            'enabled': True,\n",
    "            'schedule': lr_schedule,            \n",
    "        }             \n",
    "    },\n",
    "    'model_params':{\n",
    "        'mlp':{'dropout':0.6, 'layer_count':1, 'units':256, 'epochs':5},\n",
    "        'rnn':{'dropout':0.3, 'embedding_dim':200, 'units':200, 'epochs':3},\n",
    "        'embedding':{'dropout':0.4, 'embedding_dim':200, 'epochs':3},\n",
    "        'sepcnn':{'dropout':0.4, 'epochs': 3, 'batch_size':128},\n",
    "        'pooled_gru':{'dropout':0.3, 'embedding_dim':300, 'units':160, 'epochs':6, 'learning_rate':0.001}     \n",
    "    },\n",
    "    'embedding_paths':{\n",
    "        'fasttext_crawl_300d_2M':os.path.join(word_vectors_path, 'fasttext-crawl-300d-2M.vec'),\n",
    "        'glove_twitter_27B_200d':os.path.join(word_vectors_path, 'glove.twitter.27B.200d.txt')\n",
    "    }\n",
    "}\n",
    "\n",
    "params = Params(params)"
   ]
  },
  {
   "cell_type": "markdown",
   "metadata": {},
   "source": [
    "### 加载数据\n",
    "\n",
    "开始加载数据。数据下载自https://www.kaggle.com/c/jigsaw-toxic-comment-classification-challenge/data 。其中有三个文件，分别是：\n",
    "\n",
    "- train.csv：  训练数据，包含文本和标签\n",
    "- test.csv： 测试数据，只包含文本\n",
    "- test_labels.csv：测试数据标签，只包含文本标签"
   ]
  },
  {
   "cell_type": "code",
   "execution_count": 5,
   "metadata": {
    "ExecuteTime": {
     "end_time": "2021-04-15T00:17:54.360022Z",
     "start_time": "2021-04-15T00:17:52.781747Z"
    }
   },
   "outputs": [
    {
     "name": "stdout",
     "output_type": "stream",
     "text": [
      "----------------------------------------------------------------------------------------------------\n",
      "df_train= 159571\n",
      "----------------------------------------------------------------------------------------------------\n",
      "df_test_data 153164\n",
      "----------------------------------------------------------------------------------------------------\n",
      "df_test_labels 153164\n"
     ]
    }
   ],
   "source": [
    "df_train = pd.read_csv('./data/jigsaw-toxic-comment-classification-challenge/train.csv')\n",
    "df_test_data = pd.read_csv('./data/jigsaw-toxic-comment-classification-challenge/test.csv')\n",
    "df_test_labels = pd.read_csv('./data/jigsaw-toxic-comment-classification-challenge/test_labels.csv')\n",
    "\n",
    "print('-'*100) \n",
    "print('df_train=', len(df_train))\n",
    "print('-'*100) \n",
    "print('df_test_data', len(df_test_data))\n",
    "print('-'*100) \n",
    "print('df_test_labels', len(df_test_labels))"
   ]
  },
  {
   "cell_type": "code",
   "execution_count": 6,
   "metadata": {
    "ExecuteTime": {
     "end_time": "2021-04-15T00:17:54.489598Z",
     "start_time": "2021-04-15T00:17:54.362501Z"
    }
   },
   "outputs": [
    {
     "name": "stdout",
     "output_type": "stream",
     "text": [
      "----------------------------------------------------------------------------------------------------\n",
      "<class 'pandas.core.frame.DataFrame'>\n",
      "RangeIndex: 159571 entries, 0 to 159570\n",
      "Data columns (total 8 columns):\n",
      " #   Column         Non-Null Count   Dtype \n",
      "---  ------         --------------   ----- \n",
      " 0   id             159571 non-null  object\n",
      " 1   comment_text   159571 non-null  object\n",
      " 2   toxic          159571 non-null  int64 \n",
      " 3   severe_toxic   159571 non-null  int64 \n",
      " 4   obscene        159571 non-null  int64 \n",
      " 5   threat         159571 non-null  int64 \n",
      " 6   insult         159571 non-null  int64 \n",
      " 7   identity_hate  159571 non-null  int64 \n",
      "dtypes: int64(6), object(2)\n",
      "memory usage: 9.7+ MB\n",
      "None\n",
      "----------------------------------------------------------------------------------------------------\n",
      "<class 'pandas.core.frame.DataFrame'>\n",
      "RangeIndex: 153164 entries, 0 to 153163\n",
      "Data columns (total 2 columns):\n",
      " #   Column        Non-Null Count   Dtype \n",
      "---  ------        --------------   ----- \n",
      " 0   id            153164 non-null  object\n",
      " 1   comment_text  153164 non-null  object\n",
      "dtypes: object(2)\n",
      "memory usage: 2.3+ MB\n",
      "None\n",
      "----------------------------------------------------------------------------------------------------\n",
      "<class 'pandas.core.frame.DataFrame'>\n",
      "RangeIndex: 153164 entries, 0 to 153163\n",
      "Data columns (total 7 columns):\n",
      " #   Column         Non-Null Count   Dtype \n",
      "---  ------         --------------   ----- \n",
      " 0   id             153164 non-null  object\n",
      " 1   toxic          153164 non-null  int64 \n",
      " 2   severe_toxic   153164 non-null  int64 \n",
      " 3   obscene        153164 non-null  int64 \n",
      " 4   threat         153164 non-null  int64 \n",
      " 5   insult         153164 non-null  int64 \n",
      " 6   identity_hate  153164 non-null  int64 \n",
      "dtypes: int64(6), object(1)\n",
      "memory usage: 8.2+ MB\n",
      "None\n"
     ]
    }
   ],
   "source": [
    "print('-'*100) \n",
    "print(df_train.info())\n",
    "print('-'*100) \n",
    "print(df_test_data.info())\n",
    "print('-'*100) \n",
    "print(df_test_labels.info())"
   ]
  },
  {
   "cell_type": "code",
   "execution_count": 7,
   "metadata": {
    "ExecuteTime": {
     "end_time": "2021-04-15T00:17:54.563907Z",
     "start_time": "2021-04-15T00:17:54.491664Z"
    }
   },
   "outputs": [
    {
     "data": {
      "text/html": [
       "<div>\n",
       "<style scoped>\n",
       "    .dataframe tbody tr th:only-of-type {\n",
       "        vertical-align: middle;\n",
       "    }\n",
       "\n",
       "    .dataframe tbody tr th {\n",
       "        vertical-align: top;\n",
       "    }\n",
       "\n",
       "    .dataframe thead th {\n",
       "        text-align: right;\n",
       "    }\n",
       "</style>\n",
       "<table border=\"1\" class=\"dataframe\">\n",
       "  <thead>\n",
       "    <tr style=\"text-align: right;\">\n",
       "      <th></th>\n",
       "      <th>id</th>\n",
       "      <th>comment_text</th>\n",
       "      <th>toxic</th>\n",
       "      <th>severe_toxic</th>\n",
       "      <th>obscene</th>\n",
       "      <th>threat</th>\n",
       "      <th>insult</th>\n",
       "      <th>identity_hate</th>\n",
       "    </tr>\n",
       "  </thead>\n",
       "  <tbody>\n",
       "    <tr>\n",
       "      <th>0</th>\n",
       "      <td>0000997932d777bf</td>\n",
       "      <td>Explanation\\nWhy the edits made under my usern...</td>\n",
       "      <td>0</td>\n",
       "      <td>0</td>\n",
       "      <td>0</td>\n",
       "      <td>0</td>\n",
       "      <td>0</td>\n",
       "      <td>0</td>\n",
       "    </tr>\n",
       "    <tr>\n",
       "      <th>1</th>\n",
       "      <td>000103f0d9cfb60f</td>\n",
       "      <td>D'aww! He matches this background colour I'm s...</td>\n",
       "      <td>0</td>\n",
       "      <td>0</td>\n",
       "      <td>0</td>\n",
       "      <td>0</td>\n",
       "      <td>0</td>\n",
       "      <td>0</td>\n",
       "    </tr>\n",
       "    <tr>\n",
       "      <th>2</th>\n",
       "      <td>000113f07ec002fd</td>\n",
       "      <td>Hey man, I'm really not trying to edit war. It...</td>\n",
       "      <td>0</td>\n",
       "      <td>0</td>\n",
       "      <td>0</td>\n",
       "      <td>0</td>\n",
       "      <td>0</td>\n",
       "      <td>0</td>\n",
       "    </tr>\n",
       "    <tr>\n",
       "      <th>3</th>\n",
       "      <td>0001b41b1c6bb37e</td>\n",
       "      <td>\"\\nMore\\nI can't make any real suggestions on ...</td>\n",
       "      <td>0</td>\n",
       "      <td>0</td>\n",
       "      <td>0</td>\n",
       "      <td>0</td>\n",
       "      <td>0</td>\n",
       "      <td>0</td>\n",
       "    </tr>\n",
       "    <tr>\n",
       "      <th>4</th>\n",
       "      <td>0001d958c54c6e35</td>\n",
       "      <td>You, sir, are my hero. Any chance you remember...</td>\n",
       "      <td>0</td>\n",
       "      <td>0</td>\n",
       "      <td>0</td>\n",
       "      <td>0</td>\n",
       "      <td>0</td>\n",
       "      <td>0</td>\n",
       "    </tr>\n",
       "  </tbody>\n",
       "</table>\n",
       "</div>"
      ],
      "text/plain": [
       "                 id                                       comment_text  toxic  \\\n",
       "0  0000997932d777bf  Explanation\\nWhy the edits made under my usern...      0   \n",
       "1  000103f0d9cfb60f  D'aww! He matches this background colour I'm s...      0   \n",
       "2  000113f07ec002fd  Hey man, I'm really not trying to edit war. It...      0   \n",
       "3  0001b41b1c6bb37e  \"\\nMore\\nI can't make any real suggestions on ...      0   \n",
       "4  0001d958c54c6e35  You, sir, are my hero. Any chance you remember...      0   \n",
       "\n",
       "   severe_toxic  obscene  threat  insult  identity_hate  \n",
       "0             0        0       0       0              0  \n",
       "1             0        0       0       0              0  \n",
       "2             0        0       0       0              0  \n",
       "3             0        0       0       0              0  \n",
       "4             0        0       0       0              0  "
      ]
     },
     "metadata": {},
     "output_type": "display_data"
    },
    {
     "data": {
      "text/html": [
       "<div>\n",
       "<style scoped>\n",
       "    .dataframe tbody tr th:only-of-type {\n",
       "        vertical-align: middle;\n",
       "    }\n",
       "\n",
       "    .dataframe tbody tr th {\n",
       "        vertical-align: top;\n",
       "    }\n",
       "\n",
       "    .dataframe thead th {\n",
       "        text-align: right;\n",
       "    }\n",
       "</style>\n",
       "<table border=\"1\" class=\"dataframe\">\n",
       "  <thead>\n",
       "    <tr style=\"text-align: right;\">\n",
       "      <th></th>\n",
       "      <th>id</th>\n",
       "      <th>comment_text</th>\n",
       "    </tr>\n",
       "  </thead>\n",
       "  <tbody>\n",
       "    <tr>\n",
       "      <th>0</th>\n",
       "      <td>00001cee341fdb12</td>\n",
       "      <td>Yo bitch Ja Rule is more succesful then you'll...</td>\n",
       "    </tr>\n",
       "    <tr>\n",
       "      <th>1</th>\n",
       "      <td>0000247867823ef7</td>\n",
       "      <td>== From RfC == \\n\\n The title is fine as it is...</td>\n",
       "    </tr>\n",
       "    <tr>\n",
       "      <th>2</th>\n",
       "      <td>00013b17ad220c46</td>\n",
       "      <td>\" \\n\\n == Sources == \\n\\n * Zawe Ashton on Lap...</td>\n",
       "    </tr>\n",
       "    <tr>\n",
       "      <th>3</th>\n",
       "      <td>00017563c3f7919a</td>\n",
       "      <td>:If you have a look back at the source, the in...</td>\n",
       "    </tr>\n",
       "    <tr>\n",
       "      <th>4</th>\n",
       "      <td>00017695ad8997eb</td>\n",
       "      <td>I don't anonymously edit articles at all.</td>\n",
       "    </tr>\n",
       "  </tbody>\n",
       "</table>\n",
       "</div>"
      ],
      "text/plain": [
       "                 id                                       comment_text\n",
       "0  00001cee341fdb12  Yo bitch Ja Rule is more succesful then you'll...\n",
       "1  0000247867823ef7  == From RfC == \\n\\n The title is fine as it is...\n",
       "2  00013b17ad220c46  \" \\n\\n == Sources == \\n\\n * Zawe Ashton on Lap...\n",
       "3  00017563c3f7919a  :If you have a look back at the source, the in...\n",
       "4  00017695ad8997eb          I don't anonymously edit articles at all."
      ]
     },
     "metadata": {},
     "output_type": "display_data"
    },
    {
     "data": {
      "text/html": [
       "<div>\n",
       "<style scoped>\n",
       "    .dataframe tbody tr th:only-of-type {\n",
       "        vertical-align: middle;\n",
       "    }\n",
       "\n",
       "    .dataframe tbody tr th {\n",
       "        vertical-align: top;\n",
       "    }\n",
       "\n",
       "    .dataframe thead th {\n",
       "        text-align: right;\n",
       "    }\n",
       "</style>\n",
       "<table border=\"1\" class=\"dataframe\">\n",
       "  <thead>\n",
       "    <tr style=\"text-align: right;\">\n",
       "      <th></th>\n",
       "      <th>id</th>\n",
       "      <th>toxic</th>\n",
       "      <th>severe_toxic</th>\n",
       "      <th>obscene</th>\n",
       "      <th>threat</th>\n",
       "      <th>insult</th>\n",
       "      <th>identity_hate</th>\n",
       "    </tr>\n",
       "  </thead>\n",
       "  <tbody>\n",
       "    <tr>\n",
       "      <th>0</th>\n",
       "      <td>00001cee341fdb12</td>\n",
       "      <td>-1</td>\n",
       "      <td>-1</td>\n",
       "      <td>-1</td>\n",
       "      <td>-1</td>\n",
       "      <td>-1</td>\n",
       "      <td>-1</td>\n",
       "    </tr>\n",
       "    <tr>\n",
       "      <th>1</th>\n",
       "      <td>0000247867823ef7</td>\n",
       "      <td>-1</td>\n",
       "      <td>-1</td>\n",
       "      <td>-1</td>\n",
       "      <td>-1</td>\n",
       "      <td>-1</td>\n",
       "      <td>-1</td>\n",
       "    </tr>\n",
       "    <tr>\n",
       "      <th>2</th>\n",
       "      <td>00013b17ad220c46</td>\n",
       "      <td>-1</td>\n",
       "      <td>-1</td>\n",
       "      <td>-1</td>\n",
       "      <td>-1</td>\n",
       "      <td>-1</td>\n",
       "      <td>-1</td>\n",
       "    </tr>\n",
       "    <tr>\n",
       "      <th>3</th>\n",
       "      <td>00017563c3f7919a</td>\n",
       "      <td>-1</td>\n",
       "      <td>-1</td>\n",
       "      <td>-1</td>\n",
       "      <td>-1</td>\n",
       "      <td>-1</td>\n",
       "      <td>-1</td>\n",
       "    </tr>\n",
       "    <tr>\n",
       "      <th>4</th>\n",
       "      <td>00017695ad8997eb</td>\n",
       "      <td>-1</td>\n",
       "      <td>-1</td>\n",
       "      <td>-1</td>\n",
       "      <td>-1</td>\n",
       "      <td>-1</td>\n",
       "      <td>-1</td>\n",
       "    </tr>\n",
       "  </tbody>\n",
       "</table>\n",
       "</div>"
      ],
      "text/plain": [
       "                 id  toxic  severe_toxic  obscene  threat  insult  \\\n",
       "0  00001cee341fdb12     -1            -1       -1      -1      -1   \n",
       "1  0000247867823ef7     -1            -1       -1      -1      -1   \n",
       "2  00013b17ad220c46     -1            -1       -1      -1      -1   \n",
       "3  00017563c3f7919a     -1            -1       -1      -1      -1   \n",
       "4  00017695ad8997eb     -1            -1       -1      -1      -1   \n",
       "\n",
       "   identity_hate  \n",
       "0             -1  \n",
       "1             -1  \n",
       "2             -1  \n",
       "3             -1  \n",
       "4             -1  "
      ]
     },
     "metadata": {},
     "output_type": "display_data"
    }
   ],
   "source": [
    "display(df_train.head())\n",
    "display(df_test_data.head())\n",
    "display(df_test_labels.head())"
   ]
  },
  {
   "cell_type": "code",
   "execution_count": 8,
   "metadata": {
    "ExecuteTime": {
     "end_time": "2021-04-15T00:17:54.707493Z",
     "start_time": "2021-04-15T00:17:54.567476Z"
    }
   },
   "outputs": [
    {
     "name": "stdout",
     "output_type": "stream",
     "text": [
      "df_test= 153164\n",
      "----------------------------------------------------------------------------------------------------\n"
     ]
    },
    {
     "data": {
      "text/html": [
       "<div>\n",
       "<style scoped>\n",
       "    .dataframe tbody tr th:only-of-type {\n",
       "        vertical-align: middle;\n",
       "    }\n",
       "\n",
       "    .dataframe tbody tr th {\n",
       "        vertical-align: top;\n",
       "    }\n",
       "\n",
       "    .dataframe thead th {\n",
       "        text-align: right;\n",
       "    }\n",
       "</style>\n",
       "<table border=\"1\" class=\"dataframe\">\n",
       "  <thead>\n",
       "    <tr style=\"text-align: right;\">\n",
       "      <th></th>\n",
       "      <th>id</th>\n",
       "      <th>comment_text</th>\n",
       "      <th>toxic</th>\n",
       "      <th>severe_toxic</th>\n",
       "      <th>obscene</th>\n",
       "      <th>threat</th>\n",
       "      <th>insult</th>\n",
       "      <th>identity_hate</th>\n",
       "    </tr>\n",
       "  </thead>\n",
       "  <tbody>\n",
       "    <tr>\n",
       "      <th>48769</th>\n",
       "      <td>50f2f081e55a5331</td>\n",
       "      <td>\" \\n ::The link in the reference takes you to ...</td>\n",
       "      <td>-1</td>\n",
       "      <td>-1</td>\n",
       "      <td>-1</td>\n",
       "      <td>-1</td>\n",
       "      <td>-1</td>\n",
       "      <td>-1</td>\n",
       "    </tr>\n",
       "    <tr>\n",
       "      <th>147212</th>\n",
       "      <td>f61578cf00908839</td>\n",
       "      <td>:OK, Dr. Blofeld, first off I'd like to thank ...</td>\n",
       "      <td>-1</td>\n",
       "      <td>-1</td>\n",
       "      <td>-1</td>\n",
       "      <td>-1</td>\n",
       "      <td>-1</td>\n",
       "      <td>-1</td>\n",
       "    </tr>\n",
       "    <tr>\n",
       "      <th>141768</th>\n",
       "      <td>ed01689cbce9b4f2</td>\n",
       "      <td>\" \\n\\n == Grammar/style == \\n\\n \"\"A member of ...</td>\n",
       "      <td>-1</td>\n",
       "      <td>-1</td>\n",
       "      <td>-1</td>\n",
       "      <td>-1</td>\n",
       "      <td>-1</td>\n",
       "      <td>-1</td>\n",
       "    </tr>\n",
       "    <tr>\n",
       "      <th>79399</th>\n",
       "      <td>8482b3ab702edaac</td>\n",
       "      <td>\":Suppose Ivan Ivanovitch was born 6 January 1...</td>\n",
       "      <td>-1</td>\n",
       "      <td>-1</td>\n",
       "      <td>-1</td>\n",
       "      <td>-1</td>\n",
       "      <td>-1</td>\n",
       "      <td>-1</td>\n",
       "    </tr>\n",
       "    <tr>\n",
       "      <th>61594</th>\n",
       "      <td>6688ee5cfa1a0efa</td>\n",
       "      <td>\"Siegel Center/Rowdy Rams \\n\\n The \"\"You Suck\"...</td>\n",
       "      <td>0</td>\n",
       "      <td>0</td>\n",
       "      <td>0</td>\n",
       "      <td>0</td>\n",
       "      <td>0</td>\n",
       "      <td>0</td>\n",
       "    </tr>\n",
       "  </tbody>\n",
       "</table>\n",
       "</div>"
      ],
      "text/plain": [
       "                      id                                       comment_text  \\\n",
       "48769   50f2f081e55a5331  \" \\n ::The link in the reference takes you to ...   \n",
       "147212  f61578cf00908839  :OK, Dr. Blofeld, first off I'd like to thank ...   \n",
       "141768  ed01689cbce9b4f2  \" \\n\\n == Grammar/style == \\n\\n \"\"A member of ...   \n",
       "79399   8482b3ab702edaac  \":Suppose Ivan Ivanovitch was born 6 January 1...   \n",
       "61594   6688ee5cfa1a0efa  \"Siegel Center/Rowdy Rams \\n\\n The \"\"You Suck\"...   \n",
       "\n",
       "        toxic  severe_toxic  obscene  threat  insult  identity_hate  \n",
       "48769      -1            -1       -1      -1      -1             -1  \n",
       "147212     -1            -1       -1      -1      -1             -1  \n",
       "141768     -1            -1       -1      -1      -1             -1  \n",
       "79399      -1            -1       -1      -1      -1             -1  \n",
       "61594       0             0        0       0       0              0  "
      ]
     },
     "metadata": {},
     "output_type": "display_data"
    }
   ],
   "source": [
    "df_test = df_test_data.join(df_test_labels.set_index('id'), on='id')\n",
    "print('df_test=', len(df_test))\n",
    "print('-'*100) \n",
    "display(df_test.sample(5))"
   ]
  },
  {
   "cell_type": "code",
   "execution_count": 9,
   "metadata": {
    "ExecuteTime": {
     "end_time": "2021-04-15T00:17:54.782405Z",
     "start_time": "2021-04-15T00:17:54.710185Z"
    }
   },
   "outputs": [
    {
     "name": "stdout",
     "output_type": "stream",
     "text": [
      "df_test= 63978\n",
      "----------------------------------------------------------------------------------------------------\n"
     ]
    },
    {
     "data": {
      "text/html": [
       "<div>\n",
       "<style scoped>\n",
       "    .dataframe tbody tr th:only-of-type {\n",
       "        vertical-align: middle;\n",
       "    }\n",
       "\n",
       "    .dataframe tbody tr th {\n",
       "        vertical-align: top;\n",
       "    }\n",
       "\n",
       "    .dataframe thead th {\n",
       "        text-align: right;\n",
       "    }\n",
       "</style>\n",
       "<table border=\"1\" class=\"dataframe\">\n",
       "  <thead>\n",
       "    <tr style=\"text-align: right;\">\n",
       "      <th></th>\n",
       "      <th>id</th>\n",
       "      <th>comment_text</th>\n",
       "      <th>toxic</th>\n",
       "      <th>severe_toxic</th>\n",
       "      <th>obscene</th>\n",
       "      <th>threat</th>\n",
       "      <th>insult</th>\n",
       "      <th>identity_hate</th>\n",
       "    </tr>\n",
       "  </thead>\n",
       "  <tbody>\n",
       "    <tr>\n",
       "      <th>124646</th>\n",
       "      <td>d03b356fab0fd514</td>\n",
       "      <td>:Socrates2008 has again reverted the removal o...</td>\n",
       "      <td>0</td>\n",
       "      <td>0</td>\n",
       "      <td>0</td>\n",
       "      <td>0</td>\n",
       "      <td>0</td>\n",
       "      <td>0</td>\n",
       "    </tr>\n",
       "    <tr>\n",
       "      <th>26927</th>\n",
       "      <td>2ccd6e9ad6f50094</td>\n",
       "      <td>:In answer to your apparent question, yes, I a...</td>\n",
       "      <td>1</td>\n",
       "      <td>0</td>\n",
       "      <td>0</td>\n",
       "      <td>0</td>\n",
       "      <td>1</td>\n",
       "      <td>0</td>\n",
       "    </tr>\n",
       "    <tr>\n",
       "      <th>121054</th>\n",
       "      <td>ca1f59013bc0f1f7</td>\n",
       "      <td>\" \\n\\n ==Reply== \\n I dont know how to work it...</td>\n",
       "      <td>0</td>\n",
       "      <td>0</td>\n",
       "      <td>0</td>\n",
       "      <td>0</td>\n",
       "      <td>0</td>\n",
       "      <td>0</td>\n",
       "    </tr>\n",
       "    <tr>\n",
       "      <th>58276</th>\n",
       "      <td>60ef3fcef7e80d5e</td>\n",
       "      <td>|decline=no reason to unblock, you are clearly...</td>\n",
       "      <td>0</td>\n",
       "      <td>0</td>\n",
       "      <td>0</td>\n",
       "      <td>0</td>\n",
       "      <td>0</td>\n",
       "      <td>0</td>\n",
       "    </tr>\n",
       "    <tr>\n",
       "      <th>66844</th>\n",
       "      <td>6f4d9e109eebc615</td>\n",
       "      <td>== Amateur vs Pro Wrestling == \\n\\n The articl...</td>\n",
       "      <td>0</td>\n",
       "      <td>0</td>\n",
       "      <td>0</td>\n",
       "      <td>0</td>\n",
       "      <td>0</td>\n",
       "      <td>0</td>\n",
       "    </tr>\n",
       "  </tbody>\n",
       "</table>\n",
       "</div>"
      ],
      "text/plain": [
       "                      id                                       comment_text  \\\n",
       "124646  d03b356fab0fd514  :Socrates2008 has again reverted the removal o...   \n",
       "26927   2ccd6e9ad6f50094  :In answer to your apparent question, yes, I a...   \n",
       "121054  ca1f59013bc0f1f7  \" \\n\\n ==Reply== \\n I dont know how to work it...   \n",
       "58276   60ef3fcef7e80d5e  |decline=no reason to unblock, you are clearly...   \n",
       "66844   6f4d9e109eebc615  == Amateur vs Pro Wrestling == \\n\\n The articl...   \n",
       "\n",
       "        toxic  severe_toxic  obscene  threat  insult  identity_hate  \n",
       "124646      0             0        0       0       0              0  \n",
       "26927       1             0        0       0       1              0  \n",
       "121054      0             0        0       0       0              0  \n",
       "58276       0             0        0       0       0              0  \n",
       "66844       0             0        0       0       0              0  "
      ]
     },
     "metadata": {},
     "output_type": "display_data"
    }
   ],
   "source": [
    "df_test = df_test.loc[df_test[params.classes].max(axis=1)>=0]\n",
    "\n",
    "print('df_test=', len(df_test))\n",
    "print('-'*100) \n",
    "display(df_test.sample(5))"
   ]
  },
  {
   "cell_type": "markdown",
   "metadata": {},
   "source": [
    "看了一些kaggle上别人的模型，看上去他们那时候的数据集时直接把训练数据拆分的。"
   ]
  },
  {
   "cell_type": "code",
   "execution_count": 10,
   "metadata": {
    "ExecuteTime": {
     "end_time": "2021-04-15T00:17:54.863106Z",
     "start_time": "2021-04-15T00:17:54.784537Z"
    }
   },
   "outputs": [],
   "source": [
    "df_train, df_test = train_test_split(df_train, test_size=0.05, random_state=233)\n",
    "\n"
   ]
  },
  {
   "cell_type": "code",
   "execution_count": 11,
   "metadata": {
    "ExecuteTime": {
     "end_time": "2021-04-15T00:17:54.936486Z",
     "start_time": "2021-04-15T00:17:54.865351Z"
    }
   },
   "outputs": [
    {
     "name": "stdout",
     "output_type": "stream",
     "text": [
      "----------------------------------------------------------------------------------------------------\n",
      "df_train= 151592\n",
      "----------------------------------------------------------------------------------------------------\n",
      "df_test 7979\n"
     ]
    },
    {
     "data": {
      "text/html": [
       "<div>\n",
       "<style scoped>\n",
       "    .dataframe tbody tr th:only-of-type {\n",
       "        vertical-align: middle;\n",
       "    }\n",
       "\n",
       "    .dataframe tbody tr th {\n",
       "        vertical-align: top;\n",
       "    }\n",
       "\n",
       "    .dataframe thead th {\n",
       "        text-align: right;\n",
       "    }\n",
       "</style>\n",
       "<table border=\"1\" class=\"dataframe\">\n",
       "  <thead>\n",
       "    <tr style=\"text-align: right;\">\n",
       "      <th></th>\n",
       "      <th>id</th>\n",
       "      <th>comment_text</th>\n",
       "      <th>toxic</th>\n",
       "      <th>severe_toxic</th>\n",
       "      <th>obscene</th>\n",
       "      <th>threat</th>\n",
       "      <th>insult</th>\n",
       "      <th>identity_hate</th>\n",
       "    </tr>\n",
       "  </thead>\n",
       "  <tbody>\n",
       "    <tr>\n",
       "      <th>138982</th>\n",
       "      <td>e7c407179eebc323</td>\n",
       "      <td>\"\\n\\n ]]Ozymandias\\nPercy Bysshe Shelley, 1792...</td>\n",
       "      <td>0</td>\n",
       "      <td>0</td>\n",
       "      <td>0</td>\n",
       "      <td>0</td>\n",
       "      <td>0</td>\n",
       "      <td>0</td>\n",
       "    </tr>\n",
       "    <tr>\n",
       "      <th>14454</th>\n",
       "      <td>262d4d61e18ea100</td>\n",
       "      <td>\"\\nI have just used the wayback machine well s...</td>\n",
       "      <td>0</td>\n",
       "      <td>0</td>\n",
       "      <td>0</td>\n",
       "      <td>0</td>\n",
       "      <td>0</td>\n",
       "      <td>0</td>\n",
       "    </tr>\n",
       "    <tr>\n",
       "      <th>82556</th>\n",
       "      <td>dcd904f58dfdd13f</td>\n",
       "      <td>Hulk (comics)==\\nWe need your help. The persis...</td>\n",
       "      <td>0</td>\n",
       "      <td>0</td>\n",
       "      <td>0</td>\n",
       "      <td>0</td>\n",
       "      <td>0</td>\n",
       "      <td>0</td>\n",
       "    </tr>\n",
       "    <tr>\n",
       "      <th>54493</th>\n",
       "      <td>91a6cb38f262605c</td>\n",
       "      <td>\"\\nOops, my bad.  Here's the explanation.  Whe...</td>\n",
       "      <td>0</td>\n",
       "      <td>0</td>\n",
       "      <td>0</td>\n",
       "      <td>0</td>\n",
       "      <td>0</td>\n",
       "      <td>0</td>\n",
       "    </tr>\n",
       "    <tr>\n",
       "      <th>37394</th>\n",
       "      <td>63d7e8ea778ce621</td>\n",
       "      <td>Done. I infer he retired due to injury because...</td>\n",
       "      <td>0</td>\n",
       "      <td>0</td>\n",
       "      <td>0</td>\n",
       "      <td>0</td>\n",
       "      <td>0</td>\n",
       "      <td>0</td>\n",
       "    </tr>\n",
       "  </tbody>\n",
       "</table>\n",
       "</div>"
      ],
      "text/plain": [
       "                      id                                       comment_text  \\\n",
       "138982  e7c407179eebc323  \"\\n\\n ]]Ozymandias\\nPercy Bysshe Shelley, 1792...   \n",
       "14454   262d4d61e18ea100  \"\\nI have just used the wayback machine well s...   \n",
       "82556   dcd904f58dfdd13f  Hulk (comics)==\\nWe need your help. The persis...   \n",
       "54493   91a6cb38f262605c  \"\\nOops, my bad.  Here's the explanation.  Whe...   \n",
       "37394   63d7e8ea778ce621  Done. I infer he retired due to injury because...   \n",
       "\n",
       "        toxic  severe_toxic  obscene  threat  insult  identity_hate  \n",
       "138982      0             0        0       0       0              0  \n",
       "14454       0             0        0       0       0              0  \n",
       "82556       0             0        0       0       0              0  \n",
       "54493       0             0        0       0       0              0  \n",
       "37394       0             0        0       0       0              0  "
      ]
     },
     "metadata": {},
     "output_type": "display_data"
    },
    {
     "data": {
      "text/html": [
       "<div>\n",
       "<style scoped>\n",
       "    .dataframe tbody tr th:only-of-type {\n",
       "        vertical-align: middle;\n",
       "    }\n",
       "\n",
       "    .dataframe tbody tr th {\n",
       "        vertical-align: top;\n",
       "    }\n",
       "\n",
       "    .dataframe thead th {\n",
       "        text-align: right;\n",
       "    }\n",
       "</style>\n",
       "<table border=\"1\" class=\"dataframe\">\n",
       "  <thead>\n",
       "    <tr style=\"text-align: right;\">\n",
       "      <th></th>\n",
       "      <th>id</th>\n",
       "      <th>comment_text</th>\n",
       "      <th>toxic</th>\n",
       "      <th>severe_toxic</th>\n",
       "      <th>obscene</th>\n",
       "      <th>threat</th>\n",
       "      <th>insult</th>\n",
       "      <th>identity_hate</th>\n",
       "    </tr>\n",
       "  </thead>\n",
       "  <tbody>\n",
       "    <tr>\n",
       "      <th>19777</th>\n",
       "      <td>343fec7d793ee634</td>\n",
       "      <td>\"\\nActually my position is that Dummett being ...</td>\n",
       "      <td>0</td>\n",
       "      <td>0</td>\n",
       "      <td>0</td>\n",
       "      <td>0</td>\n",
       "      <td>0</td>\n",
       "      <td>0</td>\n",
       "    </tr>\n",
       "    <tr>\n",
       "      <th>85839</th>\n",
       "      <td>e59dfcd553a1604f</td>\n",
       "      <td>Why you delete my comment on Catholic Jihad? \\...</td>\n",
       "      <td>0</td>\n",
       "      <td>0</td>\n",
       "      <td>0</td>\n",
       "      <td>0</td>\n",
       "      <td>0</td>\n",
       "      <td>0</td>\n",
       "    </tr>\n",
       "    <tr>\n",
       "      <th>122914</th>\n",
       "      <td>918be13e3cf5cf4d</td>\n",
       "      <td>what my best friend says</td>\n",
       "      <td>0</td>\n",
       "      <td>0</td>\n",
       "      <td>0</td>\n",
       "      <td>0</td>\n",
       "      <td>0</td>\n",
       "      <td>0</td>\n",
       "    </tr>\n",
       "    <tr>\n",
       "      <th>85918</th>\n",
       "      <td>e5cced2b0b03dce8</td>\n",
       "      <td>\"\\n\\nWikipedia Regrets The Errors\\n\\nFrom June...</td>\n",
       "      <td>0</td>\n",
       "      <td>0</td>\n",
       "      <td>0</td>\n",
       "      <td>0</td>\n",
       "      <td>0</td>\n",
       "      <td>0</td>\n",
       "    </tr>\n",
       "    <tr>\n",
       "      <th>5387</th>\n",
       "      <td>0e5c79a45b238ed0</td>\n",
       "      <td>Not only is there a wholly reliable source ind...</td>\n",
       "      <td>0</td>\n",
       "      <td>0</td>\n",
       "      <td>0</td>\n",
       "      <td>0</td>\n",
       "      <td>0</td>\n",
       "      <td>0</td>\n",
       "    </tr>\n",
       "  </tbody>\n",
       "</table>\n",
       "</div>"
      ],
      "text/plain": [
       "                      id                                       comment_text  \\\n",
       "19777   343fec7d793ee634  \"\\nActually my position is that Dummett being ...   \n",
       "85839   e59dfcd553a1604f  Why you delete my comment on Catholic Jihad? \\...   \n",
       "122914  918be13e3cf5cf4d                           what my best friend says   \n",
       "85918   e5cced2b0b03dce8  \"\\n\\nWikipedia Regrets The Errors\\n\\nFrom June...   \n",
       "5387    0e5c79a45b238ed0  Not only is there a wholly reliable source ind...   \n",
       "\n",
       "        toxic  severe_toxic  obscene  threat  insult  identity_hate  \n",
       "19777       0             0        0       0       0              0  \n",
       "85839       0             0        0       0       0              0  \n",
       "122914      0             0        0       0       0              0  \n",
       "85918       0             0        0       0       0              0  \n",
       "5387        0             0        0       0       0              0  "
      ]
     },
     "metadata": {},
     "output_type": "display_data"
    }
   ],
   "source": [
    "print('-'*100) \n",
    "print('df_train=', len(df_train))\n",
    "print('-'*100) \n",
    "print('df_test', len(df_test))\n",
    "display(df_train.sample(5))\n",
    "display(df_test.sample(5))"
   ]
  },
  {
   "cell_type": "markdown",
   "metadata": {},
   "source": [
    "### 查看数据\n",
    "\n",
    "下面看一看实际的数据是啥样的。"
   ]
  },
  {
   "cell_type": "code",
   "execution_count": 12,
   "metadata": {
    "ExecuteTime": {
     "end_time": "2021-04-15T00:17:55.039868Z",
     "start_time": "2021-04-15T00:17:54.938815Z"
    },
    "scrolled": false
   },
   "outputs": [
    {
     "name": "stdout",
     "output_type": "stream",
     "text": [
      "----------------------------------------------------------------------------------------------------\n"
     ]
    },
    {
     "data": {
      "text/html": [
       "<div>\n",
       "<style scoped>\n",
       "    .dataframe tbody tr th:only-of-type {\n",
       "        vertical-align: middle;\n",
       "    }\n",
       "\n",
       "    .dataframe tbody tr th {\n",
       "        vertical-align: top;\n",
       "    }\n",
       "\n",
       "    .dataframe thead th {\n",
       "        text-align: right;\n",
       "    }\n",
       "</style>\n",
       "<table border=\"1\" class=\"dataframe\">\n",
       "  <thead>\n",
       "    <tr style=\"text-align: right;\">\n",
       "      <th></th>\n",
       "      <th>toxic</th>\n",
       "      <th>severe_toxic</th>\n",
       "      <th>obscene</th>\n",
       "      <th>threat</th>\n",
       "      <th>insult</th>\n",
       "      <th>identity_hate</th>\n",
       "    </tr>\n",
       "  </thead>\n",
       "  <tbody>\n",
       "    <tr>\n",
       "      <th>73424</th>\n",
       "      <td>0</td>\n",
       "      <td>0</td>\n",
       "      <td>0</td>\n",
       "      <td>0</td>\n",
       "      <td>0</td>\n",
       "      <td>0</td>\n",
       "    </tr>\n",
       "  </tbody>\n",
       "</table>\n",
       "</div>"
      ],
      "text/plain": [
       "      toxic severe_toxic obscene threat insult identity_hate\n",
       "73424     0            0       0      0      0             0"
      ]
     },
     "metadata": {},
     "output_type": "display_data"
    },
    {
     "name": "stdout",
     "output_type": "stream",
     "text": [
      "\"For clarity, does \"\"maths topics ... should be avoided\"\" constitute a topic ban or advice? - strong advice. I'll unblock you now, if you agree to follow it   \n",
      "\n",
      "\"\n",
      "----------------------------------------------------------------------------------------------------\n"
     ]
    },
    {
     "data": {
      "text/html": [
       "<div>\n",
       "<style scoped>\n",
       "    .dataframe tbody tr th:only-of-type {\n",
       "        vertical-align: middle;\n",
       "    }\n",
       "\n",
       "    .dataframe tbody tr th {\n",
       "        vertical-align: top;\n",
       "    }\n",
       "\n",
       "    .dataframe thead th {\n",
       "        text-align: right;\n",
       "    }\n",
       "</style>\n",
       "<table border=\"1\" class=\"dataframe\">\n",
       "  <thead>\n",
       "    <tr style=\"text-align: right;\">\n",
       "      <th></th>\n",
       "      <th>toxic</th>\n",
       "      <th>severe_toxic</th>\n",
       "      <th>obscene</th>\n",
       "      <th>threat</th>\n",
       "      <th>insult</th>\n",
       "      <th>identity_hate</th>\n",
       "    </tr>\n",
       "  </thead>\n",
       "  <tbody>\n",
       "    <tr>\n",
       "      <th>5802</th>\n",
       "      <td>0</td>\n",
       "      <td>0</td>\n",
       "      <td>0</td>\n",
       "      <td>0</td>\n",
       "      <td>0</td>\n",
       "      <td>0</td>\n",
       "    </tr>\n",
       "  </tbody>\n",
       "</table>\n",
       "</div>"
      ],
      "text/plain": [
       "     toxic severe_toxic obscene threat insult identity_hate\n",
       "5802     0            0       0      0      0             0"
      ]
     },
     "metadata": {},
     "output_type": "display_data"
    },
    {
     "name": "stdout",
     "output_type": "stream",
     "text": [
      "Thank you, I did. The point is not the content of the edit but the arbitrary way you decided to make it.\n",
      "----------------------------------------------------------------------------------------------------\n"
     ]
    },
    {
     "data": {
      "text/html": [
       "<div>\n",
       "<style scoped>\n",
       "    .dataframe tbody tr th:only-of-type {\n",
       "        vertical-align: middle;\n",
       "    }\n",
       "\n",
       "    .dataframe tbody tr th {\n",
       "        vertical-align: top;\n",
       "    }\n",
       "\n",
       "    .dataframe thead th {\n",
       "        text-align: right;\n",
       "    }\n",
       "</style>\n",
       "<table border=\"1\" class=\"dataframe\">\n",
       "  <thead>\n",
       "    <tr style=\"text-align: right;\">\n",
       "      <th></th>\n",
       "      <th>toxic</th>\n",
       "      <th>severe_toxic</th>\n",
       "      <th>obscene</th>\n",
       "      <th>threat</th>\n",
       "      <th>insult</th>\n",
       "      <th>identity_hate</th>\n",
       "    </tr>\n",
       "  </thead>\n",
       "  <tbody>\n",
       "    <tr>\n",
       "      <th>127775</th>\n",
       "      <td>0</td>\n",
       "      <td>0</td>\n",
       "      <td>0</td>\n",
       "      <td>0</td>\n",
       "      <td>0</td>\n",
       "      <td>0</td>\n",
       "    </tr>\n",
       "  </tbody>\n",
       "</table>\n",
       "</div>"
      ],
      "text/plain": [
       "       toxic severe_toxic obscene threat insult identity_hate\n",
       "127775     0            0       0      0      0             0"
      ]
     },
     "metadata": {},
     "output_type": "display_data"
    },
    {
     "name": "stdout",
     "output_type": "stream",
     "text": [
      "\"\n",
      "\n",
      "\"\"Links\"\"\n",
      "All links from www.shakespeare-online.com are broken!\"\n",
      "----------------------------------------------------------------------------------------------------\n"
     ]
    },
    {
     "data": {
      "text/html": [
       "<div>\n",
       "<style scoped>\n",
       "    .dataframe tbody tr th:only-of-type {\n",
       "        vertical-align: middle;\n",
       "    }\n",
       "\n",
       "    .dataframe tbody tr th {\n",
       "        vertical-align: top;\n",
       "    }\n",
       "\n",
       "    .dataframe thead th {\n",
       "        text-align: right;\n",
       "    }\n",
       "</style>\n",
       "<table border=\"1\" class=\"dataframe\">\n",
       "  <thead>\n",
       "    <tr style=\"text-align: right;\">\n",
       "      <th></th>\n",
       "      <th>toxic</th>\n",
       "      <th>severe_toxic</th>\n",
       "      <th>obscene</th>\n",
       "      <th>threat</th>\n",
       "      <th>insult</th>\n",
       "      <th>identity_hate</th>\n",
       "    </tr>\n",
       "  </thead>\n",
       "  <tbody>\n",
       "    <tr>\n",
       "      <th>14710</th>\n",
       "      <td>0</td>\n",
       "      <td>0</td>\n",
       "      <td>0</td>\n",
       "      <td>0</td>\n",
       "      <td>0</td>\n",
       "      <td>0</td>\n",
       "    </tr>\n",
       "  </tbody>\n",
       "</table>\n",
       "</div>"
      ],
      "text/plain": [
       "      toxic severe_toxic obscene threat insult identity_hate\n",
       "14710     0            0       0      0      0             0"
      ]
     },
     "metadata": {},
     "output_type": "display_data"
    },
    {
     "name": "stdout",
     "output_type": "stream",
     "text": [
      "Look, what I have found.  Satish Jarkiholi -\n",
      "----------------------------------------------------------------------------------------------------\n"
     ]
    },
    {
     "data": {
      "text/html": [
       "<div>\n",
       "<style scoped>\n",
       "    .dataframe tbody tr th:only-of-type {\n",
       "        vertical-align: middle;\n",
       "    }\n",
       "\n",
       "    .dataframe tbody tr th {\n",
       "        vertical-align: top;\n",
       "    }\n",
       "\n",
       "    .dataframe thead th {\n",
       "        text-align: right;\n",
       "    }\n",
       "</style>\n",
       "<table border=\"1\" class=\"dataframe\">\n",
       "  <thead>\n",
       "    <tr style=\"text-align: right;\">\n",
       "      <th></th>\n",
       "      <th>toxic</th>\n",
       "      <th>severe_toxic</th>\n",
       "      <th>obscene</th>\n",
       "      <th>threat</th>\n",
       "      <th>insult</th>\n",
       "      <th>identity_hate</th>\n",
       "    </tr>\n",
       "  </thead>\n",
       "  <tbody>\n",
       "    <tr>\n",
       "      <th>41</th>\n",
       "      <td>0</td>\n",
       "      <td>0</td>\n",
       "      <td>0</td>\n",
       "      <td>0</td>\n",
       "      <td>0</td>\n",
       "      <td>0</td>\n",
       "    </tr>\n",
       "  </tbody>\n",
       "</table>\n",
       "</div>"
      ],
      "text/plain": [
       "   toxic severe_toxic obscene threat insult identity_hate\n",
       "41     0            0       0      0      0             0"
      ]
     },
     "metadata": {},
     "output_type": "display_data"
    },
    {
     "name": "stdout",
     "output_type": "stream",
     "text": [
      "TFD \n",
      "\n",
      "I think we just eced. I think we responded to each other without seeing each others responses. I added something in response to yours, but don't know if you saw mine. (T/C//WP:CHICAGO/WP:FOUR)\n"
     ]
    }
   ],
   "source": [
    "for i, row in df_train.sample(5).iterrows():\n",
    "    print('-'*100) \n",
    "    display(row.to_frame().T[params.classes]) \n",
    "    print(row[\"comment_text\"]) "
   ]
  },
  {
   "cell_type": "markdown",
   "metadata": {},
   "source": [
    "\n",
    "\n",
    "## 探索数据\n",
    "\n",
    "接下来，对把数据加载进内存，进行深入一些的探索。\n",
    "\n",
    "### 基本信息"
   ]
  },
  {
   "cell_type": "code",
   "execution_count": 13,
   "metadata": {
    "ExecuteTime": {
     "end_time": "2021-04-15T00:17:55.125604Z",
     "start_time": "2021-04-15T00:17:55.042202Z"
    }
   },
   "outputs": [
    {
     "name": "stdout",
     "output_type": "stream",
     "text": [
      "train_texts.length=151592, train_labels.shape=(151592, 6)\n",
      "test_texts.length=7979, test_labels.shape=(7979, 6)\n"
     ]
    }
   ],
   "source": [
    "def get_samples(texts, labels, rate):\n",
    "    indexs = np.arange(len(texts))\n",
    "    sample_indexs, _, sample_labels, _ = train_test_split(indexs, labels,                                                          \n",
    "                                                          test_size=1-rate,\n",
    "                                                          random_state=12)\n",
    "    sample_texts = [texts[index] for index in sample_indexs]\n",
    "    return sample_texts, sample_labels    \n",
    "\n",
    "def load_toxicity(df, classes=params.classes):\n",
    "    \n",
    "    texts = list(df['comment_text'])\n",
    "    labels = df[classes].to_numpy()\n",
    "\n",
    "    return texts, labels\n",
    "\n",
    "train_texts, train_labels = load_toxicity(df_train)\n",
    "test_texts, test_labels = load_toxicity(df_test)\n",
    "\n",
    "\n",
    "if params.sample_perecent<1:\n",
    "    train_texts, train_labels = get_samples(train_texts, train_labels, rate=params.sample_perecent)\n",
    "    test_texts, test_labels = get_samples(test_texts, test_labels, rate=params.sample_perecent)\n",
    "\n",
    "print('train_texts.length={}, train_labels.shape={}'.format(len(train_texts), train_labels.shape))\n",
    "print('test_texts.length={}, test_labels.shape={}'.format(len(test_texts), test_labels.shape))"
   ]
  },
  {
   "cell_type": "code",
   "execution_count": 14,
   "metadata": {
    "ExecuteTime": {
     "end_time": "2021-04-15T00:17:55.176929Z",
     "start_time": "2021-04-15T00:17:55.127699Z"
    }
   },
   "outputs": [
    {
     "data": {
      "text/plain": [
       "\"Misplaced article\\nI noticed that you began to write an article at Portal:Contents.\\nI have undone your edit there, because that page is one of the encyclopedia's main index pages. It is not a good place to submit content for the encyclopedia.\\nI suggest that you look at Wikipedia:Your first article and perhaps try again using the Article wizard.\""
      ]
     },
     "execution_count": 14,
     "metadata": {},
     "output_type": "execute_result"
    }
   ],
   "source": [
    "test_texts[0]"
   ]
  },
  {
   "cell_type": "markdown",
   "metadata": {},
   "source": [
    "### 类别分布\n",
    "\n",
    "下面统计以下每个类别分别有多少的评论。由于一个评论属于多个类别，所以各个类别汇总后的评论数要大于总评论数。"
   ]
  },
  {
   "cell_type": "code",
   "execution_count": 15,
   "metadata": {
    "ExecuteTime": {
     "end_time": "2021-04-15T00:17:55.241899Z",
     "start_time": "2021-04-15T00:17:55.178947Z"
    }
   },
   "outputs": [],
   "source": [
    "def get_distribution(labels):\n",
    "    no_label_count = sum([1 if max(label)==0 else 0 for label in labels])\n",
    "    labels_count = np.sum(labels, axis=0)\n",
    "    return np.append(labels_count, no_label_count)\n",
    "\n",
    "def plot_distribution(train_labels, test_labels, classes):\n",
    "    def plot_dist(bin_count, title, color='blue', width=0.7):\n",
    "        bin_percentage = bin_count / np.sum(bin_count)\n",
    "        rects = plt.bar(np.arange(len(bin_count)), bin_count, width, color=color)\n",
    "        plt.title(title)\n",
    "        if classes is None:\n",
    "            plt.xticks(range(len(bin_count)))\n",
    "        else:\n",
    "            plt.xticks(range(len(bin_count)), labels=classes, rotation=45)\n",
    "        plt.ylim(0, max(bin_count) * 1.1)\n",
    "\n",
    "        for i, r in enumerate(rects):\n",
    "            plt.annotate('{:0.1f}%'.format(int(bin_percentage[i] * 100)),\n",
    "                         xy=(r.get_x() + r.get_width() / 2, r.get_height()),\n",
    "                         xytext=(0, 3),  # 3 points vertical offset\n",
    "                         textcoords=\"offset points\",\n",
    "                         ha='center', va='bottom')\n",
    "    classes = [class_ for class_ in classes] + ['no_label'] \n",
    "    print(classes)\n",
    "    train_bin_count = get_distribution(train_labels)\n",
    "    test_bin_count = get_distribution(test_labels)\n",
    "    if len(classes) <= 10:\n",
    "        plt.figure(figsize=(min(4 * len(classes), 16), 4))\n",
    "        plt.subplot(121)\n",
    "        plot_dist(train_bin_count, 'Train', color='teal')\n",
    "        plt.subplot(122)\n",
    "        plot_dist(test_bin_count, 'Test', color='coral')\n",
    "    else:\n",
    "        plt.figure(figsize=(20, 12))\n",
    "        plt.subplot(211)\n",
    "        plot_dist(train_bin_count, 'Train', color='teal')\n",
    "        plt.subplot(212)\n",
    "        plot_dist(test_bin_count, 'Test', color='coral')\n",
    "    plt.show()"
   ]
  },
  {
   "cell_type": "code",
   "execution_count": 16,
   "metadata": {
    "ExecuteTime": {
     "end_time": "2021-04-15T00:17:56.084930Z",
     "start_time": "2021-04-15T00:17:55.244042Z"
    }
   },
   "outputs": [
    {
     "name": "stdout",
     "output_type": "stream",
     "text": [
      "['toxic', 'severe_toxic', 'obscene', 'threat', 'insult', 'identity_hate', 'no_label']\n"
     ]
    },
    {
     "data": {
      "image/png": "[encoded data removed]",
      "text/plain": [
       "<Figure size 1152x288 with 2 Axes>"
      ]
     },
     "metadata": {
      "needs_background": "light"
     },
     "output_type": "display_data"
    }
   ],
   "source": [
    "plot_distribution(train_labels, test_labels, params.classes)"
   ]
  },
  {
   "cell_type": "markdown",
   "metadata": {},
   "source": [
    "\n",
    "\n",
    "### 文本长度分布\n",
    "\n",
    "分析训练集和测试集的文本长度分布是否相似。"
   ]
  },
  {
   "cell_type": "code",
   "execution_count": 17,
   "metadata": {
    "ExecuteTime": {
     "end_time": "2021-04-15T00:17:58.646795Z",
     "start_time": "2021-04-15T00:17:56.087042Z"
    }
   },
   "outputs": [
    {
     "data": {
      "image/png": "[encoded data removed]",
      "text/plain": [
       "<Figure size 864x288 with 2 Axes>"
      ]
     },
     "metadata": {
      "needs_background": "light"
     },
     "output_type": "display_data"
    },
    {
     "name": "stdout",
     "output_type": "stream",
     "text": [
      "train：mean=67.36 variance=9872.86\n",
      "test：mean=65.68 variance=9346.42\n"
     ]
    }
   ],
   "source": [
    "train_text_lengths = [len(s.split()) for s in train_texts]\n",
    "test_text_lengths = [len(s.split()) for s in test_texts]\n",
    "plot_length_distribution(train_text_lengths, test_text_lengths)\n",
    "\n",
    "print('train：mean={:0.2f} variance={:0.2f}'.format(np.mean(train_text_lengths), \n",
    "                                                    np.var(train_text_lengths)))\n",
    "print('test：mean={:0.2f} variance={:0.2f}'.format(np.mean(test_text_lengths), \n",
    "                                                   np.var(test_text_lengths)))"
   ]
  },
  {
   "cell_type": "markdown",
   "metadata": {},
   "source": [
    "\n",
    "\n",
    "通过图形，中位数，均值和方差的比较，可以认为训练集和测试集文本长度的分布是非常相似的。下面用卡方检验来比较训练集和测试集是否有显著差异。"
   ]
  },
  {
   "cell_type": "code",
   "execution_count": 18,
   "metadata": {
    "ExecuteTime": {
     "end_time": "2021-04-15T00:17:58.917525Z",
     "start_time": "2021-04-15T00:17:58.648940Z"
    }
   },
   "outputs": [
    {
     "name": "stdout",
     "output_type": "stream",
     "text": [
      "------------------------- Observed -------------------------\n"
     ]
    },
    {
     "data": {
      "text/html": [
       "<div>\n",
       "<style scoped>\n",
       "    .dataframe tbody tr th:only-of-type {\n",
       "        vertical-align: middle;\n",
       "    }\n",
       "\n",
       "    .dataframe tbody tr th {\n",
       "        vertical-align: top;\n",
       "    }\n",
       "\n",
       "    .dataframe thead th {\n",
       "        text-align: right;\n",
       "    }\n",
       "</style>\n",
       "<table border=\"1\" class=\"dataframe\">\n",
       "  <thead>\n",
       "    <tr style=\"text-align: right;\">\n",
       "      <th></th>\n",
       "      <th>0-99</th>\n",
       "      <th>100-199</th>\n",
       "      <th>200-299</th>\n",
       "      <th>300-399</th>\n",
       "      <th>400-499</th>\n",
       "      <th>500-599</th>\n",
       "      <th>600-699</th>\n",
       "      <th>700-799</th>\n",
       "      <th>800+</th>\n",
       "      <th>合计</th>\n",
       "    </tr>\n",
       "    <tr>\n",
       "      <th></th>\n",
       "      <th></th>\n",
       "      <th></th>\n",
       "      <th></th>\n",
       "      <th></th>\n",
       "      <th></th>\n",
       "      <th></th>\n",
       "      <th></th>\n",
       "      <th></th>\n",
       "      <th></th>\n",
       "      <th></th>\n",
       "    </tr>\n",
       "  </thead>\n",
       "  <tbody>\n",
       "    <tr>\n",
       "      <th>test</th>\n",
       "      <td>6609</td>\n",
       "      <td>872</td>\n",
       "      <td>283</td>\n",
       "      <td>76</td>\n",
       "      <td>42</td>\n",
       "      <td>33</td>\n",
       "      <td>29</td>\n",
       "      <td>19</td>\n",
       "      <td>16</td>\n",
       "      <td>7979</td>\n",
       "    </tr>\n",
       "    <tr>\n",
       "      <th>train</th>\n",
       "      <td>124400</td>\n",
       "      <td>17522</td>\n",
       "      <td>5032</td>\n",
       "      <td>1770</td>\n",
       "      <td>897</td>\n",
       "      <td>624</td>\n",
       "      <td>558</td>\n",
       "      <td>481</td>\n",
       "      <td>308</td>\n",
       "      <td>151592</td>\n",
       "    </tr>\n",
       "    <tr>\n",
       "      <th>合计</th>\n",
       "      <td>131009</td>\n",
       "      <td>18394</td>\n",
       "      <td>5315</td>\n",
       "      <td>1846</td>\n",
       "      <td>939</td>\n",
       "      <td>657</td>\n",
       "      <td>587</td>\n",
       "      <td>500</td>\n",
       "      <td>324</td>\n",
       "      <td>159571</td>\n",
       "    </tr>\n",
       "  </tbody>\n",
       "</table>\n",
       "</div>"
      ],
      "text/plain": [
       "         0-99  100-199  200-299  300-399  400-499  500-599  600-699  700-799  \\\n",
       "                                                                               \n",
       "test     6609      872      283       76       42       33       29       19   \n",
       "train  124400    17522     5032     1770      897      624      558      481   \n",
       "合计     131009    18394     5315     1846      939      657      587      500   \n",
       "\n",
       "       800+      合计  \n",
       "                     \n",
       "test     16    7979  \n",
       "train   308  151592  \n",
       "合计      324  159571  "
      ]
     },
     "metadata": {},
     "output_type": "display_data"
    },
    {
     "name": "stdout",
     "output_type": "stream",
     "text": [
      "------------------------- Expected -------------------------\n"
     ]
    },
    {
     "data": {
      "text/html": [
       "<div>\n",
       "<style scoped>\n",
       "    .dataframe tbody tr th:only-of-type {\n",
       "        vertical-align: middle;\n",
       "    }\n",
       "\n",
       "    .dataframe tbody tr th {\n",
       "        vertical-align: top;\n",
       "    }\n",
       "\n",
       "    .dataframe thead th {\n",
       "        text-align: right;\n",
       "    }\n",
       "</style>\n",
       "<table border=\"1\" class=\"dataframe\">\n",
       "  <thead>\n",
       "    <tr style=\"text-align: right;\">\n",
       "      <th></th>\n",
       "      <th>0-99</th>\n",
       "      <th>100-199</th>\n",
       "      <th>200-299</th>\n",
       "      <th>300-399</th>\n",
       "      <th>400-499</th>\n",
       "      <th>500-599</th>\n",
       "      <th>600-699</th>\n",
       "      <th>700-799</th>\n",
       "      <th>800+</th>\n",
       "      <th>合计</th>\n",
       "    </tr>\n",
       "    <tr>\n",
       "      <th></th>\n",
       "      <th></th>\n",
       "      <th></th>\n",
       "      <th></th>\n",
       "      <th></th>\n",
       "      <th></th>\n",
       "      <th></th>\n",
       "      <th></th>\n",
       "      <th></th>\n",
       "      <th></th>\n",
       "      <th></th>\n",
       "    </tr>\n",
       "  </thead>\n",
       "  <tbody>\n",
       "    <tr>\n",
       "      <th>test</th>\n",
       "      <td>6550.819453</td>\n",
       "      <td>919.751872</td>\n",
       "      <td>265.764989</td>\n",
       "      <td>92.305206</td>\n",
       "      <td>46.952648</td>\n",
       "      <td>32.851853</td>\n",
       "      <td>29.351655</td>\n",
       "      <td>25.00141</td>\n",
       "      <td>16.200914</td>\n",
       "      <td>7979.0</td>\n",
       "    </tr>\n",
       "    <tr>\n",
       "      <th>train</th>\n",
       "      <td>124458.180547</td>\n",
       "      <td>17474.248128</td>\n",
       "      <td>5049.235011</td>\n",
       "      <td>1753.694794</td>\n",
       "      <td>892.047352</td>\n",
       "      <td>624.148147</td>\n",
       "      <td>557.648345</td>\n",
       "      <td>474.99859</td>\n",
       "      <td>307.799086</td>\n",
       "      <td>151592.0</td>\n",
       "    </tr>\n",
       "    <tr>\n",
       "      <th>合计</th>\n",
       "      <td>131009.000000</td>\n",
       "      <td>18394.000000</td>\n",
       "      <td>5315.000000</td>\n",
       "      <td>1846.000000</td>\n",
       "      <td>939.000000</td>\n",
       "      <td>657.000000</td>\n",
       "      <td>587.000000</td>\n",
       "      <td>500.00000</td>\n",
       "      <td>324.000000</td>\n",
       "      <td>159571.0</td>\n",
       "    </tr>\n",
       "  </tbody>\n",
       "</table>\n",
       "</div>"
      ],
      "text/plain": [
       "                0-99       100-199      200-299      300-399     400-499  \\\n",
       "                                                                           \n",
       "test     6550.819453    919.751872   265.764989    92.305206   46.952648   \n",
       "train  124458.180547  17474.248128  5049.235011  1753.694794  892.047352   \n",
       "合计     131009.000000  18394.000000  5315.000000  1846.000000  939.000000   \n",
       "\n",
       "          500-599     600-699    700-799        800+        合计  \n",
       "                                                                \n",
       "test    32.851853   29.351655   25.00141   16.200914    7979.0  \n",
       "train  624.148147  557.648345  474.99859  307.799086  151592.0  \n",
       "合计     657.000000  587.000000  500.00000  324.000000  159571.0  "
      ]
     },
     "metadata": {},
     "output_type": "display_data"
    }
   ],
   "source": [
    "def process_length(lengths):\n",
    "    cut_points = [0,99,199,299,399,499,599,699,799,10000]\n",
    "    labels = [\"0-99\",\"100-199\",\"200-299\",\"300-399\",\"400-499\",\"500-599\", \"600-699\",\"700-799\",\"800+\"]\n",
    "    return pd.cut(lengths, cut_points, labels=labels)\n",
    "\n",
    "def get_observed(df, column1, column2):\n",
    "    df_observed = pd.crosstab(\n",
    "        df[column1],\n",
    "        df[column2]\n",
    "    )    \n",
    "    return df_observed\n",
    "    \n",
    "def get_expected(df_observed):\n",
    "    observed = df_observed.to_numpy()\n",
    "    reduce_row = observed.sum(axis=0, keepdims=True)/observed.sum()\n",
    "    reduce_col = observed.sum(axis=1, keepdims=True)\n",
    "\n",
    "    expected = reduce_col.dot(reduce_row)\n",
    "    df_expected = pd.DataFrame(expected, index=df_observed.index, columns=df_observed.columns)\n",
    "    return df_expected\n",
    "  \n",
    "def show_sum(df):\n",
    "    df.columns =  df.columns.tolist()  \n",
    "    df = df.reset_index()\n",
    "    s = df.melt(df.columns[0], var_name=' ')\n",
    "    ct = pd.crosstab(index=s[df.columns[0]], columns=s.iloc[:,1], values=s.value, \n",
    "                     aggfunc='sum', margins=True, margins_name='合计',\n",
    "                     rownames=[''], \n",
    "               ) \n",
    "    display(ct)\n",
    "    \n",
    "length = train_text_lengths + test_text_lengths\n",
    "dataset = ['train']*len(train_text_lengths) + ['test']*len(test_text_lengths)\n",
    "\n",
    "df_length = pd.DataFrame({\"dataset\":dataset, \"length\":length})\n",
    "df_length['len'] = process_length(length)\n",
    "df_observed = get_observed(df_length, 'dataset', 'len')\n",
    "# display(df_length)\n",
    "\n",
    "print('-'*25, 'Observed', '-'*25)\n",
    "show_sum(df_observed)\n",
    "\n",
    "print('-'*25, 'Expected', '-'*25)\n",
    "df_expected = get_expected(df_observed)\n",
    "show_sum(df_expected)"
   ]
  },
  {
   "cell_type": "markdown",
   "metadata": {},
   "source": [
    "\n",
    "\n",
    "然后进行卡方检验。可以看到p_value>0.05，所以接受原假设——数据集来源和文本长度是独立的，也就是说接受训练集和测试集是是相似的分布。"
   ]
  },
  {
   "cell_type": "code",
   "execution_count": 19,
   "metadata": {
    "ExecuteTime": {
     "end_time": "2021-04-15T00:17:58.969722Z",
     "start_time": "2021-04-15T00:17:58.919626Z"
    }
   },
   "outputs": [
    {
     "name": "stdout",
     "output_type": "stream",
     "text": [
      "chi_squared_stat = 9.436054249482249\n",
      "critical_value = 15.50731305586545\n",
      "p_value = 0.3068556587694957\n"
     ]
    }
   ],
   "source": [
    "observed = df_observed.to_numpy()\n",
    "expected = df_expected.to_numpy()\n",
    "\n",
    "chi_squared_stat = ((observed-expected)**2/expected).sum()\n",
    "print('chi_squared_stat =', chi_squared_stat)\n",
    "\n",
    "df = np.prod(np.array(observed.shape) - 1)\n",
    "critical_value  = stats.chi2.ppf(q=0.95, df=df)  #0.95:置信水平, df:自由度\n",
    "print('critical_value =', critical_value)        #临界值:拒绝域的边界, 当卡方值大于临界值，则原假设不成立，备择假设成立\n",
    "\n",
    "p_value = 1 - stats.chi2.cdf(x=chi_squared_stat, df=df)\n",
    "print('p_value =', p_value)"
   ]
  },
  {
   "cell_type": "markdown",
   "metadata": {},
   "source": [
    "\n",
    "\n",
    "### 词频分布\n",
    "\n",
    "分析训练集和测试集的词频分布是否相似。下面代码中，去除了一些stopwords。"
   ]
  },
  {
   "cell_type": "code",
   "execution_count": 20,
   "metadata": {
    "ExecuteTime": {
     "end_time": "2021-04-15T00:18:12.126812Z",
     "start_time": "2021-04-15T00:17:58.971766Z"
    }
   },
   "outputs": [
    {
     "data": {
      "image/png": "[encoded data removed]",
      "text/plain": [
       "<Figure size 1152x864 with 2 Axes>"
      ]
     },
     "metadata": {
      "needs_background": "light"
     },
     "output_type": "display_data"
    }
   ],
   "source": [
    "plot_frequency_distribution(train_texts, test_texts)"
   ]
  },
  {
   "cell_type": "markdown",
   "metadata": {},
   "source": [
    "![image-20201217134151280](images/image-20201217134151280.png)"
   ]
  },
  {
   "cell_type": "code",
   "execution_count": 21,
   "metadata": {
    "ExecuteTime": {
     "end_time": "2021-04-15T00:18:15.617641Z",
     "start_time": "2021-04-15T00:18:12.129008Z"
    }
   },
   "outputs": [
    {
     "name": "stdout",
     "output_type": "stream",
     "text": [
      "Number of Vocabulary: 532299\n",
      "Number of Vocabulary: 19973\n"
     ]
    }
   ],
   "source": [
    "word_counter = Counter()\n",
    "for s in train_texts:\n",
    "    word_counter.update(s.split())\n",
    "for s in test_texts:\n",
    "    word_counter.update(s.split())   \n",
    "\n",
    "print('Number of Vocabulary: {}'.format(len(word_counter)))\n",
    "\n",
    "for word in list(word_counter):\n",
    "    if word_counter[word]<25: word_counter.pop(word)\n",
    "        \n",
    "print('Number of Vocabulary: {}'.format(len(word_counter)))"
   ]
  },
  {
   "cell_type": "markdown",
   "metadata": {},
   "source": [
    "\n",
    "\n",
    "上面可以看到词频大于等于100次的词汇有7706个。\n",
    "\n",
    "## 准备数据\n",
    "\n",
    "不同的模型需要准备不同的数据，所以徐要确定一下要构建哪种模型。\n",
    "\n",
    "### 模型选择\n",
    "\n",
    "下图是google在两年前提出一个选择流程图。\n",
    "\n",
    "![image-20201217135347743](images/image-20201217135347743.png)\n",
    "\n",
    "1. Calculate the number of samples/number of words per sample ratio.\n",
    "2. If this ratio is less than 1500, tokenize the text as n-grams and use a simple multi-layer perceptron (MLP) model to classify them (left branch in the flowchart below):\n",
    "   a. Split the samples into word n-grams; convert the n-grams into vectors.\n",
    "     b. Score the importance of the vectors and then select the top 20K using the scores.\n",
    "   c. Build an MLP model.\n",
    "3. If the ratio is greater than 1500, tokenize the text as sequences and use a sepCNN model to classify them (right branch in the flowchart below):\n",
    "   a. Split the samples into words; select the top 20K words based on their frequency.\n",
    "   b. Convert the samples into word sequence vectors.\n",
    "   c. If the original number of samples/number of words per sample ratio is less   than 15K, using a fine-tuned pre-trained embedding with the sepCNN  model will likely provide the best results.\n",
    "4. Measure the model performance with different hyperparameter values to find\n",
    "   the best model configuration for the dataset."
   ]
  },
  {
   "cell_type": "code",
   "execution_count": 22,
   "metadata": {
    "ExecuteTime": {
     "end_time": "2021-04-15T00:18:15.680600Z",
     "start_time": "2021-04-15T00:18:15.619654Z"
    }
   },
   "outputs": [
    {
     "name": "stdout",
     "output_type": "stream",
     "text": [
      "[the number of samples]/[number of words per sample] = 4210.9\n"
     ]
    }
   ],
   "source": [
    "length_median = np.median(train_text_lengths)\n",
    "train_number = len(train_texts)\n",
    "print (\"[the number of samples]/[number of words per sample] = {:0.1f}\".format(train_number/length_median))"
   ]
  },
  {
   "cell_type": "markdown",
   "metadata": {},
   "source": [
    "![image-20201217144321430](images/image-20201217144321430.png)\n",
    "\n",
    "可以看到这个比例大大小于143.7，所以我们从N-gram模型开始，但是同时我们也会为Sequence模型准备数据。数据准备有如下两个过程。\n",
    "\n",
    "- Tokenization：把文本转化成Token\n",
    "- Vectorization： 把Token变成Vector\n",
    "\n",
    "接下来，我们将分别为N-gram模型和Sequence模型准备数据。\n",
    "\n",
    "### N-gram\n",
    "\n",
    "在N-gram模型中，Tokenization一般使用unigrams + bigrams的方式把文本转成Token，而Vectorization过程，一般先统计Token的BOW（Bag of Words，词袋模型），然后采用tf-idf在对词频进行平衡。"
   ]
  },
  {
   "cell_type": "code",
   "execution_count": 23,
   "metadata": {
    "ExecuteTime": {
     "end_time": "2021-04-15T00:18:15.733892Z",
     "start_time": "2021-04-15T00:18:15.686588Z"
    }
   },
   "outputs": [
    {
     "data": {
      "text/plain": [
       "30000"
      ]
     },
     "execution_count": 23,
     "metadata": {},
     "output_type": "execute_result"
    }
   ],
   "source": [
    "params.max_features"
   ]
  },
  {
   "cell_type": "code",
   "execution_count": 24,
   "metadata": {
    "ExecuteTime": {
     "end_time": "2021-04-15T00:18:49.293333Z",
     "start_time": "2021-04-15T00:18:15.737140Z"
    }
   },
   "outputs": [
    {
     "name": "stderr",
     "output_type": "stream",
     "text": [
      "/usr/local/lib/python3.6/dist-packages/sklearn/feature_extraction/text.py:1808: UserWarning: Only (<class 'numpy.float64'>, <class 'numpy.float32'>, <class 'numpy.float16'>) 'dtype' should be used. int32 'dtype' will be converted to np.float64.\n",
      "  UserWarning)\n"
     ]
    }
   ],
   "source": [
    "ngram_vectorizer = util.NgramVectorizer()\n",
    "if params.use_stop_words:\n",
    "    ngram_vectorizer.fit(train_texts, train_labels,\n",
    "                         top_k=params.max_features, ngram_range=(1, 2),\n",
    "                         stop_words=params.stop_words)\n",
    "else:\n",
    "    ngram_vectorizer.fit(train_texts, train_labels,\n",
    "                         top_k=params.max_features, ngram_range=(1, 2),\n",
    "                         stop_words=None)"
   ]
  },
  {
   "cell_type": "code",
   "execution_count": 25,
   "metadata": {
    "ExecuteTime": {
     "end_time": "2021-04-15T00:18:49.343274Z",
     "start_time": "2021-04-15T00:18:49.295526Z"
    }
   },
   "outputs": [
    {
     "name": "stdout",
     "output_type": "stream",
     "text": [
      "562985\n"
     ]
    }
   ],
   "source": [
    "print(len(ngram_vectorizer.vectorizer.vocabulary_))"
   ]
  },
  {
   "cell_type": "markdown",
   "metadata": {},
   "source": [
    "\n",
    "\n",
    "可以看到上面数据是以稀疏矩阵的形式存在的。下面创建ngram数据集。"
   ]
  },
  {
   "cell_type": "code",
   "execution_count": 26,
   "metadata": {
    "ExecuteTime": {
     "end_time": "2021-04-15T00:19:15.622650Z",
     "start_time": "2021-04-15T00:18:49.345410Z"
    }
   },
   "outputs": [
    {
     "name": "stdout",
     "output_type": "stream",
     "text": [
      "save object to ./models/tox_16k_c6/toxicity_16k_0414/SimpleTextDatasets.vectorizer\n",
      "create train, validation and test dataset\n",
      "(151592, 30000) <class 'scipy.sparse.csr.csr_matrix'> float32\n",
      "(7979, 30000) <class 'scipy.sparse.csr.csr_matrix'> float32\n",
      "\n"
     ]
    }
   ],
   "source": [
    "ngram_datasets = SimpleTextDatasets(params, train_texts, train_labels, test_texts, test_labels, ngram_vectorizer)\n",
    "                               \n",
    "train_ngram = ngram_datasets.train_data\n",
    "test_ngram = ngram_datasets.test_data\n",
    "    \n",
    "print(train_ngram.shape, type(train_ngram), train_ngram.dtype)\n",
    "print(test_ngram.shape, type(test_ngram), test_ngram.dtype)\n",
    "print(train_ngram[0, 0:100])                               "
   ]
  },
  {
   "cell_type": "code",
   "execution_count": 27,
   "metadata": {
    "ExecuteTime": {
     "end_time": "2021-04-15T00:19:15.672886Z",
     "start_time": "2021-04-15T00:19:15.625225Z"
    }
   },
   "outputs": [
    {
     "data": {
      "text/plain": [
       "(7979, 6)"
      ]
     },
     "execution_count": 27,
     "metadata": {},
     "output_type": "execute_result"
    }
   ],
   "source": [
    "test_labels.shape"
   ]
  },
  {
   "cell_type": "markdown",
   "metadata": {},
   "source": [
    "### Sequence\n",
    "\n",
    "![Embedding Layer](images/EmbeddingLayer.png)\n",
    "\n",
    "如上图所示，和N-gram模型不同，Sequence模型并不统计词频，它保持了文本的原始顺序，把其中的每个词汇单独变成一个One-hot向量，然后采用Word embedding的方式生成更加有意义的词向量，最后输出到RNN，CNN等模型中。下面将采用两种方式生成Sequence向量。\n",
    "\n",
    "- Tokenizer\n",
    "- TextVectorization\n",
    "\n",
    "#### Tokenizer"
   ]
  },
  {
   "cell_type": "code",
   "execution_count": 28,
   "metadata": {
    "ExecuteTime": {
     "end_time": "2021-04-15T00:19:15.719344Z",
     "start_time": "2021-04-15T00:19:15.674911Z"
    }
   },
   "outputs": [
    {
     "name": "stdout",
     "output_type": "stream",
     "text": [
      "100\n",
      "30000\n"
     ]
    }
   ],
   "source": [
    "print(params.sequence_length)\n",
    "print(params.max_features)"
   ]
  },
  {
   "cell_type": "code",
   "execution_count": 29,
   "metadata": {
    "ExecuteTime": {
     "end_time": "2021-04-15T00:19:42.043140Z",
     "start_time": "2021-04-15T00:19:15.721278Z"
    }
   },
   "outputs": [
    {
     "data": {
      "text/plain": [
       "<util.SequenceVectorizer at 0x7f7a16026898>"
      ]
     },
     "execution_count": 29,
     "metadata": {},
     "output_type": "execute_result"
    }
   ],
   "source": [
    "sequence_vectorizer = util.SequenceVectorizer()\n",
    "sequence_vectorizer.fit(train_texts+test_texts, num_words=params.max_features, \n",
    "                        max_sequence_length =params.sequence_length)"
   ]
  },
  {
   "cell_type": "markdown",
   "metadata": {},
   "source": [
    "\n",
    "\n",
    "创建sequence数据集。"
   ]
  },
  {
   "cell_type": "code",
   "execution_count": 30,
   "metadata": {
    "ExecuteTime": {
     "end_time": "2021-04-15T00:19:42.091702Z",
     "start_time": "2021-04-15T00:19:42.045249Z"
    }
   },
   "outputs": [
    {
     "name": "stdout",
     "output_type": "stream",
     "text": [
      "219321\n"
     ]
    }
   ],
   "source": [
    "print(len(sequence_vectorizer.tokenizer.word_index))"
   ]
  },
  {
   "cell_type": "code",
   "execution_count": 31,
   "metadata": {
    "ExecuteTime": {
     "end_time": "2021-04-15T00:20:01.877597Z",
     "start_time": "2021-04-15T00:19:42.093682Z"
    }
   },
   "outputs": [
    {
     "name": "stdout",
     "output_type": "stream",
     "text": [
      "save object to ./models/tox_16k_c6/toxicity_16k_0414/SequenceTextDatasets.vectorizer\n",
      "create train, validation and test dataset\n",
      "(151592, 100) <class 'numpy.ndarray'> int32\n",
      "(7979, 100) <class 'numpy.ndarray'> int32\n",
      "[   5  137  195   11  981    6   34  228 2501 3071   20    5  891  636\n",
      "    5   30 1665   54  567   26   96  885    7  353 2540   11   73  491\n",
      "  135  254   21   63 1707    1   13   56  118   30    5  352 2091    1\n",
      "    5  100 5713   28   54  352  330   45   76  150 2135   26   34 2906\n",
      "    1   72    3  152    5  332   36  726  318    3   93    8   17   59\n",
      "  131    8   51  935  369    5  584   40   73   44   35  133  152   96\n",
      "  177   23 1487    5  743   26   21    3   81   93    8  184   43   23\n",
      "  587   44]\n"
     ]
    }
   ],
   "source": [
    "sequence_datasets = SequenceTextDatasets(params, train_texts, train_labels, test_texts, test_labels, sequence_vectorizer)\n",
    "\n",
    "train_seq = sequence_datasets.train_data\n",
    "test_seq = sequence_datasets.test_data\n",
    "\n",
    "print(train_seq.shape, type(train_seq), train_seq.dtype)\n",
    "print(test_seq.shape, type(test_seq), test_seq.dtype)\n",
    "print(test_seq[1])"
   ]
  },
  {
   "cell_type": "code",
   "execution_count": 32,
   "metadata": {
    "ExecuteTime": {
     "end_time": "2021-04-15T00:20:01.928541Z",
     "start_time": "2021-04-15T00:20:01.879961Z"
    }
   },
   "outputs": [
    {
     "data": {
      "text/plain": [
       "219321"
      ]
     },
     "execution_count": 32,
     "metadata": {},
     "output_type": "execute_result"
    }
   ],
   "source": [
    "len(sequence_vectorizer.tokenizer.word_index) "
   ]
  },
  {
   "cell_type": "markdown",
   "metadata": {},
   "source": [
    "#### Embedding"
   ]
  },
  {
   "cell_type": "code",
   "execution_count": 33,
   "metadata": {
    "ExecuteTime": {
     "end_time": "2021-04-15T00:20:01.981474Z",
     "start_time": "2021-04-15T00:20:01.930613Z"
    }
   },
   "outputs": [
    {
     "name": "stdout",
     "output_type": "stream",
     "text": [
      "[[3 3 1 2]\n",
      " [3 1 2 3]\n",
      " [2 1 3 2]]\n"
     ]
    },
    {
     "data": {
      "text/plain": [
       "array([[3, 3, 1, 2],\n",
       "       [3, 1, 2, 3],\n",
       "       [2, 1, 3, 2],\n",
       "       [3, 2, 1, 1],\n",
       "       [3, 1, 2, 1]])"
      ]
     },
     "execution_count": 33,
     "metadata": {},
     "output_type": "execute_result"
    }
   ],
   "source": [
    "a = np.random.randint(1,4, (3, 4))\n",
    "b = np.random.randint(1,4, (2, 4))\n",
    "print(a)\n",
    "np.vstack([a, b])"
   ]
  },
  {
   "cell_type": "code",
   "execution_count": 34,
   "metadata": {
    "ExecuteTime": {
     "end_time": "2021-04-15T00:20:02.029966Z",
     "start_time": "2021-04-15T00:20:01.983440Z"
    }
   },
   "outputs": [],
   "source": [
    "# def get_embedding_matrix(embeddings_index, vector_size, tokenizer, max_features):\n",
    "#     word_index = tokenizer.word_index\n",
    "#     embedding_matrix  = np.zeros((min(max_features, len(word_index)), vector_size))\n",
    "#     missing_words = {}\n",
    "#     match_count = 0 \n",
    "#     for word, i in word_index.items():\n",
    "#         if i >= max_features: continue\n",
    "#         vector = embeddings_index.get(word)\n",
    "#         if vector is not None:\n",
    "#             embedding_matrix[i] = vector    \n",
    "#             match_count = match_count + 1\n",
    "#         else:\n",
    "#             missing_words[word] = tokenizer.word_counts[word]\n",
    "#     print('embedding_matrix.shape: {}'.format(embedding_matrix.shape))    \n",
    "#     print('match cout: {}'.format(match_count))        \n",
    "#     print('missing word cout: {}'.format(len(missing_words))) \n",
    "#     return embedding_matrix\n",
    "\n",
    "# def load_embedding(embedding_file, max_length=200000, ignore_rows=1):\n",
    "#     embedding_index = {}\n",
    "#     with open(embedding_file) as f:\n",
    "#         i = 0\n",
    "#         vector_size = 0\n",
    "#         for line in f:\n",
    "#             i = i + 1\n",
    "#             values = line.split()\n",
    "#             if i<=ignore_rows:                \n",
    "#                 continue\n",
    "#             word = values[0]\n",
    "#             coefs = np.asarray(values[1:], dtype='float32')\n",
    "#             embedding_index[word] = coefs\n",
    "#             if i>max_length: break\n",
    "#     vector_size = len(coefs)\n",
    "#     print('Loaded %s word vectors. the vector size is %s' % (len(embedding_index), vector_size))   \n",
    "#     return embedding_index, vector_size    \n",
    "    \n",
    "# def load_embedding_matrix(embedding_files, tokenizer, max_features, max_length=200000, ignore_rows=1):\n",
    "#     if not isinstance(embedding_files, list):\n",
    "#         embedding_files = [embedding_files]        \n",
    "    \n",
    "#     embedding_matrixs = []\n",
    "#     for embedding_file in embedding_files:\n",
    "#         print('-'*100)\n",
    "#         embedding_index, vector_size = load_embedding(embedding_file, max_length)\n",
    "#         embedding_matrix = get_embedding_matrix(embedding_index, vector_size, \n",
    "#                                                               sequence_vectorizer.tokenizer, max_features)\n",
    "#         embedding_matrixs.append(embedding_matrix)\n",
    "#     embedding_matrix = np.hstack(embedding_matrixs)\n",
    "#     return embedding_matrix\n",
    "\n"
   ]
  },
  {
   "cell_type": "code",
   "execution_count": 35,
   "metadata": {
    "ExecuteTime": {
     "end_time": "2021-04-15T00:22:00.496247Z",
     "start_time": "2021-04-15T00:20:02.032032Z"
    }
   },
   "outputs": [
    {
     "name": "stdout",
     "output_type": "stream",
     "text": [
      "----------------------------------------------------------------------------------------------------\n",
      "Loaded 1000000 word vectors. the vector size is 300\n",
      "embedding_matrix.shape: (30000, 300)\n",
      "match cout: 27153\n",
      "missing word cout: 2846\n",
      "----------------------------------------------------------------------------------------------------\n",
      "----------------------------------------------------------------------------------------------------\n",
      "Loaded 1000001 word vectors. the vector size is 200\n",
      "embedding_matrix.shape: (30000, 200)\n",
      "match cout: 26337\n",
      "missing word cout: 3662\n"
     ]
    }
   ],
   "source": [
    "embedding_matrix_fasttext_crawl = util.load_embedding_matrix(params.embedding_paths.fasttext_crawl_300d_2M, \n",
    "                                                        sequence_vectorizer.tokenizer, \n",
    "                                                        max_features = params.max_features,\n",
    "                                                        max_length=1000000,\n",
    "                                                        ignore_rows=1\n",
    "                                                       )\n",
    "\n",
    "print('-'*100)\n",
    "embedding_matrix_glove_twitter = util.load_embedding_matrix(params.embedding_paths.glove_twitter_27B_200d,\n",
    "                                                       sequence_vectorizer.tokenizer, \n",
    "                                                       max_features = params.max_features,\n",
    "                                                       max_length=1000000,\n",
    "                                                       ignore_rows=0\n",
    "                                                      )\n"
   ]
  },
  {
   "cell_type": "code",
   "execution_count": 36,
   "metadata": {
    "ExecuteTime": {
     "end_time": "2021-04-15T00:24:00.254510Z",
     "start_time": "2021-04-15T00:22:00.498436Z"
    }
   },
   "outputs": [
    {
     "name": "stdout",
     "output_type": "stream",
     "text": [
      "----------------------------------------------------------------------------------------------------\n",
      "Loaded 1000000 word vectors. the vector size is 300\n",
      "embedding_matrix.shape: (30000, 300)\n",
      "match cout: 27153\n",
      "missing word cout: 2846\n",
      "----------------------------------------------------------------------------------------------------\n",
      "Loaded 1000001 word vectors. the vector size is 200\n",
      "embedding_matrix.shape: (30000, 200)\n",
      "match cout: 26337\n",
      "missing word cout: 3662\n"
     ]
    }
   ],
   "source": [
    "embedding_files = [params.embedding_paths.fasttext_crawl_300d_2M, params.embedding_paths.glove_twitter_27B_200d]\n",
    "embedding_matrix_fasttext_glove = util.load_embedding_matrix(embedding_files, \n",
    "                                                        sequence_vectorizer.tokenizer, \n",
    "                                                        max_features = params.max_features,\n",
    "                                                        max_length=1000000,\n",
    "                                                        ignore_rows=0\n",
    "                                                       )"
   ]
  },
  {
   "cell_type": "code",
   "execution_count": 37,
   "metadata": {
    "ExecuteTime": {
     "end_time": "2021-04-15T00:24:00.307799Z",
     "start_time": "2021-04-15T00:24:00.256987Z"
    }
   },
   "outputs": [
    {
     "data": {
      "text/plain": [
       "(30000, 500)"
      ]
     },
     "execution_count": 37,
     "metadata": {},
     "output_type": "execute_result"
    }
   ],
   "source": [
    "embedding_matrix_fasttext_glove.shape"
   ]
  },
  {
   "cell_type": "markdown",
   "metadata": {},
   "source": [
    "\n",
    "\n",
    "##  模型\n",
    "\n",
    "### MLP"
   ]
  },
  {
   "cell_type": "code",
   "execution_count": 38,
   "metadata": {
    "ExecuteTime": {
     "end_time": "2021-04-15T00:24:00.367421Z",
     "start_time": "2021-04-15T00:24:00.309917Z"
    }
   },
   "outputs": [],
   "source": [
    "class RocAucEvaluation(tf.keras.callbacks.Callback):\n",
    "    def __init__(self, validation_data=(), interval=1):\n",
    "        super().__init__()\n",
    "\n",
    "        self.interval = interval\n",
    "        self.X_val, self.y_val = validation_data\n",
    "\n",
    "    def on_epoch_end(self, epoch, logs={}):\n",
    "        if epoch % self.interval == 0:\n",
    "            y_pred = self.model.predict(self.X_val, verbose=0)\n",
    "            score = roc_auc_score(self.y_val, y_pred)\n",
    "            print(\"\\n ROC-AUC - epoch: {:d} - score: {:.4f}\".format(epoch+1, score))\n",
    "\n",
    "\n",
    "# 可以永上面的callback计算AUC，也可以用metrics.AUC(name='auc', multi_label=True)计算，总体差不多，有微小的差别。\n",
    "# metrics.AUC需要占用较多gpu内存，精度差一点。"
   ]
  },
  {
   "cell_type": "code",
   "execution_count": 39,
   "metadata": {
    "ExecuteTime": {
     "end_time": "2021-04-15T00:24:00.540094Z",
     "start_time": "2021-04-15T00:24:00.369576Z"
    }
   },
   "outputs": [
    {
     "name": "stdout",
     "output_type": "stream",
     "text": [
      "model_params.mlp.dropout=0.6\n",
      "model_params.mlp.layer_count=1\n",
      "model_params.mlp.units=256\n",
      "learning_rate=0.0005\n",
      "clip_value=1.0\n",
      "checkpoint_path=./models/tox_16k_c6/toxicity_16k_0414/mlp\n",
      "Model: \"mlp\"\n",
      "_________________________________________________________________\n",
      "Layer (type)                 Output Shape              Param #   \n",
      "=================================================================\n",
      "input_1 (InputLayer)         [(None, 30000)]           0         \n",
      "_________________________________________________________________\n",
      "lambda (Lambda)              (None, 30000)             0         \n",
      "_________________________________________________________________\n",
      "dropout (Dropout)            (None, 30000)             0         \n",
      "_________________________________________________________________\n",
      "dense (Dense)                (None, 256)               7680256   \n",
      "_________________________________________________________________\n",
      "dropout_1 (Dropout)          (None, 256)               0         \n",
      "_________________________________________________________________\n",
      "dense_1 (Dense)              (None, 6)                 1542      \n",
      "=================================================================\n",
      "Total params: 7,681,798\n",
      "Trainable params: 7,681,798\n",
      "Non-trainable params: 0\n",
      "_________________________________________________________________\n"
     ]
    }
   ],
   "source": [
    "def sparse_to_dense(value):\n",
    "    if isinstance(value, tf.sparse.SparseTensor):\n",
    "        return tf.sparse.to_dense(value)\n",
    "    return value\n",
    "\n",
    "def get_mlp(helper, dropout=None, name='mlp'):\n",
    "    \"\"\"Creates an instance of a multi-layer perceptron model\"\"\"\n",
    "    if dropout is None:\n",
    "        dropout = helper.get_model_param(name, 'dropout')\n",
    "    layer_count = helper.get_model_param(name, 'layer_count')\n",
    "    units = helper.get_model_param(name, 'units')    \n",
    "    \n",
    "    input = layers.Input(shape=helper.datasets.input_shape)    \n",
    "    x = tf.keras.layers.Lambda(sparse_to_dense)(input)\n",
    "    if dropout>0: x = layers.Dropout(dropout)(x)\n",
    "        \n",
    "    for _ in range(layer_count):\n",
    "        x = layers.Dense(units, activation='relu')(x)\n",
    "        if dropout>0: x = layers.Dropout(dropout)(x)\n",
    "    x = layers.Dense(len(helper.params.classes), activation='sigmoid')(x)  \n",
    "    \n",
    "    model = Model(inputs=input, outputs=x, name=name)     \n",
    "    helper.compile(model)   \n",
    "    return model\n",
    "\n",
    "helper = TextClassificationHelper(params, model_results=model_results, datasets=ngram_datasets)\n",
    "model = get_mlp(helper)\n",
    "model.summary()"
   ]
  },
  {
   "cell_type": "code",
   "execution_count": 40,
   "metadata": {
    "ExecuteTime": {
     "end_time": "2021-04-15T00:24:00.603282Z",
     "start_time": "2021-04-15T00:24:00.542497Z"
    }
   },
   "outputs": [
    {
     "data": {
      "text/plain": [
       "text_classification.SimpleTextDatasets"
      ]
     },
     "execution_count": 40,
     "metadata": {},
     "output_type": "execute_result"
    }
   ],
   "source": [
    "type(ngram_datasets) "
   ]
  },
  {
   "cell_type": "code",
   "execution_count": 41,
   "metadata": {
    "ExecuteTime": {
     "end_time": "2021-04-15T00:28:37.752003Z",
     "start_time": "2021-04-15T00:24:00.605658Z"
    },
    "scrolled": false
   },
   "outputs": [
    {
     "name": "stdout",
     "output_type": "stream",
     "text": [
      "use ModelCheckpoint(filepath=./models/tox_16k_c6/toxicity_16k_0414/mlp, monitor=val_binary_accuracy)\n",
      "use EarlyStopping(monitor=val_binary_accuracy, patience=40)\n",
      "use ReduceLROnPlateau(monitor=val_loss, factor=0.31622776601683794, patience=15)\n",
      "use LearningRateScheduler()\n",
      "model_params.mlp.epochs=5\n",
      "4738/4738 [==============================] - 24s 5ms/step - loss: 0.6937 - binary_accuracy: 0.4053 - auc: 0.5578\n",
      "250/250 [==============================] - 1s 5ms/step - loss: 0.6938 - binary_accuracy: 0.4058 - auc: 0.5528\n",
      "save object to /tf/eipi10/xuxiangwen.github.io/_notes/05-ai/54-tensorflow/models/tox_16k_c6/toxicity_16k_0414/mlp.predictor\n",
      "--------------------------------------------------------------------------------\n",
      "test loss:0.6938\n",
      "test binary_accuracy:0.4058\n"
     ]
    },
    {
     "name": "stderr",
     "output_type": "stream",
     "text": [
      "2021-04-15 08:24:39,454: INFO: start training\n"
     ]
    },
    {
     "name": "stdout",
     "output_type": "stream",
     "text": [
      "test auc:0.5913\n",
      "use_class_weight=None\n",
      "class_weight=None\n",
      "Epoch 00001: Still keep learning rate 0.0005 instead of 0.001\n",
      "Epoch 1/5\n",
      "4736/4738 [============================>.] - ETA: 0s - loss: 0.1121 - binary_accuracy: 0.9694 - auc: 0.8310WARNING:tensorflow:From /usr/local/lib/python3.6/dist-packages/tensorflow/python/training/tracking/tracking.py:111: Model.state_updates (from tensorflow.python.keras.engine.training) is deprecated and will be removed in a future version.\n",
      "Instructions for updating:\n",
      "This property should not be used in TensorFlow 2.0, as updates are applied automatically.\n"
     ]
    },
    {
     "name": "stderr",
     "output_type": "stream",
     "text": [
      "2021-04-15 08:25:24,714: WARNING: From /usr/local/lib/python3.6/dist-packages/tensorflow/python/training/tracking/tracking.py:111: Model.state_updates (from tensorflow.python.keras.engine.training) is deprecated and will be removed in a future version.\n",
      "Instructions for updating:\n",
      "This property should not be used in TensorFlow 2.0, as updates are applied automatically.\n"
     ]
    },
    {
     "name": "stdout",
     "output_type": "stream",
     "text": [
      "WARNING:tensorflow:From /usr/local/lib/python3.6/dist-packages/tensorflow/python/training/tracking/tracking.py:111: Layer.updates (from tensorflow.python.keras.engine.base_layer) is deprecated and will be removed in a future version.\n",
      "Instructions for updating:\n",
      "This property should not be used in TensorFlow 2.0, as updates are applied automatically.\n"
     ]
    },
    {
     "name": "stderr",
     "output_type": "stream",
     "text": [
      "2021-04-15 08:25:24,733: WARNING: From /usr/local/lib/python3.6/dist-packages/tensorflow/python/training/tracking/tracking.py:111: Layer.updates (from tensorflow.python.keras.engine.base_layer) is deprecated and will be removed in a future version.\n",
      "Instructions for updating:\n",
      "This property should not be used in TensorFlow 2.0, as updates are applied automatically.\n"
     ]
    },
    {
     "name": "stdout",
     "output_type": "stream",
     "text": [
      "INFO:tensorflow:Assets written to: ./models/tox_16k_c6/toxicity_16k_0414/mlp/assets\n"
     ]
    },
    {
     "name": "stderr",
     "output_type": "stream",
     "text": [
      "2021-04-15 08:25:25,442: INFO: Assets written to: ./models/tox_16k_c6/toxicity_16k_0414/mlp/assets\n"
     ]
    },
    {
     "name": "stdout",
     "output_type": "stream",
     "text": [
      "\n",
      " ROC-AUC - epoch: 1 - score: 0.9481\n",
      "4738/4738 [==============================] - 45s 10ms/step - loss: 0.1121 - binary_accuracy: 0.9694 - auc: 0.8310 - val_loss: 0.0741 - val_binary_accuracy: 0.9752 - val_auc: 0.9458\n",
      "Epoch 00002: Still keep learning rate 0.0005 instead of 0.001\n",
      "Epoch 2/5\n",
      "4738/4738 [==============================] - ETA: 0s - loss: 0.0850 - binary_accuracy: 0.9737 - auc: 0.8943INFO:tensorflow:Assets written to: ./models/tox_16k_c6/toxicity_16k_0414/mlp/assets\n"
     ]
    },
    {
     "name": "stderr",
     "output_type": "stream",
     "text": [
      "2021-04-15 08:26:13,666: INFO: Assets written to: ./models/tox_16k_c6/toxicity_16k_0414/mlp/assets\n"
     ]
    },
    {
     "name": "stdout",
     "output_type": "stream",
     "text": [
      "\n",
      " ROC-AUC - epoch: 2 - score: 0.9539\n",
      "4738/4738 [==============================] - 48s 10ms/step - loss: 0.0850 - binary_accuracy: 0.9737 - auc: 0.8943 - val_loss: 0.0695 - val_binary_accuracy: 0.9766 - val_auc: 0.9436\n",
      "Epoch 00003: Still keep learning rate 0.0005 instead of 0.001\n",
      "Epoch 3/5\n",
      "4735/4738 [============================>.] - ETA: 0s - loss: 0.0814 - binary_accuracy: 0.9747 - auc: 0.8986INFO:tensorflow:Assets written to: ./models/tox_16k_c6/toxicity_16k_0414/mlp/assets\n"
     ]
    },
    {
     "name": "stderr",
     "output_type": "stream",
     "text": [
      "2021-04-15 08:27:04,383: INFO: Assets written to: ./models/tox_16k_c6/toxicity_16k_0414/mlp/assets\n"
     ]
    },
    {
     "name": "stdout",
     "output_type": "stream",
     "text": [
      "\n",
      " ROC-AUC - epoch: 3 - score: 0.9568\n",
      "4738/4738 [==============================] - 51s 11ms/step - loss: 0.0814 - binary_accuracy: 0.9747 - auc: 0.8986 - val_loss: 0.0663 - val_binary_accuracy: 0.9775 - val_auc: 0.9491\n",
      "Epoch 00004: Still keep learning rate 0.0005 instead of 0.001\n",
      "Epoch 4/5\n",
      "4734/4738 [============================>.] - ETA: 0s - loss: 0.0789 - binary_accuracy: 0.9758 - auc: 0.9032INFO:tensorflow:Assets written to: ./models/tox_16k_c6/toxicity_16k_0414/mlp/assets\n"
     ]
    },
    {
     "name": "stderr",
     "output_type": "stream",
     "text": [
      "2021-04-15 08:27:54,620: INFO: Assets written to: ./models/tox_16k_c6/toxicity_16k_0414/mlp/assets\n"
     ]
    },
    {
     "name": "stdout",
     "output_type": "stream",
     "text": [
      "\n",
      " ROC-AUC - epoch: 4 - score: 0.9578\n",
      "4738/4738 [==============================] - 50s 11ms/step - loss: 0.0789 - binary_accuracy: 0.9758 - auc: 0.9032 - val_loss: 0.0648 - val_binary_accuracy: 0.9782 - val_auc: 0.9451\n",
      "Epoch 00005: Still keep learning rate 0.0005 instead of 0.001\n",
      "Epoch 5/5\n",
      "4738/4738 [==============================] - ETA: 0s - loss: 0.0780 - binary_accuracy: 0.9761 - auc: 0.9066\n",
      " ROC-AUC - epoch: 5 - score: 0.9585\n",
      "4738/4738 [==============================] - 41s 9ms/step - loss: 0.0780 - binary_accuracy: 0.9761 - auc: 0.9066 - val_loss: 0.0645 - val_binary_accuracy: 0.9778 - val_auc: 0.9466\n"
     ]
    },
    {
     "name": "stderr",
     "output_type": "stream",
     "text": [
      "2021-04-15 08:28:37,336: INFO: finish training [elapsed time: 237.88 seconds]\n"
     ]
    },
    {
     "data": {
      "image/png": "[encoded data removed]",
      "text/plain": [
       "<Figure size 1152x360 with 2 Axes>"
      ]
     },
     "metadata": {
      "needs_background": "light"
     },
     "output_type": "display_data"
    }
   ],
   "source": [
    "callbacks = helper.get_callbacks(model, verbose=True)\n",
    "roc_aoc =  RocAucEvaluation(validation_data=(ngram_datasets.test_data, ngram_datasets.test_labels), interval=1)\n",
    "callbacks.append(roc_aoc)\n",
    "\n",
    "history = helper.train(model, callbacks=callbacks)"
   ]
  },
  {
   "cell_type": "code",
   "execution_count": 42,
   "metadata": {
    "ExecuteTime": {
     "end_time": "2021-04-15T00:29:13.353338Z",
     "start_time": "2021-04-15T00:28:37.754294Z"
    },
    "scrolled": false
   },
   "outputs": [
    {
     "name": "stdout",
     "output_type": "stream",
     "text": [
      "---------------------------------------- evaluate ----------------------------------------\n",
      "load best checkpoint from ./models/tox_16k_c6/toxicity_16k_0414/mlp\n",
      "learning_rate=0.0005\n",
      "clip_value=1.0\n",
      "checkpoint_path=./models/tox_16k_c6/toxicity_16k_0414/mlp\n",
      "4738/4738 [==============================] - 20s 4ms/step - loss: 0.0544 - binary_accuracy: 0.9816 - auc: 0.9557\n",
      "250/250 [==============================] - 1s 5ms/step - loss: 0.0648 - binary_accuracy: 0.9782 - auc: 0.9451\n",
      "save object to /tf/eipi10/xuxiangwen.github.io/_notes/05-ai/54-tensorflow/models/tox_16k_c6/toxicity_16k_0414/mlp.predictor\n",
      "--------------------------------------------------------------------------------\n",
      "test loss:0.0648\n",
      "test binary_accuracy:0.9782\n",
      "test auc:0.9578\n",
      "-------------------------------------------------- all models --------------------------------------------------\n"
     ]
    },
    {
     "data": {
      "text/html": [
       "<div>\n",
       "<style scoped>\n",
       "    .dataframe tbody tr th:only-of-type {\n",
       "        vertical-align: middle;\n",
       "    }\n",
       "\n",
       "    .dataframe tbody tr th {\n",
       "        vertical-align: top;\n",
       "    }\n",
       "\n",
       "    .dataframe thead th {\n",
       "        text-align: right;\n",
       "    }\n",
       "</style>\n",
       "<table border=\"1\" class=\"dataframe\">\n",
       "  <thead>\n",
       "    <tr style=\"text-align: right;\">\n",
       "      <th></th>\n",
       "      <th>weight_number</th>\n",
       "      <th>train_time</th>\n",
       "      <th>train_loss</th>\n",
       "      <th>test_loss</th>\n",
       "      <th>train_binary_accuracy</th>\n",
       "      <th>test_binary_accuracy</th>\n",
       "      <th>train_auc</th>\n",
       "      <th>test_auc</th>\n",
       "    </tr>\n",
       "  </thead>\n",
       "  <tbody>\n",
       "    <tr>\n",
       "      <th>mlp</th>\n",
       "      <td>7681798</td>\n",
       "      <td>237.0</td>\n",
       "      <td>0.0544</td>\n",
       "      <td>0.0648</td>\n",
       "      <td>0.9816</td>\n",
       "      <td>0.9782</td>\n",
       "      <td>0.9696</td>\n",
       "      <td>0.9578</td>\n",
       "    </tr>\n",
       "  </tbody>\n",
       "</table>\n",
       "</div>"
      ],
      "text/plain": [
       "     weight_number  train_time  train_loss  test_loss  train_binary_accuracy  \\\n",
       "mlp        7681798       237.0      0.0544     0.0648                 0.9816   \n",
       "\n",
       "     test_binary_accuracy  train_auc  test_auc  \n",
       "mlp                0.9782     0.9696    0.9578  "
      ]
     },
     "metadata": {},
     "output_type": "display_data"
    },
    {
     "name": "stdout",
     "output_type": "stream",
     "text": [
      "save json to ./models/tox_16k_c6/toxicity_16k_0414/model_results.json\n"
     ]
    }
   ],
   "source": [
    "helper.model_summary(model, history=history)"
   ]
  },
  {
   "cell_type": "markdown",
   "metadata": {},
   "source": [
    "### Embedding"
   ]
  },
  {
   "cell_type": "code",
   "execution_count": 43,
   "metadata": {
    "ExecuteTime": {
     "end_time": "2021-04-15T00:29:13.493711Z",
     "start_time": "2021-04-15T00:29:13.356226Z"
    }
   },
   "outputs": [
    {
     "name": "stdout",
     "output_type": "stream",
     "text": [
      "model_params.embedding.dropout=0.4\n",
      "model_params.embedding.embedding_dim=200\n",
      "learning_rate=0.0005\n",
      "clip_value=1.0\n",
      "checkpoint_path=./models/tox_16k_c6/toxicity_16k_0414/embedding\n",
      "Model: \"embedding\"\n",
      "_________________________________________________________________\n",
      "Layer (type)                 Output Shape              Param #   \n",
      "=================================================================\n",
      "embedding (Embedding)        (None, 100, 200)          6000200   \n",
      "_________________________________________________________________\n",
      "global_average_pooling1d (Gl (None, 200)               0         \n",
      "_________________________________________________________________\n",
      "dropout_2 (Dropout)          (None, 200)               0         \n",
      "_________________________________________________________________\n",
      "dense_2 (Dense)              (None, 6)                 1206      \n",
      "=================================================================\n",
      "Total params: 6,001,406\n",
      "Trainable params: 6,001,406\n",
      "Non-trainable params: 0\n",
      "_________________________________________________________________\n"
     ]
    }
   ],
   "source": [
    "def get_embedding(helper,\n",
    "                  dropout=None,\n",
    "                  name='embedding',\n",
    "                  embedding_matrix=None,\n",
    "                  is_embedding_trainable=False,\n",
    "                  mask_zero=False\n",
    "                ):\n",
    "\n",
    "    if dropout is None:\n",
    "        dropout = helper.get_model_param(name, 'dropout')\n",
    "    \n",
    "    if embedding_matrix is None:\n",
    "        embedding_dim = helper.get_model_param(name, 'embedding_dim')   \n",
    "        num_features = helper.params.max_features+1  \n",
    "    else:\n",
    "        num_features, embedding_dim = embedding_matrix.shape\n",
    "            \n",
    "    input_shape = helper.datasets.input_shape\n",
    "    num_classes = len(helper.params.classes)\n",
    "    \n",
    "    model = models.Sequential(name=name)\n",
    "    if embedding_matrix is None:\n",
    "        model.add(layers.Embedding(input_dim=num_features, \n",
    "                                   output_dim=embedding_dim,                               \n",
    "                                   input_length=input_shape[0],\n",
    "                                   mask_zero=mask_zero\n",
    "                                  ))\n",
    "    else:\n",
    "        num_features, embedding_dim = embedding_matrix.shape\n",
    "        model.add(layers.Embedding(input_dim=num_features, \n",
    "                                   output_dim=embedding_dim,     \n",
    "                                   weights=[embedding_matrix],                                   \n",
    "                                   input_length=input_shape[0],\n",
    "                                   trainable=is_embedding_trainable,\n",
    "                                   mask_zero=mask_zero                             \n",
    "                                  ))     \n",
    "    model.add(layers.GlobalAveragePooling1D())\n",
    "    if dropout>0: model.add(layers.Dropout(rate=dropout))\n",
    "    model.add(layers.Dense(num_classes, activation='sigmoid'))\n",
    "    helper.compile(model)  \n",
    "    return model\n",
    "\n",
    "\n",
    "\n",
    "helper = TextClassificationHelper(params, model_results=model_results, datasets=sequence_datasets)\n",
    "model = get_embedding(helper)\n",
    "model.summary()"
   ]
  },
  {
   "cell_type": "code",
   "execution_count": 44,
   "metadata": {
    "ExecuteTime": {
     "end_time": "2021-04-15T00:40:57.446607Z",
     "start_time": "2021-04-15T00:29:13.496643Z"
    },
    "scrolled": false
   },
   "outputs": [
    {
     "name": "stdout",
     "output_type": "stream",
     "text": [
      "model_params.embedding.epochs=3\n",
      "use ModelCheckpoint(filepath=./models/tox_16k_c6/toxicity_16k_0414/embedding, monitor=val_binary_accuracy)\n",
      "use EarlyStopping(monitor=val_binary_accuracy, patience=40)\n",
      "use ReduceLROnPlateau(monitor=val_loss, factor=0.31622776601683794, patience=15)\n",
      "use LearningRateScheduler()\n",
      "4737/4737 [==============================] - 19s 4ms/step - loss: 0.6925 - binary_accuracy: 0.4032 - auc: 0.5286\n",
      "250/250 [==============================] - 2s 6ms/step - loss: 0.6925 - binary_accuracy: 0.3725 - auc: 0.5207\n",
      "save object to /tf/eipi10/xuxiangwen.github.io/_notes/05-ai/54-tensorflow/models/tox_16k_c6/toxicity_16k_0414/embedding.predictor\n",
      "--------------------------------------------------------------------------------\n",
      "test loss:0.6925\n",
      "test binary_accuracy:0.3725\n"
     ]
    },
    {
     "name": "stderr",
     "output_type": "stream",
     "text": [
      "2021-04-15 08:29:46,879: INFO: start training\n"
     ]
    },
    {
     "name": "stdout",
     "output_type": "stream",
     "text": [
      "test auc:0.5452\n",
      "use_class_weight=None\n",
      "class_weight=None\n",
      "Epoch 00001: Still keep learning rate 0.0005 instead of 0.001\n",
      "Epoch 1/3\n",
      "4736/4737 [============================>.] - ETA: 0s - loss: 0.1293 - binary_accuracy: 0.9636 - auc: 0.8189INFO:tensorflow:Assets written to: ./models/tox_16k_c6/toxicity_16k_0414/embedding/assets\n"
     ]
    },
    {
     "name": "stderr",
     "output_type": "stream",
     "text": [
      "2021-04-15 08:33:20,260: INFO: Assets written to: ./models/tox_16k_c6/toxicity_16k_0414/embedding/assets\n"
     ]
    },
    {
     "name": "stdout",
     "output_type": "stream",
     "text": [
      "4737/4737 [==============================] - 211s 45ms/step - loss: 0.1293 - binary_accuracy: 0.9636 - auc: 0.8189 - val_loss: 0.1040 - val_binary_accuracy: 0.9648 - val_auc: 0.9240\n",
      "Epoch 00002: Still keep learning rate 0.0005 instead of 0.001\n",
      "Epoch 2/3\n",
      "4737/4737 [==============================] - ETA: 0s - loss: 0.0866 - binary_accuracy: 0.9701 - auc: 0.9262INFO:tensorflow:Assets written to: ./models/tox_16k_c6/toxicity_16k_0414/embedding/assets\n"
     ]
    },
    {
     "name": "stderr",
     "output_type": "stream",
     "text": [
      "2021-04-15 08:37:00,038: INFO: Assets written to: ./models/tox_16k_c6/toxicity_16k_0414/embedding/assets\n"
     ]
    },
    {
     "name": "stdout",
     "output_type": "stream",
     "text": [
      "4737/4737 [==============================] - 219s 46ms/step - loss: 0.0866 - binary_accuracy: 0.9701 - auc: 0.9262 - val_loss: 0.0924 - val_binary_accuracy: 0.9700 - val_auc: 0.9315\n",
      "Epoch 00003: Still keep learning rate 0.0005 instead of 0.001\n",
      "Epoch 3/3\n",
      "4737/4737 [==============================] - ETA: 0s - loss: 0.0756 - binary_accuracy: 0.9749 - auc: 0.9290INFO:tensorflow:Assets written to: ./models/tox_16k_c6/toxicity_16k_0414/embedding/assets\n"
     ]
    },
    {
     "name": "stderr",
     "output_type": "stream",
     "text": [
      "2021-04-15 08:40:56,486: INFO: Assets written to: ./models/tox_16k_c6/toxicity_16k_0414/embedding/assets\n"
     ]
    },
    {
     "name": "stdout",
     "output_type": "stream",
     "text": [
      "\b\b\b\b\b\b\b\b\b\b\b\b\b\b\b\b\b\b\b\b\b\b\b\b\b\b\b\b\b\b\b\b\b\b\b\b\b\b\b\b\b\b\b\b\b\b\b\b\b\b\b\b\b\b\b\b\b\b\b\b\b\b\b\b\b\b\b\b\b\b\b\b\b\b\b\b\b\b\b\b\b\b\b\b\b\b\b\b\b\b\b\b\b\b\b\b\b\b\b\b\b\b\b\b\b\b\b\r",
      "4737/4737 [==============================] - 236s 50ms/step - loss: 0.0756 - binary_accuracy: 0.9749 - auc: 0.9290 - val_loss: 0.0869 - val_binary_accuracy: 0.9738 - val_auc: 0.9363\n"
     ]
    },
    {
     "name": "stderr",
     "output_type": "stream",
     "text": [
      "2021-04-15 08:40:57,023: INFO: finish training [elapsed time: 670.14 seconds]\n"
     ]
    },
    {
     "data": {
      "image/png": "[encoded data removed]",
      "text/plain": [
       "<Figure size 1152x360 with 2 Axes>"
      ]
     },
     "metadata": {
      "needs_background": "light"
     },
     "output_type": "display_data"
    }
   ],
   "source": [
    "history = helper.train(model)"
   ]
  },
  {
   "cell_type": "code",
   "execution_count": 45,
   "metadata": {
    "ExecuteTime": {
     "end_time": "2021-04-15T00:41:52.668155Z",
     "start_time": "2021-04-15T00:40:57.449309Z"
    },
    "scrolled": false
   },
   "outputs": [
    {
     "name": "stdout",
     "output_type": "stream",
     "text": [
      "---------------------------------------- evaluate ----------------------------------------\n",
      "load best checkpoint from ./models/tox_16k_c6/toxicity_16k_0414/embedding\n",
      "learning_rate=0.0005\n",
      "clip_value=1.0\n",
      "checkpoint_path=./models/tox_16k_c6/toxicity_16k_0414/embedding\n",
      "4737/4737 [==============================] - 29s 6ms/step - loss: 0.0702 - binary_accuracy: 0.9769 - auc: 0.9471\n",
      "250/250 [==============================] - 3s 11ms/step - loss: 0.0869 - binary_accuracy: 0.9738 - auc: 0.9363\n",
      "save object to /tf/eipi10/xuxiangwen.github.io/_notes/05-ai/54-tensorflow/models/tox_16k_c6/toxicity_16k_0414/embedding.predictor\n",
      "--------------------------------------------------------------------------------\n",
      "test loss:0.0869\n",
      "test binary_accuracy:0.9738\n",
      "test auc:0.9436\n",
      "-------------------------------------------------- all models --------------------------------------------------\n"
     ]
    },
    {
     "data": {
      "text/html": [
       "<div>\n",
       "<style scoped>\n",
       "    .dataframe tbody tr th:only-of-type {\n",
       "        vertical-align: middle;\n",
       "    }\n",
       "\n",
       "    .dataframe tbody tr th {\n",
       "        vertical-align: top;\n",
       "    }\n",
       "\n",
       "    .dataframe thead th {\n",
       "        text-align: right;\n",
       "    }\n",
       "</style>\n",
       "<table border=\"1\" class=\"dataframe\">\n",
       "  <thead>\n",
       "    <tr style=\"text-align: right;\">\n",
       "      <th></th>\n",
       "      <th>weight_number</th>\n",
       "      <th>train_time</th>\n",
       "      <th>train_loss</th>\n",
       "      <th>test_loss</th>\n",
       "      <th>train_binary_accuracy</th>\n",
       "      <th>test_binary_accuracy</th>\n",
       "      <th>train_auc</th>\n",
       "      <th>test_auc</th>\n",
       "    </tr>\n",
       "  </thead>\n",
       "  <tbody>\n",
       "    <tr>\n",
       "      <th>mlp</th>\n",
       "      <td>7681798</td>\n",
       "      <td>237.0</td>\n",
       "      <td>0.0544</td>\n",
       "      <td>0.0648</td>\n",
       "      <td>0.9816</td>\n",
       "      <td>0.9782</td>\n",
       "      <td>0.9696</td>\n",
       "      <td>0.9578</td>\n",
       "    </tr>\n",
       "    <tr>\n",
       "      <th>embedding</th>\n",
       "      <td>6001406</td>\n",
       "      <td>670.0</td>\n",
       "      <td>0.0702</td>\n",
       "      <td>0.0869</td>\n",
       "      <td>0.9769</td>\n",
       "      <td>0.9738</td>\n",
       "      <td>0.9557</td>\n",
       "      <td>0.9436</td>\n",
       "    </tr>\n",
       "  </tbody>\n",
       "</table>\n",
       "</div>"
      ],
      "text/plain": [
       "           weight_number  train_time  train_loss  test_loss  \\\n",
       "mlp              7681798       237.0      0.0544     0.0648   \n",
       "embedding        6001406       670.0      0.0702     0.0869   \n",
       "\n",
       "           train_binary_accuracy  test_binary_accuracy  train_auc  test_auc  \n",
       "mlp                       0.9816                0.9782     0.9696    0.9578  \n",
       "embedding                 0.9769                0.9738     0.9557    0.9436  "
      ]
     },
     "metadata": {},
     "output_type": "display_data"
    },
    {
     "name": "stdout",
     "output_type": "stream",
     "text": [
      "save json to ./models/tox_16k_c6/toxicity_16k_0414/model_results.json\n"
     ]
    }
   ],
   "source": [
    "helper.model_summary(model, history=history)"
   ]
  },
  {
   "cell_type": "code",
   "execution_count": 46,
   "metadata": {
    "ExecuteTime": {
     "end_time": "2021-04-15T00:45:22.832399Z",
     "start_time": "2021-04-15T00:41:52.671103Z"
    }
   },
   "outputs": [
    {
     "name": "stdout",
     "output_type": "stream",
     "text": [
      "model_params.embedding_pretrain.dropout=0.4\n",
      "learning_rate=0.0005\n",
      "clip_value=1.0\n",
      "checkpoint_path=./models/tox_16k_c6/toxicity_16k_0414/embedding_pretrain\n",
      "Model: \"embedding_pretrain\"\n",
      "_________________________________________________________________\n",
      "Layer (type)                 Output Shape              Param #   \n",
      "=================================================================\n",
      "embedding_1 (Embedding)      (None, 100, 300)          9000000   \n",
      "_________________________________________________________________\n",
      "global_average_pooling1d_1 ( (None, 300)               0         \n",
      "_________________________________________________________________\n",
      "dropout_3 (Dropout)          (None, 300)               0         \n",
      "_________________________________________________________________\n",
      "dense_3 (Dense)              (None, 6)                 1806      \n",
      "=================================================================\n",
      "Total params: 9,001,806\n",
      "Trainable params: 1,806\n",
      "Non-trainable params: 9,000,000\n",
      "_________________________________________________________________\n",
      "model_params.embedding_pretrain.epochs=3\n",
      "use ModelCheckpoint(filepath=./models/tox_16k_c6/toxicity_16k_0414/embedding_pretrain, monitor=val_binary_accuracy)\n",
      "use EarlyStopping(monitor=val_binary_accuracy, patience=40)\n",
      "use ReduceLROnPlateau(monitor=val_loss, factor=0.31622776601683794, patience=15)\n",
      "use LearningRateScheduler()\n",
      "4737/4737 [==============================] - 19s 4ms/step - loss: 0.7016 - binary_accuracy: 0.4657 - auc: 0.4862\n",
      "250/250 [==============================] - 1s 5ms/step - loss: 0.7016 - binary_accuracy: 0.4391 - auc: 0.4736\n",
      "save object to /tf/eipi10/xuxiangwen.github.io/_notes/05-ai/54-tensorflow/models/tox_16k_c6/toxicity_16k_0414/embedding_pretrain.predictor\n",
      "--------------------------------------------------------------------------------\n",
      "test loss:0.7016\n",
      "test binary_accuracy:0.4391\n"
     ]
    },
    {
     "name": "stderr",
     "output_type": "stream",
     "text": [
      "2021-04-15 08:42:31,965: INFO: start training\n"
     ]
    },
    {
     "name": "stdout",
     "output_type": "stream",
     "text": [
      "test auc:0.4753\n",
      "use_class_weight=None\n",
      "class_weight=None\n",
      "Epoch 00001: Still keep learning rate 0.0005 instead of 0.001\n",
      "Epoch 1/3\n",
      "4731/4737 [============================>.] - ETA: 0s - loss: 0.2283 - binary_accuracy: 0.9609 - auc: 0.6119INFO:tensorflow:Assets written to: ./models/tox_16k_c6/toxicity_16k_0414/embedding_pretrain/assets\n"
     ]
    },
    {
     "name": "stderr",
     "output_type": "stream",
     "text": [
      "2021-04-15 08:43:03,515: INFO: Assets written to: ./models/tox_16k_c6/toxicity_16k_0414/embedding_pretrain/assets\n"
     ]
    },
    {
     "name": "stdout",
     "output_type": "stream",
     "text": [
      "4737/4737 [==============================] - 30s 6ms/step - loss: 0.2282 - binary_accuracy: 0.9609 - auc: 0.6121 - val_loss: 0.1490 - val_binary_accuracy: 0.9613 - val_auc: 0.6879\n",
      "Epoch 00002: Still keep learning rate 0.0005 instead of 0.001\n",
      "Epoch 2/3\n",
      "4732/4737 [============================>.] - ETA: 0s - loss: 0.1243 - binary_accuracy: 0.9644 - auc: 0.7400INFO:tensorflow:Assets written to: ./models/tox_16k_c6/toxicity_16k_0414/embedding_pretrain/assets\n"
     ]
    },
    {
     "name": "stderr",
     "output_type": "stream",
     "text": [
      "2021-04-15 08:43:41,274: INFO: Assets written to: ./models/tox_16k_c6/toxicity_16k_0414/embedding_pretrain/assets\n"
     ]
    },
    {
     "name": "stdout",
     "output_type": "stream",
     "text": [
      "4737/4737 [==============================] - 38s 8ms/step - loss: 0.1242 - binary_accuracy: 0.9644 - auc: 0.7401 - val_loss: 0.1207 - val_binary_accuracy: 0.9625 - val_auc: 0.7737\n",
      "Epoch 00003: Still keep learning rate 0.0005 instead of 0.001\n",
      "Epoch 3/3\n",
      "4734/4737 [============================>.] - ETA: 0s - loss: 0.1074 - binary_accuracy: 0.9657 - auc: 0.8039INFO:tensorflow:Assets written to: ./models/tox_16k_c6/toxicity_16k_0414/embedding_pretrain/assets\n"
     ]
    },
    {
     "name": "stderr",
     "output_type": "stream",
     "text": [
      "2021-04-15 08:44:32,680: INFO: Assets written to: ./models/tox_16k_c6/toxicity_16k_0414/embedding_pretrain/assets\n"
     ]
    },
    {
     "name": "stdout",
     "output_type": "stream",
     "text": [
      "\b\b\b\b\b\b\b\b\b\b\b\b\b\b\b\b\b\b\b\b\b\b\b\b\b\b\b\b\b\b\b\b\b\b\b\b\b\b\b\b\b\b\b\b\b\b\b\b\b\b\b\b\b\b\b\b\b\b\b\b\b\b\b\b\b\b\b\b\b\b\b\b\b\b\b\b\b\b\b\b\b\b\b\b\b\b\b\b\b\b\b\b\b\b\b\b\b\b\b\b\b\b\b\b\b\b\b\r",
      "4737/4737 [==============================] - 51s 11ms/step - loss: 0.1074 - binary_accuracy: 0.9657 - auc: 0.8040 - val_loss: 0.1107 - val_binary_accuracy: 0.9639 - val_auc: 0.8225\n"
     ]
    },
    {
     "name": "stderr",
     "output_type": "stream",
     "text": [
      "2021-04-15 08:44:33,201: INFO: finish training [elapsed time: 121.24 seconds]\n"
     ]
    },
    {
     "data": {
      "image/png": "[encoded data removed]",
      "text/plain": [
       "<Figure size 1152x360 with 2 Axes>"
      ]
     },
     "metadata": {
      "needs_background": "light"
     },
     "output_type": "display_data"
    },
    {
     "name": "stdout",
     "output_type": "stream",
     "text": [
      "---------------------------------------- evaluate ----------------------------------------\n",
      "load best checkpoint from ./models/tox_16k_c6/toxicity_16k_0414/embedding_pretrain\n",
      "learning_rate=0.0005\n",
      "clip_value=1.0\n",
      "checkpoint_path=./models/tox_16k_c6/toxicity_16k_0414/embedding_pretrain\n",
      "4737/4737 [==============================] - 26s 5ms/step - loss: 0.1021 - binary_accuracy: 0.9662 - auc: 0.8298\n",
      "250/250 [==============================] - 1s 4ms/step - loss: 0.1107 - binary_accuracy: 0.9639 - auc: 0.8225\n",
      "save object to /tf/eipi10/xuxiangwen.github.io/_notes/05-ai/54-tensorflow/models/tox_16k_c6/toxicity_16k_0414/embedding_pretrain.predictor\n",
      "--------------------------------------------------------------------------------\n",
      "test loss:0.1107\n",
      "test binary_accuracy:0.9639\n",
      "test auc:0.8290\n",
      "-------------------------------------------------- all models --------------------------------------------------\n"
     ]
    },
    {
     "data": {
      "text/html": [
       "<div>\n",
       "<style scoped>\n",
       "    .dataframe tbody tr th:only-of-type {\n",
       "        vertical-align: middle;\n",
       "    }\n",
       "\n",
       "    .dataframe tbody tr th {\n",
       "        vertical-align: top;\n",
       "    }\n",
       "\n",
       "    .dataframe thead th {\n",
       "        text-align: right;\n",
       "    }\n",
       "</style>\n",
       "<table border=\"1\" class=\"dataframe\">\n",
       "  <thead>\n",
       "    <tr style=\"text-align: right;\">\n",
       "      <th></th>\n",
       "      <th>weight_number</th>\n",
       "      <th>train_time</th>\n",
       "      <th>train_loss</th>\n",
       "      <th>test_loss</th>\n",
       "      <th>train_binary_accuracy</th>\n",
       "      <th>test_binary_accuracy</th>\n",
       "      <th>train_auc</th>\n",
       "      <th>test_auc</th>\n",
       "    </tr>\n",
       "  </thead>\n",
       "  <tbody>\n",
       "    <tr>\n",
       "      <th>mlp</th>\n",
       "      <td>7681798</td>\n",
       "      <td>237.0</td>\n",
       "      <td>0.0544</td>\n",
       "      <td>0.0648</td>\n",
       "      <td>0.9816</td>\n",
       "      <td>0.9782</td>\n",
       "      <td>0.9696</td>\n",
       "      <td>0.9578</td>\n",
       "    </tr>\n",
       "    <tr>\n",
       "      <th>embedding</th>\n",
       "      <td>6001406</td>\n",
       "      <td>670.0</td>\n",
       "      <td>0.0702</td>\n",
       "      <td>0.0869</td>\n",
       "      <td>0.9769</td>\n",
       "      <td>0.9738</td>\n",
       "      <td>0.9557</td>\n",
       "      <td>0.9436</td>\n",
       "    </tr>\n",
       "    <tr>\n",
       "      <th>embedding_pretrain</th>\n",
       "      <td>9001806</td>\n",
       "      <td>121.0</td>\n",
       "      <td>0.1021</td>\n",
       "      <td>0.1107</td>\n",
       "      <td>0.9662</td>\n",
       "      <td>0.9639</td>\n",
       "      <td>0.8414</td>\n",
       "      <td>0.8290</td>\n",
       "    </tr>\n",
       "  </tbody>\n",
       "</table>\n",
       "</div>"
      ],
      "text/plain": [
       "                    weight_number  train_time  train_loss  test_loss  \\\n",
       "mlp                       7681798       237.0      0.0544     0.0648   \n",
       "embedding                 6001406       670.0      0.0702     0.0869   \n",
       "embedding_pretrain        9001806       121.0      0.1021     0.1107   \n",
       "\n",
       "                    train_binary_accuracy  test_binary_accuracy  train_auc  \\\n",
       "mlp                                0.9816                0.9782     0.9696   \n",
       "embedding                          0.9769                0.9738     0.9557   \n",
       "embedding_pretrain                 0.9662                0.9639     0.8414   \n",
       "\n",
       "                    test_auc  \n",
       "mlp                   0.9578  \n",
       "embedding             0.9436  \n",
       "embedding_pretrain    0.8290  "
      ]
     },
     "metadata": {},
     "output_type": "display_data"
    },
    {
     "name": "stdout",
     "output_type": "stream",
     "text": [
      "save json to ./models/tox_16k_c6/toxicity_16k_0414/model_results.json\n"
     ]
    }
   ],
   "source": [
    "model = get_embedding(helper, name='embedding_pretrain', \n",
    "                       embedding_matrix=embedding_matrix_fasttext_crawl, is_embedding_trainable=False)\n",
    "model.summary()\n",
    "history = helper.train(model)\n",
    "helper.model_summary(model, history=history)"
   ]
  },
  {
   "cell_type": "markdown",
   "metadata": {},
   "source": [
    "### sepCNN"
   ]
  },
  {
   "cell_type": "code",
   "execution_count": 47,
   "metadata": {
    "ExecuteTime": {
     "end_time": "2021-04-15T00:45:23.034846Z",
     "start_time": "2021-04-15T00:45:22.834817Z"
    }
   },
   "outputs": [
    {
     "name": "stdout",
     "output_type": "stream",
     "text": [
      "model_params.sepcnn.dropout=0.4\n",
      "learning_rate=0.0005\n",
      "clip_value=1.0\n",
      "checkpoint_path=./models/tox_16k_c6/toxicity_16k_0414/sepcnn\n",
      "Model: \"sepcnn\"\n",
      "_________________________________________________________________\n",
      "Layer (type)                 Output Shape              Param #   \n",
      "=================================================================\n",
      "embedding_2 (Embedding)      (None, 100, 200)          6000200   \n",
      "_________________________________________________________________\n",
      "dropout_4 (Dropout)          (None, 100, 200)          0         \n",
      "_________________________________________________________________\n",
      "separable_conv1d (SeparableC (None, 100, 128)          26328     \n",
      "_________________________________________________________________\n",
      "separable_conv1d_1 (Separabl (None, 100, 128)          16896     \n",
      "_________________________________________________________________\n",
      "max_pooling1d (MaxPooling1D) (None, 33, 128)           0         \n",
      "_________________________________________________________________\n",
      "global_average_pooling1d_2 ( (None, 128)               0         \n",
      "_________________________________________________________________\n",
      "dropout_5 (Dropout)          (None, 128)               0         \n",
      "_________________________________________________________________\n",
      "dense_4 (Dense)              (None, 6)                 774       \n",
      "=================================================================\n",
      "Total params: 6,044,198\n",
      "Trainable params: 6,044,198\n",
      "Non-trainable params: 0\n",
      "_________________________________________________________________\n"
     ]
    }
   ],
   "source": [
    "def get_sepcnn(helper,\n",
    "                 blocks=1,\n",
    "                 filters=64,\n",
    "                 kernel_size=3,\n",
    "                 embedding_dim=200,\n",
    "                 dropout=None,\n",
    "                 pool_size=3,\n",
    "                 use_pretrained_embedding=False,\n",
    "                 is_embedding_trainable=False,\n",
    "                 embedding_matrix=None, \n",
    "                 name='sepcnn'\n",
    "                ):\n",
    "    \"\"\"Creates an instance of a separable CNN model.\n",
    "\n",
    "    # Arguments\n",
    "        blocks: int, number of pairs of sepCNN and pooling blocks in the model.\n",
    "        filters: int, output dimension of the layers.\n",
    "        kernel_size: int, length of the convolution window.\n",
    "        embedding_dim: int, dimension of the embedding vectors.\n",
    "        dropout: float, percentage of input to drop at Dropout layers.\n",
    "        pool_size: int, factor by which to downscale input at MaxPooling layer.\n",
    "        input_shape: tuple, shape of input to the model.\n",
    "        num_classes: int, number of output classes.\n",
    "        num_features: int, number of words (embedding input dimension).\n",
    "        use_pretrained_embedding: bool, true if pre-trained embedding is on.\n",
    "        is_embedding_trainable: bool, true if embedding layer is trainable.\n",
    "        embedding_matrix: dict, dictionary with embedding coefficients.\n",
    "\n",
    "    # Returns\n",
    "        A sepCNN model instance.\n",
    "    \"\"\"\n",
    "    if dropout is None:\n",
    "        dropout = helper.get_model_param(name, 'dropout')\n",
    "        \n",
    "    input_shape = helper.datasets.input_shape\n",
    "    num_classes = len(helper.params.classes)\n",
    "    num_features = helper.params.max_features+1  \n",
    "    \n",
    "    model = models.Sequential(name=name)\n",
    "\n",
    "    # Add embedding layer. If pre-trained embedding is used add weights to the\n",
    "    # embeddings layer and set trainable to input is_embedding_trainable flag.\n",
    "    if use_pretrained_embedding:\n",
    "        model.add(layers.Embedding(input_dim=num_features,\n",
    "                                   output_dim=embedding_dim,\n",
    "                                   input_length=input_shape[0],\n",
    "                                   weights=[embedding_matrix],\n",
    "                                   trainable=is_embedding_trainable))\n",
    "    else:\n",
    "        model.add(layers.Embedding(input_dim=num_features,\n",
    "                                   output_dim=embedding_dim,\n",
    "                                   input_length=input_shape[0]))\n",
    "\n",
    "    for i in range(blocks):\n",
    "        model.add(layers.Dropout(rate=dropout))\n",
    "        if i==blocks-1: filters=filters*2\n",
    "        model.add(layers.SeparableConv1D(filters=filters,\n",
    "                                         kernel_size=kernel_size,\n",
    "                                         activation='relu',\n",
    "                                         bias_initializer='random_uniform',\n",
    "                                         depthwise_initializer='random_uniform',\n",
    "                                         padding='same'))\n",
    "        model.add(layers.SeparableConv1D(filters=filters,     \n",
    "                                         kernel_size=kernel_size,\n",
    "                                         activation='relu',\n",
    "                                         bias_initializer='random_uniform',\n",
    "                                         depthwise_initializer='random_uniform',\n",
    "                                         padding='same'))\n",
    "        model.add(layers.MaxPooling1D(pool_size=pool_size))\n",
    "\n",
    "    model.add(layers.GlobalAveragePooling1D())\n",
    "    if dropout>0: model.add(layers.Dropout(rate=dropout))\n",
    "    model.add(layers.Dense(num_classes, activation='sigmoid'))\n",
    "    helper.compile(model)  \n",
    "    return model\n",
    "\n",
    "\n",
    "helper = TextClassificationHelper(params, model_results=model_results, datasets=sequence_datasets)\n",
    "model = get_sepcnn(helper, blocks=1)\n",
    "# when bolcks=2, the model can't converg\n",
    "model.summary()"
   ]
  },
  {
   "cell_type": "code",
   "execution_count": 48,
   "metadata": {
    "ExecuteTime": {
     "end_time": "2021-04-15T00:45:23.094025Z",
     "start_time": "2021-04-15T00:45:23.037496Z"
    },
    "scrolled": false
   },
   "outputs": [],
   "source": [
    "# history = helper.train(model, batch_size=32)"
   ]
  },
  {
   "cell_type": "code",
   "execution_count": 49,
   "metadata": {
    "ExecuteTime": {
     "end_time": "2021-04-15T00:45:23.151471Z",
     "start_time": "2021-04-15T00:45:23.096813Z"
    },
    "scrolled": false
   },
   "outputs": [],
   "source": [
    "# helper.model_summary(model, history=history)"
   ]
  },
  {
   "cell_type": "markdown",
   "metadata": {},
   "source": [
    "### LSTM"
   ]
  },
  {
   "cell_type": "code",
   "execution_count": 50,
   "metadata": {
    "ExecuteTime": {
     "end_time": "2021-04-15T00:45:23.619702Z",
     "start_time": "2021-04-15T00:45:23.154541Z"
    }
   },
   "outputs": [
    {
     "name": "stdout",
     "output_type": "stream",
     "text": [
      "model_params.rnn_lstm.dropout=0.3\n",
      "model_params.rnn_lstm.units=200\n",
      "max_features=30000\n",
      "model_params.rnn_lstm.embedding_dim=200\n",
      "learning_rate=0.0005\n",
      "clip_value=1.0\n",
      "checkpoint_path=./models/tox_16k_c6/toxicity_16k_0414/rnn_lstm\n",
      "Model: \"rnn_lstm\"\n",
      "_________________________________________________________________\n",
      "Layer (type)                 Output Shape              Param #   \n",
      "=================================================================\n",
      "input_2 (InputLayer)         [(None, 100)]             0         \n",
      "_________________________________________________________________\n",
      "embedding_3 (Embedding)      (None, 100, 200)          6000200   \n",
      "_________________________________________________________________\n",
      "lstm (LSTM)                  (None, 200)               320800    \n",
      "_________________________________________________________________\n",
      "dropout_6 (Dropout)          (None, 200)               0         \n",
      "_________________________________________________________________\n",
      "dense_5 (Dense)              (None, 6)                 1206      \n",
      "=================================================================\n",
      "Total params: 6,322,206\n",
      "Trainable params: 6,322,206\n",
      "Non-trainable params: 0\n",
      "_________________________________________________________________\n"
     ]
    }
   ],
   "source": [
    "def get_lstm(helper, name='rnn_lstm', \n",
    "             dropout=None, \n",
    "             is_embedding_trainable=False,\n",
    "             embedding_matrix=None,\n",
    "             mask_zero=True,\n",
    "             use_bidirectional = False,\n",
    "             use_stacked = False\n",
    "            ):\n",
    "    if dropout is None:\n",
    "        dropout = helper.get_model_param(name, 'dropout')   \n",
    "\n",
    "    units = helper.get_model_param(name, 'units')\n",
    "    max_features = helper.get_model_param(name, 'max_features')\n",
    "    embedding_dim = helper.get_model_param(name, 'embedding_dim') \n",
    "    \n",
    "    input = layers.Input(shape=helper.datasets.input_shape)\n",
    "    if embedding_matrix is None:\n",
    "        x = layers.Embedding(input_dim=max_features+1, output_dim=embedding_dim)(input)\n",
    "    else:\n",
    "        num_features, embedding_dim = embedding_matrix.shape\n",
    "        x = layers.Embedding(input_dim=num_features,\n",
    "                             output_dim=embedding_dim,\n",
    "                             weights=[embedding_matrix],\n",
    "                             trainable=is_embedding_trainable,\n",
    "                             mask_zero=mask_zero\n",
    "                            )(input)      \n",
    "    if use_bidirectional and use_stacked:\n",
    "        x = layers.Bidirectional(layers.LSTM(units=units, return_sequences=True))(x)\n",
    "        x = layers.LSTM(units=units)(x)\n",
    "    elif use_bidirectional and not use_stacked:\n",
    "        x = layers.Bidirectional(layers.LSTM(units=units, return_sequences=True))(x)\n",
    "    else:\n",
    "        x = layers.LSTM(units=units)(x)\n",
    "    if dropout>0: x = layers.Dropout(dropout)(x)\n",
    "    x = layers.Dense(len(helper.params.classes), activation='sigmoid')(x)  \n",
    "    model = Model(inputs=input, outputs=x, name=name) \n",
    "    helper.compile(model)      \n",
    "    return model \n",
    "\n",
    "helper = TextClassificationHelper(params, model_results=model_results, datasets=sequence_datasets)\n",
    "model = get_lstm(helper)\n",
    "model.summary()\n"
   ]
  },
  {
   "cell_type": "code",
   "execution_count": 51,
   "metadata": {
    "ExecuteTime": {
     "end_time": "2021-04-15T00:45:23.681936Z",
     "start_time": "2021-04-15T00:45:23.622646Z"
    }
   },
   "outputs": [],
   "source": [
    "# history = helper.train(model)"
   ]
  },
  {
   "cell_type": "code",
   "execution_count": 52,
   "metadata": {
    "ExecuteTime": {
     "end_time": "2021-04-15T00:45:23.736214Z",
     "start_time": "2021-04-15T00:45:23.684297Z"
    }
   },
   "outputs": [],
   "source": [
    "# model = get_lstm(helper, name='rnn_pretrain',\n",
    "#                  embedding_matrix=embedding_matrix_cc,\n",
    "#                  is_embedding_trainable=True,\n",
    "#                  mask_zero=True)\n",
    "# model.summary()\n",
    "# history = helper.train(model)"
   ]
  },
  {
   "cell_type": "code",
   "execution_count": 53,
   "metadata": {
    "ExecuteTime": {
     "end_time": "2021-04-15T00:45:23.800088Z",
     "start_time": "2021-04-15T00:45:23.738516Z"
    }
   },
   "outputs": [],
   "source": [
    "# model = get_lstm(helper, name='rnn_pretrain',\n",
    "#                  embedding_matrix=embedding_matrix_cc,\n",
    "#                  is_embedding_trainable=True,\n",
    "#                  mask_zero=True)\n",
    "# model.summary()\n",
    "# history = helper.train(model)"
   ]
  },
  {
   "cell_type": "code",
   "execution_count": 54,
   "metadata": {
    "ExecuteTime": {
     "end_time": "2021-04-15T00:45:23.854252Z",
     "start_time": "2021-04-15T00:45:23.802641Z"
    },
    "scrolled": false
   },
   "outputs": [],
   "source": [
    "# helper.model_summary(model, history=history)"
   ]
  },
  {
   "cell_type": "markdown",
   "metadata": {},
   "source": [
    "### LSTM + Bidirectional + Stacked"
   ]
  },
  {
   "cell_type": "code",
   "execution_count": 56,
   "metadata": {
    "ExecuteTime": {
     "end_time": "2021-04-15T00:51:10.469065Z",
     "start_time": "2021-04-15T00:51:07.395023Z"
    }
   },
   "outputs": [
    {
     "name": "stdout",
     "output_type": "stream",
     "text": [
      "model_params.rnn_lstm_stacked.dropout=0.3\n",
      "model_params.rnn_lstm_stacked.units=200\n",
      "max_features=30000\n",
      "model_params.rnn_lstm_stacked.embedding_dim=200\n",
      "learning_rate=0.0005\n",
      "clip_value=1.0\n",
      "checkpoint_path=./models/tox_16k_c6/toxicity_16k_0414/rnn_lstm_stacked\n",
      "Model: \"rnn_lstm_stacked\"\n",
      "_________________________________________________________________\n",
      "Layer (type)                 Output Shape              Param #   \n",
      "=================================================================\n",
      "input_4 (InputLayer)         [(None, 100)]             0         \n",
      "_________________________________________________________________\n",
      "embedding_5 (Embedding)      (None, 100, 200)          6000000   \n",
      "_________________________________________________________________\n",
      "bidirectional_1 (Bidirection (None, 100, 400)          641600    \n",
      "_________________________________________________________________\n",
      "lstm_4 (LSTM)                (None, 200)               480800    \n",
      "_________________________________________________________________\n",
      "dropout_8 (Dropout)          (None, 200)               0         \n",
      "_________________________________________________________________\n",
      "dense_6 (Dense)              (None, 6)                 1206      \n",
      "=================================================================\n",
      "Total params: 7,123,606\n",
      "Trainable params: 7,123,606\n",
      "Non-trainable params: 0\n",
      "_________________________________________________________________\n"
     ]
    }
   ],
   "source": [
    "def get_lstm_stacked(helper, name='rnn_lstm_stacked', dropout=None):\n",
    "    if dropout is None:\n",
    "        dropout = helper.get_model_param(name, 'dropout')   \n",
    "    \n",
    "    units = helper.get_model_param(name, 'units')\n",
    "    max_features = helper.get_model_param(name, 'max_features')\n",
    "    embedding_dim = helper.get_model_param(name, 'embedding_dim') \n",
    "    \n",
    "    input = layers.Input(shape=helper.datasets.input_shape)\n",
    "    x = layers.Embedding(input_dim=max_features, output_dim=embedding_dim, mask_zero=True)(input)\n",
    "    x = layers.Bidirectional(layers.LSTM(units=units, return_sequences=True))(x)\n",
    "    x = layers.LSTM(units=units)(x)\n",
    "    if dropout>0: x = layers.Dropout(dropout)(x)\n",
    "    x = layers.Dense(len(helper.params.classes), activation='sigmoid')(x)  \n",
    "    model = Model(inputs=input, outputs=x, name=name) \n",
    "    helper.compile(model)      \n",
    "    return model \n",
    "\n",
    "helper = TextClassificationHelper(params, model_results=model_results, datasets=sequence_datasets)\n",
    "model = get_lstm_stacked(helper)\n",
    "model.summary()"
   ]
  },
  {
   "cell_type": "code",
   "execution_count": 57,
   "metadata": {
    "ExecuteTime": {
     "end_time": "2021-04-15T00:51:10.530707Z",
     "start_time": "2021-04-15T00:51:10.471838Z"
    }
   },
   "outputs": [],
   "source": [
    "# history = helper.train(model)"
   ]
  },
  {
   "cell_type": "code",
   "execution_count": 58,
   "metadata": {
    "ExecuteTime": {
     "end_time": "2021-04-15T00:51:10.585903Z",
     "start_time": "2021-04-15T00:51:10.533242Z"
    }
   },
   "outputs": [],
   "source": [
    "# helper.model_summary(model, history=history)"
   ]
  },
  {
   "cell_type": "markdown",
   "metadata": {},
   "source": [
    "### Pooled GRU \n",
    "参考 [Pooled GRU + FastText](https://www.kaggle.com/yekenot/pooled-gru-fasttext?select=crawl-300d-2M.vec)"
   ]
  },
  {
   "cell_type": "code",
   "execution_count": 60,
   "metadata": {
    "ExecuteTime": {
     "end_time": "2021-04-15T00:51:25.587197Z",
     "start_time": "2021-04-15T00:51:25.527592Z"
    }
   },
   "outputs": [],
   "source": [
    "def get_pooled_gru(helper, name='pooled_gru', \n",
    "             dropout=None, \n",
    "             is_embedding_trainable=False,\n",
    "             embedding_matrix=None,\n",
    "             mask_zero=False\n",
    "            ):\n",
    "    if dropout is None:\n",
    "        dropout = helper.get_model_param(name, 'dropout')   \n",
    "\n",
    "    units = helper.get_model_param(name, 'units')\n",
    "    max_features = helper.get_model_param(name, 'max_features')\n",
    "    embedding_dim = helper.get_model_param(name, 'embedding_dim') \n",
    "    \n",
    "    input = layers.Input(shape=helper.datasets.input_shape)\n",
    "    if embedding_matrix is None:\n",
    "        x = layers.Embedding(input_dim=max_features+1, output_dim=embedding_dim)(input)\n",
    "    else:\n",
    "        num_features, embedding_dim = embedding_matrix.shape\n",
    "        x = layers.Embedding(input_dim=num_features,\n",
    "                             output_dim=embedding_dim,\n",
    "                             weights=[embedding_matrix],\n",
    "                             trainable=is_embedding_trainable,\n",
    "                             mask_zero=mask_zero\n",
    "                            )(input)      \n",
    "    x = layers.SpatialDropout1D(dropout)(x)\n",
    "    \n",
    "    x = layers.Bidirectional(layers.GRU(units, return_sequences=True))(x)\n",
    "    x = layers.GRU(units, return_sequences=True)(x)\n",
    "    \n",
    "    avg_pool = layers.GlobalAveragePooling1D()(x)\n",
    "    max_pool = layers.GlobalMaxPooling1D()(x)\n",
    "    x = layers.concatenate([avg_pool, max_pool])\n",
    "\n",
    "    \n",
    "    x = layers.Dense(len(helper.params.classes), activation='sigmoid')(x)  \n",
    "    model = Model(inputs=input, outputs=x, name=name) \n",
    "    helper.compile(model)      \n",
    "    return model \n",
    "\n"
   ]
  },
  {
   "cell_type": "markdown",
   "metadata": {},
   "source": [
    "#### pooled_gru_fasttext"
   ]
  },
  {
   "cell_type": "code",
   "execution_count": 61,
   "metadata": {
    "ExecuteTime": {
     "end_time": "2021-04-15T01:30:30.186570Z",
     "start_time": "2021-04-15T00:51:27.217424Z"
    },
    "scrolled": false
   },
   "outputs": [
    {
     "name": "stdout",
     "output_type": "stream",
     "text": [
      "model_params.pooled_gru_fasttext.dropout=0.3\n",
      "model_params.pooled_gru_fasttext.units=160\n",
      "max_features=30000\n",
      "model_params.pooled_gru_fasttext.embedding_dim=300\n",
      "model_params.pooled_gru_fasttext.learning_rate=0.001\n",
      "clip_value=1.0\n",
      "checkpoint_path=./models/tox_16k_c6/toxicity_16k_0414/pooled_gru_fasttext\n",
      "Model: \"pooled_gru_fasttext\"\n",
      "__________________________________________________________________________________________________\n",
      "Layer (type)                    Output Shape         Param #     Connected to                     \n",
      "==================================================================================================\n",
      "input_5 (InputLayer)            [(None, 100)]        0                                            \n",
      "__________________________________________________________________________________________________\n",
      "embedding_6 (Embedding)         (None, 100, 300)     9000000     input_5[0][0]                    \n",
      "__________________________________________________________________________________________________\n",
      "spatial_dropout1d (SpatialDropo (None, 100, 300)     0           embedding_6[0][0]                \n",
      "__________________________________________________________________________________________________\n",
      "bidirectional_2 (Bidirectional) (None, 100, 320)     443520      spatial_dropout1d[0][0]          \n",
      "__________________________________________________________________________________________________\n",
      "gru_1 (GRU)                     (None, 100, 160)     231360      bidirectional_2[0][0]            \n",
      "__________________________________________________________________________________________________\n",
      "global_average_pooling1d_3 (Glo (None, 160)          0           gru_1[0][0]                      \n",
      "__________________________________________________________________________________________________\n",
      "global_max_pooling1d (GlobalMax (None, 160)          0           gru_1[0][0]                      \n",
      "__________________________________________________________________________________________________\n",
      "concatenate (Concatenate)       (None, 320)          0           global_average_pooling1d_3[0][0] \n",
      "                                                                 global_max_pooling1d[0][0]       \n",
      "__________________________________________________________________________________________________\n",
      "dense_7 (Dense)                 (None, 6)            1926        concatenate[0][0]                \n",
      "==================================================================================================\n",
      "Total params: 9,676,806\n",
      "Trainable params: 676,806\n",
      "Non-trainable params: 9,000,000\n",
      "__________________________________________________________________________________________________\n",
      "model_params.pooled_gru_fasttext.epochs=6\n",
      "use ModelCheckpoint(filepath=./models/tox_16k_c6/toxicity_16k_0414/pooled_gru_fasttext, monitor=val_binary_accuracy)\n",
      "use EarlyStopping(monitor=val_binary_accuracy, patience=40)\n",
      "use ReduceLROnPlateau(monitor=val_loss, factor=0.31622776601683794, patience=15)\n",
      "use LearningRateScheduler()\n",
      "4737/4737 [==============================] - 125s 26ms/step - loss: 0.6964 - binary_accuracy: 0.4128 - auc: 0.4743\n",
      "250/250 [==============================] - 11s 45ms/step - loss: 0.6963 - binary_accuracy: 0.4134 - auc: 0.4729\n",
      "save object to /tf/eipi10/xuxiangwen.github.io/_notes/05-ai/54-tensorflow/models/tox_16k_c6/toxicity_16k_0414/pooled_gru_fasttext.predictor\n",
      "--------------------------------------------------------------------------------\n",
      "test loss:0.6963\n",
      "test binary_accuracy:0.4134\n"
     ]
    },
    {
     "name": "stderr",
     "output_type": "stream",
     "text": [
      "2021-04-15 08:56:02,808: INFO: start training\n"
     ]
    },
    {
     "name": "stdout",
     "output_type": "stream",
     "text": [
      "test auc:0.4714\n",
      "use_class_weight=None\n",
      "class_weight=None\n",
      "Epoch 1/6\n",
      "4737/4737 [==============================] - ETA: 0s - loss: 0.0531 - binary_accuracy: 0.9809 - auc: 0.9590INFO:tensorflow:Assets written to: ./models/tox_16k_c6/toxicity_16k_0414/pooled_gru_fasttext/assets\n"
     ]
    },
    {
     "name": "stderr",
     "output_type": "stream",
     "text": [
      "2021-04-15 09:01:25,249: INFO: Assets written to: ./models/tox_16k_c6/toxicity_16k_0414/pooled_gru_fasttext/assets\n"
     ]
    },
    {
     "name": "stdout",
     "output_type": "stream",
     "text": [
      "4737/4737 [==============================] - 319s 67ms/step - loss: 0.0531 - binary_accuracy: 0.9809 - auc: 0.9590 - val_loss: 0.0482 - val_binary_accuracy: 0.9821 - val_auc: 0.9757\n",
      "Epoch 2/6\n",
      "4737/4737 [==============================] - ETA: 0s - loss: 0.0449 - binary_accuracy: 0.9832 - auc: 0.9747INFO:tensorflow:Assets written to: ./models/tox_16k_c6/toxicity_16k_0414/pooled_gru_fasttext/assets\n"
     ]
    },
    {
     "name": "stderr",
     "output_type": "stream",
     "text": [
      "2021-04-15 09:05:49,886: INFO: Assets written to: ./models/tox_16k_c6/toxicity_16k_0414/pooled_gru_fasttext/assets\n"
     ]
    },
    {
     "name": "stdout",
     "output_type": "stream",
     "text": [
      "4737/4737 [==============================] - 264s 56ms/step - loss: 0.0449 - binary_accuracy: 0.9832 - auc: 0.9747 - val_loss: 0.0460 - val_binary_accuracy: 0.9831 - val_auc: 0.9785\n",
      "Epoch 3/6\n",
      "4737/4737 [==============================] - 270s 57ms/step - loss: 0.0422 - binary_accuracy: 0.9839 - auc: 0.9773 - val_loss: 0.0459 - val_binary_accuracy: 0.9829 - val_auc: 0.9790\n",
      "Epoch 4/6\n",
      "4737/4737 [==============================] - ETA: 0s - loss: 0.0404 - binary_accuracy: 0.9845 - auc: 0.9802INFO:tensorflow:Assets written to: ./models/tox_16k_c6/toxicity_16k_0414/pooled_gru_fasttext/assets\n"
     ]
    },
    {
     "name": "stderr",
     "output_type": "stream",
     "text": [
      "2021-04-15 09:15:31,142: INFO: Assets written to: ./models/tox_16k_c6/toxicity_16k_0414/pooled_gru_fasttext/assets\n"
     ]
    },
    {
     "name": "stdout",
     "output_type": "stream",
     "text": [
      "4737/4737 [==============================] - 310s 66ms/step - loss: 0.0404 - binary_accuracy: 0.9845 - auc: 0.9802 - val_loss: 0.0451 - val_binary_accuracy: 0.9835 - val_auc: 0.9799\n",
      "Epoch 5/6\n",
      "4737/4737 [==============================] - ETA: 0s - loss: 0.0380 - binary_accuracy: 0.9853 - auc: 0.9834INFO:tensorflow:Assets written to: ./models/tox_16k_c6/toxicity_16k_0414/pooled_gru_fasttext/assets\n"
     ]
    },
    {
     "name": "stderr",
     "output_type": "stream",
     "text": [
      "2021-04-15 09:21:09,196: INFO: Assets written to: ./models/tox_16k_c6/toxicity_16k_0414/pooled_gru_fasttext/assets\n"
     ]
    },
    {
     "name": "stdout",
     "output_type": "stream",
     "text": [
      "4737/4737 [==============================] - 338s 71ms/step - loss: 0.0380 - binary_accuracy: 0.9853 - auc: 0.9834 - val_loss: 0.0451 - val_binary_accuracy: 0.9837 - val_auc: 0.9741\n",
      "Epoch 6/6\n",
      "4737/4737 [==============================] - 273s 58ms/step - loss: 0.0361 - binary_accuracy: 0.9859 - auc: 0.9855 - val_loss: 0.0459 - val_binary_accuracy: 0.9828 - val_auc: 0.9769\n"
     ]
    },
    {
     "name": "stderr",
     "output_type": "stream",
     "text": [
      "2021-04-15 09:25:43,856: INFO: finish training [elapsed time: 1781.05 seconds]\n"
     ]
    },
    {
     "data": {
      "image/png": "[encoded data removed]",
      "text/plain": [
       "<Figure size 1152x360 with 2 Axes>"
      ]
     },
     "metadata": {
      "needs_background": "light"
     },
     "output_type": "display_data"
    },
    {
     "name": "stdout",
     "output_type": "stream",
     "text": [
      "---------------------------------------- evaluate ----------------------------------------\n",
      "load best checkpoint from ./models/tox_16k_c6/toxicity_16k_0414/pooled_gru_fasttext\n",
      "model_params.pooled_gru_fasttext.learning_rate=0.001\n",
      "clip_value=1.0\n",
      "checkpoint_path=./models/tox_16k_c6/toxicity_16k_0414/pooled_gru_fasttext\n",
      "4737/4737 [==============================] - 130s 27ms/step - loss: 0.0321 - binary_accuracy: 0.9873 - auc: 0.9889\n",
      "250/250 [==============================] - 12s 46ms/step - loss: 0.0451 - binary_accuracy: 0.9837 - auc: 0.9741\n",
      "save object to /tf/eipi10/xuxiangwen.github.io/_notes/05-ai/54-tensorflow/models/tox_16k_c6/toxicity_16k_0414/pooled_gru_fasttext.predictor\n",
      "--------------------------------------------------------------------------------\n",
      "test loss:0.0451\n",
      "test binary_accuracy:0.9837\n",
      "test auc:0.9867\n",
      "-------------------------------------------------- all models --------------------------------------------------\n"
     ]
    },
    {
     "data": {
      "text/html": [
       "<div>\n",
       "<style scoped>\n",
       "    .dataframe tbody tr th:only-of-type {\n",
       "        vertical-align: middle;\n",
       "    }\n",
       "\n",
       "    .dataframe tbody tr th {\n",
       "        vertical-align: top;\n",
       "    }\n",
       "\n",
       "    .dataframe thead th {\n",
       "        text-align: right;\n",
       "    }\n",
       "</style>\n",
       "<table border=\"1\" class=\"dataframe\">\n",
       "  <thead>\n",
       "    <tr style=\"text-align: right;\">\n",
       "      <th></th>\n",
       "      <th>weight_number</th>\n",
       "      <th>train_time</th>\n",
       "      <th>train_loss</th>\n",
       "      <th>test_loss</th>\n",
       "      <th>train_binary_accuracy</th>\n",
       "      <th>test_binary_accuracy</th>\n",
       "      <th>train_auc</th>\n",
       "      <th>test_auc</th>\n",
       "    </tr>\n",
       "  </thead>\n",
       "  <tbody>\n",
       "    <tr>\n",
       "      <th>pooled_gru_fasttext</th>\n",
       "      <td>9676806</td>\n",
       "      <td>1781.0</td>\n",
       "      <td>0.0321</td>\n",
       "      <td>0.0451</td>\n",
       "      <td>0.9873</td>\n",
       "      <td>0.9837</td>\n",
       "      <td>0.9935</td>\n",
       "      <td>0.9867</td>\n",
       "    </tr>\n",
       "    <tr>\n",
       "      <th>mlp</th>\n",
       "      <td>7681798</td>\n",
       "      <td>237.0</td>\n",
       "      <td>0.0544</td>\n",
       "      <td>0.0648</td>\n",
       "      <td>0.9816</td>\n",
       "      <td>0.9782</td>\n",
       "      <td>0.9696</td>\n",
       "      <td>0.9578</td>\n",
       "    </tr>\n",
       "    <tr>\n",
       "      <th>embedding</th>\n",
       "      <td>6001406</td>\n",
       "      <td>670.0</td>\n",
       "      <td>0.0702</td>\n",
       "      <td>0.0869</td>\n",
       "      <td>0.9769</td>\n",
       "      <td>0.9738</td>\n",
       "      <td>0.9557</td>\n",
       "      <td>0.9436</td>\n",
       "    </tr>\n",
       "    <tr>\n",
       "      <th>embedding_pretrain</th>\n",
       "      <td>9001806</td>\n",
       "      <td>121.0</td>\n",
       "      <td>0.1021</td>\n",
       "      <td>0.1107</td>\n",
       "      <td>0.9662</td>\n",
       "      <td>0.9639</td>\n",
       "      <td>0.8414</td>\n",
       "      <td>0.8290</td>\n",
       "    </tr>\n",
       "  </tbody>\n",
       "</table>\n",
       "</div>"
      ],
      "text/plain": [
       "                     weight_number  train_time  train_loss  test_loss  \\\n",
       "pooled_gru_fasttext        9676806      1781.0      0.0321     0.0451   \n",
       "mlp                        7681798       237.0      0.0544     0.0648   \n",
       "embedding                  6001406       670.0      0.0702     0.0869   \n",
       "embedding_pretrain         9001806       121.0      0.1021     0.1107   \n",
       "\n",
       "                     train_binary_accuracy  test_binary_accuracy  train_auc  \\\n",
       "pooled_gru_fasttext                 0.9873                0.9837     0.9935   \n",
       "mlp                                 0.9816                0.9782     0.9696   \n",
       "embedding                           0.9769                0.9738     0.9557   \n",
       "embedding_pretrain                  0.9662                0.9639     0.8414   \n",
       "\n",
       "                     test_auc  \n",
       "pooled_gru_fasttext    0.9867  \n",
       "mlp                    0.9578  \n",
       "embedding              0.9436  \n",
       "embedding_pretrain     0.8290  "
      ]
     },
     "metadata": {},
     "output_type": "display_data"
    },
    {
     "name": "stdout",
     "output_type": "stream",
     "text": [
      "save json to ./models/tox_16k_c6/toxicity_16k_0414/model_results.json\n"
     ]
    }
   ],
   "source": [
    "helper = TextClassificationHelper(params, model_results=model_results, datasets=sequence_datasets)\n",
    "model = get_pooled_gru(helper, name='pooled_gru_fasttext', embedding_matrix=embedding_matrix_fasttext_crawl)\n",
    "model.summary()\n",
    "history = helper.train(model)\n",
    "helper.model_summary(model, history=history)"
   ]
  },
  {
   "cell_type": "markdown",
   "metadata": {},
   "source": [
    "#### pooled_gru_glove"
   ]
  },
  {
   "cell_type": "code",
   "execution_count": 62,
   "metadata": {
    "ExecuteTime": {
     "end_time": "2021-04-15T02:10:50.294276Z",
     "start_time": "2021-04-15T01:30:30.188939Z"
    },
    "scrolled": false
   },
   "outputs": [
    {
     "name": "stdout",
     "output_type": "stream",
     "text": [
      "model_params.pooled_gru_glove.dropout=0.3\n",
      "model_params.pooled_gru_glove.units=160\n",
      "max_features=30000\n",
      "model_params.pooled_gru_glove.embedding_dim=300\n",
      "model_params.pooled_gru_glove.learning_rate=0.001\n",
      "clip_value=1.0\n",
      "checkpoint_path=./models/tox_16k_c6/toxicity_16k_0414/pooled_gru_glove\n",
      "Model: \"pooled_gru_glove\"\n",
      "__________________________________________________________________________________________________\n",
      "Layer (type)                    Output Shape         Param #     Connected to                     \n",
      "==================================================================================================\n",
      "input_6 (InputLayer)            [(None, 100)]        0                                            \n",
      "__________________________________________________________________________________________________\n",
      "embedding_7 (Embedding)         (None, 100, 200)     6000000     input_6[0][0]                    \n",
      "__________________________________________________________________________________________________\n",
      "spatial_dropout1d_1 (SpatialDro (None, 100, 200)     0           embedding_7[0][0]                \n",
      "__________________________________________________________________________________________________\n",
      "bidirectional_3 (Bidirectional) (None, 100, 320)     347520      spatial_dropout1d_1[0][0]        \n",
      "__________________________________________________________________________________________________\n",
      "gru_3 (GRU)                     (None, 100, 160)     231360      bidirectional_3[0][0]            \n",
      "__________________________________________________________________________________________________\n",
      "global_average_pooling1d_4 (Glo (None, 160)          0           gru_3[0][0]                      \n",
      "__________________________________________________________________________________________________\n",
      "global_max_pooling1d_1 (GlobalM (None, 160)          0           gru_3[0][0]                      \n",
      "__________________________________________________________________________________________________\n",
      "concatenate_1 (Concatenate)     (None, 320)          0           global_average_pooling1d_4[0][0] \n",
      "                                                                 global_max_pooling1d_1[0][0]     \n",
      "__________________________________________________________________________________________________\n",
      "dense_8 (Dense)                 (None, 6)            1926        concatenate_1[0][0]              \n",
      "==================================================================================================\n",
      "Total params: 6,580,806\n",
      "Trainable params: 6,580,806\n",
      "Non-trainable params: 0\n",
      "__________________________________________________________________________________________________\n",
      "model_params.pooled_gru_glove.epochs=6\n",
      "use ModelCheckpoint(filepath=./models/tox_16k_c6/toxicity_16k_0414/pooled_gru_glove, monitor=val_binary_accuracy)\n",
      "use EarlyStopping(monitor=val_binary_accuracy, patience=40)\n",
      "use ReduceLROnPlateau(monitor=val_loss, factor=0.31622776601683794, patience=15)\n",
      "use LearningRateScheduler()\n",
      "4737/4737 [==============================] - 164s 35ms/step - loss: 0.8217 - binary_accuracy: 0.1505 - auc: 0.5259\n",
      "250/250 [==============================] - 8s 33ms/step - loss: 0.8214 - binary_accuracy: 0.1071 - auc: 0.5054\n",
      "save object to /tf/eipi10/xuxiangwen.github.io/_notes/05-ai/54-tensorflow/models/tox_16k_c6/toxicity_16k_0414/pooled_gru_glove.predictor\n",
      "--------------------------------------------------------------------------------\n",
      "test loss:0.8214\n",
      "test binary_accuracy:0.1071\n"
     ]
    },
    {
     "name": "stderr",
     "output_type": "stream",
     "text": [
      "2021-04-15 09:35:26,385: INFO: start training\n"
     ]
    },
    {
     "name": "stdout",
     "output_type": "stream",
     "text": [
      "test auc:0.5058\n",
      "use_class_weight=None\n",
      "class_weight=None\n",
      "Epoch 1/6\n",
      "4737/4737 [==============================] - ETA: 0s - loss: 0.0535 - binary_accuracy: 0.9809 - auc: 0.9555INFO:tensorflow:Assets written to: ./models/tox_16k_c6/toxicity_16k_0414/pooled_gru_glove/assets\n"
     ]
    },
    {
     "name": "stderr",
     "output_type": "stream",
     "text": [
      "2021-04-15 09:41:32,527: INFO: Assets written to: ./models/tox_16k_c6/toxicity_16k_0414/pooled_gru_glove/assets\n"
     ]
    },
    {
     "name": "stdout",
     "output_type": "stream",
     "text": [
      "4737/4737 [==============================] - 362s 76ms/step - loss: 0.0535 - binary_accuracy: 0.9809 - auc: 0.9555 - val_loss: 0.0486 - val_binary_accuracy: 0.9821 - val_auc: 0.9784\n",
      "Epoch 2/6\n",
      "4737/4737 [==============================] - ETA: 0s - loss: 0.0421 - binary_accuracy: 0.9840 - auc: 0.9784INFO:tensorflow:Assets written to: ./models/tox_16k_c6/toxicity_16k_0414/pooled_gru_glove/assets\n"
     ]
    },
    {
     "name": "stderr",
     "output_type": "stream",
     "text": [
      "2021-04-15 09:46:53,992: INFO: Assets written to: ./models/tox_16k_c6/toxicity_16k_0414/pooled_gru_glove/assets\n"
     ]
    },
    {
     "name": "stdout",
     "output_type": "stream",
     "text": [
      "4737/4737 [==============================] - 321s 68ms/step - loss: 0.0421 - binary_accuracy: 0.9840 - auc: 0.9784 - val_loss: 0.0495 - val_binary_accuracy: 0.9824 - val_auc: 0.9751\n",
      "Epoch 3/6\n",
      "4737/4737 [==============================] - ETA: 0s - loss: 0.0378 - binary_accuracy: 0.9852 - auc: 0.9820INFO:tensorflow:Assets written to: ./models/tox_16k_c6/toxicity_16k_0414/pooled_gru_glove/assets\n"
     ]
    },
    {
     "name": "stderr",
     "output_type": "stream",
     "text": [
      "2021-04-15 09:52:00,729: INFO: Assets written to: ./models/tox_16k_c6/toxicity_16k_0414/pooled_gru_glove/assets\n"
     ]
    },
    {
     "name": "stdout",
     "output_type": "stream",
     "text": [
      "4737/4737 [==============================] - 306s 65ms/step - loss: 0.0378 - binary_accuracy: 0.9852 - auc: 0.9820 - val_loss: 0.0485 - val_binary_accuracy: 0.9829 - val_auc: 0.9716\n",
      "Epoch 4/6\n",
      "4737/4737 [==============================] - ETA: 0s - loss: 0.0344 - binary_accuracy: 0.9864 - auc: 0.9868INFO:tensorflow:Assets written to: ./models/tox_16k_c6/toxicity_16k_0414/pooled_gru_glove/assets\n"
     ]
    },
    {
     "name": "stderr",
     "output_type": "stream",
     "text": [
      "2021-04-15 09:57:28,839: INFO: Assets written to: ./models/tox_16k_c6/toxicity_16k_0414/pooled_gru_glove/assets\n"
     ]
    },
    {
     "name": "stdout",
     "output_type": "stream",
     "text": [
      "4737/4737 [==============================] - 328s 69ms/step - loss: 0.0344 - binary_accuracy: 0.9864 - auc: 0.9868 - val_loss: 0.0482 - val_binary_accuracy: 0.9829 - val_auc: 0.9731\n",
      "Epoch 5/6\n",
      "4737/4737 [==============================] - 299s 63ms/step - loss: 0.0305 - binary_accuracy: 0.9879 - auc: 0.9895 - val_loss: 0.0528 - val_binary_accuracy: 0.9812 - val_auc: 0.9668\n",
      "Epoch 6/6\n",
      "4737/4737 [==============================] - 308s 65ms/step - loss: 0.0276 - binary_accuracy: 0.9890 - auc: 0.9909 - val_loss: 0.0550 - val_binary_accuracy: 0.9813 - val_auc: 0.9592\n"
     ]
    },
    {
     "name": "stderr",
     "output_type": "stream",
     "text": [
      "2021-04-15 10:07:37,859: INFO: finish training [elapsed time: 1931.47 seconds]\n"
     ]
    },
    {
     "data": {
      "image/png": "[encoded data removed]",
      "text/plain": [
       "<Figure size 1152x360 with 2 Axes>"
      ]
     },
     "metadata": {
      "needs_background": "light"
     },
     "output_type": "display_data"
    },
    {
     "name": "stdout",
     "output_type": "stream",
     "text": [
      "---------------------------------------- evaluate ----------------------------------------\n",
      "load best checkpoint from ./models/tox_16k_c6/toxicity_16k_0414/pooled_gru_glove\n",
      "model_params.pooled_gru_glove.learning_rate=0.001\n",
      "clip_value=1.0\n",
      "checkpoint_path=./models/tox_16k_c6/toxicity_16k_0414/pooled_gru_glove\n",
      "4737/4737 [==============================] - 88s 19ms/step - loss: 0.0275 - binary_accuracy: 0.9889 - auc: 0.9923\n",
      "250/250 [==============================] - 6s 25ms/step - loss: 0.0482 - binary_accuracy: 0.9829 - auc: 0.9731\n",
      "save object to /tf/eipi10/xuxiangwen.github.io/_notes/05-ai/54-tensorflow/models/tox_16k_c6/toxicity_16k_0414/pooled_gru_glove.predictor\n",
      "--------------------------------------------------------------------------------\n",
      "test loss:0.0482\n",
      "test binary_accuracy:0.9829\n",
      "test auc:0.9840\n",
      "-------------------------------------------------- all models --------------------------------------------------\n"
     ]
    },
    {
     "data": {
      "text/html": [
       "<div>\n",
       "<style scoped>\n",
       "    .dataframe tbody tr th:only-of-type {\n",
       "        vertical-align: middle;\n",
       "    }\n",
       "\n",
       "    .dataframe tbody tr th {\n",
       "        vertical-align: top;\n",
       "    }\n",
       "\n",
       "    .dataframe thead th {\n",
       "        text-align: right;\n",
       "    }\n",
       "</style>\n",
       "<table border=\"1\" class=\"dataframe\">\n",
       "  <thead>\n",
       "    <tr style=\"text-align: right;\">\n",
       "      <th></th>\n",
       "      <th>weight_number</th>\n",
       "      <th>train_time</th>\n",
       "      <th>train_loss</th>\n",
       "      <th>test_loss</th>\n",
       "      <th>train_binary_accuracy</th>\n",
       "      <th>test_binary_accuracy</th>\n",
       "      <th>train_auc</th>\n",
       "      <th>test_auc</th>\n",
       "    </tr>\n",
       "  </thead>\n",
       "  <tbody>\n",
       "    <tr>\n",
       "      <th>pooled_gru_fasttext</th>\n",
       "      <td>9676806</td>\n",
       "      <td>1781.0</td>\n",
       "      <td>0.0321</td>\n",
       "      <td>0.0451</td>\n",
       "      <td>0.9873</td>\n",
       "      <td>0.9837</td>\n",
       "      <td>0.9935</td>\n",
       "      <td>0.9867</td>\n",
       "    </tr>\n",
       "    <tr>\n",
       "      <th>pooled_gru_glove</th>\n",
       "      <td>6580806</td>\n",
       "      <td>1931.0</td>\n",
       "      <td>0.0275</td>\n",
       "      <td>0.0482</td>\n",
       "      <td>0.9889</td>\n",
       "      <td>0.9829</td>\n",
       "      <td>0.9956</td>\n",
       "      <td>0.9840</td>\n",
       "    </tr>\n",
       "    <tr>\n",
       "      <th>mlp</th>\n",
       "      <td>7681798</td>\n",
       "      <td>237.0</td>\n",
       "      <td>0.0544</td>\n",
       "      <td>0.0648</td>\n",
       "      <td>0.9816</td>\n",
       "      <td>0.9782</td>\n",
       "      <td>0.9696</td>\n",
       "      <td>0.9578</td>\n",
       "    </tr>\n",
       "    <tr>\n",
       "      <th>embedding</th>\n",
       "      <td>6001406</td>\n",
       "      <td>670.0</td>\n",
       "      <td>0.0702</td>\n",
       "      <td>0.0869</td>\n",
       "      <td>0.9769</td>\n",
       "      <td>0.9738</td>\n",
       "      <td>0.9557</td>\n",
       "      <td>0.9436</td>\n",
       "    </tr>\n",
       "    <tr>\n",
       "      <th>embedding_pretrain</th>\n",
       "      <td>9001806</td>\n",
       "      <td>121.0</td>\n",
       "      <td>0.1021</td>\n",
       "      <td>0.1107</td>\n",
       "      <td>0.9662</td>\n",
       "      <td>0.9639</td>\n",
       "      <td>0.8414</td>\n",
       "      <td>0.8290</td>\n",
       "    </tr>\n",
       "  </tbody>\n",
       "</table>\n",
       "</div>"
      ],
      "text/plain": [
       "                     weight_number  train_time  train_loss  test_loss  \\\n",
       "pooled_gru_fasttext        9676806      1781.0      0.0321     0.0451   \n",
       "pooled_gru_glove           6580806      1931.0      0.0275     0.0482   \n",
       "mlp                        7681798       237.0      0.0544     0.0648   \n",
       "embedding                  6001406       670.0      0.0702     0.0869   \n",
       "embedding_pretrain         9001806       121.0      0.1021     0.1107   \n",
       "\n",
       "                     train_binary_accuracy  test_binary_accuracy  train_auc  \\\n",
       "pooled_gru_fasttext                 0.9873                0.9837     0.9935   \n",
       "pooled_gru_glove                    0.9889                0.9829     0.9956   \n",
       "mlp                                 0.9816                0.9782     0.9696   \n",
       "embedding                           0.9769                0.9738     0.9557   \n",
       "embedding_pretrain                  0.9662                0.9639     0.8414   \n",
       "\n",
       "                     test_auc  \n",
       "pooled_gru_fasttext    0.9867  \n",
       "pooled_gru_glove       0.9840  \n",
       "mlp                    0.9578  \n",
       "embedding              0.9436  \n",
       "embedding_pretrain     0.8290  "
      ]
     },
     "metadata": {},
     "output_type": "display_data"
    },
    {
     "name": "stdout",
     "output_type": "stream",
     "text": [
      "save json to ./models/tox_16k_c6/toxicity_16k_0414/model_results.json\n"
     ]
    }
   ],
   "source": [
    "helper = TextClassificationHelper(params, model_results=model_results, datasets=sequence_datasets)\n",
    "model = get_pooled_gru(helper, name='pooled_gru_glove',  embedding_matrix=embedding_matrix_glove_twitter, \n",
    "                       is_embedding_trainable=True)\n",
    "model.summary()\n",
    "history = helper.train(model)\n",
    "helper.model_summary(model, history=history)"
   ]
  },
  {
   "cell_type": "markdown",
   "metadata": {},
   "source": [
    "#### pooled_gru_fasttext_glove"
   ]
  },
  {
   "cell_type": "code",
   "execution_count": 63,
   "metadata": {
    "ExecuteTime": {
     "end_time": "2021-04-15T02:44:37.295298Z",
     "start_time": "2021-04-15T02:10:50.297687Z"
    },
    "scrolled": false
   },
   "outputs": [
    {
     "name": "stdout",
     "output_type": "stream",
     "text": [
      "model_params.pooled_gru_fasttext_glove.dropout=0.3\n",
      "model_params.pooled_gru_fasttext_glove.units=160\n",
      "max_features=30000\n",
      "model_params.pooled_gru_fasttext_glove.embedding_dim=300\n",
      "model_params.pooled_gru_fasttext_glove.learning_rate=0.001\n",
      "clip_value=1.0\n",
      "checkpoint_path=./models/tox_16k_c6/toxicity_16k_0414/pooled_gru_fasttext_glove\n",
      "Model: \"pooled_gru_fasttext_glove\"\n",
      "__________________________________________________________________________________________________\n",
      "Layer (type)                    Output Shape         Param #     Connected to                     \n",
      "==================================================================================================\n",
      "input_7 (InputLayer)            [(None, 100)]        0                                            \n",
      "__________________________________________________________________________________________________\n",
      "embedding_8 (Embedding)         (None, 100, 500)     15000000    input_7[0][0]                    \n",
      "__________________________________________________________________________________________________\n",
      "spatial_dropout1d_2 (SpatialDro (None, 100, 500)     0           embedding_8[0][0]                \n",
      "__________________________________________________________________________________________________\n",
      "bidirectional_4 (Bidirectional) (None, 100, 320)     635520      spatial_dropout1d_2[0][0]        \n",
      "__________________________________________________________________________________________________\n",
      "gru_5 (GRU)                     (None, 100, 160)     231360      bidirectional_4[0][0]            \n",
      "__________________________________________________________________________________________________\n",
      "global_average_pooling1d_5 (Glo (None, 160)          0           gru_5[0][0]                      \n",
      "__________________________________________________________________________________________________\n",
      "global_max_pooling1d_2 (GlobalM (None, 160)          0           gru_5[0][0]                      \n",
      "__________________________________________________________________________________________________\n",
      "concatenate_2 (Concatenate)     (None, 320)          0           global_average_pooling1d_5[0][0] \n",
      "                                                                 global_max_pooling1d_2[0][0]     \n",
      "__________________________________________________________________________________________________\n",
      "dense_9 (Dense)                 (None, 6)            1926        concatenate_2[0][0]              \n",
      "==================================================================================================\n",
      "Total params: 15,868,806\n",
      "Trainable params: 868,806\n",
      "Non-trainable params: 15,000,000\n",
      "__________________________________________________________________________________________________\n",
      "model_params.pooled_gru_fasttext_glove.epochs=6\n",
      "use ModelCheckpoint(filepath=./models/tox_16k_c6/toxicity_16k_0414/pooled_gru_fasttext_glove, monitor=val_binary_accuracy)\n",
      "use EarlyStopping(monitor=val_binary_accuracy, patience=40)\n",
      "use ReduceLROnPlateau(monitor=val_loss, factor=0.31622776601683794, patience=15)\n",
      "use LearningRateScheduler()\n",
      "4737/4737 [==============================] - 101s 21ms/step - loss: 0.6539 - binary_accuracy: 0.5626 - auc: 0.5031\n",
      "250/250 [==============================] - 7s 28ms/step - loss: 0.6536 - binary_accuracy: 0.5438 - auc: 0.4575\n",
      "save object to /tf/eipi10/xuxiangwen.github.io/_notes/05-ai/54-tensorflow/models/tox_16k_c6/toxicity_16k_0414/pooled_gru_fasttext_glove.predictor\n",
      "--------------------------------------------------------------------------------\n",
      "test loss:0.6536\n",
      "test binary_accuracy:0.5438\n"
     ]
    },
    {
     "name": "stderr",
     "output_type": "stream",
     "text": [
      "2021-04-15 10:14:35,126: INFO: start training\n"
     ]
    },
    {
     "name": "stdout",
     "output_type": "stream",
     "text": [
      "test auc:0.4560\n",
      "use_class_weight=None\n",
      "class_weight=None\n",
      "Epoch 1/6\n",
      "4736/4737 [============================>.] - ETA: 0s - loss: 0.0521 - binary_accuracy: 0.9812 - auc: 0.9588INFO:tensorflow:Assets written to: ./models/tox_16k_c6/toxicity_16k_0414/pooled_gru_fasttext_glove/assets\n"
     ]
    },
    {
     "name": "stderr",
     "output_type": "stream",
     "text": [
      "2021-04-15 10:18:58,830: INFO: Assets written to: ./models/tox_16k_c6/toxicity_16k_0414/pooled_gru_fasttext_glove/assets\n"
     ]
    },
    {
     "name": "stdout",
     "output_type": "stream",
     "text": [
      "4737/4737 [==============================] - 259s 55ms/step - loss: 0.0521 - binary_accuracy: 0.9812 - auc: 0.9588 - val_loss: 0.0486 - val_binary_accuracy: 0.9823 - val_auc: 0.9818\n",
      "Epoch 2/6\n",
      "4737/4737 [==============================] - ETA: 0s - loss: 0.0435 - binary_accuracy: 0.9835 - auc: 0.9756INFO:tensorflow:Assets written to: ./models/tox_16k_c6/toxicity_16k_0414/pooled_gru_fasttext_glove/assets\n"
     ]
    },
    {
     "name": "stderr",
     "output_type": "stream",
     "text": [
      "2021-04-15 10:23:01,082: INFO: Assets written to: ./models/tox_16k_c6/toxicity_16k_0414/pooled_gru_fasttext_glove/assets\n"
     ]
    },
    {
     "name": "stdout",
     "output_type": "stream",
     "text": [
      "4737/4737 [==============================] - 242s 51ms/step - loss: 0.0435 - binary_accuracy: 0.9835 - auc: 0.9756 - val_loss: 0.0460 - val_binary_accuracy: 0.9829 - val_auc: 0.9780\n",
      "Epoch 3/6\n",
      "4737/4737 [==============================] - ETA: 0s - loss: 0.0407 - binary_accuracy: 0.9843 - auc: 0.9797INFO:tensorflow:Assets written to: ./models/tox_16k_c6/toxicity_16k_0414/pooled_gru_fasttext_glove/assets\n"
     ]
    },
    {
     "name": "stderr",
     "output_type": "stream",
     "text": [
      "2021-04-15 10:27:42,860: INFO: Assets written to: ./models/tox_16k_c6/toxicity_16k_0414/pooled_gru_fasttext_glove/assets\n"
     ]
    },
    {
     "name": "stdout",
     "output_type": "stream",
     "text": [
      "4737/4737 [==============================] - 282s 59ms/step - loss: 0.0407 - binary_accuracy: 0.9843 - auc: 0.9797 - val_loss: 0.0446 - val_binary_accuracy: 0.9832 - val_auc: 0.9778\n",
      "Epoch 4/6\n",
      "4737/4737 [==============================] - ETA: 0s - loss: 0.0383 - binary_accuracy: 0.9852 - auc: 0.9821INFO:tensorflow:Assets written to: ./models/tox_16k_c6/toxicity_16k_0414/pooled_gru_fasttext_glove/assets\n"
     ]
    },
    {
     "name": "stderr",
     "output_type": "stream",
     "text": [
      "2021-04-15 10:32:21,709: INFO: Assets written to: ./models/tox_16k_c6/toxicity_16k_0414/pooled_gru_fasttext_glove/assets\n"
     ]
    },
    {
     "name": "stdout",
     "output_type": "stream",
     "text": [
      "4737/4737 [==============================] - 279s 59ms/step - loss: 0.0383 - binary_accuracy: 0.9852 - auc: 0.9821 - val_loss: 0.0444 - val_binary_accuracy: 0.9836 - val_auc: 0.9787\n",
      "Epoch 5/6\n",
      "4737/4737 [==============================] - 231s 49ms/step - loss: 0.0359 - binary_accuracy: 0.9859 - auc: 0.9838 - val_loss: 0.0462 - val_binary_accuracy: 0.9826 - val_auc: 0.9729\n",
      "Epoch 6/6\n",
      "4737/4737 [==============================] - 261s 55ms/step - loss: 0.0339 - binary_accuracy: 0.9867 - auc: 0.9864 - val_loss: 0.0491 - val_binary_accuracy: 0.9828 - val_auc: 0.9712\n"
     ]
    },
    {
     "name": "stderr",
     "output_type": "stream",
     "text": [
      "2021-04-15 10:40:34,711: INFO: finish training [elapsed time: 1559.59 seconds]\n"
     ]
    },
    {
     "data": {
      "image/png": "[encoded data removed]",
      "text/plain": [
       "<Figure size 1152x360 with 2 Axes>"
      ]
     },
     "metadata": {
      "needs_background": "light"
     },
     "output_type": "display_data"
    },
    {
     "name": "stdout",
     "output_type": "stream",
     "text": [
      "---------------------------------------- evaluate ----------------------------------------\n",
      "load best checkpoint from ./models/tox_16k_c6/toxicity_16k_0414/pooled_gru_fasttext_glove\n",
      "model_params.pooled_gru_fasttext_glove.learning_rate=0.001\n",
      "clip_value=1.0\n",
      "checkpoint_path=./models/tox_16k_c6/toxicity_16k_0414/pooled_gru_fasttext_glove\n",
      "4737/4737 [==============================] - 130s 27ms/step - loss: 0.0326 - binary_accuracy: 0.9870 - auc: 0.9883\n",
      "250/250 [==============================] - 7s 28ms/step - loss: 0.0444 - binary_accuracy: 0.9836 - auc: 0.9787\n",
      "save object to /tf/eipi10/xuxiangwen.github.io/_notes/05-ai/54-tensorflow/models/tox_16k_c6/toxicity_16k_0414/pooled_gru_fasttext_glove.predictor\n",
      "--------------------------------------------------------------------------------\n",
      "test loss:0.0444\n",
      "test binary_accuracy:0.9836\n",
      "test auc:0.9868\n",
      "-------------------------------------------------- all models --------------------------------------------------\n"
     ]
    },
    {
     "data": {
      "text/html": [
       "<div>\n",
       "<style scoped>\n",
       "    .dataframe tbody tr th:only-of-type {\n",
       "        vertical-align: middle;\n",
       "    }\n",
       "\n",
       "    .dataframe tbody tr th {\n",
       "        vertical-align: top;\n",
       "    }\n",
       "\n",
       "    .dataframe thead th {\n",
       "        text-align: right;\n",
       "    }\n",
       "</style>\n",
       "<table border=\"1\" class=\"dataframe\">\n",
       "  <thead>\n",
       "    <tr style=\"text-align: right;\">\n",
       "      <th></th>\n",
       "      <th>weight_number</th>\n",
       "      <th>train_time</th>\n",
       "      <th>train_loss</th>\n",
       "      <th>test_loss</th>\n",
       "      <th>train_binary_accuracy</th>\n",
       "      <th>test_binary_accuracy</th>\n",
       "      <th>train_auc</th>\n",
       "      <th>test_auc</th>\n",
       "    </tr>\n",
       "  </thead>\n",
       "  <tbody>\n",
       "    <tr>\n",
       "      <th>pooled_gru_fasttext</th>\n",
       "      <td>9676806</td>\n",
       "      <td>1781.0</td>\n",
       "      <td>0.0321</td>\n",
       "      <td>0.0451</td>\n",
       "      <td>0.9873</td>\n",
       "      <td>0.9837</td>\n",
       "      <td>0.9935</td>\n",
       "      <td>0.9867</td>\n",
       "    </tr>\n",
       "    <tr>\n",
       "      <th>pooled_gru_fasttext_glove</th>\n",
       "      <td>15868806</td>\n",
       "      <td>1559.0</td>\n",
       "      <td>0.0326</td>\n",
       "      <td>0.0444</td>\n",
       "      <td>0.9870</td>\n",
       "      <td>0.9836</td>\n",
       "      <td>0.9932</td>\n",
       "      <td>0.9868</td>\n",
       "    </tr>\n",
       "    <tr>\n",
       "      <th>pooled_gru_glove</th>\n",
       "      <td>6580806</td>\n",
       "      <td>1931.0</td>\n",
       "      <td>0.0275</td>\n",
       "      <td>0.0482</td>\n",
       "      <td>0.9889</td>\n",
       "      <td>0.9829</td>\n",
       "      <td>0.9956</td>\n",
       "      <td>0.9840</td>\n",
       "    </tr>\n",
       "    <tr>\n",
       "      <th>mlp</th>\n",
       "      <td>7681798</td>\n",
       "      <td>237.0</td>\n",
       "      <td>0.0544</td>\n",
       "      <td>0.0648</td>\n",
       "      <td>0.9816</td>\n",
       "      <td>0.9782</td>\n",
       "      <td>0.9696</td>\n",
       "      <td>0.9578</td>\n",
       "    </tr>\n",
       "    <tr>\n",
       "      <th>embedding</th>\n",
       "      <td>6001406</td>\n",
       "      <td>670.0</td>\n",
       "      <td>0.0702</td>\n",
       "      <td>0.0869</td>\n",
       "      <td>0.9769</td>\n",
       "      <td>0.9738</td>\n",
       "      <td>0.9557</td>\n",
       "      <td>0.9436</td>\n",
       "    </tr>\n",
       "    <tr>\n",
       "      <th>embedding_pretrain</th>\n",
       "      <td>9001806</td>\n",
       "      <td>121.0</td>\n",
       "      <td>0.1021</td>\n",
       "      <td>0.1107</td>\n",
       "      <td>0.9662</td>\n",
       "      <td>0.9639</td>\n",
       "      <td>0.8414</td>\n",
       "      <td>0.8290</td>\n",
       "    </tr>\n",
       "  </tbody>\n",
       "</table>\n",
       "</div>"
      ],
      "text/plain": [
       "                           weight_number  train_time  train_loss  test_loss  \\\n",
       "pooled_gru_fasttext              9676806      1781.0      0.0321     0.0451   \n",
       "pooled_gru_fasttext_glove       15868806      1559.0      0.0326     0.0444   \n",
       "pooled_gru_glove                 6580806      1931.0      0.0275     0.0482   \n",
       "mlp                              7681798       237.0      0.0544     0.0648   \n",
       "embedding                        6001406       670.0      0.0702     0.0869   \n",
       "embedding_pretrain               9001806       121.0      0.1021     0.1107   \n",
       "\n",
       "                           train_binary_accuracy  test_binary_accuracy  \\\n",
       "pooled_gru_fasttext                       0.9873                0.9837   \n",
       "pooled_gru_fasttext_glove                 0.9870                0.9836   \n",
       "pooled_gru_glove                          0.9889                0.9829   \n",
       "mlp                                       0.9816                0.9782   \n",
       "embedding                                 0.9769                0.9738   \n",
       "embedding_pretrain                        0.9662                0.9639   \n",
       "\n",
       "                           train_auc  test_auc  \n",
       "pooled_gru_fasttext           0.9935    0.9867  \n",
       "pooled_gru_fasttext_glove     0.9932    0.9868  \n",
       "pooled_gru_glove              0.9956    0.9840  \n",
       "mlp                           0.9696    0.9578  \n",
       "embedding                     0.9557    0.9436  \n",
       "embedding_pretrain            0.8414    0.8290  "
      ]
     },
     "metadata": {},
     "output_type": "display_data"
    },
    {
     "name": "stdout",
     "output_type": "stream",
     "text": [
      "save json to ./models/tox_16k_c6/toxicity_16k_0414/model_results.json\n"
     ]
    }
   ],
   "source": [
    "helper = TextClassificationHelper(params, model_results=model_results, datasets=sequence_datasets)\n",
    "model = get_pooled_gru(helper, name='pooled_gru_fasttext_glove',  embedding_matrix=embedding_matrix_fasttext_glove, \n",
    "                       is_embedding_trainable=False)\n",
    "model.summary()\n",
    "history = helper.train(model)\n",
    "helper.model_summary(model, history=history)"
   ]
  },
  {
   "cell_type": "markdown",
   "metadata": {
    "ExecuteTime": {
     "end_time": "2021-04-07T06:46:35.628788Z",
     "start_time": "2021-04-07T06:34:43.509Z"
    }
   },
   "source": [
    "### Pooled GRU Pro\n",
    "\n",
    "https://www.kaggle.com/larryfreeman/toxic-comments-code-for-alexander-s-9872-model/#data"
   ]
  },
  {
   "cell_type": "code",
   "execution_count": 64,
   "metadata": {
    "ExecuteTime": {
     "end_time": "2021-04-15T02:44:38.952550Z",
     "start_time": "2021-04-15T02:44:37.297821Z"
    }
   },
   "outputs": [],
   "source": [
    "def get_pooled_gru_pro(helper, name='pooled_gru', \n",
    "             dropout=None, \n",
    "             is_embedding_trainable=False,\n",
    "             embedding_matrix=None,\n",
    "             mask_zero=False\n",
    "            ):\n",
    "    if dropout is None:\n",
    "        dropout = helper.get_model_param(name, 'dropout')   \n",
    "\n",
    "    units = helper.get_model_param(name, 'units')\n",
    "    max_features = helper.get_model_param(name, 'max_features')\n",
    "    embedding_dim = helper.get_model_param(name, 'embedding_dim') \n",
    "    \n",
    "    input = layers.Input(shape=helper.datasets.input_shape)\n",
    "    if embedding_matrix is None:\n",
    "        x = layers.Embedding(input_dim=max_features+1, output_dim=embedding_dim)(input)\n",
    "    else:\n",
    "        num_features, embedding_dim = embedding_matrix.shape\n",
    "        x = layers.Embedding(input_dim=num_features,\n",
    "                             output_dim=embedding_dim,\n",
    "                             weights=[embedding_matrix],\n",
    "                             trainable=is_embedding_trainable,\n",
    "                             mask_zero=mask_zero\n",
    "                            )(input)      \n",
    "    x = layers.SpatialDropout1D(dropout)(x)\n",
    "    \n",
    "    x, x_h, x_c = layers.Bidirectional(layers.GRU(units, return_sequences=True, return_state = True))(x)\n",
    "    x = layers.GRU(units, return_sequences=True)(x)\n",
    "    avg_pool = layers.GlobalAveragePooling1D()(x)\n",
    "    max_pool = layers.GlobalMaxPooling1D()(x)\n",
    "    x = layers.concatenate([avg_pool, x_h, max_pool])\n",
    "\n",
    "    x = layers.Dense(len(helper.params.classes), activation='sigmoid')(x)  \n",
    "    model = Model(inputs=input, outputs=x, name=name) \n",
    "    helper.compile(model)      \n",
    "    return model \n"
   ]
  },
  {
   "cell_type": "code",
   "execution_count": 65,
   "metadata": {
    "ExecuteTime": {
     "end_time": "2021-04-15T03:20:57.245061Z",
     "start_time": "2021-04-15T02:44:38.954703Z"
    },
    "scrolled": false
   },
   "outputs": [
    {
     "name": "stdout",
     "output_type": "stream",
     "text": [
      "model_params.pooled_gru_pro_ft_glove.dropout=0.3\n",
      "model_params.pooled_gru_pro_ft_glove.units=160\n",
      "max_features=30000\n",
      "model_params.pooled_gru_pro_ft_glove.embedding_dim=300\n",
      "model_params.pooled_gru_pro_ft_glove.learning_rate=0.001\n",
      "clip_value=1.0\n",
      "checkpoint_path=./models/tox_16k_c6/toxicity_16k_0414/pooled_gru_pro_ft_glove\n",
      "Model: \"pooled_gru_pro_ft_glove\"\n",
      "__________________________________________________________________________________________________\n",
      "Layer (type)                    Output Shape         Param #     Connected to                     \n",
      "==================================================================================================\n",
      "input_8 (InputLayer)            [(None, 100)]        0                                            \n",
      "__________________________________________________________________________________________________\n",
      "embedding_9 (Embedding)         (None, 100, 500)     15000000    input_8[0][0]                    \n",
      "__________________________________________________________________________________________________\n",
      "spatial_dropout1d_3 (SpatialDro (None, 100, 500)     0           embedding_9[0][0]                \n",
      "__________________________________________________________________________________________________\n",
      "bidirectional_5 (Bidirectional) [(None, 100, 320), ( 635520      spatial_dropout1d_3[0][0]        \n",
      "__________________________________________________________________________________________________\n",
      "gru_7 (GRU)                     (None, 100, 160)     231360      bidirectional_5[0][0]            \n",
      "__________________________________________________________________________________________________\n",
      "global_average_pooling1d_6 (Glo (None, 160)          0           gru_7[0][0]                      \n",
      "__________________________________________________________________________________________________\n",
      "global_max_pooling1d_3 (GlobalM (None, 160)          0           gru_7[0][0]                      \n",
      "__________________________________________________________________________________________________\n",
      "concatenate_3 (Concatenate)     (None, 480)          0           global_average_pooling1d_6[0][0] \n",
      "                                                                 bidirectional_5[0][1]            \n",
      "                                                                 global_max_pooling1d_3[0][0]     \n",
      "__________________________________________________________________________________________________\n",
      "dense_10 (Dense)                (None, 6)            2886        concatenate_3[0][0]              \n",
      "==================================================================================================\n",
      "Total params: 15,869,766\n",
      "Trainable params: 869,766\n",
      "Non-trainable params: 15,000,000\n",
      "__________________________________________________________________________________________________\n",
      "model_params.pooled_gru_pro_ft_glove.epochs=6\n",
      "use ModelCheckpoint(filepath=./models/tox_16k_c6/toxicity_16k_0414/pooled_gru_pro_ft_glove, monitor=val_binary_accuracy)\n",
      "use EarlyStopping(monitor=val_binary_accuracy, patience=40)\n",
      "use ReduceLROnPlateau(monitor=val_loss, factor=0.31622776601683794, patience=15)\n",
      "use LearningRateScheduler()\n",
      "4737/4737 [==============================] - 101s 21ms/step - loss: 0.7075 - binary_accuracy: 0.4688 - auc: 0.5322\n",
      "250/250 [==============================] - 8s 34ms/step - loss: 0.7073 - binary_accuracy: 0.4423 - auc: 0.4893\n",
      "save predictor into /tf/eipi10/xuxiangwen.github.io/_notes/05-ai/54-tensorflow/models/tox_16k_c6/toxicity_16k_0414/pooled_gru_pro_ft_glove.predictor\n",
      "save object to /tf/eipi10/xuxiangwen.github.io/_notes/05-ai/54-tensorflow/models/tox_16k_c6/toxicity_16k_0414/pooled_gru_pro_ft_glove.predictor\n",
      "--------------------------------------------------------------------------------\n",
      "test loss:0.7073\n",
      "test binary_accuracy:0.4423\n"
     ]
    },
    {
     "name": "stderr",
     "output_type": "stream",
     "text": [
      "2021-04-15 10:48:03,510: INFO: start training\n"
     ]
    },
    {
     "name": "stdout",
     "output_type": "stream",
     "text": [
      "test auc:0.4887\n",
      "use_class_weight=None\n",
      "class_weight=None\n",
      "Epoch 1/6\n",
      "4737/4737 [==============================] - ETA: 0s - loss: 0.0509 - binary_accuracy: 0.9815 - auc: 0.9641INFO:tensorflow:Assets written to: ./models/tox_16k_c6/toxicity_16k_0414/pooled_gru_pro_ft_glove/assets\n"
     ]
    },
    {
     "name": "stderr",
     "output_type": "stream",
     "text": [
      "2021-04-15 10:52:38,863: INFO: Assets written to: ./models/tox_16k_c6/toxicity_16k_0414/pooled_gru_pro_ft_glove/assets\n"
     ]
    },
    {
     "name": "stdout",
     "output_type": "stream",
     "text": [
      "4737/4737 [==============================] - 271s 57ms/step - loss: 0.0509 - binary_accuracy: 0.9815 - auc: 0.9641 - val_loss: 0.0498 - val_binary_accuracy: 0.9812 - val_auc: 0.9805\n",
      "Epoch 2/6\n",
      "4737/4737 [==============================] - ETA: 0s - loss: 0.0431 - binary_accuracy: 0.9836 - auc: 0.9769INFO:tensorflow:Assets written to: ./models/tox_16k_c6/toxicity_16k_0414/pooled_gru_pro_ft_glove/assets\n"
     ]
    },
    {
     "name": "stderr",
     "output_type": "stream",
     "text": [
      "2021-04-15 10:57:48,939: INFO: Assets written to: ./models/tox_16k_c6/toxicity_16k_0414/pooled_gru_pro_ft_glove/assets\n"
     ]
    },
    {
     "name": "stdout",
     "output_type": "stream",
     "text": [
      "4737/4737 [==============================] - 310s 65ms/step - loss: 0.0431 - binary_accuracy: 0.9836 - auc: 0.9769 - val_loss: 0.0459 - val_binary_accuracy: 0.9830 - val_auc: 0.9686\n",
      "Epoch 3/6\n",
      "4736/4737 [============================>.] - ETA: 0s - loss: 0.0405 - binary_accuracy: 0.9844 - auc: 0.9808INFO:tensorflow:Assets written to: ./models/tox_16k_c6/toxicity_16k_0414/pooled_gru_pro_ft_glove/assets\n"
     ]
    },
    {
     "name": "stderr",
     "output_type": "stream",
     "text": [
      "2021-04-15 11:02:33,329: INFO: Assets written to: ./models/tox_16k_c6/toxicity_16k_0414/pooled_gru_pro_ft_glove/assets\n"
     ]
    },
    {
     "name": "stdout",
     "output_type": "stream",
     "text": [
      "4737/4737 [==============================] - 284s 60ms/step - loss: 0.0405 - binary_accuracy: 0.9844 - auc: 0.9808 - val_loss: 0.0457 - val_binary_accuracy: 0.9831 - val_auc: 0.9774\n",
      "Epoch 4/6\n",
      "4736/4737 [============================>.] - ETA: 0s - loss: 0.0371 - binary_accuracy: 0.9857 - auc: 0.9845INFO:tensorflow:Assets written to: ./models/tox_16k_c6/toxicity_16k_0414/pooled_gru_pro_ft_glove/assets\n"
     ]
    },
    {
     "name": "stderr",
     "output_type": "stream",
     "text": [
      "2021-04-15 11:06:37,643: INFO: Assets written to: ./models/tox_16k_c6/toxicity_16k_0414/pooled_gru_pro_ft_glove/assets\n"
     ]
    },
    {
     "name": "stdout",
     "output_type": "stream",
     "text": [
      "4737/4737 [==============================] - 244s 52ms/step - loss: 0.0371 - binary_accuracy: 0.9857 - auc: 0.9845 - val_loss: 0.0465 - val_binary_accuracy: 0.9833 - val_auc: 0.9734\n",
      "Epoch 5/6\n",
      "4737/4737 [==============================] - 275s 58ms/step - loss: 0.0345 - binary_accuracy: 0.9865 - auc: 0.9865 - val_loss: 0.0474 - val_binary_accuracy: 0.9832 - val_auc: 0.9704\n",
      "Epoch 6/6\n",
      "4737/4737 [==============================] - 296s 62ms/step - loss: 0.0318 - binary_accuracy: 0.9876 - auc: 0.9889 - val_loss: 0.0492 - val_binary_accuracy: 0.9823 - val_auc: 0.9714\n"
     ]
    },
    {
     "name": "stderr",
     "output_type": "stream",
     "text": [
      "2021-04-15 11:16:09,815: INFO: finish training [elapsed time: 1686.30 seconds]\n"
     ]
    },
    {
     "data": {
      "image/png": "[encoded data removed]",
      "text/plain": [
       "<Figure size 1152x360 with 2 Axes>"
      ]
     },
     "metadata": {
      "needs_background": "light"
     },
     "output_type": "display_data"
    },
    {
     "name": "stdout",
     "output_type": "stream",
     "text": [
      "---------------------------------------- evaluate ----------------------------------------\n",
      "load best checkpoint from ./models/tox_16k_c6/toxicity_16k_0414/pooled_gru_pro_ft_glove\n",
      "model_params.pooled_gru_pro_ft_glove.learning_rate=0.001\n",
      "clip_value=1.0\n",
      "checkpoint_path=./models/tox_16k_c6/toxicity_16k_0414/pooled_gru_pro_ft_glove\n",
      "4737/4737 [==============================] - 135s 29ms/step - loss: 0.0320 - binary_accuracy: 0.9875 - auc: 0.9898\n",
      "250/250 [==============================] - 10s 41ms/step - loss: 0.0465 - binary_accuracy: 0.9833 - auc: 0.9734\n",
      "save predictor into /tf/eipi10/xuxiangwen.github.io/_notes/05-ai/54-tensorflow/models/tox_16k_c6/toxicity_16k_0414/pooled_gru_pro_ft_glove.predictor\n",
      "save object to /tf/eipi10/xuxiangwen.github.io/_notes/05-ai/54-tensorflow/models/tox_16k_c6/toxicity_16k_0414/pooled_gru_pro_ft_glove.predictor\n",
      "--------------------------------------------------------------------------------\n",
      "test loss:0.0465\n",
      "test binary_accuracy:0.9833\n",
      "test auc:0.9861\n",
      "-------------------------------------------------- all models --------------------------------------------------\n"
     ]
    },
    {
     "data": {
      "text/html": [
       "<div>\n",
       "<style scoped>\n",
       "    .dataframe tbody tr th:only-of-type {\n",
       "        vertical-align: middle;\n",
       "    }\n",
       "\n",
       "    .dataframe tbody tr th {\n",
       "        vertical-align: top;\n",
       "    }\n",
       "\n",
       "    .dataframe thead th {\n",
       "        text-align: right;\n",
       "    }\n",
       "</style>\n",
       "<table border=\"1\" class=\"dataframe\">\n",
       "  <thead>\n",
       "    <tr style=\"text-align: right;\">\n",
       "      <th></th>\n",
       "      <th>weight_number</th>\n",
       "      <th>train_time</th>\n",
       "      <th>train_loss</th>\n",
       "      <th>test_loss</th>\n",
       "      <th>train_binary_accuracy</th>\n",
       "      <th>test_binary_accuracy</th>\n",
       "      <th>train_auc</th>\n",
       "      <th>test_auc</th>\n",
       "    </tr>\n",
       "  </thead>\n",
       "  <tbody>\n",
       "    <tr>\n",
       "      <th>pooled_gru_fasttext</th>\n",
       "      <td>9676806</td>\n",
       "      <td>1781.0</td>\n",
       "      <td>0.0321</td>\n",
       "      <td>0.0451</td>\n",
       "      <td>0.9873</td>\n",
       "      <td>0.9837</td>\n",
       "      <td>0.9935</td>\n",
       "      <td>0.9867</td>\n",
       "    </tr>\n",
       "    <tr>\n",
       "      <th>pooled_gru_fasttext_glove</th>\n",
       "      <td>15868806</td>\n",
       "      <td>1559.0</td>\n",
       "      <td>0.0326</td>\n",
       "      <td>0.0444</td>\n",
       "      <td>0.9870</td>\n",
       "      <td>0.9836</td>\n",
       "      <td>0.9932</td>\n",
       "      <td>0.9868</td>\n",
       "    </tr>\n",
       "    <tr>\n",
       "      <th>pooled_gru_pro_ft_glove</th>\n",
       "      <td>15869766</td>\n",
       "      <td>1686.0</td>\n",
       "      <td>0.0320</td>\n",
       "      <td>0.0465</td>\n",
       "      <td>0.9875</td>\n",
       "      <td>0.9833</td>\n",
       "      <td>0.9943</td>\n",
       "      <td>0.9861</td>\n",
       "    </tr>\n",
       "    <tr>\n",
       "      <th>pooled_gru_glove</th>\n",
       "      <td>6580806</td>\n",
       "      <td>1931.0</td>\n",
       "      <td>0.0275</td>\n",
       "      <td>0.0482</td>\n",
       "      <td>0.9889</td>\n",
       "      <td>0.9829</td>\n",
       "      <td>0.9956</td>\n",
       "      <td>0.9840</td>\n",
       "    </tr>\n",
       "    <tr>\n",
       "      <th>mlp</th>\n",
       "      <td>7681798</td>\n",
       "      <td>237.0</td>\n",
       "      <td>0.0544</td>\n",
       "      <td>0.0648</td>\n",
       "      <td>0.9816</td>\n",
       "      <td>0.9782</td>\n",
       "      <td>0.9696</td>\n",
       "      <td>0.9578</td>\n",
       "    </tr>\n",
       "    <tr>\n",
       "      <th>embedding</th>\n",
       "      <td>6001406</td>\n",
       "      <td>670.0</td>\n",
       "      <td>0.0702</td>\n",
       "      <td>0.0869</td>\n",
       "      <td>0.9769</td>\n",
       "      <td>0.9738</td>\n",
       "      <td>0.9557</td>\n",
       "      <td>0.9436</td>\n",
       "    </tr>\n",
       "    <tr>\n",
       "      <th>embedding_pretrain</th>\n",
       "      <td>9001806</td>\n",
       "      <td>121.0</td>\n",
       "      <td>0.1021</td>\n",
       "      <td>0.1107</td>\n",
       "      <td>0.9662</td>\n",
       "      <td>0.9639</td>\n",
       "      <td>0.8414</td>\n",
       "      <td>0.8290</td>\n",
       "    </tr>\n",
       "  </tbody>\n",
       "</table>\n",
       "</div>"
      ],
      "text/plain": [
       "                           weight_number  train_time  train_loss  test_loss  \\\n",
       "pooled_gru_fasttext              9676806      1781.0      0.0321     0.0451   \n",
       "pooled_gru_fasttext_glove       15868806      1559.0      0.0326     0.0444   \n",
       "pooled_gru_pro_ft_glove         15869766      1686.0      0.0320     0.0465   \n",
       "pooled_gru_glove                 6580806      1931.0      0.0275     0.0482   \n",
       "mlp                              7681798       237.0      0.0544     0.0648   \n",
       "embedding                        6001406       670.0      0.0702     0.0869   \n",
       "embedding_pretrain               9001806       121.0      0.1021     0.1107   \n",
       "\n",
       "                           train_binary_accuracy  test_binary_accuracy  \\\n",
       "pooled_gru_fasttext                       0.9873                0.9837   \n",
       "pooled_gru_fasttext_glove                 0.9870                0.9836   \n",
       "pooled_gru_pro_ft_glove                   0.9875                0.9833   \n",
       "pooled_gru_glove                          0.9889                0.9829   \n",
       "mlp                                       0.9816                0.9782   \n",
       "embedding                                 0.9769                0.9738   \n",
       "embedding_pretrain                        0.9662                0.9639   \n",
       "\n",
       "                           train_auc  test_auc  \n",
       "pooled_gru_fasttext           0.9935    0.9867  \n",
       "pooled_gru_fasttext_glove     0.9932    0.9868  \n",
       "pooled_gru_pro_ft_glove       0.9943    0.9861  \n",
       "pooled_gru_glove              0.9956    0.9840  \n",
       "mlp                           0.9696    0.9578  \n",
       "embedding                     0.9557    0.9436  \n",
       "embedding_pretrain            0.8414    0.8290  "
      ]
     },
     "metadata": {},
     "output_type": "display_data"
    },
    {
     "name": "stdout",
     "output_type": "stream",
     "text": [
      "save json to ./models/tox_16k_c6/toxicity_16k_0414/model_results.json\n"
     ]
    }
   ],
   "source": [
    "helper = TextClassificationHelper(params, model_results=model_results, datasets=sequence_datasets)\n",
    "model = get_pooled_gru_pro(helper, name='pooled_gru_pro_ft_glove',  embedding_matrix=embedding_matrix_fasttext_glove, \n",
    "                       is_embedding_trainable=False)\n",
    "model.summary()\n",
    "history = helper.train(model)\n",
    "helper.model_summary(model, history=history)"
   ]
  },
  {
   "cell_type": "markdown",
   "metadata": {},
   "source": [
    "## 参考\n",
    "\n",
    "- [Text classification Guide](https://developers.google.com/machine-learning/guides/text-classification)"
   ]
  }
 ],
 "metadata": {
  "kernelspec": {
   "display_name": "Python 3",
   "language": "python",
   "name": "python3"
  },
  "language_info": {
   "codemirror_mode": {
    "name": "ipython",
    "version": 3
   },
   "file_extension": ".py",
   "mimetype": "text/x-python",
   "name": "python",
   "nbconvert_exporter": "python",
   "pygments_lexer": "ipython3",
   "version": "3.6.9"
  },
  "toc": {
   "base_numbering": 1,
   "nav_menu": {},
   "number_sections": true,
   "sideBar": true,
   "skip_h1_title": false,
   "title_cell": "Table of Contents",
   "title_sidebar": "Contents",
   "toc_cell": false,
   "toc_position": {
    "height": "calc(100% - 180px)",
    "left": "10px",
    "top": "150px",
    "width": "320.938px"
   },
   "toc_section_display": true,
   "toc_window_display": true
  }
 },
 "nbformat": 4,
 "nbformat_minor": 4
}
