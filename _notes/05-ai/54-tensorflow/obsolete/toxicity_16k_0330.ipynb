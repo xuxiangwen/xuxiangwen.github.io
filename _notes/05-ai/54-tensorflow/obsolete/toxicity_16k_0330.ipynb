{
 "cells": [
  {
   "cell_type": "markdown",
   "metadata": {},
   "source": [
    "[Toxic Comment Classification Challenge](https://www.kaggle.com/c/jigsaw-toxic-comment-classification-challenge/overview)\n",
    "\n",
    "toxicity的类型有：\n",
    "\n",
    "- toxic\n",
    "- severe_toxic\n",
    "- obscene\n",
    "- threat\n",
    "- insult\n",
    "- identity_hate\n",
    "\n",
    "一个评论可以属于0到多个标签。\n",
    "\n",
    "![image-20201226152702981](images/image-20201226152702981.png)\n",
    "\n",
    "\n",
    "## 获取数据\n",
    "\n",
    "首先引入需要的包。"
   ]
  },
  {
   "cell_type": "code",
   "execution_count": 1,
   "metadata": {
    "ExecuteTime": {
     "end_time": "2021-04-15T00:17:17.363458Z",
     "start_time": "2021-04-15T00:17:13.460591Z"
    }
   },
   "outputs": [],
   "source": [
    "import matplotlib.pyplot as plt\n",
    "import nltk\n",
    "import numpy as np\n",
    "import os\n",
    "import pandas as pd\n",
    "import random\n",
    "import re\n",
    "import shutil\n",
    "import string  \n",
    "import sys\n",
    "import tensorflow as tf\n",
    "\n",
    "from collections import Counter\n",
    "from nltk.corpus import stopwords\n",
    "from scipy import stats\n",
    "from sklearn.feature_extraction import text\n",
    "from sklearn.feature_selection import SelectKBest, f_classif\n",
    "from sklearn.model_selection import train_test_split\n",
    "from sklearn.metrics import roc_auc_score\n",
    "from tensorflow.keras import Model, models, layers, regularizers, preprocessing, datasets, metrics, losses, optimizers\n",
    "from tensorflow.keras.layers.experimental.preprocessing import TextVectorization\n",
    "\n",
    "\n",
    "base_path = '/tf/eipi10/xuxiangwen.github.io/_notes/05-ai/54-tensorflow/code'\n",
    "sys.path.append(base_path)\n",
    "\n",
    "import util\n",
    "from text_classification import lr_schedule\n",
    "from text_classification import plot_distribution, plot_length_distribution, plot_frequency_distribution\n",
    "from text_classification import Params, TextClassificationHelper\n",
    "from text_classification import SimpleTextDatasets, SequenceTextDatasets, RawTextDatasets,TransferTextDatasets\n",
    "\n",
    "# 代码自动重新加载\n",
    "%load_ext autoreload\n",
    "%autoreload 2"
   ]
  },
  {
   "cell_type": "code",
   "execution_count": 2,
   "metadata": {
    "ExecuteTime": {
     "end_time": "2021-04-15T00:17:17.456164Z",
     "start_time": "2021-04-15T00:17:17.365873Z"
    }
   },
   "outputs": [],
   "source": [
    "# 当module有新的方法的时候，需要运行下面方法。\n",
    "%reload_ext autoreload"
   ]
  },
  {
   "cell_type": "markdown",
   "metadata": {},
   "source": [
    "设置GPU最大内存。"
   ]
  },
  {
   "cell_type": "code",
   "execution_count": 3,
   "metadata": {
    "ExecuteTime": {
     "end_time": "2021-04-15T00:17:17.601431Z",
     "start_time": "2021-04-15T00:17:17.458680Z"
    }
   },
   "outputs": [],
   "source": [
    "util.set_gpu_memory_growth()\n",
    "model_results={}"
   ]
  },
  {
   "cell_type": "markdown",
   "metadata": {},
   "source": [
    "初始化参数。"
   ]
  },
  {
   "cell_type": "code",
   "execution_count": 57,
   "metadata": {
    "ExecuteTime": {
     "end_time": "2021-04-15T00:50:03.649469Z",
     "start_time": "2021-04-15T00:50:03.521040Z"
    }
   },
   "outputs": [
    {
     "name": "stderr",
     "output_type": "stream",
     "text": [
      "[nltk_data] Downloading package stopwords to /root/nltk_data...\n",
      "[nltk_data]   Package stopwords is already up-to-date!\n"
     ]
    }
   ],
   "source": [
    "def lr_schedule(epoch, lr):\n",
    "    lr_times = [(0, 1), (60, 1e-1), (90, 1e-2), (105, 1e-3), (120, 0.5e-3)]\n",
    "    \n",
    "    base_lr = 1e-3\n",
    "    new_lr = base_lr\n",
    "    for border_epoch, times in lr_times:\n",
    "        if epoch>=border_epoch: \n",
    "            new_lr = base_lr*times\n",
    "    if abs(lr - new_lr)>1e-7:\n",
    "        # ??lr?new_lr???????0.1??new_lr?????lr\n",
    "        if new_lr > lr > 0.1*new_lr - 1e-7:\n",
    "            print('Epoch %05d: Still keep learning rate %s instead of %s' % \n",
    "                  (epoch + 1, round(lr, 7), round(new_lr, 7))) \n",
    "            return lr   \n",
    "        print('Epoch %05d: LearningRateScheduler reducing learning rate to %s from %s.' % \n",
    "              (epoch + 1, round(new_lr, 7), round(lr, 7)))\n",
    "    return new_lr\n",
    "\n",
    "nltk.download('stopwords')\n",
    "\n",
    "dataset_name = 'tox_{}_c6'.format(util.get_notebook_name().split('_')[1])\n",
    "dataset_path = '/tf/eipi10/xuxiangwen.github.io/_notes/05-ai/54-tensorflow/models/{}'.format(dataset_name)\n",
    "word_vectors_path = '/tf/eipi10/xuxiangwen.github.io/_notes/05-ai/54-tensorflow/models/word_vectors'\n",
    "\n",
    "params = {\n",
    "    'dataset_name': dataset_name,\n",
    "    'program_name': util.get_notebook_name(),\n",
    "    'dataset_path': dataset_path,\n",
    "    'sample_perecent': 1,    \n",
    "    'text_column': '',    \n",
    "    'classes': ['toxic', 'severe_toxic', 'obscene', 'threat', 'insult', 'identity_hate'],\n",
    "    'validation_percent': 0.0,    \n",
    "    'stop_words':stopwords.words('english'),\n",
    "    'use_stop_words': True,    \n",
    "    'batch_size': 32,    \n",
    "    'max_features': 30000,\n",
    "    'sequence_length': 100,    \n",
    "    'epochs': 3,    \n",
    "    'learning_rate':0.0005,\n",
    "    'clip_value':1.0,\n",
    "    'dropout':0.1,\n",
    "    'metrics':[metrics.BinaryAccuracy(), metrics.AUC(name='auc', multi_label=True)], \n",
    "    'loss': losses.BinaryCrossentropy(from_logits=False),\n",
    "    'restore_best_checkpoint':True,\n",
    "    'use_savedmodel':True,\n",
    "    'callbacks': {\n",
    "        'ModelCheckpoint': {\n",
    "            'enabled': True,\n",
    "            'monitor': 'val_binary_accuracy',               \n",
    "        },\n",
    "        'EarlyStopping': {\n",
    "            'enabled': True,\n",
    "            'patience': 40,   \n",
    "            'monitor': 'val_binary_accuracy',            \n",
    "        },\n",
    "        'ReduceLROnPlateau': {\n",
    "            'enabled': True,\n",
    "            'monitor': 'val_loss',\n",
    "            'patience': 15,\n",
    "            'factor': np.sqrt(0.1),            \n",
    "        },\n",
    "        'LearningRateScheduler': {\n",
    "            'enabled': True,\n",
    "            'schedule': lr_schedule,            \n",
    "        }             \n",
    "    },\n",
    "    'model_params':{\n",
    "        'mlp':{'dropout':0.6, 'layer_count':1, 'units':256, 'epochs':5},\n",
    "        'rnn':{'dropout':0.3, 'embedding_dim':200, 'units':200, 'epochs':3},\n",
    "        'embedding':{'dropout':0.4, 'embedding_dim':200, 'epochs':3},\n",
    "        'sepcnn':{'dropout':0.4, 'epochs': 3, 'batch_size':128},\n",
    "        'pooled_gru':{'dropout':0.3, 'embedding_dim':300, 'units':160, 'epochs':8, 'learning_rate':0.0005}         \n",
    "    },\n",
    "    'embedding_paths':{\n",
    "        'fasttext_crawl_300d_2M':os.path.join(word_vectors_path, 'fasttext-crawl-300d-2M.vec'),\n",
    "        'glove_twitter_27B_200d':os.path.join(word_vectors_path, 'glove.twitter.27B.200d.txt')\n",
    "    }\n",
    "}\n",
    "\n",
    "params = Params(params)"
   ]
  },
  {
   "cell_type": "markdown",
   "metadata": {},
   "source": [
    "### 加载数据\n",
    "\n",
    "开始加载数据。数据下载自https://www.kaggle.com/c/jigsaw-toxic-comment-classification-challenge/data 。其中有三个文件，分别是：\n",
    "\n",
    "- train.csv：  训练数据，包含文本和标签\n",
    "- test.csv： 测试数据，只包含文本\n",
    "- test_labels.csv：测试数据标签，只包含文本标签"
   ]
  },
  {
   "cell_type": "code",
   "execution_count": 5,
   "metadata": {
    "ExecuteTime": {
     "end_time": "2021-04-15T00:17:22.240064Z",
     "start_time": "2021-04-15T00:17:19.757107Z"
    }
   },
   "outputs": [
    {
     "name": "stdout",
     "output_type": "stream",
     "text": [
      "----------------------------------------------------------------------------------------------------\n",
      "df_train= 159571\n",
      "----------------------------------------------------------------------------------------------------\n",
      "df_test_data 153164\n",
      "----------------------------------------------------------------------------------------------------\n",
      "df_test_labels 153164\n"
     ]
    }
   ],
   "source": [
    "df_train = pd.read_csv('./data/jigsaw-toxic-comment-classification-challenge/train.csv')\n",
    "df_test_data = pd.read_csv('./data/jigsaw-toxic-comment-classification-challenge/test.csv')\n",
    "df_test_labels = pd.read_csv('./data/jigsaw-toxic-comment-classification-challenge/test_labels.csv')\n",
    "\n",
    "print('-'*100) \n",
    "print('df_train=', len(df_train))\n",
    "print('-'*100) \n",
    "print('df_test_data', len(df_test_data))\n",
    "print('-'*100) \n",
    "print('df_test_labels', len(df_test_labels))"
   ]
  },
  {
   "cell_type": "code",
   "execution_count": 6,
   "metadata": {
    "ExecuteTime": {
     "end_time": "2021-04-15T00:17:22.412416Z",
     "start_time": "2021-04-15T00:17:22.242759Z"
    }
   },
   "outputs": [
    {
     "name": "stdout",
     "output_type": "stream",
     "text": [
      "----------------------------------------------------------------------------------------------------\n",
      "<class 'pandas.core.frame.DataFrame'>\n",
      "RangeIndex: 159571 entries, 0 to 159570\n",
      "Data columns (total 8 columns):\n",
      " #   Column         Non-Null Count   Dtype \n",
      "---  ------         --------------   ----- \n",
      " 0   id             159571 non-null  object\n",
      " 1   comment_text   159571 non-null  object\n",
      " 2   toxic          159571 non-null  int64 \n",
      " 3   severe_toxic   159571 non-null  int64 \n",
      " 4   obscene        159571 non-null  int64 \n",
      " 5   threat         159571 non-null  int64 \n",
      " 6   insult         159571 non-null  int64 \n",
      " 7   identity_hate  159571 non-null  int64 \n",
      "dtypes: int64(6), object(2)\n",
      "memory usage: 9.7+ MB\n",
      "None\n",
      "----------------------------------------------------------------------------------------------------\n",
      "<class 'pandas.core.frame.DataFrame'>\n",
      "RangeIndex: 153164 entries, 0 to 153163\n",
      "Data columns (total 2 columns):\n",
      " #   Column        Non-Null Count   Dtype \n",
      "---  ------        --------------   ----- \n",
      " 0   id            153164 non-null  object\n",
      " 1   comment_text  153164 non-null  object\n",
      "dtypes: object(2)\n",
      "memory usage: 2.3+ MB\n",
      "None\n",
      "----------------------------------------------------------------------------------------------------\n",
      "<class 'pandas.core.frame.DataFrame'>\n",
      "RangeIndex: 153164 entries, 0 to 153163\n",
      "Data columns (total 7 columns):\n",
      " #   Column         Non-Null Count   Dtype \n",
      "---  ------         --------------   ----- \n",
      " 0   id             153164 non-null  object\n",
      " 1   toxic          153164 non-null  int64 \n",
      " 2   severe_toxic   153164 non-null  int64 \n",
      " 3   obscene        153164 non-null  int64 \n",
      " 4   threat         153164 non-null  int64 \n",
      " 5   insult         153164 non-null  int64 \n",
      " 6   identity_hate  153164 non-null  int64 \n",
      "dtypes: int64(6), object(1)\n",
      "memory usage: 8.2+ MB\n",
      "None\n"
     ]
    }
   ],
   "source": [
    "print('-'*100) \n",
    "print(df_train.info())\n",
    "print('-'*100) \n",
    "print(df_test_data.info())\n",
    "print('-'*100) \n",
    "print(df_test_labels.info())"
   ]
  },
  {
   "cell_type": "code",
   "execution_count": 7,
   "metadata": {
    "ExecuteTime": {
     "end_time": "2021-04-15T00:17:22.503797Z",
     "start_time": "2021-04-15T00:17:22.414742Z"
    }
   },
   "outputs": [
    {
     "data": {
      "text/html": [
       "<div>\n",
       "<style scoped>\n",
       "    .dataframe tbody tr th:only-of-type {\n",
       "        vertical-align: middle;\n",
       "    }\n",
       "\n",
       "    .dataframe tbody tr th {\n",
       "        vertical-align: top;\n",
       "    }\n",
       "\n",
       "    .dataframe thead th {\n",
       "        text-align: right;\n",
       "    }\n",
       "</style>\n",
       "<table border=\"1\" class=\"dataframe\">\n",
       "  <thead>\n",
       "    <tr style=\"text-align: right;\">\n",
       "      <th></th>\n",
       "      <th>id</th>\n",
       "      <th>comment_text</th>\n",
       "      <th>toxic</th>\n",
       "      <th>severe_toxic</th>\n",
       "      <th>obscene</th>\n",
       "      <th>threat</th>\n",
       "      <th>insult</th>\n",
       "      <th>identity_hate</th>\n",
       "    </tr>\n",
       "  </thead>\n",
       "  <tbody>\n",
       "    <tr>\n",
       "      <th>0</th>\n",
       "      <td>0000997932d777bf</td>\n",
       "      <td>Explanation\\nWhy the edits made under my usern...</td>\n",
       "      <td>0</td>\n",
       "      <td>0</td>\n",
       "      <td>0</td>\n",
       "      <td>0</td>\n",
       "      <td>0</td>\n",
       "      <td>0</td>\n",
       "    </tr>\n",
       "    <tr>\n",
       "      <th>1</th>\n",
       "      <td>000103f0d9cfb60f</td>\n",
       "      <td>D'aww! He matches this background colour I'm s...</td>\n",
       "      <td>0</td>\n",
       "      <td>0</td>\n",
       "      <td>0</td>\n",
       "      <td>0</td>\n",
       "      <td>0</td>\n",
       "      <td>0</td>\n",
       "    </tr>\n",
       "    <tr>\n",
       "      <th>2</th>\n",
       "      <td>000113f07ec002fd</td>\n",
       "      <td>Hey man, I'm really not trying to edit war. It...</td>\n",
       "      <td>0</td>\n",
       "      <td>0</td>\n",
       "      <td>0</td>\n",
       "      <td>0</td>\n",
       "      <td>0</td>\n",
       "      <td>0</td>\n",
       "    </tr>\n",
       "    <tr>\n",
       "      <th>3</th>\n",
       "      <td>0001b41b1c6bb37e</td>\n",
       "      <td>\"\\nMore\\nI can't make any real suggestions on ...</td>\n",
       "      <td>0</td>\n",
       "      <td>0</td>\n",
       "      <td>0</td>\n",
       "      <td>0</td>\n",
       "      <td>0</td>\n",
       "      <td>0</td>\n",
       "    </tr>\n",
       "    <tr>\n",
       "      <th>4</th>\n",
       "      <td>0001d958c54c6e35</td>\n",
       "      <td>You, sir, are my hero. Any chance you remember...</td>\n",
       "      <td>0</td>\n",
       "      <td>0</td>\n",
       "      <td>0</td>\n",
       "      <td>0</td>\n",
       "      <td>0</td>\n",
       "      <td>0</td>\n",
       "    </tr>\n",
       "  </tbody>\n",
       "</table>\n",
       "</div>"
      ],
      "text/plain": [
       "                 id                                       comment_text  toxic  \\\n",
       "0  0000997932d777bf  Explanation\\nWhy the edits made under my usern...      0   \n",
       "1  000103f0d9cfb60f  D'aww! He matches this background colour I'm s...      0   \n",
       "2  000113f07ec002fd  Hey man, I'm really not trying to edit war. It...      0   \n",
       "3  0001b41b1c6bb37e  \"\\nMore\\nI can't make any real suggestions on ...      0   \n",
       "4  0001d958c54c6e35  You, sir, are my hero. Any chance you remember...      0   \n",
       "\n",
       "   severe_toxic  obscene  threat  insult  identity_hate  \n",
       "0             0        0       0       0              0  \n",
       "1             0        0       0       0              0  \n",
       "2             0        0       0       0              0  \n",
       "3             0        0       0       0              0  \n",
       "4             0        0       0       0              0  "
      ]
     },
     "metadata": {},
     "output_type": "display_data"
    },
    {
     "data": {
      "text/html": [
       "<div>\n",
       "<style scoped>\n",
       "    .dataframe tbody tr th:only-of-type {\n",
       "        vertical-align: middle;\n",
       "    }\n",
       "\n",
       "    .dataframe tbody tr th {\n",
       "        vertical-align: top;\n",
       "    }\n",
       "\n",
       "    .dataframe thead th {\n",
       "        text-align: right;\n",
       "    }\n",
       "</style>\n",
       "<table border=\"1\" class=\"dataframe\">\n",
       "  <thead>\n",
       "    <tr style=\"text-align: right;\">\n",
       "      <th></th>\n",
       "      <th>id</th>\n",
       "      <th>comment_text</th>\n",
       "    </tr>\n",
       "  </thead>\n",
       "  <tbody>\n",
       "    <tr>\n",
       "      <th>0</th>\n",
       "      <td>00001cee341fdb12</td>\n",
       "      <td>Yo bitch Ja Rule is more succesful then you'll...</td>\n",
       "    </tr>\n",
       "    <tr>\n",
       "      <th>1</th>\n",
       "      <td>0000247867823ef7</td>\n",
       "      <td>== From RfC == \\n\\n The title is fine as it is...</td>\n",
       "    </tr>\n",
       "    <tr>\n",
       "      <th>2</th>\n",
       "      <td>00013b17ad220c46</td>\n",
       "      <td>\" \\n\\n == Sources == \\n\\n * Zawe Ashton on Lap...</td>\n",
       "    </tr>\n",
       "    <tr>\n",
       "      <th>3</th>\n",
       "      <td>00017563c3f7919a</td>\n",
       "      <td>:If you have a look back at the source, the in...</td>\n",
       "    </tr>\n",
       "    <tr>\n",
       "      <th>4</th>\n",
       "      <td>00017695ad8997eb</td>\n",
       "      <td>I don't anonymously edit articles at all.</td>\n",
       "    </tr>\n",
       "  </tbody>\n",
       "</table>\n",
       "</div>"
      ],
      "text/plain": [
       "                 id                                       comment_text\n",
       "0  00001cee341fdb12  Yo bitch Ja Rule is more succesful then you'll...\n",
       "1  0000247867823ef7  == From RfC == \\n\\n The title is fine as it is...\n",
       "2  00013b17ad220c46  \" \\n\\n == Sources == \\n\\n * Zawe Ashton on Lap...\n",
       "3  00017563c3f7919a  :If you have a look back at the source, the in...\n",
       "4  00017695ad8997eb          I don't anonymously edit articles at all."
      ]
     },
     "metadata": {},
     "output_type": "display_data"
    },
    {
     "data": {
      "text/html": [
       "<div>\n",
       "<style scoped>\n",
       "    .dataframe tbody tr th:only-of-type {\n",
       "        vertical-align: middle;\n",
       "    }\n",
       "\n",
       "    .dataframe tbody tr th {\n",
       "        vertical-align: top;\n",
       "    }\n",
       "\n",
       "    .dataframe thead th {\n",
       "        text-align: right;\n",
       "    }\n",
       "</style>\n",
       "<table border=\"1\" class=\"dataframe\">\n",
       "  <thead>\n",
       "    <tr style=\"text-align: right;\">\n",
       "      <th></th>\n",
       "      <th>id</th>\n",
       "      <th>toxic</th>\n",
       "      <th>severe_toxic</th>\n",
       "      <th>obscene</th>\n",
       "      <th>threat</th>\n",
       "      <th>insult</th>\n",
       "      <th>identity_hate</th>\n",
       "    </tr>\n",
       "  </thead>\n",
       "  <tbody>\n",
       "    <tr>\n",
       "      <th>0</th>\n",
       "      <td>00001cee341fdb12</td>\n",
       "      <td>-1</td>\n",
       "      <td>-1</td>\n",
       "      <td>-1</td>\n",
       "      <td>-1</td>\n",
       "      <td>-1</td>\n",
       "      <td>-1</td>\n",
       "    </tr>\n",
       "    <tr>\n",
       "      <th>1</th>\n",
       "      <td>0000247867823ef7</td>\n",
       "      <td>-1</td>\n",
       "      <td>-1</td>\n",
       "      <td>-1</td>\n",
       "      <td>-1</td>\n",
       "      <td>-1</td>\n",
       "      <td>-1</td>\n",
       "    </tr>\n",
       "    <tr>\n",
       "      <th>2</th>\n",
       "      <td>00013b17ad220c46</td>\n",
       "      <td>-1</td>\n",
       "      <td>-1</td>\n",
       "      <td>-1</td>\n",
       "      <td>-1</td>\n",
       "      <td>-1</td>\n",
       "      <td>-1</td>\n",
       "    </tr>\n",
       "    <tr>\n",
       "      <th>3</th>\n",
       "      <td>00017563c3f7919a</td>\n",
       "      <td>-1</td>\n",
       "      <td>-1</td>\n",
       "      <td>-1</td>\n",
       "      <td>-1</td>\n",
       "      <td>-1</td>\n",
       "      <td>-1</td>\n",
       "    </tr>\n",
       "    <tr>\n",
       "      <th>4</th>\n",
       "      <td>00017695ad8997eb</td>\n",
       "      <td>-1</td>\n",
       "      <td>-1</td>\n",
       "      <td>-1</td>\n",
       "      <td>-1</td>\n",
       "      <td>-1</td>\n",
       "      <td>-1</td>\n",
       "    </tr>\n",
       "  </tbody>\n",
       "</table>\n",
       "</div>"
      ],
      "text/plain": [
       "                 id  toxic  severe_toxic  obscene  threat  insult  \\\n",
       "0  00001cee341fdb12     -1            -1       -1      -1      -1   \n",
       "1  0000247867823ef7     -1            -1       -1      -1      -1   \n",
       "2  00013b17ad220c46     -1            -1       -1      -1      -1   \n",
       "3  00017563c3f7919a     -1            -1       -1      -1      -1   \n",
       "4  00017695ad8997eb     -1            -1       -1      -1      -1   \n",
       "\n",
       "   identity_hate  \n",
       "0             -1  \n",
       "1             -1  \n",
       "2             -1  \n",
       "3             -1  \n",
       "4             -1  "
      ]
     },
     "metadata": {},
     "output_type": "display_data"
    }
   ],
   "source": [
    "display(df_train.head())\n",
    "display(df_test_data.head())\n",
    "display(df_test_labels.head())"
   ]
  },
  {
   "cell_type": "code",
   "execution_count": 8,
   "metadata": {
    "ExecuteTime": {
     "end_time": "2021-04-15T00:17:22.689282Z",
     "start_time": "2021-04-15T00:17:22.507537Z"
    }
   },
   "outputs": [
    {
     "name": "stdout",
     "output_type": "stream",
     "text": [
      "df_test= 153164\n",
      "----------------------------------------------------------------------------------------------------\n"
     ]
    },
    {
     "data": {
      "text/html": [
       "<div>\n",
       "<style scoped>\n",
       "    .dataframe tbody tr th:only-of-type {\n",
       "        vertical-align: middle;\n",
       "    }\n",
       "\n",
       "    .dataframe tbody tr th {\n",
       "        vertical-align: top;\n",
       "    }\n",
       "\n",
       "    .dataframe thead th {\n",
       "        text-align: right;\n",
       "    }\n",
       "</style>\n",
       "<table border=\"1\" class=\"dataframe\">\n",
       "  <thead>\n",
       "    <tr style=\"text-align: right;\">\n",
       "      <th></th>\n",
       "      <th>id</th>\n",
       "      <th>comment_text</th>\n",
       "      <th>toxic</th>\n",
       "      <th>severe_toxic</th>\n",
       "      <th>obscene</th>\n",
       "      <th>threat</th>\n",
       "      <th>insult</th>\n",
       "      <th>identity_hate</th>\n",
       "    </tr>\n",
       "  </thead>\n",
       "  <tbody>\n",
       "    <tr>\n",
       "      <th>66954</th>\n",
       "      <td>6f7d47c326918b9f</td>\n",
       "      <td>:::Fair enough, but see also Wikipedia:Argumen...</td>\n",
       "      <td>-1</td>\n",
       "      <td>-1</td>\n",
       "      <td>-1</td>\n",
       "      <td>-1</td>\n",
       "      <td>-1</td>\n",
       "      <td>-1</td>\n",
       "    </tr>\n",
       "    <tr>\n",
       "      <th>47032</th>\n",
       "      <td>4e04de04a35ee078</td>\n",
       "      <td>::The renewal for S4 came in January 2011 thou...</td>\n",
       "      <td>0</td>\n",
       "      <td>0</td>\n",
       "      <td>0</td>\n",
       "      <td>0</td>\n",
       "      <td>0</td>\n",
       "      <td>0</td>\n",
       "    </tr>\n",
       "    <tr>\n",
       "      <th>36859</th>\n",
       "      <td>3d312b2ae473256c</td>\n",
       "      <td>i love to get anal from shemales with giant, r...</td>\n",
       "      <td>-1</td>\n",
       "      <td>-1</td>\n",
       "      <td>-1</td>\n",
       "      <td>-1</td>\n",
       "      <td>-1</td>\n",
       "      <td>-1</td>\n",
       "    </tr>\n",
       "    <tr>\n",
       "      <th>82491</th>\n",
       "      <td>89989c28e4fa61c5</td>\n",
       "      <td>\" \\n\\n ==definition== \\n I changed the definit...</td>\n",
       "      <td>0</td>\n",
       "      <td>0</td>\n",
       "      <td>0</td>\n",
       "      <td>0</td>\n",
       "      <td>0</td>\n",
       "      <td>0</td>\n",
       "    </tr>\n",
       "    <tr>\n",
       "      <th>42076</th>\n",
       "      <td>45c8893e791c7780</td>\n",
       "      <td>Hi!  I put together a [http://en.wikipedia.org...</td>\n",
       "      <td>0</td>\n",
       "      <td>0</td>\n",
       "      <td>0</td>\n",
       "      <td>0</td>\n",
       "      <td>0</td>\n",
       "      <td>0</td>\n",
       "    </tr>\n",
       "  </tbody>\n",
       "</table>\n",
       "</div>"
      ],
      "text/plain": [
       "                     id                                       comment_text  \\\n",
       "66954  6f7d47c326918b9f  :::Fair enough, but see also Wikipedia:Argumen...   \n",
       "47032  4e04de04a35ee078  ::The renewal for S4 came in January 2011 thou...   \n",
       "36859  3d312b2ae473256c  i love to get anal from shemales with giant, r...   \n",
       "82491  89989c28e4fa61c5  \" \\n\\n ==definition== \\n I changed the definit...   \n",
       "42076  45c8893e791c7780  Hi!  I put together a [http://en.wikipedia.org...   \n",
       "\n",
       "       toxic  severe_toxic  obscene  threat  insult  identity_hate  \n",
       "66954     -1            -1       -1      -1      -1             -1  \n",
       "47032      0             0        0       0       0              0  \n",
       "36859     -1            -1       -1      -1      -1             -1  \n",
       "82491      0             0        0       0       0              0  \n",
       "42076      0             0        0       0       0              0  "
      ]
     },
     "metadata": {},
     "output_type": "display_data"
    }
   ],
   "source": [
    "df_test = df_test_data.join(df_test_labels.set_index('id'), on='id')\n",
    "print('df_test=', len(df_test))\n",
    "print('-'*100) \n",
    "display(df_test.sample(5))"
   ]
  },
  {
   "cell_type": "code",
   "execution_count": 9,
   "metadata": {
    "ExecuteTime": {
     "end_time": "2021-04-15T00:17:22.784845Z",
     "start_time": "2021-04-15T00:17:22.692332Z"
    }
   },
   "outputs": [
    {
     "name": "stdout",
     "output_type": "stream",
     "text": [
      "df_test= 63978\n",
      "----------------------------------------------------------------------------------------------------\n"
     ]
    },
    {
     "data": {
      "text/html": [
       "<div>\n",
       "<style scoped>\n",
       "    .dataframe tbody tr th:only-of-type {\n",
       "        vertical-align: middle;\n",
       "    }\n",
       "\n",
       "    .dataframe tbody tr th {\n",
       "        vertical-align: top;\n",
       "    }\n",
       "\n",
       "    .dataframe thead th {\n",
       "        text-align: right;\n",
       "    }\n",
       "</style>\n",
       "<table border=\"1\" class=\"dataframe\">\n",
       "  <thead>\n",
       "    <tr style=\"text-align: right;\">\n",
       "      <th></th>\n",
       "      <th>id</th>\n",
       "      <th>comment_text</th>\n",
       "      <th>toxic</th>\n",
       "      <th>severe_toxic</th>\n",
       "      <th>obscene</th>\n",
       "      <th>threat</th>\n",
       "      <th>insult</th>\n",
       "      <th>identity_hate</th>\n",
       "    </tr>\n",
       "  </thead>\n",
       "  <tbody>\n",
       "    <tr>\n",
       "      <th>64735</th>\n",
       "      <td>6bcb98f2938628bb</td>\n",
       "      <td>All the material in the Solutions of the Einst...</td>\n",
       "      <td>0</td>\n",
       "      <td>0</td>\n",
       "      <td>0</td>\n",
       "      <td>0</td>\n",
       "      <td>0</td>\n",
       "      <td>0</td>\n",
       "    </tr>\n",
       "    <tr>\n",
       "      <th>84288</th>\n",
       "      <td>8c8cc90571a9ef77</td>\n",
       "      <td>Angolan Civil War (China backed the US on one ...</td>\n",
       "      <td>0</td>\n",
       "      <td>0</td>\n",
       "      <td>0</td>\n",
       "      <td>0</td>\n",
       "      <td>0</td>\n",
       "      <td>0</td>\n",
       "    </tr>\n",
       "    <tr>\n",
       "      <th>23358</th>\n",
       "      <td>26f8eee059bcb81c</td>\n",
       "      <td>:It sounds less stupid than the previous versi...</td>\n",
       "      <td>0</td>\n",
       "      <td>0</td>\n",
       "      <td>0</td>\n",
       "      <td>0</td>\n",
       "      <td>0</td>\n",
       "      <td>0</td>\n",
       "    </tr>\n",
       "    <tr>\n",
       "      <th>61845</th>\n",
       "      <td>66e7fe5d7948366d</td>\n",
       "      <td>. \\n\\n ==Concepts exressible in infinite logic...</td>\n",
       "      <td>0</td>\n",
       "      <td>0</td>\n",
       "      <td>0</td>\n",
       "      <td>0</td>\n",
       "      <td>0</td>\n",
       "      <td>0</td>\n",
       "    </tr>\n",
       "    <tr>\n",
       "      <th>77993</th>\n",
       "      <td>82188bdf9154b2ac</td>\n",
       "      <td>: I think the present state of that paragraph ...</td>\n",
       "      <td>0</td>\n",
       "      <td>0</td>\n",
       "      <td>0</td>\n",
       "      <td>0</td>\n",
       "      <td>0</td>\n",
       "      <td>0</td>\n",
       "    </tr>\n",
       "  </tbody>\n",
       "</table>\n",
       "</div>"
      ],
      "text/plain": [
       "                     id                                       comment_text  \\\n",
       "64735  6bcb98f2938628bb  All the material in the Solutions of the Einst...   \n",
       "84288  8c8cc90571a9ef77  Angolan Civil War (China backed the US on one ...   \n",
       "23358  26f8eee059bcb81c  :It sounds less stupid than the previous versi...   \n",
       "61845  66e7fe5d7948366d  . \\n\\n ==Concepts exressible in infinite logic...   \n",
       "77993  82188bdf9154b2ac  : I think the present state of that paragraph ...   \n",
       "\n",
       "       toxic  severe_toxic  obscene  threat  insult  identity_hate  \n",
       "64735      0             0        0       0       0              0  \n",
       "84288      0             0        0       0       0              0  \n",
       "23358      0             0        0       0       0              0  \n",
       "61845      0             0        0       0       0              0  \n",
       "77993      0             0        0       0       0              0  "
      ]
     },
     "metadata": {},
     "output_type": "display_data"
    }
   ],
   "source": [
    "df_test = df_test.loc[df_test[params.classes].max(axis=1)>=0]\n",
    "\n",
    "print('df_test=', len(df_test))\n",
    "print('-'*100) \n",
    "display(df_test.sample(5))"
   ]
  },
  {
   "cell_type": "markdown",
   "metadata": {},
   "source": [
    "看了一些kaggle上别人的模型，看上去他们那时候的数据集时直接把训练数据拆分的。"
   ]
  },
  {
   "cell_type": "code",
   "execution_count": 10,
   "metadata": {
    "ExecuteTime": {
     "end_time": "2021-04-15T00:17:22.882616Z",
     "start_time": "2021-04-15T00:17:22.787894Z"
    }
   },
   "outputs": [],
   "source": [
    "df_train, df_test = train_test_split(df_train, test_size=0.05, random_state=233)\n",
    "\n"
   ]
  },
  {
   "cell_type": "code",
   "execution_count": 11,
   "metadata": {
    "ExecuteTime": {
     "end_time": "2021-04-15T00:17:22.965014Z",
     "start_time": "2021-04-15T00:17:22.885158Z"
    }
   },
   "outputs": [
    {
     "name": "stdout",
     "output_type": "stream",
     "text": [
      "----------------------------------------------------------------------------------------------------\n",
      "df_train= 151592\n",
      "----------------------------------------------------------------------------------------------------\n",
      "df_test 7979\n"
     ]
    },
    {
     "data": {
      "text/html": [
       "<div>\n",
       "<style scoped>\n",
       "    .dataframe tbody tr th:only-of-type {\n",
       "        vertical-align: middle;\n",
       "    }\n",
       "\n",
       "    .dataframe tbody tr th {\n",
       "        vertical-align: top;\n",
       "    }\n",
       "\n",
       "    .dataframe thead th {\n",
       "        text-align: right;\n",
       "    }\n",
       "</style>\n",
       "<table border=\"1\" class=\"dataframe\">\n",
       "  <thead>\n",
       "    <tr style=\"text-align: right;\">\n",
       "      <th></th>\n",
       "      <th>id</th>\n",
       "      <th>comment_text</th>\n",
       "      <th>toxic</th>\n",
       "      <th>severe_toxic</th>\n",
       "      <th>obscene</th>\n",
       "      <th>threat</th>\n",
       "      <th>insult</th>\n",
       "      <th>identity_hate</th>\n",
       "    </tr>\n",
       "  </thead>\n",
       "  <tbody>\n",
       "    <tr>\n",
       "      <th>84744</th>\n",
       "      <td>e2c31e550c490a2c</td>\n",
       "      <td>Peter Firmin at Assoc. Rediffusion \\n\\nWhat fu...</td>\n",
       "      <td>0</td>\n",
       "      <td>0</td>\n",
       "      <td>0</td>\n",
       "      <td>0</td>\n",
       "      <td>0</td>\n",
       "      <td>0</td>\n",
       "    </tr>\n",
       "    <tr>\n",
       "      <th>157733</th>\n",
       "      <td>e29343448ffcc704</td>\n",
       "      <td>Many thanks - all now sorted. Cheers -</td>\n",
       "      <td>0</td>\n",
       "      <td>0</td>\n",
       "      <td>0</td>\n",
       "      <td>0</td>\n",
       "      <td>0</td>\n",
       "      <td>0</td>\n",
       "    </tr>\n",
       "    <tr>\n",
       "      <th>47507</th>\n",
       "      <td>7ee8413b95eff01b</td>\n",
       "      <td>Harold S. Gladwin\\nHi, I've removed most of th...</td>\n",
       "      <td>0</td>\n",
       "      <td>0</td>\n",
       "      <td>0</td>\n",
       "      <td>0</td>\n",
       "      <td>0</td>\n",
       "      <td>0</td>\n",
       "    </tr>\n",
       "    <tr>\n",
       "      <th>23795</th>\n",
       "      <td>3ed854a28b1e37b9</td>\n",
       "      <td>I was one of the lost boys from sudan, when ju...</td>\n",
       "      <td>0</td>\n",
       "      <td>0</td>\n",
       "      <td>0</td>\n",
       "      <td>0</td>\n",
       "      <td>0</td>\n",
       "      <td>0</td>\n",
       "    </tr>\n",
       "    <tr>\n",
       "      <th>32104</th>\n",
       "      <td>554d2d042e0e8123</td>\n",
       "      <td>Proud to be WHITE! \\n\\nHey, thanks to the Afro...</td>\n",
       "      <td>1</td>\n",
       "      <td>0</td>\n",
       "      <td>0</td>\n",
       "      <td>0</td>\n",
       "      <td>0</td>\n",
       "      <td>1</td>\n",
       "    </tr>\n",
       "  </tbody>\n",
       "</table>\n",
       "</div>"
      ],
      "text/plain": [
       "                      id                                       comment_text  \\\n",
       "84744   e2c31e550c490a2c  Peter Firmin at Assoc. Rediffusion \\n\\nWhat fu...   \n",
       "157733  e29343448ffcc704             Many thanks - all now sorted. Cheers -   \n",
       "47507   7ee8413b95eff01b  Harold S. Gladwin\\nHi, I've removed most of th...   \n",
       "23795   3ed854a28b1e37b9  I was one of the lost boys from sudan, when ju...   \n",
       "32104   554d2d042e0e8123  Proud to be WHITE! \\n\\nHey, thanks to the Afro...   \n",
       "\n",
       "        toxic  severe_toxic  obscene  threat  insult  identity_hate  \n",
       "84744       0             0        0       0       0              0  \n",
       "157733      0             0        0       0       0              0  \n",
       "47507       0             0        0       0       0              0  \n",
       "23795       0             0        0       0       0              0  \n",
       "32104       1             0        0       0       0              1  "
      ]
     },
     "metadata": {},
     "output_type": "display_data"
    },
    {
     "data": {
      "text/html": [
       "<div>\n",
       "<style scoped>\n",
       "    .dataframe tbody tr th:only-of-type {\n",
       "        vertical-align: middle;\n",
       "    }\n",
       "\n",
       "    .dataframe tbody tr th {\n",
       "        vertical-align: top;\n",
       "    }\n",
       "\n",
       "    .dataframe thead th {\n",
       "        text-align: right;\n",
       "    }\n",
       "</style>\n",
       "<table border=\"1\" class=\"dataframe\">\n",
       "  <thead>\n",
       "    <tr style=\"text-align: right;\">\n",
       "      <th></th>\n",
       "      <th>id</th>\n",
       "      <th>comment_text</th>\n",
       "      <th>toxic</th>\n",
       "      <th>severe_toxic</th>\n",
       "      <th>obscene</th>\n",
       "      <th>threat</th>\n",
       "      <th>insult</th>\n",
       "      <th>identity_hate</th>\n",
       "    </tr>\n",
       "  </thead>\n",
       "  <tbody>\n",
       "    <tr>\n",
       "      <th>89476</th>\n",
       "      <td>ef556d2718d59be1</td>\n",
       "      <td>I have improved the answer</td>\n",
       "      <td>0</td>\n",
       "      <td>0</td>\n",
       "      <td>0</td>\n",
       "      <td>0</td>\n",
       "      <td>0</td>\n",
       "      <td>0</td>\n",
       "    </tr>\n",
       "    <tr>\n",
       "      <th>19000</th>\n",
       "      <td>322bb1e66d83ba9b</td>\n",
       "      <td>outside my house with my freinds</td>\n",
       "      <td>0</td>\n",
       "      <td>0</td>\n",
       "      <td>0</td>\n",
       "      <td>0</td>\n",
       "      <td>0</td>\n",
       "      <td>0</td>\n",
       "    </tr>\n",
       "    <tr>\n",
       "      <th>152497</th>\n",
       "      <td>8e553742bd80bdd3</td>\n",
       "      <td>\"\\n\\n Hungaro-Croatian reign \\nIn order to res...</td>\n",
       "      <td>0</td>\n",
       "      <td>0</td>\n",
       "      <td>0</td>\n",
       "      <td>0</td>\n",
       "      <td>0</td>\n",
       "      <td>0</td>\n",
       "    </tr>\n",
       "    <tr>\n",
       "      <th>57907</th>\n",
       "      <td>9b0e03df6e010557</td>\n",
       "      <td>Aw, go fk off a Dragon Bit-h! You lonesome idi...</td>\n",
       "      <td>1</td>\n",
       "      <td>0</td>\n",
       "      <td>0</td>\n",
       "      <td>0</td>\n",
       "      <td>0</td>\n",
       "      <td>0</td>\n",
       "    </tr>\n",
       "    <tr>\n",
       "      <th>136002</th>\n",
       "      <td>d77b23f0ce2f645f</td>\n",
       "      <td>REDIRECT Angel the devil</td>\n",
       "      <td>0</td>\n",
       "      <td>0</td>\n",
       "      <td>0</td>\n",
       "      <td>0</td>\n",
       "      <td>0</td>\n",
       "      <td>0</td>\n",
       "    </tr>\n",
       "  </tbody>\n",
       "</table>\n",
       "</div>"
      ],
      "text/plain": [
       "                      id                                       comment_text  \\\n",
       "89476   ef556d2718d59be1                         I have improved the answer   \n",
       "19000   322bb1e66d83ba9b                   outside my house with my freinds   \n",
       "152497  8e553742bd80bdd3  \"\\n\\n Hungaro-Croatian reign \\nIn order to res...   \n",
       "57907   9b0e03df6e010557  Aw, go fk off a Dragon Bit-h! You lonesome idi...   \n",
       "136002  d77b23f0ce2f645f                           REDIRECT Angel the devil   \n",
       "\n",
       "        toxic  severe_toxic  obscene  threat  insult  identity_hate  \n",
       "89476       0             0        0       0       0              0  \n",
       "19000       0             0        0       0       0              0  \n",
       "152497      0             0        0       0       0              0  \n",
       "57907       1             0        0       0       0              0  \n",
       "136002      0             0        0       0       0              0  "
      ]
     },
     "metadata": {},
     "output_type": "display_data"
    }
   ],
   "source": [
    "print('-'*100) \n",
    "print('df_train=', len(df_train))\n",
    "print('-'*100) \n",
    "print('df_test', len(df_test))\n",
    "display(df_train.sample(5))\n",
    "display(df_test.sample(5))"
   ]
  },
  {
   "cell_type": "markdown",
   "metadata": {},
   "source": [
    "### 查看数据\n",
    "\n",
    "下面看一看实际的数据是啥样的。"
   ]
  },
  {
   "cell_type": "code",
   "execution_count": 12,
   "metadata": {
    "ExecuteTime": {
     "end_time": "2021-04-15T00:17:23.088289Z",
     "start_time": "2021-04-15T00:17:22.967902Z"
    },
    "scrolled": false
   },
   "outputs": [
    {
     "name": "stdout",
     "output_type": "stream",
     "text": [
      "----------------------------------------------------------------------------------------------------\n"
     ]
    },
    {
     "data": {
      "text/html": [
       "<div>\n",
       "<style scoped>\n",
       "    .dataframe tbody tr th:only-of-type {\n",
       "        vertical-align: middle;\n",
       "    }\n",
       "\n",
       "    .dataframe tbody tr th {\n",
       "        vertical-align: top;\n",
       "    }\n",
       "\n",
       "    .dataframe thead th {\n",
       "        text-align: right;\n",
       "    }\n",
       "</style>\n",
       "<table border=\"1\" class=\"dataframe\">\n",
       "  <thead>\n",
       "    <tr style=\"text-align: right;\">\n",
       "      <th></th>\n",
       "      <th>toxic</th>\n",
       "      <th>severe_toxic</th>\n",
       "      <th>obscene</th>\n",
       "      <th>threat</th>\n",
       "      <th>insult</th>\n",
       "      <th>identity_hate</th>\n",
       "    </tr>\n",
       "  </thead>\n",
       "  <tbody>\n",
       "    <tr>\n",
       "      <th>135510</th>\n",
       "      <td>0</td>\n",
       "      <td>0</td>\n",
       "      <td>0</td>\n",
       "      <td>0</td>\n",
       "      <td>0</td>\n",
       "      <td>0</td>\n",
       "    </tr>\n",
       "  </tbody>\n",
       "</table>\n",
       "</div>"
      ],
      "text/plain": [
       "       toxic severe_toxic obscene threat insult identity_hate\n",
       "135510     0            0       0      0      0             0"
      ]
     },
     "metadata": {},
     "output_type": "display_data"
    },
    {
     "name": "stdout",
     "output_type": "stream",
     "text": [
      "\"\n",
      "Well, to be perfectly clear I had no idea what the alt= parameter was for and since it was empty I initially just removed it.  The reason why I asked if you read it is because it doesn't say anywhere on that page that empty parameters are to be included, except for the alt.  (Talk) \"\n",
      "----------------------------------------------------------------------------------------------------\n"
     ]
    },
    {
     "data": {
      "text/html": [
       "<div>\n",
       "<style scoped>\n",
       "    .dataframe tbody tr th:only-of-type {\n",
       "        vertical-align: middle;\n",
       "    }\n",
       "\n",
       "    .dataframe tbody tr th {\n",
       "        vertical-align: top;\n",
       "    }\n",
       "\n",
       "    .dataframe thead th {\n",
       "        text-align: right;\n",
       "    }\n",
       "</style>\n",
       "<table border=\"1\" class=\"dataframe\">\n",
       "  <thead>\n",
       "    <tr style=\"text-align: right;\">\n",
       "      <th></th>\n",
       "      <th>toxic</th>\n",
       "      <th>severe_toxic</th>\n",
       "      <th>obscene</th>\n",
       "      <th>threat</th>\n",
       "      <th>insult</th>\n",
       "      <th>identity_hate</th>\n",
       "    </tr>\n",
       "  </thead>\n",
       "  <tbody>\n",
       "    <tr>\n",
       "      <th>28639</th>\n",
       "      <td>0</td>\n",
       "      <td>0</td>\n",
       "      <td>0</td>\n",
       "      <td>0</td>\n",
       "      <td>0</td>\n",
       "      <td>0</td>\n",
       "    </tr>\n",
       "  </tbody>\n",
       "</table>\n",
       "</div>"
      ],
      "text/plain": [
       "      toxic severe_toxic obscene threat insult identity_hate\n",
       "28639     0            0       0      0      0             0"
      ]
     },
     "metadata": {},
     "output_type": "display_data"
    },
    {
     "name": "stdout",
     "output_type": "stream",
     "text": [
      "\"\n",
      "\n",
      "Hello 3rdeyefilm, and Welcome to Wikipedia! \n",
      "Welcome to Wikipedia! I hope you enjoy the encyclopedia and want to stay. As a first step, you may wish to read the Introduction.\n",
      "\n",
      "If you have any questions, feel free to ask me at my talk page – I'm happy to help. Or, you can ask your question at the New contributors' help page.\n",
      "\n",
      "  \n",
      "Here are some more resources to help you as you explore and contribute to the world's largest encyclopedia...\n",
      "\n",
      " Finding your way around: \n",
      "\n",
      " Table of contents\n",
      "\n",
      " Department directory\n",
      "\n",
      " Need help? \n",
      "\n",
      " Questions – a guide on where to ask questions\n",
      " Cheatsheet – quick reference on Wikipedia's mark-up codes\n",
      " Wikipedia's 5 pillars – an overview of Wikipedia's foundations\n",
      "\n",
      " Article wizard – a Wizard to help you create articles\n",
      " The simplified ruleset – a summary of Wikipedia's most important rules\n",
      "Guide to Wikipedia – a thorough step-by-step guide to Wikipedia\n",
      "\n",
      " How you can help: \n",
      "\n",
      " Contributing to Wikipedia – a guide on how you can help\n",
      "\n",
      " Community portal – Wikipedia's hub of activity\n",
      "\n",
      " Additional tips...  \n",
      "\n",
      " Please sign your messages on talk pages with four tildes (~~~~). This will automatically insert your \"\"signature\"\" (your username and a date stamp). The  or  button, on the tool bar above Wikipedia's text editing window, also does this. \n",
      "\n",
      " If you would like to play around with your new Wiki skills the Sandbox is for you. \n",
      "\n",
      "3rdeyefilm, good luck, and have fun. –  talk \"\n",
      "----------------------------------------------------------------------------------------------------\n"
     ]
    },
    {
     "data": {
      "text/html": [
       "<div>\n",
       "<style scoped>\n",
       "    .dataframe tbody tr th:only-of-type {\n",
       "        vertical-align: middle;\n",
       "    }\n",
       "\n",
       "    .dataframe tbody tr th {\n",
       "        vertical-align: top;\n",
       "    }\n",
       "\n",
       "    .dataframe thead th {\n",
       "        text-align: right;\n",
       "    }\n",
       "</style>\n",
       "<table border=\"1\" class=\"dataframe\">\n",
       "  <thead>\n",
       "    <tr style=\"text-align: right;\">\n",
       "      <th></th>\n",
       "      <th>toxic</th>\n",
       "      <th>severe_toxic</th>\n",
       "      <th>obscene</th>\n",
       "      <th>threat</th>\n",
       "      <th>insult</th>\n",
       "      <th>identity_hate</th>\n",
       "    </tr>\n",
       "  </thead>\n",
       "  <tbody>\n",
       "    <tr>\n",
       "      <th>19703</th>\n",
       "      <td>0</td>\n",
       "      <td>0</td>\n",
       "      <td>0</td>\n",
       "      <td>0</td>\n",
       "      <td>0</td>\n",
       "      <td>0</td>\n",
       "    </tr>\n",
       "  </tbody>\n",
       "</table>\n",
       "</div>"
      ],
      "text/plain": [
       "      toxic severe_toxic obscene threat insult identity_hate\n",
       "19703     0            0       0      0      0             0"
      ]
     },
     "metadata": {},
     "output_type": "display_data"
    },
    {
     "name": "stdout",
     "output_type": "stream",
     "text": [
      "Hi Mehran! Notability guidelines for Wikipedia are listed here. Just because it was published in one publication, that is not enough to warrant notability. It needs to have strong coverage in reliable sources - a paper being published doesn't not signify notability, sadly. It should be cited in numerous places, by numerous scholars, in numerous reliable scholarly publications. Perhaps right now the subject just doesn't warrant a Wikipedia article, sorry ( You can always ask for further assistance at the Teahouse, too.\n",
      "----------------------------------------------------------------------------------------------------\n"
     ]
    },
    {
     "data": {
      "text/html": [
       "<div>\n",
       "<style scoped>\n",
       "    .dataframe tbody tr th:only-of-type {\n",
       "        vertical-align: middle;\n",
       "    }\n",
       "\n",
       "    .dataframe tbody tr th {\n",
       "        vertical-align: top;\n",
       "    }\n",
       "\n",
       "    .dataframe thead th {\n",
       "        text-align: right;\n",
       "    }\n",
       "</style>\n",
       "<table border=\"1\" class=\"dataframe\">\n",
       "  <thead>\n",
       "    <tr style=\"text-align: right;\">\n",
       "      <th></th>\n",
       "      <th>toxic</th>\n",
       "      <th>severe_toxic</th>\n",
       "      <th>obscene</th>\n",
       "      <th>threat</th>\n",
       "      <th>insult</th>\n",
       "      <th>identity_hate</th>\n",
       "    </tr>\n",
       "  </thead>\n",
       "  <tbody>\n",
       "    <tr>\n",
       "      <th>69028</th>\n",
       "      <td>0</td>\n",
       "      <td>0</td>\n",
       "      <td>0</td>\n",
       "      <td>0</td>\n",
       "      <td>0</td>\n",
       "      <td>0</td>\n",
       "    </tr>\n",
       "  </tbody>\n",
       "</table>\n",
       "</div>"
      ],
      "text/plain": [
       "      toxic severe_toxic obscene threat insult identity_hate\n",
       "69028     0            0       0      0      0             0"
      ]
     },
     "metadata": {},
     "output_type": "display_data"
    },
    {
     "name": "stdout",
     "output_type": "stream",
     "text": [
      "hey soz for all the swearing - b1link82\n",
      "----------------------------------------------------------------------------------------------------\n"
     ]
    },
    {
     "data": {
      "text/html": [
       "<div>\n",
       "<style scoped>\n",
       "    .dataframe tbody tr th:only-of-type {\n",
       "        vertical-align: middle;\n",
       "    }\n",
       "\n",
       "    .dataframe tbody tr th {\n",
       "        vertical-align: top;\n",
       "    }\n",
       "\n",
       "    .dataframe thead th {\n",
       "        text-align: right;\n",
       "    }\n",
       "</style>\n",
       "<table border=\"1\" class=\"dataframe\">\n",
       "  <thead>\n",
       "    <tr style=\"text-align: right;\">\n",
       "      <th></th>\n",
       "      <th>toxic</th>\n",
       "      <th>severe_toxic</th>\n",
       "      <th>obscene</th>\n",
       "      <th>threat</th>\n",
       "      <th>insult</th>\n",
       "      <th>identity_hate</th>\n",
       "    </tr>\n",
       "  </thead>\n",
       "  <tbody>\n",
       "    <tr>\n",
       "      <th>151413</th>\n",
       "      <td>0</td>\n",
       "      <td>0</td>\n",
       "      <td>0</td>\n",
       "      <td>0</td>\n",
       "      <td>0</td>\n",
       "      <td>0</td>\n",
       "    </tr>\n",
       "  </tbody>\n",
       "</table>\n",
       "</div>"
      ],
      "text/plain": [
       "       toxic severe_toxic obscene threat insult identity_hate\n",
       "151413     0            0       0      0      0             0"
      ]
     },
     "metadata": {},
     "output_type": "display_data"
    },
    {
     "name": "stdout",
     "output_type": "stream",
     "text": [
      "Fartsalot56 is watching you!!\n"
     ]
    }
   ],
   "source": [
    "for i, row in df_train.sample(5).iterrows():\n",
    "    print('-'*100) \n",
    "    display(row.to_frame().T[params.classes]) \n",
    "    print(row[\"comment_text\"]) "
   ]
  },
  {
   "cell_type": "markdown",
   "metadata": {},
   "source": [
    "\n",
    "\n",
    "## 探索数据\n",
    "\n",
    "接下来，对把数据加载进内存，进行深入一些的探索。\n",
    "\n",
    "### 基本信息"
   ]
  },
  {
   "cell_type": "code",
   "execution_count": 13,
   "metadata": {
    "ExecuteTime": {
     "end_time": "2021-04-15T00:17:23.190656Z",
     "start_time": "2021-04-15T00:17:23.090928Z"
    }
   },
   "outputs": [
    {
     "name": "stdout",
     "output_type": "stream",
     "text": [
      "train_texts.length=151592, train_labels.shape=(151592, 6)\n",
      "test_texts.length=7979, test_labels.shape=(7979, 6)\n"
     ]
    }
   ],
   "source": [
    "def get_samples(texts, labels, rate):\n",
    "    indexs = np.arange(len(texts))\n",
    "    sample_indexs, _, sample_labels, _ = train_test_split(indexs, labels,                                                          \n",
    "                                                          test_size=1-rate,\n",
    "                                                          random_state=12)\n",
    "    sample_texts = [texts[index] for index in sample_indexs]\n",
    "    return sample_texts, sample_labels    \n",
    "\n",
    "def load_toxicity(df, classes=params.classes):\n",
    "    \n",
    "    texts = list(df['comment_text'])\n",
    "    labels = df[classes].to_numpy()\n",
    "\n",
    "    return texts, labels\n",
    "\n",
    "train_texts, train_labels = load_toxicity(df_train)\n",
    "test_texts, test_labels = load_toxicity(df_test)\n",
    "\n",
    "\n",
    "if params.sample_perecent<1:\n",
    "    train_texts, train_labels = get_samples(train_texts, train_labels, rate=params.sample_perecent)\n",
    "    test_texts, test_labels = get_samples(test_texts, test_labels, rate=params.sample_perecent)\n",
    "\n",
    "print('train_texts.length={}, train_labels.shape={}'.format(len(train_texts), train_labels.shape))\n",
    "print('test_texts.length={}, test_labels.shape={}'.format(len(test_texts), test_labels.shape))"
   ]
  },
  {
   "cell_type": "code",
   "execution_count": 14,
   "metadata": {
    "ExecuteTime": {
     "end_time": "2021-04-15T00:17:23.251606Z",
     "start_time": "2021-04-15T00:17:23.192981Z"
    }
   },
   "outputs": [
    {
     "data": {
      "text/plain": [
       "\"Misplaced article\\nI noticed that you began to write an article at Portal:Contents.\\nI have undone your edit there, because that page is one of the encyclopedia's main index pages. It is not a good place to submit content for the encyclopedia.\\nI suggest that you look at Wikipedia:Your first article and perhaps try again using the Article wizard.\""
      ]
     },
     "execution_count": 14,
     "metadata": {},
     "output_type": "execute_result"
    }
   ],
   "source": [
    "test_texts[0]"
   ]
  },
  {
   "cell_type": "markdown",
   "metadata": {},
   "source": [
    "### 类别分布\n",
    "\n",
    "下面统计以下每个类别分别有多少的评论。由于一个评论属于多个类别，所以各个类别汇总后的评论数要大于总评论数。"
   ]
  },
  {
   "cell_type": "code",
   "execution_count": 15,
   "metadata": {
    "ExecuteTime": {
     "end_time": "2021-04-15T00:17:23.328944Z",
     "start_time": "2021-04-15T00:17:23.253931Z"
    }
   },
   "outputs": [],
   "source": [
    "def get_distribution(labels):\n",
    "    no_label_count = sum([1 if max(label)==0 else 0 for label in labels])\n",
    "    labels_count = np.sum(labels, axis=0)\n",
    "    return np.append(labels_count, no_label_count)\n",
    "\n",
    "def plot_distribution(train_labels, test_labels, classes):\n",
    "    def plot_dist(bin_count, title, color='blue', width=0.7):\n",
    "        bin_percentage = bin_count / np.sum(bin_count)\n",
    "        rects = plt.bar(np.arange(len(bin_count)), bin_count, width, color=color)\n",
    "        plt.title(title)\n",
    "        if classes is None:\n",
    "            plt.xticks(range(len(bin_count)))\n",
    "        else:\n",
    "            plt.xticks(range(len(bin_count)), labels=classes, rotation=45)\n",
    "        plt.ylim(0, max(bin_count) * 1.1)\n",
    "\n",
    "        for i, r in enumerate(rects):\n",
    "            plt.annotate('{:0.1f}%'.format(int(bin_percentage[i] * 100)),\n",
    "                         xy=(r.get_x() + r.get_width() / 2, r.get_height()),\n",
    "                         xytext=(0, 3),  # 3 points vertical offset\n",
    "                         textcoords=\"offset points\",\n",
    "                         ha='center', va='bottom')\n",
    "    classes = [class_ for class_ in classes] + ['no_label'] \n",
    "    print(classes)\n",
    "    train_bin_count = get_distribution(train_labels)\n",
    "    test_bin_count = get_distribution(test_labels)\n",
    "    if len(classes) <= 10:\n",
    "        plt.figure(figsize=(min(4 * len(classes), 16), 4))\n",
    "        plt.subplot(121)\n",
    "        plot_dist(train_bin_count, 'Train', color='teal')\n",
    "        plt.subplot(122)\n",
    "        plot_dist(test_bin_count, 'Test', color='coral')\n",
    "    else:\n",
    "        plt.figure(figsize=(20, 12))\n",
    "        plt.subplot(211)\n",
    "        plot_dist(train_bin_count, 'Train', color='teal')\n",
    "        plt.subplot(212)\n",
    "        plot_dist(test_bin_count, 'Test', color='coral')\n",
    "    plt.show()"
   ]
  },
  {
   "cell_type": "code",
   "execution_count": 16,
   "metadata": {
    "ExecuteTime": {
     "end_time": "2021-04-15T00:17:24.311411Z",
     "start_time": "2021-04-15T00:17:23.331275Z"
    }
   },
   "outputs": [
    {
     "name": "stdout",
     "output_type": "stream",
     "text": [
      "['toxic', 'severe_toxic', 'obscene', 'threat', 'insult', 'identity_hate', 'no_label']\n"
     ]
    },
    {
     "data": {
      "image/png": "[encoded data removed]",
      "text/plain": [
       "<Figure size 1152x288 with 2 Axes>"
      ]
     },
     "metadata": {
      "needs_background": "light"
     },
     "output_type": "display_data"
    }
   ],
   "source": [
    "plot_distribution(train_labels, test_labels, params.classes)"
   ]
  },
  {
   "cell_type": "markdown",
   "metadata": {},
   "source": [
    "\n",
    "\n",
    "### 文本长度分布\n",
    "\n",
    "分析训练集和测试集的文本长度分布是否相似。"
   ]
  },
  {
   "cell_type": "code",
   "execution_count": 17,
   "metadata": {
    "ExecuteTime": {
     "end_time": "2021-04-15T00:17:27.264076Z",
     "start_time": "2021-04-15T00:17:24.313731Z"
    }
   },
   "outputs": [
    {
     "data": {
      "image/png": "[encoded data removed]",
      "text/plain": [
       "<Figure size 864x288 with 2 Axes>"
      ]
     },
     "metadata": {
      "needs_background": "light"
     },
     "output_type": "display_data"
    },
    {
     "name": "stdout",
     "output_type": "stream",
     "text": [
      "train：mean=67.36 variance=9872.86\n",
      "test：mean=65.68 variance=9346.42\n"
     ]
    }
   ],
   "source": [
    "train_text_lengths = [len(s.split()) for s in train_texts]\n",
    "test_text_lengths = [len(s.split()) for s in test_texts]\n",
    "plot_length_distribution(train_text_lengths, test_text_lengths)\n",
    "\n",
    "print('train：mean={:0.2f} variance={:0.2f}'.format(np.mean(train_text_lengths), \n",
    "                                                    np.var(train_text_lengths)))\n",
    "print('test：mean={:0.2f} variance={:0.2f}'.format(np.mean(test_text_lengths), \n",
    "                                                   np.var(test_text_lengths)))"
   ]
  },
  {
   "cell_type": "markdown",
   "metadata": {},
   "source": [
    "\n",
    "\n",
    "通过图形，中位数，均值和方差的比较，可以认为训练集和测试集文本长度的分布是非常相似的。下面用卡方检验来比较训练集和测试集是否有显著差异。"
   ]
  },
  {
   "cell_type": "code",
   "execution_count": 18,
   "metadata": {
    "ExecuteTime": {
     "end_time": "2021-04-15T00:17:27.579807Z",
     "start_time": "2021-04-15T00:17:27.266543Z"
    }
   },
   "outputs": [
    {
     "name": "stdout",
     "output_type": "stream",
     "text": [
      "------------------------- Observed -------------------------\n"
     ]
    },
    {
     "data": {
      "text/html": [
       "<div>\n",
       "<style scoped>\n",
       "    .dataframe tbody tr th:only-of-type {\n",
       "        vertical-align: middle;\n",
       "    }\n",
       "\n",
       "    .dataframe tbody tr th {\n",
       "        vertical-align: top;\n",
       "    }\n",
       "\n",
       "    .dataframe thead th {\n",
       "        text-align: right;\n",
       "    }\n",
       "</style>\n",
       "<table border=\"1\" class=\"dataframe\">\n",
       "  <thead>\n",
       "    <tr style=\"text-align: right;\">\n",
       "      <th></th>\n",
       "      <th>0-99</th>\n",
       "      <th>100-199</th>\n",
       "      <th>200-299</th>\n",
       "      <th>300-399</th>\n",
       "      <th>400-499</th>\n",
       "      <th>500-599</th>\n",
       "      <th>600-699</th>\n",
       "      <th>700-799</th>\n",
       "      <th>800+</th>\n",
       "      <th>合计</th>\n",
       "    </tr>\n",
       "    <tr>\n",
       "      <th></th>\n",
       "      <th></th>\n",
       "      <th></th>\n",
       "      <th></th>\n",
       "      <th></th>\n",
       "      <th></th>\n",
       "      <th></th>\n",
       "      <th></th>\n",
       "      <th></th>\n",
       "      <th></th>\n",
       "      <th></th>\n",
       "    </tr>\n",
       "  </thead>\n",
       "  <tbody>\n",
       "    <tr>\n",
       "      <th>test</th>\n",
       "      <td>6609</td>\n",
       "      <td>872</td>\n",
       "      <td>283</td>\n",
       "      <td>76</td>\n",
       "      <td>42</td>\n",
       "      <td>33</td>\n",
       "      <td>29</td>\n",
       "      <td>19</td>\n",
       "      <td>16</td>\n",
       "      <td>7979</td>\n",
       "    </tr>\n",
       "    <tr>\n",
       "      <th>train</th>\n",
       "      <td>124400</td>\n",
       "      <td>17522</td>\n",
       "      <td>5032</td>\n",
       "      <td>1770</td>\n",
       "      <td>897</td>\n",
       "      <td>624</td>\n",
       "      <td>558</td>\n",
       "      <td>481</td>\n",
       "      <td>308</td>\n",
       "      <td>151592</td>\n",
       "    </tr>\n",
       "    <tr>\n",
       "      <th>合计</th>\n",
       "      <td>131009</td>\n",
       "      <td>18394</td>\n",
       "      <td>5315</td>\n",
       "      <td>1846</td>\n",
       "      <td>939</td>\n",
       "      <td>657</td>\n",
       "      <td>587</td>\n",
       "      <td>500</td>\n",
       "      <td>324</td>\n",
       "      <td>159571</td>\n",
       "    </tr>\n",
       "  </tbody>\n",
       "</table>\n",
       "</div>"
      ],
      "text/plain": [
       "         0-99  100-199  200-299  300-399  400-499  500-599  600-699  700-799  \\\n",
       "                                                                               \n",
       "test     6609      872      283       76       42       33       29       19   \n",
       "train  124400    17522     5032     1770      897      624      558      481   \n",
       "合计     131009    18394     5315     1846      939      657      587      500   \n",
       "\n",
       "       800+      合计  \n",
       "                     \n",
       "test     16    7979  \n",
       "train   308  151592  \n",
       "合计      324  159571  "
      ]
     },
     "metadata": {},
     "output_type": "display_data"
    },
    {
     "name": "stdout",
     "output_type": "stream",
     "text": [
      "------------------------- Expected -------------------------\n"
     ]
    },
    {
     "data": {
      "text/html": [
       "<div>\n",
       "<style scoped>\n",
       "    .dataframe tbody tr th:only-of-type {\n",
       "        vertical-align: middle;\n",
       "    }\n",
       "\n",
       "    .dataframe tbody tr th {\n",
       "        vertical-align: top;\n",
       "    }\n",
       "\n",
       "    .dataframe thead th {\n",
       "        text-align: right;\n",
       "    }\n",
       "</style>\n",
       "<table border=\"1\" class=\"dataframe\">\n",
       "  <thead>\n",
       "    <tr style=\"text-align: right;\">\n",
       "      <th></th>\n",
       "      <th>0-99</th>\n",
       "      <th>100-199</th>\n",
       "      <th>200-299</th>\n",
       "      <th>300-399</th>\n",
       "      <th>400-499</th>\n",
       "      <th>500-599</th>\n",
       "      <th>600-699</th>\n",
       "      <th>700-799</th>\n",
       "      <th>800+</th>\n",
       "      <th>合计</th>\n",
       "    </tr>\n",
       "    <tr>\n",
       "      <th></th>\n",
       "      <th></th>\n",
       "      <th></th>\n",
       "      <th></th>\n",
       "      <th></th>\n",
       "      <th></th>\n",
       "      <th></th>\n",
       "      <th></th>\n",
       "      <th></th>\n",
       "      <th></th>\n",
       "      <th></th>\n",
       "    </tr>\n",
       "  </thead>\n",
       "  <tbody>\n",
       "    <tr>\n",
       "      <th>test</th>\n",
       "      <td>6550.819453</td>\n",
       "      <td>919.751872</td>\n",
       "      <td>265.764989</td>\n",
       "      <td>92.305206</td>\n",
       "      <td>46.952648</td>\n",
       "      <td>32.851853</td>\n",
       "      <td>29.351655</td>\n",
       "      <td>25.00141</td>\n",
       "      <td>16.200914</td>\n",
       "      <td>7979.0</td>\n",
       "    </tr>\n",
       "    <tr>\n",
       "      <th>train</th>\n",
       "      <td>124458.180547</td>\n",
       "      <td>17474.248128</td>\n",
       "      <td>5049.235011</td>\n",
       "      <td>1753.694794</td>\n",
       "      <td>892.047352</td>\n",
       "      <td>624.148147</td>\n",
       "      <td>557.648345</td>\n",
       "      <td>474.99859</td>\n",
       "      <td>307.799086</td>\n",
       "      <td>151592.0</td>\n",
       "    </tr>\n",
       "    <tr>\n",
       "      <th>合计</th>\n",
       "      <td>131009.000000</td>\n",
       "      <td>18394.000000</td>\n",
       "      <td>5315.000000</td>\n",
       "      <td>1846.000000</td>\n",
       "      <td>939.000000</td>\n",
       "      <td>657.000000</td>\n",
       "      <td>587.000000</td>\n",
       "      <td>500.00000</td>\n",
       "      <td>324.000000</td>\n",
       "      <td>159571.0</td>\n",
       "    </tr>\n",
       "  </tbody>\n",
       "</table>\n",
       "</div>"
      ],
      "text/plain": [
       "                0-99       100-199      200-299      300-399     400-499  \\\n",
       "                                                                           \n",
       "test     6550.819453    919.751872   265.764989    92.305206   46.952648   \n",
       "train  124458.180547  17474.248128  5049.235011  1753.694794  892.047352   \n",
       "合计     131009.000000  18394.000000  5315.000000  1846.000000  939.000000   \n",
       "\n",
       "          500-599     600-699    700-799        800+        合计  \n",
       "                                                                \n",
       "test    32.851853   29.351655   25.00141   16.200914    7979.0  \n",
       "train  624.148147  557.648345  474.99859  307.799086  151592.0  \n",
       "合计     657.000000  587.000000  500.00000  324.000000  159571.0  "
      ]
     },
     "metadata": {},
     "output_type": "display_data"
    }
   ],
   "source": [
    "def process_length(lengths):\n",
    "    cut_points = [0,99,199,299,399,499,599,699,799,10000]\n",
    "    labels = [\"0-99\",\"100-199\",\"200-299\",\"300-399\",\"400-499\",\"500-599\", \"600-699\",\"700-799\",\"800+\"]\n",
    "    return pd.cut(lengths, cut_points, labels=labels)\n",
    "\n",
    "def get_observed(df, column1, column2):\n",
    "    df_observed = pd.crosstab(\n",
    "        df[column1],\n",
    "        df[column2]\n",
    "    )    \n",
    "    return df_observed\n",
    "    \n",
    "def get_expected(df_observed):\n",
    "    observed = df_observed.to_numpy()\n",
    "    reduce_row = observed.sum(axis=0, keepdims=True)/observed.sum()\n",
    "    reduce_col = observed.sum(axis=1, keepdims=True)\n",
    "\n",
    "    expected = reduce_col.dot(reduce_row)\n",
    "    df_expected = pd.DataFrame(expected, index=df_observed.index, columns=df_observed.columns)\n",
    "    return df_expected\n",
    "  \n",
    "def show_sum(df):\n",
    "    df.columns =  df.columns.tolist()  \n",
    "    df = df.reset_index()\n",
    "    s = df.melt(df.columns[0], var_name=' ')\n",
    "    ct = pd.crosstab(index=s[df.columns[0]], columns=s.iloc[:,1], values=s.value, \n",
    "                     aggfunc='sum', margins=True, margins_name='合计',\n",
    "                     rownames=[''], \n",
    "               ) \n",
    "    display(ct)\n",
    "    \n",
    "length = train_text_lengths + test_text_lengths\n",
    "dataset = ['train']*len(train_text_lengths) + ['test']*len(test_text_lengths)\n",
    "\n",
    "df_length = pd.DataFrame({\"dataset\":dataset, \"length\":length})\n",
    "df_length['len'] = process_length(length)\n",
    "df_observed = get_observed(df_length, 'dataset', 'len')\n",
    "# display(df_length)\n",
    "\n",
    "print('-'*25, 'Observed', '-'*25)\n",
    "show_sum(df_observed)\n",
    "\n",
    "print('-'*25, 'Expected', '-'*25)\n",
    "df_expected = get_expected(df_observed)\n",
    "show_sum(df_expected)"
   ]
  },
  {
   "cell_type": "markdown",
   "metadata": {},
   "source": [
    "\n",
    "\n",
    "然后进行卡方检验。可以看到p_value>0.05，所以接受原假设——数据集来源和文本长度是独立的，也就是说接受训练集和测试集是是相似的分布。"
   ]
  },
  {
   "cell_type": "code",
   "execution_count": 19,
   "metadata": {
    "ExecuteTime": {
     "end_time": "2021-04-15T00:17:27.646894Z",
     "start_time": "2021-04-15T00:17:27.582262Z"
    }
   },
   "outputs": [
    {
     "name": "stdout",
     "output_type": "stream",
     "text": [
      "chi_squared_stat = 9.436054249482249\n",
      "critical_value = 15.50731305586545\n",
      "p_value = 0.3068556587694957\n"
     ]
    }
   ],
   "source": [
    "observed = df_observed.to_numpy()\n",
    "expected = df_expected.to_numpy()\n",
    "\n",
    "chi_squared_stat = ((observed-expected)**2/expected).sum()\n",
    "print('chi_squared_stat =', chi_squared_stat)\n",
    "\n",
    "df = np.prod(np.array(observed.shape) - 1)\n",
    "critical_value  = stats.chi2.ppf(q=0.95, df=df)  #0.95:置信水平, df:自由度\n",
    "print('critical_value =', critical_value)        #临界值:拒绝域的边界, 当卡方值大于临界值，则原假设不成立，备择假设成立\n",
    "\n",
    "p_value = 1 - stats.chi2.cdf(x=chi_squared_stat, df=df)\n",
    "print('p_value =', p_value)"
   ]
  },
  {
   "cell_type": "markdown",
   "metadata": {},
   "source": [
    "\n",
    "\n",
    "### 词频分布\n",
    "\n",
    "分析训练集和测试集的词频分布是否相似。下面代码中，去除了一些stopwords。"
   ]
  },
  {
   "cell_type": "code",
   "execution_count": 20,
   "metadata": {
    "ExecuteTime": {
     "end_time": "2021-04-15T00:17:42.482474Z",
     "start_time": "2021-04-15T00:17:27.649372Z"
    }
   },
   "outputs": [
    {
     "data": {
      "image/png": "[encoded data removed]",
      "text/plain": [
       "<Figure size 1152x864 with 2 Axes>"
      ]
     },
     "metadata": {
      "needs_background": "light"
     },
     "output_type": "display_data"
    }
   ],
   "source": [
    "plot_frequency_distribution(train_texts, test_texts)"
   ]
  },
  {
   "cell_type": "markdown",
   "metadata": {},
   "source": [
    "![image-20201217134151280](images/image-20201217134151280.png)"
   ]
  },
  {
   "cell_type": "code",
   "execution_count": 21,
   "metadata": {
    "ExecuteTime": {
     "end_time": "2021-04-15T00:17:46.164613Z",
     "start_time": "2021-04-15T00:17:42.485983Z"
    }
   },
   "outputs": [
    {
     "name": "stdout",
     "output_type": "stream",
     "text": [
      "Number of Vocabulary: 532299\n",
      "Number of Vocabulary: 19973\n"
     ]
    }
   ],
   "source": [
    "word_counter = Counter()\n",
    "for s in train_texts:\n",
    "    word_counter.update(s.split())\n",
    "for s in test_texts:\n",
    "    word_counter.update(s.split())   \n",
    "\n",
    "print('Number of Vocabulary: {}'.format(len(word_counter)))\n",
    "\n",
    "for word in list(word_counter):\n",
    "    if word_counter[word]<25: word_counter.pop(word)\n",
    "        \n",
    "print('Number of Vocabulary: {}'.format(len(word_counter)))"
   ]
  },
  {
   "cell_type": "markdown",
   "metadata": {},
   "source": [
    "\n",
    "\n",
    "上面可以看到词频大于等于100次的词汇有7706个。\n",
    "\n",
    "## 准备数据\n",
    "\n",
    "不同的模型需要准备不同的数据，所以徐要确定一下要构建哪种模型。\n",
    "\n",
    "### 模型选择\n",
    "\n",
    "下图是google在两年前提出一个选择流程图。\n",
    "\n",
    "![image-20201217135347743](images/image-20201217135347743.png)\n",
    "\n",
    "1. Calculate the number of samples/number of words per sample ratio.\n",
    "2. If this ratio is less than 1500, tokenize the text as n-grams and use a simple multi-layer perceptron (MLP) model to classify them (left branch in the flowchart below):\n",
    "   a. Split the samples into word n-grams; convert the n-grams into vectors.\n",
    "     b. Score the importance of the vectors and then select the top 20K using the scores.\n",
    "   c. Build an MLP model.\n",
    "3. If the ratio is greater than 1500, tokenize the text as sequences and use a sepCNN model to classify them (right branch in the flowchart below):\n",
    "   a. Split the samples into words; select the top 20K words based on their frequency.\n",
    "   b. Convert the samples into word sequence vectors.\n",
    "   c. If the original number of samples/number of words per sample ratio is less   than 15K, using a fine-tuned pre-trained embedding with the sepCNN  model will likely provide the best results.\n",
    "4. Measure the model performance with different hyperparameter values to find\n",
    "   the best model configuration for the dataset."
   ]
  },
  {
   "cell_type": "code",
   "execution_count": 22,
   "metadata": {
    "ExecuteTime": {
     "end_time": "2021-04-15T00:17:46.225736Z",
     "start_time": "2021-04-15T00:17:46.166762Z"
    }
   },
   "outputs": [
    {
     "name": "stdout",
     "output_type": "stream",
     "text": [
      "[the number of samples]/[number of words per sample] = 4210.9\n"
     ]
    }
   ],
   "source": [
    "length_median = np.median(train_text_lengths)\n",
    "train_number = len(train_texts)\n",
    "print (\"[the number of samples]/[number of words per sample] = {:0.1f}\".format(train_number/length_median))"
   ]
  },
  {
   "cell_type": "markdown",
   "metadata": {},
   "source": [
    "![image-20201217144321430](images/image-20201217144321430.png)\n",
    "\n",
    "可以看到这个比例大大小于143.7，所以我们从N-gram模型开始，但是同时我们也会为Sequence模型准备数据。数据准备有如下两个过程。\n",
    "\n",
    "- Tokenization：把文本转化成Token\n",
    "- Vectorization： 把Token变成Vector\n",
    "\n",
    "接下来，我们将分别为N-gram模型和Sequence模型准备数据。\n",
    "\n",
    "### N-gram\n",
    "\n",
    "在N-gram模型中，Tokenization一般使用unigrams + bigrams的方式把文本转成Token，而Vectorization过程，一般先统计Token的BOW（Bag of Words，词袋模型），然后采用tf-idf在对词频进行平衡。"
   ]
  },
  {
   "cell_type": "code",
   "execution_count": 23,
   "metadata": {
    "ExecuteTime": {
     "end_time": "2021-04-15T00:17:46.282589Z",
     "start_time": "2021-04-15T00:17:46.231627Z"
    }
   },
   "outputs": [
    {
     "data": {
      "text/plain": [
       "30000"
      ]
     },
     "execution_count": 23,
     "metadata": {},
     "output_type": "execute_result"
    }
   ],
   "source": [
    "params.max_features"
   ]
  },
  {
   "cell_type": "code",
   "execution_count": 24,
   "metadata": {
    "ExecuteTime": {
     "end_time": "2021-04-15T00:18:20.680119Z",
     "start_time": "2021-04-15T00:17:46.285773Z"
    }
   },
   "outputs": [
    {
     "name": "stderr",
     "output_type": "stream",
     "text": [
      "/usr/local/lib/python3.6/dist-packages/sklearn/feature_extraction/text.py:1808: UserWarning: Only (<class 'numpy.float64'>, <class 'numpy.float32'>, <class 'numpy.float16'>) 'dtype' should be used. int32 'dtype' will be converted to np.float64.\n",
      "  UserWarning)\n"
     ]
    }
   ],
   "source": [
    "ngram_vectorizer = util.NgramVectorizer()\n",
    "if params.use_stop_words:\n",
    "    ngram_vectorizer.fit(train_texts, train_labels,\n",
    "                         top_k=params.max_features, ngram_range=(1, 2),\n",
    "                         stop_words=params.stop_words)\n",
    "else:\n",
    "    ngram_vectorizer.fit(train_texts, train_labels,\n",
    "                         top_k=params.max_features, ngram_range=(1, 2),\n",
    "                         stop_words=None)"
   ]
  },
  {
   "cell_type": "code",
   "execution_count": 25,
   "metadata": {
    "ExecuteTime": {
     "end_time": "2021-04-15T00:18:20.731381Z",
     "start_time": "2021-04-15T00:18:20.682524Z"
    }
   },
   "outputs": [
    {
     "name": "stdout",
     "output_type": "stream",
     "text": [
      "562985\n"
     ]
    }
   ],
   "source": [
    "print(len(ngram_vectorizer.vectorizer.vocabulary_))"
   ]
  },
  {
   "cell_type": "markdown",
   "metadata": {},
   "source": [
    "\n",
    "\n",
    "可以看到上面数据是以稀疏矩阵的形式存在的。下面创建ngram数据集。"
   ]
  },
  {
   "cell_type": "code",
   "execution_count": 26,
   "metadata": {
    "ExecuteTime": {
     "end_time": "2021-04-15T00:18:47.956306Z",
     "start_time": "2021-04-15T00:18:20.733474Z"
    }
   },
   "outputs": [
    {
     "name": "stdout",
     "output_type": "stream",
     "text": [
      "save object to ./models/tox_16k_c6/toxicity_16k_0330/SimpleTextDatasets.vectorizer\n",
      "create train, validation and test dataset\n",
      "(151592, 30000) <class 'scipy.sparse.csr.csr_matrix'> float32\n",
      "(7979, 30000) <class 'scipy.sparse.csr.csr_matrix'> float32\n",
      "\n"
     ]
    }
   ],
   "source": [
    "ngram_datasets = SimpleTextDatasets(params, train_texts, train_labels, test_texts, test_labels, ngram_vectorizer)\n",
    "                               \n",
    "train_ngram = ngram_datasets.train_data\n",
    "test_ngram = ngram_datasets.test_data\n",
    "    \n",
    "print(train_ngram.shape, type(train_ngram), train_ngram.dtype)\n",
    "print(test_ngram.shape, type(test_ngram), test_ngram.dtype)\n",
    "print(train_ngram[0, 0:100])                               "
   ]
  },
  {
   "cell_type": "code",
   "execution_count": 27,
   "metadata": {
    "ExecuteTime": {
     "end_time": "2021-04-15T00:18:48.007660Z",
     "start_time": "2021-04-15T00:18:47.958850Z"
    }
   },
   "outputs": [
    {
     "data": {
      "text/plain": [
       "(7979, 6)"
      ]
     },
     "execution_count": 27,
     "metadata": {},
     "output_type": "execute_result"
    }
   ],
   "source": [
    "test_labels.shape"
   ]
  },
  {
   "cell_type": "markdown",
   "metadata": {},
   "source": [
    "### Sequence\n",
    "\n",
    "![Embedding Layer](images/EmbeddingLayer.png)\n",
    "\n",
    "如上图所示，和N-gram模型不同，Sequence模型并不统计词频，它保持了文本的原始顺序，把其中的每个词汇单独变成一个One-hot向量，然后采用Word embedding的方式生成更加有意义的词向量，最后输出到RNN，CNN等模型中。下面将采用两种方式生成Sequence向量。\n",
    "\n",
    "- Tokenizer\n",
    "- TextVectorization\n",
    "\n",
    "#### Tokenizer"
   ]
  },
  {
   "cell_type": "code",
   "execution_count": 28,
   "metadata": {
    "ExecuteTime": {
     "end_time": "2021-04-15T00:18:48.058914Z",
     "start_time": "2021-04-15T00:18:48.009809Z"
    }
   },
   "outputs": [
    {
     "name": "stdout",
     "output_type": "stream",
     "text": [
      "100\n",
      "30000\n"
     ]
    }
   ],
   "source": [
    "print(params.sequence_length)\n",
    "print(params.max_features)"
   ]
  },
  {
   "cell_type": "code",
   "execution_count": 29,
   "metadata": {
    "ExecuteTime": {
     "end_time": "2021-04-15T00:19:15.313394Z",
     "start_time": "2021-04-15T00:18:48.061023Z"
    }
   },
   "outputs": [
    {
     "data": {
      "text/plain": [
       "<util.SequenceVectorizer at 0x7f559a453588>"
      ]
     },
     "execution_count": 29,
     "metadata": {},
     "output_type": "execute_result"
    }
   ],
   "source": [
    "sequence_vectorizer = util.SequenceVectorizer()\n",
    "sequence_vectorizer.fit(train_texts+test_texts, num_words=params.max_features, \n",
    "                        max_sequence_length =params.sequence_length)"
   ]
  },
  {
   "cell_type": "markdown",
   "metadata": {},
   "source": [
    "\n",
    "\n",
    "创建sequence数据集。"
   ]
  },
  {
   "cell_type": "code",
   "execution_count": 30,
   "metadata": {
    "ExecuteTime": {
     "end_time": "2021-04-15T00:19:15.363804Z",
     "start_time": "2021-04-15T00:19:15.315633Z"
    }
   },
   "outputs": [
    {
     "name": "stdout",
     "output_type": "stream",
     "text": [
      "219321\n"
     ]
    }
   ],
   "source": [
    "print(len(sequence_vectorizer.tokenizer.word_index))"
   ]
  },
  {
   "cell_type": "code",
   "execution_count": 31,
   "metadata": {
    "ExecuteTime": {
     "end_time": "2021-04-15T00:19:35.295755Z",
     "start_time": "2021-04-15T00:19:15.365875Z"
    }
   },
   "outputs": [
    {
     "name": "stdout",
     "output_type": "stream",
     "text": [
      "save object to ./models/tox_16k_c6/toxicity_16k_0330/SequenceTextDatasets.vectorizer\n",
      "create train, validation and test dataset\n",
      "(151592, 100) <class 'numpy.ndarray'> int32\n",
      "(7979, 100) <class 'numpy.ndarray'> int32\n",
      "[   5  137  195   11  981    6   34  228 2501 3071   20    5  891  636\n",
      "    5   30 1665   54  567   26   96  885    7  353 2540   11   73  491\n",
      "  135  254   21   63 1707    1   13   56  118   30    5  352 2091    1\n",
      "    5  100 5713   28   54  352  330   45   76  150 2135   26   34 2906\n",
      "    1   72    3  152    5  332   36  726  318    3   93    8   17   59\n",
      "  131    8   51  935  369    5  584   40   73   44   35  133  152   96\n",
      "  177   23 1487    5  743   26   21    3   81   93    8  184   43   23\n",
      "  587   44]\n"
     ]
    }
   ],
   "source": [
    "sequence_datasets = SequenceTextDatasets(params, train_texts, train_labels, test_texts, test_labels, sequence_vectorizer)\n",
    "\n",
    "train_seq = sequence_datasets.train_data\n",
    "test_seq = sequence_datasets.test_data\n",
    "\n",
    "print(train_seq.shape, type(train_seq), train_seq.dtype)\n",
    "print(test_seq.shape, type(test_seq), test_seq.dtype)\n",
    "print(test_seq[1])"
   ]
  },
  {
   "cell_type": "code",
   "execution_count": 32,
   "metadata": {
    "ExecuteTime": {
     "end_time": "2021-04-15T00:19:35.344022Z",
     "start_time": "2021-04-15T00:19:35.298145Z"
    }
   },
   "outputs": [
    {
     "data": {
      "text/plain": [
       "219321"
      ]
     },
     "execution_count": 32,
     "metadata": {},
     "output_type": "execute_result"
    }
   ],
   "source": [
    "len(sequence_vectorizer.tokenizer.word_index) "
   ]
  },
  {
   "cell_type": "markdown",
   "metadata": {},
   "source": [
    "#### Embedding"
   ]
  },
  {
   "cell_type": "code",
   "execution_count": 33,
   "metadata": {
    "ExecuteTime": {
     "end_time": "2021-04-15T00:19:35.398306Z",
     "start_time": "2021-04-15T00:19:35.346145Z"
    }
   },
   "outputs": [
    {
     "name": "stdout",
     "output_type": "stream",
     "text": [
      "[[1 3 3 3]\n",
      " [2 1 3 1]\n",
      " [1 3 1 2]]\n"
     ]
    },
    {
     "data": {
      "text/plain": [
       "array([[1, 3, 3, 3],\n",
       "       [2, 1, 3, 1],\n",
       "       [1, 3, 1, 2],\n",
       "       [3, 1, 1, 3],\n",
       "       [2, 1, 1, 3]])"
      ]
     },
     "execution_count": 33,
     "metadata": {},
     "output_type": "execute_result"
    }
   ],
   "source": [
    "a = np.random.randint(1,4, (3, 4))\n",
    "b = np.random.randint(1,4, (2, 4))\n",
    "print(a)\n",
    "np.vstack([a, b])"
   ]
  },
  {
   "cell_type": "code",
   "execution_count": 34,
   "metadata": {
    "ExecuteTime": {
     "end_time": "2021-04-15T00:19:35.448449Z",
     "start_time": "2021-04-15T00:19:35.400529Z"
    }
   },
   "outputs": [],
   "source": [
    "# def get_embedding_matrix(embeddings_index, vector_size, tokenizer, max_features):\n",
    "#     word_index = tokenizer.word_index\n",
    "#     embedding_matrix  = np.zeros((min(max_features, len(word_index)), vector_size))\n",
    "#     missing_words = {}\n",
    "#     match_count = 0 \n",
    "#     for word, i in word_index.items():\n",
    "#         if i >= max_features: continue\n",
    "#         vector = embeddings_index.get(word)\n",
    "#         if vector is not None:\n",
    "#             embedding_matrix[i] = vector    \n",
    "#             match_count = match_count + 1\n",
    "#         else:\n",
    "#             missing_words[word] = tokenizer.word_counts[word]\n",
    "#     print('embedding_matrix.shape: {}'.format(embedding_matrix.shape))    \n",
    "#     print('match cout: {}'.format(match_count))        \n",
    "#     print('missing word cout: {}'.format(len(missing_words))) \n",
    "#     return embedding_matrix\n",
    "\n",
    "# def load_embedding(embedding_file, max_length=200000, ignore_rows=1):\n",
    "#     embedding_index = {}\n",
    "#     with open(embedding_file) as f:\n",
    "#         i = 0\n",
    "#         vector_size = 0\n",
    "#         for line in f:\n",
    "#             i = i + 1\n",
    "#             values = line.split()\n",
    "#             if i<=ignore_rows:                \n",
    "#                 continue\n",
    "#             word = values[0]\n",
    "#             coefs = np.asarray(values[1:], dtype='float32')\n",
    "#             embedding_index[word] = coefs\n",
    "#             if i>max_length: break\n",
    "#     vector_size = len(coefs)\n",
    "#     print('Loaded %s word vectors. the vector size is %s' % (len(embedding_index), vector_size))   \n",
    "#     return embedding_index, vector_size    \n",
    "    \n",
    "# def load_embedding_matrix(embedding_files, tokenizer, max_features, max_length=200000, ignore_rows=1):\n",
    "#     if not isinstance(embedding_files, list):\n",
    "#         embedding_files = [embedding_files]        \n",
    "    \n",
    "#     embedding_matrixs = []\n",
    "#     for embedding_file in embedding_files:\n",
    "#         print('-'*100)\n",
    "#         embedding_index, vector_size = load_embedding(embedding_file, max_length)\n",
    "#         embedding_matrix = get_embedding_matrix(embedding_index, vector_size, \n",
    "#                                                               sequence_vectorizer.tokenizer, max_features)\n",
    "#         embedding_matrixs.append(embedding_matrix)\n",
    "#     embedding_matrix = np.hstack(embedding_matrixs)\n",
    "#     return embedding_matrix\n",
    "\n"
   ]
  },
  {
   "cell_type": "code",
   "execution_count": 35,
   "metadata": {
    "ExecuteTime": {
     "end_time": "2021-04-15T00:21:39.720015Z",
     "start_time": "2021-04-15T00:19:35.450550Z"
    }
   },
   "outputs": [
    {
     "name": "stdout",
     "output_type": "stream",
     "text": [
      "----------------------------------------------------------------------------------------------------\n",
      "Loaded 1000000 word vectors. the vector size is 300\n",
      "embedding_matrix.shape: (30000, 300)\n",
      "match cout: 27153\n",
      "missing word cout: 2846\n",
      "----------------------------------------------------------------------------------------------------\n",
      "----------------------------------------------------------------------------------------------------\n",
      "Loaded 1000001 word vectors. the vector size is 200\n",
      "embedding_matrix.shape: (30000, 200)\n",
      "match cout: 26337\n",
      "missing word cout: 3662\n"
     ]
    }
   ],
   "source": [
    "embedding_matrix_fasttext_crawl = util.load_embedding_matrix(params.embedding_paths.fasttext_crawl_300d_2M, \n",
    "                                                        sequence_vectorizer.tokenizer, \n",
    "                                                        max_features = params.max_features,\n",
    "                                                        max_length=1000000,\n",
    "                                                        ignore_rows=1\n",
    "                                                       )\n",
    "\n",
    "print('-'*100)\n",
    "embedding_matrix_glove_twitter = util.load_embedding_matrix(params.embedding_paths.glove_twitter_27B_200d,\n",
    "                                                       sequence_vectorizer.tokenizer, \n",
    "                                                       max_features = params.max_features,\n",
    "                                                       max_length=1000000,\n",
    "                                                       ignore_rows=0\n",
    "                                                      )\n"
   ]
  },
  {
   "cell_type": "code",
   "execution_count": 36,
   "metadata": {
    "ExecuteTime": {
     "end_time": "2021-04-15T00:23:38.696413Z",
     "start_time": "2021-04-15T00:21:39.722144Z"
    }
   },
   "outputs": [
    {
     "name": "stdout",
     "output_type": "stream",
     "text": [
      "----------------------------------------------------------------------------------------------------\n",
      "Loaded 1000000 word vectors. the vector size is 300\n",
      "embedding_matrix.shape: (30000, 300)\n",
      "match cout: 27153\n",
      "missing word cout: 2846\n",
      "----------------------------------------------------------------------------------------------------\n",
      "Loaded 1000001 word vectors. the vector size is 200\n",
      "embedding_matrix.shape: (30000, 200)\n",
      "match cout: 26337\n",
      "missing word cout: 3662\n"
     ]
    }
   ],
   "source": [
    "embedding_files = [params.embedding_paths.fasttext_crawl_300d_2M, params.embedding_paths.glove_twitter_27B_200d]\n",
    "embedding_matrix_fasttext_glove = util.load_embedding_matrix(embedding_files, \n",
    "                                                        sequence_vectorizer.tokenizer, \n",
    "                                                        max_features = params.max_features,\n",
    "                                                        max_length=1000000,\n",
    "                                                        ignore_rows=0\n",
    "                                                       )"
   ]
  },
  {
   "cell_type": "code",
   "execution_count": 37,
   "metadata": {
    "ExecuteTime": {
     "end_time": "2021-04-15T00:23:38.745748Z",
     "start_time": "2021-04-15T00:23:38.698566Z"
    }
   },
   "outputs": [
    {
     "data": {
      "text/plain": [
       "(30000, 500)"
      ]
     },
     "execution_count": 37,
     "metadata": {},
     "output_type": "execute_result"
    }
   ],
   "source": [
    "embedding_matrix_fasttext_glove.shape"
   ]
  },
  {
   "cell_type": "markdown",
   "metadata": {},
   "source": [
    "\n",
    "\n",
    "##  模型\n",
    "\n",
    "### MLP"
   ]
  },
  {
   "cell_type": "code",
   "execution_count": 38,
   "metadata": {
    "ExecuteTime": {
     "end_time": "2021-04-15T00:23:38.796380Z",
     "start_time": "2021-04-15T00:23:38.747813Z"
    }
   },
   "outputs": [],
   "source": [
    "class RocAucEvaluation(tf.keras.callbacks.Callback):\n",
    "    def __init__(self, validation_data=(), interval=1):\n",
    "        super().__init__()\n",
    "\n",
    "        self.interval = interval\n",
    "        self.X_val, self.y_val = validation_data\n",
    "\n",
    "    def on_epoch_end(self, epoch, logs={}):\n",
    "        if epoch % self.interval == 0:\n",
    "            y_pred = self.model.predict(self.X_val, verbose=0)\n",
    "            score = roc_auc_score(self.y_val, y_pred)\n",
    "            print(\"\\n ROC-AUC - epoch: {:d} - score: {:.4f}\".format(epoch+1, score))\n",
    "\n",
    "\n",
    "# 可以永上面的callback计算AUC，也可以用metrics.AUC(name='auc', multi_label=True)计算，总体差不多，有微小的差别。\n",
    "# metrics.AUC需要占用较多gpu内存，精度差一点。"
   ]
  },
  {
   "cell_type": "code",
   "execution_count": 39,
   "metadata": {
    "ExecuteTime": {
     "end_time": "2021-04-15T00:23:38.944333Z",
     "start_time": "2021-04-15T00:23:38.798511Z"
    }
   },
   "outputs": [
    {
     "name": "stdout",
     "output_type": "stream",
     "text": [
      "model_params.mlp.dropout=0.6\n",
      "model_params.mlp.layer_count=1\n",
      "model_params.mlp.units=256\n",
      "learning_rate=0.0005\n",
      "clip_value=1.0\n",
      "checkpoint_path=./models/tox_16k_c6/toxicity_16k_0330/mlp\n",
      "Model: \"mlp\"\n",
      "_________________________________________________________________\n",
      "Layer (type)                 Output Shape              Param #   \n",
      "=================================================================\n",
      "input_1 (InputLayer)         [(None, 30000)]           0         \n",
      "_________________________________________________________________\n",
      "lambda (Lambda)              (None, 30000)             0         \n",
      "_________________________________________________________________\n",
      "dropout (Dropout)            (None, 30000)             0         \n",
      "_________________________________________________________________\n",
      "dense (Dense)                (None, 256)               7680256   \n",
      "_________________________________________________________________\n",
      "dropout_1 (Dropout)          (None, 256)               0         \n",
      "_________________________________________________________________\n",
      "dense_1 (Dense)              (None, 6)                 1542      \n",
      "=================================================================\n",
      "Total params: 7,681,798\n",
      "Trainable params: 7,681,798\n",
      "Non-trainable params: 0\n",
      "_________________________________________________________________\n"
     ]
    }
   ],
   "source": [
    "def sparse_to_dense(value):\n",
    "    if isinstance(value, tf.sparse.SparseTensor):\n",
    "        return tf.sparse.to_dense(value)\n",
    "    return value\n",
    "\n",
    "def get_mlp(helper, dropout=None, name='mlp'):\n",
    "    \"\"\"Creates an instance of a multi-layer perceptron model\"\"\"\n",
    "    if dropout is None:\n",
    "        dropout = helper.get_model_param(name, 'dropout')\n",
    "    layer_count = helper.get_model_param(name, 'layer_count')\n",
    "    units = helper.get_model_param(name, 'units')    \n",
    "    \n",
    "    input = layers.Input(shape=helper.datasets.input_shape)    \n",
    "    x = tf.keras.layers.Lambda(sparse_to_dense)(input)\n",
    "    if dropout>0: x = layers.Dropout(dropout)(x)\n",
    "        \n",
    "    for _ in range(layer_count):\n",
    "        x = layers.Dense(units, activation='relu')(x)\n",
    "        if dropout>0: x = layers.Dropout(dropout)(x)\n",
    "    x = layers.Dense(len(helper.params.classes), activation='sigmoid')(x)  \n",
    "    \n",
    "    model = Model(inputs=input, outputs=x, name=name)     \n",
    "    helper.compile(model)   \n",
    "    return model\n",
    "\n",
    "helper = TextClassificationHelper(params, model_results=model_results, datasets=ngram_datasets)\n",
    "model = get_mlp(helper)\n",
    "model.summary()"
   ]
  },
  {
   "cell_type": "code",
   "execution_count": 40,
   "metadata": {
    "ExecuteTime": {
     "end_time": "2021-04-15T00:23:38.996826Z",
     "start_time": "2021-04-15T00:23:38.946356Z"
    }
   },
   "outputs": [
    {
     "data": {
      "text/plain": [
       "text_classification.SimpleTextDatasets"
      ]
     },
     "execution_count": 40,
     "metadata": {},
     "output_type": "execute_result"
    }
   ],
   "source": [
    "type(ngram_datasets) "
   ]
  },
  {
   "cell_type": "code",
   "execution_count": 41,
   "metadata": {
    "ExecuteTime": {
     "end_time": "2021-04-15T00:28:12.448458Z",
     "start_time": "2021-04-15T00:23:38.998862Z"
    },
    "scrolled": false
   },
   "outputs": [
    {
     "name": "stdout",
     "output_type": "stream",
     "text": [
      "use ModelCheckpoint(filepath=./models/tox_16k_c6/toxicity_16k_0330/mlp, monitor=val_binary_accuracy)\n",
      "use EarlyStopping(monitor=val_binary_accuracy, patience=40)\n",
      "use ReduceLROnPlateau(monitor=val_loss, factor=0.31622776601683794, patience=15)\n",
      "use LearningRateScheduler()\n",
      "model_params.mlp.epochs=5\n",
      "4738/4738 [==============================] - 18s 4ms/step - loss: 0.6929 - binary_accuracy: 0.5495 - auc: 0.4786\n",
      "250/250 [==============================] - 1s 4ms/step - loss: 0.6929 - binary_accuracy: 0.5475 - auc: 0.4857\n",
      "save object to /tf/eipi10/xuxiangwen.github.io/_notes/05-ai/54-tensorflow/models/tox_16k_c6/toxicity_16k_0330/mlp.predictor\n",
      "--------------------------------------------------------------------------------\n",
      "test loss:0.6929\n",
      "test binary_accuracy:0.5475\n"
     ]
    },
    {
     "name": "stderr",
     "output_type": "stream",
     "text": [
      "2021-04-15 08:24:08,541: INFO: start training\n"
     ]
    },
    {
     "name": "stdout",
     "output_type": "stream",
     "text": [
      "test auc:0.4789\n",
      "use_class_weight=None\n",
      "class_weight=None\n",
      "Epoch 00001: Still keep learning rate 0.0005 instead of 0.001\n",
      "Epoch 1/5\n",
      "4736/4738 [============================>.] - ETA: 0s - loss: 0.1114 - binary_accuracy: 0.9695 - auc: 0.8369WARNING:tensorflow:From /usr/local/lib/python3.6/dist-packages/tensorflow/python/training/tracking/tracking.py:111: Model.state_updates (from tensorflow.python.keras.engine.training) is deprecated and will be removed in a future version.\n",
      "Instructions for updating:\n",
      "This property should not be used in TensorFlow 2.0, as updates are applied automatically.\n"
     ]
    },
    {
     "name": "stderr",
     "output_type": "stream",
     "text": [
      "2021-04-15 08:24:49,803: WARNING: From /usr/local/lib/python3.6/dist-packages/tensorflow/python/training/tracking/tracking.py:111: Model.state_updates (from tensorflow.python.keras.engine.training) is deprecated and will be removed in a future version.\n",
      "Instructions for updating:\n",
      "This property should not be used in TensorFlow 2.0, as updates are applied automatically.\n"
     ]
    },
    {
     "name": "stdout",
     "output_type": "stream",
     "text": [
      "WARNING:tensorflow:From /usr/local/lib/python3.6/dist-packages/tensorflow/python/training/tracking/tracking.py:111: Layer.updates (from tensorflow.python.keras.engine.base_layer) is deprecated and will be removed in a future version.\n",
      "Instructions for updating:\n",
      "This property should not be used in TensorFlow 2.0, as updates are applied automatically.\n"
     ]
    },
    {
     "name": "stderr",
     "output_type": "stream",
     "text": [
      "2021-04-15 08:24:49,821: WARNING: From /usr/local/lib/python3.6/dist-packages/tensorflow/python/training/tracking/tracking.py:111: Layer.updates (from tensorflow.python.keras.engine.base_layer) is deprecated and will be removed in a future version.\n",
      "Instructions for updating:\n",
      "This property should not be used in TensorFlow 2.0, as updates are applied automatically.\n"
     ]
    },
    {
     "name": "stdout",
     "output_type": "stream",
     "text": [
      "INFO:tensorflow:Assets written to: ./models/tox_16k_c6/toxicity_16k_0330/mlp/assets\n"
     ]
    },
    {
     "name": "stderr",
     "output_type": "stream",
     "text": [
      "2021-04-15 08:24:50,526: INFO: Assets written to: ./models/tox_16k_c6/toxicity_16k_0330/mlp/assets\n"
     ]
    },
    {
     "name": "stdout",
     "output_type": "stream",
     "text": [
      "\n",
      " ROC-AUC - epoch: 1 - score: 0.9461\n",
      "4738/4738 [==============================] - 41s 9ms/step - loss: 0.1115 - binary_accuracy: 0.9695 - auc: 0.8368 - val_loss: 0.0747 - val_binary_accuracy: 0.9750 - val_auc: 0.9352\n",
      "Epoch 00002: Still keep learning rate 0.0005 instead of 0.001\n",
      "Epoch 2/5\n",
      "4735/4738 [============================>.] - ETA: 0s - loss: 0.0855 - binary_accuracy: 0.9736 - auc: 0.8910INFO:tensorflow:Assets written to: ./models/tox_16k_c6/toxicity_16k_0330/mlp/assets\n"
     ]
    },
    {
     "name": "stderr",
     "output_type": "stream",
     "text": [
      "2021-04-15 08:25:35,371: INFO: Assets written to: ./models/tox_16k_c6/toxicity_16k_0330/mlp/assets\n"
     ]
    },
    {
     "name": "stdout",
     "output_type": "stream",
     "text": [
      "\n",
      " ROC-AUC - epoch: 2 - score: 0.9536\n",
      "4738/4738 [==============================] - 45s 9ms/step - loss: 0.0855 - binary_accuracy: 0.9736 - auc: 0.8910 - val_loss: 0.0688 - val_binary_accuracy: 0.9765 - val_auc: 0.9460\n",
      "Epoch 00003: Still keep learning rate 0.0005 instead of 0.001\n",
      "Epoch 3/5\n",
      "4734/4738 [============================>.] - ETA: 0s - loss: 0.0812 - binary_accuracy: 0.9749 - auc: 0.8984INFO:tensorflow:Assets written to: ./models/tox_16k_c6/toxicity_16k_0330/mlp/assets\n"
     ]
    },
    {
     "name": "stderr",
     "output_type": "stream",
     "text": [
      "2021-04-15 08:26:25,987: INFO: Assets written to: ./models/tox_16k_c6/toxicity_16k_0330/mlp/assets\n"
     ]
    },
    {
     "name": "stdout",
     "output_type": "stream",
     "text": [
      "\n",
      " ROC-AUC - epoch: 3 - score: 0.9544\n",
      "4738/4738 [==============================] - 50s 11ms/step - loss: 0.0812 - binary_accuracy: 0.9749 - auc: 0.8985 - val_loss: 0.0672 - val_binary_accuracy: 0.9770 - val_auc: 0.9386\n",
      "Epoch 00004: Still keep learning rate 0.0005 instead of 0.001\n",
      "Epoch 4/5\n",
      "4737/4738 [============================>.] - ETA: 0s - loss: 0.0796 - binary_accuracy: 0.9754 - auc: 0.9015INFO:tensorflow:Assets written to: ./models/tox_16k_c6/toxicity_16k_0330/mlp/assets\n"
     ]
    },
    {
     "name": "stderr",
     "output_type": "stream",
     "text": [
      "2021-04-15 08:27:18,208: INFO: Assets written to: ./models/tox_16k_c6/toxicity_16k_0330/mlp/assets\n"
     ]
    },
    {
     "name": "stdout",
     "output_type": "stream",
     "text": [
      "\n",
      " ROC-AUC - epoch: 4 - score: 0.9576\n",
      "4738/4738 [==============================] - 52s 11ms/step - loss: 0.0796 - binary_accuracy: 0.9754 - auc: 0.9015 - val_loss: 0.0647 - val_binary_accuracy: 0.9780 - val_auc: 0.9453\n",
      "Epoch 00005: Still keep learning rate 0.0005 instead of 0.001\n",
      "Epoch 5/5\n",
      "4734/4738 [============================>.] - ETA: 0s - loss: 0.0779 - binary_accuracy: 0.9761 - auc: 0.9063INFO:tensorflow:Assets written to: ./models/tox_16k_c6/toxicity_16k_0330/mlp/assets\n"
     ]
    },
    {
     "name": "stderr",
     "output_type": "stream",
     "text": [
      "2021-04-15 08:28:10,762: INFO: Assets written to: ./models/tox_16k_c6/toxicity_16k_0330/mlp/assets\n"
     ]
    },
    {
     "name": "stdout",
     "output_type": "stream",
     "text": [
      "\n",
      " ROC-AUC - epoch: 5 - score: 0.9581\n",
      "\b\b\b\b\b\b\b\b\b\b\b\b\b\b\b\b\b\b\b\b\b\b\b\b\b\b\b\b\b\b\b\b\b\b\b\b\b\b\b\b\b\b\b\b\b\b\b\b\b\b\b\b\b\b\b\b\b\b\b\b\b\b\b\b\b\b\b\b\b\b\b\b\b\b\b\b\b\b\b\b\b\b\b\b\b\b\b\b\b\b\b\b\b\b\b\b\b\b\b\b\b\b\b\b\b\b\b\r",
      "4738/4738 [==============================] - 52s 11ms/step - loss: 0.0779 - binary_accuracy: 0.9761 - auc: 0.9063 - val_loss: 0.0644 - val_binary_accuracy: 0.9780 - val_auc: 0.9458\n"
     ]
    },
    {
     "name": "stderr",
     "output_type": "stream",
     "text": [
      "2021-04-15 08:28:12,059: INFO: finish training [elapsed time: 243.52 seconds]\n"
     ]
    },
    {
     "data": {
      "image/png": "[encoded data removed]",
      "text/plain": [
       "<Figure size 1152x360 with 2 Axes>"
      ]
     },
     "metadata": {
      "needs_background": "light"
     },
     "output_type": "display_data"
    }
   ],
   "source": [
    "callbacks = helper.get_callbacks(model, verbose=True)\n",
    "roc_aoc =  RocAucEvaluation(validation_data=(ngram_datasets.test_data, ngram_datasets.test_labels), interval=1)\n",
    "callbacks.append(roc_aoc)\n",
    "\n",
    "history = helper.train(model, callbacks=callbacks)"
   ]
  },
  {
   "cell_type": "code",
   "execution_count": 42,
   "metadata": {
    "ExecuteTime": {
     "end_time": "2021-04-15T00:28:50.038750Z",
     "start_time": "2021-04-15T00:28:12.450613Z"
    },
    "scrolled": false
   },
   "outputs": [
    {
     "name": "stdout",
     "output_type": "stream",
     "text": [
      "---------------------------------------- evaluate ----------------------------------------\n",
      "load best checkpoint from ./models/tox_16k_c6/toxicity_16k_0330/mlp\n",
      "learning_rate=0.0005\n",
      "clip_value=1.0\n",
      "checkpoint_path=./models/tox_16k_c6/toxicity_16k_0330/mlp\n",
      "4738/4738 [==============================] - 25s 5ms/step - loss: 0.0534 - binary_accuracy: 0.9815 - auc: 0.9616\n",
      "250/250 [==============================] - 1s 4ms/step - loss: 0.0644 - binary_accuracy: 0.9780 - auc: 0.9458\n",
      "save object to /tf/eipi10/xuxiangwen.github.io/_notes/05-ai/54-tensorflow/models/tox_16k_c6/toxicity_16k_0330/mlp.predictor\n",
      "--------------------------------------------------------------------------------\n",
      "test loss:0.0644\n",
      "test binary_accuracy:0.9780\n",
      "test auc:0.9581\n",
      "-------------------------------------------------- all models --------------------------------------------------\n"
     ]
    },
    {
     "data": {
      "text/html": [
       "<div>\n",
       "<style scoped>\n",
       "    .dataframe tbody tr th:only-of-type {\n",
       "        vertical-align: middle;\n",
       "    }\n",
       "\n",
       "    .dataframe tbody tr th {\n",
       "        vertical-align: top;\n",
       "    }\n",
       "\n",
       "    .dataframe thead th {\n",
       "        text-align: right;\n",
       "    }\n",
       "</style>\n",
       "<table border=\"1\" class=\"dataframe\">\n",
       "  <thead>\n",
       "    <tr style=\"text-align: right;\">\n",
       "      <th></th>\n",
       "      <th>weight_number</th>\n",
       "      <th>train_time</th>\n",
       "      <th>train_loss</th>\n",
       "      <th>test_loss</th>\n",
       "      <th>train_binary_accuracy</th>\n",
       "      <th>test_binary_accuracy</th>\n",
       "      <th>train_auc</th>\n",
       "      <th>test_auc</th>\n",
       "    </tr>\n",
       "  </thead>\n",
       "  <tbody>\n",
       "    <tr>\n",
       "      <th>mlp</th>\n",
       "      <td>7681798</td>\n",
       "      <td>243.0</td>\n",
       "      <td>0.0534</td>\n",
       "      <td>0.0644</td>\n",
       "      <td>0.9815</td>\n",
       "      <td>0.978</td>\n",
       "      <td>0.9717</td>\n",
       "      <td>0.9581</td>\n",
       "    </tr>\n",
       "  </tbody>\n",
       "</table>\n",
       "</div>"
      ],
      "text/plain": [
       "     weight_number  train_time  train_loss  test_loss  train_binary_accuracy  \\\n",
       "mlp        7681798       243.0      0.0534     0.0644                 0.9815   \n",
       "\n",
       "     test_binary_accuracy  train_auc  test_auc  \n",
       "mlp                 0.978     0.9717    0.9581  "
      ]
     },
     "metadata": {},
     "output_type": "display_data"
    },
    {
     "name": "stdout",
     "output_type": "stream",
     "text": [
      "save json to ./models/tox_16k_c6/toxicity_16k_0330/model_results.json\n"
     ]
    }
   ],
   "source": [
    "helper.model_summary(model, history=history)"
   ]
  },
  {
   "cell_type": "markdown",
   "metadata": {},
   "source": [
    "### Embedding"
   ]
  },
  {
   "cell_type": "code",
   "execution_count": 43,
   "metadata": {
    "ExecuteTime": {
     "end_time": "2021-04-15T00:28:50.160243Z",
     "start_time": "2021-04-15T00:28:50.040934Z"
    }
   },
   "outputs": [
    {
     "name": "stdout",
     "output_type": "stream",
     "text": [
      "model_params.embedding.dropout=0.4\n",
      "model_params.embedding.embedding_dim=200\n",
      "learning_rate=0.0005\n",
      "clip_value=1.0\n",
      "checkpoint_path=./models/tox_16k_c6/toxicity_16k_0330/embedding\n",
      "Model: \"embedding\"\n",
      "_________________________________________________________________\n",
      "Layer (type)                 Output Shape              Param #   \n",
      "=================================================================\n",
      "embedding (Embedding)        (None, 100, 200)          6000200   \n",
      "_________________________________________________________________\n",
      "global_average_pooling1d (Gl (None, 200)               0         \n",
      "_________________________________________________________________\n",
      "dropout_2 (Dropout)          (None, 200)               0         \n",
      "_________________________________________________________________\n",
      "dense_2 (Dense)              (None, 6)                 1206      \n",
      "=================================================================\n",
      "Total params: 6,001,406\n",
      "Trainable params: 6,001,406\n",
      "Non-trainable params: 0\n",
      "_________________________________________________________________\n"
     ]
    }
   ],
   "source": [
    "def get_embedding(helper,\n",
    "                  dropout=None,\n",
    "                  name='embedding',\n",
    "                  embedding_matrix=None,\n",
    "                  is_embedding_trainable=False,\n",
    "                  mask_zero=False\n",
    "                ):\n",
    "\n",
    "    if dropout is None:\n",
    "        dropout = helper.get_model_param(name, 'dropout')\n",
    "    \n",
    "    if embedding_matrix is None:\n",
    "        embedding_dim = helper.get_model_param(name, 'embedding_dim')   \n",
    "        num_features = helper.params.max_features+1  \n",
    "    else:\n",
    "        num_features, embedding_dim = embedding_matrix.shape\n",
    "            \n",
    "    input_shape = helper.datasets.input_shape\n",
    "    num_classes = len(helper.params.classes)\n",
    "    \n",
    "    model = models.Sequential(name=name)\n",
    "    if embedding_matrix is None:\n",
    "        model.add(layers.Embedding(input_dim=num_features, \n",
    "                                   output_dim=embedding_dim,                               \n",
    "                                   input_length=input_shape[0],\n",
    "                                   mask_zero=mask_zero\n",
    "                                  ))\n",
    "    else:\n",
    "        num_features, embedding_dim = embedding_matrix.shape\n",
    "        model.add(layers.Embedding(input_dim=num_features, \n",
    "                                   output_dim=embedding_dim,     \n",
    "                                   weights=[embedding_matrix],                                   \n",
    "                                   input_length=input_shape[0],\n",
    "                                   trainable=is_embedding_trainable,\n",
    "                                   mask_zero=mask_zero                             \n",
    "                                  ))     \n",
    "    model.add(layers.GlobalAveragePooling1D())\n",
    "    if dropout>0: model.add(layers.Dropout(rate=dropout))\n",
    "    model.add(layers.Dense(num_classes, activation='sigmoid'))\n",
    "    helper.compile(model)  \n",
    "    return model\n",
    "\n",
    "\n",
    "\n",
    "helper = TextClassificationHelper(params, model_results=model_results, datasets=sequence_datasets)\n",
    "model = get_embedding(helper)\n",
    "model.summary()"
   ]
  },
  {
   "cell_type": "code",
   "execution_count": 44,
   "metadata": {
    "ExecuteTime": {
     "end_time": "2021-04-15T00:40:59.507954Z",
     "start_time": "2021-04-15T00:28:50.163168Z"
    },
    "scrolled": false
   },
   "outputs": [
    {
     "name": "stdout",
     "output_type": "stream",
     "text": [
      "model_params.embedding.epochs=3\n",
      "use ModelCheckpoint(filepath=./models/tox_16k_c6/toxicity_16k_0330/embedding, monitor=val_binary_accuracy)\n",
      "use EarlyStopping(monitor=val_binary_accuracy, patience=40)\n",
      "use ReduceLROnPlateau(monitor=val_loss, factor=0.31622776601683794, patience=15)\n",
      "use LearningRateScheduler()\n",
      "4737/4737 [==============================] - 20s 4ms/step - loss: 0.6940 - binary_accuracy: 0.6053 - auc: 0.5168\n",
      "250/250 [==============================] - 1s 5ms/step - loss: 0.6940 - binary_accuracy: 0.5852 - auc: 0.5040\n",
      "save object to /tf/eipi10/xuxiangwen.github.io/_notes/05-ai/54-tensorflow/models/tox_16k_c6/toxicity_16k_0330/embedding.predictor\n",
      "--------------------------------------------------------------------------------\n",
      "test loss:0.6940\n",
      "test binary_accuracy:0.5852\n"
     ]
    },
    {
     "name": "stderr",
     "output_type": "stream",
     "text": [
      "2021-04-15 08:29:19,358: INFO: start training\n"
     ]
    },
    {
     "name": "stdout",
     "output_type": "stream",
     "text": [
      "test auc:0.4869\n",
      "use_class_weight=None\n",
      "class_weight=None\n",
      "Epoch 00001: Still keep learning rate 0.0005 instead of 0.001\n",
      "Epoch 1/3\n",
      "4737/4737 [==============================] - ETA: 0s - loss: 0.1294 - binary_accuracy: 0.9636 - auc: 0.8172INFO:tensorflow:Assets written to: ./models/tox_16k_c6/toxicity_16k_0330/embedding/assets\n"
     ]
    },
    {
     "name": "stderr",
     "output_type": "stream",
     "text": [
      "2021-04-15 08:33:00,495: INFO: Assets written to: ./models/tox_16k_c6/toxicity_16k_0330/embedding/assets\n"
     ]
    },
    {
     "name": "stdout",
     "output_type": "stream",
     "text": [
      "4737/4737 [==============================] - 220s 46ms/step - loss: 0.1294 - binary_accuracy: 0.9636 - auc: 0.8172 - val_loss: 0.1037 - val_binary_accuracy: 0.9652 - val_auc: 0.9202\n",
      "Epoch 00002: Still keep learning rate 0.0005 instead of 0.001\n",
      "Epoch 2/3\n",
      "4736/4737 [============================>.] - ETA: 0s - loss: 0.0870 - binary_accuracy: 0.9701 - auc: 0.9243INFO:tensorflow:Assets written to: ./models/tox_16k_c6/toxicity_16k_0330/embedding/assets\n"
     ]
    },
    {
     "name": "stderr",
     "output_type": "stream",
     "text": [
      "2021-04-15 08:36:51,063: INFO: Assets written to: ./models/tox_16k_c6/toxicity_16k_0330/embedding/assets\n"
     ]
    },
    {
     "name": "stdout",
     "output_type": "stream",
     "text": [
      "4737/4737 [==============================] - 230s 49ms/step - loss: 0.0870 - binary_accuracy: 0.9701 - auc: 0.9243 - val_loss: 0.0919 - val_binary_accuracy: 0.9706 - val_auc: 0.9271\n",
      "Epoch 00003: Still keep learning rate 0.0005 instead of 0.001\n",
      "Epoch 3/3\n",
      "4736/4737 [============================>.] - ETA: 0s - loss: 0.0758 - binary_accuracy: 0.9747 - auc: 0.9285INFO:tensorflow:Assets written to: ./models/tox_16k_c6/toxicity_16k_0330/embedding/assets\n"
     ]
    },
    {
     "name": "stderr",
     "output_type": "stream",
     "text": [
      "2021-04-15 08:40:58,538: INFO: Assets written to: ./models/tox_16k_c6/toxicity_16k_0330/embedding/assets\n"
     ]
    },
    {
     "name": "stdout",
     "output_type": "stream",
     "text": [
      "\b\b\b\b\b\b\b\b\b\b\b\b\b\b\b\b\b\b\b\b\b\b\b\b\b\b\b\b\b\b\b\b\b\b\b\b\b\b\b\b\b\b\b\b\b\b\b\b\b\b\b\b\b\b\b\b\b\b\b\b\b\b\b\b\b\b\b\b\b\b\b\b\b\b\b\b\b\b\b\b\b\b\b\b\b\b\b\b\b\b\b\b\b\b\b\b\b\b\b\b\b\b\b\b\b\b\b\r",
      "4737/4737 [==============================] - 247s 52ms/step - loss: 0.0759 - binary_accuracy: 0.9747 - auc: 0.9285 - val_loss: 0.0869 - val_binary_accuracy: 0.9736 - val_auc: 0.9325\n"
     ]
    },
    {
     "name": "stderr",
     "output_type": "stream",
     "text": [
      "2021-04-15 08:40:59,079: INFO: finish training [elapsed time: 699.72 seconds]\n"
     ]
    },
    {
     "data": {
      "image/png": "[encoded data removed]",
      "text/plain": [
       "<Figure size 1152x360 with 2 Axes>"
      ]
     },
     "metadata": {
      "needs_background": "light"
     },
     "output_type": "display_data"
    }
   ],
   "source": [
    "history = helper.train(model)"
   ]
  },
  {
   "cell_type": "code",
   "execution_count": 45,
   "metadata": {
    "ExecuteTime": {
     "end_time": "2021-04-15T00:41:54.754419Z",
     "start_time": "2021-04-15T00:40:59.510890Z"
    },
    "scrolled": false
   },
   "outputs": [
    {
     "name": "stdout",
     "output_type": "stream",
     "text": [
      "---------------------------------------- evaluate ----------------------------------------\n",
      "load best checkpoint from ./models/tox_16k_c6/toxicity_16k_0330/embedding\n",
      "learning_rate=0.0005\n",
      "clip_value=1.0\n",
      "checkpoint_path=./models/tox_16k_c6/toxicity_16k_0330/embedding\n",
      "4737/4737 [==============================] - 31s 6ms/step - loss: 0.0704 - binary_accuracy: 0.9764 - auc: 0.9462\n",
      "250/250 [==============================] - 3s 11ms/step - loss: 0.0869 - binary_accuracy: 0.9736 - auc: 0.9325\n",
      "save object to /tf/eipi10/xuxiangwen.github.io/_notes/05-ai/54-tensorflow/models/tox_16k_c6/toxicity_16k_0330/embedding.predictor\n",
      "--------------------------------------------------------------------------------\n",
      "test loss:0.0869\n",
      "test binary_accuracy:0.9736\n",
      "test auc:0.9430\n",
      "-------------------------------------------------- all models --------------------------------------------------\n"
     ]
    },
    {
     "data": {
      "text/html": [
       "<div>\n",
       "<style scoped>\n",
       "    .dataframe tbody tr th:only-of-type {\n",
       "        vertical-align: middle;\n",
       "    }\n",
       "\n",
       "    .dataframe tbody tr th {\n",
       "        vertical-align: top;\n",
       "    }\n",
       "\n",
       "    .dataframe thead th {\n",
       "        text-align: right;\n",
       "    }\n",
       "</style>\n",
       "<table border=\"1\" class=\"dataframe\">\n",
       "  <thead>\n",
       "    <tr style=\"text-align: right;\">\n",
       "      <th></th>\n",
       "      <th>weight_number</th>\n",
       "      <th>train_time</th>\n",
       "      <th>train_loss</th>\n",
       "      <th>test_loss</th>\n",
       "      <th>train_binary_accuracy</th>\n",
       "      <th>test_binary_accuracy</th>\n",
       "      <th>train_auc</th>\n",
       "      <th>test_auc</th>\n",
       "    </tr>\n",
       "  </thead>\n",
       "  <tbody>\n",
       "    <tr>\n",
       "      <th>mlp</th>\n",
       "      <td>7681798</td>\n",
       "      <td>243.0</td>\n",
       "      <td>0.0534</td>\n",
       "      <td>0.0644</td>\n",
       "      <td>0.9815</td>\n",
       "      <td>0.9780</td>\n",
       "      <td>0.9717</td>\n",
       "      <td>0.9581</td>\n",
       "    </tr>\n",
       "    <tr>\n",
       "      <th>embedding</th>\n",
       "      <td>6001406</td>\n",
       "      <td>699.0</td>\n",
       "      <td>0.0704</td>\n",
       "      <td>0.0869</td>\n",
       "      <td>0.9764</td>\n",
       "      <td>0.9736</td>\n",
       "      <td>0.9556</td>\n",
       "      <td>0.9430</td>\n",
       "    </tr>\n",
       "  </tbody>\n",
       "</table>\n",
       "</div>"
      ],
      "text/plain": [
       "           weight_number  train_time  train_loss  test_loss  \\\n",
       "mlp              7681798       243.0      0.0534     0.0644   \n",
       "embedding        6001406       699.0      0.0704     0.0869   \n",
       "\n",
       "           train_binary_accuracy  test_binary_accuracy  train_auc  test_auc  \n",
       "mlp                       0.9815                0.9780     0.9717    0.9581  \n",
       "embedding                 0.9764                0.9736     0.9556    0.9430  "
      ]
     },
     "metadata": {},
     "output_type": "display_data"
    },
    {
     "name": "stdout",
     "output_type": "stream",
     "text": [
      "save json to ./models/tox_16k_c6/toxicity_16k_0330/model_results.json\n"
     ]
    }
   ],
   "source": [
    "helper.model_summary(model, history=history)"
   ]
  },
  {
   "cell_type": "code",
   "execution_count": 46,
   "metadata": {
    "ExecuteTime": {
     "end_time": "2021-04-15T00:45:25.907514Z",
     "start_time": "2021-04-15T00:41:54.756828Z"
    }
   },
   "outputs": [
    {
     "name": "stdout",
     "output_type": "stream",
     "text": [
      "model_params.embedding_pretrain.dropout=0.4\n",
      "learning_rate=0.0005\n",
      "clip_value=1.0\n",
      "checkpoint_path=./models/tox_16k_c6/toxicity_16k_0330/embedding_pretrain\n",
      "Model: \"embedding_pretrain\"\n",
      "_________________________________________________________________\n",
      "Layer (type)                 Output Shape              Param #   \n",
      "=================================================================\n",
      "embedding_1 (Embedding)      (None, 100, 300)          9000000   \n",
      "_________________________________________________________________\n",
      "global_average_pooling1d_1 ( (None, 300)               0         \n",
      "_________________________________________________________________\n",
      "dropout_3 (Dropout)          (None, 300)               0         \n",
      "_________________________________________________________________\n",
      "dense_3 (Dense)              (None, 6)                 1806      \n",
      "=================================================================\n",
      "Total params: 9,001,806\n",
      "Trainable params: 1,806\n",
      "Non-trainable params: 9,000,000\n",
      "_________________________________________________________________\n",
      "model_params.embedding_pretrain.epochs=3\n",
      "use ModelCheckpoint(filepath=./models/tox_16k_c6/toxicity_16k_0330/embedding_pretrain, monitor=val_binary_accuracy)\n",
      "use EarlyStopping(monitor=val_binary_accuracy, patience=40)\n",
      "use ReduceLROnPlateau(monitor=val_loss, factor=0.31622776601683794, patience=15)\n",
      "use LearningRateScheduler()\n",
      "4737/4737 [==============================] - 19s 4ms/step - loss: 0.6903 - binary_accuracy: 0.5959 - auc: 0.5530\n",
      "250/250 [==============================] - 1s 5ms/step - loss: 0.6905 - binary_accuracy: 0.5703 - auc: 0.5489\n",
      "save object to /tf/eipi10/xuxiangwen.github.io/_notes/05-ai/54-tensorflow/models/tox_16k_c6/toxicity_16k_0330/embedding_pretrain.predictor\n",
      "--------------------------------------------------------------------------------\n",
      "test loss:0.6905\n",
      "test binary_accuracy:0.5703\n"
     ]
    },
    {
     "name": "stderr",
     "output_type": "stream",
     "text": [
      "2021-04-15 08:42:41,023: INFO: start training\n"
     ]
    },
    {
     "name": "stdout",
     "output_type": "stream",
     "text": [
      "test auc:0.5480\n",
      "use_class_weight=None\n",
      "class_weight=None\n",
      "Epoch 00001: Still keep learning rate 0.0005 instead of 0.001\n",
      "Epoch 1/3\n",
      "4734/4737 [============================>.] - ETA: 0s - loss: 0.2270 - binary_accuracy: 0.9621 - auc: 0.6085INFO:tensorflow:Assets written to: ./models/tox_16k_c6/toxicity_16k_0330/embedding_pretrain/assets\n"
     ]
    },
    {
     "name": "stderr",
     "output_type": "stream",
     "text": [
      "2021-04-15 08:43:06,876: INFO: Assets written to: ./models/tox_16k_c6/toxicity_16k_0330/embedding_pretrain/assets\n"
     ]
    },
    {
     "name": "stdout",
     "output_type": "stream",
     "text": [
      "4737/4737 [==============================] - 25s 5ms/step - loss: 0.2269 - binary_accuracy: 0.9621 - auc: 0.6086 - val_loss: 0.1485 - val_binary_accuracy: 0.9613 - val_auc: 0.6898\n",
      "Epoch 00002: Still keep learning rate 0.0005 instead of 0.001\n",
      "Epoch 2/3\n",
      "4734/4737 [============================>.] - ETA: 0s - loss: 0.1239 - binary_accuracy: 0.9644 - auc: 0.7408INFO:tensorflow:Assets written to: ./models/tox_16k_c6/toxicity_16k_0330/embedding_pretrain/assets\n"
     ]
    },
    {
     "name": "stderr",
     "output_type": "stream",
     "text": [
      "2021-04-15 08:43:45,374: INFO: Assets written to: ./models/tox_16k_c6/toxicity_16k_0330/embedding_pretrain/assets\n"
     ]
    },
    {
     "name": "stdout",
     "output_type": "stream",
     "text": [
      "4737/4737 [==============================] - 38s 8ms/step - loss: 0.1239 - binary_accuracy: 0.9644 - auc: 0.7408 - val_loss: 0.1207 - val_binary_accuracy: 0.9625 - val_auc: 0.7727\n",
      "Epoch 00003: Still keep learning rate 0.0005 instead of 0.001\n",
      "Epoch 3/3\n",
      "4737/4737 [==============================] - ETA: 0s - loss: 0.1075 - binary_accuracy: 0.9657 - auc: 0.8027INFO:tensorflow:Assets written to: ./models/tox_16k_c6/toxicity_16k_0330/embedding_pretrain/assets\n"
     ]
    },
    {
     "name": "stderr",
     "output_type": "stream",
     "text": [
      "2021-04-15 08:44:40,817: INFO: Assets written to: ./models/tox_16k_c6/toxicity_16k_0330/embedding_pretrain/assets\n"
     ]
    },
    {
     "name": "stdout",
     "output_type": "stream",
     "text": [
      "\b\b\b\b\b\b\b\b\b\b\b\b\b\b\b\b\b\b\b\b\b\b\b\b\b\b\b\b\b\b\b\b\b\b\b\b\b\b\b\b\b\b\b\b\b\b\b\b\b\b\b\b\b\b\b\b\b\b\b\b\b\b\b\b\b\b\b\b\b\b\b\b\b\b\b\b\b\b\b\b\b\b\b\b\b\b\b\b\b\b\b\b\b\b\b\b\b\b\b\b\b\b\b\b\b\b\b\r",
      "4737/4737 [==============================] - 55s 12ms/step - loss: 0.1075 - binary_accuracy: 0.9657 - auc: 0.8027 - val_loss: 0.1107 - val_binary_accuracy: 0.9638 - val_auc: 0.8197\n"
     ]
    },
    {
     "name": "stderr",
     "output_type": "stream",
     "text": [
      "2021-04-15 08:44:41,340: INFO: finish training [elapsed time: 120.32 seconds]\n"
     ]
    },
    {
     "data": {
      "image/png": "[encoded data removed]",
      "text/plain": [
       "<Figure size 1152x360 with 2 Axes>"
      ]
     },
     "metadata": {
      "needs_background": "light"
     },
     "output_type": "display_data"
    },
    {
     "name": "stdout",
     "output_type": "stream",
     "text": [
      "---------------------------------------- evaluate ----------------------------------------\n",
      "load best checkpoint from ./models/tox_16k_c6/toxicity_16k_0330/embedding_pretrain\n",
      "learning_rate=0.0005\n",
      "clip_value=1.0\n",
      "checkpoint_path=./models/tox_16k_c6/toxicity_16k_0330/embedding_pretrain\n",
      "4737/4737 [==============================] - 20s 4ms/step - loss: 0.1021 - binary_accuracy: 0.9662 - auc: 0.8281\n",
      "250/250 [==============================] - 2s 10ms/step - loss: 0.1107 - binary_accuracy: 0.9638 - auc: 0.8197\n",
      "save object to /tf/eipi10/xuxiangwen.github.io/_notes/05-ai/54-tensorflow/models/tox_16k_c6/toxicity_16k_0330/embedding_pretrain.predictor\n",
      "--------------------------------------------------------------------------------\n",
      "test loss:0.1107\n",
      "test binary_accuracy:0.9638\n",
      "test auc:0.8274\n",
      "-------------------------------------------------- all models --------------------------------------------------\n"
     ]
    },
    {
     "data": {
      "text/html": [
       "<div>\n",
       "<style scoped>\n",
       "    .dataframe tbody tr th:only-of-type {\n",
       "        vertical-align: middle;\n",
       "    }\n",
       "\n",
       "    .dataframe tbody tr th {\n",
       "        vertical-align: top;\n",
       "    }\n",
       "\n",
       "    .dataframe thead th {\n",
       "        text-align: right;\n",
       "    }\n",
       "</style>\n",
       "<table border=\"1\" class=\"dataframe\">\n",
       "  <thead>\n",
       "    <tr style=\"text-align: right;\">\n",
       "      <th></th>\n",
       "      <th>weight_number</th>\n",
       "      <th>train_time</th>\n",
       "      <th>train_loss</th>\n",
       "      <th>test_loss</th>\n",
       "      <th>train_binary_accuracy</th>\n",
       "      <th>test_binary_accuracy</th>\n",
       "      <th>train_auc</th>\n",
       "      <th>test_auc</th>\n",
       "    </tr>\n",
       "  </thead>\n",
       "  <tbody>\n",
       "    <tr>\n",
       "      <th>mlp</th>\n",
       "      <td>7681798</td>\n",
       "      <td>243.0</td>\n",
       "      <td>0.0534</td>\n",
       "      <td>0.0644</td>\n",
       "      <td>0.9815</td>\n",
       "      <td>0.9780</td>\n",
       "      <td>0.9717</td>\n",
       "      <td>0.9581</td>\n",
       "    </tr>\n",
       "    <tr>\n",
       "      <th>embedding</th>\n",
       "      <td>6001406</td>\n",
       "      <td>699.0</td>\n",
       "      <td>0.0704</td>\n",
       "      <td>0.0869</td>\n",
       "      <td>0.9764</td>\n",
       "      <td>0.9736</td>\n",
       "      <td>0.9556</td>\n",
       "      <td>0.9430</td>\n",
       "    </tr>\n",
       "    <tr>\n",
       "      <th>embedding_pretrain</th>\n",
       "      <td>9001806</td>\n",
       "      <td>120.0</td>\n",
       "      <td>0.1021</td>\n",
       "      <td>0.1107</td>\n",
       "      <td>0.9662</td>\n",
       "      <td>0.9638</td>\n",
       "      <td>0.8400</td>\n",
       "      <td>0.8274</td>\n",
       "    </tr>\n",
       "  </tbody>\n",
       "</table>\n",
       "</div>"
      ],
      "text/plain": [
       "                    weight_number  train_time  train_loss  test_loss  \\\n",
       "mlp                       7681798       243.0      0.0534     0.0644   \n",
       "embedding                 6001406       699.0      0.0704     0.0869   \n",
       "embedding_pretrain        9001806       120.0      0.1021     0.1107   \n",
       "\n",
       "                    train_binary_accuracy  test_binary_accuracy  train_auc  \\\n",
       "mlp                                0.9815                0.9780     0.9717   \n",
       "embedding                          0.9764                0.9736     0.9556   \n",
       "embedding_pretrain                 0.9662                0.9638     0.8400   \n",
       "\n",
       "                    test_auc  \n",
       "mlp                   0.9581  \n",
       "embedding             0.9430  \n",
       "embedding_pretrain    0.8274  "
      ]
     },
     "metadata": {},
     "output_type": "display_data"
    },
    {
     "name": "stdout",
     "output_type": "stream",
     "text": [
      "save json to ./models/tox_16k_c6/toxicity_16k_0330/model_results.json\n"
     ]
    }
   ],
   "source": [
    "model = get_embedding(helper, name='embedding_pretrain', \n",
    "                       embedding_matrix=embedding_matrix_fasttext_crawl, is_embedding_trainable=False)\n",
    "model.summary()\n",
    "history = helper.train(model)\n",
    "helper.model_summary(model, history=history)"
   ]
  },
  {
   "cell_type": "markdown",
   "metadata": {},
   "source": [
    "### sepCNN"
   ]
  },
  {
   "cell_type": "code",
   "execution_count": 47,
   "metadata": {
    "ExecuteTime": {
     "end_time": "2021-04-15T00:45:26.093720Z",
     "start_time": "2021-04-15T00:45:25.909745Z"
    }
   },
   "outputs": [
    {
     "name": "stdout",
     "output_type": "stream",
     "text": [
      "model_params.sepcnn.dropout=0.4\n",
      "learning_rate=0.0005\n",
      "clip_value=1.0\n",
      "checkpoint_path=./models/tox_16k_c6/toxicity_16k_0330/sepcnn\n",
      "Model: \"sepcnn\"\n",
      "_________________________________________________________________\n",
      "Layer (type)                 Output Shape              Param #   \n",
      "=================================================================\n",
      "embedding_2 (Embedding)      (None, 100, 200)          6000200   \n",
      "_________________________________________________________________\n",
      "dropout_4 (Dropout)          (None, 100, 200)          0         \n",
      "_________________________________________________________________\n",
      "separable_conv1d (SeparableC (None, 100, 128)          26328     \n",
      "_________________________________________________________________\n",
      "separable_conv1d_1 (Separabl (None, 100, 128)          16896     \n",
      "_________________________________________________________________\n",
      "max_pooling1d (MaxPooling1D) (None, 33, 128)           0         \n",
      "_________________________________________________________________\n",
      "global_average_pooling1d_2 ( (None, 128)               0         \n",
      "_________________________________________________________________\n",
      "dropout_5 (Dropout)          (None, 128)               0         \n",
      "_________________________________________________________________\n",
      "dense_4 (Dense)              (None, 6)                 774       \n",
      "=================================================================\n",
      "Total params: 6,044,198\n",
      "Trainable params: 6,044,198\n",
      "Non-trainable params: 0\n",
      "_________________________________________________________________\n"
     ]
    }
   ],
   "source": [
    "def get_sepcnn(helper,\n",
    "                 blocks=1,\n",
    "                 filters=64,\n",
    "                 kernel_size=3,\n",
    "                 embedding_dim=200,\n",
    "                 dropout=None,\n",
    "                 pool_size=3,\n",
    "                 use_pretrained_embedding=False,\n",
    "                 is_embedding_trainable=False,\n",
    "                 embedding_matrix=None, \n",
    "                 name='sepcnn'\n",
    "                ):\n",
    "    \"\"\"Creates an instance of a separable CNN model.\n",
    "\n",
    "    # Arguments\n",
    "        blocks: int, number of pairs of sepCNN and pooling blocks in the model.\n",
    "        filters: int, output dimension of the layers.\n",
    "        kernel_size: int, length of the convolution window.\n",
    "        embedding_dim: int, dimension of the embedding vectors.\n",
    "        dropout: float, percentage of input to drop at Dropout layers.\n",
    "        pool_size: int, factor by which to downscale input at MaxPooling layer.\n",
    "        input_shape: tuple, shape of input to the model.\n",
    "        num_classes: int, number of output classes.\n",
    "        num_features: int, number of words (embedding input dimension).\n",
    "        use_pretrained_embedding: bool, true if pre-trained embedding is on.\n",
    "        is_embedding_trainable: bool, true if embedding layer is trainable.\n",
    "        embedding_matrix: dict, dictionary with embedding coefficients.\n",
    "\n",
    "    # Returns\n",
    "        A sepCNN model instance.\n",
    "    \"\"\"\n",
    "    if dropout is None:\n",
    "        dropout = helper.get_model_param(name, 'dropout')\n",
    "        \n",
    "    input_shape = helper.datasets.input_shape\n",
    "    num_classes = len(helper.params.classes)\n",
    "    num_features = helper.params.max_features+1  \n",
    "    \n",
    "    model = models.Sequential(name=name)\n",
    "\n",
    "    # Add embedding layer. If pre-trained embedding is used add weights to the\n",
    "    # embeddings layer and set trainable to input is_embedding_trainable flag.\n",
    "    if use_pretrained_embedding:\n",
    "        model.add(layers.Embedding(input_dim=num_features,\n",
    "                                   output_dim=embedding_dim,\n",
    "                                   input_length=input_shape[0],\n",
    "                                   weights=[embedding_matrix],\n",
    "                                   trainable=is_embedding_trainable))\n",
    "    else:\n",
    "        model.add(layers.Embedding(input_dim=num_features,\n",
    "                                   output_dim=embedding_dim,\n",
    "                                   input_length=input_shape[0]))\n",
    "\n",
    "    for i in range(blocks):\n",
    "        model.add(layers.Dropout(rate=dropout))\n",
    "        if i==blocks-1: filters=filters*2\n",
    "        model.add(layers.SeparableConv1D(filters=filters,\n",
    "                                         kernel_size=kernel_size,\n",
    "                                         activation='relu',\n",
    "                                         bias_initializer='random_uniform',\n",
    "                                         depthwise_initializer='random_uniform',\n",
    "                                         padding='same'))\n",
    "        model.add(layers.SeparableConv1D(filters=filters,     \n",
    "                                         kernel_size=kernel_size,\n",
    "                                         activation='relu',\n",
    "                                         bias_initializer='random_uniform',\n",
    "                                         depthwise_initializer='random_uniform',\n",
    "                                         padding='same'))\n",
    "        model.add(layers.MaxPooling1D(pool_size=pool_size))\n",
    "\n",
    "    model.add(layers.GlobalAveragePooling1D())\n",
    "    if dropout>0: model.add(layers.Dropout(rate=dropout))\n",
    "    model.add(layers.Dense(num_classes, activation='sigmoid'))\n",
    "    helper.compile(model)  \n",
    "    return model\n",
    "\n",
    "\n",
    "helper = TextClassificationHelper(params, model_results=model_results, datasets=sequence_datasets)\n",
    "model = get_sepcnn(helper, blocks=1)\n",
    "# when bolcks=2, the model can't converg\n",
    "model.summary()"
   ]
  },
  {
   "cell_type": "code",
   "execution_count": 48,
   "metadata": {
    "ExecuteTime": {
     "end_time": "2021-04-15T00:45:26.156183Z",
     "start_time": "2021-04-15T00:45:26.095898Z"
    },
    "scrolled": false
   },
   "outputs": [],
   "source": [
    "# history = helper.train(model, batch_size=32)"
   ]
  },
  {
   "cell_type": "code",
   "execution_count": 49,
   "metadata": {
    "ExecuteTime": {
     "end_time": "2021-04-15T00:45:26.208753Z",
     "start_time": "2021-04-15T00:45:26.158518Z"
    },
    "scrolled": false
   },
   "outputs": [],
   "source": [
    "# helper.model_summary(model, history=history)"
   ]
  },
  {
   "cell_type": "markdown",
   "metadata": {},
   "source": [
    "### LSTM"
   ]
  },
  {
   "cell_type": "code",
   "execution_count": 50,
   "metadata": {
    "ExecuteTime": {
     "end_time": "2021-04-15T00:45:26.636708Z",
     "start_time": "2021-04-15T00:45:26.211114Z"
    }
   },
   "outputs": [
    {
     "name": "stdout",
     "output_type": "stream",
     "text": [
      "model_params.rnn_lstm.dropout=0.3\n",
      "model_params.rnn_lstm.units=200\n",
      "max_features=30000\n",
      "model_params.rnn_lstm.embedding_dim=200\n",
      "learning_rate=0.0005\n",
      "clip_value=1.0\n",
      "checkpoint_path=./models/tox_16k_c6/toxicity_16k_0330/rnn_lstm\n",
      "Model: \"rnn_lstm\"\n",
      "_________________________________________________________________\n",
      "Layer (type)                 Output Shape              Param #   \n",
      "=================================================================\n",
      "input_2 (InputLayer)         [(None, 100)]             0         \n",
      "_________________________________________________________________\n",
      "embedding_3 (Embedding)      (None, 100, 200)          6000200   \n",
      "_________________________________________________________________\n",
      "lstm (LSTM)                  (None, 200)               320800    \n",
      "_________________________________________________________________\n",
      "dropout_6 (Dropout)          (None, 200)               0         \n",
      "_________________________________________________________________\n",
      "dense_5 (Dense)              (None, 6)                 1206      \n",
      "=================================================================\n",
      "Total params: 6,322,206\n",
      "Trainable params: 6,322,206\n",
      "Non-trainable params: 0\n",
      "_________________________________________________________________\n"
     ]
    }
   ],
   "source": [
    "def get_lstm(helper, name='rnn_lstm', \n",
    "             dropout=None, \n",
    "             is_embedding_trainable=False,\n",
    "             embedding_matrix=None,\n",
    "             mask_zero=True,\n",
    "             use_bidirectional = False,\n",
    "             use_stacked = False\n",
    "            ):\n",
    "    if dropout is None:\n",
    "        dropout = helper.get_model_param(name, 'dropout')   \n",
    "\n",
    "    units = helper.get_model_param(name, 'units')\n",
    "    max_features = helper.get_model_param(name, 'max_features')\n",
    "    embedding_dim = helper.get_model_param(name, 'embedding_dim') \n",
    "    \n",
    "    input = layers.Input(shape=helper.datasets.input_shape)\n",
    "    if embedding_matrix is None:\n",
    "        x = layers.Embedding(input_dim=max_features+1, output_dim=embedding_dim)(input)\n",
    "    else:\n",
    "        num_features, embedding_dim = embedding_matrix.shape\n",
    "        x = layers.Embedding(input_dim=num_features,\n",
    "                             output_dim=embedding_dim,\n",
    "                             weights=[embedding_matrix],\n",
    "                             trainable=is_embedding_trainable,\n",
    "                             mask_zero=mask_zero\n",
    "                            )(input)      \n",
    "    if use_bidirectional and use_stacked:\n",
    "        x = layers.Bidirectional(layers.LSTM(units=units, return_sequences=True))(x)\n",
    "        x = layers.LSTM(units=units)(x)\n",
    "    elif use_bidirectional and not use_stacked:\n",
    "        x = layers.Bidirectional(layers.LSTM(units=units, return_sequences=True))(x)\n",
    "    else:\n",
    "        x = layers.LSTM(units=units)(x)\n",
    "    if dropout>0: x = layers.Dropout(dropout)(x)\n",
    "    x = layers.Dense(len(helper.params.classes), activation='sigmoid')(x)  \n",
    "    model = Model(inputs=input, outputs=x, name=name) \n",
    "    helper.compile(model)      \n",
    "    return model \n",
    "\n",
    "helper = TextClassificationHelper(params, model_results=model_results, datasets=sequence_datasets)\n",
    "model = get_lstm(helper)\n",
    "model.summary()\n"
   ]
  },
  {
   "cell_type": "code",
   "execution_count": 51,
   "metadata": {
    "ExecuteTime": {
     "end_time": "2021-04-15T00:45:26.696662Z",
     "start_time": "2021-04-15T00:45:26.639129Z"
    }
   },
   "outputs": [],
   "source": [
    "# history = helper.train(model)"
   ]
  },
  {
   "cell_type": "code",
   "execution_count": 52,
   "metadata": {
    "ExecuteTime": {
     "end_time": "2021-04-15T00:45:26.750445Z",
     "start_time": "2021-04-15T00:45:26.699527Z"
    }
   },
   "outputs": [],
   "source": [
    "# model = get_lstm(helper, name='rnn_pretrain',\n",
    "#                  embedding_matrix=embedding_matrix_cc,\n",
    "#                  is_embedding_trainable=True,\n",
    "#                  mask_zero=True)\n",
    "# model.summary()\n",
    "# history = helper.train(model)"
   ]
  },
  {
   "cell_type": "code",
   "execution_count": 53,
   "metadata": {
    "ExecuteTime": {
     "end_time": "2021-04-15T00:45:26.801839Z",
     "start_time": "2021-04-15T00:45:26.752646Z"
    }
   },
   "outputs": [],
   "source": [
    "# model = get_lstm(helper, name='rnn_pretrain',\n",
    "#                  embedding_matrix=embedding_matrix_cc,\n",
    "#                  is_embedding_trainable=True,\n",
    "#                  mask_zero=True)\n",
    "# model.summary()\n",
    "# history = helper.train(model)"
   ]
  },
  {
   "cell_type": "code",
   "execution_count": 54,
   "metadata": {
    "ExecuteTime": {
     "end_time": "2021-04-15T00:45:26.852843Z",
     "start_time": "2021-04-15T00:45:26.804036Z"
    },
    "scrolled": false
   },
   "outputs": [],
   "source": [
    "# helper.model_summary(model, history=history)"
   ]
  },
  {
   "cell_type": "markdown",
   "metadata": {},
   "source": [
    "### LSTM + Bidirectional + Stacked"
   ]
  },
  {
   "cell_type": "code",
   "execution_count": 56,
   "metadata": {
    "ExecuteTime": {
     "end_time": "2021-04-15T00:49:56.348610Z",
     "start_time": "2021-04-15T00:49:53.022781Z"
    }
   },
   "outputs": [
    {
     "name": "stdout",
     "output_type": "stream",
     "text": [
      "model_params.rnn_lstm_stacked.dropout=0.3\n",
      "model_params.rnn_lstm_stacked.units=200\n",
      "max_features=30000\n",
      "model_params.rnn_lstm_stacked.embedding_dim=200\n",
      "learning_rate=0.0005\n",
      "clip_value=1.0\n",
      "checkpoint_path=./models/tox_16k_c6/toxicity_16k_0330/rnn_lstm_stacked\n",
      "Model: \"rnn_lstm_stacked\"\n",
      "_________________________________________________________________\n",
      "Layer (type)                 Output Shape              Param #   \n",
      "=================================================================\n",
      "input_4 (InputLayer)         [(None, 100)]             0         \n",
      "_________________________________________________________________\n",
      "embedding_5 (Embedding)      (None, 100, 200)          6000000   \n",
      "_________________________________________________________________\n",
      "bidirectional_1 (Bidirection (None, 100, 400)          641600    \n",
      "_________________________________________________________________\n",
      "lstm_4 (LSTM)                (None, 200)               480800    \n",
      "_________________________________________________________________\n",
      "dropout_8 (Dropout)          (None, 200)               0         \n",
      "_________________________________________________________________\n",
      "dense_6 (Dense)              (None, 6)                 1206      \n",
      "=================================================================\n",
      "Total params: 7,123,606\n",
      "Trainable params: 7,123,606\n",
      "Non-trainable params: 0\n",
      "_________________________________________________________________\n"
     ]
    }
   ],
   "source": [
    "def get_lstm_stacked(helper, name='rnn_lstm_stacked', dropout=None):\n",
    "    if dropout is None:\n",
    "        dropout = helper.get_model_param(name, 'dropout')   \n",
    "    \n",
    "    units = helper.get_model_param(name, 'units')\n",
    "    max_features = helper.get_model_param(name, 'max_features')\n",
    "    embedding_dim = helper.get_model_param(name, 'embedding_dim') \n",
    "    \n",
    "    input = layers.Input(shape=helper.datasets.input_shape)\n",
    "    x = layers.Embedding(input_dim=max_features, output_dim=embedding_dim, mask_zero=True)(input)\n",
    "    x = layers.Bidirectional(layers.LSTM(units=units, return_sequences=True))(x)\n",
    "    x = layers.LSTM(units=units)(x)\n",
    "    if dropout>0: x = layers.Dropout(dropout)(x)\n",
    "    x = layers.Dense(len(helper.params.classes), activation='sigmoid')(x)  \n",
    "    model = Model(inputs=input, outputs=x, name=name) \n",
    "    helper.compile(model)      \n",
    "    return model \n",
    "\n",
    "helper = TextClassificationHelper(params, model_results=model_results, datasets=sequence_datasets)\n",
    "model = get_lstm_stacked(helper)\n",
    "model.summary()"
   ]
  },
  {
   "cell_type": "code",
   "execution_count": 58,
   "metadata": {
    "ExecuteTime": {
     "end_time": "2021-04-15T00:50:22.774110Z",
     "start_time": "2021-04-15T00:50:22.723867Z"
    }
   },
   "outputs": [],
   "source": [
    "# history = helper.train(model)"
   ]
  },
  {
   "cell_type": "code",
   "execution_count": 59,
   "metadata": {
    "ExecuteTime": {
     "end_time": "2021-04-15T00:50:23.468289Z",
     "start_time": "2021-04-15T00:50:23.412729Z"
    }
   },
   "outputs": [],
   "source": [
    "# helper.model_summary(model, history=history)"
   ]
  },
  {
   "cell_type": "markdown",
   "metadata": {},
   "source": [
    "### Pooled GRU \n",
    "参考 [Pooled GRU + FastText](https://www.kaggle.com/yekenot/pooled-gru-fasttext?select=crawl-300d-2M.vec)"
   ]
  },
  {
   "cell_type": "code",
   "execution_count": 60,
   "metadata": {
    "ExecuteTime": {
     "end_time": "2021-04-15T00:50:24.946056Z",
     "start_time": "2021-04-15T00:50:24.883808Z"
    }
   },
   "outputs": [],
   "source": [
    "def get_pooled_gru(helper, name='pooled_gru', \n",
    "             dropout=None, \n",
    "             is_embedding_trainable=False,\n",
    "             embedding_matrix=None,\n",
    "             mask_zero=False\n",
    "            ):\n",
    "    if dropout is None:\n",
    "        dropout = helper.get_model_param(name, 'dropout')   \n",
    "\n",
    "    units = helper.get_model_param(name, 'units')\n",
    "    max_features = helper.get_model_param(name, 'max_features')\n",
    "    embedding_dim = helper.get_model_param(name, 'embedding_dim') \n",
    "    \n",
    "    input = layers.Input(shape=helper.datasets.input_shape)\n",
    "    if embedding_matrix is None:\n",
    "        x = layers.Embedding(input_dim=max_features+1, output_dim=embedding_dim)(input)\n",
    "    else:\n",
    "        num_features, embedding_dim = embedding_matrix.shape\n",
    "        x = layers.Embedding(input_dim=num_features,\n",
    "                             output_dim=embedding_dim,\n",
    "                             weights=[embedding_matrix],\n",
    "                             trainable=is_embedding_trainable,\n",
    "                             mask_zero=mask_zero\n",
    "                            )(input)      \n",
    "    x = layers.SpatialDropout1D(dropout)(x)\n",
    "    \n",
    "    x = layers.Bidirectional(layers.GRU(units, return_sequences=True))(x)\n",
    "    x = layers.GRU(units, return_sequences=True)(x)\n",
    "    \n",
    "    avg_pool = layers.GlobalAveragePooling1D()(x)\n",
    "    max_pool = layers.GlobalMaxPooling1D()(x)\n",
    "    x = layers.concatenate([avg_pool, max_pool])\n",
    "\n",
    "    \n",
    "    x = layers.Dense(len(helper.params.classes), activation='sigmoid')(x)  \n",
    "    model = Model(inputs=input, outputs=x, name=name) \n",
    "    helper.compile(model)      \n",
    "    return model \n",
    "\n"
   ]
  },
  {
   "cell_type": "markdown",
   "metadata": {},
   "source": [
    "#### pooled_gru_fasttext"
   ]
  },
  {
   "cell_type": "code",
   "execution_count": 61,
   "metadata": {
    "ExecuteTime": {
     "end_time": "2021-04-15T01:38:29.664718Z",
     "start_time": "2021-04-15T00:50:26.427936Z"
    },
    "scrolled": false
   },
   "outputs": [
    {
     "name": "stdout",
     "output_type": "stream",
     "text": [
      "model_params.pooled_gru_fasttext.dropout=0.3\n",
      "model_params.pooled_gru_fasttext.units=160\n",
      "max_features=30000\n",
      "model_params.pooled_gru_fasttext.embedding_dim=300\n",
      "model_params.pooled_gru_fasttext.learning_rate=0.0005\n",
      "clip_value=1.0\n",
      "checkpoint_path=./models/tox_16k_c6/toxicity_16k_0330/pooled_gru_fasttext\n",
      "Model: \"pooled_gru_fasttext\"\n",
      "__________________________________________________________________________________________________\n",
      "Layer (type)                    Output Shape         Param #     Connected to                     \n",
      "==================================================================================================\n",
      "input_5 (InputLayer)            [(None, 100)]        0                                            \n",
      "__________________________________________________________________________________________________\n",
      "embedding_6 (Embedding)         (None, 100, 300)     9000000     input_5[0][0]                    \n",
      "__________________________________________________________________________________________________\n",
      "spatial_dropout1d (SpatialDropo (None, 100, 300)     0           embedding_6[0][0]                \n",
      "__________________________________________________________________________________________________\n",
      "bidirectional_2 (Bidirectional) (None, 100, 320)     443520      spatial_dropout1d[0][0]          \n",
      "__________________________________________________________________________________________________\n",
      "gru_1 (GRU)                     (None, 100, 160)     231360      bidirectional_2[0][0]            \n",
      "__________________________________________________________________________________________________\n",
      "global_average_pooling1d_3 (Glo (None, 160)          0           gru_1[0][0]                      \n",
      "__________________________________________________________________________________________________\n",
      "global_max_pooling1d (GlobalMax (None, 160)          0           gru_1[0][0]                      \n",
      "__________________________________________________________________________________________________\n",
      "concatenate (Concatenate)       (None, 320)          0           global_average_pooling1d_3[0][0] \n",
      "                                                                 global_max_pooling1d[0][0]       \n",
      "__________________________________________________________________________________________________\n",
      "dense_7 (Dense)                 (None, 6)            1926        concatenate[0][0]                \n",
      "==================================================================================================\n",
      "Total params: 9,676,806\n",
      "Trainable params: 676,806\n",
      "Non-trainable params: 9,000,000\n",
      "__________________________________________________________________________________________________\n",
      "model_params.pooled_gru_fasttext.epochs=8\n",
      "use ModelCheckpoint(filepath=./models/tox_16k_c6/toxicity_16k_0330/pooled_gru_fasttext, monitor=val_binary_accuracy)\n",
      "use EarlyStopping(monitor=val_binary_accuracy, patience=40)\n",
      "use ReduceLROnPlateau(monitor=val_loss, factor=0.31622776601683794, patience=15)\n",
      "use LearningRateScheduler()\n",
      "4737/4737 [==============================] - 113s 24ms/step - loss: 0.6792 - binary_accuracy: 0.6146 - auc: 0.6572\n",
      "250/250 [==============================] - 8s 32ms/step - loss: 0.6795 - binary_accuracy: 0.6140 - auc: 0.6404\n",
      "save object to /tf/eipi10/xuxiangwen.github.io/_notes/05-ai/54-tensorflow/models/tox_16k_c6/toxicity_16k_0330/pooled_gru_fasttext.predictor\n",
      "--------------------------------------------------------------------------------\n",
      "test loss:0.6795\n",
      "test binary_accuracy:0.6140\n"
     ]
    },
    {
     "name": "stderr",
     "output_type": "stream",
     "text": [
      "2021-04-15 08:54:34,301: INFO: start training\n"
     ]
    },
    {
     "name": "stdout",
     "output_type": "stream",
     "text": [
      "test auc:0.6412\n",
      "use_class_weight=None\n",
      "class_weight=None\n",
      "Epoch 00001: Still keep learning rate 0.0005 instead of 0.001\n",
      "Epoch 1/8\n",
      "4737/4737 [==============================] - ETA: 0s - loss: 0.0554 - binary_accuracy: 0.9806 - auc: 0.9533INFO:tensorflow:Assets written to: ./models/tox_16k_c6/toxicity_16k_0330/pooled_gru_fasttext/assets\n"
     ]
    },
    {
     "name": "stderr",
     "output_type": "stream",
     "text": [
      "2021-04-15 09:00:21,128: INFO: Assets written to: ./models/tox_16k_c6/toxicity_16k_0330/pooled_gru_fasttext/assets\n"
     ]
    },
    {
     "name": "stdout",
     "output_type": "stream",
     "text": [
      "4737/4737 [==============================] - 342s 72ms/step - loss: 0.0554 - binary_accuracy: 0.9806 - auc: 0.9533 - val_loss: 0.0492 - val_binary_accuracy: 0.9821 - val_auc: 0.9735\n",
      "Epoch 00002: Still keep learning rate 0.0005 instead of 0.001\n",
      "Epoch 2/8\n",
      "4737/4737 [==============================] - ETA: 0s - loss: 0.0454 - binary_accuracy: 0.9830 - auc: 0.9723INFO:tensorflow:Assets written to: ./models/tox_16k_c6/toxicity_16k_0330/pooled_gru_fasttext/assets\n"
     ]
    },
    {
     "name": "stderr",
     "output_type": "stream",
     "text": [
      "2021-04-15 09:04:38,465: INFO: Assets written to: ./models/tox_16k_c6/toxicity_16k_0330/pooled_gru_fasttext/assets\n"
     ]
    },
    {
     "name": "stdout",
     "output_type": "stream",
     "text": [
      "4737/4737 [==============================] - 257s 54ms/step - loss: 0.0454 - binary_accuracy: 0.9830 - auc: 0.9723 - val_loss: 0.0460 - val_binary_accuracy: 0.9831 - val_auc: 0.9788\n",
      "Epoch 00003: Still keep learning rate 0.0005 instead of 0.001\n",
      "Epoch 3/8\n",
      "4737/4737 [==============================] - 247s 52ms/step - loss: 0.0431 - binary_accuracy: 0.9836 - auc: 0.9752 - val_loss: 0.0454 - val_binary_accuracy: 0.9830 - val_auc: 0.9800\n",
      "Epoch 00004: Still keep learning rate 0.0005 instead of 0.001\n",
      "Epoch 4/8\n",
      "4737/4737 [==============================] - ETA: 0s - loss: 0.0411 - binary_accuracy: 0.9844 - auc: 0.9786INFO:tensorflow:Assets written to: ./models/tox_16k_c6/toxicity_16k_0330/pooled_gru_fasttext/assets\n"
     ]
    },
    {
     "name": "stderr",
     "output_type": "stream",
     "text": [
      "2021-04-15 09:13:50,125: INFO: Assets written to: ./models/tox_16k_c6/toxicity_16k_0330/pooled_gru_fasttext/assets\n"
     ]
    },
    {
     "name": "stdout",
     "output_type": "stream",
     "text": [
      "4737/4737 [==============================] - 304s 64ms/step - loss: 0.0411 - binary_accuracy: 0.9844 - auc: 0.9786 - val_loss: 0.0454 - val_binary_accuracy: 0.9832 - val_auc: 0.9788\n",
      "Epoch 00005: Still keep learning rate 0.0005 instead of 0.001\n",
      "Epoch 5/8\n",
      "4737/4737 [==============================] - 320s 67ms/step - loss: 0.0395 - binary_accuracy: 0.9848 - auc: 0.9814 - val_loss: 0.0450 - val_binary_accuracy: 0.9831 - val_auc: 0.9809\n",
      "Epoch 00006: Still keep learning rate 0.0005 instead of 0.001\n",
      "Epoch 6/8\n",
      "4737/4737 [==============================] - 271s 57ms/step - loss: 0.0377 - binary_accuracy: 0.9854 - auc: 0.9835 - val_loss: 0.0447 - val_binary_accuracy: 0.9831 - val_auc: 0.9761\n",
      "Epoch 00007: Still keep learning rate 0.0005 instead of 0.001\n",
      "Epoch 7/8\n",
      "4737/4737 [==============================] - 265s 56ms/step - loss: 0.0362 - binary_accuracy: 0.9861 - auc: 0.9858 - val_loss: 0.0440 - val_binary_accuracy: 0.9832 - val_auc: 0.9803\n",
      "Epoch 00008: Still keep learning rate 0.0005 instead of 0.001\n",
      "Epoch 8/8\n",
      "4737/4737 [==============================] - 321s 68ms/step - loss: 0.0343 - binary_accuracy: 0.9867 - auc: 0.9867 - val_loss: 0.0457 - val_binary_accuracy: 0.9831 - val_auc: 0.9769\n"
     ]
    },
    {
     "name": "stderr",
     "output_type": "stream",
     "text": [
      "2021-04-15 09:33:28,475: INFO: finish training [elapsed time: 2334.17 seconds]\n"
     ]
    },
    {
     "data": {
      "image/png": "[encoded data removed]",
      "text/plain": [
       "<Figure size 1152x360 with 2 Axes>"
      ]
     },
     "metadata": {
      "needs_background": "light"
     },
     "output_type": "display_data"
    },
    {
     "name": "stdout",
     "output_type": "stream",
     "text": [
      "---------------------------------------- evaluate ----------------------------------------\n",
      "load best checkpoint from ./models/tox_16k_c6/toxicity_16k_0330/pooled_gru_fasttext\n",
      "model_params.pooled_gru_fasttext.learning_rate=0.0005\n",
      "clip_value=1.0\n",
      "checkpoint_path=./models/tox_16k_c6/toxicity_16k_0330/pooled_gru_fasttext\n",
      "4737/4737 [==============================] - 145s 31ms/step - loss: 0.0368 - binary_accuracy: 0.9858 - auc: 0.9830\n",
      "250/250 [==============================] - 8s 33ms/step - loss: 0.0454 - binary_accuracy: 0.9832 - auc: 0.9788\n",
      "save object to /tf/eipi10/xuxiangwen.github.io/_notes/05-ai/54-tensorflow/models/tox_16k_c6/toxicity_16k_0330/pooled_gru_fasttext.predictor\n",
      "--------------------------------------------------------------------------------\n",
      "test loss:0.0454\n",
      "test binary_accuracy:0.9832\n",
      "test auc:0.9868\n",
      "-------------------------------------------------- all models --------------------------------------------------\n"
     ]
    },
    {
     "data": {
      "text/html": [
       "<div>\n",
       "<style scoped>\n",
       "    .dataframe tbody tr th:only-of-type {\n",
       "        vertical-align: middle;\n",
       "    }\n",
       "\n",
       "    .dataframe tbody tr th {\n",
       "        vertical-align: top;\n",
       "    }\n",
       "\n",
       "    .dataframe thead th {\n",
       "        text-align: right;\n",
       "    }\n",
       "</style>\n",
       "<table border=\"1\" class=\"dataframe\">\n",
       "  <thead>\n",
       "    <tr style=\"text-align: right;\">\n",
       "      <th></th>\n",
       "      <th>weight_number</th>\n",
       "      <th>train_time</th>\n",
       "      <th>train_loss</th>\n",
       "      <th>test_loss</th>\n",
       "      <th>train_binary_accuracy</th>\n",
       "      <th>test_binary_accuracy</th>\n",
       "      <th>train_auc</th>\n",
       "      <th>test_auc</th>\n",
       "    </tr>\n",
       "  </thead>\n",
       "  <tbody>\n",
       "    <tr>\n",
       "      <th>pooled_gru_fasttext</th>\n",
       "      <td>9676806</td>\n",
       "      <td>2334.0</td>\n",
       "      <td>0.0368</td>\n",
       "      <td>0.0454</td>\n",
       "      <td>0.9858</td>\n",
       "      <td>0.9832</td>\n",
       "      <td>0.9907</td>\n",
       "      <td>0.9868</td>\n",
       "    </tr>\n",
       "    <tr>\n",
       "      <th>mlp</th>\n",
       "      <td>7681798</td>\n",
       "      <td>243.0</td>\n",
       "      <td>0.0534</td>\n",
       "      <td>0.0644</td>\n",
       "      <td>0.9815</td>\n",
       "      <td>0.9780</td>\n",
       "      <td>0.9717</td>\n",
       "      <td>0.9581</td>\n",
       "    </tr>\n",
       "    <tr>\n",
       "      <th>embedding</th>\n",
       "      <td>6001406</td>\n",
       "      <td>699.0</td>\n",
       "      <td>0.0704</td>\n",
       "      <td>0.0869</td>\n",
       "      <td>0.9764</td>\n",
       "      <td>0.9736</td>\n",
       "      <td>0.9556</td>\n",
       "      <td>0.9430</td>\n",
       "    </tr>\n",
       "    <tr>\n",
       "      <th>embedding_pretrain</th>\n",
       "      <td>9001806</td>\n",
       "      <td>120.0</td>\n",
       "      <td>0.1021</td>\n",
       "      <td>0.1107</td>\n",
       "      <td>0.9662</td>\n",
       "      <td>0.9638</td>\n",
       "      <td>0.8400</td>\n",
       "      <td>0.8274</td>\n",
       "    </tr>\n",
       "  </tbody>\n",
       "</table>\n",
       "</div>"
      ],
      "text/plain": [
       "                     weight_number  train_time  train_loss  test_loss  \\\n",
       "pooled_gru_fasttext        9676806      2334.0      0.0368     0.0454   \n",
       "mlp                        7681798       243.0      0.0534     0.0644   \n",
       "embedding                  6001406       699.0      0.0704     0.0869   \n",
       "embedding_pretrain         9001806       120.0      0.1021     0.1107   \n",
       "\n",
       "                     train_binary_accuracy  test_binary_accuracy  train_auc  \\\n",
       "pooled_gru_fasttext                 0.9858                0.9832     0.9907   \n",
       "mlp                                 0.9815                0.9780     0.9717   \n",
       "embedding                           0.9764                0.9736     0.9556   \n",
       "embedding_pretrain                  0.9662                0.9638     0.8400   \n",
       "\n",
       "                     test_auc  \n",
       "pooled_gru_fasttext    0.9868  \n",
       "mlp                    0.9581  \n",
       "embedding              0.9430  \n",
       "embedding_pretrain     0.8274  "
      ]
     },
     "metadata": {},
     "output_type": "display_data"
    },
    {
     "name": "stdout",
     "output_type": "stream",
     "text": [
      "save json to ./models/tox_16k_c6/toxicity_16k_0330/model_results.json\n"
     ]
    }
   ],
   "source": [
    "helper = TextClassificationHelper(params, model_results=model_results, datasets=sequence_datasets)\n",
    "model = get_pooled_gru(helper, name='pooled_gru_fasttext', embedding_matrix=embedding_matrix_fasttext_crawl)\n",
    "model.summary()\n",
    "history = helper.train(model)\n",
    "helper.model_summary(model, history=history)"
   ]
  },
  {
   "cell_type": "markdown",
   "metadata": {},
   "source": [
    "#### pooled_gru_glove"
   ]
  },
  {
   "cell_type": "code",
   "execution_count": 62,
   "metadata": {
    "ExecuteTime": {
     "end_time": "2021-04-15T02:27:20.555066Z",
     "start_time": "2021-04-15T01:38:29.667130Z"
    },
    "scrolled": false
   },
   "outputs": [
    {
     "name": "stdout",
     "output_type": "stream",
     "text": [
      "model_params.pooled_gru_glove.dropout=0.3\n",
      "model_params.pooled_gru_glove.units=160\n",
      "max_features=30000\n",
      "model_params.pooled_gru_glove.embedding_dim=300\n",
      "model_params.pooled_gru_glove.learning_rate=0.0005\n",
      "clip_value=1.0\n",
      "checkpoint_path=./models/tox_16k_c6/toxicity_16k_0330/pooled_gru_glove\n",
      "Model: \"pooled_gru_glove\"\n",
      "__________________________________________________________________________________________________\n",
      "Layer (type)                    Output Shape         Param #     Connected to                     \n",
      "==================================================================================================\n",
      "input_6 (InputLayer)            [(None, 100)]        0                                            \n",
      "__________________________________________________________________________________________________\n",
      "embedding_7 (Embedding)         (None, 100, 200)     6000000     input_6[0][0]                    \n",
      "__________________________________________________________________________________________________\n",
      "spatial_dropout1d_1 (SpatialDro (None, 100, 200)     0           embedding_7[0][0]                \n",
      "__________________________________________________________________________________________________\n",
      "bidirectional_3 (Bidirectional) (None, 100, 320)     347520      spatial_dropout1d_1[0][0]        \n",
      "__________________________________________________________________________________________________\n",
      "gru_3 (GRU)                     (None, 100, 160)     231360      bidirectional_3[0][0]            \n",
      "__________________________________________________________________________________________________\n",
      "global_average_pooling1d_4 (Glo (None, 160)          0           gru_3[0][0]                      \n",
      "__________________________________________________________________________________________________\n",
      "global_max_pooling1d_1 (GlobalM (None, 160)          0           gru_3[0][0]                      \n",
      "__________________________________________________________________________________________________\n",
      "concatenate_1 (Concatenate)     (None, 320)          0           global_average_pooling1d_4[0][0] \n",
      "                                                                 global_max_pooling1d_1[0][0]     \n",
      "__________________________________________________________________________________________________\n",
      "dense_8 (Dense)                 (None, 6)            1926        concatenate_1[0][0]              \n",
      "==================================================================================================\n",
      "Total params: 6,580,806\n",
      "Trainable params: 6,580,806\n",
      "Non-trainable params: 0\n",
      "__________________________________________________________________________________________________\n",
      "model_params.pooled_gru_glove.epochs=8\n",
      "use ModelCheckpoint(filepath=./models/tox_16k_c6/toxicity_16k_0330/pooled_gru_glove, monitor=val_binary_accuracy)\n",
      "use EarlyStopping(monitor=val_binary_accuracy, patience=40)\n",
      "use ReduceLROnPlateau(monitor=val_loss, factor=0.31622776601683794, patience=15)\n",
      "use LearningRateScheduler()\n",
      "4737/4737 [==============================] - 116s 24ms/step - loss: 0.7082 - binary_accuracy: 0.4554 - auc: 0.4888\n",
      "250/250 [==============================] - 8s 31ms/step - loss: 0.7084 - binary_accuracy: 0.4266 - auc: 0.4699\n",
      "save object to /tf/eipi10/xuxiangwen.github.io/_notes/05-ai/54-tensorflow/models/tox_16k_c6/toxicity_16k_0330/pooled_gru_glove.predictor\n",
      "--------------------------------------------------------------------------------\n",
      "test loss:0.7084\n",
      "test binary_accuracy:0.4266\n"
     ]
    },
    {
     "name": "stderr",
     "output_type": "stream",
     "text": [
      "2021-04-15 09:41:42,042: INFO: start training\n"
     ]
    },
    {
     "name": "stdout",
     "output_type": "stream",
     "text": [
      "test auc:0.4699\n",
      "use_class_weight=None\n",
      "class_weight=None\n",
      "Epoch 00001: Still keep learning rate 0.0005 instead of 0.001\n",
      "Epoch 1/8\n",
      "4737/4737 [==============================] - ETA: 0s - loss: 0.0548 - binary_accuracy: 0.9807 - auc: 0.9530INFO:tensorflow:Assets written to: ./models/tox_16k_c6/toxicity_16k_0330/pooled_gru_glove/assets\n"
     ]
    },
    {
     "name": "stderr",
     "output_type": "stream",
     "text": [
      "2021-04-15 09:47:16,083: INFO: Assets written to: ./models/tox_16k_c6/toxicity_16k_0330/pooled_gru_glove/assets\n"
     ]
    },
    {
     "name": "stdout",
     "output_type": "stream",
     "text": [
      "4737/4737 [==============================] - 328s 69ms/step - loss: 0.0548 - binary_accuracy: 0.9807 - auc: 0.9530 - val_loss: 0.0479 - val_binary_accuracy: 0.9827 - val_auc: 0.9753\n",
      "Epoch 00002: Still keep learning rate 0.0005 instead of 0.001\n",
      "Epoch 2/8\n",
      "4736/4737 [============================>.] - ETA: 0s - loss: 0.0428 - binary_accuracy: 0.9839 - auc: 0.9764INFO:tensorflow:Assets written to: ./models/tox_16k_c6/toxicity_16k_0330/pooled_gru_glove/assets\n"
     ]
    },
    {
     "name": "stderr",
     "output_type": "stream",
     "text": [
      "2021-04-15 09:52:20,204: INFO: Assets written to: ./models/tox_16k_c6/toxicity_16k_0330/pooled_gru_glove/assets\n"
     ]
    },
    {
     "name": "stdout",
     "output_type": "stream",
     "text": [
      "4737/4737 [==============================] - 304s 64ms/step - loss: 0.0427 - binary_accuracy: 0.9839 - auc: 0.9764 - val_loss: 0.0454 - val_binary_accuracy: 0.9832 - val_auc: 0.9752\n",
      "Epoch 00003: Still keep learning rate 0.0005 instead of 0.001\n",
      "Epoch 3/8\n",
      "4737/4737 [==============================] - 304s 64ms/step - loss: 0.0390 - binary_accuracy: 0.9849 - auc: 0.9831 - val_loss: 0.0457 - val_binary_accuracy: 0.9832 - val_auc: 0.9753\n",
      "Epoch 00004: Still keep learning rate 0.0005 instead of 0.001\n",
      "Epoch 4/8\n",
      "4737/4737 [==============================] - 303s 64ms/step - loss: 0.0359 - binary_accuracy: 0.9859 - auc: 0.9853 - val_loss: 0.0472 - val_binary_accuracy: 0.9828 - val_auc: 0.9740\n",
      "Epoch 00005: Still keep learning rate 0.0005 instead of 0.001\n",
      "Epoch 5/8\n",
      "4737/4737 [==============================] - 311s 66ms/step - loss: 0.0331 - binary_accuracy: 0.9871 - auc: 0.9877 - val_loss: 0.0486 - val_binary_accuracy: 0.9826 - val_auc: 0.9713\n",
      "Epoch 00006: Still keep learning rate 0.0005 instead of 0.001\n",
      "Epoch 6/8\n",
      "4737/4737 [==============================] - 276s 58ms/step - loss: 0.0302 - binary_accuracy: 0.9880 - auc: 0.9902 - val_loss: 0.0498 - val_binary_accuracy: 0.9831 - val_auc: 0.9677\n",
      "Epoch 00007: Still keep learning rate 0.0005 instead of 0.001\n",
      "Epoch 7/8\n",
      "4737/4737 [==============================] - 343s 72ms/step - loss: 0.0272 - binary_accuracy: 0.9891 - auc: 0.9924 - val_loss: 0.0521 - val_binary_accuracy: 0.9823 - val_auc: 0.9661\n",
      "Epoch 00008: Still keep learning rate 0.0005 instead of 0.001\n",
      "Epoch 8/8\n",
      "4737/4737 [==============================] - 297s 63ms/step - loss: 0.0246 - binary_accuracy: 0.9902 - auc: 0.9932 - val_loss: 0.0563 - val_binary_accuracy: 0.9823 - val_auc: 0.9575\n"
     ]
    },
    {
     "name": "stderr",
     "output_type": "stream",
     "text": [
      "2021-04-15 10:22:57,235: INFO: finish training [elapsed time: 2475.19 seconds]\n"
     ]
    },
    {
     "data": {
      "image/png": "[encoded data removed]",
      "text/plain": [
       "<Figure size 1152x360 with 2 Axes>"
      ]
     },
     "metadata": {
      "needs_background": "light"
     },
     "output_type": "display_data"
    },
    {
     "name": "stdout",
     "output_type": "stream",
     "text": [
      "---------------------------------------- evaluate ----------------------------------------\n",
      "load best checkpoint from ./models/tox_16k_c6/toxicity_16k_0330/pooled_gru_glove\n",
      "model_params.pooled_gru_glove.learning_rate=0.0005\n",
      "clip_value=1.0\n",
      "checkpoint_path=./models/tox_16k_c6/toxicity_16k_0330/pooled_gru_glove\n",
      "4737/4737 [==============================] - 123s 26ms/step - loss: 0.0365 - binary_accuracy: 0.9856 - auc: 0.9830\n",
      "250/250 [==============================] - 9s 37ms/step - loss: 0.0454 - binary_accuracy: 0.9832 - auc: 0.9752\n",
      "save object to /tf/eipi10/xuxiangwen.github.io/_notes/05-ai/54-tensorflow/models/tox_16k_c6/toxicity_16k_0330/pooled_gru_glove.predictor\n",
      "--------------------------------------------------------------------------------\n",
      "test loss:0.0454\n",
      "test binary_accuracy:0.9832\n",
      "test auc:0.9854\n",
      "-------------------------------------------------- all models --------------------------------------------------\n"
     ]
    },
    {
     "data": {
      "text/html": [
       "<div>\n",
       "<style scoped>\n",
       "    .dataframe tbody tr th:only-of-type {\n",
       "        vertical-align: middle;\n",
       "    }\n",
       "\n",
       "    .dataframe tbody tr th {\n",
       "        vertical-align: top;\n",
       "    }\n",
       "\n",
       "    .dataframe thead th {\n",
       "        text-align: right;\n",
       "    }\n",
       "</style>\n",
       "<table border=\"1\" class=\"dataframe\">\n",
       "  <thead>\n",
       "    <tr style=\"text-align: right;\">\n",
       "      <th></th>\n",
       "      <th>weight_number</th>\n",
       "      <th>train_time</th>\n",
       "      <th>train_loss</th>\n",
       "      <th>test_loss</th>\n",
       "      <th>train_binary_accuracy</th>\n",
       "      <th>test_binary_accuracy</th>\n",
       "      <th>train_auc</th>\n",
       "      <th>test_auc</th>\n",
       "    </tr>\n",
       "  </thead>\n",
       "  <tbody>\n",
       "    <tr>\n",
       "      <th>pooled_gru_fasttext</th>\n",
       "      <td>9676806</td>\n",
       "      <td>2334.0</td>\n",
       "      <td>0.0368</td>\n",
       "      <td>0.0454</td>\n",
       "      <td>0.9858</td>\n",
       "      <td>0.9832</td>\n",
       "      <td>0.9907</td>\n",
       "      <td>0.9868</td>\n",
       "    </tr>\n",
       "    <tr>\n",
       "      <th>pooled_gru_glove</th>\n",
       "      <td>6580806</td>\n",
       "      <td>2475.0</td>\n",
       "      <td>0.0365</td>\n",
       "      <td>0.0454</td>\n",
       "      <td>0.9856</td>\n",
       "      <td>0.9832</td>\n",
       "      <td>0.9906</td>\n",
       "      <td>0.9854</td>\n",
       "    </tr>\n",
       "    <tr>\n",
       "      <th>mlp</th>\n",
       "      <td>7681798</td>\n",
       "      <td>243.0</td>\n",
       "      <td>0.0534</td>\n",
       "      <td>0.0644</td>\n",
       "      <td>0.9815</td>\n",
       "      <td>0.9780</td>\n",
       "      <td>0.9717</td>\n",
       "      <td>0.9581</td>\n",
       "    </tr>\n",
       "    <tr>\n",
       "      <th>embedding</th>\n",
       "      <td>6001406</td>\n",
       "      <td>699.0</td>\n",
       "      <td>0.0704</td>\n",
       "      <td>0.0869</td>\n",
       "      <td>0.9764</td>\n",
       "      <td>0.9736</td>\n",
       "      <td>0.9556</td>\n",
       "      <td>0.9430</td>\n",
       "    </tr>\n",
       "    <tr>\n",
       "      <th>embedding_pretrain</th>\n",
       "      <td>9001806</td>\n",
       "      <td>120.0</td>\n",
       "      <td>0.1021</td>\n",
       "      <td>0.1107</td>\n",
       "      <td>0.9662</td>\n",
       "      <td>0.9638</td>\n",
       "      <td>0.8400</td>\n",
       "      <td>0.8274</td>\n",
       "    </tr>\n",
       "  </tbody>\n",
       "</table>\n",
       "</div>"
      ],
      "text/plain": [
       "                     weight_number  train_time  train_loss  test_loss  \\\n",
       "pooled_gru_fasttext        9676806      2334.0      0.0368     0.0454   \n",
       "pooled_gru_glove           6580806      2475.0      0.0365     0.0454   \n",
       "mlp                        7681798       243.0      0.0534     0.0644   \n",
       "embedding                  6001406       699.0      0.0704     0.0869   \n",
       "embedding_pretrain         9001806       120.0      0.1021     0.1107   \n",
       "\n",
       "                     train_binary_accuracy  test_binary_accuracy  train_auc  \\\n",
       "pooled_gru_fasttext                 0.9858                0.9832     0.9907   \n",
       "pooled_gru_glove                    0.9856                0.9832     0.9906   \n",
       "mlp                                 0.9815                0.9780     0.9717   \n",
       "embedding                           0.9764                0.9736     0.9556   \n",
       "embedding_pretrain                  0.9662                0.9638     0.8400   \n",
       "\n",
       "                     test_auc  \n",
       "pooled_gru_fasttext    0.9868  \n",
       "pooled_gru_glove       0.9854  \n",
       "mlp                    0.9581  \n",
       "embedding              0.9430  \n",
       "embedding_pretrain     0.8274  "
      ]
     },
     "metadata": {},
     "output_type": "display_data"
    },
    {
     "name": "stdout",
     "output_type": "stream",
     "text": [
      "save json to ./models/tox_16k_c6/toxicity_16k_0330/model_results.json\n"
     ]
    }
   ],
   "source": [
    "helper = TextClassificationHelper(params, model_results=model_results, datasets=sequence_datasets)\n",
    "model = get_pooled_gru(helper, name='pooled_gru_glove',  embedding_matrix=embedding_matrix_glove_twitter, \n",
    "                       is_embedding_trainable=True)\n",
    "model.summary()\n",
    "history = helper.train(model)\n",
    "helper.model_summary(model, history=history)"
   ]
  },
  {
   "cell_type": "markdown",
   "metadata": {},
   "source": [
    "#### pooled_gru_fasttext_glove"
   ]
  },
  {
   "cell_type": "code",
   "execution_count": 63,
   "metadata": {
    "ExecuteTime": {
     "end_time": "2021-04-15T03:10:31.014628Z",
     "start_time": "2021-04-15T02:27:20.558070Z"
    },
    "scrolled": false
   },
   "outputs": [
    {
     "name": "stdout",
     "output_type": "stream",
     "text": [
      "model_params.pooled_gru_fasttext_glove.dropout=0.3\n",
      "model_params.pooled_gru_fasttext_glove.units=160\n",
      "max_features=30000\n",
      "model_params.pooled_gru_fasttext_glove.embedding_dim=300\n",
      "model_params.pooled_gru_fasttext_glove.learning_rate=0.0005\n",
      "clip_value=1.0\n",
      "checkpoint_path=./models/tox_16k_c6/toxicity_16k_0330/pooled_gru_fasttext_glove\n",
      "Model: \"pooled_gru_fasttext_glove\"\n",
      "__________________________________________________________________________________________________\n",
      "Layer (type)                    Output Shape         Param #     Connected to                     \n",
      "==================================================================================================\n",
      "input_7 (InputLayer)            [(None, 100)]        0                                            \n",
      "__________________________________________________________________________________________________\n",
      "embedding_8 (Embedding)         (None, 100, 500)     15000000    input_7[0][0]                    \n",
      "__________________________________________________________________________________________________\n",
      "spatial_dropout1d_2 (SpatialDro (None, 100, 500)     0           embedding_8[0][0]                \n",
      "__________________________________________________________________________________________________\n",
      "bidirectional_4 (Bidirectional) (None, 100, 320)     635520      spatial_dropout1d_2[0][0]        \n",
      "__________________________________________________________________________________________________\n",
      "gru_5 (GRU)                     (None, 100, 160)     231360      bidirectional_4[0][0]            \n",
      "__________________________________________________________________________________________________\n",
      "global_average_pooling1d_5 (Glo (None, 160)          0           gru_5[0][0]                      \n",
      "__________________________________________________________________________________________________\n",
      "global_max_pooling1d_2 (GlobalM (None, 160)          0           gru_5[0][0]                      \n",
      "__________________________________________________________________________________________________\n",
      "concatenate_2 (Concatenate)     (None, 320)          0           global_average_pooling1d_5[0][0] \n",
      "                                                                 global_max_pooling1d_2[0][0]     \n",
      "__________________________________________________________________________________________________\n",
      "dense_9 (Dense)                 (None, 6)            1926        concatenate_2[0][0]              \n",
      "==================================================================================================\n",
      "Total params: 15,868,806\n",
      "Trainable params: 868,806\n",
      "Non-trainable params: 15,000,000\n",
      "__________________________________________________________________________________________________\n",
      "model_params.pooled_gru_fasttext_glove.epochs=8\n",
      "use ModelCheckpoint(filepath=./models/tox_16k_c6/toxicity_16k_0330/pooled_gru_fasttext_glove, monitor=val_binary_accuracy)\n",
      "use EarlyStopping(monitor=val_binary_accuracy, patience=40)\n",
      "use ReduceLROnPlateau(monitor=val_loss, factor=0.31622776601683794, patience=15)\n",
      "use LearningRateScheduler()\n",
      "4737/4737 [==============================] - 127s 27ms/step - loss: 0.6378 - binary_accuracy: 0.6799 - auc: 0.5751\n",
      "250/250 [==============================] - 9s 37ms/step - loss: 0.6379 - binary_accuracy: 0.6646 - auc: 0.5378\n",
      "save object to /tf/eipi10/xuxiangwen.github.io/_notes/05-ai/54-tensorflow/models/tox_16k_c6/toxicity_16k_0330/pooled_gru_fasttext_glove.predictor\n",
      "--------------------------------------------------------------------------------\n",
      "test loss:0.6379\n",
      "test binary_accuracy:0.6646\n"
     ]
    },
    {
     "name": "stderr",
     "output_type": "stream",
     "text": [
      "2021-04-15 10:31:33,791: INFO: start training\n"
     ]
    },
    {
     "name": "stdout",
     "output_type": "stream",
     "text": [
      "test auc:0.5372\n",
      "use_class_weight=None\n",
      "class_weight=None\n",
      "Epoch 00001: Still keep learning rate 0.0005 instead of 0.001\n",
      "Epoch 1/8\n",
      "4736/4737 [============================>.] - ETA: 0s - loss: 0.0534 - binary_accuracy: 0.9811 - auc: 0.9550INFO:tensorflow:Assets written to: ./models/tox_16k_c6/toxicity_16k_0330/pooled_gru_fasttext_glove/assets\n"
     ]
    },
    {
     "name": "stderr",
     "output_type": "stream",
     "text": [
      "2021-04-15 10:35:30,072: INFO: Assets written to: ./models/tox_16k_c6/toxicity_16k_0330/pooled_gru_fasttext_glove/assets\n"
     ]
    },
    {
     "name": "stdout",
     "output_type": "stream",
     "text": [
      "4737/4737 [==============================] - 232s 49ms/step - loss: 0.0534 - binary_accuracy: 0.9811 - auc: 0.9550 - val_loss: 0.0469 - val_binary_accuracy: 0.9825 - val_auc: 0.9754\n",
      "Epoch 00002: Still keep learning rate 0.0005 instead of 0.001\n",
      "Epoch 2/8\n",
      "4737/4737 [==============================] - ETA: 0s - loss: 0.0438 - binary_accuracy: 0.9836 - auc: 0.9761INFO:tensorflow:Assets written to: ./models/tox_16k_c6/toxicity_16k_0330/pooled_gru_fasttext_glove/assets\n"
     ]
    },
    {
     "name": "stderr",
     "output_type": "stream",
     "text": [
      "2021-04-15 10:40:06,112: INFO: Assets written to: ./models/tox_16k_c6/toxicity_16k_0330/pooled_gru_fasttext_glove/assets\n"
     ]
    },
    {
     "name": "stdout",
     "output_type": "stream",
     "text": [
      "4737/4737 [==============================] - 276s 58ms/step - loss: 0.0438 - binary_accuracy: 0.9836 - auc: 0.9761 - val_loss: 0.0450 - val_binary_accuracy: 0.9830 - val_auc: 0.9806\n",
      "Epoch 00003: Still keep learning rate 0.0005 instead of 0.001\n",
      "Epoch 3/8\n",
      "4737/4737 [==============================] - ETA: 0s - loss: 0.0410 - binary_accuracy: 0.9843 - auc: 0.9804INFO:tensorflow:Assets written to: ./models/tox_16k_c6/toxicity_16k_0330/pooled_gru_fasttext_glove/assets\n"
     ]
    },
    {
     "name": "stderr",
     "output_type": "stream",
     "text": [
      "2021-04-15 10:44:39,659: INFO: Assets written to: ./models/tox_16k_c6/toxicity_16k_0330/pooled_gru_fasttext_glove/assets\n"
     ]
    },
    {
     "name": "stdout",
     "output_type": "stream",
     "text": [
      "4737/4737 [==============================] - 273s 58ms/step - loss: 0.0410 - binary_accuracy: 0.9843 - auc: 0.9804 - val_loss: 0.0450 - val_binary_accuracy: 0.9831 - val_auc: 0.9789\n",
      "Epoch 00004: Still keep learning rate 0.0005 instead of 0.001\n",
      "Epoch 4/8\n",
      "4737/4737 [==============================] - ETA: 0s - loss: 0.0385 - binary_accuracy: 0.9852 - auc: 0.9827INFO:tensorflow:Assets written to: ./models/tox_16k_c6/toxicity_16k_0330/pooled_gru_fasttext_glove/assets\n"
     ]
    },
    {
     "name": "stderr",
     "output_type": "stream",
     "text": [
      "2021-04-15 10:48:19,928: INFO: Assets written to: ./models/tox_16k_c6/toxicity_16k_0330/pooled_gru_fasttext_glove/assets\n"
     ]
    },
    {
     "name": "stdout",
     "output_type": "stream",
     "text": [
      "4737/4737 [==============================] - 220s 46ms/step - loss: 0.0385 - binary_accuracy: 0.9852 - auc: 0.9827 - val_loss: 0.0450 - val_binary_accuracy: 0.9834 - val_auc: 0.9803\n",
      "Epoch 00005: Still keep learning rate 0.0005 instead of 0.001\n",
      "Epoch 5/8\n",
      "4737/4737 [==============================] - ETA: 0s - loss: 0.0363 - binary_accuracy: 0.9860 - auc: 0.9844INFO:tensorflow:Assets written to: ./models/tox_16k_c6/toxicity_16k_0330/pooled_gru_fasttext_glove/assets\n"
     ]
    },
    {
     "name": "stderr",
     "output_type": "stream",
     "text": [
      "2021-04-15 10:53:15,163: INFO: Assets written to: ./models/tox_16k_c6/toxicity_16k_0330/pooled_gru_fasttext_glove/assets\n"
     ]
    },
    {
     "name": "stdout",
     "output_type": "stream",
     "text": [
      "4737/4737 [==============================] - 295s 62ms/step - loss: 0.0363 - binary_accuracy: 0.9860 - auc: 0.9844 - val_loss: 0.0442 - val_binary_accuracy: 0.9841 - val_auc: 0.9809\n",
      "Epoch 00006: Still keep learning rate 0.0005 instead of 0.001\n",
      "Epoch 6/8\n",
      "4737/4737 [==============================] - 291s 61ms/step - loss: 0.0338 - binary_accuracy: 0.9869 - auc: 0.9874 - val_loss: 0.0458 - val_binary_accuracy: 0.9839 - val_auc: 0.9700\n",
      "Epoch 00007: Still keep learning rate 0.0005 instead of 0.001\n",
      "Epoch 7/8\n",
      "4737/4737 [==============================] - 255s 54ms/step - loss: 0.0312 - binary_accuracy: 0.9878 - auc: 0.9902 - val_loss: 0.0472 - val_binary_accuracy: 0.9833 - val_auc: 0.9713\n",
      "Epoch 00008: Still keep learning rate 0.0005 instead of 0.001\n",
      "Epoch 8/8\n",
      "4737/4737 [==============================] - 230s 49ms/step - loss: 0.0288 - binary_accuracy: 0.9887 - auc: 0.9906 - val_loss: 0.0500 - val_binary_accuracy: 0.9834 - val_auc: 0.9656\n"
     ]
    },
    {
     "name": "stderr",
     "output_type": "stream",
     "text": [
      "2021-04-15 11:06:12,943: INFO: finish training [elapsed time: 2079.15 seconds]\n"
     ]
    },
    {
     "data": {
      "image/png": "[encoded data removed]",
      "text/plain": [
       "<Figure size 1152x360 with 2 Axes>"
      ]
     },
     "metadata": {
      "needs_background": "light"
     },
     "output_type": "display_data"
    },
    {
     "name": "stdout",
     "output_type": "stream",
     "text": [
      "---------------------------------------- evaluate ----------------------------------------\n",
      "load best checkpoint from ./models/tox_16k_c6/toxicity_16k_0330/pooled_gru_fasttext_glove\n",
      "model_params.pooled_gru_fasttext_glove.learning_rate=0.0005\n",
      "clip_value=1.0\n",
      "checkpoint_path=./models/tox_16k_c6/toxicity_16k_0330/pooled_gru_fasttext_glove\n",
      "4737/4737 [==============================] - 110s 23ms/step - loss: 0.0304 - binary_accuracy: 0.9881 - auc: 0.9897\n",
      "250/250 [==============================] - 8s 34ms/step - loss: 0.0442 - binary_accuracy: 0.9841 - auc: 0.9809\n",
      "save object to /tf/eipi10/xuxiangwen.github.io/_notes/05-ai/54-tensorflow/models/tox_16k_c6/toxicity_16k_0330/pooled_gru_fasttext_glove.predictor\n",
      "--------------------------------------------------------------------------------\n",
      "test loss:0.0442\n",
      "test binary_accuracy:0.9841\n",
      "test auc:0.9862\n",
      "-------------------------------------------------- all models --------------------------------------------------\n"
     ]
    },
    {
     "data": {
      "text/html": [
       "<div>\n",
       "<style scoped>\n",
       "    .dataframe tbody tr th:only-of-type {\n",
       "        vertical-align: middle;\n",
       "    }\n",
       "\n",
       "    .dataframe tbody tr th {\n",
       "        vertical-align: top;\n",
       "    }\n",
       "\n",
       "    .dataframe thead th {\n",
       "        text-align: right;\n",
       "    }\n",
       "</style>\n",
       "<table border=\"1\" class=\"dataframe\">\n",
       "  <thead>\n",
       "    <tr style=\"text-align: right;\">\n",
       "      <th></th>\n",
       "      <th>weight_number</th>\n",
       "      <th>train_time</th>\n",
       "      <th>train_loss</th>\n",
       "      <th>test_loss</th>\n",
       "      <th>train_binary_accuracy</th>\n",
       "      <th>test_binary_accuracy</th>\n",
       "      <th>train_auc</th>\n",
       "      <th>test_auc</th>\n",
       "    </tr>\n",
       "  </thead>\n",
       "  <tbody>\n",
       "    <tr>\n",
       "      <th>pooled_gru_fasttext_glove</th>\n",
       "      <td>15868806</td>\n",
       "      <td>2079.0</td>\n",
       "      <td>0.0304</td>\n",
       "      <td>0.0442</td>\n",
       "      <td>0.9881</td>\n",
       "      <td>0.9841</td>\n",
       "      <td>0.9941</td>\n",
       "      <td>0.9862</td>\n",
       "    </tr>\n",
       "    <tr>\n",
       "      <th>pooled_gru_fasttext</th>\n",
       "      <td>9676806</td>\n",
       "      <td>2334.0</td>\n",
       "      <td>0.0368</td>\n",
       "      <td>0.0454</td>\n",
       "      <td>0.9858</td>\n",
       "      <td>0.9832</td>\n",
       "      <td>0.9907</td>\n",
       "      <td>0.9868</td>\n",
       "    </tr>\n",
       "    <tr>\n",
       "      <th>pooled_gru_glove</th>\n",
       "      <td>6580806</td>\n",
       "      <td>2475.0</td>\n",
       "      <td>0.0365</td>\n",
       "      <td>0.0454</td>\n",
       "      <td>0.9856</td>\n",
       "      <td>0.9832</td>\n",
       "      <td>0.9906</td>\n",
       "      <td>0.9854</td>\n",
       "    </tr>\n",
       "    <tr>\n",
       "      <th>mlp</th>\n",
       "      <td>7681798</td>\n",
       "      <td>243.0</td>\n",
       "      <td>0.0534</td>\n",
       "      <td>0.0644</td>\n",
       "      <td>0.9815</td>\n",
       "      <td>0.9780</td>\n",
       "      <td>0.9717</td>\n",
       "      <td>0.9581</td>\n",
       "    </tr>\n",
       "    <tr>\n",
       "      <th>embedding</th>\n",
       "      <td>6001406</td>\n",
       "      <td>699.0</td>\n",
       "      <td>0.0704</td>\n",
       "      <td>0.0869</td>\n",
       "      <td>0.9764</td>\n",
       "      <td>0.9736</td>\n",
       "      <td>0.9556</td>\n",
       "      <td>0.9430</td>\n",
       "    </tr>\n",
       "    <tr>\n",
       "      <th>embedding_pretrain</th>\n",
       "      <td>9001806</td>\n",
       "      <td>120.0</td>\n",
       "      <td>0.1021</td>\n",
       "      <td>0.1107</td>\n",
       "      <td>0.9662</td>\n",
       "      <td>0.9638</td>\n",
       "      <td>0.8400</td>\n",
       "      <td>0.8274</td>\n",
       "    </tr>\n",
       "  </tbody>\n",
       "</table>\n",
       "</div>"
      ],
      "text/plain": [
       "                           weight_number  train_time  train_loss  test_loss  \\\n",
       "pooled_gru_fasttext_glove       15868806      2079.0      0.0304     0.0442   \n",
       "pooled_gru_fasttext              9676806      2334.0      0.0368     0.0454   \n",
       "pooled_gru_glove                 6580806      2475.0      0.0365     0.0454   \n",
       "mlp                              7681798       243.0      0.0534     0.0644   \n",
       "embedding                        6001406       699.0      0.0704     0.0869   \n",
       "embedding_pretrain               9001806       120.0      0.1021     0.1107   \n",
       "\n",
       "                           train_binary_accuracy  test_binary_accuracy  \\\n",
       "pooled_gru_fasttext_glove                 0.9881                0.9841   \n",
       "pooled_gru_fasttext                       0.9858                0.9832   \n",
       "pooled_gru_glove                          0.9856                0.9832   \n",
       "mlp                                       0.9815                0.9780   \n",
       "embedding                                 0.9764                0.9736   \n",
       "embedding_pretrain                        0.9662                0.9638   \n",
       "\n",
       "                           train_auc  test_auc  \n",
       "pooled_gru_fasttext_glove     0.9941    0.9862  \n",
       "pooled_gru_fasttext           0.9907    0.9868  \n",
       "pooled_gru_glove              0.9906    0.9854  \n",
       "mlp                           0.9717    0.9581  \n",
       "embedding                     0.9556    0.9430  \n",
       "embedding_pretrain            0.8400    0.8274  "
      ]
     },
     "metadata": {},
     "output_type": "display_data"
    },
    {
     "name": "stdout",
     "output_type": "stream",
     "text": [
      "save json to ./models/tox_16k_c6/toxicity_16k_0330/model_results.json\n"
     ]
    }
   ],
   "source": [
    "helper = TextClassificationHelper(params, model_results=model_results, datasets=sequence_datasets)\n",
    "model = get_pooled_gru(helper, name='pooled_gru_fasttext_glove',  embedding_matrix=embedding_matrix_fasttext_glove, \n",
    "                       is_embedding_trainable=False)\n",
    "model.summary()\n",
    "history = helper.train(model)\n",
    "helper.model_summary(model, history=history)"
   ]
  },
  {
   "cell_type": "markdown",
   "metadata": {
    "ExecuteTime": {
     "end_time": "2021-04-07T06:46:35.628788Z",
     "start_time": "2021-04-07T06:34:43.509Z"
    }
   },
   "source": [
    "### Pooled GRU Pro\n",
    "\n",
    "https://www.kaggle.com/larryfreeman/toxic-comments-code-for-alexander-s-9872-model/#data"
   ]
  },
  {
   "cell_type": "code",
   "execution_count": 64,
   "metadata": {
    "ExecuteTime": {
     "end_time": "2021-04-15T03:10:32.701986Z",
     "start_time": "2021-04-15T03:10:31.017133Z"
    }
   },
   "outputs": [],
   "source": [
    "def get_pooled_gru_pro(helper, name='pooled_gru', \n",
    "             dropout=None, \n",
    "             is_embedding_trainable=False,\n",
    "             embedding_matrix=None,\n",
    "             mask_zero=False\n",
    "            ):\n",
    "    if dropout is None:\n",
    "        dropout = helper.get_model_param(name, 'dropout')   \n",
    "\n",
    "    units = helper.get_model_param(name, 'units')\n",
    "    max_features = helper.get_model_param(name, 'max_features')\n",
    "    embedding_dim = helper.get_model_param(name, 'embedding_dim') \n",
    "    \n",
    "    input = layers.Input(shape=helper.datasets.input_shape)\n",
    "    if embedding_matrix is None:\n",
    "        x = layers.Embedding(input_dim=max_features+1, output_dim=embedding_dim)(input)\n",
    "    else:\n",
    "        num_features, embedding_dim = embedding_matrix.shape\n",
    "        x = layers.Embedding(input_dim=num_features,\n",
    "                             output_dim=embedding_dim,\n",
    "                             weights=[embedding_matrix],\n",
    "                             trainable=is_embedding_trainable,\n",
    "                             mask_zero=mask_zero\n",
    "                            )(input)      \n",
    "    x = layers.SpatialDropout1D(dropout)(x)\n",
    "    \n",
    "    x, x_h, x_c = layers.Bidirectional(layers.GRU(units, return_sequences=True, return_state = True))(x)\n",
    "    x = layers.GRU(units, return_sequences=True)(x)\n",
    "    avg_pool = layers.GlobalAveragePooling1D()(x)\n",
    "    max_pool = layers.GlobalMaxPooling1D()(x)\n",
    "    x = layers.concatenate([avg_pool, x_h, max_pool])\n",
    "\n",
    "    x = layers.Dense(len(helper.params.classes), activation='sigmoid')(x)  \n",
    "    model = Model(inputs=input, outputs=x, name=name) \n",
    "    helper.compile(model)      \n",
    "    return model \n"
   ]
  },
  {
   "cell_type": "code",
   "execution_count": 65,
   "metadata": {
    "ExecuteTime": {
     "end_time": "2021-04-15T03:59:41.646398Z",
     "start_time": "2021-04-15T03:10:32.704272Z"
    },
    "scrolled": false
   },
   "outputs": [
    {
     "name": "stdout",
     "output_type": "stream",
     "text": [
      "model_params.pooled_gru_pro_ft_glove.dropout=0.3\n",
      "model_params.pooled_gru_pro_ft_glove.units=160\n",
      "max_features=30000\n",
      "model_params.pooled_gru_pro_ft_glove.embedding_dim=300\n",
      "model_params.pooled_gru_pro_ft_glove.learning_rate=0.0005\n",
      "clip_value=1.0\n",
      "checkpoint_path=./models/tox_16k_c6/toxicity_16k_0330/pooled_gru_pro_ft_glove\n",
      "Model: \"pooled_gru_pro_ft_glove\"\n",
      "__________________________________________________________________________________________________\n",
      "Layer (type)                    Output Shape         Param #     Connected to                     \n",
      "==================================================================================================\n",
      "input_8 (InputLayer)            [(None, 100)]        0                                            \n",
      "__________________________________________________________________________________________________\n",
      "embedding_9 (Embedding)         (None, 100, 500)     15000000    input_8[0][0]                    \n",
      "__________________________________________________________________________________________________\n",
      "spatial_dropout1d_3 (SpatialDro (None, 100, 500)     0           embedding_9[0][0]                \n",
      "__________________________________________________________________________________________________\n",
      "bidirectional_5 (Bidirectional) [(None, 100, 320), ( 635520      spatial_dropout1d_3[0][0]        \n",
      "__________________________________________________________________________________________________\n",
      "gru_7 (GRU)                     (None, 100, 160)     231360      bidirectional_5[0][0]            \n",
      "__________________________________________________________________________________________________\n",
      "global_average_pooling1d_6 (Glo (None, 160)          0           gru_7[0][0]                      \n",
      "__________________________________________________________________________________________________\n",
      "global_max_pooling1d_3 (GlobalM (None, 160)          0           gru_7[0][0]                      \n",
      "__________________________________________________________________________________________________\n",
      "concatenate_3 (Concatenate)     (None, 480)          0           global_average_pooling1d_6[0][0] \n",
      "                                                                 bidirectional_5[0][1]            \n",
      "                                                                 global_max_pooling1d_3[0][0]     \n",
      "__________________________________________________________________________________________________\n",
      "dense_10 (Dense)                (None, 6)            2886        concatenate_3[0][0]              \n",
      "==================================================================================================\n",
      "Total params: 15,869,766\n",
      "Trainable params: 869,766\n",
      "Non-trainable params: 15,000,000\n",
      "__________________________________________________________________________________________________\n",
      "model_params.pooled_gru_pro_ft_glove.epochs=8\n",
      "use ModelCheckpoint(filepath=./models/tox_16k_c6/toxicity_16k_0330/pooled_gru_pro_ft_glove, monitor=val_binary_accuracy)\n",
      "use EarlyStopping(monitor=val_binary_accuracy, patience=40)\n",
      "use ReduceLROnPlateau(monitor=val_loss, factor=0.31622776601683794, patience=15)\n",
      "use LearningRateScheduler()\n",
      "4737/4737 [==============================] - 149s 31ms/step - loss: 0.7038 - binary_accuracy: 0.6385 - auc: 0.5278\n",
      "250/250 [==============================] - 6s 23ms/step - loss: 0.7037 - binary_accuracy: 0.6212 - auc: 0.4797\n",
      "1\n",
      "save predictor into /tf/eipi10/xuxiangwen.github.io/_notes/05-ai/54-tensorflow/models/tox_16k_c6/toxicity_16k_0330/pooled_gru_pro_ft_glove.predictor\n",
      "save object to /tf/eipi10/xuxiangwen.github.io/_notes/05-ai/54-tensorflow/models/tox_16k_c6/toxicity_16k_0330/pooled_gru_pro_ft_glove.predictor\n",
      "--------------------------------------------------------------------------------\n",
      "test loss:0.7037\n",
      "test binary_accuracy:0.6212\n"
     ]
    },
    {
     "name": "stderr",
     "output_type": "stream",
     "text": [
      "2021-04-15 11:15:22,715: INFO: start training\n"
     ]
    },
    {
     "name": "stdout",
     "output_type": "stream",
     "text": [
      "test auc:0.4794\n",
      "use_class_weight=None\n",
      "class_weight=None\n",
      "Epoch 00001: Still keep learning rate 0.0005 instead of 0.001\n",
      "Epoch 1/8\n",
      "4737/4737 [==============================] - ETA: 0s - loss: 0.0525 - binary_accuracy: 0.9812 - auc: 0.9598INFO:tensorflow:Assets written to: ./models/tox_16k_c6/toxicity_16k_0330/pooled_gru_pro_ft_glove/assets\n"
     ]
    },
    {
     "name": "stderr",
     "output_type": "stream",
     "text": [
      "2021-04-15 11:20:23,817: INFO: Assets written to: ./models/tox_16k_c6/toxicity_16k_0330/pooled_gru_pro_ft_glove/assets\n"
     ]
    },
    {
     "name": "stdout",
     "output_type": "stream",
     "text": [
      "4737/4737 [==============================] - 297s 63ms/step - loss: 0.0525 - binary_accuracy: 0.9812 - auc: 0.9598 - val_loss: 0.0475 - val_binary_accuracy: 0.9818 - val_auc: 0.9740\n",
      "Epoch 00002: Still keep learning rate 0.0005 instead of 0.001\n",
      "Epoch 2/8\n",
      "4737/4737 [==============================] - ETA: 0s - loss: 0.0437 - binary_accuracy: 0.9835 - auc: 0.9769INFO:tensorflow:Assets written to: ./models/tox_16k_c6/toxicity_16k_0330/pooled_gru_pro_ft_glove/assets\n"
     ]
    },
    {
     "name": "stderr",
     "output_type": "stream",
     "text": [
      "2021-04-15 11:24:55,551: INFO: Assets written to: ./models/tox_16k_c6/toxicity_16k_0330/pooled_gru_pro_ft_glove/assets\n"
     ]
    },
    {
     "name": "stdout",
     "output_type": "stream",
     "text": [
      "4737/4737 [==============================] - 271s 57ms/step - loss: 0.0437 - binary_accuracy: 0.9835 - auc: 0.9769 - val_loss: 0.0466 - val_binary_accuracy: 0.9830 - val_auc: 0.9795\n",
      "Epoch 00003: Still keep learning rate 0.0005 instead of 0.001\n",
      "Epoch 3/8\n",
      "4737/4737 [==============================] - 278s 59ms/step - loss: 0.0409 - binary_accuracy: 0.9845 - auc: 0.9804 - val_loss: 0.0460 - val_binary_accuracy: 0.9824 - val_auc: 0.9813\n",
      "Epoch 00004: Still keep learning rate 0.0005 instead of 0.001\n",
      "Epoch 4/8\n",
      "4737/4737 [==============================] - ETA: 0s - loss: 0.0387 - binary_accuracy: 0.9853 - auc: 0.9823INFO:tensorflow:Assets written to: ./models/tox_16k_c6/toxicity_16k_0330/pooled_gru_pro_ft_glove/assets\n"
     ]
    },
    {
     "name": "stderr",
     "output_type": "stream",
     "text": [
      "2021-04-15 11:34:25,337: INFO: Assets written to: ./models/tox_16k_c6/toxicity_16k_0330/pooled_gru_pro_ft_glove/assets\n"
     ]
    },
    {
     "name": "stdout",
     "output_type": "stream",
     "text": [
      "4737/4737 [==============================] - 291s 61ms/step - loss: 0.0387 - binary_accuracy: 0.9853 - auc: 0.9823 - val_loss: 0.0446 - val_binary_accuracy: 0.9833 - val_auc: 0.9812\n",
      "Epoch 00005: Still keep learning rate 0.0005 instead of 0.001\n",
      "Epoch 5/8\n",
      "4737/4737 [==============================] - 248s 52ms/step - loss: 0.0361 - binary_accuracy: 0.9860 - auc: 0.9860 - val_loss: 0.0453 - val_binary_accuracy: 0.9831 - val_auc: 0.9791\n",
      "Epoch 00006: Still keep learning rate 0.0005 instead of 0.001\n",
      "Epoch 6/8\n",
      "4737/4737 [==============================] - ETA: 0s - loss: 0.0335 - binary_accuracy: 0.9870 - auc: 0.9878INFO:tensorflow:Assets written to: ./models/tox_16k_c6/toxicity_16k_0330/pooled_gru_pro_ft_glove/assets\n"
     ]
    },
    {
     "name": "stderr",
     "output_type": "stream",
     "text": [
      "2021-04-15 11:44:20,477: INFO: Assets written to: ./models/tox_16k_c6/toxicity_16k_0330/pooled_gru_pro_ft_glove/assets\n"
     ]
    },
    {
     "name": "stdout",
     "output_type": "stream",
     "text": [
      "4737/4737 [==============================] - 346s 73ms/step - loss: 0.0335 - binary_accuracy: 0.9870 - auc: 0.9878 - val_loss: 0.0455 - val_binary_accuracy: 0.9836 - val_auc: 0.9742\n",
      "Epoch 00007: Still keep learning rate 0.0005 instead of 0.001\n",
      "Epoch 7/8\n",
      "4737/4737 [==============================] - 280s 59ms/step - loss: 0.0308 - binary_accuracy: 0.9879 - auc: 0.9904 - val_loss: 0.0475 - val_binary_accuracy: 0.9834 - val_auc: 0.9728\n",
      "Epoch 00008: Still keep learning rate 0.0005 instead of 0.001\n",
      "Epoch 8/8\n",
      "4737/4737 [==============================] - 310s 66ms/step - loss: 0.0280 - binary_accuracy: 0.9892 - auc: 0.9916 - val_loss: 0.0488 - val_binary_accuracy: 0.9827 - val_auc: 0.9761\n"
     ]
    },
    {
     "name": "stderr",
     "output_type": "stream",
     "text": [
      "2021-04-15 11:54:12,322: INFO: finish training [elapsed time: 2329.61 seconds]\n"
     ]
    },
    {
     "data": {
      "image/png": "[encoded data removed]",
      "text/plain": [
       "<Figure size 1152x360 with 2 Axes>"
      ]
     },
     "metadata": {
      "needs_background": "light"
     },
     "output_type": "display_data"
    },
    {
     "name": "stdout",
     "output_type": "stream",
     "text": [
      "---------------------------------------- evaluate ----------------------------------------\n",
      "load best checkpoint from ./models/tox_16k_c6/toxicity_16k_0330/pooled_gru_pro_ft_glove\n",
      "model_params.pooled_gru_pro_ft_glove.learning_rate=0.0005\n",
      "clip_value=1.0\n",
      "checkpoint_path=./models/tox_16k_c6/toxicity_16k_0330/pooled_gru_pro_ft_glove\n",
      "4737/4737 [==============================] - 165s 35ms/step - loss: 0.0269 - binary_accuracy: 0.9895 - auc: 0.9922\n",
      "250/250 [==============================] - 12s 48ms/step - loss: 0.0455 - binary_accuracy: 0.9836 - auc: 0.9742\n",
      "1\n",
      "save predictor into /tf/eipi10/xuxiangwen.github.io/_notes/05-ai/54-tensorflow/models/tox_16k_c6/toxicity_16k_0330/pooled_gru_pro_ft_glove.predictor\n",
      "save object to /tf/eipi10/xuxiangwen.github.io/_notes/05-ai/54-tensorflow/models/tox_16k_c6/toxicity_16k_0330/pooled_gru_pro_ft_glove.predictor\n",
      "--------------------------------------------------------------------------------\n",
      "test loss:0.0455\n",
      "test binary_accuracy:0.9836\n",
      "test auc:0.9865\n",
      "-------------------------------------------------- all models --------------------------------------------------\n"
     ]
    },
    {
     "data": {
      "text/html": [
       "<div>\n",
       "<style scoped>\n",
       "    .dataframe tbody tr th:only-of-type {\n",
       "        vertical-align: middle;\n",
       "    }\n",
       "\n",
       "    .dataframe tbody tr th {\n",
       "        vertical-align: top;\n",
       "    }\n",
       "\n",
       "    .dataframe thead th {\n",
       "        text-align: right;\n",
       "    }\n",
       "</style>\n",
       "<table border=\"1\" class=\"dataframe\">\n",
       "  <thead>\n",
       "    <tr style=\"text-align: right;\">\n",
       "      <th></th>\n",
       "      <th>weight_number</th>\n",
       "      <th>train_time</th>\n",
       "      <th>train_loss</th>\n",
       "      <th>test_loss</th>\n",
       "      <th>train_binary_accuracy</th>\n",
       "      <th>test_binary_accuracy</th>\n",
       "      <th>train_auc</th>\n",
       "      <th>test_auc</th>\n",
       "    </tr>\n",
       "  </thead>\n",
       "  <tbody>\n",
       "    <tr>\n",
       "      <th>pooled_gru_fasttext_glove</th>\n",
       "      <td>15868806</td>\n",
       "      <td>2079.0</td>\n",
       "      <td>0.0304</td>\n",
       "      <td>0.0442</td>\n",
       "      <td>0.9881</td>\n",
       "      <td>0.9841</td>\n",
       "      <td>0.9941</td>\n",
       "      <td>0.9862</td>\n",
       "    </tr>\n",
       "    <tr>\n",
       "      <th>pooled_gru_pro_ft_glove</th>\n",
       "      <td>15869766</td>\n",
       "      <td>2329.0</td>\n",
       "      <td>0.0269</td>\n",
       "      <td>0.0455</td>\n",
       "      <td>0.9895</td>\n",
       "      <td>0.9836</td>\n",
       "      <td>0.9959</td>\n",
       "      <td>0.9865</td>\n",
       "    </tr>\n",
       "    <tr>\n",
       "      <th>pooled_gru_fasttext</th>\n",
       "      <td>9676806</td>\n",
       "      <td>2334.0</td>\n",
       "      <td>0.0368</td>\n",
       "      <td>0.0454</td>\n",
       "      <td>0.9858</td>\n",
       "      <td>0.9832</td>\n",
       "      <td>0.9907</td>\n",
       "      <td>0.9868</td>\n",
       "    </tr>\n",
       "    <tr>\n",
       "      <th>pooled_gru_glove</th>\n",
       "      <td>6580806</td>\n",
       "      <td>2475.0</td>\n",
       "      <td>0.0365</td>\n",
       "      <td>0.0454</td>\n",
       "      <td>0.9856</td>\n",
       "      <td>0.9832</td>\n",
       "      <td>0.9906</td>\n",
       "      <td>0.9854</td>\n",
       "    </tr>\n",
       "    <tr>\n",
       "      <th>mlp</th>\n",
       "      <td>7681798</td>\n",
       "      <td>243.0</td>\n",
       "      <td>0.0534</td>\n",
       "      <td>0.0644</td>\n",
       "      <td>0.9815</td>\n",
       "      <td>0.9780</td>\n",
       "      <td>0.9717</td>\n",
       "      <td>0.9581</td>\n",
       "    </tr>\n",
       "    <tr>\n",
       "      <th>embedding</th>\n",
       "      <td>6001406</td>\n",
       "      <td>699.0</td>\n",
       "      <td>0.0704</td>\n",
       "      <td>0.0869</td>\n",
       "      <td>0.9764</td>\n",
       "      <td>0.9736</td>\n",
       "      <td>0.9556</td>\n",
       "      <td>0.9430</td>\n",
       "    </tr>\n",
       "    <tr>\n",
       "      <th>embedding_pretrain</th>\n",
       "      <td>9001806</td>\n",
       "      <td>120.0</td>\n",
       "      <td>0.1021</td>\n",
       "      <td>0.1107</td>\n",
       "      <td>0.9662</td>\n",
       "      <td>0.9638</td>\n",
       "      <td>0.8400</td>\n",
       "      <td>0.8274</td>\n",
       "    </tr>\n",
       "  </tbody>\n",
       "</table>\n",
       "</div>"
      ],
      "text/plain": [
       "                           weight_number  train_time  train_loss  test_loss  \\\n",
       "pooled_gru_fasttext_glove       15868806      2079.0      0.0304     0.0442   \n",
       "pooled_gru_pro_ft_glove         15869766      2329.0      0.0269     0.0455   \n",
       "pooled_gru_fasttext              9676806      2334.0      0.0368     0.0454   \n",
       "pooled_gru_glove                 6580806      2475.0      0.0365     0.0454   \n",
       "mlp                              7681798       243.0      0.0534     0.0644   \n",
       "embedding                        6001406       699.0      0.0704     0.0869   \n",
       "embedding_pretrain               9001806       120.0      0.1021     0.1107   \n",
       "\n",
       "                           train_binary_accuracy  test_binary_accuracy  \\\n",
       "pooled_gru_fasttext_glove                 0.9881                0.9841   \n",
       "pooled_gru_pro_ft_glove                   0.9895                0.9836   \n",
       "pooled_gru_fasttext                       0.9858                0.9832   \n",
       "pooled_gru_glove                          0.9856                0.9832   \n",
       "mlp                                       0.9815                0.9780   \n",
       "embedding                                 0.9764                0.9736   \n",
       "embedding_pretrain                        0.9662                0.9638   \n",
       "\n",
       "                           train_auc  test_auc  \n",
       "pooled_gru_fasttext_glove     0.9941    0.9862  \n",
       "pooled_gru_pro_ft_glove       0.9959    0.9865  \n",
       "pooled_gru_fasttext           0.9907    0.9868  \n",
       "pooled_gru_glove              0.9906    0.9854  \n",
       "mlp                           0.9717    0.9581  \n",
       "embedding                     0.9556    0.9430  \n",
       "embedding_pretrain            0.8400    0.8274  "
      ]
     },
     "metadata": {},
     "output_type": "display_data"
    },
    {
     "name": "stdout",
     "output_type": "stream",
     "text": [
      "save json to ./models/tox_16k_c6/toxicity_16k_0330/model_results.json\n"
     ]
    }
   ],
   "source": [
    "helper = TextClassificationHelper(params, model_results=model_results, datasets=sequence_datasets)\n",
    "model = get_pooled_gru_pro(helper, name='pooled_gru_pro_ft_glove',  embedding_matrix=embedding_matrix_fasttext_glove, \n",
    "                       is_embedding_trainable=False)\n",
    "model.summary()\n",
    "history = helper.train(model)\n",
    "helper.model_summary(model, history=history)"
   ]
  },
  {
   "cell_type": "markdown",
   "metadata": {},
   "source": [
    "## 参考\n",
    "\n",
    "- [Text classification Guide](https://developers.google.com/machine-learning/guides/text-classification)"
   ]
  }
 ],
 "metadata": {
  "kernelspec": {
   "display_name": "Python 3",
   "language": "python",
   "name": "python3"
  },
  "language_info": {
   "codemirror_mode": {
    "name": "ipython",
    "version": 3
   },
   "file_extension": ".py",
   "mimetype": "text/x-python",
   "name": "python",
   "nbconvert_exporter": "python",
   "pygments_lexer": "ipython3",
   "version": "3.6.9"
  },
  "toc": {
   "base_numbering": 1,
   "nav_menu": {},
   "number_sections": true,
   "sideBar": true,
   "skip_h1_title": false,
   "title_cell": "Table of Contents",
   "title_sidebar": "Contents",
   "toc_cell": false,
   "toc_position": {
    "height": "calc(100% - 180px)",
    "left": "10px",
    "top": "150px",
    "width": "320.938px"
   },
   "toc_section_display": true,
   "toc_window_display": true
  }
 },
 "nbformat": 4,
 "nbformat_minor": 4
}
