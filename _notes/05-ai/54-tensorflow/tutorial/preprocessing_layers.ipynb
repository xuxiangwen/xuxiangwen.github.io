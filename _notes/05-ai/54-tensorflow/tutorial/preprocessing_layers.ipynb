{
 "cells": [
  {
   "cell_type": "markdown",
   "metadata": {
    "id": "b518b04cbfe0"
   },
   "source": [
    "##### Copyright 2020 The TensorFlow Authors."
   ]
  },
  {
   "cell_type": "code",
   "execution_count": 1,
   "metadata": {
    "cellView": "form",
    "execution": {
     "iopub.execute_input": "2020-10-02T16:19:08.774855Z",
     "iopub.status.busy": "2020-10-02T16:19:08.774198Z",
     "iopub.status.idle": "2020-10-02T16:19:08.776166Z",
     "shell.execute_reply": "2020-10-02T16:19:08.776535Z"
    },
    "id": "906e07f6e562"
   },
   "outputs": [],
   "source": [
    "#@title Licensed under the Apache License, Version 2.0 (the \"License\");\n",
    "# you may not use this file except in compliance with the License.\n",
    "# You may obtain a copy of the License at\n",
    "#\n",
    "# https://www.apache.org/licenses/LICENSE-2.0\n",
    "#\n",
    "# Unless required by applicable law or agreed to in writing, software\n",
    "# distributed under the License is distributed on an \"AS IS\" BASIS,\n",
    "# WITHOUT WARRANTIES OR CONDITIONS OF ANY KIND, either express or implied.\n",
    "# See the License for the specific language governing permissions and\n",
    "# limitations under the License."
   ]
  },
  {
   "cell_type": "markdown",
   "metadata": {
    "id": "6e083398b477"
   },
   "source": [
    "# Working with preprocessing layers"
   ]
  },
  {
   "cell_type": "markdown",
   "metadata": {
    "id": "64010bd23c2e"
   },
   "source": [
    "<table class=\"tfo-notebook-buttons\" align=\"left\">\n",
    "  <td>\n",
    "    <a target=\"_blank\" href=\"https://www.tensorflow.org/guide/keras/preprocessing_layers\"><img src=\"https://www.tensorflow.org/images/tf_logo_32px.png\" />View on TensorFlow.org</a>\n",
    "  </td>\n",
    "  <td>\n",
    "    <a target=\"_blank\" href=\"https://colab.research.google.com/github/tensorflow/docs/blob/snapshot-keras/site/en/guide/keras/preprocessing_layers.ipynb\"><img src=\"https://www.tensorflow.org/images/colab_logo_32px.png\" />Run in Google Colab</a>\n",
    "  </td>\n",
    "  <td>\n",
    "    <a target=\"_blank\" href=\"https://github.com/keras-team/keras-io/blob/master/guides/preprocessing_layers.py\"><img src=\"https://www.tensorflow.org/images/GitHub-Mark-32px.png\" />View source on GitHub</a>\n",
    "  </td>\n",
    "  <td>\n",
    "    <a href=\"https://storage.googleapis.com/tensorflow_docs/docs/site/en/guide/keras/preprocessing_layers.ipynb\"><img src=\"https://www.tensorflow.org/images/download_logo_32px.png\" />Download notebook</a>\n",
    "  </td>\n",
    "</table>"
   ]
  },
  {
   "cell_type": "markdown",
   "metadata": {
    "id": "5387d1418bf5"
   },
   "source": [
    "## Keras preprocessing layers\n",
    "\n",
    "The Keras preprocessing layers API allows developers to build Keras-native input\n",
    "processing pipelines. These input processing pipelines can be used as independent\n",
    "preprocessing code in non-Keras workflows, combined directly with Keras models, and\n",
    "exported as part of a Keras SavedModel.\n",
    "\n",
    "With Keras preprocessing layers, you can build and export models that are truly\n",
    "end-to-end: models that accept raw images or raw structured data as input; models that\n",
    "handle feature normalization or feature value indexing on their own."
   ]
  },
  {
   "cell_type": "markdown",
   "metadata": {
    "id": "5808993b2aa9"
   },
   "source": [
    "## Available preprocessing layers\n",
    "\n",
    "### Core preprocessing layers\n",
    "\n",
    "- `TextVectorization` layer: turns raw strings into an encoded representation that can be\n",
    "read by an `Embedding` layer or `Dense` layer.\n",
    "- `Normalization` layer: performs feature-wise normalize of input features.\n",
    "\n",
    "### Structured data preprocessing layers\n",
    "\n",
    "These layers are for structured data encoding and feature engineering.\n",
    "\n",
    "- `CategoryEncoding` layer: turns integer categorical features into one-hot, multi-hot,\n",
    "or TF-IDF dense representations.\n",
    "- `Hashing` layer: performs categorical feature hashing, also known as the \"hashing\n",
    "trick\".\n",
    "- `Discretization` layer: turns continuous numerical features into integer categorical\n",
    "features.\n",
    "- `StringLookup` layer: turns string categorical values into integers indices.\n",
    "- `IntegerLookup` layer: turns integer categorical values into integers indices.\n",
    "- `CategoryCrossing` layer: combines categorical features into co-occurrence features.\n",
    "E.g. if you have feature values \"a\" and \"b\", it can provide with the combination feature\n",
    "\"a and b are present at the same time\".\n",
    "\n",
    "### Image preprocessing layers\n",
    "\n",
    "These layers are for standardizing the inputs of an image model.\n",
    "\n",
    "- `Resizing` layer: resizes a batch of images to a target size.\n",
    "- `Rescaling` layer: rescales and offsets the values of a batch of image (e.g. go from\n",
    "inputs in the `[0, 255]` range to inputs in the `[0, 1]` range.\n",
    "- `CenterCrop` layer: returns a center crop if a batch of images.\n",
    "\n",
    "### Image data augmentation layers\n",
    "\n",
    "These layers apply random augmentation transforms to a batch of images. They\n",
    "are only active during training.\n",
    "\n",
    "- `RandomCrop` layer\n",
    "- `RandomFlip` layer\n",
    "- `RandomTranslation` layer\n",
    "- `RandomRotation` layer\n",
    "- `RandomZoom` layer\n",
    "- `RandomHeight` layer\n",
    "- `RandomWidth` layer"
   ]
  },
  {
   "cell_type": "markdown",
   "metadata": {
    "id": "672e84af6eb7"
   },
   "source": [
    "## The `adapt()` method\n",
    "\n",
    "Some preprocessing layers have an internal state that must be computed based on\n",
    "a sample of the training data. The list of stateful preprocessing layers is:\n",
    "\n",
    "- `TextVectorization`: holds a mapping between string tokens and integer indices\n",
    "- `Normalization`: holds the mean and standard deviation of the features\n",
    "- `StringLookup` and `IntegerLookup`: hold a mapping between input values and output\n",
    "indices.\n",
    "- `CategoryEncoding`: holds an index of input values.\n",
    "- `Discretization`: holds information about value bucket boundaries.\n",
    "\n",
    "Crucially, these layers are **non-trainable**. Their state is not set during training; it\n",
    "must be set **before training**, a step called \"adaptation\".\n",
    "\n",
    "You set the state of a preprocessing layer by exposing it to training data, via the\n",
    "`adapt()` method:"
   ]
  },
  {
   "cell_type": "code",
   "execution_count": 3,
   "metadata": {
    "execution": {
     "iopub.execute_input": "2020-10-02T16:19:08.782460Z",
     "iopub.status.busy": "2020-10-02T16:19:08.781748Z",
     "iopub.status.idle": "2020-10-02T16:19:16.555776Z",
     "shell.execute_reply": "2020-10-02T16:19:16.556258Z"
    },
    "id": "e05c8fc4d032"
   },
   "outputs": [
    {
     "name": "stdout",
     "output_type": "stream",
     "text": [
      "Features mean: 0.00\n",
      "Features std: 1.00\n",
      "[[-1.2247449 -1.2247449 -1.2247449]\n",
      " [ 0.         0.         0.       ]\n",
      " [ 1.2247449  1.224745   1.224745 ]]\n"
     ]
    }
   ],
   "source": [
    "import numpy as np\n",
    "import tensorflow as tf\n",
    "from tensorflow.keras.layers.experimental import preprocessing\n",
    "\n",
    "data = np.array([[0.1, 0.2, 0.3], [0.8, 0.9, 1.0], [1.5, 1.6, 1.7],])\n",
    "layer = preprocessing.Normalization()\n",
    "layer.adapt(data)\n",
    "normalized_data = layer(data)\n",
    "\n",
    "print(\"Features mean: %.2f\" % (normalized_data.numpy().mean()))\n",
    "print(\"Features std: %.2f\" % (normalized_data.numpy().std()))\n",
    "print(normalized_data.numpy())"
   ]
  },
  {
   "cell_type": "markdown",
   "metadata": {
    "id": "d43b8246b8a3"
   },
   "source": [
    "The `adapt()` method takes either a Numpy array or a `tf.data.Dataset` object. In the\n",
    "case of `StringLookup` and `TextVectorization`, you can also pass a list of strings:"
   ]
  },
  {
   "cell_type": "code",
   "execution_count": 22,
   "metadata": {
    "execution": {
     "iopub.execute_input": "2020-10-02T16:19:16.570553Z",
     "iopub.status.busy": "2020-10-02T16:19:16.564569Z",
     "iopub.status.idle": "2020-10-02T16:19:16.597545Z",
     "shell.execute_reply": "2020-10-02T16:19:16.598073Z"
    },
    "id": "74ef94620592",
    "scrolled": false
   },
   "outputs": [
    {
     "name": "stdout",
     "output_type": "stream",
     "text": [
      "tf.Tensor(\n",
      "[[37 12 25  5  9 20 21  0  0]\n",
      " [51 34 27 33 29 18  0  0  0]\n",
      " [49 52 30 31 19 46 10  0  0]\n",
      " [ 7  5 50 43 28  7 47 17  0]\n",
      " [24 35 39 40  3  6 32 16  0]\n",
      " [ 4  2 15 14 22 23  0  0  0]\n",
      " [36 48  6 38 42  3 45  0  0]\n",
      " [ 4  2 13 41 53  8 44 26 11]], shape=(8, 9), dtype=int64)\n",
      "----------------------------------------------------------------------------------------------------\n",
      "(8, 26)\n",
      "tf.Tensor(\n",
      "[[ 6 14 51 61  5 63 13 56  2 12  9 52  2 12  9 53  0  0  0  0  0  0  0  0\n",
      "   0  0]\n",
      " [32 42 57 55  5 44 41 71 59 31 48 76 79 58 27 11 37 38 45 27 11 37 38 46\n",
      "   0  0]\n",
      " [32 35  3 30  4 10  8 39 70  8 22 31  2 12 77 14 78 75  3 30 40 49 69  8\n",
      "   5 16]\n",
      " [ 6  3 39 23 13 33 29 23 13 33 29  0  0  0  0  0  0  0  0  0  0  0  0  0\n",
      "   0  0]\n",
      " [14 80 82 22 11 35 11  5 16 24 18  4 10 24 18  4 10  0  0  0  0  0  0  0\n",
      "   0  0]\n",
      " [ 6  3  5 66 17 36 34  9 21 36 34  9 21  0  0  0  0  0  0  0  0  0  0  0\n",
      "   0  0]\n",
      " [83 54 73 47 60 64  6  3 20  2 26 19  2 65  5 72 17 20  2 26 19  2  0  0\n",
      "   0  0]\n",
      " [43 74 62 81 50  8 25 28  4  7 15  7  3 67  4 10 84 25 28  4  7 15  7  3\n",
      "  68  0]], shape=(8, 26), dtype=int64)\n",
      "['', '[UNK]', 'you', 'is', 'to', 'the', 'what', 'trump', 'in', 'ever', 'be', 'as', 'have', 'disturbing', 'are', 'when', 'us', 'time', 'them', 'that', 'something', 'slept', 'russia', 'really', 'portrayed', 'photographs', 'noticed', 'not', 'next', 'movie', 'it', 'if', 'how', 'horror', 'has', 'bad', 'anyone', 'an', 'actual', 'a', 'worse', 'world', 'will', 'why', 'who', 'virusout', 'virus', 'twice', 'this', 'than', 'taller', 'some', 'seenpictures', 'seen', 'seeing', 'see', 'pictures', 'people', 'out', 'organization', 'or', 'of', 'obama', 'most', 'more', 'missed', 'longest', 'known', 'know', 'hospitals', 'hospital', 'health', 'first', 'endgame', 'does', 'deplorable', 'covid19', 'coronavirus', 'conditions', 'comes', 'china', 'appear', 'and', 'after', '63']\n",
      "----------------------------------------------------------------------------------------------------\n",
      "(8, 84)\n",
      "tf.Tensor(\n",
      "[[0.         2.1972246  0.         0.         0.76214004 0.95551145\n",
      "  0.         0.         2.598566   0.         0.         2.598566\n",
      "  1.299283   1.0986123  0.         0.         0.         0.\n",
      "  0.         0.         0.         0.         0.         0.\n",
      "  0.         0.         0.         0.         0.         0.\n",
      "  0.         0.         0.         0.         0.         0.\n",
      "  0.         0.         0.         0.         0.         0.\n",
      "  0.         0.         0.         0.         0.         0.\n",
      "  0.         0.         1.609438   1.609438   1.609438   0.\n",
      "  0.         1.609438   0.         0.         0.         0.\n",
      "  1.609438   0.         1.609438   0.         0.         0.\n",
      "  0.         0.         0.         0.         0.         0.\n",
      "  0.         0.         0.         0.         0.         0.\n",
      "  0.         0.         0.         0.         0.         0.        ]], shape=(1, 84), dtype=float32)\n",
      "['[UNK]', 'you', 'is', 'to', 'the', 'what', 'trump', 'in', 'ever', 'be', 'as', 'have', 'disturbing', 'are', 'when', 'us', 'time', 'them', 'that', 'something', 'slept', 'russia', 'really', 'portrayed', 'photographs', 'noticed', 'not', 'next', 'movie', 'it', 'if', 'how', 'horror', 'has', 'bad', 'anyone', 'an', 'actual', 'a', 'worse', 'world', 'will', 'why', 'who', 'virusout', 'virus', 'twice', 'this', 'than', 'taller', 'some', 'seenpictures', 'seen', 'seeing', 'see', 'pictures', 'people', 'out', 'organization', 'or', 'of', 'obama', 'most', 'more', 'missed', 'longest', 'known', 'know', 'hospitals', 'hospital', 'health', 'first', 'endgame', 'does', 'deplorable', 'covid19', 'coronavirus', 'conditions', 'comes', 'china', 'appear', 'and', 'after', '63']\n"
     ]
    }
   ],
   "source": [
    "\n",
    "data = [\n",
    "    \"ξεῖν᾽, ἦ τοι μὲν ὄνειροι ἀμήχανοι ἀκριτόμυθοι\",\n",
    "    \"γίγνοντ᾽, οὐδέ τι πάντα τελείεται ἀνθρώποισι.\",\n",
    "    \"δοιαὶ γάρ τε πύλαι ἀμενηνῶν εἰσὶν ὀνείρων:\",\n",
    "    \"αἱ μὲν γὰρ κεράεσσι τετεύχαται, αἱ δ᾽ ἐλέφαντι:\",\n",
    "    \"τῶν οἳ μέν κ᾽ ἔλθωσι διὰ πριστοῦ ἐλέφαντος,\",\n",
    "    \"οἵ ῥ᾽ ἐλεφαίρονται, ἔπε᾽ ἀκράαντα φέροντες:\",\n",
    "    \"οἱ δὲ διὰ ξεστῶν κεράων ἔλθωσι θύραζε,\",\n",
    "    \"οἵ ῥ᾽ ἔτυμα κραίνουσι, βροτῶν ὅτε κέν τις ἴδηται.\",\n",
    "]\n",
    "\n",
    "layer = preprocessing.TextVectorization()\n",
    "layer.adapt(data)   \n",
    "print(layer(data))\n",
    "\n",
    "print('-'*100)\n",
    "data = [\n",
    "    \"What are some of the most disturbing pictures you have ever seen?pictures you have ever seen\",\n",
    "    \"How will people see the WHO (World Health Organization) if this covid-19 comes out not as an actual virus?out not as an actual virus\",\n",
    "    \"How bad is it to be in a hospital in Russia if you have coronavirus? Are conditions deplorable? Is it worse than hospitals in the US?\",\n",
    "    \"What is a really disturbing horror movie? really disturbing horror movie\",\n",
    "    \"Are China and Russia as bad as the US portrayed them to be? portrayed them to be\",\n",
    "    \"What is the longest time anyone has ever slept? anyone has ever slept\",\n",
    "    \"After seeing Endgame twice or more, what is something you noticed that you missed the first time? something you noticed that you\",\n",
    "    \"Why does Obama appear taller in photographs next to Trump when Trump is known to be 6'3? photographs next to Trump when Trump is know\",\n",
    "]\n",
    "\n",
    "layer = preprocessing.TextVectorization()\n",
    "layer.adapt(data)\n",
    "print(layer(data).shape)\n",
    "print(layer(data))\n",
    "print(layer.get_vocabulary()) # 得到词汇列表\n",
    "\n",
    "print('-'*100)\n",
    "layer = preprocessing.TextVectorization(output_mode=\"tf-idf\")\n",
    "layer.adapt(data)\n",
    "print(layer(data).shape)\n",
    "print(layer(data)[0:1])\n",
    "print(layer.get_vocabulary()) # 得到词汇列表\n"
   ]
  },
  {
   "cell_type": "markdown",
   "metadata": {
    "id": "7619914dfb40"
   },
   "source": [
    "In addition, adaptable layers always expose an option to directly set state via\n",
    "constructor arguments or weight assignment. If the intended state values are known at\n",
    "layer construction time, or are calculated outside of the `adapt()` call, they can be set\n",
    "without relying on the layer's internal computation. For instance, if external vocabulary\n",
    "files for the `TextVectorization`, `StringLookup`, or `IntegerLookup` layers already\n",
    "exist, those can be loaded directly into the lookup tables by passing a path to the\n",
    "vocabulary file in the layer's constructor arguments.\n",
    "\n",
    "Here's an example where we instantiate a `StringLookup` layer with precomputed vocabulary:"
   ]
  },
  {
   "cell_type": "code",
   "execution_count": 10,
   "metadata": {
    "execution": {
     "iopub.execute_input": "2020-10-02T16:19:16.607143Z",
     "iopub.status.busy": "2020-10-02T16:19:16.606233Z",
     "iopub.status.idle": "2020-10-02T16:19:16.610443Z",
     "shell.execute_reply": "2020-10-02T16:19:16.609918Z"
    },
    "id": "76aeb9346838"
   },
   "outputs": [
    {
     "name": "stdout",
     "output_type": "stream",
     "text": [
      "tf.Tensor(\n",
      "[[2 4 5]\n",
      " [5 1 3]], shape=(2, 3), dtype=int64)\n",
      "['', '[UNK]', 'a', 'b', 'c', 'd']\n"
     ]
    }
   ],
   "source": [
    "vocab = [\"a\", \"b\", \"c\", \"d\"]\n",
    "data = tf.constant([[\"a\", \"c\", \"d\"], [\"d\", \"z\", \"b\"]])\n",
    "layer = preprocessing.StringLookup(vocabulary=vocab)\n",
    "vectorized_data = layer(data)\n",
    "print(vectorized_data)\n",
    "print(layer.get_vocabulary())"
   ]
  },
  {
   "cell_type": "markdown",
   "metadata": {
    "id": "3cd07d2533da"
   },
   "source": [
    "## Preprocessing data before the model or inside the model\n",
    "\n",
    "There are two ways you could be using preprocessing layers:\n",
    "\n",
    "**Option 1:** Make them part of the model, like this:\n",
    "\n",
    "```python\n",
    "inputs = keras.Input(shape=input_shape)\n",
    "x = preprocessing_layer(inputs)\n",
    "outputs = rest_of_the_model(x)\n",
    "model = keras.Model(inputs, outputs)\n",
    "```\n",
    "\n",
    "With this option, preprocessing will happen on device, synchronously with the rest of the\n",
    "model execution, meaning that it will benefit from GPU acceleration.\n",
    "If you're training on GPU, this is the best option for the `Normalization` layer, and for\n",
    "all image preprocessing and data augmentation layers.\n",
    "\n",
    "**Option 2:** apply it to your `tf.data.Dataset`, so as to obtain a dataset that yields\n",
    "batches of preprocessed data, like this:\n",
    "\n",
    "```python\n",
    "dataset = dataset.map(\n",
    "  lambda x, y: (preprocessing_layer(x), y))\n",
    "```\n",
    "\n",
    "With this option, your preprocessing will happen on CPU, asynchronously, and will be\n",
    "buffered before going into the model.\n",
    "\n",
    "This is the best option for `TextVectorization`, and all structured data preprocessing\n",
    "layers. It can also be a good option if you're training on CPU\n",
    "and you use image preprocessing layers."
   ]
  },
  {
   "cell_type": "markdown",
   "metadata": {
    "id": "4a45cb81797f"
   },
   "source": [
    "## Benefits of doing preprocessing inside the model at inference time\n",
    "\n",
    "Even if you go with option 2, you may later want to export an inference-only end-to-end\n",
    "model that will include the preprocessing layers. The key benefit to doing this is that\n",
    "**it makes your model portable** and it **helps reduce the\n",
    "[training/serving skew](https://developers.google.com/machine-learning/guides/rules-of-ml#training-serving_skew)**.\n",
    "\n",
    "When all data preprocessing is part of the model, other people can load and use your\n",
    "model without having to be aware of how each feature is expected to be encoded &\n",
    "normalized. Your inference model will be able to process raw images or raw structured\n",
    "data, and will not require users of the model to be aware of the details of e.g. the\n",
    "tokenization scheme used for text, the indexing scheme used for categorical features,\n",
    "whether image pixel values are normalized to `[-1, +1]` or to `[0, 1]`, etc. This is\n",
    "especially powerful if you're exporting\n",
    "your model to another runtime, such as TensorFlow.js: you won't have to\n",
    "reimplement your preprocessing pipeline in JavaScript.\n",
    "\n",
    "If you initially put your preprocessing layers in your `tf.data` pipeline,\n",
    "you can export an inference model that packages the preprocessing.\n",
    "Simply instantiate a new model that chains\n",
    "your preprocessing layers and your training model:\n",
    "\n",
    "```python\n",
    "inputs = keras.Input(shape=input_shape)\n",
    "x = preprocessing_layer(inputs)\n",
    "outputs = training_model(x)\n",
    "infernece_model = keras.Model(inputs, outputs)\n",
    "```"
   ]
  },
  {
   "cell_type": "markdown",
   "metadata": {
    "id": "ff9bad6ba7d5"
   },
   "source": [
    "## Quick recipes\n",
    "\n",
    "### Image data augmentation (on-device)\n",
    "\n",
    "Note that image data augmentation layers are only active during training (similarly to\n",
    "the `Dropout` layer)."
   ]
  },
  {
   "cell_type": "code",
   "execution_count": 11,
   "metadata": {
    "execution": {
     "iopub.execute_input": "2020-10-02T16:19:16.618343Z",
     "iopub.status.busy": "2020-10-02T16:19:16.617278Z",
     "iopub.status.idle": "2020-10-02T16:19:18.980601Z",
     "shell.execute_reply": "2020-10-02T16:19:18.981055Z"
    },
    "id": "a621c2645ae6"
   },
   "outputs": [],
   "source": [
    "from tensorflow import keras\n",
    "from tensorflow.keras import layers\n",
    "\n",
    "# Create a data augmentation stage with horizontal flipping, rotations, zooms\n",
    "data_augmentation = keras.Sequential(\n",
    "    [\n",
    "        preprocessing.RandomFlip(\"horizontal\"),\n",
    "        preprocessing.RandomRotation(0.1),\n",
    "        preprocessing.RandomZoom(0.1),\n",
    "    ]\n",
    ")\n",
    "\n",
    "# Create a model that includes the augmentation stage\n",
    "input_shape = (32, 32, 3)\n",
    "classes = 10\n",
    "inputs = keras.Input(shape=input_shape)\n",
    "# Augment images\n",
    "x = data_augmentation(inputs)\n",
    "# Rescale image values to [0, 1]\n",
    "x = preprocessing.Rescaling(1.0 / 255)(x)\n",
    "# Add the rest of the model\n",
    "outputs = keras.applications.ResNet50(\n",
    "    weights=None, input_shape=input_shape, classes=classes\n",
    ")(x)\n",
    "model = keras.Model(inputs, outputs)"
   ]
  },
  {
   "cell_type": "markdown",
   "metadata": {
    "id": "51d369f0310f"
   },
   "source": [
    "You can see a similar setup in action in the example\n",
    "[image classification from scratch](https://keras.io/examples/vision/image_classification_from_scratch/)."
   ]
  },
  {
   "cell_type": "markdown",
   "metadata": {
    "id": "a79a1c48b2b7"
   },
   "source": [
    "### Normalizing numerical features"
   ]
  },
  {
   "cell_type": "code",
   "execution_count": 12,
   "metadata": {
    "execution": {
     "iopub.execute_input": "2020-10-02T16:19:18.989084Z",
     "iopub.status.busy": "2020-10-02T16:19:18.988394Z",
     "iopub.status.idle": "2020-10-02T16:19:36.585164Z",
     "shell.execute_reply": "2020-10-02T16:19:36.585618Z"
    },
    "id": "f5a7c8f6270b"
   },
   "outputs": [
    {
     "name": "stdout",
     "output_type": "stream",
     "text": [
      "Downloading data from https://www.cs.toronto.edu/~kriz/cifar-10-python.tar.gz\n",
      "170500096/170498071 [==============================] - 263s 2us/step\n",
      "1563/1563 [==============================] - 2s 1ms/step - loss: 2.1148\n"
     ]
    },
    {
     "data": {
      "text/plain": [
       "<tensorflow.python.keras.callbacks.History at 0x7f42140eb7b8>"
      ]
     },
     "execution_count": 12,
     "metadata": {},
     "output_type": "execute_result"
    }
   ],
   "source": [
    "# Load some data\n",
    "(x_train, y_train), _ = keras.datasets.cifar10.load_data()\n",
    "x_train = x_train.reshape((len(x_train), -1))\n",
    "input_shape = x_train.shape[1:]\n",
    "classes = 10\n",
    "\n",
    "# Create a Normalization layer and set its internal state using the training data\n",
    "normalizer = preprocessing.Normalization()\n",
    "normalizer.adapt(x_train)\n",
    "\n",
    "# Create a model that include the normalization layer\n",
    "inputs = keras.Input(shape=input_shape)\n",
    "x = normalizer(inputs)\n",
    "outputs = layers.Dense(classes, activation=\"softmax\")(x)\n",
    "model = keras.Model(inputs, outputs)\n",
    "\n",
    "# Train the model\n",
    "model.compile(optimizer=\"adam\", loss=\"sparse_categorical_crossentropy\")\n",
    "model.fit(x_train, y_train)"
   ]
  },
  {
   "cell_type": "markdown",
   "metadata": {
    "id": "62685d477010"
   },
   "source": [
    "### Encoding string categorical features via one-hot encoding"
   ]
  },
  {
   "cell_type": "code",
   "execution_count": 7,
   "metadata": {
    "execution": {
     "iopub.execute_input": "2020-10-02T16:19:36.594964Z",
     "iopub.status.busy": "2020-10-02T16:19:36.594284Z",
     "iopub.status.idle": "2020-10-02T16:19:36.614801Z",
     "shell.execute_reply": "2020-10-02T16:19:36.614202Z"
    },
    "id": "36303d995404"
   },
   "outputs": [
    {
     "name": "stdout",
     "output_type": "stream",
     "text": [
      "tf.Tensor(\n",
      "[[0. 0. 0. 0. 1.]\n",
      " [0. 0. 0. 1. 0.]\n",
      " [0. 0. 1. 0. 0.]\n",
      " [0. 1. 0. 0. 0.]\n",
      " [0. 1. 0. 0. 0.]\n",
      " [1. 0. 0. 0. 0.]], shape=(6, 5), dtype=float32)\n"
     ]
    }
   ],
   "source": [
    "# Define some toy data\n",
    "data = tf.constant([\"a\", \"b\", \"c\", \"b\", \"c\", \"a\"])\n",
    "\n",
    "# Use StringLookup to build an index of the feature values\n",
    "indexer = preprocessing.StringLookup()\n",
    "indexer.adapt(data)\n",
    "\n",
    "# Use CategoryEncoding to encode the integer indices to a one-hot vector\n",
    "encoder = preprocessing.CategoryEncoding(output_mode=\"binary\")\n",
    "encoder.adapt(indexer(data))\n",
    "\n",
    "# Convert new test data (which includes unknown feature values)\n",
    "test_data = tf.constant([\"a\", \"b\", \"c\", \"d\", \"e\", \"\"])\n",
    "encoded_data = encoder(indexer(test_data))\n",
    "print(encoded_data)"
   ]
  },
  {
   "cell_type": "markdown",
   "metadata": {
    "id": "3d88c64d9b33"
   },
   "source": [
    "Note that index 0 is reserved for missing values (which you should specify as the empty\n",
    "string `\"\"`), and index 1 is reserved for out-of-vocabulary values (values that were not\n",
    "seen during `adapt()`). You can configure this by using the `mask_token` and `oov_token`\n",
    "constructor arguments  of `StringLookup`.\n",
    "\n",
    "You can see the `StringLookup` and `CategoryEncoding` layers in action in the example\n",
    "[structured data classification from scratch](https://keras.io/examples/structured_data/structured_data_classification_from_scratch/)."
   ]
  },
  {
   "cell_type": "markdown",
   "metadata": {
    "id": "dc8af3e290df"
   },
   "source": [
    "### Encoding integer categorical features via one-hot encoding"
   ]
  },
  {
   "cell_type": "code",
   "execution_count": 8,
   "metadata": {
    "execution": {
     "iopub.execute_input": "2020-10-02T16:19:36.623663Z",
     "iopub.status.busy": "2020-10-02T16:19:36.622962Z",
     "iopub.status.idle": "2020-10-02T16:19:36.640928Z",
     "shell.execute_reply": "2020-10-02T16:19:36.641389Z"
    },
    "id": "e55f069cbdf5"
   },
   "outputs": [
    {
     "name": "stdout",
     "output_type": "stream",
     "text": [
      "tf.Tensor(\n",
      "[[0. 0. 0. 1. 0.]\n",
      " [0. 0. 0. 1. 0.]\n",
      " [0. 0. 1. 0. 0.]\n",
      " [0. 1. 0. 0. 0.]\n",
      " [0. 1. 0. 0. 0.]\n",
      " [1. 0. 0. 0. 0.]], shape=(6, 5), dtype=float32)\n"
     ]
    }
   ],
   "source": [
    "# Define some toy data\n",
    "data = tf.constant([10, 20, 20, 10, 30, 0])\n",
    "\n",
    "# Use IntegerLookup to build an index of the feature values\n",
    "indexer = preprocessing.IntegerLookup()\n",
    "indexer.adapt(data)\n",
    "\n",
    "# Use CategoryEncoding to encode the integer indices to a one-hot vector\n",
    "encoder = preprocessing.CategoryEncoding(output_mode=\"binary\")\n",
    "encoder.adapt(indexer(data))\n",
    "\n",
    "# Convert new test data (which includes unknown feature values)\n",
    "test_data = tf.constant([10, 10, 20, 50, 60, 0])\n",
    "encoded_data = encoder(indexer(test_data))\n",
    "print(encoded_data)"
   ]
  },
  {
   "cell_type": "markdown",
   "metadata": {
    "id": "82830d172b7f"
   },
   "source": [
    "Note that index 0 is reserved for missing values (which you should specify as the value\n",
    "0), and index 1 is reserved for out-of-vocabulary values (values that were not seen\n",
    "during `adapt()`). You can configure this by using the `mask_value` and `oov_value`\n",
    "constructor arguments  of `IntegerLookup`.\n",
    "\n",
    "You can see the `IntegerLookup` and `CategoryEncoding` layers in action in the example\n",
    "[structured data classification from scratch](https://keras.io/examples/structured_data/structured_data_classification_from_scratch/)."
   ]
  },
  {
   "cell_type": "markdown",
   "metadata": {
    "id": "8fbfaa6ab3e2"
   },
   "source": [
    "### Applying the hashing trick to an integer categorical feature\n",
    "\n",
    "If you have a categorical feature that can take many different values (on the order of\n",
    "10e3 or higher), where each value only appears a few times in the data,\n",
    "it becomes impractical and ineffective to index and one-hot encode the feature values.\n",
    "Instead, it can be a good idea to apply the \"hashing trick\": hash the values to a vector\n",
    "of fixed size. This keeps the size of the feature space manageable, and removes the need\n",
    "for explicit indexing."
   ]
  },
  {
   "cell_type": "code",
   "execution_count": 9,
   "metadata": {
    "execution": {
     "iopub.execute_input": "2020-10-02T16:19:36.649593Z",
     "iopub.status.busy": "2020-10-02T16:19:36.646070Z",
     "iopub.status.idle": "2020-10-02T16:19:36.658445Z",
     "shell.execute_reply": "2020-10-02T16:19:36.657784Z"
    },
    "id": "2def8456f905"
   },
   "outputs": [
    {
     "name": "stdout",
     "output_type": "stream",
     "text": [
      "(10000, 64)\n"
     ]
    }
   ],
   "source": [
    "# Sample data: 10,000 random integers with values between 0 and 100,000\n",
    "data = np.random.randint(0, 100000, size=(10000, 1))\n",
    "\n",
    "# Use the Hashing layer to hash the values to the range [0, 64]\n",
    "hasher = preprocessing.Hashing(num_bins=64, salt=1337)\n",
    "\n",
    "# Use the CategoryEncoding layer to one-hot encode the hashed values\n",
    "encoder = preprocessing.CategoryEncoding(max_tokens=64, output_mode=\"binary\")\n",
    "encoded_data = encoder(hasher(data))\n",
    "print(encoded_data.shape)"
   ]
  },
  {
   "cell_type": "markdown",
   "metadata": {
    "id": "df69b434d327"
   },
   "source": [
    "### Encoding text as a sequence of token indices\n",
    "\n",
    "This is how you should preprocess text to be passed to an `Embedding` layer."
   ]
  },
  {
   "cell_type": "code",
   "execution_count": 10,
   "metadata": {
    "execution": {
     "iopub.execute_input": "2020-10-02T16:19:36.672549Z",
     "iopub.status.busy": "2020-10-02T16:19:36.671356Z",
     "iopub.status.idle": "2020-10-02T16:19:38.081909Z",
     "shell.execute_reply": "2020-10-02T16:19:38.082370Z"
    },
    "id": "a689d9dcf6ab"
   },
   "outputs": [
    {
     "name": "stdout",
     "output_type": "stream",
     "text": [
      "Vocabulary: ['', '[UNK]', 'the', 'side', 'you', 'with', 'will', 'wider', 'them', 'than', 'sky', 'put', 'other', 'one', 'is', 'for', 'ease', 'contain', 'by', 'brain', 'beside', 'and']\n"
     ]
    }
   ],
   "source": [
    "# Define some text data to adapt the layer\n",
    "data = tf.constant(\n",
    "    [\n",
    "        \"The Brain is wider than the Sky\",\n",
    "        \"For put them side by side\",\n",
    "        \"The one the other will contain\",\n",
    "        \"With ease and You beside\",\n",
    "    ]\n",
    ")\n",
    "# Instantiate TextVectorization with \"int\" output_mode\n",
    "text_vectorizer = preprocessing.TextVectorization(output_mode=\"int\")\n",
    "# Index the vocabulary via `adapt()`\n",
    "text_vectorizer.adapt(data)\n",
    "\n",
    "# You can retrieve the vocabulary we indexed via get_vocabulary()\n",
    "vocab = text_vectorizer.get_vocabulary()\n",
    "print(\"Vocabulary:\", vocab)\n",
    "\n",
    "# Create an Embedding + LSTM model\n",
    "inputs = keras.Input(shape=(1,), dtype=\"string\")\n",
    "x = text_vectorizer(inputs)\n",
    "x = layers.Embedding(input_dim=len(vocab), output_dim=64)(x)\n",
    "outputs = layers.LSTM(1)(x)\n",
    "model = keras.Model(inputs, outputs)\n",
    "\n",
    "# Call the model on test data (which includes unknown tokens)\n",
    "test_data = tf.constant([\"The Brain is deeper than the sea\"])\n",
    "test_output = model(test_data)"
   ]
  },
  {
   "cell_type": "markdown",
   "metadata": {
    "id": "a84d4f2ec0ef"
   },
   "source": [
    "You can see the `TextVectorization` layer in action, combined with an `Embedding` mode,\n",
    "in the example\n",
    "[text classification from scratch](https://keras.io/examples/nlp/text_classification_from_scratch/).\n",
    "\n",
    "Note that when training such a model, for best performance, you should\n",
    "use the `TextVectorization` layer as part of the input pipeline (which is what we\n",
    "do in the text classification example above)."
   ]
  },
  {
   "cell_type": "markdown",
   "metadata": {
    "id": "28c2f2ff61fb"
   },
   "source": [
    "### Encoding text as a dense matrix of ngrams with multi-hot encoding\n",
    "\n",
    "This is how you should preprocess text to be passed to a `Dense` layer."
   ]
  },
  {
   "cell_type": "code",
   "execution_count": 11,
   "metadata": {
    "execution": {
     "iopub.execute_input": "2020-10-02T16:19:38.095379Z",
     "iopub.status.busy": "2020-10-02T16:19:38.094644Z",
     "iopub.status.idle": "2020-10-02T16:19:38.172372Z",
     "shell.execute_reply": "2020-10-02T16:19:38.171734Z"
    },
    "id": "b62472e32529"
   },
   "outputs": [
    {
     "name": "stdout",
     "output_type": "stream",
     "text": [
      "Encoded text:\n",
      " [[1. 1. 0. 0. 0. 0. 0. 0. 0. 0. 0. 0. 0. 0. 0. 0. 1. 1. 1. 0. 0. 0. 0. 0.\n",
      "  0. 0. 0. 0. 1. 0. 0. 0. 0. 0. 0. 0. 1. 1. 0. 0. 0.]] \n",
      "\n",
      "Model output: tf.Tensor([[0.24204311]], shape=(1, 1), dtype=float32)\n"
     ]
    }
   ],
   "source": [
    "# Define some text data to adapt the layer\n",
    "data = tf.constant(\n",
    "    [\n",
    "        \"The Brain is wider than the Sky\",\n",
    "        \"For put them side by side\",\n",
    "        \"The one the other will contain\",\n",
    "        \"With ease and You beside\",\n",
    "    ]\n",
    ")\n",
    "# Instantiate TextVectorization with \"binary\" output_mode (multi-hot)\n",
    "# and ngrams=2 (index all bigrams)\n",
    "text_vectorizer = preprocessing.TextVectorization(output_mode=\"binary\", ngrams=2)\n",
    "# Index the bigrams via `adapt()`\n",
    "text_vectorizer.adapt(data)\n",
    "\n",
    "print(\n",
    "    \"Encoded text:\\n\",\n",
    "    text_vectorizer([\"The Brain is deeper than the sea\"]).numpy(),\n",
    "    \"\\n\",\n",
    ")\n",
    "\n",
    "# Create a Dense model\n",
    "inputs = keras.Input(shape=(1,), dtype=\"string\")\n",
    "x = text_vectorizer(inputs)\n",
    "outputs = layers.Dense(1)(x)\n",
    "model = keras.Model(inputs, outputs)\n",
    "\n",
    "# Call the model on test data (which includes unknown tokens)\n",
    "test_data = tf.constant([\"The Brain is deeper than the sea\"])\n",
    "test_output = model(test_data)\n",
    "\n",
    "print(\"Model output:\", test_output)"
   ]
  },
  {
   "cell_type": "markdown",
   "metadata": {
    "id": "336a4d3426ed"
   },
   "source": [
    "### Encoding text as a dense matrix of ngrams with TF-IDF weighting\n",
    "\n",
    "This is an alternative way of preprocessing text before passing it to a `Dense` layer."
   ]
  },
  {
   "cell_type": "code",
   "execution_count": 12,
   "metadata": {
    "execution": {
     "iopub.execute_input": "2020-10-02T16:19:38.184134Z",
     "iopub.status.busy": "2020-10-02T16:19:38.183470Z",
     "iopub.status.idle": "2020-10-02T16:19:38.292203Z",
     "shell.execute_reply": "2020-10-02T16:19:38.292628Z"
    },
    "id": "cdf16938fe7c"
   },
   "outputs": [
    {
     "name": "stdout",
     "output_type": "stream",
     "text": [
      "Encoded text:\n",
      " [[8.04719   1.6945957 0.        0.        0.        0.        0.\n",
      "  0.        0.        0.        0.        0.        0.        0.\n",
      "  0.        0.        1.0986123 1.0986123 1.0986123 0.        0.\n",
      "  0.        0.        0.        0.        0.        0.        0.\n",
      "  1.0986123 0.        0.        0.        0.        0.        0.\n",
      "  0.        1.0986123 1.0986123 0.        0.        0.       ]] \n",
      "\n",
      "Model output: tf.Tensor([[1.8902668]], shape=(1, 1), dtype=float32)\n"
     ]
    }
   ],
   "source": [
    "# Define some text data to adapt the layer\n",
    "data = tf.constant(\n",
    "    [\n",
    "        \"The Brain is wider than the Sky\",\n",
    "        \"For put them side by side\",\n",
    "        \"The one the other will contain\",\n",
    "        \"With ease and You beside\",\n",
    "    ]\n",
    ")\n",
    "# Instantiate TextVectorization with \"tf-idf\" output_mode\n",
    "# (multi-hot with TF-IDF weighting) and ngrams=2 (index all bigrams)\n",
    "text_vectorizer = preprocessing.TextVectorization(output_mode=\"tf-idf\", ngrams=2)\n",
    "# Index the bigrams and learn the TF-IDF weights via `adapt()`\n",
    "text_vectorizer.adapt(data)\n",
    "\n",
    "print(\n",
    "    \"Encoded text:\\n\",\n",
    "    text_vectorizer([\"The Brain is deeper than the sea\"]).numpy(),\n",
    "    \"\\n\",\n",
    ")\n",
    "\n",
    "# Create a Dense model\n",
    "inputs = keras.Input(shape=(1,), dtype=\"string\")\n",
    "x = text_vectorizer(inputs)\n",
    "outputs = layers.Dense(1)(x)\n",
    "model = keras.Model(inputs, outputs)\n",
    "\n",
    "# Call the model on test data (which includes unknown tokens)\n",
    "test_data = tf.constant([\"The Brain is deeper than the sea\"])\n",
    "test_output = model(test_data)\n",
    "print(\"Model output:\", test_output)"
   ]
  }
 ],
 "metadata": {
  "colab": {
   "collapsed_sections": [],
   "name": "preprocessing_layers.ipynb",
   "toc_visible": true
  },
  "kernelspec": {
   "display_name": "Python 3",
   "language": "python",
   "name": "python3"
  },
  "language_info": {
   "codemirror_mode": {
    "name": "ipython",
    "version": 3
   },
   "file_extension": ".py",
   "mimetype": "text/x-python",
   "name": "python",
   "nbconvert_exporter": "python",
   "pygments_lexer": "ipython3",
   "version": "3.6.9"
  }
 },
 "nbformat": 4,
 "nbformat_minor": 1
}
