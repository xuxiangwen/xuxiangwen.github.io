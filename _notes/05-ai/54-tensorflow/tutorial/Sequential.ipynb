{
 "cells": [
  {
   "cell_type": "code",
   "execution_count": 1,
   "metadata": {},
   "outputs": [
    {
     "name": "stdout",
     "output_type": "stream",
     "text": [
      "2.2.1\n"
     ]
    }
   ],
   "source": [
    "import tensorflow as tf\n",
    "print(tf.__version__)"
   ]
  },
  {
   "cell_type": "markdown",
   "metadata": {},
   "source": [
    "# The Sequential model API"
   ]
  },
  {
   "cell_type": "markdown",
   "metadata": {},
   "source": [
    " ## Coding tutorials\n",
    " #### [1. Building a Sequential model](#coding_tutorial_1)\n",
    " #### [2. Convolutional and pooling layers](#coding_tutorial_2)\n",
    " #### [3. The compile method](#coding_tutorial_3)\n",
    " #### [4. The fit method](#coding_tutorial_4)\n",
    " #### [5. The evaluate and predict methods](#coding_tutorial_5)"
   ]
  },
  {
   "cell_type": "markdown",
   "metadata": {},
   "source": [
    "***\n",
    "<a id=\"coding_tutorial_1\"></a>\n",
    "## Building a Sequential model"
   ]
  },
  {
   "cell_type": "code",
   "execution_count": 2,
   "metadata": {},
   "outputs": [],
   "source": [
    "from tensorflow.keras.models import Sequential\n",
    "from tensorflow.keras.layers import Dense, Flatten, Softmax"
   ]
  },
  {
   "cell_type": "markdown",
   "metadata": {},
   "source": [
    "#### Build a feedforward neural network model"
   ]
  },
  {
   "cell_type": "code",
   "execution_count": 3,
   "metadata": {},
   "outputs": [],
   "source": [
    "# Build the Sequential feedforward neural network model\n",
    "\n",
    "model = Sequential([\n",
    "    Flatten(input_shape=(28,28)),\n",
    "    Dense(16),\n",
    "    Softmax()\n",
    "])\n",
    "    "
   ]
  },
  {
   "cell_type": "code",
   "execution_count": 4,
   "metadata": {},
   "outputs": [
    {
     "name": "stdout",
     "output_type": "stream",
     "text": [
      "Model: \"sequential\"\n",
      "_________________________________________________________________\n",
      "Layer (type)                 Output Shape              Param #   \n",
      "=================================================================\n",
      "flatten (Flatten)            (None, 784)               0         \n",
      "_________________________________________________________________\n",
      "dense (Dense)                (None, 16)                12560     \n",
      "_________________________________________________________________\n",
      "softmax (Softmax)            (None, 16)                0         \n",
      "=================================================================\n",
      "Total params: 12,560\n",
      "Trainable params: 12,560\n",
      "Non-trainable params: 0\n",
      "_________________________________________________________________\n"
     ]
    }
   ],
   "source": [
    "# Print the model summary\n",
    "model.summary()\n"
   ]
  },
  {
   "cell_type": "markdown",
   "metadata": {},
   "source": [
    "***\n",
    "<a id=\"coding_tutorial_2\"></a>\n",
    "## Convolutional and pooling layers"
   ]
  },
  {
   "cell_type": "code",
   "execution_count": 5,
   "metadata": {},
   "outputs": [],
   "source": [
    "from tensorflow.keras.models import Sequential\n",
    "from tensorflow.keras.layers import Dense, Flatten, Conv2D, MaxPooling2D"
   ]
  },
  {
   "cell_type": "markdown",
   "metadata": {},
   "source": [
    "#### Build a convolutional neural network model"
   ]
  },
  {
   "cell_type": "code",
   "execution_count": 6,
   "metadata": {},
   "outputs": [
    {
     "name": "stdout",
     "output_type": "stream",
     "text": [
      "Model: \"sequential_1\"\n",
      "_________________________________________________________________\n",
      "Layer (type)                 Output Shape              Param #   \n",
      "=================================================================\n",
      "conv2d (Conv2D)              (None, 24, 24, 32)        832       \n",
      "_________________________________________________________________\n",
      "max_pooling2d (MaxPooling2D) (None, 12, 12, 32)        0         \n",
      "_________________________________________________________________\n",
      "conv2d_1 (Conv2D)            (None, 8, 8, 64)          51264     \n",
      "_________________________________________________________________\n",
      "max_pooling2d_1 (MaxPooling2 (None, 4, 4, 64)          0         \n",
      "_________________________________________________________________\n",
      "flatten_1 (Flatten)          (None, 1024)              0         \n",
      "_________________________________________________________________\n",
      "dense_1 (Dense)              (None, 100)               102500    \n",
      "_________________________________________________________________\n",
      "dense_2 (Dense)              (None, 10)                1010      \n",
      "=================================================================\n",
      "Total params: 155,606\n",
      "Trainable params: 155,606\n",
      "Non-trainable params: 0\n",
      "_________________________________________________________________\n"
     ]
    }
   ],
   "source": [
    "# Build the Sequential convolutional neural network model\n",
    "\n",
    "model = Sequential()\n",
    "model.add(Conv2D(32,(5,5),strides=(1,1),input_shape=(28,28,1),padding='valid',activation='relu',kernel_initializer='uniform'))\n",
    "model.add(MaxPooling2D(pool_size=(2,2)))\n",
    "model.add(Conv2D(64,(5,5),strides=(1,1),padding='valid',activation='relu',kernel_initializer='uniform'))\n",
    "model.add(MaxPooling2D(pool_size=(2,2)))\n",
    "model.add(Flatten())\n",
    "model.add(Dense(100,activation='relu'))\n",
    "model.add(Dense(10,activation='softmax'))\n",
    "model.summary()"
   ]
  },
  {
   "cell_type": "code",
   "execution_count": 7,
   "metadata": {},
   "outputs": [
    {
     "name": "stdout",
     "output_type": "stream",
     "text": [
      "Model: \"sequential_1\"\n",
      "_________________________________________________________________\n",
      "Layer (type)                 Output Shape              Param #   \n",
      "=================================================================\n",
      "conv2d (Conv2D)              (None, 24, 24, 32)        832       \n",
      "_________________________________________________________________\n",
      "max_pooling2d (MaxPooling2D) (None, 12, 12, 32)        0         \n",
      "_________________________________________________________________\n",
      "conv2d_1 (Conv2D)            (None, 8, 8, 64)          51264     \n",
      "_________________________________________________________________\n",
      "max_pooling2d_1 (MaxPooling2 (None, 4, 4, 64)          0         \n",
      "_________________________________________________________________\n",
      "flatten_1 (Flatten)          (None, 1024)              0         \n",
      "_________________________________________________________________\n",
      "dense_1 (Dense)              (None, 100)               102500    \n",
      "_________________________________________________________________\n",
      "dense_2 (Dense)              (None, 10)                1010      \n",
      "=================================================================\n",
      "Total params: 155,606\n",
      "Trainable params: 155,606\n",
      "Non-trainable params: 0\n",
      "_________________________________________________________________\n"
     ]
    }
   ],
   "source": [
    "# Print the model summary\n",
    "model.summary()"
   ]
  },
  {
   "cell_type": "markdown",
   "metadata": {},
   "source": [
    "***\n",
    "<a id=\"coding_tutorial_3\"></a>\n",
    "## The compile method"
   ]
  },
  {
   "cell_type": "markdown",
   "metadata": {},
   "source": [
    "#### Compile the model"
   ]
  },
  {
   "cell_type": "code",
   "execution_count": 41,
   "metadata": {},
   "outputs": [],
   "source": [
    "# Define the model optimizer, loss function and metrics\n",
    "\n",
    "model.compile(optimizer='adam',\n",
    "              loss=tf.keras.losses.SparseCategoricalCrossentropy(from_logits=True),\n",
    "              metrics=['accuracy', 'recall', 'precision'])"
   ]
  },
  {
   "cell_type": "code",
   "execution_count": 119,
   "metadata": {},
   "outputs": [
    {
     "name": "stdout",
     "output_type": "stream",
     "text": [
      "<tensorflow.python.distribute.distribute_lib._DefaultDistributionStrategy object at 0x7fce41f57860>\n",
      "[<tensorflow.python.keras.layers.convolutional.Conv2D object at 0x7fcd6831b320>,\n",
      " <tensorflow.python.keras.layers.pooling.MaxPooling2D object at 0x7fcd6831b208>,\n",
      " <tensorflow.python.keras.layers.convolutional.Conv2D object at 0x7fcd6831ba20>,\n",
      " <tensorflow.python.keras.layers.pooling.MaxPooling2D object at 0x7fcd6831fcf8>,\n",
      " <tensorflow.python.keras.layers.core.Flatten object at 0x7fcd6831fa58>,\n",
      " <tensorflow.python.keras.layers.core.Dense object at 0x7fcd68329240>,\n",
      " <tensorflow.python.keras.layers.core.Dense object at 0x7fcd68329d68>]\n",
      "['loss', 'accuracy', 'mae', 'recall', 'precision']\n",
      "[<tensorflow.python.keras.metrics.Mean object at 0x7fce406a3f28>,\n",
      " <tensorflow.python.keras.metrics.MeanMetricWrapper object at 0x7fce40c01e80>,\n",
      " <tensorflow.python.keras.metrics.MeanMetricWrapper object at 0x7fccec1acf60>,\n",
      " <tensorflow.python.keras.metrics.MeanMetricWrapper object at 0x7fce40d3ca58>,\n",
      " <tensorflow.python.keras.metrics.MeanMetricWrapper object at 0x7fce41033a58>]\n",
      "<tensorflow.python.keras.optimizer_v2.adam.Adam object at 0x7fccec139a58>\n",
      "<tensorflow.python.keras.losses.SparseCategoricalCrossentropy object at 0x7fccec139160>\n",
      "False\n"
     ]
    }
   ],
   "source": [
    "from pprint import pprint\n",
    "# Print the resulting model attributes\n",
    "\n",
    "pprint(model.distribute_strategy)\n",
    "pprint(model.layers)\n",
    "pprint(model.metrics_names)\n",
    "pprint(model.metrics)\n",
    "pprint(model.optimizer)\n",
    "pprint(model.loss)\n",
    "pprint(model.run_eagerly)"
   ]
  },
  {
   "cell_type": "markdown",
   "metadata": {},
   "source": [
    "***\n",
    "<a id=\"coding_tutorial_4\"></a>\n",
    "## The fit method"
   ]
  },
  {
   "cell_type": "code",
   "execution_count": 138,
   "metadata": {},
   "outputs": [],
   "source": [
    "from tensorflow.keras.preprocessing import image\n",
    "import matplotlib.pyplot as plt\n",
    "import numpy as np\n",
    "import pandas as pd"
   ]
  },
  {
   "cell_type": "markdown",
   "metadata": {},
   "source": [
    "#### Load the data"
   ]
  },
  {
   "cell_type": "code",
   "execution_count": 139,
   "metadata": {},
   "outputs": [],
   "source": [
    "# Load the Fashion-MNIST dataset\n",
    "\n",
    "fashion_mnist_data = tf.keras.datasets.fashion_mnist\n",
    "(train_images, train_labels), (test_images, test_labels) = fashion_mnist_data.load_data()"
   ]
  },
  {
   "cell_type": "code",
   "execution_count": 140,
   "metadata": {},
   "outputs": [
    {
     "data": {
      "text/plain": [
       "(60000, 28, 28)"
      ]
     },
     "execution_count": 140,
     "metadata": {},
     "output_type": "execute_result"
    }
   ],
   "source": [
    "# Print the shape of the training data\n",
    "\n",
    "train_images.shape"
   ]
  },
  {
   "cell_type": "code",
   "execution_count": 141,
   "metadata": {},
   "outputs": [],
   "source": [
    "# Define the labels\n",
    "\n",
    "labels = [\n",
    "    'T-shirt/top',\n",
    "    'Trouser',\n",
    "    'Pullover',\n",
    "    'Dress',\n",
    "    'Coat',\n",
    "    'Sandal',\n",
    "    'Shirt',\n",
    "    'Sneaker',\n",
    "    'Bag',\n",
    "    'Ankle boot'\n",
    "]"
   ]
  },
  {
   "cell_type": "code",
   "execution_count": 142,
   "metadata": {},
   "outputs": [],
   "source": [
    "# Rescale the image values so that they lie in between 0 and 1.\n",
    "\n",
    "train_images = train_images/255.0\n",
    "test_images = test_images/255.0\n",
    "\n"
   ]
  },
  {
   "cell_type": "code",
   "execution_count": 143,
   "metadata": {},
   "outputs": [
    {
     "data": {
      "image/png": "[encoded data removed]",
      "text/plain": [
       "<Figure size 720x144 with 5 Axes>"
      ]
     },
     "metadata": {},
     "output_type": "display_data"
    }
   ],
   "source": [
    "# Display one of the images\n",
    "import matplotlib.pyplot as plt\n",
    "%matplotlib inline  \n",
    "\n",
    "plt.figure(figsize=(10,2))\n",
    "for i in range(5):\n",
    "    plt.subplot(1,5,i+1)\n",
    "    plt.xticks([])\n",
    "    plt.yticks([])\n",
    "    plt.grid(False)\n",
    "    plt.imshow(train_images[i])\n",
    "    # The CIFAR labels happen to be arrays, \n",
    "    # which is why you need the extra index\n",
    "    plt.xlabel(train_labels[i])\n",
    "plt.show()"
   ]
  },
  {
   "cell_type": "markdown",
   "metadata": {},
   "source": [
    "#### Fit the model"
   ]
  },
  {
   "cell_type": "code",
   "execution_count": 144,
   "metadata": {},
   "outputs": [
    {
     "name": "stdout",
     "output_type": "stream",
     "text": [
      "(60000, 28, 28, 1)\n",
      "(10000, 28, 28, 1)\n"
     ]
    }
   ],
   "source": [
    "# Fit the model\n",
    "# train_images = train_images.reshape(train_images.shape + (1,))\n",
    "# test_images = test_images.reshape(test_images.shape + (1,))\n",
    "\n",
    "train_images = train_images[..., np.newaxis]\n",
    "test_images = test_images[..., np.newaxis]\n",
    "\n",
    "\n",
    "print(train_images.shape)\n",
    "print(test_images.shape)"
   ]
  },
  {
   "cell_type": "code",
   "execution_count": 146,
   "metadata": {},
   "outputs": [
    {
     "name": "stdout",
     "output_type": "stream",
     "text": [
      "Epoch 1/2\n",
      "1875/1875 [==============================] - 7s 4ms/step - loss: 1.5500 - accuracy: 0.9112 - mae: 4.4200 - recall: 1.0039 - precision: 0.9036 - val_loss: 1.5632 - val_accuracy: 0.8978 - val_mae: 4.4200 - val_recall: 1.0047 - val_precision: 0.9045\n",
      "Epoch 2/2\n",
      "1875/1875 [==============================] - 6s 3ms/step - loss: 1.5487 - accuracy: 0.9125 - mae: 4.4200 - recall: 1.0035 - precision: 0.9032 - val_loss: 1.5668 - val_accuracy: 0.8942 - val_mae: 4.4200 - val_recall: 1.0054 - val_precision: 0.9051\n"
     ]
    }
   ],
   "source": [
    "import tensorflow.keras.backend as K\n",
    "\n",
    "def precision(y_true, y_pred): #taken from old keras source code\n",
    "    true_positives = K.sum(K.round(K.clip(y_true * y_pred, 0, 1)))\n",
    "    predicted_positives = K.sum(K.round(K.clip(y_pred, 0, 1)))\n",
    "    precision = true_positives / (predicted_positives + K.epsilon())\n",
    "    return precision\n",
    "def recall(y_true, y_pred): #taken from old keras source code\n",
    "    true_positives = K.sum(K.round(K.clip(y_true * y_pred, 0, 1)))\n",
    "    possible_positives = K.sum(K.round(K.clip(y_true, 0, 1)))\n",
    "    recall = true_positives / (possible_positives + K.epsilon())\n",
    "    return recall\n",
    "\n",
    "model.compile(optimizer=tf.keras.optimizers.Adam(),\n",
    "              loss=tf.keras.losses.SparseCategoricalCrossentropy(from_logits=True),\n",
    "              metrics=['accuracy', 'mae', recall, precision])\n",
    "\n",
    "history = model.fit(train_images, train_labels, epochs=2, batch_size=32, verbose=1,\n",
    "                    validation_data=(test_images, test_labels))"
   ]
  },
  {
   "cell_type": "markdown",
   "metadata": {},
   "source": [
    "#### Plot training history"
   ]
  },
  {
   "cell_type": "code",
   "execution_count": 110,
   "metadata": {},
   "outputs": [
    {
     "name": "stdout",
     "output_type": "stream",
     "text": [
      "<tensorflow.python.keras.callbacks.History object at 0x7fce40dfe630>\n",
      "dict_keys(['loss', 'accuracy', 'mae', 'recall', 'precision', 'val_loss', 'val_accuracy', 'val_mae', 'val_recall', 'val_precision'])\n",
      "{'accuracy': [0.9121666550636292,\n",
      "              0.9147999882698059,\n",
      "              0.913516640663147,\n",
      "              0.9133833050727844,\n",
      "              0.9100833535194397],\n",
      " 'loss': [1.5485789775848389,\n",
      "          1.5460926294326782,\n",
      "          1.5473157167434692,\n",
      "          1.547709345817566,\n",
      "          1.5506495237350464],\n",
      " 'mae': [4.420015811920166,\n",
      "         4.420008182525635,\n",
      "         4.420012474060059,\n",
      "         4.420013427734375,\n",
      "         4.420012474060059],\n",
      " 'precision': [0.9065666794776917,\n",
      "               0.9057666659355164,\n",
      "               0.905584454536438,\n",
      "               0.9053666591644287,\n",
      "               0.9057773947715759],\n",
      " 'recall': [1.0071892738342285,\n",
      "            1.006324291229248,\n",
      "            1.0062211751937866,\n",
      "            1.0058882236480713,\n",
      "            1.0063331127166748],\n",
      " 'val_accuracy': [0.8888000249862671,\n",
      "                  0.8815000057220459,\n",
      "                  0.8952000141143799,\n",
      "                  0.8859999775886536,\n",
      "                  0.892799973487854],\n",
      " 'val_loss': [1.5721241235733032,\n",
      "              1.579224705696106,\n",
      "              1.5654594898223877,\n",
      "              1.5749435424804688,\n",
      "              1.5681854486465454],\n",
      " 'val_mae': [4.419997215270996,\n",
      "             4.419997215270996,\n",
      "             4.419997215270996,\n",
      "             4.419997215270996,\n",
      "             4.419997215270996],\n",
      " 'val_precision': [0.9061501622200012,\n",
      "                   0.907148540019989,\n",
      "                   0.9066493511199951,\n",
      "                   0.9078474640846252,\n",
      "                   0.9061501622200012],\n",
      " 'val_recall': [1.006728172302246,\n",
      "                1.0077836513519287,\n",
      "                1.0071611404418945,\n",
      "                1.0085028409957886,\n",
      "                1.0066701173782349]}\n"
     ]
    },
    {
     "data": {
      "text/html": [
       "<div>\n",
       "<style scoped>\n",
       "    .dataframe tbody tr th:only-of-type {\n",
       "        vertical-align: middle;\n",
       "    }\n",
       "\n",
       "    .dataframe tbody tr th {\n",
       "        vertical-align: top;\n",
       "    }\n",
       "\n",
       "    .dataframe thead th {\n",
       "        text-align: right;\n",
       "    }\n",
       "</style>\n",
       "<table border=\"1\" class=\"dataframe\">\n",
       "  <thead>\n",
       "    <tr style=\"text-align: right;\">\n",
       "      <th></th>\n",
       "      <th>loss</th>\n",
       "      <th>accuracy</th>\n",
       "      <th>mae</th>\n",
       "      <th>recall</th>\n",
       "      <th>precision</th>\n",
       "      <th>val_loss</th>\n",
       "      <th>val_accuracy</th>\n",
       "      <th>val_mae</th>\n",
       "      <th>val_recall</th>\n",
       "      <th>val_precision</th>\n",
       "    </tr>\n",
       "  </thead>\n",
       "  <tbody>\n",
       "    <tr>\n",
       "      <th>0</th>\n",
       "      <td>1.548579</td>\n",
       "      <td>0.912167</td>\n",
       "      <td>4.420016</td>\n",
       "      <td>1.007189</td>\n",
       "      <td>0.906567</td>\n",
       "      <td>1.572124</td>\n",
       "      <td>0.8888</td>\n",
       "      <td>4.419997</td>\n",
       "      <td>1.006728</td>\n",
       "      <td>0.906150</td>\n",
       "    </tr>\n",
       "    <tr>\n",
       "      <th>1</th>\n",
       "      <td>1.546093</td>\n",
       "      <td>0.914800</td>\n",
       "      <td>4.420008</td>\n",
       "      <td>1.006324</td>\n",
       "      <td>0.905767</td>\n",
       "      <td>1.579225</td>\n",
       "      <td>0.8815</td>\n",
       "      <td>4.419997</td>\n",
       "      <td>1.007784</td>\n",
       "      <td>0.907149</td>\n",
       "    </tr>\n",
       "    <tr>\n",
       "      <th>2</th>\n",
       "      <td>1.547316</td>\n",
       "      <td>0.913517</td>\n",
       "      <td>4.420012</td>\n",
       "      <td>1.006221</td>\n",
       "      <td>0.905584</td>\n",
       "      <td>1.565459</td>\n",
       "      <td>0.8952</td>\n",
       "      <td>4.419997</td>\n",
       "      <td>1.007161</td>\n",
       "      <td>0.906649</td>\n",
       "    </tr>\n",
       "    <tr>\n",
       "      <th>3</th>\n",
       "      <td>1.547709</td>\n",
       "      <td>0.913383</td>\n",
       "      <td>4.420013</td>\n",
       "      <td>1.005888</td>\n",
       "      <td>0.905367</td>\n",
       "      <td>1.574944</td>\n",
       "      <td>0.8860</td>\n",
       "      <td>4.419997</td>\n",
       "      <td>1.008503</td>\n",
       "      <td>0.907847</td>\n",
       "    </tr>\n",
       "    <tr>\n",
       "      <th>4</th>\n",
       "      <td>1.550650</td>\n",
       "      <td>0.910083</td>\n",
       "      <td>4.420012</td>\n",
       "      <td>1.006333</td>\n",
       "      <td>0.905777</td>\n",
       "      <td>1.568185</td>\n",
       "      <td>0.8928</td>\n",
       "      <td>4.419997</td>\n",
       "      <td>1.006670</td>\n",
       "      <td>0.906150</td>\n",
       "    </tr>\n",
       "  </tbody>\n",
       "</table>\n",
       "</div>"
      ],
      "text/plain": [
       "       loss  accuracy       mae    recall  precision  val_loss  val_accuracy  \\\n",
       "0  1.548579  0.912167  4.420016  1.007189   0.906567  1.572124        0.8888   \n",
       "1  1.546093  0.914800  4.420008  1.006324   0.905767  1.579225        0.8815   \n",
       "2  1.547316  0.913517  4.420012  1.006221   0.905584  1.565459        0.8952   \n",
       "3  1.547709  0.913383  4.420013  1.005888   0.905367  1.574944        0.8860   \n",
       "4  1.550650  0.910083  4.420012  1.006333   0.905777  1.568185        0.8928   \n",
       "\n",
       "    val_mae  val_recall  val_precision  \n",
       "0  4.419997    1.006728       0.906150  \n",
       "1  4.419997    1.007784       0.907149  \n",
       "2  4.419997    1.007161       0.906649  \n",
       "3  4.419997    1.008503       0.907847  \n",
       "4  4.419997    1.006670       0.906150  "
      ]
     },
     "execution_count": 110,
     "metadata": {},
     "output_type": "execute_result"
    }
   ],
   "source": [
    "# Load the history into a pandas Dataframe\n",
    "# Make a plot for the loss\n",
    "from pprint import pprint\n",
    "import pandas as pd \n",
    "# Load the history into a pandas Dataframe\n",
    "df_history = pd.DataFrame(history.history)\n",
    "\n",
    "print(history)\n",
    "print(history.history.keys())\n",
    "pprint(history.history)\n",
    "\n",
    "\n",
    "df_history"
   ]
  },
  {
   "cell_type": "code",
   "execution_count": 111,
   "metadata": {},
   "outputs": [
    {
     "data": {
      "image/png": "[encoded data removed]",
      "text/plain": [
       "<Figure size 432x288 with 1 Axes>"
      ]
     },
     "metadata": {
      "needs_background": "light"
     },
     "output_type": "display_data"
    }
   ],
   "source": [
    "# Make a plot for the loss\n",
    "\n",
    "plt.plot(history.history['loss'], label='loss')\n",
    "plt.plot(history.history['val_loss'], label = 'val_loss')\n",
    "plt.xlabel('Epoch')\n",
    "plt.ylabel('Loss')\n",
    "plt.ylim([0, 2])\n",
    "plt.legend(loc='lower right')\n",
    "plt.show()"
   ]
  },
  {
   "cell_type": "code",
   "execution_count": 112,
   "metadata": {},
   "outputs": [
    {
     "data": {
      "image/png": "[encoded data removed]",
      "text/plain": [
       "<Figure size 432x288 with 1 Axes>"
      ]
     },
     "metadata": {
      "needs_background": "light"
     },
     "output_type": "display_data"
    }
   ],
   "source": [
    "# Make a plot for the accuracy\n",
    "\n",
    "plt.plot(history.history['accuracy'], label='accuracy')\n",
    "plt.plot(history.history['val_accuracy'], label = 'val_accuracy')\n",
    "plt.xlabel('Epoch')\n",
    "plt.ylabel('Accuracy')\n",
    "plt.ylim([0.5, 1])\n",
    "plt.legend(loc='lower right')\n",
    "plt.show()"
   ]
  },
  {
   "cell_type": "code",
   "execution_count": 113,
   "metadata": {},
   "outputs": [
    {
     "data": {
      "image/png": "[encoded data removed]",
      "text/plain": [
       "<Figure size 432x288 with 1 Axes>"
      ]
     },
     "metadata": {
      "needs_background": "light"
     },
     "output_type": "display_data"
    }
   ],
   "source": [
    "# Make a plot for the additional metric\n",
    "\n",
    "plt.plot(history.history['precision'], label='mae')\n",
    "plt.plot(history.history['val_precision'], label = 'val_mae')\n",
    "plt.xlabel('Epoch')\n",
    "plt.ylabel('MAE')\n",
    "plt.ylim([0.5, 1])\n",
    "plt.legend(loc='lower right')\n",
    "plt.show()"
   ]
  },
  {
   "cell_type": "markdown",
   "metadata": {},
   "source": [
    "***\n",
    "<a id=\"coding_tutorial_5\"></a>\n",
    "## The evaluate and predict methods"
   ]
  },
  {
   "cell_type": "code",
   "execution_count": 114,
   "metadata": {},
   "outputs": [],
   "source": [
    "import matplotlib.pyplot as plt\n",
    "import numpy as np"
   ]
  },
  {
   "cell_type": "markdown",
   "metadata": {},
   "source": [
    "#### Evaluate the model on the test set"
   ]
  },
  {
   "cell_type": "code",
   "execution_count": 118,
   "metadata": {},
   "outputs": [
    {
     "name": "stdout",
     "output_type": "stream",
     "text": [
      "1875/1875 - 5s - loss: 1.5467 - accuracy: 0.9143 - mae: 4.4200 - recall: 1.0078 - precision: 0.9072\n",
      "313/313 - 1s - loss: 1.5682 - accuracy: 0.8928 - mae: 4.4200 - recall: 1.0067 - precision: 0.9062\n",
      "Train Accuracy: 91.4%, Test Accuracy: 89.3%\n",
      "Train Loss: 1.5467, Test Loss: 1.5682\n",
      "Train MAE: 4.4200, Test MAE: 4.4200\n"
     ]
    }
   ],
   "source": [
    "# Evaluate the model\n",
    "\n",
    "train_loss, train_acc, train_mae, train_recall, train_precision = model.evaluate(train_images,  train_labels, verbose=2)\n",
    "test_loss, test_acc, test_mae, train_recall, train_precision = model.evaluate(test_images,  test_labels, verbose=2)\n",
    "print('Train Accuracy: {:0.1f}%, Test Accuracy: {:0.1f}%'.format(100 * train_acc, 100*test_acc)) \n",
    "print('Train Loss: {:0.4f}, Test Loss: {:0.4f}'.format(train_loss, test_loss)) \n",
    "print('Train MAE: {:0.4f}, Test MAE: {:0.4f}'.format(train_mae, test_mae)) "
   ]
  },
  {
   "cell_type": "markdown",
   "metadata": {},
   "source": [
    "#### Make predictions from the model"
   ]
  },
  {
   "cell_type": "code",
   "execution_count": 120,
   "metadata": {
    "scrolled": true
   },
   "outputs": [
    {
     "name": "stdout",
     "output_type": "stream",
     "text": [
      "(1, 28, 28, 1)\n",
      "(28, 28, 1)\n"
     ]
    },
    {
     "data": {
      "image/png": "[encoded data removed]",
      "text/plain": [
       "<Figure size 432x288 with 1 Axes>"
      ]
     },
     "metadata": {
      "needs_background": "light"
     },
     "output_type": "display_data"
    },
    {
     "name": "stdout",
     "output_type": "stream",
     "text": [
      "Label: Bag\n"
     ]
    }
   ],
   "source": [
    "# Choose a random test image\n",
    "\n",
    "random_inx = np.random.choice(test_images.shape[0])\n",
    "print(np.array([test_images[random_inx]]).shape)\n",
    "\n",
    "test_image = test_images[random_inx]\n",
    "print(test_image.shape)\n",
    "plt.imshow(test_image)\n",
    "plt.show()\n",
    "print(f\"Label: {labels[test_labels[random_inx]]}\")"
   ]
  },
  {
   "cell_type": "code",
   "execution_count": 132,
   "metadata": {},
   "outputs": [
    {
     "name": "stdout",
     "output_type": "stream",
     "text": [
      "(1, 10)\n",
      "['Bag']\n"
     ]
    }
   ],
   "source": [
    "# Get the model predictions\n",
    "\n",
    "predictions = model.predict(np.array([test_images[random_inx]]))\n",
    "print(predictions.shape)\n",
    "predictions = np.argmax(predictions, -1)\n",
    "predict_labels = [labels[prediction] for prediction in predictions] \n",
    "print(predict_labels)"
   ]
  },
  {
   "cell_type": "code",
   "execution_count": null,
   "metadata": {},
   "outputs": [],
   "source": []
  }
 ],
 "metadata": {
  "kernelspec": {
   "display_name": "Python 3",
   "language": "python",
   "name": "python3"
  },
  "language_info": {
   "codemirror_mode": {
    "name": "ipython",
    "version": 3
   },
   "file_extension": ".py",
   "mimetype": "text/x-python",
   "name": "python",
   "nbconvert_exporter": "python",
   "pygments_lexer": "ipython3",
   "version": "3.6.9"
  }
 },
 "nbformat": 4,
 "nbformat_minor": 2
}
