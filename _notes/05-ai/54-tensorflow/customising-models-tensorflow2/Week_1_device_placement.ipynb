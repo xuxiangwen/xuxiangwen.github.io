{
 "cells": [
  {
   "cell_type": "markdown",
   "metadata": {
    "id": "R8EuPVDK0oXX"
   },
   "source": [
    "# Device placement\n"
   ]
  },
  {
   "cell_type": "markdown",
   "metadata": {
    "id": "SMepbBP-0oXb"
   },
   "source": [
    "In this reading, we are going to be looking at device placement. We will see how to access the device associated to a given tensor, and compare the use of GPUs and CPUs.\n",
    "\n",
    "When running this notebook, ensure that the GPU runtime type is selected (Runtime -> Change runtime type)."
   ]
  },
  {
   "cell_type": "code",
   "execution_count": 1,
   "metadata": {
    "ExecuteTime": {
     "end_time": "2020-12-03T08:47:58.971986Z",
     "start_time": "2020-12-03T08:47:56.612881Z"
    },
    "code_folding": [],
    "colab": {
     "base_uri": "https://localhost:8080/"
    },
    "id": "cGJhiWHQ0oXd",
    "outputId": "bffee592-feb4-41be-c26b-988611b4505d"
   },
   "outputs": [
    {
     "name": "stdout",
     "output_type": "stream",
     "text": [
      "2.3.1\n"
     ]
    }
   ],
   "source": [
    "# ! pip install tensorflow==2.1.0\n",
    "import tensorflow as tf\n",
    "print(tf.__version__)\n",
    "\n",
    "gpus = tf.config.experimental.list_physical_devices(device_type='GPU')\n",
    "tf.config.experimental.set_virtual_device_configuration(\n",
    "    gpus[0],\n",
    "    [tf.config.experimental.VirtualDeviceConfiguration(memory_limit=1024)]\n",
    ")"
   ]
  },
  {
   "cell_type": "markdown",
   "metadata": {
    "id": "o07Lk8BE27-6"
   },
   "source": [
    "## Get the physical devices"
   ]
  },
  {
   "cell_type": "markdown",
   "metadata": {
    "id": "bw5wPXyy2Zwp"
   },
   "source": [
    "First, we can list the physical devices available."
   ]
  },
  {
   "cell_type": "code",
   "execution_count": 2,
   "metadata": {
    "ExecuteTime": {
     "end_time": "2020-12-03T08:48:00.519712Z",
     "start_time": "2020-12-03T08:48:00.506517Z"
    },
    "colab": {
     "base_uri": "https://localhost:8080/"
    },
    "id": "rB-00SsB2Z8v",
    "outputId": "848643a6-506d-44d0-ad68-1c9d5e7028ff"
   },
   "outputs": [
    {
     "data": {
      "text/plain": [
       "[PhysicalDevice(name='/physical_device:CPU:0', device_type='CPU'),\n",
       " PhysicalDevice(name='/physical_device:XLA_CPU:0', device_type='XLA_CPU'),\n",
       " PhysicalDevice(name='/physical_device:XLA_GPU:0', device_type='XLA_GPU'),\n",
       " PhysicalDevice(name='/physical_device:GPU:0', device_type='GPU')]"
      ]
     },
     "execution_count": 2,
     "metadata": {},
     "output_type": "execute_result"
    }
   ],
   "source": [
    "# List all physical devices\n",
    "\n",
    "tf.config.list_physical_devices()"
   ]
  },
  {
   "cell_type": "markdown",
   "metadata": {
    "id": "GBfa_PEw0oXk"
   },
   "source": [
    "If you have enabled the GPU runtime, then you should see the GPU device in the above list.\n",
    "\n",
    "We can also check specifically for the GPU or CPU devices."
   ]
  },
  {
   "cell_type": "code",
   "execution_count": 3,
   "metadata": {
    "ExecuteTime": {
     "end_time": "2020-12-03T08:48:01.562656Z",
     "start_time": "2020-12-03T08:48:01.557900Z"
    },
    "colab": {
     "base_uri": "https://localhost:8080/"
    },
    "id": "2FgViTqb0oXn",
    "outputId": "69b42c2c-5aca-488c-ca8e-5e1dcbb9923e"
   },
   "outputs": [
    {
     "data": {
      "text/plain": [
       "[PhysicalDevice(name='/physical_device:GPU:0', device_type='GPU')]"
      ]
     },
     "execution_count": 3,
     "metadata": {},
     "output_type": "execute_result"
    }
   ],
   "source": [
    "# Check for GPU devices\n",
    "\n",
    "tf.config.list_physical_devices('GPU')"
   ]
  },
  {
   "cell_type": "code",
   "execution_count": 4,
   "metadata": {
    "ExecuteTime": {
     "end_time": "2020-12-03T08:48:02.033725Z",
     "start_time": "2020-12-03T08:48:02.028835Z"
    },
    "colab": {
     "base_uri": "https://localhost:8080/"
    },
    "id": "N857-C_B2yMa",
    "outputId": "9a72f212-606e-4ff5-a879-4b871cc0af9d"
   },
   "outputs": [
    {
     "data": {
      "text/plain": [
       "[PhysicalDevice(name='/physical_device:CPU:0', device_type='CPU')]"
      ]
     },
     "execution_count": 4,
     "metadata": {},
     "output_type": "execute_result"
    }
   ],
   "source": [
    "# Check for CPU devices\n",
    "\n",
    "tf.config.list_physical_devices('CPU')"
   ]
  },
  {
   "cell_type": "markdown",
   "metadata": {
    "id": "GStCHnkx0oXs"
   },
   "source": [
    "We can get the GPU device name as follows:"
   ]
  },
  {
   "cell_type": "code",
   "execution_count": 6,
   "metadata": {
    "ExecuteTime": {
     "end_time": "2020-12-03T08:48:12.496335Z",
     "start_time": "2020-12-03T08:48:12.487885Z"
    },
    "colab": {
     "base_uri": "https://localhost:8080/",
     "height": 35
    },
    "id": "LlT6kf810oXu",
    "outputId": "5d35abb3-8a91-4af7-9465-d0a1bbb8579c"
   },
   "outputs": [
    {
     "data": {
      "text/plain": [
       "'/device:GPU:0'"
      ]
     },
     "execution_count": 6,
     "metadata": {},
     "output_type": "execute_result"
    }
   ],
   "source": [
    "# Get the GPU device name\n",
    "\n",
    "tf.test.gpu_device_name()"
   ]
  },
  {
   "cell_type": "markdown",
   "metadata": {
    "id": "4FNvARDH3KlC"
   },
   "source": [
    "## Placement of Tensor operations"
   ]
  },
  {
   "cell_type": "markdown",
   "metadata": {
    "id": "zB7qxgNL0oYA"
   },
   "source": [
    "TensorFlow will automatically allocate Tensor operations to a physical device, and will handle the copying between CPU and GPU memory if necessary. \n",
    "\n",
    "Let's define a random Tensor:"
   ]
  },
  {
   "cell_type": "code",
   "execution_count": 7,
   "metadata": {
    "ExecuteTime": {
     "end_time": "2020-12-03T08:48:16.115224Z",
     "start_time": "2020-12-03T08:48:15.974925Z"
    },
    "id": "FQrsztEl0oYB"
   },
   "outputs": [],
   "source": [
    "# Define a Tensor\n",
    "\n",
    "x = tf.random.uniform([3, 3])"
   ]
  },
  {
   "cell_type": "markdown",
   "metadata": {
    "id": "MTni7OPe0oYF"
   },
   "source": [
    "We can see which device this Tensor is placed on using its `device` attribute."
   ]
  },
  {
   "cell_type": "code",
   "execution_count": 8,
   "metadata": {
    "ExecuteTime": {
     "end_time": "2020-12-03T08:48:18.159629Z",
     "start_time": "2020-12-03T08:48:18.155653Z"
    },
    "colab": {
     "base_uri": "https://localhost:8080/",
     "height": 35
    },
    "id": "iLSbukXa0oYH",
    "outputId": "392b450e-2e3c-45b3-d89d-6042f9ddae19"
   },
   "outputs": [
    {
     "data": {
      "text/plain": [
       "'/job:localhost/replica:0/task:0/device:GPU:0'"
      ]
     },
     "execution_count": 8,
     "metadata": {},
     "output_type": "execute_result"
    }
   ],
   "source": [
    "# Get the Tensor device\n",
    "\n",
    "x.device"
   ]
  },
  {
   "cell_type": "markdown",
   "metadata": {
    "id": "8uVDrVK60oYM"
   },
   "source": [
    "The above string will end with `'GPU:K'` if the Tensor is placed on the `K`-th GPU device. We can also check if a tensor is placed on a specific device by using `device_endswith`:"
   ]
  },
  {
   "cell_type": "code",
   "execution_count": 9,
   "metadata": {
    "ExecuteTime": {
     "end_time": "2020-12-03T08:48:19.815888Z",
     "start_time": "2020-12-03T08:48:19.808802Z"
    },
    "colab": {
     "base_uri": "https://localhost:8080/"
    },
    "id": "n0ceL5Qy0oYN",
    "outputId": "d8972622-4a80-4882-f39d-8e2fda15de6c"
   },
   "outputs": [
    {
     "name": "stdout",
     "output_type": "stream",
     "text": [
      "Is the Tensor on CPU #0:  \n",
      "False\n",
      "\n",
      "Is the Tensor on GPU #0:  \n",
      "True\n"
     ]
    }
   ],
   "source": [
    "# Test for device allocation\n",
    "\n",
    "print(\"Is the Tensor on CPU #0:  \"),\n",
    "print(x.device.endswith('CPU:0'))\n",
    "print('')\n",
    "print(\"Is the Tensor on GPU #0:  \"),\n",
    "print(x.device.endswith('GPU:0'))"
   ]
  },
  {
   "cell_type": "markdown",
   "metadata": {
    "id": "GtEi2qnK4LyO"
   },
   "source": [
    "## Specifying device placement"
   ]
  },
  {
   "cell_type": "markdown",
   "metadata": {
    "id": "33SlBwIA0oYQ"
   },
   "source": [
    "As mentioned previously, TensorFlow will automatically allocate Tensor operations to specific devices. However, it is possible to force placement on specific devices, if they are available. \n",
    "\n",
    "We can view the benefits of GPU acceleration by running some tests and placing the operations on the CPU or GPU respectively."
   ]
  },
  {
   "cell_type": "code",
   "execution_count": 10,
   "metadata": {
    "ExecuteTime": {
     "end_time": "2020-12-03T08:48:23.995581Z",
     "start_time": "2020-12-03T08:48:23.986144Z"
    },
    "id": "wEfz4RY90oYR"
   },
   "outputs": [],
   "source": [
    "# Define simple tests to time computation speed\n",
    "\n",
    "import time\n",
    "\n",
    "def time_matadd(x):\n",
    "    start = time.time()\n",
    "    for loop in range(10):\n",
    "        tf.add(x, x)\n",
    "    result = time.time()-start\n",
    "    print(\"Matrix addition (10 loops): {:0.2f}ms\".format(1000*result))\n",
    "\n",
    "\n",
    "def time_matmul(x):\n",
    "    start = time.time()\n",
    "    for loop in range(10):\n",
    "        tf.matmul(x, x)\n",
    "    result = time.time()-start\n",
    "    print(\"Matrix multiplication (10 loops): {:0.2f}ms\".format(1000*result))"
   ]
  },
  {
   "cell_type": "markdown",
   "metadata": {
    "id": "wEd85pdw5N6c"
   },
   "source": [
    "In the following cell, we run the above tests inside the context `with tf.device(\"CPU:0\")`, which forces the operations to be run on the CPU."
   ]
  },
  {
   "cell_type": "code",
   "execution_count": 12,
   "metadata": {
    "ExecuteTime": {
     "end_time": "2020-12-03T06:46:30.436479Z",
     "start_time": "2020-12-03T06:46:30.315077Z"
    },
    "colab": {
     "base_uri": "https://localhost:8080/"
    },
    "id": "rB5Z1iUT0oYU",
    "outputId": "663be153-ac0d-4354-bb26-d7831cac354e"
   },
   "outputs": [
    {
     "name": "stdout",
     "output_type": "stream",
     "text": [
      "On CPU:\n",
      "Matrix addition (10 loops): 3.47ms\n",
      "Matrix multiplication (10 loops): 110.40ms\n"
     ]
    }
   ],
   "source": [
    "# Force execution on CPU\n",
    "\n",
    "print(\"On CPU:\")\n",
    "with tf.device(\"CPU:0\"):\n",
    "    x = tf.random.uniform([1000, 1000])\n",
    "    assert x.device.endswith(\"CPU:0\")\n",
    "    time_matadd(x)\n",
    "    time_matmul(x)"
   ]
  },
  {
   "cell_type": "markdown",
   "metadata": {
    "id": "PN3ZHIMD50kB"
   },
   "source": [
    "And now run the same operations on the GPU:"
   ]
  },
  {
   "cell_type": "code",
   "execution_count": 13,
   "metadata": {
    "ExecuteTime": {
     "end_time": "2020-12-03T06:46:32.115751Z",
     "start_time": "2020-12-03T06:46:31.919249Z"
    },
    "colab": {
     "base_uri": "https://localhost:8080/"
    },
    "id": "c7AryQq60oYY",
    "outputId": "7469d108-e600-4b05-c474-ba174e9362c8"
   },
   "outputs": [
    {
     "name": "stdout",
     "output_type": "stream",
     "text": [
      "On GPU:\n",
      "Matrix addition (10 loops): 0.84ms\n",
      "Matrix multiplication (10 loops): 188.74ms\n"
     ]
    }
   ],
   "source": [
    "if tf.config.experimental.list_physical_devices(\"GPU\"):\n",
    "    print(\"On GPU:\")\n",
    "    with tf.device(\"GPU:0\"): \n",
    "        x = tf.random.uniform([1000, 1000])\n",
    "        assert x.device.endswith(\"GPU:0\")\n",
    "        time_matadd(x)\n",
    "        time_matmul(x)"
   ]
  },
  {
   "cell_type": "markdown",
   "metadata": {},
   "source": [
    "Force execution on GPU #0 if available \n",
    "-  第一次运行，GPU乘法看起来慢一些啊  \n",
    "    - cpu\n",
    "        Matrix addition (10 loops): 2.57ms   \n",
    "        Matrix multiplication (10 loops): 115.62ms   \n",
    "    - gpu\n",
    "        Matrix addition (10 loops): 0.61ms     \n",
    "        Matrix multiplication (10 loops): 207.20ms  #  \n",
    "\n",
    "-  多次运行 ： GPU乘法乘法比CPU快100倍\n",
    "     - cpu\n",
    "        Matrix addition (10 loops): 1.96ms   \n",
    "        Matrix multiplication (10 loops): 103.01ms   \n",
    "     - gpu\n",
    "        Matrix addition (10 loops): 1.04ms   \n",
    "        Matrix multiplication (10 loops): 0.93ms        "
   ]
  },
  {
   "cell_type": "markdown",
   "metadata": {
    "id": "bqJR83G354Zh"
   },
   "source": [
    "Note the significant time difference between running these operations on different devices."
   ]
  },
  {
   "cell_type": "markdown",
   "metadata": {
    "id": "hFOJkxMk-HL_"
   },
   "source": [
    "## Model training"
   ]
  },
  {
   "cell_type": "markdown",
   "metadata": {
    "id": "4gBgorhv-HWE"
   },
   "source": [
    "Finally, we will demonstrate that GPU device placement offers speedup benefits for model training."
   ]
  },
  {
   "cell_type": "code",
   "execution_count": 14,
   "metadata": {
    "ExecuteTime": {
     "end_time": "2020-12-03T06:46:40.082664Z",
     "start_time": "2020-12-03T06:46:39.435221Z"
    },
    "colab": {
     "base_uri": "https://localhost:8080/"
    },
    "id": "Qa7Vvbne6QS8",
    "outputId": "6b5e7ae4-3c12-474b-d727-67b69f647cc6"
   },
   "outputs": [],
   "source": [
    "# Load the MNIST dataset\n",
    "\n",
    "from tensorflow.keras.datasets import mnist\n",
    "import numpy as np\n",
    "\n",
    "(x_train, y_train), (x_test, y_test) = mnist.load_data()\n",
    "x_train, x_test = x_train/255., x_test/255."
   ]
  },
  {
   "cell_type": "code",
   "execution_count": 15,
   "metadata": {
    "ExecuteTime": {
     "end_time": "2020-12-03T06:46:40.167811Z",
     "start_time": "2020-12-03T06:46:40.164342Z"
    },
    "id": "kJgFyw0567Dn"
   },
   "outputs": [],
   "source": [
    "# Reduce the dataset size to speed up the test\n",
    "\n",
    "x_train, y_train = x_train[:1000], y_train[:1000]"
   ]
  },
  {
   "cell_type": "code",
   "execution_count": 9,
   "metadata": {
    "id": "2vD2d7al4_VZ"
   },
   "outputs": [],
   "source": [
    "# Define a function to build the model\n",
    "\n",
    "from tensorflow.keras import layers\n",
    "from tensorflow.keras.models import  Sequential\n",
    "\n",
    "def get_model():\n",
    "  model = Sequential([\n",
    "      layers.Conv2D(32, (3, 3), activation='relu', padding='same', input_shape=(28, 28, 1)),\n",
    "      layers.MaxPooling2D((2, 2)),\n",
    "      layers.Conv2D(64, (3, 3), activation='relu', padding='same'),\n",
    "      layers.MaxPooling2D((2, 2)),\n",
    "      layers.Conv2D(128, (3, 3), activation='relu', padding='same'),\n",
    "      layers.MaxPooling2D((2, 2)),\n",
    "      layers.Flatten(),\n",
    "      layers.Dense(64, activation='relu'),\n",
    "      layers.Dense(10, activation='softmax'),\n",
    "      ])\n",
    "  return model"
   ]
  },
  {
   "cell_type": "code",
   "execution_count": 13,
   "metadata": {
    "colab": {
     "base_uri": "https://localhost:8080/"
    },
    "id": "bxEcTFQb7hRt",
    "outputId": "c4f83f54-d6b1-4c41-d045-d73b0d0fe9ff"
   },
   "outputs": [
    {
     "name": "stdout",
     "output_type": "stream",
     "text": [
      "CPU training time: 2583.39ms\n"
     ]
    }
   ],
   "source": [
    "# Time a training run on the CPU\n",
    "import time\n",
    "\n",
    "with tf.device(\"CPU:0\"):\n",
    "  model = get_model()\n",
    "  model.compile(optimizer=tf.keras.optimizers.RMSprop(1e-3), loss='sparse_categorical_crossentropy', metrics=['accuracy'])\n",
    "  start = time.time()\n",
    "  model.fit(x_train[..., np.newaxis], y_train, epochs=5, verbose=0)\n",
    "  result = time.time() - start\n",
    "\n",
    "print(\"CPU training time: {:0.2f}ms\".format(1000 * result))"
   ]
  },
  {
   "cell_type": "code",
   "execution_count": 14,
   "metadata": {
    "id": "R9_G4sak5dHB"
   },
   "outputs": [
    {
     "name": "stdout",
     "output_type": "stream",
     "text": [
      "GPU training time: 1305.68ms\n"
     ]
    }
   ],
   "source": [
    "# Time a training run on the GPU\n",
    "\n",
    "with tf.device(\"GPU:0\"):\n",
    "  model = get_model()\n",
    "  model.compile(optimizer=tf.keras.optimizers.RMSprop(1e-3), loss='sparse_categorical_crossentropy', metrics=['accuracy'])\n",
    "  start = time.time()\n",
    "  model.fit(x_train[..., np.newaxis], y_train, epochs=5, verbose=0)\n",
    "  result = time.time() - start\n",
    "\n",
    "print(\"GPU training time: {:0.2f}ms\".format(1000 * result))"
   ]
  },
  {
   "cell_type": "markdown",
   "metadata": {},
   "source": [
    "GPU只比CPU快2倍，看起来不多啊。可能是这个模型太简单了"
   ]
  },
  {
   "cell_type": "markdown",
   "metadata": {
    "id": "e_O9D-XI0oYa"
   },
   "source": [
    "## Further reading and resources \n",
    "* https://www.tensorflow.org/tutorials/customization/basics#gpu_acceleration"
   ]
  },
  {
   "cell_type": "code",
   "execution_count": 21,
   "metadata": {
    "ExecuteTime": {
     "end_time": "2020-12-03T06:51:54.066834Z",
     "start_time": "2020-12-03T06:51:44.057622Z"
    },
    "id": "fPTTYszrUft7"
   },
   "outputs": [],
   "source": [
    "import time\n",
    "time.sleep(10)"
   ]
  },
  {
   "cell_type": "code",
   "execution_count": null,
   "metadata": {},
   "outputs": [],
   "source": []
  }
 ],
 "metadata": {
  "accelerator": "GPU",
  "colab": {
   "name": "Device placement.ipynb",
   "provenance": []
  },
  "kernelspec": {
   "display_name": "Python 3",
   "language": "python",
   "name": "python3"
  },
  "language_info": {
   "codemirror_mode": {
    "name": "ipython",
    "version": 3
   },
   "file_extension": ".py",
   "mimetype": "text/x-python",
   "name": "python",
   "nbconvert_exporter": "python",
   "pygments_lexer": "ipython3",
   "version": "3.6.9"
  },
  "toc": {
   "base_numbering": 1,
   "nav_menu": {
    "height": "153px",
    "width": "282px"
   },
   "number_sections": true,
   "sideBar": true,
   "skip_h1_title": false,
   "title_cell": "Table of Contents",
   "title_sidebar": "Contents",
   "toc_cell": false,
   "toc_position": {
    "height": "calc(100% - 180px)",
    "left": "10px",
    "top": "150px",
    "width": "264px"
   },
   "toc_section_display": true,
   "toc_window_display": true
  }
 },
 "nbformat": 4,
 "nbformat_minor": 1
}
