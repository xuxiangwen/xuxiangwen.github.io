{
 "cells": [
  {
   "cell_type": "markdown",
   "metadata": {
    "id": "wJQu9UWtRfRx"
   },
   "source": [
    "# Programming Assignment"
   ]
  },
  {
   "cell_type": "markdown",
   "metadata": {
    "id": "pFRRArflRfR1"
   },
   "source": [
    "## Language model for the Shakespeare dataset"
   ]
  },
  {
   "cell_type": "markdown",
   "metadata": {
    "id": "iPU9O33bRfR3"
   },
   "source": [
    "### Instructions\n",
    "\n",
    "In this notebook, you will use the text preprocessing tools and RNN models to build a character-level language model. You will then train your model on the works of Shakespeare, and use the network to generate your own text.\n",
    "\n",
    "Some code cells are provided you in the notebook. You should avoid editing provided code, and make sure to execute the cells in order to avoid unexpected errors. Some cells begin with the line: \n",
    "\n",
    "`#### GRADED CELL ####`\n",
    "\n",
    "Don't move or edit this first line - this is what the automatic grader looks for to recognise graded cells. These cells require you to write your own code to complete them, and are automatically graded when you submit the notebook. Don't edit the function name or signature provided in these cells, otherwise the automatic grader might not function properly. Inside these graded cells, you can use any functions or classes that are imported below, but make sure you don't use any variables that are outside the scope of the function.\n",
    "\n",
    "### How to submit\n",
    "\n",
    "Complete all the tasks you are asked for in the worksheet. When you have finished and are happy with your code, press the **Submit Assignment** button at the top of this notebook.\n",
    "\n",
    "### Let's get started!\n",
    "\n",
    "We'll start running some imports, and loading the dataset. Do not edit the existing imports in the following cell. If you would like to make further Tensorflow imports, you should add them here."
   ]
  },
  {
   "cell_type": "code",
   "execution_count": 46,
   "metadata": {
    "ExecuteTime": {
     "end_time": "2020-12-15T05:24:30.305908Z",
     "start_time": "2020-12-15T05:24:30.290861Z"
    },
    "id": "2j_QtDXtRfR4"
   },
   "outputs": [],
   "source": [
    "#### PACKAGE IMPORTS ####\n",
    "\n",
    "# Run this cell first to import all required packages. Do not make any imports elsewhere in the notebook\n",
    "\n",
    "import tensorflow as tf\n",
    "import numpy as np\n",
    "import json\n",
    "import matplotlib.pyplot as plt\n",
    "%matplotlib inline\n",
    "\n",
    "# If you would like to make further imports from tensorflow, add them here\n",
    "\n",
    "from tensorflow.keras.preprocessing.text import Tokenizer\n",
    "from tensorflow.keras.preprocessing.sequence import pad_sequences\n",
    "\n",
    "gpus = tf.config.experimental.list_physical_devices(device_type='GPU')\n",
    "tf.config.experimental.set_virtual_device_configuration(\n",
    "    gpus[0],\n",
    "    [tf.config.experimental.VirtualDeviceConfiguration(memory_limit=1024)]\n",
    ")"
   ]
  },
  {
   "cell_type": "markdown",
   "metadata": {
    "id": "r3wpZrx7RfR-"
   },
   "source": [
    "#### The Shakespeare dataset\n",
    "\n",
    "In this assignment, you will use a subset of the [Shakespeare dataset](http://shakespeare.mit.edu). It consists of a single text file with several excerpts concatenated together. The data is in raw text form, and so far has not yet had any preprocessing. \n",
    "\n",
    "Your goal is to construct an unsupervised character-level sequence model that can generate text according to a distribution learned from the dataset."
   ]
  },
  {
   "cell_type": "markdown",
   "metadata": {
    "id": "2XZu3DSPRkE4"
   },
   "source": [
    "#### Import the data\n",
    "\n",
    "The dataset required for this project can be downloaded from the following link:\n",
    "\n",
    "https://drive.google.com/open?id=1pQI1ryDnuMKl5FtgBI9k9vXQ65S8xLv2\n",
    "\n",
    "You should store this file in Drive for use in this Colab notebook."
   ]
  },
  {
   "cell_type": "code",
   "execution_count": 2,
   "metadata": {
    "ExecuteTime": {
     "end_time": "2020-12-15T04:36:09.643290Z",
     "start_time": "2020-12-15T04:36:09.639825Z"
    },
    "id": "3fRagWNBR0-E"
   },
   "outputs": [],
   "source": [
    "# Run this cell to connect to your Drive folder\n",
    "\n",
    "# from google.colab import drive\n",
    "# drive.mount('/content/gdrive')"
   ]
  },
  {
   "cell_type": "markdown",
   "metadata": {
    "id": "ppOL7TDHRfSA"
   },
   "source": [
    "#### Load and inspect the dataset"
   ]
  },
  {
   "cell_type": "code",
   "execution_count": 4,
   "metadata": {
    "ExecuteTime": {
     "end_time": "2020-12-15T04:36:21.882516Z",
     "start_time": "2020-12-15T04:36:21.876984Z"
    },
    "id": "XXwzWcB-RfSD"
   },
   "outputs": [],
   "source": [
    "# Load the text file into a string\n",
    "\n",
    "with open('data/Shakespeare.txt', 'r', encoding='utf-8') as file:\n",
    "    text = file.read()"
   ]
  },
  {
   "cell_type": "code",
   "execution_count": 12,
   "metadata": {
    "ExecuteTime": {
     "end_time": "2020-12-15T04:51:34.013615Z",
     "start_time": "2020-12-15T04:51:34.006902Z"
    },
    "id": "YzHw4wbCRfSH"
   },
   "outputs": [
    {
     "name": "stdout",
     "output_type": "stream",
     "text": [
      "7886\n"
     ]
    }
   ],
   "source": [
    "# Create a list of chunks of text\n",
    "\n",
    "text_chunks = text.split('.')\n",
    "\n",
    "print(len(text_chunks))"
   ]
  },
  {
   "cell_type": "markdown",
   "metadata": {
    "id": "pik73Zq2RfSO"
   },
   "source": [
    "To give you a feel for what the text looks like, we will print a few chunks from the list."
   ]
  },
  {
   "cell_type": "code",
   "execution_count": 7,
   "metadata": {
    "ExecuteTime": {
     "end_time": "2020-12-15T04:37:14.417893Z",
     "start_time": "2020-12-15T04:37:14.383342Z"
    },
    "id": "CMZj2MIYRfSP"
   },
   "outputs": [
    {
     "name": "stdout",
     "output_type": "stream",
     "text": [
      "--------------------------------------------------\n",
      "\n",
      "\n",
      "First Musician:\n",
      "Not a dump we; 'tis no time to play now\n",
      "--------------------------------------------------\n",
      "\n",
      "If thou delight to view thy heinous deeds,\n",
      "Behold this pattern of thy butcheries\n",
      "--------------------------------------------------\n",
      " I say unto\n",
      "thee, I bid thy master cut out the gown; but I did\n",
      "not bid him cut it to pieces: ergo, thou liest\n",
      "--------------------------------------------------\n",
      "' 'Do it presently\n",
      "--------------------------------------------------\n",
      "\n",
      "\n",
      "COMINIUS:\n",
      "Too modest are you;\n",
      "More cruel to your good report than grateful\n",
      "To us that give you truly: by your patience,\n",
      "If 'gainst yourself you be incensed, we'll put you,\n",
      "Like one that means his proper harm, in manacles,\n",
      "Then reason safely with you\n"
     ]
    }
   ],
   "source": [
    "# Display some randomly selected text samples\n",
    "\n",
    "num_samples = 5\n",
    "inx = np.random.choice(len(text_chunks), num_samples, replace=False)\n",
    "for chunk in np.array(text_chunks)[inx]:\n",
    "    print('-'*50)\n",
    "    print(chunk)"
   ]
  },
  {
   "cell_type": "markdown",
   "metadata": {
    "id": "QSxfAsFARfSX"
   },
   "source": [
    "#### Create a character-level tokenizer"
   ]
  },
  {
   "cell_type": "markdown",
   "metadata": {
    "id": "SBukx3SDRfSY"
   },
   "source": [
    "You should now write a function that returns a `Tokenizer` object. The function takes a list of strings as an argument, and should create a `Tokenizer` according to the following specification:\n",
    "\n",
    "* The number of tokens should be unlimited (there should be as many as required by the dataset).\n",
    "* Tokens should be created at the character level (not at the word level, which is the default behaviour).\n",
    "* No characters should be filtered out or ignored.\n",
    "* The original capitalization should be retained (do not convert the text to lower case)\n",
    "\n",
    "The `Tokenizer` should be fit to the `list_of_strings` argument and returned by the function. \n",
    "\n",
    "**Hint:** you may need to refer to the [documentation](https://www.tensorflow.org/api_docs/python/tf/keras/preprocessing/text/Tokenizer) for the `Tokenizer`."
   ]
  },
  {
   "cell_type": "code",
   "execution_count": 10,
   "metadata": {
    "ExecuteTime": {
     "end_time": "2020-12-15T04:44:26.521951Z",
     "start_time": "2020-12-15T04:44:26.517422Z"
    },
    "id": "Q8s2aR4oRfSb"
   },
   "outputs": [],
   "source": [
    "#### GRADED CELL ####\n",
    "\n",
    "# Complete the following function.\n",
    "# Make sure not to change the function name or arguments.\n",
    "\n",
    "def create_character_tokenizer(list_of_strings):\n",
    "    \"\"\"\n",
    "    This function takes a list of strings as its argument. It should create \n",
    "    and return a Tokenizer according to the above specifications. \n",
    "    \"\"\"\n",
    "    \n",
    "    tokenizer = Tokenizer(lower=False, char_level=True)\n",
    "    return tokenizer"
   ]
  },
  {
   "cell_type": "code",
   "execution_count": 11,
   "metadata": {
    "ExecuteTime": {
     "end_time": "2020-12-15T04:44:34.383687Z",
     "start_time": "2020-12-15T04:44:34.380886Z"
    },
    "id": "aKZpIcn_RfSf"
   },
   "outputs": [],
   "source": [
    "# Get the tokenizer\n",
    "\n",
    "tokenizer = create_character_tokenizer(text_chunks)"
   ]
  },
  {
   "cell_type": "code",
   "execution_count": 30,
   "metadata": {
    "ExecuteTime": {
     "end_time": "2020-12-15T05:04:42.452165Z",
     "start_time": "2020-12-15T05:04:42.274580Z"
    }
   },
   "outputs": [
    {
     "name": "stdout",
     "output_type": "stream",
     "text": [
      "64\n",
      "1 64\n",
      "--------------------------------------------------\n",
      "  1\n",
      "e 2\n",
      "t 3\n",
      "o 4\n",
      "a 5\n",
      "h 6\n",
      "s 7\n",
      "r 8\n",
      "n 9\n",
      "i 10\n",
      "\n",
      " 11\n",
      "l 12\n",
      "d 13\n",
      "u 14\n",
      "m 15\n",
      "y 16\n",
      ", 17\n",
      "w 18\n",
      "f 19\n",
      "c 20\n",
      "g 21\n",
      "I 22\n",
      "b 23\n",
      "p 24\n",
      ": 25\n",
      "A 26\n",
      "v 27\n",
      "k 28\n",
      "T 29\n",
      "' 30\n",
      "E 31\n",
      "O 32\n",
      "N 33\n",
      "R 34\n",
      "S 35\n",
      "L 36\n",
      "C 37\n",
      "; 38\n",
      "W 39\n",
      "U 40\n",
      "H 41\n",
      "M 42\n",
      "B 43\n",
      "? 44\n",
      "G 45\n",
      "! 46\n",
      "D 47\n",
      "- 48\n",
      "F 49\n",
      "Y 50\n",
      "P 51\n",
      "K 52\n",
      "V 53\n",
      "j 54\n",
      "q 55\n",
      "x 56\n",
      "z 57\n",
      "J 58\n",
      "Q 59\n",
      "Z 60\n",
      "X 61\n",
      "3 62\n",
      "& 63\n",
      "$ 64\n"
     ]
    }
   ],
   "source": [
    "print(len(tokenizer.word_index.keys()))\n",
    "print(min(tokenizer.word_index.values()), max(tokenizer.word_index.values()))\n",
    "print('-'*50)\n",
    "\n",
    "for key,value in tokenizer.word_index.items():\n",
    "    print(key, value)\n",
    "    \n",
    "    "
   ]
  },
  {
   "cell_type": "markdown",
   "metadata": {
    "id": "gWObVg6DRfSi"
   },
   "source": [
    "#### Tokenize the text\n",
    "\n",
    "You should now write a function to use the tokenizer to map each string in `text_chunks` to its corresponding encoded sequence. The following function takes a fitted `Tokenizer` object in the first argument (as returned by `create_character_tokenizer`) and a list of strings in the second argument. The function should return a list of lists, where each sublist is a sequence of integer tokens encoding the text sequences according to the mapping stored in the tokenizer.\n",
    "\n",
    "**Hint:** you may need to refer to the [documentation](https://www.tensorflow.org/api_docs/python/tf/keras/preprocessing/text/Tokenizer) for the `Tokenizer`."
   ]
  },
  {
   "cell_type": "code",
   "execution_count": 13,
   "metadata": {
    "ExecuteTime": {
     "end_time": "2020-12-15T04:53:53.860051Z",
     "start_time": "2020-12-15T04:53:53.855172Z"
    },
    "id": "lkKDCvV1RfSj"
   },
   "outputs": [],
   "source": [
    "#### GRADED CELL ####\n",
    "\n",
    "# Complete the following function.\n",
    "# Make sure not to change the function name or arguments.\n",
    "\n",
    "def strings_to_sequences(tokenizer, list_of_strings):\n",
    "    \"\"\"\n",
    "    This function takes a tokenizer object and a list of strings as its arguments.\n",
    "    It should use the tokenizer to map the text chunks to sequences of tokens and\n",
    "    then return this list of encoded sequences.\n",
    "    \"\"\"\n",
    "    tokenizer.fit_on_texts(list_of_strings)\n",
    "    seq_chunks = tokenizer.texts_to_sequences(list_of_strings)\n",
    "    return seq_chunks"
   ]
  },
  {
   "cell_type": "code",
   "execution_count": 14,
   "metadata": {
    "ExecuteTime": {
     "end_time": "2020-12-15T04:53:55.369353Z",
     "start_time": "2020-12-15T04:53:54.674088Z"
    },
    "id": "hhYb2mSlRfSo"
   },
   "outputs": [],
   "source": [
    "# Encode the text chunks into tokens\n",
    "\n",
    "seq_chunks = strings_to_sequences(tokenizer, text_chunks)"
   ]
  },
  {
   "cell_type": "code",
   "execution_count": 31,
   "metadata": {
    "ExecuteTime": {
     "end_time": "2020-12-15T05:19:32.452190Z",
     "start_time": "2020-12-15T05:19:32.437354Z"
    }
   },
   "outputs": [
    {
     "name": "stdout",
     "output_type": "stream",
     "text": [
      "7886\n",
      "[49, 10, 8, 7, 3, 1, 37, 10, 3, 10, 57, 2, 9, 25, 11, 43, 2, 19, 4, 8, 2, 1, 18, 2, 1, 24, 8, 4, 20, 2, 2, 13, 1, 5, 9, 16, 1, 19, 14, 8, 3, 6, 2, 8, 17, 1, 6, 2, 5, 8, 1, 15, 2, 1, 7, 24, 2, 5, 28]\n",
      "59\n",
      "First Citizen:\n",
      "Before we proceed any further, hear me speak\n",
      "59\n",
      "[(49, 'F'), (10, 'i'), (8, 'r'), (7, 's'), (3, 't'), (1, ' '), (37, 'C'), (10, 'i'), (3, 't'), (10, 'i'), (57, 'z'), (2, 'e'), (9, 'n'), (25, ':'), (11, '\\n'), (43, 'B'), (2, 'e'), (19, 'f'), (4, 'o'), (8, 'r'), (2, 'e'), (1, ' '), (18, 'w'), (2, 'e'), (1, ' '), (24, 'p'), (8, 'r'), (4, 'o'), (20, 'c'), (2, 'e'), (2, 'e'), (13, 'd'), (1, ' '), (5, 'a'), (9, 'n'), (16, 'y'), (1, ' '), (19, 'f'), (14, 'u'), (8, 'r'), (3, 't'), (6, 'h'), (2, 'e'), (8, 'r'), (17, ','), (1, ' '), (6, 'h'), (2, 'e'), (5, 'a'), (8, 'r'), (1, ' '), (15, 'm'), (2, 'e'), (1, ' '), (7, 's'), (24, 'p'), (2, 'e'), (5, 'a'), (28, 'k')]\n",
      "1346\n"
     ]
    }
   ],
   "source": [
    "print(len(seq_chunks))\n",
    "print(seq_chunks[0])\n",
    "print(len(seq_chunks[0]))\n",
    "print(text_chunks[0])\n",
    "print(len(text_chunks[0]))\n",
    "\n",
    "print([(index, value) for index, value in zip(seq_chunks[0], text_chunks[0])])\n",
    "print(max([len(sequence) for sequence in seq_chunks]))"
   ]
  },
  {
   "cell_type": "markdown",
   "metadata": {
    "id": "iRCN70xkRfSt"
   },
   "source": [
    "#### Pad the encoded sequences and store them in a numpy array"
   ]
  },
  {
   "cell_type": "markdown",
   "metadata": {
    "id": "3ucADRYoRfSu"
   },
   "source": [
    "Since not all of the text chunks are the same length, you will need to pad them in order to train on batches. You should now complete the following function, which takes the list of lists of tokens, and creates a single numpy array with the token sequences in the rows, according to the following specification:\n",
    "\n",
    "* The longest allowed sequence should be 500 tokens. Any sequence that is longer should be shortened by truncating the beginning of the sequence.\n",
    "* Use zeros for padding the sequences. The zero padding should be placed before the sequences as required.\n",
    "\n",
    "The function should then return the resulting numpy array.\n",
    "\n",
    "**Hint:** you may want to refer to the [documentation](https://www.tensorflow.org/api_docs/python/tf/keras/preprocessing/sequence/pad_sequences) for the `pad_sequences` function."
   ]
  },
  {
   "cell_type": "code",
   "execution_count": 51,
   "metadata": {
    "ExecuteTime": {
     "end_time": "2020-12-15T05:25:19.664092Z",
     "start_time": "2020-12-15T05:25:19.656821Z"
    },
    "id": "zLf-9KxWRfSw"
   },
   "outputs": [],
   "source": [
    "#### GRADED CELL ####\n",
    "\n",
    "# Complete the following function.\n",
    "# Make sure not to change the function name or arguments.\n",
    "\n",
    "def make_padded_dataset(sequence_chunks):\n",
    "    \"\"\"\n",
    "    This function takes a list of lists of tokenized sequences, and transforms\n",
    "    them into a 2D numpy array, padding the sequences as necessary according to\n",
    "    the above specification. The function should then return the numpy array.\n",
    "    \"\"\"\n",
    "    padded_sequences = pad_sequences(sequence_chunks, maxlen=500, padding='pre', truncating='pre')\n",
    "    return padded_sequences"
   ]
  },
  {
   "cell_type": "code",
   "execution_count": 52,
   "metadata": {
    "ExecuteTime": {
     "end_time": "2020-12-15T05:25:20.741510Z",
     "start_time": "2020-12-15T05:25:20.560663Z"
    },
    "id": "IKB26MgJRfS0"
   },
   "outputs": [],
   "source": [
    "# Pad the token sequence chunks and get the numpy array\n",
    "\n",
    "padded_sequences = make_padded_dataset(seq_chunks)"
   ]
  },
  {
   "cell_type": "code",
   "execution_count": 56,
   "metadata": {
    "ExecuteTime": {
     "end_time": "2020-12-15T05:26:01.062991Z",
     "start_time": "2020-12-15T05:26:01.050306Z"
    }
   },
   "outputs": [
    {
     "name": "stdout",
     "output_type": "stream",
     "text": [
      "(7886, 500)\n",
      "500\n",
      "[ 0  0  0  0  0  0  0  0  0  0  0  0  0  0  0  0  0  0  0  0  0  0  0  0\n",
      "  0  0  0  0  0  0  0  0  0  0  0  0  0  0  0  0  0  0  0  0  0  0  0  0\n",
      "  0  0  0  0  0  0  0  0  0  0  0  0  0  0  0  0  0  0  0  0  0  0  0  0\n",
      "  0  0  0  0  0  0  0  0  0  0  0  0  0  0  0  0  0  0  0  0  0  0  0  0\n",
      "  0  0  0  0  0  0  0  0  0  0  0  0  0  0  0  0  0  0  0  0  0  0  0  0\n",
      "  0  0  0  0  0  0  0  0  0  0  0  0  0  0  0  0  0  0  0  0  0  0  0  0\n",
      "  0  0  0  0  0  0  0  0  0  0  0  0  0  0  0  0  0  0  0  0  0  0  0  0\n",
      "  0  0  0  0  0  0  0  0  0  0  0  0  0  0  0  0  0  0  0  0  0  0  0  0\n",
      "  0  0  0  0  0  0  0  0  0  0  0  0  0  0  0  0  0  0  0  0  0  0  0  0\n",
      "  0  0  0  0  0  0  0  0  0  0  0  0  0  0  0  0  0  0  0  0  0  0  0  0\n",
      "  0  0  0  0  0  0  0  0  0  0  0  0  0  0  0  0  0  0  0  0  0  0  0  0\n",
      "  0  0  0  0  0  0  0  0  0  0  0  0  0  0  0  0  0  0  0  0  0  0  0  0\n",
      "  0  0  0  0  0  0  0  0  0  0  0  0  0  0  0  0  0  0  0  0  0  0  0  0\n",
      "  0  0  0  0  0  0  0  0  0  0  0  0  0  0  0  0  0  0  0  0  0  0  0  0\n",
      "  0  0  0  0  0  0  0  0  0  0  0  0  0  0  0  0  0  0  0  0  0  0  0  0\n",
      "  0  0  0  0  0  0  0  0  0  0  0  0  0  0  0  0  0  0  0  0  0  0  0  0\n",
      "  0  0  0  0  0  0  0  0  0  0  0  0  0  0  0  0  0  0  0  0  0  0  0  0\n",
      "  0  0  0  0  0  0  0  0  0  0  0  0  0  0  0  0  0  0  0  0  0  0  0  0\n",
      "  0  0  0  0  0  0  0  0  0 49 10  8  7  3  1 37 10  3 10 57  2  9 25 11\n",
      " 43  2 19  4  8  2  1 18  2  1 24  8  4 20  2  2 13  1  5  9 16  1 19 14\n",
      "  8  3  6  2  8 17  1  6  2  5  8  1 15  2  1  7 24  2  5 28]\n"
     ]
    }
   ],
   "source": [
    "print(padded_sequences.shape)\n",
    "print(max([len(sequence) for sequence in padded_sequences]))\n",
    "print(padded_sequences[0])"
   ]
  },
  {
   "cell_type": "markdown",
   "metadata": {
    "id": "U-4W2iICRfS3"
   },
   "source": [
    "#### Create model inputs and targets\n",
    "\n",
    "Now you are ready to build your RNN model. The model will receive a sequence of characters and predict the next character in the sequence. At training time, the model can be passed an input sequence, with the target sequence is shifted by one.\n",
    "\n",
    "For example, the expression `To be or not to be` appears in Shakespeare's play 'Hamlet'. Given input `To be or not to b`, the correct prediction is `o be or not to be`. Notice that the prediction is the same length as the input!\n",
    "\n",
    "![sequence_prediction_example](images/rnn_example.png)\n",
    "\n",
    "You should now write the following function to create an input and target array from the current `padded_sequences` array. The function has a single argument that is a 2D numpy array of shape `(num_examples, max_seq_len)`. It should fulfil the following specification:\n",
    "\n",
    "* The function should return an input array and an output array, both of size `(num_examples, max_seq_len - 1)`.\n",
    "* The input array should contain the first `max_seq_len - 1` tokens of each sequence. \n",
    "* The output array should contain the last `max_seq_len - 1` tokens of each sequence. \n",
    "\n",
    "The function should then return the tuple `(input_array, output_array)`. Note that it is possible to complete this function using numpy indexing alone!"
   ]
  },
  {
   "cell_type": "code",
   "execution_count": 62,
   "metadata": {
    "ExecuteTime": {
     "end_time": "2020-12-15T05:47:26.777263Z",
     "start_time": "2020-12-15T05:47:26.772285Z"
    },
    "id": "pzLY5mT3RfS5"
   },
   "outputs": [],
   "source": [
    "#### GRADED CELL ####\n",
    "\n",
    "# Complete the following function.\n",
    "# Make sure not to change the function name or arguments.\n",
    "\n",
    "def create_inputs_and_targets(array_of_sequences):\n",
    "    \"\"\"\n",
    "    This function takes a 2D numpy array of token sequences, and returns a tuple of two\n",
    "    elements: the first element is the input array and the second element is the output\n",
    "    array, which are defined according to the above specification.\n",
    "    \"\"\"   \n",
    "    input_seq =  array_of_sequences[:,0:-1]   \n",
    "    target_seq = array_of_sequences[:,1:] \n",
    "    return input_seq, target_seq\n",
    "    "
   ]
  },
  {
   "cell_type": "code",
   "execution_count": 63,
   "metadata": {
    "ExecuteTime": {
     "end_time": "2020-12-15T05:47:27.975100Z",
     "start_time": "2020-12-15T05:47:27.972043Z"
    },
    "id": "MzHXg9HcRfTB"
   },
   "outputs": [],
   "source": [
    "# Create the input and output arrays\n",
    "\n",
    "input_seq, target_seq = create_inputs_and_targets(padded_sequences)"
   ]
  },
  {
   "cell_type": "code",
   "execution_count": 64,
   "metadata": {
    "ExecuteTime": {
     "end_time": "2020-12-15T05:47:29.248478Z",
     "start_time": "2020-12-15T05:47:29.239050Z"
    }
   },
   "outputs": [
    {
     "name": "stdout",
     "output_type": "stream",
     "text": [
      "[ 0  0  0  0  0  0  0  0  0  0  0  0  0  0  0  0  0  0  0  0  0  0  0  0\n",
      "  0  0  0  0  0  0  0  0  0  0  0  0  0  0  0  0  0  0  0  0  0  0  0  0\n",
      "  0  0  0  0  0  0  0  0  0  0  0  0  0  0  0  0  0  0  0  0  0  0  0  0\n",
      "  0  0  0  0  0  0  0  0  0  0  0  0  0  0  0  0  0  0  0  0  0  0  0  0\n",
      "  0  0  0  0  0  0  0  0  0  0  0  0  0  0  0  0  0  0  0  0  0  0  0  0\n",
      "  0  0  0  0  0  0  0  0  0  0  0  0  0  0  0  0  0  0  0  0  0  0  0  0\n",
      "  0  0  0  0  0  0  0  0  0  0  0  0  0  0  0  0  0  0  0  0  0  0  0  0\n",
      "  0  0  0  0  0  0  0  0  0  0  0  0  0  0  0  0  0  0  0  0  0  0  0  0\n",
      "  0  0  0  0  0  0  0  0  0  0  0  0  0  0  0  0  0  0  0  0  0  0  0  0\n",
      "  0  0  0  0  0  0  0  0  0  0  0  0  0  0  0  0  0  0  0  0  0  0  0  0\n",
      "  0  0  0  0  0  0  0  0  0  0  0  0  0  0  0  0  0  0  0  0  0  0  0  0\n",
      "  0  0  0  0  0  0  0  0  0  0  0  0  0  0  0  0  0  0  0  0  0  0  0  0\n",
      "  0  0  0  0  0  0  0  0  0  0  0  0  0  0  0  0  0  0  0  0  0  0  0  0\n",
      "  0  0  0  0  0  0  0  0  0  0  0  0  0  0  0  0  0  0  0  0  0  0  0  0\n",
      "  0  0  0  0  0  0  0  0  0  0  0  0  0  0  0  0  0  0  0  0  0  0  0  0\n",
      "  0  0  0  0  0  0  0  0  0  0  0  0  0  0  0  0  0  0  0  0  0  0  0  0\n",
      "  0  0  0  0  0  0  0  0  0  0  0  0  0  0  0  0  0  0  0  0  0  0  0  0\n",
      "  0  0  0  0  0  0  0  0  0  0  0  0  0  0  0  0  0  0  0  0  0  0  0  0\n",
      "  0  0  0  0  0  0  0  0  0 49 10  8  7  3  1 37 10  3 10 57  2  9 25 11\n",
      " 43  2 19  4  8  2  1 18  2  1 24  8  4 20  2  2 13  1  5  9 16  1 19 14\n",
      "  8  3  6  2  8 17  1  6  2  5  8  1 15  2  1  7 24  2  5]\n",
      "[ 0  0  0  0  0  0  0  0  0  0  0  0  0  0  0  0  0  0  0  0  0  0  0  0\n",
      "  0  0  0  0  0  0  0  0  0  0  0  0  0  0  0  0  0  0  0  0  0  0  0  0\n",
      "  0  0  0  0  0  0  0  0  0  0  0  0  0  0  0  0  0  0  0  0  0  0  0  0\n",
      "  0  0  0  0  0  0  0  0  0  0  0  0  0  0  0  0  0  0  0  0  0  0  0  0\n",
      "  0  0  0  0  0  0  0  0  0  0  0  0  0  0  0  0  0  0  0  0  0  0  0  0\n",
      "  0  0  0  0  0  0  0  0  0  0  0  0  0  0  0  0  0  0  0  0  0  0  0  0\n",
      "  0  0  0  0  0  0  0  0  0  0  0  0  0  0  0  0  0  0  0  0  0  0  0  0\n",
      "  0  0  0  0  0  0  0  0  0  0  0  0  0  0  0  0  0  0  0  0  0  0  0  0\n",
      "  0  0  0  0  0  0  0  0  0  0  0  0  0  0  0  0  0  0  0  0  0  0  0  0\n",
      "  0  0  0  0  0  0  0  0  0  0  0  0  0  0  0  0  0  0  0  0  0  0  0  0\n",
      "  0  0  0  0  0  0  0  0  0  0  0  0  0  0  0  0  0  0  0  0  0  0  0  0\n",
      "  0  0  0  0  0  0  0  0  0  0  0  0  0  0  0  0  0  0  0  0  0  0  0  0\n",
      "  0  0  0  0  0  0  0  0  0  0  0  0  0  0  0  0  0  0  0  0  0  0  0  0\n",
      "  0  0  0  0  0  0  0  0  0  0  0  0  0  0  0  0  0  0  0  0  0  0  0  0\n",
      "  0  0  0  0  0  0  0  0  0  0  0  0  0  0  0  0  0  0  0  0  0  0  0  0\n",
      "  0  0  0  0  0  0  0  0  0  0  0  0  0  0  0  0  0  0  0  0  0  0  0  0\n",
      "  0  0  0  0  0  0  0  0  0  0  0  0  0  0  0  0  0  0  0  0  0  0  0  0\n",
      "  0  0  0  0  0  0  0  0  0  0  0  0  0  0  0  0  0  0  0  0  0  0  0  0\n",
      "  0  0  0  0  0  0  0  0 49 10  8  7  3  1 37 10  3 10 57  2  9 25 11 43\n",
      "  2 19  4  8  2  1 18  2  1 24  8  4 20  2  2 13  1  5  9 16  1 19 14  8\n",
      "  3  6  2  8 17  1  6  2  5  8  1 15  2  1  7 24  2  5 28]\n"
     ]
    }
   ],
   "source": [
    "print(input_seq[0])\n",
    "print(target_seq[0])"
   ]
  },
  {
   "cell_type": "markdown",
   "metadata": {
    "id": "YFTEK7hnRfTJ"
   },
   "source": [
    "#### Preprocess sequence array for stateful RNN\n",
    "\n",
    "We will build our RNN language model to be stateful, so that the internal state of the RNN will be maintained across batches. For this to be effective, we need to make sure that each element of every batch follows on from the corresponding element of the preceding batch (you may want to look back at the \"Stateful RNNs\" reading notebook earlier in the week).\n",
    "\n",
    "The following code processes the input and output sequence arrays so that they are ready to be split into batches for training a stateful RNN, by re-ordering the sequence examples (the rows) according to a specified batch size. "
   ]
  },
  {
   "cell_type": "code",
   "execution_count": 65,
   "metadata": {
    "ExecuteTime": {
     "end_time": "2020-12-15T05:47:37.305355Z",
     "start_time": "2020-12-15T05:47:37.302088Z"
    },
    "id": "S4gsVamxRfTK"
   },
   "outputs": [],
   "source": [
    "# Fix the batch size for training\n",
    "\n",
    "batch_size = 32"
   ]
  },
  {
   "cell_type": "code",
   "execution_count": 83,
   "metadata": {
    "ExecuteTime": {
     "end_time": "2020-12-15T05:58:05.767552Z",
     "start_time": "2020-12-15T05:58:05.745207Z"
    },
    "id": "cJu9VgWFRfTP"
   },
   "outputs": [
    {
     "name": "stdout",
     "output_type": "stream",
     "text": [
      "7872\n",
      "7872\n",
      "246\n",
      "[   0  246  492 ... 7379 7625 7871] 7872 (7872,)\n",
      "(7872, 499)\n",
      "(7872, 499)\n"
     ]
    }
   ],
   "source": [
    "# Prepare input and output arrays for training the stateful RNN\n",
    "\n",
    "num_examples = input_seq.shape[0]\n",
    "print(num_examples)\n",
    "\n",
    "num_processed_examples = num_examples - (num_examples % batch_size)\n",
    "print(num_processed_examples)\n",
    "\n",
    "input_seq = input_seq[:num_processed_examples]\n",
    "target_seq = target_seq[:num_processed_examples]\n",
    "\n",
    "steps = int(num_processed_examples / batch_size)  # steps per epoch\n",
    "print(steps)\n",
    "\n",
    "inx = np.empty((0,), dtype=np.int32)\n",
    "for i in range(steps):\n",
    "    inx = np.concatenate((inx, i + np.arange(0, num_processed_examples, steps)))\n",
    "\n",
    "print(inx, len(inx), inx.shape)\n",
    "\n",
    "input_seq_stateful = input_seq[inx]\n",
    "target_seq_stateful = target_seq[inx]\n",
    "\n",
    "print(input_seq_stateful.shape)\n",
    "print(target_seq_stateful.shape)"
   ]
  },
  {
   "cell_type": "code",
   "execution_count": 90,
   "metadata": {
    "ExecuteTime": {
     "end_time": "2020-12-15T06:04:24.168464Z",
     "start_time": "2020-12-15T06:04:24.161626Z"
    }
   },
   "outputs": [
    {
     "name": "stdout",
     "output_type": "stream",
     "text": [
      "[ 0  5 10 15 20 25 30 35 40 45  1  6 11 16 21 26 31 36 41 46  2  7 12 17\n",
      " 22 27 32 37 42 47  3  8 13 18 23 28 33 38 43 48  4  9 14 19 24 29 34 39\n",
      " 44 49]\n",
      "50 (50,)\n"
     ]
    }
   ],
   "source": [
    "def test():\n",
    "    num_processed_examples = 50\n",
    "    steps = 5\n",
    "    inx = np.empty((0,), dtype=np.int32)\n",
    "    for i in range(steps):\n",
    "        inx = np.concatenate((inx, i + np.arange(0, num_processed_examples, steps)))\n",
    "    \n",
    "    print(inx)\n",
    "    print(len(inx), inx.shape)\n",
    "test()"
   ]
  },
  {
   "cell_type": "markdown",
   "metadata": {},
   "source": [
    "上面这样处理的目的是，当一个batch训练完成后，下一个batch也能共享上次得隐藏状态。这样如下文所示，连续五个句子（比如：0，1，2，3，4）可以共享隐藏状态。\n",
    "~~~\n",
    "0  5 10 15 20 25 30 35 40 45  \n",
    "1  6 11 16 21 26 31 36 41 46  \n",
    "2  7 12 17 22 27 32 37 42 47  \n",
    "3  8 13 18 23 28 33 38 43 48  \n",
    "4  9 14 19 24 29 34 39 44 49  4\n",
    "~~~"
   ]
  },
  {
   "cell_type": "markdown",
   "metadata": {
    "id": "Rm8gNoNJRfTT"
   },
   "source": [
    "#### Split the data into training and validation sets\n",
    "\n",
    "We will set aside approximately 20% of the data for validation."
   ]
  },
  {
   "cell_type": "code",
   "execution_count": 85,
   "metadata": {
    "ExecuteTime": {
     "end_time": "2020-12-15T05:58:08.011261Z",
     "start_time": "2020-12-15T05:58:08.006364Z"
    },
    "id": "iiLWfyemRfTU"
   },
   "outputs": [],
   "source": [
    "# Create the training and validation splits\n",
    "\n",
    "num_train_examples = int(batch_size * ((0.8 * num_processed_examples) // batch_size))\n",
    "\n",
    "input_train = input_seq_stateful[:num_train_examples]\n",
    "target_train = target_seq_stateful[:num_train_examples]\n",
    "\n",
    "input_valid = input_seq_stateful[num_train_examples:]\n",
    "target_valid = target_seq_stateful[num_train_examples:]"
   ]
  },
  {
   "cell_type": "markdown",
   "metadata": {
    "id": "FQ_mAEoPRfTX"
   },
   "source": [
    "#### Create training and validation Dataset objects\n",
    "\n",
    "You should now write a function to take the training and validation input and target arrays, and create training and validation `tf.data.Dataset` objects. The function takes an input array and target array in the first two arguments, and the batch size in the third argument. Your function should do the following:\n",
    "\n",
    "* Create a `Dataset` using the `from_tensor_slices` static method, passing in a tuple of the input and output numpy arrays.\n",
    "* Batch the `Dataset` using the `batch_size` argument, setting `drop_remainder` to `True`. \n",
    "\n",
    "The function should then return the `Dataset` object."
   ]
  },
  {
   "cell_type": "code",
   "execution_count": 88,
   "metadata": {
    "ExecuteTime": {
     "end_time": "2020-12-15T06:03:14.944463Z",
     "start_time": "2020-12-15T06:03:14.940557Z"
    },
    "id": "_DJAjEHKRfTY"
   },
   "outputs": [],
   "source": [
    "#### GRADED CELL ####\n",
    "\n",
    "# Complete the following function.\n",
    "# Make sure not to change the function name or arguments.\n",
    "\n",
    "def make_Dataset(input_array, target_array, batch_size):\n",
    "    \"\"\"\n",
    "    This function takes two 2D numpy arrays in the first two arguments, and an integer\n",
    "    batch_size in the third argument. It should create and return a Dataset object \n",
    "    using the two numpy arrays and batch size according to the above specification.\n",
    "    \"\"\"\n",
    "    return tf.data.Dataset.from_tensor_slices((input_array, target_array)).batch(batch_size)\n",
    "    "
   ]
  },
  {
   "cell_type": "code",
   "execution_count": 89,
   "metadata": {
    "ExecuteTime": {
     "end_time": "2020-12-15T06:03:16.832059Z",
     "start_time": "2020-12-15T06:03:16.269442Z"
    },
    "id": "rzqK_qVARfTc"
   },
   "outputs": [],
   "source": [
    "# Create the training and validation Datasets\n",
    "\n",
    "train_data = make_Dataset(input_train, target_train, batch_size)\n",
    "valid_data = make_Dataset(input_valid, target_valid, batch_size)"
   ]
  },
  {
   "cell_type": "markdown",
   "metadata": {
    "id": "IKfaWcCCRfTf"
   },
   "source": [
    "#### Build the recurrent neural network model"
   ]
  },
  {
   "cell_type": "markdown",
   "metadata": {
    "id": "KcPyteqDRfTh"
   },
   "source": [
    "You are now ready to build your RNN character-level language model. You should write the following function to build the model; the function takes arguments for the batch size and vocabulary size (number of tokens). Using the Sequential API, your function should build your model according to the following specifications:\n",
    "\n",
    "* The first layer should be an Embedding layer with an embedding dimension of 256 and set the vocabulary size to `vocab_size` from the function argument.\n",
    "* The Embedding layer should also mask the zero padding in the input sequences.\n",
    "* The Embedding layer should also set the `batch_input_shape` to `(batch_size, None)` (a fixed batch size is required for stateful RNNs).\n",
    "* The next layer should be a (uni-directional) GRU layer with 1024 units, set to be a stateful RNN layer.\n",
    "* The GRU layer should return the full sequence, instead of just the output state at the final time step.\n",
    "* The final layer should be a Dense layer with `vocab_size` units and no activation function.\n",
    "\n",
    "In total, the network should have 3 layers."
   ]
  },
  {
   "cell_type": "code",
   "execution_count": 99,
   "metadata": {
    "ExecuteTime": {
     "end_time": "2020-12-15T06:13:00.589149Z",
     "start_time": "2020-12-15T06:13:00.582701Z"
    },
    "id": "oauekqOSRfTi"
   },
   "outputs": [],
   "source": [
    "#### GRADED CELL ####\n",
    "\n",
    "# Complete the following function.\n",
    "# Make sure not to change the function name or arguments.\n",
    "\n",
    "def get_model(vocab_size, batch_size):\n",
    "    \"\"\"\n",
    "    This function takes a vocabulary size and batch size, and builds and returns a \n",
    "    Sequential model according to the above specification.\n",
    "    \"\"\"\n",
    "    model = tf.keras.Sequential([\n",
    "        tf.keras.layers.Embedding(input_dim=vocab_size, output_dim=256, mask_zero=True, \n",
    "                                  batch_input_shape=(batch_size, None)),\n",
    "        tf.keras.layers.GRU(units=1024, stateful=True, return_sequences=True),\n",
    "        tf.keras.layers.Dense(units=vocab_size)\n",
    "    ])    \n",
    "    return model"
   ]
  },
  {
   "cell_type": "code",
   "execution_count": 100,
   "metadata": {
    "ExecuteTime": {
     "end_time": "2020-12-15T06:13:02.676684Z",
     "start_time": "2020-12-15T06:13:01.078885Z"
    },
    "id": "AmmEfYo-RfTl"
   },
   "outputs": [
    {
     "name": "stdout",
     "output_type": "stream",
     "text": [
      "64\n",
      "Model: \"sequential_4\"\n",
      "_________________________________________________________________\n",
      "Layer (type)                 Output Shape              Param #   \n",
      "=================================================================\n",
      "embedding_4 (Embedding)      (32, None, 256)           16640     \n",
      "_________________________________________________________________\n",
      "gru_4 (GRU)                  (32, None, 1024)          3938304   \n",
      "_________________________________________________________________\n",
      "dense_4 (Dense)              (32, None, 65)            66625     \n",
      "=================================================================\n",
      "Total params: 4,021,569\n",
      "Trainable params: 4,021,569\n",
      "Non-trainable params: 0\n",
      "_________________________________________________________________\n"
     ]
    }
   ],
   "source": [
    "# Build the model and print the model summary\n",
    "print(len(tokenizer.word_index))\n",
    "\n",
    "model = get_model(len(tokenizer.word_index) + 1, batch_size)\n",
    "model.summary()"
   ]
  },
  {
   "cell_type": "markdown",
   "metadata": {
    "id": "4PJ4cU0YRfTo"
   },
   "source": [
    "#### Compile and train the model\n",
    "\n",
    "You are now ready to compile and train the model. For this model and dataset, the training time is very long. Therefore for this assignment it is not a requirement to train the model. We have pre-trained a model for you (using the code below) and saved the model weights, which can be loaded to get the model predictions. \n",
    "\n",
    "It is recommended to use accelerator hardware (e.g. using Colab) when training this model. It would also be beneficial to increase the size of the model, e.g. by stacking extra recurrent layers."
   ]
  },
  {
   "cell_type": "code",
   "execution_count": 101,
   "metadata": {
    "ExecuteTime": {
     "end_time": "2020-12-15T06:16:00.261601Z",
     "start_time": "2020-12-15T06:16:00.256924Z"
    },
    "id": "62k8AD8eRfTp"
   },
   "outputs": [],
   "source": [
    "# Choose whether to train a new model or load the pre-trained model\n",
    "\n",
    "skip_training = False"
   ]
  },
  {
   "cell_type": "code",
   "execution_count": 102,
   "metadata": {
    "ExecuteTime": {
     "end_time": "2020-12-15T06:43:39.742329Z",
     "start_time": "2020-12-15T06:16:00.968973Z"
    },
    "id": "DJhnIUHSRfTt"
   },
   "outputs": [
    {
     "name": "stdout",
     "output_type": "stream",
     "text": [
      "Epoch 1/15\n",
      "196/196 [==============================] - 111s 564ms/step - loss: 0.6765 - sparse_categorical_accuracy: 0.3105 - val_loss: 0.5694 - val_sparse_categorical_accuracy: 0.4044\n",
      "Epoch 2/15\n",
      "196/196 [==============================] - 110s 560ms/step - loss: 0.4961 - sparse_categorical_accuracy: 0.4609 - val_loss: 0.4717 - val_sparse_categorical_accuracy: 0.4983\n",
      "Epoch 3/15\n",
      "196/196 [==============================] - 110s 561ms/step - loss: 0.4276 - sparse_categorical_accuracy: 0.5289 - val_loss: 0.4272 - val_sparse_categorical_accuracy: 0.5415\n",
      "Epoch 4/15\n",
      "196/196 [==============================] - 110s 560ms/step - loss: 0.3898 - sparse_categorical_accuracy: 0.5655 - val_loss: 0.4040 - val_sparse_categorical_accuracy: 0.5635\n",
      "Epoch 5/15\n",
      "196/196 [==============================] - 110s 560ms/step - loss: 0.3657 - sparse_categorical_accuracy: 0.5877 - val_loss: 0.3919 - val_sparse_categorical_accuracy: 0.5753\n",
      "Epoch 6/15\n",
      "196/196 [==============================] - 110s 560ms/step - loss: 0.3472 - sparse_categorical_accuracy: 0.6053 - val_loss: 0.3858 - val_sparse_categorical_accuracy: 0.5827\n",
      "Epoch 7/15\n",
      "196/196 [==============================] - 110s 561ms/step - loss: 0.3310 - sparse_categorical_accuracy: 0.6213 - val_loss: 0.3837 - val_sparse_categorical_accuracy: 0.5856\n",
      "Epoch 8/15\n",
      "196/196 [==============================] - 110s 560ms/step - loss: 0.3155 - sparse_categorical_accuracy: 0.6374 - val_loss: 0.3867 - val_sparse_categorical_accuracy: 0.5828\n",
      "Epoch 9/15\n",
      "196/196 [==============================] - 110s 561ms/step - loss: 0.3004 - sparse_categorical_accuracy: 0.6537 - val_loss: 0.3901 - val_sparse_categorical_accuracy: 0.5845\n",
      "Epoch 10/15\n",
      "196/196 [==============================] - 110s 560ms/step - loss: 0.2854 - sparse_categorical_accuracy: 0.6707 - val_loss: 0.3982 - val_sparse_categorical_accuracy: 0.5824\n",
      "Epoch 11/15\n",
      "196/196 [==============================] - 110s 559ms/step - loss: 0.2721 - sparse_categorical_accuracy: 0.6851 - val_loss: 0.4101 - val_sparse_categorical_accuracy: 0.5752\n",
      "Epoch 12/15\n",
      "196/196 [==============================] - 110s 559ms/step - loss: 0.2637 - sparse_categorical_accuracy: 0.6934 - val_loss: 0.4234 - val_sparse_categorical_accuracy: 0.5717\n",
      "Epoch 13/15\n",
      "196/196 [==============================] - 110s 560ms/step - loss: 0.2534 - sparse_categorical_accuracy: 0.7048 - val_loss: 0.4273 - val_sparse_categorical_accuracy: 0.5719\n",
      "Epoch 14/15\n",
      "196/196 [==============================] - 110s 561ms/step - loss: 0.2421 - sparse_categorical_accuracy: 0.7172 - val_loss: 0.4382 - val_sparse_categorical_accuracy: 0.5643\n",
      "Epoch 15/15\n",
      "196/196 [==============================] - 110s 560ms/step - loss: 0.2342 - sparse_categorical_accuracy: 0.7255 - val_loss: 0.4468 - val_sparse_categorical_accuracy: 0.5604\n"
     ]
    }
   ],
   "source": [
    "# Compile and train the model, or load pre-trained weights\n",
    "\n",
    "if not skip_training:\n",
    "    checkpoint_callback=tf.keras.callbacks.ModelCheckpoint(filepath='./models/ckpt',\n",
    "                                                           save_weights_only=True,\n",
    "                                                           save_best_only=True)\n",
    "    model.compile(optimizer='adam', loss=tf.keras.losses.SparseCategoricalCrossentropy(from_logits=True),\n",
    "                  metrics=['sparse_categorical_accuracy'])\n",
    "    history = model.fit(train_data, epochs=15, validation_data=valid_data, \n",
    "                        validation_steps=50, callbacks=[checkpoint_callback])"
   ]
  },
  {
   "cell_type": "code",
   "execution_count": 103,
   "metadata": {
    "ExecuteTime": {
     "end_time": "2020-12-15T06:46:41.749373Z",
     "start_time": "2020-12-15T06:46:41.742896Z"
    },
    "id": "yqjTlQyoRfTx"
   },
   "outputs": [],
   "source": [
    "# Save model history as a json file, or load it if using pre-trained weights\n",
    "\n",
    "if not skip_training:\n",
    "    history_dict = dict()\n",
    "    for k, v in history.history.items():\n",
    "        history_dict[k] = [float(val) for val in history.history[k]]\n",
    "    with open('models/history.json', 'w+') as json_file:\n",
    "        json.dump(history_dict, json_file, sort_keys=True, indent=4)\n",
    "else:\n",
    "    with open('models/history.json', 'r') as json_file:\n",
    "        history_dict = json.load(json_file)"
   ]
  },
  {
   "cell_type": "code",
   "execution_count": null,
   "metadata": {},
   "outputs": [],
   "source": []
  },
  {
   "cell_type": "markdown",
   "metadata": {
    "id": "upDpsmf9RfT2"
   },
   "source": [
    "#### Plot the learning curves"
   ]
  },
  {
   "cell_type": "code",
   "execution_count": 104,
   "metadata": {
    "ExecuteTime": {
     "end_time": "2020-12-15T06:46:49.471845Z",
     "start_time": "2020-12-15T06:46:48.962457Z"
    },
    "id": "gGpPk5bbRfT3"
   },
   "outputs": [
    {
     "data": {
      "image/png": "[encoded data removed]",
      "text/plain": [
       "<Figure size 1080x360 with 2 Axes>"
      ]
     },
     "metadata": {
      "needs_background": "light"
     },
     "output_type": "display_data"
    }
   ],
   "source": [
    "# Run this cell to plot accuracy vs epoch and loss vs epoch\n",
    "\n",
    "plt.figure(figsize=(15,5))\n",
    "plt.subplot(121)\n",
    "plt.plot(history_dict['sparse_categorical_accuracy'])\n",
    "plt.plot(history_dict['val_sparse_categorical_accuracy'])\n",
    "plt.title('Accuracy vs. epochs')\n",
    "plt.ylabel('Accuracy')\n",
    "plt.xlabel('Epoch')\n",
    "plt.xticks(np.arange(len(history_dict['sparse_categorical_accuracy'])))\n",
    "ax = plt.gca()\n",
    "ax.set_xticklabels(1 + np.arange(len(history_dict['sparse_categorical_accuracy'])))\n",
    "plt.legend(['Training', 'Validation'], loc='lower right')\n",
    "\n",
    "plt.subplot(122)\n",
    "plt.plot(history_dict['loss'])\n",
    "plt.plot(history_dict['val_loss'])\n",
    "plt.title('Loss vs. epochs')\n",
    "plt.ylabel('Loss')\n",
    "plt.xlabel('Epoch')\n",
    "plt.xticks(np.arange(len(history_dict['sparse_categorical_accuracy'])))\n",
    "ax = plt.gca()\n",
    "ax.set_xticklabels(1 + np.arange(len(history_dict['sparse_categorical_accuracy'])))\n",
    "plt.legend(['Training', 'Validation'], loc='upper right')\n",
    "plt.show() "
   ]
  },
  {
   "cell_type": "markdown",
   "metadata": {
    "id": "2msBeLSoRfT7"
   },
   "source": [
    "#### Write a text generation algorithm\n",
    "\n",
    "You can now use the model to generate text! In order to generate a single text sequence, the model needs to be rebuilt with a batch size of 1."
   ]
  },
  {
   "cell_type": "code",
   "execution_count": 157,
   "metadata": {
    "ExecuteTime": {
     "end_time": "2020-12-15T08:28:21.517320Z",
     "start_time": "2020-12-15T08:28:19.879986Z"
    },
    "id": "zzQW69qxRfT_"
   },
   "outputs": [
    {
     "data": {
      "text/plain": [
       "<tensorflow.python.training.tracking.util.CheckpointLoadStatus at 0x7f3e2c371fd0>"
      ]
     },
     "execution_count": 157,
     "metadata": {},
     "output_type": "execute_result"
    }
   ],
   "source": [
    "# Re-build the model and load the saved weights\n",
    "\n",
    "model = get_model(len(tokenizer.word_index) + 1, batch_size=1)\n",
    "model.load_weights(tf.train.latest_checkpoint('./models/'))"
   ]
  },
  {
   "cell_type": "markdown",
   "metadata": {
    "id": "TM3LHQAgRfUD"
   },
   "source": [
    "An algorithm to generate text is as follows:\n",
    "\n",
    "1. Specify a seed string (e.g. `'ROMEO:'`) to get the network started, and a define number of characters for the model to generate, `num_generation_steps`.\n",
    "2. Tokenize this sentence to obtain a list containing one list of the integer tokens.\n",
    "3. Reset the initial state of the network. \n",
    "4. Convert the token list into a Tensor (or numpy array) and pass it to your model as a batch of size one.\n",
    "5. Get the model prediction (logits) for the last time step and extract the state of the recurrent layer.\n",
    "6. Use the logits to construct a categorical distribution and sample a token from it.\n",
    "7. Repeat the following for `num_generation_steps - 1` steps:\n",
    "\n",
    "    1. Use the saved state of the recurrent layer and the last sampled token to get new logit predictions\n",
    "    2. Use the logits to construct a new categorical distribution and sample a token from it.\n",
    "    3. Save the updated state of the recurrent layer.    \n",
    "\n",
    "8. Take the final list of tokens and convert to text using the Tokenizer.\n",
    "\n",
    "Note that the internal state of the recurrent layer can be accessed using the `states` property. For the GRU layer, it is a list of one variable:"
   ]
  },
  {
   "cell_type": "code",
   "execution_count": 158,
   "metadata": {
    "ExecuteTime": {
     "end_time": "2020-12-15T08:28:21.524295Z",
     "start_time": "2020-12-15T08:28:21.519986Z"
    },
    "id": "DDbzdt0LRfUE"
   },
   "outputs": [
    {
     "name": "stdout",
     "output_type": "stream",
     "text": [
      "1\n",
      "(1, 1024)\n"
     ]
    }
   ],
   "source": [
    "# Inspect the model's current recurrent state\n",
    "\n",
    "print(len(model.layers[1].states))\n",
    "print(model.layers[1].states[0].shape) \n"
   ]
  },
  {
   "cell_type": "markdown",
   "metadata": {
    "id": "2KvmtkvrRfUI"
   },
   "source": [
    "We will break the algorithm down into two steps. First, you should now complete the following function that takes a sequence of tokens of any length and returns the model's prediction (the logits) for the last time step. The specification is as follows:\n",
    "\n",
    "* The token sequence will be a python list, containing one list of integer tokens, e.g. `[[1, 2, 3, 4]]`\n",
    "* The function should convert the list into a 2D Tensor or numpy array\n",
    "* If the function argument `initial_state` is `None`, then the function should reset the state of the recurrent layer to zeros.\n",
    "* Otherwise, if the function argument `initial_state` is a 2D Tensor or numpy array, assign the value of the internal state of the GRU layer to this argument.\n",
    "* Get the model's prediction (logits) for the last time step only.\n",
    "\n",
    "The function should then return the logits as a 2D numpy array, where the first dimension is equal to 1 (batch size).\n",
    "\n",
    "**Hint:** the internal state of the recurrent can be reset to zeros using the `reset_states` method."
   ]
  },
  {
   "cell_type": "code",
   "execution_count": 171,
   "metadata": {
    "ExecuteTime": {
     "end_time": "2020-12-15T13:38:03.676696Z",
     "start_time": "2020-12-15T13:38:03.670213Z"
    },
    "id": "3aHg6y44RfUJ"
   },
   "outputs": [],
   "source": [
    "#### GRADED CELL ####\n",
    "\n",
    "# Complete the following function.\n",
    "# Make sure not to change the function name or arguments.\n",
    "\n",
    "def get_logits(model, token_sequence, initial_state=None):\n",
    "    \"\"\"\n",
    "    This function takes a model object, a token sequence and an optional initial\n",
    "    state for the recurrent layer. The function should return the logits prediction\n",
    "    for the final time step as a 2D numpy array.\n",
    "    \"\"\"\n",
    "\n",
    "    token_sequence = np.array(token_sequence)\n",
    "    if initial_state is None:\n",
    "        model.layers[1].reset_states()  \n",
    "    else:\n",
    "        model.layers[1].reset_states(states=initial_state)\n",
    "        \n",
    "    predicted = model.predict(token_sequence)\n",
    "    return predicted[:,-1,:]\n",
    "        \n",
    "    "
   ]
  },
  {
   "cell_type": "code",
   "execution_count": 172,
   "metadata": {
    "ExecuteTime": {
     "end_time": "2020-12-15T13:38:04.864182Z",
     "start_time": "2020-12-15T13:38:04.798188Z"
    },
    "id": "La2CNRzqRfUN"
   },
   "outputs": [],
   "source": [
    "# Test the get_logits function by passing a dummy token sequence\n",
    "\n",
    "dummy_initial_state = tf.random.normal(model.layers[1].states[0].shape)\n",
    "predicted = get_logits(model, [[1, 2, 3, 4]], initial_state=dummy_initial_state)"
   ]
  },
  {
   "cell_type": "code",
   "execution_count": 189,
   "metadata": {
    "ExecuteTime": {
     "end_time": "2020-12-15T13:56:42.290179Z",
     "start_time": "2020-12-15T13:56:42.283835Z"
    }
   },
   "outputs": [
    {
     "name": "stdout",
     "output_type": "stream",
     "text": [
      "(1, 65)\n",
      "[[ -7.409024     3.0711079   -0.41050336   3.682313     1.6647576\n",
      "    0.7871422   -4.81554      4.6267476    6.0128794    8.232894\n",
      "    1.5791783   -0.69164735   6.896378     4.123277     6.1079574\n",
      "    6.1978087   -4.668105     0.3688565    1.5348204    5.200271\n",
      "    2.8319008   -0.56819975 -11.164154     2.9193034    6.81919\n",
      "   -2.7579257   -6.6412897   -1.3120527   -0.5841778   -5.7801857\n",
      "    4.5424743   -8.864095    -7.5336843   -2.7117083   -3.8444679\n",
      "   -1.721573    -3.9826112   -5.818267    -2.2291665   -5.404862\n",
      "   -7.9511914   -9.084566    -4.903255    -3.5001085   -1.4380258\n",
      "   -3.0746565   -1.4161524   -6.496345    -0.12571299  -3.758943\n",
      "   -6.6310034   -3.754537    -7.076668    -6.359695    -4.5333385\n",
      "   -2.583404    -1.3587247   -0.35855216  -6.9837584   -5.853405\n",
      "   -6.003276    -6.3335314   -7.648613    -4.9162784   -5.641922  ]]\n",
      "[9]\n"
     ]
    }
   ],
   "source": [
    "print(predicted.shape)\n",
    "print(predicted)\n",
    "print(np.argmax(predicted, axis=-1))"
   ]
  },
  {
   "cell_type": "markdown",
   "metadata": {
    "id": "KcMB8Yv5RfUQ"
   },
   "source": [
    "You should now write a function that takes a logits prediction similar to the above, uses it to create a categorical distribution, and samples a token from this distribution. The following function takes a 2D numpy array `logits` as an argument, and should return a single integer prediction that is sampled from the categorical distribution. \n",
    "\n",
    "**Hint:** you might find the `tf.random.categorical` function useful for this; see the documentation [here](https://www.tensorflow.org/api_docs/python/tf/random/categorical)."
   ]
  },
  {
   "cell_type": "code",
   "execution_count": 193,
   "metadata": {
    "ExecuteTime": {
     "end_time": "2020-12-15T13:57:05.553639Z",
     "start_time": "2020-12-15T13:57:05.549595Z"
    },
    "id": "LObVBMdzRfUS"
   },
   "outputs": [],
   "source": [
    "#### GRADED CELL ####\n",
    "\n",
    "# Complete the following function.\n",
    "# Make sure not to change the function name or arguments.\n",
    "\n",
    "def sample_token(logits):\n",
    "    \"\"\"\n",
    "    This function takes a 2D numpy array as an input, and constructs a \n",
    "    categorical distribution using it. It should then sample from this\n",
    "    distribution and return the sample as a single integer.\n",
    "    \"\"\"\n",
    "    return tf.random.categorical(logits, 1).numpy()[0][0]\n",
    "    "
   ]
  },
  {
   "cell_type": "code",
   "execution_count": 187,
   "metadata": {
    "ExecuteTime": {
     "end_time": "2020-12-15T13:56:30.342482Z",
     "start_time": "2020-12-15T13:56:30.336555Z"
    }
   },
   "outputs": [
    {
     "data": {
      "text/plain": [
       "TensorShape([1, 1024])"
      ]
     },
     "execution_count": 187,
     "metadata": {},
     "output_type": "execute_result"
    }
   ],
   "source": [
    "model.layers[1].states[0].shape"
   ]
  },
  {
   "cell_type": "code",
   "execution_count": 194,
   "metadata": {
    "ExecuteTime": {
     "end_time": "2020-12-15T13:57:16.442721Z",
     "start_time": "2020-12-15T13:57:16.378819Z"
    },
    "id": "MrgPsuOYRfUV"
   },
   "outputs": [
    {
     "data": {
      "text/plain": [
       "8"
      ]
     },
     "execution_count": 194,
     "metadata": {},
     "output_type": "execute_result"
    }
   ],
   "source": [
    "# Test the sample_token function by passing dummy logits\n",
    "\n",
    "dummy_initial_state = tf.random.normal(model.layers[1].states[0].shape)\n",
    "dummy_logits = get_logits(model, [[1, 2, 3, 4]], initial_state=dummy_initial_state)\n",
    "sample_token(dummy_logits)"
   ]
  },
  {
   "cell_type": "code",
   "execution_count": 195,
   "metadata": {
    "ExecuteTime": {
     "end_time": "2020-12-15T13:57:21.438141Z",
     "start_time": "2020-12-15T13:57:21.387954Z"
    },
    "id": "Q23e4MNpRfUY"
   },
   "outputs": [
    {
     "name": "stdout",
     "output_type": "stream",
     "text": [
      "[[-inf -inf -inf -inf -inf -inf -inf -inf -inf -inf -inf -inf -inf -inf\n",
      "  -inf -inf -inf -inf -inf -inf -inf -inf -inf -inf -inf -inf -inf -inf\n",
      "  -inf -inf -inf -inf -inf -inf -inf -inf -inf -inf -inf -inf -inf -inf\n",
      "  -inf -inf -inf -inf -inf -inf -inf -inf -inf -inf -inf -inf -inf -inf\n",
      "  -inf -inf -inf -inf -inf -inf -inf -inf -inf]]\n",
      "[[-inf -inf -inf -inf -inf -inf -inf -inf -inf -inf -inf -inf -inf -inf\n",
      "  -inf -inf -inf -inf -inf -inf   0. -inf -inf -inf -inf -inf -inf -inf\n",
      "  -inf -inf -inf -inf -inf -inf -inf -inf -inf -inf -inf -inf -inf -inf\n",
      "  -inf -inf -inf -inf -inf -inf -inf -inf -inf -inf -inf -inf -inf -inf\n",
      "  -inf -inf -inf -inf -inf -inf -inf -inf -inf]]\n",
      "20\n",
      "[64 36]\n",
      "64 36\n",
      "[[-inf -inf -inf -inf -inf -inf -inf -inf -inf -inf -inf -inf -inf -inf\n",
      "  -inf -inf -inf -inf -inf -inf -inf -inf -inf -inf -inf -inf -inf -inf\n",
      "  -inf -inf -inf -inf -inf -inf -inf -inf   0. -inf -inf -inf -inf -inf\n",
      "  -inf -inf -inf -inf -inf -inf -inf -inf -inf -inf -inf -inf -inf -inf\n",
      "  -inf -inf -inf -inf -inf -inf -inf -inf   0.]]\n",
      "[64, 64, 64, 64, 64, 64, 36, 64, 36, 64, 64, 36, 64, 36, 36, 64, 36, 64, 36, 64, 36, 36, 64, 64, 64, 64, 36, 36, 64, 64, 36, 36, 64, 64, 64, 36, 36, 36, 64, 64, 64, 36, 36, 64, 36, 36, 64, 64, 36, 64, 36, 36, 36, 64, 64, 64, 64, 36, 64, 36, 64, 64, 36, 36, 36, 36, 64, 64, 64, 64, 36, 64, 64, 64, 36, 64, 36, 64, 36, 64, 64, 64, 64, 64, 36, 36, 64, 64, 36, 36, 64, 36, 64, 36, 36, 64, 64, 36, 36, 36]\n"
     ]
    }
   ],
   "source": [
    "logits_size = dummy_logits.shape[1]\n",
    "dummy_logits = -np.inf*np.ones((1, logits_size))\n",
    "print(dummy_logits)\n",
    "\n",
    "dummy_logits[0, 20] = 0\n",
    "print(dummy_logits)\n",
    "\n",
    "sample_token(dummy_logits)\n",
    "print(sample_token(dummy_logits))\n",
    "\n",
    "random_inx = np.random.choice(logits_size, 2, replace=False)\n",
    "print(random_inx)\n",
    "\n",
    "random_inx1, random_inx2 = random_inx[0], random_inx[1]\n",
    "print(random_inx1, random_inx2)\n",
    "\n",
    "dummy_logits = -np.inf*np.ones((1, logits_size))\n",
    "dummy_logits[0, random_inx1] = 0\n",
    "dummy_logits[0, random_inx2] = 0\n",
    "print(dummy_logits)\n",
    "\n",
    "sampled_token = []\n",
    "for _ in range(100):\n",
    "    sampled_token.append(sample_token(dummy_logits))\n",
    "    \n",
    "l_tokens, l_counts = np.unique(np.array(sampled_token), return_counts=True)\n",
    "len(l_tokens) == 2\n",
    "\n",
    "print(sampled_token)"
   ]
  },
  {
   "cell_type": "code",
   "execution_count": 196,
   "metadata": {
    "ExecuteTime": {
     "end_time": "2020-12-15T13:57:34.357517Z",
     "start_time": "2020-12-15T13:57:34.351300Z"
    }
   },
   "outputs": [
    {
     "name": "stdout",
     "output_type": "stream",
     "text": [
      "[[-inf -inf -inf -inf -inf -inf -inf -inf -inf -inf -inf -inf -inf -inf\n",
      "  -inf -inf -inf -inf -inf -inf -inf -inf -inf -inf -inf -inf -inf -inf\n",
      "  -inf -inf -inf -inf -inf -inf -inf -inf   0. -inf -inf -inf -inf -inf\n",
      "  -inf -inf -inf -inf -inf -inf -inf -inf -inf -inf -inf -inf -inf -inf\n",
      "  -inf -inf -inf -inf -inf -inf -inf -inf   0.]]\n"
     ]
    }
   ],
   "source": [
    "\n",
    "print(dummy_logits)"
   ]
  },
  {
   "cell_type": "markdown",
   "metadata": {
    "id": "7A0FOxOTRfUc"
   },
   "source": [
    "#### Generate text from the model\n",
    "\n",
    "You are now ready to generate text from the model!"
   ]
  },
  {
   "cell_type": "code",
   "execution_count": 197,
   "metadata": {
    "ExecuteTime": {
     "end_time": "2020-12-15T13:57:47.450647Z",
     "start_time": "2020-12-15T13:57:47.446978Z"
    },
    "id": "KgXNTiaYRfUd"
   },
   "outputs": [],
   "source": [
    "# Create a seed string and number of generation steps\n",
    "\n",
    "init_string = 'ROMEO:'\n",
    "num_generation_steps = 1000"
   ]
  },
  {
   "cell_type": "code",
   "execution_count": 198,
   "metadata": {
    "ExecuteTime": {
     "end_time": "2020-12-15T13:58:34.673950Z",
     "start_time": "2020-12-15T13:57:48.570656Z"
    },
    "id": "6jm4JeyyRfUf"
   },
   "outputs": [
    {
     "name": "stdout",
     "output_type": "stream",
     "text": [
      "ROMEO:\n",
      "Not will not found, if she tides much tedrious name,\n",
      "My wofs, the peace is strongled place, when you twice bids more\n",
      "To make beloved in the language: we are not perquised,\n",
      "And felt be wrinkled thee o' the people bull all there would\n",
      "be seek a pardon enough, whither would it buys,\n",
      "A ratcles; and in this citiment\n",
      "Ty any to's be foul with money, and fair, and undertake,\n",
      "Let me in comfort and by twenty hadds;\n",
      "Itabling the suboties; let it this taught away my father,\n",
      "Shall then make the better we can guess him the\n",
      "conscameth with such-woman!\n",
      "\n",
      "BUCKINGHAM:\n",
      "Iftire all the people three deputys is tempour'd foring,\n",
      "Some person hollow flourish'd thousand curtained-shate,\n",
      "We'll been a back, my lordsh better neither dead,\n",
      "Takes one was their accusstance; and there you hear me;\n",
      "The known for Richard, hollow, go with him there,\n",
      "And, first anvilutions of renight\n",
      "That he would not rid, sonation, there, true her,\n",
      "And then the beggar to her new marvious queens?\n",
      "\n",
      "LUCIO:\n",
      "Sweet God, sir, we'll to hide her \n"
     ]
    }
   ],
   "source": [
    "# Use the model to generate a token sequence\n",
    "\n",
    "token_sequence = tokenizer.texts_to_sequences([init_string])\n",
    "initial_state = None\n",
    "input_sequence = token_sequence\n",
    "\n",
    "for _ in range(num_generation_steps):\n",
    "    logits = get_logits(model, input_sequence, initial_state=initial_state)\n",
    "    sampled_token = sample_token(logits)\n",
    "    token_sequence[0].append(sampled_token)\n",
    "    input_sequence = [[sampled_token]]\n",
    "    initial_state = model.layers[1].states[0].numpy()\n",
    "    \n",
    "print(tokenizer.sequences_to_texts(token_sequence)[0][::2])"
   ]
  },
  {
   "cell_type": "markdown",
   "metadata": {
    "id": "O9mUfLUyRfUl"
   },
   "source": [
    "Congratulations for completing this programming assignment! In the next week of the course we will see how to build customised models and layers, and make custom training loops."
   ]
  }
 ],
 "metadata": {
  "colab": {
   "collapsed_sections": [
    "gWObVg6DRfSi",
    "iRCN70xkRfSt",
    "U-4W2iICRfS3",
    "YFTEK7hnRfTJ",
    "Rm8gNoNJRfTT",
    "FQ_mAEoPRfTX",
    "IKfaWcCCRfTf",
    "4PJ4cU0YRfTo",
    "upDpsmf9RfT2",
    "2msBeLSoRfT7",
    "7A0FOxOTRfUc"
   ],
   "name": "Week 3 Programming Assignment.ipynb",
   "provenance": []
  },
  "coursera": {
   "course_slug": "tensor-flow-2-2",
   "graded_item_id": "4eYSM",
   "launcher_item_id": "HEV6h"
  },
  "kernelspec": {
   "display_name": "Python 3",
   "language": "python",
   "name": "python3"
  },
  "language_info": {
   "codemirror_mode": {
    "name": "ipython",
    "version": 3
   },
   "file_extension": ".py",
   "mimetype": "text/x-python",
   "name": "python",
   "nbconvert_exporter": "python",
   "pygments_lexer": "ipython3",
   "version": "3.6.9"
  },
  "toc": {
   "base_numbering": 1,
   "nav_menu": {},
   "number_sections": true,
   "sideBar": true,
   "skip_h1_title": false,
   "title_cell": "Table of Contents",
   "title_sidebar": "Contents",
   "toc_cell": false,
   "toc_position": {
    "height": "calc(100% - 180px)",
    "left": "10px",
    "top": "150px",
    "width": "426.662px"
   },
   "toc_section_display": true,
   "toc_window_display": true
  }
 },
 "nbformat": 4,
 "nbformat_minor": 1
}
