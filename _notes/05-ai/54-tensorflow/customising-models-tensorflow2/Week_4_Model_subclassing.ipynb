{
 "cells": [
  {
   "cell_type": "code",
   "execution_count": 27,
   "metadata": {
    "ExecuteTime": {
     "end_time": "2020-12-18T08:30:10.979322Z",
     "start_time": "2020-12-18T08:30:10.974542Z"
    },
    "id": "oEy_XHT0wZim"
   },
   "outputs": [
    {
     "name": "stdout",
     "output_type": "stream",
     "text": [
      "2.3.1\n"
     ]
    }
   ],
   "source": [
    "import tensorflow as tf\n",
    "print(tf.__version__)\n",
    "\n",
    "gpus = tf.config.experimental.list_physical_devices(device_type='GPU')\n",
    "tf.config.experimental.set_virtual_device_configuration(\n",
    "    gpus[0],\n",
    "    [tf.config.experimental.VirtualDeviceConfiguration(memory_limit=1024)]\n",
    ")"
   ]
  },
  {
   "cell_type": "markdown",
   "metadata": {
    "id": "efgOr9jIwZis"
   },
   "source": [
    "# Model subclassing and custom training loops"
   ]
  },
  {
   "cell_type": "markdown",
   "metadata": {
    "id": "5MwpkjuPwZiv"
   },
   "source": [
    " ## Coding tutorials\n",
    " #### [1. Model subclassing](#coding_tutorial_1)\n",
    " #### [2. Custom layers](#coding_tutorial_2)\n",
    " #### [3. Automatic differentiation](#coding_tutorial_3)\n",
    " #### [4. Custom training loops](#coding_tutorial_4)\n",
    " #### [5. tf.function decorator](#coding_tutorial_5)"
   ]
  },
  {
   "cell_type": "markdown",
   "metadata": {
    "id": "zufeK41cwZiv"
   },
   "source": [
    "***\n",
    "<a id=\"coding_tutorial_1\"></a>\n",
    "## Model subclassing"
   ]
  },
  {
   "cell_type": "code",
   "execution_count": 28,
   "metadata": {
    "ExecuteTime": {
     "end_time": "2020-12-18T08:30:13.004233Z",
     "start_time": "2020-12-18T08:30:13.001151Z"
    },
    "id": "TzSJk2XLwZiw"
   },
   "outputs": [],
   "source": [
    "from tensorflow.keras.models import Model\n",
    "from tensorflow.keras.layers import Dense, Dropout, Softmax, concatenate, Conv2D, Flatten"
   ]
  },
  {
   "cell_type": "markdown",
   "metadata": {
    "id": "hsm3K7xSwZiw"
   },
   "source": [
    "#### Create a simple model using the model subclassing API"
   ]
  },
  {
   "cell_type": "code",
   "execution_count": 29,
   "metadata": {
    "ExecuteTime": {
     "end_time": "2020-12-18T08:30:14.341733Z",
     "start_time": "2020-12-18T08:30:14.333583Z"
    },
    "id": "TzvHkHgYwZiw"
   },
   "outputs": [],
   "source": [
    "# Build the model\n",
    "\n",
    "class MyModel(Model):\n",
    "    def __init__(self):\n",
    "        super(MyModel, self).__init__()\n",
    "        self.conv1 = Conv2D(32, 3, activation='relu')\n",
    "        self.flatten = Flatten()\n",
    "        self.d1 = Dense(128, activation='relu')\n",
    "        self.d2 = Dense(10)\n",
    "        self.d3 = Dense(5)\n",
    "        self.softmax = Softmax()\n",
    "        self.dropout = Dropout(0.4)\n",
    "\n",
    "    def call(self, x, training=True):\n",
    "        print(x.shape)\n",
    "        x = self.conv1(x)\n",
    "        x = self.flatten(x)\n",
    "        x = self.d1(x)\n",
    "        if training:\n",
    "            x = self.dropout(x)   \n",
    "        y2 = self.d2(x)\n",
    "        y3 = self.d3(x)\n",
    "        concat = concatenate([x, y2])        \n",
    "        return self.softmax(concat)"
   ]
  },
  {
   "cell_type": "code",
   "execution_count": 30,
   "metadata": {
    "ExecuteTime": {
     "end_time": "2020-12-18T08:30:15.411709Z",
     "start_time": "2020-12-18T08:30:15.378156Z"
    },
    "id": "1UVdJ4zBwZiw"
   },
   "outputs": [
    {
     "name": "stdout",
     "output_type": "stream",
     "text": [
      "(1, 10, 10, 3)\n",
      "Model: \"my_model_14\"\n",
      "_________________________________________________________________\n",
      "Layer (type)                 Output Shape              Param #   \n",
      "=================================================================\n",
      "conv2d_13 (Conv2D)           multiple                  896       \n",
      "_________________________________________________________________\n",
      "flatten_13 (Flatten)         multiple                  0         \n",
      "_________________________________________________________________\n",
      "dense_27 (Dense)             multiple                  262272    \n",
      "_________________________________________________________________\n",
      "dense_28 (Dense)             multiple                  1290      \n",
      "_________________________________________________________________\n",
      "dense_29 (Dense)             multiple                  645       \n",
      "_________________________________________________________________\n",
      "softmax_1 (Softmax)          multiple                  0         \n",
      "_________________________________________________________________\n",
      "dropout_2 (Dropout)          multiple                  0         \n",
      "=================================================================\n",
      "Total params: 265,103\n",
      "Trainable params: 265,103\n",
      "Non-trainable params: 0\n",
      "_________________________________________________________________\n"
     ]
    }
   ],
   "source": [
    "# Print the model summary\n",
    "\n",
    "model = MyModel()\n",
    "model(tf.random.uniform([1, 10, 10, 3]))\n",
    "model.summary()"
   ]
  },
  {
   "cell_type": "markdown",
   "metadata": {
    "id": "__nXoGD4wZix"
   },
   "source": [
    "***\n",
    "<a id=\"coding_tutorial_2\"></a>\n",
    "## Custom layers"
   ]
  },
  {
   "cell_type": "code",
   "execution_count": 31,
   "metadata": {
    "ExecuteTime": {
     "end_time": "2020-12-18T09:20:35.308913Z",
     "start_time": "2020-12-18T09:20:35.305915Z"
    },
    "id": "MFFJhthkwZix"
   },
   "outputs": [],
   "source": [
    "from tensorflow.keras.models import Model\n",
    "from tensorflow.keras.layers import Layer, Softmax"
   ]
  },
  {
   "cell_type": "markdown",
   "metadata": {
    "id": "Q7GvZDXUwZix"
   },
   "source": [
    "#### Create custom layers"
   ]
  },
  {
   "cell_type": "code",
   "execution_count": 39,
   "metadata": {
    "ExecuteTime": {
     "end_time": "2020-12-18T09:28:14.057754Z",
     "start_time": "2020-12-18T09:28:14.043098Z"
    },
    "id": "kvKHpjO5wZix"
   },
   "outputs": [
    {
     "name": "stdout",
     "output_type": "stream",
     "text": [
      "tf.Tensor([[-0.0887603  -0.03158824  0.10893366]], shape=(1, 3), dtype=float32)\n",
      "[<tf.Variable 'Variable:0' shape=(5, 3) dtype=float32, numpy=\n",
      "array([[-0.06611361, -0.01012251,  0.04709266],\n",
      "       [ 0.04247383, -0.03067547, -0.05105848],\n",
      "       [ 0.00967451,  0.04816327,  0.01755005],\n",
      "       [-0.08568632, -0.01594632,  0.07949188],\n",
      "       [ 0.0108913 , -0.02300721,  0.01585755]], dtype=float32)>, <tf.Variable 'Variable:0' shape=(3,) dtype=float32, numpy=array([0., 0., 0.], dtype=float32)>]\n",
      "trainable weights: 2\n",
      "non-trainable weights: 0\n"
     ]
    }
   ],
   "source": [
    "# Create a custom layer\n",
    "class MyLayer(Layer):\n",
    "    \n",
    "    def __init__(self, units, input_dim):\n",
    "        super(MyLayer, self).__init__()\n",
    "        self.w = self.add_weight(shape=(input_dim, units), initializer='random_normal')\n",
    "        self.b = self.add_weight(shape=(units, ), initializer='zeros')\n",
    "        \n",
    "    def call(self, inputs):\n",
    "        return tf.matmul(inputs, self.w) + self.b\n",
    "    \n",
    "    \n",
    "dense_layer = MyLayer(3, 5)\n",
    "x = tf.ones((1, 5))\n",
    "print(dense_layer(x))\n",
    "print(dense_layer.weights)\n",
    "\n",
    "print('trainable weights:', len(dense_layer.trainable_weights))\n",
    "print('non-trainable weights:', len(dense_layer.non_trainable_weights))"
   ]
  },
  {
   "cell_type": "code",
   "execution_count": 40,
   "metadata": {
    "ExecuteTime": {
     "end_time": "2020-12-18T09:28:16.514838Z",
     "start_time": "2020-12-18T09:28:16.502015Z"
    },
    "id": "saGu7NiOwZiy"
   },
   "outputs": [
    {
     "name": "stdout",
     "output_type": "stream",
     "text": [
      "tf.Tensor([[-0.05077089  0.041467   -0.0718202 ]], shape=(1, 3), dtype=float32)\n",
      "[<tf.Variable 'Variable:0' shape=(5, 3) dtype=float32, numpy=\n",
      "array([[ 0.05645476,  0.04166628, -0.0535275 ],\n",
      "       [-0.05540669, -0.00724425,  0.00181697],\n",
      "       [-0.0246241 , -0.02574215, -0.00374594],\n",
      "       [ 0.00973637,  0.07242292, -0.04989716],\n",
      "       [-0.03693122, -0.03963581,  0.03353344]], dtype=float32)>, <tf.Variable 'Variable:0' shape=(3,) dtype=float32, numpy=array([0., 0., 0.], dtype=float32)>]\n"
     ]
    }
   ],
   "source": [
    "# Specify trainable weights\n",
    "\n",
    "class MyLayer(Layer):\n",
    "    \n",
    "    def __init__(self, units, input_dim):\n",
    "        super(MyLayer, self).__init__()\n",
    "        self.w = self.add_weight(shape=(input_dim, units), initializer='random_normal', trainable=False)\n",
    "        self.b = self.add_weight(shape=(units, ), initializer='zeros', trainable=False)\n",
    "        \n",
    "    def call(self, inputs):\n",
    "        return tf.matmul(inputs, self.w) + self.b\n",
    "    \n",
    "    \n",
    "dense_layer = MyLayer(3, 5)\n",
    "x = tf.ones((1, 5))\n",
    "print(dense_layer(x))\n",
    "print(dense_layer.weights)"
   ]
  },
  {
   "cell_type": "code",
   "execution_count": 41,
   "metadata": {
    "ExecuteTime": {
     "end_time": "2020-12-18T09:28:17.641398Z",
     "start_time": "2020-12-18T09:28:17.637740Z"
    },
    "id": "rEjjQ4IlwZiy"
   },
   "outputs": [
    {
     "name": "stdout",
     "output_type": "stream",
     "text": [
      "trainable weights: 0\n",
      "non-trainable weights: 2\n"
     ]
    }
   ],
   "source": [
    "print('trainable weights:', len(dense_layer.trainable_weights))\n",
    "print('non-trainable weights:', len(dense_layer.non_trainable_weights))"
   ]
  },
  {
   "cell_type": "code",
   "execution_count": 53,
   "metadata": {
    "ExecuteTime": {
     "end_time": "2020-12-18T09:39:25.305036Z",
     "start_time": "2020-12-18T09:39:25.291506Z"
    },
    "id": "v7Bvv6YuwZiy"
   },
   "outputs": [],
   "source": [
    "# Create a custom layer to accumulate means of output values\n",
    "\n",
    "class MyLayerMean(Layer):\n",
    "    \n",
    "    def __init__(self, units, input_dim):\n",
    "        super(MyLayerMean, self).__init__()\n",
    "        self.w = self.add_weight(shape=(input_dim, units), initializer='random_normal')\n",
    "        self.b = self.add_weight(shape=(units, ), initializer='zeros')\n",
    "        self.sum_activation = tf.Variable(initial_value = tf.zeros(units, ), trainable=False)\n",
    "        self.number_call = tf.Variable(initial_value = 0, trainable=False)\n",
    "        \n",
    "    def call(self, inputs):\n",
    "        activations = tf.matmul(inputs, self.w) + self.b\n",
    "        self.sum_activation.assign_add(tf.reduce_sum(activations, axis=0))\n",
    "        self.number_call.assign_add(inputs.shape[0])\n",
    "        return activations, self.sum_activation/tf.cast(self.number_call, tf.float32)\n",
    "    \n",
    "    \n",
    "dense_layer = MyLayerMean(3, 5)\n"
   ]
  },
  {
   "cell_type": "code",
   "execution_count": 55,
   "metadata": {
    "ExecuteTime": {
     "end_time": "2020-12-18T09:39:46.370033Z",
     "start_time": "2020-12-18T09:39:46.348916Z"
    },
    "id": "mKq8GKjGwZiy"
   },
   "outputs": [
    {
     "name": "stdout",
     "output_type": "stream",
     "text": [
      "[0.02541718 0.07313026 0.05945349]\n",
      "[[0.02541718 0.07313026 0.05945349]]\n"
     ]
    }
   ],
   "source": [
    "# Test the layer\n",
    "\n",
    "y, activation_means = dense_layer(tf.ones((1, 5)))\n",
    "print(activation_means.numpy())\n",
    "print(y.numpy())"
   ]
  },
  {
   "cell_type": "code",
   "execution_count": 56,
   "metadata": {
    "ExecuteTime": {
     "end_time": "2020-12-18T09:41:49.170537Z",
     "start_time": "2020-12-18T09:41:49.166194Z"
    },
    "id": "5ZJeYaWawZiz"
   },
   "outputs": [],
   "source": [
    "# Create a Dropout layer as a custom layer\n",
    "\n",
    "class MyDropout(Layer):\n",
    "\n",
    "    def __init__(self, rate):\n",
    "        super(MyDropout, self).__init__()\n",
    "        self.rate = rate\n",
    "        \n",
    "    def call(self, inputs):\n",
    "        # Define forward pass for dropout layer\n",
    "        return tf.nn.dropout(inputs, rate=self.rate)"
   ]
  },
  {
   "cell_type": "markdown",
   "metadata": {
    "id": "5CLOyBqdwZiz"
   },
   "source": [
    "#### Implement the custom layers into a model"
   ]
  },
  {
   "cell_type": "code",
   "execution_count": 62,
   "metadata": {
    "ExecuteTime": {
     "end_time": "2020-12-18T09:46:40.813012Z",
     "start_time": "2020-12-18T09:46:40.801905Z"
    },
    "id": "B6NDRpyBwZiz"
   },
   "outputs": [],
   "source": [
    "# Build the model using custom layers with the model subclassing API\n",
    "\n",
    "class MyModel(Model):\n",
    "\n",
    "    def __init__(self, units_1, input_dim_1, units_2, units_3):\n",
    "        super(MyModel, self).__init__()\n",
    "        # Define layers\n",
    "        self.layer_1 = MyLayer(units_1, input_dim_1)\n",
    "        self.dropout_1 = MyDropout(0.5)\n",
    "        self.layer_2 = MyLayer(units_2, units_1)\n",
    "        self.dropout_2 = MyDropout(0.5)\n",
    "        self.layer_3 = MyLayer(units_3, units_2)\n",
    "        self.softmax = Softmax()\n",
    "           \n",
    "    def call(self, inputs):\n",
    "        # Define forward pass\n",
    "        x = self.layer_1(inputs)\n",
    "        x = tf.nn.relu(x)\n",
    "        x = self.dropout_1(x)\n",
    "        x = self.layer_2(x)\n",
    "        x = tf.nn.relu(x)\n",
    "        \n",
    "        x = self.dropout_2(x)    \n",
    "        x = self.layer_3(x)        \n",
    "        return self.softmax(x)"
   ]
  },
  {
   "cell_type": "code",
   "execution_count": 63,
   "metadata": {
    "ExecuteTime": {
     "end_time": "2020-12-18T09:46:41.559628Z",
     "start_time": "2020-12-18T09:46:41.530605Z"
    },
    "id": "1_VdYG2vwZiz"
   },
   "outputs": [
    {
     "name": "stdout",
     "output_type": "stream",
     "text": [
      "tf.Tensor(\n",
      "[[0.0472248  0.01567    0.00690503 0.01069443 0.00692432 0.01713689\n",
      "  0.02578643 0.01235956 0.00279194 0.0337238  0.01202126 0.06991629\n",
      "  0.0055304  0.02718488 0.02292075 0.02179542 0.01492924 0.01563905\n",
      "  0.01101195 0.01581021 0.00617974 0.00794418 0.00611823 0.0033697\n",
      "  0.01713127 0.00490715 0.00461375 0.05687624 0.01026407 0.1304401\n",
      "  0.00222173 0.00746301 0.01835667 0.03669906 0.03931839 0.00586417\n",
      "  0.02577553 0.02258448 0.01208932 0.01538004 0.05692008 0.00782822\n",
      "  0.01387596 0.0671179  0.01584435 0.00883995]], shape=(1, 46), dtype=float32)\n",
      "Model: \"my_model_17\"\n",
      "_________________________________________________________________\n",
      "Layer (type)                 Output Shape              Param #   \n",
      "=================================================================\n",
      "my_layer_15 (MyLayer)        multiple                  640064    \n",
      "_________________________________________________________________\n",
      "my_dropout_4 (MyDropout)     multiple                  0         \n",
      "_________________________________________________________________\n",
      "my_layer_16 (MyLayer)        multiple                  4160      \n",
      "_________________________________________________________________\n",
      "my_dropout_5 (MyDropout)     multiple                  0         \n",
      "_________________________________________________________________\n",
      "my_layer_17 (MyLayer)        multiple                  2990      \n",
      "_________________________________________________________________\n",
      "softmax_4 (Softmax)          multiple                  0         \n",
      "=================================================================\n",
      "Total params: 647,214\n",
      "Trainable params: 0\n",
      "Non-trainable params: 647,214\n",
      "_________________________________________________________________\n"
     ]
    }
   ],
   "source": [
    "# Instantiate a model object\n",
    "\n",
    "model = MyModel(64,10000,64,46)\n",
    "print(model(tf.ones((1, 10000))))\n",
    "model.summary()"
   ]
  },
  {
   "cell_type": "code",
   "execution_count": 65,
   "metadata": {
    "ExecuteTime": {
     "end_time": "2020-12-18T09:48:20.823984Z",
     "start_time": "2020-12-18T09:48:20.687081Z"
    }
   },
   "outputs": [
    {
     "data": {
      "image/png": "[encoded data removed]",
      "text/plain": [
       "<IPython.core.display.Image object>"
      ]
     },
     "execution_count": 65,
     "metadata": {},
     "output_type": "execute_result"
    }
   ],
   "source": [
    "tf.keras.utils.plot_model(model, '{}.png'.format(model.name), show_shapes=True) "
   ]
  },
  {
   "cell_type": "markdown",
   "metadata": {
    "id": "0otlaUWxwZiz"
   },
   "source": [
    "***\n",
    "<a id=\"coding_tutorial_3\"></a>\n",
    "## Automatic differentiation"
   ]
  },
  {
   "cell_type": "code",
   "execution_count": 66,
   "metadata": {
    "ExecuteTime": {
     "end_time": "2020-12-18T11:50:11.017478Z",
     "start_time": "2020-12-18T11:50:10.779095Z"
    },
    "id": "nqlHFdlCwZi0"
   },
   "outputs": [],
   "source": [
    "import numpy as np\n",
    "import matplotlib.pyplot as plt"
   ]
  },
  {
   "cell_type": "markdown",
   "metadata": {
    "id": "QWQJRuS8wZi0"
   },
   "source": [
    "#### Create synthetic data"
   ]
  },
  {
   "cell_type": "code",
   "execution_count": 145,
   "metadata": {
    "ExecuteTime": {
     "end_time": "2020-12-18T12:36:43.549535Z",
     "start_time": "2020-12-18T12:36:43.345232Z"
    },
    "id": "rvPhIePmwZi0"
   },
   "outputs": [
    {
     "name": "stdout",
     "output_type": "stream",
     "text": [
      "(20, 1) (20,)\n",
      "tf.Tensor(\n",
      "[[0.00228572]\n",
      " [0.07270098]\n",
      " [0.3101021 ]\n",
      " [0.34554327]\n",
      " [0.5677916 ]\n",
      " [0.04628778]\n",
      " [0.19111383]\n",
      " [0.7398013 ]\n",
      " [0.09364092]\n",
      " [0.9296832 ]\n",
      " [0.3693894 ]\n",
      " [0.25928056]\n",
      " [0.5211841 ]\n",
      " [0.06053829]\n",
      " [0.770285  ]\n",
      " [0.7547152 ]\n",
      " [0.4888178 ]\n",
      " [0.3480395 ]\n",
      " [0.5328816 ]\n",
      " [0.6335114 ]], shape=(20, 1), dtype=float32)\n",
      "tf.Tensor(\n",
      "[1.970121  2.123747  2.3029656 2.3596523 2.5387628 2.0914638 2.160147\n",
      " 2.7062333 2.0728352 3.0511858 2.2732935 2.2344697 2.5195096 2.1943266\n",
      " 2.7280345 2.8072884 2.6137156 2.2522483 2.5611012 2.535211 ], shape=(20,), dtype=float32)\n"
     ]
    },
    {
     "data": {
      "image/png": "[encoded data removed]",
      "text/plain": [
       "<Figure size 432x288 with 1 Axes>"
      ]
     },
     "metadata": {
      "needs_background": "light"
     },
     "output_type": "display_data"
    }
   ],
   "source": [
    "# Create data from a noise contaminated linear model\n",
    "\n",
    "def MakeNoisyData(m, b, n=20):\n",
    "    x = tf.random.uniform(shape=(n,))\n",
    "    noise = tf.random.normal(shape=(len(x),), stddev=0.1)\n",
    "    y = m * x + b + noise\n",
    "    return x, y\n",
    "\n",
    "m=1\n",
    "b=2\n",
    "x_train, y_train = MakeNoisyData(m,b)\n",
    "x_train = tf.expand_dims(x_train, -1)\n",
    "plt.plot(x_train, y_train, 'b.')\n",
    "print(x_train.shape, y_train.shape)\n",
    "print(x_train)\n",
    "print(y_train)"
   ]
  },
  {
   "cell_type": "markdown",
   "metadata": {
    "id": "KLYOEUP7wZi0"
   },
   "source": [
    "#### Define a linear regression model"
   ]
  },
  {
   "cell_type": "code",
   "execution_count": 146,
   "metadata": {
    "ExecuteTime": {
     "end_time": "2020-12-18T12:36:45.340014Z",
     "start_time": "2020-12-18T12:36:45.336418Z"
    },
    "id": "WPrJRr-0wZi0"
   },
   "outputs": [],
   "source": [
    "from tensorflow.keras.layers import Layer"
   ]
  },
  {
   "cell_type": "code",
   "execution_count": 147,
   "metadata": {
    "ExecuteTime": {
     "end_time": "2020-12-18T12:36:46.147215Z",
     "start_time": "2020-12-18T12:36:46.139460Z"
    },
    "id": "k1_5fb2qwZi0"
   },
   "outputs": [],
   "source": [
    "# Build a custom layer for the linear regression model\n",
    "\n",
    "class LinearLayer(Layer):\n",
    "\n",
    "    def __init__(self, units, **kwargs):\n",
    "        super(LinearLayer, self).__init__(**kwargs)\n",
    "        self.units = units\n",
    "    \n",
    "    def build(self, input_shape):\n",
    "        self.w = self.add_weight(shape=(input_shape[-1], self.units),\n",
    "                                 initializer='random_normal')\n",
    "        self.b = self.add_weight(shape=(self.units,),\n",
    "                                 initializer='zeros')\n",
    "    def call(self, inputs):\n",
    "        return tf.matmul(inputs, self.w)+self.b\n",
    "    \n",
    "linear_regression = LinearLayer(1)"
   ]
  },
  {
   "cell_type": "markdown",
   "metadata": {
    "id": "2spTgcsPwZi1"
   },
   "source": [
    "#### Define the loss function"
   ]
  },
  {
   "cell_type": "code",
   "execution_count": 154,
   "metadata": {
    "ExecuteTime": {
     "end_time": "2020-12-18T14:50:47.705860Z",
     "start_time": "2020-12-18T14:50:47.682383Z"
    },
    "id": "CMb1xC7EwZi1"
   },
   "outputs": [
    {
     "name": "stdout",
     "output_type": "stream",
     "text": [
      "Starting loss 0.0047677658\n",
      "--------------------------------------------------\n",
      "<tf.Variable 'linear_layer_5/Variable:0' shape=(1, 1) dtype=float32, numpy=array([[0.9492469]], dtype=float32)>\n",
      "--------------------------------------------------\n",
      "<tf.Variable 'linear_layer_5/Variable:0' shape=(1,) dtype=float32, numpy=array([2.024504], dtype=float32)>\n"
     ]
    }
   ],
   "source": [
    "# Define the mean squared error loss function\n",
    "\n",
    "def SquaredError(y_pred, y_true):\n",
    "#     print(y_pred.shape, y_true.shape)\n",
    "    return tf.reduce_mean(tf.square(tf.squeeze(y_pred) - y_true)) \n",
    "\n",
    "\n",
    "\n",
    "starting_loss = SquaredError(linear_regression(x_train), y_train)\n",
    "print(\"Starting loss\", starting_loss.numpy())\n",
    "\n",
    "for variables in linear_regression.trainable_variables:\n",
    "    print('-'*50)\n",
    "    print(variables)"
   ]
  },
  {
   "cell_type": "markdown",
   "metadata": {
    "id": "ttdkHh0rwZi1"
   },
   "source": [
    "#### Train and plot the model"
   ]
  },
  {
   "cell_type": "code",
   "execution_count": 155,
   "metadata": {
    "ExecuteTime": {
     "end_time": "2020-12-18T14:50:49.813572Z",
     "start_time": "2020-12-18T14:50:49.720023Z"
    },
    "id": "xXu7E_tOwZi1"
   },
   "outputs": [
    {
     "name": "stdout",
     "output_type": "stream",
     "text": [
      "step 1, loss 0.00477, w 0.9495775103569031, b 2.0243868827819824\n",
      "step 2, loss 0.00477, w 0.9499050974845886, b 2.02426815032959\n",
      "step 3, loss 0.00476, w 0.950229823589325, b 2.0241482257843018\n",
      "step 4, loss 0.00476, w 0.9505517482757568, b 2.024027109146118\n",
      "step 5, loss 0.00476, w 0.9508709907531738, b 2.0239052772521973\n",
      "step 6, loss 0.00476, w 0.9511876106262207, b 2.023782730102539\n",
      "step 7, loss 0.00475, w 0.951501727104187, b 2.0236597061157227\n",
      "step 8, loss 0.00475, w 0.9518134593963623, b 2.023536443710327\n",
      "step 9, loss 0.00475, w 0.9521228075027466, b 2.0234129428863525\n",
      "step 10, loss 0.00475, w 0.9524298906326294, b 2.023289442062378\n",
      "step 11, loss 0.00474, w 0.9527347087860107, b 2.0231659412384033\n",
      "step 12, loss 0.00474, w 0.9530373811721802, b 2.0230424404144287\n",
      "step 13, loss 0.00474, w 0.9533379077911377, b 2.022919178009033\n",
      "step 14, loss 0.00474, w 0.9536363482475281, b 2.022796154022217\n",
      "step 15, loss 0.00474, w 0.9539327025413513, b 2.0226733684539795\n",
      "step 16, loss 0.00473, w 0.9542270302772522, b 2.0225510597229004\n",
      "step 17, loss 0.00473, w 0.9545193910598755, b 2.0224289894104004\n",
      "step 18, loss 0.00473, w 0.9548097848892212, b 2.0223073959350586\n",
      "step 19, loss 0.00473, w 0.9550982713699341, b 2.022186279296875\n",
      "step 20, loss 0.00473, w 0.9553848505020142, b 2.0220656394958496\n",
      "step 21, loss 0.00472, w 0.9556695818901062, b 2.0219457149505615\n",
      "step 22, loss 0.00472, w 0.9559524655342102, b 2.0218262672424316\n",
      "step 23, loss 0.00472, w 0.9562335014343262, b 2.021707534790039\n",
      "step 24, loss 0.00472, w 0.9565126895904541, b 2.0215892791748047\n",
      "step 25, loss 0.00472, w 0.9567900896072388, b 2.0214715003967285\n"
     ]
    }
   ],
   "source": [
    "# Implement a gradient descent training loop for the linear regression model\n",
    "\n",
    "learning_rate = 0.05\n",
    "steps =25\n",
    "\n",
    "for i in range(steps):\n",
    "    with tf.GradientTape() as tape:\n",
    "        precisions = linear_regression(x_train)\n",
    "        loss = SquaredError(precisions, y_train)\n",
    "        \n",
    "    gradients = tape.gradient(loss, linear_regression.trainable_variables)\n",
    "    linear_regression.w.assign_sub(learning_rate * gradients[0])\n",
    "    linear_regression.b.assign_sub(learning_rate * gradients[1])\n",
    "    \n",
    "    print('step {}, loss {:0.5f}, w {}, b {}'.format(i+1, loss, \n",
    "                                                     linear_regression.w.numpy()[0][0], \n",
    "                                                     linear_regression.b.numpy()[0]))\n",
    "        "
   ]
  },
  {
   "cell_type": "code",
   "execution_count": 156,
   "metadata": {
    "ExecuteTime": {
     "end_time": "2020-12-18T14:50:55.453556Z",
     "start_time": "2020-12-18T14:50:55.240971Z"
    },
    "id": "zYeW0NURwZi1"
   },
   "outputs": [
    {
     "name": "stdout",
     "output_type": "stream",
     "text": [
      "w:1,  trained w:[[0.9567901]]\n",
      "b:2,  trained b:[2.0214715]\n",
      "[0.00228572 0.0212122  0.04013868 0.05906516 0.07799164 0.09691812\n",
      " 0.1158446  0.13477107 0.15369755 0.17262403 0.19155051 0.21047699\n",
      " 0.22940347 0.24832995 0.26725643 0.28618291 0.30510939 0.32403587\n",
      " 0.34296235 0.36188883 0.38081531 0.39974179 0.41866827 0.43759474\n",
      " 0.45652122 0.4754477  0.49437418 0.51330066 0.53222714 0.55115362\n",
      " 0.5700801  0.58900658 0.60793306 0.62685954 0.64578602 0.6647125\n",
      " 0.68363898 0.70256546 0.72149194 0.74041841 0.75934489 0.77827137\n",
      " 0.79719785 0.81612433 0.83505081 0.85397729 0.87290377 0.89183025\n",
      " 0.91075673 0.92968321]\n",
      "[2.0236585 2.0417671 2.0598757 2.0779846 2.0960932 2.1142018 2.1323104\n",
      " 2.1504192 2.1685278 2.1866364 2.204745  2.222854  2.2409625 2.259071\n",
      " 2.2771797 2.2952886 2.3133972 2.3315058 2.3496144 2.3677232 2.3858318\n",
      " 2.4039404 2.422049  2.440158  2.4582665 2.476375  2.494484  2.5125926\n",
      " 2.5307012 2.5488098 2.5669184 2.5850272 2.6031358 2.6212444 2.6393533\n",
      " 2.657462  2.6755705 2.693679  2.7117877 2.7298965 2.7480052 2.7661138\n",
      " 2.7842226 2.8023312 2.8204398 2.8385484 2.856657  2.8747659 2.8928745\n",
      " 2.910983 ]\n"
     ]
    },
    {
     "data": {
      "text/plain": [
       "[<matplotlib.lines.Line2D at 0x7f9aa4bce748>]"
      ]
     },
     "execution_count": 156,
     "metadata": {},
     "output_type": "execute_result"
    },
    {
     "data": {
      "image/png": "[encoded data removed]",
      "text/plain": [
       "<Figure size 432x288 with 1 Axes>"
      ]
     },
     "metadata": {
      "needs_background": "light"
     },
     "output_type": "display_data"
    }
   ],
   "source": [
    "# Plot the learned regression model\n",
    "\n",
    "print(\"w:{},  trained w:{}\".format(m, linear_regression.w.numpy()))\n",
    "print(\"b:{},  trained b:{}\".format(b, linear_regression.b.numpy()))\n",
    "\n",
    "x_train_flatten = tf.squeeze(x_train)\n",
    "\n",
    "plt.plot(x_train_flatten, y_train, 'b.')\n",
    "\n",
    "x_linear_regression = np.linspace(min(x_train_flatten), max(x_train_flatten),50)\n",
    "print(x_linear_regression)\n",
    "y_linear_regression = tf.squeeze(np.expand_dims(x_linear_regression, -1) @ linear_regression.w +linear_regression.b).numpy()\n",
    "print(y_linear_regression)\n",
    "\n",
    "plt.plot(x_linear_regression, y_linear_regression, 'r.')"
   ]
  },
  {
   "cell_type": "markdown",
   "metadata": {
    "id": "RYTUUJs1wZi2"
   },
   "source": [
    "***\n",
    "<a id=\"coding_tutorial_4\"></a>\n",
    "## Custom training loops"
   ]
  },
  {
   "cell_type": "code",
   "execution_count": 157,
   "metadata": {
    "ExecuteTime": {
     "end_time": "2020-12-18T14:51:03.620281Z",
     "start_time": "2020-12-18T14:51:03.616829Z"
    },
    "id": "auMz4OqBwZi2"
   },
   "outputs": [],
   "source": [
    "import numpy as np\n",
    "import matplotlib.pyplot as plt\n",
    "import time"
   ]
  },
  {
   "cell_type": "markdown",
   "metadata": {
    "id": "CP1cANPzwZi2"
   },
   "source": [
    "#### Build the model"
   ]
  },
  {
   "cell_type": "code",
   "execution_count": 158,
   "metadata": {
    "ExecuteTime": {
     "end_time": "2020-12-18T14:51:05.068681Z",
     "start_time": "2020-12-18T14:51:05.064893Z"
    },
    "id": "lA69uGkLwZi2"
   },
   "outputs": [],
   "source": [
    "from tensorflow.keras.models import Model\n",
    "from tensorflow.keras.layers import Layer, Softmax"
   ]
  },
  {
   "cell_type": "code",
   "execution_count": 349,
   "metadata": {
    "ExecuteTime": {
     "end_time": "2020-12-19T08:53:41.215818Z",
     "start_time": "2020-12-19T08:53:41.156491Z"
    },
    "id": "pNrDBDlnwZi2"
   },
   "outputs": [
    {
     "name": "stdout",
     "output_type": "stream",
     "text": [
      "tf.Tensor(\n",
      "[[0.01905704 0.0048619  0.00659824 0.00924285 0.00794735 0.00790444\n",
      "  0.04280631 0.06548678 0.03972272 0.01209657 0.03641945 0.11534212\n",
      "  0.02935519 0.00857414 0.01164989 0.0087494  0.09792322 0.02604656\n",
      "  0.00732429 0.05043616 0.0031796  0.02472663 0.0327802  0.00154258\n",
      "  0.03307339 0.07986302 0.00189073 0.0124075  0.00164328 0.02945884\n",
      "  0.00118147 0.00799095 0.03867982 0.00415878 0.0225537  0.00474669\n",
      "  0.00963882 0.00590174 0.00777456 0.00590572 0.00231599 0.00915196\n",
      "  0.0014536  0.00993758 0.02983645 0.01066175]], shape=(1, 46), dtype=float32)\n",
      "Model: \"my_model_32\"\n",
      "_________________________________________________________________\n",
      "Layer (type)                 Output Shape              Param #   \n",
      "=================================================================\n",
      "my_layer_60 (MyLayer)        multiple                  640064    \n",
      "_________________________________________________________________\n",
      "my_dropout_32 (MyDropout)    multiple                  0         \n",
      "_________________________________________________________________\n",
      "my_layer_61 (MyLayer)        multiple                  4160      \n",
      "_________________________________________________________________\n",
      "my_dropout_33 (MyDropout)    multiple                  0         \n",
      "_________________________________________________________________\n",
      "my_layer_62 (MyLayer)        multiple                  2990      \n",
      "_________________________________________________________________\n",
      "softmax_18 (Softmax)         multiple                  0         \n",
      "=================================================================\n",
      "Total params: 647,214\n",
      "Trainable params: 647,214\n",
      "Non-trainable params: 0\n",
      "_________________________________________________________________\n"
     ]
    }
   ],
   "source": [
    "# Define the custom layers and model\n",
    "\n",
    "class MyLayer(Layer):\n",
    "\n",
    "    def __init__(self, units, **kwargs):\n",
    "        super(MyLayer, self).__init__(**kwargs)\n",
    "        self.units = units\n",
    "    \n",
    "    def build(self, input_shape):\n",
    "        self.w = self.add_weight(shape=(input_shape[-1], self.units),\n",
    "                                 initializer='random_normal', \n",
    "                                 name='kernal'\n",
    "                                )\n",
    "        self.b = self.add_weight(shape=(self.units,),\n",
    "                                 initializer='zeros',\n",
    "                                 name='bias'\n",
    "                                )\n",
    "    def call(self, inputs):\n",
    "        return tf.matmul(inputs, self.w)+self.b\n",
    "    \n",
    "class MyDropout(Layer):\n",
    "\n",
    "    def __init__(self, rate):\n",
    "        super(MyDropout, self).__init__()\n",
    "        self.rate = rate\n",
    "        \n",
    "    def call(self, inputs, training=None):\n",
    "        # Define forward pass for dropout layer\n",
    "        if training:\n",
    "            return tf.nn.dropout(inputs, rate=self.rate)\n",
    "        return inputs\n",
    "    \n",
    "class MyModel(Model):\n",
    "\n",
    "    def __init__(self, units_1, units_2, units_3):\n",
    "        super(MyModel, self).__init__()\n",
    "        # Define layers\n",
    "        self.layer_1 = MyLayer(units_1)\n",
    "        self.dropout_1 = MyDropout(0.5)\n",
    "        self.layer_2 = MyLayer(units_2)\n",
    "        self.dropout_2 = MyDropout(0.5)\n",
    "        self.layer_3 = MyLayer(units_3)\n",
    "        self.softmax = Softmax()\n",
    "           \n",
    "    def call(self, inputs, training=True):\n",
    "        # Define forward pass\n",
    "        x = self.layer_1(inputs)\n",
    "        x = tf.nn.relu(x)\n",
    "        x = self.dropout_1(x, training)\n",
    "        x = self.layer_2(x)\n",
    "        x = tf.nn.relu(x)   \n",
    "        x = self.dropout_2(x, training)    \n",
    "        x = self.layer_3(x)        \n",
    "        return self.softmax(x)\n",
    "    \n",
    "model = MyModel(64, 64, 46)\n",
    "print(model(tf.ones((1, 10000))))\n",
    "model.summary()"
   ]
  },
  {
   "cell_type": "markdown",
   "metadata": {
    "id": "x1AclCqRwZi2"
   },
   "source": [
    "#### Load the reuters dataset and define the class_names "
   ]
  },
  {
   "cell_type": "code",
   "execution_count": 350,
   "metadata": {
    "ExecuteTime": {
     "end_time": "2020-12-19T08:53:45.039024Z",
     "start_time": "2020-12-19T08:53:44.302250Z"
    },
    "id": "TkCXGZ_BwZi3"
   },
   "outputs": [
    {
     "name": "stdout",
     "output_type": "stream",
     "text": [
      "46\n"
     ]
    }
   ],
   "source": [
    "# Load the dataset\n",
    "\n",
    "from tensorflow.keras.datasets import reuters\n",
    "\n",
    "(train_data, train_labels), (test_data, test_labels) = reuters.load_data(num_words=10000)\n",
    "\n",
    "class_names = ['cocoa','grain','veg-oil','earn','acq','wheat','copper','housing','money-supply',\n",
    "   'coffee','sugar','trade','reserves','ship','cotton','carcass','crude','nat-gas',\n",
    "   'cpi','money-fx','interest','gnp','meal-feed','alum','oilseed','gold','tin',\n",
    "   'strategic-metal','livestock','retail','ipi','iron-steel','rubber','heat','jobs',\n",
    "   'lei','bop','zinc','orange','pet-chem','dlr','gas','silver','wpi','hog','lead']\n",
    "\n",
    "print(len(class_names))"
   ]
  },
  {
   "cell_type": "code",
   "execution_count": 351,
   "metadata": {
    "ExecuteTime": {
     "end_time": "2020-12-19T08:53:45.046020Z",
     "start_time": "2020-12-19T08:53:45.041653Z"
    }
   },
   "outputs": [
    {
     "name": "stdout",
     "output_type": "stream",
     "text": [
      "(8982,) (8982,)\n",
      "(2246,) (2246,)\n",
      "[1, 2, 2, 8, 43, 10, 447, 5, 25, 207, 270, 5, 3095, 111, 16, 369, 186, 90, 67, 7, 89, 5, 19, 102, 6, 19, 124, 15, 90, 67, 84, 22, 482, 26, 7, 48, 4, 49, 8, 864, 39, 209, 154, 6, 151, 6, 83, 11, 15, 22, 155, 11, 15, 7, 48, 9, 4579, 1005, 504, 6, 258, 6, 272, 11, 15, 22, 134, 44, 11, 15, 16, 8, 197, 1245, 90, 67, 52, 29, 209, 30, 32, 132, 6, 109, 15, 17, 12] 87\n"
     ]
    }
   ],
   "source": [
    "print(train_data.shape, train_labels.shape)\n",
    "print(test_data.shape, test_labels.shape)\n",
    "\n",
    "print(train_data[0], len(train_data[0]))"
   ]
  },
  {
   "cell_type": "code",
   "execution_count": 352,
   "metadata": {
    "ExecuteTime": {
     "end_time": "2020-12-19T08:53:46.666216Z",
     "start_time": "2020-12-19T08:53:46.661067Z"
    },
    "id": "udKmufexwZi3"
   },
   "outputs": [
    {
     "name": "stdout",
     "output_type": "stream",
     "text": [
      "Label: earn\n"
     ]
    }
   ],
   "source": [
    "# Print the class of the f·irst sample\n",
    "\n",
    "print(\"Label: {}\".format(class_names[train_labels[0]]))"
   ]
  },
  {
   "cell_type": "markdown",
   "metadata": {
    "id": "XgtrgBc3wZi3"
   },
   "source": [
    "#### Get the dataset word index"
   ]
  },
  {
   "cell_type": "code",
   "execution_count": 353,
   "metadata": {
    "ExecuteTime": {
     "end_time": "2020-12-19T08:53:48.267442Z",
     "start_time": "2020-12-19T08:53:48.230949Z"
    },
    "id": "JjPhdAd6wZi3"
   },
   "outputs": [],
   "source": [
    "# Load the Reuters word index\n",
    "\n",
    "word_to_index = reuters.get_word_index()\n",
    "\n",
    "invert_word_index = dict([(value, key) for (key, value) in word_to_index.items()])\n",
    "text_news = ' '.join([invert_word_index.get(i - 3, '?') for i in train_data[0]])"
   ]
  },
  {
   "cell_type": "code",
   "execution_count": 354,
   "metadata": {
    "ExecuteTime": {
     "end_time": "2020-12-19T08:53:48.896631Z",
     "start_time": "2020-12-19T08:53:48.890978Z"
    },
    "id": "J1g0XxOQwZi3"
   },
   "outputs": [
    {
     "name": "stdout",
     "output_type": "stream",
     "text": [
      "? ? ? said as a result of its december acquisition of space co it expects earnings per share in 1987 of 1 15 to 1 30 dlrs per share up from 70 cts in 1986 the company said pretax net should rise to nine to 10 mln dlrs from six mln dlrs in 1986 and rental operation revenues to 19 to 22 mln dlrs from 12 5 mln dlrs it said cash flow per share this year should be 2 50 to three dlrs reuter 3\n"
     ]
    },
    {
     "data": {
      "text/plain": [
       "'? ? ? said as a result of its december acquisition of space co it expects earnings per share in 1987 of 1 15 to 1 30 dlrs per share up from 70 cts in 1986 the company said pretax net should rise to nine to 10 mln dlrs from six mln dlrs in 1986 and rental operation revenues to 19 to 22 mln dlrs from 12 5 mln dlrs it said cash flow per share this year should be 2 50 to three dlrs reuter 3'"
      ]
     },
     "execution_count": 354,
     "metadata": {},
     "output_type": "execute_result"
    }
   ],
   "source": [
    "# Print the first data example sentence\n",
    "print(text_news)\n",
    "' '.join([invert_word_index.get(i - 3, '?') for i in train_data[0]])"
   ]
  },
  {
   "cell_type": "markdown",
   "metadata": {
    "id": "oybvVjOnwZi3"
   },
   "source": [
    "#### Preprocess the data"
   ]
  },
  {
   "cell_type": "code",
   "execution_count": 355,
   "metadata": {
    "ExecuteTime": {
     "end_time": "2020-12-19T08:53:50.962941Z",
     "start_time": "2020-12-19T08:53:50.486695Z"
    },
    "id": "9KLjAMOcwZi4"
   },
   "outputs": [
    {
     "name": "stdout",
     "output_type": "stream",
     "text": [
      "[1, 2, 2, 8, 43, 10, 447, 5, 25, 207, 270, 5, 3095, 111, 16, 369, 186, 90, 67, 7, 89, 5, 19, 102, 6, 19, 124, 15, 90, 67, 84, 22, 482, 26, 7, 48, 4, 49, 8, 864, 39, 209, 154, 6, 151, 6, 83, 11, 15, 22, 155, 11, 15, 7, 48, 9, 4579, 1005, 504, 6, 258, 6, 272, 11, 15, 22, 134, 44, 11, 15, 16, 8, 197, 1245, 90, 67, 52, 29, 209, 30, 32, 132, 6, 109, 15, 17, 12]\n",
      "[1, 4, 1378, 2025, 9, 697, 4622, 111, 8, 25, 109, 29, 3650, 11, 150, 244, 364, 33, 30, 30, 1398, 333, 6, 2, 159, 9, 1084, 363, 13, 2, 71, 9, 2, 71, 117, 4, 225, 78, 206, 10, 9, 1214, 8, 4, 270, 5, 2, 7, 748, 48, 9, 2, 7, 207, 1451, 966, 1864, 793, 97, 133, 336, 7, 4, 493, 98, 273, 104, 284, 25, 39, 338, 22, 905, 220, 3465, 644, 59, 20, 6, 119, 61, 11, 15, 58, 579, 26, 10, 67, 7, 4, 738, 98, 43, 88, 333, 722, 12, 20, 6, 19, 746, 35, 15, 10, 9, 1214, 855, 129, 783, 21, 4, 2280, 244, 364, 51, 16, 299, 452, 16, 515, 4, 99, 29, 5, 4, 364, 281, 48, 10, 9, 1214, 23, 644, 47, 20, 324, 27, 56, 2, 2, 5, 192, 510, 17, 12]\n",
      "Shape of x_train: (8982, 10000)\n",
      "Shape of x_test: (2246, 10000)\n",
      "float64\n"
     ]
    }
   ],
   "source": [
    "# Define a function that encodes the data into a 'bag of words' representation\n",
    "\n",
    "def bag_of_words(text_samples, elements=10000):\n",
    "    output = np.zeros((len(text_samples), elements))\n",
    "    for i, word in enumerate(text_samples):\n",
    "        if i==0: print(word)\n",
    "        output[i, word] = 1.\n",
    "    return output\n",
    "\n",
    "x_train = bag_of_words(train_data)\n",
    "x_test = bag_of_words(test_data)\n",
    "\n",
    "print(\"Shape of x_train:\", x_train.shape)\n",
    "print(\"Shape of x_test:\", x_test.shape)\n",
    "print(x_train.dtype)"
   ]
  },
  {
   "cell_type": "code",
   "execution_count": 356,
   "metadata": {
    "ExecuteTime": {
     "end_time": "2020-12-19T08:53:55.677092Z",
     "start_time": "2020-12-19T08:53:55.663686Z"
    },
    "scrolled": false
   },
   "outputs": [
    {
     "name": "stdout",
     "output_type": "stream",
     "text": [
      "57\n"
     ]
    }
   ],
   "source": [
    "print(len([str(i) for i,v in enumerate(x_train[0]) if v>0] ))"
   ]
  },
  {
   "cell_type": "code",
   "execution_count": 357,
   "metadata": {
    "ExecuteTime": {
     "end_time": "2020-12-19T08:53:56.284707Z",
     "start_time": "2020-12-19T08:53:56.276625Z"
    }
   },
   "outputs": [
    {
     "name": "stdout",
     "output_type": "stream",
     "text": [
      "[1, 2, 2, 8, 43, 10, 447, 5, 25, 207, 270, 5, 3095, 111, 16, 369, 186, 90, 67, 7, 89, 5, 19, 102, 6, 19, 124, 15, 90, 67, 84, 22, 482, 26, 7, 48, 4, 49, 8, 864, 39, 209, 154, 6, 151, 6, 83, 11, 15, 22, 155, 11, 15, 7, 48, 9, 4579, 1005, 504, 6, 258, 6, 272, 11, 15, 22, 134, 44, 11, 15, 16, 8, 197, 1245, 90, 67, 52, 29, 209, 30, 32, 132, 6, 109, 15, 17, 12] 87 57\n",
      "(8982,)\n"
     ]
    }
   ],
   "source": [
    "print(train_data[0], len(train_data[0]), len(set(train_data[0])))\n",
    "print(train_data.shape)"
   ]
  },
  {
   "cell_type": "markdown",
   "metadata": {
    "id": "j7o1D9uwwZi4"
   },
   "source": [
    "#### Define the loss function and optimizer\n",
    "\n"
   ]
  },
  {
   "cell_type": "code",
   "execution_count": 358,
   "metadata": {
    "ExecuteTime": {
     "end_time": "2020-12-19T08:53:58.707659Z",
     "start_time": "2020-12-19T08:53:58.696522Z"
    },
    "id": "Gfu0mRt8wZi4"
   },
   "outputs": [],
   "source": [
    "# Define the categorical cross entropy loss and Adam optimizer\n",
    "\n",
    "loss_object = tf.keras.losses.SparseCategoricalCrossentropy()\n",
    "\n",
    "def loss(model, x, y, wd):\n",
    "    kernel_variables = []\n",
    "    for l in model.layers:\n",
    "        for w in l.weights:\n",
    "            if 'kernel' in w.name:\n",
    "                kernel_variables.append(w)\n",
    "    wd_penalty = wd * tf.reduce_sum([tf.reduce_sum(tf.square(k)) for k in kernel_variables])\n",
    "    y_ = model(x)\n",
    "    total_loss = loss_object(y_true=y, y_pred=y_) + wd_penalty\n",
    "    return total_loss\n",
    "\n",
    "optimizer = tf.keras.optimizers.Adam(learning_rate=0.001)"
   ]
  },
  {
   "cell_type": "markdown",
   "metadata": {
    "id": "rVR9ngMBwZi4"
   },
   "source": [
    "#### Train the model"
   ]
  },
  {
   "cell_type": "code",
   "execution_count": 359,
   "metadata": {
    "ExecuteTime": {
     "end_time": "2020-12-19T08:54:00.314307Z",
     "start_time": "2020-12-19T08:54:00.308918Z"
    },
    "id": "OfGhufcYwZi5"
   },
   "outputs": [],
   "source": [
    "# Define a function to compute the forward and backward pass\n",
    "\n",
    "def grad(model, inputs, targets, wd):\n",
    "    with tf.GradientTape() as tape:\n",
    "        loss_value = loss(model, inputs, targets, wd)\n",
    "    return loss_value, tape.gradient(loss_value, model.trainable_variables)"
   ]
  },
  {
   "cell_type": "code",
   "execution_count": 367,
   "metadata": {
    "ExecuteTime": {
     "end_time": "2020-12-19T09:00:28.190331Z",
     "start_time": "2020-12-19T09:00:28.163289Z"
    }
   },
   "outputs": [
    {
     "name": "stdout",
     "output_type": "stream",
     "text": [
      "tf.Tensor(\n",
      "[[0.01026931 0.01826261 0.02261843 0.02361508 0.01538209 0.03226687\n",
      "  0.02482397 0.02096228 0.02090733 0.0225267  0.02069397 0.03154316\n",
      "  0.02262709 0.02220924 0.02916762 0.02685529 0.04080514 0.01675722\n",
      "  0.01079187 0.02143889 0.01507989 0.03696397 0.01216943 0.01269861\n",
      "  0.00938225 0.03023786 0.01964787 0.03048436 0.02260998 0.02200132\n",
      "  0.01382952 0.0278214  0.0102612  0.01991846 0.02441362 0.0415146\n",
      "  0.02164293 0.0218947  0.03402659 0.02507454 0.01598877 0.01760608\n",
      "  0.01524577 0.01086573 0.01737424 0.01672219]], shape=(1, 46), dtype=float32)\n",
      "Model: \"my_model_34\"\n",
      "_________________________________________________________________\n",
      "Layer (type)                 Output Shape              Param #   \n",
      "=================================================================\n",
      "my_layer_66 (MyLayer)        multiple                  640064    \n",
      "_________________________________________________________________\n",
      "my_dropout_36 (MyDropout)    multiple                  0         \n",
      "_________________________________________________________________\n",
      "my_layer_67 (MyLayer)        multiple                  4160      \n",
      "_________________________________________________________________\n",
      "my_dropout_37 (MyDropout)    multiple                  0         \n",
      "_________________________________________________________________\n",
      "my_layer_68 (MyLayer)        multiple                  2990      \n",
      "_________________________________________________________________\n",
      "softmax_20 (Softmax)         multiple                  0         \n",
      "=================================================================\n",
      "Total params: 647,214\n",
      "Trainable params: 647,214\n",
      "Non-trainable params: 0\n",
      "_________________________________________________________________\n"
     ]
    }
   ],
   "source": [
    "model = MyModel(64, 64, 46)\n",
    "print(model(tf.ones((1, 10000))))\n",
    "model.summary()"
   ]
  },
  {
   "cell_type": "code",
   "execution_count": 368,
   "metadata": {
    "ExecuteTime": {
     "end_time": "2020-12-19T09:01:39.314967Z",
     "start_time": "2020-12-19T09:00:28.752710Z"
    },
    "id": "bvEiQw3LwZi5",
    "scrolled": false
   },
   "outputs": [
    {
     "name": "stdout",
     "output_type": "stream",
     "text": [
      "WARNING:tensorflow:Layer my_model_34 is casting an input tensor from dtype float64 to the layer's dtype of float32, which is new behavior in TensorFlow 2.  The layer has dtype float32 because its dtype defaults to floatx.\n",
      "\n",
      "If you intended to run this layer in float32, you can safely ignore this warning. If in doubt, this warning is likely only an issue if you are porting a TensorFlow 1.X model to TensorFlow 2.\n",
      "\n",
      "To change all layers to have dtype float64 by default, call `tf.keras.backend.set_floatx('float64')`. To change just this layer, pass dtype='float64' to the layer constructor. If you are the author of this layer, you can disable autocasting by passing autocast=False to the base Layer constructor.\n",
      "\n",
      "Epoch 000: Loss: 1.719, Accuracy 60.076%, AUC 94.067%\n",
      "Epoch 001: Loss: 1.275, Accuracy 68.960%, AUC 96.476%\n",
      "Epoch 002: Loss: 1.125, Accuracy 71.855%, AUC 97.211%\n",
      "Epoch 003: Loss: 1.017, Accuracy 73.959%, AUC 97.681%\n",
      "Epoch 004: Loss: 0.932, Accuracy 75.763%, AUC 97.980%\n",
      "Epoch 005: Loss: 0.858, Accuracy 77.321%, AUC 98.321%\n",
      "Epoch 006: Loss: 0.800, Accuracy 78.045%, AUC 98.576%\n",
      "Epoch 007: Loss: 0.780, Accuracy 79.203%, AUC 98.771%\n",
      "Epoch 008: Loss: 0.724, Accuracy 79.726%, AUC 98.828%\n",
      "Epoch 009: Loss: 0.690, Accuracy 80.929%, AUC 98.987%\n",
      "Duration :70.550\n"
     ]
    }
   ],
   "source": [
    "# Implement the training loop\n",
    "\n",
    "from tensorflow.keras.utils import to_categorical\n",
    "\n",
    "start_time = time.time()\n",
    "\n",
    "train_dataset = tf.data.Dataset.from_tensor_slices((x_train, train_labels)).batch(32)\n",
    "train_loss_results = []\n",
    "train_accuracy_results = []\n",
    "train_roc_auc_results = []\n",
    "\n",
    "num_epochs = 10\n",
    "weight_decay = 0.005\n",
    "\n",
    "for epoch in range(num_epochs):\n",
    "    epoch_loss_avg = tf.keras.metrics.Mean()\n",
    "    epoch_accuracy = tf.keras.metrics.CategoricalAccuracy()\n",
    "    epoch_roc_auc = tf.keras.metrics.AUC(curve='ROC')\n",
    "    \n",
    "    for x, y in train_dataset:\n",
    "        loss_value, grads = grad(model, x, y, weight_decay)\n",
    "        optimizer.apply_gradients(zip(grads, model.trainable_variables))\n",
    "        \n",
    "        preds = model(x)\n",
    "        epoch_loss_avg(loss_value)\n",
    "        epoch_accuracy(to_categorical(y, num_classes=46), preds)     \n",
    "        epoch_roc_auc(to_categorical(y, num_classes=46), preds) \n",
    "        \n",
    "    train_loss_results.append(epoch_loss_avg.result())\n",
    "    train_accuracy_results.append(epoch_accuracy.result())\n",
    "    train_roc_auc_results.append(epoch_roc_auc.result())\n",
    "    \n",
    "    print('Epoch {:03d}: Loss: {:0.3f}, Accuracy {:0.3%}, AUC {:0.3%}'.format(epoch, \n",
    "                                                                               epoch_loss_avg.result(), \n",
    "                                                                               epoch_accuracy.result(),\n",
    "                                                                               epoch_roc_auc.result()\n",
    "                                                                              ))\n",
    "    \n",
    "    \n",
    "print(\"Duration :{:.3f}\".format(time.time() - start_time))"
   ]
  },
  {
   "cell_type": "markdown",
   "metadata": {
    "id": "yCsdVX9dwZi5"
   },
   "source": [
    "#### Evaluate the model"
   ]
  },
  {
   "cell_type": "code",
   "execution_count": 193,
   "metadata": {
    "ExecuteTime": {
     "end_time": "2020-12-18T15:36:48.303078Z",
     "start_time": "2020-12-18T15:36:48.167071Z"
    },
    "id": "Gcdu2NAZwZi5"
   },
   "outputs": [],
   "source": [
    "# Create a Dataset object for the test set\n",
    "\n",
    "test_dataset = tf.data.Dataset.from_tensor_slices((x_test, test_labels))\n",
    "test_dataset = test_dataset.batch(32)"
   ]
  },
  {
   "cell_type": "code",
   "execution_count": 194,
   "metadata": {
    "ExecuteTime": {
     "end_time": "2020-12-18T15:36:49.527705Z",
     "start_time": "2020-12-18T15:36:49.493623Z"
    },
    "id": "gD7jNgt4wZi6"
   },
   "outputs": [],
   "source": [
    "# Collect average loss and accuracy\n",
    "\n",
    "epoch_loss_avg = tf.keras.metrics.Mean()\n",
    "epoch_accuracy = tf.keras.metrics.CategoricalAccuracy()"
   ]
  },
  {
   "cell_type": "code",
   "execution_count": 195,
   "metadata": {
    "ExecuteTime": {
     "end_time": "2020-12-18T15:36:51.370688Z",
     "start_time": "2020-12-18T15:36:50.386659Z"
    },
    "id": "bHlDAeKJwZi6"
   },
   "outputs": [
    {
     "name": "stdout",
     "output_type": "stream",
     "text": [
      "Test loss: 5.724\n",
      "Test accuracy: 51.825%\n"
     ]
    }
   ],
   "source": [
    "# Loop over the test set and print scores\n",
    "\n",
    "from tensorflow.keras.utils import to_categorical\n",
    "\n",
    "epoch_loss_avg = tf.keras.metrics.Mean()\n",
    "epoch_accuracy = tf.keras.metrics.CategoricalAccuracy()\n",
    "\n",
    "for x, y in test_dataset:\n",
    "    # Optimize the model\n",
    "    loss_value = loss(model, x, y, weight_decay)    \n",
    "    # Compute current loss\n",
    "    epoch_loss_avg(loss_value)  \n",
    "    # Compare predicted label to actual label\n",
    "    epoch_accuracy(to_categorical(y), model(x))\n",
    "\n",
    "print(\"Test loss: {:.3f}\".format(epoch_loss_avg.result().numpy()))\n",
    "print(\"Test accuracy: {:.3%}\".format(epoch_accuracy.result().numpy()))"
   ]
  },
  {
   "cell_type": "markdown",
   "metadata": {
    "id": "HBZGa0vgwZi6"
   },
   "source": [
    "#### Plot the learning curves"
   ]
  },
  {
   "cell_type": "code",
   "execution_count": 192,
   "metadata": {
    "ExecuteTime": {
     "end_time": "2020-12-18T15:36:26.676891Z",
     "start_time": "2020-12-18T15:36:26.275352Z"
    },
    "id": "9Q-vo4MfwZi6"
   },
   "outputs": [
    {
     "data": {
      "image/png": "[encoded data removed]",
      "text/plain": [
       "<Figure size 864x576 with 2 Axes>"
      ]
     },
     "metadata": {
      "needs_background": "light"
     },
     "output_type": "display_data"
    }
   ],
   "source": [
    "# Plot the training loss and accuracy\n",
    "\n",
    "fig, axes = plt.subplots(2, sharex=True, figsize=(12, 8))\n",
    "fig.suptitle('Training Metrics')\n",
    "\n",
    "axes[0].set_ylabel(\"Loss\", fontsize=14)\n",
    "axes[0].plot(train_loss_results)\n",
    "\n",
    "axes[1].set_ylabel(\"Accuracy\", fontsize=14)\n",
    "axes[1].set_xlabel(\"Epoch\", fontsize=14)\n",
    "axes[1].plot(train_accuracy_results)\n",
    "plt.show()"
   ]
  },
  {
   "cell_type": "markdown",
   "metadata": {
    "id": "ip8YnSXpwZi6"
   },
   "source": [
    "#### Predict from the model"
   ]
  },
  {
   "cell_type": "code",
   "execution_count": 258,
   "metadata": {
    "ExecuteTime": {
     "end_time": "2020-12-19T08:05:15.618836Z",
     "start_time": "2020-12-19T08:05:15.591516Z"
    },
    "id": "pfyn9jKlwZi7"
   },
   "outputs": [
    {
     "name": "stdout",
     "output_type": "stream",
     "text": [
      "Prediction: earn\n",
      "     Label: earn\n"
     ]
    }
   ],
   "source": [
    "# Get the model prediction for an example input\n",
    "\n",
    "predicted_label = np.argmax(model(x_train[np.newaxis,0]),axis=1)[0]\n",
    "print(\"Prediction: {}\".format(class_names[predicted_label]))\n",
    "print(\"     Label: {}\".format(class_names[train_labels[0]]))"
   ]
  },
  {
   "cell_type": "markdown",
   "metadata": {
    "id": "XCfRS4ECwZi8"
   },
   "source": [
    "***\n",
    "<a id=\"coding_tutorial_5\"></a>\n",
    "## tf.function decorator"
   ]
  },
  {
   "cell_type": "code",
   "execution_count": 324,
   "metadata": {
    "ExecuteTime": {
     "end_time": "2020-12-19T08:36:40.616500Z",
     "start_time": "2020-12-19T08:36:40.612151Z"
    },
    "id": "sZahs3OUwZi8"
   },
   "outputs": [],
   "source": [
    "from tensorflow.keras.models import Model\n",
    "from tensorflow.keras.layers import Layer, Softmax\n",
    "from tensorflow.keras.utils import to_categorical\n",
    "from tensorflow.keras.datasets import reuters\n",
    "import numpy as np\n",
    "import matplotlib.pyplot as plt\n",
    "import time"
   ]
  },
  {
   "cell_type": "markdown",
   "metadata": {
    "id": "qvY7pxPpwZi8"
   },
   "source": [
    "#### Build the model"
   ]
  },
  {
   "cell_type": "code",
   "execution_count": 369,
   "metadata": {
    "ExecuteTime": {
     "end_time": "2020-12-19T09:03:18.632004Z",
     "start_time": "2020-12-19T09:03:18.586598Z"
    },
    "id": "mmd8VXO-wZi8"
   },
   "outputs": [
    {
     "name": "stdout",
     "output_type": "stream",
     "text": [
      "tf.Tensor(\n",
      "[[0.020366   0.03322994 0.10045686 0.02919399 0.00443031 0.00970533\n",
      "  0.00551592 0.01711993 0.01823118 0.05331145 0.02059008 0.01012138\n",
      "  0.02017352 0.01240652 0.01741266 0.01999823 0.00348031 0.01529332\n",
      "  0.0028829  0.01097032 0.03258144 0.00597999 0.00864761 0.0021898\n",
      "  0.06095446 0.06222986 0.00623969 0.01597477 0.0027138  0.01801516\n",
      "  0.01067096 0.00876856 0.01893871 0.06990445 0.01428687 0.01185196\n",
      "  0.00337843 0.00981464 0.03104366 0.00466825 0.00572853 0.10736528\n",
      "  0.01505289 0.01443909 0.00475342 0.02891763]], shape=(1, 46), dtype=float32)\n",
      "Model: \"my_model_35\"\n",
      "_________________________________________________________________\n",
      "Layer (type)                 Output Shape              Param #   \n",
      "=================================================================\n",
      "my_layer_69 (MyLayer)        multiple                  640064    \n",
      "_________________________________________________________________\n",
      "my_dropout_38 (MyDropout)    multiple                  0         \n",
      "_________________________________________________________________\n",
      "my_layer_70 (MyLayer)        multiple                  4160      \n",
      "_________________________________________________________________\n",
      "my_dropout_39 (MyDropout)    multiple                  0         \n",
      "_________________________________________________________________\n",
      "my_layer_71 (MyLayer)        multiple                  2990      \n",
      "_________________________________________________________________\n",
      "softmax_21 (Softmax)         multiple                  0         \n",
      "=================================================================\n",
      "Total params: 647,214\n",
      "Trainable params: 647,214\n",
      "Non-trainable params: 0\n",
      "_________________________________________________________________\n"
     ]
    }
   ],
   "source": [
    "# Initialize a new model\n",
    "\n",
    "model = MyModel(64, 64,46)\n",
    "print(model(tf.ones((1, 10000))))\n",
    "model.summary()"
   ]
  },
  {
   "cell_type": "markdown",
   "metadata": {
    "id": "lERoVAhGwZi8"
   },
   "source": [
    "#### Redefine the grad function using the @tf.function decorator"
   ]
  },
  {
   "cell_type": "code",
   "execution_count": 370,
   "metadata": {
    "ExecuteTime": {
     "end_time": "2020-12-19T09:03:19.599341Z",
     "start_time": "2020-12-19T09:03:19.594316Z"
    },
    "id": "3M-MZedzwZi9"
   },
   "outputs": [],
   "source": [
    "# Use the @tf.function decorator\n",
    "\n",
    "@tf.function\n",
    "def grad(model, inputs, targets, wd):\n",
    "    with tf.GradientTape() as tape:\n",
    "        loss_value = loss(model, inputs, targets, wd)\n",
    "    return loss_value, tape.gradient(loss_value, model.trainable_variables)"
   ]
  },
  {
   "cell_type": "markdown",
   "metadata": {
    "id": "u3dIQJ_lwZi9"
   },
   "source": [
    "#### Train the model"
   ]
  },
  {
   "cell_type": "code",
   "execution_count": 371,
   "metadata": {
    "ExecuteTime": {
     "end_time": "2020-12-19T09:04:12.451827Z",
     "start_time": "2020-12-19T09:03:20.561961Z"
    },
    "id": "oiYmu_LRwZi9"
   },
   "outputs": [
    {
     "name": "stdout",
     "output_type": "stream",
     "text": [
      "WARNING:tensorflow:Layer my_model_35 is casting an input tensor from dtype float64 to the layer's dtype of float32, which is new behavior in TensorFlow 2.  The layer has dtype float32 because its dtype defaults to floatx.\n",
      "\n",
      "If you intended to run this layer in float32, you can safely ignore this warning. If in doubt, this warning is likely only an issue if you are porting a TensorFlow 1.X model to TensorFlow 2.\n",
      "\n",
      "To change all layers to have dtype float64 by default, call `tf.keras.backend.set_floatx('float64')`. To change just this layer, pass dtype='float64' to the layer constructor. If you are the author of this layer, you can disable autocasting by passing autocast=False to the base Layer constructor.\n",
      "\n",
      "Epoch 000: Loss: 1.744, Accuracy 58.150%, AUC 93.926%\n",
      "Epoch 001: Loss: 1.317, Accuracy 67.914%, AUC 96.294%\n",
      "Epoch 002: Loss: 1.163, Accuracy 70.708%, AUC 97.090%\n",
      "Epoch 003: Loss: 1.057, Accuracy 73.202%, AUC 97.529%\n",
      "Epoch 004: Loss: 0.963, Accuracy 74.994%, AUC 98.124%\n",
      "Epoch 005: Loss: 0.884, Accuracy 76.152%, AUC 98.327%\n",
      "Epoch 006: Loss: 0.843, Accuracy 77.132%, AUC 98.471%\n",
      "Epoch 007: Loss: 0.790, Accuracy 78.457%, AUC 98.712%\n",
      "Epoch 008: Loss: 0.749, Accuracy 79.225%, AUC 98.861%\n",
      "Epoch 009: Loss: 0.730, Accuracy 80.016%, AUC 98.962%\n",
      "Duration :51.871\n"
     ]
    }
   ],
   "source": [
    "# Re-run the training loop\n",
    "\n",
    "from tensorflow.keras.utils import to_categorical\n",
    "\n",
    "start_time = time.time()\n",
    "\n",
    "train_dataset = tf.data.Dataset.from_tensor_slices((x_train, train_labels)).batch(32)\n",
    "train_loss_results = []\n",
    "train_accuracy_results = []\n",
    "train_roc_auc_results = []\n",
    "\n",
    "num_epochs = 10\n",
    "weight_decay = 0.005\n",
    "\n",
    "for epoch in range(num_epochs):\n",
    "    epoch_loss_avg = tf.keras.metrics.Mean()\n",
    "    epoch_accuracy = tf.keras.metrics.CategoricalAccuracy()\n",
    "    epoch_roc_auc = tf.keras.metrics.AUC(curve='ROC')\n",
    "    \n",
    "    for x, y in train_dataset:\n",
    "        loss_value, grads = grad(model, x, y, weight_decay)\n",
    "        optimizer.apply_gradients(zip(grads, model.trainable_variables))\n",
    "        \n",
    "        preds = model(x)\n",
    "        epoch_loss_avg(loss_value)\n",
    "        epoch_accuracy(to_categorical(y, num_classes=46), preds)     \n",
    "        epoch_roc_auc(to_categorical(y, num_classes=46), preds) \n",
    "        \n",
    "    train_loss_results.append(epoch_loss_avg.result())\n",
    "    train_accuracy_results.append(epoch_accuracy.result())\n",
    "    train_roc_auc_results.append(epoch_roc_auc.result())\n",
    "    \n",
    "    print('Epoch {:03d}: Loss: {:0.3f}, Accuracy {:0.3%}, AUC {:0.3%}'.format(epoch, \n",
    "                                                                               epoch_loss_avg.result(), \n",
    "                                                                               epoch_accuracy.result(),\n",
    "                                                                               epoch_roc_auc.result()\n",
    "                                                                              ))\n",
    "    \n",
    "    \n",
    "print(\"Duration :{:.3f}\".format(time.time() - start_time))"
   ]
  },
  {
   "cell_type": "markdown",
   "metadata": {},
   "source": [
    "如果不加 `@tf.function` 需要70秒左右，增加后，只要51秒左右，性能提升30%左右，不错。"
   ]
  },
  {
   "cell_type": "code",
   "execution_count": 336,
   "metadata": {
    "ExecuteTime": {
     "end_time": "2020-12-19T08:40:05.401714Z",
     "start_time": "2020-12-19T08:40:05.017222Z"
    }
   },
   "outputs": [
    {
     "name": "stdout",
     "output_type": "stream",
     "text": [
      "With dropout, test accuarcy is 0.7212823\n",
      "Without dropout, test accuarcy is 0.7680321\n"
     ]
    }
   ],
   "source": [
    "test_accuracy = tf.keras.metrics.CategoricalAccuracy()\n",
    "test_accuracy(to_categorical(test_labels), model(x_test))\n",
    "print('With dropout, test accuarcy is', test_accuracy.result().numpy())\n",
    "\n",
    "test_accuracy = tf.keras.metrics.CategoricalAccuracy()\n",
    "test_accuracy(to_categorical(test_labels), model(x_test,training=False))\n",
    "print('Without dropout, test accuarcy is', test_accuracy.result().numpy())"
   ]
  },
  {
   "cell_type": "markdown",
   "metadata": {
    "id": "CIcJ_4NowZi9"
   },
   "source": [
    "#### Print the autograph code"
   ]
  },
  {
   "cell_type": "code",
   "execution_count": 310,
   "metadata": {
    "ExecuteTime": {
     "end_time": "2020-12-19T08:25:25.574931Z",
     "start_time": "2020-12-19T08:25:25.568963Z"
    },
    "id": "KoD_NhEnwZi9"
   },
   "outputs": [
    {
     "name": "stdout",
     "output_type": "stream",
     "text": [
      "def tf__grad(model, inputs, targets, wd):\n",
      "    with ag__.FunctionScope('grad', 'fscope', ag__.ConversionOptions(recursive=True, user_requested=True, optional_features=(), internal_convert_user_code=True)) as fscope:\n",
      "        do_return = False\n",
      "        retval_ = ag__.UndefinedReturnValue()\n",
      "        with ag__.ld(tf).GradientTape() as tape:\n",
      "            loss_value = ag__.converted_call(ag__.ld(loss), (ag__.ld(model), ag__.ld(inputs), ag__.ld(targets), ag__.ld(wd)), None, fscope)\n",
      "        try:\n",
      "            do_return = True\n",
      "            retval_ = (ag__.ld(loss_value), ag__.converted_call(ag__.ld(tape).gradient, (ag__.ld(loss_value), ag__.ld(model).trainable_variables), None, fscope))\n",
      "        except:\n",
      "            do_return = False\n",
      "            raise\n",
      "        return fscope.ret(retval_, do_return)\n",
      "\n"
     ]
    }
   ],
   "source": [
    "# Use tf.autograph.to_code to see the generated code\n",
    "\n",
    "\n",
    "print(tf.autograph.to_code(grad.python_function))"
   ]
  },
  {
   "cell_type": "code",
   "execution_count": 373,
   "metadata": {
    "ExecuteTime": {
     "end_time": "2020-12-19T12:36:10.263510Z",
     "start_time": "2020-12-19T12:36:10.248925Z"
    },
    "scrolled": true
   },
   "outputs": [
    {
     "name": "stdout",
     "output_type": "stream",
     "text": [
      "------------------------- 设置 -------------------------\n",
      "char_level=  False\n",
      "lower=  True\n",
      "oov_token=  None\n",
      "num_words=  100\n",
      "------------------------- 具体信息 -------------------------\n",
      "document_count = 3\n",
      "word_index=  {'i': 1, 'love': 2, 'my': 3, 'dog': 4, 'cat': 5, 'you': 6}\n",
      "index_word=  {1: 'i', 2: 'love', 3: 'my', 4: 'dog', 5: 'cat', 6: 'you'}\n",
      "word_docs=  defaultdict(<class 'int'>, {'dog': 2, 'i': 2, 'my': 3, 'love': 3, 'cat': 1, 'you': 1})\n",
      "index_docs=  defaultdict(<class 'int'>, {4: 2, 1: 2, 3: 3, 2: 3, 5: 1, 6: 1})\n",
      "word_counts=  OrderedDict([('i', 3), ('love', 3), ('my', 3), ('dog', 2), ('cat', 1), ('you', 1)])\n"
     ]
    }
   ],
   "source": [
    "from tensorflow.keras.preprocessing.text import Tokenizer\n",
    "\n",
    "sentences = [\n",
    "    'i love my dog, i',\n",
    "    'I, love my cat',\n",
    "    'You love my dog!'\n",
    "]\n",
    "\n",
    "tokenizer = Tokenizer(num_words = 100)\n",
    "tokenizer.fit_on_texts(sentences)\n",
    "\n",
    "print('-'*25, '设置', '-'*25)\n",
    "print('char_level= ', tokenizer.char_level)         # 是否是字符级别\n",
    "print('lower= ', tokenizer.lower)                   # 大小写\n",
    "print('oov_token= ', tokenizer.oov_token)           # out of vocabulary的token\t\t\t\n",
    "print('num_words= ', tokenizer.num_words)           # 最大word个数\n",
    "\n",
    "print('-'*25, '具体信息', '-'*25)\n",
    "print('document_count =', tokenizer.document_count) # 文档数量\n",
    "print('word_index= ', tokenizer.word_index)         # word:index字典\n",
    "print('index_word= ', tokenizer.index_word)         # index:word字典\n",
    "print('word_docs= ', tokenizer.word_docs)           # word在文档出现的次数（同一文档出现多次算一次）\n",
    "print('index_docs= ', tokenizer.index_docs)         # 同上，只是key是index\n",
    "print('word_counts= ', tokenizer.word_counts)       # word出现的次数\n"
   ]
  },
  {
   "cell_type": "code",
   "execution_count": null,
   "metadata": {},
   "outputs": [],
   "source": []
  }
 ],
 "metadata": {
  "colab": {
   "name": "Coding Tutorial.ipynb",
   "provenance": []
  },
  "kernelspec": {
   "display_name": "Python 3",
   "language": "python",
   "name": "python3"
  },
  "language_info": {
   "codemirror_mode": {
    "name": "ipython",
    "version": 3
   },
   "file_extension": ".py",
   "mimetype": "text/x-python",
   "name": "python",
   "nbconvert_exporter": "python",
   "pygments_lexer": "ipython3",
   "version": "3.6.9"
  },
  "toc": {
   "base_numbering": 1,
   "nav_menu": {},
   "number_sections": true,
   "sideBar": true,
   "skip_h1_title": false,
   "title_cell": "Table of Contents",
   "title_sidebar": "Contents",
   "toc_cell": false,
   "toc_position": {
    "height": "calc(100% - 180px)",
    "left": "10px",
    "top": "150px",
    "width": "384px"
   },
   "toc_section_display": true,
   "toc_window_display": true
  }
 },
 "nbformat": 4,
 "nbformat_minor": 1
}
