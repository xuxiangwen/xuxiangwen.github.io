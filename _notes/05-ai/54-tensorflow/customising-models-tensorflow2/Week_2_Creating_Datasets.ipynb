{
 "cells": [
  {
   "cell_type": "markdown",
   "metadata": {
    "id": "0uJPGabQE1hL"
   },
   "source": [
    "# Creating Datasets from different sources\n",
    "\n",
    "In this reading notebook, we will explore a few of the ways in which we can load data into a `tf.data.Dataset` object."
   ]
  },
  {
   "cell_type": "code",
   "execution_count": 1,
   "metadata": {
    "ExecuteTime": {
     "end_time": "2020-12-06T07:53:39.466708Z",
     "start_time": "2020-12-06T07:53:37.260241Z"
    },
    "id": "IamOsgA-E1hO"
   },
   "outputs": [
    {
     "name": "stdout",
     "output_type": "stream",
     "text": [
      "2.3.1\n"
     ]
    }
   ],
   "source": [
    "import tensorflow as tf\n",
    "print(tf.__version__)"
   ]
  },
  {
   "cell_type": "markdown",
   "metadata": {
    "id": "re3HNtebE1hU"
   },
   "source": [
    "## The `from_tensor_slices` and `from_tensors` methods\n",
    "\n",
    "We will start by looking at the `from_tensor_slices` and the `from_tensors` methods.\n",
    "\n",
    "Both static methods are used to create datasets from Tensors or Tensor-like objects, such as numpy arrays or python lists. We can also pass in tuples and dicts of arrays or lists. The main distinction between the `from_tensor_slices` function and the `from_tensors` function is that the `from_tensor_slices` method will interpret the first dimension of the input data as the number of elements in the dataset, whereas the `from_tensors` method always results in a Dataset with a single element, containing the Tensor or tuple of Tensors passed."
   ]
  },
  {
   "cell_type": "code",
   "execution_count": 2,
   "metadata": {
    "ExecuteTime": {
     "end_time": "2020-12-06T07:54:13.219286Z",
     "start_time": "2020-12-06T07:54:12.409270Z"
    },
    "id": "DHoIolW9E1hV"
   },
   "outputs": [
    {
     "name": "stdout",
     "output_type": "stream",
     "text": [
      "(3, 2)\n"
     ]
    }
   ],
   "source": [
    "# Create a random tensor with shape (3, 2)\n",
    "\n",
    "example_tensor = tf.random.uniform([3,2])\n",
    "print(example_tensor.shape)"
   ]
  },
  {
   "cell_type": "code",
   "execution_count": 3,
   "metadata": {
    "ExecuteTime": {
     "end_time": "2020-12-06T07:54:14.390325Z",
     "start_time": "2020-12-06T07:54:14.381111Z"
    },
    "id": "r1CUPvKBE1hb"
   },
   "outputs": [],
   "source": [
    "# Create two Datasets, using each static method\n",
    "\n",
    "dataset1 = tf.data.Dataset.from_tensor_slices(example_tensor)\n",
    "dataset2 = tf.data.Dataset.from_tensors(example_tensor)"
   ]
  },
  {
   "cell_type": "code",
   "execution_count": 4,
   "metadata": {
    "ExecuteTime": {
     "end_time": "2020-12-06T07:54:15.627296Z",
     "start_time": "2020-12-06T07:54:15.623146Z"
    },
    "id": "GwgiDLEUE1hg"
   },
   "outputs": [
    {
     "name": "stdout",
     "output_type": "stream",
     "text": [
      "TensorSpec(shape=(2,), dtype=tf.float32, name=None)\n",
      "TensorSpec(shape=(3, 2), dtype=tf.float32, name=None)\n"
     ]
    }
   ],
   "source": [
    "# Print the element_spec for each\n",
    "\n",
    "print(dataset1.element_spec)\n",
    "print(dataset2.element_spec)"
   ]
  },
  {
   "cell_type": "code",
   "execution_count": 5,
   "metadata": {
    "ExecuteTime": {
     "end_time": "2020-12-06T07:55:34.114074Z",
     "start_time": "2020-12-06T07:55:34.098519Z"
    }
   },
   "outputs": [
    {
     "name": "stdout",
     "output_type": "stream",
     "text": [
      "TensorSpec(shape=(3, 2), dtype=tf.float32, name=None)\n",
      "TensorSpec(shape=(2, 3, 2), dtype=tf.float32, name=None)\n"
     ]
    }
   ],
   "source": [
    "dataset1 = tf.data.Dataset.from_tensor_slices([example_tensor, example_tensor])\n",
    "dataset2 = tf.data.Dataset.from_tensors([example_tensor, example_tensor])\n",
    "\n",
    "print(dataset1.element_spec)\n",
    "print(dataset2.element_spec)"
   ]
  },
  {
   "cell_type": "markdown",
   "metadata": {
    "id": "g6LtkOwfE1hm"
   },
   "source": [
    "As seen above, creating the Dataset using the `from_tensor_slices` method slices the given array or Tensor along the first dimension to produce a set of elements for the Dataset.\n",
    "\n",
    "This means that although we could pass any Tensor - or tuple of Tensors - to the `from_tensors` method, the same cannot be said of the `from_tensor_slices` method, which has the additional requirement that each Tensor in the list has the same size in the zeroth dimension."
   ]
  },
  {
   "cell_type": "code",
   "execution_count": 6,
   "metadata": {
    "ExecuteTime": {
     "end_time": "2020-12-06T07:57:11.250063Z",
     "start_time": "2020-12-06T07:57:11.221441Z"
    },
    "id": "Jy1lNSpxE1ho"
   },
   "outputs": [],
   "source": [
    "# Create three Tensors with different shapes\n",
    "\n",
    "tensor1 = tf.random.uniform([10,2,2])\n",
    "tensor2 = tf.random.uniform([10,1])\n",
    "tensor3 = tf.random.uniform([9,2,2])"
   ]
  },
  {
   "cell_type": "markdown",
   "metadata": {
    "id": "fWSVkqQ1E1hs"
   },
   "source": [
    "We cannot create a Dataset using the `from_tensor_slices` method from a list of `tensor1` and `tensor3` since they do not have the same size in the first dimension:"
   ]
  },
  {
   "cell_type": "code",
   "execution_count": 8,
   "metadata": {
    "ExecuteTime": {
     "end_time": "2020-12-06T07:57:40.918712Z",
     "start_time": "2020-12-06T07:57:40.916172Z"
    },
    "id": "eQmd5FwcE1hu"
   },
   "outputs": [],
   "source": [
    "# Try to create a Dataset from tensor1 and tensor3 using from_tensor_slices - this will raise an error\n",
    "# 会报错\n",
    "# dataset = tf.data.Dataset.from_tensor_slices((tensor1, tensor3))"
   ]
  },
  {
   "cell_type": "markdown",
   "metadata": {
    "id": "kdVMr-0JE1hy"
   },
   "source": [
    "However, we can of course create a Dataset from this tuple using the `from_tensors` method, which interprets the tuple as a single element."
   ]
  },
  {
   "cell_type": "code",
   "execution_count": 9,
   "metadata": {
    "ExecuteTime": {
     "end_time": "2020-12-06T07:57:43.606302Z",
     "start_time": "2020-12-06T07:57:43.576083Z"
    },
    "id": "ZJ1zxcvtE1hz",
    "scrolled": true
   },
   "outputs": [
    {
     "data": {
      "text/plain": [
       "(TensorSpec(shape=(10, 2, 2), dtype=tf.float32, name=None),\n",
       " TensorSpec(shape=(9, 2, 2), dtype=tf.float32, name=None))"
      ]
     },
     "execution_count": 9,
     "metadata": {},
     "output_type": "execute_result"
    }
   ],
   "source": [
    "# Create a Dataset from tensor1 and tensor3 using from_tensors\n",
    "\n",
    "dataset = tf.data.Dataset.from_tensors((tensor1, tensor3))\n",
    "dataset.element_spec"
   ]
  },
  {
   "cell_type": "markdown",
   "metadata": {
    "id": "nckPFufZE1h7"
   },
   "source": [
    "Although `tensor1` and `tensor2` do not have the same shape, or even same rank (number of dimensions), we can still use the `from_tensor_slices` method to form a dataset from a list of these tensors, since they have the same size in the first dimension."
   ]
  },
  {
   "cell_type": "code",
   "execution_count": 10,
   "metadata": {
    "ExecuteTime": {
     "end_time": "2020-12-06T07:57:58.393269Z",
     "start_time": "2020-12-06T07:57:58.384610Z"
    },
    "id": "XWcBkyOkE1h8"
   },
   "outputs": [
    {
     "data": {
      "text/plain": [
       "(TensorSpec(shape=(2, 2), dtype=tf.float32, name=None),\n",
       " TensorSpec(shape=(1,), dtype=tf.float32, name=None))"
      ]
     },
     "execution_count": 10,
     "metadata": {},
     "output_type": "execute_result"
    }
   ],
   "source": [
    "# Create a Dataset from tensor1 and tensor2\n",
    "\n",
    "dataset = tf.data.Dataset.from_tensor_slices((tensor1, tensor2))\n",
    "dataset.element_spec"
   ]
  },
  {
   "cell_type": "markdown",
   "metadata": {
    "id": "GZISXg6XE1h_"
   },
   "source": [
    "In the above, the first dimension was interpreted as the number of elements in the Dataset, as expected."
   ]
  },
  {
   "cell_type": "markdown",
   "metadata": {
    "id": "Wwy7hmU4E1iA"
   },
   "source": [
    "### Creating Datasets from numpy arrays"
   ]
  },
  {
   "cell_type": "markdown",
   "metadata": {
    "id": "-y2DNrSHE1iB"
   },
   "source": [
    "We can also use the `from_tensor_slices` and `from_tensors` methods to create Datasets from numpy arrays. In fact, behind the scenes, the numpy array is converted to a set of `tf.constant` operations to populate the Tensor in the TensorFlow graph."
   ]
  },
  {
   "cell_type": "code",
   "execution_count": 11,
   "metadata": {
    "ExecuteTime": {
     "end_time": "2020-12-06T07:59:13.591653Z",
     "start_time": "2020-12-06T07:59:13.586452Z"
    },
    "id": "kLyg78gZE1iC"
   },
   "outputs": [
    {
     "name": "stdout",
     "output_type": "stream",
     "text": [
      "(3, 2, 2)\n"
     ]
    }
   ],
   "source": [
    "# Create a numpy array dataset\n",
    "\n",
    "import numpy as np\n",
    "\n",
    "numpy_array = np.array([[[1, 2], [3, 4]], [[5, 6], [7, 8]], [[9, 10], [11, 12]]])\n",
    "print(numpy_array.shape)"
   ]
  },
  {
   "cell_type": "code",
   "execution_count": 12,
   "metadata": {
    "ExecuteTime": {
     "end_time": "2020-12-06T07:59:15.013520Z",
     "start_time": "2020-12-06T07:59:15.005143Z"
    },
    "id": "HOcEMAckE1iF"
   },
   "outputs": [
    {
     "name": "stdout",
     "output_type": "stream",
     "text": [
      "TensorSpec(shape=(2, 2), dtype=tf.int64, name=None)\n",
      "TensorSpec(shape=(3, 2, 2), dtype=tf.int64, name=None)\n"
     ]
    }
   ],
   "source": [
    "# Create two Datasets, using each static method\n",
    "\n",
    "dataset1 = tf.data.Dataset.from_tensor_slices(numpy_array)\n",
    "dataset2 = tf.data.Dataset.from_tensors(numpy_array)\n",
    "\n",
    "print(dataset1.element_spec)\n",
    "print(dataset2.element_spec)"
   ]
  },
  {
   "cell_type": "markdown",
   "metadata": {
    "id": "hHusuf1yE1iH"
   },
   "source": [
    "As before, `from_tensors` interprets the entire array as a single element, whereas `from_tensor_slices` slices the array along the first dimension to form the elements."
   ]
  },
  {
   "cell_type": "markdown",
   "metadata": {
    "id": "dcpxpp0YE1iI"
   },
   "source": [
    "### Creating Datasets from pandas DataFrames\n",
    "A pandas DataFrame can be easily converted to a Dataset using the `from_tensor_slices` method. \n",
    "#### The Balloons dataset\n",
    "A pandas DataFrame can be loaded from a CSV file. We will use the [Balloons dataset](https://archive.ics.uci.edu/ml/datasets/Balloons) to demonstrate. This dataset is stored in a CSV file, and contains a list of attributes describing instances of a balloon inflation experiment, such as the colour and size of the balloon, the age of the person who performed the attempted inflation, and the way in which they did it. Finally, there is the target column \"Inflated\", which is either `T` for True, or `F` for False, indicating whether or not the person managed to inflate the balloon."
   ]
  },
  {
   "cell_type": "markdown",
   "metadata": {
    "id": "qeJYtJW7E-ld"
   },
   "source": [
    "#### Import the data\n",
    "\n",
    "The CSV file for this dataset that is required for this notebook can be downloaded from the following link:\n",
    "\n",
    "https://drive.google.com/open?id=1bKr-kqhHM9DJBggdmhZ2NFsPX9O4aaYO\n",
    "\n",
    "You should store the data in Drive for use in this Colab notebook."
   ]
  },
  {
   "cell_type": "code",
   "execution_count": 15,
   "metadata": {
    "ExecuteTime": {
     "end_time": "2020-12-06T08:02:52.415972Z",
     "start_time": "2020-12-06T08:02:52.413450Z"
    },
    "id": "HxLmUFcgFhGM"
   },
   "outputs": [],
   "source": [
    "# Run this cell to connect to your Drive folder\n",
    "\n",
    "# from google.colab import drive\n",
    "# drive.mount('/content/gdrive')"
   ]
  },
  {
   "cell_type": "code",
   "execution_count": 16,
   "metadata": {
    "ExecuteTime": {
     "end_time": "2020-12-06T08:02:52.902158Z",
     "start_time": "2020-12-06T08:02:52.894454Z"
    },
    "id": "4ZIyO0ioE1iJ"
   },
   "outputs": [],
   "source": [
    "# Load the CSV file into a Dataframe\n",
    "\n",
    "import pandas as pd\n",
    "\n",
    "pandas_dataframe = pd.read_csv('data/balloon_dataset.csv')"
   ]
  },
  {
   "cell_type": "code",
   "execution_count": 17,
   "metadata": {
    "ExecuteTime": {
     "end_time": "2020-12-06T08:02:53.858120Z",
     "start_time": "2020-12-06T08:02:53.839812Z"
    },
    "id": "z7w4Oqm7E1iL"
   },
   "outputs": [
    {
     "data": {
      "text/html": [
       "<div>\n",
       "<style scoped>\n",
       "    .dataframe tbody tr th:only-of-type {\n",
       "        vertical-align: middle;\n",
       "    }\n",
       "\n",
       "    .dataframe tbody tr th {\n",
       "        vertical-align: top;\n",
       "    }\n",
       "\n",
       "    .dataframe thead th {\n",
       "        text-align: right;\n",
       "    }\n",
       "</style>\n",
       "<table border=\"1\" class=\"dataframe\">\n",
       "  <thead>\n",
       "    <tr style=\"text-align: right;\">\n",
       "      <th></th>\n",
       "      <th>Colour</th>\n",
       "      <th>Size</th>\n",
       "      <th>Act</th>\n",
       "      <th>Age</th>\n",
       "      <th>Inflated</th>\n",
       "    </tr>\n",
       "  </thead>\n",
       "  <tbody>\n",
       "    <tr>\n",
       "      <th>0</th>\n",
       "      <td>YELLOW</td>\n",
       "      <td>SMALL</td>\n",
       "      <td>STRETCH</td>\n",
       "      <td>ADULT</td>\n",
       "      <td>T</td>\n",
       "    </tr>\n",
       "    <tr>\n",
       "      <th>1</th>\n",
       "      <td>YELLOW</td>\n",
       "      <td>SMALL</td>\n",
       "      <td>STRETCH</td>\n",
       "      <td>ADULT</td>\n",
       "      <td>T</td>\n",
       "    </tr>\n",
       "    <tr>\n",
       "      <th>2</th>\n",
       "      <td>YELLOW</td>\n",
       "      <td>SMALL</td>\n",
       "      <td>STRETCH</td>\n",
       "      <td>CHILD</td>\n",
       "      <td>F</td>\n",
       "    </tr>\n",
       "    <tr>\n",
       "      <th>3</th>\n",
       "      <td>YELLOW</td>\n",
       "      <td>SMALL</td>\n",
       "      <td>DIP</td>\n",
       "      <td>ADULT</td>\n",
       "      <td>F</td>\n",
       "    </tr>\n",
       "    <tr>\n",
       "      <th>4</th>\n",
       "      <td>YELLOW</td>\n",
       "      <td>SMALL</td>\n",
       "      <td>DIP</td>\n",
       "      <td>CHILD</td>\n",
       "      <td>F</td>\n",
       "    </tr>\n",
       "  </tbody>\n",
       "</table>\n",
       "</div>"
      ],
      "text/plain": [
       "   Colour   Size      Act    Age Inflated\n",
       "0  YELLOW  SMALL  STRETCH  ADULT        T\n",
       "1  YELLOW  SMALL  STRETCH  ADULT        T\n",
       "2  YELLOW  SMALL  STRETCH  CHILD        F\n",
       "3  YELLOW  SMALL      DIP  ADULT        F\n",
       "4  YELLOW  SMALL      DIP  CHILD        F"
      ]
     },
     "execution_count": 17,
     "metadata": {},
     "output_type": "execute_result"
    }
   ],
   "source": [
    "# Inspect the data\n",
    "\n",
    "pandas_dataframe.head()"
   ]
  },
  {
   "cell_type": "markdown",
   "metadata": {
    "id": "c6qEWNY7E1iP"
   },
   "source": [
    "To convert the DataFrame to a Dataset, we first convert the DataFrame to a dictionary. By doing this, we preserve the column names as the dictionary labels.\n",
    "\n",
    "**Note**: A Dataset can be formed from either a tuple or a dict of Tensors. We saw above a number of Datasets being formed from a tuple. The only distinction for a Dataset formed from a dict is that the Dataset items will be dicts accessed by key, rather than tuples accessed by index."
   ]
  },
  {
   "cell_type": "code",
   "execution_count": 18,
   "metadata": {
    "ExecuteTime": {
     "end_time": "2020-12-06T08:02:57.270836Z",
     "start_time": "2020-12-06T08:02:57.266426Z"
    },
    "id": "G8PK4Do6E1iQ"
   },
   "outputs": [
    {
     "name": "stdout",
     "output_type": "stream",
     "text": [
      "dict_keys(['Colour', 'Size', 'Act', 'Age', 'Inflated'])\n"
     ]
    }
   ],
   "source": [
    "# Convert the DataFrame to a dict\n",
    "\n",
    "dataframe_dict = dict(pandas_dataframe)\n",
    "print(dataframe_dict.keys())"
   ]
  },
  {
   "cell_type": "markdown",
   "metadata": {
    "id": "C50FYqU_E1iS"
   },
   "source": [
    "We can now run the `from_tensor_slices` method on this `dict` and print the resulting Dataset `element_spec`, as well as an example element. Note that since we formed the Dataset from a `dict`, we see the column (dictionary) names in the `element_spec`."
   ]
  },
  {
   "cell_type": "code",
   "execution_count": 19,
   "metadata": {
    "ExecuteTime": {
     "end_time": "2020-12-06T08:03:30.923886Z",
     "start_time": "2020-12-06T08:03:30.912218Z"
    },
    "id": "JebvTVrxE1iT"
   },
   "outputs": [],
   "source": [
    "# Create the Dataset\n",
    "\n",
    "pandas_dataset = tf.data.Dataset.from_tensor_slices(dataframe_dict)"
   ]
  },
  {
   "cell_type": "code",
   "execution_count": 20,
   "metadata": {
    "ExecuteTime": {
     "end_time": "2020-12-06T08:03:31.595987Z",
     "start_time": "2020-12-06T08:03:31.590777Z"
    },
    "id": "mqtTC4QXE1iV"
   },
   "outputs": [
    {
     "data": {
      "text/plain": [
       "{'Colour': TensorSpec(shape=(), dtype=tf.string, name=None),\n",
       " 'Size': TensorSpec(shape=(), dtype=tf.string, name=None),\n",
       " 'Act': TensorSpec(shape=(), dtype=tf.string, name=None),\n",
       " 'Age': TensorSpec(shape=(), dtype=tf.string, name=None),\n",
       " 'Inflated': TensorSpec(shape=(), dtype=tf.string, name=None)}"
      ]
     },
     "execution_count": 20,
     "metadata": {},
     "output_type": "execute_result"
    }
   ],
   "source": [
    "# View the Dataset element_spec\n",
    "\n",
    "pandas_dataset.element_spec"
   ]
  },
  {
   "cell_type": "code",
   "execution_count": 21,
   "metadata": {
    "ExecuteTime": {
     "end_time": "2020-12-06T08:03:36.819704Z",
     "start_time": "2020-12-06T08:03:36.807692Z"
    },
    "id": "UibwrPxeE1iY"
   },
   "outputs": [
    {
     "data": {
      "text/plain": [
       "{'Colour': <tf.Tensor: shape=(), dtype=string, numpy=b'YELLOW'>,\n",
       " 'Size': <tf.Tensor: shape=(), dtype=string, numpy=b'SMALL'>,\n",
       " 'Act': <tf.Tensor: shape=(), dtype=string, numpy=b'STRETCH'>,\n",
       " 'Age': <tf.Tensor: shape=(), dtype=string, numpy=b'ADULT'>,\n",
       " 'Inflated': <tf.Tensor: shape=(), dtype=string, numpy=b'T'>}"
      ]
     },
     "execution_count": 21,
     "metadata": {},
     "output_type": "execute_result"
    }
   ],
   "source": [
    "# Iterate the Dataset\n",
    "\n",
    "next(iter(pandas_dataset))"
   ]
  },
  {
   "cell_type": "markdown",
   "metadata": {
    "id": "4awCWEw6E1ia"
   },
   "source": [
    "## Creating Datasets directly from CSV Files\n",
    "\n",
    "The TensorFlow experimental library contains a variety of functions and classes contributed by the community that may not be ready for release into the main TensorFlow library in their immediate form, but which may be included in TensorFlow in the future. One such useful experimental function is the `tf.data.experimental.make_csv_dataset` function. This allows us to read CSV data from the disk directly into a Dataset object.\n",
    "\n",
    "We will run the function on the example CSV file from disk, and specify the batch size and the name of the target column, which is used to structure the Dataset into an `(input, target)` tuple.\n",
    "\n",
    "**Note:** Because of the ephemeral nature of the `experimental` package, you may well get warnings printed in the console when using a function or class contained in the package for the first time."
   ]
  },
  {
   "cell_type": "code",
   "execution_count": 22,
   "metadata": {
    "ExecuteTime": {
     "end_time": "2020-12-06T08:04:43.324106Z",
     "start_time": "2020-12-06T08:04:43.250294Z"
    },
    "id": "eag-PR5gE1ib",
    "scrolled": false
   },
   "outputs": [],
   "source": [
    "# Create the Dataset from the CSV file\n",
    "\n",
    "csv_dataset = tf.data.experimental.make_csv_dataset('data/balloon_dataset.csv',\n",
    "                                                    batch_size=1,\n",
    "                                                    label_name='Inflated')"
   ]
  },
  {
   "cell_type": "markdown",
   "metadata": {
    "id": "ZY8jzLQyE1ie"
   },
   "source": [
    "To check that we've loaded our Dataset correctly, let's print the `element_spec`:"
   ]
  },
  {
   "cell_type": "code",
   "execution_count": 23,
   "metadata": {
    "ExecuteTime": {
     "end_time": "2020-12-06T08:04:45.454875Z",
     "start_time": "2020-12-06T08:04:45.449135Z"
    },
    "id": "NPArGcDwE1ie"
   },
   "outputs": [
    {
     "data": {
      "text/plain": [
       "(OrderedDict([('Colour', TensorSpec(shape=(1,), dtype=tf.string, name=None)),\n",
       "              ('Size', TensorSpec(shape=(1,), dtype=tf.string, name=None)),\n",
       "              ('Act', TensorSpec(shape=(1,), dtype=tf.string, name=None)),\n",
       "              ('Age', TensorSpec(shape=(1,), dtype=tf.string, name=None))]),\n",
       " TensorSpec(shape=(1,), dtype=tf.string, name=None))"
      ]
     },
     "execution_count": 23,
     "metadata": {},
     "output_type": "execute_result"
    }
   ],
   "source": [
    "# View the Dataset element_spec\n",
    "\n",
    "csv_dataset.element_spec"
   ]
  },
  {
   "cell_type": "code",
   "execution_count": 24,
   "metadata": {
    "ExecuteTime": {
     "end_time": "2020-12-06T08:04:49.480727Z",
     "start_time": "2020-12-06T08:04:49.433036Z"
    },
    "id": "zBtiqdv1E1ih",
    "scrolled": true
   },
   "outputs": [
    {
     "data": {
      "text/plain": [
       "(OrderedDict([('Colour',\n",
       "               <tf.Tensor: shape=(1,), dtype=string, numpy=array([b'PURPLE'], dtype=object)>),\n",
       "              ('Size',\n",
       "               <tf.Tensor: shape=(1,), dtype=string, numpy=array([b'LARGE'], dtype=object)>),\n",
       "              ('Act',\n",
       "               <tf.Tensor: shape=(1,), dtype=string, numpy=array([b'STRETCH'], dtype=object)>),\n",
       "              ('Age',\n",
       "               <tf.Tensor: shape=(1,), dtype=string, numpy=array([b'CHILD'], dtype=object)>)]),\n",
       " <tf.Tensor: shape=(1,), dtype=string, numpy=array([b'F'], dtype=object)>)"
      ]
     },
     "execution_count": 24,
     "metadata": {},
     "output_type": "execute_result"
    }
   ],
   "source": [
    "# Iterate the Dataset\n",
    "\n",
    "next(iter(csv_dataset))"
   ]
  },
  {
   "cell_type": "markdown",
   "metadata": {
    "id": "iQQEhy3JE1ij"
   },
   "source": [
    "Note that in the above Dataset, the target column `Inflated` does not have a key, since it is uniquely accessible as the second element of the tuple, whereas the attributes which reside as a dictionary of Tensors in the first element retain their labels so we can distinguish them."
   ]
  },
  {
   "cell_type": "markdown",
   "metadata": {
    "id": "LOF2ZisTE1ik"
   },
   "source": [
    "## Further reading and resources\n",
    "\n",
    "* https://www.tensorflow.org/guide/data\n",
    "* https://www.tensorflow.org/tutorials/load_data/csv\n",
    "* https://www.tensorflow.org/tutorials/load_data/pandas_dataframe\n",
    "* https://www.tensorflow.org/api_docs/python/tf/data/Dataset"
   ]
  }
 ],
 "metadata": {
  "colab": {
   "collapsed_sections": [],
   "name": "Creating Datasets from different sources.ipynb",
   "provenance": []
  },
  "kernelspec": {
   "display_name": "Python 3",
   "language": "python",
   "name": "python3"
  },
  "language_info": {
   "codemirror_mode": {
    "name": "ipython",
    "version": 3
   },
   "file_extension": ".py",
   "mimetype": "text/x-python",
   "name": "python",
   "nbconvert_exporter": "python",
   "pygments_lexer": "ipython3",
   "version": "3.6.9"
  },
  "toc": {
   "base_numbering": 1,
   "nav_menu": {},
   "number_sections": true,
   "sideBar": true,
   "skip_h1_title": false,
   "title_cell": "Table of Contents",
   "title_sidebar": "Contents",
   "toc_cell": false,
   "toc_position": {},
   "toc_section_display": true,
   "toc_window_display": true
  }
 },
 "nbformat": 4,
 "nbformat_minor": 1
}
