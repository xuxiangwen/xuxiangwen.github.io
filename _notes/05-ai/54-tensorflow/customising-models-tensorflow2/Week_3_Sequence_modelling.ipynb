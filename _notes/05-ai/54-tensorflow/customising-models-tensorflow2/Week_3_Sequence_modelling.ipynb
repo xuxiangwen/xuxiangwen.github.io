{
 "cells": [
  {
   "cell_type": "code",
   "execution_count": 1,
   "metadata": {
    "ExecuteTime": {
     "end_time": "2020-12-16T01:42:16.005851Z",
     "start_time": "2020-12-16T01:42:13.426924Z"
    },
    "id": "Dk88Aw4NJDIy"
   },
   "outputs": [
    {
     "name": "stdout",
     "output_type": "stream",
     "text": [
      "2.3.1\n",
      "GPU name: /device:GPU:0\n"
     ]
    }
   ],
   "source": [
    "# %tensorflow_version 2.x\n",
    "import tensorflow as tf\n",
    "\n",
    "print(tf.__version__)\n",
    "\n",
    "\n"
   ]
  },
  {
   "cell_type": "markdown",
   "metadata": {
    "id": "qQb8nVqLJDI5"
   },
   "source": [
    "# Sequence modelling \n",
    "\n",
    "## Coding tutorials\n",
    " #### 1.  The IMDb dataset\n",
    " #### 2. Padding and masking sequence data\n",
    " #### 3. The `Embedding` layer\n",
    " #### 4. The Embedding Projector\n",
    " #### 5. Recurrent neural network layers\n",
    " #### 6. Stacked RNNs and the `Bidirectional` wrapper"
   ]
  },
  {
   "cell_type": "markdown",
   "metadata": {
    "id": "9b3PNw3gJDI7"
   },
   "source": [
    "***\n",
    "<a id=\"coding_tutorial_1\"></a>\n",
    "## The IMDb Dataset"
   ]
  },
  {
   "cell_type": "markdown",
   "metadata": {
    "id": "ZwqGZQ8WJDJF"
   },
   "source": [
    "#### Load the IMDB review sentiment dataset\n",
    "\n",
    "详见 https://www.tensorflow.org/api_docs/python/tf/keras/datasets/imdb\n",
    "\n",
    "~~~python\n",
    "def load_data(path='imdb.npz',\n",
    "              num_words=None,\n",
    "              skip_top=0,\n",
    "              maxlen=None,\n",
    "              seed=113,\n",
    "              start_char=1,\n",
    "              oov_char=2,\n",
    "              index_from=3,\n",
    "              **kwargs):\n",
    "~~~"
   ]
  },
  {
   "cell_type": "code",
   "execution_count": 1,
   "metadata": {
    "ExecuteTime": {
     "end_time": "2021-01-05T03:38:26.794041Z",
     "start_time": "2021-01-05T03:38:24.449322Z"
    },
    "id": "g3_c1LL5JDJG"
   },
   "outputs": [],
   "source": [
    "# Import imdb\n",
    "\n",
    "from tensorflow.keras.datasets import imdb\n",
    "import numpy as np\n",
    "from collections import Counter"
   ]
  },
  {
   "cell_type": "code",
   "execution_count": 2,
   "metadata": {
    "ExecuteTime": {
     "end_time": "2021-01-05T03:38:36.531479Z",
     "start_time": "2021-01-05T03:38:26.796575Z"
    },
    "id": "_9jYJCwXJDJK"
   },
   "outputs": [
    {
     "name": "stdout",
     "output_type": "stream",
     "text": [
      "Downloading data from https://storage.googleapis.com/tensorflow/tf-keras-datasets/imdb.npz\n",
      "17465344/17464789 [==============================] - 2s 0us/step\n"
     ]
    },
    {
     "name": "stderr",
     "output_type": "stream",
     "text": [
      "<string>:6: VisibleDeprecationWarning: Creating an ndarray from ragged nested sequences (which is a list-or-tuple of lists-or-tuples-or ndarrays with different lengths or shapes) is deprecated. If you meant to do this, you must specify 'dtype=object' when creating the ndarray\n",
      "/usr/local/lib/python3.6/dist-packages/tensorflow/python/keras/datasets/imdb.py:159: VisibleDeprecationWarning: Creating an ndarray from ragged nested sequences (which is a list-or-tuple of lists-or-tuples-or ndarrays with different lengths or shapes) is deprecated. If you meant to do this, you must specify 'dtype=object' when creating the ndarray\n",
      "  x_train, y_train = np.array(xs[:idx]), np.array(labels[:idx])\n",
      "/usr/local/lib/python3.6/dist-packages/tensorflow/python/keras/datasets/imdb.py:160: VisibleDeprecationWarning: Creating an ndarray from ragged nested sequences (which is a list-or-tuple of lists-or-tuples-or ndarrays with different lengths or shapes) is deprecated. If you meant to do this, you must specify 'dtype=object' when creating the ndarray\n",
      "  x_test, y_test = np.array(xs[idx:]), np.array(labels[idx:])\n"
     ]
    }
   ],
   "source": [
    "# Download and assign the data set using load_data()\n",
    "\n",
    "# by convention, use 2 as OOV word\n",
    "# reserve 'index_from' (=3 by default) characters:\n",
    "# 0 (padding), 1 (start), 2 (OOV)\n",
    "\n",
    "(x_train, y_train), (x_test, y_test) = imdb.load_data()\n",
    "word_index = imdb.get_word_index()\n",
    "index_word = {value:key for key,value in word_index.items()}"
   ]
  },
  {
   "cell_type": "code",
   "execution_count": 3,
   "metadata": {
    "ExecuteTime": {
     "end_time": "2021-01-05T03:38:44.227610Z",
     "start_time": "2021-01-05T03:38:44.222443Z"
    }
   },
   "outputs": [
    {
     "name": "stdout",
     "output_type": "stream",
     "text": [
      "--------------------------------------------------\n",
      "[1, 14, 22, 16, 43, 530, 973, 1622, 1385, 65, 458, 4468, 66, 3941, 4, 173, 36, 256, 5, 25, 100, 43, 838, 112, 50, 670, 22665, 9, 35, 480, 284, 5, 150, 4, 172, 112, 167, 21631, 336, 385, 39, 4, 172, 4536, 1111, 17, 546, 38, 13, 447, 4, 192, 50, 16, 6, 147, 2025, 19, 14, 22, 4, 1920, 4613, 469, 4, 22, 71, 87, 12, 16, 43, 530, 38, 76, 15, 13, 1247, 4, 22, 17, 515, 17, 12, 16, 626, 18, 19193, 5, 62, 386, 12, 8, 316, 8, 106, 5, 4, 2223, 5244, 16, 480, 66, 3785, 33, 4, 130, 12, 16, 38, 619, 5, 25, 124, 51, 36, 135, 48, 25, 1415, 33, 6, 22, 12, 215, 28, 77, 52, 5, 14, 407, 16, 82, 10311, 8, 4, 107, 117, 5952, 15, 256, 4, 31050, 7, 3766, 5, 723, 36, 71, 43, 530, 476, 26, 400, 317, 46, 7, 4, 12118, 1029, 13, 104, 88, 4, 381, 15, 297, 98, 32, 2071, 56, 26, 141, 6, 194, 7486, 18, 4, 226, 22, 21, 134, 476, 26, 480, 5, 144, 30, 5535, 18, 51, 36, 28, 224, 92, 25, 104, 4, 226, 65, 16, 38, 1334, 88, 12, 16, 283, 5, 16, 4472, 113, 103, 32, 15, 16, 5345, 19, 178, 32]\n",
      "--------------------------------------------------\n",
      "[1, 194, 1153, 194, 8255, 78, 228, 5, 6, 1463, 4369, 5012, 134, 26, 4, 715, 8, 118, 1634, 14, 394, 20, 13, 119, 954, 189, 102, 5, 207, 110, 3103, 21, 14, 69, 188, 8, 30, 23, 7, 4, 249, 126, 93, 4, 114, 9, 2300, 1523, 5, 647, 4, 116, 9, 35, 8163, 4, 229, 9, 340, 1322, 4, 118, 9, 4, 130, 4901, 19, 4, 1002, 5, 89, 29, 952, 46, 37, 4, 455, 9, 45, 43, 38, 1543, 1905, 398, 4, 1649, 26, 6853, 5, 163, 11, 3215, 10156, 4, 1153, 9, 194, 775, 7, 8255, 11596, 349, 2637, 148, 605, 15358, 8003, 15, 123, 125, 68, 23141, 6853, 15, 349, 165, 4362, 98, 5, 4, 228, 9, 43, 36893, 1157, 15, 299, 120, 5, 120, 174, 11, 220, 175, 136, 50, 9, 4373, 228, 8255, 5, 25249, 656, 245, 2350, 5, 4, 9837, 131, 152, 491, 18, 46151, 32, 7464, 1212, 14, 9, 6, 371, 78, 22, 625, 64, 1382, 9, 8, 168, 145, 23, 4, 1690, 15, 16, 4, 1355, 5, 28, 6, 52, 154, 462, 33, 89, 78, 285, 16, 145, 95]\n",
      "--------------------------------------------------\n",
      "[1, 14, 47, 8, 30, 31, 7, 4, 249, 108, 7, 4, 5974, 54, 61, 369, 13, 71, 149, 14, 22, 112, 4, 2401, 311, 12, 16, 3711, 33, 75, 43, 1829, 296, 4, 86, 320, 35, 534, 19, 263, 4821, 1301, 4, 1873, 33, 89, 78, 12, 66, 16, 4, 360, 7, 4, 58, 316, 334, 11, 4, 1716, 43, 645, 662, 8, 257, 85, 1200, 42, 1228, 2578, 83, 68, 3912, 15, 36, 165, 1539, 278, 36, 69, 44076, 780, 8, 106, 14, 6905, 1338, 18, 6, 22, 12, 215, 28, 610, 40, 6, 87, 326, 23, 2300, 21, 23, 22, 12, 272, 40, 57, 31, 11, 4, 22, 47, 6, 2307, 51, 9, 170, 23, 595, 116, 595, 1352, 13, 191, 79, 638, 89, 51428, 14, 9, 8, 106, 607, 624, 35, 534, 6, 227, 7, 129, 113]\n",
      "--------------------------------------------------\n",
      "[1, 4, 18609, 16085, 33, 2804, 4, 2040, 432, 111, 153, 103, 4, 1494, 13, 70, 131, 67, 11, 61, 15305, 744, 35, 3715, 761, 61, 5766, 452, 9214, 4, 985, 7, 64317, 59, 166, 4, 105, 216, 1239, 41, 1797, 9, 15, 7, 35, 744, 2413, 31, 8, 4, 687, 23, 4, 33929, 7339, 6, 3693, 42, 38, 39, 121, 59, 456, 10, 10, 7, 265, 12, 575, 111, 153, 159, 59, 16, 1447, 21, 25, 586, 482, 39, 4, 96, 59, 716, 12, 4, 172, 65, 9, 579, 11, 6004, 4, 1615, 5, 23005, 7, 5168, 17, 13, 7064, 12, 19, 6, 464, 31, 314, 11, 87564, 6, 719, 605, 11, 8, 202, 27, 310, 4, 3772, 3501, 8, 2722, 58, 10, 10, 537, 2116, 180, 40, 14, 413, 173, 7, 263, 112, 37, 152, 377, 4, 537, 263, 846, 579, 178, 54, 75, 71, 476, 36, 413, 263, 2504, 182, 5, 17, 75, 2306, 922, 36, 279, 131, 2895, 17, 2867, 42, 17, 35, 921, 18435, 192, 5, 1219, 3890, 19, 20523, 217, 4122, 1710, 537, 20341, 1236, 5, 736, 10, 10, 61, 403, 9, 47289, 40, 61, 4494, 5, 27, 4494, 159, 90, 263, 2311, 4319, 309, 8, 178, 5, 82, 4319, 4, 65, 15, 9225, 145, 143, 5122, 12, 7039, 537, 746, 537, 537, 15, 7979, 4, 18665, 594, 7, 5168, 94, 9096, 3987, 15242, 11, 28280, 4, 538, 7, 1795, 246, 56615, 9, 10161, 11, 635, 14, 9, 51, 408, 12, 94, 318, 1382, 12, 47, 6, 2683, 936, 5, 6307, 10197, 19, 49, 7, 4, 1885, 13699, 1118, 25, 80, 126, 842, 10, 10, 47289, 18223, 4726, 27, 4494, 11, 1550, 3633, 159, 27, 341, 29, 2733, 19, 4185, 173, 7, 90, 16376, 8, 30, 11, 4, 1784, 86, 1117, 8, 3261, 46, 11, 25837, 21, 29, 9, 2841, 23, 4, 1010, 26747, 793, 6, 13699, 1386, 1830, 10, 10, 246, 50, 9, 6, 2750, 1944, 746, 90, 29, 16376, 8, 124, 4, 882, 4, 882, 496, 27, 33029, 2213, 537, 121, 127, 1219, 130, 5, 29, 494, 8, 124, 4, 882, 496, 4, 341, 7, 27, 846, 10, 10, 29, 9, 1906, 8, 97, 6, 236, 11120, 1311, 8, 4, 23643, 7, 31, 7, 29851, 91, 22793, 3987, 70, 4, 882, 30, 579, 42, 9, 12, 32, 11, 537, 10, 10, 11, 14, 65, 44, 537, 75, 11876, 1775, 3353, 12716, 1846, 4, 11286, 7, 154, 5, 4, 518, 53, 13243, 11286, 7, 3211, 882, 11, 399, 38, 75, 257, 3807, 19, 18223, 17, 29, 456, 4, 65, 7, 27, 205, 113, 10, 10, 33058, 4, 22793, 10359, 9, 242, 4, 91, 1202, 11377, 5, 2070, 307, 22, 7, 5168, 126, 93, 40, 18223, 13, 188, 1076, 3222, 19, 4, 13465, 7, 2348, 537, 23, 53, 537, 21, 82, 40, 18223, 13, 33195, 14, 280, 13, 219, 4, 52788, 431, 758, 859, 4, 953, 1052, 12283, 7, 5991, 5, 94, 40, 25, 238, 60, 35410, 4, 15812, 804, 27767, 7, 4, 9941, 132, 8, 67, 6, 22, 15, 9, 283, 8, 5168, 14, 31, 9, 242, 955, 48, 25, 279, 22148, 23, 12, 1685, 195, 25, 238, 60, 796, 13713, 4, 671, 7, 2804, 5, 4, 559, 154, 888, 7, 726, 50, 26, 49, 7008, 15, 566, 30, 579, 21, 64, 2574]\n",
      "--------------------------------------------------\n",
      "[1, 249, 1323, 7, 61, 113, 10, 10, 13, 1637, 14, 20, 56, 33, 2401, 18, 457, 88, 13, 2626, 1400, 45, 3171, 13, 70, 79, 49, 706, 919, 13, 16, 355, 340, 355, 1696, 96, 143, 4, 22, 32, 289, 7, 61, 369, 71, 2359, 5, 13, 16, 131, 2073, 249, 114, 249, 229, 249, 20, 13, 28, 126, 110, 13, 473, 8, 569, 61, 419, 56, 429, 6, 1513, 18, 35, 534, 95, 474, 570, 5, 25, 124, 138, 88, 12, 421, 1543, 52, 725, 6397, 61, 419, 11, 13, 1571, 15, 1543, 20, 11, 4, 22016, 5, 296, 12, 3524, 5, 15, 421, 128, 74, 233, 334, 207, 126, 224, 12, 562, 298, 2167, 1272, 7, 2601, 5, 516, 988, 43, 8, 79, 120, 15, 595, 13, 784, 25, 3171, 18, 165, 170, 143, 19, 14, 5, 7224, 6, 226, 251, 7, 61, 113]\n"
     ]
    }
   ],
   "source": [
    "for i in range(5):\n",
    "    print('-'*50)\n",
    "    print(x_train[i])"
   ]
  },
  {
   "cell_type": "markdown",
   "metadata": {
    "id": "0oCnB8UMJDJP"
   },
   "source": [
    "#### Inspect the dataset"
   ]
  },
  {
   "cell_type": "code",
   "execution_count": null,
   "metadata": {
    "ExecuteTime": {
     "end_time": "2020-12-13T06:50:48.187924Z",
     "start_time": "2020-12-13T06:50:48.006Z"
    },
    "id": "39RwIt-pJDJQ"
   },
   "outputs": [],
   "source": [
    "# Inspect the type of the data\n",
    "\n",
    "print(type(x_train), type(y_train))\n",
    "print(type(word_index))\n",
    "print(type(index_word))"
   ]
  },
  {
   "cell_type": "code",
   "execution_count": null,
   "metadata": {
    "ExecuteTime": {
     "end_time": "2020-12-13T06:50:48.189434Z",
     "start_time": "2020-12-13T06:50:48.010Z"
    },
    "id": "Viryy_PDJDJU"
   },
   "outputs": [],
   "source": [
    "# Inspect the shape of the data\n",
    "\n",
    "print(x_train.shape, y_train.shape)\n",
    "print(x_test.shape, y_test.shape)\n",
    "print(len(word_index))\n",
    "\n"
   ]
  },
  {
   "cell_type": "markdown",
   "metadata": {},
   "source": [
    "可以发现每段文本，开头的字符都是start_char（默认是1）\n",
    "\n",
    "~~~python\n",
    "\n",
    "  if start_char is not None:\n",
    "    x_train = [[start_char] + [w + index_from for w in x] for x in x_train]\n",
    "    x_test = [[start_char] + [w + index_from for w in x] for x in x_test]\n",
    "  elif index_from:\n",
    "    x_train = [[w + index_from for w in x] for x in x_train]\n",
    "    x_test = [[w + index_from for w in x] for x in x_test]\n",
    "\n",
    "~~~"
   ]
  },
  {
   "cell_type": "code",
   "execution_count": null,
   "metadata": {
    "ExecuteTime": {
     "end_time": "2020-12-13T06:50:48.191060Z",
     "start_time": "2020-12-13T06:50:48.015Z"
    },
    "id": "5q6E6v-FJDJX"
   },
   "outputs": [],
   "source": [
    "# Display the first dataset element input\n",
    "# Notice encoding\n",
    "\n",
    "print(x_train[0])\n",
    "print('-'*50)\n",
    "\n",
    "print(min(word_index.values()), max(word_index.values()))\n",
    "print(type(index_word))\n",
    "\n",
    "print('-'*50)\n",
    "print(1, index_word[1])\n",
    "print(88584, index_word[88584])\n",
    "\n",
    "print('-'*50)\n",
    "i=0\n",
    "for key, value in index_word.items():\n",
    "    if i>=10: break;\n",
    "    print(key, value)\n",
    "    i = i + 1"
   ]
  },
  {
   "cell_type": "code",
   "execution_count": null,
   "metadata": {
    "ExecuteTime": {
     "end_time": "2020-12-13T06:50:48.192532Z",
     "start_time": "2020-12-13T06:50:48.019Z"
    },
    "id": "_lbEqyjxJDJc"
   },
   "outputs": [],
   "source": [
    "# Display the first dataset element output\n",
    "\n",
    "print(y_train[0])"
   ]
  },
  {
   "cell_type": "markdown",
   "metadata": {
    "id": "ZAk-PyOgJDJg"
   },
   "source": [
    "#### Load dataset with different options\n"
   ]
  },
  {
   "cell_type": "markdown",
   "metadata": {},
   "source": [
    "可以发现index_from默认是3，它会改变词的index。\n",
    "\n",
    "~~~python\n",
    "\n",
    "  if start_char is not None:\n",
    "    x_train = [[start_char] + [w + index_from for w in x] for x in x_train]\n",
    "    x_test = [[start_char] + [w + index_from for w in x] for x in x_test]\n",
    "  elif index_from:\n",
    "    x_train = [[w + index_from for w in x] for x in x_train]\n",
    "    x_test = [[w + index_from for w in x] for x in x_test]\n",
    "\n",
    "~~~"
   ]
  },
  {
   "cell_type": "code",
   "execution_count": 7,
   "metadata": {
    "ExecuteTime": {
     "end_time": "2020-12-13T06:50:48.329418Z",
     "start_time": "2020-12-13T06:50:48.311354Z"
    },
    "id": "mfzFxDj-JDJh"
   },
   "outputs": [
    {
     "ename": "NameError",
     "evalue": "name 'imdb' is not defined",
     "output_type": "error",
     "traceback": [
      "\u001b[0;31m\u001b[0m",
      "\u001b[0;31mNameError\u001b[0mTraceback (most recent call last)",
      "\u001b[0;32m<ipython-input-7-dc08c5c40f0a>\u001b[0m in \u001b[0;36m<module>\u001b[0;34m\u001b[0m\n\u001b[0;32m----> 1\u001b[0;31m \u001b[0;34m(\u001b[0m\u001b[0mx_train\u001b[0m\u001b[0;34m,\u001b[0m \u001b[0my_train\u001b[0m\u001b[0;34m)\u001b[0m\u001b[0;34m,\u001b[0m \u001b[0;34m(\u001b[0m\u001b[0mx_test\u001b[0m\u001b[0;34m,\u001b[0m \u001b[0my_test\u001b[0m\u001b[0;34m)\u001b[0m \u001b[0;34m=\u001b[0m \u001b[0mimdb\u001b[0m\u001b[0;34m.\u001b[0m\u001b[0mload_data\u001b[0m\u001b[0;34m(\u001b[0m\u001b[0;34m)\u001b[0m\u001b[0;34m\u001b[0m\u001b[0;34m\u001b[0m\u001b[0m\n\u001b[0m\u001b[1;32m      2\u001b[0m \u001b[0mprint\u001b[0m\u001b[0;34m(\u001b[0m\u001b[0mmin\u001b[0m\u001b[0;34m(\u001b[0m\u001b[0;34m[\u001b[0m\u001b[0mmin\u001b[0m\u001b[0;34m(\u001b[0m\u001b[0;34m[\u001b[0m \u001b[0mw\u001b[0m \u001b[0;32mfor\u001b[0m \u001b[0mw\u001b[0m \u001b[0;32min\u001b[0m \u001b[0mx\u001b[0m \u001b[0;32mif\u001b[0m \u001b[0mw\u001b[0m\u001b[0;34m>\u001b[0m\u001b[0;36m2\u001b[0m \u001b[0;34m]\u001b[0m\u001b[0;34m)\u001b[0m \u001b[0;32mfor\u001b[0m \u001b[0mx\u001b[0m \u001b[0;32min\u001b[0m \u001b[0mx_train\u001b[0m\u001b[0;34m]\u001b[0m\u001b[0;34m)\u001b[0m\u001b[0;34m)\u001b[0m\u001b[0;34m\u001b[0m\u001b[0;34m\u001b[0m\u001b[0m\n\u001b[1;32m      3\u001b[0m \u001b[0;34m\u001b[0m\u001b[0m\n\u001b[1;32m      4\u001b[0m \u001b[0;31m# Load the dataset with defaults\u001b[0m\u001b[0;34m\u001b[0m\u001b[0;34m\u001b[0m\u001b[0;34m\u001b[0m\u001b[0m\n\u001b[1;32m      5\u001b[0m \u001b[0;31m# 默认路径 ~/.keras/datasets/\u001b[0m\u001b[0;34m\u001b[0m\u001b[0;34m\u001b[0m\u001b[0;34m\u001b[0m\u001b[0m\n",
      "\u001b[0;31mNameError\u001b[0m: name 'imdb' is not defined"
     ]
    }
   ],
   "source": [
    "(x_train, y_train), (x_test, y_test) = imdb.load_data()\n",
    "print(min([min([ w for w in x if w>2 ]) for x in x_train]))\n",
    "\n",
    "# Load the dataset with defaults\n",
    "# 默认路径 ~/.keras/datasets/\n",
    "(x_train, y_train), (x_test, y_test) = imdb.load_data('imdb.npz', index_from=4)\n",
    "\n",
    "print(min([min([w for w in x if w>2]) for x in x_train]))"
   ]
  },
  {
   "cell_type": "code",
   "execution_count": null,
   "metadata": {
    "ExecuteTime": {
     "end_time": "2020-12-13T06:50:48.332322Z",
     "start_time": "2020-12-13T06:50:48.029Z"
    }
   },
   "outputs": [],
   "source": [
    "' '.join([index_word[i+4] for i in x_train[5] if i>2])"
   ]
  },
  {
   "cell_type": "code",
   "execution_count": null,
   "metadata": {
    "ExecuteTime": {
     "end_time": "2020-12-13T06:50:48.334080Z",
     "start_time": "2020-12-13T06:50:48.033Z"
    },
    "id": "kuGfzZg3JDJv"
   },
   "outputs": [],
   "source": [
    "c = Counter()\n",
    "for x in x_train:\n",
    "    c.update(x)\n",
    "print(len(c.keys()))\n",
    "c.most_common(20)"
   ]
  },
  {
   "cell_type": "markdown",
   "metadata": {},
   "source": [
    "可以发现下面单词列表是根据词频来排序的。\n",
    "\n",
    "~~~python\n",
    "  # by convention, use 2 as OOV word\n",
    "  # reserve 'index_from' (=3 by default) characters:\n",
    "  # 0 (padding), 1 (start), 2 (OOV)\n",
    "  if oov_char is not None:\n",
    "    xs = [\n",
    "        [w if (skip_top <= w < num_words) else oov_char for w in x] for x in xs\n",
    "    ]\n",
    "  else:\n",
    "    xs = [[w for w in x if skip_top <= w < num_words] for x in xs]\n",
    "    \n",
    "~~~"
   ]
  },
  {
   "cell_type": "code",
   "execution_count": null,
   "metadata": {
    "ExecuteTime": {
     "end_time": "2020-12-13T06:50:48.335797Z",
     "start_time": "2020-12-13T06:50:48.037Z"
    }
   },
   "outputs": [],
   "source": [
    "# Limit the vocabulary to the top 500 words using num_words\n",
    "\n",
    "(x_train, y_train), (x_test, y_test) = imdb.load_data(num_words=500)\n",
    "print(x_train[0])\n",
    "\n",
    "c = Counter()\n",
    "for x in x_train:\n",
    "    c.update(x)\n",
    "print(len(c.keys()))\n",
    "c.most_common(20)"
   ]
  },
  {
   "cell_type": "code",
   "execution_count": null,
   "metadata": {
    "ExecuteTime": {
     "end_time": "2020-12-13T06:50:48.337439Z",
     "start_time": "2020-12-13T06:50:48.042Z"
    },
    "id": "pMkXgUGaJDJy"
   },
   "outputs": [],
   "source": [
    "# Ignore the top 10 most frequent words using skip_top\n",
    "\n",
    "(x_train, y_train), (x_test, y_test) = imdb.load_data(skip_top=10, num_words=500)\n",
    "print(x_train[0])\n",
    "\n",
    "c = Counter()\n",
    "for x in x_train:\n",
    "    c.update(x)\n",
    "print(len(c.keys()))\n",
    "c.most_common(20)"
   ]
  },
  {
   "cell_type": "code",
   "execution_count": null,
   "metadata": {
    "ExecuteTime": {
     "end_time": "2020-12-13T06:50:48.339033Z",
     "start_time": "2020-12-13T06:50:48.047Z"
    },
    "id": "UBDAFt0FJDJ3"
   },
   "outputs": [],
   "source": [
    "# Limit the sequence lengths to 500 using maxlen\n",
    "\n",
    "(x_train, y_train), (x_test, y_test) = imdb.load_data(skip_top=10, num_words=500, maxlen=500)\n",
    "\n",
    "c = Counter()\n",
    "for x in x_train:\n",
    "    c.update(x)\n",
    "print(len(c.keys()))\n",
    "c.most_common(20)"
   ]
  },
  {
   "cell_type": "code",
   "execution_count": null,
   "metadata": {
    "ExecuteTime": {
     "end_time": "2020-12-13T06:50:48.340547Z",
     "start_time": "2020-12-13T06:50:48.051Z"
    },
    "id": "DI-Nr897LorW"
   },
   "outputs": [],
   "source": [
    " # Use '1' as the character that indicates the start of a sequence\n",
    "\n",
    "(x_train, y_train), (x_test, y_test) = imdb.load_data(start_char=5)\n",
    "\n",
    "c = Counter()\n",
    "for x in x_train:\n",
    "    c.update(x)\n",
    "print(len(c.keys()))\n",
    "c.most_common(20)"
   ]
  },
  {
   "cell_type": "markdown",
   "metadata": {
    "id": "AuBCKKGyJDJ7"
   },
   "source": [
    "#### Explore the dataset word index"
   ]
  },
  {
   "cell_type": "code",
   "execution_count": null,
   "metadata": {
    "ExecuteTime": {
     "end_time": "2020-12-13T06:50:48.342095Z",
     "start_time": "2020-12-13T06:50:48.055Z"
    },
    "id": "_gkaFf6MJDJ9"
   },
   "outputs": [],
   "source": [
    "# Load the imdb word index using get_word_index()\n",
    "index_from = 3\n",
    "(x_train, y_train), (x_test, y_test) = imdb.load_data(index_from=index_from)\n",
    "\n",
    "word_index = imdb.get_word_index()\n"
   ]
  },
  {
   "cell_type": "code",
   "execution_count": null,
   "metadata": {
    "ExecuteTime": {
     "end_time": "2020-12-13T06:50:48.343725Z",
     "start_time": "2020-12-13T06:50:48.060Z"
    },
    "id": "EUzgAIoKJDKB"
   },
   "outputs": [],
   "source": [
    "# View the word index as a dictionary,\n",
    "# accounting for index_from.\n",
    "\n",
    "word_index = {key:value+index_from for key,value in word_index.items()}\n"
   ]
  },
  {
   "cell_type": "code",
   "execution_count": null,
   "metadata": {
    "ExecuteTime": {
     "end_time": "2020-12-13T06:50:48.345156Z",
     "start_time": "2020-12-13T06:50:48.063Z"
    },
    "id": "huCi_QIzJDKL"
   },
   "outputs": [],
   "source": [
    "# Retrieve a specific word's index\n",
    "\n",
    "word_index['movie']"
   ]
  },
  {
   "cell_type": "code",
   "execution_count": null,
   "metadata": {
    "ExecuteTime": {
     "end_time": "2020-12-13T06:50:48.346763Z",
     "start_time": "2020-12-13T06:50:48.070Z"
    },
    "id": "p7UkZwHiJDKU",
    "scrolled": false
   },
   "outputs": [],
   "source": [
    "# View an input sentence\n",
    "# 从数据上看，1表示zpositive，0表示negative\n",
    "\n",
    "index_word = {value:key for key,value in word_index.items()}\n",
    "\n",
    "for i in range(10):\n",
    "    print('-'*50)\n",
    "    print(y_train[i], \":\",  ' '.join([index_word[i] for i in x_train[i] if i>index_from]))"
   ]
  },
  {
   "cell_type": "code",
   "execution_count": null,
   "metadata": {
    "ExecuteTime": {
     "end_time": "2020-12-13T06:50:48.348357Z",
     "start_time": "2020-12-13T06:50:48.075Z"
    },
    "id": "qq2ID8wRJDKX"
   },
   "outputs": [],
   "source": [
    "# Get the sentiment value\n",
    "\n",
    "print(y_train[5])"
   ]
  },
  {
   "cell_type": "markdown",
   "metadata": {
    "id": "hcPUtmz-JDKZ"
   },
   "source": [
    "---\n",
    "<a id=\"coding_tutorial_2\"></a>\n",
    "## Padding and Masking Sequence Data"
   ]
  },
  {
   "cell_type": "code",
   "execution_count": 8,
   "metadata": {
    "ExecuteTime": {
     "end_time": "2020-12-13T06:50:48.470736Z",
     "start_time": "2020-12-13T06:50:48.451762Z"
    },
    "id": "5UggNd-8VLgV"
   },
   "outputs": [
    {
     "ename": "NameError",
     "evalue": "name 'imdb' is not defined",
     "output_type": "error",
     "traceback": [
      "\u001b[0;31m\u001b[0m",
      "\u001b[0;31mNameError\u001b[0mTraceback (most recent call last)",
      "\u001b[0;32m<ipython-input-8-de6c59942731>\u001b[0m in \u001b[0;36m<module>\u001b[0;34m\u001b[0m\n\u001b[1;32m      2\u001b[0m \u001b[0;34m\u001b[0m\u001b[0m\n\u001b[1;32m      3\u001b[0m \u001b[0mindex_from\u001b[0m \u001b[0;34m=\u001b[0m \u001b[0;36m3\u001b[0m\u001b[0;34m\u001b[0m\u001b[0;34m\u001b[0m\u001b[0m\n\u001b[0;32m----> 4\u001b[0;31m \u001b[0;34m(\u001b[0m\u001b[0mx_train\u001b[0m\u001b[0;34m,\u001b[0m \u001b[0my_train\u001b[0m\u001b[0;34m)\u001b[0m\u001b[0;34m,\u001b[0m \u001b[0;34m(\u001b[0m\u001b[0mx_test\u001b[0m\u001b[0;34m,\u001b[0m \u001b[0my_test\u001b[0m\u001b[0;34m)\u001b[0m \u001b[0;34m=\u001b[0m \u001b[0mimdb\u001b[0m\u001b[0;34m.\u001b[0m\u001b[0mload_data\u001b[0m\u001b[0;34m(\u001b[0m\u001b[0mindex_from\u001b[0m\u001b[0;34m=\u001b[0m\u001b[0mindex_from\u001b[0m\u001b[0;34m)\u001b[0m\u001b[0;34m\u001b[0m\u001b[0;34m\u001b[0m\u001b[0m\n\u001b[0m\u001b[1;32m      5\u001b[0m \u001b[0;34m\u001b[0m\u001b[0m\n\u001b[1;32m      6\u001b[0m \u001b[0mword_index\u001b[0m \u001b[0;34m=\u001b[0m \u001b[0mimdb\u001b[0m\u001b[0;34m.\u001b[0m\u001b[0mget_word_index\u001b[0m\u001b[0;34m(\u001b[0m\u001b[0;34m)\u001b[0m\u001b[0;34m\u001b[0m\u001b[0;34m\u001b[0m\u001b[0m\n",
      "\u001b[0;31mNameError\u001b[0m: name 'imdb' is not defined"
     ]
    }
   ],
   "source": [
    "# Load the imdb data set\n",
    "\n",
    "index_from = 3\n",
    "(x_train, y_train), (x_test, y_test) = imdb.load_data(index_from=index_from)\n",
    "\n",
    "word_index = imdb.get_word_index()\n",
    "word_index = {key:value+index_from for key,value in word_index.items()}\n",
    "index_word = {value:key for key,value in word_index.items()}"
   ]
  },
  {
   "cell_type": "markdown",
   "metadata": {
    "id": "NuqWhXi-JDKa"
   },
   "source": [
    "#### Preprocess the data with padding"
   ]
  },
  {
   "cell_type": "code",
   "execution_count": null,
   "metadata": {
    "ExecuteTime": {
     "end_time": "2020-12-13T06:50:48.472822Z",
     "start_time": "2020-12-13T06:50:48.082Z"
    },
    "id": "fWULtJ7CJDKe"
   },
   "outputs": [],
   "source": [
    "# Inspect the input data shape\n",
    "\n",
    "print(x_train.shape)\n",
    "for i in range(10):\n",
    "    print(i, len(x_train[i]))"
   ]
  },
  {
   "cell_type": "code",
   "execution_count": null,
   "metadata": {
    "ExecuteTime": {
     "end_time": "2020-12-13T06:50:48.474458Z",
     "start_time": "2020-12-13T06:50:48.085Z"
    },
    "id": "OOts_k01JDKh"
   },
   "outputs": [],
   "source": [
    "# Pad the inputs to the maximum length using maxlen\n",
    "\n",
    "padded_x_train = tf.keras.preprocessing.sequence.pad_sequences(x_train, maxlen=300, padding='post', truncating='pre')"
   ]
  },
  {
   "cell_type": "code",
   "execution_count": null,
   "metadata": {
    "ExecuteTime": {
     "end_time": "2020-12-13T06:50:48.476238Z",
     "start_time": "2020-12-13T06:50:48.090Z"
    },
    "id": "rNPiMGwDJDKk"
   },
   "outputs": [],
   "source": [
    "# Inspect the output data shape\n",
    "print(padded_x_train.shape)\n",
    "for i in range(10):\n",
    "    print(i, len(padded_x_train[i]))\n",
    "\n",
    "print('-'*50)\n",
    "print(padded_x_train[0])  \n",
    "print('-'*50)\n",
    "print(x_train[0]) \n",
    "\n",
    "print('-'*50)\n",
    "print(padded_x_train[3])   \n",
    "print('-'*50)\n",
    "print(x_train[3])"
   ]
  },
  {
   "cell_type": "markdown",
   "metadata": {
    "id": "AJt56letJDKn"
   },
   "source": [
    "#### Create a Masking layer\n",
    "\n",
    "\n",
    "\n",
    "看起来maskting层，是根据最后两层的内容，来建立mask的，感觉最后一层好像图像是channel。其处理代码如下\n",
    "\n",
    "~~~python\n",
    "def call(self, inputs):\n",
    "    boolean_mask = K.any(\n",
    "        math_ops.not_equal(inputs, self.mask_value), axis=-1, keepdims=True)\n",
    "    outputs = inputs * math_ops.cast(boolean_mask, inputs.dtype)\n",
    "    # Compute the mask and outputs simultaneously.\n",
    "    outputs._keras_mask = array_ops.squeeze(boolean_mask, axis=-1)  # pylint: disable=protected-access\n",
    "    return outputs\n",
    "\n",
    "~~~"
   ]
  },
  {
   "cell_type": "code",
   "execution_count": null,
   "metadata": {
    "ExecuteTime": {
     "end_time": "2020-12-13T06:50:48.477779Z",
     "start_time": "2020-12-13T06:50:48.094Z"
    },
    "id": "ZdoMdifYJDKo"
   },
   "outputs": [],
   "source": [
    "# Import numpy \n",
    "\n",
    "import numpy as np"
   ]
  },
  {
   "cell_type": "code",
   "execution_count": null,
   "metadata": {
    "ExecuteTime": {
     "end_time": "2020-12-13T06:50:48.479326Z",
     "start_time": "2020-12-13T06:50:48.097Z"
    },
    "id": "v8LjX9QaJDKr"
   },
   "outputs": [],
   "source": [
    "# Masking expects to see (batch, sequence, features)\n",
    "# Create a dummy feature dimension using expand_dims\n",
    "\n",
    "padded_x_train = np.expand_dims(padded_x_train, -1)\n"
   ]
  },
  {
   "cell_type": "code",
   "execution_count": null,
   "metadata": {
    "ExecuteTime": {
     "end_time": "2020-12-13T06:50:48.480951Z",
     "start_time": "2020-12-13T06:50:48.100Z"
    }
   },
   "outputs": [],
   "source": [
    "print(padded_x_train.shape)"
   ]
  },
  {
   "cell_type": "code",
   "execution_count": null,
   "metadata": {
    "ExecuteTime": {
     "end_time": "2020-12-13T06:50:48.482511Z",
     "start_time": "2020-12-13T06:50:48.103Z"
    },
    "id": "uFrgXbDrJDKt"
   },
   "outputs": [],
   "source": [
    "# Create a Masking layer \n",
    "\n",
    "masking_layer = tf.keras.layers.Masking(mask_value=0)"
   ]
  },
  {
   "cell_type": "code",
   "execution_count": null,
   "metadata": {
    "ExecuteTime": {
     "end_time": "2020-12-13T06:50:48.484022Z",
     "start_time": "2020-12-13T06:50:48.106Z"
    },
    "id": "9kkSzdHwJDKw"
   },
   "outputs": [],
   "source": [
    "# Pass tf_x_train to it\n",
    "\n",
    "masked_x_train = masking_layer(padded_x_train)"
   ]
  },
  {
   "cell_type": "code",
   "execution_count": null,
   "metadata": {
    "ExecuteTime": {
     "end_time": "2020-12-13T06:50:48.485634Z",
     "start_time": "2020-12-13T06:50:48.112Z"
    },
    "id": "MuStn9s0JDK0",
    "scrolled": false
   },
   "outputs": [],
   "source": [
    "# Look at the dataset\n",
    "\n",
    "masked_x_train[0]"
   ]
  },
  {
   "cell_type": "code",
   "execution_count": null,
   "metadata": {
    "ExecuteTime": {
     "end_time": "2020-12-13T06:50:48.487323Z",
     "start_time": "2020-12-13T06:50:48.115Z"
    },
    "id": "O54DVLx4JDK7"
   },
   "outputs": [],
   "source": [
    "# Look at the ._keras_mask for the dataset\n",
    "\n",
    "print(masked_x_train._keras_mask.shape)\n",
    "masked_x_train._keras_mask[0]"
   ]
  },
  {
   "cell_type": "markdown",
   "metadata": {
    "id": "Zo5rD5ZcJDK_"
   },
   "source": [
    "***\n",
    "<a id=\"coding_tutorial_3\"></a>\n",
    "## The Embedding layer\n",
    "\n",
    "https://keras.io/zh/layers/embeddings/\n",
    "\n",
    "**参数**\n",
    "\n",
    "- **input_dim**: int > 0。词汇表大小， 即，最大整数 index + 1。\n",
    "- **output_dim**: int >= 0。词向量的维度。\n",
    "- **embeddings_initializer**: `embeddings` 矩阵的初始化方法 (详见 [initializers](https://keras.io/zh/initializers/))。\n",
    "- **embeddings_regularizer**: `embeddings` matrix 的正则化方法 (详见 [regularizer](https://keras.io/zh/regularizers/))。\n",
    "- **embeddings_constraint**: `embeddings` matrix 的约束函数 (详见 [constraints](https://keras.io/zh/constraints/))。\n",
    "- **mask_zero**: 是否把 0 看作为一个应该被遮蔽的特殊的 \"padding\" 值。 这对于可变长的 [循环神经网络层](https://keras.io/zh/layers/recurrent/) 十分有用。 如果设定为 `True`，那么接下来的所有层都必须支持 masking，否则就会抛出异常。 如果 mask_zero 为 `True`，作为结果，索引 0 就不能被用于词汇表中 （input_dim 应该与 vocabulary + 1 大小相同）。\n",
    "- **input_length**: 输入序列的长度，当它是固定的时。 如果你需要连接 `Flatten` 和 `Dense` 层，则这个参数是必须的 （没有它，dense 层的输出尺寸就无法计算）\n",
    "。\n",
    "\n",
    "**输入尺寸**\n",
    "\n",
    "尺寸为 `(batch_size, sequence_length)` 的 2D 张量。\n",
    "\n",
    "**输出尺寸**\n",
    "\n",
    "尺寸为 `(batch_size, sequence_length, output_dim)` 的 3D 张量。"
   ]
  },
  {
   "cell_type": "markdown",
   "metadata": {
    "id": "JCkBOM8mJDLA"
   },
   "source": [
    "#### Create and apply an `Embedding` layer"
   ]
  },
  {
   "cell_type": "code",
   "execution_count": 9,
   "metadata": {
    "ExecuteTime": {
     "end_time": "2020-12-13T06:50:48.595855Z",
     "start_time": "2020-12-13T06:50:48.590346Z"
    },
    "id": "D-esPcdDJDLJ"
   },
   "outputs": [],
   "source": [
    "# Create an embedding layer using layers.Embedding\n",
    "# Specify input_dim, output_dim, input_length\n",
    "\n",
    "embedding_layer = tf.keras.layers.Embedding(input_dim=501, output_dim=16)"
   ]
  },
  {
   "cell_type": "code",
   "execution_count": 10,
   "metadata": {
    "ExecuteTime": {
     "end_time": "2020-12-13T06:50:48.626978Z",
     "start_time": "2020-12-13T06:50:48.598129Z"
    },
    "id": "Sf3B6HamJDLN"
   },
   "outputs": [
    {
     "name": "stdout",
     "output_type": "stream",
     "text": [
      "(1, 4, 1)\n",
      "(1, 4, 1, 16)\n"
     ]
    }
   ],
   "source": [
    "# Inspect an Embedding layer output for a fixed input\n",
    "# Expects an input of shape (batch, sequence, feature)\n",
    "\n",
    "sequence_of_indices = tf.constant([[[0], [1], [5], [500]]])\n",
    "print(sequence_of_indices.shape)\n",
    "sequence_of_embeddings = embedding_layer(sequence_of_indices)\n",
    "\n",
    "print(sequence_of_embeddings.shape)"
   ]
  },
  {
   "cell_type": "code",
   "execution_count": 11,
   "metadata": {
    "ExecuteTime": {
     "end_time": "2020-12-13T06:50:48.641036Z",
     "start_time": "2020-12-13T06:50:48.629143Z"
    },
    "id": "ualmsaPpJDLV"
   },
   "outputs": [
    {
     "data": {
      "text/plain": [
       "(501, 16)"
      ]
     },
     "execution_count": 11,
     "metadata": {},
     "output_type": "execute_result"
    }
   ],
   "source": [
    "# Inspect the Embedding layer weights using get_weights()\n",
    "embedding_layer.get_weights()[0].shape\n"
   ]
  },
  {
   "cell_type": "code",
   "execution_count": 12,
   "metadata": {
    "ExecuteTime": {
     "end_time": "2020-12-13T06:50:48.648824Z",
     "start_time": "2020-12-13T06:50:48.643192Z"
    },
    "id": "1Wadlt3AJDLX"
   },
   "outputs": [
    {
     "data": {
      "text/plain": [
       "array([ 0.02454586, -0.00432748, -0.00028656,  0.03896247, -0.02466898,\n",
       "        0.00436393, -0.03010212,  0.03159023, -0.01604318, -0.03909466,\n",
       "       -0.0146222 , -0.02455685,  0.01654196,  0.01164547, -0.01700195,\n",
       "       -0.04154638], dtype=float32)"
      ]
     },
     "execution_count": 12,
     "metadata": {},
     "output_type": "execute_result"
    }
   ],
   "source": [
    "# Get the embedding for the 14th index\n",
    "\n",
    "embedding_layer.get_weights()[0][14]"
   ]
  },
  {
   "cell_type": "markdown",
   "metadata": {
    "id": "UFuhReOm9xF7"
   },
   "source": [
    "#### Create and apply an `Embedding` layer that uses `mask_zero=True`"
   ]
  },
  {
   "cell_type": "code",
   "execution_count": 13,
   "metadata": {
    "ExecuteTime": {
     "end_time": "2020-12-13T06:50:48.655239Z",
     "start_time": "2020-12-13T06:50:48.651167Z"
    },
    "id": "nKYwKT_I-H2O"
   },
   "outputs": [],
   "source": [
    "# Create a layer that uses the mask_zero kwarg\n",
    "\n",
    "masking_embedding_layer = tf.keras.layers.Embedding(input_dim=501, output_dim=16, mask_zero=True)"
   ]
  },
  {
   "cell_type": "code",
   "execution_count": 14,
   "metadata": {
    "ExecuteTime": {
     "end_time": "2020-12-13T06:50:48.665126Z",
     "start_time": "2020-12-13T06:50:48.657474Z"
    },
    "id": "6hc1zx6A-H6R"
   },
   "outputs": [
    {
     "data": {
      "text/plain": [
       "<tf.Tensor: shape=(1, 4, 1), dtype=bool, numpy=\n",
       "array([[[False],\n",
       "        [ True],\n",
       "        [ True],\n",
       "        [ True]]])>"
      ]
     },
     "execution_count": 14,
     "metadata": {},
     "output_type": "execute_result"
    }
   ],
   "source": [
    "# Apply this layer to the sequence and see the _keras_mask property\n",
    "\n",
    "\n",
    "masking_sequence_of_embeddings = masking_embedding_layer(sequence_of_indices)\n",
    "masking_sequence_of_embeddings._keras_mask"
   ]
  },
  {
   "cell_type": "markdown",
   "metadata": {
    "id": "EUG6LF1MJDL0"
   },
   "source": [
    "---\n",
    "<a id=\"coding_tutorial_4\"></a>\n",
    "## The Embedding Projector"
   ]
  },
  {
   "cell_type": "markdown",
   "metadata": {
    "id": "Zna3TCoTAu00"
   },
   "source": [
    "#### Mount Google Drive"
   ]
  },
  {
   "cell_type": "code",
   "execution_count": 15,
   "metadata": {
    "ExecuteTime": {
     "end_time": "2020-12-13T06:50:48.669450Z",
     "start_time": "2020-12-13T06:50:48.667395Z"
    },
    "id": "qPKYrlepAxPV"
   },
   "outputs": [],
   "source": [
    "# from google.colab import drive\n",
    "# drive.mount('/content/drive')"
   ]
  },
  {
   "cell_type": "markdown",
   "metadata": {
    "id": "OBAX9ENDBFFE"
   },
   "source": [
    "#### Load and preprocess the IMDb data"
   ]
  },
  {
   "cell_type": "code",
   "execution_count": 16,
   "metadata": {
    "ExecuteTime": {
     "end_time": "2020-12-13T06:50:48.678582Z",
     "start_time": "2020-12-13T06:50:48.671599Z"
    },
    "id": "yo5qBbDDBIdn"
   },
   "outputs": [],
   "source": [
    "# A function to load and preprocess the IMDB dataset\n",
    "\n",
    "def get_and_pad_imdb_dataset(num_words=10000, maxlen=None, index_from=2):\n",
    "    from tensorflow.keras.datasets import imdb\n",
    "\n",
    "    # Load the reviews\n",
    "    (x_train, y_train), (x_test, y_test) = imdb.load_data(path='imdb.npz',\n",
    "                                                          num_words=num_words,\n",
    "                                                          skip_top=0,\n",
    "                                                          maxlen=maxlen,\n",
    "                                                          start_char=1,\n",
    "                                                          oov_char=2,\n",
    "                                                          index_from=index_from)\n",
    "\n",
    "    x_train = tf.keras.preprocessing.sequence.pad_sequences(x_train,\n",
    "                                                        maxlen=None,\n",
    "                                                        padding='pre',\n",
    "                                                        truncating='pre',\n",
    "                                                        value=0)\n",
    "    \n",
    "    x_test = tf.keras.preprocessing.sequence.pad_sequences(x_test,\n",
    "                                                           maxlen=None,\n",
    "                                                           padding='pre',\n",
    "                                                           truncating='pre',\n",
    "                                                           value=0)\n",
    "    return (x_train, y_train), (x_test, y_test)"
   ]
  },
  {
   "cell_type": "code",
   "execution_count": 17,
   "metadata": {
    "ExecuteTime": {
     "end_time": "2020-12-13T06:50:55.880739Z",
     "start_time": "2020-12-13T06:50:48.680525Z"
    },
    "id": "RGpymnb2BIiR"
   },
   "outputs": [
    {
     "name": "stderr",
     "output_type": "stream",
     "text": [
      "<string>:6: VisibleDeprecationWarning: Creating an ndarray from ragged nested sequences (which is a list-or-tuple of lists-or-tuples-or ndarrays with different lengths or shapes) is deprecated. If you meant to do this, you must specify 'dtype=object' when creating the ndarray\n",
      "/usr/local/lib/python3.6/dist-packages/tensorflow/python/keras/datasets/imdb.py:159: VisibleDeprecationWarning: Creating an ndarray from ragged nested sequences (which is a list-or-tuple of lists-or-tuples-or ndarrays with different lengths or shapes) is deprecated. If you meant to do this, you must specify 'dtype=object' when creating the ndarray\n",
      "  x_train, y_train = np.array(xs[:idx]), np.array(labels[:idx])\n",
      "/usr/local/lib/python3.6/dist-packages/tensorflow/python/keras/datasets/imdb.py:160: VisibleDeprecationWarning: Creating an ndarray from ragged nested sequences (which is a list-or-tuple of lists-or-tuples-or ndarrays with different lengths or shapes) is deprecated. If you meant to do this, you must specify 'dtype=object' when creating the ndarray\n",
      "  x_test, y_test = np.array(xs[idx:]), np.array(labels[idx:])\n"
     ]
    }
   ],
   "source": [
    "# Load the dataset\n",
    "\n",
    "(x_train, y_train), (x_test, y_test) = get_and_pad_imdb_dataset()"
   ]
  },
  {
   "cell_type": "code",
   "execution_count": 18,
   "metadata": {
    "ExecuteTime": {
     "end_time": "2020-12-13T06:50:55.886860Z",
     "start_time": "2020-12-13T06:50:55.883027Z"
    },
    "id": "5EtU2vK0BLts"
   },
   "outputs": [],
   "source": [
    "# A function to get the dataset word index\n",
    "\n",
    "def get_imdb_word_index(num_words=10000, index_from=2):\n",
    "    imdb_word_index = tf.keras.datasets.imdb.get_word_index(path='imdb_word_index.json')\n",
    "    imdb_word_index = {key: value + index_from for\n",
    "                       key, value in imdb_word_index.items() if value <= num_words-index_from}\n",
    "    return imdb_word_index"
   ]
  },
  {
   "cell_type": "code",
   "execution_count": 19,
   "metadata": {
    "ExecuteTime": {
     "end_time": "2020-12-13T06:50:55.941713Z",
     "start_time": "2020-12-13T06:50:55.888903Z"
    },
    "id": "vtkIEIdRBSxv"
   },
   "outputs": [],
   "source": [
    "# Get the word index\n",
    "\n",
    "imdb_word_index = get_imdb_word_index()"
   ]
  },
  {
   "cell_type": "code",
   "execution_count": 20,
   "metadata": {
    "ExecuteTime": {
     "end_time": "2020-12-13T06:50:55.947684Z",
     "start_time": "2020-12-13T06:50:55.944132Z"
    },
    "id": "Ur2fp10YBS6T"
   },
   "outputs": [],
   "source": [
    "# Swap the keys and values of the word index\n",
    "inv_imdb_word_index = {value:key for key, value in imdb_word_index.items()}\n"
   ]
  },
  {
   "cell_type": "code",
   "execution_count": 21,
   "metadata": {
    "ExecuteTime": {
     "end_time": "2020-12-13T06:50:55.955688Z",
     "start_time": "2020-12-13T06:50:55.949639Z"
    }
   },
   "outputs": [
    {
     "data": {
      "text/plain": [
       "array([  0,   0,   0, ...,  18, 177,  31], dtype=int32)"
      ]
     },
     "execution_count": 21,
     "metadata": {},
     "output_type": "execute_result"
    }
   ],
   "source": [
    "x_train[0]"
   ]
  },
  {
   "cell_type": "code",
   "execution_count": 22,
   "metadata": {
    "ExecuteTime": {
     "end_time": "2020-12-13T06:50:55.968598Z",
     "start_time": "2020-12-13T06:50:55.957791Z"
    },
    "id": "cquirCA8BS99"
   },
   "outputs": [
    {
     "data": {
      "text/plain": [
       "\"this film was just brilliant casting location scenery story direction everyone's really suited the part they played and you could just imagine being there robert is an amazing actor and now the same being director father came from the same scottish island as myself so i loved the fact there was a real connection with this film the witty remarks throughout the film were great it was just brilliant so much that i bought the film as soon as it was released for and would recommend it to everyone to watch and the fly fishing was amazing really cried at the end it was so sad and you know what they say if you cry at a film it must have been good and this definitely was also to the two little boy's that played the of norman and paul they were just brilliant children are often left out of the list i think because the stars that play them all grown up are such a big profile for the whole film but these children are amazing and should be praised for what they have done don't you think the whole story was so lovely because it was true and was someone's life after all that was shared with us all\""
      ]
     },
     "execution_count": 22,
     "metadata": {},
     "output_type": "execute_result"
    }
   ],
   "source": [
    "# View the first dataset example sentence\n",
    "\n",
    "' '.join([inv_imdb_word_index[i] for i in x_train[0] if i>=index_from])"
   ]
  },
  {
   "cell_type": "markdown",
   "metadata": {
    "id": "NrE0rpCVJDL1"
   },
   "source": [
    "#### Build an Embedding layer into a model"
   ]
  },
  {
   "cell_type": "code",
   "execution_count": 23,
   "metadata": {
    "ExecuteTime": {
     "end_time": "2020-12-13T06:50:55.975117Z",
     "start_time": "2020-12-13T06:50:55.970517Z"
    },
    "id": "UPUfv9kjJDL1"
   },
   "outputs": [
    {
     "data": {
      "text/plain": [
       "10000"
      ]
     },
     "execution_count": 23,
     "metadata": {},
     "output_type": "execute_result"
    }
   ],
   "source": [
    "# Get the maximum token value\n",
    "\n",
    "max_index_value = max(imdb_word_index.values())\n",
    "max_index_value"
   ]
  },
  {
   "cell_type": "code",
   "execution_count": 24,
   "metadata": {
    "ExecuteTime": {
     "end_time": "2020-12-13T06:50:55.981230Z",
     "start_time": "2020-12-13T06:50:55.977019Z"
    },
    "id": "lO0CkecjJDL5"
   },
   "outputs": [
    {
     "name": "stdout",
     "output_type": "stream",
     "text": [
      "10000\n"
     ]
    }
   ],
   "source": [
    "# Specify an embedding dimension\n",
    "embedding_dim =16\n",
    "print(max_index_value)"
   ]
  },
  {
   "cell_type": "code",
   "execution_count": 25,
   "metadata": {
    "ExecuteTime": {
     "end_time": "2020-12-13T06:50:56.013001Z",
     "start_time": "2020-12-13T06:50:55.983307Z"
    },
    "id": "oFBZOlp3JDL7"
   },
   "outputs": [
    {
     "name": "stdout",
     "output_type": "stream",
     "text": [
      "Model: \"sequential_4\"\n",
      "_________________________________________________________________\n",
      "Layer (type)                 Output Shape              Param #   \n",
      "=================================================================\n",
      "embedding_4 (Embedding)      (None, None, 16)          160016    \n",
      "_________________________________________________________________\n",
      "global_average_pooling1d (Gl (None, 16)                0         \n",
      "_________________________________________________________________\n",
      "dense (Dense)                (None, 1)                 17        \n",
      "=================================================================\n",
      "Total params: 160,033\n",
      "Trainable params: 160,033\n",
      "Non-trainable params: 0\n",
      "_________________________________________________________________\n"
     ]
    }
   ],
   "source": [
    "# Build a model using Sequential:\n",
    "#     1. Embedding layer\n",
    "#     2. GlobalAveragePooling1D\n",
    "#     3. Dense\n",
    "\n",
    "model = tf.keras.Sequential()\n",
    "model.add(tf.keras.layers.Embedding(input_dim=max_index_value+1, output_dim=embedding_dim, mask_zero=False))\n",
    "model.add(tf.keras.layers.GlobalAveragePooling1D())\n",
    "model.add(tf.keras.layers.Dense(units=1, activation='sigmoid'))\n",
    "\n",
    "model.summary()"
   ]
  },
  {
   "cell_type": "code",
   "execution_count": 26,
   "metadata": {
    "ExecuteTime": {
     "end_time": "2020-12-13T06:50:56.044163Z",
     "start_time": "2020-12-13T06:50:56.015591Z"
    },
    "id": "Kw9qhtlPJDL9"
   },
   "outputs": [],
   "source": [
    "# Functional API refresher: use the Model to build the same model\n",
    "\n",
    "review_sequence = tf.keras.Input((None, ))\n",
    "embedding_sequene = tf.keras.layers.Embedding(input_dim=max_index_value+1, output_dim=embedding_dim)(review_sequence)\n",
    "average_embedding = tf.keras.layers.GlobalAveragePooling1D()(embedding_sequene)\n",
    "positive_probabilty = tf.keras.layers.Dense(units=1, activation='sigmoid')(average_embedding)\n",
    "model = tf.keras.Model(inputs =review_sequence, outputs = positive_probabilty )"
   ]
  },
  {
   "cell_type": "code",
   "execution_count": 27,
   "metadata": {
    "ExecuteTime": {
     "end_time": "2020-12-13T06:50:56.050242Z",
     "start_time": "2020-12-13T06:50:56.046209Z"
    },
    "id": "rf6oaEvTCKxV"
   },
   "outputs": [
    {
     "name": "stdout",
     "output_type": "stream",
     "text": [
      "Model: \"functional_1\"\n",
      "_________________________________________________________________\n",
      "Layer (type)                 Output Shape              Param #   \n",
      "=================================================================\n",
      "input_1 (InputLayer)         [(None, None)]            0         \n",
      "_________________________________________________________________\n",
      "embedding_5 (Embedding)      (None, None, 16)          160016    \n",
      "_________________________________________________________________\n",
      "global_average_pooling1d_1 ( (None, 16)                0         \n",
      "_________________________________________________________________\n",
      "dense_1 (Dense)              (None, 1)                 17        \n",
      "=================================================================\n",
      "Total params: 160,033\n",
      "Trainable params: 160,033\n",
      "Non-trainable params: 0\n",
      "_________________________________________________________________\n"
     ]
    }
   ],
   "source": [
    "model.summary()"
   ]
  },
  {
   "cell_type": "markdown",
   "metadata": {
    "id": "yrX43gwPJDL-"
   },
   "source": [
    "#### Compile, train, and evaluate the model"
   ]
  },
  {
   "cell_type": "code",
   "execution_count": 28,
   "metadata": {
    "ExecuteTime": {
     "end_time": "2020-12-13T06:50:56.072392Z",
     "start_time": "2020-12-13T06:50:56.052481Z"
    },
    "id": "mVfI_1EoJDL_"
   },
   "outputs": [],
   "source": [
    "# Compile the model with a binary cross-entropy loss\n",
    "\n",
    "model.compile(optimizer='adam',\n",
    "              loss=tf.keras.losses.BinaryCrossentropy(),\n",
    "              metrics=['accuracy'])"
   ]
  },
  {
   "cell_type": "code",
   "execution_count": 29,
   "metadata": {
    "ExecuteTime": {
     "end_time": "2020-12-13T06:51:16.953442Z",
     "start_time": "2020-12-13T06:50:56.074444Z"
    },
    "id": "AvR-O7wGJDMC"
   },
   "outputs": [
    {
     "name": "stdout",
     "output_type": "stream",
     "text": [
      "Epoch 1/5\n",
      "782/782 [==============================] - 4s 5ms/step - loss: 0.6896 - accuracy: 0.5702 - val_loss: 0.6826 - val_accuracy: 0.6500\n",
      "Epoch 2/5\n",
      "782/782 [==============================] - 4s 5ms/step - loss: 0.6659 - accuracy: 0.6997 - val_loss: 0.6434 - val_accuracy: 0.7516\n",
      "Epoch 3/5\n",
      "782/782 [==============================] - 4s 5ms/step - loss: 0.6180 - accuracy: 0.7604 - val_loss: 0.5899 - val_accuracy: 0.7547\n",
      "Epoch 4/5\n",
      "782/782 [==============================] - 4s 5ms/step - loss: 0.5650 - accuracy: 0.7970 - val_loss: 0.5409 - val_accuracy: 0.7891\n",
      "Epoch 5/5\n",
      "782/782 [==============================] - 4s 5ms/step - loss: 0.5151 - accuracy: 0.8242 - val_loss: 0.4987 - val_accuracy: 0.8094\n"
     ]
    }
   ],
   "source": [
    "# Train the model using .fit(), savng its history\n",
    "\n",
    "history = model.fit(x_train, y_train, epochs=5, batch_size=32, validation_data=(x_test, y_test), validation_steps=20)"
   ]
  },
  {
   "cell_type": "code",
   "execution_count": 30,
   "metadata": {
    "ExecuteTime": {
     "end_time": "2020-12-13T06:51:17.404207Z",
     "start_time": "2020-12-13T06:51:16.955696Z"
    },
    "id": "Ind0d_gvJDMG"
   },
   "outputs": [
    {
     "data": {
      "image/png": "[encoded data removed]",
      "text/plain": [
       "<Figure size 1008x360 with 1 Axes>"
      ]
     },
     "metadata": {},
     "output_type": "display_data"
    }
   ],
   "source": [
    "# Plot the training and validation accuracy\n",
    "\n",
    "import matplotlib.pyplot as plt\n",
    "%matplotlib inline\n",
    "plt.style.use('ggplot')\n",
    "\n",
    "history_dict = history.history\n",
    "\n",
    "acc      = history_dict['accuracy']\n",
    "val_acc  = history_dict['val_accuracy']\n",
    "loss     = history_dict['loss']\n",
    "val_loss = history_dict['val_loss']\n",
    "\n",
    "epochs = range(1, len(acc) + 1)\n",
    "\n",
    "plt.figure(figsize=(14,5))\n",
    "plt.plot(epochs, acc, marker='.', label='Training acc')\n",
    "plt.plot(epochs, val_acc, marker='.', label='Validation acc')\n",
    "plt.title('Training and validation accuracy')\n",
    "plt.xlabel('Epoch')\n",
    "plt.ylabel('Classification accuracy')\n",
    "plt.legend(loc='lower right')\n",
    "plt.ylim(0, 1);"
   ]
  },
  {
   "cell_type": "markdown",
   "metadata": {
    "id": "MHcNqGnWJDMH"
   },
   "source": [
    "#### The TensorFlow embedding projector\n",
    "\n",
    "The Tensorflow embedding projector can be found [here](https://projector.tensorflow.org/)."
   ]
  },
  {
   "cell_type": "code",
   "execution_count": 31,
   "metadata": {
    "ExecuteTime": {
     "end_time": "2020-12-13T06:51:17.410553Z",
     "start_time": "2020-12-13T06:51:17.406311Z"
    },
    "id": "ZVP4G9X0JDMH"
   },
   "outputs": [
    {
     "name": "stdout",
     "output_type": "stream",
     "text": [
      "(10001, 16)\n"
     ]
    }
   ],
   "source": [
    "# Retrieve the embedding layer's weights from the trained model\n",
    "\n",
    "weights = model.layers[1].get_weights()[0]\n",
    "print(weights.shape)"
   ]
  },
  {
   "cell_type": "code",
   "execution_count": 32,
   "metadata": {
    "ExecuteTime": {
     "end_time": "2020-12-13T06:51:17.582558Z",
     "start_time": "2020-12-13T06:51:17.412580Z"
    },
    "id": "yHd29nfZJDMJ"
   },
   "outputs": [],
   "source": [
    "# Save the word Embeddings to tsv files\n",
    "# Two files: \n",
    "#     one contains the embedding labels (meta.tsv),\n",
    "#     one contains the embeddings (vecs.tsv)\n",
    "\n",
    "import io\n",
    "from os import path\n",
    "\n",
    "out_v = io.open(path.join('data', 'vecs.tsv'), 'w', encoding='utf-8')\n",
    "out_m = io.open(path.join('data', 'meta.tsv'), 'w', encoding='utf-8')\n",
    "\n",
    "k = 0\n",
    "\n",
    "for word, token in imdb_word_index.items():\n",
    "    if k != 0:\n",
    "        out_m.write('\\n')\n",
    "        out_v.write('\\n')\n",
    "    \n",
    "    out_v.write('\\t'.join([str(x) for x in weights[token]]))\n",
    "    out_m.write(word)\n",
    "    k += 1\n",
    "    \n",
    "out_v.close()\n",
    "out_m.close()\n",
    "# beware large collections of embeddings!"
   ]
  },
  {
   "cell_type": "markdown",
   "metadata": {
    "id": "9Ti4kMquJDML"
   },
   "source": [
    "---\n",
    "<a id=\"coding_tutorial_5\"></a>\n",
    "## Recurrent neural network layers"
   ]
  },
  {
   "cell_type": "markdown",
   "metadata": {
    "id": "9hrm6Q2jJDMM"
   },
   "source": [
    "#### Initialize and pass an input to a SimpleRNN layer"
   ]
  },
  {
   "cell_type": "code",
   "execution_count": 38,
   "metadata": {
    "ExecuteTime": {
     "end_time": "2020-12-13T06:57:40.168091Z",
     "start_time": "2020-12-13T06:57:40.156209Z"
    },
    "id": "tM7uSwkQJDMR"
   },
   "outputs": [],
   "source": [
    "# Create a SimpleRNN layer and test it\n",
    "\n",
    "simplernn_layer = tf.keras.layers.SimpleRNN(units=16)"
   ]
  },
  {
   "cell_type": "code",
   "execution_count": 39,
   "metadata": {
    "ExecuteTime": {
     "end_time": "2020-12-13T06:57:41.545589Z",
     "start_time": "2020-12-13T06:57:41.507223Z"
    },
    "id": "U_YJUyrEJDMT"
   },
   "outputs": [
    {
     "name": "stdout",
     "output_type": "stream",
     "text": [
      "(1, 3, 2)\n",
      "tf.Tensor(\n",
      "[[ 1.          1.          1.          1.          1.         -1.\n",
      "   1.          0.9944205  -1.          1.         -0.9679608  -1.\n",
      "   1.          1.         -0.99999994 -1.        ]], shape=(1, 16), dtype=float32)\n",
      "(1, 16)\n"
     ]
    }
   ],
   "source": [
    "# Note that only the final cell output is returned\n",
    "sequence = tf.constant([[[1., 1.], [2., 2.], [56., -100]]])\n",
    "print(sequence.shape)\n",
    "layer_output = simplernn_layer(sequence)\n",
    "print(layer_output)\n",
    "print(layer_output.shape)"
   ]
  },
  {
   "cell_type": "markdown",
   "metadata": {
    "id": "r_rwdZtmJDMV"
   },
   "source": [
    "#### Load and transform the IMDB review sentiment dataset"
   ]
  },
  {
   "cell_type": "code",
   "execution_count": null,
   "metadata": {
    "id": "qvAtycIpH1aA"
   },
   "outputs": [],
   "source": [
    "# A function to load and preprocess the IMDB dataset\n",
    "\n",
    "def get_and_pad_imdb_dataset(num_words=10000, maxlen=None, index_from=2):\n",
    "    from tensorflow.keras.datasets import imdb\n",
    "\n",
    "    # Load the reviews\n",
    "    (x_train, y_train), (x_test, y_test) = imdb.load_data(path='imdb.npz',\n",
    "                                                          num_words=num_words,\n",
    "                                                          skip_top=0,\n",
    "                                                          maxlen=maxlen,\n",
    "                                                          start_char=1,\n",
    "                                                          oov_char=2,\n",
    "                                                          index_from=index_from)\n",
    "\n",
    "    x_train = tf.keras.preprocessing.sequence.pad_sequences(x_train,\n",
    "                                                        maxlen=None,\n",
    "                                                        padding='pre',\n",
    "                                                        truncating='pre',\n",
    "                                                        value=0)\n",
    "    \n",
    "    x_test = tf.keras.preprocessing.sequence.pad_sequences(x_test,\n",
    "                                                           maxlen=None,\n",
    "                                                           padding='pre',\n",
    "                                                           truncating='pre',\n",
    "                                                           value=0)\n",
    "    return (x_train, y_train), (x_test, y_test)"
   ]
  },
  {
   "cell_type": "code",
   "execution_count": 40,
   "metadata": {
    "ExecuteTime": {
     "end_time": "2020-12-13T08:43:04.457946Z",
     "start_time": "2020-12-13T08:42:59.365403Z"
    },
    "id": "49rJuSFmJDMV"
   },
   "outputs": [
    {
     "name": "stderr",
     "output_type": "stream",
     "text": [
      "<string>:6: VisibleDeprecationWarning: Creating an ndarray from ragged nested sequences (which is a list-or-tuple of lists-or-tuples-or ndarrays with different lengths or shapes) is deprecated. If you meant to do this, you must specify 'dtype=object' when creating the ndarray\n",
      "/usr/local/lib/python3.6/dist-packages/tensorflow/python/keras/datasets/imdb.py:159: VisibleDeprecationWarning: Creating an ndarray from ragged nested sequences (which is a list-or-tuple of lists-or-tuples-or ndarrays with different lengths or shapes) is deprecated. If you meant to do this, you must specify 'dtype=object' when creating the ndarray\n",
      "  x_train, y_train = np.array(xs[:idx]), np.array(labels[:idx])\n",
      "/usr/local/lib/python3.6/dist-packages/tensorflow/python/keras/datasets/imdb.py:160: VisibleDeprecationWarning: Creating an ndarray from ragged nested sequences (which is a list-or-tuple of lists-or-tuples-or ndarrays with different lengths or shapes) is deprecated. If you meant to do this, you must specify 'dtype=object' when creating the ndarray\n",
      "  x_test, y_test = np.array(xs[idx:]), np.array(labels[idx:])\n"
     ]
    },
    {
     "name": "stdout",
     "output_type": "stream",
     "text": [
      "(17121, 249) (17121,)\n",
      "(17588, 249) (17588,)\n"
     ]
    }
   ],
   "source": [
    "# Load the dataset\n",
    "(x_train, y_train), (x_test, y_test) = get_and_pad_imdb_dataset(maxlen=250)\n",
    "\n",
    "print(x_train.shape, y_train.shape)\n",
    "print(x_test.shape, y_test.shape)"
   ]
  },
  {
   "cell_type": "code",
   "execution_count": 85,
   "metadata": {
    "ExecuteTime": {
     "end_time": "2020-12-14T09:05:09.970935Z",
     "start_time": "2020-12-14T09:05:09.965341Z"
    },
    "id": "XwUHcFKwH4wh"
   },
   "outputs": [],
   "source": [
    "# A function to get the dataset word index\n",
    "\n",
    "def get_imdb_word_index(num_words=10000, index_from=2):\n",
    "    imdb_word_index = tf.keras.datasets.imdb.get_word_index(\n",
    "                                        path='imdb_word_index.json')\n",
    "    imdb_word_index = {key: value + index_from for\n",
    "                       key, value in imdb_word_index.items() if value <= num_words-index_from}\n",
    "    return imdb_word_index"
   ]
  },
  {
   "cell_type": "code",
   "execution_count": 86,
   "metadata": {
    "ExecuteTime": {
     "end_time": "2020-12-14T09:05:10.746319Z",
     "start_time": "2020-12-14T09:05:10.685895Z"
    },
    "id": "KfyqmfOXJDMX"
   },
   "outputs": [],
   "source": [
    "# Get the word index using get_imdb_word_index()\n",
    "\n",
    "imdb_word_index = get_imdb_word_index()"
   ]
  },
  {
   "cell_type": "markdown",
   "metadata": {
    "id": "jR7y1e-xJDMd"
   },
   "source": [
    "#### Create a recurrent neural network model"
   ]
  },
  {
   "cell_type": "code",
   "execution_count": 87,
   "metadata": {
    "ExecuteTime": {
     "end_time": "2020-12-14T09:05:14.487196Z",
     "start_time": "2020-12-14T09:05:14.482677Z"
    },
    "id": "Tym76m2dIVOZ"
   },
   "outputs": [],
   "source": [
    "# Get the maximum index value\n",
    "\n",
    "max_index_value = max(imdb_word_index.values())\n",
    "embedding_dim = 16"
   ]
  },
  {
   "cell_type": "code",
   "execution_count": 76,
   "metadata": {
    "ExecuteTime": {
     "end_time": "2020-12-14T08:03:53.461120Z",
     "start_time": "2020-12-14T08:03:52.432784Z"
    },
    "id": "2tO953-oJDMd"
   },
   "outputs": [
    {
     "name": "stdout",
     "output_type": "stream",
     "text": [
      "Model: \"sequential_9\"\n",
      "_________________________________________________________________\n",
      "Layer (type)                 Output Shape              Param #   \n",
      "=================================================================\n",
      "embedding_12 (Embedding)     (None, None, 16)          160016    \n",
      "_________________________________________________________________\n",
      "lstm_8 (LSTM)                (None, 16)                2112      \n",
      "_________________________________________________________________\n",
      "dense_6 (Dense)              (None, 1)                 17        \n",
      "=================================================================\n",
      "Total params: 162,145\n",
      "Trainable params: 162,145\n",
      "Non-trainable params: 0\n",
      "_________________________________________________________________\n",
      "(10001, 16)\n",
      "(16, 64)\n",
      "(16, 64)\n",
      "(64,)\n",
      "(16, 1)\n",
      "(1,)\n"
     ]
    }
   ],
   "source": [
    "# Using Sequential, build the model:\n",
    "# 1. Embedding.\n",
    "# 2. LSTM.\n",
    "# 3. Dense.\n",
    "\n",
    "model = tf.keras.Sequential([\n",
    "    tf.keras.layers.Embedding(input_dim=max_index_value+1, output_dim=embedding_dim, mask_zero=True),\n",
    "    tf.keras.layers.LSTM(units=16),\n",
    "    tf.keras.layers.Dense(units=1, activation='sigmoid')\n",
    "])\n",
    "model.summary()\n",
    "\n",
    "for weights in model.weights:\n",
    "    print(weights.shape)"
   ]
  },
  {
   "cell_type": "markdown",
   "metadata": {
    "id": "v076l5CUJDMf"
   },
   "source": [
    "#### Compile and fit the model"
   ]
  },
  {
   "cell_type": "code",
   "execution_count": 77,
   "metadata": {
    "ExecuteTime": {
     "end_time": "2020-12-14T08:04:00.328696Z",
     "start_time": "2020-12-14T08:04:00.307850Z"
    },
    "id": "iRRXW5mPJDMg"
   },
   "outputs": [],
   "source": [
    "# Compile the model with binary cross-entropy loss\n",
    "\n",
    "model.compile(loss='binary_crossentropy', metrics=['accuracy'], optimizer='adam')"
   ]
  },
  {
   "cell_type": "code",
   "execution_count": 80,
   "metadata": {
    "ExecuteTime": {
     "end_time": "2020-12-14T08:57:30.856634Z",
     "start_time": "2020-12-14T08:40:57.837701Z"
    },
    "id": "216PeHZFJDMi"
   },
   "outputs": [
    {
     "name": "stdout",
     "output_type": "stream",
     "text": [
      "Epoch 1/3\n",
      "536/536 [==============================] - 331s 617ms/step - loss: 0.3366 - accuracy: 0.8626 - val_loss: 0.3187 - val_accuracy: 0.8699\n",
      "Epoch 2/3\n",
      "536/536 [==============================] - 331s 617ms/step - loss: 0.2481 - accuracy: 0.9042 - val_loss: 0.3311 - val_accuracy: 0.8587\n",
      "Epoch 3/3\n",
      "536/536 [==============================] - 330s 616ms/step - loss: 0.2061 - accuracy: 0.9249 - val_loss: 0.3103 - val_accuracy: 0.8752\n"
     ]
    }
   ],
   "source": [
    "# Fit the model and save its training history\n",
    "\n",
    "history = model.fit(x_train, y_train, epochs=3, batch_size=32, validation_data=(x_test, y_test))"
   ]
  },
  {
   "cell_type": "markdown",
   "metadata": {
    "id": "1NVXF1TSJDMj"
   },
   "source": [
    "#### Plot learning curves"
   ]
  },
  {
   "cell_type": "code",
   "execution_count": 81,
   "metadata": {
    "ExecuteTime": {
     "end_time": "2020-12-14T09:04:21.879122Z",
     "start_time": "2020-12-14T09:04:21.871489Z"
    }
   },
   "outputs": [
    {
     "data": {
      "text/plain": [
       "{'loss': [0.3365969657897949, 0.24811486899852753, 0.2060793936252594],\n",
       " 'accuracy': [0.8626248240470886, 0.9041528105735779, 0.9248875379562378],\n",
       " 'val_loss': [0.31867149472236633, 0.33108457922935486, 0.3102601170539856],\n",
       " 'val_accuracy': [0.8698544502258301, 0.8587104678153992, 0.875199019908905]}"
      ]
     },
     "execution_count": 81,
     "metadata": {},
     "output_type": "execute_result"
    }
   ],
   "source": [
    "history.history"
   ]
  },
  {
   "cell_type": "code",
   "execution_count": 82,
   "metadata": {
    "ExecuteTime": {
     "end_time": "2020-12-14T09:04:24.693731Z",
     "start_time": "2020-12-14T09:04:24.411019Z"
    },
    "id": "ms9VW07lJDMk"
   },
   "outputs": [
    {
     "data": {
      "image/png": "[encoded data removed]",
      "text/plain": [
       "<Figure size 1008x360 with 1 Axes>"
      ]
     },
     "metadata": {},
     "output_type": "display_data"
    }
   ],
   "source": [
    "# Plot the training and validation accuracy\n",
    "\n",
    "import matplotlib.pyplot as plt\n",
    "%matplotlib inline\n",
    "plt.style.use('ggplot')\n",
    "\n",
    "history_dict = history.history\n",
    "\n",
    "acc      = history_dict['accuracy']\n",
    "val_acc  = history_dict['val_accuracy']\n",
    "loss     = history_dict['loss']\n",
    "val_loss = history_dict['val_loss']\n",
    "\n",
    "epochs = range(1, len(acc) + 1)\n",
    "\n",
    "plt.figure(figsize=(14,5))\n",
    "plt.plot(epochs, acc, marker='.', label='Training acc')\n",
    "plt.plot(epochs, val_acc, marker='.', label='Validation acc')\n",
    "plt.title('Training and validation accuracy')\n",
    "plt.xlabel('Epoch')\n",
    "plt.ylabel('Classification accuracy')\n",
    "plt.legend(loc='lower right')\n",
    "plt.ylim(0, 1);"
   ]
  },
  {
   "cell_type": "markdown",
   "metadata": {
    "id": "6AAyEd6wJDMm"
   },
   "source": [
    "#### Make predictions with the model"
   ]
  },
  {
   "cell_type": "code",
   "execution_count": 94,
   "metadata": {
    "ExecuteTime": {
     "end_time": "2020-12-14T09:07:11.767531Z",
     "start_time": "2020-12-14T09:07:11.753941Z"
    },
    "id": "sk9CHYLiJDMo"
   },
   "outputs": [
    {
     "data": {
      "text/plain": [
       "\"please give this one a miss br br and the rest of the cast terrible performances the show is flat flat flat br br i don't know how michael could have allowed this one on his he almost seemed to know this wasn't going to work out and his performance was quite so all you fans give this a miss\""
      ]
     },
     "execution_count": 94,
     "metadata": {},
     "output_type": "execute_result"
    }
   ],
   "source": [
    "# View the first test data example sentence\n",
    "# (invert the word index)\n",
    "\n",
    "inv_imdb_word_index = {value:key for key, value in imdb_word_index.items()}\n",
    "' '.join([inv_imdb_word_index[index] for index in x_test[0] if index>=index_from])"
   ]
  },
  {
   "cell_type": "code",
   "execution_count": 98,
   "metadata": {
    "ExecuteTime": {
     "end_time": "2020-12-14T09:07:36.778271Z",
     "start_time": "2020-12-14T09:07:36.642320Z"
    },
    "id": "Blf6in2dJDMs"
   },
   "outputs": [
    {
     "name": "stdout",
     "output_type": "stream",
     "text": [
      "[[0.19003934]]\n"
     ]
    }
   ],
   "source": [
    "# Get the model prediction using model.predict()\n",
    "\n",
    "predictions = model.predict(x_test[None, 0, :])\n",
    "print(predictions)"
   ]
  },
  {
   "cell_type": "code",
   "execution_count": 99,
   "metadata": {
    "ExecuteTime": {
     "end_time": "2020-12-14T09:07:37.688033Z",
     "start_time": "2020-12-14T09:07:37.683832Z"
    },
    "id": "SCyKBsZHJDMt"
   },
   "outputs": [
    {
     "data": {
      "text/plain": [
       "0"
      ]
     },
     "execution_count": 99,
     "metadata": {},
     "output_type": "execute_result"
    }
   ],
   "source": [
    "# Get the corresponding label\n",
    "\n",
    "y_test[0]"
   ]
  },
  {
   "cell_type": "markdown",
   "metadata": {
    "id": "RpaI83PlJDMv"
   },
   "source": [
    "---\n",
    "<a id=\"coding_tutorial_6\"></a>\n",
    "## Stacked RNNs and the Bidirectional wrapper"
   ]
  },
  {
   "cell_type": "markdown",
   "metadata": {
    "id": "6Qr4kOevKRt8"
   },
   "source": [
    "#### Load and transform the IMDb review sentiment dataset"
   ]
  },
  {
   "cell_type": "code",
   "execution_count": 151,
   "metadata": {
    "ExecuteTime": {
     "end_time": "2020-12-14T10:31:46.724447Z",
     "start_time": "2020-12-14T10:31:46.716913Z"
    },
    "id": "i06LdJiXKRt9"
   },
   "outputs": [],
   "source": [
    "# A function to load and preprocess the IMDB dataset\n",
    "\n",
    "def get_and_pad_imdb_dataset(num_words=10000, maxlen=None, index_from=2):\n",
    "    from tensorflow.keras.datasets import imdb\n",
    "\n",
    "    # Load the reviews\n",
    "    (x_train, y_train), (x_test, y_test) = imdb.load_data(path='imdb.npz',\n",
    "                                                          num_words=num_words,\n",
    "                                                          skip_top=0,\n",
    "                                                          maxlen=maxlen,\n",
    "                                                          start_char=1,\n",
    "                                                          oov_char=2,\n",
    "                                                          index_from=index_from)\n",
    "\n",
    "    x_train = tf.keras.preprocessing.sequence.pad_sequences(x_train,\n",
    "                                                        maxlen=None,\n",
    "                                                        padding='pre',\n",
    "                                                        truncating='pre',\n",
    "                                                        value=0)\n",
    "    \n",
    "    x_test = tf.keras.preprocessing.sequence.pad_sequences(x_test,\n",
    "                                                           maxlen=None,\n",
    "                                                           padding='pre',\n",
    "                                                           truncating='pre',\n",
    "                                                           value=0)\n",
    "    return (x_train, y_train), (x_test, y_test)"
   ]
  },
  {
   "cell_type": "code",
   "execution_count": 152,
   "metadata": {
    "ExecuteTime": {
     "end_time": "2020-12-14T10:31:53.664639Z",
     "start_time": "2020-12-14T10:31:47.280856Z"
    },
    "id": "EjA8JlQVKRuB"
   },
   "outputs": [
    {
     "name": "stderr",
     "output_type": "stream",
     "text": [
      "<string>:6: VisibleDeprecationWarning: Creating an ndarray from ragged nested sequences (which is a list-or-tuple of lists-or-tuples-or ndarrays with different lengths or shapes) is deprecated. If you meant to do this, you must specify 'dtype=object' when creating the ndarray\n",
      "/usr/local/lib/python3.6/dist-packages/tensorflow/python/keras/datasets/imdb.py:159: VisibleDeprecationWarning: Creating an ndarray from ragged nested sequences (which is a list-or-tuple of lists-or-tuples-or ndarrays with different lengths or shapes) is deprecated. If you meant to do this, you must specify 'dtype=object' when creating the ndarray\n",
      "  x_train, y_train = np.array(xs[:idx]), np.array(labels[:idx])\n",
      "/usr/local/lib/python3.6/dist-packages/tensorflow/python/keras/datasets/imdb.py:160: VisibleDeprecationWarning: Creating an ndarray from ragged nested sequences (which is a list-or-tuple of lists-or-tuples-or ndarrays with different lengths or shapes) is deprecated. If you meant to do this, you must specify 'dtype=object' when creating the ndarray\n",
      "  x_test, y_test = np.array(xs[idx:]), np.array(labels[idx:])\n"
     ]
    }
   ],
   "source": [
    "# Load the dataset\n",
    "\n",
    "(x_train, y_train), (x_test, y_test) = get_and_pad_imdb_dataset(num_words=5000, maxlen=250)"
   ]
  },
  {
   "cell_type": "code",
   "execution_count": 153,
   "metadata": {
    "ExecuteTime": {
     "end_time": "2020-12-14T10:31:53.672767Z",
     "start_time": "2020-12-14T10:31:53.667376Z"
    },
    "id": "7iBFGx9_KRuD"
   },
   "outputs": [],
   "source": [
    "# A function to get the dataset word index\n",
    "\n",
    "def get_imdb_word_index(num_words=10000, index_from=2):\n",
    "    imdb_word_index = tf.keras.datasets.imdb.get_word_index(\n",
    "                                        path='imdb_word_index.json')\n",
    "    max_index_value = max(imdb_word_index.values())\n",
    "    min_index_value = min(imdb_word_index.values())\n",
    "    print(max_index_value)\n",
    "    print(min_index_value)    \n",
    "    imdb_word_index = {key: value + index_from for\n",
    "                       key, value in imdb_word_index.items() if value <= num_words-index_from}\n",
    "    return imdb_word_index"
   ]
  },
  {
   "cell_type": "code",
   "execution_count": 154,
   "metadata": {
    "ExecuteTime": {
     "end_time": "2020-12-14T10:31:53.744453Z",
     "start_time": "2020-12-14T10:31:53.675452Z"
    },
    "id": "29lcV0UGKRuF"
   },
   "outputs": [
    {
     "name": "stdout",
     "output_type": "stream",
     "text": [
      "88584\n",
      "1\n"
     ]
    }
   ],
   "source": [
    "# Get the word index using get_imdb_word_index()\n",
    "\n",
    "imdb_word_index = get_imdb_word_index(num_words=5000)"
   ]
  },
  {
   "cell_type": "markdown",
   "metadata": {
    "id": "Lh_Vv9-5JDM1"
   },
   "source": [
    "#### Build stacked and bidirectional recurrent models"
   ]
  },
  {
   "cell_type": "code",
   "execution_count": 155,
   "metadata": {
    "ExecuteTime": {
     "end_time": "2020-12-14T10:31:53.752406Z",
     "start_time": "2020-12-14T10:31:53.747271Z"
    },
    "id": "k6Sy-gMyLLEI"
   },
   "outputs": [
    {
     "name": "stdout",
     "output_type": "stream",
     "text": [
      "5000\n",
      "3\n",
      "4998\n"
     ]
    }
   ],
   "source": [
    "# Get the maximum index value and specify an embedding dimension\n",
    "max_index_value = max(imdb_word_index.values())\n",
    "min_index_value = min(imdb_word_index.values())\n",
    "embedding_dim = 16\n",
    "print(max_index_value)\n",
    "print(min_index_value)\n",
    "print(len(imdb_word_index.values()))"
   ]
  },
  {
   "cell_type": "code",
   "execution_count": 156,
   "metadata": {
    "ExecuteTime": {
     "end_time": "2020-12-14T10:31:56.017515Z",
     "start_time": "2020-12-14T10:31:53.754602Z"
    },
    "id": "89yWIAFdJDM1"
   },
   "outputs": [
    {
     "data": {
      "image/png": "[encoded data removed]",
      "text/plain": [
       "<IPython.core.display.Image object>"
      ]
     },
     "metadata": {},
     "output_type": "display_data"
    },
    {
     "name": "stdout",
     "output_type": "stream",
     "text": [
      "Model: \"sequential_37\"\n",
      "_________________________________________________________________\n",
      "Layer (type)                 Output Shape              Param #   \n",
      "=================================================================\n",
      "embedding_38 (Embedding)     (None, 250, 16)           80016     \n",
      "_________________________________________________________________\n",
      "lstm_56 (LSTM)               (None, 250, 32)           6272      \n",
      "_________________________________________________________________\n",
      "lstm_57 (LSTM)               (None, 32)                8320      \n",
      "_________________________________________________________________\n",
      "dense_34 (Dense)             (None, 1)                 33        \n",
      "=================================================================\n",
      "Total params: 94,641\n",
      "Trainable params: 94,641\n",
      "Non-trainable params: 0\n",
      "_________________________________________________________________\n",
      "(5001, 16)\n",
      "(16, 128)\n",
      "(32, 128)\n",
      "(128,)\n",
      "(32, 128)\n",
      "(32, 128)\n",
      "(128,)\n",
      "(32, 1)\n",
      "(1,)\n",
      "(None, 250) (None, 250, 16)\n",
      "(None, 250, 16) (None, 250, 32)\n",
      "(None, 250, 32) (None, 32)\n",
      "(None, 32) (None, 1)\n"
     ]
    }
   ],
   "source": [
    "# Using Sequential, build a stacked LSTM model via return_sequences=True\n",
    "from IPython.display import display\n",
    "model = tf.keras.Sequential([\n",
    "    tf.keras.layers.Embedding(input_dim=max_index_value+1, output_dim=embedding_dim, input_length=250, mask_zero=True),\n",
    "    tf.keras.layers.LSTM(units=32, return_sequences=True),\n",
    "    tf.keras.layers.LSTM(units=32),\n",
    "    tf.keras.layers.Dense(units=1, activation='sigmoid')\n",
    "])\n",
    "display(tf.keras.utils.plot_model(model, 'data/stacked.png', show_shapes=True))\n",
    "model.summary()\n",
    "\n",
    "for weights in model.weights:\n",
    "    print(weights.shape)\n",
    "\n",
    "for layer in model.layers:\n",
    "    print(layer.input.shape, layer.output.shape)\n"
   ]
  },
  {
   "cell_type": "code",
   "execution_count": 157,
   "metadata": {
    "ExecuteTime": {
     "end_time": "2020-12-14T10:31:58.320392Z",
     "start_time": "2020-12-14T10:31:56.020531Z"
    },
    "id": "D-34ZWvRJDM3"
   },
   "outputs": [
    {
     "data": {
      "image/png": "[encoded data removed]",
      "text/plain": [
       "<IPython.core.display.Image object>"
      ]
     },
     "metadata": {},
     "output_type": "display_data"
    },
    {
     "name": "stdout",
     "output_type": "stream",
     "text": [
      "Model: \"sequential_38\"\n",
      "_________________________________________________________________\n",
      "Layer (type)                 Output Shape              Param #   \n",
      "=================================================================\n",
      "embedding_39 (Embedding)     (None, 250, 16)           80016     \n",
      "_________________________________________________________________\n",
      "bidirectional_11 (Bidirectio (None, 24)                2432      \n",
      "_________________________________________________________________\n",
      "dense_35 (Dense)             (None, 1)                 25        \n",
      "=================================================================\n",
      "Total params: 82,473\n",
      "Trainable params: 82,473\n",
      "Non-trainable params: 0\n",
      "_________________________________________________________________\n",
      "(5001, 16)\n",
      "(16, 32)\n",
      "(8, 32)\n",
      "(32,)\n",
      "(16, 48)\n",
      "(16, 48)\n",
      "(2, 48)\n",
      "(24, 1)\n",
      "(1,)\n",
      "(None, 250) (None, 250, 16)\n",
      "(None, 250, 16) (None, 24)\n",
      "(None, 24) (None, 1)\n"
     ]
    }
   ],
   "source": [
    "# Using Sequential, build a bidirectional RNN with merge_mode='sum'\n",
    "\n",
    "from IPython.display import display\n",
    "model = tf.keras.Sequential([\n",
    "    tf.keras.layers.Embedding(input_dim=max_index_value+1, output_dim=embedding_dim, mask_zero=True),\n",
    "    tf.keras.layers.Bidirectional(layer= tf.keras.layers.LSTM(units=8), \n",
    "                                  backward_layer=tf.keras.layers.GRU(units=16, go_backwards=True), merge_mode=\"concat\"),\n",
    "    tf.keras.layers.Dense(units=1, activation='sigmoid')\n",
    "])\n",
    "display(tf.keras.utils.plot_model(model, 'data/stacked.png', show_shapes=True))\n",
    "model.summary()\n",
    "\n",
    "for weights in model.weights:\n",
    "    print(weights.shape)\n",
    "\n",
    "for layer in model.layers:\n",
    "    print(layer.input.shape, layer.output.shape)"
   ]
  },
  {
   "cell_type": "code",
   "execution_count": 162,
   "metadata": {
    "ExecuteTime": {
     "end_time": "2020-12-14T10:34:15.704177Z",
     "start_time": "2020-12-14T10:34:12.350027Z"
    },
    "id": "mSpOIOCmJDM4"
   },
   "outputs": [
    {
     "data": {
      "image/png": "[encoded data removed]",
      "text/plain": [
       "<IPython.core.display.Image object>"
      ]
     },
     "metadata": {},
     "output_type": "display_data"
    },
    {
     "name": "stdout",
     "output_type": "stream",
     "text": [
      "Model: \"sequential_40\"\n",
      "_________________________________________________________________\n",
      "Layer (type)                 Output Shape              Param #   \n",
      "=================================================================\n",
      "embedding_41 (Embedding)     (None, None, 16)          80016     \n",
      "_________________________________________________________________\n",
      "bidirectional_13 (Bidirectio (None, None, 16)          1600      \n",
      "_________________________________________________________________\n",
      "gru_5 (GRU)                  (None, 8)                 624       \n",
      "_________________________________________________________________\n",
      "dense_37 (Dense)             (None, 1)                 9         \n",
      "=================================================================\n",
      "Total params: 82,249\n",
      "Trainable params: 82,249\n",
      "Non-trainable params: 0\n",
      "_________________________________________________________________\n",
      "(5001, 16)\n",
      "(16, 32)\n",
      "(8, 32)\n",
      "(32,)\n",
      "(16, 32)\n",
      "(8, 32)\n",
      "(32,)\n",
      "(16, 24)\n",
      "(8, 24)\n",
      "(2, 24)\n",
      "(8, 1)\n",
      "(1,)\n",
      "(None, None) (None, None, 16)\n",
      "(None, None, 16) (None, None, 16)\n",
      "(None, None, 16) (None, 8)\n",
      "(None, 8) (None, 1)\n"
     ]
    }
   ],
   "source": [
    "# Create a model featuring both stacked recurrent layers and a bidirectional layer\n",
    "\n",
    "from IPython.display import display\n",
    "model = tf.keras.Sequential([\n",
    "    tf.keras.layers.Embedding(input_dim=max_index_value+1, output_dim=embedding_dim, mask_zero=True),\n",
    "    tf.keras.layers.Bidirectional(tf.keras.layers.LSTM(units=8, return_sequences=True), merge_mode='concat'),\n",
    "    tf.keras.layers.GRU(units=8),\n",
    "    tf.keras.layers.Dense(units=1, activation='sigmoid')\n",
    "])\n",
    "display(tf.keras.utils.plot_model(model, 'data/stacked.png', show_shapes=True))\n",
    "model.summary()\n",
    "\n",
    "for weights in model.weights:\n",
    "    print(weights.shape)\n",
    "\n",
    "for layer in model.layers:\n",
    "    print(layer.input.shape, layer.output.shape)"
   ]
  },
  {
   "cell_type": "markdown",
   "metadata": {
    "id": "H3srEhqCJDM7"
   },
   "source": [
    "#### Compile and fit the model"
   ]
  },
  {
   "cell_type": "code",
   "execution_count": 163,
   "metadata": {
    "ExecuteTime": {
     "end_time": "2020-12-14T10:34:22.273718Z",
     "start_time": "2020-12-14T10:34:22.268900Z"
    }
   },
   "outputs": [
    {
     "name": "stdout",
     "output_type": "stream",
     "text": [
      "5000\n"
     ]
    }
   ],
   "source": [
    "print(max_index_value)"
   ]
  },
  {
   "cell_type": "code",
   "execution_count": 164,
   "metadata": {
    "ExecuteTime": {
     "end_time": "2020-12-14T10:34:23.645615Z",
     "start_time": "2020-12-14T10:34:23.629103Z"
    },
    "id": "k5Dy_C6-JDM7"
   },
   "outputs": [],
   "source": [
    "# Compile the model\n",
    "\n",
    "model.compile(loss='binary_crossentropy', metrics=['accuracy'], optimizer='adam')"
   ]
  },
  {
   "cell_type": "code",
   "execution_count": 166,
   "metadata": {
    "ExecuteTime": {
     "end_time": "2020-12-14T11:14:56.202002Z",
     "start_time": "2020-12-14T10:35:15.266025Z"
    },
    "id": "Er8atiBoJDM9"
   },
   "outputs": [
    {
     "name": "stdout",
     "output_type": "stream",
     "text": [
      "Epoch 1/3\n",
      "536/536 [==============================] - 796s 1s/step - loss: 0.4079 - accuracy: 0.8042 - val_loss: 0.3151 - val_accuracy: 0.8718\n",
      "Epoch 2/3\n",
      "536/536 [==============================] - 791s 1s/step - loss: 0.2445 - accuracy: 0.9063 - val_loss: 0.3039 - val_accuracy: 0.8775\n",
      "Epoch 3/3\n",
      "536/536 [==============================] - 790s 1s/step - loss: 0.1840 - accuracy: 0.9344 - val_loss: 0.3195 - val_accuracy: 0.8742\n"
     ]
    }
   ],
   "source": [
    "# Train the model, saving its history\n",
    "history = model.fit(x_train, y_train, epochs=3, batch_size=32, validation_data=(x_test, y_test))\n"
   ]
  },
  {
   "cell_type": "code",
   "execution_count": 169,
   "metadata": {
    "ExecuteTime": {
     "end_time": "2020-12-14T12:38:56.707008Z",
     "start_time": "2020-12-14T12:03:49.813180Z"
    }
   },
   "outputs": [
    {
     "name": "stdout",
     "output_type": "stream",
     "text": [
      "Epoch 1/3\n",
      "536/536 [==============================] - 700s 1s/step - loss: 0.1484 - accuracy: 0.9486\n",
      "Epoch 2/3\n",
      "536/536 [==============================] - 701s 1s/step - loss: 0.1133 - accuracy: 0.9630\n",
      "Epoch 3/3\n",
      "536/536 [==============================] - 701s 1s/step - loss: 0.0939 - accuracy: 0.9694\n"
     ]
    }
   ],
   "source": [
    "history = model.fit(x_train, y_train, epochs=3, batch_size=32)"
   ]
  },
  {
   "cell_type": "code",
   "execution_count": 168,
   "metadata": {
    "ExecuteTime": {
     "end_time": "2020-12-14T12:03:33.338067Z",
     "start_time": "2020-12-14T12:03:33.055458Z"
    },
    "id": "uLOLtBKwJDNA"
   },
   "outputs": [
    {
     "data": {
      "image/png": "[encoded data removed]",
      "text/plain": [
       "<Figure size 1008x360 with 1 Axes>"
      ]
     },
     "metadata": {},
     "output_type": "display_data"
    }
   ],
   "source": [
    "# Plot the training and validation accuracy\n",
    "\n",
    "import matplotlib.pyplot as plt\n",
    "%matplotlib inline\n",
    "plt.style.use('ggplot')\n",
    "\n",
    "history_dict = history.history\n",
    "\n",
    "acc      = history_dict['accuracy']\n",
    "val_acc  = history_dict['val_accuracy']\n",
    "loss     = history_dict['loss']\n",
    "val_loss = history_dict['val_loss']\n",
    "\n",
    "epochs = range(1, len(acc) + 1)\n",
    "\n",
    "plt.figure(figsize=(14,5))\n",
    "plt.plot(epochs, acc, marker='.', label='Training acc')\n",
    "plt.plot(epochs, val_acc, marker='.', label='Validation acc')\n",
    "plt.title('Training and validation accuracy')\n",
    "plt.xlabel('Epoch')\n",
    "plt.ylabel('Classification accuracy')\n",
    "plt.legend(loc='lower right')\n",
    "plt.ylim(0, 1);"
   ]
  },
  {
   "cell_type": "code",
   "execution_count": 179,
   "metadata": {
    "ExecuteTime": {
     "end_time": "2020-12-15T00:47:49.061370Z",
     "start_time": "2020-12-15T00:47:49.054160Z"
    }
   },
   "outputs": [
    {
     "data": {
      "text/plain": [
       "60"
      ]
     },
     "execution_count": 179,
     "metadata": {},
     "output_type": "execute_result"
    }
   ],
   "source": [
    "\n"
   ]
  },
  {
   "cell_type": "code",
   "execution_count": 250,
   "metadata": {
    "ExecuteTime": {
     "end_time": "2020-12-15T03:31:12.995219Z",
     "start_time": "2020-12-15T03:31:10.893257Z"
    },
    "scrolled": false
   },
   "outputs": [
    {
     "name": "stdout",
     "output_type": "stream",
     "text": [
      "==================================================\n",
      "Embedding(input_dim=1001, output_dim=16)\n",
      "     output.shape = (None, None, 16)\n",
      "     weight_number = 16016\n",
      "==================================================\n",
      "Embedding(input_dim=1001, output_dim=16, input_length=100)\n",
      "     output.shape = (None, 100, 16)\n",
      "     weight_number = 16016\n",
      "==================================================\n",
      "SimpleRNN(units=32)\n",
      "     output.shape = (None, 32)\n",
      "     weight_number = 1568\n",
      "==================================================\n",
      "SimpleRNN(units=32, return_sequences=True)\n",
      "     output.shape = (None, None, 32)\n",
      "     weight_number = 1568\n",
      "==================================================\n",
      "SimpleRNN(units=32, return_sequences=True) with sequence_length=100\n",
      "     output.shape = (None, 100, 32)\n",
      "     weight_number = 1568\n",
      "==================================================\n",
      "Bidirectional(layer= SimpleRNN(units=32), merge_mode=\"concat\")\n",
      "     output.shape = (None, 64)\n",
      "     weight_number = 3136\n",
      "==================================================\n",
      "LSTM(units=32)\n",
      "     output.shape = (None, 32)\n",
      "     weight_number = 6272\n",
      "==================================================\n",
      "GRU(units=32)\n",
      "     output.shape = (None, 32)\n",
      "     weight_number = 4800\n",
      "==================================================\n",
      "GRU(units=32, reset_after=False)\n",
      "WARNING:tensorflow:Layer gru_122 will not use cuDNN kernel since it doesn't meet the cuDNN kernel criteria. It will use generic GPU kernel as fallback when running on GPU\n",
      "     output.shape = (None, 32)\n",
      "     weight_number = 4704\n",
      "==================================================\n",
      "LSTM(units=32, stateful=True, batch_input_shape=(4, 100, 16))\n",
      "     output.shape = (4, 32)\n",
      "     weight_number = 6272\n",
      "==================================================\n",
      "LSTM(units=32, return_sequences=True, stateful=True, batch_input_shape=(4, None, 16))\n",
      "     output.shape = (4, None, 32)\n",
      "     weight_number = 6272\n",
      "==================================================\n",
      "LSTM(units=32, return_sequences=True, stateful=True, batch_input_shape=(4, 100, 16)),\n",
      "     output.shape = (4, 100, 32)\n",
      "     weight_number = 6272\n"
     ]
    }
   ],
   "source": [
    "import numpy as np\n",
    "import tensorflow as tf\n",
    "from  tensorflow.keras.layers import Embedding, SimpleRNN, LSTM, GRU, Bidirectional\n",
    "\n",
    "\n",
    "def get_weights_count(layer):\n",
    "    return np.sum([np.prod(weight.shape) for weight in layer.weights])\n",
    "\n",
    "def show_info(output_shape, weight_number):\n",
    "    print('     output.shape =', output_shape)\n",
    "    print('     weight_number =', weight_number)\n",
    "    \n",
    "        \n",
    "\n",
    "print('='*50 +'\\n' + 'Embedding(input_dim=1001, output_dim=16)')\n",
    "model = tf.keras.Sequential([\n",
    "   Embedding(input_dim=1001, output_dim=16)\n",
    "])\n",
    "show_info(model.layers[0].output.shape, get_weights_count(model.layers[0]))\n",
    "\n",
    "print('='*50+'\\n' + 'Embedding(input_dim=1001, output_dim=16, input_length=100)')\n",
    "model = tf.keras.Sequential([\n",
    "    Embedding(input_dim=1001, output_dim=16, input_length=100)\n",
    "])\n",
    "show_info(model.layers[0].output.shape, get_weights_count(model.layers[0]))\n",
    "\n",
    "print('='*50+'\\n' + 'SimpleRNN(units=32)')\n",
    "model = tf.keras.Sequential([\n",
    "    Embedding(input_dim=1001, output_dim=16),\n",
    "    SimpleRNN(units=32),\n",
    "])\n",
    "show_info(model.layers[1].output.shape, get_weights_count(model.layers[1]))\n",
    "\n",
    "print('='*50+'\\n' + 'SimpleRNN(units=32, return_sequences=True)')\n",
    "model = tf.keras.Sequential([\n",
    "    Embedding(input_dim=1001,  output_dim=16),\n",
    "    SimpleRNN(units=32, return_sequences=True),\n",
    "])\n",
    "show_info(model.layers[1].output.shape, get_weights_count(model.layers[1]))\n",
    "\n",
    "\n",
    "print('='*50+'\\n' + 'SimpleRNN(units=32, return_sequences=True) with sequence_length=100')\n",
    "model = tf.keras.Sequential([\n",
    "    Embedding(input_dim=1001, output_dim=16, input_length=100),\n",
    "    SimpleRNN(units=32, return_sequences=True),\n",
    "])\n",
    "show_info(model.layers[1].output.shape, get_weights_count(model.layers[1]))\n",
    "\n",
    "\n",
    "print('='*50+'\\n' + 'Bidirectional(layer= SimpleRNN(units=32), merge_mode=\"concat\")')\n",
    "model = tf.keras.Sequential([\n",
    "    Embedding(input_dim=1001, output_dim=16),\n",
    "    Bidirectional(layer= SimpleRNN(units=32), merge_mode=\"concat\")\n",
    "])\n",
    "show_info(model.layers[1].output.shape, get_weights_count(model.layers[1]))\n",
    "\n",
    "\n",
    "print('='*50+'\\n' + 'LSTM(units=32)')\n",
    "model = tf.keras.Sequential([\n",
    "    Embedding(input_dim=1001, output_dim=16),\n",
    "    LSTM(units=32),\n",
    "])\n",
    "show_info(model.layers[1].output.shape, get_weights_count(model.layers[1]))\n",
    "\n",
    "\n",
    "print('='*50+'\\n' + 'GRU(units=32)')\n",
    "model = tf.keras.Sequential([\n",
    "    Embedding(input_dim=1001, output_dim=16),\n",
    "    GRU(units=32),\n",
    "])\n",
    "show_info(model.layers[1].output.shape, get_weights_count(model.layers[1]))\n",
    "\n",
    "print('='*50+'\\n' + 'GRU(units=32, reset_after=False)')\n",
    "model = tf.keras.Sequential([\n",
    "    Embedding(input_dim=1001, output_dim=16),\n",
    "    GRU(units=32, reset_after=False),\n",
    "])\n",
    "show_info(model.layers[1].output.shape, get_weights_count(model.layers[1]))\n",
    "\n",
    "\n",
    "print('='*50+'\\n' + 'LSTM(units=32, stateful=True, batch_input_shape=(4, 100, 16))')\n",
    "model = tf.keras.Sequential([\n",
    "    LSTM(units=32, stateful=True, batch_input_shape=(4, None, 16)),\n",
    "])\n",
    "show_info(model.layers[0].output.shape, get_weights_count(model.layers[0]))\n",
    "\n",
    "print('='*50+'\\n' + 'LSTM(units=32, return_sequences=True, stateful=True, batch_input_shape=(4, None, 16))')\n",
    "model = tf.keras.Sequential([\n",
    "    LSTM(units=32, return_sequences=True, stateful=True, batch_input_shape=(4, None, 16)),\n",
    "])\n",
    "show_info(model.layers[0].output.shape, get_weights_count(model.layers[0]))\n",
    "\n",
    "print('='*50+'\\n' + 'LSTM(units=32, return_sequences=True, stateful=True, batch_input_shape=(4, 100, 16)),')\n",
    "model = tf.keras.Sequential([\n",
    "    LSTM(units=32, return_sequences=True, stateful=True, batch_input_shape=(4, 100, 16)),\n",
    "])\n",
    "show_info(model.layers[0].output.shape, get_weights_count(model.layers[0]))"
   ]
  }
 ],
 "metadata": {
  "colab": {
   "collapsed_sections": [
    "9b3PNw3gJDI7",
    "hcPUtmz-JDKZ",
    "Zo5rD5ZcJDK_",
    "NrE0rpCVJDL1",
    "yrX43gwPJDL-",
    "MHcNqGnWJDMH",
    "9Ti4kMquJDML",
    "jR7y1e-xJDMd",
    "H3srEhqCJDM7"
   ],
   "name": "Coding Tutorial.ipynb",
   "provenance": []
  },
  "kernelspec": {
   "display_name": "Python 3",
   "language": "python",
   "name": "python3"
  },
  "language_info": {
   "codemirror_mode": {
    "name": "ipython",
    "version": 3
   },
   "file_extension": ".py",
   "mimetype": "text/x-python",
   "name": "python",
   "nbconvert_exporter": "python",
   "pygments_lexer": "ipython3",
   "version": "3.6.9"
  },
  "toc": {
   "base_numbering": 1,
   "nav_menu": {},
   "number_sections": true,
   "sideBar": true,
   "skip_h1_title": false,
   "title_cell": "Table of Contents",
   "title_sidebar": "Contents",
   "toc_cell": false,
   "toc_position": {
    "height": "calc(100% - 180px)",
    "left": "10px",
    "top": "150px",
    "width": "349.062px"
   },
   "toc_section_display": true,
   "toc_window_display": true
  }
 },
 "nbformat": 4,
 "nbformat_minor": 1
}
