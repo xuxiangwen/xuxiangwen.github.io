{
 "cells": [
  {
   "cell_type": "markdown",
   "metadata": {
    "id": "mtJU6MHXgDBO"
   },
   "source": [
    "# Tracking metrics in custom training loops\n",
    "In this reading you will learn how to track metrics such as accuracy within custom training loops. "
   ]
  },
  {
   "cell_type": "code",
   "execution_count": 17,
   "metadata": {
    "ExecuteTime": {
     "end_time": "2020-12-19T07:07:39.670482Z",
     "start_time": "2020-12-19T07:07:39.663768Z"
    },
    "id": "FsAiubi3gDBU"
   },
   "outputs": [
    {
     "name": "stdout",
     "output_type": "stream",
     "text": [
      "2.3.1\n"
     ]
    }
   ],
   "source": [
    "import tensorflow as tf\n",
    "print(tf.__version__)\n",
    "\n",
    "gpus = tf.config.experimental.list_physical_devices(device_type='GPU')\n",
    "tf.config.experimental.set_virtual_device_configuration(\n",
    "    gpus[0],\n",
    "    [tf.config.experimental.VirtualDeviceConfiguration(memory_limit=1024)]\n",
    ")"
   ]
  },
  {
   "cell_type": "markdown",
   "metadata": {
    "id": "Y9UOhIdRgDBX"
   },
   "source": [
    "Tracking performance metrics is useful to check the performance of your model during and after training. Previously, we have passed in a list of metrics to the `model.fit` or `model.evaluate` methods when using the higher level APIs. However, we would still like to be able to evaluate our model on performance metrics in a custom training loop."
   ]
  },
  {
   "cell_type": "markdown",
   "metadata": {
    "id": "i47lyWG3gDBX"
   },
   "source": [
    "## Load the dataset\n",
    "For this reading notebook we will use the Reuters dataset. The cells below load and process the dataset, and prepare it as `tf.data.Dataset` objects."
   ]
  },
  {
   "cell_type": "code",
   "execution_count": 60,
   "metadata": {
    "ExecuteTime": {
     "end_time": "2020-12-19T09:09:17.697984Z",
     "start_time": "2020-12-19T09:09:16.946876Z"
    },
    "id": "cMXtXPJ3gDBX"
   },
   "outputs": [
    {
     "name": "stdout",
     "output_type": "stream",
     "text": [
      "(8982,) (8982,)\n",
      "(2246,) (2246,)\n"
     ]
    },
    {
     "name": "stderr",
     "output_type": "stream",
     "text": [
      "/usr/local/lib/python3.6/dist-packages/tensorflow/python/keras/datasets/reuters.py:148: VisibleDeprecationWarning: Creating an ndarray from ragged nested sequences (which is a list-or-tuple of lists-or-tuples-or ndarrays with different lengths or shapes) is deprecated. If you meant to do this, you must specify 'dtype=object' when creating the ndarray\n",
      "  x_train, y_train = np.array(xs[:idx]), np.array(labels[:idx])\n",
      "/usr/local/lib/python3.6/dist-packages/tensorflow/python/keras/datasets/reuters.py:149: VisibleDeprecationWarning: Creating an ndarray from ragged nested sequences (which is a list-or-tuple of lists-or-tuples-or ndarrays with different lengths or shapes) is deprecated. If you meant to do this, you must specify 'dtype=object' when creating the ndarray\n",
      "  x_test, y_test = np.array(xs[idx:]), np.array(labels[idx:])\n"
     ]
    }
   ],
   "source": [
    "# Load the dataset\n",
    "\n",
    "from tensorflow.keras.datasets import reuters\n",
    "\n",
    "(train_data, train_labels), (test_data, test_labels) = reuters.load_data(num_words=10000, skip_top=50)\n",
    "\n",
    "print(train_data.shape, train_labels.shape)\n",
    "print(test_data.shape, test_labels.shape)"
   ]
  },
  {
   "cell_type": "code",
   "execution_count": 61,
   "metadata": {
    "ExecuteTime": {
     "end_time": "2020-12-19T09:09:21.114872Z",
     "start_time": "2020-12-19T09:09:21.109793Z"
    },
    "id": "hJRSbuRrgDBY"
   },
   "outputs": [],
   "source": [
    "# Define the class names\n",
    "\n",
    "class_names = ['cocoa','grain','veg-oil','earn','acq','wheat','copper','housing','money-supply',\n",
    "   'coffee','sugar','trade','reserves','ship','cotton','carcass','crude','nat-gas',\n",
    "   'cpi','money-fx','interest','gnp','meal-feed','alum','oilseed','gold','tin',\n",
    "   'strategic-metal','livestock','retail','ipi','iron-steel','rubber','heat','jobs',\n",
    "   'lei','bop','zinc','orange','pet-chem','dlr','gas','silver','wpi','hog','lead']"
   ]
  },
  {
   "cell_type": "code",
   "execution_count": 62,
   "metadata": {
    "ExecuteTime": {
     "end_time": "2020-12-19T09:09:24.168516Z",
     "start_time": "2020-12-19T09:09:23.958653Z"
    },
    "id": "nufqVx4ygDBY"
   },
   "outputs": [],
   "source": [
    "# Pad and truncate the train and test inputs\n",
    "\n",
    "from tensorflow.keras.preprocessing.sequence import pad_sequences\n",
    "\n",
    "padded_train_data = pad_sequences(train_data, maxlen=100, truncating='post')\n",
    "padded_test_data = pad_sequences(test_data, maxlen=100, truncating='post')"
   ]
  },
  {
   "cell_type": "code",
   "execution_count": 63,
   "metadata": {
    "ExecuteTime": {
     "end_time": "2020-12-19T09:09:33.794701Z",
     "start_time": "2020-12-19T09:09:33.786485Z"
    },
    "id": "KJZxu-2pgDBY"
   },
   "outputs": [],
   "source": [
    "# Split the training data into training and validation sets\n",
    "\n",
    "from sklearn.model_selection import train_test_split\n",
    "\n",
    "# train_data, val_data, train_labels, val_labels = train_test_split(padded_train_data, train_labels, \n",
    "#                                                                   test_size=0.3)\n",
    "train_data, val_data, train_labels, val_labels = train_test_split(padded_train_data, train_labels, \n",
    "                                                                  test_size=0.1)"
   ]
  },
  {
   "cell_type": "code",
   "execution_count": 64,
   "metadata": {
    "ExecuteTime": {
     "end_time": "2020-12-19T09:09:35.571758Z",
     "start_time": "2020-12-19T09:09:35.558125Z"
    },
    "id": "8BP3Q6PggDBY"
   },
   "outputs": [],
   "source": [
    "# Create Datasets for training, validation and test data\n",
    "\n",
    "train_dataset = tf.data.Dataset.from_tensor_slices((train_data, train_labels))\n",
    "train_dataset = train_dataset.batch(32)\n",
    "\n",
    "val_dataset = tf.data.Dataset.from_tensor_slices((val_data, val_labels))\n",
    "val_dataset = val_dataset.shuffle(500)\n",
    "val_dataset = val_dataset.batch(32)\n",
    "\n",
    "test_dataset = tf.data.Dataset.from_tensor_slices((padded_test_data, test_labels))\n",
    "test_dataset = test_dataset.batch(32)"
   ]
  },
  {
   "cell_type": "markdown",
   "metadata": {
    "id": "2UkeLQmugDBZ"
   },
   "source": [
    "## Define the model, optimizer and loss function"
   ]
  },
  {
   "cell_type": "markdown",
   "metadata": {
    "id": "pM3eIQU8gDBZ"
   },
   "source": [
    "Before getting to the custom training loop, we first define the model. We will use the model subclassing API to build a recurrent neural network for this example."
   ]
  },
  {
   "cell_type": "code",
   "execution_count": 56,
   "metadata": {
    "ExecuteTime": {
     "end_time": "2020-12-19T09:05:52.659999Z",
     "start_time": "2020-12-19T09:05:52.652084Z"
    },
    "id": "QbZRU57hgDBZ"
   },
   "outputs": [],
   "source": [
    "# Build the model\n",
    "\n",
    "from tensorflow.keras.layers import Embedding, GRU, Bidirectional, Dense\n",
    "from tensorflow.keras.models import Model\n",
    "\n",
    "class RNNModel(Model):\n",
    "\n",
    "    def __init__(self, units_1, units_2, num_classes, **kwargs):\n",
    "        super(RNNModel, self).__init__(**kwargs)\n",
    "        self.embedding = Embedding(input_dim=10000, output_dim=16, input_length=100)\n",
    "        self.gru_1 = Bidirectional(GRU(units_1, return_sequences=True), merge_mode='sum')\n",
    "        self.gru_2 = GRU(units_2)\n",
    "        self.dense = Dense(num_classes, activation='softmax')\n",
    "\n",
    "    def call(self, inputs):\n",
    "        h = self.embedding(inputs)\n",
    "        h = self.gru_1(h)\n",
    "        h = self.gru_2(h)\n",
    "        return self.dense(h)"
   ]
  },
  {
   "cell_type": "code",
   "execution_count": 57,
   "metadata": {
    "ExecuteTime": {
     "end_time": "2020-12-19T09:05:53.816249Z",
     "start_time": "2020-12-19T09:05:53.767427Z"
    },
    "id": "wwnoqEOIgDBZ"
   },
   "outputs": [],
   "source": [
    "# Instantiate the model\n",
    "\n",
    "model = RNNModel(units_1=32, units_2=16, num_classes=46, name='rnn_model')\n"
   ]
  },
  {
   "cell_type": "markdown",
   "metadata": {
    "id": "zo1ISQLTgDBa"
   },
   "source": [
    "We will use the `SGD` optimizer with Nesterov momentum, and a learning rate of 0.005:"
   ]
  },
  {
   "cell_type": "code",
   "execution_count": 51,
   "metadata": {
    "ExecuteTime": {
     "end_time": "2020-12-19T09:04:14.820531Z",
     "start_time": "2020-12-19T09:04:14.815707Z"
    },
    "id": "TOTktJJ-gDBa"
   },
   "outputs": [],
   "source": [
    "# Define the optimizer\n",
    "\n",
    "# optimizer = tf.keras.optimizers.SGD(learning_rate=0.005, momentum=0.9, nesterov=True)\n",
    "optimizer = tf.keras.optimizers.Adam(learning_rate=0.001)"
   ]
  },
  {
   "cell_type": "markdown",
   "metadata": {
    "id": "7m7LhrZRgDBa"
   },
   "source": [
    "The loss function for our model should be the sparse categorical cross entropy, since the labels are in sparse form:"
   ]
  },
  {
   "cell_type": "code",
   "execution_count": 52,
   "metadata": {
    "ExecuteTime": {
     "end_time": "2020-12-19T09:04:16.092756Z",
     "start_time": "2020-12-19T09:04:16.089869Z"
    },
    "id": "glsEQj7GgDBa"
   },
   "outputs": [],
   "source": [
    "# Define the loss\n",
    "\n",
    "loss = tf.keras.losses.SparseCategoricalCrossentropy()"
   ]
  },
  {
   "cell_type": "markdown",
   "metadata": {
    "id": "Mklyx1UggDBa"
   },
   "source": [
    "## Build the custom training loop"
   ]
  },
  {
   "cell_type": "markdown",
   "metadata": {
    "id": "8VyXKILMgDBb"
   },
   "source": [
    "The following function computes the model predictions, loss and gradients, for use in the custom training loop."
   ]
  },
  {
   "cell_type": "code",
   "execution_count": 53,
   "metadata": {
    "ExecuteTime": {
     "end_time": "2020-12-19T09:04:17.781459Z",
     "start_time": "2020-12-19T09:04:17.776958Z"
    },
    "id": "KRvdzIoygDBb"
   },
   "outputs": [],
   "source": [
    "# Define a function to compute the loss and gradients\n",
    "\n",
    "def grad(model, inputs, targets, loss):\n",
    "    with tf.GradientTape() as tape:\n",
    "        preds = model(inputs)\n",
    "        loss_value = loss(targets, preds)\n",
    "    return preds, loss_value, tape.gradient(loss_value, model.trainable_variables)"
   ]
  },
  {
   "cell_type": "markdown",
   "metadata": {
    "id": "3iGbdHtNgDBb"
   },
   "source": [
    "Metric objects can be created and used to track performance measures in the custom training loop. We will set up our custom training loop to track the average loss, and area under the [ROC curve](https://en.wikipedia.org/wiki/Receiver_operating_characteristic) (ROC AUC). Of course there are many more metrics that you could use. "
   ]
  },
  {
   "cell_type": "code",
   "execution_count": 54,
   "metadata": {
    "ExecuteTime": {
     "end_time": "2020-12-19T09:04:18.896136Z",
     "start_time": "2020-12-19T09:04:18.892208Z"
    },
    "id": "tmj-tdb9gDBb"
   },
   "outputs": [],
   "source": [
    "# Create lists to accumulate the metric values\n",
    "\n",
    "train_loss_results = []\n",
    "train_roc_auc_results = []\n",
    "train_accuracy_results = []\n",
    "\n",
    "val_loss_results = []\n",
    "val_roc_auc_results = []\n",
    "val_accuracy_results = []"
   ]
  },
  {
   "cell_type": "markdown",
   "metadata": {
    "id": "DEe217stgDBb"
   },
   "source": [
    "In the following custom training loop, we define an outer loop for the epochs, and an inner loop for the batches in the training dataset. At the end of each epoch we run a validation loop for a number of iterations.\n",
    "\n",
    "Inside the inner loop we use the metric objects to calculate the metric evaluation values. These values are then appended to the empty lists. The metric objects are re-initialised at the start of each epoch.\n",
    "\n",
    "The following training loop may take a while to run. Feel free to reduce the number of epochs if you want."
   ]
  },
  {
   "cell_type": "code",
   "execution_count": 65,
   "metadata": {
    "ExecuteTime": {
     "end_time": "2020-12-19T09:09:51.212292Z",
     "start_time": "2020-12-19T09:09:51.147362Z"
    }
   },
   "outputs": [],
   "source": [
    "model = RNNModel(units_1=32, units_2=16, num_classes=46, name='rnn_model')"
   ]
  },
  {
   "cell_type": "code",
   "execution_count": 66,
   "metadata": {
    "ExecuteTime": {
     "end_time": "2020-12-19T09:12:02.008899Z",
     "start_time": "2020-12-19T09:09:52.041500Z"
    },
    "id": "DHtO1g5fgDBc",
    "scrolled": false
   },
   "outputs": [
    {
     "name": "stdout",
     "output_type": "stream",
     "text": [
      "Epoch 000: Training loss: 2.355, ROC AUC: 89.434%, Accuracy=38.043%\n",
      "           Validation loss: 2.197, ROC AUC 89.342%, Accuracy=46.875%\n",
      "Epoch 001: Training loss: 1.884, ROC AUC: 92.413%, Accuracy=52.010%\n",
      "           Validation loss: 1.904, ROC AUC 91.635%, Accuracy=51.562%\n",
      "Epoch 002: Training loss: 1.736, ROC AUC: 93.114%, Accuracy=54.497%\n",
      "           Validation loss: 1.754, ROC AUC 92.593%, Accuracy=56.875%\n",
      "Epoch 003: Training loss: 1.648, ROC AUC: 93.769%, Accuracy=58.840%\n",
      "           Validation loss: 1.759, ROC AUC 92.520%, Accuracy=57.187%\n",
      "Epoch 004: Training loss: 1.578, ROC AUC: 94.230%, Accuracy=60.015%\n",
      "           Validation loss: 1.720, ROC AUC 92.971%, Accuracy=56.563%\n",
      "Epoch 005: Training loss: 1.524, ROC AUC: 94.599%, Accuracy=61.277%\n",
      "           Validation loss: 1.727, ROC AUC 93.854%, Accuracy=55.313%\n",
      "Epoch 006: Training loss: 1.472, ROC AUC: 95.048%, Accuracy=63.071%\n",
      "           Validation loss: 1.718, ROC AUC 93.358%, Accuracy=56.875%\n",
      "Epoch 007: Training loss: 1.424, ROC AUC: 95.313%, Accuracy=63.875%\n",
      "           Validation loss: 1.597, ROC AUC 94.063%, Accuracy=59.062%\n",
      "Epoch 008: Training loss: 1.383, ROC AUC: 95.689%, Accuracy=64.493%\n",
      "           Validation loss: 1.608, ROC AUC 93.836%, Accuracy=60.312%\n",
      "Epoch 009: Training loss: 1.340, ROC AUC: 96.194%, Accuracy=64.753%\n",
      "           Validation loss: 1.511, ROC AUC 94.621%, Accuracy=60.938%\n"
     ]
    }
   ],
   "source": [
    "# Run the custom training loop\n",
    "\n",
    "from tensorflow.keras.utils import to_categorical\n",
    "\n",
    "num_epochs = 10\n",
    "val_steps = 10\n",
    "\n",
    "for epoch in range(num_epochs):\n",
    "    train_epoch_loss_avg = tf.keras.metrics.Mean()\n",
    "    train_epoch_roc_auc = tf.keras.metrics.AUC(curve='ROC')\n",
    "    train_epoch_accuracy = tf.keras.metrics.CategoricalAccuracy()\n",
    "    \n",
    "    val_epoch_loss_avg = tf.keras.metrics.Mean()\n",
    "    val_epoch_roc_auc = tf.keras.metrics.AUC(curve='ROC')    \n",
    "    val_epoch_accuracy = tf.keras.metrics.CategoricalAccuracy()\n",
    "\n",
    "    for inputs, labels in train_dataset:\n",
    "        model_preds, loss_value, grads = grad(model, inputs, labels, loss)\n",
    "        optimizer.apply_gradients(zip(grads, model.trainable_variables))\n",
    "\n",
    "        train_epoch_loss_avg(loss_value)\n",
    "        train_epoch_roc_auc(to_categorical(labels, num_classes=46), model_preds)\n",
    "        train_epoch_accuracy(to_categorical(labels, num_classes=46), model_preds)\n",
    "        \n",
    "    for inputs, labels in val_dataset.take(val_steps):\n",
    "        model_preds = model(inputs)\n",
    "        val_epoch_loss_avg(loss(labels, model_preds))\n",
    "        val_epoch_roc_auc(to_categorical(labels, num_classes=46), model_preds)\n",
    "        val_epoch_accuracy(to_categorical(labels, num_classes=46), model_preds)\n",
    "        \n",
    "    train_loss_results.append(train_epoch_loss_avg.result().numpy())\n",
    "    train_roc_auc_results.append(train_epoch_roc_auc.result().numpy())\n",
    "    train_accuracy_results.append(train_epoch_accuracy.result().numpy())\n",
    "    \n",
    "    val_loss_results.append(val_epoch_loss_avg.result().numpy())\n",
    "    val_roc_auc_results.append(val_epoch_roc_auc.result().numpy())\n",
    "    val_accuracy_results.append(val_epoch_accuracy.result().numpy())\n",
    "\n",
    "    print(\"Epoch {:03d}: Training loss: {:.3f}, ROC AUC: {:.3%}, Accuracy={:.3%}\".format(epoch, \n",
    "                                                                                         train_epoch_loss_avg.result(),\n",
    "                                                                                         train_epoch_roc_auc.result(),\n",
    "                                                                                         train_epoch_accuracy.result()\n",
    "                                                                                        ))\n",
    "    print(\"           Validation loss: {:.3f}, ROC AUC {:.3%}, Accuracy={:.3%}\".format(val_epoch_loss_avg.result(),\n",
    "                                                                                          val_epoch_roc_auc.result(),\n",
    "                                                                                          val_epoch_accuracy.result()\n",
    "                                                                                         ))"
   ]
  },
  {
   "cell_type": "code",
   "execution_count": 69,
   "metadata": {
    "ExecuteTime": {
     "end_time": "2020-12-19T09:13:39.800324Z",
     "start_time": "2020-12-19T09:13:39.746021Z"
    }
   },
   "outputs": [
    {
     "name": "stdout",
     "output_type": "stream",
     "text": [
      "accuarcy is 0.5823687\n"
     ]
    }
   ],
   "source": [
    "test_accuracy = tf.keras.metrics.CategoricalAccuracy()\n",
    "test_accuracy(to_categorical(test_labels, num_classes=46), model(padded_test_data))\n",
    "print('accuarcy is', test_accuracy.result().numpy())"
   ]
  },
  {
   "cell_type": "markdown",
   "metadata": {},
   "source": [
    "为什么上面的性能，好像反而大大不如Week_4_Model_subclassing中采用MLP的模型?\n",
    "\n",
    "- SGD换成Adam，Accuarcy的确大大提高\n",
    "- 把Valdiation的比例由0.3减少到0.1, 好像效果不明显。\n",
    "\n",
    "可能这个模型需要太多数据了把，所以模型不能取得理想的结果。"
   ]
  },
  {
   "cell_type": "markdown",
   "metadata": {
    "id": "IEQLIEiggDBc"
   },
   "source": [
    "#### Plot the learning curves"
   ]
  },
  {
   "cell_type": "code",
   "execution_count": 33,
   "metadata": {
    "ExecuteTime": {
     "end_time": "2020-12-19T07:12:21.256941Z",
     "start_time": "2020-12-19T07:12:20.788628Z"
    },
    "id": "mRnJpzCDgDBd"
   },
   "outputs": [
    {
     "data": {
      "image/png": "[encoded data removed]",
      "text/plain": [
       "<Figure size 1080x360 with 2 Axes>"
      ]
     },
     "metadata": {
      "needs_background": "light"
     },
     "output_type": "display_data"
    }
   ],
   "source": [
    "import matplotlib.pyplot as plt\n",
    "\n",
    "fig = plt.figure(figsize=(15, 5))\n",
    "\n",
    "fig.add_subplot(121)\n",
    "plt.plot(train_loss_results)\n",
    "plt.plot(val_loss_results)\n",
    "plt.title('Loss vs. epochs')\n",
    "plt.ylabel('Loss')\n",
    "plt.xlabel('Epoch')\n",
    "plt.legend(['Training', 'Validation'], loc='upper right')\n",
    "\n",
    "fig.add_subplot(122)\n",
    "plt.plot(train_roc_auc_results)\n",
    "plt.plot(val_roc_auc_results)\n",
    "plt.title('ROC AUC vs. epochs')\n",
    "plt.ylabel('ROC AUC')\n",
    "plt.xlabel('Epoch')\n",
    "plt.legend(['Training', 'Validation'], loc='lower right')\n",
    "plt.show() "
   ]
  },
  {
   "cell_type": "markdown",
   "metadata": {
    "id": "aYI5t_QigDBd"
   },
   "source": [
    "## Test the model\n",
    "Similarly, we can calculate the loss and metric values on the test dataset."
   ]
  },
  {
   "cell_type": "code",
   "execution_count": 36,
   "metadata": {
    "ExecuteTime": {
     "end_time": "2020-12-19T08:42:25.165437Z",
     "start_time": "2020-12-19T08:42:24.963210Z"
    },
    "id": "aPwniVvhgDBd"
   },
   "outputs": [],
   "source": [
    "# Create metric objects for testing\n",
    "\n",
    "test_epoch_loss_avg = tf.keras.metrics.Mean()\n",
    "test_epoch_roc_auc = tf.keras.metrics.AUC(curve='ROC')\n",
    "test_accuracy = tf.keras.metrics.CategoricalAccuracy()"
   ]
  },
  {
   "cell_type": "code",
   "execution_count": 39,
   "metadata": {
    "ExecuteTime": {
     "end_time": "2020-12-19T08:43:05.296777Z",
     "start_time": "2020-12-19T08:43:03.233458Z"
    },
    "id": "RaqjK_XRgDBd",
    "scrolled": false
   },
   "outputs": [
    {
     "name": "stdout",
     "output_type": "stream",
     "text": [
      "Test loss: 2.371\n",
      "Test ROC AUC: 89.090%\n",
      "Test Accuarcy: 26.551%\n"
     ]
    }
   ],
   "source": [
    "# Calculate metrics on the test set\n",
    "\n",
    "for inputs, labels in test_dataset:\n",
    "    model_pred = model(inputs)\n",
    "    test_accuracy(to_categorical(labels), model_pred)\n",
    "    test_epoch_loss_avg(loss(labels, model_pred))  \n",
    "    test_epoch_roc_auc(to_categorical(labels, num_classes=46), model_pred)\n",
    "\n",
    "print(\"Test loss: {:.3f}\".format(test_epoch_loss_avg.result().numpy()))\n",
    "print(\"Test ROC AUC: {:.3%}\".format(test_epoch_roc_auc.result().numpy()))\n",
    "print(\"Test Accuarcy: {:.3%}\".format(test_accuracy.result().numpy()))"
   ]
  },
  {
   "cell_type": "markdown",
   "metadata": {
    "id": "YKRRjg_PgDBd"
   },
   "source": [
    "## Further reading and resources \n",
    "* https://www.tensorflow.org/tutorials/customization/custom_training_walkthrough#training_loop\n",
    "* https://www.tensorflow.org/api_docs/python/tf/keras/metrics\n",
    "* https://en.wikipedia.org/wiki/Receiver_operating_characteristic#Area_under_the_curve"
   ]
  },
  {
   "cell_type": "code",
   "execution_count": null,
   "metadata": {},
   "outputs": [],
   "source": []
  }
 ],
 "metadata": {
  "colab": {
   "name": "Tracking metrics in custom training loops.ipynb",
   "provenance": []
  },
  "kernelspec": {
   "display_name": "Python 3",
   "language": "python",
   "name": "python3"
  },
  "language_info": {
   "codemirror_mode": {
    "name": "ipython",
    "version": 3
   },
   "file_extension": ".py",
   "mimetype": "text/x-python",
   "name": "python",
   "nbconvert_exporter": "python",
   "pygments_lexer": "ipython3",
   "version": "3.6.9"
  },
  "toc": {
   "base_numbering": 1,
   "nav_menu": {},
   "number_sections": true,
   "sideBar": true,
   "skip_h1_title": false,
   "title_cell": "Table of Contents",
   "title_sidebar": "Contents",
   "toc_cell": false,
   "toc_position": {},
   "toc_section_display": true,
   "toc_window_display": true
  }
 },
 "nbformat": 4,
 "nbformat_minor": 1
}
