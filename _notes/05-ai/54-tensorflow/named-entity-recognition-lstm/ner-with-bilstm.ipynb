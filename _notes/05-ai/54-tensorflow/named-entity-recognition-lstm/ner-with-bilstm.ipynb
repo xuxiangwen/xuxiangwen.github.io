{
 "cells": [
  {
   "cell_type": "code",
   "execution_count": 27,
   "metadata": {
    "ExecuteTime": {
     "end_time": "2021-08-17T03:59:18.491796Z",
     "start_time": "2021-08-17T03:59:18.489510Z"
    }
   },
   "outputs": [],
   "source": [
    "#!pip install spacy\n",
    "# !python -m spacy download en_core_web_sm"
   ]
  },
  {
   "cell_type": "code",
   "execution_count": 34,
   "metadata": {
    "ExecuteTime": {
     "end_time": "2021-08-17T04:38:41.526874Z",
     "start_time": "2021-08-17T04:38:41.509052Z"
    },
    "_cell_guid": "b1076dfc-b9ad-4769-8c92-a6c4dae69d19",
    "_uuid": "8f2839f25d086af736a60e9eeb907d3b93b6e0e5",
    "execution": {
     "iopub.execute_input": "2021-08-14T15:20:57.797617Z",
     "iopub.status.busy": "2021-08-14T15:20:57.797256Z",
     "iopub.status.idle": "2021-08-14T15:20:57.809847Z",
     "shell.execute_reply": "2021-08-14T15:20:57.809056Z",
     "shell.execute_reply.started": "2021-08-14T15:20:57.797589Z"
    }
   },
   "outputs": [],
   "source": [
    "# This Python 3 environment comes with many helpful analytics libraries installed\n",
    "# It is defined by the kaggle/python Docker image: https://github.com/kaggle/docker-python\n",
    "# For example, here's several helpful packages to load\n",
    "\n",
    "import numpy as np # linear algebra\n",
    "import pandas as pd # data processing, CSV file I/O (e.g. pd.read_csv)\n",
    "from sklearn.model_selection import train_test_split\n",
    "from keras.preprocessing.sequence import pad_sequences\n",
    "from tensorflow.keras.utils import to_categorical\n",
    "from itertools import chain\n",
    "import matplotlib.pyplot as plt\n",
    "import spacy\n",
    "from spacy import displacy\n",
    "\n",
    "import numpy as np\n",
    "import tensorflow as tf\n",
    "from tensorflow.keras import Sequential, Model, Input\n",
    "from tensorflow.keras.layers import LSTM, Embedding, Dense, TimeDistributed, Dropout, Bidirectional\n",
    "from tensorflow.keras.utils import plot_model\n",
    "from numpy.random import seed\n",
    "\n",
    "# ebablbe auto-completion\n",
    "%config Completer.use_jedi = False"
   ]
  },
  {
   "cell_type": "code",
   "execution_count": 2,
   "metadata": {
    "ExecuteTime": {
     "end_time": "2021-08-17T02:44:58.595307Z",
     "start_time": "2021-08-17T02:44:58.570824Z"
    }
   },
   "outputs": [],
   "source": [
    "physical_devices = tf.config.list_physical_devices('GPU')\n",
    "for device in physical_devices:\n",
    "    tf.config.experimental.set_memory_growth(device, True)"
   ]
  },
  {
   "cell_type": "code",
   "execution_count": 3,
   "metadata": {
    "ExecuteTime": {
     "end_time": "2021-08-17T02:44:58.604410Z",
     "start_time": "2021-08-17T02:44:58.597948Z"
    }
   },
   "outputs": [
    {
     "name": "stdout",
     "output_type": "stream",
     "text": [
      "./Learner_Notebook.ipynb\n",
      "./ner_dataset.csv\n",
      "./ner-with-bilstm.ipynb\n",
      "./model.png\n",
      "./.ipynb_checkpoints/Learner_Notebook-checkpoint.ipynb\n",
      "./.ipynb_checkpoints/ner-with-bilstm-checkpoint.ipynb\n"
     ]
    }
   ],
   "source": [
    "# Input data files are available in the read-only \"../input/\" directory\n",
    "# For example, running this (by clicking run or pressing Shift+Enter) will list all files under the input directory\n",
    "\n",
    "import os\n",
    "for dirname, _, filenames in os.walk('.'):\n",
    "    for filename in filenames:\n",
    "        print(os.path.join(dirname, filename))\n",
    "\n",
    "# You can write up to 20GB to the current directory (/kaggle/working/) that gets preserved as output when you create a version using \"Save & Run All\" \n",
    "# You can also write temporary files to /kaggle/temp/, but they won't be saved outside of the current session"
   ]
  },
  {
   "cell_type": "code",
   "execution_count": 4,
   "metadata": {
    "ExecuteTime": {
     "end_time": "2021-08-17T02:44:59.140369Z",
     "start_time": "2021-08-17T02:44:58.606715Z"
    },
    "execution": {
     "iopub.execute_input": "2021-08-14T15:16:53.587219Z",
     "iopub.status.busy": "2021-08-14T15:16:53.586711Z",
     "iopub.status.idle": "2021-08-14T15:16:54.235641Z",
     "shell.execute_reply": "2021-08-14T15:16:54.234895Z",
     "shell.execute_reply.started": "2021-08-14T15:16:53.587185Z"
    }
   },
   "outputs": [
    {
     "data": {
      "text/html": [
       "<div>\n",
       "<style scoped>\n",
       "    .dataframe tbody tr th:only-of-type {\n",
       "        vertical-align: middle;\n",
       "    }\n",
       "\n",
       "    .dataframe tbody tr th {\n",
       "        vertical-align: top;\n",
       "    }\n",
       "\n",
       "    .dataframe thead th {\n",
       "        text-align: right;\n",
       "    }\n",
       "</style>\n",
       "<table border=\"1\" class=\"dataframe\">\n",
       "  <thead>\n",
       "    <tr style=\"text-align: right;\">\n",
       "      <th></th>\n",
       "      <th>Sentence #</th>\n",
       "      <th>Word</th>\n",
       "      <th>POS</th>\n",
       "      <th>Tag</th>\n",
       "    </tr>\n",
       "  </thead>\n",
       "  <tbody>\n",
       "    <tr>\n",
       "      <th>0</th>\n",
       "      <td>Sentence: 1</td>\n",
       "      <td>Thousands</td>\n",
       "      <td>NNS</td>\n",
       "      <td>O</td>\n",
       "    </tr>\n",
       "    <tr>\n",
       "      <th>1</th>\n",
       "      <td>NaN</td>\n",
       "      <td>of</td>\n",
       "      <td>IN</td>\n",
       "      <td>O</td>\n",
       "    </tr>\n",
       "    <tr>\n",
       "      <th>2</th>\n",
       "      <td>NaN</td>\n",
       "      <td>demonstrators</td>\n",
       "      <td>NNS</td>\n",
       "      <td>O</td>\n",
       "    </tr>\n",
       "    <tr>\n",
       "      <th>3</th>\n",
       "      <td>NaN</td>\n",
       "      <td>have</td>\n",
       "      <td>VBP</td>\n",
       "      <td>O</td>\n",
       "    </tr>\n",
       "    <tr>\n",
       "      <th>4</th>\n",
       "      <td>NaN</td>\n",
       "      <td>marched</td>\n",
       "      <td>VBN</td>\n",
       "      <td>O</td>\n",
       "    </tr>\n",
       "  </tbody>\n",
       "</table>\n",
       "</div>"
      ],
      "text/plain": [
       "    Sentence #           Word  POS Tag\n",
       "0  Sentence: 1      Thousands  NNS   O\n",
       "1          NaN             of   IN   O\n",
       "2          NaN  demonstrators  NNS   O\n",
       "3          NaN           have  VBP   O\n",
       "4          NaN        marched  VBN   O"
      ]
     },
     "execution_count": 4,
     "metadata": {},
     "output_type": "execute_result"
    }
   ],
   "source": [
    "data = pd.read_csv('./ner_dataset.csv', encoding= 'unicode_escape')\n",
    "data.head()"
   ]
  },
  {
   "cell_type": "code",
   "execution_count": 5,
   "metadata": {
    "ExecuteTime": {
     "end_time": "2021-08-17T02:44:59.146123Z",
     "start_time": "2021-08-17T02:44:59.142491Z"
    },
    "execution": {
     "iopub.execute_input": "2021-08-14T15:16:54.237349Z",
     "iopub.status.busy": "2021-08-14T15:16:54.236924Z",
     "iopub.status.idle": "2021-08-14T15:16:54.242352Z",
     "shell.execute_reply": "2021-08-14T15:16:54.241553Z",
     "shell.execute_reply.started": "2021-08-14T15:16:54.237320Z"
    }
   },
   "outputs": [
    {
     "data": {
      "text/plain": [
       "(1048575, 4)"
      ]
     },
     "execution_count": 5,
     "metadata": {},
     "output_type": "execute_result"
    }
   ],
   "source": [
    "data.shape"
   ]
  },
  {
   "cell_type": "code",
   "execution_count": 6,
   "metadata": {
    "ExecuteTime": {
     "end_time": "2021-08-17T02:44:59.311769Z",
     "start_time": "2021-08-17T02:44:59.148077Z"
    },
    "execution": {
     "iopub.execute_input": "2021-08-14T15:16:54.244359Z",
     "iopub.status.busy": "2021-08-14T15:16:54.243958Z",
     "iopub.status.idle": "2021-08-14T15:16:54.604530Z",
     "shell.execute_reply": "2021-08-14T15:16:54.603526Z",
     "shell.execute_reply.started": "2021-08-14T15:16:54.244330Z"
    }
   },
   "outputs": [
    {
     "data": {
      "text/plain": [
       "Sentence #     True\n",
       "Word          False\n",
       "POS           False\n",
       "Tag           False\n",
       "dtype: bool"
      ]
     },
     "execution_count": 6,
     "metadata": {},
     "output_type": "execute_result"
    }
   ],
   "source": [
    "data.isna().any()"
   ]
  },
  {
   "cell_type": "code",
   "execution_count": 7,
   "metadata": {
    "ExecuteTime": {
     "end_time": "2021-08-17T02:44:59.414915Z",
     "start_time": "2021-08-17T02:44:59.313948Z"
    },
    "execution": {
     "iopub.execute_input": "2021-08-14T15:16:54.606258Z",
     "iopub.status.busy": "2021-08-14T15:16:54.605829Z",
     "iopub.status.idle": "2021-08-14T15:16:54.710875Z",
     "shell.execute_reply": "2021-08-14T15:16:54.709871Z",
     "shell.execute_reply.started": "2021-08-14T15:16:54.606225Z"
    }
   },
   "outputs": [],
   "source": [
    "def get_dict_map(data, token_or_tag):\n",
    "    tok2idx = {}\n",
    "    idx2tok = {}\n",
    "    \n",
    "    if token_or_tag == 'token':\n",
    "        vocab = list(set(data['Word'].to_list()))\n",
    "    else:\n",
    "        vocab = list(set(data['Tag'].to_list()))\n",
    "    \n",
    "    idx2tok = {idx:tok for  idx, tok in enumerate(vocab)}\n",
    "    tok2idx = {tok:idx for  idx, tok in enumerate(vocab)}\n",
    "    return tok2idx, idx2tok\n",
    "\n",
    "\n",
    "token2idx, idx2token = get_dict_map(data, 'token')\n",
    "tag2idx, idx2tag = get_dict_map(data, 'tag')"
   ]
  },
  {
   "cell_type": "code",
   "execution_count": 8,
   "metadata": {
    "ExecuteTime": {
     "end_time": "2021-08-17T02:44:59.644216Z",
     "start_time": "2021-08-17T02:44:59.418293Z"
    },
    "execution": {
     "iopub.execute_input": "2021-08-14T15:16:54.712391Z",
     "iopub.status.busy": "2021-08-14T15:16:54.712086Z",
     "iopub.status.idle": "2021-08-14T15:16:54.984287Z",
     "shell.execute_reply": "2021-08-14T15:16:54.983125Z",
     "shell.execute_reply.started": "2021-08-14T15:16:54.712361Z"
    }
   },
   "outputs": [],
   "source": [
    "data['Word_idx'] = data['Word'].map(token2idx)\n",
    "data['Tag_idx'] = data['Tag'].map(tag2idx)"
   ]
  },
  {
   "cell_type": "code",
   "execution_count": 9,
   "metadata": {
    "ExecuteTime": {
     "end_time": "2021-08-17T02:45:12.192624Z",
     "start_time": "2021-08-17T02:44:59.646775Z"
    },
    "execution": {
     "iopub.execute_input": "2021-08-14T15:16:54.985907Z",
     "iopub.status.busy": "2021-08-14T15:16:54.985607Z",
     "iopub.status.idle": "2021-08-14T15:17:04.802586Z",
     "shell.execute_reply": "2021-08-14T15:17:04.801468Z",
     "shell.execute_reply.started": "2021-08-14T15:16:54.985876Z"
    }
   },
   "outputs": [
    {
     "name": "stderr",
     "output_type": "stream",
     "text": [
      "/usr/local/lib/python3.6/dist-packages/ipykernel_launcher.py:4: FutureWarning: Indexing with multiple keys (implicitly converted to a tuple of keys) will be deprecated, use a list instead.\n",
      "  after removing the cwd from sys.path.\n"
     ]
    },
    {
     "name": "stdout",
     "output_type": "stream",
     "text": [
      "47959\n"
     ]
    },
    {
     "data": {
      "text/html": [
       "<div>\n",
       "<style scoped>\n",
       "    .dataframe tbody tr th:only-of-type {\n",
       "        vertical-align: middle;\n",
       "    }\n",
       "\n",
       "    .dataframe tbody tr th {\n",
       "        vertical-align: top;\n",
       "    }\n",
       "\n",
       "    .dataframe thead th {\n",
       "        text-align: right;\n",
       "    }\n",
       "</style>\n",
       "<table border=\"1\" class=\"dataframe\">\n",
       "  <thead>\n",
       "    <tr style=\"text-align: right;\">\n",
       "      <th></th>\n",
       "      <th>Sentence #</th>\n",
       "      <th>Word</th>\n",
       "      <th>POS</th>\n",
       "      <th>Tag</th>\n",
       "      <th>Word_idx</th>\n",
       "      <th>Tag_idx</th>\n",
       "    </tr>\n",
       "  </thead>\n",
       "  <tbody>\n",
       "    <tr>\n",
       "      <th>0</th>\n",
       "      <td>Sentence: 1</td>\n",
       "      <td>[Thousands, of, demonstrators, have, marched, ...</td>\n",
       "      <td>[NNS, IN, NNS, VBP, VBN, IN, NNP, TO, VB, DT, ...</td>\n",
       "      <td>[O, O, O, O, O, O, B-geo, O, O, O, O, O, B-geo...</td>\n",
       "      <td>[7622, 25994, 7134, 16992, 12777, 15147, 25148...</td>\n",
       "      <td>[2, 2, 2, 2, 2, 2, 4, 2, 2, 2, 2, 2, 4, 2, 2, ...</td>\n",
       "    </tr>\n",
       "    <tr>\n",
       "      <th>1</th>\n",
       "      <td>Sentence: 10</td>\n",
       "      <td>[Iranian, officials, say, they, expect, to, ge...</td>\n",
       "      <td>[JJ, NNS, VBP, PRP, VBP, TO, VB, NN, TO, JJ, J...</td>\n",
       "      <td>[B-gpe, O, O, O, O, O, O, O, O, O, O, O, O, O,...</td>\n",
       "      <td>[29101, 22612, 22870, 16889, 32907, 12932, 706...</td>\n",
       "      <td>[16, 2, 2, 2, 2, 2, 2, 2, 2, 2, 2, 2, 2, 2, 2,...</td>\n",
       "    </tr>\n",
       "    <tr>\n",
       "      <th>2</th>\n",
       "      <td>Sentence: 100</td>\n",
       "      <td>[Helicopter, gunships, Saturday, pounded, mili...</td>\n",
       "      <td>[NN, NNS, NNP, VBD, JJ, NNS, IN, DT, NNP, JJ, ...</td>\n",
       "      <td>[O, O, B-tim, O, O, O, O, O, B-geo, O, O, O, O...</td>\n",
       "      <td>[3771, 11584, 25406, 19906, 19338, 21470, 1107...</td>\n",
       "      <td>[2, 2, 15, 2, 2, 2, 2, 2, 4, 2, 2, 2, 2, 2, 12...</td>\n",
       "    </tr>\n",
       "    <tr>\n",
       "      <th>3</th>\n",
       "      <td>Sentence: 1000</td>\n",
       "      <td>[They, left, after, a, tense, hour-long, stand...</td>\n",
       "      <td>[PRP, VBD, IN, DT, NN, JJ, NN, IN, NN, NNS, .]</td>\n",
       "      <td>[O, O, O, O, O, O, O, O, O, O, O]</td>\n",
       "      <td>[14990, 19058, 26914, 10945, 33220, 12725, 611...</td>\n",
       "      <td>[2, 2, 2, 2, 2, 2, 2, 2, 2, 2, 2]</td>\n",
       "    </tr>\n",
       "    <tr>\n",
       "      <th>4</th>\n",
       "      <td>Sentence: 10000</td>\n",
       "      <td>[U.N., relief, coordinator, Jan, Egeland, said...</td>\n",
       "      <td>[NNP, NN, NN, NNP, NNP, VBD, NNP, ,, NNP, ,, J...</td>\n",
       "      <td>[B-geo, O, O, B-per, I-per, O, B-tim, O, B-geo...</td>\n",
       "      <td>[28704, 11079, 29606, 7385, 25795, 26308, 2397...</td>\n",
       "      <td>[4, 2, 2, 11, 8, 2, 15, 2, 4, 2, 16, 2, 16, 2,...</td>\n",
       "    </tr>\n",
       "  </tbody>\n",
       "</table>\n",
       "</div>"
      ],
      "text/plain": [
       "        Sentence #                                               Word  \\\n",
       "0      Sentence: 1  [Thousands, of, demonstrators, have, marched, ...   \n",
       "1     Sentence: 10  [Iranian, officials, say, they, expect, to, ge...   \n",
       "2    Sentence: 100  [Helicopter, gunships, Saturday, pounded, mili...   \n",
       "3   Sentence: 1000  [They, left, after, a, tense, hour-long, stand...   \n",
       "4  Sentence: 10000  [U.N., relief, coordinator, Jan, Egeland, said...   \n",
       "\n",
       "                                                 POS  \\\n",
       "0  [NNS, IN, NNS, VBP, VBN, IN, NNP, TO, VB, DT, ...   \n",
       "1  [JJ, NNS, VBP, PRP, VBP, TO, VB, NN, TO, JJ, J...   \n",
       "2  [NN, NNS, NNP, VBD, JJ, NNS, IN, DT, NNP, JJ, ...   \n",
       "3     [PRP, VBD, IN, DT, NN, JJ, NN, IN, NN, NNS, .]   \n",
       "4  [NNP, NN, NN, NNP, NNP, VBD, NNP, ,, NNP, ,, J...   \n",
       "\n",
       "                                                 Tag  \\\n",
       "0  [O, O, O, O, O, O, B-geo, O, O, O, O, O, B-geo...   \n",
       "1  [B-gpe, O, O, O, O, O, O, O, O, O, O, O, O, O,...   \n",
       "2  [O, O, B-tim, O, O, O, O, O, B-geo, O, O, O, O...   \n",
       "3                  [O, O, O, O, O, O, O, O, O, O, O]   \n",
       "4  [B-geo, O, O, B-per, I-per, O, B-tim, O, B-geo...   \n",
       "\n",
       "                                            Word_idx  \\\n",
       "0  [7622, 25994, 7134, 16992, 12777, 15147, 25148...   \n",
       "1  [29101, 22612, 22870, 16889, 32907, 12932, 706...   \n",
       "2  [3771, 11584, 25406, 19906, 19338, 21470, 1107...   \n",
       "3  [14990, 19058, 26914, 10945, 33220, 12725, 611...   \n",
       "4  [28704, 11079, 29606, 7385, 25795, 26308, 2397...   \n",
       "\n",
       "                                             Tag_idx  \n",
       "0  [2, 2, 2, 2, 2, 2, 4, 2, 2, 2, 2, 2, 4, 2, 2, ...  \n",
       "1  [16, 2, 2, 2, 2, 2, 2, 2, 2, 2, 2, 2, 2, 2, 2,...  \n",
       "2  [2, 2, 15, 2, 2, 2, 2, 2, 4, 2, 2, 2, 2, 2, 12...  \n",
       "3                  [2, 2, 2, 2, 2, 2, 2, 2, 2, 2, 2]  \n",
       "4  [4, 2, 2, 11, 8, 2, 15, 2, 4, 2, 16, 2, 16, 2,...  "
      ]
     },
     "execution_count": 9,
     "metadata": {},
     "output_type": "execute_result"
    }
   ],
   "source": [
    "# 采用上一个非空值，填充空值。\n",
    "data_fillna = data.fillna(method='ffill', axis=0)\n",
    "data_group = data_fillna.groupby(['Sentence #'],as_index=False\n",
    "                                )['Word', 'POS', 'Tag', 'Word_idx', 'Tag_idx'].agg(lambda x: list(x))\n",
    "\n",
    "print(len(data_group))\n",
    "data_group.head()"
   ]
  },
  {
   "cell_type": "code",
   "execution_count": 10,
   "metadata": {
    "ExecuteTime": {
     "end_time": "2021-08-17T02:45:14.264457Z",
     "start_time": "2021-08-17T02:45:12.194759Z"
    },
    "execution": {
     "iopub.execute_input": "2021-08-14T15:17:04.806410Z",
     "iopub.status.busy": "2021-08-14T15:17:04.806061Z",
     "iopub.status.idle": "2021-08-14T15:17:06.772962Z",
     "shell.execute_reply": "2021-08-14T15:17:06.771938Z",
     "shell.execute_reply.started": "2021-08-14T15:17:04.806380Z"
    }
   },
   "outputs": [
    {
     "name": "stdout",
     "output_type": "stream",
     "text": [
      "train_tokens shape: (43163, 104) \n",
      "test_tokens shape: (4796, 104) \n",
      "train_tags shape: 43163 \n",
      "test_tags shape: 4796\n"
     ]
    }
   ],
   "source": [
    "def get_pad_train_test_val(data_group, data):\n",
    "    n_token = len(list(set(data['Word'].to_list())))\n",
    "    n_tag = len(list(set(data['Tag'].to_list())))\n",
    "    \n",
    "    tokens = data_group['Word_idx'].tolist()\n",
    "    maxlen = max([len(s) for s in tokens])\n",
    "    pad_tokens = pad_sequences(tokens, maxlen=maxlen, dtype='int32', padding='post', value= n_token - 1)\n",
    "    \n",
    "    tags = data_group['Tag_idx'].tolist()\n",
    "    pad_tags = pad_sequences(tags, maxlen=maxlen, dtype='int32', padding='post', value= tag2idx[\"O\"])\n",
    "    \n",
    "    n_tags = len(tag2idx)\n",
    "    pad_tags = [to_categorical(i, num_classes=n_tags) for i in pad_tags]\n",
    "    \n",
    "    \n",
    "    train_tokens, test_tokens, train_tags, test_tags = train_test_split(pad_tokens, pad_tags, test_size=0.1, train_size=0.9, random_state=2020)\n",
    "\n",
    "    print(\n",
    "        'train_tokens shape:', train_tokens.shape,\n",
    "        '\\ntest_tokens shape:', test_tokens.shape,\n",
    "        '\\ntrain_tags shape:', len(train_tags),\n",
    "        '\\ntest_tags shape:', len(test_tags)\n",
    "    )\n",
    "    \n",
    "    return train_tokens, test_tokens, train_tags, test_tags\n",
    "\n",
    "train_tokens, test_tokens, train_tags, test_tags = get_pad_train_test_val(data_group, data)"
   ]
  },
  {
   "cell_type": "code",
   "execution_count": 11,
   "metadata": {
    "ExecuteTime": {
     "end_time": "2021-08-17T02:45:14.312539Z",
     "start_time": "2021-08-17T02:45:14.266797Z"
    },
    "execution": {
     "iopub.execute_input": "2021-08-14T15:17:06.774717Z",
     "iopub.status.busy": "2021-08-14T15:17:06.774433Z",
     "iopub.status.idle": "2021-08-14T15:17:06.821985Z",
     "shell.execute_reply": "2021-08-14T15:17:06.819249Z",
     "shell.execute_reply.started": "2021-08-14T15:17:06.774689Z"
    }
   },
   "outputs": [
    {
     "name": "stdout",
     "output_type": "stream",
     "text": [
      "8723\t[0. 0. 1. 0. 0. 0. 0. 0. 0. 0. 0. 0. 0. 0. 0. 0. 0.]\n",
      "22870\t[0. 0. 1. 0. 0. 0. 0. 0. 0. 0. 0. 0. 0. 0. 0. 0. 0.]\n",
      "19707\t[0. 0. 0. 0. 0. 0. 0. 0. 0. 0. 0. 1. 0. 0. 0. 0. 0.]\n",
      "10393\t[0. 0. 1. 0. 0. 0. 0. 0. 0. 0. 0. 0. 0. 0. 0. 0. 0.]\n",
      "17324\t[0. 0. 1. 0. 0. 0. 0. 0. 0. 0. 0. 0. 0. 0. 0. 0. 0.]\n",
      "22497\t[0. 0. 1. 0. 0. 0. 0. 0. 0. 0. 0. 0. 0. 0. 0. 0. 0.]\n",
      "12932\t[0. 0. 1. 0. 0. 0. 0. 0. 0. 0. 0. 0. 0. 0. 0. 0. 0.]\n",
      "33210\t[0. 0. 1. 0. 0. 0. 0. 0. 0. 0. 0. 0. 0. 0. 0. 0. 0.]\n",
      "21452\t[0. 0. 1. 0. 0. 0. 0. 0. 0. 0. 0. 0. 0. 0. 0. 0. 0.]\n",
      "28839\t[0. 0. 0. 0. 1. 0. 0. 0. 0. 0. 0. 0. 0. 0. 0. 0. 0.]\n",
      "20447\t[0. 0. 1. 0. 0. 0. 0. 0. 0. 0. 0. 0. 0. 0. 0. 0. 0.]\n",
      "5069\t[0. 0. 1. 0. 0. 0. 0. 0. 0. 0. 0. 0. 0. 0. 0. 0. 0.]\n",
      "16889\t[0. 0. 1. 0. 0. 0. 0. 0. 0. 0. 0. 0. 0. 0. 0. 0. 0.]\n",
      "29898\t[0. 0. 1. 0. 0. 0. 0. 0. 0. 0. 0. 0. 0. 0. 0. 0. 0.]\n",
      "19237\t[0. 0. 1. 0. 0. 0. 0. 0. 0. 0. 0. 0. 0. 0. 0. 0. 0.]\n",
      "31153\t[0. 0. 1. 0. 0. 0. 0. 0. 0. 0. 0. 0. 0. 0. 0. 0. 0.]\n",
      "32236\t[0. 0. 1. 0. 0. 0. 0. 0. 0. 0. 0. 0. 0. 0. 0. 0. 0.]\n",
      "32164\t[0. 0. 1. 0. 0. 0. 0. 0. 0. 0. 0. 0. 0. 0. 0. 0. 0.]\n",
      "27677\t[0. 0. 1. 0. 0. 0. 0. 0. 0. 0. 0. 0. 0. 0. 0. 0. 0.]\n",
      "24846\t[0. 0. 1. 0. 0. 0. 0. 0. 0. 0. 0. 0. 0. 0. 0. 0. 0.]\n",
      "11078\t[0. 0. 1. 0. 0. 0. 0. 0. 0. 0. 0. 0. 0. 0. 0. 0. 0.]\n",
      "30933\t[0. 0. 1. 0. 0. 0. 0. 0. 0. 0. 0. 0. 0. 0. 0. 0. 0.]\n",
      "31370\t[0. 0. 1. 0. 0. 0. 0. 0. 0. 0. 0. 0. 0. 0. 0. 0. 0.]\n",
      "5105\t[0. 0. 0. 0. 0. 0. 0. 0. 0. 0. 0. 0. 0. 0. 0. 1. 0.]\n",
      "19428\t[0. 0. 0. 0. 0. 0. 0. 0. 0. 0. 0. 0. 0. 0. 1. 0. 0.]\n",
      "19870\t[0. 0. 0. 0. 0. 0. 0. 0. 0. 0. 0. 0. 0. 0. 1. 0. 0.]\n",
      "4756\t[0. 0. 1. 0. 0. 0. 0. 0. 0. 0. 0. 0. 0. 0. 0. 0. 0.]\n",
      "35177\t[0. 0. 1. 0. 0. 0. 0. 0. 0. 0. 0. 0. 0. 0. 0. 0. 0.]\n",
      "35177\t[0. 0. 1. 0. 0. 0. 0. 0. 0. 0. 0. 0. 0. 0. 0. 0. 0.]\n",
      "35177\t[0. 0. 1. 0. 0. 0. 0. 0. 0. 0. 0. 0. 0. 0. 0. 0. 0.]\n",
      "35177\t[0. 0. 1. 0. 0. 0. 0. 0. 0. 0. 0. 0. 0. 0. 0. 0. 0.]\n",
      "35177\t[0. 0. 1. 0. 0. 0. 0. 0. 0. 0. 0. 0. 0. 0. 0. 0. 0.]\n",
      "35177\t[0. 0. 1. 0. 0. 0. 0. 0. 0. 0. 0. 0. 0. 0. 0. 0. 0.]\n",
      "35177\t[0. 0. 1. 0. 0. 0. 0. 0. 0. 0. 0. 0. 0. 0. 0. 0. 0.]\n",
      "35177\t[0. 0. 1. 0. 0. 0. 0. 0. 0. 0. 0. 0. 0. 0. 0. 0. 0.]\n",
      "35177\t[0. 0. 1. 0. 0. 0. 0. 0. 0. 0. 0. 0. 0. 0. 0. 0. 0.]\n",
      "35177\t[0. 0. 1. 0. 0. 0. 0. 0. 0. 0. 0. 0. 0. 0. 0. 0. 0.]\n",
      "35177\t[0. 0. 1. 0. 0. 0. 0. 0. 0. 0. 0. 0. 0. 0. 0. 0. 0.]\n",
      "35177\t[0. 0. 1. 0. 0. 0. 0. 0. 0. 0. 0. 0. 0. 0. 0. 0. 0.]\n",
      "35177\t[0. 0. 1. 0. 0. 0. 0. 0. 0. 0. 0. 0. 0. 0. 0. 0. 0.]\n",
      "35177\t[0. 0. 1. 0. 0. 0. 0. 0. 0. 0. 0. 0. 0. 0. 0. 0. 0.]\n",
      "35177\t[0. 0. 1. 0. 0. 0. 0. 0. 0. 0. 0. 0. 0. 0. 0. 0. 0.]\n",
      "35177\t[0. 0. 1. 0. 0. 0. 0. 0. 0. 0. 0. 0. 0. 0. 0. 0. 0.]\n",
      "35177\t[0. 0. 1. 0. 0. 0. 0. 0. 0. 0. 0. 0. 0. 0. 0. 0. 0.]\n",
      "35177\t[0. 0. 1. 0. 0. 0. 0. 0. 0. 0. 0. 0. 0. 0. 0. 0. 0.]\n",
      "35177\t[0. 0. 1. 0. 0. 0. 0. 0. 0. 0. 0. 0. 0. 0. 0. 0. 0.]\n",
      "35177\t[0. 0. 1. 0. 0. 0. 0. 0. 0. 0. 0. 0. 0. 0. 0. 0. 0.]\n",
      "35177\t[0. 0. 1. 0. 0. 0. 0. 0. 0. 0. 0. 0. 0. 0. 0. 0. 0.]\n",
      "35177\t[0. 0. 1. 0. 0. 0. 0. 0. 0. 0. 0. 0. 0. 0. 0. 0. 0.]\n",
      "35177\t[0. 0. 1. 0. 0. 0. 0. 0. 0. 0. 0. 0. 0. 0. 0. 0. 0.]\n",
      "35177\t[0. 0. 1. 0. 0. 0. 0. 0. 0. 0. 0. 0. 0. 0. 0. 0. 0.]\n",
      "35177\t[0. 0. 1. 0. 0. 0. 0. 0. 0. 0. 0. 0. 0. 0. 0. 0. 0.]\n",
      "35177\t[0. 0. 1. 0. 0. 0. 0. 0. 0. 0. 0. 0. 0. 0. 0. 0. 0.]\n",
      "35177\t[0. 0. 1. 0. 0. 0. 0. 0. 0. 0. 0. 0. 0. 0. 0. 0. 0.]\n",
      "35177\t[0. 0. 1. 0. 0. 0. 0. 0. 0. 0. 0. 0. 0. 0. 0. 0. 0.]\n",
      "35177\t[0. 0. 1. 0. 0. 0. 0. 0. 0. 0. 0. 0. 0. 0. 0. 0. 0.]\n",
      "35177\t[0. 0. 1. 0. 0. 0. 0. 0. 0. 0. 0. 0. 0. 0. 0. 0. 0.]\n",
      "35177\t[0. 0. 1. 0. 0. 0. 0. 0. 0. 0. 0. 0. 0. 0. 0. 0. 0.]\n",
      "35177\t[0. 0. 1. 0. 0. 0. 0. 0. 0. 0. 0. 0. 0. 0. 0. 0. 0.]\n",
      "35177\t[0. 0. 1. 0. 0. 0. 0. 0. 0. 0. 0. 0. 0. 0. 0. 0. 0.]\n",
      "35177\t[0. 0. 1. 0. 0. 0. 0. 0. 0. 0. 0. 0. 0. 0. 0. 0. 0.]\n",
      "35177\t[0. 0. 1. 0. 0. 0. 0. 0. 0. 0. 0. 0. 0. 0. 0. 0. 0.]\n",
      "35177\t[0. 0. 1. 0. 0. 0. 0. 0. 0. 0. 0. 0. 0. 0. 0. 0. 0.]\n",
      "35177\t[0. 0. 1. 0. 0. 0. 0. 0. 0. 0. 0. 0. 0. 0. 0. 0. 0.]\n",
      "35177\t[0. 0. 1. 0. 0. 0. 0. 0. 0. 0. 0. 0. 0. 0. 0. 0. 0.]\n",
      "35177\t[0. 0. 1. 0. 0. 0. 0. 0. 0. 0. 0. 0. 0. 0. 0. 0. 0.]\n",
      "35177\t[0. 0. 1. 0. 0. 0. 0. 0. 0. 0. 0. 0. 0. 0. 0. 0. 0.]\n",
      "35177\t[0. 0. 1. 0. 0. 0. 0. 0. 0. 0. 0. 0. 0. 0. 0. 0. 0.]\n",
      "35177\t[0. 0. 1. 0. 0. 0. 0. 0. 0. 0. 0. 0. 0. 0. 0. 0. 0.]\n",
      "35177\t[0. 0. 1. 0. 0. 0. 0. 0. 0. 0. 0. 0. 0. 0. 0. 0. 0.]\n",
      "35177\t[0. 0. 1. 0. 0. 0. 0. 0. 0. 0. 0. 0. 0. 0. 0. 0. 0.]\n",
      "35177\t[0. 0. 1. 0. 0. 0. 0. 0. 0. 0. 0. 0. 0. 0. 0. 0. 0.]\n",
      "35177\t[0. 0. 1. 0. 0. 0. 0. 0. 0. 0. 0. 0. 0. 0. 0. 0. 0.]\n",
      "35177\t[0. 0. 1. 0. 0. 0. 0. 0. 0. 0. 0. 0. 0. 0. 0. 0. 0.]\n",
      "35177\t[0. 0. 1. 0. 0. 0. 0. 0. 0. 0. 0. 0. 0. 0. 0. 0. 0.]\n",
      "35177\t[0. 0. 1. 0. 0. 0. 0. 0. 0. 0. 0. 0. 0. 0. 0. 0. 0.]\n",
      "35177\t[0. 0. 1. 0. 0. 0. 0. 0. 0. 0. 0. 0. 0. 0. 0. 0. 0.]\n",
      "35177\t[0. 0. 1. 0. 0. 0. 0. 0. 0. 0. 0. 0. 0. 0. 0. 0. 0.]\n",
      "35177\t[0. 0. 1. 0. 0. 0. 0. 0. 0. 0. 0. 0. 0. 0. 0. 0. 0.]\n",
      "35177\t[0. 0. 1. 0. 0. 0. 0. 0. 0. 0. 0. 0. 0. 0. 0. 0. 0.]\n",
      "35177\t[0. 0. 1. 0. 0. 0. 0. 0. 0. 0. 0. 0. 0. 0. 0. 0. 0.]\n",
      "35177\t[0. 0. 1. 0. 0. 0. 0. 0. 0. 0. 0. 0. 0. 0. 0. 0. 0.]\n",
      "35177\t[0. 0. 1. 0. 0. 0. 0. 0. 0. 0. 0. 0. 0. 0. 0. 0. 0.]\n",
      "35177\t[0. 0. 1. 0. 0. 0. 0. 0. 0. 0. 0. 0. 0. 0. 0. 0. 0.]\n",
      "35177\t[0. 0. 1. 0. 0. 0. 0. 0. 0. 0. 0. 0. 0. 0. 0. 0. 0.]\n",
      "35177\t[0. 0. 1. 0. 0. 0. 0. 0. 0. 0. 0. 0. 0. 0. 0. 0. 0.]\n",
      "35177\t[0. 0. 1. 0. 0. 0. 0. 0. 0. 0. 0. 0. 0. 0. 0. 0. 0.]\n",
      "35177\t[0. 0. 1. 0. 0. 0. 0. 0. 0. 0. 0. 0. 0. 0. 0. 0. 0.]\n",
      "35177\t[0. 0. 1. 0. 0. 0. 0. 0. 0. 0. 0. 0. 0. 0. 0. 0. 0.]\n",
      "35177\t[0. 0. 1. 0. 0. 0. 0. 0. 0. 0. 0. 0. 0. 0. 0. 0. 0.]\n",
      "35177\t[0. 0. 1. 0. 0. 0. 0. 0. 0. 0. 0. 0. 0. 0. 0. 0. 0.]\n",
      "35177\t[0. 0. 1. 0. 0. 0. 0. 0. 0. 0. 0. 0. 0. 0. 0. 0. 0.]\n",
      "35177\t[0. 0. 1. 0. 0. 0. 0. 0. 0. 0. 0. 0. 0. 0. 0. 0. 0.]\n",
      "35177\t[0. 0. 1. 0. 0. 0. 0. 0. 0. 0. 0. 0. 0. 0. 0. 0. 0.]\n",
      "35177\t[0. 0. 1. 0. 0. 0. 0. 0. 0. 0. 0. 0. 0. 0. 0. 0. 0.]\n",
      "35177\t[0. 0. 1. 0. 0. 0. 0. 0. 0. 0. 0. 0. 0. 0. 0. 0. 0.]\n",
      "35177\t[0. 0. 1. 0. 0. 0. 0. 0. 0. 0. 0. 0. 0. 0. 0. 0. 0.]\n",
      "35177\t[0. 0. 1. 0. 0. 0. 0. 0. 0. 0. 0. 0. 0. 0. 0. 0. 0.]\n",
      "35177\t[0. 0. 1. 0. 0. 0. 0. 0. 0. 0. 0. 0. 0. 0. 0. 0. 0.]\n",
      "35177\t[0. 0. 1. 0. 0. 0. 0. 0. 0. 0. 0. 0. 0. 0. 0. 0. 0.]\n",
      "35177\t[0. 0. 1. 0. 0. 0. 0. 0. 0. 0. 0. 0. 0. 0. 0. 0. 0.]\n",
      "35177\t[0. 0. 1. 0. 0. 0. 0. 0. 0. 0. 0. 0. 0. 0. 0. 0. 0.]\n",
      "35177\t[0. 0. 1. 0. 0. 0. 0. 0. 0. 0. 0. 0. 0. 0. 0. 0. 0.]\n",
      "35177\t[0. 0. 1. 0. 0. 0. 0. 0. 0. 0. 0. 0. 0. 0. 0. 0. 0.]\n"
     ]
    }
   ],
   "source": [
    "for token, tag in zip(train_tokens[0], train_tags[0]):\n",
    "    print('%s\\t%s' % (token, tag))"
   ]
  },
  {
   "cell_type": "code",
   "execution_count": 12,
   "metadata": {
    "ExecuteTime": {
     "end_time": "2021-08-17T02:45:14.386516Z",
     "start_time": "2021-08-17T02:45:14.314943Z"
    },
    "execution": {
     "iopub.execute_input": "2021-08-14T15:17:24.433488Z",
     "iopub.status.busy": "2021-08-14T15:17:24.433108Z",
     "iopub.status.idle": "2021-08-14T15:17:24.506271Z",
     "shell.execute_reply": "2021-08-14T15:17:24.505081Z",
     "shell.execute_reply.started": "2021-08-14T15:17:24.433453Z"
    }
   },
   "outputs": [
    {
     "name": "stdout",
     "output_type": "stream",
     "text": [
      "input_dim:  35179 \n",
      "output_dim:  32 \n",
      "input_length:  104 \n",
      "n_tags:  17\n"
     ]
    }
   ],
   "source": [
    "input_dim = len(list(set(data['Word'].to_list())))+1\n",
    "output_dim = 32\n",
    "input_length = max([len(s) for s in data_group['Word_idx'].tolist()])\n",
    "n_tags = len(tag2idx)\n",
    "print('input_dim: ', input_dim, '\\noutput_dim: ', output_dim, '\\ninput_length: ', input_length, '\\nn_tags: ', n_tags)"
   ]
  },
  {
   "cell_type": "code",
   "execution_count": 13,
   "metadata": {
    "ExecuteTime": {
     "end_time": "2021-08-17T02:45:14.393319Z",
     "start_time": "2021-08-17T02:45:14.389078Z"
    },
    "execution": {
     "iopub.execute_input": "2021-08-14T15:18:24.043401Z",
     "iopub.status.busy": "2021-08-14T15:18:24.043001Z",
     "iopub.status.idle": "2021-08-14T15:18:24.047644Z",
     "shell.execute_reply": "2021-08-14T15:18:24.046540Z",
     "shell.execute_reply.started": "2021-08-14T15:18:24.043369Z"
    }
   },
   "outputs": [],
   "source": [
    "seed(1)\n",
    "tf.random.set_seed(2)"
   ]
  },
  {
   "cell_type": "code",
   "execution_count": 14,
   "metadata": {
    "ExecuteTime": {
     "end_time": "2021-08-17T02:45:14.401570Z",
     "start_time": "2021-08-17T02:45:14.395655Z"
    },
    "execution": {
     "iopub.execute_input": "2021-08-14T15:21:04.028388Z",
     "iopub.status.busy": "2021-08-14T15:21:04.028010Z",
     "iopub.status.idle": "2021-08-14T15:21:04.037314Z",
     "shell.execute_reply": "2021-08-14T15:21:04.036221Z",
     "shell.execute_reply.started": "2021-08-14T15:21:04.028356Z"
    }
   },
   "outputs": [],
   "source": [
    "def get_bilstm_lstm_model():\n",
    "    model = Sequential()\n",
    "    model.add(Embedding(input_dim=input_dim, output_dim=output_dim, input_length=input_length))\n",
    "    model.add(Bidirectional(LSTM(units=output_dim, return_sequences=True, dropout=0.2, recurrent_dropout=0.2), merge_mode = 'concat'))\n",
    "    model.add(LSTM(units=output_dim, return_sequences=True, dropout=0.5, recurrent_dropout=0.5))\n",
    "    model.add(TimeDistributed(Dense(n_tags, activation=\"relu\")))\n",
    "    model.compile(loss='categorical_crossentropy', optimizer='adam', metrics=['accuracy'])\n",
    "    model.summary()\n",
    "    return model"
   ]
  },
  {
   "cell_type": "code",
   "execution_count": 15,
   "metadata": {
    "ExecuteTime": {
     "end_time": "2021-08-17T02:45:15.483295Z",
     "start_time": "2021-08-17T02:45:14.404104Z"
    },
    "execution": {
     "iopub.execute_input": "2021-08-14T15:21:29.358689Z",
     "iopub.status.busy": "2021-08-14T15:21:29.358304Z",
     "iopub.status.idle": "2021-08-14T15:21:29.755537Z",
     "shell.execute_reply": "2021-08-14T15:21:29.754545Z",
     "shell.execute_reply.started": "2021-08-14T15:21:29.358653Z"
    }
   },
   "outputs": [
    {
     "name": "stdout",
     "output_type": "stream",
     "text": [
      "WARNING:tensorflow:Layer lstm will not use cuDNN kernels since it doesn't meet the criteria. It will use a generic GPU kernel as fallback when running on GPU.\n",
      "WARNING:tensorflow:Layer lstm will not use cuDNN kernels since it doesn't meet the criteria. It will use a generic GPU kernel as fallback when running on GPU.\n",
      "WARNING:tensorflow:Layer lstm will not use cuDNN kernels since it doesn't meet the criteria. It will use a generic GPU kernel as fallback when running on GPU.\n",
      "WARNING:tensorflow:Layer lstm_1 will not use cuDNN kernels since it doesn't meet the criteria. It will use a generic GPU kernel as fallback when running on GPU.\n",
      "Model: \"sequential\"\n",
      "_________________________________________________________________\n",
      "Layer (type)                 Output Shape              Param #   \n",
      "=================================================================\n",
      "embedding (Embedding)        (None, 104, 32)           1125728   \n",
      "_________________________________________________________________\n",
      "bidirectional (Bidirectional (None, 104, 64)           16640     \n",
      "_________________________________________________________________\n",
      "lstm_1 (LSTM)                (None, 104, 32)           12416     \n",
      "_________________________________________________________________\n",
      "time_distributed (TimeDistri (None, 104, 17)           561       \n",
      "=================================================================\n",
      "Total params: 1,155,345\n",
      "Trainable params: 1,155,345\n",
      "Non-trainable params: 0\n",
      "_________________________________________________________________\n"
     ]
    }
   ],
   "source": [
    "def train_model(X, y, model):\n",
    "    loss = list()\n",
    "    for _ in range(25):\n",
    "        # fit model for one epoch on this sequence\n",
    "        hist = model.fit(X, y, batch_size=1000, verbose=1, epochs=1, validation_split=0.2)\n",
    "        loss.append(hist.history['loss'][0])\n",
    "    return loss\n",
    "model_bilstm_lstm = get_bilstm_lstm_model()\n"
   ]
  },
  {
   "cell_type": "code",
   "execution_count": 16,
   "metadata": {
    "ExecuteTime": {
     "end_time": "2021-08-17T02:45:15.621342Z",
     "start_time": "2021-08-17T02:45:15.485843Z"
    },
    "execution": {
     "iopub.status.busy": "2021-08-14T15:21:04.530577Z",
     "iopub.status.idle": "2021-08-14T15:21:04.531004Z"
    }
   },
   "outputs": [
    {
     "data": {
      "image/png": "[encoded data removed]",
      "text/plain": [
       "<IPython.core.display.Image object>"
      ]
     },
     "execution_count": 16,
     "metadata": {},
     "output_type": "execute_result"
    }
   ],
   "source": [
    "plot_model(model_bilstm_lstm)"
   ]
  },
  {
   "cell_type": "code",
   "execution_count": 17,
   "metadata": {
    "ExecuteTime": {
     "end_time": "2021-08-17T03:07:01.778427Z",
     "start_time": "2021-08-17T02:45:15.624036Z"
    },
    "execution": {
     "iopub.execute_input": "2021-08-14T15:21:32.201266Z",
     "iopub.status.busy": "2021-08-14T15:21:32.200876Z",
     "iopub.status.idle": "2021-08-14T15:39:44.439398Z",
     "shell.execute_reply": "2021-08-14T15:39:44.438434Z",
     "shell.execute_reply.started": "2021-08-14T15:21:32.201235Z"
    }
   },
   "outputs": [
    {
     "name": "stdout",
     "output_type": "stream",
     "text": [
      "35/35 [==============================] - 61s 2s/step - loss: 0.7909 - accuracy: 0.9217 - val_loss: 0.2987 - val_accuracy: 0.9679\n",
      "35/35 [==============================] - 52s 1s/step - loss: 0.3082 - accuracy: 0.9677 - val_loss: 0.2725 - val_accuracy: 0.9679\n",
      "35/35 [==============================] - 52s 1s/step - loss: 0.2692 - accuracy: 0.9677 - val_loss: 0.2389 - val_accuracy: 0.9679\n",
      "35/35 [==============================] - 52s 1s/step - loss: 0.2635 - accuracy: 0.9677 - val_loss: 0.2496 - val_accuracy: 0.9679\n",
      "35/35 [==============================] - 52s 1s/step - loss: 0.2441 - accuracy: 0.9677 - val_loss: 0.2195 - val_accuracy: 0.9679\n",
      "35/35 [==============================] - 52s 1s/step - loss: 0.2242 - accuracy: 0.9678 - val_loss: 0.2101 - val_accuracy: 0.9679\n",
      "35/35 [==============================] - 52s 1s/step - loss: 0.2115 - accuracy: 0.9678 - val_loss: 0.2021 - val_accuracy: 0.9679\n",
      "35/35 [==============================] - 51s 1s/step - loss: 0.2031 - accuracy: 0.9678 - val_loss: 0.1958 - val_accuracy: 0.9679\n",
      "35/35 [==============================] - 52s 1s/step - loss: 0.1991 - accuracy: 0.9678 - val_loss: 0.1936 - val_accuracy: 0.9679\n",
      "35/35 [==============================] - 52s 1s/step - loss: 0.1917 - accuracy: 0.9678 - val_loss: 0.1937 - val_accuracy: 0.9679\n",
      "35/35 [==============================] - 51s 1s/step - loss: 0.1870 - accuracy: 0.9679 - val_loss: 0.1862 - val_accuracy: 0.9680\n",
      "35/35 [==============================] - 52s 1s/step - loss: 0.1824 - accuracy: 0.9679 - val_loss: 0.1860 - val_accuracy: 0.9680\n",
      "35/35 [==============================] - 52s 1s/step - loss: 0.1797 - accuracy: 0.9680 - val_loss: 0.1842 - val_accuracy: 0.9681\n",
      "35/35 [==============================] - 51s 1s/step - loss: 0.1770 - accuracy: 0.9680 - val_loss: 0.1817 - val_accuracy: 0.9681\n",
      "35/35 [==============================] - 52s 1s/step - loss: 0.1752 - accuracy: 0.9681 - val_loss: 0.1801 - val_accuracy: 0.9682\n",
      "35/35 [==============================] - 52s 1s/step - loss: 0.1759 - accuracy: 0.9682 - val_loss: 0.1847 - val_accuracy: 0.9681\n",
      "35/35 [==============================] - 52s 1s/step - loss: 0.1718 - accuracy: 0.9683 - val_loss: 0.1753 - val_accuracy: 0.9683\n",
      "35/35 [==============================] - 52s 1s/step - loss: 0.1532 - accuracy: 0.9681 - val_loss: 0.1402 - val_accuracy: 0.9678\n",
      "35/35 [==============================] - 52s 1s/step - loss: 0.1757 - accuracy: 0.9682 - val_loss: 0.1527 - val_accuracy: 0.9685\n",
      "35/35 [==============================] - 52s 1s/step - loss: 0.1462 - accuracy: 0.9681 - val_loss: 0.1445 - val_accuracy: 0.9682\n",
      "35/35 [==============================] - 52s 1s/step - loss: 0.3062 - accuracy: 0.9246 - val_loss: 0.1808 - val_accuracy: 0.9671\n",
      "35/35 [==============================] - 52s 1s/step - loss: 0.1555 - accuracy: 0.9670 - val_loss: 0.1436 - val_accuracy: 0.9676\n",
      "35/35 [==============================] - 52s 1s/step - loss: 0.1357 - accuracy: 0.9672 - val_loss: 0.1344 - val_accuracy: 0.9677\n",
      "35/35 [==============================] - 52s 1s/step - loss: 0.1284 - accuracy: 0.9675 - val_loss: 0.1320 - val_accuracy: 0.9679\n",
      "35/35 [==============================] - 52s 1s/step - loss: 0.1244 - accuracy: 0.9677 - val_loss: 0.1280 - val_accuracy: 0.9679\n"
     ]
    }
   ],
   "source": [
    "results = pd.DataFrame()\n",
    "results['with_add_lstm'] = train_model(train_tokens, np.array(train_tags), model_bilstm_lstm)"
   ]
  },
  {
   "cell_type": "code",
   "execution_count": 19,
   "metadata": {
    "ExecuteTime": {
     "end_time": "2021-08-17T03:55:22.776768Z",
     "start_time": "2021-08-17T03:55:22.603035Z"
    },
    "execution": {
     "iopub.execute_input": "2021-08-14T15:41:05.556957Z",
     "iopub.status.busy": "2021-08-14T15:41:05.556416Z",
     "iopub.status.idle": "2021-08-14T15:41:05.763631Z",
     "shell.execute_reply": "2021-08-14T15:41:05.762802Z",
     "shell.execute_reply.started": "2021-08-14T15:41:05.556922Z"
    }
   },
   "outputs": [
    {
     "data": {
      "text/plain": [
       "Text(0, 0.5, 'Loss')"
      ]
     },
     "execution_count": 19,
     "metadata": {},
     "output_type": "execute_result"
    },
    {
     "data": {
      "image/png": "[encoded data removed]",
      "text/plain": [
       "<Figure size 432x288 with 1 Axes>"
      ]
     },
     "metadata": {
      "needs_background": "light"
     },
     "output_type": "display_data"
    }
   ],
   "source": [
    "plt.plot(results['with_add_lstm'])\n",
    "plt.xlabel('Epochs')\n",
    "plt.ylabel('Loss')"
   ]
  },
  {
   "cell_type": "code",
   "execution_count": 146,
   "metadata": {
    "ExecuteTime": {
     "end_time": "2021-08-17T05:34:06.124434Z",
     "start_time": "2021-08-17T05:34:06.118236Z"
    }
   },
   "outputs": [
    {
     "name": "stdout",
     "output_type": "stream",
     "text": [
      "[['His', 'Soviet-backed', 'Sandinista', 'government', 'also', 'fought', 'a', 'lengthy', 'war', 'against', 'U.S.-backed', 'Contra', 'rebels', '.'], ['The', 'Sri', 'Lankan', 'government', 'has', 'blamed', 'the', 'group', 'for', 'his', 'assassination', ',', 'a', 'charge', 'denied', 'by', 'the', 'Tamil', 'Tigers', '.'], ['He', 'was', 'fired', 'last', 'month', 'by', 'President', 'Olusegun', 'Obasanjo', 'during', 'a', 'televised', 'address', 'to', 'the', 'nation', '.'], ['They', 'are', 'the', 'first', 'reported', 'in', 'Burma', 'since', 'March', '2006', '.'], ['Fidel', 'Castro', 'has', 'not', 'been', 'seen', 'in', 'public', 'since', 'July', '2006', 'when', 'he', 'underwent', 'intestinal', 'surgery', '.']]\n",
      "[['O', 'O', 'O', 'O', 'O', 'O', 'O', 'O', 'O', 'O', 'O', 'O', 'O', 'O'], ['O', 'B-org', 'I-org', 'O', 'O', 'O', 'O', 'O', 'O', 'O', 'O', 'O', 'O', 'O', 'O', 'O', 'O', 'B-org', 'I-org', 'O'], ['O', 'O', 'O', 'O', 'O', 'O', 'B-per', 'I-per', 'I-per', 'O', 'O', 'O', 'O', 'O', 'O', 'O', 'O'], ['O', 'O', 'O', 'O', 'O', 'O', 'B-geo', 'B-tim', 'I-tim', 'I-tim', 'O'], ['B-per', 'I-per', 'O', 'O', 'O', 'O', 'O', 'O', 'B-tim', 'I-tim', 'I-tim', 'O', 'O', 'O', 'O', 'O', 'O']]\n"
     ]
    }
   ],
   "source": [
    "sample_data = data_group.sample(5)\n",
    "sentences = [words for words in sample_data['Word']]\n",
    "tags = [tags for tags in sample_data['Tag']]\n",
    "print(sentences)\n",
    "print(tags)"
   ]
  },
  {
   "cell_type": "code",
   "execution_count": 147,
   "metadata": {
    "ExecuteTime": {
     "end_time": "2021-08-17T05:34:12.756410Z",
     "start_time": "2021-08-17T05:34:12.642658Z"
    }
   },
   "outputs": [],
   "source": [
    "n_token = len(list(set(data['Word'].to_list())))\n",
    "n_tag = len(list(set(data['Tag'].to_list())))\n",
    "maxlen = max([len(s) for s in data_group['Word_idx'].tolist()])"
   ]
  },
  {
   "cell_type": "code",
   "execution_count": 148,
   "metadata": {
    "ExecuteTime": {
     "end_time": "2021-08-17T05:34:14.615466Z",
     "start_time": "2021-08-17T05:34:13.557111Z"
    }
   },
   "outputs": [
    {
     "name": "stdout",
     "output_type": "stream",
     "text": [
      "--------------------------------------------------\n",
      "words = ['His', 'Soviet-backed', 'Sandinista', 'government', 'also', 'fought', 'a', 'lengthy', 'war', 'against', 'U.S.-backed', 'Contra', 'rebels', '.']\n",
      "tag = ['O', 'O', 'O', 'O', 'O', 'O', 'O', 'O', 'O', 'O', 'O', 'O', 'O', 'O']\n",
      "[('His', 'O', 'O'), ('Soviet-backed', 'O', 'O'), ('Sandinista', 'O', 'O'), ('government', 'O', 'O'), ('also', 'O', 'O'), ('fought', 'O', 'O'), ('a', 'O', 'O'), ('lengthy', 'O', 'O'), ('war', 'O', 'O'), ('against', 'O', 'O'), ('U.S.-backed', 'O', 'O'), ('Contra', 'O', 'O'), ('rebels', 'O', 'O'), ('.', 'O', 'O')]\n",
      "--------------------------------------------------\n",
      "words = ['The', 'Sri', 'Lankan', 'government', 'has', 'blamed', 'the', 'group', 'for', 'his', 'assassination', ',', 'a', 'charge', 'denied', 'by', 'the', 'Tamil', 'Tigers', '.']\n",
      "tag = ['O', 'B-org', 'I-org', 'O', 'O', 'O', 'O', 'O', 'O', 'O', 'O', 'O', 'O', 'O', 'O', 'O', 'O', 'B-org', 'I-org', 'O']\n",
      "[('The', 'O', 'B-org'), ('Sri', 'B-org', 'B-org'), ('Lankan', 'I-org', 'O'), ('government', 'O', 'O'), ('has', 'O', 'O'), ('blamed', 'O', 'O'), ('the', 'O', 'O'), ('group', 'O', 'O'), ('for', 'O', 'O'), ('his', 'O', 'O'), ('assassination', 'O', 'O'), (',', 'O', 'O'), ('a', 'O', 'O'), ('charge', 'O', 'O'), ('denied', 'O', 'O'), ('by', 'O', 'O'), ('the', 'O', 'O'), ('Tamil', 'B-org', 'O'), ('Tigers', 'I-org', 'O'), ('.', 'O', 'O')]\n",
      "--------------------------------------------------\n",
      "words = ['He', 'was', 'fired', 'last', 'month', 'by', 'President', 'Olusegun', 'Obasanjo', 'during', 'a', 'televised', 'address', 'to', 'the', 'nation', '.']\n",
      "tag = ['O', 'O', 'O', 'O', 'O', 'O', 'B-per', 'I-per', 'I-per', 'O', 'O', 'O', 'O', 'O', 'O', 'O', 'O']\n",
      "[('He', 'O', 'O'), ('was', 'O', 'O'), ('fired', 'O', 'O'), ('last', 'O', 'O'), ('month', 'O', 'O'), ('by', 'O', 'O'), ('President', 'B-per', 'O'), ('Olusegun', 'I-per', 'O'), ('Obasanjo', 'I-per', 'O'), ('during', 'O', 'O'), ('a', 'O', 'O'), ('televised', 'O', 'O'), ('address', 'O', 'O'), ('to', 'O', 'O'), ('the', 'O', 'O'), ('nation', 'O', 'O'), ('.', 'O', 'O')]\n",
      "--------------------------------------------------\n",
      "words = ['They', 'are', 'the', 'first', 'reported', 'in', 'Burma', 'since', 'March', '2006', '.']\n",
      "tag = ['O', 'O', 'O', 'O', 'O', 'O', 'B-geo', 'B-tim', 'I-tim', 'I-tim', 'O']\n",
      "[('They', 'O', 'O'), ('are', 'O', 'O'), ('the', 'O', 'O'), ('first', 'O', 'O'), ('reported', 'O', 'O'), ('in', 'O', 'O'), ('Burma', 'B-geo', 'O'), ('since', 'B-tim', 'O'), ('March', 'I-tim', 'O'), ('2006', 'I-tim', 'O'), ('.', 'O', 'O')]\n",
      "--------------------------------------------------\n",
      "words = ['Fidel', 'Castro', 'has', 'not', 'been', 'seen', 'in', 'public', 'since', 'July', '2006', 'when', 'he', 'underwent', 'intestinal', 'surgery', '.']\n",
      "tag = ['B-per', 'I-per', 'O', 'O', 'O', 'O', 'O', 'O', 'B-tim', 'I-tim', 'I-tim', 'O', 'O', 'O', 'O', 'O', 'O']\n",
      "[('Fidel', 'B-per', 'O'), ('Castro', 'I-per', 'O'), ('has', 'O', 'O'), ('not', 'O', 'O'), ('been', 'O', 'O'), ('seen', 'O', 'O'), ('in', 'O', 'O'), ('public', 'O', 'O'), ('since', 'B-tim', 'O'), ('July', 'I-tim', 'O'), ('2006', 'I-tim', 'O'), ('when', 'O', 'O'), ('he', 'O', 'O'), ('underwent', 'O', 'O'), ('intestinal', 'O', 'O'), ('surgery', 'O', 'O'), ('.', 'O', 'O')]\n"
     ]
    }
   ],
   "source": [
    "def predict(model, words, tags, token2idx=token2idx, idx2tag=idx2tag):\n",
    "    tokens = np.array([[token2idx[token] for token in words]])\n",
    "    tokens = pad_sequences(tokens, maxlen=maxlen, dtype='int32', padding='post', value= n_token - 1)\n",
    "    predictions = model.predict(tokens)\n",
    "    predict_tag_ids = predictions[0].argmax(axis=-1)\n",
    "    predict_tags = [idx2tag[tag_id] for tag_id in predict_tag_ids]\n",
    "    results = [(word, tag, predict_tags)for word, tag, predict_tags in zip(words, tags, predict_tags)]\n",
    "    print(results)\n",
    "    \n",
    "# predict(model_bilstm_lstm, sentences[2], tags[2])        \n",
    "for words, tag in zip(sentences, tags):\n",
    "    print('-'*50)\n",
    "    print(f'words = {words}')\n",
    "    print(f'tag = {tag}')\n",
    "    predict(model_bilstm_lstm, words, tag)"
   ]
  },
  {
   "cell_type": "markdown",
   "metadata": {},
   "source": [
    "从上面的结果来看，效果非常不好啊。"
   ]
  },
  {
   "cell_type": "code",
   "execution_count": 28,
   "metadata": {
    "ExecuteTime": {
     "end_time": "2021-08-17T03:59:26.512259Z",
     "start_time": "2021-08-17T03:59:25.856471Z"
    },
    "execution": {
     "iopub.execute_input": "2021-08-14T15:41:05.765882Z",
     "iopub.status.busy": "2021-08-14T15:41:05.765463Z",
     "iopub.status.idle": "2021-08-14T15:41:07.502702Z",
     "shell.execute_reply": "2021-08-14T15:41:07.501672Z",
     "shell.execute_reply.started": "2021-08-14T15:41:05.765840Z"
    }
   },
   "outputs": [],
   "source": [
    "nlp = spacy.load('en_core_web_sm')"
   ]
  },
  {
   "cell_type": "code",
   "execution_count": 149,
   "metadata": {
    "ExecuteTime": {
     "end_time": "2021-08-17T05:44:11.674699Z",
     "start_time": "2021-08-17T05:44:11.661380Z"
    },
    "execution": {
     "iopub.execute_input": "2021-08-14T15:41:07.504671Z",
     "iopub.status.busy": "2021-08-14T15:41:07.504393Z",
     "iopub.status.idle": "2021-08-14T15:41:07.562048Z",
     "shell.execute_reply": "2021-08-14T15:41:07.561200Z",
     "shell.execute_reply.started": "2021-08-14T15:41:07.504644Z"
    }
   },
   "outputs": [],
   "source": [
    "note = 'Jim bought 300 shares of Acme Corp. in 2006. And producing an annotated block of text that \\\n",
    "    highlights the names of entities: [Jim]Person bought 300 shares of \\\n",
    "    [Acme Corp.]Organization in [2006]Time. In this example, a person name consisting \\\n",
    "    of one token, a two-token company name and a temporal expression have been detected \\\n",
    "    and classified.State-of-the-art NER systems for English produce near-human performance. \\\n",
    "    For example, the best system entering MUC-7 scored 93.39% of F-measure while human \\\n",
    "    annotators scored 97.60% and 96.95%.[1][2]'\n",
    "note = 'Please order qty 1 J7Z09-67965 and qty 1 J7Z09-67970 NBD to my HAL in Lenexa.  Thank you.'\n",
    "text = nlp(note) "
   ]
  },
  {
   "cell_type": "code",
   "execution_count": 150,
   "metadata": {
    "ExecuteTime": {
     "end_time": "2021-08-17T05:44:12.532796Z",
     "start_time": "2021-08-17T05:44:12.528885Z"
    }
   },
   "outputs": [
    {
     "data": {
      "text/plain": [
       "Please order qty 1 J7Z09-67965 and qty 1 J7Z09-67970 NBD to my HAL in Lenexa.  Thank you."
      ]
     },
     "execution_count": 150,
     "metadata": {},
     "output_type": "execute_result"
    }
   ],
   "source": [
    "text"
   ]
  },
  {
   "cell_type": "code",
   "execution_count": 151,
   "metadata": {
    "ExecuteTime": {
     "end_time": "2021-08-17T05:44:13.735352Z",
     "start_time": "2021-08-17T05:44:13.731595Z"
    },
    "execution": {
     "iopub.execute_input": "2021-08-14T15:41:07.563651Z",
     "iopub.status.busy": "2021-08-14T15:41:07.563387Z",
     "iopub.status.idle": "2021-08-14T15:41:07.571960Z",
     "shell.execute_reply": "2021-08-14T15:41:07.571019Z",
     "shell.execute_reply.started": "2021-08-14T15:41:07.563626Z"
    }
   },
   "outputs": [
    {
     "name": "stdout",
     "output_type": "stream",
     "text": [
      "1 J7Z09-67965 DATE\n",
      "1 J7Z09-67970 DATE\n",
      "Lenexa GPE\n"
     ]
    }
   ],
   "source": [
    "for w in text.ents:\n",
    "    print(w.text, w.label_)"
   ]
  },
  {
   "cell_type": "code",
   "execution_count": 152,
   "metadata": {
    "ExecuteTime": {
     "end_time": "2021-08-17T05:44:40.575023Z",
     "start_time": "2021-08-17T05:44:40.570483Z"
    },
    "execution": {
     "iopub.execute_input": "2021-08-14T15:41:07.573502Z",
     "iopub.status.busy": "2021-08-14T15:41:07.573240Z",
     "iopub.status.idle": "2021-08-14T15:41:07.582110Z",
     "shell.execute_reply": "2021-08-14T15:41:07.581115Z",
     "shell.execute_reply.started": "2021-08-14T15:41:07.573476Z"
    }
   },
   "outputs": [
    {
     "data": {
      "text/html": [
       "<span class=\"tex2jax_ignore\"><div class=\"entities\" style=\"line-height: 2.5; direction: ltr\">Please order qty \n",
       "<mark class=\"entity\" style=\"background: #bfe1d9; padding: 0.45em 0.6em; margin: 0 0.25em; line-height: 1; border-radius: 0.35em;\">\n",
       "    1 J7Z09-67965\n",
       "    <span style=\"font-size: 0.8em; font-weight: bold; line-height: 1; border-radius: 0.35em; vertical-align: middle; margin-left: 0.5rem\">DATE</span>\n",
       "</mark>\n",
       " and qty \n",
       "<mark class=\"entity\" style=\"background: #bfe1d9; padding: 0.45em 0.6em; margin: 0 0.25em; line-height: 1; border-radius: 0.35em;\">\n",
       "    1 J7Z09-67970\n",
       "    <span style=\"font-size: 0.8em; font-weight: bold; line-height: 1; border-radius: 0.35em; vertical-align: middle; margin-left: 0.5rem\">DATE</span>\n",
       "</mark>\n",
       " NBD to my HAL in \n",
       "<mark class=\"entity\" style=\"background: #feca74; padding: 0.45em 0.6em; margin: 0 0.25em; line-height: 1; border-radius: 0.35em;\">\n",
       "    Lenexa\n",
       "    <span style=\"font-size: 0.8em; font-weight: bold; line-height: 1; border-radius: 0.35em; vertical-align: middle; margin-left: 0.5rem\">GPE</span>\n",
       "</mark>\n",
       ".  Thank you.</div></span>"
      ],
      "text/plain": [
       "<IPython.core.display.HTML object>"
      ]
     },
     "metadata": {},
     "output_type": "display_data"
    }
   ],
   "source": [
    "displacy.render(text, style = 'ent', jupyter=True)"
   ]
  },
  {
   "cell_type": "code",
   "execution_count": 33,
   "metadata": {
    "ExecuteTime": {
     "end_time": "2021-08-17T04:00:33.169074Z",
     "start_time": "2021-08-17T04:00:33.165188Z"
    },
    "execution": {
     "iopub.execute_input": "2021-08-14T15:41:07.583815Z",
     "iopub.status.busy": "2021-08-14T15:41:07.583519Z",
     "iopub.status.idle": "2021-08-14T15:41:07.592491Z",
     "shell.execute_reply": "2021-08-14T15:41:07.591507Z",
     "shell.execute_reply.started": "2021-08-14T15:41:07.583786Z"
    }
   },
   "outputs": [
    {
     "data": {
      "text/plain": [
       "'Numerals that do not fall under another type'"
      ]
     },
     "execution_count": 33,
     "metadata": {},
     "output_type": "execute_result"
    }
   ],
   "source": [
    "spacy.explain('CARDINAL')"
   ]
  },
  {
   "cell_type": "code",
   "execution_count": null,
   "metadata": {},
   "outputs": [],
   "source": []
  }
 ],
 "metadata": {
  "kernelspec": {
   "display_name": "Python 3",
   "language": "python",
   "name": "python3"
  },
  "language_info": {
   "codemirror_mode": {
    "name": "ipython",
    "version": 3
   },
   "file_extension": ".py",
   "mimetype": "text/x-python",
   "name": "python",
   "nbconvert_exporter": "python",
   "pygments_lexer": "ipython3",
   "version": "3.6.9"
  },
  "toc": {
   "base_numbering": 1,
   "nav_menu": {},
   "number_sections": true,
   "sideBar": true,
   "skip_h1_title": false,
   "title_cell": "Table of Contents",
   "title_sidebar": "Contents",
   "toc_cell": false,
   "toc_position": {},
   "toc_section_display": true,
   "toc_window_display": true
  }
 },
 "nbformat": 4,
 "nbformat_minor": 4
}
