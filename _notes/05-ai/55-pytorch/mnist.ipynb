{
 "cells": [
  {
   "cell_type": "markdown",
   "metadata": {},
   "source": [
    "---\n",
    "title: MNIST\n",
    "categories: deep-learning\n",
    "date: 2020-10-26\n",
    "---\n",
    "[MNIST](https://eipi10.cn/others/2020/10/22/dataset/)（Mixed National Institute of Standards and Technology）数据集是著名的手写数字数据集，被誉为数据科学领域的`果蝇`。本文使用pytorch和tensorflow实现对MNIST数据集进行分类，先从经典神经网络开始，然后使用LeNet，最后还尝试了用相同的算法对[Fashion MNIST](https://eipi10.cn/others/2020/10/22/dataset/#fashion-mnist)数据集进行分类。\n",
    "\n",
    "## 经典神经网络\n",
    "\n",
    "首先，尝试用经典的神经网络来进行分类。\n",
    "\n",
    "### pytorch"
   ]
  },
  {
   "cell_type": "code",
   "execution_count": 14,
   "metadata": {},
   "outputs": [],
   "source": [
    "import logging\n",
    "import matplotlib.pyplot as plt\n",
    "import numpy as np\n",
    "import os\n",
    "import sys\n",
    "import time\n",
    "import torch\n",
    "import torchvision\n",
    "import torch.nn.functional as F\n",
    "from torch import nn, optim\n",
    "from torch.utils.data import DataLoader\n",
    "from torchvision import transforms\n",
    "from torchvision import datasets\n",
    "\n",
    "logging.basicConfig(format='%(asctime)s: %(levelname)s: %(message)s')\n",
    "logging.root.setLevel(level=logging.INFO)\n",
    "\n",
    "\n",
    "class TaskTime:\n",
    "    def __init__(self, task_name, show_start=False):\n",
    "        self.show_start = show_start\n",
    "        self.task_name = task_name\n",
    "        self.start_time = time.time()\n",
    "\n",
    "    def elapsed_time(self):\n",
    "        return time.time()-self.start_time\n",
    "\n",
    "    def __enter__(self):\n",
    "        if self.show_start:\n",
    "            logging.info('start {}'.format(self.task_name))\n",
    "        return self;\n",
    "\n",
    "    def __exit__(self, exc_type, exc_value, exc_tb):\n",
    "        time.sleep(0.5)\n",
    "        logging.info('finish {} [elapsed time: {:.2f} seconds]'.format(self.task_name, self.elapsed_time()))\n",
    "\n",
    "    \n",
    "def compute_loss_accuarcy(net, loader, criterion, use_cuda=False, max_load_times=0):\n",
    "    num_correct = 0\n",
    "    total = 0\n",
    "    total_loss = 0\n",
    "    with torch.no_grad():\n",
    "        for i, data in enumerate(loader):\n",
    "            if max_load_times>0 and i>=max_load_times: break\n",
    "            inputs, labels = data\n",
    "            _, loss, correct = forward(net, inputs, labels, criterion, use_cuda) \n",
    "            total += labels.size(0)\n",
    "            total_loss += loss*labels.size(0)\n",
    "            num_correct += correct    \n",
    "\n",
    "    return total_loss/total, num_correct/total\n",
    "\n",
    "def forward(net, inputs, labels, criterion, use_cuda=False):   \n",
    "    if use_cuda and  torch.cuda.is_available(): \n",
    "        net = net.cuda()\n",
    "        criterion = criterion.cuda()\n",
    "        inputs = inputs.cuda()\n",
    "        labels = labels.cuda()\n",
    "    outputs = net(inputs)\n",
    "    loss = criterion(outputs, labels)   \n",
    "    _, predicted = torch.max(outputs.data, 1)\n",
    "    num_correct = (predicted == labels).sum().item()\n",
    "    num_total = labels.size(0)     \n",
    "    return outputs, loss, num_correct        \n",
    "    \n",
    "def train(net, criterion, optimizer, trainloader, validationloader, epochs=2, use_cuda=False):  \n",
    "        \n",
    "    train_loss_list = []\n",
    "    train_accuracy_list = []\n",
    "    val_loss_list = []\n",
    "    val_accuracy_list = []      \n",
    "    \n",
    "    for epoch in range(epochs):         \n",
    "        train_loss = 0.0\n",
    "        train_num_correct = 0\n",
    "        train_total = 0                   \n",
    "        \n",
    "        for i, data in enumerate(trainloader, 0):\n",
    "            inputs, labels = data   \n",
    "            # 正向传播\n",
    "            _, loss, correct = forward(net, inputs, labels, criterion, use_cuda)  \n",
    "            \n",
    "            train_loss += loss.item()*labels.size(0)\n",
    "            train_num_correct += correct\n",
    "            train_total += labels.size(0)     \n",
    "            \n",
    "            # 反向传播\n",
    "            optimizer.zero_grad()\n",
    "            loss.backward()\n",
    "            optimizer.step()\n",
    "                        \n",
    "            if i % 50 == 49:        \n",
    "                sys.stdout.write('\\r[epoch %2d/%d %5d] loss: %.3f, accuracy: %.3f' % \n",
    "                                  (epoch + 1, epochs, i+1, train_loss/train_total, train_num_correct/train_total))                \n",
    "                train_loss = 0.0\n",
    "                train_num_correct = 0\n",
    "                train_total = 0                   \n",
    "                                                                                \n",
    "        train_loss, train_accuracy = compute_loss_accuarcy(net, trainloader, criterion, \n",
    "                                                           use_cuda=True, max_load_times=50)   \n",
    "        val_loss, val_accuracy = compute_loss_accuarcy(net, validationloader, criterion, \n",
    "                                                       use_cuda=True, max_load_times=50)\n",
    "        \n",
    "        train_loss_list.append(train_loss)\n",
    "        train_accuracy_list.append(train_accuracy)\n",
    "        val_loss_list.append(val_loss)\n",
    "        val_accuracy_list.append(val_accuracy)         \n",
    "        \n",
    "        sys.stdout.write('\\r[epoch %2d/%d] loss: %.3f, accuracy: %.3f, val_loss: %.3f, val_accuracy: %.3f \\n' %\n",
    "                          (epoch + 1, epochs, train_loss, train_accuracy, val_loss, val_accuracy))\n",
    "         \n",
    "\n",
    "    return train_loss_list, train_accuracy_list, val_loss_list, val_accuracy_list\n",
    "                \n",
    "class NN(nn.Module):\n",
    "    def __init__(self, in_dim=1, n_class=10, p=0.2):\n",
    "        super(NN, self).__init__()    \n",
    "\n",
    "        self.fc1 = nn.Linear(28*28, 128)  \n",
    "        self.fc2 = nn.Linear(128, n_class)\n",
    "        \n",
    "        self.drop_layer = nn.Dropout(p=p)\n",
    "          \n",
    "    def forward(self, x):\n",
    "        x = x.view(x.size()[0], -1)\n",
    "        x = F.relu(self.fc1(x))\n",
    "        x = self.drop_layer(x)\n",
    "        x = self.fc2(x)\n",
    "        return x"
   ]
  },
  {
   "cell_type": "markdown",
   "metadata": {},
   "source": [
    "下面是数据加载的代码。"
   ]
  },
  {
   "cell_type": "code",
   "execution_count": 4,
   "metadata": {},
   "outputs": [
    {
     "name": "stderr",
     "output_type": "stream",
     "text": [
      "2020-11-01 07:39:26,900: INFO: start 获取数据\n",
      "2020-11-01 07:39:27,431: INFO: finish 获取数据 [elapsed time: 0.53 seconds]\n",
      "2020-11-01 07:39:27,432: INFO: start 显示图片示例\n"
     ]
    },
    {
     "name": "stdout",
     "output_type": "stream",
     "text": [
      "torch.Size([32, 1, 28, 28])\n",
      "    9     8     3     2     8     1     8     5\n"
     ]
    },
    {
     "data": {
      "image/png": "[encoded data removed]",
      "text/plain": [
       "<Figure size 864x108 with 1 Axes>"
      ]
     },
     "metadata": {
      "needs_background": "light"
     },
     "output_type": "display_data"
    },
    {
     "name": "stderr",
     "output_type": "stream",
     "text": [
      "2020-11-01 07:39:28,150: INFO: finish 显示图片示例 [elapsed time: 0.72 seconds]\n"
     ]
    }
   ],
   "source": [
    "def torch_mnist_extract_data(dataset='mnist', classes=None):\n",
    "    with TaskTime('获取数据', True):\n",
    "        transform = transforms.Compose(\n",
    "            [transforms.ToTensor(),\n",
    "             transforms.Normalize(mean=(0.5), std=(0.5))])\n",
    "        data_path = os.path.join(os.path.expanduser('~'), '.pytorch/datasets') \n",
    "        if not os.path.exists(data_path): os.makedirs(data_path)\n",
    "        if dataset=='mnist':\n",
    "            trainset = torchvision.datasets.MNIST(root=os.path.join(data_path, dataset), train=True,\n",
    "                                                  download=True, transform=transform)\n",
    "            trainloader = torch.utils.data.DataLoader(trainset, batch_size=32,\n",
    "                                                      shuffle=True, num_workers=2)\n",
    "\n",
    "            testset = torchvision.datasets.MNIST(root=os.path.join(data_path, dataset), train=False,\n",
    "                                                 download=True, transform=transform)\n",
    "            testloader = torch.utils.data.DataLoader(testset, batch_size=32,\n",
    "                                                     shuffle=False, num_workers=2)\n",
    "        else:\n",
    "            trainset = torchvision.datasets.FashionMNIST(root=os.path.join(data_path, dataset), train=True,\n",
    "                                                          download=True, transform=transform)\n",
    "            trainloader = torch.utils.data.DataLoader(trainset, batch_size=32,\n",
    "                                                      shuffle=True, num_workers=2)\n",
    "\n",
    "            testset = torchvision.datasets.FashionMNIST(root=os.path.join(data_path, dataset), train=False,\n",
    "                                                        download=True, transform=transform)\n",
    "            testloader = torch.utils.data.DataLoader(testset, batch_size=32,\n",
    "                                                     shuffle=False, num_workers=2)           \n",
    "\n",
    "    with TaskTime('显示图片示例', True):\n",
    "        plt.rcParams['figure.figsize'] = (12.0, 1.5) \n",
    "        def imshow(img):\n",
    "            img = img / 2 + 0.5     # unnormalize\n",
    "            npimg = img.numpy()\n",
    "            plt.imshow(np.transpose(npimg, (1, 2, 0)))\n",
    "            plt.show()\n",
    "\n",
    "        # get some random training images\n",
    "        dataiter = iter(trainloader)\n",
    "        images, labels = dataiter.next()\n",
    "        print(images.shape)\n",
    "\n",
    "        # show images\n",
    "        print(' '.join('%5s' %  labels[j].item() if classes is None else classes[labels[j].item()] for j in range(8)))\n",
    "        imshow(torchvision.utils.make_grid(images[0:8]))\n",
    "\n",
    "    return trainset, trainloader, testset, testloader\n",
    "\n",
    "trainset, trainloader, testset, testloader = torch_mnist_extract_data()    \n",
    "   "
   ]
  },
  {
   "cell_type": "markdown",
   "metadata": {},
   "source": [
    "![image-20201026111108647](images/image-20201026111108647.png)\n",
    "\n",
    "接下来是模型创建，模型训练，保存加载，以及模型评估的代码。"
   ]
  },
  {
   "cell_type": "code",
   "execution_count": 15,
   "metadata": {},
   "outputs": [
    {
     "name": "stderr",
     "output_type": "stream",
     "text": [
      "2020-11-01 07:45:46,481: INFO: start 创建模型\n"
     ]
    },
    {
     "name": "stdout",
     "output_type": "stream",
     "text": [
      "NN(\n",
      "  (fc1): Linear(in_features=784, out_features=128, bias=True)\n",
      "  (fc2): Linear(in_features=128, out_features=10, bias=True)\n",
      "  (drop_layer): Dropout(p=0.2, inplace=False)\n",
      ")\n"
     ]
    },
    {
     "name": "stderr",
     "output_type": "stream",
     "text": [
      "2020-11-01 07:45:46,985: INFO: finish 创建模型 [elapsed time: 0.50 seconds]\n",
      "2020-11-01 07:45:46,986: INFO: start 显示参数\n"
     ]
    },
    {
     "name": "stdout",
     "output_type": "stream",
     "text": [
      "4\n",
      "torch.Size([128, 784])\n",
      "torch.Size([128])\n",
      "torch.Size([10, 128])\n",
      "torch.Size([10])\n"
     ]
    },
    {
     "name": "stderr",
     "output_type": "stream",
     "text": [
      "2020-11-01 07:45:47,489: INFO: finish 显示参数 [elapsed time: 0.50 seconds]\n",
      "2020-11-01 07:45:47,490: INFO: start 模型训练\n"
     ]
    },
    {
     "name": "stdout",
     "output_type": "stream",
     "text": [
      "[epoch  1/5] loss: 0.268, accuracy: 0.914, val_loss: 0.287, val_accuracy: 0.905 \n",
      "[epoch  2/5] loss: 0.210, accuracy: 0.932, val_loss: 0.257, val_accuracy: 0.912 \n",
      "[epoch  3/5] loss: 0.152, accuracy: 0.954, val_loss: 0.232, val_accuracy: 0.932 \n",
      "[epoch  4/5] loss: 0.153, accuracy: 0.951, val_loss: 0.237, val_accuracy: 0.929 \n",
      "[epoch  5/5] loss: 0.135, accuracy: 0.954, val_loss: 0.176, val_accuracy: 0.945 \n"
     ]
    },
    {
     "name": "stderr",
     "output_type": "stream",
     "text": [
      "2020-11-01 07:46:40,586: INFO: finish 模型训练 [elapsed time: 53.10 seconds]\n",
      "2020-11-01 07:46:40,588: INFO: start 保存，加载模型\n",
      "2020-11-01 07:46:41,094: INFO: finish 保存，加载模型 [elapsed time: 0.51 seconds]\n",
      "2020-11-01 07:46:41,096: INFO: start 评估模型\n"
     ]
    },
    {
     "name": "stdout",
     "output_type": "stream",
     "text": [
      "Train Accuracy: 0.958, Test Accuracy: 0.954\n"
     ]
    },
    {
     "name": "stderr",
     "output_type": "stream",
     "text": [
      "2020-11-01 07:46:52,912: INFO: finish 评估模型 [elapsed time: 11.82 seconds]\n"
     ]
    },
    {
     "data": {
      "image/png": "[encoded data removed]",
      "text/plain": [
       "<Figure size 576x216 with 1 Axes>"
      ]
     },
     "metadata": {
      "needs_background": "light"
     },
     "output_type": "display_data"
    }
   ],
   "source": [
    "def torch_train_evaluate(net, epochs=10, save_model=False, model_file_name='torch_nn.pth'):                   \n",
    "    with TaskTime('显示参数', True):\n",
    "         # 由于存在bias，所以每一层都有两个参数张量，共有10个参数张量。\n",
    "        params = list(net.parameters())\n",
    "        print(len(params))\n",
    "        for param in params:\n",
    "            print(param.size())  \n",
    "\n",
    "    with TaskTime('模型训练', True):\n",
    "        criterion = nn.CrossEntropyLoss()\n",
    "        # optimizer = optim.SGD(net.parameters(), lr=0.001, momentum=0.9)      # Adam优化的速度比SGD明显要快\n",
    "        optimizer = optim.Adam(net.parameters(), lr=0.001, betas=(0.9, 0.999), eps=1e-08, weight_decay=0, amsgrad=False)\n",
    "        _, train_accuracy_list, _, val_accuracy_list = train(\n",
    "            net, criterion, optimizer, trainloader, testloader, epochs=epochs, use_cuda=True)\n",
    "\n",
    "    if save_model:  \n",
    "        with TaskTime('保存，加载模型', True):\n",
    "            model_root_path = os.path.join(os.path.expanduser('~'), '.pytorch/model') \n",
    "            if not os.path.exists(model_root_path): os.makedirs(model_root_path)\n",
    "            model_path = os.path.join(model_root_path, model_file_name)\n",
    "            torch.save(net.state_dict(), model_path) \n",
    "            net.load_state_dict(torch.load(model_path))     \n",
    "\n",
    "    with TaskTime('评估模型', True):\n",
    "        plt.figure(figsize=(8, 3))\n",
    "        plt.plot(train_accuracy_list, label='accuracy')\n",
    "        plt.plot(val_accuracy_list, label = 'val_accuracy')\n",
    "        plt.xlabel('Epoch')\n",
    "        plt.ylabel('Accuracy')\n",
    "        plt.ylim([0, 1])\n",
    "        plt.legend(loc='lower right')          \n",
    "        \n",
    "        _, train_accuracy = compute_loss_accuarcy(net, trainloader, criterion, use_cuda=True)   \n",
    "        _, test_accuracy = compute_loss_accuarcy(net, testloader, criterion, use_cuda=True)\n",
    "        print('Train Accuracy: {:0.3f}, Test Accuracy: {:0.3f}'.format(train_accuracy, test_accuracy)) \n",
    "        \n",
    "with TaskTime('创建模型', True):      \n",
    "    net = NN(in_dim=1, n_class=10)\n",
    "    print(net)\n",
    "\n",
    "torch_train_evaluate(net, epochs=5, save_model=True, model_file_name='torch_nn.pth')"
   ]
  },
  {
   "cell_type": "markdown",
   "metadata": {},
   "source": [
    "![image-20201026113344634](images/image-20201026113344634.png)\n",
    "\n",
    "Accuracy超过95%，应该来说，效果非常不错。\n",
    "\n",
    "### tensorflow"
   ]
  },
  {
   "cell_type": "code",
   "execution_count": 16,
   "metadata": {},
   "outputs": [
    {
     "name": "stdout",
     "output_type": "stream",
     "text": [
      "[PhysicalDevice(name='/physical_device:GPU:0', device_type='GPU')]\n"
     ]
    }
   ],
   "source": [
    "import logging\n",
    "import os\n",
    "import tensorflow as tf\n",
    "import time\n",
    "from tensorflow.keras import datasets, layers, models\n",
    "import matplotlib.pyplot as plt\n",
    "\n",
    "logging.basicConfig(format='%(asctime)s: %(levelname)s: %(message)s')\n",
    "logging.root.setLevel(level=logging.INFO)\n",
    "\n",
    "# 设置GPU内存使用上限\n",
    "gpus = tf.config.experimental.list_physical_devices(device_type='GPU')\n",
    "print(gpus)\n",
    "tf.config.experimental.set_virtual_device_configuration(\n",
    "    gpus[0],\n",
    "    [tf.config.experimental.VirtualDeviceConfiguration(memory_limit=1024)]\n",
    ")\n",
    "\n",
    "def neural_network():\n",
    "    model = models.Sequential()\n",
    "    model.add(layers.Flatten(input_shape=(28, 28)))\n",
    "    model.add(layers.Dense(128, activation='relu'))\n",
    "    model.add(layers.Dropout(0.2))\n",
    "    model.add(layers.Dense(10))    \n",
    "    return model"
   ]
  },
  {
   "cell_type": "markdown",
   "metadata": {},
   "source": [
    "然后加载数据。"
   ]
  },
  {
   "cell_type": "code",
   "execution_count": 19,
   "metadata": {},
   "outputs": [
    {
     "name": "stderr",
     "output_type": "stream",
     "text": [
      "2020-11-01 07:48:49,473: INFO: start 获取数据\n"
     ]
    },
    {
     "name": "stdout",
     "output_type": "stream",
     "text": [
      "(60000, 28, 28) (60000,) (60000, 28, 28) (10000,)\n",
      "<class 'numpy.ndarray'> <class 'tuple'>\n"
     ]
    },
    {
     "name": "stderr",
     "output_type": "stream",
     "text": [
      "2020-11-01 07:48:50,606: INFO: finish 获取数据 [elapsed time: 1.13 seconds]\n",
      "2020-11-01 07:48:50,608: INFO: start 显示图片示例\n"
     ]
    },
    {
     "data": {
      "image/png": "[encoded data removed]",
      "text/plain": [
       "<Figure size 720x144 with 5 Axes>"
      ]
     },
     "metadata": {},
     "output_type": "display_data"
    },
    {
     "name": "stderr",
     "output_type": "stream",
     "text": [
      "2020-11-01 07:48:51,420: INFO: finish 显示图片示例 [elapsed time: 0.81 seconds]\n"
     ]
    }
   ],
   "source": [
    "def tf_mnist_extract_data(dataset='mnist', classes=None):\n",
    "    with TaskTime('获取数据', True):\n",
    "        # 默认的保存路径是~/.keras/datasets/\n",
    "        if dataset=='mnist':\n",
    "            (train_images, train_labels), (test_images, test_labels) = datasets.mnist.load_data()\n",
    "        else:\n",
    "            (train_images, train_labels), (test_images, test_labels) = datasets.fashion_mnist.load_data()\n",
    "\n",
    "        # Normalize pixel values to be between 0 and 1\n",
    "        train_images, test_images = train_images / 255.0, test_images / 255.0     \n",
    "\n",
    "        print(train_images.shape, train_labels.shape, train_images.shape, test_labels.shape)\n",
    "        print(type(train_images), type(train_labels.shape))\n",
    "\n",
    "    with TaskTime('显示图片示例', True):\n",
    "\n",
    "        plt.figure(figsize=(10,2))\n",
    "        for i in range(5):\n",
    "            plt.subplot(1,5,i+1)\n",
    "            plt.xticks([])\n",
    "            plt.yticks([])\n",
    "            plt.grid(False)\n",
    "            plt.imshow(train_images[i], cmap='gray', interpolation='none')\n",
    "            # The CIFAR labels happen to be arrays, \n",
    "            # which is why you need the extra index\n",
    "            plt.xlabel(train_labels[i] if classes is None else classes[train_labels[i]])\n",
    "        plt.show()\n",
    "    \n",
    "    return train_images, train_labels, test_images, test_labels\n",
    "\n",
    "train_images, train_labels, test_images, test_labels = tf_mnist_extract_data()"
   ]
  },
  {
   "cell_type": "markdown",
   "metadata": {},
   "source": [
    "![image-20201026113532842](images/image-20201026113532842.png)\n",
    "\n",
    "接下来是模型创建，模型训练，保存加载，以及模型评估的代码。"
   ]
  },
  {
   "cell_type": "code",
   "execution_count": 21,
   "metadata": {},
   "outputs": [
    {
     "name": "stderr",
     "output_type": "stream",
     "text": [
      "2020-11-01 07:50:41,924: INFO: start 创建模型\n",
      "2020-11-01 07:50:42,488: INFO: finish 创建模型 [elapsed time: 0.56 seconds]\n",
      "2020-11-01 07:50:42,491: INFO: start 显示参数\n"
     ]
    },
    {
     "name": "stdout",
     "output_type": "stream",
     "text": [
      "Model: \"sequential_1\"\n",
      "_________________________________________________________________\n",
      "Layer (type)                 Output Shape              Param #   \n",
      "=================================================================\n",
      "flatten_1 (Flatten)          (None, 784)               0         \n",
      "_________________________________________________________________\n",
      "dense_2 (Dense)              (None, 128)               100480    \n",
      "_________________________________________________________________\n",
      "dropout_1 (Dropout)          (None, 128)               0         \n",
      "_________________________________________________________________\n",
      "dense_3 (Dense)              (None, 10)                1290      \n",
      "=================================================================\n",
      "Total params: 101,770\n",
      "Trainable params: 101,770\n",
      "Non-trainable params: 0\n",
      "_________________________________________________________________\n"
     ]
    },
    {
     "name": "stderr",
     "output_type": "stream",
     "text": [
      "2020-11-01 07:50:42,994: INFO: finish 显示参数 [elapsed time: 0.50 seconds]\n",
      "2020-11-01 07:50:42,995: INFO: start 模型训练\n"
     ]
    },
    {
     "name": "stdout",
     "output_type": "stream",
     "text": [
      "Epoch 1/5\n",
      "1875/1875 [==============================] - 4s 2ms/step - loss: 0.2980 - accuracy: 0.9142 - val_loss: 0.1449 - val_accuracy: 0.9558\n",
      "Epoch 2/5\n",
      "1875/1875 [==============================] - 4s 2ms/step - loss: 0.1474 - accuracy: 0.9552 - val_loss: 0.1028 - val_accuracy: 0.9684\n",
      "Epoch 3/5\n",
      "1875/1875 [==============================] - 4s 2ms/step - loss: 0.1076 - accuracy: 0.9674 - val_loss: 0.0877 - val_accuracy: 0.9722\n",
      "Epoch 4/5\n",
      "1875/1875 [==============================] - 4s 2ms/step - loss: 0.0887 - accuracy: 0.9729 - val_loss: 0.0810 - val_accuracy: 0.9740\n",
      "Epoch 5/5\n",
      "1875/1875 [==============================] - 4s 2ms/step - loss: 0.0763 - accuracy: 0.9763 - val_loss: 0.0794 - val_accuracy: 0.9763\n"
     ]
    },
    {
     "name": "stderr",
     "output_type": "stream",
     "text": [
      "2020-11-01 07:51:03,512: INFO: finish 模型训练 [elapsed time: 20.52 seconds]\n",
      "2020-11-01 07:51:03,513: INFO: start 保存，加载模型\n",
      "2020-11-01 07:51:04,107: INFO: finish 保存，加载模型 [elapsed time: 0.59 seconds]\n",
      "2020-11-01 07:51:04,108: INFO: start 评估模型\n"
     ]
    },
    {
     "name": "stdout",
     "output_type": "stream",
     "text": [
      "1875/1875 - 3s - loss: 0.0429 - accuracy: 0.9872\n",
      "313/313 - 1s - loss: 0.0794 - accuracy: 0.9763\n",
      "Train Accuracy: 98.7%, Test Accuracy: 97.6%\n"
     ]
    },
    {
     "name": "stderr",
     "output_type": "stream",
     "text": [
      "2020-11-01 07:51:08,568: INFO: finish 评估模型 [elapsed time: 4.46 seconds]\n"
     ]
    },
    {
     "data": {
      "image/png": "[encoded data removed]",
      "text/plain": [
       "<Figure size 576x216 with 1 Axes>"
      ]
     },
     "metadata": {
      "needs_background": "light"
     },
     "output_type": "display_data"
    }
   ],
   "source": [
    "def tf_train_evaluate(model, epochs=2, save_model=False, model_file_name='tf_nn.h5'):   \n",
    "    with TaskTime('显示参数', True):\n",
    "        model.summary()\n",
    "\n",
    "    with TaskTime('模型训练', True):    \n",
    "        model.compile(optimizer='adam',\n",
    "                      loss=tf.keras.losses.SparseCategoricalCrossentropy(from_logits=True),\n",
    "                      metrics=['accuracy'])\n",
    "        history = model.fit(train_images, train_labels, epochs=epochs, batch_size=32,\n",
    "                            validation_data=(test_images, test_labels))\n",
    "\n",
    "    if save_model:\n",
    "        with TaskTime('保存，加载模型', True): \n",
    "            model_root_path = os.path.join(os.path.expanduser('~'), '.keras/model') \n",
    "            if not os.path.exists(model_root_path): os.makedirs(model_root_path)\n",
    "            model_path = os.path.join(model_root_path, model_file_name)\n",
    "            model.save(model_path) \n",
    "            model = tf.keras.models.load_model(model_path)  \n",
    "\n",
    "    with TaskTime('评估模型', True): \n",
    "        plt.figure(figsize=(8, 3))\n",
    "        plt.plot(history.history['accuracy'], label='accuracy')\n",
    "        plt.plot(history.history['val_accuracy'], label = 'val_accuracy')\n",
    "        plt.xlabel('Epoch')\n",
    "        plt.ylabel('Accuracy')\n",
    "        plt.ylim([0.5, 1])\n",
    "        plt.legend(loc='lower right')\n",
    "\n",
    "        train_loss, train_acc = model.evaluate(train_images,  train_labels, verbose=2)\n",
    "        test_loss, test_acc = model.evaluate(test_images,  test_labels, verbose=2)\n",
    "        print('Train Accuracy: {:0.1f}%, Test Accuracy: {:0.1f}%'.format(100 * train_acc, 100*test_acc)) \n",
    "\n",
    "with TaskTime('创建模型', True): \n",
    "    model = neural_network( )\n",
    "\n",
    "tf_train_evaluate(model, epochs=5, save_model=True, model_file_name='tf_nn.h5')"
   ]
  },
  {
   "cell_type": "markdown",
   "metadata": {},
   "source": [
    "![image-20201026114421894](images/image-20201026114421894.png)\n",
    "\n",
    "Accuracy比pytorch明显更加一点，超过97%，效果非常不错。\n",
    "\n",
    "## LeNet模型\n",
    "\n",
    "下面尝试用[LeNet5](https://eipi10.cn/deep-learning/2020/10/23/lenet/)来实现，看看是不是还能有提高。下面是LeNet5的结构图。\n",
    "\n",
    "![image-20201019113632136](images/image-20201019113632136.png)\n",
    "\n",
    "### pytorch\n",
    "\n",
    "在LeNet5中，输入层是$32\\times32$的图片，而MNIST是$28\\times28$的图片，为了保持模型的结构不变，在第一个卷积积增加一个参数padding=2。"
   ]
  },
  {
   "cell_type": "code",
   "execution_count": 22,
   "metadata": {},
   "outputs": [],
   "source": [
    "class LeNet(nn.Module):\n",
    "    def __init__(self, in_dim=1, n_class=10):\n",
    "        super(LeNet, self).__init__()    \n",
    "\n",
    "        self.conv1 = nn.Conv2d(in_dim, 6, 5, padding=2)\n",
    "        self.conv2 = nn.Conv2d(6, 16, 5)\n",
    "        self.fc1 = nn.Linear(16 * 5 * 5, 120)  \n",
    "        self.fc2 = nn.Linear(120, 84)\n",
    "        self.fc3 = nn.Linear(84, n_class)        \n",
    "        \n",
    "    def forward(self, x):\n",
    "        x = F.max_pool2d(F.relu(self.conv1(x)), 2)\n",
    "        x = F.max_pool2d(F.relu(self.conv2(x)), 2)\n",
    "        x = x.view(x.size()[0], -1)\n",
    "        x = F.relu(self.fc1(x))\n",
    "        x = F.relu(self.fc2(x))\n",
    "        x = self.fc3(x)\n",
    "        return x"
   ]
  },
  {
   "cell_type": "markdown",
   "metadata": {},
   "source": [
    "下面来训练LeNet。"
   ]
  },
  {
   "cell_type": "code",
   "execution_count": 24,
   "metadata": {},
   "outputs": [
    {
     "name": "stderr",
     "output_type": "stream",
     "text": [
      "2020-11-01 07:52:35,793: INFO: start 创建模型\n"
     ]
    },
    {
     "name": "stdout",
     "output_type": "stream",
     "text": [
      "LeNet(\n",
      "  (conv1): Conv2d(1, 6, kernel_size=(5, 5), stride=(1, 1), padding=(2, 2))\n",
      "  (conv2): Conv2d(6, 16, kernel_size=(5, 5), stride=(1, 1))\n",
      "  (fc1): Linear(in_features=400, out_features=120, bias=True)\n",
      "  (fc2): Linear(in_features=120, out_features=84, bias=True)\n",
      "  (fc3): Linear(in_features=84, out_features=10, bias=True)\n",
      ")\n"
     ]
    },
    {
     "name": "stderr",
     "output_type": "stream",
     "text": [
      "2020-11-01 07:52:36,298: INFO: finish 创建模型 [elapsed time: 0.50 seconds]\n",
      "2020-11-01 07:52:36,299: INFO: start 显示参数\n"
     ]
    },
    {
     "name": "stdout",
     "output_type": "stream",
     "text": [
      "10\n",
      "torch.Size([6, 1, 5, 5])\n",
      "torch.Size([6])\n",
      "torch.Size([16, 6, 5, 5])\n",
      "torch.Size([16])\n",
      "torch.Size([120, 400])\n",
      "torch.Size([120])\n",
      "torch.Size([84, 120])\n",
      "torch.Size([84])\n",
      "torch.Size([10, 84])\n",
      "torch.Size([10])\n"
     ]
    },
    {
     "name": "stderr",
     "output_type": "stream",
     "text": [
      "2020-11-01 07:52:36,802: INFO: finish 显示参数 [elapsed time: 0.50 seconds]\n",
      "2020-11-01 07:52:36,803: INFO: start 模型训练\n"
     ]
    },
    {
     "name": "stdout",
     "output_type": "stream",
     "text": [
      "[epoch  1/5] loss: 0.046, accuracy: 0.984, val_loss: 0.078, val_accuracy: 0.968 \n",
      "[epoch  2/5] loss: 0.025, accuracy: 0.992, val_loss: 0.057, val_accuracy: 0.980 \n",
      "[epoch  3/5] loss: 0.047, accuracy: 0.984, val_loss: 0.061, val_accuracy: 0.982 \n",
      "[epoch  4/5] loss: 0.018, accuracy: 0.993, val_loss: 0.054, val_accuracy: 0.981 \n",
      "[epoch  5/5] loss: 0.009, accuracy: 0.998, val_loss: 0.049, val_accuracy: 0.984 \n"
     ]
    },
    {
     "name": "stderr",
     "output_type": "stream",
     "text": [
      "2020-11-01 07:53:55,353: INFO: finish 模型训练 [elapsed time: 78.55 seconds]\n",
      "2020-11-01 07:53:55,354: INFO: start 评估模型\n"
     ]
    },
    {
     "name": "stdout",
     "output_type": "stream",
     "text": [
      "Train Accuracy: 0.995, Test Accuracy: 0.990\n"
     ]
    },
    {
     "name": "stderr",
     "output_type": "stream",
     "text": [
      "2020-11-01 07:54:07,397: INFO: finish 评估模型 [elapsed time: 12.04 seconds]\n"
     ]
    },
    {
     "data": {
      "image/png": "[encoded data removed]",
      "text/plain": [
       "<Figure size 576x216 with 1 Axes>"
      ]
     },
     "metadata": {
      "needs_background": "light"
     },
     "output_type": "display_data"
    }
   ],
   "source": [
    "with TaskTime('创建模型', True):      \n",
    "    net = LeNet(in_dim=1, n_class=10)\n",
    "    print(net)\n",
    "\n",
    "torch_train_evaluate(net, epochs=5)"
   ]
  },
  {
   "cell_type": "markdown",
   "metadata": {},
   "source": [
    "![image-20201026120641942](images/image-20201026120641942.png)\n",
    "\n",
    "经过5个epoch，accuracy有一些提高，能达到将近99%，非常理想。\n",
    "\n",
    "### tensorflow\n",
    "\n",
    "同样为了保持模型的结构不变，设置一个参数padding='same'，另外input_shape改成了(28, 28, in_dim)。"
   ]
  },
  {
   "cell_type": "code",
   "execution_count": 25,
   "metadata": {},
   "outputs": [],
   "source": [
    "def lenet(in_dim=1, n_class=10):\n",
    "    model = models.Sequential()\n",
    "    model.add(layers.Conv2D(6, (5, 5), activation='relu', padding='same', input_shape=(28, 28, in_dim)))\n",
    "    model.add(layers.MaxPooling2D((2, 2)))\n",
    "    model.add(layers.Conv2D(16, (5, 5), activation='relu'))\n",
    "    model.add(layers.MaxPooling2D((2, 2)))\n",
    "    model.add(layers.Flatten())\n",
    "    model.add(layers.Dense(120, activation='relu'))\n",
    "    model.add(layers.Dense(84, activation='relu'))\n",
    "    model.add(layers.Dense(n_class))    \n",
    "    return model"
   ]
  },
  {
   "cell_type": "markdown",
   "metadata": {},
   "source": [
    "由于采用卷积神经网络，需要有channel，所以对数据增加一个维度。"
   ]
  },
  {
   "cell_type": "code",
   "execution_count": 26,
   "metadata": {},
   "outputs": [],
   "source": [
    "train_images = tf.expand_dims(train_images, axis=-1)\n",
    "test_images = tf.expand_dims(test_images, axis=-1)"
   ]
  },
  {
   "cell_type": "markdown",
   "metadata": {},
   "source": [
    "下面来训练lenet。"
   ]
  },
  {
   "cell_type": "code",
   "execution_count": 27,
   "metadata": {},
   "outputs": [
    {
     "name": "stderr",
     "output_type": "stream",
     "text": [
      "2020-11-01 07:54:55,262: INFO: start 创建模型\n",
      "2020-11-01 07:54:55,851: INFO: finish 创建模型 [elapsed time: 0.59 seconds]\n",
      "2020-11-01 07:54:55,853: INFO: start 显示参数\n"
     ]
    },
    {
     "name": "stdout",
     "output_type": "stream",
     "text": [
      "Model: \"sequential_2\"\n",
      "_________________________________________________________________\n",
      "Layer (type)                 Output Shape              Param #   \n",
      "=================================================================\n",
      "conv2d (Conv2D)              (None, 28, 28, 6)         156       \n",
      "_________________________________________________________________\n",
      "max_pooling2d (MaxPooling2D) (None, 14, 14, 6)         0         \n",
      "_________________________________________________________________\n",
      "conv2d_1 (Conv2D)            (None, 10, 10, 16)        2416      \n",
      "_________________________________________________________________\n",
      "max_pooling2d_1 (MaxPooling2 (None, 5, 5, 16)          0         \n",
      "_________________________________________________________________\n",
      "flatten_2 (Flatten)          (None, 400)               0         \n",
      "_________________________________________________________________\n",
      "dense_4 (Dense)              (None, 120)               48120     \n",
      "_________________________________________________________________\n",
      "dense_5 (Dense)              (None, 84)                10164     \n",
      "_________________________________________________________________\n",
      "dense_6 (Dense)              (None, 10)                850       \n",
      "=================================================================\n",
      "Total params: 61,706\n",
      "Trainable params: 61,706\n",
      "Non-trainable params: 0\n",
      "_________________________________________________________________\n"
     ]
    },
    {
     "name": "stderr",
     "output_type": "stream",
     "text": [
      "2020-11-01 07:54:56,357: INFO: finish 显示参数 [elapsed time: 0.50 seconds]\n",
      "2020-11-01 07:54:56,358: INFO: start 模型训练\n"
     ]
    },
    {
     "name": "stdout",
     "output_type": "stream",
     "text": [
      "Epoch 1/5\n",
      "1875/1875 [==============================] - 6s 3ms/step - loss: 0.1808 - accuracy: 0.9438 - val_loss: 0.0828 - val_accuracy: 0.9743\n",
      "Epoch 2/5\n",
      "1875/1875 [==============================] - 5s 3ms/step - loss: 0.0571 - accuracy: 0.9819 - val_loss: 0.0553 - val_accuracy: 0.9837\n",
      "Epoch 3/5\n",
      "1875/1875 [==============================] - 5s 3ms/step - loss: 0.0422 - accuracy: 0.9863 - val_loss: 0.0339 - val_accuracy: 0.9887\n",
      "Epoch 4/5\n",
      "1875/1875 [==============================] - 5s 3ms/step - loss: 0.0326 - accuracy: 0.9895 - val_loss: 0.0406 - val_accuracy: 0.9874\n",
      "Epoch 5/5\n",
      "1875/1875 [==============================] - 5s 3ms/step - loss: 0.0278 - accuracy: 0.9909 - val_loss: 0.0344 - val_accuracy: 0.9890\n"
     ]
    },
    {
     "name": "stderr",
     "output_type": "stream",
     "text": [
      "2020-11-01 07:55:26,343: INFO: finish 模型训练 [elapsed time: 29.98 seconds]\n",
      "2020-11-01 07:55:26,344: INFO: start 评估模型\n"
     ]
    },
    {
     "name": "stdout",
     "output_type": "stream",
     "text": [
      "1875/1875 - 4s - loss: 0.0190 - accuracy: 0.9940\n",
      "313/313 - 1s - loss: 0.0344 - accuracy: 0.9890\n",
      "Train Accuracy: 99.4%, Test Accuracy: 98.9%\n"
     ]
    },
    {
     "name": "stderr",
     "output_type": "stream",
     "text": [
      "2020-11-01 07:55:31,277: INFO: finish 评估模型 [elapsed time: 4.93 seconds]\n"
     ]
    },
    {
     "data": {
      "image/png": "[encoded data removed]",
      "text/plain": [
       "<Figure size 576x216 with 1 Axes>"
      ]
     },
     "metadata": {
      "needs_background": "light"
     },
     "output_type": "display_data"
    }
   ],
   "source": [
    "with TaskTime('创建模型', True): \n",
    "    model = lenet(in_dim=1, n_class=10)\n",
    "\n",
    "tf_train_evaluate(model, epochs=5)"
   ]
  },
  {
   "cell_type": "markdown",
   "metadata": {},
   "source": [
    "![image-20201026121110346](images/image-20201026121110346.png)\n",
    "\n",
    "![image-20201026121127180](images/image-20201026121127180.png)\n",
    "\n",
    "同样，比起经典神经网络，accuracy又提高了一点，接近99%，非常好。\n",
    "\n",
    "## Fashion MNIST\n",
    "\n",
    "对于MNIST数据集，无论采用经典神经网络还是LeNet都能取得不错的效果，LeNet收敛速度更快，Accuracy也高一点。下面来尝试一下[Fashion MNIST](https://eipi10.cn/others/2020/10/22/dataset/#fashion-mnist)数据集，这个数据集和MNIST的结构完全相同，代码可以几乎不用修改。\n",
    "\n",
    "### pytorch\n",
    "\n",
    "首先下载数据。"
   ]
  },
  {
   "cell_type": "code",
   "execution_count": 32,
   "metadata": {},
   "outputs": [
    {
     "name": "stderr",
     "output_type": "stream",
     "text": [
      "2020-11-01 08:00:56,478: INFO: start 获取数据\n",
      "2020-11-01 08:00:57,008: INFO: finish 获取数据 [elapsed time: 0.53 seconds]\n",
      "2020-11-01 08:00:57,009: INFO: start 显示图片示例\n"
     ]
    },
    {
     "name": "stdout",
     "output_type": "stream",
     "text": [
      "torch.Size([32, 1, 28, 28])\n",
      "Shirt Coat Dress Bag Dress Pullover Bag Sandal\n"
     ]
    },
    {
     "data": {
      "image/png": "[encoded data removed]",
      "text/plain": [
       "<Figure size 864x108 with 1 Axes>"
      ]
     },
     "metadata": {
      "needs_background": "light"
     },
     "output_type": "display_data"
    },
    {
     "name": "stderr",
     "output_type": "stream",
     "text": [
      "2020-11-01 08:00:57,836: INFO: finish 显示图片示例 [elapsed time: 0.83 seconds]\n"
     ]
    }
   ],
   "source": [
    "classes=['T-shirt/top', 'Trouser', 'Pullover', 'Dress', 'Coat', 'Sandal','Shirt', 'Sneaker', 'Bag', 'Ankle boot']\n",
    "trainset, trainloader, testset, testloader = torch_mnist_extract_data(dataset='fashion-mnist', classes=classes) "
   ]
  },
  {
   "cell_type": "markdown",
   "metadata": {},
   "source": [
    "![image-20201028092402301](images/image-20201028092402301.png)\n",
    "\n",
    "接下来开始训练模型，第一个看经典的神经网络。"
   ]
  },
  {
   "cell_type": "code",
   "execution_count": 29,
   "metadata": {},
   "outputs": [
    {
     "name": "stderr",
     "output_type": "stream",
     "text": [
      "2020-11-01 07:57:11,754: INFO: start 创建模型\n"
     ]
    },
    {
     "name": "stdout",
     "output_type": "stream",
     "text": [
      "NN(\n",
      "  (fc1): Linear(in_features=784, out_features=128, bias=True)\n",
      "  (fc2): Linear(in_features=128, out_features=10, bias=True)\n",
      "  (drop_layer): Dropout(p=0.2, inplace=False)\n",
      ")\n"
     ]
    },
    {
     "name": "stderr",
     "output_type": "stream",
     "text": [
      "2020-11-01 07:57:12,258: INFO: finish 创建模型 [elapsed time: 0.50 seconds]\n",
      "2020-11-01 07:57:12,259: INFO: start 显示参数\n"
     ]
    },
    {
     "name": "stdout",
     "output_type": "stream",
     "text": [
      "4\n",
      "torch.Size([128, 784])\n",
      "torch.Size([128])\n",
      "torch.Size([10, 128])\n",
      "torch.Size([10])\n"
     ]
    },
    {
     "name": "stderr",
     "output_type": "stream",
     "text": [
      "2020-11-01 07:57:12,762: INFO: finish 显示参数 [elapsed time: 0.50 seconds]\n",
      "2020-11-01 07:57:12,763: INFO: start 模型训练\n"
     ]
    },
    {
     "name": "stdout",
     "output_type": "stream",
     "text": [
      "[epoch  1/5] loss: 0.403, accuracy: 0.854, val_loss: 0.438, val_accuracy: 0.845 \n",
      "[epoch  2/5] loss: 0.397, accuracy: 0.844, val_loss: 0.396, val_accuracy: 0.856 \n",
      "[epoch  3/5] loss: 0.380, accuracy: 0.855, val_loss: 0.394, val_accuracy: 0.862 \n",
      "[epoch  4/5] loss: 0.374, accuracy: 0.858, val_loss: 0.395, val_accuracy: 0.848 \n",
      "[epoch  5/5] loss: 0.318, accuracy: 0.884, val_loss: 0.376, val_accuracy: 0.868 \n"
     ]
    },
    {
     "name": "stderr",
     "output_type": "stream",
     "text": [
      "2020-11-01 07:58:07,468: INFO: finish 模型训练 [elapsed time: 54.71 seconds]\n",
      "2020-11-01 07:58:07,470: INFO: start 评估模型\n"
     ]
    },
    {
     "name": "stdout",
     "output_type": "stream",
     "text": [
      "Train Accuracy: 0.879, Test Accuracy: 0.857\n"
     ]
    },
    {
     "name": "stderr",
     "output_type": "stream",
     "text": [
      "2020-11-01 07:58:19,563: INFO: finish 评估模型 [elapsed time: 12.09 seconds]\n"
     ]
    },
    {
     "data": {
      "image/png": "[encoded data removed]",
      "text/plain": [
       "<Figure size 576x216 with 1 Axes>"
      ]
     },
     "metadata": {
      "needs_background": "light"
     },
     "output_type": "display_data"
    }
   ],
   "source": [
    "with TaskTime('创建模型', True):      \n",
    "    net = NN(in_dim=1, n_class=10)\n",
    "    print(net)\n",
    "\n",
    "torch_train_evaluate(net, epochs=5)"
   ]
  },
  {
   "cell_type": "markdown",
   "metadata": {},
   "source": [
    "![image-20201028092721943](images/image-20201028092721943.png)\n",
    "\n",
    "Accuracy只有85%，下面再来看LeNet。"
   ]
  },
  {
   "cell_type": "code",
   "execution_count": 35,
   "metadata": {},
   "outputs": [
    {
     "name": "stderr",
     "output_type": "stream",
     "text": [
      "2020-11-01 08:06:03,788: INFO: start 创建模型\n"
     ]
    },
    {
     "name": "stdout",
     "output_type": "stream",
     "text": [
      "LeNet(\n",
      "  (conv1): Conv2d(1, 6, kernel_size=(5, 5), stride=(1, 1), padding=(2, 2))\n",
      "  (conv2): Conv2d(6, 16, kernel_size=(5, 5), stride=(1, 1))\n",
      "  (fc1): Linear(in_features=400, out_features=120, bias=True)\n",
      "  (fc2): Linear(in_features=120, out_features=84, bias=True)\n",
      "  (fc3): Linear(in_features=84, out_features=10, bias=True)\n",
      ")\n"
     ]
    },
    {
     "name": "stderr",
     "output_type": "stream",
     "text": [
      "2020-11-01 08:06:04,293: INFO: finish 创建模型 [elapsed time: 0.51 seconds]\n",
      "2020-11-01 08:06:04,294: INFO: start 显示参数\n"
     ]
    },
    {
     "name": "stdout",
     "output_type": "stream",
     "text": [
      "10\n",
      "torch.Size([6, 1, 5, 5])\n",
      "torch.Size([6])\n",
      "torch.Size([16, 6, 5, 5])\n",
      "torch.Size([16])\n",
      "torch.Size([120, 400])\n",
      "torch.Size([120])\n",
      "torch.Size([84, 120])\n",
      "torch.Size([84])\n",
      "torch.Size([10, 84])\n",
      "torch.Size([10])\n"
     ]
    },
    {
     "name": "stderr",
     "output_type": "stream",
     "text": [
      "2020-11-01 08:06:04,797: INFO: finish 显示参数 [elapsed time: 0.50 seconds]\n",
      "2020-11-01 08:06:04,798: INFO: start 模型训练\n"
     ]
    },
    {
     "name": "stdout",
     "output_type": "stream",
     "text": [
      "[epoch  1/5] loss: 0.363, accuracy: 0.871, val_loss: 0.396, val_accuracy: 0.866 \n",
      "[epoch  2/5] loss: 0.300, accuracy: 0.882, val_loss: 0.330, val_accuracy: 0.879 \n",
      "[epoch  3/5] loss: 0.260, accuracy: 0.904, val_loss: 0.302, val_accuracy: 0.896 \n",
      "[epoch  4/5] loss: 0.227, accuracy: 0.916, val_loss: 0.276, val_accuracy: 0.901 \n",
      "[epoch  5/5] loss: 0.232, accuracy: 0.909, val_loss: 0.299, val_accuracy: 0.903 \n"
     ]
    },
    {
     "name": "stderr",
     "output_type": "stream",
     "text": [
      "2020-11-01 08:07:23,569: INFO: finish 模型训练 [elapsed time: 78.77 seconds]\n",
      "2020-11-01 08:07:23,570: INFO: start 评估模型\n"
     ]
    },
    {
     "name": "stdout",
     "output_type": "stream",
     "text": [
      "Train Accuracy: 0.910, Test Accuracy: 0.887\n"
     ]
    },
    {
     "name": "stderr",
     "output_type": "stream",
     "text": [
      "2020-11-01 08:07:35,773: INFO: finish 评估模型 [elapsed time: 12.20 seconds]\n"
     ]
    },
    {
     "data": {
      "image/png": "[encoded data removed]",
      "text/plain": [
       "<Figure size 576x216 with 1 Axes>"
      ]
     },
     "metadata": {
      "needs_background": "light"
     },
     "output_type": "display_data"
    }
   ],
   "source": [
    "with TaskTime('创建模型', True):      \n",
    "    net = LeNet(in_dim=1, n_class=10)\n",
    "    print(net)\n",
    "\n",
    "torch_train_evaluate(net, epochs=5)"
   ]
  },
  {
   "cell_type": "markdown",
   "metadata": {},
   "source": [
    "![image-20201028092924485](images/image-20201028092924485.png)\n",
    "\n",
    "Accuracy提高到了89%，不错。下面来看一种改进的LeNet。它增加了一层卷积，并大大增加了卷积的深度，同时减少了一层全连接层（或许可以减少一些过拟合）。"
   ]
  },
  {
   "cell_type": "code",
   "execution_count": 36,
   "metadata": {
    "scrolled": false
   },
   "outputs": [
    {
     "name": "stderr",
     "output_type": "stream",
     "text": [
      "2020-11-01 08:08:21,195: INFO: start 创建模型\n"
     ]
    },
    {
     "name": "stdout",
     "output_type": "stream",
     "text": [
      "LeNet1(\n",
      "  (conv1): Conv2d(1, 32, kernel_size=(3, 3), stride=(1, 1), padding=(2, 2))\n",
      "  (conv2): Conv2d(32, 64, kernel_size=(3, 3), stride=(1, 1))\n",
      "  (conv3): Conv2d(64, 64, kernel_size=(3, 3), stride=(1, 1))\n",
      "  (fc1): Linear(in_features=1024, out_features=64, bias=True)\n",
      "  (fc2): Linear(in_features=64, out_features=10, bias=True)\n",
      ")\n"
     ]
    },
    {
     "name": "stderr",
     "output_type": "stream",
     "text": [
      "2020-11-01 08:08:21,701: INFO: finish 创建模型 [elapsed time: 0.51 seconds]\n",
      "2020-11-01 08:08:21,702: INFO: start 显示参数\n"
     ]
    },
    {
     "name": "stdout",
     "output_type": "stream",
     "text": [
      "10\n",
      "torch.Size([32, 1, 3, 3])\n",
      "torch.Size([32])\n",
      "torch.Size([64, 32, 3, 3])\n",
      "torch.Size([64])\n",
      "torch.Size([64, 64, 3, 3])\n",
      "torch.Size([64])\n",
      "torch.Size([64, 1024])\n",
      "torch.Size([64])\n",
      "torch.Size([10, 64])\n",
      "torch.Size([10])\n"
     ]
    },
    {
     "name": "stderr",
     "output_type": "stream",
     "text": [
      "2020-11-01 08:08:22,204: INFO: finish 显示参数 [elapsed time: 0.50 seconds]\n",
      "2020-11-01 08:08:22,206: INFO: start 模型训练\n"
     ]
    },
    {
     "name": "stdout",
     "output_type": "stream",
     "text": [
      "[epoch  1/5] loss: 0.285, accuracy: 0.888, val_loss: 0.343, val_accuracy: 0.873 \n",
      "[epoch  2/5] loss: 0.288, accuracy: 0.896, val_loss: 0.298, val_accuracy: 0.899 \n",
      "[epoch  3/5] loss: 0.235, accuracy: 0.912, val_loss: 0.263, val_accuracy: 0.909 \n",
      "[epoch  4/5] loss: 0.191, accuracy: 0.928, val_loss: 0.240, val_accuracy: 0.903 \n",
      "[epoch  5/5] loss: 0.174, accuracy: 0.939, val_loss: 0.253, val_accuracy: 0.916 \n"
     ]
    },
    {
     "name": "stderr",
     "output_type": "stream",
     "text": [
      "2020-11-01 08:09:42,931: INFO: finish 模型训练 [elapsed time: 80.73 seconds]\n",
      "2020-11-01 08:09:42,933: INFO: start 评估模型\n"
     ]
    },
    {
     "name": "stdout",
     "output_type": "stream",
     "text": [
      "Train Accuracy: 0.939, Test Accuracy: 0.911\n"
     ]
    },
    {
     "name": "stderr",
     "output_type": "stream",
     "text": [
      "2020-11-01 08:09:55,117: INFO: finish 评估模型 [elapsed time: 12.18 seconds]\n"
     ]
    },
    {
     "data": {
      "image/png": "[encoded data removed]",
      "text/plain": [
       "<Figure size 576x216 with 1 Axes>"
      ]
     },
     "metadata": {
      "needs_background": "light"
     },
     "output_type": "display_data"
    }
   ],
   "source": [
    "class LeNet1(nn.Module):\n",
    "    def __init__(self, in_dim=1, n_class=10):\n",
    "        super(LeNet1, self).__init__()    \n",
    "\n",
    "        self.conv1 = nn.Conv2d(in_dim, 32, 3, padding=2)\n",
    "        self.conv2 = nn.Conv2d(32, 64, 3)\n",
    "        self.conv3 = nn.Conv2d(64, 64, 3)\n",
    "        self.fc1 = nn.Linear(64 * 4 * 4, 64)  \n",
    "        self.fc2 = nn.Linear(64, n_class)        \n",
    "        \n",
    "    def forward(self, x):\n",
    "        x = F.max_pool2d(F.relu(self.conv1(x)), 2)\n",
    "        x = F.max_pool2d(F.relu(self.conv2(x)), 2)\n",
    "        x = F.relu(self.conv3(x))\n",
    "        x = x.view(x.size()[0], -1)\n",
    "        x = F.relu(self.fc1(x))\n",
    "        x = self.fc2(x)\n",
    "        return x\n",
    "    \n",
    "with TaskTime('创建模型', True):      \n",
    "    net = LeNet1(in_dim=1, n_class=10)\n",
    "    print(net)\n",
    "\n",
    "torch_train_evaluate(net, epochs=5)"
   ]
  },
  {
   "cell_type": "markdown",
   "metadata": {},
   "source": [
    "![image-20201028093718791](images/image-20201028093718791.png)\n",
    "\n",
    "Accuracy继续提高到了91%。增加卷积的深度，看来还是有用的。\n",
    "\n",
    "### tensorflow\n",
    "\n",
    "首先也是下载数据。"
   ]
  },
  {
   "cell_type": "code",
   "execution_count": 38,
   "metadata": {},
   "outputs": [
    {
     "name": "stderr",
     "output_type": "stream",
     "text": [
      "2020-11-01 08:10:39,314: INFO: start 获取数据\n"
     ]
    },
    {
     "name": "stdout",
     "output_type": "stream",
     "text": [
      "(60000, 28, 28) (60000,) (60000, 28, 28) (10000,)\n",
      "<class 'numpy.ndarray'> <class 'tuple'>\n"
     ]
    },
    {
     "name": "stderr",
     "output_type": "stream",
     "text": [
      "2020-11-01 08:10:40,635: INFO: finish 获取数据 [elapsed time: 1.32 seconds]\n",
      "2020-11-01 08:10:40,637: INFO: start 显示图片示例\n"
     ]
    },
    {
     "data": {
      "image/png": "[encoded data removed]",
      "text/plain": [
       "<Figure size 720x144 with 5 Axes>"
      ]
     },
     "metadata": {},
     "output_type": "display_data"
    },
    {
     "name": "stderr",
     "output_type": "stream",
     "text": [
      "2020-11-01 08:10:41,446: INFO: finish 显示图片示例 [elapsed time: 0.81 seconds]\n"
     ]
    }
   ],
   "source": [
    "classes=['T-shirt/top', 'Trouser', 'Pullover', 'Dress', 'Coat', 'Sandal','Shirt', 'Sneaker', 'Bag', 'Ankle boot']\n",
    "train_images, train_labels, test_images, test_labels = tf_mnist_extract_data(dataset='fashion-mnist', classes=classes)"
   ]
  },
  {
   "cell_type": "markdown",
   "metadata": {},
   "source": [
    "![image-20201028094735210](images/image-20201028094735210.png)\n",
    "\n",
    "接下来开始训练模型，第一个看经典的神经网络。"
   ]
  },
  {
   "cell_type": "code",
   "execution_count": 39,
   "metadata": {},
   "outputs": [
    {
     "name": "stderr",
     "output_type": "stream",
     "text": [
      "2020-11-01 08:11:04,404: INFO: start 创建模型\n",
      "2020-11-01 08:11:04,974: INFO: finish 创建模型 [elapsed time: 0.57 seconds]\n",
      "2020-11-01 08:11:04,976: INFO: start 显示参数\n"
     ]
    },
    {
     "name": "stdout",
     "output_type": "stream",
     "text": [
      "Model: \"sequential_3\"\n",
      "_________________________________________________________________\n",
      "Layer (type)                 Output Shape              Param #   \n",
      "=================================================================\n",
      "flatten_3 (Flatten)          (None, 784)               0         \n",
      "_________________________________________________________________\n",
      "dense_7 (Dense)              (None, 128)               100480    \n",
      "_________________________________________________________________\n",
      "dropout_2 (Dropout)          (None, 128)               0         \n",
      "_________________________________________________________________\n",
      "dense_8 (Dense)              (None, 10)                1290      \n",
      "=================================================================\n",
      "Total params: 101,770\n",
      "Trainable params: 101,770\n",
      "Non-trainable params: 0\n",
      "_________________________________________________________________\n"
     ]
    },
    {
     "name": "stderr",
     "output_type": "stream",
     "text": [
      "2020-11-01 08:11:05,480: INFO: finish 显示参数 [elapsed time: 0.50 seconds]\n",
      "2020-11-01 08:11:05,481: INFO: start 模型训练\n"
     ]
    },
    {
     "name": "stdout",
     "output_type": "stream",
     "text": [
      "Epoch 1/5\n",
      "1875/1875 [==============================] - 4s 2ms/step - loss: 0.5352 - accuracy: 0.8111 - val_loss: 0.4210 - val_accuracy: 0.8497\n",
      "Epoch 2/5\n",
      "1875/1875 [==============================] - 4s 2ms/step - loss: 0.4004 - accuracy: 0.8546 - val_loss: 0.3782 - val_accuracy: 0.8633\n",
      "Epoch 3/5\n",
      "1875/1875 [==============================] - 4s 2ms/step - loss: 0.3660 - accuracy: 0.8662 - val_loss: 0.3646 - val_accuracy: 0.8699\n",
      "Epoch 4/5\n",
      "1875/1875 [==============================] - 4s 2ms/step - loss: 0.3434 - accuracy: 0.8747 - val_loss: 0.3910 - val_accuracy: 0.8549\n",
      "Epoch 5/5\n",
      "1875/1875 [==============================] - 4s 2ms/step - loss: 0.3289 - accuracy: 0.8799 - val_loss: 0.3543 - val_accuracy: 0.8736\n"
     ]
    },
    {
     "name": "stderr",
     "output_type": "stream",
     "text": [
      "2020-11-01 08:11:26,069: INFO: finish 模型训练 [elapsed time: 20.59 seconds]\n",
      "2020-11-01 08:11:26,071: INFO: start 评估模型\n"
     ]
    },
    {
     "name": "stdout",
     "output_type": "stream",
     "text": [
      "1875/1875 - 3s - loss: 0.2823 - accuracy: 0.8934\n",
      "313/313 - 0s - loss: 0.3543 - accuracy: 0.8736\n",
      "Train Accuracy: 89.3%, Test Accuracy: 87.4%\n"
     ]
    },
    {
     "name": "stderr",
     "output_type": "stream",
     "text": [
      "2020-11-01 08:11:30,578: INFO: finish 评估模型 [elapsed time: 4.51 seconds]\n"
     ]
    },
    {
     "data": {
      "image/png": "[encoded data removed]",
      "text/plain": [
       "<Figure size 576x216 with 1 Axes>"
      ]
     },
     "metadata": {
      "needs_background": "light"
     },
     "output_type": "display_data"
    }
   ],
   "source": [
    "with TaskTime('创建模型', True): \n",
    "    model = neural_network( )\n",
    "\n",
    "tf_train_evaluate(model, epochs=5)"
   ]
  },
  {
   "cell_type": "markdown",
   "metadata": {},
   "source": [
    "![image-20201028095215543](images/image-20201028095215543.png)\n",
    "\n",
    "Accuracy只有87%左右，下面再来看LeNet。别忘了由于采用卷积神经网络，需要有channel，所以对数据增加一个维度。"
   ]
  },
  {
   "cell_type": "code",
   "execution_count": 41,
   "metadata": {},
   "outputs": [],
   "source": [
    "train_images = tf.expand_dims(train_images, axis=-1)\n",
    "test_images = tf.expand_dims(test_images, axis=-1)\n",
    "\n",
    "# 下面两行代码可以实现上面相同的逻辑\n",
    "# train_images = train_images[..., np.newaxis]\n",
    "# test_images = test_images[..., np.newaxis]"
   ]
  },
  {
   "cell_type": "markdown",
   "metadata": {},
   "source": [
    "训练代码如下："
   ]
  },
  {
   "cell_type": "code",
   "execution_count": 42,
   "metadata": {
    "scrolled": false
   },
   "outputs": [
    {
     "name": "stderr",
     "output_type": "stream",
     "text": [
      "2020-11-01 08:12:55,633: INFO: start 创建模型\n",
      "2020-11-01 08:12:56,213: INFO: finish 创建模型 [elapsed time: 0.58 seconds]\n",
      "2020-11-01 08:12:56,215: INFO: start 显示参数\n"
     ]
    },
    {
     "name": "stdout",
     "output_type": "stream",
     "text": [
      "Model: \"sequential_5\"\n",
      "_________________________________________________________________\n",
      "Layer (type)                 Output Shape              Param #   \n",
      "=================================================================\n",
      "conv2d_4 (Conv2D)            (None, 28, 28, 6)         156       \n",
      "_________________________________________________________________\n",
      "max_pooling2d_4 (MaxPooling2 (None, 14, 14, 6)         0         \n",
      "_________________________________________________________________\n",
      "conv2d_5 (Conv2D)            (None, 10, 10, 16)        2416      \n",
      "_________________________________________________________________\n",
      "max_pooling2d_5 (MaxPooling2 (None, 5, 5, 16)          0         \n",
      "_________________________________________________________________\n",
      "flatten_5 (Flatten)          (None, 400)               0         \n",
      "_________________________________________________________________\n",
      "dense_12 (Dense)             (None, 120)               48120     \n",
      "_________________________________________________________________\n",
      "dense_13 (Dense)             (None, 84)                10164     \n",
      "_________________________________________________________________\n",
      "dense_14 (Dense)             (None, 10)                850       \n",
      "=================================================================\n",
      "Total params: 61,706\n",
      "Trainable params: 61,706\n",
      "Non-trainable params: 0\n",
      "_________________________________________________________________\n"
     ]
    },
    {
     "name": "stderr",
     "output_type": "stream",
     "text": [
      "2020-11-01 08:12:56,719: INFO: finish 显示参数 [elapsed time: 0.50 seconds]\n",
      "2020-11-01 08:12:56,720: INFO: start 模型训练\n"
     ]
    },
    {
     "name": "stdout",
     "output_type": "stream",
     "text": [
      "Epoch 1/5\n",
      "1875/1875 [==============================] - 6s 3ms/step - loss: 0.5107 - accuracy: 0.8131 - val_loss: 0.3941 - val_accuracy: 0.8614\n",
      "Epoch 2/5\n",
      "1875/1875 [==============================] - 5s 3ms/step - loss: 0.3469 - accuracy: 0.8718 - val_loss: 0.3345 - val_accuracy: 0.8787\n",
      "Epoch 3/5\n",
      "1875/1875 [==============================] - 5s 3ms/step - loss: 0.3022 - accuracy: 0.8894 - val_loss: 0.3316 - val_accuracy: 0.8790\n",
      "Epoch 4/5\n",
      "1875/1875 [==============================] - 5s 3ms/step - loss: 0.2770 - accuracy: 0.8969 - val_loss: 0.3187 - val_accuracy: 0.8818\n",
      "Epoch 5/5\n",
      "1875/1875 [==============================] - 5s 3ms/step - loss: 0.2530 - accuracy: 0.9056 - val_loss: 0.2956 - val_accuracy: 0.8929\n"
     ]
    },
    {
     "name": "stderr",
     "output_type": "stream",
     "text": [
      "2020-11-01 08:13:25,609: INFO: finish 模型训练 [elapsed time: 28.89 seconds]\n",
      "2020-11-01 08:13:25,610: INFO: start 评估模型\n"
     ]
    },
    {
     "name": "stdout",
     "output_type": "stream",
     "text": [
      "1875/1875 - 4s - loss: 0.2276 - accuracy: 0.9136\n",
      "313/313 - 1s - loss: 0.2956 - accuracy: 0.8929\n",
      "Train Accuracy: 91.4%, Test Accuracy: 89.3%\n"
     ]
    },
    {
     "name": "stderr",
     "output_type": "stream",
     "text": [
      "2020-11-01 08:13:30,530: INFO: finish 评估模型 [elapsed time: 4.92 seconds]\n"
     ]
    },
    {
     "data": {
      "image/png": "[encoded data removed]",
      "text/plain": [
       "<Figure size 576x216 with 1 Axes>"
      ]
     },
     "metadata": {
      "needs_background": "light"
     },
     "output_type": "display_data"
    }
   ],
   "source": [
    "with TaskTime('创建模型', True): \n",
    "    model = lenet(in_dim=1, n_class=10)\n",
    "\n",
    "tf_train_evaluate(model, epochs=5)"
   ]
  },
  {
   "cell_type": "markdown",
   "metadata": {},
   "source": [
    "![image-20201028100025596](images/image-20201028100025596.png)\n",
    "\n",
    "和pytorch一样，Accuracy同样提高到了89%。然后看改进的LeNet。它增加了一层卷积，并大大增加了卷积的深度，同时减少了一层全连接层（或许可以减少一些过拟合）。"
   ]
  },
  {
   "cell_type": "code",
   "execution_count": 43,
   "metadata": {},
   "outputs": [
    {
     "name": "stderr",
     "output_type": "stream",
     "text": [
      "2020-11-01 08:14:45,334: INFO: start 创建模型\n",
      "2020-11-01 08:14:45,932: INFO: finish 创建模型 [elapsed time: 0.60 seconds]\n",
      "2020-11-01 08:14:45,934: INFO: start 显示参数\n"
     ]
    },
    {
     "name": "stdout",
     "output_type": "stream",
     "text": [
      "Model: \"sequential_6\"\n",
      "_________________________________________________________________\n",
      "Layer (type)                 Output Shape              Param #   \n",
      "=================================================================\n",
      "conv2d_6 (Conv2D)            (None, 28, 28, 32)        320       \n",
      "_________________________________________________________________\n",
      "max_pooling2d_6 (MaxPooling2 (None, 14, 14, 32)        0         \n",
      "_________________________________________________________________\n",
      "conv2d_7 (Conv2D)            (None, 12, 12, 64)        18496     \n",
      "_________________________________________________________________\n",
      "max_pooling2d_7 (MaxPooling2 (None, 6, 6, 64)          0         \n",
      "_________________________________________________________________\n",
      "conv2d_8 (Conv2D)            (None, 4, 4, 64)          36928     \n",
      "_________________________________________________________________\n",
      "flatten_6 (Flatten)          (None, 1024)              0         \n",
      "_________________________________________________________________\n",
      "dense_15 (Dense)             (None, 64)                65600     \n",
      "_________________________________________________________________\n",
      "dense_16 (Dense)             (None, 10)                650       \n",
      "=================================================================\n",
      "Total params: 121,994\n",
      "Trainable params: 121,994\n",
      "Non-trainable params: 0\n",
      "_________________________________________________________________\n"
     ]
    },
    {
     "name": "stderr",
     "output_type": "stream",
     "text": [
      "2020-11-01 08:14:46,437: INFO: finish 显示参数 [elapsed time: 0.50 seconds]\n",
      "2020-11-01 08:14:46,438: INFO: start 模型训练\n"
     ]
    },
    {
     "name": "stdout",
     "output_type": "stream",
     "text": [
      "Epoch 1/5\n",
      "1875/1875 [==============================] - 6s 3ms/step - loss: 0.4437 - accuracy: 0.8369 - val_loss: 0.3450 - val_accuracy: 0.8738\n",
      "Epoch 2/5\n",
      "1875/1875 [==============================] - 6s 3ms/step - loss: 0.2890 - accuracy: 0.8938 - val_loss: 0.2785 - val_accuracy: 0.8950\n",
      "Epoch 3/5\n",
      "1875/1875 [==============================] - 6s 3ms/step - loss: 0.2436 - accuracy: 0.9092 - val_loss: 0.2622 - val_accuracy: 0.9042\n",
      "Epoch 4/5\n",
      "1875/1875 [==============================] - 6s 3ms/step - loss: 0.2135 - accuracy: 0.9206 - val_loss: 0.2663 - val_accuracy: 0.9073\n",
      "Epoch 5/5\n",
      "1875/1875 [==============================] - 6s 3ms/step - loss: 0.1914 - accuracy: 0.9290 - val_loss: 0.2431 - val_accuracy: 0.9126\n"
     ]
    },
    {
     "name": "stderr",
     "output_type": "stream",
     "text": [
      "2020-11-01 08:15:16,797: INFO: finish 模型训练 [elapsed time: 30.36 seconds]\n",
      "2020-11-01 08:15:16,799: INFO: start 评估模型\n"
     ]
    },
    {
     "name": "stdout",
     "output_type": "stream",
     "text": [
      "1875/1875 - 4s - loss: 0.1660 - accuracy: 0.9394\n",
      "313/313 - 1s - loss: 0.2431 - accuracy: 0.9126\n",
      "Train Accuracy: 93.9%, Test Accuracy: 91.3%\n"
     ]
    },
    {
     "name": "stderr",
     "output_type": "stream",
     "text": [
      "2020-11-01 08:15:27,202: INFO: finish 评估模型 [elapsed time: 10.40 seconds]\n"
     ]
    },
    {
     "data": {
      "image/png": "[encoded data removed]",
      "text/plain": [
       "<Figure size 576x216 with 1 Axes>"
      ]
     },
     "metadata": {
      "needs_background": "light"
     },
     "output_type": "display_data"
    }
   ],
   "source": [
    "def lenet1(in_dim=1, n_class=10):\n",
    "    model = models.Sequential()\n",
    "    model.add(layers.Conv2D(32, (3, 3), activation='relu', padding=\"same\", input_shape=(28, 28, in_dim)))\n",
    "    model.add(layers.MaxPooling2D((2, 2)))\n",
    "    model.add(layers.Conv2D(64, (3, 3), activation='relu'))\n",
    "    model.add(layers.MaxPooling2D((2, 2)))\n",
    "    model.add(layers.Conv2D(64, (3, 3), activation='relu'))    \n",
    "    model.add(layers.Flatten())\n",
    "    model.add(layers.Dense(64, activation='relu'))\n",
    "    model.add(layers.Dense(n_class))    \n",
    "    return model\n",
    "\n",
    "with TaskTime('创建模型', True): \n",
    "    model = lenet1(in_dim=1, n_class=10)\n",
    "\n",
    "tf_train_evaluate(model, epochs=5)"
   ]
  },
  {
   "cell_type": "code",
   "execution_count": 44,
   "metadata": {},
   "outputs": [
    {
     "name": "stderr",
     "output_type": "stream",
     "text": [
      "2020-11-01 08:16:56,113: INFO: start 显示参数\n"
     ]
    },
    {
     "name": "stdout",
     "output_type": "stream",
     "text": [
      "Model: \"sequential_6\"\n",
      "_________________________________________________________________\n",
      "Layer (type)                 Output Shape              Param #   \n",
      "=================================================================\n",
      "conv2d_6 (Conv2D)            (None, 28, 28, 32)        320       \n",
      "_________________________________________________________________\n",
      "max_pooling2d_6 (MaxPooling2 (None, 14, 14, 32)        0         \n",
      "_________________________________________________________________\n",
      "conv2d_7 (Conv2D)            (None, 12, 12, 64)        18496     \n",
      "_________________________________________________________________\n",
      "max_pooling2d_7 (MaxPooling2 (None, 6, 6, 64)          0         \n",
      "_________________________________________________________________\n",
      "conv2d_8 (Conv2D)            (None, 4, 4, 64)          36928     \n",
      "_________________________________________________________________\n",
      "flatten_6 (Flatten)          (None, 1024)              0         \n",
      "_________________________________________________________________\n",
      "dense_15 (Dense)             (None, 64)                65600     \n",
      "_________________________________________________________________\n",
      "dense_16 (Dense)             (None, 10)                650       \n",
      "=================================================================\n",
      "Total params: 121,994\n",
      "Trainable params: 121,994\n",
      "Non-trainable params: 0\n",
      "_________________________________________________________________\n"
     ]
    },
    {
     "name": "stderr",
     "output_type": "stream",
     "text": [
      "2020-11-01 08:16:56,617: INFO: finish 显示参数 [elapsed time: 0.50 seconds]\n",
      "2020-11-01 08:16:56,619: INFO: start 模型训练\n"
     ]
    },
    {
     "name": "stdout",
     "output_type": "stream",
     "text": [
      "Epoch 1/5\n",
      "1875/1875 [==============================] - 6s 3ms/step - loss: 0.1738 - accuracy: 0.9350 - val_loss: 0.2308 - val_accuracy: 0.9166\n",
      "Epoch 2/5\n",
      "1875/1875 [==============================] - 6s 3ms/step - loss: 0.1550 - accuracy: 0.9416 - val_loss: 0.2453 - val_accuracy: 0.9156\n",
      "Epoch 3/5\n",
      "1875/1875 [==============================] - 6s 3ms/step - loss: 0.1380 - accuracy: 0.9478 - val_loss: 0.2487 - val_accuracy: 0.9160\n",
      "Epoch 4/5\n",
      "1875/1875 [==============================] - 6s 3ms/step - loss: 0.1230 - accuracy: 0.9539 - val_loss: 0.2530 - val_accuracy: 0.9197\n",
      "Epoch 5/5\n",
      "1875/1875 [==============================] - 6s 3ms/step - loss: 0.1139 - accuracy: 0.9570 - val_loss: 0.2542 - val_accuracy: 0.9173\n"
     ]
    },
    {
     "name": "stderr",
     "output_type": "stream",
     "text": [
      "2020-11-01 08:17:26,968: INFO: finish 模型训练 [elapsed time: 30.35 seconds]\n",
      "2020-11-01 08:17:26,969: INFO: start 评估模型\n"
     ]
    },
    {
     "name": "stdout",
     "output_type": "stream",
     "text": [
      "1875/1875 - 4s - loss: 0.0976 - accuracy: 0.9642\n",
      "313/313 - 1s - loss: 0.2542 - accuracy: 0.9173\n",
      "Train Accuracy: 96.4%, Test Accuracy: 91.7%\n"
     ]
    },
    {
     "name": "stderr",
     "output_type": "stream",
     "text": [
      "2020-11-01 08:17:32,080: INFO: finish 评估模型 [elapsed time: 5.11 seconds]\n"
     ]
    },
    {
     "data": {
      "image/png": "[encoded data removed]",
      "text/plain": [
       "<Figure size 576x216 with 1 Axes>"
      ]
     },
     "metadata": {
      "needs_background": "light"
     },
     "output_type": "display_data"
    }
   ],
   "source": [
    "tf_train_evaluate(model, epochs=5)"
   ]
  },
  {
   "cell_type": "markdown",
   "metadata": {},
   "source": [
    "![image-20201028100413237](images/image-20201028100413237.png)\n",
    "\n",
    "同样，Accuracy也提高到了91%。如果再训练5个epoch，得到结果如下。\n",
    "\n",
    "![image-20201028100558373](images/image-20201028100558373.png)\n",
    "\n",
    "准确率还是91%多，但过拟合明显严重多了，看来要继续改进模型结构才可以啊。\n",
    "\n",
    "## 总结\n",
    "\n",
    "归纳上面的模型训练结果，可以得出以下几个结论。\n",
    "\n",
    "- LeNet比经典的神经网络参数要少，模型收敛更快，准确率明显提升。\n",
    "- MNIST数据集过于简单了，很简单的算法也能轻易取得99%的准确率。建议采用Fashion MNIST作为替代。\n",
    "- 增加卷积的深度，对于准确率的提升是有明显作用的。\n",
    "- 本文中，对于Fashion MNIST最好只能取得91%的准确率，还需要采用新的模型结构才能继续提升。\n",
    "\n",
    "## 参考\n",
    "\n",
    "- [TensorFlow 2 quickstart for beginners](https://www.tensorflow.org/tutorials/quickstart/beginner)\n",
    "\n",
    "## 历史\n",
    "\n",
    "- 2020-10-26：初始版本\n",
    "- 2020-10-28：采用相同算法，对Fashion Mnist数据集进行分类"
   ]
  }
 ],
 "metadata": {
  "kernelspec": {
   "display_name": "Python 3",
   "language": "python",
   "name": "python3"
  },
  "language_info": {
   "codemirror_mode": {
    "name": "ipython",
    "version": 3
   },
   "file_extension": ".py",
   "mimetype": "text/x-python",
   "name": "python",
   "nbconvert_exporter": "python",
   "pygments_lexer": "ipython3",
   "version": "3.6.9"
  }
 },
 "nbformat": 4,
 "nbformat_minor": 4
}
