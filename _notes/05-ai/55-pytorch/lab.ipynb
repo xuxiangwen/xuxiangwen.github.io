{
 "cells": [
  {
   "cell_type": "markdown",
   "id": "1e29ec08-9a9e-457c-b4dd-6066e928dedd",
   "metadata": {},
   "source": [
    "## Skills"
   ]
  },
  {
   "cell_type": "markdown",
   "id": "6ce6af2d-d659-44d2-97a2-a082b1ad7f44",
   "metadata": {
    "execution": {
     "iopub.execute_input": "2025-03-19T06:32:41.559525Z",
     "iopub.status.busy": "2025-03-19T06:32:41.559525Z",
     "iopub.status.idle": "2025-03-19T06:32:41.567251Z",
     "shell.execute_reply": "2025-03-19T06:32:41.566246Z",
     "shell.execute_reply.started": "2025-03-19T06:32:41.559525Z"
    }
   },
   "source": [
    "### argmax函数\n",
    "\n",
    "torch.argmax 是 PyTorch 中的一个函数，用于返回张量中指定维度上最大值的索引。它常用于分类任务中，从模型的输出中找到预测类别的索引。\n",
    "\n",
    "~~~\n",
    "torch.argmax(input, dim=None, keepdim=False) → LongTensor|\n",
    "~~~\n",
    "\n",
    "参数说明\n",
    "- input: 输入张量。\n",
    "- dim: 指定沿哪个维度寻找最大值的索引。如果设置为 None，则返回整个张量中最大值的索引（张量会被展平）。\n",
    "- keepdim: 是否保留输出张量的维度。\n",
    "    - 如果为 True，输出张量的维度与输入张量相同（在指定维度上为 1）。\n",
    "    - 如果为 False，输出张量会减少一个维度。\n",
    "\n",
    "返回值\n",
    "- 返回一个 LongTensor，包含最大值的索引。"
   ]
  },
  {
   "cell_type": "code",
   "execution_count": 7,
   "id": "8f6a6dac-a536-48a5-a0bc-50d30771c44d",
   "metadata": {
    "execution": {
     "iopub.execute_input": "2025-03-19T07:48:35.475553Z",
     "iopub.status.busy": "2025-03-19T07:48:35.474611Z",
     "iopub.status.idle": "2025-03-19T07:48:35.485345Z",
     "shell.execute_reply": "2025-03-19T07:48:35.484336Z",
     "shell.execute_reply.started": "2025-03-19T07:48:35.475553Z"
    }
   },
   "outputs": [
    {
     "name": "stdout",
     "output_type": "stream",
     "text": [
      "tensor([2, 1])\n",
      "tensor([1, 1, 0])\n"
     ]
    },
    {
     "data": {
      "text/plain": [
       "torch.Size([3])"
      ]
     },
     "execution_count": 7,
     "metadata": {},
     "output_type": "execute_result"
    }
   ],
   "source": [
    "import torch\n",
    "\n",
    "# 创建一个二维张量\n",
    "x = torch.tensor([[1, 2, 6],\n",
    "                  [4, 6, 5]])\n",
    "\n",
    "# 按行（dim=1）取最大值的索引\n",
    "result = torch.argmax(x, dim=1)\n",
    "print(result)  # 输出: tensor([1, 1])\n",
    "\n",
    "\n",
    "result = torch.argmax(x, dim=0)\n",
    "print(result)  # 输出: tensor([1, 1, 1])\n"
   ]
  },
  {
   "cell_type": "markdown",
   "id": "bbfd65ff-4464-418d-999f-c7c6911de028",
   "metadata": {
    "execution": {
     "iopub.execute_input": "2025-03-19T06:33:41.531219Z",
     "iopub.status.busy": "2025-03-19T06:33:41.530218Z",
     "iopub.status.idle": "2025-03-19T06:33:41.535575Z",
     "shell.execute_reply": "2025-03-19T06:33:41.534570Z",
     "shell.execute_reply.started": "2025-03-19T06:33:41.531219Z"
    }
   },
   "source": [
    "### squeeze\n",
    "\n",
    "- 删除张量中 大小为 1 的维度。\n",
    "- 如果指定 dim 参数，则仅删除该维度（如果该维度大小为 1）。\n",
    "\n",
    "~~~\n",
    "torch.squeeze(input, dim=None)\n",
    "~~~"
   ]
  },
  {
   "cell_type": "code",
   "execution_count": 4,
   "id": "a2b5e1a3-124c-49ac-985c-0fcefc0c959f",
   "metadata": {
    "execution": {
     "iopub.execute_input": "2025-03-19T06:34:24.548143Z",
     "iopub.status.busy": "2025-03-19T06:34:24.547137Z",
     "iopub.status.idle": "2025-03-19T06:34:24.569031Z",
     "shell.execute_reply": "2025-03-19T06:34:24.569031Z",
     "shell.execute_reply.started": "2025-03-19T06:34:24.548143Z"
    }
   },
   "outputs": [
    {
     "name": "stdout",
     "output_type": "stream",
     "text": [
      "Original shape: torch.Size([1, 3, 1, 5])\n",
      "Squeezed shape: torch.Size([3, 5])\n",
      "Squeezed shape: torch.Size([3, 1, 5])\n",
      "Squeezed shape: torch.Size([1, 3, 1, 5])\n"
     ]
    }
   ],
   "source": [
    "import torch\n",
    "\n",
    "# 示例 1：删除所有大小为 1 的维度\n",
    "tensor = torch.randn(1, 3, 1, 5)  # 形状为 (1, 3, 1, 5)\n",
    "print(\"Original shape:\", tensor.shape)  # 输出 torch.Size([1, 3, 1, 5])\n",
    "\n",
    "squeezed_tensor = torch.squeeze(tensor)\n",
    "print(\"Squeezed shape:\", squeezed_tensor.shape)  # 输出 torch.Size([3, 5])\n",
    "\n",
    "# 示例 2：指定维度删除\n",
    "tensor = torch.randn(1, 3, 1, 5)  # 形状为 (1, 3, 1, 5)\n",
    "squeezed_tensor = torch.squeeze(tensor, dim=0)  # 删除第 0 轴\n",
    "print(\"Squeezed shape:\", squeezed_tensor.shape)  # 输出 torch.Size([3, 1, 5])\n",
    "\n",
    "# 示例 3：指定维度但大小不为 1\n",
    "tensor = torch.randn(1, 3, 1, 5)  # 形状为 (1, 3, 1, 5)\n",
    "squeezed_tensor = torch.squeeze(tensor, dim=1)  # 第 1 轴大小为 3，不会被删除\n",
    "print(\"Squeezed shape:\", squeezed_tensor.shape)  # 输出 torch.Size([1, 3, 1, 5])"
   ]
  },
  {
   "cell_type": "code",
   "execution_count": null,
   "id": "25db0a1e-7e3a-4ef6-bf2f-4aeee21ba54f",
   "metadata": {},
   "outputs": [],
   "source": []
  }
 ],
 "metadata": {
  "kernelspec": {
   "display_name": "Python 3 (ipykernel)",
   "language": "python",
   "name": "python3"
  },
  "language_info": {
   "codemirror_mode": {
    "name": "ipython",
    "version": 3
   },
   "file_extension": ".py",
   "mimetype": "text/x-python",
   "name": "python",
   "nbconvert_exporter": "python",
   "pygments_lexer": "ipython3",
   "version": "3.12.7"
  }
 },
 "nbformat": 4,
 "nbformat_minor": 5
}
