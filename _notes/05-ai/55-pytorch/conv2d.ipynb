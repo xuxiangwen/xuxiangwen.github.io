{
 "cells": [
  {
   "cell_type": "markdown",
   "metadata": {},
   "source": [
    "---\n",
    "title: Conv2D\n",
    "categories: deep-learning\n",
    "date: 2020-10-22\n",
    "---\n",
    "\n",
    "本文将详细介绍Conv2d，并比较torch和tensorflow中的定义，然后通过它们实现经典的[LeNet](https://www.jiqizhixin.com/graph/technologies/6c9baf12-1a32-4c53-8217-8c9f69bd011b)。\n",
    "\n",
    "## [torch.nn.Conv2d](https://pytorch.org/docs/stable/nn.html?highlight=conv2d#torch.nn.Conv2d)"
   ]
  },
  {
   "cell_type": "code",
   "execution_count": 1,
   "metadata": {},
   "outputs": [
    {
     "ename": "SyntaxError",
     "evalue": "invalid syntax (<ipython-input-1-48fb7b5c5c0d>, line 1)",
     "output_type": "error",
     "traceback": [
      "\u001b[0;36m  File \u001b[0;32m\"<ipython-input-1-48fb7b5c5c0d>\"\u001b[0;36m, line \u001b[0;32m1\u001b[0m\n\u001b[0;31m    class torch.nn.Conv2d(\u001b[0m\n\u001b[0m               ^\u001b[0m\n\u001b[0;31mSyntaxError\u001b[0m\u001b[0;31m:\u001b[0m invalid syntax\n"
     ]
    }
   ],
   "source": [
    "class torch.nn.Conv2d(\n",
    "  in_channels,  # int，输入通道数\n",
    "  out_channels, # int，输出通道数\n",
    "  kernel_size,  # int或Tuple[int, int]，卷积核大小\n",
    "  stride=1,     # int或Tuple[int, int]，滑动窗口，指每次卷积对原数据滑动stride个单元格\n",
    "  padding=0,    # int或Tuple[int, int]，两边的空白填充（一般补0）\n",
    "  dilation=1,   # int或Tuple[int, int]，膨胀系数，一个卷积核内部之间的间隔\n",
    "  groups=1,     # int，Number of blocked connections from input channels to output channels. \n",
    "  bias=True,    # bool，是否启用bias\n",
    "  padding_mode='zeros'  # str，选择有'zeros', 'reflect', 'replicate' or 'circular'\n",
    ")"
   ]
  },
  {
   "cell_type": "markdown",
   "metadata": {},
   "source": [
    "- input shape: $(N,C_{in}, H_{in},W_{in})$\n",
    "\n",
    "  - $N$：batch size。也就是每次训练所使用的样本个数\n",
    "  - $C_{in}$： 输入channel数量\n",
    "  - $H_{in}$：输入图片的(像素)高度\n",
    "  - $W_{in}$： 输入图性的(像素)宽度\n",
    "  \n",
    "- output shape: $(N,C_{out}, H_{out},W_{out})$\n",
    "\n",
    "  - $N$：batch size。也就是每次训练所使用的样本个数\n",
    "  - $C_{out}$： 输出channel数量\n",
    "  - $H_{out}$：输出图片的(像素)高度\n",
    "  - $W_{out}$：输出图片的(像素)宽度\n",
    "  \n",
    "  设$$\\mathbf {S_{in}} = \\begin{bmatrix} H_{in} & W_{in} \\end{bmatrix}  $$，$$ \\mathbf {S_{out} }= \\begin{bmatrix} H_{out} & W_{out} \\end{bmatrix}  $$，则\n",
    "  $$\n",
    "  \\mathbf {S_{out}} = \\lfloor \\frac {\\mathbf { S_{in}} + 2 \\times \\mathbf {padding}  - \\mathbf {dilation} \\circ (\\mathbf {kernal\\_size} -1 ) - 1} { \\mathbf {stride}}  + 1 \\rfloor\n",
    "  $$\n",
    "  上面的公式中，可以这样逐步理解。\n",
    "  \n",
    "  - $\\mathbf {dilation} \\circ (\\mathbf {kernal\\_size} -1 ) + 1 $： 表示一个卷积核所占的空间\n",
    "  - ${\\mathbf { S_{in}} + 2 \\times \\mathbf {padding}  - \\mathbf {dilation} \\circ (\\mathbf {kernal\\_size} -1 ) - 1}$：表示减去一个卷积核所占空间\n",
    "  - $\\frac {\\mathbf { S_{in}} + 2 \\times \\mathbf {padding}  - \\mathbf {dilation} \\circ (\\mathbf {kernal\\_size} -1 ) - 1} { \\mathbf {stride}}$ ：表示剩下空间可以容纳几个卷积核\n",
    "  - $+ 1$：表示把第2步减去的卷积核，再加回来。\n",
    "  - $\\lfloor \\cdots \\rfloor$：表示向下取整。\n",
    "  \n",
    "  > 上面的逻辑同样适用于Conv1d，Conv3d\n",
    "  \n",
    "- dilation：膨胀系数，一个卷积核内部之间的间隔，默认为1，其卷积核如下图所示：\n",
    "\n",
    "![image-20200113103126914](images/image-20200113103126914.png)\n",
    "\n",
    "​\t\t如果dilation=2，则卷积核如下图所示，计算时忽略白色各自，只有灰色的格子参与。\n",
    "\n",
    "![image-20200113102809015](images/image-20200113102809015.png)\n",
    "\n",
    "- 参数个数\n",
    "    $$\n",
    "    (H_{kernel\\_size} \\times W_{kernel\\_size} \\times C_{in} + 1) *C_{out}\n",
    "    $$"
   ]
  },
  {
   "cell_type": "code",
   "execution_count": 2,
   "metadata": {},
   "outputs": [
    {
     "ename": "SyntaxError",
     "evalue": "invalid syntax (<ipython-input-2-f8145ec86f47>, line 17)",
     "output_type": "error",
     "traceback": [
      "\u001b[0;36m  File \u001b[0;32m\"<ipython-input-2-f8145ec86f47>\"\u001b[0;36m, line \u001b[0;32m17\u001b[0m\n\u001b[0;31m    ~~~\u001b[0m\n\u001b[0m       ^\u001b[0m\n\u001b[0;31mSyntaxError\u001b[0m\u001b[0;31m:\u001b[0m invalid syntax\n"
     ]
    }
   ],
   "source": [
    "~~~python\n",
    "import torch \n",
    "import torch.nn as nn\n",
    "\n",
    "conv2d = torch.nn.Conv2d(\n",
    "    in_channels=3,\n",
    "    out_channels=16,\n",
    "    kernel_size=5\n",
    ")\n",
    "\n",
    "for parameters in conv2d.parameters():\n",
    "    print(parameters.size())\n",
    "\n",
    "# 上面两行代码等价于下面代码    \n",
    "#print(conv2d.weights.size())\n",
    "#print(conv2d.bias.size())\n",
    "~~~\n",
    "\n",
    "![image-20201020090817136](images/image-20201020090817136.png)"
   ]
  },
  {
   "cell_type": "markdown",
   "metadata": {},
   "source": [
    "##  [tensorflow.keras.layers.Conv2D](https://www.tensorflow.org/api_docs/python/tf/keras/layers/Conv2D)\n",
    "\n",
    "tensorflow.keras.layers.Conv2D和torch.nn.Conv2d非常相似，但它集成了更多的功能，比如kernel_initializer，bias_initializer，kernel_regularizer和bias_regularizer等。"
   ]
  },
  {
   "cell_type": "code",
   "execution_count": null,
   "metadata": {},
   "outputs": [],
   "source": [
    "class tf.keras.layers.Conv2D(\n",
    "    filters, \t\t\t\t# int，输出通道数\n",
    "    kernel_size, \t\t\t# int或Tuple[int, int]，卷积核大小\n",
    "    strides=(1, 1), \t\t# int或Tuple[int, int]，滑动窗口，每次卷积对原数据滑动stride个单元格\n",
    "    padding='valid', \t\t# \"valid\"或\"same\"\n",
    "    data_format=None,\t\t# channels_last或channels_first。不指定表示是channels_last。\n",
    "    dilation_rate=(1, 1), \t# int或Tuple[int, int]，膨胀系数，一个卷积核内部之间的间隔\n",
    "    groups=1, \t\t\t\t# the number of groups in which the input is split along the channel axis\n",
    "    activation=None, \t\t# 使用激活函数，默认不使用\n",
    "    use_bias=True,\t\t\t# bool，是否使用bias\n",
    "    kernel_initializer='glorot_uniform', # 卷积核初始化方法\n",
    "    bias_initializer='zeros',\t# 偏差值初始化方法\t\t\t\t\n",
    "    kernel_regularizer=None, \t# 卷积核正则化\n",
    "    bias_regularizer=None, \t\t# 偏差正则化\n",
    "    activity_regularizer=None,\t# activation函数的正则化，不太理解      \n",
    "    kernel_constraint=None, \t# 卷积核的Constraint function，不太理解  \n",
    "    bias_constraint=None, \t\t# bias的Constraint function，不太理解   \n",
    "    **kwargs\n",
    ")"
   ]
  },
  {
   "cell_type": "markdown",
   "metadata": {},
   "source": [
    "- input shape\n",
    "\n",
    "  - 当data_format=channels_last，则shape为$(N, H_{in},W_{in},C_{in})$\n",
    "  - 当data_format=channels_first，则shape为$(N,C_{in}, H_{in},W_{in})$，和pytorch相同\n",
    "\n",
    "- output shape"
   ]
  },
  {
   "cell_type": "code",
   "execution_count": null,
   "metadata": {},
   "outputs": [],
   "source": [
    "- 当data_format=channels_last，则格式为 $(N, H_{out},W_{out},C_{out})$\n",
    "- 当data_format=channels_first，则格式为$(N,C_{out}，H_{out},W_{out})$，和pytorch相同\n",
    "\n",
    "设$$\\mathbf {S_{in}} = \\begin{bmatrix} H_{in} & W_{in} \\end{bmatrix}  $$，$$ \\mathbf {S_{out} }= \\begin{bmatrix} H_{out} & W_{out} \\end{bmatrix}  $$，则\n",
    "$$\n",
    "\\mathbf {S_{out}} = \n",
    "\\begin{equation}  \n",
    "\\left\\{  \n",
    "\\begin{array}{lcl}  \n",
    "\\lfloor \\frac {\\mathbf { S_{in}}  - \\mathbf {dilation} \\circ (\\mathbf {kernal\\_size} -1 ) - 1} { \\mathbf {stride}}  + 1 \\rfloor  &  &  valid \\\\  \n",
    "\\lfloor \\frac {\\mathbf { S_{in}} } { \\mathbf {stride}}   \\rfloor &  &  same  \n",
    "\\end{array}  \n",
    "\\right.\n",
    "\\end{equation}\n",
    "$$\n",
    "\n",
    "> 上面的逻辑同样适用于Conv1d，Conv3d"
   ]
  },
  {
   "cell_type": "markdown",
   "metadata": {},
   "source": [
    "- 参数个数\n",
    "\n",
    "  $$\n",
    "  (H_{kernel\\_size} \\times W_{kernel\\_size} \\times C_{in} + 1) *C_{out}\n",
    "  $$\n",
    "\n",
    "  ~~~python\n",
    "  import tensorflow as tf\n",
    "  \n",
    "  conv2d = tf.keras.layers.Conv2D(\n",
    "      filters=16, \n",
    "      kernel_size=5, \n",
    "      input_shape=[28,28,3])\n",
    "  \n",
    "  x = tf.ones([10, 28, 28, 3])\n",
    "  y = conv2d(x)\n",
    "  print(conv2d.kernel.shape)\n",
    "  print(conv2d.bias.shape)\n",
    "  ~~~\n",
    "\n",
    "  ![image-20201020093743424](images/image-20201020093743424.png)\n",
    "\n",
    "  从结果上看，参数的个数和pytorch完全相同，但维度的设置不同。\n",
    "\n",
    "## padding逻辑\n",
    "\n",
    "前文介绍了pytorch和tensorflow中关于padding逻辑，下面以Conv1D为例（Conv2D逻辑是相同的），展示了其中的细节，首先看tensorflow的padding。\n",
    "\n",
    "- valid：边缘不填充\n",
    "\n",
    "- same：边缘用0填充\n",
    "\n",
    "  和pytorch中不同，tersoflow中边缘的填充更加的自动化。下面以$W_{kernel\\_size}$为例。\n",
    "\n",
    "  - 左边：填充$\\lfloor  \\frac 1 2 (W_{kernel\\_size}-1) \\rfloor $个数据\n",
    "  - 右边：填充$\\lfloor  \\frac 1 2 W_{kernel\\_size} \\rfloor $个数据\n",
    "\n",
    "  总体原则是两边补0，然后实际的数据尽量位于中心位置。当$\\mathbf {stride}=1$，如下图所示。\n",
    "\n",
    "  ![image-20201019164450543](images/image-20201019164450543.png)\n",
    "\n",
    "  当$\\mathbf {stride}=2$，和上面不同在于，扣掉了一些数据。\n",
    "\n",
    "  ![image-20201019164507736](images/image-20201019164507736.png)\n",
    "\n",
    "验证代码如下。"
   ]
  },
  {
   "cell_type": "code",
   "execution_count": null,
   "metadata": {},
   "outputs": [],
   "source": [
    "import tensorflow as tf\n",
    "\n",
    "def conv1d(x, kernel_size=4, strides=2, padding='same'):    \n",
    "    print('-'*10 + 'kernel_size={}, strides={}, padding={}'.format(kernel_size, strides, padding) + '-'*10)\n",
    "    y = tf.keras.layers.Conv1D(\n",
    "        filters=1, \n",
    "        kernel_size=kernel_size, \n",
    "        strides=strides, \n",
    "        padding=padding,\n",
    "        input_shape=x.shape[1:], \n",
    "        kernel_initializer='ones',\n",
    "        bias_constraint='zeros'\n",
    "    )(x)\n",
    "    print(y)\n",
    "    \n",
    "input_shape = (1, 9, 1)\n",
    "x = tf.constant([1, 2, 3, 4, 5, 6, 7, 8, 9], shape=input_shape, dtype=tf.float32)\n",
    "\n",
    "print('='*25 + \"strides=1\" + '='*25)\n",
    "conv1d(x, kernel_size=5, strides=1, padding='valid')\n",
    "conv1d(x, kernel_size=5, strides=1, padding='same')\n",
    "conv1d(x, kernel_size=6, strides=1, padding='valid')\n",
    "conv1d(x, kernel_size=6, strides=1, padding='same')\n",
    "\n",
    "print('='*25 + \"strides=2\" + '='*25)\n",
    "conv1d(x, kernel_size=5, strides=2, padding='valid')\n",
    "conv1d(x, kernel_size=5, strides=2, padding='same')\n",
    "conv1d(x, kernel_size=6, strides=2, padding='valid')\n",
    "conv1d(x, kernel_size=6, strides=2, padding='same')"
   ]
  },
  {
   "cell_type": "markdown",
   "metadata": {},
   "source": [
    "![image-20201019163827280](images/image-20201019163827280.png)\n",
    "\n",
    "![image-20201019163914449](images/image-20201019163914449.png)\n",
    "\n",
    "对于padding的添加，tensorflow更加的智能，而pytorch交给用户自己来决定。下面是pytorch的逻辑，非常相似。\n",
    "\n",
    "![image-20201019201811447](images/image-20201019201811447.png)"
   ]
  },
  {
   "cell_type": "code",
   "execution_count": null,
   "metadata": {
    "attributes": {
     "classes": [
      "pytorch"
     ],
     "id": ""
    }
   },
   "outputs": [],
   "source": [
    "import torch \n",
    "\n",
    "def conv1d(x, kernel_size=4, stride=2, padding=0):   \n",
    "    print('-'*10 + 'kernel_size={}, stride={}, padding={}'.format(kernel_size, stride, padding) + '-'*10)\n",
    "    output = torch.nn.Conv1d(\n",
    "        in_channels=1,\n",
    "        out_channels=1,\n",
    "        kernel_size=kernel_size,\n",
    "        stride=stride, \n",
    "        padding=padding\n",
    "    )\n",
    "    output.weight = torch.nn.Parameter(torch.ones(1, 1, kernel_size))\n",
    "    output.bias = torch.nn.Parameter(torch.zeros(1))\n",
    "    y = output(x)\n",
    "    print(y)\n",
    "    \n",
    "\n",
    "input_shape = (1, 1, 9)\n",
    "x = torch.tensor([1, 2, 3, 4, 5, 6, 7, 8, 9], dtype=torch.float)\n",
    "x = x.view(input_shape)\n",
    "print('='*25 + \"stride=1\" + '='*25)\n",
    "conv1d(x, kernel_size=5, stride=1, padding=0)\n",
    "conv1d(x, kernel_size=5, stride=1, padding=2)\n",
    "conv1d(x, kernel_size=6, stride=1, padding=0)\n",
    "conv1d(x, kernel_size=6, stride=1, padding=3)\n",
    "\n",
    "print('='*25 + \"stride=2\" + '='*25)\n",
    "conv1d(x, kernel_size=5, stride=2, padding=0)\n",
    "conv1d(x, kernel_size=5, stride=2, padding=2)\n",
    "conv1d(x, kernel_size=6, stride=2, padding=0)\n",
    "conv1d(x, kernel_size=6, stride=2, padding=3)"
   ]
  },
  {
   "cell_type": "markdown",
   "metadata": {},
   "source": [
    "![image-20201019201844500](images/image-20201019201844500.png)\n",
    "\n",
    "## 实现LeNet\n",
    "\n",
    "LeNet是Yann LeCun等人提出的卷积神经网络结构，有多个版本，一般LeNet即指LeNet-5。其结果图如下：\n",
    "\n",
    "![image-20201019113632136](images/image-20201019113632136.png)\n",
    "\n",
    "### pytorch实现\n",
    "\n",
    "从上面结构图来看，不算输入层，LeNet共有7层，但有参数的只有5层，所以在pytorch中使用torch.nn定了这5层，而其它两层使用torch.nn.functional来定义。下面是模型代码。"
   ]
  },
  {
   "cell_type": "code",
   "execution_count": 40,
   "metadata": {},
   "outputs": [],
   "source": [
    "import logging\n",
    "import matplotlib.pyplot as plt\n",
    "import numpy as np\n",
    "import os\n",
    "import time\n",
    "import torch\n",
    "import torchvision\n",
    "import torch.nn.functional as F\n",
    "from torch import nn, optim\n",
    "from torch.utils.data import DataLoader\n",
    "from torchvision import transforms\n",
    "from torchvision import datasets\n",
    "\n",
    "logging.basicConfig(format='%(asctime)s: %(levelname)s: %(message)s')\n",
    "logging.root.setLevel(level=logging.INFO)\n",
    "\n",
    "\n",
    "class TaskTime:\n",
    "    def __init__(self, task_name, show_start=False):\n",
    "        self.show_start = show_start\n",
    "        self.task_name = task_name\n",
    "        self.start_time = time.time()\n",
    "\n",
    "    def elapsed_time(self):\n",
    "        return time.time()-self.start_time\n",
    "\n",
    "    def __enter__(self):\n",
    "        if self.show_start:\n",
    "            logging.info('start {}'.format(self.task_name))\n",
    "        return self;\n",
    "\n",
    "    def __exit__(self, exc_type, exc_value, exc_tb):\n",
    "        logging.info('finish {} [elapsed time: {:.2f} seconds]'.format(self.task_name, self.elapsed_time()))\n",
    "\n",
    "        \n",
    "class LeNet(nn.Module):\n",
    "    def __init__(self, in_dim=1, n_class=10):\n",
    "        super(LeNet, self).__init__()    \n",
    "\n",
    "        self.conv1 = nn.Conv2d(in_dim, 6, 5)\n",
    "        self.conv2 = nn.Conv2d(6, 16, 5)\n",
    "        self.fc1 = nn.Linear(16 * 5 * 5, 120)  \n",
    "        self.fc2 = nn.Linear(120, 84)\n",
    "        self.fc3 = nn.Linear(84, n_class)        \n",
    "        \n",
    "    def forward(self, x):\n",
    "        x = F.max_pool2d(F.relu(self.conv1(x)), 2)\n",
    "        x = F.max_pool2d(F.relu(self.conv2(x)), 2)\n",
    "        x = x.view(x.size()[0], -1)\n",
    "        x = F.relu(self.fc1(x))\n",
    "        x = F.relu(self.fc2(x))\n",
    "        x = self.fc3(x)\n",
    "        return x\n",
    "    \n",
    "def compute_accuarcy(net, loader, criterion, use_cuda=False):\n",
    "    num_correct = 0\n",
    "    total = 0\n",
    "    with torch.no_grad():\n",
    "        for data in loader:\n",
    "            inputs, labels = data\n",
    "            _, _, _, _, correct, _ = forward_(net, inputs, labels, criterion, use_cuda) \n",
    "            total += labels.size(0)\n",
    "            num_correct += correct\n",
    "    return num_correct/total\n",
    "\n",
    "def forward_(net, inputs, labels, criterion, use_cuda=False):   \n",
    "    if use_cuda and  torch.cuda.is_available(): \n",
    "        net = net.cuda()\n",
    "        criterion = criterion.cuda()\n",
    "        inputs = inputs.cuda()\n",
    "        labels = labels.cuda()\n",
    "    outputs = net(inputs)\n",
    "    loss = criterion(outputs, labels)    \n",
    "    _, predicted = torch.max(outputs.data, 1)\n",
    "    correct = (predicted == labels).sum().item()\n",
    "    accuracy = correct/labels.size(0) \n",
    "    return inputs, labels, outputs, loss, correct, accuracy     \n",
    "    \n",
    "def train(net, criterion, trainloader, optimizer, testloader=None, epoches=2, use_cuda=False):        \n",
    "    for epoch in range(epoches):  # loop over the dataset multiple times\n",
    "        running_loss = 0.0\n",
    "        num_correct = 0\n",
    "        for i, data in enumerate(trainloader, 0):\n",
    "            inputs, labels = data   \n",
    "            # 正向传播\n",
    "            _, _, _, loss, correct, _ = forward_(net, inputs, labels, criterion, use_cuda)   \n",
    "            running_loss += loss\n",
    "            num_correct += correct\n",
    "\n",
    "            # 反向传播\n",
    "            optimizer.zero_grad()\n",
    "            loss.backward()\n",
    "            optimizer.step()\n",
    "\n",
    "            # print statistics\n",
    "            running_loss += loss.item()\n",
    "            if i % 500 == 499:    # print every 2000 mini-batches\n",
    "                print('[%d, %5d] loss: %.3f, accuracy: %.1f' %\n",
    "                      (epoch + 1, i + 1, running_loss / 500, 100*num_correct/labels.size(0)/500))\n",
    "                running_loss = 0.0\n",
    "                num_correct = 0"
   ]
  },
  {
   "cell_type": "markdown",
   "metadata": {},
   "source": [
    "下面是创建模型和数据加载的代码。"
   ]
  },
  {
   "cell_type": "code",
   "execution_count": 27,
   "metadata": {},
   "outputs": [
    {
     "name": "stdout",
     "output_type": "stream",
     "text": [
      "--------------------------------------------------\n",
      "创建模型\n",
      "LeNet(\n",
      "  (conv1): Conv2d(3, 6, kernel_size=(5, 5), stride=(1, 1))\n",
      "  (conv2): Conv2d(6, 16, kernel_size=(5, 5), stride=(1, 1))\n",
      "  (fc1): Linear(in_features=400, out_features=120, bias=True)\n",
      "  (fc2): Linear(in_features=120, out_features=84, bias=True)\n",
      "  (fc3): Linear(in_features=84, out_features=10, bias=True)\n",
      ")\n",
      "--------------------------------------------------\n",
      "显示参数\n",
      "10\n",
      "torch.Size([6, 3, 5, 5])\n",
      "torch.Size([6])\n",
      "torch.Size([16, 6, 5, 5])\n",
      "torch.Size([16])\n",
      "torch.Size([120, 400])\n",
      "torch.Size([120])\n",
      "torch.Size([84, 120])\n",
      "torch.Size([84])\n",
      "torch.Size([10, 84])\n",
      "torch.Size([10])\n",
      "--------------------------------------------------\n",
      "获取数据\n",
      "Files already downloaded and verified\n",
      "Files already downloaded and verified\n",
      "--------------------------------------------------\n",
      "显示图片示例\n",
      "torch.Size([32, 3, 32, 32])\n"
     ]
    },
    {
     "data": {
      "image/png": "[encoded data removed]",
      "text/plain": [
       "<Figure size 864x108 with 1 Axes>"
      ]
     },
     "metadata": {
      "needs_background": "light"
     },
     "output_type": "display_data"
    },
    {
     "name": "stdout",
     "output_type": "stream",
     "text": [
      " deer  frog   dog  deer horse  ship  ship  ship\n"
     ]
    }
   ],
   "source": [
    "print(\"-\"*50 + \"\\n创建模型\")    \n",
    "net = LeNet(in_dim=3, n_class=10)\n",
    "print(net)\n",
    "\n",
    "print(\"-\"*50 + \"\\n显示参数\")\n",
    "# 由于存在bias，所以每一层都有两个参数张量，共有10个参数张量。\n",
    "params = list(net.parameters())\n",
    "print(len(params))\n",
    "for param in params:\n",
    "    print(param.size())                \n",
    "                \n",
    "print(\"-\"*50 + \"\\n获取数据\")\n",
    "transform = transforms.Compose(\n",
    "    [transforms.ToTensor(),\n",
    "     transforms.Normalize(mean=(0.5, 0.5, 0.5), std=(0.5, 0.5, 0.5))])\n",
    "data_path = os.path.join(os.path.expanduser('~'), '.pytorch/datasets') \n",
    "if not os.path.exists(data_path): os.makedirs(data_path)\n",
    "trainset = torchvision.datasets.CIFAR10(root=os.path.join(data_path, 'cifar10'), train=True,\n",
    "                                        download=True, transform=transform)\n",
    "trainloader = torch.utils.data.DataLoader(trainset, batch_size=32,\n",
    "                                          shuffle=True, num_workers=2)\n",
    "\n",
    "testset = torchvision.datasets.CIFAR10(root=os.path.join(data_path, 'cifar10'), train=False,\n",
    "                                       download=True, transform=transform)\n",
    "testloader = torch.utils.data.DataLoader(testset, batch_size=32,\n",
    "                                         shuffle=False, num_workers=2)\n",
    "\n",
    "classes = ('plane', 'car', 'bird', 'cat', 'deer', \n",
    "           'dog', 'frog', 'horse', 'ship', 'truck')\n",
    "\n",
    "print(\"-\"*50 + \"\\n显示图片示例\")\n",
    "plt.rcParams['figure.figsize'] = (12.0, 1.5) \n",
    "def imshow(img):\n",
    "    img = img / 2 + 0.5     # unnormalize\n",
    "    npimg = img.numpy()\n",
    "    plt.imshow(np.transpose(npimg, (1, 2, 0)))\n",
    "    plt.show()\n",
    "\n",
    "# get some random training images\n",
    "dataiter = iter(trainloader)\n",
    "images, labels = dataiter.next()\n",
    "print(images.size())\n",
    "\n",
    "# show images\n",
    "imshow(torchvision.utils.make_grid(images[0:8]))\n",
    "print(' '.join('%5s' % classes[labels[j]] for j in range(8)))"
   ]
  },
  {
   "cell_type": "markdown",
   "metadata": {},
   "source": [
    "![image-20201022231155489](images/image-20201022231155489.png)\n",
    "\n",
    "下面是模型训练，保存加载，以及模型评估的代码。"
   ]
  },
  {
   "cell_type": "code",
   "execution_count": 28,
   "metadata": {},
   "outputs": [
    {
     "name": "stderr",
     "output_type": "stream",
     "text": [
      "2020-10-23 06:44:15,486: INFO: start training\n"
     ]
    },
    {
     "name": "stdout",
     "output_type": "stream",
     "text": [
      "--------------------------------------------------\n",
      "训练模型\n",
      "[1,   500] loss: 3.623, accuracy: 32.8\n",
      "[1,  1000] loss: 3.065, accuracy: 43.9\n",
      "[1,  1500] loss: 2.855, accuracy: 47.8\n",
      "[2,   500] loss: 2.642, accuracy: 52.1\n",
      "[2,  1000] loss: 2.540, accuracy: 54.8\n",
      "[2,  1500] loss: 2.470, accuracy: 56.1\n",
      "[3,   500] loss: 2.342, accuracy: 58.2\n",
      "[3,  1000] loss: 2.282, accuracy: 59.8\n",
      "[3,  1500] loss: 2.272, accuracy: 59.7\n",
      "[4,   500] loss: 2.139, accuracy: 62.4\n",
      "[4,  1000] loss: 2.117, accuracy: 62.5\n",
      "[4,  1500] loss: 2.121, accuracy: 62.0\n",
      "[5,   500] loss: 2.002, accuracy: 64.7\n",
      "[5,  1000] loss: 2.021, accuracy: 63.9\n",
      "[5,  1500] loss: 1.975, accuracy: 65.0\n",
      "[6,   500] loss: 1.894, accuracy: 66.6\n",
      "[6,  1000] loss: 1.938, accuracy: 65.9\n",
      "[6,  1500] loss: 1.914, accuracy: 66.1\n",
      "[7,   500] loss: 1.806, accuracy: 67.7\n",
      "[7,  1000] loss: 1.833, accuracy: 67.5\n",
      "[7,  1500] loss: 1.846, accuracy: 67.6\n",
      "[8,   500] loss: 1.717, accuracy: 69.8\n",
      "[8,  1000] loss: 1.758, accuracy: 69.2\n",
      "[8,  1500] loss: 1.789, accuracy: 68.7\n",
      "[9,   500] loss: 1.656, accuracy: 70.6\n",
      "[9,  1000] loss: 1.675, accuracy: 70.5\n",
      "[9,  1500] loss: 1.732, accuracy: 69.9\n",
      "[10,   500] loss: 1.598, accuracy: 71.8\n",
      "[10,  1000] loss: 1.655, accuracy: 70.9\n",
      "[10,  1500] loss: 1.628, accuracy: 71.2\n"
     ]
    },
    {
     "name": "stderr",
     "output_type": "stream",
     "text": [
      "2020-10-23 06:46:02,103: INFO: finish training [elapsed time: 106.62 seconds]\n"
     ]
    },
    {
     "name": "stdout",
     "output_type": "stream",
     "text": [
      "--------------------------------------------------\n",
      "保存，加载模型\n",
      "--------------------------------------------------\n",
      "评估模型\n",
      "Train Accuracy: 73.1%, Test Accuracy: 63.8%\n"
     ]
    }
   ],
   "source": [
    "print(\"-\"*50 + \"\\n训练模型\")\n",
    "criterion = nn.CrossEntropyLoss()\n",
    "# optimizer = optim.SGD(net.parameters(), lr=0.001, momentum=0.9)\n",
    "# Adam优化的速度比SGD明显要快\n",
    "optimizer = optim.Adam(params, lr=0.001, betas=(0.9, 0.999), eps=1e-08, weight_decay=0, amsgrad=False)\n",
    "\n",
    "with TaskTime('training', True):\n",
    "    train(net, criterion, trainloader, optimizer=optimizer, epoches=10, use_cuda=True)\n",
    "    \n",
    "print(\"-\"*50 + \"\\n保存，加载模型\") \n",
    "model_root_path = os.path.join(os.path.expanduser('~'), '.pytorch/model') \n",
    "if not os.path.exists(model_root_path): os.makedirs(model_root_path)\n",
    "model_path = os.path.join(model_root_path, 'torch_lenet.pth')\n",
    "torch.save(net.state_dict(), model_path) \n",
    "net = LeNet(in_dim=3, n_class=10)\n",
    "net.load_state_dict(torch.load(model_path))     \n",
    "    \n",
    "print(\"-\"*50 + \"\\n评估模型\")    \n",
    "train_accuracy = compute_accuarcy(net, trainloader, criterion, use_cuda=True)   \n",
    "test_accuracy = compute_accuarcy(net, testloader, criterion, use_cuda=True)\n",
    "print('Train Accuracy: {:0.1f}%, Test Accuracy: {:0.1f}%'.format(100 * train_accuracy, 100*test_accuracy)) "
   ]
  },
  {
   "cell_type": "markdown",
   "metadata": {},
   "source": [
    "![image-20201022234015162](images/image-20201022234015162.png)\n",
    "\n",
    "准确率只有64%，而且存在过拟合。现在对模型做一些修改，看看效果任何。\n",
    "\n",
    "### tensorflow实现\n",
    "\n",
    "首先是模型代码。"
   ]
  },
  {
   "cell_type": "code",
   "execution_count": 31,
   "metadata": {},
   "outputs": [
    {
     "name": "stdout",
     "output_type": "stream",
     "text": [
      "[PhysicalDevice(name='/physical_device:GPU:0', device_type='GPU')]\n"
     ]
    }
   ],
   "source": [
    "import logging\n",
    "import os\n",
    "import tensorflow as tf\n",
    "import time\n",
    "from tensorflow.keras import datasets, layers, models\n",
    "import matplotlib.pyplot as plt\n",
    "\n",
    "\n",
    "logging.basicConfig(format='%(asctime)s: %(levelname)s: %(message)s')\n",
    "logging.root.setLevel(level=logging.INFO)\n",
    "\n",
    "# 设置GPU内存使用上限\n",
    "gpus = tf.config.experimental.list_physical_devices(device_type='GPU')\n",
    "print(gpus)\n",
    "tf.config.experimental.set_virtual_device_configuration(\n",
    "    gpus[0],\n",
    "    [tf.config.experimental.VirtualDeviceConfiguration(memory_limit=1024)]\n",
    ")\n",
    "\n",
    "class TaskTime:\n",
    "    def __init__(self, task_name, show_start=False):\n",
    "        self.show_start = show_start\n",
    "        self.task_name = task_name\n",
    "        self.start_time = time.time()\n",
    "\n",
    "    def elapsed_time(self):\n",
    "        return time.time()-self.start_time\n",
    "\n",
    "    def __enter__(self):\n",
    "        if self.show_start:\n",
    "            logging.info('start {}'.format(self.task_name))\n",
    "        return self;\n",
    "\n",
    "    def __exit__(self, exc_type, exc_value, exc_tb):\n",
    "        logging.info('finish {} [elapsed time: {:.2f} seconds]'.format(self.task_name, self.elapsed_time()))\n",
    "\n",
    "def lenet(in_dim=1, n_class=10):\n",
    "    model = models.Sequential()\n",
    "    model.add(layers.Conv2D(6, (5, 5), activation='relu', input_shape=(32, 32, in_dim)))\n",
    "    model.add(layers.MaxPooling2D((2, 2)))\n",
    "    model.add(layers.Conv2D(16, (5, 5), activation='relu'))\n",
    "    model.add(layers.MaxPooling2D((2, 2)))\n",
    "    model.add(layers.Flatten())\n",
    "    model.add(layers.Dense(120, activation='relu'))\n",
    "    model.add(layers.Dense(84, activation='relu'))\n",
    "    model.add(layers.Dense(n_class))    \n",
    "    return model"
   ]
  },
  {
   "cell_type": "markdown",
   "metadata": {},
   "source": [
    "然后创建模型并加载数据。"
   ]
  },
  {
   "cell_type": "code",
   "execution_count": 34,
   "metadata": {},
   "outputs": [
    {
     "name": "stdout",
     "output_type": "stream",
     "text": [
      "--------------------------------------------------\n",
      "创建模型\n",
      "--------------------------------------------------\n",
      "显示参数\n",
      "Model: \"sequential_1\"\n",
      "_________________________________________________________________\n",
      "Layer (type)                 Output Shape              Param #   \n",
      "=================================================================\n",
      "conv2d_2 (Conv2D)            (None, 28, 28, 6)         456       \n",
      "_________________________________________________________________\n",
      "max_pooling2d_2 (MaxPooling2 (None, 14, 14, 6)         0         \n",
      "_________________________________________________________________\n",
      "conv2d_3 (Conv2D)            (None, 10, 10, 16)        2416      \n",
      "_________________________________________________________________\n",
      "max_pooling2d_3 (MaxPooling2 (None, 5, 5, 16)          0         \n",
      "_________________________________________________________________\n",
      "flatten_1 (Flatten)          (None, 400)               0         \n",
      "_________________________________________________________________\n",
      "dense_3 (Dense)              (None, 120)               48120     \n",
      "_________________________________________________________________\n",
      "dense_4 (Dense)              (None, 84)                10164     \n",
      "_________________________________________________________________\n",
      "dense_5 (Dense)              (None, 10)                850       \n",
      "=================================================================\n",
      "Total params: 62,006\n",
      "Trainable params: 62,006\n",
      "Non-trainable params: 0\n",
      "_________________________________________________________________\n",
      "--------------------------------------------------\n",
      "获取数据\n",
      "(50000, 32, 32, 3) (50000, 1) (50000, 32, 32, 3) (10000, 1)\n",
      "<class 'numpy.ndarray'> <class 'tuple'>\n",
      "--------------------------------------------------\n",
      "显示图片示例\n"
     ]
    },
    {
     "data": {
      "image/png": "[encoded data removed]",
      "text/plain": [
       "<Figure size 720x144 with 5 Axes>"
      ]
     },
     "metadata": {},
     "output_type": "display_data"
    }
   ],
   "source": [
    "print(\"-\"*50 + \"\\n创建模型\") \n",
    "model = lenet(in_dim=3, n_class=10)\n",
    "\n",
    "print(\"-\"*50 + \"\\n显示参数\")\n",
    "model.summary()\n",
    "\n",
    "print(\"-\"*50 + \"\\n获取数据\")\n",
    "# 默认的保存路径是~/.keras/datasets/\n",
    "(train_images, train_labels), (test_images, test_labels) = datasets.cifar10.load_data()\n",
    "\n",
    "# Normalize pixel values to be between 0 and 1\n",
    "train_images, test_images = train_images / 255.0, test_images / 255.0\n",
    "\n",
    "print(train_images.shape, train_labels.shape, train_images.shape, test_labels.shape)\n",
    "print(type(train_images), type(train_labels.shape))\n",
    "\n",
    "print(\"-\"*50 + \"\\n显示图片示例\")\n",
    "class_names = ['airplane', 'automobile', 'bird', 'cat', 'deer',\n",
    "               'dog', 'frog', 'horse', 'ship', 'truck']\n",
    "\n",
    "plt.figure(figsize=(10,2))\n",
    "for i in range(5):\n",
    "    plt.subplot(1,5,i+1)\n",
    "    plt.xticks([])\n",
    "    plt.yticks([])\n",
    "    plt.grid(False)\n",
    "    plt.imshow(train_images[i])\n",
    "    # The CIFAR labels happen to be arrays, \n",
    "    # which is why you need the extra index\n",
    "    plt.xlabel(class_names[train_labels[i][0]])\n",
    "plt.show()"
   ]
  },
  {
   "cell_type": "markdown",
   "metadata": {},
   "source": [
    "![image-20201023122302448](images/image-20201023122302448.png)\n",
    "\n",
    "下面是模型训练，保存加载，以及模型评估的代码。"
   ]
  },
  {
   "cell_type": "code",
   "execution_count": 35,
   "metadata": {},
   "outputs": [
    {
     "name": "stderr",
     "output_type": "stream",
     "text": [
      "2020-10-23 06:52:06,119: INFO: start training\n"
     ]
    },
    {
     "name": "stdout",
     "output_type": "stream",
     "text": [
      "--------------------------------------------------\n",
      "训练模型\n",
      "Epoch 1/10\n",
      "1563/1563 [==============================] - 6s 4ms/step - loss: 1.5950 - accuracy: 0.4158 - val_loss: 1.4474 - val_accuracy: 0.4778\n",
      "Epoch 2/10\n",
      "1563/1563 [==============================] - 5s 3ms/step - loss: 1.3041 - accuracy: 0.5350 - val_loss: 1.2185 - val_accuracy: 0.5652\n",
      "Epoch 3/10\n",
      "1563/1563 [==============================] - 5s 3ms/step - loss: 1.1952 - accuracy: 0.5768 - val_loss: 1.1638 - val_accuracy: 0.5870\n",
      "Epoch 4/10\n",
      "1563/1563 [==============================] - 5s 3ms/step - loss: 1.1128 - accuracy: 0.6045 - val_loss: 1.2049 - val_accuracy: 0.5729\n",
      "Epoch 5/10\n",
      "1563/1563 [==============================] - 5s 3ms/step - loss: 1.0504 - accuracy: 0.6268 - val_loss: 1.1186 - val_accuracy: 0.5998\n",
      "Epoch 6/10\n",
      "1563/1563 [==============================] - 5s 3ms/step - loss: 1.0061 - accuracy: 0.6443 - val_loss: 1.1128 - val_accuracy: 0.6054\n",
      "Epoch 7/10\n",
      "1563/1563 [==============================] - 5s 3ms/step - loss: 0.9630 - accuracy: 0.6608 - val_loss: 1.0846 - val_accuracy: 0.6179\n",
      "Epoch 8/10\n",
      "1563/1563 [==============================] - 5s 4ms/step - loss: 0.9268 - accuracy: 0.6719 - val_loss: 1.0795 - val_accuracy: 0.6190\n",
      "Epoch 9/10\n",
      "1563/1563 [==============================] - 5s 3ms/step - loss: 0.8872 - accuracy: 0.6871 - val_loss: 1.0907 - val_accuracy: 0.6219\n",
      "Epoch 10/10\n",
      "1563/1563 [==============================] - 5s 3ms/step - loss: 0.8544 - accuracy: 0.6969 - val_loss: 1.0937 - val_accuracy: 0.6225\n"
     ]
    },
    {
     "name": "stderr",
     "output_type": "stream",
     "text": [
      "2020-10-23 06:53:01,788: INFO: finish training [elapsed time: 55.67 seconds]\n"
     ]
    },
    {
     "name": "stdout",
     "output_type": "stream",
     "text": [
      "--------------------------------------------------\n",
      "保存，加载模型\n",
      "--------------------------------------------------\n",
      "评估模型\n",
      "1563/1563 - 3s - loss: 0.7888 - accuracy: 0.7207\n",
      "313/313 - 1s - loss: 1.0937 - accuracy: 0.6225\n",
      "Train Accuracy: 72.1%, Test Accuracy: 62.3%\n"
     ]
    },
    {
     "data": {
      "image/png": "[encoded data removed]",
      "text/plain": [
       "<Figure size 864x108 with 1 Axes>"
      ]
     },
     "metadata": {
      "needs_background": "light"
     },
     "output_type": "display_data"
    }
   ],
   "source": [
    "print(\"-\"*50 + \"\\n训练模型\")\n",
    "model.compile(optimizer='adam',\n",
    "              loss=tf.keras.losses.SparseCategoricalCrossentropy(from_logits=True),\n",
    "              metrics=['accuracy'])\n",
    "with TaskTime('training', True):\n",
    "    history = model.fit(train_images, train_labels, epochs=10, batch_size=32,\n",
    "                        validation_data=(test_images, test_labels))\n",
    "\n",
    "print(\"-\"*50 + \"\\n保存，加载模型\") \n",
    "model_root_path = os.path.join(os.path.expanduser('~'), '.keras/model') \n",
    "if not os.path.exists(model_root_path): os.makedirs(model_root_path)\n",
    "model_path = os.path.join(model_root_path, 'tf_lenet.h5')\n",
    "model.save(model_path) \n",
    "model = tf.keras.models.load_model(model_path)  \n",
    "    \n",
    "print(\"-\"*50 + \"\\n评估模型\")    \n",
    "plt.plot(history.history['accuracy'], label='accuracy')\n",
    "plt.plot(history.history['val_accuracy'], label = 'val_accuracy')\n",
    "plt.xlabel('Epoch')\n",
    "plt.ylabel('Accuracy')\n",
    "plt.ylim([0.5, 1])\n",
    "plt.legend(loc='lower right')\n",
    "\n",
    "train_loss, train_acc = model.evaluate(train_images,  train_labels, verbose=2)\n",
    "test_loss, test_acc = model.evaluate(test_images,  test_labels, verbose=2)\n",
    "print('Train Accuracy: {:0.1f}%, Test Accuracy: {:0.1f}%'.format(100 * train_acc, 100*test_acc)) "
   ]
  },
  {
   "cell_type": "code",
   "execution_count": 44,
   "metadata": {},
   "outputs": [
    {
     "name": "stdout",
     "output_type": "stream",
     "text": [
      "--------------------------------------------------\n",
      "创建模型\n",
      "LeNet1(\n",
      "  (conv1): Conv2d(3, 32, kernel_size=(3, 3), stride=(1, 1))\n",
      "  (conv2): Conv2d(32, 64, kernel_size=(3, 3), stride=(1, 1))\n",
      "  (conv3): Conv2d(64, 64, kernel_size=(3, 3), stride=(1, 1))\n",
      "  (fc1): Linear(in_features=1024, out_features=64, bias=True)\n",
      "  (fc2): Linear(in_features=64, out_features=10, bias=True)\n",
      ")\n",
      "--------------------------------------------------\n",
      "显示参数\n",
      "10\n",
      "torch.Size([32, 3, 3, 3])\n",
      "torch.Size([32])\n",
      "torch.Size([64, 32, 3, 3])\n",
      "torch.Size([64])\n",
      "torch.Size([64, 64, 3, 3])\n",
      "torch.Size([64])\n",
      "torch.Size([64, 1024])\n",
      "torch.Size([64])\n",
      "torch.Size([10, 64])\n",
      "torch.Size([10])\n"
     ]
    }
   ],
   "source": [
    "class LeNet1(nn.Module):\n",
    "    def __init__(self, in_dim=1, n_class=10):\n",
    "        super(LeNet1, self).__init__()    \n",
    "\n",
    "        self.conv1 = nn.Conv2d(in_dim, 32, 3)\n",
    "        self.conv2 = nn.Conv2d(32, 64, 3)\n",
    "        self.conv3 = nn.Conv2d(64, 64, 3)\n",
    "        self.fc1 = nn.Linear(64 * 4 * 4, 64)  \n",
    "        self.fc2 = nn.Linear(64, n_class)        \n",
    "        \n",
    "    def forward(self, x):\n",
    "        x = F.max_pool2d(F.relu(self.conv1(x)), 2)\n",
    "        x = F.max_pool2d(F.relu(self.conv2(x)), 2)\n",
    "        x = F.relu(self.conv3(x))\n",
    "        x = x.view(x.size()[0], -1)\n",
    "        x = F.relu(self.fc1(x))\n",
    "        x = self.fc2(x)\n",
    "        return x\n",
    "\n",
    "print(\"-\"*50 + \"\\n创建模型\")    \n",
    "net = LeNet1(in_dim=3, n_class=10)\n",
    "print(net)\n",
    "\n",
    "print(\"-\"*50 + \"\\n显示参数\")\n",
    "# 由于存在bias，所以每一层都有两个参数张量，共有10个参数张量。\n",
    "params = list(net.parameters())\n",
    "print(len(params))\n",
    "for param in params:\n",
    "    print(param.size())\n",
    "    \n",
    "   "
   ]
  },
  {
   "cell_type": "code",
   "execution_count": 45,
   "metadata": {},
   "outputs": [
    {
     "name": "stderr",
     "output_type": "stream",
     "text": [
      "2020-10-23 07:18:58,540: INFO: start training\n"
     ]
    },
    {
     "name": "stdout",
     "output_type": "stream",
     "text": [
      "--------------------------------------------------\n",
      "训练模型\n",
      "[1,   500] loss: 3.507, accuracy: 35.2\n",
      "[1,  1000] loss: 2.843, accuracy: 48.4\n",
      "[1,  1500] loss: 2.602, accuracy: 52.4\n",
      "[2,   500] loss: 2.335, accuracy: 58.1\n",
      "[2,  1000] loss: 2.188, accuracy: 60.9\n",
      "[2,  1500] loss: 2.133, accuracy: 61.9\n",
      "[3,   500] loss: 1.935, accuracy: 65.3\n",
      "[3,  1000] loss: 1.908, accuracy: 66.2\n",
      "[3,  1500] loss: 1.837, accuracy: 67.3\n",
      "[4,   500] loss: 1.715, accuracy: 69.9\n",
      "[4,  1000] loss: 1.695, accuracy: 70.1\n",
      "[4,  1500] loss: 1.708, accuracy: 69.8\n",
      "[5,   500] loss: 1.563, accuracy: 72.8\n",
      "[5,  1000] loss: 1.577, accuracy: 72.5\n",
      "[5,  1500] loss: 1.547, accuracy: 72.8\n",
      "[6,   500] loss: 1.427, accuracy: 74.4\n",
      "[6,  1000] loss: 1.454, accuracy: 74.3\n",
      "[6,  1500] loss: 1.479, accuracy: 74.2\n",
      "[7,   500] loss: 1.340, accuracy: 76.9\n",
      "[7,  1000] loss: 1.371, accuracy: 76.0\n",
      "[7,  1500] loss: 1.377, accuracy: 76.1\n",
      "[8,   500] loss: 1.240, accuracy: 78.2\n",
      "[8,  1000] loss: 1.294, accuracy: 76.9\n",
      "[8,  1500] loss: 1.301, accuracy: 76.9\n",
      "[9,   500] loss: 1.189, accuracy: 79.1\n",
      "[9,  1000] loss: 1.210, accuracy: 78.6\n",
      "[9,  1500] loss: 1.224, accuracy: 78.8\n",
      "[10,   500] loss: 1.091, accuracy: 80.8\n",
      "[10,  1000] loss: 1.142, accuracy: 79.4\n",
      "[10,  1500] loss: 1.196, accuracy: 78.9\n"
     ]
    },
    {
     "name": "stderr",
     "output_type": "stream",
     "text": [
      "2020-10-23 07:20:50,098: INFO: finish training [elapsed time: 111.56 seconds]\n"
     ]
    },
    {
     "name": "stdout",
     "output_type": "stream",
     "text": [
      "--------------------------------------------------\n",
      "评估模型\n",
      "Train Accuracy: 82.7%, Test Accuracy: 73.1%\n"
     ]
    }
   ],
   "source": [
    "print(\"-\"*50 + \"\\n训练模型\")\n",
    "criterion = nn.CrossEntropyLoss()\n",
    "# optimizer = optim.SGD(net.parameters(), lr=0.001, momentum=0.9)\n",
    "# Adam优化的速度比SGD明显要快\n",
    "optimizer = optim.Adam(params, lr=0.001, betas=(0.9, 0.999), eps=1e-08, weight_decay=0, amsgrad=False)\n",
    "\n",
    "with TaskTime('training', True):\n",
    "    train(net, criterion, trainloader, optimizer=optimizer, epoches=10, use_cuda=True)  \n",
    "    \n",
    "print(\"-\"*50 + \"\\n评估模型\")    \n",
    "train_accuracy = compute_accuarcy(net, trainloader, criterion, use_cuda=True)   \n",
    "test_accuracy = compute_accuarcy(net, testloader, criterion, use_cuda=True)\n",
    "print('Train Accuracy: {:0.1f}%, Test Accuracy: {:0.1f}%'.format(100 * train_accuracy, 100*test_accuracy))  "
   ]
  },
  {
   "cell_type": "code",
   "execution_count": 46,
   "metadata": {},
   "outputs": [
    {
     "name": "stdout",
     "output_type": "stream",
     "text": [
      "--------------------------------------------------\n",
      "创建模型\n",
      "--------------------------------------------------\n",
      "显示参数\n",
      "Model: \"sequential_2\"\n",
      "_________________________________________________________________\n",
      "Layer (type)                 Output Shape              Param #   \n",
      "=================================================================\n",
      "conv2d_4 (Conv2D)            (None, 30, 30, 32)        896       \n",
      "_________________________________________________________________\n",
      "max_pooling2d_4 (MaxPooling2 (None, 15, 15, 32)        0         \n",
      "_________________________________________________________________\n",
      "conv2d_5 (Conv2D)            (None, 13, 13, 64)        18496     \n",
      "_________________________________________________________________\n",
      "max_pooling2d_5 (MaxPooling2 (None, 6, 6, 64)          0         \n",
      "_________________________________________________________________\n",
      "conv2d_6 (Conv2D)            (None, 4, 4, 64)          36928     \n",
      "_________________________________________________________________\n",
      "flatten_2 (Flatten)          (None, 1024)              0         \n",
      "_________________________________________________________________\n",
      "dense_6 (Dense)              (None, 64)                65600     \n",
      "_________________________________________________________________\n",
      "dense_7 (Dense)              (None, 10)                650       \n",
      "=================================================================\n",
      "Total params: 122,570\n",
      "Trainable params: 122,570\n",
      "Non-trainable params: 0\n",
      "_________________________________________________________________\n"
     ]
    }
   ],
   "source": [
    "def lenet1(in_dim=1, n_class=10):\n",
    "    model = models.Sequential()\n",
    "    model.add(layers.Conv2D(32, (3, 3), activation='relu', input_shape=(32, 32, in_dim)))\n",
    "    model.add(layers.MaxPooling2D((2, 2)))\n",
    "    model.add(layers.Conv2D(64, (3, 3), activation='relu'))\n",
    "    model.add(layers.MaxPooling2D((2, 2)))\n",
    "    model.add(layers.Conv2D(64, (3, 3), activation='relu'))    \n",
    "    model.add(layers.Flatten())\n",
    "    model.add(layers.Dense(64, activation='relu'))\n",
    "    model.add(layers.Dense(n_class))    \n",
    "    return model\n",
    "\n",
    "print(\"-\"*50 + \"\\n创建模型\") \n",
    "model = lenet1(in_dim=3, n_class=10)\n",
    "\n",
    "print(\"-\"*50 + \"\\n显示参数\")\n",
    "model.summary()"
   ]
  },
  {
   "cell_type": "code",
   "execution_count": 47,
   "metadata": {},
   "outputs": [
    {
     "name": "stderr",
     "output_type": "stream",
     "text": [
      "2020-10-23 07:30:16,191: INFO: start training\n"
     ]
    },
    {
     "name": "stdout",
     "output_type": "stream",
     "text": [
      "--------------------------------------------------\n",
      "训练模型\n",
      "Epoch 1/10\n",
      "1563/1563 [==============================] - 6s 4ms/step - loss: 1.5434 - accuracy: 0.4352 - val_loss: 1.2422 - val_accuracy: 0.5551\n",
      "Epoch 2/10\n",
      "1563/1563 [==============================] - 6s 4ms/step - loss: 1.1774 - accuracy: 0.5838 - val_loss: 1.0957 - val_accuracy: 0.6119\n",
      "Epoch 3/10\n",
      "1563/1563 [==============================] - 6s 4ms/step - loss: 1.0228 - accuracy: 0.6408 - val_loss: 1.0461 - val_accuracy: 0.6333\n",
      "Epoch 4/10\n",
      "1563/1563 [==============================] - 6s 4ms/step - loss: 0.9273 - accuracy: 0.6735 - val_loss: 0.9523 - val_accuracy: 0.6638\n",
      "Epoch 5/10\n",
      "1563/1563 [==============================] - 6s 4ms/step - loss: 0.8552 - accuracy: 0.7018 - val_loss: 0.9089 - val_accuracy: 0.6875\n",
      "Epoch 6/10\n",
      "1563/1563 [==============================] - 6s 4ms/step - loss: 0.8034 - accuracy: 0.7172 - val_loss: 0.8939 - val_accuracy: 0.6920\n",
      "Epoch 7/10\n",
      "1563/1563 [==============================] - 6s 4ms/step - loss: 0.7548 - accuracy: 0.7346 - val_loss: 0.9500 - val_accuracy: 0.6750\n",
      "Epoch 8/10\n",
      "1563/1563 [==============================] - 6s 4ms/step - loss: 0.7137 - accuracy: 0.7497 - val_loss: 0.9473 - val_accuracy: 0.6755\n",
      "Epoch 9/10\n",
      "1563/1563 [==============================] - 6s 4ms/step - loss: 0.6746 - accuracy: 0.7626 - val_loss: 0.9219 - val_accuracy: 0.6906\n",
      "Epoch 10/10\n",
      "1563/1563 [==============================] - 6s 4ms/step - loss: 0.6327 - accuracy: 0.7791 - val_loss: 0.8914 - val_accuracy: 0.7086\n"
     ]
    },
    {
     "name": "stderr",
     "output_type": "stream",
     "text": [
      "2020-10-23 07:31:15,754: INFO: finish training [elapsed time: 59.56 seconds]\n"
     ]
    },
    {
     "name": "stdout",
     "output_type": "stream",
     "text": [
      "--------------------------------------------------\n",
      "评估模型\n",
      "1563/1563 - 3s - loss: 0.5654 - accuracy: 0.8017\n",
      "313/313 - 1s - loss: 0.8914 - accuracy: 0.7086\n",
      "Train Accuracy: 80.2%, Test Accuracy: 70.9%\n"
     ]
    },
    {
     "data": {
      "image/png": "[encoded data removed]",
      "text/plain": [
       "<Figure size 864x108 with 1 Axes>"
      ]
     },
     "metadata": {
      "needs_background": "light"
     },
     "output_type": "display_data"
    }
   ],
   "source": [
    "print(\"-\"*50 + \"\\n训练模型\")\n",
    "model.compile(optimizer='adam',\n",
    "              loss=tf.keras.losses.SparseCategoricalCrossentropy(from_logits=True),\n",
    "              metrics=['accuracy'])\n",
    "with TaskTime('training', True):\n",
    "    history = model.fit(train_images, train_labels, epochs=10, batch_size=32,\n",
    "                        validation_data=(test_images, test_labels))\n",
    "\n",
    "    \n",
    "print(\"-\"*50 + \"\\n评估模型\")    \n",
    "plt.plot(history.history['accuracy'], label='accuracy')\n",
    "plt.plot(history.history['val_accuracy'], label = 'val_accuracy')\n",
    "plt.xlabel('Epoch')\n",
    "plt.ylabel('Accuracy')\n",
    "plt.ylim([0.5, 1])\n",
    "plt.legend(loc='lower right')\n",
    "\n",
    "train_loss, train_acc = model.evaluate(train_images,  train_labels, verbose=2)\n",
    "test_loss, test_acc = model.evaluate(test_images,  test_labels, verbose=2)\n",
    "print('Train Accuracy: {:0.1f}%, Test Accuracy: {:0.1f}%'.format(100 * train_acc, 100*test_acc))"
   ]
  },
  {
   "cell_type": "markdown",
   "metadata": {},
   "source": [
    "![image-20201023130910175](images/image-20201023130910175.png)\n",
    "\n",
    "![image-20201023130925884](images/image-20201023130925884.png)\n",
    "\n",
    "## 参考\n",
    "\n",
    "- [TF Tutorial - Convolutional Neural Network (CNN)](https://www.tensorflow.org/tutorials/images/cnn)\n",
    "- [Torch Tutorial - TRAINING A CLASSIFIER](https://pytorch.org/tutorials/beginner/blitz/cifar10_tutorial.html)"
   ]
  }
 ],
 "metadata": {
  "kernelspec": {
   "display_name": "Python 3",
   "language": "python",
   "name": "python3"
  },
  "language_info": {
   "codemirror_mode": {
    "name": "ipython",
    "version": 3
   },
   "file_extension": ".py",
   "mimetype": "text/x-python",
   "name": "python",
   "nbconvert_exporter": "python",
   "pygments_lexer": "ipython3",
   "version": "3.6.9"
  }
 },
 "nbformat": 4,
 "nbformat_minor": 4
}
