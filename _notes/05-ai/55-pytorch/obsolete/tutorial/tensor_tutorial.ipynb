{
 "cells": [
  {
   "cell_type": "code",
   "execution_count": 38,
   "metadata": {},
   "outputs": [],
   "source": [
    "%matplotlib inline"
   ]
  },
  {
   "cell_type": "markdown",
   "metadata": {},
   "source": [
    "\n",
    "What is PyTorch?\n",
    "================\n",
    "\n",
    "It’s a Python-based scientific computing package targeted at two sets of\n",
    "audiences:\n",
    "\n",
    "-  A replacement for NumPy to use the power of GPUs\n",
    "-  a deep learning research platform that provides maximum flexibility\n",
    "   and speed\n",
    "\n",
    "Getting Started\n",
    "---------------\n",
    "\n",
    "Tensors\n",
    "^^^^^^^\n",
    "\n",
    "Tensors are similar to NumPy’s ndarrays, with the addition being that\n",
    "Tensors can also be used on a GPU to accelerate computing.\n",
    "\n"
   ]
  },
  {
   "cell_type": "code",
   "execution_count": 1,
   "metadata": {},
   "outputs": [],
   "source": [
    "from __future__ import print_function\n",
    "import torch\n",
    "import numpy as np"
   ]
  },
  {
   "cell_type": "markdown",
   "metadata": {},
   "source": [
    "<div class=\"alert alert-info\"><h4>Note</h4><p>An uninitialized matrix is declared,\n",
    "    but does not contain definite known\n",
    "    values before it is used. When an\n",
    "    uninitialized matrix is created,\n",
    "    whatever values were in the allocated\n",
    "    memory at the time will appear as the initial values.</p></div>\n",
    "\n"
   ]
  },
  {
   "cell_type": "markdown",
   "metadata": {},
   "source": [
    "Construct a 5x3 matrix, uninitialized:\n",
    "\n"
   ]
  },
  {
   "cell_type": "code",
   "execution_count": 4,
   "metadata": {},
   "outputs": [
    {
     "name": "stdout",
     "output_type": "stream",
     "text": [
      "tensor([[-5.6836e-03,  4.5832e-41, -5.6836e-03],\n",
      "        [ 4.5832e-41,  2.5057e-01,  7.8204e-01],\n",
      "        [ 1.5835e-43,  0.0000e+00,  1.1911e-36],\n",
      "        [ 0.0000e+00, -5.6835e-03,  4.5832e-41],\n",
      "        [ 6.8567e-01,  8.2439e-01,  7.0522e-01]])\n",
      "[[0.95325886 0.48706889 0.3189035 ]\n",
      " [0.06305058 0.11612948 0.9890246 ]\n",
      " [0.49251735 0.27687978 0.14938718]\n",
      " [0.38871805 0.6184363  0.57874136]\n",
      " [0.06877375 0.0954422  0.4932821 ]]\n"
     ]
    }
   ],
   "source": [
    "x = torch.empty(5, 3)\n",
    "print(x)\n",
    "print(np.empty([5, 3]))"
   ]
  },
  {
   "cell_type": "markdown",
   "metadata": {},
   "source": [
    "Construct a randomly initialized matrix:\n",
    "\n"
   ]
  },
  {
   "cell_type": "code",
   "execution_count": 5,
   "metadata": {},
   "outputs": [
    {
     "name": "stdout",
     "output_type": "stream",
     "text": [
      "tensor([[0.9378, 0.3601, 0.5604],\n",
      "        [0.6599, 0.0568, 0.7312],\n",
      "        [0.9032, 0.1716, 0.9751],\n",
      "        [0.0691, 0.0141, 0.9670],\n",
      "        [0.3802, 0.2284, 0.2898]])\n",
      "[[0.05013836 0.82853091 0.57136245]\n",
      " [0.05752696 0.90893398 0.19573487]\n",
      " [0.19878298 0.97181468 0.55239422]\n",
      " [0.22946753 0.59586218 0.85517789]\n",
      " [0.61863065 0.65980008 0.86623387]]\n"
     ]
    }
   ],
   "source": [
    "x = torch.rand(5, 3)\n",
    "print(x)\n",
    "print(np.random.rand(5, 3))"
   ]
  },
  {
   "cell_type": "markdown",
   "metadata": {},
   "source": [
    "Construct a matrix filled zeros and of dtype long:\n",
    "\n"
   ]
  },
  {
   "cell_type": "code",
   "execution_count": 6,
   "metadata": {},
   "outputs": [
    {
     "name": "stdout",
     "output_type": "stream",
     "text": [
      "tensor([[0, 0, 0],\n",
      "        [0, 0, 0],\n",
      "        [0, 0, 0],\n",
      "        [0, 0, 0],\n",
      "        [0, 0, 0]]) torch.int64\n",
      "tensor([[0., 0., 0.],\n",
      "        [0., 0., 0.],\n",
      "        [0., 0., 0.],\n",
      "        [0., 0., 0.],\n",
      "        [0., 0., 0.]]) torch.float32\n",
      "[[0. 0. 0.]\n",
      " [0. 0. 0.]\n",
      " [0. 0. 0.]\n",
      " [0. 0. 0.]\n",
      " [0. 0. 0.]] float64\n",
      "tensor([[1, 1, 1],\n",
      "        [1, 1, 1],\n",
      "        [1, 1, 1],\n",
      "        [1, 1, 1],\n",
      "        [1, 1, 1]]) torch.int64\n",
      "tensor([[1., 1., 1.],\n",
      "        [1., 1., 1.],\n",
      "        [1., 1., 1.],\n",
      "        [1., 1., 1.],\n",
      "        [1., 1., 1.]]) torch.float32\n",
      "[[1. 1. 1.]\n",
      " [1. 1. 1.]\n",
      " [1. 1. 1.]\n",
      " [1. 1. 1.]\n",
      " [1. 1. 1.]] float64\n"
     ]
    }
   ],
   "source": [
    "x = torch.zeros(5, 3, dtype=torch.long)\n",
    "x1 = torch.zeros(5, 3)\n",
    "print(x, x.dtype)\n",
    "print(x1, x1.dtype)\n",
    "x2 = np.zeros([5, 3])\n",
    "print(x2, (x2.dtype))\n",
    "\n",
    "\n",
    "x = torch.ones(5, 3, dtype=torch.long)\n",
    "x1 = torch.ones(5, 3)\n",
    "print(x, x.dtype)\n",
    "print(x1, x1.dtype)\n",
    "x2 = np.ones([5, 3])\n",
    "print(x2, (x2.dtype))"
   ]
  },
  {
   "cell_type": "markdown",
   "metadata": {},
   "source": [
    "Construct a tensor directly from data:\n",
    "\n"
   ]
  },
  {
   "cell_type": "code",
   "execution_count": 10,
   "metadata": {},
   "outputs": [
    {
     "name": "stdout",
     "output_type": "stream",
     "text": [
      "tensor([[5.5000, 3.0000],\n",
      "        [2.1000, 1.4000]]) torch.float32\n",
      "[[5.5 3. ]\n",
      " [2.1 1.4]] float64\n"
     ]
    }
   ],
   "source": [
    "x = torch.tensor([[5.5, 3],[2.1, 1.4]])\n",
    "print(x, x.dtype)\n",
    "\n",
    "x = np.array([[5.5, 3],[2.1, 1.4]])\n",
    "print(x, x.dtype)"
   ]
  },
  {
   "cell_type": "markdown",
   "metadata": {},
   "source": [
    "or create a tensor based on an existing tensor. These methods\n",
    "will reuse properties of the input tensor, e.g. dtype, unless\n",
    "new values are provided by user\n",
    "\n"
   ]
  },
  {
   "cell_type": "code",
   "execution_count": 22,
   "metadata": {},
   "outputs": [
    {
     "name": "stdout",
     "output_type": "stream",
     "text": [
      "tensor([[1., 1., 1.],\n",
      "        [1., 1., 1.],\n",
      "        [1., 1., 1.],\n",
      "        [1., 1., 1.],\n",
      "        [1., 1., 1.]], dtype=torch.float64) torch.float64\n",
      "tensor([[ 0.1937, -1.6132, -0.2317],\n",
      "        [ 0.1629,  0.6547, -0.8764],\n",
      "        [-0.4499, -0.9208, -1.7014],\n",
      "        [-0.2760,  1.6280,  0.4924],\n",
      "        [-0.9014,  1.3564,  1.6172]]) torch.float32\n",
      "[[-0.00306717  0.24762812  1.50877744]\n",
      " [ 1.14315704 -0.52340891 -1.00002996]\n",
      " [-0.30072755 -1.23551154 -0.56608451]\n",
      " [-0.53270234  0.3155422   0.18715283]\n",
      " [-1.33041192  0.72078458  0.93531202]] float64\n"
     ]
    }
   ],
   "source": [
    "\n",
    "x = x.new_ones(5, 3, dtype=torch.double)      # new_* methods take in sizes\n",
    "print(x, x.dtype)\n",
    "\n",
    "x1 = torch.randn_like(x, dtype=torch.float)    # override dtype!\n",
    "print(x1, x1.dtype)                                      # result has the same size\n",
    "\n",
    "x2 = np.ones([5, 3])\n",
    "x2= np.random.randn(*x.shape)\n",
    "print(x2, x2.dtype)"
   ]
  },
  {
   "cell_type": "markdown",
   "metadata": {},
   "source": [
    "Get its size:\n",
    "\n"
   ]
  },
  {
   "cell_type": "code",
   "execution_count": 23,
   "metadata": {},
   "outputs": [
    {
     "name": "stdout",
     "output_type": "stream",
     "text": [
      "torch.Size([5, 3])\n",
      "torch.Size([5, 3])\n",
      "(5, 3)\n"
     ]
    }
   ],
   "source": [
    "print(x.size())\n",
    "print(x1.size())\n",
    "print(x2.shape)"
   ]
  },
  {
   "cell_type": "markdown",
   "metadata": {},
   "source": [
    "<div class=\"alert alert-info\"><h4>Note</h4><p>``torch.Size`` is in fact a tuple, so it supports all tuple operations.</p></div>\n",
    "\n",
    "Operations\n",
    "^^^^^^^^^^\n",
    "There are multiple syntaxes for operations. In the following\n",
    "example, we will take a look at the addition operation.\n",
    "\n",
    "Addition: syntax 1\n",
    "\n"
   ]
  },
  {
   "cell_type": "code",
   "execution_count": 24,
   "metadata": {},
   "outputs": [
    {
     "name": "stdout",
     "output_type": "stream",
     "text": [
      "tensor([[1.8201, 1.6255, 1.0110],\n",
      "        [1.2525, 1.4086, 1.9870],\n",
      "        [1.3737, 1.1682, 1.5704],\n",
      "        [1.2543, 1.1172, 1.1249],\n",
      "        [1.4161, 1.3156, 1.0923]], dtype=torch.float64)\n",
      "tensor([[1.8201, 1.6255, 1.0110],\n",
      "        [1.2525, 1.4086, 1.9870],\n",
      "        [1.3737, 1.1682, 1.5704],\n",
      "        [1.2543, 1.1172, 1.1249],\n",
      "        [1.4161, 1.3156, 1.0923]], dtype=torch.float64)\n"
     ]
    }
   ],
   "source": [
    "x = x.new_ones(5, 3, dtype=torch.double) \n",
    "y = torch.rand(5, 3)\n",
    "print(x + y)\n",
    "print(torch.add(x, y))"
   ]
  },
  {
   "cell_type": "markdown",
   "metadata": {},
   "source": [
    "Addition: syntax 2\n",
    "\n"
   ]
  },
  {
   "cell_type": "code",
   "execution_count": 20,
   "metadata": {},
   "outputs": [
    {
     "name": "stdout",
     "output_type": "stream",
     "text": [
      "tensor([[-0.6111,  1.3671,  0.5913],\n",
      "        [ 0.4787,  1.5968,  1.4886],\n",
      "        [-0.2882,  0.8896,  1.7288],\n",
      "        [ 1.2267, -0.8136,  2.1499],\n",
      "        [ 0.5402,  1.6101,  1.5872]])\n",
      "tensor([[-0.6111,  1.3671,  0.5913],\n",
      "        [ 0.4787,  1.5968,  1.4886],\n",
      "        [-0.2882,  0.8896,  1.7288],\n",
      "        [ 1.2267, -0.8136,  2.1499],\n",
      "        [ 0.5402,  1.6101,  1.5872]])\n"
     ]
    }
   ],
   "source": []
  },
  {
   "cell_type": "markdown",
   "metadata": {},
   "source": [
    "Addition: providing an output tensor as argument\n",
    "\n"
   ]
  },
  {
   "cell_type": "code",
   "execution_count": 25,
   "metadata": {},
   "outputs": [
    {
     "name": "stdout",
     "output_type": "stream",
     "text": [
      "tensor([[1.8201, 1.6255, 1.0110],\n",
      "        [1.2525, 1.4086, 1.9870],\n",
      "        [1.3737, 1.1682, 1.5704],\n",
      "        [1.2543, 1.1172, 1.1249],\n",
      "        [1.4161, 1.3156, 1.0923]])\n"
     ]
    }
   ],
   "source": [
    "result = torch.empty(5, 3)\n",
    "torch.add(x, y, out=result)\n",
    "print(result)"
   ]
  },
  {
   "cell_type": "markdown",
   "metadata": {},
   "source": [
    "Addition: in-place\n",
    "\n"
   ]
  },
  {
   "cell_type": "code",
   "execution_count": 32,
   "metadata": {},
   "outputs": [
    {
     "name": "stdout",
     "output_type": "stream",
     "text": [
      "tensor([[1.5257, 1.1578, 1.1223],\n",
      "        [1.7174, 1.1789, 1.5285],\n",
      "        [1.7931, 1.8706, 1.2212],\n",
      "        [1.9894, 1.0046, 1.4938],\n",
      "        [1.4896, 1.1036, 1.0656]], dtype=torch.float64)\n",
      "tensor([[1.5257, 1.1578, 1.1223],\n",
      "        [1.7174, 1.1789, 1.5285],\n",
      "        [1.7931, 1.8706, 1.2212],\n",
      "        [1.9894, 1.0046, 1.4938],\n",
      "        [1.4896, 1.1036, 1.0656]], dtype=torch.float64)\n",
      "tensor([[1.5257, 1.1578, 1.1223],\n",
      "        [1.7174, 1.1789, 1.5285],\n",
      "        [1.7931, 1.8706, 1.2212],\n",
      "        [1.9894, 1.0046, 1.4938],\n",
      "        [1.4896, 1.1036, 1.0656]])\n",
      "tensor([[1.5257, 1.1578, 1.1223],\n",
      "        [1.7174, 1.1789, 1.5285],\n",
      "        [1.7931, 1.8706, 1.2212],\n",
      "        [1.9894, 1.0046, 1.4938],\n",
      "        [1.4896, 1.1036, 1.0656]], dtype=torch.float64)\n"
     ]
    }
   ],
   "source": [
    "x = x.new_ones(5, 3, dtype=torch.double) \n",
    "y = torch.rand(5, 3)\n",
    "print(x + y)\n",
    "print(torch.add(x, y))\n",
    "\n",
    "# 提供输出参数\n",
    "result = torch.empty(5, 3)\n",
    "torch.add(x, y, out=result)\n",
    "print(result)\n",
    "\n",
    "# 把y加到x里面\n",
    "# 类似的操作有x.copy_(y), x.t_()`\n",
    "x.add_(y)\n",
    "print(x)"
   ]
  },
  {
   "cell_type": "markdown",
   "metadata": {},
   "source": [
    "<div class=\"alert alert-info\"><h4>Note</h4><p>Any operation that mutates a tensor in-place is post-fixed with an ``_``.\n",
    "    For example: ``x.copy_(y)``, ``x.t_()``, will change ``x``.</p></div>\n",
    "\n",
    "You can use standard NumPy-like indexing with all bells and whistles!\n",
    "\n"
   ]
  },
  {
   "cell_type": "code",
   "execution_count": 23,
   "metadata": {},
   "outputs": [
    {
     "name": "stdout",
     "output_type": "stream",
     "text": [
      "tensor([ 1.3180,  0.9830,  0.6939, -0.9661,  1.4196])\n"
     ]
    }
   ],
   "source": [
    "print(x[:, 1])"
   ]
  },
  {
   "cell_type": "markdown",
   "metadata": {},
   "source": [
    "Resizing: If you want to resize/reshape tensor, you can use ``torch.view``:\n",
    "\n"
   ]
  },
  {
   "cell_type": "code",
   "execution_count": 37,
   "metadata": {},
   "outputs": [
    {
     "name": "stdout",
     "output_type": "stream",
     "text": [
      "torch.Size([4, 4]) torch.Size([16]) torch.Size([2, 8])\n",
      "(5, 3) (3, 5)\n"
     ]
    }
   ],
   "source": [
    "x = torch.randn(4, 4)\n",
    "y = x.view(16)\n",
    "z = x.view(-1, 8)  # the size -1 is inferred from other dimensions\n",
    "print(x.size(), y.size(), z.size())\n",
    "\n",
    "x2 =  np.random.randn(5, 3)\n",
    "print(x2.shape, x2.reshape((-1, 5)).shape)"
   ]
  },
  {
   "cell_type": "markdown",
   "metadata": {},
   "source": [
    "If you have a one element tensor, use ``.item()`` to get the value as a\n",
    "Python number\n",
    "\n"
   ]
  },
  {
   "cell_type": "code",
   "execution_count": 40,
   "metadata": {},
   "outputs": [
    {
     "name": "stdout",
     "output_type": "stream",
     "text": [
      "tensor([-0.1490])\n",
      "-0.14903634786605835\n"
     ]
    }
   ],
   "source": [
    "x = torch.randn(1)\n",
    "print(x)\n",
    "print(x.item())"
   ]
  },
  {
   "cell_type": "markdown",
   "metadata": {},
   "source": [
    "# **Read later:**\n",
    "\n",
    "\n",
    "  100+ Tensor operations, including transposing, indexing, slicing,\n",
    "  mathematical operations, linear algebra, random numbers, etc.,\n",
    "  are described\n",
    "  `here <https://pytorch.org/docs/torch>`_.\n",
    "\n",
    "NumPy Bridge\n",
    "------------\n",
    "\n",
    "Converting a Torch Tensor to a NumPy array and vice versa is a breeze.\n",
    "\n",
    "The Torch Tensor and NumPy array will share their underlying memory\n",
    "locations (if the Torch Tensor is on CPU), and changing one will change\n",
    "the other.\n",
    "\n",
    "Converting a Torch Tensor to a NumPy Array\n",
    "^^^^^^^^^^^^^^^^^^^^^^^^^^^^^^^^^^^^^^^^^^\n",
    "\n"
   ]
  },
  {
   "cell_type": "code",
   "execution_count": 26,
   "metadata": {},
   "outputs": [
    {
     "name": "stdout",
     "output_type": "stream",
     "text": [
      "tensor([1., 1., 1., 1., 1.])\n"
     ]
    }
   ],
   "source": [
    "a = torch.ones(5)\n",
    "print(a)"
   ]
  },
  {
   "cell_type": "code",
   "execution_count": 52,
   "metadata": {},
   "outputs": [
    {
     "name": "stdout",
     "output_type": "stream",
     "text": [
      "tensor([1., 1., 1., 1., 1.])\n",
      "[1. 1. 1. 1. 1.]\n"
     ]
    }
   ],
   "source": [
    "a = torch.ones(5)\n",
    "print(a)\n",
    "b = a.numpy()\n",
    "print(b)"
   ]
  },
  {
   "cell_type": "markdown",
   "metadata": {},
   "source": [
    "See how the numpy array changed in value.\n",
    "\n"
   ]
  },
  {
   "cell_type": "code",
   "execution_count": 53,
   "metadata": {},
   "outputs": [
    {
     "name": "stdout",
     "output_type": "stream",
     "text": [
      "tensor([2., 2., 3., 2., 2.])\n",
      "[2. 2. 3. 2. 2.]\n"
     ]
    }
   ],
   "source": [
    "a.add_(1)\n",
    "a[2] = 3\n",
    "print(a)\n",
    "print(b)\n",
    "#print(a.add(b))  # TypeError: add_(): argument 'other' (position 1) must be Tensor, not numpy.ndarray"
   ]
  },
  {
   "cell_type": "markdown",
   "metadata": {},
   "source": [
    "Converting NumPy Array to Torch Tensor\n",
    "^^^^^^^^^^^^^^^^^^^^^^^^^^^^^^^^^^^^^^\n",
    "See how changing the np array changed the Torch Tensor automatically\n",
    "\n"
   ]
  },
  {
   "cell_type": "code",
   "execution_count": 54,
   "metadata": {},
   "outputs": [
    {
     "name": "stdout",
     "output_type": "stream",
     "text": [
      "[2. 2. 3. 2. 2.]\n",
      "tensor([2., 2., 3., 2., 2.], dtype=torch.float64)\n"
     ]
    }
   ],
   "source": [
    "import numpy as np\n",
    "a = np.ones(5)\n",
    "b = torch.from_numpy(a)\n",
    "np.add(a, 1, out=a)\n",
    "a[2] = 3\n",
    "print(a)\n",
    "print(b)"
   ]
  },
  {
   "cell_type": "code",
   "execution_count": 58,
   "metadata": {},
   "outputs": [
    {
     "name": "stdout",
     "output_type": "stream",
     "text": [
      "tensor([[ 1,  2,  3,  4,  5],\n",
      "        [ 6,  7,  8,  9, 10]])\n",
      "tensor([[ 1,  6],\n",
      "        [ 2,  7],\n",
      "        [ 3,  8],\n",
      "        [ 4,  9],\n",
      "        [ 5, 10]])\n",
      "[[ 1  6]\n",
      " [ 2  7]\n",
      " [ 3  8]\n",
      " [ 4  9]\n",
      " [ 5 10]]\n"
     ]
    }
   ],
   "source": [
    "x = torch.tensor([[1, 2, 3, 4, 5], [6, 7, 8, 9, 10]])\n",
    "print(x)\n",
    "print(x.t())\n",
    "print(x.numpy().T)"
   ]
  },
  {
   "cell_type": "markdown",
   "metadata": {},
   "source": [
    "\n",
    "矩阵乘法\n",
    "------------"
   ]
  },
  {
   "cell_type": "code",
   "execution_count": 59,
   "metadata": {},
   "outputs": [
    {
     "name": "stdout",
     "output_type": "stream",
     "text": [
      "[[0.67523692 0.70427643]\n",
      " [0.99152725 0.67956944]\n",
      " [0.72231676 0.3713775 ]\n",
      " [0.22713021 0.05829898]\n",
      " [1.31979987 1.30936816]]\n",
      "[[0.67523692 0.70427643]\n",
      " [0.99152725 0.67956944]\n",
      " [0.72231676 0.3713775 ]\n",
      " [0.22713021 0.05829898]\n",
      " [1.31979987 1.30936816]]\n",
      "tensor([[0.6752, 0.7043],\n",
      "        [0.9915, 0.6796],\n",
      "        [0.7223, 0.3714],\n",
      "        [0.2271, 0.0583],\n",
      "        [1.3198, 1.3094]], dtype=torch.float64)\n",
      "tensor([[0.6752, 0.7043],\n",
      "        [0.9915, 0.6796],\n",
      "        [0.7223, 0.3714],\n",
      "        [0.2271, 0.0583],\n",
      "        [1.3198, 1.3094]], dtype=torch.float64)\n",
      "tensor([[0.6752, 0.7043],\n",
      "        [0.9915, 0.6796],\n",
      "        [0.7223, 0.3714],\n",
      "        [0.2271, 0.0583],\n",
      "        [1.3198, 1.3094]], dtype=torch.float64)\n"
     ]
    }
   ],
   "source": [
    "import numpy as np\n",
    "import torch\n",
    "x = np.random.rand(5, 3)\n",
    "y = np.random.rand(3, 2)\n",
    "print(x.dot(y))\n",
    "print(x @ y)\n",
    "x = torch.from_numpy(x)\n",
    "y = torch.from_numpy(y)\n",
    "print(x.mm(y))\n",
    "print(x.matmul(y))\n",
    "print(x @ y)"
   ]
  },
  {
   "cell_type": "markdown",
   "metadata": {},
   "source": [
    "矩阵点乘\n",
    "------------"
   ]
  },
  {
   "cell_type": "code",
   "execution_count": 95,
   "metadata": {},
   "outputs": [
    {
     "name": "stdout",
     "output_type": "stream",
     "text": [
      "[[0.11351711 0.07132612 0.11332093]\n",
      " [0.04236096 0.0121558  0.07490655]\n",
      " [0.25871924 0.23204599 0.34242472]\n",
      " [0.49872754 0.07574644 0.58106411]\n",
      " [0.01086334 0.01054779 0.00343615]]\n",
      "tensor([[0.1135, 0.0713, 0.1133],\n",
      "        [0.0424, 0.0122, 0.0749],\n",
      "        [0.2587, 0.2320, 0.3424],\n",
      "        [0.4987, 0.0757, 0.5811],\n",
      "        [0.0109, 0.0105, 0.0034]], dtype=torch.float64)\n",
      "tensor([[0.1135, 0.0713, 0.1133],\n",
      "        [0.0424, 0.0122, 0.0749],\n",
      "        [0.2587, 0.2320, 0.3424],\n",
      "        [0.4987, 0.0757, 0.5811],\n",
      "        [0.0109, 0.0105, 0.0034]], dtype=torch.float64)\n"
     ]
    }
   ],
   "source": [
    "x = np.random.rand(5, 3)\n",
    "y = np.random.rand(5, 1)\n",
    "print(x * y)\n",
    "x = torch.from_numpy(x)\n",
    "y = torch.from_numpy(y)\n",
    "print(x.mul(y))\n",
    "print(x * y)"
   ]
  },
  {
   "cell_type": "markdown",
   "metadata": {},
   "source": [
    "All the Tensors on the CPU except a CharTensor support converting to\n",
    "NumPy and back.\n",
    "\n",
    "CUDA Tensors\n",
    "------------\n",
    "\n",
    "Tensors can be moved onto any device using the ``.to`` method.\n",
    "\n"
   ]
  },
  {
   "cell_type": "code",
   "execution_count": 69,
   "metadata": {},
   "outputs": [
    {
     "name": "stdout",
     "output_type": "stream",
     "text": [
      "tensor([[1.0403, 1.1154, 1.6679],\n",
      "        [1.4616, 1.9931, 1.2849],\n",
      "        [1.0592, 1.1075, 1.4568],\n",
      "        [1.6452, 1.8758, 1.6133],\n",
      "        [1.5751, 1.4320, 1.6804]], device='cuda:0')\n",
      "tensor([[1.0403, 1.1154, 1.6679],\n",
      "        [1.4616, 1.9931, 1.2849],\n",
      "        [1.0592, 1.1075, 1.4568],\n",
      "        [1.6452, 1.8758, 1.6133],\n",
      "        [1.5751, 1.4320, 1.6804]], dtype=torch.float64)\n"
     ]
    }
   ],
   "source": [
    "# let us run this cell only if CUDA is available\n",
    "# We will use ``torch.device`` objects to move tensors in and out of GPU\n",
    "if torch.cuda.is_available():\n",
    "    device = torch.device(\"cuda\")          # a CUDA device object\n",
    "    x = torch.rand(5, 3)\n",
    "    y = torch.ones_like(x, device=device)  # directly create a tensor on GPU\n",
    "    x = x.to(device)                       # or just use strings ``.to(\"cuda\")``\n",
    "    z = x + y\n",
    "    print(z)\n",
    "    print(z.to(\"cpu\", torch.double))       # ``.to`` can also change dtype together!"
   ]
  },
  {
   "cell_type": "code",
   "execution_count": null,
   "metadata": {},
   "outputs": [],
   "source": []
  }
 ],
 "metadata": {
  "kernelspec": {
   "display_name": "Python 3",
   "language": "python",
   "name": "python3"
  },
  "language_info": {
   "codemirror_mode": {
    "name": "ipython",
    "version": 3
   },
   "file_extension": ".py",
   "mimetype": "text/x-python",
   "name": "python",
   "nbconvert_exporter": "python",
   "pygments_lexer": "ipython3",
   "version": "3.6.9"
  }
 },
 "nbformat": 4,
 "nbformat_minor": 1
}
