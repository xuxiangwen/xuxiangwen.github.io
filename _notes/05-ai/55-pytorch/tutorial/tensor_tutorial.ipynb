{
 "cells": [
  {
   "cell_type": "code",
   "execution_count": 38,
   "metadata": {},
   "outputs": [],
   "source": [
    "%matplotlib inline"
   ]
  },
  {
   "cell_type": "markdown",
   "metadata": {},
   "source": [
    "\n",
    "What is PyTorch?\n",
    "================\n",
    "\n",
    "It’s a Python-based scientific computing package targeted at two sets of\n",
    "audiences:\n",
    "\n",
    "-  A replacement for NumPy to use the power of GPUs\n",
    "-  a deep learning research platform that provides maximum flexibility\n",
    "   and speed\n",
    "\n",
    "Getting Started\n",
    "---------------\n",
    "\n",
    "Tensors\n",
    "^^^^^^^\n",
    "\n",
    "Tensors are similar to NumPy’s ndarrays, with the addition being that\n",
    "Tensors can also be used on a GPU to accelerate computing.\n",
    "\n"
   ]
  },
  {
   "cell_type": "code",
   "execution_count": 39,
   "metadata": {},
   "outputs": [],
   "source": [
    "from __future__ import print_function\n",
    "import torch\n",
    "import numpy as np"
   ]
  },
  {
   "cell_type": "markdown",
   "metadata": {},
   "source": [
    "<div class=\"alert alert-info\"><h4>Note</h4><p>An uninitialized matrix is declared,\n",
    "    but does not contain definite known\n",
    "    values before it is used. When an\n",
    "    uninitialized matrix is created,\n",
    "    whatever values were in the allocated\n",
    "    memory at the time will appear as the initial values.</p></div>\n",
    "\n"
   ]
  },
  {
   "cell_type": "markdown",
   "metadata": {},
   "source": [
    "Construct a 5x3 matrix, uninitialized:\n",
    "\n"
   ]
  },
  {
   "cell_type": "code",
   "execution_count": 40,
   "metadata": {},
   "outputs": [
    {
     "name": "stdout",
     "output_type": "stream",
     "text": [
      "tensor([[ 1.4013e-45,  0.0000e+00,  6.2256e-37],\n",
      "        [ 0.0000e+00,  1.4013e-45,  0.0000e+00],\n",
      "        [ 6.2255e-37,  0.0000e+00,  3.9236e-44],\n",
      "        [ 0.0000e+00, -1.6579e+03,  4.5715e-41],\n",
      "        [ 2.8026e-45,  0.0000e+00, -1.6579e+03]])\n",
      "[[1. 1. 1.]\n",
      " [1. 1. 1.]\n",
      " [1. 1. 1.]\n",
      " [1. 1. 1.]\n",
      " [1. 1. 1.]]\n"
     ]
    }
   ],
   "source": [
    "x = torch.empty(5, 3)\n",
    "print(x)\n",
    "print(np.empty([5, 3]))"
   ]
  },
  {
   "cell_type": "markdown",
   "metadata": {},
   "source": [
    "Construct a randomly initialized matrix:\n",
    "\n"
   ]
  },
  {
   "cell_type": "code",
   "execution_count": 41,
   "metadata": {},
   "outputs": [
    {
     "name": "stdout",
     "output_type": "stream",
     "text": [
      "tensor([[0.6845, 0.8593, 0.5880],\n",
      "        [0.7123, 0.2612, 1.0000],\n",
      "        [0.9157, 0.2335, 0.4868],\n",
      "        [0.2518, 0.8301, 0.9084],\n",
      "        [0.1778, 0.5326, 0.4678]])\n",
      "[[0.12270794 0.90282403 0.09793327]\n",
      " [0.82293212 0.2917235  0.82864884]\n",
      " [0.95759025 0.06209456 0.76189358]\n",
      " [0.47115073 0.46481893 0.36835697]\n",
      " [0.7343888  0.38339631 0.20976805]]\n"
     ]
    }
   ],
   "source": [
    "x = torch.rand(5, 3)\n",
    "print(x)\n",
    "print(np.random.rand(5, 3))"
   ]
  },
  {
   "cell_type": "markdown",
   "metadata": {},
   "source": [
    "Construct a matrix filled zeros and of dtype long:\n",
    "\n"
   ]
  },
  {
   "cell_type": "code",
   "execution_count": 42,
   "metadata": {},
   "outputs": [
    {
     "name": "stdout",
     "output_type": "stream",
     "text": [
      "tensor([[0, 0, 0],\n",
      "        [0, 0, 0],\n",
      "        [0, 0, 0],\n",
      "        [0, 0, 0],\n",
      "        [0, 0, 0]]) torch.int64\n",
      "tensor([[0., 0., 0.],\n",
      "        [0., 0., 0.],\n",
      "        [0., 0., 0.],\n",
      "        [0., 0., 0.],\n",
      "        [0., 0., 0.]]) torch.float32\n",
      "[[0. 0. 0.]\n",
      " [0. 0. 0.]\n",
      " [0. 0. 0.]\n",
      " [0. 0. 0.]\n",
      " [0. 0. 0.]] float64\n",
      "tensor([[1, 1, 1],\n",
      "        [1, 1, 1],\n",
      "        [1, 1, 1],\n",
      "        [1, 1, 1],\n",
      "        [1, 1, 1]]) torch.int64\n",
      "tensor([[1., 1., 1.],\n",
      "        [1., 1., 1.],\n",
      "        [1., 1., 1.],\n",
      "        [1., 1., 1.],\n",
      "        [1., 1., 1.]]) torch.float32\n",
      "[[1. 1. 1.]\n",
      " [1. 1. 1.]\n",
      " [1. 1. 1.]\n",
      " [1. 1. 1.]\n",
      " [1. 1. 1.]] float64\n"
     ]
    }
   ],
   "source": [
    "x = torch.zeros(5, 3, dtype=torch.long)\n",
    "x1 = torch.zeros(5, 3)\n",
    "print(x, x.dtype)\n",
    "print(x1, x1.dtype)\n",
    "x2 = np.zeros([5, 3])\n",
    "print(x2, (x2.dtype))\n",
    "\n",
    "\n",
    "x = torch.ones(5, 3, dtype=torch.long)\n",
    "x1 = torch.ones(5, 3)\n",
    "print(x, x.dtype)\n",
    "print(x1, x1.dtype)\n",
    "x2 = np.ones([5, 3])\n",
    "print(x2, (x2.dtype))"
   ]
  },
  {
   "cell_type": "markdown",
   "metadata": {},
   "source": [
    "Construct a tensor directly from data:\n",
    "\n"
   ]
  },
  {
   "cell_type": "code",
   "execution_count": 43,
   "metadata": {},
   "outputs": [
    {
     "name": "stdout",
     "output_type": "stream",
     "text": [
      "tensor([5.5000, 3.0000])\n",
      "[5.5 3. ]\n",
      "tensor([[ 0.1681,  0.4046, -0.6156],\n",
      "        [-0.8879, -1.3654, -0.3469],\n",
      "        [ 0.2881,  1.1445,  1.2361],\n",
      "        [ 0.3426, -1.3792,  0.1178],\n",
      "        [-1.0277,  0.4645,  0.7790]])\n",
      "[[ 0.39894275 -0.99914927 -0.17254618]\n",
      " [ 1.1450648  -1.52843905  0.4167682 ]\n",
      " [-0.31281745  2.47859307  1.25330746]\n",
      " [-0.14828477  1.05453558 -0.00555711]\n",
      " [ 0.68668069 -0.35007869  1.84621639]]\n"
     ]
    }
   ],
   "source": [
    "x = torch.tensor([5.5, 3])\n",
    "print(x)\n",
    "print(np.array([5.5, 3]))\n",
    "print(torch.randn(5, 3))\n",
    "print(np.random.randn(5, 3))"
   ]
  },
  {
   "cell_type": "markdown",
   "metadata": {},
   "source": [
    "or create a tensor based on an existing tensor. These methods\n",
    "will reuse properties of the input tensor, e.g. dtype, unless\n",
    "new values are provided by user\n",
    "\n"
   ]
  },
  {
   "cell_type": "code",
   "execution_count": 45,
   "metadata": {},
   "outputs": [
    {
     "name": "stdout",
     "output_type": "stream",
     "text": [
      "tensor([[1., 1., 1.],\n",
      "        [1., 1., 1.],\n",
      "        [1., 1., 1.],\n",
      "        [1., 1., 1.],\n",
      "        [1., 1., 1.]], dtype=torch.float64)\n",
      "tensor([[-1.7399, -0.3425,  1.6261],\n",
      "        [ 1.0690, -0.0391, -0.8975],\n",
      "        [-1.6120, -0.7214, -1.6938],\n",
      "        [-1.3633, -0.5191,  1.1035],\n",
      "        [-0.8652, -1.5002, -0.0584]])\n",
      "tensor([[1., 1., 1.],\n",
      "        [1., 1., 1.],\n",
      "        [1., 1., 1.],\n",
      "        [1., 1., 1.],\n",
      "        [1., 1., 1.]])\n"
     ]
    }
   ],
   "source": [
    "x = x.new_ones(5, 3, dtype=torch.double)      # new_* methods take in sizes\n",
    "print(x)\n",
    "\n",
    "x = torch.randn_like(x, dtype=torch.float)    # override dtype!\n",
    "print(x)                                      # result has the same size\n",
    "x3= np.random.randn(*x2.shape)\n",
    "print(x1)"
   ]
  },
  {
   "cell_type": "markdown",
   "metadata": {},
   "source": [
    "Get its size:\n",
    "\n"
   ]
  },
  {
   "cell_type": "code",
   "execution_count": 46,
   "metadata": {},
   "outputs": [
    {
     "name": "stdout",
     "output_type": "stream",
     "text": [
      "torch.Size([5, 3])\n",
      "torch.Size([5, 3])\n",
      "(5, 3)\n"
     ]
    }
   ],
   "source": [
    "print(x.size())\n",
    "print(x1.size())\n",
    "print(x2.shape)"
   ]
  },
  {
   "cell_type": "markdown",
   "metadata": {},
   "source": [
    "<div class=\"alert alert-info\"><h4>Note</h4><p>``torch.Size`` is in fact a tuple, so it supports all tuple operations.</p></div>\n",
    "\n",
    "Operations\n",
    "^^^^^^^^^^\n",
    "There are multiple syntaxes for operations. In the following\n",
    "example, we will take a look at the addition operation.\n",
    "\n",
    "Addition: syntax 1\n",
    "\n"
   ]
  },
  {
   "cell_type": "code",
   "execution_count": 19,
   "metadata": {},
   "outputs": [
    {
     "name": "stdout",
     "output_type": "stream",
     "text": [
      "tensor([[-0.6111,  1.3671,  0.5913],\n",
      "        [ 0.4787,  1.5968,  1.4886],\n",
      "        [-0.2882,  0.8896,  1.7288],\n",
      "        [ 1.2267, -0.8136,  2.1499],\n",
      "        [ 0.5402,  1.6101,  1.5872]])\n"
     ]
    }
   ],
   "source": [
    "y = torch.rand(5, 3)\n",
    "print(x + y)"
   ]
  },
  {
   "cell_type": "markdown",
   "metadata": {},
   "source": [
    "Addition: syntax 2\n",
    "\n"
   ]
  },
  {
   "cell_type": "code",
   "execution_count": 20,
   "metadata": {},
   "outputs": [
    {
     "name": "stdout",
     "output_type": "stream",
     "text": [
      "tensor([[-0.6111,  1.3671,  0.5913],\n",
      "        [ 0.4787,  1.5968,  1.4886],\n",
      "        [-0.2882,  0.8896,  1.7288],\n",
      "        [ 1.2267, -0.8136,  2.1499],\n",
      "        [ 0.5402,  1.6101,  1.5872]])\n",
      "tensor([[-0.6111,  1.3671,  0.5913],\n",
      "        [ 0.4787,  1.5968,  1.4886],\n",
      "        [-0.2882,  0.8896,  1.7288],\n",
      "        [ 1.2267, -0.8136,  2.1499],\n",
      "        [ 0.5402,  1.6101,  1.5872]])\n"
     ]
    }
   ],
   "source": [
    "print(x + y)\n",
    "print(torch.add(x, y))"
   ]
  },
  {
   "cell_type": "markdown",
   "metadata": {},
   "source": [
    "Addition: providing an output tensor as argument\n",
    "\n"
   ]
  },
  {
   "cell_type": "code",
   "execution_count": 21,
   "metadata": {},
   "outputs": [
    {
     "name": "stdout",
     "output_type": "stream",
     "text": [
      "tensor([[-0.6111,  1.3671,  0.5913],\n",
      "        [ 0.4787,  1.5968,  1.4886],\n",
      "        [-0.2882,  0.8896,  1.7288],\n",
      "        [ 1.2267, -0.8136,  2.1499],\n",
      "        [ 0.5402,  1.6101,  1.5872]])\n"
     ]
    }
   ],
   "source": [
    "result = torch.empty(5, 3)\n",
    "torch.add(x, y, out=result)\n",
    "print(result)"
   ]
  },
  {
   "cell_type": "markdown",
   "metadata": {},
   "source": [
    "Addition: in-place\n",
    "\n"
   ]
  },
  {
   "cell_type": "code",
   "execution_count": 22,
   "metadata": {},
   "outputs": [
    {
     "name": "stdout",
     "output_type": "stream",
     "text": [
      "tensor([[-0.6111,  1.3671,  0.5913],\n",
      "        [ 0.4787,  1.5968,  1.4886],\n",
      "        [-0.2882,  0.8896,  1.7288],\n",
      "        [ 1.2267, -0.8136,  2.1499],\n",
      "        [ 0.5402,  1.6101,  1.5872]])\n"
     ]
    }
   ],
   "source": [
    "# adds x to y\n",
    "y.add_(x)\n",
    "print(y)"
   ]
  },
  {
   "cell_type": "markdown",
   "metadata": {},
   "source": [
    "<div class=\"alert alert-info\"><h4>Note</h4><p>Any operation that mutates a tensor in-place is post-fixed with an ``_``.\n",
    "    For example: ``x.copy_(y)``, ``x.t_()``, will change ``x``.</p></div>\n",
    "\n",
    "You can use standard NumPy-like indexing with all bells and whistles!\n",
    "\n"
   ]
  },
  {
   "cell_type": "code",
   "execution_count": 23,
   "metadata": {},
   "outputs": [
    {
     "name": "stdout",
     "output_type": "stream",
     "text": [
      "tensor([ 1.3180,  0.9830,  0.6939, -0.9661,  1.4196])\n"
     ]
    }
   ],
   "source": [
    "print(x[:, 1])"
   ]
  },
  {
   "cell_type": "markdown",
   "metadata": {},
   "source": [
    "Resizing: If you want to resize/reshape tensor, you can use ``torch.view``:\n",
    "\n"
   ]
  },
  {
   "cell_type": "code",
   "execution_count": 24,
   "metadata": {},
   "outputs": [
    {
     "name": "stdout",
     "output_type": "stream",
     "text": [
      "torch.Size([4, 4]) torch.Size([16]) torch.Size([2, 8])\n",
      "[[1. 1. 1. 1. 1.]\n",
      " [1. 1. 1. 1. 1.]\n",
      " [1. 1. 1. 1. 1.]]\n",
      "[[1. 1. 1.]\n",
      " [1. 1. 1.]\n",
      " [1. 1. 1.]\n",
      " [1. 1. 1.]\n",
      " [1. 1. 1.]]\n"
     ]
    }
   ],
   "source": [
    "x = torch.randn(4, 4)\n",
    "y = x.view(16)\n",
    "z = x.view(-1, 8)  # the size -1 is inferred from other dimensions\n",
    "print(x.size(), y.size(), z.size())\n",
    "print(x2.reshape((-1, 5)))\n",
    "print(x2)"
   ]
  },
  {
   "cell_type": "markdown",
   "metadata": {},
   "source": [
    "If you have a one element tensor, use ``.item()`` to get the value as a\n",
    "Python number\n",
    "\n"
   ]
  },
  {
   "cell_type": "code",
   "execution_count": 25,
   "metadata": {},
   "outputs": [
    {
     "name": "stdout",
     "output_type": "stream",
     "text": [
      "tensor([-0.7751])\n",
      "-0.7751093506813049\n"
     ]
    }
   ],
   "source": [
    "x = torch.randn(1)\n",
    "print(x)\n",
    "print(x.item())"
   ]
  },
  {
   "cell_type": "markdown",
   "metadata": {},
   "source": [
    "# **Read later:**\n",
    "\n",
    "\n",
    "  100+ Tensor operations, including transposing, indexing, slicing,\n",
    "  mathematical operations, linear algebra, random numbers, etc.,\n",
    "  are described\n",
    "  `here <https://pytorch.org/docs/torch>`_.\n",
    "\n",
    "NumPy Bridge\n",
    "------------\n",
    "\n",
    "Converting a Torch Tensor to a NumPy array and vice versa is a breeze.\n",
    "\n",
    "The Torch Tensor and NumPy array will share their underlying memory\n",
    "locations (if the Torch Tensor is on CPU), and changing one will change\n",
    "the other.\n",
    "\n",
    "Converting a Torch Tensor to a NumPy Array\n",
    "^^^^^^^^^^^^^^^^^^^^^^^^^^^^^^^^^^^^^^^^^^\n",
    "\n"
   ]
  },
  {
   "cell_type": "code",
   "execution_count": 26,
   "metadata": {},
   "outputs": [
    {
     "name": "stdout",
     "output_type": "stream",
     "text": [
      "tensor([1., 1., 1., 1., 1.])\n"
     ]
    }
   ],
   "source": [
    "a = torch.ones(5)\n",
    "print(a)"
   ]
  },
  {
   "cell_type": "code",
   "execution_count": 27,
   "metadata": {},
   "outputs": [
    {
     "name": "stdout",
     "output_type": "stream",
     "text": [
      "[1. 1. 1. 1. 1.]\n"
     ]
    }
   ],
   "source": [
    "b = a.numpy()\n",
    "print(b)"
   ]
  },
  {
   "cell_type": "markdown",
   "metadata": {},
   "source": [
    "See how the numpy array changed in value.\n",
    "\n"
   ]
  },
  {
   "cell_type": "code",
   "execution_count": 34,
   "metadata": {},
   "outputs": [
    {
     "name": "stdout",
     "output_type": "stream",
     "text": [
      "tensor([8., 8., 8., 8., 8.])\n",
      "[8. 8. 8. 8. 8.]\n"
     ]
    }
   ],
   "source": [
    "a.add_(1)\n",
    "print(a)\n",
    "print(b)\n",
    "#print(a.add(b))  # TypeError: add_(): argument 'other' (position 1) must be Tensor, not numpy.ndarray"
   ]
  },
  {
   "cell_type": "markdown",
   "metadata": {},
   "source": [
    "Converting NumPy Array to Torch Tensor\n",
    "^^^^^^^^^^^^^^^^^^^^^^^^^^^^^^^^^^^^^^\n",
    "See how changing the np array changed the Torch Tensor automatically\n",
    "\n"
   ]
  },
  {
   "cell_type": "code",
   "execution_count": 35,
   "metadata": {},
   "outputs": [
    {
     "name": "stdout",
     "output_type": "stream",
     "text": [
      "[2. 2. 2. 2. 2.]\n",
      "tensor([2., 2., 2., 2., 2.], dtype=torch.float64)\n"
     ]
    }
   ],
   "source": [
    "import numpy as np\n",
    "a = np.ones(5)\n",
    "b = torch.from_numpy(a)\n",
    "np.add(a, 1, out=a)\n",
    "print(a)\n",
    "print(b)"
   ]
  },
  {
   "cell_type": "code",
   "execution_count": 36,
   "metadata": {},
   "outputs": [
    {
     "name": "stdout",
     "output_type": "stream",
     "text": [
      "tensor([[ 1,  6],\n",
      "        [ 2,  7],\n",
      "        [ 3,  8],\n",
      "        [ 4,  9],\n",
      "        [ 5, 10]])\n"
     ]
    }
   ],
   "source": [
    "x = torch.rand(5, 3)\n",
    "y = torch.rand(3, 4)\n",
    "\n",
    "x = torch.tensor([[1, 2, 3, 4, 5], [6, 7, 8, 9, 10]])\n",
    "x\n",
    "print(x.t())"
   ]
  },
  {
   "cell_type": "code",
   "execution_count": 37,
   "metadata": {},
   "outputs": [
    {
     "data": {
      "text/plain": [
       "array([[ 0.7500882 ,  0.7524332 ,  0.78759205, -1.0938141 ,  0.34554777],\n",
       "       [-0.5738962 ,  0.88437074,  0.9283568 ,  0.33136606,  0.52874875],\n",
       "       [ 0.9656862 , -0.88271505,  0.54814184,  0.28887537, -1.130092  ]],\n",
       "      dtype=float32)"
      ]
     },
     "execution_count": 37,
     "metadata": {},
     "output_type": "execute_result"
    }
   ],
   "source": [
    "x = torch.randn(5, 3)\n",
    "x.numpy().T"
   ]
  },
  {
   "cell_type": "markdown",
   "metadata": {},
   "source": [
    "\n",
    "矩阵乘法\n",
    "------------"
   ]
  },
  {
   "cell_type": "code",
   "execution_count": 3,
   "metadata": {},
   "outputs": [
    {
     "name": "stdout",
     "output_type": "stream",
     "text": [
      "[[1.42872472 0.96292429]\n",
      " [1.02580704 0.23367451]\n",
      " [0.97810907 0.90041008]\n",
      " [0.60400574 0.45028582]\n",
      " [1.23392644 0.88780968]]\n",
      "[[1.42872472 0.96292429]\n",
      " [1.02580704 0.23367451]\n",
      " [0.97810907 0.90041008]\n",
      " [0.60400574 0.45028582]\n",
      " [1.23392644 0.88780968]]\n",
      "tensor([[1.4287, 0.9629],\n",
      "        [1.0258, 0.2337],\n",
      "        [0.9781, 0.9004],\n",
      "        [0.6040, 0.4503],\n",
      "        [1.2339, 0.8878]], dtype=torch.float64)\n",
      "tensor([[1.4287, 0.9629],\n",
      "        [1.0258, 0.2337],\n",
      "        [0.9781, 0.9004],\n",
      "        [0.6040, 0.4503],\n",
      "        [1.2339, 0.8878]], dtype=torch.float64)\n",
      "tensor([[1.4287, 0.9629],\n",
      "        [1.0258, 0.2337],\n",
      "        [0.9781, 0.9004],\n",
      "        [0.6040, 0.4503],\n",
      "        [1.2339, 0.8878]], dtype=torch.float64)\n"
     ]
    }
   ],
   "source": [
    "import numpy as np\n",
    "import torch\n",
    "x = np.random.rand(5, 3)\n",
    "y = np.random.rand(3, 2)\n",
    "print(x.dot(y))\n",
    "print(x @ y)\n",
    "x = torch.from_numpy(x)\n",
    "y = torch.from_numpy(y)\n",
    "print(x.mm(y))\n",
    "print(x.matmul(y))\n",
    "print(x @ y)"
   ]
  },
  {
   "cell_type": "markdown",
   "metadata": {},
   "source": [
    "矩阵点乘\n",
    "------------"
   ]
  },
  {
   "cell_type": "code",
   "execution_count": 95,
   "metadata": {},
   "outputs": [
    {
     "name": "stdout",
     "output_type": "stream",
     "text": [
      "[[0.11351711 0.07132612 0.11332093]\n",
      " [0.04236096 0.0121558  0.07490655]\n",
      " [0.25871924 0.23204599 0.34242472]\n",
      " [0.49872754 0.07574644 0.58106411]\n",
      " [0.01086334 0.01054779 0.00343615]]\n",
      "tensor([[0.1135, 0.0713, 0.1133],\n",
      "        [0.0424, 0.0122, 0.0749],\n",
      "        [0.2587, 0.2320, 0.3424],\n",
      "        [0.4987, 0.0757, 0.5811],\n",
      "        [0.0109, 0.0105, 0.0034]], dtype=torch.float64)\n",
      "tensor([[0.1135, 0.0713, 0.1133],\n",
      "        [0.0424, 0.0122, 0.0749],\n",
      "        [0.2587, 0.2320, 0.3424],\n",
      "        [0.4987, 0.0757, 0.5811],\n",
      "        [0.0109, 0.0105, 0.0034]], dtype=torch.float64)\n"
     ]
    }
   ],
   "source": [
    "x = np.random.rand(5, 3)\n",
    "y = np.random.rand(5, 1)\n",
    "print(x * y)\n",
    "x = torch.from_numpy(x)\n",
    "y = torch.from_numpy(y)\n",
    "print(x.mul(y))\n",
    "print(x * y)"
   ]
  },
  {
   "cell_type": "markdown",
   "metadata": {},
   "source": [
    "All the Tensors on the CPU except a CharTensor support converting to\n",
    "NumPy and back.\n",
    "\n",
    "CUDA Tensors\n",
    "------------\n",
    "\n",
    "Tensors can be moved onto any device using the ``.to`` method.\n",
    "\n"
   ]
  },
  {
   "cell_type": "code",
   "execution_count": 69,
   "metadata": {},
   "outputs": [
    {
     "name": "stdout",
     "output_type": "stream",
     "text": [
      "tensor([[1.0403, 1.1154, 1.6679],\n",
      "        [1.4616, 1.9931, 1.2849],\n",
      "        [1.0592, 1.1075, 1.4568],\n",
      "        [1.6452, 1.8758, 1.6133],\n",
      "        [1.5751, 1.4320, 1.6804]], device='cuda:0')\n",
      "tensor([[1.0403, 1.1154, 1.6679],\n",
      "        [1.4616, 1.9931, 1.2849],\n",
      "        [1.0592, 1.1075, 1.4568],\n",
      "        [1.6452, 1.8758, 1.6133],\n",
      "        [1.5751, 1.4320, 1.6804]], dtype=torch.float64)\n"
     ]
    }
   ],
   "source": [
    "# let us run this cell only if CUDA is available\n",
    "# We will use ``torch.device`` objects to move tensors in and out of GPU\n",
    "if torch.cuda.is_available():\n",
    "    device = torch.device(\"cuda\")          # a CUDA device object\n",
    "    x = torch.rand(5, 3)\n",
    "    y = torch.ones_like(x, device=device)  # directly create a tensor on GPU\n",
    "    x = x.to(device)                       # or just use strings ``.to(\"cuda\")``\n",
    "    z = x + y\n",
    "    print(z)\n",
    "    print(z.to(\"cpu\", torch.double))       # ``.to`` can also change dtype together!"
   ]
  },
  {
   "cell_type": "code",
   "execution_count": null,
   "metadata": {},
   "outputs": [],
   "source": []
  }
 ],
 "metadata": {
  "kernelspec": {
   "display_name": "Python 3",
   "language": "python",
   "name": "python3"
  },
  "language_info": {
   "codemirror_mode": {
    "name": "ipython",
    "version": 3
   },
   "file_extension": ".py",
   "mimetype": "text/x-python",
   "name": "python",
   "nbconvert_exporter": "python",
   "pygments_lexer": "ipython3",
   "version": "3.6.8"
  }
 },
 "nbformat": 4,
 "nbformat_minor": 1
}
