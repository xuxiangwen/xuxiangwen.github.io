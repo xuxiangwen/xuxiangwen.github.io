{
 "cells": [
  {
   "cell_type": "markdown",
   "id": "bd5ba105",
   "metadata": {},
   "source": [
    "# [安装](https://pytorch.org/get-started/locally/)"
   ]
  },
  {
   "cell_type": "markdown",
   "id": "4389b043",
   "metadata": {
    "ExecuteTime": {
     "end_time": "2023-04-07T09:07:53.916074Z",
     "start_time": "2023-04-07T09:07:53.906770Z"
    }
   },
   "source": [
    "~~~\n",
    "pip3 install -U torch torchvision torchaudio --index-url https://download.pytorch.org/whl/cu118\n",
    "~~~"
   ]
  },
  {
   "cell_type": "code",
   "execution_count": 130,
   "id": "1c1da572",
   "metadata": {
    "ExecuteTime": {
     "end_time": "2023-04-07T09:07:59.339695Z",
     "start_time": "2023-04-07T09:07:59.328638Z"
    }
   },
   "outputs": [
    {
     "name": "stdout",
     "output_type": "stream",
     "text": [
      "tensor([[0.1599, 0.9283, 0.9837],\n",
      "        [0.4787, 0.4014, 0.4959],\n",
      "        [0.3687, 0.1401, 0.0792],\n",
      "        [0.5600, 0.1107, 0.5074],\n",
      "        [0.4139, 0.3714, 0.7066]])\n",
      "torch.__version__=2.0.0+cu118\n",
      "torch.cuda.is_available()=True\n"
     ]
    }
   ],
   "source": [
    "import torch\n",
    "\n",
    "x = torch.rand(5, 3)\n",
    "print(x)\n",
    "print(f'torch.__version__={torch.__version__}') \n",
    "print(f'torch.cuda.is_available()={torch.cuda.is_available()}')"
   ]
  },
  {
   "cell_type": "markdown",
   "id": "3b5dc810",
   "metadata": {},
   "source": [
    "# [快速入门](https://pytorch.org/tutorials/beginner/basics/quickstart_tutorial.html)"
   ]
  },
  {
   "cell_type": "markdown",
   "id": "1a11410e",
   "metadata": {},
   "source": [
    "## 数据"
   ]
  },
  {
   "cell_type": "markdown",
   "id": "e9ae9ebf",
   "metadata": {},
   "source": [
    "**ToTensor** converts a PIL image or NumPy ndarray into a FloatTensor. and scales the image’s pixel intensity values in the range [0., 1.]"
   ]
  },
  {
   "cell_type": "code",
   "execution_count": 124,
   "id": "405d560e",
   "metadata": {
    "ExecuteTime": {
     "end_time": "2023-04-07T08:55:25.393441Z",
     "start_time": "2023-04-07T08:55:25.328279Z"
    }
   },
   "outputs": [],
   "source": [
    "import torch\n",
    "from torch import nn\n",
    "from torch.utils.data import DataLoader\n",
    "from torchvision import datasets\n",
    "from torchvision.transforms import ToTensor\n",
    "\n",
    "# Download training data from open datasets.\n",
    "training_data = datasets.FashionMNIST(\n",
    "    root=\"data\",\n",
    "    train=True,\n",
    "    download=True,\n",
    "    transform=ToTensor(),\n",
    ")\n",
    "\n",
    "# Download test data from open datasets.\n",
    "test_data = datasets.FashionMNIST(\n",
    "    root=\"data\",\n",
    "    train=False,\n",
    "    download=True,\n",
    "    transform=ToTensor(),\n",
    ")\n",
    "\n"
   ]
  },
  {
   "cell_type": "code",
   "execution_count": 125,
   "id": "4dfd2a05",
   "metadata": {
    "ExecuteTime": {
     "end_time": "2023-04-07T08:55:25.969884Z",
     "start_time": "2023-04-07T08:55:25.962035Z"
    }
   },
   "outputs": [
    {
     "name": "stdout",
     "output_type": "stream",
     "text": [
      "<class 'torchvision.datasets.mnist.FashionMNIST'> ['__add__', '__class__', '__class_getitem__', '__delattr__', '__dict__', '__dir__', '__doc__', '__eq__', '__format__', '__ge__', '__getattribute__', '__getitem__', '__gt__', '__hash__', '__init__', '__init_subclass__', '__le__', '__len__', '__lt__', '__module__', '__ne__', '__new__', '__orig_bases__', '__parameters__', '__reduce__', '__reduce_ex__', '__repr__', '__setattr__', '__sizeof__', '__slots__', '__str__', '__subclasshook__', '__weakref__', '_check_exists', '_check_legacy_exist', '_format_transform_repr', '_is_protocol', '_load_data', '_load_legacy_data', '_repr_indent', 'class_to_idx', 'classes', 'data', 'download', 'extra_repr', 'mirrors', 'processed_folder', 'raw_folder', 'resources', 'root', 'target_transform', 'targets', 'test_data', 'test_file', 'test_labels', 'train', 'train_data', 'train_labels', 'training_file', 'transform', 'transforms']\n"
     ]
    }
   ],
   "source": [
    "print(type(training_data), dir(training_data))  "
   ]
  },
  {
   "cell_type": "code",
   "execution_count": 126,
   "id": "c4eedc8a",
   "metadata": {
    "ExecuteTime": {
     "end_time": "2023-04-07T08:55:26.512778Z",
     "start_time": "2023-04-07T08:55:26.503011Z"
    }
   },
   "outputs": [
    {
     "name": "stdout",
     "output_type": "stream",
     "text": [
      "torch.Size([60000, 28, 28])\n",
      "torch.Size([60000])\n",
      "torch.Size([10000, 28, 28])\n",
      "torch.Size([10000])\n"
     ]
    }
   ],
   "source": [
    "print(training_data.data.shape)\n",
    "print(training_data.targets.shape)\n",
    "\n",
    "print(test_data.data.shape)\n",
    "print(test_data.targets.shape)"
   ]
  },
  {
   "cell_type": "code",
   "execution_count": 127,
   "id": "5c74fb21",
   "metadata": {
    "ExecuteTime": {
     "end_time": "2023-04-07T08:55:27.180551Z",
     "start_time": "2023-04-07T08:55:27.166853Z"
    }
   },
   "outputs": [
    {
     "data": {
      "text/plain": [
       "tensor([[  0,   0,   0,   4,   0,  53, 129, 120, 147, 175],\n",
       "        [  0,   0,   2,   0,  11, 137, 130, 128, 160, 176],\n",
       "        [  0,   3,   0,   0, 115, 114, 106, 137, 168, 153],\n",
       "        [  3,   0,   0,  89, 139,  90,  94, 153, 149, 131],\n",
       "        [  0,   0,  98, 136, 110, 109, 110, 162, 135, 144],\n",
       "        [ 26, 108, 117,  99, 111, 117, 136, 156, 134, 154],\n",
       "        [117, 111, 103, 115, 129, 134, 143, 154, 165, 170],\n",
       "        [111, 113, 118, 127, 125, 139, 133, 136, 160, 140],\n",
       "        [135, 136, 143, 126, 127, 151, 154, 143, 148, 125],\n",
       "        [108, 106, 119, 120, 129, 149, 156, 167, 190, 190]], dtype=torch.uint8)"
      ]
     },
     "execution_count": 127,
     "metadata": {},
     "output_type": "execute_result"
    }
   ],
   "source": [
    "test_data.data[0,10:20,10:20]"
   ]
  },
  {
   "cell_type": "code",
   "execution_count": 128,
   "id": "5a273269",
   "metadata": {
    "ExecuteTime": {
     "end_time": "2023-04-07T08:55:27.927476Z",
     "start_time": "2023-04-07T08:55:27.889636Z"
    }
   },
   "outputs": [
    {
     "name": "stdout",
     "output_type": "stream",
     "text": [
      "Shape of X [N, C, H, W]: torch.Size([64, 1, 28, 28])\n",
      "Shape of y: torch.Size([64]) torch.int64\n",
      "tensor([[0.0000, 0.0000, 0.0000, 0.0157, 0.0000, 0.2078, 0.5059, 0.4706, 0.5765,\n",
      "         0.6863],\n",
      "        [0.0000, 0.0000, 0.0078, 0.0000, 0.0431, 0.5373, 0.5098, 0.5020, 0.6275,\n",
      "         0.6902],\n",
      "        [0.0000, 0.0118, 0.0000, 0.0000, 0.4510, 0.4471, 0.4157, 0.5373, 0.6588,\n",
      "         0.6000],\n",
      "        [0.0118, 0.0000, 0.0000, 0.3490, 0.5451, 0.3529, 0.3686, 0.6000, 0.5843,\n",
      "         0.5137],\n",
      "        [0.0000, 0.0000, 0.3843, 0.5333, 0.4314, 0.4275, 0.4314, 0.6353, 0.5294,\n",
      "         0.5647],\n",
      "        [0.1020, 0.4235, 0.4588, 0.3882, 0.4353, 0.4588, 0.5333, 0.6118, 0.5255,\n",
      "         0.6039],\n",
      "        [0.4588, 0.4353, 0.4039, 0.4510, 0.5059, 0.5255, 0.5608, 0.6039, 0.6471,\n",
      "         0.6667],\n",
      "        [0.4353, 0.4431, 0.4627, 0.4980, 0.4902, 0.5451, 0.5216, 0.5333, 0.6275,\n",
      "         0.5490],\n",
      "        [0.5294, 0.5333, 0.5608, 0.4941, 0.4980, 0.5922, 0.6039, 0.5608, 0.5804,\n",
      "         0.4902],\n",
      "        [0.4235, 0.4157, 0.4667, 0.4706, 0.5059, 0.5843, 0.6118, 0.6549, 0.7451,\n",
      "         0.7451]])\n"
     ]
    }
   ],
   "source": [
    "batch_size = 64\n",
    "\n",
    "# Create data loaders.\n",
    "train_dataloader = DataLoader(training_data, batch_size=batch_size)\n",
    "test_dataloader = DataLoader(test_data, batch_size=batch_size)\n",
    "\n",
    "for X, y in test_dataloader:\n",
    "    print(f\"Shape of X [N, C, H, W]: {X.shape}\")\n",
    "    print(f\"Shape of y: {y.shape} {y.dtype}\")\n",
    "    print(X[0,0,10:20,10:20])\n",
    "    break"
   ]
  },
  {
   "cell_type": "code",
   "execution_count": 29,
   "id": "6ae3615e",
   "metadata": {
    "ExecuteTime": {
     "end_time": "2023-04-07T07:21:26.939039Z",
     "start_time": "2023-04-07T07:21:26.931650Z"
    }
   },
   "outputs": [
    {
     "name": "stdout",
     "output_type": "stream",
     "text": [
      "<class 'torch.utils.data.dataloader.DataLoader'> ['_DataLoader__initialized', '_DataLoader__multiprocessing_context', '_IterableDataset_len_called', '__annotations__', '__class__', '__class_getitem__', '__delattr__', '__dict__', '__dir__', '__doc__', '__eq__', '__format__', '__ge__', '__getattribute__', '__gt__', '__hash__', '__init__', '__init_subclass__', '__iter__', '__le__', '__len__', '__lt__', '__module__', '__ne__', '__new__', '__orig_bases__', '__parameters__', '__reduce__', '__reduce_ex__', '__repr__', '__setattr__', '__sizeof__', '__slots__', '__str__', '__subclasshook__', '__weakref__', '_auto_collation', '_dataset_kind', '_get_iterator', '_index_sampler', '_is_protocol', '_iterator', 'batch_sampler', 'batch_size', 'check_worker_number_rationality', 'collate_fn', 'dataset', 'drop_last', 'generator', 'multiprocessing_context', 'num_workers', 'persistent_workers', 'pin_memory', 'pin_memory_device', 'prefetch_factor', 'sampler', 'timeout', 'worker_init_fn']\n"
     ]
    }
   ],
   "source": [
    "print(type(train_dataloader), dir(train_dataloader))"
   ]
  },
  {
   "cell_type": "code",
   "execution_count": 33,
   "id": "ea52d11c",
   "metadata": {
    "ExecuteTime": {
     "end_time": "2023-04-07T07:21:57.241182Z",
     "start_time": "2023-04-07T07:21:57.233753Z"
    }
   },
   "outputs": [
    {
     "name": "stdout",
     "output_type": "stream",
     "text": [
      "60000 <class 'torchvision.datasets.mnist.FashionMNIST'>\n"
     ]
    }
   ],
   "source": [
    "print(len(train_dataloader.dataset), type(train_dataloader.dataset)) "
   ]
  },
  {
   "cell_type": "markdown",
   "id": "5616d0b8",
   "metadata": {
    "ExecuteTime": {
     "end_time": "2023-04-07T07:16:55.697928Z",
     "start_time": "2023-04-07T07:16:55.692623Z"
    }
   },
   "source": [
    "## 创建模型"
   ]
  },
  {
   "cell_type": "code",
   "execution_count": 21,
   "id": "65492498",
   "metadata": {
    "ExecuteTime": {
     "end_time": "2023-04-07T07:17:42.923490Z",
     "start_time": "2023-04-07T07:17:41.290320Z"
    }
   },
   "outputs": [
    {
     "name": "stdout",
     "output_type": "stream",
     "text": [
      "Using cuda device\n",
      "NeuralNetwork(\n",
      "  (flatten): Flatten(start_dim=1, end_dim=-1)\n",
      "  (linear_relu_stack): Sequential(\n",
      "    (0): Linear(in_features=784, out_features=512, bias=True)\n",
      "    (1): ReLU()\n",
      "    (2): Linear(in_features=512, out_features=512, bias=True)\n",
      "    (3): ReLU()\n",
      "    (4): Linear(in_features=512, out_features=10, bias=True)\n",
      "  )\n",
      ")\n"
     ]
    }
   ],
   "source": [
    "# Get cpu, gpu or mps device for training.\n",
    "# mps: 使用苹果的Metal Performance Shaders（MPS）作为PyTorch的后端，可以实现加速GPU训练。\n",
    "device = (\n",
    "    \"cuda\"\n",
    "    if torch.cuda.is_available()\n",
    "    else \"mps\"\n",
    "    if torch.backends.mps.is_available()\n",
    "    else \"cpu\"\n",
    ")\n",
    "print(f\"Using {device} device\")\n",
    "\n",
    "# Define model\n",
    "class NeuralNetwork(nn.Module):\n",
    "    def __init__(self):\n",
    "        super().__init__()\n",
    "        self.flatten = nn.Flatten()\n",
    "        self.linear_relu_stack = nn.Sequential(\n",
    "            nn.Linear(28*28, 512),\n",
    "            nn.ReLU(),\n",
    "            nn.Linear(512, 512),\n",
    "            nn.ReLU(),\n",
    "            nn.Linear(512, 10)\n",
    "        )\n",
    "\n",
    "    def forward(self, x):\n",
    "        x = self.flatten(x)\n",
    "        logits = self.linear_relu_stack(x)\n",
    "        return logits\n",
    "\n",
    "model = NeuralNetwork().to(device)\n",
    "print(model)"
   ]
  },
  {
   "cell_type": "markdown",
   "id": "d8f9d05a",
   "metadata": {},
   "source": [
    "## 模型参数优化"
   ]
  },
  {
   "cell_type": "code",
   "execution_count": 22,
   "id": "e766cbe6",
   "metadata": {
    "ExecuteTime": {
     "end_time": "2023-04-07T07:18:08.588958Z",
     "start_time": "2023-04-07T07:18:08.581636Z"
    }
   },
   "outputs": [],
   "source": [
    "loss_fn = nn.CrossEntropyLoss()\n",
    "optimizer = torch.optim.SGD(model.parameters(), lr=1e-3)"
   ]
  },
  {
   "cell_type": "code",
   "execution_count": 34,
   "id": "ef0235ec",
   "metadata": {
    "ExecuteTime": {
     "end_time": "2023-04-07T07:26:04.207941Z",
     "start_time": "2023-04-07T07:26:04.189116Z"
    }
   },
   "outputs": [],
   "source": [
    "def train(dataloader, model, loss_fn, optimizer):\n",
    "    size = len(dataloader.dataset)\n",
    "    \n",
    "    # model.train()的作用是启用 Batch Normalization 和 Dropout。\n",
    "    model.train()\n",
    "    for batch, (X, y) in enumerate(dataloader):\n",
    "        X, y = X.to(device), y.to(device)\n",
    "\n",
    "        # Compute prediction error\n",
    "        pred = model(X)\n",
    "        loss = loss_fn(pred, y)\n",
    "\n",
    "        # Backpropagation\n",
    "        optimizer.zero_grad()\n",
    "        loss.backward()\n",
    "        optimizer.step()\n",
    "\n",
    "        if batch % 100 == 0:\n",
    "            loss, current = loss.item(), (batch + 1) * len(X)\n",
    "            print(f\"loss: {loss:>7f}  [{current:>5d}/{size:>5d}]\")\n",
    "            \n",
    "            \n",
    "def test(dataloader, model, loss_fn):\n",
    "    size = len(dataloader.dataset)\n",
    "    num_batches = len(dataloader)\n",
    "    \n",
    "    # model.eval()的作用是不启用 Batch Normalization 和 Dropout。\n",
    "    model.eval()\n",
    "    test_loss, correct = 0, 0\n",
    "    with torch.no_grad():\n",
    "        for X, y in dataloader:\n",
    "            X, y = X.to(device), y.to(device)\n",
    "            pred = model(X)\n",
    "            test_loss += loss_fn(pred, y).item()\n",
    "            correct += (pred.argmax(1) == y).type(torch.float).sum().item()\n",
    "    test_loss /= num_batches\n",
    "    correct /= size\n",
    "    print(f\"Test Error: \\n Accuracy: {(100*correct):>0.1f}%, Avg loss: {test_loss:>8f} \\n\")            "
   ]
  },
  {
   "cell_type": "code",
   "execution_count": 35,
   "id": "631f8fd3",
   "metadata": {
    "ExecuteTime": {
     "end_time": "2023-04-07T07:27:11.315395Z",
     "start_time": "2023-04-07T07:26:04.650924Z"
    }
   },
   "outputs": [
    {
     "name": "stdout",
     "output_type": "stream",
     "text": [
      "Epoch 1\n",
      "-------------------------------\n",
      "loss: 2.304703  [   64/60000]\n",
      "loss: 2.282992  [ 6464/60000]\n",
      "loss: 2.265572  [12864/60000]\n",
      "loss: 2.269515  [19264/60000]\n",
      "loss: 2.239511  [25664/60000]\n",
      "loss: 2.215193  [32064/60000]\n",
      "loss: 2.236331  [38464/60000]\n",
      "loss: 2.194202  [44864/60000]\n",
      "loss: 2.195833  [51264/60000]\n",
      "loss: 2.163051  [57664/60000]\n",
      "Test Error: \n",
      " Accuracy: 43.2%, Avg loss: 2.149062 \n",
      "\n",
      "Epoch 2\n",
      "-------------------------------\n",
      "loss: 2.162719  [   64/60000]\n",
      "loss: 2.146523  [ 6464/60000]\n",
      "loss: 2.081610  [12864/60000]\n",
      "loss: 2.113500  [19264/60000]\n",
      "loss: 2.047566  [25664/60000]\n",
      "loss: 1.981864  [32064/60000]\n",
      "loss: 2.034997  [38464/60000]\n",
      "loss: 1.935222  [44864/60000]\n",
      "loss: 1.956576  [51264/60000]\n",
      "loss: 1.890763  [57664/60000]\n",
      "Test Error: \n",
      " Accuracy: 53.0%, Avg loss: 1.870532 \n",
      "\n",
      "Epoch 3\n",
      "-------------------------------\n",
      "loss: 1.907333  [   64/60000]\n",
      "loss: 1.873542  [ 6464/60000]\n",
      "loss: 1.742480  [12864/60000]\n",
      "loss: 1.806811  [19264/60000]\n",
      "loss: 1.683257  [25664/60000]\n",
      "loss: 1.628875  [32064/60000]\n",
      "loss: 1.683727  [38464/60000]\n",
      "loss: 1.558791  [44864/60000]\n",
      "loss: 1.599142  [51264/60000]\n",
      "loss: 1.511198  [57664/60000]\n",
      "Test Error: \n",
      " Accuracy: 60.3%, Avg loss: 1.504406 \n",
      "\n",
      "Epoch 4\n",
      "-------------------------------\n",
      "loss: 1.576504  [   64/60000]\n",
      "loss: 1.539857  [ 6464/60000]\n",
      "loss: 1.377550  [12864/60000]\n",
      "loss: 1.467497  [19264/60000]\n",
      "loss: 1.342130  [25664/60000]\n",
      "loss: 1.331868  [32064/60000]\n",
      "loss: 1.371773  [38464/60000]\n",
      "loss: 1.272481  [44864/60000]\n",
      "loss: 1.316101  [51264/60000]\n",
      "loss: 1.236866  [57664/60000]\n",
      "Test Error: \n",
      " Accuracy: 63.5%, Avg loss: 1.242190 \n",
      "\n",
      "Epoch 5\n",
      "-------------------------------\n",
      "loss: 1.322729  [   64/60000]\n",
      "loss: 1.306918  [ 6464/60000]\n",
      "loss: 1.131460  [12864/60000]\n",
      "loss: 1.247459  [19264/60000]\n",
      "loss: 1.120749  [25664/60000]\n",
      "loss: 1.138453  [32064/60000]\n",
      "loss: 1.179349  [38464/60000]\n",
      "loss: 1.094591  [44864/60000]\n",
      "loss: 1.141147  [51264/60000]\n",
      "loss: 1.077907  [57664/60000]\n",
      "Test Error: \n",
      " Accuracy: 64.7%, Avg loss: 1.079933 \n",
      "\n",
      "Done!\n"
     ]
    }
   ],
   "source": [
    "epochs = 5\n",
    "for t in range(epochs):\n",
    "    print(f\"Epoch {t+1}\\n-------------------------------\")\n",
    "    train(train_dataloader, model, loss_fn, optimizer)\n",
    "    test(test_dataloader, model, loss_fn)\n",
    "print(\"Done!\")"
   ]
  },
  {
   "cell_type": "markdown",
   "id": "6e12f009",
   "metadata": {},
   "source": [
    "## 保存模型"
   ]
  },
  {
   "cell_type": "code",
   "execution_count": 37,
   "id": "023d88d2",
   "metadata": {
    "ExecuteTime": {
     "end_time": "2023-04-07T07:29:15.055453Z",
     "start_time": "2023-04-07T07:29:15.036925Z"
    }
   },
   "outputs": [
    {
     "name": "stdout",
     "output_type": "stream",
     "text": [
      "Saved PyTorch Model State to model.pth\n"
     ]
    }
   ],
   "source": [
    "torch.save(model.state_dict(), \"model.pth\")\n",
    "print(\"Saved PyTorch Model State to model.pth\")"
   ]
  },
  {
   "cell_type": "markdown",
   "id": "38a736d8",
   "metadata": {},
   "source": [
    "## 加载模型"
   ]
  },
  {
   "cell_type": "code",
   "execution_count": 38,
   "id": "d31d8c35",
   "metadata": {
    "ExecuteTime": {
     "end_time": "2023-04-07T07:29:28.041996Z",
     "start_time": "2023-04-07T07:29:28.008269Z"
    }
   },
   "outputs": [
    {
     "data": {
      "text/plain": [
       "<All keys matched successfully>"
      ]
     },
     "execution_count": 38,
     "metadata": {},
     "output_type": "execute_result"
    }
   ],
   "source": [
    "model = NeuralNetwork()\n",
    "model.load_state_dict(torch.load(\"model.pth\"))"
   ]
  },
  {
   "cell_type": "code",
   "execution_count": 39,
   "id": "7dc950b2",
   "metadata": {
    "ExecuteTime": {
     "end_time": "2023-04-07T07:29:48.081957Z",
     "start_time": "2023-04-07T07:29:48.066752Z"
    }
   },
   "outputs": [
    {
     "name": "stdout",
     "output_type": "stream",
     "text": [
      "Predicted: \"Ankle boot\", Actual: \"Ankle boot\"\n"
     ]
    }
   ],
   "source": [
    "classes = [\n",
    "    \"T-shirt/top\",\n",
    "    \"Trouser\",\n",
    "    \"Pullover\",\n",
    "    \"Dress\",\n",
    "    \"Coat\",\n",
    "    \"Sandal\",\n",
    "    \"Shirt\",\n",
    "    \"Sneaker\",\n",
    "    \"Bag\",\n",
    "    \"Ankle boot\",\n",
    "]\n",
    "\n",
    "# model.eval()的作用是不启用 Batch Normalization 和 Dropout。\n",
    "model.eval()\n",
    "x, y = test_data[0][0], test_data[0][1]\n",
    "with torch.no_grad():\n",
    "    pred = model(x)\n",
    "    predicted, actual = classes[pred[0].argmax(0)], classes[y]\n",
    "    print(f'Predicted: \"{predicted}\", Actual: \"{actual}\"')"
   ]
  },
  {
   "cell_type": "markdown",
   "id": "5e08934a",
   "metadata": {},
   "source": [
    "# [Tensor](https://pytorch.org/tutorials/beginner/basics/tensorqs_tutorial.html)"
   ]
  },
  {
   "cell_type": "code",
   "execution_count": 41,
   "id": "08e10e35",
   "metadata": {
    "ExecuteTime": {
     "end_time": "2023-04-07T07:39:19.526540Z",
     "start_time": "2023-04-07T07:39:19.522176Z"
    }
   },
   "outputs": [],
   "source": [
    "import torch\n",
    "import numpy as np"
   ]
  },
  {
   "cell_type": "markdown",
   "id": "a9dbd8a7",
   "metadata": {},
   "source": [
    "## 初始化Tensor"
   ]
  },
  {
   "cell_type": "code",
   "execution_count": 46,
   "id": "cb21124f",
   "metadata": {
    "ExecuteTime": {
     "end_time": "2023-04-07T07:40:56.302918Z",
     "start_time": "2023-04-07T07:40:56.273315Z"
    }
   },
   "outputs": [
    {
     "name": "stdout",
     "output_type": "stream",
     "text": [
      "--------------------------------------------------\n",
      "<class 'torch.Tensor'> torch.Size([2, 2])\n",
      "--------------------------------------------------\n",
      "<class 'torch.Tensor'> torch.Size([2, 2])\n",
      "--------------------------------------------------\n",
      "Ones Tensor: \n",
      " tensor([[1, 1],\n",
      "        [1, 1]]) \n",
      "\n",
      "--------------------------------------------------\n",
      "Random Tensor: \n",
      " tensor([[0.8294, 0.6385],\n",
      "        [0.0687, 0.6592]]) \n",
      "\n",
      "--------------------------------------------------\n",
      "Random Tensor: \n",
      " tensor([[0.2051, 0.5373, 0.3993],\n",
      "        [0.5936, 0.1841, 0.1124]]) \n",
      "\n",
      "Ones Tensor: \n",
      " tensor([[1., 1., 1.],\n",
      "        [1., 1., 1.]]) \n",
      "\n",
      "Zeros Tensor: \n",
      " tensor([[0., 0., 0.],\n",
      "        [0., 0., 0.]])\n"
     ]
    }
   ],
   "source": [
    "print('-'*50)\n",
    "data = [[1, 2],[3, 4]]\n",
    "x_data = torch.tensor(data)\n",
    "print(type(x_data), x_data.shape)\n",
    "\n",
    "print('-'*50)\n",
    "np_array = np.array(data)\n",
    "x_np = torch.from_numpy(np_array)\n",
    "print(type(x_np), x_np.shape)\n",
    "\n",
    "print('-'*50)\n",
    "x_ones = torch.ones_like(x_data) # retains the properties of x_data\n",
    "print(f\"Ones Tensor: \\n {x_ones} \\n\")\n",
    "\n",
    "print('-'*50)\n",
    "x_rand = torch.rand_like(x_data, dtype=torch.float) # overrides the datatype of x_data\n",
    "print(f\"Random Tensor: \\n {x_rand} \\n\")\n",
    "\n",
    "print('-'*50)\n",
    "shape = (2,3,)\n",
    "rand_tensor = torch.rand(shape)\n",
    "ones_tensor = torch.ones(shape)\n",
    "zeros_tensor = torch.zeros(shape)\n",
    "\n",
    "print(f\"Random Tensor: \\n {rand_tensor} \\n\")\n",
    "print(f\"Ones Tensor: \\n {ones_tensor} \\n\")\n",
    "print(f\"Zeros Tensor: \\n {zeros_tensor}\")"
   ]
  },
  {
   "cell_type": "markdown",
   "id": "fb9678a3",
   "metadata": {},
   "source": [
    "## Tensor的属性"
   ]
  },
  {
   "cell_type": "code",
   "execution_count": 47,
   "id": "9d5ccf49",
   "metadata": {
    "ExecuteTime": {
     "end_time": "2023-04-07T07:41:32.506863Z",
     "start_time": "2023-04-07T07:41:32.498308Z"
    }
   },
   "outputs": [
    {
     "name": "stdout",
     "output_type": "stream",
     "text": [
      "Shape of tensor: torch.Size([3, 4])\n",
      "Datatype of tensor: torch.float32\n",
      "Device tensor is stored on: cpu\n"
     ]
    }
   ],
   "source": [
    "tensor = torch.rand(3,4)\n",
    "\n",
    "print(f\"Shape of tensor: {tensor.shape}\")\n",
    "print(f\"Datatype of tensor: {tensor.dtype}\")\n",
    "print(f\"Device tensor is stored on: {tensor.device}\")"
   ]
  },
  {
   "cell_type": "markdown",
   "id": "02776335",
   "metadata": {},
   "source": [
    "## Tensor操作"
   ]
  },
  {
   "cell_type": "code",
   "execution_count": null,
   "id": "23cf313f",
   "metadata": {},
   "outputs": [],
   "source": [
    "if torch.cuda.is_available():\n",
    "    tensor = tensor.to(\"cuda\")"
   ]
  },
  {
   "cell_type": "code",
   "execution_count": 60,
   "id": "8d7af856",
   "metadata": {
    "ExecuteTime": {
     "end_time": "2023-04-07T07:54:01.188003Z",
     "start_time": "2023-04-07T07:54:01.165891Z"
    }
   },
   "outputs": [
    {
     "name": "stdout",
     "output_type": "stream",
     "text": [
      "First row: tensor([1., 1., 1., 1.])\n",
      "First column: tensor([1., 1., 1., 1.])\n",
      "Last column: tensor([1., 1., 1., 1.])\n",
      "tensor([[1., 0., 1., 1.],\n",
      "        [1., 0., 1., 1.],\n",
      "        [1., 0., 1., 1.],\n",
      "        [1., 0., 1., 1.]])\n",
      "--------------------------------------------------\n",
      "tensor([[1., 0., 1., 1., 1., 0., 1., 1., 1., 0., 1., 1.],\n",
      "        [1., 0., 1., 1., 1., 0., 1., 1., 1., 0., 1., 1.],\n",
      "        [1., 0., 1., 1., 1., 0., 1., 1., 1., 0., 1., 1.],\n",
      "        [1., 0., 1., 1., 1., 0., 1., 1., 1., 0., 1., 1.]])\n"
     ]
    }
   ],
   "source": [
    "tensor = torch.ones(4, 4)\n",
    "print(f\"First row: {tensor[0]}\")\n",
    "print(f\"First column: {tensor[:, 0]}\")\n",
    "print(f\"Last column: {tensor[..., -1]}\")\n",
    "tensor[:,1] = 0\n",
    "print(tensor)\n",
    "\n",
    "print('-'*50)\n",
    "t1 = torch.cat([tensor, tensor, tensor], dim=1)\n",
    "print(t1)\n",
    "\n"
   ]
  },
  {
   "cell_type": "code",
   "execution_count": 65,
   "id": "5caf7a66",
   "metadata": {
    "ExecuteTime": {
     "end_time": "2023-04-07T07:55:36.987077Z",
     "start_time": "2023-04-07T07:55:36.963967Z"
    }
   },
   "outputs": [
    {
     "name": "stdout",
     "output_type": "stream",
     "text": [
      "--------------------------------------------------\n",
      "tensor([[8., 8., 8., 8.],\n",
      "        [8., 8., 8., 8.],\n",
      "        [8., 8., 8., 8.],\n",
      "        [8., 8., 8., 8.]])\n",
      "--------------------------------------------------\n",
      "tensor([[4., 0., 4.],\n",
      "        [4., 0., 4.],\n",
      "        [4., 0., 4.],\n",
      "        [4., 0., 4.]])\n"
     ]
    }
   ],
   "source": [
    "print('-'*50)\n",
    "# Arithmetic operations\n",
    "tensor = torch.ones(4, 3) * 2 \n",
    "tensor[:,1] = 0\n",
    "\n",
    "y1 = tensor @ tensor.T\n",
    "y2 = tensor.matmul(tensor.T)\n",
    "\n",
    "y3 = torch.rand_like(y1)\n",
    "torch.matmul(tensor, tensor.T, out=y3)\n",
    "\n",
    "print(y3)\n",
    "torch.testing.assert_close(y1, y2)\n",
    "torch.testing.assert_close(y1, y3)\n",
    "\n",
    "\n",
    "print('-'*50)\n",
    "# This computes the element-wise product. z1, z2, z3 will have the same value\n",
    "z1 = tensor * tensor\n",
    "z2 = tensor.mul(tensor)\n",
    "\n",
    "z3 = torch.rand_like(tensor)\n",
    "torch.mul(tensor, tensor, out=z3)\n",
    "print(z3) \n",
    "\n",
    "torch.testing.assert_close(z1, z2)\n",
    "torch.testing.assert_close(z2, z3)\n"
   ]
  },
  {
   "cell_type": "code",
   "execution_count": 68,
   "id": "be024cbf",
   "metadata": {
    "ExecuteTime": {
     "end_time": "2023-04-07T07:57:10.215298Z",
     "start_time": "2023-04-07T07:57:10.197426Z"
    }
   },
   "outputs": [
    {
     "name": "stdout",
     "output_type": "stream",
     "text": [
      "16.0 <class 'float'>\n",
      "------------------------- inplace -------------------------\n",
      "tensor([[2., 0., 2.],\n",
      "        [2., 0., 2.],\n",
      "        [2., 0., 2.],\n",
      "        [2., 0., 2.]]) \n",
      "\n",
      "tensor([[7., 5., 7.],\n",
      "        [7., 5., 7.],\n",
      "        [7., 5., 7.],\n",
      "        [7., 5., 7.]])\n"
     ]
    }
   ],
   "source": [
    "agg = tensor.sum()\n",
    "agg_item = agg.item()\n",
    "print(agg_item, type(agg_item))\n",
    "\n",
    "print('-'*25, 'inplace', '-'*25)\n",
    "print(f\"{tensor} \\n\")\n",
    "tensor.add_(5)\n",
    "print(tensor)"
   ]
  },
  {
   "cell_type": "markdown",
   "id": "c661a02b",
   "metadata": {},
   "source": [
    "## 和NumPy互操作"
   ]
  },
  {
   "cell_type": "code",
   "execution_count": 73,
   "id": "d0bba3b4",
   "metadata": {
    "ExecuteTime": {
     "end_time": "2023-04-07T08:01:21.588175Z",
     "start_time": "2023-04-07T08:01:21.572518Z"
    }
   },
   "outputs": [
    {
     "name": "stdout",
     "output_type": "stream",
     "text": [
      "t: tensor([1., 1., 1., 1., 1.])\n",
      "n: [1. 1. 1. 1. 1.]\n",
      "------------------------- change value -------------------------\n",
      "t: tensor([2., 2., 2., 2., 2.])\n",
      "n: [2. 2. 2. 2. 2.]\n"
     ]
    }
   ],
   "source": [
    "t = torch.ones(5)\n",
    "print(f\"t: {t}\")\n",
    "n = t.numpy()\n",
    "print(f\"n: {n}\")\n",
    "\n",
    "print('-'*25, 'change value', '-'*25)\n",
    "t.add_(1)\n",
    "print(f\"t: {t}\")\n",
    "print(f\"n: {n}\")"
   ]
  },
  {
   "cell_type": "code",
   "execution_count": 74,
   "id": "e45ca654",
   "metadata": {
    "ExecuteTime": {
     "end_time": "2023-04-07T08:02:02.470120Z",
     "start_time": "2023-04-07T08:02:02.460091Z"
    }
   },
   "outputs": [
    {
     "name": "stdout",
     "output_type": "stream",
     "text": [
      "t: tensor([2., 2., 2., 2., 2.], dtype=torch.float64)\n",
      "n: [2. 2. 2. 2. 2.]\n"
     ]
    }
   ],
   "source": [
    "n = np.ones(5)\n",
    "t = torch.from_numpy(n)\n",
    "\n",
    "np.add(n, 1, out=n)\n",
    "print(f\"t: {t}\")\n",
    "print(f\"n: {n}\")"
   ]
  },
  {
   "cell_type": "markdown",
   "id": "f7d7dd98",
   "metadata": {},
   "source": [
    "# [DATASET 和 DATALOADER](https://pytorch.org/tutorials/beginner/basics/data_tutorial.html)\n",
    "\n"
   ]
  },
  {
   "cell_type": "markdown",
   "id": "57c5d32a",
   "metadata": {
    "ExecuteTime": {
     "end_time": "2023-04-07T08:11:09.518181Z",
     "start_time": "2023-04-07T08:11:09.513235Z"
    }
   },
   "source": [
    "## 加载 Dataset"
   ]
  },
  {
   "cell_type": "code",
   "execution_count": 85,
   "id": "015e816a",
   "metadata": {
    "ExecuteTime": {
     "end_time": "2023-04-07T08:11:40.967527Z",
     "start_time": "2023-04-07T08:11:39.609266Z"
    }
   },
   "outputs": [],
   "source": [
    "import torch\n",
    "from torch.utils.data import Dataset\n",
    "from torchvision import datasets\n",
    "from torchvision.transforms import ToTensor\n",
    "import matplotlib.pyplot as plt\n",
    "\n",
    "\n",
    "training_data = datasets.FashionMNIST(\n",
    "    root=\"data\",\n",
    "    train=True,\n",
    "    download=True,\n",
    "    transform=ToTensor()\n",
    ")\n",
    "\n",
    "test_data = datasets.FashionMNIST(\n",
    "    root=\"data\",\n",
    "    train=False,\n",
    "    download=True,\n",
    "    transform=ToTensor()\n",
    ")"
   ]
  },
  {
   "cell_type": "markdown",
   "id": "443d7821",
   "metadata": {},
   "source": [
    "## 遍历和可视化 Dataset"
   ]
  },
  {
   "cell_type": "code",
   "execution_count": 86,
   "id": "f3c83374",
   "metadata": {
    "ExecuteTime": {
     "end_time": "2023-04-07T08:11:59.837997Z",
     "start_time": "2023-04-07T08:11:59.421418Z"
    }
   },
   "outputs": [
    {
     "data": {
      "image/png": "[encoded data removed]",
      "text/plain": [
       "<Figure size 800x800 with 9 Axes>"
      ]
     },
     "metadata": {},
     "output_type": "display_data"
    }
   ],
   "source": [
    "labels_map = {\n",
    "    0: \"T-Shirt\",\n",
    "    1: \"Trouser\",\n",
    "    2: \"Pullover\",\n",
    "    3: \"Dress\",\n",
    "    4: \"Coat\",\n",
    "    5: \"Sandal\",\n",
    "    6: \"Shirt\",\n",
    "    7: \"Sneaker\",\n",
    "    8: \"Bag\",\n",
    "    9: \"Ankle Boot\",\n",
    "}\n",
    "figure = plt.figure(figsize=(8, 8))\n",
    "cols, rows = 3, 3\n",
    "for i in range(1, cols * rows + 1):\n",
    "    sample_idx = torch.randint(len(training_data), size=(1,)).item()\n",
    "    img, label = training_data[sample_idx]\n",
    "    figure.add_subplot(rows, cols, i)\n",
    "    plt.title(labels_map[label])\n",
    "    plt.axis(\"off\")\n",
    "    plt.imshow(img.squeeze(), cmap=\"gray\")\n",
    "plt.show()"
   ]
  },
  {
   "cell_type": "markdown",
   "id": "08dbfd91",
   "metadata": {},
   "source": [
    "## 创建自定义数据集"
   ]
  },
  {
   "cell_type": "code",
   "execution_count": null,
   "id": "d4f6cc87",
   "metadata": {},
   "outputs": [],
   "source": [
    "import os\n",
    "import pandas as pd\n",
    "from torchvision.io import read_image\n",
    "\n",
    "class CustomImageDataset(Dataset):\n",
    "    def __init__(self, annotations_file, img_dir, transform=None, target_transform=None):\n",
    "        self.img_labels = pd.read_csv(annotations_file)\n",
    "        self.img_dir = img_dir\n",
    "        self.transform = transform\n",
    "        self.target_transform = target_transform\n",
    "\n",
    "    def __len__(self):\n",
    "        return len(self.img_labels)\n",
    "\n",
    "    def __getitem__(self, idx):\n",
    "        img_path = os.path.join(self.img_dir, self.img_labels.iloc[idx, 0])\n",
    "        image = read_image(img_path)\n",
    "        label = self.img_labels.iloc[idx, 1]\n",
    "        if self.transform:\n",
    "            image = self.transform(image)\n",
    "        if self.target_transform:\n",
    "            label = self.target_transform(label)\n",
    "        return image, label"
   ]
  },
  {
   "cell_type": "markdown",
   "id": "c7db1777",
   "metadata": {},
   "source": [
    "## 使用 DataLoader"
   ]
  },
  {
   "cell_type": "code",
   "execution_count": 87,
   "id": "6b4e40cb",
   "metadata": {
    "ExecuteTime": {
     "end_time": "2023-04-07T08:15:27.356674Z",
     "start_time": "2023-04-07T08:15:27.348707Z"
    }
   },
   "outputs": [],
   "source": [
    "from torch.utils.data import DataLoader\n",
    "\n",
    "train_dataloader = DataLoader(training_data, batch_size=64, shuffle=True)\n",
    "test_dataloader = DataLoader(test_data, batch_size=64, shuffle=True)"
   ]
  },
  {
   "cell_type": "code",
   "execution_count": 88,
   "id": "835c7c1e",
   "metadata": {
    "ExecuteTime": {
     "end_time": "2023-04-07T08:15:42.873110Z",
     "start_time": "2023-04-07T08:15:42.648822Z"
    }
   },
   "outputs": [
    {
     "name": "stdout",
     "output_type": "stream",
     "text": [
      "Feature batch shape: torch.Size([64, 1, 28, 28])\n",
      "Labels batch shape: torch.Size([64])\n"
     ]
    },
    {
     "data": {
      "image/png": "[encoded data removed]",
      "text/plain": [
       "<Figure size 640x480 with 1 Axes>"
      ]
     },
     "metadata": {},
     "output_type": "display_data"
    },
    {
     "name": "stdout",
     "output_type": "stream",
     "text": [
      "Label: 2\n"
     ]
    }
   ],
   "source": [
    "# Display image and label.\n",
    "train_features, train_labels = next(iter(train_dataloader))\n",
    "print(f\"Feature batch shape: {train_features.size()}\")\n",
    "print(f\"Labels batch shape: {train_labels.size()}\")\n",
    "img = train_features[0].squeeze()\n",
    "label = train_labels[0]\n",
    "plt.imshow(img, cmap=\"gray\")\n",
    "plt.show()\n",
    "print(f\"Label: {label}\")"
   ]
  },
  {
   "cell_type": "markdown",
   "id": "a59931f0",
   "metadata": {},
   "source": [
    "# [自动微分](https://pytorch.org/tutorials/beginner/basics/autogradqs_tutorial.html)"
   ]
  },
  {
   "cell_type": "code",
   "execution_count": 1,
   "id": "3905ef42",
   "metadata": {
    "ExecuteTime": {
     "end_time": "2023-04-07T12:45:45.258309Z",
     "start_time": "2023-04-07T12:45:43.328088Z"
    }
   },
   "outputs": [],
   "source": [
    "import torch\n",
    "\n",
    "x = torch.ones(5)  # input tensor\n",
    "y = torch.zeros(3)  # expected output\n",
    "w = torch.randn(5, 3, requires_grad=True)\n",
    "b = torch.randn(3, requires_grad=True)\n",
    "z = torch.matmul(x, w)+b\n",
    "loss = torch.nn.functional.binary_cross_entropy_with_logits(z, y)"
   ]
  },
  {
   "cell_type": "markdown",
   "id": "4cd7d5aa",
   "metadata": {},
   "source": [
    "## Tensor, 函数和计算图\n",
    "\n",
    "Tensors, Functions and Computational graph\n",
    "\n",
    "![](https://pytorch.org/tutorials/_images/comp-graph.png)"
   ]
  },
  {
   "cell_type": "code",
   "execution_count": 2,
   "id": "dac5c3e6",
   "metadata": {
    "ExecuteTime": {
     "end_time": "2023-04-07T12:45:45.268829Z",
     "start_time": "2023-04-07T12:45:45.264980Z"
    }
   },
   "outputs": [
    {
     "name": "stdout",
     "output_type": "stream",
     "text": [
      "Gradient function for z = <AddBackward0 object at 0x7fe600085040>\n",
      "Gradient function for loss = <BinaryCrossEntropyWithLogitsBackward0 object at 0x7fe5377e57f0>\n"
     ]
    }
   ],
   "source": [
    "print(f\"Gradient function for z = {z.grad_fn}\")\n",
    "print(f\"Gradient function for loss = {loss.grad_fn}\")"
   ]
  },
  {
   "cell_type": "code",
   "execution_count": 3,
   "id": "0df557ce",
   "metadata": {
    "ExecuteTime": {
     "end_time": "2023-04-07T12:45:45.285471Z",
     "start_time": "2023-04-07T12:45:45.272430Z"
    }
   },
   "outputs": [
    {
     "data": {
      "text/plain": [
       "['_grad',\n",
       " '_grad_fn',\n",
       " 'grad',\n",
       " 'grad_fn',\n",
       " 'requires_grad',\n",
       " 'requires_grad_',\n",
       " 'retain_grad',\n",
       " 'retains_grad']"
      ]
     },
     "execution_count": 3,
     "metadata": {},
     "output_type": "execute_result"
    }
   ],
   "source": [
    " [m for m in dir(x) if m.find('grad')>=0]  "
   ]
  },
  {
   "cell_type": "code",
   "execution_count": 4,
   "id": "183a9495",
   "metadata": {
    "ExecuteTime": {
     "end_time": "2023-04-07T12:45:45.292900Z",
     "start_time": "2023-04-07T12:45:45.288272Z"
    }
   },
   "outputs": [
    {
     "name": "stdout",
     "output_type": "stream",
     "text": [
      "x.requires_grad=False\n",
      "y.requires_grad=False\n",
      "w.requires_grad=True\n",
      "b.requires_grad=True\n",
      "z.requires_grad=True\n",
      "loss.requires_grad=True\n"
     ]
    }
   ],
   "source": [
    "print(f\"x.requires_grad={x.requires_grad}\")\n",
    "print(f\"y.requires_grad={y.requires_grad}\")\n",
    "print(f\"w.requires_grad={w.requires_grad}\")\n",
    "print(f\"b.requires_grad={b.requires_grad}\")\n",
    "print(f\"z.requires_grad={z.requires_grad}\")\n",
    "print(f\"loss.requires_grad={loss.requires_grad}\") "
   ]
  },
  {
   "cell_type": "code",
   "execution_count": 5,
   "id": "dba27554",
   "metadata": {
    "ExecuteTime": {
     "end_time": "2023-04-07T12:45:46.060713Z",
     "start_time": "2023-04-07T12:45:46.051767Z"
    }
   },
   "outputs": [
    {
     "name": "stdout",
     "output_type": "stream",
     "text": [
      "x.retains_grad=False\n",
      "y.retains_grad=False\n",
      "w.retains_grad=False\n",
      "b.retains_grad=False\n",
      "z.retains_grad=False\n",
      "loss.retains_grad=False\n"
     ]
    }
   ],
   "source": [
    "print(f\"x.retains_grad={x.retains_grad}\")\n",
    "print(f\"y.retains_grad={y.retains_grad}\")\n",
    "print(f\"w.retains_grad={w.retains_grad}\")\n",
    "print(f\"b.retains_grad={b.retains_grad}\")\n",
    "print(f\"z.retains_grad={z.retains_grad}\")\n",
    "print(f\"loss.retains_grad={loss.retains_grad}\") "
   ]
  },
  {
   "cell_type": "markdown",
   "id": "d1efc323",
   "metadata": {},
   "source": [
    "## 计算梯度\n",
    "\n",
    "\n",
    "在计算图中，要获得grad, 需要满足：\n",
    "- 叶子节点\n",
    "- requires_grad = True"
   ]
  },
  {
   "cell_type": "code",
   "execution_count": 6,
   "id": "ae01f320",
   "metadata": {
    "ExecuteTime": {
     "end_time": "2023-04-07T12:45:48.563821Z",
     "start_time": "2023-04-07T12:45:48.526692Z"
    }
   },
   "outputs": [
    {
     "name": "stdout",
     "output_type": "stream",
     "text": [
      "w.grad=tensor([[0.2084, 0.0814, 0.0547],\n",
      "        [0.2084, 0.0814, 0.0547],\n",
      "        [0.2084, 0.0814, 0.0547],\n",
      "        [0.2084, 0.0814, 0.0547],\n",
      "        [0.2084, 0.0814, 0.0547]])\n",
      "b.grad=tensor([0.2084, 0.0814, 0.0547])\n"
     ]
    }
   ],
   "source": [
    "loss.backward()\n",
    "\n",
    "# print(f\"x.grad={x.grad}\")\n",
    "# print(f\"y.grad={y.grad}\")\n",
    "print(f\"w.grad={w.grad}\")\n",
    "print(f\"b.grad={b.grad}\")\n",
    "# print(f\"z.grad={z.grad}\")\n",
    "# print(f\"loss.grad={loss.grad}\") "
   ]
  },
  {
   "cell_type": "markdown",
   "id": "009236f6",
   "metadata": {},
   "source": [
    "## 禁止梯度跟踪"
   ]
  },
  {
   "cell_type": "code",
   "execution_count": 7,
   "id": "518873a1",
   "metadata": {
    "ExecuteTime": {
     "end_time": "2023-04-07T12:45:52.063862Z",
     "start_time": "2023-04-07T12:45:52.054362Z"
    }
   },
   "outputs": [
    {
     "name": "stdout",
     "output_type": "stream",
     "text": [
      "True\n",
      "False\n"
     ]
    }
   ],
   "source": [
    "z = torch.matmul(x, w)+b\n",
    "print(z.requires_grad)\n",
    "\n",
    "with torch.no_grad():\n",
    "    z = torch.matmul(x, w)+b\n",
    "print(z.requires_grad)"
   ]
  },
  {
   "cell_type": "code",
   "execution_count": 8,
   "id": "e9237ea0",
   "metadata": {
    "ExecuteTime": {
     "end_time": "2023-04-07T12:45:52.630415Z",
     "start_time": "2023-04-07T12:45:52.624212Z"
    }
   },
   "outputs": [
    {
     "name": "stdout",
     "output_type": "stream",
     "text": [
      "False\n"
     ]
    }
   ],
   "source": [
    "z = torch.matmul(x, w)+b\n",
    "z_det = z.detach()\n",
    "print(z_det.requires_grad)"
   ]
  },
  {
   "cell_type": "markdown",
   "id": "9a526716",
   "metadata": {},
   "source": [
    "## 雅各比矩阵\n",
    "Tensor Gradients and Jacobian Products\n",
    "\n"
   ]
  },
  {
   "cell_type": "code",
   "execution_count": 186,
   "id": "f184d0dd",
   "metadata": {
    "ExecuteTime": {
     "end_time": "2023-04-07T12:39:58.640201Z",
     "start_time": "2023-04-07T12:39:58.615489Z"
    }
   },
   "outputs": [
    {
     "name": "stdout",
     "output_type": "stream",
     "text": [
      "inp=tensor([[1., 0., 0., 0., 0.],\n",
      "        [0., 1., 0., 0., 0.],\n",
      "        [0., 0., 1., 0., 0.],\n",
      "        [0., 0., 0., 1., 0.]], requires_grad=True)\n",
      "out=tensor([[4., 1., 1., 1.],\n",
      "        [1., 4., 1., 1.],\n",
      "        [1., 1., 4., 1.],\n",
      "        [1., 1., 1., 4.],\n",
      "        [1., 1., 1., 1.]], grad_fn=<TBackward0>)\n",
      "First call\n",
      "tensor([[4., 2., 2., 2., 2.],\n",
      "        [2., 4., 2., 2., 2.],\n",
      "        [2., 2., 4., 2., 2.],\n",
      "        [2., 2., 2., 4., 2.]])\n",
      "\n",
      "Second call\n",
      "tensor([[8., 4., 4., 4., 4.],\n",
      "        [4., 8., 4., 4., 4.],\n",
      "        [4., 4., 8., 4., 4.],\n",
      "        [4., 4., 4., 8., 4.]])\n",
      "\n",
      "Call after zeroing gradients\n",
      "tensor([[4., 2., 2., 2., 2.],\n",
      "        [2., 4., 2., 2., 2.],\n",
      "        [2., 2., 4., 2., 2.],\n",
      "        [2., 2., 2., 4., 2.]])\n"
     ]
    }
   ],
   "source": [
    "inp = torch.eye(4, 5, requires_grad=True)\n",
    "print(f'inp={inp}') \n",
    "out = (inp+1).pow(2).t()\n",
    "print(f'out={out}')\n",
    "\n",
    "out.backward(torch.ones_like(out), retain_graph=True)\n",
    "print(f\"First call\\n{inp.grad}\")\n",
    "out.backward(torch.ones_like(out), retain_graph=True)\n",
    "print(f\"\\nSecond call\\n{inp.grad}\")\n",
    "inp.grad.zero_()\n",
    "out.backward(torch.ones_like(out), retain_graph=True)\n",
    "print(f\"\\nCall after zeroing gradients\\n{inp.grad}\")"
   ]
  },
  {
   "cell_type": "markdown",
   "id": "2c23a57e",
   "metadata": {},
   "source": [
    "以下代码参见 [详解Pytorch 自动微分里的（vector-Jacobian product）](https://zhuanlan.zhihu.com/p/65609544)"
   ]
  },
  {
   "cell_type": "code",
   "execution_count": 10,
   "id": "da4860a6",
   "metadata": {
    "ExecuteTime": {
     "end_time": "2023-04-07T12:55:21.478440Z",
     "start_time": "2023-04-07T12:55:21.468872Z"
    }
   },
   "outputs": [
    {
     "name": "stdout",
     "output_type": "stream",
     "text": [
      "x=tensor([ 0.9078,  0.9872, -0.7214], requires_grad=True)\n",
      "x.grad=tensor([ 1.8156,  1.9744, -1.4427])\n"
     ]
    }
   ],
   "source": [
    "x = torch.randn(3, requires_grad = True)\n",
    "y = x**2\n",
    "y.backward(torch.ones(3))\n",
    "\n",
    "print(f'x={x}')\n",
    "print(f'x.grad={x.grad}')"
   ]
  },
  {
   "cell_type": "code",
   "execution_count": 12,
   "id": "c6a78329",
   "metadata": {
    "ExecuteTime": {
     "end_time": "2023-04-07T13:05:06.308732Z",
     "start_time": "2023-04-07T13:05:06.292428Z"
    }
   },
   "outputs": [
    {
     "name": "stdout",
     "output_type": "stream",
     "text": [
      "tensor(5.) tensor(18.) tensor(34.)\n"
     ]
    }
   ],
   "source": [
    "x1=torch.tensor(1, requires_grad=True, dtype = torch.float)\n",
    "x2=torch.tensor(2, requires_grad=True, dtype = torch.float)\n",
    "x3=torch.tensor(3, requires_grad=True, dtype = torch.float)\n",
    "\n",
    "y=torch.randn(3) \n",
    "y[0]=x1**2+2*x2+x3\n",
    "y[1]=x1+x2**3+x3**2\n",
    "y[2]=2*x1+x2**2+x3**3\n",
    "\n",
    "y.backward(torch.ones(3))\n",
    "print(x1.grad, x2.grad, x3.grad) "
   ]
  },
  {
   "cell_type": "code",
   "execution_count": null,
   "id": "12965f83",
   "metadata": {},
   "outputs": [],
   "source": []
  },
  {
   "cell_type": "code",
   "execution_count": null,
   "id": "acee9c84",
   "metadata": {},
   "outputs": [],
   "source": []
  }
 ],
 "metadata": {
  "kernelspec": {
   "display_name": "Python 3 (ipykernel)",
   "language": "python",
   "name": "python3"
  },
  "language_info": {
   "codemirror_mode": {
    "name": "ipython",
    "version": 3
   },
   "file_extension": ".py",
   "mimetype": "text/x-python",
   "name": "python",
   "nbconvert_exporter": "python",
   "pygments_lexer": "ipython3",
   "version": "3.12.7"
  },
  "toc": {
   "base_numbering": 1,
   "nav_menu": {},
   "number_sections": true,
   "sideBar": true,
   "skip_h1_title": false,
   "title_cell": "Table of Contents",
   "title_sidebar": "Contents",
   "toc_cell": false,
   "toc_position": {
    "height": "calc(100% - 180px)",
    "left": "10px",
    "top": "150px",
    "width": "277.797px"
   },
   "toc_section_display": true,
   "toc_window_display": true
  }
 },
 "nbformat": 4,
 "nbformat_minor": 5
}
