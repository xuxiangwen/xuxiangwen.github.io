{
 "cells": [
  {
   "cell_type": "code",
   "execution_count": null,
   "metadata": {
    "collapsed": false,
    "jupyter": {
     "outputs_hidden": false
    }
   },
   "outputs": [],
   "source": [
    "# For tips on running notebooks in Google Colab, see\n",
    "# https://pytorch.org/tutorials/beginner/colab\n",
    "%matplotlib inline"
   ]
  },
  {
   "cell_type": "markdown",
   "metadata": {},
   "source": [
    "[Learn the Basics](intro.html) \\|\\|\n",
    "[Quickstart](quickstart_tutorial.html) \\|\\| **Tensors** \\|\\| [Datasets &\n",
    "DataLoaders](data_tutorial.html) \\|\\|\n",
    "[Transforms](transforms_tutorial.html) \\|\\| [Build\n",
    "Model](buildmodel_tutorial.html) \\|\\|\n",
    "[Autograd](autogradqs_tutorial.html) \\|\\|\n",
    "[Optimization](optimization_tutorial.html) \\|\\| [Save & Load\n",
    "Model](saveloadrun_tutorial.html)\n",
    "\n",
    "Tensors\n",
    "=======\n",
    "\n",
    "Tensors are a specialized data structure that are very similar to arrays\n",
    "and matrices. In PyTorch, we use tensors to encode the inputs and\n",
    "outputs of a model, as well as the model's parameters.\n",
    "\n",
    "Tensors are similar to [NumPy's](https://numpy.org/) ndarrays, except\n",
    "that tensors can run on GPUs or other hardware accelerators. In fact,\n",
    "tensors and NumPy arrays can often share the same underlying memory,\n",
    "eliminating the need to copy data (see\n",
    "`bridge-to-np-label`{.interpreted-text role=\"ref\"}). Tensors are also\n",
    "optimized for automatic differentiation (we\\'ll see more about that\n",
    "later in the [Autograd](autogradqs_tutorial.html) section). If you're\n",
    "familiar with ndarrays, you'll be right at home with the Tensor API. If\n",
    "not, follow along!\n"
   ]
  },
  {
   "cell_type": "code",
   "execution_count": 1,
   "metadata": {
    "collapsed": false,
    "execution": {
     "iopub.execute_input": "2025-03-19T08:39:03.933396Z",
     "iopub.status.busy": "2025-03-19T08:39:03.933396Z",
     "iopub.status.idle": "2025-03-19T08:39:08.907084Z",
     "shell.execute_reply": "2025-03-19T08:39:08.907084Z",
     "shell.execute_reply.started": "2025-03-19T08:39:03.933396Z"
    },
    "jupyter": {
     "outputs_hidden": false
    }
   },
   "outputs": [],
   "source": [
    "import torch\n",
    "import numpy as np"
   ]
  },
  {
   "cell_type": "markdown",
   "metadata": {},
   "source": [
    "Initializing a Tensor\n",
    "=====================\n",
    "\n",
    "Tensors can be initialized in various ways. Take a look at the following\n",
    "examples:\n",
    "\n",
    "**Directly from data**\n",
    "\n",
    "Tensors can be created directly from data. The data type is\n",
    "automatically inferred.\n"
   ]
  },
  {
   "cell_type": "code",
   "execution_count": 2,
   "metadata": {
    "collapsed": false,
    "execution": {
     "iopub.execute_input": "2025-03-19T08:39:08.908100Z",
     "iopub.status.busy": "2025-03-19T08:39:08.908100Z",
     "iopub.status.idle": "2025-03-19T08:39:08.915289Z",
     "shell.execute_reply": "2025-03-19T08:39:08.914283Z",
     "shell.execute_reply.started": "2025-03-19T08:39:08.908100Z"
    },
    "jupyter": {
     "outputs_hidden": false
    }
   },
   "outputs": [],
   "source": [
    "data = [[1, 2],[3, 4]]\n",
    "x_data = torch.tensor(data)"
   ]
  },
  {
   "cell_type": "markdown",
   "metadata": {},
   "source": [
    "**From a NumPy array**\n",
    "\n",
    "Tensors can be created from NumPy arrays (and vice versa - see\n",
    "`bridge-to-np-label`{.interpreted-text role=\"ref\"}).\n"
   ]
  },
  {
   "cell_type": "code",
   "execution_count": 3,
   "metadata": {
    "collapsed": false,
    "execution": {
     "iopub.execute_input": "2025-03-19T08:39:16.952188Z",
     "iopub.status.busy": "2025-03-19T08:39:16.952188Z",
     "iopub.status.idle": "2025-03-19T08:39:16.957426Z",
     "shell.execute_reply": "2025-03-19T08:39:16.956419Z",
     "shell.execute_reply.started": "2025-03-19T08:39:16.952188Z"
    },
    "jupyter": {
     "outputs_hidden": false
    }
   },
   "outputs": [],
   "source": [
    "np_array = np.array(data)\n",
    "x_np = torch.from_numpy(np_array)"
   ]
  },
  {
   "cell_type": "markdown",
   "metadata": {},
   "source": [
    "**From another tensor:**\n",
    "\n",
    "The new tensor retains the properties (shape, datatype) of the argument\n",
    "tensor, unless explicitly overridden.\n"
   ]
  },
  {
   "cell_type": "code",
   "execution_count": 4,
   "metadata": {
    "collapsed": false,
    "execution": {
     "iopub.execute_input": "2025-03-19T08:39:48.739741Z",
     "iopub.status.busy": "2025-03-19T08:39:48.739741Z",
     "iopub.status.idle": "2025-03-19T08:39:48.818699Z",
     "shell.execute_reply": "2025-03-19T08:39:48.817694Z",
     "shell.execute_reply.started": "2025-03-19T08:39:48.739741Z"
    },
    "jupyter": {
     "outputs_hidden": false
    }
   },
   "outputs": [
    {
     "name": "stdout",
     "output_type": "stream",
     "text": [
      "Ones Tensor: \n",
      " tensor([[1, 1],\n",
      "        [1, 1]]) \n",
      "\n",
      "Random Tensor: \n",
      " tensor([[0.7293, 0.1913],\n",
      "        [0.5862, 0.5030]]) \n",
      "\n"
     ]
    }
   ],
   "source": [
    "x_ones = torch.ones_like(x_data) # retains the properties of x_data\n",
    "print(f\"Ones Tensor: \\n {x_ones} \\n\")\n",
    "\n",
    "x_rand = torch.rand_like(x_data, dtype=torch.float) # overrides the datatype of x_data\n",
    "print(f\"Random Tensor: \\n {x_rand} \\n\")"
   ]
  },
  {
   "cell_type": "markdown",
   "metadata": {},
   "source": [
    "**With random or constant values:**\n",
    "\n",
    "`shape` is a tuple of tensor dimensions. In the functions below, it\n",
    "determines the dimensionality of the output tensor.\n"
   ]
  },
  {
   "cell_type": "code",
   "execution_count": 5,
   "metadata": {
    "collapsed": false,
    "execution": {
     "iopub.execute_input": "2025-03-19T08:40:11.264425Z",
     "iopub.status.busy": "2025-03-19T08:40:11.263421Z",
     "iopub.status.idle": "2025-03-19T08:40:11.278615Z",
     "shell.execute_reply": "2025-03-19T08:40:11.278615Z",
     "shell.execute_reply.started": "2025-03-19T08:40:11.264425Z"
    },
    "jupyter": {
     "outputs_hidden": false
    }
   },
   "outputs": [
    {
     "name": "stdout",
     "output_type": "stream",
     "text": [
      "Random Tensor: \n",
      " tensor([[0.5620, 0.0097, 0.3939],\n",
      "        [0.1405, 0.4151, 0.9577]]) \n",
      "\n",
      "Ones Tensor: \n",
      " tensor([[1., 1., 1.],\n",
      "        [1., 1., 1.]]) \n",
      "\n",
      "Zeros Tensor: \n",
      " tensor([[0., 0., 0.],\n",
      "        [0., 0., 0.]])\n"
     ]
    }
   ],
   "source": [
    "shape = (2,3,)\n",
    "rand_tensor = torch.rand(shape)\n",
    "ones_tensor = torch.ones(shape)\n",
    "zeros_tensor = torch.zeros(shape)\n",
    "\n",
    "print(f\"Random Tensor: \\n {rand_tensor} \\n\")\n",
    "print(f\"Ones Tensor: \\n {ones_tensor} \\n\")\n",
    "print(f\"Zeros Tensor: \\n {zeros_tensor}\")"
   ]
  },
  {
   "cell_type": "markdown",
   "metadata": {},
   "source": [
    "------------------------------------------------------------------------\n"
   ]
  },
  {
   "cell_type": "markdown",
   "metadata": {},
   "source": [
    "Attributes of a Tensor\n",
    "======================\n",
    "\n",
    "Tensor attributes describe their shape, datatype, and the device on\n",
    "which they are stored.\n"
   ]
  },
  {
   "cell_type": "code",
   "execution_count": 6,
   "metadata": {
    "collapsed": false,
    "execution": {
     "iopub.execute_input": "2025-03-19T08:40:16.496797Z",
     "iopub.status.busy": "2025-03-19T08:40:16.496797Z",
     "iopub.status.idle": "2025-03-19T08:40:16.502528Z",
     "shell.execute_reply": "2025-03-19T08:40:16.502528Z",
     "shell.execute_reply.started": "2025-03-19T08:40:16.496797Z"
    },
    "jupyter": {
     "outputs_hidden": false
    }
   },
   "outputs": [
    {
     "name": "stdout",
     "output_type": "stream",
     "text": [
      "Shape of tensor: torch.Size([3, 4])\n",
      "Datatype of tensor: torch.float32\n",
      "Device tensor is stored on: cpu\n"
     ]
    }
   ],
   "source": [
    "tensor = torch.rand(3,4)\n",
    "\n",
    "print(f\"Shape of tensor: {tensor.shape}\")\n",
    "print(f\"Datatype of tensor: {tensor.dtype}\")\n",
    "print(f\"Device tensor is stored on: {tensor.device}\")"
   ]
  },
  {
   "cell_type": "markdown",
   "metadata": {},
   "source": [
    "------------------------------------------------------------------------\n"
   ]
  },
  {
   "cell_type": "markdown",
   "metadata": {},
   "source": [
    "Operations on Tensors\n",
    "=====================\n",
    "\n",
    "Over 1200 tensor operations, including arithmetic, linear algebra,\n",
    "matrix manipulation (transposing, indexing, slicing), sampling and more\n",
    "are comprehensively described\n",
    "[here](https://pytorch.org/docs/stable/torch.html).\n",
    "\n",
    "Each of these operations can be run on the CPU and\n",
    "[Accelerator](https://pytorch.org/docs/stable/torch.html#accelerators)\n",
    "such as CUDA, MPS, MTIA, or XPU. If you're using Colab, allocate an\n",
    "accelerator by going to Runtime \\> Change runtime type \\> GPU.\n",
    "\n",
    "By default, tensors are created on the CPU. We need to explicitly move\n",
    "tensors to the accelerator using `.to` method (after checking for\n",
    "accelerator availability). Keep in mind that copying large tensors\n",
    "across devices can be expensive in terms of time and memory!\n"
   ]
  },
  {
   "cell_type": "code",
   "execution_count": 7,
   "metadata": {
    "collapsed": false,
    "execution": {
     "iopub.execute_input": "2025-03-19T08:40:47.204523Z",
     "iopub.status.busy": "2025-03-19T08:40:47.204523Z",
     "iopub.status.idle": "2025-03-19T08:40:47.628583Z",
     "shell.execute_reply": "2025-03-19T08:40:47.628583Z",
     "shell.execute_reply.started": "2025-03-19T08:40:47.204523Z"
    },
    "jupyter": {
     "outputs_hidden": false
    }
   },
   "outputs": [],
   "source": [
    "# We move our tensor to the current accelerator if available\n",
    "if torch.accelerator.is_available():\n",
    "    tensor = tensor.to(torch.accelerator.current_accelerator())"
   ]
  },
  {
   "cell_type": "markdown",
   "metadata": {},
   "source": [
    "Try out some of the operations from the list. If you\\'re familiar with\n",
    "the NumPy API, you\\'ll find the Tensor API a breeze to use.\n"
   ]
  },
  {
   "cell_type": "markdown",
   "metadata": {},
   "source": [
    "**Standard numpy-like indexing and slicing:**\n"
   ]
  },
  {
   "cell_type": "code",
   "execution_count": 10,
   "metadata": {
    "collapsed": false,
    "execution": {
     "iopub.execute_input": "2025-03-19T08:43:42.722558Z",
     "iopub.status.busy": "2025-03-19T08:43:42.722558Z",
     "iopub.status.idle": "2025-03-19T08:43:42.730493Z",
     "shell.execute_reply": "2025-03-19T08:43:42.729470Z",
     "shell.execute_reply.started": "2025-03-19T08:43:42.722558Z"
    },
    "jupyter": {
     "outputs_hidden": false
    }
   },
   "outputs": [
    {
     "name": "stdout",
     "output_type": "stream",
     "text": [
      "tensor([[0.7745, 0.5473, 0.2523, 0.0415],\n",
      "        [0.5113, 0.3832, 0.4655, 0.1563],\n",
      "        [0.7776, 0.6787, 0.3134, 0.9091],\n",
      "        [0.6597, 0.6966, 0.8487, 0.0959]])\n",
      "First row: tensor([0.7745, 0.5473, 0.2523, 0.0415])\n",
      "First column: tensor([0.7745, 0.5113, 0.7776, 0.6597])\n",
      "Last column: tensor([0.0415, 0.1563, 0.9091, 0.0959])\n",
      "tensor([[0.7745, 0.0000, 0.2523, 0.0415],\n",
      "        [0.5113, 0.0000, 0.4655, 0.1563],\n",
      "        [0.7776, 0.0000, 0.3134, 0.9091],\n",
      "        [0.6597, 0.0000, 0.8487, 0.0959]])\n"
     ]
    }
   ],
   "source": [
    "tensor = torch.rand(4, 4)\n",
    "print(tensor)\n",
    "print(f\"First row: {tensor[0]}\")\n",
    "print(f\"First column: {tensor[:, 0]}\")\n",
    "print(f\"Last column: {tensor[..., -1]}\")\n",
    "tensor[:,1] = 0\n",
    "print(tensor)"
   ]
  },
  {
   "cell_type": "code",
   "execution_count": 11,
   "metadata": {
    "execution": {
     "iopub.execute_input": "2025-03-19T08:45:05.502456Z",
     "iopub.status.busy": "2025-03-19T08:45:05.502456Z",
     "iopub.status.idle": "2025-03-19T08:45:05.511521Z",
     "shell.execute_reply": "2025-03-19T08:45:05.511521Z",
     "shell.execute_reply.started": "2025-03-19T08:45:05.502456Z"
    }
   },
   "outputs": [
    {
     "name": "stdout",
     "output_type": "stream",
     "text": [
      "tensor([[[0.1257, 0.8438],\n",
      "         [0.0245, 0.4917],\n",
      "         [0.9443, 0.0098]],\n",
      "\n",
      "        [[0.1889, 0.5326],\n",
      "         [0.3702, 0.3419],\n",
      "         [0.1482, 0.6667]],\n",
      "\n",
      "        [[0.0678, 0.3763],\n",
      "         [0.1996, 0.0974],\n",
      "         [0.6568, 0.0927]],\n",
      "\n",
      "        [[0.9625, 0.8755],\n",
      "         [0.6969, 0.1026],\n",
      "         [0.2963, 0.3505]]])\n",
      "First row: tensor([[0.1257, 0.8438],\n",
      "        [0.0245, 0.4917],\n",
      "        [0.9443, 0.0098]])\n",
      "First column: tensor([[0.1257, 0.0245, 0.9443],\n",
      "        [0.1889, 0.3702, 0.1482],\n",
      "        [0.0678, 0.1996, 0.6568],\n",
      "        [0.9625, 0.6969, 0.2963]])\n",
      "Last column: tensor([[0.8438, 0.4917, 0.0098],\n",
      "        [0.5326, 0.3419, 0.6667],\n",
      "        [0.3763, 0.0974, 0.0927],\n",
      "        [0.8755, 0.1026, 0.3505]])\n",
      "tensor([[[0.1257, 0.0000],\n",
      "         [0.0245, 0.0000],\n",
      "         [0.9443, 0.0000]],\n",
      "\n",
      "        [[0.1889, 0.0000],\n",
      "         [0.3702, 0.0000],\n",
      "         [0.1482, 0.0000]],\n",
      "\n",
      "        [[0.0678, 0.0000],\n",
      "         [0.1996, 0.0000],\n",
      "         [0.6568, 0.0000]],\n",
      "\n",
      "        [[0.9625, 0.0000],\n",
      "         [0.6969, 0.0000],\n",
      "         [0.2963, 0.0000]]])\n"
     ]
    }
   ],
   "source": [
    "tensor = torch.rand(4, 3, 2)\n",
    "print(tensor)\n",
    "print(f\"First row: {tensor[0]}\")\n",
    "print(f\"First column: {tensor[:, :, 0]}\")\n",
    "print(f\"Last column: {tensor[..., -1]}\")\n",
    "tensor[...,1] = 0\n",
    "print(tensor)"
   ]
  },
  {
   "cell_type": "markdown",
   "metadata": {},
   "source": [
    "**Joining tensors** You can use `torch.cat` to concatenate a sequence of\n",
    "tensors along a given dimension. See also\n",
    "[torch.stack](https://pytorch.org/docs/stable/generated/torch.stack.html),\n",
    "another tensor joining operator that is subtly different from\n",
    "`torch.cat`.\n"
   ]
  },
  {
   "cell_type": "code",
   "execution_count": 15,
   "metadata": {
    "collapsed": false,
    "execution": {
     "iopub.execute_input": "2025-03-19T08:48:59.222489Z",
     "iopub.status.busy": "2025-03-19T08:48:59.221488Z",
     "iopub.status.idle": "2025-03-19T08:48:59.231314Z",
     "shell.execute_reply": "2025-03-19T08:48:59.230310Z",
     "shell.execute_reply.started": "2025-03-19T08:48:59.222489Z"
    },
    "jupyter": {
     "outputs_hidden": false
    }
   },
   "outputs": [
    {
     "name": "stdout",
     "output_type": "stream",
     "text": [
      "tensor([[0.0403, 0.9496, 0.9719, 0.2222],\n",
      "        [0.0230, 0.2273, 0.9641, 0.1854],\n",
      "        [0.0254, 0.1349, 0.0886, 0.6922],\n",
      "        [0.4483, 0.3706, 0.4393, 0.4265]])\n",
      "tensor([[0.0403, 0.9496, 0.9719, 0.2222, 0.0403, 0.9496, 0.9719, 0.2222, 0.0403,\n",
      "         0.9496, 0.9719, 0.2222],\n",
      "        [0.0230, 0.2273, 0.9641, 0.1854, 0.0230, 0.2273, 0.9641, 0.1854, 0.0230,\n",
      "         0.2273, 0.9641, 0.1854],\n",
      "        [0.0254, 0.1349, 0.0886, 0.6922, 0.0254, 0.1349, 0.0886, 0.6922, 0.0254,\n",
      "         0.1349, 0.0886, 0.6922],\n",
      "        [0.4483, 0.3706, 0.4393, 0.4265, 0.4483, 0.3706, 0.4393, 0.4265, 0.4483,\n",
      "         0.3706, 0.4393, 0.4265]])\n",
      "tensor([[0.0403, 0.9496, 0.9719, 0.2222],\n",
      "        [0.0230, 0.2273, 0.9641, 0.1854],\n",
      "        [0.0254, 0.1349, 0.0886, 0.6922],\n",
      "        [0.4483, 0.3706, 0.4393, 0.4265],\n",
      "        [0.0403, 0.9496, 0.9719, 0.2222],\n",
      "        [0.0230, 0.2273, 0.9641, 0.1854],\n",
      "        [0.0254, 0.1349, 0.0886, 0.6922],\n",
      "        [0.4483, 0.3706, 0.4393, 0.4265],\n",
      "        [0.0403, 0.9496, 0.9719, 0.2222],\n",
      "        [0.0230, 0.2273, 0.9641, 0.1854],\n",
      "        [0.0254, 0.1349, 0.0886, 0.6922],\n",
      "        [0.4483, 0.3706, 0.4393, 0.4265]])\n"
     ]
    }
   ],
   "source": [
    "tensor = torch.rand(4, 4)\n",
    "print(tensor)\n",
    "t1 = torch.cat([tensor, tensor, tensor], dim=1)\n",
    "print(t1)\n",
    "\n",
    "t1 = torch.cat([tensor, tensor, tensor], dim=0)\n",
    "print(t1)"
   ]
  },
  {
   "cell_type": "markdown",
   "metadata": {},
   "source": [
    "**Arithmetic operations**\n"
   ]
  },
  {
   "cell_type": "code",
   "execution_count": 22,
   "metadata": {
    "collapsed": false,
    "execution": {
     "iopub.execute_input": "2025-03-19T08:55:12.293440Z",
     "iopub.status.busy": "2025-03-19T08:55:12.292385Z",
     "iopub.status.idle": "2025-03-19T08:55:12.306979Z",
     "shell.execute_reply": "2025-03-19T08:55:12.306979Z",
     "shell.execute_reply.started": "2025-03-19T08:55:12.293440Z"
    },
    "jupyter": {
     "outputs_hidden": false
    }
   },
   "outputs": [
    {
     "name": "stdout",
     "output_type": "stream",
     "text": [
      "tensor([[1., 2.],\n",
      "        [3., 4.],\n",
      "        [5., 6.]])\n",
      "y1=\n",
      "tensor([[ 5., 11., 17.],\n",
      "        [11., 25., 39.],\n",
      "        [17., 39., 61.]])\n",
      "y2=\n",
      "tensor([[ 5., 11., 17.],\n",
      "        [11., 25., 39.],\n",
      "        [17., 39., 61.]])\n",
      "y3=\n",
      "tensor([[ 5., 11., 17.],\n",
      "        [11., 25., 39.],\n",
      "        [17., 39., 61.]])\n",
      "z1=\n",
      "tensor([[ 1.,  4.],\n",
      "        [ 9., 16.],\n",
      "        [25., 36.]])\n",
      "z2=\n",
      "tensor([[ 1.,  4.],\n",
      "        [ 9., 16.],\n",
      "        [25., 36.]])\n",
      "z3=\n",
      "tensor([[ 1.,  4.],\n",
      "        [ 9., 16.],\n",
      "        [25., 36.]])\n"
     ]
    }
   ],
   "source": [
    "data = [[1.0, 2.0],[3, 4],[5,6]]\n",
    "tensor = torch.tensor(data)\n",
    "print(tensor)\n",
    "\n",
    "# This computes the matrix multiplication between two tensors. y1, y2, y3 will have the same value\n",
    "# ``tensor.T`` returns the transpose of a tensor\n",
    "y1 = tensor @ tensor.T\n",
    "print(f'y1=\\n{y1}')\n",
    "y2 = tensor.matmul(tensor.T)\n",
    "print(f'y2=\\n{y2}')\n",
    "\n",
    "y3 = torch.rand_like(y1)\n",
    "torch.matmul(tensor, tensor.T, out=y3)\n",
    "print(f'y3=\\n{y3}')\n",
    "\n",
    "\n",
    "# This computes the element-wise product. z1, z2, z3 will have the same value\n",
    "z1 = tensor * tensor\n",
    "print(f'z1=\\n{z1}')\n",
    "z2 = tensor.mul(tensor)\n",
    "print(f'z2=\\n{z2}')\n",
    "\n",
    "z3 = torch.rand_like(tensor)\n",
    "torch.mul(tensor, tensor, out=z3)\n",
    "print(f'z3=\\n{z3}')"
   ]
  },
  {
   "cell_type": "markdown",
   "metadata": {},
   "source": [
    "**Single-element tensors** If you have a one-element tensor, for example\n",
    "by aggregating all values of a tensor into one value, you can convert it\n",
    "to a Python numerical value using `item()`:\n"
   ]
  },
  {
   "cell_type": "code",
   "execution_count": 23,
   "metadata": {
    "collapsed": false,
    "execution": {
     "iopub.execute_input": "2025-03-19T08:55:27.439371Z",
     "iopub.status.busy": "2025-03-19T08:55:27.438363Z",
     "iopub.status.idle": "2025-03-19T08:55:27.447797Z",
     "shell.execute_reply": "2025-03-19T08:55:27.447797Z",
     "shell.execute_reply.started": "2025-03-19T08:55:27.439371Z"
    },
    "jupyter": {
     "outputs_hidden": false
    }
   },
   "outputs": [
    {
     "name": "stdout",
     "output_type": "stream",
     "text": [
      "21.0 <class 'float'>\n"
     ]
    }
   ],
   "source": [
    "agg = tensor.sum()\n",
    "agg_item = agg.item()\n",
    "print(agg_item, type(agg_item))"
   ]
  },
  {
   "cell_type": "markdown",
   "metadata": {},
   "source": [
    "**In-place operations** Operations that store the result into the\n",
    "operand are called in-place. They are denoted by a `_` suffix. For\n",
    "example: `x.copy_(y)`, `x.t_()`, will change `x`.\n"
   ]
  },
  {
   "cell_type": "code",
   "execution_count": 24,
   "metadata": {
    "collapsed": false,
    "execution": {
     "iopub.execute_input": "2025-03-19T08:55:54.907774Z",
     "iopub.status.busy": "2025-03-19T08:55:54.906771Z",
     "iopub.status.idle": "2025-03-19T08:55:54.920241Z",
     "shell.execute_reply": "2025-03-19T08:55:54.920241Z",
     "shell.execute_reply.started": "2025-03-19T08:55:54.907774Z"
    },
    "jupyter": {
     "outputs_hidden": false
    }
   },
   "outputs": [
    {
     "name": "stdout",
     "output_type": "stream",
     "text": [
      "tensor([[1., 2.],\n",
      "        [3., 4.],\n",
      "        [5., 6.]]) \n",
      "\n",
      "tensor([[ 6.,  7.],\n",
      "        [ 8.,  9.],\n",
      "        [10., 11.]])\n"
     ]
    }
   ],
   "source": [
    "print(f\"{tensor} \\n\")\n",
    "tensor.add_(5)\n",
    "print(tensor)"
   ]
  },
  {
   "cell_type": "markdown",
   "metadata": {},
   "source": [
    "<div style=\"background-color: #54c7ec; color: #fff; font-weight: 700; padding-left: 10px; padding-top: 5px; padding-bottom: 5px\"><strong>NOTE:</strong></div>\n",
    "\n",
    "<div style=\"background-color: #f3f4f7; padding-left: 10px; padding-top: 10px; padding-bottom: 10px; padding-right: 10px\">\n",
    "\n",
    "<p>In-place operations save some memory, but can be problematic when computing derivatives because of an immediate lossof history. Hence, their use is discouraged.</p>\n",
    "\n",
    "</div>\n",
    "\n"
   ]
  },
  {
   "cell_type": "markdown",
   "metadata": {},
   "source": [
    "------------------------------------------------------------------------\n"
   ]
  },
  {
   "cell_type": "markdown",
   "metadata": {},
   "source": [
    "Bridge with NumPy {#bridge-to-np-label}\n",
    "=================\n",
    "\n",
    "Tensors on the CPU and NumPy arrays can share their underlying memory\n",
    "locations, and changing one will change the other.\n"
   ]
  },
  {
   "cell_type": "markdown",
   "metadata": {},
   "source": [
    "Tensor to NumPy array\n",
    "=====================\n"
   ]
  },
  {
   "cell_type": "code",
   "execution_count": 25,
   "metadata": {
    "collapsed": false,
    "execution": {
     "iopub.execute_input": "2025-03-19T08:56:03.800516Z",
     "iopub.status.busy": "2025-03-19T08:56:03.800516Z",
     "iopub.status.idle": "2025-03-19T08:56:03.836759Z",
     "shell.execute_reply": "2025-03-19T08:56:03.836759Z",
     "shell.execute_reply.started": "2025-03-19T08:56:03.800516Z"
    },
    "jupyter": {
     "outputs_hidden": false
    }
   },
   "outputs": [
    {
     "name": "stdout",
     "output_type": "stream",
     "text": [
      "t: tensor([1., 1., 1., 1., 1.])\n",
      "n: [1. 1. 1. 1. 1.]\n"
     ]
    }
   ],
   "source": [
    "t = torch.ones(5)\n",
    "print(f\"t: {t}\")\n",
    "n = t.numpy()\n",
    "print(f\"n: {n}\")"
   ]
  },
  {
   "cell_type": "markdown",
   "metadata": {},
   "source": [
    "A change in the tensor reflects in the NumPy array.\n"
   ]
  },
  {
   "cell_type": "code",
   "execution_count": 26,
   "metadata": {
    "collapsed": false,
    "execution": {
     "iopub.execute_input": "2025-03-19T08:56:09.703715Z",
     "iopub.status.busy": "2025-03-19T08:56:09.703715Z",
     "iopub.status.idle": "2025-03-19T08:56:09.708324Z",
     "shell.execute_reply": "2025-03-19T08:56:09.708118Z",
     "shell.execute_reply.started": "2025-03-19T08:56:09.703715Z"
    },
    "jupyter": {
     "outputs_hidden": false
    }
   },
   "outputs": [
    {
     "name": "stdout",
     "output_type": "stream",
     "text": [
      "t: tensor([2., 2., 2., 2., 2.])\n",
      "n: [2. 2. 2. 2. 2.]\n"
     ]
    }
   ],
   "source": [
    "t.add_(1)\n",
    "print(f\"t: {t}\")\n",
    "print(f\"n: {n}\")"
   ]
  },
  {
   "cell_type": "markdown",
   "metadata": {},
   "source": [
    "NumPy array to Tensor\n",
    "=====================\n"
   ]
  },
  {
   "cell_type": "code",
   "execution_count": 27,
   "metadata": {
    "collapsed": false,
    "execution": {
     "iopub.execute_input": "2025-03-19T08:56:11.293318Z",
     "iopub.status.busy": "2025-03-19T08:56:11.293318Z",
     "iopub.status.idle": "2025-03-19T08:56:11.304605Z",
     "shell.execute_reply": "2025-03-19T08:56:11.304605Z",
     "shell.execute_reply.started": "2025-03-19T08:56:11.293318Z"
    },
    "jupyter": {
     "outputs_hidden": false
    }
   },
   "outputs": [],
   "source": [
    "n = np.ones(5)\n",
    "t = torch.from_numpy(n)"
   ]
  },
  {
   "cell_type": "markdown",
   "metadata": {},
   "source": [
    "Changes in the NumPy array reflects in the tensor.\n"
   ]
  },
  {
   "cell_type": "code",
   "execution_count": 28,
   "metadata": {
    "collapsed": false,
    "execution": {
     "iopub.execute_input": "2025-03-19T08:56:12.966541Z",
     "iopub.status.busy": "2025-03-19T08:56:12.965541Z",
     "iopub.status.idle": "2025-03-19T08:56:12.976841Z",
     "shell.execute_reply": "2025-03-19T08:56:12.976841Z",
     "shell.execute_reply.started": "2025-03-19T08:56:12.966541Z"
    },
    "jupyter": {
     "outputs_hidden": false
    }
   },
   "outputs": [
    {
     "name": "stdout",
     "output_type": "stream",
     "text": [
      "t: tensor([2., 2., 2., 2., 2.], dtype=torch.float64)\n",
      "n: [2. 2. 2. 2. 2.]\n"
     ]
    }
   ],
   "source": [
    "np.add(n, 1, out=n)\n",
    "print(f\"t: {t}\")\n",
    "print(f\"n: {n}\")"
   ]
  },
  {
   "cell_type": "code",
   "execution_count": 29,
   "metadata": {
    "execution": {
     "iopub.execute_input": "2025-03-19T13:30:59.479775Z",
     "iopub.status.busy": "2025-03-19T13:30:59.478775Z",
     "iopub.status.idle": "2025-03-19T13:30:59.487730Z",
     "shell.execute_reply": "2025-03-19T13:30:59.487730Z",
     "shell.execute_reply.started": "2025-03-19T13:30:59.479775Z"
    }
   },
   "outputs": [
    {
     "data": {
      "text/plain": [
       "'2.1.3'"
      ]
     },
     "execution_count": 29,
     "metadata": {},
     "output_type": "execute_result"
    }
   ],
   "source": [
    "import numpy \n",
    "numpy.__version__"
   ]
  },
  {
   "cell_type": "code",
   "execution_count": null,
   "metadata": {},
   "outputs": [],
   "source": []
  }
 ],
 "metadata": {
  "kernelspec": {
   "display_name": "Python 3 (ipykernel)",
   "language": "python",
   "name": "python3"
  },
  "language_info": {
   "codemirror_mode": {
    "name": "ipython",
    "version": 3
   },
   "file_extension": ".py",
   "mimetype": "text/x-python",
   "name": "python",
   "nbconvert_exporter": "python",
   "pygments_lexer": "ipython3",
   "version": "3.12.7"
  }
 },
 "nbformat": 4,
 "nbformat_minor": 4
}
