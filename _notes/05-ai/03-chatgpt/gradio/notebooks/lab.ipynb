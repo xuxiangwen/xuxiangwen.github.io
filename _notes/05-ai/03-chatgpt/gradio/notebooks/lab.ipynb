{
 "cells": [
  {
   "cell_type": "code",
   "execution_count": 5,
   "id": "45a93c32-69d4-484e-93a4-f6bbeb7745dc",
   "metadata": {
    "execution": {
     "iopub.execute_input": "2024-05-15T14:58:18.592223Z",
     "iopub.status.busy": "2024-05-15T14:58:18.591840Z",
     "iopub.status.idle": "2024-05-15T14:58:18.596085Z",
     "shell.execute_reply": "2024-05-15T14:58:18.595263Z",
     "shell.execute_reply.started": "2024-05-15T14:58:18.592189Z"
    }
   },
   "outputs": [],
   "source": [
    "# !pip install gradio"
   ]
  },
  {
   "cell_type": "code",
   "execution_count": 1,
   "id": "9d5e7be1-585f-4cc3-98a7-10ccd68f8f1c",
   "metadata": {
    "execution": {
     "iopub.execute_input": "2024-05-15T14:59:23.256092Z",
     "iopub.status.busy": "2024-05-15T14:59:23.255734Z",
     "iopub.status.idle": "2024-05-15T14:59:25.925838Z",
     "shell.execute_reply": "2024-05-15T14:59:25.925043Z",
     "shell.execute_reply.started": "2024-05-15T14:59:23.256059Z"
    }
   },
   "outputs": [
    {
     "name": "stderr",
     "output_type": "stream",
     "text": [
      "/home/grid/miniconda3/envs/dev/lib/python3.10/site-packages/tqdm/auto.py:21: TqdmWarning: IProgress not found. Please update jupyter and ipywidgets. See https://ipywidgets.readthedocs.io/en/stable/user_install.html\n",
      "  from .autonotebook import tqdm as notebook_tqdm\n"
     ]
    }
   ],
   "source": [
    "import gradio as gr\n",
    "server_name='15.15.174.4'\n",
    "server_port = 7878\n",
    "\n",
    "gr.close_all()\n",
    "demo = None"
   ]
  },
  {
   "cell_type": "markdown",
   "id": "4a0da13b-f29a-4247-a91f-033ed2f82d39",
   "metadata": {},
   "source": [
    "~~~\n",
    "if demo is not None:\n",
    "    demo.close()\n",
    "\n",
    "\n",
    "\n",
    "demo.launch(server_name=server_name, server_port=server_port, share=False,debug=False)\n",
    "~~~"
   ]
  },
  {
   "cell_type": "markdown",
   "id": "f666ab3e-e3f9-4acc-a9c7-78ced45ed930",
   "metadata": {},
   "source": [
    "### Building Your First Demo"
   ]
  },
  {
   "cell_type": "code",
   "execution_count": 26,
   "id": "95de64db-58e9-440e-b0da-a9985627b97c",
   "metadata": {
    "execution": {
     "iopub.execute_input": "2024-05-15T10:41:32.057343Z",
     "iopub.status.busy": "2024-05-15T10:41:32.056966Z",
     "iopub.status.idle": "2024-05-15T10:41:32.532687Z",
     "shell.execute_reply": "2024-05-15T10:41:32.531888Z",
     "shell.execute_reply.started": "2024-05-15T10:41:32.057310Z"
    }
   },
   "outputs": [
    {
     "name": "stdout",
     "output_type": "stream",
     "text": [
      "Closing server running on port: 7878\n",
      "Running on local URL:  http://15.15.174.4:7878\n",
      "\n",
      "To create a public link, set `share=True` in `launch()`.\n"
     ]
    },
    {
     "data": {
      "text/html": [
       "<div><iframe src=\"http://15.15.174.4:7878/\" width=\"100%\" height=\"500\" allow=\"autoplay; camera; microphone; clipboard-read; clipboard-write;\" frameborder=\"0\" allowfullscreen></iframe></div>"
      ],
      "text/plain": [
       "<IPython.core.display.HTML object>"
      ]
     },
     "metadata": {},
     "output_type": "display_data"
    },
    {
     "data": {
      "text/plain": []
     },
     "execution_count": 26,
     "metadata": {},
     "output_type": "execute_result"
    }
   ],
   "source": [
    "if demo is not None:\n",
    "    demo.close()\n",
    "    \n",
    "def greet(name, intensity):\n",
    "    return \"Hello, \" + name + \"!\" * int(intensity)\n",
    "\n",
    "\n",
    "demo = gr.Interface(\n",
    "    fn=greet,\n",
    "    inputs=[\"text\", \"slider\"],\n",
    "    outputs=[\"text\"],\n",
    ")\n",
    "\n",
    "\n",
    "demo.launch(server_name=server_name, server_port=server_port, share=False)"
   ]
  },
  {
   "cell_type": "markdown",
   "id": "2deb28f9-2920-4fc9-92b9-211247914981",
   "metadata": {},
   "source": [
    "### Styling"
   ]
  },
  {
   "cell_type": "code",
   "execution_count": 21,
   "id": "dc26e551-08d1-4fd6-8be0-1783632c391e",
   "metadata": {
    "execution": {
     "iopub.execute_input": "2024-05-15T07:38:56.874539Z",
     "iopub.status.busy": "2024-05-15T07:38:56.874151Z",
     "iopub.status.idle": "2024-05-15T07:38:57.286566Z",
     "shell.execute_reply": "2024-05-15T07:38:57.285745Z",
     "shell.execute_reply.started": "2024-05-15T07:38:56.874504Z"
    }
   },
   "outputs": [
    {
     "name": "stdout",
     "output_type": "stream",
     "text": [
      "Closing server running on port: 7878\n",
      "Running on local URL:  http://15.15.174.4:7878\n",
      "\n",
      "To create a public link, set `share=True` in `launch()`.\n"
     ]
    },
    {
     "data": {
      "text/html": [
       "<div><iframe src=\"http://15.15.174.4:7878/\" width=\"100%\" height=\"500\" allow=\"autoplay; camera; microphone; clipboard-read; clipboard-write;\" frameborder=\"0\" allowfullscreen></iframe></div>"
      ],
      "text/plain": [
       "<IPython.core.display.HTML object>"
      ]
     },
     "metadata": {},
     "output_type": "display_data"
    },
    {
     "data": {
      "text/plain": []
     },
     "execution_count": 21,
     "metadata": {},
     "output_type": "execute_result"
    }
   ],
   "source": [
    "if demo is not None:\n",
    "    demo.close()\n",
    "    \n",
    "def greet(name, intensity):\n",
    "    return \"Hello, \" + name + \"!\" * int(intensity)\n",
    "\n",
    "\n",
    "demo = gr.Interface(\n",
    "    fn=greet,\n",
    "    inputs=[\"text\", \"slider\"],\n",
    "    outputs=[\"text\"],\n",
    "    theme=gr.themes.Monochrome()\n",
    ")\n",
    "\n",
    "\n",
    "demo.launch(server_name=server_name, server_port=server_port, share=False)"
   ]
  },
  {
   "cell_type": "markdown",
   "id": "df19c86e-3bd1-4ced-88bf-f37106d530eb",
   "metadata": {},
   "source": [
    "### Streaming outputs"
   ]
  },
  {
   "cell_type": "code",
   "execution_count": 20,
   "id": "de40fee7-35bb-4bf7-ab64-ae8e63463517",
   "metadata": {
    "execution": {
     "iopub.execute_input": "2024-05-15T07:37:02.346192Z",
     "iopub.status.busy": "2024-05-15T07:37:02.345805Z",
     "iopub.status.idle": "2024-05-15T07:37:02.839217Z",
     "shell.execute_reply": "2024-05-15T07:37:02.838102Z",
     "shell.execute_reply.started": "2024-05-15T07:37:02.346158Z"
    }
   },
   "outputs": [
    {
     "name": "stdout",
     "output_type": "stream",
     "text": [
      "Closing server running on port: 7878\n",
      "Running on local URL:  http://15.15.174.4:7878\n",
      "\n",
      "To create a public link, set `share=True` in `launch()`.\n"
     ]
    },
    {
     "data": {
      "text/html": [
       "<div><iframe src=\"http://15.15.174.4:7878/\" width=\"100%\" height=\"500\" allow=\"autoplay; camera; microphone; clipboard-read; clipboard-write;\" frameborder=\"0\" allowfullscreen></iframe></div>"
      ],
      "text/plain": [
       "<IPython.core.display.HTML object>"
      ]
     },
     "metadata": {},
     "output_type": "display_data"
    },
    {
     "data": {
      "text/plain": []
     },
     "execution_count": 20,
     "metadata": {},
     "output_type": "execute_result"
    }
   ],
   "source": [
    "if demo is not None:\n",
    "    demo.close()\n",
    "\n",
    "import gradio as gr\n",
    "import numpy as np\n",
    "import time\n",
    "\n",
    "def fake_diffusion(steps):\n",
    "    rng = np.random.default_rng()\n",
    "    for i in range(steps):\n",
    "        time.sleep(1)\n",
    "        image = rng.random(size=(600, 600, 3))\n",
    "        yield image\n",
    "    image = np.ones((1000,1000,3), np.uint8)\n",
    "    image[:] = [255, 124, 0]\n",
    "    yield image\n",
    "\n",
    "\n",
    "demo = gr.Interface(fake_diffusion,\n",
    "                    inputs=gr.Slider(1, 10, 3, step=1),\n",
    "                    outputs=\"image\")\n",
    "\n",
    "demo.launch(server_name=server_name, server_port=server_port, share=False)"
   ]
  },
  {
   "cell_type": "markdown",
   "id": "9324edcc-6f11-438c-aeb5-6074a0f5e1d6",
   "metadata": {},
   "source": [
    "### Progress bars"
   ]
  },
  {
   "cell_type": "code",
   "execution_count": 10,
   "id": "e5469ac5-b70f-4ef6-873c-f291548ce495",
   "metadata": {
    "execution": {
     "iopub.execute_input": "2024-05-22T11:11:38.995539Z",
     "iopub.status.busy": "2024-05-22T11:11:38.994844Z",
     "iopub.status.idle": "2024-05-22T11:11:39.441457Z",
     "shell.execute_reply": "2024-05-22T11:11:39.440657Z",
     "shell.execute_reply.started": "2024-05-22T11:11:38.995486Z"
    }
   },
   "outputs": [
    {
     "name": "stdout",
     "output_type": "stream",
     "text": [
      "Closing server running on port: 7878\n",
      "Running on local URL:  http://15.15.174.4:7878\n",
      "\n",
      "To create a public link, set `share=True` in `launch()`.\n"
     ]
    },
    {
     "data": {
      "text/html": [
       "<div><iframe src=\"http://15.15.174.4:7878/\" width=\"100%\" height=\"500\" allow=\"autoplay; camera; microphone; clipboard-read; clipboard-write;\" frameborder=\"0\" allowfullscreen></iframe></div>"
      ],
      "text/plain": [
       "<IPython.core.display.HTML object>"
      ]
     },
     "metadata": {},
     "output_type": "display_data"
    },
    {
     "data": {
      "text/plain": []
     },
     "execution_count": 10,
     "metadata": {},
     "output_type": "execute_result"
    }
   ],
   "source": [
    "if demo is not None:\n",
    "    demo.close()\n",
    "\n",
    "import gradio as gr\n",
    "import time\n",
    "\n",
    "def slowly_reverse(word, progress=gr.Progress()):\n",
    "    progress(0, desc=\"Starting\")\n",
    "    time.sleep(1)\n",
    "    progress(0.05)\n",
    "    new_string = \"\"\n",
    "    for letter in progress.tqdm(word, desc=\"Reversing\"):\n",
    "        time.sleep(0.25)\n",
    "        new_string = letter + new_string\n",
    "    return new_string\n",
    "\n",
    "demo = gr.Interface(slowly_reverse, gr.Text(), gr.Text())\n",
    "\n",
    "demo.launch(server_name=server_name, server_port=server_port, share=False)"
   ]
  },
  {
   "cell_type": "markdown",
   "id": "acfdcfa7-1dee-4622-8028-f3a8ce654e57",
   "metadata": {},
   "source": [
    "### Batch functions"
   ]
  },
  {
   "cell_type": "markdown",
   "id": "878b5028-71e4-4a76-b3b7-878a894889d4",
   "metadata": {},
   "source": [
    "有点不明白，这个并行处理是如何来做的。"
   ]
  },
  {
   "cell_type": "code",
   "execution_count": 12,
   "id": "9e8ec6ce-7075-48e8-a6bc-3c138d934d49",
   "metadata": {
    "execution": {
     "iopub.execute_input": "2024-05-15T07:56:45.071074Z",
     "iopub.status.busy": "2024-05-15T07:56:45.070373Z",
     "iopub.status.idle": "2024-05-15T07:56:45.084561Z",
     "shell.execute_reply": "2024-05-15T07:56:45.083058Z",
     "shell.execute_reply.started": "2024-05-15T07:56:45.071008Z"
    }
   },
   "outputs": [
    {
     "name": "stdout",
     "output_type": "stream",
     "text": [
      "a\n",
      "b\n",
      "c\n",
      "d\n",
      "e\n",
      "f\n",
      "g\n"
     ]
    },
    {
     "data": {
      "text/plain": [
       "[]"
      ]
     },
     "execution_count": 12,
     "metadata": {},
     "output_type": "execute_result"
    }
   ],
   "source": [
    "trimmed_words = [] \n",
    "words = \"abcdefg\"\n",
    "lens = 5\n",
    "for w in words:\n",
    "    print(w) \n",
    "\n",
    "trimmed_words"
   ]
  },
  {
   "cell_type": "code",
   "execution_count": 4,
   "id": "76717b9f-91ce-4849-8863-40f0609020c4",
   "metadata": {
    "execution": {
     "iopub.execute_input": "2024-05-15T07:52:58.819144Z",
     "iopub.status.busy": "2024-05-15T07:52:58.818458Z",
     "iopub.status.idle": "2024-05-15T07:52:58.829277Z",
     "shell.execute_reply": "2024-05-15T07:52:58.827834Z",
     "shell.execute_reply.started": "2024-05-15T07:52:58.819081Z"
    }
   },
   "outputs": [],
   "source": [
    "import time\n",
    "\n",
    "def trim_words(words, lens):\n",
    "    trimmed_words = []\n",
    "    time.sleep(5)\n",
    "    for w, l in zip(words, lens):\n",
    "        trimmed_words.append(w[:int(l)])\n",
    "    return [trimmed_words]\n",
    "\n"
   ]
  },
  {
   "cell_type": "code",
   "execution_count": 19,
   "id": "8515c51a-504e-41d4-bf33-f8a81417c772",
   "metadata": {
    "execution": {
     "iopub.execute_input": "2024-05-15T08:01:57.831755Z",
     "iopub.status.busy": "2024-05-15T08:01:57.831124Z",
     "iopub.status.idle": "2024-05-15T08:01:58.393354Z",
     "shell.execute_reply": "2024-05-15T08:01:58.392270Z",
     "shell.execute_reply.started": "2024-05-15T08:01:57.831696Z"
    }
   },
   "outputs": [
    {
     "name": "stdout",
     "output_type": "stream",
     "text": [
      "Closing server running on port: 7878\n",
      "Running on local URL:  http://15.15.174.4:7878\n",
      "\n",
      "To create a public link, set `share=True` in `launch()`.\n"
     ]
    },
    {
     "data": {
      "text/html": [
       "<div><iframe src=\"http://15.15.174.4:7878/\" width=\"100%\" height=\"500\" allow=\"autoplay; camera; microphone; clipboard-read; clipboard-write;\" frameborder=\"0\" allowfullscreen></iframe></div>"
      ],
      "text/plain": [
       "<IPython.core.display.HTML object>"
      ]
     },
     "metadata": {},
     "output_type": "display_data"
    },
    {
     "data": {
      "text/plain": []
     },
     "execution_count": 19,
     "metadata": {},
     "output_type": "execute_result"
    },
    {
     "name": "stdout",
     "output_type": "stream",
     "text": [
      "lens=(20,)\n",
      "lens=(20,)\n"
     ]
    }
   ],
   "source": [
    "if demo is not None:\n",
    "    demo.close()\n",
    "    \n",
    "demo = gr.Interface(\n",
    "    fn=trim_words, \n",
    "    inputs=[\"textbox\", \"number\"], \n",
    "    outputs=[\"textbox\"],\n",
    "    batch=True, \n",
    "    max_batch_size=16\n",
    ")\n",
    "\n",
    "\n",
    "\n",
    "demo.launch(server_name=server_name, server_port=server_port, share=False)"
   ]
  },
  {
   "cell_type": "code",
   "execution_count": 14,
   "id": "a38e63ce-0e80-4ad5-a7a2-7ad78e3a83fc",
   "metadata": {
    "execution": {
     "iopub.execute_input": "2024-05-15T07:58:57.527822Z",
     "iopub.status.busy": "2024-05-15T07:58:57.527111Z",
     "iopub.status.idle": "2024-05-15T08:00:04.882326Z",
     "shell.execute_reply": "2024-05-15T08:00:04.881470Z",
     "shell.execute_reply.started": "2024-05-15T07:58:57.527756Z"
    }
   },
   "outputs": [
    {
     "name": "stdout",
     "output_type": "stream",
     "text": [
      "Closing server running on port: 7878\n",
      "Running on local URL:  http://15.15.174.4:7878\n",
      "\n",
      "To create a public link, set `share=True` in `launch()`.\n"
     ]
    },
    {
     "data": {
      "text/html": [
       "<div><iframe src=\"http://15.15.174.4:7878/\" width=\"100%\" height=\"500\" allow=\"autoplay; camera; microphone; clipboard-read; clipboard-write;\" frameborder=\"0\" allowfullscreen></iframe></div>"
      ],
      "text/plain": [
       "<IPython.core.display.HTML object>"
      ]
     },
     "metadata": {},
     "output_type": "display_data"
    },
    {
     "name": "stdout",
     "output_type": "stream",
     "text": [
      "lens=(20,)\n",
      "Keyboard interruption in main thread... closing server.\n"
     ]
    },
    {
     "data": {
      "text/plain": []
     },
     "execution_count": 14,
     "metadata": {},
     "output_type": "execute_result"
    }
   ],
   "source": [
    "if demo is not None:\n",
    "    demo.close()\n",
    "\n",
    "import gradio as gr\n",
    "\n",
    "with gr.Blocks() as demo:\n",
    "    with gr.Row():\n",
    "        word = gr.Textbox(label=\"word\")\n",
    "        leng = gr.Number(label=\"leng\")\n",
    "        output = gr.Textbox(label=\"Output\")\n",
    "    with gr.Row():\n",
    "        run = gr.Button()\n",
    "\n",
    "    event = run.click(trim_words, [word, leng], output, batch=True, max_batch_size=16)\n",
    "\n",
    "\n",
    "demo.launch(server_name=server_name, server_port=server_port, share=False,debug=True)"
   ]
  },
  {
   "cell_type": "markdown",
   "id": "b685bfdd-37cc-4314-9868-ed52b3253fc6",
   "metadata": {
    "execution": {
     "iopub.execute_input": "2024-05-15T07:52:21.669465Z",
     "iopub.status.busy": "2024-05-15T07:52:21.669003Z",
     "iopub.status.idle": "2024-05-15T07:52:21.674105Z",
     "shell.execute_reply": "2024-05-15T07:52:21.673258Z",
     "shell.execute_reply.started": "2024-05-15T07:52:21.669431Z"
    }
   },
   "source": [
    "### An Image Example"
   ]
  },
  {
   "cell_type": "code",
   "execution_count": 25,
   "id": "2e251a58-384b-400b-885c-c04926ad1544",
   "metadata": {
    "execution": {
     "iopub.execute_input": "2024-05-15T08:37:41.341679Z",
     "iopub.status.busy": "2024-05-15T08:37:41.341279Z",
     "iopub.status.idle": "2024-05-15T08:39:54.167556Z",
     "shell.execute_reply": "2024-05-15T08:39:54.165294Z",
     "shell.execute_reply.started": "2024-05-15T08:37:41.341644Z"
    }
   },
   "outputs": [
    {
     "name": "stdout",
     "output_type": "stream",
     "text": [
      "Closing server running on port: 7860\n",
      "Running on local URL:  http://15.15.174.4:7878\n",
      "\n",
      "To create a public link, set `share=True` in `launch()`.\n"
     ]
    },
    {
     "data": {
      "text/html": [
       "<div><iframe src=\"http://15.15.174.4:7878/\" width=\"100%\" height=\"500\" allow=\"autoplay; camera; microphone; clipboard-read; clipboard-write;\" frameborder=\"0\" allowfullscreen></iframe></div>"
      ],
      "text/plain": [
       "<IPython.core.display.HTML object>"
      ]
     },
     "metadata": {},
     "output_type": "display_data"
    },
    {
     "name": "stdout",
     "output_type": "stream",
     "text": [
      "Keyboard interruption in main thread... closing server.\n"
     ]
    },
    {
     "data": {
      "text/plain": []
     },
     "execution_count": 25,
     "metadata": {},
     "output_type": "execute_result"
    }
   ],
   "source": [
    "if demo is not None:\n",
    "    demo.close()\n",
    "\n",
    "import numpy as np\n",
    "import gradio as gr\n",
    "\n",
    "# 棕褐色\n",
    "def sepia(input_img):\n",
    "    sepia_filter = np.array([\n",
    "        [0.393, 0.769, 0.189], \n",
    "        [0.349, 0.686, 0.168], \n",
    "        [0.272, 0.534, 0.131]\n",
    "    ])\n",
    "    sepia_img = input_img.dot(sepia_filter.T)\n",
    "    sepia_img /= sepia_img.max()\n",
    "    return sepia_img\n",
    "\n",
    "demo = gr.Interface(sepia, gr.Image(), \"image\")\n",
    "# demo = gr.Interface(sepia, gr.Image(type=\"filepath\"), \"image\")\n",
    "demo.launch(server_name=server_name, server_port=server_port, share=False,debug=True)"
   ]
  },
  {
   "cell_type": "markdown",
   "id": "aa647b5e-087b-4954-aa78-95848b8fe1ac",
   "metadata": {},
   "source": [
    "### Examples"
   ]
  },
  {
   "cell_type": "markdown",
   "id": "3f8ee674-0bd3-4615-924c-8848b70ff37f",
   "metadata": {},
   "source": [
    "> 在 Gradio 4.0 或更高版本中，当您单击示例时，不仅输入组件的值会更新为示例值，而且组件的配置也会恢复到构造组件时的属性。这确保了示例与组件兼容，即使其配置已被更改"
   ]
  },
  {
   "cell_type": "code",
   "execution_count": 3,
   "id": "811a8e31-c9ef-4afd-8e6e-64f3e6ab0be2",
   "metadata": {
    "execution": {
     "iopub.execute_input": "2024-05-16T02:16:32.395327Z",
     "iopub.status.busy": "2024-05-16T02:16:32.394735Z",
     "iopub.status.idle": "2024-05-16T02:16:33.063994Z",
     "shell.execute_reply": "2024-05-16T02:16:33.063162Z",
     "shell.execute_reply.started": "2024-05-16T02:16:32.395263Z"
    }
   },
   "outputs": [
    {
     "name": "stdout",
     "output_type": "stream",
     "text": [
      "Closing server running on port: 7860\n",
      "Running on local URL:  http://15.15.174.4:7878\n",
      "\n",
      "To create a public link, set `share=True` in `launch()`.\n"
     ]
    },
    {
     "data": {
      "text/html": [
       "<div><iframe src=\"http://15.15.174.4:7878/\" width=\"100%\" height=\"500\" allow=\"autoplay; camera; microphone; clipboard-read; clipboard-write;\" frameborder=\"0\" allowfullscreen></iframe></div>"
      ],
      "text/plain": [
       "<IPython.core.display.HTML object>"
      ]
     },
     "metadata": {},
     "output_type": "display_data"
    },
    {
     "data": {
      "text/plain": []
     },
     "execution_count": 3,
     "metadata": {},
     "output_type": "execute_result"
    }
   ],
   "source": [
    "if demo is not None:\n",
    "    demo.close()\n",
    "    \n",
    "import gradio as gr\n",
    "\n",
    "\n",
    "def calculator(num1, operation, num2):\n",
    "    if operation == \"add\":\n",
    "        return num1 + num2\n",
    "    elif operation == \"subtract\":\n",
    "        return num1 - num2\n",
    "    elif operation == \"multiply\":\n",
    "        return num1 * num2\n",
    "    elif operation == \"divide\":\n",
    "        return num1 / num2\n",
    "\n",
    "\n",
    "with gr.Blocks() as demo:\n",
    "    with gr.Row():\n",
    "        with gr.Column():\n",
    "            num_1 = gr.Number(value=4)\n",
    "            operation = gr.Radio([\"add\", \"subtract\", \"multiply\", \"divide\"])\n",
    "            num_2 = gr.Number(value=0)\n",
    "            submit_btn = gr.Button(value=\"Calculate\")\n",
    "        with gr.Column():\n",
    "            result = gr.Number()\n",
    "\n",
    "    submit_btn.click(\n",
    "        calculator, inputs=[num_1, operation, num_2], outputs=[result], api_name=False\n",
    "    )\n",
    "    examples = gr.Examples(\n",
    "        examples=[\n",
    "            [5, \"add\", 3],\n",
    "            [4, \"divide\", 2],\n",
    "            [-4, \"multiply\", 2.5],\n",
    "            [0, \"subtract\", 1.2],\n",
    "        ],\n",
    "        inputs=[num_1, operation, num_2],\n",
    "    )\n",
    "\n",
    "demo.queue().launch(server_name=server_name, server_port=server_port, share=False,debug=False)"
   ]
  },
  {
   "cell_type": "markdown",
   "id": "2499714a-a4ec-45e0-b869-eaec2249e70b",
   "metadata": {},
   "source": [
    "### info + description + article"
   ]
  },
  {
   "cell_type": "code",
   "execution_count": 4,
   "id": "89808246-91a3-4755-af67-4ee494d717fc",
   "metadata": {
    "execution": {
     "iopub.execute_input": "2024-05-16T02:51:54.098401Z",
     "iopub.status.busy": "2024-05-16T02:51:54.098022Z",
     "iopub.status.idle": "2024-05-16T02:51:54.570262Z",
     "shell.execute_reply": "2024-05-16T02:51:54.569410Z",
     "shell.execute_reply.started": "2024-05-16T02:51:54.098368Z"
    }
   },
   "outputs": [
    {
     "name": "stdout",
     "output_type": "stream",
     "text": [
      "Closing server running on port: 7878\n",
      "Running on local URL:  http://15.15.174.4:7878\n",
      "\n",
      "To create a public link, set `share=True` in `launch()`.\n"
     ]
    },
    {
     "data": {
      "text/html": [
       "<div><iframe src=\"http://15.15.174.4:7878/\" width=\"100%\" height=\"500\" allow=\"autoplay; camera; microphone; clipboard-read; clipboard-write;\" frameborder=\"0\" allowfullscreen></iframe></div>"
      ],
      "text/plain": [
       "<IPython.core.display.HTML object>"
      ]
     },
     "metadata": {},
     "output_type": "display_data"
    },
    {
     "data": {
      "text/plain": []
     },
     "execution_count": 4,
     "metadata": {},
     "output_type": "execute_result"
    }
   ],
   "source": [
    "if demo is not None:\n",
    "    demo.close()\n",
    "\n",
    "\n",
    "import gradio as gr\n",
    "#from foo import BAR\n",
    "#\n",
    "def calculator(num1, operation, num2):\n",
    "    if operation == \"add\":\n",
    "        return num1 + num2\n",
    "    elif operation == \"subtract\":\n",
    "        return num1 - num2\n",
    "    elif operation == \"multiply\":\n",
    "        return num1 * num2\n",
    "    elif operation == \"divide\":\n",
    "        if num2 == 0:\n",
    "            raise gr.Error(\"Cannot divide by zero!\")\n",
    "        return num1 / num2\n",
    "\n",
    "demo = gr.Interface(\n",
    "    calculator,\n",
    "    [\n",
    "        gr.Number(label='first number', info='input first number'),\n",
    "        gr.Radio([\"add\", \"subtract\", \"multiply\", \"divide\"], label='operator', info='input operator'),\n",
    "        gr.Number(label='second number', info='input second number')\n",
    "    ],\n",
    "    \"number\",\n",
    "    examples=[\n",
    "        [45, \"add\", 3],\n",
    "        [3.14, \"divide\", 2],\n",
    "        [144, \"multiply\", 2.5],\n",
    "        [0, \"subtract\", 1.2],\n",
    "    ],\n",
    "    title=\"Toy Calculator\",\n",
    "    description=\"Here's a sample toy calculator. Allows you to calculate things like $2+2=4$\",\n",
    "    article=\"it's michael caculator\"\n",
    ")\n",
    "\n",
    "demo.launch(server_name=server_name, server_port=server_port, share=False,debug=False)"
   ]
  },
  {
   "cell_type": "markdown",
   "id": "b86b0836-fef6-42b2-8812-c6ec40ad34d8",
   "metadata": {},
   "source": [
    "### Additional Inputs within an Accordion"
   ]
  },
  {
   "cell_type": "code",
   "execution_count": 11,
   "id": "4af5e744-3fb5-41c8-9766-d9fe31c4846a",
   "metadata": {
    "execution": {
     "iopub.execute_input": "2024-05-15T08:54:19.749892Z",
     "iopub.status.busy": "2024-05-15T08:54:19.749525Z",
     "iopub.status.idle": "2024-05-15T08:54:20.163221Z",
     "shell.execute_reply": "2024-05-15T08:54:20.162394Z",
     "shell.execute_reply.started": "2024-05-15T08:54:19.749859Z"
    }
   },
   "outputs": [
    {
     "name": "stdout",
     "output_type": "stream",
     "text": [
      "Closing server running on port: 7878\n",
      "Running on local URL:  http://15.15.174.4:7878\n",
      "\n",
      "To create a public link, set `share=True` in `launch()`.\n"
     ]
    },
    {
     "data": {
      "text/html": [
       "<div><iframe src=\"http://15.15.174.4:7878/\" width=\"100%\" height=\"500\" allow=\"autoplay; camera; microphone; clipboard-read; clipboard-write;\" frameborder=\"0\" allowfullscreen></iframe></div>"
      ],
      "text/plain": [
       "<IPython.core.display.HTML object>"
      ]
     },
     "metadata": {},
     "output_type": "display_data"
    },
    {
     "data": {
      "text/plain": []
     },
     "execution_count": 11,
     "metadata": {},
     "output_type": "execute_result"
    }
   ],
   "source": [
    "if demo is not None:\n",
    "    demo.close()\n",
    "\n",
    "import gradio as gr\n",
    "\n",
    "def generate_fake_image(prompt, seed, initial_image=None):\n",
    "    return f\"Used seed: {seed}\", \"https://dummyimage.com/300/09f.png\"\n",
    "\n",
    "\n",
    "demo = gr.Interface(\n",
    "    generate_fake_image,\n",
    "    inputs=[\"textbox\"],\n",
    "    outputs=[\"textbox\", \"image\"],\n",
    "    additional_inputs=[\n",
    "        gr.Slider(0, 1000),\n",
    "        \"image\"\n",
    "    ]\n",
    ")\n",
    "\n",
    "demo.launch(server_name=server_name, server_port=server_port, share=False,debug=False)"
   ]
  },
  {
   "cell_type": "markdown",
   "id": "4b928d79-b17d-415c-9fc0-84f461656e6f",
   "metadata": {},
   "source": [
    "### Output-only demos\n"
   ]
  },
  {
   "cell_type": "code",
   "execution_count": 7,
   "id": "b9c852c8-a061-446f-927e-f89e5c911d17",
   "metadata": {
    "execution": {
     "iopub.execute_input": "2024-05-22T10:57:14.893267Z",
     "iopub.status.busy": "2024-05-22T10:57:14.892735Z",
     "iopub.status.idle": "2024-05-22T10:57:15.373822Z",
     "shell.execute_reply": "2024-05-22T10:57:15.373029Z",
     "shell.execute_reply.started": "2024-05-22T10:57:14.893225Z"
    }
   },
   "outputs": [
    {
     "name": "stdout",
     "output_type": "stream",
     "text": [
      "Closing server running on port: 7878\n",
      "Running on local URL:  http://15.15.174.4:7878\n",
      "\n",
      "To create a public link, set `share=True` in `launch()`.\n"
     ]
    },
    {
     "data": {
      "text/html": [
       "<div><iframe src=\"http://15.15.174.4:7878/\" width=\"100%\" height=\"500\" allow=\"autoplay; camera; microphone; clipboard-read; clipboard-write;\" frameborder=\"0\" allowfullscreen></iframe></div>"
      ],
      "text/plain": [
       "<IPython.core.display.HTML object>"
      ]
     },
     "metadata": {},
     "output_type": "display_data"
    },
    {
     "data": {
      "text/plain": []
     },
     "execution_count": 7,
     "metadata": {},
     "output_type": "execute_result"
    }
   ],
   "source": [
    "if demo is not None:\n",
    "    demo.close()\n",
    "\n",
    "import time\n",
    "\n",
    "import gradio as gr\n",
    "\n",
    "\n",
    "def fake_gan():\n",
    "    time.sleep(1)\n",
    "    images = [\n",
    "            \"https://images.unsplash.com/photo-1507003211169-0a1dd7228f2d?ixlib=rb-1.2.1&ixid=MnwxMjA3fDB8MHxwaG90by1wYWdlfHx8fGVufDB8fHx8&auto=format&fit=crop&w=387&q=80\",\n",
    "            \"https://images.unsplash.com/photo-1554151228-14d9def656e4?ixlib=rb-1.2.1&ixid=MnwxMjA3fDB8MHxwaG90by1wYWdlfHx8fGVufDB8fHx8&auto=format&fit=crop&w=386&q=80\",\n",
    "            \"https://images.unsplash.com/photo-1542909168-82c3e7fdca5c?ixlib=rb-1.2.1&ixid=MnwxMjA3fDB8MHxzZWFyY2h8MXx8aHVtYW4lMjBmYWNlfGVufDB8fDB8fA%3D%3D&w=1000&q=80\",\n",
    "    ]\n",
    "    return images\n",
    "\n",
    "\n",
    "demo = gr.Interface(\n",
    "    fn=fake_gan,\n",
    "    inputs=None,\n",
    "    outputs=gr.Gallery(label=\"Generated Images\", columns=[2]),\n",
    "    title=\"FD-GAN\",\n",
    "    description=\"This is a fake demo of a GAN. In reality, the images are randomly chosen from Unsplash.\",\n",
    ")\n",
    "\n",
    "\n",
    "demo.launch(server_name=server_name, server_port=server_port, share=False,debug=False)"
   ]
  },
  {
   "cell_type": "markdown",
   "id": "83929512-ccff-4fab-87ea-89f325d31176",
   "metadata": {},
   "source": [
    "### Input-only demos"
   ]
  },
  {
   "cell_type": "code",
   "execution_count": 14,
   "id": "dcbb1a7f-2d1f-45d9-a438-22fb9e531d3e",
   "metadata": {
    "execution": {
     "iopub.execute_input": "2024-05-15T09:21:50.905407Z",
     "iopub.status.busy": "2024-05-15T09:21:50.905016Z",
     "iopub.status.idle": "2024-05-15T09:21:51.345787Z",
     "shell.execute_reply": "2024-05-15T09:21:51.344887Z",
     "shell.execute_reply.started": "2024-05-15T09:21:50.905375Z"
    }
   },
   "outputs": [
    {
     "name": "stdout",
     "output_type": "stream",
     "text": [
      "Closing server running on port: 7878\n",
      "Running on local URL:  http://15.15.174.4:7878\n",
      "\n",
      "To create a public link, set `share=True` in `launch()`.\n"
     ]
    },
    {
     "data": {
      "text/html": [
       "<div><iframe src=\"http://15.15.174.4:7878/\" width=\"100%\" height=\"500\" allow=\"autoplay; camera; microphone; clipboard-read; clipboard-write;\" frameborder=\"0\" allowfullscreen></iframe></div>"
      ],
      "text/plain": [
       "<IPython.core.display.HTML object>"
      ]
     },
     "metadata": {},
     "output_type": "display_data"
    },
    {
     "data": {
      "text/plain": []
     },
     "execution_count": 14,
     "metadata": {},
     "output_type": "execute_result"
    }
   ],
   "source": [
    "if demo is not None:\n",
    "    demo.close()\n",
    "\n",
    "import random\n",
    "import string\n",
    "import gradio as gr \n",
    "\n",
    "def save_image_random_name(image):\n",
    "    random_string = ''.join(random.choices(string.ascii_letters, k=20)) + '.png'\n",
    "    image.save(random_string)\n",
    "    print(f\"Saved image to {random_string}!\")\n",
    "\n",
    "demo = gr.Interface(\n",
    "    fn=save_image_random_name, \n",
    "    inputs=gr.Image(type=\"pil\"), \n",
    "    outputs=None,\n",
    ")\n",
    "\n",
    "demo.launch(server_name=server_name, server_port=server_port, share=False,debug=False)"
   ]
  },
  {
   "cell_type": "markdown",
   "id": "8940b422-0c89-4bda-8ae2-6a197d7647b8",
   "metadata": {},
   "source": [
    "### Unified demos"
   ]
  },
  {
   "cell_type": "code",
   "execution_count": 12,
   "id": "1c58ad7f-1bd6-4da4-8b8c-0b075449d373",
   "metadata": {
    "execution": {
     "iopub.execute_input": "2024-05-22T11:24:03.774943Z",
     "iopub.status.busy": "2024-05-22T11:24:03.774569Z",
     "iopub.status.idle": "2024-05-22T11:24:05.953194Z",
     "shell.execute_reply": "2024-05-22T11:24:05.952324Z",
     "shell.execute_reply.started": "2024-05-22T11:24:03.774910Z"
    }
   },
   "outputs": [
    {
     "name": "stdout",
     "output_type": "stream",
     "text": [
      "Closing server running on port: 7878\n",
      "Running on local URL:  http://15.15.174.4:7878\n",
      "\n",
      "To create a public link, set `share=True` in `launch()`.\n"
     ]
    },
    {
     "data": {
      "text/html": [
       "<div><iframe src=\"http://15.15.174.4:7878/\" width=\"100%\" height=\"500\" allow=\"autoplay; camera; microphone; clipboard-read; clipboard-write;\" frameborder=\"0\" allowfullscreen></iframe></div>"
      ],
      "text/plain": [
       "<IPython.core.display.HTML object>"
      ]
     },
     "metadata": {},
     "output_type": "display_data"
    },
    {
     "data": {
      "text/plain": []
     },
     "execution_count": 12,
     "metadata": {},
     "output_type": "execute_result"
    },
    {
     "name": "stderr",
     "output_type": "stream",
     "text": [
      "Truncation was not explicitly activated but `max_length` is provided a specific value, please use `truncation=True` to explicitly truncate examples to max length. Defaulting to 'longest_first' truncation strategy. If you encode pairs of sequences (GLUE-style) with the tokenizer you can select this strategy more precisely by providing a specific strategy to `truncation`.\n",
      "Setting `pad_token_id` to `eos_token_id`:50256 for open-end generation.\n"
     ]
    }
   ],
   "source": [
    "if demo is not None:\n",
    "    demo.close()\n",
    "\n",
    "import gradio as gr\n",
    "from transformers import pipeline\n",
    "\n",
    "generator = pipeline('text-generation', model = 'gpt2')\n",
    "\n",
    "def generate_text(text_prompt):\n",
    "  response = generator(text_prompt, max_length = 100, num_return_sequences=5)\n",
    "  return response[0]['generated_text']\n",
    "\n",
    "textbox = gr.Textbox()\n",
    "\n",
    "demo = gr.Interface(generate_text, textbox, textbox)\n",
    "\n",
    "demo.launch(server_name=server_name, server_port=server_port, share=False,debug=False)"
   ]
  },
  {
   "cell_type": "markdown",
   "id": "1ecfc019-d62d-44cb-94b6-c056a1a2ba76",
   "metadata": {},
   "source": [
    "### Session State"
   ]
  },
  {
   "cell_type": "code",
   "execution_count": 18,
   "id": "326f49ea-f362-4296-9ae7-9d6f898bf5c3",
   "metadata": {
    "execution": {
     "iopub.execute_input": "2024-05-15T10:06:55.721957Z",
     "iopub.status.busy": "2024-05-15T10:06:55.721372Z",
     "iopub.status.idle": "2024-05-15T10:06:56.098525Z",
     "shell.execute_reply": "2024-05-15T10:06:56.097796Z",
     "shell.execute_reply.started": "2024-05-15T10:06:55.721900Z"
    }
   },
   "outputs": [
    {
     "name": "stdout",
     "output_type": "stream",
     "text": [
      "Closing server running on port: 7878\n",
      "Running on local URL:  http://15.15.174.4:7878\n",
      "\n",
      "To create a public link, set `share=True` in `launch()`.\n"
     ]
    },
    {
     "data": {
      "text/html": [
       "<div><iframe src=\"http://15.15.174.4:7878/\" width=\"100%\" height=\"500\" allow=\"autoplay; camera; microphone; clipboard-read; clipboard-write;\" frameborder=\"0\" allowfullscreen></iframe></div>"
      ],
      "text/plain": [
       "<IPython.core.display.HTML object>"
      ]
     },
     "metadata": {},
     "output_type": "display_data"
    },
    {
     "data": {
      "text/plain": []
     },
     "execution_count": 18,
     "metadata": {},
     "output_type": "execute_result"
    }
   ],
   "source": [
    "if demo is not None:\n",
    "    demo.close()\n",
    "\n",
    "import gradio as gr\n",
    "\n",
    "def store_message(message: str, history: list[str]):\n",
    "    output = {\n",
    "        \"Current messages\": message,\n",
    "        \"Previous messages\": history[::-1]\n",
    "    }\n",
    "    history.append(message)\n",
    "    return output, history\n",
    "\n",
    "demo = gr.Interface(fn=store_message, \n",
    "                    inputs=[\"textbox\", gr.State(value=[])], \n",
    "                    outputs=[\"json\", gr.State()])\n",
    "\n",
    "demo.launch(server_name=server_name, server_port=server_port, share=False,debug=False)"
   ]
  },
  {
   "cell_type": "code",
   "execution_count": 55,
   "id": "518b2dc6-6b60-43de-9d80-c6c03c2f3bc9",
   "metadata": {
    "execution": {
     "iopub.execute_input": "2024-05-15T14:12:08.822649Z",
     "iopub.status.busy": "2024-05-15T14:12:08.822269Z",
     "iopub.status.idle": "2024-05-15T14:12:09.268024Z",
     "shell.execute_reply": "2024-05-15T14:12:09.267255Z",
     "shell.execute_reply.started": "2024-05-15T14:12:08.822616Z"
    }
   },
   "outputs": [
    {
     "name": "stdout",
     "output_type": "stream",
     "text": [
      "Closing server running on port: 7878\n",
      "Running on local URL:  http://15.15.174.4:7878\n",
      "\n",
      "To create a public link, set `share=True` in `launch()`.\n"
     ]
    },
    {
     "data": {
      "text/html": [
       "<div><iframe src=\"http://15.15.174.4:7878/\" width=\"100%\" height=\"500\" allow=\"autoplay; camera; microphone; clipboard-read; clipboard-write;\" frameborder=\"0\" allowfullscreen></iframe></div>"
      ],
      "text/plain": [
       "<IPython.core.display.HTML object>"
      ]
     },
     "metadata": {},
     "output_type": "display_data"
    },
    {
     "data": {
      "text/plain": []
     },
     "execution_count": 55,
     "metadata": {},
     "output_type": "execute_result"
    }
   ],
   "source": [
    "if demo is not None:\n",
    "    demo.close()\n",
    "\n",
    "import gradio as gr\n",
    "\n",
    "secret_word = \"gradio\"\n",
    "\n",
    "with gr.Blocks() as demo:    \n",
    "    used_letters_var = gr.State([])\n",
    "    with gr.Row() as row:\n",
    "        with gr.Column():\n",
    "            input_letter = gr.Textbox(label=\"Enter letter\")\n",
    "            btn = gr.Button(\"Guess Letter\")\n",
    "        with gr.Column():\n",
    "            hangman = gr.Textbox(\n",
    "                label=\"Hangman\",\n",
    "                value=\"_\"*len(secret_word)\n",
    "            )\n",
    "            used_letters_box = gr.Textbox(label=\"Used Letters\")\n",
    "\n",
    "    def guess_letter(letter, used_letters):\n",
    "        used_letters.append(letter)\n",
    "        answer = \"\".join([\n",
    "            (letter if letter in used_letters else \"_\")\n",
    "            for letter in secret_word\n",
    "        ])\n",
    "        return {\n",
    "            used_letters_var: used_letters,\n",
    "            used_letters_box: \", \".join(used_letters),\n",
    "            hangman: answer\n",
    "        }\n",
    "    btn.click(\n",
    "        guess_letter, \n",
    "        [input_letter, used_letters_var],\n",
    "        [used_letters_var, used_letters_box, hangman]\n",
    "        )\n",
    "\n",
    "demo.launch(server_name=server_name, server_port=server_port, share=False,debug=False)"
   ]
  },
  {
   "cell_type": "code",
   "execution_count": null,
   "id": "d856d89a-c756-4bcc-9155-92386b439b48",
   "metadata": {},
   "outputs": [],
   "source": []
  },
  {
   "cell_type": "markdown",
   "id": "cf759f66-d375-4b86-ba7d-bacc231058f7",
   "metadata": {
    "execution": {
     "iopub.execute_input": "2024-05-15T10:10:41.024228Z",
     "iopub.status.busy": "2024-05-15T10:10:41.023845Z",
     "iopub.status.idle": "2024-05-15T10:10:41.057075Z",
     "shell.execute_reply": "2024-05-15T10:10:41.055960Z",
     "shell.execute_reply.started": "2024-05-15T10:10:41.024194Z"
    }
   },
   "source": [
    "### Live Interfaces"
   ]
  },
  {
   "cell_type": "code",
   "execution_count": 11,
   "id": "3d5e15e5-b04a-4a0a-af8b-46dd6a59167e",
   "metadata": {
    "execution": {
     "iopub.execute_input": "2024-05-22T11:23:33.257156Z",
     "iopub.status.busy": "2024-05-22T11:23:33.255899Z",
     "iopub.status.idle": "2024-05-22T11:23:33.701862Z",
     "shell.execute_reply": "2024-05-22T11:23:33.700924Z",
     "shell.execute_reply.started": "2024-05-22T11:23:33.257043Z"
    }
   },
   "outputs": [
    {
     "name": "stdout",
     "output_type": "stream",
     "text": [
      "Closing server running on port: 7878\n",
      "Running on local URL:  http://15.15.174.4:7878\n",
      "\n",
      "To create a public link, set `share=True` in `launch()`.\n"
     ]
    },
    {
     "data": {
      "text/html": [
       "<div><iframe src=\"http://15.15.174.4:7878/\" width=\"100%\" height=\"500\" allow=\"autoplay; camera; microphone; clipboard-read; clipboard-write;\" frameborder=\"0\" allowfullscreen></iframe></div>"
      ],
      "text/plain": [
       "<IPython.core.display.HTML object>"
      ]
     },
     "metadata": {},
     "output_type": "display_data"
    },
    {
     "data": {
      "text/plain": []
     },
     "execution_count": 11,
     "metadata": {},
     "output_type": "execute_result"
    }
   ],
   "source": [
    "if demo is not None:\n",
    "    demo.close()\n",
    "\n",
    "import gradio as gr\n",
    "\n",
    "def calculator(num1, operation, num2):\n",
    "    if operation == \"add\":\n",
    "        return num1 + num2\n",
    "    elif operation == \"subtract\":\n",
    "        return num1 - num2\n",
    "    elif operation == \"multiply\":\n",
    "        return num1 * num2\n",
    "    elif operation == \"divide\":\n",
    "        return num1 / num2\n",
    "\n",
    "demo = gr.Interface(\n",
    "    calculator,\n",
    "    [\n",
    "        \"number\",\n",
    "        gr.Radio([\"add\", \"subtract\", \"multiply\", \"divide\"]),\n",
    "        \"number\"\n",
    "    ],\n",
    "    \"number\",\n",
    "    live=True,\n",
    ")\n",
    "\n",
    "demo.launch(server_name=server_name, server_port=server_port, share=False,debug=False)"
   ]
  },
  {
   "cell_type": "markdown",
   "id": "3fde7dbe-6c8a-42d5-ae48-7b3d4c647cb3",
   "metadata": {},
   "source": [
    "### Streaming Components"
   ]
  },
  {
   "cell_type": "code",
   "execution_count": 21,
   "id": "e4c5db93-20e0-4466-8096-fc23b81918bd",
   "metadata": {
    "execution": {
     "iopub.execute_input": "2024-05-15T10:13:15.555907Z",
     "iopub.status.busy": "2024-05-15T10:13:15.555228Z",
     "iopub.status.idle": "2024-05-15T10:13:16.046147Z",
     "shell.execute_reply": "2024-05-15T10:13:16.045323Z",
     "shell.execute_reply.started": "2024-05-15T10:13:15.555830Z"
    }
   },
   "outputs": [
    {
     "name": "stdout",
     "output_type": "stream",
     "text": [
      "Closing server running on port: 7878\n",
      "Running on local URL:  http://15.15.174.4:7878\n",
      "\n",
      "To create a public link, set `share=True` in `launch()`.\n"
     ]
    },
    {
     "data": {
      "text/html": [
       "<div><iframe src=\"http://15.15.174.4:7878/\" width=\"100%\" height=\"500\" allow=\"autoplay; camera; microphone; clipboard-read; clipboard-write;\" frameborder=\"0\" allowfullscreen></iframe></div>"
      ],
      "text/plain": [
       "<IPython.core.display.HTML object>"
      ]
     },
     "metadata": {},
     "output_type": "display_data"
    },
    {
     "data": {
      "text/plain": []
     },
     "execution_count": 21,
     "metadata": {},
     "output_type": "execute_result"
    }
   ],
   "source": [
    "if demo is not None:\n",
    "    demo.close()\n",
    "\n",
    "import gradio as gr\n",
    "import numpy as np\n",
    "\n",
    "def flip(im):\n",
    "    return np.flipud(im)\n",
    "\n",
    "demo = gr.Interface(\n",
    "    flip, \n",
    "    gr.Image(sources=[\"webcam\"], streaming=True), \n",
    "    \"image\",\n",
    "    live=True\n",
    ")\n",
    "\n",
    "demo.launch(server_name=server_name, server_port=server_port, share=False,debug=False)"
   ]
  },
  {
   "cell_type": "markdown",
   "id": "386bbcd9-5c9c-40aa-aa77-7700316c3a63",
   "metadata": {},
   "source": [
    "FFmpeg 是用于处理多媒体文件的免费开源工具集合，它包含一组共享的音频和视频库，例如 libavcodec、libavformat 和 libavutil。使用 FFmpeg，您可以在各种视频和音频格式之间进行转换、设置采样率、捕获流式音频/视频以及调整视频大小。\n",
    "\n",
    "~~~\n",
    "#安装FFmpeg\n",
    "sudo yum install epel-release \n",
    "sudo yum localinstall --nogpgcheck https://download1.rpmfusion.org/free/el/rpmfusion-free-release-7.noarch.rpm\n",
    "sudo yum install ffmpeg ffmpeg-devel\n",
    "ffmpeg -version  #验证 FFmpeg 安装\n",
    "~~~"
   ]
  },
  {
   "cell_type": "code",
   "execution_count": 24,
   "id": "287e24b9-7ca1-4a72-87b0-8a1739aa651c",
   "metadata": {
    "execution": {
     "iopub.execute_input": "2024-05-15T10:39:21.576582Z",
     "iopub.status.busy": "2024-05-15T10:39:21.576196Z",
     "iopub.status.idle": "2024-05-15T10:39:22.166987Z",
     "shell.execute_reply": "2024-05-15T10:39:22.166114Z",
     "shell.execute_reply.started": "2024-05-15T10:39:21.576550Z"
    }
   },
   "outputs": [
    {
     "name": "stdout",
     "output_type": "stream",
     "text": [
      "Closing server running on port: 7878\n",
      "Running on local URL:  http://15.15.174.4:7878\n",
      "\n",
      "To create a public link, set `share=True` in `launch()`.\n"
     ]
    },
    {
     "data": {
      "text/html": [
       "<div><iframe src=\"http://15.15.174.4:7878/\" width=\"100%\" height=\"500\" allow=\"autoplay; camera; microphone; clipboard-read; clipboard-write;\" frameborder=\"0\" allowfullscreen></iframe></div>"
      ],
      "text/plain": [
       "<IPython.core.display.HTML object>"
      ]
     },
     "metadata": {},
     "output_type": "display_data"
    },
    {
     "data": {
      "text/plain": []
     },
     "execution_count": 24,
     "metadata": {},
     "output_type": "execute_result"
    }
   ],
   "source": [
    "\n",
    "\n",
    "if demo is not None:\n",
    "    demo.close()\n",
    "\n",
    "import gradio as gr\n",
    "from pydub import AudioSegment\n",
    "from time import sleep\n",
    "\n",
    "with gr.Blocks() as demo:\n",
    "    input_audio = gr.Audio(label=\"Input Audio\", type=\"filepath\", format=\"mp3\")\n",
    "    with gr.Row():\n",
    "        with gr.Column():\n",
    "            stream_as_file_btn = gr.Button(\"Stream as File\")\n",
    "            format = gr.Radio([\"wav\", \"mp3\"], value=\"wav\", label=\"Format\")\n",
    "            stream_as_file_output = gr.Audio(streaming=True)\n",
    "\n",
    "            def stream_file(audio_file, format):\n",
    "                audio = AudioSegment.from_file(audio_file)\n",
    "                i = 0\n",
    "                chunk_size = 1000\n",
    "                while chunk_size * i < len(audio):\n",
    "                    chunk = audio[chunk_size * i : chunk_size * (i + 1)]\n",
    "                    i += 1\n",
    "                    if chunk:\n",
    "                        file = f\"/tmp/{i}.{format}\"\n",
    "                        chunk.export(file, format=format)\n",
    "                        yield file\n",
    "                        sleep(0.5)\n",
    "\n",
    "            stream_as_file_btn.click(\n",
    "                stream_file, [input_audio, format], stream_as_file_output\n",
    "            )\n",
    "\n",
    "            gr.Examples(\n",
    "                [[\"audio/cantina.wav\", \"wav\"], [\"audio/cantina.wav\", \"mp3\"]],\n",
    "                [input_audio, format],\n",
    "                fn=stream_file,\n",
    "                outputs=stream_as_file_output,\n",
    "            )\n",
    "\n",
    "        with gr.Column():\n",
    "            stream_as_bytes_btn = gr.Button(\"Stream as Bytes\")\n",
    "            stream_as_bytes_output = gr.Audio(format=\"bytes\", streaming=True)\n",
    "\n",
    "            def stream_bytes(audio_file):\n",
    "                chunk_size = 20_000\n",
    "                with open(audio_file, \"rb\") as f:\n",
    "                    while True:\n",
    "                        chunk = f.read(chunk_size)\n",
    "                        if chunk:\n",
    "                            yield chunk\n",
    "                            sleep(1)\n",
    "                        else:\n",
    "                            break\n",
    "            stream_as_bytes_btn.click(stream_bytes, input_audio, stream_as_bytes_output)\n",
    "\n",
    "\n",
    "demo.queue().launch(server_name=server_name, server_port=server_port, share=False,debug=False)"
   ]
  },
  {
   "cell_type": "markdown",
   "id": "39d7a9a7-385e-48b8-ac73-370eacca30b8",
   "metadata": {},
   "source": [
    "### Blocks Structure"
   ]
  },
  {
   "cell_type": "code",
   "execution_count": 27,
   "id": "f5c21484-16e7-49be-b453-49c6cce3c66a",
   "metadata": {
    "execution": {
     "iopub.execute_input": "2024-05-15T10:41:37.004030Z",
     "iopub.status.busy": "2024-05-15T10:41:37.003529Z",
     "iopub.status.idle": "2024-05-15T10:41:37.415409Z",
     "shell.execute_reply": "2024-05-15T10:41:37.414569Z",
     "shell.execute_reply.started": "2024-05-15T10:41:37.003983Z"
    }
   },
   "outputs": [
    {
     "name": "stdout",
     "output_type": "stream",
     "text": [
      "Closing server running on port: 7878\n",
      "Running on local URL:  http://15.15.174.4:7878\n",
      "\n",
      "To create a public link, set `share=True` in `launch()`.\n"
     ]
    },
    {
     "data": {
      "text/html": [
       "<div><iframe src=\"http://15.15.174.4:7878/\" width=\"100%\" height=\"500\" allow=\"autoplay; camera; microphone; clipboard-read; clipboard-write;\" frameborder=\"0\" allowfullscreen></iframe></div>"
      ],
      "text/plain": [
       "<IPython.core.display.HTML object>"
      ]
     },
     "metadata": {},
     "output_type": "display_data"
    },
    {
     "data": {
      "text/plain": []
     },
     "execution_count": 27,
     "metadata": {},
     "output_type": "execute_result"
    }
   ],
   "source": [
    "if demo is not None:\n",
    "    demo.close()\n",
    "\n",
    "import gradio as gr\n",
    "\n",
    "\n",
    "def greet(name):\n",
    "    return \"Hello \" + name + \"!\"\n",
    "\n",
    "\n",
    "with gr.Blocks() as demo:\n",
    "    name = gr.Textbox(label=\"Name\")\n",
    "    output = gr.Textbox(label=\"Output Box\")\n",
    "    greet_btn = gr.Button(\"Greet\")\n",
    "    greet_btn.click(fn=greet, inputs=name, outputs=output, api_name=\"greet\")\n",
    "\n",
    "demo.launch(server_name=server_name, server_port=server_port, share=False,debug=False)"
   ]
  },
  {
   "cell_type": "code",
   "execution_count": 28,
   "id": "7b20670d-b7fc-4bfc-b563-ab41906accd2",
   "metadata": {
    "execution": {
     "iopub.execute_input": "2024-05-15T12:01:18.262503Z",
     "iopub.status.busy": "2024-05-15T12:01:18.262117Z",
     "iopub.status.idle": "2024-05-15T12:01:18.660087Z",
     "shell.execute_reply": "2024-05-15T12:01:18.659235Z",
     "shell.execute_reply.started": "2024-05-15T12:01:18.262471Z"
    }
   },
   "outputs": [
    {
     "name": "stdout",
     "output_type": "stream",
     "text": [
      "Closing server running on port: 7878\n",
      "Running on local URL:  http://15.15.174.4:7878\n",
      "\n",
      "To create a public link, set `share=True` in `launch()`.\n"
     ]
    },
    {
     "data": {
      "text/html": [
       "<div><iframe src=\"http://15.15.174.4:7878/\" width=\"100%\" height=\"500\" allow=\"autoplay; camera; microphone; clipboard-read; clipboard-write;\" frameborder=\"0\" allowfullscreen></iframe></div>"
      ],
      "text/plain": [
       "<IPython.core.display.HTML object>"
      ]
     },
     "metadata": {},
     "output_type": "display_data"
    },
    {
     "data": {
      "text/plain": []
     },
     "execution_count": 28,
     "metadata": {},
     "output_type": "execute_result"
    }
   ],
   "source": [
    "if demo is not None:\n",
    "    demo.close()\n",
    "\n",
    "import gradio as gr\n",
    "\n",
    "\n",
    "with gr.Blocks() as demo:\n",
    "    name = gr.Textbox(label=\"Name\")\n",
    "    output = gr.Textbox(label=\"Output Box\")\n",
    "    greet_btn = gr.Button(\"Greet\")\n",
    "\n",
    "    @greet_btn.click(inputs=name, outputs=output)\n",
    "    def greet(name):\n",
    "        return \"Hello \" + name + \"!\"\n",
    "\n",
    "demo.launch(server_name=server_name, server_port=server_port, share=False,debug=False)"
   ]
  },
  {
   "cell_type": "markdown",
   "id": "8c809d2a-dfb7-498e-9d34-78f5087bf732",
   "metadata": {},
   "source": [
    "### Multiple Data Flows"
   ]
  },
  {
   "cell_type": "code",
   "execution_count": 29,
   "id": "63692bd4-4b10-4a18-a778-424da27c4cba",
   "metadata": {
    "execution": {
     "iopub.execute_input": "2024-05-15T12:08:02.403018Z",
     "iopub.status.busy": "2024-05-15T12:08:02.402199Z",
     "iopub.status.idle": "2024-05-15T12:08:02.794458Z",
     "shell.execute_reply": "2024-05-15T12:08:02.793637Z",
     "shell.execute_reply.started": "2024-05-15T12:08:02.402942Z"
    }
   },
   "outputs": [
    {
     "name": "stdout",
     "output_type": "stream",
     "text": [
      "Closing server running on port: 7878\n",
      "Running on local URL:  http://15.15.174.4:7878\n",
      "\n",
      "To create a public link, set `share=True` in `launch()`.\n"
     ]
    },
    {
     "data": {
      "text/html": [
       "<div><iframe src=\"http://15.15.174.4:7878/\" width=\"100%\" height=\"500\" allow=\"autoplay; camera; microphone; clipboard-read; clipboard-write;\" frameborder=\"0\" allowfullscreen></iframe></div>"
      ],
      "text/plain": [
       "<IPython.core.display.HTML object>"
      ]
     },
     "metadata": {},
     "output_type": "display_data"
    },
    {
     "data": {
      "text/plain": []
     },
     "execution_count": 29,
     "metadata": {},
     "output_type": "execute_result"
    }
   ],
   "source": [
    "if demo is not None:\n",
    "    demo.close()\n",
    "    \n",
    "import gradio as gr\n",
    "\n",
    "def increase(num):\n",
    "    return num + 1\n",
    "\n",
    "with gr.Blocks() as demo:\n",
    "    a = gr.Number(label=\"a\")\n",
    "    b = gr.Number(label=\"b\")\n",
    "    atob = gr.Button(\"a > b\")\n",
    "    btoa = gr.Button(\"b > a\")\n",
    "    atob.click(increase, a, b)\n",
    "    btoa.click(increase, b, a)\n",
    "\n",
    "\n",
    "demo.launch(server_name=server_name, server_port=server_port, share=False,debug=False)"
   ]
  },
  {
   "cell_type": "code",
   "execution_count": 30,
   "id": "40bf77d5-30ad-43c8-b284-7a95c588ffcb",
   "metadata": {
    "execution": {
     "iopub.execute_input": "2024-05-15T12:08:30.015234Z",
     "iopub.status.busy": "2024-05-15T12:08:30.014800Z",
     "iopub.status.idle": "2024-05-15T12:09:21.631726Z",
     "shell.execute_reply": "2024-05-15T12:09:21.630956Z",
     "shell.execute_reply.started": "2024-05-15T12:08:30.015195Z"
    }
   },
   "outputs": [
    {
     "name": "stdout",
     "output_type": "stream",
     "text": [
      "Closing server running on port: 7878\n"
     ]
    },
    {
     "name": "stderr",
     "output_type": "stream",
     "text": [
      "Some weights of the model checkpoint at facebook/wav2vec2-base-960h were not used when initializing Wav2Vec2ForCTC: ['wav2vec2.encoder.pos_conv_embed.conv.weight_g', 'wav2vec2.encoder.pos_conv_embed.conv.weight_v']\n",
      "- This IS expected if you are initializing Wav2Vec2ForCTC from the checkpoint of a model trained on another task or with another architecture (e.g. initializing a BertForSequenceClassification model from a BertForPreTraining model).\n",
      "- This IS NOT expected if you are initializing Wav2Vec2ForCTC from the checkpoint of a model that you expect to be exactly identical (initializing a BertForSequenceClassification model from a BertForSequenceClassification model).\n",
      "Some weights of Wav2Vec2ForCTC were not initialized from the model checkpoint at facebook/wav2vec2-base-960h and are newly initialized: ['wav2vec2.encoder.pos_conv_embed.conv.parametrizations.weight.original0', 'wav2vec2.encoder.pos_conv_embed.conv.parametrizations.weight.original1', 'wav2vec2.masked_spec_embed']\n",
      "You should probably TRAIN this model on a down-stream task to be able to use it for predictions and inference.\n",
      "No model was supplied, defaulted to distilbert/distilbert-base-uncased-finetuned-sst-2-english and revision af0f99b (https://huggingface.co/distilbert/distilbert-base-uncased-finetuned-sst-2-english).\n",
      "Using a pipeline without specifying a model name and revision in production is not recommended.\n"
     ]
    },
    {
     "name": "stdout",
     "output_type": "stream",
     "text": [
      "Running on local URL:  http://15.15.174.4:7878\n",
      "\n",
      "To create a public link, set `share=True` in `launch()`.\n"
     ]
    },
    {
     "data": {
      "text/html": [
       "<div><iframe src=\"http://15.15.174.4:7878/\" width=\"100%\" height=\"500\" allow=\"autoplay; camera; microphone; clipboard-read; clipboard-write;\" frameborder=\"0\" allowfullscreen></iframe></div>"
      ],
      "text/plain": [
       "<IPython.core.display.HTML object>"
      ]
     },
     "metadata": {},
     "output_type": "display_data"
    },
    {
     "data": {
      "text/plain": []
     },
     "execution_count": 30,
     "metadata": {},
     "output_type": "execute_result"
    }
   ],
   "source": [
    "if demo is not None:\n",
    "    demo.close()\n",
    "\n",
    "from transformers import pipeline\n",
    "\n",
    "import gradio as gr\n",
    "\n",
    "asr = pipeline(\"automatic-speech-recognition\", \"facebook/wav2vec2-base-960h\")\n",
    "classifier = pipeline(\"text-classification\")\n",
    "\n",
    "\n",
    "def speech_to_text(speech):\n",
    "    text = asr(speech)[\"text\"]\n",
    "    return text\n",
    "\n",
    "\n",
    "def text_to_sentiment(text):\n",
    "    return classifier(text)[0][\"label\"]\n",
    "\n",
    "\n",
    "demo = gr.Blocks()\n",
    "\n",
    "with demo:\n",
    "    audio_file = gr.Audio(type=\"filepath\")\n",
    "    text = gr.Textbox()\n",
    "    label = gr.Label()\n",
    "\n",
    "    b1 = gr.Button(\"Recognize Speech\")\n",
    "    b2 = gr.Button(\"Classify Sentiment\")\n",
    "\n",
    "    b1.click(speech_to_text, inputs=audio_file, outputs=text)\n",
    "    b2.click(text_to_sentiment, inputs=text, outputs=label)\n",
    "\n",
    "demo.launch(server_name=server_name, server_port=server_port, share=False,debug=False)"
   ]
  },
  {
   "cell_type": "markdown",
   "id": "1603f18b-233d-4c26-8634-9df8dd8d3e3d",
   "metadata": {},
   "source": [
    "### Function Input List vs Dict"
   ]
  },
  {
   "cell_type": "code",
   "execution_count": 31,
   "id": "c3c1077b-44e8-4856-9996-d676b75e1847",
   "metadata": {
    "execution": {
     "iopub.execute_input": "2024-05-15T12:18:22.022616Z",
     "iopub.status.busy": "2024-05-15T12:18:22.021836Z",
     "iopub.status.idle": "2024-05-15T12:18:22.495697Z",
     "shell.execute_reply": "2024-05-15T12:18:22.494828Z",
     "shell.execute_reply.started": "2024-05-15T12:18:22.022541Z"
    }
   },
   "outputs": [
    {
     "name": "stdout",
     "output_type": "stream",
     "text": [
      "Closing server running on port: 7878\n",
      "Running on local URL:  http://15.15.174.4:7878\n",
      "\n",
      "To create a public link, set `share=True` in `launch()`.\n"
     ]
    },
    {
     "data": {
      "text/html": [
       "<div><iframe src=\"http://15.15.174.4:7878/\" width=\"100%\" height=\"500\" allow=\"autoplay; camera; microphone; clipboard-read; clipboard-write;\" frameborder=\"0\" allowfullscreen></iframe></div>"
      ],
      "text/plain": [
       "<IPython.core.display.HTML object>"
      ]
     },
     "metadata": {},
     "output_type": "display_data"
    },
    {
     "data": {
      "text/plain": []
     },
     "execution_count": 31,
     "metadata": {},
     "output_type": "execute_result"
    }
   ],
   "source": [
    "if demo is not None:\n",
    "    demo.close()\n",
    "\n",
    "import gradio as gr\n",
    "\n",
    "with gr.Blocks() as demo:\n",
    "    a = gr.Number(label=\"a\")\n",
    "    b = gr.Number(label=\"b\")\n",
    "    with gr.Row():\n",
    "        add_btn = gr.Button(\"Add\")\n",
    "        sub_btn = gr.Button(\"Subtract\")\n",
    "    c = gr.Number(label=\"sum\")\n",
    "\n",
    "    def add(num1, num2):\n",
    "        return num1 + num2\n",
    "    add_btn.click(add, inputs=[a, b], outputs=c)\n",
    "\n",
    "    def sub(data):\n",
    "        return data[a] - data[b]\n",
    "    sub_btn.click(sub, inputs={a, b}, outputs=c)\n",
    "\n",
    "\n",
    "\n",
    "demo.launch(server_name=server_name, server_port=server_port, share=False,debug=False)"
   ]
  },
  {
   "cell_type": "markdown",
   "id": "6bd6b529-b6b8-4781-993f-e328440d3ae5",
   "metadata": {
    "execution": {
     "iopub.execute_input": "2024-05-15T12:18:38.235698Z",
     "iopub.status.busy": "2024-05-15T12:18:38.235326Z",
     "iopub.status.idle": "2024-05-15T12:18:38.239657Z",
     "shell.execute_reply": "2024-05-15T12:18:38.238674Z",
     "shell.execute_reply.started": "2024-05-15T12:18:38.235666Z"
    }
   },
   "source": [
    "### Function Return List vs Dict"
   ]
  },
  {
   "cell_type": "code",
   "execution_count": 33,
   "id": "fac2568c-ca71-4a4e-990d-8cb27aa32662",
   "metadata": {
    "execution": {
     "iopub.execute_input": "2024-05-15T12:18:56.871019Z",
     "iopub.status.busy": "2024-05-15T12:18:56.870656Z",
     "iopub.status.idle": "2024-05-15T12:18:57.314736Z",
     "shell.execute_reply": "2024-05-15T12:18:57.313861Z",
     "shell.execute_reply.started": "2024-05-15T12:18:56.870987Z"
    }
   },
   "outputs": [
    {
     "name": "stdout",
     "output_type": "stream",
     "text": [
      "Closing server running on port: 7878\n",
      "Running on local URL:  http://15.15.174.4:7878\n",
      "\n",
      "To create a public link, set `share=True` in `launch()`.\n"
     ]
    },
    {
     "data": {
      "text/html": [
       "<div><iframe src=\"http://15.15.174.4:7878/\" width=\"100%\" height=\"500\" allow=\"autoplay; camera; microphone; clipboard-read; clipboard-write;\" frameborder=\"0\" allowfullscreen></iframe></div>"
      ],
      "text/plain": [
       "<IPython.core.display.HTML object>"
      ]
     },
     "metadata": {},
     "output_type": "display_data"
    },
    {
     "data": {
      "text/plain": []
     },
     "execution_count": 33,
     "metadata": {},
     "output_type": "execute_result"
    }
   ],
   "source": [
    "if demo is not None:\n",
    "    demo.close()\n",
    "\n",
    "with gr.Blocks() as demo:\n",
    "    food_box = gr.Number(value=10, label=\"Food Count\")\n",
    "    status_box = gr.Textbox()\n",
    "    def eat(food):\n",
    "        if food > 0:\n",
    "            return food - 1, \"full\"\n",
    "        else:\n",
    "            return 0, \"hungry\"\n",
    "    gr.Button(\"EAT\").click(\n",
    "        fn=eat,\n",
    "        inputs=food_box,\n",
    "        outputs=[food_box, status_box]\n",
    "    )\n",
    "\n",
    "demo.launch(server_name=server_name, server_port=server_port, share=False,debug=False)"
   ]
  },
  {
   "cell_type": "code",
   "execution_count": 34,
   "id": "6bb816b7-0d39-4e09-b964-57bcfcda6945",
   "metadata": {
    "execution": {
     "iopub.execute_input": "2024-05-15T12:20:18.892167Z",
     "iopub.status.busy": "2024-05-15T12:20:18.891382Z",
     "iopub.status.idle": "2024-05-15T12:20:19.273291Z",
     "shell.execute_reply": "2024-05-15T12:20:19.272519Z",
     "shell.execute_reply.started": "2024-05-15T12:20:18.892079Z"
    }
   },
   "outputs": [
    {
     "name": "stdout",
     "output_type": "stream",
     "text": [
      "Closing server running on port: 7878\n",
      "Running on local URL:  http://15.15.174.4:7878\n",
      "\n",
      "To create a public link, set `share=True` in `launch()`.\n"
     ]
    },
    {
     "data": {
      "text/html": [
       "<div><iframe src=\"http://15.15.174.4:7878/\" width=\"100%\" height=\"500\" allow=\"autoplay; camera; microphone; clipboard-read; clipboard-write;\" frameborder=\"0\" allowfullscreen></iframe></div>"
      ],
      "text/plain": [
       "<IPython.core.display.HTML object>"
      ]
     },
     "metadata": {},
     "output_type": "display_data"
    },
    {
     "data": {
      "text/plain": []
     },
     "execution_count": 34,
     "metadata": {},
     "output_type": "execute_result"
    }
   ],
   "source": [
    "if demo is not None:\n",
    "    demo.close()\n",
    "\n",
    "with gr.Blocks() as demo:\n",
    "    food_box = gr.Number(value=10, label=\"Food Count\")\n",
    "    status_box = gr.Textbox()\n",
    "    def eat(food):\n",
    "        if food > 0:\n",
    "            return {food_box: food - 1, status_box: \"full\"}\n",
    "        else:\n",
    "            return {status_box: \"hungry\"}\n",
    "    gr.Button(\"EAT\").click(\n",
    "        fn=eat,\n",
    "        inputs=food_box,\n",
    "        outputs=[food_box, status_box]\n",
    "    )\n",
    "\n",
    "demo.launch(server_name=server_name, server_port=server_port, share=False,debug=False)"
   ]
  },
  {
   "cell_type": "markdown",
   "id": "8c593009-d193-4bf5-81c2-7834681cd235",
   "metadata": {},
   "source": [
    "### Updating Component Configurations"
   ]
  },
  {
   "cell_type": "code",
   "execution_count": 13,
   "id": "351252e8-abfe-4fbc-933a-62ffd9ba2ffd",
   "metadata": {
    "execution": {
     "iopub.execute_input": "2024-05-22T11:24:47.879501Z",
     "iopub.status.busy": "2024-05-22T11:24:47.878273Z",
     "iopub.status.idle": "2024-05-22T11:24:48.260826Z",
     "shell.execute_reply": "2024-05-22T11:24:48.260115Z",
     "shell.execute_reply.started": "2024-05-22T11:24:47.879423Z"
    }
   },
   "outputs": [
    {
     "name": "stdout",
     "output_type": "stream",
     "text": [
      "Closing server running on port: 7878\n",
      "Running on local URL:  http://15.15.174.4:7878\n",
      "\n",
      "To create a public link, set `share=True` in `launch()`.\n"
     ]
    },
    {
     "data": {
      "text/html": [
       "<div><iframe src=\"http://15.15.174.4:7878/\" width=\"100%\" height=\"500\" allow=\"autoplay; camera; microphone; clipboard-read; clipboard-write;\" frameborder=\"0\" allowfullscreen></iframe></div>"
      ],
      "text/plain": [
       "<IPython.core.display.HTML object>"
      ]
     },
     "metadata": {},
     "output_type": "display_data"
    },
    {
     "data": {
      "text/plain": []
     },
     "execution_count": 13,
     "metadata": {},
     "output_type": "execute_result"
    }
   ],
   "source": [
    "if demo is not None:\n",
    "    demo.close()\n",
    "\n",
    "import gradio as gr\n",
    "\n",
    "\n",
    "def change_textbox(choice):\n",
    "    if choice == \"short\":\n",
    "        return gr.Textbox(lines=2, visible=True)\n",
    "    elif choice == \"long\":\n",
    "        return gr.Textbox(lines=8, visible=True, value=\"Lorem ipsum dolor sit amet\")\n",
    "    else:\n",
    "        return gr.Textbox(visible=False)\n",
    "\n",
    "\n",
    "with gr.Blocks() as demo:\n",
    "    radio = gr.Radio(\n",
    "        [\"short\", \"long\", \"none\"], label=\"What kind of essay would you like to write?\"\n",
    "    )\n",
    "    text = gr.Textbox(lines=2, interactive=True, show_copy_button=True)\n",
    "    radio.change(fn=change_textbox, inputs=radio, outputs=text)\n",
    "\n",
    "demo.launch(server_name=server_name, server_port=server_port, share=False,debug=False)"
   ]
  },
  {
   "cell_type": "markdown",
   "id": "5eacbf73-4954-470d-9a22-d37a751c1d8a",
   "metadata": {
    "execution": {
     "iopub.execute_input": "2024-05-15T12:35:40.684826Z",
     "iopub.status.busy": "2024-05-15T12:35:40.684337Z",
     "iopub.status.idle": "2024-05-15T12:35:40.689656Z",
     "shell.execute_reply": "2024-05-15T12:35:40.688593Z",
     "shell.execute_reply.started": "2024-05-15T12:35:40.684782Z"
    }
   },
   "source": [
    "### Running Events Consecutively\n",
    "\n",
    "连续运行事件\n",
    "\n",
    "您还可以使用事件监听器的 then 方法连续运行事件。这将在前一个事件运行完成后运行一个事件。这对于运行在多个步骤中更新组件的事件非常有用。\n",
    "\n",
    "例如，在下面的聊天机器人示例中，我们首先立即使用用户消息更新聊天机器人，然后在模拟延迟后使用计算机响应更新聊天机器人"
   ]
  },
  {
   "cell_type": "code",
   "execution_count": 22,
   "id": "e661f7ae-d339-4a31-a395-2da032c31e70",
   "metadata": {
    "execution": {
     "iopub.execute_input": "2024-05-28T09:37:28.089764Z",
     "iopub.status.busy": "2024-05-28T09:37:28.089390Z",
     "iopub.status.idle": "2024-05-28T09:37:28.599701Z",
     "shell.execute_reply": "2024-05-28T09:37:28.598802Z",
     "shell.execute_reply.started": "2024-05-28T09:37:28.089731Z"
    }
   },
   "outputs": [
    {
     "name": "stdout",
     "output_type": "stream",
     "text": [
      "Closing server running on port: 7878\n",
      "Running on local URL:  http://15.15.174.4:7878\n",
      "\n",
      "To create a public link, set `share=True` in `launch()`.\n"
     ]
    },
    {
     "data": {
      "text/html": [
       "<div><iframe src=\"http://15.15.174.4:7878/\" width=\"100%\" height=\"500\" allow=\"autoplay; camera; microphone; clipboard-read; clipboard-write;\" frameborder=\"0\" allowfullscreen></iframe></div>"
      ],
      "text/plain": [
       "<IPython.core.display.HTML object>"
      ]
     },
     "metadata": {},
     "output_type": "display_data"
    },
    {
     "data": {
      "text/plain": []
     },
     "execution_count": 22,
     "metadata": {},
     "output_type": "execute_result"
    }
   ],
   "source": [
    "if demo is not None:\n",
    "    demo.close()\n",
    "\n",
    "import gradio as gr\n",
    "import random\n",
    "import time\n",
    "\n",
    "with gr.Blocks() as demo:\n",
    "    with gr.Group():\n",
    "        gr.Textbox(label=\"First\")\n",
    "        gr.Textbox(label=\"Last\")\n",
    "    \n",
    "    chatbot = gr.Chatbot()\n",
    "    msg = gr.Textbox()\n",
    "    clear = gr.Button(\"Clear\")\n",
    "\n",
    "    def user(user_message, history):\n",
    "        return \"\", history + [[user_message, None]]\n",
    "\n",
    "    def bot(history):\n",
    "        bot_message = random.choice([\"How are you?\", \"I love you\", \"I'm very hungry\"])\n",
    "        time.sleep(2)\n",
    "        history[-1][1] = bot_message\n",
    "        return history\n",
    "\n",
    "    msg.submit(user, [msg, chatbot], [msg, chatbot], queue=False).then(\n",
    "        bot, chatbot, chatbot\n",
    "    )\n",
    "    clear.click(lambda: None, None, chatbot, queue=False)\n",
    "    \n",
    "demo.queue()\n",
    "\n",
    "demo.launch(server_name=server_name, server_port=server_port, share=False,debug=False)"
   ]
  },
  {
   "cell_type": "markdown",
   "id": "dedc4946-1f97-4b67-bc0d-87a735145aa0",
   "metadata": {
    "execution": {
     "iopub.execute_input": "2024-05-15T12:41:10.711104Z",
     "iopub.status.busy": "2024-05-15T12:41:10.710238Z",
     "iopub.status.idle": "2024-05-15T12:41:10.718831Z",
     "shell.execute_reply": "2024-05-15T12:41:10.716801Z",
     "shell.execute_reply.started": "2024-05-15T12:41:10.711031Z"
    }
   },
   "source": [
    "### Running Events Continuously\n",
    "\n",
    "您可以使用事件监听器的 every 参数按固定的时间表运行事件。这将在客户端连接打开时每隔几秒运行一次事件。如果连接关闭，则事件将在下一个迭代后停止运行。请注意，这不考虑事件本身的运行时间。因此，如果一个运行时间为1秒的函数使用 every=5，实际上会每6秒运行一次。还请注意，此参数不适用于JS函数，仅适用于与事件监听器关联的Python函数。"
   ]
  },
  {
   "cell_type": "code",
   "execution_count": 43,
   "id": "369e2407-7f5e-4e3b-8276-4ff55d7c2a9c",
   "metadata": {
    "execution": {
     "iopub.execute_input": "2024-05-15T12:46:12.519043Z",
     "iopub.status.busy": "2024-05-15T12:46:12.518675Z",
     "iopub.status.idle": "2024-05-15T12:46:13.705361Z",
     "shell.execute_reply": "2024-05-15T12:46:13.704457Z",
     "shell.execute_reply.started": "2024-05-15T12:46:12.519010Z"
    }
   },
   "outputs": [
    {
     "name": "stdout",
     "output_type": "stream",
     "text": [
      "Closing server running on port: 7878\n",
      "Running on local URL:  http://15.15.174.4:7878\n",
      "\n",
      "To create a public link, set `share=True` in `launch()`.\n"
     ]
    },
    {
     "data": {
      "text/html": [
       "<div><iframe src=\"http://15.15.174.4:7878/\" width=\"100%\" height=\"500\" allow=\"autoplay; camera; microphone; clipboard-read; clipboard-write;\" frameborder=\"0\" allowfullscreen></iframe></div>"
      ],
      "text/plain": [
       "<IPython.core.display.HTML object>"
      ]
     },
     "metadata": {},
     "output_type": "display_data"
    },
    {
     "data": {
      "text/plain": []
     },
     "execution_count": 43,
     "metadata": {},
     "output_type": "execute_result"
    }
   ],
   "source": [
    "if demo is not None:\n",
    "    demo.close()\n",
    "\n",
    "import math\n",
    "import gradio as gr\n",
    "import plotly.express as px\n",
    "import numpy as np\n",
    "\n",
    "\n",
    "plot_end = 2 * math.pi\n",
    "\n",
    "\n",
    "def get_plot(period=1):\n",
    "    global plot_end\n",
    "    x = np.arange(plot_end - 2 * math.pi, plot_end, 0.02)\n",
    "    y = np.sin(2*math.pi*period * x)\n",
    "    fig = px.line(x=x, y=y)\n",
    "    plot_end += 2 * math.pi\n",
    "    if plot_end > 1000:\n",
    "        plot_end = 2 * math.pi\n",
    "    return fig\n",
    "\n",
    "\n",
    "with gr.Blocks() as demo:\n",
    "    with gr.Row():\n",
    "        with gr.Column():\n",
    "            gr.Markdown(\"Change the value of the slider to automatically update the plot\")\n",
    "            period = gr.Slider(label=\"Period of plot\", value=1, minimum=0, maximum=10, step=1)\n",
    "            plot = gr.Plot(label=\"Plot (updates every half second)\")\n",
    "\n",
    "    dep = demo.load(get_plot, None, plot, every=1)\n",
    "    period.change(get_plot, period, plot, every=1, cancels=[dep])\n",
    "\n",
    "demo.queue().launch(server_name=server_name, server_port=server_port, share=False,debug=False)"
   ]
  },
  {
   "cell_type": "markdown",
   "id": "f79fab07-57dd-41b1-81c5-9bf59cf42273",
   "metadata": {},
   "source": [
    "### Gathering Event Data\n",
    "\n",
    "您可以通过将相关的事件数据类作为类型提示添加到事件监听器函数的参数中，收集有关事件的特定数据。\n",
    "\n",
    "例如，.select() 的事件数据可以通过 gradio.SelectData 参数进行类型提示。当用户选择触发组件的某些部分时，将触发此事件，并且事件数据包含有关用户具体选择的信息。如果用户在文本框中选择了特定单词，在图库中选择了特定图像，或者在数据框中选择了特定单元格，则事件数据参数将包含有关特定选择的信息"
   ]
  },
  {
   "cell_type": "code",
   "execution_count": 20,
   "id": "0955c709-4ea3-42cf-90f2-602d30246003",
   "metadata": {
    "execution": {
     "iopub.execute_input": "2024-05-28T09:36:39.212442Z",
     "iopub.status.busy": "2024-05-28T09:36:39.211945Z",
     "iopub.status.idle": "2024-05-28T09:36:39.353732Z",
     "shell.execute_reply": "2024-05-28T09:36:39.352694Z",
     "shell.execute_reply.started": "2024-05-28T09:36:39.212398Z"
    }
   },
   "outputs": [
    {
     "ename": "TypeError",
     "evalue": "Dataset.__init__() got an unexpected keyword argument 'interactive'",
     "output_type": "error",
     "traceback": [
      "\u001b[0;31m---------------------------------------------------------------------------\u001b[0m",
      "\u001b[0;31mTypeError\u001b[0m                                 Traceback (most recent call last)",
      "Cell \u001b[0;32mIn[20], line 8\u001b[0m\n\u001b[1;32m      6\u001b[0m \u001b[38;5;28;01mwith\u001b[39;00m gr\u001b[38;5;241m.\u001b[39mBlocks() \u001b[38;5;28;01mas\u001b[39;00m demo:\n\u001b[1;32m      7\u001b[0m     turn \u001b[38;5;241m=\u001b[39m gr\u001b[38;5;241m.\u001b[39mTextbox(\u001b[38;5;124m\"\u001b[39m\u001b[38;5;124mX\u001b[39m\u001b[38;5;124m\"\u001b[39m, interactive\u001b[38;5;241m=\u001b[39m\u001b[38;5;28;01mFalse\u001b[39;00m, label\u001b[38;5;241m=\u001b[39m\u001b[38;5;124m\"\u001b[39m\u001b[38;5;124mTurn\u001b[39m\u001b[38;5;124m\"\u001b[39m)\n\u001b[0;32m----> 8\u001b[0m     board \u001b[38;5;241m=\u001b[39m \u001b[43mgr\u001b[49m\u001b[38;5;241;43m.\u001b[39;49m\u001b[43mDataset\u001b[49m\u001b[43m(\u001b[49m\u001b[43msamples\u001b[49m\u001b[38;5;241;43m=\u001b[39;49m\u001b[43m[\u001b[49m\u001b[43m[\u001b[49m\u001b[38;5;124;43m\"\u001b[39;49m\u001b[38;5;124;43m\"\u001b[39;49m\u001b[43m,\u001b[49m\u001b[43m \u001b[49m\u001b[38;5;124;43m\"\u001b[39;49m\u001b[38;5;124;43m\"\u001b[39;49m\u001b[43m,\u001b[49m\u001b[43m \u001b[49m\u001b[38;5;124;43m\"\u001b[39;49m\u001b[38;5;124;43m\"\u001b[39;49m\u001b[43m]\u001b[49m\u001b[43m]\u001b[49m\u001b[43m \u001b[49m\u001b[38;5;241;43m*\u001b[39;49m\u001b[43m \u001b[49m\u001b[38;5;241;43m3\u001b[39;49m\u001b[43m,\u001b[49m\u001b[43m \u001b[49m\u001b[43minteractive\u001b[49m\u001b[38;5;241;43m=\u001b[39;49m\u001b[38;5;28;43;01mFalse\u001b[39;49;00m\u001b[43m,\u001b[49m\u001b[43m \u001b[49m\u001b[38;5;28;43mtype\u001b[39;49m\u001b[38;5;241;43m=\u001b[39;49m\u001b[38;5;124;43m\"\u001b[39;49m\u001b[38;5;124;43marray\u001b[39;49m\u001b[38;5;124;43m\"\u001b[39;49m\u001b[43m)\u001b[49m\n\u001b[1;32m     10\u001b[0m     \u001b[38;5;28;01mdef\u001b[39;00m \u001b[38;5;21mplace\u001b[39m(board, turn, evt: gr\u001b[38;5;241m.\u001b[39mSelectData):\n\u001b[1;32m     11\u001b[0m         \u001b[38;5;28;01mif\u001b[39;00m evt\u001b[38;5;241m.\u001b[39mvalue:\n",
      "File \u001b[0;32m~/miniconda3/envs/dev/lib/python3.10/site-packages/gradio/component_meta.py:160\u001b[0m, in \u001b[0;36mupdateable.<locals>.wrapper\u001b[0;34m(*args, **kwargs)\u001b[0m\n\u001b[1;32m    158\u001b[0m     \u001b[38;5;28;01mreturn\u001b[39;00m \u001b[38;5;28;01mNone\u001b[39;00m\n\u001b[1;32m    159\u001b[0m \u001b[38;5;28;01melse\u001b[39;00m:\n\u001b[0;32m--> 160\u001b[0m     \u001b[38;5;28;01mreturn\u001b[39;00m \u001b[43mfn\u001b[49m\u001b[43m(\u001b[49m\u001b[38;5;28;43mself\u001b[39;49m\u001b[43m,\u001b[49m\u001b[43m \u001b[49m\u001b[38;5;241;43m*\u001b[39;49m\u001b[38;5;241;43m*\u001b[39;49m\u001b[43mkwargs\u001b[49m\u001b[43m)\u001b[49m\n",
      "\u001b[0;31mTypeError\u001b[0m: Dataset.__init__() got an unexpected keyword argument 'interactive'"
     ]
    }
   ],
   "source": [
    "if demo is not None:\n",
    "    demo.close()\n",
    "\n",
    "import gradio as gr\n",
    "\n",
    "with gr.Blocks() as demo:\n",
    "    turn = gr.Textbox(\"X\", interactive=False, label=\"Turn\")\n",
    "    board = gr.Dataset(samples=[[\"\", \"\", \"\"]] * 3, interactive=False, type=\"array\")\n",
    "\n",
    "    def place(board, turn, evt: gr.SelectData):\n",
    "        if evt.value:\n",
    "            return board, turn\n",
    "        board[evt.index[0]][evt.index[1]] = turn\n",
    "        turn = \"O\" if turn == \"X\" else \"X\"\n",
    "        return board, turn\n",
    "\n",
    "    board.select(place, [board, turn], [board, turn], show_progress=\"hidden\")\n",
    "\n",
    "demo.launch(server_name=server_name, server_port=server_port, share=False,debug=False)"
   ]
  },
  {
   "cell_type": "code",
   "execution_count": 14,
   "id": "0c383dde-afd0-425d-9738-ad2f770a4d46",
   "metadata": {
    "execution": {
     "iopub.execute_input": "2024-05-22T11:56:25.045013Z",
     "iopub.status.busy": "2024-05-22T11:56:25.044558Z",
     "iopub.status.idle": "2024-05-22T11:56:25.452293Z",
     "shell.execute_reply": "2024-05-22T11:56:25.451508Z",
     "shell.execute_reply.started": "2024-05-22T11:56:25.044976Z"
    }
   },
   "outputs": [
    {
     "name": "stdout",
     "output_type": "stream",
     "text": [
      "Closing server running on port: 7878\n",
      "Running on local URL:  http://15.15.174.4:7878\n",
      "\n",
      "To create a public link, set `share=True` in `launch()`.\n"
     ]
    },
    {
     "data": {
      "text/html": [
       "<div><iframe src=\"http://15.15.174.4:7878/\" width=\"100%\" height=\"500\" allow=\"autoplay; camera; microphone; clipboard-read; clipboard-write;\" frameborder=\"0\" allowfullscreen></iframe></div>"
      ],
      "text/plain": [
       "<IPython.core.display.HTML object>"
      ]
     },
     "metadata": {},
     "output_type": "display_data"
    },
    {
     "data": {
      "text/plain": []
     },
     "execution_count": 14,
     "metadata": {},
     "output_type": "execute_result"
    }
   ],
   "source": [
    "if demo is not None:\n",
    "    demo.close()\n",
    "\n",
    "import gradio as gr\n",
    "\n",
    "with gr.Blocks() as demo:\n",
    "    turn = gr.Textbox(\"X\", interactive=False, label=\"Turn\")\n",
    "    board = gr.Dataframe(value=[[\"\", \"\", \"\"]] * 3, interactive=False, type=\"array\")\n",
    "\n",
    "    def place(board, turn, evt: gr.SelectData):\n",
    "        if evt.value:\n",
    "            return board, turn\n",
    "        board[evt.index[0]][evt.index[1]] = turn\n",
    "        turn = \"O\" if turn == \"X\" else \"X\"\n",
    "        return board, turn\n",
    "\n",
    "    board.select(place, [board, turn], [board, turn], show_progress=\"hidden\")\n",
    "\n",
    "demo.launch(server_name=server_name, server_port=server_port, share=False,debug=False)"
   ]
  },
  {
   "cell_type": "markdown",
   "id": "b86ea499-1242-4221-9dc1-cc5e129b1714",
   "metadata": {
    "execution": {
     "iopub.execute_input": "2024-05-15T12:54:50.902645Z",
     "iopub.status.busy": "2024-05-15T12:54:50.902076Z",
     "iopub.status.idle": "2024-05-15T12:54:50.909103Z",
     "shell.execute_reply": "2024-05-15T12:54:50.907216Z",
     "shell.execute_reply.started": "2024-05-15T12:54:50.902592Z"
    }
   },
   "source": [
    "### Binding Multiple Triggers to a Function\n",
    "\n",
    "很多时候，您可能希望将多个触发器绑定到同一个函数上。例如，您可能希望允许用户单击提交按钮，或按 Enter 键提交表单。您可以使用 gr.on 方法，并将触发器列表传递给触发器来实现这一点"
   ]
  },
  {
   "cell_type": "code",
   "execution_count": 46,
   "id": "78dba508-1cbd-4255-9832-6b571d860687",
   "metadata": {
    "execution": {
     "iopub.execute_input": "2024-05-15T12:55:37.001043Z",
     "iopub.status.busy": "2024-05-15T12:55:37.000685Z",
     "iopub.status.idle": "2024-05-15T12:55:37.452517Z",
     "shell.execute_reply": "2024-05-15T12:55:37.451726Z",
     "shell.execute_reply.started": "2024-05-15T12:55:37.001011Z"
    }
   },
   "outputs": [
    {
     "name": "stdout",
     "output_type": "stream",
     "text": [
      "Closing server running on port: 7878\n",
      "Running on local URL:  http://15.15.174.4:7878\n",
      "\n",
      "To create a public link, set `share=True` in `launch()`.\n"
     ]
    },
    {
     "data": {
      "text/html": [
       "<div><iframe src=\"http://15.15.174.4:7878/\" width=\"100%\" height=\"500\" allow=\"autoplay; camera; microphone; clipboard-read; clipboard-write;\" frameborder=\"0\" allowfullscreen></iframe></div>"
      ],
      "text/plain": [
       "<IPython.core.display.HTML object>"
      ]
     },
     "metadata": {},
     "output_type": "display_data"
    },
    {
     "data": {
      "text/plain": []
     },
     "execution_count": 46,
     "metadata": {},
     "output_type": "execute_result"
    }
   ],
   "source": [
    "if demo is not None:\n",
    "    demo.close()\n",
    "\n",
    "import gradio as gr\n",
    "\n",
    "with gr.Blocks() as demo:\n",
    "    name = gr.Textbox(label=\"Name\")\n",
    "    output = gr.Textbox(label=\"Output Box\")\n",
    "    greet_btn = gr.Button(\"Greet\")\n",
    "    trigger = gr.Textbox(label=\"Trigger Box\")\n",
    "    trigger2 = gr.Textbox(label=\"Trigger Box\")\n",
    "\n",
    "    def greet(name, evt_data: gr.EventData):\n",
    "        return \"Hello \" + name + \"!\", evt_data.target.__class__.__name__\n",
    "    \n",
    "    def clear_name(evt_data: gr.EventData):\n",
    "        return \"\", evt_data.target.__class__.__name__\n",
    "    \n",
    "    gr.on(\n",
    "        triggers=[name.submit, greet_btn.click],\n",
    "        fn=greet,\n",
    "        inputs=name,\n",
    "        outputs=[output, trigger],\n",
    "    ).then(clear_name, outputs=[name, trigger2])\n",
    "\n",
    "demo.launch(server_name=server_name, server_port=server_port, share=False,debug=False)"
   ]
  },
  {
   "cell_type": "code",
   "execution_count": 47,
   "id": "22ba82e0-0684-441b-9e02-9f7b7a9c1736",
   "metadata": {
    "execution": {
     "iopub.execute_input": "2024-05-15T12:58:12.942292Z",
     "iopub.status.busy": "2024-05-15T12:58:12.941920Z",
     "iopub.status.idle": "2024-05-15T12:58:13.333841Z",
     "shell.execute_reply": "2024-05-15T12:58:13.332999Z",
     "shell.execute_reply.started": "2024-05-15T12:58:12.942259Z"
    }
   },
   "outputs": [
    {
     "name": "stdout",
     "output_type": "stream",
     "text": [
      "Closing server running on port: 7878\n",
      "Running on local URL:  http://15.15.174.4:7878\n",
      "\n",
      "To create a public link, set `share=True` in `launch()`.\n"
     ]
    },
    {
     "data": {
      "text/html": [
       "<div><iframe src=\"http://15.15.174.4:7878/\" width=\"100%\" height=\"500\" allow=\"autoplay; camera; microphone; clipboard-read; clipboard-write;\" frameborder=\"0\" allowfullscreen></iframe></div>"
      ],
      "text/plain": [
       "<IPython.core.display.HTML object>"
      ]
     },
     "metadata": {},
     "output_type": "display_data"
    },
    {
     "data": {
      "text/plain": []
     },
     "execution_count": 47,
     "metadata": {},
     "output_type": "execute_result"
    }
   ],
   "source": [
    "if demo is not None:\n",
    "    demo.close()\n",
    "\n",
    "import gradio as gr\n",
    "\n",
    "with gr.Blocks() as demo:\n",
    "    name = gr.Textbox(label=\"Name\")\n",
    "    output = gr.Textbox(label=\"Output Box\")\n",
    "    greet_btn = gr.Button(\"Greet\")\n",
    "\n",
    "    @gr.on(triggers=[name.submit, greet_btn.click], inputs=name, outputs=output)\n",
    "    def greet(name):\n",
    "        return \"Hello \" + name + \"!\"\n",
    "\n",
    "demo.launch(server_name=server_name, server_port=server_port, share=False,debug=False)"
   ]
  },
  {
   "cell_type": "markdown",
   "id": "a908b9f3-0f19-4128-a344-fcc72091dc04",
   "metadata": {},
   "source": [
    "### Columns and Nesting"
   ]
  },
  {
   "cell_type": "code",
   "execution_count": 49,
   "id": "80ab4e21-b15e-45e0-9e01-0ba96b36d62b",
   "metadata": {
    "execution": {
     "iopub.execute_input": "2024-05-15T13:22:45.462662Z",
     "iopub.status.busy": "2024-05-15T13:22:45.462266Z",
     "iopub.status.idle": "2024-05-15T13:22:45.848654Z",
     "shell.execute_reply": "2024-05-15T13:22:45.847850Z",
     "shell.execute_reply.started": "2024-05-15T13:22:45.462631Z"
    }
   },
   "outputs": [
    {
     "name": "stdout",
     "output_type": "stream",
     "text": [
      "Closing server running on port: 7878\n",
      "Running on local URL:  http://15.15.174.4:7878\n",
      "\n",
      "To create a public link, set `share=True` in `launch()`.\n"
     ]
    },
    {
     "data": {
      "text/html": [
       "<div><iframe src=\"http://15.15.174.4:7878/\" width=\"100%\" height=\"500\" allow=\"autoplay; camera; microphone; clipboard-read; clipboard-write;\" frameborder=\"0\" allowfullscreen></iframe></div>"
      ],
      "text/plain": [
       "<IPython.core.display.HTML object>"
      ]
     },
     "metadata": {},
     "output_type": "display_data"
    },
    {
     "data": {
      "text/plain": []
     },
     "execution_count": 49,
     "metadata": {},
     "output_type": "execute_result"
    }
   ],
   "source": [
    "if demo is not None:\n",
    "    demo.close()\n",
    "\n",
    "import gradio as gr\n",
    "\n",
    "with gr.Blocks() as demo:\n",
    "    with gr.Row():\n",
    "        text1 = gr.Textbox(label=\"t1\")\n",
    "        slider2 = gr.Textbox(label=\"s2\")\n",
    "        drop3 = gr.Dropdown([\"a\", \"b\", \"c\"], label=\"d3\")\n",
    "    with gr.Row():\n",
    "        with gr.Column(scale=1, min_width=300):\n",
    "            text1 = gr.Textbox(label=\"prompt 1\")\n",
    "            text2 = gr.Textbox(label=\"prompt 2\")\n",
    "            inbtw = gr.Button(\"Between\")\n",
    "            text4 = gr.Textbox(label=\"prompt 1\")\n",
    "            text5 = gr.Textbox(label=\"prompt 2\")\n",
    "        with gr.Column(scale=2, min_width=300):\n",
    "            img1 = gr.Image(\"images/cheetah.jpg\")\n",
    "            btn = gr.Button(\"Go\")\n",
    "\n",
    "demo.launch(server_name=server_name, server_port=server_port, share=False,debug=False)"
   ]
  },
  {
   "cell_type": "markdown",
   "id": "27213fe6-f6fa-41c8-a24d-8b53a9463978",
   "metadata": {},
   "source": [
    "### Dimensions\n",
    "\n",
    "你可以为这些参数应用任何有效的 CSS 单位。对于 CSS 单位的全面列表，请参考这个[指南](https://www.w3schools.com/cssref/css_units.php)。我们建议您始终考虑响应性，并在各种屏幕尺寸上测试您的界面，以确保一致的用户体验。"
   ]
  },
  {
   "cell_type": "code",
   "execution_count": 50,
   "id": "e22b5a70-9eb9-4ced-9d42-8ecce851a02b",
   "metadata": {
    "execution": {
     "iopub.execute_input": "2024-05-15T13:26:10.079954Z",
     "iopub.status.busy": "2024-05-15T13:26:10.079239Z",
     "iopub.status.idle": "2024-05-15T13:26:10.607590Z",
     "shell.execute_reply": "2024-05-15T13:26:10.606806Z",
     "shell.execute_reply.started": "2024-05-15T13:26:10.079881Z"
    }
   },
   "outputs": [
    {
     "name": "stdout",
     "output_type": "stream",
     "text": [
      "Closing server running on port: 7878\n",
      "Running on local URL:  http://15.15.174.4:7878\n",
      "\n",
      "To create a public link, set `share=True` in `launch()`.\n"
     ]
    },
    {
     "data": {
      "text/html": [
       "<div><iframe src=\"http://15.15.174.4:7878/\" width=\"100%\" height=\"500\" allow=\"autoplay; camera; microphone; clipboard-read; clipboard-write;\" frameborder=\"0\" allowfullscreen></iframe></div>"
      ],
      "text/plain": [
       "<IPython.core.display.HTML object>"
      ]
     },
     "metadata": {},
     "output_type": "display_data"
    },
    {
     "data": {
      "text/plain": []
     },
     "execution_count": 50,
     "metadata": {},
     "output_type": "execute_result"
    }
   ],
   "source": [
    "if demo is not None:\n",
    "    demo.close()\n",
    "\n",
    "import gradio as gr\n",
    "\n",
    "css = \"\"\"\n",
    ".container {\n",
    "    height: 100vh;\n",
    "}\n",
    "\"\"\"\n",
    "\n",
    "with gr.Blocks(css=css) as demo:\n",
    "    with gr.Column(elem_classes=[\"container\"]):\n",
    "        name = gr.Chatbot(value=[[\"1\", \"2\"]], height=\"70%\")\n",
    "\n",
    "demo.launch(server_name=server_name, server_port=server_port, share=False,debug=False)"
   ]
  },
  {
   "cell_type": "markdown",
   "id": "95f83a74-c69f-4dd6-a06f-0553c0671b7a",
   "metadata": {},
   "source": [
    "### Tabs and Accordions"
   ]
  },
  {
   "cell_type": "code",
   "execution_count": 51,
   "id": "35d7efde-fecb-46ba-9dd3-61e5a2b09036",
   "metadata": {
    "execution": {
     "iopub.execute_input": "2024-05-15T13:30:30.520245Z",
     "iopub.status.busy": "2024-05-15T13:30:30.519464Z",
     "iopub.status.idle": "2024-05-15T13:30:30.985958Z",
     "shell.execute_reply": "2024-05-15T13:30:30.985061Z",
     "shell.execute_reply.started": "2024-05-15T13:30:30.520150Z"
    }
   },
   "outputs": [
    {
     "name": "stdout",
     "output_type": "stream",
     "text": [
      "Closing server running on port: 7878\n",
      "Running on local URL:  http://15.15.174.4:7878\n",
      "\n",
      "To create a public link, set `share=True` in `launch()`.\n"
     ]
    },
    {
     "data": {
      "text/html": [
       "<div><iframe src=\"http://15.15.174.4:7878/\" width=\"100%\" height=\"500\" allow=\"autoplay; camera; microphone; clipboard-read; clipboard-write;\" frameborder=\"0\" allowfullscreen></iframe></div>"
      ],
      "text/plain": [
       "<IPython.core.display.HTML object>"
      ]
     },
     "metadata": {},
     "output_type": "display_data"
    },
    {
     "data": {
      "text/plain": []
     },
     "execution_count": 51,
     "metadata": {},
     "output_type": "execute_result"
    }
   ],
   "source": [
    "if demo is not None:\n",
    "    demo.close()\n",
    "\n",
    "import numpy as np\n",
    "import gradio as gr\n",
    "\n",
    "\n",
    "def flip_text(x):\n",
    "    return x[::-1]\n",
    "\n",
    "\n",
    "def flip_image(x):\n",
    "    return np.fliplr(x)\n",
    "\n",
    "\n",
    "with gr.Blocks() as demo:\n",
    "    gr.Markdown(\"Flip text or image files using this demo.\")\n",
    "    with gr.Tab(\"Flip Text\"):\n",
    "        text_input = gr.Textbox()\n",
    "        text_output = gr.Textbox()\n",
    "        text_button = gr.Button(\"Flip\")\n",
    "    with gr.Tab(\"Flip Image\"):\n",
    "        with gr.Row():\n",
    "            image_input = gr.Image()\n",
    "            image_output = gr.Image()\n",
    "        image_button = gr.Button(\"Flip\")\n",
    "\n",
    "    with gr.Accordion(\"Open for More!\", open=False):\n",
    "        gr.Markdown(\"Look at me...\")\n",
    "        temp_slider = gr.Slider(\n",
    "            minimum=0.0,\n",
    "            maximum=1.0,\n",
    "            value=0.1,\n",
    "            step=0.1,\n",
    "            interactive=True,\n",
    "            label=\"Slide me\",\n",
    "        )\n",
    "        temp_slider.change(lambda x: x, [temp_slider])\n",
    "\n",
    "    text_button.click(flip_text, inputs=text_input, outputs=text_output)\n",
    "    image_button.click(flip_image, inputs=image_input, outputs=image_output)\n",
    "\n",
    "demo.launch(server_name=server_name, server_port=server_port, share=False,debug=False)"
   ]
  },
  {
   "cell_type": "markdown",
   "id": "2201a7fd-4f49-4ae2-b913-a87ff69844f2",
   "metadata": {},
   "source": [
    "### Visibility"
   ]
  },
  {
   "cell_type": "code",
   "execution_count": 9,
   "id": "8691542c-0833-4bcd-a56d-a73e3e817900",
   "metadata": {
    "execution": {
     "iopub.execute_input": "2024-05-22T10:59:31.189074Z",
     "iopub.status.busy": "2024-05-22T10:59:31.188116Z",
     "iopub.status.idle": "2024-05-22T10:59:31.698608Z",
     "shell.execute_reply": "2024-05-22T10:59:31.697752Z",
     "shell.execute_reply.started": "2024-05-22T10:59:31.188998Z"
    }
   },
   "outputs": [
    {
     "name": "stdout",
     "output_type": "stream",
     "text": [
      "Closing server running on port: 7878\n",
      "Running on local URL:  http://15.15.174.4:7878\n",
      "\n",
      "To create a public link, set `share=True` in `launch()`.\n"
     ]
    },
    {
     "data": {
      "text/html": [
       "<div><iframe src=\"http://15.15.174.4:7878/\" width=\"100%\" height=\"500\" allow=\"autoplay; camera; microphone; clipboard-read; clipboard-write;\" frameborder=\"0\" allowfullscreen></iframe></div>"
      ],
      "text/plain": [
       "<IPython.core.display.HTML object>"
      ]
     },
     "metadata": {},
     "output_type": "display_data"
    },
    {
     "data": {
      "text/plain": []
     },
     "execution_count": 9,
     "metadata": {},
     "output_type": "execute_result"
    }
   ],
   "source": [
    "if demo is not None:\n",
    "    demo.close()\n",
    "\n",
    "import gradio as gr\n",
    "\n",
    "with gr.Blocks() as demo:\n",
    "    error_box = gr.Textbox(label=\"Error\", visible=False)\n",
    "\n",
    "    name_box = gr.Textbox(label=\"Name\")\n",
    "    age_box = gr.Number(label=\"Age\", minimum=0, maximum=100)\n",
    "    symptoms_box = gr.CheckboxGroup([\"Cough\", \"Fever\", \"Runny Nose\"])\n",
    "    submit_btn = gr.Button(\"Submit\")\n",
    "\n",
    "    with gr.Column(visible=False) as output_col:\n",
    "        diagnosis_box = gr.Textbox(label=\"Diagnosis\")\n",
    "        patient_summary_box = gr.Textbox(label=\"Patient Summary\")\n",
    "\n",
    "    def submit(name, age, symptoms):\n",
    "        if len(name) == 0:\n",
    "            return {error_box: gr.Textbox(value=\"Enter name\", visible=True)}\n",
    "        return {\n",
    "            error_box: gr.Textbox(value=\"Enter name\", visible=False),\n",
    "            output_col: gr.Column(visible=True),\n",
    "            diagnosis_box: \"covid\" if \"Cough\" in symptoms else \"flu\",\n",
    "            patient_summary_box: f\"{name}, {age} y/o\",\n",
    "        }\n",
    "\n",
    "    submit_btn.click(\n",
    "        submit,\n",
    "        [name_box, age_box, symptoms_box],\n",
    "        [error_box, diagnosis_box, patient_summary_box, output_col],\n",
    "    )\n",
    "\n",
    "demo.launch(server_name=server_name, server_port=server_port, share=False,debug=False)"
   ]
  },
  {
   "cell_type": "markdown",
   "id": "52b447af-7b58-4163-95ab-9667b71b373f",
   "metadata": {},
   "source": [
    "### Variable Number of Outputs\n",
    "\n",
    "通过以动态方式调整组件的可见性，可以创建支持可变输出数量的 Gradio 演示。以下是一个非常简单的示例，其中输出文本框的数量由输入滑块控制："
   ]
  },
  {
   "cell_type": "code",
   "execution_count": 54,
   "id": "5f3296dc-0b5c-4b9f-b3c8-eb63afd6d565",
   "metadata": {
    "execution": {
     "iopub.execute_input": "2024-05-15T13:44:37.728106Z",
     "iopub.status.busy": "2024-05-15T13:44:37.727745Z",
     "iopub.status.idle": "2024-05-15T13:44:38.229376Z",
     "shell.execute_reply": "2024-05-15T13:44:38.228589Z",
     "shell.execute_reply.started": "2024-05-15T13:44:37.728073Z"
    }
   },
   "outputs": [
    {
     "name": "stdout",
     "output_type": "stream",
     "text": [
      "Closing server running on port: 7878\n",
      "Running on local URL:  http://15.15.174.4:7878\n",
      "\n",
      "To create a public link, set `share=True` in `launch()`.\n"
     ]
    },
    {
     "data": {
      "text/html": [
       "<div><iframe src=\"http://15.15.174.4:7878/\" width=\"100%\" height=\"500\" allow=\"autoplay; camera; microphone; clipboard-read; clipboard-write;\" frameborder=\"0\" allowfullscreen></iframe></div>"
      ],
      "text/plain": [
       "<IPython.core.display.HTML object>"
      ]
     },
     "metadata": {},
     "output_type": "display_data"
    },
    {
     "data": {
      "text/plain": []
     },
     "execution_count": 54,
     "metadata": {},
     "output_type": "execute_result"
    }
   ],
   "source": [
    "if demo is not None:\n",
    "    demo.close()\n",
    "\n",
    "import gradio as gr\n",
    "\n",
    "max_textboxes = 10\n",
    "\n",
    "def variable_outputs(k):\n",
    "    k = int(k)\n",
    "    return [gr.Textbox(visible=True)]*k + [gr.Textbox(visible=False)]*(max_textboxes-k)\n",
    "\n",
    "with gr.Blocks() as demo:\n",
    "    s = gr.Slider(1, max_textboxes, value=max_textboxes, step=1, label=\"How many textboxes to show:\")\n",
    "    textboxes = []\n",
    "    for i in range(max_textboxes):\n",
    "        t = gr.Textbox(f\"Textbox {i}\")\n",
    "        textboxes.append(t)\n",
    "\n",
    "    s.change(variable_outputs, s, textboxes)\n",
    "\n",
    "demo.launch(server_name=server_name, server_port=server_port, share=False,debug=False)"
   ]
  },
  {
   "cell_type": "markdown",
   "id": "bdeab666-b958-42da-ba90-17207d8b7ded",
   "metadata": {},
   "source": [
    "### Adding custom JavaScript to your demo"
   ]
  },
  {
   "cell_type": "code",
   "execution_count": 15,
   "id": "3122bae6-4eba-406e-8f46-9a3fbd325b1f",
   "metadata": {
    "execution": {
     "iopub.execute_input": "2024-05-22T14:37:41.307459Z",
     "iopub.status.busy": "2024-05-22T14:37:41.307087Z",
     "iopub.status.idle": "2024-05-22T14:37:41.744215Z",
     "shell.execute_reply": "2024-05-22T14:37:41.743446Z",
     "shell.execute_reply.started": "2024-05-22T14:37:41.307426Z"
    }
   },
   "outputs": [
    {
     "name": "stdout",
     "output_type": "stream",
     "text": [
      "Closing server running on port: 7878\n",
      "Running on local URL:  http://15.15.174.4:7878\n",
      "\n",
      "To create a public link, set `share=True` in `launch()`.\n"
     ]
    },
    {
     "data": {
      "text/html": [
       "<div><iframe src=\"http://15.15.174.4:7878/\" width=\"100%\" height=\"500\" allow=\"autoplay; camera; microphone; clipboard-read; clipboard-write;\" frameborder=\"0\" allowfullscreen></iframe></div>"
      ],
      "text/plain": [
       "<IPython.core.display.HTML object>"
      ]
     },
     "metadata": {},
     "output_type": "display_data"
    },
    {
     "data": {
      "text/plain": []
     },
     "execution_count": 15,
     "metadata": {},
     "output_type": "execute_result"
    }
   ],
   "source": [
    "if demo is not None:\n",
    "    demo.close()\n",
    "\n",
    "import gradio as gr\n",
    "\n",
    "def welcome(name):\n",
    "    return f\"Welcome to Gradio, {name}!\"\n",
    "\n",
    "js = \"\"\"\n",
    "function createGradioAnimation() {\n",
    "    var container = document.createElement('div');\n",
    "    container.id = 'gradio-animation';\n",
    "    container.style.fontSize = '2em';\n",
    "    container.style.fontWeight = 'bold';\n",
    "    container.style.textAlign = 'center';\n",
    "    container.style.marginBottom = '20px';\n",
    "\n",
    "    var text = 'Welcome to Gradio!';\n",
    "    for (var i = 0; i < text.length; i++) {\n",
    "        (function(i){\n",
    "            setTimeout(function(){\n",
    "                var letter = document.createElement('span');\n",
    "                letter.style.opacity = '0';\n",
    "                letter.style.transition = 'opacity 0.5s';\n",
    "                letter.innerText = text[i];\n",
    "\n",
    "                container.appendChild(letter);\n",
    "\n",
    "                setTimeout(function() {\n",
    "                    letter.style.opacity = '1';\n",
    "                }, 50);\n",
    "            }, i * 250);\n",
    "        })(i);\n",
    "    }\n",
    "\n",
    "    var gradioContainer = document.querySelector('.gradio-container');\n",
    "    gradioContainer.insertBefore(container, gradioContainer.firstChild);\n",
    "\n",
    "    return 'Animation created';\n",
    "}\n",
    "\"\"\"\n",
    "with gr.Blocks(js=js) as demo:\n",
    "    inp = gr.Textbox(placeholder=\"What is your name?\")\n",
    "    out = gr.Textbox()\n",
    "    inp.change(welcome, inp, out)\n",
    "\n",
    "\n",
    "demo.launch(server_name=server_name, server_port=server_port, share=False,debug=False)"
   ]
  },
  {
   "cell_type": "code",
   "execution_count": 18,
   "id": "7ddc8d57-7014-424c-89ef-87f6a0dc431e",
   "metadata": {
    "execution": {
     "iopub.execute_input": "2024-05-23T08:26:02.534278Z",
     "iopub.status.busy": "2024-05-23T08:26:02.533813Z",
     "iopub.status.idle": "2024-05-23T08:26:02.704712Z",
     "shell.execute_reply": "2024-05-23T08:26:02.703591Z",
     "shell.execute_reply.started": "2024-05-23T08:26:02.534242Z"
    }
   },
   "outputs": [
    {
     "name": "stdout",
     "output_type": "stream",
     "text": [
      "Closing server running on port: 7878\n"
     ]
    },
    {
     "ename": "NameError",
     "evalue": "name 'google_analytics_tracking_id' is not defined",
     "output_type": "error",
     "traceback": [
      "\u001b[0;31m---------------------------------------------------------------------------\u001b[0m",
      "\u001b[0;31mNameError\u001b[0m                                 Traceback (most recent call last)",
      "Cell \u001b[0;32mIn[18], line 7\u001b[0m\n\u001b[1;32m      2\u001b[0m     demo\u001b[38;5;241m.\u001b[39mclose()\n\u001b[1;32m      4\u001b[0m \u001b[38;5;28;01mimport\u001b[39;00m \u001b[38;5;21;01mgradio\u001b[39;00m \u001b[38;5;28;01mas\u001b[39;00m \u001b[38;5;21;01mgr\u001b[39;00m\n\u001b[1;32m      6\u001b[0m head \u001b[38;5;241m=\u001b[39m \u001b[38;5;124mf\u001b[39m\u001b[38;5;124m\"\"\"\u001b[39m\n\u001b[0;32m----> 7\u001b[0m \u001b[38;5;124m<script async src=\u001b[39m\u001b[38;5;124m\"\u001b[39m\u001b[38;5;124mhttps://www.googletagmanager.com/gtag/js?id=\u001b[39m\u001b[38;5;132;01m{\u001b[39;00m\u001b[43mgoogle_analytics_tracking_id\u001b[49m\u001b[38;5;132;01m}\u001b[39;00m\u001b[38;5;124m\"\u001b[39m\u001b[38;5;124m></script>\u001b[39m\n\u001b[1;32m      8\u001b[0m \u001b[38;5;124m<script>\u001b[39m\n\u001b[1;32m      9\u001b[0m \u001b[38;5;124m  window.dataLayer = window.dataLayer || [];\u001b[39m\n\u001b[1;32m     10\u001b[0m \u001b[38;5;124m  function gtag()\u001b[39m\u001b[38;5;130;01m{{\u001b[39;00m\u001b[38;5;124mdataLayer.push(arguments);\u001b[39m\u001b[38;5;130;01m}}\u001b[39;00m\n\u001b[1;32m     11\u001b[0m \u001b[38;5;124m  gtag(\u001b[39m\u001b[38;5;124m'\u001b[39m\u001b[38;5;124mjs\u001b[39m\u001b[38;5;124m'\u001b[39m\u001b[38;5;124m, new Date());\u001b[39m\n\u001b[1;32m     12\u001b[0m \u001b[38;5;124m  gtag(\u001b[39m\u001b[38;5;124m'\u001b[39m\u001b[38;5;124mconfig\u001b[39m\u001b[38;5;124m'\u001b[39m\u001b[38;5;124m, \u001b[39m\u001b[38;5;124m'\u001b[39m\u001b[38;5;132;01m{\u001b[39;00mgoogle_analytics_tracking_id\u001b[38;5;132;01m}\u001b[39;00m\u001b[38;5;124m'\u001b[39m\u001b[38;5;124m);\u001b[39m\n\u001b[1;32m     13\u001b[0m \u001b[38;5;124m</script>\u001b[39m\n\u001b[1;32m     14\u001b[0m \u001b[38;5;124m\"\"\"\u001b[39m\n\u001b[1;32m     16\u001b[0m blocks \u001b[38;5;241m=\u001b[39m gr\u001b[38;5;241m.\u001b[39mBlocks(head\u001b[38;5;241m=\u001b[39mhead)\n\u001b[1;32m     18\u001b[0m \u001b[38;5;28;01mwith\u001b[39;00m blocks \u001b[38;5;28;01mas\u001b[39;00m demo:\n",
      "\u001b[0;31mNameError\u001b[0m: name 'google_analytics_tracking_id' is not defined"
     ]
    }
   ],
   "source": [
    "if demo is not None:\n",
    "    demo.close()\n",
    "\n",
    "import gradio as gr\n",
    "\n",
    "head = f\"\"\"\n",
    "<script async src=\"https://www.googletagmanager.com/gtag/js?id={google_analytics_tracking_id}\"></script>\n",
    "<script>\n",
    "  window.dataLayer = window.dataLayer || [];\n",
    "  function gtag(){{dataLayer.push(arguments);}}\n",
    "  gtag('js', new Date());\n",
    "  gtag('config', '{google_analytics_tracking_id}');\n",
    "</script>\n",
    "\"\"\"\n",
    "\n",
    "blocks = gr.Blocks(head=head)\n",
    "\n",
    "with blocks as demo:\n",
    "    subject = gr.Textbox(placeholder=\"subject\")\n",
    "    verb = gr.Radio([\"ate\", \"loved\", \"hated\"])\n",
    "    object = gr.Textbox(placeholder=\"object\")\n",
    "\n",
    "    with gr.Row():\n",
    "        btn = gr.Button(\"Create sentence.\")\n",
    "        reverse_btn = gr.Button(\"Reverse sentence.\")\n",
    "        foo_bar_btn = gr.Button(\"Append foo\")\n",
    "        reverse_then_to_the_server_btn = gr.Button(\n",
    "            \"Reverse sentence and send to server.\"\n",
    "        )\n",
    "\n",
    "    def sentence_maker(w1, w2, w3):\n",
    "        return f\"{w1} {w2} {w3}\"\n",
    "\n",
    "    output1 = gr.Textbox(label=\"output 1\")\n",
    "    output2 = gr.Textbox(label=\"verb\")\n",
    "    output3 = gr.Textbox(label=\"verb reversed\")\n",
    "    output4 = gr.Textbox(label=\"front end process and then send to backend\")\n",
    "\n",
    "    btn.click(sentence_maker, [subject, verb, object], output1)\n",
    "    reverse_btn.click(\n",
    "        None, [subject, verb, object], output2, js=\"(s, v, o) => o + ' ' + v + ' ' + s\"\n",
    "    )\n",
    "    verb.change(lambda x: x, verb, output3, js=\"(x) => [...x].reverse().join('')\")\n",
    "    foo_bar_btn.click(None, [], subject, js=\"(x) => x + ' foo'\")\n",
    "\n",
    "    reverse_then_to_the_server_btn.click(\n",
    "        sentence_maker,\n",
    "        [subject, verb, object],\n",
    "        output4,\n",
    "        js=\"(s, v, o) => [s, v, o].map(x => [...x].reverse().join(''))\",\n",
    "    )\n",
    "\n",
    "demo.launch(server_name=server_name, server_port=server_port, share=False,debug=False)"
   ]
  },
  {
   "cell_type": "code",
   "execution_count": 17,
   "id": "5c919d1a-8e44-452a-8ee4-45fef5d24dc9",
   "metadata": {
    "execution": {
     "iopub.execute_input": "2024-05-22T14:40:16.838562Z",
     "iopub.status.busy": "2024-05-22T14:40:16.838187Z",
     "iopub.status.idle": "2024-05-22T14:40:17.100465Z",
     "shell.execute_reply": "2024-05-22T14:40:17.099623Z",
     "shell.execute_reply.started": "2024-05-22T14:40:16.838530Z"
    }
   },
   "outputs": [
    {
     "name": "stdout",
     "output_type": "stream",
     "text": [
      "Running on local URL:  http://15.15.174.4:7878\n",
      "\n",
      "To create a public link, set `share=True` in `launch()`.\n"
     ]
    },
    {
     "data": {
      "text/html": [
       "<div><iframe src=\"http://15.15.174.4:7878/\" width=\"100%\" height=\"500\" allow=\"autoplay; camera; microphone; clipboard-read; clipboard-write;\" frameborder=\"0\" allowfullscreen></iframe></div>"
      ],
      "text/plain": [
       "<IPython.core.display.HTML object>"
      ]
     },
     "metadata": {},
     "output_type": "display_data"
    },
    {
     "data": {
      "text/plain": []
     },
     "execution_count": 17,
     "metadata": {},
     "output_type": "execute_result"
    }
   ],
   "source": [
    "if demo is not None:\n",
    "    demo.close()\n",
    "\n",
    "import gradio as gr\n",
    "\n",
    "js = \"(x) => confirm('Press a button!')\"\n",
    "\n",
    "with gr.Blocks() as demo:\n",
    "    btn = gr.Button()\n",
    "    checkbox = gr.Checkbox()\n",
    "    \n",
    "    btn.click(None, None, checkbox, js=js)\n",
    "    \n",
    "\n",
    "\n",
    "demo.launch(server_name=server_name, server_port=server_port, share=False,debug=False)"
   ]
  },
  {
   "cell_type": "markdown",
   "id": "69f80a58-bb6a-46c7-bdb8-e958249fa66e",
   "metadata": {},
   "source": [
    "### Treating Blocks like functions "
   ]
  },
  {
   "cell_type": "code",
   "execution_count": 2,
   "id": "d0316942-efc0-4343-babc-6c0ccce43d6e",
   "metadata": {
    "execution": {
     "iopub.execute_input": "2024-05-15T14:47:06.625703Z",
     "iopub.status.busy": "2024-05-15T14:47:06.624592Z",
     "iopub.status.idle": "2024-05-15T14:47:14.489006Z",
     "shell.execute_reply": "2024-05-15T14:47:14.488083Z",
     "shell.execute_reply.started": "2024-05-15T14:47:06.625621Z"
    }
   },
   "outputs": [
    {
     "name": "stderr",
     "output_type": "stream",
     "text": [
      "/home/grid/miniconda3/envs/dev/lib/python3.10/site-packages/transformers/pipelines/__init__.py:1087: UserWarning: \"translation\" task was used, instead of \"translation_XX_to_YY\", defaulting to \"translation_en_to_de\"\n",
      "  warnings.warn(\n"
     ]
    },
    {
     "name": "stdout",
     "output_type": "stream",
     "text": [
      "Running on local URL:  http://15.15.174.4:7878\n",
      "\n",
      "To create a public link, set `share=True` in `launch()`.\n"
     ]
    },
    {
     "data": {
      "text/html": [
       "<div><iframe src=\"http://15.15.174.4:7878/\" width=\"100%\" height=\"500\" allow=\"autoplay; camera; microphone; clipboard-read; clipboard-write;\" frameborder=\"0\" allowfullscreen></iframe></div>"
      ],
      "text/plain": [
       "<IPython.core.display.HTML object>"
      ]
     },
     "metadata": {},
     "output_type": "display_data"
    },
    {
     "data": {
      "text/plain": []
     },
     "execution_count": 2,
     "metadata": {},
     "output_type": "execute_result"
    }
   ],
   "source": [
    "if demo is not None:\n",
    "    demo.close()\n",
    "\n",
    "import gradio as gr\n",
    "\n",
    "from transformers import pipeline\n",
    "\n",
    "pipe = pipeline(\"translation\", model=\"t5-base\")\n",
    "\n",
    "\n",
    "def translate(text):\n",
    "    return pipe(text)[0][\"translation_text\"]\n",
    "\n",
    "\n",
    "with gr.Blocks() as demo:\n",
    "    with gr.Row():\n",
    "        with gr.Column():\n",
    "            english = gr.Textbox(label=\"English text\")\n",
    "            translate_btn = gr.Button(value=\"Translate\")\n",
    "        with gr.Column():\n",
    "            german = gr.Textbox(label=\"German Text\")\n",
    "\n",
    "    translate_btn.click(translate, inputs=english, outputs=german, api_name=\"translate-to-german\")\n",
    "    examples = gr.Examples(examples=[\"I went to the supermarket yesterday.\", \"Helen is a good swimmer.\"],\n",
    "                           inputs=[english])\n",
    "\n",
    "\n",
    "demo.launch(server_name=server_name, server_port=server_port, share=False,debug=False)"
   ]
  },
  {
   "cell_type": "code",
   "execution_count": 2,
   "id": "6d0da65b-26ef-47b6-ae0f-e0cbc9dc4499",
   "metadata": {
    "execution": {
     "iopub.execute_input": "2024-05-15T14:59:33.372799Z",
     "iopub.status.busy": "2024-05-15T14:59:33.372231Z",
     "iopub.status.idle": "2024-05-15T14:59:44.002753Z",
     "shell.execute_reply": "2024-05-15T14:59:44.001940Z",
     "shell.execute_reply.started": "2024-05-15T14:59:33.372764Z"
    }
   },
   "outputs": [
    {
     "name": "stdout",
     "output_type": "stream",
     "text": [
      "Fetching Space from: https://huggingface.co/spaces/gradio/english_translator\n",
      "Loaded as API: https://gradio-english-translator.hf.space ✔\n",
      "Running on local URL:  http://127.0.0.1:7860\n",
      "\n",
      "To create a public link, set `share=True` in `launch()`.\n"
     ]
    },
    {
     "data": {
      "text/html": [
       "<div><iframe src=\"http://127.0.0.1:7860/\" width=\"100%\" height=\"500\" allow=\"autoplay; camera; microphone; clipboard-read; clipboard-write;\" frameborder=\"0\" allowfullscreen></iframe></div>"
      ],
      "text/plain": [
       "<IPython.core.display.HTML object>"
      ]
     },
     "metadata": {},
     "output_type": "display_data"
    },
    {
     "name": "stdout",
     "output_type": "stream",
     "text": [
      "Rerunning server... use `close()` to stop if you need to change `launch()` parameters.\n",
      "----\n",
      "\n",
      "To create a public link, set `share=True` in `launch()`.\n"
     ]
    },
    {
     "data": {
      "text/html": [
       "<div><iframe src=\"http://127.0.0.1:7860/\" width=\"100%\" height=\"500\" allow=\"autoplay; camera; microphone; clipboard-read; clipboard-write;\" frameborder=\"0\" allowfullscreen></iframe></div>"
      ],
      "text/plain": [
       "<IPython.core.display.HTML object>"
      ]
     },
     "metadata": {},
     "output_type": "display_data"
    },
    {
     "data": {
      "text/plain": []
     },
     "execution_count": 2,
     "metadata": {},
     "output_type": "execute_result"
    }
   ],
   "source": [
    "if demo is not None:\n",
    "    demo.close()\n",
    "\n",
    "import gradio as gr\n",
    "\n",
    "from transformers import pipeline\n",
    "\n",
    "english_translator = gr.load(name=\"spaces/gradio/english_translator\")\n",
    "english_generator = pipeline(\"text-generation\", model=\"distilgpt2\")\n",
    "\n",
    "\n",
    "def generate_text(text):\n",
    "    english_text = english_generator(text)[0][\"generated_text\"]\n",
    "    german_text = english_translator(english_text)\n",
    "    return english_text, german_text\n",
    "\n",
    "\n",
    "with gr.Blocks() as demo:\n",
    "    with gr.Row():\n",
    "        with gr.Column():\n",
    "            seed = gr.Text(label=\"Input Phrase\")\n",
    "        with gr.Column():\n",
    "            english = gr.Text(label=\"Generated English Text\")\n",
    "            german = gr.Text(label=\"Generated German Text\")\n",
    "    btn = gr.Button(\"Generate\")\n",
    "    btn.click(generate_text, inputs=[seed], outputs=[english, german])\n",
    "    gr.Examples([\"My name is Clara and I am\"], inputs=[seed])\n",
    "\n",
    "demo.launch()\n",
    "\n",
    "demo.launch(server_name=server_name, server_port=server_port, share=False,debug=False)"
   ]
  },
  {
   "cell_type": "code",
   "execution_count": null,
   "id": "dc3935eb-ef9e-490a-a6ae-2bbcd2a6503e",
   "metadata": {},
   "outputs": [],
   "source": []
  },
  {
   "cell_type": "code",
   "execution_count": null,
   "id": "0d308699-29c5-4516-8094-e332cb7f732b",
   "metadata": {},
   "outputs": [],
   "source": []
  },
  {
   "cell_type": "code",
   "execution_count": null,
   "id": "8456dda0-f8b7-4b07-bb94-98bb5360b1c5",
   "metadata": {},
   "outputs": [],
   "source": []
  }
 ],
 "metadata": {
  "kernelspec": {
   "display_name": "Python 3 (ipykernel)",
   "language": "python",
   "name": "python3"
  },
  "language_info": {
   "codemirror_mode": {
    "name": "ipython",
    "version": 3
   },
   "file_extension": ".py",
   "mimetype": "text/x-python",
   "name": "python",
   "nbconvert_exporter": "python",
   "pygments_lexer": "ipython3",
   "version": "3.10.14"
  }
 },
 "nbformat": 4,
 "nbformat_minor": 5
}
