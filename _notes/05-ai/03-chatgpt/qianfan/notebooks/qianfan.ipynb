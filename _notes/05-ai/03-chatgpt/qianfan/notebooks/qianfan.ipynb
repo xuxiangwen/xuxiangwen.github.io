{
 "cells": [
  {
   "cell_type": "code",
   "execution_count": null,
   "id": "979af2db-44b8-4e15-a7e4-542793db9659",
   "metadata": {},
   "outputs": [],
   "source": [
    "# !pip install qianfan"
   ]
  },
  {
   "cell_type": "code",
   "execution_count": 1,
   "id": "6977cc87-2d85-44ae-8b89-19550dc6331c",
   "metadata": {
    "execution": {
     "iopub.execute_input": "2024-05-06T07:38:47.395883Z",
     "iopub.status.busy": "2024-05-06T07:38:47.391875Z",
     "iopub.status.idle": "2024-05-06T07:38:49.866722Z",
     "shell.execute_reply": "2024-05-06T07:38:49.866722Z",
     "shell.execute_reply.started": "2024-05-06T07:38:47.395883Z"
    }
   },
   "outputs": [
    {
     "name": "stdout",
     "output_type": "stream",
     "text": [
      "QIANFAN_AK=HCCPsQy5p0Ex1rSEL6oorGQb\n",
      "QIANFAN_SK=TCVRfPCfbtLr0eDPZRXcywMxcgaNuLDE\n",
      "OPENAI_API_KEY=\n"
     ]
    }
   ],
   "source": [
    "import os\n",
    "import datetime\n",
    "import qianfan, openai\n",
    "from langchain.chat_models import ChatOpenAI\n",
    "from langchain.chat_models import QianfanChatEndpoint\n",
    "\n",
    "\n",
    "from dotenv import load_dotenv, find_dotenv\n",
    "\n",
    "_ = load_dotenv(find_dotenv())\n",
    "\n",
    "print(f\"QIANFAN_AK={os.environ['QIANFAN_AK']}\")\n",
    "print(f\"QIANFAN_SK={os.environ['QIANFAN_SK']}\")\n",
    "\n",
    "openai.api_key = os.environ.get('OPENAI_API_KEY', '')\n",
    "print(f'OPENAI_API_KEY={openai.api_key}')\n"
   ]
  },
  {
   "cell_type": "markdown",
   "id": "978a33c3-765d-41d8-b6d0-10fa305168df",
   "metadata": {},
   "source": [
    "## LangChain: Models, Prompts and Output Parsers"
   ]
  },
  {
   "cell_type": "markdown",
   "id": "2ba3171c-3c75-453d-bcfd-89e1efa0af12",
   "metadata": {},
   "source": [
    "### Get Access Token for QianFan"
   ]
  },
  {
   "cell_type": "code",
   "execution_count": 4,
   "id": "7d7b5ba6-cfeb-4430-ad37-757f4cdfa31a",
   "metadata": {
    "execution": {
     "iopub.execute_input": "2024-05-04T09:15:29.436493Z",
     "iopub.status.busy": "2024-05-04T09:15:29.435493Z",
     "iopub.status.idle": "2024-05-04T09:15:31.223750Z",
     "shell.execute_reply": "2024-05-04T09:15:31.223750Z",
     "shell.execute_reply.started": "2024-05-04T09:15:29.436493Z"
    }
   },
   "outputs": [
    {
     "data": {
      "text/plain": [
       "{'refresh_token': '25.41b64da34e6359356ff40c2ddc1ac115.315360000.2030174131.282335-65090191',\n",
       " 'expires_in': 2592000,\n",
       " 'session_key': '9mzdDtAJDKtRAWAIjFQvukFl8ifYuT8Gc/ZHUuBm9Wx47TmYrPOjf/2HSMtBT2k/sk6HB6F/wNu/oK4O+Qulu8FQjfj9rw==',\n",
       " 'access_token': '24.5b7b8c6c3bc49e29c53a39cce4620be7.2592000.1717406131.282335-65090191',\n",
       " 'scope': 'public brain_all_scope wenxinworkshop_mgr ai_custom_yiyan_com ai_custom_yiyan_com_eb_instant ai_custom_yiyan_com_bloomz7b1 ai_custom_yiyan_com_emb_text ai_custom_yiyan_com_llama2_7b ai_custom_yiyan_com_llama2_13b ai_custom_yiyan_com_llama2_70b ai_custom_yiyan_com_chatglm2_6b_32k ai_custom_yiyan_com_aquilachat_7b ai_custom_yiyan_com_emb_bge_large_zh ai_custom_yiyan_com_emb_bge_large_en ai_custom_yiyan_com_qianfan_chinese_llama_2_7b ai_custom_qianfan_bloomz_7b_compressed ai_custom_yiyan_com_eb_pro ai_custom_yiyan_com_sd_xl ai_custom_yiyan_com_tokenizer_eb ai_custom_yiyan_com_ai_apaas ai_custom_yiyan_com_qf_chinese_llama_2_13b ai_custom_yiyan_com_sqlcoder_7b ai_custom_yiyan_com_codellama_7b_ins ai_custom_yiyan_com_xuanyuan_70b_chat ai_custom_yiyan_com_yi_34b ai_custom_yiyan_com_chatlaw ai_custom_yiyan_com_emb_tao_8k ai_custom_yiyan_com_eb_turbo_pro ai_custom_yiyan_com_mixtral_8x7b ai_custom_yiyan_com_prmtv ai_custom_yiyan_com_eb_pro_prmtv ai_custom_yiyan_com_eb_turbo_pro_128k ai_custom_yiyan_com_ernie_35_4k_0205 ai_custom_yiyan_com_ernie_35_8k_0205 ai_custom_yiyan_com_ernie_35_8k_1222 ai_custom_yiyan_com_ernie_lite_8k ai_custom_yiyan_com_gemma_7b_it ai_custom_yiyan_com_bce_reranker_base ai_custom_yiyan_com_fuyu_8b ai_custom_yiyan_com_ernie_tiny_8k ai_custom_yiyan_com_ernie_char_8k ai_custom_yiyan_com_ernie_35_8k_preview ai_custom_yiyan_com_ernie_40_8k_preview ai_custom_yiyan_com_ernie_func_8k ai_custom_yiyan_com_llama3_8b ai_custom_yiyan_com_llama3_70b ai_custom_yiyan_com_ernie_40_8k_0104 ai_custom_yiyan_com_ernie_40_8k_0329 ai_custom_yiyan_com_ernie_35_8k_0329 wise_adapt lebo_resource_base lightservice_public hetu_basic lightcms_map_poi kaidian_kaidian ApsMisTest_Test权限 vis-classify_flower lpq_开放 cop_helloScope ApsMis_fangdi_permission smartapp_snsapi_base smartapp_mapp_dev_manage iop_autocar oauth_tp_app smartapp_smart_game_openapi oauth_sessionkey smartapp_swanid_verify smartapp_opensource_openapi smartapp_opensource_recapi fake_face_detect_开放Scope vis-ocr_虚拟人物助理 idl-video_虚拟人物助理 smartapp_component smartapp_search_plugin avatar_video_test b2b_tp_openapi b2b_tp_openapi_online smartapp_gov_aladin_to_xcx',\n",
       " 'session_secret': 'a5436e16336f66c0efcff2cf0a0b8658'}"
      ]
     },
     "execution_count": 4,
     "metadata": {},
     "output_type": "execute_result"
    }
   ],
   "source": [
    "import requests\n",
    "import json\n",
    "\n",
    "url = f\"https://aip.baidubce.com/oauth/2.0/token?client_id={os.environ['QIANFAN_AK']}&client_secret={os.environ['QIANFAN_SK']}&grant_type=client_credentials\"\n",
    "\n",
    "payload = json.dumps(\"\")\n",
    "headers = {\n",
    "    'Content-Type': 'application/json',\n",
    "    'Accept': 'application/json'\n",
    "}\n",
    "\n",
    "response = requests.request(\"POST\", url, headers=headers, data=payload)\n",
    "\n",
    "response = json.loads(response.text)\n",
    "response"
   ]
  },
  {
   "cell_type": "markdown",
   "id": "bfe1c8af-4d83-434e-9020-53559739fe34",
   "metadata": {},
   "source": [
    "### Chat API: ERNIE"
   ]
  },
  {
   "cell_type": "code",
   "execution_count": 3,
   "id": "74a13f89-05cb-4e14-9a10-c678fc51ed64",
   "metadata": {
    "execution": {
     "iopub.execute_input": "2024-05-04T07:55:10.492807Z",
     "iopub.status.busy": "2024-05-04T07:55:10.492807Z",
     "iopub.status.idle": "2024-05-04T07:55:10.504936Z",
     "shell.execute_reply": "2024-05-04T07:55:10.504936Z",
     "shell.execute_reply.started": "2024-05-04T07:55:10.492807Z"
    }
   },
   "outputs": [],
   "source": [
    "def get_completion(prompt, model=\"ERNIE-Bot-4\"):\n",
    "    chat_comp = qianfan.ChatCompletion()\n",
    "    resp = chat_comp.do(model=model, messages=[{\n",
    "        \"role\": \"user\",\n",
    "        \"content\": prompt\n",
    "    }])\n",
    "    return resp[\"body\"][\"result\"]"
   ]
  },
  {
   "cell_type": "code",
   "execution_count": 4,
   "id": "afa6f487-0c81-48eb-80fd-836981a3296d",
   "metadata": {
    "execution": {
     "iopub.execute_input": "2024-04-30T06:54:54.069310Z",
     "iopub.status.busy": "2024-04-30T06:54:54.068307Z",
     "iopub.status.idle": "2024-04-30T06:54:59.433286Z",
     "shell.execute_reply": "2024-04-30T06:54:59.432266Z",
     "shell.execute_reply.started": "2024-04-30T06:54:54.069310Z"
    }
   },
   "outputs": [
    {
     "name": "stderr",
     "output_type": "stream",
     "text": [
      "[INFO] [04-30 14:54:54] oauth.py:222 [t:28816]: trying to refresh access_token for ak `HCCPsQ***`\n",
      "[INFO] [04-30 14:54:55] oauth.py:237 [t:28816]: sucessfully refresh access_token\n"
     ]
    },
    {
     "data": {
      "text/plain": [
       "'你好！很高兴与你交流。请问有什么我可以帮助你的吗？无论是关于生活、工作、学习还是其他方面的问题，我都会尽力为你提供帮助。'"
      ]
     },
     "execution_count": 4,
     "metadata": {},
     "output_type": "execute_result"
    }
   ],
   "source": [
    "get_completion(\"你好\")"
   ]
  },
  {
   "cell_type": "code",
   "execution_count": 5,
   "id": "25c1423f-2b0f-43b2-8dc4-af6856a8bb0c",
   "metadata": {
    "execution": {
     "iopub.execute_input": "2024-04-29T10:06:58.643306Z",
     "iopub.status.busy": "2024-04-29T10:06:58.643306Z",
     "iopub.status.idle": "2024-04-29T10:07:06.205173Z",
     "shell.execute_reply": "2024-04-29T10:07:06.204179Z",
     "shell.execute_reply.started": "2024-04-29T10:06:58.643306Z"
    }
   },
   "outputs": [
    {
     "data": {
      "text/plain": [
       "'计算结果为：$1 + 1 = 2$'"
      ]
     },
     "execution_count": 5,
     "metadata": {},
     "output_type": "execute_result"
    }
   ],
   "source": [
    "get_completion(\"What is 1+1?\")"
   ]
  },
  {
   "cell_type": "code",
   "execution_count": 27,
   "id": "dbb82527-f77c-4af5-b5d7-2b0b4707dee6",
   "metadata": {
    "execution": {
     "iopub.execute_input": "2024-04-30T02:21:27.467482Z",
     "iopub.status.busy": "2024-04-30T02:21:27.466466Z",
     "iopub.status.idle": "2024-04-30T02:21:27.489009Z",
     "shell.execute_reply": "2024-04-30T02:21:27.489009Z",
     "shell.execute_reply.started": "2024-04-30T02:21:27.467482Z"
    }
   },
   "outputs": [],
   "source": [
    "customer_email = \"\"\"\n",
    "Arrr, I be fuming that me blender lid \\\n",
    "flew off and splattered me kitchen walls \\\n",
    "with smoothie! And to make matters worse,\\\n",
    "the warranty don't cover the cost of \\\n",
    "cleaning up me kitchen. I need yer help \\\n",
    "right now, matey!\n",
    "\"\"\""
   ]
  },
  {
   "cell_type": "code",
   "execution_count": 28,
   "id": "bf39f38a-bcb4-4cbd-97d9-6f581cdbe8be",
   "metadata": {
    "execution": {
     "iopub.execute_input": "2024-04-30T02:21:28.636362Z",
     "iopub.status.busy": "2024-04-30T02:21:28.635365Z",
     "iopub.status.idle": "2024-04-30T02:21:28.640870Z",
     "shell.execute_reply": "2024-04-30T02:21:28.640870Z",
     "shell.execute_reply.started": "2024-04-30T02:21:28.636362Z"
    }
   },
   "outputs": [],
   "source": [
    "style = \"\"\"American English \\\n",
    "in a calm and respectful tone\n",
    "\"\"\"\n",
    "\n",
    "style = \"\"\"Chinese \\\n",
    "in a calm and respectful tone\n",
    "\"\"\""
   ]
  },
  {
   "cell_type": "code",
   "execution_count": 29,
   "id": "ca26a3ac-e602-4f65-adff-fd3ad544baea",
   "metadata": {
    "execution": {
     "iopub.execute_input": "2024-04-30T02:21:29.357519Z",
     "iopub.status.busy": "2024-04-30T02:21:29.357519Z",
     "iopub.status.idle": "2024-04-30T02:21:29.366676Z",
     "shell.execute_reply": "2024-04-30T02:21:29.366676Z",
     "shell.execute_reply.started": "2024-04-30T02:21:29.357519Z"
    }
   },
   "outputs": [
    {
     "name": "stdout",
     "output_type": "stream",
     "text": [
      "Translate the text that is delimited by triple backticks \n",
      "into a style that is Chinese in a calm and respectful tone\n",
      ".\n",
      "text: ```\n",
      "Arrr, I be fuming that me blender lid flew off and splattered me kitchen walls with smoothie! And to make matters worse,the warranty don't cover the cost of cleaning up me kitchen. I need yer help right now, matey!\n",
      "```\n",
      "\n"
     ]
    }
   ],
   "source": [
    "prompt = f\"\"\"Translate the text \\\n",
    "that is delimited by triple backticks \n",
    "into a style that is {style}.\n",
    "text: ```{customer_email}```\n",
    "\"\"\"\n",
    "\n",
    "print(prompt)"
   ]
  },
  {
   "cell_type": "code",
   "execution_count": 30,
   "id": "4f6b79cd-f5c7-4482-bb67-c81456293bbe",
   "metadata": {
    "execution": {
     "iopub.execute_input": "2024-04-30T02:21:30.822604Z",
     "iopub.status.busy": "2024-04-30T02:21:30.822604Z",
     "iopub.status.idle": "2024-04-30T02:21:39.816090Z",
     "shell.execute_reply": "2024-04-30T02:21:39.815074Z",
     "shell.execute_reply.started": "2024-04-30T02:21:30.822604Z"
    }
   },
   "outputs": [],
   "source": [
    "response = get_completion(prompt)"
   ]
  },
  {
   "cell_type": "code",
   "execution_count": 31,
   "id": "662c4280-4743-4333-8684-d14d29ded3ad",
   "metadata": {
    "execution": {
     "iopub.execute_input": "2024-04-30T02:21:39.818611Z",
     "iopub.status.busy": "2024-04-30T02:21:39.817595Z",
     "iopub.status.idle": "2024-04-30T02:21:39.832114Z",
     "shell.execute_reply": "2024-04-30T02:21:39.831113Z",
     "shell.execute_reply.started": "2024-04-30T02:21:39.818611Z"
    }
   },
   "outputs": [
    {
     "data": {
      "text/plain": [
       "'哎呀，我真是气死了！我的搅拌机盖子飞了出去，把厨房的墙壁溅得都是果汁！更糟糕的是，保修还不包括清洁厨房的费用。我现在就需要你的帮助，伙计！\\n\\n（注：原文中的语言风格较为口语化、粗俗，且使用了海盗式的说话方式。在翻译成中文时，我尽量保持了原意，但将语言风格调整为更为平静、尊重的方式，以符合中文表达习惯。）'"
      ]
     },
     "execution_count": 31,
     "metadata": {},
     "output_type": "execute_result"
    }
   ],
   "source": [
    "response"
   ]
  },
  {
   "cell_type": "markdown",
   "id": "91f7cf7c-c05d-4052-8fa1-8b145219ecbc",
   "metadata": {
    "execution": {
     "iopub.execute_input": "2024-04-29T10:11:52.457894Z",
     "iopub.status.busy": "2024-04-29T10:11:52.457894Z",
     "iopub.status.idle": "2024-04-29T10:11:52.464895Z",
     "shell.execute_reply": "2024-04-29T10:11:52.463894Z",
     "shell.execute_reply.started": "2024-04-29T10:11:52.457894Z"
    }
   },
   "source": [
    "### Chat API : LangChain"
   ]
  },
  {
   "cell_type": "code",
   "execution_count": 32,
   "id": "fccfe5ad-5d42-420e-acc0-e217e00d589a",
   "metadata": {
    "execution": {
     "iopub.execute_input": "2024-04-30T02:30:36.467710Z",
     "iopub.status.busy": "2024-04-30T02:30:36.467710Z",
     "iopub.status.idle": "2024-04-30T02:30:36.488384Z",
     "shell.execute_reply": "2024-04-30T02:30:36.487392Z",
     "shell.execute_reply.started": "2024-04-30T02:30:36.467710Z"
    }
   },
   "outputs": [],
   "source": [
    "#!pip install --upgrade langchain"
   ]
  },
  {
   "cell_type": "code",
   "execution_count": 2,
   "id": "954e48fd-24c8-4af7-ab3b-0d5e77e9a640",
   "metadata": {
    "execution": {
     "iopub.execute_input": "2024-05-06T07:39:01.221348Z",
     "iopub.status.busy": "2024-05-06T07:39:01.221348Z",
     "iopub.status.idle": "2024-05-06T07:39:01.240746Z",
     "shell.execute_reply": "2024-05-06T07:39:01.239747Z",
     "shell.execute_reply.started": "2024-05-06T07:39:01.221348Z"
    }
   },
   "outputs": [],
   "source": [
    "qianfan_chat = QianfanChatEndpoint(model=\"ERNIE-Bot-4\")"
   ]
  },
  {
   "cell_type": "code",
   "execution_count": 3,
   "id": "03aef247-3e56-41a1-947f-f47f2d6f9413",
   "metadata": {
    "execution": {
     "iopub.execute_input": "2024-05-06T07:39:01.859754Z",
     "iopub.status.busy": "2024-05-06T07:39:01.859754Z",
     "iopub.status.idle": "2024-05-06T07:39:01.991681Z",
     "shell.execute_reply": "2024-05-06T07:39:01.990789Z",
     "shell.execute_reply.started": "2024-05-06T07:39:01.859754Z"
    }
   },
   "outputs": [],
   "source": [
    "from langchain.prompts import ChatPromptTemplate\n",
    "\n",
    "template_string = \"\"\"Translate the text \\\n",
    "that is delimited by triple backticks \\\n",
    "into a style that is {style}. \\\n",
    "text: ```{text}```\n",
    "\"\"\"\n",
    "prompt_template = ChatPromptTemplate.from_template(template_string)"
   ]
  },
  {
   "cell_type": "code",
   "execution_count": 4,
   "id": "d78aea77-2498-4836-b356-6b590dbe4c65",
   "metadata": {
    "execution": {
     "iopub.execute_input": "2024-05-06T07:39:02.391685Z",
     "iopub.status.busy": "2024-05-06T07:39:02.391685Z",
     "iopub.status.idle": "2024-05-06T07:39:02.407885Z",
     "shell.execute_reply": "2024-05-06T07:39:02.406692Z",
     "shell.execute_reply.started": "2024-05-06T07:39:02.391685Z"
    }
   },
   "outputs": [
    {
     "data": {
      "text/plain": [
       "PromptTemplate(input_variables=['style', 'text'], template='Translate the text that is delimited by triple backticks into a style that is {style}. text: ```{text}```\\n')"
      ]
     },
     "execution_count": 4,
     "metadata": {},
     "output_type": "execute_result"
    }
   ],
   "source": [
    "prompt_template.messages[0].prompt"
   ]
  },
  {
   "cell_type": "code",
   "execution_count": 5,
   "id": "efb766c5-87a0-420b-8cde-3d9d9e145f4b",
   "metadata": {
    "execution": {
     "iopub.execute_input": "2024-05-06T07:39:02.898520Z",
     "iopub.status.busy": "2024-05-06T07:39:02.898520Z",
     "iopub.status.idle": "2024-05-06T07:39:02.907679Z",
     "shell.execute_reply": "2024-05-06T07:39:02.906525Z",
     "shell.execute_reply.started": "2024-05-06T07:39:02.898520Z"
    }
   },
   "outputs": [
    {
     "data": {
      "text/plain": [
       "['style', 'text']"
      ]
     },
     "execution_count": 5,
     "metadata": {},
     "output_type": "execute_result"
    }
   ],
   "source": [
    "prompt_template.messages[0].prompt.input_variables"
   ]
  },
  {
   "cell_type": "code",
   "execution_count": 6,
   "id": "9aff41e2-ae00-44e9-9064-2b78102d5e97",
   "metadata": {
    "execution": {
     "iopub.execute_input": "2024-05-06T07:39:03.585123Z",
     "iopub.status.busy": "2024-05-06T07:39:03.585123Z",
     "iopub.status.idle": "2024-05-06T07:39:03.590143Z",
     "shell.execute_reply": "2024-05-06T07:39:03.589124Z",
     "shell.execute_reply.started": "2024-05-06T07:39:03.585123Z"
    }
   },
   "outputs": [],
   "source": [
    "customer_style = \"\"\"Chinese \\\n",
    "in a calm and respectful tone\n",
    "\"\"\"\n",
    "\n",
    "customer_style = \"\"\"American English \\\n",
    "in a calm and respectful tone\n",
    "\"\"\"\n",
    "\n",
    "customer_email = \"\"\"\n",
    "Arrr, I be fuming that me blender lid \\\n",
    "flew off and splattered me kitchen walls \\\n",
    "with smoothie! And to make matters worse, \\\n",
    "the warranty don't cover the cost of \\\n",
    "cleaning up me kitchen. I need yer help \\\n",
    "right now, matey!\n",
    "\"\"\""
   ]
  },
  {
   "cell_type": "code",
   "execution_count": 7,
   "id": "9e9bfdb0-16ec-41a8-ae1f-5b74e4bb3656",
   "metadata": {
    "execution": {
     "iopub.execute_input": "2024-05-06T07:39:04.505699Z",
     "iopub.status.busy": "2024-05-06T07:39:04.505699Z",
     "iopub.status.idle": "2024-05-06T07:39:04.525464Z",
     "shell.execute_reply": "2024-05-06T07:39:04.524463Z",
     "shell.execute_reply.started": "2024-05-06T07:39:04.505699Z"
    }
   },
   "outputs": [],
   "source": [
    "customer_messages = prompt_template.format_messages(\n",
    "                    style=customer_style,\n",
    "                    text=customer_email)"
   ]
  },
  {
   "cell_type": "code",
   "execution_count": 8,
   "id": "df9f8037-8b43-48ce-8b40-9069fa2787af",
   "metadata": {
    "execution": {
     "iopub.execute_input": "2024-05-06T07:39:05.135695Z",
     "iopub.status.busy": "2024-05-06T07:39:05.134684Z",
     "iopub.status.idle": "2024-05-06T07:39:05.139686Z",
     "shell.execute_reply": "2024-05-06T07:39:05.139686Z",
     "shell.execute_reply.started": "2024-05-06T07:39:05.135695Z"
    }
   },
   "outputs": [
    {
     "name": "stdout",
     "output_type": "stream",
     "text": [
      "<class 'list'>\n",
      "<class 'langchain_core.messages.human.HumanMessage'>\n"
     ]
    }
   ],
   "source": [
    "print(type(customer_messages))\n",
    "print(type(customer_messages[0]))"
   ]
  },
  {
   "cell_type": "code",
   "execution_count": 9,
   "id": "ddb6dd12-a724-4721-98f1-76aafc682824",
   "metadata": {
    "execution": {
     "iopub.execute_input": "2024-05-06T07:39:05.906064Z",
     "iopub.status.busy": "2024-05-06T07:39:05.905082Z",
     "iopub.status.idle": "2024-05-06T07:39:17.515566Z",
     "shell.execute_reply": "2024-05-06T07:39:17.515118Z",
     "shell.execute_reply.started": "2024-05-06T07:39:05.906064Z"
    }
   },
   "outputs": [
    {
     "name": "stderr",
     "output_type": "stream",
     "text": [
      "C:\\Users\\xu6\\AppData\\Local\\miniconda3\\envs\\dev\\lib\\site-packages\\langchain_core\\_api\\deprecation.py:119: LangChainDeprecationWarning: The method `BaseChatModel.__call__` was deprecated in langchain-core 0.1.7 and will be removed in 0.2.0. Use invoke instead.\n",
      "  warn_deprecated(\n",
      "[INFO] [05-06 15:39:06] oauth.py:222 [t:20392]: trying to refresh access_token for ak `HCCPsQ***`\n",
      "[INFO] [05-06 15:39:08] oauth.py:237 [t:20392]: sucessfully refresh access_token\n"
     ]
    },
    {
     "name": "stdout",
     "output_type": "stream",
     "text": [
      "Oh man, I'm really frustrated that my blender lid came off and splashed smoothie all over my kitchen walls! And to top it off, the warranty doesn't even cover the cost of cleaning up my kitchen. I really need your help right now, buddy!\n"
     ]
    }
   ],
   "source": [
    "customer_response = qianfan_chat(customer_messages)\n",
    "print(customer_response.content)"
   ]
  },
  {
   "cell_type": "markdown",
   "id": "163a0743-5f35-473e-a984-16e6ec0b7aff",
   "metadata": {},
   "source": [
    "### Output Parsers"
   ]
  },
  {
   "cell_type": "code",
   "execution_count": 48,
   "id": "4fef83e4-1219-43c6-9c50-d3c14bc1e4c3",
   "metadata": {
    "execution": {
     "iopub.execute_input": "2024-04-30T02:52:14.026712Z",
     "iopub.status.busy": "2024-04-30T02:52:14.026712Z",
     "iopub.status.idle": "2024-04-30T02:52:14.046742Z",
     "shell.execute_reply": "2024-04-30T02:52:14.045720Z",
     "shell.execute_reply.started": "2024-04-30T02:52:14.026712Z"
    }
   },
   "outputs": [
    {
     "data": {
      "text/plain": [
       "{'gift': False, 'delivery_days': 5, 'price_value': 'pretty affordable!'}"
      ]
     },
     "execution_count": 48,
     "metadata": {},
     "output_type": "execute_result"
    }
   ],
   "source": [
    "{\n",
    "  \"gift\": False,\n",
    "  \"delivery_days\": 5,\n",
    "  \"price_value\": \"pretty affordable!\"\n",
    "}"
   ]
  },
  {
   "cell_type": "code",
   "execution_count": 49,
   "id": "9edd20f8-ef84-4256-9385-bf1f776bc75f",
   "metadata": {
    "execution": {
     "iopub.execute_input": "2024-04-30T02:52:14.549651Z",
     "iopub.status.busy": "2024-04-30T02:52:14.549651Z",
     "iopub.status.idle": "2024-04-30T02:52:14.558651Z",
     "shell.execute_reply": "2024-04-30T02:52:14.557653Z",
     "shell.execute_reply.started": "2024-04-30T02:52:14.549651Z"
    }
   },
   "outputs": [],
   "source": [
    "customer_review = \"\"\"\\\n",
    "This leaf blower is pretty amazing.  It has four settings:\\\n",
    "candle blower, gentle breeze, windy city, and tornado. \\\n",
    "It arrived in two days, just in time for my wife's \\\n",
    "anniversary present. \\\n",
    "I think my wife liked it so much she was speechless. \\\n",
    "So far I've been the only one using it, and I've been \\\n",
    "using it every other morning to clear the leaves on our lawn. \\\n",
    "It's slightly more expensive than the other leaf blowers \\\n",
    "out there, but I think it's worth it for the extra features.\n",
    "\"\"\"\n",
    "\n",
    "review_template = \"\"\"\\\n",
    "For the following text, extract the following information:\n",
    "\n",
    "gift: Was the item purchased as a gift for someone else? \\\n",
    "Answer True if yes, False if not or unknown.\n",
    "\n",
    "delivery_days: How many days did it take for the product \\\n",
    "to arrive? If this information is not found, output -1.\n",
    "\n",
    "price_value: Extract any sentences about the value or price,\\\n",
    "and output them as a comma separated Python list.\n",
    "\n",
    "Format the output as JSON with the following keys:\n",
    "gift\n",
    "delivery_days\n",
    "price_value\n",
    "\n",
    "text: {text}\n",
    "\"\"\""
   ]
  },
  {
   "cell_type": "code",
   "execution_count": 50,
   "id": "1fe235f5-bb2f-438d-8f51-972370733b55",
   "metadata": {
    "execution": {
     "iopub.execute_input": "2024-04-30T02:52:16.764089Z",
     "iopub.status.busy": "2024-04-30T02:52:16.764089Z",
     "iopub.status.idle": "2024-04-30T02:52:16.782688Z",
     "shell.execute_reply": "2024-04-30T02:52:16.781685Z",
     "shell.execute_reply.started": "2024-04-30T02:52:16.764089Z"
    }
   },
   "outputs": [
    {
     "name": "stdout",
     "output_type": "stream",
     "text": [
      "input_variables=['text'] messages=[HumanMessagePromptTemplate(prompt=PromptTemplate(input_variables=['text'], template='For the following text, extract the following information:\\n\\ngift: Was the item purchased as a gift for someone else? Answer True if yes, False if not or unknown.\\n\\ndelivery_days: How many days did it take for the product to arrive? If this information is not found, output -1.\\n\\nprice_value: Extract any sentences about the value or price,and output them as a comma separated Python list.\\n\\nFormat the output as JSON with the following keys:\\ngift\\ndelivery_days\\nprice_value\\n\\ntext: {text}\\n'))]\n"
     ]
    }
   ],
   "source": [
    "from langchain.prompts import ChatPromptTemplate\n",
    "\n",
    "prompt_template = ChatPromptTemplate.from_template(review_template)\n",
    "print(prompt_template)"
   ]
  },
  {
   "cell_type": "code",
   "execution_count": 51,
   "id": "f8f87d5c-2007-4d41-8f7c-08df03168ed3",
   "metadata": {
    "execution": {
     "iopub.execute_input": "2024-04-30T02:52:27.086055Z",
     "iopub.status.busy": "2024-04-30T02:52:27.086055Z",
     "iopub.status.idle": "2024-04-30T02:52:34.403267Z",
     "shell.execute_reply": "2024-04-30T02:52:34.402268Z",
     "shell.execute_reply.started": "2024-04-30T02:52:27.086055Z"
    }
   },
   "outputs": [
    {
     "name": "stdout",
     "output_type": "stream",
     "text": [
      "```json\n",
      "{\n",
      "  \"gift\": True,\n",
      "  \"delivery_days\": 2,\n",
      "  \"price_value\": [\n",
      "    \"It's slightly more expensive than the other leaf blowers out there\"\n",
      "  ]\n",
      "}\n",
      "```\n"
     ]
    }
   ],
   "source": [
    "messages = prompt_template.format_messages(text=customer_review)\n",
    "chat = QianfanChatEndpoint(model=\"ERNIE-Bot-4\")\n",
    "response = chat(messages)\n",
    "\n",
    "print(response.content)"
   ]
  },
  {
   "cell_type": "code",
   "execution_count": 56,
   "id": "747fff7b-14cd-4b95-94b7-eadfd25fc116",
   "metadata": {
    "execution": {
     "iopub.execute_input": "2024-04-30T02:56:31.993682Z",
     "iopub.status.busy": "2024-04-30T02:56:31.993682Z",
     "iopub.status.idle": "2024-04-30T02:56:32.001693Z",
     "shell.execute_reply": "2024-04-30T02:56:32.001693Z",
     "shell.execute_reply.started": "2024-04-30T02:56:31.993682Z"
    }
   },
   "outputs": [
    {
     "data": {
      "text/plain": [
       "<bound method BaseModel.dict of AIMessage(content='```json\\n{\\n  \"gift\": True,\\n  \"delivery_days\": 2,\\n  \"price_value\": [\\n    \"It\\'s slightly more expensive than the other leaf blowers out there\"\\n  ]\\n}\\n```', additional_kwargs={'finish_reason': 'normal', 'request_id': 'as-nssy60aw2c', 'object': 'chat.completion', 'search_info': [], 'function_call': {}}, response_metadata={'token_usage': {'prompt_tokens': 234, 'completion_tokens': 54, 'total_tokens': 288}, 'model_name': 'ERNIE-Bot-4', 'finish_reason': 'normal', 'id': 'as-nssy60aw2c', 'object': 'chat.completion', 'created': 1714445554, 'result': '```json\\n{\\n  \"gift\": True,\\n  \"delivery_days\": 2,\\n  \"price_value\": [\\n    \"It\\'s slightly more expensive than the other leaf blowers out there\"\\n  ]\\n}\\n```', 'is_truncated': False, 'need_clear_history': False, 'usage': {'prompt_tokens': 234, 'completion_tokens': 54, 'total_tokens': 288}}, id='run-660d7868-306d-4ab3-8800-6d8d616073c2-0')>"
      ]
     },
     "execution_count": 56,
     "metadata": {},
     "output_type": "execute_result"
    }
   ],
   "source": [
    "response.dict"
   ]
  },
  {
   "cell_type": "code",
   "execution_count": 52,
   "id": "aeb0f47b-0601-4c9d-8881-ba7988a11dda",
   "metadata": {
    "execution": {
     "iopub.execute_input": "2024-04-30T02:53:24.722547Z",
     "iopub.status.busy": "2024-04-30T02:53:24.722547Z",
     "iopub.status.idle": "2024-04-30T02:53:24.731984Z",
     "shell.execute_reply": "2024-04-30T02:53:24.730984Z",
     "shell.execute_reply.started": "2024-04-30T02:53:24.722547Z"
    }
   },
   "outputs": [
    {
     "data": {
      "text/plain": [
       "str"
      ]
     },
     "execution_count": 52,
     "metadata": {},
     "output_type": "execute_result"
    }
   ],
   "source": [
    "type(response.content)"
   ]
  },
  {
   "cell_type": "code",
   "execution_count": 74,
   "id": "0ed5c5cc-de24-4478-b425-88b32c05b3ce",
   "metadata": {
    "execution": {
     "iopub.execute_input": "2024-04-30T03:19:47.502289Z",
     "iopub.status.busy": "2024-04-30T03:19:47.502289Z",
     "iopub.status.idle": "2024-04-30T03:19:47.509283Z",
     "shell.execute_reply": "2024-04-30T03:19:47.508294Z",
     "shell.execute_reply.started": "2024-04-30T03:19:47.502289Z"
    }
   },
   "outputs": [
    {
     "name": "stdout",
     "output_type": "stream",
     "text": [
      "```json\n",
      "{\n",
      "  \"gift\": True,\n",
      "  \"delivery_days\": 2,\n",
      "  \"price_value\": [\n",
      "    \"It's slightly more expensive than the other leaf blowers out there\"\n",
      "  ]\n",
      "}\n",
      "```\n",
      "{  \"gift\": true,  \"delivery_days\": 2,  \"price_value\": [    \"It's slightly more expensive than the other leaf blowers out there\"  ]}\n"
     ]
    }
   ],
   "source": [
    "# 生成的json文件中bool值的首字母大小写有问题。\n",
    "print(response.content)\n",
    "content = response.content.replace(\"```json\", \"\").replace(\"```\", \"\").replace(\"\\n\", \"\").replace(\"True\", \"true\")\n",
    "print(content)"
   ]
  },
  {
   "cell_type": "code",
   "execution_count": 75,
   "id": "5cf9adcd-4ee6-4dcf-a50a-a23894056356",
   "metadata": {
    "execution": {
     "iopub.execute_input": "2024-04-30T03:19:51.217612Z",
     "iopub.status.busy": "2024-04-30T03:19:51.216604Z",
     "iopub.status.idle": "2024-04-30T03:19:51.225605Z",
     "shell.execute_reply": "2024-04-30T03:19:51.224726Z",
     "shell.execute_reply.started": "2024-04-30T03:19:51.217612Z"
    }
   },
   "outputs": [
    {
     "data": {
      "text/plain": [
       "{'gift': True,\n",
       " 'delivery_days': 2,\n",
       " 'price_value': [\"It's slightly more expensive than the other leaf blowers out there\"]}"
      ]
     },
     "execution_count": 75,
     "metadata": {},
     "output_type": "execute_result"
    }
   ],
   "source": [
    "json.loads(content) "
   ]
  },
  {
   "cell_type": "markdown",
   "id": "0e316398-818a-4c8b-a4ad-a20f14f48184",
   "metadata": {},
   "source": [
    "####  Parse the LLM output string into a Python dictionary"
   ]
  },
  {
   "cell_type": "code",
   "execution_count": 76,
   "id": "20348cb5-39c8-4e76-93ff-53d92c67b231",
   "metadata": {
    "execution": {
     "iopub.execute_input": "2024-04-30T03:20:59.359658Z",
     "iopub.status.busy": "2024-04-30T03:20:59.359658Z",
     "iopub.status.idle": "2024-04-30T03:20:59.416296Z",
     "shell.execute_reply": "2024-04-30T03:20:59.415303Z",
     "shell.execute_reply.started": "2024-04-30T03:20:59.359658Z"
    }
   },
   "outputs": [],
   "source": [
    "from langchain.output_parsers import ResponseSchema\n",
    "from langchain.output_parsers import StructuredOutputParser"
   ]
  },
  {
   "cell_type": "code",
   "execution_count": 122,
   "id": "b1812ec8-2d17-40c4-b8f5-c3e7a3c6318e",
   "metadata": {
    "execution": {
     "iopub.execute_input": "2024-04-30T03:51:58.310476Z",
     "iopub.status.busy": "2024-04-30T03:51:58.310476Z",
     "iopub.status.idle": "2024-04-30T03:51:58.316478Z",
     "shell.execute_reply": "2024-04-30T03:51:58.315476Z",
     "shell.execute_reply.started": "2024-04-30T03:51:58.310476Z"
    }
   },
   "outputs": [],
   "source": [
    "gift_schema = ResponseSchema(name=\"gift\",\n",
    "                             description=\"Was the item purchased\\\n",
    "                             as a gift for someone else? \\\n",
    "                             Answer True if yes,\\\n",
    "                             False if not or unknown.\")\n",
    "delivery_days_schema = ResponseSchema(name=\"delivery_days\",\n",
    "                                      description=\"How many days\\\n",
    "                                      did it take for the product\\\n",
    "                                      to arrive? If this \\\n",
    "                                      information is not found,\\\n",
    "                                      output -1.\")\n",
    "price_value_schema = ResponseSchema(name=\"price_value\",\n",
    "                                    description=\"Extract any\\\n",
    "                                    sentences about the value or \\\n",
    "                                    price, and output them as a \\\n",
    "                                    comma separated Python list.\")\n",
    "\n",
    "response_schemas = [gift_schema, \n",
    "                    delivery_days_schema,\n",
    "                    price_value_schema]"
   ]
  },
  {
   "cell_type": "code",
   "execution_count": 123,
   "id": "5ac91504-dd0c-4e3c-93f4-98a3b9c1c9b5",
   "metadata": {
    "execution": {
     "iopub.execute_input": "2024-04-30T03:51:58.939629Z",
     "iopub.status.busy": "2024-04-30T03:51:58.938632Z",
     "iopub.status.idle": "2024-04-30T03:51:58.954772Z",
     "shell.execute_reply": "2024-04-30T03:51:58.953771Z",
     "shell.execute_reply.started": "2024-04-30T03:51:58.939629Z"
    }
   },
   "outputs": [],
   "source": [
    "output_parser = StructuredOutputParser.from_response_schemas(response_schemas)"
   ]
  },
  {
   "cell_type": "code",
   "execution_count": 124,
   "id": "c3713dfb-814e-4ba8-85ee-57622b6ca177",
   "metadata": {
    "execution": {
     "iopub.execute_input": "2024-04-30T03:51:59.752583Z",
     "iopub.status.busy": "2024-04-30T03:51:59.752583Z",
     "iopub.status.idle": "2024-04-30T03:51:59.766912Z",
     "shell.execute_reply": "2024-04-30T03:51:59.766912Z",
     "shell.execute_reply.started": "2024-04-30T03:51:59.752583Z"
    }
   },
   "outputs": [
    {
     "name": "stdout",
     "output_type": "stream",
     "text": [
      "\n",
      "```json\n",
      "{\n",
      "\t\"gift\": string  // Was the item purchased                             as a gift for someone else?                              Answer True if yes,                             False if not or unknown.\n",
      "\t\"delivery_days\": string  // How many days                                      did it take for the product                                      to arrive? If this                                       information is not found,                                      output -1.\n",
      "\t\"price_value\": string  // Extract any                                    sentences about the value or                                     price, and output them as a                                     comma separated Python list.\n",
      "}\n",
      "``` <class 'str'>\n"
     ]
    }
   ],
   "source": [
    "format_instructions = output_parser.get_format_instructions(only_json=True) \n",
    "print(format_instructions, type(format_instructions))"
   ]
  },
  {
   "cell_type": "code",
   "execution_count": 125,
   "id": "f9f5a5c8-9b46-43fc-812f-90ef33914e8c",
   "metadata": {
    "execution": {
     "iopub.execute_input": "2024-04-30T03:52:16.442247Z",
     "iopub.status.busy": "2024-04-30T03:52:16.442247Z",
     "iopub.status.idle": "2024-04-30T03:52:16.448287Z",
     "shell.execute_reply": "2024-04-30T03:52:16.447291Z",
     "shell.execute_reply.started": "2024-04-30T03:52:16.442247Z"
    }
   },
   "outputs": [],
   "source": [
    "review_template_2 = \"\"\"\\\n",
    "For the following text, extract the following information:\n",
    "\n",
    "gift: Was the item purchased as a gift for someone else? \\\n",
    "Answer True if yes, False if not or unknown.\n",
    "\n",
    "delivery_days: How many days did it take for the product\\\n",
    "to arrive? If this information is not found, output -1.\n",
    "\n",
    "price_value: Extract any sentences about the value or price,\\\n",
    "and output them as a comma separated Python list.\n",
    "\n",
    "text: {text}\n",
    "\n",
    "{format_instructions}\n",
    "\"\"\"\n",
    "\n",
    "prompt = ChatPromptTemplate.from_template(template=review_template_2)\n",
    "\n",
    "messages = prompt.format_messages(text=customer_review, \n",
    "                                format_instructions=format_instructions)"
   ]
  },
  {
   "cell_type": "code",
   "execution_count": 126,
   "id": "2972e43c-d91f-45ab-afde-3d9fe8b9525a",
   "metadata": {
    "execution": {
     "iopub.execute_input": "2024-04-30T03:52:17.687471Z",
     "iopub.status.busy": "2024-04-30T03:52:17.687471Z",
     "iopub.status.idle": "2024-04-30T03:52:17.701989Z",
     "shell.execute_reply": "2024-04-30T03:52:17.700995Z",
     "shell.execute_reply.started": "2024-04-30T03:52:17.687471Z"
    }
   },
   "outputs": [
    {
     "name": "stdout",
     "output_type": "stream",
     "text": [
      "For the following text, extract the following information:\n",
      "\n",
      "gift: Was the item purchased as a gift for someone else? Answer True if yes, False if not or unknown.\n",
      "\n",
      "delivery_days: How many days did it take for the productto arrive? If this information is not found, output -1.\n",
      "\n",
      "price_value: Extract any sentences about the value or price,and output them as a comma separated Python list.\n",
      "\n",
      "text: This leaf blower is pretty amazing.  It has four settings:candle blower, gentle breeze, windy city, and tornado. It arrived in two days, just in time for my wife's anniversary present. I think my wife liked it so much she was speechless. So far I've been the only one using it, and I've been using it every other morning to clear the leaves on our lawn. It's slightly more expensive than the other leaf blowers out there, but I think it's worth it for the extra features.\n",
      "\n",
      "\n",
      "\n",
      "```json\n",
      "{\n",
      "\t\"gift\": string  // Was the item purchased                             as a gift for someone else?                              Answer True if yes,                             False if not or unknown.\n",
      "\t\"delivery_days\": string  // How many days                                      did it take for the product                                      to arrive? If this                                       information is not found,                                      output -1.\n",
      "\t\"price_value\": string  // Extract any                                    sentences about the value or                                     price, and output them as a                                     comma separated Python list.\n",
      "}\n",
      "```\n",
      "\n"
     ]
    }
   ],
   "source": [
    "print(messages[0].content)"
   ]
  },
  {
   "cell_type": "code",
   "execution_count": 127,
   "id": "ed6c9262-5f82-4e0d-aa3f-42ac52366396",
   "metadata": {
    "execution": {
     "iopub.execute_input": "2024-04-30T03:52:18.955904Z",
     "iopub.status.busy": "2024-04-30T03:52:18.954908Z",
     "iopub.status.idle": "2024-04-30T03:52:24.380513Z",
     "shell.execute_reply": "2024-04-30T03:52:24.379498Z",
     "shell.execute_reply.started": "2024-04-30T03:52:18.955904Z"
    }
   },
   "outputs": [],
   "source": [
    "response = chat(messages)"
   ]
  },
  {
   "cell_type": "code",
   "execution_count": 128,
   "id": "4b8a252e-ee07-4dc8-b59b-870080204958",
   "metadata": {
    "execution": {
     "iopub.execute_input": "2024-04-30T03:52:24.381499Z",
     "iopub.status.busy": "2024-04-30T03:52:24.381499Z",
     "iopub.status.idle": "2024-04-30T03:52:24.396452Z",
     "shell.execute_reply": "2024-04-30T03:52:24.395448Z",
     "shell.execute_reply.started": "2024-04-30T03:52:24.381499Z"
    }
   },
   "outputs": [
    {
     "name": "stdout",
     "output_type": "stream",
     "text": [
      "For the following text, extract the following information:\n",
      "\n",
      "gift: Was the item purchased as a gift for someone else? Answer True if yes, False if not or unknown.\n",
      "\n",
      "delivery_days: How many days did it take for the productto arrive? If this information is not found, output -1.\n",
      "\n",
      "price_value: Extract any sentences about the value or price,and output them as a comma separated Python list.\n",
      "\n",
      "text: This leaf blower is pretty amazing.  It has four settings:candle blower, gentle breeze, windy city, and tornado. It arrived in two days, just in time for my wife's anniversary present. I think my wife liked it so much she was speechless. So far I've been the only one using it, and I've been using it every other morning to clear the leaves on our lawn. It's slightly more expensive than the other leaf blowers out there, but I think it's worth it for the extra features.\n",
      "\n",
      "\n",
      "\n",
      "```json\n",
      "{\n",
      "\t\"gift\": string  // Was the item purchased                             as a gift for someone else?                              Answer True if yes,                             False if not or unknown.\n",
      "\t\"delivery_days\": string  // How many days                                      did it take for the product                                      to arrive? If this                                       information is not found,                                      output -1.\n",
      "\t\"price_value\": string  // Extract any                                    sentences about the value or                                     price, and output them as a                                     comma separated Python list.\n",
      "}\n",
      "```\n",
      "\n"
     ]
    }
   ],
   "source": [
    "print(messages[0].content)"
   ]
  },
  {
   "cell_type": "code",
   "execution_count": 133,
   "id": "6db66e14-f5a9-486f-a9bf-2c02b1dab4d0",
   "metadata": {
    "execution": {
     "iopub.execute_input": "2024-04-30T04:08:04.593525Z",
     "iopub.status.busy": "2024-04-30T04:08:04.593525Z",
     "iopub.status.idle": "2024-04-30T04:08:04.599530Z",
     "shell.execute_reply": "2024-04-30T04:08:04.599530Z",
     "shell.execute_reply.started": "2024-04-30T04:08:04.593525Z"
    }
   },
   "outputs": [
    {
     "data": {
      "text/plain": [
       "'```json\\n{\\n  \"gift\": \"True\",\\n  \"delivery_days\": \"2\",\\n  \"price_value\": \"It\\'s slightly more expensive than the other leaf blowers out there\"\\n}\\n```'"
      ]
     },
     "execution_count": 133,
     "metadata": {},
     "output_type": "execute_result"
    }
   ],
   "source": [
    "response.content"
   ]
  },
  {
   "cell_type": "code",
   "execution_count": 134,
   "id": "df64e35e-731e-4607-abca-83592a80e0f2",
   "metadata": {
    "execution": {
     "iopub.execute_input": "2024-04-30T04:08:06.734304Z",
     "iopub.status.busy": "2024-04-30T04:08:06.733304Z",
     "iopub.status.idle": "2024-04-30T04:08:06.744313Z",
     "shell.execute_reply": "2024-04-30T04:08:06.743305Z",
     "shell.execute_reply.started": "2024-04-30T04:08:06.734304Z"
    }
   },
   "outputs": [],
   "source": [
    "output_dict = output_parser.parse(response.content)"
   ]
  },
  {
   "cell_type": "markdown",
   "id": "8e186c7d-82d1-4702-8db6-5c380c545802",
   "metadata": {},
   "source": [
    "OpenAI返回的Gift是bool类型"
   ]
  },
  {
   "cell_type": "code",
   "execution_count": 135,
   "id": "3ec3fcf0-1d00-43ec-a1df-42515a7ae08e",
   "metadata": {
    "execution": {
     "iopub.execute_input": "2024-04-30T04:08:08.540802Z",
     "iopub.status.busy": "2024-04-30T04:08:08.539802Z",
     "iopub.status.idle": "2024-04-30T04:08:08.552910Z",
     "shell.execute_reply": "2024-04-30T04:08:08.551912Z",
     "shell.execute_reply.started": "2024-04-30T04:08:08.540802Z"
    }
   },
   "outputs": [
    {
     "data": {
      "text/plain": [
       "{'gift': 'True',\n",
       " 'delivery_days': '2',\n",
       " 'price_value': \"It's slightly more expensive than the other leaf blowers out there\"}"
      ]
     },
     "execution_count": 135,
     "metadata": {},
     "output_type": "execute_result"
    }
   ],
   "source": [
    "output_dict"
   ]
  },
  {
   "cell_type": "code",
   "execution_count": 136,
   "id": "4bafff97-969b-4aa3-836d-97f28b7dad25",
   "metadata": {
    "execution": {
     "iopub.execute_input": "2024-04-30T04:08:13.568650Z",
     "iopub.status.busy": "2024-04-30T04:08:13.568650Z",
     "iopub.status.idle": "2024-04-30T04:08:13.577103Z",
     "shell.execute_reply": "2024-04-30T04:08:13.575653Z",
     "shell.execute_reply.started": "2024-04-30T04:08:13.568650Z"
    }
   },
   "outputs": [
    {
     "data": {
      "text/plain": [
       "dict"
      ]
     },
     "execution_count": 136,
     "metadata": {},
     "output_type": "execute_result"
    }
   ],
   "source": [
    "type(output_dict)"
   ]
  },
  {
   "cell_type": "code",
   "execution_count": 137,
   "id": "6d2534db-4c13-4d77-b4b8-598ae98b405d",
   "metadata": {
    "execution": {
     "iopub.execute_input": "2024-04-30T04:08:14.222986Z",
     "iopub.status.busy": "2024-04-30T04:08:14.221995Z",
     "iopub.status.idle": "2024-04-30T04:08:14.231141Z",
     "shell.execute_reply": "2024-04-30T04:08:14.229125Z",
     "shell.execute_reply.started": "2024-04-30T04:08:14.222986Z"
    }
   },
   "outputs": [
    {
     "data": {
      "text/plain": [
       "'2'"
      ]
     },
     "execution_count": 137,
     "metadata": {},
     "output_type": "execute_result"
    }
   ],
   "source": [
    "output_dict.get('delivery_days')"
   ]
  },
  {
   "cell_type": "markdown",
   "id": "363962e9-2b68-4ec6-8623-b4be92f6d963",
   "metadata": {},
   "source": [
    "## LangChain: Memory"
   ]
  },
  {
   "cell_type": "code",
   "execution_count": 14,
   "id": "9aae1268-9915-4a0a-83bf-b9a95ec7f092",
   "metadata": {
    "execution": {
     "iopub.execute_input": "2024-04-30T07:02:05.308895Z",
     "iopub.status.busy": "2024-04-30T07:02:05.307897Z",
     "iopub.status.idle": "2024-04-30T07:02:15.572743Z",
     "shell.execute_reply": "2024-04-30T07:02:15.571922Z",
     "shell.execute_reply.started": "2024-04-30T07:02:05.308895Z"
    }
   },
   "outputs": [
    {
     "name": "stdout",
     "output_type": "stream",
     "text": [
      "你好，ABC！很高兴认识你。请问有什么我可以帮助你的吗？\n",
      "中国的首都是北京。北京是中华人民共和国的首都，也是中国的政治、文化、科技和国际交往中心。北京有着悠久的历史和丰富的文化遗产，是世界著名的古都之一。同时，北京还是中国的经济中心之一，拥有众多的高科技企业和国际机构。\n",
      "您的名字叫ABC。请问您有其他什么需要我帮助的吗？\n"
     ]
    }
   ],
   "source": [
    "chat_comp = qianfan.ChatCompletion(model=\"ERNIE-Bot-4\")\n",
    "\n",
    "# 下面是一个与用户对话的例子\n",
    "msgs = qianfan.Messages()\n",
    "msgs.append(\"你好，我的名字是ABC\") # 增加用户输入\n",
    "resp = chat_comp.do(messages=msgs)\n",
    "print(resp[\"body\"][\"result\"]) # 模型的输出\n",
    "msgs.append(resp)             # 追加模型输出\n",
    "\n",
    "msgs.append(\"中国的首都是哪里？\") # 增加用户输入\n",
    "resp = chat_comp.do(messages=msgs)\n",
    "print(resp[\"body\"][\"result\"]) # 模型的输出\n",
    "msgs.append(resp)        \n",
    "\n",
    "msgs.append(\"我叫什么名字？\") # 增加用户输入\n",
    "resp = chat_comp.do(messages=msgs)\n",
    "print(resp[\"body\"][\"result\"]) # 模型的输出\n",
    "msgs.append(resp)  "
   ]
  },
  {
   "cell_type": "markdown",
   "id": "d5742998-1f05-4513-9285-d279ec90828a",
   "metadata": {
    "execution": {
     "iopub.execute_input": "2024-04-30T07:01:57.754836Z",
     "iopub.status.busy": "2024-04-30T07:01:57.754836Z",
     "iopub.status.idle": "2024-04-30T07:01:57.769423Z",
     "shell.execute_reply": "2024-04-30T07:01:57.768424Z",
     "shell.execute_reply.started": "2024-04-30T07:01:57.754836Z"
    }
   },
   "source": [
    "### ConversationBufferMemory"
   ]
  },
  {
   "cell_type": "code",
   "execution_count": 11,
   "id": "7d460c0b-87af-4d84-a174-d579197a9286",
   "metadata": {
    "execution": {
     "iopub.execute_input": "2024-04-30T08:15:12.290109Z",
     "iopub.status.busy": "2024-04-30T08:15:12.290109Z",
     "iopub.status.idle": "2024-04-30T08:15:12.316862Z",
     "shell.execute_reply": "2024-04-30T08:15:12.315869Z",
     "shell.execute_reply.started": "2024-04-30T08:15:12.290109Z"
    }
   },
   "outputs": [],
   "source": [
    "from langchain.chat_models import QianfanChatEndpoint\n",
    "from langchain.chains import ConversationChain\n",
    "from langchain.memory import ConversationBufferMemory"
   ]
  },
  {
   "cell_type": "markdown",
   "id": "30fefb15-d550-4230-afc1-9492be522118",
   "metadata": {},
   "source": [
    "#### Chinese"
   ]
  },
  {
   "cell_type": "code",
   "execution_count": 14,
   "id": "4d08707f-4451-4052-9c10-c3f154a3704e",
   "metadata": {
    "execution": {
     "iopub.execute_input": "2024-04-30T08:17:02.839548Z",
     "iopub.status.busy": "2024-04-30T08:17:02.839548Z",
     "iopub.status.idle": "2024-04-30T08:17:02.871640Z",
     "shell.execute_reply": "2024-04-30T08:17:02.869997Z",
     "shell.execute_reply.started": "2024-04-30T08:17:02.839548Z"
    }
   },
   "outputs": [],
   "source": [
    "llm = QianfanChatEndpoint(model=\"ERNIE-Bot-4\", temperature = 0.01)\n",
    "memory = ConversationBufferMemory()\n",
    "conversation = ConversationChain(\n",
    "    llm = llm,\n",
    "    memory = memory,\n",
    "    verbose = True\n",
    ")"
   ]
  },
  {
   "cell_type": "code",
   "execution_count": 15,
   "id": "22ada646-0389-42e7-b3d9-0c51d01c292e",
   "metadata": {
    "execution": {
     "iopub.execute_input": "2024-04-30T08:17:04.442857Z",
     "iopub.status.busy": "2024-04-30T08:17:04.442857Z",
     "iopub.status.idle": "2024-04-30T08:17:09.115966Z",
     "shell.execute_reply": "2024-04-30T08:17:09.114946Z",
     "shell.execute_reply.started": "2024-04-30T08:17:04.442857Z"
    }
   },
   "outputs": [
    {
     "name": "stdout",
     "output_type": "stream",
     "text": [
      "\n",
      "\n",
      "\u001b[1m> Entering new ConversationChain chain...\u001b[0m\n",
      "Prompt after formatting:\n",
      "\u001b[32;1m\u001b[1;3mThe following is a friendly conversation between a human and an AI. The AI is talkative and provides lots of specific details from its context. If the AI does not know the answer to a question, it truthfully says it does not know.\n",
      "\n",
      "Current conversation:\n",
      "\n",
      "Human: 你好，我的名字是Michael\n",
      "AI:\u001b[0m\n",
      "\n",
      "\u001b[1m> Finished chain.\u001b[0m\n"
     ]
    },
    {
     "data": {
      "text/plain": [
       "'你好，Michael！很高兴认识你。我是一个人工智能，喜欢和各种各样的人交流。有什么我可以帮你的吗？或者你想和我聊些什么呢？'"
      ]
     },
     "execution_count": 15,
     "metadata": {},
     "output_type": "execute_result"
    }
   ],
   "source": [
    "conversation.predict(input = \"你好，我的名字是Michael\")"
   ]
  },
  {
   "cell_type": "code",
   "execution_count": 16,
   "id": "fffa4742-ce06-4eb6-8ed2-e0542ddba36e",
   "metadata": {
    "execution": {
     "iopub.execute_input": "2024-04-30T08:17:09.116947Z",
     "iopub.status.busy": "2024-04-30T08:17:09.116947Z",
     "iopub.status.idle": "2024-04-30T08:17:15.187944Z",
     "shell.execute_reply": "2024-04-30T08:17:15.187944Z",
     "shell.execute_reply.started": "2024-04-30T08:17:09.116947Z"
    }
   },
   "outputs": [
    {
     "name": "stdout",
     "output_type": "stream",
     "text": [
      "\n",
      "\n",
      "\u001b[1m> Entering new ConversationChain chain...\u001b[0m\n",
      "Prompt after formatting:\n",
      "\u001b[32;1m\u001b[1;3mThe following is a friendly conversation between a human and an AI. The AI is talkative and provides lots of specific details from its context. If the AI does not know the answer to a question, it truthfully says it does not know.\n",
      "\n",
      "Current conversation:\n",
      "Human: 你好，我的名字是Michael\n",
      "AI: 你好，Michael！很高兴认识你。我是一个人工智能，喜欢和各种各样的人交流。有什么我可以帮你的吗？或者你想和我聊些什么呢？\n",
      "Human: 2024年春节放假几天？\n",
      "AI:\u001b[0m\n",
      "\n",
      "\u001b[1m> Finished chain.\u001b[0m\n"
     ]
    },
    {
     "data": {
      "text/plain": [
       "'春节的放假时间是由中国政府根据农历来确定的，通常会在春节前公布具体的放假安排。根据往年的经验，春节一般会放假7天左右，但具体的放假时间还需要等待政府部门的通知。如果你想了解更准确的放假时间，建议关注相关政府部门的公告或媒体报道。同时，我也会在得知具体放假时间后，第一时间告诉你。'"
      ]
     },
     "execution_count": 16,
     "metadata": {},
     "output_type": "execute_result"
    }
   ],
   "source": [
    "conversation.predict(input=\"2024年春节放假几天？\")"
   ]
  },
  {
   "cell_type": "code",
   "execution_count": 22,
   "id": "641505f8-4161-4ca6-b2af-a7e9dce327bb",
   "metadata": {
    "execution": {
     "iopub.execute_input": "2024-04-30T07:15:30.019342Z",
     "iopub.status.busy": "2024-04-30T07:15:30.019342Z",
     "iopub.status.idle": "2024-04-30T07:15:35.096469Z",
     "shell.execute_reply": "2024-04-30T07:15:35.095469Z",
     "shell.execute_reply.started": "2024-04-30T07:15:30.019342Z"
    }
   },
   "outputs": [
    {
     "name": "stdout",
     "output_type": "stream",
     "text": [
      "\n",
      "\n",
      "\u001b[1m> Entering new ConversationChain chain...\u001b[0m\n",
      "Prompt after formatting:\n",
      "\u001b[32;1m\u001b[1;3mThe following is a friendly conversation between a human and an AI. The AI is talkative and provides lots of specific details from its context. If the AI does not know the answer to a question, it truthfully says it does not know.\n",
      "\n",
      "Current conversation:\n",
      "Human: Hi, my name is Andrew\n",
      "AI: Hello Andrew! It's nice to meet you. I'm an artificial intelligence, designed to answer questions and engage in conversation. What can I do for you today?\n",
      "Human: What is 1+1?\n",
      "AI: The answer to 1+1 is 2. Is there anything else you'd like to ask me?\n",
      "Human: 你好，我的名字是Michael\n",
      "AI: 您好，Michael！很高兴认识您。请注意，您之前告诉我您的名字是Andrew，但现在您又说您的名字是Michael。我有些困惑，但我会尽力适应。请问有什么我可以帮助您的吗？\n",
      "Human: 中国的首都是哪里？\n",
      "AI: 中国的首都是北京。北京是中国的政治、文化和国际交往的中心。它有着悠久的历史和丰富的文化遗产，包括故宫、长城等著名景点。希望这个回答能满足您的需求。请问您还有其他问题吗？\n",
      "Human: 中国的首都是哪里？\n",
      "AI:\u001b[0m\n",
      "\n",
      "\u001b[1m> Finished chain.\u001b[0m\n"
     ]
    },
    {
     "data": {
      "text/plain": [
       "'中国的首都是北京。我之前已经回答过这个问题了，但我很乐意再次确认答案。北京作为中国的首都，承载着丰富的历史和文化，是中国的重要城市之一。如果您还有其他关于中国或任何其他主题的问题，请随时问我。'"
      ]
     },
     "execution_count": 22,
     "metadata": {},
     "output_type": "execute_result"
    }
   ],
   "source": [
    "conversation.predict(input = \"中国的首都是哪里？\")"
   ]
  },
  {
   "cell_type": "code",
   "execution_count": 23,
   "id": "cee4c808-76fe-484e-bcfe-155f7cffe44e",
   "metadata": {
    "execution": {
     "iopub.execute_input": "2024-04-30T07:15:35.098466Z",
     "iopub.status.busy": "2024-04-30T07:15:35.098466Z",
     "iopub.status.idle": "2024-04-30T07:15:39.949317Z",
     "shell.execute_reply": "2024-04-30T07:15:39.947654Z",
     "shell.execute_reply.started": "2024-04-30T07:15:35.098466Z"
    }
   },
   "outputs": [
    {
     "name": "stdout",
     "output_type": "stream",
     "text": [
      "\n",
      "\n",
      "\u001b[1m> Entering new ConversationChain chain...\u001b[0m\n",
      "Prompt after formatting:\n",
      "\u001b[32;1m\u001b[1;3mThe following is a friendly conversation between a human and an AI. The AI is talkative and provides lots of specific details from its context. If the AI does not know the answer to a question, it truthfully says it does not know.\n",
      "\n",
      "Current conversation:\n",
      "Human: Hi, my name is Andrew\n",
      "AI: Hello Andrew! It's nice to meet you. I'm an artificial intelligence, designed to answer questions and engage in conversation. What can I do for you today?\n",
      "Human: What is 1+1?\n",
      "AI: The answer to 1+1 is 2. Is there anything else you'd like to ask me?\n",
      "Human: 你好，我的名字是Michael\n",
      "AI: 您好，Michael！很高兴认识您。请注意，您之前告诉我您的名字是Andrew，但现在您又说您的名字是Michael。我有些困惑，但我会尽力适应。请问有什么我可以帮助您的吗？\n",
      "Human: 中国的首都是哪里？\n",
      "AI: 中国的首都是北京。北京是中国的政治、文化和国际交往的中心。它有着悠久的历史和丰富的文化遗产，包括故宫、长城等著名景点。希望这个回答能满足您的需求。请问您还有其他问题吗？\n",
      "Human: 中国的首都是哪里？\n",
      "AI: 中国的首都是北京。我之前已经回答过这个问题了，但我很乐意再次确认答案。北京作为中国的首都，承载着丰富的历史和文化，是中国的重要城市之一。如果您还有其他关于中国或任何其他主题的问题，请随时问我。\n",
      "Human: 我的名字是什么？\n",
      "AI:\u001b[0m\n",
      "\n",
      "\u001b[1m> Finished chain.\u001b[0m\n"
     ]
    },
    {
     "data": {
      "text/plain": [
       "'您之前告诉我您的名字是Andrew，但后来您又说您的名字是Michael。我有些困惑，因为您给了我两个不同的名字。请告诉我您真正的名字是什么，我会尽力为您提供更好的服务。'"
      ]
     },
     "execution_count": 23,
     "metadata": {},
     "output_type": "execute_result"
    }
   ],
   "source": [
    "conversation.predict(input = \"我的名字是什么？\")"
   ]
  },
  {
   "cell_type": "code",
   "execution_count": 24,
   "id": "6578adac-4907-4752-b272-f65953318a10",
   "metadata": {
    "execution": {
     "iopub.execute_input": "2024-04-30T07:16:17.633033Z",
     "iopub.status.busy": "2024-04-30T07:16:17.633033Z",
     "iopub.status.idle": "2024-04-30T07:16:17.641563Z",
     "shell.execute_reply": "2024-04-30T07:16:17.641563Z",
     "shell.execute_reply.started": "2024-04-30T07:16:17.633033Z"
    }
   },
   "outputs": [
    {
     "name": "stdout",
     "output_type": "stream",
     "text": [
      "Human: Hi, my name is Andrew\n",
      "AI: Hello Andrew! It's nice to meet you. I'm an artificial intelligence, designed to answer questions and engage in conversation. What can I do for you today?\n",
      "Human: What is 1+1?\n",
      "AI: The answer to 1+1 is 2. Is there anything else you'd like to ask me?\n",
      "Human: 你好，我的名字是Michael\n",
      "AI: 您好，Michael！很高兴认识您。请注意，您之前告诉我您的名字是Andrew，但现在您又说您的名字是Michael。我有些困惑，但我会尽力适应。请问有什么我可以帮助您的吗？\n",
      "Human: 中国的首都是哪里？\n",
      "AI: 中国的首都是北京。北京是中国的政治、文化和国际交往的中心。它有着悠久的历史和丰富的文化遗产，包括故宫、长城等著名景点。希望这个回答能满足您的需求。请问您还有其他问题吗？\n",
      "Human: 中国的首都是哪里？\n",
      "AI: 中国的首都是北京。我之前已经回答过这个问题了，但我很乐意再次确认答案。北京作为中国的首都，承载着丰富的历史和文化，是中国的重要城市之一。如果您还有其他关于中国或任何其他主题的问题，请随时问我。\n",
      "Human: 我的名字是什么？\n",
      "AI: 您之前告诉我您的名字是Andrew，但后来您又说您的名字是Michael。我有些困惑，因为您给了我两个不同的名字。请告诉我您真正的名字是什么，我会尽力为您提供更好的服务。\n"
     ]
    }
   ],
   "source": [
    "print(memory.buffer)"
   ]
  },
  {
   "cell_type": "code",
   "execution_count": 25,
   "id": "811f0fe1-2291-41ce-a286-0ceb1d76c3e7",
   "metadata": {
    "execution": {
     "iopub.execute_input": "2024-04-30T07:16:53.319118Z",
     "iopub.status.busy": "2024-04-30T07:16:53.318120Z",
     "iopub.status.idle": "2024-04-30T07:16:53.325125Z",
     "shell.execute_reply": "2024-04-30T07:16:53.325125Z",
     "shell.execute_reply.started": "2024-04-30T07:16:53.319118Z"
    }
   },
   "outputs": [],
   "source": [
    "memory.save_context({\"input\": \"你好！\"}, {\"output\": \"你好呀，近来身体如何？\"})"
   ]
  },
  {
   "cell_type": "code",
   "execution_count": 26,
   "id": "4f76ef4f-ff86-4afc-a0ea-855dd8ae32c1",
   "metadata": {
    "execution": {
     "iopub.execute_input": "2024-04-30T07:17:04.668073Z",
     "iopub.status.busy": "2024-04-30T07:17:04.668073Z",
     "iopub.status.idle": "2024-04-30T07:17:04.676070Z",
     "shell.execute_reply": "2024-04-30T07:17:04.675080Z",
     "shell.execute_reply.started": "2024-04-30T07:17:04.668073Z"
    }
   },
   "outputs": [
    {
     "name": "stdout",
     "output_type": "stream",
     "text": [
      "Human: Hi, my name is Andrew\n",
      "AI: Hello Andrew! It's nice to meet you. I'm an artificial intelligence, designed to answer questions and engage in conversation. What can I do for you today?\n",
      "Human: What is 1+1?\n",
      "AI: The answer to 1+1 is 2. Is there anything else you'd like to ask me?\n",
      "Human: 你好，我的名字是Michael\n",
      "AI: 您好，Michael！很高兴认识您。请注意，您之前告诉我您的名字是Andrew，但现在您又说您的名字是Michael。我有些困惑，但我会尽力适应。请问有什么我可以帮助您的吗？\n",
      "Human: 中国的首都是哪里？\n",
      "AI: 中国的首都是北京。北京是中国的政治、文化和国际交往的中心。它有着悠久的历史和丰富的文化遗产，包括故宫、长城等著名景点。希望这个回答能满足您的需求。请问您还有其他问题吗？\n",
      "Human: 中国的首都是哪里？\n",
      "AI: 中国的首都是北京。我之前已经回答过这个问题了，但我很乐意再次确认答案。北京作为中国的首都，承载着丰富的历史和文化，是中国的重要城市之一。如果您还有其他关于中国或任何其他主题的问题，请随时问我。\n",
      "Human: 我的名字是什么？\n",
      "AI: 您之前告诉我您的名字是Andrew，但后来您又说您的名字是Michael。我有些困惑，因为您给了我两个不同的名字。请告诉我您真正的名字是什么，我会尽力为您提供更好的服务。\n",
      "Human: 你好！\n",
      "AI: 你好呀，近来身体如何？\n"
     ]
    }
   ],
   "source": [
    "print(memory.buffer)"
   ]
  },
  {
   "cell_type": "markdown",
   "id": "29f5f38a-b6b8-48e0-b9a1-a9cc57eba528",
   "metadata": {},
   "source": [
    "#### English"
   ]
  },
  {
   "cell_type": "code",
   "execution_count": 31,
   "id": "80de02fa-a5ca-4963-af3c-917c5a3d012d",
   "metadata": {
    "execution": {
     "iopub.execute_input": "2024-04-30T07:21:22.443602Z",
     "iopub.status.busy": "2024-04-30T07:21:22.443602Z",
     "iopub.status.idle": "2024-04-30T07:21:22.462601Z",
     "shell.execute_reply": "2024-04-30T07:21:22.461599Z",
     "shell.execute_reply.started": "2024-04-30T07:21:22.443602Z"
    }
   },
   "outputs": [
    {
     "name": "stdout",
     "output_type": "stream",
     "text": [
      "\n"
     ]
    }
   ],
   "source": [
    "memory.clear()\n",
    "print(memory.buffer)"
   ]
  },
  {
   "cell_type": "code",
   "execution_count": 32,
   "id": "5d01409b-11e5-4f20-9778-8793a3ae4a32",
   "metadata": {
    "editable": true,
    "execution": {
     "iopub.execute_input": "2024-04-30T07:21:23.950295Z",
     "iopub.status.busy": "2024-04-30T07:21:23.950295Z",
     "iopub.status.idle": "2024-04-30T07:21:27.411800Z",
     "shell.execute_reply": "2024-04-30T07:21:27.410808Z",
     "shell.execute_reply.started": "2024-04-30T07:21:23.950295Z"
    },
    "slideshow": {
     "slide_type": ""
    },
    "tags": []
   },
   "outputs": [
    {
     "name": "stdout",
     "output_type": "stream",
     "text": [
      "\n",
      "\n",
      "\u001b[1m> Entering new ConversationChain chain...\u001b[0m\n",
      "Prompt after formatting:\n",
      "\u001b[32;1m\u001b[1;3mThe following is a friendly conversation between a human and an AI. The AI is talkative and provides lots of specific details from its context. If the AI does not know the answer to a question, it truthfully says it does not know.\n",
      "\n",
      "Current conversation:\n",
      "\n",
      "Human: Hi, my name is Andrew\n",
      "AI:\u001b[0m\n",
      "\n",
      "\u001b[1m> Finished chain.\u001b[0m\n"
     ]
    },
    {
     "data": {
      "text/plain": [
       "\"Hello Andrew! It's nice to meet you. I'm an artificial intelligence, designed to answer questions and engage in conversation. What can I do for you today?\""
      ]
     },
     "execution_count": 32,
     "metadata": {},
     "output_type": "execute_result"
    }
   ],
   "source": [
    "conversation.predict(input=\"Hi, my name is Andrew\")"
   ]
  },
  {
   "cell_type": "code",
   "execution_count": 33,
   "id": "4465d71f-e01e-4ded-9563-bd8dbe5afd94",
   "metadata": {
    "editable": true,
    "execution": {
     "iopub.execute_input": "2024-04-30T07:21:28.712695Z",
     "iopub.status.busy": "2024-04-30T07:21:28.711694Z",
     "iopub.status.idle": "2024-04-30T07:21:31.263238Z",
     "shell.execute_reply": "2024-04-30T07:21:31.262237Z",
     "shell.execute_reply.started": "2024-04-30T07:21:28.712695Z"
    },
    "slideshow": {
     "slide_type": ""
    },
    "tags": []
   },
   "outputs": [
    {
     "name": "stdout",
     "output_type": "stream",
     "text": [
      "\n",
      "\n",
      "\u001b[1m> Entering new ConversationChain chain...\u001b[0m\n",
      "Prompt after formatting:\n",
      "\u001b[32;1m\u001b[1;3mThe following is a friendly conversation between a human and an AI. The AI is talkative and provides lots of specific details from its context. If the AI does not know the answer to a question, it truthfully says it does not know.\n",
      "\n",
      "Current conversation:\n",
      "Human: Hi, my name is Andrew\n",
      "AI: Hello Andrew! It's nice to meet you. I'm an artificial intelligence, designed to answer questions and engage in conversation. What can I do for you today?\n",
      "Human: What is 1+1?\n",
      "AI:\u001b[0m\n",
      "\n",
      "\u001b[1m> Finished chain.\u001b[0m\n"
     ]
    },
    {
     "data": {
      "text/plain": [
       "'The answer to 1+1 is 2. Is there anything else I can assist you with?'"
      ]
     },
     "execution_count": 33,
     "metadata": {},
     "output_type": "execute_result"
    }
   ],
   "source": [
    "conversation.predict(input=\"What is 1+1?\")"
   ]
  },
  {
   "cell_type": "code",
   "execution_count": 34,
   "id": "403e4a56-9653-4cae-9551-d15227c7c131",
   "metadata": {
    "execution": {
     "iopub.execute_input": "2024-04-30T07:21:31.267239Z",
     "iopub.status.busy": "2024-04-30T07:21:31.266239Z",
     "iopub.status.idle": "2024-04-30T07:21:33.845807Z",
     "shell.execute_reply": "2024-04-30T07:21:33.844815Z",
     "shell.execute_reply.started": "2024-04-30T07:21:31.267239Z"
    }
   },
   "outputs": [
    {
     "name": "stdout",
     "output_type": "stream",
     "text": [
      "\n",
      "\n",
      "\u001b[1m> Entering new ConversationChain chain...\u001b[0m\n",
      "Prompt after formatting:\n",
      "\u001b[32;1m\u001b[1;3mThe following is a friendly conversation between a human and an AI. The AI is talkative and provides lots of specific details from its context. If the AI does not know the answer to a question, it truthfully says it does not know.\n",
      "\n",
      "Current conversation:\n",
      "Human: Hi, my name is Andrew\n",
      "AI: Hello Andrew! It's nice to meet you. I'm an artificial intelligence, designed to answer questions and engage in conversation. What can I do for you today?\n",
      "Human: What is 1+1?\n",
      "AI: The answer to 1+1 is 2. Is there anything else I can assist you with?\n",
      "Human: What is my name?\n",
      "AI:\u001b[0m\n",
      "\n",
      "\u001b[1m> Finished chain.\u001b[0m\n"
     ]
    },
    {
     "data": {
      "text/plain": [
       "'Your name is Andrew. Do you have any other questions or need further assistance?'"
      ]
     },
     "execution_count": 34,
     "metadata": {},
     "output_type": "execute_result"
    }
   ],
   "source": [
    "conversation.predict(input=\"What is my name?\")"
   ]
  },
  {
   "cell_type": "code",
   "execution_count": 35,
   "id": "a2518005-cf84-4ca9-8611-bcca63ee1b83",
   "metadata": {
    "execution": {
     "iopub.execute_input": "2024-04-30T07:21:33.846808Z",
     "iopub.status.busy": "2024-04-30T07:21:33.846808Z",
     "iopub.status.idle": "2024-04-30T07:21:33.860243Z",
     "shell.execute_reply": "2024-04-30T07:21:33.860243Z",
     "shell.execute_reply.started": "2024-04-30T07:21:33.846808Z"
    }
   },
   "outputs": [
    {
     "name": "stdout",
     "output_type": "stream",
     "text": [
      "Human: Hi, my name is Andrew\n",
      "AI: Hello Andrew! It's nice to meet you. I'm an artificial intelligence, designed to answer questions and engage in conversation. What can I do for you today?\n",
      "Human: What is 1+1?\n",
      "AI: The answer to 1+1 is 2. Is there anything else I can assist you with?\n",
      "Human: What is my name?\n",
      "AI: Your name is Andrew. Do you have any other questions or need further assistance?\n"
     ]
    }
   ],
   "source": [
    "print(memory.buffer)"
   ]
  },
  {
   "cell_type": "code",
   "execution_count": 36,
   "id": "f228886c-ab83-42fb-8621-ee9f56ef1f35",
   "metadata": {
    "execution": {
     "iopub.execute_input": "2024-04-30T07:21:38.201751Z",
     "iopub.status.busy": "2024-04-30T07:21:38.200751Z",
     "iopub.status.idle": "2024-04-30T07:21:38.212756Z",
     "shell.execute_reply": "2024-04-30T07:21:38.211797Z",
     "shell.execute_reply.started": "2024-04-30T07:21:38.201751Z"
    }
   },
   "outputs": [
    {
     "data": {
      "text/plain": [
       "{'history': \"Human: Hi, my name is Andrew\\nAI: Hello Andrew! It's nice to meet you. I'm an artificial intelligence, designed to answer questions and engage in conversation. What can I do for you today?\\nHuman: What is 1+1?\\nAI: The answer to 1+1 is 2. Is there anything else I can assist you with?\\nHuman: What is my name?\\nAI: Your name is Andrew. Do you have any other questions or need further assistance?\"}"
      ]
     },
     "execution_count": 36,
     "metadata": {},
     "output_type": "execute_result"
    }
   ],
   "source": [
    "memory.load_memory_variables({})"
   ]
  },
  {
   "cell_type": "code",
   "execution_count": 37,
   "id": "75b47472-29e1-42c6-ad39-1148249032e6",
   "metadata": {
    "execution": {
     "iopub.execute_input": "2024-04-30T07:21:53.152153Z",
     "iopub.status.busy": "2024-04-30T07:21:53.152153Z",
     "iopub.status.idle": "2024-04-30T07:21:53.160324Z",
     "shell.execute_reply": "2024-04-30T07:21:53.160324Z",
     "shell.execute_reply.started": "2024-04-30T07:21:53.152153Z"
    }
   },
   "outputs": [],
   "source": [
    "memory = ConversationBufferMemory()"
   ]
  },
  {
   "cell_type": "code",
   "execution_count": 38,
   "id": "0bbca1af-3e69-4797-b6b0-1963d2b10449",
   "metadata": {
    "execution": {
     "iopub.execute_input": "2024-04-30T07:21:55.283305Z",
     "iopub.status.busy": "2024-04-30T07:21:55.282311Z",
     "iopub.status.idle": "2024-04-30T07:21:55.295304Z",
     "shell.execute_reply": "2024-04-30T07:21:55.294304Z",
     "shell.execute_reply.started": "2024-04-30T07:21:55.283305Z"
    }
   },
   "outputs": [
    {
     "name": "stdout",
     "output_type": "stream",
     "text": [
      "Human: Hi\n",
      "AI: What's up\n"
     ]
    }
   ],
   "source": [
    "memory.save_context({\"input\": \"Hi\"}, \n",
    "                    {\"output\": \"What's up\"})\n",
    "print(memory.buffer)"
   ]
  },
  {
   "cell_type": "code",
   "execution_count": 39,
   "id": "576f4f88-6633-4e4b-bf8f-78152db89c38",
   "metadata": {
    "execution": {
     "iopub.execute_input": "2024-04-30T07:21:56.731127Z",
     "iopub.status.busy": "2024-04-30T07:21:56.731127Z",
     "iopub.status.idle": "2024-04-30T07:21:56.740124Z",
     "shell.execute_reply": "2024-04-30T07:21:56.740124Z",
     "shell.execute_reply.started": "2024-04-30T07:21:56.731127Z"
    }
   },
   "outputs": [
    {
     "data": {
      "text/plain": [
       "{'history': \"Human: Hi\\nAI: What's up\"}"
      ]
     },
     "execution_count": 39,
     "metadata": {},
     "output_type": "execute_result"
    }
   ],
   "source": [
    "memory.load_memory_variables({})"
   ]
  },
  {
   "cell_type": "code",
   "execution_count": 40,
   "id": "763d2c4f-87b5-4fa8-9187-ffd615551847",
   "metadata": {
    "execution": {
     "iopub.execute_input": "2024-04-30T07:21:58.179212Z",
     "iopub.status.busy": "2024-04-30T07:21:58.178197Z",
     "iopub.status.idle": "2024-04-30T07:21:58.196198Z",
     "shell.execute_reply": "2024-04-30T07:21:58.194205Z",
     "shell.execute_reply.started": "2024-04-30T07:21:58.179212Z"
    }
   },
   "outputs": [
    {
     "data": {
      "text/plain": [
       "{'history': \"Human: Hi\\nAI: What's up\\nHuman: Not much, just hanging\\nAI: Cool\"}"
      ]
     },
     "execution_count": 40,
     "metadata": {},
     "output_type": "execute_result"
    }
   ],
   "source": [
    "memory.save_context({\"input\": \"Not much, just hanging\"}, \n",
    "                    {\"output\": \"Cool\"})\n",
    "memory.load_memory_variables({})"
   ]
  },
  {
   "cell_type": "markdown",
   "id": "6664d451-ffaa-425d-8768-fe53e2654ab9",
   "metadata": {
    "editable": true,
    "execution": {
     "iopub.execute_input": "2024-04-30T07:17:40.126714Z",
     "iopub.status.busy": "2024-04-30T07:17:40.126714Z",
     "iopub.status.idle": "2024-04-30T07:17:40.142264Z",
     "shell.execute_reply": "2024-04-30T07:17:40.141229Z",
     "shell.execute_reply.started": "2024-04-30T07:17:40.126714Z"
    },
    "slideshow": {
     "slide_type": ""
    },
    "tags": []
   },
   "source": [
    "### ConversationBufferWindowMemory"
   ]
  },
  {
   "cell_type": "markdown",
   "id": "d003f2d8-0891-4a0f-9b0f-783ef5122fa0",
   "metadata": {},
   "source": [
    "#### Chinese"
   ]
  },
  {
   "cell_type": "code",
   "execution_count": 42,
   "id": "acb4b427-faea-4376-973c-3f5821ae3ffd",
   "metadata": {
    "execution": {
     "iopub.execute_input": "2024-04-30T07:23:48.473686Z",
     "iopub.status.busy": "2024-04-30T07:23:48.472677Z",
     "iopub.status.idle": "2024-04-30T07:23:48.488745Z",
     "shell.execute_reply": "2024-04-30T07:23:48.487737Z",
     "shell.execute_reply.started": "2024-04-30T07:23:48.473686Z"
    }
   },
   "outputs": [],
   "source": [
    "from langchain.memory import ConversationBufferWindowMemory"
   ]
  },
  {
   "cell_type": "code",
   "execution_count": 43,
   "id": "024ec506-b1e9-4c53-8cf4-da670caba880",
   "metadata": {
    "execution": {
     "iopub.execute_input": "2024-04-30T07:23:50.359185Z",
     "iopub.status.busy": "2024-04-30T07:23:50.359185Z",
     "iopub.status.idle": "2024-04-30T07:23:50.370719Z",
     "shell.execute_reply": "2024-04-30T07:23:50.369719Z",
     "shell.execute_reply.started": "2024-04-30T07:23:50.359185Z"
    }
   },
   "outputs": [],
   "source": [
    "memory = ConversationBufferWindowMemory(k=1)\n",
    "\n",
    "memory.save_context({\"input\": \"你好！\"}, {\"output\": \"你好呀，近来身体如何？\"})\n",
    "memory.save_context({\"input\": \"我的身体很好，你怎么样\"}, {\"output\": \"我也很好\"})"
   ]
  },
  {
   "cell_type": "code",
   "execution_count": 44,
   "id": "5a35b488-1d93-46cd-9211-ca8a0cae1e9f",
   "metadata": {
    "execution": {
     "iopub.execute_input": "2024-04-30T07:23:57.165718Z",
     "iopub.status.busy": "2024-04-30T07:23:57.165718Z",
     "iopub.status.idle": "2024-04-30T07:23:57.170753Z",
     "shell.execute_reply": "2024-04-30T07:23:57.170753Z",
     "shell.execute_reply.started": "2024-04-30T07:23:57.165718Z"
    }
   },
   "outputs": [
    {
     "name": "stdout",
     "output_type": "stream",
     "text": [
      "Human: 我的身体很好，你怎么样\n",
      "AI: 我也很好\n"
     ]
    }
   ],
   "source": [
    "print(memory.buffer)"
   ]
  },
  {
   "cell_type": "code",
   "execution_count": 45,
   "id": "322e02bb-c31a-4347-bb9b-a653d58b9349",
   "metadata": {
    "execution": {
     "iopub.execute_input": "2024-04-30T07:24:08.139708Z",
     "iopub.status.busy": "2024-04-30T07:24:08.139708Z",
     "iopub.status.idle": "2024-04-30T07:24:13.221329Z",
     "shell.execute_reply": "2024-04-30T07:24:13.220161Z",
     "shell.execute_reply.started": "2024-04-30T07:24:08.139708Z"
    }
   },
   "outputs": [
    {
     "name": "stdout",
     "output_type": "stream",
     "text": [
      "\n",
      "\n",
      "\u001b[1m> Entering new ConversationChain chain...\u001b[0m\n",
      "Prompt after formatting:\n",
      "\u001b[32;1m\u001b[1;3mThe following is a friendly conversation between a human and an AI. The AI is talkative and provides lots of specific details from its context. If the AI does not know the answer to a question, it truthfully says it does not know.\n",
      "\n",
      "Current conversation:\n",
      "Human: 我的身体很好，你怎么样\n",
      "AI: 我也很好\n",
      "Human: 你好，我的名字是千帆职能小助手\n",
      "AI:\u001b[0m\n",
      "\n",
      "\u001b[1m> Finished chain.\u001b[0m\n"
     ]
    },
    {
     "data": {
      "text/plain": [
       "'你好，千帆职能小助手。很高兴认识你。我是一个人工智能，我们可以聊聊各种话题。你有什么特别感兴趣的事情吗？或者，我可以为你提供一些信息或帮助。'"
      ]
     },
     "execution_count": 45,
     "metadata": {},
     "output_type": "execute_result"
    }
   ],
   "source": [
    "llm = QianfanChatEndpoint(model=\"ERNIE-Bot-4\", temperature = 0.01)\n",
    "conversation = ConversationChain(\n",
    "    llm = llm,\n",
    "    memory = memory,\n",
    "    verbose = True\n",
    ")\n",
    "conversation.predict(input = \"你好，我的名字是千帆职能小助手\")"
   ]
  },
  {
   "cell_type": "code",
   "execution_count": 46,
   "id": "5757a635-15de-437b-b956-298f97fbfb5d",
   "metadata": {
    "execution": {
     "iopub.execute_input": "2024-04-30T07:24:32.119581Z",
     "iopub.status.busy": "2024-04-30T07:24:32.119581Z",
     "iopub.status.idle": "2024-04-30T07:24:39.620637Z",
     "shell.execute_reply": "2024-04-30T07:24:39.619466Z",
     "shell.execute_reply.started": "2024-04-30T07:24:32.119581Z"
    }
   },
   "outputs": [
    {
     "name": "stdout",
     "output_type": "stream",
     "text": [
      "\n",
      "\n",
      "\u001b[1m> Entering new ConversationChain chain...\u001b[0m\n",
      "Prompt after formatting:\n",
      "\u001b[32;1m\u001b[1;3mThe following is a friendly conversation between a human and an AI. The AI is talkative and provides lots of specific details from its context. If the AI does not know the answer to a question, it truthfully says it does not know.\n",
      "\n",
      "Current conversation:\n",
      "Human: 你好，我的名字是千帆职能小助手\n",
      "AI: 你好，千帆职能小助手。很高兴认识你。我是一个人工智能，我们可以聊聊各种话题。你有什么特别感兴趣的事情吗？或者，我可以为你提供一些信息或帮助。\n",
      "Human: 中国的首都是哪里？\n",
      "AI:\u001b[0m\n",
      "\n",
      "\u001b[1m> Finished chain.\u001b[0m\n"
     ]
    },
    {
     "data": {
      "text/plain": [
       "'中国的首都是北京。北京是中国的政治、文化和国际交往的中心，也是世界上最古老的城市之一。它有着悠久的历史和丰富的文化遗产，包括故宫、天坛、长城等著名景点。北京还是中国的经济中心之一，拥有众多的高科技企业和国际机构。此外，北京的美食也非常有名，比如烤鸭、豆汁、炸酱面等，吸引了来自世界各地的游客前来品尝。'"
      ]
     },
     "execution_count": 46,
     "metadata": {},
     "output_type": "execute_result"
    }
   ],
   "source": [
    "conversation.predict(input = \"中国的首都是哪里？\")"
   ]
  },
  {
   "cell_type": "code",
   "execution_count": 47,
   "id": "4fe7f84e-1469-406a-9e0f-be70324f6c28",
   "metadata": {
    "execution": {
     "iopub.execute_input": "2024-04-30T07:24:40.510725Z",
     "iopub.status.busy": "2024-04-30T07:24:40.509723Z",
     "iopub.status.idle": "2024-04-30T07:24:44.421064Z",
     "shell.execute_reply": "2024-04-30T07:24:44.420013Z",
     "shell.execute_reply.started": "2024-04-30T07:24:40.510725Z"
    }
   },
   "outputs": [
    {
     "name": "stdout",
     "output_type": "stream",
     "text": [
      "\n",
      "\n",
      "\u001b[1m> Entering new ConversationChain chain...\u001b[0m\n",
      "Prompt after formatting:\n",
      "\u001b[32;1m\u001b[1;3mThe following is a friendly conversation between a human and an AI. The AI is talkative and provides lots of specific details from its context. If the AI does not know the answer to a question, it truthfully says it does not know.\n",
      "\n",
      "Current conversation:\n",
      "Human: 中国的首都是哪里？\n",
      "AI: 中国的首都是北京。北京是中国的政治、文化和国际交往的中心，也是世界上最古老的城市之一。它有着悠久的历史和丰富的文化遗产，包括故宫、天坛、长城等著名景点。北京还是中国的经济中心之一，拥有众多的高科技企业和国际机构。此外，北京的美食也非常有名，比如烤鸭、豆汁、炸酱面等，吸引了来自世界各地的游客前来品尝。\n",
      "Human: 我的名字是什么？\n",
      "AI:\u001b[0m\n",
      "\n",
      "\u001b[1m> Finished chain.\u001b[0m\n"
     ]
    },
    {
     "data": {
      "text/plain": [
       "'很抱歉，我并不知道您的名字。如果您愿意告诉我您的名字，我将尽力回答您的问题并提供更好的服务。'"
      ]
     },
     "execution_count": 47,
     "metadata": {},
     "output_type": "execute_result"
    }
   ],
   "source": [
    "conversation.predict(input = \"我的名字是什么？\")"
   ]
  },
  {
   "cell_type": "markdown",
   "id": "dcb7b80d-8556-4e24-b692-e2486d40a724",
   "metadata": {},
   "source": [
    "#### English"
   ]
  },
  {
   "cell_type": "code",
   "execution_count": 48,
   "id": "65e1d50d-d2a9-4318-8ca8-bf6192d36f6d",
   "metadata": {
    "execution": {
     "iopub.execute_input": "2024-04-30T07:28:17.238956Z",
     "iopub.status.busy": "2024-04-30T07:28:17.237958Z",
     "iopub.status.idle": "2024-04-30T07:28:17.257609Z",
     "shell.execute_reply": "2024-04-30T07:28:17.256608Z",
     "shell.execute_reply.started": "2024-04-30T07:28:17.237958Z"
    }
   },
   "outputs": [],
   "source": [
    "memory = ConversationBufferWindowMemory(k=1)   "
   ]
  },
  {
   "cell_type": "code",
   "execution_count": 49,
   "id": "0e0b4ebf-c557-4d50-ae0b-09fe4d1753dc",
   "metadata": {
    "execution": {
     "iopub.execute_input": "2024-04-30T07:28:17.771231Z",
     "iopub.status.busy": "2024-04-30T07:28:17.771231Z",
     "iopub.status.idle": "2024-04-30T07:28:17.792104Z",
     "shell.execute_reply": "2024-04-30T07:28:17.791105Z",
     "shell.execute_reply.started": "2024-04-30T07:28:17.771231Z"
    }
   },
   "outputs": [
    {
     "data": {
      "text/plain": [
       "{'history': 'Human: Not much, just hanging\\nAI: Cool'}"
      ]
     },
     "execution_count": 49,
     "metadata": {},
     "output_type": "execute_result"
    }
   ],
   "source": [
    "memory.save_context({\"input\": \"Hi\"},\n",
    "                    {\"output\": \"What's up\"})\n",
    "memory.save_context({\"input\": \"Not much, just hanging\"},\n",
    "                    {\"output\": \"Cool\"})\n",
    "\n",
    "memory.load_memory_variables({})"
   ]
  },
  {
   "cell_type": "code",
   "execution_count": 50,
   "id": "b2e8938e-d4e0-4120-a131-c39c4b279b50",
   "metadata": {
    "execution": {
     "iopub.execute_input": "2024-04-30T07:28:22.988872Z",
     "iopub.status.busy": "2024-04-30T07:28:22.988872Z",
     "iopub.status.idle": "2024-04-30T07:28:23.007216Z",
     "shell.execute_reply": "2024-04-30T07:28:23.006214Z",
     "shell.execute_reply.started": "2024-04-30T07:28:22.988872Z"
    }
   },
   "outputs": [],
   "source": [
    "llm = QianfanChatEndpoint(model=\"ERNIE-Bot-4\", temperature = 0.01)\n",
    "conversation = ConversationChain(\n",
    "    llm=llm, \n",
    "    memory = memory,\n",
    "    verbose=False\n",
    ")"
   ]
  },
  {
   "cell_type": "code",
   "execution_count": 51,
   "id": "c7e06b00-5ada-4449-af64-069331bbf7ef",
   "metadata": {
    "execution": {
     "iopub.execute_input": "2024-04-30T07:28:25.704100Z",
     "iopub.status.busy": "2024-04-30T07:28:25.703074Z",
     "iopub.status.idle": "2024-04-30T07:28:30.292768Z",
     "shell.execute_reply": "2024-04-30T07:28:30.291769Z",
     "shell.execute_reply.started": "2024-04-30T07:28:25.704100Z"
    }
   },
   "outputs": [
    {
     "data": {
      "text/plain": [
       "\"Hello Andrew! It's nice to meet you. I'm an artificial intelligence, designed to answer questions and engage in conversation. What would you like to talk about today?\""
      ]
     },
     "execution_count": 51,
     "metadata": {},
     "output_type": "execute_result"
    }
   ],
   "source": [
    "\n",
    "conversation.predict(input=\"Hi, my name is Andrew\")"
   ]
  },
  {
   "cell_type": "code",
   "execution_count": 52,
   "id": "6119149f-9a4e-47b9-a4c1-85e75cb3f435",
   "metadata": {
    "execution": {
     "iopub.execute_input": "2024-04-30T07:28:30.294112Z",
     "iopub.status.busy": "2024-04-30T07:28:30.294112Z",
     "iopub.status.idle": "2024-04-30T07:28:36.156208Z",
     "shell.execute_reply": "2024-04-30T07:28:36.155196Z",
     "shell.execute_reply.started": "2024-04-30T07:28:30.294112Z"
    }
   },
   "outputs": [
    {
     "data": {
      "text/plain": [
       "\"The answer to 1+1 is 2. It's a basic mathematical operation where you add two numbers together. In this case, you're adding 1 and 1, which results in 2.\""
      ]
     },
     "execution_count": 52,
     "metadata": {},
     "output_type": "execute_result"
    }
   ],
   "source": [
    "conversation.predict(input=\"What is 1+1?\")"
   ]
  },
  {
   "cell_type": "code",
   "execution_count": 53,
   "id": "93ad44aa-1f30-408f-a245-035ab8851dbf",
   "metadata": {
    "execution": {
     "iopub.execute_input": "2024-04-30T07:28:36.157216Z",
     "iopub.status.busy": "2024-04-30T07:28:36.157216Z",
     "iopub.status.idle": "2024-04-30T07:28:39.974906Z",
     "shell.execute_reply": "2024-04-30T07:28:39.972907Z",
     "shell.execute_reply.started": "2024-04-30T07:28:36.157216Z"
    }
   },
   "outputs": [
    {
     "data": {
      "text/plain": [
       "\"I'm sorry, but I don't know your name. You haven't provided it to me, and I don't have any way of knowing it unless you tell me.\""
      ]
     },
     "execution_count": 53,
     "metadata": {},
     "output_type": "execute_result"
    }
   ],
   "source": [
    "conversation.predict(input=\"What is my name?\")"
   ]
  },
  {
   "cell_type": "markdown",
   "id": "ff81d444-47a6-4fbf-a4f9-f327e0183348",
   "metadata": {
    "execution": {
     "iopub.execute_input": "2024-04-30T07:29:45.007727Z",
     "iopub.status.busy": "2024-04-30T07:29:45.006697Z",
     "iopub.status.idle": "2024-04-30T07:29:45.015726Z",
     "shell.execute_reply": "2024-04-30T07:29:45.014740Z",
     "shell.execute_reply.started": "2024-04-30T07:29:45.007727Z"
    }
   },
   "source": [
    "### ConversationTokenBufferMemory"
   ]
  },
  {
   "cell_type": "code",
   "execution_count": 2,
   "id": "6fcb2508-6f54-4213-b712-610b7dcc7f98",
   "metadata": {
    "execution": {
     "iopub.execute_input": "2024-04-30T08:05:07.628352Z",
     "iopub.status.busy": "2024-04-30T08:05:07.628352Z",
     "iopub.status.idle": "2024-04-30T08:05:13.104578Z",
     "shell.execute_reply": "2024-04-30T08:05:13.103573Z",
     "shell.execute_reply.started": "2024-04-30T08:05:07.628352Z"
    }
   },
   "outputs": [
    {
     "name": "stderr",
     "output_type": "stream",
     "text": [
      "C:\\Users\\xu6\\AppData\\Local\\miniconda3\\envs\\dev\\lib\\site-packages\\tqdm\\auto.py:21: TqdmWarning: IProgress not found. Please update jupyter and ipywidgets. See https://ipywidgets.readthedocs.io/en/stable/user_install.html\n",
      "  from .autonotebook import tqdm as notebook_tqdm\n"
     ]
    }
   ],
   "source": [
    "from langchain.memory import ConversationTokenBufferMemory\n",
    "\n",
    "llm = QianfanChatEndpoint(model=\"ERNIE-Bot-4\", temperature = 0.01)\n",
    "\n",
    "memory = ConversationTokenBufferMemory(llm=llm, max_token_limit=50)\n",
    "memory.save_context({\"input\": \"AI is what?!\"},\n",
    "                    {\"output\": \"Amazing!\"})\n",
    "memory.save_context({\"input\": \"Backpropagation is what?\"},\n",
    "                    {\"output\": \"Beautiful!\"})\n",
    "memory.save_context({\"input\": \"Chatbots are what?\"}, \n",
    "                    {\"output\": \"Charming!\"})"
   ]
  },
  {
   "cell_type": "code",
   "execution_count": 3,
   "id": "3e56620f-3294-4fbb-b2fb-75c5c2fef8ef",
   "metadata": {
    "execution": {
     "iopub.execute_input": "2024-04-30T08:05:13.979268Z",
     "iopub.status.busy": "2024-04-30T08:05:13.978268Z",
     "iopub.status.idle": "2024-04-30T08:05:13.988272Z",
     "shell.execute_reply": "2024-04-30T08:05:13.987271Z",
     "shell.execute_reply.started": "2024-04-30T08:05:13.979268Z"
    }
   },
   "outputs": [],
   "source": [
    "memory.save_context({\"input\": \"how old are you?\"}, \n",
    "                    {\"output\": \"20!\"})"
   ]
  },
  {
   "cell_type": "code",
   "execution_count": 4,
   "id": "acf735aa-532c-4158-b2b4-17df73a8600f",
   "metadata": {
    "execution": {
     "iopub.execute_input": "2024-04-30T08:05:25.914485Z",
     "iopub.status.busy": "2024-04-30T08:05:25.914485Z",
     "iopub.status.idle": "2024-04-30T08:05:25.920488Z",
     "shell.execute_reply": "2024-04-30T08:05:25.920488Z",
     "shell.execute_reply.started": "2024-04-30T08:05:25.914485Z"
    }
   },
   "outputs": [
    {
     "data": {
      "text/plain": [
       "{'history': 'Human: AI is what?!\\nAI: Amazing!\\nHuman: Backpropagation is what?\\nAI: Beautiful!\\nHuman: Chatbots are what?\\nAI: Charming!\\nHuman: how old are you?\\nAI: 20!'}"
      ]
     },
     "execution_count": 4,
     "metadata": {},
     "output_type": "execute_result"
    }
   ],
   "source": [
    "# 不能工作。\n",
    "memory.load_memory_variables({})"
   ]
  },
  {
   "cell_type": "code",
   "execution_count": 5,
   "id": "a8bd9a5a-2d82-451c-ab47-4af4c0478b89",
   "metadata": {
    "execution": {
     "iopub.execute_input": "2024-04-30T08:05:29.215202Z",
     "iopub.status.busy": "2024-04-30T08:05:29.214197Z",
     "iopub.status.idle": "2024-04-30T08:05:29.220205Z",
     "shell.execute_reply": "2024-04-30T08:05:29.220205Z",
     "shell.execute_reply.started": "2024-04-30T08:05:29.215202Z"
    }
   },
   "outputs": [
    {
     "name": "stdout",
     "output_type": "stream",
     "text": [
      "Human: AI is what?!\n",
      "AI: Amazing!\n",
      "Human: Backpropagation is what?\n",
      "AI: Beautiful!\n",
      "Human: Chatbots are what?\n",
      "AI: Charming!\n",
      "Human: how old are you?\n",
      "AI: 20!\n"
     ]
    }
   ],
   "source": [
    "print(memory.buffer)"
   ]
  },
  {
   "cell_type": "markdown",
   "id": "bec75645-dd1a-4a20-a046-51cfb8e24819",
   "metadata": {},
   "source": [
    "### ConversationSummaryMemory"
   ]
  },
  {
   "cell_type": "markdown",
   "id": "82be3416-7cec-404a-a5c7-4b6e98610967",
   "metadata": {},
   "source": [
    "#### Chinese"
   ]
  },
  {
   "cell_type": "code",
   "execution_count": 6,
   "id": "5bb630d5-7404-4b24-8d16-e78a5b9b57b5",
   "metadata": {
    "execution": {
     "iopub.execute_input": "2024-04-30T08:08:28.866987Z",
     "iopub.status.busy": "2024-04-30T08:08:28.865363Z",
     "iopub.status.idle": "2024-04-30T08:09:00.900032Z",
     "shell.execute_reply": "2024-04-30T08:09:00.900032Z",
     "shell.execute_reply.started": "2024-04-30T08:08:28.866987Z"
    }
   },
   "outputs": [
    {
     "name": "stderr",
     "output_type": "stream",
     "text": [
      "[INFO] [04-30 16:08:28] oauth.py:222 [t:26972]: trying to refresh access_token for ak `HCCPsQ***`\n",
      "[INFO] [04-30 16:08:31] oauth.py:237 [t:26972]: sucessfully refresh access_token\n"
     ]
    }
   ],
   "source": [
    "from langchain.memory import ConversationSummaryMemory\n",
    "\n",
    "llm = QianfanChatEndpoint(model=\"ERNIE-Bot-4\", temperature = 0.01)\n",
    "memory = ConversationSummaryMemory(llm=llm)\n",
    "memory.save_context({\"input\": \"你好！\"}, {\"output\": \"你好呀，近来身体如何？\"})\n",
    "memory.save_context({\"input\": \"我的身体很好，你怎么样\"}, {\"output\": \"我也很好\"})\n",
    "memory.save_context({\"input\": \"最近有什么新闻\"}, {\"output\": \"2024年春节至少放假8天，从初一放到初八，如果配合带薪休假可以放假9天，堪称新年第一份大礼包。虽然除夕当天名义上不放假，但鼓励各单位和机构根据实际情况来灵活安排。同时高速公路已经免费了，实质上就是创造条件给老百姓多放一天假。春节假期的延长，能够满足广大群众有更多时间用于亲人团聚的心愿，还可以实现一个假期先团聚、后旅游的小目标。这是在依据《全国年节及纪念日放假办法》规定的基础上的创新之举、暖心之举，充分体现出政策制定者的用心良苦和精心设计。\"})"
   ]
  },
  {
   "cell_type": "code",
   "execution_count": 7,
   "id": "c66c922c-557d-43c8-a74f-8236dcbdc4e4",
   "metadata": {
    "execution": {
     "iopub.execute_input": "2024-04-30T08:09:00.900032Z",
     "iopub.status.busy": "2024-04-30T08:09:00.900032Z",
     "iopub.status.idle": "2024-04-30T08:09:00.916048Z",
     "shell.execute_reply": "2024-04-30T08:09:00.916048Z",
     "shell.execute_reply.started": "2024-04-30T08:09:00.900032Z"
    }
   },
   "outputs": [
    {
     "name": "stdout",
     "output_type": "stream",
     "text": [
      "Human greeted the AI with \"你好！\" and the AI responded by asking how the human has been recently with \"你好呀，近来身体如何？\". The human then responded that they are in good health and asked how the AI is, to which the AI replied that it is also well. The human then asked about recent news, and the AI informed them that in 2024, the Spring Festival holiday will last at least 8 days, from the first day of the lunar new year to the eighth day. With paid leave, it could be extended to 9 days, which is considered a great gift to start the new year. Although the eve of the new year is not officially a holiday, units and organizations are encouraged to arrange flexible schedules based on actual situations. Additionally, highways will be toll-free, essentially giving people an extra day off. The extension of the Spring Festival holiday will fulfill the wish of many people to have more time for family reunions and also allow them to achieve the small goal of reuniting with family before traveling. This innovative and heartwarming measure is based on the provisions of the \"National Holidays and Memorial Days Holiday Measures\" and demonstrates the careful consideration and thoughtful design of the policy makers.\n"
     ]
    }
   ],
   "source": [
    "print(memory.buffer) "
   ]
  },
  {
   "cell_type": "code",
   "execution_count": 8,
   "id": "31a07194-db88-47a2-b885-18776219e182",
   "metadata": {
    "execution": {
     "iopub.execute_input": "2024-04-30T08:11:01.367125Z",
     "iopub.status.busy": "2024-04-30T08:11:01.366123Z",
     "iopub.status.idle": "2024-04-30T08:11:01.377908Z",
     "shell.execute_reply": "2024-04-30T08:11:01.377506Z",
     "shell.execute_reply.started": "2024-04-30T08:11:01.367125Z"
    }
   },
   "outputs": [
    {
     "name": "stdout",
     "output_type": "stream",
     "text": [
      "input_variables=['new_lines', 'summary'] template='Progressively summarize the lines of conversation provided, adding onto the previous summary returning a new summary.\\n\\nEXAMPLE\\nCurrent summary:\\nThe human asks what the AI thinks of artificial intelligence. The AI thinks artificial intelligence is a force for good.\\n\\nNew lines of conversation:\\nHuman: Why do you think artificial intelligence is a force for good?\\nAI: Because artificial intelligence will help humans reach their full potential.\\n\\nNew summary:\\nThe human asks what the AI thinks of artificial intelligence. The AI thinks artificial intelligence is a force for good because it will help humans reach their full potential.\\nEND OF EXAMPLE\\n\\nCurrent summary:\\n{summary}\\n\\nNew lines of conversation:\\n{new_lines}\\n\\nNew summary:'\n"
     ]
    }
   ],
   "source": [
    "print(memory.prompt)"
   ]
  },
  {
   "cell_type": "code",
   "execution_count": 9,
   "id": "69d49aab-02f5-4003-bf85-4ee8de7ee2f8",
   "metadata": {
    "execution": {
     "iopub.execute_input": "2024-04-30T08:14:01.654037Z",
     "iopub.status.busy": "2024-04-30T08:14:01.638532Z",
     "iopub.status.idle": "2024-04-30T08:14:22.603297Z",
     "shell.execute_reply": "2024-04-30T08:14:22.603297Z",
     "shell.execute_reply.started": "2024-04-30T08:14:01.654037Z"
    }
   },
   "outputs": [
    {
     "name": "stdout",
     "output_type": "stream",
     "text": [
      "Human向AI问好并询问了AI的状况，AI回应了问候并表示自己也很好。随后，Human告知AI自己的身体状况良好，并询问了最近的新闻。AI回应说，2024年春节将至少放假8天，从初一放到初八，如果配合带薪休假可以放假9天，这是一项创新且暖心的政策，旨在满足广大群众有更多时间用于亲人团聚和旅游的小目标，同时高速公路免费也为老百姓多放一天假创造了条件。\n"
     ]
    }
   ],
   "source": [
    "from langchain.prompts.prompt import PromptTemplate\n",
    "\n",
    "SUMMARIZER_TEMPLATE = \"\"\"逐步总结所提供的谈话内容，将其添加到上一个摘要中，返回一个新的摘要。\n",
    "\n",
    "示例\n",
    "当前摘要：\n",
    "人类会问人工智能对人工智能的看法。人工智能认为人工智能是一股向善的力量。\n",
    "\n",
    "新的谈话内容：\n",
    "人类：为什么你认为人工智能是一股向善的力量？\n",
    "人工智能：因为人工智能将帮助人类充分发挥潜力。\n",
    "\n",
    "新摘要：\n",
    "人类会问人工智能对人工智能的看法。人工智能认为人工智能是一股向善的力量，因为它将帮助人类充分发挥潜力。\n",
    "\n",
    "示例结束\n",
    "当前摘要：\n",
    "{summary}\n",
    "\n",
    "新的谈话内容：\n",
    "{new_lines}\n",
    "\n",
    "新摘要：\n",
    "\"\"\"\n",
    "SUMMARY_PROMPT = PromptTemplate(\n",
    "    input_variables=[\"summary\", \"new_lines\"], template=SUMMARIZER_TEMPLATE\n",
    ")\n",
    "memory = ConversationSummaryMemory(llm=llm, prompt=SUMMARY_PROMPT)\n",
    "\n",
    "memory.save_context({\"input\": \"你好！\"}, {\"output\": \"你好呀，近来身体如何？\"})\n",
    "memory.save_context({\"input\": \"我的身体很好，你怎么样\"}, {\"output\": \"我也很好\"})\n",
    "memory.save_context({\"input\": \"最近有什么新闻\"}, {\"output\": \"2024年春节至少放假8天，从初一放到初八，如果配合带薪休假可以放假9天，堪称新年第一份大礼包。虽然除夕当天名义上不放假，但鼓励各单位和机构根据实际情况来灵活安排。同时高速公路已经免费了，实质上就是创造条件给老百姓多放一天假。春节假期的延长，能够满足广大群众有更多时间用于亲人团聚的心愿，还可以实现一个假期先团聚、后旅游的小目标。这是在依据《全国年节及纪念日放假办法》规定的基础上的创新之举、暖心之举，充分体现出政策制定者的用心良苦和精心设计。\"})\n",
    "\n",
    "print(memory.buffer)"
   ]
  },
  {
   "cell_type": "code",
   "execution_count": 12,
   "id": "12826b3e-6ade-4178-82ea-6986cea301ca",
   "metadata": {
    "execution": {
     "iopub.execute_input": "2024-04-30T08:15:17.642499Z",
     "iopub.status.busy": "2024-04-30T08:15:17.642499Z",
     "iopub.status.idle": "2024-04-30T08:15:39.833807Z",
     "shell.execute_reply": "2024-04-30T08:15:39.831798Z",
     "shell.execute_reply.started": "2024-04-30T08:15:17.642499Z"
    }
   },
   "outputs": [
    {
     "name": "stdout",
     "output_type": "stream",
     "text": [
      "\n",
      "\n",
      "\u001b[1m> Entering new ConversationChain chain...\u001b[0m\n",
      "Prompt after formatting:\n",
      "\u001b[32;1m\u001b[1;3mThe following is a friendly conversation between a human and an AI. The AI is talkative and provides lots of specific details from its context. If the AI does not know the answer to a question, it truthfully says it does not know.\n",
      "\n",
      "Current conversation:\n",
      "Human向AI问好并询问了AI的状况，AI回应了问候并表示自己也很好。随后，Human告知AI自己的身体状况良好，并询问了最近的新闻。AI回应说，2024年春节将至少放假8天，从初一放到初八，如果配合带薪休假可以放假9天，这是一项创新且暖心的政策，旨在满足广大群众有更多时间用于亲人团聚和旅游的小目标，同时高速公路免费也为老百姓多放一天假创造了条件。\n",
      "Human: 2024年春节放假几天？\n",
      "AI:\u001b[0m\n",
      "\n",
      "\u001b[1m> Finished chain.\u001b[0m\n"
     ]
    },
    {
     "data": {
      "text/plain": [
       "'AI: 2024年春节将至少放假8天，从初一放到初八。如果配合带薪休假，有可能放假9天。这是一项新的政策安排，目的是为了让人们有更多的时间与家人团聚和旅游。同时，高速公路免费通行也为大家多放一天假提供了便利。希望这些信息能对你有所帮助。如果你还有其他问题或需要更多关于春节的信息，随时告诉我。'"
      ]
     },
     "execution_count": 12,
     "metadata": {},
     "output_type": "execute_result"
    }
   ],
   "source": [
    "conversation = ConversationChain(\n",
    "    llm = llm,\n",
    "    memory = memory,\n",
    "    verbose = True\n",
    ")\n",
    "conversation.predict(input=\"2024年春节放假几天？\")"
   ]
  },
  {
   "cell_type": "code",
   "execution_count": 13,
   "id": "565eccbc-6b98-487e-a408-07ea1b951bc4",
   "metadata": {
    "execution": {
     "iopub.execute_input": "2024-04-30T08:15:39.835321Z",
     "iopub.status.busy": "2024-04-30T08:15:39.835321Z",
     "iopub.status.idle": "2024-04-30T08:16:07.036808Z",
     "shell.execute_reply": "2024-04-30T08:16:07.036808Z",
     "shell.execute_reply.started": "2024-04-30T08:15:39.835321Z"
    }
   },
   "outputs": [
    {
     "name": "stdout",
     "output_type": "stream",
     "text": [
      "\n",
      "\n",
      "\u001b[1m> Entering new ConversationChain chain...\u001b[0m\n",
      "Prompt after formatting:\n",
      "\u001b[32;1m\u001b[1;3mThe following is a friendly conversation between a human and an AI. The AI is talkative and provides lots of specific details from its context. If the AI does not know the answer to a question, it truthfully says it does not know.\n",
      "\n",
      "Current conversation:\n",
      "Human向AI问好并询问了AI的状况，AI回应了问候并表示自己也很好。随后，Human告知AI自己的身体状况良好，并询问了最近的新闻。AI回应说，2024年春节将至少放假8天，从初一放到初八，如果配合带薪休假可以放假9天，这是一项创新且暖心的政策，旨在满足广大群众有更多时间用于亲人团聚和旅游的小目标，同时高速公路免费也为老百姓多放一天假创造了条件。Human再次询问了2024年春节的放假天数，AI重复了之前的回答，并补充说这是一项新的政策安排，目的是为了让人们有更多的时间与家人团聚和旅游，同时高速公路免费通行也为大家多放一天假提供了便利。\n",
      "Human: 2023年春节放假几天？\n",
      "AI:\u001b[0m\n",
      "\n",
      "\u001b[1m> Finished chain.\u001b[0m\n"
     ]
    },
    {
     "data": {
      "text/plain": [
       "'AI: 2023年春节的放假安排是放假7天，从除夕到大年初六。这是往年的常规安排，旨在让人们有足够的时间与家人团聚，庆祝这个重要的传统节日。不过请注意，具体的放假日期可能会根据地区和单位的实际情况有所调整，建议您参考官方发布的放假通知以获取最准确的信息。 \\n\\n另外，如果您计划在此期间出行，也请关注交通和旅游部门的相关公告，以确保您的行程顺利。'"
      ]
     },
     "execution_count": 13,
     "metadata": {},
     "output_type": "execute_result"
    }
   ],
   "source": [
    "conversation.predict(input=\"2023年春节放假几天？\")"
   ]
  },
  {
   "cell_type": "markdown",
   "id": "bf6a3d79-553a-4a56-81d1-cf232a23804d",
   "metadata": {},
   "source": [
    "#### English"
   ]
  },
  {
   "cell_type": "code",
   "execution_count": 17,
   "id": "9db1400d-66db-4820-89af-0821910d2674",
   "metadata": {
    "execution": {
     "iopub.execute_input": "2024-04-30T08:19:44.284050Z",
     "iopub.status.busy": "2024-04-30T08:19:44.284050Z",
     "iopub.status.idle": "2024-04-30T08:19:44.293547Z",
     "shell.execute_reply": "2024-04-30T08:19:44.292546Z",
     "shell.execute_reply.started": "2024-04-30T08:19:44.284050Z"
    }
   },
   "outputs": [],
   "source": [
    "from langchain.memory import ConversationSummaryBufferMemory"
   ]
  },
  {
   "cell_type": "code",
   "execution_count": 19,
   "id": "b3bf8759-8772-4069-b449-38ed4ad8cedd",
   "metadata": {
    "execution": {
     "iopub.execute_input": "2024-04-30T08:21:44.663337Z",
     "iopub.status.busy": "2024-04-30T08:21:44.663337Z",
     "iopub.status.idle": "2024-04-30T08:21:49.670936Z",
     "shell.execute_reply": "2024-04-30T08:21:49.669942Z",
     "shell.execute_reply.started": "2024-04-30T08:21:44.663337Z"
    }
   },
   "outputs": [],
   "source": [
    "llm = QianfanChatEndpoint(model=\"ERNIE-Bot-4\", temperature = 0.01)\n",
    "\n",
    "# create a long string\n",
    "schedule = \"There is a meeting at 8am with your product team. \\\n",
    "You will need your powerpoint presentation prepared. \\\n",
    "9am-12pm have time to work on your LangChain \\\n",
    "project which will go quickly because Langchain is such a powerful tool. \\\n",
    "At Noon, lunch at the italian resturant with a customer who is driving \\\n",
    "from over an hour away to meet you to understand the latest in AI. \\\n",
    "Be sure to bring your laptop to show the latest LLM demo.\"\n",
    "\n",
    "memory = ConversationSummaryBufferMemory(llm=llm, max_token_limit=100)\n",
    "memory.save_context({\"input\": \"Hello\"}, {\"output\": \"What's up\"})\n",
    "memory.save_context({\"input\": \"Not much, just hanging\"},\n",
    "                    {\"output\": \"Cool\"})\n",
    "memory.save_context({\"input\": \"What is on the schedule today?\"}, \n",
    "                    {\"output\": f\"{schedule}\"})"
   ]
  },
  {
   "cell_type": "code",
   "execution_count": 20,
   "id": "909f6c70-4591-4b0f-b46e-04031b2753f6",
   "metadata": {
    "execution": {
     "iopub.execute_input": "2024-04-30T08:21:49.671943Z",
     "iopub.status.busy": "2024-04-30T08:21:49.671943Z",
     "iopub.status.idle": "2024-04-30T08:21:49.689998Z",
     "shell.execute_reply": "2024-04-30T08:21:49.688993Z",
     "shell.execute_reply.started": "2024-04-30T08:21:49.671943Z"
    }
   },
   "outputs": [
    {
     "data": {
      "text/plain": [
       "{'history': 'System: A human greeted the AI and asked what was up. The AI responded with a casual greeting. The human then mentioned they were just hanging out. The AI agreed and said \"cool.\" The human then inquired about the schedule for the day.\\nAI: There is a meeting at 8am with your product team. You will need your powerpoint presentation prepared. 9am-12pm have time to work on your LangChain project which will go quickly because Langchain is such a powerful tool. At Noon, lunch at the italian resturant with a customer who is driving from over an hour away to meet you to understand the latest in AI. Be sure to bring your laptop to show the latest LLM demo.'}"
      ]
     },
     "execution_count": 20,
     "metadata": {},
     "output_type": "execute_result"
    }
   ],
   "source": [
    "memory.load_memory_variables({})"
   ]
  },
  {
   "cell_type": "code",
   "execution_count": 21,
   "id": "d205ecf1-894c-41b5-b5b4-ef92ec0b0a8a",
   "metadata": {
    "execution": {
     "iopub.execute_input": "2024-04-30T08:21:49.690994Z",
     "iopub.status.busy": "2024-04-30T08:21:49.690994Z",
     "iopub.status.idle": "2024-04-30T08:21:49.705014Z",
     "shell.execute_reply": "2024-04-30T08:21:49.703995Z",
     "shell.execute_reply.started": "2024-04-30T08:21:49.690994Z"
    }
   },
   "outputs": [],
   "source": [
    "conversation = ConversationChain(\n",
    "    llm=llm, \n",
    "    memory = memory,\n",
    "    verbose=True\n",
    ")"
   ]
  },
  {
   "cell_type": "code",
   "execution_count": 22,
   "id": "e09b9ffd-1908-4cf2-9542-529942420101",
   "metadata": {
    "execution": {
     "iopub.execute_input": "2024-04-30T08:21:52.396510Z",
     "iopub.status.busy": "2024-04-30T08:21:52.396510Z",
     "iopub.status.idle": "2024-04-30T08:22:22.778327Z",
     "shell.execute_reply": "2024-04-30T08:22:22.777327Z",
     "shell.execute_reply.started": "2024-04-30T08:21:52.396510Z"
    }
   },
   "outputs": [
    {
     "name": "stdout",
     "output_type": "stream",
     "text": [
      "\n",
      "\n",
      "\u001b[1m> Entering new ConversationChain chain...\u001b[0m\n",
      "Prompt after formatting:\n",
      "\u001b[32;1m\u001b[1;3mThe following is a friendly conversation between a human and an AI. The AI is talkative and provides lots of specific details from its context. If the AI does not know the answer to a question, it truthfully says it does not know.\n",
      "\n",
      "Current conversation:\n",
      "System: A human greeted the AI and asked what was up. The AI responded with a casual greeting. The human then mentioned they were just hanging out. The AI agreed and said \"cool.\" The human then inquired about the schedule for the day.\n",
      "AI: There is a meeting at 8am with your product team. You will need your powerpoint presentation prepared. 9am-12pm have time to work on your LangChain project which will go quickly because Langchain is such a powerful tool. At Noon, lunch at the italian resturant with a customer who is driving from over an hour away to meet you to understand the latest in AI. Be sure to bring your laptop to show the latest LLM demo.\n",
      "Human: What would be a good demo to show?\n",
      "AI:\u001b[0m\n",
      "\n",
      "\u001b[1m> Finished chain.\u001b[0m\n"
     ]
    },
    {
     "data": {
      "text/plain": [
       "\"A good demo to show would be one that highlights the key features and capabilities of LangChain. For example, you could demonstrate how LangChain can be used to generate coherent and contextually relevant text, or how it can be fine-tuned to perform specific tasks like sentiment analysis or question answering. If the customer is particularly interested in the latest advancements in AI, you could also showcase some of LangChain's more cutting-edge features, such as its ability to handle complex language understanding tasks or generate creative content. Ultimately, the best demo will depend on the customer's specific interests and needs, so it might be helpful to ask them a few questions beforehand to get a sense of what they're looking for.\""
      ]
     },
     "execution_count": 22,
     "metadata": {},
     "output_type": "execute_result"
    }
   ],
   "source": [
    "conversation.predict(input=\"What would be a good demo to show?\")"
   ]
  },
  {
   "cell_type": "code",
   "execution_count": 23,
   "id": "2afe4c19-7332-41d8-b8d0-1d9d8b0b8ed8",
   "metadata": {
    "execution": {
     "iopub.execute_input": "2024-04-30T08:22:32.251371Z",
     "iopub.status.busy": "2024-04-30T08:22:32.251371Z",
     "iopub.status.idle": "2024-04-30T08:22:36.193488Z",
     "shell.execute_reply": "2024-04-30T08:22:36.192487Z",
     "shell.execute_reply.started": "2024-04-30T08:22:32.251371Z"
    }
   },
   "outputs": [
    {
     "name": "stdout",
     "output_type": "stream",
     "text": [
      "\n",
      "\n",
      "\u001b[1m> Entering new ConversationChain chain...\u001b[0m\n",
      "Prompt after formatting:\n",
      "\u001b[32;1m\u001b[1;3mThe following is a friendly conversation between a human and an AI. The AI is talkative and provides lots of specific details from its context. If the AI does not know the answer to a question, it truthfully says it does not know.\n",
      "\n",
      "Current conversation:\n",
      "System: A human greeted the AI and asked what was up. The AI responded with a casual greeting. The human mentioned they were just hanging out. The AI agreed and said \"cool.\" The human then asked about the schedule for the day. The AI informed them about a meeting at 8am with the product team, for which they need to prepare a Powerpoint presentation, followed by work on their LangChain project from 9am to 12pm. At noon, they have lunch with a customer who is driving over an hour to meet them. The AI advised the human to bring their laptop to show the latest LLM demo, highlighting key features like coherent text generation, contextual relevance, fine-tuning for specific tasks, and handling complex language understanding or creative content generation, depending on the customer's interests.\n",
      "Human: where doe have lunch?\n",
      "AI:\u001b[0m\n",
      "\n",
      "\u001b[1m> Finished chain.\u001b[0m\n"
     ]
    },
    {
     "data": {
      "text/plain": [
       "'The AI responded: \"The lunch location has not been decided yet, but the customer suggested a few places near their office. We can choose one based on the availability and cuisine preferences. I\\'ll keep you updated once the decision is made.\"'"
      ]
     },
     "execution_count": 23,
     "metadata": {},
     "output_type": "execute_result"
    }
   ],
   "source": [
    "# 有问题\n",
    "conversation.predict(input=\"where doe have lunch?\")"
   ]
  },
  {
   "cell_type": "code",
   "execution_count": 24,
   "id": "2d911998-119b-492c-af91-24f17cbfae91",
   "metadata": {
    "execution": {
     "iopub.execute_input": "2024-04-30T08:27:09.642229Z",
     "iopub.status.busy": "2024-04-30T08:27:09.642229Z",
     "iopub.status.idle": "2024-04-30T08:27:33.701948Z",
     "shell.execute_reply": "2024-04-30T08:27:33.700947Z",
     "shell.execute_reply.started": "2024-04-30T08:27:09.642229Z"
    }
   },
   "outputs": [
    {
     "name": "stdout",
     "output_type": "stream",
     "text": [
      "\n",
      "\n",
      "\u001b[1m> Entering new ConversationChain chain...\u001b[0m\n",
      "Prompt after formatting:\n",
      "\u001b[32;1m\u001b[1;3mThe following is a friendly conversation between a human and an AI. The AI is talkative and provides lots of specific details from its context. If the AI does not know the answer to a question, it truthfully says it does not know.\n",
      "\n",
      "Current conversation:\n",
      "System: A human greeted the AI and asked what was up. The AI responded with a casual greeting. The human mentioned they were just hanging out. The AI agreed and said \"cool.\" The human then asked about the schedule for the day. The AI informed them about a meeting at 8am with the product team, for which they need to prepare a Powerpoint presentation, followed by work on their LangChain project from 9am to 12pm. At noon, they have lunch with a customer who is driving over an hour to meet them. The AI advised the human to bring their laptop to show the latest LLM demo, highlighting key features like coherent text generation, contextual relevance, fine-tuning for specific tasks, and handling complex language understanding or creative content generation, depending on the customer's interests.\n",
      "Human: where doe have lunch?\n",
      "AI: The AI responded: \"The lunch location has not been decided yet, but the customer suggested a few places near their office. We can choose one based on the availability and cuisine preferences. I'll keep you updated once the decision is made.\"\n",
      "Human: Who will we have lunch with?\n",
      "AI:\u001b[0m\n",
      "\n",
      "\u001b[1m> Finished chain.\u001b[0m\n"
     ]
    },
    {
     "data": {
      "text/plain": [
       "'The AI responded: \"We\\'ll be having lunch with a customer who is driving over an hour to meet us. They are interested in our latest LLM demo, so it\\'s a great opportunity to showcase its capabilities and discuss potential collaboration opportunities.\"'"
      ]
     },
     "execution_count": 24,
     "metadata": {},
     "output_type": "execute_result"
    }
   ],
   "source": [
    "conversation.predict(input=\"Who will we have lunch with?\")"
   ]
  },
  {
   "cell_type": "markdown",
   "id": "f1b141c7-bf59-4a9e-ba9a-c214ab1ad988",
   "metadata": {
    "execution": {
     "iopub.execute_input": "2024-04-30T09:04:02.025727Z",
     "iopub.status.busy": "2024-04-30T09:04:02.025727Z",
     "iopub.status.idle": "2024-04-30T09:04:02.031729Z",
     "shell.execute_reply": "2024-04-30T09:04:02.030725Z",
     "shell.execute_reply.started": "2024-04-30T09:04:02.025727Z"
    }
   },
   "source": [
    "## Chains in LangChain"
   ]
  },
  {
   "cell_type": "code",
   "execution_count": 2,
   "id": "5314d01f-65d9-44c5-8993-96e9bf2a18d6",
   "metadata": {
    "execution": {
     "iopub.execute_input": "2024-04-30T14:06:17.435366Z",
     "iopub.status.busy": "2024-04-30T14:06:17.435366Z",
     "iopub.status.idle": "2024-04-30T14:06:18.593717Z",
     "shell.execute_reply": "2024-04-30T14:06:18.591016Z",
     "shell.execute_reply.started": "2024-04-30T14:06:17.435366Z"
    }
   },
   "outputs": [
    {
     "data": {
      "text/html": [
       "<div>\n",
       "<style scoped>\n",
       "    .dataframe tbody tr th:only-of-type {\n",
       "        vertical-align: middle;\n",
       "    }\n",
       "\n",
       "    .dataframe tbody tr th {\n",
       "        vertical-align: top;\n",
       "    }\n",
       "\n",
       "    .dataframe thead th {\n",
       "        text-align: right;\n",
       "    }\n",
       "</style>\n",
       "<table border=\"1\" class=\"dataframe\">\n",
       "  <thead>\n",
       "    <tr style=\"text-align: right;\">\n",
       "      <th></th>\n",
       "      <th>Product</th>\n",
       "      <th>Review</th>\n",
       "    </tr>\n",
       "  </thead>\n",
       "  <tbody>\n",
       "    <tr>\n",
       "      <th>0</th>\n",
       "      <td>Queen Size Sheet Set</td>\n",
       "      <td>I ordered a king size set. My only criticism w...</td>\n",
       "    </tr>\n",
       "    <tr>\n",
       "      <th>1</th>\n",
       "      <td>Waterproof Phone Pouch</td>\n",
       "      <td>I loved the waterproof sac, although the openi...</td>\n",
       "    </tr>\n",
       "    <tr>\n",
       "      <th>2</th>\n",
       "      <td>Luxury Air Mattress</td>\n",
       "      <td>This mattress had a small hole in the top of i...</td>\n",
       "    </tr>\n",
       "    <tr>\n",
       "      <th>3</th>\n",
       "      <td>Pillows Insert</td>\n",
       "      <td>This is the best throw pillow fillers on Amazo...</td>\n",
       "    </tr>\n",
       "    <tr>\n",
       "      <th>4</th>\n",
       "      <td>Milk Frother Handheld\\n</td>\n",
       "      <td>I loved this product. But they only seem to l...</td>\n",
       "    </tr>\n",
       "  </tbody>\n",
       "</table>\n",
       "</div>"
      ],
      "text/plain": [
       "                   Product                                             Review\n",
       "0     Queen Size Sheet Set  I ordered a king size set. My only criticism w...\n",
       "1   Waterproof Phone Pouch  I loved the waterproof sac, although the openi...\n",
       "2      Luxury Air Mattress  This mattress had a small hole in the top of i...\n",
       "3           Pillows Insert  This is the best throw pillow fillers on Amazo...\n",
       "4  Milk Frother Handheld\\n   I loved this product. But they only seem to l..."
      ]
     },
     "execution_count": 2,
     "metadata": {},
     "output_type": "execute_result"
    }
   ],
   "source": [
    "from langchain.chat_models import QianfanChatEndpoint\n",
    "from langchain.prompts import ChatPromptTemplate\n",
    "from langchain.chains import LLMChain\n",
    "\n",
    "import pandas as pd\n",
    "df = pd.read_csv('Data.csv')\n",
    "df.head()"
   ]
  },
  {
   "cell_type": "markdown",
   "id": "d426b59a-0466-4c3d-b316-b1bef2dffc83",
   "metadata": {
    "execution": {
     "iopub.execute_input": "2024-04-30T10:18:08.199842Z",
     "iopub.status.busy": "2024-04-30T10:18:08.199842Z",
     "iopub.status.idle": "2024-04-30T10:18:08.209843Z",
     "shell.execute_reply": "2024-04-30T10:18:08.208846Z",
     "shell.execute_reply.started": "2024-04-30T10:18:08.199842Z"
    }
   },
   "source": [
    "### LLMChain"
   ]
  },
  {
   "cell_type": "code",
   "execution_count": 31,
   "id": "23ee8218-b199-45cb-806e-ce1984dd6e0c",
   "metadata": {
    "execution": {
     "iopub.execute_input": "2024-04-30T13:43:26.937438Z",
     "iopub.status.busy": "2024-04-30T13:43:26.936425Z",
     "iopub.status.idle": "2024-04-30T13:43:49.707542Z",
     "shell.execute_reply": "2024-04-30T13:43:49.706541Z",
     "shell.execute_reply.started": "2024-04-30T13:43:26.937438Z"
    }
   },
   "outputs": [
    {
     "name": "stderr",
     "output_type": "stream",
     "text": [
      "C:\\Users\\xu6\\AppData\\Local\\miniconda3\\envs\\dev\\lib\\site-packages\\langchain_core\\_api\\deprecation.py:119: LangChainDeprecationWarning: The method `Chain.run` was deprecated in langchain 0.1.0 and will be removed in 0.2.0. Use invoke instead.\n",
      "  warn_deprecated(\n"
     ]
    },
    {
     "data": {
      "text/plain": [
       "\"Choosing a name for a company that manufactures Queen Size Sheet Sets depends on various factors, including the brand's identity, target audience, and market positioning. Here are some suggestions that might help:\\n\\n1. **Luxury Sheets Co.**: This name suggests a high-end, luxurious product, which could be appealing to customers looking for quality and comfort.\\n2. **Queen's Comfort Bedding**: Directly references the product (Queen Size Sheets) while also communicating comfort and royalty, appealing to those who appreciate both style and substance.\\n3. **Elegant Bedding Solutions**: This name emphasizes elegance and practicality, two qualities that are often sought after in bedding products.\\n4. **Sleep Royale Bedding**: Combines the idea of royalty (fitting for Queen Size Sheets) with the essential function of the product — promoting good sleep.\\n5. **Boutique Bedding Co.**: Suggests a more boutique, personalized approach to bedding, which could resonate with customers seeking unique and tailored products.\\n\\nRemember, the best name for your company will be one that resonates with your target audience and accurately reflects your brand's values and mission. Consider conducting market research or testing potential names with a focus group to ensure you choose a name that will resonate with your customers.\""
      ]
     },
     "execution_count": 31,
     "metadata": {},
     "output_type": "execute_result"
    }
   ],
   "source": [
    "llm = QianfanChatEndpoint(model=\"ERNIE-Bot-4\", temperature = 0.9)\n",
    "\n",
    "prompt = ChatPromptTemplate.from_template(\n",
    "    \"What is the best name to describe \\\n",
    "    a company that makes {product}?\"\n",
    ")\n",
    "\n",
    "chain = LLMChain(llm=llm, prompt=prompt)\n",
    "\n",
    "product = \"Queen Size Sheet Set\"  # 女王尺寸床单套装\n",
    "chain.run(product)"
   ]
  },
  {
   "cell_type": "markdown",
   "id": "e405662f-05e6-46e0-ba9f-c3bd8f3fbf10",
   "metadata": {},
   "source": [
    "\n",
    "### SimpleSequentialChain"
   ]
  },
  {
   "cell_type": "code",
   "execution_count": 45,
   "id": "aecdd72b-fae8-47c2-8a16-a639a745ffaf",
   "metadata": {
    "execution": {
     "iopub.execute_input": "2024-04-30T13:52:40.086723Z",
     "iopub.status.busy": "2024-04-30T13:52:40.086723Z",
     "iopub.status.idle": "2024-04-30T13:52:40.099322Z",
     "shell.execute_reply": "2024-04-30T13:52:40.098319Z",
     "shell.execute_reply.started": "2024-04-30T13:52:40.086723Z"
    }
   },
   "outputs": [],
   "source": [
    "from langchain.chains import SimpleSequentialChain\n",
    "\n",
    "llm = QianfanChatEndpoint(model=\"ERNIE-Bot-4\", temperature = 0.9)\n",
    "# prompt template 1\n",
    "first_prompt = ChatPromptTemplate.from_template(\n",
    "    \"What is the best name to describe \\\n",
    "    a company that makes {product}? return only one name without explanation\"\n",
    ")\n",
    "\n",
    "# Chain 1\n",
    "chain_one = LLMChain(llm=llm, prompt=first_prompt)"
   ]
  },
  {
   "cell_type": "code",
   "execution_count": 46,
   "id": "e060965e-08fa-4d90-913a-ebd1f30fc428",
   "metadata": {
    "execution": {
     "iopub.execute_input": "2024-04-30T13:52:40.444084Z",
     "iopub.status.busy": "2024-04-30T13:52:40.443075Z",
     "iopub.status.idle": "2024-04-30T13:52:40.460450Z",
     "shell.execute_reply": "2024-04-30T13:52:40.459458Z",
     "shell.execute_reply.started": "2024-04-30T13:52:40.444084Z"
    }
   },
   "outputs": [],
   "source": [
    "# prompt template 2\n",
    "second_prompt = ChatPromptTemplate.from_template(\n",
    "    \"Write a 20 words description for the following \\\n",
    "    company:{company_name}\"\n",
    ")\n",
    "# chain 2\n",
    "chain_two = LLMChain(llm=llm, prompt=second_prompt)"
   ]
  },
  {
   "cell_type": "code",
   "execution_count": 47,
   "id": "eff42c4e-008f-4223-aaed-c856695f4bc5",
   "metadata": {
    "execution": {
     "iopub.execute_input": "2024-04-30T13:52:40.796322Z",
     "iopub.status.busy": "2024-04-30T13:52:40.796322Z",
     "iopub.status.idle": "2024-04-30T13:52:40.815930Z",
     "shell.execute_reply": "2024-04-30T13:52:40.814925Z",
     "shell.execute_reply.started": "2024-04-30T13:52:40.796322Z"
    }
   },
   "outputs": [],
   "source": [
    "overall_simple_chain = SimpleSequentialChain(chains=[chain_one, chain_two],\n",
    "                                             verbose=True\n",
    "                                            )"
   ]
  },
  {
   "cell_type": "code",
   "execution_count": 48,
   "id": "c5cbfce6-43fa-49c4-92cc-360c17b9d9b9",
   "metadata": {
    "execution": {
     "iopub.execute_input": "2024-04-30T13:52:41.147059Z",
     "iopub.status.busy": "2024-04-30T13:52:41.146058Z",
     "iopub.status.idle": "2024-04-30T13:52:52.348508Z",
     "shell.execute_reply": "2024-04-30T13:52:52.348097Z",
     "shell.execute_reply.started": "2024-04-30T13:52:41.147059Z"
    }
   },
   "outputs": [
    {
     "name": "stdout",
     "output_type": "stream",
     "text": [
      "\n",
      "\n",
      "\u001b[1m> Entering new SimpleSequentialChain chain...\u001b[0m\n",
      "\u001b[36;1m\u001b[1;3m\"LuxuryLinensQueen\" is a suitable name for a company that makes Queen Size Sheet Set, as it combines elements of luxury, bedding size, and the product type.\u001b[0m\n",
      "\u001b[33;1m\u001b[1;3mLuxuryLinensQueen: Luxurious Queen-Size Sheets, Embodying Elegance and Comfort in Bedding.\u001b[0m\n",
      "\n",
      "\u001b[1m> Finished chain.\u001b[0m\n"
     ]
    },
    {
     "data": {
      "text/plain": [
       "'LuxuryLinensQueen: Luxurious Queen-Size Sheets, Embodying Elegance and Comfort in Bedding.'"
      ]
     },
     "execution_count": 48,
     "metadata": {},
     "output_type": "execute_result"
    }
   ],
   "source": [
    "overall_simple_chain.run(product)"
   ]
  },
  {
   "cell_type": "markdown",
   "id": "0134fbe9-9bce-4956-b0df-91e1879644b0",
   "metadata": {},
   "source": [
    "### SequentialChain"
   ]
  },
  {
   "cell_type": "code",
   "execution_count": 3,
   "id": "7ac8546b-a640-4ae4-a633-a4f1fdaab9d9",
   "metadata": {
    "execution": {
     "iopub.execute_input": "2024-04-30T14:06:23.204377Z",
     "iopub.status.busy": "2024-04-30T14:06:23.203344Z",
     "iopub.status.idle": "2024-04-30T14:06:23.241375Z",
     "shell.execute_reply": "2024-04-30T14:06:23.240161Z",
     "shell.execute_reply.started": "2024-04-30T14:06:23.204377Z"
    }
   },
   "outputs": [],
   "source": [
    "from langchain.chains import SequentialChain\n",
    "\n",
    "llm = QianfanChatEndpoint(model=\"ERNIE-Bot-4\", temperature = 0.9)\n",
    "first_prompt = ChatPromptTemplate.from_template(\n",
    "    \"Translate the following review to english:\"\n",
    "    \"\\n\\n{Review}\"\n",
    ")\n",
    "# chain 1: input= Review and output= Engl\\ish_Review\n",
    "chain_one = LLMChain(llm=llm, prompt=first_prompt, \n",
    "                     output_key=\"English_Review\"\n",
    "                    )\n",
    "\n"
   ]
  },
  {
   "cell_type": "code",
   "execution_count": 4,
   "id": "8c34eb00-7989-4a8f-99ae-ec8bde500cd5",
   "metadata": {
    "execution": {
     "iopub.execute_input": "2024-04-30T14:06:24.151909Z",
     "iopub.status.busy": "2024-04-30T14:06:24.151909Z",
     "iopub.status.idle": "2024-04-30T14:06:24.159910Z",
     "shell.execute_reply": "2024-04-30T14:06:24.158910Z",
     "shell.execute_reply.started": "2024-04-30T14:06:24.151909Z"
    }
   },
   "outputs": [],
   "source": [
    "second_prompt = ChatPromptTemplate.from_template(\n",
    "    \"Can you summarize the following review in 1 sentence:\"\n",
    "    \"\\n\\n{English_Review}\"\n",
    ")\n",
    "# chain 2: input= English_Review and output= summary\n",
    "chain_two = LLMChain(llm=llm, prompt=second_prompt, \n",
    "                     output_key=\"summary\"\n",
    "                    )\n"
   ]
  },
  {
   "cell_type": "code",
   "execution_count": 5,
   "id": "86c5abab-f69b-4af3-b358-f604150d280c",
   "metadata": {
    "execution": {
     "iopub.execute_input": "2024-04-30T14:06:24.792891Z",
     "iopub.status.busy": "2024-04-30T14:06:24.791879Z",
     "iopub.status.idle": "2024-04-30T14:06:24.805879Z",
     "shell.execute_reply": "2024-04-30T14:06:24.804877Z",
     "shell.execute_reply.started": "2024-04-30T14:06:24.792891Z"
    }
   },
   "outputs": [],
   "source": [
    "# prompt template 3: translate to english\n",
    "third_prompt = ChatPromptTemplate.from_template(\n",
    "    \"What language is the following review:\\n\\n{Review}\"\n",
    ")\n",
    "# chain 3: input= Review and output= language\n",
    "chain_three = LLMChain(llm=llm, prompt=third_prompt,\n",
    "                       output_key=\"language\"\n",
    "                      )"
   ]
  },
  {
   "cell_type": "code",
   "execution_count": 6,
   "id": "fb4b62c4-eff6-4d89-a1bb-8aeb4f90dbf0",
   "metadata": {
    "execution": {
     "iopub.execute_input": "2024-04-30T14:06:25.468275Z",
     "iopub.status.busy": "2024-04-30T14:06:25.468275Z",
     "iopub.status.idle": "2024-04-30T14:06:25.478045Z",
     "shell.execute_reply": "2024-04-30T14:06:25.477045Z",
     "shell.execute_reply.started": "2024-04-30T14:06:25.468275Z"
    }
   },
   "outputs": [],
   "source": [
    "# prompt template 4: follow up message\n",
    "fourth_prompt = ChatPromptTemplate.from_template(\n",
    "    \"Write a follow up response to the following \"\n",
    "    \"summary in the specified language:\"\n",
    "    \"\\n\\nSummary: {summary}\\n\\nLanguage: {language}\"\n",
    ")\n",
    "# chain 4: input= summary, language and output= followup_message\n",
    "chain_four = LLMChain(llm=llm, prompt=fourth_prompt,\n",
    "                      output_key=\"followup_message\"\n",
    "                     )\n"
   ]
  },
  {
   "cell_type": "code",
   "execution_count": 7,
   "id": "149a095f-781d-458e-8965-822f074a7635",
   "metadata": {
    "execution": {
     "iopub.execute_input": "2024-04-30T14:06:27.525957Z",
     "iopub.status.busy": "2024-04-30T14:06:27.525957Z",
     "iopub.status.idle": "2024-04-30T14:06:27.542930Z",
     "shell.execute_reply": "2024-04-30T14:06:27.541922Z",
     "shell.execute_reply.started": "2024-04-30T14:06:27.525957Z"
    }
   },
   "outputs": [],
   "source": [
    "# overall_chain: input= Review \n",
    "# and output= English_Review,summary, followup_message\n",
    "overall_chain = SequentialChain(\n",
    "    chains=[chain_one, chain_two, chain_three, chain_four],\n",
    "    input_variables=[\"Review\"],\n",
    "    output_variables=[\"English_Review\", \"summary\",\"followup_message\"],\n",
    "    verbose=True\n",
    ")"
   ]
  },
  {
   "cell_type": "code",
   "execution_count": 9,
   "id": "c8f5861f-0c72-42a7-9c96-c0ce42122af7",
   "metadata": {
    "execution": {
     "iopub.execute_input": "2024-04-30T14:10:04.783845Z",
     "iopub.status.busy": "2024-04-30T14:10:04.783845Z",
     "iopub.status.idle": "2024-04-30T14:10:34.630073Z",
     "shell.execute_reply": "2024-04-30T14:10:34.629305Z",
     "shell.execute_reply.started": "2024-04-30T14:10:04.783845Z"
    }
   },
   "outputs": [
    {
     "name": "stdout",
     "output_type": "stream",
     "text": [
      "\n",
      "\n",
      "\u001b[1m> Entering new SequentialChain chain...\u001b[0m\n",
      "\n",
      "\u001b[1m> Finished chain.\u001b[0m\n"
     ]
    },
    {
     "data": {
      "text/plain": [
       "{'Review': '我觉得味道很一般。泡沫不持久，这很奇怪。我在商店里买的同样的产品，味道要好得多...\\n是旧批次还是假冒产品!?',\n",
       " 'English_Review': 'I think the taste is very average. The foam is not lasting, which is strange. I bought the same product in the store and it tastes much better... Is it an old batch or a fake product!?',\n",
       " 'summary': \"The product's taste is average, the foam doesn't last, and it's possibly an old or fake batch compared to the better-tasting version bought in-store.\",\n",
       " 'followup_message': '回复：\\n\\n感谢您提供详细的反馈。我们非常重视您的意见，并对此次产品体验不佳表示歉意。\\n\\n关于产品味道的问题，我们深知口味因人而异，会尽力确保每一批次产品的品质稳定。但听到您表示这次购买的产品与店内购买的相比味道有所差异，我们感到非常遗憾。我们会立即调查这个问题，以确认是否存在生产或储存环节的问题。\\n\\n关于泡沫持久性，我们会进一步研究以改进产品配方，确保泡沫更加丰富且持久。\\n\\n您提到的旧批次或假冒产品的可能性，也引起了我们的高度关注。我们会加强供应链管理，确保所有产品均为正品且来自最新批次。同时，我们也建议您在购买时选择正规渠道，以确保购买到品质有保障的产品。\\n\\n再次感谢您的宝贵意见，我们会持续改进产品与服务，希望未来能为您带来更好的体验。'}"
      ]
     },
     "execution_count": 9,
     "metadata": {},
     "output_type": "execute_result"
    }
   ],
   "source": [
    "review = \"我觉得味道很一般。泡沫不持久，这很奇怪。我在商店里买的同样的产品，味道要好得多...\\n是旧批次还是假冒产品!?\"   # df.Review[5]  # 文心一言好像不支持法语。\n",
    "overall_chain.invoke(review)"
   ]
  },
  {
   "cell_type": "markdown",
   "id": "4437559a-da9d-49c5-9b28-2e6ff26f5417",
   "metadata": {},
   "source": [
    "### Router Chain"
   ]
  },
  {
   "cell_type": "code",
   "execution_count": 10,
   "id": "132f46c9-104b-483d-9abd-471538786775",
   "metadata": {
    "execution": {
     "iopub.execute_input": "2024-04-30T14:15:13.977076Z",
     "iopub.status.busy": "2024-04-30T14:15:13.977076Z",
     "iopub.status.idle": "2024-04-30T14:15:14.878379Z",
     "shell.execute_reply": "2024-04-30T14:15:14.877532Z",
     "shell.execute_reply.started": "2024-04-30T14:15:13.977076Z"
    }
   },
   "outputs": [],
   "source": [
    "from langchain.chains.router import MultiPromptChain\n",
    "from langchain.chains.router.llm_router import LLMRouterChain,RouterOutputParser\n",
    "from langchain.prompts import PromptTemplate\n",
    "\n",
    "llm = QianfanChatEndpoint(model=\"ERNIE-Bot-4\", temperature = 0.9)"
   ]
  },
  {
   "cell_type": "code",
   "execution_count": 11,
   "id": "a86e3c51-284c-4c0f-ac7c-c07c564a5734",
   "metadata": {
    "execution": {
     "iopub.execute_input": "2024-04-30T14:15:16.043441Z",
     "iopub.status.busy": "2024-04-30T14:15:16.043441Z",
     "iopub.status.idle": "2024-04-30T14:15:16.050428Z",
     "shell.execute_reply": "2024-04-30T14:15:16.049138Z",
     "shell.execute_reply.started": "2024-04-30T14:15:16.043441Z"
    }
   },
   "outputs": [],
   "source": [
    "physics_template = \"\"\"You are a very smart physics professor. \\\n",
    "You are great at answering questions about physics in a concise\\\n",
    "and easy to understand manner. \\\n",
    "When you don't know the answer to a question you admit\\\n",
    "that you don't know.\n",
    "\n",
    "Here is a question:\n",
    "{input}\"\"\"\n",
    "\n",
    "\n",
    "math_template = \"\"\"You are a very good mathematician. \\\n",
    "You are great at answering math questions. \\\n",
    "You are so good because you are able to break down \\\n",
    "hard problems into their component parts, \n",
    "answer the component parts, and then put them together\\\n",
    "to answer the broader question.\n",
    "\n",
    "Here is a question:\n",
    "{input}\"\"\"\n",
    "\n",
    "history_template = \"\"\"You are a very good historian. \\\n",
    "You have an excellent knowledge of and understanding of people,\\\n",
    "events and contexts from a range of historical periods. \\\n",
    "You have the ability to think, reflect, debate, discuss and \\\n",
    "evaluate the past. You have a respect for historical evidence\\\n",
    "and the ability to make use of it to support your explanations \\\n",
    "and judgements.\n",
    "\n",
    "Here is a question:\n",
    "{input}\"\"\"\n",
    "\n",
    "\n",
    "computerscience_template = \"\"\" You are a successful computer scientist.\\\n",
    "You have a passion for creativity, collaboration,\\\n",
    "forward-thinking, confidence, strong problem-solving capabilities,\\\n",
    "understanding of theories and algorithms, and excellent communication \\\n",
    "skills. You are great at answering coding questions. \\\n",
    "You are so good because you know how to solve a problem by \\\n",
    "describing the solution in imperative steps \\\n",
    "that a machine can easily interpret and you know how to \\\n",
    "choose a solution that has a good balance between \\\n",
    "time complexity and space complexity. \n",
    "\n",
    "Here is a question:\n",
    "{input}\"\"\""
   ]
  },
  {
   "cell_type": "code",
   "execution_count": 12,
   "id": "5eaef6d5-c3d9-4f30-bb0c-97a7b69eeb37",
   "metadata": {
    "execution": {
     "iopub.execute_input": "2024-04-30T14:15:16.915517Z",
     "iopub.status.busy": "2024-04-30T14:15:16.915517Z",
     "iopub.status.idle": "2024-04-30T14:15:16.930518Z",
     "shell.execute_reply": "2024-04-30T14:15:16.929518Z",
     "shell.execute_reply.started": "2024-04-30T14:15:16.915517Z"
    }
   },
   "outputs": [],
   "source": [
    "prompt_infos = [\n",
    "    {\n",
    "        \"name\": \"physics\", \n",
    "        \"description\": \"Good for answering questions about physics\", \n",
    "        \"prompt_template\": physics_template\n",
    "    },\n",
    "    {\n",
    "        \"name\": \"math\", \n",
    "        \"description\": \"Good for answering math questions\", \n",
    "        \"prompt_template\": math_template\n",
    "    },\n",
    "    {\n",
    "        \"name\": \"History\", \n",
    "        \"description\": \"Good for answering history questions\", \n",
    "        \"prompt_template\": history_template\n",
    "    },\n",
    "    {\n",
    "        \"name\": \"computer science\", \n",
    "        \"description\": \"Good for answering computer science questions\", \n",
    "        \"prompt_template\": computerscience_template\n",
    "    }\n",
    "]"
   ]
  },
  {
   "cell_type": "code",
   "execution_count": 13,
   "id": "af445cd6-f7d3-45b1-b47c-726291a6f16f",
   "metadata": {
    "execution": {
     "iopub.execute_input": "2024-04-30T14:15:17.943456Z",
     "iopub.status.busy": "2024-04-30T14:15:17.943456Z",
     "iopub.status.idle": "2024-04-30T14:15:17.948550Z",
     "shell.execute_reply": "2024-04-30T14:15:17.948457Z",
     "shell.execute_reply.started": "2024-04-30T14:15:17.943456Z"
    }
   },
   "outputs": [],
   "source": [
    "\n",
    "destination_chains = {}\n",
    "for p_info in prompt_infos:\n",
    "    name = p_info[\"name\"]\n",
    "    prompt_template = p_info[\"prompt_template\"]\n",
    "    prompt = ChatPromptTemplate.from_template(template=prompt_template)\n",
    "    chain = LLMChain(llm=llm, prompt=prompt)\n",
    "    destination_chains[name] = chain  \n",
    "    \n",
    "destinations = [f\"{p['name']}: {p['description']}\" for p in prompt_infos]\n",
    "destinations_str = \"\\n\".join(destinations)"
   ]
  },
  {
   "cell_type": "code",
   "execution_count": 14,
   "id": "308652b1-84f0-477e-815c-01b14f981cd0",
   "metadata": {
    "execution": {
     "iopub.execute_input": "2024-04-30T14:15:19.392184Z",
     "iopub.status.busy": "2024-04-30T14:15:19.391185Z",
     "iopub.status.idle": "2024-04-30T14:15:19.399405Z",
     "shell.execute_reply": "2024-04-30T14:15:19.398405Z",
     "shell.execute_reply.started": "2024-04-30T14:15:19.392184Z"
    }
   },
   "outputs": [],
   "source": [
    "default_prompt = ChatPromptTemplate.from_template(\"{input}\")\n",
    "default_chain = LLMChain(llm=llm, prompt=default_prompt)"
   ]
  },
  {
   "cell_type": "code",
   "execution_count": 15,
   "id": "d35ff61a-3942-445d-b5a8-2aafb6b0ad4f",
   "metadata": {
    "execution": {
     "iopub.execute_input": "2024-04-30T14:15:21.371483Z",
     "iopub.status.busy": "2024-04-30T14:15:21.370495Z",
     "iopub.status.idle": "2024-04-30T14:15:21.382386Z",
     "shell.execute_reply": "2024-04-30T14:15:21.380996Z",
     "shell.execute_reply.started": "2024-04-30T14:15:21.371483Z"
    }
   },
   "outputs": [],
   "source": [
    "MULTI_PROMPT_ROUTER_TEMPLATE = \"\"\"Given a raw text input to a \\\n",
    "language model select the model prompt best suited for the input. \\\n",
    "You will be given the names of the available prompts and a \\\n",
    "description of what the prompt is best suited for. \\\n",
    "You may also revise the original input if you think that revising\\\n",
    "it will ultimately lead to a better response from the language model.\n",
    "\n",
    "<< FORMATTING >>\n",
    "Return a markdown code snippet with a JSON object formatted to look like:\n",
    "```json\n",
    "{{{{\n",
    "    \"destination\": string \\ name of the prompt to use or \"DEFAULT\"\n",
    "    \"next_inputs\": string \\ a potentially modified version of the original input\n",
    "}}}}\n",
    "```\n",
    "\n",
    "REMEMBER: \"destination\" MUST be one of the candidate prompt \\\n",
    "names specified below OR it can be \"DEFAULT\" if the input is not\\\n",
    "well suited for any of the candidate prompts.\n",
    "REMEMBER: \"next_inputs\" can just be the original input \\\n",
    "if you don't think any modifications are needed.\n",
    "\n",
    "<< CANDIDATE PROMPTS >>\n",
    "{destinations}\n",
    "\n",
    "<< INPUT >>\n",
    "{{input}}\n",
    "\n",
    "<< OUTPUT (remember to include the ```json)>>\"\"\""
   ]
  },
  {
   "cell_type": "code",
   "execution_count": 16,
   "id": "832af4fd-00ce-4c80-916b-e0891d40d097",
   "metadata": {
    "execution": {
     "iopub.execute_input": "2024-04-30T14:15:22.077528Z",
     "iopub.status.busy": "2024-04-30T14:15:22.076024Z",
     "iopub.status.idle": "2024-04-30T14:15:22.095695Z",
     "shell.execute_reply": "2024-04-30T14:15:22.094695Z",
     "shell.execute_reply.started": "2024-04-30T14:15:22.077528Z"
    }
   },
   "outputs": [],
   "source": [
    "router_template = MULTI_PROMPT_ROUTER_TEMPLATE.format(\n",
    "    destinations=destinations_str\n",
    ")\n",
    "router_prompt = PromptTemplate(\n",
    "    template=router_template,\n",
    "    input_variables=[\"input\"],\n",
    "    output_parser=RouterOutputParser(),\n",
    ")\n",
    "\n",
    "router_chain = LLMRouterChain.from_llm(llm, router_prompt)"
   ]
  },
  {
   "cell_type": "code",
   "execution_count": 17,
   "id": "2f52cca4-05bc-40b5-9414-d9eeb7ffcde7",
   "metadata": {
    "execution": {
     "iopub.execute_input": "2024-04-30T14:15:22.767267Z",
     "iopub.status.busy": "2024-04-30T14:15:22.767267Z",
     "iopub.status.idle": "2024-04-30T14:15:22.780793Z",
     "shell.execute_reply": "2024-04-30T14:15:22.779802Z",
     "shell.execute_reply.started": "2024-04-30T14:15:22.767267Z"
    }
   },
   "outputs": [],
   "source": [
    "router_template = MULTI_PROMPT_ROUTER_TEMPLATE.format(\n",
    "    destinations=destinations_str\n",
    ")\n",
    "router_prompt = PromptTemplate(\n",
    "    template=router_template,\n",
    "    input_variables=[\"input\"],\n",
    "    output_parser=RouterOutputParser(),\n",
    ")\n",
    "\n",
    "router_chain = LLMRouterChain.from_llm(llm, router_prompt)"
   ]
  },
  {
   "cell_type": "code",
   "execution_count": 18,
   "id": "db2caf42-054d-4237-b1f2-586fff913cb2",
   "metadata": {
    "execution": {
     "iopub.execute_input": "2024-04-30T14:15:23.423711Z",
     "iopub.status.busy": "2024-04-30T14:15:23.423711Z",
     "iopub.status.idle": "2024-04-30T14:15:23.432721Z",
     "shell.execute_reply": "2024-04-30T14:15:23.431685Z",
     "shell.execute_reply.started": "2024-04-30T14:15:23.423711Z"
    }
   },
   "outputs": [],
   "source": [
    "chain = MultiPromptChain(router_chain=router_chain, \n",
    "                         destination_chains=destination_chains, \n",
    "                         default_chain=default_chain, verbose=True\n",
    "                        )"
   ]
  },
  {
   "cell_type": "code",
   "execution_count": 19,
   "id": "48f7aec4-9987-443c-8b0e-257f69bf8bbf",
   "metadata": {
    "execution": {
     "iopub.execute_input": "2024-04-30T14:15:34.549367Z",
     "iopub.status.busy": "2024-04-30T14:15:34.548366Z",
     "iopub.status.idle": "2024-04-30T14:15:56.377243Z",
     "shell.execute_reply": "2024-04-30T14:15:56.377243Z",
     "shell.execute_reply.started": "2024-04-30T14:15:34.549367Z"
    }
   },
   "outputs": [
    {
     "name": "stderr",
     "output_type": "stream",
     "text": [
      "C:\\Users\\xu6\\AppData\\Local\\miniconda3\\envs\\dev\\lib\\site-packages\\langchain_core\\_api\\deprecation.py:119: LangChainDeprecationWarning: The method `Chain.run` was deprecated in langchain 0.1.0 and will be removed in 0.2.0. Use invoke instead.\n",
      "  warn_deprecated(\n"
     ]
    },
    {
     "name": "stdout",
     "output_type": "stream",
     "text": [
      "\n",
      "\n",
      "\u001b[1m> Entering new MultiPromptChain chain...\u001b[0m\n",
      "physics: {'input': 'What is black body radiation?'}\n",
      "\u001b[1m> Finished chain.\u001b[0m\n"
     ]
    },
    {
     "data": {
      "text/plain": [
       "\"Black body radiation refers to the electromagnetic radiation emitted by a perfect absorber of radiation, known as a black body. In other words, it is the radiation that is emitted by an object that absorbs all incident radiation, regardless of wavelength or angle of incidence. The radiation emitted by a black body is characterized by a specific spectrum and intensity that depends only on the temperature of the black body.\\n\\nThe concept of black body radiation is fundamental in thermodynamics and plays a crucial role in the study of the properties of matter and radiation. It is also important in astronomy, as the radiation emitted by stars and other celestial bodies can often be approximated as black body radiation. The spectrum of black body radiation is described by Planck's law, which states that the intensity of radiation emitted at a given wavelength is proportional to the temperature of the black body and varies with wavelength according to a specific mathematical function.\""
      ]
     },
     "execution_count": 19,
     "metadata": {},
     "output_type": "execute_result"
    }
   ],
   "source": [
    "chain.invoke (\"What is black body radiation?\")"
   ]
  },
  {
   "cell_type": "code",
   "execution_count": 20,
   "id": "6ebb0585-f25f-453c-8bde-43b152b21551",
   "metadata": {
    "execution": {
     "iopub.execute_input": "2024-04-30T14:16:02.756892Z",
     "iopub.status.busy": "2024-04-30T14:16:02.756892Z",
     "iopub.status.idle": "2024-04-30T14:16:11.151699Z",
     "shell.execute_reply": "2024-04-30T14:16:11.150698Z",
     "shell.execute_reply.started": "2024-04-30T14:16:02.756892Z"
    }
   },
   "outputs": [
    {
     "name": "stdout",
     "output_type": "stream",
     "text": [
      "\n",
      "\n",
      "\u001b[1m> Entering new MultiPromptChain chain...\u001b[0m\n",
      "math: {'input': 'what is 2 + 2'}\n",
      "\u001b[1m> Finished chain.\u001b[0m\n"
     ]
    },
    {
     "data": {
      "text/plain": [
       "{'input': 'what is 2 + 2',\n",
       " 'text': 'The answer to the question \"what is 2 + 2\" is 4. This is a basic addition problem in mathematics, where two numbers are added together to produce a sum. In this case, 2 + 2 equals 4.'}"
      ]
     },
     "execution_count": 20,
     "metadata": {},
     "output_type": "execute_result"
    }
   ],
   "source": [
    "chain.invoke (\"what is 2 + 2\")"
   ]
  },
  {
   "cell_type": "code",
   "execution_count": 21,
   "id": "facad45f-b76c-4d62-af85-36bc3b9d0760",
   "metadata": {
    "execution": {
     "iopub.execute_input": "2024-04-30T14:16:17.870189Z",
     "iopub.status.busy": "2024-04-30T14:16:17.870189Z",
     "iopub.status.idle": "2024-04-30T14:16:41.671483Z",
     "shell.execute_reply": "2024-04-30T14:16:41.671483Z",
     "shell.execute_reply.started": "2024-04-30T14:16:17.870189Z"
    }
   },
   "outputs": [
    {
     "name": "stdout",
     "output_type": "stream",
     "text": [
      "\n",
      "\n",
      "\u001b[1m> Entering new MultiPromptChain chain...\u001b[0m\n",
      "None: {'input': 'Why does every cell in our body contain DNA?'}\n",
      "\u001b[1m> Finished chain.\u001b[0m\n"
     ]
    },
    {
     "data": {
      "text/plain": [
       "{'input': 'Why does every cell in our body contain DNA?',\n",
       " 'text': \"DNA, or deoxyribonucleic acid, is the genetic material of all living organisms, including humans. It is responsible for storing genetic information and plays a crucial role in the growth, development, reproduction, and functioning of cells. Therefore, every cell in our body contains DNA.\\n\\nDNA molecules are composed of two chains of nucleotides twisted around each other to form a double helix structure. Each nucleotide contains a nitrogenous base, a deoxyribose sugar, and a phosphate group. The nitrogenous bases include adenine (A), guanine (G), cytosine (C), and thymine (T), which pair up in a specific way to form the genetic code.\\n\\nThe DNA in each cell contains all the genetic information needed for that cell to function properly. However, not all genes are expressed in every cell. Cells differentiate into different types by expressing different sets of genes, which allows them to perform specialized functions. For example, brain cells express genes related to neural function, while liver cells express genes related to metabolism.\\n\\nIn summary, every cell in our body contains DNA because it is the genetic material responsible for storing the genetic information needed for the cell's growth, development, reproduction, and functioning.\"}"
      ]
     },
     "execution_count": 21,
     "metadata": {},
     "output_type": "execute_result"
    }
   ],
   "source": [
    "chain.invoke (\"Why does every cell in our body contain DNA?\")"
   ]
  },
  {
   "cell_type": "markdown",
   "id": "32a1f203-37c8-4f4d-bc34-c060fc963f3e",
   "metadata": {},
   "source": [
    "## LangChain: Q&A over Documents\n"
   ]
  },
  {
   "cell_type": "code",
   "execution_count": null,
   "id": "3e3efbd5-b92c-4d06-8f93-91904a38b12d",
   "metadata": {},
   "outputs": [],
   "source": [
    "#pip install docarray"
   ]
  },
  {
   "cell_type": "code",
   "execution_count": 36,
   "id": "2496ca21-c63f-4afb-95e6-18a1935b9e94",
   "metadata": {
    "execution": {
     "iopub.execute_input": "2024-05-04T09:43:54.656521Z",
     "iopub.status.busy": "2024-05-04T09:43:54.656521Z",
     "iopub.status.idle": "2024-05-04T09:43:54.672023Z",
     "shell.execute_reply": "2024-05-04T09:43:54.671016Z",
     "shell.execute_reply.started": "2024-05-04T09:43:54.656521Z"
    }
   },
   "outputs": [],
   "source": [
    "from langchain.chains import RetrievalQA\n",
    "from langchain.document_loaders import CSVLoader\n",
    "from langchain.vectorstores import DocArrayInMemorySearch\n",
    "from langchain.indexes import VectorstoreIndexCreator\n",
    "\n",
    "from langchain.embeddings import QianfanEmbeddingsEndpoint\n",
    "from langchain.chat_models import QianfanChatEndpoint\n",
    "\n",
    "from IPython.display import display, Markdown\n",
    "# from langchain.llms import OpenAI\n"
   ]
  },
  {
   "cell_type": "code",
   "execution_count": 43,
   "id": "375d4474-8f25-476a-a3bc-38dbf37e1a3c",
   "metadata": {
    "execution": {
     "iopub.execute_input": "2024-05-04T09:44:44.542278Z",
     "iopub.status.busy": "2024-05-04T09:44:44.542278Z",
     "iopub.status.idle": "2024-05-04T09:44:44.574582Z",
     "shell.execute_reply": "2024-05-04T09:44:44.573686Z",
     "shell.execute_reply.started": "2024-05-04T09:44:44.542278Z"
    }
   },
   "outputs": [],
   "source": [
    "file = '..\\_data\\OutdoorClothingCatalog_999.csv'\n",
    "loader = CSVLoader(file_path=file, encoding='utf-8')\n",
    "# data = loader.load()\n",
    "# print(data)"
   ]
  },
  {
   "cell_type": "code",
   "execution_count": 44,
   "id": "dad32384-204e-4930-96e8-08e11774c755",
   "metadata": {
    "execution": {
     "iopub.execute_input": "2024-05-04T09:44:45.006460Z",
     "iopub.status.busy": "2024-05-04T09:44:45.006460Z",
     "iopub.status.idle": "2024-05-04T09:45:59.121070Z",
     "shell.execute_reply": "2024-05-04T09:45:59.121070Z",
     "shell.execute_reply.started": "2024-05-04T09:44:45.006460Z"
    }
   },
   "outputs": [],
   "source": [
    "embeddings = QianfanEmbeddingsEndpoint()\n",
    "index = VectorstoreIndexCreator(\n",
    "    embedding=embeddings,\n",
    "    vectorstore_cls=DocArrayInMemorySearch\n",
    ").from_loaders([loader])"
   ]
  },
  {
   "cell_type": "code",
   "execution_count": 45,
   "id": "353e1f20-bc58-4cb7-bdcd-8bb42791b87e",
   "metadata": {
    "execution": {
     "iopub.execute_input": "2024-05-04T09:59:24.694325Z",
     "iopub.status.busy": "2024-05-04T09:59:24.694325Z",
     "iopub.status.idle": "2024-05-04T09:59:48.982052Z",
     "shell.execute_reply": "2024-05-04T09:59:48.981334Z",
     "shell.execute_reply.started": "2024-05-04T09:59:24.694325Z"
    }
   },
   "outputs": [],
   "source": [
    "query =\"Please list all your shirts with sun protection \\\n",
    "in a table in markdown and summarize each one.\"\n",
    "llm_replacement_model = QianfanChatEndpoint(model=\"ERNIE-Bot-4\", temperature = 0.01) \n",
    "response = index.query(query, \n",
    "                       llm = llm_replacement_model)"
   ]
  },
  {
   "cell_type": "code",
   "execution_count": 47,
   "id": "0e27b304-e3c1-4277-8a5b-5eb30b41fc26",
   "metadata": {
    "execution": {
     "iopub.execute_input": "2024-05-04T10:02:54.836119Z",
     "iopub.status.busy": "2024-05-04T10:02:54.836119Z",
     "iopub.status.idle": "2024-05-04T10:02:54.848565Z",
     "shell.execute_reply": "2024-05-04T10:02:54.847566Z",
     "shell.execute_reply.started": "2024-05-04T10:02:54.836119Z"
    }
   },
   "outputs": [
    {
     "data": {
      "text/markdown": [
       "| Shirt Name | Fabric | SPF Rating | UV Protection | Summary |\n",
       "| --- | --- | --- | --- | --- |\n",
       "| Sun Guard Shirt | High-performance fabric | SPF 50+ | Blocks 98% of harmful UV rays | This shirt offers excellent sun protection with its high-performance fabric that blocks 98% of the sun's harmful UV rays. It provides an SPF 50+ rating, making it an ideal choice for outdoor activities. |\n",
       "\n",
       "Note: Currently, we only have one shirt with sun protection available, but we are constantly updating our inventory. Please check back for more options soon.\n",
       "\n",
       "The Sun Guard Shirt is our top pick for sun protection. Made from high-performance fabric, it effectively blocks 98% of the sun's harmful UV rays, providing an SPF 50+ rating. This shirt is perfect for those who spend a lot of time outdoors and want reliable protection from the sun's damaging rays. Whether you're at the beach, hiking, or just enjoying a sunny day, the Sun Guard Shirt will keep your skin safe and protected."
      ],
      "text/plain": [
       "<IPython.core.display.Markdown object>"
      ]
     },
     "metadata": {},
     "output_type": "display_data"
    }
   ],
   "source": [
    "display(Markdown(response))"
   ]
  },
  {
   "cell_type": "markdown",
   "id": "0f0e194a-bc98-4605-b5ea-561ce461e057",
   "metadata": {},
   "source": [
    "### Step By Step "
   ]
  },
  {
   "cell_type": "code",
   "execution_count": 48,
   "id": "e3bec935-b969-40d2-b019-70a728edaac3",
   "metadata": {
    "execution": {
     "iopub.execute_input": "2024-05-04T10:03:40.998545Z",
     "iopub.status.busy": "2024-05-04T10:03:40.997529Z",
     "iopub.status.idle": "2024-05-04T10:03:41.045166Z",
     "shell.execute_reply": "2024-05-04T10:03:41.044164Z",
     "shell.execute_reply.started": "2024-05-04T10:03:40.998545Z"
    }
   },
   "outputs": [
    {
     "name": "stdout",
     "output_type": "stream",
     "text": [
      "999\n"
     ]
    },
    {
     "data": {
      "text/plain": [
       "Document(page_content=\": 0\\nname: Women's Campside Oxfords\\ndescription: This ultracomfortable lace-to-toe Oxford boasts a super-soft canvas, thick cushioning, and quality construction for a broken-in feel from the first time you put them on. \\n\\nSize & Fit: Order regular shoe size. For half sizes not offered, order up to next whole size. \\n\\nSpecs: Approx. weight: 1 lb.1 oz. per pair. \\n\\nConstruction: Soft canvas material for a broken-in feel and look. Comfortable EVA innersole with Cleansport NXT® antimicrobial odor control. Vintage hunt, fish and camping motif on innersole. Moderate arch contour of innersole. EVA foam midsole for cushioning and support. Chain-tread-inspired molded rubber outsole with modified chain-tread pattern. Imported. \\n\\nQuestions? Please contact us for any inquiries.\", metadata={'source': '..\\\\_data\\\\OutdoorClothingCatalog_999.csv', 'row': 0})"
      ]
     },
     "execution_count": 48,
     "metadata": {},
     "output_type": "execute_result"
    }
   ],
   "source": [
    "loader = CSVLoader(file_path=file, encoding='utf-8')\n",
    "docs = loader.load()\n",
    "print(len(docs)) \n",
    "docs[0]"
   ]
  },
  {
   "cell_type": "code",
   "execution_count": 49,
   "id": "c1fca911-da83-45c0-84b7-1cc2f9730194",
   "metadata": {
    "execution": {
     "iopub.execute_input": "2024-05-04T10:03:43.296488Z",
     "iopub.status.busy": "2024-05-04T10:03:43.296488Z",
     "iopub.status.idle": "2024-05-04T10:03:44.731173Z",
     "shell.execute_reply": "2024-05-04T10:03:44.730669Z",
     "shell.execute_reply.started": "2024-05-04T10:03:43.296488Z"
    }
   },
   "outputs": [
    {
     "name": "stdout",
     "output_type": "stream",
     "text": [
      "384\n",
      "[0.1582121104001999, 0.02535087615251541, 0.026235725730657578, 0.04640427231788635, -0.02119000069797039]\n"
     ]
    }
   ],
   "source": [
    "embeddings = QianfanEmbeddingsEndpoint()\n",
    "embed = embeddings.embed_query(\"Hi my name is Harrison\")\n",
    "print(len(embed))\n",
    "print(embed[:5])"
   ]
  },
  {
   "cell_type": "code",
   "execution_count": 50,
   "id": "2b26dbbf-a5d4-45f0-a4c2-ec39856b5d9e",
   "metadata": {
    "execution": {
     "iopub.execute_input": "2024-05-04T10:03:47.014113Z",
     "iopub.status.busy": "2024-05-04T10:03:47.014113Z",
     "iopub.status.idle": "2024-05-04T10:03:47.565377Z",
     "shell.execute_reply": "2024-05-04T10:03:47.563238Z",
     "shell.execute_reply.started": "2024-05-04T10:03:47.014113Z"
    },
    "scrolled": true
   },
   "outputs": [
    {
     "name": "stderr",
     "output_type": "stream",
     "text": [
      "[ERROR] [05-04 18:03:47] openapi_requestor.py:246 [t:44652]: api request req_id: as-j0n2xr77cf failed with error code: 336003, err msg: embeddings max length per batch size is 1000, please check https://cloud.baidu.com/doc/WENXINWORKSHOP/s/tlmyncueh\n"
     ]
    },
    {
     "ename": "APIError",
     "evalue": "api return error, req_id: as-j0n2xr77cf code: 336003, msg: embeddings max length per batch size is 1000",
     "output_type": "error",
     "traceback": [
      "\u001b[1;31m---------------------------------------------------------------------------\u001b[0m",
      "\u001b[1;31mAPIError\u001b[0m                                  Traceback (most recent call last)",
      "Cell \u001b[1;32mIn[50], line 1\u001b[0m\n\u001b[1;32m----> 1\u001b[0m db \u001b[38;5;241m=\u001b[39m \u001b[43mDocArrayInMemorySearch\u001b[49m\u001b[38;5;241;43m.\u001b[39;49m\u001b[43mfrom_documents\u001b[49m\u001b[43m(\u001b[49m\n\u001b[0;32m      2\u001b[0m \u001b[43m    \u001b[49m\u001b[43mdocs\u001b[49m\u001b[43m,\u001b[49m\u001b[43m \u001b[49m\n\u001b[0;32m      3\u001b[0m \u001b[43m    \u001b[49m\u001b[43membeddings\u001b[49m\n\u001b[0;32m      4\u001b[0m \u001b[43m)\u001b[49m\n\u001b[0;32m      5\u001b[0m docs \u001b[38;5;241m=\u001b[39m db\u001b[38;5;241m.\u001b[39msimilarity_search(query)\n\u001b[0;32m      6\u001b[0m query \u001b[38;5;241m=\u001b[39m \u001b[38;5;124m\"\u001b[39m\u001b[38;5;124mPlease suggest a shirt with sunblocking\u001b[39m\u001b[38;5;124m\"\u001b[39m\n",
      "File \u001b[1;32m~\\AppData\\Local\\miniconda3\\envs\\dev\\lib\\site-packages\\langchain_core\\vectorstores.py:550\u001b[0m, in \u001b[0;36mVectorStore.from_documents\u001b[1;34m(cls, documents, embedding, **kwargs)\u001b[0m\n\u001b[0;32m    548\u001b[0m texts \u001b[38;5;241m=\u001b[39m [d\u001b[38;5;241m.\u001b[39mpage_content \u001b[38;5;28;01mfor\u001b[39;00m d \u001b[38;5;129;01min\u001b[39;00m documents]\n\u001b[0;32m    549\u001b[0m metadatas \u001b[38;5;241m=\u001b[39m [d\u001b[38;5;241m.\u001b[39mmetadata \u001b[38;5;28;01mfor\u001b[39;00m d \u001b[38;5;129;01min\u001b[39;00m documents]\n\u001b[1;32m--> 550\u001b[0m \u001b[38;5;28;01mreturn\u001b[39;00m \u001b[38;5;28mcls\u001b[39m\u001b[38;5;241m.\u001b[39mfrom_texts(texts, embedding, metadatas\u001b[38;5;241m=\u001b[39mmetadatas, \u001b[38;5;241m*\u001b[39m\u001b[38;5;241m*\u001b[39mkwargs)\n",
      "File \u001b[1;32m~\\AppData\\Local\\miniconda3\\envs\\dev\\lib\\site-packages\\langchain_community\\vectorstores\\docarray\\in_memory.py:69\u001b[0m, in \u001b[0;36mDocArrayInMemorySearch.from_texts\u001b[1;34m(cls, texts, embedding, metadatas, **kwargs)\u001b[0m\n\u001b[0;32m     54\u001b[0m \u001b[38;5;250m\u001b[39m\u001b[38;5;124;03m\"\"\"Create an DocArrayInMemorySearch store and insert data.\u001b[39;00m\n\u001b[0;32m     55\u001b[0m \n\u001b[0;32m     56\u001b[0m \u001b[38;5;124;03mArgs:\u001b[39;00m\n\u001b[1;32m   (...)\u001b[0m\n\u001b[0;32m     66\u001b[0m \u001b[38;5;124;03m    DocArrayInMemorySearch Vector Store\u001b[39;00m\n\u001b[0;32m     67\u001b[0m \u001b[38;5;124;03m\"\"\"\u001b[39;00m\n\u001b[0;32m     68\u001b[0m store \u001b[38;5;241m=\u001b[39m \u001b[38;5;28mcls\u001b[39m\u001b[38;5;241m.\u001b[39mfrom_params(embedding, \u001b[38;5;241m*\u001b[39m\u001b[38;5;241m*\u001b[39mkwargs)\n\u001b[1;32m---> 69\u001b[0m \u001b[43mstore\u001b[49m\u001b[38;5;241;43m.\u001b[39;49m\u001b[43madd_texts\u001b[49m\u001b[43m(\u001b[49m\u001b[43mtexts\u001b[49m\u001b[38;5;241;43m=\u001b[39;49m\u001b[43mtexts\u001b[49m\u001b[43m,\u001b[49m\u001b[43m \u001b[49m\u001b[43mmetadatas\u001b[49m\u001b[38;5;241;43m=\u001b[39;49m\u001b[43mmetadatas\u001b[49m\u001b[43m)\u001b[49m\n\u001b[0;32m     70\u001b[0m \u001b[38;5;28;01mreturn\u001b[39;00m store\n",
      "File \u001b[1;32m~\\AppData\\Local\\miniconda3\\envs\\dev\\lib\\site-packages\\langchain_community\\vectorstores\\docarray\\base.py:82\u001b[0m, in \u001b[0;36mDocArrayIndex.add_texts\u001b[1;34m(self, texts, metadatas, **kwargs)\u001b[0m\n\u001b[0;32m     72\u001b[0m \u001b[38;5;250m\u001b[39m\u001b[38;5;124;03m\"\"\"Embed texts and add to the vector store.\u001b[39;00m\n\u001b[0;32m     73\u001b[0m \n\u001b[0;32m     74\u001b[0m \u001b[38;5;124;03mArgs:\u001b[39;00m\n\u001b[1;32m   (...)\u001b[0m\n\u001b[0;32m     79\u001b[0m \u001b[38;5;124;03m    List of ids from adding the texts into the vectorstore.\u001b[39;00m\n\u001b[0;32m     80\u001b[0m \u001b[38;5;124;03m\"\"\"\u001b[39;00m\n\u001b[0;32m     81\u001b[0m ids: List[\u001b[38;5;28mstr\u001b[39m] \u001b[38;5;241m=\u001b[39m []\n\u001b[1;32m---> 82\u001b[0m embeddings \u001b[38;5;241m=\u001b[39m \u001b[38;5;28;43mself\u001b[39;49m\u001b[38;5;241;43m.\u001b[39;49m\u001b[43membedding\u001b[49m\u001b[38;5;241;43m.\u001b[39;49m\u001b[43membed_documents\u001b[49m\u001b[43m(\u001b[49m\u001b[38;5;28;43mlist\u001b[39;49m\u001b[43m(\u001b[49m\u001b[43mtexts\u001b[49m\u001b[43m)\u001b[49m\u001b[43m)\u001b[49m\n\u001b[0;32m     83\u001b[0m \u001b[38;5;28;01mfor\u001b[39;00m i, (t, e) \u001b[38;5;129;01min\u001b[39;00m \u001b[38;5;28menumerate\u001b[39m(\u001b[38;5;28mzip\u001b[39m(texts, embeddings)):\n\u001b[0;32m     84\u001b[0m     m \u001b[38;5;241m=\u001b[39m metadatas[i] \u001b[38;5;28;01mif\u001b[39;00m metadatas \u001b[38;5;28;01melse\u001b[39;00m {}\n",
      "File \u001b[1;32m~\\AppData\\Local\\miniconda3\\envs\\dev\\lib\\site-packages\\langchain_community\\embeddings\\baidu_qianfan_endpoint.py:133\u001b[0m, in \u001b[0;36mQianfanEmbeddingsEndpoint.embed_documents\u001b[1;34m(self, texts)\u001b[0m\n\u001b[0;32m    131\u001b[0m lst \u001b[38;5;241m=\u001b[39m []\n\u001b[0;32m    132\u001b[0m \u001b[38;5;28;01mfor\u001b[39;00m chunk \u001b[38;5;129;01min\u001b[39;00m text_in_chunks:\n\u001b[1;32m--> 133\u001b[0m     resp \u001b[38;5;241m=\u001b[39m \u001b[38;5;28mself\u001b[39m\u001b[38;5;241m.\u001b[39mclient\u001b[38;5;241m.\u001b[39mdo(texts\u001b[38;5;241m=\u001b[39mchunk, \u001b[38;5;241m*\u001b[39m\u001b[38;5;241m*\u001b[39m\u001b[38;5;28mself\u001b[39m\u001b[38;5;241m.\u001b[39mmodel_kwargs)\n\u001b[0;32m    134\u001b[0m     lst\u001b[38;5;241m.\u001b[39mextend([res[\u001b[38;5;124m\"\u001b[39m\u001b[38;5;124membedding\u001b[39m\u001b[38;5;124m\"\u001b[39m] \u001b[38;5;28;01mfor\u001b[39;00m res \u001b[38;5;129;01min\u001b[39;00m resp[\u001b[38;5;124m\"\u001b[39m\u001b[38;5;124mdata\u001b[39m\u001b[38;5;124m\"\u001b[39m]])\n\u001b[0;32m    135\u001b[0m \u001b[38;5;28;01mreturn\u001b[39;00m lst\n",
      "File \u001b[1;32m~\\AppData\\Local\\miniconda3\\envs\\dev\\lib\\site-packages\\qianfan\\resources\\llm\\embedding.py:172\u001b[0m, in \u001b[0;36mEmbedding.do\u001b[1;34m(self, texts, model, endpoint, stream, retry_count, request_timeout, request_id, backoff_factor, **kwargs)\u001b[0m\n\u001b[0;32m    169\u001b[0m \u001b[38;5;28;01mif\u001b[39;00m request_id \u001b[38;5;129;01mis\u001b[39;00m \u001b[38;5;129;01mnot\u001b[39;00m \u001b[38;5;28;01mNone\u001b[39;00m:\n\u001b[0;32m    170\u001b[0m     kwargs[\u001b[38;5;124m\"\u001b[39m\u001b[38;5;124mrequest_id\u001b[39m\u001b[38;5;124m\"\u001b[39m] \u001b[38;5;241m=\u001b[39m request_id\n\u001b[1;32m--> 172\u001b[0m \u001b[38;5;28;01mreturn\u001b[39;00m \u001b[38;5;28mself\u001b[39m\u001b[38;5;241m.\u001b[39m_do(\n\u001b[0;32m    173\u001b[0m     model,\n\u001b[0;32m    174\u001b[0m     endpoint,\n\u001b[0;32m    175\u001b[0m     stream,\n\u001b[0;32m    176\u001b[0m     retry_count,\n\u001b[0;32m    177\u001b[0m     request_timeout,\n\u001b[0;32m    178\u001b[0m     backoff_factor,\n\u001b[0;32m    179\u001b[0m     \u001b[38;5;241m*\u001b[39m\u001b[38;5;241m*\u001b[39mkwargs,\n\u001b[0;32m    180\u001b[0m )\n",
      "File \u001b[1;32m~\\AppData\\Local\\miniconda3\\envs\\dev\\lib\\site-packages\\qianfan\\resources\\llm\\base.py:286\u001b[0m, in \u001b[0;36mBaseResource._do\u001b[1;34m(self, model, endpoint, stream, retry_count, request_timeout, backoff_factor, retry_jitter, retry_err_codes, retry_max_wait_interval, **kwargs)\u001b[0m\n\u001b[0;32m    284\u001b[0m             \u001b[38;5;28;01mcontinue\u001b[39;00m\n\u001b[0;32m    285\u001b[0m         \u001b[38;5;28;01melse\u001b[39;00m:\n\u001b[1;32m--> 286\u001b[0m             \u001b[38;5;28;01mraise\u001b[39;00m e\n\u001b[0;32m    287\u001b[0m     \u001b[38;5;28;01mbreak\u001b[39;00m\n\u001b[0;32m    289\u001b[0m \u001b[38;5;28;01mreturn\u001b[39;00m resp\n",
      "File \u001b[1;32m~\\AppData\\Local\\miniconda3\\envs\\dev\\lib\\site-packages\\qianfan\\resources\\llm\\base.py:267\u001b[0m, in \u001b[0;36mBaseResource._do\u001b[1;34m(self, model, endpoint, stream, retry_count, request_timeout, backoff_factor, retry_jitter, retry_err_codes, retry_max_wait_interval, **kwargs)\u001b[0m\n\u001b[0;32m    265\u001b[0m \u001b[38;5;28;01mwhile\u001b[39;00m \u001b[38;5;28;01mTrue\u001b[39;00m:\n\u001b[0;32m    266\u001b[0m     \u001b[38;5;28;01mtry\u001b[39;00m:\n\u001b[1;32m--> 267\u001b[0m         resp \u001b[38;5;241m=\u001b[39m \u001b[38;5;28;43mself\u001b[39;49m\u001b[38;5;241;43m.\u001b[39;49m\u001b[43m_client\u001b[49m\u001b[38;5;241;43m.\u001b[39;49m\u001b[43mllm\u001b[49m\u001b[43m(\u001b[49m\n\u001b[0;32m    268\u001b[0m \u001b[43m            \u001b[49m\u001b[43mendpoint\u001b[49m\u001b[38;5;241;43m=\u001b[39;49m\u001b[43mendpoint\u001b[49m\u001b[43m,\u001b[49m\n\u001b[0;32m    269\u001b[0m \u001b[43m            \u001b[49m\u001b[43mheader\u001b[49m\u001b[38;5;241;43m=\u001b[39;49m\u001b[38;5;28;43mself\u001b[39;49m\u001b[38;5;241;43m.\u001b[39;49m\u001b[43m_generate_header\u001b[49m\u001b[43m(\u001b[49m\u001b[43mmodel\u001b[49m\u001b[43m,\u001b[49m\u001b[43m \u001b[49m\u001b[43mendpoint\u001b[49m\u001b[43m,\u001b[49m\u001b[43m \u001b[49m\u001b[43mstream\u001b[49m\u001b[43m,\u001b[49m\u001b[43m \u001b[49m\u001b[38;5;241;43m*\u001b[39;49m\u001b[38;5;241;43m*\u001b[39;49m\u001b[43mkwargs\u001b[49m\u001b[43m)\u001b[49m\u001b[43m,\u001b[49m\n\u001b[0;32m    270\u001b[0m \u001b[43m            \u001b[49m\u001b[43mquery\u001b[49m\u001b[38;5;241;43m=\u001b[39;49m\u001b[38;5;28;43mself\u001b[39;49m\u001b[38;5;241;43m.\u001b[39;49m\u001b[43m_generate_query\u001b[49m\u001b[43m(\u001b[49m\u001b[43mmodel\u001b[49m\u001b[43m,\u001b[49m\u001b[43m \u001b[49m\u001b[43mendpoint\u001b[49m\u001b[43m,\u001b[49m\u001b[43m \u001b[49m\u001b[43mstream\u001b[49m\u001b[43m,\u001b[49m\u001b[43m \u001b[49m\u001b[38;5;241;43m*\u001b[39;49m\u001b[38;5;241;43m*\u001b[39;49m\u001b[43mkwargs\u001b[49m\u001b[43m)\u001b[49m\u001b[43m,\u001b[49m\n\u001b[0;32m    271\u001b[0m \u001b[43m            \u001b[49m\u001b[43mbody\u001b[49m\u001b[38;5;241;43m=\u001b[39;49m\u001b[38;5;28;43mself\u001b[39;49m\u001b[38;5;241;43m.\u001b[39;49m\u001b[43m_generate_body\u001b[49m\u001b[43m(\u001b[49m\u001b[43mmodel\u001b[49m\u001b[43m,\u001b[49m\u001b[43m \u001b[49m\u001b[43mendpoint\u001b[49m\u001b[43m,\u001b[49m\u001b[43m \u001b[49m\u001b[43mstream\u001b[49m\u001b[43m,\u001b[49m\u001b[43m \u001b[49m\u001b[38;5;241;43m*\u001b[39;49m\u001b[38;5;241;43m*\u001b[39;49m\u001b[43mkwargs\u001b[49m\u001b[43m)\u001b[49m\u001b[43m,\u001b[49m\n\u001b[0;32m    272\u001b[0m \u001b[43m            \u001b[49m\u001b[43mstream\u001b[49m\u001b[38;5;241;43m=\u001b[39;49m\u001b[43mstream\u001b[49m\u001b[43m,\u001b[49m\n\u001b[0;32m    273\u001b[0m \u001b[43m            \u001b[49m\u001b[43mdata_postprocess\u001b[49m\u001b[38;5;241;43m=\u001b[39;49m\u001b[38;5;28;43mself\u001b[39;49m\u001b[38;5;241;43m.\u001b[39;49m\u001b[43m_data_postprocess\u001b[49m\u001b[43m,\u001b[49m\n\u001b[0;32m    274\u001b[0m \u001b[43m            \u001b[49m\u001b[43mretry_config\u001b[49m\u001b[38;5;241;43m=\u001b[39;49m\u001b[43mretry_config\u001b[49m\u001b[43m,\u001b[49m\n\u001b[0;32m    275\u001b[0m \u001b[43m        \u001b[49m\u001b[43m)\u001b[49m\n\u001b[0;32m    276\u001b[0m     \u001b[38;5;28;01mexcept\u001b[39;00m errors\u001b[38;5;241m.\u001b[39mAPIError \u001b[38;5;28;01mas\u001b[39;00m e:\n\u001b[0;32m    277\u001b[0m         \u001b[38;5;28;01mif\u001b[39;00m (\n\u001b[0;32m    278\u001b[0m             e\u001b[38;5;241m.\u001b[39merror_code \u001b[38;5;241m==\u001b[39m APIErrorCode\u001b[38;5;241m.\u001b[39mUnsupportedMethod\n\u001b[0;32m    279\u001b[0m             \u001b[38;5;129;01mand\u001b[39;00m \u001b[38;5;129;01mnot\u001b[39;00m refreshed_model_list\n\u001b[0;32m    280\u001b[0m         ):\n",
      "File \u001b[1;32m~\\AppData\\Local\\miniconda3\\envs\\dev\\lib\\site-packages\\qianfan\\resources\\requestor\\openapi_requestor.py:406\u001b[0m, in \u001b[0;36mQfAPIRequestor.llm\u001b[1;34m(self, endpoint, header, query, body, stream, data_postprocess, retry_config)\u001b[0m\n\u001b[0;32m    401\u001b[0m     \u001b[38;5;28;01melse\u001b[39;00m:\n\u001b[0;32m    402\u001b[0m         \u001b[38;5;28;01mreturn\u001b[39;00m \u001b[38;5;28mself\u001b[39m\u001b[38;5;241m.\u001b[39m_compensate_token_usage_non_stream(\n\u001b[0;32m    403\u001b[0m             \u001b[38;5;28mself\u001b[39m\u001b[38;5;241m.\u001b[39m_request(req, data_postprocess\u001b[38;5;241m=\u001b[39mdata_postprocess), token_count\n\u001b[0;32m    404\u001b[0m         )\n\u001b[1;32m--> 406\u001b[0m \u001b[38;5;28;01mreturn\u001b[39;00m \u001b[38;5;28;43mself\u001b[39;49m\u001b[38;5;241;43m.\u001b[39;49m\u001b[43m_with_retry\u001b[49m\u001b[43m(\u001b[49m\u001b[43mretry_config\u001b[49m\u001b[43m,\u001b[49m\u001b[43m \u001b[49m\u001b[43m_helper\u001b[49m\u001b[43m)\u001b[49m\n",
      "File \u001b[1;32m~\\AppData\\Local\\miniconda3\\envs\\dev\\lib\\site-packages\\qianfan\\resources\\requestor\\base.py:369\u001b[0m, in \u001b[0;36mBaseAPIRequestor._with_retry\u001b[1;34m(self, config, func, *args)\u001b[0m\n\u001b[0;32m    356\u001b[0m \u001b[38;5;129m@retry\u001b[39m(\n\u001b[0;32m    357\u001b[0m     wait\u001b[38;5;241m=\u001b[39mwait_exponential_jitter(\n\u001b[0;32m    358\u001b[0m         initial\u001b[38;5;241m=\u001b[39mconfig\u001b[38;5;241m.\u001b[39mbackoff_factor,\n\u001b[1;32m   (...)\u001b[0m\n\u001b[0;32m    365\u001b[0m )\n\u001b[0;32m    366\u001b[0m \u001b[38;5;28;01mdef\u001b[39;00m \u001b[38;5;21m_retry_wrapper\u001b[39m(\u001b[38;5;241m*\u001b[39margs: Any) \u001b[38;5;241m-\u001b[39m\u001b[38;5;241m>\u001b[39m _T:\n\u001b[0;32m    367\u001b[0m     \u001b[38;5;28;01mreturn\u001b[39;00m func(\u001b[38;5;241m*\u001b[39margs)\n\u001b[1;32m--> 369\u001b[0m \u001b[38;5;28;01mreturn\u001b[39;00m \u001b[43m_retry_wrapper\u001b[49m\u001b[43m(\u001b[49m\u001b[38;5;241;43m*\u001b[39;49m\u001b[43margs\u001b[49m\u001b[43m)\u001b[49m\n",
      "File \u001b[1;32m~\\AppData\\Local\\miniconda3\\envs\\dev\\lib\\site-packages\\tenacity\\__init__.py:289\u001b[0m, in \u001b[0;36mBaseRetrying.wraps.<locals>.wrapped_f\u001b[1;34m(*args, **kw)\u001b[0m\n\u001b[0;32m    287\u001b[0m \u001b[38;5;129m@functools\u001b[39m\u001b[38;5;241m.\u001b[39mwraps(f)\n\u001b[0;32m    288\u001b[0m \u001b[38;5;28;01mdef\u001b[39;00m \u001b[38;5;21mwrapped_f\u001b[39m(\u001b[38;5;241m*\u001b[39margs: t\u001b[38;5;241m.\u001b[39mAny, \u001b[38;5;241m*\u001b[39m\u001b[38;5;241m*\u001b[39mkw: t\u001b[38;5;241m.\u001b[39mAny) \u001b[38;5;241m-\u001b[39m\u001b[38;5;241m>\u001b[39m t\u001b[38;5;241m.\u001b[39mAny:\n\u001b[1;32m--> 289\u001b[0m     \u001b[38;5;28;01mreturn\u001b[39;00m \u001b[38;5;28mself\u001b[39m(f, \u001b[38;5;241m*\u001b[39margs, \u001b[38;5;241m*\u001b[39m\u001b[38;5;241m*\u001b[39mkw)\n",
      "File \u001b[1;32m~\\AppData\\Local\\miniconda3\\envs\\dev\\lib\\site-packages\\tenacity\\__init__.py:379\u001b[0m, in \u001b[0;36mRetrying.__call__\u001b[1;34m(self, fn, *args, **kwargs)\u001b[0m\n\u001b[0;32m    377\u001b[0m retry_state \u001b[38;5;241m=\u001b[39m RetryCallState(retry_object\u001b[38;5;241m=\u001b[39m\u001b[38;5;28mself\u001b[39m, fn\u001b[38;5;241m=\u001b[39mfn, args\u001b[38;5;241m=\u001b[39margs, kwargs\u001b[38;5;241m=\u001b[39mkwargs)\n\u001b[0;32m    378\u001b[0m \u001b[38;5;28;01mwhile\u001b[39;00m \u001b[38;5;28;01mTrue\u001b[39;00m:\n\u001b[1;32m--> 379\u001b[0m     do \u001b[38;5;241m=\u001b[39m \u001b[38;5;28;43mself\u001b[39;49m\u001b[38;5;241;43m.\u001b[39;49m\u001b[43miter\u001b[49m\u001b[43m(\u001b[49m\u001b[43mretry_state\u001b[49m\u001b[38;5;241;43m=\u001b[39;49m\u001b[43mretry_state\u001b[49m\u001b[43m)\u001b[49m\n\u001b[0;32m    380\u001b[0m     \u001b[38;5;28;01mif\u001b[39;00m \u001b[38;5;28misinstance\u001b[39m(do, DoAttempt):\n\u001b[0;32m    381\u001b[0m         \u001b[38;5;28;01mtry\u001b[39;00m:\n",
      "File \u001b[1;32m~\\AppData\\Local\\miniconda3\\envs\\dev\\lib\\site-packages\\tenacity\\__init__.py:314\u001b[0m, in \u001b[0;36mBaseRetrying.iter\u001b[1;34m(self, retry_state)\u001b[0m\n\u001b[0;32m    312\u001b[0m is_explicit_retry \u001b[38;5;241m=\u001b[39m fut\u001b[38;5;241m.\u001b[39mfailed \u001b[38;5;129;01mand\u001b[39;00m \u001b[38;5;28misinstance\u001b[39m(fut\u001b[38;5;241m.\u001b[39mexception(), TryAgain)\n\u001b[0;32m    313\u001b[0m \u001b[38;5;28;01mif\u001b[39;00m \u001b[38;5;129;01mnot\u001b[39;00m (is_explicit_retry \u001b[38;5;129;01mor\u001b[39;00m \u001b[38;5;28mself\u001b[39m\u001b[38;5;241m.\u001b[39mretry(retry_state)):\n\u001b[1;32m--> 314\u001b[0m     \u001b[38;5;28;01mreturn\u001b[39;00m \u001b[43mfut\u001b[49m\u001b[38;5;241;43m.\u001b[39;49m\u001b[43mresult\u001b[49m\u001b[43m(\u001b[49m\u001b[43m)\u001b[49m\n\u001b[0;32m    316\u001b[0m \u001b[38;5;28;01mif\u001b[39;00m \u001b[38;5;28mself\u001b[39m\u001b[38;5;241m.\u001b[39mafter \u001b[38;5;129;01mis\u001b[39;00m \u001b[38;5;129;01mnot\u001b[39;00m \u001b[38;5;28;01mNone\u001b[39;00m:\n\u001b[0;32m    317\u001b[0m     \u001b[38;5;28mself\u001b[39m\u001b[38;5;241m.\u001b[39mafter(retry_state)\n",
      "File \u001b[1;32m~\\AppData\\Local\\miniconda3\\envs\\dev\\lib\\concurrent\\futures\\_base.py:451\u001b[0m, in \u001b[0;36mFuture.result\u001b[1;34m(self, timeout)\u001b[0m\n\u001b[0;32m    449\u001b[0m     \u001b[38;5;28;01mraise\u001b[39;00m CancelledError()\n\u001b[0;32m    450\u001b[0m \u001b[38;5;28;01melif\u001b[39;00m \u001b[38;5;28mself\u001b[39m\u001b[38;5;241m.\u001b[39m_state \u001b[38;5;241m==\u001b[39m FINISHED:\n\u001b[1;32m--> 451\u001b[0m     \u001b[38;5;28;01mreturn\u001b[39;00m \u001b[38;5;28;43mself\u001b[39;49m\u001b[38;5;241;43m.\u001b[39;49m\u001b[43m__get_result\u001b[49m\u001b[43m(\u001b[49m\u001b[43m)\u001b[49m\n\u001b[0;32m    453\u001b[0m \u001b[38;5;28mself\u001b[39m\u001b[38;5;241m.\u001b[39m_condition\u001b[38;5;241m.\u001b[39mwait(timeout)\n\u001b[0;32m    455\u001b[0m \u001b[38;5;28;01mif\u001b[39;00m \u001b[38;5;28mself\u001b[39m\u001b[38;5;241m.\u001b[39m_state \u001b[38;5;129;01min\u001b[39;00m [CANCELLED, CANCELLED_AND_NOTIFIED]:\n",
      "File \u001b[1;32m~\\AppData\\Local\\miniconda3\\envs\\dev\\lib\\concurrent\\futures\\_base.py:403\u001b[0m, in \u001b[0;36mFuture.__get_result\u001b[1;34m(self)\u001b[0m\n\u001b[0;32m    401\u001b[0m \u001b[38;5;28;01mif\u001b[39;00m \u001b[38;5;28mself\u001b[39m\u001b[38;5;241m.\u001b[39m_exception:\n\u001b[0;32m    402\u001b[0m     \u001b[38;5;28;01mtry\u001b[39;00m:\n\u001b[1;32m--> 403\u001b[0m         \u001b[38;5;28;01mraise\u001b[39;00m \u001b[38;5;28mself\u001b[39m\u001b[38;5;241m.\u001b[39m_exception\n\u001b[0;32m    404\u001b[0m     \u001b[38;5;28;01mfinally\u001b[39;00m:\n\u001b[0;32m    405\u001b[0m         \u001b[38;5;66;03m# Break a reference cycle with the exception in self._exception\u001b[39;00m\n\u001b[0;32m    406\u001b[0m         \u001b[38;5;28mself\u001b[39m \u001b[38;5;241m=\u001b[39m \u001b[38;5;28;01mNone\u001b[39;00m\n",
      "File \u001b[1;32m~\\AppData\\Local\\miniconda3\\envs\\dev\\lib\\site-packages\\tenacity\\__init__.py:382\u001b[0m, in \u001b[0;36mRetrying.__call__\u001b[1;34m(self, fn, *args, **kwargs)\u001b[0m\n\u001b[0;32m    380\u001b[0m \u001b[38;5;28;01mif\u001b[39;00m \u001b[38;5;28misinstance\u001b[39m(do, DoAttempt):\n\u001b[0;32m    381\u001b[0m     \u001b[38;5;28;01mtry\u001b[39;00m:\n\u001b[1;32m--> 382\u001b[0m         result \u001b[38;5;241m=\u001b[39m fn(\u001b[38;5;241m*\u001b[39margs, \u001b[38;5;241m*\u001b[39m\u001b[38;5;241m*\u001b[39mkwargs)\n\u001b[0;32m    383\u001b[0m     \u001b[38;5;28;01mexcept\u001b[39;00m \u001b[38;5;167;01mBaseException\u001b[39;00m:  \u001b[38;5;66;03m# noqa: B902\u001b[39;00m\n\u001b[0;32m    384\u001b[0m         retry_state\u001b[38;5;241m.\u001b[39mset_exception(sys\u001b[38;5;241m.\u001b[39mexc_info())  \u001b[38;5;66;03m# type: ignore[arg-type]\u001b[39;00m\n",
      "File \u001b[1;32m~\\AppData\\Local\\miniconda3\\envs\\dev\\lib\\site-packages\\qianfan\\resources\\requestor\\base.py:367\u001b[0m, in \u001b[0;36mBaseAPIRequestor._with_retry.<locals>._retry_wrapper\u001b[1;34m(*args)\u001b[0m\n\u001b[0;32m    356\u001b[0m \u001b[38;5;129m@retry\u001b[39m(\n\u001b[0;32m    357\u001b[0m     wait\u001b[38;5;241m=\u001b[39mwait_exponential_jitter(\n\u001b[0;32m    358\u001b[0m         initial\u001b[38;5;241m=\u001b[39mconfig\u001b[38;5;241m.\u001b[39mbackoff_factor,\n\u001b[1;32m   (...)\u001b[0m\n\u001b[0;32m    365\u001b[0m )\n\u001b[0;32m    366\u001b[0m \u001b[38;5;28;01mdef\u001b[39;00m \u001b[38;5;21m_retry_wrapper\u001b[39m(\u001b[38;5;241m*\u001b[39margs: Any) \u001b[38;5;241m-\u001b[39m\u001b[38;5;241m>\u001b[39m _T:\n\u001b[1;32m--> 367\u001b[0m     \u001b[38;5;28;01mreturn\u001b[39;00m \u001b[43mfunc\u001b[49m\u001b[43m(\u001b[49m\u001b[38;5;241;43m*\u001b[39;49m\u001b[43margs\u001b[49m\u001b[43m)\u001b[49m\n",
      "File \u001b[1;32m~\\AppData\\Local\\miniconda3\\envs\\dev\\lib\\site-packages\\qianfan\\resources\\requestor\\openapi_requestor.py:80\u001b[0m, in \u001b[0;36mQfAPIRequestor._retry_if_token_expired.<locals>.retry_wrapper\u001b[1;34m(*args, **kwargs)\u001b[0m\n\u001b[0;32m     78\u001b[0m \u001b[38;5;28;01mif\u001b[39;00m \u001b[38;5;129;01mnot\u001b[39;00m token_refreshed:\n\u001b[0;32m     79\u001b[0m     \u001b[38;5;28;01mtry\u001b[39;00m:\n\u001b[1;32m---> 80\u001b[0m         \u001b[38;5;28;01mreturn\u001b[39;00m \u001b[43mfunc\u001b[49m\u001b[43m(\u001b[49m\u001b[38;5;241;43m*\u001b[39;49m\u001b[43margs\u001b[49m\u001b[43m)\u001b[49m\n\u001b[0;32m     81\u001b[0m     \u001b[38;5;28;01mexcept\u001b[39;00m errors\u001b[38;5;241m.\u001b[39mAccessTokenExpiredError:\n\u001b[0;32m     82\u001b[0m         \u001b[38;5;66;03m# refresh token and set token_refreshed flag\u001b[39;00m\n\u001b[0;32m     83\u001b[0m         \u001b[38;5;28mself\u001b[39m\u001b[38;5;241m.\u001b[39m_auth\u001b[38;5;241m.\u001b[39mrefresh_access_token()\n",
      "File \u001b[1;32m~\\AppData\\Local\\miniconda3\\envs\\dev\\lib\\site-packages\\qianfan\\resources\\requestor\\openapi_requestor.py:403\u001b[0m, in \u001b[0;36mQfAPIRequestor.llm.<locals>._helper\u001b[1;34m()\u001b[0m\n\u001b[0;32m    397\u001b[0m     \u001b[38;5;28;01mreturn\u001b[39;00m \u001b[38;5;28mself\u001b[39m\u001b[38;5;241m.\u001b[39m_compensate_token_usage_stream(\n\u001b[0;32m    398\u001b[0m         \u001b[38;5;28mself\u001b[39m\u001b[38;5;241m.\u001b[39m_request_stream(req, data_postprocess\u001b[38;5;241m=\u001b[39mdata_postprocess),\n\u001b[0;32m    399\u001b[0m         token_count,\n\u001b[0;32m    400\u001b[0m     )\n\u001b[0;32m    401\u001b[0m \u001b[38;5;28;01melse\u001b[39;00m:\n\u001b[0;32m    402\u001b[0m     \u001b[38;5;28;01mreturn\u001b[39;00m \u001b[38;5;28mself\u001b[39m\u001b[38;5;241m.\u001b[39m_compensate_token_usage_non_stream(\n\u001b[1;32m--> 403\u001b[0m         \u001b[38;5;28;43mself\u001b[39;49m\u001b[38;5;241;43m.\u001b[39;49m\u001b[43m_request\u001b[49m\u001b[43m(\u001b[49m\u001b[43mreq\u001b[49m\u001b[43m,\u001b[49m\u001b[43m \u001b[49m\u001b[43mdata_postprocess\u001b[49m\u001b[38;5;241;43m=\u001b[39;49m\u001b[43mdata_postprocess\u001b[49m\u001b[43m)\u001b[49m, token_count\n\u001b[0;32m    404\u001b[0m     )\n",
      "File \u001b[1;32m~\\AppData\\Local\\miniconda3\\envs\\dev\\lib\\site-packages\\qianfan\\resources\\requestor\\base.py:147\u001b[0m, in \u001b[0;36m_latency.<locals>.wrapper\u001b[1;34m(*args, **kwargs)\u001b[0m\n\u001b[0;32m    145\u001b[0m \u001b[38;5;28;01mdef\u001b[39;00m \u001b[38;5;21mwrapper\u001b[39m(\u001b[38;5;241m*\u001b[39margs: Any, \u001b[38;5;241m*\u001b[39m\u001b[38;5;241m*\u001b[39mkwargs: Any) \u001b[38;5;241m-\u001b[39m\u001b[38;5;241m>\u001b[39m QfResponse:\n\u001b[0;32m    146\u001b[0m     start_time \u001b[38;5;241m=\u001b[39m time\u001b[38;5;241m.\u001b[39mperf_counter()\n\u001b[1;32m--> 147\u001b[0m     resp \u001b[38;5;241m=\u001b[39m func(\u001b[38;5;241m*\u001b[39margs, \u001b[38;5;241m*\u001b[39m\u001b[38;5;241m*\u001b[39mkwargs)\n\u001b[0;32m    148\u001b[0m     resp\u001b[38;5;241m.\u001b[39mstatistic[\u001b[38;5;124m\"\u001b[39m\u001b[38;5;124mtotal_latency\u001b[39m\u001b[38;5;124m\"\u001b[39m] \u001b[38;5;241m=\u001b[39m time\u001b[38;5;241m.\u001b[39mperf_counter() \u001b[38;5;241m-\u001b[39m start_time\n\u001b[0;32m    149\u001b[0m     \u001b[38;5;28;01mreturn\u001b[39;00m resp\n",
      "File \u001b[1;32m~\\AppData\\Local\\miniconda3\\envs\\dev\\lib\\site-packages\\qianfan\\resources\\requestor\\base.py:263\u001b[0m, in \u001b[0;36mBaseAPIRequestor._request\u001b[1;34m(self, request, data_postprocess)\u001b[0m\n\u001b[0;32m    259\u001b[0m \u001b[38;5;28;01mexcept\u001b[39;00m requests\u001b[38;5;241m.\u001b[39mJSONDecodeError:\n\u001b[0;32m    260\u001b[0m     \u001b[38;5;28;01mraise\u001b[39;00m errors\u001b[38;5;241m.\u001b[39mRequestError(\n\u001b[0;32m    261\u001b[0m         \u001b[38;5;124mf\u001b[39m\u001b[38;5;124m\"\u001b[39m\u001b[38;5;124mGot invalid json response from server, body: \u001b[39m\u001b[38;5;132;01m{\u001b[39;00mresponse\u001b[38;5;241m.\u001b[39mcontent\u001b[38;5;132;01m!r}\u001b[39;00m\u001b[38;5;124m\"\u001b[39m\n\u001b[0;32m    262\u001b[0m     )\n\u001b[1;32m--> 263\u001b[0m resp \u001b[38;5;241m=\u001b[39m \u001b[38;5;28;43mself\u001b[39;49m\u001b[38;5;241;43m.\u001b[39;49m\u001b[43m_parse_response\u001b[49m\u001b[43m(\u001b[49m\u001b[43mbody\u001b[49m\u001b[43m,\u001b[49m\u001b[43m \u001b[49m\u001b[43mresponse\u001b[49m\u001b[43m)\u001b[49m\n\u001b[0;32m    264\u001b[0m resp\u001b[38;5;241m.\u001b[39mstatistic[\u001b[38;5;124m\"\u001b[39m\u001b[38;5;124mrequest_latency\u001b[39m\u001b[38;5;124m\"\u001b[39m] \u001b[38;5;241m=\u001b[39m response\u001b[38;5;241m.\u001b[39melapsed\u001b[38;5;241m.\u001b[39mtotal_seconds()\n\u001b[0;32m    265\u001b[0m resp\u001b[38;5;241m.\u001b[39mrequest \u001b[38;5;241m=\u001b[39m QfRequest\u001b[38;5;241m.\u001b[39mfrom_requests(response\u001b[38;5;241m.\u001b[39mrequest)\n",
      "File \u001b[1;32m~\\AppData\\Local\\miniconda3\\envs\\dev\\lib\\site-packages\\qianfan\\resources\\requestor\\openapi_requestor.py:266\u001b[0m, in \u001b[0;36mQfAPIRequestor._parse_response\u001b[1;34m(self, body, resp)\u001b[0m\n\u001b[0;32m    264\u001b[0m \u001b[38;5;28;01mif\u001b[39;00m e\u001b[38;5;241m.\u001b[39merror_code \u001b[38;5;241m==\u001b[39m APIErrorCode\u001b[38;5;241m.\u001b[39mTPMLimitReached\u001b[38;5;241m.\u001b[39mvalue:\n\u001b[0;32m    265\u001b[0m     \u001b[38;5;28mself\u001b[39m\u001b[38;5;241m.\u001b[39m_token_limiter\u001b[38;5;241m.\u001b[39mclear()\n\u001b[1;32m--> 266\u001b[0m \u001b[38;5;28;01mraise\u001b[39;00m e\n",
      "File \u001b[1;32m~\\AppData\\Local\\miniconda3\\envs\\dev\\lib\\site-packages\\qianfan\\resources\\requestor\\openapi_requestor.py:262\u001b[0m, in \u001b[0;36mQfAPIRequestor._parse_response\u001b[1;34m(self, body, resp)\u001b[0m\n\u001b[0;32m    258\u001b[0m \u001b[38;5;28;01mdef\u001b[39;00m \u001b[38;5;21m_parse_response\u001b[39m(\n\u001b[0;32m    259\u001b[0m     \u001b[38;5;28mself\u001b[39m, body: Dict[\u001b[38;5;28mstr\u001b[39m, Any], resp: requests\u001b[38;5;241m.\u001b[39mResponse\n\u001b[0;32m    260\u001b[0m ) \u001b[38;5;241m-\u001b[39m\u001b[38;5;241m>\u001b[39m QfResponse:\n\u001b[0;32m    261\u001b[0m     \u001b[38;5;28;01mtry\u001b[39;00m:\n\u001b[1;32m--> 262\u001b[0m         \u001b[38;5;28;01mreturn\u001b[39;00m \u001b[38;5;28;43msuper\u001b[39;49m\u001b[43m(\u001b[49m\u001b[43m)\u001b[49m\u001b[38;5;241;43m.\u001b[39;49m\u001b[43m_parse_response\u001b[49m\u001b[43m(\u001b[49m\u001b[43mbody\u001b[49m\u001b[43m,\u001b[49m\u001b[43m \u001b[49m\u001b[43mresp\u001b[49m\u001b[43m)\u001b[49m\n\u001b[0;32m    263\u001b[0m     \u001b[38;5;28;01mexcept\u001b[39;00m errors\u001b[38;5;241m.\u001b[39mAPIError \u001b[38;5;28;01mas\u001b[39;00m e:\n\u001b[0;32m    264\u001b[0m         \u001b[38;5;28;01mif\u001b[39;00m e\u001b[38;5;241m.\u001b[39merror_code \u001b[38;5;241m==\u001b[39m APIErrorCode\u001b[38;5;241m.\u001b[39mTPMLimitReached\u001b[38;5;241m.\u001b[39mvalue:\n",
      "File \u001b[1;32m~\\AppData\\Local\\miniconda3\\envs\\dev\\lib\\site-packages\\qianfan\\resources\\requestor\\base.py:312\u001b[0m, in \u001b[0;36mBaseAPIRequestor._parse_response\u001b[1;34m(self, body, resp)\u001b[0m\n\u001b[0;32m    306\u001b[0m \u001b[38;5;28;01mdef\u001b[39;00m \u001b[38;5;21m_parse_response\u001b[39m(\n\u001b[0;32m    307\u001b[0m     \u001b[38;5;28mself\u001b[39m, body: Dict[\u001b[38;5;28mstr\u001b[39m, Any], resp: requests\u001b[38;5;241m.\u001b[39mResponse\n\u001b[0;32m    308\u001b[0m ) \u001b[38;5;241m-\u001b[39m\u001b[38;5;241m>\u001b[39m QfResponse:\n\u001b[0;32m    309\u001b[0m \u001b[38;5;250m    \u001b[39m\u001b[38;5;124;03m\"\"\"\u001b[39;00m\n\u001b[0;32m    310\u001b[0m \u001b[38;5;124;03m    parse response to QfResponse\u001b[39;00m\n\u001b[0;32m    311\u001b[0m \u001b[38;5;124;03m    \"\"\"\u001b[39;00m\n\u001b[1;32m--> 312\u001b[0m     \u001b[38;5;28;43mself\u001b[39;49m\u001b[38;5;241;43m.\u001b[39;49m\u001b[43m_check_error\u001b[49m\u001b[43m(\u001b[49m\u001b[43mbody\u001b[49m\u001b[43m)\u001b[49m\n\u001b[0;32m    313\u001b[0m     qf_response \u001b[38;5;241m=\u001b[39m QfResponse(\n\u001b[0;32m    314\u001b[0m         code\u001b[38;5;241m=\u001b[39mresp\u001b[38;5;241m.\u001b[39mstatus_code, headers\u001b[38;5;241m=\u001b[39m\u001b[38;5;28mdict\u001b[39m(resp\u001b[38;5;241m.\u001b[39mheaders), body\u001b[38;5;241m=\u001b[39mbody\n\u001b[0;32m    315\u001b[0m     )\n\u001b[0;32m    316\u001b[0m     \u001b[38;5;28;01mreturn\u001b[39;00m qf_response\n",
      "File \u001b[1;32m~\\AppData\\Local\\miniconda3\\envs\\dev\\lib\\site-packages\\qianfan\\resources\\requestor\\openapi_requestor.py:256\u001b[0m, in \u001b[0;36mQfAPIRequestor._check_error\u001b[1;34m(self, body)\u001b[0m\n\u001b[0;32m    251\u001b[0m \u001b[38;5;28;01mif\u001b[39;00m error_code \u001b[38;5;129;01min\u001b[39;00m {\n\u001b[0;32m    252\u001b[0m     APIErrorCode\u001b[38;5;241m.\u001b[39mAPITokenExpired\u001b[38;5;241m.\u001b[39mvalue,\n\u001b[0;32m    253\u001b[0m     APIErrorCode\u001b[38;5;241m.\u001b[39mAPITokenInvalid\u001b[38;5;241m.\u001b[39mvalue,\n\u001b[0;32m    254\u001b[0m }:\n\u001b[0;32m    255\u001b[0m     \u001b[38;5;28;01mraise\u001b[39;00m errors\u001b[38;5;241m.\u001b[39mAccessTokenExpiredError\n\u001b[1;32m--> 256\u001b[0m \u001b[38;5;28;01mraise\u001b[39;00m errors\u001b[38;5;241m.\u001b[39mAPIError(error_code, err_msg, req_id)\n",
      "\u001b[1;31mAPIError\u001b[0m: api return error, req_id: as-j0n2xr77cf code: 336003, msg: embeddings max length per batch size is 1000"
     ]
    }
   ],
   "source": [
    "# 不知道为什么，这里会报错。\n",
    "db = DocArrayInMemorySearch.from_documents(\n",
    "    docs, \n",
    "    embeddings\n",
    ")\n",
    "docs = db.similarity_search(query)\n",
    "query = \"Please suggest a shirt with sunblocking\"\n",
    "docs = db.similarity_search(query)\n",
    "print(len(docs), docs[0])\n"
   ]
  },
  {
   "cell_type": "code",
   "execution_count": null,
   "id": "30b2be10-fd68-46b8-9432-37d9ec97d9ea",
   "metadata": {},
   "outputs": [],
   "source": [
    "retriever = db.as_retriever()\n",
    "\n",
    "llm = QianfanChatEndpoint(model=\"ERNIE-Bot-4\", temperature = 0.01) \n",
    "qdocs = \"\".join([docs[i].page_content for i in range(len(docs))])\n",
    "\n",
    "response = llm.call_as_llm(f\"{qdocs} Question: Please list all your \\\n",
    "shirts with sun protection in a table in markdown and summarize each one.\") \n",
    "\n",
    "display(Markdown(response))"
   ]
  },
  {
   "cell_type": "code",
   "execution_count": null,
   "id": "e73320b0-91aa-413d-b324-3dd4d885a33d",
   "metadata": {},
   "outputs": [],
   "source": [
    "qa_stuff = RetrievalQA.from_chain_type(\n",
    "    llm=llm, \n",
    "    chain_type=\"stuff\", \n",
    "    retriever=retriever, \n",
    "    verbose=True\n",
    ")\n",
    "\n",
    "query =  \"Please list all your shirts with sun protection in a table \\\n",
    "in markdown and summarize each one.\"\n",
    "\n",
    "response = qa_stuff.run(query)\n",
    "\n",
    "display(Markdown(response))"
   ]
  },
  {
   "cell_type": "code",
   "execution_count": null,
   "id": "d8fa36f1-9c2b-45ae-8b0a-c0ca4215ca80",
   "metadata": {},
   "outputs": [],
   "source": [
    "response = index.query(query, llm=llm)\n",
    "\n",
    "index = VectorstoreIndexCreator(\n",
    "    vectorstore_cls=DocArrayInMemorySearch,\n",
    "    embedding=embeddings,\n",
    ").from_loaders([loader])"
   ]
  },
  {
   "cell_type": "markdown",
   "id": "86b7fb78-bca5-4cd2-8169-2099246fd93b",
   "metadata": {},
   "source": [
    "#### Combine examples"
   ]
  },
  {
   "cell_type": "code",
   "execution_count": null,
   "id": "cf58c51c-9731-4a43-880a-7a48b7dbb2ac",
   "metadata": {},
   "outputs": [],
   "source": [
    "examples += new_examples"
   ]
  },
  {
   "cell_type": "code",
   "execution_count": null,
   "id": "b7e1d0a1-3105-4c6a-84c6-ec7c36181381",
   "metadata": {},
   "outputs": [],
   "source": [
    "qa.run(examples[0][\"query\"])"
   ]
  },
  {
   "cell_type": "markdown",
   "id": "cca3f826-e55d-42c0-bc88-dfcf434247a1",
   "metadata": {
    "execution": {
     "iopub.execute_input": "2024-05-04T10:26:52.944388Z",
     "iopub.status.busy": "2024-05-04T10:26:52.944388Z",
     "iopub.status.idle": "2024-05-04T10:26:52.963438Z",
     "shell.execute_reply": "2024-05-04T10:26:52.962607Z",
     "shell.execute_reply.started": "2024-05-04T10:26:52.944388Z"
    }
   },
   "source": [
    "### Manual Evaluation"
   ]
  },
  {
   "cell_type": "code",
   "execution_count": null,
   "id": "c5c51fdb-99ce-4149-b07e-b0944967097c",
   "metadata": {},
   "outputs": [],
   "source": [
    "import langchain\n",
    "langchain.debug = True"
   ]
  },
  {
   "cell_type": "code",
   "execution_count": null,
   "id": "2a3fabfc-45d3-4e95-b7f1-45aefac3b92d",
   "metadata": {},
   "outputs": [],
   "source": [
    "qa.run(examples[0][\"query\"])"
   ]
  },
  {
   "cell_type": "code",
   "execution_count": null,
   "id": "97e5628a-6286-4d00-8e46-145b5ed9ca31",
   "metadata": {},
   "outputs": [],
   "source": [
    "# Turn off the debug mode\n",
    "langchain.debug = False"
   ]
  },
  {
   "cell_type": "code",
   "execution_count": null,
   "id": "448b10ff-c7ca-49f8-a78d-902a22d4c7d7",
   "metadata": {},
   "outputs": [],
   "source": []
  },
  {
   "cell_type": "code",
   "execution_count": null,
   "id": "4bf01486-e484-4b72-86c3-068219bca29c",
   "metadata": {},
   "outputs": [],
   "source": []
  },
  {
   "cell_type": "code",
   "execution_count": null,
   "id": "ceba5e71-8408-484d-92c6-3558d2ca17ba",
   "metadata": {},
   "outputs": [],
   "source": []
  },
  {
   "cell_type": "markdown",
   "id": "6305a942-b8ba-4a3d-9e53-0ee8ea6f86eb",
   "metadata": {},
   "source": [
    "## 基于文档QA问答系统"
   ]
  },
  {
   "cell_type": "markdown",
   "id": "b489cd79-9d6c-48a3-8da9-96c1712cd9a8",
   "metadata": {},
   "source": [
    "包含更多说明的，参见 [question_answering_for_qianfan_langchain.ipynb](../qianfan-langchain-QA-demo/question_answering_for_qianfan_langchain.ipynb)"
   ]
  },
  {
   "cell_type": "code",
   "execution_count": 9,
   "id": "3ec6b10a-9962-40be-b2cb-fc5593cbd030",
   "metadata": {
    "execution": {
     "iopub.execute_input": "2024-05-04T08:07:45.934369Z",
     "iopub.status.busy": "2024-05-04T08:07:45.934369Z",
     "iopub.status.idle": "2024-05-04T08:07:46.086976Z",
     "shell.execute_reply": "2024-05-04T08:07:46.085968Z",
     "shell.execute_reply.started": "2024-05-04T08:07:45.934369Z"
    }
   },
   "outputs": [],
   "source": [
    "from langchain.document_loaders import WebBaseLoader\n",
    "from langchain.text_splitter import RecursiveCharacterTextSplitter\n",
    "from langchain.embeddings import QianfanEmbeddingsEndpoint\n",
    "from langchain.vectorstores import Chroma\n",
    "from langchain.chains import RetrievalQA\n",
    "from langchain.chat_models import QianfanChatEndpoint\n",
    "from langchain.prompts import PromptTemplate\n",
    "from langchain.memory import ConversationSummaryMemory\n",
    "from langchain.chains import ConversationalRetrievalChain\n"
   ]
  },
  {
   "cell_type": "markdown",
   "id": "a65c6755-8684-4bd9-96ab-610f259668ff",
   "metadata": {},
   "source": [
    "### Prepare"
   ]
  },
  {
   "cell_type": "code",
   "execution_count": 2,
   "id": "8e3809dd-77c4-4f7a-9f48-bf08d97c68ce",
   "metadata": {
    "execution": {
     "iopub.execute_input": "2024-04-30T11:24:28.146481Z",
     "iopub.status.busy": "2024-04-30T11:24:28.146481Z",
     "iopub.status.idle": "2024-04-30T11:24:28.162038Z",
     "shell.execute_reply": "2024-04-30T11:24:28.162038Z",
     "shell.execute_reply.started": "2024-04-30T11:24:28.146481Z"
    }
   },
   "outputs": [],
   "source": [
    "WEB_URL = \"https://zhuanlan.zhihu.com/p/85289282\"\n",
    "WEB_URL =  \"https://xuxiangwen.github.io/others/2022/04/15/sh_coronavirus_log/\"\n",
    "\n",
    "CUSTOM_PROMPT_TEMPLATE = \"\"\"\n",
    "使用下面的语料来回答本模板最末尾的问题。如果你不知道问题的答案，直接回答 \"我不知道\"，禁止随意编造答案。\n",
    "为了保证答案尽可能简洁，你的回答必须不超过三句话。\n",
    "请注意！在每次回答结束之后，你都必须接上 \"感谢你的提问\" 作为结束语\n",
    "以下是一对问题和答案的样例：\n",
    "    请问：秦始皇的原名是什么\n",
    "    秦始皇原名嬴政。感谢你的提问。\n",
    "\n",
    "以下是语料：\n",
    "\n",
    "{context}\n",
    "\n",
    "请问：{question}\n",
    "\"\"\"\n",
    "QUESTION1 = \"明朝的开国皇帝是谁\"\n",
    "QUESTION2 = \"朱元璋是什么时候建立的明朝\"\n",
    "QUESTION3 = \"朱元璋有几个儿子\"\n",
    "QUESTION4 = \"朱元璋的孙子是谁\"\n",
    "\n",
    "QUESTION1 = \"我是什么时候打的第二针疫苗的\"\n",
    "QUESTION2 = \"我是什么时候抗原检测阳性\"\n",
    "QUESTION3 = \"球队的大腿在方舱的什么地方\"\n",
    "QUESTION4 = \"方舱的伙食有哪些\"\n"
   ]
  },
  {
   "cell_type": "markdown",
   "id": "ff771e56-0f06-49ef-aa8a-ce65abb83ac8",
   "metadata": {
    "execution": {
     "iopub.execute_input": "2024-04-30T10:27:34.457866Z",
     "iopub.status.busy": "2024-04-30T10:27:34.457866Z",
     "iopub.status.idle": "2024-04-30T10:27:34.468484Z",
     "shell.execute_reply": "2024-04-30T10:27:34.467365Z",
     "shell.execute_reply.started": "2024-04-30T10:27:34.457866Z"
    }
   },
   "source": [
    "### Load"
   ]
  },
  {
   "cell_type": "code",
   "execution_count": 3,
   "id": "e386cf28-2aea-4fa0-9401-2e81409de35c",
   "metadata": {
    "execution": {
     "iopub.execute_input": "2024-04-30T11:24:29.123648Z",
     "iopub.status.busy": "2024-04-30T11:24:29.123648Z",
     "iopub.status.idle": "2024-04-30T11:24:30.424883Z",
     "shell.execute_reply": "2024-04-30T11:24:30.423889Z",
     "shell.execute_reply.started": "2024-04-30T11:24:29.123648Z"
    }
   },
   "outputs": [
    {
     "name": "stdout",
     "output_type": "stream",
     "text": [
      "<class 'list'>\n",
      "<class 'langchain_core.documents.base.Document'>\n"
     ]
    }
   ],
   "source": [
    "\n",
    "loader = WebBaseLoader(WEB_URL)\n",
    "data = loader.load()\n",
    "print(type(data))\n",
    "print(type(data[0]))"
   ]
  },
  {
   "cell_type": "code",
   "execution_count": 4,
   "id": "65e6b11c-b15d-4161-9271-76031b83aba7",
   "metadata": {
    "execution": {
     "iopub.execute_input": "2024-04-30T11:24:30.426883Z",
     "iopub.status.busy": "2024-04-30T11:24:30.425883Z",
     "iopub.status.idle": "2024-04-30T11:24:30.437652Z",
     "shell.execute_reply": "2024-04-30T11:24:30.436646Z",
     "shell.execute_reply.started": "2024-04-30T11:24:30.426883Z"
    },
    "scrolled": true
   },
   "outputs": [
    {
     "name": "stdout",
     "output_type": "stream",
     "text": [
      "4638\n",
      "\n",
      "\n",
      "\n",
      "\n",
      "\n",
      "\n",
      "新冠病毒找上了我 | Weclome to eipi10\n",
      "\n",
      "\n",
      "\n",
      "\n",
      "\n",
      "\n",
      "\n",
      "\n",
      "\n",
      "\n",
      "\n",
      "\n",
      "\n",
      "\n",
      "\n",
      "\n",
      "\n",
      "\n",
      "\n",
      "\n",
      "\n",
      "\n",
      "\n",
      "\n",
      "\n",
      "\n",
      "\n",
      "Weclome to eipi10\n",
      "\n",
      "\n",
      "\n",
      "\n",
      "View On GitHub\n",
      "\n",
      "\n",
      "\n",
      "\n",
      "\n",
      "\n",
      "新冠病毒找上了我\n",
      "\n",
      "  15 Apr 2022\n",
      "\n",
      "2022年4月上海，我感染了新冠病毒，本文记录了从在家发病，转运方舱，以及方舱回家的一段生活。非常感谢家人，朋友和同学这段时间对我的关心和支持，这让我感到有了无穷的力量。\n",
      "疫苗\n",
      "\n",
      "本人：两针\n",
      "    \n",
      "2022-04-02 ：北京生物疫苗第一针，\n",
      "2022-04-04：北京生物疫苗第二针\n",
      "\n",
      "\n",
      "孩子：两针，2022年3月份打的第二针\n",
      "母亲和妻子：三针\n",
      "\n",
      "2022-03-26 周六 家\n",
      "\n",
      "自测抗原，全家阴性\n",
      "和本楼志愿者有接触，他们家四人当天抗原阳性，当晚核酸检测都是阳性。估计被这个传染的可能性很大\n",
      "楼栋单元被封。\n",
      "\n",
      "2022-03-28 周一 家\n",
      "\n",
      "全家核酸检测。这个核酸检测结果一直未出。\n",
      "\n",
      "2022-03-30 周三 家\n",
      "\n",
      "喉咙有点痒, 有一点头晕和乏力。\n",
      "全家核酸检测，第二天结果出来，都是阴性\n",
      "\n",
      "2022-03-31 周四 家\n",
      "\n",
      "喉咙发干；有些头晕，全身乏力\n",
      "大部分时间卧床休息。\n",
      "吃阿咖酚散。\n",
      "晚上工作了两个小时。\n",
      "\n",
      "2022-04-01 周五 家\n",
      "\n",
      "\n",
      "喉咙非常痛，像针扎；有一些发烧（38度左右）；头晕，全身无力；嗓子有些哑。\n",
      "\n",
      "\n",
      "卧床休息。\n",
      "\n",
      "\n",
      "吃阿咖酚散，下午开始吃连花清瘟胶囊。小区的球队兄弟还给我带了两盒，谢谢啊。\n",
      "\n",
      "\n",
      "自测抗原阳性。家人都是阴性，且没有任何异样。\n",
      "\n",
      "\n",
      "\n",
      "开始被隔离在家里单独房间。\n",
      "\n",
      "\n",
      "祸不单行，电脑不知道怎么被水泼了，无法启动。\n",
      "\n",
      "\n",
      "2022-04-02 周六 家\n",
      "\n",
      "\n",
      "喉咙非常痛，像针扎；有一些发烧（38度左右）；头晕，全身无力；嗓子非常哑。\n",
      "\n",
      "\n",
      "卧床休息。\n",
      "\n",
      "\n",
      "吃连花清瘟胶囊。\n",
      "\n",
      "\n",
      "个人核酸检测。这个核酸检测结果一直未出。\n",
      "\n",
      "\n",
      "飘窗晒电脑。试了很多次，无法开机，晚上睡觉前，又试了一下，启动了。\n",
      "\n",
      "\n",
      "女儿送我千纸鹤。\n",
      "\n",
      "\n",
      "\n",
      "2022-04-03 周日 家\n",
      "\n",
      "喉咙不太痛了；体温37度左右；有时会咳黄痰；有轻微鼻塞。\n",
      "一半时间卧床，可以玩游戏了。\n",
      "吃连花清瘟胶囊。\n",
      "\n",
      "2022-04-04 周一 家\n",
      "\n",
      "\n",
      "喉咙完全不痛了，只是有些发干；咳嗽变得很厉害，痰多，黄白色；鼻塞，鼻涕多。\n",
      "\n",
      "下午开始连续喷嚏，痰基本是白色。体温36.4度\n",
      "\n",
      "\n",
      "\n",
      "精力感觉基本恢复了。\n",
      "\n",
      "\n",
      "吃连花清瘟胶囊。\n",
      "\n",
      "\n",
      "自测抗原阳性。\n",
      "\n",
      "\n",
      "\n",
      "女儿送我福袋。\n",
      "\n",
      "\n",
      "\n",
      "2022-04-05 周二 家\n",
      "\n",
      "\n",
      "和昨天症状相同，所有方面都有所减轻，尤其咳嗽力度明显减弱，痰基本是白色的。上午体温36.6。\n",
      "\n",
      "\n",
      "精力感觉和昨天差不多。\n",
      "\n",
      "\n",
      "只吃清肺消炎丸。\n",
      "\n",
      "\n",
      "小区的志愿者帮助我们给妈妈配到了糖尿病和高血压的药，真的很感谢他。经过了很多尝试，在目前物流基本瘫痪的情况下，这真的是雪中送炭。\n",
      "\n",
      "\n",
      "下午接到疾控中心电话，说我的核酸检测结果阳性，准备转运。\n",
      "\n",
      "\n",
      "晚上8:44，接到居委会电话，让我下楼转运。\n",
      "\n",
      "\n",
      "晚上9:15，上了874公交车，陆陆续续车上上了有30多人吧。奇怪，一上车，喉咙开始痒了，不停咳嗽。\n",
      "\n",
      "\n",
      "晚上10:08，到了龙阳路新国际博览中心，前面排着很多大巴，进舱速度很慢很慢，我们不得不在车上等待。\n",
      "\n",
      "\n",
      "\n",
      "次日5:37，总算办理好了入住方舱。一夜无眠，不过比我们辛苦多的多是医护人员，他们穿着防护服，还要工作。\n",
      "\n",
      "\n",
      "分发的东西很齐备。\n",
      "\n",
      "\n",
      "\n",
      "\n",
      "\n",
      "\n",
      "2022-04-06 周三 方舱\n",
      "\n",
      "\n",
      "早上补了一觉，咳嗽痰都少了好多，鼻涕基本没了，越来越好了。\n",
      "\n",
      "\n",
      "白天是10院的医护人员，晚上换岗了，是武汉来支援的医护人员。\n",
      "\n",
      "\n",
      "\n",
      "吃清肺消炎丸两次。\n",
      "\n",
      "\n",
      "午餐和晚餐。营养丰富。\n",
      "\n",
      "\n",
      "\n",
      "方舱环境一览。可以遛弯，这比家里可好多了。就是没法洗澡，厕所是一排应急的流动厕所仓，数量足够，但很脏。\n",
      "\n",
      "\n",
      "后悔啊，为啥没带个足球，走之前，还犹豫来着。带双羽毛球拍也好啊。\n",
      "\n",
      "\n",
      "老婆接到居委电话，家人作为密接，也要被转运至酒店或隔离点隔离，不知道他们会被运到哪里。家里小猫怎么办啊？\n",
      "\n",
      "\n",
      "直到我后来出舱，家人也没有被转运走，看来的确是住满了，没地方了啊。\n",
      "\n",
      "\n",
      "\n",
      "2022-04-07 周四 方舱\n",
      "\n",
      "\n",
      "还有有一点咳嗽和痰。\n",
      "\n",
      "\n",
      "早上5点多就起来了，好久没这么早起来了。\n",
      "\n",
      "\n",
      "早上散步\n",
      "\n",
      "\n",
      "\n",
      "连了wifi，网速也快起来了，嗖嗖的。要来串羊肉串吗？\n",
      "\n",
      "\n",
      "\n",
      "​\t\t不过上午9点后，就明显慢下来了，看来还是人多。\n",
      "\n",
      "\n",
      "晚上11:00多，开始测核酸了。上海能使用的方舱已经8w+，在建的还有几w，但仍然不够用啊。看到下面这个通知，看来尽快出舱有希望了。\n",
      "\n",
      "\n",
      "\n",
      "2022-04-08 周五 方舱\n",
      "\n",
      "\n",
      "还有偶尔有一点咳嗽和痰。看来这个状态将会持续一段时间啦\n",
      "\n",
      "\n",
      "早上5点多，听到孩子连续撕裂的哭声，估计是不舒服喉咙痛。这哭声提醒我，虽然大多数人是轻症甚至无症状，但由于感染人数巨大，少数的重症其实绝对数量也不小，绝不可掉以轻心。\n",
      "\n",
      "\n",
      "哥哥发了他们附近小区的一些”唱歌”的画面。\n",
      "的确有不少人家里已经没粮了。或许能够在方舱也是一种幸运。\n",
      "\n",
      "\n",
      "2022-04-09 周六 方舱\n",
      "\n",
      "\n",
      "今天有大鸡腿。\n",
      "\n",
      "\n",
      "\n",
      "从7号开始一天一次核酸。当了一下志愿者，帮忙大白来维护核酸的队伍。哪一个是我？\n",
      "\n",
      "\n",
      "\n",
      "闲逛\n",
      "\n",
      "\n",
      "\n",
      "下午溜到W4和球队的大腿相见。\n",
      "\n",
      "\n",
      "\n",
      "经过了几天的磨合，方舱的环境也越来越好。开始的时候，大家把东西乱扔，水槽垃圾尤其多，厕所很脏，现在，大家越来越爱护自己生活的环境了，垃圾少了，上厕所的时候，很多人都会准备一盆水。\n",
      "\n",
      "\n",
      "2022-04-10 周日 方舱\n",
      "\n",
      "\n",
      "今天早上总算能跑起来了。\n",
      "\n",
      "\n",
      "\n",
      "闲逛\n",
      "\n",
      "\n",
      "\n",
      "又有百叶卷？好像是上海清明特产。\n",
      "\n",
      "\n",
      "\n",
      "昨天下午，护士过来通知有一部分人，明天可以回家了。瞄了一眼名单，大概有10%左右。我的对床也被通知了，什么时候才轮到我。\n",
      "\n",
      "\n",
      "\n",
      "这几天陆陆续续看到很多负面的消息。上海作为超大城市，物资供应和医疗服务都是极其严峻的考验，现在正是困难时刻，上海坚持住。\n",
      "\n",
      "\n",
      "2022-04-11 周一 方舱\n",
      "\n",
      "\n",
      "或许是对床今天就要回家了，今天忽然很想回家。\n",
      "\n",
      "\n",
      "今天突破三公里了。以后每天保持这个量啦。估计这样下去，体重可以再降一降。\n",
      "\n",
      "\n",
      "\n",
      "今天配了酸奶，加上早上剩下的牛奶，还不错。\n",
      "\n",
      "\n",
      "\n",
      "今天老婆说，她去我单独居家隔离的房间拿东西，不想“西西”也偷偷跟进去了，不得已只好给小猫喷点酒精消毒，然后洗澡了。“西西”是不是也想我了啊？\n",
      "\n",
      "\n",
      "\n",
      "2022-04-12 周二 方舱\n",
      "\n",
      "\n",
      "早上帮着分发早餐，分了40分钟，还是有点儿累啊。由此，今天早上只跑了1.5公里。\n",
      "\n",
      "\n",
      "上午给武汉第一医院的医护拍了些照片和视频。拍完后，他们自己剪了一个视频，效果还不错啊。\n",
      "\n",
      "\n",
      "\n",
      "中午护士通知我明天可以出舱了，非常高兴啊。对床的昨天没有出去，也是明天，明天好多人都可以出舱了。发的贴牌，明天贴衣服上。\n",
      "\n",
      "\n",
      "\n",
      "2022-04-13 周三 方舱\n",
      "\n",
      "\n",
      "早上五点就起来了，早餐分发了一个小时。下雨，没有跑步。\n",
      "\n",
      "\n",
      "早上6点多，护士来通知我，说不能出舱了，核酸复阳，收回了我的贴牌，心里真的好失落。外面也一直下着雨，就像我的心情。之前球队大腿说，如果你是最后10%出舱的，你就牛了，看来他的乌鸦嘴要灵验了。\n",
      "\n",
      "\n",
      "今天的雨很大，屋顶轰隆隆超级响。网上看到其它地方的方舱漏雨，我们这算很好了。\n",
      "\n",
      "\n",
      "\n",
      "下午在整理方舱的涂鸦集，把图片变小，整理好后，文件从300MB变成了不到100MB。本来想今天能出去的，想把这个涂鸦集作为方舱的留念，毕竟这个经历也挺难得的。看来老天是想让我多收集一些啊，明天再去转转，看看还有什么新的涂鸦。\n",
      "\n",
      "\n",
      "2022-04-14 周四 方舱\n",
      "\n",
      "\n",
      "早上起来，还有小雨，没有跑步，也没有去做志愿者，想想还是好好休息一下吧。\n",
      "\n",
      "\n",
      "上午基本不下雨了，天气也凉爽起来，感觉心情突然好起来了。\n",
      "\n",
      "\n",
      "中午，护士突然过来通知，说明天可以出舱。真的搞不清了，我究竟啥时候阳的，为啥又可以出了。我哥说他能查到核酸记录，我却不能，目前好像就是方舱的人查不到核酸检查记录。今天早上又进行了核酸，真的有些担心，不能高兴太早了啊。希望方舱早日清空，上海早日清零，大家早日回归正常的生活。\n",
      "\n",
      "\n",
      "\n",
      "家里的小猫怎么这么可爱。\n",
      "\n",
      "\n",
      "\n",
      "2022-04-15 周五 方舱\n",
      "\n",
      "\n",
      "早上6:00护士给我又发了出舱的贴牌。到周围转了一圈，发现也有人被通知不能出舱，看来阴阳互换，还是有不少的。\n",
      "\n",
      "\n",
      "\n",
      "\n",
      "今天要出舱了，排队中。这次应该没跑了，发了通知给家人，同学和朋友，让他们安心。这次方舱经历，收获了太多的祝福和支持，诚挚的感谢大家。\n",
      "\n",
      "\n",
      "\n",
      "坐上了公交车，就要离开住了10晚的方舱了，心里忽然有一丝的不舍，这真的是一段很特别的经历啊。不到20分钟，车开到了中转站——源深体育馆。\n",
      "\n",
      "\n",
      "根据已经出舱朋友的建议，没有留在馆里等各镇的接驳车，而是来到楼下打车。非常幸运，正好有一辆强生的空车。上了车，和司机聊了起来，他说浦东能够运营的出租车辆只有94辆，这几天高峰时段，加几百块钱抢车的非常多。看来我还真的挺幸运，今天出舱的人相对少，而且来源深体育馆别比较早。不知道为啥，在公交车和出租车上，头都有点儿晕，或许是兴奋吧。一路基本无车，不到30分钟，就来到了小区，我回来了。\n",
      "\n",
      "\n",
      "\n",
      "最后\n",
      "还是家里的饭菜香啊，真的感觉到了幸福，幸福就是这么简单。非常感谢方舱的医护工作者，非常感谢小区的志愿者，非常感谢朋友和同学，你们的关心和支持让我感到了幸福。\n",
      "相信上海已经度过了最困难的时刻，胜利的曙光已现，再坚持一个月，应该可以清零了。希望上海的经验和教训也能被充分吸取，希望新冠疫情能早一点真正结束，希望大家能陪伴着自己的家人一起健康的生活，这就是幸福。\n",
      "​\n",
      "\n",
      " \n",
      "\n",
      "\n",
      "\n",
      "\n",
      "\n",
      "\n",
      "\n",
      "\n",
      "deep-learning\n",
      "保存模型\n",
      "Callback\n",
      "MNIST\n",
      "LeNet\n",
      "Conv2D\n",
      "CentOS 7下安装CUDA 11.2.2\n",
      "\n",
      "\n",
      "linear-algebra\n",
      "迹\n",
      "向量外积\n",
      "线性空间\n",
      "常用向量导数公式\n",
      "向量导数\n",
      "特征值和特征向量\n",
      "线性方程组\n",
      "线性映射和线性变换\n",
      "点到平面的距离\n",
      "向量内积\n",
      "向量和矩阵\n",
      "\n",
      "\n",
      "others\n",
      "新冠病毒找上了我\n",
      "静等花开 —— 方舱涂鸦集\n",
      "Keras文本数据集\n",
      "常用数据集\n",
      "LaTex速查\n",
      "简单Git开发流程\n",
      "程序员如何记笔记\n",
      "jekyll下Markdown的填坑技巧\n",
      "\n",
      "\n",
      "mathematics\n",
      "详解KPCA\n",
      "理解协方差矩阵\n",
      "Jensen不等式\n",
      "信息熵是什么\n",
      "理解傅里叶变换之二：欧拉公式\n",
      "理解傅里叶变换之一：傅里叶级数\n",
      "理解欧拉公式\n",
      "\n",
      "\n",
      "nlp\n",
      "BLEU\n",
      "Text Mining and Analytics - Week 2\n",
      "Text Mining and Analytics - Week 1\n",
      "潜在语义分析（LSI）\n",
      "Okapi BM25\n",
      "\n",
      "\n",
      "statistics\n",
      "特征选择：方差分析\n",
      "特征选择：卡方检验\n",
      "Box-Muller变换\n",
      "\n",
      "\n",
      "algorithm\n",
      "Binary Search\n",
      "几个基本模型\n",
      "EM算法实践：K-Means和GMM\n",
      "EM算法实践：抛硬币\n",
      "EM算法原理\n",
      "\n",
      "\n",
      "\n",
      "Hosted on GitHub Pages — Theme by mattgraham\n",
      "\n",
      "\n",
      "\n",
      "\n",
      "\n",
      "\n"
     ]
    }
   ],
   "source": [
    "print(len(data[0].page_content)) \n",
    "print(data[0].page_content)"
   ]
  },
  {
   "cell_type": "markdown",
   "id": "379d74c4-14ae-446e-a6bc-f8fe97c9d183",
   "metadata": {
    "execution": {
     "iopub.execute_input": "2024-04-30T10:28:50.376576Z",
     "iopub.status.busy": "2024-04-30T10:28:50.376576Z",
     "iopub.status.idle": "2024-04-30T10:28:50.395815Z",
     "shell.execute_reply": "2024-04-30T10:28:50.394804Z",
     "shell.execute_reply.started": "2024-04-30T10:28:50.376576Z"
    }
   },
   "source": [
    "### Split"
   ]
  },
  {
   "cell_type": "code",
   "execution_count": 5,
   "id": "dd1da7ee-e5db-43b9-9233-ba4c5647a293",
   "metadata": {
    "execution": {
     "iopub.execute_input": "2024-04-30T11:24:31.086729Z",
     "iopub.status.busy": "2024-04-30T11:24:31.086729Z",
     "iopub.status.idle": "2024-04-30T11:24:31.116111Z",
     "shell.execute_reply": "2024-04-30T11:24:31.115466Z",
     "shell.execute_reply.started": "2024-04-30T11:24:31.086729Z"
    }
   },
   "outputs": [
    {
     "name": "stdout",
     "output_type": "stream",
     "text": [
      "<class 'list'>\n",
      "<class 'langchain_core.documents.base.Document'>\n"
     ]
    }
   ],
   "source": [
    "\n",
    "\n",
    "# 建议chunk_size限制在400以内\n",
    "# separator里面的顺序是有优先级别的，最后一个必须是\"\"\n",
    "text_splitter = RecursiveCharacterTextSplitter(chunk_size = 384, chunk_overlap = 0, separators=[\"。\", \"，\", \"\\n\\n\", \"\\n\", \" \", \"\"])\n",
    "all_splits = text_splitter.split_documents(data)\n",
    "print(type(all_splits))\n",
    "print(type(all_splits[0]))"
   ]
  },
  {
   "cell_type": "code",
   "execution_count": 6,
   "id": "bf6d1f54-456c-4752-b28c-201d7987d563",
   "metadata": {
    "execution": {
     "iopub.execute_input": "2024-04-30T11:24:31.691044Z",
     "iopub.status.busy": "2024-04-30T11:24:31.691044Z",
     "iopub.status.idle": "2024-04-30T11:24:31.704188Z",
     "shell.execute_reply": "2024-04-30T11:24:31.703180Z",
     "shell.execute_reply.started": "2024-04-30T11:24:31.691044Z"
    },
    "scrolled": true
   },
   "outputs": [
    {
     "name": "stdout",
     "output_type": "stream",
     "text": [
      "新冠病毒找上了我 | Weclome to eipi10\n",
      "\n",
      "\n",
      "\n",
      "\n",
      "\n",
      "\n",
      "\n",
      "\n",
      "\n",
      "\n",
      "\n",
      "\n",
      "\n",
      "\n",
      "\n",
      "\n",
      "\n",
      "\n",
      "\n",
      "\n",
      "\n",
      "\n",
      "\n",
      "\n",
      "\n",
      "\n",
      "\n",
      "Weclome to eipi10\n",
      "\n",
      "\n",
      "\n",
      "\n",
      "View On GitHub\n",
      "\n",
      "\n",
      "\n",
      "\n",
      "\n",
      "\n",
      "新冠病毒找上了我\n",
      "\n",
      "  15 Apr 2022\n",
      "\n",
      "2022年4月上海，我感染了新冠病毒，本文记录了从在家发病，转运方舱，以及方舱回家的一段生活。非常感谢家人，朋友和同学这段时间对我的关心和支持，这让我感到有了无穷的力量。\n",
      "疫苗\n",
      "\n",
      "本人：两针\n",
      "    \n",
      "2022-04-02 ：北京生物疫苗第一针，\n",
      "2022-04-04：北京生物疫苗第二针\n",
      "\n",
      "\n",
      "孩子：两针，2022年3月份打的第二针\n",
      "母亲和妻子：三针\n",
      "\n",
      "2022-03-26 周六 家\n",
      "\n",
      "自测抗原，全家阴性\n",
      "和本楼志愿者有接触，他们家四人当天抗原阳性，当晚核酸检测都是阳性\n",
      "360\n"
     ]
    }
   ],
   "source": [
    "print(all_splits[0].page_content)\n",
    "print(len(all_splits[0].page_content))"
   ]
  },
  {
   "cell_type": "code",
   "execution_count": 7,
   "id": "b0cf20ce-bab3-401b-96d8-a501270e0ade",
   "metadata": {
    "execution": {
     "iopub.execute_input": "2024-04-30T11:24:32.397839Z",
     "iopub.status.busy": "2024-04-30T11:24:32.397839Z",
     "iopub.status.idle": "2024-04-30T11:24:32.403240Z",
     "shell.execute_reply": "2024-04-30T11:24:32.403113Z",
     "shell.execute_reply.started": "2024-04-30T11:24:32.397839Z"
    },
    "scrolled": true
   },
   "outputs": [
    {
     "name": "stdout",
     "output_type": "stream",
     "text": [
      "。估计被这个传染的可能性很大\n",
      "楼栋单元被封。\n",
      "\n",
      "2022-03-28 周一 家\n",
      "\n",
      "全家核酸检测。这个核酸检测结果一直未出。\n",
      "\n",
      "2022-03-30 周三 家\n",
      "\n",
      "喉咙有点痒, 有一点头晕和乏力。\n",
      "全家核酸检测，第二天结果出来，都是阴性\n",
      "\n",
      "2022-03-31 周四 家\n",
      "\n",
      "喉咙发干；有些头晕，全身乏力\n",
      "大部分时间卧床休息。\n",
      "吃阿咖酚散。\n",
      "晚上工作了两个小时。\n",
      "\n",
      "2022-04-01 周五 家\n",
      "\n",
      "\n",
      "喉咙非常痛，像针扎；有一些发烧（38度左右）；头晕，全身无力；嗓子有些哑。\n",
      "\n",
      "\n",
      "卧床休息。\n",
      "\n",
      "\n",
      "吃阿咖酚散，下午开始吃连花清瘟胶囊。小区的球队兄弟还给我带了两盒，谢谢啊。\n",
      "\n",
      "\n",
      "自测抗原阳性。家人都是阴性，且没有任何异样。\n",
      "\n",
      "\n",
      "\n",
      "开始被隔离在家里单独房间。\n",
      "\n",
      "\n",
      "祸不单行，电脑不知道怎么被水泼了，无法启动\n",
      "349\n"
     ]
    }
   ],
   "source": [
    "print(all_splits[1].page_content)\n",
    "print(len(all_splits[1].page_content))"
   ]
  },
  {
   "cell_type": "code",
   "execution_count": 8,
   "id": "83c261fe-c138-4133-a35f-d132829f73d0",
   "metadata": {
    "execution": {
     "iopub.execute_input": "2024-04-30T11:24:33.037951Z",
     "iopub.status.busy": "2024-04-30T11:24:33.037951Z",
     "iopub.status.idle": "2024-04-30T11:24:33.054146Z",
     "shell.execute_reply": "2024-04-30T11:24:33.053129Z",
     "shell.execute_reply.started": "2024-04-30T11:24:33.037951Z"
    },
    "scrolled": true
   },
   "outputs": [
    {
     "name": "stdout",
     "output_type": "stream",
     "text": [
      "。\n",
      "\n",
      "\n",
      "2022-04-02 周六 家\n",
      "\n",
      "\n",
      "喉咙非常痛，像针扎；有一些发烧（38度左右）；头晕，全身无力；嗓子非常哑。\n",
      "\n",
      "\n",
      "卧床休息。\n",
      "\n",
      "\n",
      "吃连花清瘟胶囊。\n",
      "\n",
      "\n",
      "个人核酸检测。这个核酸检测结果一直未出。\n",
      "\n",
      "\n",
      "飘窗晒电脑。试了很多次，无法开机，晚上睡觉前，又试了一下，启动了。\n",
      "\n",
      "\n",
      "女儿送我千纸鹤。\n",
      "\n",
      "\n",
      "\n",
      "2022-04-03 周日 家\n",
      "\n",
      "喉咙不太痛了；体温37度左右；有时会咳黄痰；有轻微鼻塞。\n",
      "一半时间卧床，可以玩游戏了。\n",
      "吃连花清瘟胶囊。\n",
      "\n",
      "2022-04-04 周一 家\n",
      "\n",
      "\n",
      "喉咙完全不痛了，只是有些发干；咳嗽变得很厉害，痰多，黄白色；鼻塞，鼻涕多。\n",
      "\n",
      "下午开始连续喷嚏，痰基本是白色。体温36.4度\n",
      "\n",
      "\n",
      "\n",
      "精力感觉基本恢复了。\n",
      "\n",
      "\n",
      "吃连花清瘟胶囊。\n",
      "\n",
      "\n",
      "自测抗原阳性。\n",
      "\n",
      "\n",
      "\n",
      "女儿送我福袋\n",
      "348\n"
     ]
    }
   ],
   "source": [
    "print(all_splits[2].page_content)\n",
    "print(len(all_splits[2].page_content))"
   ]
  },
  {
   "cell_type": "markdown",
   "id": "8016b337-c974-4130-8e14-a7a1e3e8c0f6",
   "metadata": {},
   "source": [
    "### Store"
   ]
  },
  {
   "cell_type": "code",
   "execution_count": 9,
   "id": "12387282-f95a-4f0c-9f98-e0814beb96c4",
   "metadata": {
    "execution": {
     "iopub.execute_input": "2024-04-30T11:24:34.046530Z",
     "iopub.status.busy": "2024-04-30T11:24:34.046530Z",
     "iopub.status.idle": "2024-04-30T11:24:34.103448Z",
     "shell.execute_reply": "2024-04-30T11:24:34.103448Z",
     "shell.execute_reply.started": "2024-04-30T11:24:34.046530Z"
    }
   },
   "outputs": [],
   "source": [
    "\n",
    "embeddings = QianfanEmbeddingsEndpoint()"
   ]
  },
  {
   "cell_type": "code",
   "execution_count": 10,
   "id": "0ebd9c35-48a1-476e-b863-da4817677cfe",
   "metadata": {
    "execution": {
     "iopub.execute_input": "2024-04-30T11:24:34.604977Z",
     "iopub.status.busy": "2024-04-30T11:24:34.604977Z",
     "iopub.status.idle": "2024-04-30T11:24:37.636600Z",
     "shell.execute_reply": "2024-04-30T11:24:37.636600Z",
     "shell.execute_reply.started": "2024-04-30T11:24:34.604977Z"
    }
   },
   "outputs": [
    {
     "name": "stderr",
     "output_type": "stream",
     "text": [
      "[INFO] [04-30 19:24:34] oauth.py:222 [t:40792]: trying to refresh access_token for ak `HCCPsQ***`\n",
      "[INFO] [04-30 19:24:35] oauth.py:237 [t:40792]: sucessfully refresh access_token\n"
     ]
    }
   ],
   "source": [
    "embed = embeddings.embed_query(QUESTION1)"
   ]
  },
  {
   "cell_type": "code",
   "execution_count": 11,
   "id": "cc270ce9-0b99-4a70-a18d-afebfa457ecc",
   "metadata": {
    "execution": {
     "iopub.execute_input": "2024-04-30T11:24:37.636600Z",
     "iopub.status.busy": "2024-04-30T11:24:37.636600Z",
     "iopub.status.idle": "2024-04-30T11:24:37.644394Z",
     "shell.execute_reply": "2024-04-30T11:24:37.644394Z",
     "shell.execute_reply.started": "2024-04-30T11:24:37.636600Z"
    }
   },
   "outputs": [
    {
     "name": "stdout",
     "output_type": "stream",
     "text": [
      "384\n"
     ]
    }
   ],
   "source": [
    "print(len(embed))"
   ]
  },
  {
   "cell_type": "code",
   "execution_count": 12,
   "id": "3efed2e9-de5e-4b11-b622-6c90ba3f39a4",
   "metadata": {
    "execution": {
     "iopub.execute_input": "2024-04-30T11:24:42.505406Z",
     "iopub.status.busy": "2024-04-30T11:24:42.504406Z",
     "iopub.status.idle": "2024-04-30T11:24:42.519838Z",
     "shell.execute_reply": "2024-04-30T11:24:42.518407Z",
     "shell.execute_reply.started": "2024-04-30T11:24:42.505406Z"
    }
   },
   "outputs": [
    {
     "name": "stdout",
     "output_type": "stream",
     "text": [
      "[0.05926443636417389, 0.048030029982328415, 0.035678666085004807, -0.020849037915468216, 0.004837945103645325]\n"
     ]
    }
   ],
   "source": [
    "print(embed[:5])"
   ]
  },
  {
   "cell_type": "code",
   "execution_count": 13,
   "id": "b5fa61c1-9d7d-4932-9536-1de4eda88dc0",
   "metadata": {
    "execution": {
     "iopub.execute_input": "2024-04-30T11:24:42.940020Z",
     "iopub.status.busy": "2024-04-30T11:24:42.940020Z",
     "iopub.status.idle": "2024-04-30T11:24:42.953596Z",
     "shell.execute_reply": "2024-04-30T11:24:42.952589Z",
     "shell.execute_reply.started": "2024-04-30T11:24:42.940020Z"
    }
   },
   "outputs": [],
   "source": [
    "#!pip install chromadb"
   ]
  },
  {
   "cell_type": "code",
   "execution_count": 14,
   "id": "1750b30e-363b-4a00-b2f5-4cec703bf9b1",
   "metadata": {
    "execution": {
     "iopub.execute_input": "2024-04-30T11:24:43.372513Z",
     "iopub.status.busy": "2024-04-30T11:24:43.372513Z",
     "iopub.status.idle": "2024-04-30T11:24:46.918950Z",
     "shell.execute_reply": "2024-04-30T11:24:46.918950Z",
     "shell.execute_reply.started": "2024-04-30T11:24:43.372513Z"
    }
   },
   "outputs": [],
   "source": [
    "vectorstore = Chroma.from_documents(documents=all_splits, embedding=embeddings)"
   ]
  },
  {
   "cell_type": "markdown",
   "id": "e5940577-63cd-425e-b371-0c507a6d9bf8",
   "metadata": {},
   "source": [
    "### Retrieve"
   ]
  },
  {
   "cell_type": "code",
   "execution_count": 15,
   "id": "4f16ba7e-1d9f-4e4c-875b-be7e3ddba6ec",
   "metadata": {
    "execution": {
     "iopub.execute_input": "2024-04-30T11:24:46.918950Z",
     "iopub.status.busy": "2024-04-30T11:24:46.918950Z",
     "iopub.status.idle": "2024-04-30T11:24:47.471897Z",
     "shell.execute_reply": "2024-04-30T11:24:47.470393Z",
     "shell.execute_reply.started": "2024-04-30T11:24:46.918950Z"
    }
   },
   "outputs": [
    {
     "name": "stdout",
     "output_type": "stream",
     "text": [
      "prompt问题：我是什么时候打的第二针疫苗的\n"
     ]
    },
    {
     "data": {
      "text/plain": [
       "[('新冠病毒找上了我 | Weclome to eipi10\\n\\n\\n\\n\\n\\n\\n\\n\\n\\n\\n\\n\\n\\n\\n\\n\\n\\n\\n\\n\\n\\n\\n\\n\\n\\n\\n\\nWeclome to eipi10\\n\\n\\n\\n\\nView On GitHub\\n\\n\\n\\n\\n\\n\\n新冠病毒找上了我\\n\\n  15 Apr 2022\\n\\n2022年4月上海，我感染了新冠病毒，本文记录了从在家发病，转运方舱，以及方舱回家的一段生活。非常感谢家人，朋友和同学这段时间对我的关心和支持，这让我感到有了无穷的力量。\\n疫苗\\n\\n本人：两针\\n    \\n2022-04-02 ：北京生物疫苗第一针，\\n2022-04-04：北京生物疫苗第二针\\n\\n\\n孩子：两针，2022年3月份打的第二针\\n母亲和妻子：三针\\n\\n2022-03-26 周六 家\\n\\n自测抗原，全家阴性\\n和本楼志愿者有接触，他们家四人当天抗原阳性，当晚核酸检测都是阳性',\n",
       "  0.3107365085990246),\n",
       " ('。真的搞不清了，我究竟啥时候阳的，为啥又可以出了。我哥说他能查到核酸记录，我却不能，目前好像就是方舱的人查不到核酸检查记录。今天早上又进行了核酸，真的有些担心，不能高兴太早了啊。希望方舱早日清空，上海早日清零，大家早日回归正常的生活。\\n\\n\\n\\n家里的小猫怎么这么可爱。\\n\\n\\n\\n2022-04-15 周五 方舱\\n\\n\\n早上6:00护士给我又发了出舱的贴牌。到周围转了一圈，发现也有人被通知不能出舱，看来阴阳互换，还是有不少的。\\n\\n\\n\\n\\n今天要出舱了，排队中。这次应该没跑了，发了通知给家人，同学和朋友，让他们安心。这次方舱经历，收获了太多的祝福和支持，诚挚的感谢大家。\\n\\n\\n\\n坐上了公交车，就要离开住了10晚的方舱了，心里忽然有一丝的不舍，这真的是一段很特别的经历啊。不到20分钟，车开到了中转站——源深体育馆',\n",
       "  0.07587538690819018),\n",
       " ('。\\n\\n\\n今天突破三公里了。以后每天保持这个量啦。估计这样下去，体重可以再降一降。\\n\\n\\n\\n今天配了酸奶，加上早上剩下的牛奶，还不错。\\n\\n\\n\\n今天老婆说，她去我单独居家隔离的房间拿东西，不想“西西”也偷偷跟进去了，不得已只好给小猫喷点酒精消毒，然后洗澡了。“西西”是不是也想我了啊？\\n\\n\\n\\n2022-04-12 周二 方舱\\n\\n\\n早上帮着分发早餐，分了40分钟，还是有点儿累啊。由此，今天早上只跑了1.5公里。\\n\\n\\n上午给武汉第一医院的医护拍了些照片和视频。拍完后，他们自己剪了一个视频，效果还不错啊。\\n\\n\\n\\n中午护士通知我明天可以出舱了，非常高兴啊。对床的昨天没有出去，也是明天，明天好多人都可以出舱了。发的贴牌，明天贴衣服上。\\n\\n\\n\\n2022-04-13 周三 方舱\\n\\n\\n早上五点就起来了，早餐分发了一个小时。下雨，没有跑步',\n",
       "  0.07480097944595054),\n",
       " ('。\\n\\n\\n分发的东西很齐备。\\n\\n\\n\\n\\n\\n\\n2022-04-06 周三 方舱\\n\\n\\n早上补了一觉，咳嗽痰都少了好多，鼻涕基本没了，越来越好了。\\n\\n\\n白天是10院的医护人员，晚上换岗了，是武汉来支援的医护人员。\\n\\n\\n\\n吃清肺消炎丸两次。\\n\\n\\n午餐和晚餐。营养丰富。\\n\\n\\n\\n方舱环境一览。可以遛弯，这比家里可好多了。就是没法洗澡，厕所是一排应急的流动厕所仓，数量足够，但很脏。\\n\\n\\n后悔啊，为啥没带个足球，走之前，还犹豫来着。带双羽毛球拍也好啊。\\n\\n\\n老婆接到居委电话，家人作为密接，也要被转运至酒店或隔离点隔离，不知道他们会被运到哪里。家里小猫怎么办啊？\\n\\n\\n直到我后来出舱，家人也没有被转运走，看来的确是住满了，没地方了啊。\\n\\n\\n\\n2022-04-07 周四 方舱\\n\\n\\n还有有一点咳嗽和痰。\\n\\n\\n早上5点多就起来了，好久没这么早起来了',\n",
       "  0.06302506567830968)]"
      ]
     },
     "execution_count": 15,
     "metadata": {},
     "output_type": "execute_result"
    }
   ],
   "source": [
    "print(\"prompt问题：\"+QUESTION1)\n",
    "docs = vectorstore.similarity_search_with_relevance_scores(QUESTION1)\n",
    "[(document.page_content, score) for document, score in docs]"
   ]
  },
  {
   "cell_type": "code",
   "execution_count": 17,
   "id": "66aa1135-9c2a-4974-a9e4-4e23ed41d2e7",
   "metadata": {
    "execution": {
     "iopub.execute_input": "2024-04-30T11:24:59.682114Z",
     "iopub.status.busy": "2024-04-30T11:24:59.682114Z",
     "iopub.status.idle": "2024-04-30T11:25:00.335841Z",
     "shell.execute_reply": "2024-04-30T11:25:00.334759Z",
     "shell.execute_reply.started": "2024-04-30T11:24:59.682114Z"
    }
   },
   "outputs": [
    {
     "name": "stdout",
     "output_type": "stream",
     "text": [
      "prompt问题：我是什么时候抗原检测阳性\n"
     ]
    },
    {
     "data": {
      "text/plain": [
       "[('新冠病毒找上了我 | Weclome to eipi10\\n\\n\\n\\n\\n\\n\\n\\n\\n\\n\\n\\n\\n\\n\\n\\n\\n\\n\\n\\n\\n\\n\\n\\n\\n\\n\\n\\nWeclome to eipi10\\n\\n\\n\\n\\nView On GitHub\\n\\n\\n\\n\\n\\n\\n新冠病毒找上了我\\n\\n  15 Apr 2022\\n\\n2022年4月上海，我感染了新冠病毒，本文记录了从在家发病，转运方舱，以及方舱回家的一段生活。非常感谢家人，朋友和同学这段时间对我的关心和支持，这让我感到有了无穷的力量。\\n疫苗\\n\\n本人：两针\\n    \\n2022-04-02 ：北京生物疫苗第一针，\\n2022-04-04：北京生物疫苗第二针\\n\\n\\n孩子：两针，2022年3月份打的第二针\\n母亲和妻子：三针\\n\\n2022-03-26 周六 家\\n\\n自测抗原，全家阴性\\n和本楼志愿者有接触，他们家四人当天抗原阳性，当晚核酸检测都是阳性',\n",
       "  0.2030041904770552),\n",
       " ('。估计被这个传染的可能性很大\\n楼栋单元被封。\\n\\n2022-03-28 周一 家\\n\\n全家核酸检测。这个核酸检测结果一直未出。\\n\\n2022-03-30 周三 家\\n\\n喉咙有点痒, 有一点头晕和乏力。\\n全家核酸检测，第二天结果出来，都是阴性\\n\\n2022-03-31 周四 家\\n\\n喉咙发干；有些头晕，全身乏力\\n大部分时间卧床休息。\\n吃阿咖酚散。\\n晚上工作了两个小时。\\n\\n2022-04-01 周五 家\\n\\n\\n喉咙非常痛，像针扎；有一些发烧（38度左右）；头晕，全身无力；嗓子有些哑。\\n\\n\\n卧床休息。\\n\\n\\n吃阿咖酚散，下午开始吃连花清瘟胶囊。小区的球队兄弟还给我带了两盒，谢谢啊。\\n\\n\\n自测抗原阳性。家人都是阴性，且没有任何异样。\\n\\n\\n\\n开始被隔离在家里单独房间。\\n\\n\\n祸不单行，电脑不知道怎么被水泼了，无法启动',\n",
       "  0.1644475791097132),\n",
       " ('。\\n\\n\\n2022-04-02 周六 家\\n\\n\\n喉咙非常痛，像针扎；有一些发烧（38度左右）；头晕，全身无力；嗓子非常哑。\\n\\n\\n卧床休息。\\n\\n\\n吃连花清瘟胶囊。\\n\\n\\n个人核酸检测。这个核酸检测结果一直未出。\\n\\n\\n飘窗晒电脑。试了很多次，无法开机，晚上睡觉前，又试了一下，启动了。\\n\\n\\n女儿送我千纸鹤。\\n\\n\\n\\n2022-04-03 周日 家\\n\\n喉咙不太痛了；体温37度左右；有时会咳黄痰；有轻微鼻塞。\\n一半时间卧床，可以玩游戏了。\\n吃连花清瘟胶囊。\\n\\n2022-04-04 周一 家\\n\\n\\n喉咙完全不痛了，只是有些发干；咳嗽变得很厉害，痰多，黄白色；鼻塞，鼻涕多。\\n\\n下午开始连续喷嚏，痰基本是白色。体温36.4度\\n\\n\\n\\n精力感觉基本恢复了。\\n\\n\\n吃连花清瘟胶囊。\\n\\n\\n自测抗原阳性。\\n\\n\\n\\n女儿送我福袋',\n",
       "  0.11207211193371025),\n",
       " ('。真的搞不清了，我究竟啥时候阳的，为啥又可以出了。我哥说他能查到核酸记录，我却不能，目前好像就是方舱的人查不到核酸检查记录。今天早上又进行了核酸，真的有些担心，不能高兴太早了啊。希望方舱早日清空，上海早日清零，大家早日回归正常的生活。\\n\\n\\n\\n家里的小猫怎么这么可爱。\\n\\n\\n\\n2022-04-15 周五 方舱\\n\\n\\n早上6:00护士给我又发了出舱的贴牌。到周围转了一圈，发现也有人被通知不能出舱，看来阴阳互换，还是有不少的。\\n\\n\\n\\n\\n今天要出舱了，排队中。这次应该没跑了，发了通知给家人，同学和朋友，让他们安心。这次方舱经历，收获了太多的祝福和支持，诚挚的感谢大家。\\n\\n\\n\\n坐上了公交车，就要离开住了10晚的方舱了，心里忽然有一丝的不舍，这真的是一段很特别的经历啊。不到20分钟，车开到了中转站——源深体育馆',\n",
       "  0.040311033197727664)]"
      ]
     },
     "execution_count": 17,
     "metadata": {},
     "output_type": "execute_result"
    }
   ],
   "source": [
    "print(\"prompt问题：\"+QUESTION2)\n",
    "docs = vectorstore.similarity_search_with_relevance_scores(QUESTION2)\n",
    "[(document.page_content, score) for document, score in docs]"
   ]
  },
  {
   "cell_type": "code",
   "execution_count": 18,
   "id": "304ffd31-1bb7-4025-977b-7b3b4a24cd91",
   "metadata": {
    "execution": {
     "iopub.execute_input": "2024-04-30T11:25:11.544480Z",
     "iopub.status.busy": "2024-04-30T11:25:11.544480Z",
     "iopub.status.idle": "2024-04-30T11:25:12.170288Z",
     "shell.execute_reply": "2024-04-30T11:25:12.170288Z",
     "shell.execute_reply.started": "2024-04-30T11:25:11.544480Z"
    }
   },
   "outputs": [
    {
     "name": "stdout",
     "output_type": "stream",
     "text": [
      "prompt问题：球队的大腿在方舱的什么地方\n"
     ]
    },
    {
     "data": {
      "text/plain": [
       "[('。当了一下志愿者，帮忙大白来维护核酸的队伍。哪一个是我？\\n\\n\\n\\n闲逛\\n\\n\\n\\n下午溜到W4和球队的大腿相见。\\n\\n\\n\\n经过了几天的磨合，方舱的环境也越来越好。开始的时候，大家把东西乱扔，水槽垃圾尤其多，厕所很脏，现在，大家越来越爱护自己生活的环境了，垃圾少了，上厕所的时候，很多人都会准备一盆水。\\n\\n\\n2022-04-10 周日 方舱\\n\\n\\n今天早上总算能跑起来了。\\n\\n\\n\\n闲逛\\n\\n\\n\\n又有百叶卷？好像是上海清明特产。\\n\\n\\n\\n昨天下午，护士过来通知有一部分人，明天可以回家了。瞄了一眼名单，大概有10%左右。我的对床也被通知了，什么时候才轮到我。\\n\\n\\n\\n这几天陆陆续续看到很多负面的消息。上海作为超大城市，物资供应和医疗服务都是极其严峻的考验，现在正是困难时刻，上海坚持住。\\n\\n\\n2022-04-11 周一 方舱\\n\\n\\n或许是对床今天就要回家了，今天忽然很想回家',\n",
       "  0.16612839542832758),\n",
       " ('。\\n\\n\\n早上6点多，护士来通知我，说不能出舱了，核酸复阳，收回了我的贴牌，心里真的好失落。外面也一直下着雨，就像我的心情。之前球队大腿说，如果你是最后10%出舱的，你就牛了，看来他的乌鸦嘴要灵验了。\\n\\n\\n今天的雨很大，屋顶轰隆隆超级响。网上看到其它地方的方舱漏雨，我们这算很好了。\\n\\n\\n\\n下午在整理方舱的涂鸦集，把图片变小，整理好后，文件从300MB变成了不到100MB。本来想今天能出去的，想把这个涂鸦集作为方舱的留念，毕竟这个经历也挺难得的。看来老天是想让我多收集一些啊，明天再去转转，看看还有什么新的涂鸦。\\n\\n\\n2022-04-14 周四 方舱\\n\\n\\n早上起来，还有小雨，没有跑步，也没有去做志愿者，想想还是好好休息一下吧。\\n\\n\\n上午基本不下雨了，天气也凉爽起来，感觉心情突然好起来了。\\n\\n\\n中午，护士突然过来通知，说明天可以出舱',\n",
       "  0.1182478053523145),\n",
       " ('。\\n\\n\\n今天突破三公里了。以后每天保持这个量啦。估计这样下去，体重可以再降一降。\\n\\n\\n\\n今天配了酸奶，加上早上剩下的牛奶，还不错。\\n\\n\\n\\n今天老婆说，她去我单独居家隔离的房间拿东西，不想“西西”也偷偷跟进去了，不得已只好给小猫喷点酒精消毒，然后洗澡了。“西西”是不是也想我了啊？\\n\\n\\n\\n2022-04-12 周二 方舱\\n\\n\\n早上帮着分发早餐，分了40分钟，还是有点儿累啊。由此，今天早上只跑了1.5公里。\\n\\n\\n上午给武汉第一医院的医护拍了些照片和视频。拍完后，他们自己剪了一个视频，效果还不错啊。\\n\\n\\n\\n中午护士通知我明天可以出舱了，非常高兴啊。对床的昨天没有出去，也是明天，明天好多人都可以出舱了。发的贴牌，明天贴衣服上。\\n\\n\\n\\n2022-04-13 周三 方舱\\n\\n\\n早上五点就起来了，早餐分发了一个小时。下雨，没有跑步',\n",
       "  0.09649699694760039),\n",
       " ('。\\n\\n\\n分发的东西很齐备。\\n\\n\\n\\n\\n\\n\\n2022-04-06 周三 方舱\\n\\n\\n早上补了一觉，咳嗽痰都少了好多，鼻涕基本没了，越来越好了。\\n\\n\\n白天是10院的医护人员，晚上换岗了，是武汉来支援的医护人员。\\n\\n\\n\\n吃清肺消炎丸两次。\\n\\n\\n午餐和晚餐。营养丰富。\\n\\n\\n\\n方舱环境一览。可以遛弯，这比家里可好多了。就是没法洗澡，厕所是一排应急的流动厕所仓，数量足够，但很脏。\\n\\n\\n后悔啊，为啥没带个足球，走之前，还犹豫来着。带双羽毛球拍也好啊。\\n\\n\\n老婆接到居委电话，家人作为密接，也要被转运至酒店或隔离点隔离，不知道他们会被运到哪里。家里小猫怎么办啊？\\n\\n\\n直到我后来出舱，家人也没有被转运走，看来的确是住满了，没地方了啊。\\n\\n\\n\\n2022-04-07 周四 方舱\\n\\n\\n还有有一点咳嗽和痰。\\n\\n\\n早上5点多就起来了，好久没这么早起来了',\n",
       "  0.09547333429096783)]"
      ]
     },
     "execution_count": 18,
     "metadata": {},
     "output_type": "execute_result"
    }
   ],
   "source": [
    "print(\"prompt问题：\"+QUESTION3)\n",
    "docs = vectorstore.similarity_search_with_relevance_scores(QUESTION3) \n",
    "[(document.page_content, score) for document, score in docs]"
   ]
  },
  {
   "cell_type": "code",
   "execution_count": 19,
   "id": "d3525e0f-1fca-499d-b6a8-aa5410291c54",
   "metadata": {
    "execution": {
     "iopub.execute_input": "2024-04-30T11:25:32.184581Z",
     "iopub.status.busy": "2024-04-30T11:25:32.184581Z",
     "iopub.status.idle": "2024-04-30T11:25:32.851048Z",
     "shell.execute_reply": "2024-04-30T11:25:32.850434Z",
     "shell.execute_reply.started": "2024-04-30T11:25:32.184581Z"
    }
   },
   "outputs": [
    {
     "name": "stdout",
     "output_type": "stream",
     "text": [
      "prompt问题：方舱的伙食有哪些\n"
     ]
    },
    {
     "data": {
      "text/plain": [
       "[('。\\n\\n\\n早上散步\\n\\n\\n\\n连了wifi，网速也快起来了，嗖嗖的。要来串羊肉串吗？\\n\\n\\n\\n\\u200b\\t\\t不过上午9点后，就明显慢下来了，看来还是人多。\\n\\n\\n晚上11:00多，开始测核酸了。上海能使用的方舱已经8w+，在建的还有几w，但仍然不够用啊。看到下面这个通知，看来尽快出舱有希望了。\\n\\n\\n\\n2022-04-08 周五 方舱\\n\\n\\n还有偶尔有一点咳嗽和痰。看来这个状态将会持续一段时间啦\\n\\n\\n早上5点多，听到孩子连续撕裂的哭声，估计是不舒服喉咙痛。这哭声提醒我，虽然大多数人是轻症甚至无症状，但由于感染人数巨大，少数的重症其实绝对数量也不小，绝不可掉以轻心。\\n\\n\\n哥哥发了他们附近小区的一些”唱歌”的画面。\\n的确有不少人家里已经没粮了。或许能够在方舱也是一种幸运。\\n\\n\\n2022-04-09 周六 方舱\\n\\n\\n今天有大鸡腿。\\n\\n\\n\\n从7号开始一天一次核酸',\n",
       "  0.20967308631693393),\n",
       " ('。\\n\\n\\n今天突破三公里了。以后每天保持这个量啦。估计这样下去，体重可以再降一降。\\n\\n\\n\\n今天配了酸奶，加上早上剩下的牛奶，还不错。\\n\\n\\n\\n今天老婆说，她去我单独居家隔离的房间拿东西，不想“西西”也偷偷跟进去了，不得已只好给小猫喷点酒精消毒，然后洗澡了。“西西”是不是也想我了啊？\\n\\n\\n\\n2022-04-12 周二 方舱\\n\\n\\n早上帮着分发早餐，分了40分钟，还是有点儿累啊。由此，今天早上只跑了1.5公里。\\n\\n\\n上午给武汉第一医院的医护拍了些照片和视频。拍完后，他们自己剪了一个视频，效果还不错啊。\\n\\n\\n\\n中午护士通知我明天可以出舱了，非常高兴啊。对床的昨天没有出去，也是明天，明天好多人都可以出舱了。发的贴牌，明天贴衣服上。\\n\\n\\n\\n2022-04-13 周三 方舱\\n\\n\\n早上五点就起来了，早餐分发了一个小时。下雨，没有跑步',\n",
       "  0.20451844245035455),\n",
       " ('。\\n\\n\\n分发的东西很齐备。\\n\\n\\n\\n\\n\\n\\n2022-04-06 周三 方舱\\n\\n\\n早上补了一觉，咳嗽痰都少了好多，鼻涕基本没了，越来越好了。\\n\\n\\n白天是10院的医护人员，晚上换岗了，是武汉来支援的医护人员。\\n\\n\\n\\n吃清肺消炎丸两次。\\n\\n\\n午餐和晚餐。营养丰富。\\n\\n\\n\\n方舱环境一览。可以遛弯，这比家里可好多了。就是没法洗澡，厕所是一排应急的流动厕所仓，数量足够，但很脏。\\n\\n\\n后悔啊，为啥没带个足球，走之前，还犹豫来着。带双羽毛球拍也好啊。\\n\\n\\n老婆接到居委电话，家人作为密接，也要被转运至酒店或隔离点隔离，不知道他们会被运到哪里。家里小猫怎么办啊？\\n\\n\\n直到我后来出舱，家人也没有被转运走，看来的确是住满了，没地方了啊。\\n\\n\\n\\n2022-04-07 周四 方舱\\n\\n\\n还有有一点咳嗽和痰。\\n\\n\\n早上5点多就起来了，好久没这么早起来了',\n",
       "  0.19789135628419863),\n",
       " ('。当了一下志愿者，帮忙大白来维护核酸的队伍。哪一个是我？\\n\\n\\n\\n闲逛\\n\\n\\n\\n下午溜到W4和球队的大腿相见。\\n\\n\\n\\n经过了几天的磨合，方舱的环境也越来越好。开始的时候，大家把东西乱扔，水槽垃圾尤其多，厕所很脏，现在，大家越来越爱护自己生活的环境了，垃圾少了，上厕所的时候，很多人都会准备一盆水。\\n\\n\\n2022-04-10 周日 方舱\\n\\n\\n今天早上总算能跑起来了。\\n\\n\\n\\n闲逛\\n\\n\\n\\n又有百叶卷？好像是上海清明特产。\\n\\n\\n\\n昨天下午，护士过来通知有一部分人，明天可以回家了。瞄了一眼名单，大概有10%左右。我的对床也被通知了，什么时候才轮到我。\\n\\n\\n\\n这几天陆陆续续看到很多负面的消息。上海作为超大城市，物资供应和医疗服务都是极其严峻的考验，现在正是困难时刻，上海坚持住。\\n\\n\\n2022-04-11 周一 方舱\\n\\n\\n或许是对床今天就要回家了，今天忽然很想回家',\n",
       "  0.19396133124795178)]"
      ]
     },
     "execution_count": 19,
     "metadata": {},
     "output_type": "execute_result"
    }
   ],
   "source": [
    "print(\"prompt问题：\"+QUESTION4)\n",
    "docs = vectorstore.similarity_search_with_relevance_scores(QUESTION4) \n",
    "[(document.page_content, score) for document, score in docs]"
   ]
  },
  {
   "cell_type": "markdown",
   "id": "ea989ada-93c5-490a-bbb3-856f5fc442cf",
   "metadata": {},
   "source": [
    "### Generate"
   ]
  },
  {
   "cell_type": "code",
   "execution_count": 20,
   "id": "d4fdef11-d8fb-46ae-ae07-63852802fdfc",
   "metadata": {
    "execution": {
     "iopub.execute_input": "2024-04-30T11:25:48.251905Z",
     "iopub.status.busy": "2024-04-30T11:25:48.251905Z",
     "iopub.status.idle": "2024-04-30T11:25:52.683215Z",
     "shell.execute_reply": "2024-04-30T11:25:52.683215Z",
     "shell.execute_reply.started": "2024-04-30T11:25:48.251905Z"
    }
   },
   "outputs": [
    {
     "name": "stderr",
     "output_type": "stream",
     "text": [
      "C:\\Users\\xu6\\AppData\\Local\\miniconda3\\envs\\dev\\lib\\site-packages\\langchain_core\\_api\\deprecation.py:119: LangChainDeprecationWarning: The method `Chain.__call__` was deprecated in langchain 0.1.0 and will be removed in 0.2.0. Use invoke instead.\n",
      "  warn_deprecated(\n"
     ]
    },
    {
     "name": "stdout",
     "output_type": "stream",
     "text": [
      "\n",
      "\n",
      "\u001b[1m> Entering new RetrievalQA chain...\u001b[0m\n",
      "\n",
      "\u001b[1m> Finished chain.\u001b[0m\n"
     ]
    }
   ],
   "source": [
    "\n",
    "QA_CHAIN_PROMPT = PromptTemplate.from_template(CUSTOM_PROMPT_TEMPLATE)\n",
    "\n",
    "llm = QianfanChatEndpoint(model=\"ERNIE-Bot-4\", streaming=True)   # \n",
    "retriever = vectorstore.as_retriever(search_type=\"similarity_score_threshold\", search_kwargs={'score_threshold': 0.0})\n",
    "                                   \n",
    "qa_chain = RetrievalQA.from_chain_type(llm, retriever = retriever, \n",
    "                                       chain_type = \"stuff\",\n",
    "                                       chain_type_kwargs = {\"prompt\": QA_CHAIN_PROMPT}, \n",
    "                                       verbose = True,\n",
    "                                       return_source_documents = True)\n",
    "result = qa_chain({\"query\": QUESTION1})"
   ]
  },
  {
   "cell_type": "code",
   "execution_count": 21,
   "id": "8e569fca-758e-4c48-8092-9faa6796bdd8",
   "metadata": {
    "execution": {
     "iopub.execute_input": "2024-04-30T11:25:56.781862Z",
     "iopub.status.busy": "2024-04-30T11:25:56.780860Z",
     "iopub.status.idle": "2024-04-30T11:26:05.299733Z",
     "shell.execute_reply": "2024-04-30T11:26:05.298728Z",
     "shell.execute_reply.started": "2024-04-30T11:25:56.781862Z"
    }
   },
   "outputs": [
    {
     "name": "stdout",
     "output_type": "stream",
     "text": [
      "\n",
      "\n",
      "\u001b[1m> Entering new RetrievalQA chain...\u001b[0m\n",
      "\n",
      "\u001b[1m> Finished chain.\u001b[0m\n",
      "QUESTION1 = 我是什么时候打的第二针疫苗的\n",
      "4\n",
      "[Document(page_content='新冠病毒找上了我 | Weclome to eipi10\\n\\n\\n\\n\\n\\n\\n\\n\\n\\n\\n\\n\\n\\n\\n\\n\\n\\n\\n\\n\\n\\n\\n\\n\\n\\n\\n\\nWeclome to eipi10\\n\\n\\n\\n\\nView On GitHub\\n\\n\\n\\n\\n\\n\\n新冠病毒找上了我\\n\\n  15 Apr 2022\\n\\n2022年4月上海，我感染了新冠病毒，本文记录了从在家发病，转运方舱，以及方舱回家的一段生活。非常感谢家人，朋友和同学这段时间对我的关心和支持，这让我感到有了无穷的力量。\\n疫苗\\n\\n本人：两针\\n    \\n2022-04-02 ：北京生物疫苗第一针，\\n2022-04-04：北京生物疫苗第二针\\n\\n\\n孩子：两针，2022年3月份打的第二针\\n母亲和妻子：三针\\n\\n2022-03-26 周六 家\\n\\n自测抗原，全家阴性\\n和本楼志愿者有接触，他们家四人当天抗原阳性，当晚核酸检测都是阳性', metadata={'description': '2022年4月上海，我感染了新冠病毒，本文记录了从在家发病，转运方舱，以及方舱回家的一段生活。非常感谢家人，朋友和同学这段时间对我的关心和支持，这让我感到有了无穷的力量。', 'language': 'en-US', 'source': 'https://xuxiangwen.github.io/others/2022/04/15/sh_coronavirus_log/', 'title': '新冠病毒找上了我 | Weclome to eipi10'}), Document(page_content='。真的搞不清了，我究竟啥时候阳的，为啥又可以出了。我哥说他能查到核酸记录，我却不能，目前好像就是方舱的人查不到核酸检查记录。今天早上又进行了核酸，真的有些担心，不能高兴太早了啊。希望方舱早日清空，上海早日清零，大家早日回归正常的生活。\\n\\n\\n\\n家里的小猫怎么这么可爱。\\n\\n\\n\\n2022-04-15 周五 方舱\\n\\n\\n早上6:00护士给我又发了出舱的贴牌。到周围转了一圈，发现也有人被通知不能出舱，看来阴阳互换，还是有不少的。\\n\\n\\n\\n\\n今天要出舱了，排队中。这次应该没跑了，发了通知给家人，同学和朋友，让他们安心。这次方舱经历，收获了太多的祝福和支持，诚挚的感谢大家。\\n\\n\\n\\n坐上了公交车，就要离开住了10晚的方舱了，心里忽然有一丝的不舍，这真的是一段很特别的经历啊。不到20分钟，车开到了中转站——源深体育馆', metadata={'description': '2022年4月上海，我感染了新冠病毒，本文记录了从在家发病，转运方舱，以及方舱回家的一段生活。非常感谢家人，朋友和同学这段时间对我的关心和支持，这让我感到有了无穷的力量。', 'language': 'en-US', 'source': 'https://xuxiangwen.github.io/others/2022/04/15/sh_coronavirus_log/', 'title': '新冠病毒找上了我 | Weclome to eipi10'}), Document(page_content='。\\n\\n\\n今天突破三公里了。以后每天保持这个量啦。估计这样下去，体重可以再降一降。\\n\\n\\n\\n今天配了酸奶，加上早上剩下的牛奶，还不错。\\n\\n\\n\\n今天老婆说，她去我单独居家隔离的房间拿东西，不想“西西”也偷偷跟进去了，不得已只好给小猫喷点酒精消毒，然后洗澡了。“西西”是不是也想我了啊？\\n\\n\\n\\n2022-04-12 周二 方舱\\n\\n\\n早上帮着分发早餐，分了40分钟，还是有点儿累啊。由此，今天早上只跑了1.5公里。\\n\\n\\n上午给武汉第一医院的医护拍了些照片和视频。拍完后，他们自己剪了一个视频，效果还不错啊。\\n\\n\\n\\n中午护士通知我明天可以出舱了，非常高兴啊。对床的昨天没有出去，也是明天，明天好多人都可以出舱了。发的贴牌，明天贴衣服上。\\n\\n\\n\\n2022-04-13 周三 方舱\\n\\n\\n早上五点就起来了，早餐分发了一个小时。下雨，没有跑步', metadata={'description': '2022年4月上海，我感染了新冠病毒，本文记录了从在家发病，转运方舱，以及方舱回家的一段生活。非常感谢家人，朋友和同学这段时间对我的关心和支持，这让我感到有了无穷的力量。', 'language': 'en-US', 'source': 'https://xuxiangwen.github.io/others/2022/04/15/sh_coronavirus_log/', 'title': '新冠病毒找上了我 | Weclome to eipi10'}), Document(page_content='。\\n\\n\\n分发的东西很齐备。\\n\\n\\n\\n\\n\\n\\n2022-04-06 周三 方舱\\n\\n\\n早上补了一觉，咳嗽痰都少了好多，鼻涕基本没了，越来越好了。\\n\\n\\n白天是10院的医护人员，晚上换岗了，是武汉来支援的医护人员。\\n\\n\\n\\n吃清肺消炎丸两次。\\n\\n\\n午餐和晚餐。营养丰富。\\n\\n\\n\\n方舱环境一览。可以遛弯，这比家里可好多了。就是没法洗澡，厕所是一排应急的流动厕所仓，数量足够，但很脏。\\n\\n\\n后悔啊，为啥没带个足球，走之前，还犹豫来着。带双羽毛球拍也好啊。\\n\\n\\n老婆接到居委电话，家人作为密接，也要被转运至酒店或隔离点隔离，不知道他们会被运到哪里。家里小猫怎么办啊？\\n\\n\\n直到我后来出舱，家人也没有被转运走，看来的确是住满了，没地方了啊。\\n\\n\\n\\n2022-04-07 周四 方舱\\n\\n\\n还有有一点咳嗽和痰。\\n\\n\\n早上5点多就起来了，好久没这么早起来了', metadata={'description': '2022年4月上海，我感染了新冠病毒，本文记录了从在家发病，转运方舱，以及方舱回家的一段生活。非常感谢家人，朋友和同学这段时间对我的关心和支持，这让我感到有了无穷的力量。', 'language': 'en-US', 'source': 'https://xuxiangwen.github.io/others/2022/04/15/sh_coronavirus_log/', 'title': '新冠病毒找上了我 | Weclome to eipi10'})]\n"
     ]
    },
    {
     "data": {
      "text/plain": [
       "'你是在2022年4月4日打的第二针疫苗。感谢你的提问。'"
      ]
     },
     "execution_count": 21,
     "metadata": {},
     "output_type": "execute_result"
    }
   ],
   "source": [
    "QUESTION = QUESTION1\n",
    "result = qa_chain({\"query\": QUESTION})\n",
    "print(f'QUESTION1 = {QUESTION}')\n",
    "print(len(result['source_documents']))\n",
    "print(result['source_documents'])\n",
    "result[\"result\"]"
   ]
  },
  {
   "cell_type": "code",
   "execution_count": 22,
   "id": "672a630e-407c-43e1-a200-60e1a9b647e8",
   "metadata": {
    "execution": {
     "iopub.execute_input": "2024-04-30T11:26:16.615689Z",
     "iopub.status.busy": "2024-04-30T11:26:16.615689Z",
     "iopub.status.idle": "2024-04-30T11:26:20.014419Z",
     "shell.execute_reply": "2024-04-30T11:26:20.013901Z",
     "shell.execute_reply.started": "2024-04-30T11:26:16.615689Z"
    }
   },
   "outputs": [
    {
     "name": "stdout",
     "output_type": "stream",
     "text": [
      "\n",
      "\n",
      "\u001b[1m> Entering new RetrievalQA chain...\u001b[0m\n",
      "\n",
      "\u001b[1m> Finished chain.\u001b[0m\n",
      "QUESTION1 = 我是什么时候抗原检测阳性\n",
      "4\n",
      "[Document(page_content='新冠病毒找上了我 | Weclome to eipi10\\n\\n\\n\\n\\n\\n\\n\\n\\n\\n\\n\\n\\n\\n\\n\\n\\n\\n\\n\\n\\n\\n\\n\\n\\n\\n\\n\\nWeclome to eipi10\\n\\n\\n\\n\\nView On GitHub\\n\\n\\n\\n\\n\\n\\n新冠病毒找上了我\\n\\n  15 Apr 2022\\n\\n2022年4月上海，我感染了新冠病毒，本文记录了从在家发病，转运方舱，以及方舱回家的一段生活。非常感谢家人，朋友和同学这段时间对我的关心和支持，这让我感到有了无穷的力量。\\n疫苗\\n\\n本人：两针\\n    \\n2022-04-02 ：北京生物疫苗第一针，\\n2022-04-04：北京生物疫苗第二针\\n\\n\\n孩子：两针，2022年3月份打的第二针\\n母亲和妻子：三针\\n\\n2022-03-26 周六 家\\n\\n自测抗原，全家阴性\\n和本楼志愿者有接触，他们家四人当天抗原阳性，当晚核酸检测都是阳性', metadata={'description': '2022年4月上海，我感染了新冠病毒，本文记录了从在家发病，转运方舱，以及方舱回家的一段生活。非常感谢家人，朋友和同学这段时间对我的关心和支持，这让我感到有了无穷的力量。', 'language': 'en-US', 'source': 'https://xuxiangwen.github.io/others/2022/04/15/sh_coronavirus_log/', 'title': '新冠病毒找上了我 | Weclome to eipi10'}), Document(page_content='。估计被这个传染的可能性很大\\n楼栋单元被封。\\n\\n2022-03-28 周一 家\\n\\n全家核酸检测。这个核酸检测结果一直未出。\\n\\n2022-03-30 周三 家\\n\\n喉咙有点痒, 有一点头晕和乏力。\\n全家核酸检测，第二天结果出来，都是阴性\\n\\n2022-03-31 周四 家\\n\\n喉咙发干；有些头晕，全身乏力\\n大部分时间卧床休息。\\n吃阿咖酚散。\\n晚上工作了两个小时。\\n\\n2022-04-01 周五 家\\n\\n\\n喉咙非常痛，像针扎；有一些发烧（38度左右）；头晕，全身无力；嗓子有些哑。\\n\\n\\n卧床休息。\\n\\n\\n吃阿咖酚散，下午开始吃连花清瘟胶囊。小区的球队兄弟还给我带了两盒，谢谢啊。\\n\\n\\n自测抗原阳性。家人都是阴性，且没有任何异样。\\n\\n\\n\\n开始被隔离在家里单独房间。\\n\\n\\n祸不单行，电脑不知道怎么被水泼了，无法启动', metadata={'description': '2022年4月上海，我感染了新冠病毒，本文记录了从在家发病，转运方舱，以及方舱回家的一段生活。非常感谢家人，朋友和同学这段时间对我的关心和支持，这让我感到有了无穷的力量。', 'language': 'en-US', 'source': 'https://xuxiangwen.github.io/others/2022/04/15/sh_coronavirus_log/', 'title': '新冠病毒找上了我 | Weclome to eipi10'}), Document(page_content='。\\n\\n\\n2022-04-02 周六 家\\n\\n\\n喉咙非常痛，像针扎；有一些发烧（38度左右）；头晕，全身无力；嗓子非常哑。\\n\\n\\n卧床休息。\\n\\n\\n吃连花清瘟胶囊。\\n\\n\\n个人核酸检测。这个核酸检测结果一直未出。\\n\\n\\n飘窗晒电脑。试了很多次，无法开机，晚上睡觉前，又试了一下，启动了。\\n\\n\\n女儿送我千纸鹤。\\n\\n\\n\\n2022-04-03 周日 家\\n\\n喉咙不太痛了；体温37度左右；有时会咳黄痰；有轻微鼻塞。\\n一半时间卧床，可以玩游戏了。\\n吃连花清瘟胶囊。\\n\\n2022-04-04 周一 家\\n\\n\\n喉咙完全不痛了，只是有些发干；咳嗽变得很厉害，痰多，黄白色；鼻塞，鼻涕多。\\n\\n下午开始连续喷嚏，痰基本是白色。体温36.4度\\n\\n\\n\\n精力感觉基本恢复了。\\n\\n\\n吃连花清瘟胶囊。\\n\\n\\n自测抗原阳性。\\n\\n\\n\\n女儿送我福袋', metadata={'description': '2022年4月上海，我感染了新冠病毒，本文记录了从在家发病，转运方舱，以及方舱回家的一段生活。非常感谢家人，朋友和同学这段时间对我的关心和支持，这让我感到有了无穷的力量。', 'language': 'en-US', 'source': 'https://xuxiangwen.github.io/others/2022/04/15/sh_coronavirus_log/', 'title': '新冠病毒找上了我 | Weclome to eipi10'}), Document(page_content='。真的搞不清了，我究竟啥时候阳的，为啥又可以出了。我哥说他能查到核酸记录，我却不能，目前好像就是方舱的人查不到核酸检查记录。今天早上又进行了核酸，真的有些担心，不能高兴太早了啊。希望方舱早日清空，上海早日清零，大家早日回归正常的生活。\\n\\n\\n\\n家里的小猫怎么这么可爱。\\n\\n\\n\\n2022-04-15 周五 方舱\\n\\n\\n早上6:00护士给我又发了出舱的贴牌。到周围转了一圈，发现也有人被通知不能出舱，看来阴阳互换，还是有不少的。\\n\\n\\n\\n\\n今天要出舱了，排队中。这次应该没跑了，发了通知给家人，同学和朋友，让他们安心。这次方舱经历，收获了太多的祝福和支持，诚挚的感谢大家。\\n\\n\\n\\n坐上了公交车，就要离开住了10晚的方舱了，心里忽然有一丝的不舍，这真的是一段很特别的经历啊。不到20分钟，车开到了中转站——源深体育馆', metadata={'description': '2022年4月上海，我感染了新冠病毒，本文记录了从在家发病，转运方舱，以及方舱回家的一段生活。非常感谢家人，朋友和同学这段时间对我的关心和支持，这让我感到有了无穷的力量。', 'language': 'en-US', 'source': 'https://xuxiangwen.github.io/others/2022/04/15/sh_coronavirus_log/', 'title': '新冠病毒找上了我 | Weclome to eipi10'})]\n"
     ]
    },
    {
     "data": {
      "text/plain": [
       "'你在2022年4月1日自测抗原阳性。感谢你的提问。'"
      ]
     },
     "execution_count": 22,
     "metadata": {},
     "output_type": "execute_result"
    }
   ],
   "source": [
    "QUESTION = QUESTION2\n",
    "result = qa_chain({\"query\": QUESTION})\n",
    "print(f'QUESTION1 = {QUESTION}')\n",
    "print(len(result['source_documents']))\n",
    "print(result['source_documents'])\n",
    "result[\"result\"]"
   ]
  },
  {
   "cell_type": "code",
   "execution_count": 23,
   "id": "a19a07d6-d30b-46a0-a1d7-05ef52f4ceca",
   "metadata": {
    "execution": {
     "iopub.execute_input": "2024-04-30T11:26:30.963502Z",
     "iopub.status.busy": "2024-04-30T11:26:30.963502Z",
     "iopub.status.idle": "2024-04-30T11:26:34.583443Z",
     "shell.execute_reply": "2024-04-30T11:26:34.582797Z",
     "shell.execute_reply.started": "2024-04-30T11:26:30.963502Z"
    }
   },
   "outputs": [
    {
     "name": "stdout",
     "output_type": "stream",
     "text": [
      "\n",
      "\n",
      "\u001b[1m> Entering new RetrievalQA chain...\u001b[0m\n",
      "\n",
      "\u001b[1m> Finished chain.\u001b[0m\n",
      "QUESTION1 = 球队的大腿在方舱的什么地方\n",
      "4\n",
      "[Document(page_content='。当了一下志愿者，帮忙大白来维护核酸的队伍。哪一个是我？\\n\\n\\n\\n闲逛\\n\\n\\n\\n下午溜到W4和球队的大腿相见。\\n\\n\\n\\n经过了几天的磨合，方舱的环境也越来越好。开始的时候，大家把东西乱扔，水槽垃圾尤其多，厕所很脏，现在，大家越来越爱护自己生活的环境了，垃圾少了，上厕所的时候，很多人都会准备一盆水。\\n\\n\\n2022-04-10 周日 方舱\\n\\n\\n今天早上总算能跑起来了。\\n\\n\\n\\n闲逛\\n\\n\\n\\n又有百叶卷？好像是上海清明特产。\\n\\n\\n\\n昨天下午，护士过来通知有一部分人，明天可以回家了。瞄了一眼名单，大概有10%左右。我的对床也被通知了，什么时候才轮到我。\\n\\n\\n\\n这几天陆陆续续看到很多负面的消息。上海作为超大城市，物资供应和医疗服务都是极其严峻的考验，现在正是困难时刻，上海坚持住。\\n\\n\\n2022-04-11 周一 方舱\\n\\n\\n或许是对床今天就要回家了，今天忽然很想回家', metadata={'description': '2022年4月上海，我感染了新冠病毒，本文记录了从在家发病，转运方舱，以及方舱回家的一段生活。非常感谢家人，朋友和同学这段时间对我的关心和支持，这让我感到有了无穷的力量。', 'language': 'en-US', 'source': 'https://xuxiangwen.github.io/others/2022/04/15/sh_coronavirus_log/', 'title': '新冠病毒找上了我 | Weclome to eipi10'}), Document(page_content='。\\n\\n\\n早上6点多，护士来通知我，说不能出舱了，核酸复阳，收回了我的贴牌，心里真的好失落。外面也一直下着雨，就像我的心情。之前球队大腿说，如果你是最后10%出舱的，你就牛了，看来他的乌鸦嘴要灵验了。\\n\\n\\n今天的雨很大，屋顶轰隆隆超级响。网上看到其它地方的方舱漏雨，我们这算很好了。\\n\\n\\n\\n下午在整理方舱的涂鸦集，把图片变小，整理好后，文件从300MB变成了不到100MB。本来想今天能出去的，想把这个涂鸦集作为方舱的留念，毕竟这个经历也挺难得的。看来老天是想让我多收集一些啊，明天再去转转，看看还有什么新的涂鸦。\\n\\n\\n2022-04-14 周四 方舱\\n\\n\\n早上起来，还有小雨，没有跑步，也没有去做志愿者，想想还是好好休息一下吧。\\n\\n\\n上午基本不下雨了，天气也凉爽起来，感觉心情突然好起来了。\\n\\n\\n中午，护士突然过来通知，说明天可以出舱', metadata={'description': '2022年4月上海，我感染了新冠病毒，本文记录了从在家发病，转运方舱，以及方舱回家的一段生活。非常感谢家人，朋友和同学这段时间对我的关心和支持，这让我感到有了无穷的力量。', 'language': 'en-US', 'source': 'https://xuxiangwen.github.io/others/2022/04/15/sh_coronavirus_log/', 'title': '新冠病毒找上了我 | Weclome to eipi10'}), Document(page_content='。\\n\\n\\n今天突破三公里了。以后每天保持这个量啦。估计这样下去，体重可以再降一降。\\n\\n\\n\\n今天配了酸奶，加上早上剩下的牛奶，还不错。\\n\\n\\n\\n今天老婆说，她去我单独居家隔离的房间拿东西，不想“西西”也偷偷跟进去了，不得已只好给小猫喷点酒精消毒，然后洗澡了。“西西”是不是也想我了啊？\\n\\n\\n\\n2022-04-12 周二 方舱\\n\\n\\n早上帮着分发早餐，分了40分钟，还是有点儿累啊。由此，今天早上只跑了1.5公里。\\n\\n\\n上午给武汉第一医院的医护拍了些照片和视频。拍完后，他们自己剪了一个视频，效果还不错啊。\\n\\n\\n\\n中午护士通知我明天可以出舱了，非常高兴啊。对床的昨天没有出去，也是明天，明天好多人都可以出舱了。发的贴牌，明天贴衣服上。\\n\\n\\n\\n2022-04-13 周三 方舱\\n\\n\\n早上五点就起来了，早餐分发了一个小时。下雨，没有跑步', metadata={'description': '2022年4月上海，我感染了新冠病毒，本文记录了从在家发病，转运方舱，以及方舱回家的一段生活。非常感谢家人，朋友和同学这段时间对我的关心和支持，这让我感到有了无穷的力量。', 'language': 'en-US', 'source': 'https://xuxiangwen.github.io/others/2022/04/15/sh_coronavirus_log/', 'title': '新冠病毒找上了我 | Weclome to eipi10'}), Document(page_content='。\\n\\n\\n分发的东西很齐备。\\n\\n\\n\\n\\n\\n\\n2022-04-06 周三 方舱\\n\\n\\n早上补了一觉，咳嗽痰都少了好多，鼻涕基本没了，越来越好了。\\n\\n\\n白天是10院的医护人员，晚上换岗了，是武汉来支援的医护人员。\\n\\n\\n\\n吃清肺消炎丸两次。\\n\\n\\n午餐和晚餐。营养丰富。\\n\\n\\n\\n方舱环境一览。可以遛弯，这比家里可好多了。就是没法洗澡，厕所是一排应急的流动厕所仓，数量足够，但很脏。\\n\\n\\n后悔啊，为啥没带个足球，走之前，还犹豫来着。带双羽毛球拍也好啊。\\n\\n\\n老婆接到居委电话，家人作为密接，也要被转运至酒店或隔离点隔离，不知道他们会被运到哪里。家里小猫怎么办啊？\\n\\n\\n直到我后来出舱，家人也没有被转运走，看来的确是住满了，没地方了啊。\\n\\n\\n\\n2022-04-07 周四 方舱\\n\\n\\n还有有一点咳嗽和痰。\\n\\n\\n早上5点多就起来了，好久没这么早起来了', metadata={'description': '2022年4月上海，我感染了新冠病毒，本文记录了从在家发病，转运方舱，以及方舱回家的一段生活。非常感谢家人，朋友和同学这段时间对我的关心和支持，这让我感到有了无穷的力量。', 'language': 'en-US', 'source': 'https://xuxiangwen.github.io/others/2022/04/15/sh_coronavirus_log/', 'title': '新冠病毒找上了我 | Weclome to eipi10'})]\n"
     ]
    },
    {
     "data": {
      "text/plain": [
       "'很抱歉，文中没有提及球队的大腿在方舱的具体位置。感谢你的提问。'"
      ]
     },
     "execution_count": 23,
     "metadata": {},
     "output_type": "execute_result"
    }
   ],
   "source": [
    "QUESTION = QUESTION3\n",
    "result = qa_chain({\"query\": QUESTION})\n",
    "print(f'QUESTION1 = {QUESTION}')\n",
    "print(len(result['source_documents']))\n",
    "print(result['source_documents'])\n",
    "result[\"result\"]"
   ]
  },
  {
   "cell_type": "code",
   "execution_count": 24,
   "id": "0008f953-25fc-4ec1-b1e7-602d690062ec",
   "metadata": {
    "execution": {
     "iopub.execute_input": "2024-04-30T11:26:40.497280Z",
     "iopub.status.busy": "2024-04-30T11:26:40.493246Z",
     "iopub.status.idle": "2024-04-30T11:26:44.082209Z",
     "shell.execute_reply": "2024-04-30T11:26:44.081204Z",
     "shell.execute_reply.started": "2024-04-30T11:26:40.493246Z"
    }
   },
   "outputs": [
    {
     "name": "stdout",
     "output_type": "stream",
     "text": [
      "\n",
      "\n",
      "\u001b[1m> Entering new RetrievalQA chain...\u001b[0m\n",
      "\n",
      "\u001b[1m> Finished chain.\u001b[0m\n",
      "QUESTION1 = 方舱的伙食有哪些\n",
      "4\n",
      "[Document(page_content='。\\n\\n\\n早上散步\\n\\n\\n\\n连了wifi，网速也快起来了，嗖嗖的。要来串羊肉串吗？\\n\\n\\n\\n\\u200b\\t\\t不过上午9点后，就明显慢下来了，看来还是人多。\\n\\n\\n晚上11:00多，开始测核酸了。上海能使用的方舱已经8w+，在建的还有几w，但仍然不够用啊。看到下面这个通知，看来尽快出舱有希望了。\\n\\n\\n\\n2022-04-08 周五 方舱\\n\\n\\n还有偶尔有一点咳嗽和痰。看来这个状态将会持续一段时间啦\\n\\n\\n早上5点多，听到孩子连续撕裂的哭声，估计是不舒服喉咙痛。这哭声提醒我，虽然大多数人是轻症甚至无症状，但由于感染人数巨大，少数的重症其实绝对数量也不小，绝不可掉以轻心。\\n\\n\\n哥哥发了他们附近小区的一些”唱歌”的画面。\\n的确有不少人家里已经没粮了。或许能够在方舱也是一种幸运。\\n\\n\\n2022-04-09 周六 方舱\\n\\n\\n今天有大鸡腿。\\n\\n\\n\\n从7号开始一天一次核酸', metadata={'description': '2022年4月上海，我感染了新冠病毒，本文记录了从在家发病，转运方舱，以及方舱回家的一段生活。非常感谢家人，朋友和同学这段时间对我的关心和支持，这让我感到有了无穷的力量。', 'language': 'en-US', 'source': 'https://xuxiangwen.github.io/others/2022/04/15/sh_coronavirus_log/', 'title': '新冠病毒找上了我 | Weclome to eipi10'}), Document(page_content='。\\n\\n\\n今天突破三公里了。以后每天保持这个量啦。估计这样下去，体重可以再降一降。\\n\\n\\n\\n今天配了酸奶，加上早上剩下的牛奶，还不错。\\n\\n\\n\\n今天老婆说，她去我单独居家隔离的房间拿东西，不想“西西”也偷偷跟进去了，不得已只好给小猫喷点酒精消毒，然后洗澡了。“西西”是不是也想我了啊？\\n\\n\\n\\n2022-04-12 周二 方舱\\n\\n\\n早上帮着分发早餐，分了40分钟，还是有点儿累啊。由此，今天早上只跑了1.5公里。\\n\\n\\n上午给武汉第一医院的医护拍了些照片和视频。拍完后，他们自己剪了一个视频，效果还不错啊。\\n\\n\\n\\n中午护士通知我明天可以出舱了，非常高兴啊。对床的昨天没有出去，也是明天，明天好多人都可以出舱了。发的贴牌，明天贴衣服上。\\n\\n\\n\\n2022-04-13 周三 方舱\\n\\n\\n早上五点就起来了，早餐分发了一个小时。下雨，没有跑步', metadata={'description': '2022年4月上海，我感染了新冠病毒，本文记录了从在家发病，转运方舱，以及方舱回家的一段生活。非常感谢家人，朋友和同学这段时间对我的关心和支持，这让我感到有了无穷的力量。', 'language': 'en-US', 'source': 'https://xuxiangwen.github.io/others/2022/04/15/sh_coronavirus_log/', 'title': '新冠病毒找上了我 | Weclome to eipi10'}), Document(page_content='。\\n\\n\\n分发的东西很齐备。\\n\\n\\n\\n\\n\\n\\n2022-04-06 周三 方舱\\n\\n\\n早上补了一觉，咳嗽痰都少了好多，鼻涕基本没了，越来越好了。\\n\\n\\n白天是10院的医护人员，晚上换岗了，是武汉来支援的医护人员。\\n\\n\\n\\n吃清肺消炎丸两次。\\n\\n\\n午餐和晚餐。营养丰富。\\n\\n\\n\\n方舱环境一览。可以遛弯，这比家里可好多了。就是没法洗澡，厕所是一排应急的流动厕所仓，数量足够，但很脏。\\n\\n\\n后悔啊，为啥没带个足球，走之前，还犹豫来着。带双羽毛球拍也好啊。\\n\\n\\n老婆接到居委电话，家人作为密接，也要被转运至酒店或隔离点隔离，不知道他们会被运到哪里。家里小猫怎么办啊？\\n\\n\\n直到我后来出舱，家人也没有被转运走，看来的确是住满了，没地方了啊。\\n\\n\\n\\n2022-04-07 周四 方舱\\n\\n\\n还有有一点咳嗽和痰。\\n\\n\\n早上5点多就起来了，好久没这么早起来了', metadata={'description': '2022年4月上海，我感染了新冠病毒，本文记录了从在家发病，转运方舱，以及方舱回家的一段生活。非常感谢家人，朋友和同学这段时间对我的关心和支持，这让我感到有了无穷的力量。', 'language': 'en-US', 'source': 'https://xuxiangwen.github.io/others/2022/04/15/sh_coronavirus_log/', 'title': '新冠病毒找上了我 | Weclome to eipi10'}), Document(page_content='。当了一下志愿者，帮忙大白来维护核酸的队伍。哪一个是我？\\n\\n\\n\\n闲逛\\n\\n\\n\\n下午溜到W4和球队的大腿相见。\\n\\n\\n\\n经过了几天的磨合，方舱的环境也越来越好。开始的时候，大家把东西乱扔，水槽垃圾尤其多，厕所很脏，现在，大家越来越爱护自己生活的环境了，垃圾少了，上厕所的时候，很多人都会准备一盆水。\\n\\n\\n2022-04-10 周日 方舱\\n\\n\\n今天早上总算能跑起来了。\\n\\n\\n\\n闲逛\\n\\n\\n\\n又有百叶卷？好像是上海清明特产。\\n\\n\\n\\n昨天下午，护士过来通知有一部分人，明天可以回家了。瞄了一眼名单，大概有10%左右。我的对床也被通知了，什么时候才轮到我。\\n\\n\\n\\n这几天陆陆续续看到很多负面的消息。上海作为超大城市，物资供应和医疗服务都是极其严峻的考验，现在正是困难时刻，上海坚持住。\\n\\n\\n2022-04-11 周一 方舱\\n\\n\\n或许是对床今天就要回家了，今天忽然很想回家', metadata={'description': '2022年4月上海，我感染了新冠病毒，本文记录了从在家发病，转运方舱，以及方舱回家的一段生活。非常感谢家人，朋友和同学这段时间对我的关心和支持，这让我感到有了无穷的力量。', 'language': 'en-US', 'source': 'https://xuxiangwen.github.io/others/2022/04/15/sh_coronavirus_log/', 'title': '新冠病毒找上了我 | Weclome to eipi10'})]\n"
     ]
    },
    {
     "data": {
      "text/plain": [
       "'方舱的伙食包括肉类、蔬菜和酸奶等，具体可能会有大鸡腿、百叶卷等食物。感谢你的提问。'"
      ]
     },
     "execution_count": 24,
     "metadata": {},
     "output_type": "execute_result"
    }
   ],
   "source": [
    "QUESTION = QUESTION4\n",
    "result = qa_chain({\"query\": QUESTION})\n",
    "print(f'QUESTION1 = {QUESTION}')\n",
    "print(len(result['source_documents']))\n",
    "print(result['source_documents'])\n",
    "result[\"result\"]"
   ]
  },
  {
   "cell_type": "markdown",
   "id": "66257900-10a8-4ab8-bb9e-fe40ce2f447c",
   "metadata": {},
   "source": [
    "### Chat"
   ]
  },
  {
   "cell_type": "code",
   "execution_count": 25,
   "id": "33c88c29-7e2c-43d9-9e50-b50d4a777222",
   "metadata": {
    "execution": {
     "iopub.execute_input": "2024-04-30T11:27:09.036693Z",
     "iopub.status.busy": "2024-04-30T11:27:09.036693Z",
     "iopub.status.idle": "2024-04-30T11:27:18.482185Z",
     "shell.execute_reply": "2024-04-30T11:27:18.482185Z",
     "shell.execute_reply.started": "2024-04-30T11:27:09.036693Z"
    }
   },
   "outputs": [
    {
     "data": {
      "text/plain": [
       "{'question': '我是什么时候打的第二针疫苗的',\n",
       " 'chat_history': [SystemMessage(content='')],\n",
       " 'answer': '你第二针疫苗是在2022年4月4日接种的。感谢你的提问。'}"
      ]
     },
     "execution_count": 25,
     "metadata": {},
     "output_type": "execute_result"
    }
   ],
   "source": [
    "\n",
    "\n",
    "memory = ConversationSummaryMemory(llm=llm, memory_key=\"chat_history\", return_messages=True)\n",
    "qa = ConversationalRetrievalChain.from_llm(llm, retriever=retriever, memory=memory, combine_docs_chain_kwargs={\"prompt\": QA_CHAIN_PROMPT})\n",
    "qa(QUESTION1)"
   ]
  },
  {
   "cell_type": "code",
   "execution_count": 26,
   "id": "36a3a607-0950-4246-a975-ef424482c2ef",
   "metadata": {
    "execution": {
     "iopub.execute_input": "2024-04-30T11:27:18.483611Z",
     "iopub.status.busy": "2024-04-30T11:27:18.483611Z",
     "iopub.status.idle": "2024-04-30T11:27:28.561705Z",
     "shell.execute_reply": "2024-04-30T11:27:28.561139Z",
     "shell.execute_reply.started": "2024-04-30T11:27:18.483611Z"
    }
   },
   "outputs": [
    {
     "data": {
      "text/plain": [
       "{'question': '我是什么时候抗原检测阳性',\n",
       " 'chat_history': [SystemMessage(content='人类询问自己第二针疫苗的接种时间，AI回答称是在2022年4月4日接种的。')],\n",
       " 'answer': '你是在2022年4月1日自测抗原阳性的。感谢你的提问。'}"
      ]
     },
     "execution_count": 26,
     "metadata": {},
     "output_type": "execute_result"
    }
   ],
   "source": [
    "qa(QUESTION2)"
   ]
  },
  {
   "cell_type": "code",
   "execution_count": 27,
   "id": "8fe89130-fe3d-4417-a3f0-4de3f9ede946",
   "metadata": {
    "execution": {
     "iopub.execute_input": "2024-04-30T11:27:28.562663Z",
     "iopub.status.busy": "2024-04-30T11:27:28.562663Z",
     "iopub.status.idle": "2024-04-30T11:27:45.245690Z",
     "shell.execute_reply": "2024-04-30T11:27:45.244676Z",
     "shell.execute_reply.started": "2024-04-30T11:27:28.562663Z"
    }
   },
   "outputs": [
    {
     "data": {
      "text/plain": [
       "{'question': '球队的大腿在方舱的什么地方',\n",
       " 'chat_history': [SystemMessage(content='人类询问自己第二针疫苗的接种时间，AI回答称是在2022年4月4日接种的。接着，人类又问自己是什么时候抗原检测阳性，AI回答是在2022年4月1日自测抗原阳性的。')],\n",
       " 'answer': '我不知道球队的大腿在方舱的什么地方，因为原文中并没有提到相关信息。感谢你的提问。'}"
      ]
     },
     "execution_count": 27,
     "metadata": {},
     "output_type": "execute_result"
    }
   ],
   "source": [
    "qa(QUESTION3)"
   ]
  },
  {
   "cell_type": "code",
   "execution_count": 28,
   "id": "58b1680f-427a-4204-9b11-e1d8b77e6e87",
   "metadata": {
    "execution": {
     "iopub.execute_input": "2024-04-30T11:27:45.248673Z",
     "iopub.status.busy": "2024-04-30T11:27:45.248673Z",
     "iopub.status.idle": "2024-04-30T11:27:58.411835Z",
     "shell.execute_reply": "2024-04-30T11:27:58.411353Z",
     "shell.execute_reply.started": "2024-04-30T11:27:45.248673Z"
    }
   },
   "outputs": [
    {
     "data": {
      "text/plain": [
       "{'question': '方舱的伙食有哪些',\n",
       " 'chat_history': [SystemMessage(content='人类询问自己第二针疫苗的接种时间以及自测抗原阳性的时间，AI分别回答是在2022年4月4日和2022年4月1日。接着，人类问了一个与方舱和球队大腿相关的问题，但AI表示原文中没有提到相关信息，无法回答。')],\n",
       " 'answer': '方舱的伙食通常包括营养丰富的午餐和晚餐，有大鸡腿、百叶卷等食物。感谢你的提问。'}"
      ]
     },
     "execution_count": 28,
     "metadata": {},
     "output_type": "execute_result"
    }
   ],
   "source": [
    "qa(QUESTION4)"
   ]
  },
  {
   "cell_type": "code",
   "execution_count": null,
   "id": "212d110f-9803-4c65-abd9-cc03e478e9fb",
   "metadata": {},
   "outputs": [],
   "source": []
  }
 ],
 "metadata": {
  "kernelspec": {
   "display_name": "Python 3 (ipykernel)",
   "language": "python",
   "name": "python3"
  },
  "language_info": {
   "codemirror_mode": {
    "name": "ipython",
    "version": 3
   },
   "file_extension": ".py",
   "mimetype": "text/x-python",
   "name": "python",
   "nbconvert_exporter": "python",
   "pygments_lexer": "ipython3",
   "version": "3.10.14"
  }
 },
 "nbformat": 4,
 "nbformat_minor": 5
}
