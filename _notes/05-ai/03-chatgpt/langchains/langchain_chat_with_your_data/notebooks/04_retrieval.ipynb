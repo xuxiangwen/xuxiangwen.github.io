{
 "cells": [
  {
   "cell_type": "markdown",
   "id": "0689733d",
   "metadata": {},
   "source": [
    "# Retrieval\n",
    "\n",
    "Retrieval is the centerpiece of our retrieval augmented generation (RAG) flow. \n",
    "\n",
    "Let's get our vectorDB from before."
   ]
  },
  {
   "cell_type": "markdown",
   "id": "ed2569c6",
   "metadata": {},
   "source": [
    "## Vectorstore retrieval\n"
   ]
  },
  {
   "cell_type": "code",
   "execution_count": 1,
   "id": "51b15e5c-9b92-4d40-a149-b56335d330d9",
   "metadata": {
    "execution": {
     "iopub.execute_input": "2024-05-06T06:45:36.944350Z",
     "iopub.status.busy": "2024-05-06T06:45:36.944350Z",
     "iopub.status.idle": "2024-05-06T06:45:37.874601Z",
     "shell.execute_reply": "2024-05-06T06:45:37.874601Z",
     "shell.execute_reply.started": "2024-05-06T06:45:36.944350Z"
    },
    "tags": []
   },
   "outputs": [
    {
     "name": "stdout",
     "output_type": "stream",
     "text": [
      "QIANFAN_AK=HCCPsQy5p0Ex1rSEL6oorGQb\n",
      "QIANFAN_SK=TCVRfPCfbtLr0eDPZRXcywMxcgaNuLDE\n"
     ]
    }
   ],
   "source": [
    "# import os\n",
    "# import openai\n",
    "# import sys\n",
    "# sys.path.append('../..')\n",
    "\n",
    "# from dotenv import load_dotenv, find_dotenv\n",
    "# _ = load_dotenv(find_dotenv()) # read local .env file\n",
    "\n",
    "# openai.api_key  = os.environ['OPENAI_API_KEY']\n",
    "\n",
    "import os\n",
    "from langchain.embeddings import QianfanEmbeddingsEndpoint\n",
    "from langchain.chat_models import QianfanChatEndpoint\n",
    "\n",
    "from dotenv import load_dotenv, find_dotenv\n",
    "_ = load_dotenv(find_dotenv()) # read local .env file\n",
    "\n",
    "print(f\"QIANFAN_AK={os.environ['QIANFAN_AK']}\")\n",
    "print(f\"QIANFAN_SK={os.environ['QIANFAN_SK']}\")"
   ]
  },
  {
   "cell_type": "code",
   "execution_count": 2,
   "id": "c18f8a7b-62af-403e-9877-18d1c2265b4f",
   "metadata": {
    "execution": {
     "iopub.execute_input": "2024-05-06T06:45:37.877014Z",
     "iopub.status.busy": "2024-05-06T06:45:37.875616Z",
     "iopub.status.idle": "2024-05-06T06:45:37.893581Z",
     "shell.execute_reply": "2024-05-06T06:45:37.892222Z",
     "shell.execute_reply.started": "2024-05-06T06:45:37.877014Z"
    },
    "tags": []
   },
   "outputs": [],
   "source": [
    "#!pip install lark"
   ]
  },
  {
   "cell_type": "markdown",
   "id": "c2d552e1",
   "metadata": {},
   "source": [
    "### Similarity Search"
   ]
  },
  {
   "cell_type": "code",
   "execution_count": 3,
   "id": "fe368042",
   "metadata": {
    "execution": {
     "iopub.execute_input": "2024-05-06T06:45:37.894217Z",
     "iopub.status.busy": "2024-05-06T06:45:37.894217Z",
     "iopub.status.idle": "2024-05-06T06:45:37.926104Z",
     "shell.execute_reply": "2024-05-06T06:45:37.925104Z",
     "shell.execute_reply.started": "2024-05-06T06:45:37.894217Z"
    },
    "tags": []
   },
   "outputs": [],
   "source": [
    "from langchain.vectorstores import Chroma\n",
    "# from langchain.embeddings.openai import OpenAIEmbeddings\n",
    "persist_directory = 'docs/chroma/'"
   ]
  },
  {
   "cell_type": "code",
   "execution_count": 4,
   "id": "a0189dc5",
   "metadata": {
    "execution": {
     "iopub.execute_input": "2024-05-06T06:45:37.928145Z",
     "iopub.status.busy": "2024-05-06T06:45:37.927138Z",
     "iopub.status.idle": "2024-05-06T06:45:39.894213Z",
     "shell.execute_reply": "2024-05-06T06:45:39.893629Z",
     "shell.execute_reply.started": "2024-05-06T06:45:37.928145Z"
    },
    "tags": []
   },
   "outputs": [],
   "source": [
    "# embedding = OpenAIEmbeddings()\n",
    "embedding = QianfanEmbeddingsEndpoint()\n",
    "vectordb = Chroma(\n",
    "    persist_directory=persist_directory,\n",
    "    embedding_function=embedding\n",
    ")"
   ]
  },
  {
   "cell_type": "code",
   "execution_count": 5,
   "id": "3659e0f7",
   "metadata": {
    "execution": {
     "iopub.execute_input": "2024-05-06T06:45:39.894213Z",
     "iopub.status.busy": "2024-05-06T06:45:39.894213Z",
     "iopub.status.idle": "2024-05-06T06:45:39.928000Z",
     "shell.execute_reply": "2024-05-06T06:45:39.926782Z",
     "shell.execute_reply.started": "2024-05-06T06:45:39.894213Z"
    },
    "tags": []
   },
   "outputs": [
    {
     "name": "stdout",
     "output_type": "stream",
     "text": [
      "368\n"
     ]
    }
   ],
   "source": [
    "print(vectordb._collection.count())"
   ]
  },
  {
   "cell_type": "code",
   "execution_count": 6,
   "id": "a807c758",
   "metadata": {
    "execution": {
     "iopub.execute_input": "2024-05-06T06:45:39.930002Z",
     "iopub.status.busy": "2024-05-06T06:45:39.929001Z",
     "iopub.status.idle": "2024-05-06T06:45:39.942000Z",
     "shell.execute_reply": "2024-05-06T06:45:39.942000Z",
     "shell.execute_reply.started": "2024-05-06T06:45:39.930002Z"
    },
    "tags": []
   },
   "outputs": [],
   "source": [
    "texts = [\n",
    "    \"\"\"The Amanita phalloides has a large and imposing epigeous (aboveground) fruiting body (basidiocarp).\"\"\",\n",
    "    \"\"\"A mushroom with a large fruiting body is the Amanita phalloides. Some varieties are all-white.\"\"\",\n",
    "    \"\"\"A. phalloides, a.k.a Death Cap, is one of the most poisonous of all known mushrooms.\"\"\",\n",
    "]"
   ]
  },
  {
   "cell_type": "code",
   "execution_count": 7,
   "id": "715d54f3",
   "metadata": {
    "execution": {
     "iopub.execute_input": "2024-05-06T06:45:39.944001Z",
     "iopub.status.busy": "2024-05-06T06:45:39.944001Z",
     "iopub.status.idle": "2024-05-06T06:45:43.700109Z",
     "shell.execute_reply": "2024-05-06T06:45:43.699109Z",
     "shell.execute_reply.started": "2024-05-06T06:45:39.944001Z"
    },
    "tags": []
   },
   "outputs": [
    {
     "name": "stderr",
     "output_type": "stream",
     "text": [
      "[INFO] [05-06 14:45:39] oauth.py:222 [t:25012]: trying to refresh access_token for ak `HCCPsQ***`\n",
      "[INFO] [05-06 14:45:41] oauth.py:237 [t:25012]: sucessfully refresh access_token\n"
     ]
    }
   ],
   "source": [
    "smalldb = Chroma.from_texts(texts, embedding=embedding)"
   ]
  },
  {
   "cell_type": "code",
   "execution_count": 8,
   "id": "9a37b5a5",
   "metadata": {
    "execution": {
     "iopub.execute_input": "2024-05-06T06:45:43.701109Z",
     "iopub.status.busy": "2024-05-06T06:45:43.701109Z",
     "iopub.status.idle": "2024-05-06T06:45:43.716157Z",
     "shell.execute_reply": "2024-05-06T06:45:43.715129Z",
     "shell.execute_reply.started": "2024-05-06T06:45:43.701109Z"
    },
    "tags": []
   },
   "outputs": [],
   "source": [
    "question = \"Tell me about all-white mushrooms with large fruiting bodies\""
   ]
  },
  {
   "cell_type": "code",
   "execution_count": 9,
   "id": "24e3b025",
   "metadata": {
    "execution": {
     "iopub.execute_input": "2024-05-06T06:45:43.718124Z",
     "iopub.status.busy": "2024-05-06T06:45:43.717125Z",
     "iopub.status.idle": "2024-05-06T06:45:44.392293Z",
     "shell.execute_reply": "2024-05-06T06:45:44.389292Z",
     "shell.execute_reply.started": "2024-05-06T06:45:43.718124Z"
    },
    "tags": []
   },
   "outputs": [
    {
     "data": {
      "text/plain": [
       "[Document(page_content='A mushroom with a large fruiting body is the Amanita phalloides. Some varieties are all-white.'),\n",
       " Document(page_content='The Amanita phalloides has a large and imposing epigeous (aboveground) fruiting body (basidiocarp).')]"
      ]
     },
     "execution_count": 9,
     "metadata": {},
     "output_type": "execute_result"
    }
   ],
   "source": [
    "smalldb.similarity_search(question, k=2)"
   ]
  },
  {
   "cell_type": "code",
   "execution_count": 10,
   "id": "4daa6c0d",
   "metadata": {
    "execution": {
     "iopub.execute_input": "2024-05-06T06:45:44.399292Z",
     "iopub.status.busy": "2024-05-06T06:45:44.398295Z",
     "iopub.status.idle": "2024-05-06T06:45:45.024105Z",
     "shell.execute_reply": "2024-05-06T06:45:45.023109Z",
     "shell.execute_reply.started": "2024-05-06T06:45:44.398295Z"
    },
    "tags": []
   },
   "outputs": [
    {
     "data": {
      "text/plain": [
       "[Document(page_content='A mushroom with a large fruiting body is the Amanita phalloides. Some varieties are all-white.'),\n",
       " Document(page_content='A. phalloides, a.k.a Death Cap, is one of the most poisonous of all known mushrooms.')]"
      ]
     },
     "execution_count": 10,
     "metadata": {},
     "output_type": "execute_result"
    }
   ],
   "source": [
    "smalldb.max_marginal_relevance_search(question,k=2, fetch_k=3)"
   ]
  },
  {
   "cell_type": "markdown",
   "id": "5a29e8c9",
   "metadata": {},
   "source": [
    "### Addressing Diversity: Maximum marginal relevance\n",
    "\n",
    "Last class we introduced one problem: how to enforce diversity in the search results.\n",
    " \n",
    "`Maximum marginal relevance` strives to achieve both relevance to the query *and diversity* among the results.\n",
    "\n",
    "最大边际相关性（Maximum Marginal Relevance，MMR）是一种用于信息检索和文本摘要的算法。它的主要目标是提高文本摘要或搜索结果的多样性，同时保持相关性。MMR 最初由University of Massachusetts的Jing等人于1999年提出，被广泛应用于文本摘要、搜索引擎和信息检索等领域。\n",
    "\n",
    "MMR 算法的核心思想是在选择文本摘要或搜索结果时，同时考虑两个方面的因素：相关性和多样性。具体来说，MMR 算法在选择下一个文本片段时，会同时考虑该片段与已选取片段的相关性以及它与已选取片段的差异性，以保证生成的摘要或搜索结果既相关又多样。"
   ]
  },
  {
   "cell_type": "code",
   "execution_count": 11,
   "id": "9bb2c0a9",
   "metadata": {
    "execution": {
     "iopub.execute_input": "2024-05-06T06:45:45.026627Z",
     "iopub.status.busy": "2024-05-06T06:45:45.025105Z",
     "iopub.status.idle": "2024-05-06T06:45:45.676623Z",
     "shell.execute_reply": "2024-05-06T06:45:45.676006Z",
     "shell.execute_reply.started": "2024-05-06T06:45:45.026627Z"
    },
    "tags": []
   },
   "outputs": [],
   "source": [
    "question = \"what did they say about matlab?\"\n",
    "docs_ss = vectordb.similarity_search(question,k=3)"
   ]
  },
  {
   "cell_type": "code",
   "execution_count": 12,
   "id": "f07f8793",
   "metadata": {
    "execution": {
     "iopub.execute_input": "2024-05-06T06:45:45.678629Z",
     "iopub.status.busy": "2024-05-06T06:45:45.678629Z",
     "iopub.status.idle": "2024-05-06T06:45:45.692641Z",
     "shell.execute_reply": "2024-05-06T06:45:45.691640Z",
     "shell.execute_reply.started": "2024-05-06T06:45:45.678629Z"
    },
    "tags": []
   },
   "outputs": [
    {
     "data": {
      "text/plain": [
       "\"don't have a MATLAB license, for the purposes of  this class, there's also — [inaudible] \\nwrite that\""
      ]
     },
     "execution_count": 12,
     "metadata": {},
     "output_type": "execute_result"
    }
   ],
   "source": [
    "docs_ss[0].page_content[:100]"
   ]
  },
  {
   "cell_type": "code",
   "execution_count": 13,
   "id": "e9f7e165",
   "metadata": {
    "execution": {
     "iopub.execute_input": "2024-05-06T06:45:45.694513Z",
     "iopub.status.busy": "2024-05-06T06:45:45.693507Z",
     "iopub.status.idle": "2024-05-06T06:45:45.703099Z",
     "shell.execute_reply": "2024-05-06T06:45:45.702284Z",
     "shell.execute_reply.started": "2024-05-06T06:45:45.694513Z"
    },
    "tags": []
   },
   "outputs": [
    {
     "data": {
      "text/plain": [
       "\"don't have a MATLAB license, for the purposes of  this class, there's also — [inaudible] \\nwrite that\""
      ]
     },
     "execution_count": 13,
     "metadata": {},
     "output_type": "execute_result"
    }
   ],
   "source": [
    "\n",
    "docs_ss[1].page_content[:100]"
   ]
  },
  {
   "cell_type": "markdown",
   "id": "4c4ca1b6",
   "metadata": {},
   "source": [
    "Note the difference in results with `MMR`."
   ]
  },
  {
   "cell_type": "code",
   "execution_count": 14,
   "id": "222234c5",
   "metadata": {
    "execution": {
     "iopub.execute_input": "2024-05-06T06:45:45.703099Z",
     "iopub.status.busy": "2024-05-06T06:45:45.703099Z",
     "iopub.status.idle": "2024-05-06T06:45:46.310507Z",
     "shell.execute_reply": "2024-05-06T06:45:46.309257Z",
     "shell.execute_reply.started": "2024-05-06T06:45:45.703099Z"
    },
    "tags": []
   },
   "outputs": [],
   "source": [
    "docs_mmr = vectordb.max_marginal_relevance_search(question,k=3)"
   ]
  },
  {
   "cell_type": "code",
   "execution_count": 15,
   "id": "93b20226",
   "metadata": {
    "execution": {
     "iopub.execute_input": "2024-05-06T06:45:46.311515Z",
     "iopub.status.busy": "2024-05-06T06:45:46.311515Z",
     "iopub.status.idle": "2024-05-06T06:45:46.326628Z",
     "shell.execute_reply": "2024-05-06T06:45:46.325528Z",
     "shell.execute_reply.started": "2024-05-06T06:45:46.311515Z"
    },
    "tags": []
   },
   "outputs": [
    {
     "data": {
      "text/plain": [
       "\"don't have a MATLAB license, for the purposes of  this class, there's also — [inaudible] \\nwrite that\""
      ]
     },
     "execution_count": 15,
     "metadata": {},
     "output_type": "execute_result"
    }
   ],
   "source": [
    "docs_mmr[0].page_content[:100]"
   ]
  },
  {
   "cell_type": "code",
   "execution_count": 16,
   "id": "17d39762",
   "metadata": {
    "execution": {
     "iopub.execute_input": "2024-05-06T06:45:46.327638Z",
     "iopub.status.busy": "2024-05-06T06:45:46.327638Z",
     "iopub.status.idle": "2024-05-06T06:45:46.342145Z",
     "shell.execute_reply": "2024-05-06T06:45:46.341149Z",
     "shell.execute_reply.started": "2024-05-06T06:45:46.327638Z"
    },
    "tags": []
   },
   "outputs": [
    {
     "data": {
      "text/plain": [
       "'emphasize that I’m taking this thing and view ing it as a function of  theta. Okay? So \\nlikelihood a'"
      ]
     },
     "execution_count": 16,
     "metadata": {},
     "output_type": "execute_result"
    }
   ],
   "source": [
    "docs_mmr[1].page_content[:100]"
   ]
  },
  {
   "cell_type": "markdown",
   "id": "b2b909bc",
   "metadata": {},
   "source": [
    "### Addressing Specificity: working with metadata\n",
    "\n",
    "In last lecture, we showed that a question about the third lecture can include results from other lectures as well.\n",
    "\n",
    "To address this, many vectorstores support operations on `metadata`.\n",
    "\n",
    "`metadata` provides context for each embedded chunk."
   ]
  },
  {
   "cell_type": "code",
   "execution_count": 17,
   "id": "3c1a60b2",
   "metadata": {
    "execution": {
     "iopub.execute_input": "2024-05-06T06:45:46.343127Z",
     "iopub.status.busy": "2024-05-06T06:45:46.343127Z",
     "iopub.status.idle": "2024-05-06T06:45:46.360949Z",
     "shell.execute_reply": "2024-05-06T06:45:46.359938Z",
     "shell.execute_reply.started": "2024-05-06T06:45:46.343127Z"
    },
    "tags": []
   },
   "outputs": [],
   "source": [
    "question = \"what did they say about regression in the third lecture?\""
   ]
  },
  {
   "cell_type": "code",
   "execution_count": 18,
   "id": "a8612840",
   "metadata": {
    "execution": {
     "iopub.execute_input": "2024-05-06T06:45:46.362945Z",
     "iopub.status.busy": "2024-05-06T06:45:46.362945Z",
     "iopub.status.idle": "2024-05-06T06:45:46.976562Z",
     "shell.execute_reply": "2024-05-06T06:45:46.975806Z",
     "shell.execute_reply.started": "2024-05-06T06:45:46.362945Z"
    },
    "tags": []
   },
   "outputs": [],
   "source": [
    "docs = vectordb.similarity_search(\n",
    "    question,\n",
    "    k=3,\n",
    "    filter={\"source\":\"docs/cs229_lectures/MachineLearning-Lecture02.pdf\"}\n",
    ")"
   ]
  },
  {
   "cell_type": "code",
   "execution_count": 19,
   "id": "97031876",
   "metadata": {
    "execution": {
     "iopub.execute_input": "2024-05-06T06:45:46.979568Z",
     "iopub.status.busy": "2024-05-06T06:45:46.978574Z",
     "iopub.status.idle": "2024-05-06T06:45:46.992586Z",
     "shell.execute_reply": "2024-05-06T06:45:46.991567Z",
     "shell.execute_reply.started": "2024-05-06T06:45:46.979568Z"
    },
    "tags": []
   },
   "outputs": [
    {
     "name": "stdout",
     "output_type": "stream",
     "text": [
      "{'page': 4, 'source': 'docs/cs229_lectures/MachineLearning-Lecture02.pdf'}\n",
      "{'page': 3, 'source': 'docs/cs229_lectures/MachineLearning-Lecture02.pdf'}\n",
      "{'page': 4, 'source': 'docs/cs229_lectures/MachineLearning-Lecture02.pdf'}\n"
     ]
    }
   ],
   "source": [
    "for d in docs:\n",
    "    print(d.metadata)"
   ]
  },
  {
   "cell_type": "code",
   "execution_count": null,
   "id": "2708f6ae",
   "metadata": {},
   "outputs": [],
   "source": []
  },
  {
   "cell_type": "markdown",
   "id": "ccc2d784",
   "metadata": {},
   "source": [
    "### Addressing Specificity: working with metadata using self-query retriever\n",
    "\n",
    "But we have an interesting challenge: we often want to infer the metadata from the query itself.\n",
    "\n",
    "To address this, we can use `SelfQueryRetriever`, which uses an LLM to extract:\n",
    " \n",
    "1. The `query` string to use for vector search\n",
    "2. A metadata filter to pass in as well\n",
    "\n",
    "Most vector databases support metadata filters, so this doesn't require any new databases or indexes."
   ]
  },
  {
   "cell_type": "code",
   "execution_count": 20,
   "id": "b1d06084",
   "metadata": {
    "execution": {
     "iopub.execute_input": "2024-05-06T06:45:49.508896Z",
     "iopub.status.busy": "2024-05-06T06:45:49.507902Z",
     "iopub.status.idle": "2024-05-06T06:45:50.894503Z",
     "shell.execute_reply": "2024-05-06T06:45:50.893503Z",
     "shell.execute_reply.started": "2024-05-06T06:45:49.508896Z"
    },
    "tags": []
   },
   "outputs": [],
   "source": [
    "from langchain.llms import OpenAI\n",
    "from langchain.retrievers.self_query.base import SelfQueryRetriever\n",
    "from langchain.chains.query_constructor.base import AttributeInfo"
   ]
  },
  {
   "cell_type": "code",
   "execution_count": 21,
   "id": "0aa5e698",
   "metadata": {
    "execution": {
     "iopub.execute_input": "2024-05-06T06:45:50.895504Z",
     "iopub.status.busy": "2024-05-06T06:45:50.895504Z",
     "iopub.status.idle": "2024-05-06T06:45:50.910821Z",
     "shell.execute_reply": "2024-05-06T06:45:50.909815Z",
     "shell.execute_reply.started": "2024-05-06T06:45:50.895504Z"
    },
    "tags": []
   },
   "outputs": [],
   "source": [
    "metadata_field_info = [\n",
    "    AttributeInfo(\n",
    "        name=\"source\",\n",
    "        description=\"The lecture the chunk is from, should be one of `docs/cs229_lectures/MachineLearning-Lecture01.pdf`, `docs/cs229_lectures/MachineLearning-Lecture02.pdf`, or `docs/cs229_lectures/MachineLearning-Lecture03.pdf`\",\n",
    "        type=\"string\",\n",
    "    ),\n",
    "    AttributeInfo(\n",
    "        name=\"page\",\n",
    "        description=\"The page from the lecture\",\n",
    "        type=\"integer\",\n",
    "    ),\n",
    "]"
   ]
  },
  {
   "cell_type": "markdown",
   "id": "0e143f05-908f-463d-a9de-408526c3947f",
   "metadata": {
    "tags": []
   },
   "source": [
    "**Note:** The default model for `OpenAI` (\"from langchain.llms import OpenAI\") is `text-davinci-003`. Due to the deprication of OpenAI's model `text-davinci-003` on 4 January 2024, you'll be using OpenAI's recommended replacement model `gpt-3.5-turbo-instruct` instead."
   ]
  },
  {
   "cell_type": "markdown",
   "id": "9213a58e-9ceb-4f91-b6c7-629ee7068998",
   "metadata": {},
   "source": [
    "Lark是一个Python库，用于构建语法解析器和抽象语法树。它可以处理任何现代编程语言的语法，并且可以处理大多数语法和语言特性。\n",
    "\n",
    "Lark提供了两种主要的解析算法：Earley和LALR，每种都有其优点。Earley解析器可以处理任何上下文无关语法，包括左递归的语法。LALR解析器则更快，更经济，但只能处理一部分上下文无关语法。\n",
    "\n",
    "Lark还提供了一种简洁的语法定义语言，使得定义新的语法变得非常简单。此外，Lark还提供了一些工具，如自动错误恢复和树转换，这些工具可以帮助你更容易地处理解析过程中的错误，以及更容易地处理解析后的结果。"
   ]
  },
  {
   "cell_type": "code",
   "execution_count": 22,
   "id": "14763cb5-fa63-41f3-b0b2-ab1173361662",
   "metadata": {
    "execution": {
     "iopub.execute_input": "2024-05-06T06:45:55.266982Z",
     "iopub.status.busy": "2024-05-06T06:45:55.265982Z",
     "iopub.status.idle": "2024-05-06T06:45:55.276766Z",
     "shell.execute_reply": "2024-05-06T06:45:55.276125Z",
     "shell.execute_reply.started": "2024-05-06T06:45:55.266982Z"
    }
   },
   "outputs": [],
   "source": [
    "#!pip install lark\n"
   ]
  },
  {
   "cell_type": "code",
   "execution_count": 23,
   "id": "fc9de693-7bdb-463e-b124-9f72163b0bd8",
   "metadata": {
    "execution": {
     "iopub.execute_input": "2024-05-06T06:45:55.771475Z",
     "iopub.status.busy": "2024-05-06T06:45:55.770476Z",
     "iopub.status.idle": "2024-05-06T06:45:55.844153Z",
     "shell.execute_reply": "2024-05-06T06:45:55.842594Z",
     "shell.execute_reply.started": "2024-05-06T06:45:55.771475Z"
    },
    "tags": []
   },
   "outputs": [],
   "source": [
    "document_content_description = \"Lecture notes\"\n",
    "# llm = OpenAI(model='gpt-3.5-turbo-instruct', temperature=0)\n",
    "llm = QianfanChatEndpoint(model=\"ERNIE-Bot-4\", temperature=0.01)\n",
    "retriever = SelfQueryRetriever.from_llm(\n",
    "    llm,\n",
    "    vectordb,\n",
    "    document_content_description,\n",
    "    metadata_field_info,\n",
    "    verbose=True\n",
    ")"
   ]
  },
  {
   "cell_type": "code",
   "execution_count": 24,
   "id": "79d781b9",
   "metadata": {
    "execution": {
     "iopub.execute_input": "2024-05-06T06:45:58.471599Z",
     "iopub.status.busy": "2024-05-06T06:45:58.471599Z",
     "iopub.status.idle": "2024-05-06T06:45:58.475602Z",
     "shell.execute_reply": "2024-05-06T06:45:58.475602Z",
     "shell.execute_reply.started": "2024-05-06T06:45:58.471599Z"
    },
    "tags": []
   },
   "outputs": [],
   "source": [
    "question = \"what did they say about regression in the third lecture?\""
   ]
  },
  {
   "cell_type": "markdown",
   "id": "c51778b0-1fcd-40a4-bd6b-0f13fec8acb1",
   "metadata": {},
   "source": [
    "**You will receive a warning** about predict_and_parse being deprecated the first time you executing the next line. This can be safely ignored."
   ]
  },
  {
   "cell_type": "code",
   "execution_count": 25,
   "id": "1d4f9f7d",
   "metadata": {
    "execution": {
     "iopub.execute_input": "2024-05-06T06:46:39.040911Z",
     "iopub.status.busy": "2024-05-06T06:46:39.040911Z",
     "iopub.status.idle": "2024-05-06T06:46:49.023185Z",
     "shell.execute_reply": "2024-05-06T06:46:49.022262Z",
     "shell.execute_reply.started": "2024-05-06T06:46:39.040911Z"
    },
    "tags": []
   },
   "outputs": [
    {
     "name": "stderr",
     "output_type": "stream",
     "text": [
      "C:\\Users\\xu6\\AppData\\Local\\miniconda3\\envs\\dev\\lib\\site-packages\\langchain_core\\_api\\deprecation.py:119: LangChainDeprecationWarning: The method `BaseRetriever.get_relevant_documents` was deprecated in langchain-core 0.1.46 and will be removed in 0.3.0. Use invoke instead.\n",
      "  warn_deprecated(\n"
     ]
    }
   ],
   "source": [
    "docs = retriever.get_relevant_documents(question)"
   ]
  },
  {
   "cell_type": "code",
   "execution_count": 26,
   "id": "db04374e",
   "metadata": {
    "execution": {
     "iopub.execute_input": "2024-05-06T06:46:50.634060Z",
     "iopub.status.busy": "2024-05-06T06:46:50.634060Z",
     "iopub.status.idle": "2024-05-06T06:46:50.639059Z",
     "shell.execute_reply": "2024-05-06T06:46:50.639059Z",
     "shell.execute_reply.started": "2024-05-06T06:46:50.634060Z"
    },
    "tags": []
   },
   "outputs": [
    {
     "name": "stdout",
     "output_type": "stream",
     "text": [
      "{'page': 2, 'source': 'docs/cs229_lectures/MachineLearning-Lecture03.pdf'}\n",
      "{'page': 15, 'source': 'docs/cs229_lectures/MachineLearning-Lecture03.pdf'}\n",
      "{'page': 3, 'source': 'docs/cs229_lectures/MachineLearning-Lecture03.pdf'}\n",
      "{'page': 2, 'source': 'docs/cs229_lectures/MachineLearning-Lecture03.pdf'}\n"
     ]
    }
   ],
   "source": [
    "for d in docs:\n",
    "    print(d.metadata)"
   ]
  },
  {
   "cell_type": "markdown",
   "id": "297b8168",
   "metadata": {},
   "source": [
    "### Additional tricks: compression\n",
    "\n",
    "Another approach for improving the quality of retrieved docs is compression.\n",
    "\n",
    "Information most relevant to a query may be buried in a document with a lot of irrelevant text. \n",
    "\n",
    "Passing that full document through your application can lead to more expensive LLM calls and poorer responses.\n",
    "\n",
    "Contextual compression is meant to fix this. "
   ]
  },
  {
   "cell_type": "code",
   "execution_count": 27,
   "id": "a060cf74",
   "metadata": {
    "execution": {
     "iopub.execute_input": "2024-05-06T06:54:45.601339Z",
     "iopub.status.busy": "2024-05-06T06:54:45.600349Z",
     "iopub.status.idle": "2024-05-06T06:54:45.620415Z",
     "shell.execute_reply": "2024-05-06T06:54:45.619421Z",
     "shell.execute_reply.started": "2024-05-06T06:54:45.601339Z"
    },
    "tags": []
   },
   "outputs": [],
   "source": [
    "from langchain.retrievers import ContextualCompressionRetriever\n",
    "from langchain.retrievers.document_compressors import LLMChainExtractor"
   ]
  },
  {
   "cell_type": "code",
   "execution_count": 28,
   "id": "038649c8",
   "metadata": {
    "execution": {
     "iopub.execute_input": "2024-05-06T06:54:46.308888Z",
     "iopub.status.busy": "2024-05-06T06:54:46.308888Z",
     "iopub.status.idle": "2024-05-06T06:54:46.325596Z",
     "shell.execute_reply": "2024-05-06T06:54:46.324596Z",
     "shell.execute_reply.started": "2024-05-06T06:54:46.308888Z"
    },
    "tags": []
   },
   "outputs": [],
   "source": [
    "def pretty_print_docs(docs):\n",
    "    print(f\"\\n{'-' * 100}\\n\".join([f\"Document {i+1}:\\n\\n\" + d.page_content for i, d in enumerate(docs)]))\n"
   ]
  },
  {
   "cell_type": "code",
   "execution_count": 29,
   "id": "fc686cf2",
   "metadata": {
    "execution": {
     "iopub.execute_input": "2024-05-06T06:55:06.593405Z",
     "iopub.status.busy": "2024-05-06T06:55:06.592406Z",
     "iopub.status.idle": "2024-05-06T06:55:06.602406Z",
     "shell.execute_reply": "2024-05-06T06:55:06.600404Z",
     "shell.execute_reply.started": "2024-05-06T06:55:06.593405Z"
    },
    "tags": []
   },
   "outputs": [],
   "source": [
    "# Wrap our vectorstore\n",
    "# llm = OpenAI(temperature=0, model=\"gpt-3.5-turbo-instruct\")\n",
    "llm = QianfanChatEndpoint(model=\"ERNIE-Bot-4\", temperature=0.01)\n",
    "compressor = LLMChainExtractor.from_llm(llm)"
   ]
  },
  {
   "cell_type": "code",
   "execution_count": 30,
   "id": "82794397",
   "metadata": {
    "execution": {
     "iopub.execute_input": "2024-05-06T06:55:15.204034Z",
     "iopub.status.busy": "2024-05-06T06:55:15.204034Z",
     "iopub.status.idle": "2024-05-06T06:55:15.219040Z",
     "shell.execute_reply": "2024-05-06T06:55:15.218046Z",
     "shell.execute_reply.started": "2024-05-06T06:55:15.204034Z"
    },
    "tags": []
   },
   "outputs": [],
   "source": [
    "compression_retriever = ContextualCompressionRetriever(\n",
    "    base_compressor=compressor,\n",
    "    base_retriever=vectordb.as_retriever()\n",
    ")"
   ]
  },
  {
   "cell_type": "code",
   "execution_count": 31,
   "id": "cde86848",
   "metadata": {
    "execution": {
     "iopub.execute_input": "2024-05-06T06:55:15.933832Z",
     "iopub.status.busy": "2024-05-06T06:55:15.933832Z",
     "iopub.status.idle": "2024-05-06T06:55:37.937208Z",
     "shell.execute_reply": "2024-05-06T06:55:37.935425Z",
     "shell.execute_reply.started": "2024-05-06T06:55:15.933832Z"
    },
    "tags": []
   },
   "outputs": [
    {
     "name": "stderr",
     "output_type": "stream",
     "text": [
      "C:\\Users\\xu6\\AppData\\Local\\miniconda3\\envs\\dev\\lib\\site-packages\\langchain\\chains\\llm.py:339: UserWarning: The predict_and_parse method is deprecated, instead pass an output parser directly to LLMChain.\n",
      "  warnings.warn(\n",
      "C:\\Users\\xu6\\AppData\\Local\\miniconda3\\envs\\dev\\lib\\site-packages\\langchain\\chains\\llm.py:339: UserWarning: The predict_and_parse method is deprecated, instead pass an output parser directly to LLMChain.\n",
      "  warnings.warn(\n",
      "C:\\Users\\xu6\\AppData\\Local\\miniconda3\\envs\\dev\\lib\\site-packages\\langchain\\chains\\llm.py:339: UserWarning: The predict_and_parse method is deprecated, instead pass an output parser directly to LLMChain.\n",
      "  warnings.warn(\n",
      "C:\\Users\\xu6\\AppData\\Local\\miniconda3\\envs\\dev\\lib\\site-packages\\langchain\\chains\\llm.py:339: UserWarning: The predict_and_parse method is deprecated, instead pass an output parser directly to LLMChain.\n",
      "  warnings.warn(\n"
     ]
    },
    {
     "name": "stdout",
     "output_type": "stream",
     "text": [
      "Document 1:\n",
      "\n",
      "MATLAB is I guess part of the programming language that makes it very easy to write codes using matrices, to write code for numerical routines, to move data around, to plot data. And it's sort of an extremely easy to learn tool to use for implementing a lot of learning algorithms.\n",
      "----------------------------------------------------------------------------------------------------\n",
      "Document 2:\n",
      "\n",
      "MATLAB is I guess part of the programming language that makes it very easy to write codes using matrices, to write code for numerical routines, to move data around, to plot data. And it's sort of an extremely easy to learn tool to use for implementing a lot of learning algorithms.\n"
     ]
    }
   ],
   "source": [
    "question = \"what did they say about matlab?\"\n",
    "compressed_docs = compression_retriever.get_relevant_documents(question)\n",
    "pretty_print_docs(compressed_docs)"
   ]
  },
  {
   "cell_type": "markdown",
   "id": "82c4fc4d",
   "metadata": {},
   "source": [
    "## Combining various techniques"
   ]
  },
  {
   "cell_type": "code",
   "execution_count": 32,
   "id": "161ae1ad",
   "metadata": {
    "execution": {
     "iopub.execute_input": "2024-05-06T06:56:02.995348Z",
     "iopub.status.busy": "2024-05-06T06:56:02.995348Z",
     "iopub.status.idle": "2024-05-06T06:56:03.001760Z",
     "shell.execute_reply": "2024-05-06T06:56:03.001657Z",
     "shell.execute_reply.started": "2024-05-06T06:56:02.995348Z"
    },
    "tags": []
   },
   "outputs": [],
   "source": [
    "compression_retriever = ContextualCompressionRetriever(\n",
    "    base_compressor=compressor,\n",
    "    base_retriever=vectordb.as_retriever(search_type = \"mmr\")\n",
    ")"
   ]
  },
  {
   "cell_type": "code",
   "execution_count": 33,
   "id": "e77ccae1",
   "metadata": {
    "execution": {
     "iopub.execute_input": "2024-05-06T06:56:03.624964Z",
     "iopub.status.busy": "2024-05-06T06:56:03.623963Z",
     "iopub.status.idle": "2024-05-06T06:56:10.167727Z",
     "shell.execute_reply": "2024-05-06T06:56:10.166727Z",
     "shell.execute_reply.started": "2024-05-06T06:56:03.623963Z"
    },
    "tags": []
   },
   "outputs": [
    {
     "name": "stderr",
     "output_type": "stream",
     "text": [
      "C:\\Users\\xu6\\AppData\\Local\\miniconda3\\envs\\dev\\lib\\site-packages\\langchain\\chains\\llm.py:339: UserWarning: The predict_and_parse method is deprecated, instead pass an output parser directly to LLMChain.\n",
      "  warnings.warn(\n",
      "C:\\Users\\xu6\\AppData\\Local\\miniconda3\\envs\\dev\\lib\\site-packages\\langchain\\chains\\llm.py:339: UserWarning: The predict_and_parse method is deprecated, instead pass an output parser directly to LLMChain.\n",
      "  warnings.warn(\n",
      "C:\\Users\\xu6\\AppData\\Local\\miniconda3\\envs\\dev\\lib\\site-packages\\langchain\\chains\\llm.py:339: UserWarning: The predict_and_parse method is deprecated, instead pass an output parser directly to LLMChain.\n",
      "  warnings.warn(\n",
      "C:\\Users\\xu6\\AppData\\Local\\miniconda3\\envs\\dev\\lib\\site-packages\\langchain\\chains\\llm.py:339: UserWarning: The predict_and_parse method is deprecated, instead pass an output parser directly to LLMChain.\n",
      "  warnings.warn(\n"
     ]
    },
    {
     "name": "stdout",
     "output_type": "stream",
     "text": [
      "\n"
     ]
    }
   ],
   "source": [
    "question = \"what did they say about matlab?\"\n",
    "compressed_docs = compression_retriever.get_relevant_documents(question)\n",
    "pretty_print_docs(compressed_docs)"
   ]
  },
  {
   "cell_type": "markdown",
   "id": "6c2b63e1",
   "metadata": {},
   "source": [
    "## Other types of retrieval\n",
    "\n",
    "It's worth noting that vectordb as not the only kind of tool to retrieve documents. \n",
    "\n",
    "The `LangChain` retriever abstraction includes other ways to retrieve documents, such as TF-IDF or SVM."
   ]
  },
  {
   "cell_type": "code",
   "execution_count": 34,
   "id": "83d2e808",
   "metadata": {
    "execution": {
     "iopub.execute_input": "2024-05-06T06:56:23.062826Z",
     "iopub.status.busy": "2024-05-06T06:56:23.061828Z",
     "iopub.status.idle": "2024-05-06T06:56:23.099220Z",
     "shell.execute_reply": "2024-05-06T06:56:23.098220Z",
     "shell.execute_reply.started": "2024-05-06T06:56:23.062826Z"
    },
    "tags": []
   },
   "outputs": [],
   "source": [
    "from langchain.retrievers import SVMRetriever\n",
    "from langchain.retrievers import TFIDFRetriever\n",
    "from langchain.document_loaders import PyPDFLoader\n",
    "from langchain.text_splitter import RecursiveCharacterTextSplitter"
   ]
  },
  {
   "cell_type": "code",
   "execution_count": 39,
   "id": "bcf5b760",
   "metadata": {
    "execution": {
     "iopub.execute_input": "2024-05-06T07:39:50.612940Z",
     "iopub.status.busy": "2024-05-06T07:39:50.605422Z",
     "iopub.status.idle": "2024-05-06T07:39:51.052471Z",
     "shell.execute_reply": "2024-05-06T07:39:51.051472Z",
     "shell.execute_reply.started": "2024-05-06T07:39:50.612940Z"
    },
    "tags": []
   },
   "outputs": [],
   "source": [
    "# Load PDF\n",
    "loader = PyPDFLoader(\"docs/cs229_lectures/MachineLearning-Lecture01.pdf\")\n",
    "pages = loader.load()\n",
    "all_page_text=[p.page_content for p in pages]\n",
    "joined_page_text=\" \".join(all_page_text)\n",
    "\n",
    "# Split\n",
    "# text_splitter = RecursiveCharacterTextSplitter(chunk_size = 1500,chunk_overlap = 150)\n",
    "text_splitter = RecursiveCharacterTextSplitter(chunk_size = 999,chunk_overlap = 150)\n",
    "splits = text_splitter.split_text(joined_page_text)\n"
   ]
  },
  {
   "cell_type": "code",
   "execution_count": 40,
   "id": "9bb0d781",
   "metadata": {
    "execution": {
     "iopub.execute_input": "2024-05-06T07:39:53.865085Z",
     "iopub.status.busy": "2024-05-06T07:39:53.865085Z",
     "iopub.status.idle": "2024-05-06T07:40:09.070559Z",
     "shell.execute_reply": "2024-05-06T07:40:09.068558Z",
     "shell.execute_reply.started": "2024-05-06T07:39:53.865085Z"
    },
    "scrolled": true,
    "tags": []
   },
   "outputs": [
    {
     "name": "stderr",
     "output_type": "stream",
     "text": [
      "[ERROR] [05-06 15:39:56] openapi_requestor.py:246 [t:41304]: api request req_id:  failed with error code: 18, err msg: Open api qps request limit reached, please check https://cloud.baidu.com/doc/WENXINWORKSHOP/s/tlmyncueh\n",
      "[ERROR] [05-06 15:39:56] openapi_requestor.py:246 [t:54684]: api request req_id:  failed with error code: 18, err msg: Open api qps request limit reached, please check https://cloud.baidu.com/doc/WENXINWORKSHOP/s/tlmyncueh\n",
      "[ERROR] [05-06 15:39:56] openapi_requestor.py:246 [t:48688]: api request req_id:  failed with error code: 18, err msg: Open api qps request limit reached, please check https://cloud.baidu.com/doc/WENXINWORKSHOP/s/tlmyncueh\n",
      "[ERROR] [05-06 15:39:56] openapi_requestor.py:246 [t:10588]: api request req_id:  failed with error code: 18, err msg: Open api qps request limit reached, please check https://cloud.baidu.com/doc/WENXINWORKSHOP/s/tlmyncueh\n",
      "[WARNING] [05-06 15:39:56] base.py:347 [t:41304]: got error code 18 from server, retrying... \n",
      "[ERROR] [05-06 15:39:56] openapi_requestor.py:246 [t:54696]: api request req_id:  failed with error code: 18, err msg: Open api qps request limit reached, please check https://cloud.baidu.com/doc/WENXINWORKSHOP/s/tlmyncueh\n",
      "[ERROR] [05-06 15:39:56] openapi_requestor.py:246 [t:47448]: api request req_id:  failed with error code: 18, err msg: Open api qps request limit reached, please check https://cloud.baidu.com/doc/WENXINWORKSHOP/s/tlmyncueh\n",
      "[WARNING] [05-06 15:39:56] base.py:347 [t:54684]: got error code 18 from server, retrying... \n",
      "[WARNING] [05-06 15:39:56] base.py:347 [t:48688]: got error code 18 from server, retrying... \n",
      "[WARNING] [05-06 15:39:56] base.py:347 [t:10588]: got error code 18 from server, retrying... \n",
      "[WARNING] [05-06 15:39:56] base.py:347 [t:54696]: got error code 18 from server, retrying... \n",
      "[ERROR] [05-06 15:39:56] openapi_requestor.py:246 [t:55092]: api request req_id:  failed with error code: 18, err msg: Open api qps request limit reached, please check https://cloud.baidu.com/doc/WENXINWORKSHOP/s/tlmyncueh\n",
      "[ERROR] [05-06 15:39:56] openapi_requestor.py:246 [t:30276]: api request req_id:  failed with error code: 18, err msg: Open api qps request limit reached, please check https://cloud.baidu.com/doc/WENXINWORKSHOP/s/tlmyncueh\n",
      "[WARNING] [05-06 15:39:56] base.py:347 [t:47448]: got error code 18 from server, retrying... \n",
      "[ERROR] [05-06 15:39:56] openapi_requestor.py:246 [t:56252]: api request req_id:  failed with error code: 18, err msg: Open api qps request limit reached, please check https://cloud.baidu.com/doc/WENXINWORKSHOP/s/tlmyncueh\n",
      "[WARNING] [05-06 15:39:56] base.py:347 [t:55092]: got error code 18 from server, retrying... \n",
      "[WARNING] [05-06 15:39:56] base.py:347 [t:30276]: got error code 18 from server, retrying... \n",
      "[WARNING] [05-06 15:39:56] base.py:347 [t:56252]: got error code 18 from server, retrying... \n",
      "[ERROR] [05-06 15:39:56] openapi_requestor.py:246 [t:51852]: api request req_id:  failed with error code: 18, err msg: Open api qps request limit reached, please check https://cloud.baidu.com/doc/WENXINWORKSHOP/s/tlmyncueh\n",
      "[WARNING] [05-06 15:39:56] base.py:347 [t:51852]: got error code 18 from server, retrying... \n",
      "[ERROR] [05-06 15:39:56] openapi_requestor.py:246 [t:58600]: api request req_id:  failed with error code: 18, err msg: Open api qps request limit reached, please check https://cloud.baidu.com/doc/WENXINWORKSHOP/s/tlmyncueh\n",
      "[ERROR] [05-06 15:39:56] openapi_requestor.py:246 [t:36872]: api request req_id:  failed with error code: 18, err msg: Open api qps request limit reached, please check https://cloud.baidu.com/doc/WENXINWORKSHOP/s/tlmyncueh\n",
      "[WARNING] [05-06 15:39:56] base.py:347 [t:58600]: got error code 18 from server, retrying... \n",
      "[WARNING] [05-06 15:39:56] base.py:347 [t:36872]: got error code 18 from server, retrying... \n",
      "[ERROR] [05-06 15:39:56] openapi_requestor.py:246 [t:44824]: api request req_id:  failed with error code: 18, err msg: Open api qps request limit reached, please check https://cloud.baidu.com/doc/WENXINWORKSHOP/s/tlmyncueh\n",
      "[ERROR] [05-06 15:39:56] openapi_requestor.py:246 [t:57900]: api request req_id:  failed with error code: 18, err msg: Open api qps request limit reached, please check https://cloud.baidu.com/doc/WENXINWORKSHOP/s/tlmyncueh\n",
      "[ERROR] [05-06 15:39:56] openapi_requestor.py:246 [t:54308]: api request req_id:  failed with error code: 18, err msg: Open api qps request limit reached, please check https://cloud.baidu.com/doc/WENXINWORKSHOP/s/tlmyncueh\n",
      "[WARNING] [05-06 15:39:56] base.py:347 [t:44824]: got error code 18 from server, retrying... \n",
      "[WARNING] [05-06 15:39:56] base.py:347 [t:57900]: got error code 18 from server, retrying... \n",
      "[WARNING] [05-06 15:39:56] base.py:347 [t:54308]: got error code 18 from server, retrying... \n",
      "[ERROR] [05-06 15:39:57] openapi_requestor.py:246 [t:58428]: api request req_id:  failed with error code: 18, err msg: Open api qps request limit reached, please check https://cloud.baidu.com/doc/WENXINWORKSHOP/s/tlmyncueh\n",
      "[WARNING] [05-06 15:39:57] base.py:347 [t:58428]: got error code 18 from server, retrying... \n",
      "[ERROR] [05-06 15:39:57] openapi_requestor.py:246 [t:54972]: api request req_id:  failed with error code: 18, err msg: Open api qps request limit reached, please check https://cloud.baidu.com/doc/WENXINWORKSHOP/s/tlmyncueh\n",
      "[WARNING] [05-06 15:39:57] base.py:347 [t:54972]: got error code 18 from server, retrying... \n",
      "[ERROR] [05-06 15:39:57] openapi_requestor.py:246 [t:31292]: api request req_id:  failed with error code: 18, err msg: Open api qps request limit reached, please check https://cloud.baidu.com/doc/WENXINWORKSHOP/s/tlmyncueh\n",
      "[WARNING] [05-06 15:39:57] base.py:347 [t:31292]: got error code 18 from server, retrying... \n",
      "[ERROR] [05-06 15:39:57] openapi_requestor.py:246 [t:47976]: api request req_id:  failed with error code: 18, err msg: Open api qps request limit reached, please check https://cloud.baidu.com/doc/WENXINWORKSHOP/s/tlmyncueh\n",
      "[WARNING] [05-06 15:39:57] base.py:347 [t:47976]: got error code 18 from server, retrying... \n",
      "[ERROR] [05-06 15:39:57] openapi_requestor.py:246 [t:57816]: api request req_id:  failed with error code: 18, err msg: Open api qps request limit reached, please check https://cloud.baidu.com/doc/WENXINWORKSHOP/s/tlmyncueh\n",
      "[WARNING] [05-06 15:39:57] base.py:347 [t:57816]: got error code 18 from server, retrying... \n",
      "[ERROR] [05-06 15:39:58] openapi_requestor.py:246 [t:10588]: api request req_id:  failed with error code: 18, err msg: Open api qps request limit reached, please check https://cloud.baidu.com/doc/WENXINWORKSHOP/s/tlmyncueh\n",
      "[WARNING] [05-06 15:39:58] base.py:347 [t:10588]: got error code 18 from server, retrying... \n",
      "[ERROR] [05-06 15:39:58] openapi_requestor.py:246 [t:48688]: api request req_id:  failed with error code: 18, err msg: Open api qps request limit reached, please check https://cloud.baidu.com/doc/WENXINWORKSHOP/s/tlmyncueh\n",
      "[WARNING] [05-06 15:39:58] base.py:347 [t:48688]: got error code 18 from server, retrying... \n",
      "[ERROR] [05-06 15:39:58] openapi_requestor.py:246 [t:55092]: api request req_id:  failed with error code: 18, err msg: Open api qps request limit reached, please check https://cloud.baidu.com/doc/WENXINWORKSHOP/s/tlmyncueh\n",
      "[WARNING] [05-06 15:39:58] base.py:347 [t:55092]: got error code 18 from server, retrying... \n",
      "[ERROR] [05-06 15:39:58] openapi_requestor.py:246 [t:30276]: api request req_id:  failed with error code: 18, err msg: Open api qps request limit reached, please check https://cloud.baidu.com/doc/WENXINWORKSHOP/s/tlmyncueh\n",
      "[WARNING] [05-06 15:39:58] base.py:347 [t:30276]: got error code 18 from server, retrying... \n",
      "[ERROR] [05-06 15:39:58] openapi_requestor.py:246 [t:54696]: api request req_id:  failed with error code: 18, err msg: Open api qps request limit reached, please check https://cloud.baidu.com/doc/WENXINWORKSHOP/s/tlmyncueh\n",
      "[WARNING] [05-06 15:39:58] base.py:347 [t:54696]: got error code 18 from server, retrying... \n",
      "[ERROR] [05-06 15:39:58] openapi_requestor.py:246 [t:44824]: api request req_id:  failed with error code: 18, err msg: Open api qps request limit reached, please check https://cloud.baidu.com/doc/WENXINWORKSHOP/s/tlmyncueh\n",
      "[WARNING] [05-06 15:39:58] base.py:347 [t:44824]: got error code 18 from server, retrying... \n",
      "[ERROR] [05-06 15:39:58] openapi_requestor.py:246 [t:57900]: api request req_id:  failed with error code: 18, err msg: Open api qps request limit reached, please check https://cloud.baidu.com/doc/WENXINWORKSHOP/s/tlmyncueh\n",
      "[WARNING] [05-06 15:39:58] base.py:347 [t:57900]: got error code 18 from server, retrying... \n",
      "[ERROR] [05-06 15:39:59] openapi_requestor.py:246 [t:47448]: api request req_id:  failed with error code: 18, err msg: Open api qps request limit reached, please check https://cloud.baidu.com/doc/WENXINWORKSHOP/s/tlmyncueh\n",
      "[WARNING] [05-06 15:39:59] base.py:347 [t:47448]: got error code 18 from server, retrying... \n",
      "[ERROR] [05-06 15:39:59] openapi_requestor.py:246 [t:47976]: api request req_id:  failed with error code: 18, err msg: Open api qps request limit reached, please check https://cloud.baidu.com/doc/WENXINWORKSHOP/s/tlmyncueh\n",
      "[WARNING] [05-06 15:39:59] base.py:347 [t:47976]: got error code 18 from server, retrying... \n",
      "[ERROR] [05-06 15:39:59] openapi_requestor.py:246 [t:56252]: api request req_id:  failed with error code: 18, err msg: Open api qps request limit reached, please check https://cloud.baidu.com/doc/WENXINWORKSHOP/s/tlmyncueh\n",
      "[WARNING] [05-06 15:39:59] base.py:347 [t:56252]: got error code 18 from server, retrying... \n",
      "[ERROR] [05-06 15:39:59] openapi_requestor.py:246 [t:41304]: api request req_id:  failed with error code: 18, err msg: Open api qps request limit reached, please check https://cloud.baidu.com/doc/WENXINWORKSHOP/s/tlmyncueh\n",
      "[WARNING] [05-06 15:39:59] base.py:347 [t:41304]: got error code 18 from server, retrying... \n",
      "[ERROR] [05-06 15:39:59] openapi_requestor.py:246 [t:36872]: api request req_id:  failed with error code: 18, err msg: Open api qps request limit reached, please check https://cloud.baidu.com/doc/WENXINWORKSHOP/s/tlmyncueh\n",
      "[WARNING] [05-06 15:39:59] base.py:347 [t:36872]: got error code 18 from server, retrying... \n",
      "[ERROR] [05-06 15:39:59] openapi_requestor.py:246 [t:57816]: api request req_id:  failed with error code: 18, err msg: Open api qps request limit reached, please check https://cloud.baidu.com/doc/WENXINWORKSHOP/s/tlmyncueh\n",
      "[WARNING] [05-06 15:39:59] base.py:347 [t:57816]: got error code 18 from server, retrying... \n",
      "[ERROR] [05-06 15:39:59] openapi_requestor.py:246 [t:58428]: api request req_id:  failed with error code: 18, err msg: Open api qps request limit reached, please check https://cloud.baidu.com/doc/WENXINWORKSHOP/s/tlmyncueh\n",
      "[WARNING] [05-06 15:39:59] base.py:347 [t:58428]: got error code 18 from server, retrying... \n",
      "[ERROR] [05-06 15:39:59] openapi_requestor.py:246 [t:58600]: api request req_id:  failed with error code: 18, err msg: Open api qps request limit reached, please check https://cloud.baidu.com/doc/WENXINWORKSHOP/s/tlmyncueh\n",
      "[WARNING] [05-06 15:39:59] base.py:347 [t:58600]: got error code 18 from server, retrying... \n",
      "[ERROR] [05-06 15:40:00] openapi_requestor.py:246 [t:54684]: api request req_id:  failed with error code: 18, err msg: Open api qps request limit reached, please check https://cloud.baidu.com/doc/WENXINWORKSHOP/s/tlmyncueh\n",
      "[WARNING] [05-06 15:40:00] base.py:347 [t:54684]: got error code 18 from server, retrying... \n",
      "[ERROR] [05-06 15:40:00] openapi_requestor.py:246 [t:51852]: api request req_id:  failed with error code: 18, err msg: Open api qps request limit reached, please check https://cloud.baidu.com/doc/WENXINWORKSHOP/s/tlmyncueh\n",
      "[WARNING] [05-06 15:40:00] base.py:347 [t:51852]: got error code 18 from server, retrying... \n",
      "[ERROR] [05-06 15:40:00] openapi_requestor.py:246 [t:44824]: api request req_id:  failed with error code: 18, err msg: Open api qps request limit reached, please check https://cloud.baidu.com/doc/WENXINWORKSHOP/s/tlmyncueh\n",
      "[WARNING] [05-06 15:40:00] base.py:347 [t:44824]: got error code 18 from server, retrying... \n",
      "[ERROR] [05-06 15:40:00] openapi_requestor.py:246 [t:55092]: api request req_id:  failed with error code: 18, err msg: Open api qps request limit reached, please check https://cloud.baidu.com/doc/WENXINWORKSHOP/s/tlmyncueh\n",
      "[WARNING] [05-06 15:40:00] base.py:347 [t:55092]: got error code 18 from server, retrying... \n",
      "[ERROR] [05-06 15:40:00] openapi_requestor.py:246 [t:54696]: api request req_id:  failed with error code: 18, err msg: Open api qps request limit reached, please check https://cloud.baidu.com/doc/WENXINWORKSHOP/s/tlmyncueh\n",
      "[WARNING] [05-06 15:40:00] base.py:347 [t:54696]: got error code 18 from server, retrying... \n",
      "[ERROR] [05-06 15:40:00] openapi_requestor.py:246 [t:54308]: api request req_id:  failed with error code: 18, err msg: Open api qps request limit reached, please check https://cloud.baidu.com/doc/WENXINWORKSHOP/s/tlmyncueh\n",
      "[WARNING] [05-06 15:40:00] base.py:347 [t:54308]: got error code 18 from server, retrying... \n",
      "[ERROR] [05-06 15:40:00] openapi_requestor.py:246 [t:57900]: api request req_id:  failed with error code: 18, err msg: Open api qps request limit reached, please check https://cloud.baidu.com/doc/WENXINWORKSHOP/s/tlmyncueh\n",
      "[WARNING] [05-06 15:40:00] base.py:347 [t:57900]: got error code 18 from server, retrying... \n",
      "[ERROR] [05-06 15:40:00] openapi_requestor.py:246 [t:30276]: api request req_id:  failed with error code: 18, err msg: Open api qps request limit reached, please check https://cloud.baidu.com/doc/WENXINWORKSHOP/s/tlmyncueh\n",
      "[WARNING] [05-06 15:40:00] base.py:347 [t:30276]: got error code 18 from server, retrying... \n",
      "[ERROR] [05-06 15:40:00] openapi_requestor.py:246 [t:54972]: api request req_id:  failed with error code: 18, err msg: Open api qps request limit reached, please check https://cloud.baidu.com/doc/WENXINWORKSHOP/s/tlmyncueh\n",
      "[WARNING] [05-06 15:40:00] base.py:347 [t:54972]: got error code 18 from server, retrying... \n",
      "[ERROR] [05-06 15:40:00] openapi_requestor.py:246 [t:47448]: api request req_id:  failed with error code: 18, err msg: Open api qps request limit reached, please check https://cloud.baidu.com/doc/WENXINWORKSHOP/s/tlmyncueh\n",
      "[WARNING] [05-06 15:40:00] base.py:347 [t:47448]: got error code 18 from server, retrying... \n",
      "[ERROR] [05-06 15:40:00] openapi_requestor.py:246 [t:31292]: api request req_id:  failed with error code: 18, err msg: Open api qps request limit reached, please check https://cloud.baidu.com/doc/WENXINWORKSHOP/s/tlmyncueh\n",
      "[WARNING] [05-06 15:40:00] base.py:347 [t:31292]: got error code 18 from server, retrying... \n",
      "[ERROR] [05-06 15:40:01] openapi_requestor.py:246 [t:10588]: api request req_id:  failed with error code: 18, err msg: Open api qps request limit reached, please check https://cloud.baidu.com/doc/WENXINWORKSHOP/s/tlmyncueh\n",
      "[WARNING] [05-06 15:40:01] base.py:347 [t:10588]: got error code 18 from server, retrying... \n",
      "[ERROR] [05-06 15:40:01] openapi_requestor.py:246 [t:41304]: api request req_id:  failed with error code: 18, err msg: Open api qps request limit reached, please check https://cloud.baidu.com/doc/WENXINWORKSHOP/s/tlmyncueh\n",
      "[WARNING] [05-06 15:40:01] base.py:347 [t:41304]: got error code 18 from server, retrying... \n",
      "[ERROR] [05-06 15:40:01] openapi_requestor.py:246 [t:57816]: api request req_id:  failed with error code: 18, err msg: Open api qps request limit reached, please check https://cloud.baidu.com/doc/WENXINWORKSHOP/s/tlmyncueh\n",
      "[WARNING] [05-06 15:40:01] base.py:347 [t:57816]: got error code 18 from server, retrying... \n",
      "[ERROR] [05-06 15:40:01] openapi_requestor.py:246 [t:47976]: api request req_id:  failed with error code: 18, err msg: Open api qps request limit reached, please check https://cloud.baidu.com/doc/WENXINWORKSHOP/s/tlmyncueh\n",
      "[WARNING] [05-06 15:40:01] base.py:347 [t:47976]: got error code 18 from server, retrying... \n",
      "[ERROR] [05-06 15:40:01] openapi_requestor.py:246 [t:10588]: api request req_id:  failed with error code: 18, err msg: Open api qps request limit reached, please check https://cloud.baidu.com/doc/WENXINWORKSHOP/s/tlmyncueh\n",
      "[WARNING] [05-06 15:40:01] base.py:347 [t:10588]: got error code 18 from server, retrying... \n",
      "[ERROR] [05-06 15:40:02] openapi_requestor.py:246 [t:54308]: api request req_id:  failed with error code: 18, err msg: Open api qps request limit reached, please check https://cloud.baidu.com/doc/WENXINWORKSHOP/s/tlmyncueh\n",
      "[WARNING] [05-06 15:40:02] base.py:347 [t:54308]: got error code 18 from server, retrying... \n",
      "[ERROR] [05-06 15:40:02] openapi_requestor.py:246 [t:58428]: api request req_id:  failed with error code: 18, err msg: Open api qps request limit reached, please check https://cloud.baidu.com/doc/WENXINWORKSHOP/s/tlmyncueh\n",
      "[WARNING] [05-06 15:40:02] base.py:347 [t:58428]: got error code 18 from server, retrying... \n",
      "[ERROR] [05-06 15:40:02] openapi_requestor.py:246 [t:54696]: api request req_id:  failed with error code: 18, err msg: Open api qps request limit reached, please check https://cloud.baidu.com/doc/WENXINWORKSHOP/s/tlmyncueh\n",
      "[WARNING] [05-06 15:40:02] base.py:347 [t:54696]: got error code 18 from server, retrying... \n",
      "[ERROR] [05-06 15:40:02] openapi_requestor.py:246 [t:57900]: api request req_id:  failed with error code: 18, err msg: Open api qps request limit reached, please check https://cloud.baidu.com/doc/WENXINWORKSHOP/s/tlmyncueh\n",
      "[WARNING] [05-06 15:40:02] base.py:347 [t:57900]: got error code 18 from server, retrying... \n",
      "[ERROR] [05-06 15:40:02] openapi_requestor.py:246 [t:48688]: api request req_id:  failed with error code: 18, err msg: Open api qps request limit reached, please check https://cloud.baidu.com/doc/WENXINWORKSHOP/s/tlmyncueh\n",
      "[WARNING] [05-06 15:40:02] base.py:347 [t:48688]: got error code 18 from server, retrying... \n",
      "[ERROR] [05-06 15:40:02] openapi_requestor.py:246 [t:47976]: api request req_id:  failed with error code: 18, err msg: Open api qps request limit reached, please check https://cloud.baidu.com/doc/WENXINWORKSHOP/s/tlmyncueh\n",
      "[WARNING] [05-06 15:40:02] base.py:347 [t:47976]: got error code 18 from server, retrying... \n",
      "[ERROR] [05-06 15:40:02] openapi_requestor.py:246 [t:56252]: api request req_id:  failed with error code: 18, err msg: Open api qps request limit reached, please check https://cloud.baidu.com/doc/WENXINWORKSHOP/s/tlmyncueh\n",
      "[WARNING] [05-06 15:40:02] base.py:347 [t:56252]: got error code 18 from server, retrying... \n",
      "[ERROR] [05-06 15:40:02] openapi_requestor.py:246 [t:58428]: api request req_id:  failed with error code: 18, err msg: Open api qps request limit reached, please check https://cloud.baidu.com/doc/WENXINWORKSHOP/s/tlmyncueh\n",
      "[WARNING] [05-06 15:40:02] base.py:347 [t:58428]: got error code 18 from server, retrying... \n",
      "[ERROR] [05-06 15:40:02] openapi_requestor.py:246 [t:58600]: api request req_id:  failed with error code: 18, err msg: Open api qps request limit reached, please check https://cloud.baidu.com/doc/WENXINWORKSHOP/s/tlmyncueh\n",
      "[WARNING] [05-06 15:40:02] base.py:347 [t:58600]: got error code 18 from server, retrying... \n",
      "[ERROR] [05-06 15:40:02] openapi_requestor.py:246 [t:54972]: api request req_id:  failed with error code: 18, err msg: Open api qps request limit reached, please check https://cloud.baidu.com/doc/WENXINWORKSHOP/s/tlmyncueh\n",
      "[WARNING] [05-06 15:40:02] base.py:347 [t:54972]: got error code 18 from server, retrying... \n",
      "[ERROR] [05-06 15:40:03] openapi_requestor.py:246 [t:44824]: api request req_id:  failed with error code: 18, err msg: Open api qps request limit reached, please check https://cloud.baidu.com/doc/WENXINWORKSHOP/s/tlmyncueh\n",
      "[WARNING] [05-06 15:40:03] base.py:347 [t:44824]: got error code 18 from server, retrying... \n",
      "[ERROR] [05-06 15:40:03] openapi_requestor.py:246 [t:36872]: api request req_id:  failed with error code: 18, err msg: Open api qps request limit reached, please check https://cloud.baidu.com/doc/WENXINWORKSHOP/s/tlmyncueh\n",
      "[WARNING] [05-06 15:40:03] base.py:347 [t:36872]: got error code 18 from server, retrying... \n",
      "[ERROR] [05-06 15:40:03] openapi_requestor.py:246 [t:54684]: api request req_id:  failed with error code: 18, err msg: Open api qps request limit reached, please check https://cloud.baidu.com/doc/WENXINWORKSHOP/s/tlmyncueh\n",
      "[WARNING] [05-06 15:40:03] base.py:347 [t:54684]: got error code 18 from server, retrying... \n",
      "[ERROR] [05-06 15:40:03] openapi_requestor.py:246 [t:51852]: api request req_id:  failed with error code: 18, err msg: Open api qps request limit reached, please check https://cloud.baidu.com/doc/WENXINWORKSHOP/s/tlmyncueh\n",
      "[WARNING] [05-06 15:40:03] base.py:347 [t:51852]: got error code 18 from server, retrying... \n",
      "[ERROR] [05-06 15:40:03] openapi_requestor.py:246 [t:44824]: api request req_id:  failed with error code: 18, err msg: Open api qps request limit reached, please check https://cloud.baidu.com/doc/WENXINWORKSHOP/s/tlmyncueh\n",
      "[WARNING] [05-06 15:40:03] base.py:347 [t:44824]: got error code 18 from server, retrying... \n",
      "[ERROR] [05-06 15:40:03] openapi_requestor.py:246 [t:10588]: api request req_id:  failed with error code: 18, err msg: Open api qps request limit reached, please check https://cloud.baidu.com/doc/WENXINWORKSHOP/s/tlmyncueh\n",
      "[WARNING] [05-06 15:40:03] base.py:347 [t:10588]: got error code 18 from server, retrying... \n",
      "[ERROR] [05-06 15:40:03] openapi_requestor.py:246 [t:41304]: api request req_id:  failed with error code: 18, err msg: Open api qps request limit reached, please check https://cloud.baidu.com/doc/WENXINWORKSHOP/s/tlmyncueh\n",
      "[WARNING] [05-06 15:40:03] base.py:347 [t:41304]: got error code 18 from server, retrying... \n",
      "[ERROR] [05-06 15:40:03] openapi_requestor.py:246 [t:30276]: api request req_id:  failed with error code: 18, err msg: Open api qps request limit reached, please check https://cloud.baidu.com/doc/WENXINWORKSHOP/s/tlmyncueh\n",
      "[WARNING] [05-06 15:40:03] base.py:347 [t:30276]: got error code 18 from server, retrying... \n",
      "[ERROR] [05-06 15:40:04] openapi_requestor.py:246 [t:58428]: api request req_id:  failed with error code: 18, err msg: Open api qps request limit reached, please check https://cloud.baidu.com/doc/WENXINWORKSHOP/s/tlmyncueh\n",
      "[WARNING] [05-06 15:40:04] base.py:347 [t:58428]: got error code 18 from server, retrying... \n",
      "[ERROR] [05-06 15:40:04] openapi_requestor.py:246 [t:44824]: api request req_id:  failed with error code: 18, err msg: Open api qps request limit reached, please check https://cloud.baidu.com/doc/WENXINWORKSHOP/s/tlmyncueh\n",
      "[WARNING] [05-06 15:40:04] base.py:347 [t:44824]: got error code 18 from server, retrying... \n",
      "[ERROR] [05-06 15:40:05] openapi_requestor.py:246 [t:57900]: api request req_id:  failed with error code: 18, err msg: Open api qps request limit reached, please check https://cloud.baidu.com/doc/WENXINWORKSHOP/s/tlmyncueh\n",
      "[WARNING] [05-06 15:40:05] base.py:347 [t:57900]: got error code 18 from server, retrying... \n"
     ]
    },
    {
     "ename": "APIError",
     "evalue": "api return error, req_id:  code: 18, msg: Open api qps request limit reached",
     "output_type": "error",
     "traceback": [
      "\u001b[1;31m---------------------------------------------------------------------------\u001b[0m",
      "\u001b[1;31mAPIError\u001b[0m                                  Traceback (most recent call last)",
      "Cell \u001b[1;32mIn[40], line 2\u001b[0m\n\u001b[0;32m      1\u001b[0m \u001b[38;5;66;03m# Retrieve\u001b[39;00m\n\u001b[1;32m----> 2\u001b[0m svm_retriever \u001b[38;5;241m=\u001b[39m \u001b[43mSVMRetriever\u001b[49m\u001b[38;5;241;43m.\u001b[39;49m\u001b[43mfrom_texts\u001b[49m\u001b[43m(\u001b[49m\u001b[43msplits\u001b[49m\u001b[43m,\u001b[49m\u001b[43membedding\u001b[49m\u001b[43m)\u001b[49m\n\u001b[0;32m      3\u001b[0m tfidf_retriever \u001b[38;5;241m=\u001b[39m TFIDFRetriever\u001b[38;5;241m.\u001b[39mfrom_texts(splits)\n",
      "File \u001b[1;32m~\\AppData\\Local\\miniconda3\\envs\\dev\\lib\\site-packages\\langchain_community\\retrievers\\svm.py:62\u001b[0m, in \u001b[0;36mSVMRetriever.from_texts\u001b[1;34m(cls, texts, embeddings, metadatas, **kwargs)\u001b[0m\n\u001b[0;32m     54\u001b[0m \u001b[38;5;129m@classmethod\u001b[39m\n\u001b[0;32m     55\u001b[0m \u001b[38;5;28;01mdef\u001b[39;00m \u001b[38;5;21mfrom_texts\u001b[39m(\n\u001b[0;32m     56\u001b[0m     \u001b[38;5;28mcls\u001b[39m,\n\u001b[1;32m   (...)\u001b[0m\n\u001b[0;32m     60\u001b[0m     \u001b[38;5;241m*\u001b[39m\u001b[38;5;241m*\u001b[39mkwargs: Any,\n\u001b[0;32m     61\u001b[0m ) \u001b[38;5;241m-\u001b[39m\u001b[38;5;241m>\u001b[39m SVMRetriever:\n\u001b[1;32m---> 62\u001b[0m     index \u001b[38;5;241m=\u001b[39m \u001b[43mcreate_index\u001b[49m\u001b[43m(\u001b[49m\u001b[43mtexts\u001b[49m\u001b[43m,\u001b[49m\u001b[43m \u001b[49m\u001b[43membeddings\u001b[49m\u001b[43m)\u001b[49m\n\u001b[0;32m     63\u001b[0m     \u001b[38;5;28;01mreturn\u001b[39;00m \u001b[38;5;28mcls\u001b[39m(\n\u001b[0;32m     64\u001b[0m         embeddings\u001b[38;5;241m=\u001b[39membeddings,\n\u001b[0;32m     65\u001b[0m         index\u001b[38;5;241m=\u001b[39mindex,\n\u001b[1;32m   (...)\u001b[0m\n\u001b[0;32m     68\u001b[0m         \u001b[38;5;241m*\u001b[39m\u001b[38;5;241m*\u001b[39mkwargs,\n\u001b[0;32m     69\u001b[0m     )\n",
      "File \u001b[1;32m~\\AppData\\Local\\miniconda3\\envs\\dev\\lib\\site-packages\\langchain_community\\retrievers\\svm.py:25\u001b[0m, in \u001b[0;36mcreate_index\u001b[1;34m(contexts, embeddings)\u001b[0m\n\u001b[0;32m     14\u001b[0m \u001b[38;5;250m\u001b[39m\u001b[38;5;124;03m\"\"\"\u001b[39;00m\n\u001b[0;32m     15\u001b[0m \u001b[38;5;124;03mCreate an index of embeddings for a list of contexts.\u001b[39;00m\n\u001b[0;32m     16\u001b[0m \n\u001b[1;32m   (...)\u001b[0m\n\u001b[0;32m     22\u001b[0m \u001b[38;5;124;03m    Index of embeddings.\u001b[39;00m\n\u001b[0;32m     23\u001b[0m \u001b[38;5;124;03m\"\"\"\u001b[39;00m\n\u001b[0;32m     24\u001b[0m \u001b[38;5;28;01mwith\u001b[39;00m concurrent\u001b[38;5;241m.\u001b[39mfutures\u001b[38;5;241m.\u001b[39mThreadPoolExecutor() \u001b[38;5;28;01mas\u001b[39;00m executor:\n\u001b[1;32m---> 25\u001b[0m     \u001b[38;5;28;01mreturn\u001b[39;00m np\u001b[38;5;241m.\u001b[39marray(\u001b[38;5;28;43mlist\u001b[39;49m\u001b[43m(\u001b[49m\u001b[43mexecutor\u001b[49m\u001b[38;5;241;43m.\u001b[39;49m\u001b[43mmap\u001b[49m\u001b[43m(\u001b[49m\u001b[43membeddings\u001b[49m\u001b[38;5;241;43m.\u001b[39;49m\u001b[43membed_query\u001b[49m\u001b[43m,\u001b[49m\u001b[43m \u001b[49m\u001b[43mcontexts\u001b[49m\u001b[43m)\u001b[49m\u001b[43m)\u001b[49m)\n",
      "File \u001b[1;32m~\\AppData\\Local\\miniconda3\\envs\\dev\\lib\\concurrent\\futures\\_base.py:621\u001b[0m, in \u001b[0;36mExecutor.map.<locals>.result_iterator\u001b[1;34m()\u001b[0m\n\u001b[0;32m    618\u001b[0m \u001b[38;5;28;01mwhile\u001b[39;00m fs:\n\u001b[0;32m    619\u001b[0m     \u001b[38;5;66;03m# Careful not to keep a reference to the popped future\u001b[39;00m\n\u001b[0;32m    620\u001b[0m     \u001b[38;5;28;01mif\u001b[39;00m timeout \u001b[38;5;129;01mis\u001b[39;00m \u001b[38;5;28;01mNone\u001b[39;00m:\n\u001b[1;32m--> 621\u001b[0m         \u001b[38;5;28;01myield\u001b[39;00m \u001b[43m_result_or_cancel\u001b[49m\u001b[43m(\u001b[49m\u001b[43mfs\u001b[49m\u001b[38;5;241;43m.\u001b[39;49m\u001b[43mpop\u001b[49m\u001b[43m(\u001b[49m\u001b[43m)\u001b[49m\u001b[43m)\u001b[49m\n\u001b[0;32m    622\u001b[0m     \u001b[38;5;28;01melse\u001b[39;00m:\n\u001b[0;32m    623\u001b[0m         \u001b[38;5;28;01myield\u001b[39;00m _result_or_cancel(fs\u001b[38;5;241m.\u001b[39mpop(), end_time \u001b[38;5;241m-\u001b[39m time\u001b[38;5;241m.\u001b[39mmonotonic())\n",
      "File \u001b[1;32m~\\AppData\\Local\\miniconda3\\envs\\dev\\lib\\concurrent\\futures\\_base.py:319\u001b[0m, in \u001b[0;36m_result_or_cancel\u001b[1;34m(***failed resolving arguments***)\u001b[0m\n\u001b[0;32m    317\u001b[0m \u001b[38;5;28;01mtry\u001b[39;00m:\n\u001b[0;32m    318\u001b[0m     \u001b[38;5;28;01mtry\u001b[39;00m:\n\u001b[1;32m--> 319\u001b[0m         \u001b[38;5;28;01mreturn\u001b[39;00m \u001b[43mfut\u001b[49m\u001b[38;5;241;43m.\u001b[39;49m\u001b[43mresult\u001b[49m\u001b[43m(\u001b[49m\u001b[43mtimeout\u001b[49m\u001b[43m)\u001b[49m\n\u001b[0;32m    320\u001b[0m     \u001b[38;5;28;01mfinally\u001b[39;00m:\n\u001b[0;32m    321\u001b[0m         fut\u001b[38;5;241m.\u001b[39mcancel()\n",
      "File \u001b[1;32m~\\AppData\\Local\\miniconda3\\envs\\dev\\lib\\concurrent\\futures\\_base.py:458\u001b[0m, in \u001b[0;36mFuture.result\u001b[1;34m(self, timeout)\u001b[0m\n\u001b[0;32m    456\u001b[0m     \u001b[38;5;28;01mraise\u001b[39;00m CancelledError()\n\u001b[0;32m    457\u001b[0m \u001b[38;5;28;01melif\u001b[39;00m \u001b[38;5;28mself\u001b[39m\u001b[38;5;241m.\u001b[39m_state \u001b[38;5;241m==\u001b[39m FINISHED:\n\u001b[1;32m--> 458\u001b[0m     \u001b[38;5;28;01mreturn\u001b[39;00m \u001b[38;5;28;43mself\u001b[39;49m\u001b[38;5;241;43m.\u001b[39;49m\u001b[43m__get_result\u001b[49m\u001b[43m(\u001b[49m\u001b[43m)\u001b[49m\n\u001b[0;32m    459\u001b[0m \u001b[38;5;28;01melse\u001b[39;00m:\n\u001b[0;32m    460\u001b[0m     \u001b[38;5;28;01mraise\u001b[39;00m \u001b[38;5;167;01mTimeoutError\u001b[39;00m()\n",
      "File \u001b[1;32m~\\AppData\\Local\\miniconda3\\envs\\dev\\lib\\concurrent\\futures\\_base.py:403\u001b[0m, in \u001b[0;36mFuture.__get_result\u001b[1;34m(self)\u001b[0m\n\u001b[0;32m    401\u001b[0m \u001b[38;5;28;01mif\u001b[39;00m \u001b[38;5;28mself\u001b[39m\u001b[38;5;241m.\u001b[39m_exception:\n\u001b[0;32m    402\u001b[0m     \u001b[38;5;28;01mtry\u001b[39;00m:\n\u001b[1;32m--> 403\u001b[0m         \u001b[38;5;28;01mraise\u001b[39;00m \u001b[38;5;28mself\u001b[39m\u001b[38;5;241m.\u001b[39m_exception\n\u001b[0;32m    404\u001b[0m     \u001b[38;5;28;01mfinally\u001b[39;00m:\n\u001b[0;32m    405\u001b[0m         \u001b[38;5;66;03m# Break a reference cycle with the exception in self._exception\u001b[39;00m\n\u001b[0;32m    406\u001b[0m         \u001b[38;5;28mself\u001b[39m \u001b[38;5;241m=\u001b[39m \u001b[38;5;28;01mNone\u001b[39;00m\n",
      "File \u001b[1;32m~\\AppData\\Local\\miniconda3\\envs\\dev\\lib\\concurrent\\futures\\thread.py:58\u001b[0m, in \u001b[0;36m_WorkItem.run\u001b[1;34m(self)\u001b[0m\n\u001b[0;32m     55\u001b[0m     \u001b[38;5;28;01mreturn\u001b[39;00m\n\u001b[0;32m     57\u001b[0m \u001b[38;5;28;01mtry\u001b[39;00m:\n\u001b[1;32m---> 58\u001b[0m     result \u001b[38;5;241m=\u001b[39m \u001b[38;5;28mself\u001b[39m\u001b[38;5;241m.\u001b[39mfn(\u001b[38;5;241m*\u001b[39m\u001b[38;5;28mself\u001b[39m\u001b[38;5;241m.\u001b[39margs, \u001b[38;5;241m*\u001b[39m\u001b[38;5;241m*\u001b[39m\u001b[38;5;28mself\u001b[39m\u001b[38;5;241m.\u001b[39mkwargs)\n\u001b[0;32m     59\u001b[0m \u001b[38;5;28;01mexcept\u001b[39;00m \u001b[38;5;167;01mBaseException\u001b[39;00m \u001b[38;5;28;01mas\u001b[39;00m exc:\n\u001b[0;32m     60\u001b[0m     \u001b[38;5;28mself\u001b[39m\u001b[38;5;241m.\u001b[39mfuture\u001b[38;5;241m.\u001b[39mset_exception(exc)\n",
      "File \u001b[1;32m~\\AppData\\Local\\miniconda3\\envs\\dev\\lib\\site-packages\\langchain_community\\embeddings\\baidu_qianfan_endpoint.py:113\u001b[0m, in \u001b[0;36mQianfanEmbeddingsEndpoint.embed_query\u001b[1;34m(self, text)\u001b[0m\n\u001b[0;32m    112\u001b[0m \u001b[38;5;28;01mdef\u001b[39;00m \u001b[38;5;21membed_query\u001b[39m(\u001b[38;5;28mself\u001b[39m, text: \u001b[38;5;28mstr\u001b[39m) \u001b[38;5;241m-\u001b[39m\u001b[38;5;241m>\u001b[39m List[\u001b[38;5;28mfloat\u001b[39m]:\n\u001b[1;32m--> 113\u001b[0m     resp \u001b[38;5;241m=\u001b[39m \u001b[38;5;28;43mself\u001b[39;49m\u001b[38;5;241;43m.\u001b[39;49m\u001b[43membed_documents\u001b[49m\u001b[43m(\u001b[49m\u001b[43m[\u001b[49m\u001b[43mtext\u001b[49m\u001b[43m]\u001b[49m\u001b[43m)\u001b[49m\n\u001b[0;32m    114\u001b[0m     \u001b[38;5;28;01mreturn\u001b[39;00m resp[\u001b[38;5;241m0\u001b[39m]\n",
      "File \u001b[1;32m~\\AppData\\Local\\miniconda3\\envs\\dev\\lib\\site-packages\\langchain_community\\embeddings\\baidu_qianfan_endpoint.py:133\u001b[0m, in \u001b[0;36mQianfanEmbeddingsEndpoint.embed_documents\u001b[1;34m(self, texts)\u001b[0m\n\u001b[0;32m    131\u001b[0m lst \u001b[38;5;241m=\u001b[39m []\n\u001b[0;32m    132\u001b[0m \u001b[38;5;28;01mfor\u001b[39;00m chunk \u001b[38;5;129;01min\u001b[39;00m text_in_chunks:\n\u001b[1;32m--> 133\u001b[0m     resp \u001b[38;5;241m=\u001b[39m \u001b[38;5;28mself\u001b[39m\u001b[38;5;241m.\u001b[39mclient\u001b[38;5;241m.\u001b[39mdo(texts\u001b[38;5;241m=\u001b[39mchunk, \u001b[38;5;241m*\u001b[39m\u001b[38;5;241m*\u001b[39m\u001b[38;5;28mself\u001b[39m\u001b[38;5;241m.\u001b[39mmodel_kwargs)\n\u001b[0;32m    134\u001b[0m     lst\u001b[38;5;241m.\u001b[39mextend([res[\u001b[38;5;124m\"\u001b[39m\u001b[38;5;124membedding\u001b[39m\u001b[38;5;124m\"\u001b[39m] \u001b[38;5;28;01mfor\u001b[39;00m res \u001b[38;5;129;01min\u001b[39;00m resp[\u001b[38;5;124m\"\u001b[39m\u001b[38;5;124mdata\u001b[39m\u001b[38;5;124m\"\u001b[39m]])\n\u001b[0;32m    135\u001b[0m \u001b[38;5;28;01mreturn\u001b[39;00m lst\n",
      "File \u001b[1;32m~\\AppData\\Local\\miniconda3\\envs\\dev\\lib\\site-packages\\qianfan\\resources\\llm\\embedding.py:172\u001b[0m, in \u001b[0;36mEmbedding.do\u001b[1;34m(self, texts, model, endpoint, stream, retry_count, request_timeout, request_id, backoff_factor, **kwargs)\u001b[0m\n\u001b[0;32m    169\u001b[0m \u001b[38;5;28;01mif\u001b[39;00m request_id \u001b[38;5;129;01mis\u001b[39;00m \u001b[38;5;129;01mnot\u001b[39;00m \u001b[38;5;28;01mNone\u001b[39;00m:\n\u001b[0;32m    170\u001b[0m     kwargs[\u001b[38;5;124m\"\u001b[39m\u001b[38;5;124mrequest_id\u001b[39m\u001b[38;5;124m\"\u001b[39m] \u001b[38;5;241m=\u001b[39m request_id\n\u001b[1;32m--> 172\u001b[0m \u001b[38;5;28;01mreturn\u001b[39;00m \u001b[38;5;28mself\u001b[39m\u001b[38;5;241m.\u001b[39m_do(\n\u001b[0;32m    173\u001b[0m     model,\n\u001b[0;32m    174\u001b[0m     endpoint,\n\u001b[0;32m    175\u001b[0m     stream,\n\u001b[0;32m    176\u001b[0m     retry_count,\n\u001b[0;32m    177\u001b[0m     request_timeout,\n\u001b[0;32m    178\u001b[0m     backoff_factor,\n\u001b[0;32m    179\u001b[0m     \u001b[38;5;241m*\u001b[39m\u001b[38;5;241m*\u001b[39mkwargs,\n\u001b[0;32m    180\u001b[0m )\n",
      "File \u001b[1;32m~\\AppData\\Local\\miniconda3\\envs\\dev\\lib\\site-packages\\qianfan\\resources\\llm\\base.py:286\u001b[0m, in \u001b[0;36mBaseResource._do\u001b[1;34m(self, model, endpoint, stream, retry_count, request_timeout, backoff_factor, retry_jitter, retry_err_codes, retry_max_wait_interval, **kwargs)\u001b[0m\n\u001b[0;32m    284\u001b[0m             \u001b[38;5;28;01mcontinue\u001b[39;00m\n\u001b[0;32m    285\u001b[0m         \u001b[38;5;28;01melse\u001b[39;00m:\n\u001b[1;32m--> 286\u001b[0m             \u001b[38;5;28;01mraise\u001b[39;00m e\n\u001b[0;32m    287\u001b[0m     \u001b[38;5;28;01mbreak\u001b[39;00m\n\u001b[0;32m    289\u001b[0m \u001b[38;5;28;01mreturn\u001b[39;00m resp\n",
      "File \u001b[1;32m~\\AppData\\Local\\miniconda3\\envs\\dev\\lib\\site-packages\\qianfan\\resources\\llm\\base.py:267\u001b[0m, in \u001b[0;36mBaseResource._do\u001b[1;34m(self, model, endpoint, stream, retry_count, request_timeout, backoff_factor, retry_jitter, retry_err_codes, retry_max_wait_interval, **kwargs)\u001b[0m\n\u001b[0;32m    265\u001b[0m \u001b[38;5;28;01mwhile\u001b[39;00m \u001b[38;5;28;01mTrue\u001b[39;00m:\n\u001b[0;32m    266\u001b[0m     \u001b[38;5;28;01mtry\u001b[39;00m:\n\u001b[1;32m--> 267\u001b[0m         resp \u001b[38;5;241m=\u001b[39m \u001b[38;5;28;43mself\u001b[39;49m\u001b[38;5;241;43m.\u001b[39;49m\u001b[43m_client\u001b[49m\u001b[38;5;241;43m.\u001b[39;49m\u001b[43mllm\u001b[49m\u001b[43m(\u001b[49m\n\u001b[0;32m    268\u001b[0m \u001b[43m            \u001b[49m\u001b[43mendpoint\u001b[49m\u001b[38;5;241;43m=\u001b[39;49m\u001b[43mendpoint\u001b[49m\u001b[43m,\u001b[49m\n\u001b[0;32m    269\u001b[0m \u001b[43m            \u001b[49m\u001b[43mheader\u001b[49m\u001b[38;5;241;43m=\u001b[39;49m\u001b[38;5;28;43mself\u001b[39;49m\u001b[38;5;241;43m.\u001b[39;49m\u001b[43m_generate_header\u001b[49m\u001b[43m(\u001b[49m\u001b[43mmodel\u001b[49m\u001b[43m,\u001b[49m\u001b[43m \u001b[49m\u001b[43mendpoint\u001b[49m\u001b[43m,\u001b[49m\u001b[43m \u001b[49m\u001b[43mstream\u001b[49m\u001b[43m,\u001b[49m\u001b[43m \u001b[49m\u001b[38;5;241;43m*\u001b[39;49m\u001b[38;5;241;43m*\u001b[39;49m\u001b[43mkwargs\u001b[49m\u001b[43m)\u001b[49m\u001b[43m,\u001b[49m\n\u001b[0;32m    270\u001b[0m \u001b[43m            \u001b[49m\u001b[43mquery\u001b[49m\u001b[38;5;241;43m=\u001b[39;49m\u001b[38;5;28;43mself\u001b[39;49m\u001b[38;5;241;43m.\u001b[39;49m\u001b[43m_generate_query\u001b[49m\u001b[43m(\u001b[49m\u001b[43mmodel\u001b[49m\u001b[43m,\u001b[49m\u001b[43m \u001b[49m\u001b[43mendpoint\u001b[49m\u001b[43m,\u001b[49m\u001b[43m \u001b[49m\u001b[43mstream\u001b[49m\u001b[43m,\u001b[49m\u001b[43m \u001b[49m\u001b[38;5;241;43m*\u001b[39;49m\u001b[38;5;241;43m*\u001b[39;49m\u001b[43mkwargs\u001b[49m\u001b[43m)\u001b[49m\u001b[43m,\u001b[49m\n\u001b[0;32m    271\u001b[0m \u001b[43m            \u001b[49m\u001b[43mbody\u001b[49m\u001b[38;5;241;43m=\u001b[39;49m\u001b[38;5;28;43mself\u001b[39;49m\u001b[38;5;241;43m.\u001b[39;49m\u001b[43m_generate_body\u001b[49m\u001b[43m(\u001b[49m\u001b[43mmodel\u001b[49m\u001b[43m,\u001b[49m\u001b[43m \u001b[49m\u001b[43mendpoint\u001b[49m\u001b[43m,\u001b[49m\u001b[43m \u001b[49m\u001b[43mstream\u001b[49m\u001b[43m,\u001b[49m\u001b[43m \u001b[49m\u001b[38;5;241;43m*\u001b[39;49m\u001b[38;5;241;43m*\u001b[39;49m\u001b[43mkwargs\u001b[49m\u001b[43m)\u001b[49m\u001b[43m,\u001b[49m\n\u001b[0;32m    272\u001b[0m \u001b[43m            \u001b[49m\u001b[43mstream\u001b[49m\u001b[38;5;241;43m=\u001b[39;49m\u001b[43mstream\u001b[49m\u001b[43m,\u001b[49m\n\u001b[0;32m    273\u001b[0m \u001b[43m            \u001b[49m\u001b[43mdata_postprocess\u001b[49m\u001b[38;5;241;43m=\u001b[39;49m\u001b[38;5;28;43mself\u001b[39;49m\u001b[38;5;241;43m.\u001b[39;49m\u001b[43m_data_postprocess\u001b[49m\u001b[43m,\u001b[49m\n\u001b[0;32m    274\u001b[0m \u001b[43m            \u001b[49m\u001b[43mretry_config\u001b[49m\u001b[38;5;241;43m=\u001b[39;49m\u001b[43mretry_config\u001b[49m\u001b[43m,\u001b[49m\n\u001b[0;32m    275\u001b[0m \u001b[43m        \u001b[49m\u001b[43m)\u001b[49m\n\u001b[0;32m    276\u001b[0m     \u001b[38;5;28;01mexcept\u001b[39;00m errors\u001b[38;5;241m.\u001b[39mAPIError \u001b[38;5;28;01mas\u001b[39;00m e:\n\u001b[0;32m    277\u001b[0m         \u001b[38;5;28;01mif\u001b[39;00m (\n\u001b[0;32m    278\u001b[0m             e\u001b[38;5;241m.\u001b[39merror_code \u001b[38;5;241m==\u001b[39m APIErrorCode\u001b[38;5;241m.\u001b[39mUnsupportedMethod\n\u001b[0;32m    279\u001b[0m             \u001b[38;5;129;01mand\u001b[39;00m \u001b[38;5;129;01mnot\u001b[39;00m refreshed_model_list\n\u001b[0;32m    280\u001b[0m         ):\n",
      "File \u001b[1;32m~\\AppData\\Local\\miniconda3\\envs\\dev\\lib\\site-packages\\qianfan\\resources\\requestor\\openapi_requestor.py:406\u001b[0m, in \u001b[0;36mQfAPIRequestor.llm\u001b[1;34m(self, endpoint, header, query, body, stream, data_postprocess, retry_config)\u001b[0m\n\u001b[0;32m    401\u001b[0m     \u001b[38;5;28;01melse\u001b[39;00m:\n\u001b[0;32m    402\u001b[0m         \u001b[38;5;28;01mreturn\u001b[39;00m \u001b[38;5;28mself\u001b[39m\u001b[38;5;241m.\u001b[39m_compensate_token_usage_non_stream(\n\u001b[0;32m    403\u001b[0m             \u001b[38;5;28mself\u001b[39m\u001b[38;5;241m.\u001b[39m_request(req, data_postprocess\u001b[38;5;241m=\u001b[39mdata_postprocess), token_count\n\u001b[0;32m    404\u001b[0m         )\n\u001b[1;32m--> 406\u001b[0m \u001b[38;5;28;01mreturn\u001b[39;00m \u001b[38;5;28;43mself\u001b[39;49m\u001b[38;5;241;43m.\u001b[39;49m\u001b[43m_with_retry\u001b[49m\u001b[43m(\u001b[49m\u001b[43mretry_config\u001b[49m\u001b[43m,\u001b[49m\u001b[43m \u001b[49m\u001b[43m_helper\u001b[49m\u001b[43m)\u001b[49m\n",
      "File \u001b[1;32m~\\AppData\\Local\\miniconda3\\envs\\dev\\lib\\site-packages\\qianfan\\resources\\requestor\\base.py:369\u001b[0m, in \u001b[0;36mBaseAPIRequestor._with_retry\u001b[1;34m(self, config, func, *args)\u001b[0m\n\u001b[0;32m    356\u001b[0m \u001b[38;5;129m@retry\u001b[39m(\n\u001b[0;32m    357\u001b[0m     wait\u001b[38;5;241m=\u001b[39mwait_exponential_jitter(\n\u001b[0;32m    358\u001b[0m         initial\u001b[38;5;241m=\u001b[39mconfig\u001b[38;5;241m.\u001b[39mbackoff_factor,\n\u001b[1;32m   (...)\u001b[0m\n\u001b[0;32m    365\u001b[0m )\n\u001b[0;32m    366\u001b[0m \u001b[38;5;28;01mdef\u001b[39;00m \u001b[38;5;21m_retry_wrapper\u001b[39m(\u001b[38;5;241m*\u001b[39margs: Any) \u001b[38;5;241m-\u001b[39m\u001b[38;5;241m>\u001b[39m _T:\n\u001b[0;32m    367\u001b[0m     \u001b[38;5;28;01mreturn\u001b[39;00m func(\u001b[38;5;241m*\u001b[39margs)\n\u001b[1;32m--> 369\u001b[0m \u001b[38;5;28;01mreturn\u001b[39;00m \u001b[43m_retry_wrapper\u001b[49m\u001b[43m(\u001b[49m\u001b[38;5;241;43m*\u001b[39;49m\u001b[43margs\u001b[49m\u001b[43m)\u001b[49m\n",
      "File \u001b[1;32m~\\AppData\\Local\\miniconda3\\envs\\dev\\lib\\site-packages\\tenacity\\__init__.py:289\u001b[0m, in \u001b[0;36mBaseRetrying.wraps.<locals>.wrapped_f\u001b[1;34m(*args, **kw)\u001b[0m\n\u001b[0;32m    287\u001b[0m \u001b[38;5;129m@functools\u001b[39m\u001b[38;5;241m.\u001b[39mwraps(f)\n\u001b[0;32m    288\u001b[0m \u001b[38;5;28;01mdef\u001b[39;00m \u001b[38;5;21mwrapped_f\u001b[39m(\u001b[38;5;241m*\u001b[39margs: t\u001b[38;5;241m.\u001b[39mAny, \u001b[38;5;241m*\u001b[39m\u001b[38;5;241m*\u001b[39mkw: t\u001b[38;5;241m.\u001b[39mAny) \u001b[38;5;241m-\u001b[39m\u001b[38;5;241m>\u001b[39m t\u001b[38;5;241m.\u001b[39mAny:\n\u001b[1;32m--> 289\u001b[0m     \u001b[38;5;28;01mreturn\u001b[39;00m \u001b[38;5;28mself\u001b[39m(f, \u001b[38;5;241m*\u001b[39margs, \u001b[38;5;241m*\u001b[39m\u001b[38;5;241m*\u001b[39mkw)\n",
      "File \u001b[1;32m~\\AppData\\Local\\miniconda3\\envs\\dev\\lib\\site-packages\\tenacity\\__init__.py:379\u001b[0m, in \u001b[0;36mRetrying.__call__\u001b[1;34m(self, fn, *args, **kwargs)\u001b[0m\n\u001b[0;32m    377\u001b[0m retry_state \u001b[38;5;241m=\u001b[39m RetryCallState(retry_object\u001b[38;5;241m=\u001b[39m\u001b[38;5;28mself\u001b[39m, fn\u001b[38;5;241m=\u001b[39mfn, args\u001b[38;5;241m=\u001b[39margs, kwargs\u001b[38;5;241m=\u001b[39mkwargs)\n\u001b[0;32m    378\u001b[0m \u001b[38;5;28;01mwhile\u001b[39;00m \u001b[38;5;28;01mTrue\u001b[39;00m:\n\u001b[1;32m--> 379\u001b[0m     do \u001b[38;5;241m=\u001b[39m \u001b[38;5;28;43mself\u001b[39;49m\u001b[38;5;241;43m.\u001b[39;49m\u001b[43miter\u001b[49m\u001b[43m(\u001b[49m\u001b[43mretry_state\u001b[49m\u001b[38;5;241;43m=\u001b[39;49m\u001b[43mretry_state\u001b[49m\u001b[43m)\u001b[49m\n\u001b[0;32m    380\u001b[0m     \u001b[38;5;28;01mif\u001b[39;00m \u001b[38;5;28misinstance\u001b[39m(do, DoAttempt):\n\u001b[0;32m    381\u001b[0m         \u001b[38;5;28;01mtry\u001b[39;00m:\n",
      "File \u001b[1;32m~\\AppData\\Local\\miniconda3\\envs\\dev\\lib\\site-packages\\tenacity\\__init__.py:325\u001b[0m, in \u001b[0;36mBaseRetrying.iter\u001b[1;34m(self, retry_state)\u001b[0m\n\u001b[0;32m    323\u001b[0m     retry_exc \u001b[38;5;241m=\u001b[39m \u001b[38;5;28mself\u001b[39m\u001b[38;5;241m.\u001b[39mretry_error_cls(fut)\n\u001b[0;32m    324\u001b[0m     \u001b[38;5;28;01mif\u001b[39;00m \u001b[38;5;28mself\u001b[39m\u001b[38;5;241m.\u001b[39mreraise:\n\u001b[1;32m--> 325\u001b[0m         \u001b[38;5;28;01mraise\u001b[39;00m \u001b[43mretry_exc\u001b[49m\u001b[38;5;241;43m.\u001b[39;49m\u001b[43mreraise\u001b[49m\u001b[43m(\u001b[49m\u001b[43m)\u001b[49m\n\u001b[0;32m    326\u001b[0m     \u001b[38;5;28;01mraise\u001b[39;00m retry_exc \u001b[38;5;28;01mfrom\u001b[39;00m \u001b[38;5;21;01mfut\u001b[39;00m\u001b[38;5;21;01m.\u001b[39;00m\u001b[38;5;21;01mexception\u001b[39;00m()\n\u001b[0;32m    328\u001b[0m \u001b[38;5;28;01mif\u001b[39;00m \u001b[38;5;28mself\u001b[39m\u001b[38;5;241m.\u001b[39mwait:\n",
      "File \u001b[1;32m~\\AppData\\Local\\miniconda3\\envs\\dev\\lib\\site-packages\\tenacity\\__init__.py:158\u001b[0m, in \u001b[0;36mRetryError.reraise\u001b[1;34m(self)\u001b[0m\n\u001b[0;32m    156\u001b[0m \u001b[38;5;28;01mdef\u001b[39;00m \u001b[38;5;21mreraise\u001b[39m(\u001b[38;5;28mself\u001b[39m) \u001b[38;5;241m-\u001b[39m\u001b[38;5;241m>\u001b[39m t\u001b[38;5;241m.\u001b[39mNoReturn:\n\u001b[0;32m    157\u001b[0m     \u001b[38;5;28;01mif\u001b[39;00m \u001b[38;5;28mself\u001b[39m\u001b[38;5;241m.\u001b[39mlast_attempt\u001b[38;5;241m.\u001b[39mfailed:\n\u001b[1;32m--> 158\u001b[0m         \u001b[38;5;28;01mraise\u001b[39;00m \u001b[38;5;28;43mself\u001b[39;49m\u001b[38;5;241;43m.\u001b[39;49m\u001b[43mlast_attempt\u001b[49m\u001b[38;5;241;43m.\u001b[39;49m\u001b[43mresult\u001b[49m\u001b[43m(\u001b[49m\u001b[43m)\u001b[49m\n\u001b[0;32m    159\u001b[0m     \u001b[38;5;28;01mraise\u001b[39;00m \u001b[38;5;28mself\u001b[39m\n",
      "File \u001b[1;32m~\\AppData\\Local\\miniconda3\\envs\\dev\\lib\\concurrent\\futures\\_base.py:451\u001b[0m, in \u001b[0;36mFuture.result\u001b[1;34m(self, timeout)\u001b[0m\n\u001b[0;32m    449\u001b[0m     \u001b[38;5;28;01mraise\u001b[39;00m CancelledError()\n\u001b[0;32m    450\u001b[0m \u001b[38;5;28;01melif\u001b[39;00m \u001b[38;5;28mself\u001b[39m\u001b[38;5;241m.\u001b[39m_state \u001b[38;5;241m==\u001b[39m FINISHED:\n\u001b[1;32m--> 451\u001b[0m     \u001b[38;5;28;01mreturn\u001b[39;00m \u001b[38;5;28;43mself\u001b[39;49m\u001b[38;5;241;43m.\u001b[39;49m\u001b[43m__get_result\u001b[49m\u001b[43m(\u001b[49m\u001b[43m)\u001b[49m\n\u001b[0;32m    453\u001b[0m \u001b[38;5;28mself\u001b[39m\u001b[38;5;241m.\u001b[39m_condition\u001b[38;5;241m.\u001b[39mwait(timeout)\n\u001b[0;32m    455\u001b[0m \u001b[38;5;28;01mif\u001b[39;00m \u001b[38;5;28mself\u001b[39m\u001b[38;5;241m.\u001b[39m_state \u001b[38;5;129;01min\u001b[39;00m [CANCELLED, CANCELLED_AND_NOTIFIED]:\n",
      "File \u001b[1;32m~\\AppData\\Local\\miniconda3\\envs\\dev\\lib\\concurrent\\futures\\_base.py:403\u001b[0m, in \u001b[0;36mFuture.__get_result\u001b[1;34m(self)\u001b[0m\n\u001b[0;32m    401\u001b[0m \u001b[38;5;28;01mif\u001b[39;00m \u001b[38;5;28mself\u001b[39m\u001b[38;5;241m.\u001b[39m_exception:\n\u001b[0;32m    402\u001b[0m     \u001b[38;5;28;01mtry\u001b[39;00m:\n\u001b[1;32m--> 403\u001b[0m         \u001b[38;5;28;01mraise\u001b[39;00m \u001b[38;5;28mself\u001b[39m\u001b[38;5;241m.\u001b[39m_exception\n\u001b[0;32m    404\u001b[0m     \u001b[38;5;28;01mfinally\u001b[39;00m:\n\u001b[0;32m    405\u001b[0m         \u001b[38;5;66;03m# Break a reference cycle with the exception in self._exception\u001b[39;00m\n\u001b[0;32m    406\u001b[0m         \u001b[38;5;28mself\u001b[39m \u001b[38;5;241m=\u001b[39m \u001b[38;5;28;01mNone\u001b[39;00m\n",
      "File \u001b[1;32m~\\AppData\\Local\\miniconda3\\envs\\dev\\lib\\site-packages\\tenacity\\__init__.py:382\u001b[0m, in \u001b[0;36mRetrying.__call__\u001b[1;34m(self, fn, *args, **kwargs)\u001b[0m\n\u001b[0;32m    380\u001b[0m \u001b[38;5;28;01mif\u001b[39;00m \u001b[38;5;28misinstance\u001b[39m(do, DoAttempt):\n\u001b[0;32m    381\u001b[0m     \u001b[38;5;28;01mtry\u001b[39;00m:\n\u001b[1;32m--> 382\u001b[0m         result \u001b[38;5;241m=\u001b[39m fn(\u001b[38;5;241m*\u001b[39margs, \u001b[38;5;241m*\u001b[39m\u001b[38;5;241m*\u001b[39mkwargs)\n\u001b[0;32m    383\u001b[0m     \u001b[38;5;28;01mexcept\u001b[39;00m \u001b[38;5;167;01mBaseException\u001b[39;00m:  \u001b[38;5;66;03m# noqa: B902\u001b[39;00m\n\u001b[0;32m    384\u001b[0m         retry_state\u001b[38;5;241m.\u001b[39mset_exception(sys\u001b[38;5;241m.\u001b[39mexc_info())  \u001b[38;5;66;03m# type: ignore[arg-type]\u001b[39;00m\n",
      "File \u001b[1;32m~\\AppData\\Local\\miniconda3\\envs\\dev\\lib\\site-packages\\qianfan\\resources\\requestor\\base.py:367\u001b[0m, in \u001b[0;36mBaseAPIRequestor._with_retry.<locals>._retry_wrapper\u001b[1;34m(*args)\u001b[0m\n\u001b[0;32m    356\u001b[0m \u001b[38;5;129m@retry\u001b[39m(\n\u001b[0;32m    357\u001b[0m     wait\u001b[38;5;241m=\u001b[39mwait_exponential_jitter(\n\u001b[0;32m    358\u001b[0m         initial\u001b[38;5;241m=\u001b[39mconfig\u001b[38;5;241m.\u001b[39mbackoff_factor,\n\u001b[1;32m   (...)\u001b[0m\n\u001b[0;32m    365\u001b[0m )\n\u001b[0;32m    366\u001b[0m \u001b[38;5;28;01mdef\u001b[39;00m \u001b[38;5;21m_retry_wrapper\u001b[39m(\u001b[38;5;241m*\u001b[39margs: Any) \u001b[38;5;241m-\u001b[39m\u001b[38;5;241m>\u001b[39m _T:\n\u001b[1;32m--> 367\u001b[0m     \u001b[38;5;28;01mreturn\u001b[39;00m \u001b[43mfunc\u001b[49m\u001b[43m(\u001b[49m\u001b[38;5;241;43m*\u001b[39;49m\u001b[43margs\u001b[49m\u001b[43m)\u001b[49m\n",
      "File \u001b[1;32m~\\AppData\\Local\\miniconda3\\envs\\dev\\lib\\site-packages\\qianfan\\resources\\requestor\\openapi_requestor.py:80\u001b[0m, in \u001b[0;36mQfAPIRequestor._retry_if_token_expired.<locals>.retry_wrapper\u001b[1;34m(*args, **kwargs)\u001b[0m\n\u001b[0;32m     78\u001b[0m \u001b[38;5;28;01mif\u001b[39;00m \u001b[38;5;129;01mnot\u001b[39;00m token_refreshed:\n\u001b[0;32m     79\u001b[0m     \u001b[38;5;28;01mtry\u001b[39;00m:\n\u001b[1;32m---> 80\u001b[0m         \u001b[38;5;28;01mreturn\u001b[39;00m \u001b[43mfunc\u001b[49m\u001b[43m(\u001b[49m\u001b[38;5;241;43m*\u001b[39;49m\u001b[43margs\u001b[49m\u001b[43m)\u001b[49m\n\u001b[0;32m     81\u001b[0m     \u001b[38;5;28;01mexcept\u001b[39;00m errors\u001b[38;5;241m.\u001b[39mAccessTokenExpiredError:\n\u001b[0;32m     82\u001b[0m         \u001b[38;5;66;03m# refresh token and set token_refreshed flag\u001b[39;00m\n\u001b[0;32m     83\u001b[0m         \u001b[38;5;28mself\u001b[39m\u001b[38;5;241m.\u001b[39m_auth\u001b[38;5;241m.\u001b[39mrefresh_access_token()\n",
      "File \u001b[1;32m~\\AppData\\Local\\miniconda3\\envs\\dev\\lib\\site-packages\\qianfan\\resources\\requestor\\openapi_requestor.py:403\u001b[0m, in \u001b[0;36mQfAPIRequestor.llm.<locals>._helper\u001b[1;34m()\u001b[0m\n\u001b[0;32m    397\u001b[0m     \u001b[38;5;28;01mreturn\u001b[39;00m \u001b[38;5;28mself\u001b[39m\u001b[38;5;241m.\u001b[39m_compensate_token_usage_stream(\n\u001b[0;32m    398\u001b[0m         \u001b[38;5;28mself\u001b[39m\u001b[38;5;241m.\u001b[39m_request_stream(req, data_postprocess\u001b[38;5;241m=\u001b[39mdata_postprocess),\n\u001b[0;32m    399\u001b[0m         token_count,\n\u001b[0;32m    400\u001b[0m     )\n\u001b[0;32m    401\u001b[0m \u001b[38;5;28;01melse\u001b[39;00m:\n\u001b[0;32m    402\u001b[0m     \u001b[38;5;28;01mreturn\u001b[39;00m \u001b[38;5;28mself\u001b[39m\u001b[38;5;241m.\u001b[39m_compensate_token_usage_non_stream(\n\u001b[1;32m--> 403\u001b[0m         \u001b[38;5;28;43mself\u001b[39;49m\u001b[38;5;241;43m.\u001b[39;49m\u001b[43m_request\u001b[49m\u001b[43m(\u001b[49m\u001b[43mreq\u001b[49m\u001b[43m,\u001b[49m\u001b[43m \u001b[49m\u001b[43mdata_postprocess\u001b[49m\u001b[38;5;241;43m=\u001b[39;49m\u001b[43mdata_postprocess\u001b[49m\u001b[43m)\u001b[49m, token_count\n\u001b[0;32m    404\u001b[0m     )\n",
      "File \u001b[1;32m~\\AppData\\Local\\miniconda3\\envs\\dev\\lib\\site-packages\\qianfan\\resources\\requestor\\base.py:147\u001b[0m, in \u001b[0;36m_latency.<locals>.wrapper\u001b[1;34m(*args, **kwargs)\u001b[0m\n\u001b[0;32m    145\u001b[0m \u001b[38;5;28;01mdef\u001b[39;00m \u001b[38;5;21mwrapper\u001b[39m(\u001b[38;5;241m*\u001b[39margs: Any, \u001b[38;5;241m*\u001b[39m\u001b[38;5;241m*\u001b[39mkwargs: Any) \u001b[38;5;241m-\u001b[39m\u001b[38;5;241m>\u001b[39m QfResponse:\n\u001b[0;32m    146\u001b[0m     start_time \u001b[38;5;241m=\u001b[39m time\u001b[38;5;241m.\u001b[39mperf_counter()\n\u001b[1;32m--> 147\u001b[0m     resp \u001b[38;5;241m=\u001b[39m func(\u001b[38;5;241m*\u001b[39margs, \u001b[38;5;241m*\u001b[39m\u001b[38;5;241m*\u001b[39mkwargs)\n\u001b[0;32m    148\u001b[0m     resp\u001b[38;5;241m.\u001b[39mstatistic[\u001b[38;5;124m\"\u001b[39m\u001b[38;5;124mtotal_latency\u001b[39m\u001b[38;5;124m\"\u001b[39m] \u001b[38;5;241m=\u001b[39m time\u001b[38;5;241m.\u001b[39mperf_counter() \u001b[38;5;241m-\u001b[39m start_time\n\u001b[0;32m    149\u001b[0m     \u001b[38;5;28;01mreturn\u001b[39;00m resp\n",
      "File \u001b[1;32m~\\AppData\\Local\\miniconda3\\envs\\dev\\lib\\site-packages\\qianfan\\resources\\requestor\\base.py:263\u001b[0m, in \u001b[0;36mBaseAPIRequestor._request\u001b[1;34m(self, request, data_postprocess)\u001b[0m\n\u001b[0;32m    259\u001b[0m \u001b[38;5;28;01mexcept\u001b[39;00m requests\u001b[38;5;241m.\u001b[39mJSONDecodeError:\n\u001b[0;32m    260\u001b[0m     \u001b[38;5;28;01mraise\u001b[39;00m errors\u001b[38;5;241m.\u001b[39mRequestError(\n\u001b[0;32m    261\u001b[0m         \u001b[38;5;124mf\u001b[39m\u001b[38;5;124m\"\u001b[39m\u001b[38;5;124mGot invalid json response from server, body: \u001b[39m\u001b[38;5;132;01m{\u001b[39;00mresponse\u001b[38;5;241m.\u001b[39mcontent\u001b[38;5;132;01m!r}\u001b[39;00m\u001b[38;5;124m\"\u001b[39m\n\u001b[0;32m    262\u001b[0m     )\n\u001b[1;32m--> 263\u001b[0m resp \u001b[38;5;241m=\u001b[39m \u001b[38;5;28;43mself\u001b[39;49m\u001b[38;5;241;43m.\u001b[39;49m\u001b[43m_parse_response\u001b[49m\u001b[43m(\u001b[49m\u001b[43mbody\u001b[49m\u001b[43m,\u001b[49m\u001b[43m \u001b[49m\u001b[43mresponse\u001b[49m\u001b[43m)\u001b[49m\n\u001b[0;32m    264\u001b[0m resp\u001b[38;5;241m.\u001b[39mstatistic[\u001b[38;5;124m\"\u001b[39m\u001b[38;5;124mrequest_latency\u001b[39m\u001b[38;5;124m\"\u001b[39m] \u001b[38;5;241m=\u001b[39m response\u001b[38;5;241m.\u001b[39melapsed\u001b[38;5;241m.\u001b[39mtotal_seconds()\n\u001b[0;32m    265\u001b[0m resp\u001b[38;5;241m.\u001b[39mrequest \u001b[38;5;241m=\u001b[39m QfRequest\u001b[38;5;241m.\u001b[39mfrom_requests(response\u001b[38;5;241m.\u001b[39mrequest)\n",
      "File \u001b[1;32m~\\AppData\\Local\\miniconda3\\envs\\dev\\lib\\site-packages\\qianfan\\resources\\requestor\\openapi_requestor.py:266\u001b[0m, in \u001b[0;36mQfAPIRequestor._parse_response\u001b[1;34m(self, body, resp)\u001b[0m\n\u001b[0;32m    264\u001b[0m \u001b[38;5;28;01mif\u001b[39;00m e\u001b[38;5;241m.\u001b[39merror_code \u001b[38;5;241m==\u001b[39m APIErrorCode\u001b[38;5;241m.\u001b[39mTPMLimitReached\u001b[38;5;241m.\u001b[39mvalue:\n\u001b[0;32m    265\u001b[0m     \u001b[38;5;28mself\u001b[39m\u001b[38;5;241m.\u001b[39m_token_limiter\u001b[38;5;241m.\u001b[39mclear()\n\u001b[1;32m--> 266\u001b[0m \u001b[38;5;28;01mraise\u001b[39;00m e\n",
      "File \u001b[1;32m~\\AppData\\Local\\miniconda3\\envs\\dev\\lib\\site-packages\\qianfan\\resources\\requestor\\openapi_requestor.py:262\u001b[0m, in \u001b[0;36mQfAPIRequestor._parse_response\u001b[1;34m(self, body, resp)\u001b[0m\n\u001b[0;32m    258\u001b[0m \u001b[38;5;28;01mdef\u001b[39;00m \u001b[38;5;21m_parse_response\u001b[39m(\n\u001b[0;32m    259\u001b[0m     \u001b[38;5;28mself\u001b[39m, body: Dict[\u001b[38;5;28mstr\u001b[39m, Any], resp: requests\u001b[38;5;241m.\u001b[39mResponse\n\u001b[0;32m    260\u001b[0m ) \u001b[38;5;241m-\u001b[39m\u001b[38;5;241m>\u001b[39m QfResponse:\n\u001b[0;32m    261\u001b[0m     \u001b[38;5;28;01mtry\u001b[39;00m:\n\u001b[1;32m--> 262\u001b[0m         \u001b[38;5;28;01mreturn\u001b[39;00m \u001b[38;5;28;43msuper\u001b[39;49m\u001b[43m(\u001b[49m\u001b[43m)\u001b[49m\u001b[38;5;241;43m.\u001b[39;49m\u001b[43m_parse_response\u001b[49m\u001b[43m(\u001b[49m\u001b[43mbody\u001b[49m\u001b[43m,\u001b[49m\u001b[43m \u001b[49m\u001b[43mresp\u001b[49m\u001b[43m)\u001b[49m\n\u001b[0;32m    263\u001b[0m     \u001b[38;5;28;01mexcept\u001b[39;00m errors\u001b[38;5;241m.\u001b[39mAPIError \u001b[38;5;28;01mas\u001b[39;00m e:\n\u001b[0;32m    264\u001b[0m         \u001b[38;5;28;01mif\u001b[39;00m e\u001b[38;5;241m.\u001b[39merror_code \u001b[38;5;241m==\u001b[39m APIErrorCode\u001b[38;5;241m.\u001b[39mTPMLimitReached\u001b[38;5;241m.\u001b[39mvalue:\n",
      "File \u001b[1;32m~\\AppData\\Local\\miniconda3\\envs\\dev\\lib\\site-packages\\qianfan\\resources\\requestor\\base.py:312\u001b[0m, in \u001b[0;36mBaseAPIRequestor._parse_response\u001b[1;34m(self, body, resp)\u001b[0m\n\u001b[0;32m    306\u001b[0m \u001b[38;5;28;01mdef\u001b[39;00m \u001b[38;5;21m_parse_response\u001b[39m(\n\u001b[0;32m    307\u001b[0m     \u001b[38;5;28mself\u001b[39m, body: Dict[\u001b[38;5;28mstr\u001b[39m, Any], resp: requests\u001b[38;5;241m.\u001b[39mResponse\n\u001b[0;32m    308\u001b[0m ) \u001b[38;5;241m-\u001b[39m\u001b[38;5;241m>\u001b[39m QfResponse:\n\u001b[0;32m    309\u001b[0m \u001b[38;5;250m    \u001b[39m\u001b[38;5;124;03m\"\"\"\u001b[39;00m\n\u001b[0;32m    310\u001b[0m \u001b[38;5;124;03m    parse response to QfResponse\u001b[39;00m\n\u001b[0;32m    311\u001b[0m \u001b[38;5;124;03m    \"\"\"\u001b[39;00m\n\u001b[1;32m--> 312\u001b[0m     \u001b[38;5;28;43mself\u001b[39;49m\u001b[38;5;241;43m.\u001b[39;49m\u001b[43m_check_error\u001b[49m\u001b[43m(\u001b[49m\u001b[43mbody\u001b[49m\u001b[43m)\u001b[49m\n\u001b[0;32m    313\u001b[0m     qf_response \u001b[38;5;241m=\u001b[39m QfResponse(\n\u001b[0;32m    314\u001b[0m         code\u001b[38;5;241m=\u001b[39mresp\u001b[38;5;241m.\u001b[39mstatus_code, headers\u001b[38;5;241m=\u001b[39m\u001b[38;5;28mdict\u001b[39m(resp\u001b[38;5;241m.\u001b[39mheaders), body\u001b[38;5;241m=\u001b[39mbody\n\u001b[0;32m    315\u001b[0m     )\n\u001b[0;32m    316\u001b[0m     \u001b[38;5;28;01mreturn\u001b[39;00m qf_response\n",
      "File \u001b[1;32m~\\AppData\\Local\\miniconda3\\envs\\dev\\lib\\site-packages\\qianfan\\resources\\requestor\\openapi_requestor.py:256\u001b[0m, in \u001b[0;36mQfAPIRequestor._check_error\u001b[1;34m(self, body)\u001b[0m\n\u001b[0;32m    251\u001b[0m \u001b[38;5;28;01mif\u001b[39;00m error_code \u001b[38;5;129;01min\u001b[39;00m {\n\u001b[0;32m    252\u001b[0m     APIErrorCode\u001b[38;5;241m.\u001b[39mAPITokenExpired\u001b[38;5;241m.\u001b[39mvalue,\n\u001b[0;32m    253\u001b[0m     APIErrorCode\u001b[38;5;241m.\u001b[39mAPITokenInvalid\u001b[38;5;241m.\u001b[39mvalue,\n\u001b[0;32m    254\u001b[0m }:\n\u001b[0;32m    255\u001b[0m     \u001b[38;5;28;01mraise\u001b[39;00m errors\u001b[38;5;241m.\u001b[39mAccessTokenExpiredError\n\u001b[1;32m--> 256\u001b[0m \u001b[38;5;28;01mraise\u001b[39;00m errors\u001b[38;5;241m.\u001b[39mAPIError(error_code, err_msg, req_id)\n",
      "\u001b[1;31mAPIError\u001b[0m: api return error, req_id:  code: 18, msg: Open api qps request limit reached"
     ]
    }
   ],
   "source": [
    "# Retrieve\n",
    "svm_retriever = SVMRetriever.from_texts(splits,embedding)\n",
    "tfidf_retriever = TFIDFRetriever.from_texts(splits)"
   ]
  },
  {
   "cell_type": "code",
   "execution_count": null,
   "id": "0b1cc35f",
   "metadata": {
    "execution": {
     "iopub.status.busy": "2024-05-06T06:57:47.611129Z",
     "iopub.status.idle": "2024-05-06T06:57:47.611129Z",
     "shell.execute_reply": "2024-05-06T06:57:47.611129Z",
     "shell.execute_reply.started": "2024-05-06T06:57:47.611129Z"
    },
    "tags": []
   },
   "outputs": [],
   "source": [
    "question = \"What are major topics for this class?\"\n",
    "docs_svm=svm_retriever.get_relevant_documents(question)\n",
    "docs_svm[0]"
   ]
  },
  {
   "cell_type": "code",
   "execution_count": null,
   "id": "2a1659c0",
   "metadata": {
    "tags": []
   },
   "outputs": [],
   "source": [
    "question = \"what did they say about matlab?\"\n",
    "docs_tfidf=tfidf_retriever.get_relevant_documents(question)\n",
    "docs_tfidf[0]"
   ]
  },
  {
   "cell_type": "code",
   "execution_count": null,
   "id": "7885389e",
   "metadata": {},
   "outputs": [],
   "source": []
  }
 ],
 "metadata": {
  "kernelspec": {
   "display_name": "Python 3 (ipykernel)",
   "language": "python",
   "name": "python3"
  },
  "language_info": {
   "codemirror_mode": {
    "name": "ipython",
    "version": 3
   },
   "file_extension": ".py",
   "mimetype": "text/x-python",
   "name": "python",
   "nbconvert_exporter": "python",
   "pygments_lexer": "ipython3",
   "version": "3.10.14"
  }
 },
 "nbformat": 4,
 "nbformat_minor": 5
}
