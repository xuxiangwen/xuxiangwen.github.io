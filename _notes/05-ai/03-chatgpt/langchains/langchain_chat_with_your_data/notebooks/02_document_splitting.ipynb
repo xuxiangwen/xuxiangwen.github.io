{
 "cells": [
  {
   "cell_type": "markdown",
   "id": "bafb515b",
   "metadata": {},
   "source": [
    "# Document Splitting"
   ]
  },
  {
   "cell_type": "code",
   "execution_count": 1,
   "id": "1f9ad2a1-2c8e-471e-8174-338cf2e3e92d",
   "metadata": {
    "execution": {
     "iopub.execute_input": "2024-05-05T09:18:05.439853Z",
     "iopub.status.busy": "2024-05-05T09:18:05.439853Z",
     "iopub.status.idle": "2024-05-05T09:18:06.376495Z",
     "shell.execute_reply": "2024-05-05T09:18:06.375496Z",
     "shell.execute_reply.started": "2024-05-05T09:18:05.439853Z"
    },
    "height": 166,
    "tags": []
   },
   "outputs": [
    {
     "name": "stdout",
     "output_type": "stream",
     "text": [
      "QIANFAN_AK=HCCPsQy5p0Ex1rSEL6oorGQb\n",
      "QIANFAN_SK=TCVRfPCfbtLr0eDPZRXcywMxcgaNuLDE\n"
     ]
    }
   ],
   "source": [
    "# import os\n",
    "# import openai\n",
    "# import sys\n",
    "# sys.path.append('../..')\n",
    "\n",
    "# from dotenv import load_dotenv, find_dotenv\n",
    "# _ = load_dotenv(find_dotenv()) # read local .env file\n",
    "\n",
    "# openai.api_key  = os.environ['OPENAI_API_KEY']\n",
    "\n",
    "import os\n",
    "from langchain.embeddings import QianfanEmbeddingsEndpoint\n",
    "from langchain.chat_models import QianfanChatEndpoint\n",
    "\n",
    "from dotenv import load_dotenv, find_dotenv\n",
    "_ = load_dotenv(find_dotenv()) # read local .env file\n",
    "\n",
    "print(f\"QIANFAN_AK={os.environ['QIANFAN_AK']}\")\n",
    "print(f\"QIANFAN_SK={os.environ['QIANFAN_SK']}\")"
   ]
  },
  {
   "cell_type": "code",
   "execution_count": 2,
   "id": "06ea702c",
   "metadata": {
    "execution": {
     "iopub.execute_input": "2024-05-05T09:18:06.543989Z",
     "iopub.status.busy": "2024-05-05T09:18:06.543989Z",
     "iopub.status.idle": "2024-05-05T09:18:06.572519Z",
     "shell.execute_reply": "2024-05-05T09:18:06.571529Z",
     "shell.execute_reply.started": "2024-05-05T09:18:06.543989Z"
    },
    "height": 30,
    "tags": []
   },
   "outputs": [],
   "source": [
    "from langchain.text_splitter import RecursiveCharacterTextSplitter, CharacterTextSplitter"
   ]
  },
  {
   "cell_type": "code",
   "execution_count": 3,
   "id": "2d587fb0",
   "metadata": {
    "execution": {
     "iopub.execute_input": "2024-05-05T09:18:08.159217Z",
     "iopub.status.busy": "2024-05-05T09:18:08.159217Z",
     "iopub.status.idle": "2024-05-05T09:18:08.173555Z",
     "shell.execute_reply": "2024-05-05T09:18:08.172556Z",
     "shell.execute_reply.started": "2024-05-05T09:18:08.159217Z"
    },
    "height": 47,
    "tags": []
   },
   "outputs": [],
   "source": [
    "chunk_size =26\n",
    "chunk_overlap = 4"
   ]
  },
  {
   "cell_type": "code",
   "execution_count": 4,
   "id": "2723bf02",
   "metadata": {
    "execution": {
     "iopub.execute_input": "2024-05-05T09:18:08.579125Z",
     "iopub.status.busy": "2024-05-05T09:18:08.578054Z",
     "iopub.status.idle": "2024-05-05T09:18:08.585052Z",
     "shell.execute_reply": "2024-05-05T09:18:08.584056Z",
     "shell.execute_reply.started": "2024-05-05T09:18:08.579125Z"
    },
    "height": 149,
    "tags": []
   },
   "outputs": [],
   "source": [
    "r_splitter = RecursiveCharacterTextSplitter(\n",
    "    chunk_size=chunk_size,\n",
    "    chunk_overlap=chunk_overlap\n",
    ")\n",
    "c_splitter = CharacterTextSplitter(\n",
    "    chunk_size=chunk_size,\n",
    "    chunk_overlap=chunk_overlap\n",
    ")"
   ]
  },
  {
   "cell_type": "markdown",
   "id": "a61167fc",
   "metadata": {},
   "source": [
    "Why doesn't this split the string below?"
   ]
  },
  {
   "cell_type": "code",
   "execution_count": 5,
   "id": "dd21401b",
   "metadata": {
    "execution": {
     "iopub.execute_input": "2024-05-05T09:18:10.976530Z",
     "iopub.status.busy": "2024-05-05T09:18:10.976530Z",
     "iopub.status.idle": "2024-05-05T09:18:10.993523Z",
     "shell.execute_reply": "2024-05-05T09:18:10.992530Z",
     "shell.execute_reply.started": "2024-05-05T09:18:10.976530Z"
    },
    "height": 30,
    "tags": []
   },
   "outputs": [],
   "source": [
    "text1 = 'abcdefghijklmnopqrstuvwxyz'"
   ]
  },
  {
   "cell_type": "code",
   "execution_count": 6,
   "id": "fa92a860",
   "metadata": {
    "execution": {
     "iopub.execute_input": "2024-05-05T09:18:11.424588Z",
     "iopub.status.busy": "2024-05-05T09:18:11.423596Z",
     "iopub.status.idle": "2024-05-05T09:18:11.434588Z",
     "shell.execute_reply": "2024-05-05T09:18:11.434588Z",
     "shell.execute_reply.started": "2024-05-05T09:18:11.424588Z"
    },
    "height": 30,
    "tags": []
   },
   "outputs": [
    {
     "data": {
      "text/plain": [
       "['abcdefghijklmnopqrstuvwxyz']"
      ]
     },
     "execution_count": 6,
     "metadata": {},
     "output_type": "execute_result"
    }
   ],
   "source": [
    "r_splitter.split_text(text1)"
   ]
  },
  {
   "cell_type": "code",
   "execution_count": 7,
   "id": "8b5da0f9",
   "metadata": {
    "execution": {
     "iopub.execute_input": "2024-05-05T09:18:11.919224Z",
     "iopub.status.busy": "2024-05-05T09:18:11.919224Z",
     "iopub.status.idle": "2024-05-05T09:18:11.938234Z",
     "shell.execute_reply": "2024-05-05T09:18:11.937224Z",
     "shell.execute_reply.started": "2024-05-05T09:18:11.919224Z"
    },
    "height": 30,
    "tags": []
   },
   "outputs": [],
   "source": [
    "text2 = 'abcdefghijklmnopqrstuvwxyzabcdefg'"
   ]
  },
  {
   "cell_type": "code",
   "execution_count": 8,
   "id": "4ea0d456",
   "metadata": {
    "execution": {
     "iopub.execute_input": "2024-05-05T09:18:12.393603Z",
     "iopub.status.busy": "2024-05-05T09:18:12.392602Z",
     "iopub.status.idle": "2024-05-05T09:18:12.400421Z",
     "shell.execute_reply": "2024-05-05T09:18:12.400421Z",
     "shell.execute_reply.started": "2024-05-05T09:18:12.393603Z"
    },
    "height": 30,
    "tags": []
   },
   "outputs": [
    {
     "data": {
      "text/plain": [
       "['abcdefghijklmnopqrstuvwxyz', 'wxyzabcdefg']"
      ]
     },
     "execution_count": 8,
     "metadata": {},
     "output_type": "execute_result"
    }
   ],
   "source": [
    "r_splitter.split_text(text2)"
   ]
  },
  {
   "cell_type": "markdown",
   "id": "87200022",
   "metadata": {},
   "source": [
    "Ok, this splits the string but we have an overlap specified as 5, but it looks like 3? (try an even number)"
   ]
  },
  {
   "cell_type": "code",
   "execution_count": 9,
   "id": "dce39d64",
   "metadata": {
    "execution": {
     "iopub.execute_input": "2024-05-05T09:18:13.501741Z",
     "iopub.status.busy": "2024-05-05T09:18:13.501741Z",
     "iopub.status.idle": "2024-05-05T09:18:13.521285Z",
     "shell.execute_reply": "2024-05-05T09:18:13.520291Z",
     "shell.execute_reply.started": "2024-05-05T09:18:13.501741Z"
    },
    "height": 30,
    "tags": []
   },
   "outputs": [],
   "source": [
    "text3 = \"a b c d e f g h i j k l m n o p q r s t u v w x y z\""
   ]
  },
  {
   "cell_type": "code",
   "execution_count": 10,
   "id": "d96c0ab9",
   "metadata": {
    "execution": {
     "iopub.execute_input": "2024-05-05T09:18:14.042402Z",
     "iopub.status.busy": "2024-05-05T09:18:14.041410Z",
     "iopub.status.idle": "2024-05-05T09:18:14.055415Z",
     "shell.execute_reply": "2024-05-05T09:18:14.054413Z",
     "shell.execute_reply.started": "2024-05-05T09:18:14.042402Z"
    },
    "height": 30,
    "tags": []
   },
   "outputs": [
    {
     "data": {
      "text/plain": [
       "['a b c d e f g h i j k l m', 'l m n o p q r s t u v w x', 'w x y z']"
      ]
     },
     "execution_count": 10,
     "metadata": {},
     "output_type": "execute_result"
    }
   ],
   "source": [
    "r_splitter.split_text(text3)"
   ]
  },
  {
   "cell_type": "code",
   "execution_count": 11,
   "id": "0dbea42c",
   "metadata": {
    "execution": {
     "iopub.execute_input": "2024-05-05T09:18:14.534608Z",
     "iopub.status.busy": "2024-05-05T09:18:14.533606Z",
     "iopub.status.idle": "2024-05-05T09:18:14.541603Z",
     "shell.execute_reply": "2024-05-05T09:18:14.540613Z",
     "shell.execute_reply.started": "2024-05-05T09:18:14.534608Z"
    },
    "height": 30,
    "tags": []
   },
   "outputs": [
    {
     "data": {
      "text/plain": [
       "['a b c d e f g h i j k l m n o p q r s t u v w x y z']"
      ]
     },
     "execution_count": 11,
     "metadata": {},
     "output_type": "execute_result"
    }
   ],
   "source": [
    "c_splitter.split_text(text3)"
   ]
  },
  {
   "cell_type": "code",
   "execution_count": 12,
   "id": "63e71644",
   "metadata": {
    "execution": {
     "iopub.execute_input": "2024-05-05T09:18:15.004303Z",
     "iopub.status.busy": "2024-05-05T09:18:15.004303Z",
     "iopub.status.idle": "2024-05-05T09:18:15.011308Z",
     "shell.execute_reply": "2024-05-05T09:18:15.010308Z",
     "shell.execute_reply.started": "2024-05-05T09:18:15.004303Z"
    },
    "height": 115,
    "tags": []
   },
   "outputs": [
    {
     "data": {
      "text/plain": [
       "['a b c d e f g h i j k l m', 'l m n o p q r s t u v w x', 'w x y z']"
      ]
     },
     "execution_count": 12,
     "metadata": {},
     "output_type": "execute_result"
    }
   ],
   "source": [
    "c_splitter = CharacterTextSplitter(\n",
    "    chunk_size=chunk_size,\n",
    "    chunk_overlap=chunk_overlap,\n",
    "    separator = ' '\n",
    ")\n",
    "c_splitter.split_text(text3)"
   ]
  },
  {
   "cell_type": "markdown",
   "id": "8b613ee6-6d34-4504-b00d-bb0dbf414cfe",
   "metadata": {},
   "source": [
    "Try your own examples!"
   ]
  },
  {
   "cell_type": "markdown",
   "id": "c1a4d0ed",
   "metadata": {},
   "source": [
    "## Recursive splitting details\n",
    "\n",
    "`RecursiveCharacterTextSplitter` is recommended for generic text. "
   ]
  },
  {
   "cell_type": "code",
   "execution_count": 13,
   "id": "96926a42-92e6-4ad4-9946-908a075fb32d",
   "metadata": {
    "execution": {
     "iopub.execute_input": "2024-05-05T09:18:16.548863Z",
     "iopub.status.busy": "2024-05-05T09:18:16.547863Z",
     "iopub.status.idle": "2024-05-05T09:18:16.558857Z",
     "shell.execute_reply": "2024-05-05T09:18:16.557857Z",
     "shell.execute_reply.started": "2024-05-05T09:18:16.548863Z"
    },
    "height": 132,
    "tags": []
   },
   "outputs": [],
   "source": [
    "some_text = \"\"\"When writing documents, writers will use document structure to group content. \\\n",
    "This can convey to the reader, which idea's are related. For example, closely related ideas \\\n",
    "are in sentances. Similar ideas are in paragraphs. Paragraphs form a document. \\n\\n  \\\n",
    "Paragraphs are often delimited with a carriage return or two carriage returns. \\\n",
    "Carriage returns are the \"backslash n\" you see embedded in this string. \\\n",
    "Sentences have a period at the end, but also, have a space.\\\n",
    "and words are separated by space.\"\"\""
   ]
  },
  {
   "cell_type": "code",
   "execution_count": 14,
   "id": "18706d73",
   "metadata": {
    "execution": {
     "iopub.execute_input": "2024-05-05T09:18:17.050761Z",
     "iopub.status.busy": "2024-05-05T09:18:17.050761Z",
     "iopub.status.idle": "2024-05-05T09:18:17.058754Z",
     "shell.execute_reply": "2024-05-05T09:18:17.057755Z",
     "shell.execute_reply.started": "2024-05-05T09:18:17.050761Z"
    },
    "height": 30,
    "tags": []
   },
   "outputs": [
    {
     "data": {
      "text/plain": [
       "496"
      ]
     },
     "execution_count": 14,
     "metadata": {},
     "output_type": "execute_result"
    }
   ],
   "source": [
    "len(some_text)"
   ]
  },
  {
   "cell_type": "code",
   "execution_count": 15,
   "id": "5083a172-ba0a-4d9f-b561-18f0d2e6d9ce",
   "metadata": {
    "execution": {
     "iopub.execute_input": "2024-05-05T09:18:17.699268Z",
     "iopub.status.busy": "2024-05-05T09:18:17.699268Z",
     "iopub.status.idle": "2024-05-05T09:18:17.703251Z",
     "shell.execute_reply": "2024-05-05T09:18:17.703251Z",
     "shell.execute_reply.started": "2024-05-05T09:18:17.699268Z"
    },
    "height": 183,
    "tags": []
   },
   "outputs": [],
   "source": [
    "c_splitter = CharacterTextSplitter(\n",
    "    chunk_size=450,\n",
    "    chunk_overlap=0,\n",
    "    separator = ' '\n",
    ")\n",
    "r_splitter = RecursiveCharacterTextSplitter(\n",
    "    chunk_size=450,\n",
    "    chunk_overlap=0, \n",
    "    separators=[\"\\n\\n\", \"\\n\", \" \", \"\"]\n",
    ")"
   ]
  },
  {
   "cell_type": "code",
   "execution_count": 16,
   "id": "7f8aa4ed-5347-4819-b3c1-d15696832a65",
   "metadata": {
    "execution": {
     "iopub.execute_input": "2024-05-05T09:18:18.150082Z",
     "iopub.status.busy": "2024-05-05T09:18:18.149083Z",
     "iopub.status.idle": "2024-05-05T09:18:18.166097Z",
     "shell.execute_reply": "2024-05-05T09:18:18.165090Z",
     "shell.execute_reply.started": "2024-05-05T09:18:18.150082Z"
    },
    "height": 30,
    "tags": []
   },
   "outputs": [
    {
     "data": {
      "text/plain": [
       "['When writing documents, writers will use document structure to group content. This can convey to the reader, which idea\\'s are related. For example, closely related ideas are in sentances. Similar ideas are in paragraphs. Paragraphs form a document. \\n\\n Paragraphs are often delimited with a carriage return or two carriage returns. Carriage returns are the \"backslash n\" you see embedded in this string. Sentences have a period at the end, but also,',\n",
       " 'have a space.and words are separated by space.']"
      ]
     },
     "execution_count": 16,
     "metadata": {},
     "output_type": "execute_result"
    }
   ],
   "source": [
    "c_splitter.split_text(some_text)"
   ]
  },
  {
   "cell_type": "code",
   "execution_count": 17,
   "id": "6af907f2-4110-4e40-a831-593f8592bd83",
   "metadata": {
    "execution": {
     "iopub.execute_input": "2024-05-05T09:18:19.082280Z",
     "iopub.status.busy": "2024-05-05T09:18:19.081280Z",
     "iopub.status.idle": "2024-05-05T09:18:19.092281Z",
     "shell.execute_reply": "2024-05-05T09:18:19.092281Z",
     "shell.execute_reply.started": "2024-05-05T09:18:19.082280Z"
    },
    "height": 30,
    "tags": []
   },
   "outputs": [
    {
     "data": {
      "text/plain": [
       "[\"When writing documents, writers will use document structure to group content. This can convey to the reader, which idea's are related. For example, closely related ideas are in sentances. Similar ideas are in paragraphs. Paragraphs form a document.\",\n",
       " 'Paragraphs are often delimited with a carriage return or two carriage returns. Carriage returns are the \"backslash n\" you see embedded in this string. Sentences have a period at the end, but also, have a space.and words are separated by space.']"
      ]
     },
     "execution_count": 17,
     "metadata": {},
     "output_type": "execute_result"
    }
   ],
   "source": [
    "r_splitter.split_text(some_text)"
   ]
  },
  {
   "cell_type": "markdown",
   "id": "3b3720ef-2a97-4e0f-a2da-660b274b2f00",
   "metadata": {
    "tags": []
   },
   "source": [
    "Let's reduce the chunk size a bit and add a period to our separators:"
   ]
  },
  {
   "cell_type": "code",
   "execution_count": 18,
   "id": "1e5496ea-d34e-4ed9-8f68-9dadd86e8da7",
   "metadata": {
    "execution": {
     "iopub.execute_input": "2024-05-05T09:18:20.036580Z",
     "iopub.status.busy": "2024-05-05T09:18:20.035574Z",
     "iopub.status.idle": "2024-05-05T09:18:20.042575Z",
     "shell.execute_reply": "2024-05-05T09:18:20.042575Z",
     "shell.execute_reply.started": "2024-05-05T09:18:20.036580Z"
    },
    "height": 115,
    "tags": []
   },
   "outputs": [
    {
     "data": {
      "text/plain": [
       "[\"When writing documents, writers will use document structure to group content. This can convey to the reader, which idea's are related. For example,\",\n",
       " 'closely related ideas are in sentances. Similar ideas are in paragraphs. Paragraphs form a document.',\n",
       " 'Paragraphs are often delimited with a carriage return or two carriage returns. Carriage returns are the \"backslash n\" you see embedded in this',\n",
       " 'string. Sentences have a period at the end, but also, have a space.and words are separated by space.']"
      ]
     },
     "execution_count": 18,
     "metadata": {},
     "output_type": "execute_result"
    }
   ],
   "source": [
    "r_splitter = RecursiveCharacterTextSplitter(\n",
    "    chunk_size=150,\n",
    "    chunk_overlap=0,\n",
    "    separators=[\"\\n\\n\", \"\\n\", \"\\. \", \" \", \"\"]\n",
    ")\n",
    "r_splitter.split_text(some_text)"
   ]
  },
  {
   "cell_type": "code",
   "execution_count": 19,
   "id": "31da7561",
   "metadata": {
    "execution": {
     "iopub.execute_input": "2024-05-05T09:18:20.562531Z",
     "iopub.status.busy": "2024-05-05T09:18:20.561499Z",
     "iopub.status.idle": "2024-05-05T09:18:20.576531Z",
     "shell.execute_reply": "2024-05-05T09:18:20.575538Z",
     "shell.execute_reply.started": "2024-05-05T09:18:20.562531Z"
    },
    "height": 115,
    "tags": []
   },
   "outputs": [
    {
     "data": {
      "text/plain": [
       "[\"When writing documents, writers will use document structure to group content. This can convey to the reader, which idea's are related. For example,\",\n",
       " 'closely related ideas are in sentances. Similar ideas are in paragraphs. Paragraphs form a document.',\n",
       " 'Paragraphs are often delimited with a carriage return or two carriage returns. Carriage returns are the \"backslash n\" you see embedded in this',\n",
       " 'string. Sentences have a period at the end, but also, have a space.and words are separated by space.']"
      ]
     },
     "execution_count": 19,
     "metadata": {},
     "output_type": "execute_result"
    }
   ],
   "source": [
    "r_splitter = RecursiveCharacterTextSplitter(\n",
    "    chunk_size=150,\n",
    "    chunk_overlap=0,\n",
    "    separators=[\"\\n\\n\", \"\\n\", \"(?<=\\. )\", \" \", \"\"]\n",
    ")\n",
    "r_splitter.split_text(some_text)"
   ]
  },
  {
   "cell_type": "code",
   "execution_count": 20,
   "id": "a469e07d",
   "metadata": {
    "execution": {
     "iopub.execute_input": "2024-05-05T09:18:21.095979Z",
     "iopub.status.busy": "2024-05-05T09:18:21.095979Z",
     "iopub.status.idle": "2024-05-05T09:18:21.557930Z",
     "shell.execute_reply": "2024-05-05T09:18:21.556936Z",
     "shell.execute_reply.started": "2024-05-05T09:18:21.095979Z"
    },
    "height": 64,
    "tags": []
   },
   "outputs": [],
   "source": [
    "from langchain.document_loaders import PyPDFLoader\n",
    "loader = PyPDFLoader(\"docs/cs229_lectures/MachineLearning-Lecture01.pdf\")\n",
    "pages = loader.load()"
   ]
  },
  {
   "cell_type": "code",
   "execution_count": 21,
   "id": "bba6f05d",
   "metadata": {
    "execution": {
     "iopub.execute_input": "2024-05-05T09:18:21.590107Z",
     "iopub.status.busy": "2024-05-05T09:18:21.589108Z",
     "iopub.status.idle": "2024-05-05T09:18:21.596222Z",
     "shell.execute_reply": "2024-05-05T09:18:21.595215Z",
     "shell.execute_reply.started": "2024-05-05T09:18:21.590107Z"
    },
    "height": 132,
    "tags": []
   },
   "outputs": [],
   "source": [
    "from langchain.text_splitter import CharacterTextSplitter\n",
    "text_splitter = CharacterTextSplitter(\n",
    "    separator=\"\\n\",\n",
    "    chunk_size=1000,\n",
    "    chunk_overlap=150,\n",
    "    length_function=len\n",
    ")"
   ]
  },
  {
   "cell_type": "code",
   "execution_count": 22,
   "id": "c752a663-896b-4a24-9ffb-7640642b7a3f",
   "metadata": {
    "execution": {
     "iopub.execute_input": "2024-05-05T09:18:22.793086Z",
     "iopub.status.busy": "2024-05-05T09:18:22.793086Z",
     "iopub.status.idle": "2024-05-05T09:18:22.807421Z",
     "shell.execute_reply": "2024-05-05T09:18:22.806420Z",
     "shell.execute_reply.started": "2024-05-05T09:18:22.793086Z"
    },
    "height": 30,
    "tags": []
   },
   "outputs": [],
   "source": [
    "docs = text_splitter.split_documents(pages)"
   ]
  },
  {
   "cell_type": "code",
   "execution_count": 23,
   "id": "7474a52c",
   "metadata": {
    "execution": {
     "iopub.execute_input": "2024-05-05T09:18:25.420731Z",
     "iopub.status.busy": "2024-05-05T09:18:25.419732Z",
     "iopub.status.idle": "2024-05-05T09:18:25.426724Z",
     "shell.execute_reply": "2024-05-05T09:18:25.426724Z",
     "shell.execute_reply.started": "2024-05-05T09:18:25.420731Z"
    },
    "height": 30,
    "tags": []
   },
   "outputs": [
    {
     "data": {
      "text/plain": [
       "77"
      ]
     },
     "execution_count": 23,
     "metadata": {},
     "output_type": "execute_result"
    }
   ],
   "source": [
    "len(docs)"
   ]
  },
  {
   "cell_type": "code",
   "execution_count": 24,
   "id": "d16046b2",
   "metadata": {
    "execution": {
     "iopub.execute_input": "2024-05-05T09:18:25.942367Z",
     "iopub.status.busy": "2024-05-05T09:18:25.941373Z",
     "iopub.status.idle": "2024-05-05T09:18:25.949362Z",
     "shell.execute_reply": "2024-05-05T09:18:25.948377Z",
     "shell.execute_reply.started": "2024-05-05T09:18:25.942367Z"
    },
    "height": 30,
    "tags": []
   },
   "outputs": [
    {
     "data": {
      "text/plain": [
       "22"
      ]
     },
     "execution_count": 24,
     "metadata": {},
     "output_type": "execute_result"
    }
   ],
   "source": [
    "len(pages)"
   ]
  },
  {
   "cell_type": "code",
   "execution_count": 25,
   "id": "3a9e741c",
   "metadata": {
    "execution": {
     "iopub.execute_input": "2024-05-05T09:18:26.399860Z",
     "iopub.status.busy": "2024-05-05T09:18:26.399860Z",
     "iopub.status.idle": "2024-05-05T09:18:26.420277Z",
     "shell.execute_reply": "2024-05-05T09:18:26.419283Z",
     "shell.execute_reply.started": "2024-05-05T09:18:26.399860Z"
    },
    "height": 64,
    "tags": []
   },
   "outputs": [],
   "source": [
    "from langchain.document_loaders import NotionDirectoryLoader\n",
    "loader = NotionDirectoryLoader(\"docs/Notion_DB\")\n",
    "notion_db = loader.load()"
   ]
  },
  {
   "cell_type": "code",
   "execution_count": 26,
   "id": "d30861d0-4370-49c1-a6fc-a924f9a171ee",
   "metadata": {
    "execution": {
     "iopub.execute_input": "2024-05-05T09:18:26.838517Z",
     "iopub.status.busy": "2024-05-05T09:18:26.838517Z",
     "iopub.status.idle": "2024-05-05T09:18:26.845987Z",
     "shell.execute_reply": "2024-05-05T09:18:26.844919Z",
     "shell.execute_reply.started": "2024-05-05T09:18:26.838517Z"
    },
    "height": 30,
    "tags": []
   },
   "outputs": [],
   "source": [
    "docs = text_splitter.split_documents(notion_db)"
   ]
  },
  {
   "cell_type": "code",
   "execution_count": 27,
   "id": "39a59ff8",
   "metadata": {
    "execution": {
     "iopub.execute_input": "2024-05-05T09:18:27.249559Z",
     "iopub.status.busy": "2024-05-05T09:18:27.248565Z",
     "iopub.status.idle": "2024-05-05T09:18:27.257560Z",
     "shell.execute_reply": "2024-05-05T09:18:27.256562Z",
     "shell.execute_reply.started": "2024-05-05T09:18:27.249559Z"
    },
    "height": 30,
    "tags": []
   },
   "outputs": [
    {
     "data": {
      "text/plain": [
       "1"
      ]
     },
     "execution_count": 27,
     "metadata": {},
     "output_type": "execute_result"
    }
   ],
   "source": [
    "len(notion_db)"
   ]
  },
  {
   "cell_type": "code",
   "execution_count": 28,
   "id": "73411cbd",
   "metadata": {
    "execution": {
     "iopub.execute_input": "2024-05-05T09:18:27.691341Z",
     "iopub.status.busy": "2024-05-05T09:18:27.690342Z",
     "iopub.status.idle": "2024-05-05T09:18:27.711401Z",
     "shell.execute_reply": "2024-05-05T09:18:27.710390Z",
     "shell.execute_reply.started": "2024-05-05T09:18:27.691341Z"
    },
    "height": 30,
    "tags": []
   },
   "outputs": [
    {
     "data": {
      "text/plain": [
       "8"
      ]
     },
     "execution_count": 28,
     "metadata": {},
     "output_type": "execute_result"
    }
   ],
   "source": [
    "len(docs)"
   ]
  },
  {
   "cell_type": "markdown",
   "id": "68f720db",
   "metadata": {},
   "source": [
    "## Token splitting\n",
    "\n",
    "We can also split on token count explicity, if we want.\n",
    "\n",
    "This can be useful because LLMs often have context windows designated in tokens.\n",
    "\n",
    "Tokens are often ~4 characters."
   ]
  },
  {
   "cell_type": "code",
   "execution_count": null,
   "id": "8df245b4-caf4-4655-a170-9d73501a9db2",
   "metadata": {},
   "outputs": [],
   "source": [
    "#!pip install tiktoken # OpenAI开源了GPT-2中使用的BPE算法tiktoken， 官方宣称该库做BPE比HuggingFace的tokenizer快好几倍."
   ]
  },
  {
   "cell_type": "code",
   "execution_count": 31,
   "id": "da0bcc05",
   "metadata": {
    "execution": {
     "iopub.execute_input": "2024-05-05T09:20:07.624194Z",
     "iopub.status.busy": "2024-05-05T09:20:07.623644Z",
     "iopub.status.idle": "2024-05-05T09:20:07.639199Z",
     "shell.execute_reply": "2024-05-05T09:20:07.638198Z",
     "shell.execute_reply.started": "2024-05-05T09:20:07.624194Z"
    },
    "height": 30,
    "tags": []
   },
   "outputs": [],
   "source": [
    "from langchain.text_splitter import TokenTextSplitter"
   ]
  },
  {
   "cell_type": "code",
   "execution_count": 32,
   "id": "0116b01b-2b0b-47a7-a107-bbc497029713",
   "metadata": {
    "execution": {
     "iopub.execute_input": "2024-05-05T09:20:08.191735Z",
     "iopub.status.busy": "2024-05-05T09:20:08.191735Z",
     "iopub.status.idle": "2024-05-05T09:20:18.469210Z",
     "shell.execute_reply": "2024-05-05T09:20:18.469210Z",
     "shell.execute_reply.started": "2024-05-05T09:20:08.191735Z"
    },
    "height": 30,
    "tags": []
   },
   "outputs": [],
   "source": [
    "text_splitter = TokenTextSplitter(chunk_size=1, chunk_overlap=0)"
   ]
  },
  {
   "cell_type": "code",
   "execution_count": 33,
   "id": "07a95e78",
   "metadata": {
    "execution": {
     "iopub.execute_input": "2024-05-05T09:20:18.471307Z",
     "iopub.status.busy": "2024-05-05T09:20:18.470324Z",
     "iopub.status.idle": "2024-05-05T09:20:18.485221Z",
     "shell.execute_reply": "2024-05-05T09:20:18.484222Z",
     "shell.execute_reply.started": "2024-05-05T09:20:18.471307Z"
    },
    "height": 30,
    "tags": []
   },
   "outputs": [],
   "source": [
    "text1 = \"foo bar bazzyfoo\""
   ]
  },
  {
   "cell_type": "code",
   "execution_count": 34,
   "id": "8eec0912",
   "metadata": {
    "execution": {
     "iopub.execute_input": "2024-05-05T09:20:18.486222Z",
     "iopub.status.busy": "2024-05-05T09:20:18.486222Z",
     "iopub.status.idle": "2024-05-05T09:20:18.500216Z",
     "shell.execute_reply": "2024-05-05T09:20:18.499215Z",
     "shell.execute_reply.started": "2024-05-05T09:20:18.486222Z"
    },
    "height": 30,
    "tags": []
   },
   "outputs": [
    {
     "data": {
      "text/plain": [
       "['foo', ' bar', ' b', 'az', 'zy', 'foo']"
      ]
     },
     "execution_count": 34,
     "metadata": {},
     "output_type": "execute_result"
    }
   ],
   "source": [
    "text_splitter.split_text(text1)"
   ]
  },
  {
   "cell_type": "code",
   "execution_count": 35,
   "id": "ffa29d43",
   "metadata": {
    "execution": {
     "iopub.execute_input": "2024-05-05T09:20:18.502220Z",
     "iopub.status.busy": "2024-05-05T09:20:18.502220Z",
     "iopub.status.idle": "2024-05-05T09:20:18.516234Z",
     "shell.execute_reply": "2024-05-05T09:20:18.515234Z",
     "shell.execute_reply.started": "2024-05-05T09:20:18.502220Z"
    },
    "height": 30,
    "tags": []
   },
   "outputs": [],
   "source": [
    "text_splitter = TokenTextSplitter(chunk_size=10, chunk_overlap=0)"
   ]
  },
  {
   "cell_type": "code",
   "execution_count": 36,
   "id": "e53e203a",
   "metadata": {
    "execution": {
     "iopub.execute_input": "2024-05-05T09:20:18.517237Z",
     "iopub.status.busy": "2024-05-05T09:20:18.517237Z",
     "iopub.status.idle": "2024-05-05T09:20:18.577886Z",
     "shell.execute_reply": "2024-05-05T09:20:18.576882Z",
     "shell.execute_reply.started": "2024-05-05T09:20:18.517237Z"
    },
    "height": 30,
    "tags": []
   },
   "outputs": [],
   "source": [
    "docs = text_splitter.split_documents(pages)"
   ]
  },
  {
   "cell_type": "code",
   "execution_count": 37,
   "id": "3b186c5f",
   "metadata": {
    "execution": {
     "iopub.execute_input": "2024-05-05T09:20:18.580884Z",
     "iopub.status.busy": "2024-05-05T09:20:18.579886Z",
     "iopub.status.idle": "2024-05-05T09:20:18.594092Z",
     "shell.execute_reply": "2024-05-05T09:20:18.592876Z",
     "shell.execute_reply.started": "2024-05-05T09:20:18.580884Z"
    },
    "height": 30,
    "tags": []
   },
   "outputs": [
    {
     "data": {
      "text/plain": [
       "Document(page_content='MachineLearning-Lecture01  \\n', metadata={'source': 'docs/cs229_lectures/MachineLearning-Lecture01.pdf', 'page': 0})"
      ]
     },
     "execution_count": 37,
     "metadata": {},
     "output_type": "execute_result"
    }
   ],
   "source": [
    "docs[0]"
   ]
  },
  {
   "cell_type": "code",
   "execution_count": 38,
   "id": "917f7abc",
   "metadata": {
    "execution": {
     "iopub.execute_input": "2024-05-05T09:20:18.594879Z",
     "iopub.status.busy": "2024-05-05T09:20:18.594879Z",
     "iopub.status.idle": "2024-05-05T09:20:18.608886Z",
     "shell.execute_reply": "2024-05-05T09:20:18.608886Z",
     "shell.execute_reply.started": "2024-05-05T09:20:18.594879Z"
    },
    "height": 30,
    "tags": []
   },
   "outputs": [
    {
     "data": {
      "text/plain": [
       "{'source': 'docs/cs229_lectures/MachineLearning-Lecture01.pdf', 'page': 0}"
      ]
     },
     "execution_count": 38,
     "metadata": {},
     "output_type": "execute_result"
    }
   ],
   "source": [
    "pages[0].metadata"
   ]
  },
  {
   "cell_type": "markdown",
   "id": "282d9bfa",
   "metadata": {},
   "source": [
    "## Context aware splitting\n",
    "\n",
    "Chunking aims to keep text with common context together.\n",
    "\n",
    "A text splitting often uses sentences or other delimiters to keep related text together but many documents (such as Markdown) have structure (headers) that can be explicitly used in splitting.\n",
    "\n",
    "We can use `MarkdownHeaderTextSplitter` to preserve header metadata in our chunks, as show below."
   ]
  },
  {
   "cell_type": "code",
   "execution_count": 39,
   "id": "aa3b93d9",
   "metadata": {
    "execution": {
     "iopub.execute_input": "2024-05-05T09:20:18.610968Z",
     "iopub.status.busy": "2024-05-05T09:20:18.609956Z",
     "iopub.status.idle": "2024-05-05T09:20:18.625925Z",
     "shell.execute_reply": "2024-05-05T09:20:18.624931Z",
     "shell.execute_reply.started": "2024-05-05T09:20:18.610968Z"
    },
    "height": 47,
    "tags": []
   },
   "outputs": [],
   "source": [
    "from langchain.document_loaders import NotionDirectoryLoader\n",
    "from langchain.text_splitter import MarkdownHeaderTextSplitter"
   ]
  },
  {
   "cell_type": "code",
   "execution_count": 51,
   "id": "d2c73a9c",
   "metadata": {
    "execution": {
     "iopub.execute_input": "2024-05-05T10:14:42.212458Z",
     "iopub.status.busy": "2024-05-05T10:14:42.212458Z",
     "iopub.status.idle": "2024-05-05T10:14:42.231464Z",
     "shell.execute_reply": "2024-05-05T10:14:42.230467Z",
     "shell.execute_reply.started": "2024-05-05T10:14:42.212458Z"
    },
    "height": 132,
    "tags": []
   },
   "outputs": [],
   "source": [
    "markdown_document = \"\"\"# Title\\n\\n \\\n",
    "## Chapter 1\\n\\n \\\n",
    "Hi this is Jim\\n\\n Hi this is Joe \\n\\n \\\n",
    "### Section 1.1 \\n\\n \\\n",
    "Hi this is Lance \\n\\n \n",
    "## Chapter 2\\n\\n \\\n",
    "Hi this is Molly \n",
    "### Section 2.1 \\n\\n \\\n",
    "hello\n",
    "\"\"\""
   ]
  },
  {
   "cell_type": "code",
   "execution_count": 52,
   "id": "eadb7740",
   "metadata": {
    "execution": {
     "iopub.execute_input": "2024-05-05T10:14:42.995119Z",
     "iopub.status.busy": "2024-05-05T10:14:42.995119Z",
     "iopub.status.idle": "2024-05-05T10:14:43.001114Z",
     "shell.execute_reply": "2024-05-05T10:14:43.000114Z",
     "shell.execute_reply.started": "2024-05-05T10:14:42.995119Z"
    },
    "height": 98,
    "tags": []
   },
   "outputs": [],
   "source": [
    "headers_to_split_on = [\n",
    "    (\"#\", \"Header 1\"),\n",
    "    (\"##\", \"Header 2\"),\n",
    "    (\"###\", \"Header 3\"),\n",
    "]"
   ]
  },
  {
   "cell_type": "code",
   "execution_count": 53,
   "id": "a789eede",
   "metadata": {
    "execution": {
     "iopub.execute_input": "2024-05-05T10:14:43.795909Z",
     "iopub.status.busy": "2024-05-05T10:14:43.794890Z",
     "iopub.status.idle": "2024-05-05T10:14:43.812414Z",
     "shell.execute_reply": "2024-05-05T10:14:43.811419Z",
     "shell.execute_reply.started": "2024-05-05T10:14:43.795909Z"
    },
    "height": 81,
    "tags": []
   },
   "outputs": [],
   "source": [
    "markdown_splitter = MarkdownHeaderTextSplitter(\n",
    "    headers_to_split_on=headers_to_split_on\n",
    ")\n",
    "md_header_splits = markdown_splitter.split_text(markdown_document)"
   ]
  },
  {
   "cell_type": "code",
   "execution_count": 54,
   "id": "27053c17",
   "metadata": {
    "execution": {
     "iopub.execute_input": "2024-05-05T10:14:44.717052Z",
     "iopub.status.busy": "2024-05-05T10:14:44.716046Z",
     "iopub.status.idle": "2024-05-05T10:14:44.730049Z",
     "shell.execute_reply": "2024-05-05T10:14:44.729050Z",
     "shell.execute_reply.started": "2024-05-05T10:14:44.717052Z"
    },
    "height": 30,
    "tags": []
   },
   "outputs": [
    {
     "data": {
      "text/plain": [
       "Document(page_content='Hi this is Jim  \\nHi this is Joe', metadata={'Header 1': 'Title', 'Header 2': 'Chapter 1'})"
      ]
     },
     "execution_count": 54,
     "metadata": {},
     "output_type": "execute_result"
    }
   ],
   "source": [
    "md_header_splits[0]"
   ]
  },
  {
   "cell_type": "code",
   "execution_count": 55,
   "id": "a5b6b903",
   "metadata": {
    "execution": {
     "iopub.execute_input": "2024-05-05T10:14:45.625522Z",
     "iopub.status.busy": "2024-05-05T10:14:45.624522Z",
     "iopub.status.idle": "2024-05-05T10:14:45.631523Z",
     "shell.execute_reply": "2024-05-05T10:14:45.631523Z",
     "shell.execute_reply.started": "2024-05-05T10:14:45.625522Z"
    },
    "height": 30,
    "tags": []
   },
   "outputs": [
    {
     "name": "stdout",
     "output_type": "stream",
     "text": [
      "--------------------------------------------------\n",
      "page_content='Hi this is Jim  \\nHi this is Joe' metadata={'Header 1': 'Title', 'Header 2': 'Chapter 1'}\n",
      "--------------------------------------------------\n",
      "page_content='Hi this is Lance' metadata={'Header 1': 'Title', 'Header 2': 'Chapter 1', 'Header 3': 'Section 1.1'}\n",
      "--------------------------------------------------\n",
      "page_content='Hi this is Molly' metadata={'Header 1': 'Title', 'Header 2': 'Chapter 2'}\n",
      "--------------------------------------------------\n",
      "page_content='hello' metadata={'Header 1': 'Title', 'Header 2': 'Chapter 2', 'Header 3': 'Section 2.1'}\n"
     ]
    }
   ],
   "source": [
    "for i in range(len(md_header_splits)):\n",
    "    print('-'*50)\n",
    "    print(md_header_splits[i])"
   ]
  },
  {
   "cell_type": "markdown",
   "id": "8d0c6111",
   "metadata": {},
   "source": [
    "Try on a real Markdown file, like a Notion database."
   ]
  },
  {
   "cell_type": "code",
   "execution_count": 45,
   "id": "b238b16f",
   "metadata": {
    "execution": {
     "iopub.execute_input": "2024-05-05T09:20:22.184388Z",
     "iopub.status.busy": "2024-05-05T09:20:22.184388Z",
     "iopub.status.idle": "2024-05-05T09:20:22.205837Z",
     "shell.execute_reply": "2024-05-05T09:20:22.204846Z",
     "shell.execute_reply.started": "2024-05-05T09:20:22.184388Z"
    },
    "height": 64,
    "tags": []
   },
   "outputs": [],
   "source": [
    "loader = NotionDirectoryLoader(\"docs/Notion_DB\")\n",
    "docs = loader.load()\n",
    "txt = ' '.join([d.page_content for d in docs])"
   ]
  },
  {
   "cell_type": "code",
   "execution_count": 46,
   "id": "9fdab1d4",
   "metadata": {
    "execution": {
     "iopub.execute_input": "2024-05-05T09:20:23.032391Z",
     "iopub.status.busy": "2024-05-05T09:20:23.032391Z",
     "iopub.status.idle": "2024-05-05T09:20:23.040474Z",
     "shell.execute_reply": "2024-05-05T09:20:23.039472Z",
     "shell.execute_reply.started": "2024-05-05T09:20:23.032391Z"
    },
    "height": 132,
    "tags": []
   },
   "outputs": [],
   "source": [
    "headers_to_split_on = [\n",
    "    (\"#\", \"Header 1\"),\n",
    "    (\"##\", \"Header 2\"),\n",
    "]\n",
    "markdown_splitter = MarkdownHeaderTextSplitter(\n",
    "    headers_to_split_on=headers_to_split_on\n",
    ")"
   ]
  },
  {
   "cell_type": "code",
   "execution_count": 47,
   "id": "e722c39c",
   "metadata": {
    "execution": {
     "iopub.execute_input": "2024-05-05T09:20:23.785011Z",
     "iopub.status.busy": "2024-05-05T09:20:23.785011Z",
     "iopub.status.idle": "2024-05-05T09:20:23.790100Z",
     "shell.execute_reply": "2024-05-05T09:20:23.789015Z",
     "shell.execute_reply.started": "2024-05-05T09:20:23.785011Z"
    },
    "height": 30,
    "tags": []
   },
   "outputs": [],
   "source": [
    "md_header_splits = markdown_splitter.split_text(txt)"
   ]
  },
  {
   "cell_type": "code",
   "execution_count": 48,
   "id": "3f2b6df5",
   "metadata": {
    "execution": {
     "iopub.execute_input": "2024-05-05T09:20:24.253551Z",
     "iopub.status.busy": "2024-05-05T09:20:24.252557Z",
     "iopub.status.idle": "2024-05-05T09:20:24.272479Z",
     "shell.execute_reply": "2024-05-05T09:20:24.271478Z",
     "shell.execute_reply.started": "2024-05-05T09:20:24.253551Z"
    },
    "height": 30,
    "tags": []
   },
   "outputs": [
    {
     "data": {
      "text/plain": [
       "Document(page_content=\"This is a living document with everything we've learned working with people while running a startup. And, of course, we continue to learn. Therefore it's a document that will continue to change.  \\n**Everything related to working at Blendle and the people of Blendle, made public.**  \\nThese are the lessons from three years of working with the people of Blendle. It contains everything from [how our leaders lead](https://www.notion.so/ecfb7e647136468a9a0a32f1771a8f52?pvs=21) to [how we increase salaries](https://www.notion.so/Salary-Review-e11b6161c6d34f5c9568bb3e83ed96b6?pvs=21), from [how we hire](https://www.notion.so/Hiring-451bbcfe8d9b49438c0633326bb7af0a?pvs=21) and [fire](https://www.notion.so/Firing-5567687a2000496b8412e53cd58eed9d?pvs=21) to [how we think people should give each other feedback](https://www.notion.so/Our-Feedback-Process-eb64f1de796b4350aeab3bc068e3801f?pvs=21) — and much more.  \\nWe've made this document public because we want to learn from you. We're very much interested in your feedback (including weeding out typo's and Dunglish ;)). Email us at hr@blendle.com. If you're starting your own company or if you're curious as to how we do things at Blendle, we hope that our employee handbook inspires you.  \\nIf you want to work at Blendle you can check our [job ads here](https://blendle.homerun.co/). If you want to be kept in the loop about Blendle, you can sign up for [our behind the scenes newsletter](https://blendle.homerun.co/yes-keep-me-posted/tr/apply?token=8092d4128c306003d97dd3821bad06f2).\", metadata={'Header 1': \"Blendle's Employee Handbook\"})"
      ]
     },
     "execution_count": 48,
     "metadata": {},
     "output_type": "execute_result"
    }
   ],
   "source": [
    "md_header_splits[0]"
   ]
  },
  {
   "cell_type": "code",
   "execution_count": null,
   "id": "9f97c85a-78e8-4c63-bd45-ce585e26b63a",
   "metadata": {
    "height": 30
   },
   "outputs": [],
   "source": []
  }
 ],
 "metadata": {
  "kernelspec": {
   "display_name": "Python 3 (ipykernel)",
   "language": "python",
   "name": "python3"
  },
  "language_info": {
   "codemirror_mode": {
    "name": "ipython",
    "version": 3
   },
   "file_extension": ".py",
   "mimetype": "text/x-python",
   "name": "python",
   "nbconvert_exporter": "python",
   "pygments_lexer": "ipython3",
   "version": "3.10.14"
  }
 },
 "nbformat": 4,
 "nbformat_minor": 5
}
