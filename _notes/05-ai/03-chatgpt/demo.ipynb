{
 "cells": [
  {
   "cell_type": "markdown",
   "id": "6d9502e6-4aa9-4978-bbac-a5479a0e83fa",
   "metadata": {},
   "source": [
    "Use LLMs to extract useful information from the Notes in Work Orders, which will be used by RPA programs to achieve business process automation.\n",
    "\n",
    "In the previous solution, we used a lot of regular expressions and Python programs to implement it. The biggest problem with that solution is that for new patterns in the note, we need to write programs to implement them. In this DEMO, we hope to achieve this by writing new prompts, which allows for rapid development, and even users can do it themselves.·"
   ]
  },
  {
   "cell_type": "code",
   "execution_count": 131,
   "id": "629fab30-f4b0-4da0-bc68-9ab8c775f91a",
   "metadata": {
    "execution": {
     "iopub.execute_input": "2024-05-09T05:24:54.801544Z",
     "iopub.status.busy": "2024-05-09T05:24:54.801544Z",
     "iopub.status.idle": "2024-05-09T05:24:54.824542Z",
     "shell.execute_reply": "2024-05-09T05:24:54.823541Z",
     "shell.execute_reply.started": "2024-05-09T05:24:54.801544Z"
    }
   },
   "outputs": [
    {
     "name": "stdout",
     "output_type": "stream",
     "text": [
      "QIANFAN_AK=HCCPsQy5p0Ex1rSEL6oorGQb\n",
      "QIANFAN_SK=TCVRfPCfbtLr0eDPZRXcywMxcgaNuLDE\n"
     ]
    }
   ],
   "source": [
    "import os\n",
    "import json\n",
    "\n",
    "from langchain.embeddings import QianfanEmbeddingsEndpoint\n",
    "from langchain.chat_models import QianfanChatEndpoint\n",
    "\n",
    "from langchain.chains.router import MultiPromptChain\n",
    "from langchain.chains.router.llm_router import LLMRouterChain,RouterOutputParser\n",
    "from langchain.prompts import PromptTemplate\n",
    "from langchain.prompts import ChatPromptTemplate\n",
    "from langchain.chains import LLMChain\n",
    "\n",
    "from dotenv import load_dotenv, find_dotenv\n",
    "_ = load_dotenv(find_dotenv()) # read local .env file\n",
    "\n",
    "print(f\"QIANFAN_AK={os.environ['QIANFAN_AK']}\")\n",
    "print(f\"QIANFAN_SK={os.environ['QIANFAN_SK']}\")"
   ]
  },
  {
   "cell_type": "code",
   "execution_count": null,
   "id": "137da321-a63c-4c43-b275-cc643d90bcbd",
   "metadata": {},
   "outputs": [],
   "source": []
  },
  {
   "cell_type": "markdown",
   "id": "cd3ab9bd-c641-46f9-be14-8e7f777e480a",
   "metadata": {},
   "source": [
    "## Identify intent (requests)"
   ]
  },
  {
   "cell_type": "code",
   "execution_count": 111,
   "id": "881bf032-9c64-4d5d-a239-c322511e6430",
   "metadata": {
    "execution": {
     "iopub.execute_input": "2024-05-09T05:19:43.841719Z",
     "iopub.status.busy": "2024-05-09T05:19:43.840710Z",
     "iopub.status.idle": "2024-05-09T05:19:43.861249Z",
     "shell.execute_reply": "2024-05-09T05:19:43.860257Z",
     "shell.execute_reply.started": "2024-05-09T05:19:43.841719Z"
    }
   },
   "outputs": [],
   "source": [
    "request_reassign_template  = \"\"\"You are an expert extraction algorithm to process request reassign request. \\\n",
    "extract the following attributes from the note with json format: \n",
    "1. hp \\\n",
    "2. subk \\\n",
    "3. reasons \\\n",
    "4. comments \\\n",
    "\n",
    "Just output json string without any explanation. \n",
    "If you do not know the value of an attribute asked \\\n",
    "to extract, return null for the attribute's value. \\\n",
    "\n",
    "Here is a note:\n",
    "{input}\"\"\"\n",
    "\n",
    "\n",
    "reschedule_template = \"\"\"You are an expert extraction algorithm to process reschedule request. \\\n",
    "extract the following attributes from the note with json format: \n",
    "1. rdt \\\n",
    "2. reasons \\\n",
    "3. comments \\\n",
    "\n",
    "Just output json string without any explanation. \\\n",
    "If you do not know the value of an attribute asked \\\n",
    "to extract, return null for the attribute's value. \\\n",
    "\n",
    "Here is a note:\n",
    "{input}\"\"\"\n",
    "\n",
    "booking_status_change_template = \"\"\"You are an expert extraction algorithm to booking status change request. \\\n",
    "extract the following attributes from the note with json format: \n",
    "1. status_from \\\n",
    "2. status_to \\\n",
    "3. comments \\\n",
    "\n",
    "Just output json string without any explanation. \\\n",
    "If you do not know the value of an attribute asked \\\n",
    "to extract, return null for the attribute's value. \\\n",
    "\n",
    "Here is a note:\n",
    "{input}\"\"\"\n"
   ]
  },
  {
   "cell_type": "code",
   "execution_count": 112,
   "id": "73a21e0a-2e99-46e2-afed-c011b0416441",
   "metadata": {
    "execution": {
     "iopub.execute_input": "2024-05-09T05:19:44.182277Z",
     "iopub.status.busy": "2024-05-09T05:19:44.181278Z",
     "iopub.status.idle": "2024-05-09T05:19:44.191279Z",
     "shell.execute_reply": "2024-05-09T05:19:44.190292Z",
     "shell.execute_reply.started": "2024-05-09T05:19:44.182277Z"
    }
   },
   "outputs": [],
   "source": [
    "request_reassign_description  = \"\"\"Good for extracting the notes about request reassign. here are some sample notes:\\\n",
    "1. AMS BOOKING TEMPLATE Request: Request Reassign Reassign: Yes SUBK: BBK Reasons: #CEAvailability Comments: hello, let go \\\n",
    "2. AMS BOOKING TEMPLATE Request: Request Reassign Reassign: Yes SUBK: Reasons: #CEAvailability Comments: please assign this WO to appropriate partner DM Charles Lechleitner. Thanks - CL\n",
    "\"\"\"\n",
    "\n",
    "reschedule_description = \"\"\"You are an expert extraction algorithm to process reschedule. here are some sample notes:\\\n",
    "1. AMS FOLLOW UP TEMPLATE Request: Revisit Reschedule: Yes RDT: November 10, 2022 17:00 Comments: change please\n",
    "\"\"\"\n",
    "\n",
    "booking_status_description = \"\"\"You are an expert extraction algorithm to booking status change. here are some sample notes:\\\n",
    "1. AMS FOLLOW UP TEMPLATE Request: Dispatch Monitoring Booking Status Change: Yes #sf: Field Phone Support #st: Completed Comments: go\n",
    "\"\"\"\n"
   ]
  },
  {
   "cell_type": "code",
   "execution_count": 113,
   "id": "d15e3780-b18b-4969-ad20-ebecb9bd32ac",
   "metadata": {
    "execution": {
     "iopub.execute_input": "2024-05-09T05:19:44.557461Z",
     "iopub.status.busy": "2024-05-09T05:19:44.557461Z",
     "iopub.status.idle": "2024-05-09T05:19:44.562974Z",
     "shell.execute_reply": "2024-05-09T05:19:44.561974Z",
     "shell.execute_reply.started": "2024-05-09T05:19:44.557461Z"
    }
   },
   "outputs": [],
   "source": [
    "prompt_infos = [\n",
    "    {\n",
    "        \"name\": \"request_reassign\", \n",
    "        \"description\": request_reassign_description, \n",
    "        \"prompt_template\": request_reassign_template\n",
    "    },\n",
    "    {\n",
    "        \"name\": \"reschedule_template\", \n",
    "        \"description\": reschedule_description, \n",
    "        \"prompt_template\": reschedule_template\n",
    "    },\n",
    "    {\n",
    "        \"name\": \"booking_status_change\", \n",
    "        \"description\": booking_status_description, \n",
    "        \"prompt_template\": booking_status_change_template\n",
    "    }\n",
    "]"
   ]
  },
  {
   "cell_type": "code",
   "execution_count": 114,
   "id": "d183235a-44f6-4c0e-8e8f-12744220de64",
   "metadata": {
    "execution": {
     "iopub.execute_input": "2024-05-09T05:19:44.963397Z",
     "iopub.status.busy": "2024-05-09T05:19:44.963397Z",
     "iopub.status.idle": "2024-05-09T05:19:44.969353Z",
     "shell.execute_reply": "2024-05-09T05:19:44.968388Z",
     "shell.execute_reply.started": "2024-05-09T05:19:44.963397Z"
    }
   },
   "outputs": [],
   "source": [
    "llm = QianfanChatEndpoint(model=\"ERNIE-Bot-4\", temperature = 0.01) "
   ]
  },
  {
   "cell_type": "code",
   "execution_count": 115,
   "id": "a34fe27f-adb1-4095-b494-f21207b66f46",
   "metadata": {
    "execution": {
     "iopub.execute_input": "2024-05-09T05:19:45.372141Z",
     "iopub.status.busy": "2024-05-09T05:19:45.371138Z",
     "iopub.status.idle": "2024-05-09T05:19:45.393137Z",
     "shell.execute_reply": "2024-05-09T05:19:45.392144Z",
     "shell.execute_reply.started": "2024-05-09T05:19:45.372141Z"
    }
   },
   "outputs": [
    {
     "data": {
      "text/plain": [
       "'request_reassign: Good for extracting the notes about request reassign. here are some sample notes:1. AMS BOOKING TEMPLATE Request: Request Reassign Reassign: Yes SUBK: BBK Reasons: #CEAvailability Comments: hello, let go 2. AMS BOOKING TEMPLATE Request: Request Reassign Reassign: Yes SUBK: Reasons: #CEAvailability Comments: please assign this WO to appropriate partner DM Charles Lechleitner. Thanks - CL\\n\\nreschedule_template: You are an expert extraction algorithm to process reschedule. here are some sample notes:1. AMS FOLLOW UP TEMPLATE Request: Revisit Reschedule: Yes RDT: November 10, 2022 17:00 Comments: change please\\n\\nbooking_status_change: You are an expert extraction algorithm to booking status change. here are some sample notes:1. AMS FOLLOW UP TEMPLATE Request: Dispatch Monitoring Booking Status Change: Yes #sf: Field Phone Support #st: Completed Comments: go\\n'"
      ]
     },
     "execution_count": 115,
     "metadata": {},
     "output_type": "execute_result"
    }
   ],
   "source": [
    "destination_chains = {}\n",
    "for p_info in prompt_infos:\n",
    "    name = p_info[\"name\"]\n",
    "    prompt_template = p_info[\"prompt_template\"]\n",
    "    prompt = ChatPromptTemplate.from_template(template=prompt_template)\n",
    "    chain = LLMChain(llm=llm, prompt=prompt)\n",
    "    destination_chains[name] = chain  \n",
    "    \n",
    "destinations = [f\"{p['name']}: {p['description']}\" for p in prompt_infos]\n",
    "destinations_str = \"\\n\".join(destinations)\n",
    "destinations_str"
   ]
  },
  {
   "cell_type": "code",
   "execution_count": 116,
   "id": "c4f99cef-633f-4fa6-ae44-028a7f93946f",
   "metadata": {
    "execution": {
     "iopub.execute_input": "2024-05-09T05:19:46.006423Z",
     "iopub.status.busy": "2024-05-09T05:19:46.006423Z",
     "iopub.status.idle": "2024-05-09T05:19:46.019422Z",
     "shell.execute_reply": "2024-05-09T05:19:46.018424Z",
     "shell.execute_reply.started": "2024-05-09T05:19:46.006423Z"
    }
   },
   "outputs": [],
   "source": [
    "default_prompt = ChatPromptTemplate.from_template(\"{input}\")\n",
    "default_chain = LLMChain(llm=llm, prompt=default_prompt)"
   ]
  },
  {
   "cell_type": "code",
   "execution_count": 117,
   "id": "e22aa569-7a38-42b2-973a-9f588a8c71d6",
   "metadata": {
    "execution": {
     "iopub.execute_input": "2024-05-09T05:19:46.399628Z",
     "iopub.status.busy": "2024-05-09T05:19:46.398615Z",
     "iopub.status.idle": "2024-05-09T05:19:46.408616Z",
     "shell.execute_reply": "2024-05-09T05:19:46.407628Z",
     "shell.execute_reply.started": "2024-05-09T05:19:46.398615Z"
    }
   },
   "outputs": [],
   "source": [
    "MULTI_PROMPT_ROUTER_TEMPLATE = \"\"\"Given a note to a \\\n",
    "language model select the model prompt best suited for the input. \\\n",
    "You will be given the names of the available prompts and a \\\n",
    "description of what the prompt is best suited for. \\\n",
    "You may also revise the original input if you think that revising\\\n",
    "it will ultimately lead to a better response from the language model.\n",
    "\n",
    "<< FORMATTING >>\n",
    "Return a markdown code snippet with a JSON object formatted to look like:\n",
    "```json\n",
    "{{{{\n",
    "    \"destination\": string \\ name of the prompt to use or \"DEFAULT\"\n",
    "    \"next_inputs\": string \\ a potentially modified version of the original input\n",
    "}}}}\n",
    "```\n",
    "\n",
    "REMEMBER: \"destination\" MUST be one of the candidate prompt \\\n",
    "names specified below OR it can be \"DEFAULT\" if the input is not\\\n",
    "well suited for any of the candidate prompts.\n",
    "REMEMBER: \"next_inputs\" can just be the original input \\\n",
    "if you don't think any modifications are needed.\n",
    "\n",
    "<< CANDIDATE PROMPTS >>\n",
    "{destinations}\n",
    "\n",
    "<< INPUT >>\n",
    "{{input}}\n",
    "\n",
    "<< OUTPUT (remember to include the ```json)>>\"\"\""
   ]
  },
  {
   "cell_type": "code",
   "execution_count": 118,
   "id": "8611d31f-8bb3-47cb-88a1-67a7584d294c",
   "metadata": {
    "execution": {
     "iopub.execute_input": "2024-05-09T05:19:46.901315Z",
     "iopub.status.busy": "2024-05-09T05:19:46.901315Z",
     "iopub.status.idle": "2024-05-09T05:19:46.917312Z",
     "shell.execute_reply": "2024-05-09T05:19:46.916312Z",
     "shell.execute_reply.started": "2024-05-09T05:19:46.901315Z"
    }
   },
   "outputs": [],
   "source": [
    "router_template = MULTI_PROMPT_ROUTER_TEMPLATE.format(\n",
    "    destinations=destinations_str\n",
    ")\n",
    "router_prompt = PromptTemplate(\n",
    "    template=router_template,\n",
    "    input_variables=[\"input\"],\n",
    "    output_parser=RouterOutputParser(),\n",
    ")\n",
    "\n",
    "router_chain = LLMRouterChain.from_llm(llm, router_prompt)"
   ]
  },
  {
   "cell_type": "code",
   "execution_count": 119,
   "id": "65b3ce0c-b064-4ba8-809d-f9185dc170e7",
   "metadata": {
    "execution": {
     "iopub.execute_input": "2024-05-09T05:19:47.280475Z",
     "iopub.status.busy": "2024-05-09T05:19:47.279475Z",
     "iopub.status.idle": "2024-05-09T05:19:47.290491Z",
     "shell.execute_reply": "2024-05-09T05:19:47.289479Z",
     "shell.execute_reply.started": "2024-05-09T05:19:47.280475Z"
    }
   },
   "outputs": [],
   "source": [
    "chain = MultiPromptChain(router_chain=router_chain, \n",
    "                         destination_chains=destination_chains, \n",
    "                         default_chain=default_chain, verbose=True\n",
    "                        )"
   ]
  },
  {
   "cell_type": "code",
   "execution_count": 135,
   "id": "f6308768-a61f-4b60-9c92-d1a164b5c311",
   "metadata": {
    "execution": {
     "iopub.execute_input": "2024-05-09T05:28:33.281195Z",
     "iopub.status.busy": "2024-05-09T05:28:33.280194Z",
     "iopub.status.idle": "2024-05-09T05:28:49.686571Z",
     "shell.execute_reply": "2024-05-09T05:28:49.685555Z",
     "shell.execute_reply.started": "2024-05-09T05:28:33.281195Z"
    }
   },
   "outputs": [
    {
     "name": "stdout",
     "output_type": "stream",
     "text": [
      "\n",
      "\n",
      "\u001b[1m> Entering new MultiPromptChain chain...\u001b[0m\n",
      "request_reassign: {'input': 'AMS BOOKING TEMPLATE Request: Request Reassign Reassign: Yes SUBK: BBK Reasons: #CEAvailability Comments: Please send to partner'}\n",
      "\u001b[1m> Finished chain.\u001b[0m\n",
      "{\n",
      "    \"hp\": null,\n",
      "    \"subk\": \"BBK\",\n",
      "    \"reasons\": \"#CEAvailability\",\n",
      "    \"comments\": \"Please send to partner\"\n",
      "}\n"
     ]
    }
   ],
   "source": [
    "result = chain.run(\"AMS BOOKING TEMPLATE Request: Request Reassign Reassign: Yes SUBK: Reasons: #CEAvailability Comments: Please send to partner\")\n",
    "\n",
    "json_data = json.loads(result.replace(\"```json\", \"\").replace(\"`\", \"\"))\n",
    "print(json.dumps(json_data, indent=4))"
   ]
  },
  {
   "cell_type": "code",
   "execution_count": 136,
   "id": "f3e49691-a4cd-44fe-adc2-c4a83a917e7a",
   "metadata": {
    "execution": {
     "iopub.execute_input": "2024-05-09T05:28:49.688555Z",
     "iopub.status.busy": "2024-05-09T05:28:49.687564Z",
     "iopub.status.idle": "2024-05-09T05:29:00.425308Z",
     "shell.execute_reply": "2024-05-09T05:29:00.424303Z",
     "shell.execute_reply.started": "2024-05-09T05:28:49.688555Z"
    }
   },
   "outputs": [
    {
     "name": "stdout",
     "output_type": "stream",
     "text": [
      "\n",
      "\n",
      "\u001b[1m> Entering new MultiPromptChain chain...\u001b[0m\n",
      "reschedule_template: {'input': 'AMS FOLLOW UP TEMPLATE Request: Revisit Reschedule: Yes RDT: November 10, 2022 17:00 Comments: change please'}\n",
      "\u001b[1m> Finished chain.\u001b[0m\n",
      "{\n",
      "    \"rdt\": \"November 10, 2022 17:00\",\n",
      "    \"reasons\": null,\n",
      "    \"comments\": \"change please\"\n",
      "}\n"
     ]
    }
   ],
   "source": [
    "result = chain.run(\"AMS FOLLOW UP TEMPLATE Request: Revisit Reschedule: Yes RDT: November 10, 2022 17:00 Comments: change please\")\n",
    "\n",
    "json_data = json.loads(result.replace(\"```json\", \"\").replace(\"`\", \"\"))\n",
    "print(json.dumps(json_data, indent=4))"
   ]
  },
  {
   "cell_type": "code",
   "execution_count": 137,
   "id": "85f46168-863c-47c3-88a5-21cc8427e65a",
   "metadata": {
    "execution": {
     "iopub.execute_input": "2024-05-09T05:29:00.427308Z",
     "iopub.status.busy": "2024-05-09T05:29:00.426305Z",
     "iopub.status.idle": "2024-05-09T05:29:08.733703Z",
     "shell.execute_reply": "2024-05-09T05:29:08.732689Z",
     "shell.execute_reply.started": "2024-05-09T05:29:00.427308Z"
    }
   },
   "outputs": [
    {
     "name": "stdout",
     "output_type": "stream",
     "text": [
      "\n",
      "\n",
      "\u001b[1m> Entering new MultiPromptChain chain...\u001b[0m\n",
      "booking_status_change: {'input': 'AMS FOLLOW UP TEMPLATE Request: Dispatch Monitoring Booking Status Change: Yes #sf: Field Phone Support #st: Completed Comments: go'}\n",
      "\u001b[1m> Finished chain.\u001b[0m\n",
      "{\n",
      "    \"rdt\": \"November 10, 2022 17:00\",\n",
      "    \"reasons\": null,\n",
      "    \"comments\": \"change please\"\n",
      "}\n"
     ]
    }
   ],
   "source": [
    "chain.run(\"AMS FOLLOW UP TEMPLATE Request: Dispatch Monitoring Booking Status Change: Yes #sf: Field Phone Support #st: Completed Comments: go\")\n",
    "\n",
    "json_data = json.loads(result.replace(\"```json\", \"\").replace(\"`\", \"\"))\n",
    "print(json.dumps(json_data, indent=4))"
   ]
  },
  {
   "cell_type": "code",
   "execution_count": 138,
   "id": "5c3a93f9-2324-4d5a-908a-263a32c6fd91",
   "metadata": {
    "execution": {
     "iopub.execute_input": "2024-05-09T05:30:48.157675Z",
     "iopub.status.busy": "2024-05-09T05:30:48.156668Z",
     "iopub.status.idle": "2024-05-09T05:30:48.168668Z",
     "shell.execute_reply": "2024-05-09T05:30:48.167668Z",
     "shell.execute_reply.started": "2024-05-09T05:30:48.157675Z"
    }
   },
   "outputs": [
    {
     "name": "stdout",
     "output_type": "stream",
     "text": [
      "<class 'dict'>\n"
     ]
    }
   ],
   "source": [
    "print(type(json_data)) "
   ]
  },
  {
   "cell_type": "markdown",
   "id": "c3ea3780-426b-4c3f-9af3-bbb447e22678",
   "metadata": {},
   "source": [
    "## UI"
   ]
  },
  {
   "cell_type": "code",
   "execution_count": 142,
   "id": "afb8925d-c35d-48eb-85da-60cae9d043be",
   "metadata": {
    "execution": {
     "iopub.execute_input": "2024-05-09T06:12:46.263524Z",
     "iopub.status.busy": "2024-05-09T06:12:46.263524Z",
     "iopub.status.idle": "2024-05-09T06:12:47.043842Z",
     "shell.execute_reply": "2024-05-09T06:12:47.041843Z",
     "shell.execute_reply.started": "2024-05-09T06:12:46.263524Z"
    }
   },
   "outputs": [
    {
     "name": "stdout",
     "output_type": "stream",
     "text": [
      "Closing server running on port: 11920\n",
      "Running on local URL:  http://127.0.0.1:11920\n",
      "\n",
      "To create a public link, set `share=True` in `launch()`.\n"
     ]
    },
    {
     "data": {
      "text/html": [
       "<div><iframe src=\"http://127.0.0.1:11920/\" width=\"100%\" height=\"500\" allow=\"autoplay; camera; microphone; clipboard-read; clipboard-write;\" frameborder=\"0\" allowfullscreen></iframe></div>"
      ],
      "text/plain": [
       "<IPython.core.display.HTML object>"
      ]
     },
     "metadata": {},
     "output_type": "display_data"
    },
    {
     "data": {
      "text/plain": []
     },
     "execution_count": 142,
     "metadata": {},
     "output_type": "execute_result"
    },
    {
     "name": "stdout",
     "output_type": "stream",
     "text": [
      "\n",
      "\n",
      "\u001b[1m> Entering new MultiPromptChain chain...\u001b[0m\n",
      "booking_status_change: {'input': 'AMS FOLLOW UP TEMPLATE Request: Dispatch Monitoring Booking Status Change: Yes #sf: Field Phone Support #st: Completed Comments: go'}\n",
      "\u001b[1m> Finished chain.\u001b[0m\n"
     ]
    }
   ],
   "source": [
    "import gradio as gr\n",
    "def extract(input):\n",
    "    output = chain.run(input)\n",
    "    return     json.dumps(json.loads(result.replace(\"```json\", \"\").replace(\"`\", \"\")), indent=4)\n",
    "    \n",
    "gr.close_all()\n",
    "demo = gr.Interface(fn=extract, inputs=\"text\", outputs=\"text\")\n",
    "demo.launch(share=False, server_port=int(os.environ['PORT2']))"
   ]
  },
  {
   "cell_type": "code",
   "execution_count": 140,
   "id": "7cad4fa8-cf98-45a8-a758-f4ee725ac619",
   "metadata": {
    "execution": {
     "iopub.execute_input": "2024-05-09T05:31:39.426197Z",
     "iopub.status.busy": "2024-05-09T05:31:39.425202Z",
     "iopub.status.idle": "2024-05-09T05:31:39.441194Z",
     "shell.execute_reply": "2024-05-09T05:31:39.440196Z",
     "shell.execute_reply.started": "2024-05-09T05:31:39.426197Z"
    }
   },
   "outputs": [
    {
     "data": {
      "text/plain": [
       "'39848'"
      ]
     },
     "execution_count": 140,
     "metadata": {},
     "output_type": "execute_result"
    }
   ],
   "source": [
    "os.environ['PORT1']"
   ]
  },
  {
   "cell_type": "code",
   "execution_count": null,
   "id": "6c52957b-3097-4cd3-8cf6-b1f8073f61e3",
   "metadata": {},
   "outputs": [],
   "source": []
  }
 ],
 "metadata": {
  "kernelspec": {
   "display_name": "Python 3 (ipykernel)",
   "language": "python",
   "name": "python3"
  },
  "language_info": {
   "codemirror_mode": {
    "name": "ipython",
    "version": 3
   },
   "file_extension": ".py",
   "mimetype": "text/x-python",
   "name": "python",
   "nbconvert_exporter": "python",
   "pygments_lexer": "ipython3",
   "version": "3.10.14"
  }
 },
 "nbformat": 4,
 "nbformat_minor": 5
}
