{
 "cells": [
  {
   "cell_type": "markdown",
   "id": "cb6d9225-922a-4ad2-bbf0-2af77fc802e0",
   "metadata": {},
   "source": [
    "## Skills"
   ]
  },
  {
   "cell_type": "code",
   "execution_count": null,
   "id": "521adaf2-2587-4967-bdd7-a4ec746ac6d1",
   "metadata": {},
   "outputs": [],
   "source": [
    "!wget  https://raw.githubusercontent.com/Unstructured-IO/unstructured/main/example-docs/example-10k.html -P example-docs\n",
    "!wget  https://raw.githubusercontent.com/Unstructured-IO/unstructured/main/example-docs/layout-parser-paper-fast.pdf -P example-docs\n",
    "!wget  https://raw.githubusercontent.com/Unstructured-IO/unstructured/main/example-docs/stanley-cups.csv -P example-docs"
   ]
  },
  {
   "cell_type": "code",
   "execution_count": null,
   "id": "9abc2f24-94d4-44f4-8eae-10d7ea97fb5f",
   "metadata": {},
   "outputs": [],
   "source": []
  },
  {
   "cell_type": "markdown",
   "id": "5925d412-5ce0-4ef4-8808-13fcc157c632",
   "metadata": {
    "execution": {
     "iopub.execute_input": "2024-04-28T06:14:44.601055Z",
     "iopub.status.busy": "2024-04-28T06:14:44.600325Z",
     "iopub.status.idle": "2024-04-28T06:14:44.609073Z",
     "shell.execute_reply": "2024-04-28T06:14:44.607077Z",
     "shell.execute_reply.started": "2024-04-28T06:14:44.600979Z"
    }
   },
   "source": [
    "### Partitioning"
   ]
  },
  {
   "cell_type": "markdown",
   "id": "c9d9175c-dd8f-466d-b5d1-eeecd8ddb0da",
   "metadata": {},
   "source": [
    "#### HTML"
   ]
  },
  {
   "cell_type": "code",
   "execution_count": 6,
   "id": "088eb52d-78c7-41a1-9107-078b7622f640",
   "metadata": {
    "execution": {
     "iopub.execute_input": "2024-04-28T06:09:43.695981Z",
     "iopub.status.busy": "2024-04-28T06:09:43.694803Z",
     "iopub.status.idle": "2024-04-28T06:09:45.841903Z",
     "shell.execute_reply": "2024-04-28T06:09:45.841009Z",
     "shell.execute_reply.started": "2024-04-28T06:09:43.695902Z"
    }
   },
   "outputs": [
    {
     "name": "stdout",
     "output_type": "stream",
     "text": [
      "CNN\n",
      "         —\n",
      "\n",
      "The Empire State Building was lit in green and white to celebrate the Philadelphia Eagles’ victory in the NFC Championship game on Sunday – a decision that’s sparked a bit of a backlash in the Big Apple.\n",
      "\n",
      "The Eagles advanced to the Super Bowl for the first time since 2018 after defeating the San Francisco 49ers 31-7, and the Empire State Building later tweeted how it was marking the occasion.\n",
      "\n",
      "Fly @Eagles Fly! We’re going Green and White in honor of the Eagles NFC Championship Victory. pic.twitter.com/RNiwbCIkt7— Empire State Building (@EmpireStateBldg)\n",
      "\n",
      "January 29, 2023\n",
      "\n",
      "But given the fierce rivalry between the Eagles and the New York Giants, who the Super Bowl-bound team had comfortably defeated in the previous round of the NFL Playoffs, many were left questioning the move.\n",
      "\n",
      "“Did y’all lose a bet,” ESPN contributor Mina Kimes asked in response to the tweet, while Giants running back Matt Breida also expressed his disbelief.\n",
      "\n",
      "SMH🤦🏾‍♂️— Matt Breida (@MattBreida)\n",
      "\n",
      "January 30, 2023\n",
      "\n",
      "“As the representative for the Empire State Building, and a diehard Giants fan, let me be on the record saying that this is absolutely ridiculous,” said New York City councilman Keith Powers.\n",
      "\n",
      "The Giants’ Twitter account also acknowledged the divisive decision, writing: “I’m just here for the comments.”\n",
      "\n",
      "The Empire State Building, whose original tweet honoring the Eagles was viewed nearly 30 million at the time of writing, said the color switch “hurt us more than it hurt you” – but only after mocking another tweet calling the New York landmark “lame.”\n",
      "\n",
      "The building was later lit in red to celebrate the Kansas City Chiefs’ AFC Championship win against the Cincinnati Bengals.\n",
      "\n",
      "In Philadelphia, meanwhile, Eagles fans poured onto the streets on Sunday night. Large crowds gathered in the city as people climbed up light posts, street signs, and on top of a bus stop canopy.\n",
      "\n",
      "The city announced street closures and vehicle restrictions in Philadelphia’s city center “due to Eagles celebratory activity between 8th to 20th streets and Race to Lombard streets,” the city’s Office of Emergency Management tweeted on Sunday night.\n",
      "\n",
      "“Philadelphians, let’s celebrate joyously, safely, and respectfully and show the same love we have for our team to our city. Go Birds!” Mayor Jim Kenney tweeted.\n",
      "\n",
      "The Eagles and the Chiefs face off in Super Bowl LVII on February 12.\n"
     ]
    }
   ],
   "source": [
    "# allows you to pass in a URL so you don’t have to store the .html file locally.\n",
    "from unstructured.partition.html import partition_html\n",
    "\n",
    "url = \"https://www.cnn.com/2023/01/30/sport/empire-state-building-green-philadelphia-eagles-spt-intl/index.html\"\n",
    "elements = partition_html(url=url)\n",
    "print(\"\\n\\n\".join([str(el) for el in elements]))"
   ]
  },
  {
   "cell_type": "code",
   "execution_count": 2,
   "id": "17fcdecb-ae4b-49b1-8149-79802304b935",
   "metadata": {
    "execution": {
     "iopub.execute_input": "2024-04-28T03:50:14.918380Z",
     "iopub.status.busy": "2024-04-28T03:50:14.917626Z",
     "iopub.status.idle": "2024-04-28T03:50:18.040831Z",
     "shell.execute_reply": "2024-04-28T03:50:18.039928Z",
     "shell.execute_reply.started": "2024-04-28T03:50:14.918307Z"
    },
    "tags": []
   },
   "outputs": [],
   "source": [
    "from unstructured.partition.auto import partition\n",
    "elements = partition(filename=\"example-docs/example-10k.html\")\n"
   ]
  },
  {
   "cell_type": "code",
   "execution_count": null,
   "id": "3427a3f9-133e-46b3-8644-409bb81f1815",
   "metadata": {},
   "outputs": [],
   "source": [
    "partition("
   ]
  },
  {
   "cell_type": "code",
   "execution_count": 2,
   "id": "ac14c559-34f8-4762-9efb-f8cf68924d5b",
   "metadata": {
    "execution": {
     "iopub.execute_input": "2024-04-27T13:33:34.485207Z",
     "iopub.status.busy": "2024-04-27T13:33:34.484744Z",
     "iopub.status.idle": "2024-04-27T13:33:34.490294Z",
     "shell.execute_reply": "2024-04-27T13:33:34.489520Z",
     "shell.execute_reply.started": "2024-04-27T13:33:34.485181Z"
    }
   },
   "outputs": [
    {
     "name": "stdout",
     "output_type": "stream",
     "text": [
      "598\n",
      "--------------------------------------------------\n",
      "UNITED STATES\n",
      "\n",
      "\n",
      "--------------------------------------------------\n",
      "SECURITIES AND EXCHANGE COMMISSION\n",
      "\n",
      "\n",
      "--------------------------------------------------\n",
      "Washington, D.C. 20549\n",
      "\n",
      "\n",
      "--------------------------------------------------\n",
      "FORM 10-K\n",
      "\n",
      "\n",
      "--------------------------------------------------\n",
      "☑ ANNUAL REPORT PURSUANT TO SECTION 13 OR 15(d) OF THE SECURITIES EXCHANGE ACT OF 1934\n",
      "\n",
      "\n"
     ]
    }
   ],
   "source": [
    "print(len(elements))\n",
    "for element in elements[:5]:\n",
    "    print('-'*50)\n",
    "    print(element)\n",
    "    print(\"\\n\")"
   ]
  },
  {
   "cell_type": "code",
   "execution_count": 3,
   "id": "de2adce5-1c98-47c6-9b8c-ab5da2aad648",
   "metadata": {
    "execution": {
     "iopub.execute_input": "2024-04-27T13:33:34.491468Z",
     "iopub.status.busy": "2024-04-27T13:33:34.491172Z",
     "iopub.status.idle": "2024-04-27T13:33:34.501116Z",
     "shell.execute_reply": "2024-04-27T13:33:34.500426Z",
     "shell.execute_reply.started": "2024-04-27T13:33:34.491443Z"
    }
   },
   "outputs": [],
   "source": [
    "from unstructured.staging.base import elements_to_json, elements_from_json\n",
    "\n",
    "\n",
    "filename = \"example-docs/outputs.json\"\n",
    "elements_to_json(elements[0:10], filename=filename)\n",
    "elements = elements_from_json(filename=filename)"
   ]
  },
  {
   "cell_type": "markdown",
   "id": "e6fddea1-5b1b-4c38-8447-c995d43bc447",
   "metadata": {
    "execution": {
     "iopub.execute_input": "2024-04-26T09:11:09.276196Z",
     "iopub.status.busy": "2024-04-26T09:11:09.275452Z",
     "iopub.status.idle": "2024-04-26T09:11:09.292291Z",
     "shell.execute_reply": "2024-04-26T09:11:09.291036Z",
     "shell.execute_reply.started": "2024-04-26T09:11:09.276196Z"
    }
   },
   "source": [
    "If you’ve opted for the “local-inference” installation, you should also be able to execute:"
   ]
  },
  {
   "cell_type": "code",
   "execution_count": 4,
   "id": "11e5bfb5-dc25-4ce0-894c-825c734760a8",
   "metadata": {
    "execution": {
     "iopub.execute_input": "2024-04-27T13:33:35.912497Z",
     "iopub.status.busy": "2024-04-27T13:33:35.911522Z",
     "iopub.status.idle": "2024-04-27T13:33:35.924202Z",
     "shell.execute_reply": "2024-04-27T13:33:35.922699Z",
     "shell.execute_reply.started": "2024-04-27T13:33:35.912427Z"
    }
   },
   "outputs": [],
   "source": [
    "from unstructured.documents.elements import NarrativeText\n",
    "from unstructured.partition.text_type import sentence_count\n",
    "\n",
    "for element in elements[:35]:\n",
    "    if isinstance(element, NarrativeText) and sentence_count(element.text) > 2:\n",
    "        print(element)\n",
    "        print(\"\\n\")"
   ]
  },
  {
   "cell_type": "markdown",
   "id": "d515e8b3-3720-4d52-909f-f0b14f560dd3",
   "metadata": {
    "execution": {
     "iopub.execute_input": "2024-04-28T06:13:53.114356Z",
     "iopub.status.busy": "2024-04-28T06:13:53.113983Z",
     "iopub.status.idle": "2024-04-28T06:13:53.118174Z",
     "shell.execute_reply": "2024-04-28T06:13:53.117368Z",
     "shell.execute_reply.started": "2024-04-28T06:13:53.114322Z"
    }
   },
   "source": [
    "#### CSV"
   ]
  },
  {
   "cell_type": "code",
   "execution_count": 14,
   "id": "29ff9020-87b2-4210-bbb3-d63d5bbdfa08",
   "metadata": {
    "execution": {
     "iopub.execute_input": "2024-04-28T06:18:06.685939Z",
     "iopub.status.busy": "2024-04-28T06:18:06.685165Z",
     "iopub.status.idle": "2024-04-28T06:18:06.724568Z",
     "shell.execute_reply": "2024-04-28T06:18:06.723526Z",
     "shell.execute_reply.started": "2024-04-28T06:18:06.685867Z"
    }
   },
   "outputs": [
    {
     "name": "stdout",
     "output_type": "stream",
     "text": [
      "<table border=\"1\" class=\"dataframe\">\n",
      "  <tbody>\n",
      "    <tr>\n",
      "      <td>Stanley Cups</td>\n",
      "      <td></td>\n",
      "      <td></td>\n",
      "    </tr>\n",
      "    <tr>\n",
      "      <td>Team</td>\n",
      "      <td>Location</td>\n",
      "      <td>Stanley Cups</td>\n",
      "    </tr>\n",
      "    <tr>\n",
      "      <td>Blues</td>\n",
      "      <td>STL</td>\n",
      "      <td>1</td>\n",
      "    </tr>\n",
      "    <tr>\n",
      "      <td>Flyers</td>\n",
      "      <td>PHI</td>\n",
      "      <td>2</td>\n",
      "    </tr>\n",
      "    <tr>\n",
      "      <td>Maple Leafs</td>\n",
      "      <td>TOR</td>\n",
      "      <td>13</td>\n",
      "    </tr>\n",
      "  </tbody>\n",
      "</table>\n",
      "--------------------------------------------------\n",
      "\n",
      "\n",
      "\n",
      "Stanley Cups\n",
      "\n",
      "\n",
      "\n",
      "\n",
      "Team\n",
      "Location\n",
      "Stanley Cups\n",
      "\n",
      "\n",
      "Blues\n",
      "STL\n",
      "1\n",
      "\n",
      "\n",
      "Flyers\n",
      "PHI\n",
      "2\n",
      "\n",
      "\n",
      "Maple Leafs\n",
      "TOR\n",
      "13\n",
      "\n",
      "\n",
      "\n",
      "\n",
      "\n"
     ]
    }
   ],
   "source": [
    "from unstructured.partition.csv import partition_csv\n",
    "\n",
    "elements = partition_csv(filename=\"example-docs/stanley-cups.csv\")\n",
    "print(elements[0].metadata.text_as_html)\n",
    "\n",
    "for element in elements[:5]:\n",
    "    print('-'*50)\n",
    "    print(element)\n",
    "    print(\"\\n\")"
   ]
  },
  {
   "cell_type": "markdown",
   "id": "ecddc4fe-8fae-4c3a-93bf-0727a41fd521",
   "metadata": {
    "execution": {
     "iopub.execute_input": "2024-04-28T06:11:42.432336Z",
     "iopub.status.busy": "2024-04-28T06:11:42.431958Z",
     "iopub.status.idle": "2024-04-28T06:11:42.436179Z",
     "shell.execute_reply": "2024-04-28T06:11:42.435372Z",
     "shell.execute_reply.started": "2024-04-28T06:11:42.432302Z"
    }
   },
   "source": [
    "#### MarkDownm"
   ]
  },
  {
   "cell_type": "code",
   "execution_count": 10,
   "id": "6e81afef-7ef6-4e7a-9a64-660ec649e2b1",
   "metadata": {
    "execution": {
     "iopub.execute_input": "2024-04-28T06:12:28.384296Z",
     "iopub.status.busy": "2024-04-28T06:12:28.383919Z",
     "iopub.status.idle": "2024-04-28T06:12:30.010037Z",
     "shell.execute_reply": "2024-04-28T06:12:30.009021Z",
     "shell.execute_reply.started": "2024-04-28T06:12:28.384262Z"
    }
   },
   "outputs": [
    {
     "name": "stdout",
     "output_type": "stream",
     "text": [
      "--------------------------------------------------\n",
      "TERMS AND CONDITIONS FOR USE, REPRODUCTION, AND DISTRIBUTION\n",
      "\n",
      "\n",
      "--------------------------------------------------\n",
      "Definitions.\n",
      "\"License\" shall mean the terms and conditions for use, reproduction,\n",
      "  and distribution as defined by Sections 1 through 9 of this document.\n",
      "\"Licensor\" shall mean the copyright owner or entity authorized by\n",
      "  the copyright owner that is granting the License.\n",
      "\"Legal Entity\" shall mean the union of the acting entity and all\n",
      "  other entities that control, are controlled by, or are under common\n",
      "  control with that entity. For the purposes of this definition,\n",
      "  \"control\" means (i) the power, direct or indirect, to cause the\n",
      "  direction or management of such entity, whether by contract or\n",
      "  otherwise, or (ii) ownership of fifty percent (50%) or more of the\n",
      "  outstanding shares, or (iii) beneficial ownership of such entity.\n",
      "\"You\" (or \"Your\") shall mean an individual or Legal Entity\n",
      "  exercising permissions granted by this License.\n",
      "\"Source\" form shall mean the preferred form for making modifications,\n",
      "  including but not limited to software source code, documentation\n",
      "  source, and configuration files.\n",
      "\"Object\" form shall mean any form resulting from mechanical\n",
      "  transformation or translation of a Source form, including but\n",
      "  not limited to compiled object code, generated documentation,\n",
      "  and conversions to other media types.\n",
      "\"Work\" shall mean the work of authorship, whether in Source or\n",
      "  Object form, made available under the License, as indicated by a\n",
      "  copyright notice that is included in or attached to the work\n",
      "  (an example is provided in the Appendix below).\n",
      "\"Derivative Works\" shall mean any work, whether in Source or Object\n",
      "  form, that is based on (or derived from) the Work and for which the\n",
      "  editorial revisions, annotations, elaborations, or other modifications\n",
      "  represent, as a whole, an original work of authorship. For the purposes\n",
      "  of this License, Derivative Works shall not include works that remain\n",
      "  separable from, or merely link (or bind by name) to the interfaces of,\n",
      "  the Work and Derivative Works thereof.\n",
      "\"Contribution\" shall mean any work of authorship, including\n",
      "  the original version of the Work and any modifications or additions\n",
      "  to that Work or Derivative Works thereof, that is intentionally\n",
      "  submitted to Licensor for inclusion in the Work by the copyright owner\n",
      "  or by an individual or Legal Entity authorized to submit on behalf of\n",
      "  the copyright owner. For the purposes of this definition, \"submitted\"\n",
      "  means any form of electronic, verbal, or written communication sent\n",
      "  to the Licensor or its representatives, including but not limited to\n",
      "  communication on electronic mailing lists, source code control systems,\n",
      "  and issue tracking systems that are managed by, or on behalf of, the\n",
      "  Licensor for the purpose of discussing and improving the Work, but\n",
      "  excluding communication that is conspicuously marked or otherwise\n",
      "  designated in writing by the copyright owner as \"Not a Contribution.\"\n",
      "\"Contributor\" shall mean Licensor and any individual or Legal Entity\n",
      "  on behalf of whom a Contribution has been received by Licensor and\n",
      "  subsequently incorporated within the Work.\n",
      "\n",
      "\n",
      "--------------------------------------------------\n",
      "Grant of Copyright License. Subject to the terms and conditions of\n",
      "      this License, each Contributor hereby grants to You a perpetual,\n",
      "      worldwide, non-exclusive, no-charge, royalty-free, irrevocable\n",
      "      copyright license to reproduce, prepare Derivative Works of,\n",
      "      publicly display, publicly perform, sublicense, and distribute the\n",
      "      Work and such Derivative Works in Source or Object form.\n",
      "\n",
      "\n",
      "--------------------------------------------------\n",
      "Grant of Patent License. Subject to the terms and conditions of\n",
      "      this License, each Contributor hereby grants to You a perpetual,\n",
      "      worldwide, non-exclusive, no-charge, royalty-free, irrevocable\n",
      "      (except as stated in this section) patent license to make, have made,\n",
      "      use, offer to sell, sell, import, and otherwise transfer the Work,\n",
      "      where such license applies only to those patent claims licensable\n",
      "      by such Contributor that are necessarily infringed by their\n",
      "      Contribution(s) alone or by combination of their Contribution(s)\n",
      "      with the Work to which such Contribution(s) was submitted. If You\n",
      "      institute patent litigation against any entity (including a\n",
      "      cross-claim or counterclaim in a lawsuit) alleging that the Work\n",
      "      or a Contribution incorporated within the Work constitutes direct\n",
      "      or contributory patent infringement, then any patent licenses\n",
      "      granted to You under this License for that Work shall terminate\n",
      "      as of the date such litigation is filed.\n",
      "\n",
      "\n",
      "--------------------------------------------------\n",
      "Redistribution. You may reproduce and distribute copies of the\n",
      "      Work or Derivative Works thereof in any medium, with or without\n",
      "      modifications, and in Source or Object form, provided that You\n",
      "      meet the following conditions:\n",
      "(a) You must give any other recipients of the Work or\n",
      "      Derivative Works a copy of this License; and\n",
      "(b) You must cause any modified files to carry prominent notices\n",
      "      stating that You changed the files; and\n",
      "(c) You must retain, in the Source form of any Derivative Works\n",
      "      that You distribute, all copyright, patent, trademark, and\n",
      "      attribution notices from the Source form of the Work,\n",
      "      excluding those notices that do not pertain to any part of\n",
      "      the Derivative Works; and\n",
      "(d) If the Work includes a \"NOTICE\" text file as part of its\n",
      "      distribution, then any Derivative Works that You distribute must\n",
      "      include a readable copy of the attribution notices contained\n",
      "      within such NOTICE file, excluding those notices that do not\n",
      "      pertain to any part of the Derivative Works, in at least one\n",
      "      of the following places: within a NOTICE text file distributed\n",
      "      as part of the Derivative Works; within the Source form or\n",
      "      documentation, if provided along with the Derivative Works; or,\n",
      "      within a display generated by the Derivative Works, if and\n",
      "      wherever such third-party notices normally appear. The contents\n",
      "      of the NOTICE file are for informational purposes only and\n",
      "      do not modify the License. You may add Your own attribution\n",
      "      notices within Derivative Works that You distribute, alongside\n",
      "      or as an addendum to the NOTICE text from the Work, provided\n",
      "      that such additional attribution notices cannot be construed\n",
      "      as modifying the License.\n",
      "You may add Your own copyright statement to Your modifications and\n",
      "  may provide additional or different license terms and conditions\n",
      "  for use, reproduction, or distribution of Your modifications, or\n",
      "  for any such Derivative Works as a whole, provided Your use,\n",
      "  reproduction, and distribution of the Work otherwise complies with\n",
      "  the conditions stated in this License.\n",
      "\n",
      "\n"
     ]
    }
   ],
   "source": [
    "from unstructured.partition.auto import partition\n",
    "\n",
    "url = \"https://raw.githubusercontent.com/Unstructured-IO/unstructured/main/LICENSE.md\"\n",
    "elements = partition(url=url)\n",
    "elements = partition(url=url, content_type=\"text/markdown\")\n",
    "\n",
    "for element in elements[:5]:\n",
    "    print('-'*50)\n",
    "    print(element)\n",
    "    print(\"\\n\")"
   ]
  },
  {
   "cell_type": "markdown",
   "id": "3cf659fa-ac73-4027-bcc0-580c5ac64df6",
   "metadata": {},
   "source": [
    "#### PDF"
   ]
  },
  {
   "cell_type": "code",
   "execution_count": 5,
   "id": "9880be32-60fa-4a50-99d0-5247e1e792ca",
   "metadata": {
    "execution": {
     "iopub.execute_input": "2024-04-28T06:07:59.981766Z",
     "iopub.status.busy": "2024-04-28T06:07:59.981267Z",
     "iopub.status.idle": "2024-04-28T06:08:00.330393Z",
     "shell.execute_reply": "2024-04-28T06:08:00.329527Z",
     "shell.execute_reply.started": "2024-04-28T06:07:59.981732Z"
    }
   },
   "outputs": [
    {
     "name": "stdout",
     "output_type": "stream",
     "text": [
      "1 2 0 2\n",
      "\n",
      "n u J\n",
      "\n",
      "1 2\n",
      "\n",
      "]\n",
      "\n",
      "V C . s c [\n",
      "\n",
      "2 v 8 4 3 5 1 . 3 0 1 2 : v i X r a\n",
      "\n",
      "LayoutParser: A Uniﬁed Toolkit for Deep Learning Based Document Image Analysis\n",
      "\n",
      "Zejiang Shen1 ((cid:0)), Ruochen Zhang2, Melissa Dell3, Benjamin Charles Germain Lee4, Jacob Carlson3, and Weining Li5\n",
      "\n",
      "1 Allen Institute for AI shannons@allenai.org 2 Brown University ruochen zhang@brown.edu 3 Harvard University {melissadell,jacob carlson}@fas.harvard.edu 4 University of Washington bcgl@cs.washington.edu 5 University of Waterloo w422li@uwaterloo.ca\n",
      "\n",
      "Abstract. Recent advances in document image analysis (DIA) have been primarily driven by the application of neural networks. Ideally, research outcomes could be easily deployed in production and extended for further investigation. However, various factors like loosely organized codebases and sophisticated model conﬁgurations complicate the easy reuse of im- portant innovations by a wide audience. Though there have been on-going eﬀorts to improve reusability and simplify deep learning (DL) model development in disciplines like natural language processing and computer vision, none of them are optimized for challenges in the domain of DIA. This represents a major gap in the existing toolkit, as DIA is central to academic research across a wide range of disciplines in the social sciences and humanities. This paper introduces LayoutParser, an open-source library for streamlining the usage of DL in DIA research and applica- tions. The core LayoutParser library comes with a set of simple and intuitive interfaces for applying and customizing DL models for layout de- tection, character recognition, and many other document processing tasks. To promote extensibility, LayoutParser also incorporates a community platform for sharing both pre-trained models and full document digiti- zation pipelines. We demonstrate that LayoutParser is helpful for both lightweight and large-scale digitization pipelines in real-word use cases. The library is publicly available at https://layout-parser.github.io.\n"
     ]
    }
   ],
   "source": [
    "from unstructured.partition.auto import partition\n",
    "import os  \n",
    "\n",
    "EXAMPLE_DOCS_DIRECTORY='example-docs'\n",
    "filename = os.path.join(EXAMPLE_DOCS_DIRECTORY, \"layout-parser-paper-fast.pdf\")\n",
    "elements = partition(filename=filename, content_type=\"application/pdf\")\n",
    "print(\"\\n\\n\".join([str(el) for el in elements][:10]))"
   ]
  },
  {
   "cell_type": "code",
   "execution_count": 5,
   "id": "83558039-3fda-4ad9-841b-b89e0d5c8550",
   "metadata": {
    "execution": {
     "iopub.execute_input": "2024-04-27T13:33:37.473940Z",
     "iopub.status.busy": "2024-04-27T13:33:37.473184Z",
     "iopub.status.idle": "2024-04-27T13:33:39.619122Z",
     "shell.execute_reply": "2024-04-27T13:33:39.618346Z",
     "shell.execute_reply.started": "2024-04-27T13:33:37.473877Z"
    }
   },
   "outputs": [],
   "source": [
    "from unstructured.partition.auto import partition\n",
    "elements = partition(\"example-docs/layout-parser-paper.pdf\")"
   ]
  },
  {
   "cell_type": "code",
   "execution_count": 6,
   "id": "6dd98a41-837c-4a94-954d-b6f2a7bf59d4",
   "metadata": {
    "execution": {
     "iopub.execute_input": "2024-04-27T13:33:39.621466Z",
     "iopub.status.busy": "2024-04-27T13:33:39.620879Z",
     "iopub.status.idle": "2024-04-27T13:33:39.626309Z",
     "shell.execute_reply": "2024-04-27T13:33:39.625436Z",
     "shell.execute_reply.started": "2024-04-27T13:33:39.621432Z"
    }
   },
   "outputs": [
    {
     "name": "stdout",
     "output_type": "stream",
     "text": [
      "206\n",
      "--------------------------------------------------\n",
      "1 2 0 2\n",
      "\n",
      "\n",
      "--------------------------------------------------\n",
      "n u J\n",
      "\n",
      "\n",
      "--------------------------------------------------\n",
      "1 2\n",
      "\n",
      "\n",
      "--------------------------------------------------\n",
      "]\n",
      "\n",
      "\n",
      "--------------------------------------------------\n",
      "V C . s c [\n",
      "\n",
      "\n"
     ]
    }
   ],
   "source": [
    "print(len(elements))\n",
    "for element in elements[:5]:\n",
    "    print('-'*50)\n",
    "    print(element)\n",
    "    print(\"\\n\")"
   ]
  },
  {
   "cell_type": "code",
   "execution_count": 8,
   "id": "9963292a-65ea-4682-ba36-4d6c8061c64f",
   "metadata": {
    "execution": {
     "iopub.execute_input": "2024-04-27T13:35:00.187046Z",
     "iopub.status.busy": "2024-04-27T13:35:00.186653Z",
     "iopub.status.idle": "2024-04-27T13:35:00.448499Z",
     "shell.execute_reply": "2024-04-27T13:35:00.447676Z",
     "shell.execute_reply.started": "2024-04-27T13:35:00.187015Z"
    }
   },
   "outputs": [
    {
     "data": {
      "text/plain": [
       "[<unstructured.documents.elements.Text at 0x7f97f41be5f0>,\n",
       " <unstructured.documents.elements.Title at 0x7f97f41be6e0>,\n",
       " <unstructured.documents.elements.Text at 0x7f97f41be7d0>,\n",
       " <unstructured.documents.elements.Text at 0x7f97f41be740>,\n",
       " <unstructured.documents.elements.Title at 0x7f98eccdbcd0>,\n",
       " <unstructured.documents.elements.Text at 0x7f98eccdb970>,\n",
       " <unstructured.documents.elements.Title at 0x7f97f41bea40>,\n",
       " <unstructured.documents.elements.Text at 0x7f98eccdb7c0>,\n",
       " <unstructured.documents.elements.Text at 0x7f97f41bec20>,\n",
       " <unstructured.documents.elements.NarrativeText at 0x7f97f41bedd0>,\n",
       " <unstructured.documents.elements.Text at 0x7f97f41bed10>,\n",
       " <unstructured.documents.elements.Text at 0x7f97f41beec0>,\n",
       " <unstructured.documents.elements.Title at 0x7f97f41bf0a0>,\n",
       " <unstructured.documents.elements.NarrativeText at 0x7f97f41beef0>,\n",
       " <unstructured.documents.elements.Text at 0x7f97f4176200>,\n",
       " <unstructured.documents.elements.NarrativeText at 0x7f97f4176c20>,\n",
       " <unstructured.documents.elements.NarrativeText at 0x7f97f4176e60>,\n",
       " <unstructured.documents.elements.NarrativeText at 0x7f97f4176f50>,\n",
       " <unstructured.documents.elements.NarrativeText at 0x7f98ec9d9cc0>,\n",
       " <unstructured.documents.elements.ListItem at 0x7f97f4176d70>,\n",
       " <unstructured.documents.elements.ListItem at 0x7f97f41771f0>,\n",
       " <unstructured.documents.elements.ListItem at 0x7f97f4177400>,\n",
       " <unstructured.documents.elements.ListItem at 0x7f97f41775e0>,\n",
       " <unstructured.documents.elements.NarrativeText at 0x7f98ecb72a10>,\n",
       " <unstructured.documents.elements.NarrativeText at 0x7f97f4177820>]"
      ]
     },
     "execution_count": 8,
     "metadata": {},
     "output_type": "execute_result"
    }
   ],
   "source": [
    "from unstructured.partition.pdf import partition_pdf\n",
    "\n",
    "partition_pdf(\"example-docs/layout-parser-paper-fast.pdf\", url=None)"
   ]
  },
  {
   "cell_type": "code",
   "execution_count": 7,
   "id": "b01015fc-8895-46c1-8375-24c5bbcb33f4",
   "metadata": {
    "execution": {
     "iopub.execute_input": "2024-04-27T13:33:39.628071Z",
     "iopub.status.busy": "2024-04-27T13:33:39.627440Z",
     "iopub.status.idle": "2024-04-27T13:34:23.797144Z",
     "shell.execute_reply": "2024-04-27T13:34:23.795709Z",
     "shell.execute_reply.started": "2024-04-27T13:33:39.628031Z"
    }
   },
   "outputs": [
    {
     "name": "stderr",
     "output_type": "stream",
     "text": [
      "This function will be deprecated in a future release and `unstructured` will simply use the DEFAULT_MODEL from `unstructured_inference.model.base` to set default model name\n"
     ]
    },
    {
     "ename": "AttributeError",
     "evalue": "'tuple' object has no attribute 'tb_frame'",
     "output_type": "error",
     "traceback": [
      "\u001b[0;31m---------------------------------------------------------------------------\u001b[0m",
      "\u001b[0;31mAssertionError\u001b[0m                            Traceback (most recent call last)",
      "File \u001b[0;32m~/miniconda3/envs/dev/lib/python3.10/site-packages/unstructured_pytesseract/pytesseract.py:461\u001b[0m, in \u001b[0;36mget_tesseract_version\u001b[0;34m()\u001b[0m\n\u001b[1;32m    460\u001b[0m     version \u001b[38;5;241m=\u001b[39m parse(str_version)\n\u001b[0;32m--> 461\u001b[0m     \u001b[38;5;28;01massert\u001b[39;00m version \u001b[38;5;241m>\u001b[39m\u001b[38;5;241m=\u001b[39m TESSERACT_MIN_VERSION\n\u001b[1;32m    462\u001b[0m \u001b[38;5;28;01mexcept\u001b[39;00m (\u001b[38;5;167;01mAssertionError\u001b[39;00m, InvalidVersion):\n",
      "\u001b[0;31mAssertionError\u001b[0m: ",
      "\nDuring handling of the above exception, another exception occurred:\n",
      "\u001b[0;31mSystemExit\u001b[0m                                Traceback (most recent call last)",
      "    \u001b[0;31m[... skipping hidden 1 frame]\u001b[0m\n",
      "Cell \u001b[0;32mIn[7], line 5\u001b[0m\n\u001b[1;32m      3\u001b[0m filename \u001b[38;5;241m=\u001b[39m \u001b[38;5;124m\"\u001b[39m\u001b[38;5;124mexample-docs/layout-parser-paper.pdf\u001b[39m\u001b[38;5;124m\"\u001b[39m\n\u001b[0;32m----> 5\u001b[0m elements \u001b[38;5;241m=\u001b[39m \u001b[43mpartition_pdf\u001b[49m\u001b[43m(\u001b[49m\u001b[43mfilename\u001b[49m\u001b[38;5;241;43m=\u001b[39;49m\u001b[43mfilename\u001b[49m\u001b[43m,\u001b[49m\u001b[43m \u001b[49m\u001b[43minfer_table_structure\u001b[49m\u001b[38;5;241;43m=\u001b[39;49m\u001b[38;5;28;43;01mTrue\u001b[39;49;00m\u001b[43m)\u001b[49m\n\u001b[1;32m      6\u001b[0m tables \u001b[38;5;241m=\u001b[39m [el \u001b[38;5;28;01mfor\u001b[39;00m el \u001b[38;5;129;01min\u001b[39;00m elements \u001b[38;5;28;01mif\u001b[39;00m el\u001b[38;5;241m.\u001b[39mcategory \u001b[38;5;241m==\u001b[39m \u001b[38;5;124m\"\u001b[39m\u001b[38;5;124mTable\u001b[39m\u001b[38;5;124m\"\u001b[39m]\n",
      "File \u001b[0;32m~/miniconda3/envs/dev/lib/python3.10/site-packages/unstructured/documents/elements.py:526\u001b[0m, in \u001b[0;36mprocess_metadata.<locals>.decorator.<locals>.wrapper\u001b[0;34m(*args, **kwargs)\u001b[0m\n\u001b[1;32m    524\u001b[0m \u001b[38;5;129m@functools\u001b[39m\u001b[38;5;241m.\u001b[39mwraps(func)\n\u001b[1;32m    525\u001b[0m \u001b[38;5;28;01mdef\u001b[39;00m \u001b[38;5;21mwrapper\u001b[39m(\u001b[38;5;241m*\u001b[39margs: _P\u001b[38;5;241m.\u001b[39margs, \u001b[38;5;241m*\u001b[39m\u001b[38;5;241m*\u001b[39mkwargs: _P\u001b[38;5;241m.\u001b[39mkwargs) \u001b[38;5;241m-\u001b[39m\u001b[38;5;241m>\u001b[39m List[Element]:\n\u001b[0;32m--> 526\u001b[0m     elements \u001b[38;5;241m=\u001b[39m \u001b[43mfunc\u001b[49m\u001b[43m(\u001b[49m\u001b[38;5;241;43m*\u001b[39;49m\u001b[43margs\u001b[49m\u001b[43m,\u001b[49m\u001b[43m \u001b[49m\u001b[38;5;241;43m*\u001b[39;49m\u001b[38;5;241;43m*\u001b[39;49m\u001b[43mkwargs\u001b[49m\u001b[43m)\u001b[49m\n\u001b[1;32m    527\u001b[0m     sig \u001b[38;5;241m=\u001b[39m inspect\u001b[38;5;241m.\u001b[39msignature(func)\n",
      "File \u001b[0;32m~/miniconda3/envs/dev/lib/python3.10/site-packages/unstructured/file_utils/filetype.py:627\u001b[0m, in \u001b[0;36madd_filetype.<locals>.decorator.<locals>.wrapper\u001b[0;34m(*args, **kwargs)\u001b[0m\n\u001b[1;32m    625\u001b[0m \u001b[38;5;129m@functools\u001b[39m\u001b[38;5;241m.\u001b[39mwraps(func)\n\u001b[1;32m    626\u001b[0m \u001b[38;5;28;01mdef\u001b[39;00m \u001b[38;5;21mwrapper\u001b[39m(\u001b[38;5;241m*\u001b[39margs: _P\u001b[38;5;241m.\u001b[39margs, \u001b[38;5;241m*\u001b[39m\u001b[38;5;241m*\u001b[39mkwargs: _P\u001b[38;5;241m.\u001b[39mkwargs) \u001b[38;5;241m-\u001b[39m\u001b[38;5;241m>\u001b[39m List[Element]:\n\u001b[0;32m--> 627\u001b[0m     elements \u001b[38;5;241m=\u001b[39m \u001b[43mfunc\u001b[49m\u001b[43m(\u001b[49m\u001b[38;5;241;43m*\u001b[39;49m\u001b[43margs\u001b[49m\u001b[43m,\u001b[49m\u001b[43m \u001b[49m\u001b[38;5;241;43m*\u001b[39;49m\u001b[38;5;241;43m*\u001b[39;49m\u001b[43mkwargs\u001b[49m\u001b[43m)\u001b[49m\n\u001b[1;32m    628\u001b[0m     sig \u001b[38;5;241m=\u001b[39m inspect\u001b[38;5;241m.\u001b[39msignature(func)\n",
      "File \u001b[0;32m~/miniconda3/envs/dev/lib/python3.10/site-packages/unstructured/file_utils/filetype.py:582\u001b[0m, in \u001b[0;36madd_metadata.<locals>.wrapper\u001b[0;34m(*args, **kwargs)\u001b[0m\n\u001b[1;32m    580\u001b[0m \u001b[38;5;129m@functools\u001b[39m\u001b[38;5;241m.\u001b[39mwraps(func)\n\u001b[1;32m    581\u001b[0m \u001b[38;5;28;01mdef\u001b[39;00m \u001b[38;5;21mwrapper\u001b[39m(\u001b[38;5;241m*\u001b[39margs: _P\u001b[38;5;241m.\u001b[39margs, \u001b[38;5;241m*\u001b[39m\u001b[38;5;241m*\u001b[39mkwargs: _P\u001b[38;5;241m.\u001b[39mkwargs) \u001b[38;5;241m-\u001b[39m\u001b[38;5;241m>\u001b[39m List[Element]:\n\u001b[0;32m--> 582\u001b[0m     elements \u001b[38;5;241m=\u001b[39m \u001b[43mfunc\u001b[49m\u001b[43m(\u001b[49m\u001b[38;5;241;43m*\u001b[39;49m\u001b[43margs\u001b[49m\u001b[43m,\u001b[49m\u001b[43m \u001b[49m\u001b[38;5;241;43m*\u001b[39;49m\u001b[38;5;241;43m*\u001b[39;49m\u001b[43mkwargs\u001b[49m\u001b[43m)\u001b[49m\n\u001b[1;32m    583\u001b[0m     sig \u001b[38;5;241m=\u001b[39m inspect\u001b[38;5;241m.\u001b[39msignature(func)\n",
      "File \u001b[0;32m~/miniconda3/envs/dev/lib/python3.10/site-packages/unstructured/chunking/__init__.py:71\u001b[0m, in \u001b[0;36madd_chunking_strategy.<locals>.decorator.<locals>.wrapper\u001b[0;34m(*args, **kwargs)\u001b[0m\n\u001b[1;32m     70\u001b[0m \u001b[38;5;66;03m# -- call the partitioning function to get the elements --\u001b[39;00m\n\u001b[0;32m---> 71\u001b[0m elements \u001b[38;5;241m=\u001b[39m \u001b[43mfunc\u001b[49m\u001b[43m(\u001b[49m\u001b[38;5;241;43m*\u001b[39;49m\u001b[43margs\u001b[49m\u001b[43m,\u001b[49m\u001b[43m \u001b[49m\u001b[38;5;241;43m*\u001b[39;49m\u001b[38;5;241;43m*\u001b[39;49m\u001b[43mkwargs\u001b[49m\u001b[43m)\u001b[49m\n\u001b[1;32m     73\u001b[0m \u001b[38;5;66;03m# -- look for a chunking-strategy argument and run the indicated chunker when present --\u001b[39;00m\n",
      "File \u001b[0;32m~/miniconda3/envs/dev/lib/python3.10/site-packages/unstructured/partition/pdf.py:213\u001b[0m, in \u001b[0;36mpartition_pdf\u001b[0;34m(filename, file, include_page_breaks, strategy, infer_table_structure, ocr_languages, languages, include_metadata, metadata_filename, metadata_last_modified, chunking_strategy, links, hi_res_model_name, extract_images_in_pdf, extract_image_block_types, extract_image_block_output_dir, extract_image_block_to_payload, **kwargs)\u001b[0m\n\u001b[1;32m    211\u001b[0m languages \u001b[38;5;241m=\u001b[39m check_language_args(languages \u001b[38;5;129;01mor\u001b[39;00m [], ocr_languages) \u001b[38;5;129;01mor\u001b[39;00m [\u001b[38;5;124m\"\u001b[39m\u001b[38;5;124meng\u001b[39m\u001b[38;5;124m\"\u001b[39m]\n\u001b[0;32m--> 213\u001b[0m \u001b[38;5;28;01mreturn\u001b[39;00m \u001b[43mpartition_pdf_or_image\u001b[49m\u001b[43m(\u001b[49m\n\u001b[1;32m    214\u001b[0m \u001b[43m    \u001b[49m\u001b[43mfilename\u001b[49m\u001b[38;5;241;43m=\u001b[39;49m\u001b[43mfilename\u001b[49m\u001b[43m,\u001b[49m\n\u001b[1;32m    215\u001b[0m \u001b[43m    \u001b[49m\u001b[43mfile\u001b[49m\u001b[38;5;241;43m=\u001b[39;49m\u001b[43mfile\u001b[49m\u001b[43m,\u001b[49m\n\u001b[1;32m    216\u001b[0m \u001b[43m    \u001b[49m\u001b[43minclude_page_breaks\u001b[49m\u001b[38;5;241;43m=\u001b[39;49m\u001b[43minclude_page_breaks\u001b[49m\u001b[43m,\u001b[49m\n\u001b[1;32m    217\u001b[0m \u001b[43m    \u001b[49m\u001b[43mstrategy\u001b[49m\u001b[38;5;241;43m=\u001b[39;49m\u001b[43mstrategy\u001b[49m\u001b[43m,\u001b[49m\n\u001b[1;32m    218\u001b[0m \u001b[43m    \u001b[49m\u001b[43minfer_table_structure\u001b[49m\u001b[38;5;241;43m=\u001b[39;49m\u001b[43minfer_table_structure\u001b[49m\u001b[43m,\u001b[49m\n\u001b[1;32m    219\u001b[0m \u001b[43m    \u001b[49m\u001b[43mlanguages\u001b[49m\u001b[38;5;241;43m=\u001b[39;49m\u001b[43mlanguages\u001b[49m\u001b[43m,\u001b[49m\n\u001b[1;32m    220\u001b[0m \u001b[43m    \u001b[49m\u001b[43mmetadata_last_modified\u001b[49m\u001b[38;5;241;43m=\u001b[39;49m\u001b[43mmetadata_last_modified\u001b[49m\u001b[43m,\u001b[49m\n\u001b[1;32m    221\u001b[0m \u001b[43m    \u001b[49m\u001b[43mhi_res_model_name\u001b[49m\u001b[38;5;241;43m=\u001b[39;49m\u001b[43mhi_res_model_name\u001b[49m\u001b[43m,\u001b[49m\n\u001b[1;32m    222\u001b[0m \u001b[43m    \u001b[49m\u001b[43mextract_images_in_pdf\u001b[49m\u001b[38;5;241;43m=\u001b[39;49m\u001b[43mextract_images_in_pdf\u001b[49m\u001b[43m,\u001b[49m\n\u001b[1;32m    223\u001b[0m \u001b[43m    \u001b[49m\u001b[43mextract_image_block_types\u001b[49m\u001b[38;5;241;43m=\u001b[39;49m\u001b[43mextract_image_block_types\u001b[49m\u001b[43m,\u001b[49m\n\u001b[1;32m    224\u001b[0m \u001b[43m    \u001b[49m\u001b[43mextract_image_block_output_dir\u001b[49m\u001b[38;5;241;43m=\u001b[39;49m\u001b[43mextract_image_block_output_dir\u001b[49m\u001b[43m,\u001b[49m\n\u001b[1;32m    225\u001b[0m \u001b[43m    \u001b[49m\u001b[43mextract_image_block_to_payload\u001b[49m\u001b[38;5;241;43m=\u001b[39;49m\u001b[43mextract_image_block_to_payload\u001b[49m\u001b[43m,\u001b[49m\n\u001b[1;32m    226\u001b[0m \u001b[43m    \u001b[49m\u001b[38;5;241;43m*\u001b[39;49m\u001b[38;5;241;43m*\u001b[39;49m\u001b[43mkwargs\u001b[49m\u001b[43m,\u001b[49m\n\u001b[1;32m    227\u001b[0m \u001b[43m\u001b[49m\u001b[43m)\u001b[49m\n",
      "File \u001b[0;32m~/miniconda3/envs/dev/lib/python3.10/site-packages/unstructured/partition/pdf.py:298\u001b[0m, in \u001b[0;36mpartition_pdf_or_image\u001b[0;34m(filename, file, is_image, include_page_breaks, strategy, infer_table_structure, ocr_languages, languages, metadata_last_modified, hi_res_model_name, extract_images_in_pdf, extract_image_block_types, extract_image_block_output_dir, extract_image_block_to_payload, **kwargs)\u001b[0m\n\u001b[1;32m    297\u001b[0m warnings\u001b[38;5;241m.\u001b[39msimplefilter(\u001b[38;5;124m\"\u001b[39m\u001b[38;5;124mignore\u001b[39m\u001b[38;5;124m\"\u001b[39m)\n\u001b[0;32m--> 298\u001b[0m elements \u001b[38;5;241m=\u001b[39m \u001b[43m_partition_pdf_or_image_local\u001b[49m\u001b[43m(\u001b[49m\n\u001b[1;32m    299\u001b[0m \u001b[43m    \u001b[49m\u001b[43mfilename\u001b[49m\u001b[38;5;241;43m=\u001b[39;49m\u001b[43mfilename\u001b[49m\u001b[43m,\u001b[49m\n\u001b[1;32m    300\u001b[0m \u001b[43m    \u001b[49m\u001b[43mfile\u001b[49m\u001b[38;5;241;43m=\u001b[39;49m\u001b[43mspooled_to_bytes_io_if_needed\u001b[49m\u001b[43m(\u001b[49m\u001b[43mfile\u001b[49m\u001b[43m)\u001b[49m\u001b[43m,\u001b[49m\n\u001b[1;32m    301\u001b[0m \u001b[43m    \u001b[49m\u001b[43mis_image\u001b[49m\u001b[38;5;241;43m=\u001b[39;49m\u001b[43mis_image\u001b[49m\u001b[43m,\u001b[49m\n\u001b[1;32m    302\u001b[0m \u001b[43m    \u001b[49m\u001b[43minfer_table_structure\u001b[49m\u001b[38;5;241;43m=\u001b[39;49m\u001b[43minfer_table_structure\u001b[49m\u001b[43m,\u001b[49m\n\u001b[1;32m    303\u001b[0m \u001b[43m    \u001b[49m\u001b[43minclude_page_breaks\u001b[49m\u001b[38;5;241;43m=\u001b[39;49m\u001b[43minclude_page_breaks\u001b[49m\u001b[43m,\u001b[49m\n\u001b[1;32m    304\u001b[0m \u001b[43m    \u001b[49m\u001b[43mlanguages\u001b[49m\u001b[38;5;241;43m=\u001b[39;49m\u001b[43mlanguages\u001b[49m\u001b[43m,\u001b[49m\n\u001b[1;32m    305\u001b[0m \u001b[43m    \u001b[49m\u001b[43mmetadata_last_modified\u001b[49m\u001b[38;5;241;43m=\u001b[39;49m\u001b[43mmetadata_last_modified\u001b[49m\u001b[43m \u001b[49m\u001b[38;5;129;43;01mor\u001b[39;49;00m\u001b[43m \u001b[49m\u001b[43mlast_modification_date\u001b[49m\u001b[43m,\u001b[49m\n\u001b[1;32m    306\u001b[0m \u001b[43m    \u001b[49m\u001b[43mhi_res_model_name\u001b[49m\u001b[38;5;241;43m=\u001b[39;49m\u001b[43mhi_res_model_name\u001b[49m\u001b[43m,\u001b[49m\n\u001b[1;32m    307\u001b[0m \u001b[43m    \u001b[49m\u001b[43mpdf_text_extractable\u001b[49m\u001b[38;5;241;43m=\u001b[39;49m\u001b[43mpdf_text_extractable\u001b[49m\u001b[43m,\u001b[49m\n\u001b[1;32m    308\u001b[0m \u001b[43m    \u001b[49m\u001b[43mextract_images_in_pdf\u001b[49m\u001b[38;5;241;43m=\u001b[39;49m\u001b[43mextract_images_in_pdf\u001b[49m\u001b[43m,\u001b[49m\n\u001b[1;32m    309\u001b[0m \u001b[43m    \u001b[49m\u001b[43mextract_image_block_types\u001b[49m\u001b[38;5;241;43m=\u001b[39;49m\u001b[43mextract_image_block_types\u001b[49m\u001b[43m,\u001b[49m\n\u001b[1;32m    310\u001b[0m \u001b[43m    \u001b[49m\u001b[43mextract_image_block_output_dir\u001b[49m\u001b[38;5;241;43m=\u001b[39;49m\u001b[43mextract_image_block_output_dir\u001b[49m\u001b[43m,\u001b[49m\n\u001b[1;32m    311\u001b[0m \u001b[43m    \u001b[49m\u001b[43mextract_image_block_to_payload\u001b[49m\u001b[38;5;241;43m=\u001b[39;49m\u001b[43mextract_image_block_to_payload\u001b[49m\u001b[43m,\u001b[49m\n\u001b[1;32m    312\u001b[0m \u001b[43m    \u001b[49m\u001b[38;5;241;43m*\u001b[39;49m\u001b[38;5;241;43m*\u001b[39;49m\u001b[43mkwargs\u001b[49m\u001b[43m,\u001b[49m\n\u001b[1;32m    313\u001b[0m \u001b[43m\u001b[49m\u001b[43m)\u001b[49m\n\u001b[1;32m    314\u001b[0m out_elements \u001b[38;5;241m=\u001b[39m _process_uncategorized_text_elements(elements)\n",
      "File \u001b[0;32m~/miniconda3/envs/dev/lib/python3.10/site-packages/unstructured/utils.py:214\u001b[0m, in \u001b[0;36mrequires_dependencies.<locals>.decorator.<locals>.wrapper\u001b[0;34m(*args, **kwargs)\u001b[0m\n\u001b[1;32m    206\u001b[0m     \u001b[38;5;28;01mraise\u001b[39;00m \u001b[38;5;167;01mImportError\u001b[39;00m(\n\u001b[1;32m    207\u001b[0m         \u001b[38;5;124mf\u001b[39m\u001b[38;5;124m\"\u001b[39m\u001b[38;5;124mFollowing dependencies are missing: \u001b[39m\u001b[38;5;132;01m{\u001b[39;00m\u001b[38;5;124m'\u001b[39m\u001b[38;5;124m, \u001b[39m\u001b[38;5;124m'\u001b[39m\u001b[38;5;241m.\u001b[39mjoin(missing_deps)\u001b[38;5;132;01m}\u001b[39;00m\u001b[38;5;124m. \u001b[39m\u001b[38;5;124m\"\u001b[39m\n\u001b[1;32m    208\u001b[0m         \u001b[38;5;241m+\u001b[39m (\n\u001b[0;32m   (...)\u001b[0m\n\u001b[1;32m    212\u001b[0m         ),\n\u001b[1;32m    213\u001b[0m     )\n\u001b[0;32m--> 214\u001b[0m \u001b[38;5;28;01mreturn\u001b[39;00m \u001b[43mfunc\u001b[49m\u001b[43m(\u001b[49m\u001b[38;5;241;43m*\u001b[39;49m\u001b[43margs\u001b[49m\u001b[43m,\u001b[49m\u001b[43m \u001b[49m\u001b[38;5;241;43m*\u001b[39;49m\u001b[38;5;241;43m*\u001b[39;49m\u001b[43mkwargs\u001b[49m\u001b[43m)\u001b[49m\n",
      "File \u001b[0;32m~/miniconda3/envs/dev/lib/python3.10/site-packages/unstructured/partition/pdf.py:454\u001b[0m, in \u001b[0;36m_partition_pdf_or_image_local\u001b[0;34m(filename, file, is_image, infer_table_structure, include_page_breaks, languages, ocr_mode, model_name, hi_res_model_name, pdf_image_dpi, metadata_last_modified, pdf_text_extractable, extract_images_in_pdf, extract_image_block_types, extract_image_block_output_dir, extract_image_block_to_payload, analysis, analyzed_image_output_dir_path, **kwargs)\u001b[0m\n\u001b[1;32m    449\u001b[0m         merged_document_layout \u001b[38;5;241m=\u001b[39m merge_inferred_with_extracted_layout(\n\u001b[1;32m    450\u001b[0m             inferred_document_layout\u001b[38;5;241m=\u001b[39minferred_document_layout,\n\u001b[1;32m    451\u001b[0m             extracted_layout\u001b[38;5;241m=\u001b[39mextracted_layout,\n\u001b[1;32m    452\u001b[0m         )\n\u001b[0;32m--> 454\u001b[0m         final_document_layout \u001b[38;5;241m=\u001b[39m \u001b[43mprocess_file_with_ocr\u001b[49m\u001b[43m(\u001b[49m\n\u001b[1;32m    455\u001b[0m \u001b[43m            \u001b[49m\u001b[43mfilename\u001b[49m\u001b[43m,\u001b[49m\n\u001b[1;32m    456\u001b[0m \u001b[43m            \u001b[49m\u001b[43mmerged_document_layout\u001b[49m\u001b[43m,\u001b[49m\n\u001b[1;32m    457\u001b[0m \u001b[43m            \u001b[49m\u001b[43mextracted_layout\u001b[49m\u001b[38;5;241;43m=\u001b[39;49m\u001b[43mextracted_layout\u001b[49m\u001b[43m,\u001b[49m\n\u001b[1;32m    458\u001b[0m \u001b[43m            \u001b[49m\u001b[43mis_image\u001b[49m\u001b[38;5;241;43m=\u001b[39;49m\u001b[43mis_image\u001b[49m\u001b[43m,\u001b[49m\n\u001b[1;32m    459\u001b[0m \u001b[43m            \u001b[49m\u001b[43minfer_table_structure\u001b[49m\u001b[38;5;241;43m=\u001b[39;49m\u001b[43minfer_table_structure\u001b[49m\u001b[43m,\u001b[49m\n\u001b[1;32m    460\u001b[0m \u001b[43m            \u001b[49m\u001b[43mocr_languages\u001b[49m\u001b[38;5;241;43m=\u001b[39;49m\u001b[43mocr_languages\u001b[49m\u001b[43m,\u001b[49m\n\u001b[1;32m    461\u001b[0m \u001b[43m            \u001b[49m\u001b[43mocr_mode\u001b[49m\u001b[38;5;241;43m=\u001b[39;49m\u001b[43mocr_mode\u001b[49m\u001b[43m,\u001b[49m\n\u001b[1;32m    462\u001b[0m \u001b[43m            \u001b[49m\u001b[43mpdf_image_dpi\u001b[49m\u001b[38;5;241;43m=\u001b[39;49m\u001b[43mpdf_image_dpi\u001b[49m\u001b[43m,\u001b[49m\n\u001b[1;32m    463\u001b[0m \u001b[43m        \u001b[49m\u001b[43m)\u001b[49m\n\u001b[1;32m    464\u001b[0m \u001b[38;5;28;01melse\u001b[39;00m:\n",
      "File \u001b[0;32m~/miniconda3/envs/dev/lib/python3.10/site-packages/unstructured/utils.py:214\u001b[0m, in \u001b[0;36mrequires_dependencies.<locals>.decorator.<locals>.wrapper\u001b[0;34m(*args, **kwargs)\u001b[0m\n\u001b[1;32m    206\u001b[0m     \u001b[38;5;28;01mraise\u001b[39;00m \u001b[38;5;167;01mImportError\u001b[39;00m(\n\u001b[1;32m    207\u001b[0m         \u001b[38;5;124mf\u001b[39m\u001b[38;5;124m\"\u001b[39m\u001b[38;5;124mFollowing dependencies are missing: \u001b[39m\u001b[38;5;132;01m{\u001b[39;00m\u001b[38;5;124m'\u001b[39m\u001b[38;5;124m, \u001b[39m\u001b[38;5;124m'\u001b[39m\u001b[38;5;241m.\u001b[39mjoin(missing_deps)\u001b[38;5;132;01m}\u001b[39;00m\u001b[38;5;124m. \u001b[39m\u001b[38;5;124m\"\u001b[39m\n\u001b[1;32m    208\u001b[0m         \u001b[38;5;241m+\u001b[39m (\n\u001b[0;32m   (...)\u001b[0m\n\u001b[1;32m    212\u001b[0m         ),\n\u001b[1;32m    213\u001b[0m     )\n\u001b[0;32m--> 214\u001b[0m \u001b[38;5;28;01mreturn\u001b[39;00m \u001b[43mfunc\u001b[49m\u001b[43m(\u001b[49m\u001b[38;5;241;43m*\u001b[39;49m\u001b[43margs\u001b[49m\u001b[43m,\u001b[49m\u001b[43m \u001b[49m\u001b[38;5;241;43m*\u001b[39;49m\u001b[38;5;241;43m*\u001b[39;49m\u001b[43mkwargs\u001b[49m\u001b[43m)\u001b[49m\n",
      "File \u001b[0;32m~/miniconda3/envs/dev/lib/python3.10/site-packages/unstructured/partition/pdf_image/ocr.py:166\u001b[0m, in \u001b[0;36mprocess_file_with_ocr\u001b[0;34m(filename, out_layout, extracted_layout, is_image, infer_table_structure, ocr_languages, ocr_mode, pdf_image_dpi)\u001b[0m\n\u001b[1;32m    165\u001b[0m \u001b[38;5;28;01mwith\u001b[39;00m PILImage\u001b[38;5;241m.\u001b[39mopen(image_path) \u001b[38;5;28;01mas\u001b[39;00m image:\n\u001b[0;32m--> 166\u001b[0m     merged_page_layout \u001b[38;5;241m=\u001b[39m \u001b[43msupplement_page_layout_with_ocr\u001b[49m\u001b[43m(\u001b[49m\n\u001b[1;32m    167\u001b[0m \u001b[43m        \u001b[49m\u001b[43mpage_layout\u001b[49m\u001b[38;5;241;43m=\u001b[39;49m\u001b[43mout_layout\u001b[49m\u001b[38;5;241;43m.\u001b[39;49m\u001b[43mpages\u001b[49m\u001b[43m[\u001b[49m\u001b[43mi\u001b[49m\u001b[43m]\u001b[49m\u001b[43m,\u001b[49m\n\u001b[1;32m    168\u001b[0m \u001b[43m        \u001b[49m\u001b[43mimage\u001b[49m\u001b[38;5;241;43m=\u001b[39;49m\u001b[43mimage\u001b[49m\u001b[43m,\u001b[49m\n\u001b[1;32m    169\u001b[0m \u001b[43m        \u001b[49m\u001b[43minfer_table_structure\u001b[49m\u001b[38;5;241;43m=\u001b[39;49m\u001b[43minfer_table_structure\u001b[49m\u001b[43m,\u001b[49m\n\u001b[1;32m    170\u001b[0m \u001b[43m        \u001b[49m\u001b[43mocr_languages\u001b[49m\u001b[38;5;241;43m=\u001b[39;49m\u001b[43mocr_languages\u001b[49m\u001b[43m,\u001b[49m\n\u001b[1;32m    171\u001b[0m \u001b[43m        \u001b[49m\u001b[43mocr_mode\u001b[49m\u001b[38;5;241;43m=\u001b[39;49m\u001b[43mocr_mode\u001b[49m\u001b[43m,\u001b[49m\n\u001b[1;32m    172\u001b[0m \u001b[43m        \u001b[49m\u001b[43mextracted_regions\u001b[49m\u001b[38;5;241;43m=\u001b[39;49m\u001b[43mextracted_regions\u001b[49m\u001b[43m,\u001b[49m\n\u001b[1;32m    173\u001b[0m \u001b[43m    \u001b[49m\u001b[43m)\u001b[49m\n\u001b[1;32m    174\u001b[0m     merged_page_layouts\u001b[38;5;241m.\u001b[39mappend(merged_page_layout)\n",
      "File \u001b[0;32m~/miniconda3/envs/dev/lib/python3.10/site-packages/unstructured/utils.py:214\u001b[0m, in \u001b[0;36mrequires_dependencies.<locals>.decorator.<locals>.wrapper\u001b[0;34m(*args, **kwargs)\u001b[0m\n\u001b[1;32m    206\u001b[0m     \u001b[38;5;28;01mraise\u001b[39;00m \u001b[38;5;167;01mImportError\u001b[39;00m(\n\u001b[1;32m    207\u001b[0m         \u001b[38;5;124mf\u001b[39m\u001b[38;5;124m\"\u001b[39m\u001b[38;5;124mFollowing dependencies are missing: \u001b[39m\u001b[38;5;132;01m{\u001b[39;00m\u001b[38;5;124m'\u001b[39m\u001b[38;5;124m, \u001b[39m\u001b[38;5;124m'\u001b[39m\u001b[38;5;241m.\u001b[39mjoin(missing_deps)\u001b[38;5;132;01m}\u001b[39;00m\u001b[38;5;124m. \u001b[39m\u001b[38;5;124m\"\u001b[39m\n\u001b[1;32m    208\u001b[0m         \u001b[38;5;241m+\u001b[39m (\n\u001b[0;32m   (...)\u001b[0m\n\u001b[1;32m    212\u001b[0m         ),\n\u001b[1;32m    213\u001b[0m     )\n\u001b[0;32m--> 214\u001b[0m \u001b[38;5;28;01mreturn\u001b[39;00m \u001b[43mfunc\u001b[49m\u001b[43m(\u001b[49m\u001b[38;5;241;43m*\u001b[39;49m\u001b[43margs\u001b[49m\u001b[43m,\u001b[49m\u001b[43m \u001b[49m\u001b[38;5;241;43m*\u001b[39;49m\u001b[38;5;241;43m*\u001b[39;49m\u001b[43mkwargs\u001b[49m\u001b[43m)\u001b[49m\n",
      "File \u001b[0;32m~/miniconda3/envs/dev/lib/python3.10/site-packages/unstructured/partition/pdf_image/ocr.py:202\u001b[0m, in \u001b[0;36msupplement_page_layout_with_ocr\u001b[0;34m(page_layout, image, infer_table_structure, ocr_languages, ocr_mode, extracted_regions)\u001b[0m\n\u001b[1;32m    201\u001b[0m \u001b[38;5;28;01mif\u001b[39;00m ocr_mode \u001b[38;5;241m==\u001b[39m OCRMode\u001b[38;5;241m.\u001b[39mFULL_PAGE\u001b[38;5;241m.\u001b[39mvalue:\n\u001b[0;32m--> 202\u001b[0m     ocr_layout \u001b[38;5;241m=\u001b[39m \u001b[43mocr_agent\u001b[49m\u001b[38;5;241;43m.\u001b[39;49m\u001b[43mget_layout_from_image\u001b[49m\u001b[43m(\u001b[49m\n\u001b[1;32m    203\u001b[0m \u001b[43m        \u001b[49m\u001b[43mimage\u001b[49m\u001b[43m,\u001b[49m\n\u001b[1;32m    204\u001b[0m \u001b[43m        \u001b[49m\u001b[43mocr_languages\u001b[49m\u001b[38;5;241;43m=\u001b[39;49m\u001b[43mocr_languages\u001b[49m\u001b[43m,\u001b[49m\n\u001b[1;32m    205\u001b[0m \u001b[43m    \u001b[49m\u001b[43m)\u001b[49m\n\u001b[1;32m    206\u001b[0m     page_layout\u001b[38;5;241m.\u001b[39melements[:] \u001b[38;5;241m=\u001b[39m merge_out_layout_with_ocr_layout(\n\u001b[1;32m    207\u001b[0m         out_layout\u001b[38;5;241m=\u001b[39mcast(List[\u001b[38;5;124m\"\u001b[39m\u001b[38;5;124mLayoutElement\u001b[39m\u001b[38;5;124m\"\u001b[39m], page_layout\u001b[38;5;241m.\u001b[39melements),\n\u001b[1;32m    208\u001b[0m         ocr_layout\u001b[38;5;241m=\u001b[39mocr_layout,\n\u001b[1;32m    209\u001b[0m     )\n",
      "File \u001b[0;32m~/miniconda3/envs/dev/lib/python3.10/site-packages/unstructured/partition/utils/ocr_models/tesseract_ocr.py:48\u001b[0m, in \u001b[0;36mOCRAgentTesseract.get_layout_from_image\u001b[0;34m(self, image, ocr_languages)\u001b[0m\n\u001b[1;32m     47\u001b[0m zoom \u001b[38;5;241m=\u001b[39m \u001b[38;5;241m1\u001b[39m\n\u001b[0;32m---> 48\u001b[0m ocr_df: pd\u001b[38;5;241m.\u001b[39mDataFrame \u001b[38;5;241m=\u001b[39m \u001b[43munstructured_pytesseract\u001b[49m\u001b[38;5;241;43m.\u001b[39;49m\u001b[43mimage_to_data\u001b[49m\u001b[43m(\u001b[49m\n\u001b[1;32m     49\u001b[0m \u001b[43m    \u001b[49m\u001b[43mnp\u001b[49m\u001b[38;5;241;43m.\u001b[39;49m\u001b[43marray\u001b[49m\u001b[43m(\u001b[49m\u001b[43mimage\u001b[49m\u001b[43m)\u001b[49m\u001b[43m,\u001b[49m\n\u001b[1;32m     50\u001b[0m \u001b[43m    \u001b[49m\u001b[43mlang\u001b[49m\u001b[38;5;241;43m=\u001b[39;49m\u001b[43mocr_languages\u001b[49m\u001b[43m,\u001b[49m\n\u001b[1;32m     51\u001b[0m \u001b[43m    \u001b[49m\u001b[43moutput_type\u001b[49m\u001b[38;5;241;43m=\u001b[39;49m\u001b[43mOutput\u001b[49m\u001b[38;5;241;43m.\u001b[39;49m\u001b[43mDATAFRAME\u001b[49m\u001b[43m,\u001b[49m\n\u001b[1;32m     52\u001b[0m \u001b[43m\u001b[49m\u001b[43m)\u001b[49m\n\u001b[1;32m     53\u001b[0m ocr_df \u001b[38;5;241m=\u001b[39m ocr_df\u001b[38;5;241m.\u001b[39mdropna()\n",
      "File \u001b[0;32m~/miniconda3/envs/dev/lib/python3.10/site-packages/unstructured_pytesseract/pytesseract.py:585\u001b[0m, in \u001b[0;36mimage_to_data\u001b[0;34m(image, lang, config, nice, output_type, timeout, pandas_config)\u001b[0m\n\u001b[1;32m    580\u001b[0m \u001b[38;5;250m\u001b[39m\u001b[38;5;124;03m\"\"\"\u001b[39;00m\n\u001b[1;32m    581\u001b[0m \u001b[38;5;124;03mReturns string containing box boundaries, confidences,\u001b[39;00m\n\u001b[1;32m    582\u001b[0m \u001b[38;5;124;03mand other information. Requires Tesseract 3.05+\u001b[39;00m\n\u001b[1;32m    583\u001b[0m \u001b[38;5;124;03m\"\"\"\u001b[39;00m\n\u001b[0;32m--> 585\u001b[0m \u001b[38;5;28;01mif\u001b[39;00m \u001b[43mget_tesseract_version\u001b[49m\u001b[43m(\u001b[49m\u001b[43mcached\u001b[49m\u001b[38;5;241;43m=\u001b[39;49m\u001b[38;5;28;43;01mTrue\u001b[39;49;00m\u001b[43m)\u001b[49m \u001b[38;5;241m<\u001b[39m TESSERACT_MIN_VERSION:\n\u001b[1;32m    586\u001b[0m     \u001b[38;5;28;01mraise\u001b[39;00m TSVNotSupported()\n",
      "File \u001b[0;32m~/miniconda3/envs/dev/lib/python3.10/site-packages/unstructured_pytesseract/pytesseract.py:158\u001b[0m, in \u001b[0;36mrun_once.<locals>.wrapper\u001b[0;34m(*args, **kwargs)\u001b[0m\n\u001b[1;32m    157\u001b[0m \u001b[38;5;28;01mif\u001b[39;00m \u001b[38;5;129;01mnot\u001b[39;00m kwargs\u001b[38;5;241m.\u001b[39mpop(\u001b[38;5;124m'\u001b[39m\u001b[38;5;124mcached\u001b[39m\u001b[38;5;124m'\u001b[39m, \u001b[38;5;28;01mFalse\u001b[39;00m) \u001b[38;5;129;01mor\u001b[39;00m wrapper\u001b[38;5;241m.\u001b[39m_result \u001b[38;5;129;01mis\u001b[39;00m wrapper:\n\u001b[0;32m--> 158\u001b[0m     wrapper\u001b[38;5;241m.\u001b[39m_result \u001b[38;5;241m=\u001b[39m \u001b[43mfunc\u001b[49m\u001b[43m(\u001b[49m\u001b[38;5;241;43m*\u001b[39;49m\u001b[43margs\u001b[49m\u001b[43m,\u001b[49m\u001b[43m \u001b[49m\u001b[38;5;241;43m*\u001b[39;49m\u001b[38;5;241;43m*\u001b[39;49m\u001b[43mkwargs\u001b[49m\u001b[43m)\u001b[49m\n\u001b[1;32m    159\u001b[0m \u001b[38;5;28;01mreturn\u001b[39;00m wrapper\u001b[38;5;241m.\u001b[39m_result\n",
      "File \u001b[0;32m~/miniconda3/envs/dev/lib/python3.10/site-packages/unstructured_pytesseract/pytesseract.py:463\u001b[0m, in \u001b[0;36mget_tesseract_version\u001b[0;34m()\u001b[0m\n\u001b[1;32m    462\u001b[0m \u001b[38;5;28;01mexcept\u001b[39;00m (\u001b[38;5;167;01mAssertionError\u001b[39;00m, InvalidVersion):\n\u001b[0;32m--> 463\u001b[0m     \u001b[38;5;28;01mraise\u001b[39;00m \u001b[38;5;167;01mSystemExit\u001b[39;00m(\u001b[38;5;124mf\u001b[39m\u001b[38;5;124m'\u001b[39m\u001b[38;5;124mInvalid tesseract version: \u001b[39m\u001b[38;5;124m\"\u001b[39m\u001b[38;5;132;01m{\u001b[39;00mraw_version\u001b[38;5;132;01m}\u001b[39;00m\u001b[38;5;124m\"\u001b[39m\u001b[38;5;124m'\u001b[39m)\n\u001b[1;32m    465\u001b[0m \u001b[38;5;28;01mreturn\u001b[39;00m version\n",
      "\u001b[0;31mSystemExit\u001b[0m: Invalid tesseract version: \"tesseract 3.04.00\n leptonica-1.72\n  libgif 4.1.6(?) : libjpeg 6b (libjpeg-turbo 1.2.90) : libpng 1.5.13 : libtiff 4.0.3 : zlib 1.2.7 : libwebp 0.3.0\n\n\"",
      "\nDuring handling of the above exception, another exception occurred:\n",
      "\u001b[0;31mAttributeError\u001b[0m                            Traceback (most recent call last)",
      "    \u001b[0;31m[... skipping hidden 1 frame]\u001b[0m\n",
      "File \u001b[0;32m~/miniconda3/envs/dev/lib/python3.10/site-packages/IPython/core/interactiveshell.py:2145\u001b[0m, in \u001b[0;36mInteractiveShell.showtraceback\u001b[0;34m(self, exc_tuple, filename, tb_offset, exception_only, running_compiled_code)\u001b[0m\n\u001b[1;32m   2142\u001b[0m \u001b[38;5;28;01mif\u001b[39;00m exception_only:\n\u001b[1;32m   2143\u001b[0m     stb \u001b[38;5;241m=\u001b[39m [\u001b[38;5;124m'\u001b[39m\u001b[38;5;124mAn exception has occurred, use \u001b[39m\u001b[38;5;124m%\u001b[39m\u001b[38;5;124mtb to see \u001b[39m\u001b[38;5;124m'\u001b[39m\n\u001b[1;32m   2144\u001b[0m            \u001b[38;5;124m'\u001b[39m\u001b[38;5;124mthe full traceback.\u001b[39m\u001b[38;5;130;01m\\n\u001b[39;00m\u001b[38;5;124m'\u001b[39m]\n\u001b[0;32m-> 2145\u001b[0m     stb\u001b[38;5;241m.\u001b[39mextend(\u001b[38;5;28;43mself\u001b[39;49m\u001b[38;5;241;43m.\u001b[39;49m\u001b[43mInteractiveTB\u001b[49m\u001b[38;5;241;43m.\u001b[39;49m\u001b[43mget_exception_only\u001b[49m\u001b[43m(\u001b[49m\u001b[43metype\u001b[49m\u001b[43m,\u001b[49m\n\u001b[1;32m   2146\u001b[0m \u001b[43m                                                     \u001b[49m\u001b[43mvalue\u001b[49m\u001b[43m)\u001b[49m)\n\u001b[1;32m   2147\u001b[0m \u001b[38;5;28;01melse\u001b[39;00m:\n\u001b[1;32m   2149\u001b[0m     \u001b[38;5;28;01mdef\u001b[39;00m \u001b[38;5;21mcontains_exceptiongroup\u001b[39m(val):\n",
      "File \u001b[0;32m~/miniconda3/envs/dev/lib/python3.10/site-packages/IPython/core/ultratb.py:710\u001b[0m, in \u001b[0;36mListTB.get_exception_only\u001b[0;34m(self, etype, value)\u001b[0m\n\u001b[1;32m    702\u001b[0m \u001b[38;5;28;01mdef\u001b[39;00m \u001b[38;5;21mget_exception_only\u001b[39m(\u001b[38;5;28mself\u001b[39m, etype, value):\n\u001b[1;32m    703\u001b[0m \u001b[38;5;250m    \u001b[39m\u001b[38;5;124;03m\"\"\"Only print the exception type and message, without a traceback.\u001b[39;00m\n\u001b[1;32m    704\u001b[0m \n\u001b[1;32m    705\u001b[0m \u001b[38;5;124;03m    Parameters\u001b[39;00m\n\u001b[0;32m   (...)\u001b[0m\n\u001b[1;32m    708\u001b[0m \u001b[38;5;124;03m    value : exception value\u001b[39;00m\n\u001b[1;32m    709\u001b[0m \u001b[38;5;124;03m    \"\"\"\u001b[39;00m\n\u001b[0;32m--> 710\u001b[0m     \u001b[38;5;28;01mreturn\u001b[39;00m \u001b[43mListTB\u001b[49m\u001b[38;5;241;43m.\u001b[39;49m\u001b[43mstructured_traceback\u001b[49m\u001b[43m(\u001b[49m\u001b[38;5;28;43mself\u001b[39;49m\u001b[43m,\u001b[49m\u001b[43m \u001b[49m\u001b[43metype\u001b[49m\u001b[43m,\u001b[49m\u001b[43m \u001b[49m\u001b[43mvalue\u001b[49m\u001b[43m)\u001b[49m\n",
      "File \u001b[0;32m~/miniconda3/envs/dev/lib/python3.10/site-packages/IPython/core/ultratb.py:568\u001b[0m, in \u001b[0;36mListTB.structured_traceback\u001b[0;34m(self, etype, evalue, etb, tb_offset, context)\u001b[0m\n\u001b[1;32m    565\u001b[0m     chained_exc_ids\u001b[38;5;241m.\u001b[39madd(\u001b[38;5;28mid\u001b[39m(exception[\u001b[38;5;241m1\u001b[39m]))\n\u001b[1;32m    566\u001b[0m     chained_exceptions_tb_offset \u001b[38;5;241m=\u001b[39m \u001b[38;5;241m0\u001b[39m\n\u001b[1;32m    567\u001b[0m     out_list \u001b[38;5;241m=\u001b[39m (\n\u001b[0;32m--> 568\u001b[0m         \u001b[38;5;28;43mself\u001b[39;49m\u001b[38;5;241;43m.\u001b[39;49m\u001b[43mstructured_traceback\u001b[49m\u001b[43m(\u001b[49m\n\u001b[1;32m    569\u001b[0m \u001b[43m            \u001b[49m\u001b[43metype\u001b[49m\u001b[43m,\u001b[49m\n\u001b[1;32m    570\u001b[0m \u001b[43m            \u001b[49m\u001b[43mevalue\u001b[49m\u001b[43m,\u001b[49m\n\u001b[1;32m    571\u001b[0m \u001b[43m            \u001b[49m\u001b[43m(\u001b[49m\u001b[43metb\u001b[49m\u001b[43m,\u001b[49m\u001b[43m \u001b[49m\u001b[43mchained_exc_ids\u001b[49m\u001b[43m)\u001b[49m\u001b[43m,\u001b[49m\u001b[43m  \u001b[49m\u001b[38;5;66;43;03m# type: ignore\u001b[39;49;00m\n\u001b[1;32m    572\u001b[0m \u001b[43m            \u001b[49m\u001b[43mchained_exceptions_tb_offset\u001b[49m\u001b[43m,\u001b[49m\n\u001b[1;32m    573\u001b[0m \u001b[43m            \u001b[49m\u001b[43mcontext\u001b[49m\u001b[43m,\u001b[49m\n\u001b[1;32m    574\u001b[0m \u001b[43m        \u001b[49m\u001b[43m)\u001b[49m\n\u001b[1;32m    575\u001b[0m         \u001b[38;5;241m+\u001b[39m chained_exception_message\n\u001b[1;32m    576\u001b[0m         \u001b[38;5;241m+\u001b[39m out_list)\n\u001b[1;32m    578\u001b[0m \u001b[38;5;28;01mreturn\u001b[39;00m out_list\n",
      "File \u001b[0;32m~/miniconda3/envs/dev/lib/python3.10/site-packages/IPython/core/ultratb.py:1454\u001b[0m, in \u001b[0;36mAutoFormattedTB.structured_traceback\u001b[0;34m(self, etype, evalue, etb, tb_offset, number_of_lines_of_context)\u001b[0m\n\u001b[1;32m   1452\u001b[0m \u001b[38;5;28;01melse\u001b[39;00m:\n\u001b[1;32m   1453\u001b[0m     \u001b[38;5;28mself\u001b[39m\u001b[38;5;241m.\u001b[39mtb \u001b[38;5;241m=\u001b[39m etb\n\u001b[0;32m-> 1454\u001b[0m \u001b[38;5;28;01mreturn\u001b[39;00m \u001b[43mFormattedTB\u001b[49m\u001b[38;5;241;43m.\u001b[39;49m\u001b[43mstructured_traceback\u001b[49m\u001b[43m(\u001b[49m\n\u001b[1;32m   1455\u001b[0m \u001b[43m    \u001b[49m\u001b[38;5;28;43mself\u001b[39;49m\u001b[43m,\u001b[49m\u001b[43m \u001b[49m\u001b[43metype\u001b[49m\u001b[43m,\u001b[49m\u001b[43m \u001b[49m\u001b[43mevalue\u001b[49m\u001b[43m,\u001b[49m\u001b[43m \u001b[49m\u001b[43metb\u001b[49m\u001b[43m,\u001b[49m\u001b[43m \u001b[49m\u001b[43mtb_offset\u001b[49m\u001b[43m,\u001b[49m\u001b[43m \u001b[49m\u001b[43mnumber_of_lines_of_context\u001b[49m\n\u001b[1;32m   1456\u001b[0m \u001b[43m\u001b[49m\u001b[43m)\u001b[49m\n",
      "File \u001b[0;32m~/miniconda3/envs/dev/lib/python3.10/site-packages/IPython/core/ultratb.py:1345\u001b[0m, in \u001b[0;36mFormattedTB.structured_traceback\u001b[0;34m(self, etype, value, tb, tb_offset, number_of_lines_of_context)\u001b[0m\n\u001b[1;32m   1342\u001b[0m mode \u001b[38;5;241m=\u001b[39m \u001b[38;5;28mself\u001b[39m\u001b[38;5;241m.\u001b[39mmode\n\u001b[1;32m   1343\u001b[0m \u001b[38;5;28;01mif\u001b[39;00m mode \u001b[38;5;129;01min\u001b[39;00m \u001b[38;5;28mself\u001b[39m\u001b[38;5;241m.\u001b[39mverbose_modes:\n\u001b[1;32m   1344\u001b[0m     \u001b[38;5;66;03m# Verbose modes need a full traceback\u001b[39;00m\n\u001b[0;32m-> 1345\u001b[0m     \u001b[38;5;28;01mreturn\u001b[39;00m \u001b[43mVerboseTB\u001b[49m\u001b[38;5;241;43m.\u001b[39;49m\u001b[43mstructured_traceback\u001b[49m\u001b[43m(\u001b[49m\n\u001b[1;32m   1346\u001b[0m \u001b[43m        \u001b[49m\u001b[38;5;28;43mself\u001b[39;49m\u001b[43m,\u001b[49m\u001b[43m \u001b[49m\u001b[43metype\u001b[49m\u001b[43m,\u001b[49m\u001b[43m \u001b[49m\u001b[43mvalue\u001b[49m\u001b[43m,\u001b[49m\u001b[43m \u001b[49m\u001b[43mtb\u001b[49m\u001b[43m,\u001b[49m\u001b[43m \u001b[49m\u001b[43mtb_offset\u001b[49m\u001b[43m,\u001b[49m\u001b[43m \u001b[49m\u001b[43mnumber_of_lines_of_context\u001b[49m\n\u001b[1;32m   1347\u001b[0m \u001b[43m    \u001b[49m\u001b[43m)\u001b[49m\n\u001b[1;32m   1348\u001b[0m \u001b[38;5;28;01melif\u001b[39;00m mode \u001b[38;5;241m==\u001b[39m \u001b[38;5;124m'\u001b[39m\u001b[38;5;124mMinimal\u001b[39m\u001b[38;5;124m'\u001b[39m:\n\u001b[1;32m   1349\u001b[0m     \u001b[38;5;28;01mreturn\u001b[39;00m ListTB\u001b[38;5;241m.\u001b[39mget_exception_only(\u001b[38;5;28mself\u001b[39m, etype, value)\n",
      "File \u001b[0;32m~/miniconda3/envs/dev/lib/python3.10/site-packages/IPython/core/ultratb.py:1192\u001b[0m, in \u001b[0;36mVerboseTB.structured_traceback\u001b[0;34m(self, etype, evalue, etb, tb_offset, number_of_lines_of_context)\u001b[0m\n\u001b[1;32m   1183\u001b[0m \u001b[38;5;28;01mdef\u001b[39;00m \u001b[38;5;21mstructured_traceback\u001b[39m(\n\u001b[1;32m   1184\u001b[0m     \u001b[38;5;28mself\u001b[39m,\n\u001b[1;32m   1185\u001b[0m     etype: \u001b[38;5;28mtype\u001b[39m,\n\u001b[0;32m   (...)\u001b[0m\n\u001b[1;32m   1189\u001b[0m     number_of_lines_of_context: \u001b[38;5;28mint\u001b[39m \u001b[38;5;241m=\u001b[39m \u001b[38;5;241m5\u001b[39m,\n\u001b[1;32m   1190\u001b[0m ):\n\u001b[1;32m   1191\u001b[0m \u001b[38;5;250m    \u001b[39m\u001b[38;5;124;03m\"\"\"Return a nice text document describing the traceback.\"\"\"\u001b[39;00m\n\u001b[0;32m-> 1192\u001b[0m     formatted_exception \u001b[38;5;241m=\u001b[39m \u001b[38;5;28;43mself\u001b[39;49m\u001b[38;5;241;43m.\u001b[39;49m\u001b[43mformat_exception_as_a_whole\u001b[49m\u001b[43m(\u001b[49m\u001b[43metype\u001b[49m\u001b[43m,\u001b[49m\u001b[43m \u001b[49m\u001b[43mevalue\u001b[49m\u001b[43m,\u001b[49m\u001b[43m \u001b[49m\u001b[43metb\u001b[49m\u001b[43m,\u001b[49m\u001b[43m \u001b[49m\u001b[43mnumber_of_lines_of_context\u001b[49m\u001b[43m,\u001b[49m\n\u001b[1;32m   1193\u001b[0m \u001b[43m                                                           \u001b[49m\u001b[43mtb_offset\u001b[49m\u001b[43m)\u001b[49m\n\u001b[1;32m   1195\u001b[0m     colors \u001b[38;5;241m=\u001b[39m \u001b[38;5;28mself\u001b[39m\u001b[38;5;241m.\u001b[39mColors  \u001b[38;5;66;03m# just a shorthand + quicker name lookup\u001b[39;00m\n\u001b[1;32m   1196\u001b[0m     colorsnormal \u001b[38;5;241m=\u001b[39m colors\u001b[38;5;241m.\u001b[39mNormal  \u001b[38;5;66;03m# used a lot\u001b[39;00m\n",
      "File \u001b[0;32m~/miniconda3/envs/dev/lib/python3.10/site-packages/IPython/core/ultratb.py:1082\u001b[0m, in \u001b[0;36mVerboseTB.format_exception_as_a_whole\u001b[0;34m(self, etype, evalue, etb, number_of_lines_of_context, tb_offset)\u001b[0m\n\u001b[1;32m   1079\u001b[0m \u001b[38;5;28;01massert\u001b[39;00m \u001b[38;5;28misinstance\u001b[39m(tb_offset, \u001b[38;5;28mint\u001b[39m)\n\u001b[1;32m   1080\u001b[0m head \u001b[38;5;241m=\u001b[39m \u001b[38;5;28mself\u001b[39m\u001b[38;5;241m.\u001b[39mprepare_header(\u001b[38;5;28mstr\u001b[39m(etype), \u001b[38;5;28mself\u001b[39m\u001b[38;5;241m.\u001b[39mlong_header)\n\u001b[1;32m   1081\u001b[0m records \u001b[38;5;241m=\u001b[39m (\n\u001b[0;32m-> 1082\u001b[0m     \u001b[38;5;28;43mself\u001b[39;49m\u001b[38;5;241;43m.\u001b[39;49m\u001b[43mget_records\u001b[49m\u001b[43m(\u001b[49m\u001b[43metb\u001b[49m\u001b[43m,\u001b[49m\u001b[43m \u001b[49m\u001b[43mnumber_of_lines_of_context\u001b[49m\u001b[43m,\u001b[49m\u001b[43m \u001b[49m\u001b[43mtb_offset\u001b[49m\u001b[43m)\u001b[49m \u001b[38;5;28;01mif\u001b[39;00m etb \u001b[38;5;28;01melse\u001b[39;00m []\n\u001b[1;32m   1083\u001b[0m )\n\u001b[1;32m   1085\u001b[0m frames \u001b[38;5;241m=\u001b[39m []\n\u001b[1;32m   1086\u001b[0m skipped \u001b[38;5;241m=\u001b[39m \u001b[38;5;241m0\u001b[39m\n",
      "File \u001b[0;32m~/miniconda3/envs/dev/lib/python3.10/site-packages/IPython/core/ultratb.py:1150\u001b[0m, in \u001b[0;36mVerboseTB.get_records\u001b[0;34m(self, etb, number_of_lines_of_context, tb_offset)\u001b[0m\n\u001b[1;32m   1148\u001b[0m \u001b[38;5;28;01mwhile\u001b[39;00m cf \u001b[38;5;129;01mis\u001b[39;00m \u001b[38;5;129;01mnot\u001b[39;00m \u001b[38;5;28;01mNone\u001b[39;00m:\n\u001b[1;32m   1149\u001b[0m     \u001b[38;5;28;01mtry\u001b[39;00m:\n\u001b[0;32m-> 1150\u001b[0m         mod \u001b[38;5;241m=\u001b[39m inspect\u001b[38;5;241m.\u001b[39mgetmodule(\u001b[43mcf\u001b[49m\u001b[38;5;241;43m.\u001b[39;49m\u001b[43mtb_frame\u001b[49m)\n\u001b[1;32m   1151\u001b[0m         \u001b[38;5;28;01mif\u001b[39;00m mod \u001b[38;5;129;01mis\u001b[39;00m \u001b[38;5;129;01mnot\u001b[39;00m \u001b[38;5;28;01mNone\u001b[39;00m:\n\u001b[1;32m   1152\u001b[0m             mod_name \u001b[38;5;241m=\u001b[39m mod\u001b[38;5;241m.\u001b[39m\u001b[38;5;18m__name__\u001b[39m\n",
      "\u001b[0;31mAttributeError\u001b[0m: 'tuple' object has no attribute 'tb_frame'"
     ]
    }
   ],
   "source": [
    "from unstructured.partition.pdf import partition_pdf\n",
    "\n",
    "filename = \"example-docs/layout-parser-paper.pdf\"\n",
    "\n",
    "elements = partition_pdf(filename=filename, infer_table_structure=True)\n",
    "tables = [el for el in elements if el.category == \"Table\"]\n",
    "\n",
    "print(tables[0].text)\n",
    "print(tables[0].metadata.text_as_html)"
   ]
  },
  {
   "cell_type": "code",
   "execution_count": null,
   "id": "84c2f4a7-8e1f-470c-8929-d305811b5355",
   "metadata": {
    "execution": {
     "iopub.status.busy": "2024-04-27T12:52:16.205153Z",
     "iopub.status.idle": "2024-04-27T12:52:16.205472Z",
     "shell.execute_reply": "2024-04-27T12:52:16.205323Z",
     "shell.execute_reply.started": "2024-04-27T12:52:16.205309Z"
    }
   },
   "outputs": [],
   "source": [
    "print(len(elements))\n",
    "for element in elements[:5]:\n",
    "    print('-'*50)\n",
    "    print(element)\n",
    "    print(\"\\n\")"
   ]
  },
  {
   "cell_type": "markdown",
   "id": "5823e466-6a2a-40b9-b5aa-c71cef5e6213",
   "metadata": {
    "execution": {
     "iopub.execute_input": "2024-04-28T06:21:47.810366Z",
     "iopub.status.busy": "2024-04-28T06:21:47.809571Z",
     "iopub.status.idle": "2024-04-28T06:21:47.818238Z",
     "shell.execute_reply": "2024-04-28T06:21:47.816461Z",
     "shell.execute_reply.started": "2024-04-28T06:21:47.810272Z"
    }
   },
   "source": [
    "### Cleaning"
   ]
  },
  {
   "cell_type": "code",
   "execution_count": 16,
   "id": "9449a8a9-2aa1-4258-a2bc-0c73e922f64b",
   "metadata": {
    "execution": {
     "iopub.execute_input": "2024-04-28T06:22:18.924690Z",
     "iopub.status.busy": "2024-04-28T06:22:18.923962Z",
     "iopub.status.idle": "2024-04-28T06:22:18.942930Z",
     "shell.execute_reply": "2024-04-28T06:22:18.941173Z",
     "shell.execute_reply.started": "2024-04-28T06:22:18.924604Z"
    }
   },
   "outputs": [
    {
     "data": {
      "text/plain": [
       "\"Philadelphia Eagles' victory\""
      ]
     },
     "execution_count": 16,
     "metadata": {},
     "output_type": "execute_result"
    }
   ],
   "source": [
    "from unstructured.cleaners.core import replace_unicode_quotes\n",
    "\n",
    "replace_unicode_quotes(\"Philadelphia Eaglesâ\\x80\\x99 victory\")"
   ]
  },
  {
   "cell_type": "code",
   "execution_count": 17,
   "id": "13669506-7293-42d6-a772-1a249f6c1e54",
   "metadata": {
    "execution": {
     "iopub.execute_input": "2024-04-28T06:22:47.892559Z",
     "iopub.status.busy": "2024-04-28T06:22:47.892103Z",
     "iopub.status.idle": "2024-04-28T06:22:47.897606Z",
     "shell.execute_reply": "2024-04-28T06:22:47.896801Z",
     "shell.execute_reply.started": "2024-04-28T06:22:47.892525Z"
    }
   },
   "outputs": [
    {
     "name": "stdout",
     "output_type": "stream",
     "text": [
      "Philadelphia Eagles' victory\n"
     ]
    }
   ],
   "source": [
    "from unstructured.documents.elements import Text\n",
    "\n",
    "element = Text(\"Philadelphia Eaglesâ\\x80\\x99 victory\")\n",
    "element.apply(replace_unicode_quotes)\n",
    "print(element)"
   ]
  },
  {
   "cell_type": "code",
   "execution_count": 18,
   "id": "f36c077d-2d90-4954-8a13-e034c413f9c5",
   "metadata": {
    "execution": {
     "iopub.execute_input": "2024-04-28T06:23:09.956609Z",
     "iopub.status.busy": "2024-04-28T06:23:09.956198Z",
     "iopub.status.idle": "2024-04-28T06:23:09.962362Z",
     "shell.execute_reply": "2024-04-28T06:23:09.961531Z",
     "shell.execute_reply.started": "2024-04-28T06:23:09.956570Z"
    }
   },
   "outputs": [
    {
     "name": "stdout",
     "output_type": "stream",
     "text": [
      " Geolocated combat footage has confirmed Russian gains in the Dvorichne area northwest of Svatove.\n"
     ]
    }
   ],
   "source": [
    "import re\n",
    "\n",
    "remove_citations = lambda text: re.sub(\"\\[\\d{1,3}\\]\", \"\", text)\n",
    "\n",
    "element = Text(\"[1] Geolocated combat footage has confirmed Russian gains in the Dvorichne area northwest of Svatove.\")\n",
    "element.apply(remove_citations)\n",
    "print(element)"
   ]
  },
  {
   "cell_type": "markdown",
   "id": "ca18e825-4a27-45e4-9bc1-883a48246e4c",
   "metadata": {},
   "source": [
    "#### bytes_string_to_string\n",
    "Converts an output string that looks like a byte string to a string using the specified encoding. \n"
   ]
  },
  {
   "cell_type": "code",
   "execution_count": 19,
   "id": "8cd04dcf-a524-4302-9f92-add06eb0d890",
   "metadata": {
    "execution": {
     "iopub.execute_input": "2024-04-28T06:23:34.922847Z",
     "iopub.status.busy": "2024-04-28T06:23:34.922284Z",
     "iopub.status.idle": "2024-04-28T06:23:34.931450Z",
     "shell.execute_reply": "2024-04-28T06:23:34.930382Z",
     "shell.execute_reply.started": "2024-04-28T06:23:34.922798Z"
    }
   },
   "outputs": [
    {
     "data": {
      "text/plain": [
       "'Hello 😀'"
      ]
     },
     "execution_count": 19,
     "metadata": {},
     "output_type": "execute_result"
    }
   ],
   "source": [
    "from unstructured.cleaners.core import bytes_string_to_string\n",
    "\n",
    "text = \"Hello ð\\x9f\\x98\\x80\"\n",
    "# The output should be \"Hello 😀\"\n",
    "bytes_string_to_string(text, encoding=\"utf-8\")"
   ]
  },
  {
   "cell_type": "code",
   "execution_count": 24,
   "id": "59691e2b-2347-42ee-8d5b-561ff89c0d91",
   "metadata": {
    "execution": {
     "iopub.execute_input": "2024-04-28T06:26:17.235950Z",
     "iopub.status.busy": "2024-04-28T06:26:17.235477Z",
     "iopub.status.idle": "2024-04-28T06:26:17.251201Z",
     "shell.execute_reply": "2024-04-28T06:26:17.250409Z",
     "shell.execute_reply.started": "2024-04-28T06:26:17.235915Z"
    }
   },
   "outputs": [
    {
     "name": "stdout",
     "output_type": "stream",
     "text": [
      "Hello ð\n"
     ]
    },
    {
     "data": {
      "text/plain": [
       "'Hello 😀'"
      ]
     },
     "execution_count": 24,
     "metadata": {},
     "output_type": "execute_result"
    }
   ],
   "source": [
    "from unstructured.cleaners.core import bytes_string_to_string\n",
    "from unstructured.partition.html import partition_html\n",
    "\n",
    "text = \"\"\"\\n<html charset=\"utf-8\"><p>Hello ð\\x9f\\x98\\x80</p></html>\"\"\"\n",
    "elements = partition_html(text=text)\n",
    "print(elements[0].text)\n",
    "elements[0].apply(bytes_string_to_string)\n",
    "# The output should be \"Hello 😀\"\n",
    "elements[0].text"
   ]
  },
  {
   "cell_type": "markdown",
   "id": "9a6f3aff-a2b0-4a22-86de-4a706f9201e6",
   "metadata": {
    "execution": {
     "iopub.execute_input": "2024-04-28T06:26:54.235166Z",
     "iopub.status.busy": "2024-04-28T06:26:54.234481Z",
     "iopub.status.idle": "2024-04-28T06:26:54.241160Z",
     "shell.execute_reply": "2024-04-28T06:26:54.239697Z",
     "shell.execute_reply.started": "2024-04-28T06:26:54.235093Z"
    }
   },
   "source": [
    "#### Extracting "
   ]
  },
  {
   "cell_type": "code",
   "execution_count": 26,
   "id": "1c687aa3-d42f-4aff-b184-375edf3e207a",
   "metadata": {
    "execution": {
     "iopub.execute_input": "2024-04-28T06:28:04.086697Z",
     "iopub.status.busy": "2024-04-28T06:28:04.085933Z",
     "iopub.status.idle": "2024-04-28T06:28:04.103532Z",
     "shell.execute_reply": "2024-04-28T06:28:04.101535Z",
     "shell.execute_reply.started": "2024-04-28T06:28:04.086598Z"
    }
   },
   "outputs": [
    {
     "data": {
      "text/plain": [
       "datetime.datetime(2021, 3, 26, 11, 4, 9, tzinfo=datetime.timezone(datetime.timedelta(seconds=43200)))"
      ]
     },
     "execution_count": 26,
     "metadata": {},
     "output_type": "execute_result"
    }
   ],
   "source": [
    "from unstructured.cleaners.extract import extract_datetimetz\n",
    "\n",
    "text = \"\"\"from ABC.DEF.local ([ba23::58b5:2236:45g2:88h2]) by\n",
    "  \\n ABC.DEF.local2 ([ba23::58b5:2236:45g2:88h2%25]) with mapi id\\\n",
    "  n 32.88.5467.123; Fri, 26 Mar 2021 11:04:09 +1200\"\"\"\n",
    "\n",
    "# Returns datetime.datetime(2021, 3, 26, 11, 4, 9, tzinfo=datetime.timezone(datetime.timedelta(seconds=43200)))\n",
    "extract_datetimetz(text)"
   ]
  },
  {
   "cell_type": "code",
   "execution_count": 28,
   "id": "946567e1-2fa8-45ab-8edb-11599dc46101",
   "metadata": {
    "execution": {
     "iopub.execute_input": "2024-04-28T06:28:44.303877Z",
     "iopub.status.busy": "2024-04-28T06:28:44.303492Z",
     "iopub.status.idle": "2024-04-28T06:28:44.310419Z",
     "shell.execute_reply": "2024-04-28T06:28:44.309576Z",
     "shell.execute_reply.started": "2024-04-28T06:28:44.303844Z"
    }
   },
   "outputs": [
    {
     "data": {
      "text/plain": [
       "['me@email.com', 'you@email.com']"
      ]
     },
     "execution_count": 28,
     "metadata": {},
     "output_type": "execute_result"
    }
   ],
   "source": [
    "from unstructured.cleaners.extract import extract_email_address\n",
    "\n",
    "text = \"\"\"Me me@email.com and You <You@email.com>\n",
    "    ([ba23::58b5:2236:45g2:88h2]) (10.0.2.01)\"\"\"\n",
    "\n",
    "# Returns \"['me@email.com', 'you@email.com']\"\n",
    "extract_email_address(text)"
   ]
  },
  {
   "cell_type": "markdown",
   "id": "5cca089a-4f88-4fee-a29a-3aeda5ef6a07",
   "metadata": {},
   "source": [
    "#### Staging"
   ]
  },
  {
   "cell_type": "code",
   "execution_count": 29,
   "id": "c8e51f93-4f51-4e88-ba03-60cb77c42d77",
   "metadata": {
    "execution": {
     "iopub.execute_input": "2024-04-28T06:30:01.788085Z",
     "iopub.status.busy": "2024-04-28T06:30:01.787702Z",
     "iopub.status.idle": "2024-04-28T06:30:01.817392Z",
     "shell.execute_reply": "2024-04-28T06:30:01.816287Z",
     "shell.execute_reply.started": "2024-04-28T06:30:01.788052Z"
    }
   },
   "outputs": [
    {
     "ename": "NameError",
     "evalue": "name 'narrative_text' is not defined",
     "output_type": "error",
     "traceback": [
      "\u001b[0;31m---------------------------------------------------------------------------\u001b[0m",
      "\u001b[0;31mNameError\u001b[0m                                 Traceback (most recent call last)",
      "Cell \u001b[0;32mIn[29], line 4\u001b[0m\n\u001b[1;32m      1\u001b[0m \u001b[38;5;28;01mimport\u001b[39;00m \u001b[38;5;21;01mjson\u001b[39;00m\n\u001b[1;32m      2\u001b[0m \u001b[38;5;28;01mfrom\u001b[39;00m \u001b[38;5;21;01munstructured\u001b[39;00m\u001b[38;5;21;01m.\u001b[39;00m\u001b[38;5;21;01mstaging\u001b[39;00m\u001b[38;5;21;01m.\u001b[39;00m\u001b[38;5;21;01mlabel_studio\u001b[39;00m \u001b[38;5;28;01mimport\u001b[39;00m stage_for_label_studio\n\u001b[0;32m----> 4\u001b[0m output \u001b[38;5;241m=\u001b[39m stage_for_label_studio(\u001b[43mnarrative_text\u001b[49m)\n\u001b[1;32m      5\u001b[0m \u001b[38;5;28mprint\u001b[39m(json\u001b[38;5;241m.\u001b[39mdumps(output[:\u001b[38;5;241m2\u001b[39m], indent\u001b[38;5;241m=\u001b[39m\u001b[38;5;241m4\u001b[39m))\n",
      "\u001b[0;31mNameError\u001b[0m: name 'narrative_text' is not defined"
     ]
    }
   ],
   "source": [
    "import json\n",
    "from unstructured.staging.label_studio import stage_for_label_studio\n",
    "\n",
    "narrative_text = \n",
    "\n",
    "output = stage_for_label_studio(narrative_text)\n",
    "print(json.dumps(output[:2], indent=4))"
   ]
  },
  {
   "cell_type": "markdown",
   "id": "adf8a515-3134-4d58-8386-6e6edb8bbd56",
   "metadata": {},
   "source": [
    "### Chunking"
   ]
  },
  {
   "cell_type": "markdown",
   "id": "90ce45b4-ce85-4cc9-8528-96ede5a187a8",
   "metadata": {},
   "source": [
    "### Embedding"
   ]
  },
  {
   "cell_type": "code",
   "execution_count": null,
   "id": "3c361a07-f4ff-44f0-b5de-eaeda9ea889c",
   "metadata": {},
   "outputs": [],
   "source": [
    "import os\n",
    "\n",
    "from unstructured.documents.elements import Text\n",
    "from unstructured.embed.openai import OpenAIEmbeddingConfig, OpenAIEmbeddingEncoder\n",
    "\n",
    "# Initialize the encoder with OpenAI credentials\n",
    "embedding_encoder = OpenAIEmbeddingEncoder(config=OpenAIEmbeddingConfig(api_key=os.environ[\"OPENAI_API_KEY\"]))\n",
    "\n",
    "# Embed a list of Elements\n",
    "elements = embedding_encoder.embed_documents(\n",
    "    elements=[Text(\"This is sentence 1\"), Text(\"This is sentence 2\")],\n",
    ")\n",
    "\n",
    "# Embed a single query string\n",
    "query = \"This is the query\"\n",
    "query_embedding = embedding_encoder.embed_query(query=query)\n",
    "\n",
    "# Print embeddings\n",
    "[print(e.embeddings, e) for e in elements]\n",
    "print(query_embedding, query)\n",
    "print(embedding_encoder.is_unit_vector(), embedding_encoder.num_of_dimensions())"
   ]
  }
 ],
 "metadata": {
  "kernelspec": {
   "display_name": "Python 3 (ipykernel)",
   "language": "python",
   "name": "python3"
  },
  "language_info": {
   "codemirror_mode": {
    "name": "ipython",
    "version": 3
   },
   "file_extension": ".py",
   "mimetype": "text/x-python",
   "name": "python",
   "nbconvert_exporter": "python",
   "pygments_lexer": "ipython3",
   "version": "3.10.14"
  }
 },
 "nbformat": 4,
 "nbformat_minor": 5
}
