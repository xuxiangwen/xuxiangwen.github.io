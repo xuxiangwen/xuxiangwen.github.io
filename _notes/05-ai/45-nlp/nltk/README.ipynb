{
 "cells": [
  {
   "cell_type": "code",
   "execution_count": 24,
   "id": "68151d73",
   "metadata": {
    "ExecuteTime": {
     "end_time": "2022-05-01T08:42:08.298437Z",
     "start_time": "2022-05-01T08:42:01.549877Z"
    }
   },
   "outputs": [
    {
     "name": "stderr",
     "output_type": "stream",
     "text": [
      "[nltk_data] Downloading package averaged_perceptron_tagger to\n",
      "[nltk_data]     /root/nltk_data...\n",
      "[nltk_data]   Package averaged_perceptron_tagger is already up-to-\n",
      "[nltk_data]       date!\n",
      "[nltk_data] Downloading package maxent_ne_chunker to\n",
      "[nltk_data]     /root/nltk_data...\n",
      "[nltk_data]   Package maxent_ne_chunker is already up-to-date!\n",
      "[nltk_data] Downloading package words to /root/nltk_data...\n",
      "[nltk_data]   Unzipping corpora/words.zip.\n"
     ]
    },
    {
     "data": {
      "text/plain": [
       "True"
      ]
     },
     "execution_count": 24,
     "metadata": {},
     "output_type": "execute_result"
    }
   ],
   "source": [
    "import nltk\n",
    "from nltk.tokenize import word_tokenize\n",
    "from nltk.tag import pos_tag\n",
    "\n",
    "nltk.download('averaged_perceptron_tagger')\n",
    "nltk.download('maxent_ne_chunker')\n",
    "nltk.download('words')\n",
    "# from nltk.tag.stanford import NERTagger"
   ]
  },
  {
   "cell_type": "code",
   "execution_count": 14,
   "id": "2b440d76",
   "metadata": {
    "ExecuteTime": {
     "end_time": "2022-05-01T08:17:06.289635Z",
     "start_time": "2022-05-01T08:17:06.285289Z"
    }
   },
   "outputs": [
    {
     "data": {
      "text/plain": [
       "'3.7'"
      ]
     },
     "execution_count": 14,
     "metadata": {},
     "output_type": "execute_result"
    }
   ],
   "source": [
    "nltk.__version__ "
   ]
  },
  {
   "cell_type": "code",
   "execution_count": 2,
   "id": "c3592e28",
   "metadata": {
    "ExecuteTime": {
     "end_time": "2022-05-01T08:04:46.855324Z",
     "start_time": "2022-05-01T08:04:46.852227Z"
    }
   },
   "outputs": [],
   "source": [
    "ex = 'European authorities fined Google a record $5.1 billion on Wednesday for abusing its power in the mobile phone market and ordered the company to alter its practices'"
   ]
  },
  {
   "cell_type": "code",
   "execution_count": 11,
   "id": "e4871eac",
   "metadata": {
    "ExecuteTime": {
     "end_time": "2022-05-01T08:11:37.657786Z",
     "start_time": "2022-05-01T08:11:37.654587Z"
    }
   },
   "outputs": [],
   "source": [
    "def preprocess(sent):\n",
    "    sent = nltk.word_tokenize(sent)\n",
    "    print(sent) \n",
    "    sent = nltk.pos_tag(sent)\n",
    "    return sent"
   ]
  },
  {
   "cell_type": "code",
   "execution_count": 12,
   "id": "4b0f8bdf",
   "metadata": {
    "ExecuteTime": {
     "end_time": "2022-05-01T08:11:38.281749Z",
     "start_time": "2022-05-01T08:11:38.273319Z"
    }
   },
   "outputs": [
    {
     "name": "stdout",
     "output_type": "stream",
     "text": [
      "['European', 'authorities', 'fined', 'Google', 'a', 'record', '$', '5.1', 'billion', 'on', 'Wednesday', 'for', 'abusing', 'its', 'power', 'in', 'the', 'mobile', 'phone', 'market', 'and', 'ordered', 'the', 'company', 'to', 'alter', 'its', 'practices']\n"
     ]
    },
    {
     "data": {
      "text/plain": [
       "[('European', 'JJ'),\n",
       " ('authorities', 'NNS'),\n",
       " ('fined', 'VBD'),\n",
       " ('Google', 'NNP'),\n",
       " ('a', 'DT'),\n",
       " ('record', 'NN'),\n",
       " ('$', '$'),\n",
       " ('5.1', 'CD'),\n",
       " ('billion', 'CD'),\n",
       " ('on', 'IN'),\n",
       " ('Wednesday', 'NNP'),\n",
       " ('for', 'IN'),\n",
       " ('abusing', 'VBG'),\n",
       " ('its', 'PRP$'),\n",
       " ('power', 'NN'),\n",
       " ('in', 'IN'),\n",
       " ('the', 'DT'),\n",
       " ('mobile', 'JJ'),\n",
       " ('phone', 'NN'),\n",
       " ('market', 'NN'),\n",
       " ('and', 'CC'),\n",
       " ('ordered', 'VBD'),\n",
       " ('the', 'DT'),\n",
       " ('company', 'NN'),\n",
       " ('to', 'TO'),\n",
       " ('alter', 'VB'),\n",
       " ('its', 'PRP$'),\n",
       " ('practices', 'NNS')]"
      ]
     },
     "execution_count": 12,
     "metadata": {},
     "output_type": "execute_result"
    }
   ],
   "source": [
    "sent = preprocess(ex)\n",
    "sent"
   ]
  },
  {
   "cell_type": "code",
   "execution_count": 13,
   "id": "ba7f8571",
   "metadata": {
    "ExecuteTime": {
     "end_time": "2022-05-01T08:12:15.351819Z",
     "start_time": "2022-05-01T08:12:15.346061Z"
    }
   },
   "outputs": [
    {
     "name": "stdout",
     "output_type": "stream",
     "text": [
      "(S\n",
      "  European/JJ\n",
      "  authorities/NNS\n",
      "  fined/VBD\n",
      "  Google/NNP\n",
      "  (NP a/DT record/NN)\n",
      "  $/$\n",
      "  5.1/CD\n",
      "  billion/CD\n",
      "  on/IN\n",
      "  Wednesday/NNP\n",
      "  for/IN\n",
      "  abusing/VBG\n",
      "  its/PRP$\n",
      "  (NP power/NN)\n",
      "  in/IN\n",
      "  (NP the/DT mobile/JJ phone/NN)\n",
      "  (NP market/NN)\n",
      "  and/CC\n",
      "  ordered/VBD\n",
      "  (NP the/DT company/NN)\n",
      "  to/TO\n",
      "  alter/VB\n",
      "  its/PRP$\n",
      "  practices/NNS)\n"
     ]
    }
   ],
   "source": [
    "pattern = 'NP: {<DT>?<JJ>*<NN>}'\n",
    "cp = nltk.RegexpParser(pattern)\n",
    "cs = cp.parse(sent)\n",
    "print(cs)"
   ]
  },
  {
   "cell_type": "code",
   "execution_count": 15,
   "id": "3221de0e",
   "metadata": {
    "ExecuteTime": {
     "end_time": "2022-05-01T08:20:59.788580Z",
     "start_time": "2022-05-01T08:20:59.783929Z"
    }
   },
   "outputs": [
    {
     "ename": "SyntaxError",
     "evalue": "Missing parentheses in call to 'print'. Did you mean print(tag)? (<ipython-input-15-4a2bdeb2b2e5>, line 8)",
     "output_type": "error",
     "traceback": [
      "\u001b[0;36m  File \u001b[0;32m\"<ipython-input-15-4a2bdeb2b2e5>\"\u001b[0;36m, line \u001b[0;32m8\u001b[0m\n\u001b[0;31m    if tag[1]=='PERSON': print tag\u001b[0m\n\u001b[0m                               ^\u001b[0m\n\u001b[0;31mSyntaxError\u001b[0m\u001b[0;31m:\u001b[0m Missing parentheses in call to 'print'. Did you mean print(tag)?\n"
     ]
    }
   ],
   "source": [
    "st = NERTagger('stanford-ner/all.3class.distsim.crf.ser.gz', 'stanford-ner/stanford-ner.jar')\n",
    "text = \"\"\"YOUR TEXT GOES HERE\"\"\"\n",
    "\n",
    "for sent in nltk.sent_tokenize(text):\n",
    "    tokens = nltk.tokenize.word_tokenize(sent)\n",
    "    tags = st.tag(tokens)\n",
    "    for tag in tags:\n",
    "        if tag[1]=='PERSON': print tag"
   ]
  },
  {
   "cell_type": "code",
   "execution_count": 10,
   "id": "ef419c26",
   "metadata": {
    "ExecuteTime": {
     "end_time": "2022-05-01T08:07:32.303421Z",
     "start_time": "2022-05-01T08:07:32.286523Z"
    }
   },
   "outputs": [
    {
     "name": "stdout",
     "output_type": "stream",
     "text": [
      "--------------------------------------------------\n",
      "['Please', 'reassign', 'work', 'order', 'to', 'Shawn', 'stJohn', '.', 'For', 'helping', 'me', 'with', 'this', 'work', 'order', '.', 'He', 'is', 'aware', '.']\n",
      "[('Please', 'NNP'), ('reassign', 'NN'), ('work', 'NN'), ('order', 'NN'), ('to', 'TO'), ('Shawn', 'NNP'), ('stJohn', 'NN'), ('.', '.'), ('For', 'IN'), ('helping', 'VBG'), ('me', 'PRP'), ('with', 'IN'), ('this', 'DT'), ('work', 'NN'), ('order', 'NN'), ('.', '.'), ('He', 'PRP'), ('is', 'VBZ'), ('aware', 'JJ'), ('.', '.')]\n",
      "--------------------------------------------------\n",
      "['*', '*', 'Please', 'reassign', 'to', 'Sotirios', 'Cordero', 'he', 'is', 'aware', 'No', 'contact', 'Phone', 'or', 'email', 'in', 'workorder', 'Hello', 'Team', ',', 'I', 'hope', 'you', 'are', 'doing', 'great', '.', 'Regarding', 'with', 'contact', 'details', 'for', 'WO-017301880', 'We', 'found', 'the', 'following', 'contact', 'information', ':', 'Jeremy', 'Schwab', '(', '717', ')', '248-0131']\n",
      "[('*', 'JJ'), ('*', 'NNP'), ('Please', 'NNP'), ('reassign', 'VB'), ('to', 'TO'), ('Sotirios', 'NNP'), ('Cordero', 'NNP'), ('he', 'PRP'), ('is', 'VBZ'), ('aware', 'JJ'), ('No', 'NNP'), ('contact', 'NN'), ('Phone', 'NNP'), ('or', 'CC'), ('email', 'NN'), ('in', 'IN'), ('workorder', 'NN'), ('Hello', 'NNP'), ('Team', 'NNP'), (',', ','), ('I', 'PRP'), ('hope', 'VBP'), ('you', 'PRP'), ('are', 'VBP'), ('doing', 'VBG'), ('great', 'JJ'), ('.', '.'), ('Regarding', 'VBG'), ('with', 'IN'), ('contact', 'NN'), ('details', 'NNS'), ('for', 'IN'), ('WO-017301880', 'NNP'), ('We', 'PRP'), ('found', 'VBD'), ('the', 'DT'), ('following', 'JJ'), ('contact', 'NN'), ('information', 'NN'), (':', ':'), ('Jeremy', 'NN'), ('Schwab', 'NNP'), ('(', '('), ('717', 'CD'), (')', ')'), ('248-0131', 'CD')]\n",
      "--------------------------------------------------\n",
      "['Please', 'reassign', 'to', 'third', 'party']\n",
      "[('Please', 'NNP'), ('reassign', 'NN'), ('to', 'TO'), ('third', 'VB'), ('party', 'NN')]\n",
      "--------------------------------------------------\n",
      "['Please', 'create', 'revisit', ',', 'assign', 'ticket', 'to', 'Laurie', 'powers', 'and', 'order', 'the', 'following', 'part', 'to', 'customer', 'site', '.', '907154-601']\n",
      "[('Please', 'VB'), ('create', 'JJ'), ('revisit', 'NN'), (',', ','), ('assign', 'NN'), ('ticket', 'NN'), ('to', 'TO'), ('Laurie', 'NNP'), ('powers', 'NNS'), ('and', 'CC'), ('order', 'NN'), ('the', 'DT'), ('following', 'JJ'), ('part', 'NN'), ('to', 'TO'), ('customer', 'NN'), ('site', 'NN'), ('.', '.'), ('907154-601', 'JJ')]\n"
     ]
    }
   ],
   "source": [
    "texts = [\n",
    "    \"Please reassign work order to Shawn stJohn. For helping me with this work order. He is aware.\",\n",
    "    \"**Please reassign to Sotirios Cordero he is aware   No contact Phone or email in workorder  Hello Team, I hope you are doing great. Regarding with contact details for WO-017301880  We found the following contact information:  Jeremy Schwab (717)248-0131\", \n",
    "    \"Please reassign to third party \",\n",
    "    \"Please create revisit, assign ticket to Laurie powers and order the following part to customer site. 907154-601\"\n",
    "]\n",
    "\n",
    "for text in texts:\n",
    "    print('-'*50)\n",
    "    sent = preprocess(text)\n",
    "    sent.\n",
    "    print(sent) \n"
   ]
  },
  {
   "cell_type": "code",
   "execution_count": 35,
   "id": "24f593ec",
   "metadata": {
    "ExecuteTime": {
     "end_time": "2022-05-01T08:46:24.287241Z",
     "start_time": "2022-05-01T08:46:24.241026Z"
    },
    "scrolled": false
   },
   "outputs": [
    {
     "name": "stdout",
     "output_type": "stream",
     "text": [
      "(S\n",
      "  ``/``\n",
      "  Please/NNP\n",
      "  reassign/NN\n",
      "  work/NN\n",
      "  order/NN\n",
      "  to/TO\n",
      "  (GPE Shawn/NNP)\n",
      "  stJohn/NN\n",
      "  ./.\n",
      "  For/IN\n",
      "  helping/VBG\n",
      "  me/PRP\n",
      "  with/IN\n",
      "  this/DT\n",
      "  work/NN\n",
      "  order/NN\n",
      "  ./.\n",
      "  He/PRP\n",
      "  is/VBZ\n",
      "  aware/JJ\n",
      "  ./.\n",
      "  ``/``\n",
      "  ,/,\n",
      "  ``/``\n",
      "  */JJ\n",
      "  */JJ\n",
      "  Please/NNP\n",
      "  reassign/NN\n",
      "  to/TO\n",
      "  (PERSON Sotirios/NNP Cordero/NNP)\n",
      "  he/PRP\n",
      "  is/VBZ\n",
      "  aware/JJ\n",
      "  No/NNP\n",
      "  contact/NN\n",
      "  Phone/NNP\n",
      "  or/CC\n",
      "  email/NN\n",
      "  in/IN\n",
      "  workorder/NN\n",
      "  (PERSON Hello/NNP Team/NNP)\n",
      "  ,/,\n",
      "  I/PRP\n",
      "  hope/VBP\n",
      "  you/PRP\n",
      "  are/VBP\n",
      "  doing/VBG\n",
      "  great/JJ\n",
      "  ./.\n",
      "  Regarding/VBG\n",
      "  with/IN\n",
      "  contact/NN\n",
      "  details/NNS\n",
      "  for/IN\n",
      "  WO-017301880/NNP\n",
      "  We/PRP\n",
      "  found/VBD\n",
      "  the/DT\n",
      "  following/JJ\n",
      "  contact/NN\n",
      "  information/NN\n",
      "  :/:\n",
      "  (PERSON Jeremy/NN Schwab/NNP)\n",
      "  (/(\n",
      "  717/CD\n",
      "  )/)\n",
      "  248-0131/CD\n",
      "  ''/''\n",
      "  ,/,\n",
      "  ``/``\n",
      "  Please/NNP\n",
      "  reassign/NN\n",
      "  to/TO\n",
      "  third/VB\n",
      "  party/NN\n",
      "  ``/``\n",
      "  ,/,\n",
      "  ``/``\n",
      "  Please/NNP\n",
      "  create/VB\n",
      "  revisit/NN\n",
      "  ,/,\n",
      "  assign/NN\n",
      "  ticket/NN\n",
      "  to/TO\n",
      "  (GPE Laurie/NNP)\n",
      "  powers/NNS\n",
      "  and/CC\n",
      "  order/NN\n",
      "  the/DT\n",
      "  following/JJ\n",
      "  part/NN\n",
      "  to/TO\n",
      "  customer/NN\n",
      "  site/NN\n",
      "  ./.\n",
      "  907154-601/CD\n",
      "  ''/'')\n",
      "['Sotirios Cordero', 'Hello Team', 'Jeremy Schwab']\n"
     ]
    }
   ],
   "source": [
    "# from nameparser.parser import HumanName\n",
    "\n",
    "def get_human_names(text):\n",
    "    tokens = nltk.tokenize.word_tokenize(text)\n",
    "    pos = nltk.pos_tag(tokens)\n",
    "    sentt = nltk.ne_chunk(pos, binary = False)\n",
    "    print(sentt) \n",
    "    person_list = []\n",
    "    person = []\n",
    "    name = \"\"\n",
    "    for subtree in sentt.subtrees(filter=lambda t: t.label() == 'PERSON'):\n",
    "        for leaf in subtree.leaves():\n",
    "            person.append(leaf[0])\n",
    "        if len(person) > 1: #avoid grabbing lone surnames\n",
    "            for part in person:\n",
    "                name += part + ' '\n",
    "            if name[:-1] not in person_list:\n",
    "                person_list.append(name[:-1])\n",
    "            name = ''\n",
    "        person = []\n",
    "\n",
    "    return (person_list)\n",
    "\n",
    "text = \"\"\"\n",
    "    \"Please reassign work order to Shawn stJohn. For helping me with this work order. He is aware.\",\n",
    "    \"**Please reassign to Sotirios Cordero he is aware   No contact Phone or email in workorder  Hello Team, I hope you are doing great. Regarding with contact details for WO-017301880  We found the following contact information:  Jeremy Schwab (717)248-0131\", \n",
    "    \"Please reassign to third party \",\n",
    "    \"Please create revisit, assign ticket to Laurie powers and order the following part to customer site. 907154-601\"\n",
    "\"\"\"\n",
    "\n",
    "names = get_human_names(text)\n",
    "print(names)\n",
    "# print(\"LAST, FIRST\")\n",
    "# for name in names: \n",
    "#     last_first = HumanName(name).last + ', ' + HumanName(name).first\n",
    "#     print(last_first)"
   ]
  },
  {
   "cell_type": "code",
   "execution_count": null,
   "id": "63385b19",
   "metadata": {},
   "outputs": [],
   "source": []
  }
 ],
 "metadata": {
  "kernelspec": {
   "display_name": "Python 3",
   "language": "python",
   "name": "python3"
  },
  "language_info": {
   "codemirror_mode": {
    "name": "ipython",
    "version": 3
   },
   "file_extension": ".py",
   "mimetype": "text/x-python",
   "name": "python",
   "nbconvert_exporter": "python",
   "pygments_lexer": "ipython3",
   "version": "3.8.10"
  },
  "toc": {
   "base_numbering": 1,
   "nav_menu": {},
   "number_sections": true,
   "sideBar": true,
   "skip_h1_title": false,
   "title_cell": "Table of Contents",
   "title_sidebar": "Contents",
   "toc_cell": false,
   "toc_position": {},
   "toc_section_display": true,
   "toc_window_display": true
  }
 },
 "nbformat": 4,
 "nbformat_minor": 5
}
