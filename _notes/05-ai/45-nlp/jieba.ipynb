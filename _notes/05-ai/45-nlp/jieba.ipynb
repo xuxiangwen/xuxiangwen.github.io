{
 "cells": [
  {
   "cell_type": "markdown",
   "id": "7fd00a1e",
   "metadata": {},
   "source": [
    "## 分词"
   ]
  },
  {
   "cell_type": "code",
   "execution_count": 1,
   "id": "b7dbc8ab",
   "metadata": {
    "ExecuteTime": {
     "end_time": "2022-04-23T03:04:06.268527Z",
     "start_time": "2022-04-23T03:04:05.404023Z"
    }
   },
   "outputs": [
    {
     "name": "stderr",
     "output_type": "stream",
     "text": [
      "Building prefix dict from the default dictionary ...\n",
      "Loading model from cache /tmp/jieba.cache\n",
      "Loading model cost 0.674 seconds.\n",
      "Prefix dict has been built successfully.\n"
     ]
    },
    {
     "name": "stdout",
     "output_type": "stream",
     "text": [
      "Full Mode: 我/ 来到/ 北京/ 清华/ 清华大学/ 华大/ 大学\n",
      "Default Mode: 我/ 来到/ 北京/ 清华大学\n",
      "他, 来到, 了, 网易, 杭研, 大厦\n",
      "小明, 硕士, 毕业, 于, 中国, 科学, 学院, 科学院, 中国科学院, 计算, 计算所, ，, 后, 在, 日本, 京都, 大学, 日本京都大学, 深造\n"
     ]
    }
   ],
   "source": [
    "# encoding=utf-8\n",
    "import jieba\n",
    "\n",
    "# jieba.enable_paddle()# 启动paddle模式。 0.40版之后开始支持，早期版本不支持\n",
    "# strs=[\"我来到北京清华大学\",\"乒乓球拍卖完了\",\"中国科学技术大学\"]\n",
    "# for str in strs:\n",
    "#     seg_list = jieba.cut(str,use_paddle=True) # 使用paddle模式\n",
    "#     print(\"Paddle Mode: \" + '/'.join(list(seg_list)))\n",
    "\n",
    "seg_list = jieba.cut(\"我来到北京清华大学\", cut_all=True)\n",
    "print(\"Full Mode: \" + \"/ \".join(seg_list))  # 全模式\n",
    "\n",
    "seg_list = jieba.cut(\"我来到北京清华大学\", cut_all=False)\n",
    "print(\"Default Mode: \" + \"/ \".join(seg_list))  # 精确模式\n",
    "\n",
    "seg_list = jieba.cut(\"他来到了网易杭研大厦\")  # 默认是精确模式\n",
    "print(\", \".join(seg_list))\n",
    "\n",
    "seg_list = jieba.cut_for_search(\"小明硕士毕业于中国科学院计算所，后在日本京都大学深造\")  # 搜索引擎模式\n",
    "print(\", \".join(seg_list))"
   ]
  },
  {
   "cell_type": "markdown",
   "id": "33fa8ba1",
   "metadata": {},
   "source": [
    "## 自定义词典"
   ]
  },
  {
   "cell_type": "code",
   "execution_count": 21,
   "id": "913c3751",
   "metadata": {
    "ExecuteTime": {
     "end_time": "2022-04-23T03:40:56.388870Z",
     "start_time": "2022-04-23T03:40:56.383728Z"
    }
   },
   "outputs": [
    {
     "name": "stdout",
     "output_type": "stream",
     "text": [
      "李小福是创新办主任也是云计算方面的专家; 什么是八一双鹿\n",
      "例如我输入一个带“韩玉赏鉴”的标题，在自定义词库中也增加了此词为N类\n",
      "电池2-3年就鼓包严重\n",
      "^_^服务很好\n",
      "不喜欢打太高的分数, ^_^\n",
      "非常不认真, ^_^\n",
      "垃圾笔记本  绝对不会推荐给别人\n",
      "新换的摄像头还是不行，后续换排线看看行不行。\n",
      "「台中」正確應該不會被切開。mac上可分出「石墨烯」；此時又可以分出來凱特琳了。\n"
     ]
    }
   ],
   "source": [
    "#encoding=utf-8\n",
    "from __future__ import print_function, unicode_literals\n",
    "import sys\n",
    "sys.path.append(\"../\")\n",
    "import jieba\n",
    "\n",
    "\n",
    "test_sent = (\n",
    "    \"李小福是创新办主任也是云计算方面的专家; 什么是八一双鹿\\n\"\n",
    "    \"例如我输入一个带“韩玉赏鉴”的标题，在自定义词库中也增加了此词为N类\\n\"\n",
    "    \"电池2-3年就鼓包严重\\n\"\n",
    "    \"^_^服务很好\\n\"\n",
    "    \"不喜欢打太高的分数, ^_^\\n\"\n",
    "    \"非常不认真, ^_^\\n\"\n",
    "    \"垃圾笔记本  绝对不会推荐给别人\\n\"\n",
    "    \"新换的摄像头还是不行，后续换排线看看行不行。\\n\"\n",
    "    \"「台中」正確應該不會被切開。mac上可分出「石墨烯」；此時又可以分出來凱特琳了。\" \n",
    ")\n",
    "print(test_sent) "
   ]
  },
  {
   "cell_type": "code",
   "execution_count": 22,
   "id": "5066715b",
   "metadata": {
    "ExecuteTime": {
     "end_time": "2022-04-23T03:40:57.390811Z",
     "start_time": "2022-04-23T03:40:57.385108Z"
    }
   },
   "outputs": [
    {
     "name": "stdout",
     "output_type": "stream",
     "text": [
      "李小福/是/创新办/主任/也/是/云计算/方面/的/专家/;/ /什么/是/八一双鹿/\n",
      "/例如/我/输入/一个/带/“/韩玉赏鉴/”/的/标题/，/在/自定义/词库/中/也/增加/了/此/词为/N/类/\n",
      "/电池/2-3/年/就/鼓包/严重/\n",
      "/^/_/^/服务/很/好/\n",
      "/不/喜欢/打太高/的/分数/,/ /^/_/^/\n",
      "/非常/不/认真/,/ /^/_/^/\n",
      "/垃圾/笔记本/ / /绝对/不会/推荐/给/别人/\n",
      "/新换/的/摄像头/还是/不行/，/后续/换排/线/看看/行不行/。/\n",
      "/「/台中/」/正確/應該/不會/被/切開/。/mac/上/可/分出/「/石墨烯/」/；/此時/又/可以/分出/來/凱特琳/了/。\n"
     ]
    }
   ],
   "source": [
    "words = jieba.cut(test_sent)\n",
    "print('/'.join(words))"
   ]
  },
  {
   "cell_type": "code",
   "execution_count": 15,
   "id": "ee8d2a36",
   "metadata": {
    "ExecuteTime": {
     "end_time": "2022-04-23T03:05:39.136783Z",
     "start_time": "2022-04-23T03:05:39.130884Z"
    }
   },
   "outputs": [
    {
     "name": "stdout",
     "output_type": "stream",
     "text": [
      "李小福/是/创新办/主任/也/是/云计算/方面/的/专家/;/ /什么/是/八一双鹿/\n",
      "/例如/我/输入/一个/带/“/韩玉赏鉴/”/的/标题/，/在/自定义/词库/中/也/增加/了/此/词为/N/类/\n",
      "/电池/2-3/年/就/鼓包/严重/\n",
      "/^/_/^/服务/很/好/\n",
      "/「/台中/」/正確/應該/不會/被/切開/。/mac/上/可/分出/「/石墨烯/」/；/此時/又/可以/分出/來/凱特琳/了/。\n"
     ]
    }
   ],
   "source": [
    "jieba.add_word('石墨烯')\n",
    "jieba.add_word('凱特琳')\n",
    "jieba.del_word('自定义词')\n",
    "jieba.del_word('^_^')\n",
    "\n",
    "words = jieba.cut(test_sent)\n",
    "print('/'.join(words))"
   ]
  },
  {
   "cell_type": "code",
   "execution_count": 5,
   "id": "b0705ac6",
   "metadata": {
    "ExecuteTime": {
     "end_time": "2022-04-23T03:04:06.301406Z",
     "start_time": "2022-04-23T03:04:06.293637Z"
    }
   },
   "outputs": [
    {
     "name": "stdout",
     "output_type": "stream",
     "text": [
      "李小福/是/创新办/主任/也/是/云计算/方面/的/专家/;/ /什么/是/八一双鹿/\n",
      "/例如/我/输入/一个/带/“/韩玉赏鉴/”/的/标题/，/在/自定义/词库/中/也/增加/了/此/词为/N/类/\n",
      "/电池/2-3/年/就/鼓包/严重/\n",
      "/^/_/^/服务/很/好/\n",
      "/g/「/台中/」/正確/應該/不會/被/切開/。/mac/上/可/分出/「/石墨烯/」/；/此時/又/可以/分出/來/凱特琳/了/。\n"
     ]
    }
   ],
   "source": [
    "jieba.load_userdict(\"jieba_userdict.txt\")\n",
    "\n",
    "words = jieba.cut(test_sent)\n",
    "print('/'.join(words))"
   ]
  },
  {
   "cell_type": "code",
   "execution_count": 6,
   "id": "8e4b2490",
   "metadata": {
    "ExecuteTime": {
     "end_time": "2022-04-23T03:04:06.312023Z",
     "start_time": "2022-04-23T03:04:06.303284Z"
    }
   },
   "outputs": [],
   "source": [
    "jieba.DEFAULT_DICT"
   ]
  },
  {
   "cell_type": "code",
   "execution_count": 7,
   "id": "096d3ec8",
   "metadata": {
    "ExecuteTime": {
     "end_time": "2022-04-23T03:04:06.325219Z",
     "start_time": "2022-04-23T03:04:06.314744Z"
    }
   },
   "outputs": [
    {
     "name": "stdout",
     "output_type": "stream",
     "text": [
      "如果/放到/post/中将/出错/。\n",
      "中将 763\n",
      "suggest_freq=494 494\n",
      "如果/放到/post/中/将/出错/。\n"
     ]
    }
   ],
   "source": [
    "def suggest_freq_test(sent, seg, hmm=False):\n",
    "    word = ''.join(seg)\n",
    "\n",
    "    print('/'.join(jieba.cut(sent, HMM=hmm)))\n",
    "    print(f'{word} {jieba.get_FREQ(word)}') \n",
    "\n",
    "    suggest_freq = jieba.suggest_freq(seg, True)\n",
    "    print(f'suggest_freq={suggest_freq} {jieba.get_FREQ(word)}')\n",
    "    print('/'.join(jieba.cut(sent, HMM=hmm)))\n",
    "    \n",
    "suggest_freq_test('如果放到post中将出错。', ('中', '将'))"
   ]
  },
  {
   "cell_type": "code",
   "execution_count": 8,
   "id": "62d1b8da",
   "metadata": {
    "ExecuteTime": {
     "end_time": "2022-04-23T03:04:06.333009Z",
     "start_time": "2022-04-23T03:04:06.327381Z"
    }
   },
   "outputs": [
    {
     "name": "stdout",
     "output_type": "stream",
     "text": [
      "今天天气/不错\n",
      "今天天气 3\n",
      "suggest_freq=0 0\n",
      "今天/天气/不错\n"
     ]
    }
   ],
   "source": [
    "suggest_freq_test('今天天气不错', ('今天', '天气'))"
   ]
  },
  {
   "cell_type": "code",
   "execution_count": 9,
   "id": "8456c44f",
   "metadata": {
    "ExecuteTime": {
     "end_time": "2022-04-23T03:04:06.339631Z",
     "start_time": "2022-04-23T03:04:06.334884Z"
    }
   },
   "outputs": [
    {
     "name": "stdout",
     "output_type": "stream",
     "text": [
      "「/台/中/」/正确/应该/不会/被/切开\n",
      "台中 0\n",
      "suggest_freq=69 69\n",
      "「/台中/」/正确/应该/不会/被/切开\n"
     ]
    }
   ],
   "source": [
    "jieba.del_word('台中') \n",
    "suggest_freq_test('「台中」正确应该不会被切开', '台中') "
   ]
  },
  {
   "cell_type": "markdown",
   "id": "8f6435cd",
   "metadata": {},
   "source": [
    "## 词性"
   ]
  },
  {
   "cell_type": "code",
   "execution_count": 10,
   "id": "5f2b9294",
   "metadata": {
    "ExecuteTime": {
     "end_time": "2022-04-23T03:04:06.763701Z",
     "start_time": "2022-04-23T03:04:06.341589Z"
    }
   },
   "outputs": [
    {
     "name": "stdout",
     "output_type": "stream",
     "text": [
      "李小福 nr|是 v|创新办 i|主任 b|也 d|是 v|云计算 x|方面 n|的 uj|专家 n|; x|  x|什么 r|是 v|八一双鹿 nz|\n",
      " x|例如 v|我 r|输入 v|一个 m|带 v|“ x|韩玉赏鉴 nz|” x|的 uj|标题 n|， x|在 p|自定义 l|词库 n|中 f|也 d|增加 v|了 ul|此 r|词 n|为 p|N eng|类 q|\n",
      " x|电池 n|2 x|- x|3 m|年 m|就 d|鼓包 n|严重 a|\n",
      " x|^ x|_ x|^ x|服务 vn|很 d|好 a|\n",
      " x|g x|「 x|台中 s|」 x|正確 ad|應該 v|不 d|會 v|被 p|切開 ad|。 x|mac eng|上 f|可 v|分出 v|「 x|石墨烯 x|」 x|； x|此時 c|又 d|可以 c|分出 v|來 zg|凱特琳 nz|了 ul|。 x|"
     ]
    }
   ],
   "source": [
    "import jieba.posseg as pseg\n",
    "result = pseg.cut(test_sent)\n",
    "\n",
    "for w in result:\n",
    "    print(f'{w.word} {w.flag}', end='|')"
   ]
  },
  {
   "cell_type": "code",
   "execution_count": 11,
   "id": "285ebfaf",
   "metadata": {
    "ExecuteTime": {
     "end_time": "2022-04-23T03:04:06.770036Z",
     "start_time": "2022-04-23T03:04:06.766034Z"
    }
   },
   "outputs": [
    {
     "name": "stdout",
     "output_type": "stream",
     "text": [
      "我 r\n",
      "爱 v\n",
      "北京 ns\n",
      "天安门 ns\n"
     ]
    }
   ],
   "source": [
    "import jieba.posseg as pseg\n",
    "result = words = pseg.cut(\"我爱北京天安门\")\n",
    "\n",
    "for w in result:\n",
    "    print(f'{w.word} {w.flag}')"
   ]
  },
  {
   "cell_type": "code",
   "execution_count": null,
   "id": "d6e919d1",
   "metadata": {},
   "outputs": [],
   "source": []
  }
 ],
 "metadata": {
  "kernelspec": {
   "display_name": "Python 3",
   "language": "python",
   "name": "python3"
  },
  "language_info": {
   "codemirror_mode": {
    "name": "ipython",
    "version": 3
   },
   "file_extension": ".py",
   "mimetype": "text/x-python",
   "name": "python",
   "nbconvert_exporter": "python",
   "pygments_lexer": "ipython3",
   "version": "3.8.10"
  },
  "toc": {
   "base_numbering": 1,
   "nav_menu": {},
   "number_sections": true,
   "sideBar": true,
   "skip_h1_title": false,
   "title_cell": "Table of Contents",
   "title_sidebar": "Contents",
   "toc_cell": false,
   "toc_position": {},
   "toc_section_display": true,
   "toc_window_display": true
  }
 },
 "nbformat": 4,
 "nbformat_minor": 5
}
