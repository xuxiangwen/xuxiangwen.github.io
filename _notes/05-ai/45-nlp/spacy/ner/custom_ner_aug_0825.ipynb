{
 "cells": [
  {
   "cell_type": "code",
   "execution_count": 1,
   "id": "28990d1b",
   "metadata": {
    "ExecuteTime": {
     "end_time": "2021-08-25T11:17:58.287422Z",
     "start_time": "2021-08-25T11:17:54.308532Z"
    }
   },
   "outputs": [],
   "source": [
    "import csv\n",
    "import exrex # !pip install exrex\n",
    "import json \n",
    "import pandas as pd\n",
    "import numpy as np\n",
    "import re \n",
    "import spacy\n",
    "\n",
    "from tqdm import tqdm\n",
    "from spacy.tokens import DocBin\n",
    "from sklearn.model_selection import train_test_split\n",
    "\n",
    "# ebablbe auto-completion\n",
    "%config Completer.use_jedi = False"
   ]
  },
  {
   "cell_type": "markdown",
   "id": "0d8989ff",
   "metadata": {},
   "source": [
    "## Load data"
   ]
  },
  {
   "cell_type": "code",
   "execution_count": 40,
   "id": "8d54f1e9",
   "metadata": {
    "ExecuteTime": {
     "end_time": "2021-08-25T11:29:38.044250Z",
     "start_time": "2021-08-25T11:29:38.018006Z"
    }
   },
   "outputs": [],
   "source": [
    "def generate_entity(texts, patterns={}):   \n",
    "    \n",
    "    def entity_from_patterns(text, patterns, pattern_matchs):        \n",
    "        entities = {}\n",
    "#         print('-'*50)  \n",
    "        for pattern in patterns:\n",
    "            entities = entity_from_pattern(text, pattern, entities, pattern_matchs)\n",
    "        entities = [value for _, value in sorted(entities.items(), key=lambda item: item[0][0])]\n",
    "        return entities\n",
    "\n",
    "    def entity_from_pattern(text, pattern, entities, pattern_matchs):\n",
    "        expression = pattern['expression']\n",
    "        label = pattern['label']\n",
    "        for match in re.finditer(expression, text):\n",
    "            start, end = match.span()    \n",
    "            add_key = True\n",
    "            if start-1 >= 0 and text[start-1]!=' ':\n",
    "                add_key = False\n",
    "            if end < len(text) and text[end]!=' ':\n",
    "                add_key = False                \n",
    "                \n",
    "#             drop_keys = []\n",
    "#             for key, value in entities.items():\n",
    "#                 start_, end_ = key\n",
    "#                 if start<start_ and end>end_:\n",
    "#                     drop_keys.append(key)\n",
    "#                 if start>start_ and end<end_:\n",
    "#                     add_key = False\n",
    "#             for key in drop_keys:\n",
    "#                 entities.pop(key)\n",
    "\n",
    "            if add_key: \n",
    "#                 print(text, expression)\n",
    "                pattern_matchs[expression] = pattern_matchs[expression] + 1\n",
    "                entities[(start, end)] = (start, end, label)\n",
    "        return entities\n",
    "        \n",
    "    examples = []\n",
    "    pattern_matchs = {pattern['expression']:0 for pattern in patterns}\n",
    "    for text in texts:\n",
    "        entities = entity_from_patterns(text, patterns, pattern_matchs)        \n",
    "        example = (text, {\"entities\": entities})\n",
    "        examples.append(example)\n",
    "    pattern_matchs = [(key, value) for key, value in sorted(pattern_matchs.items(), key=lambda item: -item[1])]\n",
    "#     pattern_matchs = [(key, value) for key, value in pattern_matchs if value>0]\n",
    "        \n",
    "    return examples, pattern_matchs\n",
    "\n",
    "def show_entity(text_entities, pattern_matchs):\n",
    "    for example in text_entities:\n",
    "        print('-'*50)\n",
    "        text, annotations = example\n",
    "        print(text) \n",
    "        print(*[(text[start:end], start, end, label) for start, end, label in annotations['entities']], sep='\\n')\n",
    "#     print('='*50)\n",
    "#     print(*pattern_matchs, sep='\\n')\n",
    "    \n",
    "options = {'colors': {'ACTION':\"#56D7C4\", 'PART_NUM':\"#92E0AA\"} }\n",
    "\n",
    "def show_text(text, annotations=None, options=options, show_detail=True, standardize_text=None):\n",
    "    if standardize_text is not None:\n",
    "        text = standardize_text(text)\n",
    "    doc = nlp(text)\n",
    "    print('='*100)\n",
    "    if show_detail:\n",
    "        print(doc.text) \n",
    "    spacy.displacy.render(doc, style='ent', options=options)\n",
    "    if show_detail and annotations is not None and len(annotations['entities'])>0:\n",
    "        print('-'*25, 'acutal entities', '-'*25)\n",
    "        print(*[(text[start:end], start, end, label) for start, end, label in annotations['entities']], sep='\\n')   \n",
    "    if show_detail and len(doc.ents)>0:\n",
    "        print('-'*25, 'predict entities', '-'*25)\n",
    "        print(*[(ent.text, ent.start_char, ent.end_char, ent.label_) for ent in doc.ents], sep='\\n')      \n",
    "\n",
    "def show_texts(data, indexes=None, options=options, show_detail=True, standardize_text=None):\n",
    "    def show_text_(data):\n",
    "        if isinstance(data, str):\n",
    "            show_text(data, None, options=options, show_detail=show_detail, standardize_text=standardize_text)\n",
    "        else:\n",
    "            text, annotations = data\n",
    "            show_text(text, annotations, options=options, show_detail=show_detail, standardize_text=standardize_text)  \n",
    "            \n",
    "    if indexes is not None:\n",
    "        for i in indexes:\n",
    "            show_text_(data[i])   \n",
    "    else:\n",
    "        for one_data in data: \n",
    "            show_text_(one_data)      \n",
    "            \n",
    "def standardize_text1(text):\n",
    "    text = text.strip().lower()\n",
    "    # add space between punctuation\n",
    "    text = re.sub(r'([.\\\\!?,\\'()\\[\\]\"|;])', r' \\1 ', text)\n",
    "#     # remove characters except for English letters and some punctuations\n",
    "#     text = re.sub(r\"[^A-Za-z\\.\\-\\?\\!\\,\\#\\@\\% ]\", \"\", text)\n",
    "    # remove extra spaces\n",
    "    text = re.sub(r'[\" \"]+', \" \", text)\n",
    "    return text            "
   ]
  },
  {
   "cell_type": "code",
   "execution_count": 3,
   "id": "31533f29",
   "metadata": {
    "ExecuteTime": {
     "end_time": "2021-08-25T11:17:58.401196Z",
     "start_time": "2021-08-25T11:17:58.309079Z"
    }
   },
   "outputs": [
    {
     "data": {
      "text/html": [
       "<div>\n",
       "<style scoped>\n",
       "    .dataframe tbody tr th:only-of-type {\n",
       "        vertical-align: middle;\n",
       "    }\n",
       "\n",
       "    .dataframe tbody tr th {\n",
       "        vertical-align: top;\n",
       "    }\n",
       "\n",
       "    .dataframe thead th {\n",
       "        text-align: right;\n",
       "    }\n",
       "</style>\n",
       "<table border=\"1\" class=\"dataframe\">\n",
       "  <thead>\n",
       "    <tr style=\"text-align: right;\">\n",
       "      <th></th>\n",
       "      <th>Case_ID</th>\n",
       "      <th>Work_Order_Number</th>\n",
       "      <th>Created_On</th>\n",
       "      <th>Service_Account</th>\n",
       "      <th>Due_Date</th>\n",
       "      <th>Action_Booking_status</th>\n",
       "      <th>Action_Date</th>\n",
       "      <th>Currently_Worked_by</th>\n",
       "      <th>Owner</th>\n",
       "      <th>Product_Line</th>\n",
       "      <th>...</th>\n",
       "      <th>Response_Time</th>\n",
       "      <th>Work_Order_Type</th>\n",
       "      <th>Postal_Code</th>\n",
       "      <th>Active_Booking</th>\n",
       "      <th>Follow_Up_Type</th>\n",
       "      <th>Business_Segment</th>\n",
       "      <th>Follow_Up_Note</th>\n",
       "      <th>Reschedule_Note</th>\n",
       "      <th>id</th>\n",
       "      <th>notes</th>\n",
       "    </tr>\n",
       "  </thead>\n",
       "  <tbody>\n",
       "    <tr>\n",
       "      <th>1</th>\n",
       "      <td>5060815932</td>\n",
       "      <td>WO-012952625</td>\n",
       "      <td>2021-02-03 10:38:00</td>\n",
       "      <td>William Torres</td>\n",
       "      <td>2021-04-26 15:00:00</td>\n",
       "      <td>Additional Parts Required</td>\n",
       "      <td>2021-07-03 11:45:00</td>\n",
       "      <td>Kerby Singleton</td>\n",
       "      <td>Nancy Quesada</td>\n",
       "      <td>Commercial Desktop PC Premium L6</td>\n",
       "      <td>...</td>\n",
       "      <td>NCD</td>\n",
       "      <td>Break Fix</td>\n",
       "      <td>30305</td>\n",
       "      <td>PC-Kerby Singleton</td>\n",
       "      <td>Additional Parts Required</td>\n",
       "      <td>Computing</td>\n",
       "      <td>NaN</td>\n",
       "      <td>#NORMAL Part escalated</td>\n",
       "      <td>1</td>\n",
       "      <td>#NORMAL Part escalated</td>\n",
       "    </tr>\n",
       "    <tr>\n",
       "      <th>2</th>\n",
       "      <td>5060815932</td>\n",
       "      <td>WO-012952625</td>\n",
       "      <td>2021-02-03 10:38:00</td>\n",
       "      <td>William Torres</td>\n",
       "      <td>2021-04-26 15:00:00</td>\n",
       "      <td>Additional Parts Required</td>\n",
       "      <td>2021-07-03 11:45:00</td>\n",
       "      <td>Kerby Singleton</td>\n",
       "      <td>Nancy Quesada</td>\n",
       "      <td>Commercial Desktop PC Premium L6</td>\n",
       "      <td>...</td>\n",
       "      <td>NCD</td>\n",
       "      <td>Break Fix</td>\n",
       "      <td>30305</td>\n",
       "      <td>PC-Kerby Singleton</td>\n",
       "      <td>Additional Parts Required</td>\n",
       "      <td>Computing</td>\n",
       "      <td>NaN</td>\n",
       "      <td>Please cancel backordered part. Customer has c...</td>\n",
       "      <td>2</td>\n",
       "      <td>Please cancel backordered part. Customer has c...</td>\n",
       "    </tr>\n",
       "    <tr>\n",
       "      <th>3</th>\n",
       "      <td>5061272897</td>\n",
       "      <td>WO-013009621</td>\n",
       "      <td>2021-02-09 13:39:00</td>\n",
       "      <td>LAS VEGAS METRO POLICE DEPT</td>\n",
       "      <td>2021-02-24 19:00:00</td>\n",
       "      <td>Additional Parts Required</td>\n",
       "      <td>2021-07-16 15:30:00</td>\n",
       "      <td>NaN</td>\n",
       "      <td>Avinash Shukla</td>\n",
       "      <td>Commercial Premium Notebooks</td>\n",
       "      <td>...</td>\n",
       "      <td>NCD</td>\n",
       "      <td>Break Fix</td>\n",
       "      <td>89101</td>\n",
       "      <td>PC-Joe Walper</td>\n",
       "      <td>Additional Parts Required</td>\n",
       "      <td>Computing</td>\n",
       "      <td>NaN</td>\n",
       "      <td>According to bryan this laptop shows repair co...</td>\n",
       "      <td>3</td>\n",
       "      <td>According to bryan this laptop shows repair co...</td>\n",
       "    </tr>\n",
       "    <tr>\n",
       "      <th>4</th>\n",
       "      <td>5061272897</td>\n",
       "      <td>WO-013009621</td>\n",
       "      <td>2021-02-09 13:39:00</td>\n",
       "      <td>LAS VEGAS METRO POLICE DEPT</td>\n",
       "      <td>2021-02-24 19:00:00</td>\n",
       "      <td>Additional Parts Required</td>\n",
       "      <td>2021-07-16 15:30:00</td>\n",
       "      <td>NaN</td>\n",
       "      <td>Avinash Shukla</td>\n",
       "      <td>Commercial Premium Notebooks</td>\n",
       "      <td>...</td>\n",
       "      <td>NCD</td>\n",
       "      <td>Break Fix</td>\n",
       "      <td>89101</td>\n",
       "      <td>PC-Joe Walper</td>\n",
       "      <td>Additional Parts Required</td>\n",
       "      <td>Computing</td>\n",
       "      <td>NaN</td>\n",
       "      <td>Back order part</td>\n",
       "      <td>4</td>\n",
       "      <td>Back order part</td>\n",
       "    </tr>\n",
       "    <tr>\n",
       "      <th>5</th>\n",
       "      <td>5061278521</td>\n",
       "      <td>WO-013010632-4</td>\n",
       "      <td>2021-06-16 12:17:00</td>\n",
       "      <td>MR. REGINALD JOSEPH</td>\n",
       "      <td>2021-07-15 14:42:00</td>\n",
       "      <td>Reschedule</td>\n",
       "      <td>2021-07-15 13:09:00</td>\n",
       "      <td>NaN</td>\n",
       "      <td>JOCILYN ANDREA SANDI DURAN</td>\n",
       "      <td>Commercial Premium Notebooks</td>\n",
       "      <td>...</td>\n",
       "      <td>NCD</td>\n",
       "      <td>Break Fix</td>\n",
       "      <td>20785</td>\n",
       "      <td>USA-PR-USYWWDWN_E_A_EEG</td>\n",
       "      <td>Reschedule</td>\n",
       "      <td>Computing</td>\n",
       "      <td>NaN</td>\n",
       "      <td>NaN</td>\n",
       "      <td>5</td>\n",
       "      <td></td>\n",
       "    </tr>\n",
       "    <tr>\n",
       "      <th>...</th>\n",
       "      <td>...</td>\n",
       "      <td>...</td>\n",
       "      <td>...</td>\n",
       "      <td>...</td>\n",
       "      <td>...</td>\n",
       "      <td>...</td>\n",
       "      <td>...</td>\n",
       "      <td>...</td>\n",
       "      <td>...</td>\n",
       "      <td>...</td>\n",
       "      <td>...</td>\n",
       "      <td>...</td>\n",
       "      <td>...</td>\n",
       "      <td>...</td>\n",
       "      <td>...</td>\n",
       "      <td>...</td>\n",
       "      <td>...</td>\n",
       "      <td>...</td>\n",
       "      <td>...</td>\n",
       "      <td>...</td>\n",
       "      <td>...</td>\n",
       "    </tr>\n",
       "    <tr>\n",
       "      <th>7035</th>\n",
       "      <td>5069292833</td>\n",
       "      <td>WO-014560602</td>\n",
       "      <td>2021-07-16 16:23:00</td>\n",
       "      <td>Kaiser Foundation Health Plan Inc.</td>\n",
       "      <td>2021-07-19 15:09:00</td>\n",
       "      <td>Additional Parts Required</td>\n",
       "      <td>2021-07-16 16:00:00</td>\n",
       "      <td>NaN</td>\n",
       "      <td>6 CSPAE166</td>\n",
       "      <td>A4 PageWide SMB &amp; Enterprise managed</td>\n",
       "      <td>...</td>\n",
       "      <td>Not available</td>\n",
       "      <td>Break Fix</td>\n",
       "      <td>91786</td>\n",
       "      <td>Anthony Garcia</td>\n",
       "      <td>Additional Parts Required</td>\n",
       "      <td>pMPS</td>\n",
       "      <td>NaN</td>\n",
       "      <td>Please order the following part.  Qty. 1 B5L04...</td>\n",
       "      <td>7035</td>\n",
       "      <td>Please order the following part.  Qty. 1 B5L04...</td>\n",
       "    </tr>\n",
       "    <tr>\n",
       "      <th>7036</th>\n",
       "      <td>5069293232</td>\n",
       "      <td>WO-014560595</td>\n",
       "      <td>2021-07-16 16:21:00</td>\n",
       "      <td>CDW - St. Lukes Hospital (Government)</td>\n",
       "      <td>2021-07-20 16:26:00</td>\n",
       "      <td>Request Reassign</td>\n",
       "      <td>NaN</td>\n",
       "      <td>NaN</td>\n",
       "      <td>1 CSPAE131</td>\n",
       "      <td>A4 Laserjet SMB</td>\n",
       "      <td>...</td>\n",
       "      <td>Not available</td>\n",
       "      <td>Break Fix</td>\n",
       "      <td>55805</td>\n",
       "      <td>Brock Tharp</td>\n",
       "      <td>Request Reassign</td>\n",
       "      <td>pMPS</td>\n",
       "      <td>NaN</td>\n",
       "      <td>Please reassign to lms</td>\n",
       "      <td>7036</td>\n",
       "      <td>Please reassign to lms</td>\n",
       "    </tr>\n",
       "    <tr>\n",
       "      <th>7037</th>\n",
       "      <td>5069293974</td>\n",
       "      <td>WO-014560699</td>\n",
       "      <td>2021-07-16 17:06:00</td>\n",
       "      <td>LITHIA NISSAN OF FRESNO</td>\n",
       "      <td>2021-07-19 18:00:00</td>\n",
       "      <td>Request Reassign</td>\n",
       "      <td>2021-07-19 13:00:00</td>\n",
       "      <td>Aaron Stavinsky</td>\n",
       "      <td>Luis Alejandro Vargas</td>\n",
       "      <td>A4 Laserjet Enterprise</td>\n",
       "      <td>...</td>\n",
       "      <td>NCD</td>\n",
       "      <td>Preventative Maintenance</td>\n",
       "      <td>93710</td>\n",
       "      <td>IS-Aaron Stavinsky</td>\n",
       "      <td>Request Reassign</td>\n",
       "      <td>Printing</td>\n",
       "      <td>NaN</td>\n",
       "      <td>dahlia.garcia@hp.com</td>\n",
       "      <td>7037</td>\n",
       "      <td>dahlia.garcia@hp.com</td>\n",
       "    </tr>\n",
       "    <tr>\n",
       "      <th>7038</th>\n",
       "      <td>5069294340</td>\n",
       "      <td>WO-014560697</td>\n",
       "      <td>2021-07-16 17:04:00</td>\n",
       "      <td>Best Buy co., Inc.</td>\n",
       "      <td>2021-07-20 18:00:00</td>\n",
       "      <td>NaN</td>\n",
       "      <td>NaN</td>\n",
       "      <td>NaN</td>\n",
       "      <td>Subir Das</td>\n",
       "      <td>Retail Solutions Core</td>\n",
       "      <td>...</td>\n",
       "      <td>NCD</td>\n",
       "      <td>Break Fix</td>\n",
       "      <td>95678</td>\n",
       "      <td>PR-David Popadiuc</td>\n",
       "      <td>Revisit</td>\n",
       "      <td>Computing</td>\n",
       "      <td>Please order 842275-001 and have it ship to HF...</td>\n",
       "      <td>NaN</td>\n",
       "      <td>7038</td>\n",
       "      <td>Please order 842275-001 and have it ship to HF...</td>\n",
       "    </tr>\n",
       "    <tr>\n",
       "      <th>7039</th>\n",
       "      <td>5069310370</td>\n",
       "      <td>WO-014563427</td>\n",
       "      <td>2021-07-17 10:26:00</td>\n",
       "      <td>Costco Wholesale Corporation</td>\n",
       "      <td>2021-07-19 16:00:00</td>\n",
       "      <td>Request Reassign</td>\n",
       "      <td>NaN</td>\n",
       "      <td>NaN</td>\n",
       "      <td>7 CSPAE137</td>\n",
       "      <td>NaN</td>\n",
       "      <td>...</td>\n",
       "      <td>Not available</td>\n",
       "      <td>Break Fix</td>\n",
       "      <td>60440</td>\n",
       "      <td>PR-Stephen Sandgren</td>\n",
       "      <td>Request Reassign</td>\n",
       "      <td>dMPS</td>\n",
       "      <td>NaN</td>\n",
       "      <td>I am overbooked now and this is only a diagnos...</td>\n",
       "      <td>7039</td>\n",
       "      <td>I am overbooked now and this is only a diagnos...</td>\n",
       "    </tr>\n",
       "  </tbody>\n",
       "</table>\n",
       "<p>7039 rows × 21 columns</p>\n",
       "</div>"
      ],
      "text/plain": [
       "         Case_ID Work_Order_Number           Created_On  \\\n",
       "1     5060815932      WO-012952625  2021-02-03 10:38:00   \n",
       "2     5060815932      WO-012952625  2021-02-03 10:38:00   \n",
       "3     5061272897      WO-013009621  2021-02-09 13:39:00   \n",
       "4     5061272897      WO-013009621  2021-02-09 13:39:00   \n",
       "5     5061278521    WO-013010632-4  2021-06-16 12:17:00   \n",
       "...          ...               ...                  ...   \n",
       "7035  5069292833      WO-014560602  2021-07-16 16:23:00   \n",
       "7036  5069293232      WO-014560595  2021-07-16 16:21:00   \n",
       "7037  5069293974      WO-014560699  2021-07-16 17:06:00   \n",
       "7038  5069294340      WO-014560697  2021-07-16 17:04:00   \n",
       "7039  5069310370      WO-014563427  2021-07-17 10:26:00   \n",
       "\n",
       "                            Service_Account             Due_Date  \\\n",
       "1                            William Torres  2021-04-26 15:00:00   \n",
       "2                            William Torres  2021-04-26 15:00:00   \n",
       "3               LAS VEGAS METRO POLICE DEPT  2021-02-24 19:00:00   \n",
       "4               LAS VEGAS METRO POLICE DEPT  2021-02-24 19:00:00   \n",
       "5                       MR. REGINALD JOSEPH  2021-07-15 14:42:00   \n",
       "...                                     ...                  ...   \n",
       "7035     Kaiser Foundation Health Plan Inc.  2021-07-19 15:09:00   \n",
       "7036  CDW - St. Lukes Hospital (Government)  2021-07-20 16:26:00   \n",
       "7037                LITHIA NISSAN OF FRESNO  2021-07-19 18:00:00   \n",
       "7038                     Best Buy co., Inc.  2021-07-20 18:00:00   \n",
       "7039           Costco Wholesale Corporation  2021-07-19 16:00:00   \n",
       "\n",
       "          Action_Booking_status          Action_Date Currently_Worked_by  \\\n",
       "1     Additional Parts Required  2021-07-03 11:45:00     Kerby Singleton   \n",
       "2     Additional Parts Required  2021-07-03 11:45:00     Kerby Singleton   \n",
       "3     Additional Parts Required  2021-07-16 15:30:00                 NaN   \n",
       "4     Additional Parts Required  2021-07-16 15:30:00                 NaN   \n",
       "5                    Reschedule  2021-07-15 13:09:00                 NaN   \n",
       "...                         ...                  ...                 ...   \n",
       "7035  Additional Parts Required  2021-07-16 16:00:00                 NaN   \n",
       "7036           Request Reassign                  NaN                 NaN   \n",
       "7037           Request Reassign  2021-07-19 13:00:00     Aaron Stavinsky   \n",
       "7038                        NaN                  NaN                 NaN   \n",
       "7039           Request Reassign                  NaN                 NaN   \n",
       "\n",
       "                           Owner                          Product_Line  ...  \\\n",
       "1                  Nancy Quesada      Commercial Desktop PC Premium L6  ...   \n",
       "2                  Nancy Quesada      Commercial Desktop PC Premium L6  ...   \n",
       "3                 Avinash Shukla          Commercial Premium Notebooks  ...   \n",
       "4                 Avinash Shukla          Commercial Premium Notebooks  ...   \n",
       "5     JOCILYN ANDREA SANDI DURAN          Commercial Premium Notebooks  ...   \n",
       "...                          ...                                   ...  ...   \n",
       "7035                  6 CSPAE166  A4 PageWide SMB & Enterprise managed  ...   \n",
       "7036                  1 CSPAE131                       A4 Laserjet SMB  ...   \n",
       "7037       Luis Alejandro Vargas                A4 Laserjet Enterprise  ...   \n",
       "7038                   Subir Das                 Retail Solutions Core  ...   \n",
       "7039                  7 CSPAE137                                   NaN  ...   \n",
       "\n",
       "      Response_Time           Work_Order_Type Postal_Code  \\\n",
       "1               NCD                 Break Fix       30305   \n",
       "2               NCD                 Break Fix       30305   \n",
       "3               NCD                 Break Fix       89101   \n",
       "4               NCD                 Break Fix       89101   \n",
       "5               NCD                 Break Fix       20785   \n",
       "...             ...                       ...         ...   \n",
       "7035  Not available                 Break Fix       91786   \n",
       "7036  Not available                 Break Fix       55805   \n",
       "7037            NCD  Preventative Maintenance       93710   \n",
       "7038            NCD                 Break Fix       95678   \n",
       "7039  Not available                 Break Fix       60440   \n",
       "\n",
       "               Active_Booking             Follow_Up_Type Business_Segment  \\\n",
       "1          PC-Kerby Singleton  Additional Parts Required        Computing   \n",
       "2          PC-Kerby Singleton  Additional Parts Required        Computing   \n",
       "3               PC-Joe Walper  Additional Parts Required        Computing   \n",
       "4               PC-Joe Walper  Additional Parts Required        Computing   \n",
       "5     USA-PR-USYWWDWN_E_A_EEG                 Reschedule        Computing   \n",
       "...                       ...                        ...              ...   \n",
       "7035           Anthony Garcia  Additional Parts Required             pMPS   \n",
       "7036              Brock Tharp           Request Reassign             pMPS   \n",
       "7037       IS-Aaron Stavinsky           Request Reassign         Printing   \n",
       "7038        PR-David Popadiuc                    Revisit        Computing   \n",
       "7039      PR-Stephen Sandgren           Request Reassign             dMPS   \n",
       "\n",
       "                                         Follow_Up_Note  \\\n",
       "1                                                   NaN   \n",
       "2                                                   NaN   \n",
       "3                                                   NaN   \n",
       "4                                                   NaN   \n",
       "5                                                   NaN   \n",
       "...                                                 ...   \n",
       "7035                                                NaN   \n",
       "7036                                                NaN   \n",
       "7037                                                NaN   \n",
       "7038  Please order 842275-001 and have it ship to HF...   \n",
       "7039                                                NaN   \n",
       "\n",
       "                                        Reschedule_Note    id  \\\n",
       "1                                #NORMAL Part escalated     1   \n",
       "2     Please cancel backordered part. Customer has c...     2   \n",
       "3     According to bryan this laptop shows repair co...     3   \n",
       "4                                       Back order part     4   \n",
       "5                                                   NaN     5   \n",
       "...                                                 ...   ...   \n",
       "7035  Please order the following part.  Qty. 1 B5L04...  7035   \n",
       "7036                             Please reassign to lms  7036   \n",
       "7037                               dahlia.garcia@hp.com  7037   \n",
       "7038                                                NaN  7038   \n",
       "7039  I am overbooked now and this is only a diagnos...  7039   \n",
       "\n",
       "                                                  notes  \n",
       "1                                #NORMAL Part escalated  \n",
       "2     Please cancel backordered part. Customer has c...  \n",
       "3     According to bryan this laptop shows repair co...  \n",
       "4                                       Back order part  \n",
       "5                                                        \n",
       "...                                                 ...  \n",
       "7035  Please order the following part.  Qty. 1 B5L04...  \n",
       "7036                             Please reassign to lms  \n",
       "7037                               dahlia.garcia@hp.com  \n",
       "7038  Please order 842275-001 and have it ship to HF...  \n",
       "7039  I am overbooked now and this is only a diagnos...  \n",
       "\n",
       "[7039 rows x 21 columns]"
      ]
     },
     "execution_count": 3,
     "metadata": {},
     "output_type": "execute_result"
    }
   ],
   "source": [
    "df_case = pd.read_pickle('./data/df_case.pkl') \n",
    "df_train_test = pd.read_pickle('./data/df_train_test.pkl') \n",
    "\n",
    "df_case"
   ]
  },
  {
   "cell_type": "code",
   "execution_count": 4,
   "id": "acd9b467",
   "metadata": {
    "ExecuteTime": {
     "end_time": "2021-08-25T11:18:02.607369Z",
     "start_time": "2021-08-25T11:18:02.466555Z"
    }
   },
   "outputs": [],
   "source": [
    "with open('./data/part_num_patterns.json') as json_file:\n",
    "    part_num_patterns = json.load(json_file)\n",
    "    \n",
    "with open('./data/common_words_patterns.json') as json_file:\n",
    "    common_words_patterns = json.load(json_file)\n",
    "    \n",
    "with open('./data/texts.json') as json_file:\n",
    "    texts = json.load(json_file)    \n",
    "    \n",
    "with open('./data/train_texts.json') as json_file:\n",
    "    train_texts = json.load(json_file)\n",
    "    \n",
    "with open('./data/test_texts.json') as json_file:\n",
    "    test_texts = json.load(json_file)    \n",
    "    \n",
    "with open('./data/train_text_entities.json') as json_file:\n",
    "    train_text_entities = json.load(json_file)\n",
    "    \n",
    "with open('./data/test_text_entities.json') as json_file:\n",
    "    test_text_entities = json.load(json_file)    \n",
    "    "
   ]
  },
  {
   "cell_type": "markdown",
   "id": "80713807",
   "metadata": {},
   "source": [
    "## Train the model"
   ]
  },
  {
   "cell_type": "code",
   "execution_count": 5,
   "id": "78802aec",
   "metadata": {
    "ExecuteTime": {
     "end_time": "2021-08-25T11:18:03.816521Z",
     "start_time": "2021-08-25T11:18:03.814148Z"
    }
   },
   "outputs": [],
   "source": [
    "# !python -m spacy train config_gpu_aug.cfg --output ./output/gpu_aug --paths.train ./data/train_aug.spacy --paths.dev ./data/test.spacy --gpu-id 0"
   ]
  },
  {
   "cell_type": "markdown",
   "id": "62731f0f",
   "metadata": {},
   "source": [
    "## Evaluate\n",
    "\n",
    "###  Check test data"
   ]
  },
  {
   "cell_type": "code",
   "execution_count": 6,
   "id": "66d83531",
   "metadata": {
    "ExecuteTime": {
     "end_time": "2021-08-25T11:18:30.452175Z",
     "start_time": "2021-08-25T11:18:10.412535Z"
    }
   },
   "outputs": [
    {
     "name": "stdout",
     "output_type": "stream",
     "text": [
      "2021-08-25 11:18:12.394972: I tensorflow/stream_executor/platform/default/dso_loader.cc:53] Successfully opened dynamic library libcudart.so.11.0\n",
      "\u001b[38;5;4mℹ Using GPU: 0\u001b[0m\n",
      "\u001b[1m\n",
      "================================== Results ==================================\u001b[0m\n",
      "\n",
      "TOK     100.00\n",
      "NER P   97.15 \n",
      "NER R   100.00\n",
      "NER F   98.55 \n",
      "SPEED   4207  \n",
      "\n",
      "\u001b[1m\n",
      "=============================== NER (per type) ===============================\u001b[0m\n",
      "\n",
      "               P        R       F\n",
      "PART_NUM   97.15   100.00   98.55\n",
      "\n"
     ]
    }
   ],
   "source": [
    "# !python -m spacy evaluate output/gpu_aug/model-best ./data/test.spacy --gpu-id 0"
   ]
  },
  {
   "cell_type": "code",
   "execution_count": 7,
   "id": "9c3f0d39",
   "metadata": {
    "ExecuteTime": {
     "end_time": "2021-08-25T11:19:14.327529Z",
     "start_time": "2021-08-25T11:18:30.455200Z"
    }
   },
   "outputs": [
    {
     "name": "stdout",
     "output_type": "stream",
     "text": [
      "2021-08-25 11:18:32.519661: I tensorflow/stream_executor/platform/default/dso_loader.cc:53] Successfully opened dynamic library libcudart.so.11.0\n",
      "\u001b[38;5;4mℹ Using GPU: 0\u001b[0m\n",
      "\u001b[1m\n",
      "================================== Results ==================================\u001b[0m\n",
      "\n",
      "TOK     100.00\n",
      "NER P   98.23 \n",
      "NER R   99.93 \n",
      "NER F   99.07 \n",
      "SPEED   4491  \n",
      "\n",
      "\u001b[1m\n",
      "=============================== NER (per type) ===============================\u001b[0m\n",
      "\n",
      "               P       R       F\n",
      "PART_NUM   98.23   99.93   99.07\n",
      "\n"
     ]
    }
   ],
   "source": [
    "!python -m spacy evaluate output/gpu_aug/model-best ./data/test_aug.spacy --gpu-id 0"
   ]
  },
  {
   "cell_type": "code",
   "execution_count": 8,
   "id": "48ed7541",
   "metadata": {
    "ExecuteTime": {
     "end_time": "2021-08-25T11:19:17.022572Z",
     "start_time": "2021-08-25T11:19:14.330554Z"
    }
   },
   "outputs": [],
   "source": [
    "nlp = spacy.load(\"output/gpu_aug/model-best\") "
   ]
  },
  {
   "cell_type": "code",
   "execution_count": 10,
   "id": "2f44d6da",
   "metadata": {
    "ExecuteTime": {
     "end_time": "2021-08-25T11:19:27.109927Z",
     "start_time": "2021-08-25T11:19:26.284873Z"
    },
    "scrolled": false
   },
   "outputs": [
    {
     "name": "stdout",
     "output_type": "stream",
     "text": [
      "====================================================================================================\n",
      "b5l04-67906 , 1 , c2b9es44 l0r16a , 1 , c2b9es44\n"
     ]
    },
    {
     "data": {
      "text/html": [
       "<span class=\"tex2jax_ignore\"><div class=\"entities\" style=\"line-height: 2.5; direction: ltr\">\n",
       "<mark class=\"entity\" style=\"background: #92E0AA; padding: 0.45em 0.6em; margin: 0 0.25em; line-height: 1; border-radius: 0.35em;\">\n",
       "    b5l04-67906\n",
       "    <span style=\"font-size: 0.8em; font-weight: bold; line-height: 1; border-radius: 0.35em; vertical-align: middle; margin-left: 0.5rem\">PART_NUM</span>\n",
       "</mark>\n",
       " , 1 , c2b9es44 l0r16a , 1 , c2b9es44</div></span>"
      ],
      "text/plain": [
       "<IPython.core.display.HTML object>"
      ]
     },
     "metadata": {},
     "output_type": "display_data"
    },
    {
     "name": "stdout",
     "output_type": "stream",
     "text": [
      "------------------------- acutal entities -------------------------\n",
      "('b5l04-67906', 0, 11, 'PART_NUM')\n",
      "------------------------- predict entities -------------------------\n",
      "('b5l04-67906', 0, 11, 'PART_NUM')\n",
      "====================================================================================================\n",
      "please order part rm2-0906-000cn , qty 1 and please order part rm3-8461-000cn , qty 1 then please ship to customer: kim skeeba , cooper tire , 8000 quarry rd , alburtis pa 18011 . 6/23 - part has not shipped shipped scheduledl with customer\n"
     ]
    },
    {
     "data": {
      "text/html": [
       "<span class=\"tex2jax_ignore\"><div class=\"entities\" style=\"line-height: 2.5; direction: ltr\">please order part \n",
       "<mark class=\"entity\" style=\"background: #92E0AA; padding: 0.45em 0.6em; margin: 0 0.25em; line-height: 1; border-radius: 0.35em;\">\n",
       "    rm2-0906-000cn\n",
       "    <span style=\"font-size: 0.8em; font-weight: bold; line-height: 1; border-radius: 0.35em; vertical-align: middle; margin-left: 0.5rem\">PART_NUM</span>\n",
       "</mark>\n",
       " , qty 1 and please order part \n",
       "<mark class=\"entity\" style=\"background: #92E0AA; padding: 0.45em 0.6em; margin: 0 0.25em; line-height: 1; border-radius: 0.35em;\">\n",
       "    rm3-8461-000cn\n",
       "    <span style=\"font-size: 0.8em; font-weight: bold; line-height: 1; border-radius: 0.35em; vertical-align: middle; margin-left: 0.5rem\">PART_NUM</span>\n",
       "</mark>\n",
       " , qty 1 then please ship to customer: kim skeeba , cooper tire , 8000 quarry rd , alburtis pa 18011 . 6/23 - part has not shipped shipped scheduledl with customer</div></span>"
      ],
      "text/plain": [
       "<IPython.core.display.HTML object>"
      ]
     },
     "metadata": {},
     "output_type": "display_data"
    },
    {
     "name": "stdout",
     "output_type": "stream",
     "text": [
      "------------------------- acutal entities -------------------------\n",
      "('rm2-0906-000cn', 18, 32, 'PART_NUM')\n",
      "('rm3-8461-000cn', 63, 77, 'PART_NUM')\n",
      "------------------------- predict entities -------------------------\n",
      "('rm2-0906-000cn', 18, 32, 'PART_NUM')\n",
      "('rm3-8461-000cn', 63, 77, 'PART_NUM')\n",
      "====================================================================================================\n",
      "#normal please reassign this work order to technician jessie brennan\n"
     ]
    },
    {
     "name": "stderr",
     "output_type": "stream",
     "text": [
      "/usr/local/lib/python3.6/dist-packages/spacy/displacy/__init__.py:191: UserWarning: [W006] No entities to visualize found in Doc object. If this is surprising to you, make sure the Doc was processed using a model that supports named entity recognition, and check the `doc.ents` property manually if necessary.\n",
      "  warnings.warn(Warnings.W006)\n"
     ]
    },
    {
     "data": {
      "text/html": [
       "<span class=\"tex2jax_ignore\"><div class=\"entities\" style=\"line-height: 2.5; direction: ltr\">#normal please reassign this work order to technician jessie brennan</div></span>"
      ],
      "text/plain": [
       "<IPython.core.display.HTML object>"
      ]
     },
     "metadata": {},
     "output_type": "display_data"
    },
    {
     "name": "stdout",
     "output_type": "stream",
     "text": [
      "====================================================================================================\n",
      "ce265a , 1 , c2dhes39\n"
     ]
    },
    {
     "data": {
      "text/html": [
       "<span class=\"tex2jax_ignore\"><div class=\"entities\" style=\"line-height: 2.5; direction: ltr\">ce265a , 1 , c2dhes39</div></span>"
      ],
      "text/plain": [
       "<IPython.core.display.HTML object>"
      ]
     },
     "metadata": {},
     "output_type": "display_data"
    },
    {
     "name": "stdout",
     "output_type": "stream",
     "text": [
      "====================================================================================================\n",
      "no news\n"
     ]
    },
    {
     "data": {
      "text/html": [
       "<span class=\"tex2jax_ignore\"><div class=\"entities\" style=\"line-height: 2.5; direction: ltr\">no news</div></span>"
      ],
      "text/plain": [
       "<IPython.core.display.HTML object>"
      ]
     },
     "metadata": {},
     "output_type": "display_data"
    },
    {
     "name": "stdout",
     "output_type": "stream",
     "text": [
      "====================================================================================================\n",
      "jc95-01943a , 1 , c2aaes26 . #normal\n"
     ]
    },
    {
     "data": {
      "text/html": [
       "<span class=\"tex2jax_ignore\"><div class=\"entities\" style=\"line-height: 2.5; direction: ltr\">\n",
       "<mark class=\"entity\" style=\"background: #92E0AA; padding: 0.45em 0.6em; margin: 0 0.25em; line-height: 1; border-radius: 0.35em;\">\n",
       "    jc95-01943a\n",
       "    <span style=\"font-size: 0.8em; font-weight: bold; line-height: 1; border-radius: 0.35em; vertical-align: middle; margin-left: 0.5rem\">PART_NUM</span>\n",
       "</mark>\n",
       " , 1 , c2aaes26 . #normal</div></span>"
      ],
      "text/plain": [
       "<IPython.core.display.HTML object>"
      ]
     },
     "metadata": {},
     "output_type": "display_data"
    },
    {
     "name": "stdout",
     "output_type": "stream",
     "text": [
      "------------------------- acutal entities -------------------------\n",
      "('jc95-01943a', 0, 11, 'PART_NUM')\n",
      "------------------------- predict entities -------------------------\n",
      "('jc95-01943a', 0, 11, 'PART_NUM')\n",
      "====================================================================================================\n",
      "07/21 - cu unreachable-tech called cu 2x no answer-monitoring\n"
     ]
    },
    {
     "data": {
      "text/html": [
       "<span class=\"tex2jax_ignore\"><div class=\"entities\" style=\"line-height: 2.5; direction: ltr\">07/21 - cu unreachable-tech called cu 2x no answer-monitoring</div></span>"
      ],
      "text/plain": [
       "<IPython.core.display.HTML object>"
      ]
     },
     "metadata": {},
     "output_type": "display_data"
    },
    {
     "name": "stdout",
     "output_type": "stream",
     "text": [
      "====================================================================================================\n",
      "lex-40x7220 , 1 , c2eges22\n"
     ]
    },
    {
     "data": {
      "text/html": [
       "<span class=\"tex2jax_ignore\"><div class=\"entities\" style=\"line-height: 2.5; direction: ltr\">\n",
       "<mark class=\"entity\" style=\"background: #92E0AA; padding: 0.45em 0.6em; margin: 0 0.25em; line-height: 1; border-radius: 0.35em;\">\n",
       "    lex-40x7220\n",
       "    <span style=\"font-size: 0.8em; font-weight: bold; line-height: 1; border-radius: 0.35em; vertical-align: middle; margin-left: 0.5rem\">PART_NUM</span>\n",
       "</mark>\n",
       " , 1 , c2eges22</div></span>"
      ],
      "text/plain": [
       "<IPython.core.display.HTML object>"
      ]
     },
     "metadata": {},
     "output_type": "display_data"
    },
    {
     "name": "stdout",
     "output_type": "stream",
     "text": [
      "------------------------- acutal entities -------------------------\n",
      "('lex-40x7220', 0, 11, 'PART_NUM')\n",
      "------------------------- predict entities -------------------------\n",
      "('lex-40x7220', 0, 11, 'PART_NUM')\n",
      "====================================================================================================\n",
      "655 paper mill rd newark de 19711 mail code de5-013-00-05 please order part #l15522-601 please send it to russell lester 655 paper mill rd newark de 19711 mail code de5-013-00-05\n"
     ]
    },
    {
     "data": {
      "text/html": [
       "<span class=\"tex2jax_ignore\"><div class=\"entities\" style=\"line-height: 2.5; direction: ltr\">655 paper mill rd newark de 19711 mail code de5-013-00-05 please order part #l15522-601 please send it to russell lester 655 paper mill rd newark de 19711 mail code de5-013-00-05</div></span>"
      ],
      "text/plain": [
       "<IPython.core.display.HTML object>"
      ]
     },
     "metadata": {},
     "output_type": "display_data"
    },
    {
     "name": "stdout",
     "output_type": "stream",
     "text": [
      "====================================================================================================\n",
      "talked to client . the laptop won ' t be back for another week . owner took it on vacation . sent email last night and called today . no answer . left vmail . received e-mail saying his client is away for 2 weeks . proponing for 2 weeks . \n"
     ]
    },
    {
     "data": {
      "text/html": [
       "<span class=\"tex2jax_ignore\"><div class=\"entities\" style=\"line-height: 2.5; direction: ltr\">talked to client . the laptop won ' t be back for another week . owner took it on vacation . sent email last night and called today . no answer . left vmail . received e-mail saying his client is away for 2 weeks . proponing for 2 weeks . </div></span>"
      ],
      "text/plain": [
       "<IPython.core.display.HTML object>"
      ]
     },
     "metadata": {},
     "output_type": "display_data"
    }
   ],
   "source": [
    "indexes = np.random.randint(0, len(test_text_entities), 10)\n",
    "show_texts(test_text_entities, indexes) "
   ]
  },
  {
   "cell_type": "code",
   "execution_count": 11,
   "id": "3ee606ad",
   "metadata": {
    "ExecuteTime": {
     "end_time": "2021-08-25T11:19:31.086917Z",
     "start_time": "2021-08-25T11:19:30.259960Z"
    },
    "scrolled": false
   },
   "outputs": [
    {
     "name": "stdout",
     "output_type": "stream",
     "text": [
      "====================================================================================================\n"
     ]
    },
    {
     "data": {
      "text/html": [
       "<span class=\"tex2jax_ignore\"><div class=\"entities\" style=\"line-height: 2.5; direction: ltr\">\n",
       "<mark class=\"entity\" style=\"background: #92E0AA; padding: 0.45em 0.6em; margin: 0 0.25em; line-height: 1; border-radius: 0.35em;\">\n",
       "    b5l04-67906\n",
       "    <span style=\"font-size: 0.8em; font-weight: bold; line-height: 1; border-radius: 0.35em; vertical-align: middle; margin-left: 0.5rem\">PART_NUM</span>\n",
       "</mark>\n",
       " , 1 , c2b9es44 l0r16a , 1 , c2b9es44</div></span>"
      ],
      "text/plain": [
       "<IPython.core.display.HTML object>"
      ]
     },
     "metadata": {},
     "output_type": "display_data"
    },
    {
     "name": "stdout",
     "output_type": "stream",
     "text": [
      "====================================================================================================\n"
     ]
    },
    {
     "data": {
      "text/html": [
       "<span class=\"tex2jax_ignore\"><div class=\"entities\" style=\"line-height: 2.5; direction: ltr\">please order part \n",
       "<mark class=\"entity\" style=\"background: #92E0AA; padding: 0.45em 0.6em; margin: 0 0.25em; line-height: 1; border-radius: 0.35em;\">\n",
       "    rm2-0906-000cn\n",
       "    <span style=\"font-size: 0.8em; font-weight: bold; line-height: 1; border-radius: 0.35em; vertical-align: middle; margin-left: 0.5rem\">PART_NUM</span>\n",
       "</mark>\n",
       " , qty 1 and please order part \n",
       "<mark class=\"entity\" style=\"background: #92E0AA; padding: 0.45em 0.6em; margin: 0 0.25em; line-height: 1; border-radius: 0.35em;\">\n",
       "    rm3-8461-000cn\n",
       "    <span style=\"font-size: 0.8em; font-weight: bold; line-height: 1; border-radius: 0.35em; vertical-align: middle; margin-left: 0.5rem\">PART_NUM</span>\n",
       "</mark>\n",
       " , qty 1 then please ship to customer: kim skeeba , cooper tire , 8000 quarry rd , alburtis pa 18011 . 6/23 - part has not shipped shipped scheduledl with customer</div></span>"
      ],
      "text/plain": [
       "<IPython.core.display.HTML object>"
      ]
     },
     "metadata": {},
     "output_type": "display_data"
    },
    {
     "name": "stdout",
     "output_type": "stream",
     "text": [
      "====================================================================================================\n"
     ]
    },
    {
     "data": {
      "text/html": [
       "<span class=\"tex2jax_ignore\"><div class=\"entities\" style=\"line-height: 2.5; direction: ltr\">#normal please reassign this work order to technician jessie brennan</div></span>"
      ],
      "text/plain": [
       "<IPython.core.display.HTML object>"
      ]
     },
     "metadata": {},
     "output_type": "display_data"
    },
    {
     "name": "stdout",
     "output_type": "stream",
     "text": [
      "====================================================================================================\n"
     ]
    },
    {
     "data": {
      "text/html": [
       "<span class=\"tex2jax_ignore\"><div class=\"entities\" style=\"line-height: 2.5; direction: ltr\">ce265a , 1 , c2dhes39</div></span>"
      ],
      "text/plain": [
       "<IPython.core.display.HTML object>"
      ]
     },
     "metadata": {},
     "output_type": "display_data"
    },
    {
     "name": "stdout",
     "output_type": "stream",
     "text": [
      "====================================================================================================\n"
     ]
    },
    {
     "data": {
      "text/html": [
       "<span class=\"tex2jax_ignore\"><div class=\"entities\" style=\"line-height: 2.5; direction: ltr\">no news</div></span>"
      ],
      "text/plain": [
       "<IPython.core.display.HTML object>"
      ]
     },
     "metadata": {},
     "output_type": "display_data"
    },
    {
     "name": "stdout",
     "output_type": "stream",
     "text": [
      "====================================================================================================\n"
     ]
    },
    {
     "data": {
      "text/html": [
       "<span class=\"tex2jax_ignore\"><div class=\"entities\" style=\"line-height: 2.5; direction: ltr\">\n",
       "<mark class=\"entity\" style=\"background: #92E0AA; padding: 0.45em 0.6em; margin: 0 0.25em; line-height: 1; border-radius: 0.35em;\">\n",
       "    jc95-01943a\n",
       "    <span style=\"font-size: 0.8em; font-weight: bold; line-height: 1; border-radius: 0.35em; vertical-align: middle; margin-left: 0.5rem\">PART_NUM</span>\n",
       "</mark>\n",
       " , 1 , c2aaes26 . #normal</div></span>"
      ],
      "text/plain": [
       "<IPython.core.display.HTML object>"
      ]
     },
     "metadata": {},
     "output_type": "display_data"
    },
    {
     "name": "stdout",
     "output_type": "stream",
     "text": [
      "====================================================================================================\n"
     ]
    },
    {
     "data": {
      "text/html": [
       "<span class=\"tex2jax_ignore\"><div class=\"entities\" style=\"line-height: 2.5; direction: ltr\">07/21 - cu unreachable-tech called cu 2x no answer-monitoring</div></span>"
      ],
      "text/plain": [
       "<IPython.core.display.HTML object>"
      ]
     },
     "metadata": {},
     "output_type": "display_data"
    },
    {
     "name": "stdout",
     "output_type": "stream",
     "text": [
      "====================================================================================================\n"
     ]
    },
    {
     "data": {
      "text/html": [
       "<span class=\"tex2jax_ignore\"><div class=\"entities\" style=\"line-height: 2.5; direction: ltr\">\n",
       "<mark class=\"entity\" style=\"background: #92E0AA; padding: 0.45em 0.6em; margin: 0 0.25em; line-height: 1; border-radius: 0.35em;\">\n",
       "    lex-40x7220\n",
       "    <span style=\"font-size: 0.8em; font-weight: bold; line-height: 1; border-radius: 0.35em; vertical-align: middle; margin-left: 0.5rem\">PART_NUM</span>\n",
       "</mark>\n",
       " , 1 , c2eges22</div></span>"
      ],
      "text/plain": [
       "<IPython.core.display.HTML object>"
      ]
     },
     "metadata": {},
     "output_type": "display_data"
    },
    {
     "name": "stdout",
     "output_type": "stream",
     "text": [
      "====================================================================================================\n"
     ]
    },
    {
     "data": {
      "text/html": [
       "<span class=\"tex2jax_ignore\"><div class=\"entities\" style=\"line-height: 2.5; direction: ltr\">655 paper mill rd newark de 19711 mail code de5-013-00-05 please order part #l15522-601 please send it to russell lester 655 paper mill rd newark de 19711 mail code de5-013-00-05</div></span>"
      ],
      "text/plain": [
       "<IPython.core.display.HTML object>"
      ]
     },
     "metadata": {},
     "output_type": "display_data"
    },
    {
     "name": "stdout",
     "output_type": "stream",
     "text": [
      "====================================================================================================\n"
     ]
    },
    {
     "data": {
      "text/html": [
       "<span class=\"tex2jax_ignore\"><div class=\"entities\" style=\"line-height: 2.5; direction: ltr\">talked to client . the laptop won ' t be back for another week . owner took it on vacation . sent email last night and called today . no answer . left vmail . received e-mail saying his client is away for 2 weeks . proponing for 2 weeks . </div></span>"
      ],
      "text/plain": [
       "<IPython.core.display.HTML object>"
      ]
     },
     "metadata": {},
     "output_type": "display_data"
    }
   ],
   "source": [
    "show_texts(test_text_entities, indexes, show_detail=False) "
   ]
  },
  {
   "cell_type": "markdown",
   "id": "dfeab3d8",
   "metadata": {},
   "source": [
    "### Check Error Data"
   ]
  },
  {
   "cell_type": "code",
   "execution_count": 12,
   "id": "8c433085",
   "metadata": {
    "ExecuteTime": {
     "end_time": "2021-08-25T11:21:31.779169Z",
     "start_time": "2021-08-25T11:19:34.097290Z"
    }
   },
   "outputs": [
    {
     "name": "stdout",
     "output_type": "stream",
     "text": [
      "56 1\n",
      "64 2\n",
      "89 3\n",
      "95 4\n",
      "151 5\n",
      "176 6\n",
      "181 7\n",
      "194 8\n",
      "204 9\n",
      "243 10\n",
      "488 11\n",
      "504 12\n",
      "519 13\n",
      "583 14\n",
      "687 15\n",
      "689 16\n",
      "921 17\n",
      "980 18\n",
      "1066 19\n",
      "1206 20\n",
      "1336 21\n",
      "1380 22\n",
      "1422 23\n",
      "1431 24\n",
      "1500 25\n"
     ]
    }
   ],
   "source": [
    "def get_error_data(data):\n",
    "    error_data = []\n",
    "    for i in range(len(data)):\n",
    "        text, annotations = data[i]\n",
    "        doc = nlp(text)\n",
    "        entities = annotations['entities']\n",
    "        if len(entities) != len(doc.ents):\n",
    "            error_data.append(data[i])\n",
    "            print(i, len(error_data))\n",
    "        else:\n",
    "            exit_flag = False\n",
    "            actual_entities = {(start, end, label): label for start, end, label in entities}\n",
    "            predict_entities = {(ent.start_char, ent.end_char, ent.label_): ent.label_ \n",
    "                                for ent in doc.ents}\n",
    "            \n",
    "            for key, _ in actual_entities.items():                \n",
    "                if key not in predict_entities:\n",
    "                    print(actual_entities, predict_entities, sep='\\n') \n",
    "                    error_data.append(data[i])\n",
    "                    print(i, len(error_data))\n",
    "                    break\n",
    "            if exit_flag: continue\n",
    "            for key, _ in predict_entities.items():\n",
    "                if key not in actual_entities:\n",
    "                    print(actual_entities, predict_entities)\n",
    "                    error_data.append(data[i])\n",
    "                    print(i, len(error_data))\n",
    "                    break\n",
    "                \n",
    "    return error_data\n",
    "\n",
    "error_data = get_error_data(test_text_entities)"
   ]
  },
  {
   "cell_type": "code",
   "execution_count": 13,
   "id": "19e81a75",
   "metadata": {
    "ExecuteTime": {
     "end_time": "2021-08-25T11:21:31.784535Z",
     "start_time": "2021-08-25T11:21:31.781626Z"
    }
   },
   "outputs": [
    {
     "name": "stdout",
     "output_type": "stream",
     "text": [
      "25\n"
     ]
    }
   ],
   "source": [
    "print(len(error_data))"
   ]
  },
  {
   "cell_type": "code",
   "execution_count": 14,
   "id": "5846698d",
   "metadata": {
    "ExecuteTime": {
     "end_time": "2021-08-25T11:21:34.849472Z",
     "start_time": "2021-08-25T11:21:31.786998Z"
    },
    "scrolled": false
   },
   "outputs": [
    {
     "name": "stdout",
     "output_type": "stream",
     "text": [
      "====================================================================================================\n",
      "please order rm2-1278-000cn ( qty 1 ) and send to hfpu in lockport , il . 3gy10a-cnncmc6337-hp laserjet managed e60165dn printer case: 5067812295 wo-014252961 po119240397 0645153938 neovia 3930 cedar creek dr joliet , il . 60436 larry heagle 1815-768-3282 alt: 779-702-0498 rm2-1278-000cn assembly-door link e601xx 51771292\n"
     ]
    },
    {
     "data": {
      "text/html": [
       "<span class=\"tex2jax_ignore\"><div class=\"entities\" style=\"line-height: 2.5; direction: ltr\">please order \n",
       "<mark class=\"entity\" style=\"background: #92E0AA; padding: 0.45em 0.6em; margin: 0 0.25em; line-height: 1; border-radius: 0.35em;\">\n",
       "    rm2-1278-000cn\n",
       "    <span style=\"font-size: 0.8em; font-weight: bold; line-height: 1; border-radius: 0.35em; vertical-align: middle; margin-left: 0.5rem\">PART_NUM</span>\n",
       "</mark>\n",
       " ( qty 1 ) and send to hfpu in lockport , il . 3gy10a-cnncmc6337-hp laserjet managed e60165dn printer case: 5067812295 wo-014252961 po119240397 0645153938 neovia 3930 cedar creek dr joliet , il . 60436 larry heagle \n",
       "<mark class=\"entity\" style=\"background: #92E0AA; padding: 0.45em 0.6em; margin: 0 0.25em; line-height: 1; border-radius: 0.35em;\">\n",
       "    1815-768-3282\n",
       "    <span style=\"font-size: 0.8em; font-weight: bold; line-height: 1; border-radius: 0.35em; vertical-align: middle; margin-left: 0.5rem\">PART_NUM</span>\n",
       "</mark>\n",
       " alt: \n",
       "<mark class=\"entity\" style=\"background: #92E0AA; padding: 0.45em 0.6em; margin: 0 0.25em; line-height: 1; border-radius: 0.35em;\">\n",
       "    779-702-0498\n",
       "    <span style=\"font-size: 0.8em; font-weight: bold; line-height: 1; border-radius: 0.35em; vertical-align: middle; margin-left: 0.5rem\">PART_NUM</span>\n",
       "</mark>\n",
       " \n",
       "<mark class=\"entity\" style=\"background: #92E0AA; padding: 0.45em 0.6em; margin: 0 0.25em; line-height: 1; border-radius: 0.35em;\">\n",
       "    rm2-1278-000cn\n",
       "    <span style=\"font-size: 0.8em; font-weight: bold; line-height: 1; border-radius: 0.35em; vertical-align: middle; margin-left: 0.5rem\">PART_NUM</span>\n",
       "</mark>\n",
       " assembly-door link e601xx 51771292</div></span>"
      ],
      "text/plain": [
       "<IPython.core.display.HTML object>"
      ]
     },
     "metadata": {},
     "output_type": "display_data"
    },
    {
     "name": "stdout",
     "output_type": "stream",
     "text": [
      "------------------------- acutal entities -------------------------\n",
      "('rm2-1278-000cn', 13, 27, 'PART_NUM')\n",
      "('rm2-1278-000cn', 274, 288, 'PART_NUM')\n",
      "------------------------- predict entities -------------------------\n",
      "('rm2-1278-000cn', 13, 27, 'PART_NUM')\n",
      "('1815-768-3282', 242, 255, 'PART_NUM')\n",
      "('779-702-0498', 261, 273, 'PART_NUM')\n",
      "('rm2-1278-000cn', 274, 288, 'PART_NUM')\n",
      "====================================================================================================\n",
      "please send maintenance kit fixing assembly ( 110v ) rm2-5476-000 1 . #normal part not available checking part #\n"
     ]
    },
    {
     "data": {
      "text/html": [
       "<span class=\"tex2jax_ignore\"><div class=\"entities\" style=\"line-height: 2.5; direction: ltr\">please send maintenance kit fixing assembly ( 110v ) \n",
       "<mark class=\"entity\" style=\"background: #92E0AA; padding: 0.45em 0.6em; margin: 0 0.25em; line-height: 1; border-radius: 0.35em;\">\n",
       "    rm2-5476-000\n",
       "    <span style=\"font-size: 0.8em; font-weight: bold; line-height: 1; border-radius: 0.35em; vertical-align: middle; margin-left: 0.5rem\">PART_NUM</span>\n",
       "</mark>\n",
       " 1 . #normal part not available checking part #</div></span>"
      ],
      "text/plain": [
       "<IPython.core.display.HTML object>"
      ]
     },
     "metadata": {},
     "output_type": "display_data"
    },
    {
     "name": "stdout",
     "output_type": "stream",
     "text": [
      "------------------------- predict entities -------------------------\n",
      "('rm2-5476-000', 53, 65, 'PART_NUM')\n",
      "====================================================================================================\n",
      "please order part# j8j93–67901 nbd to address on work order\n"
     ]
    },
    {
     "data": {
      "text/html": [
       "<span class=\"tex2jax_ignore\"><div class=\"entities\" style=\"line-height: 2.5; direction: ltr\">please order part# \n",
       "<mark class=\"entity\" style=\"background: #92E0AA; padding: 0.45em 0.6em; margin: 0 0.25em; line-height: 1; border-radius: 0.35em;\">\n",
       "    j8j93–67901 nbd\n",
       "    <span style=\"font-size: 0.8em; font-weight: bold; line-height: 1; border-radius: 0.35em; vertical-align: middle; margin-left: 0.5rem\">PART_NUM</span>\n",
       "</mark>\n",
       " to address on work order</div></span>"
      ],
      "text/plain": [
       "<IPython.core.display.HTML object>"
      ]
     },
     "metadata": {},
     "output_type": "display_data"
    },
    {
     "name": "stdout",
     "output_type": "stream",
     "text": [
      "------------------------- predict entities -------------------------\n",
      "('j8j93–67901 nbd', 19, 34, 'PART_NUM')\n",
      "====================================================================================================\n",
      "order 1ea b5l47-67018 b5l47-67019 . part on b-o\n"
     ]
    },
    {
     "data": {
      "text/html": [
       "<span class=\"tex2jax_ignore\"><div class=\"entities\" style=\"line-height: 2.5; direction: ltr\">order 1ea \n",
       "<mark class=\"entity\" style=\"background: #92E0AA; padding: 0.45em 0.6em; margin: 0 0.25em; line-height: 1; border-radius: 0.35em;\">\n",
       "    b5l47-67018\n",
       "    <span style=\"font-size: 0.8em; font-weight: bold; line-height: 1; border-radius: 0.35em; vertical-align: middle; margin-left: 0.5rem\">PART_NUM</span>\n",
       "</mark>\n",
       " \n",
       "<mark class=\"entity\" style=\"background: #92E0AA; padding: 0.45em 0.6em; margin: 0 0.25em; line-height: 1; border-radius: 0.35em;\">\n",
       "    b5l47-67019\n",
       "    <span style=\"font-size: 0.8em; font-weight: bold; line-height: 1; border-radius: 0.35em; vertical-align: middle; margin-left: 0.5rem\">PART_NUM</span>\n",
       "</mark>\n",
       " . part on \n",
       "<mark class=\"entity\" style=\"background: #92E0AA; padding: 0.45em 0.6em; margin: 0 0.25em; line-height: 1; border-radius: 0.35em;\">\n",
       "    b-o\n",
       "    <span style=\"font-size: 0.8em; font-weight: bold; line-height: 1; border-radius: 0.35em; vertical-align: middle; margin-left: 0.5rem\">PART_NUM</span>\n",
       "</mark>\n",
       "</div></span>"
      ],
      "text/plain": [
       "<IPython.core.display.HTML object>"
      ]
     },
     "metadata": {},
     "output_type": "display_data"
    },
    {
     "name": "stdout",
     "output_type": "stream",
     "text": [
      "------------------------- acutal entities -------------------------\n",
      "('b5l47-67018', 10, 21, 'PART_NUM')\n",
      "('b5l47-67019', 22, 33, 'PART_NUM')\n",
      "------------------------- predict entities -------------------------\n",
      "('b5l47-67018', 10, 21, 'PART_NUM')\n",
      "('b5l47-67019', 22, 33, 'PART_NUM')\n",
      "('b-o', 44, 47, 'PART_NUM')\n",
      "====================================================================================================\n",
      "#normal printer have error code 50 . 3f . 11 high temperature error 1 contacted tech assist for a new action plan . to replace rl1-4005-000 fuser power supply assembly\n"
     ]
    },
    {
     "data": {
      "text/html": [
       "<span class=\"tex2jax_ignore\"><div class=\"entities\" style=\"line-height: 2.5; direction: ltr\">#normal printer have error code 50 . 3f . 11 high temperature error 1 contacted tech assist for a new action plan . to replace \n",
       "<mark class=\"entity\" style=\"background: #92E0AA; padding: 0.45em 0.6em; margin: 0 0.25em; line-height: 1; border-radius: 0.35em;\">\n",
       "    rl1-4005-000\n",
       "    <span style=\"font-size: 0.8em; font-weight: bold; line-height: 1; border-radius: 0.35em; vertical-align: middle; margin-left: 0.5rem\">PART_NUM</span>\n",
       "</mark>\n",
       " fuser power supply assembly</div></span>"
      ],
      "text/plain": [
       "<IPython.core.display.HTML object>"
      ]
     },
     "metadata": {},
     "output_type": "display_data"
    },
    {
     "name": "stdout",
     "output_type": "stream",
     "text": [
      "------------------------- predict entities -------------------------\n",
      "('rl1-4005-000', 127, 139, 'PART_NUM')\n",
      "====================================================================================================\n",
      "#normal customer requests service at this time order :917725-855 and l43407-001 and 213349-001 for next day ship to customers site attn kim gordin thank you\n"
     ]
    },
    {
     "data": {
      "text/html": [
       "<span class=\"tex2jax_ignore\"><div class=\"entities\" style=\"line-height: 2.5; direction: ltr\">#normal customer requests service at this time order :\n",
       "<mark class=\"entity\" style=\"background: #92E0AA; padding: 0.45em 0.6em; margin: 0 0.25em; line-height: 1; border-radius: 0.35em;\">\n",
       "    917725-855\n",
       "    <span style=\"font-size: 0.8em; font-weight: bold; line-height: 1; border-radius: 0.35em; vertical-align: middle; margin-left: 0.5rem\">PART_NUM</span>\n",
       "</mark>\n",
       " and \n",
       "<mark class=\"entity\" style=\"background: #92E0AA; padding: 0.45em 0.6em; margin: 0 0.25em; line-height: 1; border-radius: 0.35em;\">\n",
       "    l43407-001\n",
       "    <span style=\"font-size: 0.8em; font-weight: bold; line-height: 1; border-radius: 0.35em; vertical-align: middle; margin-left: 0.5rem\">PART_NUM</span>\n",
       "</mark>\n",
       " and \n",
       "<mark class=\"entity\" style=\"background: #92E0AA; padding: 0.45em 0.6em; margin: 0 0.25em; line-height: 1; border-radius: 0.35em;\">\n",
       "    213349-001\n",
       "    <span style=\"font-size: 0.8em; font-weight: bold; line-height: 1; border-radius: 0.35em; vertical-align: middle; margin-left: 0.5rem\">PART_NUM</span>\n",
       "</mark>\n",
       " for next day ship to customers site attn kim gordin thank you</div></span>"
      ],
      "text/plain": [
       "<IPython.core.display.HTML object>"
      ]
     },
     "metadata": {},
     "output_type": "display_data"
    },
    {
     "name": "stdout",
     "output_type": "stream",
     "text": [
      "------------------------- acutal entities -------------------------\n",
      "('l43407-001', 69, 79, 'PART_NUM')\n",
      "('213349-001', 84, 94, 'PART_NUM')\n",
      "------------------------- predict entities -------------------------\n",
      "('917725-855', 54, 64, 'PART_NUM')\n",
      "('l43407-001', 69, 79, 'PART_NUM')\n",
      "('213349-001', 84, 94, 'PART_NUM')\n",
      "====================================================================================================\n",
      "need to order nib kit and ecu ( jz09-67077 & g1w39-67001 ) ship to san antonio hal\n"
     ]
    },
    {
     "data": {
      "text/html": [
       "<span class=\"tex2jax_ignore\"><div class=\"entities\" style=\"line-height: 2.5; direction: ltr\">need to order nib kit and ecu ( \n",
       "<mark class=\"entity\" style=\"background: #92E0AA; padding: 0.45em 0.6em; margin: 0 0.25em; line-height: 1; border-radius: 0.35em;\">\n",
       "    jz09-67077\n",
       "    <span style=\"font-size: 0.8em; font-weight: bold; line-height: 1; border-radius: 0.35em; vertical-align: middle; margin-left: 0.5rem\">PART_NUM</span>\n",
       "</mark>\n",
       " &amp; \n",
       "<mark class=\"entity\" style=\"background: #92E0AA; padding: 0.45em 0.6em; margin: 0 0.25em; line-height: 1; border-radius: 0.35em;\">\n",
       "    g1w39-67001\n",
       "    <span style=\"font-size: 0.8em; font-weight: bold; line-height: 1; border-radius: 0.35em; vertical-align: middle; margin-left: 0.5rem\">PART_NUM</span>\n",
       "</mark>\n",
       " ) ship to san antonio hal</div></span>"
      ],
      "text/plain": [
       "<IPython.core.display.HTML object>"
      ]
     },
     "metadata": {},
     "output_type": "display_data"
    },
    {
     "name": "stdout",
     "output_type": "stream",
     "text": [
      "------------------------- acutal entities -------------------------\n",
      "('g1w39-67001', 45, 56, 'PART_NUM')\n",
      "------------------------- predict entities -------------------------\n",
      "('jz09-67077', 32, 42, 'PART_NUM')\n",
      "('g1w39-67001', 45, 56, 'PART_NUM')\n",
      "====================================================================================================\n",
      "i ' m ordering the following parts for this customer rm26418-000cn qty=1 ship to 5200 west greens road houston texas 77066 . #normal\n"
     ]
    },
    {
     "data": {
      "text/html": [
       "<span class=\"tex2jax_ignore\"><div class=\"entities\" style=\"line-height: 2.5; direction: ltr\">i ' m ordering the following parts for this customer \n",
       "<mark class=\"entity\" style=\"background: #92E0AA; padding: 0.45em 0.6em; margin: 0 0.25em; line-height: 1; border-radius: 0.35em;\">\n",
       "    rm26418-000cn\n",
       "    <span style=\"font-size: 0.8em; font-weight: bold; line-height: 1; border-radius: 0.35em; vertical-align: middle; margin-left: 0.5rem\">PART_NUM</span>\n",
       "</mark>\n",
       " qty=1 ship to 5200 west greens road houston texas 77066 . #normal</div></span>"
      ],
      "text/plain": [
       "<IPython.core.display.HTML object>"
      ]
     },
     "metadata": {},
     "output_type": "display_data"
    },
    {
     "name": "stdout",
     "output_type": "stream",
     "text": [
      "------------------------- predict entities -------------------------\n",
      "('rm26418-000cn', 53, 66, 'PART_NUM')\n",
      "====================================================================================================\n",
      "need revisit for 7/2 and please order 0609-001558 qty 1 nbd to 83005433\n"
     ]
    },
    {
     "data": {
      "text/html": [
       "<span class=\"tex2jax_ignore\"><div class=\"entities\" style=\"line-height: 2.5; direction: ltr\">need revisit for 7/2 and please order \n",
       "<mark class=\"entity\" style=\"background: #92E0AA; padding: 0.45em 0.6em; margin: 0 0.25em; line-height: 1; border-radius: 0.35em;\">\n",
       "    0609-001558\n",
       "    <span style=\"font-size: 0.8em; font-weight: bold; line-height: 1; border-radius: 0.35em; vertical-align: middle; margin-left: 0.5rem\">PART_NUM</span>\n",
       "</mark>\n",
       " qty 1 nbd to 83005433</div></span>"
      ],
      "text/plain": [
       "<IPython.core.display.HTML object>"
      ]
     },
     "metadata": {},
     "output_type": "display_data"
    },
    {
     "name": "stdout",
     "output_type": "stream",
     "text": [
      "------------------------- predict entities -------------------------\n",
      "('0609-001558', 38, 49, 'PART_NUM')\n",
      "====================================================================================================\n",
      "please send the following part to this address james jones c/o imd lamar mosley army community hospital 1585 3rd st . building 285 fort polk , louisiana 71459-5110 rm2-1231-000cn . spoke with the customer as i was about to leave and he said that they have put the printer on a new hci and it is working properly said the hci that came with a printer was physically damaged . customer wants an hci sent to the location i am providing the\n"
     ]
    },
    {
     "data": {
      "text/html": [
       "<span class=\"tex2jax_ignore\"><div class=\"entities\" style=\"line-height: 2.5; direction: ltr\">please send the following part to this address james jones c/o imd lamar mosley army community hospital 1585 3rd st . building 285 fort polk , louisiana \n",
       "<mark class=\"entity\" style=\"background: #92E0AA; padding: 0.45em 0.6em; margin: 0 0.25em; line-height: 1; border-radius: 0.35em;\">\n",
       "    71459-5110\n",
       "    <span style=\"font-size: 0.8em; font-weight: bold; line-height: 1; border-radius: 0.35em; vertical-align: middle; margin-left: 0.5rem\">PART_NUM</span>\n",
       "</mark>\n",
       " \n",
       "<mark class=\"entity\" style=\"background: #92E0AA; padding: 0.45em 0.6em; margin: 0 0.25em; line-height: 1; border-radius: 0.35em;\">\n",
       "    rm2-1231-000cn\n",
       "    <span style=\"font-size: 0.8em; font-weight: bold; line-height: 1; border-radius: 0.35em; vertical-align: middle; margin-left: 0.5rem\">PART_NUM</span>\n",
       "</mark>\n",
       " . spoke with the customer as i was about to leave and he said that they have put the printer on a new hci and it is working properly said the hci that came with a printer was physically damaged . customer wants an hci sent to the location i am providing the</div></span>"
      ],
      "text/plain": [
       "<IPython.core.display.HTML object>"
      ]
     },
     "metadata": {},
     "output_type": "display_data"
    },
    {
     "name": "stdout",
     "output_type": "stream",
     "text": [
      "------------------------- acutal entities -------------------------\n",
      "('rm2-1231-000cn', 164, 178, 'PART_NUM')\n",
      "------------------------- predict entities -------------------------\n",
      "('71459-5110', 153, 163, 'PART_NUM')\n",
      "('rm2-1231-000cn', 164, 178, 'PART_NUM')\n",
      "====================================================================================================\n",
      "please revisit for tomorrow from 8:00 am to 10:00 am and order pn ' s 831757-001and 801360-001 nbd to hal location in knoxville tennessee\n"
     ]
    },
    {
     "data": {
      "text/html": [
       "<span class=\"tex2jax_ignore\"><div class=\"entities\" style=\"line-height: 2.5; direction: ltr\">please revisit for tomorrow from 8:00 am to 10:00 am and order pn ' s \n",
       "<mark class=\"entity\" style=\"background: #92E0AA; padding: 0.45em 0.6em; margin: 0 0.25em; line-height: 1; border-radius: 0.35em;\">\n",
       "    831757-001and\n",
       "    <span style=\"font-size: 0.8em; font-weight: bold; line-height: 1; border-radius: 0.35em; vertical-align: middle; margin-left: 0.5rem\">PART_NUM</span>\n",
       "</mark>\n",
       " \n",
       "<mark class=\"entity\" style=\"background: #92E0AA; padding: 0.45em 0.6em; margin: 0 0.25em; line-height: 1; border-radius: 0.35em;\">\n",
       "    801360-001\n",
       "    <span style=\"font-size: 0.8em; font-weight: bold; line-height: 1; border-radius: 0.35em; vertical-align: middle; margin-left: 0.5rem\">PART_NUM</span>\n",
       "</mark>\n",
       " nbd to hal location in knoxville tennessee</div></span>"
      ],
      "text/plain": [
       "<IPython.core.display.HTML object>"
      ]
     },
     "metadata": {},
     "output_type": "display_data"
    },
    {
     "name": "stdout",
     "output_type": "stream",
     "text": [
      "------------------------- acutal entities -------------------------\n",
      "('801360-001', 84, 94, 'PART_NUM')\n",
      "------------------------- predict entities -------------------------\n",
      "('831757-001and', 70, 83, 'PART_NUM')\n",
      "('801360-001', 84, 94, 'PART_NUM')\n",
      "====================================================================================================\n",
      "cannot wait for rob to call me back for the other part . will add it after . please order parts: duplex solenoid lex-40x8301 controller board lex-40x9253 ship to hfpu  ( 83004794 ) 16241 s farrell road , lockport , il . 60441 set for friday so i can get the . lex88932563-70157ghh1dy96-lexmark mx511dhe mono mfp printer case: 5068538396 wo-014405153 fw: nh63 . sb . n638 10 . 73 . 39 . 111 w01991 events printer huison sanchez paper jam , open rear door 230 . 03 affecting only multiple users 7/6 costco wholesale\n"
     ]
    },
    {
     "data": {
      "text/html": [
       "<span class=\"tex2jax_ignore\"><div class=\"entities\" style=\"line-height: 2.5; direction: ltr\">cannot wait for rob to call me back for the other part . will add it after . please order parts: duplex solenoid \n",
       "<mark class=\"entity\" style=\"background: #92E0AA; padding: 0.45em 0.6em; margin: 0 0.25em; line-height: 1; border-radius: 0.35em;\">\n",
       "    lex-40x8301\n",
       "    <span style=\"font-size: 0.8em; font-weight: bold; line-height: 1; border-radius: 0.35em; vertical-align: middle; margin-left: 0.5rem\">PART_NUM</span>\n",
       "</mark>\n",
       " controller board \n",
       "<mark class=\"entity\" style=\"background: #92E0AA; padding: 0.45em 0.6em; margin: 0 0.25em; line-height: 1; border-radius: 0.35em;\">\n",
       "    lex-40x9253\n",
       "    <span style=\"font-size: 0.8em; font-weight: bold; line-height: 1; border-radius: 0.35em; vertical-align: middle; margin-left: 0.5rem\">PART_NUM</span>\n",
       "</mark>\n",
       " ship to hfpu  ( 83004794 ) 16241 s farrell road , lockport , il . 60441 set for friday so i can get the . \n",
       "<mark class=\"entity\" style=\"background: #92E0AA; padding: 0.45em 0.6em; margin: 0 0.25em; line-height: 1; border-radius: 0.35em;\">\n",
       "    lex88932563-70157ghh1dy96-lexmark\n",
       "    <span style=\"font-size: 0.8em; font-weight: bold; line-height: 1; border-radius: 0.35em; vertical-align: middle; margin-left: 0.5rem\">PART_NUM</span>\n",
       "</mark>\n",
       " mx511dhe mono mfp printer case: 5068538396 wo-014405153 fw: nh63 . sb . n638 10 . 73 . 39 . 111 w01991 events printer huison sanchez paper jam , open rear door 230 . 03 affecting only multiple users 7/6 costco wholesale</div></span>"
      ],
      "text/plain": [
       "<IPython.core.display.HTML object>"
      ]
     },
     "metadata": {},
     "output_type": "display_data"
    },
    {
     "name": "stdout",
     "output_type": "stream",
     "text": [
      "------------------------- acutal entities -------------------------\n",
      "('lex-40x8301', 113, 124, 'PART_NUM')\n",
      "('lex-40x9253', 142, 153, 'PART_NUM')\n",
      "------------------------- predict entities -------------------------\n",
      "('lex-40x8301', 113, 124, 'PART_NUM')\n",
      "('lex-40x9253', 142, 153, 'PART_NUM')\n",
      "('lex88932563-70157ghh1dy96-lexmark', 260, 293, 'PART_NUM')\n",
      "====================================================================================================\n",
      "7/8- please create follow up and assign to myself for revisit reimage failed re image computer follow up with lissett 619-507-8334 to make sure it was succesful job id:11625681039975\n"
     ]
    },
    {
     "data": {
      "text/html": [
       "<span class=\"tex2jax_ignore\"><div class=\"entities\" style=\"line-height: 2.5; direction: ltr\">7/8- please create follow up and assign to myself for revisit reimage failed re image computer follow up with lissett \n",
       "<mark class=\"entity\" style=\"background: #92E0AA; padding: 0.45em 0.6em; margin: 0 0.25em; line-height: 1; border-radius: 0.35em;\">\n",
       "    619-507-8334\n",
       "    <span style=\"font-size: 0.8em; font-weight: bold; line-height: 1; border-radius: 0.35em; vertical-align: middle; margin-left: 0.5rem\">PART_NUM</span>\n",
       "</mark>\n",
       " to make sure it was succesful job id:11625681039975</div></span>"
      ],
      "text/plain": [
       "<IPython.core.display.HTML object>"
      ]
     },
     "metadata": {},
     "output_type": "display_data"
    },
    {
     "name": "stdout",
     "output_type": "stream",
     "text": [
      "------------------------- predict entities -------------------------\n",
      "('619-507-8334', 118, 130, 'PART_NUM')\n",
      "====================================================================================================\n",
      "7/7/21--1020--please order parts below: g1w39-69001 / mech-kit-v1-pwe-586mfp-ww g1w39-67952 / kit-assy/feeder tray 3 please ship to client address below: norton community hospital attn:  eryk nayagam -- is 100 15th st nw norton , va 24273 just go pro\n"
     ]
    },
    {
     "data": {
      "text/html": [
       "<span class=\"tex2jax_ignore\"><div class=\"entities\" style=\"line-height: 2.5; direction: ltr\">7/7/21--1020--please order parts below: \n",
       "<mark class=\"entity\" style=\"background: #92E0AA; padding: 0.45em 0.6em; margin: 0 0.25em; line-height: 1; border-radius: 0.35em;\">\n",
       "    g1w39-69001\n",
       "    <span style=\"font-size: 0.8em; font-weight: bold; line-height: 1; border-radius: 0.35em; vertical-align: middle; margin-left: 0.5rem\">PART_NUM</span>\n",
       "</mark>\n",
       " / \n",
       "<mark class=\"entity\" style=\"background: #92E0AA; padding: 0.45em 0.6em; margin: 0 0.25em; line-height: 1; border-radius: 0.35em;\">\n",
       "    mech-kit-v1\n",
       "    <span style=\"font-size: 0.8em; font-weight: bold; line-height: 1; border-radius: 0.35em; vertical-align: middle; margin-left: 0.5rem\">PART_NUM</span>\n",
       "</mark>\n",
       "-pwe-586mfp-ww \n",
       "<mark class=\"entity\" style=\"background: #92E0AA; padding: 0.45em 0.6em; margin: 0 0.25em; line-height: 1; border-radius: 0.35em;\">\n",
       "    g1w39-67952\n",
       "    <span style=\"font-size: 0.8em; font-weight: bold; line-height: 1; border-radius: 0.35em; vertical-align: middle; margin-left: 0.5rem\">PART_NUM</span>\n",
       "</mark>\n",
       " / kit-assy/feeder tray 3 please ship to client address below: norton community hospital attn:  eryk nayagam -- is 100 15th st nw norton , va 24273 just go pro</div></span>"
      ],
      "text/plain": [
       "<IPython.core.display.HTML object>"
      ]
     },
     "metadata": {},
     "output_type": "display_data"
    },
    {
     "name": "stdout",
     "output_type": "stream",
     "text": [
      "------------------------- acutal entities -------------------------\n",
      "('g1w39-69001', 40, 51, 'PART_NUM')\n",
      "('g1w39-67952', 80, 91, 'PART_NUM')\n",
      "------------------------- predict entities -------------------------\n",
      "('g1w39-69001', 40, 51, 'PART_NUM')\n",
      "('mech-kit-v1', 54, 65, 'PART_NUM')\n",
      "('g1w39-67952', 80, 91, 'PART_NUM')\n",
      "====================================================================================================\n",
      "please order lcd cable l32713-001 and backlight cable l3291-001 . #normal 7/15 please order lcd cable l32713-001 and backlight cable l3291-001 replaced display and system board but back light is still dim , verified parts and issue with support , signed for jn kp 7/14 parts have not shipped per fedex\n"
     ]
    },
    {
     "data": {
      "text/html": [
       "<span class=\"tex2jax_ignore\"><div class=\"entities\" style=\"line-height: 2.5; direction: ltr\">please order lcd cable \n",
       "<mark class=\"entity\" style=\"background: #92E0AA; padding: 0.45em 0.6em; margin: 0 0.25em; line-height: 1; border-radius: 0.35em;\">\n",
       "    l32713-001\n",
       "    <span style=\"font-size: 0.8em; font-weight: bold; line-height: 1; border-radius: 0.35em; vertical-align: middle; margin-left: 0.5rem\">PART_NUM</span>\n",
       "</mark>\n",
       " and backlight cable \n",
       "<mark class=\"entity\" style=\"background: #92E0AA; padding: 0.45em 0.6em; margin: 0 0.25em; line-height: 1; border-radius: 0.35em;\">\n",
       "    l3291-001\n",
       "    <span style=\"font-size: 0.8em; font-weight: bold; line-height: 1; border-radius: 0.35em; vertical-align: middle; margin-left: 0.5rem\">PART_NUM</span>\n",
       "</mark>\n",
       " . #normal 7/15 please order lcd cable \n",
       "<mark class=\"entity\" style=\"background: #92E0AA; padding: 0.45em 0.6em; margin: 0 0.25em; line-height: 1; border-radius: 0.35em;\">\n",
       "    l32713-001\n",
       "    <span style=\"font-size: 0.8em; font-weight: bold; line-height: 1; border-radius: 0.35em; vertical-align: middle; margin-left: 0.5rem\">PART_NUM</span>\n",
       "</mark>\n",
       " and backlight cable \n",
       "<mark class=\"entity\" style=\"background: #92E0AA; padding: 0.45em 0.6em; margin: 0 0.25em; line-height: 1; border-radius: 0.35em;\">\n",
       "    l3291-001\n",
       "    <span style=\"font-size: 0.8em; font-weight: bold; line-height: 1; border-radius: 0.35em; vertical-align: middle; margin-left: 0.5rem\">PART_NUM</span>\n",
       "</mark>\n",
       " replaced display and system board but back light is still dim , verified parts and issue with support , signed for jn kp 7/14 parts have not shipped per fedex</div></span>"
      ],
      "text/plain": [
       "<IPython.core.display.HTML object>"
      ]
     },
     "metadata": {},
     "output_type": "display_data"
    },
    {
     "name": "stdout",
     "output_type": "stream",
     "text": [
      "------------------------- acutal entities -------------------------\n",
      "('l32713-001', 23, 33, 'PART_NUM')\n",
      "('l32713-001', 102, 112, 'PART_NUM')\n",
      "------------------------- predict entities -------------------------\n",
      "('l32713-001', 23, 33, 'PART_NUM')\n",
      "('l3291-001', 54, 63, 'PART_NUM')\n",
      "('l32713-001', 102, 112, 'PART_NUM')\n",
      "('l3291-001', 133, 142, 'PART_NUM')\n",
      "====================================================================================================\n",
      "please order two ( 2 ) of this part number: jc31-00163b ship both to hfpu  ( 83004794 ) 16241 s farrell road , lockport , il . 60441 . x3a76a-cnc1n4r00z-hp color laserjet managed flow mfp e87640-e87660z - base product 40-60 ppm a3 case: 5068847832 wo-014468318 po119462189 0645244017 neovia 3930 cedar creek dr joliet , il . 60436 larry heagle  1815-768-3282 alt: 779-702-0498 jc9\n"
     ]
    },
    {
     "data": {
      "text/html": [
       "<span class=\"tex2jax_ignore\"><div class=\"entities\" style=\"line-height: 2.5; direction: ltr\">please order two ( 2 ) of this part number: \n",
       "<mark class=\"entity\" style=\"background: #92E0AA; padding: 0.45em 0.6em; margin: 0 0.25em; line-height: 1; border-radius: 0.35em;\">\n",
       "    jc31-00163b\n",
       "    <span style=\"font-size: 0.8em; font-weight: bold; line-height: 1; border-radius: 0.35em; vertical-align: middle; margin-left: 0.5rem\">PART_NUM</span>\n",
       "</mark>\n",
       " ship both to hfpu  ( 83004794 ) 16241 s farrell road , lockport , il . 60441 . x3a76a-cnc1n4r00z-hp color laserjet managed flow mfp e87640-e87660z - base product 40-60 ppm a3 case: 5068847832 wo-014468318 po119462189 0645244017 neovia 3930 cedar creek dr joliet , il . 60436 larry heagle  \n",
       "<mark class=\"entity\" style=\"background: #92E0AA; padding: 0.45em 0.6em; margin: 0 0.25em; line-height: 1; border-radius: 0.35em;\">\n",
       "    1815-768-3282\n",
       "    <span style=\"font-size: 0.8em; font-weight: bold; line-height: 1; border-radius: 0.35em; vertical-align: middle; margin-left: 0.5rem\">PART_NUM</span>\n",
       "</mark>\n",
       " alt: \n",
       "<mark class=\"entity\" style=\"background: #92E0AA; padding: 0.45em 0.6em; margin: 0 0.25em; line-height: 1; border-radius: 0.35em;\">\n",
       "    779-702-0498\n",
       "    <span style=\"font-size: 0.8em; font-weight: bold; line-height: 1; border-radius: 0.35em; vertical-align: middle; margin-left: 0.5rem\">PART_NUM</span>\n",
       "</mark>\n",
       " jc9</div></span>"
      ],
      "text/plain": [
       "<IPython.core.display.HTML object>"
      ]
     },
     "metadata": {},
     "output_type": "display_data"
    },
    {
     "name": "stdout",
     "output_type": "stream",
     "text": [
      "------------------------- acutal entities -------------------------\n",
      "('jc31-00163b', 44, 55, 'PART_NUM')\n",
      "------------------------- predict entities -------------------------\n",
      "('jc31-00163b', 44, 55, 'PART_NUM')\n",
      "('1815-768-3282', 345, 358, 'PART_NUM')\n",
      "('779-702-0498', 364, 376, 'PART_NUM')\n",
      "====================================================================================================\n",
      "shloime called to request reschedule . please order parts rm2-6456-010cn/top cover - rm2-7914-000cn/lv psu to fedex hal 51 20th st brooklyn accordingly . thanks 521743302818 to 51 20 lifter drive part delivery ready mid day logistics 15min error msg and\n"
     ]
    },
    {
     "data": {
      "text/html": [
       "<span class=\"tex2jax_ignore\"><div class=\"entities\" style=\"line-height: 2.5; direction: ltr\">shloime called to request reschedule . please order parts \n",
       "<mark class=\"entity\" style=\"background: #92E0AA; padding: 0.45em 0.6em; margin: 0 0.25em; line-height: 1; border-radius: 0.35em;\">\n",
       "    rm2-6456-010cn\n",
       "    <span style=\"font-size: 0.8em; font-weight: bold; line-height: 1; border-radius: 0.35em; vertical-align: middle; margin-left: 0.5rem\">PART_NUM</span>\n",
       "</mark>\n",
       "/top cover - \n",
       "<mark class=\"entity\" style=\"background: #92E0AA; padding: 0.45em 0.6em; margin: 0 0.25em; line-height: 1; border-radius: 0.35em;\">\n",
       "    rm2-7914-000cn\n",
       "    <span style=\"font-size: 0.8em; font-weight: bold; line-height: 1; border-radius: 0.35em; vertical-align: middle; margin-left: 0.5rem\">PART_NUM</span>\n",
       "</mark>\n",
       "/lv psu to fedex hal 51 20th st brooklyn accordingly . thanks 521743302818 to 51 20 lifter drive part delivery ready mid day logistics 15min error msg and</div></span>"
      ],
      "text/plain": [
       "<IPython.core.display.HTML object>"
      ]
     },
     "metadata": {},
     "output_type": "display_data"
    },
    {
     "name": "stdout",
     "output_type": "stream",
     "text": [
      "------------------------- predict entities -------------------------\n",
      "('rm2-6456-010cn', 58, 72, 'PART_NUM')\n",
      "('rm2-7914-000cn', 85, 99, 'PART_NUM')\n",
      "====================================================================================================\n",
      "please order part number f2g76-67901as issue has returned . \n"
     ]
    },
    {
     "data": {
      "text/html": [
       "<span class=\"tex2jax_ignore\"><div class=\"entities\" style=\"line-height: 2.5; direction: ltr\">please order part number \n",
       "<mark class=\"entity\" style=\"background: #92E0AA; padding: 0.45em 0.6em; margin: 0 0.25em; line-height: 1; border-radius: 0.35em;\">\n",
       "    f2g76-67901as\n",
       "    <span style=\"font-size: 0.8em; font-weight: bold; line-height: 1; border-radius: 0.35em; vertical-align: middle; margin-left: 0.5rem\">PART_NUM</span>\n",
       "</mark>\n",
       " issue has returned . </div></span>"
      ],
      "text/plain": [
       "<IPython.core.display.HTML object>"
      ]
     },
     "metadata": {},
     "output_type": "display_data"
    },
    {
     "name": "stdout",
     "output_type": "stream",
     "text": [
      "------------------------- predict entities -------------------------\n",
      "('f2g76-67901as', 25, 38, 'PART_NUM')\n",
      "====================================================================================================\n",
      "please order part: rm2-9335-000cn            high-voltage power supply ship to hfpu  ( 83004794 ) 16241 s farrell road , lockport , il . 60441 set for friday . . m0p33a-cnmclb10h3-hp laserjet managed e60055dn prntr case: 5069082646 wo-014513867 po119522639 0645270000 international paper 4160 campus dr aurora , il . 60504-4172 krystal brown 1816-351-283 krystal . brown@ipaper . com rm2-0866-020cn assy-cassette\n"
     ]
    },
    {
     "data": {
      "text/html": [
       "<span class=\"tex2jax_ignore\"><div class=\"entities\" style=\"line-height: 2.5; direction: ltr\">please order part: rm2-9335-000cn            high-voltage power supply ship to hfpu  ( 83004794 ) 16241 s farrell road , lockport , il . 60441 set for friday . . m0p33a-cnmclb10h3-hp laserjet managed e60055dn prntr case: 5069082646 wo-014513867 po119522639 0645270000 international paper 4160 campus dr aurora , il . \n",
       "<mark class=\"entity\" style=\"background: #92E0AA; padding: 0.45em 0.6em; margin: 0 0.25em; line-height: 1; border-radius: 0.35em;\">\n",
       "    60504-4172\n",
       "    <span style=\"font-size: 0.8em; font-weight: bold; line-height: 1; border-radius: 0.35em; vertical-align: middle; margin-left: 0.5rem\">PART_NUM</span>\n",
       "</mark>\n",
       " krystal brown \n",
       "<mark class=\"entity\" style=\"background: #92E0AA; padding: 0.45em 0.6em; margin: 0 0.25em; line-height: 1; border-radius: 0.35em;\">\n",
       "    1816-351-283\n",
       "    <span style=\"font-size: 0.8em; font-weight: bold; line-height: 1; border-radius: 0.35em; vertical-align: middle; margin-left: 0.5rem\">PART_NUM</span>\n",
       "</mark>\n",
       " krystal . brown@ipaper . com \n",
       "<mark class=\"entity\" style=\"background: #92E0AA; padding: 0.45em 0.6em; margin: 0 0.25em; line-height: 1; border-radius: 0.35em;\">\n",
       "    rm2-0866-020cn\n",
       "    <span style=\"font-size: 0.8em; font-weight: bold; line-height: 1; border-radius: 0.35em; vertical-align: middle; margin-left: 0.5rem\">PART_NUM</span>\n",
       "</mark>\n",
       " assy-cassette</div></span>"
      ],
      "text/plain": [
       "<IPython.core.display.HTML object>"
      ]
     },
     "metadata": {},
     "output_type": "display_data"
    },
    {
     "name": "stdout",
     "output_type": "stream",
     "text": [
      "------------------------- acutal entities -------------------------\n",
      "('rm2-0866-020cn', 384, 398, 'PART_NUM')\n",
      "------------------------- predict entities -------------------------\n",
      "('60504-4172', 317, 327, 'PART_NUM')\n",
      "('1816-351-283', 342, 354, 'PART_NUM')\n",
      "('rm2-0866-020cn', 384, 398, 'PART_NUM')\n",
      "====================================================================================================\n",
      "#normal please order part # rm2-5452-000 . please send this call to doug houseknecht\n"
     ]
    },
    {
     "data": {
      "text/html": [
       "<span class=\"tex2jax_ignore\"><div class=\"entities\" style=\"line-height: 2.5; direction: ltr\">#normal please order part # \n",
       "<mark class=\"entity\" style=\"background: #92E0AA; padding: 0.45em 0.6em; margin: 0 0.25em; line-height: 1; border-radius: 0.35em;\">\n",
       "    rm2-5452-000\n",
       "    <span style=\"font-size: 0.8em; font-weight: bold; line-height: 1; border-radius: 0.35em; vertical-align: middle; margin-left: 0.5rem\">PART_NUM</span>\n",
       "</mark>\n",
       " . please send this call to doug houseknecht</div></span>"
      ],
      "text/plain": [
       "<IPython.core.display.HTML object>"
      ]
     },
     "metadata": {},
     "output_type": "display_data"
    },
    {
     "name": "stdout",
     "output_type": "stream",
     "text": [
      "------------------------- predict entities -------------------------\n",
      "('rm2-5452-000', 28, 40, 'PART_NUM')\n",
      "====================================================================================================\n",
      "please order the following part to the customer site attn: jim cox l41606-011 hard drive . please order these additional parts to to the portage hold for pick up . l4606-011 hard drive 5851-7913 formatter . please order this one again as the 1st one is lost at fedex . \n"
     ]
    },
    {
     "data": {
      "text/html": [
       "<span class=\"tex2jax_ignore\"><div class=\"entities\" style=\"line-height: 2.5; direction: ltr\">please order the following part to the customer site attn: jim cox \n",
       "<mark class=\"entity\" style=\"background: #92E0AA; padding: 0.45em 0.6em; margin: 0 0.25em; line-height: 1; border-radius: 0.35em;\">\n",
       "    l41606-011\n",
       "    <span style=\"font-size: 0.8em; font-weight: bold; line-height: 1; border-radius: 0.35em; vertical-align: middle; margin-left: 0.5rem\">PART_NUM</span>\n",
       "</mark>\n",
       " hard drive . please order these additional parts to to the portage hold for pick up . \n",
       "<mark class=\"entity\" style=\"background: #92E0AA; padding: 0.45em 0.6em; margin: 0 0.25em; line-height: 1; border-radius: 0.35em;\">\n",
       "    l4606-011\n",
       "    <span style=\"font-size: 0.8em; font-weight: bold; line-height: 1; border-radius: 0.35em; vertical-align: middle; margin-left: 0.5rem\">PART_NUM</span>\n",
       "</mark>\n",
       " hard drive \n",
       "<mark class=\"entity\" style=\"background: #92E0AA; padding: 0.45em 0.6em; margin: 0 0.25em; line-height: 1; border-radius: 0.35em;\">\n",
       "    5851-7913\n",
       "    <span style=\"font-size: 0.8em; font-weight: bold; line-height: 1; border-radius: 0.35em; vertical-align: middle; margin-left: 0.5rem\">PART_NUM</span>\n",
       "</mark>\n",
       " formatter . please order this one again as the 1st one is lost at fedex . </div></span>"
      ],
      "text/plain": [
       "<IPython.core.display.HTML object>"
      ]
     },
     "metadata": {},
     "output_type": "display_data"
    },
    {
     "name": "stdout",
     "output_type": "stream",
     "text": [
      "------------------------- acutal entities -------------------------\n",
      "('l41606-011', 67, 77, 'PART_NUM')\n",
      "('5851-7913', 185, 194, 'PART_NUM')\n",
      "------------------------- predict entities -------------------------\n",
      "('l41606-011', 67, 77, 'PART_NUM')\n",
      "('l4606-011', 164, 173, 'PART_NUM')\n",
      "('5851-7913', 185, 194, 'PART_NUM')\n",
      "====================================================================================================\n",
      "please send parts to 800 main st . paterson nj 07503 attn: nick lavcanski ( 973 ) 202-1231 jc98-05425a qty:2\n"
     ]
    },
    {
     "data": {
      "text/html": [
       "<span class=\"tex2jax_ignore\"><div class=\"entities\" style=\"line-height: 2.5; direction: ltr\">please send parts to 800 main st . paterson nj 07503 attn: nick lavcanski ( 973 ) \n",
       "<mark class=\"entity\" style=\"background: #92E0AA; padding: 0.45em 0.6em; margin: 0 0.25em; line-height: 1; border-radius: 0.35em;\">\n",
       "    202-1231\n",
       "    <span style=\"font-size: 0.8em; font-weight: bold; line-height: 1; border-radius: 0.35em; vertical-align: middle; margin-left: 0.5rem\">PART_NUM</span>\n",
       "</mark>\n",
       " \n",
       "<mark class=\"entity\" style=\"background: #92E0AA; padding: 0.45em 0.6em; margin: 0 0.25em; line-height: 1; border-radius: 0.35em;\">\n",
       "    jc98-05425a\n",
       "    <span style=\"font-size: 0.8em; font-weight: bold; line-height: 1; border-radius: 0.35em; vertical-align: middle; margin-left: 0.5rem\">PART_NUM</span>\n",
       "</mark>\n",
       " qty:2</div></span>"
      ],
      "text/plain": [
       "<IPython.core.display.HTML object>"
      ]
     },
     "metadata": {},
     "output_type": "display_data"
    },
    {
     "name": "stdout",
     "output_type": "stream",
     "text": [
      "------------------------- acutal entities -------------------------\n",
      "('jc98-05425a', 91, 102, 'PART_NUM')\n",
      "------------------------- predict entities -------------------------\n",
      "('202-1231', 82, 90, 'PART_NUM')\n",
      "('jc98-05425a', 91, 102, 'PART_NUM')\n",
      "====================================================================================================\n",
      "please fedex a t030-67901 , t0b28-67901 and a t0b27-67901 to: 16633 schoenborn st north hills , ca 91343\n"
     ]
    },
    {
     "data": {
      "text/html": [
       "<span class=\"tex2jax_ignore\"><div class=\"entities\" style=\"line-height: 2.5; direction: ltr\">please fedex a \n",
       "<mark class=\"entity\" style=\"background: #92E0AA; padding: 0.45em 0.6em; margin: 0 0.25em; line-height: 1; border-radius: 0.35em;\">\n",
       "    t030-67901\n",
       "    <span style=\"font-size: 0.8em; font-weight: bold; line-height: 1; border-radius: 0.35em; vertical-align: middle; margin-left: 0.5rem\">PART_NUM</span>\n",
       "</mark>\n",
       " , \n",
       "<mark class=\"entity\" style=\"background: #92E0AA; padding: 0.45em 0.6em; margin: 0 0.25em; line-height: 1; border-radius: 0.35em;\">\n",
       "    t0b28-67901\n",
       "    <span style=\"font-size: 0.8em; font-weight: bold; line-height: 1; border-radius: 0.35em; vertical-align: middle; margin-left: 0.5rem\">PART_NUM</span>\n",
       "</mark>\n",
       " and a \n",
       "<mark class=\"entity\" style=\"background: #92E0AA; padding: 0.45em 0.6em; margin: 0 0.25em; line-height: 1; border-radius: 0.35em;\">\n",
       "    t0b27-67901\n",
       "    <span style=\"font-size: 0.8em; font-weight: bold; line-height: 1; border-radius: 0.35em; vertical-align: middle; margin-left: 0.5rem\">PART_NUM</span>\n",
       "</mark>\n",
       " to: 16633 schoenborn st north hills , ca 91343</div></span>"
      ],
      "text/plain": [
       "<IPython.core.display.HTML object>"
      ]
     },
     "metadata": {},
     "output_type": "display_data"
    },
    {
     "name": "stdout",
     "output_type": "stream",
     "text": [
      "------------------------- acutal entities -------------------------\n",
      "('t0b28-67901', 28, 39, 'PART_NUM')\n",
      "('t0b27-67901', 46, 57, 'PART_NUM')\n",
      "------------------------- predict entities -------------------------\n",
      "('t030-67901', 15, 25, 'PART_NUM')\n",
      "('t0b28-67901', 28, 39, 'PART_NUM')\n",
      "('t0b27-67901', 46, 57, 'PART_NUM')\n",
      "====================================================================================================\n",
      "please add these parts and order replacements to my trunk stock: either one each: pn rm2-1275-000 pn rm2-6772_000 or one pnj7z98-67902 . wells fargo 07/20/2021 9:32 pm cst - parts confirmed as shipped . closed the ticket . 07/16/2021 8:51 pm cst - call is completed - on break until my replacement trunk stock ships and i have the tracking numbers . 07/16/2021 4:48 pm cst *fixed* tray 2 jamming\n"
     ]
    },
    {
     "data": {
      "text/html": [
       "<span class=\"tex2jax_ignore\"><div class=\"entities\" style=\"line-height: 2.5; direction: ltr\">please add these parts and order replacements to my trunk stock: either one each: pn \n",
       "<mark class=\"entity\" style=\"background: #92E0AA; padding: 0.45em 0.6em; margin: 0 0.25em; line-height: 1; border-radius: 0.35em;\">\n",
       "    rm2-1275-000\n",
       "    <span style=\"font-size: 0.8em; font-weight: bold; line-height: 1; border-radius: 0.35em; vertical-align: middle; margin-left: 0.5rem\">PART_NUM</span>\n",
       "</mark>\n",
       " pn rm2-6772_000 or one pnj7z98-67902 . wells fargo 07/20/2021 9:32 pm cst - parts confirmed as shipped . closed the ticket . 07/16/2021 8:51 pm cst - call is completed - on break until my replacement trunk stock ships and i have the tracking numbers . 07/16/2021 4:48 pm cst *fixed* tray 2 jamming</div></span>"
      ],
      "text/plain": [
       "<IPython.core.display.HTML object>"
      ]
     },
     "metadata": {},
     "output_type": "display_data"
    },
    {
     "name": "stdout",
     "output_type": "stream",
     "text": [
      "------------------------- predict entities -------------------------\n",
      "('rm2-1275-000', 85, 97, 'PART_NUM')\n",
      "====================================================================================================\n",
      "lex-40x-0100 , 2 , c2etes26\n"
     ]
    },
    {
     "data": {
      "text/html": [
       "<span class=\"tex2jax_ignore\"><div class=\"entities\" style=\"line-height: 2.5; direction: ltr\">\n",
       "<mark class=\"entity\" style=\"background: #92E0AA; padding: 0.45em 0.6em; margin: 0 0.25em; line-height: 1; border-radius: 0.35em;\">\n",
       "    lex-40x-0100\n",
       "    <span style=\"font-size: 0.8em; font-weight: bold; line-height: 1; border-radius: 0.35em; vertical-align: middle; margin-left: 0.5rem\">PART_NUM</span>\n",
       "</mark>\n",
       " , 2 , c2etes26</div></span>"
      ],
      "text/plain": [
       "<IPython.core.display.HTML object>"
      ]
     },
     "metadata": {},
     "output_type": "display_data"
    },
    {
     "name": "stdout",
     "output_type": "stream",
     "text": [
      "------------------------- predict entities -------------------------\n",
      "('lex-40x-0100', 0, 12, 'PART_NUM')\n"
     ]
    }
   ],
   "source": [
    "show_texts(error_data)  "
   ]
  },
  {
   "cell_type": "markdown",
   "id": "c087f294",
   "metadata": {},
   "source": [
    "### Some Features and Issues\n",
    "\n",
    "#### Miss some part-numbers "
   ]
  },
  {
   "cell_type": "code",
   "execution_count": 122,
   "id": "c49aafe7",
   "metadata": {
    "ExecuteTime": {
     "end_time": "2021-08-28T02:28:57.004042Z",
     "start_time": "2021-08-28T02:28:56.993591Z"
    }
   },
   "outputs": [],
   "source": [
    "sample_parts = ['M14302-161', '926537-001', 'M46915-D01', '140314-FB2', '176253-8B0', \n",
    "               '442010-ABC', 'L07896-DB1', '168757-B21', 'FE-15520-01', 'RM1-7867-000CN', \n",
    "               '5066-4719', '5066-3872-1', '3HZ90-30001', 'T6M22-30001', '98544-04105', \n",
    "               'C8109-69018', 'L26480-DB1', '632427-001B', 'CN463-69003', 'RM1-1298BULK', \n",
    "               '8-752-078-46', 'X-4035-119-1', 'TBLB3002-A04', '4822-701-15319', '08-2212C-33W', \n",
    "               '19-40065-011', 'ATT09850-66532', '98564-66572-SQ', '897-250144AA', '738-576-94', \n",
    "               '1FQ6-0001', '1818-7469-LGSA', '1820-6361M', '1818-6868-SAM', '3138-107-96160', \n",
    "               '686858R-999', 'MD30C-A2', '29-26196-00', 'DEL-7D092', 'LEX-40X2384', 'LEX-40X2831H', \n",
    "               'SAM-6107001172', 'SHA-1625DS51', 'XER-006R01275', 'BRO-TN115BK', 'DEL-310-5811', \n",
    "               'DEL-PK496', 'KYO-1702F97US0', 'LA95-CA', 'KYO-DK-310H', 'EPS-C31CD38A9921', \n",
    "               'KYO-F994091H', 'EPS-CEPS-003G', 'LEX-24015SA', 'LEX-62D1X00', 'LEX-72K0DV0', \n",
    "               'LEX-801HC', 'LEX-C5220CSH', 'TRO-78-24619-001', 'LEX-C544X1CG', 'HPE-749797-001', \n",
    "               'SFT-P-895', 'LEX-E260A21A-C', 'RIC-D0296509', 'SEA-ST1000LM049', 'LEX-12A8400-PC', \n",
    "               'HPE-JL258A', 'RIC-400507', 'FUJ-FPCPR362AQ', 'TOS-6LE8296100', 'XER-003K04980', \n",
    "               'XER-116111500', 'ATS-2711FXSC-901', 'BRO-TN336BK', 'DEL-310-5807', 'HPI-CF258A-M', \n",
    "               'LEX-T101-0000000', 'DEL-9PN5P', 'SAM-BA92-08880A', 'APC-RBC7', 'KMH-4448-121', \n",
    "               'SXC-C7ABTTAAB', 'TRO-04621201', 'VEF-28924-04-R', 'WFP-HPM527Z', 'KYO-1702LK0UN2', \n",
    "               'APC-SUA1500RM2U', 'KYO-302NM18021', 'HPE-JH329-61001', 'KYO-1T02GA0US0', 'LEB-04X4674',\n",
    "               'KYO-302GR93034', 'DEL-V1RX3', 'LEX-40X0593', 'TOS-6LH3460800', 'RIC-AE020171', \n",
    "               'XER-59K60140', 'BRO-LM5140001', 'KMH-A00JA56600', 'KYO-302F906240', 'BRO-LEM084001', \n",
    "               'XER-116-2035', 'BRO-BU100CLH', '3X-LK465-A2', '4G1-3999-030CN', 'H3980-60002BULK', \n",
    "               'SHA-VHI0MFP000', 'TOS-C017839000', 'JC66-01190A', 'XER-3335DNI', 'XER-3635MFP-S', \n",
    "               'XER-4622DN', 'XER-7750-Z2', 'DEL-D1320-W3', 'DEL-P637D', 'LEX-C540X35G', \n",
    "               'SHA-CPLTM8190F', 'SHACFRM-1380DS53', 'XER-401-0855-0', '90-0077', 'BRO-LF6710001', \n",
    "               'Q3938-68001-PCA', 'C314X-49A-90002', '20ER-84530KC', 'RM2-2903-BULK', 'CE506-67919-BU', \n",
    "               'CH971-91596', 'DEL-FM235', 'JC44-00210E', 'SHACFRM-1509DS52', 'SHADHAI-5043FCPZ', \n",
    "               'SHAGCAB-1102FCB1', '000-50-02-008', '504000226-DD', 'SHAVHPLG217L5A-1', 'SHAVHPOSH03Y02-1', \n",
    "               'SHADUNT-8962FCP1', 'SHAKI-OK0010FCPZ', 'SHAQSW-P0506FCZZ', 'SHAVHPGP1A73AR-1', 'SHARH-IX0055FCPZ', \n",
    "               '358-000001', 'SHAVHPGP1A71L3-18', 'B23-0994', '504000226-D', '5066-0731', \n",
    "               'E0-CABLE-01', 'RM1-8508-010-BU', 'B3M77-67902-BU', 'CA02626-E029FJ', 'CF065-67901-BU', \n",
    "               'C2H57-67901-BULK', 'LN08-A2', '693709-001B', 'SS467-67001', 'LEX-70C0D20', \n",
    "               'SHAQSW-M0518FCPZ', 'SHALX-BZ0994FCPZ', 'LN08X-TF', 'SHAGCAB-1507FCAZ']\n",
    "\n",
    "sample_parts = [part.lower() for part in sample_parts]"
   ]
  },
  {
   "cell_type": "code",
   "execution_count": 123,
   "id": "f5546c82",
   "metadata": {
    "ExecuteTime": {
     "end_time": "2021-08-28T02:28:57.770953Z",
     "start_time": "2021-08-28T02:28:57.641084Z"
    }
   },
   "outputs": [
    {
     "name": "stdout",
     "output_type": "stream",
     "text": [
      "====================================================================================================\n",
      "please order qty 1 000-50-02-008 nbd to my hal in lenexa . thank you . \n"
     ]
    },
    {
     "data": {
      "text/html": [
       "<span class=\"tex2jax_ignore\"><div class=\"entities\" style=\"line-height: 2.5; direction: ltr\">please order qty 1 \n",
       "<mark class=\"entity\" style=\"background: #92E0AA; padding: 0.45em 0.6em; margin: 0 0.25em; line-height: 1; border-radius: 0.35em;\">\n",
       "    000-50-02-008\n",
       "    <span style=\"font-size: 0.8em; font-weight: bold; line-height: 1; border-radius: 0.35em; vertical-align: middle; margin-left: 0.5rem\">PART_NUM</span>\n",
       "</mark>\n",
       " nbd to my hal in lenexa . thank you . </div></span>"
      ],
      "text/plain": [
       "<IPython.core.display.HTML object>"
      ]
     },
     "metadata": {},
     "output_type": "display_data"
    },
    {
     "name": "stdout",
     "output_type": "stream",
     "text": [
      "------------------------- predict entities -------------------------\n",
      "('000-50-02-008', 19, 32, 'PART_NUM')\n"
     ]
    }
   ],
   "source": [
    "def get_texts(parts, standardize_text=standardize_text1):\n",
    "    texts = [standardize_text(f'Please order qty 1 {part} NBD to my HAL in Lenexa. Thank you.') for part in parts]\n",
    "    return texts\n",
    "\n",
    "def check_sample_parts(parts):  \n",
    "    texts = get_texts(parts)\n",
    "    docs = nlp.pipe(texts)\n",
    "    texts = []\n",
    "    error_texts = []\n",
    "    errpr_parts = []\n",
    "    for doc, part in zip(docs, parts):\n",
    "        texts.append(doc.text)\n",
    "        if len(doc.ents) !=1 or doc.ents[0].text != part.lower():\n",
    "            error_texts.append(doc.text)\n",
    "            errpr_parts.append(part)\n",
    "    return texts, error_texts, errpr_parts\n",
    "        \n",
    "parts = ['000-50-02-008']\n",
    "texts, error_texts, errpr_parts = check_sample_parts(parts)\n",
    "show_texts(texts, show_detail=True) "
   ]
  },
  {
   "cell_type": "code",
   "execution_count": 124,
   "id": "5848a30b",
   "metadata": {
    "ExecuteTime": {
     "end_time": "2021-08-28T02:29:02.948372Z",
     "start_time": "2021-08-28T02:28:58.446067Z"
    },
    "scrolled": false
   },
   "outputs": [
    {
     "name": "stdout",
     "output_type": "stream",
     "text": [
      "find 1/160 errors\n",
      "====================================================================================================\n",
      "please order qty 1 lex-c544x1cg nbd to my hal in lenexa . thank you . \n"
     ]
    },
    {
     "data": {
      "text/html": [
       "<span class=\"tex2jax_ignore\"><div class=\"entities\" style=\"line-height: 2.5; direction: ltr\">please order qty 1 \n",
       "<mark class=\"entity\" style=\"background: #92E0AA; padding: 0.45em 0.6em; margin: 0 0.25em; line-height: 1; border-radius: 0.35em;\">\n",
       "    lex-c544x1cg nbd\n",
       "    <span style=\"font-size: 0.8em; font-weight: bold; line-height: 1; border-radius: 0.35em; vertical-align: middle; margin-left: 0.5rem\">PART_NUM</span>\n",
       "</mark>\n",
       " to my hal in lenexa . thank you . </div></span>"
      ],
      "text/plain": [
       "<IPython.core.display.HTML object>"
      ]
     },
     "metadata": {},
     "output_type": "display_data"
    },
    {
     "name": "stdout",
     "output_type": "stream",
     "text": [
      "------------------------- predict entities -------------------------\n",
      "('lex-c544x1cg nbd', 19, 35, 'PART_NUM')\n"
     ]
    }
   ],
   "source": [
    "parts = sample_parts\n",
    "texts, error_texts, errpr_parts = check_sample_parts(parts)\n",
    "print(f'find {len(error_texts)}/{len(parts)} errors')\n",
    "show_texts(error_texts, show_detail=True)  "
   ]
  },
  {
   "cell_type": "code",
   "execution_count": 45,
   "id": "eecfcbea",
   "metadata": {
    "ExecuteTime": {
     "end_time": "2021-08-25T11:30:14.675122Z",
     "start_time": "2021-08-25T11:30:14.670033Z"
    },
    "scrolled": false
   },
   "outputs": [
    {
     "name": "stdout",
     "output_type": "stream",
     "text": [
      "--------------------------------------------------\n",
      "please order qty 1 lex-c544x1cg nbd to my hal in lenexa . thank you . \n",
      "('lex-c544x1cg', 19, 31, 'PART_NUM')\n",
      "--------------------------------------------------\n",
      "please order qty 1 c314x+49a-90002 nbd to my hal in lenexa . thank you . \n",
      "\n"
     ]
    }
   ],
   "source": [
    "error_text_entities, error_pattern_matchs = generate_entity(error_texts, patterns=part_num_patterns)\n",
    "show_entity(error_text_entities, error_pattern_matchs)"
   ]
  },
  {
   "cell_type": "markdown",
   "id": "ce0ed3c6",
   "metadata": {},
   "source": [
    "I think that the issues are mainly caused by lacking of these parts in training data. \n",
    "\n",
    "There are 2 solutions:\n",
    "\n",
    "1. merge the results of regular expressions and the model.\n",
    "2. use data augmentation to generate a lot of random part numbers based on the rules."
   ]
  },
  {
   "cell_type": "markdown",
   "id": "26de5976",
   "metadata": {},
   "source": [
    "####  Find potentail part number"
   ]
  },
  {
   "cell_type": "code",
   "execution_count": 48,
   "id": "876d9444",
   "metadata": {
    "ExecuteTime": {
     "end_time": "2021-08-25T11:30:43.500689Z",
     "start_time": "2021-08-25T11:30:43.246406Z"
    }
   },
   "outputs": [
    {
     "name": "stdout",
     "output_type": "stream",
     "text": [
      "find 0/2 errors\n",
      "====================================================================================================\n",
      "please order qty 1 fe-15520-02 nbd to my hal in lenexa . thank you . \n"
     ]
    },
    {
     "data": {
      "text/html": [
       "<span class=\"tex2jax_ignore\"><div class=\"entities\" style=\"line-height: 2.5; direction: ltr\">please order qty 1 \n",
       "<mark class=\"entity\" style=\"background: #92E0AA; padding: 0.45em 0.6em; margin: 0 0.25em; line-height: 1; border-radius: 0.35em;\">\n",
       "    fe-15520-02\n",
       "    <span style=\"font-size: 0.8em; font-weight: bold; line-height: 1; border-radius: 0.35em; vertical-align: middle; margin-left: 0.5rem\">PART_NUM</span>\n",
       "</mark>\n",
       " nbd to my hal in lenexa . thank you . </div></span>"
      ],
      "text/plain": [
       "<IPython.core.display.HTML object>"
      ]
     },
     "metadata": {},
     "output_type": "display_data"
    },
    {
     "name": "stdout",
     "output_type": "stream",
     "text": [
      "------------------------- predict entities -------------------------\n",
      "('fe-15520-02', 19, 30, 'PART_NUM')\n",
      "====================================================================================================\n",
      "please order qty 1 fe-15520-012 nbd to my hal in lenexa . thank you . \n"
     ]
    },
    {
     "data": {
      "text/html": [
       "<span class=\"tex2jax_ignore\"><div class=\"entities\" style=\"line-height: 2.5; direction: ltr\">please order qty 1 \n",
       "<mark class=\"entity\" style=\"background: #92E0AA; padding: 0.45em 0.6em; margin: 0 0.25em; line-height: 1; border-radius: 0.35em;\">\n",
       "    fe-15520-012\n",
       "    <span style=\"font-size: 0.8em; font-weight: bold; line-height: 1; border-radius: 0.35em; vertical-align: middle; margin-left: 0.5rem\">PART_NUM</span>\n",
       "</mark>\n",
       " nbd to my hal in lenexa . thank you . </div></span>"
      ],
      "text/plain": [
       "<IPython.core.display.HTML object>"
      ]
     },
     "metadata": {},
     "output_type": "display_data"
    },
    {
     "name": "stdout",
     "output_type": "stream",
     "text": [
      "------------------------- predict entities -------------------------\n",
      "('fe-15520-012', 19, 31, 'PART_NUM')\n"
     ]
    }
   ],
   "source": [
    "parts = ['FE-15520-02', 'FE-15520-012']\n",
    "texts, error_texts, errpr_parts = check_sample_parts(parts)\n",
    "print(f'find {len(error_texts)}/{len(parts)} errors')\n",
    "show_texts(texts)"
   ]
  },
  {
   "cell_type": "code",
   "execution_count": 42,
   "id": "b3a10c55",
   "metadata": {
    "ExecuteTime": {
     "end_time": "2021-08-25T11:29:45.026586Z",
     "start_time": "2021-08-25T11:29:45.021373Z"
    }
   },
   "outputs": [
    {
     "name": "stdout",
     "output_type": "stream",
     "text": [
      "--------------------------------------------------\n",
      "please order qty 1 fe-15520-02 nbd to my hal in lenexa . thank you . \n",
      "('fe-15520-02', 19, 30, 'PART_NUM')\n",
      "--------------------------------------------------\n",
      "please order qty 1 fe-15520-012 nbd to my hal in lenexa . thank you . \n",
      "\n"
     ]
    }
   ],
   "source": [
    "some_text_entities, some_pattern_matchs = generate_entity(texts, patterns=part_num_patterns)\n",
    "show_entity(some_text_entities, some_pattern_matchs)"
   ]
  },
  {
   "cell_type": "markdown",
   "id": "f5a68cad",
   "metadata": {},
   "source": [
    "## Output Results"
   ]
  },
  {
   "cell_type": "code",
   "execution_count": 77,
   "id": "df2892ed",
   "metadata": {
    "ExecuteTime": {
     "end_time": "2021-08-25T11:59:34.611044Z",
     "start_time": "2021-08-25T11:52:02.851096Z"
    }
   },
   "outputs": [
    {
     "name": "stderr",
     "output_type": "stream",
     "text": [
      "100%|██████████| 7039/7039 [07:31<00:00, 15.59it/s]\n"
     ]
    }
   ],
   "source": [
    "texts = [standardize_text1(note) for note in df_case.notes]\n",
    "# nlp.pipe(texts) is better, but can't see the progress\n",
    "docs = [nlp(text) for text in tqdm(texts)]"
   ]
  },
  {
   "cell_type": "code",
   "execution_count": 84,
   "id": "fe5490b7",
   "metadata": {
    "ExecuteTime": {
     "end_time": "2021-08-25T12:01:48.060924Z",
     "start_time": "2021-08-25T12:01:48.005155Z"
    }
   },
   "outputs": [
    {
     "name": "stderr",
     "output_type": "stream",
     "text": [
      "100%|██████████| 7039/7039 [00:00<00:00, 146778.22it/s]\n"
     ]
    }
   ],
   "source": [
    "def get_part_nums(docs):\n",
    "    part_nums = []\n",
    "    for doc in tqdm(docs):\n",
    "        doc_part_nums = [ent.text.upper() for ent in doc.ents if  ' ' not in ent.text]\n",
    "        part_nums.append(', '.join(doc_part_nums))            \n",
    "    return part_nums \n",
    "\n",
    "part_nums = get_part_nums(docs)\n",
    "df_case['Part_Number'] = part_nums"
   ]
  },
  {
   "cell_type": "code",
   "execution_count": 86,
   "id": "2da7ae3b",
   "metadata": {
    "ExecuteTime": {
     "end_time": "2021-08-25T12:02:05.327916Z",
     "start_time": "2021-08-25T12:02:05.322076Z"
    }
   },
   "outputs": [
    {
     "name": "stdout",
     "output_type": "stream",
     "text": [
      "7039\n",
      "CH538-67076, T8W16-67006, CH538-67018, CK839-67005, CN727-67023, W6B55-67007\n"
     ]
    },
    {
     "data": {
      "text/plain": [
       "'CH538-67076, T8W16-67006, CH538-67018, CK839-67005, CN727-67023, W6B55-67007'"
      ]
     },
     "execution_count": 86,
     "metadata": {},
     "output_type": "execute_result"
    }
   ],
   "source": [
    "print(len(part_nums))\n",
    "print(part_nums[14], sep='\\n') \n",
    "df_case.loc[15]['Part_Number']"
   ]
  },
  {
   "cell_type": "code",
   "execution_count": 93,
   "id": "56c24943",
   "metadata": {
    "ExecuteTime": {
     "end_time": "2021-08-25T12:17:17.465029Z",
     "start_time": "2021-08-25T12:17:17.208097Z"
    }
   },
   "outputs": [
    {
     "name": "stderr",
     "output_type": "stream",
     "text": [
      "100%|██████████| 19/19 [00:00<00:00, 89.61it/s]\n"
     ]
    },
    {
     "data": {
      "text/html": [
       "<div>\n",
       "<style scoped>\n",
       "    .dataframe tbody tr th:only-of-type {\n",
       "        vertical-align: middle;\n",
       "    }\n",
       "\n",
       "    .dataframe tbody tr th {\n",
       "        vertical-align: top;\n",
       "    }\n",
       "\n",
       "    .dataframe thead th {\n",
       "        text-align: right;\n",
       "    }\n",
       "</style>\n",
       "<table border=\"1\" class=\"dataframe\">\n",
       "  <thead>\n",
       "    <tr style=\"text-align: right;\">\n",
       "      <th></th>\n",
       "      <th>notes</th>\n",
       "      <th>order</th>\n",
       "      <th>recommended</th>\n",
       "      <th>hfpu</th>\n",
       "      <th>ship</th>\n",
       "      <th>fedex</th>\n",
       "      <th>hal</th>\n",
       "      <th>site</th>\n",
       "      <th>send</th>\n",
       "      <th>location</th>\n",
       "      <th>pickup</th>\n",
       "      <th>sent</th>\n",
       "      <th>requested</th>\n",
       "      <th>reorder</th>\n",
       "      <th>street</th>\n",
       "      <th>hfp</th>\n",
       "      <th>shipped</th>\n",
       "      <th>delivery</th>\n",
       "      <th>recommend</th>\n",
       "      <th>warehouse</th>\n",
       "    </tr>\n",
       "  </thead>\n",
       "  <tbody>\n",
       "    <tr>\n",
       "      <th>1</th>\n",
       "      <td>#NORMAL Part escalated</td>\n",
       "      <td></td>\n",
       "      <td></td>\n",
       "      <td></td>\n",
       "      <td></td>\n",
       "      <td></td>\n",
       "      <td></td>\n",
       "      <td></td>\n",
       "      <td></td>\n",
       "      <td></td>\n",
       "      <td></td>\n",
       "      <td></td>\n",
       "      <td></td>\n",
       "      <td></td>\n",
       "      <td></td>\n",
       "      <td></td>\n",
       "      <td></td>\n",
       "      <td></td>\n",
       "      <td></td>\n",
       "      <td></td>\n",
       "    </tr>\n",
       "    <tr>\n",
       "      <th>2</th>\n",
       "      <td>Please cancel backordered part. Customer has c...</td>\n",
       "      <td></td>\n",
       "      <td></td>\n",
       "      <td></td>\n",
       "      <td></td>\n",
       "      <td></td>\n",
       "      <td></td>\n",
       "      <td></td>\n",
       "      <td></td>\n",
       "      <td></td>\n",
       "      <td></td>\n",
       "      <td></td>\n",
       "      <td></td>\n",
       "      <td></td>\n",
       "      <td></td>\n",
       "      <td></td>\n",
       "      <td></td>\n",
       "      <td></td>\n",
       "      <td></td>\n",
       "      <td></td>\n",
       "    </tr>\n",
       "    <tr>\n",
       "      <th>3</th>\n",
       "      <td>According to bryan this laptop shows repair co...</td>\n",
       "      <td></td>\n",
       "      <td></td>\n",
       "      <td></td>\n",
       "      <td></td>\n",
       "      <td></td>\n",
       "      <td></td>\n",
       "      <td></td>\n",
       "      <td></td>\n",
       "      <td></td>\n",
       "      <td></td>\n",
       "      <td></td>\n",
       "      <td></td>\n",
       "      <td></td>\n",
       "      <td></td>\n",
       "      <td></td>\n",
       "      <td></td>\n",
       "      <td></td>\n",
       "      <td></td>\n",
       "      <td></td>\n",
       "    </tr>\n",
       "    <tr>\n",
       "      <th>4</th>\n",
       "      <td>Back order part</td>\n",
       "      <td>1</td>\n",
       "      <td></td>\n",
       "      <td></td>\n",
       "      <td></td>\n",
       "      <td></td>\n",
       "      <td></td>\n",
       "      <td></td>\n",
       "      <td></td>\n",
       "      <td></td>\n",
       "      <td></td>\n",
       "      <td></td>\n",
       "      <td></td>\n",
       "      <td></td>\n",
       "      <td></td>\n",
       "      <td></td>\n",
       "      <td></td>\n",
       "      <td></td>\n",
       "      <td></td>\n",
       "      <td></td>\n",
       "    </tr>\n",
       "    <tr>\n",
       "      <th>5</th>\n",
       "      <td></td>\n",
       "      <td></td>\n",
       "      <td></td>\n",
       "      <td></td>\n",
       "      <td></td>\n",
       "      <td></td>\n",
       "      <td></td>\n",
       "      <td></td>\n",
       "      <td></td>\n",
       "      <td></td>\n",
       "      <td></td>\n",
       "      <td></td>\n",
       "      <td></td>\n",
       "      <td></td>\n",
       "      <td></td>\n",
       "      <td></td>\n",
       "      <td></td>\n",
       "      <td></td>\n",
       "      <td></td>\n",
       "      <td></td>\n",
       "    </tr>\n",
       "    <tr>\n",
       "      <th>...</th>\n",
       "      <td>...</td>\n",
       "      <td>...</td>\n",
       "      <td>...</td>\n",
       "      <td>...</td>\n",
       "      <td>...</td>\n",
       "      <td>...</td>\n",
       "      <td>...</td>\n",
       "      <td>...</td>\n",
       "      <td>...</td>\n",
       "      <td>...</td>\n",
       "      <td>...</td>\n",
       "      <td>...</td>\n",
       "      <td>...</td>\n",
       "      <td>...</td>\n",
       "      <td>...</td>\n",
       "      <td>...</td>\n",
       "      <td>...</td>\n",
       "      <td>...</td>\n",
       "      <td>...</td>\n",
       "      <td>...</td>\n",
       "    </tr>\n",
       "    <tr>\n",
       "      <th>7035</th>\n",
       "      <td>Please order the following part.  Qty. 1 B5L04...</td>\n",
       "      <td>1</td>\n",
       "      <td></td>\n",
       "      <td></td>\n",
       "      <td></td>\n",
       "      <td></td>\n",
       "      <td></td>\n",
       "      <td></td>\n",
       "      <td></td>\n",
       "      <td></td>\n",
       "      <td></td>\n",
       "      <td></td>\n",
       "      <td></td>\n",
       "      <td></td>\n",
       "      <td></td>\n",
       "      <td></td>\n",
       "      <td></td>\n",
       "      <td></td>\n",
       "      <td></td>\n",
       "      <td></td>\n",
       "    </tr>\n",
       "    <tr>\n",
       "      <th>7036</th>\n",
       "      <td>Please reassign to lms</td>\n",
       "      <td></td>\n",
       "      <td></td>\n",
       "      <td></td>\n",
       "      <td></td>\n",
       "      <td></td>\n",
       "      <td></td>\n",
       "      <td></td>\n",
       "      <td></td>\n",
       "      <td></td>\n",
       "      <td></td>\n",
       "      <td></td>\n",
       "      <td></td>\n",
       "      <td></td>\n",
       "      <td></td>\n",
       "      <td></td>\n",
       "      <td></td>\n",
       "      <td></td>\n",
       "      <td></td>\n",
       "      <td></td>\n",
       "    </tr>\n",
       "    <tr>\n",
       "      <th>7037</th>\n",
       "      <td>dahlia.garcia@hp.com</td>\n",
       "      <td></td>\n",
       "      <td></td>\n",
       "      <td></td>\n",
       "      <td></td>\n",
       "      <td></td>\n",
       "      <td></td>\n",
       "      <td></td>\n",
       "      <td></td>\n",
       "      <td></td>\n",
       "      <td></td>\n",
       "      <td></td>\n",
       "      <td></td>\n",
       "      <td></td>\n",
       "      <td></td>\n",
       "      <td></td>\n",
       "      <td></td>\n",
       "      <td></td>\n",
       "      <td></td>\n",
       "      <td></td>\n",
       "    </tr>\n",
       "    <tr>\n",
       "      <th>7038</th>\n",
       "      <td>Please order 842275-001 and have it ship to HF...</td>\n",
       "      <td>1</td>\n",
       "      <td></td>\n",
       "      <td>1</td>\n",
       "      <td>1</td>\n",
       "      <td>1</td>\n",
       "      <td></td>\n",
       "      <td></td>\n",
       "      <td></td>\n",
       "      <td></td>\n",
       "      <td></td>\n",
       "      <td></td>\n",
       "      <td></td>\n",
       "      <td></td>\n",
       "      <td></td>\n",
       "      <td></td>\n",
       "      <td></td>\n",
       "      <td></td>\n",
       "      <td></td>\n",
       "      <td></td>\n",
       "    </tr>\n",
       "    <tr>\n",
       "      <th>7039</th>\n",
       "      <td>I am overbooked now and this is only a diagnos...</td>\n",
       "      <td></td>\n",
       "      <td></td>\n",
       "      <td></td>\n",
       "      <td></td>\n",
       "      <td></td>\n",
       "      <td></td>\n",
       "      <td></td>\n",
       "      <td></td>\n",
       "      <td></td>\n",
       "      <td></td>\n",
       "      <td></td>\n",
       "      <td></td>\n",
       "      <td></td>\n",
       "      <td></td>\n",
       "      <td></td>\n",
       "      <td></td>\n",
       "      <td></td>\n",
       "      <td></td>\n",
       "      <td></td>\n",
       "    </tr>\n",
       "  </tbody>\n",
       "</table>\n",
       "<p>7039 rows × 20 columns</p>\n",
       "</div>"
      ],
      "text/plain": [
       "                                                  notes order recommended  \\\n",
       "1                                #NORMAL Part escalated                     \n",
       "2     Please cancel backordered part. Customer has c...                     \n",
       "3     According to bryan this laptop shows repair co...                     \n",
       "4                                       Back order part     1               \n",
       "5                                                                           \n",
       "...                                                 ...   ...         ...   \n",
       "7035  Please order the following part.  Qty. 1 B5L04...     1               \n",
       "7036                             Please reassign to lms                     \n",
       "7037                               dahlia.garcia@hp.com                     \n",
       "7038  Please order 842275-001 and have it ship to HF...     1               \n",
       "7039  I am overbooked now and this is only a diagnos...                     \n",
       "\n",
       "     hfpu ship fedex hal site send location pickup sent requested reorder  \\\n",
       "1                                                                           \n",
       "2                                                                           \n",
       "3                                                                           \n",
       "4                                                                           \n",
       "5                                                                           \n",
       "...   ...  ...   ...  ..  ...  ...      ...    ...  ...       ...     ...   \n",
       "7035                                                                        \n",
       "7036                                                                        \n",
       "7037                                                                        \n",
       "7038    1    1     1                                                        \n",
       "7039                                                                        \n",
       "\n",
       "     street hfp shipped delivery recommend warehouse  \n",
       "1                                                     \n",
       "2                                                     \n",
       "3                                                     \n",
       "4                                                     \n",
       "5                                                     \n",
       "...     ...  ..     ...      ...       ...       ...  \n",
       "7035                                                  \n",
       "7036                                                  \n",
       "7037                                                  \n",
       "7038                                                  \n",
       "7039                                                  \n",
       "\n",
       "[7039 rows x 20 columns]"
      ]
     },
     "execution_count": 93,
     "metadata": {},
     "output_type": "execute_result"
    }
   ],
   "source": [
    "def fill_common_words(texts, df, patterns=common_words_patterns):\n",
    "    expressions = []\n",
    "    for pattern in tqdm(patterns):\n",
    "        expression = pattern['expression']  \n",
    "        expressions.append(expression)\n",
    "        match_counts = []\n",
    "        \n",
    "        for text in texts:\n",
    "            match_count = 0\n",
    "            for match in re.finditer(expression, text):\n",
    "                start, end = match.span()\n",
    "                add_key = True\n",
    "                if start-1 >= 0 and text[start-1]!=' ':\n",
    "                    add_key = False\n",
    "                if end < len(text) and text[end]!=' ':\n",
    "                    add_key = False                 \n",
    "                if add_key: \n",
    "                    match_count = match_count + 1 \n",
    "            match_counts.append(' ' if match_count==0 else str(match_count))            \n",
    "        df[expression] = match_counts    \n",
    "    return df[['notes'] + expressions] \n",
    "\n",
    "df_common_words = fill_common_words(texts, df_case)\n",
    "df_common_words"
   ]
  },
  {
   "cell_type": "code",
   "execution_count": 96,
   "id": "b9ceaf25",
   "metadata": {
    "ExecuteTime": {
     "end_time": "2021-08-25T12:20:33.070999Z",
     "start_time": "2021-08-25T12:20:19.434342Z"
    }
   },
   "outputs": [],
   "source": [
    "df_case.to_excel('./data/df_case.xlsx', sheet_name='notes')"
   ]
  },
  {
   "cell_type": "code",
   "execution_count": 97,
   "id": "62865a02",
   "metadata": {
    "ExecuteTime": {
     "end_time": "2021-08-25T13:32:02.587106Z",
     "start_time": "2021-08-25T13:32:02.549536Z"
    }
   },
   "outputs": [
    {
     "data": {
      "text/plain": [
       "[('please order part# j8j93–67901 nbd PART_NUM to address on work order',\n",
       "  {'entities': []})]"
      ]
     },
     "execution_count": 97,
     "metadata": {},
     "output_type": "execute_result"
    }
   ],
   "source": [
    "some_texts = ['please order part# j8j93–67901 nbd PART_NUM to address on work order']\n",
    "some_text_entities, some_pattern_matchs = generate_entity(some_texts, patterns=part_num_patterns)\n",
    "some_text_entities"
   ]
  },
  {
   "cell_type": "code",
   "execution_count": 101,
   "id": "215f22ef",
   "metadata": {
    "ExecuteTime": {
     "end_time": "2021-08-25T13:33:55.236064Z",
     "start_time": "2021-08-25T13:33:55.228354Z"
    }
   },
   "outputs": [
    {
     "name": "stdout",
     "output_type": "stream",
     "text": [
      "[a-zA-Z]\\d\\d\\d\\d\\d-\\d\\d\\d\n",
      "\\d\\d\\d\\d\\d\\d-\\d\\d\\d\n",
      "[a-zA-Z]\\d\\d\\d\\d\\d-[a-zA-Z]\\d\\d\n",
      "\\d\\d\\d\\d\\d\\d-[a-zA-Z][a-zA-Z]\\d\n",
      "\\d\\d\\d\\d\\d\\d-\\d[a-zA-Z]\\d\n",
      "\\d\\d\\d\\d\\d\\d-[a-zA-Z][a-zA-Z][a-zA-Z]\n",
      "[a-zA-Z]\\d\\d\\d\\d\\d-[a-zA-Z][a-zA-Z]\\d\n",
      "\\d\\d\\d\\d\\d\\d-[a-zA-Z]\\d\\d\n",
      "[a-zA-Z][a-zA-Z]-\\d\\d\\d\\d\\d-\\d\\d\n",
      "[a-zA-Z][a-zA-Z]\\d-\\d\\d\\d\\d-\\d\\d\\d[a-zA-Z][a-zA-Z]\n",
      "\\d\\d\\d\\d-\\d\\d\\d\\d\n",
      "\\d\\d\\d\\d-\\d\\d\\d\\d-\\d\n",
      "\\d[a-zA-Z][a-zA-Z]\\d\\d-\\d\\d\\d\\d\\d\n",
      "[a-zA-Z]\\d[a-zA-Z]\\d\\d-\\d\\d\\d\\d\\d\n",
      "\\d\\d\\d\\d\\d-\\d\\d\\d\\d\\d\n",
      "[a-zA-Z]\\d\\d\\d\\d-\\d\\d\\d\\d\\d\n",
      "\\d\\d\\d\\d\\d\\d-\\d\\d\\d[a-zA-Z]\n",
      "[a-zA-Z][a-zA-Z]\\d\\d\\d-\\d\\d\\d\\d\\d\n",
      "[a-zA-Z][a-zA-Z]\\d-\\d\\d\\d\\d[a-zA-Z][a-zA-Z][a-zA-Z][a-zA-Z]\n",
      "\\d-\\d\\d\\d-\\d\\d\\d-\\d\\d\n",
      "[a-zA-Z]-\\d\\d\\d\\d-\\d\\d\\d-\\d\n",
      "[a-zA-Z][a-zA-Z][a-zA-Z][a-zA-Z]\\d\\d\\d\\d-[a-zA-Z]\\d\\d\n",
      "\\d\\d\\d\\d-\\d\\d\\d-\\d\\d\\d\\d\\d\n",
      "\\d\\d-\\d\\d\\d\\d[a-zA-Z]-\\d\\d[a-zA-Z]\n",
      "\\d\\d-\\d\\d\\d\\d\\d-\\d\\d\\d\n",
      "[a-zA-Z][a-zA-Z][a-zA-Z]\\d\\d\\d\\d\\d-\\d\\d\\d\\d\\d\n",
      "\\d\\d\\d\\d\\d-\\d\\d\\d\\d\\d-[a-zA-Z][a-zA-Z]\n",
      "\\d\\d\\d-\\d\\d\\d\\d\\d\\d[a-zA-Z][a-zA-Z]\n",
      "\\d\\d\\d-\\d\\d\\d-\\d\\d\n",
      "\\d[a-zA-Z][a-zA-Z]\\d-\\d\\d\\d\\d\n",
      "\\d\\d\\d\\d-\\d\\d\\d\\d-[a-zA-Z][a-zA-Z][a-zA-Z][a-zA-Z]\n",
      "\\d\\d\\d\\d-\\d\\d\\d\\d[a-zA-Z]\n",
      "\\d\\d\\d\\d-\\d\\d\\d\\d-[a-zA-Z][a-zA-Z][a-zA-Z]\n",
      "\\d\\d\\d\\d\\d\\d[a-zA-Z]-\\d\\d\\d\n",
      "[a-zA-Z][a-zA-Z]\\d\\d[a-zA-Z]-[a-zA-Z]\\d\n",
      "\\d\\d-\\d\\d\\d\\d\\d-\\d\\d\n",
      "[a-zA-Z][a-zA-Z][a-zA-Z]-\\d[a-zA-Z]\\d\\d\\d\n",
      "[a-zA-Z][a-zA-Z][a-zA-Z]-\\d\\d[a-zA-Z]\\d\\d\\d\\d\n",
      "[a-zA-Z][a-zA-Z][a-zA-Z]-\\d\\d[a-zA-Z]\\d\\d\\d\\d[a-zA-Z]\n",
      "[a-zA-Z][a-zA-Z][a-zA-Z]-\\d\\d\\d\\d\\d\\d\\d\\d\\d\\d\n",
      "[a-zA-Z][a-zA-Z][a-zA-Z]-\\d\\d\\d\\d[a-zA-Z][a-zA-Z]\\d\\d\n",
      "[a-zA-Z][a-zA-Z][a-zA-Z]-\\d\\d\\d[a-zA-Z]\\d\\d\\d\\d\\d\n",
      "[a-zA-Z][a-zA-Z][a-zA-Z]-[a-zA-Z][a-zA-Z]\\d\\d\\d[a-zA-Z][a-zA-Z]\n",
      "[a-zA-Z][a-zA-Z][a-zA-Z]-\\d\\d\\d-\\d\\d\\d\\d\n",
      "[a-zA-Z][a-zA-Z][a-zA-Z]-[a-zA-Z][a-zA-Z]\\d\\d\\d\n",
      "[a-zA-Z][a-zA-Z][a-zA-Z]-\\d\\d\\d\\d[a-zA-Z]\\d\\d[a-zA-Z][a-zA-Z]\\d\n",
      "[a-zA-Z][a-zA-Z]\\d\\d-[a-zA-Z][a-zA-Z]\n",
      "[a-zA-Z][a-zA-Z][a-zA-Z]-[a-zA-Z][a-zA-Z]-\\d\\d\\d[a-zA-Z]\n",
      "[a-zA-Z][a-zA-Z][a-zA-Z]-[a-zA-Z]\\d\\d[a-zA-Z][a-zA-Z]\\d\\d[a-zA-Z]\\d\\d\\d\\d\n",
      "[a-zA-Z][a-zA-Z][a-zA-Z]-[a-zA-Z]\\d\\d\\d\\d\\d\\d[a-zA-Z]\n",
      "[a-zA-Z][a-zA-Z][a-zA-Z]-[a-zA-Z][a-zA-Z][a-zA-Z][a-zA-Z]-\\d\\d\\d[a-zA-Z]\n",
      "[a-zA-Z][a-zA-Z][a-zA-Z]-\\d\\d\\d\\d\\d[a-zA-Z][a-zA-Z]\n",
      "[a-zA-Z][a-zA-Z][a-zA-Z]-\\d\\d[a-zA-Z]\\d[a-zA-Z]\\d\\d\n",
      "[a-zA-Z][a-zA-Z][a-zA-Z]-\\d\\d[a-zA-Z]\\d[a-zA-Z][a-zA-Z]\\d\n",
      "[a-zA-Z][a-zA-Z][a-zA-Z]-\\d\\d\\d[a-zA-Z][a-zA-Z]\n",
      "[a-zA-Z][a-zA-Z][a-zA-Z]-[a-zA-Z]\\d\\d\\d\\d[a-zA-Z][a-zA-Z][a-zA-Z]\n",
      "[a-zA-Z][a-zA-Z][a-zA-Z]-\\d\\d-\\d\\d\\d\\d\\d-\\d\\d\\d\n",
      "[a-zA-Z][a-zA-Z][a-zA-Z]-[a-zA-Z]\\d\\d\\d[a-zA-Z]\\d[a-zA-Z][a-zA-Z]\n",
      "[a-zA-Z][a-zA-Z][a-zA-Z]-\\d\\d\\d\\d\\d\\d-\\d\\d\\d\n",
      "[a-zA-Z][a-zA-Z][a-zA-Z]-[a-zA-Z]-\\d\\d\\d\n",
      "[a-zA-Z][a-zA-Z][a-zA-Z]-[a-zA-Z]\\d\\d\\d[a-zA-Z]\\d\\d[a-zA-Z]-[a-zA-Z]\n",
      "[a-zA-Z][a-zA-Z][a-zA-Z]-[a-zA-Z]\\d\\d\\d\\d\\d\\d\\d\n",
      "[a-zA-Z][a-zA-Z][a-zA-Z]-[a-zA-Z][a-zA-Z]\\d\\d\\d\\d[a-zA-Z][a-zA-Z]\\d\\d\\d\n",
      "[a-zA-Z][a-zA-Z][a-zA-Z]-\\d\\d[a-zA-Z]\\d\\d\\d\\d-[a-zA-Z][a-zA-Z]\n",
      "[a-zA-Z][a-zA-Z][a-zA-Z]-[a-zA-Z][a-zA-Z]\\d\\d\\d[a-zA-Z]\n",
      "[a-zA-Z][a-zA-Z][a-zA-Z]-\\d\\d\\d\\d\\d\\d\n",
      "[a-zA-Z][a-zA-Z][a-zA-Z]-[a-zA-Z][a-zA-Z][a-zA-Z][a-zA-Z][a-zA-Z]\\d\\d\\d[a-zA-Z][a-zA-Z]\n",
      "[a-zA-Z][a-zA-Z][a-zA-Z]-\\d[a-zA-Z][a-zA-Z]\\d\\d\\d\\d\\d\\d\\d\n",
      "[a-zA-Z][a-zA-Z][a-zA-Z]-\\d\\d\\d\\d\\d\\d\\d\\d\\d\n",
      "[a-zA-Z][a-zA-Z][a-zA-Z]-\\d\\d\\d\\d[a-zA-Z][a-zA-Z][a-zA-Z]-\\d\\d\\d\n",
      "[a-zA-Z][a-zA-Z][a-zA-Z]-[a-zA-Z][a-zA-Z]\\d\\d\\d[a-zA-Z]-[a-zA-Z]\n",
      "[a-zA-Z][a-zA-Z][a-zA-Z]-[a-zA-Z]\\d\\d\\d-\\d\\d\\d\\d\\d\\d\n",
      "[a-zA-Z][a-zA-Z][a-zA-Z]-\\d[a-zA-Z][a-zA-Z]\\d[a-zA-Z]\n",
      "[a-zA-Z][a-zA-Z][a-zA-Z]-[a-zA-Z][a-zA-Z]\\d\\d-\\d\\d\\d\\d\\d[a-zA-Z]\n",
      "[a-zA-Z][a-zA-Z][a-zA-Z]-[a-zA-Z][a-zA-Z][a-zA-Z]\\d\n",
      "[a-zA-Z][a-zA-Z][a-zA-Z]-\\d\\d\\d\\d-\\d\\d\\d\n",
      "[a-zA-Z][a-zA-Z][a-zA-Z]-[a-zA-Z]\\d[a-zA-Z][a-zA-Z][a-zA-Z][a-zA-Z][a-zA-Z][a-zA-Z][a-zA-Z]\n",
      "[a-zA-Z][a-zA-Z][a-zA-Z]-\\d\\d\\d\\d\\d\\d\\d\\d\n",
      "[a-zA-Z][a-zA-Z][a-zA-Z]-\\d\\d\\d\\d\\d-\\d\\d-[a-zA-Z]\n",
      "[a-zA-Z][a-zA-Z][a-zA-Z]-[a-zA-Z][a-zA-Z][a-zA-Z]\\d\\d\\d[a-zA-Z]\n",
      "[a-zA-Z][a-zA-Z][a-zA-Z]-\\d\\d\\d\\d[a-zA-Z][a-zA-Z]\\d[a-zA-Z][a-zA-Z]\\d\n",
      "[a-zA-Z][a-zA-Z][a-zA-Z]-[a-zA-Z][a-zA-Z][a-zA-Z]\\d\\d\\d\\d[a-zA-Z][a-zA-Z]\\d[a-zA-Z]\n",
      "[a-zA-Z][a-zA-Z][a-zA-Z]-\\d\\d\\d[a-zA-Z][a-zA-Z]\\d\\d\\d\\d\\d\n",
      "[a-zA-Z][a-zA-Z][a-zA-Z]-[a-zA-Z][a-zA-Z]\\d\\d\\d-\\d\\d\\d\\d\\d\n",
      "[a-zA-Z][a-zA-Z][a-zA-Z]-\\d[a-zA-Z]\\d\\d[a-zA-Z][a-zA-Z]\\d[a-zA-Z][a-zA-Z]\\d\n",
      "\\d\\d\\d-[a-zA-Z]\\d[a-zA-Z][a-zA-Z]\\d\n",
      "[a-zA-Z][a-zA-Z][a-zA-Z]-[a-zA-Z][a-zA-Z]\\d\\d\\d\\d\\d\\d\n",
      "[a-zA-Z][a-zA-Z][a-zA-Z]-\\d\\d[a-zA-Z]\\d\\d\\d\\d\\d\n",
      "[a-zA-Z][a-zA-Z][a-zA-Z]-[a-zA-Z][a-zA-Z]\\d\\d\\d\\d\\d\\d\\d\n",
      "[a-zA-Z][a-zA-Z][a-zA-Z]-[a-zA-Z]\\d\\d[a-zA-Z][a-zA-Z]\\d\\d\\d\\d\\d\n",
      "[a-zA-Z][a-zA-Z][a-zA-Z]-\\d\\d\\d[a-zA-Z]\\d\\d\\d\\d\\d\\d\n",
      "[a-zA-Z][a-zA-Z][a-zA-Z]-[a-zA-Z][a-zA-Z][a-zA-Z]\\d\\d\\d\\d\\d\\d\n",
      "[a-zA-Z][a-zA-Z][a-zA-Z]-[a-zA-Z][a-zA-Z]\\d\\d\\d[a-zA-Z][a-zA-Z][a-zA-Z]\n",
      "\\d[a-zA-Z]-[a-zA-Z][a-zA-Z]\\d\\d\\d-[a-zA-Z]\\d\n",
      "\\d[a-zA-Z]\\d-\\d\\d\\d\\d-\\d\\d\\d[a-zA-Z][a-zA-Z]\n",
      "[a-zA-Z]\\d\\d\\d\\d-\\d\\d\\d\\d\\d[a-zA-Z][a-zA-Z][a-zA-Z][a-zA-Z]\n",
      "[a-zA-Z][a-zA-Z][a-zA-Z]-[a-zA-Z][a-zA-Z][a-zA-Z]\\d[a-zA-Z][a-zA-Z][a-zA-Z]\\d\\d\\d\n",
      "[a-zA-Z][a-zA-Z][a-zA-Z]-[a-zA-Z]\\d\\d\\d\\d\\d\\d\\d\\d\\d\n",
      "[a-zA-Z][a-zA-Z]\\d\\d-\\d\\d\\d\\d\\d[a-zA-Z]\n",
      "[a-zA-Z][a-zA-Z][a-zA-Z]-\\d\\d\\d\\d[a-zA-Z][a-zA-Z][a-zA-Z]\n",
      "[a-zA-Z][a-zA-Z][a-zA-Z]-\\d\\d\\d\\d[a-zA-Z][a-zA-Z][a-zA-Z]-[a-zA-Z]\n",
      "[a-zA-Z][a-zA-Z][a-zA-Z]-\\d\\d\\d\\d[a-zA-Z][a-zA-Z]\n",
      "[a-zA-Z][a-zA-Z][a-zA-Z]-\\d\\d\\d\\d-[a-zA-Z]\\d\n",
      "[a-zA-Z][a-zA-Z][a-zA-Z]-[a-zA-Z]\\d\\d\\d-[a-zA-Z]\\d\n",
      "[a-zA-Z][a-zA-Z][a-zA-Z]-[a-zA-Z]\\d\\d\\d[a-zA-Z]\n",
      "[a-zA-Z][a-zA-Z][a-zA-Z]-[a-zA-Z]\\d\\d\\d[a-zA-Z]\\d\\d[a-zA-Z]\n",
      "[a-zA-Z][a-zA-Z][a-zA-Z]-[a-zA-Z][a-zA-Z][a-zA-Z][a-zA-Z][a-zA-Z]\\d\\d\\d\\d[a-zA-Z]\n",
      "[a-zA-Z][a-zA-Z][a-zA-Z][a-zA-Z][a-zA-Z][a-zA-Z][a-zA-Z]-\\d\\d\\d\\d[a-zA-Z][a-zA-Z]\\d\\d\n",
      "[a-zA-Z][a-zA-Z][a-zA-Z]-\\d\\d\\d-\\d\\d\\d\\d-\\d\n",
      "\\d\\d-\\d\\d\\d\\d\n",
      "[a-zA-Z]\\d\\d\\d\\d-\\d\\d\\d\\d\\d-[a-zA-Z][a-zA-Z][a-zA-Z]\n",
      "[a-zA-Z]\\d\\d\\d[a-zA-Z][a-zA-Z]\\d\\d[a-zA-Z]-\\d\\d\\d\\d\\d\n",
      "\\d\\d[a-zA-Z][a-zA-Z]-\\d\\d\\d\\d\\d[a-zA-Z][a-zA-Z]\n",
      "[a-zA-Z][a-zA-Z]\\d-\\d\\d\\d\\d-[a-zA-Z][a-zA-Z][a-zA-Z][a-zA-Z]\n",
      "[a-zA-Z][a-zA-Z]\\d\\d\\d-\\d\\d\\d\\d\\d-[a-zA-Z][a-zA-Z]\n",
      "[a-zA-Z][a-zA-Z][a-zA-Z][a-zA-Z][a-zA-Z][a-zA-Z][a-zA-Z]-\\d\\d\\d\\d[a-zA-Z][a-zA-Z][a-zA-Z][a-zA-Z]\n",
      "[a-zA-Z][a-zA-Z][a-zA-Z][a-zA-Z][a-zA-Z][a-zA-Z][a-zA-Z]-\\d\\d\\d\\d[a-zA-Z][a-zA-Z][a-zA-Z]\\d\n",
      "\\d\\d\\d-\\d\\d-\\d\\d-\\d\\d\\d\n",
      "\\d\\d\\d\\d\\d\\d\\d\\d\\d-\\d\\d\n",
      "[a-zA-Z][a-zA-Z][a-zA-Z][a-zA-Z][a-zA-Z][a-zA-Z][a-zA-Z][a-zA-Z]\\d\\d\\d[a-zA-Z]\\d[a-zA-Z]-\\d\n",
      "[a-zA-Z][a-zA-Z][a-zA-Z][a-zA-Z][a-zA-Z][a-zA-Z][a-zA-Z][a-zA-Z][a-zA-Z]\\d\\d[a-zA-Z]\\d\\d-\\d\n",
      "[a-zA-Z][a-zA-Z][a-zA-Z][a-zA-Z]-[a-zA-Z][a-zA-Z]\\d\\d\\d\\d[a-zA-Z][a-zA-Z][a-zA-Z][a-zA-Z]\n",
      "[a-zA-Z][a-zA-Z][a-zA-Z][a-zA-Z][a-zA-Z][a-zA-Z]-[a-zA-Z]\\d\\d\\d\\d[a-zA-Z][a-zA-Z][a-zA-Z][a-zA-Z]\n",
      "[a-zA-Z][a-zA-Z][a-zA-Z][a-zA-Z][a-zA-Z][a-zA-Z][a-zA-Z][a-zA-Z]\\d[a-zA-Z]\\d\\d[a-zA-Z][a-zA-Z]-\\d\n",
      "[a-zA-Z][a-zA-Z][a-zA-Z][a-zA-Z][a-zA-Z]-[a-zA-Z][a-zA-Z]\\d\\d\\d\\d[a-zA-Z][a-zA-Z][a-zA-Z][a-zA-Z]\n",
      "\\d\\d\\d-\\d\\d\\d\\d\\d\\d\n",
      "[a-zA-Z][a-zA-Z][a-zA-Z][a-zA-Z][a-zA-Z][a-zA-Z][a-zA-Z][a-zA-Z]\\d[a-zA-Z]\\d\\d[a-zA-Z]\\d-\\d\\d\n",
      "[a-zA-Z]\\d\\d-\\d\\d\\d\\d\n",
      "\\d\\d\\d\\d\\d\\d\\d\\d\\d-\\d\n",
      "[a-zA-Z]\\d-[a-zA-Z][a-zA-Z][a-zA-Z][a-zA-Z][a-zA-Z]-\\d\\d\n",
      "[a-zA-Z][a-zA-Z]\\d-\\d\\d\\d\\d-\\d\\d\\d-[a-zA-Z][a-zA-Z]\n",
      "[a-zA-Z]\\d[a-zA-Z]\\d\\d-\\d\\d\\d\\d\\d-[a-zA-Z][a-zA-Z]\n",
      "[a-zA-Z][a-zA-Z]\\d\\d\\d\\d\\d-[a-zA-Z]\\d\\d\\d[a-zA-Z][a-zA-Z]\n",
      "[a-zA-Z][a-zA-Z]\\d\\d\\d-\\d\\d\\d\\d\\d-[a-zA-Z][a-zA-Z][a-zA-Z][a-zA-Z]\n",
      "[a-zA-Z][a-zA-Z]\\d\\d-[a-zA-Z]\\d\n",
      "[a-zA-Z][a-zA-Z][a-zA-Z][a-zA-Z][a-zA-Z][a-zA-Z]-[a-zA-Z]\\d\\d\\d\\d[a-zA-Z][a-zA-Z][a-zA-Z]\n",
      "[a-zA-Z][a-zA-Z]\\d\\d[a-zA-Z]-[a-zA-Z][a-zA-Z]\n",
      "[a-zA-Z][a-zA-Z][a-zA-Z][a-zA-Z][a-zA-Z][a-zA-Z]-\\d\\d\\d\\d[a-zA-Z][a-zA-Z][a-zA-Z][a-zA-Z]\n"
     ]
    }
   ],
   "source": [
    "print(*[pattern['expression'] for pattern in part_num_patterns], sep='\\n')"
   ]
  },
  {
   "cell_type": "code",
   "execution_count": 111,
   "id": "2d92312f",
   "metadata": {
    "ExecuteTime": {
     "end_time": "2021-08-25T13:44:05.911659Z",
     "start_time": "2021-08-25T13:44:05.907529Z"
    }
   },
   "outputs": [
    {
     "data": {
      "text/plain": [
       "[]"
      ]
     },
     "execution_count": 111,
     "metadata": {},
     "output_type": "execute_result"
    }
   ],
   "source": [
    "re.findall(r'[a-zA-Z]\\d[a-zA-Z]\\d\\d-\\d\\d\\d\\d\\d', some_texts[0])"
   ]
  },
  {
   "cell_type": "code",
   "execution_count": 120,
   "id": "c5e36580",
   "metadata": {
    "ExecuteTime": {
     "end_time": "2021-08-25T13:45:40.357199Z",
     "start_time": "2021-08-25T13:45:40.353208Z"
    }
   },
   "outputs": [
    {
     "data": {
      "text/plain": [
       "['j8j93–67901']"
      ]
     },
     "execution_count": 120,
     "metadata": {},
     "output_type": "execute_result"
    }
   ],
   "source": [
    "re.findall(r'[a-zA-Z]\\d[a-zA-Z]\\d\\d–\\d\\d\\d\\d\\d', some_texts[0]) "
   ]
  },
  {
   "cell_type": "code",
   "execution_count": 106,
   "id": "64b820de",
   "metadata": {
    "ExecuteTime": {
     "end_time": "2021-08-25T13:43:02.299872Z",
     "start_time": "2021-08-25T13:43:02.296069Z"
    }
   },
   "outputs": [
    {
     "data": {
      "text/plain": [
       "'please order part# j8j93–67901 nbd PART_NUM to address on work order'"
      ]
     },
     "execution_count": 106,
     "metadata": {},
     "output_type": "execute_result"
    }
   ],
   "source": [
    "some_texts[0]"
   ]
  },
  {
   "cell_type": "code",
   "execution_count": 121,
   "id": "6cc5d20f",
   "metadata": {
    "ExecuteTime": {
     "end_time": "2021-08-25T13:45:58.990235Z",
     "start_time": "2021-08-25T13:45:58.986363Z"
    }
   },
   "outputs": [
    {
     "data": {
      "text/plain": [
       "False"
      ]
     },
     "execution_count": 121,
     "metadata": {},
     "output_type": "execute_result"
    }
   ],
   "source": [
    "'-' == '–'"
   ]
  },
  {
   "cell_type": "code",
   "execution_count": null,
   "id": "d8848de1",
   "metadata": {},
   "outputs": [],
   "source": []
  }
 ],
 "metadata": {
  "kernelspec": {
   "display_name": "Python 3",
   "language": "python",
   "name": "python3"
  },
  "language_info": {
   "codemirror_mode": {
    "name": "ipython",
    "version": 3
   },
   "file_extension": ".py",
   "mimetype": "text/x-python",
   "name": "python",
   "nbconvert_exporter": "python",
   "pygments_lexer": "ipython3",
   "version": "3.6.9"
  },
  "toc": {
   "base_numbering": 1,
   "nav_menu": {},
   "number_sections": true,
   "sideBar": true,
   "skip_h1_title": false,
   "title_cell": "Table of Contents",
   "title_sidebar": "Contents",
   "toc_cell": false,
   "toc_position": {
    "height": "calc(100% - 180px)",
    "left": "10px",
    "top": "150px",
    "width": "426.641px"
   },
   "toc_section_display": true,
   "toc_window_display": true
  }
 },
 "nbformat": 4,
 "nbformat_minor": 5
}
