{
 "cells": [
  {
   "cell_type": "code",
   "execution_count": 1,
   "id": "28990d1b",
   "metadata": {
    "ExecuteTime": {
     "end_time": "2021-08-25T00:30:49.507035Z",
     "start_time": "2021-08-25T00:30:45.483704Z"
    }
   },
   "outputs": [],
   "source": [
    "import csv\n",
    "import exrex # !pip install exrex\n",
    "import pandas as pd\n",
    "import numpy as np\n",
    "import re \n",
    "import spacy\n",
    "\n",
    "from tqdm import tqdm\n",
    "from spacy.tokens import DocBin\n",
    "from sklearn.model_selection import train_test_split\n",
    "\n",
    "# ebablbe auto-completion\n",
    "%config Completer.use_jedi = False"
   ]
  },
  {
   "cell_type": "markdown",
   "id": "241f2b20",
   "metadata": {},
   "source": [
    "## Generate Config File\n",
    "\n",
    "download model."
   ]
  },
  {
   "cell_type": "code",
   "execution_count": 2,
   "id": "15a880fa",
   "metadata": {
    "ExecuteTime": {
     "end_time": "2021-08-25T00:30:49.511829Z",
     "start_time": "2021-08-25T00:30:49.509461Z"
    }
   },
   "outputs": [],
   "source": [
    "# !python -m spacy download en_core_web_trf"
   ]
  },
  {
   "cell_type": "markdown",
   "id": "f2a19cea",
   "metadata": {},
   "source": [
    "generate base_config.cfg and base_config_gpu.cfg on https://spacy.io/usage/training#quickstart"
   ]
  },
  {
   "cell_type": "code",
   "execution_count": 3,
   "id": "9704539b",
   "metadata": {
    "ExecuteTime": {
     "end_time": "2021-08-25T00:30:49.519553Z",
     "start_time": "2021-08-25T00:30:49.514541Z"
    }
   },
   "outputs": [],
   "source": [
    "# !python -m spacy init fill-config base_config.cfg config.cfg\n",
    "# !python -m spacy init fill-config base_config_gpu.cfg config_gpu.cfg"
   ]
  },
  {
   "cell_type": "markdown",
   "id": "4b171699",
   "metadata": {},
   "source": [
    "## Gather Data"
   ]
  },
  {
   "cell_type": "markdown",
   "id": "00ed4da0",
   "metadata": {},
   "source": [
    "###  Convert Excel to Txt\n",
    "upload the excel file to http://15.15.166.35:18888/tree/eipi10/jian-xu3/snps-classification/snps/etl/data/case_note_ner/xlsx\n",
    "\n",
    "~~~shell\n",
    "!pip install xlrd==1.2.0\n",
    "~~~"
   ]
  },
  {
   "cell_type": "code",
   "execution_count": 4,
   "id": "800baa96",
   "metadata": {
    "ExecuteTime": {
     "end_time": "2021-08-25T00:30:49.529313Z",
     "start_time": "2021-08-25T00:30:49.521987Z"
    }
   },
   "outputs": [],
   "source": [
    "# !ls -l /tf/eipi10/jian-xu3/snps-classification/snps/etl/data/case_note_ner/xlsx/ "
   ]
  },
  {
   "cell_type": "code",
   "execution_count": 5,
   "id": "a8e4e1c7",
   "metadata": {
    "ExecuteTime": {
     "end_time": "2021-08-25T00:30:49.536350Z",
     "start_time": "2021-08-25T00:30:49.531588Z"
    }
   },
   "outputs": [],
   "source": [
    "# ! /tf/eipi10/jian-xu3/snps-classification/snps/etl/xlsx2txt.py  case_note_ner '' 1 '\\t'"
   ]
  },
  {
   "cell_type": "markdown",
   "id": "e640dc4b",
   "metadata": {},
   "source": [
    "### Load Txt File"
   ]
  },
  {
   "cell_type": "code",
   "execution_count": 6,
   "id": "c7829e62",
   "metadata": {
    "ExecuteTime": {
     "end_time": "2021-08-25T00:30:49.598776Z",
     "start_time": "2021-08-25T00:30:49.538556Z"
    }
   },
   "outputs": [],
   "source": [
    "\n",
    "def load_data(text_file):\n",
    "    names = ['Case_ID', 'Work_Order_Number', 'Created_On', 'Service_Account', 'Due_Date', \n",
    "             'Action_Booking_status', 'Action_Date', 'Currently_Worked_by', 'Owner', 'Product_Line', \n",
    "             'Follow_Up_Reason_Code', 'Response_Time', 'Work_Order_Type', 'Postal_Code', 'Active_Booking', \n",
    "             'Follow_Up_Type', 'Business_Segment', 'Follow_Up_Note', 'Reschedule_Note']\n",
    "    dtypes = [np.str, np.str, np.str, np.str, np.str, \n",
    "              np.str, np.str, np.str, np.str, np.str, \n",
    "              np.str, np.str, np.str, np.str, np.str,\n",
    "              np.str, np.str, np.str, np.str]\n",
    "    dtypes = {name:dtype for name, dtype in zip(names, dtypes)}\n",
    "    df = pd.read_table(text_file, names=names, dtype=dtypes, quoting=csv.QUOTE_NONE)\n",
    "\n",
    "    df.index = range(1, len(df)+1) \n",
    "    df['id'] = df.index\n",
    "      \n",
    "    return df\n",
    "\n",
    "text_file='/tf/eipi10/jian-xu3/snps-classification/snps/etl/data/case_note_ner/txt/3RS_July_Extraction_with_notes_004.txt'\n",
    "df_case = load_data(text_file)"
   ]
  },
  {
   "cell_type": "code",
   "execution_count": 7,
   "id": "539ade87",
   "metadata": {
    "ExecuteTime": {
     "end_time": "2021-08-25T00:30:49.689368Z",
     "start_time": "2021-08-25T00:30:49.601059Z"
    }
   },
   "outputs": [
    {
     "name": "stdout",
     "output_type": "stream",
     "text": [
      "--------------------------------------------------\n",
      "7039\n",
      "--------------------------------------------------\n"
     ]
    },
    {
     "data": {
      "text/html": [
       "<div>\n",
       "<style scoped>\n",
       "    .dataframe tbody tr th:only-of-type {\n",
       "        vertical-align: middle;\n",
       "    }\n",
       "\n",
       "    .dataframe tbody tr th {\n",
       "        vertical-align: top;\n",
       "    }\n",
       "\n",
       "    .dataframe thead th {\n",
       "        text-align: right;\n",
       "    }\n",
       "</style>\n",
       "<table border=\"1\" class=\"dataframe\">\n",
       "  <thead>\n",
       "    <tr style=\"text-align: right;\">\n",
       "      <th></th>\n",
       "      <th>Case_ID</th>\n",
       "      <th>Work_Order_Number</th>\n",
       "      <th>Created_On</th>\n",
       "      <th>Service_Account</th>\n",
       "      <th>Due_Date</th>\n",
       "      <th>Action_Booking_status</th>\n",
       "      <th>Action_Date</th>\n",
       "      <th>Currently_Worked_by</th>\n",
       "      <th>Owner</th>\n",
       "      <th>Product_Line</th>\n",
       "      <th>Follow_Up_Reason_Code</th>\n",
       "      <th>Response_Time</th>\n",
       "      <th>Work_Order_Type</th>\n",
       "      <th>Postal_Code</th>\n",
       "      <th>Active_Booking</th>\n",
       "      <th>Follow_Up_Type</th>\n",
       "      <th>Business_Segment</th>\n",
       "      <th>Follow_Up_Note</th>\n",
       "      <th>Reschedule_Note</th>\n",
       "      <th>id</th>\n",
       "    </tr>\n",
       "  </thead>\n",
       "  <tbody>\n",
       "    <tr>\n",
       "      <th>1</th>\n",
       "      <td>5060815932</td>\n",
       "      <td>WO-012952625</td>\n",
       "      <td>2021-02-03 10:38:00</td>\n",
       "      <td>William Torres</td>\n",
       "      <td>2021-04-26 15:00:00</td>\n",
       "      <td>Additional Parts Required</td>\n",
       "      <td>2021-07-03 11:45:00</td>\n",
       "      <td>Kerby Singleton</td>\n",
       "      <td>Nancy Quesada</td>\n",
       "      <td>Commercial Desktop PC Premium L6</td>\n",
       "      <td>NaN</td>\n",
       "      <td>NCD</td>\n",
       "      <td>Break Fix</td>\n",
       "      <td>30305</td>\n",
       "      <td>PC-Kerby Singleton</td>\n",
       "      <td>Additional Parts Required</td>\n",
       "      <td>Computing</td>\n",
       "      <td>NaN</td>\n",
       "      <td>#NORMAL Part escalated</td>\n",
       "      <td>1</td>\n",
       "    </tr>\n",
       "    <tr>\n",
       "      <th>2</th>\n",
       "      <td>5060815932</td>\n",
       "      <td>WO-012952625</td>\n",
       "      <td>2021-02-03 10:38:00</td>\n",
       "      <td>William Torres</td>\n",
       "      <td>2021-04-26 15:00:00</td>\n",
       "      <td>Additional Parts Required</td>\n",
       "      <td>2021-07-03 11:45:00</td>\n",
       "      <td>Kerby Singleton</td>\n",
       "      <td>Nancy Quesada</td>\n",
       "      <td>Commercial Desktop PC Premium L6</td>\n",
       "      <td>NaN</td>\n",
       "      <td>NCD</td>\n",
       "      <td>Break Fix</td>\n",
       "      <td>30305</td>\n",
       "      <td>PC-Kerby Singleton</td>\n",
       "      <td>Additional Parts Required</td>\n",
       "      <td>Computing</td>\n",
       "      <td>NaN</td>\n",
       "      <td>Please cancel backordered part. Customer has c...</td>\n",
       "      <td>2</td>\n",
       "    </tr>\n",
       "    <tr>\n",
       "      <th>3</th>\n",
       "      <td>5061272897</td>\n",
       "      <td>WO-013009621</td>\n",
       "      <td>2021-02-09 13:39:00</td>\n",
       "      <td>LAS VEGAS METRO POLICE DEPT</td>\n",
       "      <td>2021-02-24 19:00:00</td>\n",
       "      <td>Additional Parts Required</td>\n",
       "      <td>2021-07-16 15:30:00</td>\n",
       "      <td>NaN</td>\n",
       "      <td>Avinash Shukla</td>\n",
       "      <td>Commercial Premium Notebooks</td>\n",
       "      <td>NaN</td>\n",
       "      <td>NCD</td>\n",
       "      <td>Break Fix</td>\n",
       "      <td>89101</td>\n",
       "      <td>PC-Joe Walper</td>\n",
       "      <td>Additional Parts Required</td>\n",
       "      <td>Computing</td>\n",
       "      <td>NaN</td>\n",
       "      <td>According to bryan this laptop shows repair co...</td>\n",
       "      <td>3</td>\n",
       "    </tr>\n",
       "    <tr>\n",
       "      <th>4</th>\n",
       "      <td>5061272897</td>\n",
       "      <td>WO-013009621</td>\n",
       "      <td>2021-02-09 13:39:00</td>\n",
       "      <td>LAS VEGAS METRO POLICE DEPT</td>\n",
       "      <td>2021-02-24 19:00:00</td>\n",
       "      <td>Additional Parts Required</td>\n",
       "      <td>2021-07-16 15:30:00</td>\n",
       "      <td>NaN</td>\n",
       "      <td>Avinash Shukla</td>\n",
       "      <td>Commercial Premium Notebooks</td>\n",
       "      <td>NaN</td>\n",
       "      <td>NCD</td>\n",
       "      <td>Break Fix</td>\n",
       "      <td>89101</td>\n",
       "      <td>PC-Joe Walper</td>\n",
       "      <td>Additional Parts Required</td>\n",
       "      <td>Computing</td>\n",
       "      <td>NaN</td>\n",
       "      <td>Back order part</td>\n",
       "      <td>4</td>\n",
       "    </tr>\n",
       "    <tr>\n",
       "      <th>5</th>\n",
       "      <td>5061278521</td>\n",
       "      <td>WO-013010632-4</td>\n",
       "      <td>2021-06-16 12:17:00</td>\n",
       "      <td>MR. REGINALD JOSEPH</td>\n",
       "      <td>2021-07-15 14:42:00</td>\n",
       "      <td>Reschedule</td>\n",
       "      <td>2021-07-15 13:09:00</td>\n",
       "      <td>NaN</td>\n",
       "      <td>JOCILYN ANDREA SANDI DURAN</td>\n",
       "      <td>Commercial Premium Notebooks</td>\n",
       "      <td>NaN</td>\n",
       "      <td>NCD</td>\n",
       "      <td>Break Fix</td>\n",
       "      <td>20785</td>\n",
       "      <td>USA-PR-USYWWDWN_E_A_EEG</td>\n",
       "      <td>Reschedule</td>\n",
       "      <td>Computing</td>\n",
       "      <td>NaN</td>\n",
       "      <td>NaN</td>\n",
       "      <td>5</td>\n",
       "    </tr>\n",
       "  </tbody>\n",
       "</table>\n",
       "</div>"
      ],
      "text/plain": [
       "      Case_ID Work_Order_Number           Created_On  \\\n",
       "1  5060815932      WO-012952625  2021-02-03 10:38:00   \n",
       "2  5060815932      WO-012952625  2021-02-03 10:38:00   \n",
       "3  5061272897      WO-013009621  2021-02-09 13:39:00   \n",
       "4  5061272897      WO-013009621  2021-02-09 13:39:00   \n",
       "5  5061278521    WO-013010632-4  2021-06-16 12:17:00   \n",
       "\n",
       "               Service_Account             Due_Date  \\\n",
       "1               William Torres  2021-04-26 15:00:00   \n",
       "2               William Torres  2021-04-26 15:00:00   \n",
       "3  LAS VEGAS METRO POLICE DEPT  2021-02-24 19:00:00   \n",
       "4  LAS VEGAS METRO POLICE DEPT  2021-02-24 19:00:00   \n",
       "5          MR. REGINALD JOSEPH  2021-07-15 14:42:00   \n",
       "\n",
       "       Action_Booking_status          Action_Date Currently_Worked_by  \\\n",
       "1  Additional Parts Required  2021-07-03 11:45:00     Kerby Singleton   \n",
       "2  Additional Parts Required  2021-07-03 11:45:00     Kerby Singleton   \n",
       "3  Additional Parts Required  2021-07-16 15:30:00                 NaN   \n",
       "4  Additional Parts Required  2021-07-16 15:30:00                 NaN   \n",
       "5                 Reschedule  2021-07-15 13:09:00                 NaN   \n",
       "\n",
       "                        Owner                      Product_Line  \\\n",
       "1               Nancy Quesada  Commercial Desktop PC Premium L6   \n",
       "2               Nancy Quesada  Commercial Desktop PC Premium L6   \n",
       "3              Avinash Shukla      Commercial Premium Notebooks   \n",
       "4              Avinash Shukla      Commercial Premium Notebooks   \n",
       "5  JOCILYN ANDREA SANDI DURAN      Commercial Premium Notebooks   \n",
       "\n",
       "  Follow_Up_Reason_Code Response_Time Work_Order_Type Postal_Code  \\\n",
       "1                   NaN           NCD       Break Fix       30305   \n",
       "2                   NaN           NCD       Break Fix       30305   \n",
       "3                   NaN           NCD       Break Fix       89101   \n",
       "4                   NaN           NCD       Break Fix       89101   \n",
       "5                   NaN           NCD       Break Fix       20785   \n",
       "\n",
       "            Active_Booking             Follow_Up_Type Business_Segment  \\\n",
       "1       PC-Kerby Singleton  Additional Parts Required        Computing   \n",
       "2       PC-Kerby Singleton  Additional Parts Required        Computing   \n",
       "3            PC-Joe Walper  Additional Parts Required        Computing   \n",
       "4            PC-Joe Walper  Additional Parts Required        Computing   \n",
       "5  USA-PR-USYWWDWN_E_A_EEG                 Reschedule        Computing   \n",
       "\n",
       "  Follow_Up_Note                                    Reschedule_Note  id  \n",
       "1            NaN                             #NORMAL Part escalated   1  \n",
       "2            NaN  Please cancel backordered part. Customer has c...   2  \n",
       "3            NaN  According to bryan this laptop shows repair co...   3  \n",
       "4            NaN                                    Back order part   4  \n",
       "5            NaN                                                NaN   5  "
      ]
     },
     "metadata": {},
     "output_type": "display_data"
    },
    {
     "name": "stdout",
     "output_type": "stream",
     "text": [
      "--------------------------------------------------\n"
     ]
    },
    {
     "data": {
      "text/html": [
       "<div>\n",
       "<style scoped>\n",
       "    .dataframe tbody tr th:only-of-type {\n",
       "        vertical-align: middle;\n",
       "    }\n",
       "\n",
       "    .dataframe tbody tr th {\n",
       "        vertical-align: top;\n",
       "    }\n",
       "\n",
       "    .dataframe thead th {\n",
       "        text-align: right;\n",
       "    }\n",
       "</style>\n",
       "<table border=\"1\" class=\"dataframe\">\n",
       "  <thead>\n",
       "    <tr style=\"text-align: right;\">\n",
       "      <th></th>\n",
       "      <th>count</th>\n",
       "      <th>mean</th>\n",
       "      <th>std</th>\n",
       "      <th>min</th>\n",
       "      <th>25%</th>\n",
       "      <th>50%</th>\n",
       "      <th>75%</th>\n",
       "      <th>max</th>\n",
       "    </tr>\n",
       "  </thead>\n",
       "  <tbody>\n",
       "    <tr>\n",
       "      <th>id</th>\n",
       "      <td>7039.0</td>\n",
       "      <td>3520.0</td>\n",
       "      <td>2032.128605</td>\n",
       "      <td>1.0</td>\n",
       "      <td>1760.5</td>\n",
       "      <td>3520.0</td>\n",
       "      <td>5279.5</td>\n",
       "      <td>7039.0</td>\n",
       "    </tr>\n",
       "  </tbody>\n",
       "</table>\n",
       "</div>"
      ],
      "text/plain": [
       "     count    mean          std  min     25%     50%     75%     max\n",
       "id  7039.0  3520.0  2032.128605  1.0  1760.5  3520.0  5279.5  7039.0"
      ]
     },
     "metadata": {},
     "output_type": "display_data"
    },
    {
     "name": "stdout",
     "output_type": "stream",
     "text": [
      "--------------------------------------------------\n",
      "<class 'pandas.core.frame.DataFrame'>\n",
      "RangeIndex: 7039 entries, 1 to 7039\n",
      "Data columns (total 20 columns):\n",
      " #   Column                 Non-Null Count  Dtype \n",
      "---  ------                 --------------  ----- \n",
      " 0   Case_ID                7039 non-null   object\n",
      " 1   Work_Order_Number      7039 non-null   object\n",
      " 2   Created_On             7039 non-null   object\n",
      " 3   Service_Account        7038 non-null   object\n",
      " 4   Due_Date               7017 non-null   object\n",
      " 5   Action_Booking_status  4223 non-null   object\n",
      " 6   Action_Date            3408 non-null   object\n",
      " 7   Currently_Worked_by    887 non-null    object\n",
      " 8   Owner                  7039 non-null   object\n",
      " 9   Product_Line           6457 non-null   object\n",
      " 10  Follow_Up_Reason_Code  2864 non-null   object\n",
      " 11  Response_Time          7039 non-null   object\n",
      " 12  Work_Order_Type        7039 non-null   object\n",
      " 13  Postal_Code            7039 non-null   object\n",
      " 14  Active_Booking         7025 non-null   object\n",
      " 15  Follow_Up_Type         7039 non-null   object\n",
      " 16  Business_Segment       7039 non-null   object\n",
      " 17  Follow_Up_Note         3247 non-null   object\n",
      " 18  Reschedule_Note        4738 non-null   object\n",
      " 19  id                     7039 non-null   int64 \n",
      "dtypes: int64(1), object(19)\n",
      "memory usage: 1.1+ MB\n"
     ]
    }
   ],
   "source": [
    "print('-'*50)\n",
    "print(len(df_case))\n",
    "\n",
    "print('-'*50)\n",
    "display(df_case.head(5))\n",
    "\n",
    "print('-'*50)\n",
    "display(df_case.describe().T)\n",
    "\n",
    "print('-'*50)\n",
    "df_case.info()\n",
    "\n"
   ]
  },
  {
   "cell_type": "code",
   "execution_count": 8,
   "id": "a36aeab1",
   "metadata": {
    "ExecuteTime": {
     "end_time": "2021-08-25T00:30:49.698961Z",
     "start_time": "2021-08-25T00:30:49.693119Z"
    }
   },
   "outputs": [
    {
     "name": "stdout",
     "output_type": "stream",
     "text": [
      "Follow_Up_Type\n",
      "Additional Parts Required     1666\n",
      "Onsite Stock Replenishment     376\n",
      "Partner Request Reassign        16\n",
      "Request Reassign              2100\n",
      "Reschedule                     434\n",
      "Revisit                       2447\n",
      "dtype: int64\n"
     ]
    }
   ],
   "source": [
    "print(df_case.groupby(['Follow_Up_Type']).size())"
   ]
  },
  {
   "cell_type": "markdown",
   "id": "d650eb86",
   "metadata": {},
   "source": [
    "### Data Cleaning"
   ]
  },
  {
   "cell_type": "code",
   "execution_count": 9,
   "id": "4c602104",
   "metadata": {
    "ExecuteTime": {
     "end_time": "2021-08-25T00:30:49.770436Z",
     "start_time": "2021-08-25T00:30:49.702008Z"
    }
   },
   "outputs": [
    {
     "name": "stdout",
     "output_type": "stream",
     "text": [
      "6110\n"
     ]
    },
    {
     "data": {
      "text/html": [
       "<div>\n",
       "<style scoped>\n",
       "    .dataframe tbody tr th:only-of-type {\n",
       "        vertical-align: middle;\n",
       "    }\n",
       "\n",
       "    .dataframe tbody tr th {\n",
       "        vertical-align: top;\n",
       "    }\n",
       "\n",
       "    .dataframe thead th {\n",
       "        text-align: right;\n",
       "    }\n",
       "</style>\n",
       "<table border=\"1\" class=\"dataframe\">\n",
       "  <thead>\n",
       "    <tr style=\"text-align: right;\">\n",
       "      <th></th>\n",
       "      <th>Case_ID</th>\n",
       "      <th>Work_Order_Number</th>\n",
       "      <th>Created_On</th>\n",
       "      <th>Service_Account</th>\n",
       "      <th>Due_Date</th>\n",
       "      <th>Action_Booking_status</th>\n",
       "      <th>Action_Date</th>\n",
       "      <th>Currently_Worked_by</th>\n",
       "      <th>Owner</th>\n",
       "      <th>Product_Line</th>\n",
       "      <th>...</th>\n",
       "      <th>Response_Time</th>\n",
       "      <th>Work_Order_Type</th>\n",
       "      <th>Postal_Code</th>\n",
       "      <th>Active_Booking</th>\n",
       "      <th>Follow_Up_Type</th>\n",
       "      <th>Business_Segment</th>\n",
       "      <th>Follow_Up_Note</th>\n",
       "      <th>Reschedule_Note</th>\n",
       "      <th>id</th>\n",
       "      <th>notes</th>\n",
       "    </tr>\n",
       "  </thead>\n",
       "  <tbody>\n",
       "    <tr>\n",
       "      <th>1</th>\n",
       "      <td>5060815932</td>\n",
       "      <td>WO-012952625</td>\n",
       "      <td>2021-02-03 10:38:00</td>\n",
       "      <td>William Torres</td>\n",
       "      <td>2021-04-26 15:00:00</td>\n",
       "      <td>Additional Parts Required</td>\n",
       "      <td>2021-07-03 11:45:00</td>\n",
       "      <td>Kerby Singleton</td>\n",
       "      <td>Nancy Quesada</td>\n",
       "      <td>Commercial Desktop PC Premium L6</td>\n",
       "      <td>...</td>\n",
       "      <td>NCD</td>\n",
       "      <td>Break Fix</td>\n",
       "      <td>30305</td>\n",
       "      <td>PC-Kerby Singleton</td>\n",
       "      <td>Additional Parts Required</td>\n",
       "      <td>Computing</td>\n",
       "      <td>NaN</td>\n",
       "      <td>#NORMAL Part escalated</td>\n",
       "      <td>1</td>\n",
       "      <td>#NORMAL Part escalated</td>\n",
       "    </tr>\n",
       "    <tr>\n",
       "      <th>2</th>\n",
       "      <td>5060815932</td>\n",
       "      <td>WO-012952625</td>\n",
       "      <td>2021-02-03 10:38:00</td>\n",
       "      <td>William Torres</td>\n",
       "      <td>2021-04-26 15:00:00</td>\n",
       "      <td>Additional Parts Required</td>\n",
       "      <td>2021-07-03 11:45:00</td>\n",
       "      <td>Kerby Singleton</td>\n",
       "      <td>Nancy Quesada</td>\n",
       "      <td>Commercial Desktop PC Premium L6</td>\n",
       "      <td>...</td>\n",
       "      <td>NCD</td>\n",
       "      <td>Break Fix</td>\n",
       "      <td>30305</td>\n",
       "      <td>PC-Kerby Singleton</td>\n",
       "      <td>Additional Parts Required</td>\n",
       "      <td>Computing</td>\n",
       "      <td>NaN</td>\n",
       "      <td>Please cancel backordered part. Customer has c...</td>\n",
       "      <td>2</td>\n",
       "      <td>Please cancel backordered part. Customer has c...</td>\n",
       "    </tr>\n",
       "    <tr>\n",
       "      <th>3</th>\n",
       "      <td>5061272897</td>\n",
       "      <td>WO-013009621</td>\n",
       "      <td>2021-02-09 13:39:00</td>\n",
       "      <td>LAS VEGAS METRO POLICE DEPT</td>\n",
       "      <td>2021-02-24 19:00:00</td>\n",
       "      <td>Additional Parts Required</td>\n",
       "      <td>2021-07-16 15:30:00</td>\n",
       "      <td>NaN</td>\n",
       "      <td>Avinash Shukla</td>\n",
       "      <td>Commercial Premium Notebooks</td>\n",
       "      <td>...</td>\n",
       "      <td>NCD</td>\n",
       "      <td>Break Fix</td>\n",
       "      <td>89101</td>\n",
       "      <td>PC-Joe Walper</td>\n",
       "      <td>Additional Parts Required</td>\n",
       "      <td>Computing</td>\n",
       "      <td>NaN</td>\n",
       "      <td>According to bryan this laptop shows repair co...</td>\n",
       "      <td>3</td>\n",
       "      <td>According to bryan this laptop shows repair co...</td>\n",
       "    </tr>\n",
       "    <tr>\n",
       "      <th>4</th>\n",
       "      <td>5061272897</td>\n",
       "      <td>WO-013009621</td>\n",
       "      <td>2021-02-09 13:39:00</td>\n",
       "      <td>LAS VEGAS METRO POLICE DEPT</td>\n",
       "      <td>2021-02-24 19:00:00</td>\n",
       "      <td>Additional Parts Required</td>\n",
       "      <td>2021-07-16 15:30:00</td>\n",
       "      <td>NaN</td>\n",
       "      <td>Avinash Shukla</td>\n",
       "      <td>Commercial Premium Notebooks</td>\n",
       "      <td>...</td>\n",
       "      <td>NCD</td>\n",
       "      <td>Break Fix</td>\n",
       "      <td>89101</td>\n",
       "      <td>PC-Joe Walper</td>\n",
       "      <td>Additional Parts Required</td>\n",
       "      <td>Computing</td>\n",
       "      <td>NaN</td>\n",
       "      <td>Back order part</td>\n",
       "      <td>4</td>\n",
       "      <td>Back order part</td>\n",
       "    </tr>\n",
       "    <tr>\n",
       "      <th>6</th>\n",
       "      <td>5064053283</td>\n",
       "      <td>WO-013536670-2</td>\n",
       "      <td>2021-06-30 11:06:00</td>\n",
       "      <td>Ford Motor Company of Canada</td>\n",
       "      <td>2021-07-02 08:30:00</td>\n",
       "      <td>Request Reassign</td>\n",
       "      <td>2021-07-05 14:45:00</td>\n",
       "      <td>NaN</td>\n",
       "      <td>Gabriel Bustos</td>\n",
       "      <td>A3 Laserjet</td>\n",
       "      <td>...</td>\n",
       "      <td>NCD</td>\n",
       "      <td>IMACD</td>\n",
       "      <td>N9A</td>\n",
       "      <td>Rick Harbarenko</td>\n",
       "      <td>Request Reassign</td>\n",
       "      <td>dMPS</td>\n",
       "      <td>NaN</td>\n",
       "      <td>Please send this case to Corey Harbarenko. Cor...</td>\n",
       "      <td>6</td>\n",
       "      <td>Please send this case to Corey Harbarenko. Cor...</td>\n",
       "    </tr>\n",
       "    <tr>\n",
       "      <th>...</th>\n",
       "      <td>...</td>\n",
       "      <td>...</td>\n",
       "      <td>...</td>\n",
       "      <td>...</td>\n",
       "      <td>...</td>\n",
       "      <td>...</td>\n",
       "      <td>...</td>\n",
       "      <td>...</td>\n",
       "      <td>...</td>\n",
       "      <td>...</td>\n",
       "      <td>...</td>\n",
       "      <td>...</td>\n",
       "      <td>...</td>\n",
       "      <td>...</td>\n",
       "      <td>...</td>\n",
       "      <td>...</td>\n",
       "      <td>...</td>\n",
       "      <td>...</td>\n",
       "      <td>...</td>\n",
       "      <td>...</td>\n",
       "      <td>...</td>\n",
       "    </tr>\n",
       "    <tr>\n",
       "      <th>7035</th>\n",
       "      <td>5069292833</td>\n",
       "      <td>WO-014560602</td>\n",
       "      <td>2021-07-16 16:23:00</td>\n",
       "      <td>Kaiser Foundation Health Plan Inc.</td>\n",
       "      <td>2021-07-19 15:09:00</td>\n",
       "      <td>Additional Parts Required</td>\n",
       "      <td>2021-07-16 16:00:00</td>\n",
       "      <td>NaN</td>\n",
       "      <td>6 CSPAE166</td>\n",
       "      <td>A4 PageWide SMB &amp; Enterprise managed</td>\n",
       "      <td>...</td>\n",
       "      <td>Not available</td>\n",
       "      <td>Break Fix</td>\n",
       "      <td>91786</td>\n",
       "      <td>Anthony Garcia</td>\n",
       "      <td>Additional Parts Required</td>\n",
       "      <td>pMPS</td>\n",
       "      <td>NaN</td>\n",
       "      <td>Please order the following part.  Qty. 1 B5L04...</td>\n",
       "      <td>7035</td>\n",
       "      <td>Please order the following part.  Qty. 1 B5L04...</td>\n",
       "    </tr>\n",
       "    <tr>\n",
       "      <th>7036</th>\n",
       "      <td>5069293232</td>\n",
       "      <td>WO-014560595</td>\n",
       "      <td>2021-07-16 16:21:00</td>\n",
       "      <td>CDW - St. Lukes Hospital (Government)</td>\n",
       "      <td>2021-07-20 16:26:00</td>\n",
       "      <td>Request Reassign</td>\n",
       "      <td>NaN</td>\n",
       "      <td>NaN</td>\n",
       "      <td>1 CSPAE131</td>\n",
       "      <td>A4 Laserjet SMB</td>\n",
       "      <td>...</td>\n",
       "      <td>Not available</td>\n",
       "      <td>Break Fix</td>\n",
       "      <td>55805</td>\n",
       "      <td>Brock Tharp</td>\n",
       "      <td>Request Reassign</td>\n",
       "      <td>pMPS</td>\n",
       "      <td>NaN</td>\n",
       "      <td>Please reassign to lms</td>\n",
       "      <td>7036</td>\n",
       "      <td>Please reassign to lms</td>\n",
       "    </tr>\n",
       "    <tr>\n",
       "      <th>7037</th>\n",
       "      <td>5069293974</td>\n",
       "      <td>WO-014560699</td>\n",
       "      <td>2021-07-16 17:06:00</td>\n",
       "      <td>LITHIA NISSAN OF FRESNO</td>\n",
       "      <td>2021-07-19 18:00:00</td>\n",
       "      <td>Request Reassign</td>\n",
       "      <td>2021-07-19 13:00:00</td>\n",
       "      <td>Aaron Stavinsky</td>\n",
       "      <td>Luis Alejandro Vargas</td>\n",
       "      <td>A4 Laserjet Enterprise</td>\n",
       "      <td>...</td>\n",
       "      <td>NCD</td>\n",
       "      <td>Preventative Maintenance</td>\n",
       "      <td>93710</td>\n",
       "      <td>IS-Aaron Stavinsky</td>\n",
       "      <td>Request Reassign</td>\n",
       "      <td>Printing</td>\n",
       "      <td>NaN</td>\n",
       "      <td>dahlia.garcia@hp.com</td>\n",
       "      <td>7037</td>\n",
       "      <td>dahlia.garcia@hp.com</td>\n",
       "    </tr>\n",
       "    <tr>\n",
       "      <th>7038</th>\n",
       "      <td>5069294340</td>\n",
       "      <td>WO-014560697</td>\n",
       "      <td>2021-07-16 17:04:00</td>\n",
       "      <td>Best Buy co., Inc.</td>\n",
       "      <td>2021-07-20 18:00:00</td>\n",
       "      <td>NaN</td>\n",
       "      <td>NaN</td>\n",
       "      <td>NaN</td>\n",
       "      <td>Subir Das</td>\n",
       "      <td>Retail Solutions Core</td>\n",
       "      <td>...</td>\n",
       "      <td>NCD</td>\n",
       "      <td>Break Fix</td>\n",
       "      <td>95678</td>\n",
       "      <td>PR-David Popadiuc</td>\n",
       "      <td>Revisit</td>\n",
       "      <td>Computing</td>\n",
       "      <td>Please order 842275-001 and have it ship to HF...</td>\n",
       "      <td>NaN</td>\n",
       "      <td>7038</td>\n",
       "      <td>Please order 842275-001 and have it ship to HF...</td>\n",
       "    </tr>\n",
       "    <tr>\n",
       "      <th>7039</th>\n",
       "      <td>5069310370</td>\n",
       "      <td>WO-014563427</td>\n",
       "      <td>2021-07-17 10:26:00</td>\n",
       "      <td>Costco Wholesale Corporation</td>\n",
       "      <td>2021-07-19 16:00:00</td>\n",
       "      <td>Request Reassign</td>\n",
       "      <td>NaN</td>\n",
       "      <td>NaN</td>\n",
       "      <td>7 CSPAE137</td>\n",
       "      <td>NaN</td>\n",
       "      <td>...</td>\n",
       "      <td>Not available</td>\n",
       "      <td>Break Fix</td>\n",
       "      <td>60440</td>\n",
       "      <td>PR-Stephen Sandgren</td>\n",
       "      <td>Request Reassign</td>\n",
       "      <td>dMPS</td>\n",
       "      <td>NaN</td>\n",
       "      <td>I am overbooked now and this is only a diagnos...</td>\n",
       "      <td>7039</td>\n",
       "      <td>I am overbooked now and this is only a diagnos...</td>\n",
       "    </tr>\n",
       "  </tbody>\n",
       "</table>\n",
       "<p>6110 rows × 21 columns</p>\n",
       "</div>"
      ],
      "text/plain": [
       "         Case_ID Work_Order_Number           Created_On  \\\n",
       "1     5060815932      WO-012952625  2021-02-03 10:38:00   \n",
       "2     5060815932      WO-012952625  2021-02-03 10:38:00   \n",
       "3     5061272897      WO-013009621  2021-02-09 13:39:00   \n",
       "4     5061272897      WO-013009621  2021-02-09 13:39:00   \n",
       "6     5064053283    WO-013536670-2  2021-06-30 11:06:00   \n",
       "...          ...               ...                  ...   \n",
       "7035  5069292833      WO-014560602  2021-07-16 16:23:00   \n",
       "7036  5069293232      WO-014560595  2021-07-16 16:21:00   \n",
       "7037  5069293974      WO-014560699  2021-07-16 17:06:00   \n",
       "7038  5069294340      WO-014560697  2021-07-16 17:04:00   \n",
       "7039  5069310370      WO-014563427  2021-07-17 10:26:00   \n",
       "\n",
       "                            Service_Account             Due_Date  \\\n",
       "1                            William Torres  2021-04-26 15:00:00   \n",
       "2                            William Torres  2021-04-26 15:00:00   \n",
       "3               LAS VEGAS METRO POLICE DEPT  2021-02-24 19:00:00   \n",
       "4               LAS VEGAS METRO POLICE DEPT  2021-02-24 19:00:00   \n",
       "6              Ford Motor Company of Canada  2021-07-02 08:30:00   \n",
       "...                                     ...                  ...   \n",
       "7035     Kaiser Foundation Health Plan Inc.  2021-07-19 15:09:00   \n",
       "7036  CDW - St. Lukes Hospital (Government)  2021-07-20 16:26:00   \n",
       "7037                LITHIA NISSAN OF FRESNO  2021-07-19 18:00:00   \n",
       "7038                     Best Buy co., Inc.  2021-07-20 18:00:00   \n",
       "7039           Costco Wholesale Corporation  2021-07-19 16:00:00   \n",
       "\n",
       "          Action_Booking_status          Action_Date Currently_Worked_by  \\\n",
       "1     Additional Parts Required  2021-07-03 11:45:00     Kerby Singleton   \n",
       "2     Additional Parts Required  2021-07-03 11:45:00     Kerby Singleton   \n",
       "3     Additional Parts Required  2021-07-16 15:30:00                 NaN   \n",
       "4     Additional Parts Required  2021-07-16 15:30:00                 NaN   \n",
       "6              Request Reassign  2021-07-05 14:45:00                 NaN   \n",
       "...                         ...                  ...                 ...   \n",
       "7035  Additional Parts Required  2021-07-16 16:00:00                 NaN   \n",
       "7036           Request Reassign                  NaN                 NaN   \n",
       "7037           Request Reassign  2021-07-19 13:00:00     Aaron Stavinsky   \n",
       "7038                        NaN                  NaN                 NaN   \n",
       "7039           Request Reassign                  NaN                 NaN   \n",
       "\n",
       "                      Owner                          Product_Line  ...  \\\n",
       "1             Nancy Quesada      Commercial Desktop PC Premium L6  ...   \n",
       "2             Nancy Quesada      Commercial Desktop PC Premium L6  ...   \n",
       "3            Avinash Shukla          Commercial Premium Notebooks  ...   \n",
       "4            Avinash Shukla          Commercial Premium Notebooks  ...   \n",
       "6            Gabriel Bustos                           A3 Laserjet  ...   \n",
       "...                     ...                                   ...  ...   \n",
       "7035             6 CSPAE166  A4 PageWide SMB & Enterprise managed  ...   \n",
       "7036             1 CSPAE131                       A4 Laserjet SMB  ...   \n",
       "7037  Luis Alejandro Vargas                A4 Laserjet Enterprise  ...   \n",
       "7038              Subir Das                 Retail Solutions Core  ...   \n",
       "7039             7 CSPAE137                                   NaN  ...   \n",
       "\n",
       "      Response_Time           Work_Order_Type Postal_Code  \\\n",
       "1               NCD                 Break Fix       30305   \n",
       "2               NCD                 Break Fix       30305   \n",
       "3               NCD                 Break Fix       89101   \n",
       "4               NCD                 Break Fix       89101   \n",
       "6               NCD                     IMACD         N9A   \n",
       "...             ...                       ...         ...   \n",
       "7035  Not available                 Break Fix       91786   \n",
       "7036  Not available                 Break Fix       55805   \n",
       "7037            NCD  Preventative Maintenance       93710   \n",
       "7038            NCD                 Break Fix       95678   \n",
       "7039  Not available                 Break Fix       60440   \n",
       "\n",
       "           Active_Booking             Follow_Up_Type Business_Segment  \\\n",
       "1      PC-Kerby Singleton  Additional Parts Required        Computing   \n",
       "2      PC-Kerby Singleton  Additional Parts Required        Computing   \n",
       "3           PC-Joe Walper  Additional Parts Required        Computing   \n",
       "4           PC-Joe Walper  Additional Parts Required        Computing   \n",
       "6         Rick Harbarenko           Request Reassign             dMPS   \n",
       "...                   ...                        ...              ...   \n",
       "7035       Anthony Garcia  Additional Parts Required             pMPS   \n",
       "7036          Brock Tharp           Request Reassign             pMPS   \n",
       "7037   IS-Aaron Stavinsky           Request Reassign         Printing   \n",
       "7038    PR-David Popadiuc                    Revisit        Computing   \n",
       "7039  PR-Stephen Sandgren           Request Reassign             dMPS   \n",
       "\n",
       "                                         Follow_Up_Note  \\\n",
       "1                                                   NaN   \n",
       "2                                                   NaN   \n",
       "3                                                   NaN   \n",
       "4                                                   NaN   \n",
       "6                                                   NaN   \n",
       "...                                                 ...   \n",
       "7035                                                NaN   \n",
       "7036                                                NaN   \n",
       "7037                                                NaN   \n",
       "7038  Please order 842275-001 and have it ship to HF...   \n",
       "7039                                                NaN   \n",
       "\n",
       "                                        Reschedule_Note    id  \\\n",
       "1                                #NORMAL Part escalated     1   \n",
       "2     Please cancel backordered part. Customer has c...     2   \n",
       "3     According to bryan this laptop shows repair co...     3   \n",
       "4                                       Back order part     4   \n",
       "6     Please send this case to Corey Harbarenko. Cor...     6   \n",
       "...                                                 ...   ...   \n",
       "7035  Please order the following part.  Qty. 1 B5L04...  7035   \n",
       "7036                             Please reassign to lms  7036   \n",
       "7037                               dahlia.garcia@hp.com  7037   \n",
       "7038                                                NaN  7038   \n",
       "7039  I am overbooked now and this is only a diagnos...  7039   \n",
       "\n",
       "                                                  notes  \n",
       "1                                #NORMAL Part escalated  \n",
       "2     Please cancel backordered part. Customer has c...  \n",
       "3     According to bryan this laptop shows repair co...  \n",
       "4                                       Back order part  \n",
       "6     Please send this case to Corey Harbarenko. Cor...  \n",
       "...                                                 ...  \n",
       "7035  Please order the following part.  Qty. 1 B5L04...  \n",
       "7036                             Please reassign to lms  \n",
       "7037                               dahlia.garcia@hp.com  \n",
       "7038  Please order 842275-001 and have it ship to HF...  \n",
       "7039  I am overbooked now and this is only a diagnos...  \n",
       "\n",
       "[6110 rows x 21 columns]"
      ]
     },
     "execution_count": 9,
     "metadata": {},
     "output_type": "execute_result"
    }
   ],
   "source": [
    "def filter_out_note_na(df):\n",
    "    df_filter = df.loc[(df.Follow_Up_Note.notna()) | (df.Reschedule_Note.notna())].copy()\n",
    "    return df_filter\n",
    "\n",
    "df_train_test = filter_out_note_na(df_case)\n",
    "print(len(df_train_test))\n",
    "\n",
    "# df_train_test['notes'] = [('' if pd.isna(fun) else fun)  + ('' if pd.isna(crn) else ' | ' + crn)\n",
    "#                           for fun, crn in zip(df_train_test.Follow_Up_Note, df_train_test.Reschedule_Note)] \n",
    "df_train_test['notes'] = [(crn if pd.isna(fun) else (fun if pd.isna(crn) else fun + '.' + crn))\n",
    "                          for fun, crn in zip(df_train_test.Follow_Up_Note, df_train_test.Reschedule_Note)] \n",
    "df_train_test"
   ]
  },
  {
   "cell_type": "code",
   "execution_count": 10,
   "id": "21b25860",
   "metadata": {
    "ExecuteTime": {
     "end_time": "2021-08-25T00:30:49.778438Z",
     "start_time": "2021-08-25T00:30:49.772787Z"
    }
   },
   "outputs": [
    {
     "name": "stdout",
     "output_type": "stream",
     "text": [
      "Follow_Up_Type\n",
      "Additional Parts Required     1579\n",
      "Onsite Stock Replenishment     375\n",
      "Partner Request Reassign        13\n",
      "Request Reassign              1737\n",
      "Reschedule                     136\n",
      "Revisit                       2270\n",
      "dtype: int64\n"
     ]
    }
   ],
   "source": [
    "print(df_train_test.groupby(['Follow_Up_Type']).size())"
   ]
  },
  {
   "cell_type": "markdown",
   "id": "53fd32c6",
   "metadata": {},
   "source": [
    "### Generate NER Label"
   ]
  },
  {
   "cell_type": "code",
   "execution_count": 11,
   "id": "fb1978e4",
   "metadata": {
    "ExecuteTime": {
     "end_time": "2021-08-25T00:30:49.789382Z",
     "start_time": "2021-08-25T00:30:49.780938Z"
    }
   },
   "outputs": [],
   "source": [
    "def standardize_text1(text):\n",
    "    text = text.strip().lower()\n",
    "    # add space between punctuation\n",
    "    text = re.sub(r'([.\\\\!?,\\'()\\[\\]\"|;])', r' \\1 ', text)\n",
    "#     # remove characters except for English letters and some punctuations\n",
    "#     text = re.sub(r\"[^A-Za-z\\.\\-\\?\\!\\,\\#\\@\\% ]\", \"\", text)\n",
    "    # remove extra spaces\n",
    "    text = re.sub(r'[\" \"]+', \" \", text)\n",
    "    return text"
   ]
  },
  {
   "cell_type": "code",
   "execution_count": 12,
   "id": "c3c68a0a",
   "metadata": {
    "ExecuteTime": {
     "end_time": "2021-08-25T00:30:51.079613Z",
     "start_time": "2021-08-25T00:30:49.791677Z"
    }
   },
   "outputs": [],
   "source": [
    "nlp = spacy.load(\"en_core_web_sm\")\n",
    "notes = [standardize_text1(note) for note in df_train_test.notes]\n",
    "docs = nlp.pipe(notes)"
   ]
  },
  {
   "cell_type": "code",
   "execution_count": 13,
   "id": "76cf8946",
   "metadata": {
    "ExecuteTime": {
     "end_time": "2021-08-25T00:30:51.119463Z",
     "start_time": "2021-08-25T00:30:51.082092Z"
    }
   },
   "outputs": [
    {
     "data": {
      "text/html": [
       "<div>\n",
       "<style scoped>\n",
       "    .dataframe tbody tr th:only-of-type {\n",
       "        vertical-align: middle;\n",
       "    }\n",
       "\n",
       "    .dataframe tbody tr th {\n",
       "        vertical-align: top;\n",
       "    }\n",
       "\n",
       "    .dataframe thead th {\n",
       "        text-align: right;\n",
       "    }\n",
       "</style>\n",
       "<table border=\"1\" class=\"dataframe\">\n",
       "  <thead>\n",
       "    <tr style=\"text-align: right;\">\n",
       "      <th></th>\n",
       "      <th>Case_ID</th>\n",
       "      <th>Work_Order_Number</th>\n",
       "      <th>Created_On</th>\n",
       "      <th>Service_Account</th>\n",
       "      <th>Due_Date</th>\n",
       "      <th>Action_Booking_status</th>\n",
       "      <th>Action_Date</th>\n",
       "      <th>Currently_Worked_by</th>\n",
       "      <th>Owner</th>\n",
       "      <th>Product_Line</th>\n",
       "      <th>...</th>\n",
       "      <th>Response_Time</th>\n",
       "      <th>Work_Order_Type</th>\n",
       "      <th>Postal_Code</th>\n",
       "      <th>Active_Booking</th>\n",
       "      <th>Follow_Up_Type</th>\n",
       "      <th>Business_Segment</th>\n",
       "      <th>Follow_Up_Note</th>\n",
       "      <th>Reschedule_Note</th>\n",
       "      <th>id</th>\n",
       "      <th>notes</th>\n",
       "    </tr>\n",
       "  </thead>\n",
       "  <tbody>\n",
       "    <tr>\n",
       "      <th>21</th>\n",
       "      <td>5065852054</td>\n",
       "      <td>WO-013865844-1</td>\n",
       "      <td>2021-07-02 14:10:00</td>\n",
       "      <td>KAISER PERMANENTE</td>\n",
       "      <td>2021-07-16 18:00:00</td>\n",
       "      <td>NaN</td>\n",
       "      <td>NaN</td>\n",
       "      <td>Ryan Bartoli</td>\n",
       "      <td>Ezequiel Jara Corao</td>\n",
       "      <td>Detachables</td>\n",
       "      <td>...</td>\n",
       "      <td>NCD</td>\n",
       "      <td>Break Fix</td>\n",
       "      <td>94553</td>\n",
       "      <td>CT-Ryan Bartoli</td>\n",
       "      <td>Revisit</td>\n",
       "      <td>Computing</td>\n",
       "      <td>Please create a revisit for Wednesday</td>\n",
       "      <td>#NORMAL Please order part # L51580-001 and L31...</td>\n",
       "      <td>21</td>\n",
       "      <td>Please create a revisit for Wednesday.#NORMAL ...</td>\n",
       "    </tr>\n",
       "    <tr>\n",
       "      <th>29</th>\n",
       "      <td>5066093878</td>\n",
       "      <td>WO-013910857</td>\n",
       "      <td>2021-05-14 17:16:00</td>\n",
       "      <td>AMD</td>\n",
       "      <td>2021-07-02 17:00:00</td>\n",
       "      <td>NaN</td>\n",
       "      <td>NaN</td>\n",
       "      <td>NaN</td>\n",
       "      <td>JORGE DANIEL BENAVIDEZ AVILA</td>\n",
       "      <td>Commercial Premium Notebooks</td>\n",
       "      <td>...</td>\n",
       "      <td>NCD</td>\n",
       "      <td>Break Fix</td>\n",
       "      <td>78735</td>\n",
       "      <td>PR-Rob Silcocks</td>\n",
       "      <td>Revisit</td>\n",
       "      <td>Computing</td>\n",
       "      <td>Please order battery  933321-855 ship to UPS H...</td>\n",
       "      <td>Please reassign to Rob Silcocks</td>\n",
       "      <td>29</td>\n",
       "      <td>Please order battery  933321-855 ship to UPS H...</td>\n",
       "    </tr>\n",
       "    <tr>\n",
       "      <th>2978</th>\n",
       "      <td>5068832635</td>\n",
       "      <td>WO-014466680</td>\n",
       "      <td>2021-07-08 10:24:00</td>\n",
       "      <td>Jabil circuit Inc</td>\n",
       "      <td>2021-07-09 17:00:00</td>\n",
       "      <td>Additional Parts Required</td>\n",
       "      <td>2021-07-15 08:00:00</td>\n",
       "      <td>NaN</td>\n",
       "      <td>7 CSPAE147</td>\n",
       "      <td>Large Format Design Pagewide XL HW</td>\n",
       "      <td>...</td>\n",
       "      <td>NCD</td>\n",
       "      <td>Break Fix</td>\n",
       "      <td>87106</td>\n",
       "      <td>PR-Isaac Lucero</td>\n",
       "      <td>Additional Parts Required</td>\n",
       "      <td>dMPS</td>\n",
       "      <td>NaN</td>\n",
       "      <td>Per L2 please order: 2YB64-67005, 2YB64-67003 ...</td>\n",
       "      <td>2978</td>\n",
       "      <td>Per L2 please order: 2YB64-67005, 2YB64-67003 ...</td>\n",
       "    </tr>\n",
       "    <tr>\n",
       "      <th>3025</th>\n",
       "      <td>5068836700</td>\n",
       "      <td>WO-014466875</td>\n",
       "      <td>2021-07-08 10:49:00</td>\n",
       "      <td>Border Patrol and Customs</td>\n",
       "      <td>2021-07-14 16:00:00</td>\n",
       "      <td>NaN</td>\n",
       "      <td>NaN</td>\n",
       "      <td>NaN</td>\n",
       "      <td>Abu Ambia</td>\n",
       "      <td>Large Format Design HW</td>\n",
       "      <td>...</td>\n",
       "      <td>NCD</td>\n",
       "      <td>Break Fix</td>\n",
       "      <td>79925</td>\n",
       "      <td>PR-Manuel Bailon</td>\n",
       "      <td>Revisit</td>\n",
       "      <td>Printing</td>\n",
       "      <td>Please create a revisite for 7-16-2021 at 1300...</td>\n",
       "      <td>NaN</td>\n",
       "      <td>3025</td>\n",
       "      <td>Please create a revisite for 7-16-2021 at 1300...</td>\n",
       "    </tr>\n",
       "    <tr>\n",
       "      <th>3026</th>\n",
       "      <td>5068836700</td>\n",
       "      <td>WO-014466875-1</td>\n",
       "      <td>2021-07-14 15:01:00</td>\n",
       "      <td>Border Patrol and Customs</td>\n",
       "      <td>2021-07-16 16:00:00</td>\n",
       "      <td>NaN</td>\n",
       "      <td>NaN</td>\n",
       "      <td>NaN</td>\n",
       "      <td>Lisbeth Alejandra Sibaja</td>\n",
       "      <td>Large Format Design HW</td>\n",
       "      <td>...</td>\n",
       "      <td>NCD</td>\n",
       "      <td>Break Fix</td>\n",
       "      <td>79925</td>\n",
       "      <td>PR-Manuel Bailon</td>\n",
       "      <td>Revisit</td>\n",
       "      <td>Printing</td>\n",
       "      <td>Please create a revisite for 7-23-2021 for pri...</td>\n",
       "      <td>NaN</td>\n",
       "      <td>3026</td>\n",
       "      <td>Please create a revisite for 7-23-2021 for pri...</td>\n",
       "    </tr>\n",
       "  </tbody>\n",
       "</table>\n",
       "<p>5 rows × 21 columns</p>\n",
       "</div>"
      ],
      "text/plain": [
       "         Case_ID Work_Order_Number           Created_On  \\\n",
       "21    5065852054    WO-013865844-1  2021-07-02 14:10:00   \n",
       "29    5066093878      WO-013910857  2021-05-14 17:16:00   \n",
       "2978  5068832635      WO-014466680  2021-07-08 10:24:00   \n",
       "3025  5068836700      WO-014466875  2021-07-08 10:49:00   \n",
       "3026  5068836700    WO-014466875-1  2021-07-14 15:01:00   \n",
       "\n",
       "                Service_Account             Due_Date  \\\n",
       "21            KAISER PERMANENTE  2021-07-16 18:00:00   \n",
       "29                          AMD  2021-07-02 17:00:00   \n",
       "2978          Jabil circuit Inc  2021-07-09 17:00:00   \n",
       "3025  Border Patrol and Customs  2021-07-14 16:00:00   \n",
       "3026  Border Patrol and Customs  2021-07-16 16:00:00   \n",
       "\n",
       "          Action_Booking_status          Action_Date Currently_Worked_by  \\\n",
       "21                          NaN                  NaN        Ryan Bartoli   \n",
       "29                          NaN                  NaN                 NaN   \n",
       "2978  Additional Parts Required  2021-07-15 08:00:00                 NaN   \n",
       "3025                        NaN                  NaN                 NaN   \n",
       "3026                        NaN                  NaN                 NaN   \n",
       "\n",
       "                             Owner                        Product_Line  ...  \\\n",
       "21             Ezequiel Jara Corao                         Detachables  ...   \n",
       "29    JORGE DANIEL BENAVIDEZ AVILA        Commercial Premium Notebooks  ...   \n",
       "2978                    7 CSPAE147  Large Format Design Pagewide XL HW  ...   \n",
       "3025                     Abu Ambia              Large Format Design HW  ...   \n",
       "3026      Lisbeth Alejandra Sibaja              Large Format Design HW  ...   \n",
       "\n",
       "     Response_Time Work_Order_Type Postal_Code    Active_Booking  \\\n",
       "21             NCD       Break Fix       94553   CT-Ryan Bartoli   \n",
       "29             NCD       Break Fix       78735   PR-Rob Silcocks   \n",
       "2978           NCD       Break Fix       87106   PR-Isaac Lucero   \n",
       "3025           NCD       Break Fix       79925  PR-Manuel Bailon   \n",
       "3026           NCD       Break Fix       79925  PR-Manuel Bailon   \n",
       "\n",
       "                 Follow_Up_Type Business_Segment  \\\n",
       "21                      Revisit        Computing   \n",
       "29                      Revisit        Computing   \n",
       "2978  Additional Parts Required             dMPS   \n",
       "3025                    Revisit         Printing   \n",
       "3026                    Revisit         Printing   \n",
       "\n",
       "                                         Follow_Up_Note  \\\n",
       "21                Please create a revisit for Wednesday   \n",
       "29    Please order battery  933321-855 ship to UPS H...   \n",
       "2978                                                NaN   \n",
       "3025  Please create a revisite for 7-16-2021 at 1300...   \n",
       "3026  Please create a revisite for 7-23-2021 for pri...   \n",
       "\n",
       "                                        Reschedule_Note    id  \\\n",
       "21    #NORMAL Please order part # L51580-001 and L31...    21   \n",
       "29                      Please reassign to Rob Silcocks    29   \n",
       "2978  Per L2 please order: 2YB64-67005, 2YB64-67003 ...  2978   \n",
       "3025                                                NaN  3025   \n",
       "3026                                                NaN  3026   \n",
       "\n",
       "                                                  notes  \n",
       "21    Please create a revisit for Wednesday.#NORMAL ...  \n",
       "29    Please order battery  933321-855 ship to UPS H...  \n",
       "2978  Per L2 please order: 2YB64-67005, 2YB64-67003 ...  \n",
       "3025  Please create a revisite for 7-16-2021 at 1300...  \n",
       "3026  Please create a revisite for 7-23-2021 for pri...  \n",
       "\n",
       "[5 rows x 21 columns]"
      ]
     },
     "execution_count": 13,
     "metadata": {},
     "output_type": "execute_result"
    }
   ],
   "source": [
    "def get_samples(df):\n",
    "    df_filter = df.loc[(df.Work_Order_Number=='WO-013865844-1') | \n",
    "                       (df.Work_Order_Number=='WO-013910857') |\n",
    "                       (df.Work_Order_Number=='WO-014466680') |\n",
    "                       (df.Work_Order_Number=='WO-014466875') |\n",
    "                       (df.Work_Order_Number=='WO-014466875-1') \n",
    "                      ].copy()\n",
    "    return df_filter\n",
    "\n",
    "df_sample = get_samples(df_train_test)\n",
    "df_sample"
   ]
  },
  {
   "cell_type": "code",
   "execution_count": 14,
   "id": "4655facd",
   "metadata": {
    "ExecuteTime": {
     "end_time": "2021-08-25T00:30:51.161388Z",
     "start_time": "2021-08-25T00:30:51.121694Z"
    }
   },
   "outputs": [
    {
     "name": "stdout",
     "output_type": "stream",
     "text": [
      "--------------------------------------------------\n",
      "please create a revisit for wednesday . #normal please order part # l51580-001 and l31365-001 to concord , california hal setting up time to meet with customer . \n",
      "[('please', 'INTJ'), ('create', 'VERB'), ('a', 'DET'), ('revisit', 'NOUN'), ('for', 'ADP'), ('wednesday', 'PROPN'), ('.', 'PUNCT'), ('#', 'NOUN'), ('normal', 'ADJ'), ('please', 'INTJ'), ('order', 'VERB'), ('part', 'NOUN'), ('#', 'SYM'), ('l51580', 'PROPN'), ('-', 'PUNCT'), ('001', 'NUM'), ('and', 'CCONJ'), ('l31365', 'NOUN'), ('-', 'PUNCT'), ('001', 'NUM'), ('to', 'ADP'), ('concord', 'PROPN'), (',', 'PUNCT'), ('california', 'PROPN'), ('hal', 'NOUN'), ('setting', 'VERB'), ('up', 'ADP'), ('time', 'NOUN'), ('to', 'PART'), ('meet', 'VERB'), ('with', 'ADP'), ('customer', 'NOUN'), ('.', 'PUNCT')]\n",
      "[('wednesday', 'DATE'), ('# l51580-001', 'MONEY'), ('concord', 'GPE'), ('california', 'GPE')]\n",
      "--------------------------------------------------\n",
      "please order battery 933321-855 ship to ups hold for pickup , tuscany way , austin . . please reassign to rob silcocks\n",
      "[('please', 'INTJ'), ('order', 'VERB'), ('battery', 'NOUN'), ('933321', 'NUM'), ('-', 'SYM'), ('855', 'NUM'), ('ship', 'NOUN'), ('to', 'ADP'), ('ups', 'NOUN'), ('hold', 'NOUN'), ('for', 'ADP'), ('pickup', 'NOUN'), (',', 'PUNCT'), ('tuscany', 'ADJ'), ('way', 'NOUN'), (',', 'PUNCT'), ('austin', 'PROPN'), ('.', 'PUNCT'), ('.', 'PUNCT'), ('please', 'INTJ'), ('reassign', 'VERB'), ('to', 'PART'), ('rob', 'VERB'), ('silcocks', 'NOUN')]\n",
      "[('933321', 'CARDINAL'), ('austin', 'GPE')]\n",
      "--------------------------------------------------\n",
      "per l2 please order: 2yb64-67005 , 2yb64-67003 xl3600 , 6kd23-67021 xl3600 , 6kd23-67030 , and two 2yb64-67002\n",
      "[('per', 'ADP'), ('l2', 'NOUN'), ('please', 'INTJ'), ('order', 'NOUN'), (':', 'PUNCT'), ('2yb64', 'PROPN'), ('-', 'PUNCT'), ('67005', 'NUM'), (',', 'PUNCT'), ('2yb64', 'PROPN'), ('-', 'PUNCT'), ('67003', 'NUM'), ('xl3600', 'PROPN'), (',', 'PUNCT'), ('6kd23', 'PROPN'), ('-', 'PUNCT'), ('67021', 'NUM'), ('xl3600', 'PROPN'), (',', 'PUNCT'), ('6kd23', 'PROPN'), ('-', 'PUNCT'), ('67030', 'PROPN'), (',', 'PUNCT'), ('and', 'CCONJ'), ('two', 'NUM'), ('2yb64', 'PROPN'), ('-', 'PUNCT'), ('67002', 'NUM')]\n",
      "[('l2', 'ORG'), ('2yb64-67005', 'CARDINAL'), ('2yb64-67003', 'CARDINAL'), ('6kd23-67030', 'DATE'), ('two', 'CARDINAL'), ('2yb64-67002', 'CARDINAL')]\n",
      "--------------------------------------------------\n",
      "please create a revisite for 7-16-2021 at 1300 order part number q5669-60687 please order 2 q6683-67001 t8w18-67001 ship to el paso texas for hfpu\n",
      "[('please', 'INTJ'), ('create', 'VERB'), ('a', 'DET'), ('revisite', 'NOUN'), ('for', 'ADP'), ('7', 'NUM'), ('-', 'SYM'), ('16', 'NUM'), ('-', 'PUNCT'), ('2021', 'NUM'), ('at', 'ADP'), ('1300', 'NUM'), ('order', 'NOUN'), ('part', 'NOUN'), ('number', 'NOUN'), ('q5669', 'NUM'), ('-', 'PUNCT'), ('60687', 'NUM'), ('please', 'INTJ'), ('order', 'VERB'), ('2', 'NUM'), ('q6683', 'NOUN'), ('-', 'PUNCT'), ('67001', 'NUM'), ('t8w18', 'NUM'), ('-', 'PUNCT'), ('67001', 'NUM'), ('ship', 'NOUN'), ('to', 'ADP'), ('el', 'PROPN'), ('paso', 'PROPN'), ('texas', 'PROPN'), ('for', 'ADP'), ('hfpu', 'NOUN')]\n",
      "[('7-16-2021', 'DATE'), ('1300', 'DATE'), ('2', 'CARDINAL'), ('el paso', 'GPE'), ('texas', 'GPE')]\n",
      "--------------------------------------------------\n",
      "please create a revisite for 7-23-2021 for printheads replacement . customer will order\n",
      "[('please', 'INTJ'), ('create', 'VERB'), ('a', 'DET'), ('revisite', 'NOUN'), ('for', 'ADP'), ('7', 'NUM'), ('-', 'SYM'), ('23', 'NUM'), ('-', 'PUNCT'), ('2021', 'NUM'), ('for', 'ADP'), ('printheads', 'NOUN'), ('replacement', 'NOUN'), ('.', 'PUNCT'), ('customer', 'NOUN'), ('will', 'AUX'), ('order', 'VERB')]\n",
      "[('7-23-2021', 'CARDINAL')]\n"
     ]
    }
   ],
   "source": [
    "\n",
    "sample_notes = [standardize_text1(note) for note in df_sample.notes]\n",
    "sampel_docs = nlp.pipe(sample_notes)\n",
    "for i, doc in enumerate(sampel_docs):\n",
    "    print('-'*50)\n",
    "    print(doc.text)\n",
    "    print([(token.text, token.pos_) for token in doc])\n",
    "    print([(ent.text, ent.label_) for ent in doc.ents]) "
   ]
  },
  {
   "cell_type": "code",
   "execution_count": 15,
   "id": "734670e0",
   "metadata": {
    "ExecuteTime": {
     "end_time": "2021-08-25T00:30:51.212029Z",
     "start_time": "2021-08-25T00:30:51.164202Z"
    }
   },
   "outputs": [],
   "source": [
    "patterns = [\n",
    " {'expression': r'[a-zA-Z]\\d\\d\\d\\d\\d-\\d\\d\\d', 'label': 'PART_NUM'}, \n",
    " {'expression': r'\\d\\d\\d\\d\\d\\d-\\d\\d\\d', 'label': 'PART_NUM'}, \n",
    " {'expression': r'[a-zA-Z]\\d\\d\\d\\d\\d-[a-zA-Z]\\d\\d', 'label': 'PART_NUM'}, \n",
    " {'expression': r'\\d\\d\\d\\d\\d\\d-[a-zA-Z][a-zA-Z]\\d', 'label': 'PART_NUM'}, \n",
    " {'expression': r'\\d\\d\\d\\d\\d\\d-\\d[a-zA-Z]\\d', 'label': 'PART_NUM'}, \n",
    " {'expression': r'\\d\\d\\d\\d\\d\\d-[a-zA-Z][a-zA-Z][a-zA-Z]', 'label': 'PART_NUM'}, \n",
    " {'expression': r'[a-zA-Z]\\d\\d\\d\\d\\d-[a-zA-Z][a-zA-Z]\\d', 'label': 'PART_NUM'}, \n",
    " {'expression': r'\\d\\d\\d\\d\\d\\d-[a-zA-Z]\\d\\d', 'label': 'PART_NUM'}, \n",
    " {'expression': r'[a-zA-Z][a-zA-Z]-\\d\\d\\d\\d\\d-\\d\\d', 'label': 'PART_NUM'}, \n",
    " {'expression': r'[a-zA-Z][a-zA-Z]\\d-\\d\\d\\d\\d-\\d\\d\\d[a-zA-Z][a-zA-Z]', 'label': 'PART_NUM'}, \n",
    " {'expression': r'\\d\\d\\d\\d-\\d\\d\\d\\d', 'label': 'PART_NUM'}, \n",
    " {'expression': r'\\d\\d\\d\\d-\\d\\d\\d\\d-\\d', 'label': 'PART_NUM'}, \n",
    " {'expression': r'\\d[a-zA-Z][a-zA-Z]\\d\\d-\\d\\d\\d\\d\\d', 'label': 'PART_NUM'}, \n",
    " {'expression': r'[a-zA-Z]\\d[a-zA-Z]\\d\\d-\\d\\d\\d\\d\\d', 'label': 'PART_NUM'}, \n",
    " {'expression': r'\\d\\d\\d\\d\\d-\\d\\d\\d\\d\\d', 'label': 'PART_NUM'}, \n",
    " {'expression': r'[a-zA-Z]\\d\\d\\d\\d-\\d\\d\\d\\d\\d', 'label': 'PART_NUM'}, \n",
    " {'expression': r'[a-zA-Z]\\d\\d\\d\\d\\d-[a-zA-Z][a-zA-Z]\\d', 'label': 'PART_NUM'}, \n",
    " {'expression': r'\\d\\d\\d\\d\\d\\d-\\d\\d\\d[a-zA-Z]', 'label': 'PART_NUM'}, \n",
    " {'expression': r'[a-zA-Z][a-zA-Z]\\d\\d\\d-\\d\\d\\d\\d\\d', 'label': 'PART_NUM'}, \n",
    " {'expression': r'[a-zA-Z][a-zA-Z]\\d-\\d\\d\\d\\d[a-zA-Z][a-zA-Z][a-zA-Z][a-zA-Z]', 'label': 'PART_NUM'}, \n",
    " {'expression': r'\\d-\\d\\d\\d-\\d\\d\\d-\\d\\d', 'label': 'PART_NUM'}, \n",
    " {'expression': r'[a-zA-Z]-\\d\\d\\d\\d-\\d\\d\\d-\\d', 'label': 'PART_NUM'}, \n",
    " {'expression': r'[a-zA-Z][a-zA-Z][a-zA-Z][a-zA-Z]\\d\\d\\d\\d-[a-zA-Z]\\d\\d', 'label': 'PART_NUM'}, \n",
    " {'expression': r'\\d\\d\\d\\d-\\d\\d\\d-\\d\\d\\d\\d\\d', 'label': 'PART_NUM'}, \n",
    " {'expression': r'\\d\\d-\\d\\d\\d\\d[a-zA-Z]-\\d\\d[a-zA-Z]', 'label': 'PART_NUM'}, \n",
    " {'expression': r'\\d\\d-\\d\\d\\d\\d\\d-\\d\\d\\d', 'label': 'PART_NUM'}, \n",
    " {'expression': r'[a-zA-Z][a-zA-Z][a-zA-Z]\\d\\d\\d\\d\\d-\\d\\d\\d\\d\\d', 'label': 'PART_NUM'}, \n",
    " {'expression': r'\\d\\d\\d\\d\\d-\\d\\d\\d\\d\\d-[a-zA-Z][a-zA-Z]', 'label': 'PART_NUM'}, \n",
    " {'expression': r'\\d\\d\\d-\\d\\d\\d\\d\\d\\d[a-zA-Z][a-zA-Z]', 'label': 'PART_NUM'}, \n",
    " {'expression': r'\\d\\d\\d-\\d\\d\\d-\\d\\d', 'label': 'PART_NUM'}, \n",
    " {'expression': r'\\d[a-zA-Z][a-zA-Z]\\d-\\d\\d\\d\\d', 'label': 'PART_NUM'}, \n",
    " {'expression': r'\\d\\d\\d\\d-\\d\\d\\d\\d-[a-zA-Z][a-zA-Z][a-zA-Z][a-zA-Z]', 'label': 'PART_NUM'}, \n",
    " {'expression': r'\\d\\d\\d\\d-\\d\\d\\d\\d[a-zA-Z]', 'label': 'PART_NUM'}, \n",
    " {'expression': r'\\d\\d\\d\\d-\\d\\d\\d\\d-[a-zA-Z][a-zA-Z][a-zA-Z]', 'label': 'PART_NUM'}, \n",
    " {'expression': r'\\d\\d\\d\\d-\\d\\d\\d-\\d\\d\\d\\d\\d', 'label': 'PART_NUM'}, \n",
    " {'expression': r'\\d\\d\\d\\d\\d\\d[a-zA-Z]-\\d\\d\\d', 'label': 'PART_NUM'}, \n",
    " {'expression': r'[a-zA-Z][a-zA-Z]\\d\\d[a-zA-Z]-[a-zA-Z]\\d', 'label': 'PART_NUM'}, \n",
    " {'expression': r'\\d\\d-\\d\\d\\d\\d\\d-\\d\\d', 'label': 'PART_NUM'}, \n",
    " {'expression': r'[a-zA-Z][a-zA-Z][a-zA-Z]-\\d[a-zA-Z]\\d\\d\\d', 'label': 'PART_NUM'}, \n",
    " {'expression': r'[a-zA-Z][a-zA-Z][a-zA-Z]-\\d\\d[a-zA-Z]\\d\\d\\d\\d', 'label': 'PART_NUM'}, \n",
    " {'expression': r'[a-zA-Z][a-zA-Z][a-zA-Z]-\\d\\d[a-zA-Z]\\d\\d\\d\\d[a-zA-Z]', 'label': 'PART_NUM'}, \n",
    " {'expression': r'[a-zA-Z][a-zA-Z][a-zA-Z]-\\d\\d\\d\\d\\d\\d\\d\\d\\d\\d', 'label': 'PART_NUM'}, \n",
    " {'expression': r'[a-zA-Z][a-zA-Z][a-zA-Z]-\\d\\d\\d\\d[a-zA-Z][a-zA-Z]\\d\\d', 'label': 'PART_NUM'}, \n",
    " {'expression': r'[a-zA-Z][a-zA-Z][a-zA-Z]-\\d\\d\\d[a-zA-Z]\\d\\d\\d\\d\\d', 'label': 'PART_NUM'}, \n",
    " {'expression': r'[a-zA-Z][a-zA-Z][a-zA-Z]-[a-zA-Z][a-zA-Z]\\d\\d\\d[a-zA-Z][a-zA-Z]', 'label': 'PART_NUM'}, \n",
    " {'expression': r'[a-zA-Z][a-zA-Z][a-zA-Z]-\\d\\d\\d-\\d\\d\\d\\d', 'label': 'PART_NUM'}, \n",
    " {'expression': r'[a-zA-Z][a-zA-Z][a-zA-Z]-[a-zA-Z][a-zA-Z]\\d\\d\\d', 'label': 'PART_NUM'}, \n",
    " {'expression': r'[a-zA-Z][a-zA-Z][a-zA-Z]-\\d\\d\\d\\d[a-zA-Z]\\d\\d[a-zA-Z][a-zA-Z]\\d', 'label': 'PART_NUM'}, \n",
    " {'expression': r'[a-zA-Z][a-zA-Z]\\d\\d-[a-zA-Z][a-zA-Z]', 'label': 'PART_NUM'}, \n",
    " {'expression': r'[a-zA-Z][a-zA-Z][a-zA-Z]-[a-zA-Z][a-zA-Z]-\\d\\d\\d[a-zA-Z]', 'label': 'PART_NUM'}, \n",
    " {'expression': r'[a-zA-Z][a-zA-Z][a-zA-Z]-[a-zA-Z]\\d\\d[a-zA-Z][a-zA-Z]\\d\\d[a-zA-Z]\\d\\d\\d\\d', 'label': 'PART_NUM'}, \n",
    " {'expression': r'[a-zA-Z][a-zA-Z][a-zA-Z]-[a-zA-Z]\\d\\d\\d\\d\\d\\d[a-zA-Z]', 'label': 'PART_NUM'}, \n",
    " {'expression': r'[a-zA-Z][a-zA-Z][a-zA-Z]-[a-zA-Z][a-zA-Z][a-zA-Z][a-zA-Z]-\\d\\d\\d[a-zA-Z]', 'label': 'PART_NUM'}, \n",
    " {'expression': r'[a-zA-Z][a-zA-Z][a-zA-Z]-\\d\\d\\d\\d\\d[a-zA-Z][a-zA-Z]', 'label': 'PART_NUM'}, \n",
    " {'expression': r'[a-zA-Z][a-zA-Z][a-zA-Z]-\\d\\d[a-zA-Z]\\d[a-zA-Z]\\d\\d', 'label': 'PART_NUM'}, \n",
    " {'expression': r'[a-zA-Z][a-zA-Z][a-zA-Z]-\\d\\d[a-zA-Z]\\d[a-zA-Z][a-zA-Z]\\d', 'label': 'PART_NUM'}, \n",
    " {'expression': r'[a-zA-Z][a-zA-Z][a-zA-Z]-\\d\\d\\d[a-zA-Z][a-zA-Z]', 'label': 'PART_NUM'}, \n",
    " {'expression': r'[a-zA-Z][a-zA-Z][a-zA-Z]-[a-zA-Z]\\d\\d\\d\\d[a-zA-Z][a-zA-Z][a-zA-Z]', 'label': 'PART_NUM'}, \n",
    " {'expression': r'[a-zA-Z][a-zA-Z][a-zA-Z]-\\d\\d-\\d\\d\\d\\d\\d-\\d\\d\\d', 'label': 'PART_NUM'}, \n",
    " {'expression': r'[a-zA-Z][a-zA-Z][a-zA-Z]-[a-zA-Z]\\d\\d\\d[a-zA-Z]\\d[a-zA-Z][a-zA-Z]', 'label': 'PART_NUM'}, \n",
    " {'expression': r'[a-zA-Z][a-zA-Z][a-zA-Z]-\\d\\d\\d\\d\\d\\d-\\d\\d\\d', 'label': 'PART_NUM'}, \n",
    " {'expression': r'[a-zA-Z][a-zA-Z][a-zA-Z]-[a-zA-Z]-\\d\\d\\d', 'label': 'PART_NUM'}, \n",
    " {'expression': r'[a-zA-Z][a-zA-Z][a-zA-Z]-[a-zA-Z]\\d\\d\\d[a-zA-Z]\\d\\d[a-zA-Z]-[a-zA-Z]', 'label': 'PART_NUM'}, \n",
    " {'expression': r'[a-zA-Z][a-zA-Z][a-zA-Z]-[a-zA-Z]\\d\\d\\d\\d\\d\\d\\d', 'label': 'PART_NUM'}, \n",
    " {'expression': r'[a-zA-Z][a-zA-Z][a-zA-Z]-[a-zA-Z][a-zA-Z]\\d\\d\\d\\d[a-zA-Z][a-zA-Z]\\d\\d\\d', 'label': 'PART_NUM'}, \n",
    " {'expression': r'[a-zA-Z][a-zA-Z][a-zA-Z]-\\d\\d[a-zA-Z]\\d\\d\\d\\d-[a-zA-Z][a-zA-Z]', 'label': 'PART_NUM'}, \n",
    " {'expression': r'[a-zA-Z][a-zA-Z][a-zA-Z]-[a-zA-Z][a-zA-Z]\\d\\d\\d[a-zA-Z]', 'label': 'PART_NUM'}, \n",
    " {'expression': r'[a-zA-Z][a-zA-Z][a-zA-Z]-\\d\\d\\d\\d\\d\\d', 'label': 'PART_NUM'}, \n",
    " {'expression': r'[a-zA-Z][a-zA-Z][a-zA-Z]-[a-zA-Z][a-zA-Z][a-zA-Z][a-zA-Z][a-zA-Z]\\d\\d\\d[a-zA-Z][a-zA-Z]', 'label': 'PART_NUM'}, \n",
    " {'expression': r'[a-zA-Z][a-zA-Z][a-zA-Z]-\\d[a-zA-Z][a-zA-Z]\\d\\d\\d\\d\\d\\d\\d', 'label': 'PART_NUM'}, \n",
    " {'expression': r'[a-zA-Z][a-zA-Z][a-zA-Z]-\\d\\d\\d[a-zA-Z]\\d\\d\\d\\d\\d', 'label': 'PART_NUM'}, \n",
    " {'expression': r'[a-zA-Z][a-zA-Z][a-zA-Z]-\\d\\d\\d\\d\\d\\d\\d\\d\\d', 'label': 'PART_NUM'}, \n",
    " {'expression': r'[a-zA-Z][a-zA-Z][a-zA-Z]-\\d\\d\\d\\d[a-zA-Z][a-zA-Z][a-zA-Z]-\\d\\d\\d', 'label': 'PART_NUM'}, \n",
    " {'expression': r'[a-zA-Z][a-zA-Z][a-zA-Z]-[a-zA-Z][a-zA-Z]\\d\\d\\d[a-zA-Z][a-zA-Z]', 'label': 'PART_NUM'}, \n",
    " {'expression': r'[a-zA-Z][a-zA-Z][a-zA-Z]-\\d\\d\\d-\\d\\d\\d\\d', 'label': 'PART_NUM'}, \n",
    " {'expression': r'[a-zA-Z][a-zA-Z][a-zA-Z]-[a-zA-Z][a-zA-Z]\\d\\d\\d[a-zA-Z]-[a-zA-Z]', 'label': 'PART_NUM'}, \n",
    " {'expression': r'[a-zA-Z][a-zA-Z][a-zA-Z]-[a-zA-Z]\\d\\d\\d-\\d\\d\\d\\d\\d\\d', 'label': 'PART_NUM'}, \n",
    " {'expression': r'[a-zA-Z][a-zA-Z][a-zA-Z]-\\d[a-zA-Z][a-zA-Z]\\d[a-zA-Z]', 'label': 'PART_NUM'}, \n",
    " {'expression': r'[a-zA-Z][a-zA-Z][a-zA-Z]-[a-zA-Z][a-zA-Z]\\d\\d-\\d\\d\\d\\d\\d[a-zA-Z]', 'label': 'PART_NUM'}, \n",
    " {'expression': r'[a-zA-Z][a-zA-Z][a-zA-Z]-[a-zA-Z][a-zA-Z][a-zA-Z]\\d', 'label': 'PART_NUM'}, \n",
    " {'expression': r'[a-zA-Z][a-zA-Z][a-zA-Z]-\\d\\d\\d\\d-\\d\\d\\d', 'label': 'PART_NUM'}, \n",
    " {'expression': r'[a-zA-Z][a-zA-Z][a-zA-Z]-[a-zA-Z]\\d[a-zA-Z][a-zA-Z][a-zA-Z][a-zA-Z][a-zA-Z][a-zA-Z][a-zA-Z]', 'label': 'PART_NUM'}, \n",
    " {'expression': r'[a-zA-Z][a-zA-Z][a-zA-Z]-\\d\\d\\d\\d\\d\\d\\d\\d', 'label': 'PART_NUM'}, \n",
    " {'expression': r'[a-zA-Z][a-zA-Z][a-zA-Z]-\\d\\d\\d\\d\\d-\\d\\d-[a-zA-Z]', 'label': 'PART_NUM'}, \n",
    " {'expression': r'[a-zA-Z][a-zA-Z][a-zA-Z]-[a-zA-Z][a-zA-Z][a-zA-Z]\\d\\d\\d[a-zA-Z]', 'label': 'PART_NUM'}, \n",
    " {'expression': r'[a-zA-Z][a-zA-Z][a-zA-Z]-\\d\\d\\d\\d[a-zA-Z][a-zA-Z]\\d[a-zA-Z][a-zA-Z]\\d', 'label': 'PART_NUM'}, \n",
    " {'expression': r'[a-zA-Z][a-zA-Z][a-zA-Z]-[a-zA-Z][a-zA-Z][a-zA-Z]\\d\\d\\d\\d[a-zA-Z][a-zA-Z]\\d[a-zA-Z]', 'label': 'PART_NUM'}, \n",
    " {'expression': r'[a-zA-Z][a-zA-Z][a-zA-Z]-\\d\\d\\d[a-zA-Z][a-zA-Z]\\d\\d\\d\\d\\d', 'label': 'PART_NUM'}, \n",
    " {'expression': r'[a-zA-Z][a-zA-Z][a-zA-Z]-[a-zA-Z][a-zA-Z]\\d\\d\\d-\\d\\d\\d\\d\\d', 'label': 'PART_NUM'}, \n",
    " {'expression': r'[a-zA-Z][a-zA-Z][a-zA-Z]-\\d[a-zA-Z]\\d\\d[a-zA-Z][a-zA-Z]\\d[a-zA-Z][a-zA-Z]\\d', 'label': 'PART_NUM'}, \n",
    " {'expression': r'[a-zA-Z][a-zA-Z][a-zA-Z]-\\d\\d[a-zA-Z]\\d\\d\\d\\d', 'label': 'PART_NUM'}, \n",
    " {'expression': r'[a-zA-Z][a-zA-Z][a-zA-Z]-\\d\\d\\d[a-zA-Z][a-zA-Z]\\d\\d\\d\\d\\d', 'label': 'PART_NUM'}, \n",
    " {'expression': r'\\d\\d\\d-[a-zA-Z]\\d[a-zA-Z][a-zA-Z]\\d', 'label': 'PART_NUM'}, \n",
    " {'expression': r'[a-zA-Z][a-zA-Z][a-zA-Z]-\\d\\d[a-zA-Z]\\d\\d\\d\\d', 'label': 'PART_NUM'}, \n",
    " {'expression': r'[a-zA-Z][a-zA-Z][a-zA-Z]-\\d[a-zA-Z][a-zA-Z]\\d\\d\\d\\d\\d\\d\\d', 'label': 'PART_NUM'}, \n",
    " {'expression': r'[a-zA-Z][a-zA-Z][a-zA-Z]-[a-zA-Z][a-zA-Z]\\d\\d\\d\\d\\d\\d', 'label': 'PART_NUM'}, \n",
    " {'expression': r'[a-zA-Z][a-zA-Z][a-zA-Z]-\\d\\d[a-zA-Z]\\d\\d\\d\\d\\d', 'label': 'PART_NUM'}, \n",
    " {'expression': r'[a-zA-Z][a-zA-Z][a-zA-Z]-[a-zA-Z][a-zA-Z]\\d\\d\\d\\d\\d\\d\\d', 'label': 'PART_NUM'}, \n",
    " {'expression': r'[a-zA-Z][a-zA-Z][a-zA-Z]-[a-zA-Z]\\d\\d[a-zA-Z][a-zA-Z]\\d\\d\\d\\d\\d', 'label': 'PART_NUM'}, \n",
    " {'expression': r'[a-zA-Z][a-zA-Z][a-zA-Z]-\\d\\d\\d[a-zA-Z]\\d\\d\\d\\d\\d\\d', 'label': 'PART_NUM'}, \n",
    " {'expression': r'[a-zA-Z][a-zA-Z][a-zA-Z]-[a-zA-Z][a-zA-Z][a-zA-Z]\\d\\d\\d\\d\\d\\d', 'label': 'PART_NUM'}, \n",
    " {'expression': r'[a-zA-Z][a-zA-Z][a-zA-Z]-\\d\\d\\d-\\d\\d\\d\\d', 'label': 'PART_NUM'}, \n",
    " {'expression': r'[a-zA-Z][a-zA-Z][a-zA-Z]-[a-zA-Z][a-zA-Z]\\d\\d\\d[a-zA-Z][a-zA-Z][a-zA-Z]', 'label': 'PART_NUM'}, \n",
    " {'expression': r'\\d[a-zA-Z]-[a-zA-Z][a-zA-Z]\\d\\d\\d-[a-zA-Z]\\d', 'label': 'PART_NUM'}, \n",
    " {'expression': r'\\d[a-zA-Z]\\d-\\d\\d\\d\\d-\\d\\d\\d[a-zA-Z][a-zA-Z]', 'label': 'PART_NUM'}, \n",
    " {'expression': r'[a-zA-Z]\\d\\d\\d\\d-\\d\\d\\d\\d\\d[a-zA-Z][a-zA-Z][a-zA-Z][a-zA-Z]', 'label': 'PART_NUM'}, \n",
    " {'expression': r'[a-zA-Z][a-zA-Z][a-zA-Z]-[a-zA-Z][a-zA-Z][a-zA-Z]\\d[a-zA-Z][a-zA-Z][a-zA-Z]\\d\\d\\d', 'label': 'PART_NUM'}, \n",
    " {'expression': r'[a-zA-Z][a-zA-Z][a-zA-Z]-[a-zA-Z]\\d\\d\\d\\d\\d\\d\\d\\d\\d', 'label': 'PART_NUM'}, \n",
    " {'expression': r'[a-zA-Z][a-zA-Z]66-01190A', 'label': 'PART_NUM'}, \n",
    " {'expression': r'[a-zA-Z][a-zA-Z][a-zA-Z]-\\d\\d\\d\\d[a-zA-Z][a-zA-Z][a-zA-Z]', 'label': 'PART_NUM'}, \n",
    " {'expression': r'[a-zA-Z][a-zA-Z][a-zA-Z]-\\d\\d\\d\\d[a-zA-Z][a-zA-Z][a-zA-Z]-[a-zA-Z]', 'label': 'PART_NUM'}, \n",
    " {'expression': r'[a-zA-Z][a-zA-Z][a-zA-Z]-\\d\\d\\d\\d[a-zA-Z][a-zA-Z]', 'label': 'PART_NUM'}, \n",
    " {'expression': r'[a-zA-Z][a-zA-Z][a-zA-Z]-\\d\\d\\d\\d-[a-zA-Z]\\d', 'label': 'PART_NUM'}, \n",
    " {'expression': r'[a-zA-Z][a-zA-Z][a-zA-Z]-[a-zA-Z]\\d\\d\\d-[a-zA-Z]\\d', 'label': 'PART_NUM'}, \n",
    " {'expression': r'[a-zA-Z][a-zA-Z][a-zA-Z]-[a-zA-Z]\\d\\d\\d[a-zA-Z]', 'label': 'PART_NUM'}, \n",
    " {'expression': r'[a-zA-Z][a-zA-Z][a-zA-Z]-[a-zA-Z]\\d\\d\\d[a-zA-Z]\\d\\d[a-zA-Z]', 'label': 'PART_NUM'}, \n",
    " {'expression': r'[a-zA-Z][a-zA-Z][a-zA-Z]-[a-zA-Z][a-zA-Z][a-zA-Z][a-zA-Z][a-zA-Z]\\d\\d\\d\\d[a-zA-Z]', 'label': 'PART_NUM'}, \n",
    " {'expression': r'[a-zA-Z][a-zA-Z][a-zA-Z][a-zA-Z][a-zA-Z][a-zA-Z][a-zA-Z]-\\d\\d\\d\\d[a-zA-Z][a-zA-Z]\\d\\d', 'label': 'PART_NUM'}, \n",
    " {'expression': r'[a-zA-Z][a-zA-Z][a-zA-Z]-\\d\\d\\d-\\d\\d\\d\\d-\\d', 'label': 'PART_NUM'}, \n",
    " {'expression': r'\\d\\d-\\d\\d\\d\\d', 'label': 'PART_NUM'}, \n",
    " {'expression': r'[a-zA-Z][a-zA-Z][a-zA-Z]-[a-zA-Z][a-zA-Z]\\d\\d\\d\\d\\d\\d\\d', 'label': 'PART_NUM'}, \n",
    " {'expression': r'[a-zA-Z]\\d\\d\\d\\d-\\d\\d\\d\\d\\d-[a-zA-Z][a-zA-Z][a-zA-Z]', 'label': 'PART_NUM'}, \n",
    " {'expression': r'[a-zA-Z]\\d\\d\\d[a-zA-Z][a-zA-Z]\\d\\d[a-zA-Z]-\\d\\d\\d\\d\\d', 'label': 'PART_NUM'}, \n",
    " {'expression': r'\\d\\d[a-zA-Z][a-zA-Z]-\\d\\d\\d\\d\\d[a-zA-Z][a-zA-Z]', 'label': 'PART_NUM'}, \n",
    " {'expression': r'[a-zA-Z][a-zA-Z]\\d-\\d\\d\\d\\d-[a-zA-Z][a-zA-Z][a-zA-Z][a-zA-Z]', 'label': 'PART_NUM'}, \n",
    " {'expression': r'[a-zA-Z][a-zA-Z]\\d\\d\\d-\\d\\d\\d\\d\\d-[a-zA-Z][a-zA-Z]', 'label': 'PART_NUM'}, \n",
    " {'expression': r'[a-zA-Z][a-zA-Z]\\d\\d\\d-\\d\\d\\d\\d\\d', 'label': 'PART_NUM'}, \n",
    " {'expression': r'[a-zA-Z][a-zA-Z][a-zA-Z]-[a-zA-Z][a-zA-Z]\\d\\d\\d', 'label': 'PART_NUM'}, \n",
    " {'expression': r'[a-zA-Z][a-zA-Z]\\d\\d-\\d\\d\\d\\d\\d[a-zA-Z]', 'label': 'PART_NUM'}, \n",
    " {'expression': r'[a-zA-Z][a-zA-Z][a-zA-Z][a-zA-Z][a-zA-Z][a-zA-Z][a-zA-Z]-\\d\\d\\d\\d[a-zA-Z][a-zA-Z]\\d\\d', 'label': 'PART_NUM'}, \n",
    " {'expression': r'[a-zA-Z][a-zA-Z][a-zA-Z][a-zA-Z][a-zA-Z][a-zA-Z][a-zA-Z]-\\d\\d\\d\\d[a-zA-Z][a-zA-Z][a-zA-Z][a-zA-Z]', 'label': 'PART_NUM'}, \n",
    " {'expression': r'[a-zA-Z][a-zA-Z][a-zA-Z][a-zA-Z][a-zA-Z][a-zA-Z][a-zA-Z]-\\d\\d\\d\\d[a-zA-Z][a-zA-Z][a-zA-Z]\\d', 'label': 'PART_NUM'}, \n",
    " {'expression': r'\\d\\d\\d-\\d\\d-\\d\\d-\\d\\d\\d', 'label': 'PART_NUM'}, \n",
    " {'expression': r'\\d\\d\\d\\d\\d\\d\\d\\d\\d-\\d\\d', 'label': 'PART_NUM'}, \n",
    " {'expression': r'[a-zA-Z][a-zA-Z][a-zA-Z][a-zA-Z][a-zA-Z][a-zA-Z][a-zA-Z][a-zA-Z]\\d\\d\\d[a-zA-Z]\\d[a-zA-Z]-\\d', 'label': 'PART_NUM'}, \n",
    " {'expression': r'[a-zA-Z][a-zA-Z][a-zA-Z][a-zA-Z][a-zA-Z][a-zA-Z][a-zA-Z][a-zA-Z][a-zA-Z]\\d\\d[a-zA-Z]\\d\\d-\\d', 'label': 'PART_NUM'}, \n",
    " {'expression': r'[a-zA-Z][a-zA-Z][a-zA-Z][a-zA-Z][a-zA-Z][a-zA-Z][a-zA-Z]-\\d\\d\\d\\d[a-zA-Z][a-zA-Z][a-zA-Z]\\d', 'label': 'PART_NUM'}, \n",
    " {'expression': r'[a-zA-Z][a-zA-Z][a-zA-Z][a-zA-Z]-[a-zA-Z][a-zA-Z]\\d\\d\\d\\d[a-zA-Z][a-zA-Z][a-zA-Z][a-zA-Z]', 'label': 'PART_NUM'}, \n",
    " {'expression': r'[a-zA-Z][a-zA-Z][a-zA-Z][a-zA-Z][a-zA-Z][a-zA-Z]-[a-zA-Z]\\d\\d\\d\\d[a-zA-Z][a-zA-Z][a-zA-Z][a-zA-Z]', 'label': 'PART_NUM'}, \n",
    " {'expression': r'[a-zA-Z][a-zA-Z][a-zA-Z][a-zA-Z][a-zA-Z][a-zA-Z][a-zA-Z][a-zA-Z]\\d[a-zA-Z]\\d\\d[a-zA-Z][a-zA-Z]-\\d', 'label': 'PART_NUM'}, \n",
    " {'expression': r'[a-zA-Z][a-zA-Z][a-zA-Z][a-zA-Z][a-zA-Z]-[a-zA-Z][a-zA-Z]\\d\\d\\d\\d[a-zA-Z][a-zA-Z][a-zA-Z][a-zA-Z]', 'label': 'PART_NUM'}, \n",
    " {'expression': r'\\d\\d\\d-\\d\\d\\d\\d\\d\\d', 'label': 'PART_NUM'}, \n",
    " {'expression': r'[a-zA-Z][a-zA-Z][a-zA-Z][a-zA-Z][a-zA-Z][a-zA-Z][a-zA-Z][a-zA-Z]\\d[a-zA-Z]\\d\\d[a-zA-Z]\\d-\\d\\d', 'label': 'PART_NUM'}, \n",
    " {'expression': r'[a-zA-Z]\\d\\d-\\d\\d\\d\\d', 'label': 'PART_NUM'}, \n",
    " {'expression': r'\\d\\d\\d\\d\\d\\d\\d\\d\\d-\\d', 'label': 'PART_NUM'}, \n",
    " {'expression': r'\\d\\d\\d\\d-\\d\\d\\d\\d', 'label': 'PART_NUM'}, \n",
    " {'expression': r'[a-zA-Z]\\d-[a-zA-Z][a-zA-Z][a-zA-Z][a-zA-Z][a-zA-Z]-\\d\\d', 'label': 'PART_NUM'}, \n",
    " {'expression': r'[a-zA-Z][a-zA-Z]\\d-\\d\\d\\d\\d-\\d\\d\\d-[a-zA-Z][a-zA-Z]', 'label': 'PART_NUM'}, \n",
    " {'expression': r'[a-zA-Z]\\d[a-zA-Z]\\d\\d-\\d\\d\\d\\d\\d-[a-zA-Z][a-zA-Z]', 'label': 'PART_NUM'}, \n",
    " {'expression': r'[a-zA-Z][a-zA-Z]\\d\\d\\d\\d\\d-[a-zA-Z]\\d\\d\\d[a-zA-Z][a-zA-Z]', 'label': 'PART_NUM'}, \n",
    " {'expression': r'[a-zA-Z][a-zA-Z]\\d\\d\\d-\\d\\d\\d\\d\\d-[a-zA-Z][a-zA-Z]', 'label': 'PART_NUM'}, \n",
    " {'expression': r'[a-zA-Z][a-zA-Z]\\d\\d\\d-\\d\\d\\d\\d\\d-[a-zA-Z][a-zA-Z][a-zA-Z][a-zA-Z]', 'label': 'PART_NUM'}, \n",
    " {'expression': r'[a-zA-Z][a-zA-Z]\\d\\d-[a-zA-Z]\\d', 'label': 'PART_NUM'}, \n",
    " {'expression': r'\\d\\d\\d\\d\\d\\d-\\d\\d\\d[a-zA-Z]', 'label': 'PART_NUM'}, \n",
    " {'expression': r'[a-zA-Z][a-zA-Z]\\d\\d\\d-\\d\\d\\d\\d\\d', 'label': 'PART_NUM'}, \n",
    " {'expression': r'[a-zA-Z][a-zA-Z][a-zA-Z]-\\d\\d[a-zA-Z]\\d[a-zA-Z]\\d\\d', 'label': 'PART_NUM'}, \n",
    " {'expression': r'[a-zA-Z][a-zA-Z][a-zA-Z][a-zA-Z][a-zA-Z][a-zA-Z]-[a-zA-Z]\\d\\d\\d\\d[a-zA-Z][a-zA-Z][a-zA-Z]', 'label': 'PART_NUM'}, \n",
    " {'expression': r'[a-zA-Z][a-zA-Z][a-zA-Z][a-zA-Z][a-zA-Z]-[a-zA-Z][a-zA-Z]\\d\\d\\d\\d[a-zA-Z][a-zA-Z][a-zA-Z][a-zA-Z]', 'label': 'PART_NUM'}, \n",
    " {'expression': r'[a-zA-Z][a-zA-Z]\\d\\d[a-zA-Z]-[a-zA-Z][a-zA-Z]', 'label': 'PART_NUM'}, \n",
    " {'expression': r'[a-zA-Z][a-zA-Z][a-zA-Z][a-zA-Z][a-zA-Z][a-zA-Z]-\\d\\d\\d\\d[a-zA-Z][a-zA-Z][a-zA-Z][a-zA-Z]', 'label': 'PART_NUM'}, \n",
    "#  {'expression': r'order', 'label': 'ACTION'}, \n",
    "#  {'expression': r'recommended', 'label': 'ACTION'}, \n",
    "#  {'expression': r'hfpu', 'label': 'ACTION'}, \n",
    "#  {'expression': r'ship', 'label': 'ACTION'}, \n",
    "#  {'expression': r'fedex', 'label': 'ACTION'}, \n",
    "#  {'expression': r'hal', 'label': 'ACTION'}, \n",
    "#  {'expression': r'site', 'label': 'ACTION'}, \n",
    "#  {'expression': r'send', 'label': 'ACTION'}, \n",
    "#  {'expression': r'location', 'label': 'ACTION'}, \n",
    "#  {'expression': r'pickup', 'label': 'ACTION'}, \n",
    "#  {'expression': r'sent', 'label': 'ACTION'}, \n",
    "#  {'expression': r'requested', 'label': 'ACTION'}, \n",
    "#  {'expression': r'reorder', 'label': 'ACTION'}, \n",
    "#  {'expression': r'street', 'label': 'ACTION'}, \n",
    "#  {'expression': r'hfp', 'label': 'ACTION'}, \n",
    "#  {'expression': r'shipped', 'label': 'ACTION'}, \n",
    "#  {'expression': r'delivery', 'label': 'ACTION'}, \n",
    "#  {'expression': r'recommend', 'label': 'ACTION'}, \n",
    "#  {'expression': r'warehouse', 'label': 'ACTION'}    \n",
    "]"
   ]
  },
  {
   "cell_type": "code",
   "execution_count": 17,
   "id": "140e652e",
   "metadata": {
    "ExecuteTime": {
     "end_time": "2021-08-25T00:31:47.385334Z",
     "start_time": "2021-08-25T00:31:47.377930Z"
    }
   },
   "outputs": [],
   "source": [
    "common_words_patterns = [\n",
    " {'expression': r'order', 'label': 'ACTION'}, \n",
    " {'expression': r'recommended', 'label': 'ACTION'}, \n",
    " {'expression': r'hfpu', 'label': 'ACTION'}, \n",
    " {'expression': r'ship', 'label': 'ACTION'}, \n",
    " {'expression': r'fedex', 'label': 'ACTION'}, \n",
    " {'expression': r'hal', 'label': 'ACTION'}, \n",
    " {'expression': r'site', 'label': 'ACTION'}, \n",
    " {'expression': r'send', 'label': 'ACTION'}, \n",
    " {'expression': r'location', 'label': 'ACTION'}, \n",
    " {'expression': r'pickup', 'label': 'ACTION'}, \n",
    " {'expression': r'sent', 'label': 'ACTION'}, \n",
    " {'expression': r'requested', 'label': 'ACTION'}, \n",
    " {'expression': r'reorder', 'label': 'ACTION'}, \n",
    " {'expression': r'street', 'label': 'ACTION'}, \n",
    " {'expression': r'hfp', 'label': 'ACTION'}, \n",
    " {'expression': r'shipped', 'label': 'ACTION'}, \n",
    " {'expression': r'delivery', 'label': 'ACTION'}, \n",
    " {'expression': r'recommend', 'label': 'ACTION'}, \n",
    " {'expression': r'warehouse', 'label': 'ACTION'}   \n",
    "]"
   ]
  },
  {
   "cell_type": "code",
   "execution_count": 18,
   "id": "35c2c78c",
   "metadata": {
    "ExecuteTime": {
     "end_time": "2021-08-25T00:31:47.400222Z",
     "start_time": "2021-08-25T00:31:47.387939Z"
    }
   },
   "outputs": [],
   "source": [
    "def generate_label(texts, patterns={}):   \n",
    "    \n",
    "    def entity_from_patterns(text, patterns, pattern_matchs):        \n",
    "        entities = {}\n",
    "#         print('-'*50)  \n",
    "        for pattern in patterns:\n",
    "            entities = entity_from_pattern(text, pattern, entities, pattern_matchs)\n",
    "        entities = [value for _, value in sorted(entities.items(), key=lambda item: item[0][0])]\n",
    "        return entities\n",
    "\n",
    "    def entity_from_pattern(text, pattern, entities, pattern_matchs):\n",
    "        expression = pattern['expression']\n",
    "        label = pattern['label']\n",
    "        for match in re.finditer(expression, text):\n",
    "            start, end = match.span()    \n",
    "            add_key = True\n",
    "            if start-1 >= 0 and text[start-1]!=' ':\n",
    "                add_key = False\n",
    "            if end < len(text) and text[end]!=' ':\n",
    "                add_key = False                \n",
    "                \n",
    "#             drop_keys = []\n",
    "#             for key, value in entities.items():\n",
    "#                 start_, end_ = key\n",
    "#                 if start<start_ and end>end_:\n",
    "#                     drop_keys.append(key)\n",
    "#                 if start>start_ and end<end_:\n",
    "#                     add_key = False\n",
    "#             for key in drop_keys:\n",
    "#                 entities.pop(key)\n",
    "\n",
    "            if add_key: \n",
    "#                 print(text, expression)\n",
    "                pattern_matchs[expression] = pattern_matchs[expression] + 1\n",
    "                entities[(start, end)] = (start, end, label) \n",
    "        return entities\n",
    "        \n",
    "    examples = []\n",
    "    pattern_matchs = {pattern['expression']:0 for pattern in patterns}\n",
    "    for text in texts:\n",
    "        entities = entity_from_patterns(text, patterns, pattern_matchs)        \n",
    "        example = (text, {\"entities\": entities})\n",
    "        examples.append(example)\n",
    "    pattern_matchs = [(key, value) for key, value in sorted(pattern_matchs.items(), key=lambda item: -item[1]) if value>0]\n",
    "#     pattern_matchs = [(key, value) for key, value in pattern_matchs if value>0]\n",
    "        \n",
    "    return examples, pattern_matchs"
   ]
  },
  {
   "cell_type": "markdown",
   "id": "8136ab3c",
   "metadata": {},
   "source": [
    "see some sample data."
   ]
  },
  {
   "cell_type": "code",
   "execution_count": 19,
   "id": "79f3cc6f",
   "metadata": {
    "ExecuteTime": {
     "end_time": "2021-08-25T00:31:47.455478Z",
     "start_time": "2021-08-25T00:31:47.403156Z"
    },
    "scrolled": false
   },
   "outputs": [
    {
     "name": "stdout",
     "output_type": "stream",
     "text": [
      "--------------------------------------------------\n",
      "please create a revisit for wednesday . #normal please order part # l51580-001 and l31365-001 to concord , california hal setting up time to meet with customer . \n",
      "('l51580-001', 68, 78, 'PART_NUM')\n",
      "('l31365-001', 83, 93, 'PART_NUM')\n",
      "--------------------------------------------------\n",
      "please order battery 933321-855 ship to ups hold for pickup , tuscany way , austin . . please reassign to rob silcocks\n",
      "('933321-855', 21, 31, 'PART_NUM')\n",
      "--------------------------------------------------\n",
      "per l2 please order: 2yb64-67005 , 2yb64-67003 xl3600 , 6kd23-67021 xl3600 , 6kd23-67030 , and two 2yb64-67002\n",
      "('2yb64-67005', 21, 32, 'PART_NUM')\n",
      "('2yb64-67003', 35, 46, 'PART_NUM')\n",
      "('6kd23-67021', 56, 67, 'PART_NUM')\n",
      "('6kd23-67030', 77, 88, 'PART_NUM')\n",
      "('2yb64-67002', 99, 110, 'PART_NUM')\n",
      "--------------------------------------------------\n",
      "please create a revisite for 7-16-2021 at 1300 order part number q5669-60687 please order 2 q6683-67001 t8w18-67001 ship to el paso texas for hfpu\n",
      "('q5669-60687', 65, 76, 'PART_NUM')\n",
      "('q6683-67001', 92, 103, 'PART_NUM')\n",
      "('t8w18-67001', 104, 115, 'PART_NUM')\n",
      "--------------------------------------------------\n",
      "please create a revisite for 7-23-2021 for printheads replacement . customer will order\n",
      "\n",
      "==================================================\n",
      "('\\\\d[a-zA-Z][a-zA-Z]\\\\d\\\\d-\\\\d\\\\d\\\\d\\\\d\\\\d', 5)\n",
      "('[a-zA-Z]\\\\d\\\\d\\\\d\\\\d\\\\d-\\\\d\\\\d\\\\d', 2)\n",
      "('[a-zA-Z]\\\\d\\\\d\\\\d\\\\d-\\\\d\\\\d\\\\d\\\\d\\\\d', 2)\n",
      "('\\\\d\\\\d\\\\d\\\\d\\\\d\\\\d-\\\\d\\\\d\\\\d', 1)\n",
      "('[a-zA-Z]\\\\d[a-zA-Z]\\\\d\\\\d-\\\\d\\\\d\\\\d\\\\d\\\\d', 1)\n"
     ]
    }
   ],
   "source": [
    "def show_entity_label(text_entities, pattern_matchs):\n",
    "    for example in text_entities:\n",
    "        print('-'*50)\n",
    "        text, annotations = example\n",
    "        print(text) \n",
    "        print(*[(text[start:end], start, end, label) for start, end, label in annotations['entities']], sep='\\n')\n",
    "    print('='*50)\n",
    "    print(*pattern_matchs, sep='\\n')\n",
    "    \n",
    "texts = [standardize_text1(note) for note in df_sample.notes]  \n",
    "sample_text_entities, sample_pattern_matchs = generate_label(texts, patterns=patterns)\n",
    "show_entity_label(sample_text_entities, sample_pattern_matchs)"
   ]
  },
  {
   "cell_type": "code",
   "execution_count": 56,
   "id": "667ed0d3",
   "metadata": {
    "ExecuteTime": {
     "end_time": "2021-08-25T01:31:03.174170Z",
     "start_time": "2021-08-25T01:31:03.040510Z"
    }
   },
   "outputs": [
    {
     "name": "stdout",
     "output_type": "stream",
     "text": [
      "4582\n",
      "1528\n"
     ]
    }
   ],
   "source": [
    "texts = [standardize_text1(note) for note in df_train_test.notes]           \n",
    "train_texts, test_texts = train_test_split(texts, test_size=0.25, random_state=199)\n",
    "print(len(train_texts))\n",
    "print(len(test_texts))"
   ]
  },
  {
   "cell_type": "code",
   "execution_count": 67,
   "id": "b1c3825b",
   "metadata": {
    "ExecuteTime": {
     "end_time": "2021-08-25T02:18:56.475542Z",
     "start_time": "2021-08-25T02:18:46.122289Z"
    }
   },
   "outputs": [],
   "source": [
    "text_entities, pattern_matchs = generate_label(texts, patterns=patterns)\n",
    "tran_text_entities, train_pattern_matchs = generate_label(train_texts, patterns=patterns)\n",
    "test_text_entities, test_pattern_matchs = generate_label(test_texts, patterns=patterns)"
   ]
  },
  {
   "cell_type": "code",
   "execution_count": 68,
   "id": "5d9a36d8",
   "metadata": {
    "ExecuteTime": {
     "end_time": "2021-08-25T02:18:56.481809Z",
     "start_time": "2021-08-25T02:18:56.477884Z"
    }
   },
   "outputs": [
    {
     "name": "stdout",
     "output_type": "stream",
     "text": [
      "6110\n",
      "('[a-zA-Z][a-zA-Z]\\\\d\\\\d\\\\d-\\\\d\\\\d\\\\d\\\\d\\\\d', 1449)\n",
      "('[a-zA-Z]\\\\d[a-zA-Z]\\\\d\\\\d-\\\\d\\\\d\\\\d\\\\d\\\\d', 1089)\n",
      "('[a-zA-Z][a-zA-Z]\\\\d-\\\\d\\\\d\\\\d\\\\d-\\\\d\\\\d\\\\d[a-zA-Z][a-zA-Z]', 643)\n",
      "('[a-zA-Z][a-zA-Z][a-zA-Z]-\\\\d\\\\d[a-zA-Z]\\\\d\\\\d\\\\d\\\\d', 597)\n",
      "('[a-zA-Z]\\\\d\\\\d\\\\d\\\\d\\\\d-\\\\d\\\\d\\\\d', 547)\n",
      "('\\\\d\\\\d\\\\d\\\\d\\\\d\\\\d-\\\\d\\\\d\\\\d', 400)\n",
      "('[a-zA-Z][a-zA-Z]\\\\d\\\\d-\\\\d\\\\d\\\\d\\\\d\\\\d[a-zA-Z]', 271)\n",
      "('\\\\d\\\\d\\\\d\\\\d-\\\\d\\\\d\\\\d\\\\d', 166)\n",
      "('[a-zA-Z]\\\\d\\\\d\\\\d\\\\d-\\\\d\\\\d\\\\d\\\\d\\\\d', 122)\n",
      "('[a-zA-Z][a-zA-Z][a-zA-Z]-\\\\d\\\\d[a-zA-Z]\\\\d[a-zA-Z]\\\\d\\\\d', 46)\n",
      "('\\\\d[a-zA-Z][a-zA-Z]\\\\d\\\\d-\\\\d\\\\d\\\\d\\\\d\\\\d', 39)\n",
      "('[a-zA-Z][a-zA-Z][a-zA-Z]-[a-zA-Z]\\\\d\\\\d\\\\d[a-zA-Z]\\\\d\\\\d[a-zA-Z]', 21)\n",
      "('[a-zA-Z][a-zA-Z][a-zA-Z]-\\\\d\\\\d\\\\d[a-zA-Z][a-zA-Z]\\\\d\\\\d\\\\d\\\\d\\\\d', 14)\n",
      "('[a-zA-Z]\\\\d\\\\d\\\\d\\\\d\\\\d-[a-zA-Z][a-zA-Z]\\\\d', 6)\n",
      "('\\\\d\\\\d-\\\\d\\\\d\\\\d\\\\d\\\\d-\\\\d\\\\d\\\\d', 5)\n",
      "('[a-zA-Z][a-zA-Z][a-zA-Z]-\\\\d\\\\d[a-zA-Z]\\\\d[a-zA-Z][a-zA-Z]\\\\d', 5)\n",
      "('[a-zA-Z][a-zA-Z][a-zA-Z]-[a-zA-Z][a-zA-Z]\\\\d\\\\d-\\\\d\\\\d\\\\d\\\\d\\\\d[a-zA-Z]', 5)\n",
      "('[a-zA-Z][a-zA-Z][a-zA-Z]-\\\\d\\\\d\\\\d[a-zA-Z]\\\\d\\\\d\\\\d\\\\d\\\\d\\\\d', 3)\n",
      "('[a-zA-Z][a-zA-Z]-\\\\d\\\\d\\\\d\\\\d\\\\d-\\\\d\\\\d', 2)\n",
      "('[a-zA-Z][a-zA-Z][a-zA-Z]-\\\\d\\\\d\\\\d\\\\d[a-zA-Z][a-zA-Z]\\\\d[a-zA-Z][a-zA-Z]\\\\d', 2)\n",
      "('[a-zA-Z][a-zA-Z][a-zA-Z]-\\\\d\\\\d[a-zA-Z]\\\\d\\\\d\\\\d\\\\d\\\\d', 2)\n",
      "('[a-zA-Z][a-zA-Z][a-zA-Z]-\\\\d\\\\d[a-zA-Z]\\\\d\\\\d\\\\d\\\\d[a-zA-Z]', 1)\n",
      "('\\\\d[a-zA-Z]\\\\d-\\\\d\\\\d\\\\d\\\\d-\\\\d\\\\d\\\\d[a-zA-Z][a-zA-Z]', 1)\n"
     ]
    }
   ],
   "source": [
    "print(len(text_entities))\n",
    "print(*pattern_matchs, sep='\\n')"
   ]
  },
  {
   "cell_type": "code",
   "execution_count": 66,
   "id": "71623ee0",
   "metadata": {
    "ExecuteTime": {
     "end_time": "2021-08-25T02:18:34.816784Z",
     "start_time": "2021-08-25T02:18:34.812590Z"
    }
   },
   "outputs": [
    {
     "name": "stdout",
     "output_type": "stream",
     "text": [
      "23\n",
      "('[a-zA-Z][a-zA-Z]\\\\d\\\\d\\\\d-\\\\d\\\\d\\\\d\\\\d\\\\d', 987)\n",
      "('[a-zA-Z]\\\\d[a-zA-Z]\\\\d\\\\d-\\\\d\\\\d\\\\d\\\\d\\\\d', 825)\n",
      "('[a-zA-Z][a-zA-Z]\\\\d-\\\\d\\\\d\\\\d\\\\d-\\\\d\\\\d\\\\d[a-zA-Z][a-zA-Z]', 489)\n",
      "('[a-zA-Z][a-zA-Z][a-zA-Z]-\\\\d\\\\d[a-zA-Z]\\\\d\\\\d\\\\d\\\\d', 450)\n",
      "('[a-zA-Z]\\\\d\\\\d\\\\d\\\\d\\\\d-\\\\d\\\\d\\\\d', 414)\n",
      "('\\\\d\\\\d\\\\d\\\\d\\\\d\\\\d-\\\\d\\\\d\\\\d', 287)\n",
      "('[a-zA-Z][a-zA-Z]\\\\d\\\\d-\\\\d\\\\d\\\\d\\\\d\\\\d[a-zA-Z]', 201)\n",
      "('\\\\d\\\\d\\\\d\\\\d-\\\\d\\\\d\\\\d\\\\d', 116)\n",
      "('[a-zA-Z]\\\\d\\\\d\\\\d\\\\d-\\\\d\\\\d\\\\d\\\\d\\\\d', 97)\n",
      "('[a-zA-Z][a-zA-Z][a-zA-Z]-\\\\d\\\\d[a-zA-Z]\\\\d[a-zA-Z]\\\\d\\\\d', 34)\n",
      "('\\\\d[a-zA-Z][a-zA-Z]\\\\d\\\\d-\\\\d\\\\d\\\\d\\\\d\\\\d', 31)\n",
      "('[a-zA-Z][a-zA-Z][a-zA-Z]-[a-zA-Z]\\\\d\\\\d\\\\d[a-zA-Z]\\\\d\\\\d[a-zA-Z]', 14)\n",
      "('[a-zA-Z][a-zA-Z][a-zA-Z]-\\\\d\\\\d\\\\d[a-zA-Z][a-zA-Z]\\\\d\\\\d\\\\d\\\\d\\\\d', 12)\n",
      "('\\\\d\\\\d-\\\\d\\\\d\\\\d\\\\d\\\\d-\\\\d\\\\d\\\\d', 5)\n",
      "('[a-zA-Z]\\\\d\\\\d\\\\d\\\\d\\\\d-[a-zA-Z][a-zA-Z]\\\\d', 4)\n",
      "('[a-zA-Z][a-zA-Z][a-zA-Z]-\\\\d\\\\d[a-zA-Z]\\\\d[a-zA-Z][a-zA-Z]\\\\d', 3)\n",
      "('[a-zA-Z][a-zA-Z][a-zA-Z]-[a-zA-Z][a-zA-Z]\\\\d\\\\d-\\\\d\\\\d\\\\d\\\\d\\\\d[a-zA-Z]', 3)\n",
      "('[a-zA-Z][a-zA-Z][a-zA-Z]-\\\\d\\\\d\\\\d[a-zA-Z]\\\\d\\\\d\\\\d\\\\d\\\\d\\\\d', 3)\n",
      "('[a-zA-Z][a-zA-Z][a-zA-Z]-\\\\d\\\\d\\\\d\\\\d[a-zA-Z][a-zA-Z]\\\\d[a-zA-Z][a-zA-Z]\\\\d', 2)\n",
      "('[a-zA-Z][a-zA-Z][a-zA-Z]-\\\\d\\\\d[a-zA-Z]\\\\d\\\\d\\\\d\\\\d\\\\d', 2)\n",
      "('[a-zA-Z][a-zA-Z]-\\\\d\\\\d\\\\d\\\\d\\\\d-\\\\d\\\\d', 1)\n",
      "('[a-zA-Z][a-zA-Z][a-zA-Z]-\\\\d\\\\d[a-zA-Z]\\\\d\\\\d\\\\d\\\\d[a-zA-Z]', 1)\n",
      "('\\\\d[a-zA-Z]\\\\d-\\\\d\\\\d\\\\d\\\\d-\\\\d\\\\d\\\\d[a-zA-Z][a-zA-Z]', 1)\n"
     ]
    }
   ],
   "source": [
    "print(len(train_pattern_matchs))\n",
    "print(*train_pattern_matchs, sep='\\n')  "
   ]
  },
  {
   "cell_type": "code",
   "execution_count": 59,
   "id": "51914bd0",
   "metadata": {
    "ExecuteTime": {
     "end_time": "2021-08-25T01:31:38.775798Z",
     "start_time": "2021-08-25T01:31:38.771577Z"
    }
   },
   "outputs": [
    {
     "name": "stdout",
     "output_type": "stream",
     "text": [
      "17\n",
      "('[a-zA-Z][a-zA-Z]\\\\d\\\\d\\\\d-\\\\d\\\\d\\\\d\\\\d\\\\d', 462)\n",
      "('[a-zA-Z]\\\\d[a-zA-Z]\\\\d\\\\d-\\\\d\\\\d\\\\d\\\\d\\\\d', 264)\n",
      "('[a-zA-Z][a-zA-Z]\\\\d-\\\\d\\\\d\\\\d\\\\d-\\\\d\\\\d\\\\d[a-zA-Z][a-zA-Z]', 154)\n",
      "('[a-zA-Z][a-zA-Z][a-zA-Z]-\\\\d\\\\d[a-zA-Z]\\\\d\\\\d\\\\d\\\\d', 147)\n",
      "('[a-zA-Z]\\\\d\\\\d\\\\d\\\\d\\\\d-\\\\d\\\\d\\\\d', 133)\n",
      "('\\\\d\\\\d\\\\d\\\\d\\\\d\\\\d-\\\\d\\\\d\\\\d', 113)\n",
      "('[a-zA-Z][a-zA-Z]\\\\d\\\\d-\\\\d\\\\d\\\\d\\\\d\\\\d[a-zA-Z]', 70)\n",
      "('\\\\d\\\\d\\\\d\\\\d-\\\\d\\\\d\\\\d\\\\d', 50)\n",
      "('[a-zA-Z]\\\\d\\\\d\\\\d\\\\d-\\\\d\\\\d\\\\d\\\\d\\\\d', 25)\n",
      "('[a-zA-Z][a-zA-Z][a-zA-Z]-\\\\d\\\\d[a-zA-Z]\\\\d[a-zA-Z]\\\\d\\\\d', 12)\n",
      "('\\\\d[a-zA-Z][a-zA-Z]\\\\d\\\\d-\\\\d\\\\d\\\\d\\\\d\\\\d', 8)\n",
      "('[a-zA-Z][a-zA-Z][a-zA-Z]-[a-zA-Z]\\\\d\\\\d\\\\d[a-zA-Z]\\\\d\\\\d[a-zA-Z]', 7)\n",
      "('[a-zA-Z]\\\\d\\\\d\\\\d\\\\d\\\\d-[a-zA-Z][a-zA-Z]\\\\d', 2)\n",
      "('[a-zA-Z][a-zA-Z][a-zA-Z]-\\\\d\\\\d[a-zA-Z]\\\\d[a-zA-Z][a-zA-Z]\\\\d', 2)\n",
      "('[a-zA-Z][a-zA-Z][a-zA-Z]-[a-zA-Z][a-zA-Z]\\\\d\\\\d-\\\\d\\\\d\\\\d\\\\d\\\\d[a-zA-Z]', 2)\n",
      "('[a-zA-Z][a-zA-Z][a-zA-Z]-\\\\d\\\\d\\\\d[a-zA-Z][a-zA-Z]\\\\d\\\\d\\\\d\\\\d\\\\d', 2)\n",
      "('[a-zA-Z][a-zA-Z]-\\\\d\\\\d\\\\d\\\\d\\\\d-\\\\d\\\\d', 1)\n"
     ]
    }
   ],
   "source": [
    "print(len(test_pattern_matchs))\n",
    "print(*test_pattern_matchs, sep='\\n')  "
   ]
  },
  {
   "cell_type": "code",
   "execution_count": 60,
   "id": "f7860899",
   "metadata": {
    "ExecuteTime": {
     "end_time": "2021-08-25T01:41:35.184095Z",
     "start_time": "2021-08-25T01:41:35.181842Z"
    }
   },
   "outputs": [],
   "source": [
    "# train_data, test_data = train_test_split(text_entities, test_size=0.25, random_state=199)\n",
    "\n",
    "# print(len(train_data))\n",
    "# print(len(test_data))"
   ]
  },
  {
   "cell_type": "markdown",
   "id": "95c77023",
   "metadata": {},
   "source": [
    "### Data Augmentation"
   ]
  },
  {
   "cell_type": "code",
   "execution_count": 61,
   "id": "2f695a9b",
   "metadata": {
    "ExecuteTime": {
     "end_time": "2021-08-25T01:41:38.808985Z",
     "start_time": "2021-08-25T01:41:38.803926Z"
    }
   },
   "outputs": [
    {
     "data": {
      "text/plain": [
       "'H68124-P71'"
      ]
     },
     "execution_count": 61,
     "metadata": {},
     "output_type": "execute_result"
    }
   ],
   "source": [
    "exrex.getone(r'[a-zA-Z]\\d\\d\\d\\d\\d-[a-zA-Z]\\d\\d')"
   ]
  },
  {
   "cell_type": "code",
   "execution_count": 74,
   "id": "2311094e",
   "metadata": {
    "ExecuteTime": {
     "end_time": "2021-08-25T02:21:29.549326Z",
     "start_time": "2021-08-25T02:21:29.528417Z"
    }
   },
   "outputs": [
    {
     "name": "stdout",
     "output_type": "stream",
     "text": [
      "0.006985745663797591 1.000000000000002\n"
     ]
    },
    {
     "data": {
      "text/plain": [
       "[(547, 0.0009338009370212769),\n",
       " (400, 0.00123351925408684),\n",
       " (0, 0.006985745663797591),\n",
       " (0, 0.006985745663797591),\n",
       " (0, 0.006985745663797591),\n",
       " (0, 0.006985745663797591),\n",
       " (6, 0.0051183136013677275),\n",
       " (0, 0.006985745663797591),\n",
       " (2, 0.005931440143558504),\n",
       " (643, 0.0007788876662032042),\n",
       " (166, 0.00207415930650118),\n",
       " (0, 0.006985745663797591),\n",
       " (39, 0.0034456378276801676),\n",
       " (1089, 0.00027387631733373285),\n",
       " (0, 0.006985745663797591),\n",
       " (122, 0.002367635541956403),\n",
       " (6, 0.0051183136013677275),\n",
       " (0, 0.006985745663797591),\n",
       " (1449, 0.0),\n",
       " (0, 0.006985745663797591),\n",
       " (0, 0.006985745663797591),\n",
       " (0, 0.006985745663797591),\n",
       " (0, 0.006985745663797591),\n",
       " (0, 0.006985745663797591),\n",
       " (0, 0.006985745663797591),\n",
       " (5, 0.00526624742148503),\n",
       " (0, 0.006985745663797591),\n",
       " (0, 0.006985745663797591),\n",
       " (0, 0.006985745663797591),\n",
       " (0, 0.006985745663797591),\n",
       " (0, 0.006985745663797591),\n",
       " (0, 0.006985745663797591),\n",
       " (0, 0.006985745663797591),\n",
       " (0, 0.006985745663797591),\n",
       " (0, 0.006985745663797591),\n",
       " (0, 0.006985745663797591),\n",
       " (0, 0.006985745663797591),\n",
       " (0, 0.006985745663797591),\n",
       " (0, 0.006985745663797591),\n",
       " (597, 0.00085000688172747),\n",
       " (1, 0.006320552941724117),\n",
       " (0, 0.006985745663797591),\n",
       " (0, 0.006985745663797591),\n",
       " (0, 0.006985745663797591),\n",
       " (0, 0.006985745663797591),\n",
       " (0, 0.006985745663797591),\n",
       " (0, 0.006985745663797591),\n",
       " (0, 0.006985745663797591),\n",
       " (0, 0.006985745663797591),\n",
       " (0, 0.006985745663797591),\n",
       " (0, 0.006985745663797591),\n",
       " (0, 0.006985745663797591),\n",
       " (0, 0.006985745663797591),\n",
       " (0, 0.006985745663797591),\n",
       " (46, 0.00329087358555117),\n",
       " (5, 0.00526624742148503),\n",
       " (0, 0.006985745663797591),\n",
       " (0, 0.006985745663797591),\n",
       " (0, 0.006985745663797591),\n",
       " (0, 0.006985745663797591),\n",
       " (0, 0.006985745663797591),\n",
       " (0, 0.006985745663797591),\n",
       " (0, 0.006985745663797591),\n",
       " (0, 0.006985745663797591),\n",
       " (0, 0.006985745663797591),\n",
       " (0, 0.006985745663797591),\n",
       " (0, 0.006985745663797591),\n",
       " (0, 0.006985745663797591),\n",
       " (0, 0.006985745663797591),\n",
       " (0, 0.006985745663797591),\n",
       " (0, 0.006985745663797591),\n",
       " (0, 0.006985745663797591),\n",
       " (0, 0.006985745663797591),\n",
       " (0, 0.006985745663797591),\n",
       " (0, 0.006985745663797591),\n",
       " (0, 0.006985745663797591),\n",
       " (0, 0.006985745663797591),\n",
       " (0, 0.006985745663797591),\n",
       " (5, 0.00526624742148503),\n",
       " (0, 0.006985745663797591),\n",
       " (0, 0.006985745663797591),\n",
       " (0, 0.006985745663797591),\n",
       " (0, 0.006985745663797591),\n",
       " (0, 0.006985745663797591),\n",
       " (0, 0.006985745663797591),\n",
       " (2, 0.005931440143558504),\n",
       " (0, 0.006985745663797591),\n",
       " (14, 0.004386910473661504),\n",
       " (0, 0.006985745663797591),\n",
       " (0, 0.006985745663797591),\n",
       " (597, 0.00085000688172747),\n",
       " (14, 0.004386910473661504),\n",
       " (0, 0.006985745663797591),\n",
       " (597, 0.00085000688172747),\n",
       " (0, 0.006985745663797591),\n",
       " (0, 0.006985745663797591),\n",
       " (2, 0.005931440143558504),\n",
       " (0, 0.006985745663797591),\n",
       " (0, 0.006985745663797591),\n",
       " (3, 0.005655360219650643),\n",
       " (0, 0.006985745663797591),\n",
       " (0, 0.006985745663797591),\n",
       " (0, 0.006985745663797591),\n",
       " (0, 0.006985745663797591),\n",
       " (1, 0.006320552941724117),\n",
       " (0, 0.006985745663797591),\n",
       " (0, 0.006985745663797591),\n",
       " (0, 0.006985745663797591),\n",
       " (0, 0.006985745663797591),\n",
       " (0, 0.006985745663797591),\n",
       " (0, 0.006985745663797591),\n",
       " (0, 0.006985745663797591),\n",
       " (0, 0.006985745663797591),\n",
       " (0, 0.006985745663797591),\n",
       " (0, 0.006985745663797591),\n",
       " (21, 0.004019364206495728),\n",
       " (0, 0.006985745663797591),\n",
       " (0, 0.006985745663797591),\n",
       " (0, 0.006985745663797591),\n",
       " (0, 0.006985745663797591),\n",
       " (0, 0.006985745663797591),\n",
       " (0, 0.006985745663797591),\n",
       " (0, 0.006985745663797591),\n",
       " (0, 0.006985745663797591),\n",
       " (0, 0.006985745663797591),\n",
       " (0, 0.006985745663797591),\n",
       " (1449, 0.0),\n",
       " (0, 0.006985745663797591),\n",
       " (271, 0.001606024241758203),\n",
       " (0, 0.006985745663797591),\n",
       " (0, 0.006985745663797591),\n",
       " (0, 0.006985745663797591),\n",
       " (0, 0.006985745663797591),\n",
       " (0, 0.006985745663797591),\n",
       " (0, 0.006985745663797591),\n",
       " (0, 0.006985745663797591),\n",
       " (0, 0.006985745663797591),\n",
       " (0, 0.006985745663797591),\n",
       " (0, 0.006985745663797591),\n",
       " (0, 0.006985745663797591),\n",
       " (0, 0.006985745663797591),\n",
       " (0, 0.006985745663797591),\n",
       " (0, 0.006985745663797591),\n",
       " (0, 0.006985745663797591),\n",
       " (0, 0.006985745663797591),\n",
       " (166, 0.00207415930650118),\n",
       " (0, 0.006985745663797591),\n",
       " (0, 0.006985745663797591),\n",
       " (0, 0.006985745663797591),\n",
       " (0, 0.006985745663797591),\n",
       " (0, 0.006985745663797591),\n",
       " (0, 0.006985745663797591),\n",
       " (0, 0.006985745663797591),\n",
       " (0, 0.006985745663797591),\n",
       " (1449, 0.0),\n",
       " (46, 0.00329087358555117),\n",
       " (0, 0.006985745663797591),\n",
       " (0, 0.006985745663797591),\n",
       " (0, 0.006985745663797591),\n",
       " (0, 0.006985745663797591)]"
      ]
     },
     "execution_count": 74,
     "metadata": {},
     "output_type": "execute_result"
    }
   ],
   "source": [
    "def get_augument_rates(pattern_counts):\n",
    "    pattern_counts = np.array([300+np.sqrt(count-300) if count>300 else count for count in pattern_counts ] )\n",
    "    pattern_counts = max(pattern_counts) - pattern_counts\n",
    "    augument_rates = pattern_counts/np.sum(pattern_counts)\n",
    "    \n",
    "    return augument_rates\n",
    "\n",
    "pattern_matchs_dict = {key:value for key, value in pattern_matchs}   \n",
    "part_num_patterns = [pattern for pattern in patterns if pattern['label']=='PART_NUM' ]\n",
    "part_num_pattern_counts = [pattern_matchs_dict.get(pattern['expression'], 0) for pattern in part_num_patterns]\n",
    "\n",
    "# part_num_augument_rates = get_augument_rates(part_num_pattern_counts) \n",
    "# print(max(part_num_augument_rates), sum(part_num_augument_rates))\n",
    "# [(cnt, rate) for cnt, rate in zip(part_num_pattern_counts, part_num_augument_rates)]"
   ]
  },
  {
   "cell_type": "code",
   "execution_count": 77,
   "id": "f8b46812",
   "metadata": {
    "ExecuteTime": {
     "end_time": "2021-08-25T02:44:14.133836Z",
     "start_time": "2021-08-25T02:44:14.128226Z"
    }
   },
   "outputs": [
    {
     "data": {
      "text/plain": [
       "{6: 3, 7: 1, 8: 4, 9: 3}"
      ]
     },
     "execution_count": 77,
     "metadata": {},
     "output_type": "execute_result"
    }
   ],
   "source": [
    "a = {i:cnt for i, cnt in enumerate(np.random.randint(10, size=10)) if cnt<5}  \n",
    "a "
   ]
  },
  {
   "cell_type": "code",
   "execution_count": 28,
   "id": "e1fa38b3",
   "metadata": {
    "ExecuteTime": {
     "end_time": "2021-08-25T00:31:52.950834Z",
     "start_time": "2021-08-25T00:31:52.931305Z"
    }
   },
   "outputs": [
    {
     "data": {
      "text/plain": [
       "['please order part number wzo-831qv and part number kih-cki2 and part number 9h-oc299-i8 to hal for pickup in west valley utah . ',\n",
       " 'please order part number mio-egb847p and part number fuvcnj-h6424kic and part number bnt-94b9407-tj to hal for pickup in west valley utah . ',\n",
       " 'please order nbd and ship to fedex service center at 16815 redmond way suite 220 , redmond , wa 98052 required parts: rm1-5555-010cn\\xa0 \\xa0\\xa0 \\xa0rm1-5777-000cn\\xa0 rk2-2415-000cn\\xa0\\xa0\\xa0\\xa0\\xa0\\xa0\\xa0\\xa0\\xa0\\xa0\\xa0 rm1-5521-010cn\\xa0 \\xa0\\xa0\\xa0\\xa0\\xa0\\xa0\\xa0\\xa0 cc493-67922\\xa0 \\xa0\\xa0\\xa0\\xa0\\xa0\\xa0\\xa0\\xa0\\xa0\\xa0\\xa0\\xa0\\xa0\\xa0\\xa0\\xa0 qma-86q7ox1',\n",
       " 'please create a revisit , and transfer parts to the revisit . also please order the pn : ajzyrwm-8511ta97 and hfpu',\n",
       " 'please create a revisit , and transfer parts to the revisit . also please order the pn : ysoliqr-3059yir6 and hfpu',\n",
       " 'please create a revisit , and transfer parts to the revisit . also please order the pn : soj-2g928 and hfpu',\n",
       " 'please order nbd and ship to fedex service center at 16815 redmond way suite 220 , redmond , wa 98052 required parts: rm1-5555-010cn\\xa0 \\xa0\\xa0 \\xa0rm1-5777-000cn\\xa0 rk2-2415-000cn\\xa0\\xa0\\xa0\\xa0\\xa0\\xa0\\xa0\\xa0\\xa0\\xa0\\xa0 rm1-5521-010cn\\xa0 \\xa0\\xa0\\xa0\\xa0\\xa0\\xa0\\xa0\\xa0 cc493-67922\\xa0 \\xa0\\xa0\\xa0\\xa0\\xa0\\xa0\\xa0\\xa0\\xa0\\xa0\\xa0\\xa0\\xa0\\xa0\\xa0\\xa0 ldq-eja231310',\n",
       " 'please order nbd and ship to fedex service center at 16815 redmond way suite 220 , redmond , wa 98052 required parts: rm1-5555-010cn\\xa0 \\xa0\\xa0 \\xa0rm1-5777-000cn\\xa0 rk2-2415-000cn\\xa0\\xa0\\xa0\\xa0\\xa0\\xa0\\xa0\\xa0\\xa0\\xa0\\xa0 rm1-5521-010cn\\xa0 \\xa0\\xa0\\xa0\\xa0\\xa0\\xa0\\xa0\\xa0 cc493-67922\\xa0 \\xa0\\xa0\\xa0\\xa0\\xa0\\xa0\\xa0\\xa0\\xa0\\xa0\\xa0\\xa0\\xa0\\xa0\\xa0\\xa0 e74214-pz8',\n",
       " 'please create a revisit , and transfer parts to the revisit . also please order the pn : 27-53126-806 and hfpu',\n",
       " 'need to order these parts please ship to savannah fedex hfpu at 51 nicholson dr savannah , ga 31408 . fjc-xprh-434l door switch and mei-i273n58s-k dc controller pc board\\xa0and hjk-y219-f3 left door . on break waiting for parts numbers from l2 cu rescheduled for tuesday . pls rr to danny richardson . he is working savannah next week . ']"
      ]
     },
     "execution_count": 28,
     "metadata": {},
     "output_type": "execute_result"
    }
   ],
   "source": [
    "def augment(data, patterns, pattern_matchs, augument_rates, min_count=100, augument_num=40000):\n",
    "    i = 0\n",
    "    new_texts = []\n",
    "    \n",
    "    pattern_matchs_dict = {key:value for key, value in pattern_matchs}   \n",
    "    part_num_patterns = [pattern for pattern in patterns if pattern['label']=='PART_NUM' ]\n",
    "    part_num_pattern_counts = [pattern_matchs_dict.get(pattern['expression'], 0) for pattern in part_num_patterns]\n",
    "    part_num_pattern_counts = {int(101-math.log(count+1)) \n",
    "                               for index:count in enumeraten(part_num_pattern_counts) if count<100}\n",
    "    \n",
    "    while i<augument_num and len(part_num_pattern_counts)>0:\n",
    "        data_index = int(np.random.randint(len(data), size=1))\n",
    "        text, annotations = data[data_index]\n",
    "        entities = [(start, end, label) for start, end, label in annotations['entities'] if label=='PART_NUM']        \n",
    "        if len(entities)<=0:\n",
    "            continue\n",
    "        \n",
    "        entities.reverse()\n",
    "        new_text = text\n",
    "        for start, end, label in entities:                       \n",
    "            pattern_index, count = random.choice(list(part_num_pattern_counts.items()))\n",
    "            pattern = patterns[pattern_index]['expression']\n",
    "            part_num = exrex.getone(pattern).lower()\n",
    "            new_text = new_text[0:start] + part_num + new_text[end:] \n",
    "            part_num_pattern_counts[pattern_index] = count-1\n",
    "            if part_num_pattern_counts[pattern_index] <= 0:\n",
    "                part_num_pattern_counts.pop()\n",
    "\n",
    "            \n",
    "            \n",
    "        new_texts.append(new_text)   \n",
    "\n",
    "        i = i + 1\n",
    "        if i % 5000==0:\n",
    "            print(f'{i}/{augument_num}')\n",
    "    \n",
    "    while i<augument_num:\n",
    "        data_index = int(np.random.randint(len(data), size=1))\n",
    "        text, annotations = data[data_index]\n",
    "        entities = [(start, end, label) for start, end, label in annotations['entities'] if label=='PART_NUM']        \n",
    "        if len(entities)<=0:\n",
    "            continue\n",
    "        entities.reverse()\n",
    "        new_text = text\n",
    "        for start, end, label in entities:                       \n",
    "            pattern_index = int(np.random.choice(a=len(augument_rates), size=1, replace=True, p=augument_rates))\n",
    "            pattern = patterns[pattern_index]['expression']\n",
    "            part_num = exrex.getone(pattern).lower()\n",
    "            new_text = new_text[0:start] + part_num + new_text[end:] \n",
    "        new_texts.append(new_text)   \n",
    "#         print('-'*50)\n",
    "#         print(text)\n",
    "#         print(new_text)\n",
    "#         print([text[start:end] for start, end, label in entities])\n",
    "        i = i + 1\n",
    "        if i % 5000==0:\n",
    "            print(f'{i}/{augument_num}')\n",
    "            \n",
    "    return new_texts\n",
    "        \n",
    "    \n",
    "sample_augment_texts =  augment(train_data[0:10], patterns, part_num_augument_rates, augument_num=10)\n",
    "sample_augment_texts"
   ]
  },
  {
   "cell_type": "code",
   "execution_count": 29,
   "id": "5a2c54e8",
   "metadata": {
    "ExecuteTime": {
     "end_time": "2021-08-25T00:31:52.973264Z",
     "start_time": "2021-08-25T00:31:52.952928Z"
    }
   },
   "outputs": [
    {
     "data": {
      "text/plain": [
       "[{'expression': '[a-zA-Z]\\\\d\\\\d\\\\d\\\\d\\\\d-\\\\d\\\\d\\\\d', 'label': 'PART_NUM'},\n",
       " {'expression': '\\\\d\\\\d\\\\d\\\\d\\\\d\\\\d-\\\\d\\\\d\\\\d', 'label': 'PART_NUM'},\n",
       " {'expression': '[a-zA-Z]\\\\d\\\\d\\\\d\\\\d\\\\d-[a-zA-Z]\\\\d\\\\d', 'label': 'PART_NUM'},\n",
       " {'expression': '\\\\d\\\\d\\\\d\\\\d\\\\d\\\\d-[a-zA-Z][a-zA-Z]\\\\d', 'label': 'PART_NUM'},\n",
       " {'expression': '\\\\d\\\\d\\\\d\\\\d\\\\d\\\\d-\\\\d[a-zA-Z]\\\\d', 'label': 'PART_NUM'},\n",
       " {'expression': '\\\\d\\\\d\\\\d\\\\d\\\\d\\\\d-[a-zA-Z][a-zA-Z][a-zA-Z]',\n",
       "  'label': 'PART_NUM'},\n",
       " {'expression': '[a-zA-Z]\\\\d\\\\d\\\\d\\\\d\\\\d-[a-zA-Z][a-zA-Z]\\\\d',\n",
       "  'label': 'PART_NUM'},\n",
       " {'expression': '\\\\d\\\\d\\\\d\\\\d\\\\d\\\\d-[a-zA-Z]\\\\d\\\\d', 'label': 'PART_NUM'},\n",
       " {'expression': '[a-zA-Z][a-zA-Z]-\\\\d\\\\d\\\\d\\\\d\\\\d-\\\\d\\\\d',\n",
       "  'label': 'PART_NUM'},\n",
       " {'expression': '[a-zA-Z][a-zA-Z]\\\\d-\\\\d\\\\d\\\\d\\\\d-\\\\d\\\\d\\\\d[a-zA-Z][a-zA-Z]',\n",
       "  'label': 'PART_NUM'},\n",
       " {'expression': '\\\\d\\\\d\\\\d\\\\d-\\\\d\\\\d\\\\d\\\\d', 'label': 'PART_NUM'},\n",
       " {'expression': '\\\\d\\\\d\\\\d\\\\d-\\\\d\\\\d\\\\d\\\\d-\\\\d', 'label': 'PART_NUM'},\n",
       " {'expression': '\\\\d[a-zA-Z][a-zA-Z]\\\\d\\\\d-\\\\d\\\\d\\\\d\\\\d\\\\d',\n",
       "  'label': 'PART_NUM'},\n",
       " {'expression': '[a-zA-Z]\\\\d[a-zA-Z]\\\\d\\\\d-\\\\d\\\\d\\\\d\\\\d\\\\d',\n",
       "  'label': 'PART_NUM'},\n",
       " {'expression': '\\\\d\\\\d\\\\d\\\\d\\\\d-\\\\d\\\\d\\\\d\\\\d\\\\d', 'label': 'PART_NUM'},\n",
       " {'expression': '[a-zA-Z]\\\\d\\\\d\\\\d\\\\d-\\\\d\\\\d\\\\d\\\\d\\\\d', 'label': 'PART_NUM'},\n",
       " {'expression': '[a-zA-Z]\\\\d\\\\d\\\\d\\\\d\\\\d-[a-zA-Z][a-zA-Z]\\\\d',\n",
       "  'label': 'PART_NUM'},\n",
       " {'expression': '\\\\d\\\\d\\\\d\\\\d\\\\d\\\\d-\\\\d\\\\d\\\\d[a-zA-Z]', 'label': 'PART_NUM'},\n",
       " {'expression': '[a-zA-Z][a-zA-Z]\\\\d\\\\d\\\\d-\\\\d\\\\d\\\\d\\\\d\\\\d',\n",
       "  'label': 'PART_NUM'},\n",
       " {'expression': '[a-zA-Z][a-zA-Z]\\\\d-\\\\d\\\\d\\\\d\\\\d[a-zA-Z][a-zA-Z][a-zA-Z][a-zA-Z]',\n",
       "  'label': 'PART_NUM'},\n",
       " {'expression': '\\\\d-\\\\d\\\\d\\\\d-\\\\d\\\\d\\\\d-\\\\d\\\\d', 'label': 'PART_NUM'},\n",
       " {'expression': '[a-zA-Z]-\\\\d\\\\d\\\\d\\\\d-\\\\d\\\\d\\\\d-\\\\d', 'label': 'PART_NUM'},\n",
       " {'expression': '[a-zA-Z][a-zA-Z][a-zA-Z][a-zA-Z]\\\\d\\\\d\\\\d\\\\d-[a-zA-Z]\\\\d\\\\d',\n",
       "  'label': 'PART_NUM'},\n",
       " {'expression': '\\\\d\\\\d\\\\d\\\\d-\\\\d\\\\d\\\\d-\\\\d\\\\d\\\\d\\\\d\\\\d', 'label': 'PART_NUM'},\n",
       " {'expression': '\\\\d\\\\d-\\\\d\\\\d\\\\d\\\\d[a-zA-Z]-\\\\d\\\\d[a-zA-Z]',\n",
       "  'label': 'PART_NUM'},\n",
       " {'expression': '\\\\d\\\\d-\\\\d\\\\d\\\\d\\\\d\\\\d-\\\\d\\\\d\\\\d', 'label': 'PART_NUM'},\n",
       " {'expression': '[a-zA-Z][a-zA-Z][a-zA-Z]\\\\d\\\\d\\\\d\\\\d\\\\d-\\\\d\\\\d\\\\d\\\\d\\\\d',\n",
       "  'label': 'PART_NUM'},\n",
       " {'expression': '\\\\d\\\\d\\\\d\\\\d\\\\d-\\\\d\\\\d\\\\d\\\\d\\\\d-[a-zA-Z][a-zA-Z]',\n",
       "  'label': 'PART_NUM'},\n",
       " {'expression': '\\\\d\\\\d\\\\d-\\\\d\\\\d\\\\d\\\\d\\\\d\\\\d[a-zA-Z][a-zA-Z]',\n",
       "  'label': 'PART_NUM'},\n",
       " {'expression': '\\\\d\\\\d\\\\d-\\\\d\\\\d\\\\d-\\\\d\\\\d', 'label': 'PART_NUM'},\n",
       " {'expression': '\\\\d[a-zA-Z][a-zA-Z]\\\\d-\\\\d\\\\d\\\\d\\\\d', 'label': 'PART_NUM'},\n",
       " {'expression': '\\\\d\\\\d\\\\d\\\\d-\\\\d\\\\d\\\\d\\\\d-[a-zA-Z][a-zA-Z][a-zA-Z][a-zA-Z]',\n",
       "  'label': 'PART_NUM'},\n",
       " {'expression': '\\\\d\\\\d\\\\d\\\\d-\\\\d\\\\d\\\\d\\\\d[a-zA-Z]', 'label': 'PART_NUM'},\n",
       " {'expression': '\\\\d\\\\d\\\\d\\\\d-\\\\d\\\\d\\\\d\\\\d-[a-zA-Z][a-zA-Z][a-zA-Z]',\n",
       "  'label': 'PART_NUM'},\n",
       " {'expression': '\\\\d\\\\d\\\\d\\\\d-\\\\d\\\\d\\\\d-\\\\d\\\\d\\\\d\\\\d\\\\d', 'label': 'PART_NUM'},\n",
       " {'expression': '\\\\d\\\\d\\\\d\\\\d\\\\d\\\\d[a-zA-Z]-\\\\d\\\\d\\\\d', 'label': 'PART_NUM'},\n",
       " {'expression': '[a-zA-Z][a-zA-Z]\\\\d\\\\d[a-zA-Z]-[a-zA-Z]\\\\d',\n",
       "  'label': 'PART_NUM'},\n",
       " {'expression': '\\\\d\\\\d-\\\\d\\\\d\\\\d\\\\d\\\\d-\\\\d\\\\d', 'label': 'PART_NUM'},\n",
       " {'expression': '[a-zA-Z][a-zA-Z][a-zA-Z]-\\\\d[a-zA-Z]\\\\d\\\\d\\\\d',\n",
       "  'label': 'PART_NUM'},\n",
       " {'expression': '[a-zA-Z][a-zA-Z][a-zA-Z]-\\\\d\\\\d[a-zA-Z]\\\\d\\\\d\\\\d\\\\d',\n",
       "  'label': 'PART_NUM'},\n",
       " {'expression': '[a-zA-Z][a-zA-Z][a-zA-Z]-\\\\d\\\\d[a-zA-Z]\\\\d\\\\d\\\\d\\\\d[a-zA-Z]',\n",
       "  'label': 'PART_NUM'},\n",
       " {'expression': '[a-zA-Z][a-zA-Z][a-zA-Z]-\\\\d\\\\d\\\\d\\\\d\\\\d\\\\d\\\\d\\\\d\\\\d\\\\d',\n",
       "  'label': 'PART_NUM'},\n",
       " {'expression': '[a-zA-Z][a-zA-Z][a-zA-Z]-\\\\d\\\\d\\\\d\\\\d[a-zA-Z][a-zA-Z]\\\\d\\\\d',\n",
       "  'label': 'PART_NUM'},\n",
       " {'expression': '[a-zA-Z][a-zA-Z][a-zA-Z]-\\\\d\\\\d\\\\d[a-zA-Z]\\\\d\\\\d\\\\d\\\\d\\\\d',\n",
       "  'label': 'PART_NUM'},\n",
       " {'expression': '[a-zA-Z][a-zA-Z][a-zA-Z]-[a-zA-Z][a-zA-Z]\\\\d\\\\d\\\\d[a-zA-Z][a-zA-Z]',\n",
       "  'label': 'PART_NUM'},\n",
       " {'expression': '[a-zA-Z][a-zA-Z][a-zA-Z]-\\\\d\\\\d\\\\d-\\\\d\\\\d\\\\d\\\\d',\n",
       "  'label': 'PART_NUM'},\n",
       " {'expression': '[a-zA-Z][a-zA-Z][a-zA-Z]-[a-zA-Z][a-zA-Z]\\\\d\\\\d\\\\d',\n",
       "  'label': 'PART_NUM'},\n",
       " {'expression': '[a-zA-Z][a-zA-Z][a-zA-Z]-\\\\d\\\\d\\\\d\\\\d[a-zA-Z]\\\\d\\\\d[a-zA-Z][a-zA-Z]\\\\d',\n",
       "  'label': 'PART_NUM'},\n",
       " {'expression': '[a-zA-Z][a-zA-Z]\\\\d\\\\d-[a-zA-Z][a-zA-Z]',\n",
       "  'label': 'PART_NUM'},\n",
       " {'expression': '[a-zA-Z][a-zA-Z][a-zA-Z]-[a-zA-Z][a-zA-Z]-\\\\d\\\\d\\\\d[a-zA-Z]',\n",
       "  'label': 'PART_NUM'},\n",
       " {'expression': '[a-zA-Z][a-zA-Z][a-zA-Z]-[a-zA-Z]\\\\d\\\\d[a-zA-Z][a-zA-Z]\\\\d\\\\d[a-zA-Z]\\\\d\\\\d\\\\d\\\\d',\n",
       "  'label': 'PART_NUM'},\n",
       " {'expression': '[a-zA-Z][a-zA-Z][a-zA-Z]-[a-zA-Z]\\\\d\\\\d\\\\d\\\\d\\\\d\\\\d[a-zA-Z]',\n",
       "  'label': 'PART_NUM'},\n",
       " {'expression': '[a-zA-Z][a-zA-Z][a-zA-Z]-[a-zA-Z][a-zA-Z][a-zA-Z][a-zA-Z]-\\\\d\\\\d\\\\d[a-zA-Z]',\n",
       "  'label': 'PART_NUM'},\n",
       " {'expression': '[a-zA-Z][a-zA-Z][a-zA-Z]-\\\\d\\\\d\\\\d\\\\d\\\\d[a-zA-Z][a-zA-Z]',\n",
       "  'label': 'PART_NUM'},\n",
       " {'expression': '[a-zA-Z][a-zA-Z][a-zA-Z]-\\\\d\\\\d[a-zA-Z]\\\\d[a-zA-Z]\\\\d\\\\d',\n",
       "  'label': 'PART_NUM'},\n",
       " {'expression': '[a-zA-Z][a-zA-Z][a-zA-Z]-\\\\d\\\\d[a-zA-Z]\\\\d[a-zA-Z][a-zA-Z]\\\\d',\n",
       "  'label': 'PART_NUM'},\n",
       " {'expression': '[a-zA-Z][a-zA-Z][a-zA-Z]-\\\\d\\\\d\\\\d[a-zA-Z][a-zA-Z]',\n",
       "  'label': 'PART_NUM'},\n",
       " {'expression': '[a-zA-Z][a-zA-Z][a-zA-Z]-[a-zA-Z]\\\\d\\\\d\\\\d\\\\d[a-zA-Z][a-zA-Z][a-zA-Z]',\n",
       "  'label': 'PART_NUM'},\n",
       " {'expression': '[a-zA-Z][a-zA-Z][a-zA-Z]-\\\\d\\\\d-\\\\d\\\\d\\\\d\\\\d\\\\d-\\\\d\\\\d\\\\d',\n",
       "  'label': 'PART_NUM'},\n",
       " {'expression': '[a-zA-Z][a-zA-Z][a-zA-Z]-[a-zA-Z]\\\\d\\\\d\\\\d[a-zA-Z]\\\\d[a-zA-Z][a-zA-Z]',\n",
       "  'label': 'PART_NUM'},\n",
       " {'expression': '[a-zA-Z][a-zA-Z][a-zA-Z]-\\\\d\\\\d\\\\d\\\\d\\\\d\\\\d-\\\\d\\\\d\\\\d',\n",
       "  'label': 'PART_NUM'},\n",
       " {'expression': '[a-zA-Z][a-zA-Z][a-zA-Z]-[a-zA-Z]-\\\\d\\\\d\\\\d',\n",
       "  'label': 'PART_NUM'},\n",
       " {'expression': '[a-zA-Z][a-zA-Z][a-zA-Z]-[a-zA-Z]\\\\d\\\\d\\\\d[a-zA-Z]\\\\d\\\\d[a-zA-Z]-[a-zA-Z]',\n",
       "  'label': 'PART_NUM'},\n",
       " {'expression': '[a-zA-Z][a-zA-Z][a-zA-Z]-[a-zA-Z]\\\\d\\\\d\\\\d\\\\d\\\\d\\\\d\\\\d',\n",
       "  'label': 'PART_NUM'},\n",
       " {'expression': '[a-zA-Z][a-zA-Z][a-zA-Z]-[a-zA-Z][a-zA-Z]\\\\d\\\\d\\\\d\\\\d[a-zA-Z][a-zA-Z]\\\\d\\\\d\\\\d',\n",
       "  'label': 'PART_NUM'},\n",
       " {'expression': '[a-zA-Z][a-zA-Z][a-zA-Z]-\\\\d\\\\d[a-zA-Z]\\\\d\\\\d\\\\d\\\\d-[a-zA-Z][a-zA-Z]',\n",
       "  'label': 'PART_NUM'},\n",
       " {'expression': '[a-zA-Z][a-zA-Z][a-zA-Z]-[a-zA-Z][a-zA-Z]\\\\d\\\\d\\\\d[a-zA-Z]',\n",
       "  'label': 'PART_NUM'},\n",
       " {'expression': '[a-zA-Z][a-zA-Z][a-zA-Z]-\\\\d\\\\d\\\\d\\\\d\\\\d\\\\d',\n",
       "  'label': 'PART_NUM'},\n",
       " {'expression': '[a-zA-Z][a-zA-Z][a-zA-Z]-[a-zA-Z][a-zA-Z][a-zA-Z][a-zA-Z][a-zA-Z]\\\\d\\\\d\\\\d[a-zA-Z][a-zA-Z]',\n",
       "  'label': 'PART_NUM'},\n",
       " {'expression': '[a-zA-Z][a-zA-Z][a-zA-Z]-\\\\d[a-zA-Z][a-zA-Z]\\\\d\\\\d\\\\d\\\\d\\\\d\\\\d\\\\d',\n",
       "  'label': 'PART_NUM'},\n",
       " {'expression': '[a-zA-Z][a-zA-Z][a-zA-Z]-\\\\d\\\\d\\\\d[a-zA-Z]\\\\d\\\\d\\\\d\\\\d\\\\d',\n",
       "  'label': 'PART_NUM'},\n",
       " {'expression': '[a-zA-Z][a-zA-Z][a-zA-Z]-\\\\d\\\\d\\\\d\\\\d\\\\d\\\\d\\\\d\\\\d\\\\d',\n",
       "  'label': 'PART_NUM'},\n",
       " {'expression': '[a-zA-Z][a-zA-Z][a-zA-Z]-\\\\d\\\\d\\\\d\\\\d[a-zA-Z][a-zA-Z][a-zA-Z]-\\\\d\\\\d\\\\d',\n",
       "  'label': 'PART_NUM'},\n",
       " {'expression': '[a-zA-Z][a-zA-Z][a-zA-Z]-[a-zA-Z][a-zA-Z]\\\\d\\\\d\\\\d[a-zA-Z][a-zA-Z]',\n",
       "  'label': 'PART_NUM'},\n",
       " {'expression': '[a-zA-Z][a-zA-Z][a-zA-Z]-\\\\d\\\\d\\\\d-\\\\d\\\\d\\\\d\\\\d',\n",
       "  'label': 'PART_NUM'},\n",
       " {'expression': '[a-zA-Z][a-zA-Z][a-zA-Z]-[a-zA-Z][a-zA-Z]\\\\d\\\\d\\\\d[a-zA-Z]-[a-zA-Z]',\n",
       "  'label': 'PART_NUM'},\n",
       " {'expression': '[a-zA-Z][a-zA-Z][a-zA-Z]-[a-zA-Z]\\\\d\\\\d\\\\d-\\\\d\\\\d\\\\d\\\\d\\\\d\\\\d',\n",
       "  'label': 'PART_NUM'},\n",
       " {'expression': '[a-zA-Z][a-zA-Z][a-zA-Z]-\\\\d[a-zA-Z][a-zA-Z]\\\\d[a-zA-Z]',\n",
       "  'label': 'PART_NUM'},\n",
       " {'expression': '[a-zA-Z][a-zA-Z][a-zA-Z]-[a-zA-Z][a-zA-Z]\\\\d\\\\d-\\\\d\\\\d\\\\d\\\\d\\\\d[a-zA-Z]',\n",
       "  'label': 'PART_NUM'},\n",
       " {'expression': '[a-zA-Z][a-zA-Z][a-zA-Z]-[a-zA-Z][a-zA-Z][a-zA-Z]\\\\d',\n",
       "  'label': 'PART_NUM'},\n",
       " {'expression': '[a-zA-Z][a-zA-Z][a-zA-Z]-\\\\d\\\\d\\\\d\\\\d-\\\\d\\\\d\\\\d',\n",
       "  'label': 'PART_NUM'},\n",
       " {'expression': '[a-zA-Z][a-zA-Z][a-zA-Z]-[a-zA-Z]\\\\d[a-zA-Z][a-zA-Z][a-zA-Z][a-zA-Z][a-zA-Z][a-zA-Z][a-zA-Z]',\n",
       "  'label': 'PART_NUM'},\n",
       " {'expression': '[a-zA-Z][a-zA-Z][a-zA-Z]-\\\\d\\\\d\\\\d\\\\d\\\\d\\\\d\\\\d\\\\d',\n",
       "  'label': 'PART_NUM'},\n",
       " {'expression': '[a-zA-Z][a-zA-Z][a-zA-Z]-\\\\d\\\\d\\\\d\\\\d\\\\d-\\\\d\\\\d-[a-zA-Z]',\n",
       "  'label': 'PART_NUM'},\n",
       " {'expression': '[a-zA-Z][a-zA-Z][a-zA-Z]-[a-zA-Z][a-zA-Z][a-zA-Z]\\\\d\\\\d\\\\d[a-zA-Z]',\n",
       "  'label': 'PART_NUM'},\n",
       " {'expression': '[a-zA-Z][a-zA-Z][a-zA-Z]-\\\\d\\\\d\\\\d\\\\d[a-zA-Z][a-zA-Z]\\\\d[a-zA-Z][a-zA-Z]\\\\d',\n",
       "  'label': 'PART_NUM'},\n",
       " {'expression': '[a-zA-Z][a-zA-Z][a-zA-Z]-[a-zA-Z][a-zA-Z][a-zA-Z]\\\\d\\\\d\\\\d\\\\d[a-zA-Z][a-zA-Z]\\\\d[a-zA-Z]',\n",
       "  'label': 'PART_NUM'},\n",
       " {'expression': '[a-zA-Z][a-zA-Z][a-zA-Z]-\\\\d\\\\d\\\\d[a-zA-Z][a-zA-Z]\\\\d\\\\d\\\\d\\\\d\\\\d',\n",
       "  'label': 'PART_NUM'},\n",
       " {'expression': '[a-zA-Z][a-zA-Z][a-zA-Z]-[a-zA-Z][a-zA-Z]\\\\d\\\\d\\\\d-\\\\d\\\\d\\\\d\\\\d\\\\d',\n",
       "  'label': 'PART_NUM'},\n",
       " {'expression': '[a-zA-Z][a-zA-Z][a-zA-Z]-\\\\d[a-zA-Z]\\\\d\\\\d[a-zA-Z][a-zA-Z]\\\\d[a-zA-Z][a-zA-Z]\\\\d',\n",
       "  'label': 'PART_NUM'},\n",
       " {'expression': '[a-zA-Z][a-zA-Z][a-zA-Z]-\\\\d\\\\d[a-zA-Z]\\\\d\\\\d\\\\d\\\\d',\n",
       "  'label': 'PART_NUM'},\n",
       " {'expression': '[a-zA-Z][a-zA-Z][a-zA-Z]-\\\\d\\\\d\\\\d[a-zA-Z][a-zA-Z]\\\\d\\\\d\\\\d\\\\d\\\\d',\n",
       "  'label': 'PART_NUM'},\n",
       " {'expression': '\\\\d\\\\d\\\\d-[a-zA-Z]\\\\d[a-zA-Z][a-zA-Z]\\\\d',\n",
       "  'label': 'PART_NUM'},\n",
       " {'expression': '[a-zA-Z][a-zA-Z][a-zA-Z]-\\\\d\\\\d[a-zA-Z]\\\\d\\\\d\\\\d\\\\d',\n",
       "  'label': 'PART_NUM'},\n",
       " {'expression': '[a-zA-Z][a-zA-Z][a-zA-Z]-\\\\d[a-zA-Z][a-zA-Z]\\\\d\\\\d\\\\d\\\\d\\\\d\\\\d\\\\d',\n",
       "  'label': 'PART_NUM'},\n",
       " {'expression': '[a-zA-Z][a-zA-Z][a-zA-Z]-[a-zA-Z][a-zA-Z]\\\\d\\\\d\\\\d\\\\d\\\\d\\\\d',\n",
       "  'label': 'PART_NUM'},\n",
       " {'expression': '[a-zA-Z][a-zA-Z][a-zA-Z]-\\\\d\\\\d[a-zA-Z]\\\\d\\\\d\\\\d\\\\d\\\\d',\n",
       "  'label': 'PART_NUM'},\n",
       " {'expression': '[a-zA-Z][a-zA-Z][a-zA-Z]-[a-zA-Z][a-zA-Z]\\\\d\\\\d\\\\d\\\\d\\\\d\\\\d\\\\d',\n",
       "  'label': 'PART_NUM'},\n",
       " {'expression': '[a-zA-Z][a-zA-Z][a-zA-Z]-[a-zA-Z]\\\\d\\\\d[a-zA-Z][a-zA-Z]\\\\d\\\\d\\\\d\\\\d\\\\d',\n",
       "  'label': 'PART_NUM'},\n",
       " {'expression': '[a-zA-Z][a-zA-Z][a-zA-Z]-\\\\d\\\\d\\\\d[a-zA-Z]\\\\d\\\\d\\\\d\\\\d\\\\d\\\\d',\n",
       "  'label': 'PART_NUM'},\n",
       " {'expression': '[a-zA-Z][a-zA-Z][a-zA-Z]-[a-zA-Z][a-zA-Z][a-zA-Z]\\\\d\\\\d\\\\d\\\\d\\\\d\\\\d',\n",
       "  'label': 'PART_NUM'},\n",
       " {'expression': '[a-zA-Z][a-zA-Z][a-zA-Z]-\\\\d\\\\d\\\\d-\\\\d\\\\d\\\\d\\\\d',\n",
       "  'label': 'PART_NUM'},\n",
       " {'expression': '[a-zA-Z][a-zA-Z][a-zA-Z]-[a-zA-Z][a-zA-Z]\\\\d\\\\d\\\\d[a-zA-Z][a-zA-Z][a-zA-Z]',\n",
       "  'label': 'PART_NUM'},\n",
       " {'expression': '\\\\d[a-zA-Z]-[a-zA-Z][a-zA-Z]\\\\d\\\\d\\\\d-[a-zA-Z]\\\\d',\n",
       "  'label': 'PART_NUM'},\n",
       " {'expression': '\\\\d[a-zA-Z]\\\\d-\\\\d\\\\d\\\\d\\\\d-\\\\d\\\\d\\\\d[a-zA-Z][a-zA-Z]',\n",
       "  'label': 'PART_NUM'},\n",
       " {'expression': '[a-zA-Z]\\\\d\\\\d\\\\d\\\\d-\\\\d\\\\d\\\\d\\\\d\\\\d[a-zA-Z][a-zA-Z][a-zA-Z][a-zA-Z]',\n",
       "  'label': 'PART_NUM'},\n",
       " {'expression': '[a-zA-Z][a-zA-Z][a-zA-Z]-[a-zA-Z][a-zA-Z][a-zA-Z]\\\\d[a-zA-Z][a-zA-Z][a-zA-Z]\\\\d\\\\d\\\\d',\n",
       "  'label': 'PART_NUM'},\n",
       " {'expression': '[a-zA-Z][a-zA-Z][a-zA-Z]-[a-zA-Z]\\\\d\\\\d\\\\d\\\\d\\\\d\\\\d\\\\d\\\\d\\\\d',\n",
       "  'label': 'PART_NUM'},\n",
       " {'expression': '[a-zA-Z][a-zA-Z]66-01190A', 'label': 'PART_NUM'},\n",
       " {'expression': '[a-zA-Z][a-zA-Z][a-zA-Z]-\\\\d\\\\d\\\\d\\\\d[a-zA-Z][a-zA-Z][a-zA-Z]',\n",
       "  'label': 'PART_NUM'},\n",
       " {'expression': '[a-zA-Z][a-zA-Z][a-zA-Z]-\\\\d\\\\d\\\\d\\\\d[a-zA-Z][a-zA-Z][a-zA-Z]-[a-zA-Z]',\n",
       "  'label': 'PART_NUM'},\n",
       " {'expression': '[a-zA-Z][a-zA-Z][a-zA-Z]-\\\\d\\\\d\\\\d\\\\d[a-zA-Z][a-zA-Z]',\n",
       "  'label': 'PART_NUM'},\n",
       " {'expression': '[a-zA-Z][a-zA-Z][a-zA-Z]-\\\\d\\\\d\\\\d\\\\d-[a-zA-Z]\\\\d',\n",
       "  'label': 'PART_NUM'},\n",
       " {'expression': '[a-zA-Z][a-zA-Z][a-zA-Z]-[a-zA-Z]\\\\d\\\\d\\\\d-[a-zA-Z]\\\\d',\n",
       "  'label': 'PART_NUM'},\n",
       " {'expression': '[a-zA-Z][a-zA-Z][a-zA-Z]-[a-zA-Z]\\\\d\\\\d\\\\d[a-zA-Z]',\n",
       "  'label': 'PART_NUM'},\n",
       " {'expression': '[a-zA-Z][a-zA-Z][a-zA-Z]-[a-zA-Z]\\\\d\\\\d\\\\d[a-zA-Z]\\\\d\\\\d[a-zA-Z]',\n",
       "  'label': 'PART_NUM'},\n",
       " {'expression': '[a-zA-Z][a-zA-Z][a-zA-Z]-[a-zA-Z][a-zA-Z][a-zA-Z][a-zA-Z][a-zA-Z]\\\\d\\\\d\\\\d\\\\d[a-zA-Z]',\n",
       "  'label': 'PART_NUM'},\n",
       " {'expression': '[a-zA-Z][a-zA-Z][a-zA-Z][a-zA-Z][a-zA-Z][a-zA-Z][a-zA-Z]-\\\\d\\\\d\\\\d\\\\d[a-zA-Z][a-zA-Z]\\\\d\\\\d',\n",
       "  'label': 'PART_NUM'},\n",
       " {'expression': '[a-zA-Z][a-zA-Z][a-zA-Z]-\\\\d\\\\d\\\\d-\\\\d\\\\d\\\\d\\\\d-\\\\d',\n",
       "  'label': 'PART_NUM'},\n",
       " {'expression': '\\\\d\\\\d-\\\\d\\\\d\\\\d\\\\d', 'label': 'PART_NUM'},\n",
       " {'expression': '[a-zA-Z][a-zA-Z][a-zA-Z]-[a-zA-Z][a-zA-Z]\\\\d\\\\d\\\\d\\\\d\\\\d\\\\d\\\\d',\n",
       "  'label': 'PART_NUM'},\n",
       " {'expression': '[a-zA-Z]\\\\d\\\\d\\\\d\\\\d-\\\\d\\\\d\\\\d\\\\d\\\\d-[a-zA-Z][a-zA-Z][a-zA-Z]',\n",
       "  'label': 'PART_NUM'},\n",
       " {'expression': '[a-zA-Z]\\\\d\\\\d\\\\d[a-zA-Z][a-zA-Z]\\\\d\\\\d[a-zA-Z]-\\\\d\\\\d\\\\d\\\\d\\\\d',\n",
       "  'label': 'PART_NUM'},\n",
       " {'expression': '\\\\d\\\\d[a-zA-Z][a-zA-Z]-\\\\d\\\\d\\\\d\\\\d\\\\d[a-zA-Z][a-zA-Z]',\n",
       "  'label': 'PART_NUM'},\n",
       " {'expression': '[a-zA-Z][a-zA-Z]\\\\d-\\\\d\\\\d\\\\d\\\\d-[a-zA-Z][a-zA-Z][a-zA-Z][a-zA-Z]',\n",
       "  'label': 'PART_NUM'},\n",
       " {'expression': '[a-zA-Z][a-zA-Z]\\\\d\\\\d\\\\d-\\\\d\\\\d\\\\d\\\\d\\\\d-[a-zA-Z][a-zA-Z]',\n",
       "  'label': 'PART_NUM'},\n",
       " {'expression': '[a-zA-Z][a-zA-Z]\\\\d\\\\d\\\\d-\\\\d\\\\d\\\\d\\\\d\\\\d',\n",
       "  'label': 'PART_NUM'},\n",
       " {'expression': '[a-zA-Z][a-zA-Z][a-zA-Z]-[a-zA-Z][a-zA-Z]\\\\d\\\\d\\\\d',\n",
       "  'label': 'PART_NUM'},\n",
       " {'expression': '[a-zA-Z][a-zA-Z]\\\\d\\\\d-\\\\d\\\\d\\\\d\\\\d\\\\d[a-zA-Z]',\n",
       "  'label': 'PART_NUM'},\n",
       " {'expression': '[a-zA-Z][a-zA-Z][a-zA-Z][a-zA-Z][a-zA-Z][a-zA-Z][a-zA-Z]-\\\\d\\\\d\\\\d\\\\d[a-zA-Z][a-zA-Z]\\\\d\\\\d',\n",
       "  'label': 'PART_NUM'},\n",
       " {'expression': '[a-zA-Z][a-zA-Z][a-zA-Z][a-zA-Z][a-zA-Z][a-zA-Z][a-zA-Z]-\\\\d\\\\d\\\\d\\\\d[a-zA-Z][a-zA-Z][a-zA-Z][a-zA-Z]',\n",
       "  'label': 'PART_NUM'},\n",
       " {'expression': '[a-zA-Z][a-zA-Z][a-zA-Z][a-zA-Z][a-zA-Z][a-zA-Z][a-zA-Z]-\\\\d\\\\d\\\\d\\\\d[a-zA-Z][a-zA-Z][a-zA-Z]\\\\d',\n",
       "  'label': 'PART_NUM'},\n",
       " {'expression': '\\\\d\\\\d\\\\d-\\\\d\\\\d-\\\\d\\\\d-\\\\d\\\\d\\\\d', 'label': 'PART_NUM'},\n",
       " {'expression': '\\\\d\\\\d\\\\d\\\\d\\\\d\\\\d\\\\d\\\\d\\\\d-\\\\d\\\\d', 'label': 'PART_NUM'},\n",
       " {'expression': '[a-zA-Z][a-zA-Z][a-zA-Z][a-zA-Z][a-zA-Z][a-zA-Z][a-zA-Z][a-zA-Z]\\\\d\\\\d\\\\d[a-zA-Z]\\\\d[a-zA-Z]-\\\\d',\n",
       "  'label': 'PART_NUM'},\n",
       " {'expression': '[a-zA-Z][a-zA-Z][a-zA-Z][a-zA-Z][a-zA-Z][a-zA-Z][a-zA-Z][a-zA-Z][a-zA-Z]\\\\d\\\\d[a-zA-Z]\\\\d\\\\d-\\\\d',\n",
       "  'label': 'PART_NUM'},\n",
       " {'expression': '[a-zA-Z][a-zA-Z][a-zA-Z][a-zA-Z][a-zA-Z][a-zA-Z][a-zA-Z]-\\\\d\\\\d\\\\d\\\\d[a-zA-Z][a-zA-Z][a-zA-Z]\\\\d',\n",
       "  'label': 'PART_NUM'},\n",
       " {'expression': '[a-zA-Z][a-zA-Z][a-zA-Z][a-zA-Z]-[a-zA-Z][a-zA-Z]\\\\d\\\\d\\\\d\\\\d[a-zA-Z][a-zA-Z][a-zA-Z][a-zA-Z]',\n",
       "  'label': 'PART_NUM'},\n",
       " {'expression': '[a-zA-Z][a-zA-Z][a-zA-Z][a-zA-Z][a-zA-Z][a-zA-Z]-[a-zA-Z]\\\\d\\\\d\\\\d\\\\d[a-zA-Z][a-zA-Z][a-zA-Z][a-zA-Z]',\n",
       "  'label': 'PART_NUM'},\n",
       " {'expression': '[a-zA-Z][a-zA-Z][a-zA-Z][a-zA-Z][a-zA-Z][a-zA-Z][a-zA-Z][a-zA-Z]\\\\d[a-zA-Z]\\\\d\\\\d[a-zA-Z][a-zA-Z]-\\\\d',\n",
       "  'label': 'PART_NUM'},\n",
       " {'expression': '[a-zA-Z][a-zA-Z][a-zA-Z][a-zA-Z][a-zA-Z]-[a-zA-Z][a-zA-Z]\\\\d\\\\d\\\\d\\\\d[a-zA-Z][a-zA-Z][a-zA-Z][a-zA-Z]',\n",
       "  'label': 'PART_NUM'},\n",
       " {'expression': '\\\\d\\\\d\\\\d-\\\\d\\\\d\\\\d\\\\d\\\\d\\\\d', 'label': 'PART_NUM'},\n",
       " {'expression': '[a-zA-Z][a-zA-Z][a-zA-Z][a-zA-Z][a-zA-Z][a-zA-Z][a-zA-Z][a-zA-Z]\\\\d[a-zA-Z]\\\\d\\\\d[a-zA-Z]\\\\d-\\\\d\\\\d',\n",
       "  'label': 'PART_NUM'},\n",
       " {'expression': '[a-zA-Z]\\\\d\\\\d-\\\\d\\\\d\\\\d\\\\d', 'label': 'PART_NUM'},\n",
       " {'expression': '\\\\d\\\\d\\\\d\\\\d\\\\d\\\\d\\\\d\\\\d\\\\d-\\\\d', 'label': 'PART_NUM'},\n",
       " {'expression': '\\\\d\\\\d\\\\d\\\\d-\\\\d\\\\d\\\\d\\\\d', 'label': 'PART_NUM'},\n",
       " {'expression': '[a-zA-Z]\\\\d-[a-zA-Z][a-zA-Z][a-zA-Z][a-zA-Z][a-zA-Z]-\\\\d\\\\d',\n",
       "  'label': 'PART_NUM'},\n",
       " {'expression': '[a-zA-Z][a-zA-Z]\\\\d-\\\\d\\\\d\\\\d\\\\d-\\\\d\\\\d\\\\d-[a-zA-Z][a-zA-Z]',\n",
       "  'label': 'PART_NUM'},\n",
       " {'expression': '[a-zA-Z]\\\\d[a-zA-Z]\\\\d\\\\d-\\\\d\\\\d\\\\d\\\\d\\\\d-[a-zA-Z][a-zA-Z]',\n",
       "  'label': 'PART_NUM'},\n",
       " {'expression': '[a-zA-Z][a-zA-Z]\\\\d\\\\d\\\\d\\\\d\\\\d-[a-zA-Z]\\\\d\\\\d\\\\d[a-zA-Z][a-zA-Z]',\n",
       "  'label': 'PART_NUM'},\n",
       " {'expression': '[a-zA-Z][a-zA-Z]\\\\d\\\\d\\\\d-\\\\d\\\\d\\\\d\\\\d\\\\d-[a-zA-Z][a-zA-Z]',\n",
       "  'label': 'PART_NUM'},\n",
       " {'expression': '[a-zA-Z][a-zA-Z]\\\\d\\\\d\\\\d-\\\\d\\\\d\\\\d\\\\d\\\\d-[a-zA-Z][a-zA-Z][a-zA-Z][a-zA-Z]',\n",
       "  'label': 'PART_NUM'},\n",
       " {'expression': '[a-zA-Z][a-zA-Z]\\\\d\\\\d-[a-zA-Z]\\\\d', 'label': 'PART_NUM'},\n",
       " {'expression': '\\\\d\\\\d\\\\d\\\\d\\\\d\\\\d-\\\\d\\\\d\\\\d[a-zA-Z]', 'label': 'PART_NUM'},\n",
       " {'expression': '[a-zA-Z][a-zA-Z]\\\\d\\\\d\\\\d-\\\\d\\\\d\\\\d\\\\d\\\\d',\n",
       "  'label': 'PART_NUM'},\n",
       " {'expression': '[a-zA-Z][a-zA-Z][a-zA-Z]-\\\\d\\\\d[a-zA-Z]\\\\d[a-zA-Z]\\\\d\\\\d',\n",
       "  'label': 'PART_NUM'},\n",
       " {'expression': '[a-zA-Z][a-zA-Z][a-zA-Z][a-zA-Z][a-zA-Z][a-zA-Z]-[a-zA-Z]\\\\d\\\\d\\\\d\\\\d[a-zA-Z][a-zA-Z][a-zA-Z]',\n",
       "  'label': 'PART_NUM'},\n",
       " {'expression': '[a-zA-Z][a-zA-Z][a-zA-Z][a-zA-Z][a-zA-Z]-[a-zA-Z][a-zA-Z]\\\\d\\\\d\\\\d\\\\d[a-zA-Z][a-zA-Z][a-zA-Z][a-zA-Z]',\n",
       "  'label': 'PART_NUM'},\n",
       " {'expression': '[a-zA-Z][a-zA-Z]\\\\d\\\\d[a-zA-Z]-[a-zA-Z][a-zA-Z]',\n",
       "  'label': 'PART_NUM'},\n",
       " {'expression': '[a-zA-Z][a-zA-Z][a-zA-Z][a-zA-Z][a-zA-Z][a-zA-Z]-\\\\d\\\\d\\\\d\\\\d[a-zA-Z][a-zA-Z][a-zA-Z][a-zA-Z]',\n",
       "  'label': 'PART_NUM'}]"
      ]
     },
     "execution_count": 29,
     "metadata": {},
     "output_type": "execute_result"
    }
   ],
   "source": [
    "patterns"
   ]
  },
  {
   "cell_type": "code",
   "execution_count": 30,
   "id": "1d3ae65a",
   "metadata": {
    "ExecuteTime": {
     "end_time": "2021-08-25T00:32:05.793353Z",
     "start_time": "2021-08-25T00:31:52.975430Z"
    }
   },
   "outputs": [
    {
     "name": "stdout",
     "output_type": "stream",
     "text": [
      "5000/30000\n",
      "10000/30000\n",
      "15000/30000\n",
      "20000/30000\n",
      "25000/30000\n",
      "30000/30000\n",
      "30000\n"
     ]
    }
   ],
   "source": [
    "augment_texts =  augment(train_data, patterns, part_num_augument_rates, augument_num=30000)\n",
    "print(len(augment_texts))"
   ]
  },
  {
   "cell_type": "code",
   "execution_count": 31,
   "id": "08720a58",
   "metadata": {
    "ExecuteTime": {
     "end_time": "2021-08-25T00:32:36.695322Z",
     "start_time": "2021-08-25T00:32:05.795511Z"
    }
   },
   "outputs": [],
   "source": [
    "augment_text_entities, augment_pattern_matchs = generate_label(augment_texts, patterns=patterns)"
   ]
  },
  {
   "cell_type": "code",
   "execution_count": 32,
   "id": "56f27d8d",
   "metadata": {
    "ExecuteTime": {
     "end_time": "2021-08-25T00:32:36.710852Z",
     "start_time": "2021-08-25T00:32:36.697994Z"
    }
   },
   "outputs": [
    {
     "data": {
      "text/plain": [
       "[('[a-zA-Z][a-zA-Z][a-zA-Z]-\\\\d\\\\d\\\\d-\\\\d\\\\d\\\\d\\\\d', 2694),\n",
       " ('[a-zA-Z][a-zA-Z][a-zA-Z]-[a-zA-Z][a-zA-Z]\\\\d\\\\d\\\\d\\\\d\\\\d\\\\d\\\\d', 1278),\n",
       " ('[a-zA-Z][a-zA-Z]\\\\d\\\\d\\\\d-\\\\d\\\\d\\\\d\\\\d\\\\d-[a-zA-Z][a-zA-Z]', 1264),\n",
       " ('[a-zA-Z][a-zA-Z][a-zA-Z]-[a-zA-Z][a-zA-Z]\\\\d\\\\d\\\\d[a-zA-Z][a-zA-Z]', 1260),\n",
       " ('\\\\d\\\\d\\\\d\\\\d\\\\d\\\\d-\\\\d\\\\d\\\\d[a-zA-Z]', 1254),\n",
       " ('[a-zA-Z][a-zA-Z][a-zA-Z]-\\\\d\\\\d\\\\d[a-zA-Z]\\\\d\\\\d\\\\d\\\\d\\\\d', 1240),\n",
       " ('[a-zA-Z][a-zA-Z][a-zA-Z]-\\\\d\\\\d\\\\d[a-zA-Z][a-zA-Z]\\\\d\\\\d\\\\d\\\\d\\\\d', 1234),\n",
       " ('[a-zA-Z][a-zA-Z][a-zA-Z][a-zA-Z][a-zA-Z]-[a-zA-Z][a-zA-Z]\\\\d\\\\d\\\\d\\\\d[a-zA-Z][a-zA-Z][a-zA-Z][a-zA-Z]',\n",
       "  1234),\n",
       " ('[a-zA-Z][a-zA-Z][a-zA-Z][a-zA-Z][a-zA-Z][a-zA-Z][a-zA-Z]-\\\\d\\\\d\\\\d\\\\d[a-zA-Z][a-zA-Z][a-zA-Z]\\\\d',\n",
       "  1228),\n",
       " ('[a-zA-Z][a-zA-Z][a-zA-Z][a-zA-Z][a-zA-Z][a-zA-Z][a-zA-Z]-\\\\d\\\\d\\\\d\\\\d[a-zA-Z][a-zA-Z]\\\\d\\\\d',\n",
       "  1210),\n",
       " ('[a-zA-Z]\\\\d\\\\d\\\\d\\\\d\\\\d-[a-zA-Z][a-zA-Z]\\\\d', 1206),\n",
       " ('[a-zA-Z][a-zA-Z][a-zA-Z]-\\\\d[a-zA-Z][a-zA-Z]\\\\d\\\\d\\\\d\\\\d\\\\d\\\\d\\\\d', 1176),\n",
       " ('[a-zA-Z][a-zA-Z][a-zA-Z]-[a-zA-Z][a-zA-Z]\\\\d\\\\d\\\\d', 1140),\n",
       " ('\\\\d\\\\d\\\\d\\\\d-\\\\d\\\\d\\\\d-\\\\d\\\\d\\\\d\\\\d\\\\d', 1110),\n",
       " ('[a-zA-Z][a-zA-Z][a-zA-Z]-\\\\d\\\\d[a-zA-Z]\\\\d[a-zA-Z]\\\\d\\\\d', 1020),\n",
       " ('\\\\d\\\\d\\\\d\\\\d-\\\\d\\\\d\\\\d\\\\d', 564),\n",
       " ('[a-zA-Z][a-zA-Z][a-zA-Z]-\\\\d\\\\d\\\\d\\\\d[a-zA-Z][a-zA-Z]', 358),\n",
       " ('\\\\d\\\\d\\\\d\\\\d\\\\d\\\\d\\\\d\\\\d\\\\d-\\\\d', 357),\n",
       " ('[a-zA-Z][a-zA-Z]\\\\d\\\\d-\\\\d\\\\d\\\\d\\\\d\\\\d[a-zA-Z]', 353),\n",
       " ('[a-zA-Z]\\\\d\\\\d\\\\d[a-zA-Z][a-zA-Z]\\\\d\\\\d[a-zA-Z]-\\\\d\\\\d\\\\d\\\\d\\\\d', 343),\n",
       " ('[a-zA-Z][a-zA-Z][a-zA-Z]-\\\\d\\\\d\\\\d\\\\d[a-zA-Z][a-zA-Z]\\\\d\\\\d', 340),\n",
       " ('[a-zA-Z][a-zA-Z]\\\\d-\\\\d\\\\d\\\\d\\\\d-\\\\d\\\\d\\\\d-[a-zA-Z][a-zA-Z]', 336),\n",
       " ('[a-zA-Z][a-zA-Z][a-zA-Z][a-zA-Z][a-zA-Z][a-zA-Z]-\\\\d\\\\d\\\\d\\\\d[a-zA-Z][a-zA-Z][a-zA-Z][a-zA-Z]',\n",
       "  334),\n",
       " ('[a-zA-Z][a-zA-Z][a-zA-Z]-\\\\d\\\\d\\\\d\\\\d\\\\d-\\\\d\\\\d-[a-zA-Z]', 333),\n",
       " ('\\\\d-\\\\d\\\\d\\\\d-\\\\d\\\\d\\\\d-\\\\d\\\\d', 328),\n",
       " ('\\\\d\\\\d-\\\\d\\\\d\\\\d\\\\d\\\\d-\\\\d\\\\d\\\\d', 327),\n",
       " ('[a-zA-Z][a-zA-Z][a-zA-Z]-[a-zA-Z]\\\\d\\\\d\\\\d\\\\d\\\\d\\\\d\\\\d', 327),\n",
       " ('[a-zA-Z][a-zA-Z][a-zA-Z][a-zA-Z][a-zA-Z][a-zA-Z]-[a-zA-Z]\\\\d\\\\d\\\\d\\\\d[a-zA-Z][a-zA-Z][a-zA-Z]',\n",
       "  327),\n",
       " ('[a-zA-Z][a-zA-Z][a-zA-Z]-[a-zA-Z]\\\\d\\\\d\\\\d[a-zA-Z]', 324),\n",
       " ('[a-zA-Z][a-zA-Z][a-zA-Z]-\\\\d[a-zA-Z]\\\\d\\\\d\\\\d', 323),\n",
       " ('[a-zA-Z][a-zA-Z][a-zA-Z]-[a-zA-Z][a-zA-Z]\\\\d\\\\d\\\\d[a-zA-Z]', 323),\n",
       " ('[a-zA-Z][a-zA-Z][a-zA-Z]-[a-zA-Z][a-zA-Z]-\\\\d\\\\d\\\\d[a-zA-Z]', 322),\n",
       " ('[a-zA-Z][a-zA-Z][a-zA-Z]-[a-zA-Z]\\\\d\\\\d[a-zA-Z][a-zA-Z]\\\\d\\\\d\\\\d\\\\d\\\\d',\n",
       "  322),\n",
       " ('[a-zA-Z][a-zA-Z][a-zA-Z]-\\\\d\\\\d\\\\d\\\\d\\\\d[a-zA-Z][a-zA-Z]', 321),\n",
       " ('[a-zA-Z][a-zA-Z][a-zA-Z]-\\\\d\\\\d\\\\d\\\\d\\\\d\\\\d\\\\d\\\\d\\\\d\\\\d', 320),\n",
       " ('[a-zA-Z][a-zA-Z]\\\\d\\\\d[a-zA-Z]-[a-zA-Z]\\\\d', 319),\n",
       " ('[a-zA-Z][a-zA-Z][a-zA-Z]-\\\\d\\\\d\\\\d\\\\d[a-zA-Z][a-zA-Z][a-zA-Z]-[a-zA-Z]',\n",
       "  319),\n",
       " ('\\\\d\\\\d-\\\\d\\\\d\\\\d\\\\d[a-zA-Z]-\\\\d\\\\d[a-zA-Z]', 318),\n",
       " ('[a-zA-Z][a-zA-Z]\\\\d\\\\d-[a-zA-Z]\\\\d', 318),\n",
       " ('\\\\d\\\\d\\\\d\\\\d\\\\d\\\\d-[a-zA-Z][a-zA-Z]\\\\d', 317),\n",
       " ('[a-zA-Z][a-zA-Z][a-zA-Z]-\\\\d\\\\d\\\\d\\\\d[a-zA-Z][a-zA-Z][a-zA-Z]', 317),\n",
       " ('[a-zA-Z][a-zA-Z]\\\\d\\\\d\\\\d-\\\\d\\\\d\\\\d\\\\d\\\\d-[a-zA-Z][a-zA-Z][a-zA-Z][a-zA-Z]',\n",
       "  317),\n",
       " ('[a-zA-Z][a-zA-Z][a-zA-Z][a-zA-Z]-[a-zA-Z][a-zA-Z]\\\\d\\\\d\\\\d\\\\d[a-zA-Z][a-zA-Z][a-zA-Z][a-zA-Z]',\n",
       "  315),\n",
       " ('[a-zA-Z][a-zA-Z][a-zA-Z]-[a-zA-Z]\\\\d\\\\d[a-zA-Z][a-zA-Z]\\\\d\\\\d[a-zA-Z]\\\\d\\\\d\\\\d\\\\d',\n",
       "  314),\n",
       " ('[a-zA-Z][a-zA-Z][a-zA-Z]-[a-zA-Z][a-zA-Z][a-zA-Z]\\\\d\\\\d\\\\d[a-zA-Z]', 314),\n",
       " ('[a-zA-Z][a-zA-Z][a-zA-Z]-[a-zA-Z][a-zA-Z][a-zA-Z]\\\\d\\\\d\\\\d\\\\d\\\\d\\\\d', 314),\n",
       " ('[a-zA-Z]\\\\d\\\\d\\\\d\\\\d-\\\\d\\\\d\\\\d\\\\d\\\\d[a-zA-Z][a-zA-Z][a-zA-Z][a-zA-Z]', 314),\n",
       " ('\\\\d\\\\d\\\\d\\\\d\\\\d\\\\d\\\\d\\\\d\\\\d-\\\\d\\\\d', 314),\n",
       " ('\\\\d\\\\d-\\\\d\\\\d\\\\d\\\\d\\\\d-\\\\d\\\\d', 313),\n",
       " ('\\\\d\\\\d[a-zA-Z][a-zA-Z]-\\\\d\\\\d\\\\d\\\\d\\\\d[a-zA-Z][a-zA-Z]', 313),\n",
       " ('\\\\d\\\\d\\\\d\\\\d\\\\d\\\\d-\\\\d[a-zA-Z]\\\\d', 312),\n",
       " ('\\\\d\\\\d\\\\d\\\\d\\\\d\\\\d-[a-zA-Z][a-zA-Z][a-zA-Z]', 312),\n",
       " ('[a-zA-Z][a-zA-Z]\\\\d\\\\d[a-zA-Z]-[a-zA-Z][a-zA-Z]', 312),\n",
       " ('[a-zA-Z][a-zA-Z][a-zA-Z]-\\\\d\\\\d\\\\d-\\\\d\\\\d\\\\d\\\\d-\\\\d', 311),\n",
       " ('\\\\d\\\\d-\\\\d\\\\d\\\\d\\\\d', 311),\n",
       " ('[a-zA-Z][a-zA-Z][a-zA-Z][a-zA-Z][a-zA-Z][a-zA-Z][a-zA-Z][a-zA-Z][a-zA-Z]\\\\d\\\\d[a-zA-Z]\\\\d\\\\d-\\\\d',\n",
       "  311),\n",
       " ('[a-zA-Z]-\\\\d\\\\d\\\\d\\\\d-\\\\d\\\\d\\\\d-\\\\d', 310),\n",
       " ('[a-zA-Z][a-zA-Z][a-zA-Z]-\\\\d[a-zA-Z][a-zA-Z]\\\\d[a-zA-Z]', 310),\n",
       " ('[a-zA-Z][a-zA-Z][a-zA-Z]-[a-zA-Z][a-zA-Z][a-zA-Z]\\\\d[a-zA-Z][a-zA-Z][a-zA-Z]\\\\d\\\\d\\\\d',\n",
       "  310),\n",
       " ('[a-zA-Z][a-zA-Z][a-zA-Z]-\\\\d\\\\d\\\\d\\\\d-[a-zA-Z]\\\\d', 310),\n",
       " ('[a-zA-Z][a-zA-Z]\\\\d\\\\d\\\\d\\\\d\\\\d-[a-zA-Z]\\\\d\\\\d\\\\d[a-zA-Z][a-zA-Z]', 310),\n",
       " ('\\\\d\\\\d\\\\d\\\\d-\\\\d\\\\d\\\\d\\\\d-[a-zA-Z][a-zA-Z][a-zA-Z]', 309),\n",
       " ('[a-zA-Z][a-zA-Z][a-zA-Z]-[a-zA-Z][a-zA-Z][a-zA-Z][a-zA-Z]-\\\\d\\\\d\\\\d[a-zA-Z]',\n",
       "  309),\n",
       " ('\\\\d\\\\d\\\\d\\\\d-\\\\d\\\\d\\\\d\\\\d-\\\\d', 308),\n",
       " ('[a-zA-Z][a-zA-Z][a-zA-Z][a-zA-Z]\\\\d\\\\d\\\\d\\\\d-[a-zA-Z]\\\\d\\\\d', 307),\n",
       " ('[a-zA-Z][a-zA-Z][a-zA-Z]\\\\d\\\\d\\\\d\\\\d\\\\d-\\\\d\\\\d\\\\d\\\\d\\\\d', 307),\n",
       " ('[a-zA-Z][a-zA-Z][a-zA-Z]-[a-zA-Z]\\\\d\\\\d\\\\d\\\\d\\\\d\\\\d[a-zA-Z]', 307),\n",
       " ('[a-zA-Z][a-zA-Z][a-zA-Z]-[a-zA-Z][a-zA-Z][a-zA-Z]\\\\d', 307),\n",
       " ('[a-zA-Z][a-zA-Z][a-zA-Z]-[a-zA-Z]-\\\\d\\\\d\\\\d', 306),\n",
       " ('\\\\d\\\\d\\\\d-[a-zA-Z]\\\\d[a-zA-Z][a-zA-Z]\\\\d', 306),\n",
       " ('\\\\d\\\\d\\\\d-\\\\d\\\\d\\\\d-\\\\d\\\\d', 305),\n",
       " ('[a-zA-Z][a-zA-Z][a-zA-Z]-[a-zA-Z][a-zA-Z]\\\\d\\\\d\\\\d\\\\d\\\\d\\\\d', 305),\n",
       " ('\\\\d[a-zA-Z]-[a-zA-Z][a-zA-Z]\\\\d\\\\d\\\\d-[a-zA-Z]\\\\d', 305),\n",
       " ('[a-zA-Z][a-zA-Z]-\\\\d\\\\d\\\\d\\\\d\\\\d-\\\\d\\\\d', 304),\n",
       " ('[a-zA-Z][a-zA-Z][a-zA-Z]-[a-zA-Z]\\\\d\\\\d\\\\d[a-zA-Z]\\\\d[a-zA-Z][a-zA-Z]',\n",
       "  304),\n",
       " ('[a-zA-Z][a-zA-Z][a-zA-Z]-\\\\d\\\\d\\\\d\\\\d[a-zA-Z][a-zA-Z][a-zA-Z]-\\\\d\\\\d\\\\d',\n",
       "  304),\n",
       " ('\\\\d\\\\d\\\\d\\\\d\\\\d-\\\\d\\\\d\\\\d\\\\d\\\\d-[a-zA-Z][a-zA-Z]', 303),\n",
       " ('[a-zA-Z][a-zA-Z]\\\\d\\\\d-[a-zA-Z][a-zA-Z]', 303),\n",
       " ('[a-zA-Z][a-zA-Z][a-zA-Z]-\\\\d\\\\d-\\\\d\\\\d\\\\d\\\\d\\\\d-\\\\d\\\\d\\\\d', 303),\n",
       " ('[a-zA-Z][a-zA-Z][a-zA-Z]-[a-zA-Z]\\\\d\\\\d\\\\d\\\\d[a-zA-Z][a-zA-Z][a-zA-Z]',\n",
       "  302),\n",
       " ('[a-zA-Z][a-zA-Z][a-zA-Z]-[a-zA-Z]\\\\d[a-zA-Z][a-zA-Z][a-zA-Z][a-zA-Z][a-zA-Z][a-zA-Z][a-zA-Z]',\n",
       "  302),\n",
       " ('[a-zA-Z][a-zA-Z][a-zA-Z]-[a-zA-Z]\\\\d\\\\d\\\\d-[a-zA-Z]\\\\d', 301),\n",
       " ('[a-zA-Z][a-zA-Z][a-zA-Z]-[a-zA-Z][a-zA-Z]\\\\d\\\\d\\\\d[a-zA-Z]-[a-zA-Z]', 300),\n",
       " ('[a-zA-Z][a-zA-Z]\\\\d-\\\\d\\\\d\\\\d\\\\d[a-zA-Z][a-zA-Z][a-zA-Z][a-zA-Z]', 299),\n",
       " ('[a-zA-Z][a-zA-Z][a-zA-Z]-\\\\d\\\\d[a-zA-Z]\\\\d\\\\d\\\\d\\\\d[a-zA-Z]', 299),\n",
       " ('[a-zA-Z][a-zA-Z][a-zA-Z][a-zA-Z][a-zA-Z][a-zA-Z]-[a-zA-Z]\\\\d\\\\d\\\\d\\\\d[a-zA-Z][a-zA-Z][a-zA-Z][a-zA-Z]',\n",
       "  299),\n",
       " ('[a-zA-Z][a-zA-Z][a-zA-Z][a-zA-Z][a-zA-Z][a-zA-Z][a-zA-Z][a-zA-Z]\\\\d[a-zA-Z]\\\\d\\\\d[a-zA-Z][a-zA-Z]-\\\\d',\n",
       "  298),\n",
       " ('\\\\d\\\\d\\\\d-\\\\d\\\\d\\\\d\\\\d\\\\d\\\\d', 298),\n",
       " ('[a-zA-Z][a-zA-Z][a-zA-Z]-\\\\d\\\\d\\\\d\\\\d\\\\d\\\\d', 297),\n",
       " ('[a-zA-Z][a-zA-Z][a-zA-Z]-[a-zA-Z][a-zA-Z]\\\\d\\\\d\\\\d-\\\\d\\\\d\\\\d\\\\d\\\\d', 296),\n",
       " ('[a-zA-Z][a-zA-Z][a-zA-Z][a-zA-Z][a-zA-Z][a-zA-Z][a-zA-Z]-\\\\d\\\\d\\\\d\\\\d[a-zA-Z][a-zA-Z][a-zA-Z][a-zA-Z]',\n",
       "  296),\n",
       " ('\\\\d\\\\d\\\\d\\\\d\\\\d\\\\d-[a-zA-Z]\\\\d\\\\d', 295),\n",
       " ('[a-zA-Z][a-zA-Z][a-zA-Z]-\\\\d\\\\d[a-zA-Z]\\\\d\\\\d\\\\d\\\\d\\\\d', 295),\n",
       " ('[a-zA-Z][a-zA-Z][a-zA-Z]-\\\\d\\\\d\\\\d[a-zA-Z]\\\\d\\\\d\\\\d\\\\d\\\\d\\\\d', 295),\n",
       " ('[a-zA-Z][a-zA-Z][a-zA-Z]-\\\\d\\\\d[a-zA-Z]\\\\d[a-zA-Z][a-zA-Z]\\\\d', 294),\n",
       " ('\\\\d\\\\d\\\\d\\\\d\\\\d-\\\\d\\\\d\\\\d\\\\d\\\\d', 293),\n",
       " ('[a-zA-Z][a-zA-Z][a-zA-Z]-\\\\d\\\\d\\\\d\\\\d\\\\d\\\\d-\\\\d\\\\d\\\\d', 293),\n",
       " ('[a-zA-Z][a-zA-Z][a-zA-Z]-[a-zA-Z][a-zA-Z]\\\\d\\\\d\\\\d\\\\d[a-zA-Z][a-zA-Z]\\\\d\\\\d\\\\d',\n",
       "  293),\n",
       " ('[a-zA-Z][a-zA-Z][a-zA-Z]-[a-zA-Z][a-zA-Z][a-zA-Z]\\\\d\\\\d\\\\d\\\\d[a-zA-Z][a-zA-Z]\\\\d[a-zA-Z]',\n",
       "  293),\n",
       " ('[a-zA-Z]\\\\d\\\\d\\\\d\\\\d-\\\\d\\\\d\\\\d\\\\d\\\\d-[a-zA-Z][a-zA-Z][a-zA-Z]', 293),\n",
       " ('[a-zA-Z][a-zA-Z][a-zA-Z]-[a-zA-Z][a-zA-Z][a-zA-Z][a-zA-Z][a-zA-Z]\\\\d\\\\d\\\\d[a-zA-Z][a-zA-Z]',\n",
       "  292),\n",
       " ('\\\\d[a-zA-Z][a-zA-Z]\\\\d\\\\d-\\\\d\\\\d\\\\d\\\\d\\\\d', 290),\n",
       " ('[a-zA-Z][a-zA-Z][a-zA-Z][a-zA-Z][a-zA-Z][a-zA-Z][a-zA-Z][a-zA-Z]\\\\d\\\\d\\\\d[a-zA-Z]\\\\d[a-zA-Z]-\\\\d',\n",
       "  289),\n",
       " ('[a-zA-Z]\\\\d[a-zA-Z]\\\\d\\\\d-\\\\d\\\\d\\\\d\\\\d\\\\d-[a-zA-Z][a-zA-Z]', 289),\n",
       " ('\\\\d\\\\d\\\\d\\\\d-\\\\d\\\\d\\\\d\\\\d-[a-zA-Z][a-zA-Z][a-zA-Z][a-zA-Z]', 288),\n",
       " ('[a-zA-Z][a-zA-Z][a-zA-Z]-\\\\d\\\\d\\\\d\\\\d[a-zA-Z][a-zA-Z]\\\\d[a-zA-Z][a-zA-Z]\\\\d',\n",
       "  288),\n",
       " ('[a-zA-Z][a-zA-Z][a-zA-Z]-\\\\d\\\\d[a-zA-Z]\\\\d\\\\d\\\\d\\\\d-[a-zA-Z][a-zA-Z]', 287),\n",
       " ('[a-zA-Z][a-zA-Z][a-zA-Z]-\\\\d\\\\d\\\\d\\\\d\\\\d\\\\d\\\\d\\\\d\\\\d', 287),\n",
       " ('\\\\d[a-zA-Z]\\\\d-\\\\d\\\\d\\\\d\\\\d-\\\\d\\\\d\\\\d[a-zA-Z][a-zA-Z]', 287),\n",
       " ('[a-zA-Z][a-zA-Z]\\\\d-\\\\d\\\\d\\\\d\\\\d-[a-zA-Z][a-zA-Z][a-zA-Z][a-zA-Z]', 287),\n",
       " ('[a-zA-Z]\\\\d\\\\d-\\\\d\\\\d\\\\d\\\\d', 287),\n",
       " ('[a-zA-Z]\\\\d-[a-zA-Z][a-zA-Z][a-zA-Z][a-zA-Z][a-zA-Z]-\\\\d\\\\d', 287),\n",
       " ('[a-zA-Z][a-zA-Z][a-zA-Z]-\\\\d\\\\d\\\\d[a-zA-Z][a-zA-Z]', 286),\n",
       " ('[a-zA-Z][a-zA-Z][a-zA-Z]-[a-zA-Z]\\\\d\\\\d\\\\d-\\\\d\\\\d\\\\d\\\\d\\\\d\\\\d', 286),\n",
       " ('\\\\d\\\\d\\\\d-\\\\d\\\\d\\\\d\\\\d\\\\d\\\\d[a-zA-Z][a-zA-Z]', 285),\n",
       " ('[a-zA-Z][a-zA-Z][a-zA-Z]-\\\\d\\\\d\\\\d\\\\d[a-zA-Z]\\\\d\\\\d[a-zA-Z][a-zA-Z]\\\\d',\n",
       "  284),\n",
       " ('[a-zA-Z][a-zA-Z][a-zA-Z]-\\\\d\\\\d\\\\d\\\\d-\\\\d\\\\d\\\\d', 284),\n",
       " ('[a-zA-Z][a-zA-Z][a-zA-Z]-\\\\d[a-zA-Z]\\\\d\\\\d[a-zA-Z][a-zA-Z]\\\\d[a-zA-Z][a-zA-Z]\\\\d',\n",
       "  284),\n",
       " ('[a-zA-Z][a-zA-Z][a-zA-Z][a-zA-Z][a-zA-Z][a-zA-Z][a-zA-Z][a-zA-Z]\\\\d[a-zA-Z]\\\\d\\\\d[a-zA-Z]\\\\d-\\\\d\\\\d',\n",
       "  284),\n",
       " ('\\\\d\\\\d\\\\d\\\\d-\\\\d\\\\d\\\\d\\\\d[a-zA-Z]', 281),\n",
       " ('[a-zA-Z][a-zA-Z][a-zA-Z]-[a-zA-Z]\\\\d\\\\d\\\\d[a-zA-Z]\\\\d\\\\d[a-zA-Z]-[a-zA-Z]',\n",
       "  281),\n",
       " ('[a-zA-Z][a-zA-Z][a-zA-Z]-\\\\d\\\\d\\\\d\\\\d\\\\d\\\\d\\\\d\\\\d', 281),\n",
       " ('\\\\d[a-zA-Z][a-zA-Z]\\\\d-\\\\d\\\\d\\\\d\\\\d', 279),\n",
       " ('\\\\d\\\\d\\\\d-\\\\d\\\\d-\\\\d\\\\d-\\\\d\\\\d\\\\d', 277),\n",
       " ('[a-zA-Z][a-zA-Z][a-zA-Z]-[a-zA-Z]\\\\d\\\\d\\\\d[a-zA-Z]\\\\d\\\\d[a-zA-Z]', 275),\n",
       " ('[a-zA-Z][a-zA-Z][a-zA-Z]-[a-zA-Z][a-zA-Z][a-zA-Z][a-zA-Z][a-zA-Z]\\\\d\\\\d\\\\d\\\\d[a-zA-Z]',\n",
       "  274),\n",
       " ('\\\\d\\\\d\\\\d\\\\d\\\\d\\\\d[a-zA-Z]-\\\\d\\\\d\\\\d', 272),\n",
       " ('[a-zA-Z][a-zA-Z][a-zA-Z]-[a-zA-Z]\\\\d\\\\d\\\\d\\\\d\\\\d\\\\d\\\\d\\\\d\\\\d', 271),\n",
       " ('[a-zA-Z]\\\\d\\\\d\\\\d\\\\d\\\\d-[a-zA-Z]\\\\d\\\\d', 265),\n",
       " ('[a-zA-Z][a-zA-Z][a-zA-Z]-[a-zA-Z][a-zA-Z]\\\\d\\\\d-\\\\d\\\\d\\\\d\\\\d\\\\d[a-zA-Z]',\n",
       "  265),\n",
       " ('[a-zA-Z][a-zA-Z][a-zA-Z]-[a-zA-Z][a-zA-Z]\\\\d\\\\d\\\\d[a-zA-Z][a-zA-Z][a-zA-Z]',\n",
       "  253),\n",
       " ('[a-zA-Z]\\\\d\\\\d\\\\d\\\\d-\\\\d\\\\d\\\\d\\\\d\\\\d', 209),\n",
       " ('[a-zA-Z][a-zA-Z][a-zA-Z]-\\\\d\\\\d[a-zA-Z]\\\\d\\\\d\\\\d\\\\d', 111),\n",
       " ('[a-zA-Z]\\\\d\\\\d\\\\d\\\\d\\\\d-\\\\d\\\\d\\\\d', 21),\n",
       " ('\\\\d\\\\d\\\\d\\\\d\\\\d\\\\d-\\\\d\\\\d\\\\d', 17),\n",
       " ('[a-zA-Z][a-zA-Z]\\\\d-\\\\d\\\\d\\\\d\\\\d-\\\\d\\\\d\\\\d[a-zA-Z][a-zA-Z]', 17),\n",
       " ('[a-zA-Z]\\\\d[a-zA-Z]\\\\d\\\\d-\\\\d\\\\d\\\\d\\\\d\\\\d', 6)]"
      ]
     },
     "execution_count": 32,
     "metadata": {},
     "output_type": "execute_result"
    }
   ],
   "source": [
    "augment_pattern_matchs"
   ]
  },
  {
   "cell_type": "code",
   "execution_count": 33,
   "id": "457b2b3f",
   "metadata": {
    "ExecuteTime": {
     "end_time": "2021-08-25T00:32:36.718379Z",
     "start_time": "2021-08-25T00:32:36.713380Z"
    }
   },
   "outputs": [
    {
     "name": "stdout",
     "output_type": "stream",
     "text": [
      "34582\n"
     ]
    }
   ],
   "source": [
    "train_data = train_data + augment_text_entities\n",
    "print(len(train_data))"
   ]
  },
  {
   "cell_type": "markdown",
   "id": "c04ea363",
   "metadata": {},
   "source": [
    "### Generate NER data"
   ]
  },
  {
   "cell_type": "code",
   "execution_count": 34,
   "id": "a325e822",
   "metadata": {
    "ExecuteTime": {
     "end_time": "2021-08-25T00:33:09.508934Z",
     "start_time": "2021-08-25T00:32:36.720609Z"
    }
   },
   "outputs": [
    {
     "name": "stderr",
     "output_type": "stream",
     "text": [
      "100%|██████████| 34582/34582 [00:29<00:00, 1181.12it/s]\n",
      "100%|██████████| 1528/1528 [00:01<00:00, 1191.94it/s]\n"
     ]
    }
   ],
   "source": [
    "def generate_data(data):\n",
    "    nlp = spacy.blank(\"en\") # load a new spacy model\n",
    "    db = DocBin() # create a DocBin object\n",
    "\n",
    "    for text, annot in tqdm(data): # data in previous format\n",
    "        doc = nlp.make_doc(text) # create doc object from text\n",
    "        ents = []\n",
    "        for start, end, label in annot[\"entities\"]: # add character indexes\n",
    "            span = doc.char_span(start, end, label=label, alignment_mode=\"contract\")\n",
    "            if span is None:\n",
    "                print(\"Skipping entity\")\n",
    "            else:\n",
    "                ents.append(span)\n",
    "        doc.ents = ents # label the text with the ents\n",
    "        db.add(doc)\n",
    "    return db\n",
    "    \n",
    "train_spacy = generate_data(train_data)\n",
    "train_spacy.to_disk(\"./train_aug.spacy\") # save the docbin object\n",
    "test_spacy = generate_data(test_data) \n",
    "test_spacy.to_disk(\"./test_aug.spacy\") # save the docbin object"
   ]
  },
  {
   "cell_type": "code",
   "execution_count": 35,
   "id": "11b1afb1",
   "metadata": {
    "ExecuteTime": {
     "end_time": "2021-08-25T00:33:10.409804Z",
     "start_time": "2021-08-25T00:33:09.511242Z"
    }
   },
   "outputs": [
    {
     "name": "stdout",
     "output_type": "stream",
     "text": [
      "total 7868\r\n",
      "-rw-r--r--. 1 root root    1916 Aug 23 01:30 base_config.cfg\r\n",
      "-rw-r--r--. 1 root root    1664 Aug 23 09:48 base_config_gpu.cfg\r\n",
      "-rw-r--r--. 1 root root    2833 Aug 25 00:26 config.cfg\r\n",
      "-rw-r--r--. 1 root root    2625 Aug 25 00:11 config_gpu.cfg\r\n",
      "-rw-r--r--. 1 root root  289100 Aug 25 00:31 custom_ner.ipynb\r\n",
      "-rw-r--r--. 1 root root  163582 Aug 25 00:33 custom_ner_aug.ipynb\r\n",
      "-rw-r--r--. 1 root root  142918 Aug 25 00:29 custom_ner_cpu.ipynb\r\n",
      "drwxr-xr-x. 5 root root      43 Aug 24 09:04 output\r\n",
      "-rw-r--r--. 1 root root  227413 Aug 25 00:27 test.spacy\r\n",
      "-rw-r--r--. 1 root root  229957 Aug 25 00:33 test_aug.spacy\r\n",
      "-rw-r--r--. 1 root root  660076 Aug 25 00:27 train.spacy\r\n",
      "-rw-r--r--. 1 root root 6312285 Aug 25 00:33 train_aug.spacy\r\n"
     ]
    }
   ],
   "source": [
    "!ls -l . "
   ]
  },
  {
   "cell_type": "markdown",
   "id": "80713807",
   "metadata": {},
   "source": [
    "## Train the model"
   ]
  },
  {
   "cell_type": "code",
   "execution_count": 36,
   "id": "a5aed1da",
   "metadata": {
    "ExecuteTime": {
     "end_time": "2021-08-25T00:33:10.415310Z",
     "start_time": "2021-08-25T00:33:10.412485Z"
    }
   },
   "outputs": [],
   "source": [
    "# !python -m spacy train config.cfg --output ./output/cpu --paths.train ./train.spacy --paths.dev ./test.spacy"
   ]
  },
  {
   "cell_type": "code",
   "execution_count": 39,
   "id": "78802aec",
   "metadata": {
    "ExecuteTime": {
     "end_time": "2021-08-25T01:05:54.142187Z",
     "start_time": "2021-08-25T00:34:42.567179Z"
    }
   },
   "outputs": [
    {
     "name": "stdout",
     "output_type": "stream",
     "text": [
      "2021-08-25 00:34:45.007545: I tensorflow/stream_executor/platform/default/dso_loader.cc:53] Successfully opened dynamic library libcudart.so.11.0\n",
      "\u001b[38;5;4mℹ Using GPU: 0\u001b[0m\n",
      "\u001b[1m\n",
      "=========================== Initializing pipeline ===========================\u001b[0m\n",
      "[2021-08-25 00:34:48,848] [INFO] Set up nlp object from config\n",
      "[2021-08-25 00:34:48,874] [INFO] Pipeline: ['transformer', 'ner']\n",
      "[2021-08-25 00:34:48,885] [INFO] Created vocabulary\n",
      "[2021-08-25 00:34:48,887] [INFO] Finished initializing nlp object\n",
      "Some weights of the model checkpoint at roberta-base were not used when initializing RobertaModel: ['lm_head.dense.bias', 'lm_head.bias', 'lm_head.layer_norm.weight', 'lm_head.layer_norm.bias', 'lm_head.dense.weight', 'lm_head.decoder.weight']\n",
      "- This IS expected if you are initializing RobertaModel from the checkpoint of a model trained on another task or with another architecture (e.g. initializing a BertForSequenceClassification model from a BertForPreTraining model).\n",
      "- This IS NOT expected if you are initializing RobertaModel from the checkpoint of a model that you expect to be exactly identical (initializing a BertForSequenceClassification model from a BertForSequenceClassification model).\n",
      "[2021-08-25 00:36:10,389] [INFO] Initialized pipeline components: ['transformer', 'ner']\n",
      "\u001b[38;5;2m✔ Initialized pipeline\u001b[0m\n",
      "\u001b[1m\n",
      "============================= Training pipeline =============================\u001b[0m\n",
      "\u001b[38;5;4mℹ Pipeline: ['transformer', 'ner']\u001b[0m\n",
      "\u001b[38;5;4mℹ Initial learn rate: 0.0\u001b[0m\n",
      "E    #       LOSS TRANS...  LOSS NER  ENTS_F  ENTS_P  ENTS_R  SCORE \n",
      "---  ------  -------------  --------  ------  ------  ------  ------\n",
      "  0       0        9539.28    444.25    0.16    0.10    0.39    0.00\n",
      "  0      10       73966.44   8993.24    0.12    0.08    0.30    0.00\n",
      "  0      20       55534.55   7368.60    0.22    0.14    0.49    0.00\n",
      "  0      30       23001.62   4277.62    0.21    0.14    0.39    0.00\n",
      "  0      40        7038.74   8267.44    0.00    0.00    0.00    0.00\n",
      "  0      50        1478.98   3045.83    0.00    0.00    0.00    0.00\n",
      "  0      60         342.75   1304.62    0.00    0.00    0.00    0.00\n",
      "  0      70         537.46   1072.40   11.53   11.53   11.53    0.12\n",
      "  0      80       16981.89   3766.19   47.64   42.26   54.58    0.48\n",
      "  0      90         519.63    836.66   73.05   66.40   81.18    0.73\n",
      "  0     100         258.69    506.72   86.69   81.17   93.00    0.87\n",
      "  0     110         155.24    416.94   89.08   83.65   95.27    0.89\n",
      "  0     120         132.53    355.00   87.17   82.50   92.41    0.87\n",
      "  0     130         122.58    292.42   89.23   83.09   96.35    0.89\n",
      "  0     140          87.69    224.68   88.98   85.55   92.71    0.89\n",
      "  0     150          70.62    173.36   85.27   85.01   85.52    0.85\n",
      "  0     160          67.74    166.82   87.85   88.11   87.59    0.88\n",
      "  0     170          44.46    147.13   87.27   86.76   87.78    0.87\n",
      "  0     180          43.98    137.37   87.62   85.41   89.95    0.88\n",
      "  0     190          44.25    125.72   91.29   86.98   96.06    0.91\n",
      "  0     200          39.92    136.71   91.64   88.45   95.07    0.92\n",
      "  0     210          37.15    127.24   91.48   85.08   98.92    0.91\n",
      "  0     220          26.58    103.54   81.86   91.90   73.79    0.82\n",
      "  0     230          34.69    115.02   87.42   91.68   83.55    0.87\n",
      "  0     240          34.96    107.63   89.68   89.90   89.46    0.90\n",
      "  0     250          48.55    113.56   92.39   86.44   99.21    0.92\n",
      "  0     260          34.91    109.06   94.64   90.48   99.21    0.95\n",
      "  0     270          26.99     83.38   93.60   89.56   98.03    0.94\n",
      "  0     280          23.46     73.16   94.29   90.49   98.42    0.94\n",
      "  0     290          20.03     76.40   94.07   92.89   95.27    0.94\n",
      "  0     300          21.02     68.77   93.95   93.13   94.78    0.94\n",
      "  0     310          16.01     69.71   93.77   88.74   99.41    0.94\n",
      "  0     320          10.48     69.89   94.34   89.84   99.31    0.94\n",
      "  0     330          19.85     80.33   93.90   94.51   93.30    0.94\n",
      "  0     340           7.78     49.53   94.34   93.51   95.17    0.94\n",
      "  0     350          25.12     93.02   92.75   94.12   91.43    0.93\n",
      "  0     360          17.89     59.60   94.78   90.72   99.21    0.95\n",
      "  0     370          14.30     63.49   95.40   93.73   97.14    0.95\n",
      "  0     380          16.42     79.13   95.09   92.14   98.23    0.95\n",
      "  0     390          10.88     69.18   96.06   93.80   98.42    0.96\n",
      "  0     400          14.45     65.20   95.41   95.55   95.27    0.95\n",
      "  0     410          17.16     56.46   95.10   91.15   99.41    0.95\n",
      "  0     420          22.91     90.82   94.47   90.74   98.52    0.94\n",
      "  0     430          10.79     48.92   95.83   93.36   98.42    0.96\n",
      "  0     440           6.24     45.96   97.35   95.28   99.51    0.97\n",
      "  0     450          11.70     67.38   96.75   94.05   99.61    0.97\n",
      "  0     460           6.17     38.71   91.04   91.45   90.64    0.91\n",
      "  0     470          12.60     62.30   95.59   92.14   99.31    0.96\n",
      "  0     480          13.21     56.87   94.42   95.47   93.40    0.94\n",
      "  0     490           8.63     57.80   96.99   95.51   98.52    0.97\n",
      "  0     500           4.62     68.96   96.79   95.49   98.13    0.97\n",
      "  0     510           1.93     40.69   96.77   94.80   98.82    0.97\n",
      "  0     520          10.46     48.74   96.81   95.06   98.62    0.97\n",
      "  0     530           8.25     44.81   96.81   95.15   98.52    0.97\n",
      "  0     540           5.12     35.55   96.52   93.61   99.61    0.97\n",
      "  0     550           5.92     52.33   96.18   94.49   97.93    0.96\n",
      "  0     560           4.26     43.11   96.80   94.05   99.70    0.97\n",
      "  0     570           7.03     37.53   96.75   93.96   99.70    0.97\n",
      "  0     580           9.94     51.14   95.56   91.75   99.70    0.96\n",
      "  0     590           9.00     42.05   96.36   96.26   96.45    0.96\n",
      "  0     600           5.10     50.83   96.65   94.04   99.41    0.97\n",
      "  0     610           3.02     53.27   95.91   92.65   99.41    0.96\n",
      "  0     620          17.70     68.62   97.17   96.41   97.93    0.97\n",
      "  0     630          17.69     49.96   96.42   93.60   99.41    0.96\n",
      "  1     640           4.35     32.47   96.29   93.10   99.70    0.96\n",
      "  1     650           5.69     34.80   96.64   94.20   99.21    0.97\n",
      "  1     660           6.73     38.91   96.92   96.21   97.64    0.97\n",
      "  1     670           4.54     42.98   96.42   93.52   99.51    0.96\n",
      "  1     680           5.67     38.16   96.10   92.92   99.51    0.96\n",
      "  1     690           6.92     54.83   96.16   92.69   99.90    0.96\n",
      "  1     700           8.90     40.23   96.41   95.02   97.83    0.96\n",
      "  1     710           5.23     52.45   95.87   92.49   99.51    0.96\n",
      "  1     720           9.63     53.29   96.74   94.21   99.41    0.97\n",
      "  1     730           5.54     33.27   95.62   91.61  100.00    0.96\n",
      "  1     740           9.46     52.15   96.77   96.20   97.34    0.97\n",
      "\u001b[38;5;2m✔ Saved pipeline to output directory\u001b[0m\n",
      "output/gpu_aug/model-last\n"
     ]
    }
   ],
   "source": [
    "!python -m spacy train config_gpu.cfg --output ./output/gpu_aug --paths.train ./train_aug.spacy --paths.dev ./test_aug.spacy --gpu-id 0"
   ]
  },
  {
   "cell_type": "markdown",
   "id": "62731f0f",
   "metadata": {},
   "source": [
    "## Evaluate\n",
    "\n",
    "###  Check test data"
   ]
  },
  {
   "cell_type": "code",
   "execution_count": 40,
   "id": "48ed7541",
   "metadata": {
    "ExecuteTime": {
     "end_time": "2021-08-25T01:09:24.399004Z",
     "start_time": "2021-08-25T01:09:22.094147Z"
    }
   },
   "outputs": [],
   "source": [
    "nlp = spacy.load(\"output/gpu_aug/model-last\") "
   ]
  },
  {
   "cell_type": "code",
   "execution_count": 41,
   "id": "adb71f1e",
   "metadata": {
    "ExecuteTime": {
     "end_time": "2021-08-25T01:09:27.769393Z",
     "start_time": "2021-08-25T01:09:27.744968Z"
    }
   },
   "outputs": [],
   "source": [
    "options = {'colors': {'ACTION':\"#56D7C4\", 'PART_NUM':\"#92E0AA\"} }\n",
    "\n",
    "def show_text(text, annotations=None, options=options, show_detail=True, standardize_text=None):\n",
    "    if standardize_text is not None:\n",
    "        text = standardize_text(text)\n",
    "    doc = nlp(text)\n",
    "    print('='*100)\n",
    "    if show_detail:\n",
    "        print(doc.text) \n",
    "    spacy.displacy.render(doc, style='ent', options=options)\n",
    "    if show_detail and annotations is not None and len(annotations['entities'])>0:\n",
    "        print('-'*25, 'acutal entities', '-'*25)\n",
    "        print(*[(text[start:end], start, end, label) for start, end, label in annotations['entities']], sep='\\n')   \n",
    "    if show_detail and len(doc.ents)>0:\n",
    "        print('-'*25, 'predict entities', '-'*25)\n",
    "        print(*[(ent.text, ent.start_char, ent.end_char, ent.label_) for ent in doc.ents], sep='\\n')      \n",
    "\n",
    "def show_texts(data, indexes=None, options=options, show_detail=True, standardize_text=None):\n",
    "    def show_text_(data):\n",
    "        if isinstance(data, str):\n",
    "            show_text(data, None, options=options, show_detail=show_detail, standardize_text=standardize_text)\n",
    "        else:\n",
    "            text, annotations = data\n",
    "            show_text(text, annotations, options=options, show_detail=show_detail, standardize_text=standardize_text)  \n",
    "            \n",
    "    if indexes is not None:\n",
    "        for i in indexes:\n",
    "            show_text_(data[i])   \n",
    "    else:\n",
    "        for one_data in data: \n",
    "            show_text_(one_data)      \n",
    "    \n",
    "                  "
   ]
  },
  {
   "cell_type": "code",
   "execution_count": 42,
   "id": "2f44d6da",
   "metadata": {
    "ExecuteTime": {
     "end_time": "2021-08-25T01:09:30.447690Z",
     "start_time": "2021-08-25T01:09:29.572331Z"
    },
    "scrolled": false
   },
   "outputs": [
    {
     "name": "stdout",
     "output_type": "stream",
     "text": [
      "====================================================================================================\n",
      "#normal\n"
     ]
    },
    {
     "name": "stderr",
     "output_type": "stream",
     "text": [
      "/usr/local/lib/python3.6/dist-packages/spacy/displacy/__init__.py:191: UserWarning: [W006] No entities to visualize found in Doc object. If this is surprising to you, make sure the Doc was processed using a model that supports named entity recognition, and check the `doc.ents` property manually if necessary.\n",
      "  warnings.warn(Warnings.W006)\n"
     ]
    },
    {
     "data": {
      "text/html": [
       "<span class=\"tex2jax_ignore\"><div class=\"entities\" style=\"line-height: 2.5; direction: ltr\">#normal</div></span>"
      ],
      "text/plain": [
       "<IPython.core.display.HTML object>"
      ]
     },
     "metadata": {},
     "output_type": "display_data"
    },
    {
     "name": "stdout",
     "output_type": "stream",
     "text": [
      "====================================================================================================\n",
      "please route to jamaul harris . cu not in office i called chris on7/19/21 and left a message . i am awaiting a response . jh\n"
     ]
    },
    {
     "data": {
      "text/html": [
       "<span class=\"tex2jax_ignore\"><div class=\"entities\" style=\"line-height: 2.5; direction: ltr\">please route to jamaul harris . cu not in office i called chris on7/19/21 and left a message . i am awaiting a response . jh</div></span>"
      ],
      "text/plain": [
       "<IPython.core.display.HTML object>"
      ]
     },
     "metadata": {},
     "output_type": "display_data"
    },
    {
     "name": "stdout",
     "output_type": "stream",
     "text": [
      "====================================================================================================\n",
      "please send to doug houseknecht please order reccomended part overnight to fedex manitou rd attention kevin deasey rm2-5752-000cn #normal\n"
     ]
    },
    {
     "data": {
      "text/html": [
       "<span class=\"tex2jax_ignore\"><div class=\"entities\" style=\"line-height: 2.5; direction: ltr\">please send to doug houseknecht please order reccomended part overnight to fedex manitou rd attention kevin deasey \n",
       "<mark class=\"entity\" style=\"background: #92E0AA; padding: 0.45em 0.6em; margin: 0 0.25em; line-height: 1; border-radius: 0.35em;\">\n",
       "    rm2-5752-000cn\n",
       "    <span style=\"font-size: 0.8em; font-weight: bold; line-height: 1; border-radius: 0.35em; vertical-align: middle; margin-left: 0.5rem\">PART_NUM</span>\n",
       "</mark>\n",
       " #normal</div></span>"
      ],
      "text/plain": [
       "<IPython.core.display.HTML object>"
      ]
     },
     "metadata": {},
     "output_type": "display_data"
    },
    {
     "name": "stdout",
     "output_type": "stream",
     "text": [
      "------------------------- acutal entities -------------------------\n",
      "('rm2-5752-000cn', 115, 129, 'PART_NUM')\n",
      "------------------------- predict entities -------------------------\n",
      "('rm2-5752-000cn', 115, 129, 'PART_NUM')\n",
      "====================================================================================================\n",
      "please cancel escalated part . . r-r case to ce dwayne martin spoke with customer , will go to his location friday . \n"
     ]
    },
    {
     "data": {
      "text/html": [
       "<span class=\"tex2jax_ignore\"><div class=\"entities\" style=\"line-height: 2.5; direction: ltr\">please cancel escalated part . . r-r case to ce dwayne martin spoke with customer , will go to his location friday . </div></span>"
      ],
      "text/plain": [
       "<IPython.core.display.HTML object>"
      ]
     },
     "metadata": {},
     "output_type": "display_data"
    },
    {
     "name": "stdout",
     "output_type": "stream",
     "text": [
      "====================================================================================================\n",
      "please order part: 714657-001 please ship to: russell taylor 200 n college street , suite 2785b nc1-004-02-61 charlotte , north carolina 28202\n"
     ]
    },
    {
     "data": {
      "text/html": [
       "<span class=\"tex2jax_ignore\"><div class=\"entities\" style=\"line-height: 2.5; direction: ltr\">please order part: \n",
       "<mark class=\"entity\" style=\"background: #92E0AA; padding: 0.45em 0.6em; margin: 0 0.25em; line-height: 1; border-radius: 0.35em;\">\n",
       "    714657-001\n",
       "    <span style=\"font-size: 0.8em; font-weight: bold; line-height: 1; border-radius: 0.35em; vertical-align: middle; margin-left: 0.5rem\">PART_NUM</span>\n",
       "</mark>\n",
       " please ship to: russell taylor 200 n college street , suite 2785b nc1-004-02-61 charlotte , north carolina 28202</div></span>"
      ],
      "text/plain": [
       "<IPython.core.display.HTML object>"
      ]
     },
     "metadata": {},
     "output_type": "display_data"
    },
    {
     "name": "stdout",
     "output_type": "stream",
     "text": [
      "------------------------- acutal entities -------------------------\n",
      "('714657-001', 19, 29, 'PART_NUM')\n",
      "------------------------- predict entities -------------------------\n",
      "('714657-001', 19, 29, 'PART_NUM')\n",
      "====================================================================================================\n",
      "please create revisit , i ' m waiting for call from l2 , l3\n"
     ]
    },
    {
     "data": {
      "text/html": [
       "<span class=\"tex2jax_ignore\"><div class=\"entities\" style=\"line-height: 2.5; direction: ltr\">please create revisit , i ' m waiting for call from l2 , l3</div></span>"
      ],
      "text/plain": [
       "<IPython.core.display.HTML object>"
      ]
     },
     "metadata": {},
     "output_type": "display_data"
    },
    {
     "name": "stdout",
     "output_type": "stream",
     "text": [
      "====================================================================================================\n",
      "please part number 910584-001 and ship next business day to my hfpu site at 155 wellington street west , toronto\n"
     ]
    },
    {
     "data": {
      "text/html": [
       "<span class=\"tex2jax_ignore\"><div class=\"entities\" style=\"line-height: 2.5; direction: ltr\">please part number \n",
       "<mark class=\"entity\" style=\"background: #92E0AA; padding: 0.45em 0.6em; margin: 0 0.25em; line-height: 1; border-radius: 0.35em;\">\n",
       "    910584-001\n",
       "    <span style=\"font-size: 0.8em; font-weight: bold; line-height: 1; border-radius: 0.35em; vertical-align: middle; margin-left: 0.5rem\">PART_NUM</span>\n",
       "</mark>\n",
       " and ship next business day to my hfpu site at 155 wellington street west , toronto</div></span>"
      ],
      "text/plain": [
       "<IPython.core.display.HTML object>"
      ]
     },
     "metadata": {},
     "output_type": "display_data"
    },
    {
     "name": "stdout",
     "output_type": "stream",
     "text": [
      "------------------------- acutal entities -------------------------\n",
      "('910584-001', 19, 29, 'PART_NUM')\n",
      "------------------------- predict entities -------------------------\n",
      "('910584-001', 19, 29, 'PART_NUM')\n",
      "====================================================================================================\n",
      "loaner in place further diagnostics required nh\n"
     ]
    },
    {
     "data": {
      "text/html": [
       "<span class=\"tex2jax_ignore\"><div class=\"entities\" style=\"line-height: 2.5; direction: ltr\">loaner in place further diagnostics required nh</div></span>"
      ],
      "text/plain": [
       "<IPython.core.display.HTML object>"
      ]
     },
     "metadata": {},
     "output_type": "display_data"
    },
    {
     "name": "stdout",
     "output_type": "stream",
     "text": [
      "====================================================================================================\n",
      "#normal assign 7/16/21 emailed have part emailed repair request . 7/20/21 confirmed appt 👍 . \n"
     ]
    },
    {
     "data": {
      "text/html": [
       "<span class=\"tex2jax_ignore\"><div class=\"entities\" style=\"line-height: 2.5; direction: ltr\">#normal assign 7/16/21 emailed have part emailed repair request . 7/20/21 confirmed appt \n",
       "<mark class=\"entity\" style=\"background: #92E0AA; padding: 0.45em 0.6em; margin: 0 0.25em; line-height: 1; border-radius: 0.35em;\">\n",
       "    👍 .\n",
       "    <span style=\"font-size: 0.8em; font-weight: bold; line-height: 1; border-radius: 0.35em; vertical-align: middle; margin-left: 0.5rem\">PART_NUM</span>\n",
       "</mark>\n",
       " </div></span>"
      ],
      "text/plain": [
       "<IPython.core.display.HTML object>"
      ]
     },
     "metadata": {},
     "output_type": "display_data"
    },
    {
     "name": "stdout",
     "output_type": "stream",
     "text": [
      "------------------------- predict entities -------------------------\n",
      "('👍 .', 89, 92, 'PART_NUM')\n",
      "====================================================================================================\n",
      "please order recommended part nbd to my hold for pickup\n"
     ]
    },
    {
     "data": {
      "text/html": [
       "<span class=\"tex2jax_ignore\"><div class=\"entities\" style=\"line-height: 2.5; direction: ltr\">please order recommended part nbd to my hold for pickup</div></span>"
      ],
      "text/plain": [
       "<IPython.core.display.HTML object>"
      ]
     },
     "metadata": {},
     "output_type": "display_data"
    }
   ],
   "source": [
    "indexes = np.random.randint(0, len(test_data), 10)\n",
    "show_texts(test_data, indexes) "
   ]
  },
  {
   "cell_type": "code",
   "execution_count": 43,
   "id": "3ee606ad",
   "metadata": {
    "ExecuteTime": {
     "end_time": "2021-08-25T01:09:31.519976Z",
     "start_time": "2021-08-25T01:09:30.685933Z"
    },
    "scrolled": false
   },
   "outputs": [
    {
     "name": "stdout",
     "output_type": "stream",
     "text": [
      "====================================================================================================\n"
     ]
    },
    {
     "data": {
      "text/html": [
       "<span class=\"tex2jax_ignore\"><div class=\"entities\" style=\"line-height: 2.5; direction: ltr\">#normal</div></span>"
      ],
      "text/plain": [
       "<IPython.core.display.HTML object>"
      ]
     },
     "metadata": {},
     "output_type": "display_data"
    },
    {
     "name": "stdout",
     "output_type": "stream",
     "text": [
      "====================================================================================================\n"
     ]
    },
    {
     "data": {
      "text/html": [
       "<span class=\"tex2jax_ignore\"><div class=\"entities\" style=\"line-height: 2.5; direction: ltr\">please route to jamaul harris . cu not in office i called chris on7/19/21 and left a message . i am awaiting a response . jh</div></span>"
      ],
      "text/plain": [
       "<IPython.core.display.HTML object>"
      ]
     },
     "metadata": {},
     "output_type": "display_data"
    },
    {
     "name": "stdout",
     "output_type": "stream",
     "text": [
      "====================================================================================================\n"
     ]
    },
    {
     "data": {
      "text/html": [
       "<span class=\"tex2jax_ignore\"><div class=\"entities\" style=\"line-height: 2.5; direction: ltr\">please send to doug houseknecht please order reccomended part overnight to fedex manitou rd attention kevin deasey \n",
       "<mark class=\"entity\" style=\"background: #92E0AA; padding: 0.45em 0.6em; margin: 0 0.25em; line-height: 1; border-radius: 0.35em;\">\n",
       "    rm2-5752-000cn\n",
       "    <span style=\"font-size: 0.8em; font-weight: bold; line-height: 1; border-radius: 0.35em; vertical-align: middle; margin-left: 0.5rem\">PART_NUM</span>\n",
       "</mark>\n",
       " #normal</div></span>"
      ],
      "text/plain": [
       "<IPython.core.display.HTML object>"
      ]
     },
     "metadata": {},
     "output_type": "display_data"
    },
    {
     "name": "stdout",
     "output_type": "stream",
     "text": [
      "====================================================================================================\n"
     ]
    },
    {
     "data": {
      "text/html": [
       "<span class=\"tex2jax_ignore\"><div class=\"entities\" style=\"line-height: 2.5; direction: ltr\">please cancel escalated part . . r-r case to ce dwayne martin spoke with customer , will go to his location friday . </div></span>"
      ],
      "text/plain": [
       "<IPython.core.display.HTML object>"
      ]
     },
     "metadata": {},
     "output_type": "display_data"
    },
    {
     "name": "stdout",
     "output_type": "stream",
     "text": [
      "====================================================================================================\n"
     ]
    },
    {
     "data": {
      "text/html": [
       "<span class=\"tex2jax_ignore\"><div class=\"entities\" style=\"line-height: 2.5; direction: ltr\">please order part: \n",
       "<mark class=\"entity\" style=\"background: #92E0AA; padding: 0.45em 0.6em; margin: 0 0.25em; line-height: 1; border-radius: 0.35em;\">\n",
       "    714657-001\n",
       "    <span style=\"font-size: 0.8em; font-weight: bold; line-height: 1; border-radius: 0.35em; vertical-align: middle; margin-left: 0.5rem\">PART_NUM</span>\n",
       "</mark>\n",
       " please ship to: russell taylor 200 n college street , suite 2785b nc1-004-02-61 charlotte , north carolina 28202</div></span>"
      ],
      "text/plain": [
       "<IPython.core.display.HTML object>"
      ]
     },
     "metadata": {},
     "output_type": "display_data"
    },
    {
     "name": "stdout",
     "output_type": "stream",
     "text": [
      "====================================================================================================\n"
     ]
    },
    {
     "data": {
      "text/html": [
       "<span class=\"tex2jax_ignore\"><div class=\"entities\" style=\"line-height: 2.5; direction: ltr\">please create revisit , i ' m waiting for call from l2 , l3</div></span>"
      ],
      "text/plain": [
       "<IPython.core.display.HTML object>"
      ]
     },
     "metadata": {},
     "output_type": "display_data"
    },
    {
     "name": "stdout",
     "output_type": "stream",
     "text": [
      "====================================================================================================\n"
     ]
    },
    {
     "data": {
      "text/html": [
       "<span class=\"tex2jax_ignore\"><div class=\"entities\" style=\"line-height: 2.5; direction: ltr\">please part number \n",
       "<mark class=\"entity\" style=\"background: #92E0AA; padding: 0.45em 0.6em; margin: 0 0.25em; line-height: 1; border-radius: 0.35em;\">\n",
       "    910584-001\n",
       "    <span style=\"font-size: 0.8em; font-weight: bold; line-height: 1; border-radius: 0.35em; vertical-align: middle; margin-left: 0.5rem\">PART_NUM</span>\n",
       "</mark>\n",
       " and ship next business day to my hfpu site at 155 wellington street west , toronto</div></span>"
      ],
      "text/plain": [
       "<IPython.core.display.HTML object>"
      ]
     },
     "metadata": {},
     "output_type": "display_data"
    },
    {
     "name": "stdout",
     "output_type": "stream",
     "text": [
      "====================================================================================================\n"
     ]
    },
    {
     "data": {
      "text/html": [
       "<span class=\"tex2jax_ignore\"><div class=\"entities\" style=\"line-height: 2.5; direction: ltr\">loaner in place further diagnostics required nh</div></span>"
      ],
      "text/plain": [
       "<IPython.core.display.HTML object>"
      ]
     },
     "metadata": {},
     "output_type": "display_data"
    },
    {
     "name": "stdout",
     "output_type": "stream",
     "text": [
      "====================================================================================================\n"
     ]
    },
    {
     "data": {
      "text/html": [
       "<span class=\"tex2jax_ignore\"><div class=\"entities\" style=\"line-height: 2.5; direction: ltr\">#normal assign 7/16/21 emailed have part emailed repair request . 7/20/21 confirmed appt \n",
       "<mark class=\"entity\" style=\"background: #92E0AA; padding: 0.45em 0.6em; margin: 0 0.25em; line-height: 1; border-radius: 0.35em;\">\n",
       "    👍 .\n",
       "    <span style=\"font-size: 0.8em; font-weight: bold; line-height: 1; border-radius: 0.35em; vertical-align: middle; margin-left: 0.5rem\">PART_NUM</span>\n",
       "</mark>\n",
       " </div></span>"
      ],
      "text/plain": [
       "<IPython.core.display.HTML object>"
      ]
     },
     "metadata": {},
     "output_type": "display_data"
    },
    {
     "name": "stdout",
     "output_type": "stream",
     "text": [
      "====================================================================================================\n"
     ]
    },
    {
     "data": {
      "text/html": [
       "<span class=\"tex2jax_ignore\"><div class=\"entities\" style=\"line-height: 2.5; direction: ltr\">please order recommended part nbd to my hold for pickup</div></span>"
      ],
      "text/plain": [
       "<IPython.core.display.HTML object>"
      ]
     },
     "metadata": {},
     "output_type": "display_data"
    }
   ],
   "source": [
    "show_texts(test_data, indexes, show_detail=False) "
   ]
  },
  {
   "cell_type": "markdown",
   "id": "dfeab3d8",
   "metadata": {},
   "source": [
    "### Check Error Data"
   ]
  },
  {
   "cell_type": "code",
   "execution_count": 44,
   "id": "8c433085",
   "metadata": {
    "ExecuteTime": {
     "end_time": "2021-08-25T01:11:32.026923Z",
     "start_time": "2021-08-25T01:09:34.916232Z"
    }
   },
   "outputs": [
    {
     "name": "stdout",
     "output_type": "stream",
     "text": [
      "34 1\n",
      "73 2\n",
      "89 3\n",
      "131 4\n",
      "168 5\n",
      "169 6\n",
      "229 7\n",
      "277 8\n",
      "281 9\n",
      "284 10\n",
      "341 11\n",
      "382 12\n",
      "408 13\n",
      "423 14\n",
      "438 15\n",
      "462 16\n",
      "498 17\n",
      "548 18\n",
      "561 19\n",
      "573 20\n",
      "599 21\n",
      "607 22\n",
      "610 23\n",
      "628 24\n",
      "670 25\n",
      "691 26\n",
      "721 27\n",
      "785 28\n",
      "834 29\n",
      "859 30\n",
      "891 31\n",
      "948 32\n",
      "1002 33\n",
      "{(45, 56, 'PART_NUM'): 'PART_NUM'}\n",
      "{(32, 42, 'PART_NUM'): 'PART_NUM'}\n",
      "1006 34\n",
      "{(45, 56, 'PART_NUM'): 'PART_NUM'} {(32, 42, 'PART_NUM'): 'PART_NUM'}\n",
      "1006 35\n",
      "1046 36\n",
      "1163 37\n",
      "1227 38\n",
      "1240 39\n",
      "1250 40\n",
      "1263 41\n",
      "1293 42\n",
      "1303 43\n",
      "1330 44\n",
      "1360 45\n",
      "1366 46\n",
      "1404 47\n",
      "1415 48\n",
      "1434 49\n",
      "1444 50\n",
      "1456 51\n",
      "1471 52\n",
      "1473 53\n",
      "1526 54\n"
     ]
    }
   ],
   "source": [
    "def get_error_data(data):\n",
    "    error_data = []\n",
    "    for i in range(len(data)):\n",
    "        text, annotations = data[i]\n",
    "        doc = nlp(text)\n",
    "        entities = annotations['entities']\n",
    "        if len(entities) != len(doc.ents):\n",
    "            error_data.append(data[i])\n",
    "            print(i, len(error_data))\n",
    "        else:\n",
    "            exit_flag = False\n",
    "            actual_entities = {(start, end, label): label for start, end, label in entities}\n",
    "            predict_entities = {(ent.start_char, ent.end_char, ent.label_): ent.label_ \n",
    "                                for ent in doc.ents}\n",
    "            \n",
    "            for key, _ in actual_entities.items():                \n",
    "                if key not in predict_entities:\n",
    "                    print(actual_entities, predict_entities, sep='\\n') \n",
    "                    error_data.append(data[i])\n",
    "                    print(i, len(error_data))\n",
    "                    break\n",
    "            if exit_flag: continue\n",
    "            for key, _ in predict_entities.items():\n",
    "                if key not in actual_entities:\n",
    "                    print(actual_entities, predict_entities)\n",
    "                    error_data.append(data[i])\n",
    "                    print(i, len(error_data))\n",
    "                    break\n",
    "                \n",
    "    return error_data\n",
    "\n",
    "error_data = get_error_data(test_data)"
   ]
  },
  {
   "cell_type": "code",
   "execution_count": 48,
   "id": "19e81a75",
   "metadata": {
    "ExecuteTime": {
     "end_time": "2021-08-25T01:11:38.125967Z",
     "start_time": "2021-08-25T01:11:38.122700Z"
    }
   },
   "outputs": [
    {
     "name": "stdout",
     "output_type": "stream",
     "text": [
      "54\n"
     ]
    }
   ],
   "source": [
    "print(len(error_data))"
   ]
  },
  {
   "cell_type": "code",
   "execution_count": 49,
   "id": "5846698d",
   "metadata": {
    "ExecuteTime": {
     "end_time": "2021-08-25T01:11:44.208012Z",
     "start_time": "2021-08-25T01:11:38.275023Z"
    },
    "scrolled": false
   },
   "outputs": [
    {
     "name": "stdout",
     "output_type": "stream",
     "text": [
      "====================================================================================================\n",
      "i called to end user by the phone i got from the tickets and by her cells phone . 425-985-2765 . unable to reach to end user leaved voice messages . i went to the site end user doesn ' t answer phone call and leave voice messages . 07/14/2021 . \n"
     ]
    },
    {
     "data": {
      "text/html": [
       "<span class=\"tex2jax_ignore\"><div class=\"entities\" style=\"line-height: 2.5; direction: ltr\">i called to end user by the phone i got from the tickets and by her cells phone . \n",
       "<mark class=\"entity\" style=\"background: #92E0AA; padding: 0.45em 0.6em; margin: 0 0.25em; line-height: 1; border-radius: 0.35em;\">\n",
       "    425-985-2765\n",
       "    <span style=\"font-size: 0.8em; font-weight: bold; line-height: 1; border-radius: 0.35em; vertical-align: middle; margin-left: 0.5rem\">PART_NUM</span>\n",
       "</mark>\n",
       " . unable to reach to end user leaved voice messages . i went to the site end user doesn ' t answer phone call and leave voice messages . 07/14/2021 . </div></span>"
      ],
      "text/plain": [
       "<IPython.core.display.HTML object>"
      ]
     },
     "metadata": {},
     "output_type": "display_data"
    },
    {
     "name": "stdout",
     "output_type": "stream",
     "text": [
      "------------------------- predict entities -------------------------\n",
      "('425-985-2765', 82, 94, 'PART_NUM')\n",
      "====================================================================================================\n",
      "please create a clone for the revisit for july 19 from 1300-1400 . on break- site closed before i could complete\n"
     ]
    },
    {
     "data": {
      "text/html": [
       "<span class=\"tex2jax_ignore\"><div class=\"entities\" style=\"line-height: 2.5; direction: ltr\">please create a clone for the revisit for july 19 from 1300-1400 . on break- site closed before i could complete</div></span>"
      ],
      "text/plain": [
       "<IPython.core.display.HTML object>"
      ]
     },
     "metadata": {},
     "output_type": "display_data"
    },
    {
     "name": "stdout",
     "output_type": "stream",
     "text": [
      "------------------------- acutal entities -------------------------\n",
      "('1300-1400', 55, 64, 'PART_NUM')\n",
      "====================================================================================================\n",
      "revisit 7/9 please order dell-snpcrxj6c to san diego hal . please refer part order to multivendor team - dell diagnosis - failed memory diagnostics . waiting for user , but never returned call back . \n"
     ]
    },
    {
     "data": {
      "text/html": [
       "<span class=\"tex2jax_ignore\"><div class=\"entities\" style=\"line-height: 2.5; direction: ltr\">revisit 7/9 please order \n",
       "<mark class=\"entity\" style=\"background: #92E0AA; padding: 0.45em 0.6em; margin: 0 0.25em; line-height: 1; border-radius: 0.35em;\">\n",
       "    dell-snpcrxj6c\n",
       "    <span style=\"font-size: 0.8em; font-weight: bold; line-height: 1; border-radius: 0.35em; vertical-align: middle; margin-left: 0.5rem\">PART_NUM</span>\n",
       "</mark>\n",
       " to san diego hal . please refer part order to multivendor team - dell diagnosis - failed memory diagnostics . waiting for user , but never returned call back . </div></span>"
      ],
      "text/plain": [
       "<IPython.core.display.HTML object>"
      ]
     },
     "metadata": {},
     "output_type": "display_data"
    },
    {
     "name": "stdout",
     "output_type": "stream",
     "text": [
      "------------------------- predict entities -------------------------\n",
      "('dell-snpcrxj6c', 25, 39, 'PART_NUM')\n",
      "====================================================================================================\n",
      "please create a revisit schedule on 7/16 and order part 3gy31-67901 / 5851-6712 qty 1 send to hal 83003714\n"
     ]
    },
    {
     "data": {
      "text/html": [
       "<span class=\"tex2jax_ignore\"><div class=\"entities\" style=\"line-height: 2.5; direction: ltr\">please create a revisit schedule on 7/16 and order part 3gy31-67901 / \n",
       "<mark class=\"entity\" style=\"background: #92E0AA; padding: 0.45em 0.6em; margin: 0 0.25em; line-height: 1; border-radius: 0.35em;\">\n",
       "    5851-6712\n",
       "    <span style=\"font-size: 0.8em; font-weight: bold; line-height: 1; border-radius: 0.35em; vertical-align: middle; margin-left: 0.5rem\">PART_NUM</span>\n",
       "</mark>\n",
       " qty 1 send to hal 83003714</div></span>"
      ],
      "text/plain": [
       "<IPython.core.display.HTML object>"
      ]
     },
     "metadata": {},
     "output_type": "display_data"
    },
    {
     "name": "stdout",
     "output_type": "stream",
     "text": [
      "------------------------- acutal entities -------------------------\n",
      "('3gy31-67901', 56, 67, 'PART_NUM')\n",
      "('5851-6712', 70, 79, 'PART_NUM')\n",
      "------------------------- predict entities -------------------------\n",
      "('5851-6712', 70, 79, 'PART_NUM')\n",
      "====================================================================================================\n",
      "please reorder cable kit to be shipped nbd to bloomington il hal m15627-001 7/21 customer would like to reschedule the call on monday . please add this part to be shipped nbd to bloomington il m15627-001\n"
     ]
    },
    {
     "data": {
      "text/html": [
       "<span class=\"tex2jax_ignore\"><div class=\"entities\" style=\"line-height: 2.5; direction: ltr\">please reorder cable kit to be shipped nbd to bloomington il hal m15627-001 7/21 customer would like to reschedule the call on monday . please add this part to be shipped nbd to bloomington il m15627-001</div></span>"
      ],
      "text/plain": [
       "<IPython.core.display.HTML object>"
      ]
     },
     "metadata": {},
     "output_type": "display_data"
    },
    {
     "name": "stdout",
     "output_type": "stream",
     "text": [
      "------------------------- acutal entities -------------------------\n",
      "('m15627-001', 65, 75, 'PART_NUM')\n",
      "('m15627-001', 193, 203, 'PART_NUM')\n",
      "====================================================================================================\n",
      "rm2-6766-010cn , 1 , c2ghes24 . please pull j8j70-67904 from c2gh\n"
     ]
    },
    {
     "data": {
      "text/html": [
       "<span class=\"tex2jax_ignore\"><div class=\"entities\" style=\"line-height: 2.5; direction: ltr\">rm2-6766-010cn , 1 , c2ghes24 . please pull \n",
       "<mark class=\"entity\" style=\"background: #92E0AA; padding: 0.45em 0.6em; margin: 0 0.25em; line-height: 1; border-radius: 0.35em;\">\n",
       "    j8j70-67904\n",
       "    <span style=\"font-size: 0.8em; font-weight: bold; line-height: 1; border-radius: 0.35em; vertical-align: middle; margin-left: 0.5rem\">PART_NUM</span>\n",
       "</mark>\n",
       " from c2gh</div></span>"
      ],
      "text/plain": [
       "<IPython.core.display.HTML object>"
      ]
     },
     "metadata": {},
     "output_type": "display_data"
    },
    {
     "name": "stdout",
     "output_type": "stream",
     "text": [
      "------------------------- acutal entities -------------------------\n",
      "('rm2-6766-010cn', 0, 14, 'PART_NUM')\n",
      "('j8j70-67904', 44, 55, 'PART_NUM')\n",
      "------------------------- predict entities -------------------------\n",
      "('j8j70-67904', 44, 55, 'PART_NUM')\n",
      "====================================================================================================\n",
      "7/15/21 waiting for parts . 7/13/21 please order parts and ship it to my hfpu . 320 snow drive . g1w39-69001 ip: 10 . 65 . 76 . 106\n"
     ]
    },
    {
     "data": {
      "text/html": [
       "<span class=\"tex2jax_ignore\"><div class=\"entities\" style=\"line-height: 2.5; direction: ltr\">7/15/21 waiting for parts . 7/13/21 please order parts and ship it to my hfpu . 320 snow drive . g1w39-69001 ip: 10 . 65 . 76 . 106</div></span>"
      ],
      "text/plain": [
       "<IPython.core.display.HTML object>"
      ]
     },
     "metadata": {},
     "output_type": "display_data"
    },
    {
     "name": "stdout",
     "output_type": "stream",
     "text": [
      "------------------------- acutal entities -------------------------\n",
      "('g1w39-69001', 97, 108, 'PART_NUM')\n",
      "====================================================================================================\n",
      "please order part to my alexandra  lex-40x8277             lex-40x8084 lex-41x0959             lex-40x8261 lex-40x8800 . please order part ( lex-40x8043 ) to my alexandra hfpu . \n"
     ]
    },
    {
     "data": {
      "text/html": [
       "<span class=\"tex2jax_ignore\"><div class=\"entities\" style=\"line-height: 2.5; direction: ltr\">please order part to my alexandra  lex-40x8277             lex-40x8084 lex-41x0959             \n",
       "<mark class=\"entity\" style=\"background: #92E0AA; padding: 0.45em 0.6em; margin: 0 0.25em; line-height: 1; border-radius: 0.35em;\">\n",
       "    lex-40x8261\n",
       "    <span style=\"font-size: 0.8em; font-weight: bold; line-height: 1; border-radius: 0.35em; vertical-align: middle; margin-left: 0.5rem\">PART_NUM</span>\n",
       "</mark>\n",
       " \n",
       "<mark class=\"entity\" style=\"background: #92E0AA; padding: 0.45em 0.6em; margin: 0 0.25em; line-height: 1; border-radius: 0.35em;\">\n",
       "    lex-40x8800\n",
       "    <span style=\"font-size: 0.8em; font-weight: bold; line-height: 1; border-radius: 0.35em; vertical-align: middle; margin-left: 0.5rem\">PART_NUM</span>\n",
       "</mark>\n",
       " . please order part ( \n",
       "<mark class=\"entity\" style=\"background: #92E0AA; padding: 0.45em 0.6em; margin: 0 0.25em; line-height: 1; border-radius: 0.35em;\">\n",
       "    lex-40x8043\n",
       "    <span style=\"font-size: 0.8em; font-weight: bold; line-height: 1; border-radius: 0.35em; vertical-align: middle; margin-left: 0.5rem\">PART_NUM</span>\n",
       "</mark>\n",
       " ) to my alexandra hfpu . </div></span>"
      ],
      "text/plain": [
       "<IPython.core.display.HTML object>"
      ]
     },
     "metadata": {},
     "output_type": "display_data"
    },
    {
     "name": "stdout",
     "output_type": "stream",
     "text": [
      "------------------------- acutal entities -------------------------\n",
      "('lex-40x8084', 59, 70, 'PART_NUM')\n",
      "('lex-40x8261', 95, 106, 'PART_NUM')\n",
      "('lex-40x8800', 107, 118, 'PART_NUM')\n",
      "('lex-40x8043', 141, 152, 'PART_NUM')\n",
      "------------------------- predict entities -------------------------\n",
      "('lex-40x8261', 95, 106, 'PART_NUM')\n",
      "('lex-40x8800', 107, 118, 'PART_NUM')\n",
      "('lex-40x8043', 141, 152, 'PART_NUM')\n",
      "====================================================================================================\n",
      "7/1/21 16:28 jo ; emailed hp mps team to please reassign this wo . the adm jose de sousa has directed us not to service any of these models . per adm , &quot ; if we get any call for the models below it should not go to blm – they are new canon devices and are . 7/1/21 16:28 jo ; emailed hp mps team to please reassign this wo . the adm jose de sousa has directed us not to service any of these models . per adm , &quot ; if we get any call for the models below it should not go to blm – they are new canon devices and are\n"
     ]
    },
    {
     "data": {
      "text/html": [
       "<span class=\"tex2jax_ignore\"><div class=\"entities\" style=\"line-height: 2.5; direction: ltr\">7/1/21 16:28 jo ; emailed hp mps team to please reassign this wo . the adm jose de sousa has directed us not to service any of these models . per adm , &amp;quot ; if we get any call for the models below it should not go to blm \n",
       "<mark class=\"entity\" style=\"background: #92E0AA; padding: 0.45em 0.6em; margin: 0 0.25em; line-height: 1; border-radius: 0.35em;\">\n",
       "    – they\n",
       "    <span style=\"font-size: 0.8em; font-weight: bold; line-height: 1; border-radius: 0.35em; vertical-align: middle; margin-left: 0.5rem\">PART_NUM</span>\n",
       "</mark>\n",
       " are new canon devices and are . 7/1/21 16:28 jo ; emailed hp mps team to please reassign this wo . the adm jose de sousa has directed us not to service any of these models . per adm , &amp;quot ; if we get any call for the models below it should not go to blm \n",
       "<mark class=\"entity\" style=\"background: #92E0AA; padding: 0.45em 0.6em; margin: 0 0.25em; line-height: 1; border-radius: 0.35em;\">\n",
       "    – they\n",
       "    <span style=\"font-size: 0.8em; font-weight: bold; line-height: 1; border-radius: 0.35em; vertical-align: middle; margin-left: 0.5rem\">PART_NUM</span>\n",
       "</mark>\n",
       " are new canon devices and are</div></span>"
      ],
      "text/plain": [
       "<IPython.core.display.HTML object>"
      ]
     },
     "metadata": {},
     "output_type": "display_data"
    },
    {
     "name": "stdout",
     "output_type": "stream",
     "text": [
      "------------------------- predict entities -------------------------\n",
      "('– they', 224, 230, 'PART_NUM')\n",
      "('– they', 487, 493, 'PART_NUM')\n",
      "====================================================================================================\n",
      "please create a revisit please order a2w75-67907 whole adf assy please order a2w75-67908 whole scanner assy please ship to my hal springdale arkansas . 7-16 just go\n"
     ]
    },
    {
     "data": {
      "text/html": [
       "<span class=\"tex2jax_ignore\"><div class=\"entities\" style=\"line-height: 2.5; direction: ltr\">please create a revisit please order a2w75-67907 whole adf assy please order \n",
       "<mark class=\"entity\" style=\"background: #92E0AA; padding: 0.45em 0.6em; margin: 0 0.25em; line-height: 1; border-radius: 0.35em;\">\n",
       "    a2w75-67908\n",
       "    <span style=\"font-size: 0.8em; font-weight: bold; line-height: 1; border-radius: 0.35em; vertical-align: middle; margin-left: 0.5rem\">PART_NUM</span>\n",
       "</mark>\n",
       " whole scanner assy please ship to my hal springdale arkansas . 7-16 just go</div></span>"
      ],
      "text/plain": [
       "<IPython.core.display.HTML object>"
      ]
     },
     "metadata": {},
     "output_type": "display_data"
    },
    {
     "name": "stdout",
     "output_type": "stream",
     "text": [
      "------------------------- acutal entities -------------------------\n",
      "('a2w75-67907', 37, 48, 'PART_NUM')\n",
      "('a2w75-67908', 77, 88, 'PART_NUM')\n",
      "------------------------- predict entities -------------------------\n",
      "('a2w75-67908', 77, 88, 'PART_NUM')\n",
      "====================================================================================================\n",
      "please order k0q15-60106 and rm2-7941-000cn . please ship to fedex hal of 83005667 . thank you . robert moore\n"
     ]
    },
    {
     "data": {
      "text/html": [
       "<span class=\"tex2jax_ignore\"><div class=\"entities\" style=\"line-height: 2.5; direction: ltr\">please order \n",
       "<mark class=\"entity\" style=\"background: #92E0AA; padding: 0.45em 0.6em; margin: 0 0.25em; line-height: 1; border-radius: 0.35em;\">\n",
       "    k0q15-60106\n",
       "    <span style=\"font-size: 0.8em; font-weight: bold; line-height: 1; border-radius: 0.35em; vertical-align: middle; margin-left: 0.5rem\">PART_NUM</span>\n",
       "</mark>\n",
       " and rm2-7941-000cn . please ship to fedex hal of 83005667 . thank you . robert moore</div></span>"
      ],
      "text/plain": [
       "<IPython.core.display.HTML object>"
      ]
     },
     "metadata": {},
     "output_type": "display_data"
    },
    {
     "name": "stdout",
     "output_type": "stream",
     "text": [
      "------------------------- acutal entities -------------------------\n",
      "('k0q15-60106', 13, 24, 'PART_NUM')\n",
      "('rm2-7941-000cn', 29, 43, 'PART_NUM')\n",
      "------------------------- predict entities -------------------------\n",
      "('k0q15-60106', 13, 24, 'PART_NUM')\n",
      "====================================================================================================\n",
      "please order to customer site nbd . cr357-67031 media sensor cr357-67020 liner sensor b9e24-67009 bottom rewinder b9e24-67004 top rewinder b9e24-67017 engine pca . \n"
     ]
    },
    {
     "data": {
      "text/html": [
       "<span class=\"tex2jax_ignore\"><div class=\"entities\" style=\"line-height: 2.5; direction: ltr\">please order to customer site nbd . \n",
       "<mark class=\"entity\" style=\"background: #92E0AA; padding: 0.45em 0.6em; margin: 0 0.25em; line-height: 1; border-radius: 0.35em;\">\n",
       "    cr357-67031\n",
       "    <span style=\"font-size: 0.8em; font-weight: bold; line-height: 1; border-radius: 0.35em; vertical-align: middle; margin-left: 0.5rem\">PART_NUM</span>\n",
       "</mark>\n",
       " media sensor \n",
       "<mark class=\"entity\" style=\"background: #92E0AA; padding: 0.45em 0.6em; margin: 0 0.25em; line-height: 1; border-radius: 0.35em;\">\n",
       "    cr357-67020\n",
       "    <span style=\"font-size: 0.8em; font-weight: bold; line-height: 1; border-radius: 0.35em; vertical-align: middle; margin-left: 0.5rem\">PART_NUM</span>\n",
       "</mark>\n",
       " liner sensor \n",
       "<mark class=\"entity\" style=\"background: #92E0AA; padding: 0.45em 0.6em; margin: 0 0.25em; line-height: 1; border-radius: 0.35em;\">\n",
       "    b9e24-67009\n",
       "    <span style=\"font-size: 0.8em; font-weight: bold; line-height: 1; border-radius: 0.35em; vertical-align: middle; margin-left: 0.5rem\">PART_NUM</span>\n",
       "</mark>\n",
       " bottom rewinder b9e24-67004 top rewinder \n",
       "<mark class=\"entity\" style=\"background: #92E0AA; padding: 0.45em 0.6em; margin: 0 0.25em; line-height: 1; border-radius: 0.35em;\">\n",
       "    b9e24-67017\n",
       "    <span style=\"font-size: 0.8em; font-weight: bold; line-height: 1; border-radius: 0.35em; vertical-align: middle; margin-left: 0.5rem\">PART_NUM</span>\n",
       "</mark>\n",
       " engine pca . </div></span>"
      ],
      "text/plain": [
       "<IPython.core.display.HTML object>"
      ]
     },
     "metadata": {},
     "output_type": "display_data"
    },
    {
     "name": "stdout",
     "output_type": "stream",
     "text": [
      "------------------------- acutal entities -------------------------\n",
      "('cr357-67031', 36, 47, 'PART_NUM')\n",
      "('cr357-67020', 61, 72, 'PART_NUM')\n",
      "('b9e24-67009', 86, 97, 'PART_NUM')\n",
      "('b9e24-67004', 114, 125, 'PART_NUM')\n",
      "('b9e24-67017', 139, 150, 'PART_NUM')\n",
      "------------------------- predict entities -------------------------\n",
      "('cr357-67031', 36, 47, 'PART_NUM')\n",
      "('cr357-67020', 61, 72, 'PART_NUM')\n",
      "('b9e24-67009', 86, 97, 'PART_NUM')\n",
      "('b9e24-67017', 139, 150, 'PART_NUM')\n",
      "====================================================================================================\n",
      "please clone . room: f4535-surf permit\n"
     ]
    },
    {
     "data": {
      "text/html": [
       "<span class=\"tex2jax_ignore\"><div class=\"entities\" style=\"line-height: 2.5; direction: ltr\">please clone . room: \n",
       "<mark class=\"entity\" style=\"background: #92E0AA; padding: 0.45em 0.6em; margin: 0 0.25em; line-height: 1; border-radius: 0.35em;\">\n",
       "    f4535-surf\n",
       "    <span style=\"font-size: 0.8em; font-weight: bold; line-height: 1; border-radius: 0.35em; vertical-align: middle; margin-left: 0.5rem\">PART_NUM</span>\n",
       "</mark>\n",
       " permit</div></span>"
      ],
      "text/plain": [
       "<IPython.core.display.HTML object>"
      ]
     },
     "metadata": {},
     "output_type": "display_data"
    },
    {
     "name": "stdout",
     "output_type": "stream",
     "text": [
      "------------------------- predict entities -------------------------\n",
      "('f4535-surf', 21, 31, 'PART_NUM')\n",
      "====================================================================================================\n",
      "pls order jc39-02579a jc92-02781a jc97-04955a to customer site nbd\n"
     ]
    },
    {
     "data": {
      "text/html": [
       "<span class=\"tex2jax_ignore\"><div class=\"entities\" style=\"line-height: 2.5; direction: ltr\">pls order jc39-02579a \n",
       "<mark class=\"entity\" style=\"background: #92E0AA; padding: 0.45em 0.6em; margin: 0 0.25em; line-height: 1; border-radius: 0.35em;\">\n",
       "    jc92-02781a\n",
       "    <span style=\"font-size: 0.8em; font-weight: bold; line-height: 1; border-radius: 0.35em; vertical-align: middle; margin-left: 0.5rem\">PART_NUM</span>\n",
       "</mark>\n",
       " \n",
       "<mark class=\"entity\" style=\"background: #92E0AA; padding: 0.45em 0.6em; margin: 0 0.25em; line-height: 1; border-radius: 0.35em;\">\n",
       "    jc97-04955a\n",
       "    <span style=\"font-size: 0.8em; font-weight: bold; line-height: 1; border-radius: 0.35em; vertical-align: middle; margin-left: 0.5rem\">PART_NUM</span>\n",
       "</mark>\n",
       " to customer site nbd</div></span>"
      ],
      "text/plain": [
       "<IPython.core.display.HTML object>"
      ]
     },
     "metadata": {},
     "output_type": "display_data"
    },
    {
     "name": "stdout",
     "output_type": "stream",
     "text": [
      "------------------------- acutal entities -------------------------\n",
      "('jc39-02579a', 10, 21, 'PART_NUM')\n",
      "('jc92-02781a', 22, 33, 'PART_NUM')\n",
      "('jc97-04955a', 34, 45, 'PART_NUM')\n",
      "------------------------- predict entities -------------------------\n",
      "('jc92-02781a', 22, 33, 'PART_NUM')\n",
      "('jc97-04955a', 34, 45, 'PART_NUM')\n",
      "====================================================================================================\n",
      "please order part to my alexandra hfpu . lex-40x8298 lex-40x804 lex-40x8029 . #request reassign = please send case to another technician , i don ' t have the bandwidth . \n"
     ]
    },
    {
     "data": {
      "text/html": [
       "<span class=\"tex2jax_ignore\"><div class=\"entities\" style=\"line-height: 2.5; direction: ltr\">please order part to my alexandra hfpu . \n",
       "<mark class=\"entity\" style=\"background: #92E0AA; padding: 0.45em 0.6em; margin: 0 0.25em; line-height: 1; border-radius: 0.35em;\">\n",
       "    lex-40x8298\n",
       "    <span style=\"font-size: 0.8em; font-weight: bold; line-height: 1; border-radius: 0.35em; vertical-align: middle; margin-left: 0.5rem\">PART_NUM</span>\n",
       "</mark>\n",
       " lex-40x804 lex-40x8029 . #request reassign = please send case to another technician , i don ' t have the bandwidth . </div></span>"
      ],
      "text/plain": [
       "<IPython.core.display.HTML object>"
      ]
     },
     "metadata": {},
     "output_type": "display_data"
    },
    {
     "name": "stdout",
     "output_type": "stream",
     "text": [
      "------------------------- acutal entities -------------------------\n",
      "('lex-40x8298', 41, 52, 'PART_NUM')\n",
      "('lex-40x8029', 64, 75, 'PART_NUM')\n",
      "------------------------- predict entities -------------------------\n",
      "('lex-40x8298', 41, 52, 'PART_NUM')\n",
      "====================================================================================================\n",
      "1- 1702nk0un0 ( mk-6325 maintenance kit ) shipping address: 364 vance avenue , samoa , ca 95564\n"
     ]
    },
    {
     "data": {
      "text/html": [
       "<span class=\"tex2jax_ignore\"><div class=\"entities\" style=\"line-height: 2.5; direction: ltr\">1- 1702nk0un0 ( \n",
       "<mark class=\"entity\" style=\"background: #92E0AA; padding: 0.45em 0.6em; margin: 0 0.25em; line-height: 1; border-radius: 0.35em;\">\n",
       "    mk-6325\n",
       "    <span style=\"font-size: 0.8em; font-weight: bold; line-height: 1; border-radius: 0.35em; vertical-align: middle; margin-left: 0.5rem\">PART_NUM</span>\n",
       "</mark>\n",
       " maintenance kit ) shipping address: 364 vance avenue , samoa , ca 95564</div></span>"
      ],
      "text/plain": [
       "<IPython.core.display.HTML object>"
      ]
     },
     "metadata": {},
     "output_type": "display_data"
    },
    {
     "name": "stdout",
     "output_type": "stream",
     "text": [
      "------------------------- predict entities -------------------------\n",
      "('mk-6325', 16, 23, 'PART_NUM')\n",
      "====================================================================================================\n",
      "please order part 925556-001 , 924453-001 and ship next business day to the address in the work order . laptop has swollen battery and the display bent . issue fixed by replacing the system battery and tested working . charged on a good power adapter and no issues found #green *fixed*\n"
     ]
    },
    {
     "data": {
      "text/html": [
       "<span class=\"tex2jax_ignore\"><div class=\"entities\" style=\"line-height: 2.5; direction: ltr\">please order part \n",
       "<mark class=\"entity\" style=\"background: #92E0AA; padding: 0.45em 0.6em; margin: 0 0.25em; line-height: 1; border-radius: 0.35em;\">\n",
       "    925556-001\n",
       "    <span style=\"font-size: 0.8em; font-weight: bold; line-height: 1; border-radius: 0.35em; vertical-align: middle; margin-left: 0.5rem\">PART_NUM</span>\n",
       "</mark>\n",
       " , 924453-001 and ship next business day to the address in the work order . laptop has swollen battery and the display bent . issue fixed by replacing the system battery and tested working . charged on a good power adapter and no issues found #green *fixed*</div></span>"
      ],
      "text/plain": [
       "<IPython.core.display.HTML object>"
      ]
     },
     "metadata": {},
     "output_type": "display_data"
    },
    {
     "name": "stdout",
     "output_type": "stream",
     "text": [
      "------------------------- acutal entities -------------------------\n",
      "('925556-001', 18, 28, 'PART_NUM')\n",
      "('924453-001', 31, 41, 'PART_NUM')\n",
      "------------------------- predict entities -------------------------\n",
      "('925556-001', 18, 28, 'PART_NUM')\n",
      "====================================================================================================\n",
      "pls order: l0h24-67901 fuser - 110v -tray 2–x roller kit j8j70-67904 -registration assy rm2-6774-000cn nbd to dflt hal pompano . thanks . \n"
     ]
    },
    {
     "data": {
      "text/html": [
       "<span class=\"tex2jax_ignore\"><div class=\"entities\" style=\"line-height: 2.5; direction: ltr\">pls order: l0h24-67901 fuser - 110v -tray 2\n",
       "<mark class=\"entity\" style=\"background: #92E0AA; padding: 0.45em 0.6em; margin: 0 0.25em; line-height: 1; border-radius: 0.35em;\">\n",
       "    –x\n",
       "    <span style=\"font-size: 0.8em; font-weight: bold; line-height: 1; border-radius: 0.35em; vertical-align: middle; margin-left: 0.5rem\">PART_NUM</span>\n",
       "</mark>\n",
       " roller kit \n",
       "<mark class=\"entity\" style=\"background: #92E0AA; padding: 0.45em 0.6em; margin: 0 0.25em; line-height: 1; border-radius: 0.35em;\">\n",
       "    j8j70-67904\n",
       "    <span style=\"font-size: 0.8em; font-weight: bold; line-height: 1; border-radius: 0.35em; vertical-align: middle; margin-left: 0.5rem\">PART_NUM</span>\n",
       "</mark>\n",
       " -registration assy \n",
       "<mark class=\"entity\" style=\"background: #92E0AA; padding: 0.45em 0.6em; margin: 0 0.25em; line-height: 1; border-radius: 0.35em;\">\n",
       "    rm2-6774-000cn\n",
       "    <span style=\"font-size: 0.8em; font-weight: bold; line-height: 1; border-radius: 0.35em; vertical-align: middle; margin-left: 0.5rem\">PART_NUM</span>\n",
       "</mark>\n",
       " nbd to dflt hal pompano . thanks . </div></span>"
      ],
      "text/plain": [
       "<IPython.core.display.HTML object>"
      ]
     },
     "metadata": {},
     "output_type": "display_data"
    },
    {
     "name": "stdout",
     "output_type": "stream",
     "text": [
      "------------------------- acutal entities -------------------------\n",
      "('j8j70-67904', 57, 68, 'PART_NUM')\n",
      "('rm2-6774-000cn', 88, 102, 'PART_NUM')\n",
      "------------------------- predict entities -------------------------\n",
      "('–x', 43, 45, 'PART_NUM')\n",
      "('j8j70-67904', 57, 68, 'PART_NUM')\n",
      "('rm2-6774-000cn', 88, 102, 'PART_NUM')\n",
      "====================================================================================================\n",
      "please order part number jc-97-04863a to be shipped to c2bl for tomorrow am\n"
     ]
    },
    {
     "data": {
      "text/html": [
       "<span class=\"tex2jax_ignore\"><div class=\"entities\" style=\"line-height: 2.5; direction: ltr\">please order part number \n",
       "<mark class=\"entity\" style=\"background: #92E0AA; padding: 0.45em 0.6em; margin: 0 0.25em; line-height: 1; border-radius: 0.35em;\">\n",
       "    jc-97-04863a\n",
       "    <span style=\"font-size: 0.8em; font-weight: bold; line-height: 1; border-radius: 0.35em; vertical-align: middle; margin-left: 0.5rem\">PART_NUM</span>\n",
       "</mark>\n",
       " to be shipped to c2bl for tomorrow am</div></span>"
      ],
      "text/plain": [
       "<IPython.core.display.HTML object>"
      ]
     },
     "metadata": {},
     "output_type": "display_data"
    },
    {
     "name": "stdout",
     "output_type": "stream",
     "text": [
      "------------------------- predict entities -------------------------\n",
      "('jc-97-04863a', 25, 37, 'PART_NUM')\n",
      "====================================================================================================\n",
      "please clone and transfer the part to the cloned case . . #normal please order jc97-04650a to the baton rouge hal . mike try these site contacts .   haleigh – 225-663-4041 – haleigh_a_winston kayla – 225-663-4031 – kayla_r_naquin\n"
     ]
    },
    {
     "data": {
      "text/html": [
       "<span class=\"tex2jax_ignore\"><div class=\"entities\" style=\"line-height: 2.5; direction: ltr\">please clone and transfer the part to the cloned case . . #normal please order \n",
       "<mark class=\"entity\" style=\"background: #92E0AA; padding: 0.45em 0.6em; margin: 0 0.25em; line-height: 1; border-radius: 0.35em;\">\n",
       "    jc97-04650a\n",
       "    <span style=\"font-size: 0.8em; font-weight: bold; line-height: 1; border-radius: 0.35em; vertical-align: middle; margin-left: 0.5rem\">PART_NUM</span>\n",
       "</mark>\n",
       " to the baton rouge hal . mike try these site contacts .   haleigh \n",
       "<mark class=\"entity\" style=\"background: #92E0AA; padding: 0.45em 0.6em; margin: 0 0.25em; line-height: 1; border-radius: 0.35em;\">\n",
       "    – \n",
       "    <span style=\"font-size: 0.8em; font-weight: bold; line-height: 1; border-radius: 0.35em; vertical-align: middle; margin-left: 0.5rem\">PART_NUM</span>\n",
       "</mark>\n",
       "225-663-4041 \n",
       "<mark class=\"entity\" style=\"background: #92E0AA; padding: 0.45em 0.6em; margin: 0 0.25em; line-height: 1; border-radius: 0.35em;\">\n",
       "    – haleigh_a_winston\n",
       "    <span style=\"font-size: 0.8em; font-weight: bold; line-height: 1; border-radius: 0.35em; vertical-align: middle; margin-left: 0.5rem\">PART_NUM</span>\n",
       "</mark>\n",
       " kayla \n",
       "<mark class=\"entity\" style=\"background: #92E0AA; padding: 0.45em 0.6em; margin: 0 0.25em; line-height: 1; border-radius: 0.35em;\">\n",
       "    – \n",
       "    <span style=\"font-size: 0.8em; font-weight: bold; line-height: 1; border-radius: 0.35em; vertical-align: middle; margin-left: 0.5rem\">PART_NUM</span>\n",
       "</mark>\n",
       "225-663-4031 \n",
       "<mark class=\"entity\" style=\"background: #92E0AA; padding: 0.45em 0.6em; margin: 0 0.25em; line-height: 1; border-radius: 0.35em;\">\n",
       "    – kayla_r_naquin\n",
       "    <span style=\"font-size: 0.8em; font-weight: bold; line-height: 1; border-radius: 0.35em; vertical-align: middle; margin-left: 0.5rem\">PART_NUM</span>\n",
       "</mark>\n",
       "</div></span>"
      ],
      "text/plain": [
       "<IPython.core.display.HTML object>"
      ]
     },
     "metadata": {},
     "output_type": "display_data"
    },
    {
     "name": "stdout",
     "output_type": "stream",
     "text": [
      "------------------------- acutal entities -------------------------\n",
      "('jc97-04650a', 79, 90, 'PART_NUM')\n",
      "------------------------- predict entities -------------------------\n",
      "('jc97-04650a', 79, 90, 'PART_NUM')\n",
      "('–\\xa0', 157, 159, 'PART_NUM')\n",
      "('– haleigh_a_winston', 172, 191, 'PART_NUM')\n",
      "('–\\xa0', 198, 200, 'PART_NUM')\n",
      "('– kayla_r_naquin', 213, 229, 'PART_NUM')\n",
      "====================================================================================================\n",
      "please create revisit . please order the following part and send to fedex 4475 n 43rd ave . . . power supply unit – part# 915545-001 . please send this to thomas snelling\n"
     ]
    },
    {
     "data": {
      "text/html": [
       "<span class=\"tex2jax_ignore\"><div class=\"entities\" style=\"line-height: 2.5; direction: ltr\">please create revisit . please order the following part and send to fedex 4475 n 43rd ave . . . power supply unit \n",
       "<mark class=\"entity\" style=\"background: #92E0AA; padding: 0.45em 0.6em; margin: 0 0.25em; line-height: 1; border-radius: 0.35em;\">\n",
       "    – part\n",
       "    <span style=\"font-size: 0.8em; font-weight: bold; line-height: 1; border-radius: 0.35em; vertical-align: middle; margin-left: 0.5rem\">PART_NUM</span>\n",
       "</mark>\n",
       "# \n",
       "<mark class=\"entity\" style=\"background: #92E0AA; padding: 0.45em 0.6em; margin: 0 0.25em; line-height: 1; border-radius: 0.35em;\">\n",
       "    915545-001\n",
       "    <span style=\"font-size: 0.8em; font-weight: bold; line-height: 1; border-radius: 0.35em; vertical-align: middle; margin-left: 0.5rem\">PART_NUM</span>\n",
       "</mark>\n",
       " . please send this to thomas snelling</div></span>"
      ],
      "text/plain": [
       "<IPython.core.display.HTML object>"
      ]
     },
     "metadata": {},
     "output_type": "display_data"
    },
    {
     "name": "stdout",
     "output_type": "stream",
     "text": [
      "------------------------- acutal entities -------------------------\n",
      "('915545-001', 122, 132, 'PART_NUM')\n",
      "------------------------- predict entities -------------------------\n",
      "('– part', 114, 120, 'PART_NUM')\n",
      "('915545-001', 122, 132, 'PART_NUM')\n",
      "====================================================================================================\n",
      "7/8- please create follow up and assign to myself for revisit reimage failed re image computer follow up with lissett 619-507-8334 to make sure it was succesful job id:11625681039975\n"
     ]
    },
    {
     "data": {
      "text/html": [
       "<span class=\"tex2jax_ignore\"><div class=\"entities\" style=\"line-height: 2.5; direction: ltr\">7/8- please create follow up and assign to myself for revisit reimage failed re image computer follow up with lissett \n",
       "<mark class=\"entity\" style=\"background: #92E0AA; padding: 0.45em 0.6em; margin: 0 0.25em; line-height: 1; border-radius: 0.35em;\">\n",
       "    619-507-8334\n",
       "    <span style=\"font-size: 0.8em; font-weight: bold; line-height: 1; border-radius: 0.35em; vertical-align: middle; margin-left: 0.5rem\">PART_NUM</span>\n",
       "</mark>\n",
       " to make sure it was succesful job id:11625681039975</div></span>"
      ],
      "text/plain": [
       "<IPython.core.display.HTML object>"
      ]
     },
     "metadata": {},
     "output_type": "display_data"
    },
    {
     "name": "stdout",
     "output_type": "stream",
     "text": [
      "------------------------- predict entities -------------------------\n",
      "('619-507-8334', 118, 130, 'PART_NUM')\n",
      "====================================================================================================\n",
      "l09552-001 937438-850 quantity 1 of each ship to 83004650\n"
     ]
    },
    {
     "data": {
      "text/html": [
       "<span class=\"tex2jax_ignore\"><div class=\"entities\" style=\"line-height: 2.5; direction: ltr\">l09552-001 \n",
       "<mark class=\"entity\" style=\"background: #92E0AA; padding: 0.45em 0.6em; margin: 0 0.25em; line-height: 1; border-radius: 0.35em;\">\n",
       "    937438-850\n",
       "    <span style=\"font-size: 0.8em; font-weight: bold; line-height: 1; border-radius: 0.35em; vertical-align: middle; margin-left: 0.5rem\">PART_NUM</span>\n",
       "</mark>\n",
       " quantity 1 of each ship to 83004650</div></span>"
      ],
      "text/plain": [
       "<IPython.core.display.HTML object>"
      ]
     },
     "metadata": {},
     "output_type": "display_data"
    },
    {
     "name": "stdout",
     "output_type": "stream",
     "text": [
      "------------------------- acutal entities -------------------------\n",
      "('l09552-001', 0, 10, 'PART_NUM')\n",
      "('937438-850', 11, 21, 'PART_NUM')\n",
      "------------------------- predict entities -------------------------\n",
      "('937438-850', 11, 21, 'PART_NUM')\n",
      "====================================================================================================\n",
      "please create a clone for the revisit for july 16 from 1600-1700\n"
     ]
    },
    {
     "data": {
      "text/html": [
       "<span class=\"tex2jax_ignore\"><div class=\"entities\" style=\"line-height: 2.5; direction: ltr\">please create a clone for the revisit for july 16 from 1600-1700</div></span>"
      ],
      "text/plain": [
       "<IPython.core.display.HTML object>"
      ]
     },
     "metadata": {},
     "output_type": "display_data"
    },
    {
     "name": "stdout",
     "output_type": "stream",
     "text": [
      "------------------------- acutal entities -------------------------\n",
      "('1600-1700', 55, 64, 'PART_NUM')\n",
      "====================================================================================================\n",
      "installed the replacement fuser kit . rebooted . still getting error message and prints stops inside the fuser kit . called tech assist . spoke with mauricio . recommended ordering replacement part numbers jc66-03307a and 0604-001393 . \n"
     ]
    },
    {
     "data": {
      "text/html": [
       "<span class=\"tex2jax_ignore\"><div class=\"entities\" style=\"line-height: 2.5; direction: ltr\">installed the replacement fuser kit . rebooted . still getting error message and prints stops inside the fuser kit . called tech assist . spoke with mauricio . recommended ordering replacement part numbers \n",
       "<mark class=\"entity\" style=\"background: #92E0AA; padding: 0.45em 0.6em; margin: 0 0.25em; line-height: 1; border-radius: 0.35em;\">\n",
       "    jc66-03307a\n",
       "    <span style=\"font-size: 0.8em; font-weight: bold; line-height: 1; border-radius: 0.35em; vertical-align: middle; margin-left: 0.5rem\">PART_NUM</span>\n",
       "</mark>\n",
       " and \n",
       "<mark class=\"entity\" style=\"background: #92E0AA; padding: 0.45em 0.6em; margin: 0 0.25em; line-height: 1; border-radius: 0.35em;\">\n",
       "    0604-001393\n",
       "    <span style=\"font-size: 0.8em; font-weight: bold; line-height: 1; border-radius: 0.35em; vertical-align: middle; margin-left: 0.5rem\">PART_NUM</span>\n",
       "</mark>\n",
       " . </div></span>"
      ],
      "text/plain": [
       "<IPython.core.display.HTML object>"
      ]
     },
     "metadata": {},
     "output_type": "display_data"
    },
    {
     "name": "stdout",
     "output_type": "stream",
     "text": [
      "------------------------- acutal entities -------------------------\n",
      "('jc66-03307a', 206, 217, 'PART_NUM')\n",
      "------------------------- predict entities -------------------------\n",
      "('jc66-03307a', 206, 217, 'PART_NUM')\n",
      "('0604-001393', 222, 233, 'PART_NUM')\n",
      "====================================================================================================\n",
      "please order rm2-6576-00cn hfpu attn edward lee 200 north college st . suite 2785b charlotte nc 28202\n"
     ]
    },
    {
     "data": {
      "text/html": [
       "<span class=\"tex2jax_ignore\"><div class=\"entities\" style=\"line-height: 2.5; direction: ltr\">please order \n",
       "<mark class=\"entity\" style=\"background: #92E0AA; padding: 0.45em 0.6em; margin: 0 0.25em; line-height: 1; border-radius: 0.35em;\">\n",
       "    rm2-6576-00cn\n",
       "    <span style=\"font-size: 0.8em; font-weight: bold; line-height: 1; border-radius: 0.35em; vertical-align: middle; margin-left: 0.5rem\">PART_NUM</span>\n",
       "</mark>\n",
       " hfpu attn edward lee 200 north college st . suite 2785b charlotte nc 28202</div></span>"
      ],
      "text/plain": [
       "<IPython.core.display.HTML object>"
      ]
     },
     "metadata": {},
     "output_type": "display_data"
    },
    {
     "name": "stdout",
     "output_type": "stream",
     "text": [
      "------------------------- predict entities -------------------------\n",
      "('rm2-6576-00cn', 13, 26, 'PART_NUM')\n",
      "====================================================================================================\n",
      "#normal assign 7/16/21 emailed have part emailed repair request . 7/20/21 confirmed appt 👍 . \n"
     ]
    },
    {
     "data": {
      "text/html": [
       "<span class=\"tex2jax_ignore\"><div class=\"entities\" style=\"line-height: 2.5; direction: ltr\">#normal assign 7/16/21 emailed have part emailed repair request . 7/20/21 confirmed appt \n",
       "<mark class=\"entity\" style=\"background: #92E0AA; padding: 0.45em 0.6em; margin: 0 0.25em; line-height: 1; border-radius: 0.35em;\">\n",
       "    👍 .\n",
       "    <span style=\"font-size: 0.8em; font-weight: bold; line-height: 1; border-radius: 0.35em; vertical-align: middle; margin-left: 0.5rem\">PART_NUM</span>\n",
       "</mark>\n",
       " </div></span>"
      ],
      "text/plain": [
       "<IPython.core.display.HTML object>"
      ]
     },
     "metadata": {},
     "output_type": "display_data"
    },
    {
     "name": "stdout",
     "output_type": "stream",
     "text": [
      "------------------------- predict entities -------------------------\n",
      "('👍 .', 89, 92, 'PART_NUM')\n",
      "====================================================================================================\n",
      "please order part cf237yc , qty 1 then please ship to customer: mark shute-941329 , the jm smucker company , 6670 low st , bloomsburg , pa 17815 . rescheduled with mark . \n"
     ]
    },
    {
     "data": {
      "text/html": [
       "<span class=\"tex2jax_ignore\"><div class=\"entities\" style=\"line-height: 2.5; direction: ltr\">please order part cf237yc , qty 1 then please ship to customer: mark \n",
       "<mark class=\"entity\" style=\"background: #92E0AA; padding: 0.45em 0.6em; margin: 0 0.25em; line-height: 1; border-radius: 0.35em;\">\n",
       "    shute-941329\n",
       "    <span style=\"font-size: 0.8em; font-weight: bold; line-height: 1; border-radius: 0.35em; vertical-align: middle; margin-left: 0.5rem\">PART_NUM</span>\n",
       "</mark>\n",
       " , the jm smucker company , 6670 low st , bloomsburg , pa 17815 . rescheduled with mark . </div></span>"
      ],
      "text/plain": [
       "<IPython.core.display.HTML object>"
      ]
     },
     "metadata": {},
     "output_type": "display_data"
    },
    {
     "name": "stdout",
     "output_type": "stream",
     "text": [
      "------------------------- predict entities -------------------------\n",
      "('shute-941329', 69, 81, 'PART_NUM')\n",
      "====================================================================================================\n",
      "please order lcd cable l32713-001 and backlight cable l3291-001 . #normal 7/15 please order lcd cable l32713-001 and backlight cable l3291-001 replaced display and system board but back light is still dim , verified parts and issue with support , signed for jn kp 7/14 parts have not shipped per fedex\n"
     ]
    },
    {
     "data": {
      "text/html": [
       "<span class=\"tex2jax_ignore\"><div class=\"entities\" style=\"line-height: 2.5; direction: ltr\">please order lcd cable \n",
       "<mark class=\"entity\" style=\"background: #92E0AA; padding: 0.45em 0.6em; margin: 0 0.25em; line-height: 1; border-radius: 0.35em;\">\n",
       "    l32713-001\n",
       "    <span style=\"font-size: 0.8em; font-weight: bold; line-height: 1; border-radius: 0.35em; vertical-align: middle; margin-left: 0.5rem\">PART_NUM</span>\n",
       "</mark>\n",
       " and backlight cable \n",
       "<mark class=\"entity\" style=\"background: #92E0AA; padding: 0.45em 0.6em; margin: 0 0.25em; line-height: 1; border-radius: 0.35em;\">\n",
       "    l3291-001\n",
       "    <span style=\"font-size: 0.8em; font-weight: bold; line-height: 1; border-radius: 0.35em; vertical-align: middle; margin-left: 0.5rem\">PART_NUM</span>\n",
       "</mark>\n",
       " . #normal 7/15 please order lcd cable \n",
       "<mark class=\"entity\" style=\"background: #92E0AA; padding: 0.45em 0.6em; margin: 0 0.25em; line-height: 1; border-radius: 0.35em;\">\n",
       "    l32713-001\n",
       "    <span style=\"font-size: 0.8em; font-weight: bold; line-height: 1; border-radius: 0.35em; vertical-align: middle; margin-left: 0.5rem\">PART_NUM</span>\n",
       "</mark>\n",
       " and backlight cable \n",
       "<mark class=\"entity\" style=\"background: #92E0AA; padding: 0.45em 0.6em; margin: 0 0.25em; line-height: 1; border-radius: 0.35em;\">\n",
       "    l3291-001\n",
       "    <span style=\"font-size: 0.8em; font-weight: bold; line-height: 1; border-radius: 0.35em; vertical-align: middle; margin-left: 0.5rem\">PART_NUM</span>\n",
       "</mark>\n",
       " replaced display and system board but back light is still dim , verified parts and issue with support , signed for jn kp 7/14 parts have not shipped per fedex</div></span>"
      ],
      "text/plain": [
       "<IPython.core.display.HTML object>"
      ]
     },
     "metadata": {},
     "output_type": "display_data"
    },
    {
     "name": "stdout",
     "output_type": "stream",
     "text": [
      "------------------------- acutal entities -------------------------\n",
      "('l32713-001', 23, 33, 'PART_NUM')\n",
      "('l32713-001', 102, 112, 'PART_NUM')\n",
      "------------------------- predict entities -------------------------\n",
      "('l32713-001', 23, 33, 'PART_NUM')\n",
      "('l3291-001', 54, 63, 'PART_NUM')\n",
      "('l32713-001', 102, 112, 'PART_NUM')\n",
      "('l3291-001', 133, 142, 'PART_NUM')\n",
      "====================================================================================================\n",
      "please order c1p70-67901 ry7-5213-000cn to my fedex in columbus ohio\n"
     ]
    },
    {
     "data": {
      "text/html": [
       "<span class=\"tex2jax_ignore\"><div class=\"entities\" style=\"line-height: 2.5; direction: ltr\">please order c1p70-67901 \n",
       "<mark class=\"entity\" style=\"background: #92E0AA; padding: 0.45em 0.6em; margin: 0 0.25em; line-height: 1; border-radius: 0.35em;\">\n",
       "    ry7-5213-000cn\n",
       "    <span style=\"font-size: 0.8em; font-weight: bold; line-height: 1; border-radius: 0.35em; vertical-align: middle; margin-left: 0.5rem\">PART_NUM</span>\n",
       "</mark>\n",
       " to my fedex in columbus ohio</div></span>"
      ],
      "text/plain": [
       "<IPython.core.display.HTML object>"
      ]
     },
     "metadata": {},
     "output_type": "display_data"
    },
    {
     "name": "stdout",
     "output_type": "stream",
     "text": [
      "------------------------- acutal entities -------------------------\n",
      "('c1p70-67901', 13, 24, 'PART_NUM')\n",
      "('ry7-5213-000cn', 25, 39, 'PART_NUM')\n",
      "------------------------- predict entities -------------------------\n",
      "('ry7-5213-000cn', 25, 39, 'PART_NUM')\n",
      "====================================================================================================\n",
      "please create a nbd revisit and order part 5851-6712 , or b5l29-67903 either one that is available qty=1 for nbd . please deliver to the fedex 351 32nd st pittsburgh pa\n"
     ]
    },
    {
     "data": {
      "text/html": [
       "<span class=\"tex2jax_ignore\"><div class=\"entities\" style=\"line-height: 2.5; direction: ltr\">please create a nbd revisit and order part \n",
       "<mark class=\"entity\" style=\"background: #92E0AA; padding: 0.45em 0.6em; margin: 0 0.25em; line-height: 1; border-radius: 0.35em;\">\n",
       "    5851-6712\n",
       "    <span style=\"font-size: 0.8em; font-weight: bold; line-height: 1; border-radius: 0.35em; vertical-align: middle; margin-left: 0.5rem\">PART_NUM</span>\n",
       "</mark>\n",
       " , or b5l29-67903 either one that is available qty=1 for nbd . please deliver to the fedex 351 32nd st pittsburgh pa</div></span>"
      ],
      "text/plain": [
       "<IPython.core.display.HTML object>"
      ]
     },
     "metadata": {},
     "output_type": "display_data"
    },
    {
     "name": "stdout",
     "output_type": "stream",
     "text": [
      "------------------------- acutal entities -------------------------\n",
      "('5851-6712', 43, 52, 'PART_NUM')\n",
      "('b5l29-67903', 58, 69, 'PART_NUM')\n",
      "------------------------- predict entities -------------------------\n",
      "('5851-6712', 43, 52, 'PART_NUM')\n",
      "====================================================================================================\n",
      "c2bjes22 , 1 , b3m77-69003 . #normal 7-6 cleared to go onsite by ms joe please reassign to michelle she is aware of this\n"
     ]
    },
    {
     "data": {
      "text/html": [
       "<span class=\"tex2jax_ignore\"><div class=\"entities\" style=\"line-height: 2.5; direction: ltr\">c2bjes22 , 1 , b3m77-69003 . #normal 7-6 cleared to go onsite by ms joe please reassign to michelle she is aware of this</div></span>"
      ],
      "text/plain": [
       "<IPython.core.display.HTML object>"
      ]
     },
     "metadata": {},
     "output_type": "display_data"
    },
    {
     "name": "stdout",
     "output_type": "stream",
     "text": [
      "------------------------- acutal entities -------------------------\n",
      "('b3m77-69003', 15, 26, 'PART_NUM')\n",
      "====================================================================================================\n",
      "please order tpm ( f5s62a ) and send to austin hal . please transfer ( jc39-02579a ) , ( jc39-02579a ) , & ( x3a92-60003 ) to clone call . . #normal\n"
     ]
    },
    {
     "data": {
      "text/html": [
       "<span class=\"tex2jax_ignore\"><div class=\"entities\" style=\"line-height: 2.5; direction: ltr\">please order tpm ( f5s62a ) and send to austin hal . please transfer ( jc39-02579a ) , ( jc39-02579a ) , &amp; ( \n",
       "<mark class=\"entity\" style=\"background: #92E0AA; padding: 0.45em 0.6em; margin: 0 0.25em; line-height: 1; border-radius: 0.35em;\">\n",
       "    x3a92-60003\n",
       "    <span style=\"font-size: 0.8em; font-weight: bold; line-height: 1; border-radius: 0.35em; vertical-align: middle; margin-left: 0.5rem\">PART_NUM</span>\n",
       "</mark>\n",
       " ) to clone call . . #normal</div></span>"
      ],
      "text/plain": [
       "<IPython.core.display.HTML object>"
      ]
     },
     "metadata": {},
     "output_type": "display_data"
    },
    {
     "name": "stdout",
     "output_type": "stream",
     "text": [
      "------------------------- acutal entities -------------------------\n",
      "('jc39-02579a', 71, 82, 'PART_NUM')\n",
      "('jc39-02579a', 89, 100, 'PART_NUM')\n",
      "('x3a92-60003', 109, 120, 'PART_NUM')\n",
      "------------------------- predict entities -------------------------\n",
      "('x3a92-60003', 109, 120, 'PART_NUM')\n",
      "====================================================================================================\n",
      "need to order nib kit and ecu ( jz09-67077 & g1w39-67001 ) ship to san antonio hal\n"
     ]
    },
    {
     "data": {
      "text/html": [
       "<span class=\"tex2jax_ignore\"><div class=\"entities\" style=\"line-height: 2.5; direction: ltr\">need to order nib kit and ecu ( \n",
       "<mark class=\"entity\" style=\"background: #92E0AA; padding: 0.45em 0.6em; margin: 0 0.25em; line-height: 1; border-radius: 0.35em;\">\n",
       "    jz09-67077\n",
       "    <span style=\"font-size: 0.8em; font-weight: bold; line-height: 1; border-radius: 0.35em; vertical-align: middle; margin-left: 0.5rem\">PART_NUM</span>\n",
       "</mark>\n",
       " &amp; g1w39-67001 ) ship to san antonio hal</div></span>"
      ],
      "text/plain": [
       "<IPython.core.display.HTML object>"
      ]
     },
     "metadata": {},
     "output_type": "display_data"
    },
    {
     "name": "stdout",
     "output_type": "stream",
     "text": [
      "------------------------- acutal entities -------------------------\n",
      "('g1w39-67001', 45, 56, 'PART_NUM')\n",
      "------------------------- predict entities -------------------------\n",
      "('jz09-67077', 32, 42, 'PART_NUM')\n",
      "====================================================================================================\n",
      "need to order nib kit and ecu ( jz09-67077 & g1w39-67001 ) ship to san antonio hal\n"
     ]
    },
    {
     "data": {
      "text/html": [
       "<span class=\"tex2jax_ignore\"><div class=\"entities\" style=\"line-height: 2.5; direction: ltr\">need to order nib kit and ecu ( \n",
       "<mark class=\"entity\" style=\"background: #92E0AA; padding: 0.45em 0.6em; margin: 0 0.25em; line-height: 1; border-radius: 0.35em;\">\n",
       "    jz09-67077\n",
       "    <span style=\"font-size: 0.8em; font-weight: bold; line-height: 1; border-radius: 0.35em; vertical-align: middle; margin-left: 0.5rem\">PART_NUM</span>\n",
       "</mark>\n",
       " &amp; g1w39-67001 ) ship to san antonio hal</div></span>"
      ],
      "text/plain": [
       "<IPython.core.display.HTML object>"
      ]
     },
     "metadata": {},
     "output_type": "display_data"
    },
    {
     "name": "stdout",
     "output_type": "stream",
     "text": [
      "------------------------- acutal entities -------------------------\n",
      "('g1w39-67001', 45, 56, 'PART_NUM')\n",
      "------------------------- predict entities -------------------------\n",
      "('jz09-67077', 32, 42, 'PART_NUM')\n",
      "====================================================================================================\n",
      "please send to hector lara talked with user and need to see when i can pick it up the computerisin ogden . 7-13-21 please reassign to another bank of america tech as my credentials are not working . call , supervisor dominic 385-383-4986 waiting for user to\n"
     ]
    },
    {
     "data": {
      "text/html": [
       "<span class=\"tex2jax_ignore\"><div class=\"entities\" style=\"line-height: 2.5; direction: ltr\">please send to hector lara talked with user and need to see when i can pick it up the computerisin ogden . 7-13-21 please reassign to another bank of america tech as my credentials are not working . call , supervisor dominic \n",
       "<mark class=\"entity\" style=\"background: #92E0AA; padding: 0.45em 0.6em; margin: 0 0.25em; line-height: 1; border-radius: 0.35em;\">\n",
       "    385-383-4986\n",
       "    <span style=\"font-size: 0.8em; font-weight: bold; line-height: 1; border-radius: 0.35em; vertical-align: middle; margin-left: 0.5rem\">PART_NUM</span>\n",
       "</mark>\n",
       " waiting for user to</div></span>"
      ],
      "text/plain": [
       "<IPython.core.display.HTML object>"
      ]
     },
     "metadata": {},
     "output_type": "display_data"
    },
    {
     "name": "stdout",
     "output_type": "stream",
     "text": [
      "------------------------- predict entities -------------------------\n",
      "('385-383-4986', 225, 237, 'PART_NUM')\n",
      "====================================================================================================\n",
      "please schedule a revisit for july 21 , 2021 and order the following part: pn 854913-001 ( dimm , 8gb , ddr4-2400 ) for next business day delivery ship to: gregory hartman 1 jefferson ct new freedom , pa 17349 . i spoke with autumn brooks and we have rescheduled this for friday morning , july 16 , 2021 . ******************************************************* note ! this computer and qst is working okay at this time . *************************************************\n"
     ]
    },
    {
     "data": {
      "text/html": [
       "<span class=\"tex2jax_ignore\"><div class=\"entities\" style=\"line-height: 2.5; direction: ltr\">please schedule a revisit for july 21 , 2021 and order the following part: pn \n",
       "<mark class=\"entity\" style=\"background: #92E0AA; padding: 0.45em 0.6em; margin: 0 0.25em; line-height: 1; border-radius: 0.35em;\">\n",
       "    854913-001\n",
       "    <span style=\"font-size: 0.8em; font-weight: bold; line-height: 1; border-radius: 0.35em; vertical-align: middle; margin-left: 0.5rem\">PART_NUM</span>\n",
       "</mark>\n",
       " ( dimm , 8gb , \n",
       "<mark class=\"entity\" style=\"background: #92E0AA; padding: 0.45em 0.6em; margin: 0 0.25em; line-height: 1; border-radius: 0.35em;\">\n",
       "    ddr4-2400\n",
       "    <span style=\"font-size: 0.8em; font-weight: bold; line-height: 1; border-radius: 0.35em; vertical-align: middle; margin-left: 0.5rem\">PART_NUM</span>\n",
       "</mark>\n",
       " ) for next business day delivery ship to: gregory hartman 1 jefferson ct new freedom , pa 17349 . i spoke with autumn brooks and we have rescheduled this for friday morning , july 16 , 2021 . ******************************************************* note ! this computer and qst is working okay at this time . *************************************************</div></span>"
      ],
      "text/plain": [
       "<IPython.core.display.HTML object>"
      ]
     },
     "metadata": {},
     "output_type": "display_data"
    },
    {
     "name": "stdout",
     "output_type": "stream",
     "text": [
      "------------------------- acutal entities -------------------------\n",
      "('854913-001', 78, 88, 'PART_NUM')\n",
      "------------------------- predict entities -------------------------\n",
      "('854913-001', 78, 88, 'PART_NUM')\n",
      "('ddr4-2400', 104, 113, 'PART_NUM')\n",
      "====================================================================================================\n",
      "please clone tranfered parts and add , order part m07092-001 qty 1 to customer site for tuesday morning 🌄 . #normal schedule for tomorrow morning vinny will like me to service this pc next week i know the issue\n"
     ]
    },
    {
     "data": {
      "text/html": [
       "<span class=\"tex2jax_ignore\"><div class=\"entities\" style=\"line-height: 2.5; direction: ltr\">please clone tranfered parts and add , order part \n",
       "<mark class=\"entity\" style=\"background: #92E0AA; padding: 0.45em 0.6em; margin: 0 0.25em; line-height: 1; border-radius: 0.35em;\">\n",
       "    m07092-001\n",
       "    <span style=\"font-size: 0.8em; font-weight: bold; line-height: 1; border-radius: 0.35em; vertical-align: middle; margin-left: 0.5rem\">PART_NUM</span>\n",
       "</mark>\n",
       " qty 1 to customer site for tuesday morning \n",
       "<mark class=\"entity\" style=\"background: #92E0AA; padding: 0.45em 0.6em; margin: 0 0.25em; line-height: 1; border-radius: 0.35em;\">\n",
       "    🌄 .\n",
       "    <span style=\"font-size: 0.8em; font-weight: bold; line-height: 1; border-radius: 0.35em; vertical-align: middle; margin-left: 0.5rem\">PART_NUM</span>\n",
       "</mark>\n",
       " #normal schedule for tomorrow morning vinny will like me to service this pc next week i know the issue</div></span>"
      ],
      "text/plain": [
       "<IPython.core.display.HTML object>"
      ]
     },
     "metadata": {},
     "output_type": "display_data"
    },
    {
     "name": "stdout",
     "output_type": "stream",
     "text": [
      "------------------------- acutal entities -------------------------\n",
      "('m07092-001', 50, 60, 'PART_NUM')\n",
      "------------------------- predict entities -------------------------\n",
      "('m07092-001', 50, 60, 'PART_NUM')\n",
      "('🌄 .', 104, 107, 'PART_NUM')\n",
      "====================================================================================================\n",
      "please order parts jc61-04717a , jc93-00513a and send to my hal for nbd . . #normal\n"
     ]
    },
    {
     "data": {
      "text/html": [
       "<span class=\"tex2jax_ignore\"><div class=\"entities\" style=\"line-height: 2.5; direction: ltr\">please order parts \n",
       "<mark class=\"entity\" style=\"background: #92E0AA; padding: 0.45em 0.6em; margin: 0 0.25em; line-height: 1; border-radius: 0.35em;\">\n",
       "    jc61-04717a\n",
       "    <span style=\"font-size: 0.8em; font-weight: bold; line-height: 1; border-radius: 0.35em; vertical-align: middle; margin-left: 0.5rem\">PART_NUM</span>\n",
       "</mark>\n",
       " , jc93-00513a and send to my hal for nbd . . #normal</div></span>"
      ],
      "text/plain": [
       "<IPython.core.display.HTML object>"
      ]
     },
     "metadata": {},
     "output_type": "display_data"
    },
    {
     "name": "stdout",
     "output_type": "stream",
     "text": [
      "------------------------- acutal entities -------------------------\n",
      "('jc61-04717a', 19, 30, 'PART_NUM')\n",
      "('jc93-00513a', 33, 44, 'PART_NUM')\n",
      "------------------------- predict entities -------------------------\n",
      "('jc61-04717a', 19, 30, 'PART_NUM')\n",
      "====================================================================================================\n",
      "order & ship 901247-855 direct to tech ' s home office via nbd delivery to the following address: ( make sure attn: david whiteman ( 720-256-4129 ) ) hp inc . c/o david whiteman ( c-720-256-4129 ) 956 n . wheeling st . aurora , co . 80011-6555\n"
     ]
    },
    {
     "data": {
      "text/html": [
       "<span class=\"tex2jax_ignore\"><div class=\"entities\" style=\"line-height: 2.5; direction: ltr\">order &amp; ship \n",
       "<mark class=\"entity\" style=\"background: #92E0AA; padding: 0.45em 0.6em; margin: 0 0.25em; line-height: 1; border-radius: 0.35em;\">\n",
       "    901247-855\n",
       "    <span style=\"font-size: 0.8em; font-weight: bold; line-height: 1; border-radius: 0.35em; vertical-align: middle; margin-left: 0.5rem\">PART_NUM</span>\n",
       "</mark>\n",
       " direct to tech ' s home office via nbd delivery to the following address: ( make sure attn: david whiteman ( \n",
       "<mark class=\"entity\" style=\"background: #92E0AA; padding: 0.45em 0.6em; margin: 0 0.25em; line-height: 1; border-radius: 0.35em;\">\n",
       "    720-256-4129\n",
       "    <span style=\"font-size: 0.8em; font-weight: bold; line-height: 1; border-radius: 0.35em; vertical-align: middle; margin-left: 0.5rem\">PART_NUM</span>\n",
       "</mark>\n",
       " ) ) hp inc . c/o david whiteman ( \n",
       "<mark class=\"entity\" style=\"background: #92E0AA; padding: 0.45em 0.6em; margin: 0 0.25em; line-height: 1; border-radius: 0.35em;\">\n",
       "    c-720-256-4129\n",
       "    <span style=\"font-size: 0.8em; font-weight: bold; line-height: 1; border-radius: 0.35em; vertical-align: middle; margin-left: 0.5rem\">PART_NUM</span>\n",
       "</mark>\n",
       " ) 956 n . wheeling st . aurora , co . 80011-6555</div></span>"
      ],
      "text/plain": [
       "<IPython.core.display.HTML object>"
      ]
     },
     "metadata": {},
     "output_type": "display_data"
    },
    {
     "name": "stdout",
     "output_type": "stream",
     "text": [
      "------------------------- acutal entities -------------------------\n",
      "('901247-855', 13, 23, 'PART_NUM')\n",
      "------------------------- predict entities -------------------------\n",
      "('901247-855', 13, 23, 'PART_NUM')\n",
      "('720-256-4129', 133, 145, 'PART_NUM')\n",
      "('c-720-256-4129', 180, 194, 'PART_NUM')\n",
      "====================================================================================================\n",
      "can you please create a follow-up and order rm2-6321 and cf064a . \n"
     ]
    },
    {
     "data": {
      "text/html": [
       "<span class=\"tex2jax_ignore\"><div class=\"entities\" style=\"line-height: 2.5; direction: ltr\">can you please create a follow-up and order \n",
       "<mark class=\"entity\" style=\"background: #92E0AA; padding: 0.45em 0.6em; margin: 0 0.25em; line-height: 1; border-radius: 0.35em;\">\n",
       "    rm2-6321\n",
       "    <span style=\"font-size: 0.8em; font-weight: bold; line-height: 1; border-radius: 0.35em; vertical-align: middle; margin-left: 0.5rem\">PART_NUM</span>\n",
       "</mark>\n",
       " and cf064a . </div></span>"
      ],
      "text/plain": [
       "<IPython.core.display.HTML object>"
      ]
     },
     "metadata": {},
     "output_type": "display_data"
    },
    {
     "name": "stdout",
     "output_type": "stream",
     "text": [
      "------------------------- predict entities -------------------------\n",
      "('rm2-6321', 44, 52, 'PART_NUM')\n",
      "====================================================================================================\n",
      "please reassign call to john fiorini . ce is aware . rio 1 ( 772 ) 388-4339 cornelius ( 772 ) 388-4386\n"
     ]
    },
    {
     "data": {
      "text/html": [
       "<span class=\"tex2jax_ignore\"><div class=\"entities\" style=\"line-height: 2.5; direction: ltr\">please reassign call to john fiorini . ce is aware . rio 1 ( 772 ) \n",
       "<mark class=\"entity\" style=\"background: #92E0AA; padding: 0.45em 0.6em; margin: 0 0.25em; line-height: 1; border-radius: 0.35em;\">\n",
       "    388-4339\n",
       "    <span style=\"font-size: 0.8em; font-weight: bold; line-height: 1; border-radius: 0.35em; vertical-align: middle; margin-left: 0.5rem\">PART_NUM</span>\n",
       "</mark>\n",
       " cornelius ( 772 ) \n",
       "<mark class=\"entity\" style=\"background: #92E0AA; padding: 0.45em 0.6em; margin: 0 0.25em; line-height: 1; border-radius: 0.35em;\">\n",
       "    388-4386\n",
       "    <span style=\"font-size: 0.8em; font-weight: bold; line-height: 1; border-radius: 0.35em; vertical-align: middle; margin-left: 0.5rem\">PART_NUM</span>\n",
       "</mark>\n",
       "</div></span>"
      ],
      "text/plain": [
       "<IPython.core.display.HTML object>"
      ]
     },
     "metadata": {},
     "output_type": "display_data"
    },
    {
     "name": "stdout",
     "output_type": "stream",
     "text": [
      "------------------------- predict entities -------------------------\n",
      "('388-4339', 67, 75, 'PART_NUM')\n",
      "('388-4386', 94, 102, 'PART_NUM')\n",
      "====================================================================================================\n",
      "please clone and order the following to customers location y1g00-6790× . #normal\n"
     ]
    },
    {
     "data": {
      "text/html": [
       "<span class=\"tex2jax_ignore\"><div class=\"entities\" style=\"line-height: 2.5; direction: ltr\">please clone and order the following to customers location \n",
       "<mark class=\"entity\" style=\"background: #92E0AA; padding: 0.45em 0.6em; margin: 0 0.25em; line-height: 1; border-radius: 0.35em;\">\n",
       "    y1g00-6790×\n",
       "    <span style=\"font-size: 0.8em; font-weight: bold; line-height: 1; border-radius: 0.35em; vertical-align: middle; margin-left: 0.5rem\">PART_NUM</span>\n",
       "</mark>\n",
       " . #normal</div></span>"
      ],
      "text/plain": [
       "<IPython.core.display.HTML object>"
      ]
     },
     "metadata": {},
     "output_type": "display_data"
    },
    {
     "name": "stdout",
     "output_type": "stream",
     "text": [
      "------------------------- predict entities -------------------------\n",
      "('y1g00-6790×', 59, 70, 'PART_NUM')\n",
      "====================================================================================================\n",
      "#normal please order part # rm2-5452-000 . please send this call to doug houseknecht\n"
     ]
    },
    {
     "data": {
      "text/html": [
       "<span class=\"tex2jax_ignore\"><div class=\"entities\" style=\"line-height: 2.5; direction: ltr\">#normal please order part # \n",
       "<mark class=\"entity\" style=\"background: #92E0AA; padding: 0.45em 0.6em; margin: 0 0.25em; line-height: 1; border-radius: 0.35em;\">\n",
       "    rm2-5452-000\n",
       "    <span style=\"font-size: 0.8em; font-weight: bold; line-height: 1; border-radius: 0.35em; vertical-align: middle; margin-left: 0.5rem\">PART_NUM</span>\n",
       "</mark>\n",
       " . please send this call to doug houseknecht</div></span>"
      ],
      "text/plain": [
       "<IPython.core.display.HTML object>"
      ]
     },
     "metadata": {},
     "output_type": "display_data"
    },
    {
     "name": "stdout",
     "output_type": "stream",
     "text": [
      "------------------------- predict entities -------------------------\n",
      "('rm2-5452-000', 28, 40, 'PART_NUM')\n",
      "====================================================================================================\n",
      "please create revisit , order 865396-850 , l17248-001 ship to hfpu for nbd . client poseponed service until july 16 , 2021\n"
     ]
    },
    {
     "data": {
      "text/html": [
       "<span class=\"tex2jax_ignore\"><div class=\"entities\" style=\"line-height: 2.5; direction: ltr\">please create revisit , order \n",
       "<mark class=\"entity\" style=\"background: #92E0AA; padding: 0.45em 0.6em; margin: 0 0.25em; line-height: 1; border-radius: 0.35em;\">\n",
       "    865396-850\n",
       "    <span style=\"font-size: 0.8em; font-weight: bold; line-height: 1; border-radius: 0.35em; vertical-align: middle; margin-left: 0.5rem\">PART_NUM</span>\n",
       "</mark>\n",
       " , l17248-001 ship to hfpu for nbd . client poseponed service until july 16 , 2021</div></span>"
      ],
      "text/plain": [
       "<IPython.core.display.HTML object>"
      ]
     },
     "metadata": {},
     "output_type": "display_data"
    },
    {
     "name": "stdout",
     "output_type": "stream",
     "text": [
      "------------------------- acutal entities -------------------------\n",
      "('865396-850', 30, 40, 'PART_NUM')\n",
      "('l17248-001', 43, 53, 'PART_NUM')\n",
      "------------------------- predict entities -------------------------\n",
      "('865396-850', 30, 40, 'PART_NUM')\n",
      "====================================================================================================\n",
      "please pull part lex-40x536 , qty 1 from local fsl\n"
     ]
    },
    {
     "data": {
      "text/html": [
       "<span class=\"tex2jax_ignore\"><div class=\"entities\" style=\"line-height: 2.5; direction: ltr\">please pull part \n",
       "<mark class=\"entity\" style=\"background: #92E0AA; padding: 0.45em 0.6em; margin: 0 0.25em; line-height: 1; border-radius: 0.35em;\">\n",
       "    lex-40x536\n",
       "    <span style=\"font-size: 0.8em; font-weight: bold; line-height: 1; border-radius: 0.35em; vertical-align: middle; margin-left: 0.5rem\">PART_NUM</span>\n",
       "</mark>\n",
       " , qty 1 from local fsl</div></span>"
      ],
      "text/plain": [
       "<IPython.core.display.HTML object>"
      ]
     },
     "metadata": {},
     "output_type": "display_data"
    },
    {
     "name": "stdout",
     "output_type": "stream",
     "text": [
      "------------------------- predict entities -------------------------\n",
      "('lex-40x536', 17, 27, 'PART_NUM')\n",
      "====================================================================================================\n",
      "please order part number . cf364-67901 . rm2-7001-000cn . cf302-67901 . rm1-3280-000cn . please ship to el paso texas for hfpu\n"
     ]
    },
    {
     "data": {
      "text/html": [
       "<span class=\"tex2jax_ignore\"><div class=\"entities\" style=\"line-height: 2.5; direction: ltr\">please order part number . \n",
       "<mark class=\"entity\" style=\"background: #92E0AA; padding: 0.45em 0.6em; margin: 0 0.25em; line-height: 1; border-radius: 0.35em;\">\n",
       "    cf364-67901\n",
       "    <span style=\"font-size: 0.8em; font-weight: bold; line-height: 1; border-radius: 0.35em; vertical-align: middle; margin-left: 0.5rem\">PART_NUM</span>\n",
       "</mark>\n",
       " . rm2-7001-000cn . \n",
       "<mark class=\"entity\" style=\"background: #92E0AA; padding: 0.45em 0.6em; margin: 0 0.25em; line-height: 1; border-radius: 0.35em;\">\n",
       "    cf302-67901\n",
       "    <span style=\"font-size: 0.8em; font-weight: bold; line-height: 1; border-radius: 0.35em; vertical-align: middle; margin-left: 0.5rem\">PART_NUM</span>\n",
       "</mark>\n",
       " . \n",
       "<mark class=\"entity\" style=\"background: #92E0AA; padding: 0.45em 0.6em; margin: 0 0.25em; line-height: 1; border-radius: 0.35em;\">\n",
       "    rm1-3280-000cn\n",
       "    <span style=\"font-size: 0.8em; font-weight: bold; line-height: 1; border-radius: 0.35em; vertical-align: middle; margin-left: 0.5rem\">PART_NUM</span>\n",
       "</mark>\n",
       " . please ship to el paso texas for hfpu</div></span>"
      ],
      "text/plain": [
       "<IPython.core.display.HTML object>"
      ]
     },
     "metadata": {},
     "output_type": "display_data"
    },
    {
     "name": "stdout",
     "output_type": "stream",
     "text": [
      "------------------------- acutal entities -------------------------\n",
      "('cf364-67901', 27, 38, 'PART_NUM')\n",
      "('rm2-7001-000cn', 41, 55, 'PART_NUM')\n",
      "('cf302-67901', 58, 69, 'PART_NUM')\n",
      "('rm1-3280-000cn', 72, 86, 'PART_NUM')\n",
      "------------------------- predict entities -------------------------\n",
      "('cf364-67901', 27, 38, 'PART_NUM')\n",
      "('cf302-67901', 58, 69, 'PART_NUM')\n",
      "('rm1-3280-000cn', 72, 86, 'PART_NUM')\n",
      "====================================================================================================\n",
      "please order jc97-04907 scanner assembly . #normal 7/13 please order jc97-04907 scanner assembly due to blue lines when scanning through the adf , cleaned adf scanners thoroughly and could not see visible scratches on glass , signed for sc kp\n"
     ]
    },
    {
     "data": {
      "text/html": [
       "<span class=\"tex2jax_ignore\"><div class=\"entities\" style=\"line-height: 2.5; direction: ltr\">please order \n",
       "<mark class=\"entity\" style=\"background: #92E0AA; padding: 0.45em 0.6em; margin: 0 0.25em; line-height: 1; border-radius: 0.35em;\">\n",
       "    jc97-04907\n",
       "    <span style=\"font-size: 0.8em; font-weight: bold; line-height: 1; border-radius: 0.35em; vertical-align: middle; margin-left: 0.5rem\">PART_NUM</span>\n",
       "</mark>\n",
       " scanner assembly . #normal 7/13 please order \n",
       "<mark class=\"entity\" style=\"background: #92E0AA; padding: 0.45em 0.6em; margin: 0 0.25em; line-height: 1; border-radius: 0.35em;\">\n",
       "    jc97-04907\n",
       "    <span style=\"font-size: 0.8em; font-weight: bold; line-height: 1; border-radius: 0.35em; vertical-align: middle; margin-left: 0.5rem\">PART_NUM</span>\n",
       "</mark>\n",
       " scanner assembly due to blue lines when scanning through the adf , cleaned adf scanners thoroughly and could not see visible scratches on glass , signed for sc kp</div></span>"
      ],
      "text/plain": [
       "<IPython.core.display.HTML object>"
      ]
     },
     "metadata": {},
     "output_type": "display_data"
    },
    {
     "name": "stdout",
     "output_type": "stream",
     "text": [
      "------------------------- predict entities -------------------------\n",
      "('jc97-04907', 13, 23, 'PART_NUM')\n",
      "('jc97-04907', 69, 79, 'PART_NUM')\n",
      "====================================================================================================\n",
      "i called matthew baroch on phone number: 410-244-3634 and left a message asking him to call me back on my cell phone: 360-525-8895 . \n"
     ]
    },
    {
     "data": {
      "text/html": [
       "<span class=\"tex2jax_ignore\"><div class=\"entities\" style=\"line-height: 2.5; direction: ltr\">i called matthew baroch on phone number: 410-244-3634 and left a message asking him to call me back on my cell phone: \n",
       "<mark class=\"entity\" style=\"background: #92E0AA; padding: 0.45em 0.6em; margin: 0 0.25em; line-height: 1; border-radius: 0.35em;\">\n",
       "    360-525-8895\n",
       "    <span style=\"font-size: 0.8em; font-weight: bold; line-height: 1; border-radius: 0.35em; vertical-align: middle; margin-left: 0.5rem\">PART_NUM</span>\n",
       "</mark>\n",
       " . </div></span>"
      ],
      "text/plain": [
       "<IPython.core.display.HTML object>"
      ]
     },
     "metadata": {},
     "output_type": "display_data"
    },
    {
     "name": "stdout",
     "output_type": "stream",
     "text": [
      "------------------------- predict entities -------------------------\n",
      "('360-525-8895', 118, 130, 'PART_NUM')\n",
      "====================================================================================================\n",
      "please order part j8a10-60113 and   j8a10-60111 to my alexandra hfpu . please order part b5l47-67018 to my alexandra hfpu . \n"
     ]
    },
    {
     "data": {
      "text/html": [
       "<span class=\"tex2jax_ignore\"><div class=\"entities\" style=\"line-height: 2.5; direction: ltr\">please order part j8a10-60113 and   j8a10-60111 to my alexandra hfpu . please order part \n",
       "<mark class=\"entity\" style=\"background: #92E0AA; padding: 0.45em 0.6em; margin: 0 0.25em; line-height: 1; border-radius: 0.35em;\">\n",
       "    b5l47-67018\n",
       "    <span style=\"font-size: 0.8em; font-weight: bold; line-height: 1; border-radius: 0.35em; vertical-align: middle; margin-left: 0.5rem\">PART_NUM</span>\n",
       "</mark>\n",
       " to my alexandra hfpu . </div></span>"
      ],
      "text/plain": [
       "<IPython.core.display.HTML object>"
      ]
     },
     "metadata": {},
     "output_type": "display_data"
    },
    {
     "name": "stdout",
     "output_type": "stream",
     "text": [
      "------------------------- acutal entities -------------------------\n",
      "('j8a10-60113', 18, 29, 'PART_NUM')\n",
      "('b5l47-67018', 89, 100, 'PART_NUM')\n",
      "------------------------- predict entities -------------------------\n",
      "('b5l47-67018', 89, 100, 'PART_NUM')\n",
      "====================================================================================================\n",
      "please order lifter drive assembly rm2-0010-000cn and formatter b5l46-67909 to the bangor fedex hfpu . please move unused parts to the followup . . #normal\n"
     ]
    },
    {
     "data": {
      "text/html": [
       "<span class=\"tex2jax_ignore\"><div class=\"entities\" style=\"line-height: 2.5; direction: ltr\">please order lifter drive assembly rm2-0010-000cn and formatter \n",
       "<mark class=\"entity\" style=\"background: #92E0AA; padding: 0.45em 0.6em; margin: 0 0.25em; line-height: 1; border-radius: 0.35em;\">\n",
       "    b5l46-67909\n",
       "    <span style=\"font-size: 0.8em; font-weight: bold; line-height: 1; border-radius: 0.35em; vertical-align: middle; margin-left: 0.5rem\">PART_NUM</span>\n",
       "</mark>\n",
       " to the bangor fedex hfpu . please move unused parts to the followup . . #normal</div></span>"
      ],
      "text/plain": [
       "<IPython.core.display.HTML object>"
      ]
     },
     "metadata": {},
     "output_type": "display_data"
    },
    {
     "name": "stdout",
     "output_type": "stream",
     "text": [
      "------------------------- acutal entities -------------------------\n",
      "('rm2-0010-000cn', 35, 49, 'PART_NUM')\n",
      "('b5l46-67909', 64, 75, 'PART_NUM')\n",
      "------------------------- predict entities -------------------------\n",
      "('b5l46-67909', 64, 75, 'PART_NUM')\n",
      "====================================================================================================\n",
      "l09562-001 quantity 1 ship to 83004650\n"
     ]
    },
    {
     "data": {
      "text/html": [
       "<span class=\"tex2jax_ignore\"><div class=\"entities\" style=\"line-height: 2.5; direction: ltr\">l09562-001 quantity 1 ship to 83004650</div></span>"
      ],
      "text/plain": [
       "<IPython.core.display.HTML object>"
      ]
     },
     "metadata": {},
     "output_type": "display_data"
    },
    {
     "name": "stdout",
     "output_type": "stream",
     "text": [
      "------------------------- acutal entities -------------------------\n",
      "('l09562-001', 0, 10, 'PART_NUM')\n",
      "====================================================================================================\n",
      "please reassign call to john fiorini . ce is aware . rio 1 ( 772 ) 388-4339 cornelius ( 772 ) 388-4386\n"
     ]
    },
    {
     "data": {
      "text/html": [
       "<span class=\"tex2jax_ignore\"><div class=\"entities\" style=\"line-height: 2.5; direction: ltr\">please reassign call to john fiorini . ce is aware . rio 1 ( 772 ) \n",
       "<mark class=\"entity\" style=\"background: #92E0AA; padding: 0.45em 0.6em; margin: 0 0.25em; line-height: 1; border-radius: 0.35em;\">\n",
       "    388-4339\n",
       "    <span style=\"font-size: 0.8em; font-weight: bold; line-height: 1; border-radius: 0.35em; vertical-align: middle; margin-left: 0.5rem\">PART_NUM</span>\n",
       "</mark>\n",
       " cornelius ( 772 ) \n",
       "<mark class=\"entity\" style=\"background: #92E0AA; padding: 0.45em 0.6em; margin: 0 0.25em; line-height: 1; border-radius: 0.35em;\">\n",
       "    388-4386\n",
       "    <span style=\"font-size: 0.8em; font-weight: bold; line-height: 1; border-radius: 0.35em; vertical-align: middle; margin-left: 0.5rem\">PART_NUM</span>\n",
       "</mark>\n",
       "</div></span>"
      ],
      "text/plain": [
       "<IPython.core.display.HTML object>"
      ]
     },
     "metadata": {},
     "output_type": "display_data"
    },
    {
     "name": "stdout",
     "output_type": "stream",
     "text": [
      "------------------------- predict entities -------------------------\n",
      "('388-4339', 67, 75, 'PART_NUM')\n",
      "('388-4386', 94, 102, 'PART_NUM')\n",
      "====================================================================================================\n",
      "please order recommended part nbd to wo address under user’s name 7/16- part eta change from 10:30am to 4pm part eta : end of the day ! e-mail user with tracking information . waiting for part 7/19- part status: “potentially delayed” 7/20- please order j\n"
     ]
    },
    {
     "data": {
      "text/html": [
       "<span class=\"tex2jax_ignore\"><div class=\"entities\" style=\"line-height: 2.5; direction: ltr\">please order recommended part nbd to wo address under user’s name 7/16- part eta change from 10:30am to 4pm part eta : end of the day ! e-mail user with tracking information . waiting for part 7/19- part status: \n",
       "<mark class=\"entity\" style=\"background: #92E0AA; padding: 0.45em 0.6em; margin: 0 0.25em; line-height: 1; border-radius: 0.35em;\">\n",
       "    “potentially\n",
       "    <span style=\"font-size: 0.8em; font-weight: bold; line-height: 1; border-radius: 0.35em; vertical-align: middle; margin-left: 0.5rem\">PART_NUM</span>\n",
       "</mark>\n",
       " delayed\n",
       "<mark class=\"entity\" style=\"background: #92E0AA; padding: 0.45em 0.6em; margin: 0 0.25em; line-height: 1; border-radius: 0.35em;\">\n",
       "    ” 7/20-\n",
       "    <span style=\"font-size: 0.8em; font-weight: bold; line-height: 1; border-radius: 0.35em; vertical-align: middle; margin-left: 0.5rem\">PART_NUM</span>\n",
       "</mark>\n",
       " please order j</div></span>"
      ],
      "text/plain": [
       "<IPython.core.display.HTML object>"
      ]
     },
     "metadata": {},
     "output_type": "display_data"
    },
    {
     "name": "stdout",
     "output_type": "stream",
     "text": [
      "------------------------- predict entities -------------------------\n",
      "('“potentially', 212, 224, 'PART_NUM')\n",
      "('” 7/20-', 232, 239, 'PART_NUM')\n"
     ]
    }
   ],
   "source": [
    "show_texts(error_data)  "
   ]
  },
  {
   "cell_type": "code",
   "execution_count": 47,
   "id": "d4226d40",
   "metadata": {
    "ExecuteTime": {
     "end_time": "2021-08-25T01:11:38.119712Z",
     "start_time": "2021-08-25T01:11:38.014854Z"
    }
   },
   "outputs": [
    {
     "name": "stdout",
     "output_type": "stream",
     "text": [
      "('e6b69-67901', 23, 34, 'PART_NUM')\n",
      "('rm1-8413-000cn', 44, 58, 'PART_NUM')\n"
     ]
    },
    {
     "data": {
      "text/html": [
       "<span class=\"tex2jax_ignore\"><div class=\"entities\" style=\"line-height: 2.5; direction: ltr\">rm26322-000cn PART_NUM \n",
       "<mark class=\"entity\" style=\"background: #92E0AA; padding: 0.45em 0.6em; margin: 0 0.25em; line-height: 1; border-radius: 0.35em;\">\n",
       "    e6b69-67901\n",
       "    <span style=\"font-size: 0.8em; font-weight: bold; line-height: 1; border-radius: 0.35em; vertical-align: middle; margin-left: 0.5rem\">PART_NUM</span>\n",
       "</mark>\n",
       " PART_NUM \n",
       "<mark class=\"entity\" style=\"background: #92E0AA; padding: 0.45em 0.6em; margin: 0 0.25em; line-height: 1; border-radius: 0.35em;\">\n",
       "    rm1-8413-000cn\n",
       "    <span style=\"font-size: 0.8em; font-weight: bold; line-height: 1; border-radius: 0.35em; vertical-align: middle; margin-left: 0.5rem\">PART_NUM</span>\n",
       "</mark>\n",
       " PART_NUM please send ACTION to fedex ACTION 3242 herrman rd garland , texas 75041 on 2021-08-21</div></span>"
      ],
      "text/plain": [
       "<IPython.core.display.HTML object>"
      ]
     },
     "metadata": {},
     "output_type": "display_data"
    }
   ],
   "source": [
    "doc = nlp('rm26322-000cn PART_NUM e6b69-67901 PART_NUM rm1-8413-000cn PART_NUM please send ACTION to fedex ACTION 3242 herrman rd garland , texas 75041 on 2021-08-21')\n",
    "print(*[(ent.text, ent.start_char, ent.end_char, ent.label_) for ent in doc.ents], sep='\\n') \n",
    "spacy.displacy.render(doc, style='ent', options=options)"
   ]
  },
  {
   "cell_type": "markdown",
   "id": "c087f294",
   "metadata": {},
   "source": [
    "### Some Features and Issues\n",
    "\n",
    "#### Miss some part-numbers "
   ]
  },
  {
   "cell_type": "code",
   "execution_count": 50,
   "id": "c49aafe7",
   "metadata": {
    "ExecuteTime": {
     "end_time": "2021-08-25T01:13:31.041532Z",
     "start_time": "2021-08-25T01:13:31.030533Z"
    }
   },
   "outputs": [],
   "source": [
    "sample_parts = ['M14302-161', '926537-001', 'M46915-D01', '140314-FB2', '176253-8B0', \n",
    "               '442010-ABC', 'L07896-DB1', '168757-B21', 'FE-15520-01', 'RM1-7867-000CN', \n",
    "               '5066-4719', '5066-3872-1', '3HZ90-30001', 'T6M22-30001', '98544-04105', \n",
    "               'C8109-69018', 'L26480-DB1', '632427-001B', 'CN463-69003', 'RM1-1298BULK', \n",
    "               '8-752-078-46', 'X-4035-119-1', 'TBLB3002-A04', '4822-701-15319', '08-2212C-33W', \n",
    "               '19-40065-011', 'ATT09850-66532', '98564-66572-SQ', '897-250144AA', '738-576-94', \n",
    "               '1FQ6-0001', '1818-7469-LGSA', '1820-6361M', '1818-6868-SAM', '3138-107-96160', \n",
    "               '686858R-999', 'MD30C-A2', '29-26196-00', 'DEL-7D092', 'LEX-40X2384', 'LEX-40X2831H', \n",
    "               'SAM-6107001172', 'SHA-1625DS51', 'XER-006R01275', 'BRO-TN115BK', 'DEL-310-5811', \n",
    "               'DEL-PK496', 'KYO-1702F97US0', 'LA95-CA', 'KYO-DK-310H', 'EPS-C31CD38A9921', \n",
    "               'KYO-F994091H', 'EPS-CEPS-003G', 'LEX-24015SA', 'LEX-62D1X00', 'LEX-72K0DV0', \n",
    "               'LEX-801HC', 'LEX-C5220CSH', 'TRO-78-24619-001', 'LEX-C544X1CG', 'HPE-749797-001', \n",
    "               'SFT-P-895', 'LEX-E260A21A-C', 'RIC-D0296509', 'SEA-ST1000LM049', 'LEX-12A8400-PC', \n",
    "               'HPE-JL258A', 'RIC-400507', 'FUJ-FPCPR362AQ', 'TOS-6LE8296100', 'XER-003K04980', \n",
    "               'XER-116111500', 'ATS-2711FXSC-901', 'BRO-TN336BK', 'DEL-310-5807', 'HPI-CF258A-M', \n",
    "               'LEX-T101-0000000', 'DEL-9PN5P', 'SAM-BA92-08880A', 'APC-RBC7', 'KMH-4448-121', \n",
    "               'SXC-C7ABTTAAB', 'TRO-04621201', 'VEF-28924-04-R', 'WFP-HPM527Z', 'KYO-1702LK0UN2', \n",
    "               'APC-SUA1500RM2U', 'KYO-302NM18021', 'HPE-JH329-61001', 'KYO-1T02GA0US0', 'LEB-04X4674',\n",
    "               'KYO-302GR93034', 'DEL-V1RX3', 'LEX-40X0593', 'TOS-6LH3460800', 'RIC-AE020171', \n",
    "               'XER-59K60140', 'BRO-LM5140001', 'KMH-A00JA56600', 'KYO-302F906240', 'BRO-LEM084001', \n",
    "               'XER-116-2035', 'BRO-BU100CLH', '3X-LK465-A2', '4G1-3999-030CN', 'H3980-60002BULK', \n",
    "               'SHA-VHI0MFP000', 'TOS-C017839000', 'JC66-01190A', 'XER-3335DNI', 'XER-3635MFP-S', \n",
    "               'XER-4622DN', 'XER-7750-Z2', 'DEL-D1320-W3', 'DEL-P637D', 'LEX-C540X35G', \n",
    "               'SHA-CPLTM8190F', 'SHACFRM-1380DS53', 'XER-401-0855-0', '90-0077', 'BRO-LF6710001', \n",
    "               'Q3938-68001-PCA', 'C314X+49A-90002', '20ER-84530KC', 'RM2-2903-BULK', 'CE506-67919-BU', \n",
    "               'CH971-91596', 'DEL-FM235', 'JC44-00210E', 'SHACFRM-1509DS52', 'SHADHAI-5043FCPZ', \n",
    "               'SHAGCAB-1102FCB1', '000-50-02-008', '504000226-DD', 'SHAVHPLG217L5A-1', 'SHAVHPOSH03Y02-1', \n",
    "               'SHADUNT-8962FCP1', 'SHAKI-OK0010FCPZ', 'SHAQSW-P0506FCZZ', 'SHAVHPGP1A73AR-1', 'SHARH-IX0055FCPZ', \n",
    "               '358-000001', 'SHAVHPGP1A71L3-18', 'B23-0994', '504000226-D', '5066-0731', \n",
    "               'E0-CABLE-01', 'RM1-8508-010-BU', 'B3M77-67902-BU', 'CA02626-E029FJ', 'CF065-67901-BU', \n",
    "               'C2H57-67901-BULK', 'LN08-A2', '693709-001B', 'SS467-67001', 'LEX-70C0D20', \n",
    "               'SHAQSW-M0518FCPZ', 'SHALX-BZ0994FCPZ', 'LN08X-TF', 'SHAGCAB-1507FCAZ']\n",
    "\n",
    "sample_parts = [part.lower() for part in sample_parts]"
   ]
  },
  {
   "cell_type": "code",
   "execution_count": 51,
   "id": "f5546c82",
   "metadata": {
    "ExecuteTime": {
     "end_time": "2021-08-25T01:13:32.080315Z",
     "start_time": "2021-08-25T01:13:31.928261Z"
    }
   },
   "outputs": [
    {
     "name": "stdout",
     "output_type": "stream",
     "text": [
      "====================================================================================================\n",
      "please order qty 1 000-50-02-008 nbd to my hal in lenexa . thank you . \n"
     ]
    },
    {
     "data": {
      "text/html": [
       "<span class=\"tex2jax_ignore\"><div class=\"entities\" style=\"line-height: 2.5; direction: ltr\">please order qty 1 \n",
       "<mark class=\"entity\" style=\"background: #92E0AA; padding: 0.45em 0.6em; margin: 0 0.25em; line-height: 1; border-radius: 0.35em;\">\n",
       "    000-50-02-008\n",
       "    <span style=\"font-size: 0.8em; font-weight: bold; line-height: 1; border-radius: 0.35em; vertical-align: middle; margin-left: 0.5rem\">PART_NUM</span>\n",
       "</mark>\n",
       " nbd to my hal in lenexa . thank you . </div></span>"
      ],
      "text/plain": [
       "<IPython.core.display.HTML object>"
      ]
     },
     "metadata": {},
     "output_type": "display_data"
    },
    {
     "name": "stdout",
     "output_type": "stream",
     "text": [
      "------------------------- predict entities -------------------------\n",
      "('000-50-02-008', 19, 32, 'PART_NUM')\n"
     ]
    }
   ],
   "source": [
    "def get_texts(parts, standardize_text=standardize_text1):\n",
    "    texts = [standardize_text(f'Please order qty 1 {part} NBD to my HAL in Lenexa. Thank you.') for part in parts]\n",
    "    return texts\n",
    "\n",
    "def check_sample_parts(parts):  \n",
    "    texts = get_texts(parts)\n",
    "    docs = nlp.pipe(texts)\n",
    "    texts = []\n",
    "    error_texts = []\n",
    "    errpr_parts = []\n",
    "    for doc, part in zip(docs, parts):\n",
    "        texts.append(doc.text)\n",
    "        if len(doc.ents) !=1 or doc.ents[0].text != part.lower():\n",
    "            error_texts.append(doc.text)\n",
    "            errpr_parts.append(part)\n",
    "    return texts, error_texts, errpr_parts\n",
    "        \n",
    "parts = ['000-50-02-008']\n",
    "texts, error_texts, errpr_parts = check_sample_parts(parts)\n",
    "show_texts(texts, show_detail=True) "
   ]
  },
  {
   "cell_type": "code",
   "execution_count": 53,
   "id": "5848a30b",
   "metadata": {
    "ExecuteTime": {
     "end_time": "2021-08-25T01:14:22.802678Z",
     "start_time": "2021-08-25T01:14:05.356745Z"
    },
    "scrolled": false
   },
   "outputs": [
    {
     "name": "stdout",
     "output_type": "stream",
     "text": [
      "find 0/160 errors\n",
      "====================================================================================================\n",
      "please order qty 1 m14302-161 nbd to my hal in lenexa . thank you . \n"
     ]
    },
    {
     "data": {
      "text/html": [
       "<span class=\"tex2jax_ignore\"><div class=\"entities\" style=\"line-height: 2.5; direction: ltr\">please order qty 1 \n",
       "<mark class=\"entity\" style=\"background: #92E0AA; padding: 0.45em 0.6em; margin: 0 0.25em; line-height: 1; border-radius: 0.35em;\">\n",
       "    m14302-161\n",
       "    <span style=\"font-size: 0.8em; font-weight: bold; line-height: 1; border-radius: 0.35em; vertical-align: middle; margin-left: 0.5rem\">PART_NUM</span>\n",
       "</mark>\n",
       " nbd to my hal in lenexa . thank you . </div></span>"
      ],
      "text/plain": [
       "<IPython.core.display.HTML object>"
      ]
     },
     "metadata": {},
     "output_type": "display_data"
    },
    {
     "name": "stdout",
     "output_type": "stream",
     "text": [
      "------------------------- predict entities -------------------------\n",
      "('m14302-161', 19, 29, 'PART_NUM')\n",
      "====================================================================================================\n",
      "please order qty 1 926537-001 nbd to my hal in lenexa . thank you . \n"
     ]
    },
    {
     "data": {
      "text/html": [
       "<span class=\"tex2jax_ignore\"><div class=\"entities\" style=\"line-height: 2.5; direction: ltr\">please order qty 1 \n",
       "<mark class=\"entity\" style=\"background: #92E0AA; padding: 0.45em 0.6em; margin: 0 0.25em; line-height: 1; border-radius: 0.35em;\">\n",
       "    926537-001\n",
       "    <span style=\"font-size: 0.8em; font-weight: bold; line-height: 1; border-radius: 0.35em; vertical-align: middle; margin-left: 0.5rem\">PART_NUM</span>\n",
       "</mark>\n",
       " nbd to my hal in lenexa . thank you . </div></span>"
      ],
      "text/plain": [
       "<IPython.core.display.HTML object>"
      ]
     },
     "metadata": {},
     "output_type": "display_data"
    },
    {
     "name": "stdout",
     "output_type": "stream",
     "text": [
      "------------------------- predict entities -------------------------\n",
      "('926537-001', 19, 29, 'PART_NUM')\n",
      "====================================================================================================\n",
      "please order qty 1 m46915-d01 nbd to my hal in lenexa . thank you . \n"
     ]
    },
    {
     "data": {
      "text/html": [
       "<span class=\"tex2jax_ignore\"><div class=\"entities\" style=\"line-height: 2.5; direction: ltr\">please order qty 1 \n",
       "<mark class=\"entity\" style=\"background: #92E0AA; padding: 0.45em 0.6em; margin: 0 0.25em; line-height: 1; border-radius: 0.35em;\">\n",
       "    m46915-d01\n",
       "    <span style=\"font-size: 0.8em; font-weight: bold; line-height: 1; border-radius: 0.35em; vertical-align: middle; margin-left: 0.5rem\">PART_NUM</span>\n",
       "</mark>\n",
       " nbd to my hal in lenexa . thank you . </div></span>"
      ],
      "text/plain": [
       "<IPython.core.display.HTML object>"
      ]
     },
     "metadata": {},
     "output_type": "display_data"
    },
    {
     "name": "stdout",
     "output_type": "stream",
     "text": [
      "------------------------- predict entities -------------------------\n",
      "('m46915-d01', 19, 29, 'PART_NUM')\n",
      "====================================================================================================\n",
      "please order qty 1 140314-fb2 nbd to my hal in lenexa . thank you . \n"
     ]
    },
    {
     "data": {
      "text/html": [
       "<span class=\"tex2jax_ignore\"><div class=\"entities\" style=\"line-height: 2.5; direction: ltr\">please order qty 1 \n",
       "<mark class=\"entity\" style=\"background: #92E0AA; padding: 0.45em 0.6em; margin: 0 0.25em; line-height: 1; border-radius: 0.35em;\">\n",
       "    140314-fb2\n",
       "    <span style=\"font-size: 0.8em; font-weight: bold; line-height: 1; border-radius: 0.35em; vertical-align: middle; margin-left: 0.5rem\">PART_NUM</span>\n",
       "</mark>\n",
       " nbd to my hal in lenexa . thank you . </div></span>"
      ],
      "text/plain": [
       "<IPython.core.display.HTML object>"
      ]
     },
     "metadata": {},
     "output_type": "display_data"
    },
    {
     "name": "stdout",
     "output_type": "stream",
     "text": [
      "------------------------- predict entities -------------------------\n",
      "('140314-fb2', 19, 29, 'PART_NUM')\n",
      "====================================================================================================\n",
      "please order qty 1 176253-8b0 nbd to my hal in lenexa . thank you . \n"
     ]
    },
    {
     "data": {
      "text/html": [
       "<span class=\"tex2jax_ignore\"><div class=\"entities\" style=\"line-height: 2.5; direction: ltr\">please order qty 1 \n",
       "<mark class=\"entity\" style=\"background: #92E0AA; padding: 0.45em 0.6em; margin: 0 0.25em; line-height: 1; border-radius: 0.35em;\">\n",
       "    176253-8b0\n",
       "    <span style=\"font-size: 0.8em; font-weight: bold; line-height: 1; border-radius: 0.35em; vertical-align: middle; margin-left: 0.5rem\">PART_NUM</span>\n",
       "</mark>\n",
       " nbd to my hal in lenexa . thank you . </div></span>"
      ],
      "text/plain": [
       "<IPython.core.display.HTML object>"
      ]
     },
     "metadata": {},
     "output_type": "display_data"
    },
    {
     "name": "stdout",
     "output_type": "stream",
     "text": [
      "------------------------- predict entities -------------------------\n",
      "('176253-8b0', 19, 29, 'PART_NUM')\n",
      "====================================================================================================\n",
      "please order qty 1 442010-abc nbd to my hal in lenexa . thank you . \n"
     ]
    },
    {
     "data": {
      "text/html": [
       "<span class=\"tex2jax_ignore\"><div class=\"entities\" style=\"line-height: 2.5; direction: ltr\">please order qty 1 \n",
       "<mark class=\"entity\" style=\"background: #92E0AA; padding: 0.45em 0.6em; margin: 0 0.25em; line-height: 1; border-radius: 0.35em;\">\n",
       "    442010-abc\n",
       "    <span style=\"font-size: 0.8em; font-weight: bold; line-height: 1; border-radius: 0.35em; vertical-align: middle; margin-left: 0.5rem\">PART_NUM</span>\n",
       "</mark>\n",
       " nbd to my hal in lenexa . thank you . </div></span>"
      ],
      "text/plain": [
       "<IPython.core.display.HTML object>"
      ]
     },
     "metadata": {},
     "output_type": "display_data"
    },
    {
     "name": "stdout",
     "output_type": "stream",
     "text": [
      "------------------------- predict entities -------------------------\n",
      "('442010-abc', 19, 29, 'PART_NUM')\n",
      "====================================================================================================\n",
      "please order qty 1 l07896-db1 nbd to my hal in lenexa . thank you . \n"
     ]
    },
    {
     "data": {
      "text/html": [
       "<span class=\"tex2jax_ignore\"><div class=\"entities\" style=\"line-height: 2.5; direction: ltr\">please order qty 1 \n",
       "<mark class=\"entity\" style=\"background: #92E0AA; padding: 0.45em 0.6em; margin: 0 0.25em; line-height: 1; border-radius: 0.35em;\">\n",
       "    l07896-db1\n",
       "    <span style=\"font-size: 0.8em; font-weight: bold; line-height: 1; border-radius: 0.35em; vertical-align: middle; margin-left: 0.5rem\">PART_NUM</span>\n",
       "</mark>\n",
       " nbd to my hal in lenexa . thank you . </div></span>"
      ],
      "text/plain": [
       "<IPython.core.display.HTML object>"
      ]
     },
     "metadata": {},
     "output_type": "display_data"
    },
    {
     "name": "stdout",
     "output_type": "stream",
     "text": [
      "------------------------- predict entities -------------------------\n",
      "('l07896-db1', 19, 29, 'PART_NUM')\n",
      "====================================================================================================\n",
      "please order qty 1 168757-b21 nbd to my hal in lenexa . thank you . \n"
     ]
    },
    {
     "data": {
      "text/html": [
       "<span class=\"tex2jax_ignore\"><div class=\"entities\" style=\"line-height: 2.5; direction: ltr\">please order qty 1 \n",
       "<mark class=\"entity\" style=\"background: #92E0AA; padding: 0.45em 0.6em; margin: 0 0.25em; line-height: 1; border-radius: 0.35em;\">\n",
       "    168757-b21\n",
       "    <span style=\"font-size: 0.8em; font-weight: bold; line-height: 1; border-radius: 0.35em; vertical-align: middle; margin-left: 0.5rem\">PART_NUM</span>\n",
       "</mark>\n",
       " nbd to my hal in lenexa . thank you . </div></span>"
      ],
      "text/plain": [
       "<IPython.core.display.HTML object>"
      ]
     },
     "metadata": {},
     "output_type": "display_data"
    },
    {
     "name": "stdout",
     "output_type": "stream",
     "text": [
      "------------------------- predict entities -------------------------\n",
      "('168757-b21', 19, 29, 'PART_NUM')\n",
      "====================================================================================================\n",
      "please order qty 1 fe-15520-01 nbd to my hal in lenexa . thank you . \n"
     ]
    },
    {
     "data": {
      "text/html": [
       "<span class=\"tex2jax_ignore\"><div class=\"entities\" style=\"line-height: 2.5; direction: ltr\">please order qty 1 \n",
       "<mark class=\"entity\" style=\"background: #92E0AA; padding: 0.45em 0.6em; margin: 0 0.25em; line-height: 1; border-radius: 0.35em;\">\n",
       "    fe-15520-01\n",
       "    <span style=\"font-size: 0.8em; font-weight: bold; line-height: 1; border-radius: 0.35em; vertical-align: middle; margin-left: 0.5rem\">PART_NUM</span>\n",
       "</mark>\n",
       " nbd to my hal in lenexa . thank you . </div></span>"
      ],
      "text/plain": [
       "<IPython.core.display.HTML object>"
      ]
     },
     "metadata": {},
     "output_type": "display_data"
    },
    {
     "name": "stdout",
     "output_type": "stream",
     "text": [
      "------------------------- predict entities -------------------------\n",
      "('fe-15520-01', 19, 30, 'PART_NUM')\n",
      "====================================================================================================\n",
      "please order qty 1 rm1-7867-000cn nbd to my hal in lenexa . thank you . \n"
     ]
    },
    {
     "data": {
      "text/html": [
       "<span class=\"tex2jax_ignore\"><div class=\"entities\" style=\"line-height: 2.5; direction: ltr\">please order qty 1 \n",
       "<mark class=\"entity\" style=\"background: #92E0AA; padding: 0.45em 0.6em; margin: 0 0.25em; line-height: 1; border-radius: 0.35em;\">\n",
       "    rm1-7867-000cn\n",
       "    <span style=\"font-size: 0.8em; font-weight: bold; line-height: 1; border-radius: 0.35em; vertical-align: middle; margin-left: 0.5rem\">PART_NUM</span>\n",
       "</mark>\n",
       " nbd to my hal in lenexa . thank you . </div></span>"
      ],
      "text/plain": [
       "<IPython.core.display.HTML object>"
      ]
     },
     "metadata": {},
     "output_type": "display_data"
    },
    {
     "name": "stdout",
     "output_type": "stream",
     "text": [
      "------------------------- predict entities -------------------------\n",
      "('rm1-7867-000cn', 19, 33, 'PART_NUM')\n",
      "====================================================================================================\n",
      "please order qty 1 5066-4719 nbd to my hal in lenexa . thank you . \n"
     ]
    },
    {
     "data": {
      "text/html": [
       "<span class=\"tex2jax_ignore\"><div class=\"entities\" style=\"line-height: 2.5; direction: ltr\">please order qty 1 \n",
       "<mark class=\"entity\" style=\"background: #92E0AA; padding: 0.45em 0.6em; margin: 0 0.25em; line-height: 1; border-radius: 0.35em;\">\n",
       "    5066-4719\n",
       "    <span style=\"font-size: 0.8em; font-weight: bold; line-height: 1; border-radius: 0.35em; vertical-align: middle; margin-left: 0.5rem\">PART_NUM</span>\n",
       "</mark>\n",
       " nbd to my hal in lenexa . thank you . </div></span>"
      ],
      "text/plain": [
       "<IPython.core.display.HTML object>"
      ]
     },
     "metadata": {},
     "output_type": "display_data"
    },
    {
     "name": "stdout",
     "output_type": "stream",
     "text": [
      "------------------------- predict entities -------------------------\n",
      "('5066-4719', 19, 28, 'PART_NUM')\n",
      "====================================================================================================\n",
      "please order qty 1 5066-3872-1 nbd to my hal in lenexa . thank you . \n"
     ]
    },
    {
     "data": {
      "text/html": [
       "<span class=\"tex2jax_ignore\"><div class=\"entities\" style=\"line-height: 2.5; direction: ltr\">please order qty 1 \n",
       "<mark class=\"entity\" style=\"background: #92E0AA; padding: 0.45em 0.6em; margin: 0 0.25em; line-height: 1; border-radius: 0.35em;\">\n",
       "    5066-3872-1\n",
       "    <span style=\"font-size: 0.8em; font-weight: bold; line-height: 1; border-radius: 0.35em; vertical-align: middle; margin-left: 0.5rem\">PART_NUM</span>\n",
       "</mark>\n",
       " nbd to my hal in lenexa . thank you . </div></span>"
      ],
      "text/plain": [
       "<IPython.core.display.HTML object>"
      ]
     },
     "metadata": {},
     "output_type": "display_data"
    },
    {
     "name": "stdout",
     "output_type": "stream",
     "text": [
      "------------------------- predict entities -------------------------\n",
      "('5066-3872-1', 19, 30, 'PART_NUM')\n",
      "====================================================================================================\n",
      "please order qty 1 3hz90-30001 nbd to my hal in lenexa . thank you . \n"
     ]
    },
    {
     "data": {
      "text/html": [
       "<span class=\"tex2jax_ignore\"><div class=\"entities\" style=\"line-height: 2.5; direction: ltr\">please order qty 1 \n",
       "<mark class=\"entity\" style=\"background: #92E0AA; padding: 0.45em 0.6em; margin: 0 0.25em; line-height: 1; border-radius: 0.35em;\">\n",
       "    3hz90-30001\n",
       "    <span style=\"font-size: 0.8em; font-weight: bold; line-height: 1; border-radius: 0.35em; vertical-align: middle; margin-left: 0.5rem\">PART_NUM</span>\n",
       "</mark>\n",
       " nbd to my hal in lenexa . thank you . </div></span>"
      ],
      "text/plain": [
       "<IPython.core.display.HTML object>"
      ]
     },
     "metadata": {},
     "output_type": "display_data"
    },
    {
     "name": "stdout",
     "output_type": "stream",
     "text": [
      "------------------------- predict entities -------------------------\n",
      "('3hz90-30001', 19, 30, 'PART_NUM')\n",
      "====================================================================================================\n",
      "please order qty 1 t6m22-30001 nbd to my hal in lenexa . thank you . \n"
     ]
    },
    {
     "data": {
      "text/html": [
       "<span class=\"tex2jax_ignore\"><div class=\"entities\" style=\"line-height: 2.5; direction: ltr\">please order qty 1 \n",
       "<mark class=\"entity\" style=\"background: #92E0AA; padding: 0.45em 0.6em; margin: 0 0.25em; line-height: 1; border-radius: 0.35em;\">\n",
       "    t6m22-30001\n",
       "    <span style=\"font-size: 0.8em; font-weight: bold; line-height: 1; border-radius: 0.35em; vertical-align: middle; margin-left: 0.5rem\">PART_NUM</span>\n",
       "</mark>\n",
       " nbd to my hal in lenexa . thank you . </div></span>"
      ],
      "text/plain": [
       "<IPython.core.display.HTML object>"
      ]
     },
     "metadata": {},
     "output_type": "display_data"
    },
    {
     "name": "stdout",
     "output_type": "stream",
     "text": [
      "------------------------- predict entities -------------------------\n",
      "('t6m22-30001', 19, 30, 'PART_NUM')\n",
      "====================================================================================================\n",
      "please order qty 1 98544-04105 nbd to my hal in lenexa . thank you . \n"
     ]
    },
    {
     "data": {
      "text/html": [
       "<span class=\"tex2jax_ignore\"><div class=\"entities\" style=\"line-height: 2.5; direction: ltr\">please order qty 1 \n",
       "<mark class=\"entity\" style=\"background: #92E0AA; padding: 0.45em 0.6em; margin: 0 0.25em; line-height: 1; border-radius: 0.35em;\">\n",
       "    98544-04105\n",
       "    <span style=\"font-size: 0.8em; font-weight: bold; line-height: 1; border-radius: 0.35em; vertical-align: middle; margin-left: 0.5rem\">PART_NUM</span>\n",
       "</mark>\n",
       " nbd to my hal in lenexa . thank you . </div></span>"
      ],
      "text/plain": [
       "<IPython.core.display.HTML object>"
      ]
     },
     "metadata": {},
     "output_type": "display_data"
    },
    {
     "name": "stdout",
     "output_type": "stream",
     "text": [
      "------------------------- predict entities -------------------------\n",
      "('98544-04105', 19, 30, 'PART_NUM')\n",
      "====================================================================================================\n",
      "please order qty 1 c8109-69018 nbd to my hal in lenexa . thank you . \n"
     ]
    },
    {
     "data": {
      "text/html": [
       "<span class=\"tex2jax_ignore\"><div class=\"entities\" style=\"line-height: 2.5; direction: ltr\">please order qty 1 \n",
       "<mark class=\"entity\" style=\"background: #92E0AA; padding: 0.45em 0.6em; margin: 0 0.25em; line-height: 1; border-radius: 0.35em;\">\n",
       "    c8109-69018\n",
       "    <span style=\"font-size: 0.8em; font-weight: bold; line-height: 1; border-radius: 0.35em; vertical-align: middle; margin-left: 0.5rem\">PART_NUM</span>\n",
       "</mark>\n",
       " nbd to my hal in lenexa . thank you . </div></span>"
      ],
      "text/plain": [
       "<IPython.core.display.HTML object>"
      ]
     },
     "metadata": {},
     "output_type": "display_data"
    },
    {
     "name": "stdout",
     "output_type": "stream",
     "text": [
      "------------------------- predict entities -------------------------\n",
      "('c8109-69018', 19, 30, 'PART_NUM')\n",
      "====================================================================================================\n",
      "please order qty 1 l26480-db1 nbd to my hal in lenexa . thank you . \n"
     ]
    },
    {
     "data": {
      "text/html": [
       "<span class=\"tex2jax_ignore\"><div class=\"entities\" style=\"line-height: 2.5; direction: ltr\">please order qty 1 \n",
       "<mark class=\"entity\" style=\"background: #92E0AA; padding: 0.45em 0.6em; margin: 0 0.25em; line-height: 1; border-radius: 0.35em;\">\n",
       "    l26480-db1\n",
       "    <span style=\"font-size: 0.8em; font-weight: bold; line-height: 1; border-radius: 0.35em; vertical-align: middle; margin-left: 0.5rem\">PART_NUM</span>\n",
       "</mark>\n",
       " nbd to my hal in lenexa . thank you . </div></span>"
      ],
      "text/plain": [
       "<IPython.core.display.HTML object>"
      ]
     },
     "metadata": {},
     "output_type": "display_data"
    },
    {
     "name": "stdout",
     "output_type": "stream",
     "text": [
      "------------------------- predict entities -------------------------\n",
      "('l26480-db1', 19, 29, 'PART_NUM')\n",
      "====================================================================================================\n",
      "please order qty 1 632427-001b nbd to my hal in lenexa . thank you . \n"
     ]
    },
    {
     "data": {
      "text/html": [
       "<span class=\"tex2jax_ignore\"><div class=\"entities\" style=\"line-height: 2.5; direction: ltr\">please order qty 1 \n",
       "<mark class=\"entity\" style=\"background: #92E0AA; padding: 0.45em 0.6em; margin: 0 0.25em; line-height: 1; border-radius: 0.35em;\">\n",
       "    632427-001b\n",
       "    <span style=\"font-size: 0.8em; font-weight: bold; line-height: 1; border-radius: 0.35em; vertical-align: middle; margin-left: 0.5rem\">PART_NUM</span>\n",
       "</mark>\n",
       " nbd to my hal in lenexa . thank you . </div></span>"
      ],
      "text/plain": [
       "<IPython.core.display.HTML object>"
      ]
     },
     "metadata": {},
     "output_type": "display_data"
    },
    {
     "name": "stdout",
     "output_type": "stream",
     "text": [
      "------------------------- predict entities -------------------------\n",
      "('632427-001b', 19, 30, 'PART_NUM')\n",
      "====================================================================================================\n",
      "please order qty 1 cn463-69003 nbd to my hal in lenexa . thank you . \n"
     ]
    },
    {
     "data": {
      "text/html": [
       "<span class=\"tex2jax_ignore\"><div class=\"entities\" style=\"line-height: 2.5; direction: ltr\">please order qty 1 \n",
       "<mark class=\"entity\" style=\"background: #92E0AA; padding: 0.45em 0.6em; margin: 0 0.25em; line-height: 1; border-radius: 0.35em;\">\n",
       "    cn463-69003\n",
       "    <span style=\"font-size: 0.8em; font-weight: bold; line-height: 1; border-radius: 0.35em; vertical-align: middle; margin-left: 0.5rem\">PART_NUM</span>\n",
       "</mark>\n",
       " nbd to my hal in lenexa . thank you . </div></span>"
      ],
      "text/plain": [
       "<IPython.core.display.HTML object>"
      ]
     },
     "metadata": {},
     "output_type": "display_data"
    },
    {
     "name": "stdout",
     "output_type": "stream",
     "text": [
      "------------------------- predict entities -------------------------\n",
      "('cn463-69003', 19, 30, 'PART_NUM')\n",
      "====================================================================================================\n",
      "please order qty 1 rm1-1298bulk nbd to my hal in lenexa . thank you . \n"
     ]
    },
    {
     "data": {
      "text/html": [
       "<span class=\"tex2jax_ignore\"><div class=\"entities\" style=\"line-height: 2.5; direction: ltr\">please order qty 1 \n",
       "<mark class=\"entity\" style=\"background: #92E0AA; padding: 0.45em 0.6em; margin: 0 0.25em; line-height: 1; border-radius: 0.35em;\">\n",
       "    rm1-1298bulk\n",
       "    <span style=\"font-size: 0.8em; font-weight: bold; line-height: 1; border-radius: 0.35em; vertical-align: middle; margin-left: 0.5rem\">PART_NUM</span>\n",
       "</mark>\n",
       " nbd to my hal in lenexa . thank you . </div></span>"
      ],
      "text/plain": [
       "<IPython.core.display.HTML object>"
      ]
     },
     "metadata": {},
     "output_type": "display_data"
    },
    {
     "name": "stdout",
     "output_type": "stream",
     "text": [
      "------------------------- predict entities -------------------------\n",
      "('rm1-1298bulk', 19, 31, 'PART_NUM')\n",
      "====================================================================================================\n",
      "please order qty 1 8-752-078-46 nbd to my hal in lenexa . thank you . \n"
     ]
    },
    {
     "data": {
      "text/html": [
       "<span class=\"tex2jax_ignore\"><div class=\"entities\" style=\"line-height: 2.5; direction: ltr\">please order qty 1 \n",
       "<mark class=\"entity\" style=\"background: #92E0AA; padding: 0.45em 0.6em; margin: 0 0.25em; line-height: 1; border-radius: 0.35em;\">\n",
       "    8-752-078-46\n",
       "    <span style=\"font-size: 0.8em; font-weight: bold; line-height: 1; border-radius: 0.35em; vertical-align: middle; margin-left: 0.5rem\">PART_NUM</span>\n",
       "</mark>\n",
       " nbd to my hal in lenexa . thank you . </div></span>"
      ],
      "text/plain": [
       "<IPython.core.display.HTML object>"
      ]
     },
     "metadata": {},
     "output_type": "display_data"
    },
    {
     "name": "stdout",
     "output_type": "stream",
     "text": [
      "------------------------- predict entities -------------------------\n",
      "('8-752-078-46', 19, 31, 'PART_NUM')\n",
      "====================================================================================================\n",
      "please order qty 1 x-4035-119-1 nbd to my hal in lenexa . thank you . \n"
     ]
    },
    {
     "data": {
      "text/html": [
       "<span class=\"tex2jax_ignore\"><div class=\"entities\" style=\"line-height: 2.5; direction: ltr\">please order qty 1 \n",
       "<mark class=\"entity\" style=\"background: #92E0AA; padding: 0.45em 0.6em; margin: 0 0.25em; line-height: 1; border-radius: 0.35em;\">\n",
       "    x-4035-119-1\n",
       "    <span style=\"font-size: 0.8em; font-weight: bold; line-height: 1; border-radius: 0.35em; vertical-align: middle; margin-left: 0.5rem\">PART_NUM</span>\n",
       "</mark>\n",
       " nbd to my hal in lenexa . thank you . </div></span>"
      ],
      "text/plain": [
       "<IPython.core.display.HTML object>"
      ]
     },
     "metadata": {},
     "output_type": "display_data"
    },
    {
     "name": "stdout",
     "output_type": "stream",
     "text": [
      "------------------------- predict entities -------------------------\n",
      "('x-4035-119-1', 19, 31, 'PART_NUM')\n",
      "====================================================================================================\n",
      "please order qty 1 tblb3002-a04 nbd to my hal in lenexa . thank you . \n"
     ]
    },
    {
     "data": {
      "text/html": [
       "<span class=\"tex2jax_ignore\"><div class=\"entities\" style=\"line-height: 2.5; direction: ltr\">please order qty 1 \n",
       "<mark class=\"entity\" style=\"background: #92E0AA; padding: 0.45em 0.6em; margin: 0 0.25em; line-height: 1; border-radius: 0.35em;\">\n",
       "    tblb3002-a04\n",
       "    <span style=\"font-size: 0.8em; font-weight: bold; line-height: 1; border-radius: 0.35em; vertical-align: middle; margin-left: 0.5rem\">PART_NUM</span>\n",
       "</mark>\n",
       " nbd to my hal in lenexa . thank you . </div></span>"
      ],
      "text/plain": [
       "<IPython.core.display.HTML object>"
      ]
     },
     "metadata": {},
     "output_type": "display_data"
    },
    {
     "name": "stdout",
     "output_type": "stream",
     "text": [
      "------------------------- predict entities -------------------------\n",
      "('tblb3002-a04', 19, 31, 'PART_NUM')\n",
      "====================================================================================================\n",
      "please order qty 1 4822-701-15319 nbd to my hal in lenexa . thank you . \n"
     ]
    },
    {
     "data": {
      "text/html": [
       "<span class=\"tex2jax_ignore\"><div class=\"entities\" style=\"line-height: 2.5; direction: ltr\">please order qty 1 \n",
       "<mark class=\"entity\" style=\"background: #92E0AA; padding: 0.45em 0.6em; margin: 0 0.25em; line-height: 1; border-radius: 0.35em;\">\n",
       "    4822-701-15319\n",
       "    <span style=\"font-size: 0.8em; font-weight: bold; line-height: 1; border-radius: 0.35em; vertical-align: middle; margin-left: 0.5rem\">PART_NUM</span>\n",
       "</mark>\n",
       " nbd to my hal in lenexa . thank you . </div></span>"
      ],
      "text/plain": [
       "<IPython.core.display.HTML object>"
      ]
     },
     "metadata": {},
     "output_type": "display_data"
    },
    {
     "name": "stdout",
     "output_type": "stream",
     "text": [
      "------------------------- predict entities -------------------------\n",
      "('4822-701-15319', 19, 33, 'PART_NUM')\n",
      "====================================================================================================\n",
      "please order qty 1 08-2212c-33w nbd to my hal in lenexa . thank you . \n"
     ]
    },
    {
     "data": {
      "text/html": [
       "<span class=\"tex2jax_ignore\"><div class=\"entities\" style=\"line-height: 2.5; direction: ltr\">please order qty 1 \n",
       "<mark class=\"entity\" style=\"background: #92E0AA; padding: 0.45em 0.6em; margin: 0 0.25em; line-height: 1; border-radius: 0.35em;\">\n",
       "    08-2212c-33w\n",
       "    <span style=\"font-size: 0.8em; font-weight: bold; line-height: 1; border-radius: 0.35em; vertical-align: middle; margin-left: 0.5rem\">PART_NUM</span>\n",
       "</mark>\n",
       " nbd to my hal in lenexa . thank you . </div></span>"
      ],
      "text/plain": [
       "<IPython.core.display.HTML object>"
      ]
     },
     "metadata": {},
     "output_type": "display_data"
    },
    {
     "name": "stdout",
     "output_type": "stream",
     "text": [
      "------------------------- predict entities -------------------------\n",
      "('08-2212c-33w', 19, 31, 'PART_NUM')\n",
      "====================================================================================================\n",
      "please order qty 1 19-40065-011 nbd to my hal in lenexa . thank you . \n"
     ]
    },
    {
     "data": {
      "text/html": [
       "<span class=\"tex2jax_ignore\"><div class=\"entities\" style=\"line-height: 2.5; direction: ltr\">please order qty 1 \n",
       "<mark class=\"entity\" style=\"background: #92E0AA; padding: 0.45em 0.6em; margin: 0 0.25em; line-height: 1; border-radius: 0.35em;\">\n",
       "    19-40065-011\n",
       "    <span style=\"font-size: 0.8em; font-weight: bold; line-height: 1; border-radius: 0.35em; vertical-align: middle; margin-left: 0.5rem\">PART_NUM</span>\n",
       "</mark>\n",
       " nbd to my hal in lenexa . thank you . </div></span>"
      ],
      "text/plain": [
       "<IPython.core.display.HTML object>"
      ]
     },
     "metadata": {},
     "output_type": "display_data"
    },
    {
     "name": "stdout",
     "output_type": "stream",
     "text": [
      "------------------------- predict entities -------------------------\n",
      "('19-40065-011', 19, 31, 'PART_NUM')\n",
      "====================================================================================================\n",
      "please order qty 1 att09850-66532 nbd to my hal in lenexa . thank you . \n"
     ]
    },
    {
     "data": {
      "text/html": [
       "<span class=\"tex2jax_ignore\"><div class=\"entities\" style=\"line-height: 2.5; direction: ltr\">please order qty 1 \n",
       "<mark class=\"entity\" style=\"background: #92E0AA; padding: 0.45em 0.6em; margin: 0 0.25em; line-height: 1; border-radius: 0.35em;\">\n",
       "    att09850-66532\n",
       "    <span style=\"font-size: 0.8em; font-weight: bold; line-height: 1; border-radius: 0.35em; vertical-align: middle; margin-left: 0.5rem\">PART_NUM</span>\n",
       "</mark>\n",
       " nbd to my hal in lenexa . thank you . </div></span>"
      ],
      "text/plain": [
       "<IPython.core.display.HTML object>"
      ]
     },
     "metadata": {},
     "output_type": "display_data"
    },
    {
     "name": "stdout",
     "output_type": "stream",
     "text": [
      "------------------------- predict entities -------------------------\n",
      "('att09850-66532', 19, 33, 'PART_NUM')\n",
      "====================================================================================================\n",
      "please order qty 1 98564-66572-sq nbd to my hal in lenexa . thank you . \n"
     ]
    },
    {
     "data": {
      "text/html": [
       "<span class=\"tex2jax_ignore\"><div class=\"entities\" style=\"line-height: 2.5; direction: ltr\">please order qty 1 \n",
       "<mark class=\"entity\" style=\"background: #92E0AA; padding: 0.45em 0.6em; margin: 0 0.25em; line-height: 1; border-radius: 0.35em;\">\n",
       "    98564-66572-sq\n",
       "    <span style=\"font-size: 0.8em; font-weight: bold; line-height: 1; border-radius: 0.35em; vertical-align: middle; margin-left: 0.5rem\">PART_NUM</span>\n",
       "</mark>\n",
       " nbd to my hal in lenexa . thank you . </div></span>"
      ],
      "text/plain": [
       "<IPython.core.display.HTML object>"
      ]
     },
     "metadata": {},
     "output_type": "display_data"
    },
    {
     "name": "stdout",
     "output_type": "stream",
     "text": [
      "------------------------- predict entities -------------------------\n",
      "('98564-66572-sq', 19, 33, 'PART_NUM')\n",
      "====================================================================================================\n",
      "please order qty 1 897-250144aa nbd to my hal in lenexa . thank you . \n"
     ]
    },
    {
     "data": {
      "text/html": [
       "<span class=\"tex2jax_ignore\"><div class=\"entities\" style=\"line-height: 2.5; direction: ltr\">please order qty 1 \n",
       "<mark class=\"entity\" style=\"background: #92E0AA; padding: 0.45em 0.6em; margin: 0 0.25em; line-height: 1; border-radius: 0.35em;\">\n",
       "    897-250144aa\n",
       "    <span style=\"font-size: 0.8em; font-weight: bold; line-height: 1; border-radius: 0.35em; vertical-align: middle; margin-left: 0.5rem\">PART_NUM</span>\n",
       "</mark>\n",
       " nbd to my hal in lenexa . thank you . </div></span>"
      ],
      "text/plain": [
       "<IPython.core.display.HTML object>"
      ]
     },
     "metadata": {},
     "output_type": "display_data"
    },
    {
     "name": "stdout",
     "output_type": "stream",
     "text": [
      "------------------------- predict entities -------------------------\n",
      "('897-250144aa', 19, 31, 'PART_NUM')\n",
      "====================================================================================================\n",
      "please order qty 1 738-576-94 nbd to my hal in lenexa . thank you . \n"
     ]
    },
    {
     "data": {
      "text/html": [
       "<span class=\"tex2jax_ignore\"><div class=\"entities\" style=\"line-height: 2.5; direction: ltr\">please order qty 1 \n",
       "<mark class=\"entity\" style=\"background: #92E0AA; padding: 0.45em 0.6em; margin: 0 0.25em; line-height: 1; border-radius: 0.35em;\">\n",
       "    738-576-94\n",
       "    <span style=\"font-size: 0.8em; font-weight: bold; line-height: 1; border-radius: 0.35em; vertical-align: middle; margin-left: 0.5rem\">PART_NUM</span>\n",
       "</mark>\n",
       " nbd to my hal in lenexa . thank you . </div></span>"
      ],
      "text/plain": [
       "<IPython.core.display.HTML object>"
      ]
     },
     "metadata": {},
     "output_type": "display_data"
    },
    {
     "name": "stdout",
     "output_type": "stream",
     "text": [
      "------------------------- predict entities -------------------------\n",
      "('738-576-94', 19, 29, 'PART_NUM')\n",
      "====================================================================================================\n",
      "please order qty 1 1fq6-0001 nbd to my hal in lenexa . thank you . \n"
     ]
    },
    {
     "data": {
      "text/html": [
       "<span class=\"tex2jax_ignore\"><div class=\"entities\" style=\"line-height: 2.5; direction: ltr\">please order qty 1 \n",
       "<mark class=\"entity\" style=\"background: #92E0AA; padding: 0.45em 0.6em; margin: 0 0.25em; line-height: 1; border-radius: 0.35em;\">\n",
       "    1fq6-0001\n",
       "    <span style=\"font-size: 0.8em; font-weight: bold; line-height: 1; border-radius: 0.35em; vertical-align: middle; margin-left: 0.5rem\">PART_NUM</span>\n",
       "</mark>\n",
       " nbd to my hal in lenexa . thank you . </div></span>"
      ],
      "text/plain": [
       "<IPython.core.display.HTML object>"
      ]
     },
     "metadata": {},
     "output_type": "display_data"
    },
    {
     "name": "stdout",
     "output_type": "stream",
     "text": [
      "------------------------- predict entities -------------------------\n",
      "('1fq6-0001', 19, 28, 'PART_NUM')\n",
      "====================================================================================================\n",
      "please order qty 1 1818-7469-lgsa nbd to my hal in lenexa . thank you . \n"
     ]
    },
    {
     "data": {
      "text/html": [
       "<span class=\"tex2jax_ignore\"><div class=\"entities\" style=\"line-height: 2.5; direction: ltr\">please order qty 1 \n",
       "<mark class=\"entity\" style=\"background: #92E0AA; padding: 0.45em 0.6em; margin: 0 0.25em; line-height: 1; border-radius: 0.35em;\">\n",
       "    1818-7469-lgsa\n",
       "    <span style=\"font-size: 0.8em; font-weight: bold; line-height: 1; border-radius: 0.35em; vertical-align: middle; margin-left: 0.5rem\">PART_NUM</span>\n",
       "</mark>\n",
       " nbd to my hal in lenexa . thank you . </div></span>"
      ],
      "text/plain": [
       "<IPython.core.display.HTML object>"
      ]
     },
     "metadata": {},
     "output_type": "display_data"
    },
    {
     "name": "stdout",
     "output_type": "stream",
     "text": [
      "------------------------- predict entities -------------------------\n",
      "('1818-7469-lgsa', 19, 33, 'PART_NUM')\n",
      "====================================================================================================\n",
      "please order qty 1 1820-6361m nbd to my hal in lenexa . thank you . \n"
     ]
    },
    {
     "data": {
      "text/html": [
       "<span class=\"tex2jax_ignore\"><div class=\"entities\" style=\"line-height: 2.5; direction: ltr\">please order qty 1 \n",
       "<mark class=\"entity\" style=\"background: #92E0AA; padding: 0.45em 0.6em; margin: 0 0.25em; line-height: 1; border-radius: 0.35em;\">\n",
       "    1820-6361m\n",
       "    <span style=\"font-size: 0.8em; font-weight: bold; line-height: 1; border-radius: 0.35em; vertical-align: middle; margin-left: 0.5rem\">PART_NUM</span>\n",
       "</mark>\n",
       " nbd to my hal in lenexa . thank you . </div></span>"
      ],
      "text/plain": [
       "<IPython.core.display.HTML object>"
      ]
     },
     "metadata": {},
     "output_type": "display_data"
    },
    {
     "name": "stdout",
     "output_type": "stream",
     "text": [
      "------------------------- predict entities -------------------------\n",
      "('1820-6361m', 19, 29, 'PART_NUM')\n",
      "====================================================================================================\n",
      "please order qty 1 1818-6868-sam nbd to my hal in lenexa . thank you . \n"
     ]
    },
    {
     "data": {
      "text/html": [
       "<span class=\"tex2jax_ignore\"><div class=\"entities\" style=\"line-height: 2.5; direction: ltr\">please order qty 1 \n",
       "<mark class=\"entity\" style=\"background: #92E0AA; padding: 0.45em 0.6em; margin: 0 0.25em; line-height: 1; border-radius: 0.35em;\">\n",
       "    1818-6868-sam\n",
       "    <span style=\"font-size: 0.8em; font-weight: bold; line-height: 1; border-radius: 0.35em; vertical-align: middle; margin-left: 0.5rem\">PART_NUM</span>\n",
       "</mark>\n",
       " nbd to my hal in lenexa . thank you . </div></span>"
      ],
      "text/plain": [
       "<IPython.core.display.HTML object>"
      ]
     },
     "metadata": {},
     "output_type": "display_data"
    },
    {
     "name": "stdout",
     "output_type": "stream",
     "text": [
      "------------------------- predict entities -------------------------\n",
      "('1818-6868-sam', 19, 32, 'PART_NUM')\n",
      "====================================================================================================\n",
      "please order qty 1 3138-107-96160 nbd to my hal in lenexa . thank you . \n"
     ]
    },
    {
     "data": {
      "text/html": [
       "<span class=\"tex2jax_ignore\"><div class=\"entities\" style=\"line-height: 2.5; direction: ltr\">please order qty 1 \n",
       "<mark class=\"entity\" style=\"background: #92E0AA; padding: 0.45em 0.6em; margin: 0 0.25em; line-height: 1; border-radius: 0.35em;\">\n",
       "    3138-107-96160\n",
       "    <span style=\"font-size: 0.8em; font-weight: bold; line-height: 1; border-radius: 0.35em; vertical-align: middle; margin-left: 0.5rem\">PART_NUM</span>\n",
       "</mark>\n",
       " nbd to my hal in lenexa . thank you . </div></span>"
      ],
      "text/plain": [
       "<IPython.core.display.HTML object>"
      ]
     },
     "metadata": {},
     "output_type": "display_data"
    },
    {
     "name": "stdout",
     "output_type": "stream",
     "text": [
      "------------------------- predict entities -------------------------\n",
      "('3138-107-96160', 19, 33, 'PART_NUM')\n",
      "====================================================================================================\n",
      "please order qty 1 686858r-999 nbd to my hal in lenexa . thank you . \n"
     ]
    },
    {
     "data": {
      "text/html": [
       "<span class=\"tex2jax_ignore\"><div class=\"entities\" style=\"line-height: 2.5; direction: ltr\">please order qty 1 \n",
       "<mark class=\"entity\" style=\"background: #92E0AA; padding: 0.45em 0.6em; margin: 0 0.25em; line-height: 1; border-radius: 0.35em;\">\n",
       "    686858r-999\n",
       "    <span style=\"font-size: 0.8em; font-weight: bold; line-height: 1; border-radius: 0.35em; vertical-align: middle; margin-left: 0.5rem\">PART_NUM</span>\n",
       "</mark>\n",
       " nbd to my hal in lenexa . thank you . </div></span>"
      ],
      "text/plain": [
       "<IPython.core.display.HTML object>"
      ]
     },
     "metadata": {},
     "output_type": "display_data"
    },
    {
     "name": "stdout",
     "output_type": "stream",
     "text": [
      "------------------------- predict entities -------------------------\n",
      "('686858r-999', 19, 30, 'PART_NUM')\n",
      "====================================================================================================\n",
      "please order qty 1 md30c-a2 nbd to my hal in lenexa . thank you . \n"
     ]
    },
    {
     "data": {
      "text/html": [
       "<span class=\"tex2jax_ignore\"><div class=\"entities\" style=\"line-height: 2.5; direction: ltr\">please order qty 1 \n",
       "<mark class=\"entity\" style=\"background: #92E0AA; padding: 0.45em 0.6em; margin: 0 0.25em; line-height: 1; border-radius: 0.35em;\">\n",
       "    md30c-a2\n",
       "    <span style=\"font-size: 0.8em; font-weight: bold; line-height: 1; border-radius: 0.35em; vertical-align: middle; margin-left: 0.5rem\">PART_NUM</span>\n",
       "</mark>\n",
       " nbd to my hal in lenexa . thank you . </div></span>"
      ],
      "text/plain": [
       "<IPython.core.display.HTML object>"
      ]
     },
     "metadata": {},
     "output_type": "display_data"
    },
    {
     "name": "stdout",
     "output_type": "stream",
     "text": [
      "------------------------- predict entities -------------------------\n",
      "('md30c-a2', 19, 27, 'PART_NUM')\n",
      "====================================================================================================\n",
      "please order qty 1 29-26196-00 nbd to my hal in lenexa . thank you . \n"
     ]
    },
    {
     "data": {
      "text/html": [
       "<span class=\"tex2jax_ignore\"><div class=\"entities\" style=\"line-height: 2.5; direction: ltr\">please order qty 1 \n",
       "<mark class=\"entity\" style=\"background: #92E0AA; padding: 0.45em 0.6em; margin: 0 0.25em; line-height: 1; border-radius: 0.35em;\">\n",
       "    29-26196-00\n",
       "    <span style=\"font-size: 0.8em; font-weight: bold; line-height: 1; border-radius: 0.35em; vertical-align: middle; margin-left: 0.5rem\">PART_NUM</span>\n",
       "</mark>\n",
       " nbd to my hal in lenexa . thank you . </div></span>"
      ],
      "text/plain": [
       "<IPython.core.display.HTML object>"
      ]
     },
     "metadata": {},
     "output_type": "display_data"
    },
    {
     "name": "stdout",
     "output_type": "stream",
     "text": [
      "------------------------- predict entities -------------------------\n",
      "('29-26196-00', 19, 30, 'PART_NUM')\n",
      "====================================================================================================\n",
      "please order qty 1 del-7d092 nbd to my hal in lenexa . thank you . \n"
     ]
    },
    {
     "data": {
      "text/html": [
       "<span class=\"tex2jax_ignore\"><div class=\"entities\" style=\"line-height: 2.5; direction: ltr\">please order qty 1 \n",
       "<mark class=\"entity\" style=\"background: #92E0AA; padding: 0.45em 0.6em; margin: 0 0.25em; line-height: 1; border-radius: 0.35em;\">\n",
       "    del-7d092\n",
       "    <span style=\"font-size: 0.8em; font-weight: bold; line-height: 1; border-radius: 0.35em; vertical-align: middle; margin-left: 0.5rem\">PART_NUM</span>\n",
       "</mark>\n",
       " nbd to my hal in lenexa . thank you . </div></span>"
      ],
      "text/plain": [
       "<IPython.core.display.HTML object>"
      ]
     },
     "metadata": {},
     "output_type": "display_data"
    },
    {
     "name": "stdout",
     "output_type": "stream",
     "text": [
      "------------------------- predict entities -------------------------\n",
      "('del-7d092', 19, 28, 'PART_NUM')\n",
      "====================================================================================================\n",
      "please order qty 1 lex-40x2384 nbd to my hal in lenexa . thank you . \n"
     ]
    },
    {
     "data": {
      "text/html": [
       "<span class=\"tex2jax_ignore\"><div class=\"entities\" style=\"line-height: 2.5; direction: ltr\">please order qty 1 \n",
       "<mark class=\"entity\" style=\"background: #92E0AA; padding: 0.45em 0.6em; margin: 0 0.25em; line-height: 1; border-radius: 0.35em;\">\n",
       "    lex-40x2384\n",
       "    <span style=\"font-size: 0.8em; font-weight: bold; line-height: 1; border-radius: 0.35em; vertical-align: middle; margin-left: 0.5rem\">PART_NUM</span>\n",
       "</mark>\n",
       " nbd to my hal in lenexa . thank you . </div></span>"
      ],
      "text/plain": [
       "<IPython.core.display.HTML object>"
      ]
     },
     "metadata": {},
     "output_type": "display_data"
    },
    {
     "name": "stdout",
     "output_type": "stream",
     "text": [
      "------------------------- predict entities -------------------------\n",
      "('lex-40x2384', 19, 30, 'PART_NUM')\n",
      "====================================================================================================\n",
      "please order qty 1 lex-40x2831h nbd to my hal in lenexa . thank you . \n"
     ]
    },
    {
     "data": {
      "text/html": [
       "<span class=\"tex2jax_ignore\"><div class=\"entities\" style=\"line-height: 2.5; direction: ltr\">please order qty 1 \n",
       "<mark class=\"entity\" style=\"background: #92E0AA; padding: 0.45em 0.6em; margin: 0 0.25em; line-height: 1; border-radius: 0.35em;\">\n",
       "    lex-40x2831h\n",
       "    <span style=\"font-size: 0.8em; font-weight: bold; line-height: 1; border-radius: 0.35em; vertical-align: middle; margin-left: 0.5rem\">PART_NUM</span>\n",
       "</mark>\n",
       " nbd to my hal in lenexa . thank you . </div></span>"
      ],
      "text/plain": [
       "<IPython.core.display.HTML object>"
      ]
     },
     "metadata": {},
     "output_type": "display_data"
    },
    {
     "name": "stdout",
     "output_type": "stream",
     "text": [
      "------------------------- predict entities -------------------------\n",
      "('lex-40x2831h', 19, 31, 'PART_NUM')\n",
      "====================================================================================================\n",
      "please order qty 1 sam-6107001172 nbd to my hal in lenexa . thank you . \n"
     ]
    },
    {
     "data": {
      "text/html": [
       "<span class=\"tex2jax_ignore\"><div class=\"entities\" style=\"line-height: 2.5; direction: ltr\">please order qty 1 \n",
       "<mark class=\"entity\" style=\"background: #92E0AA; padding: 0.45em 0.6em; margin: 0 0.25em; line-height: 1; border-radius: 0.35em;\">\n",
       "    sam-6107001172\n",
       "    <span style=\"font-size: 0.8em; font-weight: bold; line-height: 1; border-radius: 0.35em; vertical-align: middle; margin-left: 0.5rem\">PART_NUM</span>\n",
       "</mark>\n",
       " nbd to my hal in lenexa . thank you . </div></span>"
      ],
      "text/plain": [
       "<IPython.core.display.HTML object>"
      ]
     },
     "metadata": {},
     "output_type": "display_data"
    },
    {
     "name": "stdout",
     "output_type": "stream",
     "text": [
      "------------------------- predict entities -------------------------\n",
      "('sam-6107001172', 19, 33, 'PART_NUM')\n",
      "====================================================================================================\n",
      "please order qty 1 sha-1625ds51 nbd to my hal in lenexa . thank you . \n"
     ]
    },
    {
     "data": {
      "text/html": [
       "<span class=\"tex2jax_ignore\"><div class=\"entities\" style=\"line-height: 2.5; direction: ltr\">please order qty 1 \n",
       "<mark class=\"entity\" style=\"background: #92E0AA; padding: 0.45em 0.6em; margin: 0 0.25em; line-height: 1; border-radius: 0.35em;\">\n",
       "    sha-1625ds51\n",
       "    <span style=\"font-size: 0.8em; font-weight: bold; line-height: 1; border-radius: 0.35em; vertical-align: middle; margin-left: 0.5rem\">PART_NUM</span>\n",
       "</mark>\n",
       " nbd to my hal in lenexa . thank you . </div></span>"
      ],
      "text/plain": [
       "<IPython.core.display.HTML object>"
      ]
     },
     "metadata": {},
     "output_type": "display_data"
    },
    {
     "name": "stdout",
     "output_type": "stream",
     "text": [
      "------------------------- predict entities -------------------------\n",
      "('sha-1625ds51', 19, 31, 'PART_NUM')\n",
      "====================================================================================================\n",
      "please order qty 1 xer-006r01275 nbd to my hal in lenexa . thank you . \n"
     ]
    },
    {
     "data": {
      "text/html": [
       "<span class=\"tex2jax_ignore\"><div class=\"entities\" style=\"line-height: 2.5; direction: ltr\">please order qty 1 \n",
       "<mark class=\"entity\" style=\"background: #92E0AA; padding: 0.45em 0.6em; margin: 0 0.25em; line-height: 1; border-radius: 0.35em;\">\n",
       "    xer-006r01275\n",
       "    <span style=\"font-size: 0.8em; font-weight: bold; line-height: 1; border-radius: 0.35em; vertical-align: middle; margin-left: 0.5rem\">PART_NUM</span>\n",
       "</mark>\n",
       " nbd to my hal in lenexa . thank you . </div></span>"
      ],
      "text/plain": [
       "<IPython.core.display.HTML object>"
      ]
     },
     "metadata": {},
     "output_type": "display_data"
    },
    {
     "name": "stdout",
     "output_type": "stream",
     "text": [
      "------------------------- predict entities -------------------------\n",
      "('xer-006r01275', 19, 32, 'PART_NUM')\n",
      "====================================================================================================\n",
      "please order qty 1 bro-tn115bk nbd to my hal in lenexa . thank you . \n"
     ]
    },
    {
     "data": {
      "text/html": [
       "<span class=\"tex2jax_ignore\"><div class=\"entities\" style=\"line-height: 2.5; direction: ltr\">please order qty 1 \n",
       "<mark class=\"entity\" style=\"background: #92E0AA; padding: 0.45em 0.6em; margin: 0 0.25em; line-height: 1; border-radius: 0.35em;\">\n",
       "    bro-tn115bk\n",
       "    <span style=\"font-size: 0.8em; font-weight: bold; line-height: 1; border-radius: 0.35em; vertical-align: middle; margin-left: 0.5rem\">PART_NUM</span>\n",
       "</mark>\n",
       " nbd to my hal in lenexa . thank you . </div></span>"
      ],
      "text/plain": [
       "<IPython.core.display.HTML object>"
      ]
     },
     "metadata": {},
     "output_type": "display_data"
    },
    {
     "name": "stdout",
     "output_type": "stream",
     "text": [
      "------------------------- predict entities -------------------------\n",
      "('bro-tn115bk', 19, 30, 'PART_NUM')\n",
      "====================================================================================================\n",
      "please order qty 1 del-310-5811 nbd to my hal in lenexa . thank you . \n"
     ]
    },
    {
     "data": {
      "text/html": [
       "<span class=\"tex2jax_ignore\"><div class=\"entities\" style=\"line-height: 2.5; direction: ltr\">please order qty 1 \n",
       "<mark class=\"entity\" style=\"background: #92E0AA; padding: 0.45em 0.6em; margin: 0 0.25em; line-height: 1; border-radius: 0.35em;\">\n",
       "    del-310-5811\n",
       "    <span style=\"font-size: 0.8em; font-weight: bold; line-height: 1; border-radius: 0.35em; vertical-align: middle; margin-left: 0.5rem\">PART_NUM</span>\n",
       "</mark>\n",
       " nbd to my hal in lenexa . thank you . </div></span>"
      ],
      "text/plain": [
       "<IPython.core.display.HTML object>"
      ]
     },
     "metadata": {},
     "output_type": "display_data"
    },
    {
     "name": "stdout",
     "output_type": "stream",
     "text": [
      "------------------------- predict entities -------------------------\n",
      "('del-310-5811', 19, 31, 'PART_NUM')\n",
      "====================================================================================================\n",
      "please order qty 1 del-pk496 nbd to my hal in lenexa . thank you . \n"
     ]
    },
    {
     "data": {
      "text/html": [
       "<span class=\"tex2jax_ignore\"><div class=\"entities\" style=\"line-height: 2.5; direction: ltr\">please order qty 1 \n",
       "<mark class=\"entity\" style=\"background: #92E0AA; padding: 0.45em 0.6em; margin: 0 0.25em; line-height: 1; border-radius: 0.35em;\">\n",
       "    del-pk496\n",
       "    <span style=\"font-size: 0.8em; font-weight: bold; line-height: 1; border-radius: 0.35em; vertical-align: middle; margin-left: 0.5rem\">PART_NUM</span>\n",
       "</mark>\n",
       " nbd to my hal in lenexa . thank you . </div></span>"
      ],
      "text/plain": [
       "<IPython.core.display.HTML object>"
      ]
     },
     "metadata": {},
     "output_type": "display_data"
    },
    {
     "name": "stdout",
     "output_type": "stream",
     "text": [
      "------------------------- predict entities -------------------------\n",
      "('del-pk496', 19, 28, 'PART_NUM')\n",
      "====================================================================================================\n",
      "please order qty 1 kyo-1702f97us0 nbd to my hal in lenexa . thank you . \n"
     ]
    },
    {
     "data": {
      "text/html": [
       "<span class=\"tex2jax_ignore\"><div class=\"entities\" style=\"line-height: 2.5; direction: ltr\">please order qty 1 \n",
       "<mark class=\"entity\" style=\"background: #92E0AA; padding: 0.45em 0.6em; margin: 0 0.25em; line-height: 1; border-radius: 0.35em;\">\n",
       "    kyo-1702f97us0\n",
       "    <span style=\"font-size: 0.8em; font-weight: bold; line-height: 1; border-radius: 0.35em; vertical-align: middle; margin-left: 0.5rem\">PART_NUM</span>\n",
       "</mark>\n",
       " nbd to my hal in lenexa . thank you . </div></span>"
      ],
      "text/plain": [
       "<IPython.core.display.HTML object>"
      ]
     },
     "metadata": {},
     "output_type": "display_data"
    },
    {
     "name": "stdout",
     "output_type": "stream",
     "text": [
      "------------------------- predict entities -------------------------\n",
      "('kyo-1702f97us0', 19, 33, 'PART_NUM')\n",
      "====================================================================================================\n",
      "please order qty 1 la95-ca nbd to my hal in lenexa . thank you . \n"
     ]
    },
    {
     "data": {
      "text/html": [
       "<span class=\"tex2jax_ignore\"><div class=\"entities\" style=\"line-height: 2.5; direction: ltr\">please order qty 1 \n",
       "<mark class=\"entity\" style=\"background: #92E0AA; padding: 0.45em 0.6em; margin: 0 0.25em; line-height: 1; border-radius: 0.35em;\">\n",
       "    la95-ca\n",
       "    <span style=\"font-size: 0.8em; font-weight: bold; line-height: 1; border-radius: 0.35em; vertical-align: middle; margin-left: 0.5rem\">PART_NUM</span>\n",
       "</mark>\n",
       " nbd to my hal in lenexa . thank you . </div></span>"
      ],
      "text/plain": [
       "<IPython.core.display.HTML object>"
      ]
     },
     "metadata": {},
     "output_type": "display_data"
    },
    {
     "name": "stdout",
     "output_type": "stream",
     "text": [
      "------------------------- predict entities -------------------------\n",
      "('la95-ca', 19, 26, 'PART_NUM')\n",
      "====================================================================================================\n",
      "please order qty 1 kyo-dk-310h nbd to my hal in lenexa . thank you . \n"
     ]
    },
    {
     "data": {
      "text/html": [
       "<span class=\"tex2jax_ignore\"><div class=\"entities\" style=\"line-height: 2.5; direction: ltr\">please order qty 1 \n",
       "<mark class=\"entity\" style=\"background: #92E0AA; padding: 0.45em 0.6em; margin: 0 0.25em; line-height: 1; border-radius: 0.35em;\">\n",
       "    kyo-dk-310h\n",
       "    <span style=\"font-size: 0.8em; font-weight: bold; line-height: 1; border-radius: 0.35em; vertical-align: middle; margin-left: 0.5rem\">PART_NUM</span>\n",
       "</mark>\n",
       " nbd to my hal in lenexa . thank you . </div></span>"
      ],
      "text/plain": [
       "<IPython.core.display.HTML object>"
      ]
     },
     "metadata": {},
     "output_type": "display_data"
    },
    {
     "name": "stdout",
     "output_type": "stream",
     "text": [
      "------------------------- predict entities -------------------------\n",
      "('kyo-dk-310h', 19, 30, 'PART_NUM')\n",
      "====================================================================================================\n",
      "please order qty 1 eps-c31cd38a9921 nbd to my hal in lenexa . thank you . \n"
     ]
    },
    {
     "data": {
      "text/html": [
       "<span class=\"tex2jax_ignore\"><div class=\"entities\" style=\"line-height: 2.5; direction: ltr\">please order qty 1 \n",
       "<mark class=\"entity\" style=\"background: #92E0AA; padding: 0.45em 0.6em; margin: 0 0.25em; line-height: 1; border-radius: 0.35em;\">\n",
       "    eps-c31cd38a9921\n",
       "    <span style=\"font-size: 0.8em; font-weight: bold; line-height: 1; border-radius: 0.35em; vertical-align: middle; margin-left: 0.5rem\">PART_NUM</span>\n",
       "</mark>\n",
       " nbd to my hal in lenexa . thank you . </div></span>"
      ],
      "text/plain": [
       "<IPython.core.display.HTML object>"
      ]
     },
     "metadata": {},
     "output_type": "display_data"
    },
    {
     "name": "stdout",
     "output_type": "stream",
     "text": [
      "------------------------- predict entities -------------------------\n",
      "('eps-c31cd38a9921', 19, 35, 'PART_NUM')\n",
      "====================================================================================================\n",
      "please order qty 1 kyo-f994091h nbd to my hal in lenexa . thank you . \n"
     ]
    },
    {
     "data": {
      "text/html": [
       "<span class=\"tex2jax_ignore\"><div class=\"entities\" style=\"line-height: 2.5; direction: ltr\">please order qty 1 \n",
       "<mark class=\"entity\" style=\"background: #92E0AA; padding: 0.45em 0.6em; margin: 0 0.25em; line-height: 1; border-radius: 0.35em;\">\n",
       "    kyo-f994091h\n",
       "    <span style=\"font-size: 0.8em; font-weight: bold; line-height: 1; border-radius: 0.35em; vertical-align: middle; margin-left: 0.5rem\">PART_NUM</span>\n",
       "</mark>\n",
       " nbd to my hal in lenexa . thank you . </div></span>"
      ],
      "text/plain": [
       "<IPython.core.display.HTML object>"
      ]
     },
     "metadata": {},
     "output_type": "display_data"
    },
    {
     "name": "stdout",
     "output_type": "stream",
     "text": [
      "------------------------- predict entities -------------------------\n",
      "('kyo-f994091h', 19, 31, 'PART_NUM')\n",
      "====================================================================================================\n",
      "please order qty 1 eps-ceps-003g nbd to my hal in lenexa . thank you . \n"
     ]
    },
    {
     "data": {
      "text/html": [
       "<span class=\"tex2jax_ignore\"><div class=\"entities\" style=\"line-height: 2.5; direction: ltr\">please order qty 1 \n",
       "<mark class=\"entity\" style=\"background: #92E0AA; padding: 0.45em 0.6em; margin: 0 0.25em; line-height: 1; border-radius: 0.35em;\">\n",
       "    eps-ceps-003g\n",
       "    <span style=\"font-size: 0.8em; font-weight: bold; line-height: 1; border-radius: 0.35em; vertical-align: middle; margin-left: 0.5rem\">PART_NUM</span>\n",
       "</mark>\n",
       " nbd to my hal in lenexa . thank you . </div></span>"
      ],
      "text/plain": [
       "<IPython.core.display.HTML object>"
      ]
     },
     "metadata": {},
     "output_type": "display_data"
    },
    {
     "name": "stdout",
     "output_type": "stream",
     "text": [
      "------------------------- predict entities -------------------------\n",
      "('eps-ceps-003g', 19, 32, 'PART_NUM')\n",
      "====================================================================================================\n",
      "please order qty 1 lex-24015sa nbd to my hal in lenexa . thank you . \n"
     ]
    },
    {
     "data": {
      "text/html": [
       "<span class=\"tex2jax_ignore\"><div class=\"entities\" style=\"line-height: 2.5; direction: ltr\">please order qty 1 \n",
       "<mark class=\"entity\" style=\"background: #92E0AA; padding: 0.45em 0.6em; margin: 0 0.25em; line-height: 1; border-radius: 0.35em;\">\n",
       "    lex-24015sa\n",
       "    <span style=\"font-size: 0.8em; font-weight: bold; line-height: 1; border-radius: 0.35em; vertical-align: middle; margin-left: 0.5rem\">PART_NUM</span>\n",
       "</mark>\n",
       " nbd to my hal in lenexa . thank you . </div></span>"
      ],
      "text/plain": [
       "<IPython.core.display.HTML object>"
      ]
     },
     "metadata": {},
     "output_type": "display_data"
    },
    {
     "name": "stdout",
     "output_type": "stream",
     "text": [
      "------------------------- predict entities -------------------------\n",
      "('lex-24015sa', 19, 30, 'PART_NUM')\n",
      "====================================================================================================\n",
      "please order qty 1 lex-62d1x00 nbd to my hal in lenexa . thank you . \n"
     ]
    },
    {
     "data": {
      "text/html": [
       "<span class=\"tex2jax_ignore\"><div class=\"entities\" style=\"line-height: 2.5; direction: ltr\">please order qty 1 \n",
       "<mark class=\"entity\" style=\"background: #92E0AA; padding: 0.45em 0.6em; margin: 0 0.25em; line-height: 1; border-radius: 0.35em;\">\n",
       "    lex-62d1x00\n",
       "    <span style=\"font-size: 0.8em; font-weight: bold; line-height: 1; border-radius: 0.35em; vertical-align: middle; margin-left: 0.5rem\">PART_NUM</span>\n",
       "</mark>\n",
       " nbd to my hal in lenexa . thank you . </div></span>"
      ],
      "text/plain": [
       "<IPython.core.display.HTML object>"
      ]
     },
     "metadata": {},
     "output_type": "display_data"
    },
    {
     "name": "stdout",
     "output_type": "stream",
     "text": [
      "------------------------- predict entities -------------------------\n",
      "('lex-62d1x00', 19, 30, 'PART_NUM')\n",
      "====================================================================================================\n",
      "please order qty 1 lex-72k0dv0 nbd to my hal in lenexa . thank you . \n"
     ]
    },
    {
     "data": {
      "text/html": [
       "<span class=\"tex2jax_ignore\"><div class=\"entities\" style=\"line-height: 2.5; direction: ltr\">please order qty 1 \n",
       "<mark class=\"entity\" style=\"background: #92E0AA; padding: 0.45em 0.6em; margin: 0 0.25em; line-height: 1; border-radius: 0.35em;\">\n",
       "    lex-72k0dv0\n",
       "    <span style=\"font-size: 0.8em; font-weight: bold; line-height: 1; border-radius: 0.35em; vertical-align: middle; margin-left: 0.5rem\">PART_NUM</span>\n",
       "</mark>\n",
       " nbd to my hal in lenexa . thank you . </div></span>"
      ],
      "text/plain": [
       "<IPython.core.display.HTML object>"
      ]
     },
     "metadata": {},
     "output_type": "display_data"
    },
    {
     "name": "stdout",
     "output_type": "stream",
     "text": [
      "------------------------- predict entities -------------------------\n",
      "('lex-72k0dv0', 19, 30, 'PART_NUM')\n",
      "====================================================================================================\n",
      "please order qty 1 lex-801hc nbd to my hal in lenexa . thank you . \n"
     ]
    },
    {
     "data": {
      "text/html": [
       "<span class=\"tex2jax_ignore\"><div class=\"entities\" style=\"line-height: 2.5; direction: ltr\">please order qty 1 \n",
       "<mark class=\"entity\" style=\"background: #92E0AA; padding: 0.45em 0.6em; margin: 0 0.25em; line-height: 1; border-radius: 0.35em;\">\n",
       "    lex-801hc\n",
       "    <span style=\"font-size: 0.8em; font-weight: bold; line-height: 1; border-radius: 0.35em; vertical-align: middle; margin-left: 0.5rem\">PART_NUM</span>\n",
       "</mark>\n",
       " nbd to my hal in lenexa . thank you . </div></span>"
      ],
      "text/plain": [
       "<IPython.core.display.HTML object>"
      ]
     },
     "metadata": {},
     "output_type": "display_data"
    },
    {
     "name": "stdout",
     "output_type": "stream",
     "text": [
      "------------------------- predict entities -------------------------\n",
      "('lex-801hc', 19, 28, 'PART_NUM')\n",
      "====================================================================================================\n",
      "please order qty 1 lex-c5220csh nbd to my hal in lenexa . thank you . \n"
     ]
    },
    {
     "data": {
      "text/html": [
       "<span class=\"tex2jax_ignore\"><div class=\"entities\" style=\"line-height: 2.5; direction: ltr\">please order qty 1 \n",
       "<mark class=\"entity\" style=\"background: #92E0AA; padding: 0.45em 0.6em; margin: 0 0.25em; line-height: 1; border-radius: 0.35em;\">\n",
       "    lex-c5220csh\n",
       "    <span style=\"font-size: 0.8em; font-weight: bold; line-height: 1; border-radius: 0.35em; vertical-align: middle; margin-left: 0.5rem\">PART_NUM</span>\n",
       "</mark>\n",
       " nbd to my hal in lenexa . thank you . </div></span>"
      ],
      "text/plain": [
       "<IPython.core.display.HTML object>"
      ]
     },
     "metadata": {},
     "output_type": "display_data"
    },
    {
     "name": "stdout",
     "output_type": "stream",
     "text": [
      "------------------------- predict entities -------------------------\n",
      "('lex-c5220csh', 19, 31, 'PART_NUM')\n",
      "====================================================================================================\n",
      "please order qty 1 tro-78-24619-001 nbd to my hal in lenexa . thank you . \n"
     ]
    },
    {
     "data": {
      "text/html": [
       "<span class=\"tex2jax_ignore\"><div class=\"entities\" style=\"line-height: 2.5; direction: ltr\">please order qty 1 \n",
       "<mark class=\"entity\" style=\"background: #92E0AA; padding: 0.45em 0.6em; margin: 0 0.25em; line-height: 1; border-radius: 0.35em;\">\n",
       "    tro-78-24619-001\n",
       "    <span style=\"font-size: 0.8em; font-weight: bold; line-height: 1; border-radius: 0.35em; vertical-align: middle; margin-left: 0.5rem\">PART_NUM</span>\n",
       "</mark>\n",
       " nbd to my hal in lenexa . thank you . </div></span>"
      ],
      "text/plain": [
       "<IPython.core.display.HTML object>"
      ]
     },
     "metadata": {},
     "output_type": "display_data"
    },
    {
     "name": "stdout",
     "output_type": "stream",
     "text": [
      "------------------------- predict entities -------------------------\n",
      "('tro-78-24619-001', 19, 35, 'PART_NUM')\n",
      "====================================================================================================\n",
      "please order qty 1 lex-c544x1cg nbd to my hal in lenexa . thank you . \n"
     ]
    },
    {
     "data": {
      "text/html": [
       "<span class=\"tex2jax_ignore\"><div class=\"entities\" style=\"line-height: 2.5; direction: ltr\">please order qty 1 \n",
       "<mark class=\"entity\" style=\"background: #92E0AA; padding: 0.45em 0.6em; margin: 0 0.25em; line-height: 1; border-radius: 0.35em;\">\n",
       "    lex-c544x1cg\n",
       "    <span style=\"font-size: 0.8em; font-weight: bold; line-height: 1; border-radius: 0.35em; vertical-align: middle; margin-left: 0.5rem\">PART_NUM</span>\n",
       "</mark>\n",
       " nbd to my hal in lenexa . thank you . </div></span>"
      ],
      "text/plain": [
       "<IPython.core.display.HTML object>"
      ]
     },
     "metadata": {},
     "output_type": "display_data"
    },
    {
     "name": "stdout",
     "output_type": "stream",
     "text": [
      "------------------------- predict entities -------------------------\n",
      "('lex-c544x1cg', 19, 31, 'PART_NUM')\n",
      "====================================================================================================\n",
      "please order qty 1 hpe-749797-001 nbd to my hal in lenexa . thank you . \n"
     ]
    },
    {
     "data": {
      "text/html": [
       "<span class=\"tex2jax_ignore\"><div class=\"entities\" style=\"line-height: 2.5; direction: ltr\">please order qty 1 \n",
       "<mark class=\"entity\" style=\"background: #92E0AA; padding: 0.45em 0.6em; margin: 0 0.25em; line-height: 1; border-radius: 0.35em;\">\n",
       "    hpe-749797-001\n",
       "    <span style=\"font-size: 0.8em; font-weight: bold; line-height: 1; border-radius: 0.35em; vertical-align: middle; margin-left: 0.5rem\">PART_NUM</span>\n",
       "</mark>\n",
       " nbd to my hal in lenexa . thank you . </div></span>"
      ],
      "text/plain": [
       "<IPython.core.display.HTML object>"
      ]
     },
     "metadata": {},
     "output_type": "display_data"
    },
    {
     "name": "stdout",
     "output_type": "stream",
     "text": [
      "------------------------- predict entities -------------------------\n",
      "('hpe-749797-001', 19, 33, 'PART_NUM')\n",
      "====================================================================================================\n",
      "please order qty 1 sft-p-895 nbd to my hal in lenexa . thank you . \n"
     ]
    },
    {
     "data": {
      "text/html": [
       "<span class=\"tex2jax_ignore\"><div class=\"entities\" style=\"line-height: 2.5; direction: ltr\">please order qty 1 \n",
       "<mark class=\"entity\" style=\"background: #92E0AA; padding: 0.45em 0.6em; margin: 0 0.25em; line-height: 1; border-radius: 0.35em;\">\n",
       "    sft-p-895\n",
       "    <span style=\"font-size: 0.8em; font-weight: bold; line-height: 1; border-radius: 0.35em; vertical-align: middle; margin-left: 0.5rem\">PART_NUM</span>\n",
       "</mark>\n",
       " nbd to my hal in lenexa . thank you . </div></span>"
      ],
      "text/plain": [
       "<IPython.core.display.HTML object>"
      ]
     },
     "metadata": {},
     "output_type": "display_data"
    },
    {
     "name": "stdout",
     "output_type": "stream",
     "text": [
      "------------------------- predict entities -------------------------\n",
      "('sft-p-895', 19, 28, 'PART_NUM')\n",
      "====================================================================================================\n",
      "please order qty 1 lex-e260a21a-c nbd to my hal in lenexa . thank you . \n"
     ]
    },
    {
     "data": {
      "text/html": [
       "<span class=\"tex2jax_ignore\"><div class=\"entities\" style=\"line-height: 2.5; direction: ltr\">please order qty 1 \n",
       "<mark class=\"entity\" style=\"background: #92E0AA; padding: 0.45em 0.6em; margin: 0 0.25em; line-height: 1; border-radius: 0.35em;\">\n",
       "    lex-e260a21a-c\n",
       "    <span style=\"font-size: 0.8em; font-weight: bold; line-height: 1; border-radius: 0.35em; vertical-align: middle; margin-left: 0.5rem\">PART_NUM</span>\n",
       "</mark>\n",
       " nbd to my hal in lenexa . thank you . </div></span>"
      ],
      "text/plain": [
       "<IPython.core.display.HTML object>"
      ]
     },
     "metadata": {},
     "output_type": "display_data"
    },
    {
     "name": "stdout",
     "output_type": "stream",
     "text": [
      "------------------------- predict entities -------------------------\n",
      "('lex-e260a21a-c', 19, 33, 'PART_NUM')\n",
      "====================================================================================================\n",
      "please order qty 1 ric-d0296509 nbd to my hal in lenexa . thank you . \n"
     ]
    },
    {
     "data": {
      "text/html": [
       "<span class=\"tex2jax_ignore\"><div class=\"entities\" style=\"line-height: 2.5; direction: ltr\">please order qty 1 \n",
       "<mark class=\"entity\" style=\"background: #92E0AA; padding: 0.45em 0.6em; margin: 0 0.25em; line-height: 1; border-radius: 0.35em;\">\n",
       "    ric-d0296509\n",
       "    <span style=\"font-size: 0.8em; font-weight: bold; line-height: 1; border-radius: 0.35em; vertical-align: middle; margin-left: 0.5rem\">PART_NUM</span>\n",
       "</mark>\n",
       " nbd to my hal in lenexa . thank you . </div></span>"
      ],
      "text/plain": [
       "<IPython.core.display.HTML object>"
      ]
     },
     "metadata": {},
     "output_type": "display_data"
    },
    {
     "name": "stdout",
     "output_type": "stream",
     "text": [
      "------------------------- predict entities -------------------------\n",
      "('ric-d0296509', 19, 31, 'PART_NUM')\n",
      "====================================================================================================\n",
      "please order qty 1 sea-st1000lm049 nbd to my hal in lenexa . thank you . \n"
     ]
    },
    {
     "data": {
      "text/html": [
       "<span class=\"tex2jax_ignore\"><div class=\"entities\" style=\"line-height: 2.5; direction: ltr\">please order qty 1 \n",
       "<mark class=\"entity\" style=\"background: #92E0AA; padding: 0.45em 0.6em; margin: 0 0.25em; line-height: 1; border-radius: 0.35em;\">\n",
       "    sea-st1000lm049\n",
       "    <span style=\"font-size: 0.8em; font-weight: bold; line-height: 1; border-radius: 0.35em; vertical-align: middle; margin-left: 0.5rem\">PART_NUM</span>\n",
       "</mark>\n",
       " nbd to my hal in lenexa . thank you . </div></span>"
      ],
      "text/plain": [
       "<IPython.core.display.HTML object>"
      ]
     },
     "metadata": {},
     "output_type": "display_data"
    },
    {
     "name": "stdout",
     "output_type": "stream",
     "text": [
      "------------------------- predict entities -------------------------\n",
      "('sea-st1000lm049', 19, 34, 'PART_NUM')\n",
      "====================================================================================================\n",
      "please order qty 1 lex-12a8400-pc nbd to my hal in lenexa . thank you . \n"
     ]
    },
    {
     "data": {
      "text/html": [
       "<span class=\"tex2jax_ignore\"><div class=\"entities\" style=\"line-height: 2.5; direction: ltr\">please order qty 1 \n",
       "<mark class=\"entity\" style=\"background: #92E0AA; padding: 0.45em 0.6em; margin: 0 0.25em; line-height: 1; border-radius: 0.35em;\">\n",
       "    lex-12a8400-pc\n",
       "    <span style=\"font-size: 0.8em; font-weight: bold; line-height: 1; border-radius: 0.35em; vertical-align: middle; margin-left: 0.5rem\">PART_NUM</span>\n",
       "</mark>\n",
       " nbd to my hal in lenexa . thank you . </div></span>"
      ],
      "text/plain": [
       "<IPython.core.display.HTML object>"
      ]
     },
     "metadata": {},
     "output_type": "display_data"
    },
    {
     "name": "stdout",
     "output_type": "stream",
     "text": [
      "------------------------- predict entities -------------------------\n",
      "('lex-12a8400-pc', 19, 33, 'PART_NUM')\n",
      "====================================================================================================\n",
      "please order qty 1 hpe-jl258a nbd to my hal in lenexa . thank you . \n"
     ]
    },
    {
     "data": {
      "text/html": [
       "<span class=\"tex2jax_ignore\"><div class=\"entities\" style=\"line-height: 2.5; direction: ltr\">please order qty 1 \n",
       "<mark class=\"entity\" style=\"background: #92E0AA; padding: 0.45em 0.6em; margin: 0 0.25em; line-height: 1; border-radius: 0.35em;\">\n",
       "    hpe-jl258a\n",
       "    <span style=\"font-size: 0.8em; font-weight: bold; line-height: 1; border-radius: 0.35em; vertical-align: middle; margin-left: 0.5rem\">PART_NUM</span>\n",
       "</mark>\n",
       " nbd to my hal in lenexa . thank you . </div></span>"
      ],
      "text/plain": [
       "<IPython.core.display.HTML object>"
      ]
     },
     "metadata": {},
     "output_type": "display_data"
    },
    {
     "name": "stdout",
     "output_type": "stream",
     "text": [
      "------------------------- predict entities -------------------------\n",
      "('hpe-jl258a', 19, 29, 'PART_NUM')\n",
      "====================================================================================================\n",
      "please order qty 1 ric-400507 nbd to my hal in lenexa . thank you . \n"
     ]
    },
    {
     "data": {
      "text/html": [
       "<span class=\"tex2jax_ignore\"><div class=\"entities\" style=\"line-height: 2.5; direction: ltr\">please order qty 1 \n",
       "<mark class=\"entity\" style=\"background: #92E0AA; padding: 0.45em 0.6em; margin: 0 0.25em; line-height: 1; border-radius: 0.35em;\">\n",
       "    ric-400507\n",
       "    <span style=\"font-size: 0.8em; font-weight: bold; line-height: 1; border-radius: 0.35em; vertical-align: middle; margin-left: 0.5rem\">PART_NUM</span>\n",
       "</mark>\n",
       " nbd to my hal in lenexa . thank you . </div></span>"
      ],
      "text/plain": [
       "<IPython.core.display.HTML object>"
      ]
     },
     "metadata": {},
     "output_type": "display_data"
    },
    {
     "name": "stdout",
     "output_type": "stream",
     "text": [
      "------------------------- predict entities -------------------------\n",
      "('ric-400507', 19, 29, 'PART_NUM')\n",
      "====================================================================================================\n",
      "please order qty 1 fuj-fpcpr362aq nbd to my hal in lenexa . thank you . \n"
     ]
    },
    {
     "data": {
      "text/html": [
       "<span class=\"tex2jax_ignore\"><div class=\"entities\" style=\"line-height: 2.5; direction: ltr\">please order qty 1 \n",
       "<mark class=\"entity\" style=\"background: #92E0AA; padding: 0.45em 0.6em; margin: 0 0.25em; line-height: 1; border-radius: 0.35em;\">\n",
       "    fuj-fpcpr362aq\n",
       "    <span style=\"font-size: 0.8em; font-weight: bold; line-height: 1; border-radius: 0.35em; vertical-align: middle; margin-left: 0.5rem\">PART_NUM</span>\n",
       "</mark>\n",
       " nbd to my hal in lenexa . thank you . </div></span>"
      ],
      "text/plain": [
       "<IPython.core.display.HTML object>"
      ]
     },
     "metadata": {},
     "output_type": "display_data"
    },
    {
     "name": "stdout",
     "output_type": "stream",
     "text": [
      "------------------------- predict entities -------------------------\n",
      "('fuj-fpcpr362aq', 19, 33, 'PART_NUM')\n",
      "====================================================================================================\n",
      "please order qty 1 tos-6le8296100 nbd to my hal in lenexa . thank you . \n"
     ]
    },
    {
     "data": {
      "text/html": [
       "<span class=\"tex2jax_ignore\"><div class=\"entities\" style=\"line-height: 2.5; direction: ltr\">please order qty 1 \n",
       "<mark class=\"entity\" style=\"background: #92E0AA; padding: 0.45em 0.6em; margin: 0 0.25em; line-height: 1; border-radius: 0.35em;\">\n",
       "    tos-6le8296100\n",
       "    <span style=\"font-size: 0.8em; font-weight: bold; line-height: 1; border-radius: 0.35em; vertical-align: middle; margin-left: 0.5rem\">PART_NUM</span>\n",
       "</mark>\n",
       " nbd to my hal in lenexa . thank you . </div></span>"
      ],
      "text/plain": [
       "<IPython.core.display.HTML object>"
      ]
     },
     "metadata": {},
     "output_type": "display_data"
    },
    {
     "name": "stdout",
     "output_type": "stream",
     "text": [
      "------------------------- predict entities -------------------------\n",
      "('tos-6le8296100', 19, 33, 'PART_NUM')\n",
      "====================================================================================================\n",
      "please order qty 1 xer-003k04980 nbd to my hal in lenexa . thank you . \n"
     ]
    },
    {
     "data": {
      "text/html": [
       "<span class=\"tex2jax_ignore\"><div class=\"entities\" style=\"line-height: 2.5; direction: ltr\">please order qty 1 \n",
       "<mark class=\"entity\" style=\"background: #92E0AA; padding: 0.45em 0.6em; margin: 0 0.25em; line-height: 1; border-radius: 0.35em;\">\n",
       "    xer-003k04980\n",
       "    <span style=\"font-size: 0.8em; font-weight: bold; line-height: 1; border-radius: 0.35em; vertical-align: middle; margin-left: 0.5rem\">PART_NUM</span>\n",
       "</mark>\n",
       " nbd to my hal in lenexa . thank you . </div></span>"
      ],
      "text/plain": [
       "<IPython.core.display.HTML object>"
      ]
     },
     "metadata": {},
     "output_type": "display_data"
    },
    {
     "name": "stdout",
     "output_type": "stream",
     "text": [
      "------------------------- predict entities -------------------------\n",
      "('xer-003k04980', 19, 32, 'PART_NUM')\n",
      "====================================================================================================\n",
      "please order qty 1 xer-116111500 nbd to my hal in lenexa . thank you . \n"
     ]
    },
    {
     "data": {
      "text/html": [
       "<span class=\"tex2jax_ignore\"><div class=\"entities\" style=\"line-height: 2.5; direction: ltr\">please order qty 1 \n",
       "<mark class=\"entity\" style=\"background: #92E0AA; padding: 0.45em 0.6em; margin: 0 0.25em; line-height: 1; border-radius: 0.35em;\">\n",
       "    xer-116111500\n",
       "    <span style=\"font-size: 0.8em; font-weight: bold; line-height: 1; border-radius: 0.35em; vertical-align: middle; margin-left: 0.5rem\">PART_NUM</span>\n",
       "</mark>\n",
       " nbd to my hal in lenexa . thank you . </div></span>"
      ],
      "text/plain": [
       "<IPython.core.display.HTML object>"
      ]
     },
     "metadata": {},
     "output_type": "display_data"
    },
    {
     "name": "stdout",
     "output_type": "stream",
     "text": [
      "------------------------- predict entities -------------------------\n",
      "('xer-116111500', 19, 32, 'PART_NUM')\n",
      "====================================================================================================\n",
      "please order qty 1 ats-2711fxsc-901 nbd to my hal in lenexa . thank you . \n"
     ]
    },
    {
     "data": {
      "text/html": [
       "<span class=\"tex2jax_ignore\"><div class=\"entities\" style=\"line-height: 2.5; direction: ltr\">please order qty 1 \n",
       "<mark class=\"entity\" style=\"background: #92E0AA; padding: 0.45em 0.6em; margin: 0 0.25em; line-height: 1; border-radius: 0.35em;\">\n",
       "    ats-2711fxsc-901\n",
       "    <span style=\"font-size: 0.8em; font-weight: bold; line-height: 1; border-radius: 0.35em; vertical-align: middle; margin-left: 0.5rem\">PART_NUM</span>\n",
       "</mark>\n",
       " nbd to my hal in lenexa . thank you . </div></span>"
      ],
      "text/plain": [
       "<IPython.core.display.HTML object>"
      ]
     },
     "metadata": {},
     "output_type": "display_data"
    },
    {
     "name": "stdout",
     "output_type": "stream",
     "text": [
      "------------------------- predict entities -------------------------\n",
      "('ats-2711fxsc-901', 19, 35, 'PART_NUM')\n",
      "====================================================================================================\n",
      "please order qty 1 bro-tn336bk nbd to my hal in lenexa . thank you . \n"
     ]
    },
    {
     "data": {
      "text/html": [
       "<span class=\"tex2jax_ignore\"><div class=\"entities\" style=\"line-height: 2.5; direction: ltr\">please order qty 1 \n",
       "<mark class=\"entity\" style=\"background: #92E0AA; padding: 0.45em 0.6em; margin: 0 0.25em; line-height: 1; border-radius: 0.35em;\">\n",
       "    bro-tn336bk\n",
       "    <span style=\"font-size: 0.8em; font-weight: bold; line-height: 1; border-radius: 0.35em; vertical-align: middle; margin-left: 0.5rem\">PART_NUM</span>\n",
       "</mark>\n",
       " nbd to my hal in lenexa . thank you . </div></span>"
      ],
      "text/plain": [
       "<IPython.core.display.HTML object>"
      ]
     },
     "metadata": {},
     "output_type": "display_data"
    },
    {
     "name": "stdout",
     "output_type": "stream",
     "text": [
      "------------------------- predict entities -------------------------\n",
      "('bro-tn336bk', 19, 30, 'PART_NUM')\n",
      "====================================================================================================\n",
      "please order qty 1 del-310-5807 nbd to my hal in lenexa . thank you . \n"
     ]
    },
    {
     "data": {
      "text/html": [
       "<span class=\"tex2jax_ignore\"><div class=\"entities\" style=\"line-height: 2.5; direction: ltr\">please order qty 1 \n",
       "<mark class=\"entity\" style=\"background: #92E0AA; padding: 0.45em 0.6em; margin: 0 0.25em; line-height: 1; border-radius: 0.35em;\">\n",
       "    del-310-5807\n",
       "    <span style=\"font-size: 0.8em; font-weight: bold; line-height: 1; border-radius: 0.35em; vertical-align: middle; margin-left: 0.5rem\">PART_NUM</span>\n",
       "</mark>\n",
       " nbd to my hal in lenexa . thank you . </div></span>"
      ],
      "text/plain": [
       "<IPython.core.display.HTML object>"
      ]
     },
     "metadata": {},
     "output_type": "display_data"
    },
    {
     "name": "stdout",
     "output_type": "stream",
     "text": [
      "------------------------- predict entities -------------------------\n",
      "('del-310-5807', 19, 31, 'PART_NUM')\n",
      "====================================================================================================\n",
      "please order qty 1 hpi-cf258a-m nbd to my hal in lenexa . thank you . \n"
     ]
    },
    {
     "data": {
      "text/html": [
       "<span class=\"tex2jax_ignore\"><div class=\"entities\" style=\"line-height: 2.5; direction: ltr\">please order qty 1 \n",
       "<mark class=\"entity\" style=\"background: #92E0AA; padding: 0.45em 0.6em; margin: 0 0.25em; line-height: 1; border-radius: 0.35em;\">\n",
       "    hpi-cf258a-m\n",
       "    <span style=\"font-size: 0.8em; font-weight: bold; line-height: 1; border-radius: 0.35em; vertical-align: middle; margin-left: 0.5rem\">PART_NUM</span>\n",
       "</mark>\n",
       " nbd to my hal in lenexa . thank you . </div></span>"
      ],
      "text/plain": [
       "<IPython.core.display.HTML object>"
      ]
     },
     "metadata": {},
     "output_type": "display_data"
    },
    {
     "name": "stdout",
     "output_type": "stream",
     "text": [
      "------------------------- predict entities -------------------------\n",
      "('hpi-cf258a-m', 19, 31, 'PART_NUM')\n",
      "====================================================================================================\n",
      "please order qty 1 lex-t101-0000000 nbd to my hal in lenexa . thank you . \n"
     ]
    },
    {
     "data": {
      "text/html": [
       "<span class=\"tex2jax_ignore\"><div class=\"entities\" style=\"line-height: 2.5; direction: ltr\">please order qty 1 \n",
       "<mark class=\"entity\" style=\"background: #92E0AA; padding: 0.45em 0.6em; margin: 0 0.25em; line-height: 1; border-radius: 0.35em;\">\n",
       "    lex-t101-0000000\n",
       "    <span style=\"font-size: 0.8em; font-weight: bold; line-height: 1; border-radius: 0.35em; vertical-align: middle; margin-left: 0.5rem\">PART_NUM</span>\n",
       "</mark>\n",
       " nbd to my hal in lenexa . thank you . </div></span>"
      ],
      "text/plain": [
       "<IPython.core.display.HTML object>"
      ]
     },
     "metadata": {},
     "output_type": "display_data"
    },
    {
     "name": "stdout",
     "output_type": "stream",
     "text": [
      "------------------------- predict entities -------------------------\n",
      "('lex-t101-0000000', 19, 35, 'PART_NUM')\n",
      "====================================================================================================\n",
      "please order qty 1 del-9pn5p nbd to my hal in lenexa . thank you . \n"
     ]
    },
    {
     "data": {
      "text/html": [
       "<span class=\"tex2jax_ignore\"><div class=\"entities\" style=\"line-height: 2.5; direction: ltr\">please order qty 1 \n",
       "<mark class=\"entity\" style=\"background: #92E0AA; padding: 0.45em 0.6em; margin: 0 0.25em; line-height: 1; border-radius: 0.35em;\">\n",
       "    del-9pn5p\n",
       "    <span style=\"font-size: 0.8em; font-weight: bold; line-height: 1; border-radius: 0.35em; vertical-align: middle; margin-left: 0.5rem\">PART_NUM</span>\n",
       "</mark>\n",
       " nbd to my hal in lenexa . thank you . </div></span>"
      ],
      "text/plain": [
       "<IPython.core.display.HTML object>"
      ]
     },
     "metadata": {},
     "output_type": "display_data"
    },
    {
     "name": "stdout",
     "output_type": "stream",
     "text": [
      "------------------------- predict entities -------------------------\n",
      "('del-9pn5p', 19, 28, 'PART_NUM')\n",
      "====================================================================================================\n",
      "please order qty 1 sam-ba92-08880a nbd to my hal in lenexa . thank you . \n"
     ]
    },
    {
     "data": {
      "text/html": [
       "<span class=\"tex2jax_ignore\"><div class=\"entities\" style=\"line-height: 2.5; direction: ltr\">please order qty 1 \n",
       "<mark class=\"entity\" style=\"background: #92E0AA; padding: 0.45em 0.6em; margin: 0 0.25em; line-height: 1; border-radius: 0.35em;\">\n",
       "    sam-ba92-08880a\n",
       "    <span style=\"font-size: 0.8em; font-weight: bold; line-height: 1; border-radius: 0.35em; vertical-align: middle; margin-left: 0.5rem\">PART_NUM</span>\n",
       "</mark>\n",
       " nbd to my hal in lenexa . thank you . </div></span>"
      ],
      "text/plain": [
       "<IPython.core.display.HTML object>"
      ]
     },
     "metadata": {},
     "output_type": "display_data"
    },
    {
     "name": "stdout",
     "output_type": "stream",
     "text": [
      "------------------------- predict entities -------------------------\n",
      "('sam-ba92-08880a', 19, 34, 'PART_NUM')\n",
      "====================================================================================================\n",
      "please order qty 1 apc-rbc7 nbd to my hal in lenexa . thank you . \n"
     ]
    },
    {
     "data": {
      "text/html": [
       "<span class=\"tex2jax_ignore\"><div class=\"entities\" style=\"line-height: 2.5; direction: ltr\">please order qty 1 \n",
       "<mark class=\"entity\" style=\"background: #92E0AA; padding: 0.45em 0.6em; margin: 0 0.25em; line-height: 1; border-radius: 0.35em;\">\n",
       "    apc-rbc7\n",
       "    <span style=\"font-size: 0.8em; font-weight: bold; line-height: 1; border-radius: 0.35em; vertical-align: middle; margin-left: 0.5rem\">PART_NUM</span>\n",
       "</mark>\n",
       " nbd to my hal in lenexa . thank you . </div></span>"
      ],
      "text/plain": [
       "<IPython.core.display.HTML object>"
      ]
     },
     "metadata": {},
     "output_type": "display_data"
    },
    {
     "name": "stdout",
     "output_type": "stream",
     "text": [
      "------------------------- predict entities -------------------------\n",
      "('apc-rbc7', 19, 27, 'PART_NUM')\n",
      "====================================================================================================\n",
      "please order qty 1 kmh-4448-121 nbd to my hal in lenexa . thank you . \n"
     ]
    },
    {
     "data": {
      "text/html": [
       "<span class=\"tex2jax_ignore\"><div class=\"entities\" style=\"line-height: 2.5; direction: ltr\">please order qty 1 \n",
       "<mark class=\"entity\" style=\"background: #92E0AA; padding: 0.45em 0.6em; margin: 0 0.25em; line-height: 1; border-radius: 0.35em;\">\n",
       "    kmh-4448-121\n",
       "    <span style=\"font-size: 0.8em; font-weight: bold; line-height: 1; border-radius: 0.35em; vertical-align: middle; margin-left: 0.5rem\">PART_NUM</span>\n",
       "</mark>\n",
       " nbd to my hal in lenexa . thank you . </div></span>"
      ],
      "text/plain": [
       "<IPython.core.display.HTML object>"
      ]
     },
     "metadata": {},
     "output_type": "display_data"
    },
    {
     "name": "stdout",
     "output_type": "stream",
     "text": [
      "------------------------- predict entities -------------------------\n",
      "('kmh-4448-121', 19, 31, 'PART_NUM')\n",
      "====================================================================================================\n",
      "please order qty 1 sxc-c7abttaab nbd to my hal in lenexa . thank you . \n"
     ]
    },
    {
     "data": {
      "text/html": [
       "<span class=\"tex2jax_ignore\"><div class=\"entities\" style=\"line-height: 2.5; direction: ltr\">please order qty 1 \n",
       "<mark class=\"entity\" style=\"background: #92E0AA; padding: 0.45em 0.6em; margin: 0 0.25em; line-height: 1; border-radius: 0.35em;\">\n",
       "    sxc-c7abttaab\n",
       "    <span style=\"font-size: 0.8em; font-weight: bold; line-height: 1; border-radius: 0.35em; vertical-align: middle; margin-left: 0.5rem\">PART_NUM</span>\n",
       "</mark>\n",
       " nbd to my hal in lenexa . thank you . </div></span>"
      ],
      "text/plain": [
       "<IPython.core.display.HTML object>"
      ]
     },
     "metadata": {},
     "output_type": "display_data"
    },
    {
     "name": "stdout",
     "output_type": "stream",
     "text": [
      "------------------------- predict entities -------------------------\n",
      "('sxc-c7abttaab', 19, 32, 'PART_NUM')\n",
      "====================================================================================================\n",
      "please order qty 1 tro-04621201 nbd to my hal in lenexa . thank you . \n"
     ]
    },
    {
     "data": {
      "text/html": [
       "<span class=\"tex2jax_ignore\"><div class=\"entities\" style=\"line-height: 2.5; direction: ltr\">please order qty 1 \n",
       "<mark class=\"entity\" style=\"background: #92E0AA; padding: 0.45em 0.6em; margin: 0 0.25em; line-height: 1; border-radius: 0.35em;\">\n",
       "    tro-04621201\n",
       "    <span style=\"font-size: 0.8em; font-weight: bold; line-height: 1; border-radius: 0.35em; vertical-align: middle; margin-left: 0.5rem\">PART_NUM</span>\n",
       "</mark>\n",
       " nbd to my hal in lenexa . thank you . </div></span>"
      ],
      "text/plain": [
       "<IPython.core.display.HTML object>"
      ]
     },
     "metadata": {},
     "output_type": "display_data"
    },
    {
     "name": "stdout",
     "output_type": "stream",
     "text": [
      "------------------------- predict entities -------------------------\n",
      "('tro-04621201', 19, 31, 'PART_NUM')\n",
      "====================================================================================================\n",
      "please order qty 1 vef-28924-04-r nbd to my hal in lenexa . thank you . \n"
     ]
    },
    {
     "data": {
      "text/html": [
       "<span class=\"tex2jax_ignore\"><div class=\"entities\" style=\"line-height: 2.5; direction: ltr\">please order qty 1 \n",
       "<mark class=\"entity\" style=\"background: #92E0AA; padding: 0.45em 0.6em; margin: 0 0.25em; line-height: 1; border-radius: 0.35em;\">\n",
       "    vef-28924-04-r\n",
       "    <span style=\"font-size: 0.8em; font-weight: bold; line-height: 1; border-radius: 0.35em; vertical-align: middle; margin-left: 0.5rem\">PART_NUM</span>\n",
       "</mark>\n",
       " nbd to my hal in lenexa . thank you . </div></span>"
      ],
      "text/plain": [
       "<IPython.core.display.HTML object>"
      ]
     },
     "metadata": {},
     "output_type": "display_data"
    },
    {
     "name": "stdout",
     "output_type": "stream",
     "text": [
      "------------------------- predict entities -------------------------\n",
      "('vef-28924-04-r', 19, 33, 'PART_NUM')\n",
      "====================================================================================================\n",
      "please order qty 1 wfp-hpm527z nbd to my hal in lenexa . thank you . \n"
     ]
    },
    {
     "data": {
      "text/html": [
       "<span class=\"tex2jax_ignore\"><div class=\"entities\" style=\"line-height: 2.5; direction: ltr\">please order qty 1 \n",
       "<mark class=\"entity\" style=\"background: #92E0AA; padding: 0.45em 0.6em; margin: 0 0.25em; line-height: 1; border-radius: 0.35em;\">\n",
       "    wfp-hpm527z\n",
       "    <span style=\"font-size: 0.8em; font-weight: bold; line-height: 1; border-radius: 0.35em; vertical-align: middle; margin-left: 0.5rem\">PART_NUM</span>\n",
       "</mark>\n",
       " nbd to my hal in lenexa . thank you . </div></span>"
      ],
      "text/plain": [
       "<IPython.core.display.HTML object>"
      ]
     },
     "metadata": {},
     "output_type": "display_data"
    },
    {
     "name": "stdout",
     "output_type": "stream",
     "text": [
      "------------------------- predict entities -------------------------\n",
      "('wfp-hpm527z', 19, 30, 'PART_NUM')\n",
      "====================================================================================================\n",
      "please order qty 1 kyo-1702lk0un2 nbd to my hal in lenexa . thank you . \n"
     ]
    },
    {
     "data": {
      "text/html": [
       "<span class=\"tex2jax_ignore\"><div class=\"entities\" style=\"line-height: 2.5; direction: ltr\">please order qty 1 \n",
       "<mark class=\"entity\" style=\"background: #92E0AA; padding: 0.45em 0.6em; margin: 0 0.25em; line-height: 1; border-radius: 0.35em;\">\n",
       "    kyo-1702lk0un2\n",
       "    <span style=\"font-size: 0.8em; font-weight: bold; line-height: 1; border-radius: 0.35em; vertical-align: middle; margin-left: 0.5rem\">PART_NUM</span>\n",
       "</mark>\n",
       " nbd to my hal in lenexa . thank you . </div></span>"
      ],
      "text/plain": [
       "<IPython.core.display.HTML object>"
      ]
     },
     "metadata": {},
     "output_type": "display_data"
    },
    {
     "name": "stdout",
     "output_type": "stream",
     "text": [
      "------------------------- predict entities -------------------------\n",
      "('kyo-1702lk0un2', 19, 33, 'PART_NUM')\n",
      "====================================================================================================\n",
      "please order qty 1 apc-sua1500rm2u nbd to my hal in lenexa . thank you . \n"
     ]
    },
    {
     "data": {
      "text/html": [
       "<span class=\"tex2jax_ignore\"><div class=\"entities\" style=\"line-height: 2.5; direction: ltr\">please order qty 1 \n",
       "<mark class=\"entity\" style=\"background: #92E0AA; padding: 0.45em 0.6em; margin: 0 0.25em; line-height: 1; border-radius: 0.35em;\">\n",
       "    apc-sua1500rm2u\n",
       "    <span style=\"font-size: 0.8em; font-weight: bold; line-height: 1; border-radius: 0.35em; vertical-align: middle; margin-left: 0.5rem\">PART_NUM</span>\n",
       "</mark>\n",
       " nbd to my hal in lenexa . thank you . </div></span>"
      ],
      "text/plain": [
       "<IPython.core.display.HTML object>"
      ]
     },
     "metadata": {},
     "output_type": "display_data"
    },
    {
     "name": "stdout",
     "output_type": "stream",
     "text": [
      "------------------------- predict entities -------------------------\n",
      "('apc-sua1500rm2u', 19, 34, 'PART_NUM')\n",
      "====================================================================================================\n",
      "please order qty 1 kyo-302nm18021 nbd to my hal in lenexa . thank you . \n"
     ]
    },
    {
     "data": {
      "text/html": [
       "<span class=\"tex2jax_ignore\"><div class=\"entities\" style=\"line-height: 2.5; direction: ltr\">please order qty 1 \n",
       "<mark class=\"entity\" style=\"background: #92E0AA; padding: 0.45em 0.6em; margin: 0 0.25em; line-height: 1; border-radius: 0.35em;\">\n",
       "    kyo-302nm18021\n",
       "    <span style=\"font-size: 0.8em; font-weight: bold; line-height: 1; border-radius: 0.35em; vertical-align: middle; margin-left: 0.5rem\">PART_NUM</span>\n",
       "</mark>\n",
       " nbd to my hal in lenexa . thank you . </div></span>"
      ],
      "text/plain": [
       "<IPython.core.display.HTML object>"
      ]
     },
     "metadata": {},
     "output_type": "display_data"
    },
    {
     "name": "stdout",
     "output_type": "stream",
     "text": [
      "------------------------- predict entities -------------------------\n",
      "('kyo-302nm18021', 19, 33, 'PART_NUM')\n",
      "====================================================================================================\n",
      "please order qty 1 hpe-jh329-61001 nbd to my hal in lenexa . thank you . \n"
     ]
    },
    {
     "data": {
      "text/html": [
       "<span class=\"tex2jax_ignore\"><div class=\"entities\" style=\"line-height: 2.5; direction: ltr\">please order qty 1 \n",
       "<mark class=\"entity\" style=\"background: #92E0AA; padding: 0.45em 0.6em; margin: 0 0.25em; line-height: 1; border-radius: 0.35em;\">\n",
       "    hpe-jh329-61001\n",
       "    <span style=\"font-size: 0.8em; font-weight: bold; line-height: 1; border-radius: 0.35em; vertical-align: middle; margin-left: 0.5rem\">PART_NUM</span>\n",
       "</mark>\n",
       " nbd to my hal in lenexa . thank you . </div></span>"
      ],
      "text/plain": [
       "<IPython.core.display.HTML object>"
      ]
     },
     "metadata": {},
     "output_type": "display_data"
    },
    {
     "name": "stdout",
     "output_type": "stream",
     "text": [
      "------------------------- predict entities -------------------------\n",
      "('hpe-jh329-61001', 19, 34, 'PART_NUM')\n",
      "====================================================================================================\n",
      "please order qty 1 kyo-1t02ga0us0 nbd to my hal in lenexa . thank you . \n"
     ]
    },
    {
     "data": {
      "text/html": [
       "<span class=\"tex2jax_ignore\"><div class=\"entities\" style=\"line-height: 2.5; direction: ltr\">please order qty 1 \n",
       "<mark class=\"entity\" style=\"background: #92E0AA; padding: 0.45em 0.6em; margin: 0 0.25em; line-height: 1; border-radius: 0.35em;\">\n",
       "    kyo-1t02ga0us0\n",
       "    <span style=\"font-size: 0.8em; font-weight: bold; line-height: 1; border-radius: 0.35em; vertical-align: middle; margin-left: 0.5rem\">PART_NUM</span>\n",
       "</mark>\n",
       " nbd to my hal in lenexa . thank you . </div></span>"
      ],
      "text/plain": [
       "<IPython.core.display.HTML object>"
      ]
     },
     "metadata": {},
     "output_type": "display_data"
    },
    {
     "name": "stdout",
     "output_type": "stream",
     "text": [
      "------------------------- predict entities -------------------------\n",
      "('kyo-1t02ga0us0', 19, 33, 'PART_NUM')\n",
      "====================================================================================================\n",
      "please order qty 1 leb-04x4674 nbd to my hal in lenexa . thank you . \n"
     ]
    },
    {
     "data": {
      "text/html": [
       "<span class=\"tex2jax_ignore\"><div class=\"entities\" style=\"line-height: 2.5; direction: ltr\">please order qty 1 \n",
       "<mark class=\"entity\" style=\"background: #92E0AA; padding: 0.45em 0.6em; margin: 0 0.25em; line-height: 1; border-radius: 0.35em;\">\n",
       "    leb-04x4674\n",
       "    <span style=\"font-size: 0.8em; font-weight: bold; line-height: 1; border-radius: 0.35em; vertical-align: middle; margin-left: 0.5rem\">PART_NUM</span>\n",
       "</mark>\n",
       " nbd to my hal in lenexa . thank you . </div></span>"
      ],
      "text/plain": [
       "<IPython.core.display.HTML object>"
      ]
     },
     "metadata": {},
     "output_type": "display_data"
    },
    {
     "name": "stdout",
     "output_type": "stream",
     "text": [
      "------------------------- predict entities -------------------------\n",
      "('leb-04x4674', 19, 30, 'PART_NUM')\n",
      "====================================================================================================\n",
      "please order qty 1 kyo-302gr93034 nbd to my hal in lenexa . thank you . \n"
     ]
    },
    {
     "data": {
      "text/html": [
       "<span class=\"tex2jax_ignore\"><div class=\"entities\" style=\"line-height: 2.5; direction: ltr\">please order qty 1 \n",
       "<mark class=\"entity\" style=\"background: #92E0AA; padding: 0.45em 0.6em; margin: 0 0.25em; line-height: 1; border-radius: 0.35em;\">\n",
       "    kyo-302gr93034\n",
       "    <span style=\"font-size: 0.8em; font-weight: bold; line-height: 1; border-radius: 0.35em; vertical-align: middle; margin-left: 0.5rem\">PART_NUM</span>\n",
       "</mark>\n",
       " nbd to my hal in lenexa . thank you . </div></span>"
      ],
      "text/plain": [
       "<IPython.core.display.HTML object>"
      ]
     },
     "metadata": {},
     "output_type": "display_data"
    },
    {
     "name": "stdout",
     "output_type": "stream",
     "text": [
      "------------------------- predict entities -------------------------\n",
      "('kyo-302gr93034', 19, 33, 'PART_NUM')\n",
      "====================================================================================================\n",
      "please order qty 1 del-v1rx3 nbd to my hal in lenexa . thank you . \n"
     ]
    },
    {
     "data": {
      "text/html": [
       "<span class=\"tex2jax_ignore\"><div class=\"entities\" style=\"line-height: 2.5; direction: ltr\">please order qty 1 \n",
       "<mark class=\"entity\" style=\"background: #92E0AA; padding: 0.45em 0.6em; margin: 0 0.25em; line-height: 1; border-radius: 0.35em;\">\n",
       "    del-v1rx3\n",
       "    <span style=\"font-size: 0.8em; font-weight: bold; line-height: 1; border-radius: 0.35em; vertical-align: middle; margin-left: 0.5rem\">PART_NUM</span>\n",
       "</mark>\n",
       " nbd to my hal in lenexa . thank you . </div></span>"
      ],
      "text/plain": [
       "<IPython.core.display.HTML object>"
      ]
     },
     "metadata": {},
     "output_type": "display_data"
    },
    {
     "name": "stdout",
     "output_type": "stream",
     "text": [
      "------------------------- predict entities -------------------------\n",
      "('del-v1rx3', 19, 28, 'PART_NUM')\n",
      "====================================================================================================\n",
      "please order qty 1 lex-40x0593 nbd to my hal in lenexa . thank you . \n"
     ]
    },
    {
     "data": {
      "text/html": [
       "<span class=\"tex2jax_ignore\"><div class=\"entities\" style=\"line-height: 2.5; direction: ltr\">please order qty 1 \n",
       "<mark class=\"entity\" style=\"background: #92E0AA; padding: 0.45em 0.6em; margin: 0 0.25em; line-height: 1; border-radius: 0.35em;\">\n",
       "    lex-40x0593\n",
       "    <span style=\"font-size: 0.8em; font-weight: bold; line-height: 1; border-radius: 0.35em; vertical-align: middle; margin-left: 0.5rem\">PART_NUM</span>\n",
       "</mark>\n",
       " nbd to my hal in lenexa . thank you . </div></span>"
      ],
      "text/plain": [
       "<IPython.core.display.HTML object>"
      ]
     },
     "metadata": {},
     "output_type": "display_data"
    },
    {
     "name": "stdout",
     "output_type": "stream",
     "text": [
      "------------------------- predict entities -------------------------\n",
      "('lex-40x0593', 19, 30, 'PART_NUM')\n",
      "====================================================================================================\n",
      "please order qty 1 tos-6lh3460800 nbd to my hal in lenexa . thank you . \n"
     ]
    },
    {
     "data": {
      "text/html": [
       "<span class=\"tex2jax_ignore\"><div class=\"entities\" style=\"line-height: 2.5; direction: ltr\">please order qty 1 \n",
       "<mark class=\"entity\" style=\"background: #92E0AA; padding: 0.45em 0.6em; margin: 0 0.25em; line-height: 1; border-radius: 0.35em;\">\n",
       "    tos-6lh3460800\n",
       "    <span style=\"font-size: 0.8em; font-weight: bold; line-height: 1; border-radius: 0.35em; vertical-align: middle; margin-left: 0.5rem\">PART_NUM</span>\n",
       "</mark>\n",
       " nbd to my hal in lenexa . thank you . </div></span>"
      ],
      "text/plain": [
       "<IPython.core.display.HTML object>"
      ]
     },
     "metadata": {},
     "output_type": "display_data"
    },
    {
     "name": "stdout",
     "output_type": "stream",
     "text": [
      "------------------------- predict entities -------------------------\n",
      "('tos-6lh3460800', 19, 33, 'PART_NUM')\n",
      "====================================================================================================\n",
      "please order qty 1 ric-ae020171 nbd to my hal in lenexa . thank you . \n"
     ]
    },
    {
     "data": {
      "text/html": [
       "<span class=\"tex2jax_ignore\"><div class=\"entities\" style=\"line-height: 2.5; direction: ltr\">please order qty 1 \n",
       "<mark class=\"entity\" style=\"background: #92E0AA; padding: 0.45em 0.6em; margin: 0 0.25em; line-height: 1; border-radius: 0.35em;\">\n",
       "    ric-ae020171\n",
       "    <span style=\"font-size: 0.8em; font-weight: bold; line-height: 1; border-radius: 0.35em; vertical-align: middle; margin-left: 0.5rem\">PART_NUM</span>\n",
       "</mark>\n",
       " nbd to my hal in lenexa . thank you . </div></span>"
      ],
      "text/plain": [
       "<IPython.core.display.HTML object>"
      ]
     },
     "metadata": {},
     "output_type": "display_data"
    },
    {
     "name": "stdout",
     "output_type": "stream",
     "text": [
      "------------------------- predict entities -------------------------\n",
      "('ric-ae020171', 19, 31, 'PART_NUM')\n",
      "====================================================================================================\n",
      "please order qty 1 xer-59k60140 nbd to my hal in lenexa . thank you . \n"
     ]
    },
    {
     "data": {
      "text/html": [
       "<span class=\"tex2jax_ignore\"><div class=\"entities\" style=\"line-height: 2.5; direction: ltr\">please order qty 1 \n",
       "<mark class=\"entity\" style=\"background: #92E0AA; padding: 0.45em 0.6em; margin: 0 0.25em; line-height: 1; border-radius: 0.35em;\">\n",
       "    xer-59k60140\n",
       "    <span style=\"font-size: 0.8em; font-weight: bold; line-height: 1; border-radius: 0.35em; vertical-align: middle; margin-left: 0.5rem\">PART_NUM</span>\n",
       "</mark>\n",
       " nbd to my hal in lenexa . thank you . </div></span>"
      ],
      "text/plain": [
       "<IPython.core.display.HTML object>"
      ]
     },
     "metadata": {},
     "output_type": "display_data"
    },
    {
     "name": "stdout",
     "output_type": "stream",
     "text": [
      "------------------------- predict entities -------------------------\n",
      "('xer-59k60140', 19, 31, 'PART_NUM')\n",
      "====================================================================================================\n",
      "please order qty 1 bro-lm5140001 nbd to my hal in lenexa . thank you . \n"
     ]
    },
    {
     "data": {
      "text/html": [
       "<span class=\"tex2jax_ignore\"><div class=\"entities\" style=\"line-height: 2.5; direction: ltr\">please order qty 1 \n",
       "<mark class=\"entity\" style=\"background: #92E0AA; padding: 0.45em 0.6em; margin: 0 0.25em; line-height: 1; border-radius: 0.35em;\">\n",
       "    bro-lm5140001\n",
       "    <span style=\"font-size: 0.8em; font-weight: bold; line-height: 1; border-radius: 0.35em; vertical-align: middle; margin-left: 0.5rem\">PART_NUM</span>\n",
       "</mark>\n",
       " nbd to my hal in lenexa . thank you . </div></span>"
      ],
      "text/plain": [
       "<IPython.core.display.HTML object>"
      ]
     },
     "metadata": {},
     "output_type": "display_data"
    },
    {
     "name": "stdout",
     "output_type": "stream",
     "text": [
      "------------------------- predict entities -------------------------\n",
      "('bro-lm5140001', 19, 32, 'PART_NUM')\n",
      "====================================================================================================\n",
      "please order qty 1 kmh-a00ja56600 nbd to my hal in lenexa . thank you . \n"
     ]
    },
    {
     "data": {
      "text/html": [
       "<span class=\"tex2jax_ignore\"><div class=\"entities\" style=\"line-height: 2.5; direction: ltr\">please order qty 1 \n",
       "<mark class=\"entity\" style=\"background: #92E0AA; padding: 0.45em 0.6em; margin: 0 0.25em; line-height: 1; border-radius: 0.35em;\">\n",
       "    kmh-a00ja56600\n",
       "    <span style=\"font-size: 0.8em; font-weight: bold; line-height: 1; border-radius: 0.35em; vertical-align: middle; margin-left: 0.5rem\">PART_NUM</span>\n",
       "</mark>\n",
       " nbd to my hal in lenexa . thank you . </div></span>"
      ],
      "text/plain": [
       "<IPython.core.display.HTML object>"
      ]
     },
     "metadata": {},
     "output_type": "display_data"
    },
    {
     "name": "stdout",
     "output_type": "stream",
     "text": [
      "------------------------- predict entities -------------------------\n",
      "('kmh-a00ja56600', 19, 33, 'PART_NUM')\n",
      "====================================================================================================\n",
      "please order qty 1 kyo-302f906240 nbd to my hal in lenexa . thank you . \n"
     ]
    },
    {
     "data": {
      "text/html": [
       "<span class=\"tex2jax_ignore\"><div class=\"entities\" style=\"line-height: 2.5; direction: ltr\">please order qty 1 \n",
       "<mark class=\"entity\" style=\"background: #92E0AA; padding: 0.45em 0.6em; margin: 0 0.25em; line-height: 1; border-radius: 0.35em;\">\n",
       "    kyo-302f906240\n",
       "    <span style=\"font-size: 0.8em; font-weight: bold; line-height: 1; border-radius: 0.35em; vertical-align: middle; margin-left: 0.5rem\">PART_NUM</span>\n",
       "</mark>\n",
       " nbd to my hal in lenexa . thank you . </div></span>"
      ],
      "text/plain": [
       "<IPython.core.display.HTML object>"
      ]
     },
     "metadata": {},
     "output_type": "display_data"
    },
    {
     "name": "stdout",
     "output_type": "stream",
     "text": [
      "------------------------- predict entities -------------------------\n",
      "('kyo-302f906240', 19, 33, 'PART_NUM')\n",
      "====================================================================================================\n",
      "please order qty 1 bro-lem084001 nbd to my hal in lenexa . thank you . \n"
     ]
    },
    {
     "data": {
      "text/html": [
       "<span class=\"tex2jax_ignore\"><div class=\"entities\" style=\"line-height: 2.5; direction: ltr\">please order qty 1 \n",
       "<mark class=\"entity\" style=\"background: #92E0AA; padding: 0.45em 0.6em; margin: 0 0.25em; line-height: 1; border-radius: 0.35em;\">\n",
       "    bro-lem084001\n",
       "    <span style=\"font-size: 0.8em; font-weight: bold; line-height: 1; border-radius: 0.35em; vertical-align: middle; margin-left: 0.5rem\">PART_NUM</span>\n",
       "</mark>\n",
       " nbd to my hal in lenexa . thank you . </div></span>"
      ],
      "text/plain": [
       "<IPython.core.display.HTML object>"
      ]
     },
     "metadata": {},
     "output_type": "display_data"
    },
    {
     "name": "stdout",
     "output_type": "stream",
     "text": [
      "------------------------- predict entities -------------------------\n",
      "('bro-lem084001', 19, 32, 'PART_NUM')\n",
      "====================================================================================================\n",
      "please order qty 1 xer-116-2035 nbd to my hal in lenexa . thank you . \n"
     ]
    },
    {
     "data": {
      "text/html": [
       "<span class=\"tex2jax_ignore\"><div class=\"entities\" style=\"line-height: 2.5; direction: ltr\">please order qty 1 \n",
       "<mark class=\"entity\" style=\"background: #92E0AA; padding: 0.45em 0.6em; margin: 0 0.25em; line-height: 1; border-radius: 0.35em;\">\n",
       "    xer-116-2035\n",
       "    <span style=\"font-size: 0.8em; font-weight: bold; line-height: 1; border-radius: 0.35em; vertical-align: middle; margin-left: 0.5rem\">PART_NUM</span>\n",
       "</mark>\n",
       " nbd to my hal in lenexa . thank you . </div></span>"
      ],
      "text/plain": [
       "<IPython.core.display.HTML object>"
      ]
     },
     "metadata": {},
     "output_type": "display_data"
    },
    {
     "name": "stdout",
     "output_type": "stream",
     "text": [
      "------------------------- predict entities -------------------------\n",
      "('xer-116-2035', 19, 31, 'PART_NUM')\n",
      "====================================================================================================\n",
      "please order qty 1 bro-bu100clh nbd to my hal in lenexa . thank you . \n"
     ]
    },
    {
     "data": {
      "text/html": [
       "<span class=\"tex2jax_ignore\"><div class=\"entities\" style=\"line-height: 2.5; direction: ltr\">please order qty 1 \n",
       "<mark class=\"entity\" style=\"background: #92E0AA; padding: 0.45em 0.6em; margin: 0 0.25em; line-height: 1; border-radius: 0.35em;\">\n",
       "    bro-bu100clh\n",
       "    <span style=\"font-size: 0.8em; font-weight: bold; line-height: 1; border-radius: 0.35em; vertical-align: middle; margin-left: 0.5rem\">PART_NUM</span>\n",
       "</mark>\n",
       " nbd to my hal in lenexa . thank you . </div></span>"
      ],
      "text/plain": [
       "<IPython.core.display.HTML object>"
      ]
     },
     "metadata": {},
     "output_type": "display_data"
    },
    {
     "name": "stdout",
     "output_type": "stream",
     "text": [
      "------------------------- predict entities -------------------------\n",
      "('bro-bu100clh', 19, 31, 'PART_NUM')\n",
      "====================================================================================================\n",
      "please order qty 1 3x-lk465-a2 nbd to my hal in lenexa . thank you . \n"
     ]
    },
    {
     "data": {
      "text/html": [
       "<span class=\"tex2jax_ignore\"><div class=\"entities\" style=\"line-height: 2.5; direction: ltr\">please order qty 1 \n",
       "<mark class=\"entity\" style=\"background: #92E0AA; padding: 0.45em 0.6em; margin: 0 0.25em; line-height: 1; border-radius: 0.35em;\">\n",
       "    3x-lk465-a2\n",
       "    <span style=\"font-size: 0.8em; font-weight: bold; line-height: 1; border-radius: 0.35em; vertical-align: middle; margin-left: 0.5rem\">PART_NUM</span>\n",
       "</mark>\n",
       " nbd to my hal in lenexa . thank you . </div></span>"
      ],
      "text/plain": [
       "<IPython.core.display.HTML object>"
      ]
     },
     "metadata": {},
     "output_type": "display_data"
    },
    {
     "name": "stdout",
     "output_type": "stream",
     "text": [
      "------------------------- predict entities -------------------------\n",
      "('3x-lk465-a2', 19, 30, 'PART_NUM')\n",
      "====================================================================================================\n",
      "please order qty 1 4g1-3999-030cn nbd to my hal in lenexa . thank you . \n"
     ]
    },
    {
     "data": {
      "text/html": [
       "<span class=\"tex2jax_ignore\"><div class=\"entities\" style=\"line-height: 2.5; direction: ltr\">please order qty 1 \n",
       "<mark class=\"entity\" style=\"background: #92E0AA; padding: 0.45em 0.6em; margin: 0 0.25em; line-height: 1; border-radius: 0.35em;\">\n",
       "    4g1-3999-030cn\n",
       "    <span style=\"font-size: 0.8em; font-weight: bold; line-height: 1; border-radius: 0.35em; vertical-align: middle; margin-left: 0.5rem\">PART_NUM</span>\n",
       "</mark>\n",
       " nbd to my hal in lenexa . thank you . </div></span>"
      ],
      "text/plain": [
       "<IPython.core.display.HTML object>"
      ]
     },
     "metadata": {},
     "output_type": "display_data"
    },
    {
     "name": "stdout",
     "output_type": "stream",
     "text": [
      "------------------------- predict entities -------------------------\n",
      "('4g1-3999-030cn', 19, 33, 'PART_NUM')\n",
      "====================================================================================================\n",
      "please order qty 1 h3980-60002bulk nbd to my hal in lenexa . thank you . \n"
     ]
    },
    {
     "data": {
      "text/html": [
       "<span class=\"tex2jax_ignore\"><div class=\"entities\" style=\"line-height: 2.5; direction: ltr\">please order qty 1 \n",
       "<mark class=\"entity\" style=\"background: #92E0AA; padding: 0.45em 0.6em; margin: 0 0.25em; line-height: 1; border-radius: 0.35em;\">\n",
       "    h3980-60002bulk\n",
       "    <span style=\"font-size: 0.8em; font-weight: bold; line-height: 1; border-radius: 0.35em; vertical-align: middle; margin-left: 0.5rem\">PART_NUM</span>\n",
       "</mark>\n",
       " nbd to my hal in lenexa . thank you . </div></span>"
      ],
      "text/plain": [
       "<IPython.core.display.HTML object>"
      ]
     },
     "metadata": {},
     "output_type": "display_data"
    },
    {
     "name": "stdout",
     "output_type": "stream",
     "text": [
      "------------------------- predict entities -------------------------\n",
      "('h3980-60002bulk', 19, 34, 'PART_NUM')\n",
      "====================================================================================================\n",
      "please order qty 1 sha-vhi0mfp000 nbd to my hal in lenexa . thank you . \n"
     ]
    },
    {
     "data": {
      "text/html": [
       "<span class=\"tex2jax_ignore\"><div class=\"entities\" style=\"line-height: 2.5; direction: ltr\">please order qty 1 \n",
       "<mark class=\"entity\" style=\"background: #92E0AA; padding: 0.45em 0.6em; margin: 0 0.25em; line-height: 1; border-radius: 0.35em;\">\n",
       "    sha-vhi0mfp000\n",
       "    <span style=\"font-size: 0.8em; font-weight: bold; line-height: 1; border-radius: 0.35em; vertical-align: middle; margin-left: 0.5rem\">PART_NUM</span>\n",
       "</mark>\n",
       " nbd to my hal in lenexa . thank you . </div></span>"
      ],
      "text/plain": [
       "<IPython.core.display.HTML object>"
      ]
     },
     "metadata": {},
     "output_type": "display_data"
    },
    {
     "name": "stdout",
     "output_type": "stream",
     "text": [
      "------------------------- predict entities -------------------------\n",
      "('sha-vhi0mfp000', 19, 33, 'PART_NUM')\n",
      "====================================================================================================\n",
      "please order qty 1 tos-c017839000 nbd to my hal in lenexa . thank you . \n"
     ]
    },
    {
     "data": {
      "text/html": [
       "<span class=\"tex2jax_ignore\"><div class=\"entities\" style=\"line-height: 2.5; direction: ltr\">please order qty 1 \n",
       "<mark class=\"entity\" style=\"background: #92E0AA; padding: 0.45em 0.6em; margin: 0 0.25em; line-height: 1; border-radius: 0.35em;\">\n",
       "    tos-c017839000\n",
       "    <span style=\"font-size: 0.8em; font-weight: bold; line-height: 1; border-radius: 0.35em; vertical-align: middle; margin-left: 0.5rem\">PART_NUM</span>\n",
       "</mark>\n",
       " nbd to my hal in lenexa . thank you . </div></span>"
      ],
      "text/plain": [
       "<IPython.core.display.HTML object>"
      ]
     },
     "metadata": {},
     "output_type": "display_data"
    },
    {
     "name": "stdout",
     "output_type": "stream",
     "text": [
      "------------------------- predict entities -------------------------\n",
      "('tos-c017839000', 19, 33, 'PART_NUM')\n",
      "====================================================================================================\n",
      "please order qty 1 jc66-01190a nbd to my hal in lenexa . thank you . \n"
     ]
    },
    {
     "data": {
      "text/html": [
       "<span class=\"tex2jax_ignore\"><div class=\"entities\" style=\"line-height: 2.5; direction: ltr\">please order qty 1 \n",
       "<mark class=\"entity\" style=\"background: #92E0AA; padding: 0.45em 0.6em; margin: 0 0.25em; line-height: 1; border-radius: 0.35em;\">\n",
       "    jc66-01190a\n",
       "    <span style=\"font-size: 0.8em; font-weight: bold; line-height: 1; border-radius: 0.35em; vertical-align: middle; margin-left: 0.5rem\">PART_NUM</span>\n",
       "</mark>\n",
       " nbd to my hal in lenexa . thank you . </div></span>"
      ],
      "text/plain": [
       "<IPython.core.display.HTML object>"
      ]
     },
     "metadata": {},
     "output_type": "display_data"
    },
    {
     "name": "stdout",
     "output_type": "stream",
     "text": [
      "------------------------- predict entities -------------------------\n",
      "('jc66-01190a', 19, 30, 'PART_NUM')\n",
      "====================================================================================================\n",
      "please order qty 1 xer-3335dni nbd to my hal in lenexa . thank you . \n"
     ]
    },
    {
     "data": {
      "text/html": [
       "<span class=\"tex2jax_ignore\"><div class=\"entities\" style=\"line-height: 2.5; direction: ltr\">please order qty 1 \n",
       "<mark class=\"entity\" style=\"background: #92E0AA; padding: 0.45em 0.6em; margin: 0 0.25em; line-height: 1; border-radius: 0.35em;\">\n",
       "    xer-3335dni\n",
       "    <span style=\"font-size: 0.8em; font-weight: bold; line-height: 1; border-radius: 0.35em; vertical-align: middle; margin-left: 0.5rem\">PART_NUM</span>\n",
       "</mark>\n",
       " nbd to my hal in lenexa . thank you . </div></span>"
      ],
      "text/plain": [
       "<IPython.core.display.HTML object>"
      ]
     },
     "metadata": {},
     "output_type": "display_data"
    },
    {
     "name": "stdout",
     "output_type": "stream",
     "text": [
      "------------------------- predict entities -------------------------\n",
      "('xer-3335dni', 19, 30, 'PART_NUM')\n",
      "====================================================================================================\n",
      "please order qty 1 xer-3635mfp-s nbd to my hal in lenexa . thank you . \n"
     ]
    },
    {
     "data": {
      "text/html": [
       "<span class=\"tex2jax_ignore\"><div class=\"entities\" style=\"line-height: 2.5; direction: ltr\">please order qty 1 \n",
       "<mark class=\"entity\" style=\"background: #92E0AA; padding: 0.45em 0.6em; margin: 0 0.25em; line-height: 1; border-radius: 0.35em;\">\n",
       "    xer-3635mfp-s\n",
       "    <span style=\"font-size: 0.8em; font-weight: bold; line-height: 1; border-radius: 0.35em; vertical-align: middle; margin-left: 0.5rem\">PART_NUM</span>\n",
       "</mark>\n",
       " nbd to my hal in lenexa . thank you . </div></span>"
      ],
      "text/plain": [
       "<IPython.core.display.HTML object>"
      ]
     },
     "metadata": {},
     "output_type": "display_data"
    },
    {
     "name": "stdout",
     "output_type": "stream",
     "text": [
      "------------------------- predict entities -------------------------\n",
      "('xer-3635mfp-s', 19, 32, 'PART_NUM')\n",
      "====================================================================================================\n",
      "please order qty 1 xer-4622dn nbd to my hal in lenexa . thank you . \n"
     ]
    },
    {
     "data": {
      "text/html": [
       "<span class=\"tex2jax_ignore\"><div class=\"entities\" style=\"line-height: 2.5; direction: ltr\">please order qty 1 \n",
       "<mark class=\"entity\" style=\"background: #92E0AA; padding: 0.45em 0.6em; margin: 0 0.25em; line-height: 1; border-radius: 0.35em;\">\n",
       "    xer-4622dn\n",
       "    <span style=\"font-size: 0.8em; font-weight: bold; line-height: 1; border-radius: 0.35em; vertical-align: middle; margin-left: 0.5rem\">PART_NUM</span>\n",
       "</mark>\n",
       " nbd to my hal in lenexa . thank you . </div></span>"
      ],
      "text/plain": [
       "<IPython.core.display.HTML object>"
      ]
     },
     "metadata": {},
     "output_type": "display_data"
    },
    {
     "name": "stdout",
     "output_type": "stream",
     "text": [
      "------------------------- predict entities -------------------------\n",
      "('xer-4622dn', 19, 29, 'PART_NUM')\n",
      "====================================================================================================\n",
      "please order qty 1 xer-7750-z2 nbd to my hal in lenexa . thank you . \n"
     ]
    },
    {
     "data": {
      "text/html": [
       "<span class=\"tex2jax_ignore\"><div class=\"entities\" style=\"line-height: 2.5; direction: ltr\">please order qty 1 \n",
       "<mark class=\"entity\" style=\"background: #92E0AA; padding: 0.45em 0.6em; margin: 0 0.25em; line-height: 1; border-radius: 0.35em;\">\n",
       "    xer-7750-z2\n",
       "    <span style=\"font-size: 0.8em; font-weight: bold; line-height: 1; border-radius: 0.35em; vertical-align: middle; margin-left: 0.5rem\">PART_NUM</span>\n",
       "</mark>\n",
       " nbd to my hal in lenexa . thank you . </div></span>"
      ],
      "text/plain": [
       "<IPython.core.display.HTML object>"
      ]
     },
     "metadata": {},
     "output_type": "display_data"
    },
    {
     "name": "stdout",
     "output_type": "stream",
     "text": [
      "------------------------- predict entities -------------------------\n",
      "('xer-7750-z2', 19, 30, 'PART_NUM')\n",
      "====================================================================================================\n",
      "please order qty 1 del-d1320-w3 nbd to my hal in lenexa . thank you . \n"
     ]
    },
    {
     "data": {
      "text/html": [
       "<span class=\"tex2jax_ignore\"><div class=\"entities\" style=\"line-height: 2.5; direction: ltr\">please order qty 1 \n",
       "<mark class=\"entity\" style=\"background: #92E0AA; padding: 0.45em 0.6em; margin: 0 0.25em; line-height: 1; border-radius: 0.35em;\">\n",
       "    del-d1320-w3\n",
       "    <span style=\"font-size: 0.8em; font-weight: bold; line-height: 1; border-radius: 0.35em; vertical-align: middle; margin-left: 0.5rem\">PART_NUM</span>\n",
       "</mark>\n",
       " nbd to my hal in lenexa . thank you . </div></span>"
      ],
      "text/plain": [
       "<IPython.core.display.HTML object>"
      ]
     },
     "metadata": {},
     "output_type": "display_data"
    },
    {
     "name": "stdout",
     "output_type": "stream",
     "text": [
      "------------------------- predict entities -------------------------\n",
      "('del-d1320-w3', 19, 31, 'PART_NUM')\n",
      "====================================================================================================\n",
      "please order qty 1 del-p637d nbd to my hal in lenexa . thank you . \n"
     ]
    },
    {
     "data": {
      "text/html": [
       "<span class=\"tex2jax_ignore\"><div class=\"entities\" style=\"line-height: 2.5; direction: ltr\">please order qty 1 \n",
       "<mark class=\"entity\" style=\"background: #92E0AA; padding: 0.45em 0.6em; margin: 0 0.25em; line-height: 1; border-radius: 0.35em;\">\n",
       "    del-p637d\n",
       "    <span style=\"font-size: 0.8em; font-weight: bold; line-height: 1; border-radius: 0.35em; vertical-align: middle; margin-left: 0.5rem\">PART_NUM</span>\n",
       "</mark>\n",
       " nbd to my hal in lenexa . thank you . </div></span>"
      ],
      "text/plain": [
       "<IPython.core.display.HTML object>"
      ]
     },
     "metadata": {},
     "output_type": "display_data"
    },
    {
     "name": "stdout",
     "output_type": "stream",
     "text": [
      "------------------------- predict entities -------------------------\n",
      "('del-p637d', 19, 28, 'PART_NUM')\n",
      "====================================================================================================\n",
      "please order qty 1 lex-c540x35g nbd to my hal in lenexa . thank you . \n"
     ]
    },
    {
     "data": {
      "text/html": [
       "<span class=\"tex2jax_ignore\"><div class=\"entities\" style=\"line-height: 2.5; direction: ltr\">please order qty 1 \n",
       "<mark class=\"entity\" style=\"background: #92E0AA; padding: 0.45em 0.6em; margin: 0 0.25em; line-height: 1; border-radius: 0.35em;\">\n",
       "    lex-c540x35g\n",
       "    <span style=\"font-size: 0.8em; font-weight: bold; line-height: 1; border-radius: 0.35em; vertical-align: middle; margin-left: 0.5rem\">PART_NUM</span>\n",
       "</mark>\n",
       " nbd to my hal in lenexa . thank you . </div></span>"
      ],
      "text/plain": [
       "<IPython.core.display.HTML object>"
      ]
     },
     "metadata": {},
     "output_type": "display_data"
    },
    {
     "name": "stdout",
     "output_type": "stream",
     "text": [
      "------------------------- predict entities -------------------------\n",
      "('lex-c540x35g', 19, 31, 'PART_NUM')\n",
      "====================================================================================================\n",
      "please order qty 1 sha-cpltm8190f nbd to my hal in lenexa . thank you . \n"
     ]
    },
    {
     "data": {
      "text/html": [
       "<span class=\"tex2jax_ignore\"><div class=\"entities\" style=\"line-height: 2.5; direction: ltr\">please order qty 1 \n",
       "<mark class=\"entity\" style=\"background: #92E0AA; padding: 0.45em 0.6em; margin: 0 0.25em; line-height: 1; border-radius: 0.35em;\">\n",
       "    sha-cpltm8190f\n",
       "    <span style=\"font-size: 0.8em; font-weight: bold; line-height: 1; border-radius: 0.35em; vertical-align: middle; margin-left: 0.5rem\">PART_NUM</span>\n",
       "</mark>\n",
       " nbd to my hal in lenexa . thank you . </div></span>"
      ],
      "text/plain": [
       "<IPython.core.display.HTML object>"
      ]
     },
     "metadata": {},
     "output_type": "display_data"
    },
    {
     "name": "stdout",
     "output_type": "stream",
     "text": [
      "------------------------- predict entities -------------------------\n",
      "('sha-cpltm8190f', 19, 33, 'PART_NUM')\n",
      "====================================================================================================\n",
      "please order qty 1 shacfrm-1380ds53 nbd to my hal in lenexa . thank you . \n"
     ]
    },
    {
     "data": {
      "text/html": [
       "<span class=\"tex2jax_ignore\"><div class=\"entities\" style=\"line-height: 2.5; direction: ltr\">please order qty 1 \n",
       "<mark class=\"entity\" style=\"background: #92E0AA; padding: 0.45em 0.6em; margin: 0 0.25em; line-height: 1; border-radius: 0.35em;\">\n",
       "    shacfrm-1380ds53\n",
       "    <span style=\"font-size: 0.8em; font-weight: bold; line-height: 1; border-radius: 0.35em; vertical-align: middle; margin-left: 0.5rem\">PART_NUM</span>\n",
       "</mark>\n",
       " nbd to my hal in lenexa . thank you . </div></span>"
      ],
      "text/plain": [
       "<IPython.core.display.HTML object>"
      ]
     },
     "metadata": {},
     "output_type": "display_data"
    },
    {
     "name": "stdout",
     "output_type": "stream",
     "text": [
      "------------------------- predict entities -------------------------\n",
      "('shacfrm-1380ds53', 19, 35, 'PART_NUM')\n",
      "====================================================================================================\n",
      "please order qty 1 xer-401-0855-0 nbd to my hal in lenexa . thank you . \n"
     ]
    },
    {
     "data": {
      "text/html": [
       "<span class=\"tex2jax_ignore\"><div class=\"entities\" style=\"line-height: 2.5; direction: ltr\">please order qty 1 \n",
       "<mark class=\"entity\" style=\"background: #92E0AA; padding: 0.45em 0.6em; margin: 0 0.25em; line-height: 1; border-radius: 0.35em;\">\n",
       "    xer-401-0855-0\n",
       "    <span style=\"font-size: 0.8em; font-weight: bold; line-height: 1; border-radius: 0.35em; vertical-align: middle; margin-left: 0.5rem\">PART_NUM</span>\n",
       "</mark>\n",
       " nbd to my hal in lenexa . thank you . </div></span>"
      ],
      "text/plain": [
       "<IPython.core.display.HTML object>"
      ]
     },
     "metadata": {},
     "output_type": "display_data"
    },
    {
     "name": "stdout",
     "output_type": "stream",
     "text": [
      "------------------------- predict entities -------------------------\n",
      "('xer-401-0855-0', 19, 33, 'PART_NUM')\n",
      "====================================================================================================\n",
      "please order qty 1 90-0077 nbd to my hal in lenexa . thank you . \n"
     ]
    },
    {
     "data": {
      "text/html": [
       "<span class=\"tex2jax_ignore\"><div class=\"entities\" style=\"line-height: 2.5; direction: ltr\">please order qty 1 \n",
       "<mark class=\"entity\" style=\"background: #92E0AA; padding: 0.45em 0.6em; margin: 0 0.25em; line-height: 1; border-radius: 0.35em;\">\n",
       "    90-0077\n",
       "    <span style=\"font-size: 0.8em; font-weight: bold; line-height: 1; border-radius: 0.35em; vertical-align: middle; margin-left: 0.5rem\">PART_NUM</span>\n",
       "</mark>\n",
       " nbd to my hal in lenexa . thank you . </div></span>"
      ],
      "text/plain": [
       "<IPython.core.display.HTML object>"
      ]
     },
     "metadata": {},
     "output_type": "display_data"
    },
    {
     "name": "stdout",
     "output_type": "stream",
     "text": [
      "------------------------- predict entities -------------------------\n",
      "('90-0077', 19, 26, 'PART_NUM')\n",
      "====================================================================================================\n",
      "please order qty 1 bro-lf6710001 nbd to my hal in lenexa . thank you . \n"
     ]
    },
    {
     "data": {
      "text/html": [
       "<span class=\"tex2jax_ignore\"><div class=\"entities\" style=\"line-height: 2.5; direction: ltr\">please order qty 1 \n",
       "<mark class=\"entity\" style=\"background: #92E0AA; padding: 0.45em 0.6em; margin: 0 0.25em; line-height: 1; border-radius: 0.35em;\">\n",
       "    bro-lf6710001\n",
       "    <span style=\"font-size: 0.8em; font-weight: bold; line-height: 1; border-radius: 0.35em; vertical-align: middle; margin-left: 0.5rem\">PART_NUM</span>\n",
       "</mark>\n",
       " nbd to my hal in lenexa . thank you . </div></span>"
      ],
      "text/plain": [
       "<IPython.core.display.HTML object>"
      ]
     },
     "metadata": {},
     "output_type": "display_data"
    },
    {
     "name": "stdout",
     "output_type": "stream",
     "text": [
      "------------------------- predict entities -------------------------\n",
      "('bro-lf6710001', 19, 32, 'PART_NUM')\n",
      "====================================================================================================\n",
      "please order qty 1 q3938-68001-pca nbd to my hal in lenexa . thank you . \n"
     ]
    },
    {
     "data": {
      "text/html": [
       "<span class=\"tex2jax_ignore\"><div class=\"entities\" style=\"line-height: 2.5; direction: ltr\">please order qty 1 \n",
       "<mark class=\"entity\" style=\"background: #92E0AA; padding: 0.45em 0.6em; margin: 0 0.25em; line-height: 1; border-radius: 0.35em;\">\n",
       "    q3938-68001-pca\n",
       "    <span style=\"font-size: 0.8em; font-weight: bold; line-height: 1; border-radius: 0.35em; vertical-align: middle; margin-left: 0.5rem\">PART_NUM</span>\n",
       "</mark>\n",
       " nbd to my hal in lenexa . thank you . </div></span>"
      ],
      "text/plain": [
       "<IPython.core.display.HTML object>"
      ]
     },
     "metadata": {},
     "output_type": "display_data"
    },
    {
     "name": "stdout",
     "output_type": "stream",
     "text": [
      "------------------------- predict entities -------------------------\n",
      "('q3938-68001-pca', 19, 34, 'PART_NUM')\n",
      "====================================================================================================\n",
      "please order qty 1 c314x+49a-90002 nbd to my hal in lenexa . thank you . \n"
     ]
    },
    {
     "data": {
      "text/html": [
       "<span class=\"tex2jax_ignore\"><div class=\"entities\" style=\"line-height: 2.5; direction: ltr\">please order qty 1 \n",
       "<mark class=\"entity\" style=\"background: #92E0AA; padding: 0.45em 0.6em; margin: 0 0.25em; line-height: 1; border-radius: 0.35em;\">\n",
       "    c314x+49a-90002\n",
       "    <span style=\"font-size: 0.8em; font-weight: bold; line-height: 1; border-radius: 0.35em; vertical-align: middle; margin-left: 0.5rem\">PART_NUM</span>\n",
       "</mark>\n",
       " nbd to my hal in lenexa . thank you . </div></span>"
      ],
      "text/plain": [
       "<IPython.core.display.HTML object>"
      ]
     },
     "metadata": {},
     "output_type": "display_data"
    },
    {
     "name": "stdout",
     "output_type": "stream",
     "text": [
      "------------------------- predict entities -------------------------\n",
      "('c314x+49a-90002', 19, 34, 'PART_NUM')\n",
      "====================================================================================================\n",
      "please order qty 1 20er-84530kc nbd to my hal in lenexa . thank you . \n"
     ]
    },
    {
     "data": {
      "text/html": [
       "<span class=\"tex2jax_ignore\"><div class=\"entities\" style=\"line-height: 2.5; direction: ltr\">please order qty 1 \n",
       "<mark class=\"entity\" style=\"background: #92E0AA; padding: 0.45em 0.6em; margin: 0 0.25em; line-height: 1; border-radius: 0.35em;\">\n",
       "    20er-84530kc\n",
       "    <span style=\"font-size: 0.8em; font-weight: bold; line-height: 1; border-radius: 0.35em; vertical-align: middle; margin-left: 0.5rem\">PART_NUM</span>\n",
       "</mark>\n",
       " nbd to my hal in lenexa . thank you . </div></span>"
      ],
      "text/plain": [
       "<IPython.core.display.HTML object>"
      ]
     },
     "metadata": {},
     "output_type": "display_data"
    },
    {
     "name": "stdout",
     "output_type": "stream",
     "text": [
      "------------------------- predict entities -------------------------\n",
      "('20er-84530kc', 19, 31, 'PART_NUM')\n",
      "====================================================================================================\n",
      "please order qty 1 rm2-2903-bulk nbd to my hal in lenexa . thank you . \n"
     ]
    },
    {
     "data": {
      "text/html": [
       "<span class=\"tex2jax_ignore\"><div class=\"entities\" style=\"line-height: 2.5; direction: ltr\">please order qty 1 \n",
       "<mark class=\"entity\" style=\"background: #92E0AA; padding: 0.45em 0.6em; margin: 0 0.25em; line-height: 1; border-radius: 0.35em;\">\n",
       "    rm2-2903-bulk\n",
       "    <span style=\"font-size: 0.8em; font-weight: bold; line-height: 1; border-radius: 0.35em; vertical-align: middle; margin-left: 0.5rem\">PART_NUM</span>\n",
       "</mark>\n",
       " nbd to my hal in lenexa . thank you . </div></span>"
      ],
      "text/plain": [
       "<IPython.core.display.HTML object>"
      ]
     },
     "metadata": {},
     "output_type": "display_data"
    },
    {
     "name": "stdout",
     "output_type": "stream",
     "text": [
      "------------------------- predict entities -------------------------\n",
      "('rm2-2903-bulk', 19, 32, 'PART_NUM')\n",
      "====================================================================================================\n",
      "please order qty 1 ce506-67919-bu nbd to my hal in lenexa . thank you . \n"
     ]
    },
    {
     "data": {
      "text/html": [
       "<span class=\"tex2jax_ignore\"><div class=\"entities\" style=\"line-height: 2.5; direction: ltr\">please order qty 1 \n",
       "<mark class=\"entity\" style=\"background: #92E0AA; padding: 0.45em 0.6em; margin: 0 0.25em; line-height: 1; border-radius: 0.35em;\">\n",
       "    ce506-67919-bu\n",
       "    <span style=\"font-size: 0.8em; font-weight: bold; line-height: 1; border-radius: 0.35em; vertical-align: middle; margin-left: 0.5rem\">PART_NUM</span>\n",
       "</mark>\n",
       " nbd to my hal in lenexa . thank you . </div></span>"
      ],
      "text/plain": [
       "<IPython.core.display.HTML object>"
      ]
     },
     "metadata": {},
     "output_type": "display_data"
    },
    {
     "name": "stdout",
     "output_type": "stream",
     "text": [
      "------------------------- predict entities -------------------------\n",
      "('ce506-67919-bu', 19, 33, 'PART_NUM')\n",
      "====================================================================================================\n",
      "please order qty 1 ch971-91596 nbd to my hal in lenexa . thank you . \n"
     ]
    },
    {
     "data": {
      "text/html": [
       "<span class=\"tex2jax_ignore\"><div class=\"entities\" style=\"line-height: 2.5; direction: ltr\">please order qty 1 \n",
       "<mark class=\"entity\" style=\"background: #92E0AA; padding: 0.45em 0.6em; margin: 0 0.25em; line-height: 1; border-radius: 0.35em;\">\n",
       "    ch971-91596\n",
       "    <span style=\"font-size: 0.8em; font-weight: bold; line-height: 1; border-radius: 0.35em; vertical-align: middle; margin-left: 0.5rem\">PART_NUM</span>\n",
       "</mark>\n",
       " nbd to my hal in lenexa . thank you . </div></span>"
      ],
      "text/plain": [
       "<IPython.core.display.HTML object>"
      ]
     },
     "metadata": {},
     "output_type": "display_data"
    },
    {
     "name": "stdout",
     "output_type": "stream",
     "text": [
      "------------------------- predict entities -------------------------\n",
      "('ch971-91596', 19, 30, 'PART_NUM')\n",
      "====================================================================================================\n",
      "please order qty 1 del-fm235 nbd to my hal in lenexa . thank you . \n"
     ]
    },
    {
     "data": {
      "text/html": [
       "<span class=\"tex2jax_ignore\"><div class=\"entities\" style=\"line-height: 2.5; direction: ltr\">please order qty 1 \n",
       "<mark class=\"entity\" style=\"background: #92E0AA; padding: 0.45em 0.6em; margin: 0 0.25em; line-height: 1; border-radius: 0.35em;\">\n",
       "    del-fm235\n",
       "    <span style=\"font-size: 0.8em; font-weight: bold; line-height: 1; border-radius: 0.35em; vertical-align: middle; margin-left: 0.5rem\">PART_NUM</span>\n",
       "</mark>\n",
       " nbd to my hal in lenexa . thank you . </div></span>"
      ],
      "text/plain": [
       "<IPython.core.display.HTML object>"
      ]
     },
     "metadata": {},
     "output_type": "display_data"
    },
    {
     "name": "stdout",
     "output_type": "stream",
     "text": [
      "------------------------- predict entities -------------------------\n",
      "('del-fm235', 19, 28, 'PART_NUM')\n",
      "====================================================================================================\n",
      "please order qty 1 jc44-00210e nbd to my hal in lenexa . thank you . \n"
     ]
    },
    {
     "data": {
      "text/html": [
       "<span class=\"tex2jax_ignore\"><div class=\"entities\" style=\"line-height: 2.5; direction: ltr\">please order qty 1 \n",
       "<mark class=\"entity\" style=\"background: #92E0AA; padding: 0.45em 0.6em; margin: 0 0.25em; line-height: 1; border-radius: 0.35em;\">\n",
       "    jc44-00210e\n",
       "    <span style=\"font-size: 0.8em; font-weight: bold; line-height: 1; border-radius: 0.35em; vertical-align: middle; margin-left: 0.5rem\">PART_NUM</span>\n",
       "</mark>\n",
       " nbd to my hal in lenexa . thank you . </div></span>"
      ],
      "text/plain": [
       "<IPython.core.display.HTML object>"
      ]
     },
     "metadata": {},
     "output_type": "display_data"
    },
    {
     "name": "stdout",
     "output_type": "stream",
     "text": [
      "------------------------- predict entities -------------------------\n",
      "('jc44-00210e', 19, 30, 'PART_NUM')\n",
      "====================================================================================================\n",
      "please order qty 1 shacfrm-1509ds52 nbd to my hal in lenexa . thank you . \n"
     ]
    },
    {
     "data": {
      "text/html": [
       "<span class=\"tex2jax_ignore\"><div class=\"entities\" style=\"line-height: 2.5; direction: ltr\">please order qty 1 \n",
       "<mark class=\"entity\" style=\"background: #92E0AA; padding: 0.45em 0.6em; margin: 0 0.25em; line-height: 1; border-radius: 0.35em;\">\n",
       "    shacfrm-1509ds52\n",
       "    <span style=\"font-size: 0.8em; font-weight: bold; line-height: 1; border-radius: 0.35em; vertical-align: middle; margin-left: 0.5rem\">PART_NUM</span>\n",
       "</mark>\n",
       " nbd to my hal in lenexa . thank you . </div></span>"
      ],
      "text/plain": [
       "<IPython.core.display.HTML object>"
      ]
     },
     "metadata": {},
     "output_type": "display_data"
    },
    {
     "name": "stdout",
     "output_type": "stream",
     "text": [
      "------------------------- predict entities -------------------------\n",
      "('shacfrm-1509ds52', 19, 35, 'PART_NUM')\n",
      "====================================================================================================\n",
      "please order qty 1 shadhai-5043fcpz nbd to my hal in lenexa . thank you . \n"
     ]
    },
    {
     "data": {
      "text/html": [
       "<span class=\"tex2jax_ignore\"><div class=\"entities\" style=\"line-height: 2.5; direction: ltr\">please order qty 1 \n",
       "<mark class=\"entity\" style=\"background: #92E0AA; padding: 0.45em 0.6em; margin: 0 0.25em; line-height: 1; border-radius: 0.35em;\">\n",
       "    shadhai-5043fcpz\n",
       "    <span style=\"font-size: 0.8em; font-weight: bold; line-height: 1; border-radius: 0.35em; vertical-align: middle; margin-left: 0.5rem\">PART_NUM</span>\n",
       "</mark>\n",
       " nbd to my hal in lenexa . thank you . </div></span>"
      ],
      "text/plain": [
       "<IPython.core.display.HTML object>"
      ]
     },
     "metadata": {},
     "output_type": "display_data"
    },
    {
     "name": "stdout",
     "output_type": "stream",
     "text": [
      "------------------------- predict entities -------------------------\n",
      "('shadhai-5043fcpz', 19, 35, 'PART_NUM')\n",
      "====================================================================================================\n",
      "please order qty 1 shagcab-1102fcb1 nbd to my hal in lenexa . thank you . \n"
     ]
    },
    {
     "data": {
      "text/html": [
       "<span class=\"tex2jax_ignore\"><div class=\"entities\" style=\"line-height: 2.5; direction: ltr\">please order qty 1 \n",
       "<mark class=\"entity\" style=\"background: #92E0AA; padding: 0.45em 0.6em; margin: 0 0.25em; line-height: 1; border-radius: 0.35em;\">\n",
       "    shagcab-1102fcb1\n",
       "    <span style=\"font-size: 0.8em; font-weight: bold; line-height: 1; border-radius: 0.35em; vertical-align: middle; margin-left: 0.5rem\">PART_NUM</span>\n",
       "</mark>\n",
       " nbd to my hal in lenexa . thank you . </div></span>"
      ],
      "text/plain": [
       "<IPython.core.display.HTML object>"
      ]
     },
     "metadata": {},
     "output_type": "display_data"
    },
    {
     "name": "stdout",
     "output_type": "stream",
     "text": [
      "------------------------- predict entities -------------------------\n",
      "('shagcab-1102fcb1', 19, 35, 'PART_NUM')\n",
      "====================================================================================================\n",
      "please order qty 1 000-50-02-008 nbd to my hal in lenexa . thank you . \n"
     ]
    },
    {
     "data": {
      "text/html": [
       "<span class=\"tex2jax_ignore\"><div class=\"entities\" style=\"line-height: 2.5; direction: ltr\">please order qty 1 \n",
       "<mark class=\"entity\" style=\"background: #92E0AA; padding: 0.45em 0.6em; margin: 0 0.25em; line-height: 1; border-radius: 0.35em;\">\n",
       "    000-50-02-008\n",
       "    <span style=\"font-size: 0.8em; font-weight: bold; line-height: 1; border-radius: 0.35em; vertical-align: middle; margin-left: 0.5rem\">PART_NUM</span>\n",
       "</mark>\n",
       " nbd to my hal in lenexa . thank you . </div></span>"
      ],
      "text/plain": [
       "<IPython.core.display.HTML object>"
      ]
     },
     "metadata": {},
     "output_type": "display_data"
    },
    {
     "name": "stdout",
     "output_type": "stream",
     "text": [
      "------------------------- predict entities -------------------------\n",
      "('000-50-02-008', 19, 32, 'PART_NUM')\n",
      "====================================================================================================\n",
      "please order qty 1 504000226-dd nbd to my hal in lenexa . thank you . \n"
     ]
    },
    {
     "data": {
      "text/html": [
       "<span class=\"tex2jax_ignore\"><div class=\"entities\" style=\"line-height: 2.5; direction: ltr\">please order qty 1 \n",
       "<mark class=\"entity\" style=\"background: #92E0AA; padding: 0.45em 0.6em; margin: 0 0.25em; line-height: 1; border-radius: 0.35em;\">\n",
       "    504000226-dd\n",
       "    <span style=\"font-size: 0.8em; font-weight: bold; line-height: 1; border-radius: 0.35em; vertical-align: middle; margin-left: 0.5rem\">PART_NUM</span>\n",
       "</mark>\n",
       " nbd to my hal in lenexa . thank you . </div></span>"
      ],
      "text/plain": [
       "<IPython.core.display.HTML object>"
      ]
     },
     "metadata": {},
     "output_type": "display_data"
    },
    {
     "name": "stdout",
     "output_type": "stream",
     "text": [
      "------------------------- predict entities -------------------------\n",
      "('504000226-dd', 19, 31, 'PART_NUM')\n",
      "====================================================================================================\n",
      "please order qty 1 shavhplg217l5a-1 nbd to my hal in lenexa . thank you . \n"
     ]
    },
    {
     "data": {
      "text/html": [
       "<span class=\"tex2jax_ignore\"><div class=\"entities\" style=\"line-height: 2.5; direction: ltr\">please order qty 1 \n",
       "<mark class=\"entity\" style=\"background: #92E0AA; padding: 0.45em 0.6em; margin: 0 0.25em; line-height: 1; border-radius: 0.35em;\">\n",
       "    shavhplg217l5a-1\n",
       "    <span style=\"font-size: 0.8em; font-weight: bold; line-height: 1; border-radius: 0.35em; vertical-align: middle; margin-left: 0.5rem\">PART_NUM</span>\n",
       "</mark>\n",
       " nbd to my hal in lenexa . thank you . </div></span>"
      ],
      "text/plain": [
       "<IPython.core.display.HTML object>"
      ]
     },
     "metadata": {},
     "output_type": "display_data"
    },
    {
     "name": "stdout",
     "output_type": "stream",
     "text": [
      "------------------------- predict entities -------------------------\n",
      "('shavhplg217l5a-1', 19, 35, 'PART_NUM')\n",
      "====================================================================================================\n",
      "please order qty 1 shavhposh03y02-1 nbd to my hal in lenexa . thank you . \n"
     ]
    },
    {
     "data": {
      "text/html": [
       "<span class=\"tex2jax_ignore\"><div class=\"entities\" style=\"line-height: 2.5; direction: ltr\">please order qty 1 \n",
       "<mark class=\"entity\" style=\"background: #92E0AA; padding: 0.45em 0.6em; margin: 0 0.25em; line-height: 1; border-radius: 0.35em;\">\n",
       "    shavhposh03y02-1\n",
       "    <span style=\"font-size: 0.8em; font-weight: bold; line-height: 1; border-radius: 0.35em; vertical-align: middle; margin-left: 0.5rem\">PART_NUM</span>\n",
       "</mark>\n",
       " nbd to my hal in lenexa . thank you . </div></span>"
      ],
      "text/plain": [
       "<IPython.core.display.HTML object>"
      ]
     },
     "metadata": {},
     "output_type": "display_data"
    },
    {
     "name": "stdout",
     "output_type": "stream",
     "text": [
      "------------------------- predict entities -------------------------\n",
      "('shavhposh03y02-1', 19, 35, 'PART_NUM')\n",
      "====================================================================================================\n",
      "please order qty 1 shadunt-8962fcp1 nbd to my hal in lenexa . thank you . \n"
     ]
    },
    {
     "data": {
      "text/html": [
       "<span class=\"tex2jax_ignore\"><div class=\"entities\" style=\"line-height: 2.5; direction: ltr\">please order qty 1 \n",
       "<mark class=\"entity\" style=\"background: #92E0AA; padding: 0.45em 0.6em; margin: 0 0.25em; line-height: 1; border-radius: 0.35em;\">\n",
       "    shadunt-8962fcp1\n",
       "    <span style=\"font-size: 0.8em; font-weight: bold; line-height: 1; border-radius: 0.35em; vertical-align: middle; margin-left: 0.5rem\">PART_NUM</span>\n",
       "</mark>\n",
       " nbd to my hal in lenexa . thank you . </div></span>"
      ],
      "text/plain": [
       "<IPython.core.display.HTML object>"
      ]
     },
     "metadata": {},
     "output_type": "display_data"
    },
    {
     "name": "stdout",
     "output_type": "stream",
     "text": [
      "------------------------- predict entities -------------------------\n",
      "('shadunt-8962fcp1', 19, 35, 'PART_NUM')\n",
      "====================================================================================================\n",
      "please order qty 1 shaki-ok0010fcpz nbd to my hal in lenexa . thank you . \n"
     ]
    },
    {
     "data": {
      "text/html": [
       "<span class=\"tex2jax_ignore\"><div class=\"entities\" style=\"line-height: 2.5; direction: ltr\">please order qty 1 \n",
       "<mark class=\"entity\" style=\"background: #92E0AA; padding: 0.45em 0.6em; margin: 0 0.25em; line-height: 1; border-radius: 0.35em;\">\n",
       "    shaki-ok0010fcpz\n",
       "    <span style=\"font-size: 0.8em; font-weight: bold; line-height: 1; border-radius: 0.35em; vertical-align: middle; margin-left: 0.5rem\">PART_NUM</span>\n",
       "</mark>\n",
       " nbd to my hal in lenexa . thank you . </div></span>"
      ],
      "text/plain": [
       "<IPython.core.display.HTML object>"
      ]
     },
     "metadata": {},
     "output_type": "display_data"
    },
    {
     "name": "stdout",
     "output_type": "stream",
     "text": [
      "------------------------- predict entities -------------------------\n",
      "('shaki-ok0010fcpz', 19, 35, 'PART_NUM')\n",
      "====================================================================================================\n",
      "please order qty 1 shaqsw-p0506fczz nbd to my hal in lenexa . thank you . \n"
     ]
    },
    {
     "data": {
      "text/html": [
       "<span class=\"tex2jax_ignore\"><div class=\"entities\" style=\"line-height: 2.5; direction: ltr\">please order qty 1 \n",
       "<mark class=\"entity\" style=\"background: #92E0AA; padding: 0.45em 0.6em; margin: 0 0.25em; line-height: 1; border-radius: 0.35em;\">\n",
       "    shaqsw-p0506fczz\n",
       "    <span style=\"font-size: 0.8em; font-weight: bold; line-height: 1; border-radius: 0.35em; vertical-align: middle; margin-left: 0.5rem\">PART_NUM</span>\n",
       "</mark>\n",
       " nbd to my hal in lenexa . thank you . </div></span>"
      ],
      "text/plain": [
       "<IPython.core.display.HTML object>"
      ]
     },
     "metadata": {},
     "output_type": "display_data"
    },
    {
     "name": "stdout",
     "output_type": "stream",
     "text": [
      "------------------------- predict entities -------------------------\n",
      "('shaqsw-p0506fczz', 19, 35, 'PART_NUM')\n",
      "====================================================================================================\n",
      "please order qty 1 shavhpgp1a73ar-1 nbd to my hal in lenexa . thank you . \n"
     ]
    },
    {
     "data": {
      "text/html": [
       "<span class=\"tex2jax_ignore\"><div class=\"entities\" style=\"line-height: 2.5; direction: ltr\">please order qty 1 \n",
       "<mark class=\"entity\" style=\"background: #92E0AA; padding: 0.45em 0.6em; margin: 0 0.25em; line-height: 1; border-radius: 0.35em;\">\n",
       "    shavhpgp1a73ar-1\n",
       "    <span style=\"font-size: 0.8em; font-weight: bold; line-height: 1; border-radius: 0.35em; vertical-align: middle; margin-left: 0.5rem\">PART_NUM</span>\n",
       "</mark>\n",
       " nbd to my hal in lenexa . thank you . </div></span>"
      ],
      "text/plain": [
       "<IPython.core.display.HTML object>"
      ]
     },
     "metadata": {},
     "output_type": "display_data"
    },
    {
     "name": "stdout",
     "output_type": "stream",
     "text": [
      "------------------------- predict entities -------------------------\n",
      "('shavhpgp1a73ar-1', 19, 35, 'PART_NUM')\n",
      "====================================================================================================\n",
      "please order qty 1 sharh-ix0055fcpz nbd to my hal in lenexa . thank you . \n"
     ]
    },
    {
     "data": {
      "text/html": [
       "<span class=\"tex2jax_ignore\"><div class=\"entities\" style=\"line-height: 2.5; direction: ltr\">please order qty 1 \n",
       "<mark class=\"entity\" style=\"background: #92E0AA; padding: 0.45em 0.6em; margin: 0 0.25em; line-height: 1; border-radius: 0.35em;\">\n",
       "    sharh-ix0055fcpz\n",
       "    <span style=\"font-size: 0.8em; font-weight: bold; line-height: 1; border-radius: 0.35em; vertical-align: middle; margin-left: 0.5rem\">PART_NUM</span>\n",
       "</mark>\n",
       " nbd to my hal in lenexa . thank you . </div></span>"
      ],
      "text/plain": [
       "<IPython.core.display.HTML object>"
      ]
     },
     "metadata": {},
     "output_type": "display_data"
    },
    {
     "name": "stdout",
     "output_type": "stream",
     "text": [
      "------------------------- predict entities -------------------------\n",
      "('sharh-ix0055fcpz', 19, 35, 'PART_NUM')\n",
      "====================================================================================================\n",
      "please order qty 1 358-000001 nbd to my hal in lenexa . thank you . \n"
     ]
    },
    {
     "data": {
      "text/html": [
       "<span class=\"tex2jax_ignore\"><div class=\"entities\" style=\"line-height: 2.5; direction: ltr\">please order qty 1 \n",
       "<mark class=\"entity\" style=\"background: #92E0AA; padding: 0.45em 0.6em; margin: 0 0.25em; line-height: 1; border-radius: 0.35em;\">\n",
       "    358-000001\n",
       "    <span style=\"font-size: 0.8em; font-weight: bold; line-height: 1; border-radius: 0.35em; vertical-align: middle; margin-left: 0.5rem\">PART_NUM</span>\n",
       "</mark>\n",
       " nbd to my hal in lenexa . thank you . </div></span>"
      ],
      "text/plain": [
       "<IPython.core.display.HTML object>"
      ]
     },
     "metadata": {},
     "output_type": "display_data"
    },
    {
     "name": "stdout",
     "output_type": "stream",
     "text": [
      "------------------------- predict entities -------------------------\n",
      "('358-000001', 19, 29, 'PART_NUM')\n",
      "====================================================================================================\n",
      "please order qty 1 shavhpgp1a71l3-18 nbd to my hal in lenexa . thank you . \n"
     ]
    },
    {
     "data": {
      "text/html": [
       "<span class=\"tex2jax_ignore\"><div class=\"entities\" style=\"line-height: 2.5; direction: ltr\">please order qty 1 \n",
       "<mark class=\"entity\" style=\"background: #92E0AA; padding: 0.45em 0.6em; margin: 0 0.25em; line-height: 1; border-radius: 0.35em;\">\n",
       "    shavhpgp1a71l3-18\n",
       "    <span style=\"font-size: 0.8em; font-weight: bold; line-height: 1; border-radius: 0.35em; vertical-align: middle; margin-left: 0.5rem\">PART_NUM</span>\n",
       "</mark>\n",
       " nbd to my hal in lenexa . thank you . </div></span>"
      ],
      "text/plain": [
       "<IPython.core.display.HTML object>"
      ]
     },
     "metadata": {},
     "output_type": "display_data"
    },
    {
     "name": "stdout",
     "output_type": "stream",
     "text": [
      "------------------------- predict entities -------------------------\n",
      "('shavhpgp1a71l3-18', 19, 36, 'PART_NUM')\n",
      "====================================================================================================\n",
      "please order qty 1 b23-0994 nbd to my hal in lenexa . thank you . \n"
     ]
    },
    {
     "data": {
      "text/html": [
       "<span class=\"tex2jax_ignore\"><div class=\"entities\" style=\"line-height: 2.5; direction: ltr\">please order qty 1 \n",
       "<mark class=\"entity\" style=\"background: #92E0AA; padding: 0.45em 0.6em; margin: 0 0.25em; line-height: 1; border-radius: 0.35em;\">\n",
       "    b23-0994\n",
       "    <span style=\"font-size: 0.8em; font-weight: bold; line-height: 1; border-radius: 0.35em; vertical-align: middle; margin-left: 0.5rem\">PART_NUM</span>\n",
       "</mark>\n",
       " nbd to my hal in lenexa . thank you . </div></span>"
      ],
      "text/plain": [
       "<IPython.core.display.HTML object>"
      ]
     },
     "metadata": {},
     "output_type": "display_data"
    },
    {
     "name": "stdout",
     "output_type": "stream",
     "text": [
      "------------------------- predict entities -------------------------\n",
      "('b23-0994', 19, 27, 'PART_NUM')\n",
      "====================================================================================================\n",
      "please order qty 1 504000226-d nbd to my hal in lenexa . thank you . \n"
     ]
    },
    {
     "data": {
      "text/html": [
       "<span class=\"tex2jax_ignore\"><div class=\"entities\" style=\"line-height: 2.5; direction: ltr\">please order qty 1 \n",
       "<mark class=\"entity\" style=\"background: #92E0AA; padding: 0.45em 0.6em; margin: 0 0.25em; line-height: 1; border-radius: 0.35em;\">\n",
       "    504000226-d\n",
       "    <span style=\"font-size: 0.8em; font-weight: bold; line-height: 1; border-radius: 0.35em; vertical-align: middle; margin-left: 0.5rem\">PART_NUM</span>\n",
       "</mark>\n",
       " nbd to my hal in lenexa . thank you . </div></span>"
      ],
      "text/plain": [
       "<IPython.core.display.HTML object>"
      ]
     },
     "metadata": {},
     "output_type": "display_data"
    },
    {
     "name": "stdout",
     "output_type": "stream",
     "text": [
      "------------------------- predict entities -------------------------\n",
      "('504000226-d', 19, 30, 'PART_NUM')\n",
      "====================================================================================================\n",
      "please order qty 1 5066-0731 nbd to my hal in lenexa . thank you . \n"
     ]
    },
    {
     "data": {
      "text/html": [
       "<span class=\"tex2jax_ignore\"><div class=\"entities\" style=\"line-height: 2.5; direction: ltr\">please order qty 1 \n",
       "<mark class=\"entity\" style=\"background: #92E0AA; padding: 0.45em 0.6em; margin: 0 0.25em; line-height: 1; border-radius: 0.35em;\">\n",
       "    5066-0731\n",
       "    <span style=\"font-size: 0.8em; font-weight: bold; line-height: 1; border-radius: 0.35em; vertical-align: middle; margin-left: 0.5rem\">PART_NUM</span>\n",
       "</mark>\n",
       " nbd to my hal in lenexa . thank you . </div></span>"
      ],
      "text/plain": [
       "<IPython.core.display.HTML object>"
      ]
     },
     "metadata": {},
     "output_type": "display_data"
    },
    {
     "name": "stdout",
     "output_type": "stream",
     "text": [
      "------------------------- predict entities -------------------------\n",
      "('5066-0731', 19, 28, 'PART_NUM')\n",
      "====================================================================================================\n",
      "please order qty 1 e0-cable-01 nbd to my hal in lenexa . thank you . \n"
     ]
    },
    {
     "data": {
      "text/html": [
       "<span class=\"tex2jax_ignore\"><div class=\"entities\" style=\"line-height: 2.5; direction: ltr\">please order qty 1 \n",
       "<mark class=\"entity\" style=\"background: #92E0AA; padding: 0.45em 0.6em; margin: 0 0.25em; line-height: 1; border-radius: 0.35em;\">\n",
       "    e0-cable-01\n",
       "    <span style=\"font-size: 0.8em; font-weight: bold; line-height: 1; border-radius: 0.35em; vertical-align: middle; margin-left: 0.5rem\">PART_NUM</span>\n",
       "</mark>\n",
       " nbd to my hal in lenexa . thank you . </div></span>"
      ],
      "text/plain": [
       "<IPython.core.display.HTML object>"
      ]
     },
     "metadata": {},
     "output_type": "display_data"
    },
    {
     "name": "stdout",
     "output_type": "stream",
     "text": [
      "------------------------- predict entities -------------------------\n",
      "('e0-cable-01', 19, 30, 'PART_NUM')\n",
      "====================================================================================================\n",
      "please order qty 1 rm1-8508-010-bu nbd to my hal in lenexa . thank you . \n"
     ]
    },
    {
     "data": {
      "text/html": [
       "<span class=\"tex2jax_ignore\"><div class=\"entities\" style=\"line-height: 2.5; direction: ltr\">please order qty 1 \n",
       "<mark class=\"entity\" style=\"background: #92E0AA; padding: 0.45em 0.6em; margin: 0 0.25em; line-height: 1; border-radius: 0.35em;\">\n",
       "    rm1-8508-010-bu\n",
       "    <span style=\"font-size: 0.8em; font-weight: bold; line-height: 1; border-radius: 0.35em; vertical-align: middle; margin-left: 0.5rem\">PART_NUM</span>\n",
       "</mark>\n",
       " nbd to my hal in lenexa . thank you . </div></span>"
      ],
      "text/plain": [
       "<IPython.core.display.HTML object>"
      ]
     },
     "metadata": {},
     "output_type": "display_data"
    },
    {
     "name": "stdout",
     "output_type": "stream",
     "text": [
      "------------------------- predict entities -------------------------\n",
      "('rm1-8508-010-bu', 19, 34, 'PART_NUM')\n",
      "====================================================================================================\n",
      "please order qty 1 b3m77-67902-bu nbd to my hal in lenexa . thank you . \n"
     ]
    },
    {
     "data": {
      "text/html": [
       "<span class=\"tex2jax_ignore\"><div class=\"entities\" style=\"line-height: 2.5; direction: ltr\">please order qty 1 \n",
       "<mark class=\"entity\" style=\"background: #92E0AA; padding: 0.45em 0.6em; margin: 0 0.25em; line-height: 1; border-radius: 0.35em;\">\n",
       "    b3m77-67902-bu\n",
       "    <span style=\"font-size: 0.8em; font-weight: bold; line-height: 1; border-radius: 0.35em; vertical-align: middle; margin-left: 0.5rem\">PART_NUM</span>\n",
       "</mark>\n",
       " nbd to my hal in lenexa . thank you . </div></span>"
      ],
      "text/plain": [
       "<IPython.core.display.HTML object>"
      ]
     },
     "metadata": {},
     "output_type": "display_data"
    },
    {
     "name": "stdout",
     "output_type": "stream",
     "text": [
      "------------------------- predict entities -------------------------\n",
      "('b3m77-67902-bu', 19, 33, 'PART_NUM')\n",
      "====================================================================================================\n",
      "please order qty 1 ca02626-e029fj nbd to my hal in lenexa . thank you . \n"
     ]
    },
    {
     "data": {
      "text/html": [
       "<span class=\"tex2jax_ignore\"><div class=\"entities\" style=\"line-height: 2.5; direction: ltr\">please order qty 1 \n",
       "<mark class=\"entity\" style=\"background: #92E0AA; padding: 0.45em 0.6em; margin: 0 0.25em; line-height: 1; border-radius: 0.35em;\">\n",
       "    ca02626-e029fj\n",
       "    <span style=\"font-size: 0.8em; font-weight: bold; line-height: 1; border-radius: 0.35em; vertical-align: middle; margin-left: 0.5rem\">PART_NUM</span>\n",
       "</mark>\n",
       " nbd to my hal in lenexa . thank you . </div></span>"
      ],
      "text/plain": [
       "<IPython.core.display.HTML object>"
      ]
     },
     "metadata": {},
     "output_type": "display_data"
    },
    {
     "name": "stdout",
     "output_type": "stream",
     "text": [
      "------------------------- predict entities -------------------------\n",
      "('ca02626-e029fj', 19, 33, 'PART_NUM')\n",
      "====================================================================================================\n",
      "please order qty 1 cf065-67901-bu nbd to my hal in lenexa . thank you . \n"
     ]
    },
    {
     "data": {
      "text/html": [
       "<span class=\"tex2jax_ignore\"><div class=\"entities\" style=\"line-height: 2.5; direction: ltr\">please order qty 1 \n",
       "<mark class=\"entity\" style=\"background: #92E0AA; padding: 0.45em 0.6em; margin: 0 0.25em; line-height: 1; border-radius: 0.35em;\">\n",
       "    cf065-67901-bu\n",
       "    <span style=\"font-size: 0.8em; font-weight: bold; line-height: 1; border-radius: 0.35em; vertical-align: middle; margin-left: 0.5rem\">PART_NUM</span>\n",
       "</mark>\n",
       " nbd to my hal in lenexa . thank you . </div></span>"
      ],
      "text/plain": [
       "<IPython.core.display.HTML object>"
      ]
     },
     "metadata": {},
     "output_type": "display_data"
    },
    {
     "name": "stdout",
     "output_type": "stream",
     "text": [
      "------------------------- predict entities -------------------------\n",
      "('cf065-67901-bu', 19, 33, 'PART_NUM')\n",
      "====================================================================================================\n",
      "please order qty 1 c2h57-67901-bulk nbd to my hal in lenexa . thank you . \n"
     ]
    },
    {
     "data": {
      "text/html": [
       "<span class=\"tex2jax_ignore\"><div class=\"entities\" style=\"line-height: 2.5; direction: ltr\">please order qty 1 \n",
       "<mark class=\"entity\" style=\"background: #92E0AA; padding: 0.45em 0.6em; margin: 0 0.25em; line-height: 1; border-radius: 0.35em;\">\n",
       "    c2h57-67901-bulk\n",
       "    <span style=\"font-size: 0.8em; font-weight: bold; line-height: 1; border-radius: 0.35em; vertical-align: middle; margin-left: 0.5rem\">PART_NUM</span>\n",
       "</mark>\n",
       " nbd to my hal in lenexa . thank you . </div></span>"
      ],
      "text/plain": [
       "<IPython.core.display.HTML object>"
      ]
     },
     "metadata": {},
     "output_type": "display_data"
    },
    {
     "name": "stdout",
     "output_type": "stream",
     "text": [
      "------------------------- predict entities -------------------------\n",
      "('c2h57-67901-bulk', 19, 35, 'PART_NUM')\n",
      "====================================================================================================\n",
      "please order qty 1 ln08-a2 nbd to my hal in lenexa . thank you . \n"
     ]
    },
    {
     "data": {
      "text/html": [
       "<span class=\"tex2jax_ignore\"><div class=\"entities\" style=\"line-height: 2.5; direction: ltr\">please order qty 1 \n",
       "<mark class=\"entity\" style=\"background: #92E0AA; padding: 0.45em 0.6em; margin: 0 0.25em; line-height: 1; border-radius: 0.35em;\">\n",
       "    ln08-a2\n",
       "    <span style=\"font-size: 0.8em; font-weight: bold; line-height: 1; border-radius: 0.35em; vertical-align: middle; margin-left: 0.5rem\">PART_NUM</span>\n",
       "</mark>\n",
       " nbd to my hal in lenexa . thank you . </div></span>"
      ],
      "text/plain": [
       "<IPython.core.display.HTML object>"
      ]
     },
     "metadata": {},
     "output_type": "display_data"
    },
    {
     "name": "stdout",
     "output_type": "stream",
     "text": [
      "------------------------- predict entities -------------------------\n",
      "('ln08-a2', 19, 26, 'PART_NUM')\n",
      "====================================================================================================\n",
      "please order qty 1 693709-001b nbd to my hal in lenexa . thank you . \n"
     ]
    },
    {
     "data": {
      "text/html": [
       "<span class=\"tex2jax_ignore\"><div class=\"entities\" style=\"line-height: 2.5; direction: ltr\">please order qty 1 \n",
       "<mark class=\"entity\" style=\"background: #92E0AA; padding: 0.45em 0.6em; margin: 0 0.25em; line-height: 1; border-radius: 0.35em;\">\n",
       "    693709-001b\n",
       "    <span style=\"font-size: 0.8em; font-weight: bold; line-height: 1; border-radius: 0.35em; vertical-align: middle; margin-left: 0.5rem\">PART_NUM</span>\n",
       "</mark>\n",
       " nbd to my hal in lenexa . thank you . </div></span>"
      ],
      "text/plain": [
       "<IPython.core.display.HTML object>"
      ]
     },
     "metadata": {},
     "output_type": "display_data"
    },
    {
     "name": "stdout",
     "output_type": "stream",
     "text": [
      "------------------------- predict entities -------------------------\n",
      "('693709-001b', 19, 30, 'PART_NUM')\n",
      "====================================================================================================\n",
      "please order qty 1 ss467-67001 nbd to my hal in lenexa . thank you . \n"
     ]
    },
    {
     "data": {
      "text/html": [
       "<span class=\"tex2jax_ignore\"><div class=\"entities\" style=\"line-height: 2.5; direction: ltr\">please order qty 1 \n",
       "<mark class=\"entity\" style=\"background: #92E0AA; padding: 0.45em 0.6em; margin: 0 0.25em; line-height: 1; border-radius: 0.35em;\">\n",
       "    ss467-67001\n",
       "    <span style=\"font-size: 0.8em; font-weight: bold; line-height: 1; border-radius: 0.35em; vertical-align: middle; margin-left: 0.5rem\">PART_NUM</span>\n",
       "</mark>\n",
       " nbd to my hal in lenexa . thank you . </div></span>"
      ],
      "text/plain": [
       "<IPython.core.display.HTML object>"
      ]
     },
     "metadata": {},
     "output_type": "display_data"
    },
    {
     "name": "stdout",
     "output_type": "stream",
     "text": [
      "------------------------- predict entities -------------------------\n",
      "('ss467-67001', 19, 30, 'PART_NUM')\n",
      "====================================================================================================\n",
      "please order qty 1 lex-70c0d20 nbd to my hal in lenexa . thank you . \n"
     ]
    },
    {
     "data": {
      "text/html": [
       "<span class=\"tex2jax_ignore\"><div class=\"entities\" style=\"line-height: 2.5; direction: ltr\">please order qty 1 \n",
       "<mark class=\"entity\" style=\"background: #92E0AA; padding: 0.45em 0.6em; margin: 0 0.25em; line-height: 1; border-radius: 0.35em;\">\n",
       "    lex-70c0d20\n",
       "    <span style=\"font-size: 0.8em; font-weight: bold; line-height: 1; border-radius: 0.35em; vertical-align: middle; margin-left: 0.5rem\">PART_NUM</span>\n",
       "</mark>\n",
       " nbd to my hal in lenexa . thank you . </div></span>"
      ],
      "text/plain": [
       "<IPython.core.display.HTML object>"
      ]
     },
     "metadata": {},
     "output_type": "display_data"
    },
    {
     "name": "stdout",
     "output_type": "stream",
     "text": [
      "------------------------- predict entities -------------------------\n",
      "('lex-70c0d20', 19, 30, 'PART_NUM')\n",
      "====================================================================================================\n",
      "please order qty 1 shaqsw-m0518fcpz nbd to my hal in lenexa . thank you . \n"
     ]
    },
    {
     "data": {
      "text/html": [
       "<span class=\"tex2jax_ignore\"><div class=\"entities\" style=\"line-height: 2.5; direction: ltr\">please order qty 1 \n",
       "<mark class=\"entity\" style=\"background: #92E0AA; padding: 0.45em 0.6em; margin: 0 0.25em; line-height: 1; border-radius: 0.35em;\">\n",
       "    shaqsw-m0518fcpz\n",
       "    <span style=\"font-size: 0.8em; font-weight: bold; line-height: 1; border-radius: 0.35em; vertical-align: middle; margin-left: 0.5rem\">PART_NUM</span>\n",
       "</mark>\n",
       " nbd to my hal in lenexa . thank you . </div></span>"
      ],
      "text/plain": [
       "<IPython.core.display.HTML object>"
      ]
     },
     "metadata": {},
     "output_type": "display_data"
    },
    {
     "name": "stdout",
     "output_type": "stream",
     "text": [
      "------------------------- predict entities -------------------------\n",
      "('shaqsw-m0518fcpz', 19, 35, 'PART_NUM')\n",
      "====================================================================================================\n",
      "please order qty 1 shalx-bz0994fcpz nbd to my hal in lenexa . thank you . \n"
     ]
    },
    {
     "data": {
      "text/html": [
       "<span class=\"tex2jax_ignore\"><div class=\"entities\" style=\"line-height: 2.5; direction: ltr\">please order qty 1 \n",
       "<mark class=\"entity\" style=\"background: #92E0AA; padding: 0.45em 0.6em; margin: 0 0.25em; line-height: 1; border-radius: 0.35em;\">\n",
       "    shalx-bz0994fcpz\n",
       "    <span style=\"font-size: 0.8em; font-weight: bold; line-height: 1; border-radius: 0.35em; vertical-align: middle; margin-left: 0.5rem\">PART_NUM</span>\n",
       "</mark>\n",
       " nbd to my hal in lenexa . thank you . </div></span>"
      ],
      "text/plain": [
       "<IPython.core.display.HTML object>"
      ]
     },
     "metadata": {},
     "output_type": "display_data"
    },
    {
     "name": "stdout",
     "output_type": "stream",
     "text": [
      "------------------------- predict entities -------------------------\n",
      "('shalx-bz0994fcpz', 19, 35, 'PART_NUM')\n",
      "====================================================================================================\n",
      "please order qty 1 ln08x-tf nbd to my hal in lenexa . thank you . \n"
     ]
    },
    {
     "data": {
      "text/html": [
       "<span class=\"tex2jax_ignore\"><div class=\"entities\" style=\"line-height: 2.5; direction: ltr\">please order qty 1 \n",
       "<mark class=\"entity\" style=\"background: #92E0AA; padding: 0.45em 0.6em; margin: 0 0.25em; line-height: 1; border-radius: 0.35em;\">\n",
       "    ln08x-tf\n",
       "    <span style=\"font-size: 0.8em; font-weight: bold; line-height: 1; border-radius: 0.35em; vertical-align: middle; margin-left: 0.5rem\">PART_NUM</span>\n",
       "</mark>\n",
       " nbd to my hal in lenexa . thank you . </div></span>"
      ],
      "text/plain": [
       "<IPython.core.display.HTML object>"
      ]
     },
     "metadata": {},
     "output_type": "display_data"
    },
    {
     "name": "stdout",
     "output_type": "stream",
     "text": [
      "------------------------- predict entities -------------------------\n",
      "('ln08x-tf', 19, 27, 'PART_NUM')\n",
      "====================================================================================================\n",
      "please order qty 1 shagcab-1507fcaz nbd to my hal in lenexa . thank you . \n"
     ]
    },
    {
     "data": {
      "text/html": [
       "<span class=\"tex2jax_ignore\"><div class=\"entities\" style=\"line-height: 2.5; direction: ltr\">please order qty 1 \n",
       "<mark class=\"entity\" style=\"background: #92E0AA; padding: 0.45em 0.6em; margin: 0 0.25em; line-height: 1; border-radius: 0.35em;\">\n",
       "    shagcab-1507fcaz\n",
       "    <span style=\"font-size: 0.8em; font-weight: bold; line-height: 1; border-radius: 0.35em; vertical-align: middle; margin-left: 0.5rem\">PART_NUM</span>\n",
       "</mark>\n",
       " nbd to my hal in lenexa . thank you . </div></span>"
      ],
      "text/plain": [
       "<IPython.core.display.HTML object>"
      ]
     },
     "metadata": {},
     "output_type": "display_data"
    },
    {
     "name": "stdout",
     "output_type": "stream",
     "text": [
      "------------------------- predict entities -------------------------\n",
      "('shagcab-1507fcaz', 19, 35, 'PART_NUM')\n"
     ]
    }
   ],
   "source": [
    "parts = sample_parts\n",
    "texts, error_texts, errpr_parts = check_sample_parts(parts)\n",
    "print(f'find {len(error_texts)}/{len(parts)} errors')\n",
    "show_texts(texts, show_detail=True)  "
   ]
  },
  {
   "cell_type": "code",
   "execution_count": null,
   "id": "eecfcbea",
   "metadata": {
    "ExecuteTime": {
     "end_time": "2021-08-25T00:34:35.764936Z",
     "start_time": "2021-08-25T00:31:47.468Z"
    },
    "scrolled": false
   },
   "outputs": [],
   "source": [
    "error_text_entities, error_pattern_matchs = generate_label(error_texts, patterns=patterns)\n",
    "show_entity_label(error_text_entities, error_pattern_matchs)"
   ]
  },
  {
   "cell_type": "markdown",
   "id": "ce0ed3c6",
   "metadata": {},
   "source": [
    "I think that the issues are mainly caused by lacking of these parts in training data. \n",
    "\n",
    "There are 2 solutions:\n",
    "\n",
    "1. merge the results of regular expressions and the model.\n",
    "2. use data augmentation to generate a lot of random part numbers based on the rules."
   ]
  },
  {
   "cell_type": "markdown",
   "id": "26de5976",
   "metadata": {},
   "source": [
    "####  Find potentail part number"
   ]
  },
  {
   "cell_type": "code",
   "execution_count": null,
   "id": "876d9444",
   "metadata": {
    "ExecuteTime": {
     "end_time": "2021-08-25T00:34:35.766457Z",
     "start_time": "2021-08-25T00:31:47.471Z"
    }
   },
   "outputs": [],
   "source": [
    "parts = ['FE-15520-01', 'FE-15520-012']\n",
    "texts, error_texts, errpr_parts = check_sample_parts(parts)\n",
    "print(f'find {len(error_texts)}/{len(parts)} errors')\n",
    "\n"
   ]
  },
  {
   "cell_type": "code",
   "execution_count": null,
   "id": "b3a10c55",
   "metadata": {
    "ExecuteTime": {
     "end_time": "2021-08-25T00:34:35.767978Z",
     "start_time": "2021-08-25T00:31:47.474Z"
    }
   },
   "outputs": [],
   "source": [
    "some_text_entities, some__pattern_matchs = generate_label(texts, patterns=patterns)\n",
    "show_entity_label(some_text_entities, some__pattern_matchs)\n"
   ]
  },
  {
   "cell_type": "markdown",
   "id": "c8f2c5b0",
   "metadata": {},
   "source": [
    "#### find potential actions \n",
    "\n",
    "it has some effects, but not good enough."
   ]
  },
  {
   "cell_type": "code",
   "execution_count": null,
   "id": "bbc5155e",
   "metadata": {
    "ExecuteTime": {
     "end_time": "2021-08-25T00:34:35.769606Z",
     "start_time": "2021-08-25T00:31:47.477Z"
    }
   },
   "outputs": [],
   "source": [
    "texts = ['order qty 1 fe-15520-01 nbd to my hal in lenexa . thank you . ',\n",
    "         'orders qty 1 fe-15520-01 nbd to my hal in lenexa . thank you . ',\n",
    "         'send qty 1 fe-15520-01 nbd to my hal in lenexa . thank you . ',\n",
    "         'sends qty 1 fe-15520-01 nbd to my hal in lenexa . thank you . ',\n",
    "         'ship qty 1 fe-15520-01 nbd to my hal in lenexa . thank you . ',\n",
    "         'ships qty 1 fe-15520-01 nbd to my hal in lenexa . thank you . 2012-02-02',         \n",
    "        ]\n",
    "\n",
    "show_texts(texts, show_detail=False) "
   ]
  },
  {
   "cell_type": "markdown",
   "id": "f5a68cad",
   "metadata": {},
   "source": [
    "## Output Results"
   ]
  },
  {
   "cell_type": "code",
   "execution_count": null,
   "id": "fe5490b7",
   "metadata": {
    "ExecuteTime": {
     "end_time": "2021-08-25T00:34:35.771171Z",
     "start_time": "2021-08-25T00:31:47.480Z"
    }
   },
   "outputs": [],
   "source": [
    "parts = "
   ]
  }
 ],
 "metadata": {
  "kernelspec": {
   "display_name": "Python 3",
   "language": "python",
   "name": "python3"
  },
  "language_info": {
   "codemirror_mode": {
    "name": "ipython",
    "version": 3
   },
   "file_extension": ".py",
   "mimetype": "text/x-python",
   "name": "python",
   "nbconvert_exporter": "python",
   "pygments_lexer": "ipython3",
   "version": "3.6.9"
  },
  "toc": {
   "base_numbering": 1,
   "nav_menu": {},
   "number_sections": true,
   "sideBar": true,
   "skip_h1_title": false,
   "title_cell": "Table of Contents",
   "title_sidebar": "Contents",
   "toc_cell": false,
   "toc_position": {
    "height": "calc(100% - 180px)",
    "left": "10px",
    "top": "150px",
    "width": "426.656px"
   },
   "toc_section_display": true,
   "toc_window_display": true
  }
 },
 "nbformat": 4,
 "nbformat_minor": 5
}
