{
 "cells": [
  {
   "cell_type": "code",
   "execution_count": 1,
   "id": "28990d1b",
   "metadata": {
    "ExecuteTime": {
     "end_time": "2021-08-25T11:08:02.346971Z",
     "start_time": "2021-08-25T11:07:58.443826Z"
    }
   },
   "outputs": [],
   "source": [
    "import csv\n",
    "import exrex # !pip install exrex\n",
    "import json \n",
    "import pandas as pd\n",
    "import numpy as np\n",
    "import re \n",
    "import spacy\n",
    "\n",
    "from tqdm import tqdm\n",
    "from spacy.tokens import DocBin\n",
    "from sklearn.model_selection import train_test_split\n",
    "\n",
    "# ebablbe auto-completion\n",
    "%config Completer.use_jedi = False"
   ]
  },
  {
   "cell_type": "markdown",
   "id": "bad83897",
   "metadata": {},
   "source": [
    "## Load data"
   ]
  },
  {
   "cell_type": "code",
   "execution_count": 2,
   "id": "8ec0f621",
   "metadata": {
    "ExecuteTime": {
     "end_time": "2021-08-25T11:08:02.364660Z",
     "start_time": "2021-08-25T11:08:02.349506Z"
    }
   },
   "outputs": [],
   "source": [
    "def show_entity(text_entities, pattern_matchs):\n",
    "    for example in text_entities:\n",
    "        print('-'*50)\n",
    "        text, annotations = example\n",
    "        print(text) \n",
    "        print(*[(text[start:end], start, end, label) for start, end, label in annotations['entities']], sep='\\n')\n",
    "    print('='*50)\n",
    "    print(*pattern_matchs, sep='\\n')\n",
    "    \n",
    "options = {'colors': {'ACTION':\"#56D7C4\", 'PART_NUM':\"#92E0AA\"} }\n",
    "\n",
    "def show_text(text, annotations=None, options=options, show_detail=True, standardize_text=None):\n",
    "    if standardize_text is not None:\n",
    "        text = standardize_text(text)\n",
    "    doc = nlp(text)\n",
    "    print('='*100)\n",
    "    if show_detail:\n",
    "        print(doc.text) \n",
    "    spacy.displacy.render(doc, style='ent', options=options)\n",
    "    if show_detail and annotations is not None and len(annotations['entities'])>0:\n",
    "        print('-'*25, 'acutal entities', '-'*25)\n",
    "        print(*[(text[start:end], start, end, label) for start, end, label in annotations['entities']], sep='\\n')   \n",
    "    if show_detail and len(doc.ents)>0:\n",
    "        print('-'*25, 'predict entities', '-'*25)\n",
    "        print(*[(ent.text, ent.start_char, ent.end_char, ent.label_) for ent in doc.ents], sep='\\n')      \n",
    "\n",
    "def show_texts(data, indexes=None, options=options, show_detail=True, standardize_text=None):\n",
    "    def show_text_(data):\n",
    "        if isinstance(data, str):\n",
    "            show_text(data, None, options=options, show_detail=show_detail, standardize_text=standardize_text)\n",
    "        else:\n",
    "            text, annotations = data\n",
    "            show_text(text, annotations, options=options, show_detail=show_detail, standardize_text=standardize_text)  \n",
    "            \n",
    "    if indexes is not None:\n",
    "        for i in indexes:\n",
    "            show_text_(data[i])   \n",
    "    else:\n",
    "        for one_data in data: \n",
    "            show_text_(one_data)         "
   ]
  },
  {
   "cell_type": "code",
   "execution_count": 3,
   "id": "411618fc",
   "metadata": {
    "ExecuteTime": {
     "end_time": "2021-08-25T11:15:44.679408Z",
     "start_time": "2021-08-25T11:15:44.650536Z"
    }
   },
   "outputs": [],
   "source": [
    "df_case = pd.read_pickle('./data/df_case.pkl') \n",
    "df_train_test = pd.read_pickle('./data/df_train_test.pkl') "
   ]
  },
  {
   "cell_type": "code",
   "execution_count": 98,
   "id": "ed343870",
   "metadata": {
    "ExecuteTime": {
     "end_time": "2021-08-25T10:37:55.629187Z",
     "start_time": "2021-08-25T10:37:55.604217Z"
    }
   },
   "outputs": [],
   "source": [
    "with open('./data/part_num_patterns.json') as json_file:\n",
    "    part_num_patterns = json.load(json_file)\n",
    "    \n",
    "with open('./data/common_words_patterns.json') as json_file:\n",
    "    common_words_patterns = json.load(json_file)\n",
    "    \n",
    "with open('./data/texts.json') as json_file:\n",
    "    texts = json.load(json_file)    \n",
    "    \n",
    "with open('./data/train_texts.json') as json_file:\n",
    "    train_texts = json.load(json_file)\n",
    "    \n",
    "with open('./data/test_texts.json') as json_file:\n",
    "    test_texts = json.load(json_file)    \n",
    "    \n",
    "with open('./data/train_text_entities.json') as json_file:\n",
    "    train_text_entities = json.load(json_file)\n",
    "    \n",
    "with open('./data/test_text_entities.json') as json_file:\n",
    "    test_text_entities = json.load(json_file)    \n",
    "    "
   ]
  },
  {
   "cell_type": "markdown",
   "id": "80713807",
   "metadata": {},
   "source": [
    "## Train the model"
   ]
  },
  {
   "cell_type": "code",
   "execution_count": 71,
   "id": "78802aec",
   "metadata": {
    "ExecuteTime": {
     "end_time": "2021-08-25T10:01:21.037637Z",
     "start_time": "2021-08-25T09:31:06.212800Z"
    }
   },
   "outputs": [
    {
     "name": "stdout",
     "output_type": "stream",
     "text": [
      "2021-08-25 09:31:08.288010: I tensorflow/stream_executor/platform/default/dso_loader.cc:53] Successfully opened dynamic library libcudart.so.11.0\n",
      "\u001b[38;5;4mℹ Using GPU: 0\u001b[0m\n",
      "\u001b[1m\n",
      "=========================== Initializing pipeline ===========================\u001b[0m\n",
      "[2021-08-25 09:31:11,571] [INFO] Set up nlp object from config\n",
      "[2021-08-25 09:31:11,588] [INFO] Pipeline: ['transformer', 'ner']\n",
      "[2021-08-25 09:31:11,595] [INFO] Created vocabulary\n",
      "[2021-08-25 09:31:11,596] [INFO] Finished initializing nlp object\n",
      "Some weights of the model checkpoint at roberta-base were not used when initializing RobertaModel: ['lm_head.dense.weight', 'lm_head.bias', 'lm_head.layer_norm.bias', 'lm_head.decoder.weight', 'lm_head.dense.bias', 'lm_head.layer_norm.weight']\n",
      "- This IS expected if you are initializing RobertaModel from the checkpoint of a model trained on another task or with another architecture (e.g. initializing a BertForSequenceClassification model from a BertForPreTraining model).\n",
      "- This IS NOT expected if you are initializing RobertaModel from the checkpoint of a model that you expect to be exactly identical (initializing a BertForSequenceClassification model from a BertForSequenceClassification model).\n",
      "[2021-08-25 09:31:47,118] [INFO] Initialized pipeline components: ['transformer', 'ner']\n",
      "\u001b[38;5;2m✔ Initialized pipeline\u001b[0m\n",
      "\u001b[1m\n",
      "============================= Training pipeline =============================\u001b[0m\n",
      "\u001b[38;5;4mℹ Pipeline: ['transformer', 'ner']\u001b[0m\n",
      "\u001b[38;5;4mℹ Initial learn rate: 0.0\u001b[0m\n",
      "E    #       LOSS TRANS...  LOSS NER  ENTS_F  ENTS_P  ENTS_R  SCORE \n",
      "---  ------  -------------  --------  ------  ------  ------  ------\n",
      "  0       0        4490.05    220.09    0.12    0.08    0.29    0.00\n",
      "  0      50      143514.32  30147.16    0.00    0.00    0.00    0.00\n",
      "  0     100       12940.56   6291.77   80.96   72.31   91.98    0.81\n",
      "  0     150         548.02   1319.36   89.36   81.15   99.41    0.89\n",
      "  0     200         306.05    821.74   89.21   89.47   88.94    0.89\n",
      "  0     250         267.47    801.37   91.12   88.55   93.84    0.91\n",
      "  1     300         168.24    544.48   94.64   90.31   99.41    0.95\n",
      "  1     350         120.61    411.63   96.06   93.27   99.02    0.96\n",
      "  1     400          78.71    324.69   95.28   91.15   99.80    0.95\n",
      "  1     450          63.29    329.59   95.55   91.72   99.71    0.96\n",
      "  1     500          56.85    289.00   96.91   95.79   98.04    0.97\n",
      "  2     550          43.02    246.01   96.63   93.82   99.61    0.97\n",
      "  2     600          30.32    226.26   96.70   94.66   98.83    0.97\n",
      "  2     650          35.52    214.07   95.33   91.23   99.80    0.95\n",
      "  2     700          42.68    239.12   96.58   93.82   99.51    0.97\n",
      "  2     750          23.04    230.59   97.10   94.53   99.80    0.97\n",
      "  3     800          34.42    235.71   96.48   93.81   99.32    0.96\n",
      "  3     850          28.93    205.11   97.07   95.29   98.92    0.97\n",
      "  3     900          32.26    216.50   96.82   94.01   99.80    0.97\n",
      "  3     950          30.48    235.73   97.19   94.62   99.90    0.97\n",
      "  3    1000          23.25    146.92   97.37   95.14   99.71    0.97\n",
      "  3    1050          11.19    181.86   97.37   95.23   99.61    0.97\n",
      "  4    1100          16.42    181.57   97.44   96.19   98.73    0.97\n",
      "  4    1150          16.31    172.80   97.06   94.28  100.00    0.97\n",
      "  4    1200          23.46    209.19   98.08   96.32   99.90    0.98\n",
      "  4    1250          21.23    205.44   98.08   96.41   99.80    0.98\n",
      "  4    1300          23.78    165.59   97.70   95.77   99.71    0.98\n",
      "  5    1350          13.50    180.20   97.92   96.75   99.12    0.98\n",
      "  5    1400          11.40    186.20   97.32   95.39   99.32    0.97\n",
      "  5    1450          10.17    163.83   97.56   95.33   99.90    0.98\n",
      "  5    1500          11.65    152.04   98.55   97.15  100.00    0.99\n",
      "\u001b[38;5;2m✔ Saved pipeline to output directory\u001b[0m\n",
      "output/gpu_aug/model-last\n"
     ]
    }
   ],
   "source": [
    "!python -m spacy train config_gpu_aug.cfg --output ./output/gpu_aug --paths.train ./data/train_aug.spacy --paths.dev ./data/test.spacy --gpu-id 0"
   ]
  },
  {
   "cell_type": "markdown",
   "id": "62731f0f",
   "metadata": {},
   "source": [
    "## Evaluate\n",
    "\n",
    "###  Check test data"
   ]
  },
  {
   "cell_type": "code",
   "execution_count": 73,
   "id": "1bb2d609",
   "metadata": {
    "ExecuteTime": {
     "end_time": "2021-08-25T10:14:10.041442Z",
     "start_time": "2021-08-25T10:13:50.149821Z"
    }
   },
   "outputs": [
    {
     "name": "stdout",
     "output_type": "stream",
     "text": [
      "2021-08-25 10:13:52.201493: I tensorflow/stream_executor/platform/default/dso_loader.cc:53] Successfully opened dynamic library libcudart.so.11.0\n",
      "\u001b[38;5;4mℹ Using GPU: 0\u001b[0m\n",
      "\u001b[1m\n",
      "================================== Results ==================================\u001b[0m\n",
      "\n",
      "TOK     100.00\n",
      "NER P   97.15 \n",
      "NER R   100.00\n",
      "NER F   98.55 \n",
      "SPEED   4284  \n",
      "\n",
      "\u001b[1m\n",
      "=============================== NER (per type) ===============================\u001b[0m\n",
      "\n",
      "               P        R       F\n",
      "PART_NUM   97.15   100.00   98.55\n",
      "\n"
     ]
    }
   ],
   "source": [
    "!python -m spacy evaluate output/gpu_aug/model-best ./data/test.spacy --gpu-id 0"
   ]
  },
  {
   "cell_type": "code",
   "execution_count": 74,
   "id": "9c3f0d39",
   "metadata": {
    "ExecuteTime": {
     "end_time": "2021-08-25T10:15:46.632898Z",
     "start_time": "2021-08-25T10:14:55.736877Z"
    }
   },
   "outputs": [
    {
     "name": "stdout",
     "output_type": "stream",
     "text": [
      "2021-08-25 10:14:57.815083: I tensorflow/stream_executor/platform/default/dso_loader.cc:53] Successfully opened dynamic library libcudart.so.11.0\n",
      "\u001b[38;5;4mℹ Using GPU: 0\u001b[0m\n",
      "\u001b[1m\n",
      "================================== Results ==================================\u001b[0m\n",
      "\n",
      "TOK     100.00\n",
      "NER P   98.23 \n",
      "NER R   99.93 \n",
      "NER F   99.07 \n",
      "SPEED   3556  \n",
      "\n",
      "\u001b[1m\n",
      "=============================== NER (per type) ===============================\u001b[0m\n",
      "\n",
      "               P       R       F\n",
      "PART_NUM   98.23   99.93   99.07\n",
      "\n"
     ]
    }
   ],
   "source": [
    "!python -m spacy evaluate output/gpu_aug/model-best ./data/test_aug.spacy --gpu-id 0"
   ]
  },
  {
   "cell_type": "code",
   "execution_count": 75,
   "id": "48ed7541",
   "metadata": {
    "ExecuteTime": {
     "end_time": "2021-08-25T10:16:32.192181Z",
     "start_time": "2021-08-25T10:16:30.046369Z"
    }
   },
   "outputs": [],
   "source": [
    "nlp = spacy.load(\"output/gpu_aug/model-best\") "
   ]
  },
  {
   "cell_type": "code",
   "execution_count": 80,
   "id": "2f44d6da",
   "metadata": {
    "ExecuteTime": {
     "end_time": "2021-08-25T10:20:19.364375Z",
     "start_time": "2021-08-25T10:20:18.636139Z"
    },
    "scrolled": false
   },
   "outputs": [
    {
     "name": "stdout",
     "output_type": "stream",
     "text": [
      "====================================================================================================\n",
      "please reassign to william niedecken\n"
     ]
    },
    {
     "name": "stderr",
     "output_type": "stream",
     "text": [
      "/usr/local/lib/python3.6/dist-packages/spacy/displacy/__init__.py:191: UserWarning: [W006] No entities to visualize found in Doc object. If this is surprising to you, make sure the Doc was processed using a model that supports named entity recognition, and check the `doc.ents` property manually if necessary.\n",
      "  warnings.warn(Warnings.W006)\n"
     ]
    },
    {
     "data": {
      "text/html": [
       "<span class=\"tex2jax_ignore\"><div class=\"entities\" style=\"line-height: 2.5; direction: ltr\">please reassign to william niedecken</div></span>"
      ],
      "text/plain": [
       "<IPython.core.display.HTML object>"
      ]
     },
     "metadata": {},
     "output_type": "display_data"
    },
    {
     "name": "stdout",
     "output_type": "stream",
     "text": [
      "====================================================================================================\n",
      "please order the following item and ship to my hfpu in west boylston . adf unit , cn598-67008 ( 1 ) . #normal\n"
     ]
    },
    {
     "data": {
      "text/html": [
       "<span class=\"tex2jax_ignore\"><div class=\"entities\" style=\"line-height: 2.5; direction: ltr\">please order the following item and ship to my hfpu in west boylston . adf unit , \n",
       "<mark class=\"entity\" style=\"background: #92E0AA; padding: 0.45em 0.6em; margin: 0 0.25em; line-height: 1; border-radius: 0.35em;\">\n",
       "    cn598-67008\n",
       "    <span style=\"font-size: 0.8em; font-weight: bold; line-height: 1; border-radius: 0.35em; vertical-align: middle; margin-left: 0.5rem\">PART_NUM</span>\n",
       "</mark>\n",
       " ( 1 ) . #normal</div></span>"
      ],
      "text/plain": [
       "<IPython.core.display.HTML object>"
      ]
     },
     "metadata": {},
     "output_type": "display_data"
    },
    {
     "name": "stdout",
     "output_type": "stream",
     "text": [
      "------------------------- acutal entities -------------------------\n",
      "('cn598-67008', 82, 93, 'PART_NUM')\n",
      "------------------------- predict entities -------------------------\n",
      "('cn598-67008', 82, 93, 'PART_NUM')\n",
      "====================================================================================================\n",
      "revisit 7/14\n"
     ]
    },
    {
     "data": {
      "text/html": [
       "<span class=\"tex2jax_ignore\"><div class=\"entities\" style=\"line-height: 2.5; direction: ltr\">revisit 7/14</div></span>"
      ],
      "text/plain": [
       "<IPython.core.display.HTML object>"
      ]
     },
     "metadata": {},
     "output_type": "display_data"
    },
    {
     "name": "stdout",
     "output_type": "stream",
     "text": [
      "====================================================================================================\n",
      "i need to return to site\n"
     ]
    },
    {
     "data": {
      "text/html": [
       "<span class=\"tex2jax_ignore\"><div class=\"entities\" style=\"line-height: 2.5; direction: ltr\">i need to return to site</div></span>"
      ],
      "text/plain": [
       "<IPython.core.display.HTML object>"
      ]
     },
     "metadata": {},
     "output_type": "display_data"
    },
    {
     "name": "stdout",
     "output_type": "stream",
     "text": [
      "====================================================================================================\n",
      "#normal please order recommended part nbd to hal in windsor locks ct . \n"
     ]
    },
    {
     "data": {
      "text/html": [
       "<span class=\"tex2jax_ignore\"><div class=\"entities\" style=\"line-height: 2.5; direction: ltr\">#normal please order recommended part nbd to hal in windsor locks ct . </div></span>"
      ],
      "text/plain": [
       "<IPython.core.display.HTML object>"
      ]
     },
     "metadata": {},
     "output_type": "display_data"
    },
    {
     "name": "stdout",
     "output_type": "stream",
     "text": [
      "====================================================================================================\n",
      "waiting to hear from the account manager for express exchange . *see note**\n"
     ]
    },
    {
     "data": {
      "text/html": [
       "<span class=\"tex2jax_ignore\"><div class=\"entities\" style=\"line-height: 2.5; direction: ltr\">waiting to hear from the account manager for express exchange . *see note**</div></span>"
      ],
      "text/plain": [
       "<IPython.core.display.HTML object>"
      ]
     },
     "metadata": {},
     "output_type": "display_data"
    },
    {
     "name": "stdout",
     "output_type": "stream",
     "text": [
      "====================================================================================================\n",
      "please create clone for revisit and move part to new wo . thank you . . please order . . 1 ea . . . . rm2-7458-010cn dc controller . . . nbd . . . hal . \n"
     ]
    },
    {
     "data": {
      "text/html": [
       "<span class=\"tex2jax_ignore\"><div class=\"entities\" style=\"line-height: 2.5; direction: ltr\">please create clone for revisit and move part to new wo . thank you . . please order . . 1 ea . . . . \n",
       "<mark class=\"entity\" style=\"background: #92E0AA; padding: 0.45em 0.6em; margin: 0 0.25em; line-height: 1; border-radius: 0.35em;\">\n",
       "    rm2-7458-010cn\n",
       "    <span style=\"font-size: 0.8em; font-weight: bold; line-height: 1; border-radius: 0.35em; vertical-align: middle; margin-left: 0.5rem\">PART_NUM</span>\n",
       "</mark>\n",
       " dc controller . . . nbd . . . hal . </div></span>"
      ],
      "text/plain": [
       "<IPython.core.display.HTML object>"
      ]
     },
     "metadata": {},
     "output_type": "display_data"
    },
    {
     "name": "stdout",
     "output_type": "stream",
     "text": [
      "------------------------- acutal entities -------------------------\n",
      "('rm2-7458-010cn', 102, 116, 'PART_NUM')\n",
      "------------------------- predict entities -------------------------\n",
      "('rm2-7458-010cn', 102, 116, 'PART_NUM')\n",
      "====================================================================================================\n",
      "part is still in transit\n"
     ]
    },
    {
     "data": {
      "text/html": [
       "<span class=\"tex2jax_ignore\"><div class=\"entities\" style=\"line-height: 2.5; direction: ltr\">part is still in transit</div></span>"
      ],
      "text/plain": [
       "<IPython.core.display.HTML object>"
      ]
     },
     "metadata": {},
     "output_type": "display_data"
    },
    {
     "name": "stdout",
     "output_type": "stream",
     "text": [
      "====================================================================================================\n",
      "please order l15809-001 docking station . \n"
     ]
    },
    {
     "data": {
      "text/html": [
       "<span class=\"tex2jax_ignore\"><div class=\"entities\" style=\"line-height: 2.5; direction: ltr\">please order \n",
       "<mark class=\"entity\" style=\"background: #92E0AA; padding: 0.45em 0.6em; margin: 0 0.25em; line-height: 1; border-radius: 0.35em;\">\n",
       "    l15809-001\n",
       "    <span style=\"font-size: 0.8em; font-weight: bold; line-height: 1; border-radius: 0.35em; vertical-align: middle; margin-left: 0.5rem\">PART_NUM</span>\n",
       "</mark>\n",
       " docking station . </div></span>"
      ],
      "text/plain": [
       "<IPython.core.display.HTML object>"
      ]
     },
     "metadata": {},
     "output_type": "display_data"
    },
    {
     "name": "stdout",
     "output_type": "stream",
     "text": [
      "------------------------- acutal entities -------------------------\n",
      "('l15809-001', 13, 23, 'PART_NUM')\n",
      "------------------------- predict entities -------------------------\n",
      "('l15809-001', 13, 23, 'PART_NUM')\n",
      "====================================================================================================\n",
      "please order the following parts and ship to my fedex in brentwood . g1w39-67935 scanner control board for an e58650 note that the previous one i ordered came as a physically different part . please make sure part fits into an hp e58650 . - csutter\n"
     ]
    },
    {
     "data": {
      "text/html": [
       "<span class=\"tex2jax_ignore\"><div class=\"entities\" style=\"line-height: 2.5; direction: ltr\">please order the following parts and ship to my fedex in brentwood . \n",
       "<mark class=\"entity\" style=\"background: #92E0AA; padding: 0.45em 0.6em; margin: 0 0.25em; line-height: 1; border-radius: 0.35em;\">\n",
       "    g1w39-67935\n",
       "    <span style=\"font-size: 0.8em; font-weight: bold; line-height: 1; border-radius: 0.35em; vertical-align: middle; margin-left: 0.5rem\">PART_NUM</span>\n",
       "</mark>\n",
       " scanner control board for an e58650 note that the previous one i ordered came as a physically different part . please make sure part fits into an hp e58650 . - csutter</div></span>"
      ],
      "text/plain": [
       "<IPython.core.display.HTML object>"
      ]
     },
     "metadata": {},
     "output_type": "display_data"
    },
    {
     "name": "stdout",
     "output_type": "stream",
     "text": [
      "------------------------- acutal entities -------------------------\n",
      "('g1w39-67935', 69, 80, 'PART_NUM')\n",
      "------------------------- predict entities -------------------------\n",
      "('g1w39-67935', 69, 80, 'PART_NUM')\n"
     ]
    }
   ],
   "source": [
    "indexes = np.random.randint(0, len(test_text_entities), 10)\n",
    "show_texts(test_data, indexes) "
   ]
  },
  {
   "cell_type": "code",
   "execution_count": 81,
   "id": "3ee606ad",
   "metadata": {
    "ExecuteTime": {
     "end_time": "2021-08-25T10:20:29.717787Z",
     "start_time": "2021-08-25T10:20:28.696489Z"
    },
    "scrolled": false
   },
   "outputs": [
    {
     "name": "stdout",
     "output_type": "stream",
     "text": [
      "====================================================================================================\n"
     ]
    },
    {
     "data": {
      "text/html": [
       "<span class=\"tex2jax_ignore\"><div class=\"entities\" style=\"line-height: 2.5; direction: ltr\">please create a new wo for tuesday and order part # ' s \n",
       "<mark class=\"entity\" style=\"background: #92E0AA; padding: 0.45em 0.6em; margin: 0 0.25em; line-height: 1; border-radius: 0.35em;\">\n",
       "    jc97-04863a\n",
       "    <span style=\"font-size: 0.8em; font-weight: bold; line-height: 1; border-radius: 0.35em; vertical-align: middle; margin-left: 0.5rem\">PART_NUM</span>\n",
       "</mark>\n",
       " qty 1 and \n",
       "<mark class=\"entity\" style=\"background: #92E0AA; padding: 0.45em 0.6em; margin: 0 0.25em; line-height: 1; border-radius: 0.35em;\">\n",
       "    jc44-00240b\n",
       "    <span style=\"font-size: 0.8em; font-weight: bold; line-height: 1; border-radius: 0.35em; vertical-align: middle; margin-left: 0.5rem\">PART_NUM</span>\n",
       "</mark>\n",
       " qty 1 for next day to my default hal . thanks . . please order part # ' s \n",
       "<mark class=\"entity\" style=\"background: #92E0AA; padding: 0.45em 0.6em; margin: 0 0.25em; line-height: 1; border-radius: 0.35em;\">\n",
       "    jc44-00249a\n",
       "    <span style=\"font-size: 0.8em; font-weight: bold; line-height: 1; border-radius: 0.35em; vertical-align: middle; margin-left: 0.5rem\">PART_NUM</span>\n",
       "</mark>\n",
       " qty 1 , \n",
       "<mark class=\"entity\" style=\"background: #92E0AA; padding: 0.45em 0.6em; margin: 0 0.25em; line-height: 1; border-radius: 0.35em;\">\n",
       "    5cm63-67001\n",
       "    <span style=\"font-size: 0.8em; font-weight: bold; line-height: 1; border-radius: 0.35em; vertical-align: middle; margin-left: 0.5rem\">PART_NUM</span>\n",
       "</mark>\n",
       " qty 1 and jc39-02217a qty 1 for next day to my default hal . thanks . </div></span>"
      ],
      "text/plain": [
       "<IPython.core.display.HTML object>"
      ]
     },
     "metadata": {},
     "output_type": "display_data"
    },
    {
     "name": "stdout",
     "output_type": "stream",
     "text": [
      "====================================================================================================\n"
     ]
    },
    {
     "data": {
      "text/html": [
       "<span class=\"tex2jax_ignore\"><div class=\"entities\" style=\"line-height: 2.5; direction: ltr\">order part \n",
       "<mark class=\"entity\" style=\"background: #92E0AA; padding: 0.45em 0.6em; margin: 0 0.25em; line-height: 1; border-radius: 0.35em;\">\n",
       "    l52221-001\n",
       "    <span style=\"font-size: 0.8em; font-weight: bold; line-height: 1; border-radius: 0.35em; vertical-align: middle; margin-left: 0.5rem\">PART_NUM</span>\n",
       "</mark>\n",
       " nbd for hfpu to fsl 2079 thanks</div></span>"
      ],
      "text/plain": [
       "<IPython.core.display.HTML object>"
      ]
     },
     "metadata": {},
     "output_type": "display_data"
    },
    {
     "name": "stdout",
     "output_type": "stream",
     "text": [
      "====================================================================================================\n"
     ]
    },
    {
     "data": {
      "text/html": [
       "<span class=\"tex2jax_ignore\"><div class=\"entities\" style=\"line-height: 2.5; direction: ltr\">assign to jin tran</div></span>"
      ],
      "text/plain": [
       "<IPython.core.display.HTML object>"
      ]
     },
     "metadata": {},
     "output_type": "display_data"
    },
    {
     "name": "stdout",
     "output_type": "stream",
     "text": [
      "====================================================================================================\n"
     ]
    },
    {
     "data": {
      "text/html": [
       "<span class=\"tex2jax_ignore\"><div class=\"entities\" style=\"line-height: 2.5; direction: ltr\">replaced scb board which seemed to resolve scanner failure error message but afterwards continously jammed at fuser . support not available so will create follow up and have fuser ordered once i ' m able to call tech assist for the correct part # . . #normal</div></span>"
      ],
      "text/plain": [
       "<IPython.core.display.HTML object>"
      ]
     },
     "metadata": {},
     "output_type": "display_data"
    },
    {
     "name": "stdout",
     "output_type": "stream",
     "text": [
      "====================================================================================================\n"
     ]
    },
    {
     "data": {
      "text/html": [
       "<span class=\"tex2jax_ignore\"><div class=\"entities\" style=\"line-height: 2.5; direction: ltr\">cu agreed to reschedule for monday 7/19</div></span>"
      ],
      "text/plain": [
       "<IPython.core.display.HTML object>"
      ]
     },
     "metadata": {},
     "output_type": "display_data"
    },
    {
     "name": "stdout",
     "output_type": "stream",
     "text": [
      "====================================================================================================\n"
     ]
    },
    {
     "data": {
      "text/html": [
       "<span class=\"tex2jax_ignore\"><div class=\"entities\" style=\"line-height: 2.5; direction: ltr\">6/12 spoke to cx and will be scheduling for 6/17 . please order quantity 1 of part # \n",
       "<mark class=\"entity\" style=\"background: #92E0AA; padding: 0.45em 0.6em; margin: 0 0.25em; line-height: 1; border-radius: 0.35em;\">\n",
       "    cc522-69005\n",
       "    <span style=\"font-size: 0.8em; font-weight: bold; line-height: 1; border-radius: 0.35em; vertical-align: middle; margin-left: 0.5rem\">PART_NUM</span>\n",
       "</mark>\n",
       " to local hfpu . please order quantity 1 of part # \n",
       "<mark class=\"entity\" style=\"background: #92E0AA; padding: 0.45em 0.6em; margin: 0 0.25em; line-height: 1; border-radius: 0.35em;\">\n",
       "    rm1-8895-000cn\n",
       "    <span style=\"font-size: 0.8em; font-weight: bold; line-height: 1; border-radius: 0.35em; vertical-align: middle; margin-left: 0.5rem\">PART_NUM</span>\n",
       "</mark>\n",
       " and \n",
       "<mark class=\"entity\" style=\"background: #92E0AA; padding: 0.45em 0.6em; margin: 0 0.25em; line-height: 1; border-radius: 0.35em;\">\n",
       "    rm1-6074-000cn\n",
       "    <span style=\"font-size: 0.8em; font-weight: bold; line-height: 1; border-radius: 0.35em; vertical-align: middle; margin-left: 0.5rem\">PART_NUM</span>\n",
       "</mark>\n",
       " to local hfpu . new date for wo of 7/6 . please reassign to ce tyler ' s stelz</div></span>"
      ],
      "text/plain": [
       "<IPython.core.display.HTML object>"
      ]
     },
     "metadata": {},
     "output_type": "display_data"
    },
    {
     "name": "stdout",
     "output_type": "stream",
     "text": [
      "====================================================================================================\n"
     ]
    },
    {
     "data": {
      "text/html": [
       "<span class=\"tex2jax_ignore\"><div class=\"entities\" style=\"line-height: 2.5; direction: ltr\">please order part , \n",
       "<mark class=\"entity\" style=\"background: #92E0AA; padding: 0.45em 0.6em; margin: 0 0.25em; line-height: 1; border-radius: 0.35em;\">\n",
       "    lex-40x4724\n",
       "    <span style=\"font-size: 0.8em; font-weight: bold; line-height: 1; border-radius: 0.35em; vertical-align: middle; margin-left: 0.5rem\">PART_NUM</span>\n",
       "</mark>\n",
       " , qty 1</div></span>"
      ],
      "text/plain": [
       "<IPython.core.display.HTML object>"
      ]
     },
     "metadata": {},
     "output_type": "display_data"
    },
    {
     "name": "stdout",
     "output_type": "stream",
     "text": [
      "====================================================================================================\n"
     ]
    },
    {
     "data": {
      "text/html": [
       "<span class=\"tex2jax_ignore\"><div class=\"entities\" style=\"line-height: 2.5; direction: ltr\">please create revisit and order nbd \n",
       "<mark class=\"entity\" style=\"background: #92E0AA; padding: 0.45em 0.6em; margin: 0 0.25em; line-height: 1; border-radius: 0.35em;\">\n",
       "    l27294-001\n",
       "    <span style=\"font-size: 0.8em; font-weight: bold; line-height: 1; border-radius: 0.35em; vertical-align: middle; margin-left: 0.5rem\">PART_NUM</span>\n",
       "</mark>\n",
       " to my default hal</div></span>"
      ],
      "text/plain": [
       "<IPython.core.display.HTML object>"
      ]
     },
     "metadata": {},
     "output_type": "display_data"
    },
    {
     "name": "stdout",
     "output_type": "stream",
     "text": [
      "====================================================================================================\n"
     ]
    },
    {
     "data": {
      "text/html": [
       "<span class=\"tex2jax_ignore\"><div class=\"entities\" style=\"line-height: 2.5; direction: ltr\">13 . b9 . dd error . but the part is for m880 . call support . need fuser drive ass’y . *fixed* please \n",
       "<mark class=\"entity\" style=\"background: #92E0AA; padding: 0.45em 0.6em; margin: 0 0.25em; line-height: 1; border-radius: 0.35em;\">\n",
       "    rm1-9788-000cn\n",
       "    <span style=\"font-size: 0.8em; font-weight: bold; line-height: 1; border-radius: 0.35em; vertical-align: middle; margin-left: 0.5rem\">PART_NUM</span>\n",
       "</mark>\n",
       " nbd to fedex 83002693 ( 600 w 116th st new york ny 10027 ) under feng chen . please order recommended nbd to fedex 83002693 ( 600 w 116th st new york ny 10027 ) under feng chen 7/15- e-mail user with tracking information , waiting for part</div></span>"
      ],
      "text/plain": [
       "<IPython.core.display.HTML object>"
      ]
     },
     "metadata": {},
     "output_type": "display_data"
    },
    {
     "name": "stdout",
     "output_type": "stream",
     "text": [
      "====================================================================================================\n"
     ]
    },
    {
     "data": {
      "text/html": [
       "<span class=\"tex2jax_ignore\"><div class=\"entities\" style=\"line-height: 2.5; direction: ltr\">please order quantity 1 pn: can-4623b001 nbd and send to 901 main street 13th floor dallas , texas 75202 tx1-492-13-21</div></span>"
      ],
      "text/plain": [
       "<IPython.core.display.HTML object>"
      ]
     },
     "metadata": {},
     "output_type": "display_data"
    }
   ],
   "source": [
    "show_texts(test_text_entities, indexes, show_detail=False) "
   ]
  },
  {
   "cell_type": "markdown",
   "id": "dfeab3d8",
   "metadata": {},
   "source": [
    "### Check Error Data"
   ]
  },
  {
   "cell_type": "code",
   "execution_count": 82,
   "id": "8c433085",
   "metadata": {
    "ExecuteTime": {
     "end_time": "2021-08-25T10:22:38.578428Z",
     "start_time": "2021-08-25T10:20:39.583959Z"
    }
   },
   "outputs": [
    {
     "name": "stdout",
     "output_type": "stream",
     "text": [
      "56 1\n",
      "64 2\n",
      "89 3\n",
      "95 4\n",
      "151 5\n",
      "176 6\n",
      "181 7\n",
      "194 8\n",
      "204 9\n",
      "243 10\n",
      "488 11\n",
      "504 12\n",
      "519 13\n",
      "583 14\n",
      "687 15\n",
      "689 16\n",
      "921 17\n",
      "980 18\n",
      "1066 19\n",
      "1206 20\n",
      "1336 21\n",
      "1380 22\n",
      "1422 23\n",
      "1431 24\n",
      "1500 25\n"
     ]
    }
   ],
   "source": [
    "def get_error_data(data):\n",
    "    error_data = []\n",
    "    for i in range(len(data)):\n",
    "        text, annotations = data[i]\n",
    "        doc = nlp(text)\n",
    "        entities = annotations['entities']\n",
    "        if len(entities) != len(doc.ents):\n",
    "            error_data.append(data[i])\n",
    "            print(i, len(error_data))\n",
    "        else:\n",
    "            exit_flag = False\n",
    "            actual_entities = {(start, end, label): label for start, end, label in entities}\n",
    "            predict_entities = {(ent.start_char, ent.end_char, ent.label_): ent.label_ \n",
    "                                for ent in doc.ents}\n",
    "            \n",
    "            for key, _ in actual_entities.items():                \n",
    "                if key not in predict_entities:\n",
    "                    print(actual_entities, predict_entities, sep='\\n') \n",
    "                    error_data.append(data[i])\n",
    "                    print(i, len(error_data))\n",
    "                    break\n",
    "            if exit_flag: continue\n",
    "            for key, _ in predict_entities.items():\n",
    "                if key not in actual_entities:\n",
    "                    print(actual_entities, predict_entities)\n",
    "                    error_data.append(data[i])\n",
    "                    print(i, len(error_data))\n",
    "                    break\n",
    "                \n",
    "    return error_data\n",
    "\n",
    "error_data = get_error_data(test_text_entities)"
   ]
  },
  {
   "cell_type": "code",
   "execution_count": 83,
   "id": "19e81a75",
   "metadata": {
    "ExecuteTime": {
     "end_time": "2021-08-25T10:22:45.208583Z",
     "start_time": "2021-08-25T10:22:45.205244Z"
    }
   },
   "outputs": [
    {
     "name": "stdout",
     "output_type": "stream",
     "text": [
      "25\n"
     ]
    }
   ],
   "source": [
    "print(len(error_data))"
   ]
  },
  {
   "cell_type": "code",
   "execution_count": 84,
   "id": "5846698d",
   "metadata": {
    "ExecuteTime": {
     "end_time": "2021-08-25T10:22:51.271502Z",
     "start_time": "2021-08-25T10:22:48.245359Z"
    },
    "scrolled": false
   },
   "outputs": [
    {
     "name": "stdout",
     "output_type": "stream",
     "text": [
      "====================================================================================================\n",
      "please order rm2-1278-000cn ( qty 1 ) and send to hfpu in lockport , il . 3gy10a-cnncmc6337-hp laserjet managed e60165dn printer case: 5067812295 wo-014252961 po119240397 0645153938 neovia 3930 cedar creek dr joliet , il . 60436 larry heagle 1815-768-3282 alt: 779-702-0498 rm2-1278-000cn assembly-door link e601xx 51771292\n"
     ]
    },
    {
     "data": {
      "text/html": [
       "<span class=\"tex2jax_ignore\"><div class=\"entities\" style=\"line-height: 2.5; direction: ltr\">please order \n",
       "<mark class=\"entity\" style=\"background: #92E0AA; padding: 0.45em 0.6em; margin: 0 0.25em; line-height: 1; border-radius: 0.35em;\">\n",
       "    rm2-1278-000cn\n",
       "    <span style=\"font-size: 0.8em; font-weight: bold; line-height: 1; border-radius: 0.35em; vertical-align: middle; margin-left: 0.5rem\">PART_NUM</span>\n",
       "</mark>\n",
       " ( qty 1 ) and send to hfpu in lockport , il . 3gy10a-cnncmc6337-hp laserjet managed e60165dn printer case: 5067812295 wo-014252961 po119240397 0645153938 neovia 3930 cedar creek dr joliet , il . 60436 larry heagle \n",
       "<mark class=\"entity\" style=\"background: #92E0AA; padding: 0.45em 0.6em; margin: 0 0.25em; line-height: 1; border-radius: 0.35em;\">\n",
       "    1815-768-3282\n",
       "    <span style=\"font-size: 0.8em; font-weight: bold; line-height: 1; border-radius: 0.35em; vertical-align: middle; margin-left: 0.5rem\">PART_NUM</span>\n",
       "</mark>\n",
       " alt: \n",
       "<mark class=\"entity\" style=\"background: #92E0AA; padding: 0.45em 0.6em; margin: 0 0.25em; line-height: 1; border-radius: 0.35em;\">\n",
       "    779-702-0498\n",
       "    <span style=\"font-size: 0.8em; font-weight: bold; line-height: 1; border-radius: 0.35em; vertical-align: middle; margin-left: 0.5rem\">PART_NUM</span>\n",
       "</mark>\n",
       " \n",
       "<mark class=\"entity\" style=\"background: #92E0AA; padding: 0.45em 0.6em; margin: 0 0.25em; line-height: 1; border-radius: 0.35em;\">\n",
       "    rm2-1278-000cn\n",
       "    <span style=\"font-size: 0.8em; font-weight: bold; line-height: 1; border-radius: 0.35em; vertical-align: middle; margin-left: 0.5rem\">PART_NUM</span>\n",
       "</mark>\n",
       " assembly-door link e601xx 51771292</div></span>"
      ],
      "text/plain": [
       "<IPython.core.display.HTML object>"
      ]
     },
     "metadata": {},
     "output_type": "display_data"
    },
    {
     "name": "stdout",
     "output_type": "stream",
     "text": [
      "------------------------- acutal entities -------------------------\n",
      "('rm2-1278-000cn', 13, 27, 'PART_NUM')\n",
      "('rm2-1278-000cn', 274, 288, 'PART_NUM')\n",
      "------------------------- predict entities -------------------------\n",
      "('rm2-1278-000cn', 13, 27, 'PART_NUM')\n",
      "('1815-768-3282', 242, 255, 'PART_NUM')\n",
      "('779-702-0498', 261, 273, 'PART_NUM')\n",
      "('rm2-1278-000cn', 274, 288, 'PART_NUM')\n",
      "====================================================================================================\n",
      "please send maintenance kit fixing assembly ( 110v ) rm2-5476-000 1 . #normal part not available checking part #\n"
     ]
    },
    {
     "data": {
      "text/html": [
       "<span class=\"tex2jax_ignore\"><div class=\"entities\" style=\"line-height: 2.5; direction: ltr\">please send maintenance kit fixing assembly ( 110v ) \n",
       "<mark class=\"entity\" style=\"background: #92E0AA; padding: 0.45em 0.6em; margin: 0 0.25em; line-height: 1; border-radius: 0.35em;\">\n",
       "    rm2-5476-000\n",
       "    <span style=\"font-size: 0.8em; font-weight: bold; line-height: 1; border-radius: 0.35em; vertical-align: middle; margin-left: 0.5rem\">PART_NUM</span>\n",
       "</mark>\n",
       " 1 . #normal part not available checking part #</div></span>"
      ],
      "text/plain": [
       "<IPython.core.display.HTML object>"
      ]
     },
     "metadata": {},
     "output_type": "display_data"
    },
    {
     "name": "stdout",
     "output_type": "stream",
     "text": [
      "------------------------- predict entities -------------------------\n",
      "('rm2-5476-000', 53, 65, 'PART_NUM')\n",
      "====================================================================================================\n",
      "please order part# j8j93–67901 nbd to address on work order\n"
     ]
    },
    {
     "data": {
      "text/html": [
       "<span class=\"tex2jax_ignore\"><div class=\"entities\" style=\"line-height: 2.5; direction: ltr\">please order part# \n",
       "<mark class=\"entity\" style=\"background: #92E0AA; padding: 0.45em 0.6em; margin: 0 0.25em; line-height: 1; border-radius: 0.35em;\">\n",
       "    j8j93–67901 nbd\n",
       "    <span style=\"font-size: 0.8em; font-weight: bold; line-height: 1; border-radius: 0.35em; vertical-align: middle; margin-left: 0.5rem\">PART_NUM</span>\n",
       "</mark>\n",
       " to address on work order</div></span>"
      ],
      "text/plain": [
       "<IPython.core.display.HTML object>"
      ]
     },
     "metadata": {},
     "output_type": "display_data"
    },
    {
     "name": "stdout",
     "output_type": "stream",
     "text": [
      "------------------------- predict entities -------------------------\n",
      "('j8j93–67901 nbd', 19, 34, 'PART_NUM')\n",
      "====================================================================================================\n",
      "order 1ea b5l47-67018 b5l47-67019 . part on b-o\n"
     ]
    },
    {
     "data": {
      "text/html": [
       "<span class=\"tex2jax_ignore\"><div class=\"entities\" style=\"line-height: 2.5; direction: ltr\">order 1ea \n",
       "<mark class=\"entity\" style=\"background: #92E0AA; padding: 0.45em 0.6em; margin: 0 0.25em; line-height: 1; border-radius: 0.35em;\">\n",
       "    b5l47-67018\n",
       "    <span style=\"font-size: 0.8em; font-weight: bold; line-height: 1; border-radius: 0.35em; vertical-align: middle; margin-left: 0.5rem\">PART_NUM</span>\n",
       "</mark>\n",
       " \n",
       "<mark class=\"entity\" style=\"background: #92E0AA; padding: 0.45em 0.6em; margin: 0 0.25em; line-height: 1; border-radius: 0.35em;\">\n",
       "    b5l47-67019\n",
       "    <span style=\"font-size: 0.8em; font-weight: bold; line-height: 1; border-radius: 0.35em; vertical-align: middle; margin-left: 0.5rem\">PART_NUM</span>\n",
       "</mark>\n",
       " . part on \n",
       "<mark class=\"entity\" style=\"background: #92E0AA; padding: 0.45em 0.6em; margin: 0 0.25em; line-height: 1; border-radius: 0.35em;\">\n",
       "    b-o\n",
       "    <span style=\"font-size: 0.8em; font-weight: bold; line-height: 1; border-radius: 0.35em; vertical-align: middle; margin-left: 0.5rem\">PART_NUM</span>\n",
       "</mark>\n",
       "</div></span>"
      ],
      "text/plain": [
       "<IPython.core.display.HTML object>"
      ]
     },
     "metadata": {},
     "output_type": "display_data"
    },
    {
     "name": "stdout",
     "output_type": "stream",
     "text": [
      "------------------------- acutal entities -------------------------\n",
      "('b5l47-67018', 10, 21, 'PART_NUM')\n",
      "('b5l47-67019', 22, 33, 'PART_NUM')\n",
      "------------------------- predict entities -------------------------\n",
      "('b5l47-67018', 10, 21, 'PART_NUM')\n",
      "('b5l47-67019', 22, 33, 'PART_NUM')\n",
      "('b-o', 44, 47, 'PART_NUM')\n",
      "====================================================================================================\n",
      "#normal printer have error code 50 . 3f . 11 high temperature error 1 contacted tech assist for a new action plan . to replace rl1-4005-000 fuser power supply assembly\n"
     ]
    },
    {
     "data": {
      "text/html": [
       "<span class=\"tex2jax_ignore\"><div class=\"entities\" style=\"line-height: 2.5; direction: ltr\">#normal printer have error code 50 . 3f . 11 high temperature error 1 contacted tech assist for a new action plan . to replace \n",
       "<mark class=\"entity\" style=\"background: #92E0AA; padding: 0.45em 0.6em; margin: 0 0.25em; line-height: 1; border-radius: 0.35em;\">\n",
       "    rl1-4005-000\n",
       "    <span style=\"font-size: 0.8em; font-weight: bold; line-height: 1; border-radius: 0.35em; vertical-align: middle; margin-left: 0.5rem\">PART_NUM</span>\n",
       "</mark>\n",
       " fuser power supply assembly</div></span>"
      ],
      "text/plain": [
       "<IPython.core.display.HTML object>"
      ]
     },
     "metadata": {},
     "output_type": "display_data"
    },
    {
     "name": "stdout",
     "output_type": "stream",
     "text": [
      "------------------------- predict entities -------------------------\n",
      "('rl1-4005-000', 127, 139, 'PART_NUM')\n",
      "====================================================================================================\n",
      "#normal customer requests service at this time order :917725-855 and l43407-001 and 213349-001 for next day ship to customers site attn kim gordin thank you\n"
     ]
    },
    {
     "data": {
      "text/html": [
       "<span class=\"tex2jax_ignore\"><div class=\"entities\" style=\"line-height: 2.5; direction: ltr\">#normal customer requests service at this time order :\n",
       "<mark class=\"entity\" style=\"background: #92E0AA; padding: 0.45em 0.6em; margin: 0 0.25em; line-height: 1; border-radius: 0.35em;\">\n",
       "    917725-855\n",
       "    <span style=\"font-size: 0.8em; font-weight: bold; line-height: 1; border-radius: 0.35em; vertical-align: middle; margin-left: 0.5rem\">PART_NUM</span>\n",
       "</mark>\n",
       " and \n",
       "<mark class=\"entity\" style=\"background: #92E0AA; padding: 0.45em 0.6em; margin: 0 0.25em; line-height: 1; border-radius: 0.35em;\">\n",
       "    l43407-001\n",
       "    <span style=\"font-size: 0.8em; font-weight: bold; line-height: 1; border-radius: 0.35em; vertical-align: middle; margin-left: 0.5rem\">PART_NUM</span>\n",
       "</mark>\n",
       " and \n",
       "<mark class=\"entity\" style=\"background: #92E0AA; padding: 0.45em 0.6em; margin: 0 0.25em; line-height: 1; border-radius: 0.35em;\">\n",
       "    213349-001\n",
       "    <span style=\"font-size: 0.8em; font-weight: bold; line-height: 1; border-radius: 0.35em; vertical-align: middle; margin-left: 0.5rem\">PART_NUM</span>\n",
       "</mark>\n",
       " for next day ship to customers site attn kim gordin thank you</div></span>"
      ],
      "text/plain": [
       "<IPython.core.display.HTML object>"
      ]
     },
     "metadata": {},
     "output_type": "display_data"
    },
    {
     "name": "stdout",
     "output_type": "stream",
     "text": [
      "------------------------- acutal entities -------------------------\n",
      "('l43407-001', 69, 79, 'PART_NUM')\n",
      "('213349-001', 84, 94, 'PART_NUM')\n",
      "------------------------- predict entities -------------------------\n",
      "('917725-855', 54, 64, 'PART_NUM')\n",
      "('l43407-001', 69, 79, 'PART_NUM')\n",
      "('213349-001', 84, 94, 'PART_NUM')\n",
      "====================================================================================================\n",
      "need to order nib kit and ecu ( jz09-67077 & g1w39-67001 ) ship to san antonio hal\n"
     ]
    },
    {
     "data": {
      "text/html": [
       "<span class=\"tex2jax_ignore\"><div class=\"entities\" style=\"line-height: 2.5; direction: ltr\">need to order nib kit and ecu ( \n",
       "<mark class=\"entity\" style=\"background: #92E0AA; padding: 0.45em 0.6em; margin: 0 0.25em; line-height: 1; border-radius: 0.35em;\">\n",
       "    jz09-67077\n",
       "    <span style=\"font-size: 0.8em; font-weight: bold; line-height: 1; border-radius: 0.35em; vertical-align: middle; margin-left: 0.5rem\">PART_NUM</span>\n",
       "</mark>\n",
       " &amp; \n",
       "<mark class=\"entity\" style=\"background: #92E0AA; padding: 0.45em 0.6em; margin: 0 0.25em; line-height: 1; border-radius: 0.35em;\">\n",
       "    g1w39-67001\n",
       "    <span style=\"font-size: 0.8em; font-weight: bold; line-height: 1; border-radius: 0.35em; vertical-align: middle; margin-left: 0.5rem\">PART_NUM</span>\n",
       "</mark>\n",
       " ) ship to san antonio hal</div></span>"
      ],
      "text/plain": [
       "<IPython.core.display.HTML object>"
      ]
     },
     "metadata": {},
     "output_type": "display_data"
    },
    {
     "name": "stdout",
     "output_type": "stream",
     "text": [
      "------------------------- acutal entities -------------------------\n",
      "('g1w39-67001', 45, 56, 'PART_NUM')\n",
      "------------------------- predict entities -------------------------\n",
      "('jz09-67077', 32, 42, 'PART_NUM')\n",
      "('g1w39-67001', 45, 56, 'PART_NUM')\n",
      "====================================================================================================\n",
      "i ' m ordering the following parts for this customer rm26418-000cn qty=1 ship to 5200 west greens road houston texas 77066 . #normal\n"
     ]
    },
    {
     "data": {
      "text/html": [
       "<span class=\"tex2jax_ignore\"><div class=\"entities\" style=\"line-height: 2.5; direction: ltr\">i ' m ordering the following parts for this customer \n",
       "<mark class=\"entity\" style=\"background: #92E0AA; padding: 0.45em 0.6em; margin: 0 0.25em; line-height: 1; border-radius: 0.35em;\">\n",
       "    rm26418-000cn\n",
       "    <span style=\"font-size: 0.8em; font-weight: bold; line-height: 1; border-radius: 0.35em; vertical-align: middle; margin-left: 0.5rem\">PART_NUM</span>\n",
       "</mark>\n",
       " qty=1 ship to 5200 west greens road houston texas 77066 . #normal</div></span>"
      ],
      "text/plain": [
       "<IPython.core.display.HTML object>"
      ]
     },
     "metadata": {},
     "output_type": "display_data"
    },
    {
     "name": "stdout",
     "output_type": "stream",
     "text": [
      "------------------------- predict entities -------------------------\n",
      "('rm26418-000cn', 53, 66, 'PART_NUM')\n",
      "====================================================================================================\n",
      "need revisit for 7/2 and please order 0609-001558 qty 1 nbd to 83005433\n"
     ]
    },
    {
     "data": {
      "text/html": [
       "<span class=\"tex2jax_ignore\"><div class=\"entities\" style=\"line-height: 2.5; direction: ltr\">need revisit for 7/2 and please order \n",
       "<mark class=\"entity\" style=\"background: #92E0AA; padding: 0.45em 0.6em; margin: 0 0.25em; line-height: 1; border-radius: 0.35em;\">\n",
       "    0609-001558\n",
       "    <span style=\"font-size: 0.8em; font-weight: bold; line-height: 1; border-radius: 0.35em; vertical-align: middle; margin-left: 0.5rem\">PART_NUM</span>\n",
       "</mark>\n",
       " qty 1 nbd to 83005433</div></span>"
      ],
      "text/plain": [
       "<IPython.core.display.HTML object>"
      ]
     },
     "metadata": {},
     "output_type": "display_data"
    },
    {
     "name": "stdout",
     "output_type": "stream",
     "text": [
      "------------------------- predict entities -------------------------\n",
      "('0609-001558', 38, 49, 'PART_NUM')\n",
      "====================================================================================================\n",
      "please send the following part to this address james jones c/o imd lamar mosley army community hospital 1585 3rd st . building 285 fort polk , louisiana 71459-5110 rm2-1231-000cn . spoke with the customer as i was about to leave and he said that they have put the printer on a new hci and it is working properly said the hci that came with a printer was physically damaged . customer wants an hci sent to the location i am providing the\n"
     ]
    },
    {
     "data": {
      "text/html": [
       "<span class=\"tex2jax_ignore\"><div class=\"entities\" style=\"line-height: 2.5; direction: ltr\">please send the following part to this address james jones c/o imd lamar mosley army community hospital 1585 3rd st . building 285 fort polk , louisiana \n",
       "<mark class=\"entity\" style=\"background: #92E0AA; padding: 0.45em 0.6em; margin: 0 0.25em; line-height: 1; border-radius: 0.35em;\">\n",
       "    71459-5110\n",
       "    <span style=\"font-size: 0.8em; font-weight: bold; line-height: 1; border-radius: 0.35em; vertical-align: middle; margin-left: 0.5rem\">PART_NUM</span>\n",
       "</mark>\n",
       " \n",
       "<mark class=\"entity\" style=\"background: #92E0AA; padding: 0.45em 0.6em; margin: 0 0.25em; line-height: 1; border-radius: 0.35em;\">\n",
       "    rm2-1231-000cn\n",
       "    <span style=\"font-size: 0.8em; font-weight: bold; line-height: 1; border-radius: 0.35em; vertical-align: middle; margin-left: 0.5rem\">PART_NUM</span>\n",
       "</mark>\n",
       " . spoke with the customer as i was about to leave and he said that they have put the printer on a new hci and it is working properly said the hci that came with a printer was physically damaged . customer wants an hci sent to the location i am providing the</div></span>"
      ],
      "text/plain": [
       "<IPython.core.display.HTML object>"
      ]
     },
     "metadata": {},
     "output_type": "display_data"
    },
    {
     "name": "stdout",
     "output_type": "stream",
     "text": [
      "------------------------- acutal entities -------------------------\n",
      "('rm2-1231-000cn', 164, 178, 'PART_NUM')\n",
      "------------------------- predict entities -------------------------\n",
      "('71459-5110', 153, 163, 'PART_NUM')\n",
      "('rm2-1231-000cn', 164, 178, 'PART_NUM')\n",
      "====================================================================================================\n",
      "please revisit for tomorrow from 8:00 am to 10:00 am and order pn ' s 831757-001and 801360-001 nbd to hal location in knoxville tennessee\n"
     ]
    },
    {
     "data": {
      "text/html": [
       "<span class=\"tex2jax_ignore\"><div class=\"entities\" style=\"line-height: 2.5; direction: ltr\">please revisit for tomorrow from 8:00 am to 10:00 am and order pn ' s \n",
       "<mark class=\"entity\" style=\"background: #92E0AA; padding: 0.45em 0.6em; margin: 0 0.25em; line-height: 1; border-radius: 0.35em;\">\n",
       "    831757-001and\n",
       "    <span style=\"font-size: 0.8em; font-weight: bold; line-height: 1; border-radius: 0.35em; vertical-align: middle; margin-left: 0.5rem\">PART_NUM</span>\n",
       "</mark>\n",
       " \n",
       "<mark class=\"entity\" style=\"background: #92E0AA; padding: 0.45em 0.6em; margin: 0 0.25em; line-height: 1; border-radius: 0.35em;\">\n",
       "    801360-001\n",
       "    <span style=\"font-size: 0.8em; font-weight: bold; line-height: 1; border-radius: 0.35em; vertical-align: middle; margin-left: 0.5rem\">PART_NUM</span>\n",
       "</mark>\n",
       " nbd to hal location in knoxville tennessee</div></span>"
      ],
      "text/plain": [
       "<IPython.core.display.HTML object>"
      ]
     },
     "metadata": {},
     "output_type": "display_data"
    },
    {
     "name": "stdout",
     "output_type": "stream",
     "text": [
      "------------------------- acutal entities -------------------------\n",
      "('801360-001', 84, 94, 'PART_NUM')\n",
      "------------------------- predict entities -------------------------\n",
      "('831757-001and', 70, 83, 'PART_NUM')\n",
      "('801360-001', 84, 94, 'PART_NUM')\n",
      "====================================================================================================\n",
      "cannot wait for rob to call me back for the other part . will add it after . please order parts: duplex solenoid lex-40x8301 controller board lex-40x9253 ship to hfpu  ( 83004794 ) 16241 s farrell road , lockport , il . 60441 set for friday so i can get the . lex88932563-70157ghh1dy96-lexmark mx511dhe mono mfp printer case: 5068538396 wo-014405153 fw: nh63 . sb . n638 10 . 73 . 39 . 111 w01991 events printer huison sanchez paper jam , open rear door 230 . 03 affecting only multiple users 7/6 costco wholesale\n"
     ]
    },
    {
     "data": {
      "text/html": [
       "<span class=\"tex2jax_ignore\"><div class=\"entities\" style=\"line-height: 2.5; direction: ltr\">cannot wait for rob to call me back for the other part . will add it after . please order parts: duplex solenoid \n",
       "<mark class=\"entity\" style=\"background: #92E0AA; padding: 0.45em 0.6em; margin: 0 0.25em; line-height: 1; border-radius: 0.35em;\">\n",
       "    lex-40x8301\n",
       "    <span style=\"font-size: 0.8em; font-weight: bold; line-height: 1; border-radius: 0.35em; vertical-align: middle; margin-left: 0.5rem\">PART_NUM</span>\n",
       "</mark>\n",
       " controller board \n",
       "<mark class=\"entity\" style=\"background: #92E0AA; padding: 0.45em 0.6em; margin: 0 0.25em; line-height: 1; border-radius: 0.35em;\">\n",
       "    lex-40x9253\n",
       "    <span style=\"font-size: 0.8em; font-weight: bold; line-height: 1; border-radius: 0.35em; vertical-align: middle; margin-left: 0.5rem\">PART_NUM</span>\n",
       "</mark>\n",
       " ship to hfpu  ( 83004794 ) 16241 s farrell road , lockport , il . 60441 set for friday so i can get the . \n",
       "<mark class=\"entity\" style=\"background: #92E0AA; padding: 0.45em 0.6em; margin: 0 0.25em; line-height: 1; border-radius: 0.35em;\">\n",
       "    lex88932563-70157ghh1dy96-lexmark\n",
       "    <span style=\"font-size: 0.8em; font-weight: bold; line-height: 1; border-radius: 0.35em; vertical-align: middle; margin-left: 0.5rem\">PART_NUM</span>\n",
       "</mark>\n",
       " mx511dhe mono mfp printer case: 5068538396 wo-014405153 fw: nh63 . sb . n638 10 . 73 . 39 . 111 w01991 events printer huison sanchez paper jam , open rear door 230 . 03 affecting only multiple users 7/6 costco wholesale</div></span>"
      ],
      "text/plain": [
       "<IPython.core.display.HTML object>"
      ]
     },
     "metadata": {},
     "output_type": "display_data"
    },
    {
     "name": "stdout",
     "output_type": "stream",
     "text": [
      "------------------------- acutal entities -------------------------\n",
      "('lex-40x8301', 113, 124, 'PART_NUM')\n",
      "('lex-40x9253', 142, 153, 'PART_NUM')\n",
      "------------------------- predict entities -------------------------\n",
      "('lex-40x8301', 113, 124, 'PART_NUM')\n",
      "('lex-40x9253', 142, 153, 'PART_NUM')\n",
      "('lex88932563-70157ghh1dy96-lexmark', 260, 293, 'PART_NUM')\n",
      "====================================================================================================\n",
      "7/8- please create follow up and assign to myself for revisit reimage failed re image computer follow up with lissett 619-507-8334 to make sure it was succesful job id:11625681039975\n"
     ]
    },
    {
     "data": {
      "text/html": [
       "<span class=\"tex2jax_ignore\"><div class=\"entities\" style=\"line-height: 2.5; direction: ltr\">7/8- please create follow up and assign to myself for revisit reimage failed re image computer follow up with lissett \n",
       "<mark class=\"entity\" style=\"background: #92E0AA; padding: 0.45em 0.6em; margin: 0 0.25em; line-height: 1; border-radius: 0.35em;\">\n",
       "    619-507-8334\n",
       "    <span style=\"font-size: 0.8em; font-weight: bold; line-height: 1; border-radius: 0.35em; vertical-align: middle; margin-left: 0.5rem\">PART_NUM</span>\n",
       "</mark>\n",
       " to make sure it was succesful job id:11625681039975</div></span>"
      ],
      "text/plain": [
       "<IPython.core.display.HTML object>"
      ]
     },
     "metadata": {},
     "output_type": "display_data"
    },
    {
     "name": "stdout",
     "output_type": "stream",
     "text": [
      "------------------------- predict entities -------------------------\n",
      "('619-507-8334', 118, 130, 'PART_NUM')\n",
      "====================================================================================================\n",
      "7/7/21--1020--please order parts below: g1w39-69001 / mech-kit-v1-pwe-586mfp-ww g1w39-67952 / kit-assy/feeder tray 3 please ship to client address below: norton community hospital attn:  eryk nayagam -- is 100 15th st nw norton , va 24273 just go pro\n"
     ]
    },
    {
     "data": {
      "text/html": [
       "<span class=\"tex2jax_ignore\"><div class=\"entities\" style=\"line-height: 2.5; direction: ltr\">7/7/21--1020--please order parts below: \n",
       "<mark class=\"entity\" style=\"background: #92E0AA; padding: 0.45em 0.6em; margin: 0 0.25em; line-height: 1; border-radius: 0.35em;\">\n",
       "    g1w39-69001\n",
       "    <span style=\"font-size: 0.8em; font-weight: bold; line-height: 1; border-radius: 0.35em; vertical-align: middle; margin-left: 0.5rem\">PART_NUM</span>\n",
       "</mark>\n",
       " / \n",
       "<mark class=\"entity\" style=\"background: #92E0AA; padding: 0.45em 0.6em; margin: 0 0.25em; line-height: 1; border-radius: 0.35em;\">\n",
       "    mech-kit-v1\n",
       "    <span style=\"font-size: 0.8em; font-weight: bold; line-height: 1; border-radius: 0.35em; vertical-align: middle; margin-left: 0.5rem\">PART_NUM</span>\n",
       "</mark>\n",
       "-pwe-586mfp-ww \n",
       "<mark class=\"entity\" style=\"background: #92E0AA; padding: 0.45em 0.6em; margin: 0 0.25em; line-height: 1; border-radius: 0.35em;\">\n",
       "    g1w39-67952\n",
       "    <span style=\"font-size: 0.8em; font-weight: bold; line-height: 1; border-radius: 0.35em; vertical-align: middle; margin-left: 0.5rem\">PART_NUM</span>\n",
       "</mark>\n",
       " / kit-assy/feeder tray 3 please ship to client address below: norton community hospital attn:  eryk nayagam -- is 100 15th st nw norton , va 24273 just go pro</div></span>"
      ],
      "text/plain": [
       "<IPython.core.display.HTML object>"
      ]
     },
     "metadata": {},
     "output_type": "display_data"
    },
    {
     "name": "stdout",
     "output_type": "stream",
     "text": [
      "------------------------- acutal entities -------------------------\n",
      "('g1w39-69001', 40, 51, 'PART_NUM')\n",
      "('g1w39-67952', 80, 91, 'PART_NUM')\n",
      "------------------------- predict entities -------------------------\n",
      "('g1w39-69001', 40, 51, 'PART_NUM')\n",
      "('mech-kit-v1', 54, 65, 'PART_NUM')\n",
      "('g1w39-67952', 80, 91, 'PART_NUM')\n",
      "====================================================================================================\n",
      "please order lcd cable l32713-001 and backlight cable l3291-001 . #normal 7/15 please order lcd cable l32713-001 and backlight cable l3291-001 replaced display and system board but back light is still dim , verified parts and issue with support , signed for jn kp 7/14 parts have not shipped per fedex\n"
     ]
    },
    {
     "data": {
      "text/html": [
       "<span class=\"tex2jax_ignore\"><div class=\"entities\" style=\"line-height: 2.5; direction: ltr\">please order lcd cable \n",
       "<mark class=\"entity\" style=\"background: #92E0AA; padding: 0.45em 0.6em; margin: 0 0.25em; line-height: 1; border-radius: 0.35em;\">\n",
       "    l32713-001\n",
       "    <span style=\"font-size: 0.8em; font-weight: bold; line-height: 1; border-radius: 0.35em; vertical-align: middle; margin-left: 0.5rem\">PART_NUM</span>\n",
       "</mark>\n",
       " and backlight cable \n",
       "<mark class=\"entity\" style=\"background: #92E0AA; padding: 0.45em 0.6em; margin: 0 0.25em; line-height: 1; border-radius: 0.35em;\">\n",
       "    l3291-001\n",
       "    <span style=\"font-size: 0.8em; font-weight: bold; line-height: 1; border-radius: 0.35em; vertical-align: middle; margin-left: 0.5rem\">PART_NUM</span>\n",
       "</mark>\n",
       " . #normal 7/15 please order lcd cable \n",
       "<mark class=\"entity\" style=\"background: #92E0AA; padding: 0.45em 0.6em; margin: 0 0.25em; line-height: 1; border-radius: 0.35em;\">\n",
       "    l32713-001\n",
       "    <span style=\"font-size: 0.8em; font-weight: bold; line-height: 1; border-radius: 0.35em; vertical-align: middle; margin-left: 0.5rem\">PART_NUM</span>\n",
       "</mark>\n",
       " and backlight cable \n",
       "<mark class=\"entity\" style=\"background: #92E0AA; padding: 0.45em 0.6em; margin: 0 0.25em; line-height: 1; border-radius: 0.35em;\">\n",
       "    l3291-001\n",
       "    <span style=\"font-size: 0.8em; font-weight: bold; line-height: 1; border-radius: 0.35em; vertical-align: middle; margin-left: 0.5rem\">PART_NUM</span>\n",
       "</mark>\n",
       " replaced display and system board but back light is still dim , verified parts and issue with support , signed for jn kp 7/14 parts have not shipped per fedex</div></span>"
      ],
      "text/plain": [
       "<IPython.core.display.HTML object>"
      ]
     },
     "metadata": {},
     "output_type": "display_data"
    },
    {
     "name": "stdout",
     "output_type": "stream",
     "text": [
      "------------------------- acutal entities -------------------------\n",
      "('l32713-001', 23, 33, 'PART_NUM')\n",
      "('l32713-001', 102, 112, 'PART_NUM')\n",
      "------------------------- predict entities -------------------------\n",
      "('l32713-001', 23, 33, 'PART_NUM')\n",
      "('l3291-001', 54, 63, 'PART_NUM')\n",
      "('l32713-001', 102, 112, 'PART_NUM')\n",
      "('l3291-001', 133, 142, 'PART_NUM')\n",
      "====================================================================================================\n",
      "please order two ( 2 ) of this part number: jc31-00163b ship both to hfpu  ( 83004794 ) 16241 s farrell road , lockport , il . 60441 . x3a76a-cnc1n4r00z-hp color laserjet managed flow mfp e87640-e87660z - base product 40-60 ppm a3 case: 5068847832 wo-014468318 po119462189 0645244017 neovia 3930 cedar creek dr joliet , il . 60436 larry heagle  1815-768-3282 alt: 779-702-0498 jc9\n"
     ]
    },
    {
     "data": {
      "text/html": [
       "<span class=\"tex2jax_ignore\"><div class=\"entities\" style=\"line-height: 2.5; direction: ltr\">please order two ( 2 ) of this part number: \n",
       "<mark class=\"entity\" style=\"background: #92E0AA; padding: 0.45em 0.6em; margin: 0 0.25em; line-height: 1; border-radius: 0.35em;\">\n",
       "    jc31-00163b\n",
       "    <span style=\"font-size: 0.8em; font-weight: bold; line-height: 1; border-radius: 0.35em; vertical-align: middle; margin-left: 0.5rem\">PART_NUM</span>\n",
       "</mark>\n",
       " ship both to hfpu  ( 83004794 ) 16241 s farrell road , lockport , il . 60441 . x3a76a-cnc1n4r00z-hp color laserjet managed flow mfp e87640-e87660z - base product 40-60 ppm a3 case: 5068847832 wo-014468318 po119462189 0645244017 neovia 3930 cedar creek dr joliet , il . 60436 larry heagle  \n",
       "<mark class=\"entity\" style=\"background: #92E0AA; padding: 0.45em 0.6em; margin: 0 0.25em; line-height: 1; border-radius: 0.35em;\">\n",
       "    1815-768-3282\n",
       "    <span style=\"font-size: 0.8em; font-weight: bold; line-height: 1; border-radius: 0.35em; vertical-align: middle; margin-left: 0.5rem\">PART_NUM</span>\n",
       "</mark>\n",
       " alt: \n",
       "<mark class=\"entity\" style=\"background: #92E0AA; padding: 0.45em 0.6em; margin: 0 0.25em; line-height: 1; border-radius: 0.35em;\">\n",
       "    779-702-0498\n",
       "    <span style=\"font-size: 0.8em; font-weight: bold; line-height: 1; border-radius: 0.35em; vertical-align: middle; margin-left: 0.5rem\">PART_NUM</span>\n",
       "</mark>\n",
       " jc9</div></span>"
      ],
      "text/plain": [
       "<IPython.core.display.HTML object>"
      ]
     },
     "metadata": {},
     "output_type": "display_data"
    },
    {
     "name": "stdout",
     "output_type": "stream",
     "text": [
      "------------------------- acutal entities -------------------------\n",
      "('jc31-00163b', 44, 55, 'PART_NUM')\n",
      "------------------------- predict entities -------------------------\n",
      "('jc31-00163b', 44, 55, 'PART_NUM')\n",
      "('1815-768-3282', 345, 358, 'PART_NUM')\n",
      "('779-702-0498', 364, 376, 'PART_NUM')\n",
      "====================================================================================================\n",
      "shloime called to request reschedule . please order parts rm2-6456-010cn/top cover - rm2-7914-000cn/lv psu to fedex hal 51 20th st brooklyn accordingly . thanks 521743302818 to 51 20 lifter drive part delivery ready mid day logistics 15min error msg and\n"
     ]
    },
    {
     "data": {
      "text/html": [
       "<span class=\"tex2jax_ignore\"><div class=\"entities\" style=\"line-height: 2.5; direction: ltr\">shloime called to request reschedule . please order parts \n",
       "<mark class=\"entity\" style=\"background: #92E0AA; padding: 0.45em 0.6em; margin: 0 0.25em; line-height: 1; border-radius: 0.35em;\">\n",
       "    rm2-6456-010cn\n",
       "    <span style=\"font-size: 0.8em; font-weight: bold; line-height: 1; border-radius: 0.35em; vertical-align: middle; margin-left: 0.5rem\">PART_NUM</span>\n",
       "</mark>\n",
       "/top cover - \n",
       "<mark class=\"entity\" style=\"background: #92E0AA; padding: 0.45em 0.6em; margin: 0 0.25em; line-height: 1; border-radius: 0.35em;\">\n",
       "    rm2-7914-000cn\n",
       "    <span style=\"font-size: 0.8em; font-weight: bold; line-height: 1; border-radius: 0.35em; vertical-align: middle; margin-left: 0.5rem\">PART_NUM</span>\n",
       "</mark>\n",
       "/lv psu to fedex hal 51 20th st brooklyn accordingly . thanks 521743302818 to 51 20 lifter drive part delivery ready mid day logistics 15min error msg and</div></span>"
      ],
      "text/plain": [
       "<IPython.core.display.HTML object>"
      ]
     },
     "metadata": {},
     "output_type": "display_data"
    },
    {
     "name": "stdout",
     "output_type": "stream",
     "text": [
      "------------------------- predict entities -------------------------\n",
      "('rm2-6456-010cn', 58, 72, 'PART_NUM')\n",
      "('rm2-7914-000cn', 85, 99, 'PART_NUM')\n",
      "====================================================================================================\n",
      "please order part number f2g76-67901as issue has returned . \n"
     ]
    },
    {
     "data": {
      "text/html": [
       "<span class=\"tex2jax_ignore\"><div class=\"entities\" style=\"line-height: 2.5; direction: ltr\">please order part number \n",
       "<mark class=\"entity\" style=\"background: #92E0AA; padding: 0.45em 0.6em; margin: 0 0.25em; line-height: 1; border-radius: 0.35em;\">\n",
       "    f2g76-67901as\n",
       "    <span style=\"font-size: 0.8em; font-weight: bold; line-height: 1; border-radius: 0.35em; vertical-align: middle; margin-left: 0.5rem\">PART_NUM</span>\n",
       "</mark>\n",
       " issue has returned . </div></span>"
      ],
      "text/plain": [
       "<IPython.core.display.HTML object>"
      ]
     },
     "metadata": {},
     "output_type": "display_data"
    },
    {
     "name": "stdout",
     "output_type": "stream",
     "text": [
      "------------------------- predict entities -------------------------\n",
      "('f2g76-67901as', 25, 38, 'PART_NUM')\n",
      "====================================================================================================\n",
      "please order part: rm2-9335-000cn            high-voltage power supply ship to hfpu  ( 83004794 ) 16241 s farrell road , lockport , il . 60441 set for friday . . m0p33a-cnmclb10h3-hp laserjet managed e60055dn prntr case: 5069082646 wo-014513867 po119522639 0645270000 international paper 4160 campus dr aurora , il . 60504-4172 krystal brown 1816-351-283 krystal . brown@ipaper . com rm2-0866-020cn assy-cassette\n"
     ]
    },
    {
     "data": {
      "text/html": [
       "<span class=\"tex2jax_ignore\"><div class=\"entities\" style=\"line-height: 2.5; direction: ltr\">please order part: rm2-9335-000cn            high-voltage power supply ship to hfpu  ( 83004794 ) 16241 s farrell road , lockport , il . 60441 set for friday . . m0p33a-cnmclb10h3-hp laserjet managed e60055dn prntr case: 5069082646 wo-014513867 po119522639 0645270000 international paper 4160 campus dr aurora , il . \n",
       "<mark class=\"entity\" style=\"background: #92E0AA; padding: 0.45em 0.6em; margin: 0 0.25em; line-height: 1; border-radius: 0.35em;\">\n",
       "    60504-4172\n",
       "    <span style=\"font-size: 0.8em; font-weight: bold; line-height: 1; border-radius: 0.35em; vertical-align: middle; margin-left: 0.5rem\">PART_NUM</span>\n",
       "</mark>\n",
       " krystal brown \n",
       "<mark class=\"entity\" style=\"background: #92E0AA; padding: 0.45em 0.6em; margin: 0 0.25em; line-height: 1; border-radius: 0.35em;\">\n",
       "    1816-351-283\n",
       "    <span style=\"font-size: 0.8em; font-weight: bold; line-height: 1; border-radius: 0.35em; vertical-align: middle; margin-left: 0.5rem\">PART_NUM</span>\n",
       "</mark>\n",
       " krystal . brown@ipaper . com \n",
       "<mark class=\"entity\" style=\"background: #92E0AA; padding: 0.45em 0.6em; margin: 0 0.25em; line-height: 1; border-radius: 0.35em;\">\n",
       "    rm2-0866-020cn\n",
       "    <span style=\"font-size: 0.8em; font-weight: bold; line-height: 1; border-radius: 0.35em; vertical-align: middle; margin-left: 0.5rem\">PART_NUM</span>\n",
       "</mark>\n",
       " assy-cassette</div></span>"
      ],
      "text/plain": [
       "<IPython.core.display.HTML object>"
      ]
     },
     "metadata": {},
     "output_type": "display_data"
    },
    {
     "name": "stdout",
     "output_type": "stream",
     "text": [
      "------------------------- acutal entities -------------------------\n",
      "('rm2-0866-020cn', 384, 398, 'PART_NUM')\n",
      "------------------------- predict entities -------------------------\n",
      "('60504-4172', 317, 327, 'PART_NUM')\n",
      "('1816-351-283', 342, 354, 'PART_NUM')\n",
      "('rm2-0866-020cn', 384, 398, 'PART_NUM')\n",
      "====================================================================================================\n",
      "#normal please order part # rm2-5452-000 . please send this call to doug houseknecht\n"
     ]
    },
    {
     "data": {
      "text/html": [
       "<span class=\"tex2jax_ignore\"><div class=\"entities\" style=\"line-height: 2.5; direction: ltr\">#normal please order part # \n",
       "<mark class=\"entity\" style=\"background: #92E0AA; padding: 0.45em 0.6em; margin: 0 0.25em; line-height: 1; border-radius: 0.35em;\">\n",
       "    rm2-5452-000\n",
       "    <span style=\"font-size: 0.8em; font-weight: bold; line-height: 1; border-radius: 0.35em; vertical-align: middle; margin-left: 0.5rem\">PART_NUM</span>\n",
       "</mark>\n",
       " . please send this call to doug houseknecht</div></span>"
      ],
      "text/plain": [
       "<IPython.core.display.HTML object>"
      ]
     },
     "metadata": {},
     "output_type": "display_data"
    },
    {
     "name": "stdout",
     "output_type": "stream",
     "text": [
      "------------------------- predict entities -------------------------\n",
      "('rm2-5452-000', 28, 40, 'PART_NUM')\n",
      "====================================================================================================\n",
      "please order the following part to the customer site attn: jim cox l41606-011 hard drive . please order these additional parts to to the portage hold for pick up . l4606-011 hard drive 5851-7913 formatter . please order this one again as the 1st one is lost at fedex . \n"
     ]
    },
    {
     "data": {
      "text/html": [
       "<span class=\"tex2jax_ignore\"><div class=\"entities\" style=\"line-height: 2.5; direction: ltr\">please order the following part to the customer site attn: jim cox \n",
       "<mark class=\"entity\" style=\"background: #92E0AA; padding: 0.45em 0.6em; margin: 0 0.25em; line-height: 1; border-radius: 0.35em;\">\n",
       "    l41606-011\n",
       "    <span style=\"font-size: 0.8em; font-weight: bold; line-height: 1; border-radius: 0.35em; vertical-align: middle; margin-left: 0.5rem\">PART_NUM</span>\n",
       "</mark>\n",
       " hard drive . please order these additional parts to to the portage hold for pick up . \n",
       "<mark class=\"entity\" style=\"background: #92E0AA; padding: 0.45em 0.6em; margin: 0 0.25em; line-height: 1; border-radius: 0.35em;\">\n",
       "    l4606-011\n",
       "    <span style=\"font-size: 0.8em; font-weight: bold; line-height: 1; border-radius: 0.35em; vertical-align: middle; margin-left: 0.5rem\">PART_NUM</span>\n",
       "</mark>\n",
       " hard drive \n",
       "<mark class=\"entity\" style=\"background: #92E0AA; padding: 0.45em 0.6em; margin: 0 0.25em; line-height: 1; border-radius: 0.35em;\">\n",
       "    5851-7913\n",
       "    <span style=\"font-size: 0.8em; font-weight: bold; line-height: 1; border-radius: 0.35em; vertical-align: middle; margin-left: 0.5rem\">PART_NUM</span>\n",
       "</mark>\n",
       " formatter . please order this one again as the 1st one is lost at fedex . </div></span>"
      ],
      "text/plain": [
       "<IPython.core.display.HTML object>"
      ]
     },
     "metadata": {},
     "output_type": "display_data"
    },
    {
     "name": "stdout",
     "output_type": "stream",
     "text": [
      "------------------------- acutal entities -------------------------\n",
      "('l41606-011', 67, 77, 'PART_NUM')\n",
      "('5851-7913', 185, 194, 'PART_NUM')\n",
      "------------------------- predict entities -------------------------\n",
      "('l41606-011', 67, 77, 'PART_NUM')\n",
      "('l4606-011', 164, 173, 'PART_NUM')\n",
      "('5851-7913', 185, 194, 'PART_NUM')\n",
      "====================================================================================================\n",
      "please send parts to 800 main st . paterson nj 07503 attn: nick lavcanski ( 973 ) 202-1231 jc98-05425a qty:2\n"
     ]
    },
    {
     "data": {
      "text/html": [
       "<span class=\"tex2jax_ignore\"><div class=\"entities\" style=\"line-height: 2.5; direction: ltr\">please send parts to 800 main st . paterson nj 07503 attn: nick lavcanski ( 973 ) \n",
       "<mark class=\"entity\" style=\"background: #92E0AA; padding: 0.45em 0.6em; margin: 0 0.25em; line-height: 1; border-radius: 0.35em;\">\n",
       "    202-1231\n",
       "    <span style=\"font-size: 0.8em; font-weight: bold; line-height: 1; border-radius: 0.35em; vertical-align: middle; margin-left: 0.5rem\">PART_NUM</span>\n",
       "</mark>\n",
       " \n",
       "<mark class=\"entity\" style=\"background: #92E0AA; padding: 0.45em 0.6em; margin: 0 0.25em; line-height: 1; border-radius: 0.35em;\">\n",
       "    jc98-05425a\n",
       "    <span style=\"font-size: 0.8em; font-weight: bold; line-height: 1; border-radius: 0.35em; vertical-align: middle; margin-left: 0.5rem\">PART_NUM</span>\n",
       "</mark>\n",
       " qty:2</div></span>"
      ],
      "text/plain": [
       "<IPython.core.display.HTML object>"
      ]
     },
     "metadata": {},
     "output_type": "display_data"
    },
    {
     "name": "stdout",
     "output_type": "stream",
     "text": [
      "------------------------- acutal entities -------------------------\n",
      "('jc98-05425a', 91, 102, 'PART_NUM')\n",
      "------------------------- predict entities -------------------------\n",
      "('202-1231', 82, 90, 'PART_NUM')\n",
      "('jc98-05425a', 91, 102, 'PART_NUM')\n",
      "====================================================================================================\n",
      "please fedex a t030-67901 , t0b28-67901 and a t0b27-67901 to: 16633 schoenborn st north hills , ca 91343\n"
     ]
    },
    {
     "data": {
      "text/html": [
       "<span class=\"tex2jax_ignore\"><div class=\"entities\" style=\"line-height: 2.5; direction: ltr\">please fedex a \n",
       "<mark class=\"entity\" style=\"background: #92E0AA; padding: 0.45em 0.6em; margin: 0 0.25em; line-height: 1; border-radius: 0.35em;\">\n",
       "    t030-67901\n",
       "    <span style=\"font-size: 0.8em; font-weight: bold; line-height: 1; border-radius: 0.35em; vertical-align: middle; margin-left: 0.5rem\">PART_NUM</span>\n",
       "</mark>\n",
       " , \n",
       "<mark class=\"entity\" style=\"background: #92E0AA; padding: 0.45em 0.6em; margin: 0 0.25em; line-height: 1; border-radius: 0.35em;\">\n",
       "    t0b28-67901\n",
       "    <span style=\"font-size: 0.8em; font-weight: bold; line-height: 1; border-radius: 0.35em; vertical-align: middle; margin-left: 0.5rem\">PART_NUM</span>\n",
       "</mark>\n",
       " and a \n",
       "<mark class=\"entity\" style=\"background: #92E0AA; padding: 0.45em 0.6em; margin: 0 0.25em; line-height: 1; border-radius: 0.35em;\">\n",
       "    t0b27-67901\n",
       "    <span style=\"font-size: 0.8em; font-weight: bold; line-height: 1; border-radius: 0.35em; vertical-align: middle; margin-left: 0.5rem\">PART_NUM</span>\n",
       "</mark>\n",
       " to: 16633 schoenborn st north hills , ca 91343</div></span>"
      ],
      "text/plain": [
       "<IPython.core.display.HTML object>"
      ]
     },
     "metadata": {},
     "output_type": "display_data"
    },
    {
     "name": "stdout",
     "output_type": "stream",
     "text": [
      "------------------------- acutal entities -------------------------\n",
      "('t0b28-67901', 28, 39, 'PART_NUM')\n",
      "('t0b27-67901', 46, 57, 'PART_NUM')\n",
      "------------------------- predict entities -------------------------\n",
      "('t030-67901', 15, 25, 'PART_NUM')\n",
      "('t0b28-67901', 28, 39, 'PART_NUM')\n",
      "('t0b27-67901', 46, 57, 'PART_NUM')\n",
      "====================================================================================================\n",
      "please add these parts and order replacements to my trunk stock: either one each: pn rm2-1275-000 pn rm2-6772_000 or one pnj7z98-67902 . wells fargo 07/20/2021 9:32 pm cst - parts confirmed as shipped . closed the ticket . 07/16/2021 8:51 pm cst - call is completed - on break until my replacement trunk stock ships and i have the tracking numbers . 07/16/2021 4:48 pm cst *fixed* tray 2 jamming\n"
     ]
    },
    {
     "data": {
      "text/html": [
       "<span class=\"tex2jax_ignore\"><div class=\"entities\" style=\"line-height: 2.5; direction: ltr\">please add these parts and order replacements to my trunk stock: either one each: pn \n",
       "<mark class=\"entity\" style=\"background: #92E0AA; padding: 0.45em 0.6em; margin: 0 0.25em; line-height: 1; border-radius: 0.35em;\">\n",
       "    rm2-1275-000\n",
       "    <span style=\"font-size: 0.8em; font-weight: bold; line-height: 1; border-radius: 0.35em; vertical-align: middle; margin-left: 0.5rem\">PART_NUM</span>\n",
       "</mark>\n",
       " pn rm2-6772_000 or one pnj7z98-67902 . wells fargo 07/20/2021 9:32 pm cst - parts confirmed as shipped . closed the ticket . 07/16/2021 8:51 pm cst - call is completed - on break until my replacement trunk stock ships and i have the tracking numbers . 07/16/2021 4:48 pm cst *fixed* tray 2 jamming</div></span>"
      ],
      "text/plain": [
       "<IPython.core.display.HTML object>"
      ]
     },
     "metadata": {},
     "output_type": "display_data"
    },
    {
     "name": "stdout",
     "output_type": "stream",
     "text": [
      "------------------------- predict entities -------------------------\n",
      "('rm2-1275-000', 85, 97, 'PART_NUM')\n",
      "====================================================================================================\n",
      "lex-40x-0100 , 2 , c2etes26\n"
     ]
    },
    {
     "data": {
      "text/html": [
       "<span class=\"tex2jax_ignore\"><div class=\"entities\" style=\"line-height: 2.5; direction: ltr\">\n",
       "<mark class=\"entity\" style=\"background: #92E0AA; padding: 0.45em 0.6em; margin: 0 0.25em; line-height: 1; border-radius: 0.35em;\">\n",
       "    lex-40x-0100\n",
       "    <span style=\"font-size: 0.8em; font-weight: bold; line-height: 1; border-radius: 0.35em; vertical-align: middle; margin-left: 0.5rem\">PART_NUM</span>\n",
       "</mark>\n",
       " , 2 , c2etes26</div></span>"
      ],
      "text/plain": [
       "<IPython.core.display.HTML object>"
      ]
     },
     "metadata": {},
     "output_type": "display_data"
    },
    {
     "name": "stdout",
     "output_type": "stream",
     "text": [
      "------------------------- predict entities -------------------------\n",
      "('lex-40x-0100', 0, 12, 'PART_NUM')\n"
     ]
    }
   ],
   "source": [
    "show_texts(error_data)  "
   ]
  },
  {
   "cell_type": "markdown",
   "id": "c087f294",
   "metadata": {},
   "source": [
    "### Some Features and Issues\n",
    "\n",
    "#### Miss some part-numbers "
   ]
  },
  {
   "cell_type": "code",
   "execution_count": 86,
   "id": "c49aafe7",
   "metadata": {
    "ExecuteTime": {
     "end_time": "2021-08-25T10:25:39.642236Z",
     "start_time": "2021-08-25T10:25:39.630889Z"
    }
   },
   "outputs": [],
   "source": [
    "sample_parts = ['M14302-161', '926537-001', 'M46915-D01', '140314-FB2', '176253-8B0', \n",
    "               '442010-ABC', 'L07896-DB1', '168757-B21', 'FE-15520-01', 'RM1-7867-000CN', \n",
    "               '5066-4719', '5066-3872-1', '3HZ90-30001', 'T6M22-30001', '98544-04105', \n",
    "               'C8109-69018', 'L26480-DB1', '632427-001B', 'CN463-69003', 'RM1-1298BULK', \n",
    "               '8-752-078-46', 'X-4035-119-1', 'TBLB3002-A04', '4822-701-15319', '08-2212C-33W', \n",
    "               '19-40065-011', 'ATT09850-66532', '98564-66572-SQ', '897-250144AA', '738-576-94', \n",
    "               '1FQ6-0001', '1818-7469-LGSA', '1820-6361M', '1818-6868-SAM', '3138-107-96160', \n",
    "               '686858R-999', 'MD30C-A2', '29-26196-00', 'DEL-7D092', 'LEX-40X2384', 'LEX-40X2831H', \n",
    "               'SAM-6107001172', 'SHA-1625DS51', 'XER-006R01275', 'BRO-TN115BK', 'DEL-310-5811', \n",
    "               'DEL-PK496', 'KYO-1702F97US0', 'LA95-CA', 'KYO-DK-310H', 'EPS-C31CD38A9921', \n",
    "               'KYO-F994091H', 'EPS-CEPS-003G', 'LEX-24015SA', 'LEX-62D1X00', 'LEX-72K0DV0', \n",
    "               'LEX-801HC', 'LEX-C5220CSH', 'TRO-78-24619-001', 'LEX-C544X1CG', 'HPE-749797-001', \n",
    "               'SFT-P-895', 'LEX-E260A21A-C', 'RIC-D0296509', 'SEA-ST1000LM049', 'LEX-12A8400-PC', \n",
    "               'HPE-JL258A', 'RIC-400507', 'FUJ-FPCPR362AQ', 'TOS-6LE8296100', 'XER-003K04980', \n",
    "               'XER-116111500', 'ATS-2711FXSC-901', 'BRO-TN336BK', 'DEL-310-5807', 'HPI-CF258A-M', \n",
    "               'LEX-T101-0000000', 'DEL-9PN5P', 'SAM-BA92-08880A', 'APC-RBC7', 'KMH-4448-121', \n",
    "               'SXC-C7ABTTAAB', 'TRO-04621201', 'VEF-28924-04-R', 'WFP-HPM527Z', 'KYO-1702LK0UN2', \n",
    "               'APC-SUA1500RM2U', 'KYO-302NM18021', 'HPE-JH329-61001', 'KYO-1T02GA0US0', 'LEB-04X4674',\n",
    "               'KYO-302GR93034', 'DEL-V1RX3', 'LEX-40X0593', 'TOS-6LH3460800', 'RIC-AE020171', \n",
    "               'XER-59K60140', 'BRO-LM5140001', 'KMH-A00JA56600', 'KYO-302F906240', 'BRO-LEM084001', \n",
    "               'XER-116-2035', 'BRO-BU100CLH', '3X-LK465-A2', '4G1-3999-030CN', 'H3980-60002BULK', \n",
    "               'SHA-VHI0MFP000', 'TOS-C017839000', 'JC66-01190A', 'XER-3335DNI', 'XER-3635MFP-S', \n",
    "               'XER-4622DN', 'XER-7750-Z2', 'DEL-D1320-W3', 'DEL-P637D', 'LEX-C540X35G', \n",
    "               'SHA-CPLTM8190F', 'SHACFRM-1380DS53', 'XER-401-0855-0', '90-0077', 'BRO-LF6710001', \n",
    "               'Q3938-68001-PCA', 'C314X+49A-90002', '20ER-84530KC', 'RM2-2903-BULK', 'CE506-67919-BU', \n",
    "               'CH971-91596', 'DEL-FM235', 'JC44-00210E', 'SHACFRM-1509DS52', 'SHADHAI-5043FCPZ', \n",
    "               'SHAGCAB-1102FCB1', '000-50-02-008', '504000226-DD', 'SHAVHPLG217L5A-1', 'SHAVHPOSH03Y02-1', \n",
    "               'SHADUNT-8962FCP1', 'SHAKI-OK0010FCPZ', 'SHAQSW-P0506FCZZ', 'SHAVHPGP1A73AR-1', 'SHARH-IX0055FCPZ', \n",
    "               '358-000001', 'SHAVHPGP1A71L3-18', 'B23-0994', '504000226-D', '5066-0731', \n",
    "               'E0-CABLE-01', 'RM1-8508-010-BU', 'B3M77-67902-BU', 'CA02626-E029FJ', 'CF065-67901-BU', \n",
    "               'C2H57-67901-BULK', 'LN08-A2', '693709-001B', 'SS467-67001', 'LEX-70C0D20', \n",
    "               'SHAQSW-M0518FCPZ', 'SHALX-BZ0994FCPZ', 'LN08X-TF', 'SHAGCAB-1507FCAZ']\n",
    "\n",
    "sample_parts = [part.lower() for part in sample_parts]"
   ]
  },
  {
   "cell_type": "code",
   "execution_count": 87,
   "id": "f5546c82",
   "metadata": {
    "ExecuteTime": {
     "end_time": "2021-08-25T10:25:40.765807Z",
     "start_time": "2021-08-25T10:25:40.615821Z"
    }
   },
   "outputs": [
    {
     "name": "stdout",
     "output_type": "stream",
     "text": [
      "====================================================================================================\n",
      "please order qty 1 000-50-02-008 nbd to my hal in lenexa . thank you . \n"
     ]
    },
    {
     "data": {
      "text/html": [
       "<span class=\"tex2jax_ignore\"><div class=\"entities\" style=\"line-height: 2.5; direction: ltr\">please order qty 1 \n",
       "<mark class=\"entity\" style=\"background: #92E0AA; padding: 0.45em 0.6em; margin: 0 0.25em; line-height: 1; border-radius: 0.35em;\">\n",
       "    000-50-02-008\n",
       "    <span style=\"font-size: 0.8em; font-weight: bold; line-height: 1; border-radius: 0.35em; vertical-align: middle; margin-left: 0.5rem\">PART_NUM</span>\n",
       "</mark>\n",
       " nbd to my hal in lenexa . thank you . </div></span>"
      ],
      "text/plain": [
       "<IPython.core.display.HTML object>"
      ]
     },
     "metadata": {},
     "output_type": "display_data"
    },
    {
     "name": "stdout",
     "output_type": "stream",
     "text": [
      "------------------------- predict entities -------------------------\n",
      "('000-50-02-008', 19, 32, 'PART_NUM')\n"
     ]
    }
   ],
   "source": [
    "def get_texts(parts, standardize_text=standardize_text1):\n",
    "    texts = [standardize_text(f'Please order qty 1 {part} NBD to my HAL in Lenexa. Thank you.') for part in parts]\n",
    "    return texts\n",
    "\n",
    "def check_sample_parts(parts):  \n",
    "    texts = get_texts(parts)\n",
    "    docs = nlp.pipe(texts)\n",
    "    texts = []\n",
    "    error_texts = []\n",
    "    errpr_parts = []\n",
    "    for doc, part in zip(docs, parts):\n",
    "        texts.append(doc.text)\n",
    "        if len(doc.ents) !=1 or doc.ents[0].text != part.lower():\n",
    "            error_texts.append(doc.text)\n",
    "            errpr_parts.append(part)\n",
    "    return texts, error_texts, errpr_parts\n",
    "        \n",
    "parts = ['000-50-02-008']\n",
    "texts, error_texts, errpr_parts = check_sample_parts(parts)\n",
    "show_texts(texts, show_detail=True) "
   ]
  },
  {
   "cell_type": "code",
   "execution_count": 89,
   "id": "5848a30b",
   "metadata": {
    "ExecuteTime": {
     "end_time": "2021-08-25T10:26:04.170464Z",
     "start_time": "2021-08-25T10:25:59.408062Z"
    },
    "scrolled": false
   },
   "outputs": [
    {
     "name": "stdout",
     "output_type": "stream",
     "text": [
      "find 2/160 errors\n",
      "====================================================================================================\n",
      "please order qty 1 lex-c544x1cg nbd to my hal in lenexa . thank you . \n"
     ]
    },
    {
     "data": {
      "text/html": [
       "<span class=\"tex2jax_ignore\"><div class=\"entities\" style=\"line-height: 2.5; direction: ltr\">please order qty 1 \n",
       "<mark class=\"entity\" style=\"background: #92E0AA; padding: 0.45em 0.6em; margin: 0 0.25em; line-height: 1; border-radius: 0.35em;\">\n",
       "    lex-c544x1cg nbd\n",
       "    <span style=\"font-size: 0.8em; font-weight: bold; line-height: 1; border-radius: 0.35em; vertical-align: middle; margin-left: 0.5rem\">PART_NUM</span>\n",
       "</mark>\n",
       " to my hal in lenexa . thank you . </div></span>"
      ],
      "text/plain": [
       "<IPython.core.display.HTML object>"
      ]
     },
     "metadata": {},
     "output_type": "display_data"
    },
    {
     "name": "stdout",
     "output_type": "stream",
     "text": [
      "------------------------- predict entities -------------------------\n",
      "('lex-c544x1cg nbd', 19, 35, 'PART_NUM')\n",
      "====================================================================================================\n",
      "please order qty 1 c314x+49a-90002 nbd to my hal in lenexa . thank you . \n"
     ]
    },
    {
     "data": {
      "text/html": [
       "<span class=\"tex2jax_ignore\"><div class=\"entities\" style=\"line-height: 2.5; direction: ltr\">please order qty 1 c314x+49a-90002 nbd to my hal in lenexa . thank you . </div></span>"
      ],
      "text/plain": [
       "<IPython.core.display.HTML object>"
      ]
     },
     "metadata": {},
     "output_type": "display_data"
    }
   ],
   "source": [
    "parts = sample_parts\n",
    "texts, error_texts, errpr_parts = check_sample_parts(parts)\n",
    "print(f'find {len(error_texts)}/{len(parts)} errors')\n",
    "show_texts(error_texts, show_detail=True)  "
   ]
  },
  {
   "cell_type": "code",
   "execution_count": 96,
   "id": "eecfcbea",
   "metadata": {
    "ExecuteTime": {
     "end_time": "2021-08-25T10:27:58.721353Z",
     "start_time": "2021-08-25T10:27:58.710107Z"
    },
    "scrolled": false
   },
   "outputs": [
    {
     "name": "stdout",
     "output_type": "stream",
     "text": [
      "==================================================\n",
      "('[a-zA-Z]\\\\d\\\\d\\\\d\\\\d\\\\d-\\\\d\\\\d\\\\d', 0)\n",
      "('\\\\d\\\\d\\\\d\\\\d\\\\d\\\\d-\\\\d\\\\d\\\\d', 0)\n",
      "('[a-zA-Z]\\\\d\\\\d\\\\d\\\\d\\\\d-[a-zA-Z]\\\\d\\\\d', 0)\n",
      "('\\\\d\\\\d\\\\d\\\\d\\\\d\\\\d-[a-zA-Z][a-zA-Z]\\\\d', 0)\n",
      "('\\\\d\\\\d\\\\d\\\\d\\\\d\\\\d-\\\\d[a-zA-Z]\\\\d', 0)\n",
      "('\\\\d\\\\d\\\\d\\\\d\\\\d\\\\d-[a-zA-Z][a-zA-Z][a-zA-Z]', 0)\n",
      "('[a-zA-Z]\\\\d\\\\d\\\\d\\\\d\\\\d-[a-zA-Z][a-zA-Z]\\\\d', 0)\n",
      "('\\\\d\\\\d\\\\d\\\\d\\\\d\\\\d-[a-zA-Z]\\\\d\\\\d', 0)\n",
      "('[a-zA-Z][a-zA-Z]-\\\\d\\\\d\\\\d\\\\d\\\\d-\\\\d\\\\d', 0)\n",
      "('[a-zA-Z][a-zA-Z]\\\\d-\\\\d\\\\d\\\\d\\\\d-\\\\d\\\\d\\\\d[a-zA-Z][a-zA-Z]', 0)\n",
      "('\\\\d\\\\d\\\\d\\\\d-\\\\d\\\\d\\\\d\\\\d', 0)\n",
      "('\\\\d\\\\d\\\\d\\\\d-\\\\d\\\\d\\\\d\\\\d-\\\\d', 0)\n",
      "('\\\\d[a-zA-Z][a-zA-Z]\\\\d\\\\d-\\\\d\\\\d\\\\d\\\\d\\\\d', 0)\n",
      "('[a-zA-Z]\\\\d[a-zA-Z]\\\\d\\\\d-\\\\d\\\\d\\\\d\\\\d\\\\d', 0)\n",
      "('\\\\d\\\\d\\\\d\\\\d\\\\d-\\\\d\\\\d\\\\d\\\\d\\\\d', 0)\n",
      "('[a-zA-Z]\\\\d\\\\d\\\\d\\\\d-\\\\d\\\\d\\\\d\\\\d\\\\d', 0)\n",
      "('\\\\d\\\\d\\\\d\\\\d\\\\d\\\\d-\\\\d\\\\d\\\\d[a-zA-Z]', 0)\n",
      "('[a-zA-Z][a-zA-Z]\\\\d\\\\d\\\\d-\\\\d\\\\d\\\\d\\\\d\\\\d', 0)\n",
      "('[a-zA-Z][a-zA-Z]\\\\d-\\\\d\\\\d\\\\d\\\\d[a-zA-Z][a-zA-Z][a-zA-Z][a-zA-Z]', 0)\n",
      "('\\\\d-\\\\d\\\\d\\\\d-\\\\d\\\\d\\\\d-\\\\d\\\\d', 0)\n",
      "('[a-zA-Z]-\\\\d\\\\d\\\\d\\\\d-\\\\d\\\\d\\\\d-\\\\d', 0)\n",
      "('[a-zA-Z][a-zA-Z][a-zA-Z][a-zA-Z]\\\\d\\\\d\\\\d\\\\d-[a-zA-Z]\\\\d\\\\d', 0)\n",
      "('\\\\d\\\\d\\\\d\\\\d-\\\\d\\\\d\\\\d-\\\\d\\\\d\\\\d\\\\d\\\\d', 0)\n",
      "('\\\\d\\\\d-\\\\d\\\\d\\\\d\\\\d[a-zA-Z]-\\\\d\\\\d[a-zA-Z]', 0)\n",
      "('\\\\d\\\\d-\\\\d\\\\d\\\\d\\\\d\\\\d-\\\\d\\\\d\\\\d', 0)\n",
      "('[a-zA-Z][a-zA-Z][a-zA-Z]\\\\d\\\\d\\\\d\\\\d\\\\d-\\\\d\\\\d\\\\d\\\\d\\\\d', 0)\n",
      "('\\\\d\\\\d\\\\d\\\\d\\\\d-\\\\d\\\\d\\\\d\\\\d\\\\d-[a-zA-Z][a-zA-Z]', 0)\n",
      "('\\\\d\\\\d\\\\d-\\\\d\\\\d\\\\d\\\\d\\\\d\\\\d[a-zA-Z][a-zA-Z]', 0)\n",
      "('\\\\d\\\\d\\\\d-\\\\d\\\\d\\\\d-\\\\d\\\\d', 0)\n",
      "('\\\\d[a-zA-Z][a-zA-Z]\\\\d-\\\\d\\\\d\\\\d\\\\d', 0)\n",
      "('\\\\d\\\\d\\\\d\\\\d-\\\\d\\\\d\\\\d\\\\d-[a-zA-Z][a-zA-Z][a-zA-Z][a-zA-Z]', 0)\n",
      "('\\\\d\\\\d\\\\d\\\\d-\\\\d\\\\d\\\\d\\\\d[a-zA-Z]', 0)\n",
      "('\\\\d\\\\d\\\\d\\\\d-\\\\d\\\\d\\\\d\\\\d-[a-zA-Z][a-zA-Z][a-zA-Z]', 0)\n",
      "('\\\\d\\\\d\\\\d\\\\d\\\\d\\\\d[a-zA-Z]-\\\\d\\\\d\\\\d', 0)\n",
      "('[a-zA-Z][a-zA-Z]\\\\d\\\\d[a-zA-Z]-[a-zA-Z]\\\\d', 0)\n",
      "('\\\\d\\\\d-\\\\d\\\\d\\\\d\\\\d\\\\d-\\\\d\\\\d', 0)\n",
      "('[a-zA-Z][a-zA-Z][a-zA-Z]-\\\\d[a-zA-Z]\\\\d\\\\d\\\\d', 0)\n",
      "('[a-zA-Z][a-zA-Z][a-zA-Z]-\\\\d\\\\d[a-zA-Z]\\\\d\\\\d\\\\d\\\\d', 0)\n",
      "('[a-zA-Z][a-zA-Z][a-zA-Z]-\\\\d\\\\d[a-zA-Z]\\\\d\\\\d\\\\d\\\\d[a-zA-Z]', 0)\n",
      "('[a-zA-Z][a-zA-Z][a-zA-Z]-\\\\d\\\\d\\\\d\\\\d\\\\d\\\\d\\\\d\\\\d\\\\d\\\\d', 0)\n",
      "('[a-zA-Z][a-zA-Z][a-zA-Z]-\\\\d\\\\d\\\\d\\\\d[a-zA-Z][a-zA-Z]\\\\d\\\\d', 0)\n",
      "('[a-zA-Z][a-zA-Z][a-zA-Z]-\\\\d\\\\d\\\\d[a-zA-Z]\\\\d\\\\d\\\\d\\\\d\\\\d', 0)\n",
      "('[a-zA-Z][a-zA-Z][a-zA-Z]-[a-zA-Z][a-zA-Z]\\\\d\\\\d\\\\d[a-zA-Z][a-zA-Z]', 0)\n",
      "('[a-zA-Z][a-zA-Z][a-zA-Z]-\\\\d\\\\d\\\\d-\\\\d\\\\d\\\\d\\\\d', 0)\n",
      "('[a-zA-Z][a-zA-Z][a-zA-Z]-[a-zA-Z][a-zA-Z]\\\\d\\\\d\\\\d', 0)\n",
      "('[a-zA-Z][a-zA-Z][a-zA-Z]-\\\\d\\\\d\\\\d\\\\d[a-zA-Z]\\\\d\\\\d[a-zA-Z][a-zA-Z]\\\\d', 0)\n",
      "('[a-zA-Z][a-zA-Z]\\\\d\\\\d-[a-zA-Z][a-zA-Z]', 0)\n",
      "('[a-zA-Z][a-zA-Z][a-zA-Z]-[a-zA-Z][a-zA-Z]-\\\\d\\\\d\\\\d[a-zA-Z]', 0)\n",
      "('[a-zA-Z][a-zA-Z][a-zA-Z]-[a-zA-Z]\\\\d\\\\d[a-zA-Z][a-zA-Z]\\\\d\\\\d[a-zA-Z]\\\\d\\\\d\\\\d\\\\d', 0)\n",
      "('[a-zA-Z][a-zA-Z][a-zA-Z]-[a-zA-Z]\\\\d\\\\d\\\\d\\\\d\\\\d\\\\d[a-zA-Z]', 0)\n",
      "('[a-zA-Z][a-zA-Z][a-zA-Z]-[a-zA-Z][a-zA-Z][a-zA-Z][a-zA-Z]-\\\\d\\\\d\\\\d[a-zA-Z]', 0)\n",
      "('[a-zA-Z][a-zA-Z][a-zA-Z]-\\\\d\\\\d\\\\d\\\\d\\\\d[a-zA-Z][a-zA-Z]', 0)\n",
      "('[a-zA-Z][a-zA-Z][a-zA-Z]-\\\\d\\\\d[a-zA-Z]\\\\d[a-zA-Z]\\\\d\\\\d', 0)\n",
      "('[a-zA-Z][a-zA-Z][a-zA-Z]-\\\\d\\\\d[a-zA-Z]\\\\d[a-zA-Z][a-zA-Z]\\\\d', 0)\n",
      "('[a-zA-Z][a-zA-Z][a-zA-Z]-\\\\d\\\\d\\\\d[a-zA-Z][a-zA-Z]', 0)\n",
      "('[a-zA-Z][a-zA-Z][a-zA-Z]-[a-zA-Z]\\\\d\\\\d\\\\d\\\\d[a-zA-Z][a-zA-Z][a-zA-Z]', 0)\n",
      "('[a-zA-Z][a-zA-Z][a-zA-Z]-\\\\d\\\\d-\\\\d\\\\d\\\\d\\\\d\\\\d-\\\\d\\\\d\\\\d', 0)\n",
      "('[a-zA-Z][a-zA-Z][a-zA-Z]-[a-zA-Z]\\\\d\\\\d\\\\d[a-zA-Z]\\\\d[a-zA-Z][a-zA-Z]', 0)\n",
      "('[a-zA-Z][a-zA-Z][a-zA-Z]-\\\\d\\\\d\\\\d\\\\d\\\\d\\\\d-\\\\d\\\\d\\\\d', 0)\n",
      "('[a-zA-Z][a-zA-Z][a-zA-Z]-[a-zA-Z]-\\\\d\\\\d\\\\d', 0)\n",
      "('[a-zA-Z][a-zA-Z][a-zA-Z]-[a-zA-Z]\\\\d\\\\d\\\\d[a-zA-Z]\\\\d\\\\d[a-zA-Z]-[a-zA-Z]', 0)\n",
      "('[a-zA-Z][a-zA-Z][a-zA-Z]-[a-zA-Z]\\\\d\\\\d\\\\d\\\\d\\\\d\\\\d\\\\d', 0)\n",
      "('[a-zA-Z][a-zA-Z][a-zA-Z]-[a-zA-Z][a-zA-Z]\\\\d\\\\d\\\\d\\\\d[a-zA-Z][a-zA-Z]\\\\d\\\\d\\\\d', 0)\n",
      "('[a-zA-Z][a-zA-Z][a-zA-Z]-\\\\d\\\\d[a-zA-Z]\\\\d\\\\d\\\\d\\\\d-[a-zA-Z][a-zA-Z]', 0)\n",
      "('[a-zA-Z][a-zA-Z][a-zA-Z]-[a-zA-Z][a-zA-Z]\\\\d\\\\d\\\\d[a-zA-Z]', 0)\n",
      "('[a-zA-Z][a-zA-Z][a-zA-Z]-\\\\d\\\\d\\\\d\\\\d\\\\d\\\\d', 0)\n",
      "('[a-zA-Z][a-zA-Z][a-zA-Z]-[a-zA-Z][a-zA-Z][a-zA-Z][a-zA-Z][a-zA-Z]\\\\d\\\\d\\\\d[a-zA-Z][a-zA-Z]', 0)\n",
      "('[a-zA-Z][a-zA-Z][a-zA-Z]-\\\\d[a-zA-Z][a-zA-Z]\\\\d\\\\d\\\\d\\\\d\\\\d\\\\d\\\\d', 0)\n",
      "('[a-zA-Z][a-zA-Z][a-zA-Z]-\\\\d\\\\d\\\\d\\\\d\\\\d\\\\d\\\\d\\\\d\\\\d', 0)\n",
      "('[a-zA-Z][a-zA-Z][a-zA-Z]-\\\\d\\\\d\\\\d\\\\d[a-zA-Z][a-zA-Z][a-zA-Z]-\\\\d\\\\d\\\\d', 0)\n",
      "('[a-zA-Z][a-zA-Z][a-zA-Z]-[a-zA-Z][a-zA-Z]\\\\d\\\\d\\\\d[a-zA-Z]-[a-zA-Z]', 0)\n",
      "('[a-zA-Z][a-zA-Z][a-zA-Z]-[a-zA-Z]\\\\d\\\\d\\\\d-\\\\d\\\\d\\\\d\\\\d\\\\d\\\\d', 0)\n",
      "('[a-zA-Z][a-zA-Z][a-zA-Z]-\\\\d[a-zA-Z][a-zA-Z]\\\\d[a-zA-Z]', 0)\n",
      "('[a-zA-Z][a-zA-Z][a-zA-Z]-[a-zA-Z][a-zA-Z]\\\\d\\\\d-\\\\d\\\\d\\\\d\\\\d\\\\d[a-zA-Z]', 0)\n",
      "('[a-zA-Z][a-zA-Z][a-zA-Z]-[a-zA-Z][a-zA-Z][a-zA-Z]\\\\d', 0)\n",
      "('[a-zA-Z][a-zA-Z][a-zA-Z]-\\\\d\\\\d\\\\d\\\\d-\\\\d\\\\d\\\\d', 0)\n",
      "('[a-zA-Z][a-zA-Z][a-zA-Z]-[a-zA-Z]\\\\d[a-zA-Z][a-zA-Z][a-zA-Z][a-zA-Z][a-zA-Z][a-zA-Z][a-zA-Z]', 0)\n",
      "('[a-zA-Z][a-zA-Z][a-zA-Z]-\\\\d\\\\d\\\\d\\\\d\\\\d\\\\d\\\\d\\\\d', 0)\n",
      "('[a-zA-Z][a-zA-Z][a-zA-Z]-\\\\d\\\\d\\\\d\\\\d\\\\d-\\\\d\\\\d-[a-zA-Z]', 0)\n",
      "('[a-zA-Z][a-zA-Z][a-zA-Z]-[a-zA-Z][a-zA-Z][a-zA-Z]\\\\d\\\\d\\\\d[a-zA-Z]', 0)\n",
      "('[a-zA-Z][a-zA-Z][a-zA-Z]-\\\\d\\\\d\\\\d\\\\d[a-zA-Z][a-zA-Z]\\\\d[a-zA-Z][a-zA-Z]\\\\d', 0)\n",
      "('[a-zA-Z][a-zA-Z][a-zA-Z]-[a-zA-Z][a-zA-Z][a-zA-Z]\\\\d\\\\d\\\\d\\\\d[a-zA-Z][a-zA-Z]\\\\d[a-zA-Z]', 0)\n",
      "('[a-zA-Z][a-zA-Z][a-zA-Z]-\\\\d\\\\d\\\\d[a-zA-Z][a-zA-Z]\\\\d\\\\d\\\\d\\\\d\\\\d', 0)\n",
      "('[a-zA-Z][a-zA-Z][a-zA-Z]-[a-zA-Z][a-zA-Z]\\\\d\\\\d\\\\d-\\\\d\\\\d\\\\d\\\\d\\\\d', 0)\n",
      "('[a-zA-Z][a-zA-Z][a-zA-Z]-\\\\d[a-zA-Z]\\\\d\\\\d[a-zA-Z][a-zA-Z]\\\\d[a-zA-Z][a-zA-Z]\\\\d', 0)\n",
      "('\\\\d\\\\d\\\\d-[a-zA-Z]\\\\d[a-zA-Z][a-zA-Z]\\\\d', 0)\n",
      "('[a-zA-Z][a-zA-Z][a-zA-Z]-[a-zA-Z][a-zA-Z]\\\\d\\\\d\\\\d\\\\d\\\\d\\\\d', 0)\n",
      "('[a-zA-Z][a-zA-Z][a-zA-Z]-\\\\d\\\\d[a-zA-Z]\\\\d\\\\d\\\\d\\\\d\\\\d', 0)\n",
      "('[a-zA-Z][a-zA-Z][a-zA-Z]-[a-zA-Z][a-zA-Z]\\\\d\\\\d\\\\d\\\\d\\\\d\\\\d\\\\d', 0)\n",
      "('[a-zA-Z][a-zA-Z][a-zA-Z]-[a-zA-Z]\\\\d\\\\d[a-zA-Z][a-zA-Z]\\\\d\\\\d\\\\d\\\\d\\\\d', 0)\n",
      "('[a-zA-Z][a-zA-Z][a-zA-Z]-\\\\d\\\\d\\\\d[a-zA-Z]\\\\d\\\\d\\\\d\\\\d\\\\d\\\\d', 0)\n",
      "('[a-zA-Z][a-zA-Z][a-zA-Z]-[a-zA-Z][a-zA-Z][a-zA-Z]\\\\d\\\\d\\\\d\\\\d\\\\d\\\\d', 0)\n",
      "('[a-zA-Z][a-zA-Z][a-zA-Z]-[a-zA-Z][a-zA-Z]\\\\d\\\\d\\\\d[a-zA-Z][a-zA-Z][a-zA-Z]', 0)\n",
      "('\\\\d[a-zA-Z]-[a-zA-Z][a-zA-Z]\\\\d\\\\d\\\\d-[a-zA-Z]\\\\d', 0)\n",
      "('\\\\d[a-zA-Z]\\\\d-\\\\d\\\\d\\\\d\\\\d-\\\\d\\\\d\\\\d[a-zA-Z][a-zA-Z]', 0)\n",
      "('[a-zA-Z]\\\\d\\\\d\\\\d\\\\d-\\\\d\\\\d\\\\d\\\\d\\\\d[a-zA-Z][a-zA-Z][a-zA-Z][a-zA-Z]', 0)\n",
      "('[a-zA-Z][a-zA-Z][a-zA-Z]-[a-zA-Z][a-zA-Z][a-zA-Z]\\\\d[a-zA-Z][a-zA-Z][a-zA-Z]\\\\d\\\\d\\\\d', 0)\n",
      "('[a-zA-Z][a-zA-Z][a-zA-Z]-[a-zA-Z]\\\\d\\\\d\\\\d\\\\d\\\\d\\\\d\\\\d\\\\d\\\\d', 0)\n",
      "('[a-zA-Z][a-zA-Z]\\\\d\\\\d-\\\\d\\\\d\\\\d\\\\d\\\\d[a-zA-Z]', 0)\n",
      "('[a-zA-Z][a-zA-Z][a-zA-Z]-\\\\d\\\\d\\\\d\\\\d[a-zA-Z][a-zA-Z][a-zA-Z]', 0)\n",
      "('[a-zA-Z][a-zA-Z][a-zA-Z]-\\\\d\\\\d\\\\d\\\\d[a-zA-Z][a-zA-Z][a-zA-Z]-[a-zA-Z]', 0)\n",
      "('[a-zA-Z][a-zA-Z][a-zA-Z]-\\\\d\\\\d\\\\d\\\\d[a-zA-Z][a-zA-Z]', 0)\n",
      "('[a-zA-Z][a-zA-Z][a-zA-Z]-\\\\d\\\\d\\\\d\\\\d-[a-zA-Z]\\\\d', 0)\n",
      "('[a-zA-Z][a-zA-Z][a-zA-Z]-[a-zA-Z]\\\\d\\\\d\\\\d-[a-zA-Z]\\\\d', 0)\n",
      "('[a-zA-Z][a-zA-Z][a-zA-Z]-[a-zA-Z]\\\\d\\\\d\\\\d[a-zA-Z]', 0)\n",
      "('[a-zA-Z][a-zA-Z][a-zA-Z]-[a-zA-Z]\\\\d\\\\d\\\\d[a-zA-Z]\\\\d\\\\d[a-zA-Z]', 0)\n",
      "('[a-zA-Z][a-zA-Z][a-zA-Z]-[a-zA-Z][a-zA-Z][a-zA-Z][a-zA-Z][a-zA-Z]\\\\d\\\\d\\\\d\\\\d[a-zA-Z]', 0)\n",
      "('[a-zA-Z][a-zA-Z][a-zA-Z][a-zA-Z][a-zA-Z][a-zA-Z][a-zA-Z]-\\\\d\\\\d\\\\d\\\\d[a-zA-Z][a-zA-Z]\\\\d\\\\d', 0)\n",
      "('[a-zA-Z][a-zA-Z][a-zA-Z]-\\\\d\\\\d\\\\d-\\\\d\\\\d\\\\d\\\\d-\\\\d', 0)\n",
      "('\\\\d\\\\d-\\\\d\\\\d\\\\d\\\\d', 0)\n",
      "('[a-zA-Z]\\\\d\\\\d\\\\d\\\\d-\\\\d\\\\d\\\\d\\\\d\\\\d-[a-zA-Z][a-zA-Z][a-zA-Z]', 0)\n",
      "('[a-zA-Z]\\\\d\\\\d\\\\d[a-zA-Z][a-zA-Z]\\\\d\\\\d[a-zA-Z]-\\\\d\\\\d\\\\d\\\\d\\\\d', 0)\n",
      "('\\\\d\\\\d[a-zA-Z][a-zA-Z]-\\\\d\\\\d\\\\d\\\\d\\\\d[a-zA-Z][a-zA-Z]', 0)\n",
      "('[a-zA-Z][a-zA-Z]\\\\d-\\\\d\\\\d\\\\d\\\\d-[a-zA-Z][a-zA-Z][a-zA-Z][a-zA-Z]', 0)\n",
      "('[a-zA-Z][a-zA-Z]\\\\d\\\\d\\\\d-\\\\d\\\\d\\\\d\\\\d\\\\d-[a-zA-Z][a-zA-Z]', 0)\n",
      "('[a-zA-Z][a-zA-Z][a-zA-Z][a-zA-Z][a-zA-Z][a-zA-Z][a-zA-Z]-\\\\d\\\\d\\\\d\\\\d[a-zA-Z][a-zA-Z][a-zA-Z][a-zA-Z]', 0)\n",
      "('[a-zA-Z][a-zA-Z][a-zA-Z][a-zA-Z][a-zA-Z][a-zA-Z][a-zA-Z]-\\\\d\\\\d\\\\d\\\\d[a-zA-Z][a-zA-Z][a-zA-Z]\\\\d', 0)\n",
      "('\\\\d\\\\d\\\\d-\\\\d\\\\d-\\\\d\\\\d-\\\\d\\\\d\\\\d', 0)\n",
      "('\\\\d\\\\d\\\\d\\\\d\\\\d\\\\d\\\\d\\\\d\\\\d-\\\\d\\\\d', 0)\n",
      "('[a-zA-Z][a-zA-Z][a-zA-Z][a-zA-Z][a-zA-Z][a-zA-Z][a-zA-Z][a-zA-Z]\\\\d\\\\d\\\\d[a-zA-Z]\\\\d[a-zA-Z]-\\\\d', 0)\n",
      "('[a-zA-Z][a-zA-Z][a-zA-Z][a-zA-Z][a-zA-Z][a-zA-Z][a-zA-Z][a-zA-Z][a-zA-Z]\\\\d\\\\d[a-zA-Z]\\\\d\\\\d-\\\\d', 0)\n",
      "('[a-zA-Z][a-zA-Z][a-zA-Z][a-zA-Z]-[a-zA-Z][a-zA-Z]\\\\d\\\\d\\\\d\\\\d[a-zA-Z][a-zA-Z][a-zA-Z][a-zA-Z]', 0)\n",
      "('[a-zA-Z][a-zA-Z][a-zA-Z][a-zA-Z][a-zA-Z][a-zA-Z]-[a-zA-Z]\\\\d\\\\d\\\\d\\\\d[a-zA-Z][a-zA-Z][a-zA-Z][a-zA-Z]', 0)\n",
      "('[a-zA-Z][a-zA-Z][a-zA-Z][a-zA-Z][a-zA-Z][a-zA-Z][a-zA-Z][a-zA-Z]\\\\d[a-zA-Z]\\\\d\\\\d[a-zA-Z][a-zA-Z]-\\\\d', 0)\n",
      "('[a-zA-Z][a-zA-Z][a-zA-Z][a-zA-Z][a-zA-Z]-[a-zA-Z][a-zA-Z]\\\\d\\\\d\\\\d\\\\d[a-zA-Z][a-zA-Z][a-zA-Z][a-zA-Z]', 0)\n",
      "('\\\\d\\\\d\\\\d-\\\\d\\\\d\\\\d\\\\d\\\\d\\\\d', 0)\n",
      "('[a-zA-Z][a-zA-Z][a-zA-Z][a-zA-Z][a-zA-Z][a-zA-Z][a-zA-Z][a-zA-Z]\\\\d[a-zA-Z]\\\\d\\\\d[a-zA-Z]\\\\d-\\\\d\\\\d', 0)\n",
      "('[a-zA-Z]\\\\d\\\\d-\\\\d\\\\d\\\\d\\\\d', 0)\n",
      "('\\\\d\\\\d\\\\d\\\\d\\\\d\\\\d\\\\d\\\\d\\\\d-\\\\d', 0)\n",
      "('[a-zA-Z]\\\\d-[a-zA-Z][a-zA-Z][a-zA-Z][a-zA-Z][a-zA-Z]-\\\\d\\\\d', 0)\n",
      "('[a-zA-Z][a-zA-Z]\\\\d-\\\\d\\\\d\\\\d\\\\d-\\\\d\\\\d\\\\d-[a-zA-Z][a-zA-Z]', 0)\n",
      "('[a-zA-Z]\\\\d[a-zA-Z]\\\\d\\\\d-\\\\d\\\\d\\\\d\\\\d\\\\d-[a-zA-Z][a-zA-Z]', 0)\n",
      "('[a-zA-Z][a-zA-Z]\\\\d\\\\d\\\\d\\\\d\\\\d-[a-zA-Z]\\\\d\\\\d\\\\d[a-zA-Z][a-zA-Z]', 0)\n",
      "('[a-zA-Z][a-zA-Z]\\\\d\\\\d\\\\d-\\\\d\\\\d\\\\d\\\\d\\\\d-[a-zA-Z][a-zA-Z][a-zA-Z][a-zA-Z]', 0)\n",
      "('[a-zA-Z][a-zA-Z]\\\\d\\\\d-[a-zA-Z]\\\\d', 0)\n",
      "('[a-zA-Z][a-zA-Z][a-zA-Z][a-zA-Z][a-zA-Z][a-zA-Z]-[a-zA-Z]\\\\d\\\\d\\\\d\\\\d[a-zA-Z][a-zA-Z][a-zA-Z]', 0)\n",
      "('[a-zA-Z][a-zA-Z]\\\\d\\\\d[a-zA-Z]-[a-zA-Z][a-zA-Z]', 0)\n",
      "('[a-zA-Z][a-zA-Z][a-zA-Z][a-zA-Z][a-zA-Z][a-zA-Z]-\\\\d\\\\d\\\\d\\\\d[a-zA-Z][a-zA-Z][a-zA-Z][a-zA-Z]', 0)\n"
     ]
    }
   ],
   "source": [
    "error_text_entities, error_pattern_matchs = generate_label(error_texts, patterns=patterns)\n",
    "show_entity(error_text_entities, error_pattern_matchs)"
   ]
  },
  {
   "cell_type": "markdown",
   "id": "ce0ed3c6",
   "metadata": {},
   "source": [
    "I think that the issues are mainly caused by lacking of these parts in training data. \n",
    "\n",
    "There are 2 solutions:\n",
    "\n",
    "1. merge the results of regular expressions and the model.\n",
    "2. use data augmentation to generate a lot of random part numbers based on the rules."
   ]
  },
  {
   "cell_type": "markdown",
   "id": "26de5976",
   "metadata": {},
   "source": [
    "####  Find potentail part number"
   ]
  },
  {
   "cell_type": "code",
   "execution_count": 91,
   "id": "876d9444",
   "metadata": {
    "ExecuteTime": {
     "end_time": "2021-08-25T10:26:50.099846Z",
     "start_time": "2021-08-25T10:26:49.992950Z"
    }
   },
   "outputs": [
    {
     "name": "stdout",
     "output_type": "stream",
     "text": [
      "find 0/2 errors\n"
     ]
    }
   ],
   "source": [
    "parts = ['FE-15520-01', 'FE-15520-012']\n",
    "texts, error_texts, errpr_parts = check_sample_parts(parts)\n",
    "print(f'find {len(error_texts)}/{len(parts)} errors')\n",
    "\n"
   ]
  },
  {
   "cell_type": "code",
   "execution_count": 95,
   "id": "b3a10c55",
   "metadata": {
    "ExecuteTime": {
     "end_time": "2021-08-25T10:27:48.868996Z",
     "start_time": "2021-08-25T10:27:48.859279Z"
    }
   },
   "outputs": [
    {
     "name": "stdout",
     "output_type": "stream",
     "text": [
      "--------------------------------------------------\n",
      "please order qty 1 fe-15520-01 nbd to my hal in lenexa . thank you . \n",
      "('fe-15520-01', 19, 30, 'PART_NUM')\n",
      "--------------------------------------------------\n",
      "please order qty 1 fe-15520-012 nbd to my hal in lenexa . thank you . \n",
      "\n",
      "==================================================\n",
      "('[a-zA-Z][a-zA-Z]-\\\\d\\\\d\\\\d\\\\d\\\\d-\\\\d\\\\d', 1)\n",
      "('[a-zA-Z]\\\\d\\\\d\\\\d\\\\d\\\\d-\\\\d\\\\d\\\\d', 0)\n",
      "('\\\\d\\\\d\\\\d\\\\d\\\\d\\\\d-\\\\d\\\\d\\\\d', 0)\n",
      "('[a-zA-Z]\\\\d\\\\d\\\\d\\\\d\\\\d-[a-zA-Z]\\\\d\\\\d', 0)\n",
      "('\\\\d\\\\d\\\\d\\\\d\\\\d\\\\d-[a-zA-Z][a-zA-Z]\\\\d', 0)\n",
      "('\\\\d\\\\d\\\\d\\\\d\\\\d\\\\d-\\\\d[a-zA-Z]\\\\d', 0)\n",
      "('\\\\d\\\\d\\\\d\\\\d\\\\d\\\\d-[a-zA-Z][a-zA-Z][a-zA-Z]', 0)\n",
      "('[a-zA-Z]\\\\d\\\\d\\\\d\\\\d\\\\d-[a-zA-Z][a-zA-Z]\\\\d', 0)\n",
      "('\\\\d\\\\d\\\\d\\\\d\\\\d\\\\d-[a-zA-Z]\\\\d\\\\d', 0)\n",
      "('[a-zA-Z][a-zA-Z]\\\\d-\\\\d\\\\d\\\\d\\\\d-\\\\d\\\\d\\\\d[a-zA-Z][a-zA-Z]', 0)\n",
      "('\\\\d\\\\d\\\\d\\\\d-\\\\d\\\\d\\\\d\\\\d', 0)\n",
      "('\\\\d\\\\d\\\\d\\\\d-\\\\d\\\\d\\\\d\\\\d-\\\\d', 0)\n",
      "('\\\\d[a-zA-Z][a-zA-Z]\\\\d\\\\d-\\\\d\\\\d\\\\d\\\\d\\\\d', 0)\n",
      "('[a-zA-Z]\\\\d[a-zA-Z]\\\\d\\\\d-\\\\d\\\\d\\\\d\\\\d\\\\d', 0)\n",
      "('\\\\d\\\\d\\\\d\\\\d\\\\d-\\\\d\\\\d\\\\d\\\\d\\\\d', 0)\n",
      "('[a-zA-Z]\\\\d\\\\d\\\\d\\\\d-\\\\d\\\\d\\\\d\\\\d\\\\d', 0)\n",
      "('\\\\d\\\\d\\\\d\\\\d\\\\d\\\\d-\\\\d\\\\d\\\\d[a-zA-Z]', 0)\n",
      "('[a-zA-Z][a-zA-Z]\\\\d\\\\d\\\\d-\\\\d\\\\d\\\\d\\\\d\\\\d', 0)\n",
      "('[a-zA-Z][a-zA-Z]\\\\d-\\\\d\\\\d\\\\d\\\\d[a-zA-Z][a-zA-Z][a-zA-Z][a-zA-Z]', 0)\n",
      "('\\\\d-\\\\d\\\\d\\\\d-\\\\d\\\\d\\\\d-\\\\d\\\\d', 0)\n",
      "('[a-zA-Z]-\\\\d\\\\d\\\\d\\\\d-\\\\d\\\\d\\\\d-\\\\d', 0)\n",
      "('[a-zA-Z][a-zA-Z][a-zA-Z][a-zA-Z]\\\\d\\\\d\\\\d\\\\d-[a-zA-Z]\\\\d\\\\d', 0)\n",
      "('\\\\d\\\\d\\\\d\\\\d-\\\\d\\\\d\\\\d-\\\\d\\\\d\\\\d\\\\d\\\\d', 0)\n",
      "('\\\\d\\\\d-\\\\d\\\\d\\\\d\\\\d[a-zA-Z]-\\\\d\\\\d[a-zA-Z]', 0)\n",
      "('\\\\d\\\\d-\\\\d\\\\d\\\\d\\\\d\\\\d-\\\\d\\\\d\\\\d', 0)\n",
      "('[a-zA-Z][a-zA-Z][a-zA-Z]\\\\d\\\\d\\\\d\\\\d\\\\d-\\\\d\\\\d\\\\d\\\\d\\\\d', 0)\n",
      "('\\\\d\\\\d\\\\d\\\\d\\\\d-\\\\d\\\\d\\\\d\\\\d\\\\d-[a-zA-Z][a-zA-Z]', 0)\n",
      "('\\\\d\\\\d\\\\d-\\\\d\\\\d\\\\d\\\\d\\\\d\\\\d[a-zA-Z][a-zA-Z]', 0)\n",
      "('\\\\d\\\\d\\\\d-\\\\d\\\\d\\\\d-\\\\d\\\\d', 0)\n",
      "('\\\\d[a-zA-Z][a-zA-Z]\\\\d-\\\\d\\\\d\\\\d\\\\d', 0)\n",
      "('\\\\d\\\\d\\\\d\\\\d-\\\\d\\\\d\\\\d\\\\d-[a-zA-Z][a-zA-Z][a-zA-Z][a-zA-Z]', 0)\n",
      "('\\\\d\\\\d\\\\d\\\\d-\\\\d\\\\d\\\\d\\\\d[a-zA-Z]', 0)\n",
      "('\\\\d\\\\d\\\\d\\\\d-\\\\d\\\\d\\\\d\\\\d-[a-zA-Z][a-zA-Z][a-zA-Z]', 0)\n",
      "('\\\\d\\\\d\\\\d\\\\d\\\\d\\\\d[a-zA-Z]-\\\\d\\\\d\\\\d', 0)\n",
      "('[a-zA-Z][a-zA-Z]\\\\d\\\\d[a-zA-Z]-[a-zA-Z]\\\\d', 0)\n",
      "('\\\\d\\\\d-\\\\d\\\\d\\\\d\\\\d\\\\d-\\\\d\\\\d', 0)\n",
      "('[a-zA-Z][a-zA-Z][a-zA-Z]-\\\\d[a-zA-Z]\\\\d\\\\d\\\\d', 0)\n",
      "('[a-zA-Z][a-zA-Z][a-zA-Z]-\\\\d\\\\d[a-zA-Z]\\\\d\\\\d\\\\d\\\\d', 0)\n",
      "('[a-zA-Z][a-zA-Z][a-zA-Z]-\\\\d\\\\d[a-zA-Z]\\\\d\\\\d\\\\d\\\\d[a-zA-Z]', 0)\n",
      "('[a-zA-Z][a-zA-Z][a-zA-Z]-\\\\d\\\\d\\\\d\\\\d\\\\d\\\\d\\\\d\\\\d\\\\d\\\\d', 0)\n",
      "('[a-zA-Z][a-zA-Z][a-zA-Z]-\\\\d\\\\d\\\\d\\\\d[a-zA-Z][a-zA-Z]\\\\d\\\\d', 0)\n",
      "('[a-zA-Z][a-zA-Z][a-zA-Z]-\\\\d\\\\d\\\\d[a-zA-Z]\\\\d\\\\d\\\\d\\\\d\\\\d', 0)\n",
      "('[a-zA-Z][a-zA-Z][a-zA-Z]-[a-zA-Z][a-zA-Z]\\\\d\\\\d\\\\d[a-zA-Z][a-zA-Z]', 0)\n",
      "('[a-zA-Z][a-zA-Z][a-zA-Z]-\\\\d\\\\d\\\\d-\\\\d\\\\d\\\\d\\\\d', 0)\n",
      "('[a-zA-Z][a-zA-Z][a-zA-Z]-[a-zA-Z][a-zA-Z]\\\\d\\\\d\\\\d', 0)\n",
      "('[a-zA-Z][a-zA-Z][a-zA-Z]-\\\\d\\\\d\\\\d\\\\d[a-zA-Z]\\\\d\\\\d[a-zA-Z][a-zA-Z]\\\\d', 0)\n",
      "('[a-zA-Z][a-zA-Z]\\\\d\\\\d-[a-zA-Z][a-zA-Z]', 0)\n",
      "('[a-zA-Z][a-zA-Z][a-zA-Z]-[a-zA-Z][a-zA-Z]-\\\\d\\\\d\\\\d[a-zA-Z]', 0)\n",
      "('[a-zA-Z][a-zA-Z][a-zA-Z]-[a-zA-Z]\\\\d\\\\d[a-zA-Z][a-zA-Z]\\\\d\\\\d[a-zA-Z]\\\\d\\\\d\\\\d\\\\d', 0)\n",
      "('[a-zA-Z][a-zA-Z][a-zA-Z]-[a-zA-Z]\\\\d\\\\d\\\\d\\\\d\\\\d\\\\d[a-zA-Z]', 0)\n",
      "('[a-zA-Z][a-zA-Z][a-zA-Z]-[a-zA-Z][a-zA-Z][a-zA-Z][a-zA-Z]-\\\\d\\\\d\\\\d[a-zA-Z]', 0)\n",
      "('[a-zA-Z][a-zA-Z][a-zA-Z]-\\\\d\\\\d\\\\d\\\\d\\\\d[a-zA-Z][a-zA-Z]', 0)\n",
      "('[a-zA-Z][a-zA-Z][a-zA-Z]-\\\\d\\\\d[a-zA-Z]\\\\d[a-zA-Z]\\\\d\\\\d', 0)\n",
      "('[a-zA-Z][a-zA-Z][a-zA-Z]-\\\\d\\\\d[a-zA-Z]\\\\d[a-zA-Z][a-zA-Z]\\\\d', 0)\n",
      "('[a-zA-Z][a-zA-Z][a-zA-Z]-\\\\d\\\\d\\\\d[a-zA-Z][a-zA-Z]', 0)\n",
      "('[a-zA-Z][a-zA-Z][a-zA-Z]-[a-zA-Z]\\\\d\\\\d\\\\d\\\\d[a-zA-Z][a-zA-Z][a-zA-Z]', 0)\n",
      "('[a-zA-Z][a-zA-Z][a-zA-Z]-\\\\d\\\\d-\\\\d\\\\d\\\\d\\\\d\\\\d-\\\\d\\\\d\\\\d', 0)\n",
      "('[a-zA-Z][a-zA-Z][a-zA-Z]-[a-zA-Z]\\\\d\\\\d\\\\d[a-zA-Z]\\\\d[a-zA-Z][a-zA-Z]', 0)\n",
      "('[a-zA-Z][a-zA-Z][a-zA-Z]-\\\\d\\\\d\\\\d\\\\d\\\\d\\\\d-\\\\d\\\\d\\\\d', 0)\n",
      "('[a-zA-Z][a-zA-Z][a-zA-Z]-[a-zA-Z]-\\\\d\\\\d\\\\d', 0)\n",
      "('[a-zA-Z][a-zA-Z][a-zA-Z]-[a-zA-Z]\\\\d\\\\d\\\\d[a-zA-Z]\\\\d\\\\d[a-zA-Z]-[a-zA-Z]', 0)\n",
      "('[a-zA-Z][a-zA-Z][a-zA-Z]-[a-zA-Z]\\\\d\\\\d\\\\d\\\\d\\\\d\\\\d\\\\d', 0)\n",
      "('[a-zA-Z][a-zA-Z][a-zA-Z]-[a-zA-Z][a-zA-Z]\\\\d\\\\d\\\\d\\\\d[a-zA-Z][a-zA-Z]\\\\d\\\\d\\\\d', 0)\n",
      "('[a-zA-Z][a-zA-Z][a-zA-Z]-\\\\d\\\\d[a-zA-Z]\\\\d\\\\d\\\\d\\\\d-[a-zA-Z][a-zA-Z]', 0)\n",
      "('[a-zA-Z][a-zA-Z][a-zA-Z]-[a-zA-Z][a-zA-Z]\\\\d\\\\d\\\\d[a-zA-Z]', 0)\n",
      "('[a-zA-Z][a-zA-Z][a-zA-Z]-\\\\d\\\\d\\\\d\\\\d\\\\d\\\\d', 0)\n",
      "('[a-zA-Z][a-zA-Z][a-zA-Z]-[a-zA-Z][a-zA-Z][a-zA-Z][a-zA-Z][a-zA-Z]\\\\d\\\\d\\\\d[a-zA-Z][a-zA-Z]', 0)\n",
      "('[a-zA-Z][a-zA-Z][a-zA-Z]-\\\\d[a-zA-Z][a-zA-Z]\\\\d\\\\d\\\\d\\\\d\\\\d\\\\d\\\\d', 0)\n",
      "('[a-zA-Z][a-zA-Z][a-zA-Z]-\\\\d\\\\d\\\\d\\\\d\\\\d\\\\d\\\\d\\\\d\\\\d', 0)\n",
      "('[a-zA-Z][a-zA-Z][a-zA-Z]-\\\\d\\\\d\\\\d\\\\d[a-zA-Z][a-zA-Z][a-zA-Z]-\\\\d\\\\d\\\\d', 0)\n",
      "('[a-zA-Z][a-zA-Z][a-zA-Z]-[a-zA-Z][a-zA-Z]\\\\d\\\\d\\\\d[a-zA-Z]-[a-zA-Z]', 0)\n",
      "('[a-zA-Z][a-zA-Z][a-zA-Z]-[a-zA-Z]\\\\d\\\\d\\\\d-\\\\d\\\\d\\\\d\\\\d\\\\d\\\\d', 0)\n",
      "('[a-zA-Z][a-zA-Z][a-zA-Z]-\\\\d[a-zA-Z][a-zA-Z]\\\\d[a-zA-Z]', 0)\n",
      "('[a-zA-Z][a-zA-Z][a-zA-Z]-[a-zA-Z][a-zA-Z]\\\\d\\\\d-\\\\d\\\\d\\\\d\\\\d\\\\d[a-zA-Z]', 0)\n",
      "('[a-zA-Z][a-zA-Z][a-zA-Z]-[a-zA-Z][a-zA-Z][a-zA-Z]\\\\d', 0)\n",
      "('[a-zA-Z][a-zA-Z][a-zA-Z]-\\\\d\\\\d\\\\d\\\\d-\\\\d\\\\d\\\\d', 0)\n",
      "('[a-zA-Z][a-zA-Z][a-zA-Z]-[a-zA-Z]\\\\d[a-zA-Z][a-zA-Z][a-zA-Z][a-zA-Z][a-zA-Z][a-zA-Z][a-zA-Z]', 0)\n",
      "('[a-zA-Z][a-zA-Z][a-zA-Z]-\\\\d\\\\d\\\\d\\\\d\\\\d\\\\d\\\\d\\\\d', 0)\n",
      "('[a-zA-Z][a-zA-Z][a-zA-Z]-\\\\d\\\\d\\\\d\\\\d\\\\d-\\\\d\\\\d-[a-zA-Z]', 0)\n",
      "('[a-zA-Z][a-zA-Z][a-zA-Z]-[a-zA-Z][a-zA-Z][a-zA-Z]\\\\d\\\\d\\\\d[a-zA-Z]', 0)\n",
      "('[a-zA-Z][a-zA-Z][a-zA-Z]-\\\\d\\\\d\\\\d\\\\d[a-zA-Z][a-zA-Z]\\\\d[a-zA-Z][a-zA-Z]\\\\d', 0)\n",
      "('[a-zA-Z][a-zA-Z][a-zA-Z]-[a-zA-Z][a-zA-Z][a-zA-Z]\\\\d\\\\d\\\\d\\\\d[a-zA-Z][a-zA-Z]\\\\d[a-zA-Z]', 0)\n",
      "('[a-zA-Z][a-zA-Z][a-zA-Z]-\\\\d\\\\d\\\\d[a-zA-Z][a-zA-Z]\\\\d\\\\d\\\\d\\\\d\\\\d', 0)\n",
      "('[a-zA-Z][a-zA-Z][a-zA-Z]-[a-zA-Z][a-zA-Z]\\\\d\\\\d\\\\d-\\\\d\\\\d\\\\d\\\\d\\\\d', 0)\n",
      "('[a-zA-Z][a-zA-Z][a-zA-Z]-\\\\d[a-zA-Z]\\\\d\\\\d[a-zA-Z][a-zA-Z]\\\\d[a-zA-Z][a-zA-Z]\\\\d', 0)\n",
      "('\\\\d\\\\d\\\\d-[a-zA-Z]\\\\d[a-zA-Z][a-zA-Z]\\\\d', 0)\n",
      "('[a-zA-Z][a-zA-Z][a-zA-Z]-[a-zA-Z][a-zA-Z]\\\\d\\\\d\\\\d\\\\d\\\\d\\\\d', 0)\n",
      "('[a-zA-Z][a-zA-Z][a-zA-Z]-\\\\d\\\\d[a-zA-Z]\\\\d\\\\d\\\\d\\\\d\\\\d', 0)\n",
      "('[a-zA-Z][a-zA-Z][a-zA-Z]-[a-zA-Z][a-zA-Z]\\\\d\\\\d\\\\d\\\\d\\\\d\\\\d\\\\d', 0)\n",
      "('[a-zA-Z][a-zA-Z][a-zA-Z]-[a-zA-Z]\\\\d\\\\d[a-zA-Z][a-zA-Z]\\\\d\\\\d\\\\d\\\\d\\\\d', 0)\n",
      "('[a-zA-Z][a-zA-Z][a-zA-Z]-\\\\d\\\\d\\\\d[a-zA-Z]\\\\d\\\\d\\\\d\\\\d\\\\d\\\\d', 0)\n",
      "('[a-zA-Z][a-zA-Z][a-zA-Z]-[a-zA-Z][a-zA-Z][a-zA-Z]\\\\d\\\\d\\\\d\\\\d\\\\d\\\\d', 0)\n",
      "('[a-zA-Z][a-zA-Z][a-zA-Z]-[a-zA-Z][a-zA-Z]\\\\d\\\\d\\\\d[a-zA-Z][a-zA-Z][a-zA-Z]', 0)\n",
      "('\\\\d[a-zA-Z]-[a-zA-Z][a-zA-Z]\\\\d\\\\d\\\\d-[a-zA-Z]\\\\d', 0)\n",
      "('\\\\d[a-zA-Z]\\\\d-\\\\d\\\\d\\\\d\\\\d-\\\\d\\\\d\\\\d[a-zA-Z][a-zA-Z]', 0)\n",
      "('[a-zA-Z]\\\\d\\\\d\\\\d\\\\d-\\\\d\\\\d\\\\d\\\\d\\\\d[a-zA-Z][a-zA-Z][a-zA-Z][a-zA-Z]', 0)\n",
      "('[a-zA-Z][a-zA-Z][a-zA-Z]-[a-zA-Z][a-zA-Z][a-zA-Z]\\\\d[a-zA-Z][a-zA-Z][a-zA-Z]\\\\d\\\\d\\\\d', 0)\n",
      "('[a-zA-Z][a-zA-Z][a-zA-Z]-[a-zA-Z]\\\\d\\\\d\\\\d\\\\d\\\\d\\\\d\\\\d\\\\d\\\\d', 0)\n",
      "('[a-zA-Z][a-zA-Z]\\\\d\\\\d-\\\\d\\\\d\\\\d\\\\d\\\\d[a-zA-Z]', 0)\n",
      "('[a-zA-Z][a-zA-Z][a-zA-Z]-\\\\d\\\\d\\\\d\\\\d[a-zA-Z][a-zA-Z][a-zA-Z]', 0)\n",
      "('[a-zA-Z][a-zA-Z][a-zA-Z]-\\\\d\\\\d\\\\d\\\\d[a-zA-Z][a-zA-Z][a-zA-Z]-[a-zA-Z]', 0)\n",
      "('[a-zA-Z][a-zA-Z][a-zA-Z]-\\\\d\\\\d\\\\d\\\\d[a-zA-Z][a-zA-Z]', 0)\n",
      "('[a-zA-Z][a-zA-Z][a-zA-Z]-\\\\d\\\\d\\\\d\\\\d-[a-zA-Z]\\\\d', 0)\n",
      "('[a-zA-Z][a-zA-Z][a-zA-Z]-[a-zA-Z]\\\\d\\\\d\\\\d-[a-zA-Z]\\\\d', 0)\n",
      "('[a-zA-Z][a-zA-Z][a-zA-Z]-[a-zA-Z]\\\\d\\\\d\\\\d[a-zA-Z]', 0)\n",
      "('[a-zA-Z][a-zA-Z][a-zA-Z]-[a-zA-Z]\\\\d\\\\d\\\\d[a-zA-Z]\\\\d\\\\d[a-zA-Z]', 0)\n",
      "('[a-zA-Z][a-zA-Z][a-zA-Z]-[a-zA-Z][a-zA-Z][a-zA-Z][a-zA-Z][a-zA-Z]\\\\d\\\\d\\\\d\\\\d[a-zA-Z]', 0)\n",
      "('[a-zA-Z][a-zA-Z][a-zA-Z][a-zA-Z][a-zA-Z][a-zA-Z][a-zA-Z]-\\\\d\\\\d\\\\d\\\\d[a-zA-Z][a-zA-Z]\\\\d\\\\d', 0)\n",
      "('[a-zA-Z][a-zA-Z][a-zA-Z]-\\\\d\\\\d\\\\d-\\\\d\\\\d\\\\d\\\\d-\\\\d', 0)\n",
      "('\\\\d\\\\d-\\\\d\\\\d\\\\d\\\\d', 0)\n",
      "('[a-zA-Z]\\\\d\\\\d\\\\d\\\\d-\\\\d\\\\d\\\\d\\\\d\\\\d-[a-zA-Z][a-zA-Z][a-zA-Z]', 0)\n",
      "('[a-zA-Z]\\\\d\\\\d\\\\d[a-zA-Z][a-zA-Z]\\\\d\\\\d[a-zA-Z]-\\\\d\\\\d\\\\d\\\\d\\\\d', 0)\n",
      "('\\\\d\\\\d[a-zA-Z][a-zA-Z]-\\\\d\\\\d\\\\d\\\\d\\\\d[a-zA-Z][a-zA-Z]', 0)\n",
      "('[a-zA-Z][a-zA-Z]\\\\d-\\\\d\\\\d\\\\d\\\\d-[a-zA-Z][a-zA-Z][a-zA-Z][a-zA-Z]', 0)\n",
      "('[a-zA-Z][a-zA-Z]\\\\d\\\\d\\\\d-\\\\d\\\\d\\\\d\\\\d\\\\d-[a-zA-Z][a-zA-Z]', 0)\n",
      "('[a-zA-Z][a-zA-Z][a-zA-Z][a-zA-Z][a-zA-Z][a-zA-Z][a-zA-Z]-\\\\d\\\\d\\\\d\\\\d[a-zA-Z][a-zA-Z][a-zA-Z][a-zA-Z]', 0)\n",
      "('[a-zA-Z][a-zA-Z][a-zA-Z][a-zA-Z][a-zA-Z][a-zA-Z][a-zA-Z]-\\\\d\\\\d\\\\d\\\\d[a-zA-Z][a-zA-Z][a-zA-Z]\\\\d', 0)\n",
      "('\\\\d\\\\d\\\\d-\\\\d\\\\d-\\\\d\\\\d-\\\\d\\\\d\\\\d', 0)\n",
      "('\\\\d\\\\d\\\\d\\\\d\\\\d\\\\d\\\\d\\\\d\\\\d-\\\\d\\\\d', 0)\n",
      "('[a-zA-Z][a-zA-Z][a-zA-Z][a-zA-Z][a-zA-Z][a-zA-Z][a-zA-Z][a-zA-Z]\\\\d\\\\d\\\\d[a-zA-Z]\\\\d[a-zA-Z]-\\\\d', 0)\n",
      "('[a-zA-Z][a-zA-Z][a-zA-Z][a-zA-Z][a-zA-Z][a-zA-Z][a-zA-Z][a-zA-Z][a-zA-Z]\\\\d\\\\d[a-zA-Z]\\\\d\\\\d-\\\\d', 0)\n",
      "('[a-zA-Z][a-zA-Z][a-zA-Z][a-zA-Z]-[a-zA-Z][a-zA-Z]\\\\d\\\\d\\\\d\\\\d[a-zA-Z][a-zA-Z][a-zA-Z][a-zA-Z]', 0)\n",
      "('[a-zA-Z][a-zA-Z][a-zA-Z][a-zA-Z][a-zA-Z][a-zA-Z]-[a-zA-Z]\\\\d\\\\d\\\\d\\\\d[a-zA-Z][a-zA-Z][a-zA-Z][a-zA-Z]', 0)\n",
      "('[a-zA-Z][a-zA-Z][a-zA-Z][a-zA-Z][a-zA-Z][a-zA-Z][a-zA-Z][a-zA-Z]\\\\d[a-zA-Z]\\\\d\\\\d[a-zA-Z][a-zA-Z]-\\\\d', 0)\n",
      "('[a-zA-Z][a-zA-Z][a-zA-Z][a-zA-Z][a-zA-Z]-[a-zA-Z][a-zA-Z]\\\\d\\\\d\\\\d\\\\d[a-zA-Z][a-zA-Z][a-zA-Z][a-zA-Z]', 0)\n",
      "('\\\\d\\\\d\\\\d-\\\\d\\\\d\\\\d\\\\d\\\\d\\\\d', 0)\n",
      "('[a-zA-Z][a-zA-Z][a-zA-Z][a-zA-Z][a-zA-Z][a-zA-Z][a-zA-Z][a-zA-Z]\\\\d[a-zA-Z]\\\\d\\\\d[a-zA-Z]\\\\d-\\\\d\\\\d', 0)\n",
      "('[a-zA-Z]\\\\d\\\\d-\\\\d\\\\d\\\\d\\\\d', 0)\n",
      "('\\\\d\\\\d\\\\d\\\\d\\\\d\\\\d\\\\d\\\\d\\\\d-\\\\d', 0)\n",
      "('[a-zA-Z]\\\\d-[a-zA-Z][a-zA-Z][a-zA-Z][a-zA-Z][a-zA-Z]-\\\\d\\\\d', 0)\n",
      "('[a-zA-Z][a-zA-Z]\\\\d-\\\\d\\\\d\\\\d\\\\d-\\\\d\\\\d\\\\d-[a-zA-Z][a-zA-Z]', 0)\n",
      "('[a-zA-Z]\\\\d[a-zA-Z]\\\\d\\\\d-\\\\d\\\\d\\\\d\\\\d\\\\d-[a-zA-Z][a-zA-Z]', 0)\n",
      "('[a-zA-Z][a-zA-Z]\\\\d\\\\d\\\\d\\\\d\\\\d-[a-zA-Z]\\\\d\\\\d\\\\d[a-zA-Z][a-zA-Z]', 0)\n",
      "('[a-zA-Z][a-zA-Z]\\\\d\\\\d\\\\d-\\\\d\\\\d\\\\d\\\\d\\\\d-[a-zA-Z][a-zA-Z][a-zA-Z][a-zA-Z]', 0)\n",
      "('[a-zA-Z][a-zA-Z]\\\\d\\\\d-[a-zA-Z]\\\\d', 0)\n",
      "('[a-zA-Z][a-zA-Z][a-zA-Z][a-zA-Z][a-zA-Z][a-zA-Z]-[a-zA-Z]\\\\d\\\\d\\\\d\\\\d[a-zA-Z][a-zA-Z][a-zA-Z]', 0)\n",
      "('[a-zA-Z][a-zA-Z]\\\\d\\\\d[a-zA-Z]-[a-zA-Z][a-zA-Z]', 0)\n",
      "('[a-zA-Z][a-zA-Z][a-zA-Z][a-zA-Z][a-zA-Z][a-zA-Z]-\\\\d\\\\d\\\\d\\\\d[a-zA-Z][a-zA-Z][a-zA-Z][a-zA-Z]', 0)\n"
     ]
    }
   ],
   "source": [
    "some_text_entities, some__pattern_matchs = generate_label(texts, patterns=patterns)\n",
    "show_entity(some_text_entities, some__pattern_matchs)\n"
   ]
  },
  {
   "cell_type": "markdown",
   "id": "c8f2c5b0",
   "metadata": {},
   "source": [
    "#### find potential actions \n",
    "\n",
    "it has some effects, but not good enough."
   ]
  },
  {
   "cell_type": "code",
   "execution_count": 65,
   "id": "bbc5155e",
   "metadata": {
    "ExecuteTime": {
     "end_time": "2021-08-25T08:21:40.086864Z",
     "start_time": "2021-08-25T08:21:39.648660Z"
    }
   },
   "outputs": [
    {
     "name": "stdout",
     "output_type": "stream",
     "text": [
      "====================================================================================================\n"
     ]
    },
    {
     "data": {
      "text/html": [
       "<span class=\"tex2jax_ignore\"><div class=\"entities\" style=\"line-height: 2.5; direction: ltr\">order qty 1 \n",
       "<mark class=\"entity\" style=\"background: #92E0AA; padding: 0.45em 0.6em; margin: 0 0.25em; line-height: 1; border-radius: 0.35em;\">\n",
       "    fe-15520-01\n",
       "    <span style=\"font-size: 0.8em; font-weight: bold; line-height: 1; border-radius: 0.35em; vertical-align: middle; margin-left: 0.5rem\">PART_NUM</span>\n",
       "</mark>\n",
       " nbd to my hal in lenexa . thank you . </div></span>"
      ],
      "text/plain": [
       "<IPython.core.display.HTML object>"
      ]
     },
     "metadata": {},
     "output_type": "display_data"
    },
    {
     "name": "stdout",
     "output_type": "stream",
     "text": [
      "====================================================================================================\n"
     ]
    },
    {
     "data": {
      "text/html": [
       "<span class=\"tex2jax_ignore\"><div class=\"entities\" style=\"line-height: 2.5; direction: ltr\">orders qty 1 \n",
       "<mark class=\"entity\" style=\"background: #92E0AA; padding: 0.45em 0.6em; margin: 0 0.25em; line-height: 1; border-radius: 0.35em;\">\n",
       "    fe-15520-01\n",
       "    <span style=\"font-size: 0.8em; font-weight: bold; line-height: 1; border-radius: 0.35em; vertical-align: middle; margin-left: 0.5rem\">PART_NUM</span>\n",
       "</mark>\n",
       " nbd to my hal in lenexa . thank you . </div></span>"
      ],
      "text/plain": [
       "<IPython.core.display.HTML object>"
      ]
     },
     "metadata": {},
     "output_type": "display_data"
    },
    {
     "name": "stdout",
     "output_type": "stream",
     "text": [
      "====================================================================================================\n"
     ]
    },
    {
     "data": {
      "text/html": [
       "<span class=\"tex2jax_ignore\"><div class=\"entities\" style=\"line-height: 2.5; direction: ltr\">send qty 1 \n",
       "<mark class=\"entity\" style=\"background: #92E0AA; padding: 0.45em 0.6em; margin: 0 0.25em; line-height: 1; border-radius: 0.35em;\">\n",
       "    fe-15520-01\n",
       "    <span style=\"font-size: 0.8em; font-weight: bold; line-height: 1; border-radius: 0.35em; vertical-align: middle; margin-left: 0.5rem\">PART_NUM</span>\n",
       "</mark>\n",
       " nbd to my hal in lenexa . thank you . </div></span>"
      ],
      "text/plain": [
       "<IPython.core.display.HTML object>"
      ]
     },
     "metadata": {},
     "output_type": "display_data"
    },
    {
     "name": "stdout",
     "output_type": "stream",
     "text": [
      "====================================================================================================\n"
     ]
    },
    {
     "data": {
      "text/html": [
       "<span class=\"tex2jax_ignore\"><div class=\"entities\" style=\"line-height: 2.5; direction: ltr\">sends qty 1 \n",
       "<mark class=\"entity\" style=\"background: #92E0AA; padding: 0.45em 0.6em; margin: 0 0.25em; line-height: 1; border-radius: 0.35em;\">\n",
       "    fe-15520-01\n",
       "    <span style=\"font-size: 0.8em; font-weight: bold; line-height: 1; border-radius: 0.35em; vertical-align: middle; margin-left: 0.5rem\">PART_NUM</span>\n",
       "</mark>\n",
       " nbd to my hal in lenexa . thank you . </div></span>"
      ],
      "text/plain": [
       "<IPython.core.display.HTML object>"
      ]
     },
     "metadata": {},
     "output_type": "display_data"
    },
    {
     "name": "stdout",
     "output_type": "stream",
     "text": [
      "====================================================================================================\n"
     ]
    },
    {
     "data": {
      "text/html": [
       "<span class=\"tex2jax_ignore\"><div class=\"entities\" style=\"line-height: 2.5; direction: ltr\">ship qty 1 \n",
       "<mark class=\"entity\" style=\"background: #92E0AA; padding: 0.45em 0.6em; margin: 0 0.25em; line-height: 1; border-radius: 0.35em;\">\n",
       "    fe-15520-01\n",
       "    <span style=\"font-size: 0.8em; font-weight: bold; line-height: 1; border-radius: 0.35em; vertical-align: middle; margin-left: 0.5rem\">PART_NUM</span>\n",
       "</mark>\n",
       " nbd to my hal in lenexa . thank you . </div></span>"
      ],
      "text/plain": [
       "<IPython.core.display.HTML object>"
      ]
     },
     "metadata": {},
     "output_type": "display_data"
    },
    {
     "name": "stdout",
     "output_type": "stream",
     "text": [
      "====================================================================================================\n"
     ]
    },
    {
     "data": {
      "text/html": [
       "<span class=\"tex2jax_ignore\"><div class=\"entities\" style=\"line-height: 2.5; direction: ltr\">ships qty 1 \n",
       "<mark class=\"entity\" style=\"background: #92E0AA; padding: 0.45em 0.6em; margin: 0 0.25em; line-height: 1; border-radius: 0.35em;\">\n",
       "    fe-15520-01\n",
       "    <span style=\"font-size: 0.8em; font-weight: bold; line-height: 1; border-radius: 0.35em; vertical-align: middle; margin-left: 0.5rem\">PART_NUM</span>\n",
       "</mark>\n",
       " nbd to my hal in lenexa . thank you . 2012-02-02</div></span>"
      ],
      "text/plain": [
       "<IPython.core.display.HTML object>"
      ]
     },
     "metadata": {},
     "output_type": "display_data"
    }
   ],
   "source": [
    "texts = ['order qty 1 fe-15520-01 nbd to my hal in lenexa . thank you . ',\n",
    "         'orders qty 1 fe-15520-01 nbd to my hal in lenexa . thank you . ',\n",
    "         'send qty 1 fe-15520-01 nbd to my hal in lenexa . thank you . ',\n",
    "         'sends qty 1 fe-15520-01 nbd to my hal in lenexa . thank you . ',\n",
    "         'ship qty 1 fe-15520-01 nbd to my hal in lenexa . thank you . ',\n",
    "         'ships qty 1 fe-15520-01 nbd to my hal in lenexa . thank you . 2012-02-02',         \n",
    "        ]\n",
    "\n",
    "show_texts(texts, show_detail=False) "
   ]
  },
  {
   "cell_type": "markdown",
   "id": "f5a68cad",
   "metadata": {},
   "source": [
    "## Output Results"
   ]
  },
  {
   "cell_type": "code",
   "execution_count": null,
   "id": "a9822aa5",
   "metadata": {},
   "outputs": [],
   "source": [
    "common_words_patterns = [\n",
    " {'expression': r'order', 'label': 'ACTION'}, \n",
    " {'expression': r'recommended', 'label': 'ACTION'}, \n",
    " {'expression': r'hfpu', 'label': 'ACTION'}, \n",
    " {'expression': r'ship', 'label': 'ACTION'}, \n",
    " {'expression': r'fedex', 'label': 'ACTION'}, \n",
    " {'expression': r'hal', 'label': 'ACTION'}, \n",
    " {'expression': r'site', 'label': 'ACTION'}, \n",
    " {'expression': r'send', 'label': 'ACTION'}, \n",
    " {'expression': r'location', 'label': 'ACTION'}, \n",
    " {'expression': r'pickup', 'label': 'ACTION'}, \n",
    " {'expression': r'sent', 'label': 'ACTION'}, \n",
    " {'expression': r'requested', 'label': 'ACTION'}, \n",
    " {'expression': r'reorder', 'label': 'ACTION'}, \n",
    " {'expression': r'street', 'label': 'ACTION'}, \n",
    " {'expression': r'hfp', 'label': 'ACTION'}, \n",
    " {'expression': r'shipped', 'label': 'ACTION'}, \n",
    " {'expression': r'delivery', 'label': 'ACTION'}, \n",
    " {'expression': r'recommend', 'label': 'ACTION'}, \n",
    " {'expression': r'warehouse', 'label': 'ACTION'}   \n",
    "]"
   ]
  },
  {
   "cell_type": "code",
   "execution_count": 101,
   "id": "15f85c73",
   "metadata": {
    "ExecuteTime": {
     "end_time": "2021-08-25T10:39:38.866929Z",
     "start_time": "2021-08-25T10:39:38.861899Z"
    }
   },
   "outputs": [
    {
     "data": {
      "text/plain": [
       "6110"
      ]
     },
     "execution_count": 101,
     "metadata": {},
     "output_type": "execute_result"
    }
   ],
   "source": []
  },
  {
   "cell_type": "code",
   "execution_count": 110,
   "id": "fe5490b7",
   "metadata": {
    "ExecuteTime": {
     "end_time": "2021-08-25T10:43:38.379191Z",
     "start_time": "2021-08-25T10:43:29.724601Z"
    }
   },
   "outputs": [
    {
     "data": {
      "text/plain": [
       "[[],\n",
       " [],\n",
       " [],\n",
       " [],\n",
       " [],\n",
       " [],\n",
       " [],\n",
       " [],\n",
       " [],\n",
       " [],\n",
       " ['ch538-67076',\n",
       "  't8w16-67006',\n",
       "  'ch538-67018',\n",
       "  'ck839-67005',\n",
       "  'cn727-67023',\n",
       "  'w6b55-67007'],\n",
       " [],\n",
       " ['l98769-003'],\n",
       " ['l98769-003'],\n",
       " [],\n",
       " [],\n",
       " ['l51580-001', 'l31365-001'],\n",
       " [],\n",
       " [],\n",
       " ['m21823-601'],\n",
       " [],\n",
       " ['933321-855'],\n",
       " [],\n",
       " [],\n",
       " [],\n",
       " ['l62781-001', 'l63364-001'],\n",
       " [],\n",
       " ['a8p79-65'],\n",
       " [],\n",
       " [],\n",
       " ['m12882-601'],\n",
       " [],\n",
       " [],\n",
       " [],\n",
       " ['917047-001'],\n",
       " [],\n",
       " [],\n",
       " ['j7z09-67965', 'j7z09-67970'],\n",
       " [],\n",
       " ['p1b11-67901'],\n",
       " ['p1b11-67901'],\n",
       " [],\n",
       " [],\n",
       " ['932688-601'],\n",
       " ['l27294-001'],\n",
       " ['l14370-001'],\n",
       " ['932688-601'],\n",
       " ['l85364-001', 'l13665-601'],\n",
       " ['q6718-67017', 'q6718-67025'],\n",
       " ['932688-601'],\n",
       " ['932688-601'],\n",
       " ['932688-601'],\n",
       " ['932688-601'],\n",
       " [],\n",
       " [],\n",
       " [],\n",
       " ['x3a92-60003'],\n",
       " [],\n",
       " [],\n",
       " [],\n",
       " ['rm2-6576-000cn', 'rk2-6027-000cn', 'rm2-0077-000cn'],\n",
       " ['rm2-5683-000cn', 'rm2-2585-000cn'],\n",
       " [],\n",
       " [],\n",
       " [],\n",
       " [],\n",
       " [],\n",
       " ['m11775-601', 'm11775-601'],\n",
       " ['m07092-001'],\n",
       " [],\n",
       " ['923771-601'],\n",
       " [],\n",
       " ['j8a10-60108', 'j8a10-60110', 'rm2-8421-000cn', 'j8a10-60108'],\n",
       " ['jc39-02579a', 'jc39-02579a', 'x3a92-60003'],\n",
       " [],\n",
       " [],\n",
       " [],\n",
       " [],\n",
       " [],\n",
       " ['jc93-01048a', 'jc93-01061a', 'jc93-01064a', 'jc31-00123b', 'jc93-01048a'],\n",
       " ['jc93-01048a', 'jc93-01061a', 'jc93-01064a', 'jc31-00123b', 'jc93-01048a'],\n",
       " [],\n",
       " [],\n",
       " [],\n",
       " ['cc522-69005', 'rm1-8895-000cn', 'rm1-6074-000cn'],\n",
       " ['w1a73-60110'],\n",
       " [],\n",
       " [],\n",
       " [],\n",
       " ['933321-855'],\n",
       " [],\n",
       " [],\n",
       " ['l14337-001'],\n",
       " ['l14337-001'],\n",
       " [],\n",
       " [],\n",
       " [],\n",
       " [],\n",
       " [],\n",
       " []]"
      ]
     },
     "execution_count": 110,
     "metadata": {},
     "output_type": "execute_result"
    }
   ],
   "source": [
    "def get_part_nums(texts):\n",
    "    docs = nlp.pipe(texts)\n",
    "    part_nums = []\n",
    "    for doc in docs:\n",
    "        doc_part_nums = [ent.text for ent in doc.ents]\n",
    "        part_nums.append(doc_part_nums)    \n",
    "        \n",
    "    return part_nums \n",
    "\n",
    "part_nums = get_part_nums(texts[0:100])\n",
    "part_nums"
   ]
  },
  {
   "cell_type": "code",
   "execution_count": 107,
   "id": "6ea0fb83",
   "metadata": {
    "ExecuteTime": {
     "end_time": "2021-08-25T10:43:08.185575Z",
     "start_time": "2021-08-25T10:43:08.181333Z"
    }
   },
   "outputs": [
    {
     "data": {
      "text/plain": [
       "['#normal part escalated',\n",
       " 'please cancel backordered part . customer has canceled service',\n",
       " 'according to bryan this laptop shows repair completed and that it is already rerurned to the end user in their records . ',\n",
       " 'back order part',\n",
       " 'please send this case to corey harbarenko . corey is aware and is covering for me while i am on vacation . thanks',\n",
       " 'originally went onsite and replaced the facia unable to get it to sit properly . contacted support mike . recommended possible depot of customer approves . spoke with the customer mike he accepted depot repair . contacted support awaiting new wo number they . 6/13 left vm for customer . -kevin 6/13 please reorder previously ordered part and ship to my hfpu-kevin 6/19 left vm to schedule awaiting call back-kevin',\n",
       " 'originally went onsite and replaced the facia unable to get it to sit properly . contacted support mike . recommended possible depot of customer approves . spoke with the customer mike he accepted depot repair . contacted support awaiting new wo number they',\n",
       " 'after sending steven an email on 6/9/21 letting him know the system board was arriving that morning i received a reply from steven on 6/28/21 that i could send an engineer unfortunately by then the system board had been returned . steven stated in the ema',\n",
       " 'system board still in ordered status',\n",
       " 'please assign the revisit work order to me for thursday . ']"
      ]
     },
     "execution_count": 107,
     "metadata": {},
     "output_type": "execute_result"
    }
   ],
   "source": [
    "texts[0:10]"
   ]
  },
  {
   "cell_type": "code",
   "execution_count": null,
   "id": "285904dc",
   "metadata": {},
   "outputs": [],
   "source": []
  }
 ],
 "metadata": {
  "kernelspec": {
   "display_name": "Python 3",
   "language": "python",
   "name": "python3"
  },
  "language_info": {
   "codemirror_mode": {
    "name": "ipython",
    "version": 3
   },
   "file_extension": ".py",
   "mimetype": "text/x-python",
   "name": "python",
   "nbconvert_exporter": "python",
   "pygments_lexer": "ipython3",
   "version": "3.6.9"
  },
  "toc": {
   "base_numbering": 1,
   "nav_menu": {},
   "number_sections": true,
   "sideBar": true,
   "skip_h1_title": false,
   "title_cell": "Table of Contents",
   "title_sidebar": "Contents",
   "toc_cell": false,
   "toc_position": {
    "height": "calc(100% - 180px)",
    "left": "10px",
    "top": "150px",
    "width": "426.641px"
   },
   "toc_section_display": true,
   "toc_window_display": true
  }
 },
 "nbformat": 4,
 "nbformat_minor": 5
}
