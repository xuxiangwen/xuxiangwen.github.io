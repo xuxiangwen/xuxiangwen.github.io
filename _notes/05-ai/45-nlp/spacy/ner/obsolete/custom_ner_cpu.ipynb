{
 "cells": [
  {
   "cell_type": "code",
   "execution_count": 1,
   "id": "28990d1b",
   "metadata": {
    "ExecuteTime": {
     "end_time": "2021-08-25T00:33:25.404051Z",
     "start_time": "2021-08-25T00:33:21.176607Z"
    }
   },
   "outputs": [],
   "source": [
    "import csv\n",
    "import pandas as pd\n",
    "import numpy as np\n",
    "import re \n",
    "import spacy\n",
    "\n",
    "from tqdm import tqdm\n",
    "from spacy.tokens import DocBin\n",
    "from sklearn.model_selection import train_test_split\n",
    "\n",
    "# ebablbe auto-completion\n",
    "%config Completer.use_jedi = False"
   ]
  },
  {
   "cell_type": "markdown",
   "id": "241f2b20",
   "metadata": {},
   "source": [
    "## Generate Config File\n",
    "\n",
    "download model."
   ]
  },
  {
   "cell_type": "code",
   "execution_count": 2,
   "id": "15a880fa",
   "metadata": {
    "ExecuteTime": {
     "end_time": "2021-08-25T00:33:25.409208Z",
     "start_time": "2021-08-25T00:33:25.406871Z"
    }
   },
   "outputs": [],
   "source": [
    "# !python -m spacy download en_core_web_trf\n",
    "# !python -m spacy download en_core_web_lg"
   ]
  },
  {
   "cell_type": "markdown",
   "id": "a0e04d30",
   "metadata": {},
   "source": [
    "generate base_config.cfg and base_config_gpu.cfg on https://spacy.io/usage/training#quickstart"
   ]
  },
  {
   "cell_type": "code",
   "execution_count": 3,
   "id": "9704539b",
   "metadata": {
    "ExecuteTime": {
     "end_time": "2021-08-25T00:33:25.416574Z",
     "start_time": "2021-08-25T00:33:25.411765Z"
    }
   },
   "outputs": [],
   "source": [
    "# !python -m spacy init fill-config base_config.cfg config.cfg\n",
    "# !python -m spacy init fill-config base_config_gpu.cfg config_gpu.cfg"
   ]
  },
  {
   "cell_type": "markdown",
   "id": "4b171699",
   "metadata": {},
   "source": [
    "## Gather Data"
   ]
  },
  {
   "cell_type": "markdown",
   "id": "00ed4da0",
   "metadata": {},
   "source": [
    "###  Convert Excel to Txt\n",
    "upload the excel file to http://15.15.166.35:18888/tree/eipi10/jian-xu3/snps-classification/snps/etl/data/case_note_ner/xlsx\n",
    "\n",
    "~~~shell\n",
    "!pip install xlrd==1.2.0\n",
    "~~~"
   ]
  },
  {
   "cell_type": "code",
   "execution_count": 4,
   "id": "800baa96",
   "metadata": {
    "ExecuteTime": {
     "end_time": "2021-08-25T00:33:25.422703Z",
     "start_time": "2021-08-25T00:33:25.419115Z"
    }
   },
   "outputs": [],
   "source": [
    "# !ls -l /tf/eipi10/jian-xu3/snps-classification/snps/etl/data/case_note_ner/xlsx/ "
   ]
  },
  {
   "cell_type": "code",
   "execution_count": 5,
   "id": "a8e4e1c7",
   "metadata": {
    "ExecuteTime": {
     "end_time": "2021-08-25T00:33:25.441593Z",
     "start_time": "2021-08-25T00:33:25.425558Z"
    }
   },
   "outputs": [],
   "source": [
    "# ! /tf/eipi10/jian-xu3/snps-classification/snps/etl/xlsx2txt.py  case_note_ner '' 1 '\\t'"
   ]
  },
  {
   "cell_type": "markdown",
   "id": "e640dc4b",
   "metadata": {},
   "source": [
    "### Load Txt File"
   ]
  },
  {
   "cell_type": "code",
   "execution_count": 6,
   "id": "c7829e62",
   "metadata": {
    "ExecuteTime": {
     "end_time": "2021-08-25T00:33:25.507055Z",
     "start_time": "2021-08-25T00:33:25.443812Z"
    }
   },
   "outputs": [],
   "source": [
    "\n",
    "def load_data(text_file):\n",
    "    names = ['Case_ID', 'Work_Order_Number', 'Created_On', 'Service_Account', 'Due_Date', \n",
    "             'Action_Booking_status', 'Action_Date', 'Currently_Worked_by', 'Owner', 'Product_Line', \n",
    "             'Follow_Up_Reason_Code', 'Response_Time', 'Work_Order_Type', 'Postal_Code', 'Active_Booking', \n",
    "             'Follow_Up_Type', 'Business_Segment', 'Follow_Up_Note', 'Reschedule_Note']\n",
    "    dtypes = [np.str, np.str, np.str, np.str, np.str, \n",
    "              np.str, np.str, np.str, np.str, np.str, \n",
    "              np.str, np.str, np.str, np.str, np.str,\n",
    "              np.str, np.str, np.str, np.str]\n",
    "    dtypes = {name:dtype for name, dtype in zip(names, dtypes)}\n",
    "    df = pd.read_table(text_file, names=names, dtype=dtypes, quoting=csv.QUOTE_NONE)\n",
    "\n",
    "    df.index = range(1, len(df)+1) \n",
    "    df['id'] = df.index\n",
    "      \n",
    "    return df\n",
    "\n",
    "text_file='/tf/eipi10/jian-xu3/snps-classification/snps/etl/data/case_note_ner/txt/3RS_July_Extraction_with_notes_004.txt'\n",
    "df_case = load_data(text_file)"
   ]
  },
  {
   "cell_type": "code",
   "execution_count": 7,
   "id": "539ade87",
   "metadata": {
    "ExecuteTime": {
     "end_time": "2021-08-25T00:33:25.592654Z",
     "start_time": "2021-08-25T00:33:25.509395Z"
    }
   },
   "outputs": [
    {
     "name": "stdout",
     "output_type": "stream",
     "text": [
      "--------------------------------------------------\n",
      "7039\n",
      "--------------------------------------------------\n"
     ]
    },
    {
     "data": {
      "text/html": [
       "<div>\n",
       "<style scoped>\n",
       "    .dataframe tbody tr th:only-of-type {\n",
       "        vertical-align: middle;\n",
       "    }\n",
       "\n",
       "    .dataframe tbody tr th {\n",
       "        vertical-align: top;\n",
       "    }\n",
       "\n",
       "    .dataframe thead th {\n",
       "        text-align: right;\n",
       "    }\n",
       "</style>\n",
       "<table border=\"1\" class=\"dataframe\">\n",
       "  <thead>\n",
       "    <tr style=\"text-align: right;\">\n",
       "      <th></th>\n",
       "      <th>Case_ID</th>\n",
       "      <th>Work_Order_Number</th>\n",
       "      <th>Created_On</th>\n",
       "      <th>Service_Account</th>\n",
       "      <th>Due_Date</th>\n",
       "      <th>Action_Booking_status</th>\n",
       "      <th>Action_Date</th>\n",
       "      <th>Currently_Worked_by</th>\n",
       "      <th>Owner</th>\n",
       "      <th>Product_Line</th>\n",
       "      <th>Follow_Up_Reason_Code</th>\n",
       "      <th>Response_Time</th>\n",
       "      <th>Work_Order_Type</th>\n",
       "      <th>Postal_Code</th>\n",
       "      <th>Active_Booking</th>\n",
       "      <th>Follow_Up_Type</th>\n",
       "      <th>Business_Segment</th>\n",
       "      <th>Follow_Up_Note</th>\n",
       "      <th>Reschedule_Note</th>\n",
       "      <th>id</th>\n",
       "    </tr>\n",
       "  </thead>\n",
       "  <tbody>\n",
       "    <tr>\n",
       "      <th>1</th>\n",
       "      <td>5060815932</td>\n",
       "      <td>WO-012952625</td>\n",
       "      <td>2021-02-03 10:38:00</td>\n",
       "      <td>William Torres</td>\n",
       "      <td>2021-04-26 15:00:00</td>\n",
       "      <td>Additional Parts Required</td>\n",
       "      <td>2021-07-03 11:45:00</td>\n",
       "      <td>Kerby Singleton</td>\n",
       "      <td>Nancy Quesada</td>\n",
       "      <td>Commercial Desktop PC Premium L6</td>\n",
       "      <td>NaN</td>\n",
       "      <td>NCD</td>\n",
       "      <td>Break Fix</td>\n",
       "      <td>30305</td>\n",
       "      <td>PC-Kerby Singleton</td>\n",
       "      <td>Additional Parts Required</td>\n",
       "      <td>Computing</td>\n",
       "      <td>NaN</td>\n",
       "      <td>#NORMAL Part escalated</td>\n",
       "      <td>1</td>\n",
       "    </tr>\n",
       "    <tr>\n",
       "      <th>2</th>\n",
       "      <td>5060815932</td>\n",
       "      <td>WO-012952625</td>\n",
       "      <td>2021-02-03 10:38:00</td>\n",
       "      <td>William Torres</td>\n",
       "      <td>2021-04-26 15:00:00</td>\n",
       "      <td>Additional Parts Required</td>\n",
       "      <td>2021-07-03 11:45:00</td>\n",
       "      <td>Kerby Singleton</td>\n",
       "      <td>Nancy Quesada</td>\n",
       "      <td>Commercial Desktop PC Premium L6</td>\n",
       "      <td>NaN</td>\n",
       "      <td>NCD</td>\n",
       "      <td>Break Fix</td>\n",
       "      <td>30305</td>\n",
       "      <td>PC-Kerby Singleton</td>\n",
       "      <td>Additional Parts Required</td>\n",
       "      <td>Computing</td>\n",
       "      <td>NaN</td>\n",
       "      <td>Please cancel backordered part. Customer has c...</td>\n",
       "      <td>2</td>\n",
       "    </tr>\n",
       "    <tr>\n",
       "      <th>3</th>\n",
       "      <td>5061272897</td>\n",
       "      <td>WO-013009621</td>\n",
       "      <td>2021-02-09 13:39:00</td>\n",
       "      <td>LAS VEGAS METRO POLICE DEPT</td>\n",
       "      <td>2021-02-24 19:00:00</td>\n",
       "      <td>Additional Parts Required</td>\n",
       "      <td>2021-07-16 15:30:00</td>\n",
       "      <td>NaN</td>\n",
       "      <td>Avinash Shukla</td>\n",
       "      <td>Commercial Premium Notebooks</td>\n",
       "      <td>NaN</td>\n",
       "      <td>NCD</td>\n",
       "      <td>Break Fix</td>\n",
       "      <td>89101</td>\n",
       "      <td>PC-Joe Walper</td>\n",
       "      <td>Additional Parts Required</td>\n",
       "      <td>Computing</td>\n",
       "      <td>NaN</td>\n",
       "      <td>According to bryan this laptop shows repair co...</td>\n",
       "      <td>3</td>\n",
       "    </tr>\n",
       "    <tr>\n",
       "      <th>4</th>\n",
       "      <td>5061272897</td>\n",
       "      <td>WO-013009621</td>\n",
       "      <td>2021-02-09 13:39:00</td>\n",
       "      <td>LAS VEGAS METRO POLICE DEPT</td>\n",
       "      <td>2021-02-24 19:00:00</td>\n",
       "      <td>Additional Parts Required</td>\n",
       "      <td>2021-07-16 15:30:00</td>\n",
       "      <td>NaN</td>\n",
       "      <td>Avinash Shukla</td>\n",
       "      <td>Commercial Premium Notebooks</td>\n",
       "      <td>NaN</td>\n",
       "      <td>NCD</td>\n",
       "      <td>Break Fix</td>\n",
       "      <td>89101</td>\n",
       "      <td>PC-Joe Walper</td>\n",
       "      <td>Additional Parts Required</td>\n",
       "      <td>Computing</td>\n",
       "      <td>NaN</td>\n",
       "      <td>Back order part</td>\n",
       "      <td>4</td>\n",
       "    </tr>\n",
       "    <tr>\n",
       "      <th>5</th>\n",
       "      <td>5061278521</td>\n",
       "      <td>WO-013010632-4</td>\n",
       "      <td>2021-06-16 12:17:00</td>\n",
       "      <td>MR. REGINALD JOSEPH</td>\n",
       "      <td>2021-07-15 14:42:00</td>\n",
       "      <td>Reschedule</td>\n",
       "      <td>2021-07-15 13:09:00</td>\n",
       "      <td>NaN</td>\n",
       "      <td>JOCILYN ANDREA SANDI DURAN</td>\n",
       "      <td>Commercial Premium Notebooks</td>\n",
       "      <td>NaN</td>\n",
       "      <td>NCD</td>\n",
       "      <td>Break Fix</td>\n",
       "      <td>20785</td>\n",
       "      <td>USA-PR-USYWWDWN_E_A_EEG</td>\n",
       "      <td>Reschedule</td>\n",
       "      <td>Computing</td>\n",
       "      <td>NaN</td>\n",
       "      <td>NaN</td>\n",
       "      <td>5</td>\n",
       "    </tr>\n",
       "  </tbody>\n",
       "</table>\n",
       "</div>"
      ],
      "text/plain": [
       "      Case_ID Work_Order_Number           Created_On  \\\n",
       "1  5060815932      WO-012952625  2021-02-03 10:38:00   \n",
       "2  5060815932      WO-012952625  2021-02-03 10:38:00   \n",
       "3  5061272897      WO-013009621  2021-02-09 13:39:00   \n",
       "4  5061272897      WO-013009621  2021-02-09 13:39:00   \n",
       "5  5061278521    WO-013010632-4  2021-06-16 12:17:00   \n",
       "\n",
       "               Service_Account             Due_Date  \\\n",
       "1               William Torres  2021-04-26 15:00:00   \n",
       "2               William Torres  2021-04-26 15:00:00   \n",
       "3  LAS VEGAS METRO POLICE DEPT  2021-02-24 19:00:00   \n",
       "4  LAS VEGAS METRO POLICE DEPT  2021-02-24 19:00:00   \n",
       "5          MR. REGINALD JOSEPH  2021-07-15 14:42:00   \n",
       "\n",
       "       Action_Booking_status          Action_Date Currently_Worked_by  \\\n",
       "1  Additional Parts Required  2021-07-03 11:45:00     Kerby Singleton   \n",
       "2  Additional Parts Required  2021-07-03 11:45:00     Kerby Singleton   \n",
       "3  Additional Parts Required  2021-07-16 15:30:00                 NaN   \n",
       "4  Additional Parts Required  2021-07-16 15:30:00                 NaN   \n",
       "5                 Reschedule  2021-07-15 13:09:00                 NaN   \n",
       "\n",
       "                        Owner                      Product_Line  \\\n",
       "1               Nancy Quesada  Commercial Desktop PC Premium L6   \n",
       "2               Nancy Quesada  Commercial Desktop PC Premium L6   \n",
       "3              Avinash Shukla      Commercial Premium Notebooks   \n",
       "4              Avinash Shukla      Commercial Premium Notebooks   \n",
       "5  JOCILYN ANDREA SANDI DURAN      Commercial Premium Notebooks   \n",
       "\n",
       "  Follow_Up_Reason_Code Response_Time Work_Order_Type Postal_Code  \\\n",
       "1                   NaN           NCD       Break Fix       30305   \n",
       "2                   NaN           NCD       Break Fix       30305   \n",
       "3                   NaN           NCD       Break Fix       89101   \n",
       "4                   NaN           NCD       Break Fix       89101   \n",
       "5                   NaN           NCD       Break Fix       20785   \n",
       "\n",
       "            Active_Booking             Follow_Up_Type Business_Segment  \\\n",
       "1       PC-Kerby Singleton  Additional Parts Required        Computing   \n",
       "2       PC-Kerby Singleton  Additional Parts Required        Computing   \n",
       "3            PC-Joe Walper  Additional Parts Required        Computing   \n",
       "4            PC-Joe Walper  Additional Parts Required        Computing   \n",
       "5  USA-PR-USYWWDWN_E_A_EEG                 Reschedule        Computing   \n",
       "\n",
       "  Follow_Up_Note                                    Reschedule_Note  id  \n",
       "1            NaN                             #NORMAL Part escalated   1  \n",
       "2            NaN  Please cancel backordered part. Customer has c...   2  \n",
       "3            NaN  According to bryan this laptop shows repair co...   3  \n",
       "4            NaN                                    Back order part   4  \n",
       "5            NaN                                                NaN   5  "
      ]
     },
     "metadata": {},
     "output_type": "display_data"
    },
    {
     "name": "stdout",
     "output_type": "stream",
     "text": [
      "--------------------------------------------------\n"
     ]
    },
    {
     "data": {
      "text/html": [
       "<div>\n",
       "<style scoped>\n",
       "    .dataframe tbody tr th:only-of-type {\n",
       "        vertical-align: middle;\n",
       "    }\n",
       "\n",
       "    .dataframe tbody tr th {\n",
       "        vertical-align: top;\n",
       "    }\n",
       "\n",
       "    .dataframe thead th {\n",
       "        text-align: right;\n",
       "    }\n",
       "</style>\n",
       "<table border=\"1\" class=\"dataframe\">\n",
       "  <thead>\n",
       "    <tr style=\"text-align: right;\">\n",
       "      <th></th>\n",
       "      <th>count</th>\n",
       "      <th>mean</th>\n",
       "      <th>std</th>\n",
       "      <th>min</th>\n",
       "      <th>25%</th>\n",
       "      <th>50%</th>\n",
       "      <th>75%</th>\n",
       "      <th>max</th>\n",
       "    </tr>\n",
       "  </thead>\n",
       "  <tbody>\n",
       "    <tr>\n",
       "      <th>id</th>\n",
       "      <td>7039.0</td>\n",
       "      <td>3520.0</td>\n",
       "      <td>2032.128605</td>\n",
       "      <td>1.0</td>\n",
       "      <td>1760.5</td>\n",
       "      <td>3520.0</td>\n",
       "      <td>5279.5</td>\n",
       "      <td>7039.0</td>\n",
       "    </tr>\n",
       "  </tbody>\n",
       "</table>\n",
       "</div>"
      ],
      "text/plain": [
       "     count    mean          std  min     25%     50%     75%     max\n",
       "id  7039.0  3520.0  2032.128605  1.0  1760.5  3520.0  5279.5  7039.0"
      ]
     },
     "metadata": {},
     "output_type": "display_data"
    },
    {
     "name": "stdout",
     "output_type": "stream",
     "text": [
      "--------------------------------------------------\n",
      "<class 'pandas.core.frame.DataFrame'>\n",
      "RangeIndex: 7039 entries, 1 to 7039\n",
      "Data columns (total 20 columns):\n",
      " #   Column                 Non-Null Count  Dtype \n",
      "---  ------                 --------------  ----- \n",
      " 0   Case_ID                7039 non-null   object\n",
      " 1   Work_Order_Number      7039 non-null   object\n",
      " 2   Created_On             7039 non-null   object\n",
      " 3   Service_Account        7038 non-null   object\n",
      " 4   Due_Date               7017 non-null   object\n",
      " 5   Action_Booking_status  4223 non-null   object\n",
      " 6   Action_Date            3408 non-null   object\n",
      " 7   Currently_Worked_by    887 non-null    object\n",
      " 8   Owner                  7039 non-null   object\n",
      " 9   Product_Line           6457 non-null   object\n",
      " 10  Follow_Up_Reason_Code  2864 non-null   object\n",
      " 11  Response_Time          7039 non-null   object\n",
      " 12  Work_Order_Type        7039 non-null   object\n",
      " 13  Postal_Code            7039 non-null   object\n",
      " 14  Active_Booking         7025 non-null   object\n",
      " 15  Follow_Up_Type         7039 non-null   object\n",
      " 16  Business_Segment       7039 non-null   object\n",
      " 17  Follow_Up_Note         3247 non-null   object\n",
      " 18  Reschedule_Note        4738 non-null   object\n",
      " 19  id                     7039 non-null   int64 \n",
      "dtypes: int64(1), object(19)\n",
      "memory usage: 1.1+ MB\n"
     ]
    }
   ],
   "source": [
    "print('-'*50)\n",
    "print(len(df_case))\n",
    "\n",
    "print('-'*50)\n",
    "display(df_case.head(5))\n",
    "\n",
    "print('-'*50)\n",
    "display(df_case.describe().T)\n",
    "\n",
    "print('-'*50)\n",
    "df_case.info()\n",
    "\n"
   ]
  },
  {
   "cell_type": "code",
   "execution_count": 8,
   "id": "a36aeab1",
   "metadata": {
    "ExecuteTime": {
     "end_time": "2021-08-25T00:33:25.602126Z",
     "start_time": "2021-08-25T00:33:25.596364Z"
    }
   },
   "outputs": [
    {
     "name": "stdout",
     "output_type": "stream",
     "text": [
      "Follow_Up_Type\n",
      "Additional Parts Required     1666\n",
      "Onsite Stock Replenishment     376\n",
      "Partner Request Reassign        16\n",
      "Request Reassign              2100\n",
      "Reschedule                     434\n",
      "Revisit                       2447\n",
      "dtype: int64\n"
     ]
    }
   ],
   "source": [
    "print(df_case.groupby(['Follow_Up_Type']).size())"
   ]
  },
  {
   "cell_type": "markdown",
   "id": "d650eb86",
   "metadata": {},
   "source": [
    "### Data Cleaning"
   ]
  },
  {
   "cell_type": "code",
   "execution_count": 9,
   "id": "4c602104",
   "metadata": {
    "ExecuteTime": {
     "end_time": "2021-08-25T00:33:25.668541Z",
     "start_time": "2021-08-25T00:33:25.605068Z"
    }
   },
   "outputs": [
    {
     "name": "stdout",
     "output_type": "stream",
     "text": [
      "6110\n"
     ]
    },
    {
     "data": {
      "text/html": [
       "<div>\n",
       "<style scoped>\n",
       "    .dataframe tbody tr th:only-of-type {\n",
       "        vertical-align: middle;\n",
       "    }\n",
       "\n",
       "    .dataframe tbody tr th {\n",
       "        vertical-align: top;\n",
       "    }\n",
       "\n",
       "    .dataframe thead th {\n",
       "        text-align: right;\n",
       "    }\n",
       "</style>\n",
       "<table border=\"1\" class=\"dataframe\">\n",
       "  <thead>\n",
       "    <tr style=\"text-align: right;\">\n",
       "      <th></th>\n",
       "      <th>Case_ID</th>\n",
       "      <th>Work_Order_Number</th>\n",
       "      <th>Created_On</th>\n",
       "      <th>Service_Account</th>\n",
       "      <th>Due_Date</th>\n",
       "      <th>Action_Booking_status</th>\n",
       "      <th>Action_Date</th>\n",
       "      <th>Currently_Worked_by</th>\n",
       "      <th>Owner</th>\n",
       "      <th>Product_Line</th>\n",
       "      <th>...</th>\n",
       "      <th>Response_Time</th>\n",
       "      <th>Work_Order_Type</th>\n",
       "      <th>Postal_Code</th>\n",
       "      <th>Active_Booking</th>\n",
       "      <th>Follow_Up_Type</th>\n",
       "      <th>Business_Segment</th>\n",
       "      <th>Follow_Up_Note</th>\n",
       "      <th>Reschedule_Note</th>\n",
       "      <th>id</th>\n",
       "      <th>notes</th>\n",
       "    </tr>\n",
       "  </thead>\n",
       "  <tbody>\n",
       "    <tr>\n",
       "      <th>1</th>\n",
       "      <td>5060815932</td>\n",
       "      <td>WO-012952625</td>\n",
       "      <td>2021-02-03 10:38:00</td>\n",
       "      <td>William Torres</td>\n",
       "      <td>2021-04-26 15:00:00</td>\n",
       "      <td>Additional Parts Required</td>\n",
       "      <td>2021-07-03 11:45:00</td>\n",
       "      <td>Kerby Singleton</td>\n",
       "      <td>Nancy Quesada</td>\n",
       "      <td>Commercial Desktop PC Premium L6</td>\n",
       "      <td>...</td>\n",
       "      <td>NCD</td>\n",
       "      <td>Break Fix</td>\n",
       "      <td>30305</td>\n",
       "      <td>PC-Kerby Singleton</td>\n",
       "      <td>Additional Parts Required</td>\n",
       "      <td>Computing</td>\n",
       "      <td>NaN</td>\n",
       "      <td>#NORMAL Part escalated</td>\n",
       "      <td>1</td>\n",
       "      <td>#NORMAL Part escalated</td>\n",
       "    </tr>\n",
       "    <tr>\n",
       "      <th>2</th>\n",
       "      <td>5060815932</td>\n",
       "      <td>WO-012952625</td>\n",
       "      <td>2021-02-03 10:38:00</td>\n",
       "      <td>William Torres</td>\n",
       "      <td>2021-04-26 15:00:00</td>\n",
       "      <td>Additional Parts Required</td>\n",
       "      <td>2021-07-03 11:45:00</td>\n",
       "      <td>Kerby Singleton</td>\n",
       "      <td>Nancy Quesada</td>\n",
       "      <td>Commercial Desktop PC Premium L6</td>\n",
       "      <td>...</td>\n",
       "      <td>NCD</td>\n",
       "      <td>Break Fix</td>\n",
       "      <td>30305</td>\n",
       "      <td>PC-Kerby Singleton</td>\n",
       "      <td>Additional Parts Required</td>\n",
       "      <td>Computing</td>\n",
       "      <td>NaN</td>\n",
       "      <td>Please cancel backordered part. Customer has c...</td>\n",
       "      <td>2</td>\n",
       "      <td>Please cancel backordered part. Customer has c...</td>\n",
       "    </tr>\n",
       "    <tr>\n",
       "      <th>3</th>\n",
       "      <td>5061272897</td>\n",
       "      <td>WO-013009621</td>\n",
       "      <td>2021-02-09 13:39:00</td>\n",
       "      <td>LAS VEGAS METRO POLICE DEPT</td>\n",
       "      <td>2021-02-24 19:00:00</td>\n",
       "      <td>Additional Parts Required</td>\n",
       "      <td>2021-07-16 15:30:00</td>\n",
       "      <td>NaN</td>\n",
       "      <td>Avinash Shukla</td>\n",
       "      <td>Commercial Premium Notebooks</td>\n",
       "      <td>...</td>\n",
       "      <td>NCD</td>\n",
       "      <td>Break Fix</td>\n",
       "      <td>89101</td>\n",
       "      <td>PC-Joe Walper</td>\n",
       "      <td>Additional Parts Required</td>\n",
       "      <td>Computing</td>\n",
       "      <td>NaN</td>\n",
       "      <td>According to bryan this laptop shows repair co...</td>\n",
       "      <td>3</td>\n",
       "      <td>According to bryan this laptop shows repair co...</td>\n",
       "    </tr>\n",
       "    <tr>\n",
       "      <th>4</th>\n",
       "      <td>5061272897</td>\n",
       "      <td>WO-013009621</td>\n",
       "      <td>2021-02-09 13:39:00</td>\n",
       "      <td>LAS VEGAS METRO POLICE DEPT</td>\n",
       "      <td>2021-02-24 19:00:00</td>\n",
       "      <td>Additional Parts Required</td>\n",
       "      <td>2021-07-16 15:30:00</td>\n",
       "      <td>NaN</td>\n",
       "      <td>Avinash Shukla</td>\n",
       "      <td>Commercial Premium Notebooks</td>\n",
       "      <td>...</td>\n",
       "      <td>NCD</td>\n",
       "      <td>Break Fix</td>\n",
       "      <td>89101</td>\n",
       "      <td>PC-Joe Walper</td>\n",
       "      <td>Additional Parts Required</td>\n",
       "      <td>Computing</td>\n",
       "      <td>NaN</td>\n",
       "      <td>Back order part</td>\n",
       "      <td>4</td>\n",
       "      <td>Back order part</td>\n",
       "    </tr>\n",
       "    <tr>\n",
       "      <th>6</th>\n",
       "      <td>5064053283</td>\n",
       "      <td>WO-013536670-2</td>\n",
       "      <td>2021-06-30 11:06:00</td>\n",
       "      <td>Ford Motor Company of Canada</td>\n",
       "      <td>2021-07-02 08:30:00</td>\n",
       "      <td>Request Reassign</td>\n",
       "      <td>2021-07-05 14:45:00</td>\n",
       "      <td>NaN</td>\n",
       "      <td>Gabriel Bustos</td>\n",
       "      <td>A3 Laserjet</td>\n",
       "      <td>...</td>\n",
       "      <td>NCD</td>\n",
       "      <td>IMACD</td>\n",
       "      <td>N9A</td>\n",
       "      <td>Rick Harbarenko</td>\n",
       "      <td>Request Reassign</td>\n",
       "      <td>dMPS</td>\n",
       "      <td>NaN</td>\n",
       "      <td>Please send this case to Corey Harbarenko. Cor...</td>\n",
       "      <td>6</td>\n",
       "      <td>Please send this case to Corey Harbarenko. Cor...</td>\n",
       "    </tr>\n",
       "    <tr>\n",
       "      <th>...</th>\n",
       "      <td>...</td>\n",
       "      <td>...</td>\n",
       "      <td>...</td>\n",
       "      <td>...</td>\n",
       "      <td>...</td>\n",
       "      <td>...</td>\n",
       "      <td>...</td>\n",
       "      <td>...</td>\n",
       "      <td>...</td>\n",
       "      <td>...</td>\n",
       "      <td>...</td>\n",
       "      <td>...</td>\n",
       "      <td>...</td>\n",
       "      <td>...</td>\n",
       "      <td>...</td>\n",
       "      <td>...</td>\n",
       "      <td>...</td>\n",
       "      <td>...</td>\n",
       "      <td>...</td>\n",
       "      <td>...</td>\n",
       "      <td>...</td>\n",
       "    </tr>\n",
       "    <tr>\n",
       "      <th>7035</th>\n",
       "      <td>5069292833</td>\n",
       "      <td>WO-014560602</td>\n",
       "      <td>2021-07-16 16:23:00</td>\n",
       "      <td>Kaiser Foundation Health Plan Inc.</td>\n",
       "      <td>2021-07-19 15:09:00</td>\n",
       "      <td>Additional Parts Required</td>\n",
       "      <td>2021-07-16 16:00:00</td>\n",
       "      <td>NaN</td>\n",
       "      <td>6 CSPAE166</td>\n",
       "      <td>A4 PageWide SMB &amp; Enterprise managed</td>\n",
       "      <td>...</td>\n",
       "      <td>Not available</td>\n",
       "      <td>Break Fix</td>\n",
       "      <td>91786</td>\n",
       "      <td>Anthony Garcia</td>\n",
       "      <td>Additional Parts Required</td>\n",
       "      <td>pMPS</td>\n",
       "      <td>NaN</td>\n",
       "      <td>Please order the following part.  Qty. 1 B5L04...</td>\n",
       "      <td>7035</td>\n",
       "      <td>Please order the following part.  Qty. 1 B5L04...</td>\n",
       "    </tr>\n",
       "    <tr>\n",
       "      <th>7036</th>\n",
       "      <td>5069293232</td>\n",
       "      <td>WO-014560595</td>\n",
       "      <td>2021-07-16 16:21:00</td>\n",
       "      <td>CDW - St. Lukes Hospital (Government)</td>\n",
       "      <td>2021-07-20 16:26:00</td>\n",
       "      <td>Request Reassign</td>\n",
       "      <td>NaN</td>\n",
       "      <td>NaN</td>\n",
       "      <td>1 CSPAE131</td>\n",
       "      <td>A4 Laserjet SMB</td>\n",
       "      <td>...</td>\n",
       "      <td>Not available</td>\n",
       "      <td>Break Fix</td>\n",
       "      <td>55805</td>\n",
       "      <td>Brock Tharp</td>\n",
       "      <td>Request Reassign</td>\n",
       "      <td>pMPS</td>\n",
       "      <td>NaN</td>\n",
       "      <td>Please reassign to lms</td>\n",
       "      <td>7036</td>\n",
       "      <td>Please reassign to lms</td>\n",
       "    </tr>\n",
       "    <tr>\n",
       "      <th>7037</th>\n",
       "      <td>5069293974</td>\n",
       "      <td>WO-014560699</td>\n",
       "      <td>2021-07-16 17:06:00</td>\n",
       "      <td>LITHIA NISSAN OF FRESNO</td>\n",
       "      <td>2021-07-19 18:00:00</td>\n",
       "      <td>Request Reassign</td>\n",
       "      <td>2021-07-19 13:00:00</td>\n",
       "      <td>Aaron Stavinsky</td>\n",
       "      <td>Luis Alejandro Vargas</td>\n",
       "      <td>A4 Laserjet Enterprise</td>\n",
       "      <td>...</td>\n",
       "      <td>NCD</td>\n",
       "      <td>Preventative Maintenance</td>\n",
       "      <td>93710</td>\n",
       "      <td>IS-Aaron Stavinsky</td>\n",
       "      <td>Request Reassign</td>\n",
       "      <td>Printing</td>\n",
       "      <td>NaN</td>\n",
       "      <td>dahlia.garcia@hp.com</td>\n",
       "      <td>7037</td>\n",
       "      <td>dahlia.garcia@hp.com</td>\n",
       "    </tr>\n",
       "    <tr>\n",
       "      <th>7038</th>\n",
       "      <td>5069294340</td>\n",
       "      <td>WO-014560697</td>\n",
       "      <td>2021-07-16 17:04:00</td>\n",
       "      <td>Best Buy co., Inc.</td>\n",
       "      <td>2021-07-20 18:00:00</td>\n",
       "      <td>NaN</td>\n",
       "      <td>NaN</td>\n",
       "      <td>NaN</td>\n",
       "      <td>Subir Das</td>\n",
       "      <td>Retail Solutions Core</td>\n",
       "      <td>...</td>\n",
       "      <td>NCD</td>\n",
       "      <td>Break Fix</td>\n",
       "      <td>95678</td>\n",
       "      <td>PR-David Popadiuc</td>\n",
       "      <td>Revisit</td>\n",
       "      <td>Computing</td>\n",
       "      <td>Please order 842275-001 and have it ship to HF...</td>\n",
       "      <td>NaN</td>\n",
       "      <td>7038</td>\n",
       "      <td>Please order 842275-001 and have it ship to HF...</td>\n",
       "    </tr>\n",
       "    <tr>\n",
       "      <th>7039</th>\n",
       "      <td>5069310370</td>\n",
       "      <td>WO-014563427</td>\n",
       "      <td>2021-07-17 10:26:00</td>\n",
       "      <td>Costco Wholesale Corporation</td>\n",
       "      <td>2021-07-19 16:00:00</td>\n",
       "      <td>Request Reassign</td>\n",
       "      <td>NaN</td>\n",
       "      <td>NaN</td>\n",
       "      <td>7 CSPAE137</td>\n",
       "      <td>NaN</td>\n",
       "      <td>...</td>\n",
       "      <td>Not available</td>\n",
       "      <td>Break Fix</td>\n",
       "      <td>60440</td>\n",
       "      <td>PR-Stephen Sandgren</td>\n",
       "      <td>Request Reassign</td>\n",
       "      <td>dMPS</td>\n",
       "      <td>NaN</td>\n",
       "      <td>I am overbooked now and this is only a diagnos...</td>\n",
       "      <td>7039</td>\n",
       "      <td>I am overbooked now and this is only a diagnos...</td>\n",
       "    </tr>\n",
       "  </tbody>\n",
       "</table>\n",
       "<p>6110 rows × 21 columns</p>\n",
       "</div>"
      ],
      "text/plain": [
       "         Case_ID Work_Order_Number           Created_On  \\\n",
       "1     5060815932      WO-012952625  2021-02-03 10:38:00   \n",
       "2     5060815932      WO-012952625  2021-02-03 10:38:00   \n",
       "3     5061272897      WO-013009621  2021-02-09 13:39:00   \n",
       "4     5061272897      WO-013009621  2021-02-09 13:39:00   \n",
       "6     5064053283    WO-013536670-2  2021-06-30 11:06:00   \n",
       "...          ...               ...                  ...   \n",
       "7035  5069292833      WO-014560602  2021-07-16 16:23:00   \n",
       "7036  5069293232      WO-014560595  2021-07-16 16:21:00   \n",
       "7037  5069293974      WO-014560699  2021-07-16 17:06:00   \n",
       "7038  5069294340      WO-014560697  2021-07-16 17:04:00   \n",
       "7039  5069310370      WO-014563427  2021-07-17 10:26:00   \n",
       "\n",
       "                            Service_Account             Due_Date  \\\n",
       "1                            William Torres  2021-04-26 15:00:00   \n",
       "2                            William Torres  2021-04-26 15:00:00   \n",
       "3               LAS VEGAS METRO POLICE DEPT  2021-02-24 19:00:00   \n",
       "4               LAS VEGAS METRO POLICE DEPT  2021-02-24 19:00:00   \n",
       "6              Ford Motor Company of Canada  2021-07-02 08:30:00   \n",
       "...                                     ...                  ...   \n",
       "7035     Kaiser Foundation Health Plan Inc.  2021-07-19 15:09:00   \n",
       "7036  CDW - St. Lukes Hospital (Government)  2021-07-20 16:26:00   \n",
       "7037                LITHIA NISSAN OF FRESNO  2021-07-19 18:00:00   \n",
       "7038                     Best Buy co., Inc.  2021-07-20 18:00:00   \n",
       "7039           Costco Wholesale Corporation  2021-07-19 16:00:00   \n",
       "\n",
       "          Action_Booking_status          Action_Date Currently_Worked_by  \\\n",
       "1     Additional Parts Required  2021-07-03 11:45:00     Kerby Singleton   \n",
       "2     Additional Parts Required  2021-07-03 11:45:00     Kerby Singleton   \n",
       "3     Additional Parts Required  2021-07-16 15:30:00                 NaN   \n",
       "4     Additional Parts Required  2021-07-16 15:30:00                 NaN   \n",
       "6              Request Reassign  2021-07-05 14:45:00                 NaN   \n",
       "...                         ...                  ...                 ...   \n",
       "7035  Additional Parts Required  2021-07-16 16:00:00                 NaN   \n",
       "7036           Request Reassign                  NaN                 NaN   \n",
       "7037           Request Reassign  2021-07-19 13:00:00     Aaron Stavinsky   \n",
       "7038                        NaN                  NaN                 NaN   \n",
       "7039           Request Reassign                  NaN                 NaN   \n",
       "\n",
       "                      Owner                          Product_Line  ...  \\\n",
       "1             Nancy Quesada      Commercial Desktop PC Premium L6  ...   \n",
       "2             Nancy Quesada      Commercial Desktop PC Premium L6  ...   \n",
       "3            Avinash Shukla          Commercial Premium Notebooks  ...   \n",
       "4            Avinash Shukla          Commercial Premium Notebooks  ...   \n",
       "6            Gabriel Bustos                           A3 Laserjet  ...   \n",
       "...                     ...                                   ...  ...   \n",
       "7035             6 CSPAE166  A4 PageWide SMB & Enterprise managed  ...   \n",
       "7036             1 CSPAE131                       A4 Laserjet SMB  ...   \n",
       "7037  Luis Alejandro Vargas                A4 Laserjet Enterprise  ...   \n",
       "7038              Subir Das                 Retail Solutions Core  ...   \n",
       "7039             7 CSPAE137                                   NaN  ...   \n",
       "\n",
       "      Response_Time           Work_Order_Type Postal_Code  \\\n",
       "1               NCD                 Break Fix       30305   \n",
       "2               NCD                 Break Fix       30305   \n",
       "3               NCD                 Break Fix       89101   \n",
       "4               NCD                 Break Fix       89101   \n",
       "6               NCD                     IMACD         N9A   \n",
       "...             ...                       ...         ...   \n",
       "7035  Not available                 Break Fix       91786   \n",
       "7036  Not available                 Break Fix       55805   \n",
       "7037            NCD  Preventative Maintenance       93710   \n",
       "7038            NCD                 Break Fix       95678   \n",
       "7039  Not available                 Break Fix       60440   \n",
       "\n",
       "           Active_Booking             Follow_Up_Type Business_Segment  \\\n",
       "1      PC-Kerby Singleton  Additional Parts Required        Computing   \n",
       "2      PC-Kerby Singleton  Additional Parts Required        Computing   \n",
       "3           PC-Joe Walper  Additional Parts Required        Computing   \n",
       "4           PC-Joe Walper  Additional Parts Required        Computing   \n",
       "6         Rick Harbarenko           Request Reassign             dMPS   \n",
       "...                   ...                        ...              ...   \n",
       "7035       Anthony Garcia  Additional Parts Required             pMPS   \n",
       "7036          Brock Tharp           Request Reassign             pMPS   \n",
       "7037   IS-Aaron Stavinsky           Request Reassign         Printing   \n",
       "7038    PR-David Popadiuc                    Revisit        Computing   \n",
       "7039  PR-Stephen Sandgren           Request Reassign             dMPS   \n",
       "\n",
       "                                         Follow_Up_Note  \\\n",
       "1                                                   NaN   \n",
       "2                                                   NaN   \n",
       "3                                                   NaN   \n",
       "4                                                   NaN   \n",
       "6                                                   NaN   \n",
       "...                                                 ...   \n",
       "7035                                                NaN   \n",
       "7036                                                NaN   \n",
       "7037                                                NaN   \n",
       "7038  Please order 842275-001 and have it ship to HF...   \n",
       "7039                                                NaN   \n",
       "\n",
       "                                        Reschedule_Note    id  \\\n",
       "1                                #NORMAL Part escalated     1   \n",
       "2     Please cancel backordered part. Customer has c...     2   \n",
       "3     According to bryan this laptop shows repair co...     3   \n",
       "4                                       Back order part     4   \n",
       "6     Please send this case to Corey Harbarenko. Cor...     6   \n",
       "...                                                 ...   ...   \n",
       "7035  Please order the following part.  Qty. 1 B5L04...  7035   \n",
       "7036                             Please reassign to lms  7036   \n",
       "7037                               dahlia.garcia@hp.com  7037   \n",
       "7038                                                NaN  7038   \n",
       "7039  I am overbooked now and this is only a diagnos...  7039   \n",
       "\n",
       "                                                  notes  \n",
       "1                                #NORMAL Part escalated  \n",
       "2     Please cancel backordered part. Customer has c...  \n",
       "3     According to bryan this laptop shows repair co...  \n",
       "4                                       Back order part  \n",
       "6     Please send this case to Corey Harbarenko. Cor...  \n",
       "...                                                 ...  \n",
       "7035  Please order the following part.  Qty. 1 B5L04...  \n",
       "7036                             Please reassign to lms  \n",
       "7037                               dahlia.garcia@hp.com  \n",
       "7038  Please order 842275-001 and have it ship to HF...  \n",
       "7039  I am overbooked now and this is only a diagnos...  \n",
       "\n",
       "[6110 rows x 21 columns]"
      ]
     },
     "execution_count": 9,
     "metadata": {},
     "output_type": "execute_result"
    }
   ],
   "source": [
    "def filter_out_note_na(df):\n",
    "    df_filter = df.loc[(df.Follow_Up_Note.notna()) | (df.Reschedule_Note.notna())].copy()\n",
    "    return df_filter\n",
    "\n",
    "df_train_test = filter_out_note_na(df_case)\n",
    "print(len(df_train_test))\n",
    "\n",
    "# df_train_test['notes'] = [('' if pd.isna(fun) else fun)  + ('' if pd.isna(crn) else ' | ' + crn)\n",
    "#                           for fun, crn in zip(df_train_test.Follow_Up_Note, df_train_test.Reschedule_Note)] \n",
    "df_train_test['notes'] = [(crn if pd.isna(fun) else (fun if pd.isna(crn) else fun + '.' + crn))\n",
    "                          for fun, crn in zip(df_train_test.Follow_Up_Note, df_train_test.Reschedule_Note)] \n",
    "df_train_test"
   ]
  },
  {
   "cell_type": "code",
   "execution_count": 10,
   "id": "21b25860",
   "metadata": {
    "ExecuteTime": {
     "end_time": "2021-08-25T00:33:25.676050Z",
     "start_time": "2021-08-25T00:33:25.670770Z"
    }
   },
   "outputs": [
    {
     "name": "stdout",
     "output_type": "stream",
     "text": [
      "Follow_Up_Type\n",
      "Additional Parts Required     1579\n",
      "Onsite Stock Replenishment     375\n",
      "Partner Request Reassign        13\n",
      "Request Reassign              1737\n",
      "Reschedule                     136\n",
      "Revisit                       2270\n",
      "dtype: int64\n"
     ]
    }
   ],
   "source": [
    "print(df_train_test.groupby(['Follow_Up_Type']).size())"
   ]
  },
  {
   "cell_type": "markdown",
   "id": "53fd32c6",
   "metadata": {},
   "source": [
    "### Generate NER Label"
   ]
  },
  {
   "cell_type": "code",
   "execution_count": 11,
   "id": "fb1978e4",
   "metadata": {
    "ExecuteTime": {
     "end_time": "2021-08-25T00:33:25.685202Z",
     "start_time": "2021-08-25T00:33:25.678211Z"
    }
   },
   "outputs": [],
   "source": [
    "def standardize_text1(text):\n",
    "    text = text.strip().lower()\n",
    "    # add space between punctuation\n",
    "    text = re.sub(r'([.\\\\!?,\\'()\\[\\]\"|;])', r' \\1 ', text)\n",
    "#     # remove characters except for English letters and some punctuations\n",
    "#     text = re.sub(r\"[^A-Za-z\\.\\-\\?\\!\\,\\#\\@\\% ]\", \"\", text)\n",
    "    # remove extra spaces\n",
    "    text = re.sub(r'[\" \"]+', \" \", text)\n",
    "    return text"
   ]
  },
  {
   "cell_type": "code",
   "execution_count": 12,
   "id": "c3c68a0a",
   "metadata": {
    "ExecuteTime": {
     "end_time": "2021-08-25T00:33:26.961739Z",
     "start_time": "2021-08-25T00:33:25.687413Z"
    }
   },
   "outputs": [],
   "source": [
    "nlp = spacy.load(\"en_core_web_sm\")\n",
    "notes = [standardize_text1(note) for note in df_train_test.notes]\n",
    "docs = nlp.pipe(notes)"
   ]
  },
  {
   "cell_type": "code",
   "execution_count": 13,
   "id": "76cf8946",
   "metadata": {
    "ExecuteTime": {
     "end_time": "2021-08-25T00:33:27.001493Z",
     "start_time": "2021-08-25T00:33:26.964089Z"
    }
   },
   "outputs": [
    {
     "data": {
      "text/html": [
       "<div>\n",
       "<style scoped>\n",
       "    .dataframe tbody tr th:only-of-type {\n",
       "        vertical-align: middle;\n",
       "    }\n",
       "\n",
       "    .dataframe tbody tr th {\n",
       "        vertical-align: top;\n",
       "    }\n",
       "\n",
       "    .dataframe thead th {\n",
       "        text-align: right;\n",
       "    }\n",
       "</style>\n",
       "<table border=\"1\" class=\"dataframe\">\n",
       "  <thead>\n",
       "    <tr style=\"text-align: right;\">\n",
       "      <th></th>\n",
       "      <th>Case_ID</th>\n",
       "      <th>Work_Order_Number</th>\n",
       "      <th>Created_On</th>\n",
       "      <th>Service_Account</th>\n",
       "      <th>Due_Date</th>\n",
       "      <th>Action_Booking_status</th>\n",
       "      <th>Action_Date</th>\n",
       "      <th>Currently_Worked_by</th>\n",
       "      <th>Owner</th>\n",
       "      <th>Product_Line</th>\n",
       "      <th>...</th>\n",
       "      <th>Response_Time</th>\n",
       "      <th>Work_Order_Type</th>\n",
       "      <th>Postal_Code</th>\n",
       "      <th>Active_Booking</th>\n",
       "      <th>Follow_Up_Type</th>\n",
       "      <th>Business_Segment</th>\n",
       "      <th>Follow_Up_Note</th>\n",
       "      <th>Reschedule_Note</th>\n",
       "      <th>id</th>\n",
       "      <th>notes</th>\n",
       "    </tr>\n",
       "  </thead>\n",
       "  <tbody>\n",
       "    <tr>\n",
       "      <th>21</th>\n",
       "      <td>5065852054</td>\n",
       "      <td>WO-013865844-1</td>\n",
       "      <td>2021-07-02 14:10:00</td>\n",
       "      <td>KAISER PERMANENTE</td>\n",
       "      <td>2021-07-16 18:00:00</td>\n",
       "      <td>NaN</td>\n",
       "      <td>NaN</td>\n",
       "      <td>Ryan Bartoli</td>\n",
       "      <td>Ezequiel Jara Corao</td>\n",
       "      <td>Detachables</td>\n",
       "      <td>...</td>\n",
       "      <td>NCD</td>\n",
       "      <td>Break Fix</td>\n",
       "      <td>94553</td>\n",
       "      <td>CT-Ryan Bartoli</td>\n",
       "      <td>Revisit</td>\n",
       "      <td>Computing</td>\n",
       "      <td>Please create a revisit for Wednesday</td>\n",
       "      <td>#NORMAL Please order part # L51580-001 and L31...</td>\n",
       "      <td>21</td>\n",
       "      <td>Please create a revisit for Wednesday.#NORMAL ...</td>\n",
       "    </tr>\n",
       "    <tr>\n",
       "      <th>29</th>\n",
       "      <td>5066093878</td>\n",
       "      <td>WO-013910857</td>\n",
       "      <td>2021-05-14 17:16:00</td>\n",
       "      <td>AMD</td>\n",
       "      <td>2021-07-02 17:00:00</td>\n",
       "      <td>NaN</td>\n",
       "      <td>NaN</td>\n",
       "      <td>NaN</td>\n",
       "      <td>JORGE DANIEL BENAVIDEZ AVILA</td>\n",
       "      <td>Commercial Premium Notebooks</td>\n",
       "      <td>...</td>\n",
       "      <td>NCD</td>\n",
       "      <td>Break Fix</td>\n",
       "      <td>78735</td>\n",
       "      <td>PR-Rob Silcocks</td>\n",
       "      <td>Revisit</td>\n",
       "      <td>Computing</td>\n",
       "      <td>Please order battery  933321-855 ship to UPS H...</td>\n",
       "      <td>Please reassign to Rob Silcocks</td>\n",
       "      <td>29</td>\n",
       "      <td>Please order battery  933321-855 ship to UPS H...</td>\n",
       "    </tr>\n",
       "    <tr>\n",
       "      <th>2978</th>\n",
       "      <td>5068832635</td>\n",
       "      <td>WO-014466680</td>\n",
       "      <td>2021-07-08 10:24:00</td>\n",
       "      <td>Jabil circuit Inc</td>\n",
       "      <td>2021-07-09 17:00:00</td>\n",
       "      <td>Additional Parts Required</td>\n",
       "      <td>2021-07-15 08:00:00</td>\n",
       "      <td>NaN</td>\n",
       "      <td>7 CSPAE147</td>\n",
       "      <td>Large Format Design Pagewide XL HW</td>\n",
       "      <td>...</td>\n",
       "      <td>NCD</td>\n",
       "      <td>Break Fix</td>\n",
       "      <td>87106</td>\n",
       "      <td>PR-Isaac Lucero</td>\n",
       "      <td>Additional Parts Required</td>\n",
       "      <td>dMPS</td>\n",
       "      <td>NaN</td>\n",
       "      <td>Per L2 please order: 2YB64-67005, 2YB64-67003 ...</td>\n",
       "      <td>2978</td>\n",
       "      <td>Per L2 please order: 2YB64-67005, 2YB64-67003 ...</td>\n",
       "    </tr>\n",
       "    <tr>\n",
       "      <th>3025</th>\n",
       "      <td>5068836700</td>\n",
       "      <td>WO-014466875</td>\n",
       "      <td>2021-07-08 10:49:00</td>\n",
       "      <td>Border Patrol and Customs</td>\n",
       "      <td>2021-07-14 16:00:00</td>\n",
       "      <td>NaN</td>\n",
       "      <td>NaN</td>\n",
       "      <td>NaN</td>\n",
       "      <td>Abu Ambia</td>\n",
       "      <td>Large Format Design HW</td>\n",
       "      <td>...</td>\n",
       "      <td>NCD</td>\n",
       "      <td>Break Fix</td>\n",
       "      <td>79925</td>\n",
       "      <td>PR-Manuel Bailon</td>\n",
       "      <td>Revisit</td>\n",
       "      <td>Printing</td>\n",
       "      <td>Please create a revisite for 7-16-2021 at 1300...</td>\n",
       "      <td>NaN</td>\n",
       "      <td>3025</td>\n",
       "      <td>Please create a revisite for 7-16-2021 at 1300...</td>\n",
       "    </tr>\n",
       "    <tr>\n",
       "      <th>3026</th>\n",
       "      <td>5068836700</td>\n",
       "      <td>WO-014466875-1</td>\n",
       "      <td>2021-07-14 15:01:00</td>\n",
       "      <td>Border Patrol and Customs</td>\n",
       "      <td>2021-07-16 16:00:00</td>\n",
       "      <td>NaN</td>\n",
       "      <td>NaN</td>\n",
       "      <td>NaN</td>\n",
       "      <td>Lisbeth Alejandra Sibaja</td>\n",
       "      <td>Large Format Design HW</td>\n",
       "      <td>...</td>\n",
       "      <td>NCD</td>\n",
       "      <td>Break Fix</td>\n",
       "      <td>79925</td>\n",
       "      <td>PR-Manuel Bailon</td>\n",
       "      <td>Revisit</td>\n",
       "      <td>Printing</td>\n",
       "      <td>Please create a revisite for 7-23-2021 for pri...</td>\n",
       "      <td>NaN</td>\n",
       "      <td>3026</td>\n",
       "      <td>Please create a revisite for 7-23-2021 for pri...</td>\n",
       "    </tr>\n",
       "  </tbody>\n",
       "</table>\n",
       "<p>5 rows × 21 columns</p>\n",
       "</div>"
      ],
      "text/plain": [
       "         Case_ID Work_Order_Number           Created_On  \\\n",
       "21    5065852054    WO-013865844-1  2021-07-02 14:10:00   \n",
       "29    5066093878      WO-013910857  2021-05-14 17:16:00   \n",
       "2978  5068832635      WO-014466680  2021-07-08 10:24:00   \n",
       "3025  5068836700      WO-014466875  2021-07-08 10:49:00   \n",
       "3026  5068836700    WO-014466875-1  2021-07-14 15:01:00   \n",
       "\n",
       "                Service_Account             Due_Date  \\\n",
       "21            KAISER PERMANENTE  2021-07-16 18:00:00   \n",
       "29                          AMD  2021-07-02 17:00:00   \n",
       "2978          Jabil circuit Inc  2021-07-09 17:00:00   \n",
       "3025  Border Patrol and Customs  2021-07-14 16:00:00   \n",
       "3026  Border Patrol and Customs  2021-07-16 16:00:00   \n",
       "\n",
       "          Action_Booking_status          Action_Date Currently_Worked_by  \\\n",
       "21                          NaN                  NaN        Ryan Bartoli   \n",
       "29                          NaN                  NaN                 NaN   \n",
       "2978  Additional Parts Required  2021-07-15 08:00:00                 NaN   \n",
       "3025                        NaN                  NaN                 NaN   \n",
       "3026                        NaN                  NaN                 NaN   \n",
       "\n",
       "                             Owner                        Product_Line  ...  \\\n",
       "21             Ezequiel Jara Corao                         Detachables  ...   \n",
       "29    JORGE DANIEL BENAVIDEZ AVILA        Commercial Premium Notebooks  ...   \n",
       "2978                    7 CSPAE147  Large Format Design Pagewide XL HW  ...   \n",
       "3025                     Abu Ambia              Large Format Design HW  ...   \n",
       "3026      Lisbeth Alejandra Sibaja              Large Format Design HW  ...   \n",
       "\n",
       "     Response_Time Work_Order_Type Postal_Code    Active_Booking  \\\n",
       "21             NCD       Break Fix       94553   CT-Ryan Bartoli   \n",
       "29             NCD       Break Fix       78735   PR-Rob Silcocks   \n",
       "2978           NCD       Break Fix       87106   PR-Isaac Lucero   \n",
       "3025           NCD       Break Fix       79925  PR-Manuel Bailon   \n",
       "3026           NCD       Break Fix       79925  PR-Manuel Bailon   \n",
       "\n",
       "                 Follow_Up_Type Business_Segment  \\\n",
       "21                      Revisit        Computing   \n",
       "29                      Revisit        Computing   \n",
       "2978  Additional Parts Required             dMPS   \n",
       "3025                    Revisit         Printing   \n",
       "3026                    Revisit         Printing   \n",
       "\n",
       "                                         Follow_Up_Note  \\\n",
       "21                Please create a revisit for Wednesday   \n",
       "29    Please order battery  933321-855 ship to UPS H...   \n",
       "2978                                                NaN   \n",
       "3025  Please create a revisite for 7-16-2021 at 1300...   \n",
       "3026  Please create a revisite for 7-23-2021 for pri...   \n",
       "\n",
       "                                        Reschedule_Note    id  \\\n",
       "21    #NORMAL Please order part # L51580-001 and L31...    21   \n",
       "29                      Please reassign to Rob Silcocks    29   \n",
       "2978  Per L2 please order: 2YB64-67005, 2YB64-67003 ...  2978   \n",
       "3025                                                NaN  3025   \n",
       "3026                                                NaN  3026   \n",
       "\n",
       "                                                  notes  \n",
       "21    Please create a revisit for Wednesday.#NORMAL ...  \n",
       "29    Please order battery  933321-855 ship to UPS H...  \n",
       "2978  Per L2 please order: 2YB64-67005, 2YB64-67003 ...  \n",
       "3025  Please create a revisite for 7-16-2021 at 1300...  \n",
       "3026  Please create a revisite for 7-23-2021 for pri...  \n",
       "\n",
       "[5 rows x 21 columns]"
      ]
     },
     "execution_count": 13,
     "metadata": {},
     "output_type": "execute_result"
    }
   ],
   "source": [
    "def get_samples(df):\n",
    "    df_filter = df.loc[(df.Work_Order_Number=='WO-013865844-1') | \n",
    "                       (df.Work_Order_Number=='WO-013910857') |\n",
    "                       (df.Work_Order_Number=='WO-014466680') |\n",
    "                       (df.Work_Order_Number=='WO-014466875') |\n",
    "                       (df.Work_Order_Number=='WO-014466875-1') \n",
    "                      ].copy()\n",
    "    return df_filter\n",
    "\n",
    "df_sample = get_samples(df_train_test)\n",
    "df_sample"
   ]
  },
  {
   "cell_type": "code",
   "execution_count": 14,
   "id": "4655facd",
   "metadata": {
    "ExecuteTime": {
     "end_time": "2021-08-25T00:33:27.042309Z",
     "start_time": "2021-08-25T00:33:27.003654Z"
    }
   },
   "outputs": [
    {
     "name": "stdout",
     "output_type": "stream",
     "text": [
      "--------------------------------------------------\n",
      "please create a revisit for wednesday . #normal please order part # l51580-001 and l31365-001 to concord , california hal setting up time to meet with customer . \n",
      "[('please', 'INTJ'), ('create', 'VERB'), ('a', 'DET'), ('revisit', 'NOUN'), ('for', 'ADP'), ('wednesday', 'PROPN'), ('.', 'PUNCT'), ('#', 'NOUN'), ('normal', 'ADJ'), ('please', 'INTJ'), ('order', 'VERB'), ('part', 'NOUN'), ('#', 'SYM'), ('l51580', 'PROPN'), ('-', 'PUNCT'), ('001', 'NUM'), ('and', 'CCONJ'), ('l31365', 'NOUN'), ('-', 'PUNCT'), ('001', 'NUM'), ('to', 'ADP'), ('concord', 'PROPN'), (',', 'PUNCT'), ('california', 'PROPN'), ('hal', 'NOUN'), ('setting', 'VERB'), ('up', 'ADP'), ('time', 'NOUN'), ('to', 'PART'), ('meet', 'VERB'), ('with', 'ADP'), ('customer', 'NOUN'), ('.', 'PUNCT')]\n",
      "[('wednesday', 'DATE'), ('# l51580-001', 'MONEY'), ('concord', 'GPE'), ('california', 'GPE')]\n",
      "--------------------------------------------------\n",
      "please order battery 933321-855 ship to ups hold for pickup , tuscany way , austin . . please reassign to rob silcocks\n",
      "[('please', 'INTJ'), ('order', 'VERB'), ('battery', 'NOUN'), ('933321', 'NUM'), ('-', 'SYM'), ('855', 'NUM'), ('ship', 'NOUN'), ('to', 'ADP'), ('ups', 'NOUN'), ('hold', 'NOUN'), ('for', 'ADP'), ('pickup', 'NOUN'), (',', 'PUNCT'), ('tuscany', 'ADJ'), ('way', 'NOUN'), (',', 'PUNCT'), ('austin', 'PROPN'), ('.', 'PUNCT'), ('.', 'PUNCT'), ('please', 'INTJ'), ('reassign', 'VERB'), ('to', 'PART'), ('rob', 'VERB'), ('silcocks', 'NOUN')]\n",
      "[('933321', 'CARDINAL'), ('austin', 'GPE')]\n",
      "--------------------------------------------------\n",
      "per l2 please order: 2yb64-67005 , 2yb64-67003 xl3600 , 6kd23-67021 xl3600 , 6kd23-67030 , and two 2yb64-67002\n",
      "[('per', 'ADP'), ('l2', 'NOUN'), ('please', 'INTJ'), ('order', 'NOUN'), (':', 'PUNCT'), ('2yb64', 'PROPN'), ('-', 'PUNCT'), ('67005', 'NUM'), (',', 'PUNCT'), ('2yb64', 'PROPN'), ('-', 'PUNCT'), ('67003', 'NUM'), ('xl3600', 'PROPN'), (',', 'PUNCT'), ('6kd23', 'PROPN'), ('-', 'PUNCT'), ('67021', 'NUM'), ('xl3600', 'PROPN'), (',', 'PUNCT'), ('6kd23', 'PROPN'), ('-', 'PUNCT'), ('67030', 'PROPN'), (',', 'PUNCT'), ('and', 'CCONJ'), ('two', 'NUM'), ('2yb64', 'PROPN'), ('-', 'PUNCT'), ('67002', 'NUM')]\n",
      "[('l2', 'ORG'), ('2yb64-67005', 'CARDINAL'), ('2yb64-67003', 'CARDINAL'), ('6kd23-67030', 'DATE'), ('two', 'CARDINAL'), ('2yb64-67002', 'CARDINAL')]\n",
      "--------------------------------------------------\n",
      "please create a revisite for 7-16-2021 at 1300 order part number q5669-60687 please order 2 q6683-67001 t8w18-67001 ship to el paso texas for hfpu\n",
      "[('please', 'INTJ'), ('create', 'VERB'), ('a', 'DET'), ('revisite', 'NOUN'), ('for', 'ADP'), ('7', 'NUM'), ('-', 'SYM'), ('16', 'NUM'), ('-', 'PUNCT'), ('2021', 'NUM'), ('at', 'ADP'), ('1300', 'NUM'), ('order', 'NOUN'), ('part', 'NOUN'), ('number', 'NOUN'), ('q5669', 'NUM'), ('-', 'PUNCT'), ('60687', 'NUM'), ('please', 'INTJ'), ('order', 'VERB'), ('2', 'NUM'), ('q6683', 'NOUN'), ('-', 'PUNCT'), ('67001', 'NUM'), ('t8w18', 'NUM'), ('-', 'PUNCT'), ('67001', 'NUM'), ('ship', 'NOUN'), ('to', 'ADP'), ('el', 'PROPN'), ('paso', 'PROPN'), ('texas', 'PROPN'), ('for', 'ADP'), ('hfpu', 'NOUN')]\n",
      "[('7-16-2021', 'DATE'), ('1300', 'DATE'), ('2', 'CARDINAL'), ('el paso', 'GPE'), ('texas', 'GPE')]\n",
      "--------------------------------------------------\n",
      "please create a revisite for 7-23-2021 for printheads replacement . customer will order\n",
      "[('please', 'INTJ'), ('create', 'VERB'), ('a', 'DET'), ('revisite', 'NOUN'), ('for', 'ADP'), ('7', 'NUM'), ('-', 'SYM'), ('23', 'NUM'), ('-', 'PUNCT'), ('2021', 'NUM'), ('for', 'ADP'), ('printheads', 'NOUN'), ('replacement', 'NOUN'), ('.', 'PUNCT'), ('customer', 'NOUN'), ('will', 'AUX'), ('order', 'VERB')]\n",
      "[('7-23-2021', 'CARDINAL')]\n"
     ]
    }
   ],
   "source": [
    "\n",
    "sample_notes = [standardize_text1(note) for note in df_sample.notes]\n",
    "sampel_docs = nlp.pipe(sample_notes)\n",
    "for i, doc in enumerate(sampel_docs):\n",
    "    print('-'*50)\n",
    "    print(doc.text)\n",
    "    print([(token.text, token.pos_) for token in doc])\n",
    "    print([(ent.text, ent.label_) for ent in doc.ents]) "
   ]
  },
  {
   "cell_type": "code",
   "execution_count": 15,
   "id": "734670e0",
   "metadata": {
    "ExecuteTime": {
     "end_time": "2021-08-25T00:33:27.093422Z",
     "start_time": "2021-08-25T00:33:27.044963Z"
    }
   },
   "outputs": [],
   "source": [
    "patterns = [\n",
    " {'expression': r'[a-zA-Z]\\d\\d\\d\\d\\d-\\d\\d\\d', 'label': 'PART_NUM'}, \n",
    " {'expression': r'\\d\\d\\d\\d\\d\\d-\\d\\d\\d', 'label': 'PART_NUM'}, \n",
    " {'expression': r'[a-zA-Z]\\d\\d\\d\\d\\d-[a-zA-Z]\\d\\d', 'label': 'PART_NUM'}, \n",
    " {'expression': r'\\d\\d\\d\\d\\d\\d-[a-zA-Z][a-zA-Z]\\d', 'label': 'PART_NUM'}, \n",
    " {'expression': r'\\d\\d\\d\\d\\d\\d-\\d[a-zA-Z]\\d', 'label': 'PART_NUM'}, \n",
    " {'expression': r'\\d\\d\\d\\d\\d\\d-[a-zA-Z][a-zA-Z][a-zA-Z]', 'label': 'PART_NUM'}, \n",
    " {'expression': r'[a-zA-Z]\\d\\d\\d\\d\\d-[a-zA-Z][a-zA-Z]\\d', 'label': 'PART_NUM'}, \n",
    " {'expression': r'\\d\\d\\d\\d\\d\\d-[a-zA-Z]\\d\\d', 'label': 'PART_NUM'}, \n",
    " {'expression': r'[a-zA-Z][a-zA-Z]-\\d\\d\\d\\d\\d-\\d\\d', 'label': 'PART_NUM'}, \n",
    " {'expression': r'[a-zA-Z][a-zA-Z]\\d-\\d\\d\\d\\d-\\d\\d\\d[a-zA-Z][a-zA-Z]', 'label': 'PART_NUM'}, \n",
    " {'expression': r'\\d\\d\\d\\d-\\d\\d\\d\\d', 'label': 'PART_NUM'}, \n",
    " {'expression': r'\\d\\d\\d\\d-\\d\\d\\d\\d-\\d', 'label': 'PART_NUM'}, \n",
    " {'expression': r'\\d[a-zA-Z][a-zA-Z]\\d\\d-\\d\\d\\d\\d\\d', 'label': 'PART_NUM'}, \n",
    " {'expression': r'[a-zA-Z]\\d[a-zA-Z]\\d\\d-\\d\\d\\d\\d\\d', 'label': 'PART_NUM'}, \n",
    " {'expression': r'\\d\\d\\d\\d\\d-\\d\\d\\d\\d\\d', 'label': 'PART_NUM'}, \n",
    " {'expression': r'[a-zA-Z]\\d\\d\\d\\d-\\d\\d\\d\\d\\d', 'label': 'PART_NUM'}, \n",
    " {'expression': r'[a-zA-Z]\\d\\d\\d\\d\\d-[a-zA-Z][a-zA-Z]\\d', 'label': 'PART_NUM'}, \n",
    " {'expression': r'\\d\\d\\d\\d\\d\\d-\\d\\d\\d[a-zA-Z]', 'label': 'PART_NUM'}, \n",
    " {'expression': r'[a-zA-Z][a-zA-Z]\\d\\d\\d-\\d\\d\\d\\d\\d', 'label': 'PART_NUM'}, \n",
    " {'expression': r'[a-zA-Z][a-zA-Z]\\d-\\d\\d\\d\\d[a-zA-Z][a-zA-Z][a-zA-Z][a-zA-Z]', 'label': 'PART_NUM'}, \n",
    " {'expression': r'\\d-\\d\\d\\d-\\d\\d\\d-\\d\\d', 'label': 'PART_NUM'}, \n",
    " {'expression': r'[a-zA-Z]-\\d\\d\\d\\d-\\d\\d\\d-\\d', 'label': 'PART_NUM'}, \n",
    " {'expression': r'[a-zA-Z][a-zA-Z][a-zA-Z][a-zA-Z]\\d\\d\\d\\d-[a-zA-Z]\\d\\d', 'label': 'PART_NUM'}, \n",
    " {'expression': r'\\d\\d\\d\\d-\\d\\d\\d-\\d\\d\\d\\d\\d', 'label': 'PART_NUM'}, \n",
    " {'expression': r'\\d\\d-\\d\\d\\d\\d[a-zA-Z]-\\d\\d[a-zA-Z]', 'label': 'PART_NUM'}, \n",
    " {'expression': r'\\d\\d-\\d\\d\\d\\d\\d-\\d\\d\\d', 'label': 'PART_NUM'}, \n",
    " {'expression': r'[a-zA-Z][a-zA-Z][a-zA-Z]\\d\\d\\d\\d\\d-\\d\\d\\d\\d\\d', 'label': 'PART_NUM'}, \n",
    " {'expression': r'\\d\\d\\d\\d\\d-\\d\\d\\d\\d\\d-[a-zA-Z][a-zA-Z]', 'label': 'PART_NUM'}, \n",
    " {'expression': r'\\d\\d\\d-\\d\\d\\d\\d\\d\\d[a-zA-Z][a-zA-Z]', 'label': 'PART_NUM'}, \n",
    " {'expression': r'\\d\\d\\d-\\d\\d\\d-\\d\\d', 'label': 'PART_NUM'}, \n",
    " {'expression': r'\\d[a-zA-Z][a-zA-Z]\\d-\\d\\d\\d\\d', 'label': 'PART_NUM'}, \n",
    " {'expression': r'\\d\\d\\d\\d-\\d\\d\\d\\d-[a-zA-Z][a-zA-Z][a-zA-Z][a-zA-Z]', 'label': 'PART_NUM'}, \n",
    " {'expression': r'\\d\\d\\d\\d-\\d\\d\\d\\d[a-zA-Z]', 'label': 'PART_NUM'}, \n",
    " {'expression': r'\\d\\d\\d\\d-\\d\\d\\d\\d-[a-zA-Z][a-zA-Z][a-zA-Z]', 'label': 'PART_NUM'}, \n",
    " {'expression': r'\\d\\d\\d\\d-\\d\\d\\d-\\d\\d\\d\\d\\d', 'label': 'PART_NUM'}, \n",
    " {'expression': r'\\d\\d\\d\\d\\d\\d[a-zA-Z]-\\d\\d\\d', 'label': 'PART_NUM'}, \n",
    " {'expression': r'[a-zA-Z][a-zA-Z]\\d\\d[a-zA-Z]-[a-zA-Z]\\d', 'label': 'PART_NUM'}, \n",
    " {'expression': r'\\d\\d-\\d\\d\\d\\d\\d-\\d\\d', 'label': 'PART_NUM'}, \n",
    " {'expression': r'[a-zA-Z][a-zA-Z][a-zA-Z]-\\d[a-zA-Z]\\d\\d\\d', 'label': 'PART_NUM'}, \n",
    " {'expression': r'[a-zA-Z][a-zA-Z][a-zA-Z]-\\d\\d[a-zA-Z]\\d\\d\\d\\d', 'label': 'PART_NUM'}, \n",
    " {'expression': r'[a-zA-Z][a-zA-Z][a-zA-Z]-\\d\\d[a-zA-Z]\\d\\d\\d\\d[a-zA-Z]', 'label': 'PART_NUM'}, \n",
    " {'expression': r'[a-zA-Z][a-zA-Z][a-zA-Z]-\\d\\d\\d\\d\\d\\d\\d\\d\\d\\d', 'label': 'PART_NUM'}, \n",
    " {'expression': r'[a-zA-Z][a-zA-Z][a-zA-Z]-\\d\\d\\d\\d[a-zA-Z][a-zA-Z]\\d\\d', 'label': 'PART_NUM'}, \n",
    " {'expression': r'[a-zA-Z][a-zA-Z][a-zA-Z]-\\d\\d\\d[a-zA-Z]\\d\\d\\d\\d\\d', 'label': 'PART_NUM'}, \n",
    " {'expression': r'[a-zA-Z][a-zA-Z][a-zA-Z]-[a-zA-Z][a-zA-Z]\\d\\d\\d[a-zA-Z][a-zA-Z]', 'label': 'PART_NUM'}, \n",
    " {'expression': r'[a-zA-Z][a-zA-Z][a-zA-Z]-\\d\\d\\d-\\d\\d\\d\\d', 'label': 'PART_NUM'}, \n",
    " {'expression': r'[a-zA-Z][a-zA-Z][a-zA-Z]-[a-zA-Z][a-zA-Z]\\d\\d\\d', 'label': 'PART_NUM'}, \n",
    " {'expression': r'[a-zA-Z][a-zA-Z][a-zA-Z]-\\d\\d\\d\\d[a-zA-Z]\\d\\d[a-zA-Z][a-zA-Z]\\d', 'label': 'PART_NUM'}, \n",
    " {'expression': r'[a-zA-Z][a-zA-Z]\\d\\d-[a-zA-Z][a-zA-Z]', 'label': 'PART_NUM'}, \n",
    " {'expression': r'[a-zA-Z][a-zA-Z][a-zA-Z]-[a-zA-Z][a-zA-Z]-\\d\\d\\d[a-zA-Z]', 'label': 'PART_NUM'}, \n",
    " {'expression': r'[a-zA-Z][a-zA-Z][a-zA-Z]-[a-zA-Z]\\d\\d[a-zA-Z][a-zA-Z]\\d\\d[a-zA-Z]\\d\\d\\d\\d', 'label': 'PART_NUM'}, \n",
    " {'expression': r'[a-zA-Z][a-zA-Z][a-zA-Z]-[a-zA-Z]\\d\\d\\d\\d\\d\\d[a-zA-Z]', 'label': 'PART_NUM'}, \n",
    " {'expression': r'[a-zA-Z][a-zA-Z][a-zA-Z]-[a-zA-Z][a-zA-Z][a-zA-Z][a-zA-Z]-\\d\\d\\d[a-zA-Z]', 'label': 'PART_NUM'}, \n",
    " {'expression': r'[a-zA-Z][a-zA-Z][a-zA-Z]-\\d\\d\\d\\d\\d[a-zA-Z][a-zA-Z]', 'label': 'PART_NUM'}, \n",
    " {'expression': r'[a-zA-Z][a-zA-Z][a-zA-Z]-\\d\\d[a-zA-Z]\\d[a-zA-Z]\\d\\d', 'label': 'PART_NUM'}, \n",
    " {'expression': r'[a-zA-Z][a-zA-Z][a-zA-Z]-\\d\\d[a-zA-Z]\\d[a-zA-Z][a-zA-Z]\\d', 'label': 'PART_NUM'}, \n",
    " {'expression': r'[a-zA-Z][a-zA-Z][a-zA-Z]-\\d\\d\\d[a-zA-Z][a-zA-Z]', 'label': 'PART_NUM'}, \n",
    " {'expression': r'[a-zA-Z][a-zA-Z][a-zA-Z]-[a-zA-Z]\\d\\d\\d\\d[a-zA-Z][a-zA-Z][a-zA-Z]', 'label': 'PART_NUM'}, \n",
    " {'expression': r'[a-zA-Z][a-zA-Z][a-zA-Z]-\\d\\d-\\d\\d\\d\\d\\d-\\d\\d\\d', 'label': 'PART_NUM'}, \n",
    " {'expression': r'[a-zA-Z][a-zA-Z][a-zA-Z]-[a-zA-Z]\\d\\d\\d[a-zA-Z]\\d[a-zA-Z][a-zA-Z]', 'label': 'PART_NUM'}, \n",
    " {'expression': r'[a-zA-Z][a-zA-Z][a-zA-Z]-\\d\\d\\d\\d\\d\\d-\\d\\d\\d', 'label': 'PART_NUM'}, \n",
    " {'expression': r'[a-zA-Z][a-zA-Z][a-zA-Z]-[a-zA-Z]-\\d\\d\\d', 'label': 'PART_NUM'}, \n",
    " {'expression': r'[a-zA-Z][a-zA-Z][a-zA-Z]-[a-zA-Z]\\d\\d\\d[a-zA-Z]\\d\\d[a-zA-Z]-[a-zA-Z]', 'label': 'PART_NUM'}, \n",
    " {'expression': r'[a-zA-Z][a-zA-Z][a-zA-Z]-[a-zA-Z]\\d\\d\\d\\d\\d\\d\\d', 'label': 'PART_NUM'}, \n",
    " {'expression': r'[a-zA-Z][a-zA-Z][a-zA-Z]-[a-zA-Z][a-zA-Z]\\d\\d\\d\\d[a-zA-Z][a-zA-Z]\\d\\d\\d', 'label': 'PART_NUM'}, \n",
    " {'expression': r'[a-zA-Z][a-zA-Z][a-zA-Z]-\\d\\d[a-zA-Z]\\d\\d\\d\\d-[a-zA-Z][a-zA-Z]', 'label': 'PART_NUM'}, \n",
    " {'expression': r'[a-zA-Z][a-zA-Z][a-zA-Z]-[a-zA-Z][a-zA-Z]\\d\\d\\d[a-zA-Z]', 'label': 'PART_NUM'}, \n",
    " {'expression': r'[a-zA-Z][a-zA-Z][a-zA-Z]-\\d\\d\\d\\d\\d\\d', 'label': 'PART_NUM'}, \n",
    " {'expression': r'[a-zA-Z][a-zA-Z][a-zA-Z]-[a-zA-Z][a-zA-Z][a-zA-Z][a-zA-Z][a-zA-Z]\\d\\d\\d[a-zA-Z][a-zA-Z]', 'label': 'PART_NUM'}, \n",
    " {'expression': r'[a-zA-Z][a-zA-Z][a-zA-Z]-\\d[a-zA-Z][a-zA-Z]\\d\\d\\d\\d\\d\\d\\d', 'label': 'PART_NUM'}, \n",
    " {'expression': r'[a-zA-Z][a-zA-Z][a-zA-Z]-\\d\\d\\d[a-zA-Z]\\d\\d\\d\\d\\d', 'label': 'PART_NUM'}, \n",
    " {'expression': r'[a-zA-Z][a-zA-Z][a-zA-Z]-\\d\\d\\d\\d\\d\\d\\d\\d\\d', 'label': 'PART_NUM'}, \n",
    " {'expression': r'[a-zA-Z][a-zA-Z][a-zA-Z]-\\d\\d\\d\\d[a-zA-Z][a-zA-Z][a-zA-Z]-\\d\\d\\d', 'label': 'PART_NUM'}, \n",
    " {'expression': r'[a-zA-Z][a-zA-Z][a-zA-Z]-[a-zA-Z][a-zA-Z]\\d\\d\\d[a-zA-Z][a-zA-Z]', 'label': 'PART_NUM'}, \n",
    " {'expression': r'[a-zA-Z][a-zA-Z][a-zA-Z]-\\d\\d\\d-\\d\\d\\d\\d', 'label': 'PART_NUM'}, \n",
    " {'expression': r'[a-zA-Z][a-zA-Z][a-zA-Z]-[a-zA-Z][a-zA-Z]\\d\\d\\d[a-zA-Z]-[a-zA-Z]', 'label': 'PART_NUM'}, \n",
    " {'expression': r'[a-zA-Z][a-zA-Z][a-zA-Z]-[a-zA-Z]\\d\\d\\d-\\d\\d\\d\\d\\d\\d', 'label': 'PART_NUM'}, \n",
    " {'expression': r'[a-zA-Z][a-zA-Z][a-zA-Z]-\\d[a-zA-Z][a-zA-Z]\\d[a-zA-Z]', 'label': 'PART_NUM'}, \n",
    " {'expression': r'[a-zA-Z][a-zA-Z][a-zA-Z]-[a-zA-Z][a-zA-Z]\\d\\d-\\d\\d\\d\\d\\d[a-zA-Z]', 'label': 'PART_NUM'}, \n",
    " {'expression': r'[a-zA-Z][a-zA-Z][a-zA-Z]-[a-zA-Z][a-zA-Z][a-zA-Z]\\d', 'label': 'PART_NUM'}, \n",
    " {'expression': r'[a-zA-Z][a-zA-Z][a-zA-Z]-\\d\\d\\d\\d-\\d\\d\\d', 'label': 'PART_NUM'}, \n",
    " {'expression': r'[a-zA-Z][a-zA-Z][a-zA-Z]-[a-zA-Z]\\d[a-zA-Z][a-zA-Z][a-zA-Z][a-zA-Z][a-zA-Z][a-zA-Z][a-zA-Z]', 'label': 'PART_NUM'}, \n",
    " {'expression': r'[a-zA-Z][a-zA-Z][a-zA-Z]-\\d\\d\\d\\d\\d\\d\\d\\d', 'label': 'PART_NUM'}, \n",
    " {'expression': r'[a-zA-Z][a-zA-Z][a-zA-Z]-\\d\\d\\d\\d\\d-\\d\\d-[a-zA-Z]', 'label': 'PART_NUM'}, \n",
    " {'expression': r'[a-zA-Z][a-zA-Z][a-zA-Z]-[a-zA-Z][a-zA-Z][a-zA-Z]\\d\\d\\d[a-zA-Z]', 'label': 'PART_NUM'}, \n",
    " {'expression': r'[a-zA-Z][a-zA-Z][a-zA-Z]-\\d\\d\\d\\d[a-zA-Z][a-zA-Z]\\d[a-zA-Z][a-zA-Z]\\d', 'label': 'PART_NUM'}, \n",
    " {'expression': r'[a-zA-Z][a-zA-Z][a-zA-Z]-[a-zA-Z][a-zA-Z][a-zA-Z]\\d\\d\\d\\d[a-zA-Z][a-zA-Z]\\d[a-zA-Z]', 'label': 'PART_NUM'}, \n",
    " {'expression': r'[a-zA-Z][a-zA-Z][a-zA-Z]-\\d\\d\\d[a-zA-Z][a-zA-Z]\\d\\d\\d\\d\\d', 'label': 'PART_NUM'}, \n",
    " {'expression': r'[a-zA-Z][a-zA-Z][a-zA-Z]-[a-zA-Z][a-zA-Z]\\d\\d\\d-\\d\\d\\d\\d\\d', 'label': 'PART_NUM'}, \n",
    " {'expression': r'[a-zA-Z][a-zA-Z][a-zA-Z]-\\d[a-zA-Z]\\d\\d[a-zA-Z][a-zA-Z]\\d[a-zA-Z][a-zA-Z]\\d', 'label': 'PART_NUM'}, \n",
    " {'expression': r'[a-zA-Z][a-zA-Z][a-zA-Z]-\\d\\d[a-zA-Z]\\d\\d\\d\\d', 'label': 'PART_NUM'}, \n",
    " {'expression': r'[a-zA-Z][a-zA-Z][a-zA-Z]-\\d\\d\\d[a-zA-Z][a-zA-Z]\\d\\d\\d\\d\\d', 'label': 'PART_NUM'}, \n",
    " {'expression': r'\\d\\d\\d-[a-zA-Z]\\d[a-zA-Z][a-zA-Z]\\d', 'label': 'PART_NUM'}, \n",
    " {'expression': r'[a-zA-Z][a-zA-Z][a-zA-Z]-\\d\\d[a-zA-Z]\\d\\d\\d\\d', 'label': 'PART_NUM'}, \n",
    " {'expression': r'[a-zA-Z][a-zA-Z][a-zA-Z]-\\d[a-zA-Z][a-zA-Z]\\d\\d\\d\\d\\d\\d\\d', 'label': 'PART_NUM'}, \n",
    " {'expression': r'[a-zA-Z][a-zA-Z][a-zA-Z]-[a-zA-Z][a-zA-Z]\\d\\d\\d\\d\\d\\d', 'label': 'PART_NUM'}, \n",
    " {'expression': r'[a-zA-Z][a-zA-Z][a-zA-Z]-\\d\\d[a-zA-Z]\\d\\d\\d\\d\\d', 'label': 'PART_NUM'}, \n",
    " {'expression': r'[a-zA-Z][a-zA-Z][a-zA-Z]-[a-zA-Z][a-zA-Z]\\d\\d\\d\\d\\d\\d\\d', 'label': 'PART_NUM'}, \n",
    " {'expression': r'[a-zA-Z][a-zA-Z][a-zA-Z]-[a-zA-Z]\\d\\d[a-zA-Z][a-zA-Z]\\d\\d\\d\\d\\d', 'label': 'PART_NUM'}, \n",
    " {'expression': r'[a-zA-Z][a-zA-Z][a-zA-Z]-\\d\\d\\d[a-zA-Z]\\d\\d\\d\\d\\d\\d', 'label': 'PART_NUM'}, \n",
    " {'expression': r'[a-zA-Z][a-zA-Z][a-zA-Z]-[a-zA-Z][a-zA-Z][a-zA-Z]\\d\\d\\d\\d\\d\\d', 'label': 'PART_NUM'}, \n",
    " {'expression': r'[a-zA-Z][a-zA-Z][a-zA-Z]-\\d\\d\\d-\\d\\d\\d\\d', 'label': 'PART_NUM'}, \n",
    " {'expression': r'[a-zA-Z][a-zA-Z][a-zA-Z]-[a-zA-Z][a-zA-Z]\\d\\d\\d[a-zA-Z][a-zA-Z][a-zA-Z]', 'label': 'PART_NUM'}, \n",
    " {'expression': r'\\d[a-zA-Z]-[a-zA-Z][a-zA-Z]\\d\\d\\d-[a-zA-Z]\\d', 'label': 'PART_NUM'}, \n",
    " {'expression': r'\\d[a-zA-Z]\\d-\\d\\d\\d\\d-\\d\\d\\d[a-zA-Z][a-zA-Z]', 'label': 'PART_NUM'}, \n",
    " {'expression': r'[a-zA-Z]\\d\\d\\d\\d-\\d\\d\\d\\d\\d[a-zA-Z][a-zA-Z][a-zA-Z][a-zA-Z]', 'label': 'PART_NUM'}, \n",
    " {'expression': r'[a-zA-Z][a-zA-Z][a-zA-Z]-[a-zA-Z][a-zA-Z][a-zA-Z]\\d[a-zA-Z][a-zA-Z][a-zA-Z]\\d\\d\\d', 'label': 'PART_NUM'}, \n",
    " {'expression': r'[a-zA-Z][a-zA-Z][a-zA-Z]-[a-zA-Z]\\d\\d\\d\\d\\d\\d\\d\\d\\d', 'label': 'PART_NUM'}, \n",
    " {'expression': r'[a-zA-Z][a-zA-Z]66-01190A', 'label': 'PART_NUM'}, \n",
    " {'expression': r'[a-zA-Z][a-zA-Z][a-zA-Z]-\\d\\d\\d\\d[a-zA-Z][a-zA-Z][a-zA-Z]', 'label': 'PART_NUM'}, \n",
    " {'expression': r'[a-zA-Z][a-zA-Z][a-zA-Z]-\\d\\d\\d\\d[a-zA-Z][a-zA-Z][a-zA-Z]-[a-zA-Z]', 'label': 'PART_NUM'}, \n",
    " {'expression': r'[a-zA-Z][a-zA-Z][a-zA-Z]-\\d\\d\\d\\d[a-zA-Z][a-zA-Z]', 'label': 'PART_NUM'}, \n",
    " {'expression': r'[a-zA-Z][a-zA-Z][a-zA-Z]-\\d\\d\\d\\d-[a-zA-Z]\\d', 'label': 'PART_NUM'}, \n",
    " {'expression': r'[a-zA-Z][a-zA-Z][a-zA-Z]-[a-zA-Z]\\d\\d\\d-[a-zA-Z]\\d', 'label': 'PART_NUM'}, \n",
    " {'expression': r'[a-zA-Z][a-zA-Z][a-zA-Z]-[a-zA-Z]\\d\\d\\d[a-zA-Z]', 'label': 'PART_NUM'}, \n",
    " {'expression': r'[a-zA-Z][a-zA-Z][a-zA-Z]-[a-zA-Z]\\d\\d\\d[a-zA-Z]\\d\\d[a-zA-Z]', 'label': 'PART_NUM'}, \n",
    " {'expression': r'[a-zA-Z][a-zA-Z][a-zA-Z]-[a-zA-Z][a-zA-Z][a-zA-Z][a-zA-Z][a-zA-Z]\\d\\d\\d\\d[a-zA-Z]', 'label': 'PART_NUM'}, \n",
    " {'expression': r'[a-zA-Z][a-zA-Z][a-zA-Z][a-zA-Z][a-zA-Z][a-zA-Z][a-zA-Z]-\\d\\d\\d\\d[a-zA-Z][a-zA-Z]\\d\\d', 'label': 'PART_NUM'}, \n",
    " {'expression': r'[a-zA-Z][a-zA-Z][a-zA-Z]-\\d\\d\\d-\\d\\d\\d\\d-\\d', 'label': 'PART_NUM'}, \n",
    " {'expression': r'\\d\\d-\\d\\d\\d\\d', 'label': 'PART_NUM'}, \n",
    " {'expression': r'[a-zA-Z][a-zA-Z][a-zA-Z]-[a-zA-Z][a-zA-Z]\\d\\d\\d\\d\\d\\d\\d', 'label': 'PART_NUM'}, \n",
    " {'expression': r'[a-zA-Z]\\d\\d\\d\\d-\\d\\d\\d\\d\\d-[a-zA-Z][a-zA-Z][a-zA-Z]', 'label': 'PART_NUM'}, \n",
    " {'expression': r'[a-zA-Z]\\d\\d\\d[a-zA-Z][a-zA-Z]\\d\\d[a-zA-Z]-\\d\\d\\d\\d\\d', 'label': 'PART_NUM'}, \n",
    " {'expression': r'\\d\\d[a-zA-Z][a-zA-Z]-\\d\\d\\d\\d\\d[a-zA-Z][a-zA-Z]', 'label': 'PART_NUM'}, \n",
    " {'expression': r'[a-zA-Z][a-zA-Z]\\d-\\d\\d\\d\\d-[a-zA-Z][a-zA-Z][a-zA-Z][a-zA-Z]', 'label': 'PART_NUM'}, \n",
    " {'expression': r'[a-zA-Z][a-zA-Z]\\d\\d\\d-\\d\\d\\d\\d\\d-[a-zA-Z][a-zA-Z]', 'label': 'PART_NUM'}, \n",
    " {'expression': r'[a-zA-Z][a-zA-Z]\\d\\d\\d-\\d\\d\\d\\d\\d', 'label': 'PART_NUM'}, \n",
    " {'expression': r'[a-zA-Z][a-zA-Z][a-zA-Z]-[a-zA-Z][a-zA-Z]\\d\\d\\d', 'label': 'PART_NUM'}, \n",
    " {'expression': r'[a-zA-Z][a-zA-Z]\\d\\d-\\d\\d\\d\\d\\d[a-zA-Z]', 'label': 'PART_NUM'}, \n",
    " {'expression': r'[a-zA-Z][a-zA-Z][a-zA-Z][a-zA-Z][a-zA-Z][a-zA-Z][a-zA-Z]-\\d\\d\\d\\d[a-zA-Z][a-zA-Z]\\d\\d', 'label': 'PART_NUM'}, \n",
    " {'expression': r'[a-zA-Z][a-zA-Z][a-zA-Z][a-zA-Z][a-zA-Z][a-zA-Z][a-zA-Z]-\\d\\d\\d\\d[a-zA-Z][a-zA-Z][a-zA-Z][a-zA-Z]', 'label': 'PART_NUM'}, \n",
    " {'expression': r'[a-zA-Z][a-zA-Z][a-zA-Z][a-zA-Z][a-zA-Z][a-zA-Z][a-zA-Z]-\\d\\d\\d\\d[a-zA-Z][a-zA-Z][a-zA-Z]\\d', 'label': 'PART_NUM'}, \n",
    " {'expression': r'\\d\\d\\d-\\d\\d-\\d\\d-\\d\\d\\d', 'label': 'PART_NUM'}, \n",
    " {'expression': r'\\d\\d\\d\\d\\d\\d\\d\\d\\d-\\d\\d', 'label': 'PART_NUM'}, \n",
    " {'expression': r'[a-zA-Z][a-zA-Z][a-zA-Z][a-zA-Z][a-zA-Z][a-zA-Z][a-zA-Z][a-zA-Z]\\d\\d\\d[a-zA-Z]\\d[a-zA-Z]-\\d', 'label': 'PART_NUM'}, \n",
    " {'expression': r'[a-zA-Z][a-zA-Z][a-zA-Z][a-zA-Z][a-zA-Z][a-zA-Z][a-zA-Z][a-zA-Z][a-zA-Z]\\d\\d[a-zA-Z]\\d\\d-\\d', 'label': 'PART_NUM'}, \n",
    " {'expression': r'[a-zA-Z][a-zA-Z][a-zA-Z][a-zA-Z][a-zA-Z][a-zA-Z][a-zA-Z]-\\d\\d\\d\\d[a-zA-Z][a-zA-Z][a-zA-Z]\\d', 'label': 'PART_NUM'}, \n",
    " {'expression': r'[a-zA-Z][a-zA-Z][a-zA-Z][a-zA-Z]-[a-zA-Z][a-zA-Z]\\d\\d\\d\\d[a-zA-Z][a-zA-Z][a-zA-Z][a-zA-Z]', 'label': 'PART_NUM'}, \n",
    " {'expression': r'[a-zA-Z][a-zA-Z][a-zA-Z][a-zA-Z][a-zA-Z][a-zA-Z]-[a-zA-Z]\\d\\d\\d\\d[a-zA-Z][a-zA-Z][a-zA-Z][a-zA-Z]', 'label': 'PART_NUM'}, \n",
    " {'expression': r'[a-zA-Z][a-zA-Z][a-zA-Z][a-zA-Z][a-zA-Z][a-zA-Z][a-zA-Z][a-zA-Z]\\d[a-zA-Z]\\d\\d[a-zA-Z][a-zA-Z]-\\d', 'label': 'PART_NUM'}, \n",
    " {'expression': r'[a-zA-Z][a-zA-Z][a-zA-Z][a-zA-Z][a-zA-Z]-[a-zA-Z][a-zA-Z]\\d\\d\\d\\d[a-zA-Z][a-zA-Z][a-zA-Z][a-zA-Z]', 'label': 'PART_NUM'}, \n",
    " {'expression': r'\\d\\d\\d-\\d\\d\\d\\d\\d\\d', 'label': 'PART_NUM'}, \n",
    " {'expression': r'[a-zA-Z][a-zA-Z][a-zA-Z][a-zA-Z][a-zA-Z][a-zA-Z][a-zA-Z][a-zA-Z]\\d[a-zA-Z]\\d\\d[a-zA-Z]\\d-\\d\\d', 'label': 'PART_NUM'}, \n",
    " {'expression': r'[a-zA-Z]\\d\\d-\\d\\d\\d\\d', 'label': 'PART_NUM'}, \n",
    " {'expression': r'\\d\\d\\d\\d\\d\\d\\d\\d\\d-\\d', 'label': 'PART_NUM'}, \n",
    " {'expression': r'\\d\\d\\d\\d-\\d\\d\\d\\d', 'label': 'PART_NUM'}, \n",
    " {'expression': r'[a-zA-Z]\\d-[a-zA-Z][a-zA-Z][a-zA-Z][a-zA-Z][a-zA-Z]-\\d\\d', 'label': 'PART_NUM'}, \n",
    " {'expression': r'[a-zA-Z][a-zA-Z]\\d-\\d\\d\\d\\d-\\d\\d\\d-[a-zA-Z][a-zA-Z]', 'label': 'PART_NUM'}, \n",
    " {'expression': r'[a-zA-Z]\\d[a-zA-Z]\\d\\d-\\d\\d\\d\\d\\d-[a-zA-Z][a-zA-Z]', 'label': 'PART_NUM'}, \n",
    " {'expression': r'[a-zA-Z][a-zA-Z]\\d\\d\\d\\d\\d-[a-zA-Z]\\d\\d\\d[a-zA-Z][a-zA-Z]', 'label': 'PART_NUM'}, \n",
    " {'expression': r'[a-zA-Z][a-zA-Z]\\d\\d\\d-\\d\\d\\d\\d\\d-[a-zA-Z][a-zA-Z]', 'label': 'PART_NUM'}, \n",
    " {'expression': r'[a-zA-Z][a-zA-Z]\\d\\d\\d-\\d\\d\\d\\d\\d-[a-zA-Z][a-zA-Z][a-zA-Z][a-zA-Z]', 'label': 'PART_NUM'}, \n",
    " {'expression': r'[a-zA-Z][a-zA-Z]\\d\\d-[a-zA-Z]\\d', 'label': 'PART_NUM'}, \n",
    " {'expression': r'\\d\\d\\d\\d\\d\\d-\\d\\d\\d[a-zA-Z]', 'label': 'PART_NUM'}, \n",
    " {'expression': r'[a-zA-Z][a-zA-Z]\\d\\d\\d-\\d\\d\\d\\d\\d', 'label': 'PART_NUM'}, \n",
    " {'expression': r'[a-zA-Z][a-zA-Z][a-zA-Z]-\\d\\d[a-zA-Z]\\d[a-zA-Z]\\d\\d', 'label': 'PART_NUM'}, \n",
    " {'expression': r'[a-zA-Z][a-zA-Z][a-zA-Z][a-zA-Z][a-zA-Z][a-zA-Z]-[a-zA-Z]\\d\\d\\d\\d[a-zA-Z][a-zA-Z][a-zA-Z]', 'label': 'PART_NUM'}, \n",
    " {'expression': r'[a-zA-Z][a-zA-Z][a-zA-Z][a-zA-Z][a-zA-Z]-[a-zA-Z][a-zA-Z]\\d\\d\\d\\d[a-zA-Z][a-zA-Z][a-zA-Z][a-zA-Z]', 'label': 'PART_NUM'}, \n",
    " {'expression': r'[a-zA-Z][a-zA-Z]\\d\\d[a-zA-Z]-[a-zA-Z][a-zA-Z]', 'label': 'PART_NUM'}, \n",
    " {'expression': r'[a-zA-Z][a-zA-Z][a-zA-Z][a-zA-Z][a-zA-Z][a-zA-Z]-\\d\\d\\d\\d[a-zA-Z][a-zA-Z][a-zA-Z][a-zA-Z]', 'label': 'PART_NUM'}, \n",
    "#  {'expression': r'order', 'label': 'ACTION'}, \n",
    "#  {'expression': r'recommended', 'label': 'ACTION'}, \n",
    "#  {'expression': r'hfpu', 'label': 'ACTION'}, \n",
    "#  {'expression': r'ship', 'label': 'ACTION'}, \n",
    "#  {'expression': r'fedex', 'label': 'ACTION'}, \n",
    "#  {'expression': r'hal', 'label': 'ACTION'}, \n",
    "#  {'expression': r'site', 'label': 'ACTION'}, \n",
    "#  {'expression': r'send', 'label': 'ACTION'}, \n",
    "#  {'expression': r'location', 'label': 'ACTION'}, \n",
    "#  {'expression': r'pickup', 'label': 'ACTION'}, \n",
    "#  {'expression': r'sent', 'label': 'ACTION'}, \n",
    "#  {'expression': r'requested', 'label': 'ACTION'}, \n",
    "#  {'expression': r'reorder', 'label': 'ACTION'}, \n",
    "#  {'expression': r'street', 'label': 'ACTION'}, \n",
    "#  {'expression': r'hfp', 'label': 'ACTION'}, \n",
    "#  {'expression': r'shipped', 'label': 'ACTION'}, \n",
    "#  {'expression': r'delivery', 'label': 'ACTION'}, \n",
    "#  {'expression': r'recommend', 'label': 'ACTION'}, \n",
    "#  {'expression': r'warehouse', 'label': 'ACTION'}    \n",
    "]"
   ]
  },
  {
   "cell_type": "code",
   "execution_count": 16,
   "id": "35c2c78c",
   "metadata": {
    "ExecuteTime": {
     "end_time": "2021-08-25T00:33:27.108194Z",
     "start_time": "2021-08-25T00:33:27.096326Z"
    }
   },
   "outputs": [],
   "source": [
    "def generate_label(texts, patterns={}):   \n",
    "    \n",
    "    def entity_from_patterns(text, patterns, pattern_matchs):        \n",
    "        entities = {}\n",
    "#         print('-'*50)  \n",
    "        for pattern in patterns:\n",
    "            entities = entity_from_pattern(text, pattern, entities, pattern_matchs)\n",
    "        entities = [value for _, value in sorted(entities.items(), key=lambda item: item[0][0])]\n",
    "        return entities\n",
    "\n",
    "    def entity_from_pattern(text, pattern, entities, pattern_matchs):\n",
    "        expression = pattern['expression']\n",
    "        label = pattern['label']\n",
    "        for match in re.finditer(expression, text):\n",
    "            start, end = match.span()    \n",
    "            add_key = True\n",
    "            if start-1 >= 0 and text[start-1]!=' ':\n",
    "                add_key = False\n",
    "            if end < len(text) and text[end]!=' ':\n",
    "                add_key = False                \n",
    "                \n",
    "#             drop_keys = []\n",
    "#             for key, value in entities.items():\n",
    "#                 start_, end_ = key\n",
    "#                 if start<start_ and end>end_:\n",
    "#                     drop_keys.append(key)\n",
    "#                 if start>start_ and end<end_:\n",
    "#                     add_key = False\n",
    "#             for key in drop_keys:\n",
    "#                 entities.pop(key)\n",
    "\n",
    "            if add_key: \n",
    "#                 print(text, expression)\n",
    "                pattern_matchs[expression] = pattern_matchs[expression] + 1\n",
    "                entities[(start, end)] = (start, end, label) \n",
    "        return entities\n",
    "        \n",
    "    examples = []\n",
    "    pattern_matchs = {pattern['expression']:0 for pattern in patterns}\n",
    "    for text in texts:\n",
    "        entities = entity_from_patterns(text, patterns, pattern_matchs)        \n",
    "        example = (text, {\"entities\": entities})\n",
    "        examples.append(example)\n",
    "    pattern_matchs = [(key, value) for key, value in sorted(pattern_matchs.items(), key=lambda item: -item[1]) if value>0]\n",
    "#     pattern_matchs = [(key, value) for key, value in pattern_matchs if value>0]\n",
    "        \n",
    "    return examples, pattern_matchs"
   ]
  },
  {
   "cell_type": "markdown",
   "id": "8136ab3c",
   "metadata": {},
   "source": [
    "see some sample data."
   ]
  },
  {
   "cell_type": "code",
   "execution_count": 17,
   "id": "79f3cc6f",
   "metadata": {
    "ExecuteTime": {
     "end_time": "2021-08-25T00:33:27.161259Z",
     "start_time": "2021-08-25T00:33:27.110454Z"
    },
    "scrolled": false
   },
   "outputs": [
    {
     "name": "stdout",
     "output_type": "stream",
     "text": [
      "--------------------------------------------------\n",
      "please create a revisit for wednesday . #normal please order part # l51580-001 and l31365-001 to concord , california hal setting up time to meet with customer . \n",
      "('l51580-001', 68, 78, 'PART_NUM')\n",
      "('l31365-001', 83, 93, 'PART_NUM')\n",
      "--------------------------------------------------\n",
      "please order battery 933321-855 ship to ups hold for pickup , tuscany way , austin . . please reassign to rob silcocks\n",
      "('933321-855', 21, 31, 'PART_NUM')\n",
      "--------------------------------------------------\n",
      "per l2 please order: 2yb64-67005 , 2yb64-67003 xl3600 , 6kd23-67021 xl3600 , 6kd23-67030 , and two 2yb64-67002\n",
      "('2yb64-67005', 21, 32, 'PART_NUM')\n",
      "('2yb64-67003', 35, 46, 'PART_NUM')\n",
      "('6kd23-67021', 56, 67, 'PART_NUM')\n",
      "('6kd23-67030', 77, 88, 'PART_NUM')\n",
      "('2yb64-67002', 99, 110, 'PART_NUM')\n",
      "--------------------------------------------------\n",
      "please create a revisite for 7-16-2021 at 1300 order part number q5669-60687 please order 2 q6683-67001 t8w18-67001 ship to el paso texas for hfpu\n",
      "('q5669-60687', 65, 76, 'PART_NUM')\n",
      "('q6683-67001', 92, 103, 'PART_NUM')\n",
      "('t8w18-67001', 104, 115, 'PART_NUM')\n",
      "--------------------------------------------------\n",
      "please create a revisite for 7-23-2021 for printheads replacement . customer will order\n",
      "\n",
      "==================================================\n",
      "('\\\\d[a-zA-Z][a-zA-Z]\\\\d\\\\d-\\\\d\\\\d\\\\d\\\\d\\\\d', 5)\n",
      "('[a-zA-Z]\\\\d\\\\d\\\\d\\\\d\\\\d-\\\\d\\\\d\\\\d', 2)\n",
      "('[a-zA-Z]\\\\d\\\\d\\\\d\\\\d-\\\\d\\\\d\\\\d\\\\d\\\\d', 2)\n",
      "('\\\\d\\\\d\\\\d\\\\d\\\\d\\\\d-\\\\d\\\\d\\\\d', 1)\n",
      "('[a-zA-Z]\\\\d[a-zA-Z]\\\\d\\\\d-\\\\d\\\\d\\\\d\\\\d\\\\d', 1)\n"
     ]
    }
   ],
   "source": [
    "def show_entity_label(text_entities, pattern_matchs):\n",
    "    for example in text_entities:\n",
    "        print('-'*50)\n",
    "        text, annotations = example\n",
    "        print(text) \n",
    "        print(*[(text[start:end], start, end, label) for start, end, label in annotations['entities']], sep='\\n')\n",
    "    print('='*50)\n",
    "    print(*pattern_matchs, sep='\\n')\n",
    "    \n",
    "texts = [standardize_text1(note) for note in df_sample.notes]  \n",
    "sample_text_entities, sample_pattern_matchs = generate_label(texts, patterns=patterns)\n",
    "show_entity_label(sample_text_entities, sample_pattern_matchs)"
   ]
  },
  {
   "cell_type": "code",
   "execution_count": 18,
   "id": "667ed0d3",
   "metadata": {
    "ExecuteTime": {
     "end_time": "2021-08-25T00:33:32.530802Z",
     "start_time": "2021-08-25T00:33:27.164594Z"
    }
   },
   "outputs": [],
   "source": [
    "texts = [standardize_text1(note) for note in df_train_test.notes]            \n",
    "text_entities, pattern_matchs = generate_label(texts, patterns=patterns)"
   ]
  },
  {
   "cell_type": "code",
   "execution_count": 19,
   "id": "d3261e87",
   "metadata": {
    "ExecuteTime": {
     "end_time": "2021-08-25T00:33:32.537097Z",
     "start_time": "2021-08-25T00:33:32.533106Z"
    }
   },
   "outputs": [
    {
     "name": "stdout",
     "output_type": "stream",
     "text": [
      "('[a-zA-Z][a-zA-Z]\\\\d\\\\d\\\\d-\\\\d\\\\d\\\\d\\\\d\\\\d', 1449)\n",
      "('[a-zA-Z]\\\\d[a-zA-Z]\\\\d\\\\d-\\\\d\\\\d\\\\d\\\\d\\\\d', 1089)\n",
      "('[a-zA-Z][a-zA-Z]\\\\d-\\\\d\\\\d\\\\d\\\\d-\\\\d\\\\d\\\\d[a-zA-Z][a-zA-Z]', 643)\n",
      "('[a-zA-Z][a-zA-Z][a-zA-Z]-\\\\d\\\\d[a-zA-Z]\\\\d\\\\d\\\\d\\\\d', 597)\n",
      "('[a-zA-Z]\\\\d\\\\d\\\\d\\\\d\\\\d-\\\\d\\\\d\\\\d', 547)\n",
      "('\\\\d\\\\d\\\\d\\\\d\\\\d\\\\d-\\\\d\\\\d\\\\d', 400)\n",
      "('[a-zA-Z][a-zA-Z]\\\\d\\\\d-\\\\d\\\\d\\\\d\\\\d\\\\d[a-zA-Z]', 271)\n",
      "('\\\\d\\\\d\\\\d\\\\d-\\\\d\\\\d\\\\d\\\\d', 166)\n",
      "('[a-zA-Z]\\\\d\\\\d\\\\d\\\\d-\\\\d\\\\d\\\\d\\\\d\\\\d', 122)\n",
      "('[a-zA-Z][a-zA-Z][a-zA-Z]-\\\\d\\\\d[a-zA-Z]\\\\d[a-zA-Z]\\\\d\\\\d', 46)\n",
      "('\\\\d[a-zA-Z][a-zA-Z]\\\\d\\\\d-\\\\d\\\\d\\\\d\\\\d\\\\d', 39)\n",
      "('[a-zA-Z][a-zA-Z][a-zA-Z]-[a-zA-Z]\\\\d\\\\d\\\\d[a-zA-Z]\\\\d\\\\d[a-zA-Z]', 21)\n",
      "('[a-zA-Z][a-zA-Z][a-zA-Z]-\\\\d\\\\d\\\\d[a-zA-Z][a-zA-Z]\\\\d\\\\d\\\\d\\\\d\\\\d', 14)\n",
      "('[a-zA-Z]\\\\d\\\\d\\\\d\\\\d\\\\d-[a-zA-Z][a-zA-Z]\\\\d', 6)\n",
      "('\\\\d\\\\d-\\\\d\\\\d\\\\d\\\\d\\\\d-\\\\d\\\\d\\\\d', 5)\n",
      "('[a-zA-Z][a-zA-Z][a-zA-Z]-\\\\d\\\\d[a-zA-Z]\\\\d[a-zA-Z][a-zA-Z]\\\\d', 5)\n",
      "('[a-zA-Z][a-zA-Z][a-zA-Z]-[a-zA-Z][a-zA-Z]\\\\d\\\\d-\\\\d\\\\d\\\\d\\\\d\\\\d[a-zA-Z]', 5)\n",
      "('[a-zA-Z][a-zA-Z][a-zA-Z]-\\\\d\\\\d\\\\d[a-zA-Z]\\\\d\\\\d\\\\d\\\\d\\\\d\\\\d', 3)\n",
      "('[a-zA-Z][a-zA-Z]-\\\\d\\\\d\\\\d\\\\d\\\\d-\\\\d\\\\d', 2)\n",
      "('[a-zA-Z][a-zA-Z][a-zA-Z]-\\\\d\\\\d\\\\d\\\\d[a-zA-Z][a-zA-Z]\\\\d[a-zA-Z][a-zA-Z]\\\\d', 2)\n",
      "('[a-zA-Z][a-zA-Z][a-zA-Z]-\\\\d\\\\d[a-zA-Z]\\\\d\\\\d\\\\d\\\\d\\\\d', 2)\n",
      "('[a-zA-Z][a-zA-Z][a-zA-Z]-\\\\d\\\\d[a-zA-Z]\\\\d\\\\d\\\\d\\\\d[a-zA-Z]', 1)\n",
      "('\\\\d[a-zA-Z]\\\\d-\\\\d\\\\d\\\\d\\\\d-\\\\d\\\\d\\\\d[a-zA-Z][a-zA-Z]', 1)\n"
     ]
    }
   ],
   "source": [
    "print(*pattern_matchs, sep='\\n')  "
   ]
  },
  {
   "cell_type": "code",
   "execution_count": 20,
   "id": "d6fdd7fa",
   "metadata": {
    "ExecuteTime": {
     "end_time": "2021-08-25T00:33:32.546976Z",
     "start_time": "2021-08-25T00:33:32.539548Z"
    }
   },
   "outputs": [
    {
     "name": "stdout",
     "output_type": "stream",
     "text": [
      "--------------------------------------------------\n",
      "please order part rm2-0943-000cn , qty 1\n",
      "('rm2-0943-000cn', 18, 32, 'PART_NUM')\n",
      "--------------------------------------------------\n",
      "revisit required . def=end user pc shipped for reimage\n",
      "\n",
      "--------------------------------------------------\n",
      "please assign to russell taft taylor\n",
      "\n",
      "--------------------------------------------------\n",
      "reassign to heather fontenot\n",
      "\n",
      "--------------------------------------------------\n",
      "please reassign to bob bailey\n",
      "\n",
      "--------------------------------------------------\n",
      "please order l62739-001 nbd & send it to my hfpu . please create a revisit & order the part against the revisit . . please reassign to ce dave favaloro\n",
      "('l62739-001', 13, 23, 'PART_NUM')\n",
      "--------------------------------------------------\n",
      "please create revisit and order parts l31883-001 l31867-601 to my nbd fsl . please order recommended part to my nbd fsl\n",
      "('l31883-001', 38, 48, 'PART_NUM')\n",
      "('l31867-601', 49, 59, 'PART_NUM')\n",
      "--------------------------------------------------\n",
      "assign to ryan garrett . he is expecting this call . \n",
      "\n",
      "--------------------------------------------------\n",
      "#normal please order part rm2-6766-000cn quantity of 1 hal rochester new york\n",
      "('rm2-6766-000cn', 26, 40, 'PART_NUM')\n",
      "--------------------------------------------------\n",
      "needs fuser assembly please order fuser assembly to dhfp in midland texas cc522-67904 also please clone wo\n",
      "('cc522-67904', 74, 85, 'PART_NUM')\n",
      "==================================================\n",
      "('[a-zA-Z][a-zA-Z]\\\\d\\\\d\\\\d-\\\\d\\\\d\\\\d\\\\d\\\\d', 1449)\n",
      "('[a-zA-Z]\\\\d[a-zA-Z]\\\\d\\\\d-\\\\d\\\\d\\\\d\\\\d\\\\d', 1089)\n",
      "('[a-zA-Z][a-zA-Z]\\\\d-\\\\d\\\\d\\\\d\\\\d-\\\\d\\\\d\\\\d[a-zA-Z][a-zA-Z]', 643)\n",
      "('[a-zA-Z][a-zA-Z][a-zA-Z]-\\\\d\\\\d[a-zA-Z]\\\\d\\\\d\\\\d\\\\d', 597)\n",
      "('[a-zA-Z]\\\\d\\\\d\\\\d\\\\d\\\\d-\\\\d\\\\d\\\\d', 547)\n",
      "('\\\\d\\\\d\\\\d\\\\d\\\\d\\\\d-\\\\d\\\\d\\\\d', 400)\n",
      "('[a-zA-Z][a-zA-Z]\\\\d\\\\d-\\\\d\\\\d\\\\d\\\\d\\\\d[a-zA-Z]', 271)\n",
      "('\\\\d\\\\d\\\\d\\\\d-\\\\d\\\\d\\\\d\\\\d', 166)\n",
      "('[a-zA-Z]\\\\d\\\\d\\\\d\\\\d-\\\\d\\\\d\\\\d\\\\d\\\\d', 122)\n",
      "('[a-zA-Z][a-zA-Z][a-zA-Z]-\\\\d\\\\d[a-zA-Z]\\\\d[a-zA-Z]\\\\d\\\\d', 46)\n"
     ]
    }
   ],
   "source": [
    "indexes = np.random.randint(0, len(text_entities), 10)\n",
    "sample_text_entities = [text_entities[i] for i in indexes]\n",
    "sample_pattern_matchs = pattern_matchs[0:len(indexes)]\n",
    "show_entity_label(sample_text_entities, sample_pattern_matchs)"
   ]
  },
  {
   "cell_type": "code",
   "execution_count": 21,
   "id": "7f296068",
   "metadata": {
    "ExecuteTime": {
     "end_time": "2021-08-25T00:33:32.564642Z",
     "start_time": "2021-08-25T00:33:32.549728Z"
    }
   },
   "outputs": [
    {
     "name": "stdout",
     "output_type": "stream",
     "text": [
      "4582\n",
      "1528\n"
     ]
    }
   ],
   "source": [
    "train_data, test_data = train_test_split(text_entities, test_size=0.25, random_state=99)\n",
    "\n",
    "print(len(train_data))\n",
    "print(len(test_data))"
   ]
  },
  {
   "cell_type": "markdown",
   "id": "c04ea363",
   "metadata": {},
   "source": [
    "### Generate NER data"
   ]
  },
  {
   "cell_type": "code",
   "execution_count": 22,
   "id": "a325e822",
   "metadata": {
    "ExecuteTime": {
     "end_time": "2021-08-25T00:33:37.949782Z",
     "start_time": "2021-08-25T00:33:32.566964Z"
    }
   },
   "outputs": [
    {
     "name": "stderr",
     "output_type": "stream",
     "text": [
      "100%|██████████| 4582/4582 [00:03<00:00, 1347.32it/s]\n",
      "100%|██████████| 1528/1528 [00:01<00:00, 1204.07it/s]\n"
     ]
    }
   ],
   "source": [
    "def generate_data(data):\n",
    "    nlp = spacy.blank(\"en\") # load a new spacy model\n",
    "    db = DocBin() # create a DocBin object\n",
    "\n",
    "    for text, annot in tqdm(data): # data in previous format\n",
    "        doc = nlp.make_doc(text) # create doc object from text\n",
    "        ents = []\n",
    "        for start, end, label in annot[\"entities\"]: # add character indexes\n",
    "            span = doc.char_span(start, end, label=label, alignment_mode=\"contract\")\n",
    "            if span is None:\n",
    "                print(\"Skipping entity\")\n",
    "            else:\n",
    "                ents.append(span)\n",
    "        doc.ents = ents # label the text with the ents\n",
    "        db.add(doc)\n",
    "    return db\n",
    "    \n",
    "train_spacy = generate_data(train_data)\n",
    "train_spacy.to_disk(\"./train.spacy\") # save the docbin object\n",
    "test_spacy = generate_data(test_data) \n",
    "test_spacy.to_disk(\"./test.spacy\") # save the docbin object"
   ]
  },
  {
   "cell_type": "code",
   "execution_count": 23,
   "id": "d9b5334e",
   "metadata": {
    "ExecuteTime": {
     "end_time": "2021-08-25T00:33:38.835637Z",
     "start_time": "2021-08-25T00:33:37.958085Z"
    }
   },
   "outputs": [
    {
     "name": "stdout",
     "output_type": "stream",
     "text": [
      "total 7868\r\n",
      "-rw-r--r--. 1 root root    1916 Aug 23 01:30 base_config.cfg\r\n",
      "-rw-r--r--. 1 root root    1664 Aug 23 09:48 base_config_gpu.cfg\r\n",
      "-rw-r--r--. 1 root root    2833 Aug 25 00:26 config.cfg\r\n",
      "-rw-r--r--. 1 root root    2625 Aug 25 00:11 config_gpu.cfg\r\n",
      "-rw-r--r--. 1 root root  289100 Aug 25 00:31 custom_ner.ipynb\r\n",
      "-rw-r--r--. 1 root root  163582 Aug 25 00:33 custom_ner_aug.ipynb\r\n",
      "-rw-r--r--. 1 root root  142918 Aug 25 00:29 custom_ner_cpu.ipynb\r\n",
      "drwxr-xr-x. 5 root root      43 Aug 24 09:04 output\r\n",
      "-rw-r--r--. 1 root root  227413 Aug 25 00:33 test.spacy\r\n",
      "-rw-r--r--. 1 root root  229957 Aug 25 00:33 test_aug.spacy\r\n",
      "-rw-r--r--. 1 root root  660076 Aug 25 00:33 train.spacy\r\n",
      "-rw-r--r--. 1 root root 6312285 Aug 25 00:33 train_aug.spacy\r\n"
     ]
    }
   ],
   "source": [
    "!ls -l . "
   ]
  },
  {
   "cell_type": "markdown",
   "id": "cc3b5247",
   "metadata": {},
   "source": [
    "## Train the model"
   ]
  },
  {
   "cell_type": "code",
   "execution_count": 24,
   "id": "a5aed1da",
   "metadata": {
    "ExecuteTime": {
     "end_time": "2021-08-25T00:34:00.058673Z",
     "start_time": "2021-08-25T00:33:38.839193Z"
    }
   },
   "outputs": [
    {
     "name": "stdout",
     "output_type": "stream",
     "text": [
      "2021-08-25 00:33:40.900094: I tensorflow/stream_executor/platform/default/dso_loader.cc:53] Successfully opened dynamic library libcudart.so.11.0\n",
      "\u001b[38;5;4mℹ Using CPU\u001b[0m\n",
      "\u001b[38;5;4mℹ To switch to GPU 0, use the option: --gpu-id 0\u001b[0m\n",
      "\u001b[1m\n",
      "=========================== Initializing pipeline ===========================\u001b[0m\n",
      "[2021-08-25 00:33:44,399] [INFO] Set up nlp object from config\n",
      "[2021-08-25 00:33:44,417] [INFO] Pipeline: ['tok2vec', 'ner', 'tagger']\n",
      "[2021-08-25 00:33:44,423] [INFO] Created vocabulary\n",
      "[2021-08-25 00:33:47,504] [INFO] Added vectors: en_core_web_lg\n",
      "[2021-08-25 00:33:49,138] [INFO] Finished initializing nlp object\n",
      "Traceback (most recent call last):\n",
      "  File \"/usr/lib/python3.6/runpy.py\", line 193, in _run_module_as_main\n",
      "    \"__main__\", mod_spec)\n",
      "  File \"/usr/lib/python3.6/runpy.py\", line 85, in _run_code\n",
      "    exec(code, run_globals)\n",
      "  File \"/usr/local/lib/python3.6/dist-packages/spacy/__main__.py\", line 4, in <module>\n",
      "    setup_cli()\n",
      "  File \"/usr/local/lib/python3.6/dist-packages/spacy/cli/_util.py\", line 69, in setup_cli\n",
      "    command(prog_name=COMMAND)\n",
      "  File \"/usr/local/lib/python3.6/dist-packages/click/core.py\", line 829, in __call__\n",
      "    return self.main(*args, **kwargs)\n",
      "  File \"/usr/local/lib/python3.6/dist-packages/click/core.py\", line 782, in main\n",
      "    rv = self.invoke(ctx)\n",
      "  File \"/usr/local/lib/python3.6/dist-packages/click/core.py\", line 1259, in invoke\n",
      "    return _process_result(sub_ctx.command.invoke(sub_ctx))\n",
      "  File \"/usr/local/lib/python3.6/dist-packages/click/core.py\", line 1066, in invoke\n",
      "    return ctx.invoke(self.callback, **ctx.params)\n",
      "  File \"/usr/local/lib/python3.6/dist-packages/click/core.py\", line 610, in invoke\n",
      "    return callback(*args, **kwargs)\n",
      "  File \"/usr/local/lib/python3.6/dist-packages/typer/main.py\", line 497, in wrapper\n",
      "    return callback(**use_params)  # type: ignore\n",
      "  File \"/usr/local/lib/python3.6/dist-packages/spacy/cli/train.py\", line 56, in train_cli\n",
      "    nlp = init_nlp(config, use_gpu=use_gpu)\n",
      "  File \"/usr/local/lib/python3.6/dist-packages/spacy/training/initialize.py\", line 82, in init_nlp\n",
      "    nlp.initialize(lambda: train_corpus(nlp), sgd=optimizer)\n",
      "  File \"/usr/local/lib/python3.6/dist-packages/spacy/language.py\", line 1273, in initialize\n",
      "    proc.initialize(get_examples, nlp=self, **p_settings)\n",
      "  File \"spacy/pipeline/tagger.pyx\", line 271, in spacy.pipeline.tagger.Tagger.initialize\n",
      "  File \"spacy/pipeline/pipe.pyx\", line 104, in spacy.pipeline.pipe.Pipe._require_labels\n",
      "ValueError: [E143] Labels for component 'tagger' not initialized. This can be fixed by calling add_label, or by providing a representative batch of examples to the component's `initialize` method.\n"
     ]
    }
   ],
   "source": [
    "!python -m spacy train config.cfg --output ./output/cpu --paths.train ./train.spacy --paths.dev ./test.spacy --gpu-id -1"
   ]
  },
  {
   "cell_type": "code",
   "execution_count": 25,
   "id": "6b4de6cb",
   "metadata": {
    "ExecuteTime": {
     "end_time": "2021-08-25T00:34:00.064091Z",
     "start_time": "2021-08-25T00:34:00.061463Z"
    }
   },
   "outputs": [],
   "source": [
    "#!python -m spacy train config_gpu.cfg --output ./output/gpu --paths.train ./train.spacy --paths.dev ./test.spacy --gpu-id 0"
   ]
  },
  {
   "cell_type": "markdown",
   "id": "52df0827",
   "metadata": {},
   "source": [
    "## Evaluate\n",
    "\n",
    "###  Check test data"
   ]
  },
  {
   "cell_type": "code",
   "execution_count": 26,
   "id": "48ed7541",
   "metadata": {
    "ExecuteTime": {
     "end_time": "2021-08-25T00:34:02.278793Z",
     "start_time": "2021-08-25T00:34:00.066790Z"
    }
   },
   "outputs": [],
   "source": [
    "nlp = spacy.load(\"output/gpu/model-last\")"
   ]
  },
  {
   "cell_type": "code",
   "execution_count": 27,
   "id": "316f978f",
   "metadata": {
    "ExecuteTime": {
     "end_time": "2021-08-25T00:34:02.293754Z",
     "start_time": "2021-08-25T00:34:02.281176Z"
    }
   },
   "outputs": [],
   "source": [
    "options = {'colors': {'ACTION':\"#56D7C4\", 'PART_NUM':\"#92E0AA\"} }\n",
    "\n",
    "def show_text(text, annotations=None, options=options, show_detail=True, standardize_text=None):\n",
    "    if standardize_text is not None:\n",
    "        text = standardize_text(text)\n",
    "    doc = nlp(text)\n",
    "    print('='*100)\n",
    "    if show_detail:\n",
    "        print(doc.text) \n",
    "    spacy.displacy.render(doc, style='ent', options=options)\n",
    "    if show_detail and annotations is not None and len(annotations['entities'])>0:\n",
    "        print('-'*25, 'acutal entities', '-'*25)\n",
    "        print(*[(text[start:end], start, end, label) for start, end, label in annotations['entities']], sep='\\n')   \n",
    "    if show_detail and len(doc.ents)>0:\n",
    "        print('-'*25, 'predict entities', '-'*25)\n",
    "        print(*[(ent.text, ent.start_char, ent.end_char, ent.label_) for ent in doc.ents], sep='\\n')      \n",
    "\n",
    "def show_texts(data, indexes=None, options=options, show_detail=True, standardize_text=None):\n",
    "    def show_text_(data):\n",
    "        if isinstance(data, str):\n",
    "            show_text(data, None, options=options, show_detail=show_detail, standardize_text=standardize_text)\n",
    "        else:\n",
    "            text, annotations = data\n",
    "            show_text(text, annotations, options=options, show_detail=show_detail, standardize_text=standardize_text)  \n",
    "            \n",
    "    if indexes is not None:\n",
    "        for i in indexes:\n",
    "            show_text_(data[i])   \n",
    "    else:\n",
    "        for one_data in data: \n",
    "            show_text_(one_data)      \n",
    "    \n",
    "                  "
   ]
  },
  {
   "cell_type": "code",
   "execution_count": 28,
   "id": "2f44d6da",
   "metadata": {
    "ExecuteTime": {
     "end_time": "2021-08-25T00:34:03.211328Z",
     "start_time": "2021-08-25T00:34:02.295972Z"
    },
    "scrolled": false
   },
   "outputs": [
    {
     "name": "stdout",
     "output_type": "stream",
     "text": [
      "====================================================================================================\n",
      "please create revisit and order nbd to customer site t0b51-67006 , t0b51-67009 . #normal user that is familiar with the issue will call me back later today\n"
     ]
    },
    {
     "data": {
      "text/html": [
       "<span class=\"tex2jax_ignore\"><div class=\"entities\" style=\"line-height: 2.5; direction: ltr\">please create revisit and order nbd to customer site \n",
       "<mark class=\"entity\" style=\"background: #92E0AA; padding: 0.45em 0.6em; margin: 0 0.25em; line-height: 1; border-radius: 0.35em;\">\n",
       "    t0b51-67006\n",
       "    <span style=\"font-size: 0.8em; font-weight: bold; line-height: 1; border-radius: 0.35em; vertical-align: middle; margin-left: 0.5rem\">PART_NUM</span>\n",
       "</mark>\n",
       " , \n",
       "<mark class=\"entity\" style=\"background: #92E0AA; padding: 0.45em 0.6em; margin: 0 0.25em; line-height: 1; border-radius: 0.35em;\">\n",
       "    t0b51-67009\n",
       "    <span style=\"font-size: 0.8em; font-weight: bold; line-height: 1; border-radius: 0.35em; vertical-align: middle; margin-left: 0.5rem\">PART_NUM</span>\n",
       "</mark>\n",
       " . #normal user that is familiar with the issue will call me back later today</div></span>"
      ],
      "text/plain": [
       "<IPython.core.display.HTML object>"
      ]
     },
     "metadata": {},
     "output_type": "display_data"
    },
    {
     "name": "stdout",
     "output_type": "stream",
     "text": [
      "------------------------- acutal entities -------------------------\n",
      "('t0b51-67006', 53, 64, 'PART_NUM')\n",
      "('t0b51-67009', 67, 78, 'PART_NUM')\n",
      "------------------------- predict entities -------------------------\n",
      "('t0b51-67006', 53, 64, 'PART_NUM')\n",
      "('t0b51-67009', 67, 78, 'PART_NUM')\n",
      "====================================================================================================\n",
      "awaiting user availability reviewing case and contacting customer .   please order parts to the work-order address and set status to awaiting parts initiative\n"
     ]
    },
    {
     "name": "stderr",
     "output_type": "stream",
     "text": [
      "/usr/local/lib/python3.6/dist-packages/spacy/displacy/__init__.py:191: UserWarning: [W006] No entities to visualize found in Doc object. If this is surprising to you, make sure the Doc was processed using a model that supports named entity recognition, and check the `doc.ents` property manually if necessary.\n",
      "  warnings.warn(Warnings.W006)\n"
     ]
    },
    {
     "data": {
      "text/html": [
       "<span class=\"tex2jax_ignore\"><div class=\"entities\" style=\"line-height: 2.5; direction: ltr\">awaiting user availability reviewing case and contacting customer .   please order parts to the work-order address and set status to awaiting parts initiative</div></span>"
      ],
      "text/plain": [
       "<IPython.core.display.HTML object>"
      ]
     },
     "metadata": {},
     "output_type": "display_data"
    },
    {
     "name": "stdout",
     "output_type": "stream",
     "text": [
      "====================================================================================================\n",
      "please order part number d3q24-67051 please ship to jacksonville hfpu . reroute to robert crisostomo he is covering this area\n"
     ]
    },
    {
     "data": {
      "text/html": [
       "<span class=\"tex2jax_ignore\"><div class=\"entities\" style=\"line-height: 2.5; direction: ltr\">please order part number \n",
       "<mark class=\"entity\" style=\"background: #92E0AA; padding: 0.45em 0.6em; margin: 0 0.25em; line-height: 1; border-radius: 0.35em;\">\n",
       "    d3q24-67051\n",
       "    <span style=\"font-size: 0.8em; font-weight: bold; line-height: 1; border-radius: 0.35em; vertical-align: middle; margin-left: 0.5rem\">PART_NUM</span>\n",
       "</mark>\n",
       " please ship to jacksonville hfpu . reroute to robert crisostomo he is covering this area</div></span>"
      ],
      "text/plain": [
       "<IPython.core.display.HTML object>"
      ]
     },
     "metadata": {},
     "output_type": "display_data"
    },
    {
     "name": "stdout",
     "output_type": "stream",
     "text": [
      "------------------------- acutal entities -------------------------\n",
      "('d3q24-67051', 25, 36, 'PART_NUM')\n",
      "------------------------- predict entities -------------------------\n",
      "('d3q24-67051', 25, 36, 'PART_NUM')\n",
      "====================================================================================================\n",
      "need follow up to restore data . . #normal\n"
     ]
    },
    {
     "data": {
      "text/html": [
       "<span class=\"tex2jax_ignore\"><div class=\"entities\" style=\"line-height: 2.5; direction: ltr\">need follow up to restore data . . #normal</div></span>"
      ],
      "text/plain": [
       "<IPython.core.display.HTML object>"
      ]
     },
     "metadata": {},
     "output_type": "display_data"
    },
    {
     "name": "stdout",
     "output_type": "stream",
     "text": [
      "====================================================================================================\n",
      "#normal please order parts jc93-00510a quantity of 2 , jc90-01619a and send to my hal for nbd . \n"
     ]
    },
    {
     "data": {
      "text/html": [
       "<span class=\"tex2jax_ignore\"><div class=\"entities\" style=\"line-height: 2.5; direction: ltr\">#normal please order parts \n",
       "<mark class=\"entity\" style=\"background: #92E0AA; padding: 0.45em 0.6em; margin: 0 0.25em; line-height: 1; border-radius: 0.35em;\">\n",
       "    jc93-00510a\n",
       "    <span style=\"font-size: 0.8em; font-weight: bold; line-height: 1; border-radius: 0.35em; vertical-align: middle; margin-left: 0.5rem\">PART_NUM</span>\n",
       "</mark>\n",
       " quantity of 2 , \n",
       "<mark class=\"entity\" style=\"background: #92E0AA; padding: 0.45em 0.6em; margin: 0 0.25em; line-height: 1; border-radius: 0.35em;\">\n",
       "    jc90-01619a\n",
       "    <span style=\"font-size: 0.8em; font-weight: bold; line-height: 1; border-radius: 0.35em; vertical-align: middle; margin-left: 0.5rem\">PART_NUM</span>\n",
       "</mark>\n",
       " and send to my hal for nbd . </div></span>"
      ],
      "text/plain": [
       "<IPython.core.display.HTML object>"
      ]
     },
     "metadata": {},
     "output_type": "display_data"
    },
    {
     "name": "stdout",
     "output_type": "stream",
     "text": [
      "------------------------- acutal entities -------------------------\n",
      "('jc93-00510a', 27, 38, 'PART_NUM')\n",
      "('jc90-01619a', 55, 66, 'PART_NUM')\n",
      "------------------------- predict entities -------------------------\n",
      "('jc93-00510a', 27, 38, 'PART_NUM')\n",
      "('jc90-01619a', 55, 66, 'PART_NUM')\n",
      "====================================================================================================\n",
      "please reassign to craig phillips\n"
     ]
    },
    {
     "data": {
      "text/html": [
       "<span class=\"tex2jax_ignore\"><div class=\"entities\" style=\"line-height: 2.5; direction: ltr\">please reassign to craig phillips</div></span>"
      ],
      "text/plain": [
       "<IPython.core.display.HTML object>"
      ]
     },
     "metadata": {},
     "output_type": "display_data"
    },
    {
     "name": "stdout",
     "output_type": "stream",
     "text": [
      "====================================================================================================\n",
      "please reassign to ce jared green he is aware of the case . #normal spoke with customer site to find they have no knowledge of pm service . customer stated he will verify with wells fargo and call back to schedule a time have not heard back from customer\n"
     ]
    },
    {
     "data": {
      "text/html": [
       "<span class=\"tex2jax_ignore\"><div class=\"entities\" style=\"line-height: 2.5; direction: ltr\">please reassign to ce jared green he is aware of the case . #normal spoke with customer site to find they have no knowledge of pm service . customer stated he will verify with wells fargo and call back to schedule a time have not heard back from customer</div></span>"
      ],
      "text/plain": [
       "<IPython.core.display.HTML object>"
      ]
     },
     "metadata": {},
     "output_type": "display_data"
    },
    {
     "name": "stdout",
     "output_type": "stream",
     "text": [
      "====================================================================================================\n",
      "awaiting part status update to close . please reassign to christopher peterson he is aware of this\n"
     ]
    },
    {
     "data": {
      "text/html": [
       "<span class=\"tex2jax_ignore\"><div class=\"entities\" style=\"line-height: 2.5; direction: ltr\">awaiting part status update to close . please reassign to christopher peterson he is aware of this</div></span>"
      ],
      "text/plain": [
       "<IPython.core.display.HTML object>"
      ]
     },
     "metadata": {},
     "output_type": "display_data"
    },
    {
     "name": "stdout",
     "output_type": "stream",
     "text": [
      "====================================================================================================\n",
      "b5l47-67907 , 1 , c2cnes18 . please reassign to ed nasser user would like to reschedule due to office availability . esn\n"
     ]
    },
    {
     "data": {
      "text/html": [
       "<span class=\"tex2jax_ignore\"><div class=\"entities\" style=\"line-height: 2.5; direction: ltr\">\n",
       "<mark class=\"entity\" style=\"background: #92E0AA; padding: 0.45em 0.6em; margin: 0 0.25em; line-height: 1; border-radius: 0.35em;\">\n",
       "    b5l47-67907\n",
       "    <span style=\"font-size: 0.8em; font-weight: bold; line-height: 1; border-radius: 0.35em; vertical-align: middle; margin-left: 0.5rem\">PART_NUM</span>\n",
       "</mark>\n",
       " , 1 , c2cnes18 . please reassign to ed nasser user would like to reschedule due to office availability . esn</div></span>"
      ],
      "text/plain": [
       "<IPython.core.display.HTML object>"
      ]
     },
     "metadata": {},
     "output_type": "display_data"
    },
    {
     "name": "stdout",
     "output_type": "stream",
     "text": [
      "------------------------- acutal entities -------------------------\n",
      "('b5l47-67907', 0, 11, 'PART_NUM')\n",
      "------------------------- predict entities -------------------------\n",
      "('b5l47-67907', 0, 11, 'PART_NUM')\n",
      "====================================================================================================\n",
      "b5l04-67906 , 1 , c2enes23\n"
     ]
    },
    {
     "data": {
      "text/html": [
       "<span class=\"tex2jax_ignore\"><div class=\"entities\" style=\"line-height: 2.5; direction: ltr\">\n",
       "<mark class=\"entity\" style=\"background: #92E0AA; padding: 0.45em 0.6em; margin: 0 0.25em; line-height: 1; border-radius: 0.35em;\">\n",
       "    b5l04-67906\n",
       "    <span style=\"font-size: 0.8em; font-weight: bold; line-height: 1; border-radius: 0.35em; vertical-align: middle; margin-left: 0.5rem\">PART_NUM</span>\n",
       "</mark>\n",
       " , 1 , c2enes23</div></span>"
      ],
      "text/plain": [
       "<IPython.core.display.HTML object>"
      ]
     },
     "metadata": {},
     "output_type": "display_data"
    },
    {
     "name": "stdout",
     "output_type": "stream",
     "text": [
      "------------------------- acutal entities -------------------------\n",
      "('b5l04-67906', 0, 11, 'PART_NUM')\n",
      "------------------------- predict entities -------------------------\n",
      "('b5l04-67906', 0, 11, 'PART_NUM')\n"
     ]
    }
   ],
   "source": [
    "indexes = np.random.randint(0, len(test_data), 10)\n",
    "show_texts(test_data, indexes) "
   ]
  },
  {
   "cell_type": "code",
   "execution_count": 29,
   "id": "ec1d358a",
   "metadata": {
    "ExecuteTime": {
     "end_time": "2021-08-25T00:34:04.051518Z",
     "start_time": "2021-08-25T00:34:03.215664Z"
    },
    "scrolled": false
   },
   "outputs": [
    {
     "name": "stdout",
     "output_type": "stream",
     "text": [
      "====================================================================================================\n"
     ]
    },
    {
     "data": {
      "text/html": [
       "<span class=\"tex2jax_ignore\"><div class=\"entities\" style=\"line-height: 2.5; direction: ltr\">please create revisit and order nbd to customer site \n",
       "<mark class=\"entity\" style=\"background: #92E0AA; padding: 0.45em 0.6em; margin: 0 0.25em; line-height: 1; border-radius: 0.35em;\">\n",
       "    t0b51-67006\n",
       "    <span style=\"font-size: 0.8em; font-weight: bold; line-height: 1; border-radius: 0.35em; vertical-align: middle; margin-left: 0.5rem\">PART_NUM</span>\n",
       "</mark>\n",
       " , \n",
       "<mark class=\"entity\" style=\"background: #92E0AA; padding: 0.45em 0.6em; margin: 0 0.25em; line-height: 1; border-radius: 0.35em;\">\n",
       "    t0b51-67009\n",
       "    <span style=\"font-size: 0.8em; font-weight: bold; line-height: 1; border-radius: 0.35em; vertical-align: middle; margin-left: 0.5rem\">PART_NUM</span>\n",
       "</mark>\n",
       " . #normal user that is familiar with the issue will call me back later today</div></span>"
      ],
      "text/plain": [
       "<IPython.core.display.HTML object>"
      ]
     },
     "metadata": {},
     "output_type": "display_data"
    },
    {
     "name": "stdout",
     "output_type": "stream",
     "text": [
      "====================================================================================================\n"
     ]
    },
    {
     "data": {
      "text/html": [
       "<span class=\"tex2jax_ignore\"><div class=\"entities\" style=\"line-height: 2.5; direction: ltr\">awaiting user availability reviewing case and contacting customer .   please order parts to the work-order address and set status to awaiting parts initiative</div></span>"
      ],
      "text/plain": [
       "<IPython.core.display.HTML object>"
      ]
     },
     "metadata": {},
     "output_type": "display_data"
    },
    {
     "name": "stdout",
     "output_type": "stream",
     "text": [
      "====================================================================================================\n"
     ]
    },
    {
     "data": {
      "text/html": [
       "<span class=\"tex2jax_ignore\"><div class=\"entities\" style=\"line-height: 2.5; direction: ltr\">please order part number \n",
       "<mark class=\"entity\" style=\"background: #92E0AA; padding: 0.45em 0.6em; margin: 0 0.25em; line-height: 1; border-radius: 0.35em;\">\n",
       "    d3q24-67051\n",
       "    <span style=\"font-size: 0.8em; font-weight: bold; line-height: 1; border-radius: 0.35em; vertical-align: middle; margin-left: 0.5rem\">PART_NUM</span>\n",
       "</mark>\n",
       " please ship to jacksonville hfpu . reroute to robert crisostomo he is covering this area</div></span>"
      ],
      "text/plain": [
       "<IPython.core.display.HTML object>"
      ]
     },
     "metadata": {},
     "output_type": "display_data"
    },
    {
     "name": "stdout",
     "output_type": "stream",
     "text": [
      "====================================================================================================\n"
     ]
    },
    {
     "data": {
      "text/html": [
       "<span class=\"tex2jax_ignore\"><div class=\"entities\" style=\"line-height: 2.5; direction: ltr\">need follow up to restore data . . #normal</div></span>"
      ],
      "text/plain": [
       "<IPython.core.display.HTML object>"
      ]
     },
     "metadata": {},
     "output_type": "display_data"
    },
    {
     "name": "stdout",
     "output_type": "stream",
     "text": [
      "====================================================================================================\n"
     ]
    },
    {
     "data": {
      "text/html": [
       "<span class=\"tex2jax_ignore\"><div class=\"entities\" style=\"line-height: 2.5; direction: ltr\">#normal please order parts \n",
       "<mark class=\"entity\" style=\"background: #92E0AA; padding: 0.45em 0.6em; margin: 0 0.25em; line-height: 1; border-radius: 0.35em;\">\n",
       "    jc93-00510a\n",
       "    <span style=\"font-size: 0.8em; font-weight: bold; line-height: 1; border-radius: 0.35em; vertical-align: middle; margin-left: 0.5rem\">PART_NUM</span>\n",
       "</mark>\n",
       " quantity of 2 , \n",
       "<mark class=\"entity\" style=\"background: #92E0AA; padding: 0.45em 0.6em; margin: 0 0.25em; line-height: 1; border-radius: 0.35em;\">\n",
       "    jc90-01619a\n",
       "    <span style=\"font-size: 0.8em; font-weight: bold; line-height: 1; border-radius: 0.35em; vertical-align: middle; margin-left: 0.5rem\">PART_NUM</span>\n",
       "</mark>\n",
       " and send to my hal for nbd . </div></span>"
      ],
      "text/plain": [
       "<IPython.core.display.HTML object>"
      ]
     },
     "metadata": {},
     "output_type": "display_data"
    },
    {
     "name": "stdout",
     "output_type": "stream",
     "text": [
      "====================================================================================================\n"
     ]
    },
    {
     "data": {
      "text/html": [
       "<span class=\"tex2jax_ignore\"><div class=\"entities\" style=\"line-height: 2.5; direction: ltr\">please reassign to craig phillips</div></span>"
      ],
      "text/plain": [
       "<IPython.core.display.HTML object>"
      ]
     },
     "metadata": {},
     "output_type": "display_data"
    },
    {
     "name": "stdout",
     "output_type": "stream",
     "text": [
      "====================================================================================================\n"
     ]
    },
    {
     "data": {
      "text/html": [
       "<span class=\"tex2jax_ignore\"><div class=\"entities\" style=\"line-height: 2.5; direction: ltr\">please reassign to ce jared green he is aware of the case . #normal spoke with customer site to find they have no knowledge of pm service . customer stated he will verify with wells fargo and call back to schedule a time have not heard back from customer</div></span>"
      ],
      "text/plain": [
       "<IPython.core.display.HTML object>"
      ]
     },
     "metadata": {},
     "output_type": "display_data"
    },
    {
     "name": "stdout",
     "output_type": "stream",
     "text": [
      "====================================================================================================\n"
     ]
    },
    {
     "data": {
      "text/html": [
       "<span class=\"tex2jax_ignore\"><div class=\"entities\" style=\"line-height: 2.5; direction: ltr\">awaiting part status update to close . please reassign to christopher peterson he is aware of this</div></span>"
      ],
      "text/plain": [
       "<IPython.core.display.HTML object>"
      ]
     },
     "metadata": {},
     "output_type": "display_data"
    },
    {
     "name": "stdout",
     "output_type": "stream",
     "text": [
      "====================================================================================================\n"
     ]
    },
    {
     "data": {
      "text/html": [
       "<span class=\"tex2jax_ignore\"><div class=\"entities\" style=\"line-height: 2.5; direction: ltr\">\n",
       "<mark class=\"entity\" style=\"background: #92E0AA; padding: 0.45em 0.6em; margin: 0 0.25em; line-height: 1; border-radius: 0.35em;\">\n",
       "    b5l47-67907\n",
       "    <span style=\"font-size: 0.8em; font-weight: bold; line-height: 1; border-radius: 0.35em; vertical-align: middle; margin-left: 0.5rem\">PART_NUM</span>\n",
       "</mark>\n",
       " , 1 , c2cnes18 . please reassign to ed nasser user would like to reschedule due to office availability . esn</div></span>"
      ],
      "text/plain": [
       "<IPython.core.display.HTML object>"
      ]
     },
     "metadata": {},
     "output_type": "display_data"
    },
    {
     "name": "stdout",
     "output_type": "stream",
     "text": [
      "====================================================================================================\n"
     ]
    },
    {
     "data": {
      "text/html": [
       "<span class=\"tex2jax_ignore\"><div class=\"entities\" style=\"line-height: 2.5; direction: ltr\">\n",
       "<mark class=\"entity\" style=\"background: #92E0AA; padding: 0.45em 0.6em; margin: 0 0.25em; line-height: 1; border-radius: 0.35em;\">\n",
       "    b5l04-67906\n",
       "    <span style=\"font-size: 0.8em; font-weight: bold; line-height: 1; border-radius: 0.35em; vertical-align: middle; margin-left: 0.5rem\">PART_NUM</span>\n",
       "</mark>\n",
       " , 1 , c2enes23</div></span>"
      ],
      "text/plain": [
       "<IPython.core.display.HTML object>"
      ]
     },
     "metadata": {},
     "output_type": "display_data"
    }
   ],
   "source": [
    "show_texts(test_data, indexes, show_detail=False) "
   ]
  },
  {
   "cell_type": "markdown",
   "id": "71eac2b0",
   "metadata": {},
   "source": [
    "### Check Error Data"
   ]
  },
  {
   "cell_type": "code",
   "execution_count": 30,
   "id": "5174cf1d",
   "metadata": {
    "ExecuteTime": {
     "end_time": "2021-08-25T00:36:04.950071Z",
     "start_time": "2021-08-25T00:34:04.053756Z"
    }
   },
   "outputs": [
    {
     "name": "stdout",
     "output_type": "stream",
     "text": [
      "0 1\n",
      "25 2\n",
      "116 3\n",
      "121 4\n",
      "165 5\n",
      "198 6\n",
      "207 7\n",
      "235 8\n",
      "510 9\n",
      "576 10\n",
      "699 11\n",
      "{(6, 17, 'PART_NUM'): 'PART_NUM'}\n",
      "{(0, 17, 'PART_NUM'): 'PART_NUM'}\n",
      "763 12\n",
      "{(6, 17, 'PART_NUM'): 'PART_NUM'} {(0, 17, 'PART_NUM'): 'PART_NUM'}\n",
      "763 13\n",
      "765 14\n",
      "881 15\n",
      "914 16\n",
      "949 17\n",
      "958 18\n",
      "967 19\n",
      "1006 20\n",
      "1068 21\n",
      "{(74, 85, 'PART_NUM'): 'PART_NUM', (119, 130, 'PART_NUM'): 'PART_NUM', (164, 173, 'PART_NUM'): 'PART_NUM'}\n",
      "{(74, 85, 'PART_NUM'): 'PART_NUM', (119, 130, 'PART_NUM'): 'PART_NUM', (162, 173, 'PART_NUM'): 'PART_NUM'}\n",
      "1070 22\n",
      "{(74, 85, 'PART_NUM'): 'PART_NUM', (119, 130, 'PART_NUM'): 'PART_NUM', (164, 173, 'PART_NUM'): 'PART_NUM'} {(74, 85, 'PART_NUM'): 'PART_NUM', (119, 130, 'PART_NUM'): 'PART_NUM', (162, 173, 'PART_NUM'): 'PART_NUM'}\n",
      "1070 23\n",
      "1126 24\n",
      "{(32, 43, 'PART_NUM'): 'PART_NUM', (68, 79, 'PART_NUM'): 'PART_NUM', (123, 134, 'PART_NUM'): 'PART_NUM'}\n",
      "{(32, 43, 'PART_NUM'): 'PART_NUM', (59, 72, 'PART_NUM'): 'PART_NUM', (123, 134, 'PART_NUM'): 'PART_NUM'}\n",
      "1141 25\n",
      "{(32, 43, 'PART_NUM'): 'PART_NUM', (68, 79, 'PART_NUM'): 'PART_NUM', (123, 134, 'PART_NUM'): 'PART_NUM'} {(32, 43, 'PART_NUM'): 'PART_NUM', (59, 72, 'PART_NUM'): 'PART_NUM', (123, 134, 'PART_NUM'): 'PART_NUM'}\n",
      "1141 26\n",
      "1196 27\n",
      "1202 28\n",
      "1209 29\n",
      "1266 30\n",
      "1299 31\n",
      "1308 32\n",
      "1325 33\n",
      "1349 34\n",
      "1374 35\n",
      "1416 36\n",
      "1484 37\n",
      "{(49, 59, 'PART_NUM'): 'PART_NUM', (117, 127, 'PART_NUM'): 'PART_NUM'}\n",
      "{(46, 59, 'PART_NUM'): 'PART_NUM', (117, 127, 'PART_NUM'): 'PART_NUM'}\n",
      "1517 38\n",
      "{(49, 59, 'PART_NUM'): 'PART_NUM', (117, 127, 'PART_NUM'): 'PART_NUM'} {(46, 59, 'PART_NUM'): 'PART_NUM', (117, 127, 'PART_NUM'): 'PART_NUM'}\n",
      "1517 39\n"
     ]
    }
   ],
   "source": [
    "def get_error_data(data):\n",
    "    error_data = []\n",
    "    for i in range(len(data)):\n",
    "        text, annotations = data[i]\n",
    "        doc = nlp(text)\n",
    "        entities = annotations['entities']\n",
    "        if len(entities) != len(doc.ents):\n",
    "            error_data.append(data[i])\n",
    "            print(i, len(error_data))\n",
    "        else:\n",
    "            exit_flag = False\n",
    "            actual_entities = {(start, end, label): label for start, end, label in entities}\n",
    "            predict_entities = {(ent.start_char, ent.end_char, ent.label_): ent.label_ \n",
    "                                for ent in doc.ents}\n",
    "            \n",
    "            for key, _ in actual_entities.items():                \n",
    "                if key not in predict_entities:\n",
    "                    print(actual_entities, predict_entities, sep='\\n') \n",
    "                    error_data.append(data[i])\n",
    "                    print(i, len(error_data))\n",
    "                    break\n",
    "            if exit_flag: continue\n",
    "            for key, _ in predict_entities.items():\n",
    "                if key not in actual_entities:\n",
    "                    print(actual_entities, predict_entities)\n",
    "                    error_data.append(data[i])\n",
    "                    print(i, len(error_data))\n",
    "                    break\n",
    "                \n",
    "    return error_data\n",
    "\n",
    "error_data = get_error_data(test_data)"
   ]
  },
  {
   "cell_type": "code",
   "execution_count": 31,
   "id": "73c6d8e7",
   "metadata": {
    "ExecuteTime": {
     "end_time": "2021-08-25T00:36:04.955334Z",
     "start_time": "2021-08-25T00:36:04.952312Z"
    }
   },
   "outputs": [
    {
     "name": "stdout",
     "output_type": "stream",
     "text": [
      "39\n"
     ]
    }
   ],
   "source": [
    "print(len(error_data))"
   ]
  },
  {
   "cell_type": "code",
   "execution_count": 32,
   "id": "7ea50b1a",
   "metadata": {
    "ExecuteTime": {
     "end_time": "2021-08-25T00:36:09.228748Z",
     "start_time": "2021-08-25T00:36:04.957275Z"
    },
    "scrolled": false
   },
   "outputs": [
    {
     "name": "stdout",
     "output_type": "stream",
     "text": [
      "====================================================================================================\n",
      "order parts jc90-01679a , jc90-01680a , jc93-01063c , 6602-003185 quantity of 1 each and ship to my hold for pickup via fedex . . #normal osa met rdt\n"
     ]
    },
    {
     "data": {
      "text/html": [
       "<span class=\"tex2jax_ignore\"><div class=\"entities\" style=\"line-height: 2.5; direction: ltr\">order parts \n",
       "<mark class=\"entity\" style=\"background: #92E0AA; padding: 0.45em 0.6em; margin: 0 0.25em; line-height: 1; border-radius: 0.35em;\">\n",
       "    jc90-01679a\n",
       "    <span style=\"font-size: 0.8em; font-weight: bold; line-height: 1; border-radius: 0.35em; vertical-align: middle; margin-left: 0.5rem\">PART_NUM</span>\n",
       "</mark>\n",
       " , \n",
       "<mark class=\"entity\" style=\"background: #92E0AA; padding: 0.45em 0.6em; margin: 0 0.25em; line-height: 1; border-radius: 0.35em;\">\n",
       "    jc90-01680a\n",
       "    <span style=\"font-size: 0.8em; font-weight: bold; line-height: 1; border-radius: 0.35em; vertical-align: middle; margin-left: 0.5rem\">PART_NUM</span>\n",
       "</mark>\n",
       " , \n",
       "<mark class=\"entity\" style=\"background: #92E0AA; padding: 0.45em 0.6em; margin: 0 0.25em; line-height: 1; border-radius: 0.35em;\">\n",
       "    jc93-01063c\n",
       "    <span style=\"font-size: 0.8em; font-weight: bold; line-height: 1; border-radius: 0.35em; vertical-align: middle; margin-left: 0.5rem\">PART_NUM</span>\n",
       "</mark>\n",
       " , \n",
       "<mark class=\"entity\" style=\"background: #92E0AA; padding: 0.45em 0.6em; margin: 0 0.25em; line-height: 1; border-radius: 0.35em;\">\n",
       "    6602-003185\n",
       "    <span style=\"font-size: 0.8em; font-weight: bold; line-height: 1; border-radius: 0.35em; vertical-align: middle; margin-left: 0.5rem\">PART_NUM</span>\n",
       "</mark>\n",
       " quantity of 1 each and ship to my hold for pickup via fedex . . #normal osa met rdt</div></span>"
      ],
      "text/plain": [
       "<IPython.core.display.HTML object>"
      ]
     },
     "metadata": {},
     "output_type": "display_data"
    },
    {
     "name": "stdout",
     "output_type": "stream",
     "text": [
      "------------------------- acutal entities -------------------------\n",
      "('jc90-01679a', 12, 23, 'PART_NUM')\n",
      "('jc90-01680a', 26, 37, 'PART_NUM')\n",
      "('jc93-01063c', 40, 51, 'PART_NUM')\n",
      "------------------------- predict entities -------------------------\n",
      "('jc90-01679a', 12, 23, 'PART_NUM')\n",
      "('jc90-01680a', 26, 37, 'PART_NUM')\n",
      "('jc93-01063c', 40, 51, 'PART_NUM')\n",
      "('6602-003185', 54, 65, 'PART_NUM')\n",
      "====================================================================================================\n",
      "please send pn933321-855 to 2825route 18south old bridge nj 08857 att aleksandr kamsan\n"
     ]
    },
    {
     "data": {
      "text/html": [
       "<span class=\"tex2jax_ignore\"><div class=\"entities\" style=\"line-height: 2.5; direction: ltr\">please send \n",
       "<mark class=\"entity\" style=\"background: #92E0AA; padding: 0.45em 0.6em; margin: 0 0.25em; line-height: 1; border-radius: 0.35em;\">\n",
       "    pn933321-855\n",
       "    <span style=\"font-size: 0.8em; font-weight: bold; line-height: 1; border-radius: 0.35em; vertical-align: middle; margin-left: 0.5rem\">PART_NUM</span>\n",
       "</mark>\n",
       " to 2825route 18south old bridge nj 08857 att aleksandr kamsan</div></span>"
      ],
      "text/plain": [
       "<IPython.core.display.HTML object>"
      ]
     },
     "metadata": {},
     "output_type": "display_data"
    },
    {
     "name": "stdout",
     "output_type": "stream",
     "text": [
      "------------------------- predict entities -------------------------\n",
      "('pn933321-855', 12, 24, 'PART_NUM')\n",
      "====================================================================================================\n",
      "need to order nib kit and ecu ( jz09-67077 & g1w39-67001 ) ship to san antonio hal\n"
     ]
    },
    {
     "data": {
      "text/html": [
       "<span class=\"tex2jax_ignore\"><div class=\"entities\" style=\"line-height: 2.5; direction: ltr\">need to order nib kit and ecu ( \n",
       "<mark class=\"entity\" style=\"background: #92E0AA; padding: 0.45em 0.6em; margin: 0 0.25em; line-height: 1; border-radius: 0.35em;\">\n",
       "    jz09-67077\n",
       "    <span style=\"font-size: 0.8em; font-weight: bold; line-height: 1; border-radius: 0.35em; vertical-align: middle; margin-left: 0.5rem\">PART_NUM</span>\n",
       "</mark>\n",
       " &amp; \n",
       "<mark class=\"entity\" style=\"background: #92E0AA; padding: 0.45em 0.6em; margin: 0 0.25em; line-height: 1; border-radius: 0.35em;\">\n",
       "    g1w39-67001\n",
       "    <span style=\"font-size: 0.8em; font-weight: bold; line-height: 1; border-radius: 0.35em; vertical-align: middle; margin-left: 0.5rem\">PART_NUM</span>\n",
       "</mark>\n",
       " ) ship to san antonio hal</div></span>"
      ],
      "text/plain": [
       "<IPython.core.display.HTML object>"
      ]
     },
     "metadata": {},
     "output_type": "display_data"
    },
    {
     "name": "stdout",
     "output_type": "stream",
     "text": [
      "------------------------- acutal entities -------------------------\n",
      "('g1w39-67001', 45, 56, 'PART_NUM')\n",
      "------------------------- predict entities -------------------------\n",
      "('jz09-67077', 32, 42, 'PART_NUM')\n",
      "('g1w39-67001', 45, 56, 'PART_NUM')\n",
      "====================================================================================================\n",
      "please clone and transfer the part to the cloned case . . #normal please order jc97-04650a to the baton rouge hal . mike try these site contacts .   haleigh – 225-663-4041 – haleigh_a_winston kayla – 225-663-4031 – kayla_r_naquin\n"
     ]
    },
    {
     "data": {
      "text/html": [
       "<span class=\"tex2jax_ignore\"><div class=\"entities\" style=\"line-height: 2.5; direction: ltr\">please clone and transfer the part to the cloned case . . #normal please order \n",
       "<mark class=\"entity\" style=\"background: #92E0AA; padding: 0.45em 0.6em; margin: 0 0.25em; line-height: 1; border-radius: 0.35em;\">\n",
       "    jc97-04650a\n",
       "    <span style=\"font-size: 0.8em; font-weight: bold; line-height: 1; border-radius: 0.35em; vertical-align: middle; margin-left: 0.5rem\">PART_NUM</span>\n",
       "</mark>\n",
       " to the baton rouge hal . mike try these site contacts .   haleigh \n",
       "<mark class=\"entity\" style=\"background: #92E0AA; padding: 0.45em 0.6em; margin: 0 0.25em; line-height: 1; border-radius: 0.35em;\">\n",
       "    – \n",
       "    <span style=\"font-size: 0.8em; font-weight: bold; line-height: 1; border-radius: 0.35em; vertical-align: middle; margin-left: 0.5rem\">PART_NUM</span>\n",
       "</mark>\n",
       "225-663-4041 \n",
       "<mark class=\"entity\" style=\"background: #92E0AA; padding: 0.45em 0.6em; margin: 0 0.25em; line-height: 1; border-radius: 0.35em;\">\n",
       "    – haleigh_a_winston\n",
       "    <span style=\"font-size: 0.8em; font-weight: bold; line-height: 1; border-radius: 0.35em; vertical-align: middle; margin-left: 0.5rem\">PART_NUM</span>\n",
       "</mark>\n",
       " kayla \n",
       "<mark class=\"entity\" style=\"background: #92E0AA; padding: 0.45em 0.6em; margin: 0 0.25em; line-height: 1; border-radius: 0.35em;\">\n",
       "    – \n",
       "    <span style=\"font-size: 0.8em; font-weight: bold; line-height: 1; border-radius: 0.35em; vertical-align: middle; margin-left: 0.5rem\">PART_NUM</span>\n",
       "</mark>\n",
       "225-663-4031 \n",
       "<mark class=\"entity\" style=\"background: #92E0AA; padding: 0.45em 0.6em; margin: 0 0.25em; line-height: 1; border-radius: 0.35em;\">\n",
       "    – kayla_r_naquin\n",
       "    <span style=\"font-size: 0.8em; font-weight: bold; line-height: 1; border-radius: 0.35em; vertical-align: middle; margin-left: 0.5rem\">PART_NUM</span>\n",
       "</mark>\n",
       "</div></span>"
      ],
      "text/plain": [
       "<IPython.core.display.HTML object>"
      ]
     },
     "metadata": {},
     "output_type": "display_data"
    },
    {
     "name": "stdout",
     "output_type": "stream",
     "text": [
      "------------------------- acutal entities -------------------------\n",
      "('jc97-04650a', 79, 90, 'PART_NUM')\n",
      "------------------------- predict entities -------------------------\n",
      "('jc97-04650a', 79, 90, 'PART_NUM')\n",
      "('–\\xa0', 157, 159, 'PART_NUM')\n",
      "('– haleigh_a_winston', 172, 191, 'PART_NUM')\n",
      "('–\\xa0', 198, 200, 'PART_NUM')\n",
      "('– kayla_r_naquin', 213, 229, 'PART_NUM')\n",
      "====================================================================================================\n",
      "please order parts below: g1w41-67908/ kit-adf whole unit cn598-67018 / separator / pick assy kit g1w39-67952 / kit-assy/feeder tray 3 g1w39-67953 / kit-assy/feeder tray 4 g1w39-67954 / kit-assy/feeder tray 5 please ship to client address below: sm\n"
     ]
    },
    {
     "data": {
      "text/html": [
       "<span class=\"tex2jax_ignore\"><div class=\"entities\" style=\"line-height: 2.5; direction: ltr\">please order parts below: \n",
       "<mark class=\"entity\" style=\"background: #92E0AA; padding: 0.45em 0.6em; margin: 0 0.25em; line-height: 1; border-radius: 0.35em;\">\n",
       "    g1w41-67908/\n",
       "    <span style=\"font-size: 0.8em; font-weight: bold; line-height: 1; border-radius: 0.35em; vertical-align: middle; margin-left: 0.5rem\">PART_NUM</span>\n",
       "</mark>\n",
       " kit-adf whole unit \n",
       "<mark class=\"entity\" style=\"background: #92E0AA; padding: 0.45em 0.6em; margin: 0 0.25em; line-height: 1; border-radius: 0.35em;\">\n",
       "    cn598-67018\n",
       "    <span style=\"font-size: 0.8em; font-weight: bold; line-height: 1; border-radius: 0.35em; vertical-align: middle; margin-left: 0.5rem\">PART_NUM</span>\n",
       "</mark>\n",
       " / separator / pick assy kit \n",
       "<mark class=\"entity\" style=\"background: #92E0AA; padding: 0.45em 0.6em; margin: 0 0.25em; line-height: 1; border-radius: 0.35em;\">\n",
       "    g1w39-67952\n",
       "    <span style=\"font-size: 0.8em; font-weight: bold; line-height: 1; border-radius: 0.35em; vertical-align: middle; margin-left: 0.5rem\">PART_NUM</span>\n",
       "</mark>\n",
       " / kit-assy/feeder tray 3 \n",
       "<mark class=\"entity\" style=\"background: #92E0AA; padding: 0.45em 0.6em; margin: 0 0.25em; line-height: 1; border-radius: 0.35em;\">\n",
       "    g1w39-67953\n",
       "    <span style=\"font-size: 0.8em; font-weight: bold; line-height: 1; border-radius: 0.35em; vertical-align: middle; margin-left: 0.5rem\">PART_NUM</span>\n",
       "</mark>\n",
       " / kit-assy/feeder tray 4 \n",
       "<mark class=\"entity\" style=\"background: #92E0AA; padding: 0.45em 0.6em; margin: 0 0.25em; line-height: 1; border-radius: 0.35em;\">\n",
       "    g1w39-67954\n",
       "    <span style=\"font-size: 0.8em; font-weight: bold; line-height: 1; border-radius: 0.35em; vertical-align: middle; margin-left: 0.5rem\">PART_NUM</span>\n",
       "</mark>\n",
       " / kit-assy/feeder tray 5 please ship to client address below: sm</div></span>"
      ],
      "text/plain": [
       "<IPython.core.display.HTML object>"
      ]
     },
     "metadata": {},
     "output_type": "display_data"
    },
    {
     "name": "stdout",
     "output_type": "stream",
     "text": [
      "------------------------- acutal entities -------------------------\n",
      "('cn598-67018', 58, 69, 'PART_NUM')\n",
      "('g1w39-67952', 98, 109, 'PART_NUM')\n",
      "('g1w39-67953', 135, 146, 'PART_NUM')\n",
      "('g1w39-67954', 172, 183, 'PART_NUM')\n",
      "------------------------- predict entities -------------------------\n",
      "('g1w41-67908/', 26, 38, 'PART_NUM')\n",
      "('cn598-67018', 58, 69, 'PART_NUM')\n",
      "('g1w39-67952', 98, 109, 'PART_NUM')\n",
      "('g1w39-67953', 135, 146, 'PART_NUM')\n",
      "('g1w39-67954', 172, 183, 'PART_NUM')\n",
      "====================================================================================================\n",
      "please clone and order the following to customers location y1g00-6790× . #normal\n"
     ]
    },
    {
     "data": {
      "text/html": [
       "<span class=\"tex2jax_ignore\"><div class=\"entities\" style=\"line-height: 2.5; direction: ltr\">please clone and order the following to customers location \n",
       "<mark class=\"entity\" style=\"background: #92E0AA; padding: 0.45em 0.6em; margin: 0 0.25em; line-height: 1; border-radius: 0.35em;\">\n",
       "    y1g00-6790×\n",
       "    <span style=\"font-size: 0.8em; font-weight: bold; line-height: 1; border-radius: 0.35em; vertical-align: middle; margin-left: 0.5rem\">PART_NUM</span>\n",
       "</mark>\n",
       " . #normal</div></span>"
      ],
      "text/plain": [
       "<IPython.core.display.HTML object>"
      ]
     },
     "metadata": {},
     "output_type": "display_data"
    },
    {
     "name": "stdout",
     "output_type": "stream",
     "text": [
      "------------------------- predict entities -------------------------\n",
      "('y1g00-6790×', 59, 70, 'PART_NUM')\n",
      "====================================================================================================\n",
      "order & ship 901247-855 direct to tech ' s home office via nbd delivery to the following address: ( make sure attn: david whiteman ( 720-256-4129 ) ) hp inc . c/o david whiteman ( c-720-256-4129 ) 956 n . wheeling st . aurora , co . 80011-6555\n"
     ]
    },
    {
     "data": {
      "text/html": [
       "<span class=\"tex2jax_ignore\"><div class=\"entities\" style=\"line-height: 2.5; direction: ltr\">order &amp; ship \n",
       "<mark class=\"entity\" style=\"background: #92E0AA; padding: 0.45em 0.6em; margin: 0 0.25em; line-height: 1; border-radius: 0.35em;\">\n",
       "    901247-855\n",
       "    <span style=\"font-size: 0.8em; font-weight: bold; line-height: 1; border-radius: 0.35em; vertical-align: middle; margin-left: 0.5rem\">PART_NUM</span>\n",
       "</mark>\n",
       " direct to tech ' s home office via nbd delivery to the following address: ( make sure attn: david whiteman ( 720-256-4129 ) ) hp inc . c/o david whiteman ( c-720-256-4129 ) 956 n . wheeling st . aurora , co . \n",
       "<mark class=\"entity\" style=\"background: #92E0AA; padding: 0.45em 0.6em; margin: 0 0.25em; line-height: 1; border-radius: 0.35em;\">\n",
       "    80011-6555\n",
       "    <span style=\"font-size: 0.8em; font-weight: bold; line-height: 1; border-radius: 0.35em; vertical-align: middle; margin-left: 0.5rem\">PART_NUM</span>\n",
       "</mark>\n",
       "</div></span>"
      ],
      "text/plain": [
       "<IPython.core.display.HTML object>"
      ]
     },
     "metadata": {},
     "output_type": "display_data"
    },
    {
     "name": "stdout",
     "output_type": "stream",
     "text": [
      "------------------------- acutal entities -------------------------\n",
      "('901247-855', 13, 23, 'PART_NUM')\n",
      "------------------------- predict entities -------------------------\n",
      "('901247-855', 13, 23, 'PART_NUM')\n",
      "('80011-6555', 233, 243, 'PART_NUM')\n",
      "====================================================================================================\n",
      "rm2-6454-ooocn , 1 , c2awes20 ce410xc , 1 , c2awes20 . #normal\n"
     ]
    },
    {
     "data": {
      "text/html": [
       "<span class=\"tex2jax_ignore\"><div class=\"entities\" style=\"line-height: 2.5; direction: ltr\">\n",
       "<mark class=\"entity\" style=\"background: #92E0AA; padding: 0.45em 0.6em; margin: 0 0.25em; line-height: 1; border-radius: 0.35em;\">\n",
       "    rm2-6454-ooocn\n",
       "    <span style=\"font-size: 0.8em; font-weight: bold; line-height: 1; border-radius: 0.35em; vertical-align: middle; margin-left: 0.5rem\">PART_NUM</span>\n",
       "</mark>\n",
       " , 1 , c2awes20 ce410xc , 1 , c2awes20 . #normal</div></span>"
      ],
      "text/plain": [
       "<IPython.core.display.HTML object>"
      ]
     },
     "metadata": {},
     "output_type": "display_data"
    },
    {
     "name": "stdout",
     "output_type": "stream",
     "text": [
      "------------------------- predict entities -------------------------\n",
      "('rm2-6454-ooocn', 0, 14, 'PART_NUM')\n",
      "====================================================================================================\n",
      "please clone tranfered parts and add , order part m07092-001 qty 1 to customer site for tuesday morning 🌄 . #normal schedule for tomorrow morning vinny will like me to service this pc next week i know the issue\n"
     ]
    },
    {
     "data": {
      "text/html": [
       "<span class=\"tex2jax_ignore\"><div class=\"entities\" style=\"line-height: 2.5; direction: ltr\">please clone tranfered parts and add , order part \n",
       "<mark class=\"entity\" style=\"background: #92E0AA; padding: 0.45em 0.6em; margin: 0 0.25em; line-height: 1; border-radius: 0.35em;\">\n",
       "    m07092-001\n",
       "    <span style=\"font-size: 0.8em; font-weight: bold; line-height: 1; border-radius: 0.35em; vertical-align: middle; margin-left: 0.5rem\">PART_NUM</span>\n",
       "</mark>\n",
       " qty 1 to customer site for tuesday morning \n",
       "<mark class=\"entity\" style=\"background: #92E0AA; padding: 0.45em 0.6em; margin: 0 0.25em; line-height: 1; border-radius: 0.35em;\">\n",
       "    🌄 .\n",
       "    <span style=\"font-size: 0.8em; font-weight: bold; line-height: 1; border-radius: 0.35em; vertical-align: middle; margin-left: 0.5rem\">PART_NUM</span>\n",
       "</mark>\n",
       " #normal schedule for tomorrow morning vinny will like me to service this pc next week i know the issue</div></span>"
      ],
      "text/plain": [
       "<IPython.core.display.HTML object>"
      ]
     },
     "metadata": {},
     "output_type": "display_data"
    },
    {
     "name": "stdout",
     "output_type": "stream",
     "text": [
      "------------------------- acutal entities -------------------------\n",
      "('m07092-001', 50, 60, 'PART_NUM')\n",
      "------------------------- predict entities -------------------------\n",
      "('m07092-001', 50, 60, 'PART_NUM')\n",
      "('🌄 .', 104, 107, 'PART_NUM')\n",
      "====================================================================================================\n",
      "please order part numbers lex- 40x9135 lexmark mx511de fuser maintenance kit lex-50f0z00 lexmark 50f0z00 return pgm imaging unit each qty . 1 each and send to my fedex hold for pick up for next day service . thanks\n"
     ]
    },
    {
     "data": {
      "text/html": [
       "<span class=\"tex2jax_ignore\"><div class=\"entities\" style=\"line-height: 2.5; direction: ltr\">please order part numbers lex- \n",
       "<mark class=\"entity\" style=\"background: #92E0AA; padding: 0.45em 0.6em; margin: 0 0.25em; line-height: 1; border-radius: 0.35em;\">\n",
       "    40x9135\n",
       "    <span style=\"font-size: 0.8em; font-weight: bold; line-height: 1; border-radius: 0.35em; vertical-align: middle; margin-left: 0.5rem\">PART_NUM</span>\n",
       "</mark>\n",
       " lexmark mx511de fuser maintenance kit \n",
       "<mark class=\"entity\" style=\"background: #92E0AA; padding: 0.45em 0.6em; margin: 0 0.25em; line-height: 1; border-radius: 0.35em;\">\n",
       "    lex-50f0z00\n",
       "    <span style=\"font-size: 0.8em; font-weight: bold; line-height: 1; border-radius: 0.35em; vertical-align: middle; margin-left: 0.5rem\">PART_NUM</span>\n",
       "</mark>\n",
       " lexmark 50f0z00 return pgm imaging unit each qty . 1 each and send to my fedex hold for pick up for next day service . thanks</div></span>"
      ],
      "text/plain": [
       "<IPython.core.display.HTML object>"
      ]
     },
     "metadata": {},
     "output_type": "display_data"
    },
    {
     "name": "stdout",
     "output_type": "stream",
     "text": [
      "------------------------- acutal entities -------------------------\n",
      "('lex-50f0z00', 77, 88, 'PART_NUM')\n",
      "------------------------- predict entities -------------------------\n",
      "('40x9135', 31, 38, 'PART_NUM')\n",
      "('lex-50f0z00', 77, 88, 'PART_NUM')\n",
      "====================================================================================================\n",
      "please order parts and ship them to my hfpu . b5l47 67903 b5l46 67904 . please order parts and ship them to my hfpu . 320 snow drive . asap b5l46 67909 7/8/21 ce is waiting to hear from ip network team . 6/30/21 ce is waiting to hear from ip network team . \n"
     ]
    },
    {
     "data": {
      "text/html": [
       "<span class=\"tex2jax_ignore\"><div class=\"entities\" style=\"line-height: 2.5; direction: ltr\">please order parts and ship them to my hfpu . \n",
       "<mark class=\"entity\" style=\"background: #92E0AA; padding: 0.45em 0.6em; margin: 0 0.25em; line-height: 1; border-radius: 0.35em;\">\n",
       "    b5l47 67903 b5l46\n",
       "    <span style=\"font-size: 0.8em; font-weight: bold; line-height: 1; border-radius: 0.35em; vertical-align: middle; margin-left: 0.5rem\">PART_NUM</span>\n",
       "</mark>\n",
       " 67904 . please order parts and ship them to my hfpu . 320 snow drive . asap b5l46 67909 7/8/21 ce is waiting to hear from ip network team . 6/30/21 ce is waiting to hear from ip network team . </div></span>"
      ],
      "text/plain": [
       "<IPython.core.display.HTML object>"
      ]
     },
     "metadata": {},
     "output_type": "display_data"
    },
    {
     "name": "stdout",
     "output_type": "stream",
     "text": [
      "------------------------- predict entities -------------------------\n",
      "('b5l47 67903 b5l46', 46, 63, 'PART_NUM')\n",
      "====================================================================================================\n",
      "order lex-40x8800\n"
     ]
    },
    {
     "data": {
      "text/html": [
       "<span class=\"tex2jax_ignore\"><div class=\"entities\" style=\"line-height: 2.5; direction: ltr\">\n",
       "<mark class=\"entity\" style=\"background: #92E0AA; padding: 0.45em 0.6em; margin: 0 0.25em; line-height: 1; border-radius: 0.35em;\">\n",
       "    order lex-40x8800\n",
       "    <span style=\"font-size: 0.8em; font-weight: bold; line-height: 1; border-radius: 0.35em; vertical-align: middle; margin-left: 0.5rem\">PART_NUM</span>\n",
       "</mark>\n",
       "</div></span>"
      ],
      "text/plain": [
       "<IPython.core.display.HTML object>"
      ]
     },
     "metadata": {},
     "output_type": "display_data"
    },
    {
     "name": "stdout",
     "output_type": "stream",
     "text": [
      "------------------------- acutal entities -------------------------\n",
      "('lex-40x8800', 6, 17, 'PART_NUM')\n",
      "------------------------- predict entities -------------------------\n",
      "('order lex-40x8800', 0, 17, 'PART_NUM')\n",
      "====================================================================================================\n",
      "order lex-40x8800\n"
     ]
    },
    {
     "data": {
      "text/html": [
       "<span class=\"tex2jax_ignore\"><div class=\"entities\" style=\"line-height: 2.5; direction: ltr\">\n",
       "<mark class=\"entity\" style=\"background: #92E0AA; padding: 0.45em 0.6em; margin: 0 0.25em; line-height: 1; border-radius: 0.35em;\">\n",
       "    order lex-40x8800\n",
       "    <span style=\"font-size: 0.8em; font-weight: bold; line-height: 1; border-radius: 0.35em; vertical-align: middle; margin-left: 0.5rem\">PART_NUM</span>\n",
       "</mark>\n",
       "</div></span>"
      ],
      "text/plain": [
       "<IPython.core.display.HTML object>"
      ]
     },
     "metadata": {},
     "output_type": "display_data"
    },
    {
     "name": "stdout",
     "output_type": "stream",
     "text": [
      "------------------------- acutal entities -------------------------\n",
      "('lex-40x8800', 6, 17, 'PART_NUM')\n",
      "------------------------- predict entities -------------------------\n",
      "('order lex-40x8800', 0, 17, 'PART_NUM')\n",
      "====================================================================================================\n",
      "* po-119582253 - 1 and po-119582253 - 2 were not delivered to customer site/ customer did not receive parts . * please order the following parts and have them shipped nbd to ce hold for pickup @ 719 n hammonds ferry rd . linthicum heights , md 21090 w9004-67\n"
     ]
    },
    {
     "data": {
      "text/html": [
       "<span class=\"tex2jax_ignore\"><div class=\"entities\" style=\"line-height: 2.5; direction: ltr\">* po-119582253 - 1 and po-119582253 - 2 were not delivered to customer site/ customer did not receive parts . * please order the following parts and have them shipped nbd to ce hold for pickup @ 719 n hammonds ferry rd . linthicum heights , md 21090 \n",
       "<mark class=\"entity\" style=\"background: #92E0AA; padding: 0.45em 0.6em; margin: 0 0.25em; line-height: 1; border-radius: 0.35em;\">\n",
       "    w9004-67\n",
       "    <span style=\"font-size: 0.8em; font-weight: bold; line-height: 1; border-radius: 0.35em; vertical-align: middle; margin-left: 0.5rem\">PART_NUM</span>\n",
       "</mark>\n",
       "</div></span>"
      ],
      "text/plain": [
       "<IPython.core.display.HTML object>"
      ]
     },
     "metadata": {},
     "output_type": "display_data"
    },
    {
     "name": "stdout",
     "output_type": "stream",
     "text": [
      "------------------------- predict entities -------------------------\n",
      "('w9004-67', 250, 258, 'PART_NUM')\n",
      "====================================================================================================\n",
      "can you please create a follow-up and order rm2-6321 and cf064a . \n"
     ]
    },
    {
     "data": {
      "text/html": [
       "<span class=\"tex2jax_ignore\"><div class=\"entities\" style=\"line-height: 2.5; direction: ltr\">can you please create a follow-up and order \n",
       "<mark class=\"entity\" style=\"background: #92E0AA; padding: 0.45em 0.6em; margin: 0 0.25em; line-height: 1; border-radius: 0.35em;\">\n",
       "    rm2-6321\n",
       "    <span style=\"font-size: 0.8em; font-weight: bold; line-height: 1; border-radius: 0.35em; vertical-align: middle; margin-left: 0.5rem\">PART_NUM</span>\n",
       "</mark>\n",
       " and cf064a . </div></span>"
      ],
      "text/plain": [
       "<IPython.core.display.HTML object>"
      ]
     },
     "metadata": {},
     "output_type": "display_data"
    },
    {
     "name": "stdout",
     "output_type": "stream",
     "text": [
      "------------------------- predict entities -------------------------\n",
      "('rm2-6321', 44, 52, 'PART_NUM')\n",
      "====================================================================================================\n",
      "please order part# j8j93–67901 nbd to address on work order\n"
     ]
    },
    {
     "data": {
      "text/html": [
       "<span class=\"tex2jax_ignore\"><div class=\"entities\" style=\"line-height: 2.5; direction: ltr\">please order part# \n",
       "<mark class=\"entity\" style=\"background: #92E0AA; padding: 0.45em 0.6em; margin: 0 0.25em; line-height: 1; border-radius: 0.35em;\">\n",
       "    j8j93–67901 nbd to\n",
       "    <span style=\"font-size: 0.8em; font-weight: bold; line-height: 1; border-radius: 0.35em; vertical-align: middle; margin-left: 0.5rem\">PART_NUM</span>\n",
       "</mark>\n",
       " address on work order</div></span>"
      ],
      "text/plain": [
       "<IPython.core.display.HTML object>"
      ]
     },
     "metadata": {},
     "output_type": "display_data"
    },
    {
     "name": "stdout",
     "output_type": "stream",
     "text": [
      "------------------------- predict entities -------------------------\n",
      "('j8j93–67901 nbd to', 19, 37, 'PART_NUM')\n",
      "====================================================================================================\n",
      "please create a revisit ( -4 ) . please order the following parts to 840 lakeside drive , mobile , al 36693: pn j8a10-60108 formatter to scb hdmi cable pn j8a10-60110 formatter to scb power cable pn rm2-8421-000cn lvps pn rm3-7031- . #normal 07/7/2021 7:31 pm cst replacing the imaging scanner ( whole u nit ) and then the adf ( whole unit ) did not fix the 30 . 01 . 41 error . tech assist level 2 aaron jimenez recommended replacing the formatter to scb hdmi cable ( j8a10-60108 ) , and formatter t\n"
     ]
    },
    {
     "data": {
      "text/html": [
       "<span class=\"tex2jax_ignore\"><div class=\"entities\" style=\"line-height: 2.5; direction: ltr\">please create a revisit ( -4 ) . please order the following parts to 840 lakeside drive , mobile , al 36693: pn \n",
       "<mark class=\"entity\" style=\"background: #92E0AA; padding: 0.45em 0.6em; margin: 0 0.25em; line-height: 1; border-radius: 0.35em;\">\n",
       "    j8a10-60108\n",
       "    <span style=\"font-size: 0.8em; font-weight: bold; line-height: 1; border-radius: 0.35em; vertical-align: middle; margin-left: 0.5rem\">PART_NUM</span>\n",
       "</mark>\n",
       " formatter to scb hdmi cable pn \n",
       "<mark class=\"entity\" style=\"background: #92E0AA; padding: 0.45em 0.6em; margin: 0 0.25em; line-height: 1; border-radius: 0.35em;\">\n",
       "    j8a10-60110\n",
       "    <span style=\"font-size: 0.8em; font-weight: bold; line-height: 1; border-radius: 0.35em; vertical-align: middle; margin-left: 0.5rem\">PART_NUM</span>\n",
       "</mark>\n",
       " formatter to scb power cable pn \n",
       "<mark class=\"entity\" style=\"background: #92E0AA; padding: 0.45em 0.6em; margin: 0 0.25em; line-height: 1; border-radius: 0.35em;\">\n",
       "    rm2-8421-000cn\n",
       "    <span style=\"font-size: 0.8em; font-weight: bold; line-height: 1; border-radius: 0.35em; vertical-align: middle; margin-left: 0.5rem\">PART_NUM</span>\n",
       "</mark>\n",
       " lvps pn \n",
       "<mark class=\"entity\" style=\"background: #92E0AA; padding: 0.45em 0.6em; margin: 0 0.25em; line-height: 1; border-radius: 0.35em;\">\n",
       "    rm3-7031- .\n",
       "    <span style=\"font-size: 0.8em; font-weight: bold; line-height: 1; border-radius: 0.35em; vertical-align: middle; margin-left: 0.5rem\">PART_NUM</span>\n",
       "</mark>\n",
       " #normal 07/7/2021 7:31 pm cst replacing the imaging scanner ( whole u nit ) and then the adf ( whole unit ) did not fix the 30 . 01 . 41 error . tech assist level 2 aaron jimenez recommended replacing the formatter to scb hdmi cable ( \n",
       "<mark class=\"entity\" style=\"background: #92E0AA; padding: 0.45em 0.6em; margin: 0 0.25em; line-height: 1; border-radius: 0.35em;\">\n",
       "    j8a10-60108\n",
       "    <span style=\"font-size: 0.8em; font-weight: bold; line-height: 1; border-radius: 0.35em; vertical-align: middle; margin-left: 0.5rem\">PART_NUM</span>\n",
       "</mark>\n",
       " ) , and formatter t</div></span>"
      ],
      "text/plain": [
       "<IPython.core.display.HTML object>"
      ]
     },
     "metadata": {},
     "output_type": "display_data"
    },
    {
     "name": "stdout",
     "output_type": "stream",
     "text": [
      "------------------------- acutal entities -------------------------\n",
      "('j8a10-60108', 112, 123, 'PART_NUM')\n",
      "('j8a10-60110', 155, 166, 'PART_NUM')\n",
      "('rm2-8421-000cn', 199, 213, 'PART_NUM')\n",
      "('j8a10-60108', 469, 480, 'PART_NUM')\n",
      "------------------------- predict entities -------------------------\n",
      "('j8a10-60108', 112, 123, 'PART_NUM')\n",
      "('j8a10-60110', 155, 166, 'PART_NUM')\n",
      "('rm2-8421-000cn', 199, 213, 'PART_NUM')\n",
      "('rm3-7031- .', 222, 233, 'PART_NUM')\n",
      "('j8a10-60108', 469, 480, 'PART_NUM')\n",
      "====================================================================================================\n",
      "order & ship 923768-601 , 923776-001 , 938114-001 , 938113-001 , and 924448-001-001 via fedex to hal# 83004426 for hp ce pick up . hal address: 13700 e . colfax ave . aurora , co . 80011\n"
     ]
    },
    {
     "data": {
      "text/html": [
       "<span class=\"tex2jax_ignore\"><div class=\"entities\" style=\"line-height: 2.5; direction: ltr\">order &amp; ship \n",
       "<mark class=\"entity\" style=\"background: #92E0AA; padding: 0.45em 0.6em; margin: 0 0.25em; line-height: 1; border-radius: 0.35em;\">\n",
       "    923768-601\n",
       "    <span style=\"font-size: 0.8em; font-weight: bold; line-height: 1; border-radius: 0.35em; vertical-align: middle; margin-left: 0.5rem\">PART_NUM</span>\n",
       "</mark>\n",
       " , \n",
       "<mark class=\"entity\" style=\"background: #92E0AA; padding: 0.45em 0.6em; margin: 0 0.25em; line-height: 1; border-radius: 0.35em;\">\n",
       "    923776-001\n",
       "    <span style=\"font-size: 0.8em; font-weight: bold; line-height: 1; border-radius: 0.35em; vertical-align: middle; margin-left: 0.5rem\">PART_NUM</span>\n",
       "</mark>\n",
       " , \n",
       "<mark class=\"entity\" style=\"background: #92E0AA; padding: 0.45em 0.6em; margin: 0 0.25em; line-height: 1; border-radius: 0.35em;\">\n",
       "    938114-001\n",
       "    <span style=\"font-size: 0.8em; font-weight: bold; line-height: 1; border-radius: 0.35em; vertical-align: middle; margin-left: 0.5rem\">PART_NUM</span>\n",
       "</mark>\n",
       " , \n",
       "<mark class=\"entity\" style=\"background: #92E0AA; padding: 0.45em 0.6em; margin: 0 0.25em; line-height: 1; border-radius: 0.35em;\">\n",
       "    938113-001\n",
       "    <span style=\"font-size: 0.8em; font-weight: bold; line-height: 1; border-radius: 0.35em; vertical-align: middle; margin-left: 0.5rem\">PART_NUM</span>\n",
       "</mark>\n",
       " , and \n",
       "<mark class=\"entity\" style=\"background: #92E0AA; padding: 0.45em 0.6em; margin: 0 0.25em; line-height: 1; border-radius: 0.35em;\">\n",
       "    924448-001\n",
       "    <span style=\"font-size: 0.8em; font-weight: bold; line-height: 1; border-radius: 0.35em; vertical-align: middle; margin-left: 0.5rem\">PART_NUM</span>\n",
       "</mark>\n",
       "-001 via fedex to hal# 83004426 for hp ce pick up . hal address: 13700 e . colfax ave . aurora , co . 80011</div></span>"
      ],
      "text/plain": [
       "<IPython.core.display.HTML object>"
      ]
     },
     "metadata": {},
     "output_type": "display_data"
    },
    {
     "name": "stdout",
     "output_type": "stream",
     "text": [
      "------------------------- acutal entities -------------------------\n",
      "('923768-601', 13, 23, 'PART_NUM')\n",
      "('923776-001', 26, 36, 'PART_NUM')\n",
      "('938114-001', 39, 49, 'PART_NUM')\n",
      "('938113-001', 52, 62, 'PART_NUM')\n",
      "------------------------- predict entities -------------------------\n",
      "('923768-601', 13, 23, 'PART_NUM')\n",
      "('923776-001', 26, 36, 'PART_NUM')\n",
      "('938114-001', 39, 49, 'PART_NUM')\n",
      "('938113-001', 52, 62, 'PART_NUM')\n",
      "('924448-001', 69, 79, 'PART_NUM')\n",
      "====================================================================================================\n",
      "please order formatter/f2a68-67915 , emmc/5851-6436 . please ship to my default fedex-hfpu , 1488 w pipeline rd suite 200 , hurst , tx 76053 , attn: hp-ce ken vester . \n"
     ]
    },
    {
     "data": {
      "text/html": [
       "<span class=\"tex2jax_ignore\"><div class=\"entities\" style=\"line-height: 2.5; direction: ltr\">please order formatter/f2a68-67915 , \n",
       "<mark class=\"entity\" style=\"background: #92E0AA; padding: 0.45em 0.6em; margin: 0 0.25em; line-height: 1; border-radius: 0.35em;\">\n",
       "    emmc/5851-6436\n",
       "    <span style=\"font-size: 0.8em; font-weight: bold; line-height: 1; border-radius: 0.35em; vertical-align: middle; margin-left: 0.5rem\">PART_NUM</span>\n",
       "</mark>\n",
       " . please ship to my default fedex-hfpu , 1488 w pipeline rd suite 200 , hurst , tx 76053 , attn: hp-ce ken vester . </div></span>"
      ],
      "text/plain": [
       "<IPython.core.display.HTML object>"
      ]
     },
     "metadata": {},
     "output_type": "display_data"
    },
    {
     "name": "stdout",
     "output_type": "stream",
     "text": [
      "------------------------- predict entities -------------------------\n",
      "('emmc/5851-6436', 37, 51, 'PART_NUM')\n",
      "====================================================================================================\n",
      "please order lcd cable l32713-001 and backlight cable l3291-001 . #normal 7/15 please order lcd cable l32713-001 and backlight cable l3291-001 replaced display and system board but back light is still dim , verified parts and issue with support , signed for jn kp 7/14 parts have not shipped per fedex\n"
     ]
    },
    {
     "data": {
      "text/html": [
       "<span class=\"tex2jax_ignore\"><div class=\"entities\" style=\"line-height: 2.5; direction: ltr\">please order lcd cable \n",
       "<mark class=\"entity\" style=\"background: #92E0AA; padding: 0.45em 0.6em; margin: 0 0.25em; line-height: 1; border-radius: 0.35em;\">\n",
       "    l32713-001\n",
       "    <span style=\"font-size: 0.8em; font-weight: bold; line-height: 1; border-radius: 0.35em; vertical-align: middle; margin-left: 0.5rem\">PART_NUM</span>\n",
       "</mark>\n",
       " and backlight cable \n",
       "<mark class=\"entity\" style=\"background: #92E0AA; padding: 0.45em 0.6em; margin: 0 0.25em; line-height: 1; border-radius: 0.35em;\">\n",
       "    l3291-001\n",
       "    <span style=\"font-size: 0.8em; font-weight: bold; line-height: 1; border-radius: 0.35em; vertical-align: middle; margin-left: 0.5rem\">PART_NUM</span>\n",
       "</mark>\n",
       " . #normal 7/15 please order lcd cable \n",
       "<mark class=\"entity\" style=\"background: #92E0AA; padding: 0.45em 0.6em; margin: 0 0.25em; line-height: 1; border-radius: 0.35em;\">\n",
       "    l32713-001\n",
       "    <span style=\"font-size: 0.8em; font-weight: bold; line-height: 1; border-radius: 0.35em; vertical-align: middle; margin-left: 0.5rem\">PART_NUM</span>\n",
       "</mark>\n",
       " and backlight cable \n",
       "<mark class=\"entity\" style=\"background: #92E0AA; padding: 0.45em 0.6em; margin: 0 0.25em; line-height: 1; border-radius: 0.35em;\">\n",
       "    l3291-001\n",
       "    <span style=\"font-size: 0.8em; font-weight: bold; line-height: 1; border-radius: 0.35em; vertical-align: middle; margin-left: 0.5rem\">PART_NUM</span>\n",
       "</mark>\n",
       " replaced display and system board but back light is still dim , verified parts and issue with support , signed for jn kp 7/14 parts have not shipped per fedex</div></span>"
      ],
      "text/plain": [
       "<IPython.core.display.HTML object>"
      ]
     },
     "metadata": {},
     "output_type": "display_data"
    },
    {
     "name": "stdout",
     "output_type": "stream",
     "text": [
      "------------------------- acutal entities -------------------------\n",
      "('l32713-001', 23, 33, 'PART_NUM')\n",
      "('l32713-001', 102, 112, 'PART_NUM')\n",
      "------------------------- predict entities -------------------------\n",
      "('l32713-001', 23, 33, 'PART_NUM')\n",
      "('l3291-001', 54, 63, 'PART_NUM')\n",
      "('l32713-001', 102, 112, 'PART_NUM')\n",
      "('l3291-001', 133, 142, 'PART_NUM')\n",
      "====================================================================================================\n",
      "please clone . room: f4535-surf permit\n"
     ]
    },
    {
     "data": {
      "text/html": [
       "<span class=\"tex2jax_ignore\"><div class=\"entities\" style=\"line-height: 2.5; direction: ltr\">please clone . room: \n",
       "<mark class=\"entity\" style=\"background: #92E0AA; padding: 0.45em 0.6em; margin: 0 0.25em; line-height: 1; border-radius: 0.35em;\">\n",
       "    f4535-surf\n",
       "    <span style=\"font-size: 0.8em; font-weight: bold; line-height: 1; border-radius: 0.35em; vertical-align: middle; margin-left: 0.5rem\">PART_NUM</span>\n",
       "</mark>\n",
       " permit</div></span>"
      ],
      "text/plain": [
       "<IPython.core.display.HTML object>"
      ]
     },
     "metadata": {},
     "output_type": "display_data"
    },
    {
     "name": "stdout",
     "output_type": "stream",
     "text": [
      "------------------------- predict entities -------------------------\n",
      "('f4535-surf', 21, 31, 'PART_NUM')\n",
      "====================================================================================================\n",
      "please create follow up for tuesday and order parts to the san jose hal   jc39-02584a wire harness-hdmi angle ; tiger7 jc39-02567a cbf harness-lan if cable 580 , b 5851-6712 5000gb secure high-performance hard ( external-formatter disk ) . . #normal 1\n"
     ]
    },
    {
     "data": {
      "text/html": [
       "<span class=\"tex2jax_ignore\"><div class=\"entities\" style=\"line-height: 2.5; direction: ltr\">please create follow up for tuesday and order parts to the san jose hal   \n",
       "<mark class=\"entity\" style=\"background: #92E0AA; padding: 0.45em 0.6em; margin: 0 0.25em; line-height: 1; border-radius: 0.35em;\">\n",
       "    jc39-02584a\n",
       "    <span style=\"font-size: 0.8em; font-weight: bold; line-height: 1; border-radius: 0.35em; vertical-align: middle; margin-left: 0.5rem\">PART_NUM</span>\n",
       "</mark>\n",
       " wire harness-hdmi angle ; tiger7 \n",
       "<mark class=\"entity\" style=\"background: #92E0AA; padding: 0.45em 0.6em; margin: 0 0.25em; line-height: 1; border-radius: 0.35em;\">\n",
       "    jc39-02567a\n",
       "    <span style=\"font-size: 0.8em; font-weight: bold; line-height: 1; border-radius: 0.35em; vertical-align: middle; margin-left: 0.5rem\">PART_NUM</span>\n",
       "</mark>\n",
       " cbf harness-lan if cable 580 , \n",
       "<mark class=\"entity\" style=\"background: #92E0AA; padding: 0.45em 0.6em; margin: 0 0.25em; line-height: 1; border-radius: 0.35em;\">\n",
       "    b 5851-6712\n",
       "    <span style=\"font-size: 0.8em; font-weight: bold; line-height: 1; border-radius: 0.35em; vertical-align: middle; margin-left: 0.5rem\">PART_NUM</span>\n",
       "</mark>\n",
       " 5000gb secure high-performance hard ( external-formatter disk ) . . #normal 1</div></span>"
      ],
      "text/plain": [
       "<IPython.core.display.HTML object>"
      ]
     },
     "metadata": {},
     "output_type": "display_data"
    },
    {
     "name": "stdout",
     "output_type": "stream",
     "text": [
      "------------------------- acutal entities -------------------------\n",
      "('jc39-02584a', 74, 85, 'PART_NUM')\n",
      "('jc39-02567a', 119, 130, 'PART_NUM')\n",
      "('5851-6712', 164, 173, 'PART_NUM')\n",
      "------------------------- predict entities -------------------------\n",
      "('jc39-02584a', 74, 85, 'PART_NUM')\n",
      "('jc39-02567a', 119, 130, 'PART_NUM')\n",
      "('b 5851-6712', 162, 173, 'PART_NUM')\n",
      "====================================================================================================\n",
      "please create follow up for tuesday and order parts to the san jose hal   jc39-02584a wire harness-hdmi angle ; tiger7 jc39-02567a cbf harness-lan if cable 580 , b 5851-6712 5000gb secure high-performance hard ( external-formatter disk ) . . #normal 1\n"
     ]
    },
    {
     "data": {
      "text/html": [
       "<span class=\"tex2jax_ignore\"><div class=\"entities\" style=\"line-height: 2.5; direction: ltr\">please create follow up for tuesday and order parts to the san jose hal   \n",
       "<mark class=\"entity\" style=\"background: #92E0AA; padding: 0.45em 0.6em; margin: 0 0.25em; line-height: 1; border-radius: 0.35em;\">\n",
       "    jc39-02584a\n",
       "    <span style=\"font-size: 0.8em; font-weight: bold; line-height: 1; border-radius: 0.35em; vertical-align: middle; margin-left: 0.5rem\">PART_NUM</span>\n",
       "</mark>\n",
       " wire harness-hdmi angle ; tiger7 \n",
       "<mark class=\"entity\" style=\"background: #92E0AA; padding: 0.45em 0.6em; margin: 0 0.25em; line-height: 1; border-radius: 0.35em;\">\n",
       "    jc39-02567a\n",
       "    <span style=\"font-size: 0.8em; font-weight: bold; line-height: 1; border-radius: 0.35em; vertical-align: middle; margin-left: 0.5rem\">PART_NUM</span>\n",
       "</mark>\n",
       " cbf harness-lan if cable 580 , \n",
       "<mark class=\"entity\" style=\"background: #92E0AA; padding: 0.45em 0.6em; margin: 0 0.25em; line-height: 1; border-radius: 0.35em;\">\n",
       "    b 5851-6712\n",
       "    <span style=\"font-size: 0.8em; font-weight: bold; line-height: 1; border-radius: 0.35em; vertical-align: middle; margin-left: 0.5rem\">PART_NUM</span>\n",
       "</mark>\n",
       " 5000gb secure high-performance hard ( external-formatter disk ) . . #normal 1</div></span>"
      ],
      "text/plain": [
       "<IPython.core.display.HTML object>"
      ]
     },
     "metadata": {},
     "output_type": "display_data"
    },
    {
     "name": "stdout",
     "output_type": "stream",
     "text": [
      "------------------------- acutal entities -------------------------\n",
      "('jc39-02584a', 74, 85, 'PART_NUM')\n",
      "('jc39-02567a', 119, 130, 'PART_NUM')\n",
      "('5851-6712', 164, 173, 'PART_NUM')\n",
      "------------------------- predict entities -------------------------\n",
      "('jc39-02584a', 74, 85, 'PART_NUM')\n",
      "('jc39-02567a', 119, 130, 'PART_NUM')\n",
      "('b 5851-6712', 162, 173, 'PART_NUM')\n",
      "====================================================================================================\n",
      "1- 1702nk0un0 ( mk-6325 maintenance kit ) shipping address: 364 vance avenue , samoa , ca 95564\n"
     ]
    },
    {
     "data": {
      "text/html": [
       "<span class=\"tex2jax_ignore\"><div class=\"entities\" style=\"line-height: 2.5; direction: ltr\">1- 1702nk0un0 ( \n",
       "<mark class=\"entity\" style=\"background: #92E0AA; padding: 0.45em 0.6em; margin: 0 0.25em; line-height: 1; border-radius: 0.35em;\">\n",
       "    mk-6325\n",
       "    <span style=\"font-size: 0.8em; font-weight: bold; line-height: 1; border-radius: 0.35em; vertical-align: middle; margin-left: 0.5rem\">PART_NUM</span>\n",
       "</mark>\n",
       " maintenance kit ) shipping address: 364 vance avenue , samoa , ca 95564</div></span>"
      ],
      "text/plain": [
       "<IPython.core.display.HTML object>"
      ]
     },
     "metadata": {},
     "output_type": "display_data"
    },
    {
     "name": "stdout",
     "output_type": "stream",
     "text": [
      "------------------------- predict entities -------------------------\n",
      "('mk-6325', 16, 23, 'PART_NUM')\n",
      "====================================================================================================\n",
      "please create revisit and order jc93-01117b transfer-ptb ; sl-k7600 jc96-11643a cartridge deve ; diamondk7600 , fru , 1430 jc44-00241b hvps tiger k7600 , 24v , 21 . 6v , 2 send to customer address . #normal\n"
     ]
    },
    {
     "data": {
      "text/html": [
       "<span class=\"tex2jax_ignore\"><div class=\"entities\" style=\"line-height: 2.5; direction: ltr\">please create revisit and order \n",
       "<mark class=\"entity\" style=\"background: #92E0AA; padding: 0.45em 0.6em; margin: 0 0.25em; line-height: 1; border-radius: 0.35em;\">\n",
       "    jc93-01117b\n",
       "    <span style=\"font-size: 0.8em; font-weight: bold; line-height: 1; border-radius: 0.35em; vertical-align: middle; margin-left: 0.5rem\">PART_NUM</span>\n",
       "</mark>\n",
       " transfer-ptb ; \n",
       "<mark class=\"entity\" style=\"background: #92E0AA; padding: 0.45em 0.6em; margin: 0 0.25em; line-height: 1; border-radius: 0.35em;\">\n",
       "    sl-k7600 jc96\n",
       "    <span style=\"font-size: 0.8em; font-weight: bold; line-height: 1; border-radius: 0.35em; vertical-align: middle; margin-left: 0.5rem\">PART_NUM</span>\n",
       "</mark>\n",
       "-11643a cartridge deve ; diamondk7600 , fru , 1430 \n",
       "<mark class=\"entity\" style=\"background: #92E0AA; padding: 0.45em 0.6em; margin: 0 0.25em; line-height: 1; border-radius: 0.35em;\">\n",
       "    jc44-00241b\n",
       "    <span style=\"font-size: 0.8em; font-weight: bold; line-height: 1; border-radius: 0.35em; vertical-align: middle; margin-left: 0.5rem\">PART_NUM</span>\n",
       "</mark>\n",
       " hvps tiger k7600 , 24v , 21 . 6v , 2 send to customer address . #normal</div></span>"
      ],
      "text/plain": [
       "<IPython.core.display.HTML object>"
      ]
     },
     "metadata": {},
     "output_type": "display_data"
    },
    {
     "name": "stdout",
     "output_type": "stream",
     "text": [
      "------------------------- acutal entities -------------------------\n",
      "('jc93-01117b', 32, 43, 'PART_NUM')\n",
      "('jc96-11643a', 68, 79, 'PART_NUM')\n",
      "('jc44-00241b', 123, 134, 'PART_NUM')\n",
      "------------------------- predict entities -------------------------\n",
      "('jc93-01117b', 32, 43, 'PART_NUM')\n",
      "('sl-k7600 jc96', 59, 72, 'PART_NUM')\n",
      "('jc44-00241b', 123, 134, 'PART_NUM')\n",
      "====================================================================================================\n",
      "please create revisit and order jc93-01117b transfer-ptb ; sl-k7600 jc96-11643a cartridge deve ; diamondk7600 , fru , 1430 jc44-00241b hvps tiger k7600 , 24v , 21 . 6v , 2 send to customer address . #normal\n"
     ]
    },
    {
     "data": {
      "text/html": [
       "<span class=\"tex2jax_ignore\"><div class=\"entities\" style=\"line-height: 2.5; direction: ltr\">please create revisit and order \n",
       "<mark class=\"entity\" style=\"background: #92E0AA; padding: 0.45em 0.6em; margin: 0 0.25em; line-height: 1; border-radius: 0.35em;\">\n",
       "    jc93-01117b\n",
       "    <span style=\"font-size: 0.8em; font-weight: bold; line-height: 1; border-radius: 0.35em; vertical-align: middle; margin-left: 0.5rem\">PART_NUM</span>\n",
       "</mark>\n",
       " transfer-ptb ; \n",
       "<mark class=\"entity\" style=\"background: #92E0AA; padding: 0.45em 0.6em; margin: 0 0.25em; line-height: 1; border-radius: 0.35em;\">\n",
       "    sl-k7600 jc96\n",
       "    <span style=\"font-size: 0.8em; font-weight: bold; line-height: 1; border-radius: 0.35em; vertical-align: middle; margin-left: 0.5rem\">PART_NUM</span>\n",
       "</mark>\n",
       "-11643a cartridge deve ; diamondk7600 , fru , 1430 \n",
       "<mark class=\"entity\" style=\"background: #92E0AA; padding: 0.45em 0.6em; margin: 0 0.25em; line-height: 1; border-radius: 0.35em;\">\n",
       "    jc44-00241b\n",
       "    <span style=\"font-size: 0.8em; font-weight: bold; line-height: 1; border-radius: 0.35em; vertical-align: middle; margin-left: 0.5rem\">PART_NUM</span>\n",
       "</mark>\n",
       " hvps tiger k7600 , 24v , 21 . 6v , 2 send to customer address . #normal</div></span>"
      ],
      "text/plain": [
       "<IPython.core.display.HTML object>"
      ]
     },
     "metadata": {},
     "output_type": "display_data"
    },
    {
     "name": "stdout",
     "output_type": "stream",
     "text": [
      "------------------------- acutal entities -------------------------\n",
      "('jc93-01117b', 32, 43, 'PART_NUM')\n",
      "('jc96-11643a', 68, 79, 'PART_NUM')\n",
      "('jc44-00241b', 123, 134, 'PART_NUM')\n",
      "------------------------- predict entities -------------------------\n",
      "('jc93-01117b', 32, 43, 'PART_NUM')\n",
      "('sl-k7600 jc96', 59, 72, 'PART_NUM')\n",
      "('jc44-00241b', 123, 134, 'PART_NUM')\n",
      "====================================================================================================\n",
      "rm26322-000cn e6b69-67901 rm1-8413-000cn please ship to fedex 3242 herrman rd garland , texas 75041\n"
     ]
    },
    {
     "data": {
      "text/html": [
       "<span class=\"tex2jax_ignore\"><div class=\"entities\" style=\"line-height: 2.5; direction: ltr\">\n",
       "<mark class=\"entity\" style=\"background: #92E0AA; padding: 0.45em 0.6em; margin: 0 0.25em; line-height: 1; border-radius: 0.35em;\">\n",
       "    rm26322-000cn\n",
       "    <span style=\"font-size: 0.8em; font-weight: bold; line-height: 1; border-radius: 0.35em; vertical-align: middle; margin-left: 0.5rem\">PART_NUM</span>\n",
       "</mark>\n",
       " \n",
       "<mark class=\"entity\" style=\"background: #92E0AA; padding: 0.45em 0.6em; margin: 0 0.25em; line-height: 1; border-radius: 0.35em;\">\n",
       "    e6b69-67901\n",
       "    <span style=\"font-size: 0.8em; font-weight: bold; line-height: 1; border-radius: 0.35em; vertical-align: middle; margin-left: 0.5rem\">PART_NUM</span>\n",
       "</mark>\n",
       " \n",
       "<mark class=\"entity\" style=\"background: #92E0AA; padding: 0.45em 0.6em; margin: 0 0.25em; line-height: 1; border-radius: 0.35em;\">\n",
       "    rm1-8413-000cn\n",
       "    <span style=\"font-size: 0.8em; font-weight: bold; line-height: 1; border-radius: 0.35em; vertical-align: middle; margin-left: 0.5rem\">PART_NUM</span>\n",
       "</mark>\n",
       " please ship to fedex 3242 herrman rd garland , texas 75041</div></span>"
      ],
      "text/plain": [
       "<IPython.core.display.HTML object>"
      ]
     },
     "metadata": {},
     "output_type": "display_data"
    },
    {
     "name": "stdout",
     "output_type": "stream",
     "text": [
      "------------------------- acutal entities -------------------------\n",
      "('e6b69-67901', 14, 25, 'PART_NUM')\n",
      "('rm1-8413-000cn', 26, 40, 'PART_NUM')\n",
      "------------------------- predict entities -------------------------\n",
      "('rm26322-000cn', 0, 13, 'PART_NUM')\n",
      "('e6b69-67901', 14, 25, 'PART_NUM')\n",
      "('rm1-8413-000cn', 26, 40, 'PART_NUM')\n",
      "====================================================================================================\n",
      "#normal assign 7/19/21 have part emailed repair request 7/20/21 confirmed appt 👍 . \n"
     ]
    },
    {
     "data": {
      "text/html": [
       "<span class=\"tex2jax_ignore\"><div class=\"entities\" style=\"line-height: 2.5; direction: ltr\">#normal assign 7/19/21 have part emailed repair request 7/20/21 confirmed appt \n",
       "<mark class=\"entity\" style=\"background: #92E0AA; padding: 0.45em 0.6em; margin: 0 0.25em; line-height: 1; border-radius: 0.35em;\">\n",
       "    👍 .\n",
       "    <span style=\"font-size: 0.8em; font-weight: bold; line-height: 1; border-radius: 0.35em; vertical-align: middle; margin-left: 0.5rem\">PART_NUM</span>\n",
       "</mark>\n",
       " </div></span>"
      ],
      "text/plain": [
       "<IPython.core.display.HTML object>"
      ]
     },
     "metadata": {},
     "output_type": "display_data"
    },
    {
     "name": "stdout",
     "output_type": "stream",
     "text": [
      "------------------------- predict entities -------------------------\n",
      "('👍 .', 79, 82, 'PART_NUM')\n",
      "====================================================================================================\n",
      "please order the following part and have it sent to the flint mi fedex rm2-1318-000cn rm2-679<-000cn\n"
     ]
    },
    {
     "data": {
      "text/html": [
       "<span class=\"tex2jax_ignore\"><div class=\"entities\" style=\"line-height: 2.5; direction: ltr\">please order the following part and have it sent to the flint mi fedex \n",
       "<mark class=\"entity\" style=\"background: #92E0AA; padding: 0.45em 0.6em; margin: 0 0.25em; line-height: 1; border-radius: 0.35em;\">\n",
       "    rm2-1318-000cn\n",
       "    <span style=\"font-size: 0.8em; font-weight: bold; line-height: 1; border-radius: 0.35em; vertical-align: middle; margin-left: 0.5rem\">PART_NUM</span>\n",
       "</mark>\n",
       " \n",
       "<mark class=\"entity\" style=\"background: #92E0AA; padding: 0.45em 0.6em; margin: 0 0.25em; line-height: 1; border-radius: 0.35em;\">\n",
       "    rm2-679&lt;-000cn\n",
       "    <span style=\"font-size: 0.8em; font-weight: bold; line-height: 1; border-radius: 0.35em; vertical-align: middle; margin-left: 0.5rem\">PART_NUM</span>\n",
       "</mark>\n",
       "</div></span>"
      ],
      "text/plain": [
       "<IPython.core.display.HTML object>"
      ]
     },
     "metadata": {},
     "output_type": "display_data"
    },
    {
     "name": "stdout",
     "output_type": "stream",
     "text": [
      "------------------------- acutal entities -------------------------\n",
      "('rm2-1318-000cn', 71, 85, 'PART_NUM')\n",
      "------------------------- predict entities -------------------------\n",
      "('rm2-1318-000cn', 71, 85, 'PART_NUM')\n",
      "('rm2-679<-000cn', 86, 100, 'PART_NUM')\n",
      "====================================================================================================\n",
      "need revisit for 7/2 and please order 0609-001558 qty 1 nbd to 83005433\n"
     ]
    },
    {
     "data": {
      "text/html": [
       "<span class=\"tex2jax_ignore\"><div class=\"entities\" style=\"line-height: 2.5; direction: ltr\">need revisit for 7/2 and please order \n",
       "<mark class=\"entity\" style=\"background: #92E0AA; padding: 0.45em 0.6em; margin: 0 0.25em; line-height: 1; border-radius: 0.35em;\">\n",
       "    0609-001558\n",
       "    <span style=\"font-size: 0.8em; font-weight: bold; line-height: 1; border-radius: 0.35em; vertical-align: middle; margin-left: 0.5rem\">PART_NUM</span>\n",
       "</mark>\n",
       " qty 1 nbd to 83005433</div></span>"
      ],
      "text/plain": [
       "<IPython.core.display.HTML object>"
      ]
     },
     "metadata": {},
     "output_type": "display_data"
    },
    {
     "name": "stdout",
     "output_type": "stream",
     "text": [
      "------------------------- predict entities -------------------------\n",
      "('0609-001558', 38, 49, 'PART_NUM')\n",
      "====================================================================================================\n",
      "please order part to my alexandra hfpu rm2-1255-000cn            rm2-6766-010cn            rm2-9494-000cn\n"
     ]
    },
    {
     "data": {
      "text/html": [
       "<span class=\"tex2jax_ignore\"><div class=\"entities\" style=\"line-height: 2.5; direction: ltr\">please order part to my alexandra hfpu \n",
       "<mark class=\"entity\" style=\"background: #92E0AA; padding: 0.45em 0.6em; margin: 0 0.25em; line-height: 1; border-radius: 0.35em;\">\n",
       "    rm2-1255-000cn\n",
       "    <span style=\"font-size: 0.8em; font-weight: bold; line-height: 1; border-radius: 0.35em; vertical-align: middle; margin-left: 0.5rem\">PART_NUM</span>\n",
       "</mark>\n",
       "            \n",
       "<mark class=\"entity\" style=\"background: #92E0AA; padding: 0.45em 0.6em; margin: 0 0.25em; line-height: 1; border-radius: 0.35em;\">\n",
       "    rm2-6766-010cn\n",
       "    <span style=\"font-size: 0.8em; font-weight: bold; line-height: 1; border-radius: 0.35em; vertical-align: middle; margin-left: 0.5rem\">PART_NUM</span>\n",
       "</mark>\n",
       "            \n",
       "<mark class=\"entity\" style=\"background: #92E0AA; padding: 0.45em 0.6em; margin: 0 0.25em; line-height: 1; border-radius: 0.35em;\">\n",
       "    rm2-9494-000cn\n",
       "    <span style=\"font-size: 0.8em; font-weight: bold; line-height: 1; border-radius: 0.35em; vertical-align: middle; margin-left: 0.5rem\">PART_NUM</span>\n",
       "</mark>\n",
       "</div></span>"
      ],
      "text/plain": [
       "<IPython.core.display.HTML object>"
      ]
     },
     "metadata": {},
     "output_type": "display_data"
    },
    {
     "name": "stdout",
     "output_type": "stream",
     "text": [
      "------------------------- acutal entities -------------------------\n",
      "('rm2-9494-000cn', 91, 105, 'PART_NUM')\n",
      "------------------------- predict entities -------------------------\n",
      "('rm2-1255-000cn', 39, 53, 'PART_NUM')\n",
      "('rm2-6766-010cn', 65, 79, 'PART_NUM')\n",
      "('rm2-9494-000cn', 91, 105, 'PART_NUM')\n",
      "====================================================================================================\n",
      "please cancel po-119380020 - 1 . . original part hasn ' t been delivered . please order nbd and ship to fedex service center at 775 nw gilman blvd suite c4 , issaquah , wa 98027 . please do not use customer company name , but hp engineer as receiver . ( hold for hpce pick up ) part needed: a8p79-65\n"
     ]
    },
    {
     "data": {
      "text/html": [
       "<span class=\"tex2jax_ignore\"><div class=\"entities\" style=\"line-height: 2.5; direction: ltr\">please cancel po-119380020 - 1 . . original part hasn ' t been delivered . please order nbd and ship to fedex service center at 775 nw gilman blvd suite c4 , issaquah , wa 98027 . please do not use customer company name , but hp engineer as receiver . ( hold for hpce pick up ) part needed: \n",
       "<mark class=\"entity\" style=\"background: #92E0AA; padding: 0.45em 0.6em; margin: 0 0.25em; line-height: 1; border-radius: 0.35em;\">\n",
       "    a8p79-65\n",
       "    <span style=\"font-size: 0.8em; font-weight: bold; line-height: 1; border-radius: 0.35em; vertical-align: middle; margin-left: 0.5rem\">PART_NUM</span>\n",
       "</mark>\n",
       "</div></span>"
      ],
      "text/plain": [
       "<IPython.core.display.HTML object>"
      ]
     },
     "metadata": {},
     "output_type": "display_data"
    },
    {
     "name": "stdout",
     "output_type": "stream",
     "text": [
      "------------------------- predict entities -------------------------\n",
      "('a8p79-65', 291, 299, 'PART_NUM')\n",
      "====================================================================================================\n",
      "please order part x3a74-67902  , jc96-11643a   , x3a73-60018 , nbd delivered to hal . please create follow up for tomorrow at noon . #normal\n"
     ]
    },
    {
     "data": {
      "text/html": [
       "<span class=\"tex2jax_ignore\"><div class=\"entities\" style=\"line-height: 2.5; direction: ltr\">please order part x3a74-67902  , \n",
       "<mark class=\"entity\" style=\"background: #92E0AA; padding: 0.45em 0.6em; margin: 0 0.25em; line-height: 1; border-radius: 0.35em;\">\n",
       "    jc96-11643a\n",
       "    <span style=\"font-size: 0.8em; font-weight: bold; line-height: 1; border-radius: 0.35em; vertical-align: middle; margin-left: 0.5rem\">PART_NUM</span>\n",
       "</mark>\n",
       "   , \n",
       "<mark class=\"entity\" style=\"background: #92E0AA; padding: 0.45em 0.6em; margin: 0 0.25em; line-height: 1; border-radius: 0.35em;\">\n",
       "    x3a73-60018\n",
       "    <span style=\"font-size: 0.8em; font-weight: bold; line-height: 1; border-radius: 0.35em; vertical-align: middle; margin-left: 0.5rem\">PART_NUM</span>\n",
       "</mark>\n",
       " , nbd delivered to hal . please create follow up for tomorrow at noon . #normal</div></span>"
      ],
      "text/plain": [
       "<IPython.core.display.HTML object>"
      ]
     },
     "metadata": {},
     "output_type": "display_data"
    },
    {
     "name": "stdout",
     "output_type": "stream",
     "text": [
      "------------------------- acutal entities -------------------------\n",
      "('x3a73-60018', 49, 60, 'PART_NUM')\n",
      "------------------------- predict entities -------------------------\n",
      "('jc96-11643a', 33, 44, 'PART_NUM')\n",
      "('x3a73-60018', 49, 60, 'PART_NUM')\n",
      "====================================================================================================\n",
      "please order parts ry7-5211-000cn ,  cf365-67901 and 2w79-67902 to nashville tn hal . . please order recommended part a2w77-67908 to nashville tn hal . \n"
     ]
    },
    {
     "data": {
      "text/html": [
       "<span class=\"tex2jax_ignore\"><div class=\"entities\" style=\"line-height: 2.5; direction: ltr\">please order parts \n",
       "<mark class=\"entity\" style=\"background: #92E0AA; padding: 0.45em 0.6em; margin: 0 0.25em; line-height: 1; border-radius: 0.35em;\">\n",
       "    ry7-5211-000cn\n",
       "    <span style=\"font-size: 0.8em; font-weight: bold; line-height: 1; border-radius: 0.35em; vertical-align: middle; margin-left: 0.5rem\">PART_NUM</span>\n",
       "</mark>\n",
       " ,  cf365-67901 and \n",
       "<mark class=\"entity\" style=\"background: #92E0AA; padding: 0.45em 0.6em; margin: 0 0.25em; line-height: 1; border-radius: 0.35em;\">\n",
       "    2w79-67902\n",
       "    <span style=\"font-size: 0.8em; font-weight: bold; line-height: 1; border-radius: 0.35em; vertical-align: middle; margin-left: 0.5rem\">PART_NUM</span>\n",
       "</mark>\n",
       " to nashville tn hal . . please order recommended part \n",
       "<mark class=\"entity\" style=\"background: #92E0AA; padding: 0.45em 0.6em; margin: 0 0.25em; line-height: 1; border-radius: 0.35em;\">\n",
       "    a2w77-67908\n",
       "    <span style=\"font-size: 0.8em; font-weight: bold; line-height: 1; border-radius: 0.35em; vertical-align: middle; margin-left: 0.5rem\">PART_NUM</span>\n",
       "</mark>\n",
       " to nashville tn hal . </div></span>"
      ],
      "text/plain": [
       "<IPython.core.display.HTML object>"
      ]
     },
     "metadata": {},
     "output_type": "display_data"
    },
    {
     "name": "stdout",
     "output_type": "stream",
     "text": [
      "------------------------- acutal entities -------------------------\n",
      "('ry7-5211-000cn', 19, 33, 'PART_NUM')\n",
      "('a2w77-67908', 118, 129, 'PART_NUM')\n",
      "------------------------- predict entities -------------------------\n",
      "('ry7-5211-000cn', 19, 33, 'PART_NUM')\n",
      "('2w79-67902', 53, 63, 'PART_NUM')\n",
      "('a2w77-67908', 118, 129, 'PART_NUM')\n",
      "====================================================================================================\n",
      "please order nbd: 2-1235-000cn 3x550-sheet paper feeder paper pick-up assembly and ship to 719 n hammonds ferry rd . linthicum heights , md 21090 . #normal osa met rdt . reassign this wo to julius steele . lm\n"
     ]
    },
    {
     "data": {
      "text/html": [
       "<span class=\"tex2jax_ignore\"><div class=\"entities\" style=\"line-height: 2.5; direction: ltr\">please order nbd: \n",
       "<mark class=\"entity\" style=\"background: #92E0AA; padding: 0.45em 0.6em; margin: 0 0.25em; line-height: 1; border-radius: 0.35em;\">\n",
       "    2-1235-000cn\n",
       "    <span style=\"font-size: 0.8em; font-weight: bold; line-height: 1; border-radius: 0.35em; vertical-align: middle; margin-left: 0.5rem\">PART_NUM</span>\n",
       "</mark>\n",
       " \n",
       "<mark class=\"entity\" style=\"background: #92E0AA; padding: 0.45em 0.6em; margin: 0 0.25em; line-height: 1; border-radius: 0.35em;\">\n",
       "    3x550-sheet\n",
       "    <span style=\"font-size: 0.8em; font-weight: bold; line-height: 1; border-radius: 0.35em; vertical-align: middle; margin-left: 0.5rem\">PART_NUM</span>\n",
       "</mark>\n",
       " paper feeder paper pick-up assembly and ship to 719 n hammonds ferry rd . linthicum heights , md 21090 . #normal osa met rdt . reassign this wo to julius steele . lm</div></span>"
      ],
      "text/plain": [
       "<IPython.core.display.HTML object>"
      ]
     },
     "metadata": {},
     "output_type": "display_data"
    },
    {
     "name": "stdout",
     "output_type": "stream",
     "text": [
      "------------------------- predict entities -------------------------\n",
      "('2-1235-000cn', 18, 30, 'PART_NUM')\n",
      "('3x550-sheet', 31, 42, 'PART_NUM')\n",
      "====================================================================================================\n",
      "lex-c930x76gh , 1 , c2efes25 lex-c930x73g , 1 , c2efes25\n"
     ]
    },
    {
     "data": {
      "text/html": [
       "<span class=\"tex2jax_ignore\"><div class=\"entities\" style=\"line-height: 2.5; direction: ltr\">\n",
       "<mark class=\"entity\" style=\"background: #92E0AA; padding: 0.45em 0.6em; margin: 0 0.25em; line-height: 1; border-radius: 0.35em;\">\n",
       "    lex-c930x76gh ,\n",
       "    <span style=\"font-size: 0.8em; font-weight: bold; line-height: 1; border-radius: 0.35em; vertical-align: middle; margin-left: 0.5rem\">PART_NUM</span>\n",
       "</mark>\n",
       " 1 , c2efes25 \n",
       "<mark class=\"entity\" style=\"background: #92E0AA; padding: 0.45em 0.6em; margin: 0 0.25em; line-height: 1; border-radius: 0.35em;\">\n",
       "    lex-c930x73g\n",
       "    <span style=\"font-size: 0.8em; font-weight: bold; line-height: 1; border-radius: 0.35em; vertical-align: middle; margin-left: 0.5rem\">PART_NUM</span>\n",
       "</mark>\n",
       " , 1 , c2efes25</div></span>"
      ],
      "text/plain": [
       "<IPython.core.display.HTML object>"
      ]
     },
     "metadata": {},
     "output_type": "display_data"
    },
    {
     "name": "stdout",
     "output_type": "stream",
     "text": [
      "------------------------- acutal entities -------------------------\n",
      "('lex-c930x73g', 29, 41, 'PART_NUM')\n",
      "------------------------- predict entities -------------------------\n",
      "('lex-c930x76gh ,', 0, 15, 'PART_NUM')\n",
      "('lex-c930x73g', 29, 41, 'PART_NUM')\n",
      "====================================================================================================\n",
      "b of a order the following for nbd: jc39-02567a , jc39-02553a , jc39-02584 , and ( 2 ) 5851-6712 ship to my primary hal\n"
     ]
    },
    {
     "data": {
      "text/html": [
       "<span class=\"tex2jax_ignore\"><div class=\"entities\" style=\"line-height: 2.5; direction: ltr\">b of a order the following for nbd: \n",
       "<mark class=\"entity\" style=\"background: #92E0AA; padding: 0.45em 0.6em; margin: 0 0.25em; line-height: 1; border-radius: 0.35em;\">\n",
       "    jc39-02567a\n",
       "    <span style=\"font-size: 0.8em; font-weight: bold; line-height: 1; border-radius: 0.35em; vertical-align: middle; margin-left: 0.5rem\">PART_NUM</span>\n",
       "</mark>\n",
       " , \n",
       "<mark class=\"entity\" style=\"background: #92E0AA; padding: 0.45em 0.6em; margin: 0 0.25em; line-height: 1; border-radius: 0.35em;\">\n",
       "    jc39-02553a\n",
       "    <span style=\"font-size: 0.8em; font-weight: bold; line-height: 1; border-radius: 0.35em; vertical-align: middle; margin-left: 0.5rem\">PART_NUM</span>\n",
       "</mark>\n",
       " , \n",
       "<mark class=\"entity\" style=\"background: #92E0AA; padding: 0.45em 0.6em; margin: 0 0.25em; line-height: 1; border-radius: 0.35em;\">\n",
       "    jc39-02584\n",
       "    <span style=\"font-size: 0.8em; font-weight: bold; line-height: 1; border-radius: 0.35em; vertical-align: middle; margin-left: 0.5rem\">PART_NUM</span>\n",
       "</mark>\n",
       " , and ( 2 ) \n",
       "<mark class=\"entity\" style=\"background: #92E0AA; padding: 0.45em 0.6em; margin: 0 0.25em; line-height: 1; border-radius: 0.35em;\">\n",
       "    5851-6712\n",
       "    <span style=\"font-size: 0.8em; font-weight: bold; line-height: 1; border-radius: 0.35em; vertical-align: middle; margin-left: 0.5rem\">PART_NUM</span>\n",
       "</mark>\n",
       " ship to my primary hal</div></span>"
      ],
      "text/plain": [
       "<IPython.core.display.HTML object>"
      ]
     },
     "metadata": {},
     "output_type": "display_data"
    },
    {
     "name": "stdout",
     "output_type": "stream",
     "text": [
      "------------------------- acutal entities -------------------------\n",
      "('jc39-02567a', 36, 47, 'PART_NUM')\n",
      "('jc39-02553a', 50, 61, 'PART_NUM')\n",
      "('5851-6712', 87, 96, 'PART_NUM')\n",
      "------------------------- predict entities -------------------------\n",
      "('jc39-02567a', 36, 47, 'PART_NUM')\n",
      "('jc39-02553a', 50, 61, 'PART_NUM')\n",
      "('jc39-02584', 64, 74, 'PART_NUM')\n",
      "('5851-6712', 87, 96, 'PART_NUM')\n",
      "====================================================================================================\n",
      "please send part to local hal in louisville , ky 795970-602 . please send part to local hal in louisville , kentucky 795970-602\n"
     ]
    },
    {
     "data": {
      "text/html": [
       "<span class=\"tex2jax_ignore\"><div class=\"entities\" style=\"line-height: 2.5; direction: ltr\">please send part to local hal in louisville , \n",
       "<mark class=\"entity\" style=\"background: #92E0AA; padding: 0.45em 0.6em; margin: 0 0.25em; line-height: 1; border-radius: 0.35em;\">\n",
       "    ky 795970-602\n",
       "    <span style=\"font-size: 0.8em; font-weight: bold; line-height: 1; border-radius: 0.35em; vertical-align: middle; margin-left: 0.5rem\">PART_NUM</span>\n",
       "</mark>\n",
       " . please send part to local hal in louisville , kentucky \n",
       "<mark class=\"entity\" style=\"background: #92E0AA; padding: 0.45em 0.6em; margin: 0 0.25em; line-height: 1; border-radius: 0.35em;\">\n",
       "    795970-602\n",
       "    <span style=\"font-size: 0.8em; font-weight: bold; line-height: 1; border-radius: 0.35em; vertical-align: middle; margin-left: 0.5rem\">PART_NUM</span>\n",
       "</mark>\n",
       "</div></span>"
      ],
      "text/plain": [
       "<IPython.core.display.HTML object>"
      ]
     },
     "metadata": {},
     "output_type": "display_data"
    },
    {
     "name": "stdout",
     "output_type": "stream",
     "text": [
      "------------------------- acutal entities -------------------------\n",
      "('795970-602', 49, 59, 'PART_NUM')\n",
      "('795970-602', 117, 127, 'PART_NUM')\n",
      "------------------------- predict entities -------------------------\n",
      "('ky 795970-602', 46, 59, 'PART_NUM')\n",
      "('795970-602', 117, 127, 'PART_NUM')\n",
      "====================================================================================================\n",
      "please send part to local hal in louisville , ky 795970-602 . please send part to local hal in louisville , kentucky 795970-602\n"
     ]
    },
    {
     "data": {
      "text/html": [
       "<span class=\"tex2jax_ignore\"><div class=\"entities\" style=\"line-height: 2.5; direction: ltr\">please send part to local hal in louisville , \n",
       "<mark class=\"entity\" style=\"background: #92E0AA; padding: 0.45em 0.6em; margin: 0 0.25em; line-height: 1; border-radius: 0.35em;\">\n",
       "    ky 795970-602\n",
       "    <span style=\"font-size: 0.8em; font-weight: bold; line-height: 1; border-radius: 0.35em; vertical-align: middle; margin-left: 0.5rem\">PART_NUM</span>\n",
       "</mark>\n",
       " . please send part to local hal in louisville , kentucky \n",
       "<mark class=\"entity\" style=\"background: #92E0AA; padding: 0.45em 0.6em; margin: 0 0.25em; line-height: 1; border-radius: 0.35em;\">\n",
       "    795970-602\n",
       "    <span style=\"font-size: 0.8em; font-weight: bold; line-height: 1; border-radius: 0.35em; vertical-align: middle; margin-left: 0.5rem\">PART_NUM</span>\n",
       "</mark>\n",
       "</div></span>"
      ],
      "text/plain": [
       "<IPython.core.display.HTML object>"
      ]
     },
     "metadata": {},
     "output_type": "display_data"
    },
    {
     "name": "stdout",
     "output_type": "stream",
     "text": [
      "------------------------- acutal entities -------------------------\n",
      "('795970-602', 49, 59, 'PART_NUM')\n",
      "('795970-602', 117, 127, 'PART_NUM')\n",
      "------------------------- predict entities -------------------------\n",
      "('ky 795970-602', 46, 59, 'PART_NUM')\n",
      "('795970-602', 117, 127, 'PART_NUM')\n"
     ]
    }
   ],
   "source": [
    "show_texts(error_data)  "
   ]
  },
  {
   "cell_type": "code",
   "execution_count": 33,
   "id": "dd160be7",
   "metadata": {
    "ExecuteTime": {
     "end_time": "2021-08-25T00:36:09.364454Z",
     "start_time": "2021-08-25T00:36:09.231128Z"
    }
   },
   "outputs": [
    {
     "name": "stdout",
     "output_type": "stream",
     "text": [
      "('rm26322-000cn', 0, 13, 'PART_NUM')\n",
      "('e6b69-67901', 23, 34, 'PART_NUM')\n",
      "('rm1-8413-000cn', 44, 58, 'PART_NUM')\n"
     ]
    },
    {
     "data": {
      "text/html": [
       "<span class=\"tex2jax_ignore\"><div class=\"entities\" style=\"line-height: 2.5; direction: ltr\">\n",
       "<mark class=\"entity\" style=\"background: #92E0AA; padding: 0.45em 0.6em; margin: 0 0.25em; line-height: 1; border-radius: 0.35em;\">\n",
       "    rm26322-000cn\n",
       "    <span style=\"font-size: 0.8em; font-weight: bold; line-height: 1; border-radius: 0.35em; vertical-align: middle; margin-left: 0.5rem\">PART_NUM</span>\n",
       "</mark>\n",
       " PART_NUM \n",
       "<mark class=\"entity\" style=\"background: #92E0AA; padding: 0.45em 0.6em; margin: 0 0.25em; line-height: 1; border-radius: 0.35em;\">\n",
       "    e6b69-67901\n",
       "    <span style=\"font-size: 0.8em; font-weight: bold; line-height: 1; border-radius: 0.35em; vertical-align: middle; margin-left: 0.5rem\">PART_NUM</span>\n",
       "</mark>\n",
       " PART_NUM \n",
       "<mark class=\"entity\" style=\"background: #92E0AA; padding: 0.45em 0.6em; margin: 0 0.25em; line-height: 1; border-radius: 0.35em;\">\n",
       "    rm1-8413-000cn\n",
       "    <span style=\"font-size: 0.8em; font-weight: bold; line-height: 1; border-radius: 0.35em; vertical-align: middle; margin-left: 0.5rem\">PART_NUM</span>\n",
       "</mark>\n",
       " PART_NUM please send ACTION to fedex ACTION 3242 herrman rd garland , texas 75041 on 2021-08-21</div></span>"
      ],
      "text/plain": [
       "<IPython.core.display.HTML object>"
      ]
     },
     "metadata": {},
     "output_type": "display_data"
    }
   ],
   "source": [
    "doc = nlp('rm26322-000cn PART_NUM e6b69-67901 PART_NUM rm1-8413-000cn PART_NUM please send ACTION to fedex ACTION 3242 herrman rd garland , texas 75041 on 2021-08-21')\n",
    "print(*[(ent.text, ent.start_char, ent.end_char, ent.label_) for ent in doc.ents], sep='\\n') \n",
    "spacy.displacy.render(doc, style='ent', options=options)"
   ]
  },
  {
   "cell_type": "markdown",
   "id": "39807173",
   "metadata": {},
   "source": [
    "### Some Features and Issues\n",
    "\n",
    "#### Miss some part-numbers "
   ]
  },
  {
   "cell_type": "code",
   "execution_count": 34,
   "id": "5d242f6c",
   "metadata": {
    "ExecuteTime": {
     "end_time": "2021-08-25T00:36:09.378082Z",
     "start_time": "2021-08-25T00:36:09.366689Z"
    }
   },
   "outputs": [],
   "source": [
    "sample_parts = ['M14302-161', '926537-001', 'M46915-D01', '140314-FB2', '176253-8B0', \n",
    "               '442010-ABC', 'L07896-DB1', '168757-B21', 'FE-15520-01', 'RM1-7867-000CN', \n",
    "               '5066-4719', '5066-3872-1', '3HZ90-30001', 'T6M22-30001', '98544-04105', \n",
    "               'C8109-69018', 'L26480-DB1', '632427-001B', 'CN463-69003', 'RM1-1298BULK', \n",
    "               '8-752-078-46', 'X-4035-119-1', 'TBLB3002-A04', '4822-701-15319', '08-2212C-33W', \n",
    "               '19-40065-011', 'ATT09850-66532', '98564-66572-SQ', '897-250144AA', '738-576-94', \n",
    "               '1FQ6-0001', '1818-7469-LGSA', '1820-6361M', '1818-6868-SAM', '3138-107-96160', \n",
    "               '686858R-999', 'MD30C-A2', '29-26196-00', 'DEL-7D092', 'LEX-40X2384', 'LEX-40X2831H', \n",
    "               'SAM-6107001172', 'SHA-1625DS51', 'XER-006R01275', 'BRO-TN115BK', 'DEL-310-5811', \n",
    "               'DEL-PK496', 'KYO-1702F97US0', 'LA95-CA', 'KYO-DK-310H', 'EPS-C31CD38A9921', \n",
    "               'KYO-F994091H', 'EPS-CEPS-003G', 'LEX-24015SA', 'LEX-62D1X00', 'LEX-72K0DV0', \n",
    "               'LEX-801HC', 'LEX-C5220CSH', 'TRO-78-24619-001', 'LEX-C544X1CG', 'HPE-749797-001', \n",
    "               'SFT-P-895', 'LEX-E260A21A-C', 'RIC-D0296509', 'SEA-ST1000LM049', 'LEX-12A8400-PC', \n",
    "               'HPE-JL258A', 'RIC-400507', 'FUJ-FPCPR362AQ', 'TOS-6LE8296100', 'XER-003K04980', \n",
    "               'XER-116111500', 'ATS-2711FXSC-901', 'BRO-TN336BK', 'DEL-310-5807', 'HPI-CF258A-M', \n",
    "               'LEX-T101-0000000', 'DEL-9PN5P', 'SAM-BA92-08880A', 'APC-RBC7', 'KMH-4448-121', \n",
    "               'SXC-C7ABTTAAB', 'TRO-04621201', 'VEF-28924-04-R', 'WFP-HPM527Z', 'KYO-1702LK0UN2', \n",
    "               'APC-SUA1500RM2U', 'KYO-302NM18021', 'HPE-JH329-61001', 'KYO-1T02GA0US0', 'LEB-04X4674',\n",
    "               'KYO-302GR93034', 'DEL-V1RX3', 'LEX-40X0593', 'TOS-6LH3460800', 'RIC-AE020171', \n",
    "               'XER-59K60140', 'BRO-LM5140001', 'KMH-A00JA56600', 'KYO-302F906240', 'BRO-LEM084001', \n",
    "               'XER-116-2035', 'BRO-BU100CLH', '3X-LK465-A2', '4G1-3999-030CN', 'H3980-60002BULK', \n",
    "               'SHA-VHI0MFP000', 'TOS-C017839000', 'JC66-01190A', 'XER-3335DNI', 'XER-3635MFP-S', \n",
    "               'XER-4622DN', 'XER-7750-Z2', 'DEL-D1320-W3', 'DEL-P637D', 'LEX-C540X35G', \n",
    "               'SHA-CPLTM8190F', 'SHACFRM-1380DS53', 'XER-401-0855-0', '90-0077', 'BRO-LF6710001', \n",
    "               'Q3938-68001-PCA', 'C314X+49A-90002', '20ER-84530KC', 'RM2-2903-BULK', 'CE506-67919-BU', \n",
    "               'CH971-91596', 'DEL-FM235', 'JC44-00210E', 'SHACFRM-1509DS52', 'SHADHAI-5043FCPZ', \n",
    "               'SHAGCAB-1102FCB1', '000-50-02-008', '504000226-DD', 'SHAVHPLG217L5A-1', 'SHAVHPOSH03Y02-1', \n",
    "               'SHADUNT-8962FCP1', 'SHAKI-OK0010FCPZ', 'SHAQSW-P0506FCZZ', 'SHAVHPGP1A73AR-1', 'SHARH-IX0055FCPZ', \n",
    "               '358-000001', 'SHAVHPGP1A71L3-18', 'B23-0994', '504000226-D', '5066-0731', \n",
    "               'E0-CABLE-01', 'RM1-8508-010-BU', 'B3M77-67902-BU', 'CA02626-E029FJ', 'CF065-67901-BU', \n",
    "               'C2H57-67901-BULK', 'LN08-A2', '693709-001B', 'SS467-67001', 'LEX-70C0D20', \n",
    "               'SHAQSW-M0518FCPZ', 'SHALX-BZ0994FCPZ', 'LN08X-TF', 'SHAGCAB-1507FCAZ']\n",
    "\n",
    "sample_parts = [part.lower() for part in sample_parts]"
   ]
  },
  {
   "cell_type": "code",
   "execution_count": 35,
   "id": "3da58c22",
   "metadata": {
    "ExecuteTime": {
     "end_time": "2021-08-25T00:36:10.143800Z",
     "start_time": "2021-08-25T00:36:09.380403Z"
    }
   },
   "outputs": [
    {
     "ename": "IndexError",
     "evalue": "tuple index out of range",
     "output_type": "error",
     "traceback": [
      "\u001b[0;31m\u001b[0m",
      "\u001b[0;31mIndexError\u001b[0mTraceback (most recent call last)",
      "\u001b[0;32m<ipython-input-35-17863786e2db>\u001b[0m in \u001b[0;36m<module>\u001b[0;34m\u001b[0m\n\u001b[1;32m     17\u001b[0m \u001b[0;34m\u001b[0m\u001b[0m\n\u001b[1;32m     18\u001b[0m \u001b[0mparts\u001b[0m \u001b[0;34m=\u001b[0m \u001b[0;34m[\u001b[0m\u001b[0;34m'000-50-02-008'\u001b[0m\u001b[0;34m]\u001b[0m\u001b[0;34m\u001b[0m\u001b[0;34m\u001b[0m\u001b[0m\n\u001b[0;32m---> 19\u001b[0;31m \u001b[0mtexts\u001b[0m\u001b[0;34m,\u001b[0m \u001b[0merror_texts\u001b[0m\u001b[0;34m,\u001b[0m \u001b[0merrpr_parts\u001b[0m \u001b[0;34m=\u001b[0m \u001b[0mcheck_sample_parts\u001b[0m\u001b[0;34m(\u001b[0m\u001b[0mparts\u001b[0m\u001b[0;34m)\u001b[0m\u001b[0;34m\u001b[0m\u001b[0;34m\u001b[0m\u001b[0m\n\u001b[0m\u001b[1;32m     20\u001b[0m \u001b[0mshow_texts\u001b[0m\u001b[0;34m(\u001b[0m\u001b[0mtexts\u001b[0m\u001b[0;34m,\u001b[0m \u001b[0mshow_detail\u001b[0m\u001b[0;34m=\u001b[0m\u001b[0;32mTrue\u001b[0m\u001b[0;34m)\u001b[0m\u001b[0;34m\u001b[0m\u001b[0;34m\u001b[0m\u001b[0m\n",
      "\u001b[0;32m<ipython-input-35-17863786e2db>\u001b[0m in \u001b[0;36mcheck_sample_parts\u001b[0;34m(parts)\u001b[0m\n\u001b[1;32m     11\u001b[0m     \u001b[0;32mfor\u001b[0m \u001b[0mdoc\u001b[0m\u001b[0;34m,\u001b[0m \u001b[0mpart\u001b[0m \u001b[0;32min\u001b[0m \u001b[0mzip\u001b[0m\u001b[0;34m(\u001b[0m\u001b[0mdocs\u001b[0m\u001b[0;34m,\u001b[0m \u001b[0mparts\u001b[0m\u001b[0;34m)\u001b[0m\u001b[0;34m:\u001b[0m\u001b[0;34m\u001b[0m\u001b[0;34m\u001b[0m\u001b[0m\n\u001b[1;32m     12\u001b[0m         \u001b[0mtexts\u001b[0m\u001b[0;34m.\u001b[0m\u001b[0mappend\u001b[0m\u001b[0;34m(\u001b[0m\u001b[0mdoc\u001b[0m\u001b[0;34m.\u001b[0m\u001b[0mtext\u001b[0m\u001b[0;34m)\u001b[0m\u001b[0;34m\u001b[0m\u001b[0;34m\u001b[0m\u001b[0m\n\u001b[0;32m---> 13\u001b[0;31m         \u001b[0;32mif\u001b[0m \u001b[0mlen\u001b[0m\u001b[0;34m(\u001b[0m\u001b[0mdoc\u001b[0m\u001b[0;34m.\u001b[0m\u001b[0ments\u001b[0m\u001b[0;34m)\u001b[0m \u001b[0;34m!=\u001b[0m\u001b[0;36m1\u001b[0m \u001b[0;32mor\u001b[0m \u001b[0mdoc\u001b[0m\u001b[0;34m.\u001b[0m\u001b[0ments\u001b[0m\u001b[0;34m[\u001b[0m\u001b[0;36m1\u001b[0m\u001b[0;34m]\u001b[0m\u001b[0;34m.\u001b[0m\u001b[0mtext\u001b[0m \u001b[0;34m!=\u001b[0m \u001b[0mpart\u001b[0m\u001b[0;34m.\u001b[0m\u001b[0mlower\u001b[0m\u001b[0;34m(\u001b[0m\u001b[0;34m)\u001b[0m\u001b[0;34m:\u001b[0m\u001b[0;34m\u001b[0m\u001b[0;34m\u001b[0m\u001b[0m\n\u001b[0m\u001b[1;32m     14\u001b[0m             \u001b[0merror_texts\u001b[0m\u001b[0;34m.\u001b[0m\u001b[0mappend\u001b[0m\u001b[0;34m(\u001b[0m\u001b[0mdoc\u001b[0m\u001b[0;34m.\u001b[0m\u001b[0mtext\u001b[0m\u001b[0;34m)\u001b[0m\u001b[0;34m\u001b[0m\u001b[0;34m\u001b[0m\u001b[0m\n\u001b[1;32m     15\u001b[0m             \u001b[0merrpr_parts\u001b[0m\u001b[0;34m.\u001b[0m\u001b[0mappend\u001b[0m\u001b[0;34m(\u001b[0m\u001b[0mpart\u001b[0m\u001b[0;34m)\u001b[0m\u001b[0;34m\u001b[0m\u001b[0;34m\u001b[0m\u001b[0m\n",
      "\u001b[0;31mIndexError\u001b[0m: tuple index out of range"
     ]
    }
   ],
   "source": [
    "def get_texts(parts, standardize_text=standardize_text1):\n",
    "    texts = [standardize_text(f'Please order qty 1 {part} NBD to my HAL in Lenexa. Thank you.') for part in parts]\n",
    "    return texts\n",
    "\n",
    "def check_sample_parts(parts):  \n",
    "    texts = get_texts(parts)\n",
    "    docs = nlp.pipe(texts)\n",
    "    texts = []\n",
    "    error_texts = []\n",
    "    errpr_parts = []\n",
    "    for doc, part in zip(docs, parts):\n",
    "        texts.append(doc.text)\n",
    "        if len(doc.ents) !=1 or doc.ents[1].text != part.lower():\n",
    "            error_texts.append(doc.text)\n",
    "            errpr_parts.append(part)\n",
    "    return texts, error_texts, errpr_parts\n",
    "        \n",
    "parts = ['000-50-02-008']\n",
    "texts, error_texts, errpr_parts = check_sample_parts(parts)\n",
    "show_texts(texts, show_detail=True) "
   ]
  },
  {
   "cell_type": "code",
   "execution_count": null,
   "id": "683a3113",
   "metadata": {
    "ExecuteTime": {
     "end_time": "2021-08-25T00:36:10.146033Z",
     "start_time": "2021-08-25T00:33:21.279Z"
    },
    "scrolled": false
   },
   "outputs": [],
   "source": [
    "parts = sample_parts\n",
    "texts, error_texts, errpr_parts = check_sample_parts(parts)\n",
    "print(f'find {len(error_texts)}/{len(parts)} errors')\n",
    "show_texts(error_texts, show_detail=True)  "
   ]
  },
  {
   "cell_type": "code",
   "execution_count": null,
   "id": "12849b5f",
   "metadata": {
    "ExecuteTime": {
     "end_time": "2021-08-25T00:36:10.147622Z",
     "start_time": "2021-08-25T00:33:21.281Z"
    },
    "scrolled": false
   },
   "outputs": [],
   "source": [
    "error_text_entities, error_pattern_matchs = generate_label(error_texts, patterns=patterns)\n",
    "show_entity_label(error_text_entities, error_pattern_matchs)"
   ]
  },
  {
   "cell_type": "markdown",
   "id": "65e43452",
   "metadata": {},
   "source": [
    "I think that the issues are mainly caused by lacking of these parts in training data. \n",
    "\n",
    "There are 2 solutions:\n",
    "\n",
    "1. mmerge some rules from regular expressions and others.\n",
    "2. use data augmentation to generate a lot of random part numbers based on the rules."
   ]
  },
  {
   "cell_type": "markdown",
   "id": "74d47d2f",
   "metadata": {},
   "source": [
    "####  Find potentail part number"
   ]
  },
  {
   "cell_type": "code",
   "execution_count": null,
   "id": "8ad3116c",
   "metadata": {
    "ExecuteTime": {
     "end_time": "2021-08-25T00:36:10.149254Z",
     "start_time": "2021-08-25T00:33:21.285Z"
    }
   },
   "outputs": [],
   "source": [
    "parts = ['FE-15520-01', 'FE-15520-012', 'FE-15520-01233']\n",
    "texts, error_texts, errpr_parts = check_sample_parts(parts)\n",
    "print(f'find {len(error_texts)}/{len(parts)} errors')\n",
    "show_texts(texts, show_detail=True)  \n"
   ]
  },
  {
   "cell_type": "code",
   "execution_count": null,
   "id": "a1c2bf0a",
   "metadata": {
    "ExecuteTime": {
     "end_time": "2021-08-25T00:36:10.150807Z",
     "start_time": "2021-08-25T00:33:21.288Z"
    }
   },
   "outputs": [],
   "source": [
    "some_text_entities, sample_pattern_matchs = generate_label(texts, patterns=patterns)\n",
    "show_entity_label(sample_text_entities, sample_pattern_matchs)"
   ]
  },
  {
   "cell_type": "markdown",
   "id": "707306b6",
   "metadata": {},
   "source": [
    "#### find potential actions \n",
    "\n",
    "it has some effects, but not good enough."
   ]
  },
  {
   "cell_type": "code",
   "execution_count": null,
   "id": "ff798137",
   "metadata": {
    "ExecuteTime": {
     "end_time": "2021-08-25T00:36:10.152261Z",
     "start_time": "2021-08-25T00:33:21.292Z"
    }
   },
   "outputs": [],
   "source": [
    "texts = ['order qty 1 fe-15520-01 nbd to my hal in lenexa . thank you . ',\n",
    "         'orders qty 1 fe-15520-01 nbd to my hal in lenexa . thank you . ',\n",
    "         'send qty 1 fe-15520-01 nbd to my hal in lenexa . thank you . ',\n",
    "         'sends qty 1 fe-15520-01 nbd to my hal in lenexa . thank you . ',\n",
    "         'ship qty 1 fe-15520-01 nbd to my hal in lenexa . thank you . ',\n",
    "         'ships qty 1 fe-15520-01 nbd to my hal in lenexa . thank you . 2012-02-02',         \n",
    "        ]\n",
    "\n",
    "show_texts(texts, show_detail=False) "
   ]
  },
  {
   "cell_type": "code",
   "execution_count": null,
   "id": "85bdcd42",
   "metadata": {},
   "outputs": [],
   "source": []
  }
 ],
 "metadata": {
  "kernelspec": {
   "display_name": "Python 3",
   "language": "python",
   "name": "python3"
  },
  "language_info": {
   "codemirror_mode": {
    "name": "ipython",
    "version": 3
   },
   "file_extension": ".py",
   "mimetype": "text/x-python",
   "name": "python",
   "nbconvert_exporter": "python",
   "pygments_lexer": "ipython3",
   "version": "3.6.9"
  },
  "toc": {
   "base_numbering": 1,
   "nav_menu": {},
   "number_sections": true,
   "sideBar": true,
   "skip_h1_title": false,
   "title_cell": "Table of Contents",
   "title_sidebar": "Contents",
   "toc_cell": false,
   "toc_position": {
    "height": "calc(100% - 180px)",
    "left": "10px",
    "top": "150px",
    "width": "426.641px"
   },
   "toc_section_display": true,
   "toc_window_display": true
  }
 },
 "nbformat": 4,
 "nbformat_minor": 5
}
