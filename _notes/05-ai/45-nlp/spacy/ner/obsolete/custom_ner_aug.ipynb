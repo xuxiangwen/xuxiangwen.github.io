{
 "cells": [
  {
   "cell_type": "code",
   "execution_count": 1,
   "id": "28990d1b",
   "metadata": {
    "ExecuteTime": {
     "end_time": "2021-08-25T00:30:49.507035Z",
     "start_time": "2021-08-25T00:30:45.483704Z"
    }
   },
   "outputs": [],
   "source": [
    "import csv\n",
    "import exrex # !pip install exrex\n",
    "import pandas as pd\n",
    "import numpy as np\n",
    "import re \n",
    "import spacy\n",
    "\n",
    "from tqdm import tqdm\n",
    "from spacy.tokens import DocBin\n",
    "from sklearn.model_selection import train_test_split\n",
    "\n",
    "# ebablbe auto-completion\n",
    "%config Completer.use_jedi = False"
   ]
  },
  {
   "cell_type": "markdown",
   "id": "241f2b20",
   "metadata": {},
   "source": [
    "## Generate Config File\n",
    "\n",
    "download model."
   ]
  },
  {
   "cell_type": "code",
   "execution_count": 2,
   "id": "15a880fa",
   "metadata": {
    "ExecuteTime": {
     "end_time": "2021-08-25T00:30:49.511829Z",
     "start_time": "2021-08-25T00:30:49.509461Z"
    }
   },
   "outputs": [],
   "source": [
    "# !python -m spacy download en_core_web_trf"
   ]
  },
  {
   "cell_type": "markdown",
   "id": "f2a19cea",
   "metadata": {},
   "source": [
    "generate base_config.cfg and base_config_gpu.cfg on https://spacy.io/usage/training#quickstart"
   ]
  },
  {
   "cell_type": "code",
   "execution_count": 3,
   "id": "9704539b",
   "metadata": {
    "ExecuteTime": {
     "end_time": "2021-08-25T00:30:49.519553Z",
     "start_time": "2021-08-25T00:30:49.514541Z"
    }
   },
   "outputs": [],
   "source": [
    "# !python -m spacy init fill-config base_config.cfg config.cfg\n",
    "# !python -m spacy init fill-config base_config_gpu.cfg config_gpu.cfg"
   ]
  },
  {
   "cell_type": "markdown",
   "id": "4b171699",
   "metadata": {},
   "source": [
    "## Gather Data"
   ]
  },
  {
   "cell_type": "markdown",
   "id": "00ed4da0",
   "metadata": {},
   "source": [
    "###  Convert Excel to Txt\n",
    "upload the excel file to http://15.15.166.35:18888/tree/eipi10/jian-xu3/snps-classification/snps/etl/data/case_note_ner/xlsx\n",
    "\n",
    "~~~shell\n",
    "!pip install xlrd==1.2.0\n",
    "~~~"
   ]
  },
  {
   "cell_type": "code",
   "execution_count": 4,
   "id": "800baa96",
   "metadata": {
    "ExecuteTime": {
     "end_time": "2021-08-25T00:30:49.529313Z",
     "start_time": "2021-08-25T00:30:49.521987Z"
    }
   },
   "outputs": [],
   "source": [
    "# !ls -l /tf/eipi10/jian-xu3/snps-classification/snps/etl/data/case_note_ner/xlsx/ "
   ]
  },
  {
   "cell_type": "code",
   "execution_count": 5,
   "id": "a8e4e1c7",
   "metadata": {
    "ExecuteTime": {
     "end_time": "2021-08-25T00:30:49.536350Z",
     "start_time": "2021-08-25T00:30:49.531588Z"
    }
   },
   "outputs": [],
   "source": [
    "# ! /tf/eipi10/jian-xu3/snps-classification/snps/etl/xlsx2txt.py  case_note_ner '' 1 '\\t'"
   ]
  },
  {
   "cell_type": "markdown",
   "id": "e640dc4b",
   "metadata": {},
   "source": [
    "### Load Txt File"
   ]
  },
  {
   "cell_type": "code",
   "execution_count": 6,
   "id": "c7829e62",
   "metadata": {
    "ExecuteTime": {
     "end_time": "2021-08-25T00:30:49.598776Z",
     "start_time": "2021-08-25T00:30:49.538556Z"
    }
   },
   "outputs": [],
   "source": [
    "\n",
    "def load_data(text_file):\n",
    "    names = ['Case_ID', 'Work_Order_Number', 'Created_On', 'Service_Account', 'Due_Date', \n",
    "             'Action_Booking_status', 'Action_Date', 'Currently_Worked_by', 'Owner', 'Product_Line', \n",
    "             'Follow_Up_Reason_Code', 'Response_Time', 'Work_Order_Type', 'Postal_Code', 'Active_Booking', \n",
    "             'Follow_Up_Type', 'Business_Segment', 'Follow_Up_Note', 'Reschedule_Note']\n",
    "    dtypes = [np.str, np.str, np.str, np.str, np.str, \n",
    "              np.str, np.str, np.str, np.str, np.str, \n",
    "              np.str, np.str, np.str, np.str, np.str,\n",
    "              np.str, np.str, np.str, np.str]\n",
    "    dtypes = {name:dtype for name, dtype in zip(names, dtypes)}\n",
    "    df = pd.read_table(text_file, names=names, dtype=dtypes, quoting=csv.QUOTE_NONE)\n",
    "\n",
    "    df.index = range(1, len(df)+1) \n",
    "    df['id'] = df.index\n",
    "      \n",
    "    return df\n",
    "\n",
    "text_file='/tf/eipi10/jian-xu3/snps-classification/snps/etl/data/case_note_ner/txt/3RS_July_Extraction_with_notes_004.txt'\n",
    "df_case = load_data(text_file)"
   ]
  },
  {
   "cell_type": "code",
   "execution_count": 7,
   "id": "539ade87",
   "metadata": {
    "ExecuteTime": {
     "end_time": "2021-08-25T00:30:49.689368Z",
     "start_time": "2021-08-25T00:30:49.601059Z"
    }
   },
   "outputs": [
    {
     "name": "stdout",
     "output_type": "stream",
     "text": [
      "--------------------------------------------------\n",
      "7039\n",
      "--------------------------------------------------\n"
     ]
    },
    {
     "data": {
      "text/html": [
       "<div>\n",
       "<style scoped>\n",
       "    .dataframe tbody tr th:only-of-type {\n",
       "        vertical-align: middle;\n",
       "    }\n",
       "\n",
       "    .dataframe tbody tr th {\n",
       "        vertical-align: top;\n",
       "    }\n",
       "\n",
       "    .dataframe thead th {\n",
       "        text-align: right;\n",
       "    }\n",
       "</style>\n",
       "<table border=\"1\" class=\"dataframe\">\n",
       "  <thead>\n",
       "    <tr style=\"text-align: right;\">\n",
       "      <th></th>\n",
       "      <th>Case_ID</th>\n",
       "      <th>Work_Order_Number</th>\n",
       "      <th>Created_On</th>\n",
       "      <th>Service_Account</th>\n",
       "      <th>Due_Date</th>\n",
       "      <th>Action_Booking_status</th>\n",
       "      <th>Action_Date</th>\n",
       "      <th>Currently_Worked_by</th>\n",
       "      <th>Owner</th>\n",
       "      <th>Product_Line</th>\n",
       "      <th>Follow_Up_Reason_Code</th>\n",
       "      <th>Response_Time</th>\n",
       "      <th>Work_Order_Type</th>\n",
       "      <th>Postal_Code</th>\n",
       "      <th>Active_Booking</th>\n",
       "      <th>Follow_Up_Type</th>\n",
       "      <th>Business_Segment</th>\n",
       "      <th>Follow_Up_Note</th>\n",
       "      <th>Reschedule_Note</th>\n",
       "      <th>id</th>\n",
       "    </tr>\n",
       "  </thead>\n",
       "  <tbody>\n",
       "    <tr>\n",
       "      <th>1</th>\n",
       "      <td>5060815932</td>\n",
       "      <td>WO-012952625</td>\n",
       "      <td>2021-02-03 10:38:00</td>\n",
       "      <td>William Torres</td>\n",
       "      <td>2021-04-26 15:00:00</td>\n",
       "      <td>Additional Parts Required</td>\n",
       "      <td>2021-07-03 11:45:00</td>\n",
       "      <td>Kerby Singleton</td>\n",
       "      <td>Nancy Quesada</td>\n",
       "      <td>Commercial Desktop PC Premium L6</td>\n",
       "      <td>NaN</td>\n",
       "      <td>NCD</td>\n",
       "      <td>Break Fix</td>\n",
       "      <td>30305</td>\n",
       "      <td>PC-Kerby Singleton</td>\n",
       "      <td>Additional Parts Required</td>\n",
       "      <td>Computing</td>\n",
       "      <td>NaN</td>\n",
       "      <td>#NORMAL Part escalated</td>\n",
       "      <td>1</td>\n",
       "    </tr>\n",
       "    <tr>\n",
       "      <th>2</th>\n",
       "      <td>5060815932</td>\n",
       "      <td>WO-012952625</td>\n",
       "      <td>2021-02-03 10:38:00</td>\n",
       "      <td>William Torres</td>\n",
       "      <td>2021-04-26 15:00:00</td>\n",
       "      <td>Additional Parts Required</td>\n",
       "      <td>2021-07-03 11:45:00</td>\n",
       "      <td>Kerby Singleton</td>\n",
       "      <td>Nancy Quesada</td>\n",
       "      <td>Commercial Desktop PC Premium L6</td>\n",
       "      <td>NaN</td>\n",
       "      <td>NCD</td>\n",
       "      <td>Break Fix</td>\n",
       "      <td>30305</td>\n",
       "      <td>PC-Kerby Singleton</td>\n",
       "      <td>Additional Parts Required</td>\n",
       "      <td>Computing</td>\n",
       "      <td>NaN</td>\n",
       "      <td>Please cancel backordered part. Customer has c...</td>\n",
       "      <td>2</td>\n",
       "    </tr>\n",
       "    <tr>\n",
       "      <th>3</th>\n",
       "      <td>5061272897</td>\n",
       "      <td>WO-013009621</td>\n",
       "      <td>2021-02-09 13:39:00</td>\n",
       "      <td>LAS VEGAS METRO POLICE DEPT</td>\n",
       "      <td>2021-02-24 19:00:00</td>\n",
       "      <td>Additional Parts Required</td>\n",
       "      <td>2021-07-16 15:30:00</td>\n",
       "      <td>NaN</td>\n",
       "      <td>Avinash Shukla</td>\n",
       "      <td>Commercial Premium Notebooks</td>\n",
       "      <td>NaN</td>\n",
       "      <td>NCD</td>\n",
       "      <td>Break Fix</td>\n",
       "      <td>89101</td>\n",
       "      <td>PC-Joe Walper</td>\n",
       "      <td>Additional Parts Required</td>\n",
       "      <td>Computing</td>\n",
       "      <td>NaN</td>\n",
       "      <td>According to bryan this laptop shows repair co...</td>\n",
       "      <td>3</td>\n",
       "    </tr>\n",
       "    <tr>\n",
       "      <th>4</th>\n",
       "      <td>5061272897</td>\n",
       "      <td>WO-013009621</td>\n",
       "      <td>2021-02-09 13:39:00</td>\n",
       "      <td>LAS VEGAS METRO POLICE DEPT</td>\n",
       "      <td>2021-02-24 19:00:00</td>\n",
       "      <td>Additional Parts Required</td>\n",
       "      <td>2021-07-16 15:30:00</td>\n",
       "      <td>NaN</td>\n",
       "      <td>Avinash Shukla</td>\n",
       "      <td>Commercial Premium Notebooks</td>\n",
       "      <td>NaN</td>\n",
       "      <td>NCD</td>\n",
       "      <td>Break Fix</td>\n",
       "      <td>89101</td>\n",
       "      <td>PC-Joe Walper</td>\n",
       "      <td>Additional Parts Required</td>\n",
       "      <td>Computing</td>\n",
       "      <td>NaN</td>\n",
       "      <td>Back order part</td>\n",
       "      <td>4</td>\n",
       "    </tr>\n",
       "    <tr>\n",
       "      <th>5</th>\n",
       "      <td>5061278521</td>\n",
       "      <td>WO-013010632-4</td>\n",
       "      <td>2021-06-16 12:17:00</td>\n",
       "      <td>MR. REGINALD JOSEPH</td>\n",
       "      <td>2021-07-15 14:42:00</td>\n",
       "      <td>Reschedule</td>\n",
       "      <td>2021-07-15 13:09:00</td>\n",
       "      <td>NaN</td>\n",
       "      <td>JOCILYN ANDREA SANDI DURAN</td>\n",
       "      <td>Commercial Premium Notebooks</td>\n",
       "      <td>NaN</td>\n",
       "      <td>NCD</td>\n",
       "      <td>Break Fix</td>\n",
       "      <td>20785</td>\n",
       "      <td>USA-PR-USYWWDWN_E_A_EEG</td>\n",
       "      <td>Reschedule</td>\n",
       "      <td>Computing</td>\n",
       "      <td>NaN</td>\n",
       "      <td>NaN</td>\n",
       "      <td>5</td>\n",
       "    </tr>\n",
       "  </tbody>\n",
       "</table>\n",
       "</div>"
      ],
      "text/plain": [
       "      Case_ID Work_Order_Number           Created_On  \\\n",
       "1  5060815932      WO-012952625  2021-02-03 10:38:00   \n",
       "2  5060815932      WO-012952625  2021-02-03 10:38:00   \n",
       "3  5061272897      WO-013009621  2021-02-09 13:39:00   \n",
       "4  5061272897      WO-013009621  2021-02-09 13:39:00   \n",
       "5  5061278521    WO-013010632-4  2021-06-16 12:17:00   \n",
       "\n",
       "               Service_Account             Due_Date  \\\n",
       "1               William Torres  2021-04-26 15:00:00   \n",
       "2               William Torres  2021-04-26 15:00:00   \n",
       "3  LAS VEGAS METRO POLICE DEPT  2021-02-24 19:00:00   \n",
       "4  LAS VEGAS METRO POLICE DEPT  2021-02-24 19:00:00   \n",
       "5          MR. REGINALD JOSEPH  2021-07-15 14:42:00   \n",
       "\n",
       "       Action_Booking_status          Action_Date Currently_Worked_by  \\\n",
       "1  Additional Parts Required  2021-07-03 11:45:00     Kerby Singleton   \n",
       "2  Additional Parts Required  2021-07-03 11:45:00     Kerby Singleton   \n",
       "3  Additional Parts Required  2021-07-16 15:30:00                 NaN   \n",
       "4  Additional Parts Required  2021-07-16 15:30:00                 NaN   \n",
       "5                 Reschedule  2021-07-15 13:09:00                 NaN   \n",
       "\n",
       "                        Owner                      Product_Line  \\\n",
       "1               Nancy Quesada  Commercial Desktop PC Premium L6   \n",
       "2               Nancy Quesada  Commercial Desktop PC Premium L6   \n",
       "3              Avinash Shukla      Commercial Premium Notebooks   \n",
       "4              Avinash Shukla      Commercial Premium Notebooks   \n",
       "5  JOCILYN ANDREA SANDI DURAN      Commercial Premium Notebooks   \n",
       "\n",
       "  Follow_Up_Reason_Code Response_Time Work_Order_Type Postal_Code  \\\n",
       "1                   NaN           NCD       Break Fix       30305   \n",
       "2                   NaN           NCD       Break Fix       30305   \n",
       "3                   NaN           NCD       Break Fix       89101   \n",
       "4                   NaN           NCD       Break Fix       89101   \n",
       "5                   NaN           NCD       Break Fix       20785   \n",
       "\n",
       "            Active_Booking             Follow_Up_Type Business_Segment  \\\n",
       "1       PC-Kerby Singleton  Additional Parts Required        Computing   \n",
       "2       PC-Kerby Singleton  Additional Parts Required        Computing   \n",
       "3            PC-Joe Walper  Additional Parts Required        Computing   \n",
       "4            PC-Joe Walper  Additional Parts Required        Computing   \n",
       "5  USA-PR-USYWWDWN_E_A_EEG                 Reschedule        Computing   \n",
       "\n",
       "  Follow_Up_Note                                    Reschedule_Note  id  \n",
       "1            NaN                             #NORMAL Part escalated   1  \n",
       "2            NaN  Please cancel backordered part. Customer has c...   2  \n",
       "3            NaN  According to bryan this laptop shows repair co...   3  \n",
       "4            NaN                                    Back order part   4  \n",
       "5            NaN                                                NaN   5  "
      ]
     },
     "metadata": {},
     "output_type": "display_data"
    },
    {
     "name": "stdout",
     "output_type": "stream",
     "text": [
      "--------------------------------------------------\n"
     ]
    },
    {
     "data": {
      "text/html": [
       "<div>\n",
       "<style scoped>\n",
       "    .dataframe tbody tr th:only-of-type {\n",
       "        vertical-align: middle;\n",
       "    }\n",
       "\n",
       "    .dataframe tbody tr th {\n",
       "        vertical-align: top;\n",
       "    }\n",
       "\n",
       "    .dataframe thead th {\n",
       "        text-align: right;\n",
       "    }\n",
       "</style>\n",
       "<table border=\"1\" class=\"dataframe\">\n",
       "  <thead>\n",
       "    <tr style=\"text-align: right;\">\n",
       "      <th></th>\n",
       "      <th>count</th>\n",
       "      <th>mean</th>\n",
       "      <th>std</th>\n",
       "      <th>min</th>\n",
       "      <th>25%</th>\n",
       "      <th>50%</th>\n",
       "      <th>75%</th>\n",
       "      <th>max</th>\n",
       "    </tr>\n",
       "  </thead>\n",
       "  <tbody>\n",
       "    <tr>\n",
       "      <th>id</th>\n",
       "      <td>7039.0</td>\n",
       "      <td>3520.0</td>\n",
       "      <td>2032.128605</td>\n",
       "      <td>1.0</td>\n",
       "      <td>1760.5</td>\n",
       "      <td>3520.0</td>\n",
       "      <td>5279.5</td>\n",
       "      <td>7039.0</td>\n",
       "    </tr>\n",
       "  </tbody>\n",
       "</table>\n",
       "</div>"
      ],
      "text/plain": [
       "     count    mean          std  min     25%     50%     75%     max\n",
       "id  7039.0  3520.0  2032.128605  1.0  1760.5  3520.0  5279.5  7039.0"
      ]
     },
     "metadata": {},
     "output_type": "display_data"
    },
    {
     "name": "stdout",
     "output_type": "stream",
     "text": [
      "--------------------------------------------------\n",
      "<class 'pandas.core.frame.DataFrame'>\n",
      "RangeIndex: 7039 entries, 1 to 7039\n",
      "Data columns (total 20 columns):\n",
      " #   Column                 Non-Null Count  Dtype \n",
      "---  ------                 --------------  ----- \n",
      " 0   Case_ID                7039 non-null   object\n",
      " 1   Work_Order_Number      7039 non-null   object\n",
      " 2   Created_On             7039 non-null   object\n",
      " 3   Service_Account        7038 non-null   object\n",
      " 4   Due_Date               7017 non-null   object\n",
      " 5   Action_Booking_status  4223 non-null   object\n",
      " 6   Action_Date            3408 non-null   object\n",
      " 7   Currently_Worked_by    887 non-null    object\n",
      " 8   Owner                  7039 non-null   object\n",
      " 9   Product_Line           6457 non-null   object\n",
      " 10  Follow_Up_Reason_Code  2864 non-null   object\n",
      " 11  Response_Time          7039 non-null   object\n",
      " 12  Work_Order_Type        7039 non-null   object\n",
      " 13  Postal_Code            7039 non-null   object\n",
      " 14  Active_Booking         7025 non-null   object\n",
      " 15  Follow_Up_Type         7039 non-null   object\n",
      " 16  Business_Segment       7039 non-null   object\n",
      " 17  Follow_Up_Note         3247 non-null   object\n",
      " 18  Reschedule_Note        4738 non-null   object\n",
      " 19  id                     7039 non-null   int64 \n",
      "dtypes: int64(1), object(19)\n",
      "memory usage: 1.1+ MB\n"
     ]
    }
   ],
   "source": [
    "print('-'*50)\n",
    "print(len(df_case))\n",
    "\n",
    "print('-'*50)\n",
    "display(df_case.head(5))\n",
    "\n",
    "print('-'*50)\n",
    "display(df_case.describe().T)\n",
    "\n",
    "print('-'*50)\n",
    "df_case.info()\n",
    "\n"
   ]
  },
  {
   "cell_type": "code",
   "execution_count": 8,
   "id": "a36aeab1",
   "metadata": {
    "ExecuteTime": {
     "end_time": "2021-08-25T00:30:49.698961Z",
     "start_time": "2021-08-25T00:30:49.693119Z"
    }
   },
   "outputs": [
    {
     "name": "stdout",
     "output_type": "stream",
     "text": [
      "Follow_Up_Type\n",
      "Additional Parts Required     1666\n",
      "Onsite Stock Replenishment     376\n",
      "Partner Request Reassign        16\n",
      "Request Reassign              2100\n",
      "Reschedule                     434\n",
      "Revisit                       2447\n",
      "dtype: int64\n"
     ]
    }
   ],
   "source": [
    "print(df_case.groupby(['Follow_Up_Type']).size())"
   ]
  },
  {
   "cell_type": "markdown",
   "id": "d650eb86",
   "metadata": {},
   "source": [
    "### Data Cleaning"
   ]
  },
  {
   "cell_type": "code",
   "execution_count": 9,
   "id": "4c602104",
   "metadata": {
    "ExecuteTime": {
     "end_time": "2021-08-25T00:30:49.770436Z",
     "start_time": "2021-08-25T00:30:49.702008Z"
    }
   },
   "outputs": [
    {
     "name": "stdout",
     "output_type": "stream",
     "text": [
      "6110\n"
     ]
    },
    {
     "data": {
      "text/html": [
       "<div>\n",
       "<style scoped>\n",
       "    .dataframe tbody tr th:only-of-type {\n",
       "        vertical-align: middle;\n",
       "    }\n",
       "\n",
       "    .dataframe tbody tr th {\n",
       "        vertical-align: top;\n",
       "    }\n",
       "\n",
       "    .dataframe thead th {\n",
       "        text-align: right;\n",
       "    }\n",
       "</style>\n",
       "<table border=\"1\" class=\"dataframe\">\n",
       "  <thead>\n",
       "    <tr style=\"text-align: right;\">\n",
       "      <th></th>\n",
       "      <th>Case_ID</th>\n",
       "      <th>Work_Order_Number</th>\n",
       "      <th>Created_On</th>\n",
       "      <th>Service_Account</th>\n",
       "      <th>Due_Date</th>\n",
       "      <th>Action_Booking_status</th>\n",
       "      <th>Action_Date</th>\n",
       "      <th>Currently_Worked_by</th>\n",
       "      <th>Owner</th>\n",
       "      <th>Product_Line</th>\n",
       "      <th>...</th>\n",
       "      <th>Response_Time</th>\n",
       "      <th>Work_Order_Type</th>\n",
       "      <th>Postal_Code</th>\n",
       "      <th>Active_Booking</th>\n",
       "      <th>Follow_Up_Type</th>\n",
       "      <th>Business_Segment</th>\n",
       "      <th>Follow_Up_Note</th>\n",
       "      <th>Reschedule_Note</th>\n",
       "      <th>id</th>\n",
       "      <th>notes</th>\n",
       "    </tr>\n",
       "  </thead>\n",
       "  <tbody>\n",
       "    <tr>\n",
       "      <th>1</th>\n",
       "      <td>5060815932</td>\n",
       "      <td>WO-012952625</td>\n",
       "      <td>2021-02-03 10:38:00</td>\n",
       "      <td>William Torres</td>\n",
       "      <td>2021-04-26 15:00:00</td>\n",
       "      <td>Additional Parts Required</td>\n",
       "      <td>2021-07-03 11:45:00</td>\n",
       "      <td>Kerby Singleton</td>\n",
       "      <td>Nancy Quesada</td>\n",
       "      <td>Commercial Desktop PC Premium L6</td>\n",
       "      <td>...</td>\n",
       "      <td>NCD</td>\n",
       "      <td>Break Fix</td>\n",
       "      <td>30305</td>\n",
       "      <td>PC-Kerby Singleton</td>\n",
       "      <td>Additional Parts Required</td>\n",
       "      <td>Computing</td>\n",
       "      <td>NaN</td>\n",
       "      <td>#NORMAL Part escalated</td>\n",
       "      <td>1</td>\n",
       "      <td>#NORMAL Part escalated</td>\n",
       "    </tr>\n",
       "    <tr>\n",
       "      <th>2</th>\n",
       "      <td>5060815932</td>\n",
       "      <td>WO-012952625</td>\n",
       "      <td>2021-02-03 10:38:00</td>\n",
       "      <td>William Torres</td>\n",
       "      <td>2021-04-26 15:00:00</td>\n",
       "      <td>Additional Parts Required</td>\n",
       "      <td>2021-07-03 11:45:00</td>\n",
       "      <td>Kerby Singleton</td>\n",
       "      <td>Nancy Quesada</td>\n",
       "      <td>Commercial Desktop PC Premium L6</td>\n",
       "      <td>...</td>\n",
       "      <td>NCD</td>\n",
       "      <td>Break Fix</td>\n",
       "      <td>30305</td>\n",
       "      <td>PC-Kerby Singleton</td>\n",
       "      <td>Additional Parts Required</td>\n",
       "      <td>Computing</td>\n",
       "      <td>NaN</td>\n",
       "      <td>Please cancel backordered part. Customer has c...</td>\n",
       "      <td>2</td>\n",
       "      <td>Please cancel backordered part. Customer has c...</td>\n",
       "    </tr>\n",
       "    <tr>\n",
       "      <th>3</th>\n",
       "      <td>5061272897</td>\n",
       "      <td>WO-013009621</td>\n",
       "      <td>2021-02-09 13:39:00</td>\n",
       "      <td>LAS VEGAS METRO POLICE DEPT</td>\n",
       "      <td>2021-02-24 19:00:00</td>\n",
       "      <td>Additional Parts Required</td>\n",
       "      <td>2021-07-16 15:30:00</td>\n",
       "      <td>NaN</td>\n",
       "      <td>Avinash Shukla</td>\n",
       "      <td>Commercial Premium Notebooks</td>\n",
       "      <td>...</td>\n",
       "      <td>NCD</td>\n",
       "      <td>Break Fix</td>\n",
       "      <td>89101</td>\n",
       "      <td>PC-Joe Walper</td>\n",
       "      <td>Additional Parts Required</td>\n",
       "      <td>Computing</td>\n",
       "      <td>NaN</td>\n",
       "      <td>According to bryan this laptop shows repair co...</td>\n",
       "      <td>3</td>\n",
       "      <td>According to bryan this laptop shows repair co...</td>\n",
       "    </tr>\n",
       "    <tr>\n",
       "      <th>4</th>\n",
       "      <td>5061272897</td>\n",
       "      <td>WO-013009621</td>\n",
       "      <td>2021-02-09 13:39:00</td>\n",
       "      <td>LAS VEGAS METRO POLICE DEPT</td>\n",
       "      <td>2021-02-24 19:00:00</td>\n",
       "      <td>Additional Parts Required</td>\n",
       "      <td>2021-07-16 15:30:00</td>\n",
       "      <td>NaN</td>\n",
       "      <td>Avinash Shukla</td>\n",
       "      <td>Commercial Premium Notebooks</td>\n",
       "      <td>...</td>\n",
       "      <td>NCD</td>\n",
       "      <td>Break Fix</td>\n",
       "      <td>89101</td>\n",
       "      <td>PC-Joe Walper</td>\n",
       "      <td>Additional Parts Required</td>\n",
       "      <td>Computing</td>\n",
       "      <td>NaN</td>\n",
       "      <td>Back order part</td>\n",
       "      <td>4</td>\n",
       "      <td>Back order part</td>\n",
       "    </tr>\n",
       "    <tr>\n",
       "      <th>6</th>\n",
       "      <td>5064053283</td>\n",
       "      <td>WO-013536670-2</td>\n",
       "      <td>2021-06-30 11:06:00</td>\n",
       "      <td>Ford Motor Company of Canada</td>\n",
       "      <td>2021-07-02 08:30:00</td>\n",
       "      <td>Request Reassign</td>\n",
       "      <td>2021-07-05 14:45:00</td>\n",
       "      <td>NaN</td>\n",
       "      <td>Gabriel Bustos</td>\n",
       "      <td>A3 Laserjet</td>\n",
       "      <td>...</td>\n",
       "      <td>NCD</td>\n",
       "      <td>IMACD</td>\n",
       "      <td>N9A</td>\n",
       "      <td>Rick Harbarenko</td>\n",
       "      <td>Request Reassign</td>\n",
       "      <td>dMPS</td>\n",
       "      <td>NaN</td>\n",
       "      <td>Please send this case to Corey Harbarenko. Cor...</td>\n",
       "      <td>6</td>\n",
       "      <td>Please send this case to Corey Harbarenko. Cor...</td>\n",
       "    </tr>\n",
       "    <tr>\n",
       "      <th>...</th>\n",
       "      <td>...</td>\n",
       "      <td>...</td>\n",
       "      <td>...</td>\n",
       "      <td>...</td>\n",
       "      <td>...</td>\n",
       "      <td>...</td>\n",
       "      <td>...</td>\n",
       "      <td>...</td>\n",
       "      <td>...</td>\n",
       "      <td>...</td>\n",
       "      <td>...</td>\n",
       "      <td>...</td>\n",
       "      <td>...</td>\n",
       "      <td>...</td>\n",
       "      <td>...</td>\n",
       "      <td>...</td>\n",
       "      <td>...</td>\n",
       "      <td>...</td>\n",
       "      <td>...</td>\n",
       "      <td>...</td>\n",
       "      <td>...</td>\n",
       "    </tr>\n",
       "    <tr>\n",
       "      <th>7035</th>\n",
       "      <td>5069292833</td>\n",
       "      <td>WO-014560602</td>\n",
       "      <td>2021-07-16 16:23:00</td>\n",
       "      <td>Kaiser Foundation Health Plan Inc.</td>\n",
       "      <td>2021-07-19 15:09:00</td>\n",
       "      <td>Additional Parts Required</td>\n",
       "      <td>2021-07-16 16:00:00</td>\n",
       "      <td>NaN</td>\n",
       "      <td>6 CSPAE166</td>\n",
       "      <td>A4 PageWide SMB &amp; Enterprise managed</td>\n",
       "      <td>...</td>\n",
       "      <td>Not available</td>\n",
       "      <td>Break Fix</td>\n",
       "      <td>91786</td>\n",
       "      <td>Anthony Garcia</td>\n",
       "      <td>Additional Parts Required</td>\n",
       "      <td>pMPS</td>\n",
       "      <td>NaN</td>\n",
       "      <td>Please order the following part.  Qty. 1 B5L04...</td>\n",
       "      <td>7035</td>\n",
       "      <td>Please order the following part.  Qty. 1 B5L04...</td>\n",
       "    </tr>\n",
       "    <tr>\n",
       "      <th>7036</th>\n",
       "      <td>5069293232</td>\n",
       "      <td>WO-014560595</td>\n",
       "      <td>2021-07-16 16:21:00</td>\n",
       "      <td>CDW - St. Lukes Hospital (Government)</td>\n",
       "      <td>2021-07-20 16:26:00</td>\n",
       "      <td>Request Reassign</td>\n",
       "      <td>NaN</td>\n",
       "      <td>NaN</td>\n",
       "      <td>1 CSPAE131</td>\n",
       "      <td>A4 Laserjet SMB</td>\n",
       "      <td>...</td>\n",
       "      <td>Not available</td>\n",
       "      <td>Break Fix</td>\n",
       "      <td>55805</td>\n",
       "      <td>Brock Tharp</td>\n",
       "      <td>Request Reassign</td>\n",
       "      <td>pMPS</td>\n",
       "      <td>NaN</td>\n",
       "      <td>Please reassign to lms</td>\n",
       "      <td>7036</td>\n",
       "      <td>Please reassign to lms</td>\n",
       "    </tr>\n",
       "    <tr>\n",
       "      <th>7037</th>\n",
       "      <td>5069293974</td>\n",
       "      <td>WO-014560699</td>\n",
       "      <td>2021-07-16 17:06:00</td>\n",
       "      <td>LITHIA NISSAN OF FRESNO</td>\n",
       "      <td>2021-07-19 18:00:00</td>\n",
       "      <td>Request Reassign</td>\n",
       "      <td>2021-07-19 13:00:00</td>\n",
       "      <td>Aaron Stavinsky</td>\n",
       "      <td>Luis Alejandro Vargas</td>\n",
       "      <td>A4 Laserjet Enterprise</td>\n",
       "      <td>...</td>\n",
       "      <td>NCD</td>\n",
       "      <td>Preventative Maintenance</td>\n",
       "      <td>93710</td>\n",
       "      <td>IS-Aaron Stavinsky</td>\n",
       "      <td>Request Reassign</td>\n",
       "      <td>Printing</td>\n",
       "      <td>NaN</td>\n",
       "      <td>dahlia.garcia@hp.com</td>\n",
       "      <td>7037</td>\n",
       "      <td>dahlia.garcia@hp.com</td>\n",
       "    </tr>\n",
       "    <tr>\n",
       "      <th>7038</th>\n",
       "      <td>5069294340</td>\n",
       "      <td>WO-014560697</td>\n",
       "      <td>2021-07-16 17:04:00</td>\n",
       "      <td>Best Buy co., Inc.</td>\n",
       "      <td>2021-07-20 18:00:00</td>\n",
       "      <td>NaN</td>\n",
       "      <td>NaN</td>\n",
       "      <td>NaN</td>\n",
       "      <td>Subir Das</td>\n",
       "      <td>Retail Solutions Core</td>\n",
       "      <td>...</td>\n",
       "      <td>NCD</td>\n",
       "      <td>Break Fix</td>\n",
       "      <td>95678</td>\n",
       "      <td>PR-David Popadiuc</td>\n",
       "      <td>Revisit</td>\n",
       "      <td>Computing</td>\n",
       "      <td>Please order 842275-001 and have it ship to HF...</td>\n",
       "      <td>NaN</td>\n",
       "      <td>7038</td>\n",
       "      <td>Please order 842275-001 and have it ship to HF...</td>\n",
       "    </tr>\n",
       "    <tr>\n",
       "      <th>7039</th>\n",
       "      <td>5069310370</td>\n",
       "      <td>WO-014563427</td>\n",
       "      <td>2021-07-17 10:26:00</td>\n",
       "      <td>Costco Wholesale Corporation</td>\n",
       "      <td>2021-07-19 16:00:00</td>\n",
       "      <td>Request Reassign</td>\n",
       "      <td>NaN</td>\n",
       "      <td>NaN</td>\n",
       "      <td>7 CSPAE137</td>\n",
       "      <td>NaN</td>\n",
       "      <td>...</td>\n",
       "      <td>Not available</td>\n",
       "      <td>Break Fix</td>\n",
       "      <td>60440</td>\n",
       "      <td>PR-Stephen Sandgren</td>\n",
       "      <td>Request Reassign</td>\n",
       "      <td>dMPS</td>\n",
       "      <td>NaN</td>\n",
       "      <td>I am overbooked now and this is only a diagnos...</td>\n",
       "      <td>7039</td>\n",
       "      <td>I am overbooked now and this is only a diagnos...</td>\n",
       "    </tr>\n",
       "  </tbody>\n",
       "</table>\n",
       "<p>6110 rows × 21 columns</p>\n",
       "</div>"
      ],
      "text/plain": [
       "         Case_ID Work_Order_Number           Created_On  \\\n",
       "1     5060815932      WO-012952625  2021-02-03 10:38:00   \n",
       "2     5060815932      WO-012952625  2021-02-03 10:38:00   \n",
       "3     5061272897      WO-013009621  2021-02-09 13:39:00   \n",
       "4     5061272897      WO-013009621  2021-02-09 13:39:00   \n",
       "6     5064053283    WO-013536670-2  2021-06-30 11:06:00   \n",
       "...          ...               ...                  ...   \n",
       "7035  5069292833      WO-014560602  2021-07-16 16:23:00   \n",
       "7036  5069293232      WO-014560595  2021-07-16 16:21:00   \n",
       "7037  5069293974      WO-014560699  2021-07-16 17:06:00   \n",
       "7038  5069294340      WO-014560697  2021-07-16 17:04:00   \n",
       "7039  5069310370      WO-014563427  2021-07-17 10:26:00   \n",
       "\n",
       "                            Service_Account             Due_Date  \\\n",
       "1                            William Torres  2021-04-26 15:00:00   \n",
       "2                            William Torres  2021-04-26 15:00:00   \n",
       "3               LAS VEGAS METRO POLICE DEPT  2021-02-24 19:00:00   \n",
       "4               LAS VEGAS METRO POLICE DEPT  2021-02-24 19:00:00   \n",
       "6              Ford Motor Company of Canada  2021-07-02 08:30:00   \n",
       "...                                     ...                  ...   \n",
       "7035     Kaiser Foundation Health Plan Inc.  2021-07-19 15:09:00   \n",
       "7036  CDW - St. Lukes Hospital (Government)  2021-07-20 16:26:00   \n",
       "7037                LITHIA NISSAN OF FRESNO  2021-07-19 18:00:00   \n",
       "7038                     Best Buy co., Inc.  2021-07-20 18:00:00   \n",
       "7039           Costco Wholesale Corporation  2021-07-19 16:00:00   \n",
       "\n",
       "          Action_Booking_status          Action_Date Currently_Worked_by  \\\n",
       "1     Additional Parts Required  2021-07-03 11:45:00     Kerby Singleton   \n",
       "2     Additional Parts Required  2021-07-03 11:45:00     Kerby Singleton   \n",
       "3     Additional Parts Required  2021-07-16 15:30:00                 NaN   \n",
       "4     Additional Parts Required  2021-07-16 15:30:00                 NaN   \n",
       "6              Request Reassign  2021-07-05 14:45:00                 NaN   \n",
       "...                         ...                  ...                 ...   \n",
       "7035  Additional Parts Required  2021-07-16 16:00:00                 NaN   \n",
       "7036           Request Reassign                  NaN                 NaN   \n",
       "7037           Request Reassign  2021-07-19 13:00:00     Aaron Stavinsky   \n",
       "7038                        NaN                  NaN                 NaN   \n",
       "7039           Request Reassign                  NaN                 NaN   \n",
       "\n",
       "                      Owner                          Product_Line  ...  \\\n",
       "1             Nancy Quesada      Commercial Desktop PC Premium L6  ...   \n",
       "2             Nancy Quesada      Commercial Desktop PC Premium L6  ...   \n",
       "3            Avinash Shukla          Commercial Premium Notebooks  ...   \n",
       "4            Avinash Shukla          Commercial Premium Notebooks  ...   \n",
       "6            Gabriel Bustos                           A3 Laserjet  ...   \n",
       "...                     ...                                   ...  ...   \n",
       "7035             6 CSPAE166  A4 PageWide SMB & Enterprise managed  ...   \n",
       "7036             1 CSPAE131                       A4 Laserjet SMB  ...   \n",
       "7037  Luis Alejandro Vargas                A4 Laserjet Enterprise  ...   \n",
       "7038              Subir Das                 Retail Solutions Core  ...   \n",
       "7039             7 CSPAE137                                   NaN  ...   \n",
       "\n",
       "      Response_Time           Work_Order_Type Postal_Code  \\\n",
       "1               NCD                 Break Fix       30305   \n",
       "2               NCD                 Break Fix       30305   \n",
       "3               NCD                 Break Fix       89101   \n",
       "4               NCD                 Break Fix       89101   \n",
       "6               NCD                     IMACD         N9A   \n",
       "...             ...                       ...         ...   \n",
       "7035  Not available                 Break Fix       91786   \n",
       "7036  Not available                 Break Fix       55805   \n",
       "7037            NCD  Preventative Maintenance       93710   \n",
       "7038            NCD                 Break Fix       95678   \n",
       "7039  Not available                 Break Fix       60440   \n",
       "\n",
       "           Active_Booking             Follow_Up_Type Business_Segment  \\\n",
       "1      PC-Kerby Singleton  Additional Parts Required        Computing   \n",
       "2      PC-Kerby Singleton  Additional Parts Required        Computing   \n",
       "3           PC-Joe Walper  Additional Parts Required        Computing   \n",
       "4           PC-Joe Walper  Additional Parts Required        Computing   \n",
       "6         Rick Harbarenko           Request Reassign             dMPS   \n",
       "...                   ...                        ...              ...   \n",
       "7035       Anthony Garcia  Additional Parts Required             pMPS   \n",
       "7036          Brock Tharp           Request Reassign             pMPS   \n",
       "7037   IS-Aaron Stavinsky           Request Reassign         Printing   \n",
       "7038    PR-David Popadiuc                    Revisit        Computing   \n",
       "7039  PR-Stephen Sandgren           Request Reassign             dMPS   \n",
       "\n",
       "                                         Follow_Up_Note  \\\n",
       "1                                                   NaN   \n",
       "2                                                   NaN   \n",
       "3                                                   NaN   \n",
       "4                                                   NaN   \n",
       "6                                                   NaN   \n",
       "...                                                 ...   \n",
       "7035                                                NaN   \n",
       "7036                                                NaN   \n",
       "7037                                                NaN   \n",
       "7038  Please order 842275-001 and have it ship to HF...   \n",
       "7039                                                NaN   \n",
       "\n",
       "                                        Reschedule_Note    id  \\\n",
       "1                                #NORMAL Part escalated     1   \n",
       "2     Please cancel backordered part. Customer has c...     2   \n",
       "3     According to bryan this laptop shows repair co...     3   \n",
       "4                                       Back order part     4   \n",
       "6     Please send this case to Corey Harbarenko. Cor...     6   \n",
       "...                                                 ...   ...   \n",
       "7035  Please order the following part.  Qty. 1 B5L04...  7035   \n",
       "7036                             Please reassign to lms  7036   \n",
       "7037                               dahlia.garcia@hp.com  7037   \n",
       "7038                                                NaN  7038   \n",
       "7039  I am overbooked now and this is only a diagnos...  7039   \n",
       "\n",
       "                                                  notes  \n",
       "1                                #NORMAL Part escalated  \n",
       "2     Please cancel backordered part. Customer has c...  \n",
       "3     According to bryan this laptop shows repair co...  \n",
       "4                                       Back order part  \n",
       "6     Please send this case to Corey Harbarenko. Cor...  \n",
       "...                                                 ...  \n",
       "7035  Please order the following part.  Qty. 1 B5L04...  \n",
       "7036                             Please reassign to lms  \n",
       "7037                               dahlia.garcia@hp.com  \n",
       "7038  Please order 842275-001 and have it ship to HF...  \n",
       "7039  I am overbooked now and this is only a diagnos...  \n",
       "\n",
       "[6110 rows x 21 columns]"
      ]
     },
     "execution_count": 9,
     "metadata": {},
     "output_type": "execute_result"
    }
   ],
   "source": [
    "def filter_out_note_na(df):\n",
    "    df_filter = df.loc[(df.Follow_Up_Note.notna()) | (df.Reschedule_Note.notna())].copy()\n",
    "    return df_filter\n",
    "\n",
    "df_train_test = filter_out_note_na(df_case)\n",
    "print(len(df_train_test))\n",
    "\n",
    "# df_train_test['notes'] = [('' if pd.isna(fun) else fun)  + ('' if pd.isna(crn) else ' | ' + crn)\n",
    "#                           for fun, crn in zip(df_train_test.Follow_Up_Note, df_train_test.Reschedule_Note)] \n",
    "df_train_test['notes'] = [(crn if pd.isna(fun) else (fun if pd.isna(crn) else fun + '.' + crn))\n",
    "                          for fun, crn in zip(df_train_test.Follow_Up_Note, df_train_test.Reschedule_Note)] \n",
    "df_train_test"
   ]
  },
  {
   "cell_type": "code",
   "execution_count": 10,
   "id": "21b25860",
   "metadata": {
    "ExecuteTime": {
     "end_time": "2021-08-25T00:30:49.778438Z",
     "start_time": "2021-08-25T00:30:49.772787Z"
    }
   },
   "outputs": [
    {
     "name": "stdout",
     "output_type": "stream",
     "text": [
      "Follow_Up_Type\n",
      "Additional Parts Required     1579\n",
      "Onsite Stock Replenishment     375\n",
      "Partner Request Reassign        13\n",
      "Request Reassign              1737\n",
      "Reschedule                     136\n",
      "Revisit                       2270\n",
      "dtype: int64\n"
     ]
    }
   ],
   "source": [
    "print(df_train_test.groupby(['Follow_Up_Type']).size())"
   ]
  },
  {
   "cell_type": "markdown",
   "id": "53fd32c6",
   "metadata": {},
   "source": [
    "### Generate NER Label"
   ]
  },
  {
   "cell_type": "code",
   "execution_count": 11,
   "id": "fb1978e4",
   "metadata": {
    "ExecuteTime": {
     "end_time": "2021-08-25T00:30:49.789382Z",
     "start_time": "2021-08-25T00:30:49.780938Z"
    }
   },
   "outputs": [],
   "source": [
    "def standardize_text1(text):\n",
    "    text = text.strip().lower()\n",
    "    # add space between punctuation\n",
    "    text = re.sub(r'([.\\\\!?,\\'()\\[\\]\"|;])', r' \\1 ', text)\n",
    "#     # remove characters except for English letters and some punctuations\n",
    "#     text = re.sub(r\"[^A-Za-z\\.\\-\\?\\!\\,\\#\\@\\% ]\", \"\", text)\n",
    "    # remove extra spaces\n",
    "    text = re.sub(r'[\" \"]+', \" \", text)\n",
    "    return text"
   ]
  },
  {
   "cell_type": "code",
   "execution_count": 12,
   "id": "c3c68a0a",
   "metadata": {
    "ExecuteTime": {
     "end_time": "2021-08-25T00:30:51.079613Z",
     "start_time": "2021-08-25T00:30:49.791677Z"
    }
   },
   "outputs": [],
   "source": [
    "nlp = spacy.load(\"en_core_web_sm\")\n",
    "notes = [standardize_text1(note) for note in df_train_test.notes]\n",
    "docs = nlp.pipe(notes)"
   ]
  },
  {
   "cell_type": "code",
   "execution_count": 13,
   "id": "76cf8946",
   "metadata": {
    "ExecuteTime": {
     "end_time": "2021-08-25T00:30:51.119463Z",
     "start_time": "2021-08-25T00:30:51.082092Z"
    }
   },
   "outputs": [
    {
     "data": {
      "text/html": [
       "<div>\n",
       "<style scoped>\n",
       "    .dataframe tbody tr th:only-of-type {\n",
       "        vertical-align: middle;\n",
       "    }\n",
       "\n",
       "    .dataframe tbody tr th {\n",
       "        vertical-align: top;\n",
       "    }\n",
       "\n",
       "    .dataframe thead th {\n",
       "        text-align: right;\n",
       "    }\n",
       "</style>\n",
       "<table border=\"1\" class=\"dataframe\">\n",
       "  <thead>\n",
       "    <tr style=\"text-align: right;\">\n",
       "      <th></th>\n",
       "      <th>Case_ID</th>\n",
       "      <th>Work_Order_Number</th>\n",
       "      <th>Created_On</th>\n",
       "      <th>Service_Account</th>\n",
       "      <th>Due_Date</th>\n",
       "      <th>Action_Booking_status</th>\n",
       "      <th>Action_Date</th>\n",
       "      <th>Currently_Worked_by</th>\n",
       "      <th>Owner</th>\n",
       "      <th>Product_Line</th>\n",
       "      <th>...</th>\n",
       "      <th>Response_Time</th>\n",
       "      <th>Work_Order_Type</th>\n",
       "      <th>Postal_Code</th>\n",
       "      <th>Active_Booking</th>\n",
       "      <th>Follow_Up_Type</th>\n",
       "      <th>Business_Segment</th>\n",
       "      <th>Follow_Up_Note</th>\n",
       "      <th>Reschedule_Note</th>\n",
       "      <th>id</th>\n",
       "      <th>notes</th>\n",
       "    </tr>\n",
       "  </thead>\n",
       "  <tbody>\n",
       "    <tr>\n",
       "      <th>21</th>\n",
       "      <td>5065852054</td>\n",
       "      <td>WO-013865844-1</td>\n",
       "      <td>2021-07-02 14:10:00</td>\n",
       "      <td>KAISER PERMANENTE</td>\n",
       "      <td>2021-07-16 18:00:00</td>\n",
       "      <td>NaN</td>\n",
       "      <td>NaN</td>\n",
       "      <td>Ryan Bartoli</td>\n",
       "      <td>Ezequiel Jara Corao</td>\n",
       "      <td>Detachables</td>\n",
       "      <td>...</td>\n",
       "      <td>NCD</td>\n",
       "      <td>Break Fix</td>\n",
       "      <td>94553</td>\n",
       "      <td>CT-Ryan Bartoli</td>\n",
       "      <td>Revisit</td>\n",
       "      <td>Computing</td>\n",
       "      <td>Please create a revisit for Wednesday</td>\n",
       "      <td>#NORMAL Please order part # L51580-001 and L31...</td>\n",
       "      <td>21</td>\n",
       "      <td>Please create a revisit for Wednesday.#NORMAL ...</td>\n",
       "    </tr>\n",
       "    <tr>\n",
       "      <th>29</th>\n",
       "      <td>5066093878</td>\n",
       "      <td>WO-013910857</td>\n",
       "      <td>2021-05-14 17:16:00</td>\n",
       "      <td>AMD</td>\n",
       "      <td>2021-07-02 17:00:00</td>\n",
       "      <td>NaN</td>\n",
       "      <td>NaN</td>\n",
       "      <td>NaN</td>\n",
       "      <td>JORGE DANIEL BENAVIDEZ AVILA</td>\n",
       "      <td>Commercial Premium Notebooks</td>\n",
       "      <td>...</td>\n",
       "      <td>NCD</td>\n",
       "      <td>Break Fix</td>\n",
       "      <td>78735</td>\n",
       "      <td>PR-Rob Silcocks</td>\n",
       "      <td>Revisit</td>\n",
       "      <td>Computing</td>\n",
       "      <td>Please order battery  933321-855 ship to UPS H...</td>\n",
       "      <td>Please reassign to Rob Silcocks</td>\n",
       "      <td>29</td>\n",
       "      <td>Please order battery  933321-855 ship to UPS H...</td>\n",
       "    </tr>\n",
       "    <tr>\n",
       "      <th>2978</th>\n",
       "      <td>5068832635</td>\n",
       "      <td>WO-014466680</td>\n",
       "      <td>2021-07-08 10:24:00</td>\n",
       "      <td>Jabil circuit Inc</td>\n",
       "      <td>2021-07-09 17:00:00</td>\n",
       "      <td>Additional Parts Required</td>\n",
       "      <td>2021-07-15 08:00:00</td>\n",
       "      <td>NaN</td>\n",
       "      <td>7 CSPAE147</td>\n",
       "      <td>Large Format Design Pagewide XL HW</td>\n",
       "      <td>...</td>\n",
       "      <td>NCD</td>\n",
       "      <td>Break Fix</td>\n",
       "      <td>87106</td>\n",
       "      <td>PR-Isaac Lucero</td>\n",
       "      <td>Additional Parts Required</td>\n",
       "      <td>dMPS</td>\n",
       "      <td>NaN</td>\n",
       "      <td>Per L2 please order: 2YB64-67005, 2YB64-67003 ...</td>\n",
       "      <td>2978</td>\n",
       "      <td>Per L2 please order: 2YB64-67005, 2YB64-67003 ...</td>\n",
       "    </tr>\n",
       "    <tr>\n",
       "      <th>3025</th>\n",
       "      <td>5068836700</td>\n",
       "      <td>WO-014466875</td>\n",
       "      <td>2021-07-08 10:49:00</td>\n",
       "      <td>Border Patrol and Customs</td>\n",
       "      <td>2021-07-14 16:00:00</td>\n",
       "      <td>NaN</td>\n",
       "      <td>NaN</td>\n",
       "      <td>NaN</td>\n",
       "      <td>Abu Ambia</td>\n",
       "      <td>Large Format Design HW</td>\n",
       "      <td>...</td>\n",
       "      <td>NCD</td>\n",
       "      <td>Break Fix</td>\n",
       "      <td>79925</td>\n",
       "      <td>PR-Manuel Bailon</td>\n",
       "      <td>Revisit</td>\n",
       "      <td>Printing</td>\n",
       "      <td>Please create a revisite for 7-16-2021 at 1300...</td>\n",
       "      <td>NaN</td>\n",
       "      <td>3025</td>\n",
       "      <td>Please create a revisite for 7-16-2021 at 1300...</td>\n",
       "    </tr>\n",
       "    <tr>\n",
       "      <th>3026</th>\n",
       "      <td>5068836700</td>\n",
       "      <td>WO-014466875-1</td>\n",
       "      <td>2021-07-14 15:01:00</td>\n",
       "      <td>Border Patrol and Customs</td>\n",
       "      <td>2021-07-16 16:00:00</td>\n",
       "      <td>NaN</td>\n",
       "      <td>NaN</td>\n",
       "      <td>NaN</td>\n",
       "      <td>Lisbeth Alejandra Sibaja</td>\n",
       "      <td>Large Format Design HW</td>\n",
       "      <td>...</td>\n",
       "      <td>NCD</td>\n",
       "      <td>Break Fix</td>\n",
       "      <td>79925</td>\n",
       "      <td>PR-Manuel Bailon</td>\n",
       "      <td>Revisit</td>\n",
       "      <td>Printing</td>\n",
       "      <td>Please create a revisite for 7-23-2021 for pri...</td>\n",
       "      <td>NaN</td>\n",
       "      <td>3026</td>\n",
       "      <td>Please create a revisite for 7-23-2021 for pri...</td>\n",
       "    </tr>\n",
       "  </tbody>\n",
       "</table>\n",
       "<p>5 rows × 21 columns</p>\n",
       "</div>"
      ],
      "text/plain": [
       "         Case_ID Work_Order_Number           Created_On  \\\n",
       "21    5065852054    WO-013865844-1  2021-07-02 14:10:00   \n",
       "29    5066093878      WO-013910857  2021-05-14 17:16:00   \n",
       "2978  5068832635      WO-014466680  2021-07-08 10:24:00   \n",
       "3025  5068836700      WO-014466875  2021-07-08 10:49:00   \n",
       "3026  5068836700    WO-014466875-1  2021-07-14 15:01:00   \n",
       "\n",
       "                Service_Account             Due_Date  \\\n",
       "21            KAISER PERMANENTE  2021-07-16 18:00:00   \n",
       "29                          AMD  2021-07-02 17:00:00   \n",
       "2978          Jabil circuit Inc  2021-07-09 17:00:00   \n",
       "3025  Border Patrol and Customs  2021-07-14 16:00:00   \n",
       "3026  Border Patrol and Customs  2021-07-16 16:00:00   \n",
       "\n",
       "          Action_Booking_status          Action_Date Currently_Worked_by  \\\n",
       "21                          NaN                  NaN        Ryan Bartoli   \n",
       "29                          NaN                  NaN                 NaN   \n",
       "2978  Additional Parts Required  2021-07-15 08:00:00                 NaN   \n",
       "3025                        NaN                  NaN                 NaN   \n",
       "3026                        NaN                  NaN                 NaN   \n",
       "\n",
       "                             Owner                        Product_Line  ...  \\\n",
       "21             Ezequiel Jara Corao                         Detachables  ...   \n",
       "29    JORGE DANIEL BENAVIDEZ AVILA        Commercial Premium Notebooks  ...   \n",
       "2978                    7 CSPAE147  Large Format Design Pagewide XL HW  ...   \n",
       "3025                     Abu Ambia              Large Format Design HW  ...   \n",
       "3026      Lisbeth Alejandra Sibaja              Large Format Design HW  ...   \n",
       "\n",
       "     Response_Time Work_Order_Type Postal_Code    Active_Booking  \\\n",
       "21             NCD       Break Fix       94553   CT-Ryan Bartoli   \n",
       "29             NCD       Break Fix       78735   PR-Rob Silcocks   \n",
       "2978           NCD       Break Fix       87106   PR-Isaac Lucero   \n",
       "3025           NCD       Break Fix       79925  PR-Manuel Bailon   \n",
       "3026           NCD       Break Fix       79925  PR-Manuel Bailon   \n",
       "\n",
       "                 Follow_Up_Type Business_Segment  \\\n",
       "21                      Revisit        Computing   \n",
       "29                      Revisit        Computing   \n",
       "2978  Additional Parts Required             dMPS   \n",
       "3025                    Revisit         Printing   \n",
       "3026                    Revisit         Printing   \n",
       "\n",
       "                                         Follow_Up_Note  \\\n",
       "21                Please create a revisit for Wednesday   \n",
       "29    Please order battery  933321-855 ship to UPS H...   \n",
       "2978                                                NaN   \n",
       "3025  Please create a revisite for 7-16-2021 at 1300...   \n",
       "3026  Please create a revisite for 7-23-2021 for pri...   \n",
       "\n",
       "                                        Reschedule_Note    id  \\\n",
       "21    #NORMAL Please order part # L51580-001 and L31...    21   \n",
       "29                      Please reassign to Rob Silcocks    29   \n",
       "2978  Per L2 please order: 2YB64-67005, 2YB64-67003 ...  2978   \n",
       "3025                                                NaN  3025   \n",
       "3026                                                NaN  3026   \n",
       "\n",
       "                                                  notes  \n",
       "21    Please create a revisit for Wednesday.#NORMAL ...  \n",
       "29    Please order battery  933321-855 ship to UPS H...  \n",
       "2978  Per L2 please order: 2YB64-67005, 2YB64-67003 ...  \n",
       "3025  Please create a revisite for 7-16-2021 at 1300...  \n",
       "3026  Please create a revisite for 7-23-2021 for pri...  \n",
       "\n",
       "[5 rows x 21 columns]"
      ]
     },
     "execution_count": 13,
     "metadata": {},
     "output_type": "execute_result"
    }
   ],
   "source": [
    "def get_samples(df):\n",
    "    df_filter = df.loc[(df.Work_Order_Number=='WO-013865844-1') | \n",
    "                       (df.Work_Order_Number=='WO-013910857') |\n",
    "                       (df.Work_Order_Number=='WO-014466680') |\n",
    "                       (df.Work_Order_Number=='WO-014466875') |\n",
    "                       (df.Work_Order_Number=='WO-014466875-1') \n",
    "                      ].copy()\n",
    "    return df_filter\n",
    "\n",
    "df_sample = get_samples(df_train_test)\n",
    "df_sample"
   ]
  },
  {
   "cell_type": "code",
   "execution_count": 14,
   "id": "4655facd",
   "metadata": {
    "ExecuteTime": {
     "end_time": "2021-08-25T00:30:51.161388Z",
     "start_time": "2021-08-25T00:30:51.121694Z"
    }
   },
   "outputs": [
    {
     "name": "stdout",
     "output_type": "stream",
     "text": [
      "--------------------------------------------------\n",
      "please create a revisit for wednesday . #normal please order part # l51580-001 and l31365-001 to concord , california hal setting up time to meet with customer . \n",
      "[('please', 'INTJ'), ('create', 'VERB'), ('a', 'DET'), ('revisit', 'NOUN'), ('for', 'ADP'), ('wednesday', 'PROPN'), ('.', 'PUNCT'), ('#', 'NOUN'), ('normal', 'ADJ'), ('please', 'INTJ'), ('order', 'VERB'), ('part', 'NOUN'), ('#', 'SYM'), ('l51580', 'PROPN'), ('-', 'PUNCT'), ('001', 'NUM'), ('and', 'CCONJ'), ('l31365', 'NOUN'), ('-', 'PUNCT'), ('001', 'NUM'), ('to', 'ADP'), ('concord', 'PROPN'), (',', 'PUNCT'), ('california', 'PROPN'), ('hal', 'NOUN'), ('setting', 'VERB'), ('up', 'ADP'), ('time', 'NOUN'), ('to', 'PART'), ('meet', 'VERB'), ('with', 'ADP'), ('customer', 'NOUN'), ('.', 'PUNCT')]\n",
      "[('wednesday', 'DATE'), ('# l51580-001', 'MONEY'), ('concord', 'GPE'), ('california', 'GPE')]\n",
      "--------------------------------------------------\n",
      "please order battery 933321-855 ship to ups hold for pickup , tuscany way , austin . . please reassign to rob silcocks\n",
      "[('please', 'INTJ'), ('order', 'VERB'), ('battery', 'NOUN'), ('933321', 'NUM'), ('-', 'SYM'), ('855', 'NUM'), ('ship', 'NOUN'), ('to', 'ADP'), ('ups', 'NOUN'), ('hold', 'NOUN'), ('for', 'ADP'), ('pickup', 'NOUN'), (',', 'PUNCT'), ('tuscany', 'ADJ'), ('way', 'NOUN'), (',', 'PUNCT'), ('austin', 'PROPN'), ('.', 'PUNCT'), ('.', 'PUNCT'), ('please', 'INTJ'), ('reassign', 'VERB'), ('to', 'PART'), ('rob', 'VERB'), ('silcocks', 'NOUN')]\n",
      "[('933321', 'CARDINAL'), ('austin', 'GPE')]\n",
      "--------------------------------------------------\n",
      "per l2 please order: 2yb64-67005 , 2yb64-67003 xl3600 , 6kd23-67021 xl3600 , 6kd23-67030 , and two 2yb64-67002\n",
      "[('per', 'ADP'), ('l2', 'NOUN'), ('please', 'INTJ'), ('order', 'NOUN'), (':', 'PUNCT'), ('2yb64', 'PROPN'), ('-', 'PUNCT'), ('67005', 'NUM'), (',', 'PUNCT'), ('2yb64', 'PROPN'), ('-', 'PUNCT'), ('67003', 'NUM'), ('xl3600', 'PROPN'), (',', 'PUNCT'), ('6kd23', 'PROPN'), ('-', 'PUNCT'), ('67021', 'NUM'), ('xl3600', 'PROPN'), (',', 'PUNCT'), ('6kd23', 'PROPN'), ('-', 'PUNCT'), ('67030', 'PROPN'), (',', 'PUNCT'), ('and', 'CCONJ'), ('two', 'NUM'), ('2yb64', 'PROPN'), ('-', 'PUNCT'), ('67002', 'NUM')]\n",
      "[('l2', 'ORG'), ('2yb64-67005', 'CARDINAL'), ('2yb64-67003', 'CARDINAL'), ('6kd23-67030', 'DATE'), ('two', 'CARDINAL'), ('2yb64-67002', 'CARDINAL')]\n",
      "--------------------------------------------------\n",
      "please create a revisite for 7-16-2021 at 1300 order part number q5669-60687 please order 2 q6683-67001 t8w18-67001 ship to el paso texas for hfpu\n",
      "[('please', 'INTJ'), ('create', 'VERB'), ('a', 'DET'), ('revisite', 'NOUN'), ('for', 'ADP'), ('7', 'NUM'), ('-', 'SYM'), ('16', 'NUM'), ('-', 'PUNCT'), ('2021', 'NUM'), ('at', 'ADP'), ('1300', 'NUM'), ('order', 'NOUN'), ('part', 'NOUN'), ('number', 'NOUN'), ('q5669', 'NUM'), ('-', 'PUNCT'), ('60687', 'NUM'), ('please', 'INTJ'), ('order', 'VERB'), ('2', 'NUM'), ('q6683', 'NOUN'), ('-', 'PUNCT'), ('67001', 'NUM'), ('t8w18', 'NUM'), ('-', 'PUNCT'), ('67001', 'NUM'), ('ship', 'NOUN'), ('to', 'ADP'), ('el', 'PROPN'), ('paso', 'PROPN'), ('texas', 'PROPN'), ('for', 'ADP'), ('hfpu', 'NOUN')]\n",
      "[('7-16-2021', 'DATE'), ('1300', 'DATE'), ('2', 'CARDINAL'), ('el paso', 'GPE'), ('texas', 'GPE')]\n",
      "--------------------------------------------------\n",
      "please create a revisite for 7-23-2021 for printheads replacement . customer will order\n",
      "[('please', 'INTJ'), ('create', 'VERB'), ('a', 'DET'), ('revisite', 'NOUN'), ('for', 'ADP'), ('7', 'NUM'), ('-', 'SYM'), ('23', 'NUM'), ('-', 'PUNCT'), ('2021', 'NUM'), ('for', 'ADP'), ('printheads', 'NOUN'), ('replacement', 'NOUN'), ('.', 'PUNCT'), ('customer', 'NOUN'), ('will', 'AUX'), ('order', 'VERB')]\n",
      "[('7-23-2021', 'CARDINAL')]\n"
     ]
    }
   ],
   "source": [
    "\n",
    "sample_notes = [standardize_text1(note) for note in df_sample.notes]\n",
    "sampel_docs = nlp.pipe(sample_notes)\n",
    "for i, doc in enumerate(sampel_docs):\n",
    "    print('-'*50)\n",
    "    print(doc.text)\n",
    "    print([(token.text, token.pos_) for token in doc])\n",
    "    print([(ent.text, ent.label_) for ent in doc.ents]) "
   ]
  },
  {
   "cell_type": "code",
   "execution_count": 176,
   "id": "734670e0",
   "metadata": {
    "ExecuteTime": {
     "end_time": "2021-08-25T06:26:56.829868Z",
     "start_time": "2021-08-25T06:26:56.776987Z"
    }
   },
   "outputs": [
    {
     "name": "stdout",
     "output_type": "stream",
     "text": [
      "138\n",
      "{'expression': '[a-zA-Z]\\\\d\\\\d\\\\d\\\\d\\\\d-\\\\d\\\\d\\\\d', 'label': 'PART_NUM'}\n",
      "{'expression': '\\\\d\\\\d\\\\d\\\\d\\\\d\\\\d-\\\\d\\\\d\\\\d', 'label': 'PART_NUM'}\n",
      "{'expression': '[a-zA-Z]\\\\d\\\\d\\\\d\\\\d\\\\d-[a-zA-Z]\\\\d\\\\d', 'label': 'PART_NUM'}\n",
      "{'expression': '\\\\d\\\\d\\\\d\\\\d\\\\d\\\\d-[a-zA-Z][a-zA-Z]\\\\d', 'label': 'PART_NUM'}\n",
      "{'expression': '\\\\d\\\\d\\\\d\\\\d\\\\d\\\\d-\\\\d[a-zA-Z]\\\\d', 'label': 'PART_NUM'}\n",
      "{'expression': '\\\\d\\\\d\\\\d\\\\d\\\\d\\\\d-[a-zA-Z][a-zA-Z][a-zA-Z]', 'label': 'PART_NUM'}\n",
      "{'expression': '[a-zA-Z]\\\\d\\\\d\\\\d\\\\d\\\\d-[a-zA-Z][a-zA-Z]\\\\d', 'label': 'PART_NUM'}\n",
      "{'expression': '\\\\d\\\\d\\\\d\\\\d\\\\d\\\\d-[a-zA-Z]\\\\d\\\\d', 'label': 'PART_NUM'}\n",
      "{'expression': '[a-zA-Z][a-zA-Z]-\\\\d\\\\d\\\\d\\\\d\\\\d-\\\\d\\\\d', 'label': 'PART_NUM'}\n",
      "{'expression': '[a-zA-Z][a-zA-Z]\\\\d-\\\\d\\\\d\\\\d\\\\d-\\\\d\\\\d\\\\d[a-zA-Z][a-zA-Z]', 'label': 'PART_NUM'}\n",
      "{'expression': '\\\\d\\\\d\\\\d\\\\d-\\\\d\\\\d\\\\d\\\\d', 'label': 'PART_NUM'}\n",
      "{'expression': '\\\\d\\\\d\\\\d\\\\d-\\\\d\\\\d\\\\d\\\\d-\\\\d', 'label': 'PART_NUM'}\n",
      "{'expression': '\\\\d[a-zA-Z][a-zA-Z]\\\\d\\\\d-\\\\d\\\\d\\\\d\\\\d\\\\d', 'label': 'PART_NUM'}\n",
      "{'expression': '[a-zA-Z]\\\\d[a-zA-Z]\\\\d\\\\d-\\\\d\\\\d\\\\d\\\\d\\\\d', 'label': 'PART_NUM'}\n",
      "{'expression': '\\\\d\\\\d\\\\d\\\\d\\\\d-\\\\d\\\\d\\\\d\\\\d\\\\d', 'label': 'PART_NUM'}\n",
      "{'expression': '[a-zA-Z]\\\\d\\\\d\\\\d\\\\d-\\\\d\\\\d\\\\d\\\\d\\\\d', 'label': 'PART_NUM'}\n",
      "{'expression': '\\\\d\\\\d\\\\d\\\\d\\\\d\\\\d-\\\\d\\\\d\\\\d[a-zA-Z]', 'label': 'PART_NUM'}\n",
      "{'expression': '[a-zA-Z][a-zA-Z]\\\\d\\\\d\\\\d-\\\\d\\\\d\\\\d\\\\d\\\\d', 'label': 'PART_NUM'}\n",
      "{'expression': '[a-zA-Z][a-zA-Z]\\\\d-\\\\d\\\\d\\\\d\\\\d[a-zA-Z][a-zA-Z][a-zA-Z][a-zA-Z]', 'label': 'PART_NUM'}\n",
      "{'expression': '\\\\d-\\\\d\\\\d\\\\d-\\\\d\\\\d\\\\d-\\\\d\\\\d', 'label': 'PART_NUM'}\n",
      "{'expression': '[a-zA-Z]-\\\\d\\\\d\\\\d\\\\d-\\\\d\\\\d\\\\d-\\\\d', 'label': 'PART_NUM'}\n",
      "{'expression': '[a-zA-Z][a-zA-Z][a-zA-Z][a-zA-Z]\\\\d\\\\d\\\\d\\\\d-[a-zA-Z]\\\\d\\\\d', 'label': 'PART_NUM'}\n",
      "{'expression': '\\\\d\\\\d\\\\d\\\\d-\\\\d\\\\d\\\\d-\\\\d\\\\d\\\\d\\\\d\\\\d', 'label': 'PART_NUM'}\n",
      "{'expression': '\\\\d\\\\d-\\\\d\\\\d\\\\d\\\\d[a-zA-Z]-\\\\d\\\\d[a-zA-Z]', 'label': 'PART_NUM'}\n",
      "{'expression': '\\\\d\\\\d-\\\\d\\\\d\\\\d\\\\d\\\\d-\\\\d\\\\d\\\\d', 'label': 'PART_NUM'}\n",
      "{'expression': '[a-zA-Z][a-zA-Z][a-zA-Z]\\\\d\\\\d\\\\d\\\\d\\\\d-\\\\d\\\\d\\\\d\\\\d\\\\d', 'label': 'PART_NUM'}\n",
      "{'expression': '\\\\d\\\\d\\\\d\\\\d\\\\d-\\\\d\\\\d\\\\d\\\\d\\\\d-[a-zA-Z][a-zA-Z]', 'label': 'PART_NUM'}\n",
      "{'expression': '\\\\d\\\\d\\\\d-\\\\d\\\\d\\\\d\\\\d\\\\d\\\\d[a-zA-Z][a-zA-Z]', 'label': 'PART_NUM'}\n",
      "{'expression': '\\\\d\\\\d\\\\d-\\\\d\\\\d\\\\d-\\\\d\\\\d', 'label': 'PART_NUM'}\n",
      "{'expression': '\\\\d[a-zA-Z][a-zA-Z]\\\\d-\\\\d\\\\d\\\\d\\\\d', 'label': 'PART_NUM'}\n",
      "{'expression': '\\\\d\\\\d\\\\d\\\\d-\\\\d\\\\d\\\\d\\\\d-[a-zA-Z][a-zA-Z][a-zA-Z][a-zA-Z]', 'label': 'PART_NUM'}\n",
      "{'expression': '\\\\d\\\\d\\\\d\\\\d-\\\\d\\\\d\\\\d\\\\d[a-zA-Z]', 'label': 'PART_NUM'}\n",
      "{'expression': '\\\\d\\\\d\\\\d\\\\d-\\\\d\\\\d\\\\d\\\\d-[a-zA-Z][a-zA-Z][a-zA-Z]', 'label': 'PART_NUM'}\n",
      "{'expression': '\\\\d\\\\d\\\\d\\\\d\\\\d\\\\d[a-zA-Z]-\\\\d\\\\d\\\\d', 'label': 'PART_NUM'}\n",
      "{'expression': '[a-zA-Z][a-zA-Z]\\\\d\\\\d[a-zA-Z]-[a-zA-Z]\\\\d', 'label': 'PART_NUM'}\n",
      "{'expression': '\\\\d\\\\d-\\\\d\\\\d\\\\d\\\\d\\\\d-\\\\d\\\\d', 'label': 'PART_NUM'}\n",
      "{'expression': '[a-zA-Z][a-zA-Z][a-zA-Z]-\\\\d[a-zA-Z]\\\\d\\\\d\\\\d', 'label': 'PART_NUM'}\n",
      "{'expression': '[a-zA-Z][a-zA-Z][a-zA-Z]-\\\\d\\\\d[a-zA-Z]\\\\d\\\\d\\\\d\\\\d', 'label': 'PART_NUM'}\n",
      "{'expression': '[a-zA-Z][a-zA-Z][a-zA-Z]-\\\\d\\\\d[a-zA-Z]\\\\d\\\\d\\\\d\\\\d[a-zA-Z]', 'label': 'PART_NUM'}\n",
      "{'expression': '[a-zA-Z][a-zA-Z][a-zA-Z]-\\\\d\\\\d\\\\d\\\\d\\\\d\\\\d\\\\d\\\\d\\\\d\\\\d', 'label': 'PART_NUM'}\n",
      "{'expression': '[a-zA-Z][a-zA-Z][a-zA-Z]-\\\\d\\\\d\\\\d\\\\d[a-zA-Z][a-zA-Z]\\\\d\\\\d', 'label': 'PART_NUM'}\n",
      "{'expression': '[a-zA-Z][a-zA-Z][a-zA-Z]-\\\\d\\\\d\\\\d[a-zA-Z]\\\\d\\\\d\\\\d\\\\d\\\\d', 'label': 'PART_NUM'}\n",
      "{'expression': '[a-zA-Z][a-zA-Z][a-zA-Z]-[a-zA-Z][a-zA-Z]\\\\d\\\\d\\\\d[a-zA-Z][a-zA-Z]', 'label': 'PART_NUM'}\n",
      "{'expression': '[a-zA-Z][a-zA-Z][a-zA-Z]-\\\\d\\\\d\\\\d-\\\\d\\\\d\\\\d\\\\d', 'label': 'PART_NUM'}\n",
      "{'expression': '[a-zA-Z][a-zA-Z][a-zA-Z]-[a-zA-Z][a-zA-Z]\\\\d\\\\d\\\\d', 'label': 'PART_NUM'}\n",
      "{'expression': '[a-zA-Z][a-zA-Z][a-zA-Z]-\\\\d\\\\d\\\\d\\\\d[a-zA-Z]\\\\d\\\\d[a-zA-Z][a-zA-Z]\\\\d', 'label': 'PART_NUM'}\n",
      "{'expression': '[a-zA-Z][a-zA-Z]\\\\d\\\\d-[a-zA-Z][a-zA-Z]', 'label': 'PART_NUM'}\n",
      "{'expression': '[a-zA-Z][a-zA-Z][a-zA-Z]-[a-zA-Z][a-zA-Z]-\\\\d\\\\d\\\\d[a-zA-Z]', 'label': 'PART_NUM'}\n",
      "{'expression': '[a-zA-Z][a-zA-Z][a-zA-Z]-[a-zA-Z]\\\\d\\\\d[a-zA-Z][a-zA-Z]\\\\d\\\\d[a-zA-Z]\\\\d\\\\d\\\\d\\\\d', 'label': 'PART_NUM'}\n",
      "{'expression': '[a-zA-Z][a-zA-Z][a-zA-Z]-[a-zA-Z]\\\\d\\\\d\\\\d\\\\d\\\\d\\\\d[a-zA-Z]', 'label': 'PART_NUM'}\n",
      "{'expression': '[a-zA-Z][a-zA-Z][a-zA-Z]-[a-zA-Z][a-zA-Z][a-zA-Z][a-zA-Z]-\\\\d\\\\d\\\\d[a-zA-Z]', 'label': 'PART_NUM'}\n",
      "{'expression': '[a-zA-Z][a-zA-Z][a-zA-Z]-\\\\d\\\\d\\\\d\\\\d\\\\d[a-zA-Z][a-zA-Z]', 'label': 'PART_NUM'}\n",
      "{'expression': '[a-zA-Z][a-zA-Z][a-zA-Z]-\\\\d\\\\d[a-zA-Z]\\\\d[a-zA-Z]\\\\d\\\\d', 'label': 'PART_NUM'}\n",
      "{'expression': '[a-zA-Z][a-zA-Z][a-zA-Z]-\\\\d\\\\d[a-zA-Z]\\\\d[a-zA-Z][a-zA-Z]\\\\d', 'label': 'PART_NUM'}\n",
      "{'expression': '[a-zA-Z][a-zA-Z][a-zA-Z]-\\\\d\\\\d\\\\d[a-zA-Z][a-zA-Z]', 'label': 'PART_NUM'}\n",
      "{'expression': '[a-zA-Z][a-zA-Z][a-zA-Z]-[a-zA-Z]\\\\d\\\\d\\\\d\\\\d[a-zA-Z][a-zA-Z][a-zA-Z]', 'label': 'PART_NUM'}\n",
      "{'expression': '[a-zA-Z][a-zA-Z][a-zA-Z]-\\\\d\\\\d-\\\\d\\\\d\\\\d\\\\d\\\\d-\\\\d\\\\d\\\\d', 'label': 'PART_NUM'}\n",
      "{'expression': '[a-zA-Z][a-zA-Z][a-zA-Z]-[a-zA-Z]\\\\d\\\\d\\\\d[a-zA-Z]\\\\d[a-zA-Z][a-zA-Z]', 'label': 'PART_NUM'}\n",
      "{'expression': '[a-zA-Z][a-zA-Z][a-zA-Z]-\\\\d\\\\d\\\\d\\\\d\\\\d\\\\d-\\\\d\\\\d\\\\d', 'label': 'PART_NUM'}\n",
      "{'expression': '[a-zA-Z][a-zA-Z][a-zA-Z]-[a-zA-Z]-\\\\d\\\\d\\\\d', 'label': 'PART_NUM'}\n",
      "{'expression': '[a-zA-Z][a-zA-Z][a-zA-Z]-[a-zA-Z]\\\\d\\\\d\\\\d[a-zA-Z]\\\\d\\\\d[a-zA-Z]-[a-zA-Z]', 'label': 'PART_NUM'}\n",
      "{'expression': '[a-zA-Z][a-zA-Z][a-zA-Z]-[a-zA-Z]\\\\d\\\\d\\\\d\\\\d\\\\d\\\\d\\\\d', 'label': 'PART_NUM'}\n",
      "{'expression': '[a-zA-Z][a-zA-Z][a-zA-Z]-[a-zA-Z][a-zA-Z]\\\\d\\\\d\\\\d\\\\d[a-zA-Z][a-zA-Z]\\\\d\\\\d\\\\d', 'label': 'PART_NUM'}\n",
      "{'expression': '[a-zA-Z][a-zA-Z][a-zA-Z]-\\\\d\\\\d[a-zA-Z]\\\\d\\\\d\\\\d\\\\d-[a-zA-Z][a-zA-Z]', 'label': 'PART_NUM'}\n",
      "{'expression': '[a-zA-Z][a-zA-Z][a-zA-Z]-[a-zA-Z][a-zA-Z]\\\\d\\\\d\\\\d[a-zA-Z]', 'label': 'PART_NUM'}\n",
      "{'expression': '[a-zA-Z][a-zA-Z][a-zA-Z]-\\\\d\\\\d\\\\d\\\\d\\\\d\\\\d', 'label': 'PART_NUM'}\n",
      "{'expression': '[a-zA-Z][a-zA-Z][a-zA-Z]-[a-zA-Z][a-zA-Z][a-zA-Z][a-zA-Z][a-zA-Z]\\\\d\\\\d\\\\d[a-zA-Z][a-zA-Z]', 'label': 'PART_NUM'}\n",
      "{'expression': '[a-zA-Z][a-zA-Z][a-zA-Z]-\\\\d[a-zA-Z][a-zA-Z]\\\\d\\\\d\\\\d\\\\d\\\\d\\\\d\\\\d', 'label': 'PART_NUM'}\n",
      "{'expression': '[a-zA-Z][a-zA-Z][a-zA-Z]-\\\\d\\\\d\\\\d\\\\d\\\\d\\\\d\\\\d\\\\d\\\\d', 'label': 'PART_NUM'}\n",
      "{'expression': '[a-zA-Z][a-zA-Z][a-zA-Z]-\\\\d\\\\d\\\\d\\\\d[a-zA-Z][a-zA-Z][a-zA-Z]-\\\\d\\\\d\\\\d', 'label': 'PART_NUM'}\n",
      "{'expression': '[a-zA-Z][a-zA-Z][a-zA-Z]-[a-zA-Z][a-zA-Z]\\\\d\\\\d\\\\d[a-zA-Z]-[a-zA-Z]', 'label': 'PART_NUM'}\n",
      "{'expression': '[a-zA-Z][a-zA-Z][a-zA-Z]-[a-zA-Z]\\\\d\\\\d\\\\d-\\\\d\\\\d\\\\d\\\\d\\\\d\\\\d', 'label': 'PART_NUM'}\n",
      "{'expression': '[a-zA-Z][a-zA-Z][a-zA-Z]-\\\\d[a-zA-Z][a-zA-Z]\\\\d[a-zA-Z]', 'label': 'PART_NUM'}\n",
      "{'expression': '[a-zA-Z][a-zA-Z][a-zA-Z]-[a-zA-Z][a-zA-Z]\\\\d\\\\d-\\\\d\\\\d\\\\d\\\\d\\\\d[a-zA-Z]', 'label': 'PART_NUM'}\n",
      "{'expression': '[a-zA-Z][a-zA-Z][a-zA-Z]-[a-zA-Z][a-zA-Z][a-zA-Z]\\\\d', 'label': 'PART_NUM'}\n",
      "{'expression': '[a-zA-Z][a-zA-Z][a-zA-Z]-\\\\d\\\\d\\\\d\\\\d-\\\\d\\\\d\\\\d', 'label': 'PART_NUM'}\n",
      "{'expression': '[a-zA-Z][a-zA-Z][a-zA-Z]-[a-zA-Z]\\\\d[a-zA-Z][a-zA-Z][a-zA-Z][a-zA-Z][a-zA-Z][a-zA-Z][a-zA-Z]', 'label': 'PART_NUM'}\n",
      "{'expression': '[a-zA-Z][a-zA-Z][a-zA-Z]-\\\\d\\\\d\\\\d\\\\d\\\\d\\\\d\\\\d\\\\d', 'label': 'PART_NUM'}\n",
      "{'expression': '[a-zA-Z][a-zA-Z][a-zA-Z]-\\\\d\\\\d\\\\d\\\\d\\\\d-\\\\d\\\\d-[a-zA-Z]', 'label': 'PART_NUM'}\n",
      "{'expression': '[a-zA-Z][a-zA-Z][a-zA-Z]-[a-zA-Z][a-zA-Z][a-zA-Z]\\\\d\\\\d\\\\d[a-zA-Z]', 'label': 'PART_NUM'}\n",
      "{'expression': '[a-zA-Z][a-zA-Z][a-zA-Z]-\\\\d\\\\d\\\\d\\\\d[a-zA-Z][a-zA-Z]\\\\d[a-zA-Z][a-zA-Z]\\\\d', 'label': 'PART_NUM'}\n",
      "{'expression': '[a-zA-Z][a-zA-Z][a-zA-Z]-[a-zA-Z][a-zA-Z][a-zA-Z]\\\\d\\\\d\\\\d\\\\d[a-zA-Z][a-zA-Z]\\\\d[a-zA-Z]', 'label': 'PART_NUM'}\n",
      "{'expression': '[a-zA-Z][a-zA-Z][a-zA-Z]-\\\\d\\\\d\\\\d[a-zA-Z][a-zA-Z]\\\\d\\\\d\\\\d\\\\d\\\\d', 'label': 'PART_NUM'}\n",
      "{'expression': '[a-zA-Z][a-zA-Z][a-zA-Z]-[a-zA-Z][a-zA-Z]\\\\d\\\\d\\\\d-\\\\d\\\\d\\\\d\\\\d\\\\d', 'label': 'PART_NUM'}\n",
      "{'expression': '[a-zA-Z][a-zA-Z][a-zA-Z]-\\\\d[a-zA-Z]\\\\d\\\\d[a-zA-Z][a-zA-Z]\\\\d[a-zA-Z][a-zA-Z]\\\\d', 'label': 'PART_NUM'}\n",
      "{'expression': '\\\\d\\\\d\\\\d-[a-zA-Z]\\\\d[a-zA-Z][a-zA-Z]\\\\d', 'label': 'PART_NUM'}\n",
      "{'expression': '[a-zA-Z][a-zA-Z][a-zA-Z]-[a-zA-Z][a-zA-Z]\\\\d\\\\d\\\\d\\\\d\\\\d\\\\d', 'label': 'PART_NUM'}\n",
      "{'expression': '[a-zA-Z][a-zA-Z][a-zA-Z]-\\\\d\\\\d[a-zA-Z]\\\\d\\\\d\\\\d\\\\d\\\\d', 'label': 'PART_NUM'}\n",
      "{'expression': '[a-zA-Z][a-zA-Z][a-zA-Z]-[a-zA-Z][a-zA-Z]\\\\d\\\\d\\\\d\\\\d\\\\d\\\\d\\\\d', 'label': 'PART_NUM'}\n",
      "{'expression': '[a-zA-Z][a-zA-Z][a-zA-Z]-[a-zA-Z]\\\\d\\\\d[a-zA-Z][a-zA-Z]\\\\d\\\\d\\\\d\\\\d\\\\d', 'label': 'PART_NUM'}\n",
      "{'expression': '[a-zA-Z][a-zA-Z][a-zA-Z]-\\\\d\\\\d\\\\d[a-zA-Z]\\\\d\\\\d\\\\d\\\\d\\\\d\\\\d', 'label': 'PART_NUM'}\n",
      "{'expression': '[a-zA-Z][a-zA-Z][a-zA-Z]-[a-zA-Z][a-zA-Z][a-zA-Z]\\\\d\\\\d\\\\d\\\\d\\\\d\\\\d', 'label': 'PART_NUM'}\n",
      "{'expression': '[a-zA-Z][a-zA-Z][a-zA-Z]-[a-zA-Z][a-zA-Z]\\\\d\\\\d\\\\d[a-zA-Z][a-zA-Z][a-zA-Z]', 'label': 'PART_NUM'}\n",
      "{'expression': '\\\\d[a-zA-Z]-[a-zA-Z][a-zA-Z]\\\\d\\\\d\\\\d-[a-zA-Z]\\\\d', 'label': 'PART_NUM'}\n",
      "{'expression': '\\\\d[a-zA-Z]\\\\d-\\\\d\\\\d\\\\d\\\\d-\\\\d\\\\d\\\\d[a-zA-Z][a-zA-Z]', 'label': 'PART_NUM'}\n",
      "{'expression': '[a-zA-Z]\\\\d\\\\d\\\\d\\\\d-\\\\d\\\\d\\\\d\\\\d\\\\d[a-zA-Z][a-zA-Z][a-zA-Z][a-zA-Z]', 'label': 'PART_NUM'}\n",
      "{'expression': '[a-zA-Z][a-zA-Z][a-zA-Z]-[a-zA-Z][a-zA-Z][a-zA-Z]\\\\d[a-zA-Z][a-zA-Z][a-zA-Z]\\\\d\\\\d\\\\d', 'label': 'PART_NUM'}\n",
      "{'expression': '[a-zA-Z][a-zA-Z][a-zA-Z]-[a-zA-Z]\\\\d\\\\d\\\\d\\\\d\\\\d\\\\d\\\\d\\\\d\\\\d', 'label': 'PART_NUM'}\n",
      "{'expression': '[a-zA-Z][a-zA-Z]\\\\d\\\\d-\\\\d\\\\d\\\\d\\\\d\\\\d[a-zA-Z]', 'label': 'PART_NUM'}\n",
      "{'expression': '[a-zA-Z][a-zA-Z][a-zA-Z]-\\\\d\\\\d\\\\d\\\\d[a-zA-Z][a-zA-Z][a-zA-Z]', 'label': 'PART_NUM'}\n",
      "{'expression': '[a-zA-Z][a-zA-Z][a-zA-Z]-\\\\d\\\\d\\\\d\\\\d[a-zA-Z][a-zA-Z][a-zA-Z]-[a-zA-Z]', 'label': 'PART_NUM'}\n",
      "{'expression': '[a-zA-Z][a-zA-Z][a-zA-Z]-\\\\d\\\\d\\\\d\\\\d[a-zA-Z][a-zA-Z]', 'label': 'PART_NUM'}\n",
      "{'expression': '[a-zA-Z][a-zA-Z][a-zA-Z]-\\\\d\\\\d\\\\d\\\\d-[a-zA-Z]\\\\d', 'label': 'PART_NUM'}\n",
      "{'expression': '[a-zA-Z][a-zA-Z][a-zA-Z]-[a-zA-Z]\\\\d\\\\d\\\\d-[a-zA-Z]\\\\d', 'label': 'PART_NUM'}\n",
      "{'expression': '[a-zA-Z][a-zA-Z][a-zA-Z]-[a-zA-Z]\\\\d\\\\d\\\\d[a-zA-Z]', 'label': 'PART_NUM'}\n",
      "{'expression': '[a-zA-Z][a-zA-Z][a-zA-Z]-[a-zA-Z]\\\\d\\\\d\\\\d[a-zA-Z]\\\\d\\\\d[a-zA-Z]', 'label': 'PART_NUM'}\n",
      "{'expression': '[a-zA-Z][a-zA-Z][a-zA-Z]-[a-zA-Z][a-zA-Z][a-zA-Z][a-zA-Z][a-zA-Z]\\\\d\\\\d\\\\d\\\\d[a-zA-Z]', 'label': 'PART_NUM'}\n",
      "{'expression': '[a-zA-Z][a-zA-Z][a-zA-Z][a-zA-Z][a-zA-Z][a-zA-Z][a-zA-Z]-\\\\d\\\\d\\\\d\\\\d[a-zA-Z][a-zA-Z]\\\\d\\\\d', 'label': 'PART_NUM'}\n",
      "{'expression': '[a-zA-Z][a-zA-Z][a-zA-Z]-\\\\d\\\\d\\\\d-\\\\d\\\\d\\\\d\\\\d-\\\\d', 'label': 'PART_NUM'}\n",
      "{'expression': '\\\\d\\\\d-\\\\d\\\\d\\\\d\\\\d', 'label': 'PART_NUM'}\n",
      "{'expression': '[a-zA-Z]\\\\d\\\\d\\\\d\\\\d-\\\\d\\\\d\\\\d\\\\d\\\\d-[a-zA-Z][a-zA-Z][a-zA-Z]', 'label': 'PART_NUM'}\n",
      "{'expression': '[a-zA-Z]\\\\d\\\\d\\\\d[a-zA-Z][a-zA-Z]\\\\d\\\\d[a-zA-Z]-\\\\d\\\\d\\\\d\\\\d\\\\d', 'label': 'PART_NUM'}\n",
      "{'expression': '\\\\d\\\\d[a-zA-Z][a-zA-Z]-\\\\d\\\\d\\\\d\\\\d\\\\d[a-zA-Z][a-zA-Z]', 'label': 'PART_NUM'}\n",
      "{'expression': '[a-zA-Z][a-zA-Z]\\\\d-\\\\d\\\\d\\\\d\\\\d-[a-zA-Z][a-zA-Z][a-zA-Z][a-zA-Z]', 'label': 'PART_NUM'}\n",
      "{'expression': '[a-zA-Z][a-zA-Z]\\\\d\\\\d\\\\d-\\\\d\\\\d\\\\d\\\\d\\\\d-[a-zA-Z][a-zA-Z]', 'label': 'PART_NUM'}\n",
      "{'expression': '[a-zA-Z][a-zA-Z][a-zA-Z][a-zA-Z][a-zA-Z][a-zA-Z][a-zA-Z]-\\\\d\\\\d\\\\d\\\\d[a-zA-Z][a-zA-Z][a-zA-Z][a-zA-Z]', 'label': 'PART_NUM'}\n",
      "{'expression': '[a-zA-Z][a-zA-Z][a-zA-Z][a-zA-Z][a-zA-Z][a-zA-Z][a-zA-Z]-\\\\d\\\\d\\\\d\\\\d[a-zA-Z][a-zA-Z][a-zA-Z]\\\\d', 'label': 'PART_NUM'}\n",
      "{'expression': '\\\\d\\\\d\\\\d-\\\\d\\\\d-\\\\d\\\\d-\\\\d\\\\d\\\\d', 'label': 'PART_NUM'}\n",
      "{'expression': '\\\\d\\\\d\\\\d\\\\d\\\\d\\\\d\\\\d\\\\d\\\\d-\\\\d\\\\d', 'label': 'PART_NUM'}\n",
      "{'expression': '[a-zA-Z][a-zA-Z][a-zA-Z][a-zA-Z][a-zA-Z][a-zA-Z][a-zA-Z][a-zA-Z]\\\\d\\\\d\\\\d[a-zA-Z]\\\\d[a-zA-Z]-\\\\d', 'label': 'PART_NUM'}\n",
      "{'expression': '[a-zA-Z][a-zA-Z][a-zA-Z][a-zA-Z][a-zA-Z][a-zA-Z][a-zA-Z][a-zA-Z][a-zA-Z]\\\\d\\\\d[a-zA-Z]\\\\d\\\\d-\\\\d', 'label': 'PART_NUM'}\n",
      "{'expression': '[a-zA-Z][a-zA-Z][a-zA-Z][a-zA-Z]-[a-zA-Z][a-zA-Z]\\\\d\\\\d\\\\d\\\\d[a-zA-Z][a-zA-Z][a-zA-Z][a-zA-Z]', 'label': 'PART_NUM'}\n",
      "{'expression': '[a-zA-Z][a-zA-Z][a-zA-Z][a-zA-Z][a-zA-Z][a-zA-Z]-[a-zA-Z]\\\\d\\\\d\\\\d\\\\d[a-zA-Z][a-zA-Z][a-zA-Z][a-zA-Z]', 'label': 'PART_NUM'}\n",
      "{'expression': '[a-zA-Z][a-zA-Z][a-zA-Z][a-zA-Z][a-zA-Z][a-zA-Z][a-zA-Z][a-zA-Z]\\\\d[a-zA-Z]\\\\d\\\\d[a-zA-Z][a-zA-Z]-\\\\d', 'label': 'PART_NUM'}\n",
      "{'expression': '[a-zA-Z][a-zA-Z][a-zA-Z][a-zA-Z][a-zA-Z]-[a-zA-Z][a-zA-Z]\\\\d\\\\d\\\\d\\\\d[a-zA-Z][a-zA-Z][a-zA-Z][a-zA-Z]', 'label': 'PART_NUM'}\n",
      "{'expression': '\\\\d\\\\d\\\\d-\\\\d\\\\d\\\\d\\\\d\\\\d\\\\d', 'label': 'PART_NUM'}\n",
      "{'expression': '[a-zA-Z][a-zA-Z][a-zA-Z][a-zA-Z][a-zA-Z][a-zA-Z][a-zA-Z][a-zA-Z]\\\\d[a-zA-Z]\\\\d\\\\d[a-zA-Z]\\\\d-\\\\d\\\\d', 'label': 'PART_NUM'}\n",
      "{'expression': '[a-zA-Z]\\\\d\\\\d-\\\\d\\\\d\\\\d\\\\d', 'label': 'PART_NUM'}\n",
      "{'expression': '\\\\d\\\\d\\\\d\\\\d\\\\d\\\\d\\\\d\\\\d\\\\d-\\\\d', 'label': 'PART_NUM'}\n",
      "{'expression': '[a-zA-Z]\\\\d-[a-zA-Z][a-zA-Z][a-zA-Z][a-zA-Z][a-zA-Z]-\\\\d\\\\d', 'label': 'PART_NUM'}\n",
      "{'expression': '[a-zA-Z][a-zA-Z]\\\\d-\\\\d\\\\d\\\\d\\\\d-\\\\d\\\\d\\\\d-[a-zA-Z][a-zA-Z]', 'label': 'PART_NUM'}\n",
      "{'expression': '[a-zA-Z]\\\\d[a-zA-Z]\\\\d\\\\d-\\\\d\\\\d\\\\d\\\\d\\\\d-[a-zA-Z][a-zA-Z]', 'label': 'PART_NUM'}\n",
      "{'expression': '[a-zA-Z][a-zA-Z]\\\\d\\\\d\\\\d\\\\d\\\\d-[a-zA-Z]\\\\d\\\\d\\\\d[a-zA-Z][a-zA-Z]', 'label': 'PART_NUM'}\n",
      "{'expression': '[a-zA-Z][a-zA-Z]\\\\d\\\\d\\\\d-\\\\d\\\\d\\\\d\\\\d\\\\d-[a-zA-Z][a-zA-Z][a-zA-Z][a-zA-Z]', 'label': 'PART_NUM'}\n",
      "{'expression': '[a-zA-Z][a-zA-Z]\\\\d\\\\d-[a-zA-Z]\\\\d', 'label': 'PART_NUM'}\n",
      "{'expression': '[a-zA-Z][a-zA-Z][a-zA-Z][a-zA-Z][a-zA-Z][a-zA-Z]-[a-zA-Z]\\\\d\\\\d\\\\d\\\\d[a-zA-Z][a-zA-Z][a-zA-Z]', 'label': 'PART_NUM'}\n",
      "{'expression': '[a-zA-Z][a-zA-Z]\\\\d\\\\d[a-zA-Z]-[a-zA-Z][a-zA-Z]', 'label': 'PART_NUM'}\n",
      "{'expression': '[a-zA-Z][a-zA-Z][a-zA-Z][a-zA-Z][a-zA-Z][a-zA-Z]-\\\\d\\\\d\\\\d\\\\d[a-zA-Z][a-zA-Z][a-zA-Z][a-zA-Z]', 'label': 'PART_NUM'}\n"
     ]
    }
   ],
   "source": [
    "patterns = [\n",
    " {'expression': r'[a-zA-Z]\\d\\d\\d\\d\\d-\\d\\d\\d', 'label': 'PART_NUM'}, \n",
    " {'expression': r'\\d\\d\\d\\d\\d\\d-\\d\\d\\d', 'label': 'PART_NUM'}, \n",
    " {'expression': r'[a-zA-Z]\\d\\d\\d\\d\\d-[a-zA-Z]\\d\\d', 'label': 'PART_NUM'}, \n",
    " {'expression': r'\\d\\d\\d\\d\\d\\d-[a-zA-Z][a-zA-Z]\\d', 'label': 'PART_NUM'}, \n",
    " {'expression': r'\\d\\d\\d\\d\\d\\d-\\d[a-zA-Z]\\d', 'label': 'PART_NUM'}, \n",
    " {'expression': r'\\d\\d\\d\\d\\d\\d-[a-zA-Z][a-zA-Z][a-zA-Z]', 'label': 'PART_NUM'}, \n",
    " {'expression': r'[a-zA-Z]\\d\\d\\d\\d\\d-[a-zA-Z][a-zA-Z]\\d', 'label': 'PART_NUM'}, \n",
    " {'expression': r'\\d\\d\\d\\d\\d\\d-[a-zA-Z]\\d\\d', 'label': 'PART_NUM'}, \n",
    " {'expression': r'[a-zA-Z][a-zA-Z]-\\d\\d\\d\\d\\d-\\d\\d', 'label': 'PART_NUM'}, \n",
    " {'expression': r'[a-zA-Z][a-zA-Z]\\d-\\d\\d\\d\\d-\\d\\d\\d[a-zA-Z][a-zA-Z]', 'label': 'PART_NUM'}, \n",
    " {'expression': r'\\d\\d\\d\\d-\\d\\d\\d\\d', 'label': 'PART_NUM'}, \n",
    " {'expression': r'\\d\\d\\d\\d-\\d\\d\\d\\d-\\d', 'label': 'PART_NUM'}, \n",
    " {'expression': r'\\d[a-zA-Z][a-zA-Z]\\d\\d-\\d\\d\\d\\d\\d', 'label': 'PART_NUM'}, \n",
    " {'expression': r'[a-zA-Z]\\d[a-zA-Z]\\d\\d-\\d\\d\\d\\d\\d', 'label': 'PART_NUM'}, \n",
    " {'expression': r'\\d\\d\\d\\d\\d-\\d\\d\\d\\d\\d', 'label': 'PART_NUM'}, \n",
    " {'expression': r'[a-zA-Z]\\d\\d\\d\\d-\\d\\d\\d\\d\\d', 'label': 'PART_NUM'}, \n",
    " {'expression': r'[a-zA-Z]\\d\\d\\d\\d\\d-[a-zA-Z][a-zA-Z]\\d', 'label': 'PART_NUM'}, \n",
    " {'expression': r'\\d\\d\\d\\d\\d\\d-\\d\\d\\d[a-zA-Z]', 'label': 'PART_NUM'}, \n",
    " {'expression': r'[a-zA-Z][a-zA-Z]\\d\\d\\d-\\d\\d\\d\\d\\d', 'label': 'PART_NUM'}, \n",
    " {'expression': r'[a-zA-Z][a-zA-Z]\\d-\\d\\d\\d\\d[a-zA-Z][a-zA-Z][a-zA-Z][a-zA-Z]', 'label': 'PART_NUM'}, \n",
    " {'expression': r'\\d-\\d\\d\\d-\\d\\d\\d-\\d\\d', 'label': 'PART_NUM'}, \n",
    " {'expression': r'[a-zA-Z]-\\d\\d\\d\\d-\\d\\d\\d-\\d', 'label': 'PART_NUM'}, \n",
    " {'expression': r'[a-zA-Z][a-zA-Z][a-zA-Z][a-zA-Z]\\d\\d\\d\\d-[a-zA-Z]\\d\\d', 'label': 'PART_NUM'}, \n",
    " {'expression': r'\\d\\d\\d\\d-\\d\\d\\d-\\d\\d\\d\\d\\d', 'label': 'PART_NUM'}, \n",
    " {'expression': r'\\d\\d-\\d\\d\\d\\d[a-zA-Z]-\\d\\d[a-zA-Z]', 'label': 'PART_NUM'}, \n",
    " {'expression': r'\\d\\d-\\d\\d\\d\\d\\d-\\d\\d\\d', 'label': 'PART_NUM'}, \n",
    " {'expression': r'[a-zA-Z][a-zA-Z][a-zA-Z]\\d\\d\\d\\d\\d-\\d\\d\\d\\d\\d', 'label': 'PART_NUM'}, \n",
    " {'expression': r'\\d\\d\\d\\d\\d-\\d\\d\\d\\d\\d-[a-zA-Z][a-zA-Z]', 'label': 'PART_NUM'}, \n",
    " {'expression': r'\\d\\d\\d-\\d\\d\\d\\d\\d\\d[a-zA-Z][a-zA-Z]', 'label': 'PART_NUM'}, \n",
    " {'expression': r'\\d\\d\\d-\\d\\d\\d-\\d\\d', 'label': 'PART_NUM'}, \n",
    " {'expression': r'\\d[a-zA-Z][a-zA-Z]\\d-\\d\\d\\d\\d', 'label': 'PART_NUM'}, \n",
    " {'expression': r'\\d\\d\\d\\d-\\d\\d\\d\\d-[a-zA-Z][a-zA-Z][a-zA-Z][a-zA-Z]', 'label': 'PART_NUM'}, \n",
    " {'expression': r'\\d\\d\\d\\d-\\d\\d\\d\\d[a-zA-Z]', 'label': 'PART_NUM'}, \n",
    " {'expression': r'\\d\\d\\d\\d-\\d\\d\\d\\d-[a-zA-Z][a-zA-Z][a-zA-Z]', 'label': 'PART_NUM'}, \n",
    " {'expression': r'\\d\\d\\d\\d-\\d\\d\\d-\\d\\d\\d\\d\\d', 'label': 'PART_NUM'}, \n",
    " {'expression': r'\\d\\d\\d\\d\\d\\d[a-zA-Z]-\\d\\d\\d', 'label': 'PART_NUM'}, \n",
    " {'expression': r'[a-zA-Z][a-zA-Z]\\d\\d[a-zA-Z]-[a-zA-Z]\\d', 'label': 'PART_NUM'}, \n",
    " {'expression': r'\\d\\d-\\d\\d\\d\\d\\d-\\d\\d', 'label': 'PART_NUM'}, \n",
    " {'expression': r'[a-zA-Z][a-zA-Z][a-zA-Z]-\\d[a-zA-Z]\\d\\d\\d', 'label': 'PART_NUM'}, \n",
    " {'expression': r'[a-zA-Z][a-zA-Z][a-zA-Z]-\\d\\d[a-zA-Z]\\d\\d\\d\\d', 'label': 'PART_NUM'}, \n",
    " {'expression': r'[a-zA-Z][a-zA-Z][a-zA-Z]-\\d\\d[a-zA-Z]\\d\\d\\d\\d[a-zA-Z]', 'label': 'PART_NUM'}, \n",
    " {'expression': r'[a-zA-Z][a-zA-Z][a-zA-Z]-\\d\\d\\d\\d\\d\\d\\d\\d\\d\\d', 'label': 'PART_NUM'}, \n",
    " {'expression': r'[a-zA-Z][a-zA-Z][a-zA-Z]-\\d\\d\\d\\d[a-zA-Z][a-zA-Z]\\d\\d', 'label': 'PART_NUM'}, \n",
    " {'expression': r'[a-zA-Z][a-zA-Z][a-zA-Z]-\\d\\d\\d[a-zA-Z]\\d\\d\\d\\d\\d', 'label': 'PART_NUM'}, \n",
    " {'expression': r'[a-zA-Z][a-zA-Z][a-zA-Z]-[a-zA-Z][a-zA-Z]\\d\\d\\d[a-zA-Z][a-zA-Z]', 'label': 'PART_NUM'}, \n",
    " {'expression': r'[a-zA-Z][a-zA-Z][a-zA-Z]-\\d\\d\\d-\\d\\d\\d\\d', 'label': 'PART_NUM'}, \n",
    " {'expression': r'[a-zA-Z][a-zA-Z][a-zA-Z]-[a-zA-Z][a-zA-Z]\\d\\d\\d', 'label': 'PART_NUM'}, \n",
    " {'expression': r'[a-zA-Z][a-zA-Z][a-zA-Z]-\\d\\d\\d\\d[a-zA-Z]\\d\\d[a-zA-Z][a-zA-Z]\\d', 'label': 'PART_NUM'}, \n",
    " {'expression': r'[a-zA-Z][a-zA-Z]\\d\\d-[a-zA-Z][a-zA-Z]', 'label': 'PART_NUM'}, \n",
    " {'expression': r'[a-zA-Z][a-zA-Z][a-zA-Z]-[a-zA-Z][a-zA-Z]-\\d\\d\\d[a-zA-Z]', 'label': 'PART_NUM'}, \n",
    " {'expression': r'[a-zA-Z][a-zA-Z][a-zA-Z]-[a-zA-Z]\\d\\d[a-zA-Z][a-zA-Z]\\d\\d[a-zA-Z]\\d\\d\\d\\d', 'label': 'PART_NUM'}, \n",
    " {'expression': r'[a-zA-Z][a-zA-Z][a-zA-Z]-[a-zA-Z]\\d\\d\\d\\d\\d\\d[a-zA-Z]', 'label': 'PART_NUM'}, \n",
    " {'expression': r'[a-zA-Z][a-zA-Z][a-zA-Z]-[a-zA-Z][a-zA-Z][a-zA-Z][a-zA-Z]-\\d\\d\\d[a-zA-Z]', 'label': 'PART_NUM'}, \n",
    " {'expression': r'[a-zA-Z][a-zA-Z][a-zA-Z]-\\d\\d\\d\\d\\d[a-zA-Z][a-zA-Z]', 'label': 'PART_NUM'}, \n",
    " {'expression': r'[a-zA-Z][a-zA-Z][a-zA-Z]-\\d\\d[a-zA-Z]\\d[a-zA-Z]\\d\\d', 'label': 'PART_NUM'}, \n",
    " {'expression': r'[a-zA-Z][a-zA-Z][a-zA-Z]-\\d\\d[a-zA-Z]\\d[a-zA-Z][a-zA-Z]\\d', 'label': 'PART_NUM'}, \n",
    " {'expression': r'[a-zA-Z][a-zA-Z][a-zA-Z]-\\d\\d\\d[a-zA-Z][a-zA-Z]', 'label': 'PART_NUM'}, \n",
    " {'expression': r'[a-zA-Z][a-zA-Z][a-zA-Z]-[a-zA-Z]\\d\\d\\d\\d[a-zA-Z][a-zA-Z][a-zA-Z]', 'label': 'PART_NUM'}, \n",
    " {'expression': r'[a-zA-Z][a-zA-Z][a-zA-Z]-\\d\\d-\\d\\d\\d\\d\\d-\\d\\d\\d', 'label': 'PART_NUM'}, \n",
    " {'expression': r'[a-zA-Z][a-zA-Z][a-zA-Z]-[a-zA-Z]\\d\\d\\d[a-zA-Z]\\d[a-zA-Z][a-zA-Z]', 'label': 'PART_NUM'}, \n",
    " {'expression': r'[a-zA-Z][a-zA-Z][a-zA-Z]-\\d\\d\\d\\d\\d\\d-\\d\\d\\d', 'label': 'PART_NUM'}, \n",
    " {'expression': r'[a-zA-Z][a-zA-Z][a-zA-Z]-[a-zA-Z]-\\d\\d\\d', 'label': 'PART_NUM'}, \n",
    " {'expression': r'[a-zA-Z][a-zA-Z][a-zA-Z]-[a-zA-Z]\\d\\d\\d[a-zA-Z]\\d\\d[a-zA-Z]-[a-zA-Z]', 'label': 'PART_NUM'}, \n",
    " {'expression': r'[a-zA-Z][a-zA-Z][a-zA-Z]-[a-zA-Z]\\d\\d\\d\\d\\d\\d\\d', 'label': 'PART_NUM'}, \n",
    " {'expression': r'[a-zA-Z][a-zA-Z][a-zA-Z]-[a-zA-Z][a-zA-Z]\\d\\d\\d\\d[a-zA-Z][a-zA-Z]\\d\\d\\d', 'label': 'PART_NUM'}, \n",
    " {'expression': r'[a-zA-Z][a-zA-Z][a-zA-Z]-\\d\\d[a-zA-Z]\\d\\d\\d\\d-[a-zA-Z][a-zA-Z]', 'label': 'PART_NUM'}, \n",
    " {'expression': r'[a-zA-Z][a-zA-Z][a-zA-Z]-[a-zA-Z][a-zA-Z]\\d\\d\\d[a-zA-Z]', 'label': 'PART_NUM'}, \n",
    " {'expression': r'[a-zA-Z][a-zA-Z][a-zA-Z]-\\d\\d\\d\\d\\d\\d', 'label': 'PART_NUM'}, \n",
    " {'expression': r'[a-zA-Z][a-zA-Z][a-zA-Z]-[a-zA-Z][a-zA-Z][a-zA-Z][a-zA-Z][a-zA-Z]\\d\\d\\d[a-zA-Z][a-zA-Z]', 'label': 'PART_NUM'}, \n",
    " {'expression': r'[a-zA-Z][a-zA-Z][a-zA-Z]-\\d[a-zA-Z][a-zA-Z]\\d\\d\\d\\d\\d\\d\\d', 'label': 'PART_NUM'}, \n",
    " {'expression': r'[a-zA-Z][a-zA-Z][a-zA-Z]-\\d\\d\\d[a-zA-Z]\\d\\d\\d\\d\\d', 'label': 'PART_NUM'}, \n",
    " {'expression': r'[a-zA-Z][a-zA-Z][a-zA-Z]-\\d\\d\\d\\d\\d\\d\\d\\d\\d', 'label': 'PART_NUM'}, \n",
    " {'expression': r'[a-zA-Z][a-zA-Z][a-zA-Z]-\\d\\d\\d\\d[a-zA-Z][a-zA-Z][a-zA-Z]-\\d\\d\\d', 'label': 'PART_NUM'}, \n",
    " {'expression': r'[a-zA-Z][a-zA-Z][a-zA-Z]-[a-zA-Z][a-zA-Z]\\d\\d\\d[a-zA-Z][a-zA-Z]', 'label': 'PART_NUM'}, \n",
    " {'expression': r'[a-zA-Z][a-zA-Z][a-zA-Z]-\\d\\d\\d-\\d\\d\\d\\d', 'label': 'PART_NUM'}, \n",
    " {'expression': r'[a-zA-Z][a-zA-Z][a-zA-Z]-[a-zA-Z][a-zA-Z]\\d\\d\\d[a-zA-Z]-[a-zA-Z]', 'label': 'PART_NUM'}, \n",
    " {'expression': r'[a-zA-Z][a-zA-Z][a-zA-Z]-[a-zA-Z]\\d\\d\\d-\\d\\d\\d\\d\\d\\d', 'label': 'PART_NUM'}, \n",
    " {'expression': r'[a-zA-Z][a-zA-Z][a-zA-Z]-\\d[a-zA-Z][a-zA-Z]\\d[a-zA-Z]', 'label': 'PART_NUM'}, \n",
    " {'expression': r'[a-zA-Z][a-zA-Z][a-zA-Z]-[a-zA-Z][a-zA-Z]\\d\\d-\\d\\d\\d\\d\\d[a-zA-Z]', 'label': 'PART_NUM'}, \n",
    " {'expression': r'[a-zA-Z][a-zA-Z][a-zA-Z]-[a-zA-Z][a-zA-Z][a-zA-Z]\\d', 'label': 'PART_NUM'}, \n",
    " {'expression': r'[a-zA-Z][a-zA-Z][a-zA-Z]-\\d\\d\\d\\d-\\d\\d\\d', 'label': 'PART_NUM'}, \n",
    " {'expression': r'[a-zA-Z][a-zA-Z][a-zA-Z]-[a-zA-Z]\\d[a-zA-Z][a-zA-Z][a-zA-Z][a-zA-Z][a-zA-Z][a-zA-Z][a-zA-Z]', 'label': 'PART_NUM'}, \n",
    " {'expression': r'[a-zA-Z][a-zA-Z][a-zA-Z]-\\d\\d\\d\\d\\d\\d\\d\\d', 'label': 'PART_NUM'}, \n",
    " {'expression': r'[a-zA-Z][a-zA-Z][a-zA-Z]-\\d\\d\\d\\d\\d-\\d\\d-[a-zA-Z]', 'label': 'PART_NUM'}, \n",
    " {'expression': r'[a-zA-Z][a-zA-Z][a-zA-Z]-[a-zA-Z][a-zA-Z][a-zA-Z]\\d\\d\\d[a-zA-Z]', 'label': 'PART_NUM'}, \n",
    " {'expression': r'[a-zA-Z][a-zA-Z][a-zA-Z]-\\d\\d\\d\\d[a-zA-Z][a-zA-Z]\\d[a-zA-Z][a-zA-Z]\\d', 'label': 'PART_NUM'}, \n",
    " {'expression': r'[a-zA-Z][a-zA-Z][a-zA-Z]-[a-zA-Z][a-zA-Z][a-zA-Z]\\d\\d\\d\\d[a-zA-Z][a-zA-Z]\\d[a-zA-Z]', 'label': 'PART_NUM'}, \n",
    " {'expression': r'[a-zA-Z][a-zA-Z][a-zA-Z]-\\d\\d\\d[a-zA-Z][a-zA-Z]\\d\\d\\d\\d\\d', 'label': 'PART_NUM'}, \n",
    " {'expression': r'[a-zA-Z][a-zA-Z][a-zA-Z]-[a-zA-Z][a-zA-Z]\\d\\d\\d-\\d\\d\\d\\d\\d', 'label': 'PART_NUM'}, \n",
    " {'expression': r'[a-zA-Z][a-zA-Z][a-zA-Z]-\\d[a-zA-Z]\\d\\d[a-zA-Z][a-zA-Z]\\d[a-zA-Z][a-zA-Z]\\d', 'label': 'PART_NUM'}, \n",
    " {'expression': r'[a-zA-Z][a-zA-Z][a-zA-Z]-\\d\\d[a-zA-Z]\\d\\d\\d\\d', 'label': 'PART_NUM'}, \n",
    " {'expression': r'[a-zA-Z][a-zA-Z][a-zA-Z]-\\d\\d\\d[a-zA-Z][a-zA-Z]\\d\\d\\d\\d\\d', 'label': 'PART_NUM'}, \n",
    " {'expression': r'\\d\\d\\d-[a-zA-Z]\\d[a-zA-Z][a-zA-Z]\\d', 'label': 'PART_NUM'}, \n",
    " {'expression': r'[a-zA-Z][a-zA-Z][a-zA-Z]-\\d\\d[a-zA-Z]\\d\\d\\d\\d', 'label': 'PART_NUM'}, \n",
    " {'expression': r'[a-zA-Z][a-zA-Z][a-zA-Z]-\\d[a-zA-Z][a-zA-Z]\\d\\d\\d\\d\\d\\d\\d', 'label': 'PART_NUM'}, \n",
    " {'expression': r'[a-zA-Z][a-zA-Z][a-zA-Z]-[a-zA-Z][a-zA-Z]\\d\\d\\d\\d\\d\\d', 'label': 'PART_NUM'}, \n",
    " {'expression': r'[a-zA-Z][a-zA-Z][a-zA-Z]-\\d\\d[a-zA-Z]\\d\\d\\d\\d\\d', 'label': 'PART_NUM'}, \n",
    " {'expression': r'[a-zA-Z][a-zA-Z][a-zA-Z]-[a-zA-Z][a-zA-Z]\\d\\d\\d\\d\\d\\d\\d', 'label': 'PART_NUM'}, \n",
    " {'expression': r'[a-zA-Z][a-zA-Z][a-zA-Z]-[a-zA-Z]\\d\\d[a-zA-Z][a-zA-Z]\\d\\d\\d\\d\\d', 'label': 'PART_NUM'}, \n",
    " {'expression': r'[a-zA-Z][a-zA-Z][a-zA-Z]-\\d\\d\\d[a-zA-Z]\\d\\d\\d\\d\\d\\d', 'label': 'PART_NUM'}, \n",
    " {'expression': r'[a-zA-Z][a-zA-Z][a-zA-Z]-[a-zA-Z][a-zA-Z][a-zA-Z]\\d\\d\\d\\d\\d\\d', 'label': 'PART_NUM'}, \n",
    " {'expression': r'[a-zA-Z][a-zA-Z][a-zA-Z]-\\d\\d\\d-\\d\\d\\d\\d', 'label': 'PART_NUM'}, \n",
    " {'expression': r'[a-zA-Z][a-zA-Z][a-zA-Z]-[a-zA-Z][a-zA-Z]\\d\\d\\d[a-zA-Z][a-zA-Z][a-zA-Z]', 'label': 'PART_NUM'}, \n",
    " {'expression': r'\\d[a-zA-Z]-[a-zA-Z][a-zA-Z]\\d\\d\\d-[a-zA-Z]\\d', 'label': 'PART_NUM'}, \n",
    " {'expression': r'\\d[a-zA-Z]\\d-\\d\\d\\d\\d-\\d\\d\\d[a-zA-Z][a-zA-Z]', 'label': 'PART_NUM'}, \n",
    " {'expression': r'[a-zA-Z]\\d\\d\\d\\d-\\d\\d\\d\\d\\d[a-zA-Z][a-zA-Z][a-zA-Z][a-zA-Z]', 'label': 'PART_NUM'}, \n",
    " {'expression': r'[a-zA-Z][a-zA-Z][a-zA-Z]-[a-zA-Z][a-zA-Z][a-zA-Z]\\d[a-zA-Z][a-zA-Z][a-zA-Z]\\d\\d\\d', 'label': 'PART_NUM'}, \n",
    " {'expression': r'[a-zA-Z][a-zA-Z][a-zA-Z]-[a-zA-Z]\\d\\d\\d\\d\\d\\d\\d\\d\\d', 'label': 'PART_NUM'}, \n",
    " {'expression': r'[a-zA-Z][a-zA-Z]\\d\\d-\\d\\d\\d\\d\\d[a-zA-Z]', 'label': 'PART_NUM'}, \n",
    " {'expression': r'[a-zA-Z][a-zA-Z][a-zA-Z]-\\d\\d\\d\\d[a-zA-Z][a-zA-Z][a-zA-Z]', 'label': 'PART_NUM'}, \n",
    " {'expression': r'[a-zA-Z][a-zA-Z][a-zA-Z]-\\d\\d\\d\\d[a-zA-Z][a-zA-Z][a-zA-Z]-[a-zA-Z]', 'label': 'PART_NUM'}, \n",
    " {'expression': r'[a-zA-Z][a-zA-Z][a-zA-Z]-\\d\\d\\d\\d[a-zA-Z][a-zA-Z]', 'label': 'PART_NUM'}, \n",
    " {'expression': r'[a-zA-Z][a-zA-Z][a-zA-Z]-\\d\\d\\d\\d-[a-zA-Z]\\d', 'label': 'PART_NUM'}, \n",
    " {'expression': r'[a-zA-Z][a-zA-Z][a-zA-Z]-[a-zA-Z]\\d\\d\\d-[a-zA-Z]\\d', 'label': 'PART_NUM'}, \n",
    " {'expression': r'[a-zA-Z][a-zA-Z][a-zA-Z]-[a-zA-Z]\\d\\d\\d[a-zA-Z]', 'label': 'PART_NUM'}, \n",
    " {'expression': r'[a-zA-Z][a-zA-Z][a-zA-Z]-[a-zA-Z]\\d\\d\\d[a-zA-Z]\\d\\d[a-zA-Z]', 'label': 'PART_NUM'}, \n",
    " {'expression': r'[a-zA-Z][a-zA-Z][a-zA-Z]-[a-zA-Z][a-zA-Z][a-zA-Z][a-zA-Z][a-zA-Z]\\d\\d\\d\\d[a-zA-Z]', 'label': 'PART_NUM'}, \n",
    " {'expression': r'[a-zA-Z][a-zA-Z][a-zA-Z][a-zA-Z][a-zA-Z][a-zA-Z][a-zA-Z]-\\d\\d\\d\\d[a-zA-Z][a-zA-Z]\\d\\d', 'label': 'PART_NUM'}, \n",
    " {'expression': r'[a-zA-Z][a-zA-Z][a-zA-Z]-\\d\\d\\d-\\d\\d\\d\\d-\\d', 'label': 'PART_NUM'}, \n",
    " {'expression': r'\\d\\d-\\d\\d\\d\\d', 'label': 'PART_NUM'}, \n",
    " {'expression': r'[a-zA-Z][a-zA-Z][a-zA-Z]-[a-zA-Z][a-zA-Z]\\d\\d\\d\\d\\d\\d\\d', 'label': 'PART_NUM'}, \n",
    " {'expression': r'[a-zA-Z]\\d\\d\\d\\d-\\d\\d\\d\\d\\d-[a-zA-Z][a-zA-Z][a-zA-Z]', 'label': 'PART_NUM'}, \n",
    " {'expression': r'[a-zA-Z]\\d\\d\\d[a-zA-Z][a-zA-Z]\\d\\d[a-zA-Z]-\\d\\d\\d\\d\\d', 'label': 'PART_NUM'}, \n",
    " {'expression': r'\\d\\d[a-zA-Z][a-zA-Z]-\\d\\d\\d\\d\\d[a-zA-Z][a-zA-Z]', 'label': 'PART_NUM'}, \n",
    " {'expression': r'[a-zA-Z][a-zA-Z]\\d-\\d\\d\\d\\d-[a-zA-Z][a-zA-Z][a-zA-Z][a-zA-Z]', 'label': 'PART_NUM'}, \n",
    " {'expression': r'[a-zA-Z][a-zA-Z]\\d\\d\\d-\\d\\d\\d\\d\\d-[a-zA-Z][a-zA-Z]', 'label': 'PART_NUM'}, \n",
    " {'expression': r'[a-zA-Z][a-zA-Z]\\d\\d\\d-\\d\\d\\d\\d\\d', 'label': 'PART_NUM'}, \n",
    " {'expression': r'[a-zA-Z][a-zA-Z][a-zA-Z]-[a-zA-Z][a-zA-Z]\\d\\d\\d', 'label': 'PART_NUM'}, \n",
    " {'expression': r'[a-zA-Z][a-zA-Z]\\d\\d-\\d\\d\\d\\d\\d[a-zA-Z]', 'label': 'PART_NUM'}, \n",
    " {'expression': r'[a-zA-Z][a-zA-Z][a-zA-Z][a-zA-Z][a-zA-Z][a-zA-Z][a-zA-Z]-\\d\\d\\d\\d[a-zA-Z][a-zA-Z]\\d\\d', 'label': 'PART_NUM'}, \n",
    " {'expression': r'[a-zA-Z][a-zA-Z][a-zA-Z][a-zA-Z][a-zA-Z][a-zA-Z][a-zA-Z]-\\d\\d\\d\\d[a-zA-Z][a-zA-Z][a-zA-Z][a-zA-Z]', 'label': 'PART_NUM'}, \n",
    " {'expression': r'[a-zA-Z][a-zA-Z][a-zA-Z][a-zA-Z][a-zA-Z][a-zA-Z][a-zA-Z]-\\d\\d\\d\\d[a-zA-Z][a-zA-Z][a-zA-Z]\\d', 'label': 'PART_NUM'}, \n",
    " {'expression': r'\\d\\d\\d-\\d\\d-\\d\\d-\\d\\d\\d', 'label': 'PART_NUM'}, \n",
    " {'expression': r'\\d\\d\\d\\d\\d\\d\\d\\d\\d-\\d\\d', 'label': 'PART_NUM'}, \n",
    " {'expression': r'[a-zA-Z][a-zA-Z][a-zA-Z][a-zA-Z][a-zA-Z][a-zA-Z][a-zA-Z][a-zA-Z]\\d\\d\\d[a-zA-Z]\\d[a-zA-Z]-\\d', 'label': 'PART_NUM'}, \n",
    " {'expression': r'[a-zA-Z][a-zA-Z][a-zA-Z][a-zA-Z][a-zA-Z][a-zA-Z][a-zA-Z][a-zA-Z][a-zA-Z]\\d\\d[a-zA-Z]\\d\\d-\\d', 'label': 'PART_NUM'}, \n",
    " {'expression': r'[a-zA-Z][a-zA-Z][a-zA-Z][a-zA-Z][a-zA-Z][a-zA-Z][a-zA-Z]-\\d\\d\\d\\d[a-zA-Z][a-zA-Z][a-zA-Z]\\d', 'label': 'PART_NUM'}, \n",
    " {'expression': r'[a-zA-Z][a-zA-Z][a-zA-Z][a-zA-Z]-[a-zA-Z][a-zA-Z]\\d\\d\\d\\d[a-zA-Z][a-zA-Z][a-zA-Z][a-zA-Z]', 'label': 'PART_NUM'}, \n",
    " {'expression': r'[a-zA-Z][a-zA-Z][a-zA-Z][a-zA-Z][a-zA-Z][a-zA-Z]-[a-zA-Z]\\d\\d\\d\\d[a-zA-Z][a-zA-Z][a-zA-Z][a-zA-Z]', 'label': 'PART_NUM'}, \n",
    " {'expression': r'[a-zA-Z][a-zA-Z][a-zA-Z][a-zA-Z][a-zA-Z][a-zA-Z][a-zA-Z][a-zA-Z]\\d[a-zA-Z]\\d\\d[a-zA-Z][a-zA-Z]-\\d', 'label': 'PART_NUM'}, \n",
    " {'expression': r'[a-zA-Z][a-zA-Z][a-zA-Z][a-zA-Z][a-zA-Z]-[a-zA-Z][a-zA-Z]\\d\\d\\d\\d[a-zA-Z][a-zA-Z][a-zA-Z][a-zA-Z]', 'label': 'PART_NUM'}, \n",
    " {'expression': r'\\d\\d\\d-\\d\\d\\d\\d\\d\\d', 'label': 'PART_NUM'}, \n",
    " {'expression': r'[a-zA-Z][a-zA-Z][a-zA-Z][a-zA-Z][a-zA-Z][a-zA-Z][a-zA-Z][a-zA-Z]\\d[a-zA-Z]\\d\\d[a-zA-Z]\\d-\\d\\d', 'label': 'PART_NUM'}, \n",
    " {'expression': r'[a-zA-Z]\\d\\d-\\d\\d\\d\\d', 'label': 'PART_NUM'}, \n",
    " {'expression': r'\\d\\d\\d\\d\\d\\d\\d\\d\\d-\\d', 'label': 'PART_NUM'}, \n",
    " {'expression': r'\\d\\d\\d\\d-\\d\\d\\d\\d', 'label': 'PART_NUM'}, \n",
    " {'expression': r'[a-zA-Z]\\d-[a-zA-Z][a-zA-Z][a-zA-Z][a-zA-Z][a-zA-Z]-\\d\\d', 'label': 'PART_NUM'}, \n",
    " {'expression': r'[a-zA-Z][a-zA-Z]\\d-\\d\\d\\d\\d-\\d\\d\\d-[a-zA-Z][a-zA-Z]', 'label': 'PART_NUM'}, \n",
    " {'expression': r'[a-zA-Z]\\d[a-zA-Z]\\d\\d-\\d\\d\\d\\d\\d-[a-zA-Z][a-zA-Z]', 'label': 'PART_NUM'}, \n",
    " {'expression': r'[a-zA-Z][a-zA-Z]\\d\\d\\d\\d\\d-[a-zA-Z]\\d\\d\\d[a-zA-Z][a-zA-Z]', 'label': 'PART_NUM'}, \n",
    " {'expression': r'[a-zA-Z][a-zA-Z]\\d\\d\\d-\\d\\d\\d\\d\\d-[a-zA-Z][a-zA-Z]', 'label': 'PART_NUM'}, \n",
    " {'expression': r'[a-zA-Z][a-zA-Z]\\d\\d\\d-\\d\\d\\d\\d\\d-[a-zA-Z][a-zA-Z][a-zA-Z][a-zA-Z]', 'label': 'PART_NUM'}, \n",
    " {'expression': r'[a-zA-Z][a-zA-Z]\\d\\d-[a-zA-Z]\\d', 'label': 'PART_NUM'}, \n",
    " {'expression': r'\\d\\d\\d\\d\\d\\d-\\d\\d\\d[a-zA-Z]', 'label': 'PART_NUM'}, \n",
    " {'expression': r'[a-zA-Z][a-zA-Z]\\d\\d\\d-\\d\\d\\d\\d\\d', 'label': 'PART_NUM'}, \n",
    " {'expression': r'[a-zA-Z][a-zA-Z][a-zA-Z]-\\d\\d[a-zA-Z]\\d[a-zA-Z]\\d\\d', 'label': 'PART_NUM'}, \n",
    " {'expression': r'[a-zA-Z][a-zA-Z][a-zA-Z][a-zA-Z][a-zA-Z][a-zA-Z]-[a-zA-Z]\\d\\d\\d\\d[a-zA-Z][a-zA-Z][a-zA-Z]', 'label': 'PART_NUM'}, \n",
    " {'expression': r'[a-zA-Z][a-zA-Z][a-zA-Z][a-zA-Z][a-zA-Z]-[a-zA-Z][a-zA-Z]\\d\\d\\d\\d[a-zA-Z][a-zA-Z][a-zA-Z][a-zA-Z]', 'label': 'PART_NUM'}, \n",
    " {'expression': r'[a-zA-Z][a-zA-Z]\\d\\d[a-zA-Z]-[a-zA-Z][a-zA-Z]', 'label': 'PART_NUM'}, \n",
    " {'expression': r'[a-zA-Z][a-zA-Z][a-zA-Z][a-zA-Z][a-zA-Z][a-zA-Z]-\\d\\d\\d\\d[a-zA-Z][a-zA-Z][a-zA-Z][a-zA-Z]', 'label': 'PART_NUM'}, \n",
    "#  {'expression': r'order', 'label': 'ACTION'}, \n",
    "#  {'expression': r'recommended', 'label': 'ACTION'}, \n",
    "#  {'expression': r'hfpu', 'label': 'ACTION'}, \n",
    "#  {'expression': r'ship', 'label': 'ACTION'}, \n",
    "#  {'expression': r'fedex', 'label': 'ACTION'}, \n",
    "#  {'expression': r'hal', 'label': 'ACTION'}, \n",
    "#  {'expression': r'site', 'label': 'ACTION'}, \n",
    "#  {'expression': r'send', 'label': 'ACTION'}, \n",
    "#  {'expression': r'location', 'label': 'ACTION'}, \n",
    "#  {'expression': r'pickup', 'label': 'ACTION'}, \n",
    "#  {'expression': r'sent', 'label': 'ACTION'}, \n",
    "#  {'expression': r'requested', 'label': 'ACTION'}, \n",
    "#  {'expression': r'reorder', 'label': 'ACTION'}, \n",
    "#  {'expression': r'street', 'label': 'ACTION'}, \n",
    "#  {'expression': r'hfp', 'label': 'ACTION'}, \n",
    "#  {'expression': r'shipped', 'label': 'ACTION'}, \n",
    "#  {'expression': r'delivery', 'label': 'ACTION'}, \n",
    "#  {'expression': r'recommend', 'label': 'ACTION'}, \n",
    "#  {'expression': r'warehouse', 'label': 'ACTION'}    \n",
    "]\n",
    "\n",
    "# remove duplidate data\n",
    "patterns1 = {}\n",
    "for i, pattern in enumerate(patterns):\n",
    "    expression = pattern['expression']\n",
    "    patterns1[expression] = pattern\n",
    "    \n",
    "patterns = [value for _, value in patterns1.items()]\n",
    "print(len(patterns))\n",
    "print(*patterns, sep=\"\\n\") "
   ]
  },
  {
   "cell_type": "code",
   "execution_count": 177,
   "id": "140e652e",
   "metadata": {
    "ExecuteTime": {
     "end_time": "2021-08-25T06:27:39.443483Z",
     "start_time": "2021-08-25T06:27:39.436111Z"
    }
   },
   "outputs": [],
   "source": [
    "common_words_patterns = [\n",
    " {'expression': r'order', 'label': 'ACTION'}, \n",
    " {'expression': r'recommended', 'label': 'ACTION'}, \n",
    " {'expression': r'hfpu', 'label': 'ACTION'}, \n",
    " {'expression': r'ship', 'label': 'ACTION'}, \n",
    " {'expression': r'fedex', 'label': 'ACTION'}, \n",
    " {'expression': r'hal', 'label': 'ACTION'}, \n",
    " {'expression': r'site', 'label': 'ACTION'}, \n",
    " {'expression': r'send', 'label': 'ACTION'}, \n",
    " {'expression': r'location', 'label': 'ACTION'}, \n",
    " {'expression': r'pickup', 'label': 'ACTION'}, \n",
    " {'expression': r'sent', 'label': 'ACTION'}, \n",
    " {'expression': r'requested', 'label': 'ACTION'}, \n",
    " {'expression': r'reorder', 'label': 'ACTION'}, \n",
    " {'expression': r'street', 'label': 'ACTION'}, \n",
    " {'expression': r'hfp', 'label': 'ACTION'}, \n",
    " {'expression': r'shipped', 'label': 'ACTION'}, \n",
    " {'expression': r'delivery', 'label': 'ACTION'}, \n",
    " {'expression': r'recommend', 'label': 'ACTION'}, \n",
    " {'expression': r'warehouse', 'label': 'ACTION'}   \n",
    "]"
   ]
  },
  {
   "cell_type": "code",
   "execution_count": 181,
   "id": "35c2c78c",
   "metadata": {
    "ExecuteTime": {
     "end_time": "2021-08-25T06:31:20.891605Z",
     "start_time": "2021-08-25T06:31:20.879167Z"
    }
   },
   "outputs": [],
   "source": [
    "def generate_label(texts, patterns={}):   \n",
    "    \n",
    "    def entity_from_patterns(text, patterns, pattern_matchs):        \n",
    "        entities = {}\n",
    "#         print('-'*50)  \n",
    "        for pattern in patterns:\n",
    "            entities = entity_from_pattern(text, pattern, entities, pattern_matchs)\n",
    "        entities = [value for _, value in sorted(entities.items(), key=lambda item: item[0][0])]\n",
    "        return entities\n",
    "\n",
    "    def entity_from_pattern(text, pattern, entities, pattern_matchs):\n",
    "        expression = pattern['expression']\n",
    "        label = pattern['label']\n",
    "        for match in re.finditer(expression, text):\n",
    "            start, end = match.span()    \n",
    "            add_key = True\n",
    "            if start-1 >= 0 and text[start-1]!=' ':\n",
    "                add_key = False\n",
    "            if end < len(text) and text[end]!=' ':\n",
    "                add_key = False                \n",
    "                \n",
    "#             drop_keys = []\n",
    "#             for key, value in entities.items():\n",
    "#                 start_, end_ = key\n",
    "#                 if start<start_ and end>end_:\n",
    "#                     drop_keys.append(key)\n",
    "#                 if start>start_ and end<end_:\n",
    "#                     add_key = False\n",
    "#             for key in drop_keys:\n",
    "#                 entities.pop(key)\n",
    "\n",
    "            if add_key: \n",
    "#                 print(text, expression)\n",
    "                pattern_matchs[expression] = pattern_matchs[expression] + 1\n",
    "                entities[(start, end)] = (start, end, label)\n",
    "        return entities\n",
    "        \n",
    "    examples = []\n",
    "    pattern_matchs = {pattern['expression']:0 for pattern in patterns}\n",
    "    for text in texts:\n",
    "        entities = entity_from_patterns(text, patterns, pattern_matchs)        \n",
    "        example = (text, {\"entities\": entities})\n",
    "        examples.append(example)\n",
    "    pattern_matchs = [(key, value) for key, value in sorted(pattern_matchs.items(), key=lambda item: -item[1])]\n",
    "#     pattern_matchs = [(key, value) for key, value in pattern_matchs if value>0]\n",
    "        \n",
    "    return examples, pattern_matchs"
   ]
  },
  {
   "cell_type": "markdown",
   "id": "8136ab3c",
   "metadata": {},
   "source": [
    "see some sample data."
   ]
  },
  {
   "cell_type": "code",
   "execution_count": 183,
   "id": "79f3cc6f",
   "metadata": {
    "ExecuteTime": {
     "end_time": "2021-08-25T06:31:29.090416Z",
     "start_time": "2021-08-25T06:31:29.067484Z"
    },
    "scrolled": false
   },
   "outputs": [
    {
     "name": "stdout",
     "output_type": "stream",
     "text": [
      "--------------------------------------------------\n",
      "please create a revisit for wednesday . #normal please order part # l51580-001 and l31365-001 to concord , california hal setting up time to meet with customer . \n",
      "('l51580-001', 68, 78, 'PART_NUM')\n",
      "('l31365-001', 83, 93, 'PART_NUM')\n",
      "--------------------------------------------------\n",
      "please order battery 933321-855 ship to ups hold for pickup , tuscany way , austin . . please reassign to rob silcocks\n",
      "('933321-855', 21, 31, 'PART_NUM')\n",
      "--------------------------------------------------\n",
      "per l2 please order: 2yb64-67005 , 2yb64-67003 xl3600 , 6kd23-67021 xl3600 , 6kd23-67030 , and two 2yb64-67002\n",
      "('2yb64-67005', 21, 32, 'PART_NUM')\n",
      "('2yb64-67003', 35, 46, 'PART_NUM')\n",
      "('6kd23-67021', 56, 67, 'PART_NUM')\n",
      "('6kd23-67030', 77, 88, 'PART_NUM')\n",
      "('2yb64-67002', 99, 110, 'PART_NUM')\n",
      "--------------------------------------------------\n",
      "please create a revisite for 7-16-2021 at 1300 order part number q5669-60687 please order 2 q6683-67001 t8w18-67001 ship to el paso texas for hfpu\n",
      "('q5669-60687', 65, 76, 'PART_NUM')\n",
      "('q6683-67001', 92, 103, 'PART_NUM')\n",
      "('t8w18-67001', 104, 115, 'PART_NUM')\n",
      "--------------------------------------------------\n",
      "please create a revisite for 7-23-2021 for printheads replacement . customer will order\n",
      "\n",
      "==================================================\n",
      "('\\\\d[a-zA-Z][a-zA-Z]\\\\d\\\\d-\\\\d\\\\d\\\\d\\\\d\\\\d', 5)\n",
      "('[a-zA-Z]\\\\d\\\\d\\\\d\\\\d\\\\d-\\\\d\\\\d\\\\d', 2)\n",
      "('[a-zA-Z]\\\\d\\\\d\\\\d\\\\d-\\\\d\\\\d\\\\d\\\\d\\\\d', 2)\n",
      "('\\\\d\\\\d\\\\d\\\\d\\\\d\\\\d-\\\\d\\\\d\\\\d', 1)\n",
      "('[a-zA-Z]\\\\d[a-zA-Z]\\\\d\\\\d-\\\\d\\\\d\\\\d\\\\d\\\\d', 1)\n",
      "('[a-zA-Z]\\\\d\\\\d\\\\d\\\\d\\\\d-[a-zA-Z]\\\\d\\\\d', 0)\n",
      "('\\\\d\\\\d\\\\d\\\\d\\\\d\\\\d-[a-zA-Z][a-zA-Z]\\\\d', 0)\n",
      "('\\\\d\\\\d\\\\d\\\\d\\\\d\\\\d-\\\\d[a-zA-Z]\\\\d', 0)\n",
      "('\\\\d\\\\d\\\\d\\\\d\\\\d\\\\d-[a-zA-Z][a-zA-Z][a-zA-Z]', 0)\n",
      "('[a-zA-Z]\\\\d\\\\d\\\\d\\\\d\\\\d-[a-zA-Z][a-zA-Z]\\\\d', 0)\n",
      "('\\\\d\\\\d\\\\d\\\\d\\\\d\\\\d-[a-zA-Z]\\\\d\\\\d', 0)\n",
      "('[a-zA-Z][a-zA-Z]-\\\\d\\\\d\\\\d\\\\d\\\\d-\\\\d\\\\d', 0)\n",
      "('[a-zA-Z][a-zA-Z]\\\\d-\\\\d\\\\d\\\\d\\\\d-\\\\d\\\\d\\\\d[a-zA-Z][a-zA-Z]', 0)\n",
      "('\\\\d\\\\d\\\\d\\\\d-\\\\d\\\\d\\\\d\\\\d', 0)\n",
      "('\\\\d\\\\d\\\\d\\\\d-\\\\d\\\\d\\\\d\\\\d-\\\\d', 0)\n",
      "('\\\\d\\\\d\\\\d\\\\d\\\\d-\\\\d\\\\d\\\\d\\\\d\\\\d', 0)\n",
      "('\\\\d\\\\d\\\\d\\\\d\\\\d\\\\d-\\\\d\\\\d\\\\d[a-zA-Z]', 0)\n",
      "('[a-zA-Z][a-zA-Z]\\\\d\\\\d\\\\d-\\\\d\\\\d\\\\d\\\\d\\\\d', 0)\n",
      "('[a-zA-Z][a-zA-Z]\\\\d-\\\\d\\\\d\\\\d\\\\d[a-zA-Z][a-zA-Z][a-zA-Z][a-zA-Z]', 0)\n",
      "('\\\\d-\\\\d\\\\d\\\\d-\\\\d\\\\d\\\\d-\\\\d\\\\d', 0)\n",
      "('[a-zA-Z]-\\\\d\\\\d\\\\d\\\\d-\\\\d\\\\d\\\\d-\\\\d', 0)\n",
      "('[a-zA-Z][a-zA-Z][a-zA-Z][a-zA-Z]\\\\d\\\\d\\\\d\\\\d-[a-zA-Z]\\\\d\\\\d', 0)\n",
      "('\\\\d\\\\d\\\\d\\\\d-\\\\d\\\\d\\\\d-\\\\d\\\\d\\\\d\\\\d\\\\d', 0)\n",
      "('\\\\d\\\\d-\\\\d\\\\d\\\\d\\\\d[a-zA-Z]-\\\\d\\\\d[a-zA-Z]', 0)\n",
      "('\\\\d\\\\d-\\\\d\\\\d\\\\d\\\\d\\\\d-\\\\d\\\\d\\\\d', 0)\n",
      "('[a-zA-Z][a-zA-Z][a-zA-Z]\\\\d\\\\d\\\\d\\\\d\\\\d-\\\\d\\\\d\\\\d\\\\d\\\\d', 0)\n",
      "('\\\\d\\\\d\\\\d\\\\d\\\\d-\\\\d\\\\d\\\\d\\\\d\\\\d-[a-zA-Z][a-zA-Z]', 0)\n",
      "('\\\\d\\\\d\\\\d-\\\\d\\\\d\\\\d\\\\d\\\\d\\\\d[a-zA-Z][a-zA-Z]', 0)\n",
      "('\\\\d\\\\d\\\\d-\\\\d\\\\d\\\\d-\\\\d\\\\d', 0)\n",
      "('\\\\d[a-zA-Z][a-zA-Z]\\\\d-\\\\d\\\\d\\\\d\\\\d', 0)\n",
      "('\\\\d\\\\d\\\\d\\\\d-\\\\d\\\\d\\\\d\\\\d-[a-zA-Z][a-zA-Z][a-zA-Z][a-zA-Z]', 0)\n",
      "('\\\\d\\\\d\\\\d\\\\d-\\\\d\\\\d\\\\d\\\\d[a-zA-Z]', 0)\n",
      "('\\\\d\\\\d\\\\d\\\\d-\\\\d\\\\d\\\\d\\\\d-[a-zA-Z][a-zA-Z][a-zA-Z]', 0)\n",
      "('\\\\d\\\\d\\\\d\\\\d\\\\d\\\\d[a-zA-Z]-\\\\d\\\\d\\\\d', 0)\n",
      "('[a-zA-Z][a-zA-Z]\\\\d\\\\d[a-zA-Z]-[a-zA-Z]\\\\d', 0)\n",
      "('\\\\d\\\\d-\\\\d\\\\d\\\\d\\\\d\\\\d-\\\\d\\\\d', 0)\n",
      "('[a-zA-Z][a-zA-Z][a-zA-Z]-\\\\d[a-zA-Z]\\\\d\\\\d\\\\d', 0)\n",
      "('[a-zA-Z][a-zA-Z][a-zA-Z]-\\\\d\\\\d[a-zA-Z]\\\\d\\\\d\\\\d\\\\d', 0)\n",
      "('[a-zA-Z][a-zA-Z][a-zA-Z]-\\\\d\\\\d[a-zA-Z]\\\\d\\\\d\\\\d\\\\d[a-zA-Z]', 0)\n",
      "('[a-zA-Z][a-zA-Z][a-zA-Z]-\\\\d\\\\d\\\\d\\\\d\\\\d\\\\d\\\\d\\\\d\\\\d\\\\d', 0)\n",
      "('[a-zA-Z][a-zA-Z][a-zA-Z]-\\\\d\\\\d\\\\d\\\\d[a-zA-Z][a-zA-Z]\\\\d\\\\d', 0)\n",
      "('[a-zA-Z][a-zA-Z][a-zA-Z]-\\\\d\\\\d\\\\d[a-zA-Z]\\\\d\\\\d\\\\d\\\\d\\\\d', 0)\n",
      "('[a-zA-Z][a-zA-Z][a-zA-Z]-[a-zA-Z][a-zA-Z]\\\\d\\\\d\\\\d[a-zA-Z][a-zA-Z]', 0)\n",
      "('[a-zA-Z][a-zA-Z][a-zA-Z]-\\\\d\\\\d\\\\d-\\\\d\\\\d\\\\d\\\\d', 0)\n",
      "('[a-zA-Z][a-zA-Z][a-zA-Z]-[a-zA-Z][a-zA-Z]\\\\d\\\\d\\\\d', 0)\n",
      "('[a-zA-Z][a-zA-Z][a-zA-Z]-\\\\d\\\\d\\\\d\\\\d[a-zA-Z]\\\\d\\\\d[a-zA-Z][a-zA-Z]\\\\d', 0)\n",
      "('[a-zA-Z][a-zA-Z]\\\\d\\\\d-[a-zA-Z][a-zA-Z]', 0)\n",
      "('[a-zA-Z][a-zA-Z][a-zA-Z]-[a-zA-Z][a-zA-Z]-\\\\d\\\\d\\\\d[a-zA-Z]', 0)\n",
      "('[a-zA-Z][a-zA-Z][a-zA-Z]-[a-zA-Z]\\\\d\\\\d[a-zA-Z][a-zA-Z]\\\\d\\\\d[a-zA-Z]\\\\d\\\\d\\\\d\\\\d', 0)\n",
      "('[a-zA-Z][a-zA-Z][a-zA-Z]-[a-zA-Z]\\\\d\\\\d\\\\d\\\\d\\\\d\\\\d[a-zA-Z]', 0)\n",
      "('[a-zA-Z][a-zA-Z][a-zA-Z]-[a-zA-Z][a-zA-Z][a-zA-Z][a-zA-Z]-\\\\d\\\\d\\\\d[a-zA-Z]', 0)\n",
      "('[a-zA-Z][a-zA-Z][a-zA-Z]-\\\\d\\\\d\\\\d\\\\d\\\\d[a-zA-Z][a-zA-Z]', 0)\n",
      "('[a-zA-Z][a-zA-Z][a-zA-Z]-\\\\d\\\\d[a-zA-Z]\\\\d[a-zA-Z]\\\\d\\\\d', 0)\n",
      "('[a-zA-Z][a-zA-Z][a-zA-Z]-\\\\d\\\\d[a-zA-Z]\\\\d[a-zA-Z][a-zA-Z]\\\\d', 0)\n",
      "('[a-zA-Z][a-zA-Z][a-zA-Z]-\\\\d\\\\d\\\\d[a-zA-Z][a-zA-Z]', 0)\n",
      "('[a-zA-Z][a-zA-Z][a-zA-Z]-[a-zA-Z]\\\\d\\\\d\\\\d\\\\d[a-zA-Z][a-zA-Z][a-zA-Z]', 0)\n",
      "('[a-zA-Z][a-zA-Z][a-zA-Z]-\\\\d\\\\d-\\\\d\\\\d\\\\d\\\\d\\\\d-\\\\d\\\\d\\\\d', 0)\n",
      "('[a-zA-Z][a-zA-Z][a-zA-Z]-[a-zA-Z]\\\\d\\\\d\\\\d[a-zA-Z]\\\\d[a-zA-Z][a-zA-Z]', 0)\n",
      "('[a-zA-Z][a-zA-Z][a-zA-Z]-\\\\d\\\\d\\\\d\\\\d\\\\d\\\\d-\\\\d\\\\d\\\\d', 0)\n",
      "('[a-zA-Z][a-zA-Z][a-zA-Z]-[a-zA-Z]-\\\\d\\\\d\\\\d', 0)\n",
      "('[a-zA-Z][a-zA-Z][a-zA-Z]-[a-zA-Z]\\\\d\\\\d\\\\d[a-zA-Z]\\\\d\\\\d[a-zA-Z]-[a-zA-Z]', 0)\n",
      "('[a-zA-Z][a-zA-Z][a-zA-Z]-[a-zA-Z]\\\\d\\\\d\\\\d\\\\d\\\\d\\\\d\\\\d', 0)\n",
      "('[a-zA-Z][a-zA-Z][a-zA-Z]-[a-zA-Z][a-zA-Z]\\\\d\\\\d\\\\d\\\\d[a-zA-Z][a-zA-Z]\\\\d\\\\d\\\\d', 0)\n",
      "('[a-zA-Z][a-zA-Z][a-zA-Z]-\\\\d\\\\d[a-zA-Z]\\\\d\\\\d\\\\d\\\\d-[a-zA-Z][a-zA-Z]', 0)\n",
      "('[a-zA-Z][a-zA-Z][a-zA-Z]-[a-zA-Z][a-zA-Z]\\\\d\\\\d\\\\d[a-zA-Z]', 0)\n",
      "('[a-zA-Z][a-zA-Z][a-zA-Z]-\\\\d\\\\d\\\\d\\\\d\\\\d\\\\d', 0)\n",
      "('[a-zA-Z][a-zA-Z][a-zA-Z]-[a-zA-Z][a-zA-Z][a-zA-Z][a-zA-Z][a-zA-Z]\\\\d\\\\d\\\\d[a-zA-Z][a-zA-Z]', 0)\n",
      "('[a-zA-Z][a-zA-Z][a-zA-Z]-\\\\d[a-zA-Z][a-zA-Z]\\\\d\\\\d\\\\d\\\\d\\\\d\\\\d\\\\d', 0)\n",
      "('[a-zA-Z][a-zA-Z][a-zA-Z]-\\\\d\\\\d\\\\d\\\\d\\\\d\\\\d\\\\d\\\\d\\\\d', 0)\n",
      "('[a-zA-Z][a-zA-Z][a-zA-Z]-\\\\d\\\\d\\\\d\\\\d[a-zA-Z][a-zA-Z][a-zA-Z]-\\\\d\\\\d\\\\d', 0)\n",
      "('[a-zA-Z][a-zA-Z][a-zA-Z]-[a-zA-Z][a-zA-Z]\\\\d\\\\d\\\\d[a-zA-Z]-[a-zA-Z]', 0)\n",
      "('[a-zA-Z][a-zA-Z][a-zA-Z]-[a-zA-Z]\\\\d\\\\d\\\\d-\\\\d\\\\d\\\\d\\\\d\\\\d\\\\d', 0)\n",
      "('[a-zA-Z][a-zA-Z][a-zA-Z]-\\\\d[a-zA-Z][a-zA-Z]\\\\d[a-zA-Z]', 0)\n",
      "('[a-zA-Z][a-zA-Z][a-zA-Z]-[a-zA-Z][a-zA-Z]\\\\d\\\\d-\\\\d\\\\d\\\\d\\\\d\\\\d[a-zA-Z]', 0)\n",
      "('[a-zA-Z][a-zA-Z][a-zA-Z]-[a-zA-Z][a-zA-Z][a-zA-Z]\\\\d', 0)\n",
      "('[a-zA-Z][a-zA-Z][a-zA-Z]-\\\\d\\\\d\\\\d\\\\d-\\\\d\\\\d\\\\d', 0)\n",
      "('[a-zA-Z][a-zA-Z][a-zA-Z]-[a-zA-Z]\\\\d[a-zA-Z][a-zA-Z][a-zA-Z][a-zA-Z][a-zA-Z][a-zA-Z][a-zA-Z]', 0)\n",
      "('[a-zA-Z][a-zA-Z][a-zA-Z]-\\\\d\\\\d\\\\d\\\\d\\\\d\\\\d\\\\d\\\\d', 0)\n",
      "('[a-zA-Z][a-zA-Z][a-zA-Z]-\\\\d\\\\d\\\\d\\\\d\\\\d-\\\\d\\\\d-[a-zA-Z]', 0)\n",
      "('[a-zA-Z][a-zA-Z][a-zA-Z]-[a-zA-Z][a-zA-Z][a-zA-Z]\\\\d\\\\d\\\\d[a-zA-Z]', 0)\n",
      "('[a-zA-Z][a-zA-Z][a-zA-Z]-\\\\d\\\\d\\\\d\\\\d[a-zA-Z][a-zA-Z]\\\\d[a-zA-Z][a-zA-Z]\\\\d', 0)\n",
      "('[a-zA-Z][a-zA-Z][a-zA-Z]-[a-zA-Z][a-zA-Z][a-zA-Z]\\\\d\\\\d\\\\d\\\\d[a-zA-Z][a-zA-Z]\\\\d[a-zA-Z]', 0)\n",
      "('[a-zA-Z][a-zA-Z][a-zA-Z]-\\\\d\\\\d\\\\d[a-zA-Z][a-zA-Z]\\\\d\\\\d\\\\d\\\\d\\\\d', 0)\n",
      "('[a-zA-Z][a-zA-Z][a-zA-Z]-[a-zA-Z][a-zA-Z]\\\\d\\\\d\\\\d-\\\\d\\\\d\\\\d\\\\d\\\\d', 0)\n",
      "('[a-zA-Z][a-zA-Z][a-zA-Z]-\\\\d[a-zA-Z]\\\\d\\\\d[a-zA-Z][a-zA-Z]\\\\d[a-zA-Z][a-zA-Z]\\\\d', 0)\n",
      "('\\\\d\\\\d\\\\d-[a-zA-Z]\\\\d[a-zA-Z][a-zA-Z]\\\\d', 0)\n",
      "('[a-zA-Z][a-zA-Z][a-zA-Z]-[a-zA-Z][a-zA-Z]\\\\d\\\\d\\\\d\\\\d\\\\d\\\\d', 0)\n",
      "('[a-zA-Z][a-zA-Z][a-zA-Z]-\\\\d\\\\d[a-zA-Z]\\\\d\\\\d\\\\d\\\\d\\\\d', 0)\n",
      "('[a-zA-Z][a-zA-Z][a-zA-Z]-[a-zA-Z][a-zA-Z]\\\\d\\\\d\\\\d\\\\d\\\\d\\\\d\\\\d', 0)\n",
      "('[a-zA-Z][a-zA-Z][a-zA-Z]-[a-zA-Z]\\\\d\\\\d[a-zA-Z][a-zA-Z]\\\\d\\\\d\\\\d\\\\d\\\\d', 0)\n",
      "('[a-zA-Z][a-zA-Z][a-zA-Z]-\\\\d\\\\d\\\\d[a-zA-Z]\\\\d\\\\d\\\\d\\\\d\\\\d\\\\d', 0)\n",
      "('[a-zA-Z][a-zA-Z][a-zA-Z]-[a-zA-Z][a-zA-Z][a-zA-Z]\\\\d\\\\d\\\\d\\\\d\\\\d\\\\d', 0)\n",
      "('[a-zA-Z][a-zA-Z][a-zA-Z]-[a-zA-Z][a-zA-Z]\\\\d\\\\d\\\\d[a-zA-Z][a-zA-Z][a-zA-Z]', 0)\n",
      "('\\\\d[a-zA-Z]-[a-zA-Z][a-zA-Z]\\\\d\\\\d\\\\d-[a-zA-Z]\\\\d', 0)\n",
      "('\\\\d[a-zA-Z]\\\\d-\\\\d\\\\d\\\\d\\\\d-\\\\d\\\\d\\\\d[a-zA-Z][a-zA-Z]', 0)\n",
      "('[a-zA-Z]\\\\d\\\\d\\\\d\\\\d-\\\\d\\\\d\\\\d\\\\d\\\\d[a-zA-Z][a-zA-Z][a-zA-Z][a-zA-Z]', 0)\n",
      "('[a-zA-Z][a-zA-Z][a-zA-Z]-[a-zA-Z][a-zA-Z][a-zA-Z]\\\\d[a-zA-Z][a-zA-Z][a-zA-Z]\\\\d\\\\d\\\\d', 0)\n",
      "('[a-zA-Z][a-zA-Z][a-zA-Z]-[a-zA-Z]\\\\d\\\\d\\\\d\\\\d\\\\d\\\\d\\\\d\\\\d\\\\d', 0)\n",
      "('[a-zA-Z][a-zA-Z]\\\\d\\\\d-\\\\d\\\\d\\\\d\\\\d\\\\d[a-zA-Z]', 0)\n",
      "('[a-zA-Z][a-zA-Z][a-zA-Z]-\\\\d\\\\d\\\\d\\\\d[a-zA-Z][a-zA-Z][a-zA-Z]', 0)\n",
      "('[a-zA-Z][a-zA-Z][a-zA-Z]-\\\\d\\\\d\\\\d\\\\d[a-zA-Z][a-zA-Z][a-zA-Z]-[a-zA-Z]', 0)\n",
      "('[a-zA-Z][a-zA-Z][a-zA-Z]-\\\\d\\\\d\\\\d\\\\d[a-zA-Z][a-zA-Z]', 0)\n",
      "('[a-zA-Z][a-zA-Z][a-zA-Z]-\\\\d\\\\d\\\\d\\\\d-[a-zA-Z]\\\\d', 0)\n",
      "('[a-zA-Z][a-zA-Z][a-zA-Z]-[a-zA-Z]\\\\d\\\\d\\\\d-[a-zA-Z]\\\\d', 0)\n",
      "('[a-zA-Z][a-zA-Z][a-zA-Z]-[a-zA-Z]\\\\d\\\\d\\\\d[a-zA-Z]', 0)\n",
      "('[a-zA-Z][a-zA-Z][a-zA-Z]-[a-zA-Z]\\\\d\\\\d\\\\d[a-zA-Z]\\\\d\\\\d[a-zA-Z]', 0)\n",
      "('[a-zA-Z][a-zA-Z][a-zA-Z]-[a-zA-Z][a-zA-Z][a-zA-Z][a-zA-Z][a-zA-Z]\\\\d\\\\d\\\\d\\\\d[a-zA-Z]', 0)\n",
      "('[a-zA-Z][a-zA-Z][a-zA-Z][a-zA-Z][a-zA-Z][a-zA-Z][a-zA-Z]-\\\\d\\\\d\\\\d\\\\d[a-zA-Z][a-zA-Z]\\\\d\\\\d', 0)\n",
      "('[a-zA-Z][a-zA-Z][a-zA-Z]-\\\\d\\\\d\\\\d-\\\\d\\\\d\\\\d\\\\d-\\\\d', 0)\n",
      "('\\\\d\\\\d-\\\\d\\\\d\\\\d\\\\d', 0)\n",
      "('[a-zA-Z]\\\\d\\\\d\\\\d\\\\d-\\\\d\\\\d\\\\d\\\\d\\\\d-[a-zA-Z][a-zA-Z][a-zA-Z]', 0)\n",
      "('[a-zA-Z]\\\\d\\\\d\\\\d[a-zA-Z][a-zA-Z]\\\\d\\\\d[a-zA-Z]-\\\\d\\\\d\\\\d\\\\d\\\\d', 0)\n",
      "('\\\\d\\\\d[a-zA-Z][a-zA-Z]-\\\\d\\\\d\\\\d\\\\d\\\\d[a-zA-Z][a-zA-Z]', 0)\n",
      "('[a-zA-Z][a-zA-Z]\\\\d-\\\\d\\\\d\\\\d\\\\d-[a-zA-Z][a-zA-Z][a-zA-Z][a-zA-Z]', 0)\n",
      "('[a-zA-Z][a-zA-Z]\\\\d\\\\d\\\\d-\\\\d\\\\d\\\\d\\\\d\\\\d-[a-zA-Z][a-zA-Z]', 0)\n",
      "('[a-zA-Z][a-zA-Z][a-zA-Z][a-zA-Z][a-zA-Z][a-zA-Z][a-zA-Z]-\\\\d\\\\d\\\\d\\\\d[a-zA-Z][a-zA-Z][a-zA-Z][a-zA-Z]', 0)\n",
      "('[a-zA-Z][a-zA-Z][a-zA-Z][a-zA-Z][a-zA-Z][a-zA-Z][a-zA-Z]-\\\\d\\\\d\\\\d\\\\d[a-zA-Z][a-zA-Z][a-zA-Z]\\\\d', 0)\n",
      "('\\\\d\\\\d\\\\d-\\\\d\\\\d-\\\\d\\\\d-\\\\d\\\\d\\\\d', 0)\n",
      "('\\\\d\\\\d\\\\d\\\\d\\\\d\\\\d\\\\d\\\\d\\\\d-\\\\d\\\\d', 0)\n",
      "('[a-zA-Z][a-zA-Z][a-zA-Z][a-zA-Z][a-zA-Z][a-zA-Z][a-zA-Z][a-zA-Z]\\\\d\\\\d\\\\d[a-zA-Z]\\\\d[a-zA-Z]-\\\\d', 0)\n",
      "('[a-zA-Z][a-zA-Z][a-zA-Z][a-zA-Z][a-zA-Z][a-zA-Z][a-zA-Z][a-zA-Z][a-zA-Z]\\\\d\\\\d[a-zA-Z]\\\\d\\\\d-\\\\d', 0)\n",
      "('[a-zA-Z][a-zA-Z][a-zA-Z][a-zA-Z]-[a-zA-Z][a-zA-Z]\\\\d\\\\d\\\\d\\\\d[a-zA-Z][a-zA-Z][a-zA-Z][a-zA-Z]', 0)\n",
      "('[a-zA-Z][a-zA-Z][a-zA-Z][a-zA-Z][a-zA-Z][a-zA-Z]-[a-zA-Z]\\\\d\\\\d\\\\d\\\\d[a-zA-Z][a-zA-Z][a-zA-Z][a-zA-Z]', 0)\n",
      "('[a-zA-Z][a-zA-Z][a-zA-Z][a-zA-Z][a-zA-Z][a-zA-Z][a-zA-Z][a-zA-Z]\\\\d[a-zA-Z]\\\\d\\\\d[a-zA-Z][a-zA-Z]-\\\\d', 0)\n",
      "('[a-zA-Z][a-zA-Z][a-zA-Z][a-zA-Z][a-zA-Z]-[a-zA-Z][a-zA-Z]\\\\d\\\\d\\\\d\\\\d[a-zA-Z][a-zA-Z][a-zA-Z][a-zA-Z]', 0)\n",
      "('\\\\d\\\\d\\\\d-\\\\d\\\\d\\\\d\\\\d\\\\d\\\\d', 0)\n",
      "('[a-zA-Z][a-zA-Z][a-zA-Z][a-zA-Z][a-zA-Z][a-zA-Z][a-zA-Z][a-zA-Z]\\\\d[a-zA-Z]\\\\d\\\\d[a-zA-Z]\\\\d-\\\\d\\\\d', 0)\n",
      "('[a-zA-Z]\\\\d\\\\d-\\\\d\\\\d\\\\d\\\\d', 0)\n",
      "('\\\\d\\\\d\\\\d\\\\d\\\\d\\\\d\\\\d\\\\d\\\\d-\\\\d', 0)\n",
      "('[a-zA-Z]\\\\d-[a-zA-Z][a-zA-Z][a-zA-Z][a-zA-Z][a-zA-Z]-\\\\d\\\\d', 0)\n",
      "('[a-zA-Z][a-zA-Z]\\\\d-\\\\d\\\\d\\\\d\\\\d-\\\\d\\\\d\\\\d-[a-zA-Z][a-zA-Z]', 0)\n",
      "('[a-zA-Z]\\\\d[a-zA-Z]\\\\d\\\\d-\\\\d\\\\d\\\\d\\\\d\\\\d-[a-zA-Z][a-zA-Z]', 0)\n",
      "('[a-zA-Z][a-zA-Z]\\\\d\\\\d\\\\d\\\\d\\\\d-[a-zA-Z]\\\\d\\\\d\\\\d[a-zA-Z][a-zA-Z]', 0)\n",
      "('[a-zA-Z][a-zA-Z]\\\\d\\\\d\\\\d-\\\\d\\\\d\\\\d\\\\d\\\\d-[a-zA-Z][a-zA-Z][a-zA-Z][a-zA-Z]', 0)\n",
      "('[a-zA-Z][a-zA-Z]\\\\d\\\\d-[a-zA-Z]\\\\d', 0)\n",
      "('[a-zA-Z][a-zA-Z][a-zA-Z][a-zA-Z][a-zA-Z][a-zA-Z]-[a-zA-Z]\\\\d\\\\d\\\\d\\\\d[a-zA-Z][a-zA-Z][a-zA-Z]', 0)\n",
      "('[a-zA-Z][a-zA-Z]\\\\d\\\\d[a-zA-Z]-[a-zA-Z][a-zA-Z]', 0)\n",
      "('[a-zA-Z][a-zA-Z][a-zA-Z][a-zA-Z][a-zA-Z][a-zA-Z]-\\\\d\\\\d\\\\d\\\\d[a-zA-Z][a-zA-Z][a-zA-Z][a-zA-Z]', 0)\n"
     ]
    }
   ],
   "source": [
    "def show_entity_label(text_entities, pattern_matchs):\n",
    "    for example in text_entities:\n",
    "        print('-'*50)\n",
    "        text, annotations = example\n",
    "        print(text) \n",
    "        print(*[(text[start:end], start, end, label) for start, end, label in annotations['entities']], sep='\\n')\n",
    "    print('='*50)\n",
    "    print(*pattern_matchs, sep='\\n')\n",
    "    \n",
    "texts = [standardize_text1(note) for note in df_sample.notes]  \n",
    "sample_text_entities, sample_pattern_matchs = generate_label(texts, patterns=patterns)\n",
    "show_entity_label(sample_text_entities, sample_pattern_matchs)"
   ]
  },
  {
   "cell_type": "code",
   "execution_count": 184,
   "id": "bc11ea82",
   "metadata": {
    "ExecuteTime": {
     "end_time": "2021-08-25T06:32:06.355884Z",
     "start_time": "2021-08-25T06:32:01.709674Z"
    }
   },
   "outputs": [
    {
     "name": "stdout",
     "output_type": "stream",
     "text": [
      "6110\n",
      "('[a-zA-Z]\\\\d[a-zA-Z]\\\\d\\\\d-\\\\d\\\\d\\\\d\\\\d\\\\d', 1089)\n",
      "('[a-zA-Z][a-zA-Z]\\\\d-\\\\d\\\\d\\\\d\\\\d-\\\\d\\\\d\\\\d[a-zA-Z][a-zA-Z]', 643)\n",
      "('[a-zA-Z]\\\\d\\\\d\\\\d\\\\d\\\\d-\\\\d\\\\d\\\\d', 547)\n",
      "('[a-zA-Z][a-zA-Z]\\\\d\\\\d\\\\d-\\\\d\\\\d\\\\d\\\\d\\\\d', 483)\n",
      "('\\\\d\\\\d\\\\d\\\\d\\\\d\\\\d-\\\\d\\\\d\\\\d', 400)\n",
      "('[a-zA-Z][a-zA-Z]\\\\d\\\\d-\\\\d\\\\d\\\\d\\\\d\\\\d[a-zA-Z]', 271)\n",
      "('[a-zA-Z][a-zA-Z][a-zA-Z]-\\\\d\\\\d[a-zA-Z]\\\\d\\\\d\\\\d\\\\d', 199)\n",
      "('[a-zA-Z]\\\\d\\\\d\\\\d\\\\d-\\\\d\\\\d\\\\d\\\\d\\\\d', 122)\n",
      "('\\\\d\\\\d\\\\d\\\\d-\\\\d\\\\d\\\\d\\\\d', 83)\n",
      "('\\\\d[a-zA-Z][a-zA-Z]\\\\d\\\\d-\\\\d\\\\d\\\\d\\\\d\\\\d', 39)\n",
      "('[a-zA-Z][a-zA-Z][a-zA-Z]-\\\\d\\\\d[a-zA-Z]\\\\d[a-zA-Z]\\\\d\\\\d', 23)\n",
      "('[a-zA-Z][a-zA-Z][a-zA-Z]-[a-zA-Z]\\\\d\\\\d\\\\d[a-zA-Z]\\\\d\\\\d[a-zA-Z]', 21)\n",
      "('[a-zA-Z][a-zA-Z][a-zA-Z]-\\\\d\\\\d\\\\d[a-zA-Z][a-zA-Z]\\\\d\\\\d\\\\d\\\\d\\\\d', 7)\n",
      "('\\\\d\\\\d-\\\\d\\\\d\\\\d\\\\d\\\\d-\\\\d\\\\d\\\\d', 5)\n",
      "('[a-zA-Z][a-zA-Z][a-zA-Z]-\\\\d\\\\d[a-zA-Z]\\\\d[a-zA-Z][a-zA-Z]\\\\d', 5)\n",
      "('[a-zA-Z][a-zA-Z][a-zA-Z]-[a-zA-Z][a-zA-Z]\\\\d\\\\d-\\\\d\\\\d\\\\d\\\\d\\\\d[a-zA-Z]', 5)\n",
      "('[a-zA-Z]\\\\d\\\\d\\\\d\\\\d\\\\d-[a-zA-Z][a-zA-Z]\\\\d', 3)\n",
      "('[a-zA-Z][a-zA-Z][a-zA-Z]-\\\\d\\\\d\\\\d[a-zA-Z]\\\\d\\\\d\\\\d\\\\d\\\\d\\\\d', 3)\n",
      "('[a-zA-Z][a-zA-Z]-\\\\d\\\\d\\\\d\\\\d\\\\d-\\\\d\\\\d', 2)\n",
      "('[a-zA-Z][a-zA-Z][a-zA-Z]-\\\\d\\\\d\\\\d\\\\d[a-zA-Z][a-zA-Z]\\\\d[a-zA-Z][a-zA-Z]\\\\d', 2)\n",
      "('[a-zA-Z][a-zA-Z][a-zA-Z]-\\\\d\\\\d[a-zA-Z]\\\\d\\\\d\\\\d\\\\d\\\\d', 2)\n",
      "('[a-zA-Z][a-zA-Z][a-zA-Z]-\\\\d\\\\d[a-zA-Z]\\\\d\\\\d\\\\d\\\\d[a-zA-Z]', 1)\n",
      "('\\\\d[a-zA-Z]\\\\d-\\\\d\\\\d\\\\d\\\\d-\\\\d\\\\d\\\\d[a-zA-Z][a-zA-Z]', 1)\n",
      "('[a-zA-Z]\\\\d\\\\d\\\\d\\\\d\\\\d-[a-zA-Z]\\\\d\\\\d', 0)\n",
      "('\\\\d\\\\d\\\\d\\\\d\\\\d\\\\d-[a-zA-Z][a-zA-Z]\\\\d', 0)\n",
      "('\\\\d\\\\d\\\\d\\\\d\\\\d\\\\d-\\\\d[a-zA-Z]\\\\d', 0)\n",
      "('\\\\d\\\\d\\\\d\\\\d\\\\d\\\\d-[a-zA-Z][a-zA-Z][a-zA-Z]', 0)\n",
      "('\\\\d\\\\d\\\\d\\\\d\\\\d\\\\d-[a-zA-Z]\\\\d\\\\d', 0)\n",
      "('\\\\d\\\\d\\\\d\\\\d-\\\\d\\\\d\\\\d\\\\d-\\\\d', 0)\n",
      "('\\\\d\\\\d\\\\d\\\\d\\\\d-\\\\d\\\\d\\\\d\\\\d\\\\d', 0)\n",
      "('\\\\d\\\\d\\\\d\\\\d\\\\d\\\\d-\\\\d\\\\d\\\\d[a-zA-Z]', 0)\n",
      "('[a-zA-Z][a-zA-Z]\\\\d-\\\\d\\\\d\\\\d\\\\d[a-zA-Z][a-zA-Z][a-zA-Z][a-zA-Z]', 0)\n",
      "('\\\\d-\\\\d\\\\d\\\\d-\\\\d\\\\d\\\\d-\\\\d\\\\d', 0)\n",
      "('[a-zA-Z]-\\\\d\\\\d\\\\d\\\\d-\\\\d\\\\d\\\\d-\\\\d', 0)\n",
      "('[a-zA-Z][a-zA-Z][a-zA-Z][a-zA-Z]\\\\d\\\\d\\\\d\\\\d-[a-zA-Z]\\\\d\\\\d', 0)\n",
      "('\\\\d\\\\d\\\\d\\\\d-\\\\d\\\\d\\\\d-\\\\d\\\\d\\\\d\\\\d\\\\d', 0)\n",
      "('\\\\d\\\\d-\\\\d\\\\d\\\\d\\\\d[a-zA-Z]-\\\\d\\\\d[a-zA-Z]', 0)\n",
      "('[a-zA-Z][a-zA-Z][a-zA-Z]\\\\d\\\\d\\\\d\\\\d\\\\d-\\\\d\\\\d\\\\d\\\\d\\\\d', 0)\n",
      "('\\\\d\\\\d\\\\d\\\\d\\\\d-\\\\d\\\\d\\\\d\\\\d\\\\d-[a-zA-Z][a-zA-Z]', 0)\n",
      "('\\\\d\\\\d\\\\d-\\\\d\\\\d\\\\d\\\\d\\\\d\\\\d[a-zA-Z][a-zA-Z]', 0)\n",
      "('\\\\d\\\\d\\\\d-\\\\d\\\\d\\\\d-\\\\d\\\\d', 0)\n",
      "('\\\\d[a-zA-Z][a-zA-Z]\\\\d-\\\\d\\\\d\\\\d\\\\d', 0)\n",
      "('\\\\d\\\\d\\\\d\\\\d-\\\\d\\\\d\\\\d\\\\d-[a-zA-Z][a-zA-Z][a-zA-Z][a-zA-Z]', 0)\n",
      "('\\\\d\\\\d\\\\d\\\\d-\\\\d\\\\d\\\\d\\\\d[a-zA-Z]', 0)\n",
      "('\\\\d\\\\d\\\\d\\\\d-\\\\d\\\\d\\\\d\\\\d-[a-zA-Z][a-zA-Z][a-zA-Z]', 0)\n",
      "('\\\\d\\\\d\\\\d\\\\d\\\\d\\\\d[a-zA-Z]-\\\\d\\\\d\\\\d', 0)\n",
      "('[a-zA-Z][a-zA-Z]\\\\d\\\\d[a-zA-Z]-[a-zA-Z]\\\\d', 0)\n",
      "('\\\\d\\\\d-\\\\d\\\\d\\\\d\\\\d\\\\d-\\\\d\\\\d', 0)\n",
      "('[a-zA-Z][a-zA-Z][a-zA-Z]-\\\\d[a-zA-Z]\\\\d\\\\d\\\\d', 0)\n",
      "('[a-zA-Z][a-zA-Z][a-zA-Z]-\\\\d\\\\d\\\\d\\\\d\\\\d\\\\d\\\\d\\\\d\\\\d\\\\d', 0)\n",
      "('[a-zA-Z][a-zA-Z][a-zA-Z]-\\\\d\\\\d\\\\d\\\\d[a-zA-Z][a-zA-Z]\\\\d\\\\d', 0)\n",
      "('[a-zA-Z][a-zA-Z][a-zA-Z]-\\\\d\\\\d\\\\d[a-zA-Z]\\\\d\\\\d\\\\d\\\\d\\\\d', 0)\n",
      "('[a-zA-Z][a-zA-Z][a-zA-Z]-[a-zA-Z][a-zA-Z]\\\\d\\\\d\\\\d[a-zA-Z][a-zA-Z]', 0)\n",
      "('[a-zA-Z][a-zA-Z][a-zA-Z]-\\\\d\\\\d\\\\d-\\\\d\\\\d\\\\d\\\\d', 0)\n",
      "('[a-zA-Z][a-zA-Z][a-zA-Z]-[a-zA-Z][a-zA-Z]\\\\d\\\\d\\\\d', 0)\n",
      "('[a-zA-Z][a-zA-Z][a-zA-Z]-\\\\d\\\\d\\\\d\\\\d[a-zA-Z]\\\\d\\\\d[a-zA-Z][a-zA-Z]\\\\d', 0)\n",
      "('[a-zA-Z][a-zA-Z]\\\\d\\\\d-[a-zA-Z][a-zA-Z]', 0)\n",
      "('[a-zA-Z][a-zA-Z][a-zA-Z]-[a-zA-Z][a-zA-Z]-\\\\d\\\\d\\\\d[a-zA-Z]', 0)\n",
      "('[a-zA-Z][a-zA-Z][a-zA-Z]-[a-zA-Z]\\\\d\\\\d[a-zA-Z][a-zA-Z]\\\\d\\\\d[a-zA-Z]\\\\d\\\\d\\\\d\\\\d', 0)\n",
      "('[a-zA-Z][a-zA-Z][a-zA-Z]-[a-zA-Z]\\\\d\\\\d\\\\d\\\\d\\\\d\\\\d[a-zA-Z]', 0)\n",
      "('[a-zA-Z][a-zA-Z][a-zA-Z]-[a-zA-Z][a-zA-Z][a-zA-Z][a-zA-Z]-\\\\d\\\\d\\\\d[a-zA-Z]', 0)\n",
      "('[a-zA-Z][a-zA-Z][a-zA-Z]-\\\\d\\\\d\\\\d\\\\d\\\\d[a-zA-Z][a-zA-Z]', 0)\n",
      "('[a-zA-Z][a-zA-Z][a-zA-Z]-\\\\d\\\\d\\\\d[a-zA-Z][a-zA-Z]', 0)\n",
      "('[a-zA-Z][a-zA-Z][a-zA-Z]-[a-zA-Z]\\\\d\\\\d\\\\d\\\\d[a-zA-Z][a-zA-Z][a-zA-Z]', 0)\n",
      "('[a-zA-Z][a-zA-Z][a-zA-Z]-\\\\d\\\\d-\\\\d\\\\d\\\\d\\\\d\\\\d-\\\\d\\\\d\\\\d', 0)\n",
      "('[a-zA-Z][a-zA-Z][a-zA-Z]-[a-zA-Z]\\\\d\\\\d\\\\d[a-zA-Z]\\\\d[a-zA-Z][a-zA-Z]', 0)\n",
      "('[a-zA-Z][a-zA-Z][a-zA-Z]-\\\\d\\\\d\\\\d\\\\d\\\\d\\\\d-\\\\d\\\\d\\\\d', 0)\n",
      "('[a-zA-Z][a-zA-Z][a-zA-Z]-[a-zA-Z]-\\\\d\\\\d\\\\d', 0)\n",
      "('[a-zA-Z][a-zA-Z][a-zA-Z]-[a-zA-Z]\\\\d\\\\d\\\\d[a-zA-Z]\\\\d\\\\d[a-zA-Z]-[a-zA-Z]', 0)\n",
      "('[a-zA-Z][a-zA-Z][a-zA-Z]-[a-zA-Z]\\\\d\\\\d\\\\d\\\\d\\\\d\\\\d\\\\d', 0)\n",
      "('[a-zA-Z][a-zA-Z][a-zA-Z]-[a-zA-Z][a-zA-Z]\\\\d\\\\d\\\\d\\\\d[a-zA-Z][a-zA-Z]\\\\d\\\\d\\\\d', 0)\n",
      "('[a-zA-Z][a-zA-Z][a-zA-Z]-\\\\d\\\\d[a-zA-Z]\\\\d\\\\d\\\\d\\\\d-[a-zA-Z][a-zA-Z]', 0)\n",
      "('[a-zA-Z][a-zA-Z][a-zA-Z]-[a-zA-Z][a-zA-Z]\\\\d\\\\d\\\\d[a-zA-Z]', 0)\n",
      "('[a-zA-Z][a-zA-Z][a-zA-Z]-\\\\d\\\\d\\\\d\\\\d\\\\d\\\\d', 0)\n",
      "('[a-zA-Z][a-zA-Z][a-zA-Z]-[a-zA-Z][a-zA-Z][a-zA-Z][a-zA-Z][a-zA-Z]\\\\d\\\\d\\\\d[a-zA-Z][a-zA-Z]', 0)\n",
      "('[a-zA-Z][a-zA-Z][a-zA-Z]-\\\\d[a-zA-Z][a-zA-Z]\\\\d\\\\d\\\\d\\\\d\\\\d\\\\d\\\\d', 0)\n",
      "('[a-zA-Z][a-zA-Z][a-zA-Z]-\\\\d\\\\d\\\\d\\\\d\\\\d\\\\d\\\\d\\\\d\\\\d', 0)\n",
      "('[a-zA-Z][a-zA-Z][a-zA-Z]-\\\\d\\\\d\\\\d\\\\d[a-zA-Z][a-zA-Z][a-zA-Z]-\\\\d\\\\d\\\\d', 0)\n",
      "('[a-zA-Z][a-zA-Z][a-zA-Z]-[a-zA-Z][a-zA-Z]\\\\d\\\\d\\\\d[a-zA-Z]-[a-zA-Z]', 0)\n",
      "('[a-zA-Z][a-zA-Z][a-zA-Z]-[a-zA-Z]\\\\d\\\\d\\\\d-\\\\d\\\\d\\\\d\\\\d\\\\d\\\\d', 0)\n",
      "('[a-zA-Z][a-zA-Z][a-zA-Z]-\\\\d[a-zA-Z][a-zA-Z]\\\\d[a-zA-Z]', 0)\n",
      "('[a-zA-Z][a-zA-Z][a-zA-Z]-[a-zA-Z][a-zA-Z][a-zA-Z]\\\\d', 0)\n",
      "('[a-zA-Z][a-zA-Z][a-zA-Z]-\\\\d\\\\d\\\\d\\\\d-\\\\d\\\\d\\\\d', 0)\n",
      "('[a-zA-Z][a-zA-Z][a-zA-Z]-[a-zA-Z]\\\\d[a-zA-Z][a-zA-Z][a-zA-Z][a-zA-Z][a-zA-Z][a-zA-Z][a-zA-Z]', 0)\n",
      "('[a-zA-Z][a-zA-Z][a-zA-Z]-\\\\d\\\\d\\\\d\\\\d\\\\d\\\\d\\\\d\\\\d', 0)\n",
      "('[a-zA-Z][a-zA-Z][a-zA-Z]-\\\\d\\\\d\\\\d\\\\d\\\\d-\\\\d\\\\d-[a-zA-Z]', 0)\n",
      "('[a-zA-Z][a-zA-Z][a-zA-Z]-[a-zA-Z][a-zA-Z][a-zA-Z]\\\\d\\\\d\\\\d[a-zA-Z]', 0)\n",
      "('[a-zA-Z][a-zA-Z][a-zA-Z]-[a-zA-Z][a-zA-Z][a-zA-Z]\\\\d\\\\d\\\\d\\\\d[a-zA-Z][a-zA-Z]\\\\d[a-zA-Z]', 0)\n",
      "('[a-zA-Z][a-zA-Z][a-zA-Z]-[a-zA-Z][a-zA-Z]\\\\d\\\\d\\\\d-\\\\d\\\\d\\\\d\\\\d\\\\d', 0)\n",
      "('[a-zA-Z][a-zA-Z][a-zA-Z]-\\\\d[a-zA-Z]\\\\d\\\\d[a-zA-Z][a-zA-Z]\\\\d[a-zA-Z][a-zA-Z]\\\\d', 0)\n",
      "('\\\\d\\\\d\\\\d-[a-zA-Z]\\\\d[a-zA-Z][a-zA-Z]\\\\d', 0)\n",
      "('[a-zA-Z][a-zA-Z][a-zA-Z]-[a-zA-Z][a-zA-Z]\\\\d\\\\d\\\\d\\\\d\\\\d\\\\d', 0)\n",
      "('[a-zA-Z][a-zA-Z][a-zA-Z]-[a-zA-Z][a-zA-Z]\\\\d\\\\d\\\\d\\\\d\\\\d\\\\d\\\\d', 0)\n",
      "('[a-zA-Z][a-zA-Z][a-zA-Z]-[a-zA-Z]\\\\d\\\\d[a-zA-Z][a-zA-Z]\\\\d\\\\d\\\\d\\\\d\\\\d', 0)\n",
      "('[a-zA-Z][a-zA-Z][a-zA-Z]-[a-zA-Z][a-zA-Z][a-zA-Z]\\\\d\\\\d\\\\d\\\\d\\\\d\\\\d', 0)\n",
      "('[a-zA-Z][a-zA-Z][a-zA-Z]-[a-zA-Z][a-zA-Z]\\\\d\\\\d\\\\d[a-zA-Z][a-zA-Z][a-zA-Z]', 0)\n",
      "('\\\\d[a-zA-Z]-[a-zA-Z][a-zA-Z]\\\\d\\\\d\\\\d-[a-zA-Z]\\\\d', 0)\n",
      "('[a-zA-Z]\\\\d\\\\d\\\\d\\\\d-\\\\d\\\\d\\\\d\\\\d\\\\d[a-zA-Z][a-zA-Z][a-zA-Z][a-zA-Z]', 0)\n",
      "('[a-zA-Z][a-zA-Z][a-zA-Z]-[a-zA-Z][a-zA-Z][a-zA-Z]\\\\d[a-zA-Z][a-zA-Z][a-zA-Z]\\\\d\\\\d\\\\d', 0)\n",
      "('[a-zA-Z][a-zA-Z][a-zA-Z]-[a-zA-Z]\\\\d\\\\d\\\\d\\\\d\\\\d\\\\d\\\\d\\\\d\\\\d', 0)\n",
      "('[a-zA-Z][a-zA-Z][a-zA-Z]-\\\\d\\\\d\\\\d\\\\d[a-zA-Z][a-zA-Z][a-zA-Z]', 0)\n",
      "('[a-zA-Z][a-zA-Z][a-zA-Z]-\\\\d\\\\d\\\\d\\\\d[a-zA-Z][a-zA-Z][a-zA-Z]-[a-zA-Z]', 0)\n",
      "('[a-zA-Z][a-zA-Z][a-zA-Z]-\\\\d\\\\d\\\\d\\\\d[a-zA-Z][a-zA-Z]', 0)\n",
      "('[a-zA-Z][a-zA-Z][a-zA-Z]-\\\\d\\\\d\\\\d\\\\d-[a-zA-Z]\\\\d', 0)\n",
      "('[a-zA-Z][a-zA-Z][a-zA-Z]-[a-zA-Z]\\\\d\\\\d\\\\d-[a-zA-Z]\\\\d', 0)\n",
      "('[a-zA-Z][a-zA-Z][a-zA-Z]-[a-zA-Z]\\\\d\\\\d\\\\d[a-zA-Z]', 0)\n",
      "('[a-zA-Z][a-zA-Z][a-zA-Z]-[a-zA-Z][a-zA-Z][a-zA-Z][a-zA-Z][a-zA-Z]\\\\d\\\\d\\\\d\\\\d[a-zA-Z]', 0)\n",
      "('[a-zA-Z][a-zA-Z][a-zA-Z][a-zA-Z][a-zA-Z][a-zA-Z][a-zA-Z]-\\\\d\\\\d\\\\d\\\\d[a-zA-Z][a-zA-Z]\\\\d\\\\d', 0)\n",
      "('[a-zA-Z][a-zA-Z][a-zA-Z]-\\\\d\\\\d\\\\d-\\\\d\\\\d\\\\d\\\\d-\\\\d', 0)\n",
      "('\\\\d\\\\d-\\\\d\\\\d\\\\d\\\\d', 0)\n",
      "('[a-zA-Z]\\\\d\\\\d\\\\d\\\\d-\\\\d\\\\d\\\\d\\\\d\\\\d-[a-zA-Z][a-zA-Z][a-zA-Z]', 0)\n",
      "('[a-zA-Z]\\\\d\\\\d\\\\d[a-zA-Z][a-zA-Z]\\\\d\\\\d[a-zA-Z]-\\\\d\\\\d\\\\d\\\\d\\\\d', 0)\n",
      "('\\\\d\\\\d[a-zA-Z][a-zA-Z]-\\\\d\\\\d\\\\d\\\\d\\\\d[a-zA-Z][a-zA-Z]', 0)\n",
      "('[a-zA-Z][a-zA-Z]\\\\d-\\\\d\\\\d\\\\d\\\\d-[a-zA-Z][a-zA-Z][a-zA-Z][a-zA-Z]', 0)\n",
      "('[a-zA-Z][a-zA-Z]\\\\d\\\\d\\\\d-\\\\d\\\\d\\\\d\\\\d\\\\d-[a-zA-Z][a-zA-Z]', 0)\n",
      "('[a-zA-Z][a-zA-Z][a-zA-Z][a-zA-Z][a-zA-Z][a-zA-Z][a-zA-Z]-\\\\d\\\\d\\\\d\\\\d[a-zA-Z][a-zA-Z][a-zA-Z][a-zA-Z]', 0)\n",
      "('[a-zA-Z][a-zA-Z][a-zA-Z][a-zA-Z][a-zA-Z][a-zA-Z][a-zA-Z]-\\\\d\\\\d\\\\d\\\\d[a-zA-Z][a-zA-Z][a-zA-Z]\\\\d', 0)\n",
      "('\\\\d\\\\d\\\\d-\\\\d\\\\d-\\\\d\\\\d-\\\\d\\\\d\\\\d', 0)\n",
      "('\\\\d\\\\d\\\\d\\\\d\\\\d\\\\d\\\\d\\\\d\\\\d-\\\\d\\\\d', 0)\n",
      "('[a-zA-Z][a-zA-Z][a-zA-Z][a-zA-Z][a-zA-Z][a-zA-Z][a-zA-Z][a-zA-Z]\\\\d\\\\d\\\\d[a-zA-Z]\\\\d[a-zA-Z]-\\\\d', 0)\n",
      "('[a-zA-Z][a-zA-Z][a-zA-Z][a-zA-Z][a-zA-Z][a-zA-Z][a-zA-Z][a-zA-Z][a-zA-Z]\\\\d\\\\d[a-zA-Z]\\\\d\\\\d-\\\\d', 0)\n",
      "('[a-zA-Z][a-zA-Z][a-zA-Z][a-zA-Z]-[a-zA-Z][a-zA-Z]\\\\d\\\\d\\\\d\\\\d[a-zA-Z][a-zA-Z][a-zA-Z][a-zA-Z]', 0)\n",
      "('[a-zA-Z][a-zA-Z][a-zA-Z][a-zA-Z][a-zA-Z][a-zA-Z]-[a-zA-Z]\\\\d\\\\d\\\\d\\\\d[a-zA-Z][a-zA-Z][a-zA-Z][a-zA-Z]', 0)\n",
      "('[a-zA-Z][a-zA-Z][a-zA-Z][a-zA-Z][a-zA-Z][a-zA-Z][a-zA-Z][a-zA-Z]\\\\d[a-zA-Z]\\\\d\\\\d[a-zA-Z][a-zA-Z]-\\\\d', 0)\n",
      "('[a-zA-Z][a-zA-Z][a-zA-Z][a-zA-Z][a-zA-Z]-[a-zA-Z][a-zA-Z]\\\\d\\\\d\\\\d\\\\d[a-zA-Z][a-zA-Z][a-zA-Z][a-zA-Z]', 0)\n",
      "('\\\\d\\\\d\\\\d-\\\\d\\\\d\\\\d\\\\d\\\\d\\\\d', 0)\n",
      "('[a-zA-Z][a-zA-Z][a-zA-Z][a-zA-Z][a-zA-Z][a-zA-Z][a-zA-Z][a-zA-Z]\\\\d[a-zA-Z]\\\\d\\\\d[a-zA-Z]\\\\d-\\\\d\\\\d', 0)\n",
      "('[a-zA-Z]\\\\d\\\\d-\\\\d\\\\d\\\\d\\\\d', 0)\n",
      "('\\\\d\\\\d\\\\d\\\\d\\\\d\\\\d\\\\d\\\\d\\\\d-\\\\d', 0)\n",
      "('[a-zA-Z]\\\\d-[a-zA-Z][a-zA-Z][a-zA-Z][a-zA-Z][a-zA-Z]-\\\\d\\\\d', 0)\n",
      "('[a-zA-Z][a-zA-Z]\\\\d-\\\\d\\\\d\\\\d\\\\d-\\\\d\\\\d\\\\d-[a-zA-Z][a-zA-Z]', 0)\n",
      "('[a-zA-Z]\\\\d[a-zA-Z]\\\\d\\\\d-\\\\d\\\\d\\\\d\\\\d\\\\d-[a-zA-Z][a-zA-Z]', 0)\n",
      "('[a-zA-Z][a-zA-Z]\\\\d\\\\d\\\\d\\\\d\\\\d-[a-zA-Z]\\\\d\\\\d\\\\d[a-zA-Z][a-zA-Z]', 0)\n",
      "('[a-zA-Z][a-zA-Z]\\\\d\\\\d\\\\d-\\\\d\\\\d\\\\d\\\\d\\\\d-[a-zA-Z][a-zA-Z][a-zA-Z][a-zA-Z]', 0)\n",
      "('[a-zA-Z][a-zA-Z]\\\\d\\\\d-[a-zA-Z]\\\\d', 0)\n",
      "('[a-zA-Z][a-zA-Z][a-zA-Z][a-zA-Z][a-zA-Z][a-zA-Z]-[a-zA-Z]\\\\d\\\\d\\\\d\\\\d[a-zA-Z][a-zA-Z][a-zA-Z]', 0)\n",
      "('[a-zA-Z][a-zA-Z]\\\\d\\\\d[a-zA-Z]-[a-zA-Z][a-zA-Z]', 0)\n",
      "('[a-zA-Z][a-zA-Z][a-zA-Z][a-zA-Z][a-zA-Z][a-zA-Z]-\\\\d\\\\d\\\\d\\\\d[a-zA-Z][a-zA-Z][a-zA-Z][a-zA-Z]', 0)\n"
     ]
    }
   ],
   "source": [
    "texts = [standardize_text1(note) for note in df_train_test.notes] \n",
    "text_entities, pattern_matchs = generate_label(texts, patterns=patterns)\n",
    "print(len(text_entities))\n",
    "print(*pattern_matchs, sep='\\n')"
   ]
  },
  {
   "cell_type": "code",
   "execution_count": 185,
   "id": "eacac79e",
   "metadata": {
    "ExecuteTime": {
     "end_time": "2021-08-25T06:32:10.889912Z",
     "start_time": "2021-08-25T06:32:10.882219Z"
    }
   },
   "outputs": [
    {
     "name": "stdout",
     "output_type": "stream",
     "text": [
      "3956\n"
     ]
    },
    {
     "data": {
      "text/plain": [
       "3956"
      ]
     },
     "execution_count": 185,
     "metadata": {},
     "output_type": "execute_result"
    }
   ],
   "source": [
    "print(np.sum([len(annotations['entities']) for text, annotations in text_entities]))\n",
    "np.sum([value for key, value in pattern_matchs]) "
   ]
  },
  {
   "cell_type": "code",
   "execution_count": 201,
   "id": "f7860899",
   "metadata": {
    "ExecuteTime": {
     "end_time": "2021-08-25T06:43:55.411614Z",
     "start_time": "2021-08-25T06:43:55.405531Z"
    }
   },
   "outputs": [
    {
     "name": "stdout",
     "output_type": "stream",
     "text": [
      "4582\n",
      "1528\n"
     ]
    }
   ],
   "source": [
    "train_entities, test_entiteis = train_test_split(text_entities, test_size=0.25, random_state=199)\n",
    "\n",
    "print(len(train_entities))\n",
    "print(len(test_entiteis))"
   ]
  },
  {
   "cell_type": "markdown",
   "id": "95c77023",
   "metadata": {},
   "source": [
    "### Data Augmentation"
   ]
  },
  {
   "cell_type": "code",
   "execution_count": 187,
   "id": "b9bd3aae",
   "metadata": {
    "ExecuteTime": {
     "end_time": "2021-08-25T06:32:36.693821Z",
     "start_time": "2021-08-25T06:32:36.689754Z"
    }
   },
   "outputs": [
    {
     "data": {
      "text/plain": [
       "'kcf-943-4087'"
      ]
     },
     "execution_count": 187,
     "metadata": {},
     "output_type": "execute_result"
    }
   ],
   "source": [
    "expression = '[a-zA-Z][a-zA-Z][a-zA-Z]-\\\\d\\\\d\\\\d-\\\\d\\\\d\\\\d\\\\d'\n",
    "exrex.getone(expression).lower()"
   ]
  },
  {
   "cell_type": "code",
   "execution_count": 188,
   "id": "2311094e",
   "metadata": {
    "ExecuteTime": {
     "end_time": "2021-08-25T06:32:38.741200Z",
     "start_time": "2021-08-25T06:32:38.721334Z"
    }
   },
   "outputs": [
    {
     "name": "stdout",
     "output_type": "stream",
     "text": [
      "0.007648398774009697 0.9999999999999994\n"
     ]
    },
    {
     "data": {
      "text/plain": [
       "[(547, 0.0002884367030158533),\n",
       " (400, 0.00042169327438072816),\n",
       " (0, 0.007648398774009697),\n",
       " (0, 0.007648398774009697),\n",
       " (0, 0.007648398774009697),\n",
       " (0, 0.007648398774009697),\n",
       " (3, 0.007578462914335869),\n",
       " (0, 0.007648398774009697),\n",
       " (2, 0.007601774867560479),\n",
       " (643, 0.00022306939097441325),\n",
       " (83, 0.005713506656367102),\n",
       " (0, 0.007648398774009697),\n",
       " (39, 0.006739232598249924),\n",
       " (1089, 0.0),\n",
       " (0, 0.007648398774009697),\n",
       " (122, 0.004804340480607329),\n",
       " (0, 0.007648398774009697),\n",
       " (483, 0.0003394545486791547),\n",
       " (0, 0.007648398774009697),\n",
       " (0, 0.007648398774009697),\n",
       " (0, 0.007648398774009697),\n",
       " (0, 0.007648398774009697),\n",
       " (0, 0.007648398774009697),\n",
       " (0, 0.007648398774009697),\n",
       " (5, 0.00753183900788665),\n",
       " (0, 0.007648398774009697),\n",
       " (0, 0.007648398774009697),\n",
       " (0, 0.007648398774009697),\n",
       " (0, 0.007648398774009697),\n",
       " (0, 0.007648398774009697),\n",
       " (0, 0.007648398774009697),\n",
       " (0, 0.007648398774009697),\n",
       " (0, 0.007648398774009697),\n",
       " (0, 0.007648398774009697),\n",
       " (0, 0.007648398774009697),\n",
       " (0, 0.007648398774009697),\n",
       " (0, 0.007648398774009697),\n",
       " (199, 0.0030093200823123915),\n",
       " (1, 0.007625086820785088),\n",
       " (0, 0.007648398774009697),\n",
       " (0, 0.007648398774009697),\n",
       " (0, 0.007648398774009697),\n",
       " (0, 0.007648398774009697),\n",
       " (0, 0.007648398774009697),\n",
       " (0, 0.007648398774009697),\n",
       " (0, 0.007648398774009697),\n",
       " (0, 0.007648398774009697),\n",
       " (0, 0.007648398774009697),\n",
       " (0, 0.007648398774009697),\n",
       " (0, 0.007648398774009697),\n",
       " (0, 0.007648398774009697),\n",
       " (0, 0.007648398774009697),\n",
       " (23, 0.007112223849843677),\n",
       " (5, 0.00753183900788665),\n",
       " (0, 0.007648398774009697),\n",
       " (0, 0.007648398774009697),\n",
       " (0, 0.007648398774009697),\n",
       " (0, 0.007648398774009697),\n",
       " (0, 0.007648398774009697),\n",
       " (0, 0.007648398774009697),\n",
       " (0, 0.007648398774009697),\n",
       " (0, 0.007648398774009697),\n",
       " (0, 0.007648398774009697),\n",
       " (0, 0.007648398774009697),\n",
       " (0, 0.007648398774009697),\n",
       " (0, 0.007648398774009697),\n",
       " (0, 0.007648398774009697),\n",
       " (0, 0.007648398774009697),\n",
       " (0, 0.007648398774009697),\n",
       " (0, 0.007648398774009697),\n",
       " (0, 0.007648398774009697),\n",
       " (0, 0.007648398774009697),\n",
       " (0, 0.007648398774009697),\n",
       " (5, 0.00753183900788665),\n",
       " (0, 0.007648398774009697),\n",
       " (0, 0.007648398774009697),\n",
       " (0, 0.007648398774009697),\n",
       " (0, 0.007648398774009697),\n",
       " (0, 0.007648398774009697),\n",
       " (0, 0.007648398774009697),\n",
       " (2, 0.007601774867560479),\n",
       " (0, 0.007648398774009697),\n",
       " (7, 0.00748521510143743),\n",
       " (0, 0.007648398774009697),\n",
       " (0, 0.007648398774009697),\n",
       " (0, 0.007648398774009697),\n",
       " (0, 0.007648398774009697),\n",
       " (2, 0.007601774867560479),\n",
       " (0, 0.007648398774009697),\n",
       " (0, 0.007648398774009697),\n",
       " (3, 0.007578462914335869),\n",
       " (0, 0.007648398774009697),\n",
       " (0, 0.007648398774009697),\n",
       " (0, 0.007648398774009697),\n",
       " (1, 0.007625086820785088),\n",
       " (0, 0.007648398774009697),\n",
       " (0, 0.007648398774009697),\n",
       " (0, 0.007648398774009697),\n",
       " (271, 0.0013308594501405017),\n",
       " (0, 0.007648398774009697),\n",
       " (0, 0.007648398774009697),\n",
       " (0, 0.007648398774009697),\n",
       " (0, 0.007648398774009697),\n",
       " (0, 0.007648398774009697),\n",
       " (0, 0.007648398774009697),\n",
       " (21, 0.007158847756292897),\n",
       " (0, 0.007648398774009697),\n",
       " (0, 0.007648398774009697),\n",
       " (0, 0.007648398774009697),\n",
       " (0, 0.007648398774009697),\n",
       " (0, 0.007648398774009697),\n",
       " (0, 0.007648398774009697),\n",
       " (0, 0.007648398774009697),\n",
       " (0, 0.007648398774009697),\n",
       " (0, 0.007648398774009697),\n",
       " (0, 0.007648398774009697),\n",
       " (0, 0.007648398774009697),\n",
       " (0, 0.007648398774009697),\n",
       " (0, 0.007648398774009697),\n",
       " (0, 0.007648398774009697),\n",
       " (0, 0.007648398774009697),\n",
       " (0, 0.007648398774009697),\n",
       " (0, 0.007648398774009697),\n",
       " (0, 0.007648398774009697),\n",
       " (0, 0.007648398774009697),\n",
       " (0, 0.007648398774009697),\n",
       " (0, 0.007648398774009697),\n",
       " (0, 0.007648398774009697),\n",
       " (0, 0.007648398774009697),\n",
       " (0, 0.007648398774009697),\n",
       " (0, 0.007648398774009697),\n",
       " (0, 0.007648398774009697),\n",
       " (0, 0.007648398774009697),\n",
       " (0, 0.007648398774009697),\n",
       " (0, 0.007648398774009697),\n",
       " (0, 0.007648398774009697),\n",
       " (0, 0.007648398774009697),\n",
       " (0, 0.007648398774009697)]"
      ]
     },
     "execution_count": 188,
     "metadata": {},
     "output_type": "execute_result"
    }
   ],
   "source": [
    "def get_augument_rates(pattern_counts):\n",
    "    pattern_counts = np.array([300+np.sqrt(count-300) if count>300 else count for count in pattern_counts ] )\n",
    "    pattern_counts = max(pattern_counts) - pattern_counts\n",
    "    augument_rates = pattern_counts/np.sum(pattern_counts)\n",
    "    \n",
    "    return augument_rates\n",
    "\n",
    "pattern_matchs_dict = {key:value for key, value in pattern_matchs}   \n",
    "part_num_patterns = [pattern for pattern in patterns if pattern['label']=='PART_NUM' ]\n",
    "part_num_pattern_counts = [pattern_matchs_dict.get(pattern['expression'], 0) for pattern in part_num_patterns]\n",
    "\n",
    "part_num_augument_rates = get_augument_rates(part_num_pattern_counts) \n",
    "print(max(part_num_augument_rates), sum(part_num_augument_rates))\n",
    "[(cnt, rate) for cnt, rate in zip(part_num_pattern_counts, part_num_augument_rates)]"
   ]
  },
  {
   "cell_type": "code",
   "execution_count": 202,
   "id": "e1fa38b3",
   "metadata": {
    "ExecuteTime": {
     "end_time": "2021-08-25T06:44:13.306751Z",
     "start_time": "2021-08-25T06:44:13.280414Z"
    }
   },
   "outputs": [
    {
     "data": {
      "text/plain": [
       "[('[a-zA-Z][a-zA-Z][a-zA-Z]-[a-zA-Z]\\\\d\\\\d\\\\d\\\\d\\\\d\\\\d\\\\d\\\\d\\\\d', 2),\n",
       " ('[a-zA-Z][a-zA-Z][a-zA-Z]-[a-zA-Z]\\\\d\\\\d\\\\d[a-zA-Z]\\\\d\\\\d[a-zA-Z]-[a-zA-Z]',\n",
       "  1),\n",
       " ('\\\\d\\\\d\\\\d\\\\d-\\\\d\\\\d\\\\d\\\\d-[a-zA-Z][a-zA-Z][a-zA-Z]', 1),\n",
       " ('[a-zA-Z][a-zA-Z][a-zA-Z]-[a-zA-Z]\\\\d\\\\d\\\\d[a-zA-Z]', 1),\n",
       " ('[a-zA-Z][a-zA-Z][a-zA-Z]-[a-zA-Z]\\\\d[a-zA-Z][a-zA-Z][a-zA-Z][a-zA-Z][a-zA-Z][a-zA-Z][a-zA-Z]',\n",
       "  1),\n",
       " ('[a-zA-Z][a-zA-Z][a-zA-Z]-\\\\d\\\\d\\\\d\\\\d[a-zA-Z][a-zA-Z]\\\\d\\\\d', 1),\n",
       " ('[a-zA-Z][a-zA-Z][a-zA-Z]-\\\\d\\\\d\\\\d\\\\d[a-zA-Z][a-zA-Z][a-zA-Z]-\\\\d\\\\d\\\\d',\n",
       "  1),\n",
       " ('[a-zA-Z]\\\\d\\\\d\\\\d[a-zA-Z][a-zA-Z]\\\\d\\\\d[a-zA-Z]-\\\\d\\\\d\\\\d\\\\d\\\\d', 1),\n",
       " ('[a-zA-Z][a-zA-Z][a-zA-Z]-\\\\d\\\\d-\\\\d\\\\d\\\\d\\\\d\\\\d-\\\\d\\\\d\\\\d', 1),\n",
       " ('[a-zA-Z][a-zA-Z][a-zA-Z]-[a-zA-Z][a-zA-Z]\\\\d\\\\d\\\\d-\\\\d\\\\d\\\\d\\\\d\\\\d', 1),\n",
       " ('[a-zA-Z][a-zA-Z][a-zA-Z][a-zA-Z][a-zA-Z][a-zA-Z][a-zA-Z][a-zA-Z]\\\\d[a-zA-Z]\\\\d\\\\d[a-zA-Z]\\\\d-\\\\d\\\\d',\n",
       "  1),\n",
       " ('[a-zA-Z][a-zA-Z][a-zA-Z]-[a-zA-Z]\\\\d\\\\d\\\\d-[a-zA-Z]\\\\d', 1),\n",
       " ('[a-zA-Z][a-zA-Z][a-zA-Z]-\\\\d\\\\d\\\\d[a-zA-Z][a-zA-Z]\\\\d\\\\d\\\\d\\\\d\\\\d', 1),\n",
       " ('[a-zA-Z][a-zA-Z][a-zA-Z]-\\\\d\\\\d[a-zA-Z]\\\\d[a-zA-Z]\\\\d\\\\d', 1),\n",
       " ('\\\\d\\\\d-\\\\d\\\\d\\\\d\\\\d[a-zA-Z]-\\\\d\\\\d[a-zA-Z]', 1),\n",
       " ('[a-zA-Z][a-zA-Z][a-zA-Z]-\\\\d\\\\d\\\\d[a-zA-Z]\\\\d\\\\d\\\\d\\\\d\\\\d', 1),\n",
       " ('\\\\d\\\\d\\\\d-\\\\d\\\\d\\\\d-\\\\d\\\\d', 1),\n",
       " ('\\\\d\\\\d-\\\\d\\\\d\\\\d\\\\d\\\\d-\\\\d\\\\d', 1),\n",
       " ('[a-zA-Z][a-zA-Z]\\\\d\\\\d[a-zA-Z]-[a-zA-Z][a-zA-Z]', 1),\n",
       " ('[a-zA-Z][a-zA-Z][a-zA-Z]-\\\\d\\\\d[a-zA-Z]\\\\d\\\\d\\\\d\\\\d[a-zA-Z]', 1),\n",
       " ('\\\\d\\\\d\\\\d\\\\d\\\\d-\\\\d\\\\d\\\\d\\\\d\\\\d', 1),\n",
       " ('[a-zA-Z]\\\\d[a-zA-Z]\\\\d\\\\d-\\\\d\\\\d\\\\d\\\\d\\\\d-[a-zA-Z][a-zA-Z]', 1),\n",
       " ('[a-zA-Z][a-zA-Z][a-zA-Z]-[a-zA-Z]\\\\d\\\\d[a-zA-Z][a-zA-Z]\\\\d\\\\d[a-zA-Z]\\\\d\\\\d\\\\d\\\\d',\n",
       "  1),\n",
       " ('[a-zA-Z][a-zA-Z][a-zA-Z][a-zA-Z][a-zA-Z][a-zA-Z]-\\\\d\\\\d\\\\d\\\\d[a-zA-Z][a-zA-Z][a-zA-Z][a-zA-Z]',\n",
       "  1),\n",
       " ('[a-zA-Z][a-zA-Z][a-zA-Z]-[a-zA-Z][a-zA-Z]\\\\d\\\\d\\\\d[a-zA-Z][a-zA-Z]', 1),\n",
       " ('[a-zA-Z][a-zA-Z][a-zA-Z][a-zA-Z][a-zA-Z][a-zA-Z][a-zA-Z][a-zA-Z][a-zA-Z]\\\\d\\\\d[a-zA-Z]\\\\d\\\\d-\\\\d',\n",
       "  1)]"
      ]
     },
     "execution_count": 202,
     "metadata": {},
     "output_type": "execute_result"
    }
   ],
   "source": [
    "def augment(data_entities, patterns, augument_rates, augument_num=40000):\n",
    "    i = 0\n",
    "    new_texts = []\n",
    "    \n",
    "    augment_matches = {}\n",
    "    while i<augument_num:\n",
    "        data_index = int(np.random.randint(len(data_entities), size=1))\n",
    "        text, annotations = data_entities[data_index]\n",
    "        entities = [(start, end, label) for start, end, label in annotations['entities'] if label=='PART_NUM']        \n",
    "        if len(entities)<=0:\n",
    "            continue\n",
    "        entities.reverse()\n",
    "        new_text = text\n",
    "        for start, end, label in entities:                       \n",
    "            pattern_index = int(np.random.choice(a=len(augument_rates), size=1, replace=True, p=augument_rates))\n",
    "            pattern = patterns[pattern_index]['expression']\n",
    "            part_num = exrex.getone(pattern).lower()\n",
    "            new_text = new_text[0:start] + part_num + new_text[end:] \n",
    "            augment_matches[pattern] = augment_matches.get(pattern, 0) + 1\n",
    "        new_texts.append(new_text)   \n",
    "\n",
    "        i = i + 1\n",
    "        if i % 5000==0:\n",
    "            print(f'{i}/{augument_num}')\n",
    "    augment_matches = [(key, value) for key, value in sorted(augment_matches.items(), key=lambda item: -item[1])]\n",
    "    return new_texts, augment_matches\n",
    "        \n",
    "    \n",
    "sample_augment_texts, sample_augment_matches =  augment(tran_text_entities[0:10], patterns,       \n",
    "                                                        part_num_augument_rates, augument_num=10)\n",
    "sample_augment_matches"
   ]
  },
  {
   "cell_type": "code",
   "execution_count": 209,
   "id": "1d3ae65a",
   "metadata": {
    "ExecuteTime": {
     "end_time": "2021-08-25T06:51:05.749712Z",
     "start_time": "2021-08-25T06:50:53.857335Z"
    }
   },
   "outputs": [
    {
     "name": "stdout",
     "output_type": "stream",
     "text": [
      "5000/9000\n",
      "9000\n",
      "13443\n",
      "13443\n"
     ]
    }
   ],
   "source": [
    "tran_augment_texts, train_augment_matches = augment(tran_text_entities, patterns, \n",
    "                                                    part_num_augument_rates, augument_num=9000)\n",
    "print(len(tran_augment_texts))\n",
    "train_augment_text_entities, train_augment_pattern_matchs = generate_label(tran_augment_texts, patterns=patterns)\n",
    "print(np.sum([value for key, value in train_augment_pattern_matchs]))\n",
    "print(np.sum([len(annotations['entities']) for text, annotations in train_augment_text_entities]))"
   ]
  },
  {
   "cell_type": "code",
   "execution_count": 213,
   "id": "56f27d8d",
   "metadata": {
    "ExecuteTime": {
     "end_time": "2021-08-25T06:52:25.026663Z",
     "start_time": "2021-08-25T06:52:21.252461Z"
    }
   },
   "outputs": [
    {
     "name": "stdout",
     "output_type": "stream",
     "text": [
      "3000\n",
      "4312\n",
      "4312\n"
     ]
    }
   ],
   "source": [
    "test_augment_texts, test_augment_matches = augment(test_text_entities, patterns, \n",
    "                                                   part_num_augument_rates, augument_num=3000)\n",
    "print(len(test_augment_texts))\n",
    "test_augment_text_entities, test_augment_pattern_matchs = generate_label(test_augment_texts, patterns=patterns)\n",
    "print(np.sum([value for key, value in test_augment_pattern_matchs]))\n",
    "print(np.sum([len(annotations['entities']) for text, annotations in test_augment_text_entities]))"
   ]
  },
  {
   "cell_type": "code",
   "execution_count": null,
   "id": "701e5839",
   "metadata": {},
   "outputs": [],
   "source": []
  },
  {
   "cell_type": "code",
   "execution_count": 214,
   "id": "457b2b3f",
   "metadata": {
    "ExecuteTime": {
     "end_time": "2021-08-25T06:54:12.362610Z",
     "start_time": "2021-08-25T06:54:12.349963Z"
    }
   },
   "outputs": [
    {
     "name": "stdout",
     "output_type": "stream",
     "text": [
      "4582\n",
      "13582\n",
      "1528\n",
      "4528\n"
     ]
    }
   ],
   "source": [
    "train_data = train_text_entities\n",
    "train_data_aug = train_text_entities + train_augment_text_entities\n",
    "test_data = test_text_entities\n",
    "test_data_aug = test_text_entities + test_augment_text_entities\n",
    "\n",
    "print(len(train_data))\n",
    "print(len(train_data_aug))\n",
    "print(len(test_data))\n",
    "print(len(test_data_aug))"
   ]
  },
  {
   "cell_type": "markdown",
   "id": "c04ea363",
   "metadata": {},
   "source": [
    "### Generate NER data"
   ]
  },
  {
   "cell_type": "code",
   "execution_count": 215,
   "id": "a325e822",
   "metadata": {
    "ExecuteTime": {
     "end_time": "2021-08-25T06:55:22.545846Z",
     "start_time": "2021-08-25T06:55:08.939248Z"
    }
   },
   "outputs": [
    {
     "name": "stderr",
     "output_type": "stream",
     "text": [
      "100%|██████████| 13582/13582 [00:11<00:00, 1210.43it/s]\n",
      "100%|██████████| 1528/1528 [00:01<00:00, 1242.25it/s]\n"
     ]
    }
   ],
   "source": [
    "def generate_data(data):\n",
    "    nlp = spacy.blank(\"en\") # load a new spacy model\n",
    "    db = DocBin() # create a DocBin object\n",
    "\n",
    "    for text, annot in tqdm(data): # data in previous format\n",
    "        doc = nlp.make_doc(text) # create doc object from text\n",
    "        ents = []\n",
    "        for start, end, label in annot[\"entities\"]: # add character indexes\n",
    "            span = doc.char_span(start, end, label=label, alignment_mode=\"contract\")\n",
    "            if span is None:\n",
    "                print(\"Skipping entity\")\n",
    "            else:\n",
    "                ents.append(span)\n",
    "        doc.ents = ents # label the text with the ents\n",
    "        db.add(doc)\n",
    "    return db\n",
    "    \n",
    "train_spacy = generate_data(train_data_aug)\n",
    "train_spacy.to_disk(\"./train_aug.spacy\") # save the docbin object\n",
    "test_spacy = generate_data(test_data) \n",
    "test_spacy.to_disk(\"./test_aug.spacy\") # save the docbin object"
   ]
  },
  {
   "cell_type": "code",
   "execution_count": 35,
   "id": "11b1afb1",
   "metadata": {
    "ExecuteTime": {
     "end_time": "2021-08-25T00:33:10.409804Z",
     "start_time": "2021-08-25T00:33:09.511242Z"
    }
   },
   "outputs": [
    {
     "name": "stdout",
     "output_type": "stream",
     "text": [
      "total 7868\r\n",
      "-rw-r--r--. 1 root root    1916 Aug 23 01:30 base_config.cfg\r\n",
      "-rw-r--r--. 1 root root    1664 Aug 23 09:48 base_config_gpu.cfg\r\n",
      "-rw-r--r--. 1 root root    2833 Aug 25 00:26 config.cfg\r\n",
      "-rw-r--r--. 1 root root    2625 Aug 25 00:11 config_gpu.cfg\r\n",
      "-rw-r--r--. 1 root root  289100 Aug 25 00:31 custom_ner.ipynb\r\n",
      "-rw-r--r--. 1 root root  163582 Aug 25 00:33 custom_ner_aug.ipynb\r\n",
      "-rw-r--r--. 1 root root  142918 Aug 25 00:29 custom_ner_cpu.ipynb\r\n",
      "drwxr-xr-x. 5 root root      43 Aug 24 09:04 output\r\n",
      "-rw-r--r--. 1 root root  227413 Aug 25 00:27 test.spacy\r\n",
      "-rw-r--r--. 1 root root  229957 Aug 25 00:33 test_aug.spacy\r\n",
      "-rw-r--r--. 1 root root  660076 Aug 25 00:27 train.spacy\r\n",
      "-rw-r--r--. 1 root root 6312285 Aug 25 00:33 train_aug.spacy\r\n"
     ]
    }
   ],
   "source": [
    "!ls -l . "
   ]
  },
  {
   "cell_type": "markdown",
   "id": "80713807",
   "metadata": {},
   "source": [
    "## Train the model"
   ]
  },
  {
   "cell_type": "code",
   "execution_count": 36,
   "id": "a5aed1da",
   "metadata": {
    "ExecuteTime": {
     "end_time": "2021-08-25T00:33:10.415310Z",
     "start_time": "2021-08-25T00:33:10.412485Z"
    }
   },
   "outputs": [],
   "source": [
    "# !python -m spacy train config.cfg --output ./output/cpu --paths.train ./train.spacy --paths.dev ./test.spacy"
   ]
  },
  {
   "cell_type": "code",
   "execution_count": 216,
   "id": "78802aec",
   "metadata": {
    "ExecuteTime": {
     "end_time": "2021-08-25T07:28:43.692101Z",
     "start_time": "2021-08-25T06:55:27.918213Z"
    }
   },
   "outputs": [
    {
     "name": "stdout",
     "output_type": "stream",
     "text": [
      "2021-08-25 06:55:30.030474: I tensorflow/stream_executor/platform/default/dso_loader.cc:53] Successfully opened dynamic library libcudart.so.11.0\n",
      "\u001b[38;5;4mℹ Using GPU: 0\u001b[0m\n",
      "\u001b[1m\n",
      "=========================== Initializing pipeline ===========================\u001b[0m\n",
      "[2021-08-25 06:55:33,427] [INFO] Set up nlp object from config\n",
      "[2021-08-25 06:55:33,444] [INFO] Pipeline: ['transformer', 'ner']\n",
      "[2021-08-25 06:55:33,451] [INFO] Created vocabulary\n",
      "[2021-08-25 06:55:33,452] [INFO] Finished initializing nlp object\n",
      "Some weights of the model checkpoint at roberta-base were not used when initializing RobertaModel: ['lm_head.dense.weight', 'lm_head.dense.bias', 'lm_head.layer_norm.weight', 'lm_head.layer_norm.bias', 'lm_head.bias', 'lm_head.decoder.weight']\n",
      "- This IS expected if you are initializing RobertaModel from the checkpoint of a model trained on another task or with another architecture (e.g. initializing a BertForSequenceClassification model from a BertForPreTraining model).\n",
      "- This IS NOT expected if you are initializing RobertaModel from the checkpoint of a model that you expect to be exactly identical (initializing a BertForSequenceClassification model from a BertForSequenceClassification model).\n",
      "[2021-08-25 06:56:08,488] [INFO] Initialized pipeline components: ['transformer', 'ner']\n",
      "\u001b[38;5;2m✔ Initialized pipeline\u001b[0m\n",
      "\u001b[1m\n",
      "============================= Training pipeline =============================\u001b[0m\n",
      "\u001b[38;5;4mℹ Pipeline: ['transformer', 'ner']\u001b[0m\n",
      "\u001b[38;5;4mℹ Initial learn rate: 0.0\u001b[0m\n",
      "E    #       LOSS TRANS...  LOSS NER  ENTS_F  ENTS_P  ENTS_R  SCORE \n",
      "---  ------  -------------  --------  ------  ------  ------  ------\n",
      "  0       0        9511.29    460.42    0.16    0.10    0.39    0.00\n",
      "  0      20      134423.64  16026.97    0.19    0.12    0.39    0.00\n",
      "  0      40       33966.50  11213.02    0.00    0.00    0.00    0.00\n",
      "  0      60        2285.42   4762.35    0.00    0.00    0.00    0.00\n",
      "  0      80        9546.20   3500.88    3.10    3.71    2.66    0.03\n",
      "  0     100        1024.99   1314.84   84.78   77.69   93.30    0.85\n",
      "  0     120         300.88    687.14   89.15   88.85   89.46    0.89\n",
      "  0     140         199.57    489.08   91.16   88.50   93.99    0.91\n",
      "  0     160         165.60    355.66   89.78   82.39   98.62    0.90\n",
      "  0     180          97.90    271.54   92.19   86.78   98.33    0.92\n",
      "  0     200          97.20    268.97   91.25   85.27   98.13    0.91\n",
      "  0     220          85.96    255.62   93.10   88.33   98.42    0.93\n",
      "  0     240          88.62    246.48   94.06   90.23   98.23    0.94\n",
      "  0     260          59.66    173.70   92.95   90.03   96.06    0.93\n",
      "  1     280          87.59    223.12   92.40   86.31   99.41    0.92\n",
      "  1     300          62.88    180.14   94.49   89.87   99.61    0.94\n",
      "  1     320          60.43    208.78   96.64   94.12   99.31    0.97\n",
      "  1     340          36.83    153.31   96.30   93.91   98.82    0.96\n",
      "  1     360          47.59    159.02   96.78   94.55   99.11    0.97\n",
      "  1     380          42.32    158.46   96.98   94.57   99.51    0.97\n",
      "  1     400          21.41     91.23   97.96   96.56   99.41    0.98\n",
      "  1     420          19.92     89.93   97.61   96.71   98.52    0.98\n",
      "  1     440          30.42    120.08   95.34   91.26   99.80    0.95\n",
      "  1     460          20.86    121.00   96.88   94.56   99.31    0.97\n",
      "  1     480          15.61    107.69   96.23   96.90   95.57    0.96\n",
      "  1     500          26.03    146.43   96.72   94.80   98.72    0.97\n",
      "  1     520          17.56    101.32   97.17   96.23   98.13    0.97\n",
      "  2     540          19.62     83.16   97.76   96.72   98.82    0.98\n",
      "  2     560          21.30    111.78   96.14   93.08   99.41    0.96\n",
      "  2     580          16.56    106.27   96.70   93.96   99.61    0.97\n",
      "  2     600          22.47    103.45   97.43   95.98   98.92    0.97\n",
      "  2     620           9.82     84.53   97.26   94.93   99.70    0.97\n",
      "  2     640          16.28     97.35   98.31   96.67  100.00    0.98\n",
      "  2     660          11.55     67.82   97.73   95.83   99.70    0.98\n",
      "  2     680          20.50     95.80   96.93   94.40   99.61    0.97\n",
      "  2     700          10.62     83.40   97.78   96.01   99.61    0.98\n",
      "  2     720          14.02     61.45   98.02   96.20   99.90    0.98\n",
      "  2     740          10.71     70.88   98.15   96.93   99.41    0.98\n",
      "  2     760          10.88     79.68   97.83   96.02   99.70    0.98\n",
      "  2     780          12.47     81.92   98.35   97.03   99.70    0.98\n",
      "  3     800          13.60     88.61   98.25   97.02   99.51    0.98\n",
      "  3     820           8.04     88.92   98.09   97.29   98.92    0.98\n",
      "  3     840           8.13     87.16   97.82   96.10   99.61    0.98\n",
      "  3     860           8.76     46.11   97.73   95.66   99.90    0.98\n",
      "  3     880           9.09     66.90   97.59   95.56   99.70    0.98\n",
      "  3     900          11.32     85.72   98.30   97.02   99.61    0.98\n",
      "  3     920          11.95     72.71   97.55   95.30   99.90    0.98\n",
      "  3     940           5.58     72.39   98.31   96.67  100.00    0.98\n",
      "  3     960          11.76     86.10   98.11   96.39   99.90    0.98\n",
      "  3     980          12.07     78.12   97.69   97.36   98.03    0.98\n",
      "  3    1000          11.66     80.08   98.35   96.76  100.00    0.98\n",
      "  3    1020           7.66     53.16   98.07   96.30   99.90    0.98\n",
      "  3    1040           6.23     67.94   97.64   95.39  100.00    0.98\n",
      "  4    1060          15.14     81.55   98.30   96.76   99.90    0.98\n",
      "  4    1080          14.52     59.51   98.45   96.94  100.00    0.98\n",
      "  4    1100           3.77     62.79   98.21   96.57   99.90    0.98\n",
      "  4    1120           4.72     45.31   97.74   95.57  100.00    0.98\n",
      "  4    1140           6.65     84.04   97.94   97.46   98.42    0.98\n",
      "  4    1160           2.29     66.70   98.50   97.04  100.00    0.98\n",
      "  4    1180           2.27     82.54   97.64   95.48   99.90    0.98\n",
      "  4    1200           4.53     62.66   98.21   96.57   99.90    0.98\n",
      "\u001b[38;5;2m✔ Saved pipeline to output directory\u001b[0m\n",
      "output/gpu_aug/model-last\n"
     ]
    }
   ],
   "source": [
    "!python -m spacy train config_gpu_aug.cfg --output ./output/gpu_aug --paths.train ./train_aug.spacy --paths.dev ./test_aug.spacy --gpu-id 0"
   ]
  },
  {
   "cell_type": "markdown",
   "id": "62731f0f",
   "metadata": {},
   "source": [
    "## Evaluate\n",
    "\n",
    "###  Check test data"
   ]
  },
  {
   "cell_type": "code",
   "execution_count": 217,
   "id": "dc6395b1",
   "metadata": {
    "ExecuteTime": {
     "end_time": "2021-08-25T07:29:12.227217Z",
     "start_time": "2021-08-25T07:28:52.018586Z"
    }
   },
   "outputs": [
    {
     "name": "stdout",
     "output_type": "stream",
     "text": [
      "2021-08-25 07:28:54.113892: I tensorflow/stream_executor/platform/default/dso_loader.cc:53] Successfully opened dynamic library libcudart.so.11.0\n",
      "\u001b[38;5;4mℹ Using GPU: 0\u001b[0m\n",
      "\u001b[1m\n",
      "================================== Results ==================================\u001b[0m\n",
      "\n",
      "TOK     100.00\n",
      "NER P   97.04 \n",
      "NER R   100.00\n",
      "NER F   98.50 \n",
      "SPEED   4287  \n",
      "\n",
      "\u001b[1m\n",
      "=============================== NER (per type) ===============================\u001b[0m\n",
      "\n",
      "               P        R       F\n",
      "PART_NUM   97.04   100.00   98.50\n",
      "\n"
     ]
    }
   ],
   "source": [
    "!python -m spacy evaluate output/gpu_aug/model-best ./test_aug.spacy --gpu-id 0"
   ]
  },
  {
   "cell_type": "code",
   "execution_count": 218,
   "id": "1a0a14bc",
   "metadata": {
    "ExecuteTime": {
     "end_time": "2021-08-25T07:29:38.175283Z",
     "start_time": "2021-08-25T07:29:18.508606Z"
    }
   },
   "outputs": [
    {
     "name": "stdout",
     "output_type": "stream",
     "text": [
      "2021-08-25 07:29:20.575229: I tensorflow/stream_executor/platform/default/dso_loader.cc:53] Successfully opened dynamic library libcudart.so.11.0\n",
      "\u001b[38;5;4mℹ Using GPU: 0\u001b[0m\n",
      "\u001b[1m\n",
      "================================== Results ==================================\u001b[0m\n",
      "\n",
      "TOK     100.00\n",
      "NER P   96.57 \n",
      "NER R   99.90 \n",
      "NER F   98.21 \n",
      "SPEED   4344  \n",
      "\n",
      "\u001b[1m\n",
      "=============================== NER (per type) ===============================\u001b[0m\n",
      "\n",
      "               P       R       F\n",
      "PART_NUM   96.57   99.90   98.21\n",
      "\n"
     ]
    }
   ],
   "source": [
    "!python -m spacy evaluate output/gpu_aug/model-last ./test_aug.spacy --gpu-id 0"
   ]
  },
  {
   "cell_type": "code",
   "execution_count": 219,
   "id": "48ed7541",
   "metadata": {
    "ExecuteTime": {
     "end_time": "2021-08-25T07:30:08.018781Z",
     "start_time": "2021-08-25T07:30:05.813099Z"
    }
   },
   "outputs": [],
   "source": [
    "nlp = spacy.load(\"output/gpu_aug/model-best\") "
   ]
  },
  {
   "cell_type": "code",
   "execution_count": 220,
   "id": "adb71f1e",
   "metadata": {
    "ExecuteTime": {
     "end_time": "2021-08-25T07:30:09.991916Z",
     "start_time": "2021-08-25T07:30:09.978900Z"
    }
   },
   "outputs": [],
   "source": [
    "options = {'colors': {'ACTION':\"#56D7C4\", 'PART_NUM':\"#92E0AA\"} }\n",
    "\n",
    "def show_text(text, annotations=None, options=options, show_detail=True, standardize_text=None):\n",
    "    if standardize_text is not None:\n",
    "        text = standardize_text(text)\n",
    "    doc = nlp(text)\n",
    "    print('='*100)\n",
    "    if show_detail:\n",
    "        print(doc.text) \n",
    "    spacy.displacy.render(doc, style='ent', options=options)\n",
    "    if show_detail and annotations is not None and len(annotations['entities'])>0:\n",
    "        print('-'*25, 'acutal entities', '-'*25)\n",
    "        print(*[(text[start:end], start, end, label) for start, end, label in annotations['entities']], sep='\\n')   \n",
    "    if show_detail and len(doc.ents)>0:\n",
    "        print('-'*25, 'predict entities', '-'*25)\n",
    "        print(*[(ent.text, ent.start_char, ent.end_char, ent.label_) for ent in doc.ents], sep='\\n')      \n",
    "\n",
    "def show_texts(data, indexes=None, options=options, show_detail=True, standardize_text=None):\n",
    "    def show_text_(data):\n",
    "        if isinstance(data, str):\n",
    "            show_text(data, None, options=options, show_detail=show_detail, standardize_text=standardize_text)\n",
    "        else:\n",
    "            text, annotations = data\n",
    "            show_text(text, annotations, options=options, show_detail=show_detail, standardize_text=standardize_text)  \n",
    "            \n",
    "    if indexes is not None:\n",
    "        for i in indexes:\n",
    "            show_text_(data[i])   \n",
    "    else:\n",
    "        for one_data in data: \n",
    "            show_text_(one_data)      \n",
    "    \n",
    "                  "
   ]
  },
  {
   "cell_type": "code",
   "execution_count": 221,
   "id": "2f44d6da",
   "metadata": {
    "ExecuteTime": {
     "end_time": "2021-08-25T07:30:15.051919Z",
     "start_time": "2021-08-25T07:30:14.155377Z"
    },
    "scrolled": false
   },
   "outputs": [
    {
     "name": "stdout",
     "output_type": "stream",
     "text": [
      "====================================================================================================\n",
      "cu said tuesday is better . i told him i would call tuesday morning to verify afternoon appointment , 07/02 . **please assign to julio hernandez **\n"
     ]
    },
    {
     "name": "stderr",
     "output_type": "stream",
     "text": [
      "/usr/local/lib/python3.6/dist-packages/spacy/displacy/__init__.py:191: UserWarning: [W006] No entities to visualize found in Doc object. If this is surprising to you, make sure the Doc was processed using a model that supports named entity recognition, and check the `doc.ents` property manually if necessary.\n",
      "  warnings.warn(Warnings.W006)\n"
     ]
    },
    {
     "data": {
      "text/html": [
       "<span class=\"tex2jax_ignore\"><div class=\"entities\" style=\"line-height: 2.5; direction: ltr\">cu said tuesday is better . i told him i would call tuesday morning to verify afternoon appointment , 07/02 . **please assign to julio hernandez **</div></span>"
      ],
      "text/plain": [
       "<IPython.core.display.HTML object>"
      ]
     },
     "metadata": {},
     "output_type": "display_data"
    },
    {
     "name": "stdout",
     "output_type": "stream",
     "text": [
      "====================================================================================================\n",
      "ordering adf pickup roll ( jc97-04650a ) and separation roll ( jc97-04915a ) . dch . #normal please send this call to doug houseknecht\n"
     ]
    },
    {
     "data": {
      "text/html": [
       "<span class=\"tex2jax_ignore\"><div class=\"entities\" style=\"line-height: 2.5; direction: ltr\">ordering adf pickup roll ( \n",
       "<mark class=\"entity\" style=\"background: #92E0AA; padding: 0.45em 0.6em; margin: 0 0.25em; line-height: 1; border-radius: 0.35em;\">\n",
       "    jc97-04650a\n",
       "    <span style=\"font-size: 0.8em; font-weight: bold; line-height: 1; border-radius: 0.35em; vertical-align: middle; margin-left: 0.5rem\">PART_NUM</span>\n",
       "</mark>\n",
       " ) and separation roll ( \n",
       "<mark class=\"entity\" style=\"background: #92E0AA; padding: 0.45em 0.6em; margin: 0 0.25em; line-height: 1; border-radius: 0.35em;\">\n",
       "    jc97-04915a\n",
       "    <span style=\"font-size: 0.8em; font-weight: bold; line-height: 1; border-radius: 0.35em; vertical-align: middle; margin-left: 0.5rem\">PART_NUM</span>\n",
       "</mark>\n",
       " ) . dch . #normal please send this call to doug houseknecht</div></span>"
      ],
      "text/plain": [
       "<IPython.core.display.HTML object>"
      ]
     },
     "metadata": {},
     "output_type": "display_data"
    },
    {
     "name": "stdout",
     "output_type": "stream",
     "text": [
      "------------------------- acutal entities -------------------------\n",
      "('jc97-04650a', 27, 38, 'PART_NUM')\n",
      "('jc97-04915a', 63, 74, 'PART_NUM')\n",
      "------------------------- predict entities -------------------------\n",
      "('jc97-04650a', 27, 38, 'PART_NUM')\n",
      "('jc97-04915a', 63, 74, 'PART_NUM')\n",
      "====================================================================================================\n",
      "6/29 - dm rich ficek request to assign this to david gibson . thanks 7/1 bad tracking info , escalated to em for clarification . part is in unknown status , unable to pick up . 7/2 still waiting on parts back to me at some point . 500 sheet feeder to south holl\n"
     ]
    },
    {
     "data": {
      "text/html": [
       "<span class=\"tex2jax_ignore\"><div class=\"entities\" style=\"line-height: 2.5; direction: ltr\">6/29 - dm rich ficek request to assign this to david gibson . thanks 7/1 bad tracking info , escalated to em for clarification . part is in unknown status , unable to pick up . 7/2 still waiting on parts back to me at some point . 500 sheet feeder to south holl</div></span>"
      ],
      "text/plain": [
       "<IPython.core.display.HTML object>"
      ]
     },
     "metadata": {},
     "output_type": "display_data"
    },
    {
     "name": "stdout",
     "output_type": "stream",
     "text": [
      "====================================================================================================\n",
      "i arrived onsite and spoke with deborah . richard was not in today and she was not sure which system this was for . she let me try to find it out on the floor but i was not able to . richard will be in on tuesday so i will speak to him then . the phone number\n"
     ]
    },
    {
     "data": {
      "text/html": [
       "<span class=\"tex2jax_ignore\"><div class=\"entities\" style=\"line-height: 2.5; direction: ltr\">i arrived onsite and spoke with deborah . richard was not in today and she was not sure which system this was for . she let me try to find it out on the floor but i was not able to . richard will be in on tuesday so i will speak to him then . the phone number</div></span>"
      ],
      "text/plain": [
       "<IPython.core.display.HTML object>"
      ]
     },
     "metadata": {},
     "output_type": "display_data"
    },
    {
     "name": "stdout",
     "output_type": "stream",
     "text": [
      "====================================================================================================\n",
      "please order part and send to my hfpu 795970-002\n"
     ]
    },
    {
     "data": {
      "text/html": [
       "<span class=\"tex2jax_ignore\"><div class=\"entities\" style=\"line-height: 2.5; direction: ltr\">please order part and send to my hfpu \n",
       "<mark class=\"entity\" style=\"background: #92E0AA; padding: 0.45em 0.6em; margin: 0 0.25em; line-height: 1; border-radius: 0.35em;\">\n",
       "    795970-002\n",
       "    <span style=\"font-size: 0.8em; font-weight: bold; line-height: 1; border-radius: 0.35em; vertical-align: middle; margin-left: 0.5rem\">PART_NUM</span>\n",
       "</mark>\n",
       "</div></span>"
      ],
      "text/plain": [
       "<IPython.core.display.HTML object>"
      ]
     },
     "metadata": {},
     "output_type": "display_data"
    },
    {
     "name": "stdout",
     "output_type": "stream",
     "text": [
      "------------------------- acutal entities -------------------------\n",
      "('795970-002', 38, 48, 'PART_NUM')\n",
      "------------------------- predict entities -------------------------\n",
      "('795970-002', 38, 48, 'PART_NUM')\n",
      "====================================================================================================\n",
      "please order these parts for this machine . # rm2-5758-000cn cassette . #normal please order part number # rm2-2585-000cn . and part # rm2-5752-000cn\n"
     ]
    },
    {
     "data": {
      "text/html": [
       "<span class=\"tex2jax_ignore\"><div class=\"entities\" style=\"line-height: 2.5; direction: ltr\">please order these parts for this machine . # \n",
       "<mark class=\"entity\" style=\"background: #92E0AA; padding: 0.45em 0.6em; margin: 0 0.25em; line-height: 1; border-radius: 0.35em;\">\n",
       "    rm2-5758-000cn\n",
       "    <span style=\"font-size: 0.8em; font-weight: bold; line-height: 1; border-radius: 0.35em; vertical-align: middle; margin-left: 0.5rem\">PART_NUM</span>\n",
       "</mark>\n",
       " cassette . #normal please order part number # \n",
       "<mark class=\"entity\" style=\"background: #92E0AA; padding: 0.45em 0.6em; margin: 0 0.25em; line-height: 1; border-radius: 0.35em;\">\n",
       "    rm2-2585-000cn\n",
       "    <span style=\"font-size: 0.8em; font-weight: bold; line-height: 1; border-radius: 0.35em; vertical-align: middle; margin-left: 0.5rem\">PART_NUM</span>\n",
       "</mark>\n",
       " . and part # \n",
       "<mark class=\"entity\" style=\"background: #92E0AA; padding: 0.45em 0.6em; margin: 0 0.25em; line-height: 1; border-radius: 0.35em;\">\n",
       "    rm2-5752-000cn\n",
       "    <span style=\"font-size: 0.8em; font-weight: bold; line-height: 1; border-radius: 0.35em; vertical-align: middle; margin-left: 0.5rem\">PART_NUM</span>\n",
       "</mark>\n",
       "</div></span>"
      ],
      "text/plain": [
       "<IPython.core.display.HTML object>"
      ]
     },
     "metadata": {},
     "output_type": "display_data"
    },
    {
     "name": "stdout",
     "output_type": "stream",
     "text": [
      "------------------------- acutal entities -------------------------\n",
      "('rm2-5758-000cn', 46, 60, 'PART_NUM')\n",
      "('rm2-2585-000cn', 107, 121, 'PART_NUM')\n",
      "('rm2-5752-000cn', 135, 149, 'PART_NUM')\n",
      "------------------------- predict entities -------------------------\n",
      "('rm2-5758-000cn', 46, 60, 'PART_NUM')\n",
      "('rm2-2585-000cn', 107, 121, 'PART_NUM')\n",
      "('rm2-5752-000cn', 135, 149, 'PART_NUM')\n",
      "====================================================================================================\n",
      "please order part number z7y75-67001 to my hold for pickup in charleston\n"
     ]
    },
    {
     "data": {
      "text/html": [
       "<span class=\"tex2jax_ignore\"><div class=\"entities\" style=\"line-height: 2.5; direction: ltr\">please order part number \n",
       "<mark class=\"entity\" style=\"background: #92E0AA; padding: 0.45em 0.6em; margin: 0 0.25em; line-height: 1; border-radius: 0.35em;\">\n",
       "    z7y75-67001\n",
       "    <span style=\"font-size: 0.8em; font-weight: bold; line-height: 1; border-radius: 0.35em; vertical-align: middle; margin-left: 0.5rem\">PART_NUM</span>\n",
       "</mark>\n",
       " to my hold for pickup in charleston</div></span>"
      ],
      "text/plain": [
       "<IPython.core.display.HTML object>"
      ]
     },
     "metadata": {},
     "output_type": "display_data"
    },
    {
     "name": "stdout",
     "output_type": "stream",
     "text": [
      "------------------------- acutal entities -------------------------\n",
      "('z7y75-67001', 25, 36, 'PART_NUM')\n",
      "------------------------- predict entities -------------------------\n",
      "('z7y75-67001', 25, 36, 'PART_NUM')\n",
      "====================================================================================================\n",
      "please assign to jeremy gangl\n"
     ]
    },
    {
     "data": {
      "text/html": [
       "<span class=\"tex2jax_ignore\"><div class=\"entities\" style=\"line-height: 2.5; direction: ltr\">please assign to jeremy gangl</div></span>"
      ],
      "text/plain": [
       "<IPython.core.display.HTML object>"
      ]
     },
     "metadata": {},
     "output_type": "display_data"
    },
    {
     "name": "stdout",
     "output_type": "stream",
     "text": [
      "====================================================================================================\n",
      "wrong part was delivered can you please order part no jc97-04907a . please move parts over to new ticket . \n"
     ]
    },
    {
     "data": {
      "text/html": [
       "<span class=\"tex2jax_ignore\"><div class=\"entities\" style=\"line-height: 2.5; direction: ltr\">wrong part was delivered can you please order part no \n",
       "<mark class=\"entity\" style=\"background: #92E0AA; padding: 0.45em 0.6em; margin: 0 0.25em; line-height: 1; border-radius: 0.35em;\">\n",
       "    jc97-04907a\n",
       "    <span style=\"font-size: 0.8em; font-weight: bold; line-height: 1; border-radius: 0.35em; vertical-align: middle; margin-left: 0.5rem\">PART_NUM</span>\n",
       "</mark>\n",
       " . please move parts over to new ticket . </div></span>"
      ],
      "text/plain": [
       "<IPython.core.display.HTML object>"
      ]
     },
     "metadata": {},
     "output_type": "display_data"
    },
    {
     "name": "stdout",
     "output_type": "stream",
     "text": [
      "------------------------- acutal entities -------------------------\n",
      "('jc97-04907a', 54, 65, 'PART_NUM')\n",
      "------------------------- predict entities -------------------------\n",
      "('jc97-04907a', 54, 65, 'PART_NUM')\n",
      "====================================================================================================\n",
      "please reassign to francisco noyola . he is aware of reassign . \n"
     ]
    },
    {
     "data": {
      "text/html": [
       "<span class=\"tex2jax_ignore\"><div class=\"entities\" style=\"line-height: 2.5; direction: ltr\">please reassign to francisco noyola . he is aware of reassign . </div></span>"
      ],
      "text/plain": [
       "<IPython.core.display.HTML object>"
      ]
     },
     "metadata": {},
     "output_type": "display_data"
    }
   ],
   "source": [
    "indexes = np.random.randint(0, len(test_data), 10)\n",
    "show_texts(test_data, indexes) "
   ]
  },
  {
   "cell_type": "code",
   "execution_count": 222,
   "id": "3ee606ad",
   "metadata": {
    "ExecuteTime": {
     "end_time": "2021-08-25T07:30:26.590492Z",
     "start_time": "2021-08-25T07:30:25.725130Z"
    },
    "scrolled": false
   },
   "outputs": [
    {
     "name": "stdout",
     "output_type": "stream",
     "text": [
      "====================================================================================================\n"
     ]
    },
    {
     "data": {
      "text/html": [
       "<span class=\"tex2jax_ignore\"><div class=\"entities\" style=\"line-height: 2.5; direction: ltr\">cu said tuesday is better . i told him i would call tuesday morning to verify afternoon appointment , 07/02 . **please assign to julio hernandez **</div></span>"
      ],
      "text/plain": [
       "<IPython.core.display.HTML object>"
      ]
     },
     "metadata": {},
     "output_type": "display_data"
    },
    {
     "name": "stdout",
     "output_type": "stream",
     "text": [
      "====================================================================================================\n"
     ]
    },
    {
     "data": {
      "text/html": [
       "<span class=\"tex2jax_ignore\"><div class=\"entities\" style=\"line-height: 2.5; direction: ltr\">ordering adf pickup roll ( \n",
       "<mark class=\"entity\" style=\"background: #92E0AA; padding: 0.45em 0.6em; margin: 0 0.25em; line-height: 1; border-radius: 0.35em;\">\n",
       "    jc97-04650a\n",
       "    <span style=\"font-size: 0.8em; font-weight: bold; line-height: 1; border-radius: 0.35em; vertical-align: middle; margin-left: 0.5rem\">PART_NUM</span>\n",
       "</mark>\n",
       " ) and separation roll ( \n",
       "<mark class=\"entity\" style=\"background: #92E0AA; padding: 0.45em 0.6em; margin: 0 0.25em; line-height: 1; border-radius: 0.35em;\">\n",
       "    jc97-04915a\n",
       "    <span style=\"font-size: 0.8em; font-weight: bold; line-height: 1; border-radius: 0.35em; vertical-align: middle; margin-left: 0.5rem\">PART_NUM</span>\n",
       "</mark>\n",
       " ) . dch . #normal please send this call to doug houseknecht</div></span>"
      ],
      "text/plain": [
       "<IPython.core.display.HTML object>"
      ]
     },
     "metadata": {},
     "output_type": "display_data"
    },
    {
     "name": "stdout",
     "output_type": "stream",
     "text": [
      "====================================================================================================\n"
     ]
    },
    {
     "data": {
      "text/html": [
       "<span class=\"tex2jax_ignore\"><div class=\"entities\" style=\"line-height: 2.5; direction: ltr\">6/29 - dm rich ficek request to assign this to david gibson . thanks 7/1 bad tracking info , escalated to em for clarification . part is in unknown status , unable to pick up . 7/2 still waiting on parts back to me at some point . 500 sheet feeder to south holl</div></span>"
      ],
      "text/plain": [
       "<IPython.core.display.HTML object>"
      ]
     },
     "metadata": {},
     "output_type": "display_data"
    },
    {
     "name": "stdout",
     "output_type": "stream",
     "text": [
      "====================================================================================================\n"
     ]
    },
    {
     "data": {
      "text/html": [
       "<span class=\"tex2jax_ignore\"><div class=\"entities\" style=\"line-height: 2.5; direction: ltr\">i arrived onsite and spoke with deborah . richard was not in today and she was not sure which system this was for . she let me try to find it out on the floor but i was not able to . richard will be in on tuesday so i will speak to him then . the phone number</div></span>"
      ],
      "text/plain": [
       "<IPython.core.display.HTML object>"
      ]
     },
     "metadata": {},
     "output_type": "display_data"
    },
    {
     "name": "stdout",
     "output_type": "stream",
     "text": [
      "====================================================================================================\n"
     ]
    },
    {
     "data": {
      "text/html": [
       "<span class=\"tex2jax_ignore\"><div class=\"entities\" style=\"line-height: 2.5; direction: ltr\">please order part and send to my hfpu \n",
       "<mark class=\"entity\" style=\"background: #92E0AA; padding: 0.45em 0.6em; margin: 0 0.25em; line-height: 1; border-radius: 0.35em;\">\n",
       "    795970-002\n",
       "    <span style=\"font-size: 0.8em; font-weight: bold; line-height: 1; border-radius: 0.35em; vertical-align: middle; margin-left: 0.5rem\">PART_NUM</span>\n",
       "</mark>\n",
       "</div></span>"
      ],
      "text/plain": [
       "<IPython.core.display.HTML object>"
      ]
     },
     "metadata": {},
     "output_type": "display_data"
    },
    {
     "name": "stdout",
     "output_type": "stream",
     "text": [
      "====================================================================================================\n"
     ]
    },
    {
     "data": {
      "text/html": [
       "<span class=\"tex2jax_ignore\"><div class=\"entities\" style=\"line-height: 2.5; direction: ltr\">please order these parts for this machine . # \n",
       "<mark class=\"entity\" style=\"background: #92E0AA; padding: 0.45em 0.6em; margin: 0 0.25em; line-height: 1; border-radius: 0.35em;\">\n",
       "    rm2-5758-000cn\n",
       "    <span style=\"font-size: 0.8em; font-weight: bold; line-height: 1; border-radius: 0.35em; vertical-align: middle; margin-left: 0.5rem\">PART_NUM</span>\n",
       "</mark>\n",
       " cassette . #normal please order part number # \n",
       "<mark class=\"entity\" style=\"background: #92E0AA; padding: 0.45em 0.6em; margin: 0 0.25em; line-height: 1; border-radius: 0.35em;\">\n",
       "    rm2-2585-000cn\n",
       "    <span style=\"font-size: 0.8em; font-weight: bold; line-height: 1; border-radius: 0.35em; vertical-align: middle; margin-left: 0.5rem\">PART_NUM</span>\n",
       "</mark>\n",
       " . and part # \n",
       "<mark class=\"entity\" style=\"background: #92E0AA; padding: 0.45em 0.6em; margin: 0 0.25em; line-height: 1; border-radius: 0.35em;\">\n",
       "    rm2-5752-000cn\n",
       "    <span style=\"font-size: 0.8em; font-weight: bold; line-height: 1; border-radius: 0.35em; vertical-align: middle; margin-left: 0.5rem\">PART_NUM</span>\n",
       "</mark>\n",
       "</div></span>"
      ],
      "text/plain": [
       "<IPython.core.display.HTML object>"
      ]
     },
     "metadata": {},
     "output_type": "display_data"
    },
    {
     "name": "stdout",
     "output_type": "stream",
     "text": [
      "====================================================================================================\n"
     ]
    },
    {
     "data": {
      "text/html": [
       "<span class=\"tex2jax_ignore\"><div class=\"entities\" style=\"line-height: 2.5; direction: ltr\">please order part number \n",
       "<mark class=\"entity\" style=\"background: #92E0AA; padding: 0.45em 0.6em; margin: 0 0.25em; line-height: 1; border-radius: 0.35em;\">\n",
       "    z7y75-67001\n",
       "    <span style=\"font-size: 0.8em; font-weight: bold; line-height: 1; border-radius: 0.35em; vertical-align: middle; margin-left: 0.5rem\">PART_NUM</span>\n",
       "</mark>\n",
       " to my hold for pickup in charleston</div></span>"
      ],
      "text/plain": [
       "<IPython.core.display.HTML object>"
      ]
     },
     "metadata": {},
     "output_type": "display_data"
    },
    {
     "name": "stdout",
     "output_type": "stream",
     "text": [
      "====================================================================================================\n"
     ]
    },
    {
     "data": {
      "text/html": [
       "<span class=\"tex2jax_ignore\"><div class=\"entities\" style=\"line-height: 2.5; direction: ltr\">please assign to jeremy gangl</div></span>"
      ],
      "text/plain": [
       "<IPython.core.display.HTML object>"
      ]
     },
     "metadata": {},
     "output_type": "display_data"
    },
    {
     "name": "stdout",
     "output_type": "stream",
     "text": [
      "====================================================================================================\n"
     ]
    },
    {
     "data": {
      "text/html": [
       "<span class=\"tex2jax_ignore\"><div class=\"entities\" style=\"line-height: 2.5; direction: ltr\">wrong part was delivered can you please order part no \n",
       "<mark class=\"entity\" style=\"background: #92E0AA; padding: 0.45em 0.6em; margin: 0 0.25em; line-height: 1; border-radius: 0.35em;\">\n",
       "    jc97-04907a\n",
       "    <span style=\"font-size: 0.8em; font-weight: bold; line-height: 1; border-radius: 0.35em; vertical-align: middle; margin-left: 0.5rem\">PART_NUM</span>\n",
       "</mark>\n",
       " . please move parts over to new ticket . </div></span>"
      ],
      "text/plain": [
       "<IPython.core.display.HTML object>"
      ]
     },
     "metadata": {},
     "output_type": "display_data"
    },
    {
     "name": "stdout",
     "output_type": "stream",
     "text": [
      "====================================================================================================\n"
     ]
    },
    {
     "data": {
      "text/html": [
       "<span class=\"tex2jax_ignore\"><div class=\"entities\" style=\"line-height: 2.5; direction: ltr\">please reassign to francisco noyola . he is aware of reassign . </div></span>"
      ],
      "text/plain": [
       "<IPython.core.display.HTML object>"
      ]
     },
     "metadata": {},
     "output_type": "display_data"
    }
   ],
   "source": [
    "show_texts(test_data, indexes, show_detail=False) "
   ]
  },
  {
   "cell_type": "markdown",
   "id": "dfeab3d8",
   "metadata": {},
   "source": [
    "### Check Error Data"
   ]
  },
  {
   "cell_type": "code",
   "execution_count": 223,
   "id": "8c433085",
   "metadata": {
    "ExecuteTime": {
     "end_time": "2021-08-25T07:32:27.262936Z",
     "start_time": "2021-08-25T07:30:32.001913Z"
    }
   },
   "outputs": [
    {
     "name": "stdout",
     "output_type": "stream",
     "text": [
      "89 1\n",
      "281 2\n",
      "408 3\n",
      "462 4\n",
      "548 5\n",
      "561 6\n",
      "573 7\n",
      "599 8\n",
      "645 9\n",
      "691 10\n",
      "705 11\n",
      "721 12\n",
      "785 13\n",
      "834 14\n",
      "1006 15\n",
      "1211 16\n",
      "1227 17\n",
      "1303 18\n",
      "1330 19\n",
      "1366 20\n",
      "1415 21\n",
      "1430 22\n",
      "1519 23\n",
      "1526 24\n"
     ]
    }
   ],
   "source": [
    "def get_error_data(data):\n",
    "    error_data = []\n",
    "    for i in range(len(data)):\n",
    "        text, annotations = data[i]\n",
    "        doc = nlp(text)\n",
    "        entities = annotations['entities']\n",
    "        if len(entities) != len(doc.ents):\n",
    "            error_data.append(data[i])\n",
    "            print(i, len(error_data))\n",
    "        else:\n",
    "            exit_flag = False\n",
    "            actual_entities = {(start, end, label): label for start, end, label in entities}\n",
    "            predict_entities = {(ent.start_char, ent.end_char, ent.label_): ent.label_ \n",
    "                                for ent in doc.ents}\n",
    "            \n",
    "            for key, _ in actual_entities.items():                \n",
    "                if key not in predict_entities:\n",
    "                    print(actual_entities, predict_entities, sep='\\n') \n",
    "                    error_data.append(data[i])\n",
    "                    print(i, len(error_data))\n",
    "                    break\n",
    "            if exit_flag: continue\n",
    "            for key, _ in predict_entities.items():\n",
    "                if key not in actual_entities:\n",
    "                    print(actual_entities, predict_entities)\n",
    "                    error_data.append(data[i])\n",
    "                    print(i, len(error_data))\n",
    "                    break\n",
    "                \n",
    "    return error_data\n",
    "\n",
    "error_data = get_error_data(test_data)"
   ]
  },
  {
   "cell_type": "code",
   "execution_count": 224,
   "id": "19e81a75",
   "metadata": {
    "ExecuteTime": {
     "end_time": "2021-08-25T07:33:45.438706Z",
     "start_time": "2021-08-25T07:33:45.435258Z"
    }
   },
   "outputs": [
    {
     "name": "stdout",
     "output_type": "stream",
     "text": [
      "24\n"
     ]
    }
   ],
   "source": [
    "print(len(error_data))"
   ]
  },
  {
   "cell_type": "code",
   "execution_count": 225,
   "id": "5846698d",
   "metadata": {
    "ExecuteTime": {
     "end_time": "2021-08-25T07:33:50.938393Z",
     "start_time": "2021-08-25T07:33:48.381168Z"
    },
    "scrolled": false
   },
   "outputs": [
    {
     "name": "stdout",
     "output_type": "stream",
     "text": [
      "====================================================================================================\n",
      "revisit 7/9 please order dell-snpcrxj6c to san diego hal . please refer part order to multivendor team - dell diagnosis - failed memory diagnostics . waiting for user , but never returned call back . \n"
     ]
    },
    {
     "data": {
      "text/html": [
       "<span class=\"tex2jax_ignore\"><div class=\"entities\" style=\"line-height: 2.5; direction: ltr\">revisit 7/9 please order \n",
       "<mark class=\"entity\" style=\"background: #92E0AA; padding: 0.45em 0.6em; margin: 0 0.25em; line-height: 1; border-radius: 0.35em;\">\n",
       "    dell-snpcrxj6c\n",
       "    <span style=\"font-size: 0.8em; font-weight: bold; line-height: 1; border-radius: 0.35em; vertical-align: middle; margin-left: 0.5rem\">PART_NUM</span>\n",
       "</mark>\n",
       " to san diego hal . please refer part order to multivendor team - dell diagnosis - failed memory diagnostics . waiting for user , but never returned call back . </div></span>"
      ],
      "text/plain": [
       "<IPython.core.display.HTML object>"
      ]
     },
     "metadata": {},
     "output_type": "display_data"
    },
    {
     "name": "stdout",
     "output_type": "stream",
     "text": [
      "------------------------- predict entities -------------------------\n",
      "('dell-snpcrxj6c', 25, 39, 'PART_NUM')\n",
      "====================================================================================================\n",
      "7/1/21 16:28 jo ; emailed hp mps team to please reassign this wo . the adm jose de sousa has directed us not to service any of these models . per adm , &quot ; if we get any call for the models below it should not go to blm – they are new canon devices and are . 7/1/21 16:28 jo ; emailed hp mps team to please reassign this wo . the adm jose de sousa has directed us not to service any of these models . per adm , &quot ; if we get any call for the models below it should not go to blm – they are new canon devices and are\n"
     ]
    },
    {
     "data": {
      "text/html": [
       "<span class=\"tex2jax_ignore\"><div class=\"entities\" style=\"line-height: 2.5; direction: ltr\">7/1/21 16:28 jo ; emailed hp mps team to please reassign this wo . the adm jose de sousa has directed us not to service any of these models . per adm , &amp;quot ; if we get any call for the models below it should not go to blm \n",
       "<mark class=\"entity\" style=\"background: #92E0AA; padding: 0.45em 0.6em; margin: 0 0.25em; line-height: 1; border-radius: 0.35em;\">\n",
       "    – they\n",
       "    <span style=\"font-size: 0.8em; font-weight: bold; line-height: 1; border-radius: 0.35em; vertical-align: middle; margin-left: 0.5rem\">PART_NUM</span>\n",
       "</mark>\n",
       " are new canon devices and are . 7/1/21 16:28 jo ; emailed hp mps team to please reassign this wo . the adm jose de sousa has directed us not to service any of these models . per adm , &amp;quot ; if we get any call for the models below it should not go to blm \n",
       "<mark class=\"entity\" style=\"background: #92E0AA; padding: 0.45em 0.6em; margin: 0 0.25em; line-height: 1; border-radius: 0.35em;\">\n",
       "    – they\n",
       "    <span style=\"font-size: 0.8em; font-weight: bold; line-height: 1; border-radius: 0.35em; vertical-align: middle; margin-left: 0.5rem\">PART_NUM</span>\n",
       "</mark>\n",
       " are new canon devices and are</div></span>"
      ],
      "text/plain": [
       "<IPython.core.display.HTML object>"
      ]
     },
     "metadata": {},
     "output_type": "display_data"
    },
    {
     "name": "stdout",
     "output_type": "stream",
     "text": [
      "------------------------- predict entities -------------------------\n",
      "('– they', 224, 230, 'PART_NUM')\n",
      "('– they', 487, 493, 'PART_NUM')\n",
      "====================================================================================================\n",
      "please clone . room: f4535-surf permit\n"
     ]
    },
    {
     "data": {
      "text/html": [
       "<span class=\"tex2jax_ignore\"><div class=\"entities\" style=\"line-height: 2.5; direction: ltr\">please clone . room: \n",
       "<mark class=\"entity\" style=\"background: #92E0AA; padding: 0.45em 0.6em; margin: 0 0.25em; line-height: 1; border-radius: 0.35em;\">\n",
       "    f4535-surf\n",
       "    <span style=\"font-size: 0.8em; font-weight: bold; line-height: 1; border-radius: 0.35em; vertical-align: middle; margin-left: 0.5rem\">PART_NUM</span>\n",
       "</mark>\n",
       " permit</div></span>"
      ],
      "text/plain": [
       "<IPython.core.display.HTML object>"
      ]
     },
     "metadata": {},
     "output_type": "display_data"
    },
    {
     "name": "stdout",
     "output_type": "stream",
     "text": [
      "------------------------- predict entities -------------------------\n",
      "('f4535-surf', 21, 31, 'PART_NUM')\n",
      "====================================================================================================\n",
      "1- 1702nk0un0 ( mk-6325 maintenance kit ) shipping address: 364 vance avenue , samoa , ca 95564\n"
     ]
    },
    {
     "data": {
      "text/html": [
       "<span class=\"tex2jax_ignore\"><div class=\"entities\" style=\"line-height: 2.5; direction: ltr\">1- 1702nk0un0 ( \n",
       "<mark class=\"entity\" style=\"background: #92E0AA; padding: 0.45em 0.6em; margin: 0 0.25em; line-height: 1; border-radius: 0.35em;\">\n",
       "    mk-6325\n",
       "    <span style=\"font-size: 0.8em; font-weight: bold; line-height: 1; border-radius: 0.35em; vertical-align: middle; margin-left: 0.5rem\">PART_NUM</span>\n",
       "</mark>\n",
       " maintenance kit ) shipping address: 364 vance avenue , samoa , ca 95564</div></span>"
      ],
      "text/plain": [
       "<IPython.core.display.HTML object>"
      ]
     },
     "metadata": {},
     "output_type": "display_data"
    },
    {
     "name": "stdout",
     "output_type": "stream",
     "text": [
      "------------------------- predict entities -------------------------\n",
      "('mk-6325', 16, 23, 'PART_NUM')\n",
      "====================================================================================================\n",
      "pls order: l0h24-67901 fuser - 110v -tray 2–x roller kit j8j70-67904 -registration assy rm2-6774-000cn nbd to dflt hal pompano . thanks . \n"
     ]
    },
    {
     "data": {
      "text/html": [
       "<span class=\"tex2jax_ignore\"><div class=\"entities\" style=\"line-height: 2.5; direction: ltr\">pls order: l0h24-67901 fuser - 110v -tray 2\n",
       "<mark class=\"entity\" style=\"background: #92E0AA; padding: 0.45em 0.6em; margin: 0 0.25em; line-height: 1; border-radius: 0.35em;\">\n",
       "    –x\n",
       "    <span style=\"font-size: 0.8em; font-weight: bold; line-height: 1; border-radius: 0.35em; vertical-align: middle; margin-left: 0.5rem\">PART_NUM</span>\n",
       "</mark>\n",
       " roller kit \n",
       "<mark class=\"entity\" style=\"background: #92E0AA; padding: 0.45em 0.6em; margin: 0 0.25em; line-height: 1; border-radius: 0.35em;\">\n",
       "    j8j70-67904\n",
       "    <span style=\"font-size: 0.8em; font-weight: bold; line-height: 1; border-radius: 0.35em; vertical-align: middle; margin-left: 0.5rem\">PART_NUM</span>\n",
       "</mark>\n",
       " -registration assy \n",
       "<mark class=\"entity\" style=\"background: #92E0AA; padding: 0.45em 0.6em; margin: 0 0.25em; line-height: 1; border-radius: 0.35em;\">\n",
       "    rm2-6774-000cn\n",
       "    <span style=\"font-size: 0.8em; font-weight: bold; line-height: 1; border-radius: 0.35em; vertical-align: middle; margin-left: 0.5rem\">PART_NUM</span>\n",
       "</mark>\n",
       " nbd to dflt hal pompano . thanks . </div></span>"
      ],
      "text/plain": [
       "<IPython.core.display.HTML object>"
      ]
     },
     "metadata": {},
     "output_type": "display_data"
    },
    {
     "name": "stdout",
     "output_type": "stream",
     "text": [
      "------------------------- acutal entities -------------------------\n",
      "('j8j70-67904', 57, 68, 'PART_NUM')\n",
      "('rm2-6774-000cn', 88, 102, 'PART_NUM')\n",
      "------------------------- predict entities -------------------------\n",
      "('–x', 43, 45, 'PART_NUM')\n",
      "('j8j70-67904', 57, 68, 'PART_NUM')\n",
      "('rm2-6774-000cn', 88, 102, 'PART_NUM')\n",
      "====================================================================================================\n",
      "please order part number jc-97-04863a to be shipped to c2bl for tomorrow am\n"
     ]
    },
    {
     "data": {
      "text/html": [
       "<span class=\"tex2jax_ignore\"><div class=\"entities\" style=\"line-height: 2.5; direction: ltr\">please order part number \n",
       "<mark class=\"entity\" style=\"background: #92E0AA; padding: 0.45em 0.6em; margin: 0 0.25em; line-height: 1; border-radius: 0.35em;\">\n",
       "    jc-97-04863a\n",
       "    <span style=\"font-size: 0.8em; font-weight: bold; line-height: 1; border-radius: 0.35em; vertical-align: middle; margin-left: 0.5rem\">PART_NUM</span>\n",
       "</mark>\n",
       " to be shipped to c2bl for tomorrow am</div></span>"
      ],
      "text/plain": [
       "<IPython.core.display.HTML object>"
      ]
     },
     "metadata": {},
     "output_type": "display_data"
    },
    {
     "name": "stdout",
     "output_type": "stream",
     "text": [
      "------------------------- predict entities -------------------------\n",
      "('jc-97-04863a', 25, 37, 'PART_NUM')\n",
      "====================================================================================================\n",
      "please clone and transfer the part to the cloned case . . #normal please order jc97-04650a to the baton rouge hal . mike try these site contacts .   haleigh – 225-663-4041 – haleigh_a_winston kayla – 225-663-4031 – kayla_r_naquin\n"
     ]
    },
    {
     "data": {
      "text/html": [
       "<span class=\"tex2jax_ignore\"><div class=\"entities\" style=\"line-height: 2.5; direction: ltr\">please clone and transfer the part to the cloned case . . #normal please order \n",
       "<mark class=\"entity\" style=\"background: #92E0AA; padding: 0.45em 0.6em; margin: 0 0.25em; line-height: 1; border-radius: 0.35em;\">\n",
       "    jc97-04650a\n",
       "    <span style=\"font-size: 0.8em; font-weight: bold; line-height: 1; border-radius: 0.35em; vertical-align: middle; margin-left: 0.5rem\">PART_NUM</span>\n",
       "</mark>\n",
       " to the baton rouge hal . mike try these site contacts .   haleigh \n",
       "<mark class=\"entity\" style=\"background: #92E0AA; padding: 0.45em 0.6em; margin: 0 0.25em; line-height: 1; border-radius: 0.35em;\">\n",
       "    – \n",
       "    <span style=\"font-size: 0.8em; font-weight: bold; line-height: 1; border-radius: 0.35em; vertical-align: middle; margin-left: 0.5rem\">PART_NUM</span>\n",
       "</mark>\n",
       "225-663-4041 \n",
       "<mark class=\"entity\" style=\"background: #92E0AA; padding: 0.45em 0.6em; margin: 0 0.25em; line-height: 1; border-radius: 0.35em;\">\n",
       "    – haleigh_a_winston\n",
       "    <span style=\"font-size: 0.8em; font-weight: bold; line-height: 1; border-radius: 0.35em; vertical-align: middle; margin-left: 0.5rem\">PART_NUM</span>\n",
       "</mark>\n",
       " kayla \n",
       "<mark class=\"entity\" style=\"background: #92E0AA; padding: 0.45em 0.6em; margin: 0 0.25em; line-height: 1; border-radius: 0.35em;\">\n",
       "    – \n",
       "    <span style=\"font-size: 0.8em; font-weight: bold; line-height: 1; border-radius: 0.35em; vertical-align: middle; margin-left: 0.5rem\">PART_NUM</span>\n",
       "</mark>\n",
       "225-663-4031 \n",
       "<mark class=\"entity\" style=\"background: #92E0AA; padding: 0.45em 0.6em; margin: 0 0.25em; line-height: 1; border-radius: 0.35em;\">\n",
       "    – kayla_r_naquin\n",
       "    <span style=\"font-size: 0.8em; font-weight: bold; line-height: 1; border-radius: 0.35em; vertical-align: middle; margin-left: 0.5rem\">PART_NUM</span>\n",
       "</mark>\n",
       "</div></span>"
      ],
      "text/plain": [
       "<IPython.core.display.HTML object>"
      ]
     },
     "metadata": {},
     "output_type": "display_data"
    },
    {
     "name": "stdout",
     "output_type": "stream",
     "text": [
      "------------------------- acutal entities -------------------------\n",
      "('jc97-04650a', 79, 90, 'PART_NUM')\n",
      "------------------------- predict entities -------------------------\n",
      "('jc97-04650a', 79, 90, 'PART_NUM')\n",
      "('–\\xa0', 157, 159, 'PART_NUM')\n",
      "('– haleigh_a_winston', 172, 191, 'PART_NUM')\n",
      "('–\\xa0', 198, 200, 'PART_NUM')\n",
      "('– kayla_r_naquin', 213, 229, 'PART_NUM')\n",
      "====================================================================================================\n",
      "please create revisit . please order the following part and send to fedex 4475 n 43rd ave . . . power supply unit – part# 915545-001 . please send this to thomas snelling\n"
     ]
    },
    {
     "data": {
      "text/html": [
       "<span class=\"tex2jax_ignore\"><div class=\"entities\" style=\"line-height: 2.5; direction: ltr\">please create revisit . please order the following part and send to fedex 4475 n 43rd ave . . . power supply unit \n",
       "<mark class=\"entity\" style=\"background: #92E0AA; padding: 0.45em 0.6em; margin: 0 0.25em; line-height: 1; border-radius: 0.35em;\">\n",
       "    – part\n",
       "    <span style=\"font-size: 0.8em; font-weight: bold; line-height: 1; border-radius: 0.35em; vertical-align: middle; margin-left: 0.5rem\">PART_NUM</span>\n",
       "</mark>\n",
       "# \n",
       "<mark class=\"entity\" style=\"background: #92E0AA; padding: 0.45em 0.6em; margin: 0 0.25em; line-height: 1; border-radius: 0.35em;\">\n",
       "    915545-001\n",
       "    <span style=\"font-size: 0.8em; font-weight: bold; line-height: 1; border-radius: 0.35em; vertical-align: middle; margin-left: 0.5rem\">PART_NUM</span>\n",
       "</mark>\n",
       " . please send this to thomas snelling</div></span>"
      ],
      "text/plain": [
       "<IPython.core.display.HTML object>"
      ]
     },
     "metadata": {},
     "output_type": "display_data"
    },
    {
     "name": "stdout",
     "output_type": "stream",
     "text": [
      "------------------------- acutal entities -------------------------\n",
      "('915545-001', 122, 132, 'PART_NUM')\n",
      "------------------------- predict entities -------------------------\n",
      "('– part', 114, 120, 'PART_NUM')\n",
      "('915545-001', 122, 132, 'PART_NUM')\n",
      "====================================================================================================\n",
      "work order is duplicate ofwo-014209729-1 customer has received new battery via ups to his home . waiting for customer to respond to multiple emails and phone calls requesting a time to set up repair outside a boa location . \n"
     ]
    },
    {
     "data": {
      "text/html": [
       "<span class=\"tex2jax_ignore\"><div class=\"entities\" style=\"line-height: 2.5; direction: ltr\">work order is duplicate \n",
       "<mark class=\"entity\" style=\"background: #92E0AA; padding: 0.45em 0.6em; margin: 0 0.25em; line-height: 1; border-radius: 0.35em;\">\n",
       "    ofwo-014209729-1\n",
       "    <span style=\"font-size: 0.8em; font-weight: bold; line-height: 1; border-radius: 0.35em; vertical-align: middle; margin-left: 0.5rem\">PART_NUM</span>\n",
       "</mark>\n",
       " customer has received new battery via ups to his home . waiting for customer to respond to multiple emails and phone calls requesting a time to set up repair outside a boa location . </div></span>"
      ],
      "text/plain": [
       "<IPython.core.display.HTML object>"
      ]
     },
     "metadata": {},
     "output_type": "display_data"
    },
    {
     "name": "stdout",
     "output_type": "stream",
     "text": [
      "------------------------- predict entities -------------------------\n",
      "('ofwo-014209729-1', 24, 40, 'PART_NUM')\n",
      "====================================================================================================\n",
      "please order rm2-6576-00cn hfpu attn edward lee 200 north college st . suite 2785b charlotte nc 28202\n"
     ]
    },
    {
     "data": {
      "text/html": [
       "<span class=\"tex2jax_ignore\"><div class=\"entities\" style=\"line-height: 2.5; direction: ltr\">please order \n",
       "<mark class=\"entity\" style=\"background: #92E0AA; padding: 0.45em 0.6em; margin: 0 0.25em; line-height: 1; border-radius: 0.35em;\">\n",
       "    rm2-6576-00cn\n",
       "    <span style=\"font-size: 0.8em; font-weight: bold; line-height: 1; border-radius: 0.35em; vertical-align: middle; margin-left: 0.5rem\">PART_NUM</span>\n",
       "</mark>\n",
       " hfpu attn edward lee 200 north college st . suite 2785b charlotte nc 28202</div></span>"
      ],
      "text/plain": [
       "<IPython.core.display.HTML object>"
      ]
     },
     "metadata": {},
     "output_type": "display_data"
    },
    {
     "name": "stdout",
     "output_type": "stream",
     "text": [
      "------------------------- predict entities -------------------------\n",
      "('rm2-6576-00cn', 13, 26, 'PART_NUM')\n",
      "====================================================================================================\n",
      "cannot wait for rob to call me back for the other part . will add it after . please order parts: duplex solenoid lex-40x8301 controller board lex-40x9253 ship to hfpu  ( 83004794 ) 16241 s farrell road , lockport , il . 60441 set for friday so i can get the . lex88932563-70157ghh1dy96-lexmark mx511dhe mono mfp printer case: 5068538396 wo-014405153 fw: nh63 . sb . n638 10 . 73 . 39 . 111 w01991 events printer huison sanchez paper jam , open rear door 230 . 03 affecting only multiple users 7/6 costco wholesale\n"
     ]
    },
    {
     "data": {
      "text/html": [
       "<span class=\"tex2jax_ignore\"><div class=\"entities\" style=\"line-height: 2.5; direction: ltr\">cannot wait for rob to call me back for the other part . will add it after . please order parts: duplex solenoid \n",
       "<mark class=\"entity\" style=\"background: #92E0AA; padding: 0.45em 0.6em; margin: 0 0.25em; line-height: 1; border-radius: 0.35em;\">\n",
       "    lex-40x8301\n",
       "    <span style=\"font-size: 0.8em; font-weight: bold; line-height: 1; border-radius: 0.35em; vertical-align: middle; margin-left: 0.5rem\">PART_NUM</span>\n",
       "</mark>\n",
       " controller board \n",
       "<mark class=\"entity\" style=\"background: #92E0AA; padding: 0.45em 0.6em; margin: 0 0.25em; line-height: 1; border-radius: 0.35em;\">\n",
       "    lex-40x9253\n",
       "    <span style=\"font-size: 0.8em; font-weight: bold; line-height: 1; border-radius: 0.35em; vertical-align: middle; margin-left: 0.5rem\">PART_NUM</span>\n",
       "</mark>\n",
       " ship to hfpu  ( 83004794 ) 16241 s farrell road , lockport , il . 60441 set for friday so i can get the . \n",
       "<mark class=\"entity\" style=\"background: #92E0AA; padding: 0.45em 0.6em; margin: 0 0.25em; line-height: 1; border-radius: 0.35em;\">\n",
       "    lex88932563-70157ghh1dy96\n",
       "    <span style=\"font-size: 0.8em; font-weight: bold; line-height: 1; border-radius: 0.35em; vertical-align: middle; margin-left: 0.5rem\">PART_NUM</span>\n",
       "</mark>\n",
       "-lexmark mx511dhe mono mfp printer case: 5068538396 wo-014405153 fw: nh63 . sb . n638 10 . 73 . 39 . 111 w01991 events printer huison sanchez paper jam , open rear door 230 . 03 affecting only multiple users 7/6 costco wholesale</div></span>"
      ],
      "text/plain": [
       "<IPython.core.display.HTML object>"
      ]
     },
     "metadata": {},
     "output_type": "display_data"
    },
    {
     "name": "stdout",
     "output_type": "stream",
     "text": [
      "------------------------- acutal entities -------------------------\n",
      "('lex-40x8301', 113, 124, 'PART_NUM')\n",
      "('lex-40x9253', 142, 153, 'PART_NUM')\n",
      "------------------------- predict entities -------------------------\n",
      "('lex-40x8301', 113, 124, 'PART_NUM')\n",
      "('lex-40x9253', 142, 153, 'PART_NUM')\n",
      "('lex88932563-70157ghh1dy96', 260, 285, 'PART_NUM')\n",
      "====================================================================================================\n",
      "#normal assign 7/16/21 emailed have part emailed repair request . 7/20/21 confirmed appt 👍 . \n"
     ]
    },
    {
     "data": {
      "text/html": [
       "<span class=\"tex2jax_ignore\"><div class=\"entities\" style=\"line-height: 2.5; direction: ltr\">#normal assign 7/16/21 emailed have part emailed repair request . 7/20/21 confirmed appt \n",
       "<mark class=\"entity\" style=\"background: #92E0AA; padding: 0.45em 0.6em; margin: 0 0.25em; line-height: 1; border-radius: 0.35em;\">\n",
       "    👍 .\n",
       "    <span style=\"font-size: 0.8em; font-weight: bold; line-height: 1; border-radius: 0.35em; vertical-align: middle; margin-left: 0.5rem\">PART_NUM</span>\n",
       "</mark>\n",
       " </div></span>"
      ],
      "text/plain": [
       "<IPython.core.display.HTML object>"
      ]
     },
     "metadata": {},
     "output_type": "display_data"
    },
    {
     "name": "stdout",
     "output_type": "stream",
     "text": [
      "------------------------- predict entities -------------------------\n",
      "('👍 .', 89, 92, 'PART_NUM')\n",
      "====================================================================================================\n",
      "please order part cf237yc , qty 1 then please ship to customer: mark shute-941329 , the jm smucker company , 6670 low st , bloomsburg , pa 17815 . rescheduled with mark . \n"
     ]
    },
    {
     "data": {
      "text/html": [
       "<span class=\"tex2jax_ignore\"><div class=\"entities\" style=\"line-height: 2.5; direction: ltr\">please order part cf237yc , qty 1 then please ship to customer: mark \n",
       "<mark class=\"entity\" style=\"background: #92E0AA; padding: 0.45em 0.6em; margin: 0 0.25em; line-height: 1; border-radius: 0.35em;\">\n",
       "    shute-941329\n",
       "    <span style=\"font-size: 0.8em; font-weight: bold; line-height: 1; border-radius: 0.35em; vertical-align: middle; margin-left: 0.5rem\">PART_NUM</span>\n",
       "</mark>\n",
       " , the jm smucker company , 6670 low st , bloomsburg , pa 17815 . rescheduled with mark . </div></span>"
      ],
      "text/plain": [
       "<IPython.core.display.HTML object>"
      ]
     },
     "metadata": {},
     "output_type": "display_data"
    },
    {
     "name": "stdout",
     "output_type": "stream",
     "text": [
      "------------------------- predict entities -------------------------\n",
      "('shute-941329', 69, 81, 'PART_NUM')\n",
      "====================================================================================================\n",
      "please order lcd cable l32713-001 and backlight cable l3291-001 . #normal 7/15 please order lcd cable l32713-001 and backlight cable l3291-001 replaced display and system board but back light is still dim , verified parts and issue with support , signed for jn kp 7/14 parts have not shipped per fedex\n"
     ]
    },
    {
     "data": {
      "text/html": [
       "<span class=\"tex2jax_ignore\"><div class=\"entities\" style=\"line-height: 2.5; direction: ltr\">please order lcd cable \n",
       "<mark class=\"entity\" style=\"background: #92E0AA; padding: 0.45em 0.6em; margin: 0 0.25em; line-height: 1; border-radius: 0.35em;\">\n",
       "    l32713-001\n",
       "    <span style=\"font-size: 0.8em; font-weight: bold; line-height: 1; border-radius: 0.35em; vertical-align: middle; margin-left: 0.5rem\">PART_NUM</span>\n",
       "</mark>\n",
       " and backlight cable \n",
       "<mark class=\"entity\" style=\"background: #92E0AA; padding: 0.45em 0.6em; margin: 0 0.25em; line-height: 1; border-radius: 0.35em;\">\n",
       "    l3291-001\n",
       "    <span style=\"font-size: 0.8em; font-weight: bold; line-height: 1; border-radius: 0.35em; vertical-align: middle; margin-left: 0.5rem\">PART_NUM</span>\n",
       "</mark>\n",
       " . #normal 7/15 please order lcd cable \n",
       "<mark class=\"entity\" style=\"background: #92E0AA; padding: 0.45em 0.6em; margin: 0 0.25em; line-height: 1; border-radius: 0.35em;\">\n",
       "    l32713-001\n",
       "    <span style=\"font-size: 0.8em; font-weight: bold; line-height: 1; border-radius: 0.35em; vertical-align: middle; margin-left: 0.5rem\">PART_NUM</span>\n",
       "</mark>\n",
       " and backlight cable \n",
       "<mark class=\"entity\" style=\"background: #92E0AA; padding: 0.45em 0.6em; margin: 0 0.25em; line-height: 1; border-radius: 0.35em;\">\n",
       "    l3291-001\n",
       "    <span style=\"font-size: 0.8em; font-weight: bold; line-height: 1; border-radius: 0.35em; vertical-align: middle; margin-left: 0.5rem\">PART_NUM</span>\n",
       "</mark>\n",
       " replaced display and system board but back light is still dim , verified parts and issue with support , signed for jn kp 7/14 parts have not shipped per fedex</div></span>"
      ],
      "text/plain": [
       "<IPython.core.display.HTML object>"
      ]
     },
     "metadata": {},
     "output_type": "display_data"
    },
    {
     "name": "stdout",
     "output_type": "stream",
     "text": [
      "------------------------- acutal entities -------------------------\n",
      "('l32713-001', 23, 33, 'PART_NUM')\n",
      "('l32713-001', 102, 112, 'PART_NUM')\n",
      "------------------------- predict entities -------------------------\n",
      "('l32713-001', 23, 33, 'PART_NUM')\n",
      "('l3291-001', 54, 63, 'PART_NUM')\n",
      "('l32713-001', 102, 112, 'PART_NUM')\n",
      "('l3291-001', 133, 142, 'PART_NUM')\n",
      "====================================================================================================\n",
      "need to order nib kit and ecu ( jz09-67077 & g1w39-67001 ) ship to san antonio hal\n"
     ]
    },
    {
     "data": {
      "text/html": [
       "<span class=\"tex2jax_ignore\"><div class=\"entities\" style=\"line-height: 2.5; direction: ltr\">need to order nib kit and ecu ( \n",
       "<mark class=\"entity\" style=\"background: #92E0AA; padding: 0.45em 0.6em; margin: 0 0.25em; line-height: 1; border-radius: 0.35em;\">\n",
       "    jz09-67077\n",
       "    <span style=\"font-size: 0.8em; font-weight: bold; line-height: 1; border-radius: 0.35em; vertical-align: middle; margin-left: 0.5rem\">PART_NUM</span>\n",
       "</mark>\n",
       " &amp; \n",
       "<mark class=\"entity\" style=\"background: #92E0AA; padding: 0.45em 0.6em; margin: 0 0.25em; line-height: 1; border-radius: 0.35em;\">\n",
       "    g1w39-67001\n",
       "    <span style=\"font-size: 0.8em; font-weight: bold; line-height: 1; border-radius: 0.35em; vertical-align: middle; margin-left: 0.5rem\">PART_NUM</span>\n",
       "</mark>\n",
       " ) ship to san antonio hal</div></span>"
      ],
      "text/plain": [
       "<IPython.core.display.HTML object>"
      ]
     },
     "metadata": {},
     "output_type": "display_data"
    },
    {
     "name": "stdout",
     "output_type": "stream",
     "text": [
      "------------------------- acutal entities -------------------------\n",
      "('g1w39-67001', 45, 56, 'PART_NUM')\n",
      "------------------------- predict entities -------------------------\n",
      "('jz09-67077', 32, 42, 'PART_NUM')\n",
      "('g1w39-67001', 45, 56, 'PART_NUM')\n",
      "====================================================================================================\n",
      "please order part x3a74-67902  , jc96-11643a   , x3a73-60018 , nbd delivered to hal . please create follow up for tomorrow at noon . #normal\n"
     ]
    },
    {
     "data": {
      "text/html": [
       "<span class=\"tex2jax_ignore\"><div class=\"entities\" style=\"line-height: 2.5; direction: ltr\">please order part x3a74-67902  , \n",
       "<mark class=\"entity\" style=\"background: #92E0AA; padding: 0.45em 0.6em; margin: 0 0.25em; line-height: 1; border-radius: 0.35em;\">\n",
       "    jc96-11643a\n",
       "    <span style=\"font-size: 0.8em; font-weight: bold; line-height: 1; border-radius: 0.35em; vertical-align: middle; margin-left: 0.5rem\">PART_NUM</span>\n",
       "</mark>\n",
       "   , \n",
       "<mark class=\"entity\" style=\"background: #92E0AA; padding: 0.45em 0.6em; margin: 0 0.25em; line-height: 1; border-radius: 0.35em;\">\n",
       "    x3a73-60018\n",
       "    <span style=\"font-size: 0.8em; font-weight: bold; line-height: 1; border-radius: 0.35em; vertical-align: middle; margin-left: 0.5rem\">PART_NUM</span>\n",
       "</mark>\n",
       " , nbd delivered to hal . please create follow up for tomorrow at noon . #normal</div></span>"
      ],
      "text/plain": [
       "<IPython.core.display.HTML object>"
      ]
     },
     "metadata": {},
     "output_type": "display_data"
    },
    {
     "name": "stdout",
     "output_type": "stream",
     "text": [
      "------------------------- acutal entities -------------------------\n",
      "('x3a73-60018', 49, 60, 'PART_NUM')\n",
      "------------------------- predict entities -------------------------\n",
      "('jc96-11643a', 33, 44, 'PART_NUM')\n",
      "('x3a73-60018', 49, 60, 'PART_NUM')\n",
      "====================================================================================================\n",
      "please clone tranfered parts and add , order part m07092-001 qty 1 to customer site for tuesday morning 🌄 . #normal schedule for tomorrow morning vinny will like me to service this pc next week i know the issue\n"
     ]
    },
    {
     "data": {
      "text/html": [
       "<span class=\"tex2jax_ignore\"><div class=\"entities\" style=\"line-height: 2.5; direction: ltr\">please clone tranfered parts and add , order part \n",
       "<mark class=\"entity\" style=\"background: #92E0AA; padding: 0.45em 0.6em; margin: 0 0.25em; line-height: 1; border-radius: 0.35em;\">\n",
       "    m07092-001\n",
       "    <span style=\"font-size: 0.8em; font-weight: bold; line-height: 1; border-radius: 0.35em; vertical-align: middle; margin-left: 0.5rem\">PART_NUM</span>\n",
       "</mark>\n",
       " qty 1 to customer site for tuesday morning \n",
       "<mark class=\"entity\" style=\"background: #92E0AA; padding: 0.45em 0.6em; margin: 0 0.25em; line-height: 1; border-radius: 0.35em;\">\n",
       "    🌄 .\n",
       "    <span style=\"font-size: 0.8em; font-weight: bold; line-height: 1; border-radius: 0.35em; vertical-align: middle; margin-left: 0.5rem\">PART_NUM</span>\n",
       "</mark>\n",
       " #normal schedule for tomorrow morning vinny will like me to service this pc next week i know the issue</div></span>"
      ],
      "text/plain": [
       "<IPython.core.display.HTML object>"
      ]
     },
     "metadata": {},
     "output_type": "display_data"
    },
    {
     "name": "stdout",
     "output_type": "stream",
     "text": [
      "------------------------- acutal entities -------------------------\n",
      "('m07092-001', 50, 60, 'PART_NUM')\n",
      "------------------------- predict entities -------------------------\n",
      "('m07092-001', 50, 60, 'PART_NUM')\n",
      "('🌄 .', 104, 107, 'PART_NUM')\n",
      "====================================================================================================\n",
      "please clone and order the following to customers location y1g00-6790× . #normal\n"
     ]
    },
    {
     "data": {
      "text/html": [
       "<span class=\"tex2jax_ignore\"><div class=\"entities\" style=\"line-height: 2.5; direction: ltr\">please clone and order the following to customers location \n",
       "<mark class=\"entity\" style=\"background: #92E0AA; padding: 0.45em 0.6em; margin: 0 0.25em; line-height: 1; border-radius: 0.35em;\">\n",
       "    y1g00-6790×\n",
       "    <span style=\"font-size: 0.8em; font-weight: bold; line-height: 1; border-radius: 0.35em; vertical-align: middle; margin-left: 0.5rem\">PART_NUM</span>\n",
       "</mark>\n",
       " . #normal</div></span>"
      ],
      "text/plain": [
       "<IPython.core.display.HTML object>"
      ]
     },
     "metadata": {},
     "output_type": "display_data"
    },
    {
     "name": "stdout",
     "output_type": "stream",
     "text": [
      "------------------------- predict entities -------------------------\n",
      "('y1g00-6790×', 59, 70, 'PART_NUM')\n",
      "====================================================================================================\n",
      "#normal please order part # rm2-5452-000 . please send this call to doug houseknecht\n"
     ]
    },
    {
     "data": {
      "text/html": [
       "<span class=\"tex2jax_ignore\"><div class=\"entities\" style=\"line-height: 2.5; direction: ltr\">#normal please order part # \n",
       "<mark class=\"entity\" style=\"background: #92E0AA; padding: 0.45em 0.6em; margin: 0 0.25em; line-height: 1; border-radius: 0.35em;\">\n",
       "    rm2-5452-000\n",
       "    <span style=\"font-size: 0.8em; font-weight: bold; line-height: 1; border-radius: 0.35em; vertical-align: middle; margin-left: 0.5rem\">PART_NUM</span>\n",
       "</mark>\n",
       " . please send this call to doug houseknecht</div></span>"
      ],
      "text/plain": [
       "<IPython.core.display.HTML object>"
      ]
     },
     "metadata": {},
     "output_type": "display_data"
    },
    {
     "name": "stdout",
     "output_type": "stream",
     "text": [
      "------------------------- predict entities -------------------------\n",
      "('rm2-5452-000', 28, 40, 'PART_NUM')\n",
      "====================================================================================================\n",
      "please pull part lex-40x536 , qty 1 from local fsl\n"
     ]
    },
    {
     "data": {
      "text/html": [
       "<span class=\"tex2jax_ignore\"><div class=\"entities\" style=\"line-height: 2.5; direction: ltr\">please pull part \n",
       "<mark class=\"entity\" style=\"background: #92E0AA; padding: 0.45em 0.6em; margin: 0 0.25em; line-height: 1; border-radius: 0.35em;\">\n",
       "    lex-40x536\n",
       "    <span style=\"font-size: 0.8em; font-weight: bold; line-height: 1; border-radius: 0.35em; vertical-align: middle; margin-left: 0.5rem\">PART_NUM</span>\n",
       "</mark>\n",
       " , qty 1 from local fsl</div></span>"
      ],
      "text/plain": [
       "<IPython.core.display.HTML object>"
      ]
     },
     "metadata": {},
     "output_type": "display_data"
    },
    {
     "name": "stdout",
     "output_type": "stream",
     "text": [
      "------------------------- predict entities -------------------------\n",
      "('lex-40x536', 17, 27, 'PART_NUM')\n",
      "====================================================================================================\n",
      "please order jc97-04907 scanner assembly . #normal 7/13 please order jc97-04907 scanner assembly due to blue lines when scanning through the adf , cleaned adf scanners thoroughly and could not see visible scratches on glass , signed for sc kp\n"
     ]
    },
    {
     "data": {
      "text/html": [
       "<span class=\"tex2jax_ignore\"><div class=\"entities\" style=\"line-height: 2.5; direction: ltr\">please order \n",
       "<mark class=\"entity\" style=\"background: #92E0AA; padding: 0.45em 0.6em; margin: 0 0.25em; line-height: 1; border-radius: 0.35em;\">\n",
       "    jc97-04907\n",
       "    <span style=\"font-size: 0.8em; font-weight: bold; line-height: 1; border-radius: 0.35em; vertical-align: middle; margin-left: 0.5rem\">PART_NUM</span>\n",
       "</mark>\n",
       " scanner assembly . #normal 7/13 please order \n",
       "<mark class=\"entity\" style=\"background: #92E0AA; padding: 0.45em 0.6em; margin: 0 0.25em; line-height: 1; border-radius: 0.35em;\">\n",
       "    jc97-04907\n",
       "    <span style=\"font-size: 0.8em; font-weight: bold; line-height: 1; border-radius: 0.35em; vertical-align: middle; margin-left: 0.5rem\">PART_NUM</span>\n",
       "</mark>\n",
       " scanner assembly due to blue lines when scanning through the adf , cleaned adf scanners thoroughly and could not see visible scratches on glass , signed for sc kp</div></span>"
      ],
      "text/plain": [
       "<IPython.core.display.HTML object>"
      ]
     },
     "metadata": {},
     "output_type": "display_data"
    },
    {
     "name": "stdout",
     "output_type": "stream",
     "text": [
      "------------------------- predict entities -------------------------\n",
      "('jc97-04907', 13, 23, 'PART_NUM')\n",
      "('jc97-04907', 69, 79, 'PART_NUM')\n",
      "====================================================================================================\n",
      "please order formatter/f2a68-67915 , emmc/5851-6436 . please ship to my default fedex-hfpu , 1488 w pipeline rd suite 200 , hurst , tx 76053 , attn: hp-ce ken vester . \n"
     ]
    },
    {
     "data": {
      "text/html": [
       "<span class=\"tex2jax_ignore\"><div class=\"entities\" style=\"line-height: 2.5; direction: ltr\">please order formatter/f2a68-67915 , \n",
       "<mark class=\"entity\" style=\"background: #92E0AA; padding: 0.45em 0.6em; margin: 0 0.25em; line-height: 1; border-radius: 0.35em;\">\n",
       "    emmc/5851-6436\n",
       "    <span style=\"font-size: 0.8em; font-weight: bold; line-height: 1; border-radius: 0.35em; vertical-align: middle; margin-left: 0.5rem\">PART_NUM</span>\n",
       "</mark>\n",
       " . please ship to my default fedex-hfpu , 1488 w pipeline rd suite 200 , hurst , tx 76053 , attn: hp-ce ken vester . </div></span>"
      ],
      "text/plain": [
       "<IPython.core.display.HTML object>"
      ]
     },
     "metadata": {},
     "output_type": "display_data"
    },
    {
     "name": "stdout",
     "output_type": "stream",
     "text": [
      "------------------------- predict entities -------------------------\n",
      "('emmc/5851-6436', 37, 51, 'PART_NUM')\n",
      "====================================================================================================\n",
      "please order the following drum ( sam-clt-r806x ) \n"
     ]
    },
    {
     "data": {
      "text/html": [
       "<span class=\"tex2jax_ignore\"><div class=\"entities\" style=\"line-height: 2.5; direction: ltr\">please order the following drum ( \n",
       "<mark class=\"entity\" style=\"background: #92E0AA; padding: 0.45em 0.6em; margin: 0 0.25em; line-height: 1; border-radius: 0.35em;\">\n",
       "    sam-clt\n",
       "    <span style=\"font-size: 0.8em; font-weight: bold; line-height: 1; border-radius: 0.35em; vertical-align: middle; margin-left: 0.5rem\">PART_NUM</span>\n",
       "</mark>\n",
       "-r806x ) </div></span>"
      ],
      "text/plain": [
       "<IPython.core.display.HTML object>"
      ]
     },
     "metadata": {},
     "output_type": "display_data"
    },
    {
     "name": "stdout",
     "output_type": "stream",
     "text": [
      "------------------------- predict entities -------------------------\n",
      "('sam-clt', 34, 41, 'PART_NUM')\n",
      "====================================================================================================\n",
      "please order recommended part nbd to wo address under user’s name 7/16- part eta change from 10:30am to 4pm part eta : end of the day ! e-mail user with tracking information . waiting for part 7/19- part status: “potentially delayed” 7/20- please order j\n"
     ]
    },
    {
     "data": {
      "text/html": [
       "<span class=\"tex2jax_ignore\"><div class=\"entities\" style=\"line-height: 2.5; direction: ltr\">please order recommended part nbd to wo address under user’s name 7/16- part eta change from 10:30am to 4pm part eta : end of the day ! e-mail user with tracking information . waiting for part 7/19- part status: \n",
       "<mark class=\"entity\" style=\"background: #92E0AA; padding: 0.45em 0.6em; margin: 0 0.25em; line-height: 1; border-radius: 0.35em;\">\n",
       "    “potentially\n",
       "    <span style=\"font-size: 0.8em; font-weight: bold; line-height: 1; border-radius: 0.35em; vertical-align: middle; margin-left: 0.5rem\">PART_NUM</span>\n",
       "</mark>\n",
       " delayed\n",
       "<mark class=\"entity\" style=\"background: #92E0AA; padding: 0.45em 0.6em; margin: 0 0.25em; line-height: 1; border-radius: 0.35em;\">\n",
       "    ” 7/20-\n",
       "    <span style=\"font-size: 0.8em; font-weight: bold; line-height: 1; border-radius: 0.35em; vertical-align: middle; margin-left: 0.5rem\">PART_NUM</span>\n",
       "</mark>\n",
       " please order j</div></span>"
      ],
      "text/plain": [
       "<IPython.core.display.HTML object>"
      ]
     },
     "metadata": {},
     "output_type": "display_data"
    },
    {
     "name": "stdout",
     "output_type": "stream",
     "text": [
      "------------------------- predict entities -------------------------\n",
      "('“potentially', 212, 224, 'PART_NUM')\n",
      "('” 7/20-', 232, 239, 'PART_NUM')\n"
     ]
    }
   ],
   "source": [
    "show_texts(error_data)  "
   ]
  },
  {
   "cell_type": "code",
   "execution_count": 47,
   "id": "d4226d40",
   "metadata": {
    "ExecuteTime": {
     "end_time": "2021-08-25T01:11:38.119712Z",
     "start_time": "2021-08-25T01:11:38.014854Z"
    }
   },
   "outputs": [
    {
     "name": "stdout",
     "output_type": "stream",
     "text": [
      "('e6b69-67901', 23, 34, 'PART_NUM')\n",
      "('rm1-8413-000cn', 44, 58, 'PART_NUM')\n"
     ]
    },
    {
     "data": {
      "text/html": [
       "<span class=\"tex2jax_ignore\"><div class=\"entities\" style=\"line-height: 2.5; direction: ltr\">rm26322-000cn PART_NUM \n",
       "<mark class=\"entity\" style=\"background: #92E0AA; padding: 0.45em 0.6em; margin: 0 0.25em; line-height: 1; border-radius: 0.35em;\">\n",
       "    e6b69-67901\n",
       "    <span style=\"font-size: 0.8em; font-weight: bold; line-height: 1; border-radius: 0.35em; vertical-align: middle; margin-left: 0.5rem\">PART_NUM</span>\n",
       "</mark>\n",
       " PART_NUM \n",
       "<mark class=\"entity\" style=\"background: #92E0AA; padding: 0.45em 0.6em; margin: 0 0.25em; line-height: 1; border-radius: 0.35em;\">\n",
       "    rm1-8413-000cn\n",
       "    <span style=\"font-size: 0.8em; font-weight: bold; line-height: 1; border-radius: 0.35em; vertical-align: middle; margin-left: 0.5rem\">PART_NUM</span>\n",
       "</mark>\n",
       " PART_NUM please send ACTION to fedex ACTION 3242 herrman rd garland , texas 75041 on 2021-08-21</div></span>"
      ],
      "text/plain": [
       "<IPython.core.display.HTML object>"
      ]
     },
     "metadata": {},
     "output_type": "display_data"
    }
   ],
   "source": [
    "doc = nlp('rm26322-000cn PART_NUM e6b69-67901 PART_NUM rm1-8413-000cn PART_NUM please send ACTION to fedex ACTION 3242 herrman rd garland , texas 75041 on 2021-08-21')\n",
    "print(*[(ent.text, ent.start_char, ent.end_char, ent.label_) for ent in doc.ents], sep='\\n') \n",
    "spacy.displacy.render(doc, style='ent', options=options)"
   ]
  },
  {
   "cell_type": "markdown",
   "id": "c087f294",
   "metadata": {},
   "source": [
    "### Some Features and Issues\n",
    "\n",
    "#### Miss some part-numbers "
   ]
  },
  {
   "cell_type": "code",
   "execution_count": 226,
   "id": "c49aafe7",
   "metadata": {
    "ExecuteTime": {
     "end_time": "2021-08-25T07:37:17.579905Z",
     "start_time": "2021-08-25T07:37:17.568710Z"
    }
   },
   "outputs": [],
   "source": [
    "sample_parts = ['M14302-161', '926537-001', 'M46915-D01', '140314-FB2', '176253-8B0', \n",
    "               '442010-ABC', 'L07896-DB1', '168757-B21', 'FE-15520-01', 'RM1-7867-000CN', \n",
    "               '5066-4719', '5066-3872-1', '3HZ90-30001', 'T6M22-30001', '98544-04105', \n",
    "               'C8109-69018', 'L26480-DB1', '632427-001B', 'CN463-69003', 'RM1-1298BULK', \n",
    "               '8-752-078-46', 'X-4035-119-1', 'TBLB3002-A04', '4822-701-15319', '08-2212C-33W', \n",
    "               '19-40065-011', 'ATT09850-66532', '98564-66572-SQ', '897-250144AA', '738-576-94', \n",
    "               '1FQ6-0001', '1818-7469-LGSA', '1820-6361M', '1818-6868-SAM', '3138-107-96160', \n",
    "               '686858R-999', 'MD30C-A2', '29-26196-00', 'DEL-7D092', 'LEX-40X2384', 'LEX-40X2831H', \n",
    "               'SAM-6107001172', 'SHA-1625DS51', 'XER-006R01275', 'BRO-TN115BK', 'DEL-310-5811', \n",
    "               'DEL-PK496', 'KYO-1702F97US0', 'LA95-CA', 'KYO-DK-310H', 'EPS-C31CD38A9921', \n",
    "               'KYO-F994091H', 'EPS-CEPS-003G', 'LEX-24015SA', 'LEX-62D1X00', 'LEX-72K0DV0', \n",
    "               'LEX-801HC', 'LEX-C5220CSH', 'TRO-78-24619-001', 'LEX-C544X1CG', 'HPE-749797-001', \n",
    "               'SFT-P-895', 'LEX-E260A21A-C', 'RIC-D0296509', 'SEA-ST1000LM049', 'LEX-12A8400-PC', \n",
    "               'HPE-JL258A', 'RIC-400507', 'FUJ-FPCPR362AQ', 'TOS-6LE8296100', 'XER-003K04980', \n",
    "               'XER-116111500', 'ATS-2711FXSC-901', 'BRO-TN336BK', 'DEL-310-5807', 'HPI-CF258A-M', \n",
    "               'LEX-T101-0000000', 'DEL-9PN5P', 'SAM-BA92-08880A', 'APC-RBC7', 'KMH-4448-121', \n",
    "               'SXC-C7ABTTAAB', 'TRO-04621201', 'VEF-28924-04-R', 'WFP-HPM527Z', 'KYO-1702LK0UN2', \n",
    "               'APC-SUA1500RM2U', 'KYO-302NM18021', 'HPE-JH329-61001', 'KYO-1T02GA0US0', 'LEB-04X4674',\n",
    "               'KYO-302GR93034', 'DEL-V1RX3', 'LEX-40X0593', 'TOS-6LH3460800', 'RIC-AE020171', \n",
    "               'XER-59K60140', 'BRO-LM5140001', 'KMH-A00JA56600', 'KYO-302F906240', 'BRO-LEM084001', \n",
    "               'XER-116-2035', 'BRO-BU100CLH', '3X-LK465-A2', '4G1-3999-030CN', 'H3980-60002BULK', \n",
    "               'SHA-VHI0MFP000', 'TOS-C017839000', 'JC66-01190A', 'XER-3335DNI', 'XER-3635MFP-S', \n",
    "               'XER-4622DN', 'XER-7750-Z2', 'DEL-D1320-W3', 'DEL-P637D', 'LEX-C540X35G', \n",
    "               'SHA-CPLTM8190F', 'SHACFRM-1380DS53', 'XER-401-0855-0', '90-0077', 'BRO-LF6710001', \n",
    "               'Q3938-68001-PCA', 'C314X+49A-90002', '20ER-84530KC', 'RM2-2903-BULK', 'CE506-67919-BU', \n",
    "               'CH971-91596', 'DEL-FM235', 'JC44-00210E', 'SHACFRM-1509DS52', 'SHADHAI-5043FCPZ', \n",
    "               'SHAGCAB-1102FCB1', '000-50-02-008', '504000226-DD', 'SHAVHPLG217L5A-1', 'SHAVHPOSH03Y02-1', \n",
    "               'SHADUNT-8962FCP1', 'SHAKI-OK0010FCPZ', 'SHAQSW-P0506FCZZ', 'SHAVHPGP1A73AR-1', 'SHARH-IX0055FCPZ', \n",
    "               '358-000001', 'SHAVHPGP1A71L3-18', 'B23-0994', '504000226-D', '5066-0731', \n",
    "               'E0-CABLE-01', 'RM1-8508-010-BU', 'B3M77-67902-BU', 'CA02626-E029FJ', 'CF065-67901-BU', \n",
    "               'C2H57-67901-BULK', 'LN08-A2', '693709-001B', 'SS467-67001', 'LEX-70C0D20', \n",
    "               'SHAQSW-M0518FCPZ', 'SHALX-BZ0994FCPZ', 'LN08X-TF', 'SHAGCAB-1507FCAZ']\n",
    "\n",
    "sample_parts = [part.lower() for part in sample_parts]"
   ]
  },
  {
   "cell_type": "code",
   "execution_count": 227,
   "id": "f5546c82",
   "metadata": {
    "ExecuteTime": {
     "end_time": "2021-08-25T07:37:18.557745Z",
     "start_time": "2021-08-25T07:37:18.401351Z"
    }
   },
   "outputs": [
    {
     "name": "stdout",
     "output_type": "stream",
     "text": [
      "====================================================================================================\n",
      "please order qty 1 000-50-02-008 nbd to my hal in lenexa . thank you . \n"
     ]
    },
    {
     "data": {
      "text/html": [
       "<span class=\"tex2jax_ignore\"><div class=\"entities\" style=\"line-height: 2.5; direction: ltr\">please order qty 1 \n",
       "<mark class=\"entity\" style=\"background: #92E0AA; padding: 0.45em 0.6em; margin: 0 0.25em; line-height: 1; border-radius: 0.35em;\">\n",
       "    000-50-02-008\n",
       "    <span style=\"font-size: 0.8em; font-weight: bold; line-height: 1; border-radius: 0.35em; vertical-align: middle; margin-left: 0.5rem\">PART_NUM</span>\n",
       "</mark>\n",
       " nbd to my hal in lenexa . thank you . </div></span>"
      ],
      "text/plain": [
       "<IPython.core.display.HTML object>"
      ]
     },
     "metadata": {},
     "output_type": "display_data"
    },
    {
     "name": "stdout",
     "output_type": "stream",
     "text": [
      "------------------------- predict entities -------------------------\n",
      "('000-50-02-008', 19, 32, 'PART_NUM')\n"
     ]
    }
   ],
   "source": [
    "def get_texts(parts, standardize_text=standardize_text1):\n",
    "    texts = [standardize_text(f'Please order qty 1 {part} NBD to my HAL in Lenexa. Thank you.') for part in parts]\n",
    "    return texts\n",
    "\n",
    "def check_sample_parts(parts):  \n",
    "    texts = get_texts(parts)\n",
    "    docs = nlp.pipe(texts)\n",
    "    texts = []\n",
    "    error_texts = []\n",
    "    errpr_parts = []\n",
    "    for doc, part in zip(docs, parts):\n",
    "        texts.append(doc.text)\n",
    "        if len(doc.ents) !=1 or doc.ents[0].text != part.lower():\n",
    "            error_texts.append(doc.text)\n",
    "            errpr_parts.append(part)\n",
    "    return texts, error_texts, errpr_parts\n",
    "        \n",
    "parts = ['000-50-02-008']\n",
    "texts, error_texts, errpr_parts = check_sample_parts(parts)\n",
    "show_texts(texts, show_detail=True) "
   ]
  },
  {
   "cell_type": "code",
   "execution_count": 229,
   "id": "5848a30b",
   "metadata": {
    "ExecuteTime": {
     "end_time": "2021-08-25T07:38:07.655954Z",
     "start_time": "2021-08-25T07:38:03.094212Z"
    },
    "scrolled": false
   },
   "outputs": [
    {
     "name": "stdout",
     "output_type": "stream",
     "text": [
      "find 0/160 errors\n"
     ]
    }
   ],
   "source": [
    "parts = sample_parts\n",
    "texts, error_texts, errpr_parts = check_sample_parts(parts)\n",
    "print(f'find {len(error_texts)}/{len(parts)} errors')\n",
    "show_texts(error_texts, show_detail=True)  "
   ]
  },
  {
   "cell_type": "code",
   "execution_count": 230,
   "id": "eecfcbea",
   "metadata": {
    "ExecuteTime": {
     "end_time": "2021-08-25T07:38:09.691302Z",
     "start_time": "2021-08-25T07:38:09.682615Z"
    },
    "scrolled": false
   },
   "outputs": [
    {
     "name": "stdout",
     "output_type": "stream",
     "text": [
      "==================================================\n",
      "('[a-zA-Z]\\\\d\\\\d\\\\d\\\\d\\\\d-\\\\d\\\\d\\\\d', 0)\n",
      "('\\\\d\\\\d\\\\d\\\\d\\\\d\\\\d-\\\\d\\\\d\\\\d', 0)\n",
      "('[a-zA-Z]\\\\d\\\\d\\\\d\\\\d\\\\d-[a-zA-Z]\\\\d\\\\d', 0)\n",
      "('\\\\d\\\\d\\\\d\\\\d\\\\d\\\\d-[a-zA-Z][a-zA-Z]\\\\d', 0)\n",
      "('\\\\d\\\\d\\\\d\\\\d\\\\d\\\\d-\\\\d[a-zA-Z]\\\\d', 0)\n",
      "('\\\\d\\\\d\\\\d\\\\d\\\\d\\\\d-[a-zA-Z][a-zA-Z][a-zA-Z]', 0)\n",
      "('[a-zA-Z]\\\\d\\\\d\\\\d\\\\d\\\\d-[a-zA-Z][a-zA-Z]\\\\d', 0)\n",
      "('\\\\d\\\\d\\\\d\\\\d\\\\d\\\\d-[a-zA-Z]\\\\d\\\\d', 0)\n",
      "('[a-zA-Z][a-zA-Z]-\\\\d\\\\d\\\\d\\\\d\\\\d-\\\\d\\\\d', 0)\n",
      "('[a-zA-Z][a-zA-Z]\\\\d-\\\\d\\\\d\\\\d\\\\d-\\\\d\\\\d\\\\d[a-zA-Z][a-zA-Z]', 0)\n",
      "('\\\\d\\\\d\\\\d\\\\d-\\\\d\\\\d\\\\d\\\\d', 0)\n",
      "('\\\\d\\\\d\\\\d\\\\d-\\\\d\\\\d\\\\d\\\\d-\\\\d', 0)\n",
      "('\\\\d[a-zA-Z][a-zA-Z]\\\\d\\\\d-\\\\d\\\\d\\\\d\\\\d\\\\d', 0)\n",
      "('[a-zA-Z]\\\\d[a-zA-Z]\\\\d\\\\d-\\\\d\\\\d\\\\d\\\\d\\\\d', 0)\n",
      "('\\\\d\\\\d\\\\d\\\\d\\\\d-\\\\d\\\\d\\\\d\\\\d\\\\d', 0)\n",
      "('[a-zA-Z]\\\\d\\\\d\\\\d\\\\d-\\\\d\\\\d\\\\d\\\\d\\\\d', 0)\n",
      "('\\\\d\\\\d\\\\d\\\\d\\\\d\\\\d-\\\\d\\\\d\\\\d[a-zA-Z]', 0)\n",
      "('[a-zA-Z][a-zA-Z]\\\\d\\\\d\\\\d-\\\\d\\\\d\\\\d\\\\d\\\\d', 0)\n",
      "('[a-zA-Z][a-zA-Z]\\\\d-\\\\d\\\\d\\\\d\\\\d[a-zA-Z][a-zA-Z][a-zA-Z][a-zA-Z]', 0)\n",
      "('\\\\d-\\\\d\\\\d\\\\d-\\\\d\\\\d\\\\d-\\\\d\\\\d', 0)\n",
      "('[a-zA-Z]-\\\\d\\\\d\\\\d\\\\d-\\\\d\\\\d\\\\d-\\\\d', 0)\n",
      "('[a-zA-Z][a-zA-Z][a-zA-Z][a-zA-Z]\\\\d\\\\d\\\\d\\\\d-[a-zA-Z]\\\\d\\\\d', 0)\n",
      "('\\\\d\\\\d\\\\d\\\\d-\\\\d\\\\d\\\\d-\\\\d\\\\d\\\\d\\\\d\\\\d', 0)\n",
      "('\\\\d\\\\d-\\\\d\\\\d\\\\d\\\\d[a-zA-Z]-\\\\d\\\\d[a-zA-Z]', 0)\n",
      "('\\\\d\\\\d-\\\\d\\\\d\\\\d\\\\d\\\\d-\\\\d\\\\d\\\\d', 0)\n",
      "('[a-zA-Z][a-zA-Z][a-zA-Z]\\\\d\\\\d\\\\d\\\\d\\\\d-\\\\d\\\\d\\\\d\\\\d\\\\d', 0)\n",
      "('\\\\d\\\\d\\\\d\\\\d\\\\d-\\\\d\\\\d\\\\d\\\\d\\\\d-[a-zA-Z][a-zA-Z]', 0)\n",
      "('\\\\d\\\\d\\\\d-\\\\d\\\\d\\\\d\\\\d\\\\d\\\\d[a-zA-Z][a-zA-Z]', 0)\n",
      "('\\\\d\\\\d\\\\d-\\\\d\\\\d\\\\d-\\\\d\\\\d', 0)\n",
      "('\\\\d[a-zA-Z][a-zA-Z]\\\\d-\\\\d\\\\d\\\\d\\\\d', 0)\n",
      "('\\\\d\\\\d\\\\d\\\\d-\\\\d\\\\d\\\\d\\\\d-[a-zA-Z][a-zA-Z][a-zA-Z][a-zA-Z]', 0)\n",
      "('\\\\d\\\\d\\\\d\\\\d-\\\\d\\\\d\\\\d\\\\d[a-zA-Z]', 0)\n",
      "('\\\\d\\\\d\\\\d\\\\d-\\\\d\\\\d\\\\d\\\\d-[a-zA-Z][a-zA-Z][a-zA-Z]', 0)\n",
      "('\\\\d\\\\d\\\\d\\\\d\\\\d\\\\d[a-zA-Z]-\\\\d\\\\d\\\\d', 0)\n",
      "('[a-zA-Z][a-zA-Z]\\\\d\\\\d[a-zA-Z]-[a-zA-Z]\\\\d', 0)\n",
      "('\\\\d\\\\d-\\\\d\\\\d\\\\d\\\\d\\\\d-\\\\d\\\\d', 0)\n",
      "('[a-zA-Z][a-zA-Z][a-zA-Z]-\\\\d[a-zA-Z]\\\\d\\\\d\\\\d', 0)\n",
      "('[a-zA-Z][a-zA-Z][a-zA-Z]-\\\\d\\\\d[a-zA-Z]\\\\d\\\\d\\\\d\\\\d', 0)\n",
      "('[a-zA-Z][a-zA-Z][a-zA-Z]-\\\\d\\\\d[a-zA-Z]\\\\d\\\\d\\\\d\\\\d[a-zA-Z]', 0)\n",
      "('[a-zA-Z][a-zA-Z][a-zA-Z]-\\\\d\\\\d\\\\d\\\\d\\\\d\\\\d\\\\d\\\\d\\\\d\\\\d', 0)\n",
      "('[a-zA-Z][a-zA-Z][a-zA-Z]-\\\\d\\\\d\\\\d\\\\d[a-zA-Z][a-zA-Z]\\\\d\\\\d', 0)\n",
      "('[a-zA-Z][a-zA-Z][a-zA-Z]-\\\\d\\\\d\\\\d[a-zA-Z]\\\\d\\\\d\\\\d\\\\d\\\\d', 0)\n",
      "('[a-zA-Z][a-zA-Z][a-zA-Z]-[a-zA-Z][a-zA-Z]\\\\d\\\\d\\\\d[a-zA-Z][a-zA-Z]', 0)\n",
      "('[a-zA-Z][a-zA-Z][a-zA-Z]-\\\\d\\\\d\\\\d-\\\\d\\\\d\\\\d\\\\d', 0)\n",
      "('[a-zA-Z][a-zA-Z][a-zA-Z]-[a-zA-Z][a-zA-Z]\\\\d\\\\d\\\\d', 0)\n",
      "('[a-zA-Z][a-zA-Z][a-zA-Z]-\\\\d\\\\d\\\\d\\\\d[a-zA-Z]\\\\d\\\\d[a-zA-Z][a-zA-Z]\\\\d', 0)\n",
      "('[a-zA-Z][a-zA-Z]\\\\d\\\\d-[a-zA-Z][a-zA-Z]', 0)\n",
      "('[a-zA-Z][a-zA-Z][a-zA-Z]-[a-zA-Z][a-zA-Z]-\\\\d\\\\d\\\\d[a-zA-Z]', 0)\n",
      "('[a-zA-Z][a-zA-Z][a-zA-Z]-[a-zA-Z]\\\\d\\\\d[a-zA-Z][a-zA-Z]\\\\d\\\\d[a-zA-Z]\\\\d\\\\d\\\\d\\\\d', 0)\n",
      "('[a-zA-Z][a-zA-Z][a-zA-Z]-[a-zA-Z]\\\\d\\\\d\\\\d\\\\d\\\\d\\\\d[a-zA-Z]', 0)\n",
      "('[a-zA-Z][a-zA-Z][a-zA-Z]-[a-zA-Z][a-zA-Z][a-zA-Z][a-zA-Z]-\\\\d\\\\d\\\\d[a-zA-Z]', 0)\n",
      "('[a-zA-Z][a-zA-Z][a-zA-Z]-\\\\d\\\\d\\\\d\\\\d\\\\d[a-zA-Z][a-zA-Z]', 0)\n",
      "('[a-zA-Z][a-zA-Z][a-zA-Z]-\\\\d\\\\d[a-zA-Z]\\\\d[a-zA-Z]\\\\d\\\\d', 0)\n",
      "('[a-zA-Z][a-zA-Z][a-zA-Z]-\\\\d\\\\d[a-zA-Z]\\\\d[a-zA-Z][a-zA-Z]\\\\d', 0)\n",
      "('[a-zA-Z][a-zA-Z][a-zA-Z]-\\\\d\\\\d\\\\d[a-zA-Z][a-zA-Z]', 0)\n",
      "('[a-zA-Z][a-zA-Z][a-zA-Z]-[a-zA-Z]\\\\d\\\\d\\\\d\\\\d[a-zA-Z][a-zA-Z][a-zA-Z]', 0)\n",
      "('[a-zA-Z][a-zA-Z][a-zA-Z]-\\\\d\\\\d-\\\\d\\\\d\\\\d\\\\d\\\\d-\\\\d\\\\d\\\\d', 0)\n",
      "('[a-zA-Z][a-zA-Z][a-zA-Z]-[a-zA-Z]\\\\d\\\\d\\\\d[a-zA-Z]\\\\d[a-zA-Z][a-zA-Z]', 0)\n",
      "('[a-zA-Z][a-zA-Z][a-zA-Z]-\\\\d\\\\d\\\\d\\\\d\\\\d\\\\d-\\\\d\\\\d\\\\d', 0)\n",
      "('[a-zA-Z][a-zA-Z][a-zA-Z]-[a-zA-Z]-\\\\d\\\\d\\\\d', 0)\n",
      "('[a-zA-Z][a-zA-Z][a-zA-Z]-[a-zA-Z]\\\\d\\\\d\\\\d[a-zA-Z]\\\\d\\\\d[a-zA-Z]-[a-zA-Z]', 0)\n",
      "('[a-zA-Z][a-zA-Z][a-zA-Z]-[a-zA-Z]\\\\d\\\\d\\\\d\\\\d\\\\d\\\\d\\\\d', 0)\n",
      "('[a-zA-Z][a-zA-Z][a-zA-Z]-[a-zA-Z][a-zA-Z]\\\\d\\\\d\\\\d\\\\d[a-zA-Z][a-zA-Z]\\\\d\\\\d\\\\d', 0)\n",
      "('[a-zA-Z][a-zA-Z][a-zA-Z]-\\\\d\\\\d[a-zA-Z]\\\\d\\\\d\\\\d\\\\d-[a-zA-Z][a-zA-Z]', 0)\n",
      "('[a-zA-Z][a-zA-Z][a-zA-Z]-[a-zA-Z][a-zA-Z]\\\\d\\\\d\\\\d[a-zA-Z]', 0)\n",
      "('[a-zA-Z][a-zA-Z][a-zA-Z]-\\\\d\\\\d\\\\d\\\\d\\\\d\\\\d', 0)\n",
      "('[a-zA-Z][a-zA-Z][a-zA-Z]-[a-zA-Z][a-zA-Z][a-zA-Z][a-zA-Z][a-zA-Z]\\\\d\\\\d\\\\d[a-zA-Z][a-zA-Z]', 0)\n",
      "('[a-zA-Z][a-zA-Z][a-zA-Z]-\\\\d[a-zA-Z][a-zA-Z]\\\\d\\\\d\\\\d\\\\d\\\\d\\\\d\\\\d', 0)\n",
      "('[a-zA-Z][a-zA-Z][a-zA-Z]-\\\\d\\\\d\\\\d\\\\d\\\\d\\\\d\\\\d\\\\d\\\\d', 0)\n",
      "('[a-zA-Z][a-zA-Z][a-zA-Z]-\\\\d\\\\d\\\\d\\\\d[a-zA-Z][a-zA-Z][a-zA-Z]-\\\\d\\\\d\\\\d', 0)\n",
      "('[a-zA-Z][a-zA-Z][a-zA-Z]-[a-zA-Z][a-zA-Z]\\\\d\\\\d\\\\d[a-zA-Z]-[a-zA-Z]', 0)\n",
      "('[a-zA-Z][a-zA-Z][a-zA-Z]-[a-zA-Z]\\\\d\\\\d\\\\d-\\\\d\\\\d\\\\d\\\\d\\\\d\\\\d', 0)\n",
      "('[a-zA-Z][a-zA-Z][a-zA-Z]-\\\\d[a-zA-Z][a-zA-Z]\\\\d[a-zA-Z]', 0)\n",
      "('[a-zA-Z][a-zA-Z][a-zA-Z]-[a-zA-Z][a-zA-Z]\\\\d\\\\d-\\\\d\\\\d\\\\d\\\\d\\\\d[a-zA-Z]', 0)\n",
      "('[a-zA-Z][a-zA-Z][a-zA-Z]-[a-zA-Z][a-zA-Z][a-zA-Z]\\\\d', 0)\n",
      "('[a-zA-Z][a-zA-Z][a-zA-Z]-\\\\d\\\\d\\\\d\\\\d-\\\\d\\\\d\\\\d', 0)\n",
      "('[a-zA-Z][a-zA-Z][a-zA-Z]-[a-zA-Z]\\\\d[a-zA-Z][a-zA-Z][a-zA-Z][a-zA-Z][a-zA-Z][a-zA-Z][a-zA-Z]', 0)\n",
      "('[a-zA-Z][a-zA-Z][a-zA-Z]-\\\\d\\\\d\\\\d\\\\d\\\\d\\\\d\\\\d\\\\d', 0)\n",
      "('[a-zA-Z][a-zA-Z][a-zA-Z]-\\\\d\\\\d\\\\d\\\\d\\\\d-\\\\d\\\\d-[a-zA-Z]', 0)\n",
      "('[a-zA-Z][a-zA-Z][a-zA-Z]-[a-zA-Z][a-zA-Z][a-zA-Z]\\\\d\\\\d\\\\d[a-zA-Z]', 0)\n",
      "('[a-zA-Z][a-zA-Z][a-zA-Z]-\\\\d\\\\d\\\\d\\\\d[a-zA-Z][a-zA-Z]\\\\d[a-zA-Z][a-zA-Z]\\\\d', 0)\n",
      "('[a-zA-Z][a-zA-Z][a-zA-Z]-[a-zA-Z][a-zA-Z][a-zA-Z]\\\\d\\\\d\\\\d\\\\d[a-zA-Z][a-zA-Z]\\\\d[a-zA-Z]', 0)\n",
      "('[a-zA-Z][a-zA-Z][a-zA-Z]-\\\\d\\\\d\\\\d[a-zA-Z][a-zA-Z]\\\\d\\\\d\\\\d\\\\d\\\\d', 0)\n",
      "('[a-zA-Z][a-zA-Z][a-zA-Z]-[a-zA-Z][a-zA-Z]\\\\d\\\\d\\\\d-\\\\d\\\\d\\\\d\\\\d\\\\d', 0)\n",
      "('[a-zA-Z][a-zA-Z][a-zA-Z]-\\\\d[a-zA-Z]\\\\d\\\\d[a-zA-Z][a-zA-Z]\\\\d[a-zA-Z][a-zA-Z]\\\\d', 0)\n",
      "('\\\\d\\\\d\\\\d-[a-zA-Z]\\\\d[a-zA-Z][a-zA-Z]\\\\d', 0)\n",
      "('[a-zA-Z][a-zA-Z][a-zA-Z]-[a-zA-Z][a-zA-Z]\\\\d\\\\d\\\\d\\\\d\\\\d\\\\d', 0)\n",
      "('[a-zA-Z][a-zA-Z][a-zA-Z]-\\\\d\\\\d[a-zA-Z]\\\\d\\\\d\\\\d\\\\d\\\\d', 0)\n",
      "('[a-zA-Z][a-zA-Z][a-zA-Z]-[a-zA-Z][a-zA-Z]\\\\d\\\\d\\\\d\\\\d\\\\d\\\\d\\\\d', 0)\n",
      "('[a-zA-Z][a-zA-Z][a-zA-Z]-[a-zA-Z]\\\\d\\\\d[a-zA-Z][a-zA-Z]\\\\d\\\\d\\\\d\\\\d\\\\d', 0)\n",
      "('[a-zA-Z][a-zA-Z][a-zA-Z]-\\\\d\\\\d\\\\d[a-zA-Z]\\\\d\\\\d\\\\d\\\\d\\\\d\\\\d', 0)\n",
      "('[a-zA-Z][a-zA-Z][a-zA-Z]-[a-zA-Z][a-zA-Z][a-zA-Z]\\\\d\\\\d\\\\d\\\\d\\\\d\\\\d', 0)\n",
      "('[a-zA-Z][a-zA-Z][a-zA-Z]-[a-zA-Z][a-zA-Z]\\\\d\\\\d\\\\d[a-zA-Z][a-zA-Z][a-zA-Z]', 0)\n",
      "('\\\\d[a-zA-Z]-[a-zA-Z][a-zA-Z]\\\\d\\\\d\\\\d-[a-zA-Z]\\\\d', 0)\n",
      "('\\\\d[a-zA-Z]\\\\d-\\\\d\\\\d\\\\d\\\\d-\\\\d\\\\d\\\\d[a-zA-Z][a-zA-Z]', 0)\n",
      "('[a-zA-Z]\\\\d\\\\d\\\\d\\\\d-\\\\d\\\\d\\\\d\\\\d\\\\d[a-zA-Z][a-zA-Z][a-zA-Z][a-zA-Z]', 0)\n",
      "('[a-zA-Z][a-zA-Z][a-zA-Z]-[a-zA-Z][a-zA-Z][a-zA-Z]\\\\d[a-zA-Z][a-zA-Z][a-zA-Z]\\\\d\\\\d\\\\d', 0)\n",
      "('[a-zA-Z][a-zA-Z][a-zA-Z]-[a-zA-Z]\\\\d\\\\d\\\\d\\\\d\\\\d\\\\d\\\\d\\\\d\\\\d', 0)\n",
      "('[a-zA-Z][a-zA-Z]\\\\d\\\\d-\\\\d\\\\d\\\\d\\\\d\\\\d[a-zA-Z]', 0)\n",
      "('[a-zA-Z][a-zA-Z][a-zA-Z]-\\\\d\\\\d\\\\d\\\\d[a-zA-Z][a-zA-Z][a-zA-Z]', 0)\n",
      "('[a-zA-Z][a-zA-Z][a-zA-Z]-\\\\d\\\\d\\\\d\\\\d[a-zA-Z][a-zA-Z][a-zA-Z]-[a-zA-Z]', 0)\n",
      "('[a-zA-Z][a-zA-Z][a-zA-Z]-\\\\d\\\\d\\\\d\\\\d[a-zA-Z][a-zA-Z]', 0)\n",
      "('[a-zA-Z][a-zA-Z][a-zA-Z]-\\\\d\\\\d\\\\d\\\\d-[a-zA-Z]\\\\d', 0)\n",
      "('[a-zA-Z][a-zA-Z][a-zA-Z]-[a-zA-Z]\\\\d\\\\d\\\\d-[a-zA-Z]\\\\d', 0)\n",
      "('[a-zA-Z][a-zA-Z][a-zA-Z]-[a-zA-Z]\\\\d\\\\d\\\\d[a-zA-Z]', 0)\n",
      "('[a-zA-Z][a-zA-Z][a-zA-Z]-[a-zA-Z]\\\\d\\\\d\\\\d[a-zA-Z]\\\\d\\\\d[a-zA-Z]', 0)\n",
      "('[a-zA-Z][a-zA-Z][a-zA-Z]-[a-zA-Z][a-zA-Z][a-zA-Z][a-zA-Z][a-zA-Z]\\\\d\\\\d\\\\d\\\\d[a-zA-Z]', 0)\n",
      "('[a-zA-Z][a-zA-Z][a-zA-Z][a-zA-Z][a-zA-Z][a-zA-Z][a-zA-Z]-\\\\d\\\\d\\\\d\\\\d[a-zA-Z][a-zA-Z]\\\\d\\\\d', 0)\n",
      "('[a-zA-Z][a-zA-Z][a-zA-Z]-\\\\d\\\\d\\\\d-\\\\d\\\\d\\\\d\\\\d-\\\\d', 0)\n",
      "('\\\\d\\\\d-\\\\d\\\\d\\\\d\\\\d', 0)\n",
      "('[a-zA-Z]\\\\d\\\\d\\\\d\\\\d-\\\\d\\\\d\\\\d\\\\d\\\\d-[a-zA-Z][a-zA-Z][a-zA-Z]', 0)\n",
      "('[a-zA-Z]\\\\d\\\\d\\\\d[a-zA-Z][a-zA-Z]\\\\d\\\\d[a-zA-Z]-\\\\d\\\\d\\\\d\\\\d\\\\d', 0)\n",
      "('\\\\d\\\\d[a-zA-Z][a-zA-Z]-\\\\d\\\\d\\\\d\\\\d\\\\d[a-zA-Z][a-zA-Z]', 0)\n",
      "('[a-zA-Z][a-zA-Z]\\\\d-\\\\d\\\\d\\\\d\\\\d-[a-zA-Z][a-zA-Z][a-zA-Z][a-zA-Z]', 0)\n",
      "('[a-zA-Z][a-zA-Z]\\\\d\\\\d\\\\d-\\\\d\\\\d\\\\d\\\\d\\\\d-[a-zA-Z][a-zA-Z]', 0)\n",
      "('[a-zA-Z][a-zA-Z][a-zA-Z][a-zA-Z][a-zA-Z][a-zA-Z][a-zA-Z]-\\\\d\\\\d\\\\d\\\\d[a-zA-Z][a-zA-Z][a-zA-Z][a-zA-Z]', 0)\n",
      "('[a-zA-Z][a-zA-Z][a-zA-Z][a-zA-Z][a-zA-Z][a-zA-Z][a-zA-Z]-\\\\d\\\\d\\\\d\\\\d[a-zA-Z][a-zA-Z][a-zA-Z]\\\\d', 0)\n",
      "('\\\\d\\\\d\\\\d-\\\\d\\\\d-\\\\d\\\\d-\\\\d\\\\d\\\\d', 0)\n",
      "('\\\\d\\\\d\\\\d\\\\d\\\\d\\\\d\\\\d\\\\d\\\\d-\\\\d\\\\d', 0)\n",
      "('[a-zA-Z][a-zA-Z][a-zA-Z][a-zA-Z][a-zA-Z][a-zA-Z][a-zA-Z][a-zA-Z]\\\\d\\\\d\\\\d[a-zA-Z]\\\\d[a-zA-Z]-\\\\d', 0)\n",
      "('[a-zA-Z][a-zA-Z][a-zA-Z][a-zA-Z][a-zA-Z][a-zA-Z][a-zA-Z][a-zA-Z][a-zA-Z]\\\\d\\\\d[a-zA-Z]\\\\d\\\\d-\\\\d', 0)\n",
      "('[a-zA-Z][a-zA-Z][a-zA-Z][a-zA-Z]-[a-zA-Z][a-zA-Z]\\\\d\\\\d\\\\d\\\\d[a-zA-Z][a-zA-Z][a-zA-Z][a-zA-Z]', 0)\n",
      "('[a-zA-Z][a-zA-Z][a-zA-Z][a-zA-Z][a-zA-Z][a-zA-Z]-[a-zA-Z]\\\\d\\\\d\\\\d\\\\d[a-zA-Z][a-zA-Z][a-zA-Z][a-zA-Z]', 0)\n",
      "('[a-zA-Z][a-zA-Z][a-zA-Z][a-zA-Z][a-zA-Z][a-zA-Z][a-zA-Z][a-zA-Z]\\\\d[a-zA-Z]\\\\d\\\\d[a-zA-Z][a-zA-Z]-\\\\d', 0)\n",
      "('[a-zA-Z][a-zA-Z][a-zA-Z][a-zA-Z][a-zA-Z]-[a-zA-Z][a-zA-Z]\\\\d\\\\d\\\\d\\\\d[a-zA-Z][a-zA-Z][a-zA-Z][a-zA-Z]', 0)\n",
      "('\\\\d\\\\d\\\\d-\\\\d\\\\d\\\\d\\\\d\\\\d\\\\d', 0)\n",
      "('[a-zA-Z][a-zA-Z][a-zA-Z][a-zA-Z][a-zA-Z][a-zA-Z][a-zA-Z][a-zA-Z]\\\\d[a-zA-Z]\\\\d\\\\d[a-zA-Z]\\\\d-\\\\d\\\\d', 0)\n",
      "('[a-zA-Z]\\\\d\\\\d-\\\\d\\\\d\\\\d\\\\d', 0)\n",
      "('\\\\d\\\\d\\\\d\\\\d\\\\d\\\\d\\\\d\\\\d\\\\d-\\\\d', 0)\n",
      "('[a-zA-Z]\\\\d-[a-zA-Z][a-zA-Z][a-zA-Z][a-zA-Z][a-zA-Z]-\\\\d\\\\d', 0)\n",
      "('[a-zA-Z][a-zA-Z]\\\\d-\\\\d\\\\d\\\\d\\\\d-\\\\d\\\\d\\\\d-[a-zA-Z][a-zA-Z]', 0)\n",
      "('[a-zA-Z]\\\\d[a-zA-Z]\\\\d\\\\d-\\\\d\\\\d\\\\d\\\\d\\\\d-[a-zA-Z][a-zA-Z]', 0)\n",
      "('[a-zA-Z][a-zA-Z]\\\\d\\\\d\\\\d\\\\d\\\\d-[a-zA-Z]\\\\d\\\\d\\\\d[a-zA-Z][a-zA-Z]', 0)\n",
      "('[a-zA-Z][a-zA-Z]\\\\d\\\\d\\\\d-\\\\d\\\\d\\\\d\\\\d\\\\d-[a-zA-Z][a-zA-Z][a-zA-Z][a-zA-Z]', 0)\n",
      "('[a-zA-Z][a-zA-Z]\\\\d\\\\d-[a-zA-Z]\\\\d', 0)\n",
      "('[a-zA-Z][a-zA-Z][a-zA-Z][a-zA-Z][a-zA-Z][a-zA-Z]-[a-zA-Z]\\\\d\\\\d\\\\d\\\\d[a-zA-Z][a-zA-Z][a-zA-Z]', 0)\n",
      "('[a-zA-Z][a-zA-Z]\\\\d\\\\d[a-zA-Z]-[a-zA-Z][a-zA-Z]', 0)\n",
      "('[a-zA-Z][a-zA-Z][a-zA-Z][a-zA-Z][a-zA-Z][a-zA-Z]-\\\\d\\\\d\\\\d\\\\d[a-zA-Z][a-zA-Z][a-zA-Z][a-zA-Z]', 0)\n"
     ]
    }
   ],
   "source": [
    "error_text_entities, error_pattern_matchs = generate_label(error_texts, patterns=patterns)\n",
    "show_entity_label(error_text_entities, error_pattern_matchs)"
   ]
  },
  {
   "cell_type": "markdown",
   "id": "ce0ed3c6",
   "metadata": {},
   "source": [
    "I think that the issues are mainly caused by lacking of these parts in training data. \n",
    "\n",
    "There are 2 solutions:\n",
    "\n",
    "1. merge the results of regular expressions and the model.\n",
    "2. use data augmentation to generate a lot of random part numbers based on the rules."
   ]
  },
  {
   "cell_type": "markdown",
   "id": "26de5976",
   "metadata": {},
   "source": [
    "####  Find potentail part number"
   ]
  },
  {
   "cell_type": "code",
   "execution_count": 236,
   "id": "876d9444",
   "metadata": {
    "ExecuteTime": {
     "end_time": "2021-08-25T07:40:29.423285Z",
     "start_time": "2021-08-25T07:40:29.189664Z"
    }
   },
   "outputs": [
    {
     "name": "stdout",
     "output_type": "stream",
     "text": [
      "find 0/2 errors\n",
      "====================================================================================================\n",
      "please order qty 1 fe-15520-01 nbd to my hal in lenexa . thank you . \n"
     ]
    },
    {
     "data": {
      "text/html": [
       "<span class=\"tex2jax_ignore\"><div class=\"entities\" style=\"line-height: 2.5; direction: ltr\">please order qty 1 \n",
       "<mark class=\"entity\" style=\"background: #92E0AA; padding: 0.45em 0.6em; margin: 0 0.25em; line-height: 1; border-radius: 0.35em;\">\n",
       "    fe-15520-01\n",
       "    <span style=\"font-size: 0.8em; font-weight: bold; line-height: 1; border-radius: 0.35em; vertical-align: middle; margin-left: 0.5rem\">PART_NUM</span>\n",
       "</mark>\n",
       " nbd to my hal in lenexa . thank you . </div></span>"
      ],
      "text/plain": [
       "<IPython.core.display.HTML object>"
      ]
     },
     "metadata": {},
     "output_type": "display_data"
    },
    {
     "name": "stdout",
     "output_type": "stream",
     "text": [
      "------------------------- predict entities -------------------------\n",
      "('fe-15520-01', 19, 30, 'PART_NUM')\n",
      "====================================================================================================\n",
      "please order qty 1 fe-15520-0123 nbd to my hal in lenexa . thank you . \n"
     ]
    },
    {
     "data": {
      "text/html": [
       "<span class=\"tex2jax_ignore\"><div class=\"entities\" style=\"line-height: 2.5; direction: ltr\">please order qty 1 \n",
       "<mark class=\"entity\" style=\"background: #92E0AA; padding: 0.45em 0.6em; margin: 0 0.25em; line-height: 1; border-radius: 0.35em;\">\n",
       "    fe-15520-0123\n",
       "    <span style=\"font-size: 0.8em; font-weight: bold; line-height: 1; border-radius: 0.35em; vertical-align: middle; margin-left: 0.5rem\">PART_NUM</span>\n",
       "</mark>\n",
       " nbd to my hal in lenexa . thank you . </div></span>"
      ],
      "text/plain": [
       "<IPython.core.display.HTML object>"
      ]
     },
     "metadata": {},
     "output_type": "display_data"
    },
    {
     "name": "stdout",
     "output_type": "stream",
     "text": [
      "------------------------- predict entities -------------------------\n",
      "('fe-15520-0123', 19, 32, 'PART_NUM')\n"
     ]
    }
   ],
   "source": [
    "parts = ['FE-15520-01', 'FE-15520-0123']\n",
    "texts, error_texts, errpr_parts = check_sample_parts(parts)\n",
    "print(f'find {len(error_texts)}/{len(parts)} errors')\n",
    "show_texts(texts, show_detail=True) "
   ]
  },
  {
   "cell_type": "code",
   "execution_count": 235,
   "id": "b3a10c55",
   "metadata": {
    "ExecuteTime": {
     "end_time": "2021-08-25T07:40:04.586640Z",
     "start_time": "2021-08-25T07:40:04.576662Z"
    }
   },
   "outputs": [
    {
     "name": "stdout",
     "output_type": "stream",
     "text": [
      "--------------------------------------------------\n",
      "please order qty 1 fe-15520-01 nbd to my hal in lenexa . thank you . \n",
      "('fe-15520-01', 19, 30, 'PART_NUM')\n",
      "--------------------------------------------------\n",
      "please order qty 1 fe-15520-0123 nbd to my hal in lenexa . thank you . \n",
      "\n",
      "==================================================\n",
      "('[a-zA-Z][a-zA-Z]-\\\\d\\\\d\\\\d\\\\d\\\\d-\\\\d\\\\d', 1)\n",
      "('[a-zA-Z]\\\\d\\\\d\\\\d\\\\d\\\\d-\\\\d\\\\d\\\\d', 0)\n",
      "('\\\\d\\\\d\\\\d\\\\d\\\\d\\\\d-\\\\d\\\\d\\\\d', 0)\n",
      "('[a-zA-Z]\\\\d\\\\d\\\\d\\\\d\\\\d-[a-zA-Z]\\\\d\\\\d', 0)\n",
      "('\\\\d\\\\d\\\\d\\\\d\\\\d\\\\d-[a-zA-Z][a-zA-Z]\\\\d', 0)\n",
      "('\\\\d\\\\d\\\\d\\\\d\\\\d\\\\d-\\\\d[a-zA-Z]\\\\d', 0)\n",
      "('\\\\d\\\\d\\\\d\\\\d\\\\d\\\\d-[a-zA-Z][a-zA-Z][a-zA-Z]', 0)\n",
      "('[a-zA-Z]\\\\d\\\\d\\\\d\\\\d\\\\d-[a-zA-Z][a-zA-Z]\\\\d', 0)\n",
      "('\\\\d\\\\d\\\\d\\\\d\\\\d\\\\d-[a-zA-Z]\\\\d\\\\d', 0)\n",
      "('[a-zA-Z][a-zA-Z]\\\\d-\\\\d\\\\d\\\\d\\\\d-\\\\d\\\\d\\\\d[a-zA-Z][a-zA-Z]', 0)\n",
      "('\\\\d\\\\d\\\\d\\\\d-\\\\d\\\\d\\\\d\\\\d', 0)\n",
      "('\\\\d\\\\d\\\\d\\\\d-\\\\d\\\\d\\\\d\\\\d-\\\\d', 0)\n",
      "('\\\\d[a-zA-Z][a-zA-Z]\\\\d\\\\d-\\\\d\\\\d\\\\d\\\\d\\\\d', 0)\n",
      "('[a-zA-Z]\\\\d[a-zA-Z]\\\\d\\\\d-\\\\d\\\\d\\\\d\\\\d\\\\d', 0)\n",
      "('\\\\d\\\\d\\\\d\\\\d\\\\d-\\\\d\\\\d\\\\d\\\\d\\\\d', 0)\n",
      "('[a-zA-Z]\\\\d\\\\d\\\\d\\\\d-\\\\d\\\\d\\\\d\\\\d\\\\d', 0)\n",
      "('\\\\d\\\\d\\\\d\\\\d\\\\d\\\\d-\\\\d\\\\d\\\\d[a-zA-Z]', 0)\n",
      "('[a-zA-Z][a-zA-Z]\\\\d\\\\d\\\\d-\\\\d\\\\d\\\\d\\\\d\\\\d', 0)\n",
      "('[a-zA-Z][a-zA-Z]\\\\d-\\\\d\\\\d\\\\d\\\\d[a-zA-Z][a-zA-Z][a-zA-Z][a-zA-Z]', 0)\n",
      "('\\\\d-\\\\d\\\\d\\\\d-\\\\d\\\\d\\\\d-\\\\d\\\\d', 0)\n",
      "('[a-zA-Z]-\\\\d\\\\d\\\\d\\\\d-\\\\d\\\\d\\\\d-\\\\d', 0)\n",
      "('[a-zA-Z][a-zA-Z][a-zA-Z][a-zA-Z]\\\\d\\\\d\\\\d\\\\d-[a-zA-Z]\\\\d\\\\d', 0)\n",
      "('\\\\d\\\\d\\\\d\\\\d-\\\\d\\\\d\\\\d-\\\\d\\\\d\\\\d\\\\d\\\\d', 0)\n",
      "('\\\\d\\\\d-\\\\d\\\\d\\\\d\\\\d[a-zA-Z]-\\\\d\\\\d[a-zA-Z]', 0)\n",
      "('\\\\d\\\\d-\\\\d\\\\d\\\\d\\\\d\\\\d-\\\\d\\\\d\\\\d', 0)\n",
      "('[a-zA-Z][a-zA-Z][a-zA-Z]\\\\d\\\\d\\\\d\\\\d\\\\d-\\\\d\\\\d\\\\d\\\\d\\\\d', 0)\n",
      "('\\\\d\\\\d\\\\d\\\\d\\\\d-\\\\d\\\\d\\\\d\\\\d\\\\d-[a-zA-Z][a-zA-Z]', 0)\n",
      "('\\\\d\\\\d\\\\d-\\\\d\\\\d\\\\d\\\\d\\\\d\\\\d[a-zA-Z][a-zA-Z]', 0)\n",
      "('\\\\d\\\\d\\\\d-\\\\d\\\\d\\\\d-\\\\d\\\\d', 0)\n",
      "('\\\\d[a-zA-Z][a-zA-Z]\\\\d-\\\\d\\\\d\\\\d\\\\d', 0)\n",
      "('\\\\d\\\\d\\\\d\\\\d-\\\\d\\\\d\\\\d\\\\d-[a-zA-Z][a-zA-Z][a-zA-Z][a-zA-Z]', 0)\n",
      "('\\\\d\\\\d\\\\d\\\\d-\\\\d\\\\d\\\\d\\\\d[a-zA-Z]', 0)\n",
      "('\\\\d\\\\d\\\\d\\\\d-\\\\d\\\\d\\\\d\\\\d-[a-zA-Z][a-zA-Z][a-zA-Z]', 0)\n",
      "('\\\\d\\\\d\\\\d\\\\d\\\\d\\\\d[a-zA-Z]-\\\\d\\\\d\\\\d', 0)\n",
      "('[a-zA-Z][a-zA-Z]\\\\d\\\\d[a-zA-Z]-[a-zA-Z]\\\\d', 0)\n",
      "('\\\\d\\\\d-\\\\d\\\\d\\\\d\\\\d\\\\d-\\\\d\\\\d', 0)\n",
      "('[a-zA-Z][a-zA-Z][a-zA-Z]-\\\\d[a-zA-Z]\\\\d\\\\d\\\\d', 0)\n",
      "('[a-zA-Z][a-zA-Z][a-zA-Z]-\\\\d\\\\d[a-zA-Z]\\\\d\\\\d\\\\d\\\\d', 0)\n",
      "('[a-zA-Z][a-zA-Z][a-zA-Z]-\\\\d\\\\d[a-zA-Z]\\\\d\\\\d\\\\d\\\\d[a-zA-Z]', 0)\n",
      "('[a-zA-Z][a-zA-Z][a-zA-Z]-\\\\d\\\\d\\\\d\\\\d\\\\d\\\\d\\\\d\\\\d\\\\d\\\\d', 0)\n",
      "('[a-zA-Z][a-zA-Z][a-zA-Z]-\\\\d\\\\d\\\\d\\\\d[a-zA-Z][a-zA-Z]\\\\d\\\\d', 0)\n",
      "('[a-zA-Z][a-zA-Z][a-zA-Z]-\\\\d\\\\d\\\\d[a-zA-Z]\\\\d\\\\d\\\\d\\\\d\\\\d', 0)\n",
      "('[a-zA-Z][a-zA-Z][a-zA-Z]-[a-zA-Z][a-zA-Z]\\\\d\\\\d\\\\d[a-zA-Z][a-zA-Z]', 0)\n",
      "('[a-zA-Z][a-zA-Z][a-zA-Z]-\\\\d\\\\d\\\\d-\\\\d\\\\d\\\\d\\\\d', 0)\n",
      "('[a-zA-Z][a-zA-Z][a-zA-Z]-[a-zA-Z][a-zA-Z]\\\\d\\\\d\\\\d', 0)\n",
      "('[a-zA-Z][a-zA-Z][a-zA-Z]-\\\\d\\\\d\\\\d\\\\d[a-zA-Z]\\\\d\\\\d[a-zA-Z][a-zA-Z]\\\\d', 0)\n",
      "('[a-zA-Z][a-zA-Z]\\\\d\\\\d-[a-zA-Z][a-zA-Z]', 0)\n",
      "('[a-zA-Z][a-zA-Z][a-zA-Z]-[a-zA-Z][a-zA-Z]-\\\\d\\\\d\\\\d[a-zA-Z]', 0)\n",
      "('[a-zA-Z][a-zA-Z][a-zA-Z]-[a-zA-Z]\\\\d\\\\d[a-zA-Z][a-zA-Z]\\\\d\\\\d[a-zA-Z]\\\\d\\\\d\\\\d\\\\d', 0)\n",
      "('[a-zA-Z][a-zA-Z][a-zA-Z]-[a-zA-Z]\\\\d\\\\d\\\\d\\\\d\\\\d\\\\d[a-zA-Z]', 0)\n",
      "('[a-zA-Z][a-zA-Z][a-zA-Z]-[a-zA-Z][a-zA-Z][a-zA-Z][a-zA-Z]-\\\\d\\\\d\\\\d[a-zA-Z]', 0)\n",
      "('[a-zA-Z][a-zA-Z][a-zA-Z]-\\\\d\\\\d\\\\d\\\\d\\\\d[a-zA-Z][a-zA-Z]', 0)\n",
      "('[a-zA-Z][a-zA-Z][a-zA-Z]-\\\\d\\\\d[a-zA-Z]\\\\d[a-zA-Z]\\\\d\\\\d', 0)\n",
      "('[a-zA-Z][a-zA-Z][a-zA-Z]-\\\\d\\\\d[a-zA-Z]\\\\d[a-zA-Z][a-zA-Z]\\\\d', 0)\n",
      "('[a-zA-Z][a-zA-Z][a-zA-Z]-\\\\d\\\\d\\\\d[a-zA-Z][a-zA-Z]', 0)\n",
      "('[a-zA-Z][a-zA-Z][a-zA-Z]-[a-zA-Z]\\\\d\\\\d\\\\d\\\\d[a-zA-Z][a-zA-Z][a-zA-Z]', 0)\n",
      "('[a-zA-Z][a-zA-Z][a-zA-Z]-\\\\d\\\\d-\\\\d\\\\d\\\\d\\\\d\\\\d-\\\\d\\\\d\\\\d', 0)\n",
      "('[a-zA-Z][a-zA-Z][a-zA-Z]-[a-zA-Z]\\\\d\\\\d\\\\d[a-zA-Z]\\\\d[a-zA-Z][a-zA-Z]', 0)\n",
      "('[a-zA-Z][a-zA-Z][a-zA-Z]-\\\\d\\\\d\\\\d\\\\d\\\\d\\\\d-\\\\d\\\\d\\\\d', 0)\n",
      "('[a-zA-Z][a-zA-Z][a-zA-Z]-[a-zA-Z]-\\\\d\\\\d\\\\d', 0)\n",
      "('[a-zA-Z][a-zA-Z][a-zA-Z]-[a-zA-Z]\\\\d\\\\d\\\\d[a-zA-Z]\\\\d\\\\d[a-zA-Z]-[a-zA-Z]', 0)\n",
      "('[a-zA-Z][a-zA-Z][a-zA-Z]-[a-zA-Z]\\\\d\\\\d\\\\d\\\\d\\\\d\\\\d\\\\d', 0)\n",
      "('[a-zA-Z][a-zA-Z][a-zA-Z]-[a-zA-Z][a-zA-Z]\\\\d\\\\d\\\\d\\\\d[a-zA-Z][a-zA-Z]\\\\d\\\\d\\\\d', 0)\n",
      "('[a-zA-Z][a-zA-Z][a-zA-Z]-\\\\d\\\\d[a-zA-Z]\\\\d\\\\d\\\\d\\\\d-[a-zA-Z][a-zA-Z]', 0)\n",
      "('[a-zA-Z][a-zA-Z][a-zA-Z]-[a-zA-Z][a-zA-Z]\\\\d\\\\d\\\\d[a-zA-Z]', 0)\n",
      "('[a-zA-Z][a-zA-Z][a-zA-Z]-\\\\d\\\\d\\\\d\\\\d\\\\d\\\\d', 0)\n",
      "('[a-zA-Z][a-zA-Z][a-zA-Z]-[a-zA-Z][a-zA-Z][a-zA-Z][a-zA-Z][a-zA-Z]\\\\d\\\\d\\\\d[a-zA-Z][a-zA-Z]', 0)\n",
      "('[a-zA-Z][a-zA-Z][a-zA-Z]-\\\\d[a-zA-Z][a-zA-Z]\\\\d\\\\d\\\\d\\\\d\\\\d\\\\d\\\\d', 0)\n",
      "('[a-zA-Z][a-zA-Z][a-zA-Z]-\\\\d\\\\d\\\\d\\\\d\\\\d\\\\d\\\\d\\\\d\\\\d', 0)\n",
      "('[a-zA-Z][a-zA-Z][a-zA-Z]-\\\\d\\\\d\\\\d\\\\d[a-zA-Z][a-zA-Z][a-zA-Z]-\\\\d\\\\d\\\\d', 0)\n",
      "('[a-zA-Z][a-zA-Z][a-zA-Z]-[a-zA-Z][a-zA-Z]\\\\d\\\\d\\\\d[a-zA-Z]-[a-zA-Z]', 0)\n",
      "('[a-zA-Z][a-zA-Z][a-zA-Z]-[a-zA-Z]\\\\d\\\\d\\\\d-\\\\d\\\\d\\\\d\\\\d\\\\d\\\\d', 0)\n",
      "('[a-zA-Z][a-zA-Z][a-zA-Z]-\\\\d[a-zA-Z][a-zA-Z]\\\\d[a-zA-Z]', 0)\n",
      "('[a-zA-Z][a-zA-Z][a-zA-Z]-[a-zA-Z][a-zA-Z]\\\\d\\\\d-\\\\d\\\\d\\\\d\\\\d\\\\d[a-zA-Z]', 0)\n",
      "('[a-zA-Z][a-zA-Z][a-zA-Z]-[a-zA-Z][a-zA-Z][a-zA-Z]\\\\d', 0)\n",
      "('[a-zA-Z][a-zA-Z][a-zA-Z]-\\\\d\\\\d\\\\d\\\\d-\\\\d\\\\d\\\\d', 0)\n",
      "('[a-zA-Z][a-zA-Z][a-zA-Z]-[a-zA-Z]\\\\d[a-zA-Z][a-zA-Z][a-zA-Z][a-zA-Z][a-zA-Z][a-zA-Z][a-zA-Z]', 0)\n",
      "('[a-zA-Z][a-zA-Z][a-zA-Z]-\\\\d\\\\d\\\\d\\\\d\\\\d\\\\d\\\\d\\\\d', 0)\n",
      "('[a-zA-Z][a-zA-Z][a-zA-Z]-\\\\d\\\\d\\\\d\\\\d\\\\d-\\\\d\\\\d-[a-zA-Z]', 0)\n",
      "('[a-zA-Z][a-zA-Z][a-zA-Z]-[a-zA-Z][a-zA-Z][a-zA-Z]\\\\d\\\\d\\\\d[a-zA-Z]', 0)\n",
      "('[a-zA-Z][a-zA-Z][a-zA-Z]-\\\\d\\\\d\\\\d\\\\d[a-zA-Z][a-zA-Z]\\\\d[a-zA-Z][a-zA-Z]\\\\d', 0)\n",
      "('[a-zA-Z][a-zA-Z][a-zA-Z]-[a-zA-Z][a-zA-Z][a-zA-Z]\\\\d\\\\d\\\\d\\\\d[a-zA-Z][a-zA-Z]\\\\d[a-zA-Z]', 0)\n",
      "('[a-zA-Z][a-zA-Z][a-zA-Z]-\\\\d\\\\d\\\\d[a-zA-Z][a-zA-Z]\\\\d\\\\d\\\\d\\\\d\\\\d', 0)\n",
      "('[a-zA-Z][a-zA-Z][a-zA-Z]-[a-zA-Z][a-zA-Z]\\\\d\\\\d\\\\d-\\\\d\\\\d\\\\d\\\\d\\\\d', 0)\n",
      "('[a-zA-Z][a-zA-Z][a-zA-Z]-\\\\d[a-zA-Z]\\\\d\\\\d[a-zA-Z][a-zA-Z]\\\\d[a-zA-Z][a-zA-Z]\\\\d', 0)\n",
      "('\\\\d\\\\d\\\\d-[a-zA-Z]\\\\d[a-zA-Z][a-zA-Z]\\\\d', 0)\n",
      "('[a-zA-Z][a-zA-Z][a-zA-Z]-[a-zA-Z][a-zA-Z]\\\\d\\\\d\\\\d\\\\d\\\\d\\\\d', 0)\n",
      "('[a-zA-Z][a-zA-Z][a-zA-Z]-\\\\d\\\\d[a-zA-Z]\\\\d\\\\d\\\\d\\\\d\\\\d', 0)\n",
      "('[a-zA-Z][a-zA-Z][a-zA-Z]-[a-zA-Z][a-zA-Z]\\\\d\\\\d\\\\d\\\\d\\\\d\\\\d\\\\d', 0)\n",
      "('[a-zA-Z][a-zA-Z][a-zA-Z]-[a-zA-Z]\\\\d\\\\d[a-zA-Z][a-zA-Z]\\\\d\\\\d\\\\d\\\\d\\\\d', 0)\n",
      "('[a-zA-Z][a-zA-Z][a-zA-Z]-\\\\d\\\\d\\\\d[a-zA-Z]\\\\d\\\\d\\\\d\\\\d\\\\d\\\\d', 0)\n",
      "('[a-zA-Z][a-zA-Z][a-zA-Z]-[a-zA-Z][a-zA-Z][a-zA-Z]\\\\d\\\\d\\\\d\\\\d\\\\d\\\\d', 0)\n",
      "('[a-zA-Z][a-zA-Z][a-zA-Z]-[a-zA-Z][a-zA-Z]\\\\d\\\\d\\\\d[a-zA-Z][a-zA-Z][a-zA-Z]', 0)\n",
      "('\\\\d[a-zA-Z]-[a-zA-Z][a-zA-Z]\\\\d\\\\d\\\\d-[a-zA-Z]\\\\d', 0)\n",
      "('\\\\d[a-zA-Z]\\\\d-\\\\d\\\\d\\\\d\\\\d-\\\\d\\\\d\\\\d[a-zA-Z][a-zA-Z]', 0)\n",
      "('[a-zA-Z]\\\\d\\\\d\\\\d\\\\d-\\\\d\\\\d\\\\d\\\\d\\\\d[a-zA-Z][a-zA-Z][a-zA-Z][a-zA-Z]', 0)\n",
      "('[a-zA-Z][a-zA-Z][a-zA-Z]-[a-zA-Z][a-zA-Z][a-zA-Z]\\\\d[a-zA-Z][a-zA-Z][a-zA-Z]\\\\d\\\\d\\\\d', 0)\n",
      "('[a-zA-Z][a-zA-Z][a-zA-Z]-[a-zA-Z]\\\\d\\\\d\\\\d\\\\d\\\\d\\\\d\\\\d\\\\d\\\\d', 0)\n",
      "('[a-zA-Z][a-zA-Z]\\\\d\\\\d-\\\\d\\\\d\\\\d\\\\d\\\\d[a-zA-Z]', 0)\n",
      "('[a-zA-Z][a-zA-Z][a-zA-Z]-\\\\d\\\\d\\\\d\\\\d[a-zA-Z][a-zA-Z][a-zA-Z]', 0)\n",
      "('[a-zA-Z][a-zA-Z][a-zA-Z]-\\\\d\\\\d\\\\d\\\\d[a-zA-Z][a-zA-Z][a-zA-Z]-[a-zA-Z]', 0)\n",
      "('[a-zA-Z][a-zA-Z][a-zA-Z]-\\\\d\\\\d\\\\d\\\\d[a-zA-Z][a-zA-Z]', 0)\n",
      "('[a-zA-Z][a-zA-Z][a-zA-Z]-\\\\d\\\\d\\\\d\\\\d-[a-zA-Z]\\\\d', 0)\n",
      "('[a-zA-Z][a-zA-Z][a-zA-Z]-[a-zA-Z]\\\\d\\\\d\\\\d-[a-zA-Z]\\\\d', 0)\n",
      "('[a-zA-Z][a-zA-Z][a-zA-Z]-[a-zA-Z]\\\\d\\\\d\\\\d[a-zA-Z]', 0)\n",
      "('[a-zA-Z][a-zA-Z][a-zA-Z]-[a-zA-Z]\\\\d\\\\d\\\\d[a-zA-Z]\\\\d\\\\d[a-zA-Z]', 0)\n",
      "('[a-zA-Z][a-zA-Z][a-zA-Z]-[a-zA-Z][a-zA-Z][a-zA-Z][a-zA-Z][a-zA-Z]\\\\d\\\\d\\\\d\\\\d[a-zA-Z]', 0)\n",
      "('[a-zA-Z][a-zA-Z][a-zA-Z][a-zA-Z][a-zA-Z][a-zA-Z][a-zA-Z]-\\\\d\\\\d\\\\d\\\\d[a-zA-Z][a-zA-Z]\\\\d\\\\d', 0)\n",
      "('[a-zA-Z][a-zA-Z][a-zA-Z]-\\\\d\\\\d\\\\d-\\\\d\\\\d\\\\d\\\\d-\\\\d', 0)\n",
      "('\\\\d\\\\d-\\\\d\\\\d\\\\d\\\\d', 0)\n",
      "('[a-zA-Z]\\\\d\\\\d\\\\d\\\\d-\\\\d\\\\d\\\\d\\\\d\\\\d-[a-zA-Z][a-zA-Z][a-zA-Z]', 0)\n",
      "('[a-zA-Z]\\\\d\\\\d\\\\d[a-zA-Z][a-zA-Z]\\\\d\\\\d[a-zA-Z]-\\\\d\\\\d\\\\d\\\\d\\\\d', 0)\n",
      "('\\\\d\\\\d[a-zA-Z][a-zA-Z]-\\\\d\\\\d\\\\d\\\\d\\\\d[a-zA-Z][a-zA-Z]', 0)\n",
      "('[a-zA-Z][a-zA-Z]\\\\d-\\\\d\\\\d\\\\d\\\\d-[a-zA-Z][a-zA-Z][a-zA-Z][a-zA-Z]', 0)\n",
      "('[a-zA-Z][a-zA-Z]\\\\d\\\\d\\\\d-\\\\d\\\\d\\\\d\\\\d\\\\d-[a-zA-Z][a-zA-Z]', 0)\n",
      "('[a-zA-Z][a-zA-Z][a-zA-Z][a-zA-Z][a-zA-Z][a-zA-Z][a-zA-Z]-\\\\d\\\\d\\\\d\\\\d[a-zA-Z][a-zA-Z][a-zA-Z][a-zA-Z]', 0)\n",
      "('[a-zA-Z][a-zA-Z][a-zA-Z][a-zA-Z][a-zA-Z][a-zA-Z][a-zA-Z]-\\\\d\\\\d\\\\d\\\\d[a-zA-Z][a-zA-Z][a-zA-Z]\\\\d', 0)\n",
      "('\\\\d\\\\d\\\\d-\\\\d\\\\d-\\\\d\\\\d-\\\\d\\\\d\\\\d', 0)\n",
      "('\\\\d\\\\d\\\\d\\\\d\\\\d\\\\d\\\\d\\\\d\\\\d-\\\\d\\\\d', 0)\n",
      "('[a-zA-Z][a-zA-Z][a-zA-Z][a-zA-Z][a-zA-Z][a-zA-Z][a-zA-Z][a-zA-Z]\\\\d\\\\d\\\\d[a-zA-Z]\\\\d[a-zA-Z]-\\\\d', 0)\n",
      "('[a-zA-Z][a-zA-Z][a-zA-Z][a-zA-Z][a-zA-Z][a-zA-Z][a-zA-Z][a-zA-Z][a-zA-Z]\\\\d\\\\d[a-zA-Z]\\\\d\\\\d-\\\\d', 0)\n",
      "('[a-zA-Z][a-zA-Z][a-zA-Z][a-zA-Z]-[a-zA-Z][a-zA-Z]\\\\d\\\\d\\\\d\\\\d[a-zA-Z][a-zA-Z][a-zA-Z][a-zA-Z]', 0)\n",
      "('[a-zA-Z][a-zA-Z][a-zA-Z][a-zA-Z][a-zA-Z][a-zA-Z]-[a-zA-Z]\\\\d\\\\d\\\\d\\\\d[a-zA-Z][a-zA-Z][a-zA-Z][a-zA-Z]', 0)\n",
      "('[a-zA-Z][a-zA-Z][a-zA-Z][a-zA-Z][a-zA-Z][a-zA-Z][a-zA-Z][a-zA-Z]\\\\d[a-zA-Z]\\\\d\\\\d[a-zA-Z][a-zA-Z]-\\\\d', 0)\n",
      "('[a-zA-Z][a-zA-Z][a-zA-Z][a-zA-Z][a-zA-Z]-[a-zA-Z][a-zA-Z]\\\\d\\\\d\\\\d\\\\d[a-zA-Z][a-zA-Z][a-zA-Z][a-zA-Z]', 0)\n",
      "('\\\\d\\\\d\\\\d-\\\\d\\\\d\\\\d\\\\d\\\\d\\\\d', 0)\n",
      "('[a-zA-Z][a-zA-Z][a-zA-Z][a-zA-Z][a-zA-Z][a-zA-Z][a-zA-Z][a-zA-Z]\\\\d[a-zA-Z]\\\\d\\\\d[a-zA-Z]\\\\d-\\\\d\\\\d', 0)\n",
      "('[a-zA-Z]\\\\d\\\\d-\\\\d\\\\d\\\\d\\\\d', 0)\n",
      "('\\\\d\\\\d\\\\d\\\\d\\\\d\\\\d\\\\d\\\\d\\\\d-\\\\d', 0)\n",
      "('[a-zA-Z]\\\\d-[a-zA-Z][a-zA-Z][a-zA-Z][a-zA-Z][a-zA-Z]-\\\\d\\\\d', 0)\n",
      "('[a-zA-Z][a-zA-Z]\\\\d-\\\\d\\\\d\\\\d\\\\d-\\\\d\\\\d\\\\d-[a-zA-Z][a-zA-Z]', 0)\n",
      "('[a-zA-Z]\\\\d[a-zA-Z]\\\\d\\\\d-\\\\d\\\\d\\\\d\\\\d\\\\d-[a-zA-Z][a-zA-Z]', 0)\n",
      "('[a-zA-Z][a-zA-Z]\\\\d\\\\d\\\\d\\\\d\\\\d-[a-zA-Z]\\\\d\\\\d\\\\d[a-zA-Z][a-zA-Z]', 0)\n",
      "('[a-zA-Z][a-zA-Z]\\\\d\\\\d\\\\d-\\\\d\\\\d\\\\d\\\\d\\\\d-[a-zA-Z][a-zA-Z][a-zA-Z][a-zA-Z]', 0)\n",
      "('[a-zA-Z][a-zA-Z]\\\\d\\\\d-[a-zA-Z]\\\\d', 0)\n",
      "('[a-zA-Z][a-zA-Z][a-zA-Z][a-zA-Z][a-zA-Z][a-zA-Z]-[a-zA-Z]\\\\d\\\\d\\\\d\\\\d[a-zA-Z][a-zA-Z][a-zA-Z]', 0)\n",
      "('[a-zA-Z][a-zA-Z]\\\\d\\\\d[a-zA-Z]-[a-zA-Z][a-zA-Z]', 0)\n",
      "('[a-zA-Z][a-zA-Z][a-zA-Z][a-zA-Z][a-zA-Z][a-zA-Z]-\\\\d\\\\d\\\\d\\\\d[a-zA-Z][a-zA-Z][a-zA-Z][a-zA-Z]', 0)\n"
     ]
    }
   ],
   "source": [
    "some_text_entities, some_pattern_matchs = generate_label(texts, patterns=patterns)\n",
    "show_entity_label(some_text_entities, some_pattern_matchs)"
   ]
  },
  {
   "cell_type": "markdown",
   "id": "c8f2c5b0",
   "metadata": {},
   "source": [
    "#### find potential actions \n",
    "\n",
    "it has some effects, but not good enough."
   ]
  },
  {
   "cell_type": "code",
   "execution_count": 237,
   "id": "bbc5155e",
   "metadata": {
    "ExecuteTime": {
     "end_time": "2021-08-25T07:40:35.433465Z",
     "start_time": "2021-08-25T07:40:35.031584Z"
    }
   },
   "outputs": [
    {
     "name": "stdout",
     "output_type": "stream",
     "text": [
      "====================================================================================================\n"
     ]
    },
    {
     "data": {
      "text/html": [
       "<span class=\"tex2jax_ignore\"><div class=\"entities\" style=\"line-height: 2.5; direction: ltr\">order qty 1 \n",
       "<mark class=\"entity\" style=\"background: #92E0AA; padding: 0.45em 0.6em; margin: 0 0.25em; line-height: 1; border-radius: 0.35em;\">\n",
       "    fe-15520-01\n",
       "    <span style=\"font-size: 0.8em; font-weight: bold; line-height: 1; border-radius: 0.35em; vertical-align: middle; margin-left: 0.5rem\">PART_NUM</span>\n",
       "</mark>\n",
       " nbd to my hal in lenexa . thank you . </div></span>"
      ],
      "text/plain": [
       "<IPython.core.display.HTML object>"
      ]
     },
     "metadata": {},
     "output_type": "display_data"
    },
    {
     "name": "stdout",
     "output_type": "stream",
     "text": [
      "====================================================================================================\n"
     ]
    },
    {
     "data": {
      "text/html": [
       "<span class=\"tex2jax_ignore\"><div class=\"entities\" style=\"line-height: 2.5; direction: ltr\">orders qty 1 \n",
       "<mark class=\"entity\" style=\"background: #92E0AA; padding: 0.45em 0.6em; margin: 0 0.25em; line-height: 1; border-radius: 0.35em;\">\n",
       "    fe-15520-01\n",
       "    <span style=\"font-size: 0.8em; font-weight: bold; line-height: 1; border-radius: 0.35em; vertical-align: middle; margin-left: 0.5rem\">PART_NUM</span>\n",
       "</mark>\n",
       " nbd to my hal in lenexa . thank you . </div></span>"
      ],
      "text/plain": [
       "<IPython.core.display.HTML object>"
      ]
     },
     "metadata": {},
     "output_type": "display_data"
    },
    {
     "name": "stdout",
     "output_type": "stream",
     "text": [
      "====================================================================================================\n"
     ]
    },
    {
     "data": {
      "text/html": [
       "<span class=\"tex2jax_ignore\"><div class=\"entities\" style=\"line-height: 2.5; direction: ltr\">send qty 1 \n",
       "<mark class=\"entity\" style=\"background: #92E0AA; padding: 0.45em 0.6em; margin: 0 0.25em; line-height: 1; border-radius: 0.35em;\">\n",
       "    fe-15520-01\n",
       "    <span style=\"font-size: 0.8em; font-weight: bold; line-height: 1; border-radius: 0.35em; vertical-align: middle; margin-left: 0.5rem\">PART_NUM</span>\n",
       "</mark>\n",
       " nbd to my hal in lenexa . thank you . </div></span>"
      ],
      "text/plain": [
       "<IPython.core.display.HTML object>"
      ]
     },
     "metadata": {},
     "output_type": "display_data"
    },
    {
     "name": "stdout",
     "output_type": "stream",
     "text": [
      "====================================================================================================\n"
     ]
    },
    {
     "data": {
      "text/html": [
       "<span class=\"tex2jax_ignore\"><div class=\"entities\" style=\"line-height: 2.5; direction: ltr\">sends qty 1 \n",
       "<mark class=\"entity\" style=\"background: #92E0AA; padding: 0.45em 0.6em; margin: 0 0.25em; line-height: 1; border-radius: 0.35em;\">\n",
       "    fe-15520-01\n",
       "    <span style=\"font-size: 0.8em; font-weight: bold; line-height: 1; border-radius: 0.35em; vertical-align: middle; margin-left: 0.5rem\">PART_NUM</span>\n",
       "</mark>\n",
       " nbd to my hal in lenexa . thank you . </div></span>"
      ],
      "text/plain": [
       "<IPython.core.display.HTML object>"
      ]
     },
     "metadata": {},
     "output_type": "display_data"
    },
    {
     "name": "stdout",
     "output_type": "stream",
     "text": [
      "====================================================================================================\n"
     ]
    },
    {
     "data": {
      "text/html": [
       "<span class=\"tex2jax_ignore\"><div class=\"entities\" style=\"line-height: 2.5; direction: ltr\">ship qty 1 \n",
       "<mark class=\"entity\" style=\"background: #92E0AA; padding: 0.45em 0.6em; margin: 0 0.25em; line-height: 1; border-radius: 0.35em;\">\n",
       "    fe-15520-01\n",
       "    <span style=\"font-size: 0.8em; font-weight: bold; line-height: 1; border-radius: 0.35em; vertical-align: middle; margin-left: 0.5rem\">PART_NUM</span>\n",
       "</mark>\n",
       " nbd to my hal in lenexa . thank you . </div></span>"
      ],
      "text/plain": [
       "<IPython.core.display.HTML object>"
      ]
     },
     "metadata": {},
     "output_type": "display_data"
    },
    {
     "name": "stdout",
     "output_type": "stream",
     "text": [
      "====================================================================================================\n"
     ]
    },
    {
     "data": {
      "text/html": [
       "<span class=\"tex2jax_ignore\"><div class=\"entities\" style=\"line-height: 2.5; direction: ltr\">ships qty 1 \n",
       "<mark class=\"entity\" style=\"background: #92E0AA; padding: 0.45em 0.6em; margin: 0 0.25em; line-height: 1; border-radius: 0.35em;\">\n",
       "    fe-15520-01\n",
       "    <span style=\"font-size: 0.8em; font-weight: bold; line-height: 1; border-radius: 0.35em; vertical-align: middle; margin-left: 0.5rem\">PART_NUM</span>\n",
       "</mark>\n",
       " nbd to my hal in lenexa . thank you . 2012-02-02</div></span>"
      ],
      "text/plain": [
       "<IPython.core.display.HTML object>"
      ]
     },
     "metadata": {},
     "output_type": "display_data"
    }
   ],
   "source": [
    "texts = ['order qty 1 fe-15520-01 nbd to my hal in lenexa . thank you . ',\n",
    "         'orders qty 1 fe-15520-01 nbd to my hal in lenexa . thank you . ',\n",
    "         'send qty 1 fe-15520-01 nbd to my hal in lenexa . thank you . ',\n",
    "         'sends qty 1 fe-15520-01 nbd to my hal in lenexa . thank you . ',\n",
    "         'ship qty 1 fe-15520-01 nbd to my hal in lenexa . thank you . ',\n",
    "         'ships qty 1 fe-15520-01 nbd to my hal in lenexa . thank you . 2012-02-02',         \n",
    "        ]\n",
    "\n",
    "show_texts(texts, show_detail=False) "
   ]
  },
  {
   "cell_type": "markdown",
   "id": "f5a68cad",
   "metadata": {},
   "source": [
    "## Output Results"
   ]
  },
  {
   "cell_type": "code",
   "execution_count": null,
   "id": "fe5490b7",
   "metadata": {
    "ExecuteTime": {
     "end_time": "2021-08-25T00:34:35.771171Z",
     "start_time": "2021-08-25T00:31:47.480Z"
    }
   },
   "outputs": [],
   "source": [
    "parts = "
   ]
  }
 ],
 "metadata": {
  "kernelspec": {
   "display_name": "Python 3",
   "language": "python",
   "name": "python3"
  },
  "language_info": {
   "codemirror_mode": {
    "name": "ipython",
    "version": 3
   },
   "file_extension": ".py",
   "mimetype": "text/x-python",
   "name": "python",
   "nbconvert_exporter": "python",
   "pygments_lexer": "ipython3",
   "version": "3.6.9"
  },
  "toc": {
   "base_numbering": 1,
   "nav_menu": {},
   "number_sections": true,
   "sideBar": true,
   "skip_h1_title": false,
   "title_cell": "Table of Contents",
   "title_sidebar": "Contents",
   "toc_cell": false,
   "toc_position": {
    "height": "calc(100% - 180px)",
    "left": "10px",
    "top": "150px",
    "width": "426.641px"
   },
   "toc_section_display": true,
   "toc_window_display": true
  }
 },
 "nbformat": 4,
 "nbformat_minor": 5
}
