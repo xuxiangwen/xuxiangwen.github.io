{
 "cells": [
  {
   "cell_type": "code",
   "execution_count": 1,
   "id": "28990d1b",
   "metadata": {
    "ExecuteTime": {
     "end_time": "2021-08-24T16:14:51.525554Z",
     "start_time": "2021-08-24T16:14:47.324420Z"
    }
   },
   "outputs": [],
   "source": [
    "import csv\n",
    "import pandas as pd\n",
    "import numpy as np\n",
    "import re \n",
    "import spacy\n",
    "\n",
    "from tqdm import tqdm\n",
    "from spacy.tokens import DocBin\n",
    "from sklearn.model_selection import train_test_split\n",
    "\n",
    "# ebablbe auto-completion\n",
    "%config Completer.use_jedi = False"
   ]
  },
  {
   "cell_type": "markdown",
   "id": "241f2b20",
   "metadata": {},
   "source": [
    "## Generate Config File\n",
    "\n",
    "download model."
   ]
  },
  {
   "cell_type": "code",
   "execution_count": 2,
   "id": "15a880fa",
   "metadata": {
    "ExecuteTime": {
     "end_time": "2021-08-24T16:14:51.530291Z",
     "start_time": "2021-08-24T16:14:51.528061Z"
    }
   },
   "outputs": [],
   "source": [
    "# !python -m spacy download en_core_web_trf"
   ]
  },
  {
   "cell_type": "markdown",
   "id": "a0e04d30",
   "metadata": {},
   "source": [
    "generate base_config.cfg and base_config_gpu.cfg on https://spacy.io/usage/training#quickstart"
   ]
  },
  {
   "cell_type": "code",
   "execution_count": 3,
   "id": "9704539b",
   "metadata": {
    "ExecuteTime": {
     "end_time": "2021-08-24T16:14:51.537674Z",
     "start_time": "2021-08-24T16:14:51.535411Z"
    }
   },
   "outputs": [],
   "source": [
    "# !python -m spacy init fill-config base_config.cfg config.cfg\n",
    "# !python -m spacy init fill-config base_config_gpu.cfg config_gpu.cfg"
   ]
  },
  {
   "cell_type": "markdown",
   "id": "4b171699",
   "metadata": {},
   "source": [
    "## Gather Data"
   ]
  },
  {
   "cell_type": "markdown",
   "id": "00ed4da0",
   "metadata": {},
   "source": [
    "###  Convert Excel to Txt\n",
    "upload the excel file to http://15.15.166.35:18888/tree/eipi10/jian-xu3/snps-classification/snps/etl/data/case_note_ner/xlsx\n",
    "\n",
    "~~~shell\n",
    "!pip install xlrd==1.2.0\n",
    "~~~"
   ]
  },
  {
   "cell_type": "code",
   "execution_count": 4,
   "id": "800baa96",
   "metadata": {
    "ExecuteTime": {
     "end_time": "2021-08-24T16:14:51.543623Z",
     "start_time": "2021-08-24T16:14:51.539909Z"
    }
   },
   "outputs": [],
   "source": [
    "# !ls -l /tf/eipi10/jian-xu3/snps-classification/snps/etl/data/case_note_ner/xlsx/ "
   ]
  },
  {
   "cell_type": "code",
   "execution_count": 5,
   "id": "a8e4e1c7",
   "metadata": {
    "ExecuteTime": {
     "end_time": "2021-08-24T16:14:51.549616Z",
     "start_time": "2021-08-24T16:14:51.545945Z"
    }
   },
   "outputs": [],
   "source": [
    "# ! /tf/eipi10/jian-xu3/snps-classification/snps/etl/xlsx2txt.py  case_note_ner '' 1 '\\t'"
   ]
  },
  {
   "cell_type": "markdown",
   "id": "e640dc4b",
   "metadata": {},
   "source": [
    "### Load Txt File"
   ]
  },
  {
   "cell_type": "code",
   "execution_count": 6,
   "id": "c7829e62",
   "metadata": {
    "ExecuteTime": {
     "end_time": "2021-08-24T16:14:51.613707Z",
     "start_time": "2021-08-24T16:14:51.551675Z"
    }
   },
   "outputs": [],
   "source": [
    "\n",
    "def load_data(text_file):\n",
    "    names = ['Case_ID', 'Work_Order_Number', 'Created_On', 'Service_Account', 'Due_Date', \n",
    "             'Action_Booking_status', 'Action_Date', 'Currently_Worked_by', 'Owner', 'Product_Line', \n",
    "             'Follow_Up_Reason_Code', 'Response_Time', 'Work_Order_Type', 'Postal_Code', 'Active_Booking', \n",
    "             'Follow_Up_Type', 'Business_Segment', 'Follow_Up_Note', 'Reschedule_Note']\n",
    "    dtypes = [np.str, np.str, np.str, np.str, np.str, \n",
    "              np.str, np.str, np.str, np.str, np.str, \n",
    "              np.str, np.str, np.str, np.str, np.str,\n",
    "              np.str, np.str, np.str, np.str]\n",
    "    dtypes = {name:dtype for name, dtype in zip(names, dtypes)}\n",
    "    df = pd.read_table(text_file, names=names, dtype=dtypes, quoting=csv.QUOTE_NONE)\n",
    "\n",
    "    df.index = range(1, len(df)+1) \n",
    "    df['id'] = df.index\n",
    "      \n",
    "    return df\n",
    "\n",
    "text_file='/tf/eipi10/jian-xu3/snps-classification/snps/etl/data/case_note_ner/txt/3RS_July_Extraction_with_notes_004.txt'\n",
    "df_case = load_data(text_file)"
   ]
  },
  {
   "cell_type": "code",
   "execution_count": 7,
   "id": "539ade87",
   "metadata": {
    "ExecuteTime": {
     "end_time": "2021-08-24T16:14:51.703027Z",
     "start_time": "2021-08-24T16:14:51.617422Z"
    }
   },
   "outputs": [
    {
     "name": "stdout",
     "output_type": "stream",
     "text": [
      "--------------------------------------------------\n",
      "7039\n",
      "--------------------------------------------------\n"
     ]
    },
    {
     "data": {
      "text/html": [
       "<div>\n",
       "<style scoped>\n",
       "    .dataframe tbody tr th:only-of-type {\n",
       "        vertical-align: middle;\n",
       "    }\n",
       "\n",
       "    .dataframe tbody tr th {\n",
       "        vertical-align: top;\n",
       "    }\n",
       "\n",
       "    .dataframe thead th {\n",
       "        text-align: right;\n",
       "    }\n",
       "</style>\n",
       "<table border=\"1\" class=\"dataframe\">\n",
       "  <thead>\n",
       "    <tr style=\"text-align: right;\">\n",
       "      <th></th>\n",
       "      <th>Case_ID</th>\n",
       "      <th>Work_Order_Number</th>\n",
       "      <th>Created_On</th>\n",
       "      <th>Service_Account</th>\n",
       "      <th>Due_Date</th>\n",
       "      <th>Action_Booking_status</th>\n",
       "      <th>Action_Date</th>\n",
       "      <th>Currently_Worked_by</th>\n",
       "      <th>Owner</th>\n",
       "      <th>Product_Line</th>\n",
       "      <th>Follow_Up_Reason_Code</th>\n",
       "      <th>Response_Time</th>\n",
       "      <th>Work_Order_Type</th>\n",
       "      <th>Postal_Code</th>\n",
       "      <th>Active_Booking</th>\n",
       "      <th>Follow_Up_Type</th>\n",
       "      <th>Business_Segment</th>\n",
       "      <th>Follow_Up_Note</th>\n",
       "      <th>Reschedule_Note</th>\n",
       "      <th>id</th>\n",
       "    </tr>\n",
       "  </thead>\n",
       "  <tbody>\n",
       "    <tr>\n",
       "      <th>1</th>\n",
       "      <td>5060815932</td>\n",
       "      <td>WO-012952625</td>\n",
       "      <td>2021-02-03 10:38:00</td>\n",
       "      <td>William Torres</td>\n",
       "      <td>2021-04-26 15:00:00</td>\n",
       "      <td>Additional Parts Required</td>\n",
       "      <td>2021-07-03 11:45:00</td>\n",
       "      <td>Kerby Singleton</td>\n",
       "      <td>Nancy Quesada</td>\n",
       "      <td>Commercial Desktop PC Premium L6</td>\n",
       "      <td>NaN</td>\n",
       "      <td>NCD</td>\n",
       "      <td>Break Fix</td>\n",
       "      <td>30305</td>\n",
       "      <td>PC-Kerby Singleton</td>\n",
       "      <td>Additional Parts Required</td>\n",
       "      <td>Computing</td>\n",
       "      <td>NaN</td>\n",
       "      <td>#NORMAL Part escalated</td>\n",
       "      <td>1</td>\n",
       "    </tr>\n",
       "    <tr>\n",
       "      <th>2</th>\n",
       "      <td>5060815932</td>\n",
       "      <td>WO-012952625</td>\n",
       "      <td>2021-02-03 10:38:00</td>\n",
       "      <td>William Torres</td>\n",
       "      <td>2021-04-26 15:00:00</td>\n",
       "      <td>Additional Parts Required</td>\n",
       "      <td>2021-07-03 11:45:00</td>\n",
       "      <td>Kerby Singleton</td>\n",
       "      <td>Nancy Quesada</td>\n",
       "      <td>Commercial Desktop PC Premium L6</td>\n",
       "      <td>NaN</td>\n",
       "      <td>NCD</td>\n",
       "      <td>Break Fix</td>\n",
       "      <td>30305</td>\n",
       "      <td>PC-Kerby Singleton</td>\n",
       "      <td>Additional Parts Required</td>\n",
       "      <td>Computing</td>\n",
       "      <td>NaN</td>\n",
       "      <td>Please cancel backordered part. Customer has c...</td>\n",
       "      <td>2</td>\n",
       "    </tr>\n",
       "    <tr>\n",
       "      <th>3</th>\n",
       "      <td>5061272897</td>\n",
       "      <td>WO-013009621</td>\n",
       "      <td>2021-02-09 13:39:00</td>\n",
       "      <td>LAS VEGAS METRO POLICE DEPT</td>\n",
       "      <td>2021-02-24 19:00:00</td>\n",
       "      <td>Additional Parts Required</td>\n",
       "      <td>2021-07-16 15:30:00</td>\n",
       "      <td>NaN</td>\n",
       "      <td>Avinash Shukla</td>\n",
       "      <td>Commercial Premium Notebooks</td>\n",
       "      <td>NaN</td>\n",
       "      <td>NCD</td>\n",
       "      <td>Break Fix</td>\n",
       "      <td>89101</td>\n",
       "      <td>PC-Joe Walper</td>\n",
       "      <td>Additional Parts Required</td>\n",
       "      <td>Computing</td>\n",
       "      <td>NaN</td>\n",
       "      <td>According to bryan this laptop shows repair co...</td>\n",
       "      <td>3</td>\n",
       "    </tr>\n",
       "    <tr>\n",
       "      <th>4</th>\n",
       "      <td>5061272897</td>\n",
       "      <td>WO-013009621</td>\n",
       "      <td>2021-02-09 13:39:00</td>\n",
       "      <td>LAS VEGAS METRO POLICE DEPT</td>\n",
       "      <td>2021-02-24 19:00:00</td>\n",
       "      <td>Additional Parts Required</td>\n",
       "      <td>2021-07-16 15:30:00</td>\n",
       "      <td>NaN</td>\n",
       "      <td>Avinash Shukla</td>\n",
       "      <td>Commercial Premium Notebooks</td>\n",
       "      <td>NaN</td>\n",
       "      <td>NCD</td>\n",
       "      <td>Break Fix</td>\n",
       "      <td>89101</td>\n",
       "      <td>PC-Joe Walper</td>\n",
       "      <td>Additional Parts Required</td>\n",
       "      <td>Computing</td>\n",
       "      <td>NaN</td>\n",
       "      <td>Back order part</td>\n",
       "      <td>4</td>\n",
       "    </tr>\n",
       "    <tr>\n",
       "      <th>5</th>\n",
       "      <td>5061278521</td>\n",
       "      <td>WO-013010632-4</td>\n",
       "      <td>2021-06-16 12:17:00</td>\n",
       "      <td>MR. REGINALD JOSEPH</td>\n",
       "      <td>2021-07-15 14:42:00</td>\n",
       "      <td>Reschedule</td>\n",
       "      <td>2021-07-15 13:09:00</td>\n",
       "      <td>NaN</td>\n",
       "      <td>JOCILYN ANDREA SANDI DURAN</td>\n",
       "      <td>Commercial Premium Notebooks</td>\n",
       "      <td>NaN</td>\n",
       "      <td>NCD</td>\n",
       "      <td>Break Fix</td>\n",
       "      <td>20785</td>\n",
       "      <td>USA-PR-USYWWDWN_E_A_EEG</td>\n",
       "      <td>Reschedule</td>\n",
       "      <td>Computing</td>\n",
       "      <td>NaN</td>\n",
       "      <td>NaN</td>\n",
       "      <td>5</td>\n",
       "    </tr>\n",
       "  </tbody>\n",
       "</table>\n",
       "</div>"
      ],
      "text/plain": [
       "      Case_ID Work_Order_Number           Created_On  \\\n",
       "1  5060815932      WO-012952625  2021-02-03 10:38:00   \n",
       "2  5060815932      WO-012952625  2021-02-03 10:38:00   \n",
       "3  5061272897      WO-013009621  2021-02-09 13:39:00   \n",
       "4  5061272897      WO-013009621  2021-02-09 13:39:00   \n",
       "5  5061278521    WO-013010632-4  2021-06-16 12:17:00   \n",
       "\n",
       "               Service_Account             Due_Date  \\\n",
       "1               William Torres  2021-04-26 15:00:00   \n",
       "2               William Torres  2021-04-26 15:00:00   \n",
       "3  LAS VEGAS METRO POLICE DEPT  2021-02-24 19:00:00   \n",
       "4  LAS VEGAS METRO POLICE DEPT  2021-02-24 19:00:00   \n",
       "5          MR. REGINALD JOSEPH  2021-07-15 14:42:00   \n",
       "\n",
       "       Action_Booking_status          Action_Date Currently_Worked_by  \\\n",
       "1  Additional Parts Required  2021-07-03 11:45:00     Kerby Singleton   \n",
       "2  Additional Parts Required  2021-07-03 11:45:00     Kerby Singleton   \n",
       "3  Additional Parts Required  2021-07-16 15:30:00                 NaN   \n",
       "4  Additional Parts Required  2021-07-16 15:30:00                 NaN   \n",
       "5                 Reschedule  2021-07-15 13:09:00                 NaN   \n",
       "\n",
       "                        Owner                      Product_Line  \\\n",
       "1               Nancy Quesada  Commercial Desktop PC Premium L6   \n",
       "2               Nancy Quesada  Commercial Desktop PC Premium L6   \n",
       "3              Avinash Shukla      Commercial Premium Notebooks   \n",
       "4              Avinash Shukla      Commercial Premium Notebooks   \n",
       "5  JOCILYN ANDREA SANDI DURAN      Commercial Premium Notebooks   \n",
       "\n",
       "  Follow_Up_Reason_Code Response_Time Work_Order_Type Postal_Code  \\\n",
       "1                   NaN           NCD       Break Fix       30305   \n",
       "2                   NaN           NCD       Break Fix       30305   \n",
       "3                   NaN           NCD       Break Fix       89101   \n",
       "4                   NaN           NCD       Break Fix       89101   \n",
       "5                   NaN           NCD       Break Fix       20785   \n",
       "\n",
       "            Active_Booking             Follow_Up_Type Business_Segment  \\\n",
       "1       PC-Kerby Singleton  Additional Parts Required        Computing   \n",
       "2       PC-Kerby Singleton  Additional Parts Required        Computing   \n",
       "3            PC-Joe Walper  Additional Parts Required        Computing   \n",
       "4            PC-Joe Walper  Additional Parts Required        Computing   \n",
       "5  USA-PR-USYWWDWN_E_A_EEG                 Reschedule        Computing   \n",
       "\n",
       "  Follow_Up_Note                                    Reschedule_Note  id  \n",
       "1            NaN                             #NORMAL Part escalated   1  \n",
       "2            NaN  Please cancel backordered part. Customer has c...   2  \n",
       "3            NaN  According to bryan this laptop shows repair co...   3  \n",
       "4            NaN                                    Back order part   4  \n",
       "5            NaN                                                NaN   5  "
      ]
     },
     "metadata": {},
     "output_type": "display_data"
    },
    {
     "name": "stdout",
     "output_type": "stream",
     "text": [
      "--------------------------------------------------\n"
     ]
    },
    {
     "data": {
      "text/html": [
       "<div>\n",
       "<style scoped>\n",
       "    .dataframe tbody tr th:only-of-type {\n",
       "        vertical-align: middle;\n",
       "    }\n",
       "\n",
       "    .dataframe tbody tr th {\n",
       "        vertical-align: top;\n",
       "    }\n",
       "\n",
       "    .dataframe thead th {\n",
       "        text-align: right;\n",
       "    }\n",
       "</style>\n",
       "<table border=\"1\" class=\"dataframe\">\n",
       "  <thead>\n",
       "    <tr style=\"text-align: right;\">\n",
       "      <th></th>\n",
       "      <th>count</th>\n",
       "      <th>mean</th>\n",
       "      <th>std</th>\n",
       "      <th>min</th>\n",
       "      <th>25%</th>\n",
       "      <th>50%</th>\n",
       "      <th>75%</th>\n",
       "      <th>max</th>\n",
       "    </tr>\n",
       "  </thead>\n",
       "  <tbody>\n",
       "    <tr>\n",
       "      <th>id</th>\n",
       "      <td>7039.0</td>\n",
       "      <td>3520.0</td>\n",
       "      <td>2032.128605</td>\n",
       "      <td>1.0</td>\n",
       "      <td>1760.5</td>\n",
       "      <td>3520.0</td>\n",
       "      <td>5279.5</td>\n",
       "      <td>7039.0</td>\n",
       "    </tr>\n",
       "  </tbody>\n",
       "</table>\n",
       "</div>"
      ],
      "text/plain": [
       "     count    mean          std  min     25%     50%     75%     max\n",
       "id  7039.0  3520.0  2032.128605  1.0  1760.5  3520.0  5279.5  7039.0"
      ]
     },
     "metadata": {},
     "output_type": "display_data"
    },
    {
     "name": "stdout",
     "output_type": "stream",
     "text": [
      "--------------------------------------------------\n",
      "<class 'pandas.core.frame.DataFrame'>\n",
      "RangeIndex: 7039 entries, 1 to 7039\n",
      "Data columns (total 20 columns):\n",
      " #   Column                 Non-Null Count  Dtype \n",
      "---  ------                 --------------  ----- \n",
      " 0   Case_ID                7039 non-null   object\n",
      " 1   Work_Order_Number      7039 non-null   object\n",
      " 2   Created_On             7039 non-null   object\n",
      " 3   Service_Account        7038 non-null   object\n",
      " 4   Due_Date               7017 non-null   object\n",
      " 5   Action_Booking_status  4223 non-null   object\n",
      " 6   Action_Date            3408 non-null   object\n",
      " 7   Currently_Worked_by    887 non-null    object\n",
      " 8   Owner                  7039 non-null   object\n",
      " 9   Product_Line           6457 non-null   object\n",
      " 10  Follow_Up_Reason_Code  2864 non-null   object\n",
      " 11  Response_Time          7039 non-null   object\n",
      " 12  Work_Order_Type        7039 non-null   object\n",
      " 13  Postal_Code            7039 non-null   object\n",
      " 14  Active_Booking         7025 non-null   object\n",
      " 15  Follow_Up_Type         7039 non-null   object\n",
      " 16  Business_Segment       7039 non-null   object\n",
      " 17  Follow_Up_Note         3247 non-null   object\n",
      " 18  Reschedule_Note        4738 non-null   object\n",
      " 19  id                     7039 non-null   int64 \n",
      "dtypes: int64(1), object(19)\n",
      "memory usage: 1.1+ MB\n"
     ]
    }
   ],
   "source": [
    "print('-'*50)\n",
    "print(len(df_case))\n",
    "\n",
    "print('-'*50)\n",
    "display(df_case.head(5))\n",
    "\n",
    "print('-'*50)\n",
    "display(df_case.describe().T)\n",
    "\n",
    "print('-'*50)\n",
    "df_case.info()\n",
    "\n"
   ]
  },
  {
   "cell_type": "code",
   "execution_count": 8,
   "id": "a36aeab1",
   "metadata": {
    "ExecuteTime": {
     "end_time": "2021-08-24T16:14:51.712097Z",
     "start_time": "2021-08-24T16:14:51.706147Z"
    }
   },
   "outputs": [
    {
     "name": "stdout",
     "output_type": "stream",
     "text": [
      "Follow_Up_Type\n",
      "Additional Parts Required     1666\n",
      "Onsite Stock Replenishment     376\n",
      "Partner Request Reassign        16\n",
      "Request Reassign              2100\n",
      "Reschedule                     434\n",
      "Revisit                       2447\n",
      "dtype: int64\n"
     ]
    }
   ],
   "source": [
    "print(df_case.groupby(['Follow_Up_Type']).size())"
   ]
  },
  {
   "cell_type": "markdown",
   "id": "d650eb86",
   "metadata": {},
   "source": [
    "### Data Cleaning"
   ]
  },
  {
   "cell_type": "code",
   "execution_count": 9,
   "id": "4c602104",
   "metadata": {
    "ExecuteTime": {
     "end_time": "2021-08-24T16:14:51.779820Z",
     "start_time": "2021-08-24T16:14:51.714442Z"
    }
   },
   "outputs": [
    {
     "name": "stdout",
     "output_type": "stream",
     "text": [
      "6110\n"
     ]
    },
    {
     "data": {
      "text/html": [
       "<div>\n",
       "<style scoped>\n",
       "    .dataframe tbody tr th:only-of-type {\n",
       "        vertical-align: middle;\n",
       "    }\n",
       "\n",
       "    .dataframe tbody tr th {\n",
       "        vertical-align: top;\n",
       "    }\n",
       "\n",
       "    .dataframe thead th {\n",
       "        text-align: right;\n",
       "    }\n",
       "</style>\n",
       "<table border=\"1\" class=\"dataframe\">\n",
       "  <thead>\n",
       "    <tr style=\"text-align: right;\">\n",
       "      <th></th>\n",
       "      <th>Case_ID</th>\n",
       "      <th>Work_Order_Number</th>\n",
       "      <th>Created_On</th>\n",
       "      <th>Service_Account</th>\n",
       "      <th>Due_Date</th>\n",
       "      <th>Action_Booking_status</th>\n",
       "      <th>Action_Date</th>\n",
       "      <th>Currently_Worked_by</th>\n",
       "      <th>Owner</th>\n",
       "      <th>Product_Line</th>\n",
       "      <th>...</th>\n",
       "      <th>Response_Time</th>\n",
       "      <th>Work_Order_Type</th>\n",
       "      <th>Postal_Code</th>\n",
       "      <th>Active_Booking</th>\n",
       "      <th>Follow_Up_Type</th>\n",
       "      <th>Business_Segment</th>\n",
       "      <th>Follow_Up_Note</th>\n",
       "      <th>Reschedule_Note</th>\n",
       "      <th>id</th>\n",
       "      <th>notes</th>\n",
       "    </tr>\n",
       "  </thead>\n",
       "  <tbody>\n",
       "    <tr>\n",
       "      <th>1</th>\n",
       "      <td>5060815932</td>\n",
       "      <td>WO-012952625</td>\n",
       "      <td>2021-02-03 10:38:00</td>\n",
       "      <td>William Torres</td>\n",
       "      <td>2021-04-26 15:00:00</td>\n",
       "      <td>Additional Parts Required</td>\n",
       "      <td>2021-07-03 11:45:00</td>\n",
       "      <td>Kerby Singleton</td>\n",
       "      <td>Nancy Quesada</td>\n",
       "      <td>Commercial Desktop PC Premium L6</td>\n",
       "      <td>...</td>\n",
       "      <td>NCD</td>\n",
       "      <td>Break Fix</td>\n",
       "      <td>30305</td>\n",
       "      <td>PC-Kerby Singleton</td>\n",
       "      <td>Additional Parts Required</td>\n",
       "      <td>Computing</td>\n",
       "      <td>NaN</td>\n",
       "      <td>#NORMAL Part escalated</td>\n",
       "      <td>1</td>\n",
       "      <td>#NORMAL Part escalated</td>\n",
       "    </tr>\n",
       "    <tr>\n",
       "      <th>2</th>\n",
       "      <td>5060815932</td>\n",
       "      <td>WO-012952625</td>\n",
       "      <td>2021-02-03 10:38:00</td>\n",
       "      <td>William Torres</td>\n",
       "      <td>2021-04-26 15:00:00</td>\n",
       "      <td>Additional Parts Required</td>\n",
       "      <td>2021-07-03 11:45:00</td>\n",
       "      <td>Kerby Singleton</td>\n",
       "      <td>Nancy Quesada</td>\n",
       "      <td>Commercial Desktop PC Premium L6</td>\n",
       "      <td>...</td>\n",
       "      <td>NCD</td>\n",
       "      <td>Break Fix</td>\n",
       "      <td>30305</td>\n",
       "      <td>PC-Kerby Singleton</td>\n",
       "      <td>Additional Parts Required</td>\n",
       "      <td>Computing</td>\n",
       "      <td>NaN</td>\n",
       "      <td>Please cancel backordered part. Customer has c...</td>\n",
       "      <td>2</td>\n",
       "      <td>Please cancel backordered part. Customer has c...</td>\n",
       "    </tr>\n",
       "    <tr>\n",
       "      <th>3</th>\n",
       "      <td>5061272897</td>\n",
       "      <td>WO-013009621</td>\n",
       "      <td>2021-02-09 13:39:00</td>\n",
       "      <td>LAS VEGAS METRO POLICE DEPT</td>\n",
       "      <td>2021-02-24 19:00:00</td>\n",
       "      <td>Additional Parts Required</td>\n",
       "      <td>2021-07-16 15:30:00</td>\n",
       "      <td>NaN</td>\n",
       "      <td>Avinash Shukla</td>\n",
       "      <td>Commercial Premium Notebooks</td>\n",
       "      <td>...</td>\n",
       "      <td>NCD</td>\n",
       "      <td>Break Fix</td>\n",
       "      <td>89101</td>\n",
       "      <td>PC-Joe Walper</td>\n",
       "      <td>Additional Parts Required</td>\n",
       "      <td>Computing</td>\n",
       "      <td>NaN</td>\n",
       "      <td>According to bryan this laptop shows repair co...</td>\n",
       "      <td>3</td>\n",
       "      <td>According to bryan this laptop shows repair co...</td>\n",
       "    </tr>\n",
       "    <tr>\n",
       "      <th>4</th>\n",
       "      <td>5061272897</td>\n",
       "      <td>WO-013009621</td>\n",
       "      <td>2021-02-09 13:39:00</td>\n",
       "      <td>LAS VEGAS METRO POLICE DEPT</td>\n",
       "      <td>2021-02-24 19:00:00</td>\n",
       "      <td>Additional Parts Required</td>\n",
       "      <td>2021-07-16 15:30:00</td>\n",
       "      <td>NaN</td>\n",
       "      <td>Avinash Shukla</td>\n",
       "      <td>Commercial Premium Notebooks</td>\n",
       "      <td>...</td>\n",
       "      <td>NCD</td>\n",
       "      <td>Break Fix</td>\n",
       "      <td>89101</td>\n",
       "      <td>PC-Joe Walper</td>\n",
       "      <td>Additional Parts Required</td>\n",
       "      <td>Computing</td>\n",
       "      <td>NaN</td>\n",
       "      <td>Back order part</td>\n",
       "      <td>4</td>\n",
       "      <td>Back order part</td>\n",
       "    </tr>\n",
       "    <tr>\n",
       "      <th>6</th>\n",
       "      <td>5064053283</td>\n",
       "      <td>WO-013536670-2</td>\n",
       "      <td>2021-06-30 11:06:00</td>\n",
       "      <td>Ford Motor Company of Canada</td>\n",
       "      <td>2021-07-02 08:30:00</td>\n",
       "      <td>Request Reassign</td>\n",
       "      <td>2021-07-05 14:45:00</td>\n",
       "      <td>NaN</td>\n",
       "      <td>Gabriel Bustos</td>\n",
       "      <td>A3 Laserjet</td>\n",
       "      <td>...</td>\n",
       "      <td>NCD</td>\n",
       "      <td>IMACD</td>\n",
       "      <td>N9A</td>\n",
       "      <td>Rick Harbarenko</td>\n",
       "      <td>Request Reassign</td>\n",
       "      <td>dMPS</td>\n",
       "      <td>NaN</td>\n",
       "      <td>Please send this case to Corey Harbarenko. Cor...</td>\n",
       "      <td>6</td>\n",
       "      <td>Please send this case to Corey Harbarenko. Cor...</td>\n",
       "    </tr>\n",
       "    <tr>\n",
       "      <th>...</th>\n",
       "      <td>...</td>\n",
       "      <td>...</td>\n",
       "      <td>...</td>\n",
       "      <td>...</td>\n",
       "      <td>...</td>\n",
       "      <td>...</td>\n",
       "      <td>...</td>\n",
       "      <td>...</td>\n",
       "      <td>...</td>\n",
       "      <td>...</td>\n",
       "      <td>...</td>\n",
       "      <td>...</td>\n",
       "      <td>...</td>\n",
       "      <td>...</td>\n",
       "      <td>...</td>\n",
       "      <td>...</td>\n",
       "      <td>...</td>\n",
       "      <td>...</td>\n",
       "      <td>...</td>\n",
       "      <td>...</td>\n",
       "      <td>...</td>\n",
       "    </tr>\n",
       "    <tr>\n",
       "      <th>7035</th>\n",
       "      <td>5069292833</td>\n",
       "      <td>WO-014560602</td>\n",
       "      <td>2021-07-16 16:23:00</td>\n",
       "      <td>Kaiser Foundation Health Plan Inc.</td>\n",
       "      <td>2021-07-19 15:09:00</td>\n",
       "      <td>Additional Parts Required</td>\n",
       "      <td>2021-07-16 16:00:00</td>\n",
       "      <td>NaN</td>\n",
       "      <td>6 CSPAE166</td>\n",
       "      <td>A4 PageWide SMB &amp; Enterprise managed</td>\n",
       "      <td>...</td>\n",
       "      <td>Not available</td>\n",
       "      <td>Break Fix</td>\n",
       "      <td>91786</td>\n",
       "      <td>Anthony Garcia</td>\n",
       "      <td>Additional Parts Required</td>\n",
       "      <td>pMPS</td>\n",
       "      <td>NaN</td>\n",
       "      <td>Please order the following part.  Qty. 1 B5L04...</td>\n",
       "      <td>7035</td>\n",
       "      <td>Please order the following part.  Qty. 1 B5L04...</td>\n",
       "    </tr>\n",
       "    <tr>\n",
       "      <th>7036</th>\n",
       "      <td>5069293232</td>\n",
       "      <td>WO-014560595</td>\n",
       "      <td>2021-07-16 16:21:00</td>\n",
       "      <td>CDW - St. Lukes Hospital (Government)</td>\n",
       "      <td>2021-07-20 16:26:00</td>\n",
       "      <td>Request Reassign</td>\n",
       "      <td>NaN</td>\n",
       "      <td>NaN</td>\n",
       "      <td>1 CSPAE131</td>\n",
       "      <td>A4 Laserjet SMB</td>\n",
       "      <td>...</td>\n",
       "      <td>Not available</td>\n",
       "      <td>Break Fix</td>\n",
       "      <td>55805</td>\n",
       "      <td>Brock Tharp</td>\n",
       "      <td>Request Reassign</td>\n",
       "      <td>pMPS</td>\n",
       "      <td>NaN</td>\n",
       "      <td>Please reassign to lms</td>\n",
       "      <td>7036</td>\n",
       "      <td>Please reassign to lms</td>\n",
       "    </tr>\n",
       "    <tr>\n",
       "      <th>7037</th>\n",
       "      <td>5069293974</td>\n",
       "      <td>WO-014560699</td>\n",
       "      <td>2021-07-16 17:06:00</td>\n",
       "      <td>LITHIA NISSAN OF FRESNO</td>\n",
       "      <td>2021-07-19 18:00:00</td>\n",
       "      <td>Request Reassign</td>\n",
       "      <td>2021-07-19 13:00:00</td>\n",
       "      <td>Aaron Stavinsky</td>\n",
       "      <td>Luis Alejandro Vargas</td>\n",
       "      <td>A4 Laserjet Enterprise</td>\n",
       "      <td>...</td>\n",
       "      <td>NCD</td>\n",
       "      <td>Preventative Maintenance</td>\n",
       "      <td>93710</td>\n",
       "      <td>IS-Aaron Stavinsky</td>\n",
       "      <td>Request Reassign</td>\n",
       "      <td>Printing</td>\n",
       "      <td>NaN</td>\n",
       "      <td>dahlia.garcia@hp.com</td>\n",
       "      <td>7037</td>\n",
       "      <td>dahlia.garcia@hp.com</td>\n",
       "    </tr>\n",
       "    <tr>\n",
       "      <th>7038</th>\n",
       "      <td>5069294340</td>\n",
       "      <td>WO-014560697</td>\n",
       "      <td>2021-07-16 17:04:00</td>\n",
       "      <td>Best Buy co., Inc.</td>\n",
       "      <td>2021-07-20 18:00:00</td>\n",
       "      <td>NaN</td>\n",
       "      <td>NaN</td>\n",
       "      <td>NaN</td>\n",
       "      <td>Subir Das</td>\n",
       "      <td>Retail Solutions Core</td>\n",
       "      <td>...</td>\n",
       "      <td>NCD</td>\n",
       "      <td>Break Fix</td>\n",
       "      <td>95678</td>\n",
       "      <td>PR-David Popadiuc</td>\n",
       "      <td>Revisit</td>\n",
       "      <td>Computing</td>\n",
       "      <td>Please order 842275-001 and have it ship to HF...</td>\n",
       "      <td>NaN</td>\n",
       "      <td>7038</td>\n",
       "      <td>Please order 842275-001 and have it ship to HF...</td>\n",
       "    </tr>\n",
       "    <tr>\n",
       "      <th>7039</th>\n",
       "      <td>5069310370</td>\n",
       "      <td>WO-014563427</td>\n",
       "      <td>2021-07-17 10:26:00</td>\n",
       "      <td>Costco Wholesale Corporation</td>\n",
       "      <td>2021-07-19 16:00:00</td>\n",
       "      <td>Request Reassign</td>\n",
       "      <td>NaN</td>\n",
       "      <td>NaN</td>\n",
       "      <td>7 CSPAE137</td>\n",
       "      <td>NaN</td>\n",
       "      <td>...</td>\n",
       "      <td>Not available</td>\n",
       "      <td>Break Fix</td>\n",
       "      <td>60440</td>\n",
       "      <td>PR-Stephen Sandgren</td>\n",
       "      <td>Request Reassign</td>\n",
       "      <td>dMPS</td>\n",
       "      <td>NaN</td>\n",
       "      <td>I am overbooked now and this is only a diagnos...</td>\n",
       "      <td>7039</td>\n",
       "      <td>I am overbooked now and this is only a diagnos...</td>\n",
       "    </tr>\n",
       "  </tbody>\n",
       "</table>\n",
       "<p>6110 rows × 21 columns</p>\n",
       "</div>"
      ],
      "text/plain": [
       "         Case_ID Work_Order_Number           Created_On  \\\n",
       "1     5060815932      WO-012952625  2021-02-03 10:38:00   \n",
       "2     5060815932      WO-012952625  2021-02-03 10:38:00   \n",
       "3     5061272897      WO-013009621  2021-02-09 13:39:00   \n",
       "4     5061272897      WO-013009621  2021-02-09 13:39:00   \n",
       "6     5064053283    WO-013536670-2  2021-06-30 11:06:00   \n",
       "...          ...               ...                  ...   \n",
       "7035  5069292833      WO-014560602  2021-07-16 16:23:00   \n",
       "7036  5069293232      WO-014560595  2021-07-16 16:21:00   \n",
       "7037  5069293974      WO-014560699  2021-07-16 17:06:00   \n",
       "7038  5069294340      WO-014560697  2021-07-16 17:04:00   \n",
       "7039  5069310370      WO-014563427  2021-07-17 10:26:00   \n",
       "\n",
       "                            Service_Account             Due_Date  \\\n",
       "1                            William Torres  2021-04-26 15:00:00   \n",
       "2                            William Torres  2021-04-26 15:00:00   \n",
       "3               LAS VEGAS METRO POLICE DEPT  2021-02-24 19:00:00   \n",
       "4               LAS VEGAS METRO POLICE DEPT  2021-02-24 19:00:00   \n",
       "6              Ford Motor Company of Canada  2021-07-02 08:30:00   \n",
       "...                                     ...                  ...   \n",
       "7035     Kaiser Foundation Health Plan Inc.  2021-07-19 15:09:00   \n",
       "7036  CDW - St. Lukes Hospital (Government)  2021-07-20 16:26:00   \n",
       "7037                LITHIA NISSAN OF FRESNO  2021-07-19 18:00:00   \n",
       "7038                     Best Buy co., Inc.  2021-07-20 18:00:00   \n",
       "7039           Costco Wholesale Corporation  2021-07-19 16:00:00   \n",
       "\n",
       "          Action_Booking_status          Action_Date Currently_Worked_by  \\\n",
       "1     Additional Parts Required  2021-07-03 11:45:00     Kerby Singleton   \n",
       "2     Additional Parts Required  2021-07-03 11:45:00     Kerby Singleton   \n",
       "3     Additional Parts Required  2021-07-16 15:30:00                 NaN   \n",
       "4     Additional Parts Required  2021-07-16 15:30:00                 NaN   \n",
       "6              Request Reassign  2021-07-05 14:45:00                 NaN   \n",
       "...                         ...                  ...                 ...   \n",
       "7035  Additional Parts Required  2021-07-16 16:00:00                 NaN   \n",
       "7036           Request Reassign                  NaN                 NaN   \n",
       "7037           Request Reassign  2021-07-19 13:00:00     Aaron Stavinsky   \n",
       "7038                        NaN                  NaN                 NaN   \n",
       "7039           Request Reassign                  NaN                 NaN   \n",
       "\n",
       "                      Owner                          Product_Line  ...  \\\n",
       "1             Nancy Quesada      Commercial Desktop PC Premium L6  ...   \n",
       "2             Nancy Quesada      Commercial Desktop PC Premium L6  ...   \n",
       "3            Avinash Shukla          Commercial Premium Notebooks  ...   \n",
       "4            Avinash Shukla          Commercial Premium Notebooks  ...   \n",
       "6            Gabriel Bustos                           A3 Laserjet  ...   \n",
       "...                     ...                                   ...  ...   \n",
       "7035             6 CSPAE166  A4 PageWide SMB & Enterprise managed  ...   \n",
       "7036             1 CSPAE131                       A4 Laserjet SMB  ...   \n",
       "7037  Luis Alejandro Vargas                A4 Laserjet Enterprise  ...   \n",
       "7038              Subir Das                 Retail Solutions Core  ...   \n",
       "7039             7 CSPAE137                                   NaN  ...   \n",
       "\n",
       "      Response_Time           Work_Order_Type Postal_Code  \\\n",
       "1               NCD                 Break Fix       30305   \n",
       "2               NCD                 Break Fix       30305   \n",
       "3               NCD                 Break Fix       89101   \n",
       "4               NCD                 Break Fix       89101   \n",
       "6               NCD                     IMACD         N9A   \n",
       "...             ...                       ...         ...   \n",
       "7035  Not available                 Break Fix       91786   \n",
       "7036  Not available                 Break Fix       55805   \n",
       "7037            NCD  Preventative Maintenance       93710   \n",
       "7038            NCD                 Break Fix       95678   \n",
       "7039  Not available                 Break Fix       60440   \n",
       "\n",
       "           Active_Booking             Follow_Up_Type Business_Segment  \\\n",
       "1      PC-Kerby Singleton  Additional Parts Required        Computing   \n",
       "2      PC-Kerby Singleton  Additional Parts Required        Computing   \n",
       "3           PC-Joe Walper  Additional Parts Required        Computing   \n",
       "4           PC-Joe Walper  Additional Parts Required        Computing   \n",
       "6         Rick Harbarenko           Request Reassign             dMPS   \n",
       "...                   ...                        ...              ...   \n",
       "7035       Anthony Garcia  Additional Parts Required             pMPS   \n",
       "7036          Brock Tharp           Request Reassign             pMPS   \n",
       "7037   IS-Aaron Stavinsky           Request Reassign         Printing   \n",
       "7038    PR-David Popadiuc                    Revisit        Computing   \n",
       "7039  PR-Stephen Sandgren           Request Reassign             dMPS   \n",
       "\n",
       "                                         Follow_Up_Note  \\\n",
       "1                                                   NaN   \n",
       "2                                                   NaN   \n",
       "3                                                   NaN   \n",
       "4                                                   NaN   \n",
       "6                                                   NaN   \n",
       "...                                                 ...   \n",
       "7035                                                NaN   \n",
       "7036                                                NaN   \n",
       "7037                                                NaN   \n",
       "7038  Please order 842275-001 and have it ship to HF...   \n",
       "7039                                                NaN   \n",
       "\n",
       "                                        Reschedule_Note    id  \\\n",
       "1                                #NORMAL Part escalated     1   \n",
       "2     Please cancel backordered part. Customer has c...     2   \n",
       "3     According to bryan this laptop shows repair co...     3   \n",
       "4                                       Back order part     4   \n",
       "6     Please send this case to Corey Harbarenko. Cor...     6   \n",
       "...                                                 ...   ...   \n",
       "7035  Please order the following part.  Qty. 1 B5L04...  7035   \n",
       "7036                             Please reassign to lms  7036   \n",
       "7037                               dahlia.garcia@hp.com  7037   \n",
       "7038                                                NaN  7038   \n",
       "7039  I am overbooked now and this is only a diagnos...  7039   \n",
       "\n",
       "                                                  notes  \n",
       "1                                #NORMAL Part escalated  \n",
       "2     Please cancel backordered part. Customer has c...  \n",
       "3     According to bryan this laptop shows repair co...  \n",
       "4                                       Back order part  \n",
       "6     Please send this case to Corey Harbarenko. Cor...  \n",
       "...                                                 ...  \n",
       "7035  Please order the following part.  Qty. 1 B5L04...  \n",
       "7036                             Please reassign to lms  \n",
       "7037                               dahlia.garcia@hp.com  \n",
       "7038  Please order 842275-001 and have it ship to HF...  \n",
       "7039  I am overbooked now and this is only a diagnos...  \n",
       "\n",
       "[6110 rows x 21 columns]"
      ]
     },
     "execution_count": 9,
     "metadata": {},
     "output_type": "execute_result"
    }
   ],
   "source": [
    "def filter_out_note_na(df):\n",
    "    df_filter = df.loc[(df.Follow_Up_Note.notna()) | (df.Reschedule_Note.notna())].copy()\n",
    "    return df_filter\n",
    "\n",
    "df_train_test = filter_out_note_na(df_case)\n",
    "print(len(df_train_test))\n",
    "\n",
    "# df_train_test['notes'] = [('' if pd.isna(fun) else fun)  + ('' if pd.isna(crn) else ' | ' + crn)\n",
    "#                           for fun, crn in zip(df_train_test.Follow_Up_Note, df_train_test.Reschedule_Note)] \n",
    "df_train_test['notes'] = [(crn if pd.isna(fun) else (fun if pd.isna(crn) else fun + '.' + crn))\n",
    "                          for fun, crn in zip(df_train_test.Follow_Up_Note, df_train_test.Reschedule_Note)] \n",
    "df_train_test"
   ]
  },
  {
   "cell_type": "code",
   "execution_count": 10,
   "id": "21b25860",
   "metadata": {
    "ExecuteTime": {
     "end_time": "2021-08-24T16:14:51.787613Z",
     "start_time": "2021-08-24T16:14:51.782144Z"
    }
   },
   "outputs": [
    {
     "name": "stdout",
     "output_type": "stream",
     "text": [
      "Follow_Up_Type\n",
      "Additional Parts Required     1579\n",
      "Onsite Stock Replenishment     375\n",
      "Partner Request Reassign        13\n",
      "Request Reassign              1737\n",
      "Reschedule                     136\n",
      "Revisit                       2270\n",
      "dtype: int64\n"
     ]
    }
   ],
   "source": [
    "print(df_train_test.groupby(['Follow_Up_Type']).size())"
   ]
  },
  {
   "cell_type": "markdown",
   "id": "53fd32c6",
   "metadata": {},
   "source": [
    "### Generate NER Label"
   ]
  },
  {
   "cell_type": "code",
   "execution_count": 11,
   "id": "fb1978e4",
   "metadata": {
    "ExecuteTime": {
     "end_time": "2021-08-24T16:14:51.794027Z",
     "start_time": "2021-08-24T16:14:51.790021Z"
    }
   },
   "outputs": [],
   "source": [
    "def standardize_text1(text):\n",
    "    text = text.strip().lower()\n",
    "    # add space between punctuation\n",
    "    text = re.sub(r'([.\\\\!?,\\'()\\[\\]\"|;])', r' \\1 ', text)\n",
    "#     # remove characters except for English letters and some punctuations\n",
    "#     text = re.sub(r\"[^A-Za-z\\.\\-\\?\\!\\,\\#\\@\\% ]\", \"\", text)\n",
    "    # remove extra spaces\n",
    "    text = re.sub(r'[\" \"]+', \" \", text)\n",
    "    return text"
   ]
  },
  {
   "cell_type": "code",
   "execution_count": 12,
   "id": "c3c68a0a",
   "metadata": {
    "ExecuteTime": {
     "end_time": "2021-08-24T16:14:53.072916Z",
     "start_time": "2021-08-24T16:14:51.796340Z"
    }
   },
   "outputs": [],
   "source": [
    "nlp = spacy.load(\"en_core_web_sm\")\n",
    "notes = [standardize_text1(note) for note in df_train_test.notes]\n",
    "docs = nlp.pipe(notes)"
   ]
  },
  {
   "cell_type": "code",
   "execution_count": 13,
   "id": "76cf8946",
   "metadata": {
    "ExecuteTime": {
     "end_time": "2021-08-24T16:14:53.112958Z",
     "start_time": "2021-08-24T16:14:53.075429Z"
    }
   },
   "outputs": [
    {
     "data": {
      "text/html": [
       "<div>\n",
       "<style scoped>\n",
       "    .dataframe tbody tr th:only-of-type {\n",
       "        vertical-align: middle;\n",
       "    }\n",
       "\n",
       "    .dataframe tbody tr th {\n",
       "        vertical-align: top;\n",
       "    }\n",
       "\n",
       "    .dataframe thead th {\n",
       "        text-align: right;\n",
       "    }\n",
       "</style>\n",
       "<table border=\"1\" class=\"dataframe\">\n",
       "  <thead>\n",
       "    <tr style=\"text-align: right;\">\n",
       "      <th></th>\n",
       "      <th>Case_ID</th>\n",
       "      <th>Work_Order_Number</th>\n",
       "      <th>Created_On</th>\n",
       "      <th>Service_Account</th>\n",
       "      <th>Due_Date</th>\n",
       "      <th>Action_Booking_status</th>\n",
       "      <th>Action_Date</th>\n",
       "      <th>Currently_Worked_by</th>\n",
       "      <th>Owner</th>\n",
       "      <th>Product_Line</th>\n",
       "      <th>...</th>\n",
       "      <th>Response_Time</th>\n",
       "      <th>Work_Order_Type</th>\n",
       "      <th>Postal_Code</th>\n",
       "      <th>Active_Booking</th>\n",
       "      <th>Follow_Up_Type</th>\n",
       "      <th>Business_Segment</th>\n",
       "      <th>Follow_Up_Note</th>\n",
       "      <th>Reschedule_Note</th>\n",
       "      <th>id</th>\n",
       "      <th>notes</th>\n",
       "    </tr>\n",
       "  </thead>\n",
       "  <tbody>\n",
       "    <tr>\n",
       "      <th>21</th>\n",
       "      <td>5065852054</td>\n",
       "      <td>WO-013865844-1</td>\n",
       "      <td>2021-07-02 14:10:00</td>\n",
       "      <td>KAISER PERMANENTE</td>\n",
       "      <td>2021-07-16 18:00:00</td>\n",
       "      <td>NaN</td>\n",
       "      <td>NaN</td>\n",
       "      <td>Ryan Bartoli</td>\n",
       "      <td>Ezequiel Jara Corao</td>\n",
       "      <td>Detachables</td>\n",
       "      <td>...</td>\n",
       "      <td>NCD</td>\n",
       "      <td>Break Fix</td>\n",
       "      <td>94553</td>\n",
       "      <td>CT-Ryan Bartoli</td>\n",
       "      <td>Revisit</td>\n",
       "      <td>Computing</td>\n",
       "      <td>Please create a revisit for Wednesday</td>\n",
       "      <td>#NORMAL Please order part # L51580-001 and L31...</td>\n",
       "      <td>21</td>\n",
       "      <td>Please create a revisit for Wednesday.#NORMAL ...</td>\n",
       "    </tr>\n",
       "    <tr>\n",
       "      <th>29</th>\n",
       "      <td>5066093878</td>\n",
       "      <td>WO-013910857</td>\n",
       "      <td>2021-05-14 17:16:00</td>\n",
       "      <td>AMD</td>\n",
       "      <td>2021-07-02 17:00:00</td>\n",
       "      <td>NaN</td>\n",
       "      <td>NaN</td>\n",
       "      <td>NaN</td>\n",
       "      <td>JORGE DANIEL BENAVIDEZ AVILA</td>\n",
       "      <td>Commercial Premium Notebooks</td>\n",
       "      <td>...</td>\n",
       "      <td>NCD</td>\n",
       "      <td>Break Fix</td>\n",
       "      <td>78735</td>\n",
       "      <td>PR-Rob Silcocks</td>\n",
       "      <td>Revisit</td>\n",
       "      <td>Computing</td>\n",
       "      <td>Please order battery  933321-855 ship to UPS H...</td>\n",
       "      <td>Please reassign to Rob Silcocks</td>\n",
       "      <td>29</td>\n",
       "      <td>Please order battery  933321-855 ship to UPS H...</td>\n",
       "    </tr>\n",
       "    <tr>\n",
       "      <th>2978</th>\n",
       "      <td>5068832635</td>\n",
       "      <td>WO-014466680</td>\n",
       "      <td>2021-07-08 10:24:00</td>\n",
       "      <td>Jabil circuit Inc</td>\n",
       "      <td>2021-07-09 17:00:00</td>\n",
       "      <td>Additional Parts Required</td>\n",
       "      <td>2021-07-15 08:00:00</td>\n",
       "      <td>NaN</td>\n",
       "      <td>7 CSPAE147</td>\n",
       "      <td>Large Format Design Pagewide XL HW</td>\n",
       "      <td>...</td>\n",
       "      <td>NCD</td>\n",
       "      <td>Break Fix</td>\n",
       "      <td>87106</td>\n",
       "      <td>PR-Isaac Lucero</td>\n",
       "      <td>Additional Parts Required</td>\n",
       "      <td>dMPS</td>\n",
       "      <td>NaN</td>\n",
       "      <td>Per L2 please order: 2YB64-67005, 2YB64-67003 ...</td>\n",
       "      <td>2978</td>\n",
       "      <td>Per L2 please order: 2YB64-67005, 2YB64-67003 ...</td>\n",
       "    </tr>\n",
       "    <tr>\n",
       "      <th>3025</th>\n",
       "      <td>5068836700</td>\n",
       "      <td>WO-014466875</td>\n",
       "      <td>2021-07-08 10:49:00</td>\n",
       "      <td>Border Patrol and Customs</td>\n",
       "      <td>2021-07-14 16:00:00</td>\n",
       "      <td>NaN</td>\n",
       "      <td>NaN</td>\n",
       "      <td>NaN</td>\n",
       "      <td>Abu Ambia</td>\n",
       "      <td>Large Format Design HW</td>\n",
       "      <td>...</td>\n",
       "      <td>NCD</td>\n",
       "      <td>Break Fix</td>\n",
       "      <td>79925</td>\n",
       "      <td>PR-Manuel Bailon</td>\n",
       "      <td>Revisit</td>\n",
       "      <td>Printing</td>\n",
       "      <td>Please create a revisite for 7-16-2021 at 1300...</td>\n",
       "      <td>NaN</td>\n",
       "      <td>3025</td>\n",
       "      <td>Please create a revisite for 7-16-2021 at 1300...</td>\n",
       "    </tr>\n",
       "    <tr>\n",
       "      <th>3026</th>\n",
       "      <td>5068836700</td>\n",
       "      <td>WO-014466875-1</td>\n",
       "      <td>2021-07-14 15:01:00</td>\n",
       "      <td>Border Patrol and Customs</td>\n",
       "      <td>2021-07-16 16:00:00</td>\n",
       "      <td>NaN</td>\n",
       "      <td>NaN</td>\n",
       "      <td>NaN</td>\n",
       "      <td>Lisbeth Alejandra Sibaja</td>\n",
       "      <td>Large Format Design HW</td>\n",
       "      <td>...</td>\n",
       "      <td>NCD</td>\n",
       "      <td>Break Fix</td>\n",
       "      <td>79925</td>\n",
       "      <td>PR-Manuel Bailon</td>\n",
       "      <td>Revisit</td>\n",
       "      <td>Printing</td>\n",
       "      <td>Please create a revisite for 7-23-2021 for pri...</td>\n",
       "      <td>NaN</td>\n",
       "      <td>3026</td>\n",
       "      <td>Please create a revisite for 7-23-2021 for pri...</td>\n",
       "    </tr>\n",
       "  </tbody>\n",
       "</table>\n",
       "<p>5 rows × 21 columns</p>\n",
       "</div>"
      ],
      "text/plain": [
       "         Case_ID Work_Order_Number           Created_On  \\\n",
       "21    5065852054    WO-013865844-1  2021-07-02 14:10:00   \n",
       "29    5066093878      WO-013910857  2021-05-14 17:16:00   \n",
       "2978  5068832635      WO-014466680  2021-07-08 10:24:00   \n",
       "3025  5068836700      WO-014466875  2021-07-08 10:49:00   \n",
       "3026  5068836700    WO-014466875-1  2021-07-14 15:01:00   \n",
       "\n",
       "                Service_Account             Due_Date  \\\n",
       "21            KAISER PERMANENTE  2021-07-16 18:00:00   \n",
       "29                          AMD  2021-07-02 17:00:00   \n",
       "2978          Jabil circuit Inc  2021-07-09 17:00:00   \n",
       "3025  Border Patrol and Customs  2021-07-14 16:00:00   \n",
       "3026  Border Patrol and Customs  2021-07-16 16:00:00   \n",
       "\n",
       "          Action_Booking_status          Action_Date Currently_Worked_by  \\\n",
       "21                          NaN                  NaN        Ryan Bartoli   \n",
       "29                          NaN                  NaN                 NaN   \n",
       "2978  Additional Parts Required  2021-07-15 08:00:00                 NaN   \n",
       "3025                        NaN                  NaN                 NaN   \n",
       "3026                        NaN                  NaN                 NaN   \n",
       "\n",
       "                             Owner                        Product_Line  ...  \\\n",
       "21             Ezequiel Jara Corao                         Detachables  ...   \n",
       "29    JORGE DANIEL BENAVIDEZ AVILA        Commercial Premium Notebooks  ...   \n",
       "2978                    7 CSPAE147  Large Format Design Pagewide XL HW  ...   \n",
       "3025                     Abu Ambia              Large Format Design HW  ...   \n",
       "3026      Lisbeth Alejandra Sibaja              Large Format Design HW  ...   \n",
       "\n",
       "     Response_Time Work_Order_Type Postal_Code    Active_Booking  \\\n",
       "21             NCD       Break Fix       94553   CT-Ryan Bartoli   \n",
       "29             NCD       Break Fix       78735   PR-Rob Silcocks   \n",
       "2978           NCD       Break Fix       87106   PR-Isaac Lucero   \n",
       "3025           NCD       Break Fix       79925  PR-Manuel Bailon   \n",
       "3026           NCD       Break Fix       79925  PR-Manuel Bailon   \n",
       "\n",
       "                 Follow_Up_Type Business_Segment  \\\n",
       "21                      Revisit        Computing   \n",
       "29                      Revisit        Computing   \n",
       "2978  Additional Parts Required             dMPS   \n",
       "3025                    Revisit         Printing   \n",
       "3026                    Revisit         Printing   \n",
       "\n",
       "                                         Follow_Up_Note  \\\n",
       "21                Please create a revisit for Wednesday   \n",
       "29    Please order battery  933321-855 ship to UPS H...   \n",
       "2978                                                NaN   \n",
       "3025  Please create a revisite for 7-16-2021 at 1300...   \n",
       "3026  Please create a revisite for 7-23-2021 for pri...   \n",
       "\n",
       "                                        Reschedule_Note    id  \\\n",
       "21    #NORMAL Please order part # L51580-001 and L31...    21   \n",
       "29                      Please reassign to Rob Silcocks    29   \n",
       "2978  Per L2 please order: 2YB64-67005, 2YB64-67003 ...  2978   \n",
       "3025                                                NaN  3025   \n",
       "3026                                                NaN  3026   \n",
       "\n",
       "                                                  notes  \n",
       "21    Please create a revisit for Wednesday.#NORMAL ...  \n",
       "29    Please order battery  933321-855 ship to UPS H...  \n",
       "2978  Per L2 please order: 2YB64-67005, 2YB64-67003 ...  \n",
       "3025  Please create a revisite for 7-16-2021 at 1300...  \n",
       "3026  Please create a revisite for 7-23-2021 for pri...  \n",
       "\n",
       "[5 rows x 21 columns]"
      ]
     },
     "execution_count": 13,
     "metadata": {},
     "output_type": "execute_result"
    }
   ],
   "source": [
    "def get_samples(df):\n",
    "    df_filter = df.loc[(df.Work_Order_Number=='WO-013865844-1') | \n",
    "                       (df.Work_Order_Number=='WO-013910857') |\n",
    "                       (df.Work_Order_Number=='WO-014466680') |\n",
    "                       (df.Work_Order_Number=='WO-014466875') |\n",
    "                       (df.Work_Order_Number=='WO-014466875-1') \n",
    "                      ].copy()\n",
    "    return df_filter\n",
    "\n",
    "df_sample = get_samples(df_train_test)\n",
    "df_sample"
   ]
  },
  {
   "cell_type": "code",
   "execution_count": 14,
   "id": "4655facd",
   "metadata": {
    "ExecuteTime": {
     "end_time": "2021-08-24T16:14:53.154999Z",
     "start_time": "2021-08-24T16:14:53.115314Z"
    }
   },
   "outputs": [
    {
     "name": "stdout",
     "output_type": "stream",
     "text": [
      "--------------------------------------------------\n",
      "please create a revisit for wednesday . #normal please order part # l51580-001 and l31365-001 to concord , california hal setting up time to meet with customer . \n",
      "[('please', 'INTJ'), ('create', 'VERB'), ('a', 'DET'), ('revisit', 'NOUN'), ('for', 'ADP'), ('wednesday', 'PROPN'), ('.', 'PUNCT'), ('#', 'NOUN'), ('normal', 'ADJ'), ('please', 'INTJ'), ('order', 'VERB'), ('part', 'NOUN'), ('#', 'SYM'), ('l51580', 'PROPN'), ('-', 'PUNCT'), ('001', 'NUM'), ('and', 'CCONJ'), ('l31365', 'NOUN'), ('-', 'PUNCT'), ('001', 'NUM'), ('to', 'ADP'), ('concord', 'PROPN'), (',', 'PUNCT'), ('california', 'PROPN'), ('hal', 'NOUN'), ('setting', 'VERB'), ('up', 'ADP'), ('time', 'NOUN'), ('to', 'PART'), ('meet', 'VERB'), ('with', 'ADP'), ('customer', 'NOUN'), ('.', 'PUNCT')]\n",
      "[('wednesday', 'DATE'), ('# l51580-001', 'MONEY'), ('concord', 'GPE'), ('california', 'GPE')]\n",
      "--------------------------------------------------\n",
      "please order battery 933321-855 ship to ups hold for pickup , tuscany way , austin . . please reassign to rob silcocks\n",
      "[('please', 'INTJ'), ('order', 'VERB'), ('battery', 'NOUN'), ('933321', 'NUM'), ('-', 'SYM'), ('855', 'NUM'), ('ship', 'NOUN'), ('to', 'ADP'), ('ups', 'NOUN'), ('hold', 'NOUN'), ('for', 'ADP'), ('pickup', 'NOUN'), (',', 'PUNCT'), ('tuscany', 'ADJ'), ('way', 'NOUN'), (',', 'PUNCT'), ('austin', 'PROPN'), ('.', 'PUNCT'), ('.', 'PUNCT'), ('please', 'INTJ'), ('reassign', 'VERB'), ('to', 'PART'), ('rob', 'VERB'), ('silcocks', 'NOUN')]\n",
      "[('933321', 'CARDINAL'), ('austin', 'GPE')]\n",
      "--------------------------------------------------\n",
      "per l2 please order: 2yb64-67005 , 2yb64-67003 xl3600 , 6kd23-67021 xl3600 , 6kd23-67030 , and two 2yb64-67002\n",
      "[('per', 'ADP'), ('l2', 'NOUN'), ('please', 'INTJ'), ('order', 'NOUN'), (':', 'PUNCT'), ('2yb64', 'PROPN'), ('-', 'PUNCT'), ('67005', 'NUM'), (',', 'PUNCT'), ('2yb64', 'PROPN'), ('-', 'PUNCT'), ('67003', 'NUM'), ('xl3600', 'PROPN'), (',', 'PUNCT'), ('6kd23', 'PROPN'), ('-', 'PUNCT'), ('67021', 'NUM'), ('xl3600', 'PROPN'), (',', 'PUNCT'), ('6kd23', 'PROPN'), ('-', 'PUNCT'), ('67030', 'PROPN'), (',', 'PUNCT'), ('and', 'CCONJ'), ('two', 'NUM'), ('2yb64', 'PROPN'), ('-', 'PUNCT'), ('67002', 'NUM')]\n",
      "[('l2', 'ORG'), ('2yb64-67005', 'CARDINAL'), ('2yb64-67003', 'CARDINAL'), ('6kd23-67030', 'DATE'), ('two', 'CARDINAL'), ('2yb64-67002', 'CARDINAL')]\n",
      "--------------------------------------------------\n",
      "please create a revisite for 7-16-2021 at 1300 order part number q5669-60687 please order 2 q6683-67001 t8w18-67001 ship to el paso texas for hfpu\n",
      "[('please', 'INTJ'), ('create', 'VERB'), ('a', 'DET'), ('revisite', 'NOUN'), ('for', 'ADP'), ('7', 'NUM'), ('-', 'SYM'), ('16', 'NUM'), ('-', 'PUNCT'), ('2021', 'NUM'), ('at', 'ADP'), ('1300', 'NUM'), ('order', 'NOUN'), ('part', 'NOUN'), ('number', 'NOUN'), ('q5669', 'NUM'), ('-', 'PUNCT'), ('60687', 'NUM'), ('please', 'INTJ'), ('order', 'VERB'), ('2', 'NUM'), ('q6683', 'NOUN'), ('-', 'PUNCT'), ('67001', 'NUM'), ('t8w18', 'NUM'), ('-', 'PUNCT'), ('67001', 'NUM'), ('ship', 'NOUN'), ('to', 'ADP'), ('el', 'PROPN'), ('paso', 'PROPN'), ('texas', 'PROPN'), ('for', 'ADP'), ('hfpu', 'NOUN')]\n",
      "[('7-16-2021', 'DATE'), ('1300', 'DATE'), ('2', 'CARDINAL'), ('el paso', 'GPE'), ('texas', 'GPE')]\n",
      "--------------------------------------------------\n",
      "please create a revisite for 7-23-2021 for printheads replacement . customer will order\n",
      "[('please', 'INTJ'), ('create', 'VERB'), ('a', 'DET'), ('revisite', 'NOUN'), ('for', 'ADP'), ('7', 'NUM'), ('-', 'SYM'), ('23', 'NUM'), ('-', 'PUNCT'), ('2021', 'NUM'), ('for', 'ADP'), ('printheads', 'NOUN'), ('replacement', 'NOUN'), ('.', 'PUNCT'), ('customer', 'NOUN'), ('will', 'AUX'), ('order', 'VERB')]\n",
      "[('7-23-2021', 'CARDINAL')]\n"
     ]
    }
   ],
   "source": [
    "\n",
    "sample_notes = [standardize_text1(note) for note in df_sample.notes]\n",
    "sampel_docs = nlp.pipe(sample_notes)\n",
    "for i, doc in enumerate(sampel_docs):\n",
    "    print('-'*50)\n",
    "    print(doc.text)\n",
    "    print([(token.text, token.pos_) for token in doc])\n",
    "    print([(ent.text, ent.label_) for ent in doc.ents]) "
   ]
  },
  {
   "cell_type": "code",
   "execution_count": 15,
   "id": "734670e0",
   "metadata": {
    "ExecuteTime": {
     "end_time": "2021-08-24T16:14:53.204946Z",
     "start_time": "2021-08-24T16:14:53.157957Z"
    }
   },
   "outputs": [],
   "source": [
    "patterns = [\n",
    " {'expression': r'[a-zA-Z]\\d\\d\\d\\d\\d-\\d\\d\\d', 'label': 'PART_NUM'}, \n",
    " {'expression': r'\\d\\d\\d\\d\\d\\d-\\d\\d\\d', 'label': 'PART_NUM'}, \n",
    " {'expression': r'[a-zA-Z]\\d\\d\\d\\d\\d-[a-zA-Z]\\d\\d', 'label': 'PART_NUM'}, \n",
    " {'expression': r'\\d\\d\\d\\d\\d\\d-[a-zA-Z][a-zA-Z]\\d', 'label': 'PART_NUM'}, \n",
    " {'expression': r'\\d\\d\\d\\d\\d\\d-\\d[a-zA-Z]\\d', 'label': 'PART_NUM'}, \n",
    " {'expression': r'\\d\\d\\d\\d\\d\\d-[a-zA-Z][a-zA-Z][a-zA-Z]', 'label': 'PART_NUM'}, \n",
    " {'expression': r'[a-zA-Z]\\d\\d\\d\\d\\d-[a-zA-Z][a-zA-Z]\\d', 'label': 'PART_NUM'}, \n",
    " {'expression': r'\\d\\d\\d\\d\\d\\d-[a-zA-Z]\\d\\d', 'label': 'PART_NUM'}, \n",
    " {'expression': r'[a-zA-Z][a-zA-Z]-\\d\\d\\d\\d\\d-\\d\\d', 'label': 'PART_NUM'}, \n",
    " {'expression': r'[a-zA-Z][a-zA-Z]\\d-\\d\\d\\d\\d-\\d\\d\\d[a-zA-Z][a-zA-Z]', 'label': 'PART_NUM'}, \n",
    " {'expression': r'\\d\\d\\d\\d-\\d\\d\\d\\d', 'label': 'PART_NUM'}, \n",
    " {'expression': r'\\d\\d\\d\\d-\\d\\d\\d\\d-\\d', 'label': 'PART_NUM'}, \n",
    " {'expression': r'\\d[a-zA-Z][a-zA-Z]\\d\\d-\\d\\d\\d\\d\\d', 'label': 'PART_NUM'}, \n",
    " {'expression': r'[a-zA-Z]\\d[a-zA-Z]\\d\\d-\\d\\d\\d\\d\\d', 'label': 'PART_NUM'}, \n",
    " {'expression': r'\\d\\d\\d\\d\\d-\\d\\d\\d\\d\\d', 'label': 'PART_NUM'}, \n",
    " {'expression': r'[a-zA-Z]\\d\\d\\d\\d-\\d\\d\\d\\d\\d', 'label': 'PART_NUM'}, \n",
    " {'expression': r'[a-zA-Z]\\d\\d\\d\\d\\d-[a-zA-Z][a-zA-Z]\\d', 'label': 'PART_NUM'}, \n",
    " {'expression': r'\\d\\d\\d\\d\\d\\d-\\d\\d\\d[a-zA-Z]', 'label': 'PART_NUM'}, \n",
    " {'expression': r'[a-zA-Z][a-zA-Z]\\d\\d\\d-\\d\\d\\d\\d\\d', 'label': 'PART_NUM'}, \n",
    " {'expression': r'[a-zA-Z][a-zA-Z]\\d-\\d\\d\\d\\d[a-zA-Z][a-zA-Z][a-zA-Z][a-zA-Z]', 'label': 'PART_NUM'}, \n",
    " {'expression': r'\\d-\\d\\d\\d-\\d\\d\\d-\\d\\d', 'label': 'PART_NUM'}, \n",
    " {'expression': r'[a-zA-Z]-\\d\\d\\d\\d-\\d\\d\\d-\\d', 'label': 'PART_NUM'}, \n",
    " {'expression': r'[a-zA-Z][a-zA-Z][a-zA-Z][a-zA-Z]\\d\\d\\d\\d-[a-zA-Z]\\d\\d', 'label': 'PART_NUM'}, \n",
    " {'expression': r'\\d\\d\\d\\d-\\d\\d\\d-\\d\\d\\d\\d\\d', 'label': 'PART_NUM'}, \n",
    " {'expression': r'\\d\\d-\\d\\d\\d\\d[a-zA-Z]-\\d\\d[a-zA-Z]', 'label': 'PART_NUM'}, \n",
    " {'expression': r'\\d\\d-\\d\\d\\d\\d\\d-\\d\\d\\d', 'label': 'PART_NUM'}, \n",
    " {'expression': r'[a-zA-Z][a-zA-Z][a-zA-Z]\\d\\d\\d\\d\\d-\\d\\d\\d\\d\\d', 'label': 'PART_NUM'}, \n",
    " {'expression': r'\\d\\d\\d\\d\\d-\\d\\d\\d\\d\\d-[a-zA-Z][a-zA-Z]', 'label': 'PART_NUM'}, \n",
    " {'expression': r'\\d\\d\\d-\\d\\d\\d\\d\\d\\d[a-zA-Z][a-zA-Z]', 'label': 'PART_NUM'}, \n",
    " {'expression': r'\\d\\d\\d-\\d\\d\\d-\\d\\d', 'label': 'PART_NUM'}, \n",
    " {'expression': r'\\d[a-zA-Z][a-zA-Z]\\d-\\d\\d\\d\\d', 'label': 'PART_NUM'}, \n",
    " {'expression': r'\\d\\d\\d\\d-\\d\\d\\d\\d-[a-zA-Z][a-zA-Z][a-zA-Z][a-zA-Z]', 'label': 'PART_NUM'}, \n",
    " {'expression': r'\\d\\d\\d\\d-\\d\\d\\d\\d[a-zA-Z]', 'label': 'PART_NUM'}, \n",
    " {'expression': r'\\d\\d\\d\\d-\\d\\d\\d\\d-[a-zA-Z][a-zA-Z][a-zA-Z]', 'label': 'PART_NUM'}, \n",
    " {'expression': r'\\d\\d\\d\\d-\\d\\d\\d-\\d\\d\\d\\d\\d', 'label': 'PART_NUM'}, \n",
    " {'expression': r'\\d\\d\\d\\d\\d\\d[a-zA-Z]-\\d\\d\\d', 'label': 'PART_NUM'}, \n",
    " {'expression': r'[a-zA-Z][a-zA-Z]\\d\\d[a-zA-Z]-[a-zA-Z]\\d', 'label': 'PART_NUM'}, \n",
    " {'expression': r'\\d\\d-\\d\\d\\d\\d\\d-\\d\\d', 'label': 'PART_NUM'}, \n",
    " {'expression': r'[a-zA-Z][a-zA-Z][a-zA-Z]-\\d[a-zA-Z]\\d\\d\\d', 'label': 'PART_NUM'}, \n",
    " {'expression': r'[a-zA-Z][a-zA-Z][a-zA-Z]-\\d\\d[a-zA-Z]\\d\\d\\d\\d', 'label': 'PART_NUM'}, \n",
    " {'expression': r'[a-zA-Z][a-zA-Z][a-zA-Z]-\\d\\d[a-zA-Z]\\d\\d\\d\\d[a-zA-Z]', 'label': 'PART_NUM'}, \n",
    " {'expression': r'[a-zA-Z][a-zA-Z][a-zA-Z]-\\d\\d\\d\\d\\d\\d\\d\\d\\d\\d', 'label': 'PART_NUM'}, \n",
    " {'expression': r'[a-zA-Z][a-zA-Z][a-zA-Z]-\\d\\d\\d\\d[a-zA-Z][a-zA-Z]\\d\\d', 'label': 'PART_NUM'}, \n",
    " {'expression': r'[a-zA-Z][a-zA-Z][a-zA-Z]-\\d\\d\\d[a-zA-Z]\\d\\d\\d\\d\\d', 'label': 'PART_NUM'}, \n",
    " {'expression': r'[a-zA-Z][a-zA-Z][a-zA-Z]-[a-zA-Z][a-zA-Z]\\d\\d\\d[a-zA-Z][a-zA-Z]', 'label': 'PART_NUM'}, \n",
    " {'expression': r'[a-zA-Z][a-zA-Z][a-zA-Z]-\\d\\d\\d-\\d\\d\\d\\d', 'label': 'PART_NUM'}, \n",
    " {'expression': r'[a-zA-Z][a-zA-Z][a-zA-Z]-[a-zA-Z][a-zA-Z]\\d\\d\\d', 'label': 'PART_NUM'}, \n",
    " {'expression': r'[a-zA-Z][a-zA-Z][a-zA-Z]-\\d\\d\\d\\d[a-zA-Z]\\d\\d[a-zA-Z][a-zA-Z]\\d', 'label': 'PART_NUM'}, \n",
    " {'expression': r'[a-zA-Z][a-zA-Z]\\d\\d-[a-zA-Z][a-zA-Z]', 'label': 'PART_NUM'}, \n",
    " {'expression': r'[a-zA-Z][a-zA-Z][a-zA-Z]-[a-zA-Z][a-zA-Z]-\\d\\d\\d[a-zA-Z]', 'label': 'PART_NUM'}, \n",
    " {'expression': r'[a-zA-Z][a-zA-Z][a-zA-Z]-[a-zA-Z]\\d\\d[a-zA-Z][a-zA-Z]\\d\\d[a-zA-Z]\\d\\d\\d\\d', 'label': 'PART_NUM'}, \n",
    " {'expression': r'[a-zA-Z][a-zA-Z][a-zA-Z]-[a-zA-Z]\\d\\d\\d\\d\\d\\d[a-zA-Z]', 'label': 'PART_NUM'}, \n",
    " {'expression': r'[a-zA-Z][a-zA-Z][a-zA-Z]-[a-zA-Z][a-zA-Z][a-zA-Z][a-zA-Z]-\\d\\d\\d[a-zA-Z]', 'label': 'PART_NUM'}, \n",
    " {'expression': r'[a-zA-Z][a-zA-Z][a-zA-Z]-\\d\\d\\d\\d\\d[a-zA-Z][a-zA-Z]', 'label': 'PART_NUM'}, \n",
    " {'expression': r'[a-zA-Z][a-zA-Z][a-zA-Z]-\\d\\d[a-zA-Z]\\d[a-zA-Z]\\d\\d', 'label': 'PART_NUM'}, \n",
    " {'expression': r'[a-zA-Z][a-zA-Z][a-zA-Z]-\\d\\d[a-zA-Z]\\d[a-zA-Z][a-zA-Z]\\d', 'label': 'PART_NUM'}, \n",
    " {'expression': r'[a-zA-Z][a-zA-Z][a-zA-Z]-\\d\\d\\d[a-zA-Z][a-zA-Z]', 'label': 'PART_NUM'}, \n",
    " {'expression': r'[a-zA-Z][a-zA-Z][a-zA-Z]-[a-zA-Z]\\d\\d\\d\\d[a-zA-Z][a-zA-Z][a-zA-Z]', 'label': 'PART_NUM'}, \n",
    " {'expression': r'[a-zA-Z][a-zA-Z][a-zA-Z]-\\d\\d-\\d\\d\\d\\d\\d-\\d\\d\\d', 'label': 'PART_NUM'}, \n",
    " {'expression': r'[a-zA-Z][a-zA-Z][a-zA-Z]-[a-zA-Z]\\d\\d\\d[a-zA-Z]\\d[a-zA-Z][a-zA-Z]', 'label': 'PART_NUM'}, \n",
    " {'expression': r'[a-zA-Z][a-zA-Z][a-zA-Z]-\\d\\d\\d\\d\\d\\d-\\d\\d\\d', 'label': 'PART_NUM'}, \n",
    " {'expression': r'[a-zA-Z][a-zA-Z][a-zA-Z]-[a-zA-Z]-\\d\\d\\d', 'label': 'PART_NUM'}, \n",
    " {'expression': r'[a-zA-Z][a-zA-Z][a-zA-Z]-[a-zA-Z]\\d\\d\\d[a-zA-Z]\\d\\d[a-zA-Z]-[a-zA-Z]', 'label': 'PART_NUM'}, \n",
    " {'expression': r'[a-zA-Z][a-zA-Z][a-zA-Z]-[a-zA-Z]\\d\\d\\d\\d\\d\\d\\d', 'label': 'PART_NUM'}, \n",
    " {'expression': r'[a-zA-Z][a-zA-Z][a-zA-Z]-[a-zA-Z][a-zA-Z]\\d\\d\\d\\d[a-zA-Z][a-zA-Z]\\d\\d\\d', 'label': 'PART_NUM'}, \n",
    " {'expression': r'[a-zA-Z][a-zA-Z][a-zA-Z]-\\d\\d[a-zA-Z]\\d\\d\\d\\d-[a-zA-Z][a-zA-Z]', 'label': 'PART_NUM'}, \n",
    " {'expression': r'[a-zA-Z][a-zA-Z][a-zA-Z]-[a-zA-Z][a-zA-Z]\\d\\d\\d[a-zA-Z]', 'label': 'PART_NUM'}, \n",
    " {'expression': r'[a-zA-Z][a-zA-Z][a-zA-Z]-\\d\\d\\d\\d\\d\\d', 'label': 'PART_NUM'}, \n",
    " {'expression': r'[a-zA-Z][a-zA-Z][a-zA-Z]-[a-zA-Z][a-zA-Z][a-zA-Z][a-zA-Z][a-zA-Z]\\d\\d\\d[a-zA-Z][a-zA-Z]', 'label': 'PART_NUM'}, \n",
    " {'expression': r'[a-zA-Z][a-zA-Z][a-zA-Z]-\\d[a-zA-Z][a-zA-Z]\\d\\d\\d\\d\\d\\d\\d', 'label': 'PART_NUM'}, \n",
    " {'expression': r'[a-zA-Z][a-zA-Z][a-zA-Z]-\\d\\d\\d[a-zA-Z]\\d\\d\\d\\d\\d', 'label': 'PART_NUM'}, \n",
    " {'expression': r'[a-zA-Z][a-zA-Z][a-zA-Z]-\\d\\d\\d\\d\\d\\d\\d\\d\\d', 'label': 'PART_NUM'}, \n",
    " {'expression': r'[a-zA-Z][a-zA-Z][a-zA-Z]-\\d\\d\\d\\d[a-zA-Z][a-zA-Z][a-zA-Z]-\\d\\d\\d', 'label': 'PART_NUM'}, \n",
    " {'expression': r'[a-zA-Z][a-zA-Z][a-zA-Z]-[a-zA-Z][a-zA-Z]\\d\\d\\d[a-zA-Z][a-zA-Z]', 'label': 'PART_NUM'}, \n",
    " {'expression': r'[a-zA-Z][a-zA-Z][a-zA-Z]-\\d\\d\\d-\\d\\d\\d\\d', 'label': 'PART_NUM'}, \n",
    " {'expression': r'[a-zA-Z][a-zA-Z][a-zA-Z]-[a-zA-Z][a-zA-Z]\\d\\d\\d[a-zA-Z]-[a-zA-Z]', 'label': 'PART_NUM'}, \n",
    " {'expression': r'[a-zA-Z][a-zA-Z][a-zA-Z]-[a-zA-Z]\\d\\d\\d-\\d\\d\\d\\d\\d\\d', 'label': 'PART_NUM'}, \n",
    " {'expression': r'[a-zA-Z][a-zA-Z][a-zA-Z]-\\d[a-zA-Z][a-zA-Z]\\d[a-zA-Z]', 'label': 'PART_NUM'}, \n",
    " {'expression': r'[a-zA-Z][a-zA-Z][a-zA-Z]-[a-zA-Z][a-zA-Z]\\d\\d-\\d\\d\\d\\d\\d[a-zA-Z]', 'label': 'PART_NUM'}, \n",
    " {'expression': r'[a-zA-Z][a-zA-Z][a-zA-Z]-[a-zA-Z][a-zA-Z][a-zA-Z]\\d', 'label': 'PART_NUM'}, \n",
    " {'expression': r'[a-zA-Z][a-zA-Z][a-zA-Z]-\\d\\d\\d\\d-\\d\\d\\d', 'label': 'PART_NUM'}, \n",
    " {'expression': r'[a-zA-Z][a-zA-Z][a-zA-Z]-[a-zA-Z]\\d[a-zA-Z][a-zA-Z][a-zA-Z][a-zA-Z][a-zA-Z][a-zA-Z][a-zA-Z]', 'label': 'PART_NUM'}, \n",
    " {'expression': r'[a-zA-Z][a-zA-Z][a-zA-Z]-\\d\\d\\d\\d\\d\\d\\d\\d', 'label': 'PART_NUM'}, \n",
    " {'expression': r'[a-zA-Z][a-zA-Z][a-zA-Z]-\\d\\d\\d\\d\\d-\\d\\d-[a-zA-Z]', 'label': 'PART_NUM'}, \n",
    " {'expression': r'[a-zA-Z][a-zA-Z][a-zA-Z]-[a-zA-Z][a-zA-Z][a-zA-Z]\\d\\d\\d[a-zA-Z]', 'label': 'PART_NUM'}, \n",
    " {'expression': r'[a-zA-Z][a-zA-Z][a-zA-Z]-\\d\\d\\d\\d[a-zA-Z][a-zA-Z]\\d[a-zA-Z][a-zA-Z]\\d', 'label': 'PART_NUM'}, \n",
    " {'expression': r'[a-zA-Z][a-zA-Z][a-zA-Z]-[a-zA-Z][a-zA-Z][a-zA-Z]\\d\\d\\d\\d[a-zA-Z][a-zA-Z]\\d[a-zA-Z]', 'label': 'PART_NUM'}, \n",
    " {'expression': r'[a-zA-Z][a-zA-Z][a-zA-Z]-\\d\\d\\d[a-zA-Z][a-zA-Z]\\d\\d\\d\\d\\d', 'label': 'PART_NUM'}, \n",
    " {'expression': r'[a-zA-Z][a-zA-Z][a-zA-Z]-[a-zA-Z][a-zA-Z]\\d\\d\\d-\\d\\d\\d\\d\\d', 'label': 'PART_NUM'}, \n",
    " {'expression': r'[a-zA-Z][a-zA-Z][a-zA-Z]-\\d[a-zA-Z]\\d\\d[a-zA-Z][a-zA-Z]\\d[a-zA-Z][a-zA-Z]\\d', 'label': 'PART_NUM'}, \n",
    " {'expression': r'[a-zA-Z][a-zA-Z][a-zA-Z]-\\d\\d[a-zA-Z]\\d\\d\\d\\d', 'label': 'PART_NUM'}, \n",
    " {'expression': r'[a-zA-Z][a-zA-Z][a-zA-Z]-\\d\\d\\d[a-zA-Z][a-zA-Z]\\d\\d\\d\\d\\d', 'label': 'PART_NUM'}, \n",
    " {'expression': r'\\d\\d\\d-[a-zA-Z]\\d[a-zA-Z][a-zA-Z]\\d', 'label': 'PART_NUM'}, \n",
    " {'expression': r'[a-zA-Z][a-zA-Z][a-zA-Z]-\\d\\d[a-zA-Z]\\d\\d\\d\\d', 'label': 'PART_NUM'}, \n",
    " {'expression': r'[a-zA-Z][a-zA-Z][a-zA-Z]-\\d[a-zA-Z][a-zA-Z]\\d\\d\\d\\d\\d\\d\\d', 'label': 'PART_NUM'}, \n",
    " {'expression': r'[a-zA-Z][a-zA-Z][a-zA-Z]-[a-zA-Z][a-zA-Z]\\d\\d\\d\\d\\d\\d', 'label': 'PART_NUM'}, \n",
    " {'expression': r'[a-zA-Z][a-zA-Z][a-zA-Z]-\\d\\d[a-zA-Z]\\d\\d\\d\\d\\d', 'label': 'PART_NUM'}, \n",
    " {'expression': r'[a-zA-Z][a-zA-Z][a-zA-Z]-[a-zA-Z][a-zA-Z]\\d\\d\\d\\d\\d\\d\\d', 'label': 'PART_NUM'}, \n",
    " {'expression': r'[a-zA-Z][a-zA-Z][a-zA-Z]-[a-zA-Z]\\d\\d[a-zA-Z][a-zA-Z]\\d\\d\\d\\d\\d', 'label': 'PART_NUM'}, \n",
    " {'expression': r'[a-zA-Z][a-zA-Z][a-zA-Z]-\\d\\d\\d[a-zA-Z]\\d\\d\\d\\d\\d\\d', 'label': 'PART_NUM'}, \n",
    " {'expression': r'[a-zA-Z][a-zA-Z][a-zA-Z]-[a-zA-Z][a-zA-Z][a-zA-Z]\\d\\d\\d\\d\\d\\d', 'label': 'PART_NUM'}, \n",
    " {'expression': r'[a-zA-Z][a-zA-Z][a-zA-Z]-\\d\\d\\d-\\d\\d\\d\\d', 'label': 'PART_NUM'}, \n",
    " {'expression': r'[a-zA-Z][a-zA-Z][a-zA-Z]-[a-zA-Z][a-zA-Z]\\d\\d\\d[a-zA-Z][a-zA-Z][a-zA-Z]', 'label': 'PART_NUM'}, \n",
    " {'expression': r'\\d[a-zA-Z]-[a-zA-Z][a-zA-Z]\\d\\d\\d-[a-zA-Z]\\d', 'label': 'PART_NUM'}, \n",
    " {'expression': r'\\d[a-zA-Z]\\d-\\d\\d\\d\\d-\\d\\d\\d[a-zA-Z][a-zA-Z]', 'label': 'PART_NUM'}, \n",
    " {'expression': r'[a-zA-Z]\\d\\d\\d\\d-\\d\\d\\d\\d\\d[a-zA-Z][a-zA-Z][a-zA-Z][a-zA-Z]', 'label': 'PART_NUM'}, \n",
    " {'expression': r'[a-zA-Z][a-zA-Z][a-zA-Z]-[a-zA-Z][a-zA-Z][a-zA-Z]\\d[a-zA-Z][a-zA-Z][a-zA-Z]\\d\\d\\d', 'label': 'PART_NUM'}, \n",
    " {'expression': r'[a-zA-Z][a-zA-Z][a-zA-Z]-[a-zA-Z]\\d\\d\\d\\d\\d\\d\\d\\d\\d', 'label': 'PART_NUM'}, \n",
    " {'expression': r'[a-zA-Z][a-zA-Z]\\d\\d-\\d\\d\\d\\d\\d[a-zA-Z]', 'label': 'PART_NUM'}, \n",
    " {'expression': r'[a-zA-Z][a-zA-Z][a-zA-Z]-\\d\\d\\d\\d[a-zA-Z][a-zA-Z][a-zA-Z]', 'label': 'PART_NUM'}, \n",
    " {'expression': r'[a-zA-Z][a-zA-Z][a-zA-Z]-\\d\\d\\d\\d[a-zA-Z][a-zA-Z][a-zA-Z]-[a-zA-Z]', 'label': 'PART_NUM'}, \n",
    " {'expression': r'[a-zA-Z][a-zA-Z][a-zA-Z]-\\d\\d\\d\\d[a-zA-Z][a-zA-Z]', 'label': 'PART_NUM'}, \n",
    " {'expression': r'[a-zA-Z][a-zA-Z][a-zA-Z]-\\d\\d\\d\\d-[a-zA-Z]\\d', 'label': 'PART_NUM'}, \n",
    " {'expression': r'[a-zA-Z][a-zA-Z][a-zA-Z]-[a-zA-Z]\\d\\d\\d-[a-zA-Z]\\d', 'label': 'PART_NUM'}, \n",
    " {'expression': r'[a-zA-Z][a-zA-Z][a-zA-Z]-[a-zA-Z]\\d\\d\\d[a-zA-Z]', 'label': 'PART_NUM'}, \n",
    " {'expression': r'[a-zA-Z][a-zA-Z][a-zA-Z]-[a-zA-Z]\\d\\d\\d[a-zA-Z]\\d\\d[a-zA-Z]', 'label': 'PART_NUM'}, \n",
    " {'expression': r'[a-zA-Z][a-zA-Z][a-zA-Z]-[a-zA-Z][a-zA-Z][a-zA-Z][a-zA-Z][a-zA-Z]\\d\\d\\d\\d[a-zA-Z]', 'label': 'PART_NUM'}, \n",
    " {'expression': r'[a-zA-Z][a-zA-Z][a-zA-Z][a-zA-Z][a-zA-Z][a-zA-Z][a-zA-Z]-\\d\\d\\d\\d[a-zA-Z][a-zA-Z]\\d\\d', 'label': 'PART_NUM'}, \n",
    " {'expression': r'[a-zA-Z][a-zA-Z][a-zA-Z]-\\d\\d\\d-\\d\\d\\d\\d-\\d', 'label': 'PART_NUM'}, \n",
    " {'expression': r'\\d\\d-\\d\\d\\d\\d', 'label': 'PART_NUM'}, \n",
    " {'expression': r'[a-zA-Z][a-zA-Z][a-zA-Z]-[a-zA-Z][a-zA-Z]\\d\\d\\d\\d\\d\\d\\d', 'label': 'PART_NUM'}, \n",
    " {'expression': r'[a-zA-Z]\\d\\d\\d\\d-\\d\\d\\d\\d\\d-[a-zA-Z][a-zA-Z][a-zA-Z]', 'label': 'PART_NUM'}, \n",
    " {'expression': r'[a-zA-Z]\\d\\d\\d[a-zA-Z][a-zA-Z]\\d\\d[a-zA-Z]-\\d\\d\\d\\d\\d', 'label': 'PART_NUM'}, \n",
    " {'expression': r'\\d\\d[a-zA-Z][a-zA-Z]-\\d\\d\\d\\d\\d[a-zA-Z][a-zA-Z]', 'label': 'PART_NUM'}, \n",
    " {'expression': r'[a-zA-Z][a-zA-Z]\\d-\\d\\d\\d\\d-[a-zA-Z][a-zA-Z][a-zA-Z][a-zA-Z]', 'label': 'PART_NUM'}, \n",
    " {'expression': r'[a-zA-Z][a-zA-Z]\\d\\d\\d-\\d\\d\\d\\d\\d-[a-zA-Z][a-zA-Z]', 'label': 'PART_NUM'}, \n",
    " {'expression': r'[a-zA-Z][a-zA-Z]\\d\\d\\d-\\d\\d\\d\\d\\d', 'label': 'PART_NUM'}, \n",
    " {'expression': r'[a-zA-Z][a-zA-Z][a-zA-Z]-[a-zA-Z][a-zA-Z]\\d\\d\\d', 'label': 'PART_NUM'}, \n",
    " {'expression': r'[a-zA-Z][a-zA-Z]\\d\\d-\\d\\d\\d\\d\\d[a-zA-Z]', 'label': 'PART_NUM'}, \n",
    " {'expression': r'[a-zA-Z][a-zA-Z][a-zA-Z][a-zA-Z][a-zA-Z][a-zA-Z][a-zA-Z]-\\d\\d\\d\\d[a-zA-Z][a-zA-Z]\\d\\d', 'label': 'PART_NUM'}, \n",
    " {'expression': r'[a-zA-Z][a-zA-Z][a-zA-Z][a-zA-Z][a-zA-Z][a-zA-Z][a-zA-Z]-\\d\\d\\d\\d[a-zA-Z][a-zA-Z][a-zA-Z][a-zA-Z]', 'label': 'PART_NUM'}, \n",
    " {'expression': r'[a-zA-Z][a-zA-Z][a-zA-Z][a-zA-Z][a-zA-Z][a-zA-Z][a-zA-Z]-\\d\\d\\d\\d[a-zA-Z][a-zA-Z][a-zA-Z]\\d', 'label': 'PART_NUM'}, \n",
    " {'expression': r'\\d\\d\\d-\\d\\d-\\d\\d-\\d\\d\\d', 'label': 'PART_NUM'}, \n",
    " {'expression': r'\\d\\d\\d\\d\\d\\d\\d\\d\\d-\\d\\d', 'label': 'PART_NUM'}, \n",
    " {'expression': r'[a-zA-Z][a-zA-Z][a-zA-Z][a-zA-Z][a-zA-Z][a-zA-Z][a-zA-Z][a-zA-Z]\\d\\d\\d[a-zA-Z]\\d[a-zA-Z]-\\d', 'label': 'PART_NUM'}, \n",
    " {'expression': r'[a-zA-Z][a-zA-Z][a-zA-Z][a-zA-Z][a-zA-Z][a-zA-Z][a-zA-Z][a-zA-Z][a-zA-Z]\\d\\d[a-zA-Z]\\d\\d-\\d', 'label': 'PART_NUM'}, \n",
    " {'expression': r'[a-zA-Z][a-zA-Z][a-zA-Z][a-zA-Z][a-zA-Z][a-zA-Z][a-zA-Z]-\\d\\d\\d\\d[a-zA-Z][a-zA-Z][a-zA-Z]\\d', 'label': 'PART_NUM'}, \n",
    " {'expression': r'[a-zA-Z][a-zA-Z][a-zA-Z][a-zA-Z]-[a-zA-Z][a-zA-Z]\\d\\d\\d\\d[a-zA-Z][a-zA-Z][a-zA-Z][a-zA-Z]', 'label': 'PART_NUM'}, \n",
    " {'expression': r'[a-zA-Z][a-zA-Z][a-zA-Z][a-zA-Z][a-zA-Z][a-zA-Z]-[a-zA-Z]\\d\\d\\d\\d[a-zA-Z][a-zA-Z][a-zA-Z][a-zA-Z]', 'label': 'PART_NUM'}, \n",
    " {'expression': r'[a-zA-Z][a-zA-Z][a-zA-Z][a-zA-Z][a-zA-Z][a-zA-Z][a-zA-Z][a-zA-Z]\\d[a-zA-Z]\\d\\d[a-zA-Z][a-zA-Z]-\\d', 'label': 'PART_NUM'}, \n",
    " {'expression': r'[a-zA-Z][a-zA-Z][a-zA-Z][a-zA-Z][a-zA-Z]-[a-zA-Z][a-zA-Z]\\d\\d\\d\\d[a-zA-Z][a-zA-Z][a-zA-Z][a-zA-Z]', 'label': 'PART_NUM'}, \n",
    " {'expression': r'\\d\\d\\d-\\d\\d\\d\\d\\d\\d', 'label': 'PART_NUM'}, \n",
    " {'expression': r'[a-zA-Z][a-zA-Z][a-zA-Z][a-zA-Z][a-zA-Z][a-zA-Z][a-zA-Z][a-zA-Z]\\d[a-zA-Z]\\d\\d[a-zA-Z]\\d-\\d\\d', 'label': 'PART_NUM'}, \n",
    " {'expression': r'[a-zA-Z]\\d\\d-\\d\\d\\d\\d', 'label': 'PART_NUM'}, \n",
    " {'expression': r'\\d\\d\\d\\d\\d\\d\\d\\d\\d-\\d', 'label': 'PART_NUM'}, \n",
    " {'expression': r'\\d\\d\\d\\d-\\d\\d\\d\\d', 'label': 'PART_NUM'}, \n",
    " {'expression': r'[a-zA-Z]\\d-[a-zA-Z][a-zA-Z][a-zA-Z][a-zA-Z][a-zA-Z]-\\d\\d', 'label': 'PART_NUM'}, \n",
    " {'expression': r'[a-zA-Z][a-zA-Z]\\d-\\d\\d\\d\\d-\\d\\d\\d-[a-zA-Z][a-zA-Z]', 'label': 'PART_NUM'}, \n",
    " {'expression': r'[a-zA-Z]\\d[a-zA-Z]\\d\\d-\\d\\d\\d\\d\\d-[a-zA-Z][a-zA-Z]', 'label': 'PART_NUM'}, \n",
    " {'expression': r'[a-zA-Z][a-zA-Z]\\d\\d\\d\\d\\d-[a-zA-Z]\\d\\d\\d[a-zA-Z][a-zA-Z]', 'label': 'PART_NUM'}, \n",
    " {'expression': r'[a-zA-Z][a-zA-Z]\\d\\d\\d-\\d\\d\\d\\d\\d-[a-zA-Z][a-zA-Z]', 'label': 'PART_NUM'}, \n",
    " {'expression': r'[a-zA-Z][a-zA-Z]\\d\\d\\d-\\d\\d\\d\\d\\d-[a-zA-Z][a-zA-Z][a-zA-Z][a-zA-Z]', 'label': 'PART_NUM'}, \n",
    " {'expression': r'[a-zA-Z][a-zA-Z]\\d\\d-[a-zA-Z]\\d', 'label': 'PART_NUM'}, \n",
    " {'expression': r'\\d\\d\\d\\d\\d\\d-\\d\\d\\d[a-zA-Z]', 'label': 'PART_NUM'}, \n",
    " {'expression': r'[a-zA-Z][a-zA-Z]\\d\\d\\d-\\d\\d\\d\\d\\d', 'label': 'PART_NUM'}, \n",
    " {'expression': r'[a-zA-Z][a-zA-Z][a-zA-Z]-\\d\\d[a-zA-Z]\\d[a-zA-Z]\\d\\d', 'label': 'PART_NUM'}, \n",
    " {'expression': r'[a-zA-Z][a-zA-Z][a-zA-Z][a-zA-Z][a-zA-Z][a-zA-Z]-[a-zA-Z]\\d\\d\\d\\d[a-zA-Z][a-zA-Z][a-zA-Z]', 'label': 'PART_NUM'}, \n",
    " {'expression': r'[a-zA-Z][a-zA-Z][a-zA-Z][a-zA-Z][a-zA-Z]-[a-zA-Z][a-zA-Z]\\d\\d\\d\\d[a-zA-Z][a-zA-Z][a-zA-Z][a-zA-Z]', 'label': 'PART_NUM'}, \n",
    " {'expression': r'[a-zA-Z][a-zA-Z]\\d\\d[a-zA-Z]-[a-zA-Z][a-zA-Z]', 'label': 'PART_NUM'}, \n",
    " {'expression': r'[a-zA-Z][a-zA-Z][a-zA-Z][a-zA-Z][a-zA-Z][a-zA-Z]-\\d\\d\\d\\d[a-zA-Z][a-zA-Z][a-zA-Z][a-zA-Z]', 'label': 'PART_NUM'}, \n",
    "#  {'expression': r'order', 'label': 'ACTION'}, \n",
    "#  {'expression': r'recommended', 'label': 'ACTION'}, \n",
    "#  {'expression': r'hfpu', 'label': 'ACTION'}, \n",
    "#  {'expression': r'ship', 'label': 'ACTION'}, \n",
    "#  {'expression': r'fedex', 'label': 'ACTION'}, \n",
    "#  {'expression': r'hal', 'label': 'ACTION'}, \n",
    "#  {'expression': r'site', 'label': 'ACTION'}, \n",
    "#  {'expression': r'send', 'label': 'ACTION'}, \n",
    "#  {'expression': r'location', 'label': 'ACTION'}, \n",
    "#  {'expression': r'pickup', 'label': 'ACTION'}, \n",
    "#  {'expression': r'sent', 'label': 'ACTION'}, \n",
    "#  {'expression': r'requested', 'label': 'ACTION'}, \n",
    "#  {'expression': r'reorder', 'label': 'ACTION'}, \n",
    "#  {'expression': r'street', 'label': 'ACTION'}, \n",
    "#  {'expression': r'hfp', 'label': 'ACTION'}, \n",
    "#  {'expression': r'shipped', 'label': 'ACTION'}, \n",
    "#  {'expression': r'delivery', 'label': 'ACTION'}, \n",
    "#  {'expression': r'recommend', 'label': 'ACTION'}, \n",
    "#  {'expression': r'warehouse', 'label': 'ACTION'}    \n",
    "]"
   ]
  },
  {
   "cell_type": "code",
   "execution_count": 16,
   "id": "35c2c78c",
   "metadata": {
    "ExecuteTime": {
     "end_time": "2021-08-24T16:14:53.221707Z",
     "start_time": "2021-08-24T16:14:53.207612Z"
    }
   },
   "outputs": [],
   "source": [
    "def generate_label(texts, patterns={}):   \n",
    "    \n",
    "    def entity_from_patterns(text, patterns, pattern_matchs):        \n",
    "        entities = {}\n",
    "#         print('-'*50)  \n",
    "        for pattern in patterns:\n",
    "            entities = entity_from_pattern(text, pattern, entities, pattern_matchs)\n",
    "        entities = [value for _, value in sorted(entities.items(), key=lambda item: item[0][0])]\n",
    "        return entities\n",
    "\n",
    "    def entity_from_pattern(text, pattern, entities, pattern_matchs):\n",
    "        expression = pattern['expression']\n",
    "        label = pattern['label']\n",
    "        for match in re.finditer(expression, text):\n",
    "            start, end = match.span()    \n",
    "            add_key = True\n",
    "            if start-1 >= 0 and text[start-1]!=' ':\n",
    "                add_key = False\n",
    "            if end < len(text) and text[end]!=' ':\n",
    "                add_key = False                \n",
    "                \n",
    "#             drop_keys = []\n",
    "#             for key, value in entities.items():\n",
    "#                 start_, end_ = key\n",
    "#                 if start<start_ and end>end_:\n",
    "#                     drop_keys.append(key)\n",
    "#                 if start>start_ and end<end_:\n",
    "#                     add_key = False\n",
    "#             for key in drop_keys:\n",
    "#                 entities.pop(key)\n",
    "\n",
    "            if add_key: \n",
    "#                 print(text, expression)\n",
    "                pattern_matchs[expression] = pattern_matchs[expression] + 1\n",
    "                entities[(start, end)] = (start, end, label) \n",
    "        return entities\n",
    "        \n",
    "    examples = []\n",
    "    pattern_matchs = {pattern['expression']:0 for pattern in patterns}\n",
    "    for text in texts:\n",
    "        entities = entity_from_patterns(text, patterns, pattern_matchs)        \n",
    "        example = (text, {\"entities\": entities})\n",
    "        examples.append(example)\n",
    "    pattern_matchs = [(key, value) for key, value in sorted(pattern_matchs.items(), key=lambda item: -item[1]) if value>0]\n",
    "#     pattern_matchs = [(key, value) for key, value in pattern_matchs if value>0]\n",
    "        \n",
    "    return examples, pattern_matchs"
   ]
  },
  {
   "cell_type": "markdown",
   "id": "8136ab3c",
   "metadata": {},
   "source": [
    "see some sample data."
   ]
  },
  {
   "cell_type": "code",
   "execution_count": 17,
   "id": "79f3cc6f",
   "metadata": {
    "ExecuteTime": {
     "end_time": "2021-08-24T16:14:53.273421Z",
     "start_time": "2021-08-24T16:14:53.224322Z"
    },
    "scrolled": false
   },
   "outputs": [
    {
     "name": "stdout",
     "output_type": "stream",
     "text": [
      "--------------------------------------------------\n",
      "please create a revisit for wednesday . #normal please order part # l51580-001 and l31365-001 to concord , california hal setting up time to meet with customer . \n",
      "('l51580-001', 68, 78, 'PART_NUM')\n",
      "('l31365-001', 83, 93, 'PART_NUM')\n",
      "--------------------------------------------------\n",
      "please order battery 933321-855 ship to ups hold for pickup , tuscany way , austin . . please reassign to rob silcocks\n",
      "('933321-855', 21, 31, 'PART_NUM')\n",
      "--------------------------------------------------\n",
      "per l2 please order: 2yb64-67005 , 2yb64-67003 xl3600 , 6kd23-67021 xl3600 , 6kd23-67030 , and two 2yb64-67002\n",
      "('2yb64-67005', 21, 32, 'PART_NUM')\n",
      "('2yb64-67003', 35, 46, 'PART_NUM')\n",
      "('6kd23-67021', 56, 67, 'PART_NUM')\n",
      "('6kd23-67030', 77, 88, 'PART_NUM')\n",
      "('2yb64-67002', 99, 110, 'PART_NUM')\n",
      "--------------------------------------------------\n",
      "please create a revisite for 7-16-2021 at 1300 order part number q5669-60687 please order 2 q6683-67001 t8w18-67001 ship to el paso texas for hfpu\n",
      "('q5669-60687', 65, 76, 'PART_NUM')\n",
      "('q6683-67001', 92, 103, 'PART_NUM')\n",
      "('t8w18-67001', 104, 115, 'PART_NUM')\n",
      "--------------------------------------------------\n",
      "please create a revisite for 7-23-2021 for printheads replacement . customer will order\n",
      "\n",
      "==================================================\n",
      "('\\\\d[a-zA-Z][a-zA-Z]\\\\d\\\\d-\\\\d\\\\d\\\\d\\\\d\\\\d', 5)\n",
      "('[a-zA-Z]\\\\d\\\\d\\\\d\\\\d\\\\d-\\\\d\\\\d\\\\d', 2)\n",
      "('[a-zA-Z]\\\\d\\\\d\\\\d\\\\d-\\\\d\\\\d\\\\d\\\\d\\\\d', 2)\n",
      "('\\\\d\\\\d\\\\d\\\\d\\\\d\\\\d-\\\\d\\\\d\\\\d', 1)\n",
      "('[a-zA-Z]\\\\d[a-zA-Z]\\\\d\\\\d-\\\\d\\\\d\\\\d\\\\d\\\\d', 1)\n"
     ]
    }
   ],
   "source": [
    "def show_entity_label(text_entities, pattern_matchs):\n",
    "    for example in text_entities:\n",
    "        print('-'*50)\n",
    "        text, annotations = example\n",
    "        print(text) \n",
    "        print(*[(text[start:end], start, end, label) for start, end, label in annotations['entities']], sep='\\n')\n",
    "    print('='*50)\n",
    "    print(*pattern_matchs, sep='\\n')\n",
    "    \n",
    "texts = [standardize_text1(note) for note in df_sample.notes]  \n",
    "sample_text_entities, sample_pattern_matchs = generate_label(texts, patterns=patterns)\n",
    "show_entity_label(sample_text_entities, sample_pattern_matchs)"
   ]
  },
  {
   "cell_type": "code",
   "execution_count": 18,
   "id": "667ed0d3",
   "metadata": {
    "ExecuteTime": {
     "end_time": "2021-08-24T16:14:58.572702Z",
     "start_time": "2021-08-24T16:14:53.276029Z"
    }
   },
   "outputs": [],
   "source": [
    "texts = [standardize_text1(note) for note in df_train_test.notes]            \n",
    "text_entities, pattern_matchs = generate_label(texts, patterns=patterns)"
   ]
  },
  {
   "cell_type": "code",
   "execution_count": 19,
   "id": "d3261e87",
   "metadata": {
    "ExecuteTime": {
     "end_time": "2021-08-24T16:14:58.579400Z",
     "start_time": "2021-08-24T16:14:58.575006Z"
    }
   },
   "outputs": [
    {
     "name": "stdout",
     "output_type": "stream",
     "text": [
      "('[a-zA-Z][a-zA-Z]\\\\d\\\\d\\\\d-\\\\d\\\\d\\\\d\\\\d\\\\d', 1449)\n",
      "('[a-zA-Z]\\\\d[a-zA-Z]\\\\d\\\\d-\\\\d\\\\d\\\\d\\\\d\\\\d', 1089)\n",
      "('[a-zA-Z][a-zA-Z]\\\\d-\\\\d\\\\d\\\\d\\\\d-\\\\d\\\\d\\\\d[a-zA-Z][a-zA-Z]', 643)\n",
      "('[a-zA-Z][a-zA-Z][a-zA-Z]-\\\\d\\\\d[a-zA-Z]\\\\d\\\\d\\\\d\\\\d', 597)\n",
      "('[a-zA-Z]\\\\d\\\\d\\\\d\\\\d\\\\d-\\\\d\\\\d\\\\d', 547)\n",
      "('\\\\d\\\\d\\\\d\\\\d\\\\d\\\\d-\\\\d\\\\d\\\\d', 400)\n",
      "('[a-zA-Z][a-zA-Z]\\\\d\\\\d-\\\\d\\\\d\\\\d\\\\d\\\\d[a-zA-Z]', 271)\n",
      "('\\\\d\\\\d\\\\d\\\\d-\\\\d\\\\d\\\\d\\\\d', 166)\n",
      "('[a-zA-Z]\\\\d\\\\d\\\\d\\\\d-\\\\d\\\\d\\\\d\\\\d\\\\d', 122)\n",
      "('[a-zA-Z][a-zA-Z][a-zA-Z]-\\\\d\\\\d[a-zA-Z]\\\\d[a-zA-Z]\\\\d\\\\d', 46)\n",
      "('\\\\d[a-zA-Z][a-zA-Z]\\\\d\\\\d-\\\\d\\\\d\\\\d\\\\d\\\\d', 39)\n",
      "('[a-zA-Z][a-zA-Z][a-zA-Z]-[a-zA-Z]\\\\d\\\\d\\\\d[a-zA-Z]\\\\d\\\\d[a-zA-Z]', 21)\n",
      "('[a-zA-Z][a-zA-Z][a-zA-Z]-\\\\d\\\\d\\\\d[a-zA-Z][a-zA-Z]\\\\d\\\\d\\\\d\\\\d\\\\d', 14)\n",
      "('[a-zA-Z]\\\\d\\\\d\\\\d\\\\d\\\\d-[a-zA-Z][a-zA-Z]\\\\d', 6)\n",
      "('\\\\d\\\\d-\\\\d\\\\d\\\\d\\\\d\\\\d-\\\\d\\\\d\\\\d', 5)\n",
      "('[a-zA-Z][a-zA-Z][a-zA-Z]-\\\\d\\\\d[a-zA-Z]\\\\d[a-zA-Z][a-zA-Z]\\\\d', 5)\n",
      "('[a-zA-Z][a-zA-Z][a-zA-Z]-[a-zA-Z][a-zA-Z]\\\\d\\\\d-\\\\d\\\\d\\\\d\\\\d\\\\d[a-zA-Z]', 5)\n",
      "('[a-zA-Z][a-zA-Z][a-zA-Z]-\\\\d\\\\d\\\\d[a-zA-Z]\\\\d\\\\d\\\\d\\\\d\\\\d\\\\d', 3)\n",
      "('[a-zA-Z][a-zA-Z]-\\\\d\\\\d\\\\d\\\\d\\\\d-\\\\d\\\\d', 2)\n",
      "('[a-zA-Z][a-zA-Z][a-zA-Z]-\\\\d\\\\d\\\\d\\\\d[a-zA-Z][a-zA-Z]\\\\d[a-zA-Z][a-zA-Z]\\\\d', 2)\n",
      "('[a-zA-Z][a-zA-Z][a-zA-Z]-\\\\d\\\\d[a-zA-Z]\\\\d\\\\d\\\\d\\\\d\\\\d', 2)\n",
      "('[a-zA-Z][a-zA-Z][a-zA-Z]-\\\\d\\\\d[a-zA-Z]\\\\d\\\\d\\\\d\\\\d[a-zA-Z]', 1)\n",
      "('\\\\d[a-zA-Z]\\\\d-\\\\d\\\\d\\\\d\\\\d-\\\\d\\\\d\\\\d[a-zA-Z][a-zA-Z]', 1)\n"
     ]
    }
   ],
   "source": [
    "print(*pattern_matchs, sep='\\n')  "
   ]
  },
  {
   "cell_type": "code",
   "execution_count": 20,
   "id": "d6fdd7fa",
   "metadata": {
    "ExecuteTime": {
     "end_time": "2021-08-24T16:14:58.589995Z",
     "start_time": "2021-08-24T16:14:58.581740Z"
    }
   },
   "outputs": [
    {
     "name": "stdout",
     "output_type": "stream",
     "text": [
      "--------------------------------------------------\n",
      "l0h24a-67903 , 1 , c2eges21\n",
      "\n",
      "--------------------------------------------------\n",
      "laptop has a video issue that support asked us to look at . 830 g7 - sn: 5cg1048xk2 . \n",
      "\n",
      "--------------------------------------------------\n",
      "need revisit for 7/2 and please order 0609-001558 qty 1 nbd to 83005433\n",
      "\n",
      "--------------------------------------------------\n",
      "order 2 q7404-60029 hinge . please order cf116-67918 customer ok with waiting , part stuck in memphis 7-15\n",
      "('q7404-60029', 8, 19, 'PART_NUM')\n",
      "('cf116-67918', 41, 52, 'PART_NUM')\n",
      "--------------------------------------------------\n",
      "please order l0h24-67903 from c2b9 for pick up\n",
      "('l0h24-67903', 13, 24, 'PART_NUM')\n",
      "--------------------------------------------------\n",
      "please create a revisit for this case . \n",
      "\n",
      "--------------------------------------------------\n",
      "pls change primary contact to ann woodruff 9543784520 ann . m . woodruff@questdiagnostics . com . ce rescheduling because customer unreachable because mailroom attendant gone for the day , mailroom closed . \n",
      "\n",
      "--------------------------------------------------\n",
      "#normal waiting parts please rr to terry blomberg for 07/05/21 please rr to david kelly for 7/16/2021\n",
      "\n",
      "--------------------------------------------------\n",
      "#normal greg harris\n",
      "\n",
      "--------------------------------------------------\n",
      "l0r20-67901 , 1 , c2eves22\n",
      "('l0r20-67901', 0, 11, 'PART_NUM')\n",
      "==================================================\n",
      "('[a-zA-Z][a-zA-Z]\\\\d\\\\d\\\\d-\\\\d\\\\d\\\\d\\\\d\\\\d', 1449)\n",
      "('[a-zA-Z]\\\\d[a-zA-Z]\\\\d\\\\d-\\\\d\\\\d\\\\d\\\\d\\\\d', 1089)\n",
      "('[a-zA-Z][a-zA-Z]\\\\d-\\\\d\\\\d\\\\d\\\\d-\\\\d\\\\d\\\\d[a-zA-Z][a-zA-Z]', 643)\n",
      "('[a-zA-Z][a-zA-Z][a-zA-Z]-\\\\d\\\\d[a-zA-Z]\\\\d\\\\d\\\\d\\\\d', 597)\n",
      "('[a-zA-Z]\\\\d\\\\d\\\\d\\\\d\\\\d-\\\\d\\\\d\\\\d', 547)\n",
      "('\\\\d\\\\d\\\\d\\\\d\\\\d\\\\d-\\\\d\\\\d\\\\d', 400)\n",
      "('[a-zA-Z][a-zA-Z]\\\\d\\\\d-\\\\d\\\\d\\\\d\\\\d\\\\d[a-zA-Z]', 271)\n",
      "('\\\\d\\\\d\\\\d\\\\d-\\\\d\\\\d\\\\d\\\\d', 166)\n",
      "('[a-zA-Z]\\\\d\\\\d\\\\d\\\\d-\\\\d\\\\d\\\\d\\\\d\\\\d', 122)\n",
      "('[a-zA-Z][a-zA-Z][a-zA-Z]-\\\\d\\\\d[a-zA-Z]\\\\d[a-zA-Z]\\\\d\\\\d', 46)\n"
     ]
    }
   ],
   "source": [
    "indexes = np.random.randint(0, len(text_entities), 10)\n",
    "sample_text_entities = [text_entities[i] for i in indexes]\n",
    "sample_pattern_matchs = pattern_matchs[0:len(indexes)]\n",
    "show_entity_label(sample_text_entities, sample_pattern_matchs)"
   ]
  },
  {
   "cell_type": "code",
   "execution_count": 21,
   "id": "7f296068",
   "metadata": {
    "ExecuteTime": {
     "end_time": "2021-08-24T16:14:58.600021Z",
     "start_time": "2021-08-24T16:14:58.592996Z"
    }
   },
   "outputs": [
    {
     "name": "stdout",
     "output_type": "stream",
     "text": [
      "4582\n",
      "1528\n"
     ]
    }
   ],
   "source": [
    "train_data, test_data = train_test_split(text_entities, test_size=0.25, random_state=99)\n",
    "\n",
    "print(len(train_data))\n",
    "print(len(test_data))"
   ]
  },
  {
   "cell_type": "markdown",
   "id": "c04ea363",
   "metadata": {},
   "source": [
    "### Generate NER data"
   ]
  },
  {
   "cell_type": "code",
   "execution_count": 22,
   "id": "a325e822",
   "metadata": {
    "ExecuteTime": {
     "end_time": "2021-08-24T16:15:04.194187Z",
     "start_time": "2021-08-24T16:14:58.611071Z"
    }
   },
   "outputs": [
    {
     "name": "stderr",
     "output_type": "stream",
     "text": [
      "100%|██████████| 4582/4582 [00:03<00:00, 1270.73it/s]\n",
      "100%|██████████| 1528/1528 [00:01<00:00, 1197.72it/s]\n"
     ]
    }
   ],
   "source": [
    "def generate_data(data):\n",
    "    nlp = spacy.blank(\"en\") # load a new spacy model\n",
    "    db = DocBin() # create a DocBin object\n",
    "\n",
    "    for text, annot in tqdm(data): # data in previous format\n",
    "        doc = nlp.make_doc(text) # create doc object from text\n",
    "        ents = []\n",
    "        for start, end, label in annot[\"entities\"]: # add character indexes\n",
    "            span = doc.char_span(start, end, label=label, alignment_mode=\"contract\")\n",
    "            if span is None:\n",
    "                print(\"Skipping entity\")\n",
    "            else:\n",
    "                ents.append(span)\n",
    "        doc.ents = ents # label the text with the ents\n",
    "        db.add(doc)\n",
    "    return db\n",
    "    \n",
    "train_spacy = generate_data(train_data)\n",
    "train_spacy.to_disk(\"./train.spacy\") # save the docbin object\n",
    "test_spacy = generate_data(test_data) \n",
    "test_spacy.to_disk(\"./test.spacy\") # save the docbin object"
   ]
  },
  {
   "cell_type": "code",
   "execution_count": 23,
   "id": "d9b5334e",
   "metadata": {
    "ExecuteTime": {
     "end_time": "2021-08-24T16:15:05.112220Z",
     "start_time": "2021-08-24T16:15:04.196948Z"
    }
   },
   "outputs": [
    {
     "name": "stdout",
     "output_type": "stream",
     "text": [
      "total 7620\r\n",
      "-rw-r--r--. 1 root root    1916 Aug 23 01:30 base_config.cfg\r\n",
      "-rw-r--r--. 1 root root    1664 Aug 23 09:48 base_config_gpu.cfg\r\n",
      "-rw-r--r--. 1 root root    2836 Aug 24 15:47 config.cfg\r\n",
      "-rw-r--r--. 1 root root    2625 Aug 24 15:48 config_gpu.cfg\r\n",
      "-rw-r--r--. 1 root root  111810 Aug 24 16:14 custom_ner.ipynb\r\n",
      "-rw-r--r--. 1 root root  261717 Aug 24 15:54 custom_ner_aug.ipynb\r\n",
      "drwxr-xr-x. 5 root root      43 Aug 24 09:04 output\r\n",
      "-rw-r--r--. 1 root root  227413 Aug 24 16:15 test.spacy\r\n",
      "-rw-r--r--. 1 root root  229957 Aug 24 15:04 test_aug.spacy\r\n",
      "-rw-r--r--. 1 root root  660076 Aug 24 16:15 train.spacy\r\n",
      "-rw-r--r--. 1 root root 6281781 Aug 24 15:04 train_aug.spacy\r\n"
     ]
    }
   ],
   "source": [
    "!ls -l . "
   ]
  },
  {
   "cell_type": "markdown",
   "id": "cc3b5247",
   "metadata": {},
   "source": [
    "## Train the model"
   ]
  },
  {
   "cell_type": "code",
   "execution_count": 24,
   "id": "a5aed1da",
   "metadata": {
    "ExecuteTime": {
     "end_time": "2021-08-24T16:15:05.118277Z",
     "start_time": "2021-08-24T16:15:05.115316Z"
    }
   },
   "outputs": [],
   "source": [
    "# !python -m spacy train config.cfg --output ./output/cpu --paths.train ./train.spacy --paths.dev ./test.spacy"
   ]
  },
  {
   "cell_type": "code",
   "execution_count": 48,
   "id": "6b4de6cb",
   "metadata": {
    "ExecuteTime": {
     "end_time": "2021-08-25T00:23:43.602994Z",
     "start_time": "2021-08-25T00:08:17.395464Z"
    }
   },
   "outputs": [
    {
     "name": "stdout",
     "output_type": "stream",
     "text": [
      "2021-08-25 00:08:19.450614: I tensorflow/stream_executor/platform/default/dso_loader.cc:53] Successfully opened dynamic library libcudart.so.11.0\n",
      "\u001b[38;5;4mℹ Using GPU: 0\u001b[0m\n",
      "\u001b[1m\n",
      "=========================== Initializing pipeline ===========================\u001b[0m\n",
      "[2021-08-25 00:08:22,850] [INFO] Set up nlp object from config\n",
      "[2021-08-25 00:08:22,867] [INFO] Pipeline: ['transformer', 'ner']\n",
      "[2021-08-25 00:08:22,873] [INFO] Created vocabulary\n",
      "[2021-08-25 00:08:22,874] [INFO] Finished initializing nlp object\n",
      "Some weights of the model checkpoint at roberta-base were not used when initializing RobertaModel: ['lm_head.dense.bias', 'lm_head.bias', 'lm_head.dense.weight', 'lm_head.decoder.weight', 'lm_head.layer_norm.weight', 'lm_head.layer_norm.bias']\n",
      "- This IS expected if you are initializing RobertaModel from the checkpoint of a model trained on another task or with another architecture (e.g. initializing a BertForSequenceClassification model from a BertForPreTraining model).\n",
      "- This IS NOT expected if you are initializing RobertaModel from the checkpoint of a model that you expect to be exactly identical (initializing a BertForSequenceClassification model from a BertForSequenceClassification model).\n",
      "[2021-08-25 00:08:45,546] [INFO] Initialized pipeline components: ['transformer', 'ner']\n",
      "\u001b[38;5;2m✔ Initialized pipeline\u001b[0m\n",
      "\u001b[1m\n",
      "============================= Training pipeline =============================\u001b[0m\n",
      "\u001b[38;5;4mℹ Pipeline: ['transformer', 'ner']\u001b[0m\n",
      "\u001b[38;5;4mℹ Initial learn rate: 0.0\u001b[0m\n",
      "E    #       LOSS TRANS...  LOSS NER  ENTS_F  ENTS_P  ENTS_R  SCORE \n",
      "---  ------  -------------  --------  ------  ------  ------  ------\n",
      "  0       0         541.36     62.33    0.33    0.21    0.81    0.00\n",
      "  0      50      148209.38  25802.05    0.00    0.00    0.00    0.00\n",
      "  1     100       10057.80   4046.63   91.53   90.27   92.82    0.92\n",
      "  1     150         150.54    631.34   94.66   90.35   99.39    0.95\n",
      "  2     200         106.13    447.62   95.84   92.97   98.89    0.96\n",
      "  3     250         128.39    521.58   95.18   90.97   99.80    0.95\n",
      "  3     300          77.66    334.46   96.80   95.75   97.88    0.97\n",
      "  4     350          51.49    272.01   97.91   96.29   99.60    0.98\n",
      "  5     400          51.80    272.77   98.30   97.23   99.39    0.98\n",
      "  5     450          37.31    249.71   97.92   96.02   99.90    0.98\n",
      "  6     500          47.12    249.53   98.26   96.86   99.70    0.98\n",
      "  7     550          21.64    187.96   98.01   96.29   99.80    0.98\n",
      "  7     600          24.01    161.32   98.75   97.82   99.70    0.99\n",
      "  8     650          21.35    224.04   98.65   97.53   99.80    0.99\n",
      "  9     700          14.43    164.34   97.72   96.00   99.49    0.98\n",
      "  9     750          18.76    174.89   97.53   95.45   99.70    0.98\n",
      " 10     800          17.92    150.95   97.77   96.00   99.60    0.98\n",
      "\u001b[38;5;2m✔ Saved pipeline to output directory\u001b[0m\n",
      "output/gpu/model-last\n"
     ]
    }
   ],
   "source": [
    "!python -m spacy train config_gpu.cfg --output ./output/gpu --paths.train ./train.spacy --paths.dev ./test.spacy --gpu-id 0"
   ]
  },
  {
   "cell_type": "markdown",
   "id": "52df0827",
   "metadata": {},
   "source": [
    "## Evaluate\n",
    "\n",
    "###  Check test data"
   ]
  },
  {
   "cell_type": "code",
   "execution_count": 49,
   "id": "48ed7541",
   "metadata": {
    "ExecuteTime": {
     "end_time": "2021-08-25T00:23:45.839892Z",
     "start_time": "2021-08-25T00:23:43.605972Z"
    }
   },
   "outputs": [],
   "source": [
    "nlp = spacy.load(\"output/gpu/model-last\")"
   ]
  },
  {
   "cell_type": "code",
   "execution_count": 50,
   "id": "316f978f",
   "metadata": {
    "ExecuteTime": {
     "end_time": "2021-08-25T00:23:45.855401Z",
     "start_time": "2021-08-25T00:23:45.842891Z"
    }
   },
   "outputs": [],
   "source": [
    "options = {'colors': {'ACTION':\"#56D7C4\", 'PART_NUM':\"#92E0AA\"} }\n",
    "\n",
    "def show_text(text, annotations=None, options=options, show_detail=True, standardize_text=None):\n",
    "    if standardize_text is not None:\n",
    "        text = standardize_text(text)\n",
    "    doc = nlp(text)\n",
    "    print('='*100)\n",
    "    if show_detail:\n",
    "        print(doc.text) \n",
    "    spacy.displacy.render(doc, style='ent', options=options)\n",
    "    if show_detail and annotations is not None and len(annotations['entities'])>0:\n",
    "        print('-'*25, 'acutal entities', '-'*25)\n",
    "        print(*[(text[start:end], start, end, label) for start, end, label in annotations['entities']], sep='\\n')   \n",
    "    if show_detail and len(doc.ents)>0:\n",
    "        print('-'*25, 'predict entities', '-'*25)\n",
    "        print(*[(ent.text, ent.start_char, ent.end_char, ent.label_) for ent in doc.ents], sep='\\n')      \n",
    "\n",
    "def show_texts(data, indexes=None, options=options, show_detail=True, standardize_text=None):\n",
    "    def show_text_(data):\n",
    "        if isinstance(data, str):\n",
    "            show_text(data, None, options=options, show_detail=show_detail, standardize_text=standardize_text)\n",
    "        else:\n",
    "            text, annotations = data\n",
    "            show_text(text, annotations, options=options, show_detail=show_detail, standardize_text=standardize_text)  \n",
    "            \n",
    "    if indexes is not None:\n",
    "        for i in indexes:\n",
    "            show_text_(data[i])   \n",
    "    else:\n",
    "        for one_data in data: \n",
    "            show_text_(one_data)      \n",
    "    \n",
    "                  "
   ]
  },
  {
   "cell_type": "code",
   "execution_count": 51,
   "id": "2f44d6da",
   "metadata": {
    "ExecuteTime": {
     "end_time": "2021-08-25T00:23:46.726945Z",
     "start_time": "2021-08-25T00:23:45.857931Z"
    },
    "scrolled": true
   },
   "outputs": [
    {
     "name": "stdout",
     "output_type": "stream",
     "text": [
      "====================================================================================================\n",
      "hello please order part j9v82-67001 serv assy-main pca - j9v82 , and ship it to raleigh fedex hfpu . i ' m rescheduling due to routine optimization\n"
     ]
    },
    {
     "data": {
      "text/html": [
       "<span class=\"tex2jax_ignore\"><div class=\"entities\" style=\"line-height: 2.5; direction: ltr\">hello please order part j9v82-67001 serv assy-main pca - j9v82 , and ship it to raleigh fedex hfpu . i ' m rescheduling due to routine optimization</div></span>"
      ],
      "text/plain": [
       "<IPython.core.display.HTML object>"
      ]
     },
     "metadata": {},
     "output_type": "display_data"
    },
    {
     "name": "stdout",
     "output_type": "stream",
     "text": [
      "====================================================================================================\n",
      "please order part #: rm2-6613-000cn and ship to hal\n"
     ]
    },
    {
     "data": {
      "text/html": [
       "<span class=\"tex2jax_ignore\"><div class=\"entities\" style=\"line-height: 2.5; direction: ltr\">please order part #: \n",
       "<mark class=\"entity\" style=\"background: #92E0AA; padding: 0.45em 0.6em; margin: 0 0.25em; line-height: 1; border-radius: 0.35em;\">\n",
       "    rm2-6613-000cn\n",
       "    <span style=\"font-size: 0.8em; font-weight: bold; line-height: 1; border-radius: 0.35em; vertical-align: middle; margin-left: 0.5rem\">PART_NUM</span>\n",
       "</mark>\n",
       " and ship to hal</div></span>"
      ],
      "text/plain": [
       "<IPython.core.display.HTML object>"
      ]
     },
     "metadata": {},
     "output_type": "display_data"
    },
    {
     "name": "stdout",
     "output_type": "stream",
     "text": [
      "------------------------- acutal entities -------------------------\n",
      "('rm2-6613-000cn', 21, 35, 'PART_NUM')\n",
      "------------------------- predict entities -------------------------\n",
      "('rm2-6613-000cn', 21, 35, 'PART_NUM')\n",
      "====================================================================================================\n",
      "the adapter as not arrived yet but i have been told that the computer is back online now and can be cancelled . please reassign this case to james lacy . he is expecting it . thank you . waiting on an adapter to be able to do this reimage . \n"
     ]
    },
    {
     "data": {
      "text/html": [
       "<span class=\"tex2jax_ignore\"><div class=\"entities\" style=\"line-height: 2.5; direction: ltr\">the adapter as not arrived yet but i have been told that the computer is back online now and can be cancelled . please reassign this case to james lacy . he is expecting it . thank you . waiting on an adapter to be able to do this reimage . </div></span>"
      ],
      "text/plain": [
       "<IPython.core.display.HTML object>"
      ]
     },
     "metadata": {},
     "output_type": "display_data"
    },
    {
     "name": "stdout",
     "output_type": "stream",
     "text": [
      "====================================================================================================\n",
      "request revisit to order part\n"
     ]
    },
    {
     "data": {
      "text/html": [
       "<span class=\"tex2jax_ignore\"><div class=\"entities\" style=\"line-height: 2.5; direction: ltr\">request revisit to order part</div></span>"
      ],
      "text/plain": [
       "<IPython.core.display.HTML object>"
      ]
     },
     "metadata": {},
     "output_type": "display_data"
    },
    {
     "name": "stdout",
     "output_type": "stream",
     "text": [
      "====================================================================================================\n",
      "please create follow up for tomorrow and order part nbd to hal in windsor locks ct . b3q10-40081 qty1 , b3q10-40080 qty1 . #normal monday is a holiday so nbd is wednesday for a call coming in on weekend . \n"
     ]
    },
    {
     "data": {
      "text/html": [
       "<span class=\"tex2jax_ignore\"><div class=\"entities\" style=\"line-height: 2.5; direction: ltr\">please create follow up for tomorrow and order part nbd to hal in windsor locks ct . \n",
       "<mark class=\"entity\" style=\"background: #92E0AA; padding: 0.45em 0.6em; margin: 0 0.25em; line-height: 1; border-radius: 0.35em;\">\n",
       "    b3q10-40081\n",
       "    <span style=\"font-size: 0.8em; font-weight: bold; line-height: 1; border-radius: 0.35em; vertical-align: middle; margin-left: 0.5rem\">PART_NUM</span>\n",
       "</mark>\n",
       " qty1 , \n",
       "<mark class=\"entity\" style=\"background: #92E0AA; padding: 0.45em 0.6em; margin: 0 0.25em; line-height: 1; border-radius: 0.35em;\">\n",
       "    b3q10-40080\n",
       "    <span style=\"font-size: 0.8em; font-weight: bold; line-height: 1; border-radius: 0.35em; vertical-align: middle; margin-left: 0.5rem\">PART_NUM</span>\n",
       "</mark>\n",
       " qty1 . #normal monday is a holiday so nbd is wednesday for a call coming in on weekend . </div></span>"
      ],
      "text/plain": [
       "<IPython.core.display.HTML object>"
      ]
     },
     "metadata": {},
     "output_type": "display_data"
    },
    {
     "name": "stdout",
     "output_type": "stream",
     "text": [
      "------------------------- acutal entities -------------------------\n",
      "('b3q10-40081', 85, 96, 'PART_NUM')\n",
      "('b3q10-40080', 104, 115, 'PART_NUM')\n",
      "------------------------- predict entities -------------------------\n",
      "('b3q10-40081', 85, 96, 'PART_NUM')\n",
      "('b3q10-40080', 104, 115, 'PART_NUM')\n",
      "====================================================================================================\n",
      "please order the recommended parts to my hfpu nbd\n"
     ]
    },
    {
     "data": {
      "text/html": [
       "<span class=\"tex2jax_ignore\"><div class=\"entities\" style=\"line-height: 2.5; direction: ltr\">please order the recommended parts to my hfpu nbd</div></span>"
      ],
      "text/plain": [
       "<IPython.core.display.HTML object>"
      ]
     },
     "metadata": {},
     "output_type": "display_data"
    },
    {
     "name": "stdout",
     "output_type": "stream",
     "text": [
      "====================================================================================================\n",
      "please create a revisit and order part b5l47-67907 and ship to palm springs ca . \n"
     ]
    },
    {
     "data": {
      "text/html": [
       "<span class=\"tex2jax_ignore\"><div class=\"entities\" style=\"line-height: 2.5; direction: ltr\">please create a revisit and order part \n",
       "<mark class=\"entity\" style=\"background: #92E0AA; padding: 0.45em 0.6em; margin: 0 0.25em; line-height: 1; border-radius: 0.35em;\">\n",
       "    b5l47-67907\n",
       "    <span style=\"font-size: 0.8em; font-weight: bold; line-height: 1; border-radius: 0.35em; vertical-align: middle; margin-left: 0.5rem\">PART_NUM</span>\n",
       "</mark>\n",
       " and ship to palm springs ca . </div></span>"
      ],
      "text/plain": [
       "<IPython.core.display.HTML object>"
      ]
     },
     "metadata": {},
     "output_type": "display_data"
    },
    {
     "name": "stdout",
     "output_type": "stream",
     "text": [
      "------------------------- acutal entities -------------------------\n",
      "('b5l47-67907', 39, 50, 'PART_NUM')\n",
      "------------------------- predict entities -------------------------\n",
      "('b5l47-67907', 39, 50, 'PART_NUM')\n",
      "====================================================================================================\n",
      "reassign to rick ficek he requested this case also reorder 933321-852 battery and ship to 321 ellendale parkway crown point , in 46307\n"
     ]
    },
    {
     "data": {
      "text/html": [
       "<span class=\"tex2jax_ignore\"><div class=\"entities\" style=\"line-height: 2.5; direction: ltr\">reassign to rick ficek he requested this case also reorder \n",
       "<mark class=\"entity\" style=\"background: #92E0AA; padding: 0.45em 0.6em; margin: 0 0.25em; line-height: 1; border-radius: 0.35em;\">\n",
       "    933321-852\n",
       "    <span style=\"font-size: 0.8em; font-weight: bold; line-height: 1; border-radius: 0.35em; vertical-align: middle; margin-left: 0.5rem\">PART_NUM</span>\n",
       "</mark>\n",
       " battery and ship to 321 ellendale parkway crown point , in 46307</div></span>"
      ],
      "text/plain": [
       "<IPython.core.display.HTML object>"
      ]
     },
     "metadata": {},
     "output_type": "display_data"
    },
    {
     "name": "stdout",
     "output_type": "stream",
     "text": [
      "------------------------- acutal entities -------------------------\n",
      "('933321-852', 59, 69, 'PART_NUM')\n",
      "------------------------- predict entities -------------------------\n",
      "('933321-852', 59, 69, 'PART_NUM')\n",
      "====================================================================================================\n",
      "#normal customer requests service at this time order 917725-855 and l43407-001 and 213349-001 for next day ship to customers site attn kim gordin thank you\n"
     ]
    },
    {
     "data": {
      "text/html": [
       "<span class=\"tex2jax_ignore\"><div class=\"entities\" style=\"line-height: 2.5; direction: ltr\">#normal customer requests service at this time order \n",
       "<mark class=\"entity\" style=\"background: #92E0AA; padding: 0.45em 0.6em; margin: 0 0.25em; line-height: 1; border-radius: 0.35em;\">\n",
       "    917725-855\n",
       "    <span style=\"font-size: 0.8em; font-weight: bold; line-height: 1; border-radius: 0.35em; vertical-align: middle; margin-left: 0.5rem\">PART_NUM</span>\n",
       "</mark>\n",
       " and \n",
       "<mark class=\"entity\" style=\"background: #92E0AA; padding: 0.45em 0.6em; margin: 0 0.25em; line-height: 1; border-radius: 0.35em;\">\n",
       "    l43407-001\n",
       "    <span style=\"font-size: 0.8em; font-weight: bold; line-height: 1; border-radius: 0.35em; vertical-align: middle; margin-left: 0.5rem\">PART_NUM</span>\n",
       "</mark>\n",
       " and \n",
       "<mark class=\"entity\" style=\"background: #92E0AA; padding: 0.45em 0.6em; margin: 0 0.25em; line-height: 1; border-radius: 0.35em;\">\n",
       "    213349-001\n",
       "    <span style=\"font-size: 0.8em; font-weight: bold; line-height: 1; border-radius: 0.35em; vertical-align: middle; margin-left: 0.5rem\">PART_NUM</span>\n",
       "</mark>\n",
       " for next day ship to customers site attn kim gordin thank you</div></span>"
      ],
      "text/plain": [
       "<IPython.core.display.HTML object>"
      ]
     },
     "metadata": {},
     "output_type": "display_data"
    },
    {
     "name": "stdout",
     "output_type": "stream",
     "text": [
      "------------------------- acutal entities -------------------------\n",
      "('917725-855', 53, 63, 'PART_NUM')\n",
      "('l43407-001', 68, 78, 'PART_NUM')\n",
      "('213349-001', 83, 93, 'PART_NUM')\n",
      "------------------------- predict entities -------------------------\n",
      "('917725-855', 53, 63, 'PART_NUM')\n",
      "('l43407-001', 68, 78, 'PART_NUM')\n",
      "('213349-001', 83, 93, 'PART_NUM')\n",
      "====================================================================================================\n",
      "#normal please reassign ticket to tech laneisha anderson , as she will be covering this while i am out on vacation . \n"
     ]
    },
    {
     "data": {
      "text/html": [
       "<span class=\"tex2jax_ignore\"><div class=\"entities\" style=\"line-height: 2.5; direction: ltr\">#normal please reassign ticket to tech laneisha anderson , as she will be covering this while i am out on vacation . </div></span>"
      ],
      "text/plain": [
       "<IPython.core.display.HTML object>"
      ]
     },
     "metadata": {},
     "output_type": "display_data"
    }
   ],
   "source": [
    "indexes = np.random.randint(0, len(test_data), 10)\n",
    "show_texts(test_data, indexes) "
   ]
  },
  {
   "cell_type": "code",
   "execution_count": 52,
   "id": "ec1d358a",
   "metadata": {
    "ExecuteTime": {
     "end_time": "2021-08-25T00:23:47.640984Z",
     "start_time": "2021-08-25T00:23:46.729418Z"
    },
    "scrolled": false
   },
   "outputs": [
    {
     "name": "stdout",
     "output_type": "stream",
     "text": [
      "====================================================================================================\n"
     ]
    },
    {
     "data": {
      "text/html": [
       "<span class=\"tex2jax_ignore\"><div class=\"entities\" style=\"line-height: 2.5; direction: ltr\">hello please order part j9v82-67001 serv assy-main pca - j9v82 , and ship it to raleigh fedex hfpu . i ' m rescheduling due to routine optimization</div></span>"
      ],
      "text/plain": [
       "<IPython.core.display.HTML object>"
      ]
     },
     "metadata": {},
     "output_type": "display_data"
    },
    {
     "name": "stdout",
     "output_type": "stream",
     "text": [
      "====================================================================================================\n"
     ]
    },
    {
     "data": {
      "text/html": [
       "<span class=\"tex2jax_ignore\"><div class=\"entities\" style=\"line-height: 2.5; direction: ltr\">please order part #: \n",
       "<mark class=\"entity\" style=\"background: #92E0AA; padding: 0.45em 0.6em; margin: 0 0.25em; line-height: 1; border-radius: 0.35em;\">\n",
       "    rm2-6613-000cn\n",
       "    <span style=\"font-size: 0.8em; font-weight: bold; line-height: 1; border-radius: 0.35em; vertical-align: middle; margin-left: 0.5rem\">PART_NUM</span>\n",
       "</mark>\n",
       " and ship to hal</div></span>"
      ],
      "text/plain": [
       "<IPython.core.display.HTML object>"
      ]
     },
     "metadata": {},
     "output_type": "display_data"
    },
    {
     "name": "stdout",
     "output_type": "stream",
     "text": [
      "====================================================================================================\n"
     ]
    },
    {
     "data": {
      "text/html": [
       "<span class=\"tex2jax_ignore\"><div class=\"entities\" style=\"line-height: 2.5; direction: ltr\">the adapter as not arrived yet but i have been told that the computer is back online now and can be cancelled . please reassign this case to james lacy . he is expecting it . thank you . waiting on an adapter to be able to do this reimage . </div></span>"
      ],
      "text/plain": [
       "<IPython.core.display.HTML object>"
      ]
     },
     "metadata": {},
     "output_type": "display_data"
    },
    {
     "name": "stdout",
     "output_type": "stream",
     "text": [
      "====================================================================================================\n"
     ]
    },
    {
     "data": {
      "text/html": [
       "<span class=\"tex2jax_ignore\"><div class=\"entities\" style=\"line-height: 2.5; direction: ltr\">request revisit to order part</div></span>"
      ],
      "text/plain": [
       "<IPython.core.display.HTML object>"
      ]
     },
     "metadata": {},
     "output_type": "display_data"
    },
    {
     "name": "stdout",
     "output_type": "stream",
     "text": [
      "====================================================================================================\n"
     ]
    },
    {
     "data": {
      "text/html": [
       "<span class=\"tex2jax_ignore\"><div class=\"entities\" style=\"line-height: 2.5; direction: ltr\">please create follow up for tomorrow and order part nbd to hal in windsor locks ct . \n",
       "<mark class=\"entity\" style=\"background: #92E0AA; padding: 0.45em 0.6em; margin: 0 0.25em; line-height: 1; border-radius: 0.35em;\">\n",
       "    b3q10-40081\n",
       "    <span style=\"font-size: 0.8em; font-weight: bold; line-height: 1; border-radius: 0.35em; vertical-align: middle; margin-left: 0.5rem\">PART_NUM</span>\n",
       "</mark>\n",
       " qty1 , \n",
       "<mark class=\"entity\" style=\"background: #92E0AA; padding: 0.45em 0.6em; margin: 0 0.25em; line-height: 1; border-radius: 0.35em;\">\n",
       "    b3q10-40080\n",
       "    <span style=\"font-size: 0.8em; font-weight: bold; line-height: 1; border-radius: 0.35em; vertical-align: middle; margin-left: 0.5rem\">PART_NUM</span>\n",
       "</mark>\n",
       " qty1 . #normal monday is a holiday so nbd is wednesday for a call coming in on weekend . </div></span>"
      ],
      "text/plain": [
       "<IPython.core.display.HTML object>"
      ]
     },
     "metadata": {},
     "output_type": "display_data"
    },
    {
     "name": "stdout",
     "output_type": "stream",
     "text": [
      "====================================================================================================\n"
     ]
    },
    {
     "data": {
      "text/html": [
       "<span class=\"tex2jax_ignore\"><div class=\"entities\" style=\"line-height: 2.5; direction: ltr\">please order the recommended parts to my hfpu nbd</div></span>"
      ],
      "text/plain": [
       "<IPython.core.display.HTML object>"
      ]
     },
     "metadata": {},
     "output_type": "display_data"
    },
    {
     "name": "stdout",
     "output_type": "stream",
     "text": [
      "====================================================================================================\n"
     ]
    },
    {
     "data": {
      "text/html": [
       "<span class=\"tex2jax_ignore\"><div class=\"entities\" style=\"line-height: 2.5; direction: ltr\">please create a revisit and order part \n",
       "<mark class=\"entity\" style=\"background: #92E0AA; padding: 0.45em 0.6em; margin: 0 0.25em; line-height: 1; border-radius: 0.35em;\">\n",
       "    b5l47-67907\n",
       "    <span style=\"font-size: 0.8em; font-weight: bold; line-height: 1; border-radius: 0.35em; vertical-align: middle; margin-left: 0.5rem\">PART_NUM</span>\n",
       "</mark>\n",
       " and ship to palm springs ca . </div></span>"
      ],
      "text/plain": [
       "<IPython.core.display.HTML object>"
      ]
     },
     "metadata": {},
     "output_type": "display_data"
    },
    {
     "name": "stdout",
     "output_type": "stream",
     "text": [
      "====================================================================================================\n"
     ]
    },
    {
     "data": {
      "text/html": [
       "<span class=\"tex2jax_ignore\"><div class=\"entities\" style=\"line-height: 2.5; direction: ltr\">reassign to rick ficek he requested this case also reorder \n",
       "<mark class=\"entity\" style=\"background: #92E0AA; padding: 0.45em 0.6em; margin: 0 0.25em; line-height: 1; border-radius: 0.35em;\">\n",
       "    933321-852\n",
       "    <span style=\"font-size: 0.8em; font-weight: bold; line-height: 1; border-radius: 0.35em; vertical-align: middle; margin-left: 0.5rem\">PART_NUM</span>\n",
       "</mark>\n",
       " battery and ship to 321 ellendale parkway crown point , in 46307</div></span>"
      ],
      "text/plain": [
       "<IPython.core.display.HTML object>"
      ]
     },
     "metadata": {},
     "output_type": "display_data"
    },
    {
     "name": "stdout",
     "output_type": "stream",
     "text": [
      "====================================================================================================\n"
     ]
    },
    {
     "data": {
      "text/html": [
       "<span class=\"tex2jax_ignore\"><div class=\"entities\" style=\"line-height: 2.5; direction: ltr\">#normal customer requests service at this time order \n",
       "<mark class=\"entity\" style=\"background: #92E0AA; padding: 0.45em 0.6em; margin: 0 0.25em; line-height: 1; border-radius: 0.35em;\">\n",
       "    917725-855\n",
       "    <span style=\"font-size: 0.8em; font-weight: bold; line-height: 1; border-radius: 0.35em; vertical-align: middle; margin-left: 0.5rem\">PART_NUM</span>\n",
       "</mark>\n",
       " and \n",
       "<mark class=\"entity\" style=\"background: #92E0AA; padding: 0.45em 0.6em; margin: 0 0.25em; line-height: 1; border-radius: 0.35em;\">\n",
       "    l43407-001\n",
       "    <span style=\"font-size: 0.8em; font-weight: bold; line-height: 1; border-radius: 0.35em; vertical-align: middle; margin-left: 0.5rem\">PART_NUM</span>\n",
       "</mark>\n",
       " and \n",
       "<mark class=\"entity\" style=\"background: #92E0AA; padding: 0.45em 0.6em; margin: 0 0.25em; line-height: 1; border-radius: 0.35em;\">\n",
       "    213349-001\n",
       "    <span style=\"font-size: 0.8em; font-weight: bold; line-height: 1; border-radius: 0.35em; vertical-align: middle; margin-left: 0.5rem\">PART_NUM</span>\n",
       "</mark>\n",
       " for next day ship to customers site attn kim gordin thank you</div></span>"
      ],
      "text/plain": [
       "<IPython.core.display.HTML object>"
      ]
     },
     "metadata": {},
     "output_type": "display_data"
    },
    {
     "name": "stdout",
     "output_type": "stream",
     "text": [
      "====================================================================================================\n"
     ]
    },
    {
     "data": {
      "text/html": [
       "<span class=\"tex2jax_ignore\"><div class=\"entities\" style=\"line-height: 2.5; direction: ltr\">#normal please reassign ticket to tech laneisha anderson , as she will be covering this while i am out on vacation . </div></span>"
      ],
      "text/plain": [
       "<IPython.core.display.HTML object>"
      ]
     },
     "metadata": {},
     "output_type": "display_data"
    }
   ],
   "source": [
    "show_texts(test_data, indexes, show_detail=False) "
   ]
  },
  {
   "cell_type": "markdown",
   "id": "71eac2b0",
   "metadata": {},
   "source": [
    "### Check Error Data"
   ]
  },
  {
   "cell_type": "code",
   "execution_count": 62,
   "id": "5174cf1d",
   "metadata": {
    "ExecuteTime": {
     "end_time": "2021-08-25T01:21:18.381961Z",
     "start_time": "2021-08-25T01:19:22.741465Z"
    }
   },
   "outputs": [
    {
     "name": "stdout",
     "output_type": "stream",
     "text": [
      "0 1\n",
      "25 2\n",
      "116 3\n",
      "121 4\n",
      "165 5\n",
      "198 6\n",
      "207 7\n",
      "235 8\n",
      "510 9\n",
      "576 10\n",
      "699 11\n",
      "763 12\n",
      "763 13\n",
      "765 14\n",
      "881 15\n",
      "914 16\n",
      "949 17\n",
      "958 18\n",
      "967 19\n",
      "1006 20\n",
      "1068 21\n",
      "1070 22\n",
      "1070 23\n",
      "1126 24\n",
      "1141 25\n",
      "1141 26\n",
      "1196 27\n",
      "1202 28\n",
      "1209 29\n",
      "1266 30\n",
      "1299 31\n",
      "1308 32\n",
      "1325 33\n",
      "1349 34\n",
      "1374 35\n",
      "1416 36\n",
      "1484 37\n",
      "1517 38\n",
      "1517 39\n"
     ]
    }
   ],
   "source": [
    "def get_error_data(data):\n",
    "    error_data = []\n",
    "    for i in range(len(data)):\n",
    "        text, annotations = data[i]\n",
    "        doc = nlp(text)\n",
    "        entities = annotations['entities']\n",
    "        if len(entities) != len(doc.ents):\n",
    "            error_data.append(data[i])\n",
    "            print(i, len(error_data))\n",
    "        else:\n",
    "            exit_flag = False\n",
    "            actual_entities = {(start, end, label): label for start, end, label in entities}\n",
    "            predict_entities = {(ent.start_char, ent.end_char, ent.label_): ent.label_ \n",
    "                                for ent in doc.ents}\n",
    "            \n",
    "            for key, _ in actual_entities.items():                \n",
    "                if key not in predict_entities:\n",
    "#                     print(actual_entities, predict_entities, sep='\\n') \n",
    "                    error_data.append(data[i])\n",
    "                    print(i, len(error_data))\n",
    "                    break\n",
    "            if exit_flag: continue\n",
    "            for key, _ in predict_entities.items():\n",
    "                if key not in actual_entities:\n",
    "#                     print(actual_entities, predict_entities)\n",
    "                    error_data.append(data[i])\n",
    "                    print(i, len(error_data))\n",
    "                    break\n",
    "                \n",
    "    return error_data\n",
    "\n",
    "error_data = get_error_data(test_data)"
   ]
  },
  {
   "cell_type": "code",
   "execution_count": 54,
   "id": "73c6d8e7",
   "metadata": {
    "ExecuteTime": {
     "end_time": "2021-08-25T00:25:46.704877Z",
     "start_time": "2021-08-25T00:25:46.701868Z"
    }
   },
   "outputs": [
    {
     "name": "stdout",
     "output_type": "stream",
     "text": [
      "39\n"
     ]
    }
   ],
   "source": [
    "print(len(error_data))"
   ]
  },
  {
   "cell_type": "code",
   "execution_count": 55,
   "id": "7ea50b1a",
   "metadata": {
    "ExecuteTime": {
     "end_time": "2021-08-25T00:25:50.779665Z",
     "start_time": "2021-08-25T00:25:46.708082Z"
    },
    "scrolled": false
   },
   "outputs": [
    {
     "name": "stdout",
     "output_type": "stream",
     "text": [
      "====================================================================================================\n",
      "order parts jc90-01679a , jc90-01680a , jc93-01063c , 6602-003185 quantity of 1 each and ship to my hold for pickup via fedex . . #normal osa met rdt\n"
     ]
    },
    {
     "data": {
      "text/html": [
       "<span class=\"tex2jax_ignore\"><div class=\"entities\" style=\"line-height: 2.5; direction: ltr\">order parts \n",
       "<mark class=\"entity\" style=\"background: #92E0AA; padding: 0.45em 0.6em; margin: 0 0.25em; line-height: 1; border-radius: 0.35em;\">\n",
       "    jc90-01679a\n",
       "    <span style=\"font-size: 0.8em; font-weight: bold; line-height: 1; border-radius: 0.35em; vertical-align: middle; margin-left: 0.5rem\">PART_NUM</span>\n",
       "</mark>\n",
       " , \n",
       "<mark class=\"entity\" style=\"background: #92E0AA; padding: 0.45em 0.6em; margin: 0 0.25em; line-height: 1; border-radius: 0.35em;\">\n",
       "    jc90-01680a\n",
       "    <span style=\"font-size: 0.8em; font-weight: bold; line-height: 1; border-radius: 0.35em; vertical-align: middle; margin-left: 0.5rem\">PART_NUM</span>\n",
       "</mark>\n",
       " , \n",
       "<mark class=\"entity\" style=\"background: #92E0AA; padding: 0.45em 0.6em; margin: 0 0.25em; line-height: 1; border-radius: 0.35em;\">\n",
       "    jc93-01063c\n",
       "    <span style=\"font-size: 0.8em; font-weight: bold; line-height: 1; border-radius: 0.35em; vertical-align: middle; margin-left: 0.5rem\">PART_NUM</span>\n",
       "</mark>\n",
       " , \n",
       "<mark class=\"entity\" style=\"background: #92E0AA; padding: 0.45em 0.6em; margin: 0 0.25em; line-height: 1; border-radius: 0.35em;\">\n",
       "    6602-003185\n",
       "    <span style=\"font-size: 0.8em; font-weight: bold; line-height: 1; border-radius: 0.35em; vertical-align: middle; margin-left: 0.5rem\">PART_NUM</span>\n",
       "</mark>\n",
       " quantity of 1 each and ship to my hold for pickup via fedex . . #normal osa met rdt</div></span>"
      ],
      "text/plain": [
       "<IPython.core.display.HTML object>"
      ]
     },
     "metadata": {},
     "output_type": "display_data"
    },
    {
     "name": "stdout",
     "output_type": "stream",
     "text": [
      "------------------------- acutal entities -------------------------\n",
      "('jc90-01679a', 12, 23, 'PART_NUM')\n",
      "('jc90-01680a', 26, 37, 'PART_NUM')\n",
      "('jc93-01063c', 40, 51, 'PART_NUM')\n",
      "------------------------- predict entities -------------------------\n",
      "('jc90-01679a', 12, 23, 'PART_NUM')\n",
      "('jc90-01680a', 26, 37, 'PART_NUM')\n",
      "('jc93-01063c', 40, 51, 'PART_NUM')\n",
      "('6602-003185', 54, 65, 'PART_NUM')\n",
      "====================================================================================================\n",
      "please send pn933321-855 to 2825route 18south old bridge nj 08857 att aleksandr kamsan\n"
     ]
    },
    {
     "data": {
      "text/html": [
       "<span class=\"tex2jax_ignore\"><div class=\"entities\" style=\"line-height: 2.5; direction: ltr\">please send \n",
       "<mark class=\"entity\" style=\"background: #92E0AA; padding: 0.45em 0.6em; margin: 0 0.25em; line-height: 1; border-radius: 0.35em;\">\n",
       "    pn933321-855\n",
       "    <span style=\"font-size: 0.8em; font-weight: bold; line-height: 1; border-radius: 0.35em; vertical-align: middle; margin-left: 0.5rem\">PART_NUM</span>\n",
       "</mark>\n",
       " to 2825route 18south old bridge nj 08857 att aleksandr kamsan</div></span>"
      ],
      "text/plain": [
       "<IPython.core.display.HTML object>"
      ]
     },
     "metadata": {},
     "output_type": "display_data"
    },
    {
     "name": "stdout",
     "output_type": "stream",
     "text": [
      "------------------------- predict entities -------------------------\n",
      "('pn933321-855', 12, 24, 'PART_NUM')\n",
      "====================================================================================================\n",
      "need to order nib kit and ecu ( jz09-67077 & g1w39-67001 ) ship to san antonio hal\n"
     ]
    },
    {
     "data": {
      "text/html": [
       "<span class=\"tex2jax_ignore\"><div class=\"entities\" style=\"line-height: 2.5; direction: ltr\">need to order nib kit and ecu ( \n",
       "<mark class=\"entity\" style=\"background: #92E0AA; padding: 0.45em 0.6em; margin: 0 0.25em; line-height: 1; border-radius: 0.35em;\">\n",
       "    jz09-67077\n",
       "    <span style=\"font-size: 0.8em; font-weight: bold; line-height: 1; border-radius: 0.35em; vertical-align: middle; margin-left: 0.5rem\">PART_NUM</span>\n",
       "</mark>\n",
       " &amp; \n",
       "<mark class=\"entity\" style=\"background: #92E0AA; padding: 0.45em 0.6em; margin: 0 0.25em; line-height: 1; border-radius: 0.35em;\">\n",
       "    g1w39-67001\n",
       "    <span style=\"font-size: 0.8em; font-weight: bold; line-height: 1; border-radius: 0.35em; vertical-align: middle; margin-left: 0.5rem\">PART_NUM</span>\n",
       "</mark>\n",
       " ) ship to san antonio hal</div></span>"
      ],
      "text/plain": [
       "<IPython.core.display.HTML object>"
      ]
     },
     "metadata": {},
     "output_type": "display_data"
    },
    {
     "name": "stdout",
     "output_type": "stream",
     "text": [
      "------------------------- acutal entities -------------------------\n",
      "('g1w39-67001', 45, 56, 'PART_NUM')\n",
      "------------------------- predict entities -------------------------\n",
      "('jz09-67077', 32, 42, 'PART_NUM')\n",
      "('g1w39-67001', 45, 56, 'PART_NUM')\n",
      "====================================================================================================\n",
      "please clone and transfer the part to the cloned case . . #normal please order jc97-04650a to the baton rouge hal . mike try these site contacts .   haleigh – 225-663-4041 – haleigh_a_winston kayla – 225-663-4031 – kayla_r_naquin\n"
     ]
    },
    {
     "data": {
      "text/html": [
       "<span class=\"tex2jax_ignore\"><div class=\"entities\" style=\"line-height: 2.5; direction: ltr\">please clone and transfer the part to the cloned case . . #normal please order \n",
       "<mark class=\"entity\" style=\"background: #92E0AA; padding: 0.45em 0.6em; margin: 0 0.25em; line-height: 1; border-radius: 0.35em;\">\n",
       "    jc97-04650a\n",
       "    <span style=\"font-size: 0.8em; font-weight: bold; line-height: 1; border-radius: 0.35em; vertical-align: middle; margin-left: 0.5rem\">PART_NUM</span>\n",
       "</mark>\n",
       " to the baton rouge hal . mike try these site contacts .   haleigh \n",
       "<mark class=\"entity\" style=\"background: #92E0AA; padding: 0.45em 0.6em; margin: 0 0.25em; line-height: 1; border-radius: 0.35em;\">\n",
       "    – \n",
       "    <span style=\"font-size: 0.8em; font-weight: bold; line-height: 1; border-radius: 0.35em; vertical-align: middle; margin-left: 0.5rem\">PART_NUM</span>\n",
       "</mark>\n",
       "225-663-4041 \n",
       "<mark class=\"entity\" style=\"background: #92E0AA; padding: 0.45em 0.6em; margin: 0 0.25em; line-height: 1; border-radius: 0.35em;\">\n",
       "    – haleigh_a_winston\n",
       "    <span style=\"font-size: 0.8em; font-weight: bold; line-height: 1; border-radius: 0.35em; vertical-align: middle; margin-left: 0.5rem\">PART_NUM</span>\n",
       "</mark>\n",
       " kayla \n",
       "<mark class=\"entity\" style=\"background: #92E0AA; padding: 0.45em 0.6em; margin: 0 0.25em; line-height: 1; border-radius: 0.35em;\">\n",
       "    – \n",
       "    <span style=\"font-size: 0.8em; font-weight: bold; line-height: 1; border-radius: 0.35em; vertical-align: middle; margin-left: 0.5rem\">PART_NUM</span>\n",
       "</mark>\n",
       "225-663-4031 \n",
       "<mark class=\"entity\" style=\"background: #92E0AA; padding: 0.45em 0.6em; margin: 0 0.25em; line-height: 1; border-radius: 0.35em;\">\n",
       "    – kayla_r_naquin\n",
       "    <span style=\"font-size: 0.8em; font-weight: bold; line-height: 1; border-radius: 0.35em; vertical-align: middle; margin-left: 0.5rem\">PART_NUM</span>\n",
       "</mark>\n",
       "</div></span>"
      ],
      "text/plain": [
       "<IPython.core.display.HTML object>"
      ]
     },
     "metadata": {},
     "output_type": "display_data"
    },
    {
     "name": "stdout",
     "output_type": "stream",
     "text": [
      "------------------------- acutal entities -------------------------\n",
      "('jc97-04650a', 79, 90, 'PART_NUM')\n",
      "------------------------- predict entities -------------------------\n",
      "('jc97-04650a', 79, 90, 'PART_NUM')\n",
      "('–\\xa0', 157, 159, 'PART_NUM')\n",
      "('– haleigh_a_winston', 172, 191, 'PART_NUM')\n",
      "('–\\xa0', 198, 200, 'PART_NUM')\n",
      "('– kayla_r_naquin', 213, 229, 'PART_NUM')\n",
      "====================================================================================================\n",
      "please order parts below: g1w41-67908/ kit-adf whole unit cn598-67018 / separator / pick assy kit g1w39-67952 / kit-assy/feeder tray 3 g1w39-67953 / kit-assy/feeder tray 4 g1w39-67954 / kit-assy/feeder tray 5 please ship to client address below: sm\n"
     ]
    },
    {
     "data": {
      "text/html": [
       "<span class=\"tex2jax_ignore\"><div class=\"entities\" style=\"line-height: 2.5; direction: ltr\">please order parts below: \n",
       "<mark class=\"entity\" style=\"background: #92E0AA; padding: 0.45em 0.6em; margin: 0 0.25em; line-height: 1; border-radius: 0.35em;\">\n",
       "    g1w41-67908/\n",
       "    <span style=\"font-size: 0.8em; font-weight: bold; line-height: 1; border-radius: 0.35em; vertical-align: middle; margin-left: 0.5rem\">PART_NUM</span>\n",
       "</mark>\n",
       " kit-adf whole unit \n",
       "<mark class=\"entity\" style=\"background: #92E0AA; padding: 0.45em 0.6em; margin: 0 0.25em; line-height: 1; border-radius: 0.35em;\">\n",
       "    cn598-67018\n",
       "    <span style=\"font-size: 0.8em; font-weight: bold; line-height: 1; border-radius: 0.35em; vertical-align: middle; margin-left: 0.5rem\">PART_NUM</span>\n",
       "</mark>\n",
       " / separator / pick assy kit \n",
       "<mark class=\"entity\" style=\"background: #92E0AA; padding: 0.45em 0.6em; margin: 0 0.25em; line-height: 1; border-radius: 0.35em;\">\n",
       "    g1w39-67952\n",
       "    <span style=\"font-size: 0.8em; font-weight: bold; line-height: 1; border-radius: 0.35em; vertical-align: middle; margin-left: 0.5rem\">PART_NUM</span>\n",
       "</mark>\n",
       " / kit-assy/feeder tray 3 \n",
       "<mark class=\"entity\" style=\"background: #92E0AA; padding: 0.45em 0.6em; margin: 0 0.25em; line-height: 1; border-radius: 0.35em;\">\n",
       "    g1w39-67953\n",
       "    <span style=\"font-size: 0.8em; font-weight: bold; line-height: 1; border-radius: 0.35em; vertical-align: middle; margin-left: 0.5rem\">PART_NUM</span>\n",
       "</mark>\n",
       " / kit-assy/feeder tray 4 \n",
       "<mark class=\"entity\" style=\"background: #92E0AA; padding: 0.45em 0.6em; margin: 0 0.25em; line-height: 1; border-radius: 0.35em;\">\n",
       "    g1w39-67954\n",
       "    <span style=\"font-size: 0.8em; font-weight: bold; line-height: 1; border-radius: 0.35em; vertical-align: middle; margin-left: 0.5rem\">PART_NUM</span>\n",
       "</mark>\n",
       " / kit-assy/feeder tray 5 please ship to client address below: sm</div></span>"
      ],
      "text/plain": [
       "<IPython.core.display.HTML object>"
      ]
     },
     "metadata": {},
     "output_type": "display_data"
    },
    {
     "name": "stdout",
     "output_type": "stream",
     "text": [
      "------------------------- acutal entities -------------------------\n",
      "('cn598-67018', 58, 69, 'PART_NUM')\n",
      "('g1w39-67952', 98, 109, 'PART_NUM')\n",
      "('g1w39-67953', 135, 146, 'PART_NUM')\n",
      "('g1w39-67954', 172, 183, 'PART_NUM')\n",
      "------------------------- predict entities -------------------------\n",
      "('g1w41-67908/', 26, 38, 'PART_NUM')\n",
      "('cn598-67018', 58, 69, 'PART_NUM')\n",
      "('g1w39-67952', 98, 109, 'PART_NUM')\n",
      "('g1w39-67953', 135, 146, 'PART_NUM')\n",
      "('g1w39-67954', 172, 183, 'PART_NUM')\n",
      "====================================================================================================\n",
      "please clone and order the following to customers location y1g00-6790× . #normal\n"
     ]
    },
    {
     "data": {
      "text/html": [
       "<span class=\"tex2jax_ignore\"><div class=\"entities\" style=\"line-height: 2.5; direction: ltr\">please clone and order the following to customers location \n",
       "<mark class=\"entity\" style=\"background: #92E0AA; padding: 0.45em 0.6em; margin: 0 0.25em; line-height: 1; border-radius: 0.35em;\">\n",
       "    y1g00-6790×\n",
       "    <span style=\"font-size: 0.8em; font-weight: bold; line-height: 1; border-radius: 0.35em; vertical-align: middle; margin-left: 0.5rem\">PART_NUM</span>\n",
       "</mark>\n",
       " . #normal</div></span>"
      ],
      "text/plain": [
       "<IPython.core.display.HTML object>"
      ]
     },
     "metadata": {},
     "output_type": "display_data"
    },
    {
     "name": "stdout",
     "output_type": "stream",
     "text": [
      "------------------------- predict entities -------------------------\n",
      "('y1g00-6790×', 59, 70, 'PART_NUM')\n",
      "====================================================================================================\n",
      "order & ship 901247-855 direct to tech ' s home office via nbd delivery to the following address: ( make sure attn: david whiteman ( 720-256-4129 ) ) hp inc . c/o david whiteman ( c-720-256-4129 ) 956 n . wheeling st . aurora , co . 80011-6555\n"
     ]
    },
    {
     "data": {
      "text/html": [
       "<span class=\"tex2jax_ignore\"><div class=\"entities\" style=\"line-height: 2.5; direction: ltr\">order &amp; ship \n",
       "<mark class=\"entity\" style=\"background: #92E0AA; padding: 0.45em 0.6em; margin: 0 0.25em; line-height: 1; border-radius: 0.35em;\">\n",
       "    901247-855\n",
       "    <span style=\"font-size: 0.8em; font-weight: bold; line-height: 1; border-radius: 0.35em; vertical-align: middle; margin-left: 0.5rem\">PART_NUM</span>\n",
       "</mark>\n",
       " direct to tech ' s home office via nbd delivery to the following address: ( make sure attn: david whiteman ( 720-256-4129 ) ) hp inc . c/o david whiteman ( c-720-256-4129 ) 956 n . wheeling st . aurora , co . \n",
       "<mark class=\"entity\" style=\"background: #92E0AA; padding: 0.45em 0.6em; margin: 0 0.25em; line-height: 1; border-radius: 0.35em;\">\n",
       "    80011-6555\n",
       "    <span style=\"font-size: 0.8em; font-weight: bold; line-height: 1; border-radius: 0.35em; vertical-align: middle; margin-left: 0.5rem\">PART_NUM</span>\n",
       "</mark>\n",
       "</div></span>"
      ],
      "text/plain": [
       "<IPython.core.display.HTML object>"
      ]
     },
     "metadata": {},
     "output_type": "display_data"
    },
    {
     "name": "stdout",
     "output_type": "stream",
     "text": [
      "------------------------- acutal entities -------------------------\n",
      "('901247-855', 13, 23, 'PART_NUM')\n",
      "------------------------- predict entities -------------------------\n",
      "('901247-855', 13, 23, 'PART_NUM')\n",
      "('80011-6555', 233, 243, 'PART_NUM')\n",
      "====================================================================================================\n",
      "rm2-6454-ooocn , 1 , c2awes20 ce410xc , 1 , c2awes20 . #normal\n"
     ]
    },
    {
     "data": {
      "text/html": [
       "<span class=\"tex2jax_ignore\"><div class=\"entities\" style=\"line-height: 2.5; direction: ltr\">\n",
       "<mark class=\"entity\" style=\"background: #92E0AA; padding: 0.45em 0.6em; margin: 0 0.25em; line-height: 1; border-radius: 0.35em;\">\n",
       "    rm2-6454-ooocn\n",
       "    <span style=\"font-size: 0.8em; font-weight: bold; line-height: 1; border-radius: 0.35em; vertical-align: middle; margin-left: 0.5rem\">PART_NUM</span>\n",
       "</mark>\n",
       " , 1 , c2awes20 ce410xc , 1 , c2awes20 . #normal</div></span>"
      ],
      "text/plain": [
       "<IPython.core.display.HTML object>"
      ]
     },
     "metadata": {},
     "output_type": "display_data"
    },
    {
     "name": "stdout",
     "output_type": "stream",
     "text": [
      "------------------------- predict entities -------------------------\n",
      "('rm2-6454-ooocn', 0, 14, 'PART_NUM')\n",
      "====================================================================================================\n",
      "please clone tranfered parts and add , order part m07092-001 qty 1 to customer site for tuesday morning 🌄 . #normal schedule for tomorrow morning vinny will like me to service this pc next week i know the issue\n"
     ]
    },
    {
     "data": {
      "text/html": [
       "<span class=\"tex2jax_ignore\"><div class=\"entities\" style=\"line-height: 2.5; direction: ltr\">please clone tranfered parts and add , order part \n",
       "<mark class=\"entity\" style=\"background: #92E0AA; padding: 0.45em 0.6em; margin: 0 0.25em; line-height: 1; border-radius: 0.35em;\">\n",
       "    m07092-001\n",
       "    <span style=\"font-size: 0.8em; font-weight: bold; line-height: 1; border-radius: 0.35em; vertical-align: middle; margin-left: 0.5rem\">PART_NUM</span>\n",
       "</mark>\n",
       " qty 1 to customer site for tuesday morning \n",
       "<mark class=\"entity\" style=\"background: #92E0AA; padding: 0.45em 0.6em; margin: 0 0.25em; line-height: 1; border-radius: 0.35em;\">\n",
       "    🌄 .\n",
       "    <span style=\"font-size: 0.8em; font-weight: bold; line-height: 1; border-radius: 0.35em; vertical-align: middle; margin-left: 0.5rem\">PART_NUM</span>\n",
       "</mark>\n",
       " #normal schedule for tomorrow morning vinny will like me to service this pc next week i know the issue</div></span>"
      ],
      "text/plain": [
       "<IPython.core.display.HTML object>"
      ]
     },
     "metadata": {},
     "output_type": "display_data"
    },
    {
     "name": "stdout",
     "output_type": "stream",
     "text": [
      "------------------------- acutal entities -------------------------\n",
      "('m07092-001', 50, 60, 'PART_NUM')\n",
      "------------------------- predict entities -------------------------\n",
      "('m07092-001', 50, 60, 'PART_NUM')\n",
      "('🌄 .', 104, 107, 'PART_NUM')\n",
      "====================================================================================================\n",
      "please order part numbers lex- 40x9135 lexmark mx511de fuser maintenance kit lex-50f0z00 lexmark 50f0z00 return pgm imaging unit each qty . 1 each and send to my fedex hold for pick up for next day service . thanks\n"
     ]
    },
    {
     "data": {
      "text/html": [
       "<span class=\"tex2jax_ignore\"><div class=\"entities\" style=\"line-height: 2.5; direction: ltr\">please order part numbers lex- \n",
       "<mark class=\"entity\" style=\"background: #92E0AA; padding: 0.45em 0.6em; margin: 0 0.25em; line-height: 1; border-radius: 0.35em;\">\n",
       "    40x9135\n",
       "    <span style=\"font-size: 0.8em; font-weight: bold; line-height: 1; border-radius: 0.35em; vertical-align: middle; margin-left: 0.5rem\">PART_NUM</span>\n",
       "</mark>\n",
       " lexmark mx511de fuser maintenance kit \n",
       "<mark class=\"entity\" style=\"background: #92E0AA; padding: 0.45em 0.6em; margin: 0 0.25em; line-height: 1; border-radius: 0.35em;\">\n",
       "    lex-50f0z00\n",
       "    <span style=\"font-size: 0.8em; font-weight: bold; line-height: 1; border-radius: 0.35em; vertical-align: middle; margin-left: 0.5rem\">PART_NUM</span>\n",
       "</mark>\n",
       " lexmark 50f0z00 return pgm imaging unit each qty . 1 each and send to my fedex hold for pick up for next day service . thanks</div></span>"
      ],
      "text/plain": [
       "<IPython.core.display.HTML object>"
      ]
     },
     "metadata": {},
     "output_type": "display_data"
    },
    {
     "name": "stdout",
     "output_type": "stream",
     "text": [
      "------------------------- acutal entities -------------------------\n",
      "('lex-50f0z00', 77, 88, 'PART_NUM')\n",
      "------------------------- predict entities -------------------------\n",
      "('40x9135', 31, 38, 'PART_NUM')\n",
      "('lex-50f0z00', 77, 88, 'PART_NUM')\n",
      "====================================================================================================\n",
      "please order parts and ship them to my hfpu . b5l47 67903 b5l46 67904 . please order parts and ship them to my hfpu . 320 snow drive . asap b5l46 67909 7/8/21 ce is waiting to hear from ip network team . 6/30/21 ce is waiting to hear from ip network team . \n"
     ]
    },
    {
     "data": {
      "text/html": [
       "<span class=\"tex2jax_ignore\"><div class=\"entities\" style=\"line-height: 2.5; direction: ltr\">please order parts and ship them to my hfpu . \n",
       "<mark class=\"entity\" style=\"background: #92E0AA; padding: 0.45em 0.6em; margin: 0 0.25em; line-height: 1; border-radius: 0.35em;\">\n",
       "    b5l47 67903 b5l46\n",
       "    <span style=\"font-size: 0.8em; font-weight: bold; line-height: 1; border-radius: 0.35em; vertical-align: middle; margin-left: 0.5rem\">PART_NUM</span>\n",
       "</mark>\n",
       " 67904 . please order parts and ship them to my hfpu . 320 snow drive . asap b5l46 67909 7/8/21 ce is waiting to hear from ip network team . 6/30/21 ce is waiting to hear from ip network team . </div></span>"
      ],
      "text/plain": [
       "<IPython.core.display.HTML object>"
      ]
     },
     "metadata": {},
     "output_type": "display_data"
    },
    {
     "name": "stdout",
     "output_type": "stream",
     "text": [
      "------------------------- predict entities -------------------------\n",
      "('b5l47 67903 b5l46', 46, 63, 'PART_NUM')\n",
      "====================================================================================================\n",
      "order lex-40x8800\n"
     ]
    },
    {
     "data": {
      "text/html": [
       "<span class=\"tex2jax_ignore\"><div class=\"entities\" style=\"line-height: 2.5; direction: ltr\">\n",
       "<mark class=\"entity\" style=\"background: #92E0AA; padding: 0.45em 0.6em; margin: 0 0.25em; line-height: 1; border-radius: 0.35em;\">\n",
       "    order lex-40x8800\n",
       "    <span style=\"font-size: 0.8em; font-weight: bold; line-height: 1; border-radius: 0.35em; vertical-align: middle; margin-left: 0.5rem\">PART_NUM</span>\n",
       "</mark>\n",
       "</div></span>"
      ],
      "text/plain": [
       "<IPython.core.display.HTML object>"
      ]
     },
     "metadata": {},
     "output_type": "display_data"
    },
    {
     "name": "stdout",
     "output_type": "stream",
     "text": [
      "------------------------- acutal entities -------------------------\n",
      "('lex-40x8800', 6, 17, 'PART_NUM')\n",
      "------------------------- predict entities -------------------------\n",
      "('order lex-40x8800', 0, 17, 'PART_NUM')\n",
      "====================================================================================================\n",
      "order lex-40x8800\n"
     ]
    },
    {
     "data": {
      "text/html": [
       "<span class=\"tex2jax_ignore\"><div class=\"entities\" style=\"line-height: 2.5; direction: ltr\">\n",
       "<mark class=\"entity\" style=\"background: #92E0AA; padding: 0.45em 0.6em; margin: 0 0.25em; line-height: 1; border-radius: 0.35em;\">\n",
       "    order lex-40x8800\n",
       "    <span style=\"font-size: 0.8em; font-weight: bold; line-height: 1; border-radius: 0.35em; vertical-align: middle; margin-left: 0.5rem\">PART_NUM</span>\n",
       "</mark>\n",
       "</div></span>"
      ],
      "text/plain": [
       "<IPython.core.display.HTML object>"
      ]
     },
     "metadata": {},
     "output_type": "display_data"
    },
    {
     "name": "stdout",
     "output_type": "stream",
     "text": [
      "------------------------- acutal entities -------------------------\n",
      "('lex-40x8800', 6, 17, 'PART_NUM')\n",
      "------------------------- predict entities -------------------------\n",
      "('order lex-40x8800', 0, 17, 'PART_NUM')\n",
      "====================================================================================================\n",
      "* po-119582253 - 1 and po-119582253 - 2 were not delivered to customer site/ customer did not receive parts . * please order the following parts and have them shipped nbd to ce hold for pickup @ 719 n hammonds ferry rd . linthicum heights , md 21090 w9004-67\n"
     ]
    },
    {
     "data": {
      "text/html": [
       "<span class=\"tex2jax_ignore\"><div class=\"entities\" style=\"line-height: 2.5; direction: ltr\">* po-119582253 - 1 and po-119582253 - 2 were not delivered to customer site/ customer did not receive parts . * please order the following parts and have them shipped nbd to ce hold for pickup @ 719 n hammonds ferry rd . linthicum heights , md 21090 \n",
       "<mark class=\"entity\" style=\"background: #92E0AA; padding: 0.45em 0.6em; margin: 0 0.25em; line-height: 1; border-radius: 0.35em;\">\n",
       "    w9004-67\n",
       "    <span style=\"font-size: 0.8em; font-weight: bold; line-height: 1; border-radius: 0.35em; vertical-align: middle; margin-left: 0.5rem\">PART_NUM</span>\n",
       "</mark>\n",
       "</div></span>"
      ],
      "text/plain": [
       "<IPython.core.display.HTML object>"
      ]
     },
     "metadata": {},
     "output_type": "display_data"
    },
    {
     "name": "stdout",
     "output_type": "stream",
     "text": [
      "------------------------- predict entities -------------------------\n",
      "('w9004-67', 250, 258, 'PART_NUM')\n",
      "====================================================================================================\n",
      "can you please create a follow-up and order rm2-6321 and cf064a . \n"
     ]
    },
    {
     "data": {
      "text/html": [
       "<span class=\"tex2jax_ignore\"><div class=\"entities\" style=\"line-height: 2.5; direction: ltr\">can you please create a follow-up and order \n",
       "<mark class=\"entity\" style=\"background: #92E0AA; padding: 0.45em 0.6em; margin: 0 0.25em; line-height: 1; border-radius: 0.35em;\">\n",
       "    rm2-6321\n",
       "    <span style=\"font-size: 0.8em; font-weight: bold; line-height: 1; border-radius: 0.35em; vertical-align: middle; margin-left: 0.5rem\">PART_NUM</span>\n",
       "</mark>\n",
       " and cf064a . </div></span>"
      ],
      "text/plain": [
       "<IPython.core.display.HTML object>"
      ]
     },
     "metadata": {},
     "output_type": "display_data"
    },
    {
     "name": "stdout",
     "output_type": "stream",
     "text": [
      "------------------------- predict entities -------------------------\n",
      "('rm2-6321', 44, 52, 'PART_NUM')\n",
      "====================================================================================================\n",
      "please order part# j8j93–67901 nbd to address on work order\n"
     ]
    },
    {
     "data": {
      "text/html": [
       "<span class=\"tex2jax_ignore\"><div class=\"entities\" style=\"line-height: 2.5; direction: ltr\">please order part# \n",
       "<mark class=\"entity\" style=\"background: #92E0AA; padding: 0.45em 0.6em; margin: 0 0.25em; line-height: 1; border-radius: 0.35em;\">\n",
       "    j8j93–67901 nbd to\n",
       "    <span style=\"font-size: 0.8em; font-weight: bold; line-height: 1; border-radius: 0.35em; vertical-align: middle; margin-left: 0.5rem\">PART_NUM</span>\n",
       "</mark>\n",
       " address on work order</div></span>"
      ],
      "text/plain": [
       "<IPython.core.display.HTML object>"
      ]
     },
     "metadata": {},
     "output_type": "display_data"
    },
    {
     "name": "stdout",
     "output_type": "stream",
     "text": [
      "------------------------- predict entities -------------------------\n",
      "('j8j93–67901 nbd to', 19, 37, 'PART_NUM')\n",
      "====================================================================================================\n",
      "please create a revisit ( -4 ) . please order the following parts to 840 lakeside drive , mobile , al 36693: pn j8a10-60108 formatter to scb hdmi cable pn j8a10-60110 formatter to scb power cable pn rm2-8421-000cn lvps pn rm3-7031- . #normal 07/7/2021 7:31 pm cst replacing the imaging scanner ( whole u nit ) and then the adf ( whole unit ) did not fix the 30 . 01 . 41 error . tech assist level 2 aaron jimenez recommended replacing the formatter to scb hdmi cable ( j8a10-60108 ) , and formatter t\n"
     ]
    },
    {
     "data": {
      "text/html": [
       "<span class=\"tex2jax_ignore\"><div class=\"entities\" style=\"line-height: 2.5; direction: ltr\">please create a revisit ( -4 ) . please order the following parts to 840 lakeside drive , mobile , al 36693: pn \n",
       "<mark class=\"entity\" style=\"background: #92E0AA; padding: 0.45em 0.6em; margin: 0 0.25em; line-height: 1; border-radius: 0.35em;\">\n",
       "    j8a10-60108\n",
       "    <span style=\"font-size: 0.8em; font-weight: bold; line-height: 1; border-radius: 0.35em; vertical-align: middle; margin-left: 0.5rem\">PART_NUM</span>\n",
       "</mark>\n",
       " formatter to scb hdmi cable pn \n",
       "<mark class=\"entity\" style=\"background: #92E0AA; padding: 0.45em 0.6em; margin: 0 0.25em; line-height: 1; border-radius: 0.35em;\">\n",
       "    j8a10-60110\n",
       "    <span style=\"font-size: 0.8em; font-weight: bold; line-height: 1; border-radius: 0.35em; vertical-align: middle; margin-left: 0.5rem\">PART_NUM</span>\n",
       "</mark>\n",
       " formatter to scb power cable pn \n",
       "<mark class=\"entity\" style=\"background: #92E0AA; padding: 0.45em 0.6em; margin: 0 0.25em; line-height: 1; border-radius: 0.35em;\">\n",
       "    rm2-8421-000cn\n",
       "    <span style=\"font-size: 0.8em; font-weight: bold; line-height: 1; border-radius: 0.35em; vertical-align: middle; margin-left: 0.5rem\">PART_NUM</span>\n",
       "</mark>\n",
       " lvps pn \n",
       "<mark class=\"entity\" style=\"background: #92E0AA; padding: 0.45em 0.6em; margin: 0 0.25em; line-height: 1; border-radius: 0.35em;\">\n",
       "    rm3-7031- .\n",
       "    <span style=\"font-size: 0.8em; font-weight: bold; line-height: 1; border-radius: 0.35em; vertical-align: middle; margin-left: 0.5rem\">PART_NUM</span>\n",
       "</mark>\n",
       " #normal 07/7/2021 7:31 pm cst replacing the imaging scanner ( whole u nit ) and then the adf ( whole unit ) did not fix the 30 . 01 . 41 error . tech assist level 2 aaron jimenez recommended replacing the formatter to scb hdmi cable ( \n",
       "<mark class=\"entity\" style=\"background: #92E0AA; padding: 0.45em 0.6em; margin: 0 0.25em; line-height: 1; border-radius: 0.35em;\">\n",
       "    j8a10-60108\n",
       "    <span style=\"font-size: 0.8em; font-weight: bold; line-height: 1; border-radius: 0.35em; vertical-align: middle; margin-left: 0.5rem\">PART_NUM</span>\n",
       "</mark>\n",
       " ) , and formatter t</div></span>"
      ],
      "text/plain": [
       "<IPython.core.display.HTML object>"
      ]
     },
     "metadata": {},
     "output_type": "display_data"
    },
    {
     "name": "stdout",
     "output_type": "stream",
     "text": [
      "------------------------- acutal entities -------------------------\n",
      "('j8a10-60108', 112, 123, 'PART_NUM')\n",
      "('j8a10-60110', 155, 166, 'PART_NUM')\n",
      "('rm2-8421-000cn', 199, 213, 'PART_NUM')\n",
      "('j8a10-60108', 469, 480, 'PART_NUM')\n",
      "------------------------- predict entities -------------------------\n",
      "('j8a10-60108', 112, 123, 'PART_NUM')\n",
      "('j8a10-60110', 155, 166, 'PART_NUM')\n",
      "('rm2-8421-000cn', 199, 213, 'PART_NUM')\n",
      "('rm3-7031- .', 222, 233, 'PART_NUM')\n",
      "('j8a10-60108', 469, 480, 'PART_NUM')\n",
      "====================================================================================================\n",
      "order & ship 923768-601 , 923776-001 , 938114-001 , 938113-001 , and 924448-001-001 via fedex to hal# 83004426 for hp ce pick up . hal address: 13700 e . colfax ave . aurora , co . 80011\n"
     ]
    },
    {
     "data": {
      "text/html": [
       "<span class=\"tex2jax_ignore\"><div class=\"entities\" style=\"line-height: 2.5; direction: ltr\">order &amp; ship \n",
       "<mark class=\"entity\" style=\"background: #92E0AA; padding: 0.45em 0.6em; margin: 0 0.25em; line-height: 1; border-radius: 0.35em;\">\n",
       "    923768-601\n",
       "    <span style=\"font-size: 0.8em; font-weight: bold; line-height: 1; border-radius: 0.35em; vertical-align: middle; margin-left: 0.5rem\">PART_NUM</span>\n",
       "</mark>\n",
       " , \n",
       "<mark class=\"entity\" style=\"background: #92E0AA; padding: 0.45em 0.6em; margin: 0 0.25em; line-height: 1; border-radius: 0.35em;\">\n",
       "    923776-001\n",
       "    <span style=\"font-size: 0.8em; font-weight: bold; line-height: 1; border-radius: 0.35em; vertical-align: middle; margin-left: 0.5rem\">PART_NUM</span>\n",
       "</mark>\n",
       " , \n",
       "<mark class=\"entity\" style=\"background: #92E0AA; padding: 0.45em 0.6em; margin: 0 0.25em; line-height: 1; border-radius: 0.35em;\">\n",
       "    938114-001\n",
       "    <span style=\"font-size: 0.8em; font-weight: bold; line-height: 1; border-radius: 0.35em; vertical-align: middle; margin-left: 0.5rem\">PART_NUM</span>\n",
       "</mark>\n",
       " , \n",
       "<mark class=\"entity\" style=\"background: #92E0AA; padding: 0.45em 0.6em; margin: 0 0.25em; line-height: 1; border-radius: 0.35em;\">\n",
       "    938113-001\n",
       "    <span style=\"font-size: 0.8em; font-weight: bold; line-height: 1; border-radius: 0.35em; vertical-align: middle; margin-left: 0.5rem\">PART_NUM</span>\n",
       "</mark>\n",
       " , and \n",
       "<mark class=\"entity\" style=\"background: #92E0AA; padding: 0.45em 0.6em; margin: 0 0.25em; line-height: 1; border-radius: 0.35em;\">\n",
       "    924448-001\n",
       "    <span style=\"font-size: 0.8em; font-weight: bold; line-height: 1; border-radius: 0.35em; vertical-align: middle; margin-left: 0.5rem\">PART_NUM</span>\n",
       "</mark>\n",
       "-001 via fedex to hal# 83004426 for hp ce pick up . hal address: 13700 e . colfax ave . aurora , co . 80011</div></span>"
      ],
      "text/plain": [
       "<IPython.core.display.HTML object>"
      ]
     },
     "metadata": {},
     "output_type": "display_data"
    },
    {
     "name": "stdout",
     "output_type": "stream",
     "text": [
      "------------------------- acutal entities -------------------------\n",
      "('923768-601', 13, 23, 'PART_NUM')\n",
      "('923776-001', 26, 36, 'PART_NUM')\n",
      "('938114-001', 39, 49, 'PART_NUM')\n",
      "('938113-001', 52, 62, 'PART_NUM')\n",
      "------------------------- predict entities -------------------------\n",
      "('923768-601', 13, 23, 'PART_NUM')\n",
      "('923776-001', 26, 36, 'PART_NUM')\n",
      "('938114-001', 39, 49, 'PART_NUM')\n",
      "('938113-001', 52, 62, 'PART_NUM')\n",
      "('924448-001', 69, 79, 'PART_NUM')\n",
      "====================================================================================================\n",
      "please order formatter/f2a68-67915 , emmc/5851-6436 . please ship to my default fedex-hfpu , 1488 w pipeline rd suite 200 , hurst , tx 76053 , attn: hp-ce ken vester . \n"
     ]
    },
    {
     "data": {
      "text/html": [
       "<span class=\"tex2jax_ignore\"><div class=\"entities\" style=\"line-height: 2.5; direction: ltr\">please order formatter/f2a68-67915 , \n",
       "<mark class=\"entity\" style=\"background: #92E0AA; padding: 0.45em 0.6em; margin: 0 0.25em; line-height: 1; border-radius: 0.35em;\">\n",
       "    emmc/5851-6436\n",
       "    <span style=\"font-size: 0.8em; font-weight: bold; line-height: 1; border-radius: 0.35em; vertical-align: middle; margin-left: 0.5rem\">PART_NUM</span>\n",
       "</mark>\n",
       " . please ship to my default fedex-hfpu , 1488 w pipeline rd suite 200 , hurst , tx 76053 , attn: hp-ce ken vester . </div></span>"
      ],
      "text/plain": [
       "<IPython.core.display.HTML object>"
      ]
     },
     "metadata": {},
     "output_type": "display_data"
    },
    {
     "name": "stdout",
     "output_type": "stream",
     "text": [
      "------------------------- predict entities -------------------------\n",
      "('emmc/5851-6436', 37, 51, 'PART_NUM')\n",
      "====================================================================================================\n",
      "please order lcd cable l32713-001 and backlight cable l3291-001 . #normal 7/15 please order lcd cable l32713-001 and backlight cable l3291-001 replaced display and system board but back light is still dim , verified parts and issue with support , signed for jn kp 7/14 parts have not shipped per fedex\n"
     ]
    },
    {
     "data": {
      "text/html": [
       "<span class=\"tex2jax_ignore\"><div class=\"entities\" style=\"line-height: 2.5; direction: ltr\">please order lcd cable \n",
       "<mark class=\"entity\" style=\"background: #92E0AA; padding: 0.45em 0.6em; margin: 0 0.25em; line-height: 1; border-radius: 0.35em;\">\n",
       "    l32713-001\n",
       "    <span style=\"font-size: 0.8em; font-weight: bold; line-height: 1; border-radius: 0.35em; vertical-align: middle; margin-left: 0.5rem\">PART_NUM</span>\n",
       "</mark>\n",
       " and backlight cable \n",
       "<mark class=\"entity\" style=\"background: #92E0AA; padding: 0.45em 0.6em; margin: 0 0.25em; line-height: 1; border-radius: 0.35em;\">\n",
       "    l3291-001\n",
       "    <span style=\"font-size: 0.8em; font-weight: bold; line-height: 1; border-radius: 0.35em; vertical-align: middle; margin-left: 0.5rem\">PART_NUM</span>\n",
       "</mark>\n",
       " . #normal 7/15 please order lcd cable \n",
       "<mark class=\"entity\" style=\"background: #92E0AA; padding: 0.45em 0.6em; margin: 0 0.25em; line-height: 1; border-radius: 0.35em;\">\n",
       "    l32713-001\n",
       "    <span style=\"font-size: 0.8em; font-weight: bold; line-height: 1; border-radius: 0.35em; vertical-align: middle; margin-left: 0.5rem\">PART_NUM</span>\n",
       "</mark>\n",
       " and backlight cable \n",
       "<mark class=\"entity\" style=\"background: #92E0AA; padding: 0.45em 0.6em; margin: 0 0.25em; line-height: 1; border-radius: 0.35em;\">\n",
       "    l3291-001\n",
       "    <span style=\"font-size: 0.8em; font-weight: bold; line-height: 1; border-radius: 0.35em; vertical-align: middle; margin-left: 0.5rem\">PART_NUM</span>\n",
       "</mark>\n",
       " replaced display and system board but back light is still dim , verified parts and issue with support , signed for jn kp 7/14 parts have not shipped per fedex</div></span>"
      ],
      "text/plain": [
       "<IPython.core.display.HTML object>"
      ]
     },
     "metadata": {},
     "output_type": "display_data"
    },
    {
     "name": "stdout",
     "output_type": "stream",
     "text": [
      "------------------------- acutal entities -------------------------\n",
      "('l32713-001', 23, 33, 'PART_NUM')\n",
      "('l32713-001', 102, 112, 'PART_NUM')\n",
      "------------------------- predict entities -------------------------\n",
      "('l32713-001', 23, 33, 'PART_NUM')\n",
      "('l3291-001', 54, 63, 'PART_NUM')\n",
      "('l32713-001', 102, 112, 'PART_NUM')\n",
      "('l3291-001', 133, 142, 'PART_NUM')\n",
      "====================================================================================================\n",
      "please clone . room: f4535-surf permit\n"
     ]
    },
    {
     "data": {
      "text/html": [
       "<span class=\"tex2jax_ignore\"><div class=\"entities\" style=\"line-height: 2.5; direction: ltr\">please clone . room: \n",
       "<mark class=\"entity\" style=\"background: #92E0AA; padding: 0.45em 0.6em; margin: 0 0.25em; line-height: 1; border-radius: 0.35em;\">\n",
       "    f4535-surf\n",
       "    <span style=\"font-size: 0.8em; font-weight: bold; line-height: 1; border-radius: 0.35em; vertical-align: middle; margin-left: 0.5rem\">PART_NUM</span>\n",
       "</mark>\n",
       " permit</div></span>"
      ],
      "text/plain": [
       "<IPython.core.display.HTML object>"
      ]
     },
     "metadata": {},
     "output_type": "display_data"
    },
    {
     "name": "stdout",
     "output_type": "stream",
     "text": [
      "------------------------- predict entities -------------------------\n",
      "('f4535-surf', 21, 31, 'PART_NUM')\n",
      "====================================================================================================\n",
      "please create follow up for tuesday and order parts to the san jose hal   jc39-02584a wire harness-hdmi angle ; tiger7 jc39-02567a cbf harness-lan if cable 580 , b 5851-6712 5000gb secure high-performance hard ( external-formatter disk ) . . #normal 1\n"
     ]
    },
    {
     "data": {
      "text/html": [
       "<span class=\"tex2jax_ignore\"><div class=\"entities\" style=\"line-height: 2.5; direction: ltr\">please create follow up for tuesday and order parts to the san jose hal   \n",
       "<mark class=\"entity\" style=\"background: #92E0AA; padding: 0.45em 0.6em; margin: 0 0.25em; line-height: 1; border-radius: 0.35em;\">\n",
       "    jc39-02584a\n",
       "    <span style=\"font-size: 0.8em; font-weight: bold; line-height: 1; border-radius: 0.35em; vertical-align: middle; margin-left: 0.5rem\">PART_NUM</span>\n",
       "</mark>\n",
       " wire harness-hdmi angle ; tiger7 \n",
       "<mark class=\"entity\" style=\"background: #92E0AA; padding: 0.45em 0.6em; margin: 0 0.25em; line-height: 1; border-radius: 0.35em;\">\n",
       "    jc39-02567a\n",
       "    <span style=\"font-size: 0.8em; font-weight: bold; line-height: 1; border-radius: 0.35em; vertical-align: middle; margin-left: 0.5rem\">PART_NUM</span>\n",
       "</mark>\n",
       " cbf harness-lan if cable 580 , \n",
       "<mark class=\"entity\" style=\"background: #92E0AA; padding: 0.45em 0.6em; margin: 0 0.25em; line-height: 1; border-radius: 0.35em;\">\n",
       "    b 5851-6712\n",
       "    <span style=\"font-size: 0.8em; font-weight: bold; line-height: 1; border-radius: 0.35em; vertical-align: middle; margin-left: 0.5rem\">PART_NUM</span>\n",
       "</mark>\n",
       " 5000gb secure high-performance hard ( external-formatter disk ) . . #normal 1</div></span>"
      ],
      "text/plain": [
       "<IPython.core.display.HTML object>"
      ]
     },
     "metadata": {},
     "output_type": "display_data"
    },
    {
     "name": "stdout",
     "output_type": "stream",
     "text": [
      "------------------------- acutal entities -------------------------\n",
      "('jc39-02584a', 74, 85, 'PART_NUM')\n",
      "('jc39-02567a', 119, 130, 'PART_NUM')\n",
      "('5851-6712', 164, 173, 'PART_NUM')\n",
      "------------------------- predict entities -------------------------\n",
      "('jc39-02584a', 74, 85, 'PART_NUM')\n",
      "('jc39-02567a', 119, 130, 'PART_NUM')\n",
      "('b 5851-6712', 162, 173, 'PART_NUM')\n",
      "====================================================================================================\n",
      "please create follow up for tuesday and order parts to the san jose hal   jc39-02584a wire harness-hdmi angle ; tiger7 jc39-02567a cbf harness-lan if cable 580 , b 5851-6712 5000gb secure high-performance hard ( external-formatter disk ) . . #normal 1\n"
     ]
    },
    {
     "data": {
      "text/html": [
       "<span class=\"tex2jax_ignore\"><div class=\"entities\" style=\"line-height: 2.5; direction: ltr\">please create follow up for tuesday and order parts to the san jose hal   \n",
       "<mark class=\"entity\" style=\"background: #92E0AA; padding: 0.45em 0.6em; margin: 0 0.25em; line-height: 1; border-radius: 0.35em;\">\n",
       "    jc39-02584a\n",
       "    <span style=\"font-size: 0.8em; font-weight: bold; line-height: 1; border-radius: 0.35em; vertical-align: middle; margin-left: 0.5rem\">PART_NUM</span>\n",
       "</mark>\n",
       " wire harness-hdmi angle ; tiger7 \n",
       "<mark class=\"entity\" style=\"background: #92E0AA; padding: 0.45em 0.6em; margin: 0 0.25em; line-height: 1; border-radius: 0.35em;\">\n",
       "    jc39-02567a\n",
       "    <span style=\"font-size: 0.8em; font-weight: bold; line-height: 1; border-radius: 0.35em; vertical-align: middle; margin-left: 0.5rem\">PART_NUM</span>\n",
       "</mark>\n",
       " cbf harness-lan if cable 580 , \n",
       "<mark class=\"entity\" style=\"background: #92E0AA; padding: 0.45em 0.6em; margin: 0 0.25em; line-height: 1; border-radius: 0.35em;\">\n",
       "    b 5851-6712\n",
       "    <span style=\"font-size: 0.8em; font-weight: bold; line-height: 1; border-radius: 0.35em; vertical-align: middle; margin-left: 0.5rem\">PART_NUM</span>\n",
       "</mark>\n",
       " 5000gb secure high-performance hard ( external-formatter disk ) . . #normal 1</div></span>"
      ],
      "text/plain": [
       "<IPython.core.display.HTML object>"
      ]
     },
     "metadata": {},
     "output_type": "display_data"
    },
    {
     "name": "stdout",
     "output_type": "stream",
     "text": [
      "------------------------- acutal entities -------------------------\n",
      "('jc39-02584a', 74, 85, 'PART_NUM')\n",
      "('jc39-02567a', 119, 130, 'PART_NUM')\n",
      "('5851-6712', 164, 173, 'PART_NUM')\n",
      "------------------------- predict entities -------------------------\n",
      "('jc39-02584a', 74, 85, 'PART_NUM')\n",
      "('jc39-02567a', 119, 130, 'PART_NUM')\n",
      "('b 5851-6712', 162, 173, 'PART_NUM')\n",
      "====================================================================================================\n",
      "1- 1702nk0un0 ( mk-6325 maintenance kit ) shipping address: 364 vance avenue , samoa , ca 95564\n"
     ]
    },
    {
     "data": {
      "text/html": [
       "<span class=\"tex2jax_ignore\"><div class=\"entities\" style=\"line-height: 2.5; direction: ltr\">1- 1702nk0un0 ( \n",
       "<mark class=\"entity\" style=\"background: #92E0AA; padding: 0.45em 0.6em; margin: 0 0.25em; line-height: 1; border-radius: 0.35em;\">\n",
       "    mk-6325\n",
       "    <span style=\"font-size: 0.8em; font-weight: bold; line-height: 1; border-radius: 0.35em; vertical-align: middle; margin-left: 0.5rem\">PART_NUM</span>\n",
       "</mark>\n",
       " maintenance kit ) shipping address: 364 vance avenue , samoa , ca 95564</div></span>"
      ],
      "text/plain": [
       "<IPython.core.display.HTML object>"
      ]
     },
     "metadata": {},
     "output_type": "display_data"
    },
    {
     "name": "stdout",
     "output_type": "stream",
     "text": [
      "------------------------- predict entities -------------------------\n",
      "('mk-6325', 16, 23, 'PART_NUM')\n",
      "====================================================================================================\n",
      "please create revisit and order jc93-01117b transfer-ptb ; sl-k7600 jc96-11643a cartridge deve ; diamondk7600 , fru , 1430 jc44-00241b hvps tiger k7600 , 24v , 21 . 6v , 2 send to customer address . #normal\n"
     ]
    },
    {
     "data": {
      "text/html": [
       "<span class=\"tex2jax_ignore\"><div class=\"entities\" style=\"line-height: 2.5; direction: ltr\">please create revisit and order \n",
       "<mark class=\"entity\" style=\"background: #92E0AA; padding: 0.45em 0.6em; margin: 0 0.25em; line-height: 1; border-radius: 0.35em;\">\n",
       "    jc93-01117b\n",
       "    <span style=\"font-size: 0.8em; font-weight: bold; line-height: 1; border-radius: 0.35em; vertical-align: middle; margin-left: 0.5rem\">PART_NUM</span>\n",
       "</mark>\n",
       " transfer-ptb ; \n",
       "<mark class=\"entity\" style=\"background: #92E0AA; padding: 0.45em 0.6em; margin: 0 0.25em; line-height: 1; border-radius: 0.35em;\">\n",
       "    sl-k7600 jc96\n",
       "    <span style=\"font-size: 0.8em; font-weight: bold; line-height: 1; border-radius: 0.35em; vertical-align: middle; margin-left: 0.5rem\">PART_NUM</span>\n",
       "</mark>\n",
       "-11643a cartridge deve ; diamondk7600 , fru , 1430 \n",
       "<mark class=\"entity\" style=\"background: #92E0AA; padding: 0.45em 0.6em; margin: 0 0.25em; line-height: 1; border-radius: 0.35em;\">\n",
       "    jc44-00241b\n",
       "    <span style=\"font-size: 0.8em; font-weight: bold; line-height: 1; border-radius: 0.35em; vertical-align: middle; margin-left: 0.5rem\">PART_NUM</span>\n",
       "</mark>\n",
       " hvps tiger k7600 , 24v , 21 . 6v , 2 send to customer address . #normal</div></span>"
      ],
      "text/plain": [
       "<IPython.core.display.HTML object>"
      ]
     },
     "metadata": {},
     "output_type": "display_data"
    },
    {
     "name": "stdout",
     "output_type": "stream",
     "text": [
      "------------------------- acutal entities -------------------------\n",
      "('jc93-01117b', 32, 43, 'PART_NUM')\n",
      "('jc96-11643a', 68, 79, 'PART_NUM')\n",
      "('jc44-00241b', 123, 134, 'PART_NUM')\n",
      "------------------------- predict entities -------------------------\n",
      "('jc93-01117b', 32, 43, 'PART_NUM')\n",
      "('sl-k7600 jc96', 59, 72, 'PART_NUM')\n",
      "('jc44-00241b', 123, 134, 'PART_NUM')\n",
      "====================================================================================================\n",
      "please create revisit and order jc93-01117b transfer-ptb ; sl-k7600 jc96-11643a cartridge deve ; diamondk7600 , fru , 1430 jc44-00241b hvps tiger k7600 , 24v , 21 . 6v , 2 send to customer address . #normal\n"
     ]
    },
    {
     "data": {
      "text/html": [
       "<span class=\"tex2jax_ignore\"><div class=\"entities\" style=\"line-height: 2.5; direction: ltr\">please create revisit and order \n",
       "<mark class=\"entity\" style=\"background: #92E0AA; padding: 0.45em 0.6em; margin: 0 0.25em; line-height: 1; border-radius: 0.35em;\">\n",
       "    jc93-01117b\n",
       "    <span style=\"font-size: 0.8em; font-weight: bold; line-height: 1; border-radius: 0.35em; vertical-align: middle; margin-left: 0.5rem\">PART_NUM</span>\n",
       "</mark>\n",
       " transfer-ptb ; \n",
       "<mark class=\"entity\" style=\"background: #92E0AA; padding: 0.45em 0.6em; margin: 0 0.25em; line-height: 1; border-radius: 0.35em;\">\n",
       "    sl-k7600 jc96\n",
       "    <span style=\"font-size: 0.8em; font-weight: bold; line-height: 1; border-radius: 0.35em; vertical-align: middle; margin-left: 0.5rem\">PART_NUM</span>\n",
       "</mark>\n",
       "-11643a cartridge deve ; diamondk7600 , fru , 1430 \n",
       "<mark class=\"entity\" style=\"background: #92E0AA; padding: 0.45em 0.6em; margin: 0 0.25em; line-height: 1; border-radius: 0.35em;\">\n",
       "    jc44-00241b\n",
       "    <span style=\"font-size: 0.8em; font-weight: bold; line-height: 1; border-radius: 0.35em; vertical-align: middle; margin-left: 0.5rem\">PART_NUM</span>\n",
       "</mark>\n",
       " hvps tiger k7600 , 24v , 21 . 6v , 2 send to customer address . #normal</div></span>"
      ],
      "text/plain": [
       "<IPython.core.display.HTML object>"
      ]
     },
     "metadata": {},
     "output_type": "display_data"
    },
    {
     "name": "stdout",
     "output_type": "stream",
     "text": [
      "------------------------- acutal entities -------------------------\n",
      "('jc93-01117b', 32, 43, 'PART_NUM')\n",
      "('jc96-11643a', 68, 79, 'PART_NUM')\n",
      "('jc44-00241b', 123, 134, 'PART_NUM')\n",
      "------------------------- predict entities -------------------------\n",
      "('jc93-01117b', 32, 43, 'PART_NUM')\n",
      "('sl-k7600 jc96', 59, 72, 'PART_NUM')\n",
      "('jc44-00241b', 123, 134, 'PART_NUM')\n",
      "====================================================================================================\n",
      "rm26322-000cn e6b69-67901 rm1-8413-000cn please ship to fedex 3242 herrman rd garland , texas 75041\n"
     ]
    },
    {
     "data": {
      "text/html": [
       "<span class=\"tex2jax_ignore\"><div class=\"entities\" style=\"line-height: 2.5; direction: ltr\">\n",
       "<mark class=\"entity\" style=\"background: #92E0AA; padding: 0.45em 0.6em; margin: 0 0.25em; line-height: 1; border-radius: 0.35em;\">\n",
       "    rm26322-000cn\n",
       "    <span style=\"font-size: 0.8em; font-weight: bold; line-height: 1; border-radius: 0.35em; vertical-align: middle; margin-left: 0.5rem\">PART_NUM</span>\n",
       "</mark>\n",
       " \n",
       "<mark class=\"entity\" style=\"background: #92E0AA; padding: 0.45em 0.6em; margin: 0 0.25em; line-height: 1; border-radius: 0.35em;\">\n",
       "    e6b69-67901\n",
       "    <span style=\"font-size: 0.8em; font-weight: bold; line-height: 1; border-radius: 0.35em; vertical-align: middle; margin-left: 0.5rem\">PART_NUM</span>\n",
       "</mark>\n",
       " \n",
       "<mark class=\"entity\" style=\"background: #92E0AA; padding: 0.45em 0.6em; margin: 0 0.25em; line-height: 1; border-radius: 0.35em;\">\n",
       "    rm1-8413-000cn\n",
       "    <span style=\"font-size: 0.8em; font-weight: bold; line-height: 1; border-radius: 0.35em; vertical-align: middle; margin-left: 0.5rem\">PART_NUM</span>\n",
       "</mark>\n",
       " please ship to fedex 3242 herrman rd garland , texas 75041</div></span>"
      ],
      "text/plain": [
       "<IPython.core.display.HTML object>"
      ]
     },
     "metadata": {},
     "output_type": "display_data"
    },
    {
     "name": "stdout",
     "output_type": "stream",
     "text": [
      "------------------------- acutal entities -------------------------\n",
      "('e6b69-67901', 14, 25, 'PART_NUM')\n",
      "('rm1-8413-000cn', 26, 40, 'PART_NUM')\n",
      "------------------------- predict entities -------------------------\n",
      "('rm26322-000cn', 0, 13, 'PART_NUM')\n",
      "('e6b69-67901', 14, 25, 'PART_NUM')\n",
      "('rm1-8413-000cn', 26, 40, 'PART_NUM')\n",
      "====================================================================================================\n",
      "#normal assign 7/19/21 have part emailed repair request 7/20/21 confirmed appt 👍 . \n"
     ]
    },
    {
     "data": {
      "text/html": [
       "<span class=\"tex2jax_ignore\"><div class=\"entities\" style=\"line-height: 2.5; direction: ltr\">#normal assign 7/19/21 have part emailed repair request 7/20/21 confirmed appt \n",
       "<mark class=\"entity\" style=\"background: #92E0AA; padding: 0.45em 0.6em; margin: 0 0.25em; line-height: 1; border-radius: 0.35em;\">\n",
       "    👍 .\n",
       "    <span style=\"font-size: 0.8em; font-weight: bold; line-height: 1; border-radius: 0.35em; vertical-align: middle; margin-left: 0.5rem\">PART_NUM</span>\n",
       "</mark>\n",
       " </div></span>"
      ],
      "text/plain": [
       "<IPython.core.display.HTML object>"
      ]
     },
     "metadata": {},
     "output_type": "display_data"
    },
    {
     "name": "stdout",
     "output_type": "stream",
     "text": [
      "------------------------- predict entities -------------------------\n",
      "('👍 .', 79, 82, 'PART_NUM')\n",
      "====================================================================================================\n",
      "please order the following part and have it sent to the flint mi fedex rm2-1318-000cn rm2-679<-000cn\n"
     ]
    },
    {
     "data": {
      "text/html": [
       "<span class=\"tex2jax_ignore\"><div class=\"entities\" style=\"line-height: 2.5; direction: ltr\">please order the following part and have it sent to the flint mi fedex \n",
       "<mark class=\"entity\" style=\"background: #92E0AA; padding: 0.45em 0.6em; margin: 0 0.25em; line-height: 1; border-radius: 0.35em;\">\n",
       "    rm2-1318-000cn\n",
       "    <span style=\"font-size: 0.8em; font-weight: bold; line-height: 1; border-radius: 0.35em; vertical-align: middle; margin-left: 0.5rem\">PART_NUM</span>\n",
       "</mark>\n",
       " \n",
       "<mark class=\"entity\" style=\"background: #92E0AA; padding: 0.45em 0.6em; margin: 0 0.25em; line-height: 1; border-radius: 0.35em;\">\n",
       "    rm2-679&lt;-000cn\n",
       "    <span style=\"font-size: 0.8em; font-weight: bold; line-height: 1; border-radius: 0.35em; vertical-align: middle; margin-left: 0.5rem\">PART_NUM</span>\n",
       "</mark>\n",
       "</div></span>"
      ],
      "text/plain": [
       "<IPython.core.display.HTML object>"
      ]
     },
     "metadata": {},
     "output_type": "display_data"
    },
    {
     "name": "stdout",
     "output_type": "stream",
     "text": [
      "------------------------- acutal entities -------------------------\n",
      "('rm2-1318-000cn', 71, 85, 'PART_NUM')\n",
      "------------------------- predict entities -------------------------\n",
      "('rm2-1318-000cn', 71, 85, 'PART_NUM')\n",
      "('rm2-679<-000cn', 86, 100, 'PART_NUM')\n",
      "====================================================================================================\n",
      "need revisit for 7/2 and please order 0609-001558 qty 1 nbd to 83005433\n"
     ]
    },
    {
     "data": {
      "text/html": [
       "<span class=\"tex2jax_ignore\"><div class=\"entities\" style=\"line-height: 2.5; direction: ltr\">need revisit for 7/2 and please order \n",
       "<mark class=\"entity\" style=\"background: #92E0AA; padding: 0.45em 0.6em; margin: 0 0.25em; line-height: 1; border-radius: 0.35em;\">\n",
       "    0609-001558\n",
       "    <span style=\"font-size: 0.8em; font-weight: bold; line-height: 1; border-radius: 0.35em; vertical-align: middle; margin-left: 0.5rem\">PART_NUM</span>\n",
       "</mark>\n",
       " qty 1 nbd to 83005433</div></span>"
      ],
      "text/plain": [
       "<IPython.core.display.HTML object>"
      ]
     },
     "metadata": {},
     "output_type": "display_data"
    },
    {
     "name": "stdout",
     "output_type": "stream",
     "text": [
      "------------------------- predict entities -------------------------\n",
      "('0609-001558', 38, 49, 'PART_NUM')\n",
      "====================================================================================================\n",
      "please order part to my alexandra hfpu rm2-1255-000cn            rm2-6766-010cn            rm2-9494-000cn\n"
     ]
    },
    {
     "data": {
      "text/html": [
       "<span class=\"tex2jax_ignore\"><div class=\"entities\" style=\"line-height: 2.5; direction: ltr\">please order part to my alexandra hfpu \n",
       "<mark class=\"entity\" style=\"background: #92E0AA; padding: 0.45em 0.6em; margin: 0 0.25em; line-height: 1; border-radius: 0.35em;\">\n",
       "    rm2-1255-000cn\n",
       "    <span style=\"font-size: 0.8em; font-weight: bold; line-height: 1; border-radius: 0.35em; vertical-align: middle; margin-left: 0.5rem\">PART_NUM</span>\n",
       "</mark>\n",
       "            \n",
       "<mark class=\"entity\" style=\"background: #92E0AA; padding: 0.45em 0.6em; margin: 0 0.25em; line-height: 1; border-radius: 0.35em;\">\n",
       "    rm2-6766-010cn\n",
       "    <span style=\"font-size: 0.8em; font-weight: bold; line-height: 1; border-radius: 0.35em; vertical-align: middle; margin-left: 0.5rem\">PART_NUM</span>\n",
       "</mark>\n",
       "            \n",
       "<mark class=\"entity\" style=\"background: #92E0AA; padding: 0.45em 0.6em; margin: 0 0.25em; line-height: 1; border-radius: 0.35em;\">\n",
       "    rm2-9494-000cn\n",
       "    <span style=\"font-size: 0.8em; font-weight: bold; line-height: 1; border-radius: 0.35em; vertical-align: middle; margin-left: 0.5rem\">PART_NUM</span>\n",
       "</mark>\n",
       "</div></span>"
      ],
      "text/plain": [
       "<IPython.core.display.HTML object>"
      ]
     },
     "metadata": {},
     "output_type": "display_data"
    },
    {
     "name": "stdout",
     "output_type": "stream",
     "text": [
      "------------------------- acutal entities -------------------------\n",
      "('rm2-9494-000cn', 91, 105, 'PART_NUM')\n",
      "------------------------- predict entities -------------------------\n",
      "('rm2-1255-000cn', 39, 53, 'PART_NUM')\n",
      "('rm2-6766-010cn', 65, 79, 'PART_NUM')\n",
      "('rm2-9494-000cn', 91, 105, 'PART_NUM')\n",
      "====================================================================================================\n",
      "please cancel po-119380020 - 1 . . original part hasn ' t been delivered . please order nbd and ship to fedex service center at 775 nw gilman blvd suite c4 , issaquah , wa 98027 . please do not use customer company name , but hp engineer as receiver . ( hold for hpce pick up ) part needed: a8p79-65\n"
     ]
    },
    {
     "data": {
      "text/html": [
       "<span class=\"tex2jax_ignore\"><div class=\"entities\" style=\"line-height: 2.5; direction: ltr\">please cancel po-119380020 - 1 . . original part hasn ' t been delivered . please order nbd and ship to fedex service center at 775 nw gilman blvd suite c4 , issaquah , wa 98027 . please do not use customer company name , but hp engineer as receiver . ( hold for hpce pick up ) part needed: \n",
       "<mark class=\"entity\" style=\"background: #92E0AA; padding: 0.45em 0.6em; margin: 0 0.25em; line-height: 1; border-radius: 0.35em;\">\n",
       "    a8p79-65\n",
       "    <span style=\"font-size: 0.8em; font-weight: bold; line-height: 1; border-radius: 0.35em; vertical-align: middle; margin-left: 0.5rem\">PART_NUM</span>\n",
       "</mark>\n",
       "</div></span>"
      ],
      "text/plain": [
       "<IPython.core.display.HTML object>"
      ]
     },
     "metadata": {},
     "output_type": "display_data"
    },
    {
     "name": "stdout",
     "output_type": "stream",
     "text": [
      "------------------------- predict entities -------------------------\n",
      "('a8p79-65', 291, 299, 'PART_NUM')\n",
      "====================================================================================================\n",
      "please order part x3a74-67902  , jc96-11643a   , x3a73-60018 , nbd delivered to hal . please create follow up for tomorrow at noon . #normal\n"
     ]
    },
    {
     "data": {
      "text/html": [
       "<span class=\"tex2jax_ignore\"><div class=\"entities\" style=\"line-height: 2.5; direction: ltr\">please order part x3a74-67902  , \n",
       "<mark class=\"entity\" style=\"background: #92E0AA; padding: 0.45em 0.6em; margin: 0 0.25em; line-height: 1; border-radius: 0.35em;\">\n",
       "    jc96-11643a\n",
       "    <span style=\"font-size: 0.8em; font-weight: bold; line-height: 1; border-radius: 0.35em; vertical-align: middle; margin-left: 0.5rem\">PART_NUM</span>\n",
       "</mark>\n",
       "   , \n",
       "<mark class=\"entity\" style=\"background: #92E0AA; padding: 0.45em 0.6em; margin: 0 0.25em; line-height: 1; border-radius: 0.35em;\">\n",
       "    x3a73-60018\n",
       "    <span style=\"font-size: 0.8em; font-weight: bold; line-height: 1; border-radius: 0.35em; vertical-align: middle; margin-left: 0.5rem\">PART_NUM</span>\n",
       "</mark>\n",
       " , nbd delivered to hal . please create follow up for tomorrow at noon . #normal</div></span>"
      ],
      "text/plain": [
       "<IPython.core.display.HTML object>"
      ]
     },
     "metadata": {},
     "output_type": "display_data"
    },
    {
     "name": "stdout",
     "output_type": "stream",
     "text": [
      "------------------------- acutal entities -------------------------\n",
      "('x3a73-60018', 49, 60, 'PART_NUM')\n",
      "------------------------- predict entities -------------------------\n",
      "('jc96-11643a', 33, 44, 'PART_NUM')\n",
      "('x3a73-60018', 49, 60, 'PART_NUM')\n",
      "====================================================================================================\n",
      "please order parts ry7-5211-000cn ,  cf365-67901 and 2w79-67902 to nashville tn hal . . please order recommended part a2w77-67908 to nashville tn hal . \n"
     ]
    },
    {
     "data": {
      "text/html": [
       "<span class=\"tex2jax_ignore\"><div class=\"entities\" style=\"line-height: 2.5; direction: ltr\">please order parts \n",
       "<mark class=\"entity\" style=\"background: #92E0AA; padding: 0.45em 0.6em; margin: 0 0.25em; line-height: 1; border-radius: 0.35em;\">\n",
       "    ry7-5211-000cn\n",
       "    <span style=\"font-size: 0.8em; font-weight: bold; line-height: 1; border-radius: 0.35em; vertical-align: middle; margin-left: 0.5rem\">PART_NUM</span>\n",
       "</mark>\n",
       " ,  cf365-67901 and \n",
       "<mark class=\"entity\" style=\"background: #92E0AA; padding: 0.45em 0.6em; margin: 0 0.25em; line-height: 1; border-radius: 0.35em;\">\n",
       "    2w79-67902\n",
       "    <span style=\"font-size: 0.8em; font-weight: bold; line-height: 1; border-radius: 0.35em; vertical-align: middle; margin-left: 0.5rem\">PART_NUM</span>\n",
       "</mark>\n",
       " to nashville tn hal . . please order recommended part \n",
       "<mark class=\"entity\" style=\"background: #92E0AA; padding: 0.45em 0.6em; margin: 0 0.25em; line-height: 1; border-radius: 0.35em;\">\n",
       "    a2w77-67908\n",
       "    <span style=\"font-size: 0.8em; font-weight: bold; line-height: 1; border-radius: 0.35em; vertical-align: middle; margin-left: 0.5rem\">PART_NUM</span>\n",
       "</mark>\n",
       " to nashville tn hal . </div></span>"
      ],
      "text/plain": [
       "<IPython.core.display.HTML object>"
      ]
     },
     "metadata": {},
     "output_type": "display_data"
    },
    {
     "name": "stdout",
     "output_type": "stream",
     "text": [
      "------------------------- acutal entities -------------------------\n",
      "('ry7-5211-000cn', 19, 33, 'PART_NUM')\n",
      "('a2w77-67908', 118, 129, 'PART_NUM')\n",
      "------------------------- predict entities -------------------------\n",
      "('ry7-5211-000cn', 19, 33, 'PART_NUM')\n",
      "('2w79-67902', 53, 63, 'PART_NUM')\n",
      "('a2w77-67908', 118, 129, 'PART_NUM')\n",
      "====================================================================================================\n",
      "please order nbd: 2-1235-000cn 3x550-sheet paper feeder paper pick-up assembly and ship to 719 n hammonds ferry rd . linthicum heights , md 21090 . #normal osa met rdt . reassign this wo to julius steele . lm\n"
     ]
    },
    {
     "data": {
      "text/html": [
       "<span class=\"tex2jax_ignore\"><div class=\"entities\" style=\"line-height: 2.5; direction: ltr\">please order nbd: \n",
       "<mark class=\"entity\" style=\"background: #92E0AA; padding: 0.45em 0.6em; margin: 0 0.25em; line-height: 1; border-radius: 0.35em;\">\n",
       "    2-1235-000cn\n",
       "    <span style=\"font-size: 0.8em; font-weight: bold; line-height: 1; border-radius: 0.35em; vertical-align: middle; margin-left: 0.5rem\">PART_NUM</span>\n",
       "</mark>\n",
       " \n",
       "<mark class=\"entity\" style=\"background: #92E0AA; padding: 0.45em 0.6em; margin: 0 0.25em; line-height: 1; border-radius: 0.35em;\">\n",
       "    3x550-sheet\n",
       "    <span style=\"font-size: 0.8em; font-weight: bold; line-height: 1; border-radius: 0.35em; vertical-align: middle; margin-left: 0.5rem\">PART_NUM</span>\n",
       "</mark>\n",
       " paper feeder paper pick-up assembly and ship to 719 n hammonds ferry rd . linthicum heights , md 21090 . #normal osa met rdt . reassign this wo to julius steele . lm</div></span>"
      ],
      "text/plain": [
       "<IPython.core.display.HTML object>"
      ]
     },
     "metadata": {},
     "output_type": "display_data"
    },
    {
     "name": "stdout",
     "output_type": "stream",
     "text": [
      "------------------------- predict entities -------------------------\n",
      "('2-1235-000cn', 18, 30, 'PART_NUM')\n",
      "('3x550-sheet', 31, 42, 'PART_NUM')\n",
      "====================================================================================================\n",
      "lex-c930x76gh , 1 , c2efes25 lex-c930x73g , 1 , c2efes25\n"
     ]
    },
    {
     "data": {
      "text/html": [
       "<span class=\"tex2jax_ignore\"><div class=\"entities\" style=\"line-height: 2.5; direction: ltr\">\n",
       "<mark class=\"entity\" style=\"background: #92E0AA; padding: 0.45em 0.6em; margin: 0 0.25em; line-height: 1; border-radius: 0.35em;\">\n",
       "    lex-c930x76gh ,\n",
       "    <span style=\"font-size: 0.8em; font-weight: bold; line-height: 1; border-radius: 0.35em; vertical-align: middle; margin-left: 0.5rem\">PART_NUM</span>\n",
       "</mark>\n",
       " 1 , c2efes25 \n",
       "<mark class=\"entity\" style=\"background: #92E0AA; padding: 0.45em 0.6em; margin: 0 0.25em; line-height: 1; border-radius: 0.35em;\">\n",
       "    lex-c930x73g\n",
       "    <span style=\"font-size: 0.8em; font-weight: bold; line-height: 1; border-radius: 0.35em; vertical-align: middle; margin-left: 0.5rem\">PART_NUM</span>\n",
       "</mark>\n",
       " , 1 , c2efes25</div></span>"
      ],
      "text/plain": [
       "<IPython.core.display.HTML object>"
      ]
     },
     "metadata": {},
     "output_type": "display_data"
    },
    {
     "name": "stdout",
     "output_type": "stream",
     "text": [
      "------------------------- acutal entities -------------------------\n",
      "('lex-c930x73g', 29, 41, 'PART_NUM')\n",
      "------------------------- predict entities -------------------------\n",
      "('lex-c930x76gh ,', 0, 15, 'PART_NUM')\n",
      "('lex-c930x73g', 29, 41, 'PART_NUM')\n",
      "====================================================================================================\n",
      "b of a order the following for nbd: jc39-02567a , jc39-02553a , jc39-02584 , and ( 2 ) 5851-6712 ship to my primary hal\n"
     ]
    },
    {
     "data": {
      "text/html": [
       "<span class=\"tex2jax_ignore\"><div class=\"entities\" style=\"line-height: 2.5; direction: ltr\">b of a order the following for nbd: \n",
       "<mark class=\"entity\" style=\"background: #92E0AA; padding: 0.45em 0.6em; margin: 0 0.25em; line-height: 1; border-radius: 0.35em;\">\n",
       "    jc39-02567a\n",
       "    <span style=\"font-size: 0.8em; font-weight: bold; line-height: 1; border-radius: 0.35em; vertical-align: middle; margin-left: 0.5rem\">PART_NUM</span>\n",
       "</mark>\n",
       " , \n",
       "<mark class=\"entity\" style=\"background: #92E0AA; padding: 0.45em 0.6em; margin: 0 0.25em; line-height: 1; border-radius: 0.35em;\">\n",
       "    jc39-02553a\n",
       "    <span style=\"font-size: 0.8em; font-weight: bold; line-height: 1; border-radius: 0.35em; vertical-align: middle; margin-left: 0.5rem\">PART_NUM</span>\n",
       "</mark>\n",
       " , \n",
       "<mark class=\"entity\" style=\"background: #92E0AA; padding: 0.45em 0.6em; margin: 0 0.25em; line-height: 1; border-radius: 0.35em;\">\n",
       "    jc39-02584\n",
       "    <span style=\"font-size: 0.8em; font-weight: bold; line-height: 1; border-radius: 0.35em; vertical-align: middle; margin-left: 0.5rem\">PART_NUM</span>\n",
       "</mark>\n",
       " , and ( 2 ) \n",
       "<mark class=\"entity\" style=\"background: #92E0AA; padding: 0.45em 0.6em; margin: 0 0.25em; line-height: 1; border-radius: 0.35em;\">\n",
       "    5851-6712\n",
       "    <span style=\"font-size: 0.8em; font-weight: bold; line-height: 1; border-radius: 0.35em; vertical-align: middle; margin-left: 0.5rem\">PART_NUM</span>\n",
       "</mark>\n",
       " ship to my primary hal</div></span>"
      ],
      "text/plain": [
       "<IPython.core.display.HTML object>"
      ]
     },
     "metadata": {},
     "output_type": "display_data"
    },
    {
     "name": "stdout",
     "output_type": "stream",
     "text": [
      "------------------------- acutal entities -------------------------\n",
      "('jc39-02567a', 36, 47, 'PART_NUM')\n",
      "('jc39-02553a', 50, 61, 'PART_NUM')\n",
      "('5851-6712', 87, 96, 'PART_NUM')\n",
      "------------------------- predict entities -------------------------\n",
      "('jc39-02567a', 36, 47, 'PART_NUM')\n",
      "('jc39-02553a', 50, 61, 'PART_NUM')\n",
      "('jc39-02584', 64, 74, 'PART_NUM')\n",
      "('5851-6712', 87, 96, 'PART_NUM')\n",
      "====================================================================================================\n",
      "please send part to local hal in louisville , ky 795970-602 . please send part to local hal in louisville , kentucky 795970-602\n"
     ]
    },
    {
     "data": {
      "text/html": [
       "<span class=\"tex2jax_ignore\"><div class=\"entities\" style=\"line-height: 2.5; direction: ltr\">please send part to local hal in louisville , \n",
       "<mark class=\"entity\" style=\"background: #92E0AA; padding: 0.45em 0.6em; margin: 0 0.25em; line-height: 1; border-radius: 0.35em;\">\n",
       "    ky 795970-602\n",
       "    <span style=\"font-size: 0.8em; font-weight: bold; line-height: 1; border-radius: 0.35em; vertical-align: middle; margin-left: 0.5rem\">PART_NUM</span>\n",
       "</mark>\n",
       " . please send part to local hal in louisville , kentucky \n",
       "<mark class=\"entity\" style=\"background: #92E0AA; padding: 0.45em 0.6em; margin: 0 0.25em; line-height: 1; border-radius: 0.35em;\">\n",
       "    795970-602\n",
       "    <span style=\"font-size: 0.8em; font-weight: bold; line-height: 1; border-radius: 0.35em; vertical-align: middle; margin-left: 0.5rem\">PART_NUM</span>\n",
       "</mark>\n",
       "</div></span>"
      ],
      "text/plain": [
       "<IPython.core.display.HTML object>"
      ]
     },
     "metadata": {},
     "output_type": "display_data"
    },
    {
     "name": "stdout",
     "output_type": "stream",
     "text": [
      "------------------------- acutal entities -------------------------\n",
      "('795970-602', 49, 59, 'PART_NUM')\n",
      "('795970-602', 117, 127, 'PART_NUM')\n",
      "------------------------- predict entities -------------------------\n",
      "('ky 795970-602', 46, 59, 'PART_NUM')\n",
      "('795970-602', 117, 127, 'PART_NUM')\n",
      "====================================================================================================\n",
      "please send part to local hal in louisville , ky 795970-602 . please send part to local hal in louisville , kentucky 795970-602\n"
     ]
    },
    {
     "data": {
      "text/html": [
       "<span class=\"tex2jax_ignore\"><div class=\"entities\" style=\"line-height: 2.5; direction: ltr\">please send part to local hal in louisville , \n",
       "<mark class=\"entity\" style=\"background: #92E0AA; padding: 0.45em 0.6em; margin: 0 0.25em; line-height: 1; border-radius: 0.35em;\">\n",
       "    ky 795970-602\n",
       "    <span style=\"font-size: 0.8em; font-weight: bold; line-height: 1; border-radius: 0.35em; vertical-align: middle; margin-left: 0.5rem\">PART_NUM</span>\n",
       "</mark>\n",
       " . please send part to local hal in louisville , kentucky \n",
       "<mark class=\"entity\" style=\"background: #92E0AA; padding: 0.45em 0.6em; margin: 0 0.25em; line-height: 1; border-radius: 0.35em;\">\n",
       "    795970-602\n",
       "    <span style=\"font-size: 0.8em; font-weight: bold; line-height: 1; border-radius: 0.35em; vertical-align: middle; margin-left: 0.5rem\">PART_NUM</span>\n",
       "</mark>\n",
       "</div></span>"
      ],
      "text/plain": [
       "<IPython.core.display.HTML object>"
      ]
     },
     "metadata": {},
     "output_type": "display_data"
    },
    {
     "name": "stdout",
     "output_type": "stream",
     "text": [
      "------------------------- acutal entities -------------------------\n",
      "('795970-602', 49, 59, 'PART_NUM')\n",
      "('795970-602', 117, 127, 'PART_NUM')\n",
      "------------------------- predict entities -------------------------\n",
      "('ky 795970-602', 46, 59, 'PART_NUM')\n",
      "('795970-602', 117, 127, 'PART_NUM')\n"
     ]
    }
   ],
   "source": [
    "show_texts(error_data)  "
   ]
  },
  {
   "cell_type": "code",
   "execution_count": 56,
   "id": "dd160be7",
   "metadata": {
    "ExecuteTime": {
     "end_time": "2021-08-25T00:25:50.894171Z",
     "start_time": "2021-08-25T00:25:50.783761Z"
    }
   },
   "outputs": [
    {
     "name": "stdout",
     "output_type": "stream",
     "text": [
      "('rm26322-000cn', 0, 13, 'PART_NUM')\n",
      "('e6b69-67901', 23, 34, 'PART_NUM')\n",
      "('rm1-8413-000cn', 44, 58, 'PART_NUM')\n"
     ]
    },
    {
     "data": {
      "text/html": [
       "<span class=\"tex2jax_ignore\"><div class=\"entities\" style=\"line-height: 2.5; direction: ltr\">\n",
       "<mark class=\"entity\" style=\"background: #92E0AA; padding: 0.45em 0.6em; margin: 0 0.25em; line-height: 1; border-radius: 0.35em;\">\n",
       "    rm26322-000cn\n",
       "    <span style=\"font-size: 0.8em; font-weight: bold; line-height: 1; border-radius: 0.35em; vertical-align: middle; margin-left: 0.5rem\">PART_NUM</span>\n",
       "</mark>\n",
       " PART_NUM \n",
       "<mark class=\"entity\" style=\"background: #92E0AA; padding: 0.45em 0.6em; margin: 0 0.25em; line-height: 1; border-radius: 0.35em;\">\n",
       "    e6b69-67901\n",
       "    <span style=\"font-size: 0.8em; font-weight: bold; line-height: 1; border-radius: 0.35em; vertical-align: middle; margin-left: 0.5rem\">PART_NUM</span>\n",
       "</mark>\n",
       " PART_NUM \n",
       "<mark class=\"entity\" style=\"background: #92E0AA; padding: 0.45em 0.6em; margin: 0 0.25em; line-height: 1; border-radius: 0.35em;\">\n",
       "    rm1-8413-000cn\n",
       "    <span style=\"font-size: 0.8em; font-weight: bold; line-height: 1; border-radius: 0.35em; vertical-align: middle; margin-left: 0.5rem\">PART_NUM</span>\n",
       "</mark>\n",
       " PART_NUM please send ACTION to fedex ACTION 3242 herrman rd garland , texas 75041 on 2021-08-21</div></span>"
      ],
      "text/plain": [
       "<IPython.core.display.HTML object>"
      ]
     },
     "metadata": {},
     "output_type": "display_data"
    }
   ],
   "source": [
    "doc = nlp('rm26322-000cn PART_NUM e6b69-67901 PART_NUM rm1-8413-000cn PART_NUM please send ACTION to fedex ACTION 3242 herrman rd garland , texas 75041 on 2021-08-21')\n",
    "print(*[(ent.text, ent.start_char, ent.end_char, ent.label_) for ent in doc.ents], sep='\\n') \n",
    "spacy.displacy.render(doc, style='ent', options=options)"
   ]
  },
  {
   "cell_type": "markdown",
   "id": "39807173",
   "metadata": {},
   "source": [
    "### Some Features and Issues\n",
    "\n",
    "#### Miss some part-numbers "
   ]
  },
  {
   "cell_type": "code",
   "execution_count": 57,
   "id": "5d242f6c",
   "metadata": {
    "ExecuteTime": {
     "end_time": "2021-08-25T00:25:50.909737Z",
     "start_time": "2021-08-25T00:25:50.897702Z"
    }
   },
   "outputs": [],
   "source": [
    "sample_parts = ['M14302-161', '926537-001', 'M46915-D01', '140314-FB2', '176253-8B0', \n",
    "               '442010-ABC', 'L07896-DB1', '168757-B21', 'FE-15520-01', 'RM1-7867-000CN', \n",
    "               '5066-4719', '5066-3872-1', '3HZ90-30001', 'T6M22-30001', '98544-04105', \n",
    "               'C8109-69018', 'L26480-DB1', '632427-001B', 'CN463-69003', 'RM1-1298BULK', \n",
    "               '8-752-078-46', 'X-4035-119-1', 'TBLB3002-A04', '4822-701-15319', '08-2212C-33W', \n",
    "               '19-40065-011', 'ATT09850-66532', '98564-66572-SQ', '897-250144AA', '738-576-94', \n",
    "               '1FQ6-0001', '1818-7469-LGSA', '1820-6361M', '1818-6868-SAM', '3138-107-96160', \n",
    "               '686858R-999', 'MD30C-A2', '29-26196-00', 'DEL-7D092', 'LEX-40X2384', 'LEX-40X2831H', \n",
    "               'SAM-6107001172', 'SHA-1625DS51', 'XER-006R01275', 'BRO-TN115BK', 'DEL-310-5811', \n",
    "               'DEL-PK496', 'KYO-1702F97US0', 'LA95-CA', 'KYO-DK-310H', 'EPS-C31CD38A9921', \n",
    "               'KYO-F994091H', 'EPS-CEPS-003G', 'LEX-24015SA', 'LEX-62D1X00', 'LEX-72K0DV0', \n",
    "               'LEX-801HC', 'LEX-C5220CSH', 'TRO-78-24619-001', 'LEX-C544X1CG', 'HPE-749797-001', \n",
    "               'SFT-P-895', 'LEX-E260A21A-C', 'RIC-D0296509', 'SEA-ST1000LM049', 'LEX-12A8400-PC', \n",
    "               'HPE-JL258A', 'RIC-400507', 'FUJ-FPCPR362AQ', 'TOS-6LE8296100', 'XER-003K04980', \n",
    "               'XER-116111500', 'ATS-2711FXSC-901', 'BRO-TN336BK', 'DEL-310-5807', 'HPI-CF258A-M', \n",
    "               'LEX-T101-0000000', 'DEL-9PN5P', 'SAM-BA92-08880A', 'APC-RBC7', 'KMH-4448-121', \n",
    "               'SXC-C7ABTTAAB', 'TRO-04621201', 'VEF-28924-04-R', 'WFP-HPM527Z', 'KYO-1702LK0UN2', \n",
    "               'APC-SUA1500RM2U', 'KYO-302NM18021', 'HPE-JH329-61001', 'KYO-1T02GA0US0', 'LEB-04X4674',\n",
    "               'KYO-302GR93034', 'DEL-V1RX3', 'LEX-40X0593', 'TOS-6LH3460800', 'RIC-AE020171', \n",
    "               'XER-59K60140', 'BRO-LM5140001', 'KMH-A00JA56600', 'KYO-302F906240', 'BRO-LEM084001', \n",
    "               'XER-116-2035', 'BRO-BU100CLH', '3X-LK465-A2', '4G1-3999-030CN', 'H3980-60002BULK', \n",
    "               'SHA-VHI0MFP000', 'TOS-C017839000', 'JC66-01190A', 'XER-3335DNI', 'XER-3635MFP-S', \n",
    "               'XER-4622DN', 'XER-7750-Z2', 'DEL-D1320-W3', 'DEL-P637D', 'LEX-C540X35G', \n",
    "               'SHA-CPLTM8190F', 'SHACFRM-1380DS53', 'XER-401-0855-0', '90-0077', 'BRO-LF6710001', \n",
    "               'Q3938-68001-PCA', 'C314X+49A-90002', '20ER-84530KC', 'RM2-2903-BULK', 'CE506-67919-BU', \n",
    "               'CH971-91596', 'DEL-FM235', 'JC44-00210E', 'SHACFRM-1509DS52', 'SHADHAI-5043FCPZ', \n",
    "               'SHAGCAB-1102FCB1', '000-50-02-008', '504000226-DD', 'SHAVHPLG217L5A-1', 'SHAVHPOSH03Y02-1', \n",
    "               'SHADUNT-8962FCP1', 'SHAKI-OK0010FCPZ', 'SHAQSW-P0506FCZZ', 'SHAVHPGP1A73AR-1', 'SHARH-IX0055FCPZ', \n",
    "               '358-000001', 'SHAVHPGP1A71L3-18', 'B23-0994', '504000226-D', '5066-0731', \n",
    "               'E0-CABLE-01', 'RM1-8508-010-BU', 'B3M77-67902-BU', 'CA02626-E029FJ', 'CF065-67901-BU', \n",
    "               'C2H57-67901-BULK', 'LN08-A2', '693709-001B', 'SS467-67001', 'LEX-70C0D20', \n",
    "               'SHAQSW-M0518FCPZ', 'SHALX-BZ0994FCPZ', 'LN08X-TF', 'SHAGCAB-1507FCAZ']\n",
    "\n",
    "sample_parts = [part.lower() for part in sample_parts]"
   ]
  },
  {
   "cell_type": "code",
   "execution_count": 59,
   "id": "3da58c22",
   "metadata": {
    "ExecuteTime": {
     "end_time": "2021-08-25T00:30:11.785912Z",
     "start_time": "2021-08-25T00:30:11.612598Z"
    }
   },
   "outputs": [
    {
     "name": "stdout",
     "output_type": "stream",
     "text": [
      "====================================================================================================\n",
      "please order qty 1 000-50-02-008 nbd to my hal in lenexa . thank you . \n"
     ]
    },
    {
     "data": {
      "text/html": [
       "<span class=\"tex2jax_ignore\"><div class=\"entities\" style=\"line-height: 2.5; direction: ltr\">please order qty 1 \n",
       "<mark class=\"entity\" style=\"background: #92E0AA; padding: 0.45em 0.6em; margin: 0 0.25em; line-height: 1; border-radius: 0.35em;\">\n",
       "    000-50-02\n",
       "    <span style=\"font-size: 0.8em; font-weight: bold; line-height: 1; border-radius: 0.35em; vertical-align: middle; margin-left: 0.5rem\">PART_NUM</span>\n",
       "</mark>\n",
       "-008 nbd to my hal in lenexa . thank you . </div></span>"
      ],
      "text/plain": [
       "<IPython.core.display.HTML object>"
      ]
     },
     "metadata": {},
     "output_type": "display_data"
    },
    {
     "name": "stdout",
     "output_type": "stream",
     "text": [
      "------------------------- predict entities -------------------------\n",
      "('000-50-02', 19, 28, 'PART_NUM')\n"
     ]
    }
   ],
   "source": [
    "def get_texts(parts, standardize_text=standardize_text1):\n",
    "    texts = [standardize_text(f'Please order qty 1 {part} NBD to my HAL in Lenexa. Thank you.') for part in parts]\n",
    "    return texts\n",
    "\n",
    "def check_sample_parts(parts):  \n",
    "    texts = get_texts(parts)\n",
    "    docs = nlp.pipe(texts)\n",
    "    texts = []\n",
    "    error_texts = []\n",
    "    errpr_parts = []\n",
    "    for doc, part in zip(docs, parts):\n",
    "        texts.append(doc.text)\n",
    "        if len(doc.ents) !=1 or doc.ents[0].text != part.lower():\n",
    "            error_texts.append(doc.text)\n",
    "            errpr_parts.append(part)\n",
    "    return texts, error_texts, errpr_parts\n",
    "        \n",
    "parts = ['000-50-02-008']\n",
    "texts, error_texts, errpr_parts = check_sample_parts(parts)\n",
    "show_texts(texts, show_detail=True) "
   ]
  },
  {
   "cell_type": "code",
   "execution_count": 61,
   "id": "683a3113",
   "metadata": {
    "ExecuteTime": {
     "end_time": "2021-08-25T01:17:13.226048Z",
     "start_time": "2021-08-25T01:17:01.523860Z"
    },
    "scrolled": false
   },
   "outputs": [
    {
     "name": "stdout",
     "output_type": "stream",
     "text": [
      "find 89/160 errors\n",
      "====================================================================================================\n",
      "please order qty 1 8-752-078-46 nbd to my hal in lenexa . thank you . \n"
     ]
    },
    {
     "data": {
      "text/html": [
       "<span class=\"tex2jax_ignore\"><div class=\"entities\" style=\"line-height: 2.5; direction: ltr\">please order qty 1 8-752-078-46 nbd to my hal in lenexa . thank you . </div></span>"
      ],
      "text/plain": [
       "<IPython.core.display.HTML object>"
      ]
     },
     "metadata": {},
     "output_type": "display_data"
    },
    {
     "name": "stdout",
     "output_type": "stream",
     "text": [
      "====================================================================================================\n",
      "please order qty 1 x-4035-119-1 nbd to my hal in lenexa . thank you . \n"
     ]
    },
    {
     "data": {
      "text/html": [
       "<span class=\"tex2jax_ignore\"><div class=\"entities\" style=\"line-height: 2.5; direction: ltr\">please order qty 1 \n",
       "<mark class=\"entity\" style=\"background: #92E0AA; padding: 0.45em 0.6em; margin: 0 0.25em; line-height: 1; border-radius: 0.35em;\">\n",
       "    x-4035-119\n",
       "    <span style=\"font-size: 0.8em; font-weight: bold; line-height: 1; border-radius: 0.35em; vertical-align: middle; margin-left: 0.5rem\">PART_NUM</span>\n",
       "</mark>\n",
       "-1 nbd to my hal in lenexa . thank you . </div></span>"
      ],
      "text/plain": [
       "<IPython.core.display.HTML object>"
      ]
     },
     "metadata": {},
     "output_type": "display_data"
    },
    {
     "name": "stdout",
     "output_type": "stream",
     "text": [
      "------------------------- predict entities -------------------------\n",
      "('x-4035-119', 19, 29, 'PART_NUM')\n",
      "====================================================================================================\n",
      "please order qty 1 tblb3002-a04 nbd to my hal in lenexa . thank you . \n"
     ]
    },
    {
     "data": {
      "text/html": [
       "<span class=\"tex2jax_ignore\"><div class=\"entities\" style=\"line-height: 2.5; direction: ltr\">please order qty 1 tblb3002-a04 nbd to my hal in lenexa . thank you . </div></span>"
      ],
      "text/plain": [
       "<IPython.core.display.HTML object>"
      ]
     },
     "metadata": {},
     "output_type": "display_data"
    },
    {
     "name": "stdout",
     "output_type": "stream",
     "text": [
      "====================================================================================================\n",
      "please order qty 1 4822-701-15319 nbd to my hal in lenexa . thank you . \n"
     ]
    },
    {
     "data": {
      "text/html": [
       "<span class=\"tex2jax_ignore\"><div class=\"entities\" style=\"line-height: 2.5; direction: ltr\">please order qty 1 \n",
       "<mark class=\"entity\" style=\"background: #92E0AA; padding: 0.45em 0.6em; margin: 0 0.25em; line-height: 1; border-radius: 0.35em;\">\n",
       "    4822-701\n",
       "    <span style=\"font-size: 0.8em; font-weight: bold; line-height: 1; border-radius: 0.35em; vertical-align: middle; margin-left: 0.5rem\">PART_NUM</span>\n",
       "</mark>\n",
       "-15319 nbd to my hal in lenexa . thank you . </div></span>"
      ],
      "text/plain": [
       "<IPython.core.display.HTML object>"
      ]
     },
     "metadata": {},
     "output_type": "display_data"
    },
    {
     "name": "stdout",
     "output_type": "stream",
     "text": [
      "------------------------- predict entities -------------------------\n",
      "('4822-701', 19, 27, 'PART_NUM')\n",
      "====================================================================================================\n",
      "please order qty 1 08-2212c-33w nbd to my hal in lenexa . thank you . \n"
     ]
    },
    {
     "data": {
      "text/html": [
       "<span class=\"tex2jax_ignore\"><div class=\"entities\" style=\"line-height: 2.5; direction: ltr\">please order qty 1 \n",
       "<mark class=\"entity\" style=\"background: #92E0AA; padding: 0.45em 0.6em; margin: 0 0.25em; line-height: 1; border-radius: 0.35em;\">\n",
       "    08-2212c-33w nbd\n",
       "    <span style=\"font-size: 0.8em; font-weight: bold; line-height: 1; border-radius: 0.35em; vertical-align: middle; margin-left: 0.5rem\">PART_NUM</span>\n",
       "</mark>\n",
       " to my hal in lenexa . thank you . </div></span>"
      ],
      "text/plain": [
       "<IPython.core.display.HTML object>"
      ]
     },
     "metadata": {},
     "output_type": "display_data"
    },
    {
     "name": "stdout",
     "output_type": "stream",
     "text": [
      "------------------------- predict entities -------------------------\n",
      "('08-2212c-33w nbd', 19, 35, 'PART_NUM')\n",
      "====================================================================================================\n",
      "please order qty 1 98564-66572-sq nbd to my hal in lenexa . thank you . \n"
     ]
    },
    {
     "data": {
      "text/html": [
       "<span class=\"tex2jax_ignore\"><div class=\"entities\" style=\"line-height: 2.5; direction: ltr\">please order qty 1 \n",
       "<mark class=\"entity\" style=\"background: #92E0AA; padding: 0.45em 0.6em; margin: 0 0.25em; line-height: 1; border-radius: 0.35em;\">\n",
       "    98564-66572\n",
       "    <span style=\"font-size: 0.8em; font-weight: bold; line-height: 1; border-radius: 0.35em; vertical-align: middle; margin-left: 0.5rem\">PART_NUM</span>\n",
       "</mark>\n",
       "-sq nbd to my hal in lenexa . thank you . </div></span>"
      ],
      "text/plain": [
       "<IPython.core.display.HTML object>"
      ]
     },
     "metadata": {},
     "output_type": "display_data"
    },
    {
     "name": "stdout",
     "output_type": "stream",
     "text": [
      "------------------------- predict entities -------------------------\n",
      "('98564-66572', 19, 30, 'PART_NUM')\n",
      "====================================================================================================\n",
      "please order qty 1 1820-6361m nbd to my hal in lenexa . thank you . \n"
     ]
    },
    {
     "data": {
      "text/html": [
       "<span class=\"tex2jax_ignore\"><div class=\"entities\" style=\"line-height: 2.5; direction: ltr\">please order qty 1 \n",
       "<mark class=\"entity\" style=\"background: #92E0AA; padding: 0.45em 0.6em; margin: 0 0.25em; line-height: 1; border-radius: 0.35em;\">\n",
       "    1820-6361\n",
       "    <span style=\"font-size: 0.8em; font-weight: bold; line-height: 1; border-radius: 0.35em; vertical-align: middle; margin-left: 0.5rem\">PART_NUM</span>\n",
       "</mark>\n",
       "m nbd to my hal in lenexa . thank you . </div></span>"
      ],
      "text/plain": [
       "<IPython.core.display.HTML object>"
      ]
     },
     "metadata": {},
     "output_type": "display_data"
    },
    {
     "name": "stdout",
     "output_type": "stream",
     "text": [
      "------------------------- predict entities -------------------------\n",
      "('1820-6361', 19, 28, 'PART_NUM')\n",
      "====================================================================================================\n",
      "please order qty 1 3138-107-96160 nbd to my hal in lenexa . thank you . \n"
     ]
    },
    {
     "data": {
      "text/html": [
       "<span class=\"tex2jax_ignore\"><div class=\"entities\" style=\"line-height: 2.5; direction: ltr\">please order qty 1 \n",
       "<mark class=\"entity\" style=\"background: #92E0AA; padding: 0.45em 0.6em; margin: 0 0.25em; line-height: 1; border-radius: 0.35em;\">\n",
       "    3138-107\n",
       "    <span style=\"font-size: 0.8em; font-weight: bold; line-height: 1; border-radius: 0.35em; vertical-align: middle; margin-left: 0.5rem\">PART_NUM</span>\n",
       "</mark>\n",
       "-96160 nbd to my hal in lenexa . thank you . </div></span>"
      ],
      "text/plain": [
       "<IPython.core.display.HTML object>"
      ]
     },
     "metadata": {},
     "output_type": "display_data"
    },
    {
     "name": "stdout",
     "output_type": "stream",
     "text": [
      "------------------------- predict entities -------------------------\n",
      "('3138-107', 19, 27, 'PART_NUM')\n",
      "====================================================================================================\n",
      "please order qty 1 686858r-999 nbd to my hal in lenexa . thank you . \n"
     ]
    },
    {
     "data": {
      "text/html": [
       "<span class=\"tex2jax_ignore\"><div class=\"entities\" style=\"line-height: 2.5; direction: ltr\">please order qty 1 \n",
       "<mark class=\"entity\" style=\"background: #92E0AA; padding: 0.45em 0.6em; margin: 0 0.25em; line-height: 1; border-radius: 0.35em;\">\n",
       "    686858r-999 nbd to\n",
       "    <span style=\"font-size: 0.8em; font-weight: bold; line-height: 1; border-radius: 0.35em; vertical-align: middle; margin-left: 0.5rem\">PART_NUM</span>\n",
       "</mark>\n",
       " my hal in lenexa . thank you . </div></span>"
      ],
      "text/plain": [
       "<IPython.core.display.HTML object>"
      ]
     },
     "metadata": {},
     "output_type": "display_data"
    },
    {
     "name": "stdout",
     "output_type": "stream",
     "text": [
      "------------------------- predict entities -------------------------\n",
      "('686858r-999 nbd to', 19, 37, 'PART_NUM')\n",
      "====================================================================================================\n",
      "please order qty 1 del-7d092 nbd to my hal in lenexa . thank you . \n"
     ]
    },
    {
     "data": {
      "text/html": [
       "<span class=\"tex2jax_ignore\"><div class=\"entities\" style=\"line-height: 2.5; direction: ltr\">please order qty 1 del-7d092 nbd to my hal in lenexa . thank you . </div></span>"
      ],
      "text/plain": [
       "<IPython.core.display.HTML object>"
      ]
     },
     "metadata": {},
     "output_type": "display_data"
    },
    {
     "name": "stdout",
     "output_type": "stream",
     "text": [
      "====================================================================================================\n",
      "please order qty 1 sha-1625ds51 nbd to my hal in lenexa . thank you . \n"
     ]
    },
    {
     "data": {
      "text/html": [
       "<span class=\"tex2jax_ignore\"><div class=\"entities\" style=\"line-height: 2.5; direction: ltr\">please order qty 1 sha-1625ds51 nbd to my hal in lenexa . thank you . </div></span>"
      ],
      "text/plain": [
       "<IPython.core.display.HTML object>"
      ]
     },
     "metadata": {},
     "output_type": "display_data"
    },
    {
     "name": "stdout",
     "output_type": "stream",
     "text": [
      "====================================================================================================\n",
      "please order qty 1 xer-006r01275 nbd to my hal in lenexa . thank you . \n"
     ]
    },
    {
     "data": {
      "text/html": [
       "<span class=\"tex2jax_ignore\"><div class=\"entities\" style=\"line-height: 2.5; direction: ltr\">please order qty 1 xer-006r01275 nbd to my hal in lenexa . thank you . </div></span>"
      ],
      "text/plain": [
       "<IPython.core.display.HTML object>"
      ]
     },
     "metadata": {},
     "output_type": "display_data"
    },
    {
     "name": "stdout",
     "output_type": "stream",
     "text": [
      "====================================================================================================\n",
      "please order qty 1 bro-tn115bk nbd to my hal in lenexa . thank you . \n"
     ]
    },
    {
     "data": {
      "text/html": [
       "<span class=\"tex2jax_ignore\"><div class=\"entities\" style=\"line-height: 2.5; direction: ltr\">please order qty 1 bro-tn115bk nbd to my hal in lenexa . thank you . </div></span>"
      ],
      "text/plain": [
       "<IPython.core.display.HTML object>"
      ]
     },
     "metadata": {},
     "output_type": "display_data"
    },
    {
     "name": "stdout",
     "output_type": "stream",
     "text": [
      "====================================================================================================\n",
      "please order qty 1 del-310-5811 nbd to my hal in lenexa . thank you . \n"
     ]
    },
    {
     "data": {
      "text/html": [
       "<span class=\"tex2jax_ignore\"><div class=\"entities\" style=\"line-height: 2.5; direction: ltr\">please order qty 1 del-310-5811 nbd to my hal in lenexa . thank you . </div></span>"
      ],
      "text/plain": [
       "<IPython.core.display.HTML object>"
      ]
     },
     "metadata": {},
     "output_type": "display_data"
    },
    {
     "name": "stdout",
     "output_type": "stream",
     "text": [
      "====================================================================================================\n",
      "please order qty 1 del-pk496 nbd to my hal in lenexa . thank you . \n"
     ]
    },
    {
     "data": {
      "text/html": [
       "<span class=\"tex2jax_ignore\"><div class=\"entities\" style=\"line-height: 2.5; direction: ltr\">please order qty 1 del-pk496 nbd to my hal in lenexa . thank you . </div></span>"
      ],
      "text/plain": [
       "<IPython.core.display.HTML object>"
      ]
     },
     "metadata": {},
     "output_type": "display_data"
    },
    {
     "name": "stdout",
     "output_type": "stream",
     "text": [
      "====================================================================================================\n",
      "please order qty 1 kyo-dk-310h nbd to my hal in lenexa . thank you . \n"
     ]
    },
    {
     "data": {
      "text/html": [
       "<span class=\"tex2jax_ignore\"><div class=\"entities\" style=\"line-height: 2.5; direction: ltr\">please order qty 1 \n",
       "<mark class=\"entity\" style=\"background: #92E0AA; padding: 0.45em 0.6em; margin: 0 0.25em; line-height: 1; border-radius: 0.35em;\">\n",
       "    kyo-dk-310h nbd\n",
       "    <span style=\"font-size: 0.8em; font-weight: bold; line-height: 1; border-radius: 0.35em; vertical-align: middle; margin-left: 0.5rem\">PART_NUM</span>\n",
       "</mark>\n",
       " to my hal in lenexa . thank you . </div></span>"
      ],
      "text/plain": [
       "<IPython.core.display.HTML object>"
      ]
     },
     "metadata": {},
     "output_type": "display_data"
    },
    {
     "name": "stdout",
     "output_type": "stream",
     "text": [
      "------------------------- predict entities -------------------------\n",
      "('kyo-dk-310h nbd', 19, 34, 'PART_NUM')\n",
      "====================================================================================================\n",
      "please order qty 1 eps-c31cd38a9921 nbd to my hal in lenexa . thank you . \n"
     ]
    },
    {
     "data": {
      "text/html": [
       "<span class=\"tex2jax_ignore\"><div class=\"entities\" style=\"line-height: 2.5; direction: ltr\">please order qty 1 eps-c31cd38a9921 nbd to my hal in lenexa . thank you . </div></span>"
      ],
      "text/plain": [
       "<IPython.core.display.HTML object>"
      ]
     },
     "metadata": {},
     "output_type": "display_data"
    },
    {
     "name": "stdout",
     "output_type": "stream",
     "text": [
      "====================================================================================================\n",
      "please order qty 1 kyo-f994091h nbd to my hal in lenexa . thank you . \n"
     ]
    },
    {
     "data": {
      "text/html": [
       "<span class=\"tex2jax_ignore\"><div class=\"entities\" style=\"line-height: 2.5; direction: ltr\">please order qty 1 \n",
       "<mark class=\"entity\" style=\"background: #92E0AA; padding: 0.45em 0.6em; margin: 0 0.25em; line-height: 1; border-radius: 0.35em;\">\n",
       "    kyo-f994091h nbd\n",
       "    <span style=\"font-size: 0.8em; font-weight: bold; line-height: 1; border-radius: 0.35em; vertical-align: middle; margin-left: 0.5rem\">PART_NUM</span>\n",
       "</mark>\n",
       " to my hal in lenexa . thank you . </div></span>"
      ],
      "text/plain": [
       "<IPython.core.display.HTML object>"
      ]
     },
     "metadata": {},
     "output_type": "display_data"
    },
    {
     "name": "stdout",
     "output_type": "stream",
     "text": [
      "------------------------- predict entities -------------------------\n",
      "('kyo-f994091h nbd', 19, 35, 'PART_NUM')\n",
      "====================================================================================================\n",
      "please order qty 1 eps-ceps-003g nbd to my hal in lenexa . thank you . \n"
     ]
    },
    {
     "data": {
      "text/html": [
       "<span class=\"tex2jax_ignore\"><div class=\"entities\" style=\"line-height: 2.5; direction: ltr\">please order qty 1 eps-ceps-003g nbd to my hal in lenexa . thank you . </div></span>"
      ],
      "text/plain": [
       "<IPython.core.display.HTML object>"
      ]
     },
     "metadata": {},
     "output_type": "display_data"
    },
    {
     "name": "stdout",
     "output_type": "stream",
     "text": [
      "====================================================================================================\n",
      "please order qty 1 lex-24015sa nbd to my hal in lenexa . thank you . \n"
     ]
    },
    {
     "data": {
      "text/html": [
       "<span class=\"tex2jax_ignore\"><div class=\"entities\" style=\"line-height: 2.5; direction: ltr\">please order qty 1 lex-24015sa nbd to my hal in lenexa . thank you . </div></span>"
      ],
      "text/plain": [
       "<IPython.core.display.HTML object>"
      ]
     },
     "metadata": {},
     "output_type": "display_data"
    },
    {
     "name": "stdout",
     "output_type": "stream",
     "text": [
      "====================================================================================================\n",
      "please order qty 1 lex-801hc nbd to my hal in lenexa . thank you . \n"
     ]
    },
    {
     "data": {
      "text/html": [
       "<span class=\"tex2jax_ignore\"><div class=\"entities\" style=\"line-height: 2.5; direction: ltr\">please order qty 1 lex-801hc nbd to my hal in lenexa . thank you . </div></span>"
      ],
      "text/plain": [
       "<IPython.core.display.HTML object>"
      ]
     },
     "metadata": {},
     "output_type": "display_data"
    },
    {
     "name": "stdout",
     "output_type": "stream",
     "text": [
      "====================================================================================================\n",
      "please order qty 1 lex-c5220csh nbd to my hal in lenexa . thank you . \n"
     ]
    },
    {
     "data": {
      "text/html": [
       "<span class=\"tex2jax_ignore\"><div class=\"entities\" style=\"line-height: 2.5; direction: ltr\">please order qty 1 \n",
       "<mark class=\"entity\" style=\"background: #92E0AA; padding: 0.45em 0.6em; margin: 0 0.25em; line-height: 1; border-radius: 0.35em;\">\n",
       "    lex-c5220csh nbd\n",
       "    <span style=\"font-size: 0.8em; font-weight: bold; line-height: 1; border-radius: 0.35em; vertical-align: middle; margin-left: 0.5rem\">PART_NUM</span>\n",
       "</mark>\n",
       " to my hal in lenexa . thank you . </div></span>"
      ],
      "text/plain": [
       "<IPython.core.display.HTML object>"
      ]
     },
     "metadata": {},
     "output_type": "display_data"
    },
    {
     "name": "stdout",
     "output_type": "stream",
     "text": [
      "------------------------- predict entities -------------------------\n",
      "('lex-c5220csh nbd', 19, 35, 'PART_NUM')\n",
      "====================================================================================================\n",
      "please order qty 1 lex-c544x1cg nbd to my hal in lenexa . thank you . \n"
     ]
    },
    {
     "data": {
      "text/html": [
       "<span class=\"tex2jax_ignore\"><div class=\"entities\" style=\"line-height: 2.5; direction: ltr\">please order qty 1 \n",
       "<mark class=\"entity\" style=\"background: #92E0AA; padding: 0.45em 0.6em; margin: 0 0.25em; line-height: 1; border-radius: 0.35em;\">\n",
       "    lex-c544x1cg nbd\n",
       "    <span style=\"font-size: 0.8em; font-weight: bold; line-height: 1; border-radius: 0.35em; vertical-align: middle; margin-left: 0.5rem\">PART_NUM</span>\n",
       "</mark>\n",
       " to my hal in lenexa . thank you . </div></span>"
      ],
      "text/plain": [
       "<IPython.core.display.HTML object>"
      ]
     },
     "metadata": {},
     "output_type": "display_data"
    },
    {
     "name": "stdout",
     "output_type": "stream",
     "text": [
      "------------------------- predict entities -------------------------\n",
      "('lex-c544x1cg nbd', 19, 35, 'PART_NUM')\n",
      "====================================================================================================\n",
      "please order qty 1 hpe-749797-001 nbd to my hal in lenexa . thank you . \n"
     ]
    },
    {
     "data": {
      "text/html": [
       "<span class=\"tex2jax_ignore\"><div class=\"entities\" style=\"line-height: 2.5; direction: ltr\">please order qty 1 hpe-749797-001 nbd to my hal in lenexa . thank you . </div></span>"
      ],
      "text/plain": [
       "<IPython.core.display.HTML object>"
      ]
     },
     "metadata": {},
     "output_type": "display_data"
    },
    {
     "name": "stdout",
     "output_type": "stream",
     "text": [
      "====================================================================================================\n",
      "please order qty 1 sft-p-895 nbd to my hal in lenexa . thank you . \n"
     ]
    },
    {
     "data": {
      "text/html": [
       "<span class=\"tex2jax_ignore\"><div class=\"entities\" style=\"line-height: 2.5; direction: ltr\">please order qty 1 sft-p-895 nbd to my hal in lenexa . thank you . </div></span>"
      ],
      "text/plain": [
       "<IPython.core.display.HTML object>"
      ]
     },
     "metadata": {},
     "output_type": "display_data"
    },
    {
     "name": "stdout",
     "output_type": "stream",
     "text": [
      "====================================================================================================\n",
      "please order qty 1 lex-e260a21a-c nbd to my hal in lenexa . thank you . \n"
     ]
    },
    {
     "data": {
      "text/html": [
       "<span class=\"tex2jax_ignore\"><div class=\"entities\" style=\"line-height: 2.5; direction: ltr\">please order qty 1 \n",
       "<mark class=\"entity\" style=\"background: #92E0AA; padding: 0.45em 0.6em; margin: 0 0.25em; line-height: 1; border-radius: 0.35em;\">\n",
       "    lex-e260a21a-\n",
       "    <span style=\"font-size: 0.8em; font-weight: bold; line-height: 1; border-radius: 0.35em; vertical-align: middle; margin-left: 0.5rem\">PART_NUM</span>\n",
       "</mark>\n",
       "c nbd to my hal in lenexa . thank you . </div></span>"
      ],
      "text/plain": [
       "<IPython.core.display.HTML object>"
      ]
     },
     "metadata": {},
     "output_type": "display_data"
    },
    {
     "name": "stdout",
     "output_type": "stream",
     "text": [
      "------------------------- predict entities -------------------------\n",
      "('lex-e260a21a-', 19, 32, 'PART_NUM')\n",
      "====================================================================================================\n",
      "please order qty 1 ric-d0296509 nbd to my hal in lenexa . thank you . \n"
     ]
    },
    {
     "data": {
      "text/html": [
       "<span class=\"tex2jax_ignore\"><div class=\"entities\" style=\"line-height: 2.5; direction: ltr\">please order qty 1 \n",
       "<mark class=\"entity\" style=\"background: #92E0AA; padding: 0.45em 0.6em; margin: 0 0.25em; line-height: 1; border-radius: 0.35em;\">\n",
       "    ric-d0296509 nbd\n",
       "    <span style=\"font-size: 0.8em; font-weight: bold; line-height: 1; border-radius: 0.35em; vertical-align: middle; margin-left: 0.5rem\">PART_NUM</span>\n",
       "</mark>\n",
       " to my hal in lenexa . thank you . </div></span>"
      ],
      "text/plain": [
       "<IPython.core.display.HTML object>"
      ]
     },
     "metadata": {},
     "output_type": "display_data"
    },
    {
     "name": "stdout",
     "output_type": "stream",
     "text": [
      "------------------------- predict entities -------------------------\n",
      "('ric-d0296509 nbd', 19, 35, 'PART_NUM')\n",
      "====================================================================================================\n",
      "please order qty 1 sea-st1000lm049 nbd to my hal in lenexa . thank you . \n"
     ]
    },
    {
     "data": {
      "text/html": [
       "<span class=\"tex2jax_ignore\"><div class=\"entities\" style=\"line-height: 2.5; direction: ltr\">please order qty 1 sea-st1000lm049 nbd to my hal in lenexa . thank you . </div></span>"
      ],
      "text/plain": [
       "<IPython.core.display.HTML object>"
      ]
     },
     "metadata": {},
     "output_type": "display_data"
    },
    {
     "name": "stdout",
     "output_type": "stream",
     "text": [
      "====================================================================================================\n",
      "please order qty 1 hpe-jl258a nbd to my hal in lenexa . thank you . \n"
     ]
    },
    {
     "data": {
      "text/html": [
       "<span class=\"tex2jax_ignore\"><div class=\"entities\" style=\"line-height: 2.5; direction: ltr\">please order qty 1 hpe-jl258a nbd to my hal in lenexa . thank you . </div></span>"
      ],
      "text/plain": [
       "<IPython.core.display.HTML object>"
      ]
     },
     "metadata": {},
     "output_type": "display_data"
    },
    {
     "name": "stdout",
     "output_type": "stream",
     "text": [
      "====================================================================================================\n",
      "please order qty 1 ric-400507 nbd to my hal in lenexa . thank you . \n"
     ]
    },
    {
     "data": {
      "text/html": [
       "<span class=\"tex2jax_ignore\"><div class=\"entities\" style=\"line-height: 2.5; direction: ltr\">please order qty 1 ric-400507 nbd to my hal in lenexa . thank you . </div></span>"
      ],
      "text/plain": [
       "<IPython.core.display.HTML object>"
      ]
     },
     "metadata": {},
     "output_type": "display_data"
    },
    {
     "name": "stdout",
     "output_type": "stream",
     "text": [
      "====================================================================================================\n",
      "please order qty 1 fuj-fpcpr362aq nbd to my hal in lenexa . thank you . \n"
     ]
    },
    {
     "data": {
      "text/html": [
       "<span class=\"tex2jax_ignore\"><div class=\"entities\" style=\"line-height: 2.5; direction: ltr\">please order qty 1 fuj-fpcpr362aq nbd to my hal in lenexa . thank you . </div></span>"
      ],
      "text/plain": [
       "<IPython.core.display.HTML object>"
      ]
     },
     "metadata": {},
     "output_type": "display_data"
    },
    {
     "name": "stdout",
     "output_type": "stream",
     "text": [
      "====================================================================================================\n",
      "please order qty 1 tos-6le8296100 nbd to my hal in lenexa . thank you . \n"
     ]
    },
    {
     "data": {
      "text/html": [
       "<span class=\"tex2jax_ignore\"><div class=\"entities\" style=\"line-height: 2.5; direction: ltr\">please order qty 1 tos-6le8296100 nbd to my hal in lenexa . thank you . </div></span>"
      ],
      "text/plain": [
       "<IPython.core.display.HTML object>"
      ]
     },
     "metadata": {},
     "output_type": "display_data"
    },
    {
     "name": "stdout",
     "output_type": "stream",
     "text": [
      "====================================================================================================\n",
      "please order qty 1 xer-116111500 nbd to my hal in lenexa . thank you . \n"
     ]
    },
    {
     "data": {
      "text/html": [
       "<span class=\"tex2jax_ignore\"><div class=\"entities\" style=\"line-height: 2.5; direction: ltr\">please order qty 1 xer-116111500 nbd to my hal in lenexa . thank you . </div></span>"
      ],
      "text/plain": [
       "<IPython.core.display.HTML object>"
      ]
     },
     "metadata": {},
     "output_type": "display_data"
    },
    {
     "name": "stdout",
     "output_type": "stream",
     "text": [
      "====================================================================================================\n",
      "please order qty 1 ats-2711fxsc-901 nbd to my hal in lenexa . thank you . \n"
     ]
    },
    {
     "data": {
      "text/html": [
       "<span class=\"tex2jax_ignore\"><div class=\"entities\" style=\"line-height: 2.5; direction: ltr\">please order qty 1 ats-2711fxsc-901 nbd to my hal in lenexa . thank you . </div></span>"
      ],
      "text/plain": [
       "<IPython.core.display.HTML object>"
      ]
     },
     "metadata": {},
     "output_type": "display_data"
    },
    {
     "name": "stdout",
     "output_type": "stream",
     "text": [
      "====================================================================================================\n",
      "please order qty 1 bro-tn336bk nbd to my hal in lenexa . thank you . \n"
     ]
    },
    {
     "data": {
      "text/html": [
       "<span class=\"tex2jax_ignore\"><div class=\"entities\" style=\"line-height: 2.5; direction: ltr\">please order qty 1 bro-tn336bk nbd to my hal in lenexa . thank you . </div></span>"
      ],
      "text/plain": [
       "<IPython.core.display.HTML object>"
      ]
     },
     "metadata": {},
     "output_type": "display_data"
    },
    {
     "name": "stdout",
     "output_type": "stream",
     "text": [
      "====================================================================================================\n",
      "please order qty 1 del-310-5807 nbd to my hal in lenexa . thank you . \n"
     ]
    },
    {
     "data": {
      "text/html": [
       "<span class=\"tex2jax_ignore\"><div class=\"entities\" style=\"line-height: 2.5; direction: ltr\">please order qty 1 del-310-5807 nbd to my hal in lenexa . thank you . </div></span>"
      ],
      "text/plain": [
       "<IPython.core.display.HTML object>"
      ]
     },
     "metadata": {},
     "output_type": "display_data"
    },
    {
     "name": "stdout",
     "output_type": "stream",
     "text": [
      "====================================================================================================\n",
      "please order qty 1 hpi-cf258a-m nbd to my hal in lenexa . thank you . \n"
     ]
    },
    {
     "data": {
      "text/html": [
       "<span class=\"tex2jax_ignore\"><div class=\"entities\" style=\"line-height: 2.5; direction: ltr\">please order qty 1 hpi-cf258a-m nbd to my hal in lenexa . thank you . </div></span>"
      ],
      "text/plain": [
       "<IPython.core.display.HTML object>"
      ]
     },
     "metadata": {},
     "output_type": "display_data"
    },
    {
     "name": "stdout",
     "output_type": "stream",
     "text": [
      "====================================================================================================\n",
      "please order qty 1 del-9pn5p nbd to my hal in lenexa . thank you . \n"
     ]
    },
    {
     "data": {
      "text/html": [
       "<span class=\"tex2jax_ignore\"><div class=\"entities\" style=\"line-height: 2.5; direction: ltr\">please order qty 1 del-9pn5p nbd to my hal in lenexa . thank you . </div></span>"
      ],
      "text/plain": [
       "<IPython.core.display.HTML object>"
      ]
     },
     "metadata": {},
     "output_type": "display_data"
    },
    {
     "name": "stdout",
     "output_type": "stream",
     "text": [
      "====================================================================================================\n",
      "please order qty 1 apc-rbc7 nbd to my hal in lenexa . thank you . \n"
     ]
    },
    {
     "data": {
      "text/html": [
       "<span class=\"tex2jax_ignore\"><div class=\"entities\" style=\"line-height: 2.5; direction: ltr\">please order qty 1 apc-rbc7 nbd to my hal in lenexa . thank you . </div></span>"
      ],
      "text/plain": [
       "<IPython.core.display.HTML object>"
      ]
     },
     "metadata": {},
     "output_type": "display_data"
    },
    {
     "name": "stdout",
     "output_type": "stream",
     "text": [
      "====================================================================================================\n",
      "please order qty 1 sxc-c7abttaab nbd to my hal in lenexa . thank you . \n"
     ]
    },
    {
     "data": {
      "text/html": [
       "<span class=\"tex2jax_ignore\"><div class=\"entities\" style=\"line-height: 2.5; direction: ltr\">please order qty 1 sxc-c7abttaab nbd to my hal in lenexa . thank you . </div></span>"
      ],
      "text/plain": [
       "<IPython.core.display.HTML object>"
      ]
     },
     "metadata": {},
     "output_type": "display_data"
    },
    {
     "name": "stdout",
     "output_type": "stream",
     "text": [
      "====================================================================================================\n",
      "please order qty 1 tro-04621201 nbd to my hal in lenexa . thank you . \n"
     ]
    },
    {
     "data": {
      "text/html": [
       "<span class=\"tex2jax_ignore\"><div class=\"entities\" style=\"line-height: 2.5; direction: ltr\">please order qty 1 tro-04621201 nbd to my hal in lenexa . thank you . </div></span>"
      ],
      "text/plain": [
       "<IPython.core.display.HTML object>"
      ]
     },
     "metadata": {},
     "output_type": "display_data"
    },
    {
     "name": "stdout",
     "output_type": "stream",
     "text": [
      "====================================================================================================\n",
      "please order qty 1 vef-28924-04-r nbd to my hal in lenexa . thank you . \n"
     ]
    },
    {
     "data": {
      "text/html": [
       "<span class=\"tex2jax_ignore\"><div class=\"entities\" style=\"line-height: 2.5; direction: ltr\">please order qty 1 vef-28924-04-r nbd to my hal in lenexa . thank you . </div></span>"
      ],
      "text/plain": [
       "<IPython.core.display.HTML object>"
      ]
     },
     "metadata": {},
     "output_type": "display_data"
    },
    {
     "name": "stdout",
     "output_type": "stream",
     "text": [
      "====================================================================================================\n",
      "please order qty 1 wfp-hpm527z nbd to my hal in lenexa . thank you . \n"
     ]
    },
    {
     "data": {
      "text/html": [
       "<span class=\"tex2jax_ignore\"><div class=\"entities\" style=\"line-height: 2.5; direction: ltr\">please order qty 1 wfp-hpm527z nbd to my hal in lenexa . thank you . </div></span>"
      ],
      "text/plain": [
       "<IPython.core.display.HTML object>"
      ]
     },
     "metadata": {},
     "output_type": "display_data"
    },
    {
     "name": "stdout",
     "output_type": "stream",
     "text": [
      "====================================================================================================\n",
      "please order qty 1 apc-sua1500rm2u nbd to my hal in lenexa . thank you . \n"
     ]
    },
    {
     "data": {
      "text/html": [
       "<span class=\"tex2jax_ignore\"><div class=\"entities\" style=\"line-height: 2.5; direction: ltr\">please order qty 1 apc-sua1500rm2u nbd to my hal in lenexa . thank you . </div></span>"
      ],
      "text/plain": [
       "<IPython.core.display.HTML object>"
      ]
     },
     "metadata": {},
     "output_type": "display_data"
    },
    {
     "name": "stdout",
     "output_type": "stream",
     "text": [
      "====================================================================================================\n",
      "please order qty 1 hpe-jh329-61001 nbd to my hal in lenexa . thank you . \n"
     ]
    },
    {
     "data": {
      "text/html": [
       "<span class=\"tex2jax_ignore\"><div class=\"entities\" style=\"line-height: 2.5; direction: ltr\">please order qty 1 hpe-jh329-61001 nbd to my hal in lenexa . thank you . </div></span>"
      ],
      "text/plain": [
       "<IPython.core.display.HTML object>"
      ]
     },
     "metadata": {},
     "output_type": "display_data"
    },
    {
     "name": "stdout",
     "output_type": "stream",
     "text": [
      "====================================================================================================\n",
      "please order qty 1 leb-04x4674 nbd to my hal in lenexa . thank you . \n"
     ]
    },
    {
     "data": {
      "text/html": [
       "<span class=\"tex2jax_ignore\"><div class=\"entities\" style=\"line-height: 2.5; direction: ltr\">please order qty 1 leb-04x4674 nbd to my hal in lenexa . thank you . </div></span>"
      ],
      "text/plain": [
       "<IPython.core.display.HTML object>"
      ]
     },
     "metadata": {},
     "output_type": "display_data"
    },
    {
     "name": "stdout",
     "output_type": "stream",
     "text": [
      "====================================================================================================\n",
      "please order qty 1 del-v1rx3 nbd to my hal in lenexa . thank you . \n"
     ]
    },
    {
     "data": {
      "text/html": [
       "<span class=\"tex2jax_ignore\"><div class=\"entities\" style=\"line-height: 2.5; direction: ltr\">please order qty 1 del-v1rx3 nbd to my hal in lenexa . thank you . </div></span>"
      ],
      "text/plain": [
       "<IPython.core.display.HTML object>"
      ]
     },
     "metadata": {},
     "output_type": "display_data"
    },
    {
     "name": "stdout",
     "output_type": "stream",
     "text": [
      "====================================================================================================\n",
      "please order qty 1 tos-6lh3460800 nbd to my hal in lenexa . thank you . \n"
     ]
    },
    {
     "data": {
      "text/html": [
       "<span class=\"tex2jax_ignore\"><div class=\"entities\" style=\"line-height: 2.5; direction: ltr\">please order qty 1 tos-6lh3460800 nbd to my hal in lenexa . thank you . </div></span>"
      ],
      "text/plain": [
       "<IPython.core.display.HTML object>"
      ]
     },
     "metadata": {},
     "output_type": "display_data"
    },
    {
     "name": "stdout",
     "output_type": "stream",
     "text": [
      "====================================================================================================\n",
      "please order qty 1 ric-ae020171 nbd to my hal in lenexa . thank you . \n"
     ]
    },
    {
     "data": {
      "text/html": [
       "<span class=\"tex2jax_ignore\"><div class=\"entities\" style=\"line-height: 2.5; direction: ltr\">please order qty 1 \n",
       "<mark class=\"entity\" style=\"background: #92E0AA; padding: 0.45em 0.6em; margin: 0 0.25em; line-height: 1; border-radius: 0.35em;\">\n",
       "    ric-ae020171 nbd\n",
       "    <span style=\"font-size: 0.8em; font-weight: bold; line-height: 1; border-radius: 0.35em; vertical-align: middle; margin-left: 0.5rem\">PART_NUM</span>\n",
       "</mark>\n",
       " to my hal in lenexa . thank you . </div></span>"
      ],
      "text/plain": [
       "<IPython.core.display.HTML object>"
      ]
     },
     "metadata": {},
     "output_type": "display_data"
    },
    {
     "name": "stdout",
     "output_type": "stream",
     "text": [
      "------------------------- predict entities -------------------------\n",
      "('ric-ae020171 nbd', 19, 35, 'PART_NUM')\n",
      "====================================================================================================\n",
      "please order qty 1 xer-59k60140 nbd to my hal in lenexa . thank you . \n"
     ]
    },
    {
     "data": {
      "text/html": [
       "<span class=\"tex2jax_ignore\"><div class=\"entities\" style=\"line-height: 2.5; direction: ltr\">please order qty 1 xer-59k60140 nbd to my hal in lenexa . thank you . </div></span>"
      ],
      "text/plain": [
       "<IPython.core.display.HTML object>"
      ]
     },
     "metadata": {},
     "output_type": "display_data"
    },
    {
     "name": "stdout",
     "output_type": "stream",
     "text": [
      "====================================================================================================\n",
      "please order qty 1 bro-lm5140001 nbd to my hal in lenexa . thank you . \n"
     ]
    },
    {
     "data": {
      "text/html": [
       "<span class=\"tex2jax_ignore\"><div class=\"entities\" style=\"line-height: 2.5; direction: ltr\">please order qty 1 bro-lm5140001 nbd to my hal in lenexa . thank you . </div></span>"
      ],
      "text/plain": [
       "<IPython.core.display.HTML object>"
      ]
     },
     "metadata": {},
     "output_type": "display_data"
    },
    {
     "name": "stdout",
     "output_type": "stream",
     "text": [
      "====================================================================================================\n",
      "please order qty 1 kmh-a00ja56600 nbd to my hal in lenexa . thank you . \n"
     ]
    },
    {
     "data": {
      "text/html": [
       "<span class=\"tex2jax_ignore\"><div class=\"entities\" style=\"line-height: 2.5; direction: ltr\">please order qty 1 kmh-a00ja56600 nbd to my hal in lenexa . thank you . </div></span>"
      ],
      "text/plain": [
       "<IPython.core.display.HTML object>"
      ]
     },
     "metadata": {},
     "output_type": "display_data"
    },
    {
     "name": "stdout",
     "output_type": "stream",
     "text": [
      "====================================================================================================\n",
      "please order qty 1 bro-lem084001 nbd to my hal in lenexa . thank you . \n"
     ]
    },
    {
     "data": {
      "text/html": [
       "<span class=\"tex2jax_ignore\"><div class=\"entities\" style=\"line-height: 2.5; direction: ltr\">please order qty 1 bro-lem084001 nbd to my hal in lenexa . thank you . </div></span>"
      ],
      "text/plain": [
       "<IPython.core.display.HTML object>"
      ]
     },
     "metadata": {},
     "output_type": "display_data"
    },
    {
     "name": "stdout",
     "output_type": "stream",
     "text": [
      "====================================================================================================\n",
      "please order qty 1 bro-bu100clh nbd to my hal in lenexa . thank you . \n"
     ]
    },
    {
     "data": {
      "text/html": [
       "<span class=\"tex2jax_ignore\"><div class=\"entities\" style=\"line-height: 2.5; direction: ltr\">please order qty 1 bro-bu100clh nbd to my hal in lenexa . thank you . </div></span>"
      ],
      "text/plain": [
       "<IPython.core.display.HTML object>"
      ]
     },
     "metadata": {},
     "output_type": "display_data"
    },
    {
     "name": "stdout",
     "output_type": "stream",
     "text": [
      "====================================================================================================\n",
      "please order qty 1 3x-lk465-a2 nbd to my hal in lenexa . thank you . \n"
     ]
    },
    {
     "data": {
      "text/html": [
       "<span class=\"tex2jax_ignore\"><div class=\"entities\" style=\"line-height: 2.5; direction: ltr\">please order qty 1 3x-lk465-a2 nbd to my hal in lenexa . thank you . </div></span>"
      ],
      "text/plain": [
       "<IPython.core.display.HTML object>"
      ]
     },
     "metadata": {},
     "output_type": "display_data"
    },
    {
     "name": "stdout",
     "output_type": "stream",
     "text": [
      "====================================================================================================\n",
      "please order qty 1 sha-vhi0mfp000 nbd to my hal in lenexa . thank you . \n"
     ]
    },
    {
     "data": {
      "text/html": [
       "<span class=\"tex2jax_ignore\"><div class=\"entities\" style=\"line-height: 2.5; direction: ltr\">please order qty 1 sha-vhi0mfp000 nbd to my hal in lenexa . thank you . </div></span>"
      ],
      "text/plain": [
       "<IPython.core.display.HTML object>"
      ]
     },
     "metadata": {},
     "output_type": "display_data"
    },
    {
     "name": "stdout",
     "output_type": "stream",
     "text": [
      "====================================================================================================\n",
      "please order qty 1 tos-c017839000 nbd to my hal in lenexa . thank you . \n"
     ]
    },
    {
     "data": {
      "text/html": [
       "<span class=\"tex2jax_ignore\"><div class=\"entities\" style=\"line-height: 2.5; direction: ltr\">please order qty 1 tos-c017839000 nbd to my hal in lenexa . thank you . </div></span>"
      ],
      "text/plain": [
       "<IPython.core.display.HTML object>"
      ]
     },
     "metadata": {},
     "output_type": "display_data"
    },
    {
     "name": "stdout",
     "output_type": "stream",
     "text": [
      "====================================================================================================\n",
      "please order qty 1 xer-3335dni nbd to my hal in lenexa . thank you . \n"
     ]
    },
    {
     "data": {
      "text/html": [
       "<span class=\"tex2jax_ignore\"><div class=\"entities\" style=\"line-height: 2.5; direction: ltr\">please order qty 1 xer-3335dni nbd to my hal in lenexa . thank you . </div></span>"
      ],
      "text/plain": [
       "<IPython.core.display.HTML object>"
      ]
     },
     "metadata": {},
     "output_type": "display_data"
    },
    {
     "name": "stdout",
     "output_type": "stream",
     "text": [
      "====================================================================================================\n",
      "please order qty 1 xer-3635mfp-s nbd to my hal in lenexa . thank you . \n"
     ]
    },
    {
     "data": {
      "text/html": [
       "<span class=\"tex2jax_ignore\"><div class=\"entities\" style=\"line-height: 2.5; direction: ltr\">please order qty 1 xer-3635mfp-s nbd to my hal in lenexa . thank you . </div></span>"
      ],
      "text/plain": [
       "<IPython.core.display.HTML object>"
      ]
     },
     "metadata": {},
     "output_type": "display_data"
    },
    {
     "name": "stdout",
     "output_type": "stream",
     "text": [
      "====================================================================================================\n",
      "please order qty 1 xer-4622dn nbd to my hal in lenexa . thank you . \n"
     ]
    },
    {
     "data": {
      "text/html": [
       "<span class=\"tex2jax_ignore\"><div class=\"entities\" style=\"line-height: 2.5; direction: ltr\">please order qty 1 xer-4622dn nbd to my hal in lenexa . thank you . </div></span>"
      ],
      "text/plain": [
       "<IPython.core.display.HTML object>"
      ]
     },
     "metadata": {},
     "output_type": "display_data"
    },
    {
     "name": "stdout",
     "output_type": "stream",
     "text": [
      "====================================================================================================\n",
      "please order qty 1 del-p637d nbd to my hal in lenexa . thank you . \n"
     ]
    },
    {
     "data": {
      "text/html": [
       "<span class=\"tex2jax_ignore\"><div class=\"entities\" style=\"line-height: 2.5; direction: ltr\">please order qty 1 del-p637d nbd to my hal in lenexa . thank you . </div></span>"
      ],
      "text/plain": [
       "<IPython.core.display.HTML object>"
      ]
     },
     "metadata": {},
     "output_type": "display_data"
    },
    {
     "name": "stdout",
     "output_type": "stream",
     "text": [
      "====================================================================================================\n",
      "please order qty 1 sha-cpltm8190f nbd to my hal in lenexa . thank you . \n"
     ]
    },
    {
     "data": {
      "text/html": [
       "<span class=\"tex2jax_ignore\"><div class=\"entities\" style=\"line-height: 2.5; direction: ltr\">please order qty 1 sha-cpltm8190f nbd to my hal in lenexa . thank you . </div></span>"
      ],
      "text/plain": [
       "<IPython.core.display.HTML object>"
      ]
     },
     "metadata": {},
     "output_type": "display_data"
    },
    {
     "name": "stdout",
     "output_type": "stream",
     "text": [
      "====================================================================================================\n",
      "please order qty 1 shacfrm-1380ds53 nbd to my hal in lenexa . thank you . \n"
     ]
    },
    {
     "data": {
      "text/html": [
       "<span class=\"tex2jax_ignore\"><div class=\"entities\" style=\"line-height: 2.5; direction: ltr\">please order qty 1 shacfrm-1380ds53 nbd to my hal in lenexa . thank you . </div></span>"
      ],
      "text/plain": [
       "<IPython.core.display.HTML object>"
      ]
     },
     "metadata": {},
     "output_type": "display_data"
    },
    {
     "name": "stdout",
     "output_type": "stream",
     "text": [
      "====================================================================================================\n",
      "please order qty 1 xer-401-0855-0 nbd to my hal in lenexa . thank you . \n"
     ]
    },
    {
     "data": {
      "text/html": [
       "<span class=\"tex2jax_ignore\"><div class=\"entities\" style=\"line-height: 2.5; direction: ltr\">please order qty 1 xer-401-0855-0 nbd to my hal in lenexa . thank you . </div></span>"
      ],
      "text/plain": [
       "<IPython.core.display.HTML object>"
      ]
     },
     "metadata": {},
     "output_type": "display_data"
    },
    {
     "name": "stdout",
     "output_type": "stream",
     "text": [
      "====================================================================================================\n",
      "please order qty 1 bro-lf6710001 nbd to my hal in lenexa . thank you . \n"
     ]
    },
    {
     "data": {
      "text/html": [
       "<span class=\"tex2jax_ignore\"><div class=\"entities\" style=\"line-height: 2.5; direction: ltr\">please order qty 1 \n",
       "<mark class=\"entity\" style=\"background: #92E0AA; padding: 0.45em 0.6em; margin: 0 0.25em; line-height: 1; border-radius: 0.35em;\">\n",
       "    bro-lf6710001 nbd\n",
       "    <span style=\"font-size: 0.8em; font-weight: bold; line-height: 1; border-radius: 0.35em; vertical-align: middle; margin-left: 0.5rem\">PART_NUM</span>\n",
       "</mark>\n",
       " to my hal in lenexa . thank you . </div></span>"
      ],
      "text/plain": [
       "<IPython.core.display.HTML object>"
      ]
     },
     "metadata": {},
     "output_type": "display_data"
    },
    {
     "name": "stdout",
     "output_type": "stream",
     "text": [
      "------------------------- predict entities -------------------------\n",
      "('bro-lf6710001 nbd', 19, 36, 'PART_NUM')\n",
      "====================================================================================================\n",
      "please order qty 1 q3938-68001-pca nbd to my hal in lenexa . thank you . \n"
     ]
    },
    {
     "data": {
      "text/html": [
       "<span class=\"tex2jax_ignore\"><div class=\"entities\" style=\"line-height: 2.5; direction: ltr\">please order qty 1 \n",
       "<mark class=\"entity\" style=\"background: #92E0AA; padding: 0.45em 0.6em; margin: 0 0.25em; line-height: 1; border-radius: 0.35em;\">\n",
       "    q3938-68001\n",
       "    <span style=\"font-size: 0.8em; font-weight: bold; line-height: 1; border-radius: 0.35em; vertical-align: middle; margin-left: 0.5rem\">PART_NUM</span>\n",
       "</mark>\n",
       "-pca nbd to my hal in lenexa . thank you . </div></span>"
      ],
      "text/plain": [
       "<IPython.core.display.HTML object>"
      ]
     },
     "metadata": {},
     "output_type": "display_data"
    },
    {
     "name": "stdout",
     "output_type": "stream",
     "text": [
      "------------------------- predict entities -------------------------\n",
      "('q3938-68001', 19, 30, 'PART_NUM')\n",
      "====================================================================================================\n",
      "please order qty 1 c314x+49a-90002 nbd to my hal in lenexa . thank you . \n"
     ]
    },
    {
     "data": {
      "text/html": [
       "<span class=\"tex2jax_ignore\"><div class=\"entities\" style=\"line-height: 2.5; direction: ltr\">please order qty 1 c314x+49a-90002 nbd to my hal in lenexa . thank you . </div></span>"
      ],
      "text/plain": [
       "<IPython.core.display.HTML object>"
      ]
     },
     "metadata": {},
     "output_type": "display_data"
    },
    {
     "name": "stdout",
     "output_type": "stream",
     "text": [
      "====================================================================================================\n",
      "please order qty 1 20er-84530kc nbd to my hal in lenexa . thank you . \n"
     ]
    },
    {
     "data": {
      "text/html": [
       "<span class=\"tex2jax_ignore\"><div class=\"entities\" style=\"line-height: 2.5; direction: ltr\">please order qty 1 20er-84530kc nbd to my hal in lenexa . thank you . </div></span>"
      ],
      "text/plain": [
       "<IPython.core.display.HTML object>"
      ]
     },
     "metadata": {},
     "output_type": "display_data"
    },
    {
     "name": "stdout",
     "output_type": "stream",
     "text": [
      "====================================================================================================\n",
      "please order qty 1 del-fm235 nbd to my hal in lenexa . thank you . \n"
     ]
    },
    {
     "data": {
      "text/html": [
       "<span class=\"tex2jax_ignore\"><div class=\"entities\" style=\"line-height: 2.5; direction: ltr\">please order qty 1 del-fm235 nbd to my hal in lenexa . thank you . </div></span>"
      ],
      "text/plain": [
       "<IPython.core.display.HTML object>"
      ]
     },
     "metadata": {},
     "output_type": "display_data"
    },
    {
     "name": "stdout",
     "output_type": "stream",
     "text": [
      "====================================================================================================\n",
      "please order qty 1 shacfrm-1509ds52 nbd to my hal in lenexa . thank you . \n"
     ]
    },
    {
     "data": {
      "text/html": [
       "<span class=\"tex2jax_ignore\"><div class=\"entities\" style=\"line-height: 2.5; direction: ltr\">please order qty 1 shacfrm-1509ds52 nbd to my hal in lenexa . thank you . </div></span>"
      ],
      "text/plain": [
       "<IPython.core.display.HTML object>"
      ]
     },
     "metadata": {},
     "output_type": "display_data"
    },
    {
     "name": "stdout",
     "output_type": "stream",
     "text": [
      "====================================================================================================\n",
      "please order qty 1 shadhai-5043fcpz nbd to my hal in lenexa . thank you . \n"
     ]
    },
    {
     "data": {
      "text/html": [
       "<span class=\"tex2jax_ignore\"><div class=\"entities\" style=\"line-height: 2.5; direction: ltr\">please order qty 1 shadhai-5043fcpz nbd to my hal in lenexa . thank you . </div></span>"
      ],
      "text/plain": [
       "<IPython.core.display.HTML object>"
      ]
     },
     "metadata": {},
     "output_type": "display_data"
    },
    {
     "name": "stdout",
     "output_type": "stream",
     "text": [
      "====================================================================================================\n",
      "please order qty 1 shagcab-1102fcb1 nbd to my hal in lenexa . thank you . \n"
     ]
    },
    {
     "data": {
      "text/html": [
       "<span class=\"tex2jax_ignore\"><div class=\"entities\" style=\"line-height: 2.5; direction: ltr\">please order qty 1 shagcab-1102fcb1 nbd to my hal in lenexa . thank you . </div></span>"
      ],
      "text/plain": [
       "<IPython.core.display.HTML object>"
      ]
     },
     "metadata": {},
     "output_type": "display_data"
    },
    {
     "name": "stdout",
     "output_type": "stream",
     "text": [
      "====================================================================================================\n",
      "please order qty 1 000-50-02-008 nbd to my hal in lenexa . thank you . \n"
     ]
    },
    {
     "data": {
      "text/html": [
       "<span class=\"tex2jax_ignore\"><div class=\"entities\" style=\"line-height: 2.5; direction: ltr\">please order qty 1 \n",
       "<mark class=\"entity\" style=\"background: #92E0AA; padding: 0.45em 0.6em; margin: 0 0.25em; line-height: 1; border-radius: 0.35em;\">\n",
       "    000-50-02\n",
       "    <span style=\"font-size: 0.8em; font-weight: bold; line-height: 1; border-radius: 0.35em; vertical-align: middle; margin-left: 0.5rem\">PART_NUM</span>\n",
       "</mark>\n",
       "-008 nbd to my hal in lenexa . thank you . </div></span>"
      ],
      "text/plain": [
       "<IPython.core.display.HTML object>"
      ]
     },
     "metadata": {},
     "output_type": "display_data"
    },
    {
     "name": "stdout",
     "output_type": "stream",
     "text": [
      "------------------------- predict entities -------------------------\n",
      "('000-50-02', 19, 28, 'PART_NUM')\n",
      "====================================================================================================\n",
      "please order qty 1 shavhplg217l5a-1 nbd to my hal in lenexa . thank you . \n"
     ]
    },
    {
     "data": {
      "text/html": [
       "<span class=\"tex2jax_ignore\"><div class=\"entities\" style=\"line-height: 2.5; direction: ltr\">please order qty 1 shavhplg217l5a-1 nbd to my hal in lenexa . thank you . </div></span>"
      ],
      "text/plain": [
       "<IPython.core.display.HTML object>"
      ]
     },
     "metadata": {},
     "output_type": "display_data"
    },
    {
     "name": "stdout",
     "output_type": "stream",
     "text": [
      "====================================================================================================\n",
      "please order qty 1 shavhposh03y02-1 nbd to my hal in lenexa . thank you . \n"
     ]
    },
    {
     "data": {
      "text/html": [
       "<span class=\"tex2jax_ignore\"><div class=\"entities\" style=\"line-height: 2.5; direction: ltr\">please order qty 1 shavhposh03y02-1 nbd to my hal in lenexa . thank you . </div></span>"
      ],
      "text/plain": [
       "<IPython.core.display.HTML object>"
      ]
     },
     "metadata": {},
     "output_type": "display_data"
    },
    {
     "name": "stdout",
     "output_type": "stream",
     "text": [
      "====================================================================================================\n",
      "please order qty 1 shadunt-8962fcp1 nbd to my hal in lenexa . thank you . \n"
     ]
    },
    {
     "data": {
      "text/html": [
       "<span class=\"tex2jax_ignore\"><div class=\"entities\" style=\"line-height: 2.5; direction: ltr\">please order qty 1 shadunt-8962fcp1 nbd to my hal in lenexa . thank you . </div></span>"
      ],
      "text/plain": [
       "<IPython.core.display.HTML object>"
      ]
     },
     "metadata": {},
     "output_type": "display_data"
    },
    {
     "name": "stdout",
     "output_type": "stream",
     "text": [
      "====================================================================================================\n",
      "please order qty 1 shaki-ok0010fcpz nbd to my hal in lenexa . thank you . \n"
     ]
    },
    {
     "data": {
      "text/html": [
       "<span class=\"tex2jax_ignore\"><div class=\"entities\" style=\"line-height: 2.5; direction: ltr\">please order qty 1 \n",
       "<mark class=\"entity\" style=\"background: #92E0AA; padding: 0.45em 0.6em; margin: 0 0.25em; line-height: 1; border-radius: 0.35em;\">\n",
       "    shaki-ok0010fcpz nbd\n",
       "    <span style=\"font-size: 0.8em; font-weight: bold; line-height: 1; border-radius: 0.35em; vertical-align: middle; margin-left: 0.5rem\">PART_NUM</span>\n",
       "</mark>\n",
       " to my hal in lenexa . thank you . </div></span>"
      ],
      "text/plain": [
       "<IPython.core.display.HTML object>"
      ]
     },
     "metadata": {},
     "output_type": "display_data"
    },
    {
     "name": "stdout",
     "output_type": "stream",
     "text": [
      "------------------------- predict entities -------------------------\n",
      "('shaki-ok0010fcpz nbd', 19, 39, 'PART_NUM')\n",
      "====================================================================================================\n",
      "please order qty 1 shaqsw-p0506fczz nbd to my hal in lenexa . thank you . \n"
     ]
    },
    {
     "data": {
      "text/html": [
       "<span class=\"tex2jax_ignore\"><div class=\"entities\" style=\"line-height: 2.5; direction: ltr\">please order qty 1 shaqsw-p0506fczz nbd to my hal in lenexa . thank you . </div></span>"
      ],
      "text/plain": [
       "<IPython.core.display.HTML object>"
      ]
     },
     "metadata": {},
     "output_type": "display_data"
    },
    {
     "name": "stdout",
     "output_type": "stream",
     "text": [
      "====================================================================================================\n",
      "please order qty 1 shavhpgp1a73ar-1 nbd to my hal in lenexa . thank you . \n"
     ]
    },
    {
     "data": {
      "text/html": [
       "<span class=\"tex2jax_ignore\"><div class=\"entities\" style=\"line-height: 2.5; direction: ltr\">please order qty 1 shavhpgp1a73ar-1 nbd to my hal in lenexa . thank you . </div></span>"
      ],
      "text/plain": [
       "<IPython.core.display.HTML object>"
      ]
     },
     "metadata": {},
     "output_type": "display_data"
    },
    {
     "name": "stdout",
     "output_type": "stream",
     "text": [
      "====================================================================================================\n",
      "please order qty 1 sharh-ix0055fcpz nbd to my hal in lenexa . thank you . \n"
     ]
    },
    {
     "data": {
      "text/html": [
       "<span class=\"tex2jax_ignore\"><div class=\"entities\" style=\"line-height: 2.5; direction: ltr\">please order qty 1 sharh-ix0055fcpz nbd to my hal in lenexa . thank you . </div></span>"
      ],
      "text/plain": [
       "<IPython.core.display.HTML object>"
      ]
     },
     "metadata": {},
     "output_type": "display_data"
    },
    {
     "name": "stdout",
     "output_type": "stream",
     "text": [
      "====================================================================================================\n",
      "please order qty 1 shavhpgp1a71l3-18 nbd to my hal in lenexa . thank you . \n"
     ]
    },
    {
     "data": {
      "text/html": [
       "<span class=\"tex2jax_ignore\"><div class=\"entities\" style=\"line-height: 2.5; direction: ltr\">please order qty 1 shavhpgp1a71l3-18 nbd to my hal in lenexa . thank you . </div></span>"
      ],
      "text/plain": [
       "<IPython.core.display.HTML object>"
      ]
     },
     "metadata": {},
     "output_type": "display_data"
    },
    {
     "name": "stdout",
     "output_type": "stream",
     "text": [
      "====================================================================================================\n",
      "please order qty 1 e0-cable-01 nbd to my hal in lenexa . thank you . \n"
     ]
    },
    {
     "data": {
      "text/html": [
       "<span class=\"tex2jax_ignore\"><div class=\"entities\" style=\"line-height: 2.5; direction: ltr\">please order qty 1 \n",
       "<mark class=\"entity\" style=\"background: #92E0AA; padding: 0.45em 0.6em; margin: 0 0.25em; line-height: 1; border-radius: 0.35em;\">\n",
       "    e0-cable-01 nbd\n",
       "    <span style=\"font-size: 0.8em; font-weight: bold; line-height: 1; border-radius: 0.35em; vertical-align: middle; margin-left: 0.5rem\">PART_NUM</span>\n",
       "</mark>\n",
       " to my hal in lenexa . thank you . </div></span>"
      ],
      "text/plain": [
       "<IPython.core.display.HTML object>"
      ]
     },
     "metadata": {},
     "output_type": "display_data"
    },
    {
     "name": "stdout",
     "output_type": "stream",
     "text": [
      "------------------------- predict entities -------------------------\n",
      "('e0-cable-01 nbd', 19, 34, 'PART_NUM')\n",
      "====================================================================================================\n",
      "please order qty 1 rm1-8508-010-bu nbd to my hal in lenexa . thank you . \n"
     ]
    },
    {
     "data": {
      "text/html": [
       "<span class=\"tex2jax_ignore\"><div class=\"entities\" style=\"line-height: 2.5; direction: ltr\">please order qty 1 \n",
       "<mark class=\"entity\" style=\"background: #92E0AA; padding: 0.45em 0.6em; margin: 0 0.25em; line-height: 1; border-radius: 0.35em;\">\n",
       "    rm1-8508-010\n",
       "    <span style=\"font-size: 0.8em; font-weight: bold; line-height: 1; border-radius: 0.35em; vertical-align: middle; margin-left: 0.5rem\">PART_NUM</span>\n",
       "</mark>\n",
       "-bu nbd to my hal in lenexa . thank you . </div></span>"
      ],
      "text/plain": [
       "<IPython.core.display.HTML object>"
      ]
     },
     "metadata": {},
     "output_type": "display_data"
    },
    {
     "name": "stdout",
     "output_type": "stream",
     "text": [
      "------------------------- predict entities -------------------------\n",
      "('rm1-8508-010', 19, 31, 'PART_NUM')\n",
      "====================================================================================================\n",
      "please order qty 1 b3m77-67902-bu nbd to my hal in lenexa . thank you . \n"
     ]
    },
    {
     "data": {
      "text/html": [
       "<span class=\"tex2jax_ignore\"><div class=\"entities\" style=\"line-height: 2.5; direction: ltr\">please order qty 1 \n",
       "<mark class=\"entity\" style=\"background: #92E0AA; padding: 0.45em 0.6em; margin: 0 0.25em; line-height: 1; border-radius: 0.35em;\">\n",
       "    b3m77-67902\n",
       "    <span style=\"font-size: 0.8em; font-weight: bold; line-height: 1; border-radius: 0.35em; vertical-align: middle; margin-left: 0.5rem\">PART_NUM</span>\n",
       "</mark>\n",
       "-bu nbd to my hal in lenexa . thank you . </div></span>"
      ],
      "text/plain": [
       "<IPython.core.display.HTML object>"
      ]
     },
     "metadata": {},
     "output_type": "display_data"
    },
    {
     "name": "stdout",
     "output_type": "stream",
     "text": [
      "------------------------- predict entities -------------------------\n",
      "('b3m77-67902', 19, 30, 'PART_NUM')\n",
      "====================================================================================================\n",
      "please order qty 1 cf065-67901-bu nbd to my hal in lenexa . thank you . \n"
     ]
    },
    {
     "data": {
      "text/html": [
       "<span class=\"tex2jax_ignore\"><div class=\"entities\" style=\"line-height: 2.5; direction: ltr\">please order qty 1 \n",
       "<mark class=\"entity\" style=\"background: #92E0AA; padding: 0.45em 0.6em; margin: 0 0.25em; line-height: 1; border-radius: 0.35em;\">\n",
       "    cf065-67901\n",
       "    <span style=\"font-size: 0.8em; font-weight: bold; line-height: 1; border-radius: 0.35em; vertical-align: middle; margin-left: 0.5rem\">PART_NUM</span>\n",
       "</mark>\n",
       "-bu nbd to my hal in lenexa . thank you . </div></span>"
      ],
      "text/plain": [
       "<IPython.core.display.HTML object>"
      ]
     },
     "metadata": {},
     "output_type": "display_data"
    },
    {
     "name": "stdout",
     "output_type": "stream",
     "text": [
      "------------------------- predict entities -------------------------\n",
      "('cf065-67901', 19, 30, 'PART_NUM')\n",
      "====================================================================================================\n",
      "please order qty 1 c2h57-67901-bulk nbd to my hal in lenexa . thank you . \n"
     ]
    },
    {
     "data": {
      "text/html": [
       "<span class=\"tex2jax_ignore\"><div class=\"entities\" style=\"line-height: 2.5; direction: ltr\">please order qty 1 \n",
       "<mark class=\"entity\" style=\"background: #92E0AA; padding: 0.45em 0.6em; margin: 0 0.25em; line-height: 1; border-radius: 0.35em;\">\n",
       "    c2h57-67901\n",
       "    <span style=\"font-size: 0.8em; font-weight: bold; line-height: 1; border-radius: 0.35em; vertical-align: middle; margin-left: 0.5rem\">PART_NUM</span>\n",
       "</mark>\n",
       "-bulk nbd to my hal in lenexa . thank you . </div></span>"
      ],
      "text/plain": [
       "<IPython.core.display.HTML object>"
      ]
     },
     "metadata": {},
     "output_type": "display_data"
    },
    {
     "name": "stdout",
     "output_type": "stream",
     "text": [
      "------------------------- predict entities -------------------------\n",
      "('c2h57-67901', 19, 30, 'PART_NUM')\n",
      "====================================================================================================\n",
      "please order qty 1 shaqsw-m0518fcpz nbd to my hal in lenexa . thank you . \n"
     ]
    },
    {
     "data": {
      "text/html": [
       "<span class=\"tex2jax_ignore\"><div class=\"entities\" style=\"line-height: 2.5; direction: ltr\">please order qty 1 shaqsw-m0518fcpz nbd to my hal in lenexa . thank you . </div></span>"
      ],
      "text/plain": [
       "<IPython.core.display.HTML object>"
      ]
     },
     "metadata": {},
     "output_type": "display_data"
    },
    {
     "name": "stdout",
     "output_type": "stream",
     "text": [
      "====================================================================================================\n",
      "please order qty 1 shalx-bz0994fcpz nbd to my hal in lenexa . thank you . \n"
     ]
    },
    {
     "data": {
      "text/html": [
       "<span class=\"tex2jax_ignore\"><div class=\"entities\" style=\"line-height: 2.5; direction: ltr\">please order qty 1 shalx-bz0994fcpz nbd to my hal in lenexa . thank you . </div></span>"
      ],
      "text/plain": [
       "<IPython.core.display.HTML object>"
      ]
     },
     "metadata": {},
     "output_type": "display_data"
    },
    {
     "name": "stdout",
     "output_type": "stream",
     "text": [
      "====================================================================================================\n",
      "please order qty 1 shagcab-1507fcaz nbd to my hal in lenexa . thank you . \n"
     ]
    },
    {
     "data": {
      "text/html": [
       "<span class=\"tex2jax_ignore\"><div class=\"entities\" style=\"line-height: 2.5; direction: ltr\">please order qty 1 shagcab-1507fcaz nbd to my hal in lenexa . thank you . </div></span>"
      ],
      "text/plain": [
       "<IPython.core.display.HTML object>"
      ]
     },
     "metadata": {},
     "output_type": "display_data"
    }
   ],
   "source": [
    "parts = sample_parts\n",
    "texts, error_texts, errpr_parts = check_sample_parts(parts)\n",
    "print(f'find {len(error_texts)}/{len(parts)} errors')\n",
    "show_texts(error_texts, show_detail=True)  "
   ]
  },
  {
   "cell_type": "code",
   "execution_count": null,
   "id": "12849b5f",
   "metadata": {
    "ExecuteTime": {
     "end_time": "2021-08-25T00:25:51.542759Z",
     "start_time": "2021-08-25T00:09:12.258Z"
    },
    "scrolled": false
   },
   "outputs": [],
   "source": [
    "error_text_entities, error_pattern_matchs = generate_label(error_texts, patterns=patterns)\n",
    "show_entity_label(error_text_entities, error_pattern_matchs)"
   ]
  },
  {
   "cell_type": "markdown",
   "id": "65e43452",
   "metadata": {},
   "source": [
    "I think that the issues are mainly caused by lacking of these parts in training data. \n",
    "\n",
    "There are 2 solutions:\n",
    "\n",
    "1. mmerge some rules from regular expressions and others.\n",
    "2. use data augmentation to generate a lot of random part numbers based on the rules."
   ]
  },
  {
   "cell_type": "markdown",
   "id": "74d47d2f",
   "metadata": {},
   "source": [
    "####  Find potentail part number"
   ]
  },
  {
   "cell_type": "code",
   "execution_count": null,
   "id": "8ad3116c",
   "metadata": {
    "ExecuteTime": {
     "end_time": "2021-08-25T00:25:51.544256Z",
     "start_time": "2021-08-25T00:09:12.263Z"
    }
   },
   "outputs": [],
   "source": [
    "parts = ['FE-15520-01', 'FE-15520-012', 'FE-15520-01233']\n",
    "texts, error_texts, errpr_parts = check_sample_parts(parts)\n",
    "print(f'find {len(error_texts)}/{len(parts)} errors')\n",
    "show_texts(texts, show_detail=True)  \n"
   ]
  },
  {
   "cell_type": "code",
   "execution_count": null,
   "id": "a1c2bf0a",
   "metadata": {
    "ExecuteTime": {
     "end_time": "2021-08-25T00:25:51.545876Z",
     "start_time": "2021-08-25T00:09:12.266Z"
    }
   },
   "outputs": [],
   "source": [
    "some_text_entities, sample_pattern_matchs = generate_label(texts, patterns=patterns)\n",
    "show_entity_label(sample_text_entities, sample_pattern_matchs)"
   ]
  },
  {
   "cell_type": "markdown",
   "id": "707306b6",
   "metadata": {},
   "source": [
    "#### find potential actions \n",
    "\n",
    "it has some effects, but not good enough."
   ]
  },
  {
   "cell_type": "code",
   "execution_count": null,
   "id": "ff798137",
   "metadata": {
    "ExecuteTime": {
     "end_time": "2021-08-25T00:25:51.547467Z",
     "start_time": "2021-08-25T00:09:12.270Z"
    }
   },
   "outputs": [],
   "source": [
    "texts = ['order qty 1 fe-15520-01 nbd to my hal in lenexa . thank you . ',\n",
    "         'orders qty 1 fe-15520-01 nbd to my hal in lenexa . thank you . ',\n",
    "         'send qty 1 fe-15520-01 nbd to my hal in lenexa . thank you . ',\n",
    "         'sends qty 1 fe-15520-01 nbd to my hal in lenexa . thank you . ',\n",
    "         'ship qty 1 fe-15520-01 nbd to my hal in lenexa . thank you . ',\n",
    "         'ships qty 1 fe-15520-01 nbd to my hal in lenexa . thank you . 2012-02-02',         \n",
    "        ]\n",
    "\n",
    "show_texts(texts, show_detail=False) "
   ]
  },
  {
   "cell_type": "code",
   "execution_count": null,
   "id": "85bdcd42",
   "metadata": {},
   "outputs": [],
   "source": []
  }
 ],
 "metadata": {
  "kernelspec": {
   "display_name": "Python 3",
   "language": "python",
   "name": "python3"
  },
  "language_info": {
   "codemirror_mode": {
    "name": "ipython",
    "version": 3
   },
   "file_extension": ".py",
   "mimetype": "text/x-python",
   "name": "python",
   "nbconvert_exporter": "python",
   "pygments_lexer": "ipython3",
   "version": "3.6.9"
  },
  "toc": {
   "base_numbering": 1,
   "nav_menu": {},
   "number_sections": true,
   "sideBar": true,
   "skip_h1_title": false,
   "title_cell": "Table of Contents",
   "title_sidebar": "Contents",
   "toc_cell": false,
   "toc_position": {
    "height": "calc(100% - 180px)",
    "left": "10px",
    "top": "150px",
    "width": "426.641px"
   },
   "toc_section_display": true,
   "toc_window_display": true
  }
 },
 "nbformat": 4,
 "nbformat_minor": 5
}
