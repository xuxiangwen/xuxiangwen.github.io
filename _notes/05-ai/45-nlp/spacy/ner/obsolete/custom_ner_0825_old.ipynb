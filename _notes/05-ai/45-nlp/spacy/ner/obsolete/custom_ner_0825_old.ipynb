{
 "cells": [
  {
   "cell_type": "code",
   "execution_count": 15,
   "id": "28990d1b",
   "metadata": {
    "ExecuteTime": {
     "end_time": "2021-08-25T10:13:59.891445Z",
     "start_time": "2021-08-25T10:13:59.877173Z"
    }
   },
   "outputs": [],
   "source": [
    "import csv\n",
    "import exrex # !pip install exrex\n",
    "import pandas as pd\n",
    "import numpy as np\n",
    "import re \n",
    "import spacy\n",
    "\n",
    "from tqdm import tqdm\n",
    "from spacy.tokens import DocBin\n",
    "from sklearn.model_selection import train_test_split\n",
    "\n",
    "# ebablbe auto-completion\n",
    "%config Completer.use_jedi = False"
   ]
  },
  {
   "cell_type": "markdown",
   "id": "80713807",
   "metadata": {},
   "source": [
    "## Train the model"
   ]
  },
  {
   "cell_type": "code",
   "execution_count": 16,
   "id": "78802aec",
   "metadata": {
    "ExecuteTime": {
     "end_time": "2021-08-25T10:43:24.519805Z",
     "start_time": "2021-08-25T10:14:20.566246Z"
    }
   },
   "outputs": [
    {
     "name": "stdout",
     "output_type": "stream",
     "text": [
      "2021-08-25 10:14:22.569912: I tensorflow/stream_executor/platform/default/dso_loader.cc:53] Successfully opened dynamic library libcudart.so.11.0\n",
      "\u001b[38;5;4mℹ Using GPU: 0\u001b[0m\n",
      "\u001b[1m\n",
      "=========================== Initializing pipeline ===========================\u001b[0m\n",
      "[2021-08-25 10:14:25,847] [INFO] Set up nlp object from config\n",
      "[2021-08-25 10:14:25,864] [INFO] Pipeline: ['transformer', 'ner']\n",
      "[2021-08-25 10:14:25,872] [INFO] Created vocabulary\n",
      "[2021-08-25 10:14:25,873] [INFO] Finished initializing nlp object\n",
      "Some weights of the model checkpoint at roberta-base were not used when initializing RobertaModel: ['lm_head.dense.bias', 'lm_head.dense.weight', 'lm_head.bias', 'lm_head.layer_norm.bias', 'lm_head.decoder.weight', 'lm_head.layer_norm.weight']\n",
      "- This IS expected if you are initializing RobertaModel from the checkpoint of a model trained on another task or with another architecture (e.g. initializing a BertForSequenceClassification model from a BertForPreTraining model).\n",
      "- This IS NOT expected if you are initializing RobertaModel from the checkpoint of a model that you expect to be exactly identical (initializing a BertForSequenceClassification model from a BertForSequenceClassification model).\n",
      "[2021-08-25 10:14:48,025] [INFO] Initialized pipeline components: ['transformer', 'ner']\n",
      "\u001b[38;5;2m✔ Initialized pipeline\u001b[0m\n",
      "\u001b[1m\n",
      "============================= Training pipeline =============================\u001b[0m\n",
      "\u001b[38;5;4mℹ Pipeline: ['transformer', 'ner']\u001b[0m\n",
      "\u001b[38;5;4mℹ Initial learn rate: 0.0\u001b[0m\n",
      "E    #       LOSS TRANS...  LOSS NER  ENTS_F  ENTS_P  ENTS_R  SCORE \n",
      "---  ------  -------------  --------  ------  ------  ------  ------\n",
      "  0       0        8417.09    702.32    0.12    0.08    0.29    0.00\n",
      "  0      50      131435.21  25295.24    0.00    0.00    0.00    0.00\n",
      "  1     100        6843.98   3597.40   83.87   76.47   92.86    0.84\n",
      "  1     150         128.25    578.42   93.98   89.19   99.32    0.94\n",
      "  2     200          75.26    383.42   95.78   92.84   98.92    0.96\n",
      "  3     250          82.69    384.50   95.86   92.22   99.80    0.96\n",
      "  3     300          75.20    368.57   96.18   93.85   98.63    0.96\n",
      "  4     350          47.01    260.87   97.13   94.87   99.51    0.97\n",
      "  5     400          54.17    247.04   98.07   96.67   99.51    0.98\n",
      "  5     450          45.38    267.66   97.19   94.71   99.80    0.97\n",
      "  6     500          21.55    168.79   97.65   95.77   99.61    0.98\n",
      "  7     550          39.29    239.20   97.66   95.42  100.00    0.98\n",
      "  7     600          25.73    217.94   97.99   96.05  100.00    0.98\n",
      "  8     650           8.79    163.40   97.94   96.14   99.80    0.98\n",
      "  9     700          19.86    187.34   98.13   96.41   99.90    0.98\n",
      "  9     750          14.69    179.90   98.08   96.41   99.80    0.98\n",
      " 10     800           8.99    147.42   97.98   96.23   99.80    0.98\n",
      " 11     850          11.99    167.75   98.12   96.76   99.51    0.98\n",
      " 11     900          12.24    176.45   98.08   96.32   99.90    0.98\n",
      " 12     950           9.15    131.10   98.17   96.68   99.71    0.98\n",
      " 12    1000           4.09    147.63   98.32   96.69  100.00    0.98\n",
      " 13    1050           6.68    154.34   97.98   96.31   99.71    0.98\n",
      " 14    1100           2.45     99.78   98.08   96.23  100.00    0.98\n",
      " 14    1150           2.62    157.22   98.08   96.23  100.00    0.98\n",
      " 15    1200           8.78    140.03   98.41   96.96   99.90    0.98\n",
      " 16    1250           3.67    158.51   98.60   97.33   99.90    0.99\n",
      " 16    1300           3.41    134.87   98.98   97.99  100.00    0.99\n",
      " 17    1350           2.44    148.05   98.94   97.89  100.00    0.99\n",
      " 18    1400           8.57    117.80   98.89   97.80  100.00    0.99\n",
      " 18    1450           3.42    136.54   97.93   96.49   99.41    0.98\n",
      " 19    1500           8.66    136.41   98.88   98.08   99.71    0.99\n",
      "\u001b[38;5;2m✔ Saved pipeline to output directory\u001b[0m\n",
      "output/gpu/model-last\n"
     ]
    }
   ],
   "source": [
    "!python -m spacy train config_gpu.cfg --output ./output/gpu --paths.train ./data/train.spacy --paths.dev ./data/test.spacy --gpu-id 0"
   ]
  },
  {
   "cell_type": "markdown",
   "id": "62731f0f",
   "metadata": {},
   "source": [
    "## Evaluate\n",
    "\n",
    "###  Check test data"
   ]
  },
  {
   "cell_type": "code",
   "execution_count": 10,
   "id": "141ba7aa",
   "metadata": {
    "ExecuteTime": {
     "end_time": "2021-08-25T08:31:05.930441Z",
     "start_time": "2021-08-25T08:30:46.174560Z"
    }
   },
   "outputs": [
    {
     "name": "stdout",
     "output_type": "stream",
     "text": [
      "2021-08-25 08:30:48.163331: I tensorflow/stream_executor/platform/default/dso_loader.cc:53] Successfully opened dynamic library libcudart.so.11.0\n",
      "\u001b[38;5;4mℹ Using GPU: 0\u001b[0m\n",
      "\u001b[1m\n",
      "================================== Results ==================================\u001b[0m\n",
      "\n",
      "TOK     100.00\n",
      "NER P   98.64 \n",
      "NER R   99.90 \n",
      "NER F   99.27 \n",
      "SPEED   4248  \n",
      "\n",
      "\u001b[1m\n",
      "=============================== NER (per type) ===============================\u001b[0m\n",
      "\n",
      "               P       R       F\n",
      "PART_NUM   98.64   99.90   99.27\n",
      "\n"
     ]
    }
   ],
   "source": [
    "!python -m spacy evaluate output/gpu/model-best ./test.spacy --gpu-id 0"
   ]
  },
  {
   "cell_type": "code",
   "execution_count": 11,
   "id": "9c3f0d39",
   "metadata": {
    "ExecuteTime": {
     "end_time": "2021-08-25T08:32:20.531518Z",
     "start_time": "2021-08-25T08:31:37.674643Z"
    }
   },
   "outputs": [
    {
     "name": "stdout",
     "output_type": "stream",
     "text": [
      "2021-08-25 08:31:39.660395: I tensorflow/stream_executor/platform/default/dso_loader.cc:53] Successfully opened dynamic library libcudart.so.11.0\n",
      "\u001b[38;5;4mℹ Using GPU: 0\u001b[0m\n",
      "\u001b[1m\n",
      "================================== Results ==================================\u001b[0m\n",
      "\n",
      "TOK     100.00\n",
      "NER P   92.55 \n",
      "NER R   36.23 \n",
      "NER F   52.07 \n",
      "SPEED   4488  \n",
      "\n",
      "\u001b[1m\n",
      "=============================== NER (per type) ===============================\u001b[0m\n",
      "\n",
      "               P       R       F\n",
      "PART_NUM   92.55   36.23   52.07\n",
      "\n"
     ]
    }
   ],
   "source": [
    "!python -m spacy evaluate output/gpu/model-best ./test_aug.spacy --gpu-id 0"
   ]
  },
  {
   "cell_type": "code",
   "execution_count": 12,
   "id": "48ed7541",
   "metadata": {
    "ExecuteTime": {
     "end_time": "2021-08-25T08:40:54.682087Z",
     "start_time": "2021-08-25T08:40:52.510110Z"
    }
   },
   "outputs": [],
   "source": [
    "nlp = spacy.load(\"output/gpu/model-best\") "
   ]
  },
  {
   "cell_type": "code",
   "execution_count": 13,
   "id": "adb71f1e",
   "metadata": {
    "ExecuteTime": {
     "end_time": "2021-08-25T08:40:54.696726Z",
     "start_time": "2021-08-25T08:40:54.684753Z"
    }
   },
   "outputs": [],
   "source": [
    "options = {'colors': {'ACTION':\"#56D7C4\", 'PART_NUM':\"#92E0AA\"} }\n",
    "\n",
    "def show_text(text, annotations=None, options=options, show_detail=True, standardize_text=None):\n",
    "    if standardize_text is not None:\n",
    "        text = standardize_text(text)\n",
    "    doc = nlp(text)\n",
    "    print('='*100)\n",
    "    if show_detail:\n",
    "        print(doc.text) \n",
    "    spacy.displacy.render(doc, style='ent', options=options)\n",
    "    if show_detail and annotations is not None and len(annotations['entities'])>0:\n",
    "        print('-'*25, 'acutal entities', '-'*25)\n",
    "        print(*[(text[start:end], start, end, label) for start, end, label in annotations['entities']], sep='\\n')   \n",
    "    if show_detail and len(doc.ents)>0:\n",
    "        print('-'*25, 'predict entities', '-'*25)\n",
    "        print(*[(ent.text, ent.start_char, ent.end_char, ent.label_) for ent in doc.ents], sep='\\n')      \n",
    "\n",
    "def show_texts(data, indexes=None, options=options, show_detail=True, standardize_text=None):\n",
    "    def show_text_(data):\n",
    "        if isinstance(data, str):\n",
    "            show_text(data, None, options=options, show_detail=show_detail, standardize_text=standardize_text)\n",
    "        else:\n",
    "            text, annotations = data\n",
    "            show_text(text, annotations, options=options, show_detail=show_detail, standardize_text=standardize_text)  \n",
    "            \n",
    "    if indexes is not None:\n",
    "        for i in indexes:\n",
    "            show_text_(data[i])   \n",
    "    else:\n",
    "        for one_data in data: \n",
    "            show_text_(one_data)      \n",
    "    \n",
    "                  "
   ]
  },
  {
   "cell_type": "code",
   "execution_count": 14,
   "id": "2f44d6da",
   "metadata": {
    "ExecuteTime": {
     "end_time": "2021-08-25T08:40:54.741019Z",
     "start_time": "2021-08-25T08:40:54.699241Z"
    },
    "scrolled": false
   },
   "outputs": [
    {
     "ename": "NameError",
     "evalue": "name 'test_data' is not defined",
     "output_type": "error",
     "traceback": [
      "\u001b[0;31m\u001b[0m",
      "\u001b[0;31mNameError\u001b[0mTraceback (most recent call last)",
      "\u001b[0;32m<ipython-input-14-a60038d30db8>\u001b[0m in \u001b[0;36m<module>\u001b[0;34m\u001b[0m\n\u001b[0;32m----> 1\u001b[0;31m \u001b[0mindexes\u001b[0m \u001b[0;34m=\u001b[0m \u001b[0mnp\u001b[0m\u001b[0;34m.\u001b[0m\u001b[0mrandom\u001b[0m\u001b[0;34m.\u001b[0m\u001b[0mrandint\u001b[0m\u001b[0;34m(\u001b[0m\u001b[0;36m0\u001b[0m\u001b[0;34m,\u001b[0m \u001b[0mlen\u001b[0m\u001b[0;34m(\u001b[0m\u001b[0mtest_data\u001b[0m\u001b[0;34m)\u001b[0m\u001b[0;34m,\u001b[0m \u001b[0;36m10\u001b[0m\u001b[0;34m)\u001b[0m\u001b[0;34m\u001b[0m\u001b[0;34m\u001b[0m\u001b[0m\n\u001b[0m\u001b[1;32m      2\u001b[0m \u001b[0mshow_texts\u001b[0m\u001b[0;34m(\u001b[0m\u001b[0mtest_data\u001b[0m\u001b[0;34m,\u001b[0m \u001b[0mindexes\u001b[0m\u001b[0;34m)\u001b[0m\u001b[0;34m\u001b[0m\u001b[0;34m\u001b[0m\u001b[0m\n",
      "\u001b[0;31mNameError\u001b[0m: name 'test_data' is not defined"
     ]
    }
   ],
   "source": [
    "indexes = np.random.randint(0, len(test_data), 10)\n",
    "show_texts(test_data, indexes) "
   ]
  },
  {
   "cell_type": "code",
   "execution_count": null,
   "id": "3ee606ad",
   "metadata": {
    "ExecuteTime": {
     "end_time": "2021-08-25T08:27:59.582361Z",
     "start_time": "2021-08-25T08:04:02.345Z"
    },
    "scrolled": false
   },
   "outputs": [],
   "source": [
    "show_texts(test_data, indexes, show_detail=False) "
   ]
  },
  {
   "cell_type": "markdown",
   "id": "dfeab3d8",
   "metadata": {},
   "source": [
    "### Check Error Data"
   ]
  },
  {
   "cell_type": "code",
   "execution_count": null,
   "id": "8c433085",
   "metadata": {
    "ExecuteTime": {
     "end_time": "2021-08-25T08:27:59.583862Z",
     "start_time": "2021-08-25T08:04:02.354Z"
    }
   },
   "outputs": [],
   "source": [
    "def get_error_data(data):\n",
    "    error_data = []\n",
    "    for i in range(len(data)):\n",
    "        text, annotations = data[i]\n",
    "        doc = nlp(text)\n",
    "        entities = annotations['entities']\n",
    "        if len(entities) != len(doc.ents):\n",
    "            error_data.append(data[i])\n",
    "            print(i, len(error_data))\n",
    "        else:\n",
    "            exit_flag = False\n",
    "            actual_entities = {(start, end, label): label for start, end, label in entities}\n",
    "            predict_entities = {(ent.start_char, ent.end_char, ent.label_): ent.label_ \n",
    "                                for ent in doc.ents}\n",
    "            \n",
    "            for key, _ in actual_entities.items():                \n",
    "                if key not in predict_entities:\n",
    "                    print(actual_entities, predict_entities, sep='\\n') \n",
    "                    error_data.append(data[i])\n",
    "                    print(i, len(error_data))\n",
    "                    break\n",
    "            if exit_flag: continue\n",
    "            for key, _ in predict_entities.items():\n",
    "                if key not in actual_entities:\n",
    "                    print(actual_entities, predict_entities)\n",
    "                    error_data.append(data[i])\n",
    "                    print(i, len(error_data))\n",
    "                    break\n",
    "                \n",
    "    return error_data\n",
    "\n",
    "error_data = get_error_data(test_data)"
   ]
  },
  {
   "cell_type": "code",
   "execution_count": null,
   "id": "19e81a75",
   "metadata": {
    "ExecuteTime": {
     "end_time": "2021-08-25T08:27:59.585339Z",
     "start_time": "2021-08-25T08:04:02.359Z"
    }
   },
   "outputs": [],
   "source": [
    "print(len(error_data))"
   ]
  },
  {
   "cell_type": "code",
   "execution_count": null,
   "id": "5846698d",
   "metadata": {
    "ExecuteTime": {
     "end_time": "2021-08-25T08:27:59.586804Z",
     "start_time": "2021-08-25T08:04:02.370Z"
    },
    "scrolled": false
   },
   "outputs": [],
   "source": [
    "show_texts(error_data)  "
   ]
  },
  {
   "cell_type": "code",
   "execution_count": null,
   "id": "d4226d40",
   "metadata": {
    "ExecuteTime": {
     "end_time": "2021-08-25T08:27:59.588364Z",
     "start_time": "2021-08-25T08:04:02.375Z"
    }
   },
   "outputs": [],
   "source": [
    "doc = nlp('rm26322-000cn PART_NUM e6b69-67901 PART_NUM rm1-8413-000cn PART_NUM please send ACTION to fedex ACTION 3242 herrman rd garland , texas 75041 on 2021-08-21')\n",
    "print(*[(ent.text, ent.start_char, ent.end_char, ent.label_) for ent in doc.ents], sep='\\n') \n",
    "spacy.displacy.render(doc, style='ent', options=options)"
   ]
  },
  {
   "cell_type": "markdown",
   "id": "c087f294",
   "metadata": {},
   "source": [
    "### Some Features and Issues\n",
    "\n",
    "#### Miss some part-numbers "
   ]
  },
  {
   "cell_type": "code",
   "execution_count": null,
   "id": "c49aafe7",
   "metadata": {
    "ExecuteTime": {
     "end_time": "2021-08-25T08:27:59.590060Z",
     "start_time": "2021-08-25T08:04:02.377Z"
    }
   },
   "outputs": [],
   "source": [
    "sample_parts = ['M14302-161', '926537-001', 'M46915-D01', '140314-FB2', '176253-8B0', \n",
    "               '442010-ABC', 'L07896-DB1', '168757-B21', 'FE-15520-01', 'RM1-7867-000CN', \n",
    "               '5066-4719', '5066-3872-1', '3HZ90-30001', 'T6M22-30001', '98544-04105', \n",
    "               'C8109-69018', 'L26480-DB1', '632427-001B', 'CN463-69003', 'RM1-1298BULK', \n",
    "               '8-752-078-46', 'X-4035-119-1', 'TBLB3002-A04', '4822-701-15319', '08-2212C-33W', \n",
    "               '19-40065-011', 'ATT09850-66532', '98564-66572-SQ', '897-250144AA', '738-576-94', \n",
    "               '1FQ6-0001', '1818-7469-LGSA', '1820-6361M', '1818-6868-SAM', '3138-107-96160', \n",
    "               '686858R-999', 'MD30C-A2', '29-26196-00', 'DEL-7D092', 'LEX-40X2384', 'LEX-40X2831H', \n",
    "               'SAM-6107001172', 'SHA-1625DS51', 'XER-006R01275', 'BRO-TN115BK', 'DEL-310-5811', \n",
    "               'DEL-PK496', 'KYO-1702F97US0', 'LA95-CA', 'KYO-DK-310H', 'EPS-C31CD38A9921', \n",
    "               'KYO-F994091H', 'EPS-CEPS-003G', 'LEX-24015SA', 'LEX-62D1X00', 'LEX-72K0DV0', \n",
    "               'LEX-801HC', 'LEX-C5220CSH', 'TRO-78-24619-001', 'LEX-C544X1CG', 'HPE-749797-001', \n",
    "               'SFT-P-895', 'LEX-E260A21A-C', 'RIC-D0296509', 'SEA-ST1000LM049', 'LEX-12A8400-PC', \n",
    "               'HPE-JL258A', 'RIC-400507', 'FUJ-FPCPR362AQ', 'TOS-6LE8296100', 'XER-003K04980', \n",
    "               'XER-116111500', 'ATS-2711FXSC-901', 'BRO-TN336BK', 'DEL-310-5807', 'HPI-CF258A-M', \n",
    "               'LEX-T101-0000000', 'DEL-9PN5P', 'SAM-BA92-08880A', 'APC-RBC7', 'KMH-4448-121', \n",
    "               'SXC-C7ABTTAAB', 'TRO-04621201', 'VEF-28924-04-R', 'WFP-HPM527Z', 'KYO-1702LK0UN2', \n",
    "               'APC-SUA1500RM2U', 'KYO-302NM18021', 'HPE-JH329-61001', 'KYO-1T02GA0US0', 'LEB-04X4674',\n",
    "               'KYO-302GR93034', 'DEL-V1RX3', 'LEX-40X0593', 'TOS-6LH3460800', 'RIC-AE020171', \n",
    "               'XER-59K60140', 'BRO-LM5140001', 'KMH-A00JA56600', 'KYO-302F906240', 'BRO-LEM084001', \n",
    "               'XER-116-2035', 'BRO-BU100CLH', '3X-LK465-A2', '4G1-3999-030CN', 'H3980-60002BULK', \n",
    "               'SHA-VHI0MFP000', 'TOS-C017839000', 'JC66-01190A', 'XER-3335DNI', 'XER-3635MFP-S', \n",
    "               'XER-4622DN', 'XER-7750-Z2', 'DEL-D1320-W3', 'DEL-P637D', 'LEX-C540X35G', \n",
    "               'SHA-CPLTM8190F', 'SHACFRM-1380DS53', 'XER-401-0855-0', '90-0077', 'BRO-LF6710001', \n",
    "               'Q3938-68001-PCA', 'C314X+49A-90002', '20ER-84530KC', 'RM2-2903-BULK', 'CE506-67919-BU', \n",
    "               'CH971-91596', 'DEL-FM235', 'JC44-00210E', 'SHACFRM-1509DS52', 'SHADHAI-5043FCPZ', \n",
    "               'SHAGCAB-1102FCB1', '000-50-02-008', '504000226-DD', 'SHAVHPLG217L5A-1', 'SHAVHPOSH03Y02-1', \n",
    "               'SHADUNT-8962FCP1', 'SHAKI-OK0010FCPZ', 'SHAQSW-P0506FCZZ', 'SHAVHPGP1A73AR-1', 'SHARH-IX0055FCPZ', \n",
    "               '358-000001', 'SHAVHPGP1A71L3-18', 'B23-0994', '504000226-D', '5066-0731', \n",
    "               'E0-CABLE-01', 'RM1-8508-010-BU', 'B3M77-67902-BU', 'CA02626-E029FJ', 'CF065-67901-BU', \n",
    "               'C2H57-67901-BULK', 'LN08-A2', '693709-001B', 'SS467-67001', 'LEX-70C0D20', \n",
    "               'SHAQSW-M0518FCPZ', 'SHALX-BZ0994FCPZ', 'LN08X-TF', 'SHAGCAB-1507FCAZ']\n",
    "\n",
    "sample_parts = [part.lower() for part in sample_parts]"
   ]
  },
  {
   "cell_type": "code",
   "execution_count": null,
   "id": "f5546c82",
   "metadata": {
    "ExecuteTime": {
     "end_time": "2021-08-25T08:27:59.591456Z",
     "start_time": "2021-08-25T08:04:02.383Z"
    }
   },
   "outputs": [],
   "source": [
    "def get_texts(parts, standardize_text=standardize_text1):\n",
    "    texts = [standardize_text(f'Please order qty 1 {part} NBD to my HAL in Lenexa. Thank you.') for part in parts]\n",
    "    return texts\n",
    "\n",
    "def check_sample_parts(parts):  \n",
    "    texts = get_texts(parts)\n",
    "    docs = nlp.pipe(texts)\n",
    "    texts = []\n",
    "    error_texts = []\n",
    "    errpr_parts = []\n",
    "    for doc, part in zip(docs, parts):\n",
    "        texts.append(doc.text)\n",
    "        if len(doc.ents) !=1 or doc.ents[0].text != part.lower():\n",
    "            error_texts.append(doc.text)\n",
    "            errpr_parts.append(part)\n",
    "    return texts, error_texts, errpr_parts\n",
    "        \n",
    "parts = ['000-50-02-008']\n",
    "texts, error_texts, errpr_parts = check_sample_parts(parts)\n",
    "show_texts(texts, show_detail=True) "
   ]
  },
  {
   "cell_type": "code",
   "execution_count": null,
   "id": "5848a30b",
   "metadata": {
    "ExecuteTime": {
     "end_time": "2021-08-25T08:27:59.592957Z",
     "start_time": "2021-08-25T08:04:02.401Z"
    },
    "scrolled": false
   },
   "outputs": [],
   "source": [
    "parts = sample_parts\n",
    "texts, error_texts, errpr_parts = check_sample_parts(parts)\n",
    "print(f'find {len(error_texts)}/{len(parts)} errors')\n",
    "show_texts(texts, show_detail=True)  "
   ]
  },
  {
   "cell_type": "code",
   "execution_count": null,
   "id": "eecfcbea",
   "metadata": {
    "ExecuteTime": {
     "end_time": "2021-08-25T08:27:59.594432Z",
     "start_time": "2021-08-25T08:04:02.405Z"
    },
    "scrolled": false
   },
   "outputs": [],
   "source": [
    "error_text_entities, error_pattern_matchs = generate_label(error_texts, patterns=patterns)\n",
    "show_entity_label(error_text_entities, error_pattern_matchs)"
   ]
  },
  {
   "cell_type": "markdown",
   "id": "ce0ed3c6",
   "metadata": {},
   "source": [
    "I think that the issues are mainly caused by lacking of these parts in training data. \n",
    "\n",
    "There are 2 solutions:\n",
    "\n",
    "1. merge the results of regular expressions and the model.\n",
    "2. use data augmentation to generate a lot of random part numbers based on the rules."
   ]
  },
  {
   "cell_type": "markdown",
   "id": "26de5976",
   "metadata": {},
   "source": [
    "####  Find potentail part number"
   ]
  },
  {
   "cell_type": "code",
   "execution_count": null,
   "id": "876d9444",
   "metadata": {
    "ExecuteTime": {
     "end_time": "2021-08-25T08:27:59.596073Z",
     "start_time": "2021-08-25T08:04:02.407Z"
    }
   },
   "outputs": [],
   "source": [
    "parts = ['FE-15520-01', 'FE-15520-012']\n",
    "texts, error_texts, errpr_parts = check_sample_parts(parts)\n",
    "print(f'find {len(error_texts)}/{len(parts)} errors')\n",
    "\n"
   ]
  },
  {
   "cell_type": "code",
   "execution_count": null,
   "id": "b3a10c55",
   "metadata": {
    "ExecuteTime": {
     "end_time": "2021-08-25T08:27:59.597518Z",
     "start_time": "2021-08-25T08:04:02.408Z"
    }
   },
   "outputs": [],
   "source": [
    "some_text_entities, some__pattern_matchs = generate_label(texts, patterns=patterns)\n",
    "show_entity_label(some_text_entities, some__pattern_matchs)\n"
   ]
  },
  {
   "cell_type": "markdown",
   "id": "c8f2c5b0",
   "metadata": {},
   "source": [
    "#### find potential actions \n",
    "\n",
    "it has some effects, but not good enough."
   ]
  },
  {
   "cell_type": "code",
   "execution_count": null,
   "id": "bbc5155e",
   "metadata": {
    "ExecuteTime": {
     "end_time": "2021-08-25T08:27:59.598956Z",
     "start_time": "2021-08-25T08:04:02.410Z"
    }
   },
   "outputs": [],
   "source": [
    "texts = ['order qty 1 fe-15520-01 nbd to my hal in lenexa . thank you . ',\n",
    "         'orders qty 1 fe-15520-01 nbd to my hal in lenexa . thank you . ',\n",
    "         'send qty 1 fe-15520-01 nbd to my hal in lenexa . thank you . ',\n",
    "         'sends qty 1 fe-15520-01 nbd to my hal in lenexa . thank you . ',\n",
    "         'ship qty 1 fe-15520-01 nbd to my hal in lenexa . thank you . ',\n",
    "         'ships qty 1 fe-15520-01 nbd to my hal in lenexa . thank you . 2012-02-02',         \n",
    "        ]\n",
    "\n",
    "show_texts(texts, show_detail=False) "
   ]
  },
  {
   "cell_type": "markdown",
   "id": "f5a68cad",
   "metadata": {},
   "source": [
    "## Output Results"
   ]
  },
  {
   "cell_type": "code",
   "execution_count": null,
   "id": "fe5490b7",
   "metadata": {
    "ExecuteTime": {
     "end_time": "2021-08-25T08:27:59.600450Z",
     "start_time": "2021-08-25T08:04:02.411Z"
    }
   },
   "outputs": [],
   "source": [
    "parts = "
   ]
  }
 ],
 "metadata": {
  "kernelspec": {
   "display_name": "Python 3",
   "language": "python",
   "name": "python3"
  },
  "language_info": {
   "codemirror_mode": {
    "name": "ipython",
    "version": 3
   },
   "file_extension": ".py",
   "mimetype": "text/x-python",
   "name": "python",
   "nbconvert_exporter": "python",
   "pygments_lexer": "ipython3",
   "version": "3.6.9"
  },
  "toc": {
   "base_numbering": 1,
   "nav_menu": {},
   "number_sections": true,
   "sideBar": true,
   "skip_h1_title": false,
   "title_cell": "Table of Contents",
   "title_sidebar": "Contents",
   "toc_cell": false,
   "toc_position": {
    "height": "calc(100% - 180px)",
    "left": "10px",
    "top": "150px",
    "width": "426.641px"
   },
   "toc_section_display": true,
   "toc_window_display": true
  }
 },
 "nbformat": 4,
 "nbformat_minor": 5
}
