{
 "cells": [
  {
   "cell_type": "code",
   "execution_count": 20,
   "metadata": {},
   "outputs": [],
   "source": [
    "import pandas as pd\n",
    "%matplotlib inline"
   ]
  },
  {
   "cell_type": "code",
   "execution_count": 2,
   "metadata": {},
   "outputs": [],
   "source": [
    "dataset = pd.read_csv(\"atis_intents.csv\", header=None)"
   ]
  },
  {
   "cell_type": "code",
   "execution_count": 3,
   "metadata": {},
   "outputs": [
    {
     "data": {
      "text/html": [
       "<div>\n",
       "<style scoped>\n",
       "    .dataframe tbody tr th:only-of-type {\n",
       "        vertical-align: middle;\n",
       "    }\n",
       "\n",
       "    .dataframe tbody tr th {\n",
       "        vertical-align: top;\n",
       "    }\n",
       "\n",
       "    .dataframe thead th {\n",
       "        text-align: right;\n",
       "    }\n",
       "</style>\n",
       "<table border=\"1\" class=\"dataframe\">\n",
       "  <thead>\n",
       "    <tr style=\"text-align: right;\">\n",
       "      <th></th>\n",
       "      <th>0</th>\n",
       "      <th>1</th>\n",
       "    </tr>\n",
       "  </thead>\n",
       "  <tbody>\n",
       "    <tr>\n",
       "      <th>0</th>\n",
       "      <td>atis_flight</td>\n",
       "      <td>i want to fly from boston at 838 am and arriv...</td>\n",
       "    </tr>\n",
       "    <tr>\n",
       "      <th>1</th>\n",
       "      <td>atis_flight</td>\n",
       "      <td>what flights are available from pittsburgh to...</td>\n",
       "    </tr>\n",
       "    <tr>\n",
       "      <th>2</th>\n",
       "      <td>atis_flight_time</td>\n",
       "      <td>what is the arrival time in san francisco for...</td>\n",
       "    </tr>\n",
       "    <tr>\n",
       "      <th>3</th>\n",
       "      <td>atis_airfare</td>\n",
       "      <td>cheapest airfare from tacoma to orlando</td>\n",
       "    </tr>\n",
       "    <tr>\n",
       "      <th>4</th>\n",
       "      <td>atis_airfare</td>\n",
       "      <td>round trip fares from pittsburgh to philadelp...</td>\n",
       "    </tr>\n",
       "  </tbody>\n",
       "</table>\n",
       "</div>"
      ],
      "text/plain": [
       "                  0                                                  1\n",
       "0       atis_flight   i want to fly from boston at 838 am and arriv...\n",
       "1       atis_flight   what flights are available from pittsburgh to...\n",
       "2  atis_flight_time   what is the arrival time in san francisco for...\n",
       "3      atis_airfare            cheapest airfare from tacoma to orlando\n",
       "4      atis_airfare   round trip fares from pittsburgh to philadelp..."
      ]
     },
     "execution_count": 3,
     "metadata": {},
     "output_type": "execute_result"
    }
   ],
   "source": [
    "dataset.head()"
   ]
  },
  {
   "cell_type": "code",
   "execution_count": 6,
   "metadata": {},
   "outputs": [
    {
     "data": {
      "text/plain": [
       "0        i want to fly from boston at 838 am and arriv...\n",
       "1        what flights are available from pittsburgh to...\n",
       "2        what is the arrival time in san francisco for...\n",
       "3                 cheapest airfare from tacoma to orlando\n",
       "4        round trip fares from pittsburgh to philadelp...\n",
       "                              ...                        \n",
       "4973     what is the airfare for flights from denver t...\n",
       "4974     do you have any flights from denver to baltim...\n",
       "4975            which airlines fly into and out of denver\n",
       "4976     does continental fly from boston to san franc...\n",
       "4977     is there a delta flight from denver to san fr...\n",
       "Name: 1, Length: 4978, dtype: object"
      ]
     },
     "execution_count": 6,
     "metadata": {},
     "output_type": "execute_result"
    }
   ],
   "source": [
    "dataset[1]"
   ]
  },
  {
   "cell_type": "code",
   "execution_count": 12,
   "metadata": {},
   "outputs": [
    {
     "name": "stdout",
     "output_type": "stream",
     "text": [
      " i want to fly from boston at 838 am and arrive in denver at 1110 in the morning\n",
      " what flights are available from pittsburgh to baltimore on thursday morning\n",
      " what is the arrival time in san francisco for the 755 am flight leaving washington\n",
      " cheapest airfare from tacoma to orlando\n",
      " round trip fares from pittsburgh to philadelphia under 1000 dollars\n"
     ]
    }
   ],
   "source": [
    "for text in dataset[1].head():\n",
    "    print(text)"
   ]
  },
  {
   "cell_type": "code",
   "execution_count": 18,
   "metadata": {},
   "outputs": [
    {
     "name": "stdout",
     "output_type": "stream",
     "text": [
      "0\n",
      "atis_abbreviation                            147\n",
      "atis_aircraft                                 81\n",
      "atis_aircraft#atis_flight#atis_flight_no       1\n",
      "atis_airfare                                 423\n",
      "atis_airfare#atis_flight_time                  1\n",
      "atis_airline                                 157\n",
      "atis_airline#atis_flight_no                    2\n",
      "atis_airport                                  20\n",
      "atis_capacity                                 16\n",
      "atis_cheapest                                  1\n",
      "atis_city                                     19\n",
      "atis_distance                                 20\n",
      "atis_flight                                 3666\n",
      "atis_flight#atis_airfare                      21\n",
      "atis_flight_no                                12\n",
      "atis_flight_time                              54\n",
      "atis_ground_fare                              18\n",
      "atis_ground_service                          255\n",
      "atis_ground_service#atis_ground_fare           1\n",
      "atis_meal                                      6\n",
      "atis_quantity                                 51\n",
      "atis_restriction                               6\n",
      "dtype: int64\n"
     ]
    }
   ],
   "source": [
    "grouped = dataset.groupby(0).size()\n",
    "print(grouped)"
   ]
  },
  {
   "cell_type": "code",
   "execution_count": null,
   "metadata": {},
   "outputs": [],
   "source": []
  },
  {
   "cell_type": "code",
   "execution_count": null,
   "metadata": {},
   "outputs": [],
   "source": []
  }
 ],
 "metadata": {
  "kernelspec": {
   "display_name": "Python 3",
   "language": "python",
   "name": "python3"
  },
  "language_info": {
   "codemirror_mode": {
    "name": "ipython",
    "version": 3
   },
   "file_extension": ".py",
   "mimetype": "text/x-python",
   "name": "python",
   "nbconvert_exporter": "python",
   "pygments_lexer": "ipython3",
   "version": "3.6.9"
  }
 },
 "nbformat": 4,
 "nbformat_minor": 2
}
