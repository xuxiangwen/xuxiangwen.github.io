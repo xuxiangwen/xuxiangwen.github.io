{
 "cells": [
  {
   "cell_type": "code",
   "execution_count": 1,
   "metadata": {},
   "outputs": [],
   "source": [
    "import pandas as pd\n",
    "import matplotlib.pyplot as plt\n",
    "%matplotlib inline"
   ]
  },
  {
   "cell_type": "code",
   "execution_count": 2,
   "metadata": {},
   "outputs": [
    {
     "data": {
      "text/plain": [
       "(3999, 10)"
      ]
     },
     "execution_count": 2,
     "metadata": {},
     "output_type": "execute_result"
    }
   ],
   "source": [
    "reviews_df=pd.read_csv('data/Reviews.csv')\n",
    "reviews_df.shape"
   ]
  },
  {
   "cell_type": "code",
   "execution_count": 3,
   "metadata": {},
   "outputs": [
    {
     "data": {
      "text/html": [
       "<div>\n",
       "<style scoped>\n",
       "    .dataframe tbody tr th:only-of-type {\n",
       "        vertical-align: middle;\n",
       "    }\n",
       "\n",
       "    .dataframe tbody tr th {\n",
       "        vertical-align: top;\n",
       "    }\n",
       "\n",
       "    .dataframe thead th {\n",
       "        text-align: right;\n",
       "    }\n",
       "</style>\n",
       "<table border=\"1\" class=\"dataframe\">\n",
       "  <thead>\n",
       "    <tr style=\"text-align: right;\">\n",
       "      <th></th>\n",
       "      <th>Id</th>\n",
       "      <th>ProductId</th>\n",
       "      <th>UserId</th>\n",
       "      <th>ProfileName</th>\n",
       "      <th>HelpfulnessNumerator</th>\n",
       "      <th>HelpfulnessDenominator</th>\n",
       "      <th>Score</th>\n",
       "      <th>Time</th>\n",
       "      <th>Summary</th>\n",
       "      <th>Text</th>\n",
       "    </tr>\n",
       "  </thead>\n",
       "  <tbody>\n",
       "    <tr>\n",
       "      <th>0</th>\n",
       "      <td>50057</td>\n",
       "      <td>B000ER5DFQ</td>\n",
       "      <td>A1ESDLEDR9Y0JX</td>\n",
       "      <td>A. Spencer</td>\n",
       "      <td>1</td>\n",
       "      <td>2</td>\n",
       "      <td>1</td>\n",
       "      <td>1310256000</td>\n",
       "      <td>the garbanzo beans in it give horrible gas</td>\n",
       "      <td>To be fair only one of my twins got gas from t...</td>\n",
       "    </tr>\n",
       "    <tr>\n",
       "      <th>1</th>\n",
       "      <td>366917</td>\n",
       "      <td>B001AIQP8M</td>\n",
       "      <td>A324KM3YY1DWQG</td>\n",
       "      <td>danitrice</td>\n",
       "      <td>0</td>\n",
       "      <td>0</td>\n",
       "      <td>5</td>\n",
       "      <td>1251072000</td>\n",
       "      <td>Yummy Lil' Treasures!!</td>\n",
       "      <td>Just recieved our first order of these (they d...</td>\n",
       "    </tr>\n",
       "    <tr>\n",
       "      <th>2</th>\n",
       "      <td>214380</td>\n",
       "      <td>B001E5E1XW</td>\n",
       "      <td>A3QCWO53N69HW3</td>\n",
       "      <td>M. A. Vaughan \"-_-GOBNOGO-_-\"</td>\n",
       "      <td>2</td>\n",
       "      <td>2</td>\n",
       "      <td>5</td>\n",
       "      <td>1276473600</td>\n",
       "      <td>Great Chai</td>\n",
       "      <td>This is a fantastic Chai Masala. I am very pic...</td>\n",
       "    </tr>\n",
       "    <tr>\n",
       "      <th>3</th>\n",
       "      <td>178476</td>\n",
       "      <td>B000TIZP5I</td>\n",
       "      <td>AYZ5NG9705AG1</td>\n",
       "      <td>Consumer</td>\n",
       "      <td>0</td>\n",
       "      <td>0</td>\n",
       "      <td>5</td>\n",
       "      <td>1341360000</td>\n",
       "      <td>Celtic Salt worth extra price</td>\n",
       "      <td>Flavorful and has added nutrition!  You use le...</td>\n",
       "    </tr>\n",
       "    <tr>\n",
       "      <th>4</th>\n",
       "      <td>542504</td>\n",
       "      <td>B000E18CVE</td>\n",
       "      <td>A2LMWCJUF5HZ4Z</td>\n",
       "      <td>Miki Lam \"mikilam\"</td>\n",
       "      <td>8</td>\n",
       "      <td>11</td>\n",
       "      <td>3</td>\n",
       "      <td>1222732800</td>\n",
       "      <td>mixed feelings</td>\n",
       "      <td>I thought this soup tasted good. I liked the t...</td>\n",
       "    </tr>\n",
       "  </tbody>\n",
       "</table>\n",
       "</div>"
      ],
      "text/plain": [
       "       Id   ProductId          UserId                    ProfileName  \\\n",
       "0   50057  B000ER5DFQ  A1ESDLEDR9Y0JX                     A. Spencer   \n",
       "1  366917  B001AIQP8M  A324KM3YY1DWQG                      danitrice   \n",
       "2  214380  B001E5E1XW  A3QCWO53N69HW3  M. A. Vaughan \"-_-GOBNOGO-_-\"   \n",
       "3  178476  B000TIZP5I   AYZ5NG9705AG1                       Consumer   \n",
       "4  542504  B000E18CVE  A2LMWCJUF5HZ4Z             Miki Lam \"mikilam\"   \n",
       "\n",
       "   HelpfulnessNumerator  HelpfulnessDenominator  Score        Time  \\\n",
       "0                     1                       2      1  1310256000   \n",
       "1                     0                       0      5  1251072000   \n",
       "2                     2                       2      5  1276473600   \n",
       "3                     0                       0      5  1341360000   \n",
       "4                     8                      11      3  1222732800   \n",
       "\n",
       "                                      Summary  \\\n",
       "0  the garbanzo beans in it give horrible gas   \n",
       "1                      Yummy Lil' Treasures!!   \n",
       "2                                  Great Chai   \n",
       "3               Celtic Salt worth extra price   \n",
       "4                              mixed feelings   \n",
       "\n",
       "                                                Text  \n",
       "0  To be fair only one of my twins got gas from t...  \n",
       "1  Just recieved our first order of these (they d...  \n",
       "2  This is a fantastic Chai Masala. I am very pic...  \n",
       "3  Flavorful and has added nutrition!  You use le...  \n",
       "4  I thought this soup tasted good. I liked the t...  "
      ]
     },
     "execution_count": 3,
     "metadata": {},
     "output_type": "execute_result"
    }
   ],
   "source": [
    "reviews_df.head()"
   ]
  },
  {
   "cell_type": "code",
   "execution_count": 4,
   "metadata": {},
   "outputs": [],
   "source": [
    "reviews_df = reviews_df[['Text','Score']].dropna()"
   ]
  },
  {
   "cell_type": "code",
   "execution_count": 5,
   "metadata": {},
   "outputs": [
    {
     "data": {
      "image/png": "[encoded data removed]",
      "text/plain": [
       "<Figure size 432x288 with 1 Axes>"
      ]
     },
     "metadata": {
      "needs_background": "light"
     },
     "output_type": "display_data"
    }
   ],
   "source": [
    "ax=reviews_df.Score.value_counts().plot(kind='bar', colormap='Paired')\n",
    "plt.show()"
   ]
  },
  {
   "cell_type": "code",
   "execution_count": 6,
   "metadata": {},
   "outputs": [
    {
     "name": "stderr",
     "output_type": "stream",
     "text": [
      "/usr/local/lib/python3.6/dist-packages/ipykernel_launcher.py:1: SettingWithCopyWarning: \n",
      "A value is trying to be set on a copy of a slice from a DataFrame\n",
      "\n",
      "See the caveats in the documentation: https://pandas.pydata.org/pandas-docs/stable/user_guide/indexing.html#returning-a-view-versus-a-copy\n",
      "  \"\"\"Entry point for launching an IPython kernel.\n",
      "/usr/local/lib/python3.6/dist-packages/ipykernel_launcher.py:2: SettingWithCopyWarning: \n",
      "A value is trying to be set on a copy of a slice from a DataFrame\n",
      "\n",
      "See the caveats in the documentation: https://pandas.pydata.org/pandas-docs/stable/user_guide/indexing.html#returning-a-view-versus-a-copy\n",
      "  \n"
     ]
    }
   ],
   "source": [
    "reviews_df.Score[reviews_df.Score<=3]=0\n",
    "reviews_df.Score[reviews_df.Score>=4]=1"
   ]
  },
  {
   "cell_type": "code",
   "execution_count": 7,
   "metadata": {},
   "outputs": [
    {
     "data": {
      "image/png": "[encoded data removed]",
      "text/plain": [
       "<Figure size 432x288 with 1 Axes>"
      ]
     },
     "metadata": {
      "needs_background": "light"
     },
     "output_type": "display_data"
    }
   ],
   "source": [
    "ax=reviews_df.Score.value_counts().plot(kind='bar', colormap='Paired')\n",
    "plt.show()"
   ]
  },
  {
   "cell_type": "code",
   "execution_count": 8,
   "metadata": {},
   "outputs": [
    {
     "data": {
      "text/html": [
       "<div>\n",
       "<style scoped>\n",
       "    .dataframe tbody tr th:only-of-type {\n",
       "        vertical-align: middle;\n",
       "    }\n",
       "\n",
       "    .dataframe tbody tr th {\n",
       "        vertical-align: top;\n",
       "    }\n",
       "\n",
       "    .dataframe thead th {\n",
       "        text-align: right;\n",
       "    }\n",
       "</style>\n",
       "<table border=\"1\" class=\"dataframe\">\n",
       "  <thead>\n",
       "    <tr style=\"text-align: right;\">\n",
       "      <th></th>\n",
       "      <th>Text</th>\n",
       "      <th>Score</th>\n",
       "    </tr>\n",
       "  </thead>\n",
       "  <tbody>\n",
       "    <tr>\n",
       "      <th>0</th>\n",
       "      <td>To be fair only one of my twins got gas from t...</td>\n",
       "      <td>0</td>\n",
       "    </tr>\n",
       "    <tr>\n",
       "      <th>1</th>\n",
       "      <td>Just recieved our first order of these (they d...</td>\n",
       "      <td>1</td>\n",
       "    </tr>\n",
       "    <tr>\n",
       "      <th>2</th>\n",
       "      <td>This is a fantastic Chai Masala. I am very pic...</td>\n",
       "      <td>1</td>\n",
       "    </tr>\n",
       "    <tr>\n",
       "      <th>3</th>\n",
       "      <td>Flavorful and has added nutrition!  You use le...</td>\n",
       "      <td>1</td>\n",
       "    </tr>\n",
       "    <tr>\n",
       "      <th>4</th>\n",
       "      <td>I thought this soup tasted good. I liked the t...</td>\n",
       "      <td>0</td>\n",
       "    </tr>\n",
       "  </tbody>\n",
       "</table>\n",
       "</div>"
      ],
      "text/plain": [
       "                                                Text  Score\n",
       "0  To be fair only one of my twins got gas from t...      0\n",
       "1  Just recieved our first order of these (they d...      1\n",
       "2  This is a fantastic Chai Masala. I am very pic...      1\n",
       "3  Flavorful and has added nutrition!  You use le...      1\n",
       "4  I thought this soup tasted good. I liked the t...      0"
      ]
     },
     "execution_count": 8,
     "metadata": {},
     "output_type": "execute_result"
    }
   ],
   "source": [
    "reviews_df.head()"
   ]
  },
  {
   "cell_type": "code",
   "execution_count": 9,
   "metadata": {},
   "outputs": [],
   "source": [
    "import spacy\n",
    "nlp = spacy.load(\"en_core_web_md\") "
   ]
  },
  {
   "cell_type": "code",
   "execution_count": 25,
   "metadata": {},
   "outputs": [],
   "source": []
  },
  {
   "cell_type": "code",
   "execution_count": 28,
   "metadata": {},
   "outputs": [],
   "source": [
    "train_examples = []\n",
    "labels = []\n",
    "\n",
    "for index, row in reviews_df.iterrows():\n",
    "    text = row[\"Text\"]\n",
    "    rating = row[\"Score\"]\n",
    "    labels.append(rating)\n",
    "    tokens = [token.text for token in nlp(text)]\n",
    "    train_examples.append(tokens)    "
   ]
  },
  {
   "cell_type": "code",
   "execution_count": 29,
   "metadata": {},
   "outputs": [
    {
     "data": {
      "text/plain": [
       "['To',\n",
       " 'be',\n",
       " 'fair',\n",
       " 'only',\n",
       " 'one',\n",
       " 'of',\n",
       " 'my',\n",
       " 'twins',\n",
       " 'got',\n",
       " 'gas',\n",
       " 'from',\n",
       " 'this',\n",
       " 'but',\n",
       " 'it',\n",
       " 'was',\n",
       " 'horrible',\n",
       " '.',\n",
       " 'Up',\n",
       " 'all',\n",
       " 'night',\n",
       " 'screaming',\n",
       " 'from',\n",
       " 'gas',\n",
       " 'pains',\n",
       " '.',\n",
       " 'Garbanzo',\n",
       " 'beans',\n",
       " 'are',\n",
       " 'not',\n",
       " 'an',\n",
       " 'ideal',\n",
       " 'food',\n",
       " 'for',\n",
       " 'young',\n",
       " 'babies',\n",
       " '.']"
      ]
     },
     "execution_count": 29,
     "metadata": {},
     "output_type": "execute_result"
    }
   ],
   "source": [
    "train_examples[0]"
   ]
  },
  {
   "cell_type": "code",
   "execution_count": 32,
   "metadata": {},
   "outputs": [],
   "source": [
    "from tensorflow.keras.preprocessing.text import Tokenizer\n",
    "from tensorflow.keras.preprocessing.sequence import pad_sequences\n",
    "import numpy as np"
   ]
  },
  {
   "cell_type": "code",
   "execution_count": 30,
   "metadata": {},
   "outputs": [],
   "source": [
    "tokenizer = Tokenizer(lower=True)\n",
    "tokenizer.fit_on_texts(train_examples)\n",
    "\n",
    "sequences = tokenizer.texts_to_sequences(train_examples)"
   ]
  },
  {
   "cell_type": "code",
   "execution_count": 27,
   "metadata": {},
   "outputs": [
    {
     "data": {
      "text/plain": [
       "[To,\n",
       " be,\n",
       " fair,\n",
       " only,\n",
       " one,\n",
       " of,\n",
       " my,\n",
       " twins,\n",
       " got,\n",
       " gas,\n",
       " from,\n",
       " this,\n",
       " but,\n",
       " it,\n",
       " was,\n",
       " horrible,\n",
       " .,\n",
       " Up,\n",
       " all,\n",
       " night,\n",
       " screaming,\n",
       " from,\n",
       " gas,\n",
       " pains,\n",
       " .,\n",
       " Garbanzo,\n",
       " beans,\n",
       " are,\n",
       " not,\n",
       " an,\n",
       " ideal,\n",
       " food,\n",
       " for,\n",
       " young,\n",
       " babies,\n",
       " .]"
      ]
     },
     "execution_count": 27,
     "metadata": {},
     "output_type": "execute_result"
    }
   ],
   "source": [
    "train_examples[0]"
   ]
  },
  {
   "cell_type": "code",
   "execution_count": 82,
   "metadata": {},
   "outputs": [
    {
     "data": {
      "text/plain": [
       "[7,\n",
       " 40,\n",
       " 1489,\n",
       " 71,\n",
       " 48,\n",
       " 10,\n",
       " 15,\n",
       " 6075,\n",
       " 159,\n",
       " 1158,\n",
       " 54,\n",
       " 12,\n",
       " 19,\n",
       " 8,\n",
       " 24,\n",
       " 1187,\n",
       " 1,\n",
       " 69,\n",
       " 44,\n",
       " 661,\n",
       " 6076,\n",
       " 54,\n",
       " 1158,\n",
       " 3346,\n",
       " 1,\n",
       " 4895,\n",
       " 387,\n",
       " 22,\n",
       " 23,\n",
       " 76,\n",
       " 1927,\n",
       " 65,\n",
       " 13,\n",
       " 1667,\n",
       " 1928,\n",
       " 1]"
      ]
     },
     "execution_count": 82,
     "metadata": {},
     "output_type": "execute_result"
    }
   ],
   "source": [
    "sequences[0]"
   ]
  },
  {
   "cell_type": "code",
   "execution_count": 49,
   "metadata": {},
   "outputs": [],
   "source": [
    "MAX_LEN = 50\n",
    "\n",
    "X = pad_sequences(sequences, MAX_LEN, padding=\"post\")\n",
    "\n",
    "X = np.array(X)\n",
    "y = np.array(labels)"
   ]
  },
  {
   "cell_type": "code",
   "execution_count": 68,
   "metadata": {},
   "outputs": [],
   "source": [
    "y = y.reshape(y.shape[0] , 1)"
   ]
  },
  {
   "cell_type": "code",
   "execution_count": 69,
   "metadata": {},
   "outputs": [
    {
     "data": {
      "text/plain": [
       "(3999, 1)"
      ]
     },
     "execution_count": 69,
     "metadata": {},
     "output_type": "execute_result"
    }
   ],
   "source": [
    "y.shape"
   ]
  },
  {
   "cell_type": "code",
   "execution_count": 40,
   "metadata": {},
   "outputs": [],
   "source": [
    "from tensorflow.keras.models import Model\n",
    "from tensorflow.keras.layers import Input, LSTM, Dense, Embedding\n",
    "from tensorflow.keras import optimizers"
   ]
  },
  {
   "cell_type": "code",
   "execution_count": 88,
   "metadata": {},
   "outputs": [],
   "source": [
    "sentence_input = Input(shape=(None,))\n",
    "embedding =  Embedding(input_dim = len(tokenizer.word_index)+1, output_dim = 100)(sentence_input)\n",
    "LSTM_layer = LSTM(units=256)(embedding)\n",
    "output_dense = Dense(1, activation='sigmoid')(LSTM_layer)"
   ]
  },
  {
   "cell_type": "code",
   "execution_count": 89,
   "metadata": {},
   "outputs": [],
   "source": [
    "model = Model(inputs=[sentence_input],outputs=[output_dense])"
   ]
  },
  {
   "cell_type": "code",
   "execution_count": 90,
   "metadata": {},
   "outputs": [
    {
     "name": "stdout",
     "output_type": "stream",
     "text": [
      "Model: \"model_8\"\n",
      "_________________________________________________________________\n",
      "Layer (type)                 Output Shape              Param #   \n",
      "=================================================================\n",
      "input_8 (InputLayer)         [(None, None)]            0         \n",
      "_________________________________________________________________\n",
      "embedding_7 (Embedding)      (None, None, 100)         1623900   \n",
      "_________________________________________________________________\n",
      "lstm_7 (LSTM)                (None, 256)               365568    \n",
      "_________________________________________________________________\n",
      "dense_7 (Dense)              (None, 1)                 257       \n",
      "=================================================================\n",
      "Total params: 1,989,725\n",
      "Trainable params: 1,989,725\n",
      "Non-trainable params: 0\n",
      "_________________________________________________________________\n"
     ]
    }
   ],
   "source": [
    "model.summary()"
   ]
  },
  {
   "cell_type": "code",
   "execution_count": 91,
   "metadata": {},
   "outputs": [],
   "source": [
    "model.compile(optimizer=\"adam\", loss=\"binary_crossentropy\", metrics=[\"accuracy\"])\n"
   ]
  },
  {
   "cell_type": "code",
   "execution_count": 92,
   "metadata": {},
   "outputs": [
    {
     "name": "stdout",
     "output_type": "stream",
     "text": [
      "Epoch 1/5\n",
      "50/50 [==============================] - 8s 164ms/step - loss: 0.5400 - accuracy: 0.7706 - val_loss: 0.5304 - val_accuracy: 0.7563\n",
      "Epoch 2/5\n",
      "50/50 [==============================] - 8s 154ms/step - loss: 0.4032 - accuracy: 0.8224 - val_loss: 0.4743 - val_accuracy: 0.7875\n",
      "Epoch 3/5\n",
      "50/50 [==============================] - 8s 153ms/step - loss: 0.2242 - accuracy: 0.9159 - val_loss: 0.4577 - val_accuracy: 0.7975\n",
      "Epoch 4/5\n",
      "50/50 [==============================] - 8s 158ms/step - loss: 0.1400 - accuracy: 0.9578 - val_loss: 0.6093 - val_accuracy: 0.7912\n",
      "Epoch 5/5\n",
      "50/50 [==============================] - 8s 154ms/step - loss: 0.0603 - accuracy: 0.9812 - val_loss: 0.6885 - val_accuracy: 0.7950\n"
     ]
    },
    {
     "data": {
      "text/plain": [
       "<tensorflow.python.keras.callbacks.History at 0x7eff184e00f0>"
      ]
     },
     "execution_count": 92,
     "metadata": {},
     "output_type": "execute_result"
    }
   ],
   "source": [
    "model.fit(x=X,\n",
    "          y=y,\n",
    "          batch_size=64,\n",
    "          epochs=5,\n",
    "          validation_split=0.2)"
   ]
  },
  {
   "cell_type": "code",
   "execution_count": null,
   "metadata": {},
   "outputs": [],
   "source": []
  },
  {
   "cell_type": "code",
   "execution_count": null,
   "metadata": {},
   "outputs": [],
   "source": []
  },
  {
   "cell_type": "code",
   "execution_count": null,
   "metadata": {},
   "outputs": [],
   "source": []
  }
 ],
 "metadata": {
  "kernelspec": {
   "display_name": "Python 3",
   "language": "python",
   "name": "python3"
  },
  "language_info": {
   "codemirror_mode": {
    "name": "ipython",
    "version": 3
   },
   "file_extension": ".py",
   "mimetype": "text/x-python",
   "name": "python",
   "nbconvert_exporter": "python",
   "pygments_lexer": "ipython3",
   "version": "3.6.9"
  }
 },
 "nbformat": 4,
 "nbformat_minor": 2
}
