{
 "cells": [
  {
   "cell_type": "code",
   "execution_count": 3,
   "id": "e3e1470f",
   "metadata": {
    "ExecuteTime": {
     "end_time": "2021-09-26T23:29:54.235328Z",
     "start_time": "2021-09-26T23:29:54.059965Z"
    }
   },
   "outputs": [],
   "source": [
    "import utils\n",
    "# auto load the changes of referenced codes\n",
    "%load_ext autoreload\n",
    "%autoreload 2\n",
    "\n",
    "# ebablbe auto-completion\n",
    "%config Completer.use_jedi = False\n",
    "\n",
    "# if new methods are created in referenced codes, run the following code.\n",
    "%reload_ext autoreload"
   ]
  },
  {
   "cell_type": "code",
   "execution_count": 6,
   "id": "09fd7a36",
   "metadata": {
    "ExecuteTime": {
     "end_time": "2021-09-26T23:30:34.302470Z",
     "start_time": "2021-09-26T23:30:33.935229Z"
    }
   },
   "outputs": [
    {
     "name": "stdout",
     "output_type": "stream",
     "text": [
      "------------------------- 创建初始模型 -------------------------\n",
      "nlp.pipe_names=[]\n",
      "nlp.pipe_names=['ner']\n",
      "nlp.meta={'lang': 'en', 'name': 'pipeline', 'version': '0.0.0', 'spacy_version': '>=3.1.1,<3.2.0', 'description': '', 'author': '', 'email': '', 'url': '', 'license': '', 'spacy_git_version': 'ffaead8fe', 'vectors': {'width': 0, 'vectors': 0, 'keys': 0, 'name': None}, 'labels': {'ner': []}, 'pipeline': ['ner'], 'components': ['ner'], 'disabled': [], '_sourced_vectors_hashes': {}}\n",
      "ner.labels=('MedicalCondition', 'Medicine', 'Pathogen')\n",
      "------------------------- 数据准备 -------------------------\n",
      "('Diarrhea, also spelled diarrhoea, is the condition of having at least three loose, liquid, or watery bowel movements each day.[2] It often lasts for a few days and can result in dehydration due to fluid loss.[2] Signs of dehydration often begin with loss of the normal stretchiness of the skin and irritable behaviour.[2] This can progress to decreased urination, loss of skin color, a fast heart rate, and a decrease in responsiveness as it becomes more severe.[2] Loose but non-watery stools in babies who are exclusively breastfed, however, are normal.[2]', {'entities': [(364, 382, 'MedicalCondition'), (0, 8, 'MedicalCondition'), (94, 116, 'MedicalCondition'), (178, 189, 'MedicalCondition'), (221, 232, 'MedicalCondition'), (23, 32, 'MedicalCondition'), (409, 435, 'MedicalCondition'), (386, 401, 'MedicalCondition')]})\n",
      "------------------------- 生成训练和测试数据 -------------------------\n",
      "len(examples)=20\n",
      "len(train_examples)=16\n",
      "len(test_examples)=4\n"
     ]
    }
   ],
   "source": [
    "import json\n",
    "import spacy\n",
    "import random\n",
    "from spacy.training import Example\n",
    "from spacy.scorer import Scorer\n",
    "from sklearn.model_selection import train_test_split\n",
    "\n",
    "def get_model():\n",
    "    nlp = spacy.blank(\"en\")\n",
    "    print(f'nlp.pipe_names={nlp.pipe_names}')\n",
    "\n",
    "    ner = nlp.add_pipe(\"ner\")\n",
    "    print(f'nlp.pipe_names={nlp.pipe_names}')\n",
    "    print(f'nlp.meta={nlp.meta}')\n",
    "\n",
    "    # 病菌, 身体状况, 药品\n",
    "    labels = ['Pathogen', 'MedicalCondition', 'Medicine']\n",
    "    for ent in labels:\n",
    "        ner.add_label(ent)\n",
    "    print(f'ner.labels={ner.labels}')   \n",
    "    return nlp\n",
    "\n",
    "print('-'*25, '创建初始模型', '-'*25)\n",
    "nlp = get_model()\n",
    "options = {'colors': {'Pathogen':\"#56D7C4\", \n",
    "                      'MedicalCondition':\"#92E0AA\", \n",
    "                      'Medicine':\"lightgreen\"} \n",
    "          }\n",
    "\n",
    "print('-'*25, '数据准备', '-'*25)\n",
    "with open(\"data/corona.json\") as f:\n",
    "    data = json.loads(f.read())\n",
    "\n",
    "data_ = []\n",
    "\n",
    "for (text, annot) in data:\n",
    "    new_anno = []\n",
    "    for st, end, label in annot[\"entities\"]:\n",
    "        new_anno.append((st, end, label))\n",
    "    data_.append((text, {\"entities\": new_anno}))\n",
    "\n",
    "print(data_[0])\n",
    "\n",
    "# 生成训练和测试数据\n",
    "print('-'*25, '生成训练和测试数据', '-'*25)\n",
    "examples = []\n",
    "for text, annots in data_:    \n",
    "    examples.append(Example.from_dict(nlp.make_doc(text), annots))\n",
    "    \n",
    "train_examples, test_examples = train_test_split(examples,  \n",
    "                                                 test_size=0.2, \n",
    "                                                 random_state=202109)\n",
    "\n",
    "print(f'len(examples)={len(examples)}')  \n",
    "print(f'len(train_examples)={len(train_examples)}')\n",
    "print(f'len(test_examples)={len(test_examples)}')"
   ]
  },
  {
   "cell_type": "code",
   "execution_count": 9,
   "id": "128e09b0",
   "metadata": {
    "ExecuteTime": {
     "end_time": "2021-09-26T23:34:09.391039Z",
     "start_time": "2021-09-26T23:33:47.331114Z"
    }
   },
   "outputs": [
    {
     "name": "stdout",
     "output_type": "stream",
     "text": [
      "------------------------- 训练 -------------------------\n",
      " 1/40 train=(loss: 1057.23, p:  0.0, r:  0.0, f:  0.0) test=(p:  0.0, r:  0.0, f:  0.0)\n",
      " 2/40 train=(loss:1307.158, p:  0.0, r:  0.0, f:  0.0) test=(p:  0.0, r:  0.0, f:  0.0)\n",
      " 3/40 train=(loss:1140.649, p:  0.0, r:  0.0, f:  0.0) test=(p:  0.0, r:  0.0, f:  0.0)\n",
      " 4/40 train=(loss: 644.402, p:  0.0, r:  0.0, f:  0.0) test=(p:  0.0, r:  0.0, f:  0.0)\n",
      " 5/40 train=(loss: 234.409, p:  0.0, r:  0.0, f:  0.0) test=(p:  0.0, r:  0.0, f:  0.0)\n",
      " 6/40 train=(loss:  200.43, p:  0.0, r:  0.0, f:  0.0) test=(p:  0.0, r:  0.0, f:  0.0)\n",
      " 7/40 train=(loss: 195.348, p:  0.0, r:  0.0, f:  0.0) test=(p:  0.0, r:  0.0, f:  0.0)\n",
      " 8/40 train=(loss: 175.004, p:  0.0, r:  0.0, f:  0.0) test=(p:  0.0, r:  0.0, f:  0.0)\n",
      " 9/40 train=(loss: 178.695, p:0.091, r:0.019, f:0.031) test=(p:  0.0, r:  0.0, f:  0.0)\n",
      "10/40 train=(loss: 161.866, p:0.031, r: 0.01, f:0.015) test=(p:  0.0, r:  0.0, f:  0.0)\n",
      "11/40 train=(loss: 161.612, p:0.188, r:0.057, f:0.088) test=(p:  0.0, r:  0.0, f:  0.0)\n",
      "12/40 train=(loss: 135.677, p: 0.64, r:0.152, f:0.246) test=(p:  0.0, r:  0.0, f:  0.0)\n",
      "13/40 train=(loss:  122.62, p:0.769, r:0.095, f:0.169) test=(p:  0.0, r:  0.0, f:  0.0)\n",
      "14/40 train=(loss:   126.4, p:0.556, r:0.048, f:0.088) test=(p:  0.0, r:  0.0, f:  0.0)\n",
      "15/40 train=(loss: 111.834, p:0.656, r:  0.2, f:0.307) test=(p:  0.0, r:  0.0, f:  0.0)\n",
      "16/40 train=(loss:  93.193, p:0.327, r:0.305, f:0.315) test=(p:  0.0, r:  0.0, f:  0.0)\n",
      "17/40 train=(loss:  84.583, p:0.305, r:0.305, f:0.305) test=(p:0.091, r:0.042, f:0.057)\n",
      "18/40 train=(loss:  78.327, p:0.382, r:0.371, f:0.377) test=(p:0.077, r:0.042, f:0.054)\n",
      "19/40 train=(loss:  70.792, p:0.602, r:0.562, f:0.581) test=(p:  0.0, r:  0.0, f:  0.0)\n",
      "20/40 train=(loss:  63.069, p:0.625, r:0.571, f:0.597) test=(p:  0.0, r:  0.0, f:  0.0)\n",
      "21/40 train=(loss:  68.901, p:  0.7, r:0.667, f:0.683) test=(p:  0.0, r:  0.0, f:  0.0)\n",
      "22/40 train=(loss:  64.183, p:0.654, r:0.667, f: 0.66) test=(p:  0.0, r:  0.0, f:  0.0)\n",
      "23/40 train=(loss:  60.073, p:0.625, r:0.667, f:0.645) test=(p:0.029, r:0.042, f:0.034)\n",
      "24/40 train=(loss:  56.963, p:0.721, r:0.762, f:0.741) test=(p:  0.0, r:  0.0, f:  0.0)\n",
      "25/40 train=(loss:  53.612, p:0.843, r:0.867, f:0.854) test=(p: 0.03, r:0.042, f:0.035)\n",
      "26/40 train=(loss:  45.353, p:0.841, r:0.857, f:0.849) test=(p:0.033, r:0.042, f:0.037)\n",
      "27/40 train=(loss:  38.055, p:0.904, r:0.895, f:  0.9) test=(p:0.038, r:0.042, f: 0.04)\n",
      "28/40 train=(loss:  28.896, p:0.913, r:0.905, f:0.909) test=(p:0.043, r:0.042, f:0.043)\n",
      "29/40 train=(loss:  67.607, p: 0.84, r:0.752, f:0.794) test=(p:0.045, r:0.042, f:0.043)\n",
      "30/40 train=(loss: 129.023, p: 0.81, r:0.771, f: 0.79) test=(p:0.094, r:0.125, f:0.107)\n",
      "31/40 train=(loss:  45.618, p:0.822, r: 0.79, f:0.806) test=(p:0.059, r:0.083, f:0.069)\n",
      "32/40 train=(loss:  30.791, p:0.888, r:0.905, f:0.896) test=(p:0.021, r:0.042, f:0.028)\n",
      "33/40 train=(loss:  22.219, p:0.905, r:0.905, f:0.905) test=(p:0.031, r:0.042, f:0.036)\n",
      "34/40 train=(loss:  21.087, p:0.931, r:0.895, f:0.913) test=(p:0.043, r:0.042, f:0.043)\n",
      "35/40 train=(loss:  16.497, p:0.891, r:0.857, f:0.874) test=(p:0.043, r:0.042, f:0.043)\n",
      "36/40 train=(loss:  22.222, p:0.869, r:0.886, f:0.877) test=(p:  0.0, r:  0.0, f:  0.0)\n",
      "37/40 train=(loss:  16.785, p:0.924, r:0.924, f:0.924) test=(p:0.059, r:0.083, f:0.069)\n",
      "38/40 train=(loss:  11.188, p:0.914, r:0.914, f:0.914) test=(p:0.029, r:0.042, f:0.034)\n",
      "39/40 train=(loss:  13.816, p:0.924, r:0.924, f:0.924) test=(p:0.029, r:0.042, f:0.034)\n",
      "40/40 train=(loss:   7.955, p:0.971, r:0.952, f:0.962) test=(p:0.029, r:0.042, f:0.034)\n"
     ]
    }
   ],
   "source": [
    "print('-'*25, '训练', '-'*25)\n",
    "\n",
    "def get_scores(nlp, examples):\n",
    "    scores = nlp.evaluate(examples)\n",
    "    ents_p = round(scores['ents_p'], 3)\n",
    "    ents_r= round(scores['ents_r'], 3)\n",
    "    ents_f = round(scores['ents_f'], 3)\n",
    "    # 以下代码，效果完全相同\n",
    "    # scorer = Scorer()\n",
    "    # predicted_examples = [Example(nlp(example.predicted.text), example.reference)  \n",
    "    #                       for example in examples]        \n",
    "    # scores = scorer.score(predicted_examples)\n",
    "    # ents_p = round(scores['ents_p'], 3)\n",
    "    # ents_r= round(scores['ents_r'], 3)\n",
    "    # ents_f = round(scores['ents_f'], 3)  \n",
    "    return ents_p, ents_r, ents_f\n",
    "\n",
    "def train(nlp, train_examples, test_examples, epochs, best_model_path):\n",
    "    optimizer = nlp.initialize(lambda: train_examples)\n",
    "\n",
    "    best_f1 = None    \n",
    "    for itn in range(epochs):\n",
    "        losses = {}        \n",
    "        random.shuffle(train_examples)\n",
    "        for batch in spacy.util.minibatch(train_examples, size=8):\n",
    "            nlp.update(batch, losses=losses) \n",
    "        \n",
    "        train_scores = get_scores(nlp, train_examples)\n",
    "        test_scores = get_scores(nlp, test_examples)\n",
    "        f1 = test_scores[2]\n",
    "\n",
    "        loss = losses['ner']    \n",
    "        print((f\"{itn+1:>2}/{epochs} \"  \n",
    "               f\"train=(loss:{round(loss, 3):>8}, p:{train_scores[0]:>5}, r:{train_scores[1]:>5}, f:{train_scores[2]:>5})\"\n",
    "               f\" test=(p:{test_scores[0]:>5}, r:{test_scores[1]:>5}, f:{test_scores[2]:>5})\"))\n",
    "        if best_f1 is None or f1 > best_f1:\n",
    "            best_f1 = f1        \n",
    "            nlp.to_disk(best_model_path)\n",
    "              \n",
    "best_model_path='output/first_ner/best'                \n",
    "train(nlp, train_examples, test_examples, epochs=40, best_model_path=best_model_path)"
   ]
  },
  {
   "cell_type": "code",
   "execution_count": 10,
   "id": "944a7ae0",
   "metadata": {
    "ExecuteTime": {
     "end_time": "2021-09-26T23:34:30.918658Z",
     "start_time": "2021-09-26T23:34:30.280859Z"
    }
   },
   "outputs": [
    {
     "name": "stdout",
     "output_type": "stream",
     "text": [
      "train=(p: 0.81, r:0.771, f: 0.79)\n",
      " test=(p:0.094, r:0.125, f:0.107)\n"
     ]
    }
   ],
   "source": [
    "nlp = spacy.load(best_model_path)\n",
    "# 等价于下面这条语句\n",
    "# nlp = get_model().from_disk(best_model_path)\n",
    "\n",
    "train_scores = get_scores(nlp, train_examples)\n",
    "test_scores = get_scores(nlp, test_examples)\n",
    "\n",
    "print(f\"train=(p:{train_scores[0]:>5}, r:{train_scores[1]:>5}, f:{train_scores[2]:>5})\")\n",
    "print(f\" test=(p:{test_scores[0]:>5}, r:{test_scores[1]:>5}, f:{test_scores[2]:>5})\")"
   ]
  },
  {
   "cell_type": "code",
   "execution_count": 12,
   "id": "97e91960",
   "metadata": {
    "ExecuteTime": {
     "end_time": "2021-09-26T23:35:06.915002Z",
     "start_time": "2021-09-26T23:35:06.837410Z"
    }
   },
   "outputs": [
    {
     "name": "stdout",
     "output_type": "stream",
     "text": [
      "--------------------------------------------------------------------------------\n"
     ]
    },
    {
     "data": {
      "text/html": [
       "<span class=\"tex2jax_ignore\"><div class=\"entities\" style=\"line-height: 2.5; direction: ltr\">One of the bacterial diseases with the highest disease burden is \n",
       "<mark class=\"entity\" style=\"background: #92E0AA; padding: 0.45em 0.6em; margin: 0 0.25em; line-height: 1; border-radius: 0.35em;\">\n",
       "    tuberculosis\n",
       "    <span style=\"font-size: 0.8em; font-weight: bold; line-height: 1; border-radius: 0.35em; vertical-align: middle; margin-left: 0.5rem\">MedicalCondition</span>\n",
       "</mark>\n",
       ", caused by \n",
       "<mark class=\"entity\" style=\"background: #56D7C4; padding: 0.45em 0.6em; margin: 0 0.25em; line-height: 1; border-radius: 0.35em;\">\n",
       "    Mycobacterium tuberculosis\n",
       "    <span style=\"font-size: 0.8em; font-weight: bold; line-height: 1; border-radius: 0.35em; vertical-align: middle; margin-left: 0.5rem\">Pathogen</span>\n",
       "</mark>\n",
       " bacteria, which kills about 2 million people a year.</div></span>"
      ],
      "text/plain": [
       "<IPython.core.display.HTML object>"
      ]
     },
     "metadata": {},
     "output_type": "display_data"
    },
    {
     "name": "stdout",
     "output_type": "stream",
     "text": [
      "--------------------------------------------------------------------------------\n"
     ]
    },
    {
     "data": {
      "text/html": [
       "<span class=\"tex2jax_ignore\"><div class=\"entities\" style=\"line-height: 2.5; direction: ltr\">\n",
       "<mark class=\"entity\" style=\"background: lightgreen; padding: 0.45em 0.6em; margin: 0 0.25em; line-height: 1; border-radius: 0.35em;\">\n",
       "    Pathogenic\n",
       "    <span style=\"font-size: 0.8em; font-weight: bold; line-height: 1; border-radius: 0.35em; vertical-align: middle; margin-left: 0.5rem\">Medicine</span>\n",
       "</mark>\n",
       " bacteria contribute to other globally important diseases, such as \n",
       "<mark class=\"entity\" style=\"background: #92E0AA; padding: 0.45em 0.6em; margin: 0 0.25em; line-height: 1; border-radius: 0.35em;\">\n",
       "    pneumonia\n",
       "    <span style=\"font-size: 0.8em; font-weight: bold; line-height: 1; border-radius: 0.35em; vertical-align: middle; margin-left: 0.5rem\">MedicalCondition</span>\n",
       "</mark>\n",
       ", which can be caused by bacteria such as \n",
       "<mark class=\"entity\" style=\"background: #56D7C4; padding: 0.45em 0.6em; margin: 0 0.25em; line-height: 1; border-radius: 0.35em;\">\n",
       "    Streptococcus\n",
       "    <span style=\"font-size: 0.8em; font-weight: bold; line-height: 1; border-radius: 0.35em; vertical-align: middle; margin-left: 0.5rem\">Pathogen</span>\n",
       "</mark>\n",
       " and \n",
       "<mark class=\"entity\" style=\"background: #56D7C4; padding: 0.45em 0.6em; margin: 0 0.25em; line-height: 1; border-radius: 0.35em;\">\n",
       "    Pseudomonas\n",
       "    <span style=\"font-size: 0.8em; font-weight: bold; line-height: 1; border-radius: 0.35em; vertical-align: middle; margin-left: 0.5rem\">Pathogen</span>\n",
       "</mark>\n",
       ", and foodborne illnesses, which can be caused by bacteria such as \n",
       "<mark class=\"entity\" style=\"background: #56D7C4; padding: 0.45em 0.6em; margin: 0 0.25em; line-height: 1; border-radius: 0.35em;\">\n",
       "    Shigella\n",
       "    <span style=\"font-size: 0.8em; font-weight: bold; line-height: 1; border-radius: 0.35em; vertical-align: middle; margin-left: 0.5rem\">Pathogen</span>\n",
       "</mark>\n",
       ", \n",
       "<mark class=\"entity\" style=\"background: #56D7C4; padding: 0.45em 0.6em; margin: 0 0.25em; line-height: 1; border-radius: 0.35em;\">\n",
       "    Campylobacter\n",
       "    <span style=\"font-size: 0.8em; font-weight: bold; line-height: 1; border-radius: 0.35em; vertical-align: middle; margin-left: 0.5rem\">Pathogen</span>\n",
       "</mark>\n",
       ", and \n",
       "<mark class=\"entity\" style=\"background: #56D7C4; padding: 0.45em 0.6em; margin: 0 0.25em; line-height: 1; border-radius: 0.35em;\">\n",
       "    Salmonella\n",
       "    <span style=\"font-size: 0.8em; font-weight: bold; line-height: 1; border-radius: 0.35em; vertical-align: middle; margin-left: 0.5rem\">Pathogen</span>\n",
       "</mark>\n",
       ". Pathogenic bacteria also cause infections such as \n",
       "<mark class=\"entity\" style=\"background: #92E0AA; padding: 0.45em 0.6em; margin: 0 0.25em; line-height: 1; border-radius: 0.35em;\">\n",
       "    tetanus\n",
       "    <span style=\"font-size: 0.8em; font-weight: bold; line-height: 1; border-radius: 0.35em; vertical-align: middle; margin-left: 0.5rem\">MedicalCondition</span>\n",
       "</mark>\n",
       ", \n",
       "<mark class=\"entity\" style=\"background: #92E0AA; padding: 0.45em 0.6em; margin: 0 0.25em; line-height: 1; border-radius: 0.35em;\">\n",
       "    typhoid fever, diphtheria\n",
       "    <span style=\"font-size: 0.8em; font-weight: bold; line-height: 1; border-radius: 0.35em; vertical-align: middle; margin-left: 0.5rem\">MedicalCondition</span>\n",
       "</mark>\n",
       ", \n",
       "<mark class=\"entity\" style=\"background: #92E0AA; padding: 0.45em 0.6em; margin: 0 0.25em; line-height: 1; border-radius: 0.35em;\">\n",
       "    syphilis\n",
       "    <span style=\"font-size: 0.8em; font-weight: bold; line-height: 1; border-radius: 0.35em; vertical-align: middle; margin-left: 0.5rem\">MedicalCondition</span>\n",
       "</mark>\n",
       ", and \n",
       "<mark class=\"entity\" style=\"background: #92E0AA; padding: 0.45em 0.6em; margin: 0 0.25em; line-height: 1; border-radius: 0.35em;\">\n",
       "    leprosy\n",
       "    <span style=\"font-size: 0.8em; font-weight: bold; line-height: 1; border-radius: 0.35em; vertical-align: middle; margin-left: 0.5rem\">MedicalCondition</span>\n",
       "</mark>\n",
       ". Pathogenic bacteria are also the cause of high infant mortality rates in developing countries.</div></span>"
      ],
      "text/plain": [
       "<IPython.core.display.HTML object>"
      ]
     },
     "metadata": {},
     "output_type": "display_data"
    }
   ],
   "source": [
    "def show_results(nlp, texts):\n",
    "    docs = list(nlp.pipe(texts))\n",
    "    for doc in docs:\n",
    "        print('-'*80)\n",
    "        spacy.displacy.render(doc, style='ent', options=options)\n",
    "\n",
    "texts = [\n",
    "    \"One of the bacterial diseases with the highest disease burden is tuberculosis, caused by Mycobacterium tuberculosis bacteria, which kills about 2 million people a year.\",\n",
    "    \"Pathogenic bacteria contribute to other globally important diseases, such as pneumonia, which can be caused by bacteria such as Streptococcus and Pseudomonas, and foodborne illnesses, which can be caused by bacteria such as Shigella, Campylobacter, and Salmonella. Pathogenic bacteria also cause infections such as tetanus, typhoid fever, diphtheria, syphilis, and leprosy. Pathogenic bacteria are also the cause of high infant mortality rates in developing countries.\"\n",
    "]   \n",
    "   \n",
    "show_results(nlp, texts) "
   ]
  },
  {
   "cell_type": "code",
   "execution_count": 14,
   "id": "94798394",
   "metadata": {
    "ExecuteTime": {
     "end_time": "2021-09-26T23:36:14.620379Z",
     "start_time": "2021-09-26T23:36:14.522531Z"
    }
   },
   "outputs": [
    {
     "name": "stdout",
     "output_type": "stream",
     "text": [
      "================================================================================\n",
      "------------------------------ predicted ------------------------------\n"
     ]
    },
    {
     "data": {
      "text/html": [
       "<span class=\"tex2jax_ignore\"><div class=\"entities\" style=\"line-height: 2.5; direction: ltr\">The antiviral drugs amantadine and \n",
       "<mark class=\"entity\" style=\"background: #92E0AA; padding: 0.45em 0.6em; margin: 0 0.25em; line-height: 1; border-radius: 0.35em;\">\n",
       "    rimantadine inhibit a viral\n",
       "    <span style=\"font-size: 0.8em; font-weight: bold; line-height: 1; border-radius: 0.35em; vertical-align: middle; margin-left: 0.5rem\">MedicalCondition</span>\n",
       "</mark>\n",
       " ion channel (M2 protein), thus inhibiting replication of the influenza A virus.[86] These drugs are sometimes effective against \n",
       "<mark class=\"entity\" style=\"background: #92E0AA; padding: 0.45em 0.6em; margin: 0 0.25em; line-height: 1; border-radius: 0.35em;\">\n",
       "    influenza\n",
       "    <span style=\"font-size: 0.8em; font-weight: bold; line-height: 1; border-radius: 0.35em; vertical-align: middle; margin-left: 0.5rem\">MedicalCondition</span>\n",
       "</mark>\n",
       " A if given early in the infection but are ineffective against \n",
       "<mark class=\"entity\" style=\"background: #92E0AA; padding: 0.45em 0.6em; margin: 0 0.25em; line-height: 1; border-radius: 0.35em;\">\n",
       "    influenza\n",
       "    <span style=\"font-size: 0.8em; font-weight: bold; line-height: 1; border-radius: 0.35em; vertical-align: middle; margin-left: 0.5rem\">MedicalCondition</span>\n",
       "</mark>\n",
       " B viruses, which lack the M2 drug target.[160] \n",
       "<mark class=\"entity\" style=\"background: #92E0AA; padding: 0.45em 0.6em; margin: 0 0.25em; line-height: 1; border-radius: 0.35em;\">\n",
       "    Measured resistance to amantadine and rimantadine\n",
       "    <span style=\"font-size: 0.8em; font-weight: bold; line-height: 1; border-radius: 0.35em; vertical-align: middle; margin-left: 0.5rem\">MedicalCondition</span>\n",
       "</mark>\n",
       " in American isolates of H3N2 has increased to 91% in 2005.[161] This high level of resistance may be due to the easy availability of amantadines as part of over-the-counter cold remedies in countries such as \n",
       "<mark class=\"entity\" style=\"background: lightgreen; padding: 0.45em 0.6em; margin: 0 0.25em; line-height: 1; border-radius: 0.35em;\">\n",
       "    China\n",
       "    <span style=\"font-size: 0.8em; font-weight: bold; line-height: 1; border-radius: 0.35em; vertical-align: middle; margin-left: 0.5rem\">Medicine</span>\n",
       "</mark>\n",
       " and Russia,[162] and their use to prevent outbreaks of \n",
       "<mark class=\"entity\" style=\"background: #92E0AA; padding: 0.45em 0.6em; margin: 0 0.25em; line-height: 1; border-radius: 0.35em;\">\n",
       "    influenza\n",
       "    <span style=\"font-size: 0.8em; font-weight: bold; line-height: 1; border-radius: 0.35em; vertical-align: middle; margin-left: 0.5rem\">MedicalCondition</span>\n",
       "</mark>\n",
       " in farmed poultry.[163][164] The CDC recommended against using M2 inhibitors during the 2005–06 influenza season due to high levels of drug resistance.[165]</div></span>"
      ],
      "text/plain": [
       "<IPython.core.display.HTML object>"
      ]
     },
     "metadata": {},
     "output_type": "display_data"
    },
    {
     "name": "stdout",
     "output_type": "stream",
     "text": [
      "------------------------------ reference ------------------------------\n"
     ]
    },
    {
     "data": {
      "text/html": [
       "<span class=\"tex2jax_ignore\"><div class=\"entities\" style=\"line-height: 2.5; direction: ltr\">The antiviral drugs \n",
       "<mark class=\"entity\" style=\"background: lightgreen; padding: 0.45em 0.6em; margin: 0 0.25em; line-height: 1; border-radius: 0.35em;\">\n",
       "    amantadine\n",
       "    <span style=\"font-size: 0.8em; font-weight: bold; line-height: 1; border-radius: 0.35em; vertical-align: middle; margin-left: 0.5rem\">Medicine</span>\n",
       "</mark>\n",
       " and \n",
       "<mark class=\"entity\" style=\"background: lightgreen; padding: 0.45em 0.6em; margin: 0 0.25em; line-height: 1; border-radius: 0.35em;\">\n",
       "    rimantadine\n",
       "    <span style=\"font-size: 0.8em; font-weight: bold; line-height: 1; border-radius: 0.35em; vertical-align: middle; margin-left: 0.5rem\">Medicine</span>\n",
       "</mark>\n",
       " inhibit a viral ion channel (M2 protein), thus inhibiting replication of the influenza A virus.[86] These drugs are sometimes effective against influenza A if given early in the infection but are ineffective against influenza B viruses, which lack the M2 drug target.[160] Measured resistance to amantadine and rimantadine in American isolates of H3N2 has increased to 91% in 2005.[161] This high level of resistance may be due to the easy availability of amantadines as part of over-the-counter cold remedies in countries such as China and Russia,[162] and their use to prevent outbreaks of \n",
       "<mark class=\"entity\" style=\"background: #92E0AA; padding: 0.45em 0.6em; margin: 0 0.25em; line-height: 1; border-radius: 0.35em;\">\n",
       "    influenza\n",
       "    <span style=\"font-size: 0.8em; font-weight: bold; line-height: 1; border-radius: 0.35em; vertical-align: middle; margin-left: 0.5rem\">MedicalCondition</span>\n",
       "</mark>\n",
       " in farmed poultry.[163][164] The CDC recommended against using \n",
       "<mark class=\"entity\" style=\"background: lightgreen; padding: 0.45em 0.6em; margin: 0 0.25em; line-height: 1; border-radius: 0.35em;\">\n",
       "    M2 inhibitors\n",
       "    <span style=\"font-size: 0.8em; font-weight: bold; line-height: 1; border-radius: 0.35em; vertical-align: middle; margin-left: 0.5rem\">Medicine</span>\n",
       "</mark>\n",
       " during the 2005–06 influenza season due to high levels of drug resistance.[165]</div></span>"
      ],
      "text/plain": [
       "<IPython.core.display.HTML object>"
      ]
     },
     "metadata": {},
     "output_type": "display_data"
    }
   ],
   "source": [
    "for example in test_examples[0:1]:\n",
    "    print('='*80)\n",
    "    doc = nlp(example.predicted.text)\n",
    "    if len(doc.ents)>0:\n",
    "        print('-'*30, 'predicted', '-'*30)\n",
    "        spacy.displacy.render(doc, style='ent', options=options)\n",
    "        print('-'*30, 'reference', '-'*30)\n",
    "        spacy.displacy.render(example.reference, style='ent', options=options)            \n",
    "    else:\n",
    "        print(doc.text)"
   ]
  },
  {
   "cell_type": "code",
   "execution_count": null,
   "id": "56c827e6",
   "metadata": {},
   "outputs": [],
   "source": []
  }
 ],
 "metadata": {
  "kernelspec": {
   "display_name": "Python 3",
   "language": "python",
   "name": "python3"
  },
  "language_info": {
   "codemirror_mode": {
    "name": "ipython",
    "version": 3
   },
   "file_extension": ".py",
   "mimetype": "text/x-python",
   "name": "python",
   "nbconvert_exporter": "python",
   "pygments_lexer": "ipython3",
   "version": "3.6.9"
  },
  "toc": {
   "base_numbering": 1,
   "nav_menu": {},
   "number_sections": true,
   "sideBar": true,
   "skip_h1_title": false,
   "title_cell": "Table of Contents",
   "title_sidebar": "Contents",
   "toc_cell": false,
   "toc_position": {},
   "toc_section_display": true,
   "toc_window_display": false
  }
 },
 "nbformat": 4,
 "nbformat_minor": 5
}
