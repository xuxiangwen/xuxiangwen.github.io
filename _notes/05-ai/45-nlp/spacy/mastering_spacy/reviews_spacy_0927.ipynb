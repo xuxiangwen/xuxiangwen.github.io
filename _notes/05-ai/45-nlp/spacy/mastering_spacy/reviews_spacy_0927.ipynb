{
 "cells": [
  {
   "cell_type": "code",
   "execution_count": null,
   "id": "eb78c492",
   "metadata": {},
   "outputs": [],
   "source": []
  },
  {
   "cell_type": "code",
   "execution_count": 1,
   "id": "c16f19e8",
   "metadata": {
    "ExecuteTime": {
     "end_time": "2021-09-28T02:28:42.345774Z",
     "start_time": "2021-09-28T02:28:38.020732Z"
    }
   },
   "outputs": [],
   "source": [
    "import pandas as pd\n",
    "import matplotlib.pyplot as plt\n",
    "import numpy as np \n",
    "import spacy\n",
    "import random\n",
    "\n",
    "from IPython.core.display import display\n",
    "from spacy.training import Example\n",
    "from spacy.pipeline.textcat_multilabel import DEFAULT_MULTI_TEXTCAT_MODEL\n",
    "from sklearn.model_selection import train_test_split\n",
    "\n",
    "# auto load the changes of referenced codes\n",
    "%load_ext autoreload\n",
    "%autoreload 2\n",
    "\n",
    "# ebablbe auto-completion\n",
    "%config Completer.use_jedi = False"
   ]
  },
  {
   "cell_type": "markdown",
   "id": "03a48478",
   "metadata": {},
   "source": [
    "## 数据和模型准备"
   ]
  },
  {
   "cell_type": "code",
   "execution_count": 2,
   "id": "db550a96",
   "metadata": {
    "ExecuteTime": {
     "end_time": "2021-09-28T02:28:45.493967Z",
     "start_time": "2021-09-28T02:28:42.348138Z"
    }
   },
   "outputs": [
    {
     "name": "stdout",
     "output_type": "stream",
     "text": [
      "(568454, 10)\n"
     ]
    },
    {
     "data": {
      "text/html": [
       "<div>\n",
       "<style scoped>\n",
       "    .dataframe tbody tr th:only-of-type {\n",
       "        vertical-align: middle;\n",
       "    }\n",
       "\n",
       "    .dataframe tbody tr th {\n",
       "        vertical-align: top;\n",
       "    }\n",
       "\n",
       "    .dataframe thead th {\n",
       "        text-align: right;\n",
       "    }\n",
       "</style>\n",
       "<table border=\"1\" class=\"dataframe\">\n",
       "  <thead>\n",
       "    <tr style=\"text-align: right;\">\n",
       "      <th></th>\n",
       "      <th>Id</th>\n",
       "      <th>ProductId</th>\n",
       "      <th>UserId</th>\n",
       "      <th>ProfileName</th>\n",
       "      <th>HelpfulnessNumerator</th>\n",
       "      <th>HelpfulnessDenominator</th>\n",
       "      <th>Score</th>\n",
       "      <th>Time</th>\n",
       "      <th>Summary</th>\n",
       "      <th>Text</th>\n",
       "    </tr>\n",
       "  </thead>\n",
       "  <tbody>\n",
       "    <tr>\n",
       "      <th>0</th>\n",
       "      <td>1</td>\n",
       "      <td>B001E4KFG0</td>\n",
       "      <td>A3SGXH7AUHU8GW</td>\n",
       "      <td>delmartian</td>\n",
       "      <td>1</td>\n",
       "      <td>1</td>\n",
       "      <td>5</td>\n",
       "      <td>1303862400</td>\n",
       "      <td>Good Quality Dog Food</td>\n",
       "      <td>I have bought several of the Vitality canned d...</td>\n",
       "    </tr>\n",
       "    <tr>\n",
       "      <th>1</th>\n",
       "      <td>2</td>\n",
       "      <td>B00813GRG4</td>\n",
       "      <td>A1D87F6ZCVE5NK</td>\n",
       "      <td>dll pa</td>\n",
       "      <td>0</td>\n",
       "      <td>0</td>\n",
       "      <td>1</td>\n",
       "      <td>1346976000</td>\n",
       "      <td>Not as Advertised</td>\n",
       "      <td>Product arrived labeled as Jumbo Salted Peanut...</td>\n",
       "    </tr>\n",
       "    <tr>\n",
       "      <th>2</th>\n",
       "      <td>3</td>\n",
       "      <td>B000LQOCH0</td>\n",
       "      <td>ABXLMWJIXXAIN</td>\n",
       "      <td>Natalia Corres \"Natalia Corres\"</td>\n",
       "      <td>1</td>\n",
       "      <td>1</td>\n",
       "      <td>4</td>\n",
       "      <td>1219017600</td>\n",
       "      <td>\"Delight\" says it all</td>\n",
       "      <td>This is a confection that has been around a fe...</td>\n",
       "    </tr>\n",
       "    <tr>\n",
       "      <th>3</th>\n",
       "      <td>4</td>\n",
       "      <td>B000UA0QIQ</td>\n",
       "      <td>A395BORC6FGVXV</td>\n",
       "      <td>Karl</td>\n",
       "      <td>3</td>\n",
       "      <td>3</td>\n",
       "      <td>2</td>\n",
       "      <td>1307923200</td>\n",
       "      <td>Cough Medicine</td>\n",
       "      <td>If you are looking for the secret ingredient i...</td>\n",
       "    </tr>\n",
       "    <tr>\n",
       "      <th>4</th>\n",
       "      <td>5</td>\n",
       "      <td>B006K2ZZ7K</td>\n",
       "      <td>A1UQRSCLF8GW1T</td>\n",
       "      <td>Michael D. Bigham \"M. Wassir\"</td>\n",
       "      <td>0</td>\n",
       "      <td>0</td>\n",
       "      <td>5</td>\n",
       "      <td>1350777600</td>\n",
       "      <td>Great taffy</td>\n",
       "      <td>Great taffy at a great price.  There was a wid...</td>\n",
       "    </tr>\n",
       "  </tbody>\n",
       "</table>\n",
       "</div>"
      ],
      "text/plain": [
       "   Id   ProductId          UserId                      ProfileName  \\\n",
       "0   1  B001E4KFG0  A3SGXH7AUHU8GW                       delmartian   \n",
       "1   2  B00813GRG4  A1D87F6ZCVE5NK                           dll pa   \n",
       "2   3  B000LQOCH0   ABXLMWJIXXAIN  Natalia Corres \"Natalia Corres\"   \n",
       "3   4  B000UA0QIQ  A395BORC6FGVXV                             Karl   \n",
       "4   5  B006K2ZZ7K  A1UQRSCLF8GW1T    Michael D. Bigham \"M. Wassir\"   \n",
       "\n",
       "   HelpfulnessNumerator  HelpfulnessDenominator  Score        Time  \\\n",
       "0                     1                       1      5  1303862400   \n",
       "1                     0                       0      1  1346976000   \n",
       "2                     1                       1      4  1219017600   \n",
       "3                     3                       3      2  1307923200   \n",
       "4                     0                       0      5  1350777600   \n",
       "\n",
       "                 Summary                                               Text  \n",
       "0  Good Quality Dog Food  I have bought several of the Vitality canned d...  \n",
       "1      Not as Advertised  Product arrived labeled as Jumbo Salted Peanut...  \n",
       "2  \"Delight\" says it all  This is a confection that has been around a fe...  \n",
       "3         Cough Medicine  If you are looking for the secret ingredient i...  \n",
       "4            Great taffy  Great taffy at a great price.  There was a wid...  "
      ]
     },
     "metadata": {},
     "output_type": "display_data"
    },
    {
     "data": {
      "image/png": "[encoded data removed]",
      "text/plain": [
       "<Figure size 432x288 with 1 Axes>"
      ]
     },
     "metadata": {
      "needs_background": "light"
     },
     "output_type": "display_data"
    }
   ],
   "source": [
    "reviews_df=pd.read_csv('data/Reviews.csv')\n",
    "print(reviews_df.shape)\n",
    "display(reviews_df.head(5))\n",
    "\n",
    "# 评分分布\n",
    "ax=reviews_df.Score.value_counts().plot(kind='bar', colormap='Paired')\n",
    "plt.show()"
   ]
  },
  {
   "cell_type": "code",
   "execution_count": 3,
   "id": "fd09bf7f",
   "metadata": {
    "ExecuteTime": {
     "end_time": "2021-09-28T02:28:45.861032Z",
     "start_time": "2021-09-28T02:28:45.496661Z"
    }
   },
   "outputs": [
    {
     "name": "stdout",
     "output_type": "stream",
     "text": [
      "(568454, 2)\n"
     ]
    },
    {
     "data": {
      "text/html": [
       "<div>\n",
       "<style scoped>\n",
       "    .dataframe tbody tr th:only-of-type {\n",
       "        vertical-align: middle;\n",
       "    }\n",
       "\n",
       "    .dataframe tbody tr th {\n",
       "        vertical-align: top;\n",
       "    }\n",
       "\n",
       "    .dataframe thead th {\n",
       "        text-align: right;\n",
       "    }\n",
       "</style>\n",
       "<table border=\"1\" class=\"dataframe\">\n",
       "  <thead>\n",
       "    <tr style=\"text-align: right;\">\n",
       "      <th></th>\n",
       "      <th>Text</th>\n",
       "      <th>Score</th>\n",
       "    </tr>\n",
       "  </thead>\n",
       "  <tbody>\n",
       "    <tr>\n",
       "      <th>0</th>\n",
       "      <td>I have bought several of the Vitality canned d...</td>\n",
       "      <td>5</td>\n",
       "    </tr>\n",
       "    <tr>\n",
       "      <th>1</th>\n",
       "      <td>Product arrived labeled as Jumbo Salted Peanut...</td>\n",
       "      <td>1</td>\n",
       "    </tr>\n",
       "    <tr>\n",
       "      <th>2</th>\n",
       "      <td>This is a confection that has been around a fe...</td>\n",
       "      <td>4</td>\n",
       "    </tr>\n",
       "    <tr>\n",
       "      <th>3</th>\n",
       "      <td>If you are looking for the secret ingredient i...</td>\n",
       "      <td>2</td>\n",
       "    </tr>\n",
       "    <tr>\n",
       "      <th>4</th>\n",
       "      <td>Great taffy at a great price.  There was a wid...</td>\n",
       "      <td>5</td>\n",
       "    </tr>\n",
       "  </tbody>\n",
       "</table>\n",
       "</div>"
      ],
      "text/plain": [
       "                                                Text  Score\n",
       "0  I have bought several of the Vitality canned d...      5\n",
       "1  Product arrived labeled as Jumbo Salted Peanut...      1\n",
       "2  This is a confection that has been around a fe...      4\n",
       "3  If you are looking for the secret ingredient i...      2\n",
       "4  Great taffy at a great price.  There was a wid...      5"
      ]
     },
     "metadata": {},
     "output_type": "display_data"
    },
    {
     "data": {
      "image/png": "[encoded data removed]",
      "text/plain": [
       "<Figure size 432x288 with 1 Axes>"
      ]
     },
     "metadata": {
      "needs_background": "light"
     },
     "output_type": "display_data"
    }
   ],
   "source": [
    "reviews_df = reviews_df[['Text','Score']].dropna()\n",
    "print(reviews_df.shape)\n",
    "display(reviews_df.head(5))\n",
    "\n",
    "# 评分分布\n",
    "ax=reviews_df.Score.value_counts().plot(kind='bar', colormap='Paired')\n",
    "plt.show()"
   ]
  },
  {
   "cell_type": "code",
   "execution_count": 4,
   "id": "a74a89c4",
   "metadata": {
    "ExecuteTime": {
     "end_time": "2021-09-28T02:28:46.051777Z",
     "start_time": "2021-09-28T02:28:45.863486Z"
    }
   },
   "outputs": [
    {
     "data": {
      "text/html": [
       "<div>\n",
       "<style scoped>\n",
       "    .dataframe tbody tr th:only-of-type {\n",
       "        vertical-align: middle;\n",
       "    }\n",
       "\n",
       "    .dataframe tbody tr th {\n",
       "        vertical-align: top;\n",
       "    }\n",
       "\n",
       "    .dataframe thead th {\n",
       "        text-align: right;\n",
       "    }\n",
       "</style>\n",
       "<table border=\"1\" class=\"dataframe\">\n",
       "  <thead>\n",
       "    <tr style=\"text-align: right;\">\n",
       "      <th></th>\n",
       "      <th>Text</th>\n",
       "      <th>Score</th>\n",
       "    </tr>\n",
       "  </thead>\n",
       "  <tbody>\n",
       "    <tr>\n",
       "      <th>0</th>\n",
       "      <td>I have bought several of the Vitality canned d...</td>\n",
       "      <td>1</td>\n",
       "    </tr>\n",
       "    <tr>\n",
       "      <th>1</th>\n",
       "      <td>Product arrived labeled as Jumbo Salted Peanut...</td>\n",
       "      <td>0</td>\n",
       "    </tr>\n",
       "    <tr>\n",
       "      <th>2</th>\n",
       "      <td>This is a confection that has been around a fe...</td>\n",
       "      <td>1</td>\n",
       "    </tr>\n",
       "    <tr>\n",
       "      <th>3</th>\n",
       "      <td>If you are looking for the secret ingredient i...</td>\n",
       "      <td>0</td>\n",
       "    </tr>\n",
       "    <tr>\n",
       "      <th>4</th>\n",
       "      <td>Great taffy at a great price.  There was a wid...</td>\n",
       "      <td>1</td>\n",
       "    </tr>\n",
       "  </tbody>\n",
       "</table>\n",
       "</div>"
      ],
      "text/plain": [
       "                                                Text  Score\n",
       "0  I have bought several of the Vitality canned d...      1\n",
       "1  Product arrived labeled as Jumbo Salted Peanut...      0\n",
       "2  This is a confection that has been around a fe...      1\n",
       "3  If you are looking for the secret ingredient i...      0\n",
       "4  Great taffy at a great price.  There was a wid...      1"
      ]
     },
     "metadata": {},
     "output_type": "display_data"
    },
    {
     "data": {
      "image/png": "[encoded data removed]",
      "text/plain": [
       "<Figure size 432x288 with 1 Axes>"
      ]
     },
     "metadata": {
      "needs_background": "light"
     },
     "output_type": "display_data"
    }
   ],
   "source": [
    "reviews_df.loc[reviews_df.Score<=3, 'Score']=0\n",
    "reviews_df.loc[reviews_df.Score>3, 'Score']=1\n",
    "display(reviews_df.head(5))\n",
    "\n",
    "ax=reviews_df.Score.value_counts().plot(kind='bar',\n",
    "colormap='Paired')\n",
    "plt.show()"
   ]
  },
  {
   "cell_type": "code",
   "execution_count": 5,
   "id": "3dbf6555",
   "metadata": {
    "ExecuteTime": {
     "end_time": "2021-09-28T02:29:17.587744Z",
     "start_time": "2021-09-28T02:28:46.053987Z"
    }
   },
   "outputs": [
    {
     "name": "stdout",
     "output_type": "stream",
     "text": [
      "------------------------- 创建初始模型 -------------------------\n",
      "------------------------- 生成训练测试数据 -------------------------\n",
      "len(examples)=40000\n",
      "len(train_examples)=32000\n",
      "len(test_examples)=8000\n"
     ]
    }
   ],
   "source": [
    "print('-'*25, '创建初始模型', '-'*25)\n",
    "\n",
    "spacy.prefer_gpu()  # 这句代码必须在load之前调用\n",
    "nlp = spacy.load(\"en_core_web_md\")\n",
    "config = {\n",
    "    \"threshold\": 0.5,\n",
    "    \"model\": DEFAULT_MULTI_TEXTCAT_MODEL\n",
    "}\n",
    "textcat = nlp.add_pipe(\"textcat_multilabel\", config=config)\n",
    "textcat.add_label(\"POS\")\n",
    "textcat.add_label(\"NEG\")\n",
    "\n",
    "\n",
    "print('-'*25, '生成训练测试数据', '-'*25)\n",
    "examples = []\n",
    "for index, row in reviews_df.sample(40000).iterrows():\n",
    "    text = row[\"Text\"]\n",
    "    rating = row[\"Score\"]\n",
    "    label = {\"POS\": True, \"NEG\": False} if rating == 1 else {\"NEG\": True, \"POS\": False}\n",
    "    examples.append(Example.from_dict(nlp.make_doc(text), {\"cats\": label})) \n",
    "    \n",
    "print(f'len(examples)={len(examples)}')\n",
    "    \n",
    "train_examples, test_examples = train_test_split(examples,  \n",
    "                                                 test_size=0.2, \n",
    "                                                 random_state=202109)    \n",
    "print(f'len(train_examples)={len(train_examples)}')\n",
    "print(f'len(test_examples)={len(test_examples)}')"
   ]
  },
  {
   "cell_type": "markdown",
   "id": "d471af24",
   "metadata": {},
   "source": [
    "## 训练"
   ]
  },
  {
   "cell_type": "code",
   "execution_count": 6,
   "id": "763ff691",
   "metadata": {
    "ExecuteTime": {
     "end_time": "2021-09-28T03:16:59.247443Z",
     "start_time": "2021-09-28T02:29:17.589828Z"
    }
   },
   "outputs": [
    {
     "name": "stdout",
     "output_type": "stream",
     "text": [
      "------------------------- 训练 -------------------------\n",
      " 1/10 train=(loss:15.891, auc:0.948, p:0.898, r:0.834, f: 0.86) test=(auc:0.922, p: 0.85, r:0.774, f:0.803)\n",
      " 2/10 train=(loss:8.787, auc:0.969, p:0.932, r:0.899, f:0.914) test=(auc:0.929, p: 0.86, r: 0.81, f:0.831)\n",
      " 3/10 train=(loss:6.489, auc:0.978, p:0.955, r:0.912, f:0.931) test=(auc:0.932, p:0.877, r:0.798, f:0.828)\n",
      " 4/10 train=(loss:5.119, auc:0.982, p:0.962, r:0.951, f:0.957) test=(auc: 0.93, p:0.852, r:0.831, f:0.841)\n",
      " 5/10 train=(loss: 4.11, auc:0.985, p:0.975, r:0.948, f:0.961) test=(auc:0.925, p:0.873, r:  0.8, f:0.829)\n",
      " 6/10 train=(loss:3.414, auc:0.987, p:0.977, r:0.968, f:0.972) test=(auc:0.929, p:0.853, r:0.828, f:0.839)\n",
      " 7/10 train=(loss:2.894, auc:0.989, p:0.984, r:0.972, f:0.978) test=(auc:0.922, p:0.854, r:0.812, f: 0.83)\n",
      " 8/10 train=(loss:2.502, auc: 0.99, p:0.986, r:0.978, f:0.982) test=(auc:0.923, p:0.851, r:0.824, f:0.837)\n",
      " 9/10 train=(loss:2.137, auc:0.991, p:0.988, r:0.979, f:0.984) test=(auc:0.922, p:0.854, r:0.819, f:0.835)\n",
      "10/10 train=(loss:1.903, auc:0.992, p: 0.99, r:0.982, f:0.986) test=(auc: 0.92, p:0.851, r:0.809, f:0.827)\n"
     ]
    }
   ],
   "source": [
    "def get_scores(nlp, examples, metrics=['cats_macro_auc', 'cats_macro_p', 'cats_macro_r', 'cats_macro_f']):\n",
    "    scores = nlp.evaluate(examples)\n",
    "    # 以下代码，效果完全相同\n",
    "    # scorer = Scorer()\n",
    "    # predicted_examples = [Example(nlp(example.predicted.text), example.reference)  \n",
    "    #                       for example in examples]        \n",
    "    # scores = scorer.score(predicted_examples)\n",
    "    if isinstance(metrics[0], tuple):\n",
    "        metrics = [metric for metric, _ in metrics]     \n",
    "    scores = {metric:value  for metric, value in scores.items() if metric in metrics}\n",
    "    return scores\n",
    "\n",
    "def get_score_text(metrics=['cats_macro_auc', 'cats_macro_p', 'cats_macro_r', 'cats_macro_f']):    \n",
    "    def get_text(scores):\n",
    "        score_texts = [f'{display}:{round(scores[metric], 3):>5}' for metric, display in metrics]\n",
    "        return ', '.join(score_texts) \n",
    "    \n",
    "    if isinstance(metrics[0], str):\n",
    "        metrics = [(metric, metric) for metric in metrics] \n",
    "    return get_text\n",
    "\n",
    "def train(nlp, textcat, train_examples, test_examples, epochs, best_model_path, \n",
    "          metrics, best_metric, dropout=0.0, ):\n",
    "    textcat.initialize(lambda: train_examples, nlp=nlp)\n",
    "    score_text_fun = get_score_text(metrics)\n",
    "\n",
    "    with nlp.select_pipes(enable=\"textcat_multilabel\"):  \n",
    "        optimizer = nlp.resume_training()\n",
    "        best_metric_value = None    \n",
    "        for itn in range(epochs):\n",
    "            losses = {}        \n",
    "            random.shuffle(train_examples)\n",
    "            for batch in spacy.util.minibatch(train_examples, size=8):\n",
    "                nlp.update(batch, losses=losses, drop=dropout) \n",
    "\n",
    "            train_scores = get_scores(nlp, train_examples, metrics)\n",
    "            test_scores = get_scores(nlp, test_examples, metrics)\n",
    "            metric_value = test_scores[best_metric]\n",
    "\n",
    "            loss = losses['textcat_multilabel']    \n",
    "            print((f\"{itn+1:>2}/{epochs} \"  \n",
    "                   f\"train=(loss:{round(loss, 3):>5}, {score_text_fun(train_scores)})\"\n",
    "                   f\" test=({score_text_fun(test_scores)})\"))\n",
    "            if best_metric_value is None or metric_value > best_metric_value:\n",
    "                best_metric_value = metric_value        \n",
    "                nlp.to_disk(best_model_path)\n",
    "\n",
    "print('-'*25, '训练', '-'*25)\n",
    "# ! mkdir output/first_classification                \n",
    "best_model_path='output/first_classification/best'  \n",
    "metrics = [('cats_macro_auc', 'auc'), ('cats_macro_p', 'p'), \n",
    "           ('cats_macro_r', 'r'), ('cats_macro_f', 'f')]\n",
    "train(nlp, textcat, train_examples, test_examples, epochs=10, best_model_path=best_model_path, \n",
    "      metrics=metrics, best_metric='cats_macro_auc', dropout=0.5)"
   ]
  },
  {
   "cell_type": "markdown",
   "id": "3bb6ca7f",
   "metadata": {},
   "source": [
    "## 评估和预测"
   ]
  },
  {
   "cell_type": "code",
   "execution_count": 7,
   "id": "009eba80",
   "metadata": {
    "ExecuteTime": {
     "end_time": "2021-09-28T03:18:28.832857Z",
     "start_time": "2021-09-28T03:16:59.249676Z"
    }
   },
   "outputs": [
    {
     "name": "stdout",
     "output_type": "stream",
     "text": [
      "train=(macro_auc:0.978, micro_p:0.955, macro_p:0.955, micro_r:0.956, macro_r:0.912, micro_f:0.956, macro_f:0.931\n",
      " test=(macro_auc:0.932, micro_p:0.894, macro_p:0.877, micro_r:0.895, macro_r:0.798, micro_f:0.895, macro_f:0.828\n"
     ]
    }
   ],
   "source": [
    "spacy.prefer_gpu()  \n",
    "nlp = spacy.load(best_model_path)\n",
    "\n",
    "metrics=['cats_macro_auc', 'cats_micro_p', 'cats_macro_p', \n",
    "         'cats_micro_r', 'cats_macro_r', 'cats_micro_f', 'cats_macro_f']\n",
    "metrics = [(metric, metric[5:]) for metric in metrics]\n",
    "train_scores = get_scores(nlp, train_examples, metrics)\n",
    "test_scores = get_scores(nlp, test_examples, metrics)\n",
    "score_text_fun=get_score_text(metrics)\n",
    "\n",
    "print(f\"train=({score_text_fun(train_scores)}\")\n",
    "print(f\" test=({score_text_fun(test_scores)}\")"
   ]
  },
  {
   "cell_type": "code",
   "execution_count": 8,
   "id": "e7d567de",
   "metadata": {
    "ExecuteTime": {
     "end_time": "2021-09-28T03:18:28.906222Z",
     "start_time": "2021-09-28T03:18:28.835917Z"
    }
   },
   "outputs": [
    {
     "name": "stdout",
     "output_type": "stream",
     "text": [
      "------------------------- {'POS': 0.9865200519561768, 'NEG': 0.013627051375806332} -------------------------\n",
      "This is the best food I ever ate\n",
      "------------------------- {'POS': 0.4325401186943054, 'NEG': 0.5881369113922119} -------------------------\n",
      "This food is so bad\n"
     ]
    }
   ],
   "source": [
    "def show_results(nlp, texts):\n",
    "    docs = list(nlp.pipe(texts))\n",
    "    for doc in docs:\n",
    "        print('-'*25, doc.cats,'-'*25)\n",
    "        print(doc.text)\n",
    "\n",
    "texts = [\n",
    "    \"This is the best food I ever ate\",\n",
    "    \"This food is so bad\"\n",
    "]   \n",
    "   \n",
    "show_results(nlp, texts) "
   ]
  },
  {
   "cell_type": "code",
   "execution_count": 9,
   "id": "2429dfc7",
   "metadata": {
    "ExecuteTime": {
     "end_time": "2021-09-28T03:18:29.319096Z",
     "start_time": "2021-09-28T03:18:28.908716Z"
    }
   },
   "outputs": [
    {
     "name": "stdout",
     "output_type": "stream",
     "text": [
      "======================================== 4457 ========================================\n",
      "nice natural choice for treats i have bostons and chinese cresteds so the size of the treat was good and even could be split<br />if desired with ease\n",
      "------------------------- predicted:{'POS': 0.9447638392448425, 'NEG': 0.055935949087142944} -------------------------\n",
      "------------------------- reference: {'POS': True, 'NEG': False} -------------------------\n",
      "======================================== 6004 ========================================\n",
      "the more i drink this coffee the less i like it.<br />unless you're mixing it with lots of sugar and milk, it's harsh and acidic (in my opinion).<br />but the price is great, isn't it?<br />i'm currently looking for alternatives.....\n",
      "------------------------- predicted:{'POS': 0.882432758808136, 'NEG': 0.10806461423635483} -------------------------\n",
      "------------------------- reference: {'NEG': True, 'POS': False} -------------------------\n",
      "======================================== 1515 ========================================\n",
      "The Heartland Gluten Free dried pastas are great....much better than the brand the stores in this area sell.  I've requested them to stock it, but hope to find it available here on Amazon too.\n",
      "------------------------- predicted:{'POS': 0.9835458993911743, 'NEG': 0.01731140725314617} -------------------------\n",
      "------------------------- reference: {'POS': True, 'NEG': False} -------------------------\n"
     ]
    }
   ],
   "source": [
    "sample_index = np.random.randint(0, len(test_examples), 3)\n",
    "for i in sample_index:\n",
    "    example = test_examples[i] \n",
    "    print('='*40, i, '='*40)\n",
    "    doc = nlp(example.predicted.text)\n",
    "    print(example.predicted.text)\n",
    "    print('-'*25, f'predicted:{doc.cats}', '-'*25)\n",
    "    print('-'*25, f'reference: {example.reference.cats}', '-'*25)"
   ]
  },
  {
   "cell_type": "code",
   "execution_count": null,
   "id": "ff52e810",
   "metadata": {},
   "outputs": [],
   "source": []
  }
 ],
 "metadata": {
  "kernelspec": {
   "display_name": "Python 3",
   "language": "python",
   "name": "python3"
  },
  "language_info": {
   "codemirror_mode": {
    "name": "ipython",
    "version": 3
   },
   "file_extension": ".py",
   "mimetype": "text/x-python",
   "name": "python",
   "nbconvert_exporter": "python",
   "pygments_lexer": "ipython3",
   "version": "3.6.9"
  },
  "toc": {
   "base_numbering": 1,
   "nav_menu": {},
   "number_sections": true,
   "sideBar": true,
   "skip_h1_title": false,
   "title_cell": "Table of Contents",
   "title_sidebar": "Contents",
   "toc_cell": false,
   "toc_position": {
    "height": "calc(100% - 180px)",
    "left": "10px",
    "top": "150px",
    "width": "165px"
   },
   "toc_section_display": true,
   "toc_window_display": true
  }
 },
 "nbformat": 4,
 "nbformat_minor": 5
}
