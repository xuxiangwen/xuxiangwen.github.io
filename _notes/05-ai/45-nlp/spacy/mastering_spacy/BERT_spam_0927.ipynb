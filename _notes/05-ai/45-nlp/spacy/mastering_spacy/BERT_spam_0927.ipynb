{
 "cells": [
  {
   "cell_type": "code",
   "execution_count": 2,
   "id": "c16f19e8",
   "metadata": {
    "ExecuteTime": {
     "end_time": "2021-09-28T07:46:11.476824Z",
     "start_time": "2021-09-28T07:46:06.376828Z"
    }
   },
   "outputs": [],
   "source": [
    "import os \n",
    "import pandas as pd\n",
    "import numpy as np\n",
    "import sys \n",
    "import tensorflow as tf\n",
    "\n",
    "from IPython.core.display import display\n",
    "from sklearn.model_selection import train_test_split\n",
    "from tensorflow.keras.layers import Dense, Input\n",
    "from tensorflow.keras.models import Model\n",
    "from transformers import BertTokenizer, TFBertModel, BertConfig, TFBertForSequenceClassification\n",
    "\n",
    "base_path = os.path.abspath('/tf/eipi10/jian-xu3/qbz95')\n",
    "sys.path.append(base_path)\n",
    "\n",
    "import qbz95\n",
    "from qbz95 import tf as qtf\n",
    "qtf.utils.set_gpu_memory_growth()\n",
    "\n",
    "\n",
    "# auto load the changes of referenced codes\n",
    "%load_ext autoreload\n",
    "%autoreload 2\n",
    "\n",
    "# ebablbe auto-completion\n",
    "%config Completer.use_jedi = False"
   ]
  },
  {
   "cell_type": "code",
   "execution_count": 3,
   "id": "db550a96",
   "metadata": {
    "ExecuteTime": {
     "end_time": "2021-09-28T07:46:11.599078Z",
     "start_time": "2021-09-28T07:46:11.479688Z"
    }
   },
   "outputs": [],
   "source": [
    "# if new methods are created in referenced codes, run the following code.\n",
    "%reload_ext autoreload"
   ]
  },
  {
   "cell_type": "markdown",
   "id": "89946aae",
   "metadata": {},
   "source": [
    "## 数据准备\n",
    "\n",
    "### 数据获取和清理"
   ]
  },
  {
   "cell_type": "code",
   "execution_count": 4,
   "id": "0319bd89",
   "metadata": {
    "ExecuteTime": {
     "end_time": "2021-09-28T07:46:11.734869Z",
     "start_time": "2021-09-28T07:46:11.602274Z"
    },
    "scrolled": false
   },
   "outputs": [
    {
     "name": "stdout",
     "output_type": "stream",
     "text": [
      "------------------------- 读取数据 -------------------------\n",
      "(5572, 5)\n"
     ]
    },
    {
     "data": {
      "text/html": [
       "<div>\n",
       "<style scoped>\n",
       "    .dataframe tbody tr th:only-of-type {\n",
       "        vertical-align: middle;\n",
       "    }\n",
       "\n",
       "    .dataframe tbody tr th {\n",
       "        vertical-align: top;\n",
       "    }\n",
       "\n",
       "    .dataframe thead th {\n",
       "        text-align: right;\n",
       "    }\n",
       "</style>\n",
       "<table border=\"1\" class=\"dataframe\">\n",
       "  <thead>\n",
       "    <tr style=\"text-align: right;\">\n",
       "      <th></th>\n",
       "      <th>v1</th>\n",
       "      <th>v2</th>\n",
       "      <th>Unnamed: 2</th>\n",
       "      <th>Unnamed: 3</th>\n",
       "      <th>Unnamed: 4</th>\n",
       "    </tr>\n",
       "  </thead>\n",
       "  <tbody>\n",
       "    <tr>\n",
       "      <th>0</th>\n",
       "      <td>ham</td>\n",
       "      <td>Go until jurong point, crazy.. Available only ...</td>\n",
       "      <td>NaN</td>\n",
       "      <td>NaN</td>\n",
       "      <td>NaN</td>\n",
       "    </tr>\n",
       "    <tr>\n",
       "      <th>1</th>\n",
       "      <td>ham</td>\n",
       "      <td>Ok lar... Joking wif u oni...</td>\n",
       "      <td>NaN</td>\n",
       "      <td>NaN</td>\n",
       "      <td>NaN</td>\n",
       "    </tr>\n",
       "    <tr>\n",
       "      <th>2</th>\n",
       "      <td>spam</td>\n",
       "      <td>Free entry in 2 a wkly comp to win FA Cup fina...</td>\n",
       "      <td>NaN</td>\n",
       "      <td>NaN</td>\n",
       "      <td>NaN</td>\n",
       "    </tr>\n",
       "    <tr>\n",
       "      <th>3</th>\n",
       "      <td>ham</td>\n",
       "      <td>U dun say so early hor... U c already then say...</td>\n",
       "      <td>NaN</td>\n",
       "      <td>NaN</td>\n",
       "      <td>NaN</td>\n",
       "    </tr>\n",
       "    <tr>\n",
       "      <th>4</th>\n",
       "      <td>ham</td>\n",
       "      <td>Nah I don't think he goes to usf, he lives aro...</td>\n",
       "      <td>NaN</td>\n",
       "      <td>NaN</td>\n",
       "      <td>NaN</td>\n",
       "    </tr>\n",
       "  </tbody>\n",
       "</table>\n",
       "</div>"
      ],
      "text/plain": [
       "     v1                                                 v2 Unnamed: 2  \\\n",
       "0   ham  Go until jurong point, crazy.. Available only ...        NaN   \n",
       "1   ham                      Ok lar... Joking wif u oni...        NaN   \n",
       "2  spam  Free entry in 2 a wkly comp to win FA Cup fina...        NaN   \n",
       "3   ham  U dun say so early hor... U c already then say...        NaN   \n",
       "4   ham  Nah I don't think he goes to usf, he lives aro...        NaN   \n",
       "\n",
       "  Unnamed: 3 Unnamed: 4  \n",
       "0        NaN        NaN  \n",
       "1        NaN        NaN  \n",
       "2        NaN        NaN  \n",
       "3        NaN        NaN  \n",
       "4        NaN        NaN  "
      ]
     },
     "metadata": {},
     "output_type": "display_data"
    },
    {
     "name": "stdout",
     "output_type": "stream",
     "text": [
      "------------------------- 清理数据 -------------------------\n"
     ]
    },
    {
     "data": {
      "text/html": [
       "<div>\n",
       "<style scoped>\n",
       "    .dataframe tbody tr th:only-of-type {\n",
       "        vertical-align: middle;\n",
       "    }\n",
       "\n",
       "    .dataframe tbody tr th {\n",
       "        vertical-align: top;\n",
       "    }\n",
       "\n",
       "    .dataframe thead th {\n",
       "        text-align: right;\n",
       "    }\n",
       "</style>\n",
       "<table border=\"1\" class=\"dataframe\">\n",
       "  <thead>\n",
       "    <tr style=\"text-align: right;\">\n",
       "      <th></th>\n",
       "      <th>label</th>\n",
       "      <th>text</th>\n",
       "    </tr>\n",
       "  </thead>\n",
       "  <tbody>\n",
       "    <tr>\n",
       "      <th>0</th>\n",
       "      <td>ham</td>\n",
       "      <td>Go until jurong point, crazy.. Available only ...</td>\n",
       "    </tr>\n",
       "    <tr>\n",
       "      <th>1</th>\n",
       "      <td>ham</td>\n",
       "      <td>Ok lar... Joking wif u oni...</td>\n",
       "    </tr>\n",
       "    <tr>\n",
       "      <th>2</th>\n",
       "      <td>spam</td>\n",
       "      <td>Free entry in 2 a wkly comp to win FA Cup fina...</td>\n",
       "    </tr>\n",
       "    <tr>\n",
       "      <th>3</th>\n",
       "      <td>ham</td>\n",
       "      <td>U dun say so early hor... U c already then say...</td>\n",
       "    </tr>\n",
       "    <tr>\n",
       "      <th>4</th>\n",
       "      <td>ham</td>\n",
       "      <td>Nah I don't think he goes to usf, he lives aro...</td>\n",
       "    </tr>\n",
       "  </tbody>\n",
       "</table>\n",
       "</div>"
      ],
      "text/plain": [
       "  label                                               text\n",
       "0   ham  Go until jurong point, crazy.. Available only ...\n",
       "1   ham                      Ok lar... Joking wif u oni...\n",
       "2  spam  Free entry in 2 a wkly comp to win FA Cup fina...\n",
       "3   ham  U dun say so early hor... U c already then say...\n",
       "4   ham  Nah I don't think he goes to usf, he lives aro..."
      ]
     },
     "metadata": {},
     "output_type": "display_data"
    },
    {
     "name": "stdout",
     "output_type": "stream",
     "text": [
      "(5572, 2)\n"
     ]
    },
    {
     "data": {
      "text/html": [
       "<div>\n",
       "<style scoped>\n",
       "    .dataframe tbody tr th:only-of-type {\n",
       "        vertical-align: middle;\n",
       "    }\n",
       "\n",
       "    .dataframe tbody tr th {\n",
       "        vertical-align: top;\n",
       "    }\n",
       "\n",
       "    .dataframe thead th {\n",
       "        text-align: right;\n",
       "    }\n",
       "</style>\n",
       "<table border=\"1\" class=\"dataframe\">\n",
       "  <thead>\n",
       "    <tr style=\"text-align: right;\">\n",
       "      <th></th>\n",
       "      <th>label</th>\n",
       "      <th>text</th>\n",
       "    </tr>\n",
       "  </thead>\n",
       "  <tbody>\n",
       "    <tr>\n",
       "      <th>0</th>\n",
       "      <td>0</td>\n",
       "      <td>Go until jurong point, crazy.. Available only ...</td>\n",
       "    </tr>\n",
       "    <tr>\n",
       "      <th>1</th>\n",
       "      <td>0</td>\n",
       "      <td>Ok lar... Joking wif u oni...</td>\n",
       "    </tr>\n",
       "    <tr>\n",
       "      <th>2</th>\n",
       "      <td>1</td>\n",
       "      <td>Free entry in 2 a wkly comp to win FA Cup fina...</td>\n",
       "    </tr>\n",
       "    <tr>\n",
       "      <th>3</th>\n",
       "      <td>0</td>\n",
       "      <td>U dun say so early hor... U c already then say...</td>\n",
       "    </tr>\n",
       "    <tr>\n",
       "      <th>4</th>\n",
       "      <td>0</td>\n",
       "      <td>Nah I don't think he goes to usf, he lives aro...</td>\n",
       "    </tr>\n",
       "  </tbody>\n",
       "</table>\n",
       "</div>"
      ],
      "text/plain": [
       "   label                                               text\n",
       "0      0  Go until jurong point, crazy.. Available only ...\n",
       "1      0                      Ok lar... Joking wif u oni...\n",
       "2      1  Free entry in 2 a wkly comp to win FA Cup fina...\n",
       "3      0  U dun say so early hor... U c already then say...\n",
       "4      0  Nah I don't think he goes to usf, he lives aro..."
      ]
     },
     "metadata": {},
     "output_type": "display_data"
    }
   ],
   "source": [
    "print('-'*25, '读取数据', '-'*25)\n",
    "df_spam = pd.read_csv(\"data/spam.csv\",encoding='ISO-8859-1')\n",
    "print(df_spam.shape)\n",
    "display(df_spam.head(5))\n",
    "\n",
    "print('-'*25, '清理数据', '-'*25)\n",
    "df_spam.drop(df_spam.columns[2:], axis=1, inplace=True)\n",
    "df_spam=df_spam.dropna()                                                           \n",
    "df_spam=df_spam.reset_index(drop=True) \n",
    "df_spam.columns = [\"label\", \"text\"]\n",
    "\n",
    "display(df_spam.head(5))\n",
    "print(df_spam.shape)\n",
    "\n",
    "# 设置标签\n",
    "df_spam['label'] = df_spam['label'].map({'ham':0,'spam':1})\n",
    "display(df_spam.head(5))\n"
   ]
  },
  {
   "cell_type": "markdown",
   "id": "e0303cc5",
   "metadata": {},
   "source": [
    "### BertTokenizer处理"
   ]
  },
  {
   "cell_type": "code",
   "execution_count": 5,
   "id": "e844380f",
   "metadata": {
    "ExecuteTime": {
     "end_time": "2021-09-28T07:46:22.008443Z",
     "start_time": "2021-09-28T07:46:11.737656Z"
    }
   },
   "outputs": [
    {
     "name": "stdout",
     "output_type": "stream",
     "text": [
      "------------------------- BertTokenizer处理 -------------------------\n",
      "input_ids.shape=(5572, 64)\n",
      "attention_masks.shape=(5572, 64)\n",
      "labels.shape=(5572,)\n"
     ]
    }
   ],
   "source": [
    "print('-'*25, 'BertTokenizer处理', '-'*25)\n",
    "\n",
    "# 加载tokenizer\n",
    "bert_tokenizer = BertTokenizer.from_pretrained(\"bert-base-uncased\")\n",
    "\n",
    "sentences=list(df_spam['text'])\n",
    "labels=np.array(df_spam['label'])\n",
    "\n",
    "input_ids=[]\n",
    "attention_masks=[]\n",
    "\n",
    "encoded = bert_tokenizer.batch_encode_plus(batch_text_or_text_pairs=sentences, \n",
    "                                            add_special_tokens=True, \n",
    "                                            max_length=64, \n",
    "                                            truncation=True, \n",
    "                                            padding='max_length', \n",
    "                                            return_attention_mask=True,\n",
    "                                            return_tensors='np') \n",
    "input_ids = encoded['input_ids']\n",
    "attention_masks = encoded['attention_mask']\n",
    "\n",
    "print(f'input_ids.shape={input_ids.shape}')\n",
    "print(f'attention_masks.shape={attention_masks.shape}')\n",
    "print(f'labels.shape={labels.shape}')"
   ]
  },
  {
   "cell_type": "code",
   "execution_count": 7,
   "id": "4a27cbed",
   "metadata": {
    "ExecuteTime": {
     "end_time": "2021-09-28T07:46:34.087241Z",
     "start_time": "2021-09-28T07:46:34.022534Z"
    }
   },
   "outputs": [
    {
     "data": {
      "text/plain": [
       "array([[1, 1, 1, 1, 1, 1, 1, 1, 1, 1, 1, 1, 1, 1, 1, 1, 1, 1, 1, 1, 1, 1,\n",
       "        1, 1, 1, 1, 1, 1, 1, 1, 1, 1, 1, 1, 0, 0, 0, 0, 0, 0, 0, 0, 0, 0,\n",
       "        0, 0, 0, 0, 0, 0, 0, 0, 0, 0, 0, 0, 0, 0, 0, 0, 0, 0, 0, 0],\n",
       "       [1, 1, 1, 1, 1, 1, 1, 1, 1, 1, 1, 1, 1, 1, 1, 1, 1, 0, 0, 0, 0, 0,\n",
       "        0, 0, 0, 0, 0, 0, 0, 0, 0, 0, 0, 0, 0, 0, 0, 0, 0, 0, 0, 0, 0, 0,\n",
       "        0, 0, 0, 0, 0, 0, 0, 0, 0, 0, 0, 0, 0, 0, 0, 0, 0, 0, 0, 0]])"
      ]
     },
     "execution_count": 7,
     "metadata": {},
     "output_type": "execute_result"
    }
   ],
   "source": [
    "attention_masks[0:2]"
   ]
  },
  {
   "cell_type": "markdown",
   "id": "3b3b660b",
   "metadata": {},
   "source": [
    "### 生成训练测试数据"
   ]
  },
  {
   "cell_type": "code",
   "execution_count": 5,
   "id": "3628d1c8",
   "metadata": {
    "ExecuteTime": {
     "end_time": "2021-09-28T05:57:12.410025Z",
     "start_time": "2021-09-28T05:57:12.354786Z"
    }
   },
   "outputs": [
    {
     "name": "stdout",
     "output_type": "stream",
     "text": [
      "------------------------- 生成训练测试数据 -------------------------\n",
      "len(train_input_ids)=4457, len(test_input_ids)=1115\n",
      "len(train_attention_masks)=4457, len(test_attention_masks)=1115\n",
      "len(train_labels)=4457, len(test_labels)=1115\n"
     ]
    }
   ],
   "source": [
    "print('-'*25, '生成训练测试数据', '-'*25)\n",
    "train_test_data = train_test_split(input_ids, attention_masks, labels, \n",
    "                                   test_size=0.2, random_state=202109) \n",
    "train_input_ids, test_input_ids = train_test_data[0:2]\n",
    "train_attention_masks, test_attention_masks = train_test_data[2:4]\n",
    "train_labels, test_labels = train_test_data[4:6]\n",
    "\n",
    "print(f'len(train_input_ids)={len(train_input_ids)}, len(test_input_ids)={len(test_input_ids)}')\n",
    "print(f'len(train_attention_masks)={len(train_attention_masks)}, len(test_attention_masks)={len(test_attention_masks)}')\n",
    "print(f'len(train_labels)={len(train_labels)}, len(test_labels)={len(test_labels)}')"
   ]
  },
  {
   "cell_type": "markdown",
   "id": "4be1ad9f",
   "metadata": {},
   "source": [
    "## 模型生成和训练"
   ]
  },
  {
   "cell_type": "code",
   "execution_count": 6,
   "id": "b843657d",
   "metadata": {
    "ExecuteTime": {
     "end_time": "2021-09-28T05:57:17.065830Z",
     "start_time": "2021-09-28T05:57:12.412150Z"
    }
   },
   "outputs": [
    {
     "name": "stderr",
     "output_type": "stream",
     "text": [
      "Some layers from the model checkpoint at bert-base-uncased were not used when initializing TFBertModel: ['mlm___cls', 'nsp___cls']\n",
      "- This IS expected if you are initializing TFBertModel from the checkpoint of a model trained on another task or with another architecture (e.g. initializing a BertForSequenceClassification model from a BertForPreTraining model).\n",
      "- This IS NOT expected if you are initializing TFBertModel from the checkpoint of a model that you expect to be exactly identical (initializing a BertForSequenceClassification model from a BertForSequenceClassification model).\n",
      "All the layers of TFBertModel were initialized from the model checkpoint at bert-base-uncased.\n",
      "If your task is similar to the task the model of the checkpoint was trained on, you can already use TFBertModel for predictions without further training.\n"
     ]
    }
   ],
   "source": [
    "bmodel = TFBertModel.from_pretrained(\"bert-base-uncased\")"
   ]
  },
  {
   "cell_type": "code",
   "execution_count": 9,
   "id": "89dccce5",
   "metadata": {
    "ExecuteTime": {
     "end_time": "2021-09-28T06:01:10.636243Z",
     "start_time": "2021-09-28T06:01:08.708142Z"
    }
   },
   "outputs": [
    {
     "name": "stdout",
     "output_type": "stream",
     "text": [
      "WARNING:tensorflow:The parameters `output_attentions`, `output_hidden_states` and `use_cache` cannot be updated when calling a model.They have to be set to True/False in the config object (i.e.: `config=XConfig.from_pretrained('name', output_attentions=True)`).\n"
     ]
    },
    {
     "name": "stderr",
     "output_type": "stream",
     "text": [
      "2021-09-28 06:01:08,779: WARNING: The parameters `output_attentions`, `output_hidden_states` and `use_cache` cannot be updated when calling a model.They have to be set to True/False in the config object (i.e.: `config=XConfig.from_pretrained('name', output_attentions=True)`).\n"
     ]
    },
    {
     "name": "stdout",
     "output_type": "stream",
     "text": [
      "WARNING:tensorflow:The parameter `return_dict` cannot be set in graph mode and will always be set to `True`.\n"
     ]
    },
    {
     "name": "stderr",
     "output_type": "stream",
     "text": [
      "2021-09-28 06:01:08,872: WARNING: The parameter `return_dict` cannot be set in graph mode and will always be set to `True`.\n"
     ]
    },
    {
     "name": "stdout",
     "output_type": "stream",
     "text": [
      "Model: \"model_1\"\n",
      "_________________________________________________________________\n",
      "Layer (type)                 Output Shape              Param #   \n",
      "=================================================================\n",
      "input_2 (InputLayer)         [(None, 64)]              0         \n",
      "_________________________________________________________________\n",
      "tf_bert_model (TFBertModel)  TFBaseModelOutputWithPool 109482240 \n",
      "_________________________________________________________________\n",
      "dense_1 (Dense)              (None, 1)                 769       \n",
      "=================================================================\n",
      "Total params: 109,483,009\n",
      "Trainable params: 109,483,009\n",
      "Non-trainable params: 0\n",
      "_________________________________________________________________\n"
     ]
    }
   ],
   "source": [
    "def get_model():\n",
    "    inputs = Input(shape=(64,), dtype=\"int32\")\n",
    "    bert = bmodel(inputs)\n",
    "    outputs = Dense(units=1, activation=\"sigmoid\")(bert[1])\n",
    "    model = Model(inputs, outputs)\n",
    "\n",
    "    adam = tf.keras.optimizers.Adam(learning_rate=2e-5,epsilon=1e-08)\n",
    "    model.compile(loss=\"binary_crossentropy\", metrics=[\"accuracy\"], optimizer=adam)\n",
    "    return model \n",
    "    \n",
    "model = get_model()\n",
    "model.summary()"
   ]
  },
  {
   "cell_type": "code",
   "execution_count": 10,
   "id": "b96737f8",
   "metadata": {
    "ExecuteTime": {
     "end_time": "2021-09-28T06:10:40.757828Z",
     "start_time": "2021-09-28T06:01:10.639139Z"
    },
    "scrolled": false
   },
   "outputs": [
    {
     "name": "stdout",
     "output_type": "stream",
     "text": [
      "Epoch 1/10\n",
      "WARNING:tensorflow:The parameters `output_attentions`, `output_hidden_states` and `use_cache` cannot be updated when calling a model.They have to be set to True/False in the config object (i.e.: `config=XConfig.from_pretrained('name', output_attentions=True)`).\n"
     ]
    },
    {
     "name": "stderr",
     "output_type": "stream",
     "text": [
      "2021-09-28 06:01:10,751: WARNING: The parameters `output_attentions`, `output_hidden_states` and `use_cache` cannot be updated when calling a model.They have to be set to True/False in the config object (i.e.: `config=XConfig.from_pretrained('name', output_attentions=True)`).\n"
     ]
    },
    {
     "name": "stdout",
     "output_type": "stream",
     "text": [
      "WARNING:tensorflow:The parameter `return_dict` cannot be set in graph mode and will always be set to `True`.\n"
     ]
    },
    {
     "name": "stderr",
     "output_type": "stream",
     "text": [
      "2021-09-28 06:01:10,832: WARNING: The parameter `return_dict` cannot be set in graph mode and will always be set to `True`.\n"
     ]
    },
    {
     "name": "stdout",
     "output_type": "stream",
     "text": [
      "WARNING:tensorflow:The parameters `output_attentions`, `output_hidden_states` and `use_cache` cannot be updated when calling a model.They have to be set to True/False in the config object (i.e.: `config=XConfig.from_pretrained('name', output_attentions=True)`).\n"
     ]
    },
    {
     "name": "stderr",
     "output_type": "stream",
     "text": [
      "2021-09-28 06:01:17,306: WARNING: The parameters `output_attentions`, `output_hidden_states` and `use_cache` cannot be updated when calling a model.They have to be set to True/False in the config object (i.e.: `config=XConfig.from_pretrained('name', output_attentions=True)`).\n"
     ]
    },
    {
     "name": "stdout",
     "output_type": "stream",
     "text": [
      "WARNING:tensorflow:The parameter `return_dict` cannot be set in graph mode and will always be set to `True`.\n"
     ]
    },
    {
     "name": "stderr",
     "output_type": "stream",
     "text": [
      "2021-09-28 06:01:17,392: WARNING: The parameter `return_dict` cannot be set in graph mode and will always be set to `True`.\n"
     ]
    },
    {
     "name": "stdout",
     "output_type": "stream",
     "text": [
      "140/140 [==============================] - ETA: 0s - loss: 0.0541 - accuracy: 0.9767WARNING:tensorflow:The parameters `output_attentions`, `output_hidden_states` and `use_cache` cannot be updated when calling a model.They have to be set to True/False in the config object (i.e.: `config=XConfig.from_pretrained('name', output_attentions=True)`).\n"
     ]
    },
    {
     "name": "stderr",
     "output_type": "stream",
     "text": [
      "2021-09-28 06:02:17,678: WARNING: The parameters `output_attentions`, `output_hidden_states` and `use_cache` cannot be updated when calling a model.They have to be set to True/False in the config object (i.e.: `config=XConfig.from_pretrained('name', output_attentions=True)`).\n"
     ]
    },
    {
     "name": "stdout",
     "output_type": "stream",
     "text": [
      "WARNING:tensorflow:The parameter `return_dict` cannot be set in graph mode and will always be set to `True`.\n"
     ]
    },
    {
     "name": "stderr",
     "output_type": "stream",
     "text": [
      "2021-09-28 06:02:17,775: WARNING: The parameter `return_dict` cannot be set in graph mode and will always be set to `True`.\n"
     ]
    },
    {
     "name": "stdout",
     "output_type": "stream",
     "text": [
      "140/140 [==============================] - 74s 414ms/step - loss: 0.0541 - accuracy: 0.9767 - val_loss: 0.0385 - val_accuracy: 0.9874\n",
      "Epoch 2/10\n",
      "140/140 [==============================] - 55s 392ms/step - loss: 0.0097 - accuracy: 0.9975 - val_loss: 0.0345 - val_accuracy: 0.9919\n",
      "Epoch 3/10\n",
      "140/140 [==============================] - 55s 393ms/step - loss: 0.0076 - accuracy: 0.9975 - val_loss: 0.0293 - val_accuracy: 0.9919\n",
      "Epoch 4/10\n",
      "140/140 [==============================] - 55s 393ms/step - loss: 0.0022 - accuracy: 0.9998 - val_loss: 0.0946 - val_accuracy: 0.9794\n",
      "Epoch 5/10\n",
      "140/140 [==============================] - 55s 394ms/step - loss: 0.0103 - accuracy: 0.9973 - val_loss: 0.0265 - val_accuracy: 0.9910\n",
      "Epoch 6/10\n",
      "140/140 [==============================] - 55s 393ms/step - loss: 0.0022 - accuracy: 0.9993 - val_loss: 0.0338 - val_accuracy: 0.9928\n",
      "Epoch 7/10\n",
      "140/140 [==============================] - 55s 393ms/step - loss: 2.6367e-04 - accuracy: 1.0000 - val_loss: 0.0369 - val_accuracy: 0.9928\n",
      "Epoch 8/10\n",
      "140/140 [==============================] - 55s 394ms/step - loss: 1.5428e-04 - accuracy: 1.0000 - val_loss: 0.0390 - val_accuracy: 0.9937\n",
      "Epoch 9/10\n",
      "140/140 [==============================] - 55s 393ms/step - loss: 1.1313e-04 - accuracy: 1.0000 - val_loss: 0.0412 - val_accuracy: 0.9928\n",
      "Epoch 10/10\n",
      "140/140 [==============================] - 55s 394ms/step - loss: 7.4735e-05 - accuracy: 1.0000 - val_loss: 0.0421 - val_accuracy: 0.9928\n"
     ]
    },
    {
     "data": {
      "image/png": "[encoded data removed]",
      "text/plain": [
       "<Figure size 1152x360 with 2 Axes>"
      ]
     },
     "metadata": {
      "needs_background": "light"
     },
     "output_type": "display_data"
    }
   ],
   "source": [
    "history = model.fit(train_input_ids, train_labels, validation_data=(test_input_ids, test_labels), \n",
    "                    batch_size=32, epochs=10)\n",
    "qtf.utils.plot_history(history, key_metric_name='accuracy')"
   ]
  },
  {
   "cell_type": "markdown",
   "id": "87521ca8",
   "metadata": {},
   "source": [
    "## 评估和预测"
   ]
  },
  {
   "cell_type": "code",
   "execution_count": null,
   "id": "6c7757b7",
   "metadata": {},
   "outputs": [],
   "source": []
  }
 ],
 "metadata": {
  "kernelspec": {
   "display_name": "Python 3",
   "language": "python",
   "name": "python3"
  },
  "language_info": {
   "codemirror_mode": {
    "name": "ipython",
    "version": 3
   },
   "file_extension": ".py",
   "mimetype": "text/x-python",
   "name": "python",
   "nbconvert_exporter": "python",
   "pygments_lexer": "ipython3",
   "version": "3.6.9"
  },
  "toc": {
   "base_numbering": 1,
   "nav_menu": {},
   "number_sections": true,
   "sideBar": true,
   "skip_h1_title": false,
   "title_cell": "Table of Contents",
   "title_sidebar": "Contents",
   "toc_cell": false,
   "toc_position": {
    "height": "calc(100% - 180px)",
    "left": "10px",
    "top": "150px",
    "width": "165px"
   },
   "toc_section_display": true,
   "toc_window_display": true
  }
 },
 "nbformat": 4,
 "nbformat_minor": 5
}
