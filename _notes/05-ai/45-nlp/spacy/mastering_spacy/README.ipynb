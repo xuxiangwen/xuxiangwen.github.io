{
 "cells": [
  {
   "cell_type": "code",
   "execution_count": 1,
   "id": "c16f19e8",
   "metadata": {
    "ExecuteTime": {
     "end_time": "2021-09-28T02:49:11.117038Z",
     "start_time": "2021-09-28T02:49:11.092136Z"
    }
   },
   "outputs": [],
   "source": [
    "\n",
    "# auto load the changes of referenced codes\n",
    "%load_ext autoreload\n",
    "%autoreload 2\n",
    "\n",
    "# ebablbe auto-completion\n",
    "%config Completer.use_jedi = False"
   ]
  },
  {
   "cell_type": "code",
   "execution_count": 2,
   "id": "db550a96",
   "metadata": {
    "ExecuteTime": {
     "end_time": "2021-09-28T02:49:11.660855Z",
     "start_time": "2021-09-28T02:49:11.640139Z"
    }
   },
   "outputs": [],
   "source": [
    "# if new methods are created in referenced codes, run the following code.\n",
    "%reload_ext autoreload"
   ]
  },
  {
   "cell_type": "code",
   "execution_count": 2,
   "id": "04cc802a",
   "metadata": {
    "ExecuteTime": {
     "end_time": "2021-09-28T05:28:00.450179Z",
     "start_time": "2021-09-28T05:27:48.408038Z"
    }
   },
   "outputs": [
    {
     "name": "stderr",
     "output_type": "stream",
     "text": [
      "Some layers from the model checkpoint at bert-base-uncased were not used when initializing TFBertModel: ['nsp___cls', 'mlm___cls']\n",
      "- This IS expected if you are initializing TFBertModel from the checkpoint of a model trained on another task or with another architecture (e.g. initializing a BertForSequenceClassification model from a BertForPreTraining model).\n",
      "- This IS NOT expected if you are initializing TFBertModel from the checkpoint of a model that you expect to be exactly identical (initializing a BertForSequenceClassification model from a BertForSequenceClassification model).\n",
      "All the layers of TFBertModel were initialized from the model checkpoint at bert-base-uncased.\n",
      "If your task is similar to the task the model of the checkpoint was trained on, you can already use TFBertModel for predictions without further training.\n"
     ]
    },
    {
     "name": "stdout",
     "output_type": "stream",
     "text": [
      "<class 'transformers.modeling_tf_outputs.TFBaseModelOutputWithPooling'> 2\n",
      "(1, 15, 768)\n",
      "(1, 768)\n",
      "cosine_distance=0.7299358248710632\n",
      "euclidean_distance=11.19631290435791\n"
     ]
    }
   ],
   "source": [
    "import tensorflow as tf\n",
    "from transformers import BertTokenizer, TFBertModel\n",
    "\n",
    "physical_devices = tf.config.list_physical_devices('GPU')\n",
    "for device in physical_devices:\n",
    "    tf.config.experimental.set_memory_growth(device, True)\n",
    "    \n",
    "def cosine_distance(tensor1, tensor2):\n",
    "    # 求模长\n",
    "    tensor1_norm = tf.sqrt(tf.reduce_sum(tf.square(tensor1)))\n",
    "    tensor2_norm = tf.sqrt(tf.reduce_sum(tf.square(tensor2)))\n",
    "    \n",
    "    # 内积\n",
    "    tensor1_tensor2 = tf.reduce_sum(tf.multiply(tensor1,tensor2))\n",
    "    cosin = tensor1_tensor2/(tensor1_norm*tensor2_norm)\n",
    "    \n",
    "    return cosin\n",
    "\n",
    "def euclidean_distance(tensor1, tensor2):\n",
    "     return tf.sqrt(tf.reduce_sum(tf.square(tensor2-tensor1)))\n",
    "\n",
    "btokenizer = BertTokenizer.from_pretrained('bert-base-uncased')\n",
    "bmodel = TFBertModel.from_pretrained(\"bert-base-uncased\")\n",
    "\n",
    "sentence = \"open a bank account. sit on a bank.\"\n",
    "encoded = btokenizer.encode_plus(\n",
    "    text=sentence,\n",
    "    add_special_tokens=True,\n",
    "    max_length=15,\n",
    "    padding='max_length',\n",
    "    return_attention_mask=True,\n",
    "    return_tensors=\"tf\"\n",
    ")\n",
    "\n",
    "inputs = encoded[\"input_ids\"]\n",
    "outputs = bmodel(inputs)\n",
    "print(type(outputs), len(outputs))\n",
    "print(outputs[0].shape)\n",
    "print(outputs[1].shape)    \n",
    "\n",
    "tokens = btokenizer.convert_ids_to_tokens(tf.squeeze(inputs))\n",
    "bank1_vector, bank2_vector = [vector for token, vector in zip(tokens, outputs[0][0]) if token=='bank']\n",
    "print(f'cosine_distance={cosine_distance(bank1_vector, bank2_vector)}')\n",
    "print(f'euclidean_distance={euclidean_distance(bank1_vector, bank2_vector)}')"
   ]
  },
  {
   "cell_type": "code",
   "execution_count": 5,
   "id": "8da7ce35",
   "metadata": {
    "ExecuteTime": {
     "end_time": "2021-09-28T05:28:21.744703Z",
     "start_time": "2021-09-28T05:28:21.581555Z"
    }
   },
   "outputs": [
    {
     "name": "stdout",
     "output_type": "stream",
     "text": [
      "cosine_distance=-0.5568811297416687\n",
      "euclidean_distance=26.774715423583984\n"
     ]
    }
   ],
   "source": [
    "sentences = [\"open a bank account.\", \"sit on a bank.\"]\n",
    "encoded = btokenizer.batch_encode_plus(\n",
    "        batch_text_or_text_pairs=sentences,\n",
    "        add_special_tokens=True,\n",
    "        max_length=10,\n",
    "        padding='max_length',\n",
    "        return_attention_mask=True,\n",
    "        return_tensors=\"np\" \n",
    ")\n",
    "\n",
    "inputs = encoded[\"input_ids\"]\n",
    "outputs = bmodel(inputs)\n",
    "\n",
    "tokens_list = [btokenizer.convert_ids_to_tokens(tf.squeeze(inputs_)) for inputs_ in inputs]\n",
    "bank_vectors = []\n",
    "for i, tokens in enumerate(tokens_list):\n",
    "    for token, vector in zip(tokens, outputs[i][0]):\n",
    "        if token=='bank':\n",
    "            bank_vectors.append(vector)\n",
    "        \n",
    "bank1_vector, bank2_vector = bank_vectors\n",
    "print(f'cosine_distance={cosine_distance(bank1_vector, bank2_vector)}')\n",
    "print(f'euclidean_distance={euclidean_distance(bank1_vector, bank2_vector)}')"
   ]
  },
  {
   "cell_type": "code",
   "execution_count": 6,
   "id": "603864b9",
   "metadata": {
    "ExecuteTime": {
     "end_time": "2021-09-28T05:28:24.754997Z",
     "start_time": "2021-09-28T05:28:24.749786Z"
    }
   },
   "outputs": [
    {
     "data": {
      "text/plain": [
       "array([[ 101, 2330, 1037, 2924, 4070, 1012,  102,    0,    0,    0],\n",
       "       [ 101, 4133, 2006, 1037, 2924, 1012,  102,    0,    0,    0]])"
      ]
     },
     "execution_count": 6,
     "metadata": {},
     "output_type": "execute_result"
    }
   ],
   "source": [
    "inputs"
   ]
  },
  {
   "cell_type": "code",
   "execution_count": null,
   "id": "8a720aab",
   "metadata": {},
   "outputs": [],
   "source": []
  }
 ],
 "metadata": {
  "kernelspec": {
   "display_name": "Python 3",
   "language": "python",
   "name": "python3"
  },
  "language_info": {
   "codemirror_mode": {
    "name": "ipython",
    "version": 3
   },
   "file_extension": ".py",
   "mimetype": "text/x-python",
   "name": "python",
   "nbconvert_exporter": "python",
   "pygments_lexer": "ipython3",
   "version": "3.6.9"
  },
  "toc": {
   "base_numbering": 1,
   "nav_menu": {},
   "number_sections": true,
   "sideBar": true,
   "skip_h1_title": false,
   "title_cell": "Table of Contents",
   "title_sidebar": "Contents",
   "toc_cell": false,
   "toc_position": {
    "height": "calc(100% - 180px)",
    "left": "10px",
    "top": "150px",
    "width": "165px"
   },
   "toc_section_display": true,
   "toc_window_display": true
  }
 },
 "nbformat": 4,
 "nbformat_minor": 5
}
