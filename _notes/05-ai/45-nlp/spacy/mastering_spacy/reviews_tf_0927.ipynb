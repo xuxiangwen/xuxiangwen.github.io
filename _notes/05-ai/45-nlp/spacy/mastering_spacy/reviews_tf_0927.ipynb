{
 "cells": [
  {
   "cell_type": "code",
   "execution_count": 1,
   "id": "c16f19e8",
   "metadata": {
    "ExecuteTime": {
     "end_time": "2021-09-28T06:57:32.243475Z",
     "start_time": "2021-09-28T06:57:27.410468Z"
    }
   },
   "outputs": [
    {
     "name": "stderr",
     "output_type": "stream",
     "text": [
      "[nltk_data] Downloading package stopwords to /root/nltk_data...\n",
      "[nltk_data]   Package stopwords is already up-to-date!\n"
     ]
    }
   ],
   "source": [
    "import matplotlib.pyplot as plt\n",
    "import nltk\n",
    "import numpy as np\n",
    "import os\n",
    "import pandas as pd\n",
    "import sys\n",
    "import tensorflow as tf\n",
    "\n",
    "from collections import Counter\n",
    "from nltk.corpus import stopwords\n",
    "from scipy import stats\n",
    "from tensorflow.keras import losses, optimizers, metrics\n",
    "from sklearn.model_selection import train_test_split\n",
    "from sklearn.metrics import classification_report\n",
    "\n",
    "base_path = os.path.abspath('/tf/eipi10/jian-xu3/qbz95')\n",
    "sys.path.append(base_path)\n",
    "\n",
    "import qbz95\n",
    "from qbz95 import tf as qtf\n",
    "qtf.utils.set_gpu_memory_growth()\n",
    "nltk.download('stopwords')\n",
    "\n",
    "# auto load the changes of referenced codes\n",
    "%load_ext autoreload\n",
    "%autoreload 2\n",
    "\n",
    "# ebablbe auto-completion\n",
    "%config Completer.use_jedi = False"
   ]
  },
  {
   "cell_type": "code",
   "execution_count": 2,
   "id": "db550a96",
   "metadata": {
    "ExecuteTime": {
     "end_time": "2021-09-28T06:57:32.382085Z",
     "start_time": "2021-09-28T06:57:32.246185Z"
    }
   },
   "outputs": [],
   "source": [
    "# if new methods are created in referenced codes, run the following code.\n",
    "%reload_ext autoreload"
   ]
  },
  {
   "cell_type": "markdown",
   "id": "886f3a5a",
   "metadata": {},
   "source": [
    "## 初始化参数"
   ]
  },
  {
   "cell_type": "code",
   "execution_count": 3,
   "id": "d796cc7e",
   "metadata": {
    "ExecuteTime": {
     "end_time": "2021-09-28T06:57:32.517097Z",
     "start_time": "2021-09-28T06:57:32.385166Z"
    }
   },
   "outputs": [],
   "source": [
    "def lr_schedule(epoch, lr):\n",
    "    \"\"\"config the strategy of reducing learning rate\"\"\"\n",
    "    lr_times = [(0, 1), (60, 1e-1), (90, 1e-2), (105, 1e-3), (120, 0.5e-3)]\n",
    "    \n",
    "    base_lr = 1e-3\n",
    "    new_lr = base_lr\n",
    "    for border_epoch, times in lr_times:\n",
    "        if epoch>=border_epoch: \n",
    "            new_lr = base_lr*times\n",
    "    if abs(lr - new_lr)>1e-7:\n",
    "        if new_lr > lr > 0.1*new_lr - 1e-7:\n",
    "            print('Epoch %05d: Still keep learning rate %s instead of %s' % \n",
    "                  (epoch + 1, round(lr, 7), round(new_lr, 7))) \n",
    "            return lr   \n",
    "        print('Epoch %05d: LearningRateScheduler reducing learning rate to %s from %s.' % \n",
    "              (epoch + 1, round(new_lr, 7), round(lr, 7)))\n",
    "    return new_lr\n",
    "\n",
    "\n",
    "output_path = os.path.abspath('./output')\n",
    "data_name = 'reviews_tf'\n",
    "data_path = os.path.join(output_path, data_name)\n",
    "program_path = os.path.join(data_path, qbz95.utils.get_notebook_name().split('.')[0])\n",
    "word_vectors_path = '/tf/eipi10/xuxiangwen.github.io/_notes/05-ai/54-tensorflow/models/word_vectors'\n",
    "classes = ['Negative', 'Positive']\n",
    "\n",
    "# 当binary_flag=True，auc的计算有些问题。回头有时间修复。\n",
    "binary_flag=False\n",
    "loss =  losses.SparseCategoricalCrossentropy(from_logits=True) if not binary_flag else losses.BinaryCrossentropy(from_logits=True)\n",
    "\n",
    "params = {\n",
    "    'data_name': data_name,\n",
    "    'data_path': data_path,\n",
    "    'program_name': qbz95.utils.get_notebook_name(),\n",
    "    'program_path': program_path,\n",
    "    'classes': classes,\n",
    "    'word_vectors_path': word_vectors_path,\n",
    "    'sample_perecent': 1,    \n",
    "    'text_columns': 'Text',\n",
    "    'validation_percent': 0.0,  \n",
    "    'use_stop_words': True,    \n",
    "    'stop_words':stopwords.words('english'),\n",
    "    'batch_size': 32,    \n",
    "    'max_features': 5000,\n",
    "    'sequence_length': 100,    \n",
    "    'epochs': 3,    \n",
    "    'learning_rate':0.001,\n",
    "    'clip_value':None,\n",
    "    'dropout':0.1,\n",
    "    'binary_flag':binary_flag,\n",
    "    'metrics':['accuracy', ], #, tf.keras.metrics.AUC(from_logits=True)\n",
    "    'loss':loss,\n",
    "    'restore_best_checkpoint':True,\n",
    "    'use_savedmodel':True,\n",
    "    'use_bias_initializer':False,\n",
    "    'use_class_weight':False,\n",
    "    'class_weight': [1.0, 1.0],\n",
    "    'callbacks': {\n",
    "        'ModelCheckpoint': {\n",
    "            'enabled': True,\n",
    "            'monitor': 'val_accuracy',               \n",
    "        },\n",
    "        'EarlyStopping': {\n",
    "            'enabled': True,\n",
    "            'patience': 40,   \n",
    "            'monitor': 'val_accuracy',            \n",
    "        },\n",
    "        'ReduceLROnPlateau': {\n",
    "            'enabled': True,\n",
    "            'monitor': 'val_loss',\n",
    "            'patience': 15,\n",
    "            'factor': np.sqrt(0.1),            \n",
    "        },\n",
    "        'LearningRateScheduler': {\n",
    "            'enabled': True,\n",
    "            'schedule': lr_schedule,            \n",
    "        }             \n",
    "    },\n",
    "    'model_params':{\n",
    "        'mlp':{'dropout':0.6, 'layer_count':1, 'units':256, 'epochs':15},\n",
    "        'rnn':{'dropout':0.4, 'embedding_dim':200, 'units':200, 'epochs':5},\n",
    "        'embedding':{'dropout':0.4, 'embedding_dim':200, 'epochs':15},\n",
    "        'sepcnn':{'dropout':0.4, 'epochs': 10, 'batch_size':128},\n",
    "        'tl':{'dropout':0.4, 'trainable':True, 'layer_count':1, 'unit':64, 'epochs': 10},\n",
    "        'pg':{'dropout':0.4, 'embedding_dim':300, 'units':80, 'epochs':20, 'learning_rate':0.0005},  \n",
    "    },\n",
    "    'embedding_paths':{\n",
    "        'cc_en_300':os.path.join(word_vectors_path, 'snps', 'cc.en.300.vec'),\n",
    "        'fasttext_crawl_300d_2M':os.path.join(word_vectors_path, 'fasttext-crawl-300d-2M.vec'),\n",
    "        'glove_twitter_27B_200d':os.path.join(word_vectors_path, 'glove.twitter.27B.200d.txt')\n",
    "    },\n",
    "    'keras_layper_paths':{\n",
    "    },\n",
    "    'model_resutls':{\n",
    "        'show_top_n':20,\n",
    "        'show_exclude_columns':qtf.classification.ModelResults.exclude_columns1\n",
    "    }\n",
    "}\n",
    "\n",
    "params = qtf.classification.Params(params)\n",
    "model_results=qtf.classification.ProgramModelResults(params.program_path)\n",
    "# model_results.clear()"
   ]
  },
  {
   "cell_type": "markdown",
   "id": "d787a9ef",
   "metadata": {},
   "source": [
    "## 获取数据"
   ]
  },
  {
   "cell_type": "code",
   "execution_count": 4,
   "id": "a74a89c4",
   "metadata": {
    "ExecuteTime": {
     "end_time": "2021-09-28T06:57:36.099115Z",
     "start_time": "2021-09-28T06:57:32.519867Z"
    }
   },
   "outputs": [
    {
     "name": "stdout",
     "output_type": "stream",
     "text": [
      "------------------------- Data Loading -------------------------\n",
      "(568454, 10)\n"
     ]
    },
    {
     "data": {
      "text/html": [
       "<div>\n",
       "<style scoped>\n",
       "    .dataframe tbody tr th:only-of-type {\n",
       "        vertical-align: middle;\n",
       "    }\n",
       "\n",
       "    .dataframe tbody tr th {\n",
       "        vertical-align: top;\n",
       "    }\n",
       "\n",
       "    .dataframe thead th {\n",
       "        text-align: right;\n",
       "    }\n",
       "</style>\n",
       "<table border=\"1\" class=\"dataframe\">\n",
       "  <thead>\n",
       "    <tr style=\"text-align: right;\">\n",
       "      <th></th>\n",
       "      <th>Id</th>\n",
       "      <th>ProductId</th>\n",
       "      <th>UserId</th>\n",
       "      <th>ProfileName</th>\n",
       "      <th>HelpfulnessNumerator</th>\n",
       "      <th>HelpfulnessDenominator</th>\n",
       "      <th>Score</th>\n",
       "      <th>Time</th>\n",
       "      <th>Summary</th>\n",
       "      <th>Text</th>\n",
       "    </tr>\n",
       "  </thead>\n",
       "  <tbody>\n",
       "    <tr>\n",
       "      <th>0</th>\n",
       "      <td>1</td>\n",
       "      <td>B001E4KFG0</td>\n",
       "      <td>A3SGXH7AUHU8GW</td>\n",
       "      <td>delmartian</td>\n",
       "      <td>1</td>\n",
       "      <td>1</td>\n",
       "      <td>5</td>\n",
       "      <td>1303862400</td>\n",
       "      <td>Good Quality Dog Food</td>\n",
       "      <td>I have bought several of the Vitality canned d...</td>\n",
       "    </tr>\n",
       "    <tr>\n",
       "      <th>1</th>\n",
       "      <td>2</td>\n",
       "      <td>B00813GRG4</td>\n",
       "      <td>A1D87F6ZCVE5NK</td>\n",
       "      <td>dll pa</td>\n",
       "      <td>0</td>\n",
       "      <td>0</td>\n",
       "      <td>1</td>\n",
       "      <td>1346976000</td>\n",
       "      <td>Not as Advertised</td>\n",
       "      <td>Product arrived labeled as Jumbo Salted Peanut...</td>\n",
       "    </tr>\n",
       "    <tr>\n",
       "      <th>2</th>\n",
       "      <td>3</td>\n",
       "      <td>B000LQOCH0</td>\n",
       "      <td>ABXLMWJIXXAIN</td>\n",
       "      <td>Natalia Corres \"Natalia Corres\"</td>\n",
       "      <td>1</td>\n",
       "      <td>1</td>\n",
       "      <td>4</td>\n",
       "      <td>1219017600</td>\n",
       "      <td>\"Delight\" says it all</td>\n",
       "      <td>This is a confection that has been around a fe...</td>\n",
       "    </tr>\n",
       "    <tr>\n",
       "      <th>3</th>\n",
       "      <td>4</td>\n",
       "      <td>B000UA0QIQ</td>\n",
       "      <td>A395BORC6FGVXV</td>\n",
       "      <td>Karl</td>\n",
       "      <td>3</td>\n",
       "      <td>3</td>\n",
       "      <td>2</td>\n",
       "      <td>1307923200</td>\n",
       "      <td>Cough Medicine</td>\n",
       "      <td>If you are looking for the secret ingredient i...</td>\n",
       "    </tr>\n",
       "    <tr>\n",
       "      <th>4</th>\n",
       "      <td>5</td>\n",
       "      <td>B006K2ZZ7K</td>\n",
       "      <td>A1UQRSCLF8GW1T</td>\n",
       "      <td>Michael D. Bigham \"M. Wassir\"</td>\n",
       "      <td>0</td>\n",
       "      <td>0</td>\n",
       "      <td>5</td>\n",
       "      <td>1350777600</td>\n",
       "      <td>Great taffy</td>\n",
       "      <td>Great taffy at a great price.  There was a wid...</td>\n",
       "    </tr>\n",
       "  </tbody>\n",
       "</table>\n",
       "</div>"
      ],
      "text/plain": [
       "   Id   ProductId          UserId                      ProfileName  \\\n",
       "0   1  B001E4KFG0  A3SGXH7AUHU8GW                       delmartian   \n",
       "1   2  B00813GRG4  A1D87F6ZCVE5NK                           dll pa   \n",
       "2   3  B000LQOCH0   ABXLMWJIXXAIN  Natalia Corres \"Natalia Corres\"   \n",
       "3   4  B000UA0QIQ  A395BORC6FGVXV                             Karl   \n",
       "4   5  B006K2ZZ7K  A1UQRSCLF8GW1T    Michael D. Bigham \"M. Wassir\"   \n",
       "\n",
       "   HelpfulnessNumerator  HelpfulnessDenominator  Score        Time  \\\n",
       "0                     1                       1      5  1303862400   \n",
       "1                     0                       0      1  1346976000   \n",
       "2                     1                       1      4  1219017600   \n",
       "3                     3                       3      2  1307923200   \n",
       "4                     0                       0      5  1350777600   \n",
       "\n",
       "                 Summary                                               Text  \n",
       "0  Good Quality Dog Food  I have bought several of the Vitality canned d...  \n",
       "1      Not as Advertised  Product arrived labeled as Jumbo Salted Peanut...  \n",
       "2  \"Delight\" says it all  This is a confection that has been around a fe...  \n",
       "3         Cough Medicine  If you are looking for the secret ingredient i...  \n",
       "4            Great taffy  Great taffy at a great price.  There was a wid...  "
      ]
     },
     "metadata": {},
     "output_type": "display_data"
    }
   ],
   "source": [
    "print('-'*25, 'Data Loading', '-'*25)\n",
    "reviews_df=pd.read_csv('data/Reviews.csv')\n",
    "print(reviews_df.shape)\n",
    "display(reviews_df.head(5))"
   ]
  },
  {
   "cell_type": "markdown",
   "id": "42891c11",
   "metadata": {
    "ExecuteTime": {
     "end_time": "2021-09-27T04:05:33.137997Z",
     "start_time": "2021-09-27T04:05:32.882980Z"
    }
   },
   "source": [
    "## 探索数据"
   ]
  },
  {
   "cell_type": "markdown",
   "id": "74428a1d",
   "metadata": {},
   "source": [
    "### 数据清理"
   ]
  },
  {
   "cell_type": "code",
   "execution_count": 5,
   "id": "2de9b5e3",
   "metadata": {
    "ExecuteTime": {
     "end_time": "2021-09-28T06:57:37.232582Z",
     "start_time": "2021-09-28T06:57:36.101590Z"
    }
   },
   "outputs": [
    {
     "data": {
      "image/png": "[encoded data removed]",
      "text/plain": [
       "<Figure size 432x288 with 1 Axes>"
      ]
     },
     "metadata": {
      "needs_background": "light"
     },
     "output_type": "display_data"
    },
    {
     "name": "stdout",
     "output_type": "stream",
     "text": [
      "------------------------- Data Cleaning -------------------------\n",
      "(568454, 2)\n"
     ]
    },
    {
     "data": {
      "image/png": "[encoded data removed]",
      "text/plain": [
       "<Figure size 432x288 with 1 Axes>"
      ]
     },
     "metadata": {
      "needs_background": "light"
     },
     "output_type": "display_data"
    },
    {
     "data": {
      "text/html": [
       "<div>\n",
       "<style scoped>\n",
       "    .dataframe tbody tr th:only-of-type {\n",
       "        vertical-align: middle;\n",
       "    }\n",
       "\n",
       "    .dataframe tbody tr th {\n",
       "        vertical-align: top;\n",
       "    }\n",
       "\n",
       "    .dataframe thead th {\n",
       "        text-align: right;\n",
       "    }\n",
       "</style>\n",
       "<table border=\"1\" class=\"dataframe\">\n",
       "  <thead>\n",
       "    <tr style=\"text-align: right;\">\n",
       "      <th></th>\n",
       "      <th>Text</th>\n",
       "      <th>Score</th>\n",
       "    </tr>\n",
       "  </thead>\n",
       "  <tbody>\n",
       "    <tr>\n",
       "      <th>0</th>\n",
       "      <td>I have bought several of the Vitality canned d...</td>\n",
       "      <td>1</td>\n",
       "    </tr>\n",
       "    <tr>\n",
       "      <th>1</th>\n",
       "      <td>Product arrived labeled as Jumbo Salted Peanut...</td>\n",
       "      <td>0</td>\n",
       "    </tr>\n",
       "    <tr>\n",
       "      <th>2</th>\n",
       "      <td>This is a confection that has been around a fe...</td>\n",
       "      <td>1</td>\n",
       "    </tr>\n",
       "    <tr>\n",
       "      <th>3</th>\n",
       "      <td>If you are looking for the secret ingredient i...</td>\n",
       "      <td>0</td>\n",
       "    </tr>\n",
       "    <tr>\n",
       "      <th>4</th>\n",
       "      <td>Great taffy at a great price.  There was a wid...</td>\n",
       "      <td>1</td>\n",
       "    </tr>\n",
       "  </tbody>\n",
       "</table>\n",
       "</div>"
      ],
      "text/plain": [
       "                                                Text  Score\n",
       "0  I have bought several of the Vitality canned d...      1\n",
       "1  Product arrived labeled as Jumbo Salted Peanut...      0\n",
       "2  This is a confection that has been around a fe...      1\n",
       "3  If you are looking for the secret ingredient i...      0\n",
       "4  Great taffy at a great price.  There was a wid...      1"
      ]
     },
     "metadata": {},
     "output_type": "display_data"
    },
    {
     "data": {
      "image/png": "[encoded data removed]",
      "text/plain": [
       "<Figure size 432x288 with 1 Axes>"
      ]
     },
     "metadata": {
      "needs_background": "light"
     },
     "output_type": "display_data"
    },
    {
     "name": "stdout",
     "output_type": "stream",
     "text": [
      "------------------------- 生成训练测试数据 -------------------------\n",
      "train_texts.length=454763, train_labels.shape=(454763,)\n",
      "test_texts.length=113691, test_labels.shape=(113691,)\n"
     ]
    }
   ],
   "source": [
    "# 评分分布\n",
    "ax=reviews_df.Score.value_counts().plot(kind='bar', colormap='Paired')\n",
    "plt.show()\n",
    "\n",
    "print('-'*25, 'Data Cleaning', '-'*25)\n",
    "reviews_df = reviews_df[['Text','Score']].dropna()\n",
    "print(reviews_df.shape)\n",
    "# display(reviews_df.head(5))\n",
    "\n",
    "# 评分分布\n",
    "ax=reviews_df.Score.value_counts().plot(kind='bar', colormap='Paired')\n",
    "plt.show()\n",
    "\n",
    "reviews_df.loc[reviews_df.Score<=3, 'Score']=0\n",
    "reviews_df.loc[reviews_df.Score>3, 'Score']=1\n",
    "display(reviews_df.head(5))\n",
    "\n",
    "ax=reviews_df.Score.value_counts().plot(kind='bar', colormap='Paired')\n",
    "plt.show()\n",
    "\n",
    "print('-'*25, '生成训练测试数据', '-'*25)\n",
    "texts = list(reviews_df.Text) \n",
    "labels = np.array(reviews_df.Score)\n",
    "train_texts, test_texts, train_labels, test_labels = train_test_split(texts, labels, \n",
    "                                                                      test_size=0.2,\n",
    "                                                                      random_state=202109)\n",
    "print('train_texts.length={}, train_labels.shape={}'.format(len(train_texts), train_labels.shape))\n",
    "print('test_texts.length={}, test_labels.shape={}'.format(len(test_texts), test_labels.shape))"
   ]
  },
  {
   "cell_type": "markdown",
   "id": "a37169ee",
   "metadata": {},
   "source": [
    "### 类别分布"
   ]
  },
  {
   "cell_type": "code",
   "execution_count": 6,
   "id": "6e114c4f",
   "metadata": {
    "ExecuteTime": {
     "end_time": "2021-09-28T06:57:37.627804Z",
     "start_time": "2021-09-28T06:57:37.234961Z"
    }
   },
   "outputs": [
    {
     "data": {
      "image/png": "[encoded data removed]",
      "text/plain": [
       "<Figure size 576x288 with 2 Axes>"
      ]
     },
     "metadata": {
      "needs_background": "light"
     },
     "output_type": "display_data"
    }
   ],
   "source": [
    "qtf.utils.plot_distribution(train_labels, test_labels, params.classes)"
   ]
  },
  {
   "cell_type": "markdown",
   "id": "62b257f1",
   "metadata": {},
   "source": [
    "### 文本长度分布"
   ]
  },
  {
   "cell_type": "code",
   "execution_count": 7,
   "id": "c8d86dca",
   "metadata": {
    "ExecuteTime": {
     "end_time": "2021-09-28T06:57:44.697549Z",
     "start_time": "2021-09-28T06:57:37.630017Z"
    }
   },
   "outputs": [
    {
     "data": {
      "image/png": "[encoded data removed]",
      "text/plain": [
       "<Figure size 864x288 with 2 Axes>"
      ]
     },
     "metadata": {
      "needs_background": "light"
     },
     "output_type": "display_data"
    },
    {
     "name": "stdout",
     "output_type": "stream",
     "text": [
      "train：mean=80.24 variance=6301.19\n",
      "test：mean=80.35 variance=6360.96\n"
     ]
    }
   ],
   "source": [
    "train_text_lengths = [len(s.split()) for s in train_texts]\n",
    "test_text_lengths = [len(s.split()) for s in test_texts]\n",
    "qtf.utils.plot_length_distribution(train_text_lengths, test_text_lengths)\n",
    "\n",
    "print('train：mean={:0.2f} variance={:0.2f}'.format(np.mean(train_text_lengths), \n",
    "                                                    np.var(train_text_lengths)))\n",
    "print('test：mean={:0.2f} variance={:0.2f}'.format(np.mean(test_text_lengths), \n",
    "                                                   np.var(test_text_lengths)))"
   ]
  },
  {
   "cell_type": "markdown",
   "id": "c72feed5",
   "metadata": {},
   "source": [
    "通过图形，中位数，均值和方差的比较，可以认为训练集和测试集文本长度的分布是非常相似的。下面用卡方检验来比较训练集和测试集是否有显著差异。"
   ]
  },
  {
   "cell_type": "code",
   "execution_count": 8,
   "id": "c662ea88",
   "metadata": {
    "ExecuteTime": {
     "end_time": "2021-09-28T06:57:45.178757Z",
     "start_time": "2021-09-28T06:57:44.701205Z"
    }
   },
   "outputs": [
    {
     "name": "stdout",
     "output_type": "stream",
     "text": [
      "------------------------- Observed -------------------------\n"
     ]
    },
    {
     "data": {
      "text/html": [
       "<div>\n",
       "<style scoped>\n",
       "    .dataframe tbody tr th:only-of-type {\n",
       "        vertical-align: middle;\n",
       "    }\n",
       "\n",
       "    .dataframe tbody tr th {\n",
       "        vertical-align: top;\n",
       "    }\n",
       "\n",
       "    .dataframe thead th {\n",
       "        text-align: right;\n",
       "    }\n",
       "</style>\n",
       "<table border=\"1\" class=\"dataframe\">\n",
       "  <thead>\n",
       "    <tr style=\"text-align: right;\">\n",
       "      <th></th>\n",
       "      <th>0-99</th>\n",
       "      <th>100-199</th>\n",
       "      <th>200-299</th>\n",
       "      <th>300-399</th>\n",
       "      <th>400-499</th>\n",
       "      <th>500-599</th>\n",
       "      <th>600-699</th>\n",
       "      <th>700-799</th>\n",
       "      <th>800+</th>\n",
       "      <th>合计</th>\n",
       "    </tr>\n",
       "    <tr>\n",
       "      <th></th>\n",
       "      <th></th>\n",
       "      <th></th>\n",
       "      <th></th>\n",
       "      <th></th>\n",
       "      <th></th>\n",
       "      <th></th>\n",
       "      <th></th>\n",
       "      <th></th>\n",
       "      <th></th>\n",
       "      <th></th>\n",
       "    </tr>\n",
       "  </thead>\n",
       "  <tbody>\n",
       "    <tr>\n",
       "      <th>test</th>\n",
       "      <td>86028</td>\n",
       "      <td>20484</td>\n",
       "      <td>4753</td>\n",
       "      <td>1382</td>\n",
       "      <td>535</td>\n",
       "      <td>242</td>\n",
       "      <td>97</td>\n",
       "      <td>47</td>\n",
       "      <td>123</td>\n",
       "      <td>113691</td>\n",
       "    </tr>\n",
       "    <tr>\n",
       "      <th>train</th>\n",
       "      <td>344195</td>\n",
       "      <td>82336</td>\n",
       "      <td>18462</td>\n",
       "      <td>5572</td>\n",
       "      <td>2068</td>\n",
       "      <td>1047</td>\n",
       "      <td>379</td>\n",
       "      <td>203</td>\n",
       "      <td>501</td>\n",
       "      <td>454763</td>\n",
       "    </tr>\n",
       "    <tr>\n",
       "      <th>合计</th>\n",
       "      <td>430223</td>\n",
       "      <td>102820</td>\n",
       "      <td>23215</td>\n",
       "      <td>6954</td>\n",
       "      <td>2603</td>\n",
       "      <td>1289</td>\n",
       "      <td>476</td>\n",
       "      <td>250</td>\n",
       "      <td>624</td>\n",
       "      <td>568454</td>\n",
       "    </tr>\n",
       "  </tbody>\n",
       "</table>\n",
       "</div>"
      ],
      "text/plain": [
       "         0-99  100-199  200-299  300-399  400-499  500-599  600-699  700-799  \\\n",
       "                                                                               \n",
       "test    86028    20484     4753     1382      535      242       97       47   \n",
       "train  344195    82336    18462     5572     2068     1047      379      203   \n",
       "合计     430223   102820    23215     6954     2603     1289      476      250   \n",
       "\n",
       "       800+      合计  \n",
       "                     \n",
       "test    123  113691  \n",
       "train   501  454763  \n",
       "合计      624  568454  "
      ]
     },
     "metadata": {},
     "output_type": "display_data"
    },
    {
     "name": "stdout",
     "output_type": "stream",
     "text": [
      "------------------------- Expected -------------------------\n"
     ]
    },
    {
     "data": {
      "text/html": [
       "<div>\n",
       "<style scoped>\n",
       "    .dataframe tbody tr th:only-of-type {\n",
       "        vertical-align: middle;\n",
       "    }\n",
       "\n",
       "    .dataframe tbody tr th {\n",
       "        vertical-align: top;\n",
       "    }\n",
       "\n",
       "    .dataframe thead th {\n",
       "        text-align: right;\n",
       "    }\n",
       "</style>\n",
       "<table border=\"1\" class=\"dataframe\">\n",
       "  <thead>\n",
       "    <tr style=\"text-align: right;\">\n",
       "      <th></th>\n",
       "      <th>0-99</th>\n",
       "      <th>100-199</th>\n",
       "      <th>200-299</th>\n",
       "      <th>300-399</th>\n",
       "      <th>400-499</th>\n",
       "      <th>500-599</th>\n",
       "      <th>600-699</th>\n",
       "      <th>700-799</th>\n",
       "      <th>800+</th>\n",
       "      <th>合计</th>\n",
       "    </tr>\n",
       "    <tr>\n",
       "      <th></th>\n",
       "      <th></th>\n",
       "      <th></th>\n",
       "      <th></th>\n",
       "      <th></th>\n",
       "      <th></th>\n",
       "      <th></th>\n",
       "      <th></th>\n",
       "      <th></th>\n",
       "      <th></th>\n",
       "      <th></th>\n",
       "    </tr>\n",
       "  </thead>\n",
       "  <tbody>\n",
       "    <tr>\n",
       "      <th>test</th>\n",
       "      <td>86044.751366</td>\n",
       "      <td>20564.036175</td>\n",
       "      <td>4643.008168</td>\n",
       "      <td>1390.802447</td>\n",
       "      <td>520.600916</td>\n",
       "      <td>257.800454</td>\n",
       "      <td>95.200167</td>\n",
       "      <td>50.000088</td>\n",
       "      <td>124.80022</td>\n",
       "      <td>113691.0</td>\n",
       "    </tr>\n",
       "    <tr>\n",
       "      <th>train</th>\n",
       "      <td>344178.248634</td>\n",
       "      <td>82255.963825</td>\n",
       "      <td>18571.991832</td>\n",
       "      <td>5563.197553</td>\n",
       "      <td>2082.399084</td>\n",
       "      <td>1031.199546</td>\n",
       "      <td>380.799833</td>\n",
       "      <td>199.999912</td>\n",
       "      <td>499.19978</td>\n",
       "      <td>454763.0</td>\n",
       "    </tr>\n",
       "    <tr>\n",
       "      <th>合计</th>\n",
       "      <td>430223.000000</td>\n",
       "      <td>102820.000000</td>\n",
       "      <td>23215.000000</td>\n",
       "      <td>6954.000000</td>\n",
       "      <td>2603.000000</td>\n",
       "      <td>1289.000000</td>\n",
       "      <td>476.000000</td>\n",
       "      <td>250.000000</td>\n",
       "      <td>624.00000</td>\n",
       "      <td>568454.0</td>\n",
       "    </tr>\n",
       "  </tbody>\n",
       "</table>\n",
       "</div>"
      ],
      "text/plain": [
       "                0-99        100-199       200-299      300-399      400-499  \\\n",
       "                                                                              \n",
       "test    86044.751366   20564.036175   4643.008168  1390.802447   520.600916   \n",
       "train  344178.248634   82255.963825  18571.991832  5563.197553  2082.399084   \n",
       "合计     430223.000000  102820.000000  23215.000000  6954.000000  2603.000000   \n",
       "\n",
       "           500-599     600-699     700-799       800+        合计  \n",
       "                                                                 \n",
       "test    257.800454   95.200167   50.000088  124.80022  113691.0  \n",
       "train  1031.199546  380.799833  199.999912  499.19978  454763.0  \n",
       "合计     1289.000000  476.000000  250.000000  624.00000  568454.0  "
      ]
     },
     "metadata": {},
     "output_type": "display_data"
    }
   ],
   "source": [
    "def process_length(lengths):\n",
    "    cut_points = [0,99,199,299,399,499,599,699,799,10000]\n",
    "    labels = [\"0-99\",\"100-199\",\"200-299\",\"300-399\",\"400-499\",\"500-599\", \"600-699\",\"700-799\",\"800+\"]\n",
    "    return pd.cut(lengths, cut_points, labels=labels)\n",
    "\n",
    "def get_observed(df, column1, column2):\n",
    "    df_observed = pd.crosstab(\n",
    "        df[column1],\n",
    "        df[column2]\n",
    "    )    \n",
    "    return df_observed\n",
    "    \n",
    "def get_expected(df_observed):\n",
    "    observed = df_observed.to_numpy()\n",
    "    reduce_row = observed.sum(axis=0, keepdims=True)/observed.sum()\n",
    "    reduce_col = observed.sum(axis=1, keepdims=True)\n",
    "\n",
    "    expected = reduce_col.dot(reduce_row)\n",
    "    df_expected = pd.DataFrame(expected, index=df_observed.index, columns=df_observed.columns)\n",
    "    return df_expected\n",
    "  \n",
    "def show_sum(df):\n",
    "    df.columns =  df.columns.tolist()  \n",
    "    df = df.reset_index()\n",
    "    s = df.melt(df.columns[0], var_name=' ')\n",
    "    ct = pd.crosstab(index=s[df.columns[0]], columns=s.iloc[:,1], values=s.value, \n",
    "                     aggfunc='sum', margins=True, margins_name='合计',\n",
    "                     rownames=[''], \n",
    "               ) \n",
    "    display(ct)\n",
    "    \n",
    "length = train_text_lengths + test_text_lengths\n",
    "dataset = ['train']*len(train_text_lengths) + ['test']*len(test_text_lengths)\n",
    "\n",
    "df_length = pd.DataFrame({\"dataset\":dataset, \"length\":length})\n",
    "df_length['len'] = process_length(length)\n",
    "df_observed = get_observed(df_length, 'dataset', 'len')\n",
    "# display(df_length)\n",
    "\n",
    "print('-'*25, 'Observed', '-'*25)\n",
    "show_sum(df_observed)\n",
    "\n",
    "print('-'*25, 'Expected', '-'*25)\n",
    "df_expected = get_expected(df_observed)\n",
    "show_sum(df_expected)"
   ]
  },
  {
   "cell_type": "markdown",
   "id": "1022256e",
   "metadata": {},
   "source": [
    "然后进行卡方检验。可以看到p_value>0.05，所以接受原假设——数据集来源和文本长度是独立的，也就是说接受训练集和测试集是是相似的分布。"
   ]
  },
  {
   "cell_type": "code",
   "execution_count": 9,
   "id": "65d99390",
   "metadata": {
    "ExecuteTime": {
     "end_time": "2021-09-28T06:57:45.235179Z",
     "start_time": "2021-09-28T06:57:45.181614Z"
    }
   },
   "outputs": [
    {
     "name": "stdout",
     "output_type": "stream",
     "text": [
      "chi_squared_stat = 5.728532273156688\n",
      "critical_value = 15.50731305586545\n",
      "p_value = 0.6776101293599656\n"
     ]
    }
   ],
   "source": [
    "observed = df_observed.to_numpy()\n",
    "expected = df_expected.to_numpy()\n",
    "\n",
    "chi_squared_stat = ((observed-expected)**2/expected).sum()\n",
    "print('chi_squared_stat =', chi_squared_stat)\n",
    "\n",
    "df = np.prod(np.array(observed.shape) - 1)\n",
    "critical_value  = stats.chi2.ppf(q=0.95, df=df)  #0.95:置信水平, df:自由度\n",
    "print('critical_value =', critical_value)        #临界值:拒绝域的边界, 当卡方值大于临界值，则原假设不成立，备择假设成立\n",
    "\n",
    "p_value = 1 - stats.chi2.cdf(x=chi_squared_stat, df=df)\n",
    "print('p_value =', p_value)"
   ]
  },
  {
   "cell_type": "markdown",
   "id": "eedae77e",
   "metadata": {},
   "source": [
    "### 词频分布\n",
    "\n",
    "分析训练集和测试集的词频分布是否相似。下面代码中，去除了一些stopwords。"
   ]
  },
  {
   "cell_type": "code",
   "execution_count": 10,
   "id": "0ac17bab",
   "metadata": {
    "ExecuteTime": {
     "end_time": "2021-09-28T06:58:18.553720Z",
     "start_time": "2021-09-28T06:57:45.237194Z"
    }
   },
   "outputs": [
    {
     "data": {
      "image/png": "[encoded data removed]",
      "text/plain": [
       "<Figure size 1152x864 with 2 Axes>"
      ]
     },
     "metadata": {
      "needs_background": "light"
     },
     "output_type": "display_data"
    }
   ],
   "source": [
    "qtf.utils.plot_frequency_distribution(train_texts, test_texts) "
   ]
  },
  {
   "cell_type": "code",
   "execution_count": 11,
   "id": "5731b0a1",
   "metadata": {
    "ExecuteTime": {
     "end_time": "2021-09-28T06:58:29.736273Z",
     "start_time": "2021-09-28T06:58:18.555930Z"
    }
   },
   "outputs": [
    {
     "name": "stdout",
     "output_type": "stream",
     "text": [
      "Number of Vocabulary: 586944\n",
      "Number of Vocabulary: 5758\n"
     ]
    }
   ],
   "source": [
    "word_counter = Counter()\n",
    "for s in train_texts:\n",
    "    word_counter.update(s.split())\n",
    "for s in test_texts:\n",
    "    word_counter.update(s.split())   \n",
    "\n",
    "print('Number of Vocabulary: {}'.format(len(word_counter)))\n",
    "\n",
    "for word in list(word_counter):\n",
    "    if word_counter[word]<500: word_counter.pop(word)\n",
    "        \n",
    "print('Number of Vocabulary: {}'.format(len(word_counter)))"
   ]
  },
  {
   "cell_type": "markdown",
   "id": "bdd98184",
   "metadata": {},
   "source": [
    "## 数据准备\n",
    "\n",
    "### Sequence + Preprocess"
   ]
  },
  {
   "cell_type": "code",
   "execution_count": 12,
   "id": "f5343118",
   "metadata": {
    "ExecuteTime": {
     "end_time": "2021-09-28T07:00:40.798911Z",
     "start_time": "2021-09-28T06:58:29.738738Z"
    }
   },
   "outputs": [],
   "source": [
    "generator = qtf.classification.SequenceGenerator('sequence_prepross', standardize=qtf.text.standardize_text1, \n",
    "                                                 texts=train_texts, max_features=params.max_features, \n",
    "                                                 max_sequence_length=params.sequence_length)\n",
    "sequence_datasets1 = qtf.classification.Datasets(train_texts, train_labels, test_texts, test_labels, \n",
    "                                                 generator=generator, batch_size=params.batch_size) "
   ]
  },
  {
   "cell_type": "code",
   "execution_count": 13,
   "id": "dfe03a04",
   "metadata": {
    "ExecuteTime": {
     "end_time": "2021-09-28T07:00:41.709077Z",
     "start_time": "2021-09-28T07:00:40.801290Z"
    }
   },
   "outputs": [
    {
     "name": "stdout",
     "output_type": "stream",
     "text": [
      "(32, 100) (32,)\n",
      "---------------------------------------- Positive ----------------------------------------\n",
      "[   0    0    0    0    0    0    0    0    0    0    0    0    0    0\n",
      "    0    0    0    0    0    0    0    0    0    0    0    0    0    0\n",
      "    0    0    0    0    0    0    0    0    0    0    0    0    0    0\n",
      "    0    0    0    0    0    0    0    0    0    0    0    0    0    0\n",
      "    0    0    0    0   15 1248  315   14    6 1840 2151    5  614   40\n",
      "   31    2 1004    1    7   69   10  267  787    5    4   57    7   17\n",
      "  234 4227   11  342    5 1248   28  102   17   45 1005    5  476    8\n",
      " 3811    1] (100,)\n",
      "---------------------------------------- Negative ----------------------------------------\n",
      "[  20   11   56   37   47    1    4   97  549    7   14    2  565 2450\n",
      "    3 2243    2  284    3    5    7   24   14    2  310    1    4  137\n",
      "   98  295   15  250   20    7  100 1145   14  800    5   64  168  273\n",
      "    3   65 1613    1    4  128    6  225  343    3   30   21   91  536\n",
      "    2   56    8    2   16   14   15   37  564    3   25   21   91  207\n",
      "    7    3   30    7   24   22    6  812  722    1    4  143    7   10\n",
      "    6   45  342    5   34   56    3   18   15  250   58   22  140  974\n",
      "    7    1] (100,)\n",
      "---------------------------------------- Positive ----------------------------------------\n",
      "[  49    2  340   14 1177    1   30    4  128   11   81    7   10  681\n",
      " 1399    5  553  165    1    1    1    5  133    7   26  191    5  541\n",
      "  298    3   74  709   13  264    1   12   12   11  170  254  613   31\n",
      "  298    3   22 1193 1850 1385    1   15  490   79  175    7    1   89\n",
      "   97  180   76 1786   52    4  505    7    8  264    1   12   12    4\n",
      "  549   61    2  266  684   81    7   26    6  145  292  619    8   64\n",
      " 1344    1    1    1   18   28   25  178    3   19   63   85   19  600\n",
      "   13    1] (100,)\n",
      "---------------------------------------- Negative ----------------------------------------\n",
      "[1983    6  164  463  561 2948 3119    5   24  721  100   47   16 2980\n",
      " 1931   23   22 4045  100  463    5  212   33   58    2   29   78 1343\n",
      "    1   24  721   25   23    6   44    1 1054    3    4  828   16    2\n",
      "  747   23 1283  192    3  119    3  544  159    5  676   46   17   22\n",
      "   97  269   46    1   22  211   42    4  183   92  121   18  153   41\n",
      "   31 1694  676   46  215   20    2 1013    9  463    1   47 2948 3119\n",
      "  556  753   33  648    8   20  463    1  548    3   92   37   78  302\n",
      " 2011    1] (100,)\n",
      "---------------------------------------- Positive ----------------------------------------\n",
      "[  0   0   0   0   0   0   0   0   0   0   0   0   0   0   0   0   0   0\n",
      "   0   0   0   0   0   0   0   0   0   0   0   0   0   0   0   0   0   0\n",
      "   0   0   0   0   0   0   0   0   0   0   0   0   0   0   0   0   0   0\n",
      "   0   0   0   0   0   0   0   0   0   0   0   0   0   0   0   0   0   0\n",
      "  11 394  10   2  94  14   2 759   1 103 117   2 222 394  16  19  92  37\n",
      "   2 139   1  19  60  57   7  42  19   7] (100,)\n"
     ]
    }
   ],
   "source": [
    "data, labels = iter(sequence_datasets1.train_dataset).next()\n",
    "print(data.shape, labels.shape)\n",
    "\n",
    "for i, (item, label) in enumerate(zip(data, labels)):\n",
    "    if i>=5: break\n",
    "    print('-'*40, params.classes[label], '-'*40)\n",
    "    print(item.numpy(), item.shape)"
   ]
  },
  {
   "cell_type": "markdown",
   "id": "335d43db",
   "metadata": {
    "ExecuteTime": {
     "end_time": "2021-09-27T04:14:46.520303Z",
     "start_time": "2021-09-27T04:14:46.269605Z"
    }
   },
   "source": [
    "### Sequence + Process"
   ]
  },
  {
   "cell_type": "code",
   "execution_count": 14,
   "id": "4ec6a13a",
   "metadata": {
    "ExecuteTime": {
     "end_time": "2021-09-28T07:05:47.909777Z",
     "start_time": "2021-09-28T07:00:41.711549Z"
    }
   },
   "outputs": [],
   "source": [
    "generator = qtf.classification.LayerGenerator.get_sequence_layer(name='sequence_map', \n",
    "                                                                 standardize=qtf.text.standardize_tf_text1, \n",
    "                                                                 texts=train_texts, \n",
    "                                                                 max_features=params.max_features,\n",
    "                                                                 max_sequence_length=params.sequence_length)\n",
    "sequence_datasets2 = qtf.classification.Datasets(train_texts, train_labels, test_texts, test_labels,   \n",
    "                                                 generator=generator, batch_size=params.batch_size)"
   ]
  },
  {
   "cell_type": "code",
   "execution_count": 15,
   "id": "ecee2cbf",
   "metadata": {
    "ExecuteTime": {
     "end_time": "2021-09-28T07:05:49.065749Z",
     "start_time": "2021-09-28T07:05:47.911767Z"
    }
   },
   "outputs": [
    {
     "name": "stdout",
     "output_type": "stream",
     "text": [
      "(32, 100) (32,)\n",
      "---------------------------------------- Negative ----------------------------------------\n",
      "[   3   93   38  255    7  174    6   30  182   39   29    1   11   11\n",
      "  659   15 1792    8 4674  565  380    4  454    1  182   21   14  150\n",
      "    8   45   81    6   24    1  152   23   37 1690  364   73 3443   42\n",
      "   26  829 1007   11   11  107    8   45  341   24    2  829    3   72\n",
      "   25   94   39    6   94 3690    3   93   73    1  829  644 3203    3\n",
      "   19    5   41    1 2196    3 3119  184   60  491  277    1    8  829\n",
      "   13   30  197 3443  182   11   11   76    3 3119    1 1007  155    4\n",
      "   15   14] (100,)\n",
      "---------------------------------------- Positive ----------------------------------------\n",
      "[  10   49    9   67  148  147 2211    8  782    4 1062   85  689    6\n",
      "    5 2659   39   72   25   39    2 1007   71   16   15    9  384   12\n",
      "   53    2  223  321   45  762   13    5  122   16   20 4085   68    0\n",
      "    0    0    0    0    0    0    0    0    0    0    0    0    0    0\n",
      "    0    0    0    0    0    0    0    0    0    0    0    0    0    0\n",
      "    0    0    0    0    0    0    0    0    0    0    0    0    0    0\n",
      "    0    0    0    0    0    0    0    0    0    0    0    0    0    0\n",
      "    0    0] (100,)\n",
      "---------------------------------------- Positive ----------------------------------------\n",
      "[   3  104   20    7  237    5  175    8 1188   54   16 1707    3 3931\n",
      "   30   21    2   41   91  388    1    4  357  161   70    3   19  117\n",
      "   30   35  256 4996   13    1 4209  159  316   13    5  173   16  409\n",
      "   23   83   51 2547  366   41   32    0    0    0    0    0    0    0\n",
      "    0    0    0    0    0    0    0    0    0    0    0    0    0    0\n",
      "    0    0    0    0    0    0    0    0    0    0    0    0    0    0\n",
      "    0    0    0    0    0    0    0    0    0    0    0    0    0    0\n",
      "    0    0] (100,)\n",
      "---------------------------------------- Positive ----------------------------------------\n",
      "[   3 1709 1439  334   16    1    3 4392   27   31   27  137    8   14\n",
      " 2693   27   64    3   95    5  625   64    1  464    3   89    9   47\n",
      "  197    3   19 1132   85    9  564   11   11   10 2460  157    9   97\n",
      "  238    2   91   17   37   61   17   56   20   33  373    6   24 2490\n",
      "    4  455    4    3   77  199   66  442   78   45   14    1    4  322\n",
      "  154   65   11   11    3   80    2    1 2460  729   85    9  196   70\n",
      "   15    3   76  124   47   64   11   11   12  457   15   52   88  227\n",
      "    2  135] (100,)\n",
      "---------------------------------------- Positive ----------------------------------------\n",
      "[   3   38  409   74   83   51   60  365   78    3   95  831 1251    7\n",
      "   30  103   74   24  158   13   31   15  149   82   63   62  343   34\n",
      "   94 3355   37   84    1   14  281  472   15    3   19   47 3355    3\n",
      "   95   27    3 3210   27    5  411    8  229    4   14  472    9    1\n",
      "  189   15    3   37  136   18   38  353  109    1   34  818  153    3\n",
      " 2724  105    5  411   51   11   11   10  166 2619   40    3  134 2095\n",
      "    6    3  221   89    5  222  288   24  287   16    6   24  304    5\n",
      "   32  228] (100,)\n"
     ]
    }
   ],
   "source": [
    "data, labels = iter(sequence_datasets2.train_dataset).next()\n",
    "print(data.shape, labels.shape)\n",
    "\n",
    "for i, (item, label) in enumerate(zip(data, labels)):\n",
    "    if i>=5: break\n",
    "    print('-'*40, params.classes[label], '-'*40)\n",
    "    print(item.numpy(), item.shape)"
   ]
  },
  {
   "cell_type": "code",
   "execution_count": 16,
   "id": "03e7b316",
   "metadata": {
    "ExecuteTime": {
     "end_time": "2021-09-28T07:07:04.890271Z",
     "start_time": "2021-09-28T07:05:49.068076Z"
    }
   },
   "outputs": [
    {
     "name": "stderr",
     "output_type": "stream",
     "text": [
      "2021-09-28 07:05:49,300: INFO: --------------------------------------------------------------------------------\n",
      "2021-09-28 07:07:04,486: INFO: Loaded 1000000 word vectors. the vector size is 300\n",
      "2021-09-28 07:07:04,498: INFO: embedding_matrix.shape: (5000, 300)\n",
      "2021-09-28 07:07:04,498: INFO: match count: 4963\n",
      "2021-09-28 07:07:04,499: INFO: missing word count: 37\n"
     ]
    }
   ],
   "source": [
    "vocabulary = generator.layer.get_vocabulary()\n",
    "\n",
    "embedding_files = [params.embedding_paths.fasttext_crawl_300d_2M]\n",
    "embedding_matrix_fasttext = qtf.text.load_embedding_matrix(embedding_files,\n",
    "                                                           vocabulary=vocabulary,\n",
    "                                                           max_features=params.max_features,\n",
    "                                                           max_length=1000000,\n",
    "                                                           ignore_rows=0\n",
    "                                                           )"
   ]
  },
  {
   "cell_type": "markdown",
   "id": "6d2df574",
   "metadata": {},
   "source": [
    "## 模型\n",
    "\n",
    "### Embedding\n",
    "\n",
    "#### embedding1"
   ]
  },
  {
   "cell_type": "code",
   "execution_count": 17,
   "id": "b88499c4",
   "metadata": {
    "ExecuteTime": {
     "end_time": "2021-09-28T07:33:06.298655Z",
     "start_time": "2021-09-28T07:07:04.908267Z"
    },
    "scrolled": false
   },
   "outputs": [
    {
     "name": "stderr",
     "output_type": "stream",
     "text": [
      "2021-09-28 07:07:04,972: INFO: model_params.embedding1.dropout=0.4\n",
      "2021-09-28 07:07:04,972: INFO: model_params.embedding1.embedding_dim=200\n",
      "2021-09-28 07:07:05,038: INFO: learning_rate=0.001\n",
      "2021-09-28 07:07:05,039: INFO: model_params.embedding1.clip_value=None\n",
      "2021-09-28 07:07:05,058: INFO: checkpoint_path=/tf/eipi10/xuxiangwen.github.io/_notes/05-ai/45-nlp/spacy/mastering_spacy/output/reviews_tf/reviews_tf_0927/embedding1\n",
      "2021-09-28 07:07:05,060: INFO: model_params.embedding1.epochs=15\n",
      "2021-09-28 07:07:05,061: INFO: use ModelCheckpoint(filepath=/tf/eipi10/xuxiangwen.github.io/_notes/05-ai/45-nlp/spacy/mastering_spacy/output/reviews_tf/reviews_tf_0927/embedding1, monitor=val_accuracy)\n",
      "2021-09-28 07:07:05,061: INFO: use EarlyStopping(monitor=val_accuracy, patience=40)\n",
      "2021-09-28 07:07:05,062: INFO: use ReduceLROnPlateau(monitor=val_loss, factor=0.31622776601683794, patience=15)\n",
      "2021-09-28 07:07:05,063: INFO: use LearningRateScheduler()\n",
      "2021-09-28 07:07:05,063: INFO: steps_per_epoch=None\n",
      "2021-09-28 07:07:05,064: INFO: start training\n",
      "2021-09-28 07:07:05,065: INFO: use_class_weight=False\n"
     ]
    },
    {
     "name": "stdout",
     "output_type": "stream",
     "text": [
      "TensorSpec(shape=(32, 100), dtype=tf.int32, name=None)\n",
      "<tensorflow.python.keras.layers.core.Dense object at 0x7f0173fe2048>\n",
      "Model: \"embedding1\"\n",
      "__________________________________________________________________________________________________\n",
      "Layer (type)                    Output Shape         Param #     Connected to                     \n",
      "==================================================================================================\n",
      "input_1 (InputLayer)            [(None, 100)]        0                                            \n",
      "__________________________________________________________________________________________________\n",
      "embedding (Embedding)           (None, 100, 200)     1000000     input_1[0][0]                    \n",
      "__________________________________________________________________________________________________\n",
      "global_average_pooling1d (Globa (None, 200)          0           embedding[0][0]                  \n",
      "__________________________________________________________________________________________________\n",
      "global_max_pooling1d (GlobalMax (None, 200)          0           embedding[0][0]                  \n",
      "__________________________________________________________________________________________________\n",
      "concatenate (Concatenate)       (None, 400)          0           global_average_pooling1d[0][0]   \n",
      "                                                                 global_max_pooling1d[0][0]       \n",
      "__________________________________________________________________________________________________\n",
      "dense (Dense)                   (None, 2)            802         concatenate[0][0]                \n",
      "==================================================================================================\n",
      "Total params: 1,000,802\n",
      "Trainable params: 1,000,802\n",
      "Non-trainable params: 0\n",
      "__________________________________________________________________________________________________\n",
      "Epoch 1/15\n",
      "14211/14211 [==============================] - 91s 6ms/step - loss: 0.2622 - accuracy: 0.8899 - val_loss: 0.2406 - val_accuracy: 0.9000\n",
      "INFO:tensorflow:Assets written to: /tf/eipi10/xuxiangwen.github.io/_notes/05-ai/45-nlp/spacy/mastering_spacy/output/reviews_tf/reviews_tf_0927/embedding1/assets\n"
     ]
    },
    {
     "name": "stderr",
     "output_type": "stream",
     "text": [
      "2021-09-28 07:08:36,756: INFO: Assets written to: /tf/eipi10/xuxiangwen.github.io/_notes/05-ai/45-nlp/spacy/mastering_spacy/output/reviews_tf/reviews_tf_0927/embedding1/assets\n"
     ]
    },
    {
     "name": "stdout",
     "output_type": "stream",
     "text": [
      "Epoch 2/15\n",
      "14211/14211 [==============================] - 89s 6ms/step - loss: 0.2245 - accuracy: 0.9090 - val_loss: 0.2272 - val_accuracy: 0.9082\n",
      "INFO:tensorflow:Assets written to: /tf/eipi10/xuxiangwen.github.io/_notes/05-ai/45-nlp/spacy/mastering_spacy/output/reviews_tf/reviews_tf_0927/embedding1/assets\n"
     ]
    },
    {
     "name": "stderr",
     "output_type": "stream",
     "text": [
      "2021-09-28 07:10:06,363: INFO: Assets written to: /tf/eipi10/xuxiangwen.github.io/_notes/05-ai/45-nlp/spacy/mastering_spacy/output/reviews_tf/reviews_tf_0927/embedding1/assets\n"
     ]
    },
    {
     "name": "stdout",
     "output_type": "stream",
     "text": [
      "Epoch 3/15\n",
      "14211/14211 [==============================] - 89s 6ms/step - loss: 0.2010 - accuracy: 0.9203 - val_loss: 0.2197 - val_accuracy: 0.9132\n",
      "INFO:tensorflow:Assets written to: /tf/eipi10/xuxiangwen.github.io/_notes/05-ai/45-nlp/spacy/mastering_spacy/output/reviews_tf/reviews_tf_0927/embedding1/assets\n"
     ]
    },
    {
     "name": "stderr",
     "output_type": "stream",
     "text": [
      "2021-09-28 07:11:35,888: INFO: Assets written to: /tf/eipi10/xuxiangwen.github.io/_notes/05-ai/45-nlp/spacy/mastering_spacy/output/reviews_tf/reviews_tf_0927/embedding1/assets\n"
     ]
    },
    {
     "name": "stdout",
     "output_type": "stream",
     "text": [
      "Epoch 4/15\n",
      "14211/14211 [==============================] - 89s 6ms/step - loss: 0.1820 - accuracy: 0.9294 - val_loss: 0.2175 - val_accuracy: 0.9155\n",
      "INFO:tensorflow:Assets written to: /tf/eipi10/xuxiangwen.github.io/_notes/05-ai/45-nlp/spacy/mastering_spacy/output/reviews_tf/reviews_tf_0927/embedding1/assets\n"
     ]
    },
    {
     "name": "stderr",
     "output_type": "stream",
     "text": [
      "2021-09-28 07:13:05,403: INFO: Assets written to: /tf/eipi10/xuxiangwen.github.io/_notes/05-ai/45-nlp/spacy/mastering_spacy/output/reviews_tf/reviews_tf_0927/embedding1/assets\n"
     ]
    },
    {
     "name": "stdout",
     "output_type": "stream",
     "text": [
      "Epoch 5/15\n",
      "14211/14211 [==============================] - 90s 6ms/step - loss: 0.1667 - accuracy: 0.9366 - val_loss: 0.2181 - val_accuracy: 0.9170\n",
      "INFO:tensorflow:Assets written to: /tf/eipi10/xuxiangwen.github.io/_notes/05-ai/45-nlp/spacy/mastering_spacy/output/reviews_tf/reviews_tf_0927/embedding1/assets\n"
     ]
    },
    {
     "name": "stderr",
     "output_type": "stream",
     "text": [
      "2021-09-28 07:14:35,901: INFO: Assets written to: /tf/eipi10/xuxiangwen.github.io/_notes/05-ai/45-nlp/spacy/mastering_spacy/output/reviews_tf/reviews_tf_0927/embedding1/assets\n"
     ]
    },
    {
     "name": "stdout",
     "output_type": "stream",
     "text": [
      "Epoch 6/15\n",
      "14211/14211 [==============================] - 89s 6ms/step - loss: 0.1538 - accuracy: 0.9425 - val_loss: 0.2210 - val_accuracy: 0.9172\n",
      "INFO:tensorflow:Assets written to: /tf/eipi10/xuxiangwen.github.io/_notes/05-ai/45-nlp/spacy/mastering_spacy/output/reviews_tf/reviews_tf_0927/embedding1/assets\n"
     ]
    },
    {
     "name": "stderr",
     "output_type": "stream",
     "text": [
      "2021-09-28 07:16:05,690: INFO: Assets written to: /tf/eipi10/xuxiangwen.github.io/_notes/05-ai/45-nlp/spacy/mastering_spacy/output/reviews_tf/reviews_tf_0927/embedding1/assets\n"
     ]
    },
    {
     "name": "stdout",
     "output_type": "stream",
     "text": [
      "Epoch 7/15\n",
      "14211/14211 [==============================] - 89s 6ms/step - loss: 0.1428 - accuracy: 0.9474 - val_loss: 0.2254 - val_accuracy: 0.9173\n",
      "INFO:tensorflow:Assets written to: /tf/eipi10/xuxiangwen.github.io/_notes/05-ai/45-nlp/spacy/mastering_spacy/output/reviews_tf/reviews_tf_0927/embedding1/assets\n"
     ]
    },
    {
     "name": "stderr",
     "output_type": "stream",
     "text": [
      "2021-09-28 07:17:35,193: INFO: Assets written to: /tf/eipi10/xuxiangwen.github.io/_notes/05-ai/45-nlp/spacy/mastering_spacy/output/reviews_tf/reviews_tf_0927/embedding1/assets\n"
     ]
    },
    {
     "name": "stdout",
     "output_type": "stream",
     "text": [
      "Epoch 8/15\n",
      "14211/14211 [==============================] - 88s 6ms/step - loss: 0.1333 - accuracy: 0.9515 - val_loss: 0.2313 - val_accuracy: 0.9170\n",
      "Epoch 9/15\n",
      "14211/14211 [==============================] - 88s 6ms/step - loss: 0.1247 - accuracy: 0.9550 - val_loss: 0.2373 - val_accuracy: 0.9170\n",
      "Epoch 10/15\n",
      "14211/14211 [==============================] - 88s 6ms/step - loss: 0.1170 - accuracy: 0.9582 - val_loss: 0.2429 - val_accuracy: 0.9174\n",
      "INFO:tensorflow:Assets written to: /tf/eipi10/xuxiangwen.github.io/_notes/05-ai/45-nlp/spacy/mastering_spacy/output/reviews_tf/reviews_tf_0927/embedding1/assets\n"
     ]
    },
    {
     "name": "stderr",
     "output_type": "stream",
     "text": [
      "2021-09-28 07:22:00,959: INFO: Assets written to: /tf/eipi10/xuxiangwen.github.io/_notes/05-ai/45-nlp/spacy/mastering_spacy/output/reviews_tf/reviews_tf_0927/embedding1/assets\n"
     ]
    },
    {
     "name": "stdout",
     "output_type": "stream",
     "text": [
      "Epoch 11/15\n",
      "14211/14211 [==============================] - 88s 6ms/step - loss: 0.1099 - accuracy: 0.9612 - val_loss: 0.2500 - val_accuracy: 0.9163\n",
      "Epoch 12/15\n",
      "14211/14211 [==============================] - 88s 6ms/step - loss: 0.1036 - accuracy: 0.9639 - val_loss: 0.2569 - val_accuracy: 0.9160\n",
      "Epoch 13/15\n",
      "14211/14211 [==============================] - 90s 6ms/step - loss: 0.0977 - accuracy: 0.9663 - val_loss: 0.2646 - val_accuracy: 0.9160\n",
      "Epoch 14/15\n",
      "14211/14211 [==============================] - 89s 6ms/step - loss: 0.0923 - accuracy: 0.9685 - val_loss: 0.2725 - val_accuracy: 0.9156\n",
      "Epoch 15/15\n",
      "14211/14211 [==============================] - 91s 6ms/step - loss: 0.0872 - accuracy: 0.9705 - val_loss: 0.2809 - val_accuracy: 0.9151\n"
     ]
    },
    {
     "name": "stderr",
     "output_type": "stream",
     "text": [
      "2021-09-28 07:29:27,581: INFO: finish training [elapsed time: 1342.52 seconds]\n"
     ]
    },
    {
     "data": {
      "image/png": "[encoded data removed]",
      "text/plain": [
       "<Figure size 1152x360 with 2 Axes>"
      ]
     },
     "metadata": {
      "needs_background": "light"
     },
     "output_type": "display_data"
    },
    {
     "name": "stderr",
     "output_type": "stream",
     "text": [
      "2021-09-28 07:29:28,044: INFO: loading model from /tf/eipi10/xuxiangwen.github.io/_notes/05-ai/45-nlp/spacy/mastering_spacy/output/reviews_tf/reviews_tf_0927/embedding1\n"
     ]
    },
    {
     "name": "stdout",
     "output_type": "stream",
     "text": [
      "load best checkpoint from /tf/eipi10/xuxiangwen.github.io/_notes/05-ai/45-nlp/spacy/mastering_spacy/output/reviews_tf/reviews_tf_0927/embedding1\n",
      "----------------------------------------evaluate----------------------------------------\n",
      "y_score.shape=(454763, 2)\n",
      "y_true.shape=(454763, 2)\n",
      "len(y_true.shape)=2\n"
     ]
    },
    {
     "name": "stderr",
     "output_type": "stream",
     "text": [
      "2021-09-28 07:32:46,711: INFO: test loss:0.2429\n",
      "2021-09-28 07:32:46,712: INFO: test accuracy:0.9174\n",
      "2021-09-28 07:32:46,713: INFO: save model results into /tf/eipi10/xuxiangwen.github.io/_notes/05-ai/45-nlp/spacy/mastering_spacy/output/reviews_tf/reviews_tf_0927/results.json\n",
      "2021-09-28 07:32:46,715: INFO: save json to /tf/eipi10/xuxiangwen.github.io/_notes/05-ai/45-nlp/spacy/mastering_spacy/output/reviews_tf/reviews_tf_0927/results.json\n",
      "2021-09-28 07:32:46,715: INFO: saving generator to /tf/eipi10/xuxiangwen.github.io/_notes/05-ai/45-nlp/spacy/mastering_spacy/output/reviews_tf/reviews_tf_0927/sequence_prepross.generator\n"
     ]
    },
    {
     "name": "stdout",
     "output_type": "stream",
     "text": [
      "y_score.shape=(113691, 2)\n",
      "y_true.shape=(113691, 2)\n",
      "len(y_true.shape)=2\n",
      "----------------------------------------save model results and generator----------------------------------------\n"
     ]
    },
    {
     "name": "stderr",
     "output_type": "stream",
     "text": [
      "2021-09-28 07:32:46,839: INFO: save object to /tf/eipi10/xuxiangwen.github.io/_notes/05-ai/45-nlp/spacy/mastering_spacy/output/reviews_tf/reviews_tf_0927/sequence_prepross.generator\n"
     ]
    },
    {
     "name": "stdout",
     "output_type": "stream",
     "text": [
      "----------------------------------------confusion matrix----------------------------------------\n"
     ]
    },
    {
     "data": {
      "image/png": "[encoded data removed]",
      "text/plain": [
       "<Figure size 360x288 with 2 Axes>"
      ]
     },
     "metadata": {
      "needs_background": "light"
     },
     "output_type": "display_data"
    },
    {
     "name": "stdout",
     "output_type": "stream",
     "text": [
      "----------------------------------------models----------------------------------------\n"
     ]
    },
    {
     "data": {
      "text/html": [
       "<div>\n",
       "<style scoped>\n",
       "    .dataframe tbody tr th:only-of-type {\n",
       "        vertical-align: middle;\n",
       "    }\n",
       "\n",
       "    .dataframe tbody tr th {\n",
       "        vertical-align: top;\n",
       "    }\n",
       "\n",
       "    .dataframe thead th {\n",
       "        text-align: right;\n",
       "    }\n",
       "</style>\n",
       "<table border=\"1\" class=\"dataframe\">\n",
       "  <thead>\n",
       "    <tr style=\"text-align: right;\">\n",
       "      <th></th>\n",
       "      <th>model_name</th>\n",
       "      <th>program_name</th>\n",
       "      <th>weight_number</th>\n",
       "      <th>train_time</th>\n",
       "      <th>create_time</th>\n",
       "      <th>train_loss</th>\n",
       "      <th>test_loss</th>\n",
       "      <th>train_accuracy</th>\n",
       "      <th>test_accuracy</th>\n",
       "      <th>train_auc</th>\n",
       "      <th>test_auc</th>\n",
       "    </tr>\n",
       "  </thead>\n",
       "  <tbody>\n",
       "    <tr>\n",
       "      <th>1</th>\n",
       "      <td>embedding1</td>\n",
       "      <td>reviews_tf_0927.ipynb</td>\n",
       "      <td>1000802</td>\n",
       "      <td>1342.5</td>\n",
       "      <td>2021-09-28 07:32</td>\n",
       "      <td>0.0966</td>\n",
       "      <td>0.2429</td>\n",
       "      <td>0.9661</td>\n",
       "      <td>0.9174</td>\n",
       "      <td>0.9908</td>\n",
       "      <td>0.9538</td>\n",
       "    </tr>\n",
       "  </tbody>\n",
       "</table>\n",
       "</div>"
      ],
      "text/plain": [
       "   model_name           program_name  weight_number  train_time  \\\n",
       "1  embedding1  reviews_tf_0927.ipynb        1000802      1342.5   \n",
       "\n",
       "        create_time  train_loss  test_loss  train_accuracy  test_accuracy  \\\n",
       "1  2021-09-28 07:32      0.0966     0.2429          0.9661         0.9174   \n",
       "\n",
       "   train_auc  test_auc  \n",
       "1     0.9908    0.9538  "
      ]
     },
     "metadata": {},
     "output_type": "display_data"
    }
   ],
   "source": [
    "helper = qtf.classification.Classification(params, model_results=model_results, datasets=sequence_datasets1)\n",
    "model = qtf.classification.text_models.embedding1(helper, name='embedding1', binary_flag=params.binary_flag)\n",
    "model.summary()\n",
    "history = helper.train(model)\n",
    "helper.model_summary(model, history=history)"
   ]
  },
  {
   "cell_type": "markdown",
   "id": "564d0de4",
   "metadata": {},
   "source": [
    "#### embedding2"
   ]
  },
  {
   "cell_type": "code",
   "execution_count": 18,
   "id": "27c44ea2",
   "metadata": {
    "ExecuteTime": {
     "end_time": "2021-09-28T08:01:54.294751Z",
     "start_time": "2021-09-28T07:33:06.300779Z"
    },
    "scrolled": false
   },
   "outputs": [
    {
     "name": "stderr",
     "output_type": "stream",
     "text": [
      "2021-09-28 07:33:06,352: INFO: model_params.embedding2.dropout=0.4\n",
      "2021-09-28 07:33:06,353: INFO: model_params.embedding2.embedding_dim=200\n",
      "2021-09-28 07:33:06,381: INFO: learning_rate=0.001\n",
      "2021-09-28 07:33:06,382: INFO: model_params.embedding2.clip_value=None\n",
      "2021-09-28 07:33:06,387: INFO: checkpoint_path=/tf/eipi10/xuxiangwen.github.io/_notes/05-ai/45-nlp/spacy/mastering_spacy/output/reviews_tf/reviews_tf_0927/embedding2\n",
      "2021-09-28 07:33:06,390: INFO: model_params.embedding2.epochs=15\n",
      "2021-09-28 07:33:06,391: INFO: use ModelCheckpoint(filepath=/tf/eipi10/xuxiangwen.github.io/_notes/05-ai/45-nlp/spacy/mastering_spacy/output/reviews_tf/reviews_tf_0927/embedding2, monitor=val_accuracy)\n",
      "2021-09-28 07:33:06,391: INFO: use EarlyStopping(monitor=val_accuracy, patience=40)\n",
      "2021-09-28 07:33:06,392: INFO: use ReduceLROnPlateau(monitor=val_loss, factor=0.31622776601683794, patience=15)\n",
      "2021-09-28 07:33:06,392: INFO: use LearningRateScheduler()\n",
      "2021-09-28 07:33:06,393: INFO: steps_per_epoch=None\n",
      "2021-09-28 07:33:06,394: INFO: start training\n",
      "2021-09-28 07:33:06,394: INFO: use_class_weight=False\n"
     ]
    },
    {
     "name": "stdout",
     "output_type": "stream",
     "text": [
      "TensorSpec(shape=(32, 100), dtype=tf.int64, name=None)\n",
      "<tensorflow.python.keras.layers.core.Dense object at 0x7f0170ca2438>\n",
      "Model: \"embedding2\"\n",
      "__________________________________________________________________________________________________\n",
      "Layer (type)                    Output Shape         Param #     Connected to                     \n",
      "==================================================================================================\n",
      "input_2 (InputLayer)            [(None, 100)]        0                                            \n",
      "__________________________________________________________________________________________________\n",
      "embedding_1 (Embedding)         (None, 100, 200)     1000000     input_2[0][0]                    \n",
      "__________________________________________________________________________________________________\n",
      "global_average_pooling1d_1 (Glo (None, 200)          0           embedding_1[0][0]                \n",
      "__________________________________________________________________________________________________\n",
      "global_max_pooling1d_1 (GlobalM (None, 200)          0           embedding_1[0][0]                \n",
      "__________________________________________________________________________________________________\n",
      "concatenate_1 (Concatenate)     (None, 400)          0           global_average_pooling1d_1[0][0] \n",
      "                                                                 global_max_pooling1d_1[0][0]     \n",
      "__________________________________________________________________________________________________\n",
      "dense_1 (Dense)                 (None, 2)            802         concatenate_1[0][0]              \n",
      "==================================================================================================\n",
      "Total params: 1,000,802\n",
      "Trainable params: 1,000,802\n",
      "Non-trainable params: 0\n",
      "__________________________________________________________________________________________________\n",
      "Epoch 1/15\n",
      "14211/14211 [==============================] - 166s 12ms/step - loss: 0.2705 - accuracy: 0.8863 - val_loss: 0.2487 - val_accuracy: 0.8986\n",
      "INFO:tensorflow:Assets written to: /tf/eipi10/xuxiangwen.github.io/_notes/05-ai/45-nlp/spacy/mastering_spacy/output/reviews_tf/reviews_tf_0927/embedding2/assets\n"
     ]
    },
    {
     "name": "stderr",
     "output_type": "stream",
     "text": [
      "2021-09-28 07:35:53,378: INFO: Assets written to: /tf/eipi10/xuxiangwen.github.io/_notes/05-ai/45-nlp/spacy/mastering_spacy/output/reviews_tf/reviews_tf_0927/embedding2/assets\n"
     ]
    },
    {
     "name": "stdout",
     "output_type": "stream",
     "text": [
      "Epoch 2/15\n",
      "14211/14211 [==============================] - 88s 6ms/step - loss: 0.2316 - accuracy: 0.9059 - val_loss: 0.2354 - val_accuracy: 0.9054\n",
      "INFO:tensorflow:Assets written to: /tf/eipi10/xuxiangwen.github.io/_notes/05-ai/45-nlp/spacy/mastering_spacy/output/reviews_tf/reviews_tf_0927/embedding2/assets\n"
     ]
    },
    {
     "name": "stderr",
     "output_type": "stream",
     "text": [
      "2021-09-28 07:37:21,671: INFO: Assets written to: /tf/eipi10/xuxiangwen.github.io/_notes/05-ai/45-nlp/spacy/mastering_spacy/output/reviews_tf/reviews_tf_0927/embedding2/assets\n"
     ]
    },
    {
     "name": "stdout",
     "output_type": "stream",
     "text": [
      "Epoch 3/15\n",
      "14211/14211 [==============================] - 87s 6ms/step - loss: 0.2077 - accuracy: 0.9176 - val_loss: 0.2294 - val_accuracy: 0.9087\n",
      "INFO:tensorflow:Assets written to: /tf/eipi10/xuxiangwen.github.io/_notes/05-ai/45-nlp/spacy/mastering_spacy/output/reviews_tf/reviews_tf_0927/embedding2/assets\n"
     ]
    },
    {
     "name": "stderr",
     "output_type": "stream",
     "text": [
      "2021-09-28 07:38:48,965: INFO: Assets written to: /tf/eipi10/xuxiangwen.github.io/_notes/05-ai/45-nlp/spacy/mastering_spacy/output/reviews_tf/reviews_tf_0927/embedding2/assets\n"
     ]
    },
    {
     "name": "stdout",
     "output_type": "stream",
     "text": [
      "Epoch 4/15\n",
      "14211/14211 [==============================] - 88s 6ms/step - loss: 0.1887 - accuracy: 0.9268 - val_loss: 0.2276 - val_accuracy: 0.9107\n",
      "INFO:tensorflow:Assets written to: /tf/eipi10/xuxiangwen.github.io/_notes/05-ai/45-nlp/spacy/mastering_spacy/output/reviews_tf/reviews_tf_0927/embedding2/assets\n"
     ]
    },
    {
     "name": "stderr",
     "output_type": "stream",
     "text": [
      "2021-09-28 07:40:17,238: INFO: Assets written to: /tf/eipi10/xuxiangwen.github.io/_notes/05-ai/45-nlp/spacy/mastering_spacy/output/reviews_tf/reviews_tf_0927/embedding2/assets\n"
     ]
    },
    {
     "name": "stdout",
     "output_type": "stream",
     "text": [
      "Epoch 5/15\n",
      "14211/14211 [==============================] - 87s 6ms/step - loss: 0.1728 - accuracy: 0.9341 - val_loss: 0.2304 - val_accuracy: 0.9108\n",
      "INFO:tensorflow:Assets written to: /tf/eipi10/xuxiangwen.github.io/_notes/05-ai/45-nlp/spacy/mastering_spacy/output/reviews_tf/reviews_tf_0927/embedding2/assets\n"
     ]
    },
    {
     "name": "stderr",
     "output_type": "stream",
     "text": [
      "2021-09-28 07:41:45,035: INFO: Assets written to: /tf/eipi10/xuxiangwen.github.io/_notes/05-ai/45-nlp/spacy/mastering_spacy/output/reviews_tf/reviews_tf_0927/embedding2/assets\n"
     ]
    },
    {
     "name": "stdout",
     "output_type": "stream",
     "text": [
      "Epoch 6/15\n",
      "14211/14211 [==============================] - 86s 6ms/step - loss: 0.1597 - accuracy: 0.9401 - val_loss: 0.2339 - val_accuracy: 0.9101\n",
      "Epoch 7/15\n",
      "14211/14211 [==============================] - 86s 6ms/step - loss: 0.1485 - accuracy: 0.9451 - val_loss: 0.2389 - val_accuracy: 0.9098\n",
      "Epoch 8/15\n",
      "14211/14211 [==============================] - 87s 6ms/step - loss: 0.1387 - accuracy: 0.9494 - val_loss: 0.2438 - val_accuracy: 0.9101\n",
      "Epoch 9/15\n",
      "14211/14211 [==============================] - 86s 6ms/step - loss: 0.1299 - accuracy: 0.9532 - val_loss: 0.2506 - val_accuracy: 0.9092\n",
      "Epoch 10/15\n",
      "14211/14211 [==============================] - 86s 6ms/step - loss: 0.1222 - accuracy: 0.9564 - val_loss: 0.2583 - val_accuracy: 0.9081\n",
      "Epoch 11/15\n",
      "14211/14211 [==============================] - 86s 6ms/step - loss: 0.1151 - accuracy: 0.9591 - val_loss: 0.2644 - val_accuracy: 0.9084\n",
      "Epoch 12/15\n",
      "14211/14211 [==============================] - 87s 6ms/step - loss: 0.1087 - accuracy: 0.9617 - val_loss: 0.2726 - val_accuracy: 0.9075\n",
      "Epoch 13/15\n",
      "14211/14211 [==============================] - 87s 6ms/step - loss: 0.1029 - accuracy: 0.9642 - val_loss: 0.2816 - val_accuracy: 0.9068\n",
      "Epoch 14/15\n",
      "14211/14211 [==============================] - 86s 6ms/step - loss: 0.0974 - accuracy: 0.9665 - val_loss: 0.2915 - val_accuracy: 0.9054\n",
      "Epoch 15/15\n",
      "14211/14211 [==============================] - 86s 6ms/step - loss: 0.0924 - accuracy: 0.9685 - val_loss: 0.3012 - val_accuracy: 0.9048\n"
     ]
    },
    {
     "name": "stderr",
     "output_type": "stream",
     "text": [
      "2021-09-28 07:56:08,913: INFO: finish training [elapsed time: 1382.52 seconds]\n"
     ]
    },
    {
     "data": {
      "image/png": "[encoded data removed]",
      "text/plain": [
       "<Figure size 1152x360 with 2 Axes>"
      ]
     },
     "metadata": {
      "needs_background": "light"
     },
     "output_type": "display_data"
    },
    {
     "name": "stderr",
     "output_type": "stream",
     "text": [
      "2021-09-28 07:56:09,319: INFO: loading model from /tf/eipi10/xuxiangwen.github.io/_notes/05-ai/45-nlp/spacy/mastering_spacy/output/reviews_tf/reviews_tf_0927/embedding2\n"
     ]
    },
    {
     "name": "stdout",
     "output_type": "stream",
     "text": [
      "load best checkpoint from /tf/eipi10/xuxiangwen.github.io/_notes/05-ai/45-nlp/spacy/mastering_spacy/output/reviews_tf/reviews_tf_0927/embedding2\n",
      "----------------------------------------evaluate----------------------------------------\n",
      "y_score.shape=(454763, 2)\n",
      "y_true.shape=(454763, 2)\n",
      "len(y_true.shape)=2\n"
     ]
    },
    {
     "name": "stderr",
     "output_type": "stream",
     "text": [
      "2021-09-28 08:01:03,947: INFO: test loss:0.2304\n",
      "2021-09-28 08:01:03,948: INFO: test accuracy:0.9108\n",
      "2021-09-28 08:01:03,950: INFO: save model results into /tf/eipi10/xuxiangwen.github.io/_notes/05-ai/45-nlp/spacy/mastering_spacy/output/reviews_tf/reviews_tf_0927/results.json\n",
      "2021-09-28 08:01:03,951: INFO: save json to /tf/eipi10/xuxiangwen.github.io/_notes/05-ai/45-nlp/spacy/mastering_spacy/output/reviews_tf/reviews_tf_0927/results.json\n",
      "2021-09-28 08:01:03,952: INFO: saving generator to /tf/eipi10/xuxiangwen.github.io/_notes/05-ai/45-nlp/spacy/mastering_spacy/output/reviews_tf/reviews_tf_0927/sequence_map.generator\n"
     ]
    },
    {
     "name": "stdout",
     "output_type": "stream",
     "text": [
      "y_score.shape=(113691, 2)\n",
      "y_true.shape=(113691, 2)\n",
      "len(y_true.shape)=2\n",
      "----------------------------------------save model results and generator----------------------------------------\n",
      "WARNING:tensorflow:Please add `keras.layers.InputLayer` instead of `keras.Input` to Sequential model. `keras.Input` is intended to be used by Functional model.\n"
     ]
    },
    {
     "name": "stderr",
     "output_type": "stream",
     "text": [
      "2021-09-28 08:01:03,956: WARNING: Please add `keras.layers.InputLayer` instead of `keras.Input` to Sequential model. `keras.Input` is intended to be used by Functional model.\n"
     ]
    },
    {
     "name": "stdout",
     "output_type": "stream",
     "text": [
      "WARNING:tensorflow:Compiled the loaded model, but the compiled metrics have yet to be built. `model.compile_metrics` will be empty until you train or evaluate the model.\n"
     ]
    },
    {
     "name": "stderr",
     "output_type": "stream",
     "text": [
      "2021-09-28 08:01:03,995: WARNING: Compiled the loaded model, but the compiled metrics have yet to be built. `model.compile_metrics` will be empty until you train or evaluate the model.\n"
     ]
    },
    {
     "name": "stdout",
     "output_type": "stream",
     "text": [
      "INFO:tensorflow:Assets written to: /tf/eipi10/xuxiangwen.github.io/_notes/05-ai/45-nlp/spacy/mastering_spacy/output/reviews_tf/reviews_tf_0927/sequence_map.layer/assets\n"
     ]
    },
    {
     "name": "stderr",
     "output_type": "stream",
     "text": [
      "2021-09-28 08:01:05,029: INFO: Assets written to: /tf/eipi10/xuxiangwen.github.io/_notes/05-ai/45-nlp/spacy/mastering_spacy/output/reviews_tf/reviews_tf_0927/sequence_map.layer/assets\n",
      "2021-09-28 08:01:05,053: INFO: save object to /tf/eipi10/xuxiangwen.github.io/_notes/05-ai/45-nlp/spacy/mastering_spacy/output/reviews_tf/reviews_tf_0927/sequence_map.generator\n",
      "2021-09-28 08:01:05,054: INFO: loading model from /tf/eipi10/xuxiangwen.github.io/_notes/05-ai/45-nlp/spacy/mastering_spacy/output/reviews_tf/reviews_tf_0927/embedding1\n"
     ]
    },
    {
     "name": "stdout",
     "output_type": "stream",
     "text": [
      "----------------------------------------confusion matrix----------------------------------------\n"
     ]
    },
    {
     "name": "stderr",
     "output_type": "stream",
     "text": [
      "2021-09-28 08:01:05,306: INFO: loading generator from /tf/eipi10/xuxiangwen.github.io/_notes/05-ai/45-nlp/spacy/mastering_spacy/output/reviews_tf/reviews_tf_0927/sequence_prepross.generator\n"
     ]
    },
    {
     "data": {
      "image/png": "[encoded data removed]",
      "text/plain": [
       "<Figure size 1008x288 with 4 Axes>"
      ]
     },
     "metadata": {
      "needs_background": "light"
     },
     "output_type": "display_data"
    },
    {
     "name": "stdout",
     "output_type": "stream",
     "text": [
      "----------------------------------------models----------------------------------------\n"
     ]
    },
    {
     "data": {
      "text/html": [
       "<div>\n",
       "<style scoped>\n",
       "    .dataframe tbody tr th:only-of-type {\n",
       "        vertical-align: middle;\n",
       "    }\n",
       "\n",
       "    .dataframe tbody tr th {\n",
       "        vertical-align: top;\n",
       "    }\n",
       "\n",
       "    .dataframe thead th {\n",
       "        text-align: right;\n",
       "    }\n",
       "</style>\n",
       "<table border=\"1\" class=\"dataframe\">\n",
       "  <thead>\n",
       "    <tr style=\"text-align: right;\">\n",
       "      <th></th>\n",
       "      <th>model_name</th>\n",
       "      <th>program_name</th>\n",
       "      <th>weight_number</th>\n",
       "      <th>train_time</th>\n",
       "      <th>create_time</th>\n",
       "      <th>train_loss</th>\n",
       "      <th>test_loss</th>\n",
       "      <th>train_accuracy</th>\n",
       "      <th>test_accuracy</th>\n",
       "      <th>train_auc</th>\n",
       "      <th>test_auc</th>\n",
       "    </tr>\n",
       "  </thead>\n",
       "  <tbody>\n",
       "    <tr>\n",
       "      <th>1</th>\n",
       "      <td>embedding1</td>\n",
       "      <td>reviews_tf_0927.ipynb</td>\n",
       "      <td>1000802</td>\n",
       "      <td>1342.5</td>\n",
       "      <td>2021-09-28 07:32</td>\n",
       "      <td>0.0966</td>\n",
       "      <td>0.2429</td>\n",
       "      <td>0.9661</td>\n",
       "      <td>0.9174</td>\n",
       "      <td>0.9908</td>\n",
       "      <td>0.9538</td>\n",
       "    </tr>\n",
       "    <tr>\n",
       "      <th>2</th>\n",
       "      <td>embedding2</td>\n",
       "      <td>reviews_tf_0927.ipynb</td>\n",
       "      <td>1000802</td>\n",
       "      <td>1382.5</td>\n",
       "      <td>2021-09-28 08:01</td>\n",
       "      <td>0.1495</td>\n",
       "      <td>0.2304</td>\n",
       "      <td>0.9450</td>\n",
       "      <td>0.9108</td>\n",
       "      <td>0.9798</td>\n",
       "      <td>0.9517</td>\n",
       "    </tr>\n",
       "  </tbody>\n",
       "</table>\n",
       "</div>"
      ],
      "text/plain": [
       "   model_name           program_name  weight_number  train_time  \\\n",
       "1  embedding1  reviews_tf_0927.ipynb        1000802      1342.5   \n",
       "2  embedding2  reviews_tf_0927.ipynb        1000802      1382.5   \n",
       "\n",
       "        create_time  train_loss  test_loss  train_accuracy  test_accuracy  \\\n",
       "1  2021-09-28 07:32      0.0966     0.2429          0.9661         0.9174   \n",
       "2  2021-09-28 08:01      0.1495     0.2304          0.9450         0.9108   \n",
       "\n",
       "   train_auc  test_auc  \n",
       "1     0.9908    0.9538  \n",
       "2     0.9798    0.9517  "
      ]
     },
     "metadata": {},
     "output_type": "display_data"
    }
   ],
   "source": [
    "helper = qtf.classification.Classification(params, model_results=model_results, datasets=sequence_datasets2)\n",
    "model = qtf.classification.text_models.embedding1(helper, name='embedding2', binary_flag=params.binary_flag) \n",
    "model.summary()\n",
    "history = helper.train(model)\n",
    "helper.model_summary(model, history=history)"
   ]
  },
  {
   "cell_type": "markdown",
   "id": "8a88b2ed",
   "metadata": {},
   "source": [
    "### LSTM"
   ]
  },
  {
   "cell_type": "markdown",
   "id": "a5577b01",
   "metadata": {},
   "source": [
    "#### rnn_lstm"
   ]
  },
  {
   "cell_type": "code",
   "execution_count": null,
   "id": "f17b0cc3",
   "metadata": {
    "ExecuteTime": {
     "start_time": "2021-09-28T06:57:27.471Z"
    },
    "scrolled": false
   },
   "outputs": [
    {
     "name": "stderr",
     "output_type": "stream",
     "text": [
      "2021-09-28 08:01:54,354: INFO: model_params.rnn_lstm.dropout=0.4\n",
      "2021-09-28 08:01:54,355: INFO: model_params.rnn_lstm.units=200\n",
      "2021-09-28 08:01:54,356: INFO: max_features=5000\n",
      "2021-09-28 08:01:54,356: INFO: model_params.rnn_lstm.embedding_dim=200\n"
     ]
    },
    {
     "name": "stdout",
     "output_type": "stream",
     "text": [
      "TensorSpec(shape=(32, 100), dtype=tf.int64, name=None)\n"
     ]
    },
    {
     "name": "stderr",
     "output_type": "stream",
     "text": [
      "2021-09-28 08:01:55,122: INFO: learning_rate=0.001\n",
      "2021-09-28 08:01:55,123: INFO: model_params.rnn_lstm.clip_value=None\n",
      "2021-09-28 08:01:55,131: INFO: checkpoint_path=/tf/eipi10/xuxiangwen.github.io/_notes/05-ai/45-nlp/spacy/mastering_spacy/output/reviews_tf/reviews_tf_0927/rnn_lstm\n",
      "2021-09-28 08:01:55,134: INFO: use ModelCheckpoint(filepath=/tf/eipi10/xuxiangwen.github.io/_notes/05-ai/45-nlp/spacy/mastering_spacy/output/reviews_tf/reviews_tf_0927/rnn_lstm, monitor=val_accuracy)\n",
      "2021-09-28 08:01:55,135: INFO: use EarlyStopping(monitor=val_accuracy, patience=40)\n",
      "2021-09-28 08:01:55,135: INFO: use ReduceLROnPlateau(monitor=val_loss, factor=0.31622776601683794, patience=15)\n",
      "2021-09-28 08:01:55,136: INFO: use LearningRateScheduler()\n",
      "2021-09-28 08:01:55,137: INFO: steps_per_epoch=None\n",
      "2021-09-28 08:01:55,137: INFO: start training\n",
      "2021-09-28 08:01:55,138: INFO: use_class_weight=False\n"
     ]
    },
    {
     "name": "stdout",
     "output_type": "stream",
     "text": [
      "Model: \"rnn_lstm\"\n",
      "_________________________________________________________________\n",
      "Layer (type)                 Output Shape              Param #   \n",
      "=================================================================\n",
      "input_4 (InputLayer)         [(None, 100)]             0         \n",
      "_________________________________________________________________\n",
      "embedding_2 (Embedding)      (None, 100, 200)          1000200   \n",
      "_________________________________________________________________\n",
      "bidirectional (Bidirectional (None, 100, 400)          641600    \n",
      "_________________________________________________________________\n",
      "lstm_1 (LSTM)                (None, 200)               480800    \n",
      "_________________________________________________________________\n",
      "dropout (Dropout)            (None, 200)               0         \n",
      "_________________________________________________________________\n",
      "dense_2 (Dense)              (None, 2)                 402       \n",
      "=================================================================\n",
      "Total params: 2,123,002\n",
      "Trainable params: 2,123,002\n",
      "Non-trainable params: 0\n",
      "_________________________________________________________________\n",
      "Epoch 1/10\n",
      "14211/14211 [==============================] - 359s 25ms/step - loss: 0.3134 - accuracy: 0.8698 - val_loss: 0.2094 - val_accuracy: 0.9154\n"
     ]
    },
    {
     "name": "stderr",
     "output_type": "stream",
     "text": [
      "2021-09-28 08:08:06,765: WARNING: Found untraced functions such as lstm_cell_3_layer_call_fn, lstm_cell_3_layer_call_and_return_conditional_losses, lstm_cell_1_layer_call_fn, lstm_cell_1_layer_call_and_return_conditional_losses, lstm_cell_2_layer_call_fn while saving (showing 5 of 15). These functions will not be directly callable after loading.\n"
     ]
    },
    {
     "name": "stdout",
     "output_type": "stream",
     "text": [
      "INFO:tensorflow:Assets written to: /tf/eipi10/xuxiangwen.github.io/_notes/05-ai/45-nlp/spacy/mastering_spacy/output/reviews_tf/reviews_tf_0927/rnn_lstm/assets\n"
     ]
    },
    {
     "name": "stderr",
     "output_type": "stream",
     "text": [
      "2021-09-28 08:08:08,730: INFO: Assets written to: /tf/eipi10/xuxiangwen.github.io/_notes/05-ai/45-nlp/spacy/mastering_spacy/output/reviews_tf/reviews_tf_0927/rnn_lstm/assets\n"
     ]
    },
    {
     "name": "stdout",
     "output_type": "stream",
     "text": [
      "Epoch 2/10\n",
      "14211/14211 [==============================] - 494s 35ms/step - loss: 0.1919 - accuracy: 0.9239 - val_loss: 0.1859 - val_accuracy: 0.9256\n"
     ]
    },
    {
     "name": "stderr",
     "output_type": "stream",
     "text": [
      "2021-09-28 08:16:36,882: WARNING: Found untraced functions such as lstm_cell_3_layer_call_fn, lstm_cell_3_layer_call_and_return_conditional_losses, lstm_cell_1_layer_call_fn, lstm_cell_1_layer_call_and_return_conditional_losses, lstm_cell_2_layer_call_fn while saving (showing 5 of 15). These functions will not be directly callable after loading.\n"
     ]
    },
    {
     "name": "stdout",
     "output_type": "stream",
     "text": [
      "INFO:tensorflow:Assets written to: /tf/eipi10/xuxiangwen.github.io/_notes/05-ai/45-nlp/spacy/mastering_spacy/output/reviews_tf/reviews_tf_0927/rnn_lstm/assets\n"
     ]
    },
    {
     "name": "stderr",
     "output_type": "stream",
     "text": [
      "2021-09-28 08:16:38,868: INFO: Assets written to: /tf/eipi10/xuxiangwen.github.io/_notes/05-ai/45-nlp/spacy/mastering_spacy/output/reviews_tf/reviews_tf_0927/rnn_lstm/assets\n"
     ]
    },
    {
     "name": "stdout",
     "output_type": "stream",
     "text": [
      "Epoch 3/10\n",
      "14211/14211 [==============================] - 354s 25ms/step - loss: 0.1594 - accuracy: 0.9388 - val_loss: 0.1873 - val_accuracy: 0.9275\n"
     ]
    },
    {
     "name": "stderr",
     "output_type": "stream",
     "text": [
      "2021-09-28 08:22:46,710: WARNING: Found untraced functions such as lstm_cell_3_layer_call_fn, lstm_cell_3_layer_call_and_return_conditional_losses, lstm_cell_1_layer_call_fn, lstm_cell_1_layer_call_and_return_conditional_losses, lstm_cell_2_layer_call_fn while saving (showing 5 of 15). These functions will not be directly callable after loading.\n"
     ]
    },
    {
     "name": "stdout",
     "output_type": "stream",
     "text": [
      "INFO:tensorflow:Assets written to: /tf/eipi10/xuxiangwen.github.io/_notes/05-ai/45-nlp/spacy/mastering_spacy/output/reviews_tf/reviews_tf_0927/rnn_lstm/assets\n"
     ]
    },
    {
     "name": "stderr",
     "output_type": "stream",
     "text": [
      "2021-09-28 08:22:48,974: INFO: Assets written to: /tf/eipi10/xuxiangwen.github.io/_notes/05-ai/45-nlp/spacy/mastering_spacy/output/reviews_tf/reviews_tf_0927/rnn_lstm/assets\n"
     ]
    },
    {
     "name": "stdout",
     "output_type": "stream",
     "text": [
      "Epoch 4/10\n",
      " 6480/14211 [============>.................] - ETA: 2:58 - loss: 0.1405 - accuracy: 0.9467"
     ]
    }
   ],
   "source": [
    "helper = qtf.classification.Classification(params, model_results=model_results, datasets=sequence_datasets2)\n",
    "model = qtf.classification.text_models.lstm1(helper, name='rnn_lstm', binary_flag=params.binary_flag) \n",
    "model.summary()\n",
    "history = helper.train(model, epochs=10)\n",
    "helper.model_summary(model, history=history)"
   ]
  },
  {
   "cell_type": "markdown",
   "id": "30ea8c3c",
   "metadata": {},
   "source": [
    "#### rnn_lstm_fasttext"
   ]
  },
  {
   "cell_type": "code",
   "execution_count": null,
   "id": "b382f5be",
   "metadata": {
    "ExecuteTime": {
     "start_time": "2021-09-28T06:57:27.473Z"
    },
    "scrolled": false
   },
   "outputs": [],
   "source": [
    "helper = qtf.classification.Classification(params, model_results=model_results, datasets=sequence_datasets2)\n",
    "model = qtf.classification.text_models.lstm1(helper, name='rnn_lstm_snps',\n",
    "                 embedding_matrix=embedding_matrix_fasttext,\n",
    "                 is_embedding_trainable=False,\n",
    "                 mask_zero=False, binary_flag=params.binary_flag) \n",
    "model.summary()\n",
    "history = helper.train(model, epochs=10)\n",
    "helper.model_summary(model, history=history)"
   ]
  },
  {
   "cell_type": "markdown",
   "id": "da8e556f",
   "metadata": {},
   "source": [
    "### Pooled GRU "
   ]
  },
  {
   "cell_type": "markdown",
   "id": "ebb7848f",
   "metadata": {},
   "source": [
    "#### pg_default"
   ]
  },
  {
   "cell_type": "code",
   "execution_count": null,
   "id": "9470ea49",
   "metadata": {
    "ExecuteTime": {
     "start_time": "2021-09-28T06:57:27.475Z"
    },
    "scrolled": false
   },
   "outputs": [],
   "source": [
    "helper = qtf.classification.Classification(params, model_results=model_results, datasets=sequence_datasets2)\n",
    "model = qtf.classification.text_models.pooled_gru1(helper, name='pg_snps_simple', binary_flag=params.binary_flag) \n",
    "model.summary()\n",
    "history = helper.train(model, epochs=10)\n",
    "helper.model_summary(model, history=history)"
   ]
  },
  {
   "cell_type": "markdown",
   "id": "079ca474",
   "metadata": {},
   "source": [
    "#### pg_fasttext"
   ]
  },
  {
   "cell_type": "code",
   "execution_count": null,
   "id": "3368aeee",
   "metadata": {
    "ExecuteTime": {
     "start_time": "2021-09-28T06:57:27.485Z"
    },
    "scrolled": false
   },
   "outputs": [],
   "source": [
    "helper = qtf.classification.Classification(params, model_results=model_results, datasets=sequence_datasets2)\n",
    "model = qtf.classification.text_models.pooled_gru1(helper, name='pg_ft',  \n",
    "                       embedding_matrix=embedding_matrix_fasttext, \n",
    "                       is_embedding_trainable=False, binary_flag=params.binary_flag) \n",
    "model.summary()\n",
    "history = helper.train(model, epochs=20)\n",
    "helper.model_summary(model, history=history)"
   ]
  },
  {
   "cell_type": "markdown",
   "id": "0469bb4f",
   "metadata": {
    "ExecuteTime": {
     "end_time": "2021-09-27T06:26:22.163005Z",
     "start_time": "2021-09-27T06:26:22.094440Z"
    }
   },
   "source": [
    "## 模型评估"
   ]
  },
  {
   "cell_type": "markdown",
   "id": "6e79fc6a",
   "metadata": {},
   "source": [
    "### 预测更新"
   ]
  },
  {
   "cell_type": "code",
   "execution_count": null,
   "id": "d4010dce",
   "metadata": {
    "ExecuteTime": {
     "start_time": "2021-09-28T06:57:27.487Z"
    }
   },
   "outputs": [],
   "source": [
    "data_model_results = qtf.classification.DataModelResults(params.data_path) "
   ]
  },
  {
   "cell_type": "code",
   "execution_count": null,
   "id": "9be9e279",
   "metadata": {
    "ExecuteTime": {
     "start_time": "2021-09-28T06:57:27.489Z"
    }
   },
   "outputs": [],
   "source": [
    "data_model_results.get_top_n(10, mode='df').columns"
   ]
  },
  {
   "cell_type": "code",
   "execution_count": null,
   "id": "e0ff0078",
   "metadata": {
    "ExecuteTime": {
     "start_time": "2021-09-28T06:57:27.490Z"
    }
   },
   "outputs": [],
   "source": [
    "data_model_results.show(5, columns=['test_loss', 'test_accuracy', 'model_path'])"
   ]
  },
  {
   "cell_type": "code",
   "execution_count": null,
   "id": "46d77ca3",
   "metadata": {
    "ExecuteTime": {
     "start_time": "2021-09-28T06:57:27.492Z"
    }
   },
   "outputs": [],
   "source": [
    "predictor = qtf.classification.Predictor.get_best_predictor(data_model_results)\n",
    "# result_path = os.path.join(params.data_path, '{}_prediction.txt'.format(params.data_name))\n",
    "# error_sample_path = os.path.join(params.data_path, '{}_error_sample.csv'.format(params.data_name))\n",
    "\n",
    "# df_results, df_error_sample = qtf.text.save_predictions(reviews_df, \n",
    "#                                                         params.text_columns, \n",
    "#                                                         predictor,   \n",
    "#                                                         result_path=result_path, \n",
    "#                                                         error_sample_path=error_sample_path,\n",
    "#                                                         top_n=2\n",
    "#                                                        )\n",
    "# display(df_results.tail(5))\n",
    "# print('-'*50)\n",
    "# print(df_error_sample.groupby('label').size())\n",
    "# print('-'*50)\n",
    "# print(df_error_sample.groupby('top2_predict_correct').size())"
   ]
  },
  {
   "cell_type": "markdown",
   "id": "15baaa3b",
   "metadata": {},
   "source": [
    "### 更多Metrics"
   ]
  },
  {
   "cell_type": "code",
   "execution_count": null,
   "id": "88f34f60",
   "metadata": {
    "ExecuteTime": {
     "start_time": "2021-09-28T06:57:27.493Z"
    }
   },
   "outputs": [],
   "source": [
    "predictor.model.compile(optimizer=optimizers.Adam(learning_rate=params.learning_rate),\n",
    "                        loss=losses.SparseCategoricalCrossentropy(from_logits=True),\n",
    "                        metrics=['accuracy', \n",
    "                                 metrics.SparseTopKCategoricalAccuracy(k=2),\n",
    "                                 'mae'])\n",
    "\n",
    "results = predictor.evaluate(test_texts, test_labels)\n",
    "print(results)\n",
    "\n",
    "predictions = predictor.predict(test_texts)\n",
    "print(predictions.shape)"
   ]
  },
  {
   "cell_type": "code",
   "execution_count": null,
   "id": "aad969ce",
   "metadata": {
    "ExecuteTime": {
     "start_time": "2021-09-28T06:57:27.495Z"
    }
   },
   "outputs": [],
   "source": [
    "top1_predictions = predictor.predict_top_k(test_texts, test_labels, top_k=1)\n",
    "top2_predictions = predictor.predict_top_k(test_texts, test_labels, top_k=2)\n",
    "\n",
    "top1_scores = qtf.utils.score(test_labels, top1_predictions, params.classes)\n",
    "top2_scores = qtf.utils.score(test_labels, top2_predictions, params.classes)\n",
    "\n",
    "display(top1_scores)\n",
    "# print('-'*100)\n",
    "# display(top2_scores)\n",
    "print('-'*100)\n",
    "print(classification_report(test_labels, top1_predictions, digits=4, target_names=params.classes))\n",
    "# print('-'*100)\n",
    "# print(classification_report(test_labels, top2_predictions, digits=4, target_names=params.classes))"
   ]
  },
  {
   "cell_type": "code",
   "execution_count": null,
   "id": "a8af5614",
   "metadata": {
    "ExecuteTime": {
     "start_time": "2021-09-28T06:57:27.499Z"
    }
   },
   "outputs": [],
   "source": [
    "qtf.utils.plot_model_structure(predictor.model)"
   ]
  },
  {
   "cell_type": "code",
   "execution_count": null,
   "id": "c8c4a8d0",
   "metadata": {},
   "outputs": [],
   "source": []
  }
 ],
 "metadata": {
  "kernelspec": {
   "display_name": "Python 3",
   "language": "python",
   "name": "python3"
  },
  "language_info": {
   "codemirror_mode": {
    "name": "ipython",
    "version": 3
   },
   "file_extension": ".py",
   "mimetype": "text/x-python",
   "name": "python",
   "nbconvert_exporter": "python",
   "pygments_lexer": "ipython3",
   "version": "3.6.9"
  },
  "toc": {
   "base_numbering": 1,
   "nav_menu": {},
   "number_sections": true,
   "sideBar": true,
   "skip_h1_title": false,
   "title_cell": "Table of Contents",
   "title_sidebar": "Contents",
   "toc_cell": false,
   "toc_position": {
    "height": "calc(100% - 180px)",
    "left": "10px",
    "top": "150px",
    "width": "165px"
   },
   "toc_section_display": true,
   "toc_window_display": true
  }
 },
 "nbformat": 4,
 "nbformat_minor": 5
}
