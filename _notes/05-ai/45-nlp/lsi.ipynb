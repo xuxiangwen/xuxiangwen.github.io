{
 "cells": [
  {
   "cell_type": "markdown",
   "metadata": {},
   "source": [
    "全称[Latent Semantic Indexing(或 Latent Semantic Analysis )](https://en.wikipedia.org/wiki/Latent_semantic_analysis#Latent_semantic_indexing)。 它采用奇异值分解（Singular Value Decomposition）对文档矩阵进行分解，然后保留一部分（最大的）奇异值和其对应的奇异向量。和奇异值分解的目的相同，LSI一般用于去除文本中的噪音。奇异值分解的公式如下：\n",
    "$$\n",
    "A_{m \\times n}=U_{m \\times m}S_{m \\times n}V^\\mathrm {T}_{n \\times n}\n",
    "$$\n",
    "A是Term-Document文档矩阵（行是Term，列是Document）。\n",
    "\n",
    "实际计算中，我们会选取$k$个奇异值（$k < m, k < n$），这时公式变成：\n",
    "$$\n",
    "A_{m \\times k}^*=U_{m \\times k}S_{k \\times k}V^\\mathrm {T}_{k \\times k}\n",
    "$$\n",
    "\n",
    "- $U_{m \\times k}$ 每个列向量可以看成是一个主题（topic），每个主题有不同的term分布，而且这些主题相互独立（因为垂直）\n",
    "- 假设对于一个新的文档$a$，则$U_{m \\times k}^\\mathrm {T}a$可以理解为，$a$在各个主题上的投影，根据投影的大小，可以看出$a$属于哪个主题。\n",
    "\n",
    "### gensim.models.LsiModel\n",
    "\n",
    "Gensim中相关代码如下："
   ]
  },
  {
   "cell_type": "code",
   "execution_count": null,
   "metadata": {},
   "outputs": [],
   "source": [
    "from gensim.test.utils import common_corpus, common_dictionary\n",
    "from gensim.models import LsiModel\n",
    "\n",
    "print('-'*25, \"corpus\", '-'*25, sep=\"\") \n",
    "print(common_dictionary)\n",
    "corpus = common_corpus[0:9]\n",
    "print(\"corpus number =\", len(corpus))\n",
    "for doc in corpus:\n",
    "    print([(i, round(w,4)) for i, w in doc])\n",
    "\n",
    "print('-'*25, \"lsi\", '-'*25, sep=\"\")  \n",
    "model = LsiModel(corpus, id2word=common_dictionary, num_topics=3)  # train model\n",
    "\n",
    "print(\"U =\\n\", model.projection.u)\n",
    "print(\"S =\\n\", model.projection.s)\n",
    "print(\"lsi[corpus] =\")\n",
    "for doc in model[corpus]:\n",
    "    print(\"\", [(i, round(w,4)) for i, w in doc])\n",
    "\n",
    "print('-'*25, \"show topic\", '-'*25, sep=\"\")    \n",
    "topics = model.get_topics()\n",
    "print(\"topics =\")\n",
    "for topic in topics: \n",
    "    print(\"\", topic)\n",
    "print(\"\\nshow topics:\")    \n",
    "print(\"\", model.show_topics(3, num_words=12))"
   ]
  },
  {
   "cell_type": "markdown",
   "metadata": {},
   "source": [
    "![image-20200612164118539](images/image-20200612164118539.png)\n",
    "\n",
    "可以看到topics的每一行就是$U$的每个列向量。\n",
    "\n",
    "### 和奇异值分解比较\n",
    "\n",
    "下面的代码比较了奇异值分解和LSI，可以便于我们理解LSI。"
   ]
  },
  {
   "cell_type": "code",
   "execution_count": 39,
   "metadata": {},
   "outputs": [
    {
     "name": "stdout",
     "output_type": "stream",
     "text": [
      "A =\n",
      " [[1 2 3 3]\n",
      " [2 0 2 1]\n",
      " [2 2 0 1]]\n",
      "-------------------------奇异值分解-------------------------\n",
      "U =\n",
      " [[ 0.80725695  0.35449015  0.47188235]\n",
      " [ 0.44390091  0.16223863 -0.88126648]\n",
      " [ 0.38895783 -0.9208775   0.02639024]]\n",
      "S =\n",
      " [5.77799333 2.15744631 1.72052854]\n",
      "VT = \n",
      " [[ 0.42799884  0.4140589   0.57278929  0.56328026]\n",
      " [-0.53896479 -0.52505348  0.64332896  0.14129277]\n",
      " [-0.71947085  0.57920874 -0.20161591  0.32592938]]\n",
      "U.T @ A =\n",
      " [[ 2.47297444  2.39242956  3.30957268  3.2546296 ]\n",
      " [-1.16278759 -1.1327747   1.3879477   0.30483158]\n",
      " [-1.23787013  0.99654517 -0.34688592  0.5607708 ]]\n",
      "-------------------------LSI-------------------------\n",
      "U =\n",
      " [[-0.80725695  0.35449015]\n",
      " [-0.44390091  0.16223863]\n",
      " [-0.38895783 -0.9208775 ]]\n",
      "S =\n",
      " [5.77799333 2.15744631]\n",
      "VT =\n",
      " [[-0.42799884 -0.4140589  -0.57278929 -0.56328026]\n",
      " [-0.53896479 -0.52505348  0.64332896  0.14129277]]\n",
      "[[1.58412906 1.52974793 3.16368934 2.73538216]\n",
      " [0.90910655 0.87822186 1.69430106 1.49418851]\n",
      " [2.03266769 1.97370093 0.0091544  0.98520112]]\n",
      "[[ 7.46767754  7.2335935   6.57060028  7.69416142]\n",
      " [ 7.2335935   7.00689772  6.34568749  7.44116657]\n",
      " [ 6.57060028  6.34568749 12.87967016 11.1945235 ]\n",
      " [ 7.69416142  7.44116657 11.1945235  10.68553611]]\n",
      "lsi[corpus] =\n",
      " [[-2.4729745  -2.3924296  -3.3095727  -3.2546296 ]\n",
      " [-1.1627876  -1.1327747   1.3879477   0.30483156]]\n"
     ]
    }
   ],
   "source": [
    "import gensim\n",
    "import numpy as np\n",
    "from gensim import corpora\n",
    "from gensim import models\n",
    "\n",
    "A = np.array([[1,2,3,3], [2,0,2, 1], [2,2,0,1]])\n",
    "print(\"A =\\n\", A)\n",
    "\n",
    "print('-'*25,  \"奇异值分解\", '-'*25, sep='')\n",
    "U, S, VT = np.linalg.svd(A, full_matrices=False) \n",
    "print(\"U =\\n\", U)\n",
    "print(\"S =\\n\", S)\n",
    "print(\"VT = \\n\", VT)\n",
    "\n",
    "# A在U为基所对应的矩阵。即A中每个列向量在以U为基中对应的向量（坐标）\n",
    "UTA = U.T @ A\n",
    "print(\"U.T @ A =\\n\", UTA)\n",
    "\n",
    "print('-'*25,  \"LSI\", '-'*25, sep='')\n",
    "corpus = gensim.matutils.Dense2Corpus(A)\n",
    "lsi = models.LsiModel(corpus, num_topics=2)\n",
    "\n",
    "print(\"U =\\n\", lsi.projection.u)\n",
    "print(\"S =\\n\", lsi.projection.s)\n",
    "\n",
    "vt =  (lsi.projection.u.T @ A) / lsi.projection.s.reshape(len(lsi.projection.s),1)\n",
    "print(\"VT =\\n\", vt)\n",
    "\n",
    "print(lsi.projection.u @ np.diag(lsi.projection.s) @ vt)\n",
    "print((lsi.projection.u.T @ A).T @ np.diag(lsi.projection.s) @ vt)\n",
    "\n",
    "# lsi[corpus] 等价U.T @ A\n",
    "new_a = gensim.matutils.corpus2dense(lsi[corpus], num_terms=len(lsi.projection.s))\n",
    "print(\"lsi[corpus] =\\n\", new_a)\n",
    "\n"
   ]
  },
  {
   "cell_type": "code",
   "execution_count": 30,
   "metadata": {},
   "outputs": [
    {
     "name": "stdout",
     "output_type": "stream",
     "text": [
      "[[1]\n",
      " [2]\n",
      " [2]]\n"
     ]
    }
   ],
   "source": [
    "from gensim import similarities\n",
    "\n",
    "lsi_corpus = lsi[corpus]\n",
    "index = similarities.SparseMatrixSimilarity(corpus, num_features=12)\n",
    "lsi_index = similarities.SparseMatrixSimilarity(lsi_corpus, num_features=3)\n",
    "\n",
    "a = np.array([[1], [2], [2]])\n",
    "print(a)\n",
    "query_bow = gensim.matutils.Dense2Corpus(a)\n",
    "\n"
   ]
  },
  {
   "cell_type": "code",
   "execution_count": 31,
   "metadata": {},
   "outputs": [
    {
     "name": "stdout",
     "output_type": "stream",
     "text": [
      "[[1.         0.70710677 0.6471503  0.7035265 ]]\n",
      "[[1.         0.70710677 0.6471502  0.7035264 ]]\n"
     ]
    }
   ],
   "source": [
    "tfidf_query = query_bow\n",
    "tfidf_sims = index[tfidf_query]\n",
    "\n",
    "lsi_query = lsi[tfidf_query]\n",
    "lsi_sims = lsi_index[lsi_query]\n",
    "\n",
    "print(tfidf_sims)\n",
    "print(lsi_sims)\n",
    "\n"
   ]
  },
  {
   "cell_type": "markdown",
   "metadata": {},
   "source": [
    "![image-20200612105123078](images/image-20200612105123078.png)\n",
    "\n",
    "需要注意：\n",
    "\n",
    "- LSI分解出的向量，和奇异值分解出的向量有时方向相反。\n",
    "- *lsi[corpus]* 等价$U^TA$，可以看成$A$变换到以$U$为基的对应矩阵，即$A$中每个列向量在以$U$为基中对应的向量（坐标）。"
   ]
  }
 ],
 "metadata": {
  "kernelspec": {
   "display_name": "Python 3",
   "language": "python",
   "name": "python3"
  },
  "language_info": {
   "codemirror_mode": {
    "name": "ipython",
    "version": 3
   },
   "file_extension": ".py",
   "mimetype": "text/x-python",
   "name": "python",
   "nbconvert_exporter": "python",
   "pygments_lexer": "ipython3",
   "version": "3.6.9"
  }
 },
 "nbformat": 4,
 "nbformat_minor": 4
}
