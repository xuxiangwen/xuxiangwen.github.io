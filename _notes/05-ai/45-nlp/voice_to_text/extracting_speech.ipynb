{
 "cells": [
  {
   "cell_type": "markdown",
   "id": "ab00187c",
   "metadata": {},
   "source": [
    "参考\n",
    "\n",
    "- [Extracting Speech from Video using Python](https://towardsdatascience.com/extracting-speech-from-video-using-python-f0ec7e312d38)\n",
    "  使用google的相关api，不能处理大的文件\n",
    " \n",
    "- [SILERO SPEECH-TO-TEXT MODELS](https://pytorch.org/hub/snakers4_silero-models_stt/)\n",
    "  采用pytorch中的torchaudio来实现"
   ]
  },
  {
   "cell_type": "code",
   "execution_count": 1,
   "id": "cb205d6d",
   "metadata": {
    "ExecuteTime": {
     "end_time": "2021-10-09T07:55:55.929438Z",
     "start_time": "2021-10-09T07:55:55.926222Z"
    }
   },
   "outputs": [],
   "source": [
    "# for SpeechRecognition\n",
    "#!pip install SpeechRecognition moviepy\n",
    "\n",
    "# for torchaudio\n",
    "#!pip install -q torchaudio omegaconf soundfile\n",
    "# !apt-get update\n",
    "#!apt-get install -y libsndfile1-dev"
   ]
  },
  {
   "cell_type": "code",
   "execution_count": 2,
   "id": "16eecd0a",
   "metadata": {
    "ExecuteTime": {
     "end_time": "2021-10-09T07:55:56.342071Z",
     "start_time": "2021-10-09T07:55:56.329999Z"
    }
   },
   "outputs": [],
   "source": [
    "# ebablbe auto-completion\n",
    "%config Completer.use_jedi = False"
   ]
  },
  {
   "cell_type": "code",
   "execution_count": 3,
   "id": "905bf977",
   "metadata": {
    "ExecuteTime": {
     "end_time": "2021-10-09T07:55:58.656068Z",
     "start_time": "2021-10-09T07:55:56.711103Z"
    }
   },
   "outputs": [],
   "source": [
    "import speech_recognition as sr \n",
    "import moviepy.editor as mp\n",
    "import os \n",
    "\n",
    "import torch\n",
    "import zipfile\n",
    "import torchaudio\n",
    "from glob import glob"
   ]
  },
  {
   "cell_type": "markdown",
   "id": "277f8a4d",
   "metadata": {
    "ExecuteTime": {
     "end_time": "2021-10-09T06:23:07.675797Z",
     "start_time": "2021-10-09T06:23:07.672408Z"
    }
   },
   "source": [
    "### Video to Audio "
   ]
  },
  {
   "cell_type": "markdown",
   "id": "6a269eac",
   "metadata": {},
   "source": [
    "支持的格式有\n",
    "\n",
    "Video:\n",
    "- MP4 (mp4, m4a, m4v, f4v, f4a, m4b, m4r, f4b, mov)\n",
    "- 3GP (3gp, 3gp2, 3g2, 3gpp, 3gpp2)\n",
    "- OGG (ogg, oga, ogv, ogx)\n",
    "- WMV (wmv, wma, asf*)\n",
    "\n",
    "Audio：\n",
    "- MP3\n",
    "- AAC\n",
    "- WMA\n",
    "- AC3 (Dolby Digital)\n",
    "\n",
    "keyi"
   ]
  },
  {
   "cell_type": "code",
   "execution_count": 27,
   "id": "1ac760c4",
   "metadata": {
    "ExecuteTime": {
     "end_time": "2021-10-09T08:08:51.610356Z",
     "start_time": "2021-10-09T08:08:51.594039Z"
    }
   },
   "outputs": [],
   "source": [
    "# video_file = \"output/GMT20210920-213435_Recording.m4a\"\n",
    "def get_wav_text_path(audio_video_file):\n",
    "    dirname = os.path.dirname(audio_video_file)\n",
    "    basenameme = os.path.basename(audio_video_file)\n",
    "    extension = os.path.splitext(audio_video_file)[1][1:]\n",
    "    \n",
    "    if extension=='wav':\n",
    "        wav_file = audio_video_file\n",
    "        text_file = os.path.join(dirname, basenameme + '.txt')\n",
    "    else:\n",
    "        wav_file = os.path.join(dirname, basenameme + '.wav')\n",
    "        text_file = os.path.join(dirname, basenameme + '.txt')\n",
    "        \n",
    "    print(f'wav_file={wav_file}')\n",
    "    print(f'text_file={text_file}')     \n",
    "    return wav_file, text_file        \n",
    "\n",
    "def to_wav(audio_video_file, wav_file=None):\n",
    "    if wav_file is None:\n",
    "        wav_file, _ = get_wav_text_path(audio_video_file)\n",
    "    \n",
    "    extension = os.path.splitext(audio_video_file)[1][1:]\n",
    "    if wav_file==audio_video_file:\n",
    "        return\n",
    "    else:\n",
    "        if extension in ['mp4']:\n",
    "            clip = mp.VideoFileClip(audio_video_file) \n",
    "            clip.audio.write_audiofile(wav_file)\n",
    "        else:\n",
    "            clip = mp.AudioFileClip(audio_video_file) \n",
    "            clip.write_audiofile(wav_file)  \n",
    "    return wav_file\n",
    "\n",
    "\n",
    "def audio_to_text(model, wav_file, text_file):\n",
    "    test_files = glob(wav_file)\n",
    "    batches = split_into_batches(test_files, batch_size=10)\n",
    "    input = prepare_model_input(read_batch(batches[0]),\n",
    "                                device=device)\n",
    "\n",
    "    output = model(input)\n",
    "    for example in output:\n",
    "        text = decoder(example.cpu())\n",
    "        with open(text_file, mode ='w') as file: \n",
    "            file.write(text)     \n",
    "    return text, output[0]\n",
    "    "
   ]
  },
  {
   "cell_type": "code",
   "execution_count": 21,
   "id": "e7dff167",
   "metadata": {
    "ExecuteTime": {
     "end_time": "2021-10-09T07:59:34.565380Z",
     "start_time": "2021-10-09T07:59:22.760331Z"
    }
   },
   "outputs": [
    {
     "name": "stdout",
     "output_type": "stream",
     "text": [
      "wav_file=output/GMT20210920-213435_Recording_1920x1080.mp4.wav\n",
      "text_file=output/GMT20210920-213435_Recording_1920x1080.mp4.txt\n"
     ]
    },
    {
     "name": "stderr",
     "output_type": "stream",
     "text": [
      "chunk:   1%|          | 162/27307 [00:00<00:16, 1616.59it/s, now=None]"
     ]
    },
    {
     "name": "stdout",
     "output_type": "stream",
     "text": [
      "MoviePy - Writing audio in output/GMT20210920-213435_Recording_1920x1080.mp4.wav\n"
     ]
    },
    {
     "name": "stderr",
     "output_type": "stream",
     "text": [
      "                                                                        \r"
     ]
    },
    {
     "name": "stdout",
     "output_type": "stream",
     "text": [
      "MoviePy - Done.\n"
     ]
    }
   ],
   "source": [
    "audio_video_file = \"output/GMT20210920-213435_Recording_1920x1080.mp4\"\n",
    "wav_file = to_wav(audio_video_file)"
   ]
  },
  {
   "cell_type": "markdown",
   "id": "0513875e",
   "metadata": {
    "ExecuteTime": {
     "end_time": "2021-10-09T06:37:38.089281Z",
     "start_time": "2021-10-09T06:37:38.084174Z"
    }
   },
   "source": [
    "### 使用SpeechRecognition"
   ]
  },
  {
   "cell_type": "code",
   "execution_count": 14,
   "id": "c21a3725",
   "metadata": {
    "ExecuteTime": {
     "end_time": "2021-10-09T07:57:36.655970Z",
     "start_time": "2021-10-09T07:57:36.650168Z"
    }
   },
   "outputs": [],
   "source": [
    "audio_file = 'output/speech_orig.wav'\n",
    "\n",
    "r = sr.Recognizer()\n",
    "audio = sr.AudioFile(audio_file)"
   ]
  },
  {
   "cell_type": "code",
   "execution_count": 16,
   "id": "384152a3",
   "metadata": {
    "ExecuteTime": {
     "end_time": "2021-10-09T07:57:44.565757Z",
     "start_time": "2021-10-09T07:57:42.084448Z"
    }
   },
   "outputs": [],
   "source": [
    "with audio as source:\n",
    "    audio_file = r.record(source)\n",
    "    \n",
    "## 由于google的限制，大的文件按无法执行\n",
    "result = r.recognize_google(audio_file)"
   ]
  },
  {
   "cell_type": "code",
   "execution_count": 17,
   "id": "97c4b3f4",
   "metadata": {
    "ExecuteTime": {
     "end_time": "2021-10-09T07:57:44.572830Z",
     "start_time": "2021-10-09T07:57:44.569034Z"
    }
   },
   "outputs": [],
   "source": [
    "# exporting the result \n",
    "with open(text_file, mode ='w') as file: \n",
    "    file.write(result) "
   ]
  },
  {
   "cell_type": "markdown",
   "id": "9b584729",
   "metadata": {
    "ExecuteTime": {
     "end_time": "2021-10-09T07:00:50.225756Z",
     "start_time": "2021-10-09T07:00:50.218779Z"
    }
   },
   "source": [
    "### 使用 torchaudio \n",
    "\n",
    "示例文件\n",
    "~~~\n",
    "# download a single file, any format compatible with TorchAudio (soundfile backend)\n",
    "torch.hub.download_url_to_file('https://opus-codec.org/static/examples/samples/speech_orig.wav',\n",
    "                               dst ='output/speech_orig.wav', progress=True)\n",
    "~~~\n",
    "\n",
    "对于大文件，如果采用cuda，会有如下错误。\n",
    "~~~\n",
    "RuntimeError: CUDA out of memory. Tried to allocate 7.14 GiB (GPU 0; 7.93 GiB total capacity; 429.57 MiB already allocated; 6.40 GiB free; 728.00 MiB reserved in total by PyTorch)\n",
    "~~~"
   ]
  },
  {
   "cell_type": "code",
   "execution_count": 24,
   "id": "2b6ab999",
   "metadata": {
    "ExecuteTime": {
     "end_time": "2021-10-09T08:02:11.787961Z",
     "start_time": "2021-10-09T08:02:10.547807Z"
    }
   },
   "outputs": [
    {
     "name": "stderr",
     "output_type": "stream",
     "text": [
      "Using cache found in /root/.cache/torch/hub/snakers4_silero-models_master\n"
     ]
    }
   ],
   "source": [
    "device = torch.device('cpu')  # gpu also works, but our models are fast enough for CPU\n",
    "\n",
    "model, decoder, utils = torch.hub.load(repo_or_dir='snakers4/silero-models', \n",
    "                                       model='silero_stt',\n",
    "                                       language='en', # also available 'de', 'es'\n",
    "                                       device=device)\n",
    "(read_batch, split_into_batches,\n",
    " read_audio, prepare_model_input) = utils  # see function signature for details\n",
    " \n"
   ]
  },
  {
   "cell_type": "code",
   "execution_count": 29,
   "id": "a2f5542b",
   "metadata": {
    "ExecuteTime": {
     "end_time": "2021-10-09T08:09:44.308020Z",
     "start_time": "2021-10-09T08:09:44.146365Z"
    }
   },
   "outputs": [
    {
     "name": "stdout",
     "output_type": "stream",
     "text": [
      "the boch canoeslid on the smooth planks blew the sheet to the dark blue background it's easy to tell a deps of a well four hours of steady work faced us tensor([[9.9945e-01, 1.4921e-07, 4.9026e-04,  ..., 6.5015e-06, 5.7053e-25,\n",
      "         2.9590e-05],\n",
      "        [1.6816e-04, 3.2007e-06, 9.9957e-01,  ..., 2.1278e-07, 2.8513e-18,\n",
      "         9.9202e-06],\n",
      "        [1.4031e-03, 4.3873e-07, 4.1116e-05,  ..., 1.0005e-04, 3.4989e-21,\n",
      "         9.9840e-01],\n",
      "        ...,\n",
      "        [9.9926e-01, 1.5548e-06, 1.3937e-07,  ..., 1.0264e-06, 9.3222e-19,\n",
      "         2.3636e-06],\n",
      "        [9.9914e-01, 7.3186e-06, 1.4838e-05,  ..., 1.4995e-05, 3.0723e-14,\n",
      "         2.3155e-04],\n",
      "        [9.9914e-01, 7.3466e-06, 1.4920e-05,  ..., 1.4955e-05, 3.1072e-14,\n",
      "         2.3055e-04]])\n",
      "<class 'torch.Tensor'>\n"
     ]
    }
   ],
   "source": [
    "text, output = audio_to_text(model, wav_file='output/speech_orig.wav', text_file='output/speech_orig.wav.txt')\n",
    "print(text, output) \n",
    "print(type(output))"
   ]
  },
  {
   "cell_type": "code",
   "execution_count": null,
   "id": "8e09e71e",
   "metadata": {},
   "outputs": [],
   "source": [
    "tyoe(output"
   ]
  },
  {
   "cell_type": "code",
   "execution_count": 25,
   "id": "c026125c",
   "metadata": {
    "ExecuteTime": {
     "end_time": "2021-10-09T08:02:18.485288Z",
     "start_time": "2021-10-09T08:02:18.478883Z"
    }
   },
   "outputs": [
    {
     "name": "stdout",
     "output_type": "stream",
     "text": [
      "wav_file=output/GMT20210920-213435_Recording_1920x1080.mp4.wav\n",
      "text_file=output/GMT20210920-213435_Recording_1920x1080.mp4.txt\n"
     ]
    }
   ],
   "source": [
    "audio_video_file = \"output/GMT20210920-213435_Recording_1920x1080.mp4\"\n",
    "wav_file, text_file = get_wav_text_path(audio_video_file)"
   ]
  },
  {
   "cell_type": "code",
   "execution_count": 22,
   "id": "6546e912",
   "metadata": {
    "ExecuteTime": {
     "end_time": "2021-10-09T07:59:57.138713Z",
     "start_time": "2021-10-09T07:59:45.243248Z"
    }
   },
   "outputs": [
    {
     "name": "stderr",
     "output_type": "stream",
     "text": [
      "chunk:   1%|          | 163/27307 [00:00<00:16, 1628.81it/s, now=None]"
     ]
    },
    {
     "name": "stdout",
     "output_type": "stream",
     "text": [
      "MoviePy - Writing audio in output/GMT20210920-213435_Recording_1920x1080.mp4.wav\n"
     ]
    },
    {
     "name": "stderr",
     "output_type": "stream",
     "text": [
      "                                                                        \r"
     ]
    },
    {
     "name": "stdout",
     "output_type": "stream",
     "text": [
      "MoviePy - Done.\n"
     ]
    },
    {
     "data": {
      "text/plain": [
       "'output/GMT20210920-213435_Recording_1920x1080.mp4.wav'"
      ]
     },
     "execution_count": 22,
     "metadata": {},
     "output_type": "execute_result"
    }
   ],
   "source": [
    "to_wav(audio_video_file, wav_file)"
   ]
  },
  {
   "cell_type": "code",
   "execution_count": 26,
   "id": "638c9067",
   "metadata": {
    "ExecuteTime": {
     "end_time": "2021-10-09T08:04:21.508805Z",
     "start_time": "2021-10-09T08:02:21.534649Z"
    }
   },
   "outputs": [
    {
     "name": "stdout",
     "output_type": "stream",
     "text": [
      "we going show you help work the so we have to go from we have to lect d p then we have to lect this is the we have to to look for the re d which is the bres cl then we have to one is from the engineers which is the one the the right s and is and the the one for the part request the fl and so first we going to ready t request from the vie the engineer we have exam or ready lect that re way to for the d so mentation before we to t request ity the day this or the par or the the serv to the custo so this case custo is request to change the dis the of the iceso going show to request from so from the thisis the for we will go aheadand select the workor so we will go aheadand the will click on the work order numberand lect the work order clo the from here we will change the request from yes to noand click say then we have to w the the the request rely so we need to vie on the work or book the will that be and together which is right and casual re be customer request so both spes we the right information so we can go aheadand change the te so we can go back here and the request the so the request to change the day tem ed twent case will go aheadand go to the work order down and from here will change for tem twent thir and click on say and also we will have to change the book from ch to knowledge so will go aheadand the will click on the book andchange from ch to knowledgeand click on we will go ahead ty the no here on this sp work order no time line so the ty we will select no here we will goahead and the no ready have the no cord to this er for ityand we will go b sh ation we have some play we has a cording to the the quest bner or the engineer example for this c request we this c tem so for this one s that ready change the day tem twent and also that we change the book that from ch to knowledge so one we have the play we will go ahead and click say in this case the engineer will be able to see the no that we will ready here and when we the act ate change the requ to no the fl from the so that yes this is the this this example for theteand now we will go ahead and proes another one which going be the thisis case this one is from the and pl this vie so this one is for from engineer this case we will go aheadand will click on work order and go to will order clo theil and change from to no and for this request the go to be vis we can go ahead and process the request this is the right to and here the engineer and the part number and the quity so we will go ahead process the request for the engineerso here we have the part number and the quity criation for this part number so since thisis this we to cre work order which going the number and then here we will have d and then number one so goaheadand the work or for the engineer so wewill go ahead and for up for the is to create or to generineate the orderand here we click so before this we have to the change before and here we have the ation work order or the rethis from here will go ahead and go to the work corder we and we will click on this pl and here we will go aheadand er the you for this for this engineer we is so go ahead and the engineers q which i ready have here and day for the engineers we will go ahead and select to day from the day we are sign the so this will be for tem twent second and here will select to click on sa now we will have to change the or te we go to the work order and from the no we can select the go we go to the for we will have to use the go to change the theity so time we have the information here we ' have here we can go and look for the information in the work order so for this case we have the go is going this six three fif and we will to be so we this go six three z and we to revie this is put ora case will go ahead in criation herewe the time we will have the criion here on the noand this is four pr so we will have to select pr and the case will be on side here we have the engineer on and the or readyity will or tem twent second so from here we will go aheadand change the or downand we will change hereso we click on and then sa mentation we can vie valid ate this secondment from the qu work order put the we can also val ate the this second here this one and service inform we already change the readyte for this work order so we will go ahead and order the part that the engineer is request we the this part number so we will go aheadand select the p and the p cre mat one we lect or we ate the work order the p will be cre well and here we will go ahead the c for engineer so will go aheadand and click on the name so we ready have the you here and here we will have to select the that we are or der in the part is the the twent and we will go ahead and order the part so here will and the engineer this is the and which is same s and we can also a have this information and ers from the this the to that ch before again we select the engineerers name and from here we will go aheadand click on cto and then from the order address we will click on a coun address and here we will have the information address information for this partic engineer for this case we will goaheadand this information this information which going to the customer information and we will p the in the the struction click sayand wewill go ahead in from the p and we will go aheadand ander the part so we will go aheadand click on the sign pl and er the part number so we can this bas we have toationsure that the spes the or the ining and in the qu ity sp we will cl or we will ty which the oun of part the engineer is request for then we click on say clo so we can go to the p information here we already you can that we ready the part and from here will go ahead and click also and then place order to gener ate the der number so we click and place der here we have this so we will go ahead and re w the so time this is for high part so the processis we will go ahead and we able to order part so the val part te to val cusmer the pes information so we can pro now have s this case to the from p that the pes for the vis request so this case we will go ahead and click on say or we will able to contin and we will p the no the work or no time line we will select from ty no and in the no all the work quder number that cre p here also that change the theity cord to the to call po be we was for tem the twent second and we will go aheadand p the part number and also we will another to the engineer the part will be or the case will be revie for the high bodyue part te so we will click on say we have to go to the main case so we will click on this case number and from here we will case to this q for high bodyue part the high bodyue part te will be able to take of this caseso we go to to que solect the part which this one sign and then so this ction of this pes we able to the part ordering case the te the ch information cusmer we mentation before way the the main case to this k this is cept and here can make sure the case rectly to the q to the body part c for this one are we ready ish and we will go ahead we the example\n"
     ]
    }
   ],
   "source": [
    "text = audio_to_text(model, wav_file, text_file)\n",
    "print(text)"
   ]
  }
 ],
 "metadata": {
  "kernelspec": {
   "display_name": "Python 3",
   "language": "python",
   "name": "python3"
  },
  "language_info": {
   "codemirror_mode": {
    "name": "ipython",
    "version": 3
   },
   "file_extension": ".py",
   "mimetype": "text/x-python",
   "name": "python",
   "nbconvert_exporter": "python",
   "pygments_lexer": "ipython3",
   "version": "3.6.9"
  },
  "toc": {
   "base_numbering": 1,
   "nav_menu": {},
   "number_sections": true,
   "sideBar": true,
   "skip_h1_title": false,
   "title_cell": "Table of Contents",
   "title_sidebar": "Contents",
   "toc_cell": false,
   "toc_position": {
    "height": "calc(100% - 180px)",
    "left": "10px",
    "top": "150px",
    "width": "384px"
   },
   "toc_section_display": true,
   "toc_window_display": true
  }
 },
 "nbformat": 4,
 "nbformat_minor": 5
}
