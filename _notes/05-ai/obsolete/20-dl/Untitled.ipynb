{
 "cells": [
  {
   "cell_type": "code",
   "execution_count": 1,
   "metadata": {},
   "outputs": [
    {
     "name": "stderr",
     "output_type": "stream",
     "text": [
      "2020-03-01 03:56:22,003: INFO: deployment = local_wechat\n",
      "2020-03-01 03:56:22,004: INFO: base_path = /home/grid/eipi10/qbz95/qbz95\n",
      "2020-03-01 03:56:22,004: INFO: data_path = /home/grid/eipi10/qbz95/data\n",
      "2020-03-01 03:56:22,588: INFO: deployment = jupyter\n",
      "2020-03-01 03:56:22,589: INFO: base_path = /tf/eipi10/qbz95/qbz95\n",
      "2020-03-01 03:56:22,590: INFO: data_path = /tf/eipi10/qbz95/data\n"
     ]
    }
   ],
   "source": [
    "import sys\n",
    "\n",
    "base_path = '/tf/eipi10/qbz95'\n",
    "sys.path.append(base_path)\n",
    "\n",
    "from qbz95 import config\n",
    "import pandas as pd\n",
    "config = config.get_config('jupyter')\n",
    "pd.set_option('display.width', 1000)\n",
    "\n",
    "%matplotlib inline\n",
    "\n",
    "# 代码自动重新加载\n",
    "%load_ext autoreload\n",
    "%autoreload 2\n",
    "\n",
    "# #当module有新的方法的时候，需要运行下面方法。\n",
    "# %reload_ext autoreload"
   ]
  },
  {
   "cell_type": "markdown",
   "metadata": {},
   "source": [
    "### MP3 to Wav"
   ]
  },
  {
   "cell_type": "code",
   "execution_count": 2,
   "metadata": {},
   "outputs": [
    {
     "name": "stdout",
     "output_type": "stream",
     "text": [
      "Collecting pydub\n",
      "  Downloading pydub-0.23.1-py2.py3-none-any.whl (28 kB)\n",
      "Installing collected packages: pydub\n",
      "Successfully installed pydub-0.23.1\n"
     ]
    }
   ],
   "source": [
    "!pip install pydub\n",
    "!yum install ffmpeg "
   ]
  },
  {
   "cell_type": "code",
   "execution_count": 4,
   "metadata": {},
   "outputs": [
    {
     "data": {
      "text/plain": [
       "<_io.BufferedRandom name='/tf/eipi10/xuxiangwen.github.io/_notes/05-ai/20-dl/data/deepspeech/audio/Captura/2020-02-27-11-34-42.wav'>"
      ]
     },
     "execution_count": 4,
     "metadata": {},
     "output_type": "execute_result"
    }
   ],
   "source": [
    "import os\n",
    "from os import path\n",
    "from pydub import AudioSegment\n",
    "\n",
    "# files \n",
    "audio_path=\"/tf/eipi10/xuxiangwen.github.io/_notes/05-ai/20-dl/data/deepspeech/audio/Captura\"\n",
    "src = os.path.join(audio_path, \"2020-02-27-11-34-42.mp3\")\n",
    "dst = os.path.join(audio_path, \"2020-02-27-11-34-42.wav\")\n",
    "\n",
    "# convert wav to mp3                                                            \n",
    "sound = AudioSegment.from_mp3(src)\n",
    "sound.export(dst, format=\"wav\")"
   ]
  },
  {
   "cell_type": "code",
   "execution_count": null,
   "metadata": {},
   "outputs": [],
   "source": [
    "\n",
    "\n"
   ]
  },
  {
   "cell_type": "code",
   "execution_count": null,
   "metadata": {},
   "outputs": [],
   "source": []
  },
  {
   "cell_type": "code",
   "execution_count": null,
   "metadata": {},
   "outputs": [],
   "source": []
  }
 ],
 "metadata": {
  "kernelspec": {
   "display_name": "Python 3",
   "language": "python",
   "name": "python3"
  },
  "language_info": {
   "codemirror_mode": {
    "name": "ipython",
    "version": 3
   },
   "file_extension": ".py",
   "mimetype": "text/x-python",
   "name": "python",
   "nbconvert_exporter": "python",
   "pygments_lexer": "ipython3",
   "version": "3.6.8"
  }
 },
 "nbformat": 4,
 "nbformat_minor": 2
}
