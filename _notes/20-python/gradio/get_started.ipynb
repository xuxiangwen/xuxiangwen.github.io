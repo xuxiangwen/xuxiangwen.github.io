{
 "cells": [
  {
   "cell_type": "code",
   "execution_count": 9,
   "metadata": {
    "execution": {
     "iopub.execute_input": "2024-12-06T03:39:22.171342Z",
     "iopub.status.busy": "2024-12-06T03:39:22.171342Z",
     "iopub.status.idle": "2024-12-06T03:39:22.178217Z",
     "shell.execute_reply": "2024-12-06T03:39:22.177202Z",
     "shell.execute_reply.started": "2024-12-06T03:39:22.171342Z"
    }
   },
   "outputs": [
    {
     "data": {
      "text/plain": [
       "'C:\\\\Users\\\\xu6\\\\OneDrive - HP Inc\\\\xujian\\\\eipi10\\\\xuxiangwen.github.io\\\\_notes\\\\20-python\\\\gradio'"
      ]
     },
     "execution_count": 9,
     "metadata": {},
     "output_type": "execute_result"
    }
   ],
   "source": [
    "%pwd"
   ]
  },
  {
   "cell_type": "code",
   "execution_count": 5,
   "metadata": {
    "execution": {
     "iopub.execute_input": "2024-12-19T12:25:46.519068Z",
     "iopub.status.busy": "2024-12-19T12:25:46.518243Z",
     "iopub.status.idle": "2024-12-19T12:25:46.523705Z",
     "shell.execute_reply": "2024-12-19T12:25:46.523705Z",
     "shell.execute_reply.started": "2024-12-19T12:25:46.519068Z"
    }
   },
   "outputs": [
    {
     "name": "stdout",
     "output_type": "stream",
     "text": [
      "C:\\Users\\xu6\\OneDrive - HP Inc\\xujian\\eipi10\\IntelligentAutomation\\WW_RIBIT_Executor\\Data\\Reports.json\n",
      "--------------------------------------------------\n",
      "SELECT DISTINCT SERIAL_NUMBER AS 'Serial Number', MFG_PART AS 'Input SKU',  ISNULL(SKU, '') AS 'NEW X8 SKU (BOM Info)' , \n",
      "CASE WHEN OUTPUT_LOCALIZATION='ABF' THEN REMAN_FRANCE_ABF\n",
      "WHEN OUTPUT_LOCALIZATION='ABA' THEN REMAN_US_ABA\n",
      "WHEN OUTPUT_LOCALIZATION='ABU' THEN REMAN_UK_AKU\n",
      "ELSE '' END AS Keyboard, INPUT_FILE_INFO as PROCESS_MODE, CONVERT(Date, MODIFIED_ON) AS PROCESSED_ON,\n",
      "PROCESS_STATUS, BOT_STATUS, FALLOUT_COMMENTS, INPUT_FILE_NAME, AVS,SHIP_TO_COUNTRY AS INPUT_LOCALIZATION, OUTPUT_LOCALIZATION\n",
      "FROM TBL_WW_RIBIT_INPUT_ITEM ITEM LEFT JOIN TBL_WW_RIBIT_KEYBOARD_INSTR_PARTNER KEYBOARD\n",
      "ON SHIP_TO_COUNTRY = KEYBOARD.ORIGINAL_LOCALIZATION\n",
      "WHERE CONVERT(Date, MODIFIED_ON) >= DATEADD(YEAR, -3, CONVERT(DATE,GETUTCDATE())) AND MODIFIED_ON>='2024-12-17'\n",
      "ORDER BY SERIAL_NUMBER, PROCESSED_ON\n",
      "--------------------------------------------------\n",
      "SELECT  BOM.SKU, BOM.PART_NUMBER, BOM.PART_DESCRIPTION, BOM.LOCALIZATION, BOM.ROW_NO, BOM.UPLOADED_ON, SKU.UPLOADED_FILE_NAME, BOM.UPLOADED_BY, SKU.LOGS, SKU.AVS\n",
      "FROM TBL_WW_RIBIT_BOM_CONFIG BOM INNER JOIN TBL_WW_RIBIT_SKU_CONFIG SKU ON BOM.SKU_CONFIG_ID = SKU.SKU_CONFIG_ID \n",
      "INNER JOIN (\n",
      "SELECT AVS, MAX(SKU_CONFIG_ID) AS SKU_CONFIG_ID FROM TBL_WW_RIBIT_SKU_CONFIG GROUP BY AVS\n",
      ") SKU1 ON BOM.SKU_CONFIG_ID = SKU1.SKU_CONFIG_ID \n",
      "ORDER BY SKU.UPLOADED_ON DESC, SKU.UPLOADED_FILE_NAME, BOM.SKU, BOM.ROW_NO\n",
      "\n",
      "--------------------------------------------------\n",
      "SELECT DISTINCT SERIAL_NUMBER AS 'Serial Number', MFG_PART AS 'Input SKU',  SKU AS 'NEW X8 SKU (BOM Info)' , STUFF(SKU, CHARINDEX('#', SKU), 0, 'Q') AS 'NEW Q SKU (Output) for Bios + Label',\n",
      "CASE WHEN OUTPUT_LOCALIZATION='ABF' THEN REMAN_FRANCE_ABF\n",
      "WHEN OUTPUT_LOCALIZATION='ABA' THEN REMAN_US_ABA\n",
      "WHEN OUTPUT_LOCALIZATION='ABU' THEN REMAN_UK_AKU\n",
      "ELSE '' END AS Keyboard, CONVERT(Date, MODIFIED_ON) AS PROCESSED_ON,\n",
      "PROCESS_STATUS, OUTPUT_LOCALIZATION\n",
      "FROM TBL_WW_RIBIT_INPUT_ITEM ITEM LEFT JOIN TBL_WW_RIBIT_KEYBOARD_INSTR_PARTNER KEYBOARD\n",
      "ON SHIP_TO_COUNTRY = KEYBOARD.ORIGINAL_LOCALIZATION\n",
      "WHERE SKU IS NOT NULL AND SKU<>'' AND CONVERT(Date, MODIFIED_ON) >= DATEADD(DAY, -7, CONVERT(DATE,GETUTCDATE()))  AND INPUT_FILE_INFO='Confirmation'\n",
      "ORDER BY SERIAL_NUMBER, PROCESSED_ON\n",
      "--------------------------------------------------\n",
      "SELECT DISTINCT SERIAL_NUMBER AS 'Serial Number',   SKU AS 'NEW X8 SKU (BOM Info)' , STUFF(SKU, CHARINDEX('#', SKU), 0, 'Q') AS 'NEW Q SKU (Selling SKU)',\n",
      "CONVERT(Date, MODIFIED_ON) AS PROCESSED_ON, PROCESS_STATUS\n",
      "FROM TBL_WW_RIBIT_INPUT_ITEM ITEM \n",
      "WHERE SKU IS NOT NULL AND SKU<>'' AND CONVERT(Date, MODIFIED_ON) >= DATEADD(DAY, -7, CONVERT(DATE,GETUTCDATE())) AND INPUT_FILE_INFO='Confirmation'\n",
      "ORDER BY SERIAL_NUMBER, PROCESSED_ON\n",
      "\n"
     ]
    }
   ],
   "source": [
    "import json\n",
    "\n",
    "# Path to the JSON file\n",
    "file_path = r'C:\\Users\\xu6\\OneDrive - HP Inc\\xujian\\eipi10\\IntelligentAutomation\\WW_RIBIT_Executor\\Data\\Reports.json'\n",
    "print(file_path)\n",
    "\n",
    "# Read and parse the JSON file\n",
    "with open(file_path, 'r', encoding='utf-8-sig') as file:\n",
    "    data = json.load(file)\n",
    "\n",
    "# Traverse the array and print each item's 'name' element\n",
    "for item in data:\n",
    "    print('-'*50)\n",
    "    print(item['SQL'].replace(\"\\n\\n\", \"\\n\").replace(\"\\n\\n\", \"\\n\"))"
   ]
  },
  {
   "cell_type": "code",
   "execution_count": 2,
   "metadata": {
    "execution": {
     "iopub.execute_input": "2025-01-13T16:36:38.973868Z",
     "iopub.status.busy": "2025-01-13T16:36:38.973868Z",
     "iopub.status.idle": "2025-01-13T16:36:38.983865Z",
     "shell.execute_reply": "2025-01-13T16:36:38.983865Z",
     "shell.execute_reply.started": "2025-01-13T16:36:38.973868Z"
    }
   },
   "outputs": [
    {
     "name": "stdout",
     "output_type": "stream",
     "text": [
      "\n",
      "SELECT BOM.SKU, BOM.PART_NUMBER, BOM.PART_DESCRIPTION, BOM.LOCALIZATION, BOM.ROW_NO, BOM.UPLOADED_ON, SKU.UPLOADED_FILE_NAME, BOM.UPLOADED_BY, SKU.LOGS, SKU.AVS\n",
      "FROM TBL_WW_RIBIT_BOM_CONFIG BOM INNER JOIN TBL_WW_RIBIT_SKU_CONFIG SKU ON BOM.SKU_CONFIG_ID = SKU.SKU_CONFIG_ID \n",
      "INNER JOIN (\n",
      "SELECT AVS, MAX(SKU_CONFIG_ID) AS SKU_CONFIG_ID \n",
      "FROM TBL_WW_RIBIT_SKU_CONFIG \n",
      "WHERE PROCESS_STATUS<>'Upload' \n",
      "GROUP BY AVS\n",
      ") SKU1 ON BOM.SKU_CONFIG_ID = SKU1.SKU_CONFIG_ID \n",
      "ORDER BY SKU.UPLOADED_ON DESC, SKU.UPLOADED_FILE_NAME, BOM.SKU, BOM.ROW_NO\n",
      "\n"
     ]
    },
    {
     "data": {
      "text/plain": [
       "\"\\nSELECT BOM.SKU, BOM.PART_NUMBER, BOM.PART_DESCRIPTION, BOM.LOCALIZATION, BOM.ROW_NO, BOM.UPLOADED_ON, SKU.UPLOADED_FILE_NAME, BOM.UPLOADED_BY, SKU.LOGS, SKU.AVS\\nFROM TBL_WW_RIBIT_BOM_CONFIG BOM INNER JOIN TBL_WW_RIBIT_SKU_CONFIG SKU ON BOM.SKU_CONFIG_ID = SKU.SKU_CONFIG_ID \\nINNER JOIN (\\nSELECT AVS, MAX(SKU_CONFIG_ID) AS SKU_CONFIG_ID \\nFROM TBL_WW_RIBIT_SKU_CONFIG \\nWHERE PROCESS_STATUS<>'Upload' \\nGROUP BY AVS\\n) SKU1 ON BOM.SKU_CONFIG_ID = SKU1.SKU_CONFIG_ID \\nORDER BY SKU.UPLOADED_ON DESC, SKU.UPLOADED_FILE_NAME, BOM.SKU, BOM.ROW_NO\\n\""
      ]
     },
     "execution_count": 2,
     "metadata": {},
     "output_type": "execute_result"
    }
   ],
   "source": [
    "sql=\"\"\"\n",
    "SELECT BOM.SKU, BOM.PART_NUMBER, BOM.PART_DESCRIPTION, BOM.LOCALIZATION, BOM.ROW_NO, BOM.UPLOADED_ON, SKU.UPLOADED_FILE_NAME, BOM.UPLOADED_BY, SKU.LOGS, SKU.AVS\n",
    "FROM TBL_WW_RIBIT_BOM_CONFIG BOM INNER JOIN TBL_WW_RIBIT_SKU_CONFIG SKU ON BOM.SKU_CONFIG_ID = SKU.SKU_CONFIG_ID \n",
    "INNER JOIN (\n",
    "SELECT AVS, MAX(SKU_CONFIG_ID) AS SKU_CONFIG_ID \n",
    "FROM TBL_WW_RIBIT_SKU_CONFIG \n",
    "WHERE PROCESS_STATUS<>'Upload' \n",
    "GROUP BY AVS\n",
    ") SKU1 ON BOM.SKU_CONFIG_ID = SKU1.SKU_CONFIG_ID \n",
    "ORDER BY SKU.UPLOADED_ON DESC, SKU.UPLOADED_FILE_NAME, BOM.SKU, BOM.ROW_NO\n",
    "\"\"\"\n",
    "print(sql)\n",
    "sql"
   ]
  },
  {
   "cell_type": "code",
   "execution_count": 22,
   "metadata": {
    "execution": {
     "iopub.execute_input": "2024-12-06T07:15:17.965027Z",
     "iopub.status.busy": "2024-12-06T07:15:17.964029Z",
     "iopub.status.idle": "2024-12-06T07:15:17.974010Z",
     "shell.execute_reply": "2024-12-06T07:15:17.974010Z",
     "shell.execute_reply.started": "2024-12-06T07:15:17.965027Z"
    }
   },
   "outputs": [
    {
     "data": {
      "text/plain": [
       "\"SELECT DISTINCT SERIAL_NUMBER AS 'Serial Number',   SKU AS 'NEW X8 SKU (BOM Info)' , STUFF(SKU, CHARINDEX('#', SKU), 0, 'Q') AS 'NEW Q SKU (Selling SKU)',\\nCONVERT(Date, MODIFIED_ON) AS PROCESSED_ON, PROCESS_STATUS\\nFROM TBL_WW_RIBIT_INPUT_ITEM ITEM \\nWHERE SKU IS NOT NULL AND SKU<>'' AND CONVERT(Date, MODIFIED_ON) >= DATEADD(DAY, -7, CONVERT(DATE,GETUTCDATE())) AND INPUT_FILE_INFO='Confirmation'\\nORDER BY SERIAL_NUMBER, PROCESSED_ON\\n\""
      ]
     },
     "execution_count": 22,
     "metadata": {},
     "output_type": "execute_result"
    }
   ],
   "source": [
    "a=\"\"\"SELECT DISTINCT SERIAL_NUMBER AS 'Serial Number',   SKU AS 'NEW X8 SKU (BOM Info)' , STUFF(SKU, CHARINDEX('#', SKU), 0, 'Q') AS 'NEW Q SKU (Selling SKU)',\n",
    "CONVERT(Date, MODIFIED_ON) AS PROCESSED_ON, PROCESS_STATUS\n",
    "FROM TBL_WW_RIBIT_INPUT_ITEM ITEM \n",
    "WHERE SKU IS NOT NULL AND SKU<>'' AND CONVERT(Date, MODIFIED_ON) >= DATEADD(DAY, -7, CONVERT(DATE,GETUTCDATE())) AND INPUT_FILE_INFO='Confirmation'\n",
    "ORDER BY SERIAL_NUMBER, PROCESSED_ON\n",
    "\"\"\"\n",
    "a "
   ]
  },
  {
   "cell_type": "code",
   "execution_count": 6,
   "metadata": {
    "execution": {
     "iopub.execute_input": "2024-12-19T14:03:21.933923Z",
     "iopub.status.busy": "2024-12-19T14:03:21.925553Z",
     "iopub.status.idle": "2024-12-19T14:03:21.997531Z",
     "shell.execute_reply": "2024-12-19T14:03:21.996522Z",
     "shell.execute_reply.started": "2024-12-19T14:03:21.932921Z"
    }
   },
   "outputs": [
    {
     "data": {
      "text/plain": [
       "\"\\nSELECT SERIAL_NUMBER AS 'Serial Number', MFG_PART AS 'Input SKU',  ISNULL(SKU, '') AS 'NEW X8 SKU (BOM Info)' , \\nCASE WHEN OUTPUT_LOCALIZATION='ABF' THEN REMAN_FRANCE_ABF\\nWHEN OUTPUT_LOCALIZATION='ABA' THEN REMAN_US_ABA\\nWHEN OUTPUT_LOCALIZATION='ABU' THEN REMAN_UK_AKU\\nELSE '' END AS Keyboard, INPUT_FILE_INFO as PROCESS_MODE, CONVERT(Date, MODIFIED_ON) AS PROCESSED_ON,\\nPROCESS_STATUS, BOT_STATUS, FALLOUT_COMMENTS, INPUT_FILE_NAME,  AVS,SHIP_TO_COUNTRY AS INPUT_LOCALIZATION, OUTPUT_LOCALIZATION\\nFROM TBL_WW_RIBIT_INPUT_ITEM ITEM LEFT JOIN TBL_WW_RIBIT_KEYBOARD_INSTR_PARTNER KEYBOARD\\nON SHIP_TO_COUNTRY = KEYBOARD.ORIGINAL_LOCALIZATION\\nWHERE CONVERT(Date, MODIFIED_ON) >= DATEADD(YEAR, -3, CONVERT(DATE,GETUTCDATE())) AND MODIFIED_ON>='2024-12-17'\\nORDER BY MODIFIED_ON DESC, INPUT_FILE_NAME\\n\\n\""
      ]
     },
     "execution_count": 6,
     "metadata": {},
     "output_type": "execute_result"
    }
   ],
   "source": [
    "a=\"\"\"\n",
    "SELECT SERIAL_NUMBER AS 'Serial Number', MFG_PART AS 'Input SKU',  ISNULL(SKU, '') AS 'NEW X8 SKU (BOM Info)' , \n",
    "CASE WHEN OUTPUT_LOCALIZATION='ABF' THEN REMAN_FRANCE_ABF\n",
    "WHEN OUTPUT_LOCALIZATION='ABA' THEN REMAN_US_ABA\n",
    "WHEN OUTPUT_LOCALIZATION='ABU' THEN REMAN_UK_AKU\n",
    "ELSE '' END AS Keyboard, INPUT_FILE_INFO as PROCESS_MODE, CONVERT(Date, MODIFIED_ON) AS PROCESSED_ON,\n",
    "PROCESS_STATUS, BOT_STATUS, FALLOUT_COMMENTS, INPUT_FILE_NAME,  AVS,SHIP_TO_COUNTRY AS INPUT_LOCALIZATION, OUTPUT_LOCALIZATION\n",
    "FROM TBL_WW_RIBIT_INPUT_ITEM ITEM LEFT JOIN TBL_WW_RIBIT_KEYBOARD_INSTR_PARTNER KEYBOARD\n",
    "ON SHIP_TO_COUNTRY = KEYBOARD.ORIGINAL_LOCALIZATION\n",
    "WHERE CONVERT(Date, MODIFIED_ON) >= DATEADD(YEAR, -3, CONVERT(DATE,GETUTCDATE())) AND MODIFIED_ON>='2024-12-17'\n",
    "ORDER BY MODIFIED_ON DESC, INPUT_FILE_NAME\n",
    "\n",
    "\"\"\"\n",
    "a "
   ]
  },
  {
   "cell_type": "markdown",
   "metadata": {},
   "source": [
    "# Quickstart\n",
    "https://www.gradio.app/guides/quickstart\n",
    "## Building Your First Demo"
   ]
  },
  {
   "cell_type": "code",
   "execution_count": null,
   "metadata": {},
   "outputs": [
    {
     "name": "stderr",
     "output_type": "stream",
     "text": [
      "C:\\Users\\xu6\\AppData\\Local\\miniconda3\\envs\\dev312\\Lib\\site-packages\\tqdm\\auto.py:21: TqdmWarning: IProgress not found. Please update jupyter and ipywidgets. See https://ipywidgets.readthedocs.io/en/stable/user_install.html\n",
      "  from .autonotebook import tqdm as notebook_tqdm\n"
     ]
    },
    {
     "name": "stdout",
     "output_type": "stream",
     "text": [
      "* Running on local URL:  http://127.0.0.1:7861\n",
      "\n",
      "To create a public link, set `share=True` in `launch()`.\n"
     ]
    },
    {
     "data": {
      "text/html": [
       "<div><iframe src=\"http://127.0.0.1:7861/\" width=\"100%\" height=\"500\" allow=\"autoplay; camera; microphone; clipboard-read; clipboard-write;\" frameborder=\"0\" allowfullscreen></iframe></div>"
      ],
      "text/plain": [
       "<IPython.core.display.HTML object>"
      ]
     },
     "metadata": {},
     "output_type": "display_data"
    },
    {
     "data": {
      "text/plain": []
     },
     "execution_count": 1,
     "metadata": {},
     "output_type": "execute_result"
    }
   ],
   "source": [
    "import gradio as gr\n",
    "\n",
    "def greet(name, intensity):\n",
    "    return \"Hello, \" + name + \"!\" * int(intensity)\n",
    "\n",
    "demo = gr.Interface(\n",
    "    fn=greet,\n",
    "    inputs=[\"text\", \"slider\"],  \n",
    "    outputs=[\"text\"],\n",
    ")\n",
    "\n",
    "demo.launch()"
   ]
  },
  {
   "cell_type": "markdown",
   "metadata": {},
   "source": [
    "## Sharing Your Demo"
   ]
  },
  {
   "cell_type": "code",
   "execution_count": 10,
   "metadata": {
    "execution": {
     "iopub.execute_input": "2024-11-28T06:58:33.934886Z",
     "iopub.status.busy": "2024-11-28T06:58:33.934886Z",
     "iopub.status.idle": "2024-11-28T06:58:46.338302Z",
     "shell.execute_reply": "2024-11-28T06:58:46.337296Z",
     "shell.execute_reply.started": "2024-11-28T06:58:33.934886Z"
    }
   },
   "outputs": [
    {
     "name": "stdout",
     "output_type": "stream",
     "text": [
      "* Running on local URL:  http://127.0.0.1:7868\n",
      "\n",
      "Could not create share link. Please check your internet connection or our status page: https://status.gradio.app.\n"
     ]
    },
    {
     "name": "stderr",
     "output_type": "stream",
     "text": [
      "2024/11/28 14:58:46 [W] [service.go:132] login to server failed: dial tcp: lookup gradio-live.com: i/o timeout\n"
     ]
    },
    {
     "data": {
      "text/html": [
       "<div><iframe src=\"http://127.0.0.1:7868/\" width=\"100%\" height=\"500\" allow=\"autoplay; camera; microphone; clipboard-read; clipboard-write;\" frameborder=\"0\" allowfullscreen></iframe></div>"
      ],
      "text/plain": [
       "<IPython.core.display.HTML object>"
      ]
     },
     "metadata": {},
     "output_type": "display_data"
    },
    {
     "data": {
      "text/plain": []
     },
     "execution_count": 10,
     "metadata": {},
     "output_type": "execute_result"
    }
   ],
   "source": [
    "import gradio as gr\n",
    "\n",
    "def greet(name):\n",
    "    return \"Hello \" + name + \"!\"\n",
    "\n",
    "demo = gr.Interface(fn=greet, inputs=gr.Textbox(), outputs=gr.Textbox(label='out'))\n",
    "    \n",
    "demo.launch(share=True)  # Share your demo with just 1 extra parameter 🚀  #估计是HP的防火墙限制了这个功能。"
   ]
  },
  {
   "cell_type": "markdown",
   "metadata": {},
   "source": [
    "# Building Interfaces\n",
    "https://www.gradio.app/guides/the-interface-class \n",
    "## The Interface class\n",
    "### An Image Example"
   ]
  },
  {
   "cell_type": "code",
   "execution_count": 4,
   "metadata": {
    "execution": {
     "iopub.execute_input": "2024-11-30T01:15:45.910663Z",
     "iopub.status.busy": "2024-11-30T01:15:45.909655Z",
     "iopub.status.idle": "2024-11-30T01:15:46.418356Z",
     "shell.execute_reply": "2024-11-30T01:15:46.418356Z",
     "shell.execute_reply.started": "2024-11-30T01:15:45.910663Z"
    }
   },
   "outputs": [
    {
     "name": "stdout",
     "output_type": "stream",
     "text": [
      "* Running on local URL:  http://127.0.0.1:7861\n",
      "\n",
      "To create a public link, set `share=True` in `launch()`.\n"
     ]
    },
    {
     "data": {
      "text/html": [
       "<div><iframe src=\"http://127.0.0.1:7861/\" width=\"100%\" height=\"500\" allow=\"autoplay; camera; microphone; clipboard-read; clipboard-write;\" frameborder=\"0\" allowfullscreen></iframe></div>"
      ],
      "text/plain": [
       "<IPython.core.display.HTML object>"
      ]
     },
     "metadata": {},
     "output_type": "display_data"
    },
    {
     "data": {
      "text/plain": []
     },
     "execution_count": 4,
     "metadata": {},
     "output_type": "execute_result"
    }
   ],
   "source": [
    "import numpy as np\n",
    "import gradio as gr\n",
    "\n",
    "def sepia(input_img):\n",
    "    sepia_filter = np.array([\n",
    "        [0.393, 0.769, 0.189],\n",
    "        [0.349, 0.686, 0.168],\n",
    "        [0.272, 0.534, 0.131]\n",
    "    ])\n",
    "    sepia_img = input_img.dot(sepia_filter.T)\n",
    "    sepia_img /= sepia_img.max()\n",
    "    return sepia_img\n",
    "\n",
    "demo = gr.Interface(sepia, gr.Image(), \"image\")\n",
    "demo.launch()"
   ]
  },
  {
   "cell_type": "markdown",
   "metadata": {
    "execution": {
     "iopub.execute_input": "2024-11-28T06:43:42.975172Z",
     "iopub.status.busy": "2024-11-28T06:43:42.975172Z",
     "iopub.status.idle": "2024-11-28T06:43:42.981327Z",
     "shell.execute_reply": "2024-11-28T06:43:42.980322Z",
     "shell.execute_reply.started": "2024-11-28T06:43:42.975172Z"
    }
   },
   "source": [
    "### Descriptive Content"
   ]
  },
  {
   "cell_type": "code",
   "execution_count": 20,
   "metadata": {
    "editable": true,
    "execution": {
     "iopub.execute_input": "2024-11-28T07:08:10.300339Z",
     "iopub.status.busy": "2024-11-28T07:08:10.300339Z",
     "iopub.status.idle": "2024-11-28T07:08:11.167105Z",
     "shell.execute_reply": "2024-11-28T07:08:11.167105Z",
     "shell.execute_reply.started": "2024-11-28T07:08:10.300339Z"
    },
    "slideshow": {
     "slide_type": ""
    },
    "tags": []
   },
   "outputs": [
    {
     "name": "stdout",
     "output_type": "stream",
     "text": [
      "* Running on local URL:  http://127.0.0.1:7875\n",
      "\n",
      "To create a public link, set `share=True` in `launch()`.\n"
     ]
    },
    {
     "data": {
      "text/html": [
       "<div><iframe src=\"http://127.0.0.1:7875/\" width=\"100%\" height=\"500\" allow=\"autoplay; camera; microphone; clipboard-read; clipboard-write;\" frameborder=\"0\" allowfullscreen></iframe></div>"
      ],
      "text/plain": [
       "<IPython.core.display.HTML object>"
      ]
     },
     "metadata": {},
     "output_type": "display_data"
    },
    {
     "data": {
      "text/plain": []
     },
     "execution_count": 20,
     "metadata": {},
     "output_type": "execute_result"
    }
   ],
   "source": [
    "import gradio as gr\n",
    "\n",
    "def greet(name):\n",
    "    return \"Hello \" + name + \"!\"\n",
    "\n",
    "demo = gr.Interface(\n",
    "    fn=greet, inputs=gr.Textbox(label='input', info='type your name'), outputs=gr.Textbox(label='out', info=\"hello\"),\n",
    "    title ='Demo', description='Hello Guys', article='demo test' \n",
    ")\n",
    "demo.launch() "
   ]
  },
  {
   "cell_type": "markdown",
   "metadata": {},
   "source": [
    "###  Additional Inputs within an Accordion"
   ]
  },
  {
   "cell_type": "code",
   "execution_count": 1,
   "metadata": {
    "execution": {
     "iopub.execute_input": "2024-11-28T14:13:34.511289Z",
     "iopub.status.busy": "2024-11-28T14:13:34.510289Z",
     "iopub.status.idle": "2024-11-28T14:13:40.565848Z",
     "shell.execute_reply": "2024-11-28T14:13:40.564842Z",
     "shell.execute_reply.started": "2024-11-28T14:13:34.511289Z"
    }
   },
   "outputs": [
    {
     "name": "stderr",
     "output_type": "stream",
     "text": [
      "C:\\Users\\xu6\\AppData\\Local\\miniconda3\\envs\\dev312\\Lib\\site-packages\\tqdm\\auto.py:21: TqdmWarning: IProgress not found. Please update jupyter and ipywidgets. See https://ipywidgets.readthedocs.io/en/stable/user_install.html\n",
      "  from .autonotebook import tqdm as notebook_tqdm\n"
     ]
    },
    {
     "name": "stdout",
     "output_type": "stream",
     "text": [
      "* Running on local URL:  http://127.0.0.1:7860\n",
      "\n",
      "To create a public link, set `share=True` in `launch()`.\n"
     ]
    },
    {
     "data": {
      "text/html": [
       "<div><iframe src=\"http://127.0.0.1:7860/\" width=\"100%\" height=\"500\" allow=\"autoplay; camera; microphone; clipboard-read; clipboard-write;\" frameborder=\"0\" allowfullscreen></iframe></div>"
      ],
      "text/plain": [
       "<IPython.core.display.HTML object>"
      ]
     },
     "metadata": {},
     "output_type": "display_data"
    },
    {
     "data": {
      "text/plain": []
     },
     "execution_count": 1,
     "metadata": {},
     "output_type": "execute_result"
    }
   ],
   "source": [
    "import gradio as gr\n",
    "\n",
    "def generate_fake_image(prompt, seed, initial_image=None):\n",
    "    return f\"Used seed: {seed}\", \"https://dummyimage.com/300/09f.png\"\n",
    "\n",
    "demo = gr.Interface(\n",
    "    generate_fake_image,\n",
    "    inputs=[\"textbox\"],\n",
    "    outputs=[\"textbox\", \"image\"],\n",
    "    additional_inputs=[\n",
    "        gr.Slider(0, 1000),\n",
    "        \"image\"\n",
    "    ],\n",
    "    additional_inputs_accordion=gr.Accordion(label=\"Accordion\", open=False)\n",
    ")\n",
    "\n",
    "demo.launch()"
   ]
  },
  {
   "cell_type": "markdown",
   "metadata": {
    "execution": {
     "iopub.execute_input": "2024-11-30T02:17:09.513815Z",
     "iopub.status.busy": "2024-11-30T02:17:09.512814Z",
     "iopub.status.idle": "2024-11-30T02:17:09.516785Z",
     "shell.execute_reply": "2024-11-30T02:17:09.516785Z",
     "shell.execute_reply.started": "2024-11-30T02:17:09.513815Z"
    }
   },
   "source": [
    "## Interface State"
   ]
  },
  {
   "cell_type": "markdown",
   "metadata": {
    "execution": {
     "iopub.execute_input": "2024-11-28T14:21:02.642731Z",
     "iopub.status.busy": "2024-11-28T14:21:02.642731Z",
     "iopub.status.idle": "2024-11-28T14:21:02.645897Z",
     "shell.execute_reply": "2024-11-28T14:21:02.645897Z",
     "shell.execute_reply.started": "2024-11-28T14:21:02.642731Z"
    }
   },
   "source": [
    "### Global State"
   ]
  },
  {
   "cell_type": "code",
   "execution_count": 3,
   "metadata": {
    "execution": {
     "iopub.execute_input": "2024-11-28T14:21:47.491520Z",
     "iopub.status.busy": "2024-11-28T14:21:47.491520Z",
     "iopub.status.idle": "2024-11-28T14:21:48.029643Z",
     "shell.execute_reply": "2024-11-28T14:21:48.028633Z",
     "shell.execute_reply.started": "2024-11-28T14:21:47.491520Z"
    }
   },
   "outputs": [
    {
     "name": "stdout",
     "output_type": "stream",
     "text": [
      "* Running on local URL:  http://127.0.0.1:7861\n",
      "\n",
      "To create a public link, set `share=True` in `launch()`.\n"
     ]
    },
    {
     "data": {
      "text/html": [
       "<div><iframe src=\"http://127.0.0.1:7861/\" width=\"100%\" height=\"500\" allow=\"autoplay; camera; microphone; clipboard-read; clipboard-write;\" frameborder=\"0\" allowfullscreen></iframe></div>"
      ],
      "text/plain": [
       "<IPython.core.display.HTML object>"
      ]
     },
     "metadata": {},
     "output_type": "display_data"
    },
    {
     "data": {
      "text/plain": []
     },
     "execution_count": 3,
     "metadata": {},
     "output_type": "execute_result"
    }
   ],
   "source": [
    "import gradio as gr\n",
    "\n",
    "scores = []\n",
    "\n",
    "def track_score(score):\n",
    "    scores.append(score)\n",
    "    top_scores = sorted(scores, reverse=True)[:3]\n",
    "    return top_scores\n",
    "\n",
    "demo = gr.Interface(\n",
    "    track_score,\n",
    "    gr.Number(label=\"Score\"),\n",
    "    gr.JSON(label=\"Top Scores\")\n",
    ")\n",
    "demo.launch()"
   ]
  },
  {
   "cell_type": "markdown",
   "metadata": {},
   "source": [
    "### Session State"
   ]
  },
  {
   "cell_type": "code",
   "execution_count": 4,
   "metadata": {
    "execution": {
     "iopub.execute_input": "2024-11-28T14:22:11.047937Z",
     "iopub.status.busy": "2024-11-28T14:22:11.047937Z",
     "iopub.status.idle": "2024-11-28T14:22:11.839308Z",
     "shell.execute_reply": "2024-11-28T14:22:11.838297Z",
     "shell.execute_reply.started": "2024-11-28T14:22:11.047937Z"
    }
   },
   "outputs": [
    {
     "name": "stdout",
     "output_type": "stream",
     "text": [
      "* Running on local URL:  http://127.0.0.1:7862\n",
      "\n",
      "To create a public link, set `share=True` in `launch()`.\n"
     ]
    },
    {
     "data": {
      "text/html": [
       "<div><iframe src=\"http://127.0.0.1:7862/\" width=\"100%\" height=\"500\" allow=\"autoplay; camera; microphone; clipboard-read; clipboard-write;\" frameborder=\"0\" allowfullscreen></iframe></div>"
      ],
      "text/plain": [
       "<IPython.core.display.HTML object>"
      ]
     },
     "metadata": {},
     "output_type": "display_data"
    },
    {
     "data": {
      "text/plain": []
     },
     "execution_count": 4,
     "metadata": {},
     "output_type": "execute_result"
    }
   ],
   "source": [
    "import gradio as gr\n",
    "\n",
    "def store_message(message: str, history: list[str]):  \n",
    "    output = {\n",
    "        \"Current messages\": message,\n",
    "        \"Previous messages\": history[::-1]\n",
    "    }\n",
    "    history.append(message)\n",
    "    return output, history\n",
    "\n",
    "demo = gr.Interface(fn=store_message,\n",
    "                    inputs=[\"textbox\", gr.State(value=[])],\n",
    "                    outputs=[\"json\", gr.State()])\n",
    "\n",
    "demo.launch()"
   ]
  },
  {
   "cell_type": "code",
   "execution_count": 17,
   "metadata": {
    "execution": {
     "iopub.execute_input": "2024-11-30T02:18:43.275593Z",
     "iopub.status.busy": "2024-11-30T02:18:43.275593Z",
     "iopub.status.idle": "2024-11-30T02:18:43.869790Z",
     "shell.execute_reply": "2024-11-30T02:18:43.869790Z",
     "shell.execute_reply.started": "2024-11-30T02:18:43.275593Z"
    }
   },
   "outputs": [
    {
     "name": "stdout",
     "output_type": "stream",
     "text": [
      "* Running on local URL:  http://127.0.0.1:7870\n",
      "\n",
      "To create a public link, set `share=True` in `launch()`.\n"
     ]
    },
    {
     "data": {
      "text/html": [
       "<div><iframe src=\"http://127.0.0.1:7870/\" width=\"100%\" height=\"500\" allow=\"autoplay; camera; microphone; clipboard-read; clipboard-write;\" frameborder=\"0\" allowfullscreen></iframe></div>"
      ],
      "text/plain": [
       "<IPython.core.display.HTML object>"
      ]
     },
     "metadata": {},
     "output_type": "display_data"
    },
    {
     "data": {
      "text/plain": []
     },
     "execution_count": 17,
     "metadata": {},
     "output_type": "execute_result"
    }
   ],
   "source": [
    "import gradio as gr\n",
    "\n",
    "with gr.Blocks() as demo:\n",
    "    cart = gr.State([])\n",
    "    items_to_add = gr.CheckboxGroup([\"Cereal\", \"Milk\", \"Orange Juice\", \"Water\"])\n",
    "\n",
    "    def add_items(new_items, previous_cart):\n",
    "        cart1 = previous_cart + new_items\n",
    "        return cart1\n",
    "\n",
    "    gr.Button(\"Add Items\").click(add_items, [items_to_add, cart], cart)\n",
    "\n",
    "    cart_size = gr.Number(label=\"Cart Size\")\n",
    "    cart.change(lambda cart: len(cart), cart, cart_size)\n",
    "\n",
    "demo.launch()"
   ]
  },
  {
   "cell_type": "markdown",
   "metadata": {},
   "source": [
    "### Local State"
   ]
  },
  {
   "cell_type": "code",
   "execution_count": 7,
   "metadata": {
    "execution": {
     "iopub.execute_input": "2024-11-28T14:35:51.007279Z",
     "iopub.status.busy": "2024-11-28T14:35:51.007279Z",
     "iopub.status.idle": "2024-11-28T14:35:51.637586Z",
     "shell.execute_reply": "2024-11-28T14:35:51.636561Z",
     "shell.execute_reply.started": "2024-11-28T14:35:51.007279Z"
    }
   },
   "outputs": [
    {
     "name": "stdout",
     "output_type": "stream",
     "text": [
      "* Running on local URL:  http://127.0.0.1:7865\n",
      "\n",
      "To create a public link, set `share=True` in `launch()`.\n"
     ]
    },
    {
     "data": {
      "text/html": [
       "<div><iframe src=\"http://127.0.0.1:7865/\" width=\"100%\" height=\"500\" allow=\"autoplay; camera; microphone; clipboard-read; clipboard-write;\" frameborder=\"0\" allowfullscreen></iframe></div>"
      ],
      "text/plain": [
       "<IPython.core.display.HTML object>"
      ]
     },
     "metadata": {},
     "output_type": "display_data"
    },
    {
     "data": {
      "text/plain": []
     },
     "execution_count": 7,
     "metadata": {},
     "output_type": "execute_result"
    },
    {
     "name": "stdout",
     "output_type": "stream",
     "text": [
      "loading from local storage ['', '']\n",
      "loading from local storage ['', '']\n",
      "loading from local storage ['FZzR2Ragba', '7E1AvoFwmg']\n",
      "loading from local storage ['FZzR2Ragba', '7E1AvoFwmg']\n"
     ]
    }
   ],
   "source": [
    "import random\n",
    "import string\n",
    "import gradio as gr\n",
    "\n",
    "with gr.Blocks() as demo:\n",
    "    gr.Markdown(\"Your Username and Password will get saved in the browser's local storage. \"\n",
    "                \"If you refresh the page, the values will be retained.\")\n",
    "    username = gr.Textbox(label=\"Username\")\n",
    "    password = gr.Textbox(label=\"Password\", type=\"password\")\n",
    "    btn = gr.Button(\"Generate Randomly\")\n",
    "    local_storage = gr.BrowserState([\"\", \"\"])\n",
    "\n",
    "    @btn.click(outputs=[username, password])\n",
    "    def generate_randomly():\n",
    "        u = \"\".join(random.choices(string.ascii_letters + string.digits, k=10))\n",
    "        p = \"\".join(random.choices(string.ascii_letters + string.digits, k=10))\n",
    "        return u, p\n",
    "\n",
    "    @demo.load(inputs=[local_storage], outputs=[username, password])\n",
    "    def load_from_local_storage(saved_values):\n",
    "        print(\"loading from local storage\", saved_values)\n",
    "        return saved_values[0], saved_values[1]\n",
    "\n",
    "    @gr.on([username.change, password.change], inputs=[username, password], outputs=[local_storage])\n",
    "    def save_to_local_storage(username, password):\n",
    "        return [username, password]\n",
    "\n",
    "demo.launch()"
   ]
  },
  {
   "cell_type": "markdown",
   "metadata": {},
   "source": [
    "## Reactive Interfaces\n",
    "### Live Interfaces "
   ]
  },
  {
   "cell_type": "code",
   "execution_count": 8,
   "metadata": {
    "execution": {
     "iopub.execute_input": "2024-11-28T14:44:08.106257Z",
     "iopub.status.busy": "2024-11-28T14:44:08.106257Z",
     "iopub.status.idle": "2024-11-28T14:44:08.640559Z",
     "shell.execute_reply": "2024-11-28T14:44:08.640559Z",
     "shell.execute_reply.started": "2024-11-28T14:44:08.106257Z"
    }
   },
   "outputs": [
    {
     "name": "stdout",
     "output_type": "stream",
     "text": [
      "* Running on local URL:  http://127.0.0.1:7866\n",
      "\n",
      "To create a public link, set `share=True` in `launch()`.\n"
     ]
    },
    {
     "data": {
      "text/html": [
       "<div><iframe src=\"http://127.0.0.1:7866/\" width=\"100%\" height=\"500\" allow=\"autoplay; camera; microphone; clipboard-read; clipboard-write;\" frameborder=\"0\" allowfullscreen></iframe></div>"
      ],
      "text/plain": [
       "<IPython.core.display.HTML object>"
      ]
     },
     "metadata": {},
     "output_type": "display_data"
    },
    {
     "data": {
      "text/plain": []
     },
     "execution_count": 8,
     "metadata": {},
     "output_type": "execute_result"
    }
   ],
   "source": [
    "import gradio as gr\n",
    "\n",
    "def calculator(num1, operation, num2):\n",
    "    if operation == \"add\":\n",
    "        return num1 + num2\n",
    "    elif operation == \"subtract\":\n",
    "        return num1 - num2\n",
    "    elif operation == \"multiply\":\n",
    "        return num1 * num2\n",
    "    elif operation == \"divide\":\n",
    "        return num1 / num2\n",
    "\n",
    "demo = gr.Interface(\n",
    "    calculator,\n",
    "    [\n",
    "        \"number\",\n",
    "        gr.Radio([\"add\", \"subtract\", \"multiply\", \"divide\"]),\n",
    "        \"number\"\n",
    "    ],\n",
    "    \"number\",\n",
    "    live=True,\n",
    ")\n",
    "demo.launch()"
   ]
  },
  {
   "cell_type": "markdown",
   "metadata": {},
   "source": [
    "### Streaming Components "
   ]
  },
  {
   "cell_type": "code",
   "execution_count": 10,
   "metadata": {
    "execution": {
     "iopub.execute_input": "2024-11-28T14:48:48.660947Z",
     "iopub.status.busy": "2024-11-28T14:48:48.660947Z",
     "iopub.status.idle": "2024-11-28T14:48:49.226731Z",
     "shell.execute_reply": "2024-11-28T14:48:49.225706Z",
     "shell.execute_reply.started": "2024-11-28T14:48:48.660947Z"
    }
   },
   "outputs": [
    {
     "name": "stdout",
     "output_type": "stream",
     "text": [
      "* Running on local URL:  http://127.0.0.1:7868\n",
      "\n",
      "To create a public link, set `share=True` in `launch()`.\n"
     ]
    },
    {
     "data": {
      "text/html": [
       "<div><iframe src=\"http://127.0.0.1:7868/\" width=\"100%\" height=\"500\" allow=\"autoplay; camera; microphone; clipboard-read; clipboard-write;\" frameborder=\"0\" allowfullscreen></iframe></div>"
      ],
      "text/plain": [
       "<IPython.core.display.HTML object>"
      ]
     },
     "metadata": {},
     "output_type": "display_data"
    },
    {
     "data": {
      "text/plain": []
     },
     "execution_count": 10,
     "metadata": {},
     "output_type": "execute_result"
    }
   ],
   "source": [
    "import gradio as gr\n",
    "import numpy as np\n",
    "\n",
    "def flip(im):\n",
    "    return np.flipud(im)\n",
    "\n",
    "demo = gr.Interface(\n",
    "    flip,\n",
    "    # gr.Image(sources=[\"webcam\"], streaming=True),\n",
    "    gr.Image(sources=[\"webcam\"]),\n",
    "    \"image\",\n",
    "    live=True\n",
    ")\n",
    "demo.launch()"
   ]
  },
  {
   "cell_type": "markdown",
   "metadata": {
    "execution": {
     "iopub.execute_input": "2024-11-29T00:54:44.101818Z",
     "iopub.status.busy": "2024-11-29T00:54:44.101818Z",
     "iopub.status.idle": "2024-11-29T00:54:44.110355Z",
     "shell.execute_reply": "2024-11-29T00:54:44.110355Z",
     "shell.execute_reply.started": "2024-11-29T00:54:44.101818Z"
    }
   },
   "source": [
    "# Building With Blocksc\n",
    "https://www.gradio.app/guides/blocks-and-event-listeners\n",
    "##  Blocks and Event Listeners\n",
    "### Event Listeners and Interactivity"
   ]
  },
  {
   "cell_type": "code",
   "execution_count": 2,
   "metadata": {
    "execution": {
     "iopub.execute_input": "2024-11-29T00:54:57.368059Z",
     "iopub.status.busy": "2024-11-29T00:54:57.368059Z",
     "iopub.status.idle": "2024-11-29T00:55:02.814702Z",
     "shell.execute_reply": "2024-11-29T00:55:02.814702Z",
     "shell.execute_reply.started": "2024-11-29T00:54:57.368059Z"
    }
   },
   "outputs": [
    {
     "name": "stderr",
     "output_type": "stream",
     "text": [
      "C:\\Users\\xu6\\AppData\\Local\\miniconda3\\envs\\dev312\\Lib\\site-packages\\tqdm\\auto.py:21: TqdmWarning: IProgress not found. Please update jupyter and ipywidgets. See https://ipywidgets.readthedocs.io/en/stable/user_install.html\n",
      "  from .autonotebook import tqdm as notebook_tqdm\n"
     ]
    },
    {
     "name": "stdout",
     "output_type": "stream",
     "text": [
      "* Running on local URL:  http://127.0.0.1:7860\n",
      "\n",
      "To create a public link, set `share=True` in `launch()`.\n"
     ]
    },
    {
     "data": {
      "text/html": [
       "<div><iframe src=\"http://127.0.0.1:7860/\" width=\"100%\" height=\"500\" allow=\"autoplay; camera; microphone; clipboard-read; clipboard-write;\" frameborder=\"0\" allowfullscreen></iframe></div>"
      ],
      "text/plain": [
       "<IPython.core.display.HTML object>"
      ]
     },
     "metadata": {},
     "output_type": "display_data"
    },
    {
     "data": {
      "text/plain": []
     },
     "execution_count": 2,
     "metadata": {},
     "output_type": "execute_result"
    }
   ],
   "source": [
    "import gradio as gr\n",
    "\n",
    "with gr.Blocks() as demo:\n",
    "    name = gr.Textbox(label=\"Name\")\n",
    "    output = gr.Textbox(label=\"Output Box\")\n",
    "    greet_btn = gr.Button(\"Greet\")\n",
    "\n",
    "    @greet_btn.click(inputs=name, outputs=output)\n",
    "    def greet(name):\n",
    "        return \"Hello \" + name + \"!\"\n",
    "\n",
    "demo.launch()  "
   ]
  },
  {
   "cell_type": "code",
   "execution_count": 8,
   "metadata": {
    "execution": {
     "iopub.execute_input": "2024-11-29T01:01:10.461790Z",
     "iopub.status.busy": "2024-11-29T01:01:10.461790Z",
     "iopub.status.idle": "2024-11-29T01:01:11.179868Z",
     "shell.execute_reply": "2024-11-29T01:01:11.179868Z",
     "shell.execute_reply.started": "2024-11-29T01:01:10.461790Z"
    }
   },
   "outputs": [
    {
     "name": "stdout",
     "output_type": "stream",
     "text": [
      "* Running on local URL:  http://127.0.0.1:7866\n",
      "\n",
      "To create a public link, set `share=True` in `launch()`.\n"
     ]
    },
    {
     "data": {
      "text/html": [
       "<div><iframe src=\"http://127.0.0.1:7866/\" width=\"100%\" height=\"500\" allow=\"autoplay; camera; microphone; clipboard-read; clipboard-write;\" frameborder=\"0\" allowfullscreen></iframe></div>"
      ],
      "text/plain": [
       "<IPython.core.display.HTML object>"
      ]
     },
     "metadata": {},
     "output_type": "display_data"
    },
    {
     "data": {
      "text/plain": []
     },
     "execution_count": 8,
     "metadata": {},
     "output_type": "execute_result"
    }
   ],
   "source": [
    "import gradio as gr\n",
    "\n",
    "with gr.Blocks() as demo:\n",
    "    name = gr.Textbox(label=\"Name\")\n",
    "    output = gr.Textbox(label=\"Output\", interactive=True)\n",
    "    output1 = gr.Textbox(label=\"Output1\", interactive=True)\n",
    "    output2 = gr.Textbox(label=\"Output2\")\n",
    "    output3 = gr.Textbox(label=\"Output3\", value=\"abc\")  # I am non-interactive\n",
    "    output4 = gr.Textbox(label=\"Output4\", value=\"abc\", interactive=True)  # I am non-interactive\n",
    "    greet_btn = gr.Button(\"Greet\")\n",
    "\n",
    "    @greet_btn.click(inputs=name, outputs=output)\n",
    "    def greet(name):\n",
    "        return \"Hello \" + name + \"!\"\n",
    "\n",
    "demo.launch()  "
   ]
  },
  {
   "cell_type": "markdown",
   "metadata": {},
   "source": [
    "### Multiple Data Flows"
   ]
  },
  {
   "cell_type": "code",
   "execution_count": 1,
   "metadata": {
    "execution": {
     "iopub.execute_input": "2024-11-29T01:40:35.659289Z",
     "iopub.status.busy": "2024-11-29T01:40:35.659289Z",
     "iopub.status.idle": "2024-11-29T01:40:50.334633Z",
     "shell.execute_reply": "2024-11-29T01:40:50.334633Z",
     "shell.execute_reply.started": "2024-11-29T01:40:35.659289Z"
    }
   },
   "outputs": [
    {
     "name": "stderr",
     "output_type": "stream",
     "text": [
      "Some weights of Wav2Vec2ForCTC were not initialized from the model checkpoint at facebook/wav2vec2-base-960h and are newly initialized: ['wav2vec2.masked_spec_embed']\n",
      "You should probably TRAIN this model on a down-stream task to be able to use it for predictions and inference.\n",
      "Hardware accelerator e.g. GPU is available in the environment, but no `device` argument is passed to the `Pipeline` object. Model will be on CPU.\n",
      "No model was supplied, defaulted to distilbert/distilbert-base-uncased-finetuned-sst-2-english and revision 714eb0f (https://huggingface.co/distilbert/distilbert-base-uncased-finetuned-sst-2-english).\n",
      "Using a pipeline without specifying a model name and revision in production is not recommended.\n",
      "Hardware accelerator e.g. GPU is available in the environment, but no `device` argument is passed to the `Pipeline` object. Model will be on CPU.\n"
     ]
    },
    {
     "name": "stdout",
     "output_type": "stream",
     "text": [
      "* Running on local URL:  http://127.0.0.1:7860\n",
      "\n",
      "To create a public link, set `share=True` in `launch()`.\n"
     ]
    },
    {
     "data": {
      "text/html": [
       "<div><iframe src=\"http://127.0.0.1:7860/\" width=\"100%\" height=\"500\" allow=\"autoplay; camera; microphone; clipboard-read; clipboard-write;\" frameborder=\"0\" allowfullscreen></iframe></div>"
      ],
      "text/plain": [
       "<IPython.core.display.HTML object>"
      ]
     },
     "metadata": {},
     "output_type": "display_data"
    },
    {
     "data": {
      "text/plain": []
     },
     "execution_count": 1,
     "metadata": {},
     "output_type": "execute_result"
    },
    {
     "name": "stderr",
     "output_type": "stream",
     "text": [
      "Traceback (most recent call last):\n",
      "  File \"C:\\Users\\xu6\\AppData\\Local\\miniconda3\\envs\\dev312\\Lib\\site-packages\\gradio\\queueing.py\", line 624, in process_events\n",
      "    response = await route_utils.call_process_api(\n",
      "               ^^^^^^^^^^^^^^^^^^^^^^^^^^^^^^^^^^^\n",
      "  File \"C:\\Users\\xu6\\AppData\\Local\\miniconda3\\envs\\dev312\\Lib\\site-packages\\gradio\\route_utils.py\", line 323, in call_process_api\n",
      "    output = await app.get_blocks().process_api(\n",
      "             ^^^^^^^^^^^^^^^^^^^^^^^^^^^^^^^^^^^\n",
      "  File \"C:\\Users\\xu6\\AppData\\Local\\miniconda3\\envs\\dev312\\Lib\\site-packages\\gradio\\blocks.py\", line 2016, in process_api\n",
      "    result = await self.call_function(\n",
      "             ^^^^^^^^^^^^^^^^^^^^^^^^^\n",
      "  File \"C:\\Users\\xu6\\AppData\\Local\\miniconda3\\envs\\dev312\\Lib\\site-packages\\gradio\\blocks.py\", line 1563, in call_function\n",
      "    prediction = await anyio.to_thread.run_sync(  # type: ignore\n",
      "                 ^^^^^^^^^^^^^^^^^^^^^^^^^^^^^^^^^^^^^^^^^^^^^^^\n",
      "  File \"C:\\Users\\xu6\\AppData\\Local\\miniconda3\\envs\\dev312\\Lib\\site-packages\\anyio\\to_thread.py\", line 56, in run_sync\n",
      "    return await get_async_backend().run_sync_in_worker_thread(\n",
      "           ^^^^^^^^^^^^^^^^^^^^^^^^^^^^^^^^^^^^^^^^^^^^^^^^^^^^\n",
      "  File \"C:\\Users\\xu6\\AppData\\Local\\miniconda3\\envs\\dev312\\Lib\\site-packages\\anyio\\_backends\\_asyncio.py\", line 2441, in run_sync_in_worker_thread\n",
      "    return await future\n",
      "           ^^^^^^^^^^^^\n",
      "  File \"C:\\Users\\xu6\\AppData\\Local\\miniconda3\\envs\\dev312\\Lib\\site-packages\\anyio\\_backends\\_asyncio.py\", line 943, in run\n",
      "    result = context.run(func, *args)\n",
      "             ^^^^^^^^^^^^^^^^^^^^^^^^\n",
      "  File \"C:\\Users\\xu6\\AppData\\Local\\miniconda3\\envs\\dev312\\Lib\\site-packages\\gradio\\utils.py\", line 865, in wrapper\n",
      "    response = f(*args, **kwargs)\n",
      "               ^^^^^^^^^^^^^^^^^^\n",
      "  File \"C:\\Users\\xu6\\AppData\\Local\\Temp\\ipykernel_31952\\1955944887.py\", line 9, in speech_to_text\n",
      "    text = asr(speech)[\"text\"]\n",
      "         ^^^^^^^^^^^\n",
      "  File \"C:\\Users\\xu6\\AppData\\Local\\miniconda3\\envs\\dev312\\Lib\\site-packages\\transformers\\pipelines\\automatic_speech_recognition.py\", line 283, in __call__\n",
      "    return super().__call__(inputs, **kwargs)\n",
      "           ^^^^^^^^^^^^^^^^^^^^^^^^^^^^^^^^^^\n",
      "  File \"C:\\Users\\xu6\\AppData\\Local\\miniconda3\\envs\\dev312\\Lib\\site-packages\\transformers\\pipelines\\base.py\", line 1294, in __call__\n",
      "    return next(\n",
      "           ^^^^^\n",
      "  File \"C:\\Users\\xu6\\AppData\\Local\\miniconda3\\envs\\dev312\\Lib\\site-packages\\transformers\\pipelines\\pt_utils.py\", line 124, in __next__\n",
      "    item = next(self.iterator)\n",
      "           ^^^^^^^^^^^^^^^^^^^\n",
      "  File \"C:\\Users\\xu6\\AppData\\Local\\miniconda3\\envs\\dev312\\Lib\\site-packages\\transformers\\pipelines\\pt_utils.py\", line 269, in __next__\n",
      "    processed = self.infer(next(self.iterator), **self.params)\n",
      "                           ^^^^^^^^^^^^^^^^^^^\n",
      "  File \"C:\\Users\\xu6\\AppData\\Local\\miniconda3\\envs\\dev312\\Lib\\site-packages\\torch\\utils\\data\\dataloader.py\", line 701, in __next__\n",
      "    data = self._next_data()\n",
      "           ^^^^^^^^^^^^^^^^^\n",
      "  File \"C:\\Users\\xu6\\AppData\\Local\\miniconda3\\envs\\dev312\\Lib\\site-packages\\torch\\utils\\data\\dataloader.py\", line 757, in _next_data\n",
      "    data = self._dataset_fetcher.fetch(index)  # may raise StopIteration\n",
      "           ^^^^^^^^^^^^^^^^^^^^^^^^^^^^^^^^^^\n",
      "  File \"C:\\Users\\xu6\\AppData\\Local\\miniconda3\\envs\\dev312\\Lib\\site-packages\\torch\\utils\\data\\_utils\\fetch.py\", line 33, in fetch\n",
      "    data.append(next(self.dataset_iter))\n",
      "                ^^^^^^^^^^^^^^^^^^^^^^^\n",
      "  File \"C:\\Users\\xu6\\AppData\\Local\\miniconda3\\envs\\dev312\\Lib\\site-packages\\transformers\\pipelines\\pt_utils.py\", line 186, in __next__\n",
      "    processed = next(self.subiterator)\n",
      "                ^^^^^^^^^^^^^^^^^^^^^^\n",
      "  File \"C:\\Users\\xu6\\AppData\\Local\\miniconda3\\envs\\dev312\\Lib\\site-packages\\transformers\\pipelines\\automatic_speech_recognition.py\", line 364, in preprocess\n",
      "    inputs = ffmpeg_read(inputs, self.feature_extractor.sampling_rate)\n",
      "             ^^^^^^^^^^^^^^^^^^^^^^^^^^^^^^^^^^^^^^^^^^^^^^^^^^^^^^^^^\n",
      "  File \"C:\\Users\\xu6\\AppData\\Local\\miniconda3\\envs\\dev312\\Lib\\site-packages\\transformers\\pipelines\\audio_utils.py\", line 41, in ffmpeg_read\n",
      "    raise ValueError(\n",
      "ValueError: Soundfile is either not in the correct format or is malformed. Ensure that the soundfile has a valid audio file extension (e.g. wav, flac or mp3) and is not corrupted. If reading from a remote URL, ensure that the URL is the full address to **download** the audio file.\n",
      "Traceback (most recent call last):\n",
      "  File \"C:\\Users\\xu6\\AppData\\Local\\miniconda3\\envs\\dev312\\Lib\\site-packages\\gradio\\queueing.py\", line 624, in process_events\n",
      "    response = await route_utils.call_process_api(\n",
      "               ^^^^^^^^^^^^^^^^^^^^^^^^^^^^^^^^^^^\n",
      "  File \"C:\\Users\\xu6\\AppData\\Local\\miniconda3\\envs\\dev312\\Lib\\site-packages\\gradio\\route_utils.py\", line 323, in call_process_api\n",
      "    output = await app.get_blocks().process_api(\n",
      "             ^^^^^^^^^^^^^^^^^^^^^^^^^^^^^^^^^^^\n",
      "  File \"C:\\Users\\xu6\\AppData\\Local\\miniconda3\\envs\\dev312\\Lib\\site-packages\\gradio\\blocks.py\", line 2016, in process_api\n",
      "    result = await self.call_function(\n",
      "             ^^^^^^^^^^^^^^^^^^^^^^^^^\n",
      "  File \"C:\\Users\\xu6\\AppData\\Local\\miniconda3\\envs\\dev312\\Lib\\site-packages\\gradio\\blocks.py\", line 1563, in call_function\n",
      "    prediction = await anyio.to_thread.run_sync(  # type: ignore\n",
      "                 ^^^^^^^^^^^^^^^^^^^^^^^^^^^^^^^^^^^^^^^^^^^^^^^\n",
      "  File \"C:\\Users\\xu6\\AppData\\Local\\miniconda3\\envs\\dev312\\Lib\\site-packages\\anyio\\to_thread.py\", line 56, in run_sync\n",
      "    return await get_async_backend().run_sync_in_worker_thread(\n",
      "           ^^^^^^^^^^^^^^^^^^^^^^^^^^^^^^^^^^^^^^^^^^^^^^^^^^^^\n",
      "  File \"C:\\Users\\xu6\\AppData\\Local\\miniconda3\\envs\\dev312\\Lib\\site-packages\\anyio\\_backends\\_asyncio.py\", line 2441, in run_sync_in_worker_thread\n",
      "    return await future\n",
      "           ^^^^^^^^^^^^\n",
      "  File \"C:\\Users\\xu6\\AppData\\Local\\miniconda3\\envs\\dev312\\Lib\\site-packages\\anyio\\_backends\\_asyncio.py\", line 943, in run\n",
      "    result = context.run(func, *args)\n",
      "             ^^^^^^^^^^^^^^^^^^^^^^^^\n",
      "  File \"C:\\Users\\xu6\\AppData\\Local\\miniconda3\\envs\\dev312\\Lib\\site-packages\\gradio\\utils.py\", line 865, in wrapper\n",
      "    response = f(*args, **kwargs)\n",
      "               ^^^^^^^^^^^^^^^^^^\n",
      "  File \"C:\\Users\\xu6\\AppData\\Local\\Temp\\ipykernel_31952\\1955944887.py\", line 9, in speech_to_text\n",
      "    text = asr(speech)[\"text\"]\n",
      "         ^^^^^^^^^^^\n",
      "  File \"C:\\Users\\xu6\\AppData\\Local\\miniconda3\\envs\\dev312\\Lib\\site-packages\\transformers\\pipelines\\automatic_speech_recognition.py\", line 283, in __call__\n",
      "    return super().__call__(inputs, **kwargs)\n",
      "           ^^^^^^^^^^^^^^^^^^^^^^^^^^^^^^^^^^\n",
      "  File \"C:\\Users\\xu6\\AppData\\Local\\miniconda3\\envs\\dev312\\Lib\\site-packages\\transformers\\pipelines\\base.py\", line 1294, in __call__\n",
      "    return next(\n",
      "           ^^^^^\n",
      "  File \"C:\\Users\\xu6\\AppData\\Local\\miniconda3\\envs\\dev312\\Lib\\site-packages\\transformers\\pipelines\\pt_utils.py\", line 124, in __next__\n",
      "    item = next(self.iterator)\n",
      "           ^^^^^^^^^^^^^^^^^^^\n",
      "  File \"C:\\Users\\xu6\\AppData\\Local\\miniconda3\\envs\\dev312\\Lib\\site-packages\\transformers\\pipelines\\pt_utils.py\", line 269, in __next__\n",
      "    processed = self.infer(next(self.iterator), **self.params)\n",
      "                           ^^^^^^^^^^^^^^^^^^^\n",
      "  File \"C:\\Users\\xu6\\AppData\\Local\\miniconda3\\envs\\dev312\\Lib\\site-packages\\torch\\utils\\data\\dataloader.py\", line 701, in __next__\n",
      "    data = self._next_data()\n",
      "           ^^^^^^^^^^^^^^^^^\n",
      "  File \"C:\\Users\\xu6\\AppData\\Local\\miniconda3\\envs\\dev312\\Lib\\site-packages\\torch\\utils\\data\\dataloader.py\", line 757, in _next_data\n",
      "    data = self._dataset_fetcher.fetch(index)  # may raise StopIteration\n",
      "           ^^^^^^^^^^^^^^^^^^^^^^^^^^^^^^^^^^\n",
      "  File \"C:\\Users\\xu6\\AppData\\Local\\miniconda3\\envs\\dev312\\Lib\\site-packages\\torch\\utils\\data\\_utils\\fetch.py\", line 33, in fetch\n",
      "    data.append(next(self.dataset_iter))\n",
      "                ^^^^^^^^^^^^^^^^^^^^^^^\n",
      "  File \"C:\\Users\\xu6\\AppData\\Local\\miniconda3\\envs\\dev312\\Lib\\site-packages\\transformers\\pipelines\\pt_utils.py\", line 186, in __next__\n",
      "    processed = next(self.subiterator)\n",
      "                ^^^^^^^^^^^^^^^^^^^^^^\n",
      "  File \"C:\\Users\\xu6\\AppData\\Local\\miniconda3\\envs\\dev312\\Lib\\site-packages\\transformers\\pipelines\\automatic_speech_recognition.py\", line 364, in preprocess\n",
      "    inputs = ffmpeg_read(inputs, self.feature_extractor.sampling_rate)\n",
      "             ^^^^^^^^^^^^^^^^^^^^^^^^^^^^^^^^^^^^^^^^^^^^^^^^^^^^^^^^^\n",
      "  File \"C:\\Users\\xu6\\AppData\\Local\\miniconda3\\envs\\dev312\\Lib\\site-packages\\transformers\\pipelines\\audio_utils.py\", line 41, in ffmpeg_read\n",
      "    raise ValueError(\n",
      "ValueError: Soundfile is either not in the correct format or is malformed. Ensure that the soundfile has a valid audio file extension (e.g. wav, flac or mp3) and is not corrupted. If reading from a remote URL, ensure that the URL is the full address to **download** the audio file.\n",
      "Traceback (most recent call last):\n",
      "  File \"C:\\Users\\xu6\\AppData\\Local\\miniconda3\\envs\\dev312\\Lib\\site-packages\\gradio\\queueing.py\", line 624, in process_events\n",
      "    response = await route_utils.call_process_api(\n",
      "               ^^^^^^^^^^^^^^^^^^^^^^^^^^^^^^^^^^^\n",
      "  File \"C:\\Users\\xu6\\AppData\\Local\\miniconda3\\envs\\dev312\\Lib\\site-packages\\gradio\\route_utils.py\", line 323, in call_process_api\n",
      "    output = await app.get_blocks().process_api(\n",
      "             ^^^^^^^^^^^^^^^^^^^^^^^^^^^^^^^^^^^\n",
      "  File \"C:\\Users\\xu6\\AppData\\Local\\miniconda3\\envs\\dev312\\Lib\\site-packages\\gradio\\blocks.py\", line 2016, in process_api\n",
      "    result = await self.call_function(\n",
      "             ^^^^^^^^^^^^^^^^^^^^^^^^^\n",
      "  File \"C:\\Users\\xu6\\AppData\\Local\\miniconda3\\envs\\dev312\\Lib\\site-packages\\gradio\\blocks.py\", line 1563, in call_function\n",
      "    prediction = await anyio.to_thread.run_sync(  # type: ignore\n",
      "                 ^^^^^^^^^^^^^^^^^^^^^^^^^^^^^^^^^^^^^^^^^^^^^^^\n",
      "  File \"C:\\Users\\xu6\\AppData\\Local\\miniconda3\\envs\\dev312\\Lib\\site-packages\\anyio\\to_thread.py\", line 56, in run_sync\n",
      "    return await get_async_backend().run_sync_in_worker_thread(\n",
      "           ^^^^^^^^^^^^^^^^^^^^^^^^^^^^^^^^^^^^^^^^^^^^^^^^^^^^\n",
      "  File \"C:\\Users\\xu6\\AppData\\Local\\miniconda3\\envs\\dev312\\Lib\\site-packages\\anyio\\_backends\\_asyncio.py\", line 2441, in run_sync_in_worker_thread\n",
      "    return await future\n",
      "           ^^^^^^^^^^^^\n",
      "  File \"C:\\Users\\xu6\\AppData\\Local\\miniconda3\\envs\\dev312\\Lib\\site-packages\\anyio\\_backends\\_asyncio.py\", line 943, in run\n",
      "    result = context.run(func, *args)\n",
      "             ^^^^^^^^^^^^^^^^^^^^^^^^\n",
      "  File \"C:\\Users\\xu6\\AppData\\Local\\miniconda3\\envs\\dev312\\Lib\\site-packages\\gradio\\utils.py\", line 865, in wrapper\n",
      "    response = f(*args, **kwargs)\n",
      "               ^^^^^^^^^^^^^^^^^^\n",
      "  File \"C:\\Users\\xu6\\AppData\\Local\\Temp\\ipykernel_31952\\1955944887.py\", line 9, in speech_to_text\n",
      "    text = asr(speech)[\"text\"]\n",
      "         ^^^^^^^^^^^\n",
      "  File \"C:\\Users\\xu6\\AppData\\Local\\miniconda3\\envs\\dev312\\Lib\\site-packages\\transformers\\pipelines\\automatic_speech_recognition.py\", line 283, in __call__\n",
      "    return super().__call__(inputs, **kwargs)\n",
      "           ^^^^^^^^^^^^^^^^^^^^^^^^^^^^^^^^^^\n",
      "  File \"C:\\Users\\xu6\\AppData\\Local\\miniconda3\\envs\\dev312\\Lib\\site-packages\\transformers\\pipelines\\base.py\", line 1294, in __call__\n",
      "    return next(\n",
      "           ^^^^^\n",
      "  File \"C:\\Users\\xu6\\AppData\\Local\\miniconda3\\envs\\dev312\\Lib\\site-packages\\transformers\\pipelines\\pt_utils.py\", line 124, in __next__\n",
      "    item = next(self.iterator)\n",
      "           ^^^^^^^^^^^^^^^^^^^\n",
      "  File \"C:\\Users\\xu6\\AppData\\Local\\miniconda3\\envs\\dev312\\Lib\\site-packages\\transformers\\pipelines\\pt_utils.py\", line 269, in __next__\n",
      "    processed = self.infer(next(self.iterator), **self.params)\n",
      "                           ^^^^^^^^^^^^^^^^^^^\n",
      "  File \"C:\\Users\\xu6\\AppData\\Local\\miniconda3\\envs\\dev312\\Lib\\site-packages\\torch\\utils\\data\\dataloader.py\", line 701, in __next__\n",
      "    data = self._next_data()\n",
      "           ^^^^^^^^^^^^^^^^^\n",
      "  File \"C:\\Users\\xu6\\AppData\\Local\\miniconda3\\envs\\dev312\\Lib\\site-packages\\torch\\utils\\data\\dataloader.py\", line 757, in _next_data\n",
      "    data = self._dataset_fetcher.fetch(index)  # may raise StopIteration\n",
      "           ^^^^^^^^^^^^^^^^^^^^^^^^^^^^^^^^^^\n",
      "  File \"C:\\Users\\xu6\\AppData\\Local\\miniconda3\\envs\\dev312\\Lib\\site-packages\\torch\\utils\\data\\_utils\\fetch.py\", line 33, in fetch\n",
      "    data.append(next(self.dataset_iter))\n",
      "                ^^^^^^^^^^^^^^^^^^^^^^^\n",
      "  File \"C:\\Users\\xu6\\AppData\\Local\\miniconda3\\envs\\dev312\\Lib\\site-packages\\transformers\\pipelines\\pt_utils.py\", line 186, in __next__\n",
      "    processed = next(self.subiterator)\n",
      "                ^^^^^^^^^^^^^^^^^^^^^^\n",
      "  File \"C:\\Users\\xu6\\AppData\\Local\\miniconda3\\envs\\dev312\\Lib\\site-packages\\transformers\\pipelines\\automatic_speech_recognition.py\", line 364, in preprocess\n",
      "    inputs = ffmpeg_read(inputs, self.feature_extractor.sampling_rate)\n",
      "             ^^^^^^^^^^^^^^^^^^^^^^^^^^^^^^^^^^^^^^^^^^^^^^^^^^^^^^^^^\n",
      "  File \"C:\\Users\\xu6\\AppData\\Local\\miniconda3\\envs\\dev312\\Lib\\site-packages\\transformers\\pipelines\\audio_utils.py\", line 41, in ffmpeg_read\n",
      "    raise ValueError(\n",
      "ValueError: Soundfile is either not in the correct format or is malformed. Ensure that the soundfile has a valid audio file extension (e.g. wav, flac or mp3) and is not corrupted. If reading from a remote URL, ensure that the URL is the full address to **download** the audio file.\n"
     ]
    }
   ],
   "source": [
    "from transformers import pipeline\n",
    "\n",
    "import gradio as gr\n",
    "\n",
    "asr = pipeline(\"automatic-speech-recognition\", \"facebook/wav2vec2-base-960h\")\n",
    "classifier = pipeline(\"text-classification\")\n",
    "\n",
    "def speech_to_text(speech):\n",
    "    text = asr(speech)[\"text\"]  \n",
    "    return text\n",
    "\n",
    "def text_to_sentiment(text):\n",
    "    return classifier(text)[0][\"label\"]  \n",
    "\n",
    "demo = gr.Blocks()\n",
    "\n",
    "with demo:\n",
    "    audio_file = gr.Audio(type=\"filepath\")\n",
    "    text = gr.Textbox()\n",
    "    label = gr.Label()\n",
    "\n",
    "    b1 = gr.Button(\"Recognize Speech\")\n",
    "    b2 = gr.Button(\"Classify Sentiment\")\n",
    "\n",
    "    b1.click(speech_to_text, inputs=audio_file, outputs=text)\n",
    "    b2.click(text_to_sentiment, inputs=text, outputs=label)\n",
    "\n",
    "demo.launch()"
   ]
  },
  {
   "cell_type": "markdown",
   "metadata": {
    "execution": {
     "iopub.execute_input": "2024-11-30T01:18:11.713815Z",
     "iopub.status.busy": "2024-11-30T01:18:11.712815Z",
     "iopub.status.idle": "2024-11-30T01:18:11.716364Z",
     "shell.execute_reply": "2024-11-30T01:18:11.716364Z",
     "shell.execute_reply.started": "2024-11-30T01:18:11.713815Z"
    }
   },
   "source": [
    "### Function Input List vs Dict"
   ]
  },
  {
   "cell_type": "code",
   "execution_count": 6,
   "metadata": {
    "execution": {
     "iopub.execute_input": "2024-11-30T01:18:22.587090Z",
     "iopub.status.busy": "2024-11-30T01:18:22.586326Z",
     "iopub.status.idle": "2024-11-30T01:18:23.044771Z",
     "shell.execute_reply": "2024-11-30T01:18:23.044771Z",
     "shell.execute_reply.started": "2024-11-30T01:18:22.587090Z"
    }
   },
   "outputs": [
    {
     "name": "stdout",
     "output_type": "stream",
     "text": [
      "* Running on local URL:  http://127.0.0.1:7862\n",
      "\n",
      "To create a public link, set `share=True` in `launch()`.\n"
     ]
    },
    {
     "data": {
      "text/html": [
       "<div><iframe src=\"http://127.0.0.1:7862/\" width=\"100%\" height=\"500\" allow=\"autoplay; camera; microphone; clipboard-read; clipboard-write;\" frameborder=\"0\" allowfullscreen></iframe></div>"
      ],
      "text/plain": [
       "<IPython.core.display.HTML object>"
      ]
     },
     "metadata": {},
     "output_type": "display_data"
    },
    {
     "data": {
      "text/plain": []
     },
     "execution_count": 6,
     "metadata": {},
     "output_type": "execute_result"
    }
   ],
   "source": [
    "import gradio as gr\n",
    "\n",
    "with gr.Blocks() as demo:\n",
    "    a = gr.Number(label=\"a\")\n",
    "    b = gr.Number(label=\"b\")\n",
    "    with gr.Row():\n",
    "        add_btn = gr.Button(\"Add\")\n",
    "        sub_btn = gr.Button(\"Subtract\")\n",
    "    c = gr.Number(label=\"sum\")\n",
    "\n",
    "    def add(num1, num2):\n",
    "        return num1 + num2\n",
    "    add_btn.click(add, inputs=[a, b], outputs=c)\n",
    "\n",
    "    def sub(data):\n",
    "        return data[a] - data[b]\n",
    "    sub_btn.click(sub, inputs={a, b}, outputs=c)\n",
    "\n",
    "demo.launch()"
   ]
  },
  {
   "cell_type": "markdown",
   "metadata": {
    "execution": {
     "iopub.execute_input": "2024-11-30T01:12:20.351372Z",
     "iopub.status.busy": "2024-11-30T01:12:20.350373Z",
     "iopub.status.idle": "2024-11-30T01:12:20.354089Z",
     "shell.execute_reply": "2024-11-30T01:12:20.354089Z",
     "shell.execute_reply.started": "2024-11-30T01:12:20.351372Z"
    }
   },
   "source": [
    "### Function Return List vs Dict"
   ]
  },
  {
   "cell_type": "code",
   "execution_count": 3,
   "metadata": {
    "execution": {
     "iopub.execute_input": "2024-11-30T01:13:05.803110Z",
     "iopub.status.busy": "2024-11-30T01:13:05.802111Z",
     "iopub.status.idle": "2024-11-30T01:13:11.008264Z",
     "shell.execute_reply": "2024-11-30T01:13:11.008264Z",
     "shell.execute_reply.started": "2024-11-30T01:13:05.803110Z"
    }
   },
   "outputs": [
    {
     "name": "stdout",
     "output_type": "stream",
     "text": [
      "* Running on local URL:  http://127.0.0.1:7860\n",
      "\n",
      "To create a public link, set `share=True` in `launch()`.\n"
     ]
    },
    {
     "data": {
      "text/html": [
       "<div><iframe src=\"http://127.0.0.1:7860/\" width=\"100%\" height=\"500\" allow=\"autoplay; camera; microphone; clipboard-read; clipboard-write;\" frameborder=\"0\" allowfullscreen></iframe></div>"
      ],
      "text/plain": [
       "<IPython.core.display.HTML object>"
      ]
     },
     "metadata": {},
     "output_type": "display_data"
    },
    {
     "data": {
      "text/plain": []
     },
     "execution_count": 3,
     "metadata": {},
     "output_type": "execute_result"
    }
   ],
   "source": [
    "import gradio as gr\n",
    "\n",
    "with gr.Blocks() as demo:\n",
    "    food_box = gr.Number(value=10, label=\"Food Count\")\n",
    "    status_box = gr.Textbox()\n",
    "\n",
    "    def eat(food):\n",
    "        if food > 0:\n",
    "            return {food_box: food - 1, status_box: \"full\"}\n",
    "        else:\n",
    "            return {status_box: \"hungry\"}\n",
    "\n",
    "    gr.Button(\"Eat\").click(\n",
    "        fn=eat,\n",
    "        inputs=food_box,\n",
    "        outputs=[food_box, status_box]\n",
    "    )\n",
    "\n",
    "demo.launch()"
   ]
  },
  {
   "cell_type": "markdown",
   "metadata": {
    "execution": {
     "iopub.execute_input": "2024-11-30T01:19:40.219716Z",
     "iopub.status.busy": "2024-11-30T01:19:40.218716Z",
     "iopub.status.idle": "2024-11-30T01:19:40.222852Z",
     "shell.execute_reply": "2024-11-30T01:19:40.222852Z",
     "shell.execute_reply.started": "2024-11-30T01:19:40.219716Z"
    }
   },
   "source": [
    "### Updating Component Configurations"
   ]
  },
  {
   "cell_type": "code",
   "execution_count": 8,
   "metadata": {
    "execution": {
     "iopub.execute_input": "2024-11-30T01:22:05.316236Z",
     "iopub.status.busy": "2024-11-30T01:22:05.316236Z",
     "iopub.status.idle": "2024-11-30T01:22:05.890157Z",
     "shell.execute_reply": "2024-11-30T01:22:05.890157Z",
     "shell.execute_reply.started": "2024-11-30T01:22:05.316236Z"
    }
   },
   "outputs": [
    {
     "name": "stdout",
     "output_type": "stream",
     "text": [
      "* Running on local URL:  http://127.0.0.1:7863\n",
      "\n",
      "To create a public link, set `share=True` in `launch()`.\n"
     ]
    },
    {
     "data": {
      "text/html": [
       "<div><iframe src=\"http://127.0.0.1:7863/\" width=\"100%\" height=\"500\" allow=\"autoplay; camera; microphone; clipboard-read; clipboard-write;\" frameborder=\"0\" allowfullscreen></iframe></div>"
      ],
      "text/plain": [
       "<IPython.core.display.HTML object>"
      ]
     },
     "metadata": {},
     "output_type": "display_data"
    },
    {
     "data": {
      "text/plain": []
     },
     "execution_count": 8,
     "metadata": {},
     "output_type": "execute_result"
    }
   ],
   "source": [
    "import gradio as gr\n",
    "\n",
    "def change_textbox(choice):\n",
    "    if choice == \"short\":\n",
    "        return gr.Textbox(lines=2, visible=True)\n",
    "    elif choice == \"long\":\n",
    "        return gr.Textbox(lines=8, visible=True, value=\"Lorem ipsum dolor sit amet\")\n",
    "    else:\n",
    "        return gr.Textbox(visible=False)\n",
    "\n",
    "with gr.Blocks() as demo:\n",
    "    radio = gr.Radio(\n",
    "        [\"short\", \"long\", \"none\"], label=\"What kind of essay would you like to write?\"\n",
    "    )\n",
    "    text = gr.Textbox(lines=2, interactive=True, show_copy_button=True)\n",
    "    radio.change(fn=change_textbox, inputs=radio, outputs=text)\n",
    "\n",
    "demo.launch()"
   ]
  },
  {
   "cell_type": "markdown",
   "metadata": {
    "execution": {
     "iopub.execute_input": "2024-11-30T01:23:31.629086Z",
     "iopub.status.busy": "2024-11-30T01:23:31.628086Z",
     "iopub.status.idle": "2024-11-30T01:23:31.631927Z",
     "shell.execute_reply": "2024-11-30T01:23:31.631927Z",
     "shell.execute_reply.started": "2024-11-30T01:23:31.629086Z"
    }
   },
   "source": [
    "### Not Changing a Component's Value"
   ]
  },
  {
   "cell_type": "code",
   "execution_count": 10,
   "metadata": {
    "execution": {
     "iopub.execute_input": "2024-11-30T01:23:51.740411Z",
     "iopub.status.busy": "2024-11-30T01:23:51.740411Z",
     "iopub.status.idle": "2024-11-30T01:23:52.206444Z",
     "shell.execute_reply": "2024-11-30T01:23:52.206444Z",
     "shell.execute_reply.started": "2024-11-30T01:23:51.740411Z"
    }
   },
   "outputs": [
    {
     "name": "stdout",
     "output_type": "stream",
     "text": [
      "* Running on local URL:  http://127.0.0.1:7864\n",
      "\n",
      "To create a public link, set `share=True` in `launch()`.\n"
     ]
    },
    {
     "data": {
      "text/html": [
       "<div><iframe src=\"http://127.0.0.1:7864/\" width=\"100%\" height=\"500\" allow=\"autoplay; camera; microphone; clipboard-read; clipboard-write;\" frameborder=\"0\" allowfullscreen></iframe></div>"
      ],
      "text/plain": [
       "<IPython.core.display.HTML object>"
      ]
     },
     "metadata": {},
     "output_type": "display_data"
    },
    {
     "data": {
      "text/plain": []
     },
     "execution_count": 10,
     "metadata": {},
     "output_type": "execute_result"
    }
   ],
   "source": [
    "import random\n",
    "import gradio as gr\n",
    "\n",
    "with gr.Blocks() as demo:\n",
    "    with gr.Row():\n",
    "        clear_button = gr.Button(\"Clear\")\n",
    "        skip_button = gr.Button(\"Skip\")\n",
    "        random_button = gr.Button(\"Random\")\n",
    "    numbers = [gr.Number(), gr.Number()]\n",
    "\n",
    "    clear_button.click(lambda : (None, None), outputs=numbers)\n",
    "    skip_button.click(lambda : [gr.skip(), gr.skip()], outputs=numbers)\n",
    "    random_button.click(lambda : (random.randint(0, 100), random.randint(0, 100)), outputs=numbers)\n",
    "\n",
    "demo.launch()"
   ]
  },
  {
   "cell_type": "markdown",
   "metadata": {},
   "source": [
    "### Running Events Consecutively"
   ]
  },
  {
   "cell_type": "code",
   "execution_count": 12,
   "metadata": {
    "execution": {
     "iopub.execute_input": "2024-11-30T01:31:15.679134Z",
     "iopub.status.busy": "2024-11-30T01:31:15.678135Z",
     "iopub.status.idle": "2024-11-30T01:31:16.337396Z",
     "shell.execute_reply": "2024-11-30T01:31:16.337396Z",
     "shell.execute_reply.started": "2024-11-30T01:31:15.679134Z"
    }
   },
   "outputs": [
    {
     "name": "stderr",
     "output_type": "stream",
     "text": [
      "C:\\Users\\xu6\\AppData\\Local\\miniconda3\\envs\\dev312\\Lib\\site-packages\\gradio\\components\\chatbot.py:237: UserWarning: You have not specified a value for the `type` parameter. Defaulting to the 'tuples' format for chatbot messages, but this is deprecated and will be removed in a future version of Gradio. Please set type='messages' instead, which uses openai-style dictionaries with 'role' and 'content' keys.\n",
      "  warnings.warn(\n"
     ]
    },
    {
     "name": "stdout",
     "output_type": "stream",
     "text": [
      "* Running on local URL:  http://127.0.0.1:7866\n",
      "\n",
      "To create a public link, set `share=True` in `launch()`.\n"
     ]
    },
    {
     "data": {
      "text/html": [
       "<div><iframe src=\"http://127.0.0.1:7866/\" width=\"100%\" height=\"500\" allow=\"autoplay; camera; microphone; clipboard-read; clipboard-write;\" frameborder=\"0\" allowfullscreen></iframe></div>"
      ],
      "text/plain": [
       "<IPython.core.display.HTML object>"
      ]
     },
     "metadata": {},
     "output_type": "display_data"
    },
    {
     "data": {
      "text/plain": []
     },
     "execution_count": 12,
     "metadata": {},
     "output_type": "execute_result"
    },
    {
     "name": "stdout",
     "output_type": "stream",
     "text": [
      "[]\n",
      "[]\n",
      "[['ewe', \"I'm very hungry\"]]\n",
      "[['ewe', \"I'm very hungry\"], ['wewe', 'I love you']]\n"
     ]
    }
   ],
   "source": [
    "import gradio as gr\n",
    "import random\n",
    "import time\n",
    "\n",
    "with gr.Blocks() as demo:\n",
    "    chatbot = gr.Chatbot()\n",
    "    msg = gr.Textbox()\n",
    "    clear = gr.Button(\"Clear\")\n",
    "\n",
    "    def user(user_message, history):\n",
    "        print(history) \n",
    "        return \"\", history + [[user_message, None]]\n",
    "\n",
    "    def bot(history):\n",
    "        bot_message = random.choice([\"How are you?\", \"I love you\", \"I'm very hungry\"])\n",
    "        time.sleep(2)\n",
    "        history[-1][1] = bot_message\n",
    "        return history\n",
    "\n",
    "    msg.submit(user, [msg, chatbot], [msg, chatbot], queue=False).then(\n",
    "        bot, chatbot, chatbot\n",
    "    )\n",
    "    clear.click(lambda: None, None, chatbot, queue=False)\n",
    "\n",
    "demo.launch()\n"
   ]
  },
  {
   "cell_type": "markdown",
   "metadata": {},
   "source": [
    "### Binding Multiple Triggers to a Function"
   ]
  },
  {
   "cell_type": "code",
   "execution_count": 13,
   "metadata": {
    "execution": {
     "iopub.execute_input": "2024-11-30T01:33:59.460348Z",
     "iopub.status.busy": "2024-11-30T01:33:59.459350Z",
     "iopub.status.idle": "2024-11-30T01:33:59.930975Z",
     "shell.execute_reply": "2024-11-30T01:33:59.930975Z",
     "shell.execute_reply.started": "2024-11-30T01:33:59.460348Z"
    }
   },
   "outputs": [
    {
     "name": "stdout",
     "output_type": "stream",
     "text": [
      "* Running on local URL:  http://127.0.0.1:7867\n",
      "\n",
      "To create a public link, set `share=True` in `launch()`.\n"
     ]
    },
    {
     "data": {
      "text/html": [
       "<div><iframe src=\"http://127.0.0.1:7867/\" width=\"100%\" height=\"500\" allow=\"autoplay; camera; microphone; clipboard-read; clipboard-write;\" frameborder=\"0\" allowfullscreen></iframe></div>"
      ],
      "text/plain": [
       "<IPython.core.display.HTML object>"
      ]
     },
     "metadata": {},
     "output_type": "display_data"
    },
    {
     "data": {
      "text/plain": []
     },
     "execution_count": 13,
     "metadata": {},
     "output_type": "execute_result"
    }
   ],
   "source": [
    "import gradio as gr\n",
    "\n",
    "with gr.Blocks() as demo:\n",
    "    name = gr.Textbox(label=\"Name\")\n",
    "    output = gr.Textbox(label=\"Output Box\")\n",
    "    greet_btn = gr.Button(\"Greet\")\n",
    "    trigger = gr.Textbox(label=\"Trigger Box\")\n",
    "\n",
    "    def greet(name, evt_data: gr.EventData):\n",
    "        return \"Hello \" + name + \"!\", evt_data.target.__class__.__name__\n",
    "\n",
    "    def clear_name(evt_data: gr.EventData):\n",
    "        return \"\"\n",
    "\n",
    "    gr.on(\n",
    "        triggers=[name.submit, greet_btn.click],\n",
    "        fn=greet,\n",
    "        inputs=name,\n",
    "        outputs=[output, trigger],\n",
    "    ).then(clear_name, outputs=[name])\n",
    "\n",
    "demo.launch()"
   ]
  },
  {
   "cell_type": "code",
   "execution_count": 14,
   "metadata": {
    "execution": {
     "iopub.execute_input": "2024-11-30T02:04:07.429913Z",
     "iopub.status.busy": "2024-11-30T02:04:07.429913Z",
     "iopub.status.idle": "2024-11-30T02:04:07.915523Z",
     "shell.execute_reply": "2024-11-30T02:04:07.914517Z",
     "shell.execute_reply.started": "2024-11-30T02:04:07.429913Z"
    }
   },
   "outputs": [
    {
     "name": "stdout",
     "output_type": "stream",
     "text": [
      "* Running on local URL:  http://127.0.0.1:7868\n",
      "\n",
      "To create a public link, set `share=True` in `launch()`.\n"
     ]
    },
    {
     "data": {
      "text/html": [
       "<div><iframe src=\"http://127.0.0.1:7868/\" width=\"100%\" height=\"500\" allow=\"autoplay; camera; microphone; clipboard-read; clipboard-write;\" frameborder=\"0\" allowfullscreen></iframe></div>"
      ],
      "text/plain": [
       "<IPython.core.display.HTML object>"
      ]
     },
     "metadata": {},
     "output_type": "display_data"
    },
    {
     "data": {
      "text/plain": []
     },
     "execution_count": 14,
     "metadata": {},
     "output_type": "execute_result"
    }
   ],
   "source": [
    "import gradio as gr\n",
    "\n",
    "with gr.Blocks() as demo:\n",
    "    name = gr.Textbox(label=\"Name\")\n",
    "    output = gr.Textbox(label=\"Output Box\")\n",
    "    greet_btn = gr.Button(\"Greet\")\n",
    "\n",
    "    @gr.on(triggers=[name.submit, greet_btn.click], inputs=name, outputs=output)\n",
    "    def greet(name):\n",
    "        return \"Hello \" + name + \"!\"\n",
    "\n",
    "demo.launch()"
   ]
  },
  {
   "cell_type": "markdown",
   "metadata": {},
   "source": [
    "## Controlling Layout"
   ]
  },
  {
   "cell_type": "code",
   "execution_count": null,
   "metadata": {},
   "outputs": [],
   "source": [
    "### "
   ]
  },
  {
   "cell_type": "code",
   "execution_count": 19,
   "metadata": {
    "execution": {
     "iopub.execute_input": "2024-11-30T02:21:40.809547Z",
     "iopub.status.busy": "2024-11-30T02:21:40.808558Z",
     "iopub.status.idle": "2024-11-30T02:21:41.324160Z",
     "shell.execute_reply": "2024-11-30T02:21:41.324160Z",
     "shell.execute_reply.started": "2024-11-30T02:21:40.809547Z"
    }
   },
   "outputs": [
    {
     "name": "stdout",
     "output_type": "stream",
     "text": [
      "* Running on local URL:  http://127.0.0.1:7871\n",
      "\n",
      "To create a public link, set `share=True` in `launch()`.\n"
     ]
    },
    {
     "data": {
      "text/html": [
       "<div><iframe src=\"http://127.0.0.1:7871/\" width=\"100%\" height=\"500\" allow=\"autoplay; camera; microphone; clipboard-read; clipboard-write;\" frameborder=\"0\" allowfullscreen></iframe></div>"
      ],
      "text/plain": [
       "<IPython.core.display.HTML object>"
      ]
     },
     "metadata": {},
     "output_type": "display_data"
    },
    {
     "data": {
      "text/plain": []
     },
     "execution_count": 19,
     "metadata": {},
     "output_type": "execute_result"
    }
   ],
   "source": [
    "import gradio as gr\n",
    "\n",
    "with gr.Blocks() as demo:\n",
    "    with gr.Row():\n",
    "        text1 = gr.Textbox(label=\"t1\")\n",
    "        slider2 = gr.Textbox(label=\"s2\")\n",
    "        drop3 = gr.Dropdown([\"a\", \"b\", \"c\"], label=\"d3\")\n",
    "    with gr.Row():\n",
    "        with gr.Column(scale=1, min_width=300):\n",
    "            text1 = gr.Textbox(label=\"prompt 1\")\n",
    "            text2 = gr.Textbox(label=\"prompt 2\")\n",
    "            inbtw = gr.Button(\"Between\")\n",
    "            text4 = gr.Textbox(label=\"prompt 1\")\n",
    "            text5 = gr.Textbox(label=\"prompt 2\")\n",
    "        with gr.Column(scale=2, min_width=300):\n",
    "            img1 = gr.Image(\"images/cheetah.jpg\")\n",
    "            btn = gr.Button(\"Go\")\n",
    "\n",
    "demo.launch()"
   ]
  },
  {
   "cell_type": "markdown",
   "metadata": {},
   "source": [
    "### Fill Browser Height / Width"
   ]
  },
  {
   "cell_type": "code",
   "execution_count": 24,
   "metadata": {
    "execution": {
     "iopub.execute_input": "2024-11-30T02:37:00.149156Z",
     "iopub.status.busy": "2024-11-30T02:37:00.149156Z",
     "iopub.status.idle": "2024-11-30T02:37:00.709624Z",
     "shell.execute_reply": "2024-11-30T02:37:00.709624Z",
     "shell.execute_reply.started": "2024-11-30T02:37:00.149156Z"
    }
   },
   "outputs": [
    {
     "name": "stderr",
     "output_type": "stream",
     "text": [
      "C:\\Users\\xu6\\AppData\\Local\\miniconda3\\envs\\dev312\\Lib\\site-packages\\gradio\\components\\chatbot.py:237: UserWarning: You have not specified a value for the `type` parameter. Defaulting to the 'tuples' format for chatbot messages, but this is deprecated and will be removed in a future version of Gradio. Please set type='messages' instead, which uses openai-style dictionaries with 'role' and 'content' keys.\n",
      "  warnings.warn(\n"
     ]
    },
    {
     "name": "stdout",
     "output_type": "stream",
     "text": [
      "* Running on local URL:  http://127.0.0.1:7876\n",
      "\n",
      "To create a public link, set `share=True` in `launch()`.\n"
     ]
    },
    {
     "data": {
      "text/html": [
       "<div><iframe src=\"http://127.0.0.1:7876/\" width=\"100%\" height=\"500\" allow=\"autoplay; camera; microphone; clipboard-read; clipboard-write;\" frameborder=\"0\" allowfullscreen></iframe></div>"
      ],
      "text/plain": [
       "<IPython.core.display.HTML object>"
      ]
     },
     "metadata": {},
     "output_type": "display_data"
    },
    {
     "data": {
      "text/plain": []
     },
     "execution_count": 24,
     "metadata": {},
     "output_type": "execute_result"
    }
   ],
   "source": [
    "import gradio as gr\n",
    "\n",
    "with gr.Blocks(fill_height=True) as demo:\n",
    "    gr.Chatbot(scale=1)\n",
    "    gr.Textbox(scale=0)\n",
    "\n",
    "demo.launch() "
   ]
  },
  {
   "cell_type": "code",
   "execution_count": 26,
   "metadata": {
    "execution": {
     "iopub.execute_input": "2024-11-30T02:38:33.136416Z",
     "iopub.status.busy": "2024-11-30T02:38:33.135416Z",
     "iopub.status.idle": "2024-11-30T02:38:33.946439Z",
     "shell.execute_reply": "2024-11-30T02:38:33.946439Z",
     "shell.execute_reply.started": "2024-11-30T02:38:33.136416Z"
    }
   },
   "outputs": [
    {
     "name": "stdout",
     "output_type": "stream",
     "text": [
      "* Running on local URL:  http://127.0.0.1:7877\n",
      "\n",
      "To create a public link, set `share=True` in `launch()`.\n"
     ]
    },
    {
     "data": {
      "text/html": [
       "<div><iframe src=\"http://127.0.0.1:7877/\" width=\"100%\" height=\"500\" allow=\"autoplay; camera; microphone; clipboard-read; clipboard-write;\" frameborder=\"0\" allowfullscreen></iframe></div>"
      ],
      "text/plain": [
       "<IPython.core.display.HTML object>"
      ]
     },
     "metadata": {},
     "output_type": "display_data"
    },
    {
     "data": {
      "text/plain": []
     },
     "execution_count": 26,
     "metadata": {},
     "output_type": "execute_result"
    }
   ],
   "source": [
    "import gradio as gr\n",
    "\n",
    "with gr.Blocks() as demo:\n",
    "    im = gr.ImageEditor(width=\"50vw\")\n",
    "    # gr.Textbox(width=\"30vw\") \n",
    "\n",
    "demo.launch()"
   ]
  },
  {
   "cell_type": "markdown",
   "metadata": {
    "execution": {
     "iopub.execute_input": "2024-11-30T02:21:28.513430Z",
     "iopub.status.busy": "2024-11-30T02:21:28.512430Z",
     "iopub.status.idle": "2024-11-30T02:21:28.516891Z",
     "shell.execute_reply": "2024-11-30T02:21:28.515959Z",
     "shell.execute_reply.started": "2024-11-30T02:21:28.513430Z"
    }
   },
   "source": [
    "### Defining and Rendering Components Separately"
   ]
  },
  {
   "cell_type": "code",
   "execution_count": 27,
   "metadata": {
    "execution": {
     "iopub.execute_input": "2024-11-30T02:38:52.205403Z",
     "iopub.status.busy": "2024-11-30T02:38:52.204404Z",
     "iopub.status.idle": "2024-11-30T02:38:52.720537Z",
     "shell.execute_reply": "2024-11-30T02:38:52.719531Z",
     "shell.execute_reply.started": "2024-11-30T02:38:52.205403Z"
    }
   },
   "outputs": [
    {
     "name": "stdout",
     "output_type": "stream",
     "text": [
      "* Running on local URL:  http://127.0.0.1:7878\n",
      "\n",
      "To create a public link, set `share=True` in `launch()`.\n"
     ]
    },
    {
     "data": {
      "text/html": [
       "<div><iframe src=\"http://127.0.0.1:7878/\" width=\"100%\" height=\"500\" allow=\"autoplay; camera; microphone; clipboard-read; clipboard-write;\" frameborder=\"0\" allowfullscreen></iframe></div>"
      ],
      "text/plain": [
       "<IPython.core.display.HTML object>"
      ]
     },
     "metadata": {},
     "output_type": "display_data"
    },
    {
     "data": {
      "text/plain": []
     },
     "execution_count": 27,
     "metadata": {},
     "output_type": "execute_result"
    }
   ],
   "source": [
    "input_textbox = gr.Textbox()\n",
    "\n",
    "with gr.Blocks() as demo:\n",
    "    gr.Examples([\"hello\", \"bonjour\", \"merhaba\"], input_textbox)\n",
    "    input_textbox.render()\n",
    "\n",
    "demo.launch() "
   ]
  },
  {
   "cell_type": "markdown",
   "metadata": {},
   "source": [
    "## Dynamic Apps with the Render Decorator\n",
    "### Dynamic Number of Components"
   ]
  },
  {
   "cell_type": "code",
   "execution_count": 29,
   "metadata": {
    "execution": {
     "iopub.execute_input": "2024-11-30T02:41:44.101928Z",
     "iopub.status.busy": "2024-11-30T02:41:44.101928Z",
     "iopub.status.idle": "2024-11-30T02:41:44.614125Z",
     "shell.execute_reply": "2024-11-30T02:41:44.613120Z",
     "shell.execute_reply.started": "2024-11-30T02:41:44.101928Z"
    }
   },
   "outputs": [
    {
     "name": "stdout",
     "output_type": "stream",
     "text": [
      "* Running on local URL:  http://127.0.0.1:7880\n",
      "\n",
      "To create a public link, set `share=True` in `launch()`.\n"
     ]
    },
    {
     "data": {
      "text/html": [
       "<div><iframe src=\"http://127.0.0.1:7880/\" width=\"100%\" height=\"500\" allow=\"autoplay; camera; microphone; clipboard-read; clipboard-write;\" frameborder=\"0\" allowfullscreen></iframe></div>"
      ],
      "text/plain": [
       "<IPython.core.display.HTML object>"
      ]
     },
     "metadata": {},
     "output_type": "display_data"
    },
    {
     "data": {
      "text/plain": []
     },
     "execution_count": 29,
     "metadata": {},
     "output_type": "execute_result"
    }
   ],
   "source": [
    "import gradio as gr\n",
    "\n",
    "with gr.Blocks() as demo:\n",
    "    input_text = gr.Textbox(label=\"input\")\n",
    "    mode = gr.Radio([\"textbox\", \"button\"], value=\"textbox\")\n",
    "\n",
    "    @gr.render(inputs=[input_text, mode], triggers=[input_text.submit])\n",
    "    def show_split(text, mode):\n",
    "        if len(text) == 0:\n",
    "            gr.Markdown(\"## No Input Provided\")\n",
    "        else:\n",
    "            for letter in text:\n",
    "                if mode == \"textbox\":\n",
    "                    gr.Textbox(letter)\n",
    "                else:\n",
    "                    gr.Button(letter)\n",
    "\n",
    "demo.launch()"
   ]
  },
  {
   "cell_type": "markdown",
   "metadata": {},
   "source": [
    "### Dynamic Event Listeners"
   ]
  },
  {
   "cell_type": "code",
   "execution_count": 30,
   "metadata": {
    "execution": {
     "iopub.execute_input": "2024-11-30T02:42:59.846519Z",
     "iopub.status.busy": "2024-11-30T02:42:59.846519Z",
     "iopub.status.idle": "2024-11-30T02:43:00.629330Z",
     "shell.execute_reply": "2024-11-30T02:43:00.628682Z",
     "shell.execute_reply.started": "2024-11-30T02:42:59.846519Z"
    }
   },
   "outputs": [
    {
     "name": "stdout",
     "output_type": "stream",
     "text": [
      "* Running on local URL:  http://127.0.0.1:7881\n",
      "\n",
      "To create a public link, set `share=True` in `launch()`.\n"
     ]
    },
    {
     "data": {
      "text/html": [
       "<div><iframe src=\"http://127.0.0.1:7881/\" width=\"100%\" height=\"500\" allow=\"autoplay; camera; microphone; clipboard-read; clipboard-write;\" frameborder=\"0\" allowfullscreen></iframe></div>"
      ],
      "text/plain": [
       "<IPython.core.display.HTML object>"
      ]
     },
     "metadata": {},
     "output_type": "display_data"
    },
    {
     "data": {
      "text/plain": []
     },
     "execution_count": 30,
     "metadata": {},
     "output_type": "execute_result"
    }
   ],
   "source": [
    "import gradio as gr\n",
    "\n",
    "with gr.Blocks() as demo:\n",
    "    text_count = gr.State(1)\n",
    "    add_btn = gr.Button(\"Add Box\")\n",
    "    add_btn.click(lambda x: x + 1, text_count, text_count)\n",
    "\n",
    "    @gr.render(inputs=text_count)\n",
    "    def render_count(count):\n",
    "        boxes = []\n",
    "        for i in range(count):\n",
    "            box = gr.Textbox(key=i, label=f\"Box {i}\")\n",
    "            boxes.append(box)\n",
    "\n",
    "        def merge(*args):\n",
    "            return \" \".join(args)\n",
    "\n",
    "        merge_btn.click(merge, boxes, output)\n",
    "\n",
    "    merge_btn = gr.Button(\"Merge\")\n",
    "    output = gr.Textbox(label=\"Merged Output\")\n",
    "\n",
    "demo.launch()"
   ]
  },
  {
   "cell_type": "markdown",
   "metadata": {},
   "source": [
    "### Putting it Together"
   ]
  },
  {
   "cell_type": "code",
   "execution_count": 31,
   "metadata": {
    "execution": {
     "iopub.execute_input": "2024-11-30T02:47:13.039094Z",
     "iopub.status.busy": "2024-11-30T02:47:13.039094Z",
     "iopub.status.idle": "2024-11-30T02:47:13.574105Z",
     "shell.execute_reply": "2024-11-30T02:47:13.574105Z",
     "shell.execute_reply.started": "2024-11-30T02:47:13.039094Z"
    }
   },
   "outputs": [
    {
     "name": "stdout",
     "output_type": "stream",
     "text": [
      "* Running on local URL:  http://127.0.0.1:7882\n",
      "\n",
      "To create a public link, set `share=True` in `launch()`.\n"
     ]
    },
    {
     "data": {
      "text/html": [
       "<div><iframe src=\"http://127.0.0.1:7882/\" width=\"100%\" height=\"500\" allow=\"autoplay; camera; microphone; clipboard-read; clipboard-write;\" frameborder=\"0\" allowfullscreen></iframe></div>"
      ],
      "text/plain": [
       "<IPython.core.display.HTML object>"
      ]
     },
     "metadata": {},
     "output_type": "display_data"
    },
    {
     "data": {
      "text/plain": []
     },
     "execution_count": 31,
     "metadata": {},
     "output_type": "execute_result"
    }
   ],
   "source": [
    "import gradio as gr\n",
    "\n",
    "with gr.Blocks() as demo:\n",
    "\n",
    "    tasks = gr.State([])\n",
    "    new_task = gr.Textbox(label=\"Task Name\", autofocus=True)\n",
    "\n",
    "    def add_task(tasks, new_task_name):\n",
    "        return tasks + [{\"name\": new_task_name, \"complete\": False}], \"\"\n",
    "\n",
    "    new_task.submit(add_task, [tasks, new_task], [tasks, new_task])\n",
    "\n",
    "    @gr.render(inputs=tasks)\n",
    "    def render_todos(task_list):\n",
    "        complete = [task for task in task_list if task[\"complete\"]]\n",
    "        incomplete = [task for task in task_list if not task[\"complete\"]]\n",
    "        gr.Markdown(f\"### Incomplete Tasks ({len(incomplete)})\")\n",
    "        for task in incomplete:\n",
    "            with gr.Row():\n",
    "                gr.Textbox(task['name'], show_label=False, container=False)\n",
    "                done_btn = gr.Button(\"Done\", scale=0)\n",
    "                def mark_done(task=task):\n",
    "                    task[\"complete\"] = True\n",
    "                    return task_list\n",
    "                done_btn.click(mark_done, None, [tasks])\n",
    "\n",
    "                delete_btn = gr.Button(\"Delete\", scale=0, variant=\"stop\")\n",
    "                def delete(task=task):\n",
    "                    task_list.remove(task)\n",
    "                    return task_list\n",
    "                delete_btn.click(delete, None, [tasks])\n",
    "\n",
    "        gr.Markdown(f\"### Complete Tasks ({len(complete)})\")\n",
    "        for task in complete:\n",
    "            gr.Textbox(task['name'], show_label=False, container=False)\n",
    "\n",
    "demo.launch()"
   ]
  },
  {
   "cell_type": "code",
   "execution_count": 32,
   "metadata": {
    "execution": {
     "iopub.execute_input": "2024-11-30T02:49:10.890793Z",
     "iopub.status.busy": "2024-11-30T02:49:10.890793Z",
     "iopub.status.idle": "2024-11-30T02:49:11.405852Z",
     "shell.execute_reply": "2024-11-30T02:49:11.405852Z",
     "shell.execute_reply.started": "2024-11-30T02:49:10.890793Z"
    }
   },
   "outputs": [
    {
     "name": "stdout",
     "output_type": "stream",
     "text": [
      "* Running on local URL:  http://127.0.0.1:7883\n",
      "\n",
      "To create a public link, set `share=True` in `launch()`.\n"
     ]
    },
    {
     "data": {
      "text/html": [
       "<div><iframe src=\"http://127.0.0.1:7883/\" width=\"100%\" height=\"500\" allow=\"autoplay; camera; microphone; clipboard-read; clipboard-write;\" frameborder=\"0\" allowfullscreen></iframe></div>"
      ],
      "text/plain": [
       "<IPython.core.display.HTML object>"
      ]
     },
     "metadata": {},
     "output_type": "display_data"
    },
    {
     "data": {
      "text/plain": []
     },
     "execution_count": 32,
     "metadata": {},
     "output_type": "execute_result"
    },
    {
     "name": "stderr",
     "output_type": "stream",
     "text": [
      "C:\\Users\\xu6\\AppData\\Local\\miniconda3\\envs\\dev312\\Lib\\site-packages\\gradio\\processing_utils.py:738: UserWarning: Trying to convert audio automatically from float64 to 16-bit int format.\n",
      "  warnings.warn(warning.format(data.dtype))\n"
     ]
    }
   ],
   "source": [
    "import gradio as gr\n",
    "\n",
    "with gr.Blocks() as demo:\n",
    "    track_count = gr.State(1)\n",
    "    add_track_btn = gr.Button(\"Add Track\")\n",
    "\n",
    "    add_track_btn.click(lambda count: count + 1, track_count, track_count)\n",
    "\n",
    "    @gr.render(inputs=track_count)\n",
    "    def render_tracks(count):\n",
    "        audios = []\n",
    "        volumes = []\n",
    "        with gr.Row():\n",
    "            for i in range(count):\n",
    "                with gr.Column(variant=\"panel\", min_width=200):\n",
    "                    gr.Textbox(placeholder=\"Track Name\", key=f\"name-{i}\", show_label=False)\n",
    "                    track_audio = gr.Audio(label=f\"Track {i}\", key=f\"track-{i}\")\n",
    "                    track_volume = gr.Slider(0, 100, value=100, label=\"Volume\", key=f\"volume-{i}\")\n",
    "                    audios.append(track_audio)\n",
    "                    volumes.append(track_volume)\n",
    "\n",
    "            def merge(data):\n",
    "                sr, output = None, None\n",
    "                for audio, volume in zip(audios, volumes):\n",
    "                    sr, audio_val = data[audio]\n",
    "                    volume_val = data[volume]\n",
    "                    final_track = audio_val * (volume_val / 100)\n",
    "                    if output is None:\n",
    "                        output = final_track\n",
    "                    else:\n",
    "                        min_shape = tuple(min(s1, s2) for s1, s2 in zip(output.shape, final_track.shape))\n",
    "                        trimmed_output = output[:min_shape[0], ...][:, :min_shape[1], ...] if output.ndim > 1 else output[:min_shape[0]]\n",
    "                        trimmed_final = final_track[:min_shape[0], ...][:, :min_shape[1], ...] if final_track.ndim > 1 else final_track[:min_shape[0]]\n",
    "                        output += trimmed_output + trimmed_final\n",
    "                return (sr, output)\n",
    "\n",
    "            merge_btn.click(merge, set(audios + volumes), output_audio)\n",
    "\n",
    "    merge_btn = gr.Button(\"Merge Tracks\")\n",
    "    output_audio = gr.Audio(label=\"Output\", interactive=False)\n",
    "\n",
    "demo.launch()\n"
   ]
  },
  {
   "cell_type": "markdown",
   "metadata": {},
   "source": [
    "## More Blocks Features"
   ]
  },
  {
   "cell_type": "markdown",
   "metadata": {},
   "source": [
    "### Running Events Continuously"
   ]
  },
  {
   "cell_type": "code",
   "execution_count": 33,
   "metadata": {
    "execution": {
     "iopub.execute_input": "2024-11-30T02:59:00.278729Z",
     "iopub.status.busy": "2024-11-30T02:59:00.278729Z",
     "iopub.status.idle": "2024-11-30T02:59:00.787561Z",
     "shell.execute_reply": "2024-11-30T02:59:00.787561Z",
     "shell.execute_reply.started": "2024-11-30T02:59:00.278729Z"
    }
   },
   "outputs": [
    {
     "name": "stdout",
     "output_type": "stream",
     "text": [
      "* Running on local URL:  http://127.0.0.1:7884\n",
      "\n",
      "To create a public link, set `share=True` in `launch()`.\n"
     ]
    },
    {
     "data": {
      "text/html": [
       "<div><iframe src=\"http://127.0.0.1:7884/\" width=\"100%\" height=\"500\" allow=\"autoplay; camera; microphone; clipboard-read; clipboard-write;\" frameborder=\"0\" allowfullscreen></iframe></div>"
      ],
      "text/plain": [
       "<IPython.core.display.HTML object>"
      ]
     },
     "metadata": {},
     "output_type": "display_data"
    },
    {
     "data": {
      "text/plain": []
     },
     "execution_count": 33,
     "metadata": {},
     "output_type": "execute_result"
    }
   ],
   "source": [
    "import gradio as gr\n",
    "import random\n",
    "import time\n",
    "\n",
    "with gr.Blocks() as demo:\n",
    "  timer = gr.Timer(1)\n",
    "  timestamp = gr.Number(label=\"Time\")\n",
    "  timer.tick(lambda: round(time.time()), outputs=timestamp)\n",
    "\n",
    "  number = gr.Number(lambda: random.randint(1, 10), every=timer, label=\"Random Number\")\n",
    "  with gr.Row():\n",
    "    gr.Button(\"Start\").click(lambda: gr.Timer(active=True), None, timer)\n",
    "    gr.Button(\"Stop\").click(lambda: gr.Timer(active=False), None, timer)\n",
    "    gr.Button(\"Go Fast\").click(lambda: 0.2, None, timer)\n",
    "\n",
    "demo.launch()\n"
   ]
  },
  {
   "cell_type": "markdown",
   "metadata": {},
   "source": [
    "### Gathering Event Data "
   ]
  },
  {
   "cell_type": "code",
   "execution_count": 34,
   "metadata": {
    "execution": {
     "iopub.execute_input": "2024-11-30T03:01:13.724851Z",
     "iopub.status.busy": "2024-11-30T03:01:13.723830Z",
     "iopub.status.idle": "2024-11-30T03:01:15.718500Z",
     "shell.execute_reply": "2024-11-30T03:01:15.718500Z",
     "shell.execute_reply.started": "2024-11-30T03:01:13.724851Z"
    }
   },
   "outputs": [
    {
     "name": "stdout",
     "output_type": "stream",
     "text": [
      "* Running on local URL:  http://127.0.0.1:7885\n",
      "\n",
      "To create a public link, set `share=True` in `launch()`.\n"
     ]
    },
    {
     "data": {
      "text/html": [
       "<div><iframe src=\"http://127.0.0.1:7885/\" width=\"100%\" height=\"500\" allow=\"autoplay; camera; microphone; clipboard-read; clipboard-write;\" frameborder=\"0\" allowfullscreen></iframe></div>"
      ],
      "text/plain": [
       "<IPython.core.display.HTML object>"
      ]
     },
     "metadata": {},
     "output_type": "display_data"
    },
    {
     "data": {
      "text/plain": []
     },
     "execution_count": 34,
     "metadata": {},
     "output_type": "execute_result"
    }
   ],
   "source": [
    "import gradio as gr \n",
    "\n",
    "with gr.Blocks() as demo:\n",
    "    turn = gr.Textbox(\"X\", interactive=False, label=\"Turn\")\n",
    "    board = gr.Dataframe(value=[[\"\", \"\", \"\"]] * 3, interactive=False, type=\"array\")\n",
    "\n",
    "    def place(board: list[list[int]], turn, evt: gr.SelectData):  \n",
    "        if evt.value:\n",
    "            return board, turn\n",
    "        board[evt.index[0]][evt.index[1]] = turn\n",
    "        turn = \"O\" if turn == \"X\" else \"X\"\n",
    "        return board, turn\n",
    "\n",
    "    board.select(place, [board, turn], [board, turn], show_progress=\"hidden\")\n",
    "\n",
    "demo.launch()"
   ]
  },
  {
   "cell_type": "markdown",
   "metadata": {},
   "source": [
    "## Customizing your demo with CSS and Javascript"
   ]
  },
  {
   "cell_type": "code",
   "execution_count": 35,
   "metadata": {
    "execution": {
     "iopub.execute_input": "2024-11-30T03:06:34.385316Z",
     "iopub.status.busy": "2024-11-30T03:06:34.385316Z",
     "iopub.status.idle": "2024-11-30T03:06:35.001335Z",
     "shell.execute_reply": "2024-11-30T03:06:35.001335Z",
     "shell.execute_reply.started": "2024-11-30T03:06:34.385316Z"
    }
   },
   "outputs": [
    {
     "name": "stdout",
     "output_type": "stream",
     "text": [
      "* Running on local URL:  http://127.0.0.1:7886\n",
      "\n",
      "To create a public link, set `share=True` in `launch()`.\n"
     ]
    },
    {
     "data": {
      "text/html": [
       "<div><iframe src=\"http://127.0.0.1:7886/\" width=\"100%\" height=\"500\" allow=\"autoplay; camera; microphone; clipboard-read; clipboard-write;\" frameborder=\"0\" allowfullscreen></iframe></div>"
      ],
      "text/plain": [
       "<IPython.core.display.HTML object>"
      ]
     },
     "metadata": {},
     "output_type": "display_data"
    },
    {
     "data": {
      "text/plain": []
     },
     "execution_count": 35,
     "metadata": {},
     "output_type": "execute_result"
    }
   ],
   "source": [
    "import gradio as gr\n",
    "\n",
    "def welcome(name):\n",
    "    return f\"Welcome to Gradio, {name}!\"\n",
    "\n",
    "js = \"\"\"\n",
    "function createGradioAnimation() {\n",
    "    var container = document.createElement('div');\n",
    "    container.id = 'gradio-animation';\n",
    "    container.style.fontSize = '2em';\n",
    "    container.style.fontWeight = 'bold';\n",
    "    container.style.textAlign = 'center';\n",
    "    container.style.marginBottom = '20px';\n",
    "\n",
    "    var text = 'Welcome to Gradio!';\n",
    "    for (var i = 0; i < text.length; i++) {\n",
    "        (function(i){\n",
    "            setTimeout(function(){\n",
    "                var letter = document.createElement('span');\n",
    "                letter.style.opacity = '0';\n",
    "                letter.style.transition = 'opacity 0.5s';\n",
    "                letter.innerText = text[i];\n",
    "\n",
    "                container.appendChild(letter);\n",
    "\n",
    "                setTimeout(function() {\n",
    "                    letter.style.opacity = '1';\n",
    "                }, 50);\n",
    "            }, i * 250);\n",
    "        })(i);\n",
    "    }\n",
    "\n",
    "    var gradioContainer = document.querySelector('.gradio-container');\n",
    "    gradioContainer.insertBefore(container, gradioContainer.firstChild);\n",
    "\n",
    "    return 'Animation created';\n",
    "}\n",
    "\"\"\"\n",
    "with gr.Blocks(js=js) as demo:\n",
    "    inp = gr.Textbox(placeholder=\"What is your name?\")\n",
    "    out = gr.Textbox()\n",
    "    inp.change(welcome, inp, out)\n",
    "\n",
    "demo.launch()"
   ]
  },
  {
   "cell_type": "code",
   "execution_count": 36,
   "metadata": {
    "execution": {
     "iopub.execute_input": "2024-11-30T03:08:02.898775Z",
     "iopub.status.busy": "2024-11-30T03:08:02.898775Z",
     "iopub.status.idle": "2024-11-30T03:08:03.792507Z",
     "shell.execute_reply": "2024-11-30T03:08:03.792507Z",
     "shell.execute_reply.started": "2024-11-30T03:08:02.898775Z"
    }
   },
   "outputs": [
    {
     "name": "stdout",
     "output_type": "stream",
     "text": [
      "* Running on local URL:  http://127.0.0.1:7887\n",
      "\n",
      "To create a public link, set `share=True` in `launch()`.\n"
     ]
    },
    {
     "data": {
      "text/html": [
       "<div><iframe src=\"http://127.0.0.1:7887/\" width=\"100%\" height=\"500\" allow=\"autoplay; camera; microphone; clipboard-read; clipboard-write;\" frameborder=\"0\" allowfullscreen></iframe></div>"
      ],
      "text/plain": [
       "<IPython.core.display.HTML object>"
      ]
     },
     "metadata": {},
     "output_type": "display_data"
    },
    {
     "data": {
      "text/plain": []
     },
     "execution_count": 36,
     "metadata": {},
     "output_type": "execute_result"
    },
    {
     "name": "stderr",
     "output_type": "stream",
     "text": [
      "Traceback (most recent call last):\n",
      "  File \"C:\\Users\\xu6\\AppData\\Local\\miniconda3\\envs\\dev312\\Lib\\site-packages\\gradio\\queueing.py\", line 624, in process_events\n",
      "    response = await route_utils.call_process_api(\n",
      "               ^^^^^^^^^^^^^^^^^^^^^^^^^^^^^^^^^^^\n",
      "  File \"C:\\Users\\xu6\\AppData\\Local\\miniconda3\\envs\\dev312\\Lib\\site-packages\\gradio\\route_utils.py\", line 323, in call_process_api\n",
      "    output = await app.get_blocks().process_api(\n",
      "             ^^^^^^^^^^^^^^^^^^^^^^^^^^^^^^^^^^^\n",
      "  File \"C:\\Users\\xu6\\AppData\\Local\\miniconda3\\envs\\dev312\\Lib\\site-packages\\gradio\\blocks.py\", line 2012, in process_api\n",
      "    inputs = await self.preprocess_data(\n",
      "             ^^^^^^^^^^^^^^^^^^^^^^^^^^^\n",
      "  File \"C:\\Users\\xu6\\AppData\\Local\\miniconda3\\envs\\dev312\\Lib\\site-packages\\gradio\\blocks.py\", line 1707, in preprocess_data\n",
      "    processed_input.append(block.preprocess(inputs_cached))\n",
      "                           ^^^^^^^^^^^^^^^^^^^^^^^^^^^^^^^\n",
      "  File \"C:\\Users\\xu6\\AppData\\Local\\miniconda3\\envs\\dev312\\Lib\\site-packages\\gradio\\components\\radio.py\", line 119, in preprocess\n",
      "    raise Error(\n",
      "gradio.exceptions.Error: \"Value: 'eta' (type: <class 'str'>) is not in the list of choices: ['ate', 'loved', 'hated']\"\n",
      "Traceback (most recent call last):\n",
      "  File \"C:\\Users\\xu6\\AppData\\Local\\miniconda3\\envs\\dev312\\Lib\\site-packages\\gradio\\queueing.py\", line 624, in process_events\n",
      "    response = await route_utils.call_process_api(\n",
      "               ^^^^^^^^^^^^^^^^^^^^^^^^^^^^^^^^^^^\n",
      "  File \"C:\\Users\\xu6\\AppData\\Local\\miniconda3\\envs\\dev312\\Lib\\site-packages\\gradio\\route_utils.py\", line 323, in call_process_api\n",
      "    output = await app.get_blocks().process_api(\n",
      "             ^^^^^^^^^^^^^^^^^^^^^^^^^^^^^^^^^^^\n",
      "  File \"C:\\Users\\xu6\\AppData\\Local\\miniconda3\\envs\\dev312\\Lib\\site-packages\\gradio\\blocks.py\", line 2012, in process_api\n",
      "    inputs = await self.preprocess_data(\n",
      "             ^^^^^^^^^^^^^^^^^^^^^^^^^^^\n",
      "  File \"C:\\Users\\xu6\\AppData\\Local\\miniconda3\\envs\\dev312\\Lib\\site-packages\\gradio\\blocks.py\", line 1707, in preprocess_data\n",
      "    processed_input.append(block.preprocess(inputs_cached))\n",
      "                           ^^^^^^^^^^^^^^^^^^^^^^^^^^^^^^^\n",
      "  File \"C:\\Users\\xu6\\AppData\\Local\\miniconda3\\envs\\dev312\\Lib\\site-packages\\gradio\\components\\radio.py\", line 119, in preprocess\n",
      "    raise Error(\n",
      "gradio.exceptions.Error: \"Value: 'devol' (type: <class 'str'>) is not in the list of choices: ['ate', 'loved', 'hated']\"\n",
      "Traceback (most recent call last):\n",
      "  File \"C:\\Users\\xu6\\AppData\\Local\\miniconda3\\envs\\dev312\\Lib\\site-packages\\gradio\\queueing.py\", line 624, in process_events\n",
      "    response = await route_utils.call_process_api(\n",
      "               ^^^^^^^^^^^^^^^^^^^^^^^^^^^^^^^^^^^\n",
      "  File \"C:\\Users\\xu6\\AppData\\Local\\miniconda3\\envs\\dev312\\Lib\\site-packages\\gradio\\route_utils.py\", line 323, in call_process_api\n",
      "    output = await app.get_blocks().process_api(\n",
      "             ^^^^^^^^^^^^^^^^^^^^^^^^^^^^^^^^^^^\n",
      "  File \"C:\\Users\\xu6\\AppData\\Local\\miniconda3\\envs\\dev312\\Lib\\site-packages\\gradio\\blocks.py\", line 2012, in process_api\n",
      "    inputs = await self.preprocess_data(\n",
      "             ^^^^^^^^^^^^^^^^^^^^^^^^^^^\n",
      "  File \"C:\\Users\\xu6\\AppData\\Local\\miniconda3\\envs\\dev312\\Lib\\site-packages\\gradio\\blocks.py\", line 1707, in preprocess_data\n",
      "    processed_input.append(block.preprocess(inputs_cached))\n",
      "                           ^^^^^^^^^^^^^^^^^^^^^^^^^^^^^^^\n",
      "  File \"C:\\Users\\xu6\\AppData\\Local\\miniconda3\\envs\\dev312\\Lib\\site-packages\\gradio\\components\\radio.py\", line 119, in preprocess\n",
      "    raise Error(\n",
      "gradio.exceptions.Error: \"Value: 'eta' (type: <class 'str'>) is not in the list of choices: ['ate', 'loved', 'hated']\"\n",
      "Traceback (most recent call last):\n",
      "  File \"C:\\Users\\xu6\\AppData\\Local\\miniconda3\\envs\\dev312\\Lib\\site-packages\\gradio\\queueing.py\", line 624, in process_events\n",
      "    response = await route_utils.call_process_api(\n",
      "               ^^^^^^^^^^^^^^^^^^^^^^^^^^^^^^^^^^^\n",
      "  File \"C:\\Users\\xu6\\AppData\\Local\\miniconda3\\envs\\dev312\\Lib\\site-packages\\gradio\\route_utils.py\", line 323, in call_process_api\n",
      "    output = await app.get_blocks().process_api(\n",
      "             ^^^^^^^^^^^^^^^^^^^^^^^^^^^^^^^^^^^\n",
      "  File \"C:\\Users\\xu6\\AppData\\Local\\miniconda3\\envs\\dev312\\Lib\\site-packages\\gradio\\blocks.py\", line 2012, in process_api\n",
      "    inputs = await self.preprocess_data(\n",
      "             ^^^^^^^^^^^^^^^^^^^^^^^^^^^\n",
      "  File \"C:\\Users\\xu6\\AppData\\Local\\miniconda3\\envs\\dev312\\Lib\\site-packages\\gradio\\blocks.py\", line 1707, in preprocess_data\n",
      "    processed_input.append(block.preprocess(inputs_cached))\n",
      "                           ^^^^^^^^^^^^^^^^^^^^^^^^^^^^^^^\n",
      "  File \"C:\\Users\\xu6\\AppData\\Local\\miniconda3\\envs\\dev312\\Lib\\site-packages\\gradio\\components\\radio.py\", line 119, in preprocess\n",
      "    raise Error(\n",
      "gradio.exceptions.Error: \"Value: 'devol' (type: <class 'str'>) is not in the list of choices: ['ate', 'loved', 'hated']\"\n",
      "Traceback (most recent call last):\n",
      "  File \"C:\\Users\\xu6\\AppData\\Local\\miniconda3\\envs\\dev312\\Lib\\site-packages\\gradio\\queueing.py\", line 624, in process_events\n",
      "    response = await route_utils.call_process_api(\n",
      "               ^^^^^^^^^^^^^^^^^^^^^^^^^^^^^^^^^^^\n",
      "  File \"C:\\Users\\xu6\\AppData\\Local\\miniconda3\\envs\\dev312\\Lib\\site-packages\\gradio\\route_utils.py\", line 323, in call_process_api\n",
      "    output = await app.get_blocks().process_api(\n",
      "             ^^^^^^^^^^^^^^^^^^^^^^^^^^^^^^^^^^^\n",
      "  File \"C:\\Users\\xu6\\AppData\\Local\\miniconda3\\envs\\dev312\\Lib\\site-packages\\gradio\\blocks.py\", line 2012, in process_api\n",
      "    inputs = await self.preprocess_data(\n",
      "             ^^^^^^^^^^^^^^^^^^^^^^^^^^^\n",
      "  File \"C:\\Users\\xu6\\AppData\\Local\\miniconda3\\envs\\dev312\\Lib\\site-packages\\gradio\\blocks.py\", line 1707, in preprocess_data\n",
      "    processed_input.append(block.preprocess(inputs_cached))\n",
      "                           ^^^^^^^^^^^^^^^^^^^^^^^^^^^^^^^\n",
      "  File \"C:\\Users\\xu6\\AppData\\Local\\miniconda3\\envs\\dev312\\Lib\\site-packages\\gradio\\components\\radio.py\", line 119, in preprocess\n",
      "    raise Error(\n",
      "gradio.exceptions.Error: \"Value: 'detah' (type: <class 'str'>) is not in the list of choices: ['ate', 'loved', 'hated']\"\n",
      "Traceback (most recent call last):\n",
      "  File \"C:\\Users\\xu6\\AppData\\Local\\miniconda3\\envs\\dev312\\Lib\\site-packages\\gradio\\queueing.py\", line 624, in process_events\n",
      "    response = await route_utils.call_process_api(\n",
      "               ^^^^^^^^^^^^^^^^^^^^^^^^^^^^^^^^^^^\n",
      "  File \"C:\\Users\\xu6\\AppData\\Local\\miniconda3\\envs\\dev312\\Lib\\site-packages\\gradio\\route_utils.py\", line 323, in call_process_api\n",
      "    output = await app.get_blocks().process_api(\n",
      "             ^^^^^^^^^^^^^^^^^^^^^^^^^^^^^^^^^^^\n",
      "  File \"C:\\Users\\xu6\\AppData\\Local\\miniconda3\\envs\\dev312\\Lib\\site-packages\\gradio\\blocks.py\", line 2012, in process_api\n",
      "    inputs = await self.preprocess_data(\n",
      "             ^^^^^^^^^^^^^^^^^^^^^^^^^^^\n",
      "  File \"C:\\Users\\xu6\\AppData\\Local\\miniconda3\\envs\\dev312\\Lib\\site-packages\\gradio\\blocks.py\", line 1707, in preprocess_data\n",
      "    processed_input.append(block.preprocess(inputs_cached))\n",
      "                           ^^^^^^^^^^^^^^^^^^^^^^^^^^^^^^^\n",
      "  File \"C:\\Users\\xu6\\AppData\\Local\\miniconda3\\envs\\dev312\\Lib\\site-packages\\gradio\\components\\radio.py\", line 119, in preprocess\n",
      "    raise Error(\n",
      "gradio.exceptions.Error: \"Value: 'eta' (type: <class 'str'>) is not in the list of choices: ['ate', 'loved', 'hated']\"\n",
      "Traceback (most recent call last):\n",
      "  File \"C:\\Users\\xu6\\AppData\\Local\\miniconda3\\envs\\dev312\\Lib\\site-packages\\gradio\\queueing.py\", line 624, in process_events\n",
      "    response = await route_utils.call_process_api(\n",
      "               ^^^^^^^^^^^^^^^^^^^^^^^^^^^^^^^^^^^\n",
      "  File \"C:\\Users\\xu6\\AppData\\Local\\miniconda3\\envs\\dev312\\Lib\\site-packages\\gradio\\route_utils.py\", line 323, in call_process_api\n",
      "    output = await app.get_blocks().process_api(\n",
      "             ^^^^^^^^^^^^^^^^^^^^^^^^^^^^^^^^^^^\n",
      "  File \"C:\\Users\\xu6\\AppData\\Local\\miniconda3\\envs\\dev312\\Lib\\site-packages\\gradio\\blocks.py\", line 2012, in process_api\n",
      "    inputs = await self.preprocess_data(\n",
      "             ^^^^^^^^^^^^^^^^^^^^^^^^^^^\n",
      "  File \"C:\\Users\\xu6\\AppData\\Local\\miniconda3\\envs\\dev312\\Lib\\site-packages\\gradio\\blocks.py\", line 1707, in preprocess_data\n",
      "    processed_input.append(block.preprocess(inputs_cached))\n",
      "                           ^^^^^^^^^^^^^^^^^^^^^^^^^^^^^^^\n",
      "  File \"C:\\Users\\xu6\\AppData\\Local\\miniconda3\\envs\\dev312\\Lib\\site-packages\\gradio\\components\\radio.py\", line 119, in preprocess\n",
      "    raise Error(\n",
      "gradio.exceptions.Error: \"Value: 'devol' (type: <class 'str'>) is not in the list of choices: ['ate', 'loved', 'hated']\"\n"
     ]
    }
   ],
   "source": [
    "import gradio as gr\n",
    "\n",
    "blocks = gr.Blocks()\n",
    "\n",
    "with blocks as demo:\n",
    "    subject = gr.Textbox(placeholder=\"subject\")\n",
    "    verb = gr.Radio([\"ate\", \"loved\", \"hated\"])\n",
    "    object = gr.Textbox(placeholder=\"object\")\n",
    "\n",
    "    with gr.Row():\n",
    "        btn = gr.Button(\"Create sentence.\")\n",
    "        reverse_btn = gr.Button(\"Reverse sentence.\")\n",
    "        foo_bar_btn = gr.Button(\"Append foo\")\n",
    "        reverse_then_to_the_server_btn = gr.Button(\n",
    "            \"Reverse sentence and send to server.\"\n",
    "        )\n",
    "\n",
    "    def sentence_maker(w1, w2, w3):\n",
    "        return f\"{w1} {w2} {w3}\"\n",
    "\n",
    "    output1 = gr.Textbox(label=\"output 1\")\n",
    "    output2 = gr.Textbox(label=\"verb\")\n",
    "    output3 = gr.Textbox(label=\"verb reversed\")\n",
    "    output4 = gr.Textbox(label=\"front end process and then send to backend\")\n",
    "\n",
    "    btn.click(sentence_maker, [subject, verb, object], output1)\n",
    "    reverse_btn.click(\n",
    "        None, [subject, verb, object], output2, js=\"(s, v, o) => o + ' ' + v + ' ' + s\"\n",
    "    )\n",
    "    verb.change(lambda x: x, verb, output3, js=\"(x) => [...x].reverse().join('')\")\n",
    "    foo_bar_btn.click(None, [], subject, js=\"(x) => x + ' foo'\")\n",
    "\n",
    "    reverse_then_to_the_server_btn.click(\n",
    "        sentence_maker,\n",
    "        [subject, verb, object],\n",
    "        output4,\n",
    "        js=\"(s, v, o) => [s, v, o].map(x => [...x].reverse().join(''))\",\n",
    "    )\n",
    "\n",
    "demo.launch()"
   ]
  },
  {
   "cell_type": "markdown",
   "metadata": {
    "execution": {
     "iopub.execute_input": "2024-11-30T03:09:27.098452Z",
     "iopub.status.busy": "2024-11-30T03:09:27.098452Z",
     "iopub.status.idle": "2024-11-30T03:09:27.102654Z",
     "shell.execute_reply": "2024-11-30T03:09:27.101646Z",
     "shell.execute_reply.started": "2024-11-30T03:09:27.098452Z"
    }
   },
   "source": [
    "## Using Gradio Blocks Like Functions"
   ]
  },
  {
   "cell_type": "code",
   "execution_count": 39,
   "metadata": {
    "execution": {
     "iopub.execute_input": "2024-11-30T03:11:47.181942Z",
     "iopub.status.busy": "2024-11-30T03:11:47.180938Z",
     "iopub.status.idle": "2024-11-30T03:11:48.867253Z",
     "shell.execute_reply": "2024-11-30T03:11:48.866249Z",
     "shell.execute_reply.started": "2024-11-30T03:11:47.181942Z"
    }
   },
   "outputs": [
    {
     "name": "stderr",
     "output_type": "stream",
     "text": [
      "C:\\Users\\xu6\\AppData\\Local\\miniconda3\\envs\\dev312\\Lib\\site-packages\\transformers\\pipelines\\__init__.py:1140: UserWarning: \"translation\" task was used, instead of \"translation_XX_to_YY\", defaulting to \"translation_en_to_de\"\n",
      "  warnings.warn(\n",
      "Hardware accelerator e.g. GPU is available in the environment, but no `device` argument is passed to the `Pipeline` object. Model will be on CPU.\n"
     ]
    },
    {
     "name": "stdout",
     "output_type": "stream",
     "text": [
      "* Running on local URL:  http://127.0.0.1:7889\n",
      "\n",
      "To create a public link, set `share=True` in `launch()`.\n"
     ]
    },
    {
     "data": {
      "text/html": [
       "<div><iframe src=\"http://127.0.0.1:7889/\" width=\"100%\" height=\"500\" allow=\"autoplay; camera; microphone; clipboard-read; clipboard-write;\" frameborder=\"0\" allowfullscreen></iframe></div>"
      ],
      "text/plain": [
       "<IPython.core.display.HTML object>"
      ]
     },
     "metadata": {},
     "output_type": "display_data"
    },
    {
     "data": {
      "text/plain": []
     },
     "execution_count": 39,
     "metadata": {},
     "output_type": "execute_result"
    }
   ],
   "source": [
    "import gradio as gr\n",
    "\n",
    "from transformers import pipeline\n",
    "\n",
    "pipe = pipeline(\"translation\", model=\"t5-base\")\n",
    "\n",
    "def translate(text):\n",
    "    return pipe(text)[0][\"translation_text\"]  \n",
    "\n",
    "with gr.Blocks() as demo:\n",
    "    with gr.Row():\n",
    "        with gr.Column():\n",
    "            english = gr.Textbox(label=\"English text\")\n",
    "            translate_btn = gr.Button(value=\"Translate\")\n",
    "        with gr.Column():\n",
    "            german = gr.Textbox(label=\"German Text\")\n",
    "\n",
    "    translate_btn.click(translate, inputs=english, outputs=german, api_name=\"translate-to-german\")\n",
    "    examples = gr.Examples(examples=[\"I went to the supermarket yesterday.\", \"Helen is a good swimmer.\"],\n",
    "                           inputs=[english])\n",
    "\n",
    "demo.launch()"
   ]
  },
  {
   "cell_type": "code",
   "execution_count": 40,
   "metadata": {
    "execution": {
     "iopub.execute_input": "2024-11-30T03:13:39.920002Z",
     "iopub.status.busy": "2024-11-30T03:13:39.920002Z",
     "iopub.status.idle": "2024-11-30T03:14:09.298189Z",
     "shell.execute_reply": "2024-11-30T03:14:09.298189Z",
     "shell.execute_reply.started": "2024-11-30T03:13:39.920002Z"
    }
   },
   "outputs": [
    {
     "name": "stdout",
     "output_type": "stream",
     "text": [
      "Fetching Space from: https://huggingface.co/spaces/gradio/english_translator\n",
      "Loaded as API: https://gradio-english-translator.hf.space ✔\n"
     ]
    },
    {
     "data": {
      "application/vnd.jupyter.widget-view+json": {
       "model_id": "42f0b23a79e1470d89c5c6b203324f54",
       "version_major": 2,
       "version_minor": 0
      },
      "text/plain": [
       "config.json:   0%|          | 0.00/762 [00:00<?, ?B/s]"
      ]
     },
     "metadata": {},
     "output_type": "display_data"
    },
    {
     "name": "stderr",
     "output_type": "stream",
     "text": [
      "C:\\Users\\xu6\\AppData\\Local\\miniconda3\\envs\\dev312\\Lib\\site-packages\\huggingface_hub\\file_download.py:139: UserWarning: `huggingface_hub` cache-system uses symlinks by default to efficiently store duplicated files but your machine does not support them in C:\\Users\\xu6\\.cache\\huggingface\\hub\\models--distilgpt2. Caching files will still work but in a degraded version that might require more space on your disk. This warning can be disabled by setting the `HF_HUB_DISABLE_SYMLINKS_WARNING` environment variable. For more details, see https://huggingface.co/docs/huggingface_hub/how-to-cache#limitations.\n",
      "To support symlinks on Windows, you either need to activate Developer Mode or to run Python as an administrator. In order to activate developer mode, see this article: https://docs.microsoft.com/en-us/windows/apps/get-started/enable-your-device-for-development\n",
      "  warnings.warn(message)\n"
     ]
    },
    {
     "data": {
      "application/vnd.jupyter.widget-view+json": {
       "model_id": "1d9dd12c20b54e448b1d52ea171d3598",
       "version_major": 2,
       "version_minor": 0
      },
      "text/plain": [
       "model.safetensors:   0%|          | 0.00/353M [00:00<?, ?B/s]"
      ]
     },
     "metadata": {},
     "output_type": "display_data"
    },
    {
     "data": {
      "application/vnd.jupyter.widget-view+json": {
       "model_id": "8f3ac95e0a4b47dcbccac74d46376439",
       "version_major": 2,
       "version_minor": 0
      },
      "text/plain": [
       "generation_config.json:   0%|          | 0.00/124 [00:00<?, ?B/s]"
      ]
     },
     "metadata": {},
     "output_type": "display_data"
    },
    {
     "data": {
      "application/vnd.jupyter.widget-view+json": {
       "model_id": "9c79684ed9a549c58f179c14fd85c047",
       "version_major": 2,
       "version_minor": 0
      },
      "text/plain": [
       "tokenizer_config.json:   0%|          | 0.00/26.0 [00:00<?, ?B/s]"
      ]
     },
     "metadata": {},
     "output_type": "display_data"
    },
    {
     "data": {
      "application/vnd.jupyter.widget-view+json": {
       "model_id": "1ad2f1d17c804509848979073f359380",
       "version_major": 2,
       "version_minor": 0
      },
      "text/plain": [
       "vocab.json:   0%|          | 0.00/1.04M [00:00<?, ?B/s]"
      ]
     },
     "metadata": {},
     "output_type": "display_data"
    },
    {
     "data": {
      "application/vnd.jupyter.widget-view+json": {
       "model_id": "141c8adeba6444fdadce5da677a60566",
       "version_major": 2,
       "version_minor": 0
      },
      "text/plain": [
       "merges.txt:   0%|          | 0.00/456k [00:00<?, ?B/s]"
      ]
     },
     "metadata": {},
     "output_type": "display_data"
    },
    {
     "data": {
      "application/vnd.jupyter.widget-view+json": {
       "model_id": "1317f6c06e8d444f849a4bd3cb5173c1",
       "version_major": 2,
       "version_minor": 0
      },
      "text/plain": [
       "tokenizer.json:   0%|          | 0.00/1.36M [00:00<?, ?B/s]"
      ]
     },
     "metadata": {},
     "output_type": "display_data"
    },
    {
     "name": "stderr",
     "output_type": "stream",
     "text": [
      "Hardware accelerator e.g. GPU is available in the environment, but no `device` argument is passed to the `Pipeline` object. Model will be on CPU.\n"
     ]
    },
    {
     "name": "stdout",
     "output_type": "stream",
     "text": [
      "* Running on local URL:  http://127.0.0.1:7890\n",
      "\n",
      "To create a public link, set `share=True` in `launch()`.\n"
     ]
    },
    {
     "data": {
      "text/html": [
       "<div><iframe src=\"http://127.0.0.1:7890/\" width=\"100%\" height=\"500\" allow=\"autoplay; camera; microphone; clipboard-read; clipboard-write;\" frameborder=\"0\" allowfullscreen></iframe></div>"
      ],
      "text/plain": [
       "<IPython.core.display.HTML object>"
      ]
     },
     "metadata": {},
     "output_type": "display_data"
    },
    {
     "data": {
      "text/plain": []
     },
     "execution_count": 40,
     "metadata": {},
     "output_type": "execute_result"
    },
    {
     "name": "stderr",
     "output_type": "stream",
     "text": [
      "Setting `pad_token_id` to `eos_token_id`:None for open-end generation.\n"
     ]
    }
   ],
   "source": [
    "import gradio as gr\n",
    "\n",
    "from transformers import pipeline\n",
    "\n",
    "english_translator = gr.load(name=\"spaces/gradio/english_translator\")\n",
    "english_generator = pipeline(\"text-generation\", model=\"distilgpt2\")\n",
    "\n",
    "def generate_text(text):\n",
    "    english_text = english_generator(text)[0][\"generated_text\"]  \n",
    "    german_text = english_translator(english_text)\n",
    "    return english_text, german_text\n",
    "\n",
    "with gr.Blocks() as demo:\n",
    "    with gr.Row():\n",
    "        with gr.Column():\n",
    "            seed = gr.Text(label=\"Input Phrase\")\n",
    "        with gr.Column():\n",
    "            english = gr.Text(label=\"Generated English Text\")\n",
    "            german = gr.Text(label=\"Generated German Text\")\n",
    "    btn = gr.Button(\"Generate\")\n",
    "    btn.click(generate_text, inputs=[seed], outputs=[english, german])\n",
    "    gr.Examples([\"My name is Clara and I am\"], inputs=[seed])\n",
    "\n",
    "demo.launch()"
   ]
  },
  {
   "cell_type": "markdown",
   "metadata": {},
   "source": [
    "# Additional Features"
   ]
  },
  {
   "cell_type": "markdown",
   "metadata": {
    "execution": {
     "iopub.execute_input": "2024-11-30T07:25:29.081035Z",
     "iopub.status.busy": "2024-11-30T07:25:29.081035Z",
     "iopub.status.idle": "2024-11-30T07:25:29.154804Z",
     "shell.execute_reply": "2024-11-30T07:25:29.153797Z",
     "shell.execute_reply.started": "2024-11-30T07:25:29.081035Z"
    }
   },
   "source": [
    "## Streaming outputs"
   ]
  },
  {
   "cell_type": "code",
   "execution_count": 43,
   "metadata": {
    "execution": {
     "iopub.execute_input": "2024-11-30T07:30:58.139604Z",
     "iopub.status.busy": "2024-11-30T07:30:58.138604Z",
     "iopub.status.idle": "2024-11-30T07:30:58.793493Z",
     "shell.execute_reply": "2024-11-30T07:30:58.793493Z",
     "shell.execute_reply.started": "2024-11-30T07:30:58.139604Z"
    }
   },
   "outputs": [
    {
     "name": "stdout",
     "output_type": "stream",
     "text": [
      "* Running on local URL:  http://127.0.0.1:7891\n",
      "\n",
      "To create a public link, set `share=True` in `launch()`.\n"
     ]
    },
    {
     "data": {
      "text/html": [
       "<div><iframe src=\"http://127.0.0.1:7891/\" width=\"100%\" height=\"500\" allow=\"autoplay; camera; microphone; clipboard-read; clipboard-write;\" frameborder=\"0\" allowfullscreen></iframe></div>"
      ],
      "text/plain": [
       "<IPython.core.display.HTML object>"
      ]
     },
     "metadata": {},
     "output_type": "display_data"
    },
    {
     "data": {
      "text/plain": []
     },
     "execution_count": 43,
     "metadata": {},
     "output_type": "execute_result"
    }
   ],
   "source": [
    "import gradio as gr\n",
    "import numpy as np\n",
    "import time\n",
    "\n",
    "def fake_diffusion(steps):\n",
    "    rng = np.random.default_rng()\n",
    "    for i in range(steps):\n",
    "        time.sleep(1)\n",
    "        image = rng.random(size=(600, 600, 3))\n",
    "        yield image\n",
    "    image = np.ones((1000,1000,3), np.uint8)\n",
    "    image[:] = [255, 124, 0]\n",
    "    yield image\n",
    "\n",
    "demo = gr.Interface(fake_diffusion,\n",
    "                    inputs=gr.Slider(1, 10, 3, step=1),\n",
    "                    outputs=\"image\")\n",
    "\n",
    "demo.launch()"
   ]
  },
  {
   "cell_type": "code",
   "execution_count": 46,
   "metadata": {
    "execution": {
     "iopub.execute_input": "2024-11-30T08:51:53.387537Z",
     "iopub.status.busy": "2024-11-30T08:51:53.372948Z",
     "iopub.status.idle": "2024-11-30T08:51:54.721836Z",
     "shell.execute_reply": "2024-11-30T08:51:54.719832Z",
     "shell.execute_reply.started": "2024-11-30T08:51:53.386473Z"
    },
    "scrolled": true
   },
   "outputs": [
    {
     "name": "stdout",
     "output_type": "stream",
     "text": [
      "* Running on local URL:  http://127.0.0.1:7894\n",
      "\n",
      "To create a public link, set `share=True` in `launch()`.\n"
     ]
    },
    {
     "data": {
      "text/html": [
       "<div><iframe src=\"http://127.0.0.1:7894/\" width=\"100%\" height=\"500\" allow=\"autoplay; camera; microphone; clipboard-read; clipboard-write;\" frameborder=\"0\" allowfullscreen></iframe></div>"
      ],
      "text/plain": [
       "<IPython.core.display.HTML object>"
      ]
     },
     "metadata": {},
     "output_type": "display_data"
    },
    {
     "data": {
      "text/plain": []
     },
     "execution_count": 46,
     "metadata": {},
     "output_type": "execute_result"
    }
   ],
   "source": [
    "import gradio as gr\n",
    "from time import sleep\n",
    "\n",
    "def keep_repeating(audio_file):\n",
    "    for _ in range(10):\n",
    "        sleep(0.5)\n",
    "        yield audio_file\n",
    "\n",
    "gr.Interface(keep_repeating,\n",
    "             gr.Audio(sources=[\"microphone\"], type=\"filepath\"),\n",
    "             gr.Audio(streaming=True, autoplay=True)\n",
    ").launch()"
   ]
  },
  {
   "cell_type": "code",
   "execution_count": 2,
   "metadata": {
    "execution": {
     "iopub.execute_input": "2024-11-30T09:02:01.790727Z",
     "iopub.status.busy": "2024-11-30T09:02:01.789727Z",
     "iopub.status.idle": "2024-11-30T09:02:02.593291Z",
     "shell.execute_reply": "2024-11-30T09:02:02.593291Z",
     "shell.execute_reply.started": "2024-11-30T09:02:01.790727Z"
    }
   },
   "outputs": [
    {
     "name": "stdout",
     "output_type": "stream",
     "text": [
      "* Running on local URL:  http://127.0.0.1:7861\n",
      "\n",
      "To create a public link, set `share=True` in `launch()`.\n"
     ]
    },
    {
     "data": {
      "text/html": [
       "<div><iframe src=\"http://127.0.0.1:7861/\" width=\"100%\" height=\"500\" allow=\"autoplay; camera; microphone; clipboard-read; clipboard-write;\" frameborder=\"0\" allowfullscreen></iframe></div>"
      ],
      "text/plain": [
       "<IPython.core.display.HTML object>"
      ]
     },
     "metadata": {},
     "output_type": "display_data"
    },
    {
     "data": {
      "text/plain": []
     },
     "execution_count": 2,
     "metadata": {},
     "output_type": "execute_result"
    },
    {
     "name": "stdout",
     "output_type": "stream",
     "text": [
      "Created dataset file at: .gradio\\flagged\\dataset1.csv\n"
     ]
    }
   ],
   "source": [
    "import gradio as gr\n",
    "from time import sleep\n",
    "\n",
    "def keep_repeating(video_file):\n",
    "    for _ in range(10):\n",
    "        sleep(0.5)\n",
    "        yield video_file\n",
    "\n",
    "gr.Interface(keep_repeating,\n",
    "             gr.Video(sources=[\"webcam\"], format=\"mp4\"),\n",
    "             gr.Video(streaming=True, autoplay=True)\n",
    ").launch()"
   ]
  },
  {
   "cell_type": "markdown",
   "metadata": {},
   "source": [
    "## Streaming inputs"
   ]
  },
  {
   "cell_type": "code",
   "execution_count": 1,
   "metadata": {
    "execution": {
     "iopub.execute_input": "2024-11-30T09:01:11.950357Z",
     "iopub.status.busy": "2024-11-30T09:01:11.950357Z",
     "iopub.status.idle": "2024-11-30T09:01:18.159751Z",
     "shell.execute_reply": "2024-11-30T09:01:18.159751Z",
     "shell.execute_reply.started": "2024-11-30T09:01:11.950357Z"
    }
   },
   "outputs": [
    {
     "name": "stdout",
     "output_type": "stream",
     "text": [
      "* Running on local URL:  http://127.0.0.1:7860\n",
      "\n",
      "To create a public link, set `share=True` in `launch()`.\n"
     ]
    },
    {
     "data": {
      "text/html": [
       "<div><iframe src=\"http://127.0.0.1:7860/\" width=\"100%\" height=\"500\" allow=\"autoplay; camera; microphone; clipboard-read; clipboard-write;\" frameborder=\"0\" allowfullscreen></iframe></div>"
      ],
      "text/plain": [
       "<IPython.core.display.HTML object>"
      ]
     },
     "metadata": {},
     "output_type": "display_data"
    }
   ],
   "source": [
    "import gradio as gr\n",
    "\n",
    "with gr.Blocks() as demo:\n",
    "    with gr.Row():\n",
    "        with gr.Column():\n",
    "            input_img = gr.Image(label=\"Input\", sources=\"webcam\")\n",
    "        with gr.Column():\n",
    "            output_img = gr.Image(label=\"Output\", streaming=True)\n",
    "        input_img.stream(lambda s: s, input_img, output_img, time_limit=15, stream_every=0.1, concurrency_limit=30)\n",
    "\n",
    "if __name__ == \"__main__\":\n",
    "\n",
    "    demo.launch()"
   ]
  },
  {
   "cell_type": "markdown",
   "metadata": {},
   "source": [
    "### A Realistic Image Demo"
   ]
  },
  {
   "cell_type": "code",
   "execution_count": 51,
   "metadata": {
    "execution": {
     "iopub.execute_input": "2024-11-30T08:59:24.333069Z",
     "iopub.status.busy": "2024-11-30T08:59:24.332069Z",
     "iopub.status.idle": "2024-11-30T08:59:25.181060Z",
     "shell.execute_reply": "2024-11-30T08:59:25.181060Z",
     "shell.execute_reply.started": "2024-11-30T08:59:24.333069Z"
    }
   },
   "outputs": [
    {
     "name": "stdout",
     "output_type": "stream",
     "text": [
      "* Running on local URL:  http://127.0.0.1:7897\n",
      "\n",
      "To create a public link, set `share=True` in `launch()`.\n"
     ]
    },
    {
     "data": {
      "text/html": [
       "<div><iframe src=\"http://127.0.0.1:7897/\" width=\"100%\" height=\"500\" allow=\"autoplay; camera; microphone; clipboard-read; clipboard-write;\" frameborder=\"0\" allowfullscreen></iframe></div>"
      ],
      "text/plain": [
       "<IPython.core.display.HTML object>"
      ]
     },
     "metadata": {},
     "output_type": "display_data"
    },
    {
     "data": {
      "text/plain": []
     },
     "execution_count": 51,
     "metadata": {},
     "output_type": "execute_result"
    }
   ],
   "source": [
    "import gradio as gr\n",
    "import numpy as np\n",
    "import cv2  #OpenCV（Open Source Computer Vision Library）是一个开源的计算机视觉和 机器学习 软件库。\n",
    "\n",
    "def transform_cv2(frame, transform):\n",
    "    if transform == \"cartoon\":\n",
    "        # prepare color\n",
    "        img_color = cv2.pyrDown(cv2.pyrDown(frame))\n",
    "        for _ in range(6):\n",
    "            img_color = cv2.bilateralFilter(img_color, 9, 9, 7)\n",
    "        img_color = cv2.pyrUp(cv2.pyrUp(img_color))\n",
    "\n",
    "        # prepare edges\n",
    "        img_edges = cv2.cvtColor(frame, cv2.COLOR_RGB2GRAY)\n",
    "        img_edges = cv2.adaptiveThreshold(\n",
    "            cv2.medianBlur(img_edges, 7),\n",
    "            255,\n",
    "            cv2.ADAPTIVE_THRESH_MEAN_C,\n",
    "            cv2.THRESH_BINARY,\n",
    "            9,\n",
    "            2,\n",
    "        )\n",
    "        img_edges = cv2.cvtColor(img_edges, cv2.COLOR_GRAY2RGB)\n",
    "        # combine color and edges\n",
    "        img = cv2.bitwise_and(img_color, img_edges)\n",
    "        return img\n",
    "    elif transform == \"edges\":\n",
    "        # perform edge detection\n",
    "        img = cv2.cvtColor(cv2.Canny(frame, 100, 200), cv2.COLOR_GRAY2BGR)\n",
    "        return img\n",
    "    else:\n",
    "        return np.flipud(frame)\n",
    "\n",
    "with gr.Blocks() as demo:\n",
    "    with gr.Row():\n",
    "        with gr.Column():\n",
    "            transform = gr.Dropdown(choices=[\"cartoon\", \"edges\", \"flip\"],\n",
    "                                    value=\"flip\", label=\"Transformation\")\n",
    "            input_img = gr.Image(sources=[\"webcam\"], type=\"numpy\")\n",
    "        with gr.Column():\n",
    "            output_img = gr.Image(streaming=True)\n",
    "        dep = input_img.stream(transform_cv2, [input_img, transform], [output_img],\n",
    "                                time_limit=30, stream_every=0.1, concurrency_limit=30)\n",
    "\n",
    "demo.launch()\n"
   ]
  },
  {
   "cell_type": "markdown",
   "metadata": {},
   "source": [
    "### Unified Image Demos"
   ]
  },
  {
   "cell_type": "code",
   "execution_count": 3,
   "metadata": {
    "execution": {
     "iopub.execute_input": "2024-11-30T09:05:23.840019Z",
     "iopub.status.busy": "2024-11-30T09:05:23.840019Z",
     "iopub.status.idle": "2024-11-30T09:05:24.563218Z",
     "shell.execute_reply": "2024-11-30T09:05:24.561674Z",
     "shell.execute_reply.started": "2024-11-30T09:05:23.840019Z"
    }
   },
   "outputs": [
    {
     "name": "stdout",
     "output_type": "stream",
     "text": [
      "* Running on local URL:  http://127.0.0.1:7862\n",
      "\n",
      "To create a public link, set `share=True` in `launch()`.\n"
     ]
    },
    {
     "data": {
      "text/html": [
       "<div><iframe src=\"http://127.0.0.1:7862/\" width=\"100%\" height=\"500\" allow=\"autoplay; camera; microphone; clipboard-read; clipboard-write;\" frameborder=\"0\" allowfullscreen></iframe></div>"
      ],
      "text/plain": [
       "<IPython.core.display.HTML object>"
      ]
     },
     "metadata": {},
     "output_type": "display_data"
    },
    {
     "data": {
      "text/plain": []
     },
     "execution_count": 3,
     "metadata": {},
     "output_type": "execute_result"
    }
   ],
   "source": [
    "import gradio as gr\n",
    "import numpy as np\n",
    "import cv2\n",
    "\n",
    "def transform_cv2(frame, transform):\n",
    "    if transform == \"cartoon\":\n",
    "        # prepare color\n",
    "        img_color = cv2.pyrDown(cv2.pyrDown(frame))\n",
    "        for _ in range(6):\n",
    "            img_color = cv2.bilateralFilter(img_color, 9, 9, 7)\n",
    "        img_color = cv2.pyrUp(cv2.pyrUp(img_color))\n",
    "\n",
    "        # prepare edges\n",
    "        img_edges = cv2.cvtColor(frame, cv2.COLOR_RGB2GRAY)\n",
    "        img_edges = cv2.adaptiveThreshold(\n",
    "            cv2.medianBlur(img_edges, 7),\n",
    "            255,\n",
    "            cv2.ADAPTIVE_THRESH_MEAN_C,\n",
    "            cv2.THRESH_BINARY,\n",
    "            9,\n",
    "            2,\n",
    "        )\n",
    "        img_edges = cv2.cvtColor(img_edges, cv2.COLOR_GRAY2RGB)\n",
    "        # combine color and edges\n",
    "        img = cv2.bitwise_and(img_color, img_edges)\n",
    "        return img\n",
    "    elif transform == \"edges\":\n",
    "        # perform edge detection\n",
    "        img = cv2.cvtColor(cv2.Canny(frame, 100, 200), cv2.COLOR_GRAY2BGR)\n",
    "        return img\n",
    "    else:\n",
    "        return np.flipud(frame)\n",
    "\n",
    "\n",
    "css=\"\"\".my-group {max-width: 500px !important; max-height: 500px !important;}\n",
    "            .my-column {display: flex !important; justify-content: center !important; align-items: center !important};\"\"\"\n",
    "\n",
    "with gr.Blocks(css=css) as demo:\n",
    "    with gr.Column(elem_classes=[\"my-column\"]):\n",
    "        with gr.Group(elem_classes=[\"my-group\"]):\n",
    "            transform = gr.Dropdown(choices=[\"cartoon\", \"edges\", \"flip\"],\n",
    "                                    value=\"flip\", label=\"Transformation\")\n",
    "            input_img = gr.Image(sources=[\"webcam\"], type=\"numpy\", streaming=True)\n",
    "    input_img.stream(transform_cv2, [input_img, transform], [input_img], time_limit=30, stream_every=0.1)\n",
    "\n",
    "\n",
    "demo.launch()\n"
   ]
  },
  {
   "cell_type": "markdown",
   "metadata": {},
   "source": [
    "### Keeping track of past inputs or outputs"
   ]
  },
  {
   "cell_type": "markdown",
   "metadata": {},
   "source": [
    "transcribe这个函数找不到，下面的代码报错。"
   ]
  },
  {
   "cell_type": "code",
   "execution_count": 4,
   "metadata": {
    "execution": {
     "iopub.execute_input": "2024-11-30T09:07:14.915473Z",
     "iopub.status.busy": "2024-11-30T09:07:14.915473Z",
     "iopub.status.idle": "2024-11-30T09:07:15.619826Z",
     "shell.execute_reply": "2024-11-30T09:07:15.619826Z",
     "shell.execute_reply.started": "2024-11-30T09:07:14.915473Z"
    }
   },
   "outputs": [
    {
     "name": "stdout",
     "output_type": "stream",
     "text": [
      "* Running on local URL:  http://127.0.0.1:7863\n",
      "\n",
      "To create a public link, set `share=True` in `launch()`.\n"
     ]
    },
    {
     "data": {
      "text/html": [
       "<div><iframe src=\"http://127.0.0.1:7863/\" width=\"100%\" height=\"500\" allow=\"autoplay; camera; microphone; clipboard-read; clipboard-write;\" frameborder=\"0\" allowfullscreen></iframe></div>"
      ],
      "text/plain": [
       "<IPython.core.display.HTML object>"
      ]
     },
     "metadata": {},
     "output_type": "display_data"
    },
    {
     "data": {
      "text/plain": []
     },
     "execution_count": 4,
     "metadata": {},
     "output_type": "execute_result"
    },
    {
     "name": "stderr",
     "output_type": "stream",
     "text": [
      "Traceback (most recent call last):\n",
      "  File \"C:\\Users\\xu6\\AppData\\Local\\miniconda3\\envs\\dev312\\Lib\\site-packages\\gradio\\queueing.py\", line 624, in process_events\n",
      "    response = await route_utils.call_process_api(\n",
      "               ^^^^^^^^^^^^^^^^^^^^^^^^^^^^^^^^^^^\n",
      "  File \"C:\\Users\\xu6\\AppData\\Local\\miniconda3\\envs\\dev312\\Lib\\site-packages\\gradio\\route_utils.py\", line 323, in call_process_api\n",
      "    output = await app.get_blocks().process_api(\n",
      "             ^^^^^^^^^^^^^^^^^^^^^^^^^^^^^^^^^^^\n",
      "  File \"C:\\Users\\xu6\\AppData\\Local\\miniconda3\\envs\\dev312\\Lib\\site-packages\\gradio\\blocks.py\", line 2016, in process_api\n",
      "    result = await self.call_function(\n",
      "             ^^^^^^^^^^^^^^^^^^^^^^^^^\n",
      "  File \"C:\\Users\\xu6\\AppData\\Local\\miniconda3\\envs\\dev312\\Lib\\site-packages\\gradio\\blocks.py\", line 1563, in call_function\n",
      "    prediction = await anyio.to_thread.run_sync(  # type: ignore\n",
      "                 ^^^^^^^^^^^^^^^^^^^^^^^^^^^^^^^^^^^^^^^^^^^^^^^\n",
      "  File \"C:\\Users\\xu6\\AppData\\Local\\miniconda3\\envs\\dev312\\Lib\\site-packages\\anyio\\to_thread.py\", line 56, in run_sync\n",
      "    return await get_async_backend().run_sync_in_worker_thread(\n",
      "           ^^^^^^^^^^^^^^^^^^^^^^^^^^^^^^^^^^^^^^^^^^^^^^^^^^^^\n",
      "  File \"C:\\Users\\xu6\\AppData\\Local\\miniconda3\\envs\\dev312\\Lib\\site-packages\\anyio\\_backends\\_asyncio.py\", line 2441, in run_sync_in_worker_thread\n",
      "    return await future\n",
      "           ^^^^^^^^^^^^\n",
      "  File \"C:\\Users\\xu6\\AppData\\Local\\miniconda3\\envs\\dev312\\Lib\\site-packages\\anyio\\_backends\\_asyncio.py\", line 943, in run\n",
      "    result = context.run(func, *args)\n",
      "             ^^^^^^^^^^^^^^^^^^^^^^^^\n",
      "  File \"C:\\Users\\xu6\\AppData\\Local\\miniconda3\\envs\\dev312\\Lib\\site-packages\\gradio\\utils.py\", line 865, in wrapper\n",
      "    response = f(*args, **kwargs)\n",
      "               ^^^^^^^^^^^^^^^^^^\n",
      "  File \"C:\\Users\\xu6\\AppData\\Local\\Temp\\ipykernel_49288\\3213948705.py\", line 2, in transcribe_handler\n",
      "    next_text = transcribe(current_audio, history=state)\n",
      "                ^^^^^^^^^^\n",
      "NameError: name 'transcribe' is not defined. Did you mean: 'transcript'?\n"
     ]
    }
   ],
   "source": [
    "import gradio as gr \n",
    "\n",
    "def transcribe_handler(current_audio, state, transcript):\n",
    "    next_text = transcribe(current_audio, history=state)\n",
    "    state.append(current_audio)\n",
    "    state = state[-3:]\n",
    "    return state, transcript + next_text\n",
    "\n",
    "with gr.Blocks() as demo:\n",
    "    with gr.Row():\n",
    "        with gr.Column():\n",
    "            mic = gr.Audio(sources=\"microphone\")\n",
    "            state = gr.State(value=[])\n",
    "        with gr.Column():\n",
    "            transcript = gr.Textbox(label=\"Transcript\")\n",
    "    mic.stream(transcribe_handler, [mic, state, transcript], [state, transcript],\n",
    "               time_limit=10, stream_every=1)\n",
    "\n",
    "\n",
    "demo.launch()"
   ]
  },
  {
   "cell_type": "markdown",
   "metadata": {},
   "source": [
    "## Alerts "
   ]
  },
  {
   "cell_type": "code",
   "execution_count": 6,
   "metadata": {
    "execution": {
     "iopub.execute_input": "2024-11-30T09:25:08.732746Z",
     "iopub.status.busy": "2024-11-30T09:25:08.725537Z",
     "iopub.status.idle": "2024-11-30T09:25:09.330935Z",
     "shell.execute_reply": "2024-11-30T09:25:09.330935Z",
     "shell.execute_reply.started": "2024-11-30T09:25:08.731748Z"
    }
   },
   "outputs": [
    {
     "name": "stdout",
     "output_type": "stream",
     "text": [
      "* Running on local URL:  http://127.0.0.1:7865\n",
      "\n",
      "To create a public link, set `share=True` in `launch()`.\n"
     ]
    },
    {
     "data": {
      "text/html": [
       "<div><iframe src=\"http://127.0.0.1:7865/\" width=\"100%\" height=\"500\" allow=\"autoplay; camera; microphone; clipboard-read; clipboard-write;\" frameborder=\"0\" allowfullscreen></iframe></div>"
      ],
      "text/plain": [
       "<IPython.core.display.HTML object>"
      ]
     },
     "metadata": {},
     "output_type": "display_data"
    }
   ],
   "source": [
    "import gradio as gr\n",
    "\n",
    "def failure():\n",
    "    raise gr.Error(\"This should fail!\")\n",
    "\n",
    "def exception():\n",
    "    raise ValueError(\"Something went wrong\")\n",
    "\n",
    "def success():\n",
    "    return True\n",
    "\n",
    "def warning_fn():\n",
    "    gr.Warning(\"This is a warning!\")\n",
    "\n",
    "def info_fn():\n",
    "    gr.Info(\"This is some info\")\n",
    "\n",
    "with gr.Blocks() as demo:\n",
    "    gr.Markdown(\"Used in E2E tests of success event trigger. The then event covered in chatbot E2E tests.\"\n",
    "                \" Also testing that the status modals show up.\")\n",
    "    with gr.Row():\n",
    "        result = gr.Textbox(label=\"Result\")\n",
    "        result_2 = gr.Textbox(label=\"Consecutive Event\")\n",
    "    with gr.Row():\n",
    "        success_btn = gr.Button(value=\"Trigger Success\")\n",
    "        success_btn_2 = gr.Button(value=\"Trigger Consecutive Success\")\n",
    "        failure_btn = gr.Button(value=\"Trigger Failure\")\n",
    "        failure_exception = gr.Button(value=\"Trigger Failure With ValueError\")\n",
    "    with gr.Row():\n",
    "        trigger_warning = gr.Button(value=\"Trigger Warning\")\n",
    "        trigger_info = gr.Button(value=\"Trigger Info\")\n",
    "\n",
    "        success_btn_2.click(success, None, None).success(lambda: \"First Event Trigered\", None, result).success(lambda: \"Consecutive Event Triggered\", None, result_2)\n",
    "        success_btn.click(success, None, None).success(lambda: \"Success event triggered\", inputs=None, outputs=result)\n",
    "        failure_btn.click(failure, None, None).success(lambda: \"Should not be triggered\", inputs=None, outputs=result)\n",
    "        failure_exception.click(exception, None, None)\n",
    "        trigger_warning.click(warning_fn, None, None)\n",
    "        trigger_info.click(info_fn, None, None)\n",
    "\n",
    "if __name__ == \"__main__\":\n",
    "    demo.launch(show_error=True)"
   ]
  },
  {
   "cell_type": "markdown",
   "metadata": {},
   "source": [
    "## Progress Bars"
   ]
  },
  {
   "cell_type": "code",
   "execution_count": 7,
   "metadata": {
    "execution": {
     "iopub.execute_input": "2024-11-30T09:25:28.995286Z",
     "iopub.status.busy": "2024-11-30T09:25:28.995286Z",
     "iopub.status.idle": "2024-11-30T09:25:29.553619Z",
     "shell.execute_reply": "2024-11-30T09:25:29.553619Z",
     "shell.execute_reply.started": "2024-11-30T09:25:28.995286Z"
    }
   },
   "outputs": [
    {
     "name": "stdout",
     "output_type": "stream",
     "text": [
      "* Running on local URL:  http://127.0.0.1:7866\n",
      "\n",
      "To create a public link, set `share=True` in `launch()`.\n"
     ]
    },
    {
     "data": {
      "text/html": [
       "<div><iframe src=\"http://127.0.0.1:7866/\" width=\"100%\" height=\"500\" allow=\"autoplay; camera; microphone; clipboard-read; clipboard-write;\" frameborder=\"0\" allowfullscreen></iframe></div>"
      ],
      "text/plain": [
       "<IPython.core.display.HTML object>"
      ]
     },
     "metadata": {},
     "output_type": "display_data"
    },
    {
     "data": {
      "text/plain": []
     },
     "execution_count": 7,
     "metadata": {},
     "output_type": "execute_result"
    }
   ],
   "source": [
    "import gradio as gr\n",
    "import time\n",
    " \n",
    "def slowly_reverse(word, progress=gr.Progress()):\n",
    "    progress(0, desc=\"Starting\")\n",
    "    time.sleep(1)\n",
    "    progress(0.05)\n",
    "    new_string = \"\"\n",
    "    for letter in progress.tqdm(word, desc=\"Reversing\"):\n",
    "        time.sleep(0.25)\n",
    "        new_string = letter + new_string  \n",
    "    return new_string\n",
    "\n",
    "demo = gr.Interface(slowly_reverse, gr.Text(), gr.Text())\n",
    "\n",
    "demo.launch()"
   ]
  },
  {
   "cell_type": "markdown",
   "metadata": {},
   "source": [
    "### Batch functions "
   ]
  },
  {
   "cell_type": "code",
   "execution_count": 9,
   "metadata": {
    "execution": {
     "iopub.execute_input": "2024-11-30T09:28:15.704988Z",
     "iopub.status.busy": "2024-11-30T09:28:15.703978Z",
     "iopub.status.idle": "2024-11-30T09:28:16.550187Z",
     "shell.execute_reply": "2024-11-30T09:28:16.550187Z",
     "shell.execute_reply.started": "2024-11-30T09:28:15.704988Z"
    }
   },
   "outputs": [
    {
     "name": "stdout",
     "output_type": "stream",
     "text": [
      "* Running on local URL:  http://127.0.0.1:7867\n",
      "\n",
      "To create a public link, set `share=True` in `launch()`.\n"
     ]
    },
    {
     "data": {
      "text/html": [
       "<div><iframe src=\"http://127.0.0.1:7867/\" width=\"100%\" height=\"500\" allow=\"autoplay; camera; microphone; clipboard-read; clipboard-write;\" frameborder=\"0\" allowfullscreen></iframe></div>"
      ],
      "text/plain": [
       "<IPython.core.display.HTML object>"
      ]
     },
     "metadata": {},
     "output_type": "display_data"
    },
    {
     "data": {
      "text/plain": []
     },
     "execution_count": 9,
     "metadata": {},
     "output_type": "execute_result"
    }
   ],
   "source": [
    "import gradio as gr\n",
    "import time\n",
    "\n",
    "def trim_words(words, lens):\n",
    "    trimmed_words = []\n",
    "    time.sleep(5)\n",
    "    for w, l in zip(words, lens):\n",
    "        trimmed_words.append(w[:int(l)])\n",
    "    return [trimmed_words]\n",
    "\n",
    "with gr.Blocks() as demo:\n",
    "    with gr.Row():\n",
    "        word = gr.Textbox(label=\"word\")\n",
    "        leng = gr.Number(label=\"leng\")\n",
    "        output = gr.Textbox(label=\"Output\")\n",
    "    with gr.Row():\n",
    "        run = gr.Button()\n",
    "\n",
    "    event = run.click(trim_words, [word, leng], output, batch=True, max_batch_size=16)\n",
    "\n",
    "demo.launch()"
   ]
  },
  {
   "cell_type": "markdown",
   "metadata": {},
   "source": [
    "## Resource Cleanup"
   ]
  },
  {
   "cell_type": "markdown",
   "metadata": {
    "execution": {
     "iopub.execute_input": "2024-11-30T09:54:05.214165Z",
     "iopub.status.busy": "2024-11-30T09:54:05.214165Z",
     "iopub.status.idle": "2024-11-30T09:54:05.219864Z",
     "shell.execute_reply": "2024-11-30T09:54:05.219864Z",
     "shell.execute_reply.started": "2024-11-30T09:54:05.214165Z"
    }
   },
   "source": [
    "Gradio 可以定期为你清理缓存。这个参数是一个形式为 （frequency, age） 的元组，二者都以秒数表示。每隔 frequency 秒，如果自文件创建以来已超过 age 秒，这个 Blocks 实例创建的临时文件将被删除。例如，将其设置为 (86400, 86400) 将会每天删除一次临时文件，前提是这些文件已经存在超过一天。此外，当服务器重启时，缓存将被完全删除。\n"
   ]
  },
  {
   "cell_type": "code",
   "execution_count": 17,
   "metadata": {
    "execution": {
     "iopub.execute_input": "2024-11-30T09:56:45.132054Z",
     "iopub.status.busy": "2024-11-30T09:56:45.131055Z",
     "iopub.status.idle": "2024-11-30T09:56:45.707556Z",
     "shell.execute_reply": "2024-11-30T09:56:45.707556Z",
     "shell.execute_reply.started": "2024-11-30T09:56:45.132054Z"
    }
   },
   "outputs": [
    {
     "name": "stdout",
     "output_type": "stream",
     "text": [
      "* Running on local URL:  http://127.0.0.1:7873\n",
      "\n",
      "To create a public link, set `share=True` in `launch()`.\n"
     ]
    },
    {
     "data": {
      "text/html": [
       "<div><iframe src=\"http://127.0.0.1:7873/\" width=\"100%\" height=\"500\" allow=\"autoplay; camera; microphone; clipboard-read; clipboard-write;\" frameborder=\"0\" allowfullscreen></iframe></div>"
      ],
      "text/plain": [
       "<IPython.core.display.HTML object>"
      ]
     },
     "metadata": {},
     "output_type": "display_data"
    },
    {
     "data": {
      "text/plain": []
     },
     "execution_count": 17,
     "metadata": {},
     "output_type": "execute_result"
    },
    {
     "name": "stdout",
     "output_type": "stream",
     "text": [
      "STATE DELETED\n"
     ]
    }
   ],
   "source": [
    "from __future__ import annotations\n",
    "import gradio as gr\n",
    "import numpy as np\n",
    "from PIL import Image\n",
    "from pathlib import Path\n",
    "import secrets\n",
    "import shutil\n",
    "\n",
    "# current_dir = Path(__file__).parent\n",
    "current_dir = Path('./tmp') \n",
    "\n",
    "def generate_random_img(history: list[Image.Image], request: gr.Request):\n",
    "    \"\"\"Generate a random red, green, blue, orange, yellor or purple image.\"\"\"\n",
    "    colors = [(255, 0, 0), (0, 255, 0), (0, 0, 255), (255, 165, 0), (255, 255, 0), (128, 0, 128)]\n",
    "    color = colors[np.random.randint(0, len(colors))]\n",
    "    img = Image.new('RGB', (100, 100), color)\n",
    "\n",
    "    user_dir: Path = current_dir / str(request.session_hash)\n",
    "    user_dir.mkdir(exist_ok=True)\n",
    "    path = user_dir / f\"{secrets.token_urlsafe(8)}.webp\"\n",
    "\n",
    "    img.save(path)\n",
    "    history.append(img)\n",
    "\n",
    "    return img, history, history\n",
    "\n",
    "def delete_directory(req: gr.Request):\n",
    "    if not req.username:\n",
    "        return\n",
    "    user_dir: Path = current_dir / req.username\n",
    "    shutil.rmtree(str(user_dir))\n",
    "\n",
    "with gr.Blocks(delete_cache=(60, 120)) as demo:\n",
    "    gr.Markdown(\"\"\"# State Cleanup Demo\n",
    "                🖼️ Images are saved in a user-specific directory and deleted when the users closes the page via demo.unload.\n",
    "                \"\"\")\n",
    "    with gr.Row():\n",
    "        with gr.Column(scale=1):\n",
    "            with gr.Row():\n",
    "                img = gr.Image(label=\"Generated Image\", height=300, width=300)\n",
    "            with gr.Row():\n",
    "                gen = gr.Button(value=\"Generate\")\n",
    "            with gr.Row():\n",
    "                history = gr.Gallery(label=\"Previous Generations\", height=500, columns=10)\n",
    "                state = gr.State(value=[], delete_callback=lambda v: print(\"STATE DELETED\"))\n",
    "\n",
    "    demo.load(generate_random_img, [state], [img, state, history])\n",
    "    gen.click(generate_random_img, [state], [img, state, history])\n",
    "    demo.unload(delete_directory)\n",
    "\n",
    "demo.launch()\n"
   ]
  },
  {
   "cell_type": "code",
   "execution_count": null,
   "metadata": {},
   "outputs": [],
   "source": []
  }
 ],
 "metadata": {
  "kernelspec": {
   "display_name": "Python 3 (ipykernel)",
   "language": "python",
   "name": "python3"
  },
  "language_info": {
   "codemirror_mode": {
    "name": "ipython",
    "version": 3
   },
   "file_extension": ".py",
   "mimetype": "text/x-python",
   "name": "python",
   "nbconvert_exporter": "python",
   "pygments_lexer": "ipython3",
   "version": "3.12.7"
  }
 },
 "nbformat": 4,
 "nbformat_minor": 4
}
