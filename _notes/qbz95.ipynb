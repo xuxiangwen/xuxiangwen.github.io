{
 "cells": [
  {
   "cell_type": "markdown",
   "metadata": {},
   "source": [
    "# qbz95 User Guide"
   ]
  },
  {
   "cell_type": "code",
   "execution_count": null,
   "metadata": {},
   "outputs": [],
   "source": [
    "import sys\n",
    "\n",
    "base_path = '/tf/eipi10/qbz95'\n",
    "sys.path.append(base_path)\n",
    "\n",
    "from qbz95 import config\n",
    "import pandas as pd\n",
    "config = config.get_config('jupyter')\n",
    "pd.set_option('display.width', 1000)\n",
    "\n",
    "%matplotlib inline\n",
    "\n",
    "# 代码自动重新加载\n",
    "%load_ext autoreload\n",
    "%autoreload 2\n",
    "\n",
    "# #当module有新的方法的时候，需要运行下面方法。\n",
    "# %reload_ext autoreload\n"
   ]
  },
  {
   "cell_type": "markdown",
   "metadata": {},
   "source": [
    "## 1. 数据\n",
    "\n",
    "### MNIST\n",
    "\n",
    "#### 下载数据"
   ]
  },
  {
   "cell_type": "code",
   "execution_count": null,
   "metadata": {},
   "outputs": [],
   "source": [
    "import math\n",
    "import matplotlib.pyplot as plt\n",
    "import numpy as np\n",
    "import os\n",
    "\n",
    "from PIL import Image\n",
    "from qbz95.ml3.utils.data.datasets import MNIST\n",
    "\n",
    "mnist_path = os.path.join(base_path, 'data/mnist')\n",
    "train_data_path, train_label_path, test_data_path, test_label_path = MNIST.download(mnist_path)\n",
    "print(train_data_path)"
   ]
  },
  {
   "cell_type": "markdown",
   "metadata": {},
   "source": [
    "#### 获取数据集\n"
   ]
  },
  {
   "cell_type": "code",
   "execution_count": null,
   "metadata": {},
   "outputs": [],
   "source": [
    "def show_images(images, num=10, cols=5):\n",
    "    rows = math.ceil(num / cols)\n",
    "    for i in range(num):\n",
    "        img, label = images[i]\n",
    "        ax = plt.subplot(rows, cols, i+1)\n",
    "        ax.set_title(label)\n",
    "        ax.axis('off')    \n",
    "        ax.imshow(img) \n",
    "\n",
    "    plt.tight_layout()\n",
    "    plt.show()\n",
    "\n",
    "def print_image_property(image):\n",
    "    print('format={}, size={}, mode={}'.format(image.format, image.size, image.mode))"
   ]
  },
  {
   "cell_type": "code",
   "execution_count": null,
   "metadata": {},
   "outputs": [],
   "source": [
    "train_data = MNIST.extract_data(train_data_path, 60000)\n",
    "train_label = MNIST.extract_label(train_label_path, 60000)\n",
    "print(train_data.shape)\n",
    "\n",
    "# 其中的关键是np.uint8。由于灰度的图片最大值是8位二进制。\n",
    "train_images = [(Image.fromarray(img.astype(np.uint8), 'L'), label) for img, label in zip(train_data, train_label)]\n",
    "print_image_property(train_images[0][0])\n",
    "\n",
    "show_images(train_images)"
   ]
  },
  {
   "cell_type": "markdown",
   "metadata": {},
   "source": [
    "下面和torch中内置的MNIST进行比较"
   ]
  },
  {
   "cell_type": "code",
   "execution_count": 12,
   "metadata": {},
   "outputs": [
    {
     "name": "stdout",
     "output_type": "stream",
     "text": [
      "format=None, size=(28, 28), mode=L\n"
     ]
    },
    {
     "data": {
      "image/png": "[encoded data removed]",
      "text/plain": [
       "<Figure size 432x288 with 10 Axes>"
      ]
     },
     "metadata": {
      "needs_background": "light"
     },
     "output_type": "display_data"
    }
   ],
   "source": [
    "import torch\n",
    "import torchvision\n",
    "\n",
    "mnist_dataset = torchvision.datasets.MNIST(mnist_path, train=True, download=True)\n",
    "\n",
    "print_image_property(mnist_dataset[0][0])\n",
    "show_images(mnist_dataset)\n",
    "\n",
    "img_array1 = np.asarray(train_images[0][0])\n",
    "img_array2 = np.asarray(mnist_dataset[0][0])\n",
    "np.testing.assert_array_equal(img_array1, img_array2)"
   ]
  },
  {
   "cell_type": "markdown",
   "metadata": {},
   "source": [
    "自定义数据集MNIST和torch的MNIST比较"
   ]
  },
  {
   "cell_type": "code",
   "execution_count": 11,
   "metadata": {},
   "outputs": [
    {
     "name": "stderr",
     "output_type": "stream",
     "text": [
      "2020-02-26 00:06:34,132: INFO: Extracting /tf/eipi10/qbz95/data/mnist/train-labels-idx1-ubyte.gz\n",
      "2020-02-26 00:06:34,134: INFO: Extracting /tf/eipi10/qbz95/data/mnist/train-images-idx3-ubyte.gz\n"
     ]
    },
    {
     "name": "stdout",
     "output_type": "stream",
     "text": [
      "format=None, size=(28, 28), mode=L\n"
     ]
    },
    {
     "data": {
      "image/png": "[encoded data removed]",
      "text/plain": [
       "<Figure size 432x288 with 10 Axes>"
      ]
     },
     "metadata": {
      "needs_background": "light"
     },
     "output_type": "display_data"
    }
   ],
   "source": [
    "my_mnist_dataset = MNIST(mnist_path, train=True)\n",
    "\n",
    "print_image_property(my_mnist_dataset[0][0])\n",
    "show_images(my_mnist_dataset)\n",
    "\n",
    "img_array3 = np.asarray(my_mnist_dataset[0][0])\n",
    "np.testing.assert_array_equal(img_array2, img_array3)"
   ]
  },
  {
   "cell_type": "code",
   "execution_count": null,
   "metadata": {},
   "outputs": [],
   "source": []
  }
 ],
 "metadata": {
  "kernelspec": {
   "display_name": "Python 3",
   "language": "python",
   "name": "python3"
  },
  "language_info": {
   "codemirror_mode": {
    "name": "ipython",
    "version": 3
   },
   "file_extension": ".py",
   "mimetype": "text/x-python",
   "name": "python",
   "nbconvert_exporter": "python",
   "pygments_lexer": "ipython3",
   "version": "3.6.8"
  }
 },
 "nbformat": 4,
 "nbformat_minor": 2
}
