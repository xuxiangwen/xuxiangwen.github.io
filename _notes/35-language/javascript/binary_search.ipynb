{
 "cells": [
  {
   "cell_type": "code",
   "execution_count": 3,
   "metadata": {
    "ExecuteTime": {
     "end_time": "2020-12-04T05:46:08.498540Z",
     "start_time": "2020-12-04T05:46:08.327Z"
    }
   },
   "outputs": [
    {
     "data": {
      "text/plain": [
       "10"
      ]
     },
     "execution_count": 3,
     "metadata": {},
     "output_type": "execute_result"
    }
   ],
   "source": [
    "\n",
    "list.length"
   ]
  },
  {
   "cell_type": "code",
   "execution_count": 11,
   "metadata": {
    "ExecuteTime": {
     "end_time": "2020-12-04T11:21:42.472909Z",
     "start_time": "2020-12-04T11:21:42.238Z"
    }
   },
   "outputs": [
    {
     "name": "stdout",
     "output_type": "stream",
     "text": [
      "2\n",
      "6\n",
      "5\n",
      "8\n",
      "0\n",
      "0\n",
      "9\n",
      "-1\n",
      "9\n"
     ]
    }
   ],
   "source": [
    "function binary_search(x, item) {\n",
    "    low = 0\n",
    "    high = x.length-1\n",
    "    while (low<high){\n",
    "        mid = parseInt((low + high)/2)\n",
    "        if (x[mid]==item) {\n",
    "            high = mid        \n",
    "        } else if (x[mid]>item) {\n",
    "            high = mid-1                             \n",
    "        } else {\n",
    "            low = mid+1\n",
    "        }\n",
    "    }  \n",
    "    if (x[low]>item) return low -1\n",
    "    return low\n",
    "}\n",
    "\n",
    "var list = [1, 3, 5, 5, 5, 7, 9, 11, 13, 15];\n",
    "\n",
    "console.log(binary_search(list, 5))\n",
    "console.log(binary_search(list, 9))\n",
    "console.log(binary_search(list, 8))\n",
    "console.log(binary_search(list, 14))\n",
    "console.log(binary_search(list, 2))\n",
    "console.log(binary_search(list, 1))\n",
    "console.log(binary_search(list, 165))\n",
    "console.log(binary_search(list, 0))\n",
    "console.log(binary_search(list, 16))\n",
    "\n",
    "console.assert(binary_search(list, 5)==2,\"1\")\n",
    "console.assert(binary_search(list, 9)==6,\"2\")\n",
    "console.assert(binary_search(list, 8)==5,\"3\")\n",
    "console.assert(binary_search(list, 14)==8,\"4\")\n",
    "console.assert(binary_search(list, 2)==0,\"5\")\n",
    "console.assert(binary_search(list, 1)==-0,\"6\")\n",
    "console.assert(binary_search(list, 15)==9,\"7\")\n",
    "console.assert(binary_search(list, 0)==-1,\"8\")\n",
    "console.assert(binary_search(list, 16)==9,\"9\")"
   ]
  },
  {
   "cell_type": "code",
   "execution_count": 9,
   "metadata": {
    "ExecuteTime": {
     "end_time": "2020-12-04T06:19:17.845932Z",
     "start_time": "2020-12-04T06:19:17.658Z"
    }
   },
   "outputs": [
    {
     "name": "stdout",
     "output_type": "stream",
     "text": [
      "5 9\n",
      "8 9\n",
      "9 9\n",
      "8\n"
     ]
    }
   ],
   "source": [
    "var list = [1, 3, 5, 5, 5, 7, 9, 11, 13, 15];\n",
    "\n",
    "function binary_search(x, item) {\n",
    "    low = 0\n",
    "    high = x.length-1\n",
    "    while (low<high){\n",
    "        mid = parseInt((low + high)/2)\n",
    "        if (x[mid]==item) {\n",
    "            high = mid        \n",
    "        } else if (x[mid]>item) {\n",
    "            high = mid-1                             \n",
    "        } else {\n",
    "            low = mid+1\n",
    "        }\n",
    "        console.log(low, high)\n",
    "    }    \n",
    "    if (x[low]>item) return low -1 \n",
    "    return low\n",
    "}\n",
    "\n",
    "\n",
    "console.log(binary_search(list, 14))\n"
   ]
  },
  {
   "cell_type": "code",
   "execution_count": 12,
   "metadata": {
    "ExecuteTime": {
     "end_time": "2020-12-04T12:59:12.511212Z",
     "start_time": "2020-12-04T12:59:12.306Z"
    }
   },
   "outputs": [
    {
     "data": {
      "text/plain": [
       "10"
      ]
     },
     "execution_count": 12,
     "metadata": {},
     "output_type": "execute_result"
    }
   ],
   "source": [
    "var list = [1, 3, 5, 5, 5, 7, 9, 11, 13, 15];\n",
    "list.length"
   ]
  },
  {
   "cell_type": "code",
   "execution_count": 13,
   "metadata": {
    "ExecuteTime": {
     "end_time": "2020-12-04T12:59:19.318751Z",
     "start_time": "2020-12-04T12:59:19.114Z"
    }
   },
   "outputs": [
    {
     "data": {
      "text/plain": [
       "0"
      ]
     },
     "execution_count": 13,
     "metadata": {},
     "output_type": "execute_result"
    }
   ],
   "source": [
    "var list = [];\n",
    "list.length"
   ]
  },
  {
   "cell_type": "code",
   "execution_count": null,
   "metadata": {},
   "outputs": [],
   "source": []
  }
 ],
 "metadata": {
  "kernelspec": {
   "display_name": "Javascript (Node.js)",
   "language": "javascript",
   "name": "javascript"
  },
  "language_info": {
   "file_extension": ".js",
   "mimetype": "application/javascript",
   "name": "javascript",
   "version": "8.10.0"
  },
  "toc": {
   "base_numbering": 1,
   "nav_menu": {},
   "number_sections": true,
   "sideBar": true,
   "skip_h1_title": false,
   "title_cell": "Table of Contents",
   "title_sidebar": "Contents",
   "toc_cell": false,
   "toc_position": {},
   "toc_section_display": true,
   "toc_window_display": false
  }
 },
 "nbformat": 4,
 "nbformat_minor": 4
}
