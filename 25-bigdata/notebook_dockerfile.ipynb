{
 "cells": [
  {
   "cell_type": "markdown",
   "metadata": {},
   "source": [
    "# 使用 Dockerfile 定制镜像 https://yeasy.gitbooks.io/docker_practice/content/image/build.html?q="
   ]
  },
  {
   "cell_type": "markdown",
   "metadata": {},
   "source": [
    "mkdir -p ~/docker/notebook/  \n",
    "cd ~/docker/notebook/ \n",
    "touch Dockerfile\n",
    "vim Dockerfile\n",
    "\n",
    "#paste the following script into ~/docker/notebook/Dockerfile\n",
    "docker build -t tensorflow-notebook:v1 -f ./"
   ]
  },
  {
   "cell_type": "markdown",
   "metadata": {},
   "source": [
    "FROM jupyter/tensorflow-notebook\n",
    "RUN \n",
    "    \n",
    "    \n",
    "#pip install -U keras --proxy http://web-proxy.rose.hp.com:8080    "
   ]
  }
 ],
 "metadata": {
  "kernelspec": {
   "display_name": "Python 3",
   "language": "python",
   "name": "python3"
  },
  "language_info": {
   "codemirror_mode": {
    "name": "ipython",
    "version": 3
   },
   "file_extension": ".py",
   "mimetype": "text/x-python",
   "name": "python",
   "nbconvert_exporter": "python",
   "pygments_lexer": "ipython3",
   "version": "3.6.2"
  }
 },
 "nbformat": 4,
 "nbformat_minor": 2
}
