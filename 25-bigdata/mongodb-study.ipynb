{
 "cells": [
  {
   "cell_type": "markdown",
   "metadata": {},
   "source": [
    "# PyMongo"
   ]
  },
  {
   "cell_type": "code",
   "execution_count": 1,
   "metadata": {},
   "outputs": [],
   "source": [
    "from pymongo import MongoClient, ASCENDING, DESCENDING\n",
    "from datetime import datetime\n",
    "\n",
    "server = \"mongodb://172.17.0.1:27017\"\n",
    "# server = \"mongodb://15.15.165.35:27017\"\n",
    "client = MongoClient(server)\n",
    "db = client.test"
   ]
  },
  {
   "cell_type": "markdown",
   "metadata": {},
   "source": [
    "## Insert Data with PyMongo"
   ]
  },
  {
   "cell_type": "code",
   "execution_count": 2,
   "metadata": {},
   "outputs": [
    {
     "name": "stdout",
     "output_type": "stream",
     "text": [
      "5a0bcb110c167805014a46ec\n"
     ]
    }
   ],
   "source": [
    "result = db.abc.insert_one(\n",
    "    {\n",
    "        \"address\": {\n",
    "            \"street\": \"2 Avenue\",\n",
    "            \"zipcode\": \"10075\",\n",
    "            \"building\": \"1480\",\n",
    "            \"coord\": [-73.9557413, 40.7720266]\n",
    "        },\n",
    "        \"borough\": \"Manhattan\",\n",
    "        \"cuisine\": \"Italian\",\n",
    "        \"grades\": [\n",
    "            {\n",
    "                \"date\": datetime.strptime(\"2014-10-01\", \"%Y-%m-%d\"),\n",
    "                \"grade\": \"A\",\n",
    "                \"score\": 11\n",
    "            },\n",
    "            {\n",
    "                \"date\": datetime.strptime(\"2014-01-16\", \"%Y-%m-%d\"),\n",
    "                \"grade\": \"B\",\n",
    "                \"score\": 17\n",
    "            }\n",
    "        ],\n",
    "        \"name\": \"Vella\",\n",
    "        \"restaurant_id\": \"41704620\"\n",
    "    }\n",
    ")\n",
    "print(result.inserted_id)"
   ]
  },
  {
   "cell_type": "code",
   "execution_count": 28,
   "metadata": {},
   "outputs": [],
   "source": [
    "## Find or Query Data with PyMongo "
   ]
  },
  {
   "cell_type": "code",
   "execution_count": 32,
   "metadata": {},
   "outputs": [
    {
     "name": "stdout",
     "output_type": "stream",
     "text": [
      "{'_id': ObjectId('5a0ace5d37cd621475e75b23'), 'address': {'building': '1011', 'coord': [-73.9623333, 40.7757194], 'street': 'Madison Avenue', 'zipcode': '10075'}, 'borough': 'Manhattan', 'cuisine': 'American', 'grades': [{'date': datetime.datetime(2014, 5, 2, 0, 0), 'grade': 'A', 'score': 10}, {'date': datetime.datetime(2013, 10, 21, 0, 0), 'grade': 'B', 'score': 15}, {'date': datetime.datetime(2013, 4, 19, 0, 0), 'grade': 'B', 'score': 0}, {'date': datetime.datetime(2012, 11, 21, 0, 0), 'grade': 'C', 'score': 40}, {'date': datetime.datetime(2012, 4, 9, 0, 0), 'grade': 'B', 'score': 17}], 'name': 'Viand Cafe', 'restaurant_id': '40369753'}\n",
      "{'_id': ObjectId('5a0ace5d37cd621475e7670c'), 'address': {'building': '1526', 'coord': [-73.95202990000001, 40.772737], 'street': '1 Avenue', 'zipcode': '10075'}, 'borough': 'Manhattan', 'cuisine': 'Pizza/Italian', 'grades': [{'date': datetime.datetime(2014, 11, 19, 0, 0), 'grade': 'Z', 'score': 50}, {'date': datetime.datetime(2014, 6, 6, 0, 0), 'grade': 'B', 'score': 18}, {'date': datetime.datetime(2013, 10, 15, 0, 0), 'grade': 'B', 'score': 22}, {'date': datetime.datetime(2013, 4, 24, 0, 0), 'grade': 'B', 'score': 18}, {'date': datetime.datetime(2012, 7, 6, 0, 0), 'grade': 'A', 'score': 13}, {'date': datetime.datetime(2012, 1, 25, 0, 0), 'grade': 'A', 'score': 5}], 'name': 'Italian Village Restaurant Pizzeria', 'restaurant_id': '40825792'}\n",
      "{'_id': ObjectId('5a0ace5d37cd621475e76f56'), 'address': {'building': '1462', 'coord': [-73.953769, 40.77037], 'street': '1 Avenue', 'zipcode': '10075'}, 'borough': 'Manhattan', 'cuisine': 'American', 'grades': [{'date': datetime.datetime(2015, 1, 16, 0, 0), 'grade': 'Z', 'score': 19}, {'date': datetime.datetime(2014, 9, 2, 0, 0), 'grade': 'C', 'score': 57}, {'date': datetime.datetime(2014, 3, 20, 0, 0), 'grade': 'A', 'score': 12}, {'date': datetime.datetime(2013, 9, 12, 0, 0), 'grade': 'B', 'score': 21}, {'date': datetime.datetime(2013, 4, 5, 0, 0), 'grade': 'B', 'score': 15}, {'date': datetime.datetime(2012, 10, 22, 0, 0), 'grade': 'A', 'score': 9}, {'date': datetime.datetime(2012, 5, 21, 0, 0), 'grade': 'B', 'score': 25}], 'name': 'Three Star Diner', 'restaurant_id': '41097286'}\n",
      "{'_id': ObjectId('5a0ace5e37cd621475e797a8'), 'address': {'building': '1496', 'coord': [-73.9528732, 40.7716597], 'street': '1 Avenue', 'zipcode': '10075'}, 'borough': 'Manhattan', 'cuisine': 'Bagels/Pretzels', 'grades': [{'date': datetime.datetime(2014, 11, 28, 0, 0), 'grade': 'A', 'score': 12}, {'date': datetime.datetime(2014, 6, 25, 0, 0), 'grade': 'A', 'score': 9}, {'date': datetime.datetime(2013, 12, 27, 0, 0), 'grade': 'B', 'score': 27}, {'date': datetime.datetime(2013, 7, 29, 0, 0), 'grade': 'A', 'score': 13}, {'date': datetime.datetime(2013, 2, 7, 0, 0), 'grade': 'C', 'score': 60}, {'date': datetime.datetime(2012, 5, 21, 0, 0), 'grade': 'A', 'score': 12}], 'name': 'East Side Bagel Cafe', 'restaurant_id': '41650784'}\n",
      "4\n"
     ]
    }
   ],
   "source": [
    "cursor = db.restaurants.find({\"borough\": \"Manhattan\", \n",
    "                              \"address.zipcode\": \"10075\", \n",
    "                              \"grades.grade\": \"B\", \n",
    "                              \"grades.score\": {\"$lt\": 10} ,\n",
    "                              \"grades.score\": {\"$gt\": 30},   #看上去，如果对于同一个字段的条件，最后一个才生效\n",
    "                             }).sort([(\"borough\", ASCENDING),\n",
    "                                      (\"address.zipcode\", ASCENDING)\n",
    "                                     ])\n",
    "i = 0\n",
    "for document in cursor: \n",
    "    i = i + 1\n",
    "    print(document)\n",
    "print(i)    \n"
   ]
  },
  {
   "cell_type": "code",
   "execution_count": 73,
   "metadata": {},
   "outputs": [
    {
     "name": "stdout",
     "output_type": "stream",
     "text": [
      "{'_id': ObjectId('5a0ba6d5532ce2a8549ccabc'), 'address': {'building': '1', 'coord': [-74.00939799999999, 40.715763], 'street': 'Hudson Street', 'zipcode': '10013'}, 'borough': 'Manhattan', 'cuisine': 'Italian', 'grades': [{'date': datetime.datetime(2014, 3, 10, 0, 0), 'grade': 'A', 'score': 9}, {'date': datetime.datetime(2013, 9, 26, 0, 0), 'grade': 'B', 'score': 19}, {'date': datetime.datetime(2013, 3, 19, 0, 0), 'grade': 'C', 'score': 64}, {'date': datetime.datetime(2012, 5, 8, 0, 0), 'grade': 'A', 'score': 12}, {'date': datetime.datetime(2011, 12, 13, 0, 0), 'grade': 'B', 'score': 18}, {'date': datetime.datetime(2011, 7, 5, 0, 0), 'grade': 'A', 'score': 5}], 'name': 'Acappella Restaurant', 'restaurant_id': '40399334'}\n",
      "{'_id': ObjectId('5a0ba6d5532ce2a8549cd131'), 'address': {'building': '231', 'coord': [-73.9772294, 40.7527262], 'street': 'Grand Central Station', 'zipcode': '10017'}, 'borough': 'Manhattan', 'cuisine': 'Italian', 'grades': [{'date': datetime.datetime(2015, 1, 7, 0, 0), 'grade': 'Z', 'score': 20}, {'date': datetime.datetime(2014, 7, 3, 0, 0), 'grade': 'B', 'score': 14}, {'date': datetime.datetime(2013, 12, 21, 0, 0), 'grade': 'A', 'score': 13}, {'date': datetime.datetime(2013, 5, 17, 0, 0), 'grade': 'C', 'score': 76}, {'date': datetime.datetime(2012, 4, 20, 0, 0), 'grade': 'A', 'score': 12}], 'name': 'Two Boots Grand Central', 'restaurant_id': '40725591'}\n",
      "{'_id': ObjectId('5a0ba6d5532ce2a8549ceda1'), 'address': {'building': '3628', 'coord': [-73.9480576, 40.8291193], 'street': 'Broadway', 'zipcode': '10031'}, 'borough': 'Manhattan', 'cuisine': 'Italian', 'grades': [{'date': datetime.datetime(2014, 6, 7, 0, 0), 'grade': 'A', 'score': 10}, {'date': datetime.datetime(2013, 11, 26, 0, 0), 'grade': 'A', 'score': 12}, {'date': datetime.datetime(2013, 6, 17, 0, 0), 'grade': 'A', 'score': 8}, {'date': datetime.datetime(2012, 12, 10, 0, 0), 'grade': 'C', 'score': 61}, {'date': datetime.datetime(2012, 4, 16, 0, 0), 'grade': 'B', 'score': 18}, {'date': datetime.datetime(2011, 11, 29, 0, 0), 'grade': 'B', 'score': 14}], 'name': 'Tonelli Cafe Bar', 'restaurant_id': '41418376'}\n",
      "3\n"
     ]
    }
   ],
   "source": [
    "# Logical OR\n",
    "cursor = db.restaurants.find({\"$or\": [{\"cuisine\": \"Italian\"}, {\"address.zipcode\": \"10075\"}], \n",
    "                              \"borough\": \"Manhattan\",\n",
    "                              \"grades.grade\": \"B\", \n",
    "                              \"grades.score\": {\"$gt\": 60}\n",
    "                             })\n",
    "\n",
    "i = 0\n",
    "for document in cursor: \n",
    "    i = i + 1\n",
    "    print(document)\n",
    "print(i)    "
   ]
  },
  {
   "cell_type": "markdown",
   "metadata": {},
   "source": [
    "## Update Data with PyMongo"
   ]
  },
  {
   "cell_type": "code",
   "execution_count": 52,
   "metadata": {},
   "outputs": [
    {
     "name": "stdout",
     "output_type": "stream",
     "text": [
      "1\n",
      "1\n"
     ]
    }
   ],
   "source": [
    "result = db.restaurants.update_one(\n",
    "    {\"name\": \"Juni\"},\n",
    "    {\n",
    "        \"$set\": {\"cuisine\": \"American (New)\"},\n",
    "        \"$currentDate\": {\"lastModified\": True}  #为何没有发现哪里有这个字段。\n",
    "    }\n",
    ")\n",
    "\n",
    "print(result.matched_count)\n",
    "print(result.modified_count)"
   ]
  },
  {
   "cell_type": "code",
   "execution_count": 44,
   "metadata": {},
   "outputs": [
    {
     "name": "stdout",
     "output_type": "stream",
     "text": [
      "1\n",
      "0\n"
     ]
    }
   ],
   "source": [
    "result = db.restaurants.update_one(\n",
    "    {\"restaurant_id\": \"41156888\"},\n",
    "    {\"$set\": {\"address.street\": \"East 32st Street\"}}\n",
    ")\n",
    "print(result.matched_count)\n",
    "print(result.modified_count)"
   ]
  },
  {
   "cell_type": "code",
   "execution_count": 79,
   "metadata": {},
   "outputs": [
    {
     "name": "stdout",
     "output_type": "stream",
     "text": [
      "433\n",
      "433\n"
     ]
    }
   ],
   "source": [
    "result = db.restaurants.update_many(\n",
    "    {\"address.zipcode\": \"10016\"},\n",
    "    {\n",
    "        \"$set\": {\"cuisine\": \"Category To Be Determined\"},\n",
    "        \"$currentDate\": {\"lastModified\": True}\n",
    "    }\n",
    ")\n",
    "print(result.matched_count)\n",
    "print(result.modified_count)"
   ]
  },
  {
   "cell_type": "markdown",
   "metadata": {},
   "source": [
    "Replace将会完全替换以前的文档，这样以前的数据就完全没有了"
   ]
  },
  {
   "cell_type": "code",
   "execution_count": 77,
   "metadata": {},
   "outputs": [
    {
     "name": "stdout",
     "output_type": "stream",
     "text": [
      "1\n",
      "1\n"
     ]
    }
   ],
   "source": [
    "result = db.restaurants.replace_one(\n",
    "    {\"restaurant_id\": \"41704620\"},\n",
    "    {\n",
    "        \"name\": \"Vella 2\",\n",
    "        \"address\": {\n",
    "            \"coord\": [-73.9557413, 40.7720266],\n",
    "            \"building\": \"1480\",\n",
    "            \"street\": \"2 Avenue\",\n",
    "            \"zipcode\": \"10075\"\n",
    "        }\n",
    "    }\n",
    ")\n",
    "\n",
    "print(result.matched_count)\n",
    "print(result.modified_count)"
   ]
  },
  {
   "cell_type": "markdown",
   "metadata": {},
   "source": [
    "## Remove Data with PyMongo\n",
    "\n"
   ]
  },
  {
   "cell_type": "code",
   "execution_count": 63,
   "metadata": {},
   "outputs": [
    {
     "name": "stdout",
     "output_type": "stream",
     "text": [
      "831\n"
     ]
    }
   ],
   "source": [
    "result = db.restaurants.delete_many({\"borough\": \"Manhattan\", \"grades.score\": {\"$gt\": 30}})\n",
    "print(result.deleted_count)\n",
    "\n",
    "## Remove All Documents\n",
    "# result = db.restaurants.delete_many({})"
   ]
  },
  {
   "cell_type": "markdown",
   "metadata": {},
   "source": [
    "### Drop a Collection"
   ]
  },
  {
   "cell_type": "code",
   "execution_count": null,
   "metadata": {},
   "outputs": [],
   "source": [
    "#db.restaurants.drop()"
   ]
  },
  {
   "cell_type": "markdown",
   "metadata": {},
   "source": [
    "## Data Aggregation with PyMongo"
   ]
  },
  {
   "cell_type": "code",
   "execution_count": 64,
   "metadata": {},
   "outputs": [
    {
     "name": "stdout",
     "output_type": "stream",
     "text": [
      "{'_id': None, 'count': 2}\n",
      "{'_id': 'Missing', 'count': 51}\n",
      "{'_id': 'Staten Island', 'count': 969}\n",
      "{'_id': 'Brooklyn', 'count': 6086}\n",
      "{'_id': 'Queens', 'count': 5656}\n",
      "{'_id': 'Bronx', 'count': 2338}\n",
      "{'_id': 'Manhattan', 'count': 9433}\n",
      "7\n"
     ]
    }
   ],
   "source": [
    "cursor = db.restaurants.aggregate(\n",
    "    [\n",
    "        {\"$group\": {\"_id\": \"$borough\", \"count\": {\"$sum\": 1}}}\n",
    "    ]\n",
    ")\n",
    "\n",
    "i = 0\n",
    "for document in cursor: \n",
    "    i = i + 1\n",
    "    print(document)\n",
    "print(i)    \n"
   ]
  },
  {
   "cell_type": "code",
   "execution_count": 65,
   "metadata": {},
   "outputs": [
    {
     "name": "stdout",
     "output_type": "stream",
     "text": [
      "{'_id': '11377', 'count': 1}\n",
      "{'_id': '11103', 'count': 1}\n",
      "{'_id': '11106', 'count': 3}\n",
      "{'_id': '11368', 'count': 1}\n",
      "{'_id': '11101', 'count': 2}\n",
      "5\n"
     ]
    }
   ],
   "source": [
    "cursor = db.restaurants.aggregate(\n",
    "    [\n",
    "        {\"$match\": {\"borough\": \"Queens\", \"cuisine\": \"Brazilian\"}},\n",
    "        {\"$group\": {\"_id\": \"$address.zipcode\", \"count\": {\"$sum\": 1}}}\n",
    "    ]\n",
    ")\n",
    "\n",
    "i = 0\n",
    "for document in cursor: \n",
    "    i = i + 1\n",
    "    print(document)\n",
    "print(i)  "
   ]
  },
  {
   "cell_type": "markdown",
   "metadata": {},
   "source": [
    "## Indexes with PyMongo"
   ]
  },
  {
   "cell_type": "code",
   "execution_count": 70,
   "metadata": {},
   "outputs": [
    {
     "data": {
      "text/plain": [
       "'cuisine_1_address.zipcode_-1'"
      ]
     },
     "execution_count": 70,
     "metadata": {},
     "output_type": "execute_result"
    }
   ],
   "source": [
    "db.restaurants.create_index([(\"cuisine\", ASCENDING)])\n",
    "db.restaurants.create_index([\n",
    "    (\"cuisine\", ASCENDING),\n",
    "    (\"address.zipcode\", DESCENDING)\n",
    "])"
   ]
  },
  {
   "cell_type": "markdown",
   "metadata": {},
   "source": [
    "# mongo version\n",
    "## import dataset by mongoimport"
   ]
  },
  {
   "cell_type": "markdown",
   "metadata": {},
   "source": [
    "wget https://raw.githubusercontent.com/mongodb/docs-assets/primer-dataset/primer-dataset.json\n",
    "mongoimport --db test --collection restaurants --drop --file ./primer-dataset.json"
   ]
  },
  {
   "cell_type": "markdown",
   "metadata": {},
   "source": [
    "mongo\n",
    "use test"
   ]
  },
  {
   "cell_type": "markdown",
   "metadata": {},
   "source": [
    "## Insert Data with the mongo Shell"
   ]
  },
  {
   "cell_type": "markdown",
   "metadata": {},
   "source": [
    "\n",
    "db.restaurants.insert(\n",
    "   {\n",
    "      \"address\" : {\n",
    "         \"street\" : \"2 Avenue\",\n",
    "         \"zipcode\" : \"10075\",\n",
    "         \"building\" : \"1480\",\n",
    "         \"coord\" : [ -73.9557413, 40.7720266 ]\n",
    "      },\n",
    "      \"borough\" : \"Manhattan\",\n",
    "      \"cuisine\" : \"Italian\",\n",
    "      \"grades\" : [\n",
    "         {\n",
    "            \"date\" : ISODate(\"2014-10-01T00:00:00Z\"),\n",
    "            \"grade\" : \"A\",\n",
    "            \"score\" : 11\n",
    "         },\n",
    "         {\n",
    "            \"date\" : ISODate(\"2014-01-16T00:00:00Z\"),\n",
    "            \"grade\" : \"B\",\n",
    "            \"score\" : 17\n",
    "         }\n",
    "      ],\n",
    "      \"name\" : \"Vella\",\n",
    "      \"restaurant_id\" : \"41704620\"\n",
    "   }\n",
    ")"
   ]
  },
  {
   "cell_type": "markdown",
   "metadata": {},
   "source": [
    "## Find or Query Data with the mongo Shell"
   ]
  },
  {
   "cell_type": "code",
   "execution_count": 4,
   "metadata": {},
   "outputs": [
    {
     "ename": "SyntaxError",
     "evalue": "invalid syntax (<ipython-input-4-f1b5f6347d1f>, line 4)",
     "output_type": "error",
     "traceback": [
      "\u001b[0;36m  File \u001b[0;32m\"<ipython-input-4-f1b5f6347d1f>\"\u001b[0;36m, line \u001b[0;32m4\u001b[0m\n\u001b[0;31m    \"grades.score\": {$lt: 10} ,\u001b[0m\n\u001b[0m                     ^\u001b[0m\n\u001b[0;31mSyntaxError\u001b[0m\u001b[0;31m:\u001b[0m invalid syntax\n"
     ]
    }
   ],
   "source": [
    "db.restaurants.find({\"borough\": \"Manhattan\", \n",
    "              \"address.zipcode\": \"10075\", \n",
    "              \"grades.grade\": \"B\", \n",
    "              \"grades.score\": {$lt: 10} ,\n",
    "              \"grades.score\": {$gt: 30},   \n",
    "             }).sort({\"borough\": 1, \"address.zipcode\": 1})\n",
    "\n"
   ]
  },
  {
   "cell_type": "code",
   "execution_count": 3,
   "metadata": {},
   "outputs": [
    {
     "data": {
      "text/plain": [
       "<pymongo.cursor.Cursor at 0x7f4bd06c25f8>"
      ]
     },
     "execution_count": 3,
     "metadata": {},
     "output_type": "execute_result"
    }
   ],
   "source": [
    " db.restaurants.find({\"$or\": [{\"cuisine\": \"Italian\"}, {\"address.zipcode\": \"10075\"}], \n",
    "                              \"borough\": \"Manhattan\",\n",
    "                              \"grades.grade\": \"B\", \n",
    "                              \"grades.score\": {\"$gt\": 60}\n",
    "                             })"
   ]
  },
  {
   "cell_type": "markdown",
   "metadata": {},
   "source": [
    "## Update Data with the mongo Shell"
   ]
  },
  {
   "cell_type": "markdown",
   "metadata": {},
   "source": [
    "db.restaurants.update(\n",
    "    {\"address.zipcode\": \"10016\"},\n",
    "    {\n",
    "        \"$set\": {\"cuisine\": \"Category To Be Determined\"},\n",
    "        \"$currentDate\": {\"lastModified\": true}\n",
    "    }\n",
    ")\n",
    "\n",
    "db.restaurants.update(\n",
    "    {\"address.zipcode\": \"10016\"},\n",
    "    {\n",
    "        \"$set\": {\"cuisine\": \"Category To Be Determined\"},\n",
    "        \"$currentDate\": {\"lastModified\": true}\n",
    "    },\n",
    "    { multi: true}\n",
    ")"
   ]
  },
  {
   "cell_type": "markdown",
   "metadata": {},
   "source": [
    "result = db.restaurants.update(\n",
    "    {\"restaurant_id\": \"41704620\"},\n",
    "    {\n",
    "        \"name\": \"Vella 2\",\n",
    "        \"address\": {\n",
    "            \"coord\": [-73.9557413, 40.7720266],\n",
    "            \"building\": \"1480\",\n",
    "            \"street\": \"2 Avenue\",\n",
    "            \"zipcode\": \"10075\"\n",
    "        }\n",
    "    }\n",
    ")"
   ]
  },
  {
   "cell_type": "markdown",
   "metadata": {},
   "source": [
    "## Remove Data with the mongo Shell"
   ]
  },
  {
   "cell_type": "markdown",
   "metadata": {},
   "source": [
    "db.restaurants.remove({\"borough\": \"Manhattan\", \"grades.score\": {\"$gt\": 30}})\n",
    "\n",
    "#db.restaurants.remove( { } )\n",
    "#db.restaurants.drop()"
   ]
  },
  {
   "cell_type": "markdown",
   "metadata": {},
   "source": [
    "## Data Aggregation with the mongo Shell"
   ]
  },
  {
   "cell_type": "markdown",
   "metadata": {},
   "source": [
    "db.restaurants.aggregate(\n",
    "    [\n",
    "        {\"$group\": {\"_id\": \"$borough\", \"count\": {\"$sum\": 1}}}\n",
    "    ]\n",
    ")\n",
    "\n",
    "db.restaurants.aggregate(\n",
    "    [\n",
    "        {\"$match\": {\"borough\": \"Queens\", \"cuisine\": \"Brazilian\"}},\n",
    "        {\"$group\": {\"_id\": \"$address.zipcode\", \"count\": {\"$sum\": 1}}}\n",
    "    ]\n",
    ")"
   ]
  },
  {
   "cell_type": "markdown",
   "metadata": {},
   "source": [
    "## Indexes with the mongo Shell"
   ]
  },
  {
   "cell_type": "markdown",
   "metadata": {},
   "source": [
    "db.restaurants.createIndex( { \"cuisine\": 1 } )\n",
    "db.restaurants.createIndex( { \"cuisine\": 1, \"address.zipcode\": -1 } )"
   ]
  },
  {
   "cell_type": "markdown",
   "metadata": {},
   "source": [
    "## Drivers"
   ]
  },
  {
   "cell_type": "markdown",
   "metadata": {},
   "source": [
    "https://docs.mongodb.com/getting-started/shell/drivers/\n",
    "https://docs.mongodb.com/manual/"
   ]
  }
 ],
 "metadata": {
  "kernelspec": {
   "display_name": "Python 3",
   "language": "python",
   "name": "python3"
  },
  "language_info": {
   "codemirror_mode": {
    "name": "ipython",
    "version": 3
   },
   "file_extension": ".py",
   "mimetype": "text/x-python",
   "name": "python",
   "nbconvert_exporter": "python",
   "pygments_lexer": "ipython3",
   "version": "3.5.2"
  }
 },
 "nbformat": 4,
 "nbformat_minor": 2
}
