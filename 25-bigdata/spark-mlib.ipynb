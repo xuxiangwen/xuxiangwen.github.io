{
 "cells": [
  {
   "cell_type": "code",
   "execution_count": 4,
   "metadata": {
    "collapsed": false
   },
   "outputs": [
    {
     "ename": "<console>",
     "evalue": "26: error: object Correlation is not a member of package org.apache.spark.ml.stat",
     "output_type": "error",
     "traceback": [
      "       import org.apache.spark.ml.stat.Correlation",
      "              ^",
      ""
     ]
    }
   ],
   "source": [
    "import org.apache.spark.ml.linalg.{Matrix, Vectors}\n",
    "import org.apache.spark.ml.stat.Correlation\n",
    "import org.apache.spark.sql.Row"
   ]
  },
  {
   "cell_type": "code",
   "execution_count": 2,
   "metadata": {
    "collapsed": false
   },
   "outputs": [
    {
     "ename": "<console>",
     "evalue": "26: error: not found: value Vectors",
     "output_type": "error",
     "traceback": [
      "         Vectors.sparse(4, Seq((0, 1.0), (3, -2.0))),",
      "         ^",
      "<console>:27: error: not found: value Vectors",
      "         Vectors.dense(4.0, 5.0, 0.0, 3.0),",
      "         ^",
      "<console>:28: error: not found: value Vectors",
      "         Vectors.dense(6.0, 7.0, 0.0, 8.0),",
      "         ^",
      "<console>:29: error: not found: value Vectors",
      "         Vectors.sparse(4, Seq((0, 9.0), (3, 1.0)))",
      "         ^",
      ""
     ]
    }
   ],
   "source": [
    "val data = Seq(\n",
    "  Vectors.sparse(4, Seq((0, 1.0), (3, -2.0))),\n",
    "  Vectors.dense(4.0, 5.0, 0.0, 3.0),\n",
    "  Vectors.dense(6.0, 7.0, 0.0, 8.0),\n",
    "  Vectors.sparse(4, Seq((0, 9.0), (3, 1.0)))\n",
    ")"
   ]
  },
  {
   "cell_type": "code",
   "execution_count": null,
   "metadata": {
    "collapsed": true
   },
   "outputs": [],
   "source": []
  }
 ],
 "metadata": {
  "kernelspec": {
   "display_name": "spylon-kernel",
   "language": "scala",
   "name": "spylon-kernel"
  },
  "language_info": {
   "codemirror_mode": "text/x-scala",
   "file_extension": ".scala",
   "help_links": [
    {
     "text": "MetaKernel Magics",
     "url": "https://github.com/calysto/metakernel/blob/master/metakernel/magics/README.md"
    }
   ],
   "mimetype": "text/x-scala",
   "name": "scala",
   "pygments_lexer": "scala",
   "version": "1.0"
  }
 },
 "nbformat": 4,
 "nbformat_minor": 2
}
