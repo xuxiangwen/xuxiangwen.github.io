{
 "cells": [
  {
   "cell_type": "markdown",
   "metadata": {},
   "source": [
    "# [Introduction](https://radimrehurek.com/gensim/intro.html)\n",
    "\n",
    "Gensim是一个免费Python库，它能自动的从文档中抽取语义主题，高效而且方便。\n",
    "\n",
    "Gensim is a free Python library designed to automatically extract semantic topics from documents, as efficiently (computer-wise) and painlessly (human-wise) as possible.\n",
    "\n",
    "Gensim的算法有： Word2Vec, FastText, Latent Semantic Analysis (LSI, LSA, see LsiModel), Latent Dirichlet Allocation (LDA, see LdaModel) 等等。通过对statistical co-occurrence patterns的分析，这些算法可以自动的发现文章中的语义结构，而且是无监督的（unsupervised），这将大大节省人工的工作。\n",
    "\n",
    "## 核心概念\n",
    "\n",
    "- Corpus ： A collection of digital documents。语料的数字化表示（向量，矩阵等）\n",
    "- Vector space model ： 向量空间模型\n",
    "- Gensim sparse vector, Bag-of-words vector： 稀疏向量可以大大减少内存空间的使用\n",
    "- Gensim streamed corpus： 除了常见的list，NumPy array， Pandas dataframe等，gensim可以支持streamed object。\n",
    "- Model, Transformation：文档可以表示成为向量，而模型可以被看成从一个向量空间向另外一个向量空间转化（Transformation）的过程。\n",
    "\n",
    "# [Tutorials](https://radimrehurek.com/gensim/tutorial.html)\n",
    "\n",
    "详细内容如下：\n",
    "\n",
    "- Corpora and Vector Spaces\n",
    "  - [From Strings to Vectors](https://radimrehurek.com/gensim/tut1.html#from-strings-to-vectors)\n",
    "  - [Corpus Streaming – One Document at a Time](https://radimrehurek.com/gensim/tut1.html#corpus-streaming-one-document-at-a-time)\n",
    "  - [Corpus Formats](https://radimrehurek.com/gensim/tut1.html#corpus-formats)\n",
    "  - [Compatibility with NumPy and SciPy](https://radimrehurek.com/gensim/tut1.html#compatibility-with-numpy-and-scipy)\n",
    "- Topics and Transformations\n",
    "  - [Transformation interface](https://radimrehurek.com/gensim/tut2.html#transformation-interface)\n",
    "  - [Available transformations](https://radimrehurek.com/gensim/tut2.html#available-transformations)\n",
    "- Similarity Queries\n",
    "  - [Similarity interface](https://radimrehurek.com/gensim/tut3.html#similarity-interface)\n",
    "  - [Where next?](https://radimrehurek.com/gensim/tut3.html#where-next)\n",
    "- Experiments on the English Wikipedia\n",
    "  - [Preparing the corpus](https://radimrehurek.com/gensim/wiki.html#preparing-the-corpus)\n",
    "  - [Latent Semantic Analysis](https://radimrehurek.com/gensim/wiki.html#latent-semantic-analysis)\n",
    "  - [Latent Dirichlet Allocation](https://radimrehurek.com/gensim/wiki.html#latent-dirichlet-allocation)\n",
    "- Distributed Computing\n",
    "  - [Why distributed computing?](https://radimrehurek.com/gensim/distributed.html#why-distributed-computing)\n",
    "  - [Prerequisites](https://radimrehurek.com/gensim/distributed.html#prerequisites)\n",
    "  - [Core concepts](https://radimrehurek.com/gensim/distributed.html#core-concepts)\n",
    "  - [Available distributed algorithms](https://radimrehurek.com/gensim/distributed.html#available-distributed-algorithms)\n",
    "\n",
    "**Preliminaries**"
   ]
  },
  {
   "cell_type": "code",
   "execution_count": 1,
   "metadata": {},
   "outputs": [],
   "source": [
    "import logging\n",
    "logging.basicConfig(format='%(asctime)s : %(levelname)s : %(message)s', level=logging.INFO)"
   ]
  },
  {
   "cell_type": "markdown",
   "metadata": {},
   "source": [
    "下面演示了文档tfidf算法和简单的相似度模型。"
   ]
  },
  {
   "cell_type": "code",
   "execution_count": 4,
   "metadata": {},
   "outputs": [
    {
     "name": "stderr",
     "output_type": "stream",
     "text": [
      "2019-10-12 08:11:35,483 : INFO : collecting document frequencies\n",
      "2019-10-12 08:11:35,484 : INFO : PROGRESS: processing document #0\n",
      "2019-10-12 08:11:35,485 : INFO : calculating IDF weights for 9 documents and 12 features (28 matrix non-zeros)\n",
      "2019-10-12 08:11:35,487 : INFO : creating sparse index\n",
      "2019-10-12 08:11:35,488 : INFO : creating sparse matrix from corpus\n",
      "2019-10-12 08:11:35,488 : INFO : PROGRESS: at document #0\n",
      "2019-10-12 08:11:35,490 : INFO : created <9x12 sparse matrix of type '<class 'numpy.float32'>'\n",
      "\twith 28 stored elements in Compressed Sparse Row format>\n"
     ]
    },
    {
     "name": "stdout",
     "output_type": "stream",
     "text": [
      "[(0, 0.8075244024440723), (4, 0.5898341626740045)]\n",
      "[(0, 0.4662244), (1, 0.19139354), (2, 0.2460055), (3, 0.82094586), (4, 0.0), (5, 0.0), (6, 0.0), (7, 0.0), (8, 0.0)]\n"
     ]
    }
   ],
   "source": [
    "from gensim import models\n",
    "from gensim import similarities\n",
    "\n",
    "corpus = [[(0, 1.0), (1, 1.0), (2, 1.0)],\n",
    "          [(2, 1.0), (3, 1.0), (4, 1.0), (5, 1.0), (6, 1.0), (8, 1.0)],\n",
    "          [(1, 1.0), (3, 1.0), (4, 1.0), (7, 1.0)],\n",
    "          [(0, 1.0), (4, 2.0), (7, 1.0)],\n",
    "          [(3, 1.0), (5, 1.0), (6, 1.0)],\n",
    "          [(9, 1.0)],\n",
    "          [(9, 1.0), (10, 1.0)],\n",
    "          [(9, 1.0), (10, 1.0), (11, 1.0)],\n",
    "          [(8, 1.0), (10, 1.0), (11, 1.0)]]\n",
    "\n",
    "\n",
    "tfidf = models.TfidfModel(corpus)\n",
    "vec = [(0, 1), (4, 1)]\n",
    "print(tfidf[vec])\n",
    "\n",
    "index = similarities.SparseMatrixSimilarity(tfidf[corpus], num_features=12)\n",
    "sims = index[tfidf[vec]]\n",
    "print(list(enumerate(sims)))"
   ]
  },
  {
   "cell_type": "markdown",
   "metadata": {},
   "source": [
    "## "
   ]
  }
 ],
 "metadata": {
  "kernelspec": {
   "display_name": "Python 3",
   "language": "python",
   "name": "python3"
  },
  "language_info": {
   "codemirror_mode": {
    "name": "ipython",
    "version": 3
   },
   "file_extension": ".py",
   "mimetype": "text/x-python",
   "name": "python",
   "nbconvert_exporter": "python",
   "pygments_lexer": "ipython3",
   "version": "3.5.2"
  }
 },
 "nbformat": 4,
 "nbformat_minor": 2
}
