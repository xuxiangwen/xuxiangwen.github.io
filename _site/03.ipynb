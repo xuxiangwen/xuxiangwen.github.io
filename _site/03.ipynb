{
 "cells": [
  {
   "cell_type": "code",
   "execution_count": 2,
   "metadata": {},
   "outputs": [],
   "source": [
    "import sys\n",
    "import logging\n",
    "\n",
    "\n",
    "base_path = '/notebooks/eipi10/python-book/arsenal'\n",
    "sys.path.append(base_path)\n",
    "current_path = '.'\n",
    "current_data_path = current_path + \"/data\"\n",
    "\n",
    "\n",
    "logging.basicConfig(format='%(asctime)s: %(levelname)s: %(message)s')\n",
    "logging.root.setLevel(level=logging.INFO)\n",
    "\n",
    "import collections\n",
    "import math\n",
    "import matplotlib.pyplot as plt\n",
    "import numpy as np\n",
    "import os\n",
    "import pandas as pd\n",
    "import re\n",
    "import time\n",
    "\n",
    "\n",
    "from pprint import pprint\n",
    "from eipi10.ml2.utils import *\n",
    "\n",
    "pd.set_option('display.width', 1000)\n",
    "os.environ[\"https_proxy\"] = \"http://web-proxy.rose.hp.com:8080\"\n",
    "os.environ[\"http_proxy\"] = \"http://web-proxy.rose.hp.com:8080\"\n",
    "\n",
    "%matplotlib inline\n",
    "\n",
    "# 代码自动重新加载\n",
    "%load_ext autoreload\n",
    "%autoreload 2\n",
    "\n",
    "#当module有新的方法的时候，需要运行下面方法。\n",
    "# %reload_ext autoreload \n",
    "\n"
   ]
  },
  {
   "cell_type": "code",
   "execution_count": 149,
   "metadata": {},
   "outputs": [
    {
     "name": "stdout",
     "output_type": "stream",
     "text": [
      "a = \n",
      "[[ 1  0  2]\n",
      " [-1  3  1]]\n",
      "\n",
      "b = \n",
      "[[3 1]\n",
      " [2 1]\n",
      " [1 0]]\n",
      "\n",
      "c = \n",
      "[[5 1]\n",
      " [4 2]]\n",
      "\n"
     ]
    }
   ],
   "source": [
    "import numpy as np\n",
    "import math\n",
    "\n",
    "def rotate(theta):\n",
    "  A = np.array([1/2, math.sqrt(3)/2])\n"
   ]
  },
  {
   "cell_type": "markdown",
   "metadata": {},
   "source": [
    "### 1.52 WMD(Word Mover's Distance)\n",
    "\n",
    "摘自[Finding similar documents with Word2Vec and WMD](https://markroxor.github.io/gensim/static/notebooks/WMD_tutorial.html)\n",
    "\n",
    "#### Part 1: Computing the Word Mover's Distance\n",
    "\n",
    "使用WMD之前，我们需要 word embeddings。"
   ]
  },
  {
   "cell_type": "code",
   "execution_count": 14,
   "metadata": {},
   "outputs": [
    {
     "name": "stdout",
     "output_type": "stream",
     "text": [
      "Collecting pyemd\n",
      "\u001b[?25l  Downloading https://files.pythonhosted.org/packages/c0/c5/7fea8e7a71cd026b30ed3c40e4c5ea13a173e28f8855da17e25271e8f545/pyemd-0.5.1.tar.gz (91kB)\n",
      "\u001b[K    100% |################################| 92kB 345kB/s ta 0:00:011\n",
      "\u001b[?25hRequirement already satisfied: numpy<2.0.0,>=1.9.0 in /usr/local/lib/python3.5/dist-packages (from pyemd) (1.15.4)\n",
      "Building wheels for collected packages: pyemd\n",
      "  Running setup.py bdist_wheel for pyemd ... \u001b[?25ldone\n",
      "\u001b[?25h  Stored in directory: /root/.cache/pip/wheels/e4/ba/b0/1f4178a35c916b22fc51dc56f278125d4b8cfb0592e5f0cc24\n",
      "Successfully built pyemd\n",
      "Installing collected packages: pyemd\n",
      "Successfully installed pyemd-0.5.1\n",
      "\u001b[33mYou are using pip version 18.1, however version 19.2.3 is available.\n",
      "You should consider upgrading via the 'pip install --upgrade pip' command.\u001b[0m\n"
     ]
    }
   ],
   "source": [
    "# !pip install  nltk\n",
    "!pip install pyemd "
   ]
  },
  {
   "cell_type": "code",
   "execution_count": 1,
   "metadata": {},
   "outputs": [],
   "source": [
    "from time import time\n",
    "start_nb = time()"
   ]
  },
  {
   "cell_type": "code",
   "execution_count": 22,
   "metadata": {},
   "outputs": [],
   "source": [
    "# Initialize logging.\n",
    "import logging\n",
    "logging.basicConfig(format='%(asctime)s : %(levelname)s : %(message)s')\n",
    "\n",
    "sentence_obama = 'Obama speaks to the media in Illinois'\n",
    "sentence_president = 'The president greets the press in Chicago'\n",
    "sentence_other = 'you have a large vocabulary and/or large vectors'\n",
    "sentence_obama = sentence_obama.lower().split()\n",
    "sentence_president = sentence_president.lower().split()\n",
    "sentence_other = sentence_other.lower().split()"
   ]
  },
  {
   "cell_type": "code",
   "execution_count": 23,
   "metadata": {},
   "outputs": [
    {
     "name": "stderr",
     "output_type": "stream",
     "text": [
      "[nltk_data] Downloading package stopwords to /root/nltk_data...\n",
      "[nltk_data]   Package stopwords is already up-to-date!\n"
     ]
    }
   ],
   "source": [
    "# Import and download stopwords from NLTK.\n",
    "from nltk.corpus import stopwords\n",
    "from nltk import download\n",
    "download('stopwords')  # Download stopwords list.\n",
    "\n",
    "# Remove stopwords.\n",
    "stop_words = stopwords.words('english')\n",
    "sentence_obama = [w for w in sentence_obama if w not in stop_words]\n",
    "sentence_president = [w for w in sentence_president if w not in stop_words]\n",
    "sentence_other = [w for w in sentence_other if w not in stop_words]"
   ]
  },
  {
   "cell_type": "code",
   "execution_count": 10,
   "metadata": {},
   "outputs": [
    {
     "name": "stdout",
     "output_type": "stream",
     "text": [
      "Cell took 272.66 seconds to run.\n"
     ]
    }
   ],
   "source": [
    "start = time()\n",
    "import os\n",
    "\n",
    "from gensim.models import KeyedVectors\n",
    "if not os.path.exists('data/w2v_googlenews/GoogleNews-vectors-negative300.bin.gz'):\n",
    "    raise ValueError(\"SKIP: You need to download the google news model\")\n",
    "    \n",
    "model = KeyedVectors.load_word2vec_format('data/w2v_googlenews/GoogleNews-vectors-negative300.bin.gz', binary=True)\n",
    "print('Cell took %.2f seconds to run.' % (time() - start))"
   ]
  },
  {
   "cell_type": "code",
   "execution_count": 15,
   "metadata": {},
   "outputs": [
    {
     "name": "stdout",
     "output_type": "stream",
     "text": [
      "distance = 3.3741\n"
     ]
    }
   ],
   "source": [
    "distance = model.wmdistance(sentence_obama, sentence_president)\n",
    "print('distance = %.4f' % distance)"
   ]
  },
  {
   "cell_type": "code",
   "execution_count": 16,
   "metadata": {},
   "outputs": [
    {
     "name": "stdout",
     "output_type": "stream",
     "text": [
      "distance = 4.3802\n"
     ]
    }
   ],
   "source": [
    "sentence_orange = 'Oranges are my favorite fruit'\n",
    "sentence_orange = sentence_orange.lower().split()\n",
    "sentence_orange = [w for w in sentence_orange if w not in stop_words]\n",
    "\n",
    "distance = model.wmdistance(sentence_obama, sentence_orange)\n",
    "print('distance = %.4f' % distance)"
   ]
  },
  {
   "cell_type": "markdown",
   "metadata": {},
   "source": [
    "##### Normalizing word2vec vectors\n",
    "\n",
    "使用wmdistance时，最好能够先normalize the word2vec vector. "
   ]
  },
  {
   "cell_type": "code",
   "execution_count": 18,
   "metadata": {},
   "outputs": [
    {
     "name": "stdout",
     "output_type": "stream",
     "text": [
      "Cell took 3.78 seconds to run.\n"
     ]
    }
   ],
   "source": [
    "# Normalizing word2vec vectors.\n",
    "start = time()\n",
    "\n",
    "model.init_sims(replace=True)  # Normalizes the vectors in the word2vec class.\n",
    "print('Cell took %.2f seconds to run.' %(time() - start))"
   ]
  },
  {
   "cell_type": "code",
   "execution_count": 25,
   "metadata": {},
   "outputs": [
    {
     "name": "stdout",
     "output_type": "stream",
     "text": [
      "distance = 1.0175\n",
      "distance = 1.3663\n",
      "distance = 1.3237\n",
      "distance = 1.3388\n"
     ]
    }
   ],
   "source": [
    "\n",
    "distance = model.wmdistance(sentence_obama, sentence_president)  # Compute WMD as normal.\n",
    "print('distance = %.4f' % distance)\n",
    "distance = model.wmdistance(sentence_obama, sentence_orange)\n",
    "print('distance = %.4f' % distance)\n",
    "distance = model.wmdistance(sentence_obama, sentence_other)\n",
    "print('distance = %.4f' % distance)\n",
    "distance = model.wmdistance(sentence_orange, sentence_other)\n",
    "print('distance = %.4f' % distance)"
   ]
  },
  {
   "cell_type": "markdown",
   "metadata": {},
   "source": [
    "#### Part 2: Similarity queries using WmdSimilarity\n",
    "\n",
    "使用WmdSimilarity class, 可以使用WMD得到最相似的文档\n",
    "\n",
    "##### Yelp data\n",
    "\n",
    "下载六家餐馆来训练Word2Vec embeddings\n",
    "\n",
    "- Mon Ami Gabi.\n",
    "- Earl of Sandwich.\n",
    "- Wicked Spoon.\n",
    "- Serendipity 3.\n",
    "- Bacchanal Buffet.\n",
    "- The Buffet."
   ]
  },
  {
   "cell_type": "code",
   "execution_count": 26,
   "metadata": {},
   "outputs": [
    {
     "name": "stderr",
     "output_type": "stream",
     "text": [
      "[nltk_data] Downloading package punkt to /root/nltk_data...\n",
      "[nltk_data]   Unzipping tokenizers/punkt.zip.\n"
     ]
    }
   ],
   "source": [
    "# Pre-processing a document.\n",
    "\n",
    "from nltk import word_tokenize\n",
    "download('punkt')  # Download data for tokenizer.\n",
    "\n",
    "def preprocess(doc):\n",
    "    doc = doc.lower()  # Lower the text.\n",
    "    doc = word_tokenize(doc)  # Split into words.\n",
    "    doc = [w for w in doc if not w in stop_words]  # Remove stopwords.\n",
    "    doc = [w for w in doc if w.isalpha()]  # Remove numbers and punctuation.\n",
    "    return doc"
   ]
  },
  {
   "cell_type": "code",
   "execution_count": 36,
   "metadata": {},
   "outputs": [
    {
     "name": "stdout",
     "output_type": "stream",
     "text": [
      "Cell took 24.06 seconds to run.\n",
      "9999\n",
      "6\n",
      "6\n"
     ]
    }
   ],
   "source": [
    "start = time()\n",
    "\n",
    "import json\n",
    "\n",
    "# Business IDs of the restaurants.\n",
    "ids = ['4bEjOyTaDG24SY5TxsaUNQ', '2e2e7WgqU1BnpxmQL5jbfw', 'zt1TpTuJ6y9n551sw9TaEg',\n",
    "      'Xhg93cMdemu5pAMkDoEdtQ', 'sIyHTizqAiGu12XMLX3N3g', 'YNQgak-ZLtYJQxlDwN-qIg']\n",
    "ids = ['ZRJwVLyzEJq1VAihDhYiow']\n",
    "\n",
    "w2v_corpus = []  # Documents to train word2vec on (all 6 restaurants).\n",
    "wmd_corpus = []  # Documents to run queries against (only one restaurant).\n",
    "documents = []  # wmd_corpus, with no pre-processing (so we can see the original documents).\n",
    "max_line = 10000\n",
    "i = 0\n",
    "with open('data/yelp_dataset/yelp_academic_dataset_review.json') as data_file:\n",
    "    for line in data_file:\n",
    "        i = i+1        \n",
    "        if i >= max_line: continue\n",
    "            \n",
    "        json_line = json.loads(line)\n",
    "        \n",
    "#         if json_line['business_id'] not in ids:\n",
    "#             # Not one of the 6 restaurants.\n",
    "#             continue\n",
    "        \n",
    "        # Pre-process document.\n",
    "        text = json_line['text']  # Extract text from JSON object.\n",
    "        text = preprocess(text)\n",
    "        \n",
    "        # Add to corpus for training Word2Vec.\n",
    "        w2v_corpus.append(text)\n",
    "        \n",
    "        if json_line['business_id'] == ids[0]:\n",
    "            # Add to corpus for similarity queries.\n",
    "            wmd_corpus.append(text)\n",
    "            documents.append(json_line['text'])\n",
    "\n",
    "print('Cell took %.2f seconds to run.' %(time() - start))\n",
    "print(len(w2v_corpus))\n",
    "print(len(wmd_corpus))\n",
    "print(len(documents))"
   ]
  },
  {
   "cell_type": "markdown",
   "metadata": {},
   "source": [
    "计算一下文档的平均长度。"
   ]
  },
  {
   "cell_type": "code",
   "execution_count": 44,
   "metadata": {},
   "outputs": [
    {
     "data": {
      "image/png": "[encoded data removed]",
      "text/plain": [
       "<Figure size 576x432 with 1 Axes>"
      ]
     },
     "metadata": {
      "needs_background": "light"
     },
     "output_type": "display_data"
    }
   ],
   "source": [
    "from matplotlib import pyplot as plt\n",
    "from cycler import cycler\n",
    "%matplotlib inline\n",
    "\n",
    "# Document lengths.\n",
    "lens = [len(doc) for doc in w2v_corpus]\n",
    "\n",
    "# Plot.\n",
    "plt.rc('figure', figsize=(8,6))\n",
    "plt.rc('font', size=14)\n",
    "plt.rc('lines', linewidth=2)\n",
    "# plt.rc('axes', color_cycle=('#377eb8','#e41a1c','#4daf4a',\n",
    "#                             '#984ea3','#ff7f00','#ffff33'))\n",
    "plt.rc('axes', prop_cycle=(cycler('color', ['#377eb8','#e41a1c','#4daf4a',\n",
    "                                           '#984ea3','#ff7f00','#ffff33'])))\n",
    "# Histogram.\n",
    "plt.hist(lens, bins=20)\n",
    "# plt.hold(True)\n",
    "# Average length.\n",
    "avg_len = sum(lens) / float(len(lens))\n",
    "plt.axvline(avg_len, color='#e41a1c')\n",
    "# plt.hold(False)\n",
    "plt.title('Histogram of document lengths.')\n",
    "plt.xlabel('Length')\n",
    "plt.text(100, 800, 'mean = %.2f' % avg_len)\n",
    "plt.show()"
   ]
  },
  {
   "cell_type": "markdown",
   "metadata": {},
   "source": [
    "训练word2vec模型"
   ]
  },
  {
   "cell_type": "code",
   "execution_count": 51,
   "metadata": {},
   "outputs": [],
   "source": [
    "# Train Word2Vec on all the restaurants.\n",
    "model = Word2Vec(w2v_corpus, workers=5, size=100)\n",
    "\n",
    "# Initialize WmdSimilarity.\n",
    "from gensim.similarities import WmdSimilarity\n",
    "num_best = 5\n",
    "instance = WmdSimilarity(wmd_corpus, model, num_best=num_best)"
   ]
  },
  {
   "cell_type": "code",
   "execution_count": 52,
   "metadata": {},
   "outputs": [
    {
     "name": "stdout",
     "output_type": "stream",
     "text": [
      "Cell took 0.04 seconds to run.\n"
     ]
    }
   ],
   "source": [
    "start = time()\n",
    "\n",
    "sent = 'Very good, you should seat outdoor.'\n",
    "query = preprocess(sent)\n",
    "\n",
    "sims = instance[query]  # A query is simply a \"look-up\" in the similarity class.\n",
    "\n",
    "print('Cell took %.2f seconds to run.' %(time() - start))"
   ]
  },
  {
   "cell_type": "code",
   "execution_count": 54,
   "metadata": {},
   "outputs": [
    {
     "name": "stdout",
     "output_type": "stream",
     "text": [
      "Query:\n",
      "Very good, you should seat outdoor.\n",
      "sim = 0.5383\n",
      "Spinato's has great red sauce for the pasta but I prefer a more earthy pizza. High School kids love it though. \n",
      "This restaurant was a Chili's before, but they have remodeled and did a fabulous job. The take out door is discrete and the bar area is large and comfortable. \n",
      "Food portions are quite big and they have a nice selection on the menu.\n",
      "sim = 0.5307\n",
      "I have no idea why some people give bad reviews about this place. It goes to show you, you can please everyone. They are probably griping about something that their own fault...there are many people like that.\n",
      "\n",
      "In any case, my friend and I arrived at about 5:50 PM this past Sunday. It was pretty crowded, more than I thought for a Sunday evening and thought we would have to wait forever to get a seat but they said we'll be seated when the girl comes back from seating someone else. We were seated at 5:52 and the waiter came and got our drink orders. Everyone was very pleasant from the host that seated us to the waiter to the server. The prices were very good as well. We placed our orders once we decided what we wanted at 6:02. We shared the baked spaghetti calzone and the small \"Here's The Beef\" pizza so we can both try them. The calzone was huge and we got the smallest one (personal) and got the small 11\" pizza. Both were awesome! My friend liked the pizza better and I liked the calzone better. The calzone does have a sweetish sauce but that's how I like my sauce!\n",
      "\n",
      "We had to box part of the pizza to take it home and we were out the door by 6:42. So, everything was great and not like these bad reviewers. That goes to show you that  you have to try these things yourself because all these bad reviewers have some serious issues.\n",
      "sim = 0.5297\n",
      "Just did take out.  Great experience.  Easy to place my order over the phone, friendly service.  Nice that they have special pick up parking spots and entrance.  Made it an in and out operation.  Ordered the gluten free pizza with pepperoni and sausage.  My husband and son loved it and have already been asking to get it again.  I had the spaghetti calzone and was in HEAVEN.  I highly recommend it.\n",
      "sim = 0.5257\n",
      "The pizza here is very good, but i would warn anyone who is thinking to have it delivered, to think twice. Their system seems to be manual and we were actually asked \"are you in our delivery zone?\"  After 12 minutes on the phone i gave up and decided to save the  $5.50 delivery charge and pick it up myself. \n",
      "\n",
      "They are one of the best pizza's in the tukee area, but if you are going to go to a place that charges the max for their pie ($85 for 4 pizzas) , i would suggest Florencia in this area. \n",
      "\n",
      "This is our second time trying them, first was eat in, and now pick up, i would rate the overall customer service very low, enough to bring a 4-5 star place down to a 2.\n",
      "sim = 0.5208\n",
      "Great customer service, perfect dining area! This lightly dimmed pizzeria is nothing like the other high top table pizza places, the staff and waitress' are really friendly with along great customer service! (and I am picky with people who serve at restaurants!) this place is great for family or even with friends to get a great bite to eat. I ordered the side \"Chef Eric's Caesar salad and thin crust cheese with pepperoni\" I highly recommend For GREAT pizza! However the guy who was going to bring my pizza dropped it...but made it up by giving me Nicole's Notable Chocolate Chip cookies :)\n"
     ]
    }
   ],
   "source": [
    "print('Query:')\n",
    "print(sent)\n",
    "# Print the query and the retrieved documents, together with their similarities.\n",
    "for i in range(num_best):\n",
    "    print('sim = %.4f' % sims[i][1])\n",
    "    print(documents[sims[i][0]])"
   ]
  },
  {
   "cell_type": "code",
   "execution_count": 56,
   "metadata": {},
   "outputs": [
    {
     "name": "stdout",
     "output_type": "stream",
     "text": [
      "Query:\n",
      "I felt that the prices were extremely reasonable for the Strip\n",
      "\n",
      "sim = 0.5479\n",
      "Spinato's has great red sauce for the pasta but I prefer a more earthy pizza. High School kids love it though. \n",
      "This restaurant was a Chili's before, but they have remodeled and did a fabulous job. The take out door is discrete and the bar area is large and comfortable. \n",
      "Food portions are quite big and they have a nice selection on the menu.\n",
      "\n",
      "sim = 0.5391\n",
      "Great Pizza. Great Service.\n",
      "\n",
      "We've been here a few times since it opened. And always look forward to going. We have never had a bad experience. Each time has been great. Our waiter Dave was perfect, always on the ball.\n",
      "\n",
      "sim = 0.5225\n",
      "Great customer service, perfect dining area! This lightly dimmed pizzeria is nothing like the other high top table pizza places, the staff and waitress' are really friendly with along great customer service! (and I am picky with people who serve at restaurants!) this place is great for family or even with friends to get a great bite to eat. I ordered the side \"Chef Eric's Caesar salad and thin crust cheese with pepperoni\" I highly recommend For GREAT pizza! However the guy who was going to bring my pizza dropped it...but made it up by giving me Nicole's Notable Chocolate Chip cookies :)\n",
      "\n",
      "sim = 0.5151\n",
      "The pizza here is very good, but i would warn anyone who is thinking to have it delivered, to think twice. Their system seems to be manual and we were actually asked \"are you in our delivery zone?\"  After 12 minutes on the phone i gave up and decided to save the  $5.50 delivery charge and pick it up myself. \n",
      "\n",
      "They are one of the best pizza's in the tukee area, but if you are going to go to a place that charges the max for their pie ($85 for 4 pizzas) , i would suggest Florencia in this area. \n",
      "\n",
      "This is our second time trying them, first was eat in, and now pick up, i would rate the overall customer service very low, enough to bring a 4-5 star place down to a 2.\n",
      "\n",
      "sim = 0.5151\n",
      "Just did take out.  Great experience.  Easy to place my order over the phone, friendly service.  Nice that they have special pick up parking spots and entrance.  Made it an in and out operation.  Ordered the gluten free pizza with pepperoni and sausage.  My husband and son loved it and have already been asking to get it again.  I had the spaghetti calzone and was in HEAVEN.  I highly recommend it.\n",
      "\n",
      "Cell took 0.10 seconds to run.\n"
     ]
    }
   ],
   "source": [
    "start = time()\n",
    "\n",
    "sent = 'I felt that the prices were extremely reasonable for the Strip'\n",
    "query = preprocess(sent)\n",
    "\n",
    "sims = instance[query]  # A query is simply a \"look-up\" in the similarity class.\n",
    "\n",
    "print('Query:')\n",
    "print(sent)\n",
    "for i in range(num_best):\n",
    "    print()\n",
    "    print('sim = %.4f' % sims[i][1])\n",
    "    print(documents[sims[i][0]])\n",
    "\n",
    "print('\\nCell took %.2f seconds to run.' %(time() - start))"
   ]
  },
  {
   "cell_type": "markdown",
   "metadata": {},
   "source": [
    "### 1.51 gensim LDA 模型 \n",
    "\n",
    "https://nbviewer.jupyter.org/github/dsquareindia/gensim/blob/a4b2629c0fdb0a7932db24dfcf06699c928d112f/docs/notebooks/topic_coherence_tutorial.ipynb"
   ]
  },
  {
   "cell_type": "code",
   "execution_count": 60,
   "metadata": {},
   "outputs": [],
   "source": [
    "# !pip install pyldavis"
   ]
  },
  {
   "cell_type": "code",
   "execution_count": 61,
   "metadata": {
    "scrolled": true
   },
   "outputs": [],
   "source": [
    "import numpy as np\n",
    "import logging\n",
    "import pyLDAvis.gensim\n",
    "import json\n",
    "import warnings\n",
    "warnings.filterwarnings('ignore')  # To ignore all warnings that arise here to enhance clarity\n",
    "\n",
    "from gensim.models.coherencemodel import CoherenceModel\n",
    "from gensim.models.ldamodel import LdaModel\n",
    "from gensim.corpora.dictionary import Dictionary\n",
    "from numpy import array\n",
    "\n",
    "texts = [['human', 'interface', 'computer'],\n",
    "         ['survey', 'user', 'computer', 'system', 'response', 'time'],\n",
    "         ['eps', 'user', 'interface', 'system'],\n",
    "         ['system', 'human', 'system', 'eps'],\n",
    "         ['user', 'response', 'time'],\n",
    "         ['trees'],\n",
    "         ['graph', 'trees'],\n",
    "         ['graph', 'minors', 'trees'],\n",
    "         ['graph', 'minors', 'survey']]\n",
    "\n",
    "dictionary = Dictionary(texts)\n",
    "corpus = [dictionary.doc2bow(text) for text in texts]"
   ]
  },
  {
   "cell_type": "code",
   "execution_count": 62,
   "metadata": {},
   "outputs": [
    {
     "name": "stderr",
     "output_type": "stream",
     "text": [
      "2019-10-12 07:13:21,096 : WARNING : too few updates, training might not converge; consider increasing the number of passes or iterations to improve accuracy\n",
      "2019-10-12 07:13:21,134 : WARNING : too few updates, training might not converge; consider increasing the number of passes or iterations to improve accuracy\n"
     ]
    }
   ],
   "source": [
    "goodLdaModel = LdaModel(corpus=corpus, id2word=dictionary, iterations=50, num_topics=2)\n",
    "badLdaModel = LdaModel(corpus=corpus, id2word=dictionary, iterations=1, num_topics=2)"
   ]
  },
  {
   "cell_type": "code",
   "execution_count": 68,
   "metadata": {},
   "outputs": [],
   "source": [
    "goodcm = CoherenceModel(model=goodLdaModel, corpus=corpus, dictionary=dictionary, coherence='u_mass')\n",
    "badcm = CoherenceModel(model=badLdaModel, corpus=corpus, dictionary=dictionary, coherence='u_mass')"
   ]
  },
  {
   "cell_type": "code",
   "execution_count": 69,
   "metadata": {},
   "outputs": [
    {
     "data": {
      "text/html": [
       "\n",
       "<link rel=\"stylesheet\" type=\"text/css\" href=\"https://cdn.rawgit.com/bmabey/pyLDAvis/files/ldavis.v1.0.0.css\">\n",
       "\n",
       "\n",
       "<div id=\"ldavis_el2366139934867115608522694760\"></div>\n",
       "<script type=\"text/javascript\">\n",
       "\n",
       "var ldavis_el2366139934867115608522694760_data = {\"tinfo\": {\"loglift\": [12.0, 11.0, 10.0, 9.0, 8.0, 7.0, 6.0, 5.0, 4.0, 3.0, 2.0, 1.0, 0.2955000102519989, 0.2337000072002411, 0.20890000462532043, 0.12200000137090683, 0.11949999630451202, 0.06880000233650208, 0.06710000336170197, 0.040800001472234726, -0.010900000110268593, -0.6092000007629395, -0.6827999949455261, -0.8424999713897705, 0.7404000163078308, 0.6693999767303467, 0.6305999755859375, 0.020800000056624413, -0.08370000123977661, -0.14339999854564667, -0.147599995136261, -0.28029999136924744, -0.2874999940395355, -0.5932000279426575, -0.7073000073432922, -1.0852999687194824], \"Term\": [\"trees\", \"graph\", \"minors\", \"system\", \"survey\", \"time\", \"response\", \"human\", \"eps\", \"interface\", \"computer\", \"user\", \"system\", \"eps\", \"user\", \"computer\", \"interface\", \"human\", \"response\", \"time\", \"survey\", \"minors\", \"graph\", \"trees\", \"trees\", \"graph\", \"minors\", \"survey\", \"time\", \"response\", \"human\", \"interface\", \"computer\", \"user\", \"eps\", \"system\"], \"Total\": [2.0, 2.0, 1.0, 3.0, 2.0, 2.0, 2.0, 2.0, 2.0, 2.0, 2.0, 2.0, 3.850254535675049, 2.263115882873535, 2.99407958984375, 2.189244508743286, 2.1877493858337402, 2.1583786010742188, 2.1574153900146484, 2.14310884475708, 2.11649227142334, 1.9149153232574463, 2.5323362350463867, 2.492907762527466, 2.492907762527466, 2.5323362350463867, 1.9149153232574463, 2.11649227142334, 2.14310884475708, 2.1574153900146484, 2.1583786010742188, 2.1877493858337402, 2.189244508743286, 2.99407958984375, 2.263115882873535, 3.850254535675049], \"Category\": [\"Default\", \"Default\", \"Default\", \"Default\", \"Default\", \"Default\", \"Default\", \"Default\", \"Default\", \"Default\", \"Default\", \"Default\", \"Topic1\", \"Topic1\", \"Topic1\", \"Topic1\", \"Topic1\", \"Topic1\", \"Topic1\", \"Topic1\", \"Topic1\", \"Topic1\", \"Topic1\", \"Topic1\", \"Topic2\", \"Topic2\", \"Topic2\", \"Topic2\", \"Topic2\", \"Topic2\", \"Topic2\", \"Topic2\", \"Topic2\", \"Topic2\", \"Topic2\", \"Topic2\"], \"Freq\": [2.0, 2.0, 1.0, 3.0, 2.0, 2.0, 2.0, 2.0, 2.0, 2.0, 2.0, 2.0, 3.4057700634002686, 1.8818397521972656, 2.428690195083618, 1.628015398979187, 1.6228790283203125, 1.5219613313674927, 1.5186526775360107, 1.4694963693618774, 1.3780367374420166, 0.6854155659675598, 0.842132031917572, 0.7066576480865479, 1.786250114440918, 1.6902042627334595, 1.2294996976852417, 0.7384554147720337, 0.6736125946044922, 0.6387625932693481, 0.6364172697067261, 0.5648704171180725, 0.5612290501594543, 0.5653892755508423, 0.3812761902809143, 0.44448450207710266], \"logprob\": [12.0, 11.0, 10.0, 9.0, 8.0, 7.0, 6.0, 5.0, 4.0, 3.0, 2.0, 1.0, -1.7237000465393066, -2.3169000148773193, -2.061800003051758, -2.4618000984191895, -2.464900016784668, -2.529099941253662, -2.5313000679016113, -2.564199924468994, -2.628499984741211, -3.326900005340576, -3.121000051498413, -3.296299934387207, -1.7135000228881836, -1.7687000036239624, -2.0869998931884766, -2.5968000888824463, -2.688699960708618, -2.74180006980896, -2.745500087738037, -2.8647000789642334, -2.8712000846862793, -2.863800048828125, -3.2578001022338867, -3.1043999195098877]}, \"lambda.step\": 0.01, \"plot.opts\": {\"xlab\": \"PC1\", \"ylab\": \"PC2\"}, \"topic.order\": [1, 2], \"R\": 12, \"mdsDat\": {\"y\": [0.0, 0.0], \"cluster\": [1, 1], \"Freq\": [65.8260269165039, 34.173973083496094], \"topics\": [1, 2], \"x\": [0.04864903539419174, -0.04864903539419174]}, \"token.table\": {\"Topic\": [1, 2, 1, 1, 2, 1, 2, 1, 2, 1, 2, 1, 2, 1, 2, 1, 1, 2, 1, 2, 1, 2], \"Freq\": [0.9135571718215942, 0.4567785859107971, 0.883737325668335, 0.39489227533340454, 0.7897845506668091, 0.9266214966773987, 0.46331074833869934, 0.9141814708709717, 0.45709073543548584, 0.5222163200378418, 0.5222163200378418, 0.9270352125167847, 0.46351760625839233, 0.4724798798561096, 0.4724798798561096, 0.7791692614555359, 0.4666118621826172, 0.4666118621826172, 0.40113797783851624, 0.8022759556770325, 0.6679849028587341, 0.33399245142936707], \"Term\": [\"computer\", \"computer\", \"eps\", \"graph\", \"graph\", \"human\", \"human\", \"interface\", \"interface\", \"minors\", \"minors\", \"response\", \"response\", \"survey\", \"survey\", \"system\", \"time\", \"time\", \"trees\", \"trees\", \"user\", \"user\"]}};\n",
       "\n",
       "function LDAvis_load_lib(url, callback){\n",
       "  var s = document.createElement('script');\n",
       "  s.src = url;\n",
       "  s.async = true;\n",
       "  s.onreadystatechange = s.onload = callback;\n",
       "  s.onerror = function(){console.warn(\"failed to load library \" + url);};\n",
       "  document.getElementsByTagName(\"head\")[0].appendChild(s);\n",
       "}\n",
       "\n",
       "if(typeof(LDAvis) !== \"undefined\"){\n",
       "   // already loaded: just create the visualization\n",
       "   !function(LDAvis){\n",
       "       new LDAvis(\"#\" + \"ldavis_el2366139934867115608522694760\", ldavis_el2366139934867115608522694760_data);\n",
       "   }(LDAvis);\n",
       "}else if(typeof define === \"function\" && define.amd){\n",
       "   // require.js is available: use it to load d3/LDAvis\n",
       "   require.config({paths: {d3: \"https://cdnjs.cloudflare.com/ajax/libs/d3/3.5.5/d3.min\"}});\n",
       "   require([\"d3\"], function(d3){\n",
       "      window.d3 = d3;\n",
       "      LDAvis_load_lib(\"https://cdn.rawgit.com/bmabey/pyLDAvis/files/ldavis.v1.0.0.js\", function(){\n",
       "        new LDAvis(\"#\" + \"ldavis_el2366139934867115608522694760\", ldavis_el2366139934867115608522694760_data);\n",
       "      });\n",
       "    });\n",
       "}else{\n",
       "    // require.js not available: dynamically load d3 & LDAvis\n",
       "    LDAvis_load_lib(\"https://cdnjs.cloudflare.com/ajax/libs/d3/3.5.5/d3.min.js\", function(){\n",
       "         LDAvis_load_lib(\"https://cdn.rawgit.com/bmabey/pyLDAvis/files/ldavis.v1.0.0.js\", function(){\n",
       "                 new LDAvis(\"#\" + \"ldavis_el2366139934867115608522694760\", ldavis_el2366139934867115608522694760_data);\n",
       "            })\n",
       "         });\n",
       "}\n",
       "</script>"
      ],
      "text/plain": [
       "PreparedData(topic_coordinates=            Freq  cluster  topics         x    y\n",
       "topic                                           \n",
       "0      65.826027        1       1  0.048649  0.0\n",
       "1      34.173973        1       2 -0.048649  0.0, topic_info=     Category      Freq       Term     Total  loglift  logprob\n",
       "term                                                          \n",
       "9     Default  2.000000      trees  2.000000  12.0000  12.0000\n",
       "10    Default  2.000000      graph  2.000000  11.0000  11.0000\n",
       "6     Default  1.000000     minors  1.000000  10.0000  10.0000\n",
       "11    Default  3.000000     system  3.000000   9.0000   9.0000\n",
       "2     Default  2.000000     survey  2.000000   8.0000   8.0000\n",
       "4     Default  2.000000       time  2.000000   7.0000   7.0000\n",
       "0     Default  2.000000   response  2.000000   6.0000   6.0000\n",
       "7     Default  2.000000      human  2.000000   5.0000   5.0000\n",
       "3     Default  2.000000        eps  2.000000   4.0000   4.0000\n",
       "1     Default  2.000000  interface  2.000000   3.0000   3.0000\n",
       "5     Default  2.000000   computer  2.000000   2.0000   2.0000\n",
       "8     Default  2.000000       user  2.000000   1.0000   1.0000\n",
       "11     Topic1  3.405770     system  3.850255   0.2955  -1.7237\n",
       "3      Topic1  1.881840        eps  2.263116   0.2337  -2.3169\n",
       "8      Topic1  2.428690       user  2.994080   0.2089  -2.0618\n",
       "5      Topic1  1.628015   computer  2.189245   0.1220  -2.4618\n",
       "1      Topic1  1.622879  interface  2.187749   0.1195  -2.4649\n",
       "7      Topic1  1.521961      human  2.158379   0.0688  -2.5291\n",
       "0      Topic1  1.518653   response  2.157415   0.0671  -2.5313\n",
       "4      Topic1  1.469496       time  2.143109   0.0408  -2.5642\n",
       "2      Topic1  1.378037     survey  2.116492  -0.0109  -2.6285\n",
       "6      Topic1  0.685416     minors  1.914915  -0.6092  -3.3269\n",
       "10     Topic1  0.842132      graph  2.532336  -0.6828  -3.1210\n",
       "9      Topic1  0.706658      trees  2.492908  -0.8425  -3.2963\n",
       "9      Topic2  1.786250      trees  2.492908   0.7404  -1.7135\n",
       "10     Topic2  1.690204      graph  2.532336   0.6694  -1.7687\n",
       "6      Topic2  1.229500     minors  1.914915   0.6306  -2.0870\n",
       "2      Topic2  0.738455     survey  2.116492   0.0208  -2.5968\n",
       "4      Topic2  0.673613       time  2.143109  -0.0837  -2.6887\n",
       "0      Topic2  0.638763   response  2.157415  -0.1434  -2.7418\n",
       "7      Topic2  0.636417      human  2.158379  -0.1476  -2.7455\n",
       "1      Topic2  0.564870  interface  2.187749  -0.2803  -2.8647\n",
       "5      Topic2  0.561229   computer  2.189245  -0.2875  -2.8712\n",
       "8      Topic2  0.565389       user  2.994080  -0.5932  -2.8638\n",
       "3      Topic2  0.381276        eps  2.263116  -0.7073  -3.2578\n",
       "11     Topic2  0.444485     system  3.850255  -1.0853  -3.1044, token_table=      Topic      Freq       Term\n",
       "term                            \n",
       "5         1  0.913557   computer\n",
       "5         2  0.456779   computer\n",
       "3         1  0.883737        eps\n",
       "10        1  0.394892      graph\n",
       "10        2  0.789785      graph\n",
       "7         1  0.926621      human\n",
       "7         2  0.463311      human\n",
       "1         1  0.914181  interface\n",
       "1         2  0.457091  interface\n",
       "6         1  0.522216     minors\n",
       "6         2  0.522216     minors\n",
       "0         1  0.927035   response\n",
       "0         2  0.463518   response\n",
       "2         1  0.472480     survey\n",
       "2         2  0.472480     survey\n",
       "11        1  0.779169     system\n",
       "4         1  0.466612       time\n",
       "4         2  0.466612       time\n",
       "9         1  0.401138      trees\n",
       "9         2  0.802276      trees\n",
       "8         1  0.667985       user\n",
       "8         2  0.333992       user, R=12, lambda_step=0.01, plot_opts={'xlab': 'PC1', 'ylab': 'PC2'}, topic_order=[1, 2])"
      ]
     },
     "execution_count": 69,
     "metadata": {},
     "output_type": "execute_result"
    }
   ],
   "source": [
    "pyLDAvis.enable_notebook()\n",
    "pyLDAvis.gensim.prepare(goodLdaModel, corpus, dictionary)"
   ]
  },
  {
   "cell_type": "code",
   "execution_count": 70,
   "metadata": {},
   "outputs": [
    {
     "data": {
      "text/html": [
       "\n",
       "<link rel=\"stylesheet\" type=\"text/css\" href=\"https://cdn.rawgit.com/bmabey/pyLDAvis/files/ldavis.v1.0.0.css\">\n",
       "\n",
       "\n",
       "<div id=\"ldavis_el23661399349831101129301945156\"></div>\n",
       "<script type=\"text/javascript\">\n",
       "\n",
       "var ldavis_el23661399349831101129301945156_data = {\"tinfo\": {\"loglift\": [12.0, 11.0, 10.0, 9.0, 8.0, 7.0, 6.0, 5.0, 4.0, 3.0, 2.0, 1.0, 0.14270000159740448, 0.10599999874830246, 0.051899999380111694, 0.024299999698996544, 0.024000000208616257, -0.011500000022351742, -0.03830000013113022, -0.047600001096725464, -0.04800000041723251, -0.07989999651908875, -0.11789999902248383, -0.12319999933242798, 0.11630000174045563, 0.11190000176429749, 0.07850000262260437, 0.04859999939799309, 0.04830000177025795, 0.03920000046491623, 0.01209999993443489, -0.026200000196695328, -0.026599999517202377, -0.05829999968409538, -0.12680000066757202, -0.17810000479221344], \"Term\": [\"survey\", \"minors\", \"interface\", \"graph\", \"system\", \"response\", \"eps\", \"computer\", \"human\", \"user\", \"trees\", \"time\", \"interface\", \"system\", \"user\", \"trees\", \"time\", \"human\", \"computer\", \"eps\", \"response\", \"graph\", \"minors\", \"survey\", \"survey\", \"minors\", \"graph\", \"response\", \"eps\", \"computer\", \"human\", \"time\", \"trees\", \"user\", \"system\", \"interface\"], \"Total\": [2.0, 2.0, 2.0, 2.0, 3.0, 2.0, 2.0, 2.0, 2.0, 2.0, 2.0, 2.0, 2.136202812194824, 3.553880453109741, 2.8358373641967773, 2.832304000854492, 2.1241936683654785, 2.120898962020874, 2.118490695953369, 2.1176676750183105, 2.117636203765869, 2.819851875305176, 2.11173152923584, 2.1113054752349854, 2.1113054752349854, 2.11173152923584, 2.819851875305176, 2.117636203765869, 2.1176676750183105, 2.118490695953369, 2.120898962020874, 2.1241936683654785, 2.832304000854492, 2.8358373641967773, 3.553880453109741, 2.136202812194824], \"Category\": [\"Default\", \"Default\", \"Default\", \"Default\", \"Default\", \"Default\", \"Default\", \"Default\", \"Default\", \"Default\", \"Default\", \"Default\", \"Topic1\", \"Topic1\", \"Topic1\", \"Topic1\", \"Topic1\", \"Topic1\", \"Topic1\", \"Topic1\", \"Topic1\", \"Topic1\", \"Topic1\", \"Topic1\", \"Topic2\", \"Topic2\", \"Topic2\", \"Topic2\", \"Topic2\", \"Topic2\", \"Topic2\", \"Topic2\", \"Topic2\", \"Topic2\", \"Topic2\", \"Topic2\"], \"Freq\": [2.0, 2.0, 2.0, 2.0, 3.0, 2.0, 2.0, 2.0, 2.0, 2.0, 2.0, 2.0, 1.2701808214187622, 2.037158966064453, 1.5398411750793457, 1.496164083480835, 1.1216810941696167, 1.0809400081634521, 1.0511659383773804, 1.0409753322601318, 1.0405906438827515, 1.3421703577041626, 0.9675840139389038, 0.9623095393180847, 1.1489958763122559, 1.1441473960876465, 1.4776813983917236, 1.0770456790924072, 1.0766923427581787, 1.0673248767852783, 1.0399589538574219, 1.0025124549865723, 1.3361400365829468, 1.295996069908142, 1.516721487045288, 0.8660219311714172], \"logprob\": [12.0, 11.0, 10.0, 9.0, 8.0, 7.0, 6.0, 5.0, 4.0, 3.0, 2.0, 1.0, -2.46560001373291, -1.9931999444961548, -2.273099899291992, -2.3018999099731445, -2.589900016784668, -2.6268999576568604, -2.654900074005127, -2.664599895477295, -2.6649999618530273, -2.4105000495910645, -2.7376999855041504, -2.7432000637054443, -2.503700017929077, -2.5078999996185303, -2.2520999908447266, -2.5683000087738037, -2.568700075149536, -2.577399969100952, -2.6033999919891357, -2.6401000022888184, -2.352799892425537, -2.3833000659942627, -2.2260000705718994, -2.786400079727173]}, \"lambda.step\": 0.01, \"plot.opts\": {\"xlab\": \"PC1\", \"ylab\": \"PC2\"}, \"topic.order\": [1, 2], \"R\": 12, \"mdsDat\": {\"y\": [0.0, 0.0], \"cluster\": [1, 1], \"Freq\": [51.554351806640625, 48.445648193359375], \"topics\": [1, 2], \"x\": [0.0017442973330616949, -0.0017442973330616949]}, \"token.table\": {\"Topic\": [1, 2, 1, 2, 1, 2, 1, 2, 1, 2, 1, 2, 1, 2, 1, 2, 1, 2, 1, 2, 1, 2, 1, 2], \"Freq\": [0.47203418612480164, 0.47203418612480164, 0.4722176194190979, 0.4722176194190979, 0.3546285629272461, 0.3546285629272461, 0.47149819135665894, 0.47149819135665894, 0.4681203365325928, 0.4681203365325928, 0.47354504466056824, 0.47354504466056824, 0.4722246527671814, 0.4722246527671814, 0.4736405909061432, 0.4736405909061432, 0.5627651214599609, 0.5627651214599609, 0.4707668721675873, 0.4707668721675873, 0.3530694544315338, 0.3530694544315338, 0.7052590847015381, 0.35262954235076904], \"Term\": [\"computer\", \"computer\", \"eps\", \"eps\", \"graph\", \"graph\", \"human\", \"human\", \"interface\", \"interface\", \"minors\", \"minors\", \"response\", \"response\", \"survey\", \"survey\", \"system\", \"system\", \"time\", \"time\", \"trees\", \"trees\", \"user\", \"user\"]}};\n",
       "\n",
       "function LDAvis_load_lib(url, callback){\n",
       "  var s = document.createElement('script');\n",
       "  s.src = url;\n",
       "  s.async = true;\n",
       "  s.onreadystatechange = s.onload = callback;\n",
       "  s.onerror = function(){console.warn(\"failed to load library \" + url);};\n",
       "  document.getElementsByTagName(\"head\")[0].appendChild(s);\n",
       "}\n",
       "\n",
       "if(typeof(LDAvis) !== \"undefined\"){\n",
       "   // already loaded: just create the visualization\n",
       "   !function(LDAvis){\n",
       "       new LDAvis(\"#\" + \"ldavis_el23661399349831101129301945156\", ldavis_el23661399349831101129301945156_data);\n",
       "   }(LDAvis);\n",
       "}else if(typeof define === \"function\" && define.amd){\n",
       "   // require.js is available: use it to load d3/LDAvis\n",
       "   require.config({paths: {d3: \"https://cdnjs.cloudflare.com/ajax/libs/d3/3.5.5/d3.min\"}});\n",
       "   require([\"d3\"], function(d3){\n",
       "      window.d3 = d3;\n",
       "      LDAvis_load_lib(\"https://cdn.rawgit.com/bmabey/pyLDAvis/files/ldavis.v1.0.0.js\", function(){\n",
       "        new LDAvis(\"#\" + \"ldavis_el23661399349831101129301945156\", ldavis_el23661399349831101129301945156_data);\n",
       "      });\n",
       "    });\n",
       "}else{\n",
       "    // require.js not available: dynamically load d3 & LDAvis\n",
       "    LDAvis_load_lib(\"https://cdnjs.cloudflare.com/ajax/libs/d3/3.5.5/d3.min.js\", function(){\n",
       "         LDAvis_load_lib(\"https://cdn.rawgit.com/bmabey/pyLDAvis/files/ldavis.v1.0.0.js\", function(){\n",
       "                 new LDAvis(\"#\" + \"ldavis_el23661399349831101129301945156\", ldavis_el23661399349831101129301945156_data);\n",
       "            })\n",
       "         });\n",
       "}\n",
       "</script>"
      ],
      "text/plain": [
       "PreparedData(topic_coordinates=            Freq  cluster  topics         x    y\n",
       "topic                                           \n",
       "0      51.554352        1       1  0.001744  0.0\n",
       "1      48.445648        1       2 -0.001744  0.0, topic_info=     Category      Freq       Term     Total  loglift  logprob\n",
       "term                                                          \n",
       "2     Default  2.000000     survey  2.000000  12.0000  12.0000\n",
       "6     Default  2.000000     minors  2.000000  11.0000  11.0000\n",
       "1     Default  2.000000  interface  2.000000  10.0000  10.0000\n",
       "10    Default  2.000000      graph  2.000000   9.0000   9.0000\n",
       "11    Default  3.000000     system  3.000000   8.0000   8.0000\n",
       "0     Default  2.000000   response  2.000000   7.0000   7.0000\n",
       "3     Default  2.000000        eps  2.000000   6.0000   6.0000\n",
       "5     Default  2.000000   computer  2.000000   5.0000   5.0000\n",
       "7     Default  2.000000      human  2.000000   4.0000   4.0000\n",
       "8     Default  2.000000       user  2.000000   3.0000   3.0000\n",
       "9     Default  2.000000      trees  2.000000   2.0000   2.0000\n",
       "4     Default  2.000000       time  2.000000   1.0000   1.0000\n",
       "1      Topic1  1.270181  interface  2.136203   0.1427  -2.4656\n",
       "11     Topic1  2.037159     system  3.553880   0.1060  -1.9932\n",
       "8      Topic1  1.539841       user  2.835837   0.0519  -2.2731\n",
       "9      Topic1  1.496164      trees  2.832304   0.0243  -2.3019\n",
       "4      Topic1  1.121681       time  2.124194   0.0240  -2.5899\n",
       "7      Topic1  1.080940      human  2.120899  -0.0115  -2.6269\n",
       "5      Topic1  1.051166   computer  2.118491  -0.0383  -2.6549\n",
       "3      Topic1  1.040975        eps  2.117668  -0.0476  -2.6646\n",
       "0      Topic1  1.040591   response  2.117636  -0.0480  -2.6650\n",
       "10     Topic1  1.342170      graph  2.819852  -0.0799  -2.4105\n",
       "6      Topic1  0.967584     minors  2.111732  -0.1179  -2.7377\n",
       "2      Topic1  0.962310     survey  2.111305  -0.1232  -2.7432\n",
       "2      Topic2  1.148996     survey  2.111305   0.1163  -2.5037\n",
       "6      Topic2  1.144147     minors  2.111732   0.1119  -2.5079\n",
       "10     Topic2  1.477681      graph  2.819852   0.0785  -2.2521\n",
       "0      Topic2  1.077046   response  2.117636   0.0486  -2.5683\n",
       "3      Topic2  1.076692        eps  2.117668   0.0483  -2.5687\n",
       "5      Topic2  1.067325   computer  2.118491   0.0392  -2.5774\n",
       "7      Topic2  1.039959      human  2.120899   0.0121  -2.6034\n",
       "4      Topic2  1.002512       time  2.124194  -0.0262  -2.6401\n",
       "9      Topic2  1.336140      trees  2.832304  -0.0266  -2.3528\n",
       "8      Topic2  1.295996       user  2.835837  -0.0583  -2.3833\n",
       "11     Topic2  1.516721     system  3.553880  -0.1268  -2.2260\n",
       "1      Topic2  0.866022  interface  2.136203  -0.1781  -2.7864, token_table=      Topic      Freq       Term\n",
       "term                            \n",
       "5         1  0.472034   computer\n",
       "5         2  0.472034   computer\n",
       "3         1  0.472218        eps\n",
       "3         2  0.472218        eps\n",
       "10        1  0.354629      graph\n",
       "10        2  0.354629      graph\n",
       "7         1  0.471498      human\n",
       "7         2  0.471498      human\n",
       "1         1  0.468120  interface\n",
       "1         2  0.468120  interface\n",
       "6         1  0.473545     minors\n",
       "6         2  0.473545     minors\n",
       "0         1  0.472225   response\n",
       "0         2  0.472225   response\n",
       "2         1  0.473641     survey\n",
       "2         2  0.473641     survey\n",
       "11        1  0.562765     system\n",
       "11        2  0.562765     system\n",
       "4         1  0.470767       time\n",
       "4         2  0.470767       time\n",
       "9         1  0.353069      trees\n",
       "9         2  0.353069      trees\n",
       "8         1  0.705259       user\n",
       "8         2  0.352630       user, R=12, lambda_step=0.01, plot_opts={'xlab': 'PC1', 'ylab': 'PC2'}, topic_order=[1, 2])"
      ]
     },
     "execution_count": 70,
     "metadata": {},
     "output_type": "execute_result"
    }
   ],
   "source": [
    "pyLDAvis.gensim.prepare(badLdaModel, corpus, dictionary)"
   ]
  },
  {
   "cell_type": "code",
   "execution_count": 72,
   "metadata": {},
   "outputs": [
    {
     "name": "stdout",
     "output_type": "stream",
     "text": [
      "-14.646196768861003\n",
      "-14.726061108336854\n"
     ]
    }
   ],
   "source": [
    "print(goodcm.get_coherence())\n",
    "print(badcm.get_coherence())"
   ]
  },
  {
   "cell_type": "code",
   "execution_count": 64,
   "metadata": {},
   "outputs": [
    {
     "ename": "NameError",
     "evalue": "name 'train' is not defined",
     "output_type": "error",
     "traceback": [
      "\u001b[0;31m\u001b[0m",
      "\u001b[0;31mNameError\u001b[0mTraceback (most recent call last)",
      "\u001b[0;32m<ipython-input-64-a1af8cdf68d4>\u001b[0m in \u001b[0;36m<module>\u001b[0;34m\u001b[0m\n\u001b[1;32m     12\u001b[0m         \u001b[0mprint\u001b[0m\u001b[0;34m(\u001b[0m\u001b[0;34m\"%s\\t%f\\n\"\u001b[0m\u001b[0;34m%\u001b[0m\u001b[0;34m(\u001b[0m\u001b[0mlda\u001b[0m\u001b[0;34m.\u001b[0m\u001b[0mprint_topic\u001b[0m\u001b[0;34m(\u001b[0m\u001b[0mtopic\u001b[0m\u001b[0;34m[\u001b[0m\u001b[0;36m0\u001b[0m\u001b[0;34m]\u001b[0m\u001b[0;34m)\u001b[0m\u001b[0;34m,\u001b[0m \u001b[0mtopic\u001b[0m\u001b[0;34m[\u001b[0m\u001b[0;36m1\u001b[0m\u001b[0;34m]\u001b[0m\u001b[0;34m)\u001b[0m\u001b[0;34m)\u001b[0m\u001b[0;34m\u001b[0m\u001b[0m\n\u001b[1;32m     13\u001b[0m \u001b[0;34m\u001b[0m\u001b[0m\n\u001b[0;32m---> 14\u001b[0;31m \u001b[0mprint_doc_topic\u001b[0m\u001b[0;34m(\u001b[0m\u001b[0mtrain\u001b[0m\u001b[0;34m[\u001b[0m\u001b[0;36m6\u001b[0m\u001b[0;34m]\u001b[0m\u001b[0;34m)\u001b[0m\u001b[0;34m\u001b[0m\u001b[0m\n\u001b[0m\u001b[1;32m     15\u001b[0m \u001b[0mprint_doc_topic\u001b[0m\u001b[0;34m(\u001b[0m\u001b[0mtrain\u001b[0m\u001b[0;34m[\u001b[0m\u001b[0;36m21\u001b[0m\u001b[0;34m]\u001b[0m\u001b[0;34m)\u001b[0m\u001b[0;34m\u001b[0m\u001b[0m\n",
      "\u001b[0;31mNameError\u001b[0m: name 'train' is not defined"
     ]
    }
   ],
   "source": [
    "#  给定一个新文档，输出其主题分布'\n",
    "def print_doc_topic(doc):\n",
    "    print('-'*100)\n",
    "    print(doc)\n",
    "    print('-'*100)\n",
    "    doc_bow = dictionary.doc2bow(doc)      #文档转换成bow\n",
    "    doc_lda = lda[doc_bow]                   #得到新文档的主题分布\n",
    "    #输出新文档的主题分布\n",
    "    print(doc_lda)\n",
    "    print('-'*100)\n",
    "    for topic in doc_lda:\n",
    "        print(\"%s\\t%f\\n\"%(lda.print_topic(topic[0]), topic[1]))\n",
    "        \n",
    "print_doc_topic(train[6])      \n",
    "print_doc_topic(train[21]) "
   ]
  },
  {
   "cell_type": "markdown",
   "metadata": {},
   "source": [
    "### 1.50 分词效果"
   ]
  },
  {
   "cell_type": "code",
   "execution_count": 35,
   "metadata": {},
   "outputs": [],
   "source": [
    "chat='''请问一下win10系统怎么连上3055的网卡功能？ 我想使用它的无线打印 \n",
    "亲 打印机上是网线连接还是无线呢\n",
    "无线\n",
    "亲只查询到有网线和USB功能\n",
    "不会啊，我们公司的人用的是无线的啊\n",
    "亲打印机上有无线灯吗\n",
    "只是现在他们不会设置了，所以我来问问您 \n",
    "'''\n",
    "\n",
    "sent='''请您尽快联系服务站，请使用蓝色的手柄，天空是黑色的'''"
   ]
  },
  {
   "cell_type": "markdown",
   "metadata": {},
   "source": [
    "#### Jieba\n",
    "\n",
    "jieba的词性分类如下\n",
    "- [hscspring/结巴词性标记集](https://gist.github.com/hscspring/c985355e0814f01437eaf8fd55fd7998) : 这个更加符合jieba\n",
    "- [中文分词词性对照表](https://blog.csdn.net/kevin_darkelf/article/details/39520881)： 这个符合其他的"
   ]
  },
  {
   "cell_type": "code",
   "execution_count": 36,
   "metadata": {},
   "outputs": [
    {
     "name": "stdout",
     "output_type": "stream",
     "text": [
      "请/v 您/r 尽快/d 联系/n 服务站/n ，/x 请/v 使用/v 蓝色/n 的/uj 手柄/n ，/x 天空/n 是/v 黑色/n 的/uj\n"
     ]
    }
   ],
   "source": [
    "import jieba.posseg                                                            \n",
    " \n",
    "word_tags = jieba.posseg.cut(sent)                             \n",
    "print(' '.join('%s/%s' % (word, tag) for (word, tag) in word_tags if word.strip())) \n",
    "\n",
    "\n",
    "# for word, tag in word_tags:\n",
    "#     print('-'*50)\n",
    "#     word_tags_1 = [(word, tag) for word, tag in jieba.posseg.cut(word) ]\n",
    "#     print(word_tags_1)\n",
    "#     print('{}:{}'.format(word, tag))\n"
   ]
  },
  {
   "cell_type": "markdown",
   "metadata": {},
   "source": [
    "#### SnowNLP\n",
    "\n",
    "https://github.com/isnowfy/snownlp\n",
    "\n",
    "SnowNLP是一个python写的类库，可以方便的处理中文文本内容，是受到了TextBlob的启发而写的，由于现在大部分的自然语言处理库基本都是针对英文的，于是写了一个方便处理中文的类库，并且和TextBlob不同的是，这里没有用NLTK，所有的算法都是自己实现的，并且自带了一些训练好的字典。"
   ]
  },
  {
   "cell_type": "code",
   "execution_count": 37,
   "metadata": {},
   "outputs": [],
   "source": [
    "# !pip install --upgrade snownlp --proxy http://web-proxy.rose.hp.com:8080 "
   ]
  },
  {
   "cell_type": "code",
   "execution_count": 38,
   "metadata": {},
   "outputs": [
    {
     "name": "stdout",
     "output_type": "stream",
     "text": [
      "请/v 您/r 尽快/d 联系/v 服务站/n ，/w 请/v 使用/v 蓝色/n 的/u 手柄/n ，/w 天空/n 是/v 黑色/n 的/u\n"
     ]
    }
   ],
   "source": [
    "from snownlp import SnowNLP   \n",
    "snow_result = SnowNLP(sent)  \n",
    "print(' '.join('%s/%s' % (word, tag) for (word, tag) in snow_result.tags))"
   ]
  },
  {
   "cell_type": "markdown",
   "metadata": {},
   "source": [
    "#### PkuSeg\n",
    "\n",
    "https://github.com/lancopku/pkuseg-python\n",
    "\n",
    "一个多领域中文分词工具包。kuseg具有如下几个特点：\n",
    "\n",
    "- 多领域分词。不同于以往的通用中文分词工具，此工具包同时致力于为不同领域的数据提供个性化的预训练模型。根据待分词文本的领域特点，用户可以自由地选择不同的模型。 我们目前支持了新闻领域，网络领域，医药领域，旅游领域，以及混合领域的分词预训练模型。在使用中，如果用户明确待分词的领域，可加载对应的模型进行分词。如果用户无法确定具体领域，推荐使用在混合领域上训练的通用模型。各领域分词样例可参考 example.txt。\n",
    "- 更高的分词准确率。相比于其他的分词工具包，当使用相同的训练数据和测试数据，pkuseg可以取得更高的分词准确率。\n",
    "- 支持用户自训练模型。支持用户使用全新的标注数据进行训练。\n",
    "- 支持词性标注。"
   ]
  },
  {
   "cell_type": "code",
   "execution_count": 39,
   "metadata": {},
   "outputs": [],
   "source": [
    "# !pip install --upgrade pkuseg --proxy http://web-proxy.rose.hp.com:8080 "
   ]
  },
  {
   "cell_type": "code",
   "execution_count": 40,
   "metadata": {},
   "outputs": [
    {
     "name": "stdout",
     "output_type": "stream",
     "text": [
      "请/v 您/r 尽快/d 联系/v 服务站/n ，/w 请/v 使用/v 蓝色/n 的/u 手柄/n ，/w 天空/n 是/v 黑色/n 的/u\n"
     ]
    }
   ],
   "source": [
    "import pkuseg    \n",
    "pku_seg = pkuseg.pkuseg(postag=True) \n",
    "pku_results = pku_seg.cut(sent) \n",
    "# print(pku_results)\n",
    "print(' '.join('%s/%s' % (word, tag) for (word, tag) in pku_results))  "
   ]
  },
  {
   "cell_type": "markdown",
   "metadata": {},
   "source": [
    "#### THULAC\n",
    "\n",
    "https://github.com/thunlp/THULAC-Python\n",
    "    \n",
    "THULAC（THU Lexical Analyzer for Chinese）由清华大学自然语言处理与社会人文计算实验室研制推出的一套中文词法分析工具包，具有中文分词和词性标注功能。THULAC具有如下几个特点：\n",
    "\n",
    "- 能力强。利用我们集成的目前世界上规模最大的人工分词和词性标注中文语料库（约含5800万字）训练而成，模型标注能力强大。\n",
    "- 准确率高。该工具包在标准数据集Chinese Treebank（CTB5）上分词的F1值可达97.3％，词性标注的F1值可达到92.9％，与该数据集上最好方法效果相当。\n",
    "- 速度较快。同时进行分词和词性标注速度为300KB/s，每秒可处理约15万字。只进行分词速度可达到1.3MB/s。"
   ]
  },
  {
   "cell_type": "code",
   "execution_count": 23,
   "metadata": {},
   "outputs": [
    {
     "name": "stdout",
     "output_type": "stream",
     "text": [
      "Collecting thulac\n",
      "\u001b[?25l  Downloading https://files.pythonhosted.org/packages/f9/e6/d119d577db380be98b43020743c74292363f636a6bdb3527375d8cedc6ab/thulac-0.2.0.tar.gz (52.9MB)\n",
      "\u001b[K    100% |################################| 52.9MB 1.3MB/s eta 0:00:01   16% |#####                           | 8.8MB 1.3MB/s eta 0:00:36    33% |##########                      | 17.9MB 35.1MB/s eta 0:00:01    37% |###########                     | 19.8MB 21.0MB/s eta 0:00:02    72% |#######################         | 38.6MB 2.7MB/s eta 0:00:06    84% |###########################     | 44.7MB 3.8MB/s eta 0:00:03    87% |###########################     | 46.2MB 34.9MB/s eta 0:00:01    92% |#############################   | 48.9MB 34.0MB/s eta 0:00:01    97% |############################### | 51.8MB 32.3MB/s eta 0:00:01\n",
      "\u001b[?25hBuilding wheels for collected packages: thulac\n",
      "  Running setup.py bdist_wheel for thulac ... \u001b[?25ldone\n",
      "\u001b[?25h  Stored in directory: /root/.cache/pip/wheels/d2/3c/d4/2af73c09df43b30a03c280c85c5858b2744edf5d62edb5457b\n",
      "Successfully built thulac\n",
      "Installing collected packages: thulac\n",
      "Successfully installed thulac-0.2.0\n",
      "\u001b[33mYou are using pip version 18.1, however version 19.2.3 is available.\n",
      "You should consider upgrading via the 'pip install --upgrade pip' command.\u001b[0m\n"
     ]
    }
   ],
   "source": [
    "# !pip install --upgrade thulac --proxy http://web-proxy.rose.hp.com:8080 "
   ]
  },
  {
   "cell_type": "code",
   "execution_count": 30,
   "metadata": {},
   "outputs": [
    {
     "name": "stdout",
     "output_type": "stream",
     "text": [
      "Model loaded succeed\n",
      "[['请', 'v'], ['您', 'r'], ['尽快', 'd'], ['联系', 'v'], ['服务站', 'n'], ['，', 'w'], ['请', 'v'], ['使用', 'v'], ['蓝色', 'n'], ['的', 'u'], ['手柄', 'n']]\n",
      "请/v 您/r 尽快/d 联系/v 服务站/n ，/w 请/v 使用/v 蓝色/n 的/u 手柄/n\n"
     ]
    }
   ],
   "source": [
    "import thulac \n",
    "\n",
    "thup = thulac.thulac() \n",
    "thulac_result = thup.cut(sent)\n",
    "print(thulac_result)\n",
    "\n",
    "print(' '.join('%s/%s' % (word, tag) for (word, tag) in thulac_result))"
   ]
  },
  {
   "cell_type": "code",
   "execution_count": 29,
   "metadata": {},
   "outputs": [
    {
     "name": "stdout",
     "output_type": "stream",
     "text": [
      "Model loaded succeed\n",
      "[['我', ''], ['爱', ''], ['自然', ''], ['语言', ''], ['处理', '']]\n",
      "[['我', ''], ['可以', ''], ['获得', ''], ['这个', ''], ['奖励', ''], ['吗', '']]\n",
      "Model loaded succeed\n",
      "[['我', ''], ['爱', ''], ['自然', ''], ['语言', ''], ['处理', '']]\n",
      "[['我', ''], ['获得', ''], ['奖励', ''], ['吗', '']]\n"
     ]
    }
   ],
   "source": [
    "thup = thulac.thulac(seg_only=True) \n",
    "thulac_result = thup.cut('我爱自然语言处理')\n",
    "print(thulac_result)\n",
    "\n",
    "thulac_result = thup.cut('我可以获得这个奖励吗')\n",
    "print(thulac_result)\n",
    "\n",
    "thup = thulac.thulac(seg_only=True, filt=True) \n",
    "thulac_result = thup.cut('我爱自然语言处理')\n",
    "print(thulac_result)\n",
    "\n",
    "thulac_result = thup.cut('我可以获得这个奖励吗')\n",
    "print(thulac_result)"
   ]
  },
  {
   "cell_type": "markdown",
   "metadata": {},
   "source": [
    "下面用聊天记录里面一段话来做分词测试，感觉总体来看jieba还是最好的。"
   ]
  },
  {
   "cell_type": "code",
   "execution_count": 15,
   "metadata": {
    "scrolled": false
   },
   "outputs": [
    {
     "name": "stdout",
     "output_type": "stream",
     "text": [
      "请问/v\n",
      "一下/m\n",
      "win10/eng\n",
      "系统/n\n",
      "怎么/r\n",
      "连上/d\n",
      "3055/m\n",
      "的/uj\n",
      "网卡/n\n",
      "功能/n\n",
      "？/x\n",
      "我/r\n",
      "想/v\n",
      "使用/v\n",
      "它/r\n",
      "的/uj\n",
      "无线/n\n",
      "打印/v\n",
      "亲/v\n",
      "打印机/n\n",
      "上/f\n",
      "是/v\n",
      "网线/n\n",
      "连接/v\n",
      "还是/c\n",
      "无线/n\n",
      "呢/y\n",
      "无线/n\n",
      "亲/v\n",
      "只/d\n",
      "查询/v\n",
      "到/v\n",
      "有/v\n",
      "网线/n\n",
      "和/c\n",
      "USB/eng\n",
      "功能/n\n",
      "不会/v\n",
      "啊/zg\n",
      "，/x\n",
      "我们/r\n",
      "公司/n\n",
      "的/uj\n",
      "人用/n\n",
      "的/uj\n",
      "是/v\n",
      "无线/n\n",
      "的/uj\n",
      "啊/y\n",
      "亲/v\n",
      "打印机/n\n",
      "上/f\n",
      "有/v\n",
      "无线/n\n",
      "灯/n\n",
      "吗/y\n",
      "只是/c\n",
      "现在/t\n",
      "他们/r\n",
      "不会/v\n",
      "设置/vn\n",
      "了/ul\n",
      "，/x\n",
      "所以/c\n",
      "我/r\n",
      "来/v\n",
      "问问/n\n",
      "您/zg\n",
      "--------------------------------------------------\n",
      "请问/v\n",
      "一下/m\n",
      "win10/q\n",
      "系统/n\n",
      "怎么/r\n",
      "连/n\n",
      "上/f\n",
      "3055/o\n",
      "的/u\n",
      "网卡/s\n",
      "功能/n\n",
      "？/w\n",
      "我/r\n",
      "想/v\n",
      "使用/v\n",
      "它/r\n",
      "的/u\n",
      "无线/b\n",
      "打印/vn\n",
      "亲/a\n",
      "打印机/n\n",
      "上/f\n",
      "是/v\n",
      "网线/n\n",
      "连接/v\n",
      "还是/d\n",
      "无线/b\n",
      "呢/y\n",
      "无线/b\n",
      "亲/ad\n",
      "只/d\n",
      "查询/v\n",
      "到有/Bg\n",
      "网线/n\n",
      "和/c\n",
      "USB/h\n",
      "功能/n\n",
      "不/d\n",
      "会/v\n",
      "啊/y\n",
      "，/w\n",
      "我们/r\n",
      "公司/n\n",
      "的/u\n",
      "人/n\n",
      "用/v\n",
      "的/u\n",
      "是/v\n",
      "无线/b\n",
      "的/u\n",
      "啊/y\n",
      "亲/a\n",
      "打印机/n\n",
      "上/f\n",
      "有/v\n",
      "无线/b\n",
      "灯/n\n",
      "吗/y\n",
      "只是/c\n",
      "现在/t\n",
      "他们/r\n",
      "不/d\n",
      "会/v\n",
      "设置/v\n",
      "了/y\n",
      "，/w\n",
      "所以/c\n",
      "我/r\n",
      "来/v\n",
      "问问/v\n",
      "您/r\n",
      "--------------------------------------------------\n",
      "请问/v\n",
      "一下/m\n",
      "win10/n\n",
      "系统/n\n",
      "怎么/r\n",
      "连/v\n",
      "上/v\n",
      "3055/m\n",
      "的/u\n",
      "网卡/n\n",
      "功能/n\n",
      "？/w\n",
      "我/r\n",
      "想/v\n",
      "使用/v\n",
      "它/r\n",
      "的/u\n",
      "无线/b\n",
      "打印/vn\n",
      "亲/n\n",
      "打印机/n\n",
      "上/v\n",
      "是/v\n",
      "网线/n\n",
      "连接/v\n",
      "还是/c\n",
      "无线/b\n",
      "呢/y\n",
      "无线/b\n",
      "亲/n\n",
      "只/d\n",
      "查询/v\n",
      "到/v\n",
      "有/v\n",
      "网线/n\n",
      "和/c\n",
      "USB/vn\n",
      "功能/n\n",
      "不/d\n",
      "会/v\n",
      "啊/y\n",
      "，/w\n",
      "我们/r\n",
      "公司/n\n",
      "的/u\n",
      "人/n\n",
      "用/v\n",
      "的/u\n",
      "是/v\n",
      "无线/b\n",
      "的/u\n",
      "啊/y\n",
      "亲/a\n",
      "打印机/n\n",
      "上/v\n",
      "有/v\n",
      "无线灯/n\n",
      "吗/y\n",
      "只是/c\n",
      "现在/t\n",
      "他们/r\n",
      "不/d\n",
      "会/v\n",
      "设置/v\n",
      "了/y\n",
      "，/w\n",
      "所以/c\n",
      "我/r\n",
      "来/v\n",
      "问问/v\n",
      "您/r\n",
      "--------------------------------------------------\n",
      "请问/v\n",
      "一下/m\n",
      "win/n\n",
      "10/m\n",
      "系统/n\n",
      "怎/c\n",
      "么/v\n",
      "连/u\n",
      "上/v\n",
      "3055/m\n",
      "的/u\n",
      "网/n\n",
      "卡/n\n",
      "功能/n\n",
      "？/w\n",
      " /v\n",
      "我/r\n",
      "想/v\n",
      "使用/v\n",
      "它/r\n",
      "的/u\n",
      "无线/a\n",
      "打印/v\n",
      " /np\n",
      "\n",
      "/\n",
      "亲/a\n",
      " /g\n",
      "打印机/n\n",
      "上/f\n",
      "是/v\n",
      "网线/n\n",
      "连/d\n",
      "接/v\n",
      "还是/d\n",
      "无线/a\n",
      "呢/u\n",
      "\n",
      "/\n",
      "无线/a\n",
      "\n",
      "/\n",
      "亲只/d\n",
      "查询/v\n",
      "到/v\n",
      "有/v\n",
      "网/n\n",
      "线/n\n",
      "和/c\n",
      "USB功能/n\n",
      "\n",
      "/\n",
      "不/d\n",
      "会/v\n",
      "啊/u\n",
      "，/w\n",
      "我们/r\n",
      "公司/n\n",
      "的/u\n",
      "人/n\n",
      "用/v\n",
      "的/u\n",
      "是/v\n",
      "无线/a\n",
      "的/u\n",
      "啊/u\n",
      "\n",
      "/\n",
      "亲/a\n",
      "打印机/n\n",
      "上/f\n",
      "有/v\n",
      "无线灯/n\n",
      "吗/u\n",
      "\n",
      "/\n",
      "只是/c\n",
      "现在/t\n",
      "他们/r\n",
      "不/d\n",
      "会/v\n",
      "设置/v\n",
      "了/u\n",
      "，/w\n",
      "所以/c\n",
      "我/r\n",
      "来/v\n",
      "问问/v\n",
      "您/r\n",
      " /v\n",
      "\n",
      "/\n",
      "--------------------------------------------------\n"
     ]
    }
   ],
   "source": [
    "word_tags = jieba.posseg.cut(chat)   \n",
    "snow_result = SnowNLP(chat)  \n",
    "pku_results = pku_seg.cut(chat) \n",
    "thulac_result = thup.cut(chat)\n",
    "\n",
    "print('\\n'.join('%s/%s' % (word, tag) for (word, tag) in word_tags if word.strip())) \n",
    "print('-'*50)\n",
    "print('\\n'.join('%s/%s' % (word, tag) for (word, tag) in snow_result.tags)) \n",
    "print('-'*50)\n",
    "print('\\n'.join('%s/%s' % (word, tag) for (word, tag) in pku_results)) \n",
    "print('-'*50)\n",
    "print('\\n'.join('%s/%s' % (word, tag) for (word, tag) in thulac_result)) \n",
    "print('-'*50)"
   ]
  },
  {
   "cell_type": "markdown",
   "metadata": {},
   "source": [
    "### 1.49 Poision分布实例\n",
    "某个小店，每天平均卖出5杯酸奶，老板希望90%的情况下，不会缺货，请问每天应该保持备货多少？"
   ]
  },
  {
   "cell_type": "code",
   "execution_count": 17,
   "metadata": {},
   "outputs": [
    {
     "data": {
      "text/plain": [
       "[(0, 0.006737946999085467, 0.006737946999085468),\n",
       " (1, 0.03368973499542734, 0.04042768199451279),\n",
       " (2, 0.08422433748856832, 0.12465201948308108),\n",
       " (3, 0.1403738958142805, 0.2650259152973616),\n",
       " (4, 0.17546736976785063, 0.44049328506521257),\n",
       " (5, 0.17546736976785068, 0.615960654833063),\n",
       " (6, 0.1462228081398754, 0.7621834629729387),\n",
       " (7, 0.10444486295705395, 0.8666283259299925),\n",
       " (8, 0.06527803934815865, 0.9319063652781516),\n",
       " (9, 0.036265577415643714, 0.9681719426937951)]"
      ]
     },
     "execution_count": 17,
     "metadata": {},
     "output_type": "execute_result"
    }
   ],
   "source": [
    "import scipy.stats as st\n",
    "rv = st.poisson(5)\n",
    "[(i, rv.pmf(i), rv.cdf(i)) for i in range(10)]\n",
    "# pmf: probability mass function，概率质量函数\n",
    "# cdf：cumulative distribution function，累积分布函数 \n",
    "# 可以看出，当备货8个的时候，93.2%的情况下不会缺货，满足条件"
   ]
  },
  {
   "cell_type": "markdown",
   "metadata": {},
   "source": [
    "可视化"
   ]
  },
  {
   "cell_type": "code",
   "execution_count": 13,
   "metadata": {},
   "outputs": [
    {
     "data": {
      "image/png": "[encoded data removed]",
      "text/plain": [
       "<Figure size 432x288 with 1 Axes>"
      ]
     },
     "metadata": {
      "needs_background": "light"
     },
     "output_type": "display_data"
    }
   ],
   "source": [
    "import numpy as np\n",
    "import matplotlib.pyplot as plt\n",
    "\n",
    "x = np.random.poisson(lam=5, size=1000)  # lam为λ size为k\n",
    "pillar = 15\n",
    "a = plt.hist(x, bins=pillar, normed=True, range=[0, pillar], color='g', alpha=0.5)\n",
    "plt.plot(a[1][0:pillar], a[0], 'r')\n",
    "plt.grid()\n",
    "plt.show()\n"
   ]
  },
  {
   "cell_type": "markdown",
   "metadata": {},
   "source": [
    "### 1.48 字符串编辑距离\n",
    "\n",
    "参考\n",
    "- [字符串编辑距离问题详解](https://www.cnblogs.com/jiabei521/p/3353390.html)\n",
    "\n",
    "\n",
    "字符串的编辑距离也被称为距Levenshtein距离（Levenshtein Distance），属于经典算法，常用方法使用递归，更好的方法是使用动态规划算法，以避免出现重叠子问题的反复计算，减少系统开销。\n",
    "\n",
    "函数dist(str1, str2)表示字串str1转变到字串str2的编辑距离，对于下面3种极端情况，容易给出解答（0表示空串）\n",
    "\n",
    "- dist(0, 0) = 0\n",
    "- dist(0, s) = strlen(s)\n",
    "- dist(s, 0) = strlen(s)\n",
    "\n",
    "\n",
    "对于一般的情况，dist(str1, str2)我们应该如何求解呢？\n",
    "\n",
    "\n",
    "**解析：**\n",
    "\n",
    "首先定义这样一个函数——edit(i, j)，它表示第一个字符串的长度为i的子串到第二个字符串的长度为j的子串的编辑距离。\n",
    "\n",
    "显然可以有如下动态规划公式：\n",
    "\n",
    "- if i == 0 且 j == 0, edit(i, j) = 0  \n",
    "- if i == 0 且 j > 0, edit(i, j) = j  \n",
    "- if i > 0 且j == 0, edit(i, j) = i  \n",
    "- if i ≥ 1  且 j ≥ 1, edit(i, j) == min{ edit(i-1, j) + 1, edit(i, j-1) + 1, edit(i-1, j-1) + f(i, j)}     \n",
    "  当第一个字符串的第i个字符不等于第二个字符串的第j个字符时，f(i, j) = 1；否则，f(i, j) = 0。 \n",
    "\n",
    "\n"
   ]
  },
  {
   "cell_type": "code",
   "execution_count": 65,
   "metadata": {},
   "outputs": [
    {
     "name": "stdout",
     "output_type": "stream",
     "text": [
      "5\n",
      "2\n"
     ]
    }
   ],
   "source": [
    "def eidt_1(s1, s2):\n",
    "    # 矩阵的下标得多一个\n",
    "    len_str1 = len(s1) + 1\n",
    "    len_str2 = len(s2) + 1\n",
    " \n",
    "    # 初始化了一半  剩下一半在下面初始化\n",
    "    matrix = [[0] * (len_str2) for i in range(len_str1)]\n",
    " \n",
    "    for i in range(len_str1):\n",
    "        for j in range(len_str2):\n",
    "            if i == 0 and j == 0:\n",
    "                matrix[i][j] = 0\n",
    "            # 初始化矩阵\n",
    "            elif i == 0 and j > 0:\n",
    "                matrix[0][j] = j\n",
    "            elif i > 0 and j == 0:\n",
    "                matrix[i][0] = i\n",
    "            # flag\n",
    "            elif s1[i - 1] == s2[j - 1]:\n",
    "                matrix[i][j] = min(matrix[i - 1][j - 1], matrix[i][j - 1] + 1, matrix[i - 1][j] + 1)\n",
    "            else:\n",
    "                matrix[i][j] = min(matrix[i - 1][j - 1] + 1, matrix[i][j - 1] + 1, matrix[i - 1][j] + 1)\n",
    "    return matrix[len_str1 - 1][len_str2 - 1]\n",
    "\n",
    "\n",
    "print(eidt_1('xymichael', 'michoelab'))\n",
    "print(eidt_1('babab', 'ababa')) #"
   ]
  },
  {
   "cell_type": "code",
   "execution_count": 60,
   "metadata": {},
   "outputs": [
    {
     "data": {
      "text/plain": [
       "5"
      ]
     },
     "execution_count": 60,
     "metadata": {},
     "output_type": "execute_result"
    }
   ],
   "source": [
    "# ! pip install python-Levenshtein --proxy http://web-proxy.rose.hp.com:8080  \n",
    "\n",
    "import Levenshtein\n",
    "Levenshtein.distance('xymichael', 'michoelab')"
   ]
  },
  {
   "cell_type": "markdown",
   "metadata": {},
   "source": [
    "### 1.47 熵的手工计算"
   ]
  },
  {
   "cell_type": "code",
   "execution_count": 73,
   "metadata": {},
   "outputs": [
    {
     "name": "stdout",
     "output_type": "stream",
     "text": [
      "--------------------------------------------------\n",
      "0.9182958340544896\n",
      "1.0\n",
      "1.0030000000000001 2.905797333213452\n",
      "--------------------------------------------------\n",
      "1.8250112108241772\n",
      "[0.5 0.5] [0.66666667 0.33333333] 1.0 0.9182958340544896 1.9182958340544896\n",
      "--------------------------------------------------\n",
      "1.792481250360578\n",
      "[0.33333333 0.66666667] [0.33333333 0.66666667] 0.9182958340544896 0.9182958340544896 1.8365916681089791\n",
      "--------------------------------------------------\n",
      "0.6284872069782574\n",
      "0.000930882541673915\n",
      "0.8216734866150894\n",
      "0.3274087885743683\n"
     ]
    }
   ],
   "source": [
    "from math import log, exp\n",
    "import numpy as np\n",
    "\n",
    "# 熵\n",
    "def entropy(X, base=None):    \n",
    "    h = sum([-x*log(x) for x in X]) if base is None else sum([-x*log(x, base) for x in X])\n",
    "    return h\n",
    "\n",
    "print('-'*50)\n",
    "print(entropy([1/3, 2/3], base=2))    \n",
    "print(entropy([1/2, 1/2], base=2))\n",
    "frequency = [12.7, 9.1, 8.2, 7.5, 6.7, 7.0, 6.3, 6.1, 6.0, 4.3, 4.0, \n",
    "             2.8, 2.8, 2.4, 2.4, 2.2, 2.0, 2.0, 1.9, 1.5, 1.0, 0.2,\n",
    "             0.8, 0.1, 0.2, 0.1]\n",
    "frequency = [freq/100 for freq in frequency ]\n",
    "print(sum(frequency), entropy(frequency))\n",
    "\n",
    "# 联合熵\n",
    "def joint_entropy(XY, base=None):\n",
    "    xy = [p for xY in XY for p in xY ]\n",
    "    return entropy(xy, base)\n",
    "  \n",
    "print('-'*50)    \n",
    "XY = [[5/12,3/12], [1/12,3/12]]\n",
    "print(joint_entropy(XY, base=2)) \n",
    "\n",
    "X = np.sum(np.array(XY), axis=0)\n",
    "Y = np.sum(np.array(XY), axis=1)\n",
    "\n",
    "# 可以发现，当X，Y并不独立的时候，整体X， Y的熵会变小。\n",
    "print(X, Y, entropy(X, base=2), entropy(Y, base=2), entropy(X, base=2)+entropy(Y, base=2))\n",
    "\n",
    "print('-'*50)    \n",
    "XY = [[1/6,1/6], [1/6,3/6]]\n",
    "print(joint_entropy(XY, base=2)) \n",
    "\n",
    "X = np.sum(np.array(XY), axis=0)\n",
    "Y = np.sum(np.array(XY), axis=1)\n",
    "\n",
    "# 可以发现，当X，Y并不独立的时候，整体X， Y的熵会变小。\n",
    "print(X, Y, entropy(X, base=2), entropy(Y, base=2), entropy(X, base=2)+entropy(Y, base=2))\n",
    "\n",
    "# 条件熵\n",
    "def conditional_entropy(Y_X, base=None):\n",
    "    h = sum([ Y_x['x'] * entropy(Y_x['Y'], base) for Y_x in Y_X])\n",
    "    return h\n",
    "            \n",
    "\n",
    "print('-'*50)\n",
    "Y_X = [{'x':1/3, 'Y':[1/4, 3/4]},\n",
    "       {'x':2/3, 'Y':[3/8, 5/8]}]\n",
    "print(conditional_entropy(Y_X))\n",
    "\n",
    "# KL散度\n",
    "\n",
    "def KL(P,Q):\n",
    "    sum = P*(np.log2(P/Q))#计算KL散度\n",
    "    all_value= [x for x in sum if str(x) != 'nan' and str(x)!= 'inf']#除去inf值\n",
    "    return np.sum(all_value)#计算总和，要用np.sum,不能直接用sum\n",
    "\n",
    "#P和Q是两个概率分布，np.array格式\n",
    "P = np.array([0.65, 0.35])\n",
    "Q = np.array([0.667,0.333])\n",
    "print(KL(P,Q))#得出KL散度值\n",
    "\n",
    "P = np.array([0.65, 0.35])\n",
    "Q = np.array([0.17,0.83])\n",
    "print(KL(P,Q))#得出KL散度值\n",
    "\n",
    "P = np.array([0.65, 0.35])\n",
    "Q = np.array([0.9,0.1])\n",
    "print(KL(P,Q))#得出KL散度值"
   ]
  },
  {
   "cell_type": "markdown",
   "metadata": {},
   "source": [
    "### 1.46  50个人中，有人生日相同的概率是多少\n",
    "\n",
    "把1年365天想象成365个房间, 第一个孩子随机选择一个房间进入, 第二个孩子,只有364个房子可以选择,概率也就是$\\frac {364} {365}$, 以此类推, 可以的到下面的结果. "
   ]
  },
  {
   "cell_type": "code",
   "execution_count": 2,
   "metadata": {},
   "outputs": [
    {
     "name": "stdout",
     "output_type": "stream",
     "text": [
      "24\n",
      "0.9703735795779884\n",
      "0.9482528433672548\n"
     ]
    }
   ],
   "source": [
    "from functools import reduce\n",
    "print(reduce(lambda x,y:x*y,[1,2,3,2,2]))\n",
    "print(1-reduce(lambda x,y:x*y,[(1-i/365) for i in range(50)]))\n",
    "print(1-reduce(lambda x,y:x*y,[(1-i/365) for i in range(46)])) #女儿班上有46个孩子"
   ]
  },
  {
   "cell_type": "markdown",
   "metadata": {},
   "source": [
    "### 1.45 基于词向量计算文本相似程度   【2019-05-23】\n",
    "\n",
    "[四种计算文本相似度的方法对比](https://zhuanlan.zhihu.com/p/37104535)"
   ]
  },
  {
   "cell_type": "code",
   "execution_count": null,
   "metadata": {},
   "outputs": [],
   "source": []
  },
  {
   "cell_type": "markdown",
   "metadata": {},
   "source": [
    "### 1.44 数据库使用心得   【2019-03-22】\n",
    "\n",
    "虽然不同数据库的特点不同，但基本的准则确几乎相同。\n",
    "\n",
    "- 对于并发高的query，一定要速度快，最好能在秒级（少于三秒）返回结果，否则性能会受影响。\n",
    "- 对于慢的query，尽量放在后台来运行，避免前端长时间等待。\n",
    "- 数据库日常时段，避免后台有大量慢的query，cpu的占用率要控制。\n",
    "- 数据库空闲时段，可以预先计算生成一些数据。在日常时段，这些数据可以被用户快速查询，避免在线计算。\n",
    "- 对于返回记录多的查询（超过10000条以上），可以把数据生成到磁盘文件，然后前端来调用文件，这样或许性能更好。\n",
    "\n",
    "对于像Redshift这样MPP的数据库，形如select * from a where id=?的查询，不管表的大小，其性能一般，而对于MySQL, PostgreSQL这样的数据库，如果id上有索引，性能会非常好。在前端的应用中，大部分的查询都是基于主键来查询的，则决定了MySQL, PostgreSQL适合这样的场景，而Redshift不适合。\n",
    "\n",
    "而在数据处理和分析中，查询往往是多表连接，而且有多种查询条件（很难命中索引），往往还有groupby，甚至窗口函数，这样的情况，Redshift性能很好，而MySQL, PostgreSQL性能很一般。这决定了，在数据处理和分析中，Redshift更加适合，MySQL, PostgreSQL不适合。"
   ]
  },
  {
   "cell_type": "markdown",
   "metadata": {},
   "source": [
    "### 1.43 s3目录转换   【2019-03-21】\n",
    "\n",
    "把s3目录的进行改变。下面的实例中，把web/\\[openid\\]变成openid/right(\\[openid\\],1)/\\[openid\\]。\n",
    "\n",
    "\n",
    "**获取当前s3列表**\n",
    "```shell\n",
    "aws s3 ls s3://hpi-cn-local-business-css-wechat/css-wechat-analysis/prod/user-profile/data/web/  > file_list.txt\n",
    "\n",
    "```\n",
    "\n",
    "**获取文件名**\n",
    "```shell\n",
    "echo > openid.txt\n",
    "i=0\n",
    "while read line\n",
    "do \n",
    "  if [ ${line: -1} = \"/\" ]; then\n",
    "    echo -----------------------------------------\n",
    "    folder=`echo $line | awk '{print $2}'`\n",
    "    echo ${folder: 0:-1} in ${line}  \n",
    "    echo ${folder: 0:-1} >> openid.txt\n",
    "  fi\n",
    "  let i=$i+1\n",
    "done < ls_openid.txt\n",
    "\n",
    "```\n",
    "\n",
    "**格式转换**\n",
    "```shell\n",
    "i=0\n",
    "j=0\n",
    "source=s3://hpi-cn-local-business-css-wechat/css-wechat-analysis/prod/user-profile/data/web\n",
    "target=s3://hpi-cn-local-business-css-wechat/css-wechat-analysis/prod/user-profile/data/openid\n",
    "cnt=`wc -l openid.txt | awk '{print $1}'`\n",
    "while read line\n",
    "do \n",
    "  let i=$i+1\n",
    "  echo -------------------$i/$cnt----------------------\n",
    "  \n",
    "  # 转换和控制逻辑。比如下面的逻辑：目录如果是数字，则不用复制。\n",
    "  if [ -n \"`echo $line | sed 's/[0-9]//g'`\" ] && [ '$line' != 'evaluate' ]; then   \n",
    "    \n",
    "    let j=$j+1\n",
    "    # 用目录的最右边的字符，作为上层的目录名称 \n",
    "    echo $j: aws s3 cp $source/$line/ $target/${line: -1}/$line/ --recursive \n",
    "    aws s3 cp $source/$line/ $target/${line: -1}/$line/ --recursive \n",
    "  else\n",
    "    echo  ignore because $line is number\n",
    "  fi    \n",
    "done < openid.txt\n",
    "```"
   ]
  },
  {
   "cell_type": "markdown",
   "metadata": {},
   "source": [
    "### 1.42 EDA中的几个可视化方法   【2018-11-20】\n",
    "\n",
    "EDA ：Exploratory Data Analysis\n",
    "\n",
    "**计算一个列比另外一个列大的比例分布**  \n",
    "这个来自competitive-data-science里面的第二周EDA的内容。主要是显示一下一个列比另外一个列大的情况，可以用于探索一个列是否比另外一个列大的情况。"
   ]
  },
  {
   "cell_type": "code",
   "execution_count": 72,
   "metadata": {},
   "outputs": [],
   "source": [
    "import pandas as pd\n",
    "import numpy as np\n",
    "import matplotlib.pyplot as plt\n",
    "%matplotlib inline\n",
    "\n",
    "def autolabel(arrayA):\n",
    "    ''' label each colored square with the corresponding data value. \n",
    "    If value > 20, the text is in black, else in white.\n",
    "    '''\n",
    "    arrayA = np.array(arrayA)\n",
    "    for i in range(arrayA.shape[0]):\n",
    "        for j in range(arrayA.shape[1]):\n",
    "                plt.text(j,i, \"%.2f\"%arrayA[i,j], ha='center', va='bottom',color='w')\n",
    "\n",
    "def hist_it(feat):\n",
    "    plt.figure(figsize=(16,4))\n",
    "    feat[Y==0].hist(bins=range(int(feat.min()),int(feat.max()+2)),normed=True,alpha=0.8)\n",
    "    feat[Y==1].hist(bins=range(int(feat.min()),int(feat.max()+2)),normed=True,alpha=0.5)\n",
    "    plt.ylim((0,1))\n",
    "    \n",
    "# 计算一个列，比另外一个列大的比例分布    \n",
    "def gt_matrix(feats, df, sz=16):\n",
    "    a = []\n",
    "    for i,c1 in enumerate(feats):\n",
    "#         print('='*50)\n",
    "        b = [] \n",
    "        for j,c2 in enumerate(feats):\n",
    "#             print('-'*50)\n",
    "            mask = (~df[c1].isnull()) & (~df[c2].isnull())\n",
    "#             print(c1, c2)\n",
    "#             print(mask)\n",
    "            if i>=j:\n",
    "                b.append((df.loc[mask,c1].values>=df.loc[mask,c2].values).mean())\n",
    "            else:\n",
    "                b.append((df.loc[mask,c1].values>df.loc[mask,c2].values).mean())\n",
    "\n",
    "        a.append(b)\n",
    "\n",
    "    plt.figure(figsize = (sz,sz))\n",
    "    print(a)\n",
    "    plt.imshow(a, interpolation = 'None')\n",
    "    _ = plt.xticks(range(len(feats)),feats,rotation = 90)\n",
    "    _ = plt.yticks(range(len(feats)),feats,rotation = 0)\n",
    "    autolabel(a)"
   ]
  },
  {
   "cell_type": "code",
   "execution_count": 73,
   "metadata": {},
   "outputs": [
    {
     "name": "stdout",
     "output_type": "stream",
     "text": [
      "        one       two     three four  five\n",
      "a       NaN -0.263206  0.380413  bar   0.0\n",
      "b -0.731498 -0.419401 -1.286448  bar   0.0\n",
      "c  0.895255  0.024684 -2.899255  NaN   1.0\n",
      "e -0.977362  1.368067 -0.882339  bar   0.0\n",
      "f       NaN       NaN -0.640988  bar   1.0\n",
      "h -1.435870 -0.058584  0.389736  bar   NaN\n",
      "['one', 'two', 'three', 'five']\n",
      "[[1.0, 0.25, 0.5, 0.0], [0.75, 1.0, 0.6, 0.25], [0.5, 0.4, 1.0, 0.2], [1.0, 0.75, 0.8, 1.0]]\n"
     ]
    },
    {
     "data": {
      "image/png": "[encoded data removed]",
      "text/plain": [
       "<Figure size 1152x1152 with 1 Axes>"
      ]
     },
     "metadata": {
      "needs_background": "light"
     },
     "output_type": "display_data"
    }
   ],
   "source": [
    "df = pd.DataFrame(np.random.randn(6, 3), index=['a', 'b', 'c', 'e', 'f', 'h'],\n",
    "                  columns=['one', 'two', 'three'])\n",
    "\n",
    "df['four'] = 'bar'\n",
    "df['five'] = df['one'] > 0\n",
    "df.loc['a', 'one'] = float('NaN')\n",
    "df.loc['f', 'one'] = float('NaN')\n",
    "df.loc['f', 'two'] = float('NaN')\n",
    "df.loc['c', 'four'] = float('NaN')\n",
    "df.loc['h', 'five'] = float('NaN')\n",
    "\n",
    "# df.replace('NaN', -999, inplace=True)\n",
    "print(df)\n",
    "\n",
    "cat_cols = list(df.select_dtypes(include=['object']).columns)\n",
    "num_cols = list(df.select_dtypes(exclude=['object']).columns)\n",
    "print(num_cols)\n",
    "\n",
    "# build 'mean(feat1 > feat2)' plot\n",
    "gt_matrix(num_cols,df, 16)\n"
   ]
  },
  {
   "cell_type": "code",
   "execution_count": 76,
   "metadata": {},
   "outputs": [
    {
     "data": {
      "text/plain": [
       "{'DESCR': 'Iris Plants Database\\n====================\\n\\nNotes\\n-----\\nData Set Characteristics:\\n    :Number of Instances: 150 (50 in each of three classes)\\n    :Number of Attributes: 4 numeric, predictive attributes and the class\\n    :Attribute Information:\\n        - sepal length in cm\\n        - sepal width in cm\\n        - petal length in cm\\n        - petal width in cm\\n        - class:\\n                - Iris-Setosa\\n                - Iris-Versicolour\\n                - Iris-Virginica\\n    :Summary Statistics:\\n\\n    ============== ==== ==== ======= ===== ====================\\n                    Min  Max   Mean    SD   Class Correlation\\n    ============== ==== ==== ======= ===== ====================\\n    sepal length:   4.3  7.9   5.84   0.83    0.7826\\n    sepal width:    2.0  4.4   3.05   0.43   -0.4194\\n    petal length:   1.0  6.9   3.76   1.76    0.9490  (high!)\\n    petal width:    0.1  2.5   1.20  0.76     0.9565  (high!)\\n    ============== ==== ==== ======= ===== ====================\\n\\n    :Missing Attribute Values: None\\n    :Class Distribution: 33.3% for each of 3 classes.\\n    :Creator: R.A. Fisher\\n    :Donor: Michael Marshall (MARSHALL%PLU@io.arc.nasa.gov)\\n    :Date: July, 1988\\n\\nThis is a copy of UCI ML iris datasets.\\nhttp://archive.ics.uci.edu/ml/datasets/Iris\\n\\nThe famous Iris database, first used by Sir R.A Fisher\\n\\nThis is perhaps the best known database to be found in the\\npattern recognition literature.  Fisher\\'s paper is a classic in the field and\\nis referenced frequently to this day.  (See Duda & Hart, for example.)  The\\ndata set contains 3 classes of 50 instances each, where each class refers to a\\ntype of iris plant.  One class is linearly separable from the other 2; the\\nlatter are NOT linearly separable from each other.\\n\\nReferences\\n----------\\n   - Fisher,R.A. \"The use of multiple measurements in taxonomic problems\"\\n     Annual Eugenics, 7, Part II, 179-188 (1936); also in \"Contributions to\\n     Mathematical Statistics\" (John Wiley, NY, 1950).\\n   - Duda,R.O., & Hart,P.E. (1973) Pattern Classification and Scene Analysis.\\n     (Q327.D83) John Wiley & Sons.  ISBN 0-471-22361-1.  See page 218.\\n   - Dasarathy, B.V. (1980) \"Nosing Around the Neighborhood: A New System\\n     Structure and Classification Rule for Recognition in Partially Exposed\\n     Environments\".  IEEE Transactions on Pattern Analysis and Machine\\n     Intelligence, Vol. PAMI-2, No. 1, 67-71.\\n   - Gates, G.W. (1972) \"The Reduced Nearest Neighbor Rule\".  IEEE Transactions\\n     on Information Theory, May 1972, 431-433.\\n   - See also: 1988 MLC Proceedings, 54-64.  Cheeseman et al\"s AUTOCLASS II\\n     conceptual clustering system finds 3 classes in the data.\\n   - Many, many more ...\\n',\n",
       " 'data': array([[5.1, 3.5, 1.4, 0.2],\n",
       "        [4.9, 3. , 1.4, 0.2],\n",
       "        [4.7, 3.2, 1.3, 0.2],\n",
       "        [4.6, 3.1, 1.5, 0.2],\n",
       "        [5. , 3.6, 1.4, 0.2],\n",
       "        [5.4, 3.9, 1.7, 0.4],\n",
       "        [4.6, 3.4, 1.4, 0.3],\n",
       "        [5. , 3.4, 1.5, 0.2],\n",
       "        [4.4, 2.9, 1.4, 0.2],\n",
       "        [4.9, 3.1, 1.5, 0.1],\n",
       "        [5.4, 3.7, 1.5, 0.2],\n",
       "        [4.8, 3.4, 1.6, 0.2],\n",
       "        [4.8, 3. , 1.4, 0.1],\n",
       "        [4.3, 3. , 1.1, 0.1],\n",
       "        [5.8, 4. , 1.2, 0.2],\n",
       "        [5.7, 4.4, 1.5, 0.4],\n",
       "        [5.4, 3.9, 1.3, 0.4],\n",
       "        [5.1, 3.5, 1.4, 0.3],\n",
       "        [5.7, 3.8, 1.7, 0.3],\n",
       "        [5.1, 3.8, 1.5, 0.3],\n",
       "        [5.4, 3.4, 1.7, 0.2],\n",
       "        [5.1, 3.7, 1.5, 0.4],\n",
       "        [4.6, 3.6, 1. , 0.2],\n",
       "        [5.1, 3.3, 1.7, 0.5],\n",
       "        [4.8, 3.4, 1.9, 0.2],\n",
       "        [5. , 3. , 1.6, 0.2],\n",
       "        [5. , 3.4, 1.6, 0.4],\n",
       "        [5.2, 3.5, 1.5, 0.2],\n",
       "        [5.2, 3.4, 1.4, 0.2],\n",
       "        [4.7, 3.2, 1.6, 0.2],\n",
       "        [4.8, 3.1, 1.6, 0.2],\n",
       "        [5.4, 3.4, 1.5, 0.4],\n",
       "        [5.2, 4.1, 1.5, 0.1],\n",
       "        [5.5, 4.2, 1.4, 0.2],\n",
       "        [4.9, 3.1, 1.5, 0.1],\n",
       "        [5. , 3.2, 1.2, 0.2],\n",
       "        [5.5, 3.5, 1.3, 0.2],\n",
       "        [4.9, 3.1, 1.5, 0.1],\n",
       "        [4.4, 3. , 1.3, 0.2],\n",
       "        [5.1, 3.4, 1.5, 0.2],\n",
       "        [5. , 3.5, 1.3, 0.3],\n",
       "        [4.5, 2.3, 1.3, 0.3],\n",
       "        [4.4, 3.2, 1.3, 0.2],\n",
       "        [5. , 3.5, 1.6, 0.6],\n",
       "        [5.1, 3.8, 1.9, 0.4],\n",
       "        [4.8, 3. , 1.4, 0.3],\n",
       "        [5.1, 3.8, 1.6, 0.2],\n",
       "        [4.6, 3.2, 1.4, 0.2],\n",
       "        [5.3, 3.7, 1.5, 0.2],\n",
       "        [5. , 3.3, 1.4, 0.2],\n",
       "        [7. , 3.2, 4.7, 1.4],\n",
       "        [6.4, 3.2, 4.5, 1.5],\n",
       "        [6.9, 3.1, 4.9, 1.5],\n",
       "        [5.5, 2.3, 4. , 1.3],\n",
       "        [6.5, 2.8, 4.6, 1.5],\n",
       "        [5.7, 2.8, 4.5, 1.3],\n",
       "        [6.3, 3.3, 4.7, 1.6],\n",
       "        [4.9, 2.4, 3.3, 1. ],\n",
       "        [6.6, 2.9, 4.6, 1.3],\n",
       "        [5.2, 2.7, 3.9, 1.4],\n",
       "        [5. , 2. , 3.5, 1. ],\n",
       "        [5.9, 3. , 4.2, 1.5],\n",
       "        [6. , 2.2, 4. , 1. ],\n",
       "        [6.1, 2.9, 4.7, 1.4],\n",
       "        [5.6, 2.9, 3.6, 1.3],\n",
       "        [6.7, 3.1, 4.4, 1.4],\n",
       "        [5.6, 3. , 4.5, 1.5],\n",
       "        [5.8, 2.7, 4.1, 1. ],\n",
       "        [6.2, 2.2, 4.5, 1.5],\n",
       "        [5.6, 2.5, 3.9, 1.1],\n",
       "        [5.9, 3.2, 4.8, 1.8],\n",
       "        [6.1, 2.8, 4. , 1.3],\n",
       "        [6.3, 2.5, 4.9, 1.5],\n",
       "        [6.1, 2.8, 4.7, 1.2],\n",
       "        [6.4, 2.9, 4.3, 1.3],\n",
       "        [6.6, 3. , 4.4, 1.4],\n",
       "        [6.8, 2.8, 4.8, 1.4],\n",
       "        [6.7, 3. , 5. , 1.7],\n",
       "        [6. , 2.9, 4.5, 1.5],\n",
       "        [5.7, 2.6, 3.5, 1. ],\n",
       "        [5.5, 2.4, 3.8, 1.1],\n",
       "        [5.5, 2.4, 3.7, 1. ],\n",
       "        [5.8, 2.7, 3.9, 1.2],\n",
       "        [6. , 2.7, 5.1, 1.6],\n",
       "        [5.4, 3. , 4.5, 1.5],\n",
       "        [6. , 3.4, 4.5, 1.6],\n",
       "        [6.7, 3.1, 4.7, 1.5],\n",
       "        [6.3, 2.3, 4.4, 1.3],\n",
       "        [5.6, 3. , 4.1, 1.3],\n",
       "        [5.5, 2.5, 4. , 1.3],\n",
       "        [5.5, 2.6, 4.4, 1.2],\n",
       "        [6.1, 3. , 4.6, 1.4],\n",
       "        [5.8, 2.6, 4. , 1.2],\n",
       "        [5. , 2.3, 3.3, 1. ],\n",
       "        [5.6, 2.7, 4.2, 1.3],\n",
       "        [5.7, 3. , 4.2, 1.2],\n",
       "        [5.7, 2.9, 4.2, 1.3],\n",
       "        [6.2, 2.9, 4.3, 1.3],\n",
       "        [5.1, 2.5, 3. , 1.1],\n",
       "        [5.7, 2.8, 4.1, 1.3],\n",
       "        [6.3, 3.3, 6. , 2.5],\n",
       "        [5.8, 2.7, 5.1, 1.9],\n",
       "        [7.1, 3. , 5.9, 2.1],\n",
       "        [6.3, 2.9, 5.6, 1.8],\n",
       "        [6.5, 3. , 5.8, 2.2],\n",
       "        [7.6, 3. , 6.6, 2.1],\n",
       "        [4.9, 2.5, 4.5, 1.7],\n",
       "        [7.3, 2.9, 6.3, 1.8],\n",
       "        [6.7, 2.5, 5.8, 1.8],\n",
       "        [7.2, 3.6, 6.1, 2.5],\n",
       "        [6.5, 3.2, 5.1, 2. ],\n",
       "        [6.4, 2.7, 5.3, 1.9],\n",
       "        [6.8, 3. , 5.5, 2.1],\n",
       "        [5.7, 2.5, 5. , 2. ],\n",
       "        [5.8, 2.8, 5.1, 2.4],\n",
       "        [6.4, 3.2, 5.3, 2.3],\n",
       "        [6.5, 3. , 5.5, 1.8],\n",
       "        [7.7, 3.8, 6.7, 2.2],\n",
       "        [7.7, 2.6, 6.9, 2.3],\n",
       "        [6. , 2.2, 5. , 1.5],\n",
       "        [6.9, 3.2, 5.7, 2.3],\n",
       "        [5.6, 2.8, 4.9, 2. ],\n",
       "        [7.7, 2.8, 6.7, 2. ],\n",
       "        [6.3, 2.7, 4.9, 1.8],\n",
       "        [6.7, 3.3, 5.7, 2.1],\n",
       "        [7.2, 3.2, 6. , 1.8],\n",
       "        [6.2, 2.8, 4.8, 1.8],\n",
       "        [6.1, 3. , 4.9, 1.8],\n",
       "        [6.4, 2.8, 5.6, 2.1],\n",
       "        [7.2, 3. , 5.8, 1.6],\n",
       "        [7.4, 2.8, 6.1, 1.9],\n",
       "        [7.9, 3.8, 6.4, 2. ],\n",
       "        [6.4, 2.8, 5.6, 2.2],\n",
       "        [6.3, 2.8, 5.1, 1.5],\n",
       "        [6.1, 2.6, 5.6, 1.4],\n",
       "        [7.7, 3. , 6.1, 2.3],\n",
       "        [6.3, 3.4, 5.6, 2.4],\n",
       "        [6.4, 3.1, 5.5, 1.8],\n",
       "        [6. , 3. , 4.8, 1.8],\n",
       "        [6.9, 3.1, 5.4, 2.1],\n",
       "        [6.7, 3.1, 5.6, 2.4],\n",
       "        [6.9, 3.1, 5.1, 2.3],\n",
       "        [5.8, 2.7, 5.1, 1.9],\n",
       "        [6.8, 3.2, 5.9, 2.3],\n",
       "        [6.7, 3.3, 5.7, 2.5],\n",
       "        [6.7, 3. , 5.2, 2.3],\n",
       "        [6.3, 2.5, 5. , 1.9],\n",
       "        [6.5, 3. , 5.2, 2. ],\n",
       "        [6.2, 3.4, 5.4, 2.3],\n",
       "        [5.9, 3. , 5.1, 1.8]]),\n",
       " 'feature_names': ['sepal length (cm)',\n",
       "  'sepal width (cm)',\n",
       "  'petal length (cm)',\n",
       "  'petal width (cm)'],\n",
       " 'target': array([0, 0, 0, 0, 0, 0, 0, 0, 0, 0, 0, 0, 0, 0, 0, 0, 0, 0, 0, 0, 0, 0,\n",
       "        0, 0, 0, 0, 0, 0, 0, 0, 0, 0, 0, 0, 0, 0, 0, 0, 0, 0, 0, 0, 0, 0,\n",
       "        0, 0, 0, 0, 0, 0, 1, 1, 1, 1, 1, 1, 1, 1, 1, 1, 1, 1, 1, 1, 1, 1,\n",
       "        1, 1, 1, 1, 1, 1, 1, 1, 1, 1, 1, 1, 1, 1, 1, 1, 1, 1, 1, 1, 1, 1,\n",
       "        1, 1, 1, 1, 1, 1, 1, 1, 1, 1, 1, 1, 2, 2, 2, 2, 2, 2, 2, 2, 2, 2,\n",
       "        2, 2, 2, 2, 2, 2, 2, 2, 2, 2, 2, 2, 2, 2, 2, 2, 2, 2, 2, 2, 2, 2,\n",
       "        2, 2, 2, 2, 2, 2, 2, 2, 2, 2, 2, 2, 2, 2, 2, 2, 2, 2]),\n",
       " 'target_names': array(['setosa', 'versicolor', 'virginica'], dtype='<U10')}"
      ]
     },
     "execution_count": 76,
     "metadata": {},
     "output_type": "execute_result"
    }
   ],
   "source": [
    "from sklearn import datasets\n",
    "\n",
    "iris = datasets.load_iris()\n",
    "iris"
   ]
  },
  {
   "cell_type": "code",
   "execution_count": 104,
   "metadata": {},
   "outputs": [
    {
     "name": "stdout",
     "output_type": "stream",
     "text": [
      "['sepal length (cm)', 'sepal width (cm)', 'petal length (cm)', 'petal width (cm)']\n",
      "[[1.0, 1.0, 1.0, 1.0], [0.0, 1.0, 0.3333333333333333, 1.0], [0.0, 0.6666666666666666, 1.0, 1.0], [0.0, 0.0, 0.0, 1.0]]\n"
     ]
    },
    {
     "data": {
      "image/png": "[encoded data removed]",
      "text/plain": [
       "<Figure size 1152x1152 with 1 Axes>"
      ]
     },
     "metadata": {
      "needs_background": "light"
     },
     "output_type": "display_data"
    }
   ],
   "source": [
    "df = pd.DataFrame(iris.data, columns=iris.feature_names)\n",
    "cat_cols = list(df.select_dtypes(include=['object']).columns)\n",
    "num_cols = list(df.select_dtypes(exclude=['object']).columns)\n",
    "print(num_cols)\n",
    "\n",
    "# build 'mean(feat1 > feat2)' plot\n",
    "gt_matrix(num_cols,df, 16)"
   ]
  },
  {
   "cell_type": "markdown",
   "metadata": {},
   "source": [
    "**显示不同类别数据的直方图分布**\n",
    "\n",
    "用于观察不同类的某个变量值的分布，非常不错的。"
   ]
  },
  {
   "cell_type": "code",
   "execution_count": 110,
   "metadata": {},
   "outputs": [
    {
     "name": "stdout",
     "output_type": "stream",
     "text": [
      "   sepal length (cm)  sepal width (cm)  petal length (cm)  petal width (cm)\n",
      "0                5.1               3.5                1.4               0.2\n",
      "1                4.9               3.0                1.4               0.2\n",
      "2                4.7               3.2                1.3               0.2\n",
      "3                4.6               3.1                1.5               0.2\n",
      "4                5.0               3.6                1.4               0.2\n"
     ]
    },
    {
     "name": "stderr",
     "output_type": "stream",
     "text": [
      "/usr/local/lib/python3.5/dist-packages/matplotlib/axes/_axes.py:6499: MatplotlibDeprecationWarning: \n",
      "The 'normed' kwarg was deprecated in Matplotlib 2.1 and will be removed in 3.1. Use 'density' instead.\n",
      "  alternative=\"'density'\", removal=\"3.1\")\n"
     ]
    },
    {
     "data": {
      "image/png": "[encoded data removed]",
      "text/plain": [
       "<Figure size 1152x288 with 1 Axes>"
      ]
     },
     "metadata": {
      "needs_background": "light"
     },
     "output_type": "display_data"
    }
   ],
   "source": [
    "def hist_it1(feat, normed=True):\n",
    "    plt.figure(figsize=(16,4))\n",
    "    feat[Y==0].hist(bins=100,range=(feat.min(),feat.max()),normed=True,alpha=0.5)  #看上去normed好像没啥用\n",
    "    feat[Y==1].hist(bins=100,range=(feat.min(),feat.max()),normed=True,alpha=0.5)\n",
    "#     plt.ylim((0,1))\n",
    "\n",
    "Y = iris.target\n",
    "print(df.head())\n",
    "\n",
    "# 下图中棕色部分显示的公共部分\n",
    "hist_it1(df['sepal length (cm)'])\n",
    "\n",
    "\n",
    "\n"
   ]
  },
  {
   "cell_type": "code",
   "execution_count": 111,
   "metadata": {},
   "outputs": [
    {
     "name": "stderr",
     "output_type": "stream",
     "text": [
      "/usr/local/lib/python3.5/dist-packages/matplotlib/axes/_axes.py:6499: MatplotlibDeprecationWarning: \n",
      "The 'normed' kwarg was deprecated in Matplotlib 2.1 and will be removed in 3.1. Use 'density' instead.\n",
      "  alternative=\"'density'\", removal=\"3.1\")\n"
     ]
    },
    {
     "data": {
      "text/plain": [
       "array([[<matplotlib.axes._subplots.AxesSubplot object at 0x7f74b3636860>,\n",
       "        <matplotlib.axes._subplots.AxesSubplot object at 0x7f74b36d5518>],\n",
       "       [<matplotlib.axes._subplots.AxesSubplot object at 0x7f74b3935ef0>,\n",
       "        <matplotlib.axes._subplots.AxesSubplot object at 0x7f74b3ae55c0>]],\n",
       "      dtype=object)"
      ]
     },
     "execution_count": 111,
     "metadata": {},
     "output_type": "execute_result"
    },
    {
     "data": {
      "image/png": "[encoded data removed]",
      "text/plain": [
       "<Figure size 432x288 with 4 Axes>"
      ]
     },
     "metadata": {
      "needs_background": "light"
     },
     "output_type": "display_data"
    }
   ],
   "source": [
    "df.hist(bins=100,normed=True,alpha=0.5)"
   ]
  },
  {
   "cell_type": "markdown",
   "metadata": {},
   "source": [
    "### 1.41  python的一些画图工具 【2018-11-15】\n",
    "\n",
    "https://www.zhihu.com/question/39684179\n",
    "\n",
    "Visualization tools\n",
    "- [Seaborn](https://seaborn.pydata.org/) : 基于matplotlib的高级可视化效果库\n",
    "- [Plotly](https://plot.ly/python/)：交互信息可视化的工具。实现了在线导入数据做可视化并保存内容在云端server的功能。\n",
    "- [Bokeh](https://github.com/bokeh/bokeh)：可以是可以交互\n",
    "- [ggplot](http://ggplot.yhathq.com/): 和R语言那个GGPLOT2比起来，简直是感觉在用两个包\n",
    "- [Graph visualization with NetworkX](https://networkx.github.io/)：\n",
    "\n"
   ]
  },
  {
   "cell_type": "code",
   "execution_count": 11,
   "metadata": {},
   "outputs": [
    {
     "data": {
      "text/plain": [
       "-2"
      ]
     },
     "execution_count": 11,
     "metadata": {},
     "output_type": "execute_result"
    }
   ],
   "source": [
    "~True & ~True"
   ]
  },
  {
   "cell_type": "code",
   "execution_count": 13,
   "metadata": {},
   "outputs": [
    {
     "data": {
      "text/plain": [
       "-2"
      ]
     },
     "execution_count": 13,
     "metadata": {},
     "output_type": "execute_result"
    }
   ],
   "source": [
    "~False & ~True"
   ]
  },
  {
   "cell_type": "code",
   "execution_count": 12,
   "metadata": {},
   "outputs": [
    {
     "data": {
      "text/plain": [
       "-1"
      ]
     },
     "execution_count": 12,
     "metadata": {},
     "output_type": "execute_result"
    }
   ],
   "source": [
    "~False & ~False"
   ]
  }
 ],
 "metadata": {
  "kernelspec": {
   "display_name": "Python 3",
   "language": "python",
   "name": "python3"
  },
  "language_info": {
   "codemirror_mode": {
    "name": "ipython",
    "version": 3
   },
   "file_extension": ".py",
   "mimetype": "text/x-python",
   "name": "python",
   "nbconvert_exporter": "python",
   "pygments_lexer": "ipython3",
   "version": "3.5.2"
  }
 },
 "nbformat": 4,
 "nbformat_minor": 2
}
